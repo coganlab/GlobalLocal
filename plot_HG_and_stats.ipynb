{
  "cells": [
    {
      "attachments": {},
      "cell_type": "markdown",
      "metadata": {},
      "source": [
        "\n",
        "# Example of High Gamma Filter\n",
        "\n",
        "Below is a code sample for extracting high gamma power from a raw data file, followed by permutation cluster stats on that high gamma power data\n"
      ]
    },
    {
      "cell_type": "code",
      "execution_count": 3,
      "metadata": {
        "collapsed": false
      },
      "outputs": [
        {
          "name": "stdout",
          "output_type": "stream",
          "text": [
            "['c:\\\\Users\\\\jz421\\\\Desktop\\\\GlobalLocal', 'C:\\\\Users\\\\jz421\\\\Desktop\\\\GlobalLocal\\\\IEEG_Pipelines', 'c:\\\\Users\\\\jz421\\\\AppData\\\\Local\\\\anaconda3\\\\envs\\\\ieeg\\\\python311.zip', 'c:\\\\Users\\\\jz421\\\\AppData\\\\Local\\\\anaconda3\\\\envs\\\\ieeg\\\\DLLs', 'c:\\\\Users\\\\jz421\\\\AppData\\\\Local\\\\anaconda3\\\\envs\\\\ieeg\\\\Lib', 'c:\\\\Users\\\\jz421\\\\AppData\\\\Local\\\\anaconda3\\\\envs\\\\ieeg', '', 'C:\\\\Users\\\\jz421\\\\AppData\\\\Roaming\\\\Python\\\\Python311\\\\site-packages', 'C:\\\\Users\\\\jz421\\\\AppData\\\\Roaming\\\\Python\\\\Python311\\\\site-packages\\\\win32', 'C:\\\\Users\\\\jz421\\\\AppData\\\\Roaming\\\\Python\\\\Python311\\\\site-packages\\\\win32\\\\lib', 'C:\\\\Users\\\\jz421\\\\AppData\\\\Roaming\\\\Python\\\\Python311\\\\site-packages\\\\Pythonwin', 'c:\\\\Users\\\\jz421\\\\AppData\\\\Local\\\\anaconda3\\\\envs\\\\ieeg\\\\Lib\\\\site-packages', 'c:\\\\Users\\\\jz421\\\\AppData\\\\Local\\\\anaconda3\\\\envs\\\\ieeg\\\\Lib\\\\site-packages\\\\win32', 'c:\\\\Users\\\\jz421\\\\AppData\\\\Local\\\\anaconda3\\\\envs\\\\ieeg\\\\Lib\\\\site-packages\\\\win32\\\\lib', 'c:\\\\Users\\\\jz421\\\\AppData\\\\Local\\\\anaconda3\\\\envs\\\\ieeg\\\\Lib\\\\site-packages\\\\Pythonwin']\n"
          ]
        },
        {
          "name": "stderr",
          "output_type": "stream",
          "text": [
            "c:\\Users\\jz421\\AppData\\Local\\anaconda3\\envs\\ieeg\\Lib\\site-packages\\tqdm\\auto.py:21: TqdmWarning: IProgress not found. Please update jupyter and ipywidgets. See https://ipywidgets.readthedocs.io/en/stable/user_install.html\n",
            "  from .autonotebook import tqdm as notebook_tqdm\n"
          ]
        }
      ],
      "source": [
        "import sys\n",
        "print(sys.path)\n",
        "sys.path.append(\"C:/Users/jz421/Desktop/GlobalLocal/IEEG_Pipelines/\") #need to do this cuz otherwise ieeg isn't added to path...\n",
        "\n",
        "import ieeg.viz.utils\n",
        "from ieeg.navigate import channel_outlier_marker, trial_ieeg, crop_empty_data, outliers_to_nan\n",
        "from ieeg.io import raw_from_layout, get_data\n",
        "from ieeg.timefreq.utils import crop_pad\n",
        "from ieeg.calc import stats, scaling\n",
        "from ieeg.process import parallelize\n",
        "from ieeg.timefreq import gamma\n",
        "from ieeg.calc.scaling import rescale\n",
        "from misc_functions import calculate_RTs\n",
        "\n",
        "\n",
        "import matplotlib.pyplot as plt\n",
        "import matplotlib.ticker as ticker\n",
        "\n",
        "from bids import BIDSLayout\n",
        "import mne\n",
        "import os\n",
        "import numpy as np\n",
        "import copy\n",
        "\n",
        "\n",
        "from misc_functions import calculate_RTs, save_sig_chans, save_channels_to_file\n",
        "import pickle"
      ]
    },
    {
      "cell_type": "code",
      "execution_count": 4,
      "metadata": {},
      "outputs": [],
      "source": [
        "def relabel_axes(old_min, old_max, new_min, new_max):\n",
        "    scale = (new_max - new_min) / (old_max - old_min)\n",
        "\n",
        "    def format_func(value, tick_number):\n",
        "        return new_min + value * scale\n",
        "\n",
        "    plt.gca().xaxis.set_major_formatter(ticker.FuncFormatter(format_func))"
      ]
    },
    {
      "cell_type": "markdown",
      "metadata": {},
      "source": [
        "### aaron try running this code and see how long it takes.."
      ]
    },
    {
      "cell_type": "code",
      "execution_count": 1,
      "metadata": {},
      "outputs": [
        {
          "name": "stdout",
          "output_type": "stream",
          "text": [
            "['c:\\\\Users\\\\jz421\\\\Desktop\\\\GlobalLocal', 'C:\\\\Users\\\\jz421\\\\Desktop\\\\GlobalLocal\\\\IEEG_Pipelines', 'c:\\\\Users\\\\jz421\\\\AppData\\\\Local\\\\anaconda3\\\\envs\\\\ieeg\\\\python311.zip', 'c:\\\\Users\\\\jz421\\\\AppData\\\\Local\\\\anaconda3\\\\envs\\\\ieeg\\\\DLLs', 'c:\\\\Users\\\\jz421\\\\AppData\\\\Local\\\\anaconda3\\\\envs\\\\ieeg\\\\Lib', 'c:\\\\Users\\\\jz421\\\\AppData\\\\Local\\\\anaconda3\\\\envs\\\\ieeg', '', 'C:\\\\Users\\\\jz421\\\\AppData\\\\Roaming\\\\Python\\\\Python311\\\\site-packages', 'C:\\\\Users\\\\jz421\\\\AppData\\\\Roaming\\\\Python\\\\Python311\\\\site-packages\\\\win32', 'C:\\\\Users\\\\jz421\\\\AppData\\\\Roaming\\\\Python\\\\Python311\\\\site-packages\\\\win32\\\\lib', 'C:\\\\Users\\\\jz421\\\\AppData\\\\Roaming\\\\Python\\\\Python311\\\\site-packages\\\\Pythonwin', 'c:\\\\Users\\\\jz421\\\\AppData\\\\Local\\\\anaconda3\\\\envs\\\\ieeg\\\\Lib\\\\site-packages', 'c:\\\\Users\\\\jz421\\\\AppData\\\\Local\\\\anaconda3\\\\envs\\\\ieeg\\\\Lib\\\\site-packages\\\\win32', 'c:\\\\Users\\\\jz421\\\\AppData\\\\Local\\\\anaconda3\\\\envs\\\\ieeg\\\\Lib\\\\site-packages\\\\win32\\\\lib', 'c:\\\\Users\\\\jz421\\\\AppData\\\\Local\\\\anaconda3\\\\envs\\\\ieeg\\\\Lib\\\\site-packages\\\\Pythonwin']\n"
          ]
        },
        {
          "name": "stderr",
          "output_type": "stream",
          "text": [
            "c:\\Users\\jz421\\AppData\\Local\\anaconda3\\envs\\ieeg\\Lib\\site-packages\\tqdm\\auto.py:21: TqdmWarning: IProgress not found. Please update jupyter and ipywidgets. See https://ipywidgets.readthedocs.io/en/stable/user_install.html\n",
            "  from .autonotebook import tqdm as notebook_tqdm\n"
          ]
        },
        {
          "name": "stdout",
          "output_type": "stream",
          "text": [
            "Extracting EDF parameters from C:\\Users\\jz421\\Box\\CoganLab\\BIDS-1.1_GlobalLocal\\BIDS\\derivatives\\clean\\sub-D0059\\ieeg\\sub-D0059_task-GlobalLocal_acq-01_run-01_desc-clean_ieeg.edf...\n",
            "EDF file detected\n",
            "Setting channel info structure...\n",
            "Creating raw.info structure...\n",
            "Reading events from C:\\Users\\jz421\\Box\\CoganLab\\BIDS-1.1_GlobalLocal\\BIDS\\derivatives\\clean\\sub-D0059\\ieeg\\sub-D0059_task-GlobalLocal_acq-01_run-01_desc-clean_events.tsv.\n",
            "Reading channel info from C:\\Users\\jz421\\Box\\CoganLab\\BIDS-1.1_GlobalLocal\\BIDS\\derivatives\\clean\\sub-D0059\\ieeg\\sub-D0059_task-GlobalLocal_acq-01_run-01_desc-clean_channels.tsv.\n",
            "Reading electrode coords from C:\\Users\\jz421\\Box\\CoganLab\\BIDS-1.1_GlobalLocal\\BIDS\\derivatives\\clean\\sub-D0059\\ieeg\\sub-D0059_acq-01_space-ACPC_electrodes.tsv.\n",
            "Extracting EDF parameters from C:\\Users\\jz421\\Box\\CoganLab\\BIDS-1.1_GlobalLocal\\BIDS\\derivatives\\clean\\sub-D0059\\ieeg\\sub-D0059_task-GlobalLocal_acq-01_run-02_desc-clean_ieeg.edf...\n",
            "EDF file detected\n",
            "Setting channel info structure...\n",
            "Creating raw.info structure...\n"
          ]
        },
        {
          "name": "stderr",
          "output_type": "stream",
          "text": [
            "C:\\Users\\jz421\\Desktop\\GlobalLocal\\IEEG_Pipelines\\ieeg\\io.py:113: RuntimeWarning: The number of channels in the channels.tsv sidecar file (185) does not match the number of channels in the raw data file (184). Will not try to set channel names.\n",
            "  new_raw = read_raw_bids(bids_path=BIDS_path, verbose=verbose)\n",
            "C:\\Users\\jz421\\Desktop\\GlobalLocal\\IEEG_Pipelines\\ieeg\\io.py:113: RuntimeWarning: Cannot set channel type for the following channels, as they are missing in the raw data: Trigger\n",
            "  new_raw = read_raw_bids(bids_path=BIDS_path, verbose=verbose)\n"
          ]
        },
        {
          "name": "stdout",
          "output_type": "stream",
          "text": [
            "Reading events from C:\\Users\\jz421\\Box\\CoganLab\\BIDS-1.1_GlobalLocal\\BIDS\\derivatives\\clean\\sub-D0059\\ieeg\\sub-D0059_task-GlobalLocal_acq-01_run-02_desc-clean_events.tsv.\n",
            "Reading channel info from C:\\Users\\jz421\\Box\\CoganLab\\BIDS-1.1_GlobalLocal\\BIDS\\derivatives\\clean\\sub-D0059\\ieeg\\sub-D0059_task-GlobalLocal_acq-01_run-02_desc-clean_channels.tsv.\n",
            "Reading electrode coords from C:\\Users\\jz421\\Box\\CoganLab\\BIDS-1.1_GlobalLocal\\BIDS\\derivatives\\clean\\sub-D0059\\ieeg\\sub-D0059_acq-01_space-ACPC_electrodes.tsv.\n",
            "Extracting EDF parameters from C:\\Users\\jz421\\Box\\CoganLab\\BIDS-1.1_GlobalLocal\\BIDS\\derivatives\\clean\\sub-D0059\\ieeg\\sub-D0059_task-GlobalLocal_acq-01_run-03_desc-clean_ieeg.edf...\n",
            "EDF file detected\n",
            "Setting channel info structure...\n",
            "Creating raw.info structure...\n"
          ]
        },
        {
          "name": "stderr",
          "output_type": "stream",
          "text": [
            "C:\\Users\\jz421\\Desktop\\GlobalLocal\\IEEG_Pipelines\\ieeg\\io.py:113: RuntimeWarning: Omitted 228 annotation(s) that were outside data range.\n",
            "  new_raw = read_raw_bids(bids_path=BIDS_path, verbose=verbose)\n",
            "C:\\Users\\jz421\\Desktop\\GlobalLocal\\IEEG_Pipelines\\ieeg\\io.py:113: RuntimeWarning: The number of channels in the channels.tsv sidecar file (185) does not match the number of channels in the raw data file (184). Will not try to set channel names.\n",
            "  new_raw = read_raw_bids(bids_path=BIDS_path, verbose=verbose)\n",
            "C:\\Users\\jz421\\Desktop\\GlobalLocal\\IEEG_Pipelines\\ieeg\\io.py:113: RuntimeWarning: Cannot set channel type for the following channels, as they are missing in the raw data: Trigger\n",
            "  new_raw = read_raw_bids(bids_path=BIDS_path, verbose=verbose)\n"
          ]
        },
        {
          "name": "stdout",
          "output_type": "stream",
          "text": [
            "Reading events from C:\\Users\\jz421\\Box\\CoganLab\\BIDS-1.1_GlobalLocal\\BIDS\\derivatives\\clean\\sub-D0059\\ieeg\\sub-D0059_task-GlobalLocal_acq-01_run-03_desc-clean_events.tsv.\n",
            "Reading channel info from C:\\Users\\jz421\\Box\\CoganLab\\BIDS-1.1_GlobalLocal\\BIDS\\derivatives\\clean\\sub-D0059\\ieeg\\sub-D0059_task-GlobalLocal_acq-01_run-03_desc-clean_channels.tsv.\n",
            "Reading electrode coords from C:\\Users\\jz421\\Box\\CoganLab\\BIDS-1.1_GlobalLocal\\BIDS\\derivatives\\clean\\sub-D0059\\ieeg\\sub-D0059_acq-01_space-ACPC_electrodes.tsv.\n",
            "Extracting EDF parameters from C:\\Users\\jz421\\Box\\CoganLab\\BIDS-1.1_GlobalLocal\\BIDS\\derivatives\\clean\\sub-D0059\\ieeg\\sub-D0059_task-GlobalLocal_acq-01_run-04_desc-clean_ieeg.edf...\n",
            "EDF file detected\n",
            "Setting channel info structure...\n",
            "Creating raw.info structure...\n"
          ]
        },
        {
          "name": "stderr",
          "output_type": "stream",
          "text": [
            "C:\\Users\\jz421\\Desktop\\GlobalLocal\\IEEG_Pipelines\\ieeg\\io.py:113: RuntimeWarning: Omitted 228 annotation(s) that were outside data range.\n",
            "  new_raw = read_raw_bids(bids_path=BIDS_path, verbose=verbose)\n",
            "C:\\Users\\jz421\\Desktop\\GlobalLocal\\IEEG_Pipelines\\ieeg\\io.py:113: RuntimeWarning: The number of channels in the channels.tsv sidecar file (185) does not match the number of channels in the raw data file (184). Will not try to set channel names.\n",
            "  new_raw = read_raw_bids(bids_path=BIDS_path, verbose=verbose)\n",
            "C:\\Users\\jz421\\Desktop\\GlobalLocal\\IEEG_Pipelines\\ieeg\\io.py:113: RuntimeWarning: Cannot set channel type for the following channels, as they are missing in the raw data: Trigger\n",
            "  new_raw = read_raw_bids(bids_path=BIDS_path, verbose=verbose)\n"
          ]
        },
        {
          "name": "stdout",
          "output_type": "stream",
          "text": [
            "Reading events from C:\\Users\\jz421\\Box\\CoganLab\\BIDS-1.1_GlobalLocal\\BIDS\\derivatives\\clean\\sub-D0059\\ieeg\\sub-D0059_task-GlobalLocal_acq-01_run-04_desc-clean_events.tsv.\n",
            "Reading channel info from C:\\Users\\jz421\\Box\\CoganLab\\BIDS-1.1_GlobalLocal\\BIDS\\derivatives\\clean\\sub-D0059\\ieeg\\sub-D0059_task-GlobalLocal_acq-01_run-04_desc-clean_channels.tsv.\n",
            "Reading electrode coords from C:\\Users\\jz421\\Box\\CoganLab\\BIDS-1.1_GlobalLocal\\BIDS\\derivatives\\clean\\sub-D0059\\ieeg\\sub-D0059_acq-01_space-ACPC_electrodes.tsv.\n"
          ]
        },
        {
          "name": "stderr",
          "output_type": "stream",
          "text": [
            "C:\\Users\\jz421\\Desktop\\GlobalLocal\\IEEG_Pipelines\\ieeg\\io.py:113: RuntimeWarning: Omitted 226 annotation(s) that were outside data range.\n",
            "  new_raw = read_raw_bids(bids_path=BIDS_path, verbose=verbose)\n",
            "C:\\Users\\jz421\\Desktop\\GlobalLocal\\IEEG_Pipelines\\ieeg\\io.py:113: RuntimeWarning: The number of channels in the channels.tsv sidecar file (185) does not match the number of channels in the raw data file (184). Will not try to set channel names.\n",
            "  new_raw = read_raw_bids(bids_path=BIDS_path, verbose=verbose)\n",
            "C:\\Users\\jz421\\Desktop\\GlobalLocal\\IEEG_Pipelines\\ieeg\\io.py:113: RuntimeWarning: Cannot set channel type for the following channels, as they are missing in the raw data: Trigger\n",
            "  new_raw = read_raw_bids(bids_path=BIDS_path, verbose=verbose)\n"
          ]
        },
        {
          "name": "stdout",
          "output_type": "stream",
          "text": [
            "good channels before dropping bads: 184\n",
            "filt channels before dropping bads: 184\n",
            "outlier round 1 channels: ['LMPF15']\n",
            "outlier round 2 channels: ['LMPF15', 'LASP3']\n",
            "outlier round 2 channels: ['LMPF15', 'LASP3', 'LASP5']\n",
            "outlier round 2 channels: ['LMPF15', 'LASP3', 'LASP5', 'LASP6']\n",
            "outlier round 2 channels: ['LMPF15', 'LASP3', 'LASP5', 'LASP6', 'LMPT2']\n",
            "outlier round 2 channels: ['LMPF15', 'LASP3', 'LASP5', 'LASP6', 'LMPT2', 'LPT16']\n",
            "Bad channels in 'good': ['LMPF15', 'LASP3', 'LASP5', 'LASP6', 'LMPT2', 'LPT16']\n",
            "Bad channels in 'good' after dropping once: []\n",
            "good channels after dropping bads: 178\n",
            "filt channels after dropping bads: 178\n",
            "Reading 0 ... 8769535  =      0.000 ...  4282.000 secs...\n",
            "Applying average reference.\n",
            "Applying a custom ('sEEG',) reference.\n",
            "Used Annotations descriptions: ['Response/c25/r25', 'Response/c25/r75', 'Response/c25/s25', 'Response/c25/s75', 'Response/c75/n25', 'Response/c75/r25', 'Response/c75/r75', 'Response/c75/s25', 'Response/c75/s75', 'Response/i25/n25', 'Response/i25/n75', 'Response/i25/r25', 'Response/i25/r75', 'Response/i25/s25', 'Response/i25/s75', 'Response/i75/n75', 'Response/i75/r25', 'Response/i75/r75', 'Response/i75/s25', 'Response/i75/s75', 'Stimulus/c25/r25', 'Stimulus/c25/r75', 'Stimulus/c25/s25', 'Stimulus/c25/s75', 'Stimulus/c75/n25', 'Stimulus/c75/r25', 'Stimulus/c75/r75', 'Stimulus/c75/s25', 'Stimulus/c75/s75', 'Stimulus/i25/n25', 'Stimulus/i25/n75', 'Stimulus/i25/r25', 'Stimulus/i25/r75', 'Stimulus/i25/s25', 'Stimulus/i25/s75', 'Stimulus/i75/n75', 'Stimulus/i75/r25', 'Stimulus/i75/r75', 'Stimulus/i75/s25', 'Stimulus/i75/s75', 'experimentStart']\n",
            "Not setting metadata\n",
            "1 matching events found\n",
            "No baseline correction applied\n",
            "0 projection items activated\n",
            "Using data from preloaded Raw for 1 events and 206849 original time points ...\n",
            "0 bad epochs dropped\n"
          ]
        },
        {
          "name": "stderr",
          "output_type": "stream",
          "text": [
            "100%|██████████| 1/1 [01:00<00:00, 60.92s/it]\n"
          ]
        },
        {
          "name": "stdout",
          "output_type": "stream",
          "text": [
            "Reading 0 ... 6582517  =      0.000 ...  3214.120 secs...\n",
            "Applying average reference.\n",
            "Applying a custom ('sEEG',) reference.\n",
            "Used Annotations descriptions: ['Response/c25/r25', 'Response/c25/r75', 'Response/c25/s25', 'Response/c25/s75', 'Response/c75/n25', 'Response/c75/r25', 'Response/c75/r75', 'Response/c75/s25', 'Response/c75/s75', 'Response/i25/n25', 'Response/i25/n75', 'Response/i25/r25', 'Response/i25/r75', 'Response/i25/s25', 'Response/i25/s75', 'Response/i75/n75', 'Response/i75/r25', 'Response/i75/r75', 'Response/i75/s25', 'Response/i75/s75', 'Stimulus/c25/r25', 'Stimulus/c25/r75', 'Stimulus/c25/s25', 'Stimulus/c25/s75', 'Stimulus/c75/n25', 'Stimulus/c75/r25', 'Stimulus/c75/r75', 'Stimulus/c75/s25', 'Stimulus/c75/s75', 'Stimulus/i25/n25', 'Stimulus/i25/n75', 'Stimulus/i25/r25', 'Stimulus/i25/r75', 'Stimulus/i25/s25', 'Stimulus/i25/s75', 'Stimulus/i75/n75', 'Stimulus/i75/r25', 'Stimulus/i75/r75', 'Stimulus/i75/s25', 'Stimulus/i75/s75', 'experimentStart']\n",
            "Not setting metadata\n",
            "447 matching events found\n",
            "No baseline correction applied\n",
            "0 projection items activated\n",
            "Using data from preloaded Raw for 447 events and 7169 original time points ...\n",
            "0 bad epochs dropped\n"
          ]
        },
        {
          "name": "stderr",
          "output_type": "stream",
          "text": [
            "100%|██████████| 447/447 [08:54<00:00,  1.20s/it]\n"
          ]
        },
        {
          "name": "stdout",
          "output_type": "stream",
          "text": [
            "Applying baseline correction (mode: zscore)\n"
          ]
        },
        {
          "name": "stderr",
          "output_type": "stream",
          "text": [
            "C:\\Users\\jz421\\AppData\\Local\\Temp\\ipykernel_6920\\246700060.py:144: RuntimeWarning: The measurement information indicates a low-pass frequency of 1024.0 Hz. The decim=2 parameter will result in a sampling frequency of 1024.0 Hz, which can cause aliasing artifacts.\n",
            "  HG_base.decimate(2)\n",
            "C:\\Users\\jz421\\AppData\\Local\\Temp\\ipykernel_6920\\246700060.py:145: RuntimeWarning: The measurement information indicates a low-pass frequency of 1024.0 Hz. The decim=2 parameter will result in a sampling frequency of 1024.0 Hz, which can cause aliasing artifacts.\n",
            "  HG_ev1.decimate(2)\n"
          ]
        },
        {
          "name": "stdout",
          "output_type": "stream",
          "text": [
            "NOTE: pick_channels() is a legacy function. New code should use inst.pick(...).\n",
            "NOTE: pick_channels() is a legacy function. New code should use inst.pick(...).\n",
            "Shape of HG_base._data: (1, 178, 102401)\n",
            "Shape of HG_ev1._data: (447, 178, 2561)\n",
            "shape of HG_ev1_evoke_rescaled._data: (178, 5121)\n",
            "about to plot if not stimulus\n",
            "plotted non stimulus\n",
            "(448, 178, 228)\n"
          ]
        }
      ],
      "source": [
        "###\n",
        "import sys\n",
        "print(sys.path)\n",
        "sys.path.append(\"C:/Users/jz421/Desktop/GlobalLocal/IEEG_Pipelines/\") #need to do this cuz otherwise ieeg isn't added to path...\n",
        "\n",
        "from ieeg.navigate import channel_outlier_marker, trial_ieeg, crop_empty_data, \\\n",
        "    outliers_to_nan\n",
        "from ieeg.io import raw_from_layout, get_data\n",
        "from ieeg.timefreq.utils import crop_pad\n",
        "from ieeg.timefreq import gamma\n",
        "from ieeg.calc.scaling import rescale\n",
        "import mne\n",
        "import os\n",
        "import numpy as np\n",
        "from ieeg.calc.reshape import make_data_same\n",
        "from ieeg.calc.stats import time_perm_cluster\n",
        "\n",
        "from misc_functions import calculate_RTs, save_channels_to_file, save_sig_chans\n",
        "import matplotlib.pyplot as plt\n",
        "\n",
        "\n",
        "def get_baseline(inst: mne.io.BaseRaw, base_times_list: list[tuple[float, float]]):\n",
        "    all_data = []\n",
        "    all_events = []\n",
        "    \n",
        "    inst = inst.copy()\n",
        "    inst.load_data()\n",
        "    ch_type = inst.get_channel_types(only_data_chs=True)[0]\n",
        "    inst.set_eeg_reference(ref_channels=\"average\", ch_type=ch_type)\n",
        "    \n",
        "    last_sample = 0\n",
        "    for base_times in base_times_list:\n",
        "        adjusted_base_times = [base_times[0] - 0.5, base_times[1] + 0.5]\n",
        "        trials = trial_ieeg(inst, \"experimentStart\", adjusted_base_times, preload=True)\n",
        "        \n",
        "        if trials is None or len(trials) == 0:\n",
        "            print(f\"Warning: No trials found for base_times {base_times}. Skipping...\")\n",
        "            continue\n",
        "        \n",
        "        all_data.append(trials.get_data())\n",
        "        all_events.extend([[last_sample + i, 0, 1] for i in range(len(trials))])\n",
        "        last_sample += len(trials)\n",
        "    \n",
        "    combined_data = np.concatenate(all_data, axis=0)\n",
        "    combined_trials = mne.EpochsArray(combined_data, inst.info, events=np.array(all_events), tmin=trials.tmin)\n",
        "    \n",
        "    HG_base = gamma.extract(combined_trials, copy=True, n_jobs=1)\n",
        "    broadband_base = gamma.extract(combined_trials, copy=True, n_jobs=1, passband=(0,1000))\n",
        "    crop_pad(HG_base, \"0.5s\")\n",
        "    crop_pad(broadband_base, \"0.5s\")\n",
        "    \n",
        "    del inst\n",
        "    return HG_base, broadband_base\n",
        "\n",
        "\n",
        "\n",
        "\n",
        "def plot_HG_and_stats(sub, task, output_name, event=None, times=(-1, 1.5),\n",
        "                      base_times=(-0.5, 0), LAB_root=None, channels=None,\n",
        "                      full_trial_base=False):\n",
        "    \"\"\"\n",
        "    Plot high gamma (HG) and statistics for a given subject and task using specified event.\n",
        "\n",
        "    Parameters:\n",
        "    - sub (str): The subject identifier.\n",
        "    - task (str): The task identifier.\n",
        "    - output_name (str): The name for the output files.\n",
        "    - event (str, optional): Event name to process. Defaults to None.\n",
        "    - times (tuple, optional): A tuple indicating the start and end times for processing. Defaults to (-1, 1.5).\n",
        "    - base_times (tuple, optional): A tuple indicating the start and end base times for processing. Defaults to (-0.5, 0).\n",
        "    - LAB_root (str, optional): The root directory for the lab. Will be determined based on OS if not provided. Defaults to None.\n",
        "    - channels (list of strings, optional): The channels to plot and get stats for. Default is all channels.\n",
        "    - full_trial_base (boolean): Whether to use the full trial as the baseline period. Default is False.\n",
        "    This function will process the provided event for a given subject and task.\n",
        "    High gamma (HG) will be computed, and statistics will be calculated and plotted.\n",
        "    The results will be saved to output files.\n",
        "    \"\"\"\n",
        "    pass\n",
        "\n",
        "\n",
        "sub = 'D0057'\n",
        "task = 'GlobalLocal'\n",
        "output_name = \"driftTest_Stimulus_experimentStartBaseNormalizedAnd0.5SecBeforeEventTrialsonXAxis\"\n",
        "events = [\"Stimulus\"]\n",
        "times = (-1,1.5)\n",
        "base_times = [(1,31),(41,71)]\n",
        "LAB_root = None\n",
        "channels = None\n",
        "full_trial_base = False\n",
        "\n",
        "if LAB_root is None:\n",
        "    HOME = os.path.expanduser(\"~\")\n",
        "    if os.name == 'nt':  # windows\n",
        "        LAB_root = os.path.join(HOME, \"Box\", \"CoganLab\")\n",
        "    else:  # mac\n",
        "        LAB_root = os.path.join(HOME, \"Library\", \"CloudStorage\", \"Box-Box\",\n",
        "                                \"CoganLab\")\n",
        "\n",
        "layout = get_data(task, root=LAB_root)\n",
        "filt = raw_from_layout(layout.derivatives['derivatives/clean'], subject=sub,\n",
        "                       extension='.edf', desc='clean', preload=False)\n",
        "save_dir = os.path.join(layout.root, 'derivatives', 'freqFilt', 'figs', sub)\n",
        "if not os.path.exists(save_dir):\n",
        "    os.makedirs(save_dir)\n",
        "\n",
        "###\n",
        "\n",
        "good = crop_empty_data(filt)\n",
        "# %%\n",
        "\n",
        "print(f\"good channels before dropping bads: {len(good.ch_names)}\")\n",
        "print(f\"filt channels before dropping bads: {len(filt.ch_names)}\")\n",
        "\n",
        "good.info['bads'] = channel_outlier_marker(good, 3, 2)\n",
        "print(\"Bad channels in 'good':\", good.info['bads'])\n",
        "\n",
        "filt.drop_channels(good.info['bads'])  # this has to come first cuz if you drop from good first, then good.info['bads'] is just empty\n",
        "good.drop_channels(good.info['bads'])\n",
        "\n",
        "print(\"Bad channels in 'good' after dropping once:\", good.info['bads'])\n",
        "\n",
        "print(f\"good channels after dropping bads: {len(good.ch_names)}\")\n",
        "print(f\"filt channels after dropping bads: {len(filt.ch_names)}\")\n",
        "\n",
        "HG_base, broadband_base = get_baseline(filt, base_times)\n",
        "good.load_data()\n",
        "\n",
        "# If channels is None, use all channels\n",
        "if channels is None:\n",
        "    channels = good.ch_names\n",
        "else:\n",
        "    # Validate the provided channels\n",
        "    invalid_channels = [ch for ch in channels if ch not in good.ch_names]\n",
        "    if invalid_channels:\n",
        "        raise ValueError(\n",
        "            f\"The following channels are not valid: {invalid_channels}\")\n",
        "\n",
        "    # Use only the specified channels\n",
        "    good.pick_channels(channels)\n",
        "\n",
        "ch_type = filt.get_channel_types(only_data_chs=True)[0]\n",
        "good.set_eeg_reference(ref_channels=\"average\", ch_type=ch_type)\n",
        "\n",
        "\n",
        "# Create a baseline EpochsTFR using the stimulus event\n",
        "\n",
        "# adjusted_base_times = [base_times[0] - 0.5, base_times[1] + 0.5]\n",
        "# trials = trial_ieeg(good, \"Stimulus\", adjusted_base_times, preload=True)\n",
        "# outliers_to_nan(trials, outliers=10)\n",
        "# HG_base_fixationCross = gamma.extract(trials, copy=False, n_jobs=1)\n",
        "# crop_pad(HG_base_fixationCross, \"0.5s\")\n",
        "\n",
        "\n",
        "all_epochs_list = []\n",
        "\n",
        "for event in events:\n",
        "# Epoching and HG extraction for each specified event. Then concatenate all trials epochs objects together (do Stimulus/c25 and Stimulus/c75 for example, and combine to get all congruent trials)\n",
        "    times_adj = [times[0] - 0.5, times[1] + 0.5]\n",
        "    trials = trial_ieeg(good, event, times_adj, preload=True,\n",
        "                        reject_by_annotation=False)\n",
        "    all_epochs_list.append(trials)\n",
        "\n",
        "# Concatenate all trials\n",
        "all_trials = mne.concatenate_epochs(all_epochs_list)\n",
        "\n",
        "outliers_to_nan(all_trials, outliers=10)\n",
        "HG_ev1 = gamma.extract(all_trials, copy=True, n_jobs=1)\n",
        "broadband_ev1 = gamma.extract(all_trials, copy=True, n_jobs=1, passband=(0,1000))\n",
        "print(\"HG_ev1 before crop_pad: \", HG_ev1.tmin, HG_ev1.tmax)\n",
        "crop_pad(HG_ev1, \"0.5s\")\n",
        "print(\"HG_ev1 after crop_pad: \", HG_ev1.tmin, HG_ev1.tmax)\n",
        "\n",
        "crop_pad(broadband_ev1, \"0.5s\")\n",
        "HG_ev1_rescaled = rescale(HG_ev1, HG_base, copy=True, mode='zscore')\n",
        "broadband_ev1_rescaled = rescale(broadband_ev1, broadband_base, copy=True, mode='zscore')\n",
        "# HG_ev1_rescaled_fixationCross = rescale(HG_ev1, HG_base_fixationCross, copy=True, mode='zscore')\n",
        "\n",
        "HG_base.decimate(2)\n",
        "HG_ev1.decimate(2)\n",
        "\n",
        "broadband_base.decimate(2)\n",
        "broadband_ev1.decimate(2)\n",
        "\n",
        "# HG_base_fixationCross.decimate(2)\n",
        "\n",
        "\n",
        "HG_ev1_avgOverTime = np.nanmean(HG_ev1.get_data(), axis=2)\n",
        "HG_ev1_rescaled_avgOverTime = np.nanmean(HG_ev1_rescaled.get_data(), axis=2)\n",
        "\n",
        "\n",
        "HG_ev1_evoke = HG_ev1.average(method=lambda x: np.nanmean(x, axis=0)) #axis=0 should be set for actually running this, the axis=2 is just for drift testing.\n",
        "HG_ev1_evoke_rescaled = HG_ev1_rescaled.average(method=lambda x: np.nanmean(x, axis=0))\n",
        "\n",
        "if event == \"Stimulus\":\n",
        "    print('plotting stimulus')\n",
        "    fig = HG_ev1_evoke_rescaled.plot(unit=False, scalings=dict(sEEG=1)) #this line is not finishing...\n",
        "    print('plotted')\n",
        "    # for ax in fig.axes:\n",
        "    #     ax.axvline(x=avg_RT, color='r', linestyle='--')\n",
        "    print('about to save')\n",
        "    fig.savefig(save_dir + '_HG_ev1_Stimulus_zscore.png')\n",
        "    print('saved')\n",
        "else:\n",
        "    print('about to plot if not stimulus')\n",
        "    fig = HG_ev1_evoke_rescaled.plot(unit=False, scalings=dict(sEEG=1))\n",
        "    print('plotted non stimulus')\n",
        "    fig.savefig(save_dir + f'_HG_ev1_{output_name}_zscore.png')\n",
        "\n",
        "###\n",
        "print(f\"Shape of HG_ev1._data: {HG_ev1._data.shape}\")\n",
        "print(f\"Shape of HG_base._data: {HG_base._data.shape}\")\n",
        "\n",
        "sig1 = HG_ev1._data\n",
        "sig2 = HG_base._data\n",
        "sig2 = make_data_same(sig2, sig1.shape)\n",
        "print(f\"Shape of sig1: {sig1.shape}\")\n",
        "print(f\"Shape of sig2: {sig2.shape}\")\n",
        "\n",
        "mat = time_perm_cluster(sig1, sig2, 0.05, n_jobs=6, ignore_adjacency=1)\n",
        "fig = plt.figure()\n",
        "plt.imshow(mat, aspect='auto')\n",
        "fig.savefig(save_dir + f'_{output_name}_stats.png', dpi=300)\n",
        "\n",
        "channels = good.ch_names\n",
        "\n",
        "#save channels with their indices \n",
        "save_channels_to_file(channels, sub, task, save_dir)\n",
        "\n",
        "# save significant channels to a json\n",
        "save_sig_chans(f'{output_name}', mat, channels, sub, save_dir)\n"
      ]
    },
    {
      "cell_type": "code",
      "execution_count": 3,
      "metadata": {},
      "outputs": [
        {
          "name": "stdout",
          "output_type": "stream",
          "text": [
            "Shape of HG_ev1._data: (436, 175, 2561)\n",
            "Shape of HG_base._data: (1, 175, 102401)\n",
            "shape of HG_base reshaped: (448, 175, 228)\n"
          ]
        },
        {
          "name": "stderr",
          "output_type": "stream",
          "text": [
            "[Parallel(n_jobs=6)]: Using backend LokyBackend with 6 concurrent workers.\n"
          ]
        },
        {
          "ename": "IndexError",
          "evalue": "tuple index out of range",
          "output_type": "error",
          "traceback": [
            "\u001b[1;31m---------------------------------------------------------------------------\u001b[0m",
            "\u001b[1;31m_RemoteTraceback\u001b[0m                          Traceback (most recent call last)",
            "\u001b[1;31m_RemoteTraceback\u001b[0m: \n\"\"\"\nTraceback (most recent call last):\n  File \"c:\\Users\\jz421\\AppData\\Local\\anaconda3\\envs\\ieeg\\Lib\\site-packages\\joblib\\externals\\loky\\process_executor.py\", line 463, in _process_worker\n    r = call_item()\n        ^^^^^^^^^^^\n  File \"c:\\Users\\jz421\\AppData\\Local\\anaconda3\\envs\\ieeg\\Lib\\site-packages\\joblib\\externals\\loky\\process_executor.py\", line 291, in __call__\n    return self.fn(*self.args, **self.kwargs)\n           ^^^^^^^^^^^^^^^^^^^^^^^^^^^^^^^^^^\n  File \"c:\\Users\\jz421\\AppData\\Local\\anaconda3\\envs\\ieeg\\Lib\\site-packages\\joblib\\parallel.py\", line 589, in __call__\n    return [func(*args, **kwargs)\n           ^^^^^^^^^^^^^^^^^^^^^^\n  File \"c:\\Users\\jz421\\AppData\\Local\\anaconda3\\envs\\ieeg\\Lib\\site-packages\\joblib\\parallel.py\", line 589, in <listcomp>\n    return [func(*args, **kwargs)\n            ^^^^^^^^^^^^^^^^^^^^^\n  File \"C:\\Users\\jz421\\Desktop\\GlobalLocal\\IEEG_Pipelines\\ieeg\\calc\\stats.py\", line 450, in time_perm_cluster\n    sig2 = make_data_same(sig2, sig1.shape, axis)\n           ^^^^^^^^^^^^^^^^^^^^^^^^^^^^^^^^^^^^^^\n  File \"C:\\Users\\jz421\\Desktop\\GlobalLocal\\IEEG_Pipelines\\ieeg\\calc\\reshape.py\", line 224, in make_data_same\n    if data_fix.shape[pad_ax] <= shape[pad_ax]:\n       ~~~~~~~~~~~~~~^^^^^^^^\nIndexError: tuple index out of range\n\"\"\"",
            "\nThe above exception was the direct cause of the following exception:\n",
            "\u001b[1;31mIndexError\u001b[0m                                Traceback (most recent call last)",
            "\u001b[1;32mc:\\Users\\jz421\\Desktop\\GlobalLocal\\plot_HG_and_stats.ipynb Cell 7\u001b[0m line \u001b[0;36m1\n\u001b[0;32m     <a href='vscode-notebook-cell:/c%3A/Users/jz421/Desktop/GlobalLocal/plot_HG_and_stats.ipynb#X34sZmlsZQ%3D%3D?line=9'>10</a>\u001b[0m \u001b[39mprint\u001b[39m(\u001b[39mf\u001b[39m\u001b[39m\"\u001b[39m\u001b[39mshape of HG_base reshaped: \u001b[39m\u001b[39m{\u001b[39;00mHG_base_reshaped\u001b[39m.\u001b[39mshape\u001b[39m}\u001b[39;00m\u001b[39m\"\u001b[39m)\n\u001b[0;32m     <a href='vscode-notebook-cell:/c%3A/Users/jz421/Desktop/GlobalLocal/plot_HG_and_stats.ipynb#X34sZmlsZQ%3D%3D?line=11'>12</a>\u001b[0m \u001b[39m# Calculate statistics and define channel names\u001b[39;00m\n\u001b[1;32m---> <a href='vscode-notebook-cell:/c%3A/Users/jz421/Desktop/GlobalLocal/plot_HG_and_stats.ipynb#X34sZmlsZQ%3D%3D?line=12'>13</a>\u001b[0m mask \u001b[39m=\u001b[39m stats\u001b[39m.\u001b[39;49mtime_perm_cluster(HG_ev1\u001b[39m.\u001b[39;49m_data, HG_base\u001b[39m.\u001b[39;49m_data, \u001b[39m0.05\u001b[39;49m, axis\u001b[39m=\u001b[39;49m\u001b[39m0\u001b[39;49m, n_perm\u001b[39m=\u001b[39;49m\u001b[39m1000\u001b[39;49m, n_jobs\u001b[39m=\u001b[39;49m\u001b[39m6\u001b[39;49m, ignore_adjacency\u001b[39m=\u001b[39;49m\u001b[39m1\u001b[39;49m)\n\u001b[0;32m     <a href='vscode-notebook-cell:/c%3A/Users/jz421/Desktop/GlobalLocal/plot_HG_and_stats.ipynb#X34sZmlsZQ%3D%3D?line=14'>15</a>\u001b[0m channels \u001b[39m=\u001b[39m good\u001b[39m.\u001b[39mch_names\n\u001b[0;32m     <a href='vscode-notebook-cell:/c%3A/Users/jz421/Desktop/GlobalLocal/plot_HG_and_stats.ipynb#X34sZmlsZQ%3D%3D?line=16'>17</a>\u001b[0m \u001b[39m#save channels with their indices \u001b[39;00m\n",
            "File \u001b[1;32m~\\Desktop\\GlobalLocal\\IEEG_Pipelines\\ieeg\\calc\\stats.py:446\u001b[0m, in \u001b[0;36mtime_perm_cluster\u001b[1;34m(sig1, sig2, p_thresh, p_cluster, n_perm, tails, axis, stat_func, ignore_adjacency, n_jobs)\u001b[0m\n\u001b[0;32m    440\u001b[0m ins \u001b[39m=\u001b[39m ((np\u001b[39m.\u001b[39msqueeze(sig1[:, i]), np\u001b[39m.\u001b[39msqueeze(sig2[:, i])) \u001b[39mfor\u001b[39;00m i \u001b[39min\u001b[39;00m\n\u001b[0;32m    441\u001b[0m        np\u001b[39m.\u001b[39mndindex(\u001b[39mtuple\u001b[39m(sig1\u001b[39m.\u001b[39mshape[j] \u001b[39mfor\u001b[39;00m j \u001b[39min\u001b[39;00m ignore_adjacency)))\n\u001b[0;32m    442\u001b[0m proc \u001b[39m=\u001b[39m Parallel(n_jobs, return_as\u001b[39m=\u001b[39m\u001b[39m'\u001b[39m\u001b[39mgenerator\u001b[39m\u001b[39m'\u001b[39m, verbose\u001b[39m=\u001b[39m\u001b[39m40\u001b[39m)(\n\u001b[0;32m    443\u001b[0m     delayed(time_perm_cluster)(\n\u001b[0;32m    444\u001b[0m         \u001b[39m*\u001b[39mi, p_thresh\u001b[39m=\u001b[39mp_thresh, p_cluster\u001b[39m=\u001b[39mp_cluster, n_perm\u001b[39m=\u001b[39mn_perm,\n\u001b[0;32m    445\u001b[0m         tails\u001b[39m=\u001b[39mtails, axis\u001b[39m=\u001b[39maxis, stat_func\u001b[39m=\u001b[39mstat_func) \u001b[39mfor\u001b[39;00m i \u001b[39min\u001b[39;00m ins)\n\u001b[1;32m--> 446\u001b[0m \u001b[39mfor\u001b[39;00m i, iout \u001b[39min\u001b[39;00m \u001b[39menumerate\u001b[39m(proc):\n\u001b[0;32m    447\u001b[0m     out[i] \u001b[39m=\u001b[39m iout\n\u001b[0;32m    448\u001b[0m \u001b[39mreturn\u001b[39;00m out\n",
            "File \u001b[1;32mc:\\Users\\jz421\\AppData\\Local\\anaconda3\\envs\\ieeg\\Lib\\site-packages\\joblib\\parallel.py:1595\u001b[0m, in \u001b[0;36mParallel._get_outputs\u001b[1;34m(self, iterator, pre_dispatch)\u001b[0m\n\u001b[0;32m   1592\u001b[0m     \u001b[39myield\u001b[39;00m\n\u001b[0;32m   1594\u001b[0m     \u001b[39mwith\u001b[39;00m \u001b[39mself\u001b[39m\u001b[39m.\u001b[39m_backend\u001b[39m.\u001b[39mretrieval_context():\n\u001b[1;32m-> 1595\u001b[0m         \u001b[39myield from\u001b[39;00m \u001b[39mself\u001b[39m\u001b[39m.\u001b[39m_retrieve()\n\u001b[0;32m   1597\u001b[0m \u001b[39mexcept\u001b[39;00m \u001b[39mGeneratorExit\u001b[39;00m:\n\u001b[0;32m   1598\u001b[0m     \u001b[39m# The generator has been garbage collected before being fully\u001b[39;00m\n\u001b[0;32m   1599\u001b[0m     \u001b[39m# consumed. This aborts the remaining tasks if possible and warn\u001b[39;00m\n\u001b[0;32m   1600\u001b[0m     \u001b[39m# the user if necessary.\u001b[39;00m\n\u001b[0;32m   1601\u001b[0m     \u001b[39mself\u001b[39m\u001b[39m.\u001b[39m_exception \u001b[39m=\u001b[39m \u001b[39mTrue\u001b[39;00m\n",
            "File \u001b[1;32mc:\\Users\\jz421\\AppData\\Local\\anaconda3\\envs\\ieeg\\Lib\\site-packages\\joblib\\parallel.py:1699\u001b[0m, in \u001b[0;36mParallel._retrieve\u001b[1;34m(self)\u001b[0m\n\u001b[0;32m   1692\u001b[0m \u001b[39mwhile\u001b[39;00m \u001b[39mself\u001b[39m\u001b[39m.\u001b[39m_wait_retrieval():\n\u001b[0;32m   1693\u001b[0m \n\u001b[0;32m   1694\u001b[0m     \u001b[39m# If the callback thread of a worker has signaled that its task\u001b[39;00m\n\u001b[0;32m   1695\u001b[0m     \u001b[39m# triggered an exception, or if the retrieval loop has raised an\u001b[39;00m\n\u001b[0;32m   1696\u001b[0m     \u001b[39m# exception (e.g. `GeneratorExit`), exit the loop and surface the\u001b[39;00m\n\u001b[0;32m   1697\u001b[0m     \u001b[39m# worker traceback.\u001b[39;00m\n\u001b[0;32m   1698\u001b[0m     \u001b[39mif\u001b[39;00m \u001b[39mself\u001b[39m\u001b[39m.\u001b[39m_aborting:\n\u001b[1;32m-> 1699\u001b[0m         \u001b[39mself\u001b[39;49m\u001b[39m.\u001b[39;49m_raise_error_fast()\n\u001b[0;32m   1700\u001b[0m         \u001b[39mbreak\u001b[39;00m\n\u001b[0;32m   1702\u001b[0m     \u001b[39m# If the next job is not ready for retrieval yet, we just wait for\u001b[39;00m\n\u001b[0;32m   1703\u001b[0m     \u001b[39m# async callbacks to progress.\u001b[39;00m\n",
            "File \u001b[1;32mc:\\Users\\jz421\\AppData\\Local\\anaconda3\\envs\\ieeg\\Lib\\site-packages\\joblib\\parallel.py:1734\u001b[0m, in \u001b[0;36mParallel._raise_error_fast\u001b[1;34m(self)\u001b[0m\n\u001b[0;32m   1730\u001b[0m \u001b[39m# If this error job exists, immediatly raise the error by\u001b[39;00m\n\u001b[0;32m   1731\u001b[0m \u001b[39m# calling get_result. This job might not exists if abort has been\u001b[39;00m\n\u001b[0;32m   1732\u001b[0m \u001b[39m# called directly or if the generator is gc'ed.\u001b[39;00m\n\u001b[0;32m   1733\u001b[0m \u001b[39mif\u001b[39;00m error_job \u001b[39mis\u001b[39;00m \u001b[39mnot\u001b[39;00m \u001b[39mNone\u001b[39;00m:\n\u001b[1;32m-> 1734\u001b[0m     error_job\u001b[39m.\u001b[39;49mget_result(\u001b[39mself\u001b[39;49m\u001b[39m.\u001b[39;49mtimeout)\n",
            "File \u001b[1;32mc:\\Users\\jz421\\AppData\\Local\\anaconda3\\envs\\ieeg\\Lib\\site-packages\\joblib\\parallel.py:736\u001b[0m, in \u001b[0;36mBatchCompletionCallBack.get_result\u001b[1;34m(self, timeout)\u001b[0m\n\u001b[0;32m    730\u001b[0m backend \u001b[39m=\u001b[39m \u001b[39mself\u001b[39m\u001b[39m.\u001b[39mparallel\u001b[39m.\u001b[39m_backend\n\u001b[0;32m    732\u001b[0m \u001b[39mif\u001b[39;00m backend\u001b[39m.\u001b[39msupports_retrieve_callback:\n\u001b[0;32m    733\u001b[0m     \u001b[39m# We assume that the result has already been retrieved by the\u001b[39;00m\n\u001b[0;32m    734\u001b[0m     \u001b[39m# callback thread, and is stored internally. It's just waiting to\u001b[39;00m\n\u001b[0;32m    735\u001b[0m     \u001b[39m# be returned.\u001b[39;00m\n\u001b[1;32m--> 736\u001b[0m     \u001b[39mreturn\u001b[39;00m \u001b[39mself\u001b[39;49m\u001b[39m.\u001b[39;49m_return_or_raise()\n\u001b[0;32m    738\u001b[0m \u001b[39m# For other backends, the main thread needs to run the retrieval step.\u001b[39;00m\n\u001b[0;32m    739\u001b[0m \u001b[39mtry\u001b[39;00m:\n",
            "File \u001b[1;32mc:\\Users\\jz421\\AppData\\Local\\anaconda3\\envs\\ieeg\\Lib\\site-packages\\joblib\\parallel.py:754\u001b[0m, in \u001b[0;36mBatchCompletionCallBack._return_or_raise\u001b[1;34m(self)\u001b[0m\n\u001b[0;32m    752\u001b[0m \u001b[39mtry\u001b[39;00m:\n\u001b[0;32m    753\u001b[0m     \u001b[39mif\u001b[39;00m \u001b[39mself\u001b[39m\u001b[39m.\u001b[39mstatus \u001b[39m==\u001b[39m TASK_ERROR:\n\u001b[1;32m--> 754\u001b[0m         \u001b[39mraise\u001b[39;00m \u001b[39mself\u001b[39m\u001b[39m.\u001b[39m_result\n\u001b[0;32m    755\u001b[0m     \u001b[39mreturn\u001b[39;00m \u001b[39mself\u001b[39m\u001b[39m.\u001b[39m_result\n\u001b[0;32m    756\u001b[0m \u001b[39mfinally\u001b[39;00m:\n",
            "\u001b[1;31mIndexError\u001b[0m: tuple index out of range"
          ]
        }
      ],
      "source": [
        "print(f\"Shape of HG_ev1._data: {HG_ev1._data.shape}\")\n",
        "print(f\"Shape of HG_base._data: {HG_base._data.shape}\")\n",
        "\n",
        "# # Get the number of epochs in HG_ev1\n",
        "# num_epochs = HG_ev1._data.shape[0]\n",
        "\n",
        "# # Replicate the epoch in HG_base to match the number of epochs in HG_ev1. I think this is valid..???\n",
        "# HG_base_reshaped = np.tile(HG_base._data, (num_epochs, 1, 1))\n",
        "\n",
        "print(f\"shape of HG_base reshaped: {HG_base_reshaped.shape}\")\n",
        "\n",
        "# Calculate statistics and define channel names\n",
        "mask = stats.time_perm_cluster(HG_ev1._data, HG_base._data, 0.05, axis=0, n_perm=1000, n_jobs=6, ignore_adjacency=1)\n",
        "\n",
        "channels = good.ch_names\n",
        "\n",
        "#save channels with their indices \n",
        "save_channels_to_file(channels, sub, task, save_dir)\n",
        "\n",
        "# save significant channels to a json\n",
        "save_sig_chans(f'{output_name}', mask, channels, sub, save_dir)\n",
        "\n",
        "# plot stats\n",
        "plt.figure(figsize=(16, 8))\n",
        "plt.imshow(mask, aspect='auto')\n",
        "relabel_axes(0, 2500, -1000, 1500)\n",
        "plt.savefig(save_dir + f'_{output_name}_stats_big.png', dpi=300)"
      ]
    },
    {
      "cell_type": "code",
      "execution_count": 33,
      "metadata": {},
      "outputs": [],
      "source": [
        "# plot stats\n",
        "#plt.figure(figsize=(16, 8))\n",
        "#plt.imshow(mask, aspect='auto')\n",
        "#relabel_axes(0, 2500, -1000, 1500)\n",
        "#plt.savefig(save_dir + f'_{output_name}_stats_big.png', dpi=300)\n",
        "x, y = HG_ev1._data, HG_base._data"
      ]
    },
    {
      "cell_type": "code",
      "execution_count": 26,
      "metadata": {},
      "outputs": [
        {
          "name": "stdout",
          "output_type": "stream",
          "text": [
            "Channels with NaN values in Epoch 35: ['RMMF14']\n",
            "Channels with NaN values in Epoch 38: ['RMMF14']\n",
            "Channels with NaN values in Epoch 39: ['RMMF14']\n",
            "Channels with NaN values in Epoch 43: ['RPIP12']\n",
            "Channels with NaN values in Epoch 44: ['RPIP12']\n",
            "Channels with NaN values in Epoch 60: ['LAMT1']\n",
            "Channels with NaN values in Epoch 66: ['RPI13', 'RPI14']\n",
            "Channels with NaN values in Epoch 70: ['RMMF14']\n",
            "Channels with NaN values in Epoch 77: ['RAIF10']\n",
            "Channels with NaN values in Epoch 92: ['RMMT2', 'LAMT1']\n",
            "Channels with NaN values in Epoch 99: ['RPIT10']\n",
            "Channels with NaN values in Epoch 109: ['LMMT11', 'LMMT12']\n",
            "Channels with NaN values in Epoch 134: ['RAST5', 'RAST6']\n",
            "Channels with NaN values in Epoch 136: ['RPI13']\n",
            "Channels with NaN values in Epoch 137: ['RPI13']\n",
            "Channels with NaN values in Epoch 151: ['RPI13', 'RPIT5']\n",
            "Channels with NaN values in Epoch 154: ['LMMT11', 'LMMT12']\n",
            "Channels with NaN values in Epoch 155: ['LMMT11']\n",
            "Channels with NaN values in Epoch 165: ['RPI13', 'LMMT9']\n",
            "Channels with NaN values in Epoch 166: ['RPI13']\n",
            "Channels with NaN values in Epoch 184: ['RPI14']\n",
            "Channels with NaN values in Epoch 191: ['RAMT5']\n",
            "Channels with NaN values in Epoch 192: ['RAMT5']\n",
            "Channels with NaN values in Epoch 197: ['RAST6']\n",
            "Channels with NaN values in Epoch 198: ['RPIT12']\n",
            "Channels with NaN values in Epoch 226: ['LMMT11']\n",
            "Channels with NaN values in Epoch 231: ['RPIT5']\n",
            "Channels with NaN values in Epoch 245: ['RAI15']\n",
            "Channels with NaN values in Epoch 248: ['RAMF9']\n",
            "Channels with NaN values in Epoch 250: ['RPI13']\n",
            "Channels with NaN values in Epoch 251: ['LMMT11']\n",
            "Channels with NaN values in Epoch 252: ['LMMT11']\n",
            "Channels with NaN values in Epoch 253: ['LMMT9']\n",
            "Channels with NaN values in Epoch 254: ['RPI15']\n",
            "Channels with NaN values in Epoch 260: ['RAST6']\n",
            "Channels with NaN values in Epoch 264: ['RMMF14']\n",
            "Channels with NaN values in Epoch 266: ['RPI12']\n",
            "Channels with NaN values in Epoch 279: ['RAST5', 'RAST6']\n",
            "Channels with NaN values in Epoch 292: ['RAI11']\n",
            "Channels with NaN values in Epoch 302: ['RAIF10']\n",
            "Channels with NaN values in Epoch 306: ['RAI7']\n",
            "Channels with NaN values in Epoch 308: ['RPI14']\n",
            "Channels with NaN values in Epoch 309: ['RPI13']\n",
            "Channels with NaN values in Epoch 339: ['RPI12', 'RPIP10']\n",
            "Channels with NaN values in Epoch 341: ['RMMF7']\n",
            "Channels with NaN values in Epoch 343: ['RPI14']\n",
            "Channels with NaN values in Epoch 374: ['RAIF10']\n",
            "Channels with NaN values in Epoch 380: ['RAI16']\n",
            "Channels with NaN values in Epoch 386: ['RAIF10']\n",
            "Channels with NaN values in Epoch 389: ['RPIP14']\n",
            "Channels with NaN values in Epoch 400: ['LMMT11']\n",
            "Channels with NaN values in Epoch 403: ['RPI9']\n",
            "Channels with NaN values in Epoch 404: ['RPI9']\n",
            "Channels with NaN values in Epoch 405: ['RPI9']\n",
            "Channels with NaN values in Epoch 409: ['LMMT11']\n",
            "Channels with NaN values in Epoch 410: ['RMMF16', 'RAST8']\n",
            "Channels with NaN values in Epoch 411: ['RAMF13', 'RMMF15', 'RAIT10']\n",
            "Channels with NaN values in Epoch 412: ['RMMF15', 'RPIP10']\n",
            "Channels with NaN values in Epoch 427: ['RAIF10']\n",
            "Channels with NaN values in Epoch 430: ['RAI15', 'RPIT12']\n",
            "Channels with NaN values in Epoch 436: ['LMMT9']\n",
            "Channels with NaN values in Epoch 440: ['RAIF10']\n",
            "Channels with NaN values in Epoch 441: ['RMMT2', 'RMMT11']\n",
            "Channels with NaN values in Epoch 443: ['RPIT12']\n",
            "Channels with NaN values in Epoch 447: ['RAIF10']\n"
          ]
        }
      ],
      "source": [
        "# print(HG_ev1._data)\n",
        "\n",
        "# if np.isnan(HG_ev1._data).any():\n",
        "#     print(\"Data contains NaN values.\")\n",
        "data = HG_ev1.get_data()\n",
        "nan_channels = {}\n",
        "for epoch_num in range(data.shape[0]):\n",
        "    nan_channels_epoch = []\n",
        "    for i, channel_data in enumerate(data[epoch_num, :, :]):\n",
        "        if np.isnan(channel_data).any():\n",
        "            nan_channels_epoch.append(HG_ev1.info['ch_names'][i])\n",
        "            \n",
        "    if nan_channels_epoch:  # Only add to the dictionary if the list is not empty\n",
        "        nan_channels[f'Epoch {epoch_num + 1}'] = nan_channels_epoch\n",
        "        print(f\"Channels with NaN values in Epoch {epoch_num + 1}: {nan_channels_epoch}\")\n",
        "\n",
        "\n"
      ]
    },
    {
      "cell_type": "code",
      "execution_count": 28,
      "metadata": {},
      "outputs": [
        {
          "name": "stdout",
          "output_type": "stream",
          "text": [
            "Channels with NaN values in Epoch 1: ['RAIF10', 'RAIT10', 'RMMT11', 'RPIT10', 'LMMT11']\n"
          ]
        }
      ],
      "source": [
        "data = HG_base.get_data()\n",
        "nan_channels = {}\n",
        "for epoch_num in range(data.shape[0]):\n",
        "    nan_channels_epoch = []\n",
        "    for i, channel_data in enumerate(data[epoch_num, :, :]):\n",
        "        if np.isnan(channel_data).any():\n",
        "            nan_channels_epoch.append(HG_base.info['ch_names'][i])\n",
        "            \n",
        "    if nan_channels_epoch:  # Only add to the dictionary if the list is not empty\n",
        "        nan_channels[f'Epoch {epoch_num + 1}'] = nan_channels_epoch\n",
        "        print(f\"Channels with NaN values in Epoch {epoch_num + 1}: {nan_channels_epoch}\")\n",
        "\n"
      ]
    },
    {
      "cell_type": "code",
      "execution_count": 33,
      "metadata": {},
      "outputs": [
        {
          "name": "stdout",
          "output_type": "stream",
          "text": [
            "Channels with NaN values: []\n"
          ]
        }
      ],
      "source": [
        "# Get the data from the Raw object\n",
        "data, times = good[:, :]\n",
        "\n",
        "# Check each channel for NaNs\n",
        "nan_channels = []\n",
        "for i, channel_data in enumerate(data):\n",
        "    if np.isnan(channel_data).any():\n",
        "        nan_channels.append(filt.info['ch_names'][i])\n",
        "\n",
        "print(\"Channels with NaN values:\", nan_channels)\n",
        "\n"
      ]
    },
    {
      "cell_type": "code",
      "execution_count": null,
      "metadata": {},
      "outputs": [],
      "source": [
        "def get_baseline(inst: mne.io.BaseRaw, base_times: tuple[float, float]):\n",
        "    inst = inst.copy()\n",
        "    inst.load_data()\n",
        "    ch_type = inst.get_channel_types(only_data_chs=True)[0]\n",
        "    inst.set_eeg_reference(ref_channels=\"average\", ch_type=ch_type)\n",
        "\n",
        "    adjusted_base_times = [base_times[0] - 0.5, base_times[1] + 0.5]\n",
        "    trials = trial_ieeg(inst, \"experimentStart\", adjusted_base_times, preload=True)\n",
        "    outliers_to_nan(trials, outliers=10)\n",
        "    HG_base = gamma.extract(trials, copy=False, n_jobs=1)\n",
        "    crop_pad(HG_base, \"0.5s\")\n",
        "    del inst\n",
        "    return HG_base\n",
        "\n",
        "\n",
        "\n",
        "sub='D0057'\n",
        "task='GlobalLocal'\n",
        "output_name=\"stimulus_RMMF1-5_preExperimentBaselineTest\"\n",
        "event=\"Stimulus\"\n",
        "times=(-1, 1.5)\n",
        "base_times=(1,11)\n",
        "LAB_root=None\n",
        "channels=None\n",
        "full_trial_base=False\n",
        "\n",
        "if LAB_root is None:\n",
        "    HOME = os.path.expanduser(\"~\")\n",
        "    if os.name == 'nt': # windows\n",
        "        LAB_root = os.path.join(HOME, \"Box\", \"CoganLab\")\n",
        "    else: # mac\n",
        "        LAB_root = os.path.join(HOME, \"Library\", \"CloudStorage\", \"Box-Box\", \"CoganLab\")\n",
        "\n",
        "layout = get_data(task, root=LAB_root)\n",
        "filt = raw_from_layout(layout.derivatives['derivatives/clean'], subject=sub, extension='.edf', desc='clean', preload=False)\n",
        "save_dir = os.path.join(layout.root, 'derivatives', 'freqFilt', 'figs', sub)\n",
        "if not os.path.exists(save_dir):\n",
        "    os.makedirs(save_dir)\n",
        "\n",
        "try:\n",
        "    good = crop_empty_data(filt)\n",
        "except ValueError as ve:\n",
        "    print(f\"Error encountered during cropping: {ve}\")\n",
        "\n",
        "print(f\"good channels before dropping bads: {len(good.ch_names)}\")\n",
        "print(f\"filt channels before dropping bads: {len(filt.ch_names)}\")\n",
        "\n",
        "good.info['bads'] = channel_outlier_marker(good, 3, 2)\n",
        "print(\"Bad channels in 'good':\", good.info['bads'])\n",
        "\n",
        "filt.drop_channels(good.info['bads']) #this has to come first cuz if you drop from good first, then good.info['bads'] is just empty\n",
        "good.drop_channels(good.info['bads'])\n",
        "\n",
        "print(\"Bad channels in 'good' after dropping once:\", good.info['bads'])\n",
        "\n",
        "print(f\"good channels after dropping bads: {len(good.ch_names)}\")\n",
        "print(f\"filt channels after dropping bads: {len(filt.ch_names)}\")\n",
        "\n",
        "\n",
        "HG_base = get_baseline(filt, base_times)\n",
        "\n",
        "inst = filt\n",
        "inst = inst.copy()\n",
        "inst.load_data()\n",
        "ch_type = inst.get_channel_types(only_data_chs=True)[0]\n",
        "inst.set_eeg_reference(ref_channels=\"average\", ch_type=ch_type)\n",
        "\n",
        "adjusted_base_times = [base_times[0] - 0.5, base_times[1] + 0.5]\n",
        "trials = trial_ieeg(inst, \"experimentStart\", adjusted_base_times, preload=True)\n",
        "outliers_to_nan(trials, outliers=10)\n",
        "HG_base = gamma.extract(trials, copy=False, n_jobs=1)\n",
        "crop_pad(HG_base, \"0.5s\")"
      ]
    },
    {
      "cell_type": "code",
      "execution_count": 5,
      "metadata": {},
      "outputs": [
        {
          "ename": "NameError",
          "evalue": "name 'filt' is not defined",
          "output_type": "error",
          "traceback": [
            "\u001b[1;31m---------------------------------------------------------------------------\u001b[0m",
            "\u001b[1;31mNameError\u001b[0m                                 Traceback (most recent call last)",
            "Cell \u001b[1;32mIn[5], line 1\u001b[0m\n\u001b[1;32m----> 1\u001b[0m inst \u001b[39m=\u001b[39m filt\n\u001b[0;32m      2\u001b[0m base_times \u001b[39m=\u001b[39m (\u001b[39m1\u001b[39m,\u001b[39m100\u001b[39m)\n\u001b[0;32m      3\u001b[0m inst \u001b[39m=\u001b[39m inst\u001b[39m.\u001b[39mcopy()\n",
            "\u001b[1;31mNameError\u001b[0m: name 'filt' is not defined"
          ]
        }
      ],
      "source": [
        "inst = filt\n",
        "base_times = (1,100)\n",
        "inst = inst.copy()\n",
        "test = inst.load_data()\n",
        "ch_type = inst.get_channel_types(only_data_chs=True)[0]\n",
        "inst.set_eeg_reference(ref_channels=\"average\", ch_type=ch_type)\n",
        "\n",
        "adjusted_base_times = [base_times[0] - 0.5, base_times[1] + 0.5]\n",
        "trials = trial_ieeg(inst, \"experimentStart\", adjusted_base_times, preload=True)\n",
        "outliers_to_nan(trials, outliers=10)\n",
        "HG_base = gamma.extract(trials, copy=False, n_jobs=1)\n",
        "crop_pad(HG_base, \"0.5s\")"
      ]
    }
  ],
  "metadata": {
    "kernelspec": {
      "display_name": "Python 3",
      "language": "python",
      "name": "python3"
    },
    "language_info": {
      "codemirror_mode": {
        "name": "ipython",
        "version": 3
      },
      "file_extension": ".py",
      "mimetype": "text/x-python",
      "name": "python",
      "nbconvert_exporter": "python",
      "pygments_lexer": "ipython3",
      "version": "3.11.3"
    }
  },
  "nbformat": 4,
  "nbformat_minor": 0
}
