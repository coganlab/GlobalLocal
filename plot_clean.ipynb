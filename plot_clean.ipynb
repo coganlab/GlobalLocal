{
  "cells": [
    {
      "attachments": {},
      "cell_type": "markdown",
      "metadata": {},
      "source": [
        "\n",
        "# Example line noise filtering script\n",
        "\n",
        "Filters the 60Hz line noise from the data, as well as the harmonics. Includes\n",
        "environment checks for SLURM jobs for convenience\n"
      ]
    },
    {
      "cell_type": "code",
      "execution_count": 1,
      "metadata": {
        "collapsed": false
      },
      "outputs": [],
      "source": [
        "import mne\n",
        "import os\n",
        "from ieeg.mt_filter import line_filter\n",
        "from ieeg.io import get_data, raw_from_layout, save_derivative\n",
        "from ieeg import viz\n",
        "from bids import BIDSLayout\n",
        "from ieeg.viz.utils import figure_compare\n"
      ]
    },
    {
      "cell_type": "code",
      "execution_count": 2,
      "metadata": {
        "collapsed": false
      },
      "outputs": [],
      "source": [
        "HOME = os.path.expanduser(\"~\")"
      ]
    },
    {
      "cell_type": "code",
      "execution_count": 3,
      "metadata": {
        "collapsed": false
      },
      "outputs": [],
      "source": [
        "if 'SLURM_ARRAY_TASK_ID' in os.environ.keys():\n",
        "    LAB_root = os.path.join(HOME, \"workspace\", \"CoganLab\")\n",
        "    subject = int(os.environ['SLURM_ARRAY_TASK_ID'])\n",
        "else:  # if not then set box directory\n",
        "    LAB_root = os.path.join(HOME, \"Box\", \"CoganLab\")\n",
        "    subject = 5"
      ]
    },
    {
      "cell_type": "code",
      "execution_count": null,
      "metadata": {},
      "outputs": [],
      "source": [
        "test1=1\n",
        "test2=2\n",
        "data=[test1,test2]"
      ]
    },
    {
      "cell_type": "code",
      "execution_count": 7,
      "metadata": {
        "collapsed": false
      },
      "outputs": [
        {
          "name": "stdout",
          "output_type": "stream",
          "text": [
            "Extracting EDF parameters from C:\\Users\\jz421\\Box\\CoganLab\\BIDS-1.1_GlobalLocal\\BIDS\\sub-D0059\\ieeg\\sub-D0059_task-GlobalLocal_acq-01_run-01_ieeg.edf...\n",
            "EDF file detected\n",
            "Setting channel info structure...\n",
            "Creating raw.info structure...\n",
            "Reading events from C:\\Users\\jz421\\Box\\CoganLab\\BIDS-1.1_GlobalLocal\\BIDS\\sub-D0059\\ieeg\\sub-D0059_task-GlobalLocal_acq-01_run-01_events.tsv.\n",
            "Reading channel info from C:\\Users\\jz421\\Box\\CoganLab\\BIDS-1.1_GlobalLocal\\BIDS\\sub-D0059\\ieeg\\sub-D0059_task-GlobalLocal_channels.tsv.\n",
            "Reading electrode coords from C:\\Users\\jz421\\Box\\CoganLab\\BIDS-1.1_GlobalLocal\\BIDS\\sub-D0059\\ieeg\\sub-D0059_space-ACPC_electrodes.tsv.\n",
            "Extracting EDF parameters from C:\\Users\\jz421\\Box\\CoganLab\\BIDS-1.1_GlobalLocal\\BIDS\\sub-D0059\\ieeg\\sub-D0059_task-GlobalLocal_acq-01_run-02_ieeg.edf...\n",
            "EDF file detected\n",
            "Setting channel info structure...\n",
            "Creating raw.info structure...\n"
          ]
        },
        {
          "name": "stderr",
          "output_type": "stream",
          "text": [
            "c:\\Users\\jz421\\Desktop\\GlobalLocal\\ieeg\\io.py:100: RuntimeWarning: The unit for channel(s) Trigger has changed from NA to V.\n",
            "  new_raw = read_raw_bids(bids_path=BIDS_path)\n",
            "c:\\Users\\jz421\\Desktop\\GlobalLocal\\ieeg\\io.py:100: RuntimeWarning: participants.tsv file not found for C:\\Users\\jz421\\Box\\CoganLab\\BIDS-1.1_GlobalLocal\\BIDS\\sub-D0059\\ieeg\\sub-D0059_task-GlobalLocal_acq-01_run-01_ieeg.edf\n",
            "  new_raw = read_raw_bids(bids_path=BIDS_path)\n"
          ]
        },
        {
          "name": "stdout",
          "output_type": "stream",
          "text": [
            "Reading events from C:\\Users\\jz421\\Box\\CoganLab\\BIDS-1.1_GlobalLocal\\BIDS\\sub-D0059\\ieeg\\sub-D0059_task-GlobalLocal_acq-01_run-02_events.tsv.\n",
            "Reading channel info from C:\\Users\\jz421\\Box\\CoganLab\\BIDS-1.1_GlobalLocal\\BIDS\\sub-D0059\\ieeg\\sub-D0059_task-GlobalLocal_channels.tsv.\n",
            "Reading electrode coords from C:\\Users\\jz421\\Box\\CoganLab\\BIDS-1.1_GlobalLocal\\BIDS\\sub-D0059\\ieeg\\sub-D0059_space-ACPC_electrodes.tsv.\n",
            "Extracting EDF parameters from C:\\Users\\jz421\\Box\\CoganLab\\BIDS-1.1_GlobalLocal\\BIDS\\sub-D0059\\ieeg\\sub-D0059_task-GlobalLocal_acq-01_run-03_ieeg.edf...\n",
            "EDF file detected\n",
            "Setting channel info structure...\n",
            "Creating raw.info structure...\n"
          ]
        },
        {
          "name": "stderr",
          "output_type": "stream",
          "text": [
            "c:\\Users\\jz421\\Desktop\\GlobalLocal\\ieeg\\io.py:100: RuntimeWarning: The unit for channel(s) Trigger has changed from NA to V.\n",
            "  new_raw = read_raw_bids(bids_path=BIDS_path)\n",
            "c:\\Users\\jz421\\Desktop\\GlobalLocal\\ieeg\\io.py:100: RuntimeWarning: participants.tsv file not found for C:\\Users\\jz421\\Box\\CoganLab\\BIDS-1.1_GlobalLocal\\BIDS\\sub-D0059\\ieeg\\sub-D0059_task-GlobalLocal_acq-01_run-02_ieeg.edf\n",
            "  new_raw = read_raw_bids(bids_path=BIDS_path)\n"
          ]
        },
        {
          "name": "stdout",
          "output_type": "stream",
          "text": [
            "Reading events from C:\\Users\\jz421\\Box\\CoganLab\\BIDS-1.1_GlobalLocal\\BIDS\\sub-D0059\\ieeg\\sub-D0059_task-GlobalLocal_acq-01_run-03_events.tsv.\n",
            "Reading channel info from C:\\Users\\jz421\\Box\\CoganLab\\BIDS-1.1_GlobalLocal\\BIDS\\sub-D0059\\ieeg\\sub-D0059_task-GlobalLocal_channels.tsv.\n",
            "Reading electrode coords from C:\\Users\\jz421\\Box\\CoganLab\\BIDS-1.1_GlobalLocal\\BIDS\\sub-D0059\\ieeg\\sub-D0059_space-ACPC_electrodes.tsv.\n",
            "Extracting EDF parameters from C:\\Users\\jz421\\Box\\CoganLab\\BIDS-1.1_GlobalLocal\\BIDS\\sub-D0059\\ieeg\\sub-D0059_task-GlobalLocal_acq-01_run-04_ieeg.edf...\n",
            "EDF file detected\n",
            "Setting channel info structure...\n",
            "Creating raw.info structure...\n"
          ]
        },
        {
          "name": "stderr",
          "output_type": "stream",
          "text": [
            "c:\\Users\\jz421\\Desktop\\GlobalLocal\\ieeg\\io.py:100: RuntimeWarning: The unit for channel(s) Trigger has changed from NA to V.\n",
            "  new_raw = read_raw_bids(bids_path=BIDS_path)\n",
            "c:\\Users\\jz421\\Desktop\\GlobalLocal\\ieeg\\io.py:100: RuntimeWarning: participants.tsv file not found for C:\\Users\\jz421\\Box\\CoganLab\\BIDS-1.1_GlobalLocal\\BIDS\\sub-D0059\\ieeg\\sub-D0059_task-GlobalLocal_acq-01_run-03_ieeg.edf\n",
            "  new_raw = read_raw_bids(bids_path=BIDS_path)\n"
          ]
        }
      ],
      "source": [
        "HOME = os.path.expanduser(\"~\")\n",
        "\n",
        "# get box directory depending on OS\n",
        "if os.name == 'nt': # windows\n",
        "    LAB_root = os.path.join(HOME, \"Box\", \"CoganLab\")\n",
        "else: # mac\n",
        "    LAB_root = os.path.join(HOME, \"Library\", \"CloudStorage\", \"Box-Box\", \"CoganLab\")\n",
        "\n",
        "layout = get_data(\"GlobalLocal\", root=LAB_root)\n",
        "subjects = layout.get(return_type=\"id\", target=\"subject\")\n",
        "\n",
        "\n",
        "\n",
        "# print(subjects)\n",
        "\n",
        "\n",
        "sub = \"D0059\"\n",
        "save_dir = os.path.join(layout.root, 'derivatives', 'spec', 'wavelet', sub)\n",
        "if not os.path.exists(save_dir):\n",
        "    os.makedirs(save_dir)\n",
        "\n",
        "\n",
        "raw = raw_from_layout(layout, subject=sub,\n",
        "                        extension='.edf', preload=True)\n",
        "\n",
        "filt = line_filter(raw, mt_bandwidth=10., n_jobs=6,\n",
        "                filter_length='700ms', verbose=10,\n",
        "                freqs=[60], notch_widths=20)\n",
        "\n",
        "\n",
        "data = [raw, filt]\n",
        "viz.utils.figure_compare(data, [\"Un\", \"\"], avg=True, n_jobs=6,\n",
        "                verbose=10, proj=True, fmax=250)\n",
        "\n",
        "save_derivative(filt, layout, \"clean\")\n",
        "\n",
        "print(\"Data saved successfully.\")\n",
        "\n",
        "\n",
        "\n",
        "\n",
        "\n",
        "# # Save data to save_dir\n",
        "# file_names = [\"data_raw.fif\", \"data_filt.fif\"]  # Specify the desired file names\n",
        "# for d, file_name in zip(data, file_names):\n",
        "#     file_path = os.path.join(save_dir, file_name)\n",
        "#     d.save(file_path, overwrite=True)\n",
        "\n",
        "\n",
        "# for sub in subjects:\n",
        "#     # if sub != \"D0022\":\n",
        "#     #     continue\n",
        "#     # Load the data\n",
        "#     raw = raw_from_layout(layout, subject=sub,\n",
        "#                            extension='.edf', preload=True)\n",
        "#     filt = line_filter(raw, mt_bandwidth=10., n_jobs=6,\n",
        "#                    filter_length='700ms', verbose=10,\n",
        "#                    freqs=[60], notch_widths=20)\n",
        "\n",
        "\n",
        "#     data = [raw, filt]\n",
        "#     viz.utils.figure_compare(data, [\"Un\", \"\"], avg=True, n_jobs=6,\n",
        "#                    verbose=10, proj=True, fmax=250)"
      ]
    },
    {
      "attachments": {},
      "cell_type": "markdown",
      "metadata": {},
      "source": [
        "save_derivative(filt, layout, \"clean\")\n",
        "\n"
      ]
    }
  ],
  "metadata": {
    "kernelspec": {
      "display_name": "Python 3",
      "language": "python",
      "name": "python3"
    },
    "language_info": {
      "codemirror_mode": {
        "name": "ipython",
        "version": 3
      },
      "file_extension": ".py",
      "mimetype": "text/x-python",
      "name": "python",
      "nbconvert_exporter": "python",
      "pygments_lexer": "ipython3",
      "version": "3.11.3"
    }
  },
  "nbformat": 4,
  "nbformat_minor": 0
}
