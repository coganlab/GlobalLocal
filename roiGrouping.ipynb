{
 "cells": [
  {
   "cell_type": "code",
   "execution_count": 15,
   "metadata": {},
   "outputs": [
    {
     "name": "stdout",
     "output_type": "stream",
     "text": [
      "['c:\\\\Users\\\\jz421\\\\Desktop\\\\GlobalLocal', 'C:\\\\Users\\\\jz421\\\\Desktop\\\\GlobalLocal\\\\IEEG_Pipelines', 'c:\\\\Users\\\\jz421\\\\AppData\\\\Local\\\\anaconda3\\\\envs\\\\ieeg\\\\python311.zip', 'c:\\\\Users\\\\jz421\\\\AppData\\\\Local\\\\anaconda3\\\\envs\\\\ieeg\\\\DLLs', 'c:\\\\Users\\\\jz421\\\\AppData\\\\Local\\\\anaconda3\\\\envs\\\\ieeg\\\\Lib', 'c:\\\\Users\\\\jz421\\\\AppData\\\\Local\\\\anaconda3\\\\envs\\\\ieeg', '', 'C:\\\\Users\\\\jz421\\\\AppData\\\\Roaming\\\\Python\\\\Python311\\\\site-packages', 'C:\\\\Users\\\\jz421\\\\AppData\\\\Roaming\\\\Python\\\\Python311\\\\site-packages\\\\win32', 'C:\\\\Users\\\\jz421\\\\AppData\\\\Roaming\\\\Python\\\\Python311\\\\site-packages\\\\win32\\\\lib', 'C:\\\\Users\\\\jz421\\\\AppData\\\\Roaming\\\\Python\\\\Python311\\\\site-packages\\\\Pythonwin', 'c:\\\\Users\\\\jz421\\\\AppData\\\\Local\\\\anaconda3\\\\envs\\\\ieeg\\\\Lib\\\\site-packages', 'c:\\\\Users\\\\jz421\\\\AppData\\\\Local\\\\anaconda3\\\\envs\\\\ieeg\\\\Lib\\\\site-packages\\\\win32', 'c:\\\\Users\\\\jz421\\\\AppData\\\\Local\\\\anaconda3\\\\envs\\\\ieeg\\\\Lib\\\\site-packages\\\\win32\\\\lib', 'c:\\\\Users\\\\jz421\\\\AppData\\\\Local\\\\anaconda3\\\\envs\\\\ieeg\\\\Lib\\\\site-packages\\\\Pythonwin', 'C:/Users/jz421/Desktop/GlobalLocal/IEEG_Pipelines/']\n"
     ]
    }
   ],
   "source": [
    "import sys\n",
    "print(sys.path)\n",
    "sys.path.append(\"C:/Users/jz421/Desktop/GlobalLocal/IEEG_Pipelines/\") #need to do this cuz otherwise ieeg isn't added to path...\n",
    "\n",
    "from ieeg.navigate import channel_outlier_marker, trial_ieeg, crop_empty_data, \\\n",
    "    outliers_to_nan\n",
    "from ieeg.io import raw_from_layout, get_data\n",
    "from ieeg.timefreq.utils import crop_pad\n",
    "from ieeg.timefreq import gamma\n",
    "from ieeg.calc.scaling import rescale\n",
    "import mne\n",
    "import os\n",
    "import numpy as np\n",
    "from ieeg.calc.reshape import make_data_same\n",
    "from ieeg.calc.stats import time_perm_cluster\n",
    "from ieeg.viz.mri import gen_labels\n",
    "\n",
    "from misc_functions import calculate_RTs, save_channels_to_file, save_sig_chans, load_sig_chans\n",
    "import matplotlib.pyplot as plt\n",
    "from collections import OrderedDict, defaultdict"
   ]
  },
  {
   "cell_type": "code",
   "execution_count": 7,
   "metadata": {},
   "outputs": [
    {
     "name": "stdout",
     "output_type": "stream",
     "text": [
      "Extracting EDF parameters from C:\\Users\\jz421\\Box\\CoganLab\\BIDS-1.1_GlobalLocal\\BIDS\\derivatives\\clean\\sub-D0057\\ieeg\\sub-D0057_task-GlobalLocal_acq-01_run-01_desc-clean_ieeg.edf...\n",
      "EDF file detected\n",
      "Setting channel info structure...\n",
      "Creating raw.info structure...\n",
      "Reading events from C:\\Users\\jz421\\Box\\CoganLab\\BIDS-1.1_GlobalLocal\\BIDS\\derivatives\\clean\\sub-D0057\\ieeg\\sub-D0057_task-GlobalLocal_acq-01_run-01_desc-clean_events.tsv.\n",
      "Reading channel info from C:\\Users\\jz421\\Box\\CoganLab\\BIDS-1.1_GlobalLocal\\BIDS\\derivatives\\clean\\sub-D0057\\ieeg\\sub-D0057_task-GlobalLocal_acq-01_run-01_desc-clean_channels.tsv.\n"
     ]
    },
    {
     "name": "stderr",
     "output_type": "stream",
     "text": [
      "C:\\Users\\jz421\\Desktop\\GlobalLocal\\IEEG_Pipelines\\ieeg\\io.py:113: RuntimeWarning: The number of channels in the channels.tsv sidecar file (179) does not match the number of channels in the raw data file (178). Will not try to set channel names.\n",
      "  new_raw = read_raw_bids(bids_path=BIDS_path, verbose=verbose)\n",
      "C:\\Users\\jz421\\Desktop\\GlobalLocal\\IEEG_Pipelines\\ieeg\\io.py:113: RuntimeWarning: Cannot set channel type for the following channels, as they are missing in the raw data: Trigger\n",
      "  new_raw = read_raw_bids(bids_path=BIDS_path, verbose=verbose)\n"
     ]
    },
    {
     "name": "stdout",
     "output_type": "stream",
     "text": [
      "Reading electrode coords from C:\\Users\\jz421\\Box\\CoganLab\\BIDS-1.1_GlobalLocal\\BIDS\\derivatives\\clean\\sub-D0057\\ieeg\\sub-D0057_acq-01_space-ACPC_electrodes.tsv.\n",
      "Extracting EDF parameters from C:\\Users\\jz421\\Box\\CoganLab\\BIDS-1.1_GlobalLocal\\BIDS\\derivatives\\clean\\sub-D0057\\ieeg\\sub-D0057_task-GlobalLocal_acq-01_run-02_desc-clean_ieeg.edf...\n",
      "EDF file detected\n",
      "Setting channel info structure...\n",
      "Creating raw.info structure...\n",
      "Reading events from C:\\Users\\jz421\\Box\\CoganLab\\BIDS-1.1_GlobalLocal\\BIDS\\derivatives\\clean\\sub-D0057\\ieeg\\sub-D0057_task-GlobalLocal_acq-01_run-02_desc-clean_events.tsv.\n"
     ]
    },
    {
     "name": "stderr",
     "output_type": "stream",
     "text": [
      "C:\\Users\\jz421\\Desktop\\GlobalLocal\\IEEG_Pipelines\\ieeg\\io.py:113: RuntimeWarning: Omitted 228 annotation(s) that were outside data range.\n",
      "  new_raw = read_raw_bids(bids_path=BIDS_path, verbose=verbose)\n"
     ]
    },
    {
     "name": "stdout",
     "output_type": "stream",
     "text": [
      "Reading channel info from C:\\Users\\jz421\\Box\\CoganLab\\BIDS-1.1_GlobalLocal\\BIDS\\derivatives\\clean\\sub-D0057\\ieeg\\sub-D0057_task-GlobalLocal_acq-01_run-02_desc-clean_channels.tsv.\n",
      "Reading electrode coords from C:\\Users\\jz421\\Box\\CoganLab\\BIDS-1.1_GlobalLocal\\BIDS\\derivatives\\clean\\sub-D0057\\ieeg\\sub-D0057_acq-01_space-ACPC_electrodes.tsv.\n"
     ]
    },
    {
     "name": "stderr",
     "output_type": "stream",
     "text": [
      "C:\\Users\\jz421\\Desktop\\GlobalLocal\\IEEG_Pipelines\\ieeg\\io.py:113: RuntimeWarning: The number of channels in the channels.tsv sidecar file (179) does not match the number of channels in the raw data file (178). Will not try to set channel names.\n",
      "  new_raw = read_raw_bids(bids_path=BIDS_path, verbose=verbose)\n",
      "C:\\Users\\jz421\\Desktop\\GlobalLocal\\IEEG_Pipelines\\ieeg\\io.py:113: RuntimeWarning: Cannot set channel type for the following channels, as they are missing in the raw data: Trigger\n",
      "  new_raw = read_raw_bids(bids_path=BIDS_path, verbose=verbose)\n"
     ]
    },
    {
     "name": "stdout",
     "output_type": "stream",
     "text": [
      "Extracting EDF parameters from C:\\Users\\jz421\\Box\\CoganLab\\BIDS-1.1_GlobalLocal\\BIDS\\derivatives\\clean\\sub-D0057\\ieeg\\sub-D0057_task-GlobalLocal_acq-01_run-03_desc-clean_ieeg.edf...\n",
      "EDF file detected\n",
      "Setting channel info structure...\n",
      "Creating raw.info structure...\n",
      "Reading events from C:\\Users\\jz421\\Box\\CoganLab\\BIDS-1.1_GlobalLocal\\BIDS\\derivatives\\clean\\sub-D0057\\ieeg\\sub-D0057_task-GlobalLocal_acq-01_run-03_desc-clean_events.tsv.\n",
      "Reading channel info from C:\\Users\\jz421\\Box\\CoganLab\\BIDS-1.1_GlobalLocal\\BIDS\\derivatives\\clean\\sub-D0057\\ieeg\\sub-D0057_task-GlobalLocal_acq-01_run-03_desc-clean_channels.tsv.\n"
     ]
    },
    {
     "name": "stderr",
     "output_type": "stream",
     "text": [
      "C:\\Users\\jz421\\Desktop\\GlobalLocal\\IEEG_Pipelines\\ieeg\\io.py:113: RuntimeWarning: Omitted 228 annotation(s) that were outside data range.\n",
      "  new_raw = read_raw_bids(bids_path=BIDS_path, verbose=verbose)\n"
     ]
    },
    {
     "name": "stdout",
     "output_type": "stream",
     "text": [
      "Reading electrode coords from C:\\Users\\jz421\\Box\\CoganLab\\BIDS-1.1_GlobalLocal\\BIDS\\derivatives\\clean\\sub-D0057\\ieeg\\sub-D0057_acq-01_space-ACPC_electrodes.tsv.\n"
     ]
    },
    {
     "name": "stderr",
     "output_type": "stream",
     "text": [
      "C:\\Users\\jz421\\Desktop\\GlobalLocal\\IEEG_Pipelines\\ieeg\\io.py:113: RuntimeWarning: The number of channels in the channels.tsv sidecar file (179) does not match the number of channels in the raw data file (178). Will not try to set channel names.\n",
      "  new_raw = read_raw_bids(bids_path=BIDS_path, verbose=verbose)\n",
      "C:\\Users\\jz421\\Desktop\\GlobalLocal\\IEEG_Pipelines\\ieeg\\io.py:113: RuntimeWarning: Cannot set channel type for the following channels, as they are missing in the raw data: Trigger\n",
      "  new_raw = read_raw_bids(bids_path=BIDS_path, verbose=verbose)\n"
     ]
    },
    {
     "name": "stdout",
     "output_type": "stream",
     "text": [
      "Extracting EDF parameters from C:\\Users\\jz421\\Box\\CoganLab\\BIDS-1.1_GlobalLocal\\BIDS\\derivatives\\clean\\sub-D0057\\ieeg\\sub-D0057_task-GlobalLocal_acq-01_run-04_desc-clean_ieeg.edf...\n",
      "EDF file detected\n",
      "Setting channel info structure...\n",
      "Creating raw.info structure...\n",
      "Reading events from C:\\Users\\jz421\\Box\\CoganLab\\BIDS-1.1_GlobalLocal\\BIDS\\derivatives\\clean\\sub-D0057\\ieeg\\sub-D0057_task-GlobalLocal_acq-01_run-04_desc-clean_events.tsv.\n"
     ]
    },
    {
     "name": "stderr",
     "output_type": "stream",
     "text": [
      "C:\\Users\\jz421\\Desktop\\GlobalLocal\\IEEG_Pipelines\\ieeg\\io.py:113: RuntimeWarning: Omitted 226 annotation(s) that were outside data range.\n",
      "  new_raw = read_raw_bids(bids_path=BIDS_path, verbose=verbose)\n"
     ]
    },
    {
     "name": "stdout",
     "output_type": "stream",
     "text": [
      "Reading channel info from C:\\Users\\jz421\\Box\\CoganLab\\BIDS-1.1_GlobalLocal\\BIDS\\derivatives\\clean\\sub-D0057\\ieeg\\sub-D0057_task-GlobalLocal_acq-01_run-04_desc-clean_channels.tsv.\n"
     ]
    },
    {
     "name": "stderr",
     "output_type": "stream",
     "text": [
      "C:\\Users\\jz421\\Desktop\\GlobalLocal\\IEEG_Pipelines\\ieeg\\io.py:113: RuntimeWarning: The number of channels in the channels.tsv sidecar file (179) does not match the number of channels in the raw data file (178). Will not try to set channel names.\n",
      "  new_raw = read_raw_bids(bids_path=BIDS_path, verbose=verbose)\n",
      "C:\\Users\\jz421\\Desktop\\GlobalLocal\\IEEG_Pipelines\\ieeg\\io.py:113: RuntimeWarning: Cannot set channel type for the following channels, as they are missing in the raw data: Trigger\n",
      "  new_raw = read_raw_bids(bids_path=BIDS_path, verbose=verbose)\n"
     ]
    },
    {
     "name": "stdout",
     "output_type": "stream",
     "text": [
      "Reading electrode coords from C:\\Users\\jz421\\Box\\CoganLab\\BIDS-1.1_GlobalLocal\\BIDS\\derivatives\\clean\\sub-D0057\\ieeg\\sub-D0057_acq-01_space-ACPC_electrodes.tsv.\n",
      "good channels before dropping bads: 178\n",
      "filt channels before dropping bads: 178\n",
      "outlier round 1 channels: ['RAMT8']\n",
      "outlier round 2 channels: ['RAMT8', 'RPI16']\n",
      "outlier round 2 channels: ['RAMT8', 'RPI16', 'LAMT12']\n",
      "Bad channels in 'good': ['RAMT8', 'RPI16', 'LAMT12']\n",
      "Bad channels in 'good' after dropping once: []\n",
      "good channels after dropping bads: 175\n",
      "filt channels after dropping bads: 175\n",
      "Reading 0 ... 5983997  =      0.000 ...  2921.874 secs...\n",
      "Applying average reference.\n",
      "Applying a custom ('sEEG',) reference.\n"
     ]
    },
    {
     "data": {
      "text/html": [
       "<table class=\"table table-hover table-striped table-sm table-responsive small\">\n",
       "    <tr>\n",
       "        <th>Measurement date</th>\n",
       "        \n",
       "        <td>July 03, 2023  12:31:29 GMT</td>\n",
       "        \n",
       "    </tr>\n",
       "    <tr>\n",
       "        <th>Experimenter</th>\n",
       "        \n",
       "        <td>mne_anonymize</td>\n",
       "        \n",
       "    </tr>\n",
       "        <th>Participant</th>\n",
       "        \n",
       "            \n",
       "            <td>sub-D0057</td>\n",
       "            \n",
       "        \n",
       "    </tr>\n",
       "    <tr>\n",
       "        <th>Digitized points</th>\n",
       "        \n",
       "        <td>178 points</td>\n",
       "        \n",
       "    </tr>\n",
       "    <tr>\n",
       "        <th>Good channels</th>\n",
       "        <td>175 sEEG</td>\n",
       "    </tr>\n",
       "    <tr>\n",
       "        <th>Bad channels</th>\n",
       "        <td>None</td>\n",
       "    </tr>\n",
       "    <tr>\n",
       "        <th>EOG channels</th>\n",
       "        <td>Not available</td>\n",
       "    </tr>\n",
       "    <tr>\n",
       "        <th>ECG channels</th>\n",
       "        <td>Not available</td>\n",
       "    \n",
       "    <tr>\n",
       "        <th>Sampling frequency</th>\n",
       "        <td>2048.00 Hz</td>\n",
       "    </tr>\n",
       "    \n",
       "    \n",
       "    <tr>\n",
       "        <th>Highpass</th>\n",
       "        <td>0.00 Hz</td>\n",
       "    </tr>\n",
       "    \n",
       "    \n",
       "    <tr>\n",
       "        <th>Lowpass</th>\n",
       "        <td>1024.00 Hz</td>\n",
       "    </tr>\n",
       "    \n",
       "    \n",
       "    \n",
       "    <tr>\n",
       "        <th>Filenames</th>\n",
       "        <td>sub-D0057_task-GlobalLocal_acq-01_run-01_desc-clean_ieeg.edf&lt;br&gt;sub-D0057_task-GlobalLocal_acq-01_run-01_desc-clean_ieeg.edf&lt;br&gt;sub-D0057_task-GlobalLocal_acq-01_run-02_desc-clean_ieeg.edf&lt;br&gt;sub-D0057_task-GlobalLocal_acq-01_run-03_desc-clean_ieeg.edf&lt;br&gt;sub-D0057_task-GlobalLocal_acq-01_run-04_desc-clean_ieeg.edf</td>\n",
       "    </tr>\n",
       "    \n",
       "    <tr>\n",
       "        <th>Duration</th>\n",
       "        <td>00:48:42 (HH:MM:SS)</td>\n",
       "    </tr>\n",
       "</table>"
      ],
      "text/plain": [
       "<RawEDF | sub-D0057_task-GlobalLocal_acq-01_run-01_desc-clean_ieeg.edf, 175 x 5983998 (2921.9 s), ~7.80 GB, data loaded>"
      ]
     },
     "execution_count": 7,
     "metadata": {},
     "output_type": "execute_result"
    }
   ],
   "source": [
    "sub = 'D0057'\n",
    "task = 'GlobalLocal'\n",
    "output_name = \"Response_fixationCrossBase_1sec_mirror\"\n",
    "events = [\"Response\"]\n",
    "times = (-1,1.5)\n",
    "base_times = [-1,0]\n",
    "LAB_root = None\n",
    "channels = None\n",
    "full_trial_base = False\n",
    "\n",
    "if LAB_root is None:\n",
    "    HOME = os.path.expanduser(\"~\")\n",
    "    if os.name == 'nt':  # windows\n",
    "        LAB_root = os.path.join(HOME, \"Box\", \"CoganLab\")\n",
    "    else:  # mac\n",
    "        LAB_root = os.path.join(HOME, \"Library\", \"CloudStorage\", \"Box-Box\",\n",
    "                                \"CoganLab\")\n",
    "\n",
    "layout = get_data(task, root=LAB_root)\n",
    "filt = raw_from_layout(layout.derivatives['derivatives/clean'], subject=sub,\n",
    "                    extension='.edf', desc='clean', preload=False)\n",
    "save_dir = os.path.join(layout.root, 'derivatives', 'freqFilt', 'figs', sub)\n",
    "if not os.path.exists(save_dir):\n",
    "    os.makedirs(save_dir)\n",
    "\n",
    "good = crop_empty_data(filt)\n",
    "# %%\n",
    "\n",
    "print(f\"good channels before dropping bads: {len(good.ch_names)}\")\n",
    "print(f\"filt channels before dropping bads: {len(filt.ch_names)}\")\n",
    "\n",
    "good.info['bads'] = channel_outlier_marker(good, 3, 2)\n",
    "print(\"Bad channels in 'good':\", good.info['bads'])\n",
    "\n",
    "filt.drop_channels(good.info['bads'])  # this has to come first cuz if you drop from good first, then good.info['bads'] is just empty\n",
    "good.drop_channels(good.info['bads'])\n",
    "\n",
    "print(\"Bad channels in 'good' after dropping once:\", good.info['bads'])\n",
    "\n",
    "print(f\"good channels after dropping bads: {len(good.ch_names)}\")\n",
    "print(f\"filt channels after dropping bads: {len(filt.ch_names)}\")\n",
    "\n",
    "good.load_data()\n",
    "\n",
    "# If channels is None, use all channels\n",
    "if channels is None:\n",
    "    channels = good.ch_names\n",
    "else:\n",
    "    # Validate the provided channels\n",
    "    invalid_channels = [ch for ch in channels if ch not in good.ch_names]\n",
    "    if invalid_channels:\n",
    "        raise ValueError(\n",
    "            f\"The following channels are not valid: {invalid_channels}\")\n",
    "\n",
    "    # Use only the specified channels\n",
    "    good.pick_channels(channels)\n",
    "\n",
    "ch_type = filt.get_channel_types(only_data_chs=True)[0]\n",
    "good.set_eeg_reference(ref_channels=\"average\", ch_type=ch_type)"
   ]
  },
  {
   "cell_type": "code",
   "execution_count": 10,
   "metadata": {},
   "outputs": [],
   "source": [
    "default_dict = gen_labels(good.info)"
   ]
  },
  {
   "cell_type": "markdown",
   "metadata": {},
   "source": [
    "#### default_dict has electrodes as keys and ROIs as values. rawROI dict has ROIs as keys and electrodes as values. filtROI is rawROI but without white matter electrodes."
   ]
  },
  {
   "cell_type": "code",
   "execution_count": 17,
   "metadata": {},
   "outputs": [
    {
     "name": "stdout",
     "output_type": "stream",
     "text": [
      "{'ctx_rh_G_Ins_lg_and_S_cent_ins': ['RAI1'], 'Right-Cerebral-White-Matter': ['RAI2', 'RAI3', 'RAI4', 'RAI5', 'RAI7', 'RAI8', 'RAI9', 'RAI10', 'RAI11', 'RPI1', 'RPI2', 'RPI3', 'RPI4', 'RPI5', 'RPI6', 'RPI7', 'RPI8', 'RPI9', 'RPI10', 'RPI11', 'RAMF2', 'RAMF3', 'RAMF4', 'RAMF5', 'RAMF6', 'RAMF7', 'RAMF8', 'RAMF9', 'RMMF3', 'RMMF4', 'RMMF5', 'RMMF6', 'RMMF7', 'RMMF8', 'RMMF9', 'RMMF10', 'RMMF11', 'RMMF13', 'RMMF14', 'RPIP1', 'RPIP2', 'RPIP3', 'RPIP4', 'RPIP5', 'RPIP6', 'RPIP7', 'RPIP8', 'RPIP9', 'RAST1', 'RAIT5', 'RAIT6', 'RAIT7', 'RAMT4', 'RAMT5', 'RAMT6', 'RMMT1', 'RMMT3', 'RMMT5', 'RMMT6', 'RMMT7', 'RMMT8', 'RMMT9', 'RMMT10', 'RPMT5', 'RPIT2', 'RPIT5', 'RPIT6', 'RPIT7', 'RPIT8', 'RPIT9', 'RPIT10'], 'ctx_rh_S_circular_insula_sup': ['RAI6'], 'ctx_rh_S_front_sup': ['RAI12', 'RAI13'], 'Unknown': ['RAI14', 'RPI15', 'RAMF13', 'RAMF14', 'RMMF16', 'RPIP13', 'RAST4', 'RAST8', 'LAMT10'], 'ctx_rh_G_front_sup': ['RAI15', 'RAI16'], 'ctx_rh_S_precentral-sup-part': ['RPI12', 'RPI13', 'RMMF12'], 'ctx_rh_G_front_middle': ['RPI14', 'RAMF10', 'RAMF11', 'RAMF12'], 'ctx_rh_G_rectus': ['RAIF1'], 'ctx_rh_S_orbital_med-olfact': ['RAIF2'], 'ctx_rh_G_orbital': ['RAIF3', 'RAIF5', 'RAIF9', 'RAIF10'], 'ctx_lh_G_rectus': ['RAIF4'], 'ctx_rh_S_orbital-H_Shaped': ['RAIF6', 'RAIF7', 'RAIF8'], 'ctx_rh_G_front_inf-Orbital': ['RAIF11', 'RAIF12'], 'ctx_rh_G_front_inf-Triangul': ['RAIF13', 'RAIF14'], 'ctx_rh_G_and_S_cingul-Mid-Ant': ['RAMF1'], 'ctx_rh_G_and_S_cingul-Mid-Post': ['RMMF1'], 'ctx_rh_S_pericallosal': ['RMMF2'], 'ctx_rh_G_precentral': ['RMMF15'], 'ctx_rh_S_temporal_sup': ['RPIP10', 'RAST2', 'RAST3', 'RAMT7', 'RAMT10'], 'ctx_rh_G_pariet_inf-Supramar': ['RPIP11', 'RPIP12', 'RPIP14'], 'ctx_rh_G_temp_sup-Lateral': ['RAST5', 'RAST6', 'RAST7'], 'ctx_rh_Pole_temporal': ['RAIT1', 'RAIT2', 'RAIT3', 'RAIT4'], 'ctx_rh_G_temporal_middle': ['RAIT8', 'RAIT9', 'RAIT10', 'RAMT9', 'RAMT11', 'RAMT12', 'RMMT11', 'RMMT12', 'RPMT8', 'RPMT9', 'RPMT10', 'RPIT11', 'RPIT12'], 'Right-Amygdala': ['RAMT1', 'RAMT2', 'RAMT3'], 'Right-Hippocampus': ['RMMT2', 'RMMT4'], 'ctx_rh_G_oc-temp_med-Parahip': ['RPMT1'], 'ctx_rh_S_oc-temp_med_and_Lingual': ['RPMT2', 'RPMT3', 'RPMT4', 'RPIT3', 'RPIT4'], 'ctx_rh_S_temporal_inf': ['RPMT6', 'RPMT7'], 'ctx_rh_G_oc-temp_med-Lingual': ['RPIT1'], 'Left-Hippocampus': ['LAMT1', 'LAMT2', 'LAMT3', 'LMMT1', 'LMMT2'], 'Left-Amygdala': ['LAMT4', 'LAMT5'], 'Left-Cerebral-White-Matter': ['LAMT6', 'LAMT7', 'LMMT3', 'LMMT4', 'LMMT5', 'LMMT6'], 'ctx_lh_S_temporal_inf': ['LAMT8', 'LAMT9', 'LMMT7', 'LMMT8', 'LMMT9'], 'ctx_lh_G_temporal_middle': ['LAMT11', 'LMMT10', 'LMMT11', 'LMMT12']}\n",
      "{'ctx_rh_G_Ins_lg_and_S_cent_ins': ['RAI1'], 'ctx_rh_S_circular_insula_sup': ['RAI6'], 'ctx_rh_S_front_sup': ['RAI12', 'RAI13'], 'Unknown': ['RAI14', 'RPI15', 'RAMF13', 'RAMF14', 'RMMF16', 'RPIP13', 'RAST4', 'RAST8', 'LAMT10'], 'ctx_rh_G_front_sup': ['RAI15', 'RAI16'], 'ctx_rh_S_precentral-sup-part': ['RPI12', 'RPI13', 'RMMF12'], 'ctx_rh_G_front_middle': ['RPI14', 'RAMF10', 'RAMF11', 'RAMF12'], 'ctx_rh_G_rectus': ['RAIF1'], 'ctx_rh_S_orbital_med-olfact': ['RAIF2'], 'ctx_rh_G_orbital': ['RAIF3', 'RAIF5', 'RAIF9', 'RAIF10'], 'ctx_lh_G_rectus': ['RAIF4'], 'ctx_rh_S_orbital-H_Shaped': ['RAIF6', 'RAIF7', 'RAIF8'], 'ctx_rh_G_front_inf-Orbital': ['RAIF11', 'RAIF12'], 'ctx_rh_G_front_inf-Triangul': ['RAIF13', 'RAIF14'], 'ctx_rh_G_and_S_cingul-Mid-Ant': ['RAMF1'], 'ctx_rh_G_and_S_cingul-Mid-Post': ['RMMF1'], 'ctx_rh_S_pericallosal': ['RMMF2'], 'ctx_rh_G_precentral': ['RMMF15'], 'ctx_rh_S_temporal_sup': ['RPIP10', 'RAST2', 'RAST3', 'RAMT7', 'RAMT10'], 'ctx_rh_G_pariet_inf-Supramar': ['RPIP11', 'RPIP12', 'RPIP14'], 'ctx_rh_G_temp_sup-Lateral': ['RAST5', 'RAST6', 'RAST7'], 'ctx_rh_Pole_temporal': ['RAIT1', 'RAIT2', 'RAIT3', 'RAIT4'], 'ctx_rh_G_temporal_middle': ['RAIT8', 'RAIT9', 'RAIT10', 'RAMT9', 'RAMT11', 'RAMT12', 'RMMT11', 'RMMT12', 'RPMT8', 'RPMT9', 'RPMT10', 'RPIT11', 'RPIT12'], 'Right-Amygdala': ['RAMT1', 'RAMT2', 'RAMT3'], 'Right-Hippocampus': ['RMMT2', 'RMMT4'], 'ctx_rh_G_oc-temp_med-Parahip': ['RPMT1'], 'ctx_rh_S_oc-temp_med_and_Lingual': ['RPMT2', 'RPMT3', 'RPMT4', 'RPIT3', 'RPIT4'], 'ctx_rh_S_temporal_inf': ['RPMT6', 'RPMT7'], 'ctx_rh_G_oc-temp_med-Lingual': ['RPIT1'], 'Left-Hippocampus': ['LAMT1', 'LAMT2', 'LAMT3', 'LMMT1', 'LMMT2'], 'Left-Amygdala': ['LAMT4', 'LAMT5'], 'ctx_lh_S_temporal_inf': ['LAMT8', 'LAMT9', 'LMMT7', 'LMMT8', 'LMMT9'], 'ctx_lh_G_temporal_middle': ['LAMT11', 'LMMT10', 'LMMT11', 'LMMT12']}\n"
     ]
    }
   ],
   "source": [
    "# Creating a new dictionary to group keys by their values\n",
    "rawROI_dict = defaultdict(list)\n",
    "\n",
    "for key, value in test.items():\n",
    "    rawROI_dict[value].append(key)\n",
    "\n",
    "# Converting the defaultdict back to a regular dictionary for output\n",
    "rawROI_dict = dict(rawROI_dict)\n",
    "\n",
    "# Display the new dictionary\n",
    "print(rawROI_dict)\n",
    "\n",
    "# Creating a new dictionary to exclude keys containing \"White-Matter\"\n",
    "filtROI_dict = {key: value for key, value in rawROI_dict.items() if \"White-Matter\" not in key}\n",
    "\n",
    "# Display the new dictionary\n",
    "print(filtROI_dict)\n"
   ]
  },
  {
   "cell_type": "code",
   "execution_count": 22,
   "metadata": {},
   "outputs": [
    {
     "data": {
      "text/plain": [
       "{'ctx_rh_S_front_sup': ['RAI12', 'RAI13'],\n",
       " 'ctx_rh_G_front_sup': ['RAI15', 'RAI16'],\n",
       " 'ctx_rh_G_front_middle': ['RPI14', 'RAMF10', 'RAMF11', 'RAMF12'],\n",
       " 'ctx_rh_G_front_inf-Orbital': ['RAIF11', 'RAIF12'],\n",
       " 'ctx_rh_G_front_inf-Triangul': ['RAIF13', 'RAIF14']}"
      ]
     },
     "execution_count": 22,
     "metadata": {},
     "output_type": "execute_result"
    }
   ],
   "source": [
    "front = {key: value for key, value in filtROI_dict.items() if \"front\" in key}\n",
    "front"
   ]
  },
  {
   "cell_type": "code",
   "execution_count": null,
   "metadata": {},
   "outputs": [],
   "source": []
  }
 ],
 "metadata": {
  "kernelspec": {
   "display_name": "ieeg",
   "language": "python",
   "name": "python3"
  },
  "language_info": {
   "codemirror_mode": {
    "name": "ipython",
    "version": 3
   },
   "file_extension": ".py",
   "mimetype": "text/x-python",
   "name": "python",
   "nbconvert_exporter": "python",
   "pygments_lexer": "ipython3",
   "version": "3.11.3"
  },
  "orig_nbformat": 4
 },
 "nbformat": 4,
 "nbformat_minor": 2
}
