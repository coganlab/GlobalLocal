{
  "cells": [
    {
      "cell_type": "code",
      "execution_count": 1,
      "metadata": {
        "collapsed": false
      },
      "outputs": [
        {
          "name": "stdout",
          "output_type": "stream",
          "text": [
            "['C:\\\\Users\\\\jz421\\\\Desktop\\\\GlobalLocal\\\\IEEG_Pipelines', 'c:\\\\Users\\\\jz421\\\\AppData\\\\Local\\\\anaconda3\\\\envs\\\\ieeg\\\\python311.zip', 'c:\\\\Users\\\\jz421\\\\AppData\\\\Local\\\\anaconda3\\\\envs\\\\ieeg\\\\DLLs', 'c:\\\\Users\\\\jz421\\\\AppData\\\\Local\\\\anaconda3\\\\envs\\\\ieeg\\\\Lib', 'c:\\\\Users\\\\jz421\\\\AppData\\\\Local\\\\anaconda3\\\\envs\\\\ieeg', '', 'C:\\\\Users\\\\jz421\\\\AppData\\\\Roaming\\\\Python\\\\Python311\\\\site-packages', 'C:\\\\Users\\\\jz421\\\\AppData\\\\Roaming\\\\Python\\\\Python311\\\\site-packages\\\\win32', 'C:\\\\Users\\\\jz421\\\\AppData\\\\Roaming\\\\Python\\\\Python311\\\\site-packages\\\\win32\\\\lib', 'C:\\\\Users\\\\jz421\\\\AppData\\\\Roaming\\\\Python\\\\Python311\\\\site-packages\\\\Pythonwin', 'c:\\\\Users\\\\jz421\\\\AppData\\\\Local\\\\anaconda3\\\\envs\\\\ieeg\\\\Lib\\\\site-packages', 'c:\\\\Users\\\\jz421\\\\AppData\\\\Local\\\\anaconda3\\\\envs\\\\ieeg\\\\Lib\\\\site-packages\\\\win32', 'c:\\\\Users\\\\jz421\\\\AppData\\\\Local\\\\anaconda3\\\\envs\\\\ieeg\\\\Lib\\\\site-packages\\\\win32\\\\lib', 'c:\\\\Users\\\\jz421\\\\AppData\\\\Local\\\\anaconda3\\\\envs\\\\ieeg\\\\Lib\\\\site-packages\\\\Pythonwin']\n"
          ]
        }
      ],
      "source": [
        "import sys\n",
        "import os\n",
        "\n",
        "print(sys.path)\n",
        "sys.path.append(\"C:/Users/jz421/Desktop/GlobalLocal/IEEG_Pipelines/\") #need to do this cuz otherwise ieeg isn't added to path...\n",
        "\n",
        "# Get the absolute path to the directory containing the current script\n",
        "# For GlobalLocal/src/analysis/preproc/make_epoched_data.py, this is GlobalLocal/src/analysis/preproc\n",
        "try:\n",
        "    # This will work if running as a .py script\n",
        "    current_file_path = os.path.abspath(__file__)\n",
        "    current_script_dir = os.path.dirname(current_file_path)\n",
        "except NameError:\n",
        "    # This will be executed if __file__ is not defined (e.g., in a Jupyter Notebook)\n",
        "    # os.getcwd() often gives the directory of the notebook,\n",
        "    # or the directory from which the Jupyter server was started.\n",
        "    current_script_dir = os.getcwd()\n",
        "\n",
        "# Navigate up three levels to get to the 'GlobalLocal' directory\n",
        "project_root = os.path.abspath(os.path.join(current_script_dir, '..', '..', '..'))\n",
        "\n",
        "# Add the 'GlobalLocal' directory to sys.path if it's not already there\n",
        "if project_root not in sys.path:\n",
        "    sys.path.insert(0, project_root) # insert at the beginning to prioritize it\n",
        "\n",
        "import mne\n",
        "import os\n",
        "from ieeg.viz.mri import plot_subj, subject_to_info, plot_on_average #this used to import plot subj sig and nonsig, and plot electrodes from mri directly, but in order to save aaron's changes, i put them into jim_mri\n",
        "from src.analysis.vis.jim_mri import plot_subj_sig_and_nonsig, _plot_electrodes, get_sub_dir\n",
        "from ieeg.io import raw_from_layout, get_data\n",
        "# from utils import load_sig_chans, get_sig_chans_per_subject, make_sig_electrodes_per_subject_and_roi_dict, channel_names_to_indices\n",
        "from src.analysis.utils.general_utils import *\n",
        "\n",
        "import json\n",
        "import pyvista as pv\n",
        "pv.global_theme.allow_empty_mesh = True"
      ]
    },
    {
      "cell_type": "code",
      "execution_count": null,
      "metadata": {},
      "outputs": [],
      "source": [
        "# subjects = ['D0057', 'D0059', 'D0063', 'D0065', 'D0069', 'D0071', 'D0077', 'D0090', 'D0094', 'D0100', 'D0102', 'D0103', 'D0107A', 'D0110']\n",
        "\n",
        "# leave out D107A for now cuz it's breaking my code. TODO: fix plotting code to work with D107A.\n",
        "# subjects = ['D0057', 'D0059', 'D0063', 'D0065', 'D0069', 'D0071', 'D0077', 'D0090', 'D0094', 'D0100', 'D0102', 'D0103', 'D0110', 'D0116', 'D0117', 'D0121']\n",
        "# subjects = ['D0057', 'D0059', 'D0063', 'D0065', 'D0069', 'D0071', 'D0077', 'D0090', 'D0094', 'D0100', 'D0102', 'D0103', 'D0110']\n",
        "# subjects = ['D0057', 'D0059','D0063', 'D0065', 'D0069', 'D0071', 'D0077', 'D0090', 'D0094', 'D0100', 'D0102', 'D0103']\n",
        "subjects = ['D0057']"
      ]
    },
    {
      "cell_type": "markdown",
      "metadata": {},
      "source": [
        "get significant channels per roi"
      ]
    },
    {
      "cell_type": "code",
      "execution_count": 4,
      "metadata": {},
      "outputs": [
        {
          "name": "stdout",
          "output_type": "stream",
          "text": [
            "Attempting to load the subjects' electrodes-to-ROIs dictionary...\n",
            "Loaded data from C:\\Users\\jz421\\Desktop\\GlobalLocal\\src\\analysis\\config\\subjects_electrodestoROIs_dict.json\n",
            "Dictionary loaded successfully. Ready to proceed!\n",
            "Loaded significant channels for subject D0057\n",
            "For subject D0057, G_front_inf-Opercular, G_front_inf-Orbital, G_front_inf-Triangul, G_front_middle, G_front_sup, Lat_Fis-ant-Horizont, Lat_Fis-ant-Vertical, S_circular_insula_ant, S_circular_insula_sup, S_front_inf, S_front_middle, S_front_sup electrodes are: ['RAI6', 'RAI12', 'RAI13', 'RAI14', 'RAI15', 'RAI16', 'RPI15', 'RPI14', 'RAMF10', 'RAMF11', 'RAMF12', 'RAMF13', 'RAMF14', 'RAIF11', 'RAIF12', 'RAIF13', 'RAIF14']\n",
            "For subject D0059, G_front_inf-Opercular, G_front_inf-Orbital, G_front_inf-Triangul, G_front_middle, G_front_sup, Lat_Fis-ant-Horizont, Lat_Fis-ant-Vertical, S_circular_insula_ant, S_circular_insula_sup, S_front_inf, S_front_middle, S_front_sup electrodes are: ['LMMF9', 'LMMF11', 'LMMF10', 'LMMF12', 'LPSF16']\n",
            "For subject D0063, G_front_inf-Opercular, G_front_inf-Orbital, G_front_inf-Triangul, G_front_middle, G_front_sup, Lat_Fis-ant-Horizont, Lat_Fis-ant-Vertical, S_circular_insula_ant, S_circular_insula_sup, S_front_inf, S_front_middle, S_front_sup electrodes are: ['LASF10', 'LASF11', 'LASF14', 'LASF15', 'LASF16', 'LMSF5', 'LMSF6', 'LMSF12', 'LPSF10', 'LPSF12', 'ROF16', 'RAI16', 'RAMF11', 'RAMF12', 'RAMF13', 'RAMF14', 'RMMF13', 'RMMF14', 'RAI4', 'RAI6', 'RAI5', 'RAI10', 'RAI11', 'RASF15', 'RASF16', 'RMSF8', 'RMSF9', 'RMSF10', 'RMSF11', 'RMSF12', 'RMSF7', 'RAMF8', 'RAMF9', 'RAMF10', 'RMMF9', 'RMMF10']\n",
            "For subject D0065, G_front_inf-Opercular, G_front_inf-Orbital, G_front_inf-Triangul, G_front_middle, G_front_sup, Lat_Fis-ant-Horizont, Lat_Fis-ant-Vertical, S_circular_insula_ant, S_circular_insula_sup, S_front_inf, S_front_middle, S_front_sup electrodes are: ['RASF13', 'RASF14', 'RASF15', 'RASF16', 'RMSF11', 'RMSF12', 'RMSF13', 'RMSF14', 'RI7']\n",
            "For subject D0069, G_front_inf-Opercular, G_front_inf-Orbital, G_front_inf-Triangul, G_front_middle, G_front_sup, Lat_Fis-ant-Horizont, Lat_Fis-ant-Vertical, S_circular_insula_ant, S_circular_insula_sup, S_front_inf, S_front_middle, S_front_sup electrodes are: ['LOF8']\n",
            "For subject D0071, G_front_inf-Opercular, G_front_inf-Orbital, G_front_inf-Triangul, G_front_middle, G_front_sup, Lat_Fis-ant-Horizont, Lat_Fis-ant-Vertical, S_circular_insula_ant, S_circular_insula_sup, S_front_inf, S_front_middle, S_front_sup electrodes are: ['RFO14', 'RFO16', 'RIA4', 'RIP6', 'RIA5', 'RIA11', 'RIA12', 'RIA13', 'RIA14', 'RIA16', 'RIP14', 'RIP15', 'RIP16']\n",
            "For subject D0077, G_front_inf-Opercular, G_front_inf-Orbital, G_front_inf-Triangul, G_front_middle, G_front_sup, Lat_Fis-ant-Horizont, Lat_Fis-ant-Vertical, S_circular_insula_ant, S_circular_insula_sup, S_front_inf, S_front_middle, S_front_sup electrodes are: []\n",
            "For subject D0090, G_front_inf-Opercular, G_front_inf-Orbital, G_front_inf-Triangul, G_front_middle, G_front_sup, Lat_Fis-ant-Horizont, Lat_Fis-ant-Vertical, S_circular_insula_ant, S_circular_insula_sup, S_front_inf, S_front_middle, S_front_sup electrodes are: ['RFO15', 'RIA6', 'RIA11', 'RIA12', 'RIA14', 'RIA15', 'RIA16', 'RIP7']\n",
            "For subject D0094, G_front_inf-Opercular, G_front_inf-Orbital, G_front_inf-Triangul, G_front_middle, G_front_sup, Lat_Fis-ant-Horizont, Lat_Fis-ant-Vertical, S_circular_insula_ant, S_circular_insula_sup, S_front_inf, S_front_middle, S_front_sup electrodes are: ['LFO12', 'LFO13', 'LFO15', 'LFO16', 'LFAM8', 'LFAM9', 'LFAM10', 'LFAM13', 'LFAM14', 'LFPM10', 'LFPM11', 'LFPM12', 'LPAS1', 'LIA16', 'LFAI3', 'LFAI4', 'LFAI5', 'LFPI10', 'LPAI9', 'LPAI10', 'LIA4', 'LIA5', 'LFAI9', 'LFAI10', 'LIA11', 'LIA12', 'LIA13', 'LIA14']\n",
            "For subject D0100, G_front_inf-Opercular, G_front_inf-Orbital, G_front_inf-Triangul, G_front_middle, G_front_sup, Lat_Fis-ant-Horizont, Lat_Fis-ant-Vertical, S_circular_insula_ant, S_circular_insula_sup, S_front_inf, S_front_middle, S_front_sup electrodes are: []\n",
            "For subject D0102, G_front_inf-Opercular, G_front_inf-Orbital, G_front_inf-Triangul, G_front_middle, G_front_sup, Lat_Fis-ant-Horizont, Lat_Fis-ant-Vertical, S_circular_insula_ant, S_circular_insula_sup, S_front_inf, S_front_middle, S_front_sup electrodes are: ['RFO13', 'RFO14', 'RFAM15', 'RFAI2', 'RFAI3']\n",
            "For subject D0103, G_front_inf-Opercular, G_front_inf-Orbital, G_front_inf-Triangul, G_front_middle, G_front_sup, Lat_Fis-ant-Horizont, Lat_Fis-ant-Vertical, S_circular_insula_ant, S_circular_insula_sup, S_front_inf, S_front_middle, S_front_sup electrodes are: ['LFAM8', 'LFAM9', 'LAI13', 'LAI14', 'LFAM15', 'LAI4', 'LAI7', 'LAI8', 'LAI18', 'LFO15', 'LFAI4']\n",
            "For subject D0107A, G_front_inf-Opercular, G_front_inf-Orbital, G_front_inf-Triangul, G_front_middle, G_front_sup, Lat_Fis-ant-Horizont, Lat_Fis-ant-Vertical, S_circular_insula_ant, S_circular_insula_sup, S_front_inf, S_front_middle, S_front_sup electrodes are: ['RFOA16', 'RFOA17', 'RFOA18', 'RFAI3', 'RIA5', 'RIA6', 'RFAM7', 'RFAM9', 'RFAM10', 'RFAM11', 'RFAM12', 'RFMM9', 'RFMM11', 'RFMM12', 'RFMM13', 'RFMM14', 'RFMM15', 'RFMM8', 'RIA12', 'RIA13', 'RIA14', 'RIA15', 'RIA16', 'RIA17', 'RIA18']\n",
            "For subject D0110, G_front_inf-Opercular, G_front_inf-Orbital, G_front_inf-Triangul, G_front_middle, G_front_sup, Lat_Fis-ant-Horizont, Lat_Fis-ant-Vertical, S_circular_insula_ant, S_circular_insula_sup, S_front_inf, S_front_middle, S_front_sup electrodes are: ['LASF10', 'LOF13', 'LOF15', 'LINS4', 'LINS5']\n",
            "For subject D0116, G_front_inf-Opercular, G_front_inf-Orbital, G_front_inf-Triangul, G_front_middle, G_front_sup, Lat_Fis-ant-Horizont, Lat_Fis-ant-Vertical, S_circular_insula_ant, S_circular_insula_sup, S_front_inf, S_front_middle, S_front_sup electrodes are: ['LFOA14', 'LFOA17', 'LFOA18', 'LFOP15', 'LFAM10', 'LFAM11', 'LFMM14', 'LAI12', 'LAI16', 'LFAM12', 'LAI7', 'LAI8', 'LFMI3', 'LFMI5', 'LFMI6', 'RFOA14', 'RFOA15', 'RFOA16', 'RFOP15', 'RFMM10', 'RFMM11', 'RFMM12', 'RAI7', 'RAI11', 'RAI12', 'RAI14', 'RAI15', 'RAI16', 'RAI17', 'RFMI4']\n",
            "For subject D0117, G_front_inf-Opercular, G_front_inf-Orbital, G_front_inf-Triangul, G_front_middle, G_front_sup, Lat_Fis-ant-Horizont, Lat_Fis-ant-Vertical, S_circular_insula_ant, S_circular_insula_sup, S_front_inf, S_front_middle, S_front_sup electrodes are: ['RMOF15', 'RINSA15', 'RINSA16', 'RLOF10', 'RLOF11', 'RLOF16', 'RINSA3', 'RINSA11', 'RINSA12', 'RINSA13', 'RINSA14']\n",
            "For subject D0121, G_front_inf-Opercular, G_front_inf-Orbital, G_front_inf-Triangul, G_front_middle, G_front_sup, Lat_Fis-ant-Horizont, Lat_Fis-ant-Vertical, S_circular_insula_ant, S_circular_insula_sup, S_front_inf, S_front_middle, S_front_sup electrodes are: ['LFOA15', 'LFOP12', 'LFO5', 'LFO6', 'LFO8', 'LFO9', 'LFO12', 'LFO13', 'LFO14', 'LFO15', 'LFO16', 'LFO17', 'LFO18', 'LFA1', 'LFA2', 'LFP16', 'LFP17', 'LFPS1', 'LFPS2', 'LFPP1', 'LFOP13', 'LFOP15', 'LFOP16', 'LFOP18', 'LFA7', 'LFA8', 'LFAS6', 'LFAM8', 'LFAM9', 'LFA9', 'LFA10', 'LFA11', 'LFA12', 'LFAM10', 'LFAM11', 'LFAM12', 'LFMM8', 'LFMM9', 'LFMM10', 'LFMM11', 'LFMM12', 'LFAS7', 'LFAS8', 'LFAS9', 'LFAS10', 'LFMS7', 'LFMS9', 'LFMS10', 'LFMS11', 'LFMS12', 'LFPS6', 'LFPS7', 'LFPS9', 'LFPS10', 'LFPP7', 'LFPP9', 'LFPP10', 'LFMI4', 'LFMI5', 'LFMI8', 'LFMI9']\n",
            "Subject D0057 significant G_front_inf-Opercular, G_front_inf-Orbital, G_front_inf-Triangul, G_front_middle, G_front_sup, Lat_Fis-ant-Horizont, Lat_Fis-ant-Vertical, S_circular_insula_ant, S_circular_insula_sup, S_front_inf, S_front_middle, S_front_sup electrodes: ['RAI6', 'RAMF10', 'RAMF12', 'RAMF14']\n",
            "Subject D0059 significant G_front_inf-Opercular, G_front_inf-Orbital, G_front_inf-Triangul, G_front_middle, G_front_sup, Lat_Fis-ant-Horizont, Lat_Fis-ant-Vertical, S_circular_insula_ant, S_circular_insula_sup, S_front_inf, S_front_middle, S_front_sup electrodes: []\n",
            "Subject D0063 significant G_front_inf-Opercular, G_front_inf-Orbital, G_front_inf-Triangul, G_front_middle, G_front_sup, Lat_Fis-ant-Horizont, Lat_Fis-ant-Vertical, S_circular_insula_ant, S_circular_insula_sup, S_front_inf, S_front_middle, S_front_sup electrodes: []\n",
            "Subject D0065 significant G_front_inf-Opercular, G_front_inf-Orbital, G_front_inf-Triangul, G_front_middle, G_front_sup, Lat_Fis-ant-Horizont, Lat_Fis-ant-Vertical, S_circular_insula_ant, S_circular_insula_sup, S_front_inf, S_front_middle, S_front_sup electrodes: []\n",
            "Subject D0069 significant G_front_inf-Opercular, G_front_inf-Orbital, G_front_inf-Triangul, G_front_middle, G_front_sup, Lat_Fis-ant-Horizont, Lat_Fis-ant-Vertical, S_circular_insula_ant, S_circular_insula_sup, S_front_inf, S_front_middle, S_front_sup electrodes: []\n",
            "Subject D0071 significant G_front_inf-Opercular, G_front_inf-Orbital, G_front_inf-Triangul, G_front_middle, G_front_sup, Lat_Fis-ant-Horizont, Lat_Fis-ant-Vertical, S_circular_insula_ant, S_circular_insula_sup, S_front_inf, S_front_middle, S_front_sup electrodes: []\n",
            "Subject D0077 significant G_front_inf-Opercular, G_front_inf-Orbital, G_front_inf-Triangul, G_front_middle, G_front_sup, Lat_Fis-ant-Horizont, Lat_Fis-ant-Vertical, S_circular_insula_ant, S_circular_insula_sup, S_front_inf, S_front_middle, S_front_sup electrodes: []\n",
            "Subject D0090 significant G_front_inf-Opercular, G_front_inf-Orbital, G_front_inf-Triangul, G_front_middle, G_front_sup, Lat_Fis-ant-Horizont, Lat_Fis-ant-Vertical, S_circular_insula_ant, S_circular_insula_sup, S_front_inf, S_front_middle, S_front_sup electrodes: []\n",
            "Subject D0094 significant G_front_inf-Opercular, G_front_inf-Orbital, G_front_inf-Triangul, G_front_middle, G_front_sup, Lat_Fis-ant-Horizont, Lat_Fis-ant-Vertical, S_circular_insula_ant, S_circular_insula_sup, S_front_inf, S_front_middle, S_front_sup electrodes: []\n",
            "Subject D0100 significant G_front_inf-Opercular, G_front_inf-Orbital, G_front_inf-Triangul, G_front_middle, G_front_sup, Lat_Fis-ant-Horizont, Lat_Fis-ant-Vertical, S_circular_insula_ant, S_circular_insula_sup, S_front_inf, S_front_middle, S_front_sup electrodes: []\n",
            "Subject D0102 significant G_front_inf-Opercular, G_front_inf-Orbital, G_front_inf-Triangul, G_front_middle, G_front_sup, Lat_Fis-ant-Horizont, Lat_Fis-ant-Vertical, S_circular_insula_ant, S_circular_insula_sup, S_front_inf, S_front_middle, S_front_sup electrodes: []\n",
            "Subject D0103 significant G_front_inf-Opercular, G_front_inf-Orbital, G_front_inf-Triangul, G_front_middle, G_front_sup, Lat_Fis-ant-Horizont, Lat_Fis-ant-Vertical, S_circular_insula_ant, S_circular_insula_sup, S_front_inf, S_front_middle, S_front_sup electrodes: []\n",
            "Subject D0107A significant G_front_inf-Opercular, G_front_inf-Orbital, G_front_inf-Triangul, G_front_middle, G_front_sup, Lat_Fis-ant-Horizont, Lat_Fis-ant-Vertical, S_circular_insula_ant, S_circular_insula_sup, S_front_inf, S_front_middle, S_front_sup electrodes: []\n",
            "Subject D0110 significant G_front_inf-Opercular, G_front_inf-Orbital, G_front_inf-Triangul, G_front_middle, G_front_sup, Lat_Fis-ant-Horizont, Lat_Fis-ant-Vertical, S_circular_insula_ant, S_circular_insula_sup, S_front_inf, S_front_middle, S_front_sup electrodes: []\n",
            "Subject D0116 significant G_front_inf-Opercular, G_front_inf-Orbital, G_front_inf-Triangul, G_front_middle, G_front_sup, Lat_Fis-ant-Horizont, Lat_Fis-ant-Vertical, S_circular_insula_ant, S_circular_insula_sup, S_front_inf, S_front_middle, S_front_sup electrodes: []\n",
            "Subject D0117 significant G_front_inf-Opercular, G_front_inf-Orbital, G_front_inf-Triangul, G_front_middle, G_front_sup, Lat_Fis-ant-Horizont, Lat_Fis-ant-Vertical, S_circular_insula_ant, S_circular_insula_sup, S_front_inf, S_front_middle, S_front_sup electrodes: []\n",
            "Subject D0121 significant G_front_inf-Opercular, G_front_inf-Orbital, G_front_inf-Triangul, G_front_middle, G_front_sup, Lat_Fis-ant-Horizont, Lat_Fis-ant-Vertical, S_circular_insula_ant, S_circular_insula_sup, S_front_inf, S_front_middle, S_front_sup electrodes: []\n"
          ]
        }
      ],
      "source": [
        "epochs_root_file = \"Stimulus_0.5sec_within1sec_randoffset_preStimulusBase_decFactor_8_outliers_10_passband_70.0-150.0_padLength_0.5s_stat_func_ttest_ind\"\n",
        "# epochs_root_file = \"Stimulus_0.5sec_within1sec_randoffset_preStimulusBase_decFactor_8_outliers_10\"\n",
        "\n",
        "config_dir = r'C:\\Users\\jz421\\Desktop\\GlobalLocal\\src\\analysis\\config'\n",
        "subjects_electrodestoROIs_dict = make_or_load_subjects_electrodes_to_ROIs_dict(subjects, task='GlobalLocal', LAB_root=None, save_dir=config_dir, \n",
        "                                                filename='subjects_electrodestoROIs_dict.json')\n",
        "\n",
        "sig_chans_per_subject = get_sig_chans_per_subject(subjects, epochs_root_file, task='GlobalLocal', LAB_root=None)\n",
        "\n",
        "\n",
        "# rois_dict = {\n",
        "#     # 'dlpfc': [\"G_front_middle\", \"G_front_sup\", \"S_front_inf\", \"S_front_middle\", \"S_front_sup\"],\n",
        "#     # 'acc': [\"G_and_S_cingul-Ant\", \"G_and_S_cingul-Mid-Ant\"],\n",
        "#     # 'parietal': [\"G_parietal_sup\", \"S_intrapariet_and_P_trans\", \"G_pariet_inf-Angular\", \"G_pariet_inf-Supramar\"],\n",
        "#     'lpfc': [\"G_front_inf-Opercular\", \"G_front_inf-Orbital\", \"G_front_inf-Triangul\", \"G_front_middle\", \"G_front_sup\", \"Lat_Fis-ant-Horizont\", \"Lat_Fis-ant-Vertical\", \"S_circular_insula_ant\", \"S_circular_insula_sup\", \"S_front_inf\", \"S_front_middle\", \"S_front_sup\"],\n",
        "#     'v1': [\"G_oc-temp_med-Lingual\", \"S_calcarine\", \"G_cuneus\"],\n",
        "#     'occ': [\"G_cuneus\", \"G_and_S_occipital_inf\", \"G_occipital_middle\", \"G_occipital_sup\", \"G_oc-temp_lat-fusifor\", \"G_oc-temp_med-Lingual\", \"Pole_occipital\", \"S_calcarine\", \"S_oc_middle_and_Lunatus\", \"S_oc_sup_and_transversal\", \"S_occipital_ant\"]\n",
        "# }\n",
        "\n",
        "# the cns 24/sfn 24 poster plots need just one roi. Fix all this code later. 10/1.\n",
        "rois_dict = {\n",
        "    'lpfc': [\"G_front_inf-Opercular\", \"G_front_inf-Orbital\", \"G_front_inf-Triangul\", \"G_front_middle\", \"G_front_sup\", \"Lat_Fis-ant-Horizont\", \"Lat_Fis-ant-Vertical\", \"S_circular_insula_ant\", \"S_circular_insula_sup\", \"S_front_inf\", \"S_front_middle\", \"S_front_sup\"]\n",
        "}\n",
        "\n",
        "rois = list(rois_dict.keys())\n",
        "electrodes_per_subject_roi, sig_electrodes_per_subject_roi = make_sig_electrodes_per_subject_and_roi_dict(rois_dict, subjects_electrodestoROIs_dict, sig_chans_per_subject)"
      ]
    },
    {
      "cell_type": "markdown",
      "metadata": {},
      "source": [
        "### plot single subject's significant electrodes"
      ]
    },
    {
      "cell_type": "code",
      "execution_count": null,
      "metadata": {},
      "outputs": [],
      "source": [
        "test = subject_to_info('D65')"
      ]
    },
    {
      "cell_type": "code",
      "execution_count": null,
      "metadata": {},
      "outputs": [],
      "source": [
        "subj = \"D0057\"\n",
        "base_path = r'C:\\Users\\jz421\\Box\\CoganLab\\BIDS-1.1_GlobalLocal\\BIDS\\derivatives\\freqFilt\\figs'\n",
        "stim_filename = f'{base_path}\\\\{subj}\\\\sig_chans_{subj}_Stimulus_0.5sec_within1sec_randoffset_preStimulusBase_decFactor_8_outliers_10.json'\n",
        "stim_sig_chans = load_sig_chans(stim_filename)\n",
        "# resp_filename = f'{base_path}\\\\{subj}\\\\sig_chans_{subj}_Response_fixationCrossBase_1sec_mirror.json'\n",
        "# resp_sig_chans = load_sig_chans(stim_filename)\n",
        "\n",
        "\n",
        "subj_without_zeroes = \"D\" + subj[1:].lstrip('0')\n",
        "brain_fig = plot_subj(subj_without_zeroes, picks=stim_sig_chans, labels_every=1, hemi='both', title=f'{subj}_Stimulus', background='black', color=(1, 1, 0)) \n",
        "# plot_subj(subj_without_zeroes, picks=resp_sig_chans, labels_every=8, hemi='both', title=f'{subj}_Response', color=(1, 1, 0))\n",
        "\n",
        "# Specify the path and filename for the PNG file\n",
        "png_filepath = os.path.join(base_path, f\"{subj_without_zeroes}_sigStim.png\")\n",
        "\n",
        "# Save the figure\n",
        "brain_fig.save_image(png_filepath, 'png')"
      ]
    },
    {
      "cell_type": "code",
      "execution_count": null,
      "metadata": {},
      "outputs": [],
      "source": [
        "subj = \"D0063\"\n",
        "base_path = r'C:\\Users\\jz421\\Box\\CoganLab\\BIDS-1.1_GlobalLocal\\BIDS\\derivatives\\freqFilt\\figs'\n",
        "resp_filename = f'{base_path}\\\\{subj}\\\\sig_chans_{subj}_Response.json'\n",
        "stim_filename = f'{base_path}\\\\{subj}\\\\sig_chans_{subj}_Stimulus.json'\n",
        "congruent_filename = f'{base_path}\\\\{subj}\\\\sig_chans_{subj}_congruent.json'\n",
        "incongruent_filename = f'{base_path}\\\\{subj}\\\\sig_chans_{subj}_incongruent.json'\n",
        "repeat_filename = f'{base_path}\\\\{subj}\\\\sig_chans_{subj}_repeat.json'\n",
        "switch_filename = f'{base_path}\\\\{subj}\\\\sig_chans_{subj}_switch.json'\n",
        "\n",
        "resp_sig_chans = load_sig_chans(resp_filename)\n",
        "stim_sig_chans = load_sig_chans(stim_filename)\n",
        "congruent_sig_chans = load_sig_chans(congruent_filename)\n",
        "incongruent_sig_chans = load_sig_chans(incongruent_filename)\n",
        "repeat_sig_chans = load_sig_chans(repeat_filename)\n",
        "switch_sig_chans = load_sig_chans(switch_filename)\n",
        "\n",
        "\n",
        "subj_without_zeroes = \"D\" + subj[1:].lstrip('0')\n",
        "plot_subj(subj_without_zeroes, picks=stim_sig_chans, labels_every=8, hemi='both', title=f'{subj}_Stimulus', background='black', color=(1, 1, 0)) \n",
        "plot_subj(subj_without_zeroes, picks=resp_sig_chans, labels_every=8, hemi='both', title=f'{subj}_Response', background='black', color=(1, 1, 0))\n",
        "plot_subj(subj_without_zeroes, picks=congruent_sig_chans, labels_every=8, hemi='both', title=f'{subj}_Congruent', background='black', color=(1, 1, 0)) \n",
        "plot_subj(subj_without_zeroes, picks=incongruent_sig_chans, labels_every=8, hemi='both', title=f'{subj}_Incongruent', background='black', color=(1, 1, 0))\n",
        "plot_subj(subj_without_zeroes, picks=repeat_sig_chans, labels_every=8, hemi='both', title=f'{subj}_Repeat', background='black', color=(1, 1, 0)) \n",
        "plot_subj(subj_without_zeroes, picks=switch_sig_chans, labels_every=8, hemi='both', title=f'{subj}_Switch', background='black', color=(1, 1, 0))\n"
      ]
    },
    {
      "cell_type": "markdown",
      "metadata": {},
      "source": [
        "turn the sig electrodes per subject roi loaded into a plottable format list"
      ]
    },
    {
      "cell_type": "code",
      "execution_count": null,
      "metadata": {},
      "outputs": [],
      "source": [
        "import re\n",
        "\n",
        "def format_electrodes_subject_ids(data_dict):\n",
        "    \"\"\"\n",
        "    Formats electrode names and subject IDs by removing leading zeros from the numerical part\n",
        "    of the subject IDs and concatenating the formatted subject ID with electrode names.\n",
        "\n",
        "    Parameters:\n",
        "    - data_dict: A dictionary with the structure {roi: {subject_id: [electrodes]}}.\n",
        "\n",
        "    Returns:\n",
        "    - A list of formatted strings in the \"Dxx-Electrode\" format.\n",
        "    \"\"\"\n",
        "    formatted_list = []\n",
        "    \n",
        "    # Define a regex pattern to capture parts of the subject_id\n",
        "    # Pattern Explanation:\n",
        "    # ^D          : Starts with 'D'\n",
        "    # (0*)        : Capture any leading zeros\n",
        "    # (\\d+)       : Capture one or more digits (the numerical part)\n",
        "    # ([A-Za-z]*) : Capture any trailing letters (optional)\n",
        "    pattern = re.compile(r'^D(0*)(\\d+)([A-Za-z]*)$')\n",
        "    \n",
        "    for roi, subjects in data_dict.items():\n",
        "        for subject_id, electrodes in subjects.items():\n",
        "            match = pattern.match(subject_id)\n",
        "            if match:\n",
        "                leading_zeros, numbers, letters = match.groups()\n",
        "                # Remove leading zeros by converting to int and back to string\n",
        "                # This automatically removes any leading zeros\n",
        "                formatted_numbers = str(int(numbers)) if numbers else '0'\n",
        "                # Reconstruct the formatted subject ID\n",
        "                formatted_subject_id = f\"D{formatted_numbers}{letters}\"\n",
        "            else:\n",
        "                # If the subject_id doesn't match the pattern, keep it unchanged\n",
        "                # Optionally, you can choose to skip or raise an error\n",
        "                print(f\"Warning: Subject ID '{subject_id}' does not match the expected pattern. It will be kept unchanged.\")\n",
        "                formatted_subject_id = subject_id\n",
        "            \n",
        "            # Attach each electrode to the formatted subject ID\n",
        "            for electrode in electrodes:\n",
        "                formatted_electrode = f\"{formatted_subject_id}-{electrode}\"\n",
        "                formatted_list.append(formatted_electrode)\n",
        "    \n",
        "    return formatted_list\n",
        "\n",
        "# Use the function on your loaded dictionary\n",
        "plottable_sig_electrodes_per_subject_roi = format_electrodes_subject_ids(sig_electrodes_per_subject_roi)\n",
        "\n",
        "# And also for all electrodes per subject roi\n",
        "plottable_all_electrodes_per_subject_roi = format_electrodes_subject_ids(electrodes_per_subject_roi)\n",
        "\n",
        "# Print or use the resulting lists as needed\n",
        "print(plottable_sig_electrodes_per_subject_roi)\n",
        "print(plottable_all_electrodes_per_subject_roi)"
      ]
    },
    {
      "cell_type": "markdown",
      "metadata": {},
      "source": [
        "just plot one electrode for poster 4/8"
      ]
    },
    {
      "cell_type": "code",
      "execution_count": null,
      "metadata": {},
      "outputs": [],
      "source": [
        "fig = plot_on_average(subjects, picks=['D57-RAI6'], rm_wm=False, hemi='both', color=(1,1,0), size=0.35, transparency=0.4, label_every=1)"
      ]
    },
    {
      "cell_type": "markdown",
      "metadata": {},
      "source": [
        "plot all lpfc sig electrodes"
      ]
    },
    {
      "cell_type": "code",
      "execution_count": null,
      "metadata": {},
      "outputs": [],
      "source": [
        "fig = plot_on_average(subjects, picks=plottable_sig_electrodes_per_subject_roi, rm_wm=False, hemi='both', color=(1,1,0), size=0.45, transparency=0.4)"
      ]
    },
    {
      "cell_type": "code",
      "execution_count": null,
      "metadata": {},
      "outputs": [],
      "source": [
        "fig = plot_on_average(subjects, picks=plottable_all_electrodes_per_subject_roi, rm_wm=False, hemi='both', color=(0,0.5,0), size=0.45, transparency=0.4)"
      ]
    },
    {
      "cell_type": "code",
      "execution_count": null,
      "metadata": {},
      "outputs": [],
      "source": [
        "plot_on_average(picks=plottable_all_electrodes_per_subject_roi, hemi='both', color=(1,0.5,0))"
      ]
    },
    {
      "cell_type": "markdown",
      "metadata": {},
      "source": [
        "### plot all significant electrodes on average brain (this just plots all electrodes for some reason, use aaron's method of the indices instead 6/6/25)"
      ]
    },
    {
      "cell_type": "code",
      "execution_count": null,
      "metadata": {},
      "outputs": [],
      "source": [
        "# # grab all of the significant electrodes, and put them into one list, and then run plot_on_average\n",
        "\n",
        "# HOME = os.path.expanduser(\"~\")\n",
        "\n",
        "# # get box directory depending on OS\n",
        "# if os.name == 'nt': # windows\n",
        "#     LAB_root = os.path.join(HOME, \"Box\", \"CoganLab\")\n",
        "# else: # mac\n",
        "#     LAB_root = os.path.join(HOME, \"Library\", \"CloudStorage\", \"Box-Box\", \"CoganLab\")\n",
        "\n",
        "# layout = get_data(\"GlobalLocal\", root=LAB_root)\n",
        "\n",
        "# epochs_root_file = \"Stimulus_0.5sec_within1sec_randoffset_preStimulusBase_decFactor_8_outliers_10_passband_70.0-150.0_padLength_0.5s_stat_func_ttest_ind\"\n",
        "# # epochs_root_file = \"Stimulus_0.5sec_within1sec_randoffset_preStimulusBase_decFactor_8_outliers_10\"\n",
        "\n",
        "# print(layout.derivatives)\n",
        "# print(layout.derivatives.keys())\n",
        "\n",
        "# base_path = os.path.join(LAB_root, \"BIDS-1.1_GlobalLocal\", \"BIDS\", \"derivatives\", \"freqFilt\", \"figs\")\n",
        "\n",
        "# subjects_without_zeroes = [\"D\" + subj[1:].lstrip('0') for subj in subjects]\n",
        "\n",
        "# allSigElectrodes = {}  # Initialize as an empty dictionary\n",
        "# allElectrodes = {}\n",
        "\n",
        "# for subj in subjects:\n",
        "    \n",
        "#     filename = f'{base_path}\\\\{subj}\\\\sig_chans_{subj}_{epochs_root_file}.json'\n",
        "#     sig_chans = load_sig_chans(filename)\n",
        "\n",
        "#     # Add them to the dictionary, tagged with the subject without zeroes\n",
        "#     subj_without_zeroes = \"D\" + subj[1:].lstrip('0')\n",
        "#     allSigElectrodes[subj_without_zeroes] = sig_chans\n",
        "\n",
        "#     # Get all electrodes for this subject and add them to the allElectrodes dict\n",
        "#     info = subject_to_info(subj_without_zeroes)\n",
        "#     allSubjElectrodes = mne.pick_channels(info.ch_names, [])\n",
        "#     allElectrodes[subj_without_zeroes] = allSubjElectrodes\n",
        "\n",
        "# picks = [f'D{k[1:].zfill(4)}-{v}' for k in allSigElectrodes.keys() for v in allSigElectrodes[k]]\n",
        "# sinfos = [subject_to_info(f'D{int(subj[1:])}') for subj in subjects]\n",
        "\n",
        "# # plot_on_average(allSigElectrodes, hemi='both', color=(1,1,0), size=0.35)\n",
        "# # plot_on_average(allElectrodes, hemi='both', color=(0,0.5,0), size=0.35)"
      ]
    },
    {
      "cell_type": "markdown",
      "metadata": {},
      "source": [
        "aaron's way of plotting (this actually works for plotting specific electrodes 6/4/25)\n",
        "\n",
        "adapt this to the ROI plotting too. Any case of plotting electrodes from multiple subjects."
      ]
    },
    {
      "cell_type": "code",
      "execution_count": 7,
      "metadata": {},
      "outputs": [
        {
          "name": "stderr",
          "output_type": "stream",
          "text": [
            "C:\\Users\\jz421\\Desktop\\GlobalLocal\\IEEG_Pipelines\\ieeg\\viz\\mri.py:872: RuntimeWarning: Fiducial point lpa not found, assuming identity RAS (non-zero origin) to head transformation\n",
            "  info.set_montage(montage)\n",
            "C:\\Users\\jz421\\Desktop\\GlobalLocal\\IEEG_Pipelines\\ieeg\\viz\\mri.py:872: RuntimeWarning: Fiducial point lpa not found, assuming identity RAS (non-zero origin) to head transformation\n",
            "  info.set_montage(montage)\n"
          ]
        },
        {
          "name": "stdout",
          "output_type": "stream",
          "text": [
            "Loaded significant channels for subject D0057\n",
            "Loaded significant channels for subject D0059\n"
          ]
        },
        {
          "name": "stderr",
          "output_type": "stream",
          "text": [
            "C:\\Users\\jz421\\Desktop\\GlobalLocal\\IEEG_Pipelines\\ieeg\\viz\\mri.py:872: RuntimeWarning: Fiducial point lpa not found, assuming identity RAS (non-zero origin) to head transformation\n",
            "  info.set_montage(montage)\n",
            "C:\\Users\\jz421\\Desktop\\GlobalLocal\\IEEG_Pipelines\\ieeg\\viz\\mri.py:872: RuntimeWarning: Fiducial point lpa not found, assuming identity RAS (non-zero origin) to head transformation\n",
            "  info.set_montage(montage)\n"
          ]
        },
        {
          "name": "stdout",
          "output_type": "stream",
          "text": [
            "Loaded significant channels for subject D0063\n",
            "Loaded significant channels for subject D0065\n"
          ]
        },
        {
          "name": "stderr",
          "output_type": "stream",
          "text": [
            "C:\\Users\\jz421\\Desktop\\GlobalLocal\\IEEG_Pipelines\\ieeg\\viz\\mri.py:872: RuntimeWarning: Fiducial point lpa not found, assuming identity RAS (non-zero origin) to head transformation\n",
            "  info.set_montage(montage)\n",
            "C:\\Users\\jz421\\Desktop\\GlobalLocal\\IEEG_Pipelines\\ieeg\\viz\\mri.py:872: RuntimeWarning: Fiducial point lpa not found, assuming identity RAS (non-zero origin) to head transformation\n",
            "  info.set_montage(montage)\n"
          ]
        },
        {
          "name": "stdout",
          "output_type": "stream",
          "text": [
            "Loaded significant channels for subject D0069\n",
            "Loaded significant channels for subject D0071\n"
          ]
        },
        {
          "name": "stderr",
          "output_type": "stream",
          "text": [
            "C:\\Users\\jz421\\Desktop\\GlobalLocal\\IEEG_Pipelines\\ieeg\\viz\\mri.py:872: RuntimeWarning: Fiducial point lpa not found, assuming identity RAS (non-zero origin) to head transformation\n",
            "  info.set_montage(montage)\n",
            "C:\\Users\\jz421\\Desktop\\GlobalLocal\\IEEG_Pipelines\\ieeg\\viz\\mri.py:872: RuntimeWarning: Fiducial point lpa not found, assuming identity RAS (non-zero origin) to head transformation\n",
            "  info.set_montage(montage)\n"
          ]
        },
        {
          "name": "stdout",
          "output_type": "stream",
          "text": [
            "Loaded significant channels for subject D0077\n",
            "Loaded significant channels for subject D0090\n"
          ]
        },
        {
          "name": "stderr",
          "output_type": "stream",
          "text": [
            "C:\\Users\\jz421\\Desktop\\GlobalLocal\\IEEG_Pipelines\\ieeg\\viz\\mri.py:872: RuntimeWarning: Fiducial point lpa not found, assuming identity RAS (non-zero origin) to head transformation\n",
            "  info.set_montage(montage)\n",
            "C:\\Users\\jz421\\Desktop\\GlobalLocal\\IEEG_Pipelines\\ieeg\\viz\\mri.py:872: RuntimeWarning: Fiducial point lpa not found, assuming identity RAS (non-zero origin) to head transformation\n",
            "  info.set_montage(montage)\n"
          ]
        },
        {
          "name": "stdout",
          "output_type": "stream",
          "text": [
            "Loaded significant channels for subject D0094\n",
            "Loaded significant channels for subject D0100\n"
          ]
        },
        {
          "name": "stderr",
          "output_type": "stream",
          "text": [
            "C:\\Users\\jz421\\Desktop\\GlobalLocal\\IEEG_Pipelines\\ieeg\\viz\\mri.py:872: RuntimeWarning: Fiducial point lpa not found, assuming identity RAS (non-zero origin) to head transformation\n",
            "  info.set_montage(montage)\n",
            "C:\\Users\\jz421\\Desktop\\GlobalLocal\\IEEG_Pipelines\\ieeg\\viz\\mri.py:872: RuntimeWarning: Fiducial point lpa not found, assuming identity RAS (non-zero origin) to head transformation\n",
            "  info.set_montage(montage)\n"
          ]
        },
        {
          "name": "stdout",
          "output_type": "stream",
          "text": [
            "Loaded significant channels for subject D0102\n",
            "Loaded significant channels for subject D0103\n"
          ]
        },
        {
          "name": "stderr",
          "output_type": "stream",
          "text": [
            "C:\\Users\\jz421\\Desktop\\GlobalLocal\\IEEG_Pipelines\\ieeg\\viz\\mri.py:872: RuntimeWarning: Fiducial point lpa not found, assuming identity RAS (non-zero origin) to head transformation\n",
            "  info.set_montage(montage)\n",
            "C:\\Users\\jz421\\Desktop\\GlobalLocal\\IEEG_Pipelines\\ieeg\\viz\\mri.py:872: RuntimeWarning: Fiducial point lpa not found, assuming identity RAS (non-zero origin) to head transformation\n",
            "  info.set_montage(montage)\n"
          ]
        },
        {
          "name": "stdout",
          "output_type": "stream",
          "text": [
            "Loaded significant channels for subject D0110\n",
            "Loaded significant channels for subject D0116\n"
          ]
        },
        {
          "name": "stderr",
          "output_type": "stream",
          "text": [
            "C:\\Users\\jz421\\Desktop\\GlobalLocal\\IEEG_Pipelines\\ieeg\\viz\\mri.py:872: RuntimeWarning: Fiducial point lpa not found, assuming identity RAS (non-zero origin) to head transformation\n",
            "  info.set_montage(montage)\n",
            "C:\\Users\\jz421\\Desktop\\GlobalLocal\\IEEG_Pipelines\\ieeg\\viz\\mri.py:872: RuntimeWarning: Fiducial point lpa not found, assuming identity RAS (non-zero origin) to head transformation\n",
            "  info.set_montage(montage)\n"
          ]
        },
        {
          "name": "stdout",
          "output_type": "stream",
          "text": [
            "Loaded significant channels for subject D0117\n",
            "Loaded significant channels for subject D0121\n"
          ]
        },
        {
          "name": "stderr",
          "output_type": "stream",
          "text": [
            "C:\\Users\\jz421\\Desktop\\GlobalLocal\\IEEG_Pipelines\\ieeg\\viz\\mri.py:872: RuntimeWarning: Fiducial point lpa not found, assuming identity RAS (non-zero origin) to head transformation\n",
            "  info.set_montage(montage)\n",
            "C:\\Users\\jz421\\Desktop\\GlobalLocal\\IEEG_Pipelines\\ieeg\\viz\\mri.py:872: RuntimeWarning: Fiducial point lpa not found, assuming identity RAS (non-zero origin) to head transformation\n",
            "  info.set_montage(montage)\n",
            "C:\\Users\\jz421\\Desktop\\GlobalLocal\\IEEG_Pipelines\\ieeg\\viz\\mri.py:872: RuntimeWarning: Fiducial point lpa not found, assuming identity RAS (non-zero origin) to head transformation\n",
            "  info.set_montage(montage)\n",
            "C:\\Users\\jz421\\Desktop\\GlobalLocal\\IEEG_Pipelines\\ieeg\\viz\\mri.py:872: RuntimeWarning: Fiducial point lpa not found, assuming identity RAS (non-zero origin) to head transformation\n",
            "  info.set_montage(montage)\n",
            "C:\\Users\\jz421\\Desktop\\GlobalLocal\\IEEG_Pipelines\\ieeg\\viz\\mri.py:872: RuntimeWarning: Fiducial point lpa not found, assuming identity RAS (non-zero origin) to head transformation\n",
            "  info.set_montage(montage)\n",
            "C:\\Users\\jz421\\Desktop\\GlobalLocal\\IEEG_Pipelines\\ieeg\\viz\\mri.py:872: RuntimeWarning: Fiducial point lpa not found, assuming identity RAS (non-zero origin) to head transformation\n",
            "  info.set_montage(montage)\n",
            "C:\\Users\\jz421\\Desktop\\GlobalLocal\\IEEG_Pipelines\\ieeg\\viz\\mri.py:872: RuntimeWarning: Fiducial point lpa not found, assuming identity RAS (non-zero origin) to head transformation\n",
            "  info.set_montage(montage)\n",
            "C:\\Users\\jz421\\Desktop\\GlobalLocal\\IEEG_Pipelines\\ieeg\\viz\\mri.py:872: RuntimeWarning: Fiducial point lpa not found, assuming identity RAS (non-zero origin) to head transformation\n",
            "  info.set_montage(montage)\n",
            "C:\\Users\\jz421\\Desktop\\GlobalLocal\\IEEG_Pipelines\\ieeg\\viz\\mri.py:872: RuntimeWarning: Fiducial point lpa not found, assuming identity RAS (non-zero origin) to head transformation\n",
            "  info.set_montage(montage)\n",
            "C:\\Users\\jz421\\Desktop\\GlobalLocal\\IEEG_Pipelines\\ieeg\\viz\\mri.py:872: RuntimeWarning: Fiducial point lpa not found, assuming identity RAS (non-zero origin) to head transformation\n",
            "  info.set_montage(montage)\n",
            "C:\\Users\\jz421\\Desktop\\GlobalLocal\\IEEG_Pipelines\\ieeg\\viz\\mri.py:872: RuntimeWarning: Fiducial point lpa not found, assuming identity RAS (non-zero origin) to head transformation\n",
            "  info.set_montage(montage)\n",
            "C:\\Users\\jz421\\Desktop\\GlobalLocal\\IEEG_Pipelines\\ieeg\\viz\\mri.py:872: RuntimeWarning: Fiducial point lpa not found, assuming identity RAS (non-zero origin) to head transformation\n",
            "  info.set_montage(montage)\n",
            "C:\\Users\\jz421\\Desktop\\GlobalLocal\\IEEG_Pipelines\\ieeg\\viz\\mri.py:872: RuntimeWarning: Fiducial point lpa not found, assuming identity RAS (non-zero origin) to head transformation\n",
            "  info.set_montage(montage)\n",
            "C:\\Users\\jz421\\Desktop\\GlobalLocal\\IEEG_Pipelines\\ieeg\\viz\\mri.py:872: RuntimeWarning: Fiducial point lpa not found, assuming identity RAS (non-zero origin) to head transformation\n",
            "  info.set_montage(montage)\n"
          ]
        },
        {
          "name": "stdout",
          "output_type": "stream",
          "text": [
            "Warning: Electrode 'Trigger' not found in D116\n"
          ]
        },
        {
          "name": "stderr",
          "output_type": "stream",
          "text": [
            "C:\\Users\\jz421\\Desktop\\GlobalLocal\\IEEG_Pipelines\\ieeg\\viz\\mri.py:872: RuntimeWarning: Fiducial point lpa not found, assuming identity RAS (non-zero origin) to head transformation\n",
            "  info.set_montage(montage)\n",
            "C:\\Users\\jz421\\Desktop\\GlobalLocal\\IEEG_Pipelines\\ieeg\\viz\\mri.py:872: RuntimeWarning: Fiducial point lpa not found, assuming identity RAS (non-zero origin) to head transformation\n",
            "  info.set_montage(montage)\n",
            "C:\\Users\\jz421\\Desktop\\GlobalLocal\\IEEG_Pipelines\\ieeg\\viz\\mri.py:872: RuntimeWarning: Fiducial point lpa not found, assuming identity RAS (non-zero origin) to head transformation\n",
            "  info.set_montage(montage)\n",
            "C:\\Users\\jz421\\Desktop\\GlobalLocal\\IEEG_Pipelines\\ieeg\\viz\\mri.py:872: RuntimeWarning: Fiducial point lpa not found, assuming identity RAS (non-zero origin) to head transformation\n",
            "  info.set_montage(montage)\n",
            "C:\\Users\\jz421\\Desktop\\GlobalLocal\\IEEG_Pipelines\\ieeg\\viz\\mri.py:872: RuntimeWarning: Fiducial point lpa not found, assuming identity RAS (non-zero origin) to head transformation\n",
            "  info.set_montage(montage)\n",
            "C:\\Users\\jz421\\Desktop\\GlobalLocal\\IEEG_Pipelines\\ieeg\\viz\\mri.py:872: RuntimeWarning: Fiducial point lpa not found, assuming identity RAS (non-zero origin) to head transformation\n",
            "  info.set_montage(montage)\n",
            "C:\\Users\\jz421\\Desktop\\GlobalLocal\\IEEG_Pipelines\\ieeg\\viz\\mri.py:872: RuntimeWarning: Fiducial point lpa not found, assuming identity RAS (non-zero origin) to head transformation\n",
            "  info.set_montage(montage)\n",
            "C:\\Users\\jz421\\Desktop\\GlobalLocal\\IEEG_Pipelines\\ieeg\\viz\\mri.py:872: RuntimeWarning: Fiducial point lpa not found, assuming identity RAS (non-zero origin) to head transformation\n",
            "  info.set_montage(montage)\n",
            "C:\\Users\\jz421\\Desktop\\GlobalLocal\\IEEG_Pipelines\\ieeg\\viz\\mri.py:872: RuntimeWarning: Fiducial point lpa not found, assuming identity RAS (non-zero origin) to head transformation\n",
            "  info.set_montage(montage)\n",
            "C:\\Users\\jz421\\Desktop\\GlobalLocal\\IEEG_Pipelines\\ieeg\\viz\\mri.py:872: RuntimeWarning: Fiducial point lpa not found, assuming identity RAS (non-zero origin) to head transformation\n",
            "  info.set_montage(montage)\n",
            "C:\\Users\\jz421\\Desktop\\GlobalLocal\\IEEG_Pipelines\\ieeg\\viz\\mri.py:872: RuntimeWarning: Fiducial point lpa not found, assuming identity RAS (non-zero origin) to head transformation\n",
            "  info.set_montage(montage)\n",
            "C:\\Users\\jz421\\Desktop\\GlobalLocal\\IEEG_Pipelines\\ieeg\\viz\\mri.py:872: RuntimeWarning: Fiducial point lpa not found, assuming identity RAS (non-zero origin) to head transformation\n",
            "  info.set_montage(montage)\n",
            "C:\\Users\\jz421\\Desktop\\GlobalLocal\\IEEG_Pipelines\\ieeg\\viz\\mri.py:872: RuntimeWarning: Fiducial point lpa not found, assuming identity RAS (non-zero origin) to head transformation\n",
            "  info.set_montage(montage)\n",
            "C:\\Users\\jz421\\Desktop\\GlobalLocal\\IEEG_Pipelines\\ieeg\\viz\\mri.py:872: RuntimeWarning: Fiducial point lpa not found, assuming identity RAS (non-zero origin) to head transformation\n",
            "  info.set_montage(montage)\n",
            "C:\\Users\\jz421\\Desktop\\GlobalLocal\\IEEG_Pipelines\\ieeg\\viz\\mri.py:872: RuntimeWarning: Fiducial point lpa not found, assuming identity RAS (non-zero origin) to head transformation\n",
            "  info.set_montage(montage)\n",
            "C:\\Users\\jz421\\Desktop\\GlobalLocal\\IEEG_Pipelines\\ieeg\\viz\\mri.py:872: RuntimeWarning: Fiducial point lpa not found, assuming identity RAS (non-zero origin) to head transformation\n",
            "  info.set_montage(montage)\n",
            "C:\\Users\\jz421\\Desktop\\GlobalLocal\\IEEG_Pipelines\\ieeg\\viz\\mri.py:872: RuntimeWarning: Fiducial point lpa not found, assuming identity RAS (non-zero origin) to head transformation\n",
            "  info.set_montage(montage)\n",
            "C:\\Users\\jz421\\Desktop\\GlobalLocal\\IEEG_Pipelines\\ieeg\\viz\\mri.py:872: RuntimeWarning: Fiducial point lpa not found, assuming identity RAS (non-zero origin) to head transformation\n",
            "  info.set_montage(montage)\n",
            "C:\\Users\\jz421\\Desktop\\GlobalLocal\\IEEG_Pipelines\\ieeg\\viz\\mri.py:872: RuntimeWarning: Fiducial point lpa not found, assuming identity RAS (non-zero origin) to head transformation\n",
            "  info.set_montage(montage)\n",
            "C:\\Users\\jz421\\Desktop\\GlobalLocal\\IEEG_Pipelines\\ieeg\\viz\\mri.py:872: RuntimeWarning: Fiducial point lpa not found, assuming identity RAS (non-zero origin) to head transformation\n",
            "  info.set_montage(montage)\n",
            "C:\\Users\\jz421\\Desktop\\GlobalLocal\\IEEG_Pipelines\\ieeg\\viz\\mri.py:872: RuntimeWarning: Fiducial point lpa not found, assuming identity RAS (non-zero origin) to head transformation\n",
            "  info.set_montage(montage)\n",
            "C:\\Users\\jz421\\Desktop\\GlobalLocal\\IEEG_Pipelines\\ieeg\\viz\\mri.py:872: RuntimeWarning: Fiducial point lpa not found, assuming identity RAS (non-zero origin) to head transformation\n",
            "  info.set_montage(montage)\n",
            "C:\\Users\\jz421\\Desktop\\GlobalLocal\\IEEG_Pipelines\\ieeg\\viz\\mri.py:872: RuntimeWarning: Fiducial point lpa not found, assuming identity RAS (non-zero origin) to head transformation\n",
            "  info.set_montage(montage)\n",
            "C:\\Users\\jz421\\Desktop\\GlobalLocal\\IEEG_Pipelines\\ieeg\\viz\\mri.py:872: RuntimeWarning: Fiducial point lpa not found, assuming identity RAS (non-zero origin) to head transformation\n",
            "  info.set_montage(montage)\n",
            "C:\\Users\\jz421\\Desktop\\GlobalLocal\\IEEG_Pipelines\\ieeg\\viz\\mri.py:872: RuntimeWarning: Fiducial point lpa not found, assuming identity RAS (non-zero origin) to head transformation\n",
            "  info.set_montage(montage)\n",
            "C:\\Users\\jz421\\Desktop\\GlobalLocal\\IEEG_Pipelines\\ieeg\\viz\\mri.py:872: RuntimeWarning: Fiducial point lpa not found, assuming identity RAS (non-zero origin) to head transformation\n",
            "  info.set_montage(montage)\n",
            "C:\\Users\\jz421\\Desktop\\GlobalLocal\\IEEG_Pipelines\\ieeg\\viz\\mri.py:872: RuntimeWarning: Fiducial point lpa not found, assuming identity RAS (non-zero origin) to head transformation\n",
            "  info.set_montage(montage)\n",
            "C:\\Users\\jz421\\Desktop\\GlobalLocal\\IEEG_Pipelines\\ieeg\\viz\\mri.py:872: RuntimeWarning: Fiducial point lpa not found, assuming identity RAS (non-zero origin) to head transformation\n",
            "  info.set_montage(montage)\n",
            "C:\\Users\\jz421\\Desktop\\GlobalLocal\\IEEG_Pipelines\\ieeg\\viz\\mri.py:872: RuntimeWarning: Fiducial point lpa not found, assuming identity RAS (non-zero origin) to head transformation\n",
            "  info.set_montage(montage)\n",
            "C:\\Users\\jz421\\Desktop\\GlobalLocal\\IEEG_Pipelines\\ieeg\\viz\\mri.py:872: RuntimeWarning: Fiducial point lpa not found, assuming identity RAS (non-zero origin) to head transformation\n",
            "  info.set_montage(montage)\n",
            "C:\\Users\\jz421\\Desktop\\GlobalLocal\\IEEG_Pipelines\\ieeg\\viz\\mri.py:872: RuntimeWarning: Fiducial point lpa not found, assuming identity RAS (non-zero origin) to head transformation\n",
            "  info.set_montage(montage)\n",
            "C:\\Users\\jz421\\Desktop\\GlobalLocal\\IEEG_Pipelines\\ieeg\\viz\\mri.py:872: RuntimeWarning: Fiducial point lpa not found, assuming identity RAS (non-zero origin) to head transformation\n",
            "  info.set_montage(montage)\n",
            "C:\\Users\\jz421\\Desktop\\GlobalLocal\\IEEG_Pipelines\\ieeg\\viz\\mri.py:872: RuntimeWarning: Fiducial point lpa not found, assuming identity RAS (non-zero origin) to head transformation\n",
            "  info.set_montage(montage)\n",
            "C:\\Users\\jz421\\Desktop\\GlobalLocal\\IEEG_Pipelines\\ieeg\\viz\\mri.py:872: RuntimeWarning: Fiducial point lpa not found, assuming identity RAS (non-zero origin) to head transformation\n",
            "  info.set_montage(montage)\n",
            "C:\\Users\\jz421\\Desktop\\GlobalLocal\\IEEG_Pipelines\\ieeg\\viz\\mri.py:872: RuntimeWarning: Fiducial point lpa not found, assuming identity RAS (non-zero origin) to head transformation\n",
            "  info.set_montage(montage)\n",
            "C:\\Users\\jz421\\Desktop\\GlobalLocal\\IEEG_Pipelines\\ieeg\\viz\\mri.py:872: RuntimeWarning: Fiducial point lpa not found, assuming identity RAS (non-zero origin) to head transformation\n",
            "  info.set_montage(montage)\n",
            "C:\\Users\\jz421\\Desktop\\GlobalLocal\\IEEG_Pipelines\\ieeg\\viz\\mri.py:872: RuntimeWarning: Fiducial point lpa not found, assuming identity RAS (non-zero origin) to head transformation\n",
            "  info.set_montage(montage)\n",
            "C:\\Users\\jz421\\Desktop\\GlobalLocal\\IEEG_Pipelines\\ieeg\\viz\\mri.py:872: RuntimeWarning: Fiducial point lpa not found, assuming identity RAS (non-zero origin) to head transformation\n",
            "  info.set_montage(montage)\n",
            "C:\\Users\\jz421\\Desktop\\GlobalLocal\\IEEG_Pipelines\\ieeg\\viz\\mri.py:872: RuntimeWarning: Fiducial point lpa not found, assuming identity RAS (non-zero origin) to head transformation\n",
            "  info.set_montage(montage)\n",
            "C:\\Users\\jz421\\Desktop\\GlobalLocal\\IEEG_Pipelines\\ieeg\\viz\\mri.py:872: RuntimeWarning: Fiducial point lpa not found, assuming identity RAS (non-zero origin) to head transformation\n",
            "  info.set_montage(montage)\n",
            "C:\\Users\\jz421\\Desktop\\GlobalLocal\\IEEG_Pipelines\\ieeg\\viz\\mri.py:872: RuntimeWarning: Fiducial point lpa not found, assuming identity RAS (non-zero origin) to head transformation\n",
            "  info.set_montage(montage)\n",
            "C:\\Users\\jz421\\Desktop\\GlobalLocal\\IEEG_Pipelines\\ieeg\\viz\\mri.py:872: RuntimeWarning: Fiducial point lpa not found, assuming identity RAS (non-zero origin) to head transformation\n",
            "  info.set_montage(montage)\n",
            "C:\\Users\\jz421\\Desktop\\GlobalLocal\\IEEG_Pipelines\\ieeg\\viz\\mri.py:872: RuntimeWarning: Fiducial point lpa not found, assuming identity RAS (non-zero origin) to head transformation\n",
            "  info.set_montage(montage)\n",
            "C:\\Users\\jz421\\Desktop\\GlobalLocal\\IEEG_Pipelines\\ieeg\\viz\\mri.py:872: RuntimeWarning: Fiducial point lpa not found, assuming identity RAS (non-zero origin) to head transformation\n",
            "  info.set_montage(montage)\n",
            "C:\\Users\\jz421\\Desktop\\GlobalLocal\\IEEG_Pipelines\\ieeg\\viz\\mri.py:872: RuntimeWarning: Fiducial point lpa not found, assuming identity RAS (non-zero origin) to head transformation\n",
            "  info.set_montage(montage)\n",
            "C:\\Users\\jz421\\Desktop\\GlobalLocal\\IEEG_Pipelines\\ieeg\\viz\\mri.py:872: RuntimeWarning: Fiducial point lpa not found, assuming identity RAS (non-zero origin) to head transformation\n",
            "  info.set_montage(montage)\n",
            "C:\\Users\\jz421\\Desktop\\GlobalLocal\\IEEG_Pipelines\\ieeg\\viz\\mri.py:872: RuntimeWarning: Fiducial point lpa not found, assuming identity RAS (non-zero origin) to head transformation\n",
            "  info.set_montage(montage)\n",
            "C:\\Users\\jz421\\Desktop\\GlobalLocal\\IEEG_Pipelines\\ieeg\\viz\\mri.py:872: RuntimeWarning: Fiducial point lpa not found, assuming identity RAS (non-zero origin) to head transformation\n",
            "  info.set_montage(montage)\n",
            "C:\\Users\\jz421\\Desktop\\GlobalLocal\\IEEG_Pipelines\\ieeg\\viz\\mri.py:872: RuntimeWarning: Fiducial point lpa not found, assuming identity RAS (non-zero origin) to head transformation\n",
            "  info.set_montage(montage)\n",
            "C:\\Users\\jz421\\Desktop\\GlobalLocal\\IEEG_Pipelines\\ieeg\\viz\\mri.py:872: RuntimeWarning: Fiducial point lpa not found, assuming identity RAS (non-zero origin) to head transformation\n",
            "  info.set_montage(montage)\n",
            "C:\\Users\\jz421\\Desktop\\GlobalLocal\\IEEG_Pipelines\\ieeg\\viz\\mri.py:872: RuntimeWarning: Fiducial point lpa not found, assuming identity RAS (non-zero origin) to head transformation\n",
            "  info.set_montage(montage)\n",
            "C:\\Users\\jz421\\Desktop\\GlobalLocal\\IEEG_Pipelines\\ieeg\\viz\\mri.py:872: RuntimeWarning: Fiducial point lpa not found, assuming identity RAS (non-zero origin) to head transformation\n",
            "  info.set_montage(montage)\n",
            "C:\\Users\\jz421\\Desktop\\GlobalLocal\\IEEG_Pipelines\\ieeg\\viz\\mri.py:872: RuntimeWarning: Fiducial point lpa not found, assuming identity RAS (non-zero origin) to head transformation\n",
            "  info.set_montage(montage)\n",
            "C:\\Users\\jz421\\Desktop\\GlobalLocal\\IEEG_Pipelines\\ieeg\\viz\\mri.py:872: RuntimeWarning: Fiducial point lpa not found, assuming identity RAS (non-zero origin) to head transformation\n",
            "  info.set_montage(montage)\n",
            "C:\\Users\\jz421\\Desktop\\GlobalLocal\\IEEG_Pipelines\\ieeg\\viz\\mri.py:872: RuntimeWarning: Fiducial point lpa not found, assuming identity RAS (non-zero origin) to head transformation\n",
            "  info.set_montage(montage)\n",
            "C:\\Users\\jz421\\Desktop\\GlobalLocal\\IEEG_Pipelines\\ieeg\\viz\\mri.py:872: RuntimeWarning: Fiducial point lpa not found, assuming identity RAS (non-zero origin) to head transformation\n",
            "  info.set_montage(montage)\n",
            "C:\\Users\\jz421\\Desktop\\GlobalLocal\\IEEG_Pipelines\\ieeg\\viz\\mri.py:872: RuntimeWarning: Fiducial point lpa not found, assuming identity RAS (non-zero origin) to head transformation\n",
            "  info.set_montage(montage)\n",
            "C:\\Users\\jz421\\Desktop\\GlobalLocal\\IEEG_Pipelines\\ieeg\\viz\\mri.py:872: RuntimeWarning: Fiducial point lpa not found, assuming identity RAS (non-zero origin) to head transformation\n",
            "  info.set_montage(montage)\n",
            "C:\\Users\\jz421\\Desktop\\GlobalLocal\\IEEG_Pipelines\\ieeg\\viz\\mri.py:872: RuntimeWarning: Fiducial point lpa not found, assuming identity RAS (non-zero origin) to head transformation\n",
            "  info.set_montage(montage)\n",
            "C:\\Users\\jz421\\Desktop\\GlobalLocal\\IEEG_Pipelines\\ieeg\\viz\\mri.py:872: RuntimeWarning: Fiducial point lpa not found, assuming identity RAS (non-zero origin) to head transformation\n",
            "  info.set_montage(montage)\n",
            "C:\\Users\\jz421\\Desktop\\GlobalLocal\\IEEG_Pipelines\\ieeg\\viz\\mri.py:872: RuntimeWarning: Fiducial point lpa not found, assuming identity RAS (non-zero origin) to head transformation\n",
            "  info.set_montage(montage)\n",
            "C:\\Users\\jz421\\Desktop\\GlobalLocal\\IEEG_Pipelines\\ieeg\\viz\\mri.py:872: RuntimeWarning: Fiducial point lpa not found, assuming identity RAS (non-zero origin) to head transformation\n",
            "  info.set_montage(montage)\n",
            "C:\\Users\\jz421\\Desktop\\GlobalLocal\\IEEG_Pipelines\\ieeg\\viz\\mri.py:872: RuntimeWarning: Fiducial point lpa not found, assuming identity RAS (non-zero origin) to head transformation\n",
            "  info.set_montage(montage)\n",
            "C:\\Users\\jz421\\Desktop\\GlobalLocal\\IEEG_Pipelines\\ieeg\\viz\\mri.py:872: RuntimeWarning: Fiducial point lpa not found, assuming identity RAS (non-zero origin) to head transformation\n",
            "  info.set_montage(montage)\n",
            "C:\\Users\\jz421\\Desktop\\GlobalLocal\\IEEG_Pipelines\\ieeg\\viz\\mri.py:872: RuntimeWarning: Fiducial point lpa not found, assuming identity RAS (non-zero origin) to head transformation\n",
            "  info.set_montage(montage)\n",
            "C:\\Users\\jz421\\Desktop\\GlobalLocal\\IEEG_Pipelines\\ieeg\\viz\\mri.py:872: RuntimeWarning: Fiducial point lpa not found, assuming identity RAS (non-zero origin) to head transformation\n",
            "  info.set_montage(montage)\n",
            "C:\\Users\\jz421\\Desktop\\GlobalLocal\\IEEG_Pipelines\\ieeg\\viz\\mri.py:872: RuntimeWarning: Fiducial point lpa not found, assuming identity RAS (non-zero origin) to head transformation\n",
            "  info.set_montage(montage)\n",
            "C:\\Users\\jz421\\Desktop\\GlobalLocal\\IEEG_Pipelines\\ieeg\\viz\\mri.py:872: RuntimeWarning: Fiducial point lpa not found, assuming identity RAS (non-zero origin) to head transformation\n",
            "  info.set_montage(montage)\n",
            "C:\\Users\\jz421\\Desktop\\GlobalLocal\\IEEG_Pipelines\\ieeg\\viz\\mri.py:872: RuntimeWarning: Fiducial point lpa not found, assuming identity RAS (non-zero origin) to head transformation\n",
            "  info.set_montage(montage)\n",
            "C:\\Users\\jz421\\Desktop\\GlobalLocal\\IEEG_Pipelines\\ieeg\\viz\\mri.py:872: RuntimeWarning: Fiducial point lpa not found, assuming identity RAS (non-zero origin) to head transformation\n",
            "  info.set_montage(montage)\n",
            "C:\\Users\\jz421\\Desktop\\GlobalLocal\\IEEG_Pipelines\\ieeg\\viz\\mri.py:872: RuntimeWarning: Fiducial point lpa not found, assuming identity RAS (non-zero origin) to head transformation\n",
            "  info.set_montage(montage)\n",
            "C:\\Users\\jz421\\Desktop\\GlobalLocal\\IEEG_Pipelines\\ieeg\\viz\\mri.py:872: RuntimeWarning: Fiducial point lpa not found, assuming identity RAS (non-zero origin) to head transformation\n",
            "  info.set_montage(montage)\n",
            "C:\\Users\\jz421\\Desktop\\GlobalLocal\\IEEG_Pipelines\\ieeg\\viz\\mri.py:872: RuntimeWarning: Fiducial point lpa not found, assuming identity RAS (non-zero origin) to head transformation\n",
            "  info.set_montage(montage)\n",
            "C:\\Users\\jz421\\Desktop\\GlobalLocal\\IEEG_Pipelines\\ieeg\\viz\\mri.py:872: RuntimeWarning: Fiducial point lpa not found, assuming identity RAS (non-zero origin) to head transformation\n",
            "  info.set_montage(montage)\n",
            "C:\\Users\\jz421\\Desktop\\GlobalLocal\\IEEG_Pipelines\\ieeg\\viz\\mri.py:872: RuntimeWarning: Fiducial point lpa not found, assuming identity RAS (non-zero origin) to head transformation\n",
            "  info.set_montage(montage)\n",
            "C:\\Users\\jz421\\Desktop\\GlobalLocal\\IEEG_Pipelines\\ieeg\\viz\\mri.py:872: RuntimeWarning: Fiducial point lpa not found, assuming identity RAS (non-zero origin) to head transformation\n",
            "  info.set_montage(montage)\n",
            "C:\\Users\\jz421\\Desktop\\GlobalLocal\\IEEG_Pipelines\\ieeg\\viz\\mri.py:872: RuntimeWarning: Fiducial point lpa not found, assuming identity RAS (non-zero origin) to head transformation\n",
            "  info.set_montage(montage)\n",
            "C:\\Users\\jz421\\Desktop\\GlobalLocal\\IEEG_Pipelines\\ieeg\\viz\\mri.py:872: RuntimeWarning: Fiducial point lpa not found, assuming identity RAS (non-zero origin) to head transformation\n",
            "  info.set_montage(montage)\n",
            "C:\\Users\\jz421\\Desktop\\GlobalLocal\\IEEG_Pipelines\\ieeg\\viz\\mri.py:872: RuntimeWarning: Fiducial point lpa not found, assuming identity RAS (non-zero origin) to head transformation\n",
            "  info.set_montage(montage)\n",
            "C:\\Users\\jz421\\Desktop\\GlobalLocal\\IEEG_Pipelines\\ieeg\\viz\\mri.py:872: RuntimeWarning: Fiducial point lpa not found, assuming identity RAS (non-zero origin) to head transformation\n",
            "  info.set_montage(montage)\n",
            "C:\\Users\\jz421\\Desktop\\GlobalLocal\\IEEG_Pipelines\\ieeg\\viz\\mri.py:872: RuntimeWarning: Fiducial point lpa not found, assuming identity RAS (non-zero origin) to head transformation\n",
            "  info.set_montage(montage)\n",
            "C:\\Users\\jz421\\Desktop\\GlobalLocal\\IEEG_Pipelines\\ieeg\\viz\\mri.py:872: RuntimeWarning: Fiducial point lpa not found, assuming identity RAS (non-zero origin) to head transformation\n",
            "  info.set_montage(montage)\n"
          ]
        }
      ],
      "source": [
        "def load_sig_and_all_electrode_data_and_remove_zeroes_in_subject_names(subjects, base_path, epochs_root_file):\n",
        "    \"\"\"\n",
        "    Loads significant and all electrodes for a list of subjects.\n",
        "\n",
        "    Parameters\n",
        "    ----------\n",
        "    subjects : list\n",
        "        A list of subject IDs (e.g., 'D0001').\n",
        "    base_path : str\n",
        "        The base path to the derivatives directory containing the data.\n",
        "    epochs_root_file : str\n",
        "        The root filename for the epochs data to identify sig_chans files.\n",
        "\n",
        "    Returns\n",
        "    -------\n",
        "    all_sig_electrodes : dict\n",
        "        Maps subject ID (e.g., 'D1') to a list of significant electrode names.\n",
        "    all_electrodes : dict\n",
        "        Maps subject ID (e.g., 'D1') to a list of all electrode names.\n",
        "    \"\"\"\n",
        "    all_sig_electrodes = {}\n",
        "    all_electrodes = {}\n",
        "\n",
        "    for subj in subjects:\n",
        "        # Clean up subject ID (e.g., 'D0057' -> 'D57')\n",
        "        subj_without_zeroes = \"D\" + subj[1:].lstrip('0')\n",
        "\n",
        "        # Get subject info, which contains all channel names\n",
        "        info = subject_to_info(subj_without_zeroes)\n",
        "        all_subj_chan_names = info.ch_names\n",
        "        \n",
        "        # Store all electrode names for the subject\n",
        "        all_electrodes[subj_without_zeroes] = all_subj_chan_names\n",
        "\n",
        "        # Load significant channel names for the subject\n",
        "        # NOTE: This assumes `load_sig_chans` returns a list of channel NAMES.\n",
        "        # If it returns indices, you'll need to convert them to names here.\n",
        "        filename = os.path.join(base_path, subj, f'sig_chans_{subj}_{epochs_root_file}.json')\n",
        "        try:\n",
        "            sig_chans = load_sig_chans(filename)\n",
        "            all_sig_electrodes[subj_without_zeroes] = sig_chans\n",
        "        except FileNotFoundError:\n",
        "            print(f\"Warning: Sig chans file not found for {subj}. Skipping.\")\n",
        "            all_sig_electrodes[subj_without_zeroes] = [] # Add empty list\n",
        "\n",
        "    return all_sig_electrodes, all_electrodes\n",
        "\n",
        "def make_indices_plottable(electrodes_dict):\n",
        "    \"\"\"\n",
        "    Converts a dictionary of electrodes into a list of subjects and a\n",
        "    single flat list of numerical indices suitable for plot_on_average.\n",
        "    \n",
        "    Parameters\n",
        "    ----------\n",
        "    electrodes_dict : dict\n",
        "        A dictionary mapping subject IDs (str) to lists of electrode names.\n",
        "\n",
        "    Returns\n",
        "    -------\n",
        "    subjects : list\n",
        "        An ordered list of the subject identifiers.\n",
        "    plottable_indices : list\n",
        "        A single list of global indices for all electrodes.\n",
        "    \"\"\"\n",
        "    subjects = []\n",
        "    plottable_indices = []\n",
        "    length = 0\n",
        "    \n",
        "    for subject, electrodes in electrodes_dict.items():\n",
        "        info = subject_to_info(subject)\n",
        "        # Find the index for each electrode and add the offset\n",
        "        for electrode in electrodes:\n",
        "            if electrode in info['ch_names']:\n",
        "                plottable_indices.append(length + info['ch_names'].index(electrode))\n",
        "            else:\n",
        "                print(f\"Warning: Electrode '{electrode}' not found in {subject}\")\n",
        "\n",
        "        length += len(info['ch_names'])\n",
        "        subjects.append(subject)\n",
        "        \n",
        "    return subjects, plottable_indices\n",
        "\n",
        "# ===================================================================\n",
        "# --- Main Script ---\n",
        "# ===================================================================\n",
        "\n",
        "# 1. SETUP & CONFIGURATION\n",
        "HOME = os.path.expanduser(\"~\")\n",
        "if os.name == 'nt':\n",
        "    LAB_root = os.path.join(HOME, \"Box\", \"CoganLab\")\n",
        "else:\n",
        "    LAB_root = os.path.join(HOME, \"Library\", \"CloudStorage\", \"Box-Box\", \"CoganLab\")\n",
        "\n",
        "# Define file and path names\n",
        "# epochs_root_file = \"Stimulus_0.5sec_within1sec_randoffset_preStimulusBase_decFactor_8_outliers_10_passband_70.0-150.0_padLength_0.5s_stat_func_ttest_ind\"\n",
        "# epochs_root_file = \"Stimulus_0.5sec_within1sec_randoffset_preStimulusBase_decFactor_8_outliers_10\"\n",
        "# epochs_root_file = \"Stimulus_0.5sec_within1sec_randoffset_preStimulusBase_decFactor_8_outliers_10_passband_70.0-150.0_padLength_0.5s_stat_func_ttest_ind_equal_var_False\"\n",
        "# epochs_root_file = \"Stimulus_100sec_within1-101sec_experimentStartBase_decFactor_8_outliers_10_passband_70-150_padLength_0.5s_stat_func_ttest_ind_equal_var_False\"\n",
        "\n",
        "# epochs_root_files = [\"Stimulus_0.5sec_within1sec_randoffset_preStimulusBase_decFactor_8_outliers_10_passband_70.0-150.0_padLength_0.5s_stat_func_ttest_ind_equal_var_False\", \n",
        "# \"Stimulus_100sec_within1-101sec_experimentStartBase_decFactor_8_outliers_10_passband_70-150_padLength_0.5s_stat_func_ttest_ind_equal_var_False\"]\n",
        "\n",
        "epochs_root_files = [\"Stimulus_0.5sec_within1sec_randoffset_preStimulusBase_decFactor_8_outliers_10_passband_70.0-150.0_padLength_0.5s_stat_func_ttest_ind_equal_var_False\"]\n",
        "\n",
        "for epochs_root_file in epochs_root_files:\n",
        "    data_path = os.path.join(LAB_root, \"BIDS-1.1_GlobalLocal\", \"BIDS\", \"derivatives\", \"freqFilt\", \"figs\")\n",
        "    save_path = os.path.join(LAB_root, \"BIDS-1.1_GlobalLocal\", \"BIDS\", \"derivatives\", \"vis\", \"figs\", f'{epochs_root_file}')\n",
        "\n",
        "    if not os.path.exists(save_path):\n",
        "        os.makedirs(save_path)\n",
        "\n",
        "    # 2. DATA LOADING\n",
        "    # Use our modular function to load all the data\n",
        "    allSigElectrodes, allElectrodes = load_sig_and_all_electrode_data_and_remove_zeroes_in_subject_names(subjects, data_path, epochs_root_file)\n",
        "\n",
        "    # 3. DATA TRANSFORMATION\n",
        "    # Use our modular function to prepare the data for plotting\n",
        "    subjects_for_plot, sig_indices = make_indices_plottable(allSigElectrodes)\n",
        "    _, all_indices = make_indices_plottable(allElectrodes) # subjects list will be the same\n",
        "\n",
        "    # 4. VISUALIZATION\n",
        "    # Plot all electrodes first in a neutral color\n",
        "    fig = plot_on_average(subjects_for_plot, picks=all_indices, rm_wm=False, hemi='both', color=(0.8, 0.8, 0.8), size=0.4)\n",
        "\n",
        "    # Overlay the significant electrodes in a bright color\n",
        "    fig = plot_on_average(subjects_for_plot, picks=sig_indices, rm_wm=False, hemi='both', color=(1, 1, 0), size=0.4, fig=fig)\n",
        "\n",
        "    fig.save_image(os.path.join(save_path, \"sigAndAllElectrodes_for_\" + str(len(subjects)) + \"_subjects_\" + epochs_root_file + \".png\"))\n",
        "\n",
        "    # Close the figure to free up memory\n",
        "    fig.close()\n",
        "\n",
        "    # plot just the significant electrodes in a bright color\n",
        "    fig2 = plot_on_average(subjects_for_plot, picks=sig_indices, rm_wm=False, hemi='both', color=(1, 1, 0), size=0.4)\n",
        "\n",
        "    fig2.save_image(os.path.join(save_path, \"sigElectrodes_for_\" + str(len(subjects)) + \"_subjects_\" + epochs_root_file + \".png\"))\n",
        "\n",
        "    # Close the figure to free up memory\n",
        "    fig2.close()\n",
        "\n",
        "    # plot just all electrodes in a neutral color\n",
        "    fig3 = plot_on_average(subjects_for_plot, picks=all_indices, rm_wm=False, hemi='both', color=(0.8, 0.8, 0.8), size=0.4)\n",
        "\n",
        "    fig3.save_image(os.path.join(save_path, \"allElectrodes_for_\" + str(len(subjects)) + \"_subjects_\" + epochs_root_file + \".png\"))\n",
        "\n",
        "    # Close the figure to free up memory\n",
        "    fig3.close()"
      ]
    },
    {
      "cell_type": "markdown",
      "metadata": {},
      "source": [
        "plot sig for congruency at any time window and also sig for interaction between congruency and congruency proportion at any time window 3/25  \n",
        "\n",
        "this is for all electrodes"
      ]
    },
    {
      "cell_type": "code",
      "execution_count": null,
      "metadata": {},
      "outputs": [],
      "source": [
        "LAB_root = None\n",
        "channels = None\n",
        "full_trial_base = False\n",
        "task = 'GlobalLocal'\n",
        "if LAB_root is None:\n",
        "    HOME = os.path.expanduser(\"~\")\n",
        "    if os.name == 'nt':  # windows\n",
        "        LAB_root = os.path.join(HOME, \"Box\", \"CoganLab\")\n",
        "    else:  # mac\n",
        "        LAB_root = os.path.join(HOME, \"Library\", \"CloudStorage\", \"Box-Box\",\n",
        "                                \"CoganLab\")\n",
        "\n",
        "layout = get_data(task, root=LAB_root)\n",
        "save_dir = os.path.join(layout.root, 'derivatives', 'freqFilt', 'figs')\n",
        "\n",
        "# congruency_congruencyProportion_structure_file_path = os.path.join(save_dir, 'congruency_congruencyProportion_ANOVAwithinElectrodes_significantEffectsStructure_wholeBrainAnalysis.txt')\n",
        "# with open(congruency_congruencyProportion_structure_file_path, 'r') as file:\n",
        "#     congruency_congruencyProportion_structure = json.load(file)\n",
        "\n",
        "# switchType_switchProportion_structure_file_path = os.path.join(save_dir, 'switchType_switchProportion_ANOVAwithinElectrodes_significantEffectsStructure_wholeBrainAnalysis.txt')\n",
        "# with open(switchType_switchProportion_structure_file_path, 'r') as file:\n",
        "#     switchType_switchProportion_structure = json.load(file)\n",
        "\n",
        "congruency_switchType_structure_file_path = os.path.join(save_dir, 'congruency_switchType_ANOVAwithinElectrodes_significantEffectsStructure_wholeBrainAnalysis.txt')\n",
        "with open(congruency_switchType_structure_file_path, 'r') as file:\n",
        "    congruency_switchType_structure = json.load(file)"
      ]
    },
    {
      "cell_type": "markdown",
      "metadata": {},
      "source": [
        "this is just for lpfc 4/1"
      ]
    },
    {
      "cell_type": "code",
      "execution_count": null,
      "metadata": {},
      "outputs": [],
      "source": [
        "LAB_root = None\n",
        "channels = None\n",
        "full_trial_base = False\n",
        "task = 'GlobalLocal'\n",
        "if LAB_root is None:\n",
        "    HOME = os.path.expanduser(\"~\")\n",
        "    if os.name == 'nt':  # windows\n",
        "        LAB_root = os.path.join(HOME, \"Box\", \"CoganLab\")\n",
        "    else:  # mac\n",
        "        LAB_root = os.path.join(HOME, \"Library\", \"CloudStorage\", \"Box-Box\",\n",
        "                                \"CoganLab\")\n",
        "\n",
        "layout = get_data(task, root=LAB_root)\n",
        "save_dir = os.path.join(layout.root, 'derivatives', 'freqFilt', 'figs')\n",
        "roi = 'lpfc'\n",
        "\n",
        "# # congruency_congruencyProportion_structure_file_path = os.path.join(save_dir, f'congruency_congruencyProportion_ANOVAwithinElectrodes_significantEffectsStructure_{roi}.txt')\n",
        "# # with open(congruency_congruencyProportion_structure_file_path, 'r') as file:\n",
        "# #     congruency_congruencyProportion_structure = json.load(file)\n",
        "\n",
        "# # switchType_switchProportion_structure_file_path = os.path.join(save_dir, f'switchType_switchProportion_ANOVAwithinElectrodes_significantEffectsStructure_{roi}.txt')\n",
        "# # with open(switchType_switchProportion_structure_file_path, 'r') as file:\n",
        "# #     switchType_switchProportion_structure = json.load(file)\n",
        "\n",
        "# old_congruency_switchType_structure_file_path = os.path.join(save_dir, f'congruency_switchType_ANOVAwithinElectrodes_significantEffectsStructure_{roi}.txt')\n",
        "# with open(old_congruency_switchType_structure_file_path, 'r') as file:\n",
        "#     old_congruency_switchType_structure = json.load(file)"
      ]
    },
    {
      "cell_type": "code",
      "execution_count": null,
      "metadata": {},
      "outputs": [],
      "source": [
        "congruency_switchType_structure_file_path = os.path.join(save_dir, 'stimulus_main_effect_conditions_significantEffectsStructure_lpfc.txt')\n",
        "with open(congruency_switchType_structure_file_path, 'r') as file:\n",
        "    congruency_switchType_structure = json.load(file)"
      ]
    },
    {
      "cell_type": "markdown",
      "metadata": {},
      "source": [
        "whole brain plotting setup (old as of 4/1, delete once the other method works for whole brain plotting)"
      ]
    },
    {
      "cell_type": "code",
      "execution_count": null,
      "metadata": {},
      "outputs": [],
      "source": [
        "test = subject_to_info('D63')"
      ]
    },
    {
      "cell_type": "code",
      "execution_count": null,
      "metadata": {},
      "outputs": [],
      "source": [
        "congruency_elecs = []\n",
        "switchType_elecs = []\n",
        "congruency_congruencyProportion_elecs = []\n",
        "switchType_switchProportion_elecs = []\n",
        "congruency_switchType_elecs = []\n",
        "\n",
        "subjects = []\n",
        "added_elecs_congruency = set()  # To keep track of added electrodes for congruency\n",
        "added_elecs_congruency_congruencyProportion = set()  # To keep track of added electrodes for congruency_congruencyProportion\n",
        "\n",
        "added_elecs_switchType = set()  # To keep track of added electrodes for switch type\n",
        "added_elecs_switchType_switchProportion = set()  # To keep track of added electrodes for switchType_switchProportion\n",
        "\n",
        "added_elecs_congruency_switchType = set()  # To keep track of added electrodes for congruency_switchType\n",
        "\n",
        "def process_effects_whole_brain_analysis(electrode, time_windows, subject_without_zeroes, info, length, effect_name, elecs_list, added_elecs_set):\n",
        "    \"\"\"A helper function to process electrode effects and update lists and sets accordingly.\"\"\"\n",
        "    for time_window, effects in time_windows.items():\n",
        "        for effect_and_p_value in effects:\n",
        "            if effect_and_p_value[0] == effect_name and (subj_without_zeroes, electrode) not in added_elecs_set:\n",
        "                elecs_list.append(length + info['ch_names'].index(electrode))\n",
        "                added_elecs_set.add((subj_without_zeroes, electrode))\n",
        "                \n",
        "# Assuming all structures have the same subjects...\n",
        "length = 0\n",
        "# structure_name = 'congruency_congruencyProportion_structure'\n",
        "# structure_name = 'switchType_switchProportion_structure'\n",
        "structure_name = 'congruency_switchType_structure'\n",
        "\n",
        "if structure_name == 'congruency_congruencyProportion_structure':\n",
        "    structure = congruency_congruencyProportion_structure\n",
        "elif structure_name == 'switchType_switchProportion_structure':\n",
        "    structure = switchType_switchProportion_structure\n",
        "elif structure_name == 'congruency_switchType_structure':\n",
        "    structure = congruency_switchType_structure\n",
        "\n",
        "for subject in structure:\n",
        "    subj_without_zeroes = \"D\" + subject[1:].lstrip('0')\n",
        "    print(subj_without_zeroes)\n",
        "    info = subject_to_info(subj_without_zeroes)\n",
        "    print('got info')\n",
        "    # Ensure each subject is only added once\n",
        "    if subj_without_zeroes not in subjects:\n",
        "        subjects.append(subj_without_zeroes)\n",
        "\n",
        "    current_subject_length = len(info['ch_names'])\n",
        "\n",
        "    # # Process congruency and congruency_congruencyProportion effects - OLD AS OF 10/1\n",
        "    # if structure_name == 'congruency_congruencyProportion_structure':\n",
        "    #     electrodes_dict_congruency_congruencyProportion = congruency_congruencyProportion_structure[subject]\n",
        "    #     for electrode, time_windows in electrodes_dict_congruency_congruencyProportion.items():\n",
        "    #         process_effects_whole_brain_analysis(electrode, time_windows, subj_without_zeroes, info, length, 'congruency', congruency_elecs, added_elecs_congruency)\n",
        "    #         process_effects_whole_brain_analysis(electrode, time_windows, subj_without_zeroes, info, length, 'congruency:congruencyProportion', congruency_congruencyProportion_elecs, added_elecs_congruency_congruencyProportion)\n",
        "\n",
        "    # # Process switchType and switchType:switchProportion effects\n",
        "    # if structure_name == 'switchType_switchProportion_structure':\n",
        "    #     electrodes_dict_switchType_switchProportion = switchType_switchProportion_structure.get(subject, {})\n",
        "    #     for electrode, time_windows in electrodes_dict_switchType_switchProportion.items():\n",
        "    #         process_effects_whole_brain_analysis(electrode, time_windows, subj_without_zeroes, info, length, 'switchType', switchType_elecs, added_elecs_switchType)\n",
        "    #         process_effects_whole_brain_analysis(electrode, time_windows, subj_without_zeroes, info, length, 'switchType:switchProportion', switchType_switchProportion_elecs, added_elecs_switchType_switchProportion)\n",
        "\n",
        "    # Process congruency and switch type interaction effect\n",
        "    if structure_name == 'congruency_switchType_structure':\n",
        "        electrodes_dict_congruency_switchType = congruency_switchType_structure.get(subject, {})\n",
        "        for electrode, rois in electrodes_dict_congruency_switchType.items():\n",
        "            for roi, time_windows in rois.items():\n",
        "                for time_window, effects in time_windows.items():\n",
        "                    process_effects_whole_brain_analysis(electrode, time_windows, subj_without_zeroes, info, length, 'congruency', congruency_elecs, added_elecs_congruency) # this is a duplicate so don't run this if already have congruency_elecs\n",
        "                    process_effects_whole_brain_analysis(electrode, time_windows, subj_without_zeroes, info, length, 'switchType', switchType_elecs, added_elecs_switchType) # this is a duplicate so don't run this if already have switchType_elecs\n",
        "                    process_effects_whole_brain_analysis(electrode, time_windows, subj_without_zeroes, info, length, 'congruency:switchType', congruency_switchType_elecs, added_elecs_congruency_switchType)\n",
        "\n",
        "    length += current_subject_length  # Update length after processing each subject"
      ]
    },
    {
      "cell_type": "markdown",
      "metadata": {},
      "source": [
        "adapt whole brain setup so it works with roi plotting too 4/1"
      ]
    },
    {
      "cell_type": "code",
      "execution_count": null,
      "metadata": {},
      "outputs": [],
      "source": [
        "# # Assuming all structures have the same subjects...\n",
        "# subjects_without_zeroes = [\"D\" + subj[1:].lstrip('0') for subj in subjects]\n",
        "\n",
        "# congruency_elecs = []\n",
        "# switchType_elecs = []\n",
        "# congruency_congruencyProportion_elecs = []\n",
        "# switchType_switchProportion_elecs = []\n",
        "# congruency_switchType_elecs = []\n",
        "\n",
        "# added_elecs_congruency = set()  # To keep track of added electrodes for congruency\n",
        "# added_elecs_congruency_congruencyProportion = set()  # To keep track of added electrodes for congruency_congruencyProportion\n",
        "\n",
        "# added_elecs_switchType = set()  # To keep track of added electrodes for switch type\n",
        "# added_elecs_switchType_switchProportion = set()  # To keep track of added electrodes for switchType_switchProportion\n",
        "\n",
        "# added_elecs_congruency_switchType = set()  # To keep track of added electrodes for congruency_switchType\n",
        "\n",
        "# def process_effects_whole_brain_analysis(electrode, time_windows, subject_without_zeroes, info, length, effect_name, elecs_list, added_elecs_set):\n",
        "#     \"\"\"A helper function to process electrode effects and update lists and sets accordingly.\"\"\"\n",
        "#     for time_window, effects in time_windows.items():\n",
        "#         for effect_and_p_value in effects:\n",
        "#             if effect_and_p_value[0] == effect_name and (subject_without_zeroes, electrode) not in added_elecs_set:\n",
        "#                 elecs_list.append(length + info['ch_names'].index(electrode))\n",
        "#                 added_elecs_set.add((subject_without_zeroes, electrode))\n",
        "                \n",
        "# length = 0\n",
        "# ch_names = []\n",
        "# for subject in subjects:\n",
        "#     subject_without_zeroes = \"D\" + subject[1:].lstrip('0')\n",
        "#     info = subject_to_info(subject_without_zeroes)\n",
        "\n",
        "#     ch_names += ['-'.join([subject, n]) for n in info['ch_names']] #get a list of all channel names\n",
        "#     current_subject_length = len(info['ch_names'])\n",
        "\n",
        "#     # # Process congruency and congruency_congruencyProportion effects\n",
        "#     # electrodes_dict_congruency_congruencyProportion = congruency_congruencyProportion_structure[subject]\n",
        "#     # for electrode, time_windows in electrodes_dict_congruency_congruencyProportion.items():\n",
        "#     #     process_effects_whole_brain_analysis(electrode, time_windows, subject_without_zeroes, info, length, 'congruency', congruency_elecs, added_elecs_congruency)\n",
        "#     #     process_effects_whole_brain_analysis(electrode, time_windows, subject_without_zeroes, info, length, 'congruency_congruencyProportion', congruency_congruencyProportion_elecs, added_elecs_congruency_congruencyProportion)\n",
        "\n",
        "#     # # Process switchType and switchType:switchProportion effects\n",
        "#     # electrodes_dict_switchType_switchProportion = switchType_switchProportion_structure.get(subject, {})\n",
        "#     # for electrode, time_windows in electrodes_dict_switchType_switchProportion.items():\n",
        "#     #     process_effects_whole_brain_analysis(electrode, time_windows, subject_without_zeroes, info, length, 'switchType', switchType_elecs, added_elecs_switchType)\n",
        "#     #     process_effects_whole_brain_analysis(electrode, time_windows, subject_without_zeroes, info, length, 'switchType:switchProportion', switchType_switchProportion_elecs, added_elecs_switchType_switchProportion)\n",
        "\n",
        "#     # Process congruency and switch type interaction effect\n",
        "#     if congruency_switchType_structure and subject in congruency_switchType_structure:\n",
        "#         electrodes_dict_congruency_switchType = congruency_switchType_structure.get(subject, {})\n",
        "#         for electrode, time_windows in electrodes_dict_congruency_switchType.items():\n",
        "#             process_effects_whole_brain_analysis(electrode, time_windows, subject_without_zeroes, info, length, 'congruency', congruency_elecs, added_elecs_congruency) # delete this line if i use congruency_congruencyProportion\n",
        "#             process_effects_whole_brain_analysis(electrode, time_windows, subject_without_zeroes, info, length, 'switchType', switchType_elecs, added_elecs_switchType) # delete this line if i use switchType_switchProportion\n",
        "#             process_effects_whole_brain_analysis(electrode, time_windows, subject_without_zeroes, info, length, 'congruency_switchType', congruency_switchType_elecs, added_elecs_congruency_switchType)\n",
        "\n",
        "\n",
        "#     length += current_subject_length  # Update length after processing each subject"
      ]
    },
    {
      "cell_type": "markdown",
      "metadata": {},
      "source": [
        "plot unique congruency, unique congruency and congruency proportion interaction, and also their overlap"
      ]
    },
    {
      "cell_type": "code",
      "execution_count": null,
      "metadata": {},
      "outputs": [],
      "source": [
        "len(switchType_elecs)"
      ]
    },
    {
      "cell_type": "code",
      "execution_count": null,
      "metadata": {},
      "outputs": [],
      "source": [
        "len(congruency_elecs)"
      ]
    },
    {
      "cell_type": "code",
      "execution_count": null,
      "metadata": {},
      "outputs": [],
      "source": [
        "len(congruency_switchType_elecs)"
      ]
    },
    {
      "cell_type": "markdown",
      "metadata": {},
      "source": [
        "plot congruency, congruency proportion, and mixed electrodes"
      ]
    },
    {
      "cell_type": "code",
      "execution_count": null,
      "metadata": {},
      "outputs": [],
      "source": [
        "if structure_name == 'congruency_congruencyProportion_structure':\n",
        "\n",
        "    # Convert lists to sets for set operations\n",
        "    congruency_elecs_set = set(congruency_elecs)\n",
        "    congruency_congruencyProportion_elecs_set = set(congruency_congruencyProportion_elecs)\n",
        "\n",
        "    # Find overlapping electrodes (present in both lists)\n",
        "    overlap_congruencyEffectAndLWPC_elecs = congruency_elecs_set.intersection(congruency_congruencyProportion_elecs_set)\n",
        "\n",
        "    # Find unique electrodes in congruency_elecs\n",
        "    unique_congruency_elecs = congruency_elecs_set - congruency_congruencyProportion_elecs_set\n",
        "\n",
        "    # Find unique electrodes in congruency_congruencyProportion_elecs\n",
        "    unique_congruency_congruencyProportion_elecs = congruency_congruencyProportion_elecs_set - congruency_elecs_set\n",
        "\n",
        "    # Convert sets back to lists if necessary for plotting functions\n",
        "    overlap_congruencyEffectAndLWPC_elecs_list = list(overlap_congruencyEffectAndLWPC_elecs)\n",
        "    unique_congruency_elecs_list = list(unique_congruency_elecs)\n",
        "    unique_congruency_congruencyProportion_elecs_list = list(unique_congruency_congruencyProportion_elecs)\n",
        "\n",
        "    transparency = 0.4\n",
        "\n",
        "    # Plotting\n",
        "    # Plot unique electrodes for congruency in red\n",
        "    fig = plot_on_average(subjects, picks=unique_congruency_elecs_list, rm_wm=False, hemi='both', color=(1,0,0), size=0.35, label_every=None, transparency=transparency)\n",
        "\n",
        "    # Plot unique electrodes for congruency_congruencyProportion in hot pink\n",
        "    fig = plot_on_average(subjects, picks=unique_congruency_congruencyProportion_elecs_list, rm_wm=False, hemi='both', color=(1,0.2,0.6), size=0.35, fig=fig, transparency=transparency)\n",
        "\n",
        "    # Plot overlapping electrodes in black\n",
        "    fig = plot_on_average(subjects, picks=overlap_congruencyEffectAndLWPC_elecs_list, rm_wm=False, hemi='both', color=(0, 0, 0), size=0.35, fig=fig, transparency=transparency)"
      ]
    },
    {
      "cell_type": "markdown",
      "metadata": {},
      "source": [
        "plot switch type and switch type:switchProportion"
      ]
    },
    {
      "cell_type": "code",
      "execution_count": null,
      "metadata": {},
      "outputs": [],
      "source": [
        "if structure_name == 'switchType_switchProportion_structure':\n",
        "    # Convert lists to sets for set operations\n",
        "    switchType_elecs_set = set(switchType_elecs)\n",
        "\n",
        "    switchType_switchProportion_elecs_set = set(switchType_switchProportion_elecs)\n",
        "\n",
        "    # Find overlapping electrodes (present in both lists)\n",
        "    overlap_switchCostAndLWPS_elecs = switchType_elecs_set.intersection(switchType_switchProportion_elecs_set)\n",
        "\n",
        "    # Find unique electrodes in switch type elecs\n",
        "    unique_switchType_elecs = switchType_elecs_set - switchType_switchProportion_elecs_set\n",
        "\n",
        "    # Find unique electrodes in congruency_congruencyProportion_elecs\n",
        "    unique_switchType_switchProportion_elecs = switchType_switchProportion_elecs_set - switchType_elecs_set\n",
        "\n",
        "    # Convert sets back to lists if necessary for plotting functions\n",
        "    overlap_switchCostAndLWPS_elecs_list = list(overlap_switchCostAndLWPS_elecs)\n",
        "    unique_switchType_elecs_list = list(unique_switchType_elecs)\n",
        "    unique_switchType_switchProportion_elecs_list = list(unique_switchType_switchProportion_elecs)\n",
        "\n",
        "    transparency = 0.6\n",
        "    # Plotting\n",
        "    # Plot unique electrodes for switch type in one color\n",
        "    fig = plot_on_average(subjects, picks=unique_switchType_elecs_list, rm_wm=False, hemi='both', color=(0, 0, 1), size=0.35, label_every=None, transparency=transparency)\n",
        "\n",
        "    # Plot unique electrodes for switchType:switchProportion in another color\n",
        "    fig = plot_on_average(subjects, picks=unique_switchType_switchProportion_elecs_list, rm_wm=False, hemi='both', color=(0.5, 0.5, 0.5), size=0.35, fig=fig, transparency=transparency)\n",
        "\n",
        "    # Plot overlapping electrodes in black\n",
        "    fig = plot_on_average(subjects, picks=overlap_switchCostAndLWPS_elecs_list, rm_wm=False, hemi='both', color=(0, 0, 0), size=0.35, fig=fig, transparency=transparency)"
      ]
    },
    {
      "cell_type": "code",
      "execution_count": null,
      "metadata": {},
      "outputs": [],
      "source": [
        "if structure_name == 'congruency_switchType_structure':\n",
        "\n",
        "    congruency_elecs_set = set(congruency_elecs)\n",
        "    switchType_elecs_set = set(switchType_elecs)\n",
        "    congruency_switchType_elecs_set = set(congruency_switchType_elecs)\n",
        "\n",
        "    # Find overlapping electrodes (present in both lists). Then also find union with the interaction effect.\n",
        "    overlap_congruencyEffectAndSwitchCost_elecs = switchType_elecs_set.intersection(congruency_elecs_set)\n",
        "    overlap_and_interaction_congruencyEffectAndSwitchCost_elecs = (overlap_congruencyEffectAndSwitchCost_elecs | congruency_switchType_elecs_set)\n",
        "\n",
        "    # Find unique electrodes in switchType_elecs\n",
        "    unique_switchType_elecs = switchType_elecs_set - congruency_elecs_set - congruency_switchType_elecs_set\n",
        "\n",
        "    # Find unique electrodes in congruency_elecs\n",
        "    unique_congruency_elecs = congruency_elecs_set - switchType_elecs_set - congruency_switchType_elecs_set\n",
        "\n",
        "    # Convert sets back to lists if necessary for plotting functions\n",
        "    overlap_congruencyEffectAndSwitchCost_elecs_list = list(overlap_congruencyEffectAndSwitchCost_elecs)\n",
        "    overlap_and_interaction_congruencyEffectAndSwitchCost_elecs_list = list(overlap_and_interaction_congruencyEffectAndSwitchCost_elecs)\n",
        "    unique_switchType_elecs_list = list(unique_switchType_elecs)\n",
        "    unique_congruency_elecs_list = list(unique_congruency_elecs)\n",
        "    print(f'there are {len(unique_congruency_elecs_list)} unique congruency elecs')\n",
        "    print(f'there are {len(unique_switchType_elecs_list)} unique switch type elecs')\n",
        "    print(f'there are {len(overlap_and_interaction_congruencyEffectAndSwitchCost_elecs_list)} mixed type elecs')\n",
        "\n",
        "    transparency = 0.6\n",
        "    # Plotting\n",
        "    # Plot unique electrodes for switch type in one color\n",
        "    fig = plot_on_average(subjects, picks=unique_congruency_elecs_list, rm_wm=False, hemi='both', color=(1,0,0), size=0.35, label_every=None, transparency=transparency)\n",
        "\n",
        "    # Plot unique electrodes for switchType:switchProportion in another color\n",
        "    fig = plot_on_average(subjects, picks=unique_switchType_elecs_list, rm_wm=False, hemi='both', color=(0, 0, 1), size=0.35, fig=fig, transparency=transparency)\n",
        "\n",
        "    # Plot overlapping electrodes in black\n",
        "    fig = plot_on_average(subjects, picks=overlap_and_interaction_congruencyEffectAndSwitchCost_elecs_list, rm_wm=False, hemi='both', color=(0, 0, 0), size=0.35, fig=fig, transparency=transparency)"
      ]
    },
    {
      "cell_type": "markdown",
      "metadata": {},
      "source": [
        "plot con vs switch using names. Old as of 5/21."
      ]
    },
    {
      "cell_type": "code",
      "execution_count": null,
      "metadata": {},
      "outputs": [],
      "source": [
        "subjects = ['D0057', 'D0059', 'D0063', 'D0065', 'D0069', 'D0071', 'D0077', 'D0090', 'D0094', 'D0100', 'D0102', 'D0103'] # don't hard code this, delete this line after cns 4/9\n",
        "congruency_elecs_set = set(congruency_elecs)\n",
        "switchType_elecs_set = set(switchType_elecs)\n",
        "congruency_switchType_elecs_set = set(congruency_switchType_elecs)\n",
        "\n",
        "# Find overlapping electrodes (present in both lists). Then also find union with the interaction effect.\n",
        "overlap_congruencyEffectAndSwitchCost_elecs = switchType_elecs_set.intersection(congruency_elecs_set)\n",
        "overlap_and_interaction_congruencyEffectAndSwitchCost_elecs = (overlap_congruencyEffectAndSwitchCost_elecs | congruency_switchType_elecs_set)\n",
        "\n",
        "# Find unique electrodes in switchType_elecs\n",
        "unique_switchType_elecs = switchType_elecs_set - congruency_elecs_set - congruency_switchType_elecs_set\n",
        "\n",
        "# Find unique electrodes in congruency_elecs\n",
        "unique_congruency_elecs = congruency_elecs_set - switchType_elecs_set - congruency_switchType_elecs_set\n",
        "\n",
        "# Convert sets back to lists if necessary for plotting functions\n",
        "overlap_congruencyEffectAndSwitchCost_elecs_list = list(overlap_congruencyEffectAndSwitchCost_elecs)\n",
        "overlap_and_interaction_congruencyEffectAndSwitchCost_elecs_list = list(overlap_and_interaction_congruencyEffectAndSwitchCost_elecs)\n",
        "\n",
        "unique_switchType_elecs_list = list(unique_switchType_elecs)\n",
        "unique_congruency_elecs_list = list(unique_congruency_elecs)\n",
        "\n",
        "# #convert indices back to channel names because indices are broken for plotting right now 4/2. Just remove the indices step entirely later.\n",
        "# unique_switchType_elecs_names = [ch_names[i] for i in unique_switchType_elecs]\n",
        "# unique_congruency_elecs_names = [ch_names[i] for i in unique_congruency_elecs]\n",
        "# overlap_and_interaction_congruencyEffectAndSwitchCost_elecs_names = [ch_names[i] for i in overlap_and_interaction_congruencyEffectAndSwitchCost_elecs]\n",
        "\n",
        "# def format_subject_names(subject_names):\n",
        "#     formatted_names = []\n",
        "#     for name in subject_names:\n",
        "#         # Extract the numeric part of the subject name (assuming it always starts with 'D')\n",
        "#         num_part = int(name[1:])\n",
        "#         # Format the number with leading zeros to ensure it has four digits and prepend 'D'\n",
        "#         formatted_name = 'D' + format(num_part, '04')\n",
        "#         formatted_names.append(formatted_name)\n",
        "#     return formatted_names\n",
        "\n",
        "# # For your specific cases of electrode names where the subject name is part of the electrode name\n",
        "# def format_electrode_names(electrode_names):\n",
        "#     formatted_electrode_names = []\n",
        "#     for name in electrode_names:\n",
        "#         # Split the electrode name at the first '-' to separate subject name from the rest\n",
        "#         parts = name.split('-', 1)\n",
        "#         subject_name = parts[0]\n",
        "#         rest_of_name = parts[1] if len(parts) > 1 else ''\n",
        "#         # Format the subject name\n",
        "#         formatted_subject_name = format_subject_names([subject_name])[0]\n",
        "#         # Combine the formatted subject name with the rest of the electrode name\n",
        "#         formatted_electrode_name = formatted_subject_name + '-' + rest_of_name\n",
        "#         formatted_electrode_names.append(formatted_electrode_name)\n",
        "#     return formatted_electrode_names\n",
        "\n",
        "# # Example usage:\n",
        "# unique_switchType_elecs_names_formatted = format_electrode_names(unique_switchType_elecs_names)\n",
        "# unique_congruency_elecs_names_formatted = format_electrode_names(unique_congruency_elecs_names)\n",
        "# overlap_and_interaction_congruencyEffectAndSwitchCost_elecs_names_formatted = format_electrode_names(overlap_and_interaction_congruencyEffectAndSwitchCost_elecs_names)\n",
        "\n",
        "# print(unique_congruency_elecs_names_formatted)\n",
        "\n",
        "# # Plotting\n",
        "# # Plot unique electrodes for congruency effect\n",
        "# fig = plot_on_average(subjects, picks=unique_congruency_elecs_names_formatted, rm_wm=False, hemi='both', color=(1, 0, 0), size=0.45, transparency=0.4)\n",
        "\n",
        "# # Plot unique electrodes for switchType in another color\n",
        "# fig = plot_on_average(subjects, picks=unique_switchType_elecs_names_formatted, rm_wm=False, hemi='both', color=(0, 0, 1), size=0.45, fig=fig)\n",
        "\n",
        "# # Plot overlapping electrodes and interaction electrodes in black\n",
        "# fig = plot_on_average(subjects, picks=overlap_and_interaction_congruencyEffectAndSwitchCost_elecs_names_formatted, rm_wm=False, hemi='both', color=(0, 0, 0), size=0.45, fig=fig)"
      ]
    },
    {
      "cell_type": "code",
      "execution_count": null,
      "metadata": {},
      "outputs": [],
      "source": [
        "unique_switchType_elecs_list"
      ]
    },
    {
      "cell_type": "code",
      "execution_count": null,
      "metadata": {},
      "outputs": [],
      "source": [
        "len(unique_congruency_elecs_list)"
      ]
    },
    {
      "cell_type": "code",
      "execution_count": null,
      "metadata": {},
      "outputs": [],
      "source": [
        "len(overlap_and_interaction_congruencyEffectAndSwitchCost_elecs_list)"
      ]
    },
    {
      "cell_type": "markdown",
      "metadata": {},
      "source": [
        "plot congruency_switchType interaction vs intersection of congruency and switch type  \n",
        "i am aware these variable names are awful and inconsistent. Change them later.. 3/27"
      ]
    },
    {
      "cell_type": "code",
      "execution_count": null,
      "metadata": {},
      "outputs": [],
      "source": [
        "congruency_switchType_elecs_set = set(congruency_switchType_elecs)\n",
        "\n",
        "# Find overlapping electrodes (present in both lists)\n",
        "overlap_congruency_switchType_and_overlap_congruencyEffectAndSwitchCost_elecs = congruency_switchType_elecs_set.intersection(overlap_congruencyEffectAndSwitchCost_elecs)\n",
        "\n",
        "# Find unique electrodes in conSwitchInteraction\n",
        "unique_congruency_switchType_elecs = congruency_switchType_elecs_set - overlap_congruencyEffectAndSwitchCost_elecs\n",
        "\n",
        "# Find unique electrodes in overlap_congruencyEffectAndSwitchCost_elecs\n",
        "unique_overlap_congruencyEffectAndSwitchCost_elecs = overlap_congruencyEffectAndSwitchCost_elecs - congruency_switchType_elecs_set\n",
        "\n",
        "# Convert sets back to lists if necessary for plotting functions\n",
        "overlap_congruency_switchType_and_overlap_congruencyEffectAndSwitchCost_elecs_list = list(overlap_congruency_switchType_and_overlap_congruencyEffectAndSwitchCost_elecs)\n",
        "unique_congruency_switchType_elecs_list = list(unique_congruency_switchType_elecs)\n",
        "unique_overlap_congruencyEffectAndSwitchCost_elecs_list = list(unique_overlap_congruencyEffectAndSwitchCost_elecs)\n",
        "\n",
        "# Plotting\n",
        "# Plot unique electrodes for con switch interaction\n",
        "fig = plot_on_average(subjects, picks=unique_congruency_switchType_elecs_list, rm_wm=True, hemi='both', color=(0.5, 0.3, 0.1), size=0.35, transparency=0.2)\n",
        "\n",
        "# Plot unique electrodes for con switch overlap\n",
        "fig = plot_on_average(subjects, picks=unique_overlap_congruencyEffectAndSwitchCost_elecs_list, rm_wm=True, hemi='both', color=(1, 1, 1), size=0.35, fig=fig, transparency=0.2)\n",
        "\n",
        "# Plot overlapping electrodes in black\n",
        "fig = plot_on_average(subjects, picks=overlap_congruency_switchType_and_overlap_congruencyEffectAndSwitchCost_elecs_list, rm_wm=True, hemi='both', color=(0, 0, 0), size=0.35, fig=fig, transparency=0.2)"
      ]
    },
    {
      "cell_type": "markdown",
      "metadata": {},
      "source": [
        "plot congruency switch interaction and additive effects VS congruency and switch type unique main effects"
      ]
    },
    {
      "cell_type": "code",
      "execution_count": null,
      "metadata": {},
      "outputs": [],
      "source": [
        "conSwitchInteractionOrAdditiveEffects = (set(congruency_switchType_interaction_elecs) | set(overlap_congruencyEffectAndSwitchCost_elecs))\n",
        "conSwitchMainEffects = (set(congruency_elecs) | set(switchType_elecs))\n",
        "\n",
        "# Find overlapping electrodes (present in both lists)\n",
        "overlapMainAndInteractionEffects = conSwitchInteractionOrAdditiveEffects.intersection(conSwitchMainEffects)\n",
        "\n",
        "# Find unique electrodes in conSwitchInteractionOrAdditiveEffects\n",
        "unique_conSwitchInteractionOrAdditiveEffects_elecs = conSwitchInteractionOrAdditiveEffects - conSwitchMainEffects\n",
        "\n",
        "# Find unique electrodes in conSwitchMainEffects\n",
        "unique_conSwitchMainEffects_elecs = conSwitchMainEffects - conSwitchInteractionOrAdditiveEffects\n",
        "\n",
        "# Convert sets back to lists if necessary for plotting functions\n",
        "overlapMainAndInteractionEffects_list = list(overlapMainAndInteractionEffects)\n",
        "unique_conSwitchInteractionOrAdditiveEffects_elecs_list = list(unique_conSwitchInteractionOrAdditiveEffects_elecs)\n",
        "unique_conSwitchMainEffects_elecs_list = list(unique_conSwitchMainEffects_elecs)\n",
        "\n",
        "# Plotting\n",
        "# Plot unique electrodes for con switch interaction\n",
        "fig = plot_on_average(subjects, picks=unique_conSwitchInteractionOrAdditiveEffects_elecs_list, rm_wm=False, hemi='both', color=(0, 1, 0), size=0.45, transparency=0.2)\n",
        "\n",
        "# Plot unique electrodes for con switch overlap\n",
        "fig = plot_on_average(subjects, picks=unique_conSwitchMainEffects_elecs_list, rm_wm=False, hemi='both', color=(1, 0, 0), size=0.45, fig=fig, transparency=0.2)\n",
        "\n",
        "# Plot overlapping electrodes in black\n",
        "fig = plot_on_average(subjects, picks=overlapMainAndInteractionEffects_list, rm_wm=False, hemi='both', color=(0, 0, 0), size=0.45, fig=fig, transparency=0.2)"
      ]
    },
    {
      "cell_type": "code",
      "execution_count": null,
      "metadata": {},
      "outputs": [],
      "source": [
        "len(overlapMainAndInteractionEffects_list)"
      ]
    },
    {
      "cell_type": "markdown",
      "metadata": {},
      "source": [
        "### plot all stim electrodes for an roi\n",
        "get the subject: electrode mappings from roi_analysis first"
      ]
    },
    {
      "cell_type": "code",
      "execution_count": null,
      "metadata": {},
      "outputs": [],
      "source": [
        "def get_sig_chans(sub, task, LAB_root=None):\n",
        "    # Determine LAB_root based on the operating system\n",
        "    if LAB_root is None:\n",
        "        HOME = os.path.expanduser(\"~\")\n",
        "        LAB_root = os.path.join(HOME, \"Box\", \"CoganLab\") if os.name == 'nt' else os.path.join(HOME, \"Library\", \"CloudStorage\", \"Box-Box\", \"CoganLab\")\n",
        "\n",
        "    # Get data layout\n",
        "    layout = get_data(task, root=LAB_root)\n",
        "    save_dir = os.path.join(layout.root, 'derivatives', 'freqFilt', 'figs', sub)\n",
        "\n",
        "    stim_filename = f'{save_dir}\\\\sig_chans_{sub}_Stimulus_fixationCrossBase_1sec_mirror.json'\n",
        "    stim_sig_chans = load_sig_chans(stim_filename)\n",
        "    return stim_sig_chans\n",
        "\n",
        "# Initialize an empty dictionary to store significant channels per subject\n",
        "sig_chans_per_subject = {}\n",
        "\n",
        "# Populate the dictionary using get_sig_chans for each subject\n",
        "for sub in subjects:\n",
        "    sig_chans_per_subject[sub] = get_sig_chans(sub, 'GlobalLocal')\n",
        "\n",
        "# Now sig_chans_per_subject dictionary is populated with significant channels for each subject"
      ]
    },
    {
      "cell_type": "code",
      "execution_count": null,
      "metadata": {},
      "outputs": [],
      "source": [
        "import json\n",
        "\n",
        "# Load from a JSON file\n",
        "filename = 'subjects_electrodestoROIs_dict.json'\n",
        "\n",
        "with open(filename, 'r') as file:\n",
        "    subjects_electrodestoROIs_dict = json.load(file)\n",
        "\n",
        "print(f\"Loaded data from {filename}\")"
      ]
    },
    {
      "cell_type": "code",
      "execution_count": null,
      "metadata": {},
      "outputs": [],
      "source": [
        "def filter_electrodes_by_roi(subjects_electrodes_dict, sig_chans_per_subject, roi_list):\n",
        "    \"\"\"\n",
        "    Filters electrodes based on specified ROIs and returns significant electrodes for each subject.\n",
        "\n",
        "    Args:\n",
        "    subjects_electrodes_dict (dict): A dictionary with subjects as keys and electrode-to-ROI mappings as values.\n",
        "    sig_chans_per_subject (dict): A dictionary with subjects as keys and lists of significant channels as values.\n",
        "    roi_list (list): A list of ROIs to filter electrodes.\n",
        "\n",
        "    Returns:\n",
        "    dict: A dictionary with subjects as keys and lists of significant electrodes in specified ROIs as values.\n",
        "    \"\"\"\n",
        "    filtered_electrodes_per_subject = {}\n",
        "\n",
        "    for sub, electrodes_dict in subjects_electrodes_dict.items():\n",
        "        filtered = {key: value for key, value in electrodes_dict['filtROI_dict'].items() \n",
        "                    if any(roi in key for roi in roi_list)}\n",
        "\n",
        "        # Aggregate electrodes into a list for each subject\n",
        "        filtered_electrodes = []\n",
        "        for electrodes in filtered.values():\n",
        "            filtered_electrodes.extend(electrodes)\n",
        "\n",
        "        filtered_electrodes_per_subject[sub] = filtered_electrodes\n",
        "        print(f'For subject {sub}, {\", \".join(roi_list)} electrodes are: {filtered_electrodes}')\n",
        "\n",
        "    # Now filter for significant electrodes\n",
        "    sig_filtered_electrodes_per_subject = {}\n",
        "\n",
        "    for sub, filtered_electrodes in filtered_electrodes_per_subject.items():\n",
        "        # Retrieve the list of significant channels for the subject\n",
        "        sig_chans = sig_chans_per_subject.get(sub, [])\n",
        "\n",
        "        # Find the intersection of filtered electrodes and significant channels for the subject\n",
        "        sig_filtered_electrodes = [elec for elec in filtered_electrodes if elec in sig_chans]\n",
        "\n",
        "        # Store the significant filtered electrodes for the subject\n",
        "        sig_filtered_electrodes_per_subject[sub] = sig_filtered_electrodes\n",
        "        print(f\"Subject {sub} significant {', '.join(roi_list)} electrodes: {sig_filtered_electrodes}\")\n",
        "\n",
        "    return filtered_electrodes_per_subject, sig_filtered_electrodes_per_subject\n",
        "\n",
        "# Example usage:\n",
        "dlpfc_rois = [\"G_front_middle\", \"G_front_sup\", \"S_front_inf\", \"S_front_middle\", \"S_front_sup\"] #dorsolateral prefrontal cortex\n",
        "acc_rois = [\"G_and_S_cingul-Ant\", \"G_and_S_cingul-Mid-Ant\"] #anterior cingulate cortex\n",
        "parietal_rois = [\"G_parietal_sup\", \"S_intrapariet_and_P_trans\", \"G_pariet_inf-Angular\", \"G_pariet_inf-Supramar\"] #superior parietal lobule, intraparietal sulcus, and inferior parietal lobule (split into angular gyrus and supramarginal gyrus)\n",
        "dlpfc_electrodes_per_subject, sig_dlpfc_electrodes_per_subject = filter_electrodes_by_roi(subjects_electrodestoROIs_dict, sig_chans_per_subject, dlpfc_rois)\n",
        "acc_electrodes_per_subject, sig_acc_electrodes_per_subject = filter_electrodes_by_roi(subjects_electrodestoROIs_dict, sig_chans_per_subject, acc_rois)\n",
        "parietal_electrodes_per_subject, sig_parietal_electrodes_per_subject = filter_electrodes_by_roi(subjects_electrodestoROIs_dict, sig_chans_per_subject, parietal_rois)"
      ]
    },
    {
      "cell_type": "markdown",
      "metadata": {},
      "source": [
        "this is with zeroes removed from subject names, i think plot on average needs those instead of the normal subject names  \n",
        "also, remove the subjects with empty lists since those might be breaking the plotting too"
      ]
    },
    {
      "cell_type": "code",
      "execution_count": null,
      "metadata": {},
      "outputs": [],
      "source": [
        "def remove_leading_zeroes_and_empty_subjects(subjects_dict):\n",
        "    \"\"\"\n",
        "    Removes leading zeroes from subject names, adds a '_without_zeroes' suffix, \n",
        "    and filters out subjects with empty lists.\n",
        "\n",
        "    Args:\n",
        "    subjects_dict (dict): A dictionary with subjects as keys and lists as values.\n",
        "\n",
        "    Returns:\n",
        "    dict: A new dictionary with modified subject names and non-empty lists.\n",
        "    \"\"\"\n",
        "    new_dict = {}\n",
        "    for sub, value in subjects_dict.items():\n",
        "        if value:  # Check if the list is not empty\n",
        "            sub_without_zeroes = \"D\" + sub[1:].lstrip('0')\n",
        "            new_dict[sub_without_zeroes] = value\n",
        "    return new_dict\n",
        "\n",
        "# Example usage:\n",
        "dlpfc_electrodes_without_zeroes = remove_leading_zeroes_and_empty_subjects(dlpfc_electrodes_per_subject)\n",
        "sig_dlpfc_electrodes_without_zeroes = remove_leading_zeroes_and_empty_subjects(sig_dlpfc_electrodes_per_subject)\n",
        "\n",
        "acc_electrodes_without_zeroes = remove_leading_zeroes_and_empty_subjects(acc_electrodes_per_subject)\n",
        "sig_acc_electrodes_without_zeroes = remove_leading_zeroes_and_empty_subjects(sig_acc_electrodes_per_subject)\n",
        "\n",
        "parietal_electrodes_without_zeroes = remove_leading_zeroes_and_empty_subjects(parietal_electrodes_per_subject)\n",
        "sig_parietal_electrodes_without_zeroes = remove_leading_zeroes_and_empty_subjects(sig_parietal_electrodes_per_subject)"
      ]
    },
    {
      "cell_type": "markdown",
      "metadata": {},
      "source": [
        "### plot sig roi electrodes on individual brains"
      ]
    },
    {
      "cell_type": "markdown",
      "metadata": {},
      "source": [
        "#### dlpfc"
      ]
    },
    {
      "cell_type": "code",
      "execution_count": null,
      "metadata": {},
      "outputs": [],
      "source": [
        "for subj in sig_dlpfc_electrodes_without_zeroes:\n",
        "    print(subj)"
      ]
    },
    {
      "cell_type": "markdown",
      "metadata": {},
      "source": [
        "manually do single subjects"
      ]
    },
    {
      "cell_type": "code",
      "execution_count": null,
      "metadata": {},
      "outputs": [],
      "source": [
        "subj = 'D0103'\n",
        "base_path = r'C:\\Users\\jz421\\Box\\CoganLab\\BIDS-1.1_GlobalLocal\\BIDS\\derivatives\\freqFilt\\figs'\n",
        "\n",
        "subj_without_zeroes = \"D\" + subj[1:].lstrip('0')\n",
        "print(\"Picks for subject:\", sig_dlpfc_electrodes_without_zeroes[subj_without_zeroes])\n",
        "brain_fig = plot_subj_sig_and_nonsig(subj_without_zeroes, sig_picks=sig_dlpfc_electrodes_without_zeroes[subj_without_zeroes], nonsig_picks=dlpfc_electrodes_without_zeroes[subj_without_zeroes], sig_color=(1,1,0), nonsig_color=(1,1,1), labels_every=1, hemi='both', title=f'{subj}_dlPFC', background='black')\n",
        "# brain_fig = plot_subj(subj_without_zeroes, picks=sig_dlpfc_electrodes_without_zeroes[subj_without_zeroes], labels_every=1, hemi='both', title=f'{subj}_dlPFC', background='black', color=(1, 1, 0))\n",
        "\n",
        "# Specify the path and filename for the PNG file\n",
        "png_filepath = os.path.join(base_path, f\"{subj_without_zeroes}_dlPFC.png\")\n",
        "\n",
        "# Save the figure\n",
        "brain_fig.save_image(png_filepath, 'png')"
      ]
    },
    {
      "cell_type": "markdown",
      "metadata": {},
      "source": [
        "loop thru everyone who has sig dlpfc electrodes"
      ]
    },
    {
      "cell_type": "code",
      "execution_count": null,
      "metadata": {},
      "outputs": [],
      "source": [
        "for subj in sig_dlpfc_electrodes_without_zeroes:\n",
        "    if subj == 'D57':\n",
        "        continue #skip this one cuz its being weird\n",
        "    base_path = r'C:\\Users\\jz421\\Box\\CoganLab\\BIDS-1.1_GlobalLocal\\BIDS\\derivatives\\freqFilt\\figs'\n",
        "\n",
        "    subj_without_zeroes = \"D\" + subj[1:].lstrip('0')\n",
        "    print(\"Picks for subject:\", sig_dlpfc_electrodes_without_zeroes[subj_without_zeroes])\n",
        "\n",
        "    brain_fig = plot_subj_sig_and_nonsig(subj_without_zeroes, sig_picks=sig_dlpfc_electrodes_without_zeroes[subj_without_zeroes], nonsig_picks=dlpfc_electrodes_without_zeroes[subj_without_zeroes], sig_color=(1,1,0), nonsig_color=(1,1,1), labels_every=1, hemi='both', title=f'{subj}_dlPFC', background='black')\n",
        "\n",
        "    # Specify the path and filename for the PNG file\n",
        "    png_filepath = os.path.join(base_path, f\"{subj_without_zeroes}_dlPFC.png\")\n",
        "\n",
        "    # Save the figure\n",
        "    brain_fig.save_image(png_filepath, 'png')"
      ]
    },
    {
      "cell_type": "markdown",
      "metadata": {},
      "source": [
        "#### acc"
      ]
    },
    {
      "cell_type": "code",
      "execution_count": null,
      "metadata": {},
      "outputs": [],
      "source": [
        "for subj in sig_acc_electrodes_without_zeroes:\n",
        "    print(subj)"
      ]
    },
    {
      "cell_type": "markdown",
      "metadata": {},
      "source": [
        "manually do single subjects"
      ]
    },
    {
      "cell_type": "code",
      "execution_count": null,
      "metadata": {},
      "outputs": [],
      "source": [
        "subj = 'D0103'\n",
        "base_path = r'C:\\Users\\jz421\\Box\\CoganLab\\BIDS-1.1_GlobalLocal\\BIDS\\derivatives\\freqFilt\\figs'\n",
        "\n",
        "subj_without_zeroes = \"D\" + subj[1:].lstrip('0')\n",
        "print(\"Picks for subject:\", sig_acc_electrodes_without_zeroes[subj_without_zeroes])\n",
        "\n",
        "brain_fig = plot_subj_sig_and_nonsig(subj_without_zeroes, sig_picks=sig_acc_electrodes_without_zeroes[subj_without_zeroes], nonsig_picks=acc_electrodes_without_zeroes[subj_without_zeroes], sig_color=(1,1,0), nonsig_color=(1,1,1), labels_every=1, hemi='both', title=f'{subj}_acc', background='black')\n",
        "\n",
        "# Specify the path and filename for the PNG file\n",
        "png_filepath = os.path.join(base_path, f\"{subj_without_zeroes}_acc.png\")\n",
        "\n",
        "# Save the figure\n",
        "brain_fig.save_image(png_filepath, 'png')"
      ]
    },
    {
      "cell_type": "markdown",
      "metadata": {},
      "source": [
        "loop thru everyone who has sig acc electrodes"
      ]
    },
    {
      "cell_type": "code",
      "execution_count": null,
      "metadata": {},
      "outputs": [],
      "source": [
        "for subj in sig_acc_electrodes_without_zeroes:\n",
        "\n",
        "    base_path = r'C:\\Users\\jz421\\Box\\CoganLab\\BIDS-1.1_GlobalLocal\\BIDS\\derivatives\\freqFilt\\figs'\n",
        "\n",
        "    subj_without_zeroes = \"D\" + subj[1:].lstrip('0')\n",
        "    print(\"Picks for subject:\", sig_acc_electrodes_without_zeroes[subj_without_zeroes])\n",
        "\n",
        "    brain_fig = plot_subj_sig_and_nonsig(subj_without_zeroes, sig_picks=sig_acc_electrodes_without_zeroes[subj_without_zeroes], nonsig_picks=acc_electrodes_without_zeroes[subj_without_zeroes], sig_color=(1,1,0), nonsig_color=(1,1,1), labels_every=1, hemi='both', title=f'{subj}_acc', background='black')\n",
        "\n",
        "    # Specify the path and filename for the PNG file\n",
        "    png_filepath = os.path.join(base_path, f\"{subj_without_zeroes}_acc.png\")\n",
        "\n",
        "    # Save the figure\n",
        "    brain_fig.save_image(png_filepath, 'png')"
      ]
    },
    {
      "cell_type": "markdown",
      "metadata": {},
      "source": [
        "#### parietal"
      ]
    },
    {
      "cell_type": "code",
      "execution_count": null,
      "metadata": {},
      "outputs": [],
      "source": [
        "for subj in sig_parietal_electrodes_without_zeroes:\n",
        "    print(subj)"
      ]
    },
    {
      "cell_type": "markdown",
      "metadata": {},
      "source": [
        "manually do single subjects"
      ]
    },
    {
      "cell_type": "code",
      "execution_count": null,
      "metadata": {},
      "outputs": [],
      "source": [
        "subj = 'D103'\n",
        "base_path = r'C:\\Users\\jz421\\Box\\CoganLab\\BIDS-1.1_GlobalLocal\\BIDS\\derivatives\\freqFilt\\figs'\n",
        "\n",
        "subj_without_zeroes = \"D\" + subj[1:].lstrip('0')\n",
        "print(\"Picks for subject:\", sig_parietal_electrodes_without_zeroes[subj_without_zeroes])\n",
        "\n",
        "brain_fig = plot_subj_sig_and_nonsig(subj_without_zeroes, sig_picks=sig_parietal_electrodes_without_zeroes[subj_without_zeroes], nonsig_picks=parietal_electrodes_without_zeroes[subj_without_zeroes], sig_color=(1,1,0), nonsig_color=(1,1,1), labels_every=1, hemi='both', title=f'{subj}_parietal', background='black')\n",
        "\n",
        "# Specify the path and filename for the PNG file\n",
        "png_filepath = os.path.join(base_path, f\"{subj_without_zeroes}_parietal.png\")\n",
        "\n",
        "# Save the figure\n",
        "brain_fig.save_image(png_filepath, 'png')"
      ]
    },
    {
      "cell_type": "markdown",
      "metadata": {},
      "source": [
        "loop thru everyone who has sig parietal electrodes"
      ]
    },
    {
      "cell_type": "code",
      "execution_count": null,
      "metadata": {},
      "outputs": [],
      "source": [
        "for subj in sig_parietal_electrodes_without_zeroes:\n",
        "\n",
        "    base_path = r'C:\\Users\\jz421\\Box\\CoganLab\\BIDS-1.1_GlobalLocal\\BIDS\\derivatives\\freqFilt\\figs'\n",
        "\n",
        "    subj_without_zeroes = \"D\" + subj[1:].lstrip('0')\n",
        "    print(\"Picks for subject:\", sig_parietal_electrodes_without_zeroes[subj_without_zeroes])\n",
        "\n",
        "    brain_fig = plot_subj_sig_and_nonsig(subj_without_zeroes, sig_picks=sig_parietal_electrodes_without_zeroes[subj_without_zeroes], nonsig_picks=parietal_electrodes_without_zeroes[subj_without_zeroes], sig_color=(1,1,0), nonsig_color=(1,1,1), labels_every=1, hemi='both', title=f'{subj}_parietal', background='black')\n",
        "\n",
        "    # Specify the path and filename for the PNG file\n",
        "    png_filepath = os.path.join(base_path, f\"{subj_without_zeroes}_parietal.png\")\n",
        "\n",
        "    # Save the figure\n",
        "    brain_fig.save_image(png_filepath, 'png')"
      ]
    },
    {
      "cell_type": "markdown",
      "metadata": {},
      "source": [
        "### do dlpfc, acc, parietal coverage for each person"
      ]
    },
    {
      "cell_type": "markdown",
      "metadata": {},
      "source": [
        "get all electrodes across dlpfc, acc, and parietal and stick them into one dictionary so we can plot coverage in control regions for each subject"
      ]
    },
    {
      "cell_type": "code",
      "execution_count": null,
      "metadata": {},
      "outputs": [],
      "source": [
        "allSigControlElectrodes = {key: sig_parietal_electrodes_without_zeroes.get(key, []) + \n",
        "                      sig_dlpfc_electrodes_without_zeroes.get(key, []) + \n",
        "                      sig_acc_electrodes_without_zeroes.get(key, [])\n",
        "                 for key in set(sig_parietal_electrodes_without_zeroes) | \n",
        "                             set(sig_dlpfc_electrodes_without_zeroes) | \n",
        "                             set(sig_acc_electrodes_without_zeroes)}\n",
        "\n",
        "allControlElectrodes = {key: parietal_electrodes_without_zeroes.get(key, []) + \n",
        "                      dlpfc_electrodes_without_zeroes.get(key, []) + \n",
        "                      acc_electrodes_without_zeroes.get(key, [])\n",
        "                 for key in set(parietal_electrodes_without_zeroes) | \n",
        "                             set(dlpfc_electrodes_without_zeroes) | \n",
        "                             set(acc_electrodes_without_zeroes)}\n",
        "\n",
        "subj = 'D63'\n",
        "base_path = r'C:\\Users\\jz421\\Box\\CoganLab\\BIDS-1.1_GlobalLocal\\BIDS\\derivatives\\freqFilt\\figs'\n",
        "\n",
        "subj_without_zeroes = \"D\" + subj[1:].lstrip('0')\n",
        "brain_fig = plot_subj_sig_and_nonsig(subj_without_zeroes, sig_picks=allSigControlElectrodes[subj_without_zeroes], nonsig_picks=allControlElectrodes[subj_without_zeroes], sig_color=(1,1,0), nonsig_color=(1,1,1), labels_every=1, hemi='both', title=f'{subj}_allControlElectrodes', background='black')\n",
        "\n",
        "# Specify the path and filename for the PNG file\n",
        "png_filepath = os.path.join(base_path, f\"{subj_without_zeroes}_allControlElectrodes.png\")\n",
        "\n",
        "# Save the figure\n",
        "brain_fig.save_image(png_filepath, 'png')"
      ]
    },
    {
      "cell_type": "markdown",
      "metadata": {},
      "source": [
        "### try to plot all sig electrodes in an roi on an avg brain  \n",
        "this is plotting like all electrodes wtf why"
      ]
    },
    {
      "cell_type": "code",
      "execution_count": null,
      "metadata": {},
      "outputs": [],
      "source": [
        "plot_on_average(sig_parietal_electrodes_without_zeroes, hemi='both', color=(1,1,0))"
      ]
    },
    {
      "cell_type": "markdown",
      "metadata": {},
      "source": [
        "### plot each subject one by one on the fsaverage brain"
      ]
    },
    {
      "cell_type": "code",
      "execution_count": null,
      "metadata": {},
      "outputs": [],
      "source": [
        "# grab all of the significant electrodes, and put them into one list, and then run plot_on_average\n",
        "\n",
        "HOME = os.path.expanduser(\"~\")\n",
        "\n",
        "# get box directory depending on OS\n",
        "if os.name == 'nt': # windows\n",
        "    LAB_root = os.path.join(HOME, \"Box\", \"CoganLab\")\n",
        "else: # mac\n",
        "    LAB_root = os.path.join(HOME, \"Library\", \"CloudStorage\", \"Box-Box\", \"CoganLab\")\n",
        "\n",
        "layout = get_data(\"GlobalLocal\", root=LAB_root)\n",
        "\n",
        "\n",
        "print(layout.derivatives)\n",
        "print(layout.derivatives.keys())\n",
        "\n",
        "\n",
        "base_path = os.path.join(LAB_root, \"BIDS-1.1_GlobalLocal\", \"BIDS\", \"derivatives\", \"freqFilt\", \"figs\")\n",
        "\n",
        "subjects = layout.get(return_type=\"id\", target=\"subject\")\n",
        "subjects_without_zeroes = [\"D\" + subj[1:].lstrip('0') for subj in subjects]\n",
        "allSigElectrodes = {}  # Initialize as an empty dictionary\n",
        "allElectrodes = {}\n",
        "\n",
        "subj = 'D0071'\n",
        "    \n",
        "resp_filename = f'{base_path}\\\\{subj}\\\\sig_chans_{subj}_Response.json'\n",
        "stim_filename = f'{base_path}\\\\{subj}\\\\sig_chans_{subj}_Stimulus.json'\n",
        "\n",
        "resp_sig_chans = load_sig_chans(resp_filename)\n",
        "stim_sig_chans = load_sig_chans(stim_filename)\n",
        "\n",
        "# Combine the significant electrodes for this subject\n",
        "combined_chans = resp_sig_chans + stim_sig_chans\n",
        "\n",
        "# Add them to the dictionary, tagged with the subject without zeroes\n",
        "\n",
        "subj_without_zeroes = \"D\" + subj[1:].lstrip('0')\n",
        "allSigElectrodes[subj_without_zeroes] = combined_chans\n",
        "\n",
        "# Get all electrodes for this subject and add them to the allElectrodes dict\n",
        "info = subject_to_info(subj_without_zeroes)\n",
        "allSubjElectrodes = mne.pick_channels(info.ch_names, [])\n",
        "allElectrodes[subj_without_zeroes] = allSubjElectrodes\n",
        "\n",
        "\n",
        "plot_on_average(allSigElectrodes, hemi='both', color=(1,1,0))\n",
        "plot_on_average(allElectrodes, hemi='both', color=(1,1,0))"
      ]
    },
    {
      "cell_type": "markdown",
      "metadata": {},
      "source": [
        "just plot an empty brain for my MAP 3/21"
      ]
    },
    {
      "cell_type": "code",
      "execution_count": null,
      "metadata": {},
      "outputs": [],
      "source": [
        "import os\n",
        "import mne\n",
        "from mne.viz import Brain\n",
        "\n",
        "subj = 'D57'\n",
        "base_path = r'C:\\Users\\jz421\\Box\\CoganLab\\BIDS-1.1_GlobalLocal\\BIDS\\derivatives\\freqFilt\\figs'\n",
        "# subjects_dir = get_sub_dir()  # Use your default subjects directory function\n",
        "sub_dir = get_sub_dir()\n",
        "\n",
        "# Create a brain directly using the Brain class instead of plot_subj\n",
        "brain_fig = Brain(\n",
        "    subject=subj,\n",
        "    hemi='rh',\n",
        "    background='white',\n",
        "    offset=True,\n",
        "    alpha=0.9,  # Very transparent (0.6 is quite transparent)\n",
        "    subjects_dir=sub_dir\n",
        ")\n",
        "\n",
        "# Set to top view (dorsal view)\n",
        "brain_fig.show_view('lateral')\n",
        "\n",
        "# Specify the path for output\n",
        "output_path = os.path.join(base_path, f\"{subj}_transparent_rh_lateral_brain_no_electrodes.png\")\n",
        "\n",
        "# Save the image\n",
        "brain_fig.save_image(output_path)\n",
        "print(f\"Brain visualization saved to {output_path}\")"
      ]
    },
    {
      "cell_type": "code",
      "execution_count": null,
      "metadata": {},
      "outputs": [],
      "source": [
        "import os\n",
        "import mne\n",
        "from mne.viz import Brain\n",
        "\n",
        "subj = 'D57'\n",
        "base_path = r'C:\\Users\\jz421\\Box\\CoganLab\\BIDS-1.1_GlobalLocal\\BIDS\\derivatives\\freqFilt\\figs'\n",
        "sub_dir = get_sub_dir()\n",
        "\n",
        "# Define a custom cortex style with very subtle coloring\n",
        "# Format is (color for sulci, color for gyri)\n",
        "white_cortex = ('white', '#F8F8F8')  # Nearly white for both, with subtle difference\n",
        "\n",
        "# Create a brain with mostly white appearance\n",
        "brain_fig = Brain(\n",
        "    subject=subj,\n",
        "    hemi='rh',\n",
        "    background='white',\n",
        "    cortex=white_cortex,  # Custom coloring\n",
        "    alpha=1.0,  # Fully opaque since we're using white anyway\n",
        "    subjects_dir=sub_dir\n",
        ")\n",
        "\n",
        "# Set to lateral view\n",
        "brain_fig.show_view('medial')\n",
        "\n",
        "# Turn on silhouette to emphasize the outline\n",
        "brain_fig.silhouette = True\n",
        "\n",
        "# Specify the path for output\n",
        "output_path = os.path.join(base_path, f\"{subj}_white_outline_rh_medial.png\")\n",
        "\n",
        "# Save the image\n",
        "brain_fig.save_image(output_path)\n",
        "print(f\"White outline brain visualization saved to {output_path}\")"
      ]
    },
    {
      "cell_type": "code",
      "execution_count": null,
      "metadata": {},
      "outputs": [],
      "source": []
    }
  ],
  "metadata": {
    "kernelspec": {
      "display_name": "ieeg",
      "language": "python",
      "name": "python3"
    },
    "language_info": {
      "codemirror_mode": {
        "name": "ipython",
        "version": 3
      },
      "file_extension": ".py",
      "mimetype": "text/x-python",
      "name": "python",
      "nbconvert_exporter": "python",
      "pygments_lexer": "ipython3",
      "version": "3.11.7"
    }
  },
  "nbformat": 4,
  "nbformat_minor": 0
}
