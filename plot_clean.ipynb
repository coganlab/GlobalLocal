{
  "cells": [
    {
      "attachments": {},
      "cell_type": "markdown",
      "metadata": {},
      "source": [
        "\n",
        "# Example line noise filtering script\n",
        "\n",
        "Filters the 60Hz line noise from the data, as well as the harmonics. Includes\n",
        "environment checks for SLURM jobs for convenience\n"
      ]
    },
    {
      "cell_type": "code",
      "execution_count": 2,
      "metadata": {
        "collapsed": false
      },
      "outputs": [
        {
          "name": "stdout",
          "output_type": "stream",
          "text": [
            "['c:\\\\Users\\\\jz421\\\\Desktop\\\\GlobalLocal', 'C:\\\\Users\\\\jz421\\\\Desktop\\\\GlobalLocal\\\\IEEG_Pipelines', 'c:\\\\Users\\\\jz421\\\\AppData\\\\Local\\\\anaconda3\\\\envs\\\\ieeg\\\\python311.zip', 'c:\\\\Users\\\\jz421\\\\AppData\\\\Local\\\\anaconda3\\\\envs\\\\ieeg\\\\DLLs', 'c:\\\\Users\\\\jz421\\\\AppData\\\\Local\\\\anaconda3\\\\envs\\\\ieeg\\\\Lib', 'c:\\\\Users\\\\jz421\\\\AppData\\\\Local\\\\anaconda3\\\\envs\\\\ieeg', '', 'C:\\\\Users\\\\jz421\\\\AppData\\\\Roaming\\\\Python\\\\Python311\\\\site-packages', 'C:\\\\Users\\\\jz421\\\\AppData\\\\Roaming\\\\Python\\\\Python311\\\\site-packages\\\\win32', 'C:\\\\Users\\\\jz421\\\\AppData\\\\Roaming\\\\Python\\\\Python311\\\\site-packages\\\\win32\\\\lib', 'C:\\\\Users\\\\jz421\\\\AppData\\\\Roaming\\\\Python\\\\Python311\\\\site-packages\\\\Pythonwin', 'c:\\\\Users\\\\jz421\\\\AppData\\\\Local\\\\anaconda3\\\\envs\\\\ieeg\\\\Lib\\\\site-packages', 'c:\\\\Users\\\\jz421\\\\AppData\\\\Local\\\\anaconda3\\\\envs\\\\ieeg\\\\Lib\\\\site-packages\\\\win32', 'c:\\\\Users\\\\jz421\\\\AppData\\\\Local\\\\anaconda3\\\\envs\\\\ieeg\\\\Lib\\\\site-packages\\\\win32\\\\lib', 'c:\\\\Users\\\\jz421\\\\AppData\\\\Local\\\\anaconda3\\\\envs\\\\ieeg\\\\Lib\\\\site-packages\\\\Pythonwin']\n"
          ]
        }
      ],
      "source": [
        "import sys\n",
        "print(sys.path)\n",
        "sys.path.append(\"C:/Users/jz421/Desktop/GlobalLocal/IEEG_Pipelines/\") #need to do this cuz otherwise ieeg isn't added to path...\n",
        "\n",
        "import mne\n",
        "import os\n",
        "from ieeg.mt_filter import line_filter\n",
        "from ieeg.io import get_data, raw_from_layout, save_derivative, update\n",
        "from ieeg import viz\n",
        "from bids import BIDSLayout\n",
        "from ieeg.viz.utils import figure_compare\n",
        "from ieeg.navigate import trial_ieeg, channel_outlier_marker, crop_empty_data, outliers_to_nan\n",
        "import pandas as pd\n"
      ]
    },
    {
      "cell_type": "code",
      "execution_count": 3,
      "metadata": {
        "collapsed": false
      },
      "outputs": [],
      "source": [
        "HOME = os.path.expanduser(\"~\")\n",
        "if 'SLURM_ARRAY_TASK_ID' in os.environ.keys():\n",
        "    LAB_root = os.path.join(HOME, \"workspace\", \"CoganLab\")\n",
        "    subject = int(os.environ['SLURM_ARRAY_TASK_ID'])\n",
        "else:  # if not then set box directory\n",
        "    LAB_root = os.path.join(HOME, \"Box\", \"CoganLab\")\n",
        "    subject = 57"
      ]
    },
    {
      "cell_type": "markdown",
      "metadata": {},
      "source": [
        "### try new code from ieeg examples"
      ]
    },
    {
      "cell_type": "code",
      "execution_count": 4,
      "metadata": {},
      "outputs": [
        {
          "name": "stdout",
          "output_type": "stream",
          "text": [
            "['D0057', 'D0059', 'D0063', 'D0065', 'D0069', 'D0071', 'D0077', 'D0090', 'D0094', 'D0100', 'D0102', 'D0103']\n",
            "Extracting EDF parameters from C:\\Users\\jz421\\Box\\CoganLab\\BIDS-1.1_GlobalLocal\\BIDS\\sub-D0103\\ieeg\\sub-D0103_task-GlobalLocal_acq-01_run-01_ieeg.edf...\n",
            "EDF file detected\n",
            "Setting channel info structure...\n",
            "Creating raw.info structure...\n",
            "Reading events from C:\\Users\\jz421\\Box\\CoganLab\\BIDS-1.1_GlobalLocal\\BIDS\\sub-D0103\\ieeg\\sub-D0103_task-GlobalLocal_acq-01_run-01_events.tsv.\n",
            "Reading channel info from C:\\Users\\jz421\\Box\\CoganLab\\BIDS-1.1_GlobalLocal\\BIDS\\sub-D0103\\ieeg\\sub-D0103_task-GlobalLocal_channels.tsv.\n",
            "Reading electrode coords from C:\\Users\\jz421\\Box\\CoganLab\\BIDS-1.1_GlobalLocal\\BIDS\\sub-D0103\\ieeg\\sub-D0103_space-ACPC_electrodes.tsv.\n",
            "Extracting EDF parameters from C:\\Users\\jz421\\Box\\CoganLab\\BIDS-1.1_GlobalLocal\\BIDS\\sub-D0103\\ieeg\\sub-D0103_task-GlobalLocal_acq-01_run-02_ieeg.edf...\n",
            "EDF file detected\n",
            "Setting channel info structure...\n",
            "Creating raw.info structure...\n"
          ]
        },
        {
          "name": "stderr",
          "output_type": "stream",
          "text": [
            "C:\\Users\\jz421\\Desktop\\GlobalLocal\\IEEG_Pipelines\\ieeg\\io.py:113: RuntimeWarning: The number of channels in the channels.tsv sidecar file (230) does not match the number of channels in the raw data file (248). Will not try to set channel names.\n",
            "  new_raw = read_raw_bids(bids_path=BIDS_path, verbose=verbose)\n",
            "C:\\Users\\jz421\\Desktop\\GlobalLocal\\IEEG_Pipelines\\ieeg\\io.py:113: RuntimeWarning: Cannot set channel type for the following channels, as they are missing in the raw data: \n",
            "  new_raw = read_raw_bids(bids_path=BIDS_path, verbose=verbose)\n",
            "C:\\Users\\jz421\\Desktop\\GlobalLocal\\IEEG_Pipelines\\ieeg\\io.py:113: RuntimeWarning: DigMontage is only a subset of info. There are 23 channel positions not present in the DigMontage. The channels missing from the montage are:\n",
            "\n",
            "['FZ', 'CZ', 'PZ', 'F7', 'F8', 'LEMG', 'A1', 'A2', 'T5', 'T6', 'REMG', 'FP1', 'FP2', 'F3', 'F4', 'C3', 'C4', 'P3', 'P4', 'O1', 'O2', 'T3', 'T4'].\n",
            "\n",
            "Consider using inst.rename_channels to match the montage nomenclature, or inst.set_channel_types if these are not EEG channels, or use the on_missing parameter if the channel positions are allowed to be unknown in your analyses.\n",
            "  new_raw = read_raw_bids(bids_path=BIDS_path, verbose=verbose)\n",
            "C:\\Users\\jz421\\Desktop\\GlobalLocal\\IEEG_Pipelines\\ieeg\\io.py:113: RuntimeWarning: participants.tsv file not found for C:\\Users\\jz421\\Box\\CoganLab\\BIDS-1.1_GlobalLocal\\BIDS\\sub-D0103\\ieeg\\sub-D0103_task-GlobalLocal_acq-01_run-01_ieeg.edf\n",
            "  new_raw = read_raw_bids(bids_path=BIDS_path, verbose=verbose)\n"
          ]
        },
        {
          "name": "stdout",
          "output_type": "stream",
          "text": [
            "Reading events from C:\\Users\\jz421\\Box\\CoganLab\\BIDS-1.1_GlobalLocal\\BIDS\\sub-D0103\\ieeg\\sub-D0103_task-GlobalLocal_acq-01_run-02_events.tsv.\n",
            "Reading channel info from C:\\Users\\jz421\\Box\\CoganLab\\BIDS-1.1_GlobalLocal\\BIDS\\sub-D0103\\ieeg\\sub-D0103_task-GlobalLocal_channels.tsv.\n",
            "Reading electrode coords from C:\\Users\\jz421\\Box\\CoganLab\\BIDS-1.1_GlobalLocal\\BIDS\\sub-D0103\\ieeg\\sub-D0103_space-ACPC_electrodes.tsv.\n",
            "Extracting EDF parameters from C:\\Users\\jz421\\Box\\CoganLab\\BIDS-1.1_GlobalLocal\\BIDS\\sub-D0103\\ieeg\\sub-D0103_task-GlobalLocal_acq-01_run-03_ieeg.edf...\n",
            "EDF file detected\n",
            "Setting channel info structure...\n",
            "Creating raw.info structure...\n"
          ]
        },
        {
          "name": "stderr",
          "output_type": "stream",
          "text": [
            "C:\\Users\\jz421\\Desktop\\GlobalLocal\\IEEG_Pipelines\\ieeg\\io.py:113: RuntimeWarning: The number of channels in the channels.tsv sidecar file (230) does not match the number of channels in the raw data file (248). Will not try to set channel names.\n",
            "  new_raw = read_raw_bids(bids_path=BIDS_path, verbose=verbose)\n",
            "C:\\Users\\jz421\\Desktop\\GlobalLocal\\IEEG_Pipelines\\ieeg\\io.py:113: RuntimeWarning: Cannot set channel type for the following channels, as they are missing in the raw data: \n",
            "  new_raw = read_raw_bids(bids_path=BIDS_path, verbose=verbose)\n",
            "C:\\Users\\jz421\\Desktop\\GlobalLocal\\IEEG_Pipelines\\ieeg\\io.py:113: RuntimeWarning: DigMontage is only a subset of info. There are 23 channel positions not present in the DigMontage. The channels missing from the montage are:\n",
            "\n",
            "['FZ', 'CZ', 'PZ', 'F7', 'F8', 'LEMG', 'A1', 'A2', 'T5', 'T6', 'REMG', 'FP1', 'FP2', 'F3', 'F4', 'C3', 'C4', 'P3', 'P4', 'O1', 'O2', 'T3', 'T4'].\n",
            "\n",
            "Consider using inst.rename_channels to match the montage nomenclature, or inst.set_channel_types if these are not EEG channels, or use the on_missing parameter if the channel positions are allowed to be unknown in your analyses.\n",
            "  new_raw = read_raw_bids(bids_path=BIDS_path, verbose=verbose)\n",
            "C:\\Users\\jz421\\Desktop\\GlobalLocal\\IEEG_Pipelines\\ieeg\\io.py:113: RuntimeWarning: participants.tsv file not found for C:\\Users\\jz421\\Box\\CoganLab\\BIDS-1.1_GlobalLocal\\BIDS\\sub-D0103\\ieeg\\sub-D0103_task-GlobalLocal_acq-01_run-02_ieeg.edf\n",
            "  new_raw = read_raw_bids(bids_path=BIDS_path, verbose=verbose)\n"
          ]
        },
        {
          "name": "stdout",
          "output_type": "stream",
          "text": [
            "Reading events from C:\\Users\\jz421\\Box\\CoganLab\\BIDS-1.1_GlobalLocal\\BIDS\\sub-D0103\\ieeg\\sub-D0103_task-GlobalLocal_acq-01_run-03_events.tsv.\n",
            "Reading channel info from C:\\Users\\jz421\\Box\\CoganLab\\BIDS-1.1_GlobalLocal\\BIDS\\sub-D0103\\ieeg\\sub-D0103_task-GlobalLocal_channels.tsv.\n",
            "Reading electrode coords from C:\\Users\\jz421\\Box\\CoganLab\\BIDS-1.1_GlobalLocal\\BIDS\\sub-D0103\\ieeg\\sub-D0103_space-ACPC_electrodes.tsv.\n",
            "Extracting EDF parameters from C:\\Users\\jz421\\Box\\CoganLab\\BIDS-1.1_GlobalLocal\\BIDS\\sub-D0103\\ieeg\\sub-D0103_task-GlobalLocal_acq-01_run-04_ieeg.edf...\n",
            "EDF file detected\n",
            "Setting channel info structure...\n",
            "Creating raw.info structure...\n"
          ]
        },
        {
          "name": "stderr",
          "output_type": "stream",
          "text": [
            "C:\\Users\\jz421\\Desktop\\GlobalLocal\\IEEG_Pipelines\\ieeg\\io.py:113: RuntimeWarning: The number of channels in the channels.tsv sidecar file (230) does not match the number of channels in the raw data file (248). Will not try to set channel names.\n",
            "  new_raw = read_raw_bids(bids_path=BIDS_path, verbose=verbose)\n",
            "C:\\Users\\jz421\\Desktop\\GlobalLocal\\IEEG_Pipelines\\ieeg\\io.py:113: RuntimeWarning: Cannot set channel type for the following channels, as they are missing in the raw data: \n",
            "  new_raw = read_raw_bids(bids_path=BIDS_path, verbose=verbose)\n",
            "C:\\Users\\jz421\\Desktop\\GlobalLocal\\IEEG_Pipelines\\ieeg\\io.py:113: RuntimeWarning: DigMontage is only a subset of info. There are 23 channel positions not present in the DigMontage. The channels missing from the montage are:\n",
            "\n",
            "['FZ', 'CZ', 'PZ', 'F7', 'F8', 'LEMG', 'A1', 'A2', 'T5', 'T6', 'REMG', 'FP1', 'FP2', 'F3', 'F4', 'C3', 'C4', 'P3', 'P4', 'O1', 'O2', 'T3', 'T4'].\n",
            "\n",
            "Consider using inst.rename_channels to match the montage nomenclature, or inst.set_channel_types if these are not EEG channels, or use the on_missing parameter if the channel positions are allowed to be unknown in your analyses.\n",
            "  new_raw = read_raw_bids(bids_path=BIDS_path, verbose=verbose)\n",
            "C:\\Users\\jz421\\Desktop\\GlobalLocal\\IEEG_Pipelines\\ieeg\\io.py:113: RuntimeWarning: participants.tsv file not found for C:\\Users\\jz421\\Box\\CoganLab\\BIDS-1.1_GlobalLocal\\BIDS\\sub-D0103\\ieeg\\sub-D0103_task-GlobalLocal_acq-01_run-03_ieeg.edf\n",
            "  new_raw = read_raw_bids(bids_path=BIDS_path, verbose=verbose)\n"
          ]
        },
        {
          "name": "stdout",
          "output_type": "stream",
          "text": [
            "Reading events from C:\\Users\\jz421\\Box\\CoganLab\\BIDS-1.1_GlobalLocal\\BIDS\\sub-D0103\\ieeg\\sub-D0103_task-GlobalLocal_acq-01_run-04_events.tsv.\n",
            "Reading channel info from C:\\Users\\jz421\\Box\\CoganLab\\BIDS-1.1_GlobalLocal\\BIDS\\sub-D0103\\ieeg\\sub-D0103_task-GlobalLocal_channels.tsv.\n",
            "Reading electrode coords from C:\\Users\\jz421\\Box\\CoganLab\\BIDS-1.1_GlobalLocal\\BIDS\\sub-D0103\\ieeg\\sub-D0103_space-ACPC_electrodes.tsv.\n",
            "Reading 0 ... 7448575  =      0.000 ...  3637.000 secs...\n"
          ]
        },
        {
          "name": "stderr",
          "output_type": "stream",
          "text": [
            "C:\\Users\\jz421\\Desktop\\GlobalLocal\\IEEG_Pipelines\\ieeg\\io.py:113: RuntimeWarning: The number of channels in the channels.tsv sidecar file (230) does not match the number of channels in the raw data file (248). Will not try to set channel names.\n",
            "  new_raw = read_raw_bids(bids_path=BIDS_path, verbose=verbose)\n",
            "C:\\Users\\jz421\\Desktop\\GlobalLocal\\IEEG_Pipelines\\ieeg\\io.py:113: RuntimeWarning: Cannot set channel type for the following channels, as they are missing in the raw data: \n",
            "  new_raw = read_raw_bids(bids_path=BIDS_path, verbose=verbose)\n",
            "C:\\Users\\jz421\\Desktop\\GlobalLocal\\IEEG_Pipelines\\ieeg\\io.py:113: RuntimeWarning: DigMontage is only a subset of info. There are 23 channel positions not present in the DigMontage. The channels missing from the montage are:\n",
            "\n",
            "['FZ', 'CZ', 'PZ', 'F7', 'F8', 'LEMG', 'A1', 'A2', 'T5', 'T6', 'REMG', 'FP1', 'FP2', 'F3', 'F4', 'C3', 'C4', 'P3', 'P4', 'O1', 'O2', 'T3', 'T4'].\n",
            "\n",
            "Consider using inst.rename_channels to match the montage nomenclature, or inst.set_channel_types if these are not EEG channels, or use the on_missing parameter if the channel positions are allowed to be unknown in your analyses.\n",
            "  new_raw = read_raw_bids(bids_path=BIDS_path, verbose=verbose)\n",
            "C:\\Users\\jz421\\Desktop\\GlobalLocal\\IEEG_Pipelines\\ieeg\\io.py:113: RuntimeWarning: participants.tsv file not found for C:\\Users\\jz421\\Box\\CoganLab\\BIDS-1.1_GlobalLocal\\BIDS\\sub-D0103\\ieeg\\sub-D0103_task-GlobalLocal_acq-01_run-04_ieeg.edf\n",
            "  new_raw = read_raw_bids(bids_path=BIDS_path, verbose=verbose)\n"
          ]
        }
      ],
      "source": [
        "\"\"\"\n",
        "Line noise filtering script\n",
        "===================================\n",
        "\n",
        "Filters the 60Hz line noise from the data, as well as the harmonics. Includes\n",
        "environment checks for SLURM jobs for convenience\n",
        "\"\"\"\n",
        "\n",
        "import mne\n",
        "import os\n",
        "from ieeg.io import save_derivative, raw_from_layout\n",
        "from ieeg.mt_filter import line_filter\n",
        "from ieeg.viz.utils import figure_compare\n",
        "from bids import BIDSLayout\n",
        "\n",
        "# %%\n",
        "# Set up paths\n",
        "# ------------\n",
        "HOME = os.path.expanduser(\"~\")\n",
        "\n",
        "# get box directory depending on OS\n",
        "if os.name == 'nt': # windows\n",
        "    LAB_root = os.path.join(HOME, \"Box\", \"CoganLab\")\n",
        "else: # mac\n",
        "    LAB_root = os.path.join(HOME, \"Library\", \"CloudStorage\", \"Box-Box\", \"CoganLab\")\n",
        "\n",
        "\n",
        "## Load Data\n",
        "layout = get_data(\"GlobalLocal\", LAB_root)\n",
        "subjects = layout.get_subjects()\n",
        "subjects.sort()\n",
        "print(subjects)\n",
        "\n",
        "\n",
        "\n",
        "# for subj in subjects: \n",
        "subjects = ['D0103']\n",
        "for subj in subjects:\n",
        "    # Load the raw data without excluding any channels\n",
        "    raw = raw_from_layout(layout, subject=subj, extension=\".edf\", desc=None, preload=True)\n",
        "\n",
        "    # this is to exclude the eeg channels\n",
        "    # List of channels you want to exclude. Gonna have to run this once, then grab the channels from the error message.\n",
        "    channels_to_exclude = ['P4', 'FP1', 'F7', 'F3', 'C3', 'T5', 'P3', 'O1', 'T3', 'C4', 'T4', 'T6', 'O2']\n",
        "\n",
        "    # Drop the channels you want to exclude\n",
        "    raw.drop_channels(channels_to_exclude)\n",
        "\n",
        "    # %%\n",
        "    # Filter Data\n",
        "    # -----------\n",
        "    # A filter length of 700 ms does a good job of removing 60Hz line noise, while\n",
        "    # a Filter length of 20000 ms does a good job of removing the harmonics (120Hz,\n",
        "    # 180Hz, 240Hz)\n",
        "\n",
        "    # can delete picks parameter if not excluding the eeg channels\n",
        "    filt = line_filter(raw,\n",
        "                    mt_bandwidth=10.,\n",
        "                    n_jobs=6,\n",
        "                    filter_length='700ms',\n",
        "                    verbose=10,\n",
        "                    freqs=[60],\n",
        "                    notch_widths=20)\n",
        "\n",
        "    # %%\n",
        "    # plot the data before and after filtering\n",
        "    # figure_compare([raw, filt],\n",
        "    #             labels=[\"Un\", \"\"],\n",
        "    #             avg=True,\n",
        "    #             n_jobs=6,\n",
        "    #             verbose=10,\n",
        "    #             proj=True,\n",
        "    #             fmax=250)\n",
        "\n",
        "    # # filter again to get rid of harmonics\n",
        "    # filt = line_filter(filt,\n",
        "    #                    mt_bandwidth=10.,\n",
        "    #                    n_jobs=6,\n",
        "    #                    filter_length='20000ms',\n",
        "    #                    verbose=10,\n",
        "    #                    freqs=[60],\n",
        "    #                    notch_widths=20)\n",
        "\n",
        "    # # plot the data before and after filtering again\n",
        "    # figure_compare([raw, filt],\n",
        "    #                labels=[\"Un\", \"\"],\n",
        "    #                avg=True,\n",
        "    #                n_jobs=6,\n",
        "    #                verbose=10,\n",
        "    #                proj=True,\n",
        "    #                fmax=250)\n",
        "\n",
        "    # save the data\n",
        "    save_derivative(filt, layout, \"clean\", True)\n",
        "\n",
        "    channel_outlier_marker(filt, 3, 2, save=True) #uhh try this again\n",
        "\n",
        "    # filt.info['bads'] += channel_outlier_marker(filt, 3, 2, save=True)\n"
      ]
    },
    {
      "cell_type": "code",
      "execution_count": null,
      "metadata": {},
      "outputs": [],
      "source": [
        "filenames = layout.get(return_type='filename', suffix='channels', extension='tsv', subject=subj)"
      ]
    },
    {
      "cell_type": "code",
      "execution_count": 5,
      "metadata": {},
      "outputs": [
        {
          "ename": "ValueError",
          "evalue": "bad channel(s) ['AST2', 'RQ2', 'G32', 'AD3', 'PD4'] marked do not exist in info",
          "output_type": "error",
          "traceback": [
            "\u001b[1;31m---------------------------------------------------------------------------\u001b[0m",
            "\u001b[1;31mValueError\u001b[0m                                Traceback (most recent call last)",
            "Cell \u001b[1;32mIn[5], line 2\u001b[0m\n\u001b[0;32m      1\u001b[0m bads \u001b[38;5;241m=\u001b[39m [\u001b[38;5;124m'\u001b[39m\u001b[38;5;124mAST2\u001b[39m\u001b[38;5;124m'\u001b[39m, \u001b[38;5;124m'\u001b[39m\u001b[38;5;124mRQ2\u001b[39m\u001b[38;5;124m'\u001b[39m, \u001b[38;5;124m'\u001b[39m\u001b[38;5;124mG32\u001b[39m\u001b[38;5;124m'\u001b[39m, \u001b[38;5;124m'\u001b[39m\u001b[38;5;124mAD3\u001b[39m\u001b[38;5;124m'\u001b[39m, \u001b[38;5;124m'\u001b[39m\u001b[38;5;124mPD4\u001b[39m\u001b[38;5;124m'\u001b[39m]\n\u001b[1;32m----> 2\u001b[0m \u001b[43mfilt\u001b[49m\u001b[38;5;241;43m.\u001b[39;49m\u001b[43minfo\u001b[49m\u001b[43m[\u001b[49m\u001b[38;5;124;43m'\u001b[39;49m\u001b[38;5;124;43mbads\u001b[39;49m\u001b[38;5;124;43m'\u001b[39;49m\u001b[43m]\u001b[49m \u001b[38;5;241m=\u001b[39m bads\n\u001b[0;32m      3\u001b[0m file_paths \u001b[38;5;241m=\u001b[39m [\u001b[38;5;124mr\u001b[39m\u001b[38;5;124m'\u001b[39m\u001b[38;5;124mC:\u001b[39m\u001b[38;5;124m\\\u001b[39m\u001b[38;5;124mUsers\u001b[39m\u001b[38;5;124m\\\u001b[39m\u001b[38;5;124mjz421\u001b[39m\u001b[38;5;124m\\\u001b[39m\u001b[38;5;124mBox\u001b[39m\u001b[38;5;124m\\\u001b[39m\u001b[38;5;124mCoganLab\u001b[39m\u001b[38;5;124m\\\u001b[39m\u001b[38;5;124mBIDS-1.1_GlobalLocal\u001b[39m\u001b[38;5;124m\\\u001b[39m\u001b[38;5;124mBIDS\u001b[39m\u001b[38;5;124m\\\u001b[39m\u001b[38;5;124mderivatives\u001b[39m\u001b[38;5;124m\\\u001b[39m\u001b[38;5;124mclean\u001b[39m\u001b[38;5;124m\\\u001b[39m\u001b[38;5;124msub-D0102\u001b[39m\u001b[38;5;124m\\\u001b[39m\u001b[38;5;124mieeg\u001b[39m\u001b[38;5;124m\\\u001b[39m\u001b[38;5;124msub-D0102_task-GlobalLocal_acq-01_run-01_desc-clean_channels.tsv\u001b[39m\u001b[38;5;124m'\u001b[39m, \u001b[38;5;124mr\u001b[39m\u001b[38;5;124m'\u001b[39m\u001b[38;5;124mC:\u001b[39m\u001b[38;5;124m\\\u001b[39m\u001b[38;5;124mUsers\u001b[39m\u001b[38;5;124m\\\u001b[39m\u001b[38;5;124mjz421\u001b[39m\u001b[38;5;124m\\\u001b[39m\u001b[38;5;124mBox\u001b[39m\u001b[38;5;124m\\\u001b[39m\u001b[38;5;124mCoganLab\u001b[39m\u001b[38;5;124m\\\u001b[39m\u001b[38;5;124mBIDS-1.1_GlobalLocal\u001b[39m\u001b[38;5;124m\\\u001b[39m\u001b[38;5;124mBIDS\u001b[39m\u001b[38;5;124m\\\u001b[39m\u001b[38;5;124mderivatives\u001b[39m\u001b[38;5;124m\\\u001b[39m\u001b[38;5;124mclean\u001b[39m\u001b[38;5;124m\\\u001b[39m\u001b[38;5;124msub-D0102\u001b[39m\u001b[38;5;124m\\\u001b[39m\u001b[38;5;124mieeg\u001b[39m\u001b[38;5;124m\\\u001b[39m\u001b[38;5;124msub-D0102_task-GlobalLocal_acq-01_run-02_desc-clean_channels.tsv\u001b[39m\u001b[38;5;124m'\u001b[39m, \u001b[38;5;124mr\u001b[39m\u001b[38;5;124m'\u001b[39m\u001b[38;5;124mC:\u001b[39m\u001b[38;5;124m\\\u001b[39m\u001b[38;5;124mUsers\u001b[39m\u001b[38;5;124m\\\u001b[39m\u001b[38;5;124mjz421\u001b[39m\u001b[38;5;124m\\\u001b[39m\u001b[38;5;124mBox\u001b[39m\u001b[38;5;124m\\\u001b[39m\u001b[38;5;124mCoganLab\u001b[39m\u001b[38;5;124m\\\u001b[39m\u001b[38;5;124mBIDS-1.1_GlobalLocal\u001b[39m\u001b[38;5;124m\\\u001b[39m\u001b[38;5;124mBIDS\u001b[39m\u001b[38;5;124m\\\u001b[39m\u001b[38;5;124mderivatives\u001b[39m\u001b[38;5;124m\\\u001b[39m\u001b[38;5;124mclean\u001b[39m\u001b[38;5;124m\\\u001b[39m\u001b[38;5;124msub-D0102\u001b[39m\u001b[38;5;124m\\\u001b[39m\u001b[38;5;124mieeg\u001b[39m\u001b[38;5;124m\\\u001b[39m\u001b[38;5;124msub-D0102_task-GlobalLocal_acq-01_run-03_desc-clean_channels.tsv\u001b[39m\u001b[38;5;124m'\u001b[39m, \u001b[38;5;124mr\u001b[39m\u001b[38;5;124m'\u001b[39m\u001b[38;5;124mC:\u001b[39m\u001b[38;5;124m\\\u001b[39m\u001b[38;5;124mUsers\u001b[39m\u001b[38;5;124m\\\u001b[39m\u001b[38;5;124mjz421\u001b[39m\u001b[38;5;124m\\\u001b[39m\u001b[38;5;124mBox\u001b[39m\u001b[38;5;124m\\\u001b[39m\u001b[38;5;124mCoganLab\u001b[39m\u001b[38;5;124m\\\u001b[39m\u001b[38;5;124mBIDS-1.1_GlobalLocal\u001b[39m\u001b[38;5;124m\\\u001b[39m\u001b[38;5;124mBIDS\u001b[39m\u001b[38;5;124m\\\u001b[39m\u001b[38;5;124mderivatives\u001b[39m\u001b[38;5;124m\\\u001b[39m\u001b[38;5;124mclean\u001b[39m\u001b[38;5;124m\\\u001b[39m\u001b[38;5;124msub-D0102\u001b[39m\u001b[38;5;124m\\\u001b[39m\u001b[38;5;124mieeg\u001b[39m\u001b[38;5;124m\\\u001b[39m\u001b[38;5;124msub-D0102_task-GlobalLocal_acq-01_run-04_desc-clean_channels.tsv\u001b[39m\u001b[38;5;124m'\u001b[39m]\n\u001b[0;32m      5\u001b[0m \u001b[38;5;28;01mfor\u001b[39;00m file_path \u001b[38;5;129;01min\u001b[39;00m file_paths:\n",
            "File \u001b[1;32mc:\\Users\\jz421\\AppData\\Local\\anaconda3\\envs\\ieeg\\Lib\\site-packages\\mne\\_fiff\\meas_info.py:1579\u001b[0m, in \u001b[0;36mInfo.__setitem__\u001b[1;34m(self, key, val)\u001b[0m\n\u001b[0;32m   1577\u001b[0m             \u001b[38;5;28;01mraise\u001b[39;00m \u001b[38;5;167;01mRuntimeError\u001b[39;00m(\u001b[38;5;28mself\u001b[39m\u001b[38;5;241m.\u001b[39m_attributes[key])\n\u001b[0;32m   1578\u001b[0m     \u001b[38;5;28;01melse\u001b[39;00m:\n\u001b[1;32m-> 1579\u001b[0m         val \u001b[38;5;241m=\u001b[39m \u001b[38;5;28;43mself\u001b[39;49m\u001b[38;5;241;43m.\u001b[39;49m\u001b[43m_attributes\u001b[49m\u001b[43m[\u001b[49m\u001b[43mkey\u001b[49m\u001b[43m]\u001b[49m\u001b[43m(\u001b[49m\n\u001b[0;32m   1580\u001b[0m \u001b[43m            \u001b[49m\u001b[43mval\u001b[49m\u001b[43m,\u001b[49m\u001b[43m \u001b[49m\u001b[43minfo\u001b[49m\u001b[38;5;241;43m=\u001b[39;49m\u001b[38;5;28;43mself\u001b[39;49m\n\u001b[0;32m   1581\u001b[0m \u001b[43m        \u001b[49m\u001b[43m)\u001b[49m  \u001b[38;5;66;03m# attribute checker function\u001b[39;00m\n\u001b[0;32m   1582\u001b[0m \u001b[38;5;28;01melse\u001b[39;00m:\n\u001b[0;32m   1583\u001b[0m     \u001b[38;5;28;01mraise\u001b[39;00m \u001b[38;5;167;01mRuntimeError\u001b[39;00m(\n\u001b[0;32m   1584\u001b[0m         \u001b[38;5;124mf\u001b[39m\u001b[38;5;124m\"\u001b[39m\u001b[38;5;124mInfo does not support directly setting the key \u001b[39m\u001b[38;5;132;01m{\u001b[39;00m\u001b[38;5;28mrepr\u001b[39m(key)\u001b[38;5;132;01m}\u001b[39;00m\u001b[38;5;124m. \u001b[39m\u001b[38;5;124m\"\u001b[39m\n\u001b[0;32m   1585\u001b[0m         \u001b[38;5;124m\"\u001b[39m\u001b[38;5;124mYou can set info[\u001b[39m\u001b[38;5;124m'\u001b[39m\u001b[38;5;124mtemp\u001b[39m\u001b[38;5;124m'\u001b[39m\u001b[38;5;124m] to store temporary objects in an \u001b[39m\u001b[38;5;124m\"\u001b[39m\n\u001b[0;32m   1586\u001b[0m         \u001b[38;5;124m\"\u001b[39m\u001b[38;5;124mInfo instance, but these will not survive an I/O round-trip.\u001b[39m\u001b[38;5;124m\"\u001b[39m\n\u001b[0;32m   1587\u001b[0m     )\n",
            "File \u001b[1;32mc:\\Users\\jz421\\AppData\\Local\\anaconda3\\envs\\ieeg\\Lib\\site-packages\\mne\\_fiff\\meas_info.py:992\u001b[0m, in \u001b[0;36m_check_bads\u001b[1;34m(bads, info)\u001b[0m\n\u001b[0;32m    991\u001b[0m \u001b[38;5;28;01mdef\u001b[39;00m \u001b[38;5;21m_check_bads\u001b[39m(bads, \u001b[38;5;241m*\u001b[39m, info):\n\u001b[1;32m--> 992\u001b[0m     \u001b[38;5;28;01mreturn\u001b[39;00m \u001b[43mMNEBadsList\u001b[49m\u001b[43m(\u001b[49m\u001b[43mbads\u001b[49m\u001b[38;5;241;43m=\u001b[39;49m\u001b[43mbads\u001b[49m\u001b[43m,\u001b[49m\u001b[43m \u001b[49m\u001b[43minfo\u001b[49m\u001b[38;5;241;43m=\u001b[39;49m\u001b[43minfo\u001b[49m\u001b[43m)\u001b[49m\n",
            "File \u001b[1;32mc:\\Users\\jz421\\AppData\\Local\\anaconda3\\envs\\ieeg\\Lib\\site-packages\\mne\\_fiff\\meas_info.py:966\u001b[0m, in \u001b[0;36mMNEBadsList.__init__\u001b[1;34m(self, bads, info)\u001b[0m\n\u001b[0;32m    965\u001b[0m \u001b[38;5;28;01mdef\u001b[39;00m \u001b[38;5;21m__init__\u001b[39m(\u001b[38;5;28mself\u001b[39m, \u001b[38;5;241m*\u001b[39m, bads, info):\n\u001b[1;32m--> 966\u001b[0m     \u001b[43m_check_bads_info_compat\u001b[49m\u001b[43m(\u001b[49m\u001b[43mbads\u001b[49m\u001b[43m,\u001b[49m\u001b[43m \u001b[49m\u001b[43minfo\u001b[49m\u001b[43m)\u001b[49m\n\u001b[0;32m    967\u001b[0m     \u001b[38;5;28mself\u001b[39m\u001b[38;5;241m.\u001b[39m_mne_info \u001b[38;5;241m=\u001b[39m info\n\u001b[0;32m    968\u001b[0m     \u001b[38;5;28msuper\u001b[39m()\u001b[38;5;241m.\u001b[39m\u001b[38;5;21m__init__\u001b[39m(bads)\n",
            "File \u001b[1;32mc:\\Users\\jz421\\AppData\\Local\\anaconda3\\envs\\ieeg\\Lib\\site-packages\\mne\\_fiff\\meas_info.py:959\u001b[0m, in \u001b[0;36m_check_bads_info_compat\u001b[1;34m(bads, info)\u001b[0m\n\u001b[0;32m    957\u001b[0m missing \u001b[38;5;241m=\u001b[39m [bad \u001b[38;5;28;01mfor\u001b[39;00m bad \u001b[38;5;129;01min\u001b[39;00m bads \u001b[38;5;28;01mif\u001b[39;00m bad \u001b[38;5;129;01mnot\u001b[39;00m \u001b[38;5;129;01min\u001b[39;00m info[\u001b[38;5;124m\"\u001b[39m\u001b[38;5;124mch_names\u001b[39m\u001b[38;5;124m\"\u001b[39m]]\n\u001b[0;32m    958\u001b[0m \u001b[38;5;28;01mif\u001b[39;00m \u001b[38;5;28mlen\u001b[39m(missing) \u001b[38;5;241m>\u001b[39m \u001b[38;5;241m0\u001b[39m:\n\u001b[1;32m--> 959\u001b[0m     \u001b[38;5;28;01mraise\u001b[39;00m \u001b[38;5;167;01mValueError\u001b[39;00m(\u001b[38;5;124mf\u001b[39m\u001b[38;5;124m\"\u001b[39m\u001b[38;5;124mbad channel(s) \u001b[39m\u001b[38;5;132;01m{\u001b[39;00mmissing\u001b[38;5;132;01m}\u001b[39;00m\u001b[38;5;124m marked do not exist in info\u001b[39m\u001b[38;5;124m\"\u001b[39m)\n",
            "\u001b[1;31mValueError\u001b[0m: bad channel(s) ['AST2', 'RQ2', 'G32', 'AD3', 'PD4'] marked do not exist in info"
          ]
        }
      ],
      "source": [
        "bads = ['AST2', 'RQ2', 'G32', 'AD3', 'PD4']\n",
        "filt.info['bads'] = bads\n",
        "file_paths = [r'C:\\Users\\jz421\\Box\\CoganLab\\BIDS-1.1_GlobalLocal\\BIDS\\derivatives\\clean\\sub-D0102\\ieeg\\sub-D0102_task-GlobalLocal_acq-01_run-01_desc-clean_channels.tsv', r'C:\\Users\\jz421\\Box\\CoganLab\\BIDS-1.1_GlobalLocal\\BIDS\\derivatives\\clean\\sub-D0102\\ieeg\\sub-D0102_task-GlobalLocal_acq-01_run-02_desc-clean_channels.tsv', r'C:\\Users\\jz421\\Box\\CoganLab\\BIDS-1.1_GlobalLocal\\BIDS\\derivatives\\clean\\sub-D0102\\ieeg\\sub-D0102_task-GlobalLocal_acq-01_run-03_desc-clean_channels.tsv', r'C:\\Users\\jz421\\Box\\CoganLab\\BIDS-1.1_GlobalLocal\\BIDS\\derivatives\\clean\\sub-D0102\\ieeg\\sub-D0102_task-GlobalLocal_acq-01_run-04_desc-clean_channels.tsv']\n",
        "\n",
        "for file_path in file_paths:\n",
        "    update(file_path, bads, status='bad')"
      ]
    },
    {
      "cell_type": "markdown",
      "metadata": {},
      "source": [
        "### the code below is broken 1/25/24 cuz new ieeg updates i think"
      ]
    },
    {
      "cell_type": "code",
      "execution_count": null,
      "metadata": {
        "collapsed": false
      },
      "outputs": [],
      "source": [
        "HOME = os.path.expanduser(\"~\")\n",
        "\n",
        "# get box directory depending on OS\n",
        "if os.name == 'nt': # windows\n",
        "    LAB_root = os.path.join(HOME, \"Box\", \"CoganLab\")\n",
        "else: # mac\n",
        "    LAB_root = os.path.join(HOME, \"Library\", \"CloudStorage\", \"Box-Box\", \"CoganLab\")\n",
        "\n",
        "layout = get_data(\"GlobalLocal\", root=LAB_root)\n",
        "\n",
        "\n",
        "## Load Data\n",
        "layout = get_data(\"GlobalLocal\", LAB_root)\n",
        "subjects = layout.get_subjects()\n",
        "subjects.sort()\n",
        "print(subjects)\n",
        "\n",
        "for subj in subjects:\n",
        "    raw = raw_from_layout(layout, subject=subj, extension=\".edf\", desc=None,\n",
        "                      preload=True)\n",
        "\n",
        "    ## filter data\n",
        "    filt = line_filter(raw, mt_bandwidth=10., n_jobs=-1, copy=False, verbose=10,\n",
        "                filter_length='700ms', freqs=[60], notch_widths=20)\n",
        "    \n",
        "    filt.info['bads'] += channel_outlier_marker(filt, 3, 2, save=True)\n",
        "\n",
        "\n",
        "    # line_filter(raw, mt_bandwidth=10., n_jobs=-1, copy=False, verbose=10,\n",
        "    #             filter_length='20s', freqs=[60, 120, 180, 240],\n",
        "    #             notch_widths=20)\n",
        "\n",
        "    save_derivative(filt, layout, \"clean\", overwrite=True)\n",
        "\n",
        "    print(\"Data saved successfully.\")\n",
        "\n",
        "\n",
        "\n",
        "# # Save data to save_dir\n",
        "# file_names = [\"data_raw.fif\", \"data_filt.fif\"]  # Specify the desired file names\n",
        "# for d, file_name in zip(data, file_names):\n",
        "#     file_path = os.path.join(save_dir, file_name)\n",
        "#     d.save(file_path, overwrite=True)\n",
        "\n",
        "\n",
        "# for subj in subjects:\n",
        "#     # if subj != \"D0022\":\n",
        "#     #     continue\n",
        "#     # Load the data\n",
        "#     raw = raw_from_layout(layout, subject=subj,\n",
        "#                            extension='.edf', preload=True)\n",
        "#     filt = line_filter(raw, mt_bandwidth=10., n_jobs=6,\n",
        "#                    filter_length='700ms', verbose=10,\n",
        "#                    freqs=[60], notch_widths=20)\n",
        "\n",
        "\n",
        "#     data = [raw, filt]\n",
        "#     viz.utils.figure_compare(data, [\"Un\", \"\"], avg=True, n_jobs=6,\n",
        "#                    verbose=10, proj=True, fmax=250)"
      ]
    },
    {
      "cell_type": "code",
      "execution_count": null,
      "metadata": {},
      "outputs": [],
      "source": [
        "HOME = os.path.expanduser(\"~\")\n",
        "\n",
        "# get box directory depending on OS\n",
        "if os.name == 'nt': # windows\n",
        "    LAB_root = os.path.join(HOME, \"Box\", \"CoganLab\")\n",
        "else: # mac\n",
        "    LAB_root = os.path.join(HOME, \"Library\", \"CloudStorage\", \"Box-Box\", \"CoganLab\")\n",
        "\n",
        "layout = get_data(\"GlobalLocal\", root=LAB_root)\n",
        "\n",
        "\n",
        "## Load Data\n",
        "layout = get_data(\"GlobalLocal\", LAB_root)\n",
        "subjects = layout.get_subjects()\n",
        "subjects.sort()\n",
        "print(subjects)\n",
        "\n",
        "subj = 'D0102'\n",
        "raw = raw_from_layout(layout, subject=subj, extension=\".edf\", desc=None,\n",
        "                    preload=True)\n",
        "\n",
        "## filter data\n",
        "filt = line_filter(raw, mt_bandwidth=10., n_jobs=-1, copy=False, verbose=10,\n",
        "            filter_length='700ms', freqs=[60], notch_widths=20)\n",
        "\n",
        "filt.info['bads'] += channel_outlier_marker(filt, 3, 2, save=True)\n",
        "\n",
        "\n",
        "# line_filter(raw, mt_bandwidth=10., n_jobs=-1, copy=False, verbose=10,\n",
        "#             filter_length='20s', freqs=[60, 120, 180, 240],\n",
        "#             notch_widths=20)\n",
        "\n",
        "save_derivative(filt, layout, \"clean\", overwrite=True)\n",
        "\n",
        "print(\"Data saved successfully.\")"
      ]
    },
    {
      "attachments": {},
      "cell_type": "markdown",
      "metadata": {},
      "source": [
        "### just one subject for testing"
      ]
    },
    {
      "cell_type": "code",
      "execution_count": null,
      "metadata": {},
      "outputs": [],
      "source": [
        "# get box directory depending on OS\n",
        "if os.name == 'nt': # windows\n",
        "    LAB_root = os.path.join(HOME, \"Box\", \"CoganLab\")\n",
        "else: # mac\n",
        "    LAB_root = os.path.join(HOME, \"Library\", \"CloudStorage\", \"Box-Box\", \"CoganLab\")\n",
        "\n",
        "layout = get_data(\"GlobalLocal\", LAB_root)\n",
        "subj = \"D0057\"\n",
        "raw = raw_from_layout(layout, subject=subj, extension=\".edf\", desc=None,\n",
        "                    preload=True)\n",
        "\n",
        "## filter data\n",
        "filt = line_filter(raw, mt_bandwidth=10., n_jobs=-1, copy=False, verbose=10,\n",
        "            filter_length='700ms', freqs=[60], notch_widths=20)\n",
        "\n",
        "# line_filter(raw, mt_bandwidth=10., n_jobs=-1, copy=False, verbose=10,\n",
        "#             filter_length='20s', freqs=[60, 120, 180, 240],\n",
        "#             notch_widths=20)\n",
        "\n",
        "# do channel outlier marker with max_rounds of 2\n",
        "filt.info['bads'] += channel_outlier_marker(filt, 3, 2, save=True)\n",
        "\n",
        "# filt.drop_channels(filt.info['bads'])\n",
        "\n",
        "# update(filt, layout, \"bad\")\n",
        "\n",
        "\n",
        "# and then feed into preprocess.py and then feed into wavelet/HG/stats\n",
        "\n",
        "# update in check_chans saves the bad channels\n",
        "# save_derivative(filt, layout, \"clean\", overwrite=True)\n",
        "\n",
        "print(\"Data saved successfully.\")"
      ]
    },
    {
      "attachments": {},
      "cell_type": "markdown",
      "metadata": {},
      "source": [
        "save_derivative(filt, layout, \"clean\")\n",
        "\n"
      ]
    },
    {
      "cell_type": "markdown",
      "metadata": {},
      "source": [
        "# trying to make pre-experiment baseline"
      ]
    },
    {
      "cell_type": "code",
      "execution_count": null,
      "metadata": {},
      "outputs": [],
      "source": [
        "# add experiment start event to the events.tsv file\n",
        "\n",
        "HOME = os.path.expanduser(\"~\")\n",
        "\n",
        "# get box directory depending on OS\n",
        "if os.name == 'nt': # windows\n",
        "    LAB_root = os.path.join(HOME, \"Box\", \"CoganLab\")\n",
        "else: # mac\n",
        "    LAB_root = os.path.join(HOME, \"Library\", \"CloudStorage\", \"Box-Box\", \"CoganLab\")\n",
        "\n",
        "layout = get_data(\"GlobalLocal\", root=LAB_root)\n",
        "\n",
        "# Step 1: Read the existing file\n",
        "sub = 'D0071'  # Replace this with the actual subject ID\n",
        "\n",
        "events_path = os.path.join(layout.root, 'derivatives', 'clean', f'sub-{sub}', 'ieeg', \n",
        "                           f'sub-{sub}_task-GlobalLocal_acq-01_run-01_desc-clean_events.tsv')\n",
        "\n",
        "df = pd.read_csv(events_path, sep='\\t')\n",
        "\n",
        "# Step 2: Create a new DataFrame for the custom event\n",
        "new_row = pd.DataFrame({\n",
        "    'onset': [0],\n",
        "    'duration': [0],\n",
        "    'trial_type': ['experimentStart'],\n",
        "    'value': [None],\n",
        "    'sample': [None]\n",
        "})\n",
        "\n",
        "# Concatenate the new row with the existing DataFrame\n",
        "df = pd.concat([new_row, df]).reset_index(drop=True)\n",
        "\n",
        "# Step 3: Write the updated DataFrame back to the events.tsv file\n",
        "df.to_csv(events_path, sep='\\t', index=False)\n"
      ]
    },
    {
      "cell_type": "code",
      "execution_count": null,
      "metadata": {},
      "outputs": [],
      "source": [
        "print(filt.annotations[0])  # this will show you all annotations and their onset times"
      ]
    },
    {
      "cell_type": "code",
      "execution_count": null,
      "metadata": {},
      "outputs": [],
      "source": [
        "filt.plot()"
      ]
    },
    {
      "cell_type": "code",
      "execution_count": null,
      "metadata": {},
      "outputs": [],
      "source": [
        "raw_selection = raw.copy().crop(tmin=0, tmax=300) #grab the first x seconds of the dataset. Onset is like 1300 seconds for D0057's first Stimulus event so I think we're good even if we do like 500 for everyone.\n",
        "\n",
        "filt_selection = filt.copy().crop(tmin=0, tmax=300)"
      ]
    },
    {
      "cell_type": "code",
      "execution_count": null,
      "metadata": {},
      "outputs": [],
      "source": [
        "## Copy cropped data\n",
        "good = filt_selection.copy()\n",
        "\n",
        "# good.drop_channels(good.info['bads'])\n",
        "good.info['bads'] = channel_outlier_marker(good, 3, 2)\n",
        "good.drop_channels(good.info['bads'])\n",
        "good.load_data()\n",
        "\n",
        "ch_type = filt.get_channel_types(only_data_chs=True)[0]\n",
        "good.set_eeg_reference(ref_channels=\"average\", ch_type=ch_type)\n",
        "\n",
        "# Remove intermediates from mem\n",
        "good.plot()\n",
        "\n",
        " # make stimulus baseline EpochsTFR\n",
        "times=[-1,3] #this is for 0.5 sec of padding on each side\n",
        "trials = trial_ieeg(good, \"Stimulus\", times, preload=True)\n",
        "outliers_to_nan(trials, outliers=10)\n",
        "base = wavelet_scaleogram(trials, n_jobs=-2, decim=int(good.info['sfreq'] / 100))\n",
        "crop_pad(base, \"0.5s\")\n"
      ]
    },
    {
      "cell_type": "code",
      "execution_count": null,
      "metadata": {},
      "outputs": [],
      "source": []
    }
  ],
  "metadata": {
    "kernelspec": {
      "display_name": "Python 3",
      "language": "python",
      "name": "python3"
    },
    "language_info": {
      "codemirror_mode": {
        "name": "ipython",
        "version": 3
      },
      "file_extension": ".py",
      "mimetype": "text/x-python",
      "name": "python",
      "nbconvert_exporter": "python",
      "pygments_lexer": "ipython3",
      "version": "3.11.7"
    }
  },
  "nbformat": 4,
  "nbformat_minor": 0
}
