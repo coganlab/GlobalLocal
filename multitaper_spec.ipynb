{
 "cells": [
  {
   "cell_type": "markdown",
   "metadata": {},
   "source": [
    "my code to do multitaper spec for linear spectrogram scaling, above code is aaron's. Delete his later. 4/5."
   ]
  },
  {
   "cell_type": "code",
   "execution_count": 2,
   "metadata": {},
   "outputs": [
    {
     "name": "stdout",
     "output_type": "stream",
     "text": [
      "['D0057', 'D0059', 'D0063', 'D0065', 'D0069', 'D0071', 'D0077', 'D0090', 'D0094', 'D0100', 'D0102', 'D0103', 'D0107A', 'D0110', 'D0116', 'D0117']\n",
      "Extracting EDF parameters from C:\\Users\\jz421\\Box\\CoganLab\\BIDS-1.1_GlobalLocal\\BIDS\\derivatives\\clean\\sub-D0090\\ieeg\\sub-D0090_task-GlobalLocal_acq-01_run-01_desc-clean_ieeg.edf...\n",
      "EDF file detected\n",
      "Setting channel info structure...\n",
      "Creating raw.info structure...\n",
      "Reading events from C:\\Users\\jz421\\Box\\CoganLab\\BIDS-1.1_GlobalLocal\\BIDS\\derivatives\\clean\\sub-D0090\\ieeg\\sub-D0090_task-GlobalLocal_acq-01_run-01_desc-clean_events.tsv.\n",
      "Reading channel info from C:\\Users\\jz421\\Box\\CoganLab\\BIDS-1.1_GlobalLocal\\BIDS\\derivatives\\clean\\sub-D0090\\ieeg\\sub-D0090_task-GlobalLocal_acq-01_run-01_desc-clean_channels.tsv.\n",
      "Reading electrode coords from C:\\Users\\jz421\\Box\\CoganLab\\BIDS-1.1_GlobalLocal\\BIDS\\derivatives\\clean\\sub-D0090\\ieeg\\sub-D0090_acq-01_space-ACPC_electrodes.tsv.\n",
      "Not fully anonymizing info - keeping his_id, sex, and hand info\n",
      "Extracting EDF parameters from C:\\Users\\jz421\\Box\\CoganLab\\BIDS-1.1_GlobalLocal\\BIDS\\derivatives\\clean\\sub-D0090\\ieeg\\sub-D0090_task-GlobalLocal_acq-01_run-02_desc-clean_ieeg.edf...\n",
      "EDF file detected\n",
      "Setting channel info structure...\n",
      "Creating raw.info structure...\n"
     ]
    },
    {
     "name": "stderr",
     "output_type": "stream",
     "text": [
      "C:\\Users\\jz421\\Desktop\\GlobalLocal\\IEEG_Pipelines\\ieeg\\io.py:113: RuntimeWarning: The number of channels in the channels.tsv sidecar file (165) does not match the number of channels in the raw data file (164). Will not try to set channel names.\n",
      "  new_raw = read_raw_bids(bids_path=BIDS_path, verbose=verbose)\n",
      "C:\\Users\\jz421\\Desktop\\GlobalLocal\\IEEG_Pipelines\\ieeg\\io.py:113: RuntimeWarning: Cannot set channel type for the following channels, as they are missing in the raw data: Trigger\n",
      "  new_raw = read_raw_bids(bids_path=BIDS_path, verbose=verbose)\n"
     ]
    },
    {
     "name": "stdout",
     "output_type": "stream",
     "text": [
      "Reading events from C:\\Users\\jz421\\Box\\CoganLab\\BIDS-1.1_GlobalLocal\\BIDS\\derivatives\\clean\\sub-D0090\\ieeg\\sub-D0090_task-GlobalLocal_acq-01_run-02_desc-clean_events.tsv.\n",
      "Reading channel info from C:\\Users\\jz421\\Box\\CoganLab\\BIDS-1.1_GlobalLocal\\BIDS\\derivatives\\clean\\sub-D0090\\ieeg\\sub-D0090_task-GlobalLocal_acq-01_run-02_desc-clean_channels.tsv.\n",
      "Reading electrode coords from C:\\Users\\jz421\\Box\\CoganLab\\BIDS-1.1_GlobalLocal\\BIDS\\derivatives\\clean\\sub-D0090\\ieeg\\sub-D0090_acq-01_space-ACPC_electrodes.tsv.\n",
      "Not fully anonymizing info - keeping his_id, sex, and hand info\n",
      "Extracting EDF parameters from C:\\Users\\jz421\\Box\\CoganLab\\BIDS-1.1_GlobalLocal\\BIDS\\derivatives\\clean\\sub-D0090\\ieeg\\sub-D0090_task-GlobalLocal_acq-01_run-03_desc-clean_ieeg.edf...\n",
      "EDF file detected\n",
      "Setting channel info structure...\n"
     ]
    },
    {
     "name": "stderr",
     "output_type": "stream",
     "text": [
      "C:\\Users\\jz421\\Desktop\\GlobalLocal\\IEEG_Pipelines\\ieeg\\io.py:113: RuntimeWarning: Omitted 226 annotation(s) that were outside data range.\n",
      "  new_raw = read_raw_bids(bids_path=BIDS_path, verbose=verbose)\n",
      "C:\\Users\\jz421\\Desktop\\GlobalLocal\\IEEG_Pipelines\\ieeg\\io.py:113: RuntimeWarning: The number of channels in the channels.tsv sidecar file (165) does not match the number of channels in the raw data file (164). Will not try to set channel names.\n",
      "  new_raw = read_raw_bids(bids_path=BIDS_path, verbose=verbose)\n",
      "C:\\Users\\jz421\\Desktop\\GlobalLocal\\IEEG_Pipelines\\ieeg\\io.py:113: RuntimeWarning: Cannot set channel type for the following channels, as they are missing in the raw data: Trigger\n",
      "  new_raw = read_raw_bids(bids_path=BIDS_path, verbose=verbose)\n"
     ]
    },
    {
     "name": "stdout",
     "output_type": "stream",
     "text": [
      "Creating raw.info structure...\n",
      "Reading events from C:\\Users\\jz421\\Box\\CoganLab\\BIDS-1.1_GlobalLocal\\BIDS\\derivatives\\clean\\sub-D0090\\ieeg\\sub-D0090_task-GlobalLocal_acq-01_run-03_desc-clean_events.tsv.\n",
      "Reading channel info from C:\\Users\\jz421\\Box\\CoganLab\\BIDS-1.1_GlobalLocal\\BIDS\\derivatives\\clean\\sub-D0090\\ieeg\\sub-D0090_task-GlobalLocal_acq-01_run-03_desc-clean_channels.tsv.\n",
      "Reading electrode coords from C:\\Users\\jz421\\Box\\CoganLab\\BIDS-1.1_GlobalLocal\\BIDS\\derivatives\\clean\\sub-D0090\\ieeg\\sub-D0090_acq-01_space-ACPC_electrodes.tsv.\n",
      "Not fully anonymizing info - keeping his_id, sex, and hand info\n",
      "Extracting EDF parameters from C:\\Users\\jz421\\Box\\CoganLab\\BIDS-1.1_GlobalLocal\\BIDS\\derivatives\\clean\\sub-D0090\\ieeg\\sub-D0090_task-GlobalLocal_acq-01_run-04_desc-clean_ieeg.edf...\n",
      "EDF file detected\n"
     ]
    },
    {
     "name": "stderr",
     "output_type": "stream",
     "text": [
      "C:\\Users\\jz421\\Desktop\\GlobalLocal\\IEEG_Pipelines\\ieeg\\io.py:113: RuntimeWarning: Omitted 227 annotation(s) that were outside data range.\n",
      "  new_raw = read_raw_bids(bids_path=BIDS_path, verbose=verbose)\n",
      "C:\\Users\\jz421\\Desktop\\GlobalLocal\\IEEG_Pipelines\\ieeg\\io.py:113: RuntimeWarning: The number of channels in the channels.tsv sidecar file (165) does not match the number of channels in the raw data file (164). Will not try to set channel names.\n",
      "  new_raw = read_raw_bids(bids_path=BIDS_path, verbose=verbose)\n",
      "C:\\Users\\jz421\\Desktop\\GlobalLocal\\IEEG_Pipelines\\ieeg\\io.py:113: RuntimeWarning: Cannot set channel type for the following channels, as they are missing in the raw data: Trigger\n",
      "  new_raw = read_raw_bids(bids_path=BIDS_path, verbose=verbose)\n"
     ]
    },
    {
     "name": "stdout",
     "output_type": "stream",
     "text": [
      "Setting channel info structure...\n",
      "Creating raw.info structure...\n",
      "Reading events from C:\\Users\\jz421\\Box\\CoganLab\\BIDS-1.1_GlobalLocal\\BIDS\\derivatives\\clean\\sub-D0090\\ieeg\\sub-D0090_task-GlobalLocal_acq-01_run-04_desc-clean_events.tsv.\n",
      "Reading channel info from C:\\Users\\jz421\\Box\\CoganLab\\BIDS-1.1_GlobalLocal\\BIDS\\derivatives\\clean\\sub-D0090\\ieeg\\sub-D0090_task-GlobalLocal_acq-01_run-04_desc-clean_channels.tsv.\n",
      "Reading electrode coords from C:\\Users\\jz421\\Box\\CoganLab\\BIDS-1.1_GlobalLocal\\BIDS\\derivatives\\clean\\sub-D0090\\ieeg\\sub-D0090_acq-01_space-ACPC_electrodes.tsv.\n",
      "Not fully anonymizing info - keeping his_id, sex, and hand info\n"
     ]
    },
    {
     "name": "stderr",
     "output_type": "stream",
     "text": [
      "C:\\Users\\jz421\\Desktop\\GlobalLocal\\IEEG_Pipelines\\ieeg\\io.py:113: RuntimeWarning: Omitted 226 annotation(s) that were outside data range.\n",
      "  new_raw = read_raw_bids(bids_path=BIDS_path, verbose=verbose)\n",
      "C:\\Users\\jz421\\Desktop\\GlobalLocal\\IEEG_Pipelines\\ieeg\\io.py:113: RuntimeWarning: The number of channels in the channels.tsv sidecar file (165) does not match the number of channels in the raw data file (164). Will not try to set channel names.\n",
      "  new_raw = read_raw_bids(bids_path=BIDS_path, verbose=verbose)\n",
      "C:\\Users\\jz421\\Desktop\\GlobalLocal\\IEEG_Pipelines\\ieeg\\io.py:113: RuntimeWarning: Cannot set channel type for the following channels, as they are missing in the raw data: Trigger\n",
      "  new_raw = read_raw_bids(bids_path=BIDS_path, verbose=verbose)\n"
     ]
    },
    {
     "name": "stdout",
     "output_type": "stream",
     "text": [
      "<RawEDF | sub-D0090_task-GlobalLocal_acq-01_run-01_desc-clean_ieeg.edf, 164 x 6801408 (3321.0 s), ~186 kB, data not loaded>\n",
      "outlier round 1 channels: ['RFO16']\n",
      "outlier round 1 channels: ['RFO16', 'RTMM3']\n",
      "outlier round 1 channels: ['RFO16', 'RTMM3', 'RTMM4']\n",
      "outlier round 2 channels: ['RFO16', 'RTMM3', 'RTMM4', 'RIP13']\n",
      "outlier round 2 channels: ['RFO16', 'RTMM3', 'RTMM4', 'RIP13', 'RIP14']\n",
      "outlier round 2 channels: ['RFO16', 'RTMM3', 'RTMM4', 'RIP13', 'RIP14', 'RTMS6']\n",
      "outlier round 2 channels: ['RFO16', 'RTMM3', 'RTMM4', 'RIP13', 'RIP14', 'RTMS6', 'RTMM12']\n",
      "Reading 0 ... 3383065  =      0.000 ...  1651.887 secs...\n",
      "Applying average reference.\n",
      "Applying a custom ('sEEG',) reference.\n",
      "Using qt as 2D backend.\n",
      "times: [-0.7, 0.5]\n",
      "Used Annotations descriptions: ['1', '2', 'Response/c25.0/n25.0/BigLetterh/SmallLetterh/Taskg/TargetLetterh/Responded1.0/ParticipantResponse114.0/CorrectResponse114.0/TrialCount337.0/BlockTrialCount1.0/ReactionTime816.0/Accuracy1.0/D90', 'Response/c25.0/n75.0/BigLetterh/SmallLetterh/Taskl/TargetLetterh/Responded1.0/ParticipantResponse114.0/CorrectResponse114.0/TrialCount225.0/BlockTrialCount1.0/ReactionTime1266.0/Accuracy1.0/D90', 'Response/c25.0/r25.0/BigLetterh/SmallLetterh/Taskg/TargetLetterh/Responded1.0/ParticipantResponse114.0/CorrectResponse114.0/TrialCount340.0/BlockTrialCount4.0/ReactionTime616.0/Accuracy1.0/D90', 'Response/c25.0/r25.0/BigLetterh/SmallLetterh/Taskg/TargetLetterh/Responded1.0/ParticipantResponse114.0/CorrectResponse114.0/TrialCount341.0/BlockTrialCount5.0/ReactionTime599.0/Accuracy1.0/D90', 'Response/c25.0/r25.0/BigLetterh/SmallLetterh/Taskg/TargetLetterh/Responded1.0/ParticipantResponse114.0/CorrectResponse114.0/TrialCount342.0/BlockTrialCount6.0/ReactionTime600.0/Accuracy1.0/D90', 'Response/c25.0/r25.0/BigLetterh/SmallLetterh/Taskg/TargetLetterh/Responded1.0/ParticipantResponse114.0/CorrectResponse114.0/TrialCount344.0/BlockTrialCount8.0/ReactionTime666.0/Accuracy1.0/D90', 'Response/c25.0/r25.0/BigLetterh/SmallLetterh/Taskg/TargetLetterh/Responded1.0/ParticipantResponse114.0/CorrectResponse114.0/TrialCount364.0/BlockTrialCount28.0/ReactionTime1216.0/Accuracy1.0/D90', 'Response/c25.0/r25.0/BigLetterh/SmallLetterh/Taskg/TargetLetterh/Responded1.0/ParticipantResponse114.0/CorrectResponse114.0/TrialCount382.0/BlockTrialCount46.0/ReactionTime849.0/Accuracy1.0/D90', 'Response/c25.0/r25.0/BigLetterh/SmallLetterh/Taskg/TargetLetterh/Responded1.0/ParticipantResponse114.0/CorrectResponse114.0/TrialCount392.0/BlockTrialCount56.0/ReactionTime850.0/Accuracy1.0/D90', 'Response/c25.0/r25.0/BigLetterh/SmallLetterh/Taskg/TargetLetterh/Responded1.0/ParticipantResponse114.0/CorrectResponse114.0/TrialCount398.0/BlockTrialCount62.0/ReactionTime800.0/Accuracy1.0/D90', 'Response/c25.0/r25.0/BigLetterh/SmallLetterh/Taskg/TargetLetterh/Responded1.0/ParticipantResponse114.0/CorrectResponse114.0/TrialCount400.0/BlockTrialCount64.0/ReactionTime883.0/Accuracy1.0/D90', 'Response/c25.0/r25.0/BigLetterh/SmallLetterh/Taskg/TargetLetterh/Responded1.0/ParticipantResponse114.0/CorrectResponse114.0/TrialCount403.0/BlockTrialCount67.0/ReactionTime899.0/Accuracy1.0/D90', 'Response/c25.0/r25.0/BigLetterh/SmallLetterh/Taskg/TargetLetterh/Responded1.0/ParticipantResponse114.0/CorrectResponse114.0/TrialCount405.0/BlockTrialCount69.0/ReactionTime866.0/Accuracy1.0/D90', 'Response/c25.0/r25.0/BigLetterh/SmallLetterh/Taskg/TargetLetterh/Responded1.0/ParticipantResponse114.0/CorrectResponse114.0/TrialCount418.0/BlockTrialCount82.0/ReactionTime666.0/Accuracy1.0/D90', 'Response/c25.0/r25.0/BigLetterh/SmallLetterh/Taskg/TargetLetterh/Responded1.0/ParticipantResponse114.0/CorrectResponse114.0/TrialCount426.0/BlockTrialCount90.0/ReactionTime1033.0/Accuracy1.0/D90', 'Response/c25.0/r25.0/BigLetterh/SmallLetterh/Taskg/TargetLetterh/Responded1.0/ParticipantResponse114.0/CorrectResponse114.0/TrialCount429.0/BlockTrialCount93.0/ReactionTime666.0/Accuracy1.0/D90', 'Response/c25.0/r25.0/BigLetterh/SmallLetterh/Taskl/TargetLetterh/Responded1.0/ParticipantResponse114.0/CorrectResponse114.0/TrialCount353.0/BlockTrialCount17.0/ReactionTime1116.0/Accuracy1.0/D90', 'Response/c25.0/r25.0/BigLetterh/SmallLetterh/Taskl/TargetLetterh/Responded1.0/ParticipantResponse114.0/CorrectResponse114.0/TrialCount354.0/BlockTrialCount18.0/ReactionTime1583.0/Accuracy1.0/D90', 'Response/c25.0/r25.0/BigLetterh/SmallLetterh/Taskl/TargetLetterh/Responded1.0/ParticipantResponse114.0/CorrectResponse114.0/TrialCount357.0/BlockTrialCount21.0/ReactionTime1083.0/Accuracy1.0/D90', 'Response/c25.0/r25.0/BigLetterh/SmallLetterh/Taskl/TargetLetterh/Responded1.0/ParticipantResponse114.0/CorrectResponse114.0/TrialCount361.0/BlockTrialCount25.0/ReactionTime883.0/Accuracy1.0/D90', 'Response/c25.0/r25.0/BigLetterh/SmallLetterh/Taskl/TargetLetterh/Responded1.0/ParticipantResponse114.0/CorrectResponse114.0/TrialCount367.0/BlockTrialCount31.0/ReactionTime966.0/Accuracy1.0/D90', 'Response/c25.0/r25.0/BigLetterh/SmallLetterh/Taskl/TargetLetterh/Responded1.0/ParticipantResponse114.0/CorrectResponse114.0/TrialCount368.0/BlockTrialCount32.0/ReactionTime949.0/Accuracy1.0/D90', 'Response/c25.0/r25.0/BigLetterh/SmallLetterh/Taskl/TargetLetterh/Responded1.0/ParticipantResponse114.0/CorrectResponse114.0/TrialCount375.0/BlockTrialCount39.0/ReactionTime1000.0/Accuracy1.0/D90', 'Response/c25.0/r25.0/BigLetterh/SmallLetterh/Taskl/TargetLetterh/Responded1.0/ParticipantResponse114.0/CorrectResponse114.0/TrialCount377.0/BlockTrialCount41.0/ReactionTime833.0/Accuracy1.0/D90', 'Response/c25.0/r25.0/BigLetterh/SmallLetterh/Taskl/TargetLetterh/Responded1.0/ParticipantResponse114.0/CorrectResponse114.0/TrialCount378.0/BlockTrialCount42.0/ReactionTime1333.0/Accuracy1.0/D90', 'Response/c25.0/r25.0/BigLetterh/SmallLetterh/Taskl/TargetLetterh/Responded1.0/ParticipantResponse114.0/CorrectResponse114.0/TrialCount379.0/BlockTrialCount43.0/ReactionTime816.0/Accuracy1.0/D90', 'Response/c25.0/r25.0/BigLetterh/SmallLetterh/Taskl/TargetLetterh/Responded1.0/ParticipantResponse114.0/CorrectResponse114.0/TrialCount409.0/BlockTrialCount73.0/ReactionTime1799.0/Accuracy1.0/D90', 'Response/c25.0/r25.0/BigLetterh/SmallLetterh/Taskl/TargetLetterh/Responded1.0/ParticipantResponse114.0/CorrectResponse114.0/TrialCount410.0/BlockTrialCount74.0/ReactionTime733.0/Accuracy1.0/D90', 'Response/c25.0/r25.0/BigLetterh/SmallLetterh/Taskl/TargetLetterh/Responded1.0/ParticipantResponse114.0/CorrectResponse114.0/TrialCount435.0/BlockTrialCount99.0/ReactionTime1766.0/Accuracy1.0/D90', 'Response/c25.0/r25.0/BigLetterh/SmallLetterh/Taskl/TargetLetterh/Responded1.0/ParticipantResponse114.0/CorrectResponse114.0/TrialCount436.0/BlockTrialCount100.0/ReactionTime1566.0/Accuracy1.0/D90', 'Response/c25.0/r25.0/BigLetterh/SmallLetterh/Taskl/TargetLetterh/Responded1.0/ParticipantResponse114.0/CorrectResponse114.0/TrialCount438.0/BlockTrialCount102.0/ReactionTime1016.0/Accuracy1.0/D90', 'Response/c25.0/r25.0/BigLetterh/SmallLetterh/Taskl/TargetLetterh/Responded1.0/ParticipantResponse114.0/CorrectResponse114.0/TrialCount439.0/BlockTrialCount103.0/ReactionTime849.0/Accuracy1.0/D90', 'Response/c25.0/r25.0/BigLetterh/SmallLetterh/Taskl/TargetLetterh/Responded1.0/ParticipantResponse114.0/CorrectResponse114.0/TrialCount447.0/BlockTrialCount111.0/ReactionTime1649.0/Accuracy1.0/D90', 'Response/c25.0/r25.0/BigLetters/SmallLetters/Taskg/TargetLetters/Responded1.0/ParticipantResponse114.0/CorrectResponse115.0/TrialCount339.0/BlockTrialCount3.0/ReactionTime700.0/Accuracy0.0/D90', 'Response/c25.0/r25.0/BigLetters/SmallLetters/Taskg/TargetLetters/Responded1.0/ParticipantResponse115.0/CorrectResponse115.0/TrialCount343.0/BlockTrialCount7.0/ReactionTime649.0/Accuracy1.0/D90', 'Response/c25.0/r25.0/BigLetters/SmallLetters/Taskg/TargetLetters/Responded1.0/ParticipantResponse115.0/CorrectResponse115.0/TrialCount345.0/BlockTrialCount9.0/ReactionTime649.0/Accuracy1.0/D90', 'Response/c25.0/r25.0/BigLetters/SmallLetters/Taskg/TargetLetters/Responded1.0/ParticipantResponse115.0/CorrectResponse115.0/TrialCount363.0/BlockTrialCount27.0/ReactionTime1049.0/Accuracy1.0/D90', 'Response/c25.0/r25.0/BigLetters/SmallLetters/Taskg/TargetLetters/Responded1.0/ParticipantResponse115.0/CorrectResponse115.0/TrialCount365.0/BlockTrialCount29.0/ReactionTime1067.0/Accuracy1.0/D90', 'Response/c25.0/r25.0/BigLetters/SmallLetters/Taskg/TargetLetters/Responded1.0/ParticipantResponse115.0/CorrectResponse115.0/TrialCount381.0/BlockTrialCount45.0/ReactionTime716.0/Accuracy1.0/D90', 'Response/c25.0/r25.0/BigLetters/SmallLetters/Taskg/TargetLetters/Responded1.0/ParticipantResponse115.0/CorrectResponse115.0/TrialCount383.0/BlockTrialCount47.0/ReactionTime816.0/Accuracy1.0/D90', 'Response/c25.0/r25.0/BigLetters/SmallLetters/Taskg/TargetLetters/Responded1.0/ParticipantResponse115.0/CorrectResponse115.0/TrialCount399.0/BlockTrialCount63.0/ReactionTime899.0/Accuracy1.0/D90', 'Response/c25.0/r25.0/BigLetters/SmallLetters/Taskg/TargetLetters/Responded1.0/ParticipantResponse115.0/CorrectResponse115.0/TrialCount401.0/BlockTrialCount65.0/ReactionTime650.0/Accuracy1.0/D90', 'Response/c25.0/r25.0/BigLetters/SmallLetters/Taskg/TargetLetters/Responded1.0/ParticipantResponse115.0/CorrectResponse115.0/TrialCount404.0/BlockTrialCount68.0/ReactionTime1016.0/Accuracy1.0/D90', 'Response/c25.0/r25.0/BigLetters/SmallLetters/Taskg/TargetLetters/Responded1.0/ParticipantResponse115.0/CorrectResponse115.0/TrialCount406.0/BlockTrialCount70.0/ReactionTime666.0/Accuracy1.0/D90', 'Response/c25.0/r25.0/BigLetters/SmallLetters/Taskg/TargetLetters/Responded1.0/ParticipantResponse115.0/CorrectResponse115.0/TrialCount407.0/BlockTrialCount71.0/ReactionTime1399.0/Accuracy1.0/D90', 'Response/c25.0/r25.0/BigLetters/SmallLetters/Taskg/TargetLetters/Responded1.0/ParticipantResponse115.0/CorrectResponse115.0/TrialCount415.0/BlockTrialCount79.0/ReactionTime1100.0/Accuracy1.0/D90', 'Response/c25.0/r25.0/BigLetters/SmallLetters/Taskg/TargetLetters/Responded1.0/ParticipantResponse115.0/CorrectResponse115.0/TrialCount425.0/BlockTrialCount89.0/ReactionTime1499.0/Accuracy1.0/D90', 'Response/c25.0/r25.0/BigLetters/SmallLetters/Taskg/TargetLetters/Responded1.0/ParticipantResponse115.0/CorrectResponse115.0/TrialCount431.0/BlockTrialCount95.0/ReactionTime1066.0/Accuracy1.0/D90', 'Response/c25.0/r25.0/BigLetters/SmallLetters/Taskg/TargetLetters/Responded1.0/ParticipantResponse115.0/CorrectResponse115.0/TrialCount443.0/BlockTrialCount107.0/ReactionTime1183.0/Accuracy1.0/D90', 'Response/c25.0/r25.0/BigLetters/SmallLetters/Taskg/TargetLetters/Responded1.0/ParticipantResponse115.0/CorrectResponse115.0/TrialCount444.0/BlockTrialCount108.0/ReactionTime1349.0/Accuracy1.0/D90', 'Response/c25.0/r25.0/BigLetters/SmallLetters/Taskl/TargetLetters/Responded1.0/ParticipantResponse115.0/CorrectResponse115.0/TrialCount350.0/BlockTrialCount14.0/ReactionTime666.0/Accuracy1.0/D90', 'Response/c25.0/r25.0/BigLetters/SmallLetters/Taskl/TargetLetters/Responded1.0/ParticipantResponse115.0/CorrectResponse115.0/TrialCount352.0/BlockTrialCount16.0/ReactionTime916.0/Accuracy1.0/D90', 'Response/c25.0/r25.0/BigLetters/SmallLetters/Taskl/TargetLetters/Responded1.0/ParticipantResponse115.0/CorrectResponse115.0/TrialCount355.0/BlockTrialCount19.0/ReactionTime1000.0/Accuracy1.0/D90', 'Response/c25.0/r25.0/BigLetters/SmallLetters/Taskl/TargetLetters/Responded1.0/ParticipantResponse115.0/CorrectResponse115.0/TrialCount369.0/BlockTrialCount33.0/ReactionTime916.0/Accuracy1.0/D90', 'Response/c25.0/r25.0/BigLetters/SmallLetters/Taskl/TargetLetters/Responded1.0/ParticipantResponse115.0/CorrectResponse115.0/TrialCount370.0/BlockTrialCount34.0/ReactionTime1033.0/Accuracy1.0/D90', 'Response/c25.0/r25.0/BigLetters/SmallLetters/Taskl/TargetLetters/Responded1.0/ParticipantResponse115.0/CorrectResponse115.0/TrialCount374.0/BlockTrialCount38.0/ReactionTime933.0/Accuracy1.0/D90', 'Response/c25.0/r25.0/BigLetters/SmallLetters/Taskl/TargetLetters/Responded1.0/ParticipantResponse115.0/CorrectResponse115.0/TrialCount387.0/BlockTrialCount51.0/ReactionTime849.0/Accuracy1.0/D90', 'Response/c25.0/r25.0/BigLetters/SmallLetters/Taskl/TargetLetters/Responded1.0/ParticipantResponse115.0/CorrectResponse115.0/TrialCount390.0/BlockTrialCount54.0/ReactionTime916.0/Accuracy1.0/D90', 'Response/c25.0/r25.0/BigLetters/SmallLetters/Taskl/TargetLetters/Responded1.0/ParticipantResponse115.0/CorrectResponse115.0/TrialCount394.0/BlockTrialCount58.0/ReactionTime783.0/Accuracy1.0/D90', 'Response/c25.0/r25.0/BigLetters/SmallLetters/Taskl/TargetLetters/Responded1.0/ParticipantResponse115.0/CorrectResponse115.0/TrialCount422.0/BlockTrialCount86.0/ReactionTime1333.0/Accuracy1.0/D90', 'Response/c25.0/r25.0/BigLetters/SmallLetters/Taskl/TargetLetters/Responded1.0/ParticipantResponse115.0/CorrectResponse115.0/TrialCount423.0/BlockTrialCount87.0/ReactionTime666.0/Accuracy1.0/D90', 'Response/c25.0/r25.0/BigLetters/SmallLetters/Taskl/TargetLetters/Responded1.0/ParticipantResponse115.0/CorrectResponse115.0/TrialCount433.0/BlockTrialCount97.0/ReactionTime1749.0/Accuracy1.0/D90', 'Response/c25.0/r25.0/BigLetters/SmallLetters/Taskl/TargetLetters/Responded1.0/ParticipantResponse115.0/CorrectResponse115.0/TrialCount434.0/BlockTrialCount98.0/ReactionTime866.0/Accuracy1.0/D90', 'Response/c25.0/r25.0/BigLetters/SmallLetters/Taskl/TargetLetters/Responded1.0/ParticipantResponse115.0/CorrectResponse115.0/TrialCount448.0/BlockTrialCount112.0/ReactionTime950.0/Accuracy1.0/D90', 'Response/c25.0/r75.0/BigLetterh/SmallLetterh/Taskg/TargetLetterh/Responded1.0/ParticipantResponse114.0/CorrectResponse114.0/TrialCount257.0/BlockTrialCount33.0/ReactionTime1266.0/Accuracy1.0/D90', 'Response/c25.0/r75.0/BigLetterh/SmallLetterh/Taskg/TargetLetterh/Responded1.0/ParticipantResponse114.0/CorrectResponse114.0/TrialCount282.0/BlockTrialCount58.0/ReactionTime1049.0/Accuracy1.0/D90', 'Response/c25.0/r75.0/BigLetterh/SmallLetterh/Taskl/TargetLetterh/Responded1.0/ParticipantResponse114.0/CorrectResponse114.0/TrialCount237.0/BlockTrialCount13.0/ReactionTime1516.0/Accuracy1.0/D90', 'Response/c25.0/r75.0/BigLetterh/SmallLetterh/Taskl/TargetLetterh/Responded1.0/ParticipantResponse114.0/CorrectResponse114.0/TrialCount244.0/BlockTrialCount20.0/ReactionTime1249.0/Accuracy1.0/D90', 'Response/c25.0/r75.0/BigLetterh/SmallLetterh/Taskl/TargetLetterh/Responded1.0/ParticipantResponse114.0/CorrectResponse114.0/TrialCount286.0/BlockTrialCount62.0/ReactionTime933.0/Accuracy1.0/D90', 'Response/c25.0/r75.0/BigLetterh/SmallLetterh/Taskl/TargetLetterh/Responded1.0/ParticipantResponse114.0/CorrectResponse114.0/TrialCount317.0/BlockTrialCount93.0/ReactionTime1399.0/Accuracy1.0/D90', 'Response/c25.0/r75.0/BigLetterh/SmallLetterh/Taskl/TargetLetterh/Responded1.0/ParticipantResponse114.0/CorrectResponse114.0/TrialCount320.0/BlockTrialCount96.0/ReactionTime949.0/Accuracy1.0/D90', 'Response/c25.0/r75.0/BigLetters/SmallLetters/Taskg/TargetLetters/Responded1.0/ParticipantResponse115.0/CorrectResponse115.0/TrialCount227.0/BlockTrialCount3.0/ReactionTime983.0/Accuracy1.0/D90', 'Response/c25.0/r75.0/BigLetters/SmallLetters/Taskg/TargetLetters/Responded1.0/ParticipantResponse115.0/CorrectResponse115.0/TrialCount228.0/BlockTrialCount4.0/ReactionTime916.0/Accuracy1.0/D90', 'Response/c25.0/r75.0/BigLetters/SmallLetters/Taskg/TargetLetters/Responded1.0/ParticipantResponse115.0/CorrectResponse115.0/TrialCount241.0/BlockTrialCount17.0/ReactionTime1666.0/Accuracy1.0/D90', 'Response/c25.0/r75.0/BigLetters/SmallLetters/Taskg/TargetLetters/Responded1.0/ParticipantResponse115.0/CorrectResponse115.0/TrialCount272.0/BlockTrialCount48.0/ReactionTime1049.0/Accuracy1.0/D90', 'Response/c25.0/r75.0/BigLetters/SmallLetters/Taskg/TargetLetters/Responded1.0/ParticipantResponse115.0/CorrectResponse115.0/TrialCount281.0/BlockTrialCount57.0/ReactionTime1716.0/Accuracy1.0/D90', 'Response/c25.0/r75.0/BigLetters/SmallLetters/Taskg/TargetLetters/Responded1.0/ParticipantResponse115.0/CorrectResponse115.0/TrialCount296.0/BlockTrialCount72.0/ReactionTime1083.0/Accuracy1.0/D90', 'Response/c25.0/r75.0/BigLetters/SmallLetters/Taskg/TargetLetters/Responded1.0/ParticipantResponse115.0/CorrectResponse115.0/TrialCount305.0/BlockTrialCount81.0/ReactionTime1583.0/Accuracy1.0/D90', 'Response/c25.0/r75.0/BigLetters/SmallLetters/Taskg/TargetLetters/Responded1.0/ParticipantResponse115.0/CorrectResponse115.0/TrialCount308.0/BlockTrialCount84.0/ReactionTime1566.0/Accuracy1.0/D90', 'Response/c25.0/r75.0/BigLetters/SmallLetters/Taskg/TargetLetters/Responded1.0/ParticipantResponse115.0/CorrectResponse115.0/TrialCount325.0/BlockTrialCount101.0/ReactionTime1083.0/Accuracy1.0/D90', 'Response/c25.0/r75.0/BigLetters/SmallLetters/Taskl/TargetLetters/Responded1.0/ParticipantResponse115.0/CorrectResponse115.0/TrialCount230.0/BlockTrialCount6.0/ReactionTime633.0/Accuracy1.0/D90', 'Response/c25.0/r75.0/BigLetters/SmallLetters/Taskl/TargetLetters/Responded1.0/ParticipantResponse115.0/CorrectResponse115.0/TrialCount247.0/BlockTrialCount23.0/ReactionTime799.0/Accuracy1.0/D90', 'Response/c25.0/r75.0/BigLetters/SmallLetters/Taskl/TargetLetters/Responded1.0/ParticipantResponse115.0/CorrectResponse115.0/TrialCount267.0/BlockTrialCount43.0/ReactionTime1600.0/Accuracy1.0/D90', 'Response/c25.0/r75.0/BigLetters/SmallLetters/Taskl/TargetLetters/Responded1.0/ParticipantResponse115.0/CorrectResponse115.0/TrialCount323.0/BlockTrialCount99.0/ReactionTime1066.0/Accuracy1.0/D90', 'Response/c25.0/r75.0/BigLetters/SmallLetters/Taskl/TargetLetters/Responded1.0/ParticipantResponse115.0/CorrectResponse115.0/TrialCount329.0/BlockTrialCount105.0/ReactionTime883.0/Accuracy1.0/D90', 'Response/c25.0/s25.0/BigLetterh/SmallLetterh/Taskg/TargetLetterh/Responded1.0/ParticipantResponse114.0/CorrectResponse114.0/TrialCount380.0/BlockTrialCount44.0/ReactionTime1650.0/Accuracy1.0/D90', 'Response/c25.0/s25.0/BigLetterh/SmallLetterh/Taskg/TargetLetterh/Responded1.0/ParticipantResponse114.0/CorrectResponse114.0/TrialCount385.0/BlockTrialCount49.0/ReactionTime766.0/Accuracy1.0/D90', 'Response/c25.0/s25.0/BigLetterh/SmallLetterh/Taskg/TargetLetterh/Responded1.0/ParticipantResponse114.0/CorrectResponse114.0/TrialCount395.0/BlockTrialCount59.0/ReactionTime1283.0/Accuracy1.0/D90', 'Response/c25.0/s25.0/BigLetterh/SmallLetterh/Taskg/TargetLetterh/Responded1.0/ParticipantResponse114.0/CorrectResponse114.0/TrialCount414.0/BlockTrialCount78.0/ReactionTime833.0/Accuracy1.0/D90', 'Response/c25.0/s25.0/BigLetterh/SmallLetterh/Taskg/TargetLetterh/Responded1.0/ParticipantResponse114.0/CorrectResponse114.0/TrialCount420.0/BlockTrialCount84.0/ReactionTime733.0/Accuracy1.0/D90', 'Response/c25.0/s25.0/BigLetterh/SmallLetterh/Taskg/TargetLetterh/Responded1.0/ParticipantResponse114.0/CorrectResponse114.0/TrialCount428.0/BlockTrialCount92.0/ReactionTime916.0/Accuracy1.0/D90', 'Response/c25.0/s25.0/BigLetterh/SmallLetterh/Taskl/TargetLetterh/Responded1.0/ParticipantResponse114.0/CorrectResponse114.0/TrialCount347.0/BlockTrialCount11.0/ReactionTime2050.0/Accuracy1.0/D90', 'Response/c25.0/s25.0/BigLetterh/SmallLetterh/Taskl/TargetLetterh/Responded1.0/ParticipantResponse114.0/CorrectResponse114.0/TrialCount372.0/BlockTrialCount36.0/ReactionTime1683.0/Accuracy1.0/D90', 'Response/c25.0/s25.0/BigLetterh/SmallLetterh/Taskl/TargetLetterh/Responded1.0/ParticipantResponse114.0/CorrectResponse114.0/TrialCount386.0/BlockTrialCount50.0/ReactionTime1150.0/Accuracy1.0/D90', 'Response/c25.0/s25.0/BigLetterh/SmallLetterh/Taskl/TargetLetterh/Responded1.0/ParticipantResponse114.0/CorrectResponse114.0/TrialCount408.0/BlockTrialCount72.0/ReactionTime1266.0/Accuracy1.0/D90', 'Response/c25.0/s25.0/BigLetterh/SmallLetterh/Taskl/TargetLetterh/Responded1.0/ParticipantResponse114.0/CorrectResponse114.0/TrialCount419.0/BlockTrialCount83.0/ReactionTime1283.0/Accuracy1.0/D90', 'Response/c25.0/s25.0/BigLetterh/SmallLetterh/Taskl/TargetLetterh/Responded1.0/ParticipantResponse114.0/CorrectResponse114.0/TrialCount432.0/BlockTrialCount96.0/ReactionTime1549.0/Accuracy1.0/D90', 'Response/c25.0/s25.0/BigLetterh/SmallLetterh/Taskl/TargetLetterh/Responded1.0/ParticipantResponse115.0/CorrectResponse114.0/TrialCount393.0/BlockTrialCount57.0/ReactionTime1250.0/Accuracy0.0/D90', 'Response/c25.0/s25.0/BigLetterh/SmallLetterh/Taskl/TargetLetterh/Responded1.0/ParticipantResponse115.0/CorrectResponse114.0/TrialCount446.0/BlockTrialCount110.0/ReactionTime1816.0/Accuracy0.0/D90', 'Response/c25.0/s25.0/BigLetters/SmallLetters/Taskg/TargetLetters/Responded1.0/ParticipantResponse114.0/CorrectResponse115.0/TrialCount391.0/BlockTrialCount55.0/ReactionTime2333.0/Accuracy0.0/D90', 'Response/c25.0/s25.0/BigLetters/SmallLetters/Taskg/TargetLetters/Responded1.0/ParticipantResponse115.0/CorrectResponse115.0/TrialCount362.0/BlockTrialCount26.0/ReactionTime1733.0/Accuracy1.0/D90', 'Response/c25.0/s25.0/BigLetters/SmallLetters/Taskg/TargetLetters/Responded1.0/ParticipantResponse115.0/CorrectResponse115.0/TrialCount440.0/BlockTrialCount104.0/ReactionTime1366.0/Accuracy1.0/D90', 'Response/c25.0/s25.0/BigLetters/SmallLetters/Taskl/TargetLetters/Responded1.0/ParticipantResponse114.0/CorrectResponse115.0/TrialCount384.0/BlockTrialCount48.0/ReactionTime2216.0/Accuracy0.0/D90', 'Response/c25.0/s25.0/BigLetters/SmallLetters/Taskl/TargetLetters/Responded1.0/ParticipantResponse115.0/CorrectResponse115.0/TrialCount349.0/BlockTrialCount13.0/ReactionTime1816.0/Accuracy1.0/D90', 'Response/c25.0/s25.0/BigLetters/SmallLetters/Taskl/TargetLetters/Responded1.0/ParticipantResponse115.0/CorrectResponse115.0/TrialCount366.0/BlockTrialCount30.0/ReactionTime1266.0/Accuracy1.0/D90', 'Response/c25.0/s25.0/BigLetters/SmallLetters/Taskl/TargetLetters/Responded1.0/ParticipantResponse115.0/CorrectResponse115.0/TrialCount427.0/BlockTrialCount91.0/ReactionTime1000.0/Accuracy1.0/D90', 'Response/c25.0/s75.0/BigLetterh/SmallLetterh/Taskg/TargetLetterh/Responded1.0/ParticipantResponse114.0/CorrectResponse114.0/TrialCount226.0/BlockTrialCount2.0/ReactionTime1183.0/Accuracy1.0/D90', 'Response/c25.0/s75.0/BigLetterh/SmallLetterh/Taskg/TargetLetterh/Responded1.0/ParticipantResponse114.0/CorrectResponse114.0/TrialCount231.0/BlockTrialCount7.0/ReactionTime1116.0/Accuracy1.0/D90', 'Response/c25.0/s75.0/BigLetterh/SmallLetterh/Taskg/TargetLetterh/Responded1.0/ParticipantResponse114.0/CorrectResponse114.0/TrialCount233.0/BlockTrialCount9.0/ReactionTime983.0/Accuracy1.0/D90', 'Response/c25.0/s75.0/BigLetterh/SmallLetterh/Taskg/TargetLetterh/Responded1.0/ParticipantResponse114.0/CorrectResponse114.0/TrialCount235.0/BlockTrialCount11.0/ReactionTime1166.0/Accuracy1.0/D90', 'Response/c25.0/s75.0/BigLetterh/SmallLetterh/Taskg/TargetLetterh/Responded1.0/ParticipantResponse114.0/CorrectResponse114.0/TrialCount248.0/BlockTrialCount24.0/ReactionTime900.0/Accuracy1.0/D90', 'Response/c25.0/s75.0/BigLetterh/SmallLetterh/Taskg/TargetLetterh/Responded1.0/ParticipantResponse114.0/CorrectResponse114.0/TrialCount265.0/BlockTrialCount41.0/ReactionTime1116.0/Accuracy1.0/D90', 'Response/c25.0/s75.0/BigLetterh/SmallLetterh/Taskg/TargetLetterh/Responded1.0/ParticipantResponse114.0/CorrectResponse114.0/TrialCount269.0/BlockTrialCount45.0/ReactionTime1400.0/Accuracy1.0/D90', 'Response/c25.0/s75.0/BigLetterh/SmallLetterh/Taskg/TargetLetterh/Responded1.0/ParticipantResponse114.0/CorrectResponse114.0/TrialCount275.0/BlockTrialCount51.0/ReactionTime1084.0/Accuracy1.0/D90', 'Response/c25.0/s75.0/BigLetterh/SmallLetterh/Taskg/TargetLetterh/Responded1.0/ParticipantResponse114.0/CorrectResponse114.0/TrialCount284.0/BlockTrialCount60.0/ReactionTime799.0/Accuracy1.0/D90', 'Response/c25.0/s75.0/BigLetterh/SmallLetterh/Taskg/TargetLetterh/Responded1.0/ParticipantResponse114.0/CorrectResponse114.0/TrialCount291.0/BlockTrialCount67.0/ReactionTime1300.0/Accuracy1.0/D90', 'Response/c25.0/s75.0/BigLetterh/SmallLetterh/Taskg/TargetLetterh/Responded1.0/ParticipantResponse114.0/CorrectResponse114.0/TrialCount293.0/BlockTrialCount69.0/ReactionTime950.0/Accuracy1.0/D90', 'Response/c25.0/s75.0/BigLetterh/SmallLetterh/Taskg/TargetLetterh/Responded1.0/ParticipantResponse114.0/CorrectResponse114.0/TrialCount295.0/BlockTrialCount71.0/ReactionTime899.0/Accuracy1.0/D90', 'Response/c25.0/s75.0/BigLetterh/SmallLetterh/Taskg/TargetLetterh/Responded1.0/ParticipantResponse114.0/CorrectResponse114.0/TrialCount300.0/BlockTrialCount76.0/ReactionTime883.0/Accuracy1.0/D90', 'Response/c25.0/s75.0/BigLetterh/SmallLetterh/Taskg/TargetLetterh/Responded1.0/ParticipantResponse114.0/CorrectResponse114.0/TrialCount310.0/BlockTrialCount86.0/ReactionTime866.0/Accuracy1.0/D90', 'Response/c25.0/s75.0/BigLetterh/SmallLetterh/Taskg/TargetLetterh/Responded1.0/ParticipantResponse114.0/CorrectResponse114.0/TrialCount312.0/BlockTrialCount88.0/ReactionTime933.0/Accuracy1.0/D90', 'Response/c25.0/s75.0/BigLetterh/SmallLetterh/Taskg/TargetLetterh/Responded1.0/ParticipantResponse114.0/CorrectResponse114.0/TrialCount321.0/BlockTrialCount97.0/ReactionTime666.0/Accuracy1.0/D90', 'Response/c25.0/s75.0/BigLetterh/SmallLetterh/Taskg/TargetLetterh/Responded1.0/ParticipantResponse114.0/CorrectResponse114.0/TrialCount324.0/BlockTrialCount100.0/ReactionTime699.0/Accuracy1.0/D90', 'Response/c25.0/s75.0/BigLetterh/SmallLetterh/Taskg/TargetLetterh/Responded1.0/ParticipantResponse114.0/CorrectResponse114.0/TrialCount327.0/BlockTrialCount103.0/ReactionTime633.0/Accuracy1.0/D90', 'Response/c25.0/s75.0/BigLetterh/SmallLetterh/Taskg/TargetLetterh/Responded1.0/ParticipantResponse114.0/CorrectResponse114.0/TrialCount336.0/BlockTrialCount112.0/ReactionTime933.0/Accuracy1.0/D90', 'Response/c25.0/s75.0/BigLetterh/SmallLetterh/Taskl/TargetLetterh/Responded1.0/ParticipantResponse114.0/CorrectResponse114.0/TrialCount232.0/BlockTrialCount8.0/ReactionTime1483.0/Accuracy1.0/D90', 'Response/c25.0/s75.0/BigLetterh/SmallLetterh/Taskl/TargetLetterh/Responded1.0/ParticipantResponse114.0/CorrectResponse114.0/TrialCount251.0/BlockTrialCount27.0/ReactionTime1833.0/Accuracy1.0/D90', 'Response/c25.0/s75.0/BigLetterh/SmallLetterh/Taskl/TargetLetterh/Responded1.0/ParticipantResponse114.0/CorrectResponse114.0/TrialCount262.0/BlockTrialCount38.0/ReactionTime1716.0/Accuracy1.0/D90', 'Response/c25.0/s75.0/BigLetterh/SmallLetterh/Taskl/TargetLetterh/Responded1.0/ParticipantResponse114.0/CorrectResponse114.0/TrialCount266.0/BlockTrialCount42.0/ReactionTime1366.0/Accuracy1.0/D90', 'Response/c25.0/s75.0/BigLetterh/SmallLetterh/Taskl/TargetLetterh/Responded1.0/ParticipantResponse114.0/CorrectResponse114.0/TrialCount279.0/BlockTrialCount55.0/ReactionTime1616.0/Accuracy1.0/D90', 'Response/c25.0/s75.0/BigLetterh/SmallLetterh/Taskl/TargetLetterh/Responded1.0/ParticipantResponse114.0/CorrectResponse114.0/TrialCount285.0/BlockTrialCount61.0/ReactionTime1366.0/Accuracy1.0/D90', 'Response/c25.0/s75.0/BigLetterh/SmallLetterh/Taskl/TargetLetterh/Responded1.0/ParticipantResponse114.0/CorrectResponse114.0/TrialCount294.0/BlockTrialCount70.0/ReactionTime1516.0/Accuracy1.0/D90', 'Response/c25.0/s75.0/BigLetterh/SmallLetterh/Taskl/TargetLetterh/Responded1.0/ParticipantResponse114.0/CorrectResponse114.0/TrialCount303.0/BlockTrialCount79.0/ReactionTime1999.0/Accuracy1.0/D90', 'Response/c25.0/s75.0/BigLetterh/SmallLetterh/Taskl/TargetLetterh/Responded1.0/ParticipantResponse114.0/CorrectResponse114.0/TrialCount311.0/BlockTrialCount87.0/ReactionTime1716.0/Accuracy1.0/D90', 'Response/c25.0/s75.0/BigLetterh/SmallLetterh/Taskl/TargetLetterh/Responded1.0/ParticipantResponse114.0/CorrectResponse114.0/TrialCount313.0/BlockTrialCount89.0/ReactionTime1633.0/Accuracy1.0/D90', 'Response/c25.0/s75.0/BigLetterh/SmallLetterh/Taskl/TargetLetterh/Responded1.0/ParticipantResponse114.0/CorrectResponse114.0/TrialCount319.0/BlockTrialCount95.0/ReactionTime1166.0/Accuracy1.0/D90', 'Response/c25.0/s75.0/BigLetterh/SmallLetterh/Taskl/TargetLetterh/Responded1.0/ParticipantResponse114.0/CorrectResponse114.0/TrialCount328.0/BlockTrialCount104.0/ReactionTime666.0/Accuracy1.0/D90', 'Response/c25.0/s75.0/BigLetterh/SmallLetterh/Taskl/TargetLetterh/Responded1.0/ParticipantResponse114.0/CorrectResponse114.0/TrialCount335.0/BlockTrialCount111.0/ReactionTime1516.0/Accuracy1.0/D90', 'Response/c25.0/s75.0/BigLetterh/SmallLetterh/Taskl/TargetLetterh/Responded1.0/ParticipantResponse115.0/CorrectResponse114.0/TrialCount333.0/BlockTrialCount109.0/ReactionTime1383.0/Accuracy0.0/D90', 'Response/c25.0/s75.0/BigLetters/SmallLetters/Taskg/TargetLetters/Responded1.0/ParticipantResponse114.0/CorrectResponse115.0/TrialCount318.0/BlockTrialCount94.0/ReactionTime1483.0/Accuracy0.0/D90', 'Response/c25.0/s75.0/BigLetters/SmallLetters/Taskg/TargetLetters/Responded1.0/ParticipantResponse115.0/CorrectResponse115.0/TrialCount250.0/BlockTrialCount26.0/ReactionTime1966.0/Accuracy1.0/D90', 'Response/c25.0/s75.0/BigLetters/SmallLetters/Taskg/TargetLetters/Responded1.0/ParticipantResponse115.0/CorrectResponse115.0/TrialCount252.0/BlockTrialCount28.0/ReactionTime1666.0/Accuracy1.0/D90', 'Response/c25.0/s75.0/BigLetters/SmallLetters/Taskg/TargetLetters/Responded1.0/ParticipantResponse115.0/CorrectResponse115.0/TrialCount256.0/BlockTrialCount32.0/ReactionTime1683.0/Accuracy1.0/D90', 'Response/c25.0/s75.0/BigLetters/SmallLetters/Taskg/TargetLetters/Responded1.0/ParticipantResponse115.0/CorrectResponse115.0/TrialCount259.0/BlockTrialCount35.0/ReactionTime1733.0/Accuracy1.0/D90', 'Response/c25.0/s75.0/BigLetters/SmallLetters/Taskg/TargetLetters/Responded1.0/ParticipantResponse115.0/CorrectResponse115.0/TrialCount261.0/BlockTrialCount37.0/ReactionTime1516.0/Accuracy1.0/D90', 'Response/c25.0/s75.0/BigLetters/SmallLetters/Taskg/TargetLetters/Responded1.0/ParticipantResponse115.0/CorrectResponse115.0/TrialCount278.0/BlockTrialCount54.0/ReactionTime1116.0/Accuracy1.0/D90', 'Response/c25.0/s75.0/BigLetters/SmallLetters/Taskg/TargetLetters/Responded1.0/ParticipantResponse115.0/CorrectResponse115.0/TrialCount287.0/BlockTrialCount63.0/ReactionTime1566.0/Accuracy1.0/D90', 'Response/c25.0/s75.0/BigLetters/SmallLetters/Taskg/TargetLetters/Responded1.0/ParticipantResponse115.0/CorrectResponse115.0/TrialCount289.0/BlockTrialCount65.0/ReactionTime1133.0/Accuracy1.0/D90', 'Response/c25.0/s75.0/BigLetters/SmallLetters/Taskg/TargetLetters/Responded1.0/ParticipantResponse115.0/CorrectResponse115.0/TrialCount298.0/BlockTrialCount74.0/ReactionTime1416.0/Accuracy1.0/D90', 'Response/c25.0/s75.0/BigLetters/SmallLetters/Taskg/TargetLetters/Responded1.0/ParticipantResponse115.0/CorrectResponse115.0/TrialCount302.0/BlockTrialCount78.0/ReactionTime1299.0/Accuracy1.0/D90', 'Response/c25.0/s75.0/BigLetters/SmallLetters/Taskg/TargetLetters/Responded1.0/ParticipantResponse115.0/CorrectResponse115.0/TrialCount314.0/BlockTrialCount90.0/ReactionTime1433.0/Accuracy1.0/D90', 'Response/c25.0/s75.0/BigLetters/SmallLetters/Taskg/TargetLetters/Responded1.0/ParticipantResponse115.0/CorrectResponse115.0/TrialCount332.0/BlockTrialCount108.0/ReactionTime899.0/Accuracy1.0/D90', 'Response/c25.0/s75.0/BigLetters/SmallLetters/Taskg/TargetLetters/Responded1.0/ParticipantResponse115.0/CorrectResponse115.0/TrialCount334.0/BlockTrialCount110.0/ReactionTime1049.0/Accuracy1.0/D90', 'Response/c25.0/s75.0/BigLetters/SmallLetters/Taskl/TargetLetters/Responded1.0/ParticipantResponse115.0/CorrectResponse115.0/TrialCount229.0/BlockTrialCount5.0/ReactionTime1733.0/Accuracy1.0/D90', 'Response/c25.0/s75.0/BigLetters/SmallLetters/Taskl/TargetLetters/Responded1.0/ParticipantResponse115.0/CorrectResponse115.0/TrialCount236.0/BlockTrialCount12.0/ReactionTime1850.0/Accuracy1.0/D90', 'Response/c25.0/s75.0/BigLetters/SmallLetters/Taskl/TargetLetters/Responded1.0/ParticipantResponse115.0/CorrectResponse115.0/TrialCount239.0/BlockTrialCount15.0/ReactionTime1250.0/Accuracy1.0/D90', 'Response/c25.0/s75.0/BigLetters/SmallLetters/Taskl/TargetLetters/Responded1.0/ParticipantResponse115.0/CorrectResponse115.0/TrialCount246.0/BlockTrialCount22.0/ReactionTime1516.0/Accuracy1.0/D90', 'Response/c25.0/s75.0/BigLetters/SmallLetters/Taskl/TargetLetters/Responded1.0/ParticipantResponse115.0/CorrectResponse115.0/TrialCount249.0/BlockTrialCount25.0/ReactionTime1616.0/Accuracy1.0/D90', 'Response/c25.0/s75.0/BigLetters/SmallLetters/Taskl/TargetLetters/Responded1.0/ParticipantResponse115.0/CorrectResponse115.0/TrialCount258.0/BlockTrialCount34.0/ReactionTime1366.0/Accuracy1.0/D90', 'Response/c25.0/s75.0/BigLetters/SmallLetters/Taskl/TargetLetters/Responded1.0/ParticipantResponse115.0/CorrectResponse115.0/TrialCount260.0/BlockTrialCount36.0/ReactionTime1467.0/Accuracy1.0/D90', 'Response/c25.0/s75.0/BigLetters/SmallLetters/Taskl/TargetLetters/Responded1.0/ParticipantResponse115.0/CorrectResponse115.0/TrialCount270.0/BlockTrialCount46.0/ReactionTime1267.0/Accuracy1.0/D90', 'Response/c25.0/s75.0/BigLetters/SmallLetters/Taskl/TargetLetters/Responded1.0/ParticipantResponse115.0/CorrectResponse115.0/TrialCount276.0/BlockTrialCount52.0/ReactionTime817.0/Accuracy1.0/D90', 'Response/c25.0/s75.0/BigLetters/SmallLetters/Taskl/TargetLetters/Responded1.0/ParticipantResponse115.0/CorrectResponse115.0/TrialCount288.0/BlockTrialCount64.0/ReactionTime1499.0/Accuracy1.0/D90', 'Response/c25.0/s75.0/BigLetters/SmallLetters/Taskl/TargetLetters/Responded1.0/ParticipantResponse115.0/CorrectResponse115.0/TrialCount297.0/BlockTrialCount73.0/ReactionTime1416.0/Accuracy1.0/D90', 'Response/c25.0/s75.0/BigLetters/SmallLetters/Taskl/TargetLetters/Responded1.0/ParticipantResponse115.0/CorrectResponse115.0/TrialCount301.0/BlockTrialCount77.0/ReactionTime1183.0/Accuracy1.0/D90', 'Response/c25.0/s75.0/BigLetters/SmallLetters/Taskl/TargetLetters/Responded1.0/ParticipantResponse115.0/CorrectResponse115.0/TrialCount322.0/BlockTrialCount98.0/ReactionTime1266.0/Accuracy1.0/D90', 'Response/c25.0/s75.0/BigLetters/SmallLetters/Taskl/TargetLetters/Responded1.0/ParticipantResponse115.0/CorrectResponse115.0/TrialCount331.0/BlockTrialCount107.0/ReactionTime999.0/Accuracy1.0/D90', 'Response/c75.0/r25.0/BigLetterh/SmallLetterh/Taskg/TargetLetterh/Responded1.0/ParticipantResponse114.0/CorrectResponse114.0/TrialCount112.0/BlockTrialCount112.0/ReactionTime683.0/Accuracy1.0/D90', 'Response/c75.0/r25.0/BigLetterh/SmallLetterh/Taskg/TargetLetterh/Responded1.0/ParticipantResponse114.0/CorrectResponse114.0/TrialCount18.0/BlockTrialCount18.0/ReactionTime866.0/Accuracy1.0/D90', 'Response/c75.0/r25.0/BigLetterh/SmallLetterh/Taskg/TargetLetterh/Responded1.0/ParticipantResponse114.0/CorrectResponse114.0/TrialCount20.0/BlockTrialCount20.0/ReactionTime616.0/Accuracy1.0/D90', 'Response/c75.0/r25.0/BigLetterh/SmallLetterh/Taskg/TargetLetterh/Responded1.0/ParticipantResponse114.0/CorrectResponse114.0/TrialCount36.0/BlockTrialCount36.0/ReactionTime950.0/Accuracy1.0/D90', 'Response/c75.0/r25.0/BigLetterh/SmallLetterh/Taskg/TargetLetterh/Responded1.0/ParticipantResponse114.0/CorrectResponse114.0/TrialCount52.0/BlockTrialCount52.0/ReactionTime616.0/Accuracy1.0/D90', 'Response/c75.0/r25.0/BigLetterh/SmallLetterh/Taskg/TargetLetterh/Responded1.0/ParticipantResponse114.0/CorrectResponse114.0/TrialCount87.0/BlockTrialCount87.0/ReactionTime849.0/Accuracy1.0/D90', 'Response/c75.0/r25.0/BigLetterh/SmallLetterh/Taskl/TargetLetterh/Responded1.0/ParticipantResponse114.0/CorrectResponse114.0/TrialCount103.0/BlockTrialCount103.0/ReactionTime766.0/Accuracy1.0/D90', 'Response/c75.0/r25.0/BigLetterh/SmallLetterh/Taskl/TargetLetterh/Responded1.0/ParticipantResponse114.0/CorrectResponse114.0/TrialCount110.0/BlockTrialCount110.0/ReactionTime1133.0/Accuracy1.0/D90', 'Response/c75.0/r25.0/BigLetterh/SmallLetterh/Taskl/TargetLetterh/Responded1.0/ParticipantResponse114.0/CorrectResponse114.0/TrialCount24.0/BlockTrialCount24.0/ReactionTime1016.0/Accuracy1.0/D90', 'Response/c75.0/r25.0/BigLetterh/SmallLetterh/Taskl/TargetLetterh/Responded1.0/ParticipantResponse114.0/CorrectResponse114.0/TrialCount29.0/BlockTrialCount29.0/ReactionTime966.0/Accuracy1.0/D90', 'Response/c75.0/r25.0/BigLetterh/SmallLetterh/Taskl/TargetLetterh/Responded1.0/ParticipantResponse114.0/CorrectResponse114.0/TrialCount57.0/BlockTrialCount57.0/ReactionTime2399.0/Accuracy1.0/D90', 'Response/c75.0/r25.0/BigLetterh/SmallLetterh/Taskl/TargetLetterh/Responded1.0/ParticipantResponse114.0/CorrectResponse114.0/TrialCount98.0/BlockTrialCount98.0/ReactionTime650.0/Accuracy1.0/D90', 'Response/c75.0/r25.0/BigLetterh/SmallLetterh/Taskl/TargetLetterh/Responded1.0/ParticipantResponse114.0/CorrectResponse114.0/TrialCount99.0/BlockTrialCount99.0/ReactionTime599.0/Accuracy1.0/D90', 'Response/c75.0/r25.0/BigLetters/SmallLetters/Taskg/TargetLetters/Responded1.0/ParticipantResponse115.0/CorrectResponse115.0/TrialCount16.0/BlockTrialCount16.0/ReactionTime1266.0/Accuracy1.0/D90', 'Response/c75.0/r25.0/BigLetters/SmallLetters/Taskg/TargetLetters/Responded1.0/ParticipantResponse115.0/CorrectResponse115.0/TrialCount21.0/BlockTrialCount21.0/ReactionTime899.0/Accuracy1.0/D90', 'Response/c75.0/r25.0/BigLetters/SmallLetters/Taskg/TargetLetters/Responded1.0/ParticipantResponse115.0/CorrectResponse115.0/TrialCount40.0/BlockTrialCount40.0/ReactionTime783.0/Accuracy1.0/D90', 'Response/c75.0/r25.0/BigLetters/SmallLetters/Taskg/TargetLetters/Responded1.0/ParticipantResponse115.0/CorrectResponse115.0/TrialCount41.0/BlockTrialCount41.0/ReactionTime916.0/Accuracy1.0/D90', 'Response/c75.0/r25.0/BigLetters/SmallLetters/Taskg/TargetLetters/Responded1.0/ParticipantResponse115.0/CorrectResponse115.0/TrialCount67.0/BlockTrialCount67.0/ReactionTime883.0/Accuracy1.0/D90', 'Response/c75.0/r25.0/BigLetters/SmallLetters/Taskg/TargetLetters/Responded1.0/ParticipantResponse115.0/CorrectResponse115.0/TrialCount93.0/BlockTrialCount93.0/ReactionTime649.0/Accuracy1.0/D90', 'Response/c75.0/r25.0/BigLetters/SmallLetters/Taskl/TargetLetters/Responded1.0/ParticipantResponse115.0/CorrectResponse115.0/TrialCount61.0/BlockTrialCount61.0/ReactionTime800.0/Accuracy1.0/D90', 'Response/c75.0/r25.0/BigLetters/SmallLetters/Taskl/TargetLetters/Responded1.0/ParticipantResponse115.0/CorrectResponse115.0/TrialCount83.0/BlockTrialCount83.0/ReactionTime949.0/Accuracy1.0/D90', 'Response/c75.0/r25.0/BigLetters/SmallLetters/Taskl/TargetLetters/Responded1.0/ParticipantResponse115.0/CorrectResponse115.0/TrialCount96.0/BlockTrialCount96.0/ReactionTime633.0/Accuracy1.0/D90', 'Response/c75.0/r75.0/BigLetterh/SmallLetterh/Taskg/TargetLetterh/Responded1.0/ParticipantResponse114.0/CorrectResponse114.0/TrialCount141.0/BlockTrialCount29.0/ReactionTime1200.0/Accuracy1.0/D90', 'Response/c75.0/r75.0/BigLetterh/SmallLetterh/Taskg/TargetLetterh/Responded1.0/ParticipantResponse114.0/CorrectResponse114.0/TrialCount199.0/BlockTrialCount87.0/ReactionTime1399.0/Accuracy1.0/D90', 'Response/c75.0/r75.0/BigLetterh/SmallLetterh/Taskl/TargetLetterh/Responded1.0/ParticipantResponse114.0/CorrectResponse114.0/TrialCount122.0/BlockTrialCount10.0/ReactionTime1233.0/Accuracy1.0/D90', 'Response/c75.0/r75.0/BigLetterh/SmallLetterh/Taskl/TargetLetterh/Responded1.0/ParticipantResponse114.0/CorrectResponse114.0/TrialCount133.0/BlockTrialCount21.0/ReactionTime1550.0/Accuracy1.0/D90', 'Response/c75.0/r75.0/BigLetters/SmallLetters/Taskg/TargetLetters/Responded1.0/ParticipantResponse115.0/CorrectResponse115.0/TrialCount114.0/BlockTrialCount2.0/ReactionTime1299.0/Accuracy1.0/D90', 'Response/c75.0/r75.0/BigLetters/SmallLetters/Taskg/TargetLetters/Responded1.0/ParticipantResponse115.0/CorrectResponse115.0/TrialCount219.0/BlockTrialCount107.0/ReactionTime933.0/Accuracy1.0/D90', 'Response/c75.0/s25.0/BigLetterh/SmallLetterh/Taskg/TargetLetterh/Responded1.0/ParticipantResponse114.0/CorrectResponse114.0/TrialCount86.0/BlockTrialCount86.0/ReactionTime1116.0/Accuracy1.0/D90', 'Response/c75.0/s25.0/BigLetterh/SmallLetterh/Taskl/TargetLetterh/Responded1.0/ParticipantResponse114.0/CorrectResponse114.0/TrialCount4.0/BlockTrialCount4.0/ReactionTime1366.0/Accuracy1.0/D90', 'Response/c75.0/s25.0/BigLetterh/SmallLetterh/Taskl/TargetLetterh/Responded1.0/ParticipantResponse115.0/CorrectResponse114.0/TrialCount49.0/BlockTrialCount49.0/ReactionTime1949.0/Accuracy0.0/D90', 'Response/c75.0/s25.0/BigLetters/SmallLetters/Taskg/TargetLetters/Responded1.0/ParticipantResponse115.0/CorrectResponse115.0/TrialCount30.0/BlockTrialCount30.0/ReactionTime1933.0/Accuracy1.0/D90', 'Response/c75.0/s25.0/BigLetters/SmallLetters/Taskg/TargetLetters/Responded1.0/ParticipantResponse115.0/CorrectResponse115.0/TrialCount78.0/BlockTrialCount78.0/ReactionTime1083.0/Accuracy1.0/D90', 'Response/c75.0/s25.0/BigLetters/SmallLetters/Taskl/TargetLetters/Responded1.0/ParticipantResponse114.0/CorrectResponse115.0/TrialCount108.0/BlockTrialCount108.0/ReactionTime2316.0/Accuracy0.0/D90', 'Response/c75.0/s75.0/BigLetterh/SmallLetterh/Taskg/TargetLetterh/Responded1.0/ParticipantResponse114.0/CorrectResponse114.0/TrialCount118.0/BlockTrialCount6.0/ReactionTime1650.0/Accuracy1.0/D90', 'Response/c75.0/s75.0/BigLetterh/SmallLetterh/Taskg/TargetLetterh/Responded1.0/ParticipantResponse114.0/CorrectResponse114.0/TrialCount134.0/BlockTrialCount22.0/ReactionTime1400.0/Accuracy1.0/D90', 'Response/c75.0/s75.0/BigLetterh/SmallLetterh/Taskg/TargetLetterh/Responded1.0/ParticipantResponse114.0/CorrectResponse114.0/TrialCount136.0/BlockTrialCount24.0/ReactionTime1283.0/Accuracy1.0/D90', 'Response/c75.0/s75.0/BigLetterh/SmallLetterh/Taskg/TargetLetterh/Responded1.0/ParticipantResponse114.0/CorrectResponse114.0/TrialCount155.0/BlockTrialCount43.0/ReactionTime1716.0/Accuracy1.0/D90', 'Response/c75.0/s75.0/BigLetterh/SmallLetterh/Taskg/TargetLetterh/Responded1.0/ParticipantResponse114.0/CorrectResponse114.0/TrialCount160.0/BlockTrialCount48.0/ReactionTime1183.0/Accuracy1.0/D90', 'Response/c75.0/s75.0/BigLetterh/SmallLetterh/Taskg/TargetLetterh/Responded1.0/ParticipantResponse114.0/CorrectResponse114.0/TrialCount174.0/BlockTrialCount62.0/ReactionTime1533.0/Accuracy1.0/D90', 'Response/c75.0/s75.0/BigLetterh/SmallLetterh/Taskg/TargetLetterh/Responded1.0/ParticipantResponse114.0/CorrectResponse114.0/TrialCount189.0/BlockTrialCount77.0/ReactionTime1299.0/Accuracy1.0/D90', 'Response/c75.0/s75.0/BigLetterh/SmallLetterh/Taskg/TargetLetterh/Responded1.0/ParticipantResponse114.0/CorrectResponse114.0/TrialCount194.0/BlockTrialCount82.0/ReactionTime1000.0/Accuracy1.0/D90', 'Response/c75.0/s75.0/BigLetterh/SmallLetterh/Taskg/TargetLetterh/Responded1.0/ParticipantResponse114.0/CorrectResponse114.0/TrialCount207.0/BlockTrialCount95.0/ReactionTime1366.0/Accuracy1.0/D90', 'Response/c75.0/s75.0/BigLetterh/SmallLetterh/Taskl/TargetLetterh/Responded1.0/ParticipantResponse114.0/CorrectResponse114.0/TrialCount151.0/BlockTrialCount39.0/ReactionTime1716.0/Accuracy1.0/D90', 'Response/c75.0/s75.0/BigLetterh/SmallLetterh/Taskl/TargetLetterh/Responded1.0/ParticipantResponse114.0/CorrectResponse114.0/TrialCount156.0/BlockTrialCount44.0/ReactionTime1533.0/Accuracy1.0/D90', 'Response/c75.0/s75.0/BigLetterh/SmallLetterh/Taskl/TargetLetterh/Responded1.0/ParticipantResponse114.0/CorrectResponse114.0/TrialCount184.0/BlockTrialCount72.0/ReactionTime1499.0/Accuracy1.0/D90', 'Response/c75.0/s75.0/BigLetterh/SmallLetterh/Taskl/TargetLetterh/Responded1.0/ParticipantResponse114.0/CorrectResponse114.0/TrialCount222.0/BlockTrialCount110.0/ReactionTime2066.0/Accuracy1.0/D90', 'Response/c75.0/s75.0/BigLetterh/SmallLetterh/Taskl/TargetLetterh/Responded1.0/ParticipantResponse115.0/CorrectResponse114.0/TrialCount132.0/BlockTrialCount20.0/ReactionTime1516.0/Accuracy0.0/D90', 'Response/c75.0/s75.0/BigLetterh/SmallLetterh/Taskl/TargetLetterh/Responded1.0/ParticipantResponse115.0/CorrectResponse114.0/TrialCount182.0/BlockTrialCount70.0/ReactionTime1033.0/Accuracy0.0/D90', 'Response/c75.0/s75.0/BigLetters/SmallLetters/Taskg/TargetLetters/Responded1.0/ParticipantResponse115.0/CorrectResponse115.0/TrialCount143.0/BlockTrialCount31.0/ReactionTime1216.0/Accuracy1.0/D90', 'Response/c75.0/s75.0/BigLetters/SmallLetters/Taskg/TargetLetters/Responded1.0/ParticipantResponse115.0/CorrectResponse115.0/TrialCount178.0/BlockTrialCount66.0/ReactionTime1416.0/Accuracy1.0/D90', 'Response/c75.0/s75.0/BigLetters/SmallLetters/Taskg/TargetLetters/Responded1.0/ParticipantResponse115.0/CorrectResponse115.0/TrialCount196.0/BlockTrialCount84.0/ReactionTime1266.0/Accuracy1.0/D90', 'Response/c75.0/s75.0/BigLetters/SmallLetters/Taskg/TargetLetters/Responded1.0/ParticipantResponse115.0/CorrectResponse115.0/TrialCount201.0/BlockTrialCount89.0/ReactionTime1649.0/Accuracy1.0/D90', 'Response/c75.0/s75.0/BigLetters/SmallLetters/Taskl/TargetLetters/Responded1.0/ParticipantResponse115.0/CorrectResponse115.0/TrialCount139.0/BlockTrialCount27.0/ReactionTime1766.0/Accuracy1.0/D90', 'Response/c75.0/s75.0/BigLetters/SmallLetters/Taskl/TargetLetters/Responded1.0/ParticipantResponse115.0/CorrectResponse115.0/TrialCount190.0/BlockTrialCount78.0/ReactionTime1550.0/Accuracy1.0/D90', 'Response/c75.0/s75.0/BigLetters/SmallLetters/Taskl/TargetLetters/Responded1.0/ParticipantResponse115.0/CorrectResponse115.0/TrialCount214.0/BlockTrialCount102.0/ReactionTime1433.0/Accuracy1.0/D90', 'Response/i25.0/r25.0/BigLetterh/SmallLetters/Taskg/TargetLetterh/Responded1.0/ParticipantResponse114.0/CorrectResponse114.0/TrialCount338.0/BlockTrialCount2.0/ReactionTime833.0/Accuracy1.0/D90', 'Response/i25.0/r25.0/BigLetterh/SmallLetters/Taskg/TargetLetterh/Responded1.0/ParticipantResponse114.0/CorrectResponse114.0/TrialCount346.0/BlockTrialCount10.0/ReactionTime683.0/Accuracy1.0/D90', 'Response/i25.0/r25.0/BigLetterh/SmallLetters/Taskg/TargetLetterh/Responded1.0/ParticipantResponse114.0/CorrectResponse114.0/TrialCount397.0/BlockTrialCount61.0/ReactionTime966.0/Accuracy1.0/D90', 'Response/i25.0/r25.0/BigLetterh/SmallLetters/Taskg/TargetLetterh/Responded1.0/ParticipantResponse114.0/CorrectResponse114.0/TrialCount417.0/BlockTrialCount81.0/ReactionTime1549.0/Accuracy1.0/D90', 'Response/i25.0/r25.0/BigLetterh/SmallLetters/Taskg/TargetLetterh/Responded1.0/ParticipantResponse114.0/CorrectResponse114.0/TrialCount442.0/BlockTrialCount106.0/ReactionTime549.0/Accuracy1.0/D90', 'Response/i25.0/r25.0/BigLetterh/SmallLetters/Taskg/TargetLetterh/Responded1.0/ParticipantResponse114.0/CorrectResponse114.0/TrialCount445.0/BlockTrialCount109.0/ReactionTime933.0/Accuracy1.0/D90', 'Response/i25.0/r25.0/BigLetterh/SmallLetters/Taskl/TargetLetters/Responded1.0/ParticipantResponse115.0/CorrectResponse115.0/TrialCount351.0/BlockTrialCount15.0/ReactionTime1649.0/Accuracy1.0/D90', 'Response/i25.0/r25.0/BigLetterh/SmallLetters/Taskl/TargetLetters/Responded1.0/ParticipantResponse115.0/CorrectResponse115.0/TrialCount358.0/BlockTrialCount22.0/ReactionTime866.0/Accuracy1.0/D90', 'Response/i25.0/r25.0/BigLetterh/SmallLetters/Taskl/TargetLetters/Responded1.0/ParticipantResponse115.0/CorrectResponse115.0/TrialCount359.0/BlockTrialCount23.0/ReactionTime1633.0/Accuracy1.0/D90', 'Response/i25.0/r25.0/BigLetterh/SmallLetters/Taskl/TargetLetters/Responded1.0/ParticipantResponse115.0/CorrectResponse115.0/TrialCount360.0/BlockTrialCount24.0/ReactionTime849.0/Accuracy1.0/D90', 'Response/i25.0/r25.0/BigLetterh/SmallLetters/Taskl/TargetLetters/Responded1.0/ParticipantResponse115.0/CorrectResponse115.0/TrialCount373.0/BlockTrialCount37.0/ReactionTime1416.0/Accuracy1.0/D90', 'Response/i25.0/r25.0/BigLetterh/SmallLetters/Taskl/TargetLetters/Responded1.0/ParticipantResponse115.0/CorrectResponse115.0/TrialCount376.0/BlockTrialCount40.0/ReactionTime716.0/Accuracy1.0/D90', 'Response/i25.0/r25.0/BigLetterh/SmallLetters/Taskl/TargetLetters/Responded1.0/ParticipantResponse115.0/CorrectResponse115.0/TrialCount388.0/BlockTrialCount52.0/ReactionTime1316.0/Accuracy1.0/D90', 'Response/i25.0/r25.0/BigLetterh/SmallLetters/Taskl/TargetLetters/Responded1.0/ParticipantResponse115.0/CorrectResponse115.0/TrialCount389.0/BlockTrialCount53.0/ReactionTime916.0/Accuracy1.0/D90', 'Response/i25.0/r25.0/BigLetterh/SmallLetters/Taskl/TargetLetters/Responded1.0/ParticipantResponse115.0/CorrectResponse115.0/TrialCount411.0/BlockTrialCount75.0/ReactionTime1366.0/Accuracy1.0/D90', 'Response/i25.0/r25.0/BigLetterh/SmallLetters/Taskl/TargetLetters/Responded1.0/ParticipantResponse115.0/CorrectResponse115.0/TrialCount437.0/BlockTrialCount101.0/ReactionTime1183.0/Accuracy1.0/D90', 'Response/i25.0/r25.0/BigLetters/SmallLetterh/Taskg/TargetLetters/Responded1.0/ParticipantResponse115.0/CorrectResponse115.0/TrialCount396.0/BlockTrialCount60.0/ReactionTime1216.0/Accuracy1.0/D90', 'Response/i25.0/r25.0/BigLetters/SmallLetterh/Taskg/TargetLetters/Responded1.0/ParticipantResponse115.0/CorrectResponse115.0/TrialCount402.0/BlockTrialCount66.0/ReactionTime1100.0/Accuracy1.0/D90', 'Response/i25.0/r25.0/BigLetters/SmallLetterh/Taskg/TargetLetters/Responded1.0/ParticipantResponse115.0/CorrectResponse115.0/TrialCount416.0/BlockTrialCount80.0/ReactionTime1550.0/Accuracy1.0/D90', 'Response/i25.0/r25.0/BigLetters/SmallLetterh/Taskg/TargetLetters/Responded1.0/ParticipantResponse115.0/CorrectResponse115.0/TrialCount430.0/BlockTrialCount94.0/ReactionTime966.0/Accuracy1.0/D90', 'Response/i25.0/r25.0/BigLetters/SmallLetterh/Taskg/TargetLetters/Responded1.0/ParticipantResponse115.0/CorrectResponse115.0/TrialCount441.0/BlockTrialCount105.0/ReactionTime1116.0/Accuracy1.0/D90', 'Response/i25.0/r25.0/BigLetters/SmallLetterh/Taskl/TargetLetterh/Responded1.0/ParticipantResponse114.0/CorrectResponse114.0/TrialCount356.0/BlockTrialCount20.0/ReactionTime799.0/Accuracy1.0/D90', 'Response/i25.0/r75.0/BigLetterh/SmallLetters/Taskg/TargetLetterh/Responded1.0/ParticipantResponse114.0/CorrectResponse114.0/TrialCount253.0/BlockTrialCount29.0/ReactionTime1133.0/Accuracy1.0/D90', 'Response/i25.0/r75.0/BigLetterh/SmallLetters/Taskg/TargetLetterh/Responded1.0/ParticipantResponse114.0/CorrectResponse114.0/TrialCount254.0/BlockTrialCount30.0/ReactionTime1266.0/Accuracy1.0/D90', 'Response/i25.0/r75.0/BigLetterh/SmallLetters/Taskl/TargetLetters/Responded1.0/ParticipantResponse115.0/CorrectResponse115.0/TrialCount268.0/BlockTrialCount44.0/ReactionTime1350.0/Accuracy1.0/D90', 'Response/i25.0/r75.0/BigLetterh/SmallLetters/Taskl/TargetLetters/Responded1.0/ParticipantResponse115.0/CorrectResponse115.0/TrialCount277.0/BlockTrialCount53.0/ReactionTime1216.0/Accuracy1.0/D90', 'Response/i25.0/r75.0/BigLetters/SmallLetterh/Taskg/TargetLetters/Responded1.0/ParticipantResponse115.0/CorrectResponse115.0/TrialCount315.0/BlockTrialCount91.0/ReactionTime1299.0/Accuracy1.0/D90', 'Response/i25.0/r75.0/BigLetters/SmallLetterh/Taskl/TargetLetterh/Responded1.0/ParticipantResponse114.0/CorrectResponse114.0/TrialCount243.0/BlockTrialCount19.0/ReactionTime1983.0/Accuracy1.0/D90', 'Response/i25.0/r75.0/BigLetters/SmallLetterh/Taskl/TargetLetterh/Responded1.0/ParticipantResponse114.0/CorrectResponse114.0/TrialCount274.0/BlockTrialCount50.0/ReactionTime1966.0/Accuracy1.0/D90', 'Response/i25.0/s25.0/BigLetterh/SmallLetters/Taskg/TargetLetterh/Responded1.0/ParticipantResponse114.0/CorrectResponse114.0/TrialCount371.0/BlockTrialCount35.0/ReactionTime1483.0/Accuracy1.0/D90', 'Response/i25.0/s25.0/BigLetterh/SmallLetters/Taskg/TargetLetterh/Responded1.0/ParticipantResponse114.0/CorrectResponse114.0/TrialCount412.0/BlockTrialCount76.0/ReactionTime1399.0/Accuracy1.0/D90', 'Response/i25.0/s25.0/BigLetterh/SmallLetters/Taskl/TargetLetters/Responded1.0/ParticipantResponse115.0/CorrectResponse115.0/TrialCount421.0/BlockTrialCount85.0/ReactionTime1633.0/Accuracy1.0/D90', 'Response/i25.0/s25.0/BigLetters/SmallLetterh/Taskg/TargetLetters/Responded1.0/ParticipantResponse115.0/CorrectResponse115.0/TrialCount348.0/BlockTrialCount12.0/ReactionTime1550.0/Accuracy1.0/D90', 'Response/i25.0/s25.0/BigLetters/SmallLetterh/Taskg/TargetLetters/Responded1.0/ParticipantResponse115.0/CorrectResponse115.0/TrialCount424.0/BlockTrialCount88.0/ReactionTime1916.0/Accuracy1.0/D90', 'Response/i25.0/s25.0/BigLetters/SmallLetterh/Taskl/TargetLetterh/Responded1.0/ParticipantResponse114.0/CorrectResponse114.0/TrialCount413.0/BlockTrialCount77.0/ReactionTime1600.0/Accuracy1.0/D90', 'Response/i25.0/s75.0/BigLetterh/SmallLetters/Taskg/TargetLetterh/Responded1.0/ParticipantResponse114.0/CorrectResponse114.0/TrialCount238.0/BlockTrialCount14.0/ReactionTime1333.0/Accuracy1.0/D90', 'Response/i25.0/s75.0/BigLetterh/SmallLetters/Taskg/TargetLetterh/Responded1.0/ParticipantResponse114.0/CorrectResponse114.0/TrialCount245.0/BlockTrialCount21.0/ReactionTime1066.0/Accuracy1.0/D90', 'Response/i25.0/s75.0/BigLetterh/SmallLetters/Taskg/TargetLetterh/Responded1.0/ParticipantResponse114.0/CorrectResponse114.0/TrialCount263.0/BlockTrialCount39.0/ReactionTime1633.0/Accuracy1.0/D90', 'Response/i25.0/s75.0/BigLetterh/SmallLetters/Taskg/TargetLetterh/Responded1.0/ParticipantResponse114.0/CorrectResponse114.0/TrialCount271.0/BlockTrialCount47.0/ReactionTime1366.0/Accuracy1.0/D90', 'Response/i25.0/s75.0/BigLetterh/SmallLetters/Taskg/TargetLetterh/Responded1.0/ParticipantResponse114.0/CorrectResponse114.0/TrialCount307.0/BlockTrialCount83.0/ReactionTime1216.0/Accuracy1.0/D90', 'Response/i25.0/s75.0/BigLetterh/SmallLetters/Taskl/TargetLetters/Responded1.0/ParticipantResponse115.0/CorrectResponse115.0/TrialCount234.0/BlockTrialCount10.0/ReactionTime1399.0/Accuracy1.0/D90', 'Response/i25.0/s75.0/BigLetterh/SmallLetters/Taskl/TargetLetters/Responded1.0/ParticipantResponse115.0/CorrectResponse115.0/TrialCount242.0/BlockTrialCount18.0/ReactionTime1683.0/Accuracy1.0/D90', 'Response/i25.0/s75.0/BigLetterh/SmallLetters/Taskl/TargetLetters/Responded1.0/ParticipantResponse115.0/CorrectResponse115.0/TrialCount283.0/BlockTrialCount59.0/ReactionTime1599.0/Accuracy1.0/D90', 'Response/i25.0/s75.0/BigLetterh/SmallLetters/Taskl/TargetLetters/Responded1.0/ParticipantResponse115.0/CorrectResponse115.0/TrialCount292.0/BlockTrialCount68.0/ReactionTime1549.0/Accuracy1.0/D90', 'Response/i25.0/s75.0/BigLetterh/SmallLetters/Taskl/TargetLetters/Responded1.0/ParticipantResponse115.0/CorrectResponse115.0/TrialCount306.0/BlockTrialCount82.0/ReactionTime1250.0/Accuracy1.0/D90', 'Response/i25.0/s75.0/BigLetterh/SmallLetters/Taskl/TargetLetters/Responded1.0/ParticipantResponse115.0/CorrectResponse115.0/TrialCount309.0/BlockTrialCount85.0/ReactionTime1716.0/Accuracy1.0/D90', 'Response/i25.0/s75.0/BigLetterh/SmallLetters/Taskl/TargetLetters/Responded1.0/ParticipantResponse115.0/CorrectResponse115.0/TrialCount316.0/BlockTrialCount92.0/ReactionTime649.0/Accuracy1.0/D90', 'Response/i25.0/s75.0/BigLetters/SmallLetterh/Taskg/TargetLetters/Responded1.0/ParticipantResponse115.0/CorrectResponse115.0/TrialCount240.0/BlockTrialCount16.0/ReactionTime1600.0/Accuracy1.0/D90', 'Response/i25.0/s75.0/BigLetters/SmallLetterh/Taskg/TargetLetters/Responded1.0/ParticipantResponse115.0/CorrectResponse115.0/TrialCount280.0/BlockTrialCount56.0/ReactionTime899.0/Accuracy1.0/D90', 'Response/i25.0/s75.0/BigLetters/SmallLetterh/Taskg/TargetLetters/Responded1.0/ParticipantResponse115.0/CorrectResponse115.0/TrialCount304.0/BlockTrialCount80.0/ReactionTime983.0/Accuracy1.0/D90', 'Response/i25.0/s75.0/BigLetters/SmallLetterh/Taskg/TargetLetters/Responded1.0/ParticipantResponse115.0/CorrectResponse115.0/TrialCount330.0/BlockTrialCount106.0/ReactionTime1966.0/Accuracy1.0/D90', 'Response/i25.0/s75.0/BigLetters/SmallLetterh/Taskl/TargetLetterh/Responded1.0/ParticipantResponse114.0/CorrectResponse114.0/TrialCount255.0/BlockTrialCount31.0/ReactionTime1699.0/Accuracy1.0/D90', 'Response/i25.0/s75.0/BigLetters/SmallLetterh/Taskl/TargetLetterh/Responded1.0/ParticipantResponse114.0/CorrectResponse114.0/TrialCount264.0/BlockTrialCount40.0/ReactionTime1299.0/Accuracy1.0/D90', 'Response/i25.0/s75.0/BigLetters/SmallLetterh/Taskl/TargetLetterh/Responded1.0/ParticipantResponse114.0/CorrectResponse114.0/TrialCount273.0/BlockTrialCount49.0/ReactionTime1599.0/Accuracy1.0/D90', 'Response/i25.0/s75.0/BigLetters/SmallLetterh/Taskl/TargetLetterh/Responded1.0/ParticipantResponse114.0/CorrectResponse114.0/TrialCount299.0/BlockTrialCount75.0/ReactionTime1599.0/Accuracy1.0/D90', 'Response/i25.0/s75.0/BigLetters/SmallLetterh/Taskl/TargetLetterh/Responded1.0/ParticipantResponse114.0/CorrectResponse114.0/TrialCount326.0/BlockTrialCount102.0/ReactionTime1083.0/Accuracy1.0/D90', 'Response/i75.0/n25.0/BigLetterh/SmallLetters/Taskl/TargetLetters/Responded1.0/ParticipantResponse115.0/CorrectResponse115.0/TrialCount1.0/BlockTrialCount1.0/ReactionTime1850.0/Accuracy1.0/D90', 'Response/i75.0/n75.0/BigLetters/SmallLetterh/Taskg/TargetLetters/Responded1.0/ParticipantResponse115.0/CorrectResponse115.0/TrialCount113.0/BlockTrialCount1.0/ReactionTime1899.0/Accuracy1.0/D90', 'Response/i75.0/r25.0/BigLetterh/SmallLetters/Taskg/TargetLetterh/Responded1.0/ParticipantResponse114.0/CorrectResponse114.0/TrialCount19.0/BlockTrialCount19.0/ReactionTime833.0/Accuracy1.0/D90', 'Response/i75.0/r25.0/BigLetterh/SmallLetters/Taskg/TargetLetterh/Responded1.0/ParticipantResponse114.0/CorrectResponse114.0/TrialCount3.0/BlockTrialCount3.0/ReactionTime2133.0/Accuracy1.0/D90', 'Response/i75.0/r25.0/BigLetterh/SmallLetters/Taskg/TargetLetterh/Responded1.0/ParticipantResponse114.0/CorrectResponse114.0/TrialCount31.0/BlockTrialCount31.0/ReactionTime1516.0/Accuracy1.0/D90', 'Response/i75.0/r25.0/BigLetterh/SmallLetters/Taskg/TargetLetterh/Responded1.0/ParticipantResponse114.0/CorrectResponse114.0/TrialCount33.0/BlockTrialCount33.0/ReactionTime967.0/Accuracy1.0/D90', 'Response/i75.0/r25.0/BigLetterh/SmallLetters/Taskg/TargetLetterh/Responded1.0/ParticipantResponse114.0/CorrectResponse114.0/TrialCount35.0/BlockTrialCount35.0/ReactionTime933.0/Accuracy1.0/D90', 'Response/i75.0/r25.0/BigLetterh/SmallLetters/Taskg/TargetLetterh/Responded1.0/ParticipantResponse114.0/CorrectResponse114.0/TrialCount37.0/BlockTrialCount37.0/ReactionTime666.0/Accuracy1.0/D90', 'Response/i75.0/r25.0/BigLetterh/SmallLetters/Taskg/TargetLetterh/Responded1.0/ParticipantResponse114.0/CorrectResponse114.0/TrialCount39.0/BlockTrialCount39.0/ReactionTime683.0/Accuracy1.0/D90', 'Response/i75.0/r25.0/BigLetterh/SmallLetters/Taskg/TargetLetterh/Responded1.0/ParticipantResponse114.0/CorrectResponse114.0/TrialCount48.0/BlockTrialCount48.0/ReactionTime1716.0/Accuracy1.0/D90', 'Response/i75.0/r25.0/BigLetterh/SmallLetters/Taskg/TargetLetterh/Responded1.0/ParticipantResponse114.0/CorrectResponse114.0/TrialCount53.0/BlockTrialCount53.0/ReactionTime750.0/Accuracy1.0/D90', 'Response/i75.0/r25.0/BigLetterh/SmallLetters/Taskg/TargetLetterh/Responded1.0/ParticipantResponse114.0/CorrectResponse114.0/TrialCount55.0/BlockTrialCount55.0/ReactionTime766.0/Accuracy1.0/D90', 'Response/i75.0/r25.0/BigLetterh/SmallLetters/Taskg/TargetLetterh/Responded1.0/ParticipantResponse114.0/CorrectResponse114.0/TrialCount73.0/BlockTrialCount73.0/ReactionTime999.0/Accuracy1.0/D90', 'Response/i75.0/r25.0/BigLetterh/SmallLetters/Taskg/TargetLetterh/Responded1.0/ParticipantResponse114.0/CorrectResponse114.0/TrialCount79.0/BlockTrialCount79.0/ReactionTime933.0/Accuracy1.0/D90', 'Response/i75.0/r25.0/BigLetterh/SmallLetters/Taskg/TargetLetterh/Responded1.0/ParticipantResponse114.0/CorrectResponse114.0/TrialCount80.0/BlockTrialCount80.0/ReactionTime883.0/Accuracy1.0/D90', 'Response/i75.0/r25.0/BigLetterh/SmallLetters/Taskg/TargetLetterh/Responded1.0/ParticipantResponse114.0/CorrectResponse114.0/TrialCount89.0/BlockTrialCount89.0/ReactionTime716.0/Accuracy1.0/D90', 'Response/i75.0/r25.0/BigLetterh/SmallLetters/Taskg/TargetLetterh/Responded1.0/ParticipantResponse114.0/CorrectResponse114.0/TrialCount90.0/BlockTrialCount90.0/ReactionTime833.0/Accuracy1.0/D90', 'Response/i75.0/r25.0/BigLetterh/SmallLetters/Taskg/TargetLetterh/Responded1.0/ParticipantResponse115.0/CorrectResponse114.0/TrialCount66.0/BlockTrialCount66.0/ReactionTime1099.0/Accuracy0.0/D90', 'Response/i75.0/r25.0/BigLetterh/SmallLetters/Taskl/TargetLetters/Responded1.0/ParticipantResponse114.0/CorrectResponse115.0/TrialCount102.0/BlockTrialCount102.0/ReactionTime516.0/Accuracy0.0/D90', 'Response/i75.0/r25.0/BigLetterh/SmallLetters/Taskl/TargetLetters/Responded1.0/ParticipantResponse114.0/CorrectResponse115.0/TrialCount75.0/BlockTrialCount75.0/ReactionTime949.0/Accuracy0.0/D90', 'Response/i75.0/r25.0/BigLetterh/SmallLetters/Taskl/TargetLetters/Responded1.0/ParticipantResponse115.0/CorrectResponse115.0/TrialCount109.0/BlockTrialCount109.0/ReactionTime983.0/Accuracy1.0/D90', 'Response/i75.0/r25.0/BigLetterh/SmallLetters/Taskl/TargetLetters/Responded1.0/ParticipantResponse115.0/CorrectResponse115.0/TrialCount11.0/BlockTrialCount11.0/ReactionTime1883.0/Accuracy1.0/D90', 'Response/i75.0/r25.0/BigLetterh/SmallLetters/Taskl/TargetLetters/Responded1.0/ParticipantResponse115.0/CorrectResponse115.0/TrialCount23.0/BlockTrialCount23.0/ReactionTime1599.0/Accuracy1.0/D90', 'Response/i75.0/r25.0/BigLetterh/SmallLetters/Taskl/TargetLetters/Responded1.0/ParticipantResponse115.0/CorrectResponse115.0/TrialCount25.0/BlockTrialCount25.0/ReactionTime683.0/Accuracy1.0/D90', 'Response/i75.0/r25.0/BigLetterh/SmallLetters/Taskl/TargetLetters/Responded1.0/ParticipantResponse115.0/CorrectResponse115.0/TrialCount26.0/BlockTrialCount26.0/ReactionTime1633.0/Accuracy1.0/D90', 'Response/i75.0/r25.0/BigLetterh/SmallLetters/Taskl/TargetLetters/Responded1.0/ParticipantResponse115.0/CorrectResponse115.0/TrialCount45.0/BlockTrialCount45.0/ReactionTime1116.0/Accuracy1.0/D90', 'Response/i75.0/r25.0/BigLetterh/SmallLetters/Taskl/TargetLetters/Responded1.0/ParticipantResponse115.0/CorrectResponse115.0/TrialCount46.0/BlockTrialCount46.0/ReactionTime1083.0/Accuracy1.0/D90', 'Response/i75.0/r25.0/BigLetterh/SmallLetters/Taskl/TargetLetters/Responded1.0/ParticipantResponse115.0/CorrectResponse115.0/TrialCount58.0/BlockTrialCount58.0/ReactionTime1483.0/Accuracy1.0/D90', 'Response/i75.0/r25.0/BigLetterh/SmallLetters/Taskl/TargetLetters/Responded1.0/ParticipantResponse115.0/CorrectResponse115.0/TrialCount59.0/BlockTrialCount59.0/ReactionTime1766.0/Accuracy1.0/D90', 'Response/i75.0/r25.0/BigLetterh/SmallLetters/Taskl/TargetLetters/Responded1.0/ParticipantResponse115.0/CorrectResponse115.0/TrialCount60.0/BlockTrialCount60.0/ReactionTime1533.0/Accuracy1.0/D90', 'Response/i75.0/r25.0/BigLetterh/SmallLetters/Taskl/TargetLetters/Responded1.0/ParticipantResponse115.0/CorrectResponse115.0/TrialCount69.0/BlockTrialCount69.0/ReactionTime799.0/Accuracy1.0/D90', 'Response/i75.0/r25.0/BigLetterh/SmallLetters/Taskl/TargetLetters/Responded1.0/ParticipantResponse115.0/CorrectResponse115.0/TrialCount71.0/BlockTrialCount71.0/ReactionTime1349.0/Accuracy1.0/D90', 'Response/i75.0/r25.0/BigLetterh/SmallLetters/Taskl/TargetLetters/Responded1.0/ParticipantResponse115.0/CorrectResponse115.0/TrialCount76.0/BlockTrialCount76.0/ReactionTime1117.0/Accuracy1.0/D90', 'Response/i75.0/r25.0/BigLetterh/SmallLetters/Taskl/TargetLetters/Responded1.0/ParticipantResponse115.0/CorrectResponse115.0/TrialCount77.0/BlockTrialCount77.0/ReactionTime816.0/Accuracy1.0/D90', 'Response/i75.0/r25.0/BigLetterh/SmallLetters/Taskl/TargetLetters/Responded1.0/ParticipantResponse115.0/CorrectResponse115.0/TrialCount84.0/BlockTrialCount84.0/ReactionTime1049.0/Accuracy1.0/D90', 'Response/i75.0/r25.0/BigLetters/SmallLetterh/Taskg/TargetLetters/Responded1.0/ParticipantResponse115.0/CorrectResponse115.0/TrialCount105.0/BlockTrialCount105.0/ReactionTime1049.0/Accuracy1.0/D90', 'Response/i75.0/r25.0/BigLetters/SmallLetterh/Taskg/TargetLetters/Responded1.0/ParticipantResponse115.0/CorrectResponse115.0/TrialCount106.0/BlockTrialCount106.0/ReactionTime1033.0/Accuracy1.0/D90', 'Response/i75.0/r25.0/BigLetters/SmallLetterh/Taskg/TargetLetters/Responded1.0/ParticipantResponse115.0/CorrectResponse115.0/TrialCount107.0/BlockTrialCount107.0/ReactionTime1033.0/Accuracy1.0/D90', 'Response/i75.0/r25.0/BigLetters/SmallLetterh/Taskg/TargetLetters/Responded1.0/ParticipantResponse115.0/CorrectResponse115.0/TrialCount17.0/BlockTrialCount17.0/ReactionTime849.0/Accuracy1.0/D90', 'Response/i75.0/r25.0/BigLetters/SmallLetterh/Taskg/TargetLetters/Responded1.0/ParticipantResponse115.0/CorrectResponse115.0/TrialCount32.0/BlockTrialCount32.0/ReactionTime1233.0/Accuracy1.0/D90', 'Response/i75.0/r25.0/BigLetters/SmallLetterh/Taskg/TargetLetters/Responded1.0/ParticipantResponse115.0/CorrectResponse115.0/TrialCount34.0/BlockTrialCount34.0/ReactionTime1100.0/Accuracy1.0/D90', 'Response/i75.0/r25.0/BigLetters/SmallLetterh/Taskg/TargetLetters/Responded1.0/ParticipantResponse115.0/CorrectResponse115.0/TrialCount38.0/BlockTrialCount38.0/ReactionTime783.0/Accuracy1.0/D90', 'Response/i75.0/r25.0/BigLetters/SmallLetterh/Taskg/TargetLetters/Responded1.0/ParticipantResponse115.0/CorrectResponse115.0/TrialCount51.0/BlockTrialCount51.0/ReactionTime1966.0/Accuracy1.0/D90', 'Response/i75.0/r25.0/BigLetters/SmallLetterh/Taskg/TargetLetters/Responded1.0/ParticipantResponse115.0/CorrectResponse115.0/TrialCount54.0/BlockTrialCount54.0/ReactionTime700.0/Accuracy1.0/D90', 'Response/i75.0/r25.0/BigLetters/SmallLetterh/Taskg/TargetLetters/Responded1.0/ParticipantResponse115.0/CorrectResponse115.0/TrialCount6.0/BlockTrialCount6.0/ReactionTime1416.0/Accuracy1.0/D90', 'Response/i75.0/r25.0/BigLetters/SmallLetterh/Taskg/TargetLetters/Responded1.0/ParticipantResponse115.0/CorrectResponse115.0/TrialCount81.0/BlockTrialCount81.0/ReactionTime1050.0/Accuracy1.0/D90', 'Response/i75.0/r25.0/BigLetters/SmallLetterh/Taskg/TargetLetters/Responded1.0/ParticipantResponse115.0/CorrectResponse115.0/TrialCount88.0/BlockTrialCount88.0/ReactionTime833.0/Accuracy1.0/D90', 'Response/i75.0/r25.0/BigLetters/SmallLetterh/Taskg/TargetLetters/Responded1.0/ParticipantResponse115.0/CorrectResponse115.0/TrialCount91.0/BlockTrialCount91.0/ReactionTime716.0/Accuracy1.0/D90', 'Response/i75.0/r25.0/BigLetters/SmallLetterh/Taskg/TargetLetters/Responded1.0/ParticipantResponse115.0/CorrectResponse115.0/TrialCount92.0/BlockTrialCount92.0/ReactionTime783.0/Accuracy1.0/D90', 'Response/i75.0/r25.0/BigLetters/SmallLetterh/Taskl/TargetLetterh/Responded1.0/ParticipantResponse114.0/CorrectResponse114.0/TrialCount10.0/BlockTrialCount10.0/ReactionTime1666.0/Accuracy1.0/D90', 'Response/i75.0/r25.0/BigLetters/SmallLetterh/Taskl/TargetLetterh/Responded1.0/ParticipantResponse114.0/CorrectResponse114.0/TrialCount100.0/BlockTrialCount100.0/ReactionTime783.0/Accuracy1.0/D90', 'Response/i75.0/r25.0/BigLetters/SmallLetterh/Taskl/TargetLetterh/Responded1.0/ParticipantResponse114.0/CorrectResponse114.0/TrialCount101.0/BlockTrialCount101.0/ReactionTime916.0/Accuracy1.0/D90', 'Response/i75.0/r25.0/BigLetters/SmallLetterh/Taskl/TargetLetterh/Responded1.0/ParticipantResponse114.0/CorrectResponse114.0/TrialCount12.0/BlockTrialCount12.0/ReactionTime966.0/Accuracy1.0/D90', 'Response/i75.0/r25.0/BigLetters/SmallLetterh/Taskl/TargetLetterh/Responded1.0/ParticipantResponse114.0/CorrectResponse114.0/TrialCount27.0/BlockTrialCount27.0/ReactionTime1149.0/Accuracy1.0/D90', 'Response/i75.0/r25.0/BigLetters/SmallLetterh/Taskl/TargetLetterh/Responded1.0/ParticipantResponse114.0/CorrectResponse114.0/TrialCount28.0/BlockTrialCount28.0/ReactionTime983.0/Accuracy1.0/D90', 'Response/i75.0/r25.0/BigLetters/SmallLetterh/Taskl/TargetLetterh/Responded1.0/ParticipantResponse114.0/CorrectResponse114.0/TrialCount62.0/BlockTrialCount62.0/ReactionTime750.0/Accuracy1.0/D90', 'Response/i75.0/r25.0/BigLetters/SmallLetterh/Taskl/TargetLetterh/Responded1.0/ParticipantResponse114.0/CorrectResponse114.0/TrialCount63.0/BlockTrialCount63.0/ReactionTime916.0/Accuracy1.0/D90', 'Response/i75.0/r25.0/BigLetters/SmallLetterh/Taskl/TargetLetterh/Responded1.0/ParticipantResponse114.0/CorrectResponse114.0/TrialCount64.0/BlockTrialCount64.0/ReactionTime966.0/Accuracy1.0/D90', 'Response/i75.0/r25.0/BigLetters/SmallLetterh/Taskl/TargetLetterh/Responded1.0/ParticipantResponse114.0/CorrectResponse114.0/TrialCount70.0/BlockTrialCount70.0/ReactionTime1283.0/Accuracy1.0/D90', 'Response/i75.0/r25.0/BigLetters/SmallLetterh/Taskl/TargetLetterh/Responded1.0/ParticipantResponse114.0/CorrectResponse114.0/TrialCount85.0/BlockTrialCount85.0/ReactionTime1083.0/Accuracy1.0/D90', 'Response/i75.0/r25.0/BigLetters/SmallLetterh/Taskl/TargetLetterh/Responded1.0/ParticipantResponse114.0/CorrectResponse114.0/TrialCount95.0/BlockTrialCount95.0/ReactionTime666.0/Accuracy1.0/D90', 'Response/i75.0/r25.0/BigLetters/SmallLetterh/Taskl/TargetLetterh/Responded1.0/ParticipantResponse114.0/CorrectResponse114.0/TrialCount97.0/BlockTrialCount97.0/ReactionTime599.0/Accuracy1.0/D90', 'Response/i75.0/r25.0/BigLetters/SmallLetterh/Taskl/TargetLetterh/Responded1.0/ParticipantResponse115.0/CorrectResponse114.0/TrialCount8.0/BlockTrialCount8.0/ReactionTime2449.0/Accuracy0.0/D90', 'Response/i75.0/r75.0/BigLetterh/SmallLetters/Taskg/TargetLetterh/Responded1.0/ParticipantResponse114.0/CorrectResponse114.0/TrialCount126.0/BlockTrialCount14.0/ReactionTime1066.0/Accuracy1.0/D90', 'Response/i75.0/r75.0/BigLetterh/SmallLetters/Taskg/TargetLetterh/Responded1.0/ParticipantResponse114.0/CorrectResponse114.0/TrialCount131.0/BlockTrialCount19.0/ReactionTime1633.0/Accuracy1.0/D90', 'Response/i75.0/r75.0/BigLetterh/SmallLetters/Taskg/TargetLetterh/Responded1.0/ParticipantResponse114.0/CorrectResponse114.0/TrialCount167.0/BlockTrialCount55.0/ReactionTime1566.0/Accuracy1.0/D90', 'Response/i75.0/r75.0/BigLetterh/SmallLetters/Taskg/TargetLetterh/Responded1.0/ParticipantResponse114.0/CorrectResponse114.0/TrialCount192.0/BlockTrialCount80.0/ReactionTime883.0/Accuracy1.0/D90', 'Response/i75.0/r75.0/BigLetterh/SmallLetters/Taskl/TargetLetters/Responded1.0/ParticipantResponse114.0/CorrectResponse115.0/TrialCount209.0/BlockTrialCount97.0/ReactionTime683.0/Accuracy0.0/D90', 'Response/i75.0/r75.0/BigLetterh/SmallLetters/Taskl/TargetLetters/Responded1.0/ParticipantResponse115.0/CorrectResponse115.0/TrialCount123.0/BlockTrialCount11.0/ReactionTime649.0/Accuracy1.0/D90', 'Response/i75.0/r75.0/BigLetterh/SmallLetters/Taskl/TargetLetters/Responded1.0/ParticipantResponse115.0/CorrectResponse115.0/TrialCount124.0/BlockTrialCount12.0/ReactionTime650.0/Accuracy1.0/D90', 'Response/i75.0/r75.0/BigLetterh/SmallLetters/Taskl/TargetLetters/Responded1.0/ParticipantResponse115.0/CorrectResponse115.0/TrialCount145.0/BlockTrialCount33.0/ReactionTime1100.0/Accuracy1.0/D90', 'Response/i75.0/r75.0/BigLetterh/SmallLetters/Taskl/TargetLetters/Responded1.0/ParticipantResponse115.0/CorrectResponse115.0/TrialCount149.0/BlockTrialCount37.0/ReactionTime1183.0/Accuracy1.0/D90', 'Response/i75.0/r75.0/BigLetterh/SmallLetters/Taskl/TargetLetters/Responded1.0/ParticipantResponse115.0/CorrectResponse115.0/TrialCount169.0/BlockTrialCount57.0/ReactionTime1366.0/Accuracy1.0/D90', 'Response/i75.0/r75.0/BigLetterh/SmallLetters/Taskl/TargetLetters/Responded1.0/ParticipantResponse115.0/CorrectResponse115.0/TrialCount180.0/BlockTrialCount68.0/ReactionTime866.0/Accuracy1.0/D90', 'Response/i75.0/r75.0/BigLetterh/SmallLetters/Taskl/TargetLetters/Responded1.0/ParticipantResponse115.0/CorrectResponse115.0/TrialCount185.0/BlockTrialCount73.0/ReactionTime1283.0/Accuracy1.0/D90', 'Response/i75.0/r75.0/BigLetterh/SmallLetters/Taskl/TargetLetters/Responded1.0/ParticipantResponse115.0/CorrectResponse115.0/TrialCount206.0/BlockTrialCount94.0/ReactionTime1233.0/Accuracy1.0/D90', 'Response/i75.0/r75.0/BigLetters/SmallLetterh/Taskg/TargetLetters/Responded1.0/ParticipantResponse115.0/CorrectResponse115.0/TrialCount153.0/BlockTrialCount41.0/ReactionTime1966.0/Accuracy1.0/D90', 'Response/i75.0/r75.0/BigLetters/SmallLetterh/Taskg/TargetLetters/Responded1.0/ParticipantResponse115.0/CorrectResponse115.0/TrialCount158.0/BlockTrialCount46.0/ReactionTime1316.0/Accuracy1.0/D90', 'Response/i75.0/r75.0/BigLetters/SmallLetterh/Taskg/TargetLetters/Responded1.0/ParticipantResponse115.0/CorrectResponse115.0/TrialCount175.0/BlockTrialCount63.0/ReactionTime1699.0/Accuracy1.0/D90', 'Response/i75.0/r75.0/BigLetters/SmallLetterh/Taskg/TargetLetters/Responded1.0/ParticipantResponse115.0/CorrectResponse115.0/TrialCount176.0/BlockTrialCount64.0/ReactionTime1400.0/Accuracy1.0/D90', 'Response/i75.0/r75.0/BigLetters/SmallLetterh/Taskg/TargetLetters/Responded1.0/ParticipantResponse115.0/CorrectResponse115.0/TrialCount187.0/BlockTrialCount75.0/ReactionTime1033.0/Accuracy1.0/D90', 'Response/i75.0/r75.0/BigLetters/SmallLetterh/Taskg/TargetLetters/Responded1.0/ParticipantResponse115.0/CorrectResponse115.0/TrialCount213.0/BlockTrialCount101.0/ReactionTime1133.0/Accuracy1.0/D90', 'Response/i75.0/r75.0/BigLetters/SmallLetterh/Taskl/TargetLetterh/Responded1.0/ParticipantResponse114.0/CorrectResponse114.0/TrialCount148.0/BlockTrialCount36.0/ReactionTime1500.0/Accuracy1.0/D90', 'Response/i75.0/r75.0/BigLetters/SmallLetterh/Taskl/TargetLetterh/Responded1.0/ParticipantResponse114.0/CorrectResponse114.0/TrialCount205.0/BlockTrialCount93.0/ReactionTime1833.0/Accuracy1.0/D90', 'Response/i75.0/r75.0/BigLetters/SmallLetterh/Taskl/TargetLetterh/Responded1.0/ParticipantResponse114.0/CorrectResponse114.0/TrialCount215.0/BlockTrialCount103.0/ReactionTime1616.0/Accuracy1.0/D90', 'Response/i75.0/s25.0/BigLetterh/SmallLetters/Taskg/TargetLetterh/Responded1.0/ParticipantResponse114.0/CorrectResponse114.0/TrialCount43.0/BlockTrialCount43.0/ReactionTime800.0/Accuracy1.0/D90', 'Response/i75.0/s25.0/BigLetterh/SmallLetters/Taskg/TargetLetterh/Responded1.0/ParticipantResponse114.0/CorrectResponse114.0/TrialCount5.0/BlockTrialCount5.0/ReactionTime2316.0/Accuracy1.0/D90', 'Response/i75.0/s25.0/BigLetterh/SmallLetters/Taskg/TargetLetterh/Responded1.0/ParticipantResponse114.0/CorrectResponse114.0/TrialCount65.0/BlockTrialCount65.0/ReactionTime933.0/Accuracy1.0/D90', 'Response/i75.0/s25.0/BigLetterh/SmallLetters/Taskg/TargetLetterh/Responded1.0/ParticipantResponse114.0/CorrectResponse114.0/TrialCount72.0/BlockTrialCount72.0/ReactionTime1566.0/Accuracy1.0/D90', 'Response/i75.0/s25.0/BigLetterh/SmallLetters/Taskl/TargetLetters/Responded1.0/ParticipantResponse115.0/CorrectResponse115.0/TrialCount14.0/BlockTrialCount14.0/ReactionTime1716.0/Accuracy1.0/D90', 'Response/i75.0/s25.0/BigLetterh/SmallLetters/Taskl/TargetLetters/Responded1.0/ParticipantResponse115.0/CorrectResponse115.0/TrialCount22.0/BlockTrialCount22.0/ReactionTime1349.0/Accuracy1.0/D90', 'Response/i75.0/s25.0/BigLetterh/SmallLetters/Taskl/TargetLetters/Responded1.0/ParticipantResponse115.0/CorrectResponse115.0/TrialCount42.0/BlockTrialCount42.0/ReactionTime1533.0/Accuracy1.0/D90', 'Response/i75.0/s25.0/BigLetterh/SmallLetters/Taskl/TargetLetters/Responded1.0/ParticipantResponse115.0/CorrectResponse115.0/TrialCount56.0/BlockTrialCount56.0/ReactionTime999.0/Accuracy1.0/D90', 'Response/i75.0/s25.0/BigLetterh/SmallLetters/Taskl/TargetLetters/Responded1.0/ParticipantResponse115.0/CorrectResponse115.0/TrialCount68.0/BlockTrialCount68.0/ReactionTime1699.0/Accuracy1.0/D90', 'Response/i75.0/s25.0/BigLetters/SmallLetterh/Taskg/TargetLetters/Responded1.0/ParticipantResponse115.0/CorrectResponse115.0/TrialCount104.0/BlockTrialCount104.0/ReactionTime1583.0/Accuracy1.0/D90', 'Response/i75.0/s25.0/BigLetters/SmallLetterh/Taskg/TargetLetters/Responded1.0/ParticipantResponse115.0/CorrectResponse115.0/TrialCount111.0/BlockTrialCount111.0/ReactionTime1299.0/Accuracy1.0/D90', 'Response/i75.0/s25.0/BigLetters/SmallLetterh/Taskg/TargetLetters/Responded1.0/ParticipantResponse115.0/CorrectResponse115.0/TrialCount13.0/BlockTrialCount13.0/ReactionTime1649.0/Accuracy1.0/D90', 'Response/i75.0/s25.0/BigLetters/SmallLetterh/Taskg/TargetLetters/Responded1.0/ParticipantResponse115.0/CorrectResponse115.0/TrialCount15.0/BlockTrialCount15.0/ReactionTime1583.0/Accuracy1.0/D90', 'Response/i75.0/s25.0/BigLetters/SmallLetterh/Taskg/TargetLetters/Responded1.0/ParticipantResponse115.0/CorrectResponse115.0/TrialCount2.0/BlockTrialCount2.0/ReactionTime1116.0/Accuracy1.0/D90', 'Response/i75.0/s25.0/BigLetters/SmallLetterh/Taskg/TargetLetters/Responded1.0/ParticipantResponse115.0/CorrectResponse115.0/TrialCount47.0/BlockTrialCount47.0/ReactionTime2083.0/Accuracy1.0/D90', 'Response/i75.0/s25.0/BigLetters/SmallLetterh/Taskg/TargetLetters/Responded1.0/ParticipantResponse115.0/CorrectResponse115.0/TrialCount50.0/BlockTrialCount50.0/ReactionTime1249.0/Accuracy1.0/D90', 'Response/i75.0/s25.0/BigLetters/SmallLetterh/Taskl/TargetLetterh/Responded1.0/ParticipantResponse114.0/CorrectResponse114.0/TrialCount44.0/BlockTrialCount44.0/ReactionTime1433.0/Accuracy1.0/D90', 'Response/i75.0/s25.0/BigLetters/SmallLetterh/Taskl/TargetLetterh/Responded1.0/ParticipantResponse114.0/CorrectResponse114.0/TrialCount7.0/BlockTrialCount7.0/ReactionTime1616.0/Accuracy1.0/D90', 'Response/i75.0/s25.0/BigLetters/SmallLetterh/Taskl/TargetLetterh/Responded1.0/ParticipantResponse114.0/CorrectResponse114.0/TrialCount74.0/BlockTrialCount74.0/ReactionTime1883.0/Accuracy1.0/D90', 'Response/i75.0/s25.0/BigLetters/SmallLetterh/Taskl/TargetLetterh/Responded1.0/ParticipantResponse114.0/CorrectResponse114.0/TrialCount82.0/BlockTrialCount82.0/ReactionTime1233.0/Accuracy1.0/D90', 'Response/i75.0/s25.0/BigLetters/SmallLetterh/Taskl/TargetLetterh/Responded1.0/ParticipantResponse114.0/CorrectResponse114.0/TrialCount94.0/BlockTrialCount94.0/ReactionTime1599.0/Accuracy1.0/D90', 'Response/i75.0/s75.0/BigLetterh/SmallLetters/Taskg/TargetLetterh/Responded1.0/ParticipantResponse114.0/CorrectResponse114.0/TrialCount128.0/BlockTrialCount16.0/ReactionTime1699.0/Accuracy1.0/D90', 'Response/i75.0/s75.0/BigLetterh/SmallLetters/Taskg/TargetLetterh/Responded1.0/ParticipantResponse114.0/CorrectResponse114.0/TrialCount152.0/BlockTrialCount40.0/ReactionTime933.0/Accuracy1.0/D90', 'Response/i75.0/s75.0/BigLetterh/SmallLetters/Taskg/TargetLetterh/Responded1.0/ParticipantResponse114.0/CorrectResponse114.0/TrialCount157.0/BlockTrialCount45.0/ReactionTime1733.0/Accuracy1.0/D90', 'Response/i75.0/s75.0/BigLetterh/SmallLetters/Taskg/TargetLetterh/Responded1.0/ParticipantResponse114.0/CorrectResponse114.0/TrialCount164.0/BlockTrialCount52.0/ReactionTime1016.0/Accuracy1.0/D90', 'Response/i75.0/s75.0/BigLetterh/SmallLetters/Taskg/TargetLetterh/Responded1.0/ParticipantResponse114.0/CorrectResponse114.0/TrialCount166.0/BlockTrialCount54.0/ReactionTime1216.0/Accuracy1.0/D90', 'Response/i75.0/s75.0/BigLetterh/SmallLetters/Taskg/TargetLetterh/Responded1.0/ParticipantResponse114.0/CorrectResponse114.0/TrialCount181.0/BlockTrialCount69.0/ReactionTime1099.0/Accuracy1.0/D90', 'Response/i75.0/s75.0/BigLetterh/SmallLetters/Taskg/TargetLetterh/Responded1.0/ParticipantResponse114.0/CorrectResponse114.0/TrialCount183.0/BlockTrialCount71.0/ReactionTime1316.0/Accuracy1.0/D90', 'Response/i75.0/s75.0/BigLetterh/SmallLetters/Taskg/TargetLetterh/Responded1.0/ParticipantResponse114.0/CorrectResponse114.0/TrialCount186.0/BlockTrialCount74.0/ReactionTime1016.0/Accuracy1.0/D90', 'Response/i75.0/s75.0/BigLetterh/SmallLetters/Taskg/TargetLetterh/Responded1.0/ParticipantResponse114.0/CorrectResponse114.0/TrialCount191.0/BlockTrialCount79.0/ReactionTime1266.0/Accuracy1.0/D90', 'Response/i75.0/s75.0/BigLetterh/SmallLetters/Taskg/TargetLetterh/Responded1.0/ParticipantResponse114.0/CorrectResponse114.0/TrialCount210.0/BlockTrialCount98.0/ReactionTime916.0/Accuracy1.0/D90', 'Response/i75.0/s75.0/BigLetterh/SmallLetters/Taskg/TargetLetterh/Responded1.0/ParticipantResponse114.0/CorrectResponse114.0/TrialCount216.0/BlockTrialCount104.0/ReactionTime1199.0/Accuracy1.0/D90', 'Response/i75.0/s75.0/BigLetterh/SmallLetters/Taskg/TargetLetterh/Responded1.0/ParticipantResponse114.0/CorrectResponse114.0/TrialCount218.0/BlockTrialCount106.0/ReactionTime1416.0/Accuracy1.0/D90', 'Response/i75.0/s75.0/BigLetterh/SmallLetters/Taskg/TargetLetterh/Responded1.0/ParticipantResponse114.0/CorrectResponse114.0/TrialCount221.0/BlockTrialCount109.0/ReactionTime999.0/Accuracy1.0/D90', 'Response/i75.0/s75.0/BigLetterh/SmallLetters/Taskg/TargetLetterh/Responded1.0/ParticipantResponse114.0/CorrectResponse114.0/TrialCount223.0/BlockTrialCount111.0/ReactionTime1166.0/Accuracy1.0/D90', 'Response/i75.0/s75.0/BigLetterh/SmallLetters/Taskl/TargetLetters/Responded1.0/ParticipantResponse115.0/CorrectResponse115.0/TrialCount135.0/BlockTrialCount23.0/ReactionTime1633.0/Accuracy1.0/D90', 'Response/i75.0/s75.0/BigLetterh/SmallLetters/Taskl/TargetLetters/Responded1.0/ParticipantResponse115.0/CorrectResponse115.0/TrialCount137.0/BlockTrialCount25.0/ReactionTime1200.0/Accuracy1.0/D90', 'Response/i75.0/s75.0/BigLetterh/SmallLetters/Taskl/TargetLetters/Responded1.0/ParticipantResponse115.0/CorrectResponse115.0/TrialCount144.0/BlockTrialCount32.0/ReactionTime1799.0/Accuracy1.0/D90', 'Response/i75.0/s75.0/BigLetterh/SmallLetters/Taskl/TargetLetters/Responded1.0/ParticipantResponse115.0/CorrectResponse115.0/TrialCount147.0/BlockTrialCount35.0/ReactionTime1483.0/Accuracy1.0/D90', 'Response/i75.0/s75.0/BigLetterh/SmallLetters/Taskl/TargetLetters/Responded1.0/ParticipantResponse115.0/CorrectResponse115.0/TrialCount159.0/BlockTrialCount47.0/ReactionTime1633.0/Accuracy1.0/D90', 'Response/i75.0/s75.0/BigLetterh/SmallLetters/Taskl/TargetLetters/Responded1.0/ParticipantResponse115.0/CorrectResponse115.0/TrialCount161.0/BlockTrialCount49.0/ReactionTime1383.0/Accuracy1.0/D90', 'Response/i75.0/s75.0/BigLetterh/SmallLetters/Taskl/TargetLetters/Responded1.0/ParticipantResponse115.0/CorrectResponse115.0/TrialCount163.0/BlockTrialCount51.0/ReactionTime1183.0/Accuracy1.0/D90', 'Response/i75.0/s75.0/BigLetterh/SmallLetters/Taskl/TargetLetters/Responded1.0/ParticipantResponse115.0/CorrectResponse115.0/TrialCount177.0/BlockTrialCount65.0/ReactionTime1749.0/Accuracy1.0/D90', 'Response/i75.0/s75.0/BigLetterh/SmallLetters/Taskl/TargetLetters/Responded1.0/ParticipantResponse115.0/CorrectResponse115.0/TrialCount179.0/BlockTrialCount67.0/ReactionTime2066.0/Accuracy1.0/D90', 'Response/i75.0/s75.0/BigLetterh/SmallLetters/Taskl/TargetLetters/Responded1.0/ParticipantResponse115.0/CorrectResponse115.0/TrialCount188.0/BlockTrialCount76.0/ReactionTime1616.0/Accuracy1.0/D90', 'Response/i75.0/s75.0/BigLetterh/SmallLetters/Taskl/TargetLetters/Responded1.0/ParticipantResponse115.0/CorrectResponse115.0/TrialCount193.0/BlockTrialCount81.0/ReactionTime1350.0/Accuracy1.0/D90', 'Response/i75.0/s75.0/BigLetterh/SmallLetters/Taskl/TargetLetters/Responded1.0/ParticipantResponse115.0/CorrectResponse115.0/TrialCount197.0/BlockTrialCount85.0/ReactionTime1649.0/Accuracy1.0/D90', 'Response/i75.0/s75.0/BigLetterh/SmallLetters/Taskl/TargetLetters/Responded1.0/ParticipantResponse115.0/CorrectResponse115.0/TrialCount211.0/BlockTrialCount99.0/ReactionTime649.0/Accuracy1.0/D90', 'Response/i75.0/s75.0/BigLetterh/SmallLetters/Taskl/TargetLetters/Responded1.0/ParticipantResponse115.0/CorrectResponse115.0/TrialCount217.0/BlockTrialCount105.0/ReactionTime1333.0/Accuracy1.0/D90', 'Response/i75.0/s75.0/BigLetterh/SmallLetters/Taskl/TargetLetters/Responded1.0/ParticipantResponse115.0/CorrectResponse115.0/TrialCount220.0/BlockTrialCount108.0/ReactionTime783.0/Accuracy1.0/D90', 'Response/i75.0/s75.0/BigLetters/SmallLetterh/Taskg/TargetLetters/Responded1.0/ParticipantResponse114.0/CorrectResponse115.0/TrialCount203.0/BlockTrialCount91.0/ReactionTime1749.0/Accuracy0.0/D90', 'Response/i75.0/s75.0/BigLetters/SmallLetterh/Taskg/TargetLetters/Responded1.0/ParticipantResponse114.0/CorrectResponse115.0/TrialCount212.0/BlockTrialCount100.0/ReactionTime1049.0/Accuracy0.0/D90', 'Response/i75.0/s75.0/BigLetters/SmallLetterh/Taskg/TargetLetters/Responded1.0/ParticipantResponse115.0/CorrectResponse115.0/TrialCount116.0/BlockTrialCount4.0/ReactionTime816.0/Accuracy1.0/D90', 'Response/i75.0/s75.0/BigLetters/SmallLetterh/Taskg/TargetLetters/Responded1.0/ParticipantResponse115.0/CorrectResponse115.0/TrialCount120.0/BlockTrialCount8.0/ReactionTime1283.0/Accuracy1.0/D90', 'Response/i75.0/s75.0/BigLetters/SmallLetterh/Taskg/TargetLetters/Responded1.0/ParticipantResponse115.0/CorrectResponse115.0/TrialCount125.0/BlockTrialCount13.0/ReactionTime2099.0/Accuracy1.0/D90', 'Response/i75.0/s75.0/BigLetters/SmallLetterh/Taskg/TargetLetters/Responded1.0/ParticipantResponse115.0/CorrectResponse115.0/TrialCount130.0/BlockTrialCount18.0/ReactionTime1599.0/Accuracy1.0/D90', 'Response/i75.0/s75.0/BigLetters/SmallLetterh/Taskg/TargetLetters/Responded1.0/ParticipantResponse115.0/CorrectResponse115.0/TrialCount138.0/BlockTrialCount26.0/ReactionTime1683.0/Accuracy1.0/D90', 'Response/i75.0/s75.0/BigLetters/SmallLetterh/Taskg/TargetLetters/Responded1.0/ParticipantResponse115.0/CorrectResponse115.0/TrialCount140.0/BlockTrialCount28.0/ReactionTime1333.0/Accuracy1.0/D90', 'Response/i75.0/s75.0/BigLetters/SmallLetterh/Taskg/TargetLetters/Responded1.0/ParticipantResponse115.0/CorrectResponse115.0/TrialCount146.0/BlockTrialCount34.0/ReactionTime1533.0/Accuracy1.0/D90', 'Response/i75.0/s75.0/BigLetters/SmallLetterh/Taskg/TargetLetters/Responded1.0/ParticipantResponse115.0/CorrectResponse115.0/TrialCount150.0/BlockTrialCount38.0/ReactionTime1399.0/Accuracy1.0/D90', 'Response/i75.0/s75.0/BigLetters/SmallLetterh/Taskg/TargetLetters/Responded1.0/ParticipantResponse115.0/CorrectResponse115.0/TrialCount162.0/BlockTrialCount50.0/ReactionTime1683.0/Accuracy1.0/D90', 'Response/i75.0/s75.0/BigLetters/SmallLetterh/Taskg/TargetLetters/Responded1.0/ParticipantResponse115.0/CorrectResponse115.0/TrialCount170.0/BlockTrialCount58.0/ReactionTime1366.0/Accuracy1.0/D90', 'Response/i75.0/s75.0/BigLetters/SmallLetterh/Taskg/TargetLetters/Responded1.0/ParticipantResponse115.0/CorrectResponse115.0/TrialCount172.0/BlockTrialCount60.0/ReactionTime1399.0/Accuracy1.0/D90', 'Response/i75.0/s75.0/BigLetters/SmallLetterh/Taskg/TargetLetters/Responded1.0/ParticipantResponse115.0/CorrectResponse115.0/TrialCount198.0/BlockTrialCount86.0/ReactionTime1616.0/Accuracy1.0/D90', 'Response/i75.0/s75.0/BigLetters/SmallLetterh/Taskl/TargetLetterh/Responded1.0/ParticipantResponse114.0/CorrectResponse114.0/TrialCount115.0/BlockTrialCount3.0/ReactionTime1533.0/Accuracy1.0/D90', 'Response/i75.0/s75.0/BigLetters/SmallLetterh/Taskl/TargetLetterh/Responded1.0/ParticipantResponse114.0/CorrectResponse114.0/TrialCount119.0/BlockTrialCount7.0/ReactionTime1616.0/Accuracy1.0/D90', 'Response/i75.0/s75.0/BigLetters/SmallLetterh/Taskl/TargetLetterh/Responded1.0/ParticipantResponse114.0/CorrectResponse114.0/TrialCount121.0/BlockTrialCount9.0/ReactionTime1749.0/Accuracy1.0/D90', 'Response/i75.0/s75.0/BigLetters/SmallLetterh/Taskl/TargetLetterh/Responded1.0/ParticipantResponse114.0/CorrectResponse114.0/TrialCount127.0/BlockTrialCount15.0/ReactionTime1633.0/Accuracy1.0/D90', 'Response/i75.0/s75.0/BigLetters/SmallLetterh/Taskl/TargetLetterh/Responded1.0/ParticipantResponse114.0/CorrectResponse114.0/TrialCount129.0/BlockTrialCount17.0/ReactionTime1600.0/Accuracy1.0/D90', 'Response/i75.0/s75.0/BigLetters/SmallLetterh/Taskl/TargetLetterh/Responded1.0/ParticipantResponse114.0/CorrectResponse114.0/TrialCount142.0/BlockTrialCount30.0/ReactionTime1333.0/Accuracy1.0/D90', 'Response/i75.0/s75.0/BigLetters/SmallLetterh/Taskl/TargetLetterh/Responded1.0/ParticipantResponse114.0/CorrectResponse114.0/TrialCount154.0/BlockTrialCount42.0/ReactionTime1449.0/Accuracy1.0/D90', 'Response/i75.0/s75.0/BigLetters/SmallLetterh/Taskl/TargetLetterh/Responded1.0/ParticipantResponse114.0/CorrectResponse114.0/TrialCount165.0/BlockTrialCount53.0/ReactionTime1499.0/Accuracy1.0/D90', 'Response/i75.0/s75.0/BigLetters/SmallLetterh/Taskl/TargetLetterh/Responded1.0/ParticipantResponse114.0/CorrectResponse114.0/TrialCount168.0/BlockTrialCount56.0/ReactionTime1899.0/Accuracy1.0/D90', 'Response/i75.0/s75.0/BigLetters/SmallLetterh/Taskl/TargetLetterh/Responded1.0/ParticipantResponse114.0/CorrectResponse114.0/TrialCount171.0/BlockTrialCount59.0/ReactionTime1466.0/Accuracy1.0/D90', 'Response/i75.0/s75.0/BigLetters/SmallLetterh/Taskl/TargetLetterh/Responded1.0/ParticipantResponse114.0/CorrectResponse114.0/TrialCount173.0/BlockTrialCount61.0/ReactionTime1033.0/Accuracy1.0/D90', 'Response/i75.0/s75.0/BigLetters/SmallLetterh/Taskl/TargetLetterh/Responded1.0/ParticipantResponse114.0/CorrectResponse114.0/TrialCount195.0/BlockTrialCount83.0/ReactionTime1866.0/Accuracy1.0/D90', 'Response/i75.0/s75.0/BigLetters/SmallLetterh/Taskl/TargetLetterh/Responded1.0/ParticipantResponse114.0/CorrectResponse114.0/TrialCount200.0/BlockTrialCount88.0/ReactionTime1550.0/Accuracy1.0/D90', 'Response/i75.0/s75.0/BigLetters/SmallLetterh/Taskl/TargetLetterh/Responded1.0/ParticipantResponse114.0/CorrectResponse114.0/TrialCount204.0/BlockTrialCount92.0/ReactionTime1550.0/Accuracy1.0/D90', 'Response/i75.0/s75.0/BigLetters/SmallLetterh/Taskl/TargetLetterh/Responded1.0/ParticipantResponse114.0/CorrectResponse114.0/TrialCount208.0/BlockTrialCount96.0/ReactionTime666.0/Accuracy1.0/D90', 'Response/i75.0/s75.0/BigLetters/SmallLetterh/Taskl/TargetLetterh/Responded1.0/ParticipantResponse115.0/CorrectResponse114.0/TrialCount224.0/BlockTrialCount112.0/ReactionTime1400.0/Accuracy0.0/D90', 'Stimulus/c25.0/n25.0/BigLetterh/SmallLetterh/Taskg/TargetLetterh/Responded1.0/ParticipantResponse114.0/CorrectResponse114.0/TrialCount337.0/BlockTrialCount1.0/ReactionTime816.0/Accuracy1.0/D90', 'Stimulus/c25.0/n75.0/BigLetterh/SmallLetterh/Taskl/TargetLetterh/Responded1.0/ParticipantResponse114.0/CorrectResponse114.0/TrialCount225.0/BlockTrialCount1.0/ReactionTime1266.0/Accuracy1.0/D90', 'Stimulus/c25.0/r25.0/BigLetterh/SmallLetterh/Taskg/TargetLetterh/Responded1.0/ParticipantResponse114.0/CorrectResponse114.0/TrialCount340.0/BlockTrialCount4.0/ReactionTime616.0/Accuracy1.0/D90', 'Stimulus/c25.0/r25.0/BigLetterh/SmallLetterh/Taskg/TargetLetterh/Responded1.0/ParticipantResponse114.0/CorrectResponse114.0/TrialCount341.0/BlockTrialCount5.0/ReactionTime599.0/Accuracy1.0/D90', 'Stimulus/c25.0/r25.0/BigLetterh/SmallLetterh/Taskg/TargetLetterh/Responded1.0/ParticipantResponse114.0/CorrectResponse114.0/TrialCount342.0/BlockTrialCount6.0/ReactionTime600.0/Accuracy1.0/D90', 'Stimulus/c25.0/r25.0/BigLetterh/SmallLetterh/Taskg/TargetLetterh/Responded1.0/ParticipantResponse114.0/CorrectResponse114.0/TrialCount344.0/BlockTrialCount8.0/ReactionTime666.0/Accuracy1.0/D90', 'Stimulus/c25.0/r25.0/BigLetterh/SmallLetterh/Taskg/TargetLetterh/Responded1.0/ParticipantResponse114.0/CorrectResponse114.0/TrialCount364.0/BlockTrialCount28.0/ReactionTime1216.0/Accuracy1.0/D90', 'Stimulus/c25.0/r25.0/BigLetterh/SmallLetterh/Taskg/TargetLetterh/Responded1.0/ParticipantResponse114.0/CorrectResponse114.0/TrialCount382.0/BlockTrialCount46.0/ReactionTime849.0/Accuracy1.0/D90', 'Stimulus/c25.0/r25.0/BigLetterh/SmallLetterh/Taskg/TargetLetterh/Responded1.0/ParticipantResponse114.0/CorrectResponse114.0/TrialCount392.0/BlockTrialCount56.0/ReactionTime850.0/Accuracy1.0/D90', 'Stimulus/c25.0/r25.0/BigLetterh/SmallLetterh/Taskg/TargetLetterh/Responded1.0/ParticipantResponse114.0/CorrectResponse114.0/TrialCount398.0/BlockTrialCount62.0/ReactionTime800.0/Accuracy1.0/D90', 'Stimulus/c25.0/r25.0/BigLetterh/SmallLetterh/Taskg/TargetLetterh/Responded1.0/ParticipantResponse114.0/CorrectResponse114.0/TrialCount400.0/BlockTrialCount64.0/ReactionTime883.0/Accuracy1.0/D90', 'Stimulus/c25.0/r25.0/BigLetterh/SmallLetterh/Taskg/TargetLetterh/Responded1.0/ParticipantResponse114.0/CorrectResponse114.0/TrialCount403.0/BlockTrialCount67.0/ReactionTime899.0/Accuracy1.0/D90', 'Stimulus/c25.0/r25.0/BigLetterh/SmallLetterh/Taskg/TargetLetterh/Responded1.0/ParticipantResponse114.0/CorrectResponse114.0/TrialCount405.0/BlockTrialCount69.0/ReactionTime866.0/Accuracy1.0/D90', 'Stimulus/c25.0/r25.0/BigLetterh/SmallLetterh/Taskg/TargetLetterh/Responded1.0/ParticipantResponse114.0/CorrectResponse114.0/TrialCount418.0/BlockTrialCount82.0/ReactionTime666.0/Accuracy1.0/D90', 'Stimulus/c25.0/r25.0/BigLetterh/SmallLetterh/Taskg/TargetLetterh/Responded1.0/ParticipantResponse114.0/CorrectResponse114.0/TrialCount426.0/BlockTrialCount90.0/ReactionTime1033.0/Accuracy1.0/D90', 'Stimulus/c25.0/r25.0/BigLetterh/SmallLetterh/Taskg/TargetLetterh/Responded1.0/ParticipantResponse114.0/CorrectResponse114.0/TrialCount429.0/BlockTrialCount93.0/ReactionTime666.0/Accuracy1.0/D90', 'Stimulus/c25.0/r25.0/BigLetterh/SmallLetterh/Taskl/TargetLetterh/Responded1.0/ParticipantResponse114.0/CorrectResponse114.0/TrialCount353.0/BlockTrialCount17.0/ReactionTime1116.0/Accuracy1.0/D90', 'Stimulus/c25.0/r25.0/BigLetterh/SmallLetterh/Taskl/TargetLetterh/Responded1.0/ParticipantResponse114.0/CorrectResponse114.0/TrialCount354.0/BlockTrialCount18.0/ReactionTime1583.0/Accuracy1.0/D90', 'Stimulus/c25.0/r25.0/BigLetterh/SmallLetterh/Taskl/TargetLetterh/Responded1.0/ParticipantResponse114.0/CorrectResponse114.0/TrialCount357.0/BlockTrialCount21.0/ReactionTime1083.0/Accuracy1.0/D90', 'Stimulus/c25.0/r25.0/BigLetterh/SmallLetterh/Taskl/TargetLetterh/Responded1.0/ParticipantResponse114.0/CorrectResponse114.0/TrialCount361.0/BlockTrialCount25.0/ReactionTime883.0/Accuracy1.0/D90', 'Stimulus/c25.0/r25.0/BigLetterh/SmallLetterh/Taskl/TargetLetterh/Responded1.0/ParticipantResponse114.0/CorrectResponse114.0/TrialCount367.0/BlockTrialCount31.0/ReactionTime966.0/Accuracy1.0/D90', 'Stimulus/c25.0/r25.0/BigLetterh/SmallLetterh/Taskl/TargetLetterh/Responded1.0/ParticipantResponse114.0/CorrectResponse114.0/TrialCount368.0/BlockTrialCount32.0/ReactionTime949.0/Accuracy1.0/D90', 'Stimulus/c25.0/r25.0/BigLetterh/SmallLetterh/Taskl/TargetLetterh/Responded1.0/ParticipantResponse114.0/CorrectResponse114.0/TrialCount375.0/BlockTrialCount39.0/ReactionTime1000.0/Accuracy1.0/D90', 'Stimulus/c25.0/r25.0/BigLetterh/SmallLetterh/Taskl/TargetLetterh/Responded1.0/ParticipantResponse114.0/CorrectResponse114.0/TrialCount377.0/BlockTrialCount41.0/ReactionTime833.0/Accuracy1.0/D90', 'Stimulus/c25.0/r25.0/BigLetterh/SmallLetterh/Taskl/TargetLetterh/Responded1.0/ParticipantResponse114.0/CorrectResponse114.0/TrialCount378.0/BlockTrialCount42.0/ReactionTime1333.0/Accuracy1.0/D90', 'Stimulus/c25.0/r25.0/BigLetterh/SmallLetterh/Taskl/TargetLetterh/Responded1.0/ParticipantResponse114.0/CorrectResponse114.0/TrialCount379.0/BlockTrialCount43.0/ReactionTime816.0/Accuracy1.0/D90', 'Stimulus/c25.0/r25.0/BigLetterh/SmallLetterh/Taskl/TargetLetterh/Responded1.0/ParticipantResponse114.0/CorrectResponse114.0/TrialCount409.0/BlockTrialCount73.0/ReactionTime1799.0/Accuracy1.0/D90', 'Stimulus/c25.0/r25.0/BigLetterh/SmallLetterh/Taskl/TargetLetterh/Responded1.0/ParticipantResponse114.0/CorrectResponse114.0/TrialCount410.0/BlockTrialCount74.0/ReactionTime733.0/Accuracy1.0/D90', 'Stimulus/c25.0/r25.0/BigLetterh/SmallLetterh/Taskl/TargetLetterh/Responded1.0/ParticipantResponse114.0/CorrectResponse114.0/TrialCount435.0/BlockTrialCount99.0/ReactionTime1766.0/Accuracy1.0/D90', 'Stimulus/c25.0/r25.0/BigLetterh/SmallLetterh/Taskl/TargetLetterh/Responded1.0/ParticipantResponse114.0/CorrectResponse114.0/TrialCount436.0/BlockTrialCount100.0/ReactionTime1566.0/Accuracy1.0/D90', 'Stimulus/c25.0/r25.0/BigLetterh/SmallLetterh/Taskl/TargetLetterh/Responded1.0/ParticipantResponse114.0/CorrectResponse114.0/TrialCount438.0/BlockTrialCount102.0/ReactionTime1016.0/Accuracy1.0/D90', 'Stimulus/c25.0/r25.0/BigLetterh/SmallLetterh/Taskl/TargetLetterh/Responded1.0/ParticipantResponse114.0/CorrectResponse114.0/TrialCount439.0/BlockTrialCount103.0/ReactionTime849.0/Accuracy1.0/D90', 'Stimulus/c25.0/r25.0/BigLetterh/SmallLetterh/Taskl/TargetLetterh/Responded1.0/ParticipantResponse114.0/CorrectResponse114.0/TrialCount447.0/BlockTrialCount111.0/ReactionTime1649.0/Accuracy1.0/D90', 'Stimulus/c25.0/r25.0/BigLetters/SmallLetters/Taskg/TargetLetters/Responded1.0/ParticipantResponse114.0/CorrectResponse115.0/TrialCount339.0/BlockTrialCount3.0/ReactionTime700.0/Accuracy0.0/D90', 'Stimulus/c25.0/r25.0/BigLetters/SmallLetters/Taskg/TargetLetters/Responded1.0/ParticipantResponse115.0/CorrectResponse115.0/TrialCount343.0/BlockTrialCount7.0/ReactionTime649.0/Accuracy1.0/D90', 'Stimulus/c25.0/r25.0/BigLetters/SmallLetters/Taskg/TargetLetters/Responded1.0/ParticipantResponse115.0/CorrectResponse115.0/TrialCount345.0/BlockTrialCount9.0/ReactionTime649.0/Accuracy1.0/D90', 'Stimulus/c25.0/r25.0/BigLetters/SmallLetters/Taskg/TargetLetters/Responded1.0/ParticipantResponse115.0/CorrectResponse115.0/TrialCount363.0/BlockTrialCount27.0/ReactionTime1049.0/Accuracy1.0/D90', 'Stimulus/c25.0/r25.0/BigLetters/SmallLetters/Taskg/TargetLetters/Responded1.0/ParticipantResponse115.0/CorrectResponse115.0/TrialCount365.0/BlockTrialCount29.0/ReactionTime1067.0/Accuracy1.0/D90', 'Stimulus/c25.0/r25.0/BigLetters/SmallLetters/Taskg/TargetLetters/Responded1.0/ParticipantResponse115.0/CorrectResponse115.0/TrialCount381.0/BlockTrialCount45.0/ReactionTime716.0/Accuracy1.0/D90', 'Stimulus/c25.0/r25.0/BigLetters/SmallLetters/Taskg/TargetLetters/Responded1.0/ParticipantResponse115.0/CorrectResponse115.0/TrialCount383.0/BlockTrialCount47.0/ReactionTime816.0/Accuracy1.0/D90', 'Stimulus/c25.0/r25.0/BigLetters/SmallLetters/Taskg/TargetLetters/Responded1.0/ParticipantResponse115.0/CorrectResponse115.0/TrialCount399.0/BlockTrialCount63.0/ReactionTime899.0/Accuracy1.0/D90', 'Stimulus/c25.0/r25.0/BigLetters/SmallLetters/Taskg/TargetLetters/Responded1.0/ParticipantResponse115.0/CorrectResponse115.0/TrialCount401.0/BlockTrialCount65.0/ReactionTime650.0/Accuracy1.0/D90', 'Stimulus/c25.0/r25.0/BigLetters/SmallLetters/Taskg/TargetLetters/Responded1.0/ParticipantResponse115.0/CorrectResponse115.0/TrialCount404.0/BlockTrialCount68.0/ReactionTime1016.0/Accuracy1.0/D90', 'Stimulus/c25.0/r25.0/BigLetters/SmallLetters/Taskg/TargetLetters/Responded1.0/ParticipantResponse115.0/CorrectResponse115.0/TrialCount406.0/BlockTrialCount70.0/ReactionTime666.0/Accuracy1.0/D90', 'Stimulus/c25.0/r25.0/BigLetters/SmallLetters/Taskg/TargetLetters/Responded1.0/ParticipantResponse115.0/CorrectResponse115.0/TrialCount407.0/BlockTrialCount71.0/ReactionTime1399.0/Accuracy1.0/D90', 'Stimulus/c25.0/r25.0/BigLetters/SmallLetters/Taskg/TargetLetters/Responded1.0/ParticipantResponse115.0/CorrectResponse115.0/TrialCount415.0/BlockTrialCount79.0/ReactionTime1100.0/Accuracy1.0/D90', 'Stimulus/c25.0/r25.0/BigLetters/SmallLetters/Taskg/TargetLetters/Responded1.0/ParticipantResponse115.0/CorrectResponse115.0/TrialCount425.0/BlockTrialCount89.0/ReactionTime1499.0/Accuracy1.0/D90', 'Stimulus/c25.0/r25.0/BigLetters/SmallLetters/Taskg/TargetLetters/Responded1.0/ParticipantResponse115.0/CorrectResponse115.0/TrialCount431.0/BlockTrialCount95.0/ReactionTime1066.0/Accuracy1.0/D90', 'Stimulus/c25.0/r25.0/BigLetters/SmallLetters/Taskg/TargetLetters/Responded1.0/ParticipantResponse115.0/CorrectResponse115.0/TrialCount443.0/BlockTrialCount107.0/ReactionTime1183.0/Accuracy1.0/D90', 'Stimulus/c25.0/r25.0/BigLetters/SmallLetters/Taskg/TargetLetters/Responded1.0/ParticipantResponse115.0/CorrectResponse115.0/TrialCount444.0/BlockTrialCount108.0/ReactionTime1349.0/Accuracy1.0/D90', 'Stimulus/c25.0/r25.0/BigLetters/SmallLetters/Taskl/TargetLetters/Responded1.0/ParticipantResponse115.0/CorrectResponse115.0/TrialCount350.0/BlockTrialCount14.0/ReactionTime666.0/Accuracy1.0/D90', 'Stimulus/c25.0/r25.0/BigLetters/SmallLetters/Taskl/TargetLetters/Responded1.0/ParticipantResponse115.0/CorrectResponse115.0/TrialCount352.0/BlockTrialCount16.0/ReactionTime916.0/Accuracy1.0/D90', 'Stimulus/c25.0/r25.0/BigLetters/SmallLetters/Taskl/TargetLetters/Responded1.0/ParticipantResponse115.0/CorrectResponse115.0/TrialCount355.0/BlockTrialCount19.0/ReactionTime1000.0/Accuracy1.0/D90', 'Stimulus/c25.0/r25.0/BigLetters/SmallLetters/Taskl/TargetLetters/Responded1.0/ParticipantResponse115.0/CorrectResponse115.0/TrialCount369.0/BlockTrialCount33.0/ReactionTime916.0/Accuracy1.0/D90', 'Stimulus/c25.0/r25.0/BigLetters/SmallLetters/Taskl/TargetLetters/Responded1.0/ParticipantResponse115.0/CorrectResponse115.0/TrialCount370.0/BlockTrialCount34.0/ReactionTime1033.0/Accuracy1.0/D90', 'Stimulus/c25.0/r25.0/BigLetters/SmallLetters/Taskl/TargetLetters/Responded1.0/ParticipantResponse115.0/CorrectResponse115.0/TrialCount374.0/BlockTrialCount38.0/ReactionTime933.0/Accuracy1.0/D90', 'Stimulus/c25.0/r25.0/BigLetters/SmallLetters/Taskl/TargetLetters/Responded1.0/ParticipantResponse115.0/CorrectResponse115.0/TrialCount387.0/BlockTrialCount51.0/ReactionTime849.0/Accuracy1.0/D90', 'Stimulus/c25.0/r25.0/BigLetters/SmallLetters/Taskl/TargetLetters/Responded1.0/ParticipantResponse115.0/CorrectResponse115.0/TrialCount390.0/BlockTrialCount54.0/ReactionTime916.0/Accuracy1.0/D90', 'Stimulus/c25.0/r25.0/BigLetters/SmallLetters/Taskl/TargetLetters/Responded1.0/ParticipantResponse115.0/CorrectResponse115.0/TrialCount394.0/BlockTrialCount58.0/ReactionTime783.0/Accuracy1.0/D90', 'Stimulus/c25.0/r25.0/BigLetters/SmallLetters/Taskl/TargetLetters/Responded1.0/ParticipantResponse115.0/CorrectResponse115.0/TrialCount422.0/BlockTrialCount86.0/ReactionTime1333.0/Accuracy1.0/D90', 'Stimulus/c25.0/r25.0/BigLetters/SmallLetters/Taskl/TargetLetters/Responded1.0/ParticipantResponse115.0/CorrectResponse115.0/TrialCount423.0/BlockTrialCount87.0/ReactionTime666.0/Accuracy1.0/D90', 'Stimulus/c25.0/r25.0/BigLetters/SmallLetters/Taskl/TargetLetters/Responded1.0/ParticipantResponse115.0/CorrectResponse115.0/TrialCount433.0/BlockTrialCount97.0/ReactionTime1749.0/Accuracy1.0/D90', 'Stimulus/c25.0/r25.0/BigLetters/SmallLetters/Taskl/TargetLetters/Responded1.0/ParticipantResponse115.0/CorrectResponse115.0/TrialCount434.0/BlockTrialCount98.0/ReactionTime866.0/Accuracy1.0/D90', 'Stimulus/c25.0/r25.0/BigLetters/SmallLetters/Taskl/TargetLetters/Responded1.0/ParticipantResponse115.0/CorrectResponse115.0/TrialCount448.0/BlockTrialCount112.0/ReactionTime950.0/Accuracy1.0/D90', 'Stimulus/c25.0/r75.0/BigLetterh/SmallLetterh/Taskg/TargetLetterh/Responded1.0/ParticipantResponse114.0/CorrectResponse114.0/TrialCount257.0/BlockTrialCount33.0/ReactionTime1266.0/Accuracy1.0/D90', 'Stimulus/c25.0/r75.0/BigLetterh/SmallLetterh/Taskg/TargetLetterh/Responded1.0/ParticipantResponse114.0/CorrectResponse114.0/TrialCount282.0/BlockTrialCount58.0/ReactionTime1049.0/Accuracy1.0/D90', 'Stimulus/c25.0/r75.0/BigLetterh/SmallLetterh/Taskl/TargetLetterh/Responded1.0/ParticipantResponse114.0/CorrectResponse114.0/TrialCount237.0/BlockTrialCount13.0/ReactionTime1516.0/Accuracy1.0/D90', 'Stimulus/c25.0/r75.0/BigLetterh/SmallLetterh/Taskl/TargetLetterh/Responded1.0/ParticipantResponse114.0/CorrectResponse114.0/TrialCount244.0/BlockTrialCount20.0/ReactionTime1249.0/Accuracy1.0/D90', 'Stimulus/c25.0/r75.0/BigLetterh/SmallLetterh/Taskl/TargetLetterh/Responded1.0/ParticipantResponse114.0/CorrectResponse114.0/TrialCount286.0/BlockTrialCount62.0/ReactionTime933.0/Accuracy1.0/D90', 'Stimulus/c25.0/r75.0/BigLetterh/SmallLetterh/Taskl/TargetLetterh/Responded1.0/ParticipantResponse114.0/CorrectResponse114.0/TrialCount317.0/BlockTrialCount93.0/ReactionTime1399.0/Accuracy1.0/D90', 'Stimulus/c25.0/r75.0/BigLetterh/SmallLetterh/Taskl/TargetLetterh/Responded1.0/ParticipantResponse114.0/CorrectResponse114.0/TrialCount320.0/BlockTrialCount96.0/ReactionTime949.0/Accuracy1.0/D90', 'Stimulus/c25.0/r75.0/BigLetters/SmallLetters/Taskg/TargetLetters/Responded1.0/ParticipantResponse115.0/CorrectResponse115.0/TrialCount227.0/BlockTrialCount3.0/ReactionTime983.0/Accuracy1.0/D90', 'Stimulus/c25.0/r75.0/BigLetters/SmallLetters/Taskg/TargetLetters/Responded1.0/ParticipantResponse115.0/CorrectResponse115.0/TrialCount228.0/BlockTrialCount4.0/ReactionTime916.0/Accuracy1.0/D90', 'Stimulus/c25.0/r75.0/BigLetters/SmallLetters/Taskg/TargetLetters/Responded1.0/ParticipantResponse115.0/CorrectResponse115.0/TrialCount241.0/BlockTrialCount17.0/ReactionTime1666.0/Accuracy1.0/D90', 'Stimulus/c25.0/r75.0/BigLetters/SmallLetters/Taskg/TargetLetters/Responded1.0/ParticipantResponse115.0/CorrectResponse115.0/TrialCount272.0/BlockTrialCount48.0/ReactionTime1049.0/Accuracy1.0/D90', 'Stimulus/c25.0/r75.0/BigLetters/SmallLetters/Taskg/TargetLetters/Responded1.0/ParticipantResponse115.0/CorrectResponse115.0/TrialCount281.0/BlockTrialCount57.0/ReactionTime1716.0/Accuracy1.0/D90', 'Stimulus/c25.0/r75.0/BigLetters/SmallLetters/Taskg/TargetLetters/Responded1.0/ParticipantResponse115.0/CorrectResponse115.0/TrialCount296.0/BlockTrialCount72.0/ReactionTime1083.0/Accuracy1.0/D90', 'Stimulus/c25.0/r75.0/BigLetters/SmallLetters/Taskg/TargetLetters/Responded1.0/ParticipantResponse115.0/CorrectResponse115.0/TrialCount305.0/BlockTrialCount81.0/ReactionTime1583.0/Accuracy1.0/D90', 'Stimulus/c25.0/r75.0/BigLetters/SmallLetters/Taskg/TargetLetters/Responded1.0/ParticipantResponse115.0/CorrectResponse115.0/TrialCount308.0/BlockTrialCount84.0/ReactionTime1566.0/Accuracy1.0/D90', 'Stimulus/c25.0/r75.0/BigLetters/SmallLetters/Taskg/TargetLetters/Responded1.0/ParticipantResponse115.0/CorrectResponse115.0/TrialCount325.0/BlockTrialCount101.0/ReactionTime1083.0/Accuracy1.0/D90', 'Stimulus/c25.0/r75.0/BigLetters/SmallLetters/Taskl/TargetLetters/Responded1.0/ParticipantResponse115.0/CorrectResponse115.0/TrialCount230.0/BlockTrialCount6.0/ReactionTime633.0/Accuracy1.0/D90', 'Stimulus/c25.0/r75.0/BigLetters/SmallLetters/Taskl/TargetLetters/Responded1.0/ParticipantResponse115.0/CorrectResponse115.0/TrialCount247.0/BlockTrialCount23.0/ReactionTime799.0/Accuracy1.0/D90', 'Stimulus/c25.0/r75.0/BigLetters/SmallLetters/Taskl/TargetLetters/Responded1.0/ParticipantResponse115.0/CorrectResponse115.0/TrialCount267.0/BlockTrialCount43.0/ReactionTime1600.0/Accuracy1.0/D90', 'Stimulus/c25.0/r75.0/BigLetters/SmallLetters/Taskl/TargetLetters/Responded1.0/ParticipantResponse115.0/CorrectResponse115.0/TrialCount323.0/BlockTrialCount99.0/ReactionTime1066.0/Accuracy1.0/D90', 'Stimulus/c25.0/r75.0/BigLetters/SmallLetters/Taskl/TargetLetters/Responded1.0/ParticipantResponse115.0/CorrectResponse115.0/TrialCount329.0/BlockTrialCount105.0/ReactionTime883.0/Accuracy1.0/D90', 'Stimulus/c25.0/s25.0/BigLetterh/SmallLetterh/Taskg/TargetLetterh/Responded1.0/ParticipantResponse114.0/CorrectResponse114.0/TrialCount380.0/BlockTrialCount44.0/ReactionTime1650.0/Accuracy1.0/D90', 'Stimulus/c25.0/s25.0/BigLetterh/SmallLetterh/Taskg/TargetLetterh/Responded1.0/ParticipantResponse114.0/CorrectResponse114.0/TrialCount385.0/BlockTrialCount49.0/ReactionTime766.0/Accuracy1.0/D90', 'Stimulus/c25.0/s25.0/BigLetterh/SmallLetterh/Taskg/TargetLetterh/Responded1.0/ParticipantResponse114.0/CorrectResponse114.0/TrialCount395.0/BlockTrialCount59.0/ReactionTime1283.0/Accuracy1.0/D90', 'Stimulus/c25.0/s25.0/BigLetterh/SmallLetterh/Taskg/TargetLetterh/Responded1.0/ParticipantResponse114.0/CorrectResponse114.0/TrialCount414.0/BlockTrialCount78.0/ReactionTime833.0/Accuracy1.0/D90', 'Stimulus/c25.0/s25.0/BigLetterh/SmallLetterh/Taskg/TargetLetterh/Responded1.0/ParticipantResponse114.0/CorrectResponse114.0/TrialCount420.0/BlockTrialCount84.0/ReactionTime733.0/Accuracy1.0/D90', 'Stimulus/c25.0/s25.0/BigLetterh/SmallLetterh/Taskg/TargetLetterh/Responded1.0/ParticipantResponse114.0/CorrectResponse114.0/TrialCount428.0/BlockTrialCount92.0/ReactionTime916.0/Accuracy1.0/D90', 'Stimulus/c25.0/s25.0/BigLetterh/SmallLetterh/Taskl/TargetLetterh/Responded1.0/ParticipantResponse114.0/CorrectResponse114.0/TrialCount347.0/BlockTrialCount11.0/ReactionTime2050.0/Accuracy1.0/D90', 'Stimulus/c25.0/s25.0/BigLetterh/SmallLetterh/Taskl/TargetLetterh/Responded1.0/ParticipantResponse114.0/CorrectResponse114.0/TrialCount372.0/BlockTrialCount36.0/ReactionTime1683.0/Accuracy1.0/D90', 'Stimulus/c25.0/s25.0/BigLetterh/SmallLetterh/Taskl/TargetLetterh/Responded1.0/ParticipantResponse114.0/CorrectResponse114.0/TrialCount386.0/BlockTrialCount50.0/ReactionTime1150.0/Accuracy1.0/D90', 'Stimulus/c25.0/s25.0/BigLetterh/SmallLetterh/Taskl/TargetLetterh/Responded1.0/ParticipantResponse114.0/CorrectResponse114.0/TrialCount408.0/BlockTrialCount72.0/ReactionTime1266.0/Accuracy1.0/D90', 'Stimulus/c25.0/s25.0/BigLetterh/SmallLetterh/Taskl/TargetLetterh/Responded1.0/ParticipantResponse114.0/CorrectResponse114.0/TrialCount419.0/BlockTrialCount83.0/ReactionTime1283.0/Accuracy1.0/D90', 'Stimulus/c25.0/s25.0/BigLetterh/SmallLetterh/Taskl/TargetLetterh/Responded1.0/ParticipantResponse114.0/CorrectResponse114.0/TrialCount432.0/BlockTrialCount96.0/ReactionTime1549.0/Accuracy1.0/D90', 'Stimulus/c25.0/s25.0/BigLetterh/SmallLetterh/Taskl/TargetLetterh/Responded1.0/ParticipantResponse115.0/CorrectResponse114.0/TrialCount393.0/BlockTrialCount57.0/ReactionTime1250.0/Accuracy0.0/D90', 'Stimulus/c25.0/s25.0/BigLetterh/SmallLetterh/Taskl/TargetLetterh/Responded1.0/ParticipantResponse115.0/CorrectResponse114.0/TrialCount446.0/BlockTrialCount110.0/ReactionTime1816.0/Accuracy0.0/D90', 'Stimulus/c25.0/s25.0/BigLetters/SmallLetters/Taskg/TargetLetters/Responded1.0/ParticipantResponse114.0/CorrectResponse115.0/TrialCount391.0/BlockTrialCount55.0/ReactionTime2333.0/Accuracy0.0/D90', 'Stimulus/c25.0/s25.0/BigLetters/SmallLetters/Taskg/TargetLetters/Responded1.0/ParticipantResponse115.0/CorrectResponse115.0/TrialCount362.0/BlockTrialCount26.0/ReactionTime1733.0/Accuracy1.0/D90', 'Stimulus/c25.0/s25.0/BigLetters/SmallLetters/Taskg/TargetLetters/Responded1.0/ParticipantResponse115.0/CorrectResponse115.0/TrialCount440.0/BlockTrialCount104.0/ReactionTime1366.0/Accuracy1.0/D90', 'Stimulus/c25.0/s25.0/BigLetters/SmallLetters/Taskl/TargetLetters/Responded1.0/ParticipantResponse114.0/CorrectResponse115.0/TrialCount384.0/BlockTrialCount48.0/ReactionTime2216.0/Accuracy0.0/D90', 'Stimulus/c25.0/s25.0/BigLetters/SmallLetters/Taskl/TargetLetters/Responded1.0/ParticipantResponse115.0/CorrectResponse115.0/TrialCount349.0/BlockTrialCount13.0/ReactionTime1816.0/Accuracy1.0/D90', 'Stimulus/c25.0/s25.0/BigLetters/SmallLetters/Taskl/TargetLetters/Responded1.0/ParticipantResponse115.0/CorrectResponse115.0/TrialCount366.0/BlockTrialCount30.0/ReactionTime1266.0/Accuracy1.0/D90', 'Stimulus/c25.0/s25.0/BigLetters/SmallLetters/Taskl/TargetLetters/Responded1.0/ParticipantResponse115.0/CorrectResponse115.0/TrialCount427.0/BlockTrialCount91.0/ReactionTime1000.0/Accuracy1.0/D90', 'Stimulus/c25.0/s75.0/BigLetterh/SmallLetterh/Taskg/TargetLetterh/Responded1.0/ParticipantResponse114.0/CorrectResponse114.0/TrialCount226.0/BlockTrialCount2.0/ReactionTime1183.0/Accuracy1.0/D90', 'Stimulus/c25.0/s75.0/BigLetterh/SmallLetterh/Taskg/TargetLetterh/Responded1.0/ParticipantResponse114.0/CorrectResponse114.0/TrialCount231.0/BlockTrialCount7.0/ReactionTime1116.0/Accuracy1.0/D90', 'Stimulus/c25.0/s75.0/BigLetterh/SmallLetterh/Taskg/TargetLetterh/Responded1.0/ParticipantResponse114.0/CorrectResponse114.0/TrialCount233.0/BlockTrialCount9.0/ReactionTime983.0/Accuracy1.0/D90', 'Stimulus/c25.0/s75.0/BigLetterh/SmallLetterh/Taskg/TargetLetterh/Responded1.0/ParticipantResponse114.0/CorrectResponse114.0/TrialCount235.0/BlockTrialCount11.0/ReactionTime1166.0/Accuracy1.0/D90', 'Stimulus/c25.0/s75.0/BigLetterh/SmallLetterh/Taskg/TargetLetterh/Responded1.0/ParticipantResponse114.0/CorrectResponse114.0/TrialCount248.0/BlockTrialCount24.0/ReactionTime900.0/Accuracy1.0/D90', 'Stimulus/c25.0/s75.0/BigLetterh/SmallLetterh/Taskg/TargetLetterh/Responded1.0/ParticipantResponse114.0/CorrectResponse114.0/TrialCount265.0/BlockTrialCount41.0/ReactionTime1116.0/Accuracy1.0/D90', 'Stimulus/c25.0/s75.0/BigLetterh/SmallLetterh/Taskg/TargetLetterh/Responded1.0/ParticipantResponse114.0/CorrectResponse114.0/TrialCount269.0/BlockTrialCount45.0/ReactionTime1400.0/Accuracy1.0/D90', 'Stimulus/c25.0/s75.0/BigLetterh/SmallLetterh/Taskg/TargetLetterh/Responded1.0/ParticipantResponse114.0/CorrectResponse114.0/TrialCount275.0/BlockTrialCount51.0/ReactionTime1084.0/Accuracy1.0/D90', 'Stimulus/c25.0/s75.0/BigLetterh/SmallLetterh/Taskg/TargetLetterh/Responded1.0/ParticipantResponse114.0/CorrectResponse114.0/TrialCount284.0/BlockTrialCount60.0/ReactionTime799.0/Accuracy1.0/D90', 'Stimulus/c25.0/s75.0/BigLetterh/SmallLetterh/Taskg/TargetLetterh/Responded1.0/ParticipantResponse114.0/CorrectResponse114.0/TrialCount291.0/BlockTrialCount67.0/ReactionTime1300.0/Accuracy1.0/D90', 'Stimulus/c25.0/s75.0/BigLetterh/SmallLetterh/Taskg/TargetLetterh/Responded1.0/ParticipantResponse114.0/CorrectResponse114.0/TrialCount293.0/BlockTrialCount69.0/ReactionTime950.0/Accuracy1.0/D90', 'Stimulus/c25.0/s75.0/BigLetterh/SmallLetterh/Taskg/TargetLetterh/Responded1.0/ParticipantResponse114.0/CorrectResponse114.0/TrialCount295.0/BlockTrialCount71.0/ReactionTime899.0/Accuracy1.0/D90', 'Stimulus/c25.0/s75.0/BigLetterh/SmallLetterh/Taskg/TargetLetterh/Responded1.0/ParticipantResponse114.0/CorrectResponse114.0/TrialCount300.0/BlockTrialCount76.0/ReactionTime883.0/Accuracy1.0/D90', 'Stimulus/c25.0/s75.0/BigLetterh/SmallLetterh/Taskg/TargetLetterh/Responded1.0/ParticipantResponse114.0/CorrectResponse114.0/TrialCount310.0/BlockTrialCount86.0/ReactionTime866.0/Accuracy1.0/D90', 'Stimulus/c25.0/s75.0/BigLetterh/SmallLetterh/Taskg/TargetLetterh/Responded1.0/ParticipantResponse114.0/CorrectResponse114.0/TrialCount312.0/BlockTrialCount88.0/ReactionTime933.0/Accuracy1.0/D90', 'Stimulus/c25.0/s75.0/BigLetterh/SmallLetterh/Taskg/TargetLetterh/Responded1.0/ParticipantResponse114.0/CorrectResponse114.0/TrialCount321.0/BlockTrialCount97.0/ReactionTime666.0/Accuracy1.0/D90', 'Stimulus/c25.0/s75.0/BigLetterh/SmallLetterh/Taskg/TargetLetterh/Responded1.0/ParticipantResponse114.0/CorrectResponse114.0/TrialCount324.0/BlockTrialCount100.0/ReactionTime699.0/Accuracy1.0/D90', 'Stimulus/c25.0/s75.0/BigLetterh/SmallLetterh/Taskg/TargetLetterh/Responded1.0/ParticipantResponse114.0/CorrectResponse114.0/TrialCount327.0/BlockTrialCount103.0/ReactionTime633.0/Accuracy1.0/D90', 'Stimulus/c25.0/s75.0/BigLetterh/SmallLetterh/Taskg/TargetLetterh/Responded1.0/ParticipantResponse114.0/CorrectResponse114.0/TrialCount336.0/BlockTrialCount112.0/ReactionTime933.0/Accuracy1.0/D90', 'Stimulus/c25.0/s75.0/BigLetterh/SmallLetterh/Taskl/TargetLetterh/Responded0.0/ParticipantResponsenan/CorrectResponse114.0/TrialCount290.0/BlockTrialCount66.0/ReactionTimenan/Accuracy0.0/D90', 'Stimulus/c25.0/s75.0/BigLetterh/SmallLetterh/Taskl/TargetLetterh/Responded1.0/ParticipantResponse114.0/CorrectResponse114.0/TrialCount232.0/BlockTrialCount8.0/ReactionTime1483.0/Accuracy1.0/D90', 'Stimulus/c25.0/s75.0/BigLetterh/SmallLetterh/Taskl/TargetLetterh/Responded1.0/ParticipantResponse114.0/CorrectResponse114.0/TrialCount251.0/BlockTrialCount27.0/ReactionTime1833.0/Accuracy1.0/D90', 'Stimulus/c25.0/s75.0/BigLetterh/SmallLetterh/Taskl/TargetLetterh/Responded1.0/ParticipantResponse114.0/CorrectResponse114.0/TrialCount262.0/BlockTrialCount38.0/ReactionTime1716.0/Accuracy1.0/D90', 'Stimulus/c25.0/s75.0/BigLetterh/SmallLetterh/Taskl/TargetLetterh/Responded1.0/ParticipantResponse114.0/CorrectResponse114.0/TrialCount266.0/BlockTrialCount42.0/ReactionTime1366.0/Accuracy1.0/D90', 'Stimulus/c25.0/s75.0/BigLetterh/SmallLetterh/Taskl/TargetLetterh/Responded1.0/ParticipantResponse114.0/CorrectResponse114.0/TrialCount279.0/BlockTrialCount55.0/ReactionTime1616.0/Accuracy1.0/D90', 'Stimulus/c25.0/s75.0/BigLetterh/SmallLetterh/Taskl/TargetLetterh/Responded1.0/ParticipantResponse114.0/CorrectResponse114.0/TrialCount285.0/BlockTrialCount61.0/ReactionTime1366.0/Accuracy1.0/D90', 'Stimulus/c25.0/s75.0/BigLetterh/SmallLetterh/Taskl/TargetLetterh/Responded1.0/ParticipantResponse114.0/CorrectResponse114.0/TrialCount294.0/BlockTrialCount70.0/ReactionTime1516.0/Accuracy1.0/D90', 'Stimulus/c25.0/s75.0/BigLetterh/SmallLetterh/Taskl/TargetLetterh/Responded1.0/ParticipantResponse114.0/CorrectResponse114.0/TrialCount303.0/BlockTrialCount79.0/ReactionTime1999.0/Accuracy1.0/D90', 'Stimulus/c25.0/s75.0/BigLetterh/SmallLetterh/Taskl/TargetLetterh/Responded1.0/ParticipantResponse114.0/CorrectResponse114.0/TrialCount311.0/BlockTrialCount87.0/ReactionTime1716.0/Accuracy1.0/D90', 'Stimulus/c25.0/s75.0/BigLetterh/SmallLetterh/Taskl/TargetLetterh/Responded1.0/ParticipantResponse114.0/CorrectResponse114.0/TrialCount313.0/BlockTrialCount89.0/ReactionTime1633.0/Accuracy1.0/D90', 'Stimulus/c25.0/s75.0/BigLetterh/SmallLetterh/Taskl/TargetLetterh/Responded1.0/ParticipantResponse114.0/CorrectResponse114.0/TrialCount319.0/BlockTrialCount95.0/ReactionTime1166.0/Accuracy1.0/D90', 'Stimulus/c25.0/s75.0/BigLetterh/SmallLetterh/Taskl/TargetLetterh/Responded1.0/ParticipantResponse114.0/CorrectResponse114.0/TrialCount328.0/BlockTrialCount104.0/ReactionTime666.0/Accuracy1.0/D90', 'Stimulus/c25.0/s75.0/BigLetterh/SmallLetterh/Taskl/TargetLetterh/Responded1.0/ParticipantResponse114.0/CorrectResponse114.0/TrialCount335.0/BlockTrialCount111.0/ReactionTime1516.0/Accuracy1.0/D90', 'Stimulus/c25.0/s75.0/BigLetterh/SmallLetterh/Taskl/TargetLetterh/Responded1.0/ParticipantResponse115.0/CorrectResponse114.0/TrialCount333.0/BlockTrialCount109.0/ReactionTime1383.0/Accuracy0.0/D90', 'Stimulus/c25.0/s75.0/BigLetters/SmallLetters/Taskg/TargetLetters/Responded1.0/ParticipantResponse114.0/CorrectResponse115.0/TrialCount318.0/BlockTrialCount94.0/ReactionTime1483.0/Accuracy0.0/D90', 'Stimulus/c25.0/s75.0/BigLetters/SmallLetters/Taskg/TargetLetters/Responded1.0/ParticipantResponse115.0/CorrectResponse115.0/TrialCount250.0/BlockTrialCount26.0/ReactionTime1966.0/Accuracy1.0/D90', 'Stimulus/c25.0/s75.0/BigLetters/SmallLetters/Taskg/TargetLetters/Responded1.0/ParticipantResponse115.0/CorrectResponse115.0/TrialCount252.0/BlockTrialCount28.0/ReactionTime1666.0/Accuracy1.0/D90', 'Stimulus/c25.0/s75.0/BigLetters/SmallLetters/Taskg/TargetLetters/Responded1.0/ParticipantResponse115.0/CorrectResponse115.0/TrialCount256.0/BlockTrialCount32.0/ReactionTime1683.0/Accuracy1.0/D90', 'Stimulus/c25.0/s75.0/BigLetters/SmallLetters/Taskg/TargetLetters/Responded1.0/ParticipantResponse115.0/CorrectResponse115.0/TrialCount259.0/BlockTrialCount35.0/ReactionTime1733.0/Accuracy1.0/D90', 'Stimulus/c25.0/s75.0/BigLetters/SmallLetters/Taskg/TargetLetters/Responded1.0/ParticipantResponse115.0/CorrectResponse115.0/TrialCount261.0/BlockTrialCount37.0/ReactionTime1516.0/Accuracy1.0/D90', 'Stimulus/c25.0/s75.0/BigLetters/SmallLetters/Taskg/TargetLetters/Responded1.0/ParticipantResponse115.0/CorrectResponse115.0/TrialCount278.0/BlockTrialCount54.0/ReactionTime1116.0/Accuracy1.0/D90', 'Stimulus/c25.0/s75.0/BigLetters/SmallLetters/Taskg/TargetLetters/Responded1.0/ParticipantResponse115.0/CorrectResponse115.0/TrialCount287.0/BlockTrialCount63.0/ReactionTime1566.0/Accuracy1.0/D90', 'Stimulus/c25.0/s75.0/BigLetters/SmallLetters/Taskg/TargetLetters/Responded1.0/ParticipantResponse115.0/CorrectResponse115.0/TrialCount289.0/BlockTrialCount65.0/ReactionTime1133.0/Accuracy1.0/D90', 'Stimulus/c25.0/s75.0/BigLetters/SmallLetters/Taskg/TargetLetters/Responded1.0/ParticipantResponse115.0/CorrectResponse115.0/TrialCount298.0/BlockTrialCount74.0/ReactionTime1416.0/Accuracy1.0/D90', 'Stimulus/c25.0/s75.0/BigLetters/SmallLetters/Taskg/TargetLetters/Responded1.0/ParticipantResponse115.0/CorrectResponse115.0/TrialCount302.0/BlockTrialCount78.0/ReactionTime1299.0/Accuracy1.0/D90', 'Stimulus/c25.0/s75.0/BigLetters/SmallLetters/Taskg/TargetLetters/Responded1.0/ParticipantResponse115.0/CorrectResponse115.0/TrialCount314.0/BlockTrialCount90.0/ReactionTime1433.0/Accuracy1.0/D90', 'Stimulus/c25.0/s75.0/BigLetters/SmallLetters/Taskg/TargetLetters/Responded1.0/ParticipantResponse115.0/CorrectResponse115.0/TrialCount332.0/BlockTrialCount108.0/ReactionTime899.0/Accuracy1.0/D90', 'Stimulus/c25.0/s75.0/BigLetters/SmallLetters/Taskg/TargetLetters/Responded1.0/ParticipantResponse115.0/CorrectResponse115.0/TrialCount334.0/BlockTrialCount110.0/ReactionTime1049.0/Accuracy1.0/D90', 'Stimulus/c25.0/s75.0/BigLetters/SmallLetters/Taskl/TargetLetters/Responded1.0/ParticipantResponse115.0/CorrectResponse115.0/TrialCount229.0/BlockTrialCount5.0/ReactionTime1733.0/Accuracy1.0/D90', 'Stimulus/c25.0/s75.0/BigLetters/SmallLetters/Taskl/TargetLetters/Responded1.0/ParticipantResponse115.0/CorrectResponse115.0/TrialCount236.0/BlockTrialCount12.0/ReactionTime1850.0/Accuracy1.0/D90', 'Stimulus/c25.0/s75.0/BigLetters/SmallLetters/Taskl/TargetLetters/Responded1.0/ParticipantResponse115.0/CorrectResponse115.0/TrialCount239.0/BlockTrialCount15.0/ReactionTime1250.0/Accuracy1.0/D90', 'Stimulus/c25.0/s75.0/BigLetters/SmallLetters/Taskl/TargetLetters/Responded1.0/ParticipantResponse115.0/CorrectResponse115.0/TrialCount246.0/BlockTrialCount22.0/ReactionTime1516.0/Accuracy1.0/D90', 'Stimulus/c25.0/s75.0/BigLetters/SmallLetters/Taskl/TargetLetters/Responded1.0/ParticipantResponse115.0/CorrectResponse115.0/TrialCount249.0/BlockTrialCount25.0/ReactionTime1616.0/Accuracy1.0/D90', 'Stimulus/c25.0/s75.0/BigLetters/SmallLetters/Taskl/TargetLetters/Responded1.0/ParticipantResponse115.0/CorrectResponse115.0/TrialCount258.0/BlockTrialCount34.0/ReactionTime1366.0/Accuracy1.0/D90', 'Stimulus/c25.0/s75.0/BigLetters/SmallLetters/Taskl/TargetLetters/Responded1.0/ParticipantResponse115.0/CorrectResponse115.0/TrialCount260.0/BlockTrialCount36.0/ReactionTime1467.0/Accuracy1.0/D90', 'Stimulus/c25.0/s75.0/BigLetters/SmallLetters/Taskl/TargetLetters/Responded1.0/ParticipantResponse115.0/CorrectResponse115.0/TrialCount270.0/BlockTrialCount46.0/ReactionTime1267.0/Accuracy1.0/D90', 'Stimulus/c25.0/s75.0/BigLetters/SmallLetters/Taskl/TargetLetters/Responded1.0/ParticipantResponse115.0/CorrectResponse115.0/TrialCount276.0/BlockTrialCount52.0/ReactionTime817.0/Accuracy1.0/D90', 'Stimulus/c25.0/s75.0/BigLetters/SmallLetters/Taskl/TargetLetters/Responded1.0/ParticipantResponse115.0/CorrectResponse115.0/TrialCount288.0/BlockTrialCount64.0/ReactionTime1499.0/Accuracy1.0/D90', 'Stimulus/c25.0/s75.0/BigLetters/SmallLetters/Taskl/TargetLetters/Responded1.0/ParticipantResponse115.0/CorrectResponse115.0/TrialCount297.0/BlockTrialCount73.0/ReactionTime1416.0/Accuracy1.0/D90', 'Stimulus/c25.0/s75.0/BigLetters/SmallLetters/Taskl/TargetLetters/Responded1.0/ParticipantResponse115.0/CorrectResponse115.0/TrialCount301.0/BlockTrialCount77.0/ReactionTime1183.0/Accuracy1.0/D90', 'Stimulus/c25.0/s75.0/BigLetters/SmallLetters/Taskl/TargetLetters/Responded1.0/ParticipantResponse115.0/CorrectResponse115.0/TrialCount322.0/BlockTrialCount98.0/ReactionTime1266.0/Accuracy1.0/D90', 'Stimulus/c25.0/s75.0/BigLetters/SmallLetters/Taskl/TargetLetters/Responded1.0/ParticipantResponse115.0/CorrectResponse115.0/TrialCount331.0/BlockTrialCount107.0/ReactionTime999.0/Accuracy1.0/D90', 'Stimulus/c75.0/r25.0/BigLetterh/SmallLetterh/Taskg/TargetLetterh/Responded1.0/ParticipantResponse114.0/CorrectResponse114.0/TrialCount112.0/BlockTrialCount112.0/ReactionTime683.0/Accuracy1.0/D90', 'Stimulus/c75.0/r25.0/BigLetterh/SmallLetterh/Taskg/TargetLetterh/Responded1.0/ParticipantResponse114.0/CorrectResponse114.0/TrialCount18.0/BlockTrialCount18.0/ReactionTime866.0/Accuracy1.0/D90', 'Stimulus/c75.0/r25.0/BigLetterh/SmallLetterh/Taskg/TargetLetterh/Responded1.0/ParticipantResponse114.0/CorrectResponse114.0/TrialCount20.0/BlockTrialCount20.0/ReactionTime616.0/Accuracy1.0/D90', 'Stimulus/c75.0/r25.0/BigLetterh/SmallLetterh/Taskg/TargetLetterh/Responded1.0/ParticipantResponse114.0/CorrectResponse114.0/TrialCount36.0/BlockTrialCount36.0/ReactionTime950.0/Accuracy1.0/D90', 'Stimulus/c75.0/r25.0/BigLetterh/SmallLetterh/Taskg/TargetLetterh/Responded1.0/ParticipantResponse114.0/CorrectResponse114.0/TrialCount52.0/BlockTrialCount52.0/ReactionTime616.0/Accuracy1.0/D90', 'Stimulus/c75.0/r25.0/BigLetterh/SmallLetterh/Taskg/TargetLetterh/Responded1.0/ParticipantResponse114.0/CorrectResponse114.0/TrialCount87.0/BlockTrialCount87.0/ReactionTime849.0/Accuracy1.0/D90', 'Stimulus/c75.0/r25.0/BigLetterh/SmallLetterh/Taskl/TargetLetterh/Responded1.0/ParticipantResponse114.0/CorrectResponse114.0/TrialCount103.0/BlockTrialCount103.0/ReactionTime766.0/Accuracy1.0/D90', 'Stimulus/c75.0/r25.0/BigLetterh/SmallLetterh/Taskl/TargetLetterh/Responded1.0/ParticipantResponse114.0/CorrectResponse114.0/TrialCount110.0/BlockTrialCount110.0/ReactionTime1133.0/Accuracy1.0/D90', 'Stimulus/c75.0/r25.0/BigLetterh/SmallLetterh/Taskl/TargetLetterh/Responded1.0/ParticipantResponse114.0/CorrectResponse114.0/TrialCount24.0/BlockTrialCount24.0/ReactionTime1016.0/Accuracy1.0/D90', 'Stimulus/c75.0/r25.0/BigLetterh/SmallLetterh/Taskl/TargetLetterh/Responded1.0/ParticipantResponse114.0/CorrectResponse114.0/TrialCount29.0/BlockTrialCount29.0/ReactionTime966.0/Accuracy1.0/D90', 'Stimulus/c75.0/r25.0/BigLetterh/SmallLetterh/Taskl/TargetLetterh/Responded1.0/ParticipantResponse114.0/CorrectResponse114.0/TrialCount57.0/BlockTrialCount57.0/ReactionTime2399.0/Accuracy1.0/D90', 'Stimulus/c75.0/r25.0/BigLetterh/SmallLetterh/Taskl/TargetLetterh/Responded1.0/ParticipantResponse114.0/CorrectResponse114.0/TrialCount98.0/BlockTrialCount98.0/ReactionTime650.0/Accuracy1.0/D90', 'Stimulus/c75.0/r25.0/BigLetterh/SmallLetterh/Taskl/TargetLetterh/Responded1.0/ParticipantResponse114.0/CorrectResponse114.0/TrialCount99.0/BlockTrialCount99.0/ReactionTime599.0/Accuracy1.0/D90', 'Stimulus/c75.0/r25.0/BigLetters/SmallLetters/Taskg/TargetLetters/Responded1.0/ParticipantResponse115.0/CorrectResponse115.0/TrialCount16.0/BlockTrialCount16.0/ReactionTime1266.0/Accuracy1.0/D90', 'Stimulus/c75.0/r25.0/BigLetters/SmallLetters/Taskg/TargetLetters/Responded1.0/ParticipantResponse115.0/CorrectResponse115.0/TrialCount21.0/BlockTrialCount21.0/ReactionTime899.0/Accuracy1.0/D90', 'Stimulus/c75.0/r25.0/BigLetters/SmallLetters/Taskg/TargetLetters/Responded1.0/ParticipantResponse115.0/CorrectResponse115.0/TrialCount40.0/BlockTrialCount40.0/ReactionTime783.0/Accuracy1.0/D90', 'Stimulus/c75.0/r25.0/BigLetters/SmallLetters/Taskg/TargetLetters/Responded1.0/ParticipantResponse115.0/CorrectResponse115.0/TrialCount41.0/BlockTrialCount41.0/ReactionTime916.0/Accuracy1.0/D90', 'Stimulus/c75.0/r25.0/BigLetters/SmallLetters/Taskg/TargetLetters/Responded1.0/ParticipantResponse115.0/CorrectResponse115.0/TrialCount67.0/BlockTrialCount67.0/ReactionTime883.0/Accuracy1.0/D90', 'Stimulus/c75.0/r25.0/BigLetters/SmallLetters/Taskg/TargetLetters/Responded1.0/ParticipantResponse115.0/CorrectResponse115.0/TrialCount93.0/BlockTrialCount93.0/ReactionTime649.0/Accuracy1.0/D90', 'Stimulus/c75.0/r25.0/BigLetters/SmallLetters/Taskl/TargetLetters/Responded1.0/ParticipantResponse115.0/CorrectResponse115.0/TrialCount61.0/BlockTrialCount61.0/ReactionTime800.0/Accuracy1.0/D90', 'Stimulus/c75.0/r25.0/BigLetters/SmallLetters/Taskl/TargetLetters/Responded1.0/ParticipantResponse115.0/CorrectResponse115.0/TrialCount83.0/BlockTrialCount83.0/ReactionTime949.0/Accuracy1.0/D90', 'Stimulus/c75.0/r25.0/BigLetters/SmallLetters/Taskl/TargetLetters/Responded1.0/ParticipantResponse115.0/CorrectResponse115.0/TrialCount96.0/BlockTrialCount96.0/ReactionTime633.0/Accuracy1.0/D90', 'Stimulus/c75.0/r75.0/BigLetterh/SmallLetterh/Taskg/TargetLetterh/Responded1.0/ParticipantResponse114.0/CorrectResponse114.0/TrialCount141.0/BlockTrialCount29.0/ReactionTime1200.0/Accuracy1.0/D90', 'Stimulus/c75.0/r75.0/BigLetterh/SmallLetterh/Taskg/TargetLetterh/Responded1.0/ParticipantResponse114.0/CorrectResponse114.0/TrialCount199.0/BlockTrialCount87.0/ReactionTime1399.0/Accuracy1.0/D90', 'Stimulus/c75.0/r75.0/BigLetterh/SmallLetterh/Taskl/TargetLetterh/Responded1.0/ParticipantResponse114.0/CorrectResponse114.0/TrialCount122.0/BlockTrialCount10.0/ReactionTime1233.0/Accuracy1.0/D90', 'Stimulus/c75.0/r75.0/BigLetterh/SmallLetterh/Taskl/TargetLetterh/Responded1.0/ParticipantResponse114.0/CorrectResponse114.0/TrialCount133.0/BlockTrialCount21.0/ReactionTime1550.0/Accuracy1.0/D90', 'Stimulus/c75.0/r75.0/BigLetters/SmallLetters/Taskg/TargetLetters/Responded1.0/ParticipantResponse115.0/CorrectResponse115.0/TrialCount114.0/BlockTrialCount2.0/ReactionTime1299.0/Accuracy1.0/D90', 'Stimulus/c75.0/r75.0/BigLetters/SmallLetters/Taskg/TargetLetters/Responded1.0/ParticipantResponse115.0/CorrectResponse115.0/TrialCount219.0/BlockTrialCount107.0/ReactionTime933.0/Accuracy1.0/D90', 'Stimulus/c75.0/s25.0/BigLetterh/SmallLetterh/Taskg/TargetLetterh/Responded1.0/ParticipantResponse114.0/CorrectResponse114.0/TrialCount86.0/BlockTrialCount86.0/ReactionTime1116.0/Accuracy1.0/D90', 'Stimulus/c75.0/s25.0/BigLetterh/SmallLetterh/Taskl/TargetLetterh/Responded1.0/ParticipantResponse114.0/CorrectResponse114.0/TrialCount4.0/BlockTrialCount4.0/ReactionTime1366.0/Accuracy1.0/D90', 'Stimulus/c75.0/s25.0/BigLetterh/SmallLetterh/Taskl/TargetLetterh/Responded1.0/ParticipantResponse115.0/CorrectResponse114.0/TrialCount49.0/BlockTrialCount49.0/ReactionTime1949.0/Accuracy0.0/D90', 'Stimulus/c75.0/s25.0/BigLetters/SmallLetters/Taskg/TargetLetters/Responded1.0/ParticipantResponse115.0/CorrectResponse115.0/TrialCount30.0/BlockTrialCount30.0/ReactionTime1933.0/Accuracy1.0/D90', 'Stimulus/c75.0/s25.0/BigLetters/SmallLetters/Taskg/TargetLetters/Responded1.0/ParticipantResponse115.0/CorrectResponse115.0/TrialCount78.0/BlockTrialCount78.0/ReactionTime1083.0/Accuracy1.0/D90', 'Stimulus/c75.0/s25.0/BigLetters/SmallLetters/Taskl/TargetLetters/Responded1.0/ParticipantResponse114.0/CorrectResponse115.0/TrialCount108.0/BlockTrialCount108.0/ReactionTime2316.0/Accuracy0.0/D90', 'Stimulus/c75.0/s75.0/BigLetterh/SmallLetterh/Taskg/TargetLetterh/Responded1.0/ParticipantResponse114.0/CorrectResponse114.0/TrialCount118.0/BlockTrialCount6.0/ReactionTime1650.0/Accuracy1.0/D90', 'Stimulus/c75.0/s75.0/BigLetterh/SmallLetterh/Taskg/TargetLetterh/Responded1.0/ParticipantResponse114.0/CorrectResponse114.0/TrialCount134.0/BlockTrialCount22.0/ReactionTime1400.0/Accuracy1.0/D90', 'Stimulus/c75.0/s75.0/BigLetterh/SmallLetterh/Taskg/TargetLetterh/Responded1.0/ParticipantResponse114.0/CorrectResponse114.0/TrialCount136.0/BlockTrialCount24.0/ReactionTime1283.0/Accuracy1.0/D90', 'Stimulus/c75.0/s75.0/BigLetterh/SmallLetterh/Taskg/TargetLetterh/Responded1.0/ParticipantResponse114.0/CorrectResponse114.0/TrialCount155.0/BlockTrialCount43.0/ReactionTime1716.0/Accuracy1.0/D90', 'Stimulus/c75.0/s75.0/BigLetterh/SmallLetterh/Taskg/TargetLetterh/Responded1.0/ParticipantResponse114.0/CorrectResponse114.0/TrialCount160.0/BlockTrialCount48.0/ReactionTime1183.0/Accuracy1.0/D90', 'Stimulus/c75.0/s75.0/BigLetterh/SmallLetterh/Taskg/TargetLetterh/Responded1.0/ParticipantResponse114.0/CorrectResponse114.0/TrialCount174.0/BlockTrialCount62.0/ReactionTime1533.0/Accuracy1.0/D90', 'Stimulus/c75.0/s75.0/BigLetterh/SmallLetterh/Taskg/TargetLetterh/Responded1.0/ParticipantResponse114.0/CorrectResponse114.0/TrialCount189.0/BlockTrialCount77.0/ReactionTime1299.0/Accuracy1.0/D90', 'Stimulus/c75.0/s75.0/BigLetterh/SmallLetterh/Taskg/TargetLetterh/Responded1.0/ParticipantResponse114.0/CorrectResponse114.0/TrialCount194.0/BlockTrialCount82.0/ReactionTime1000.0/Accuracy1.0/D90', 'Stimulus/c75.0/s75.0/BigLetterh/SmallLetterh/Taskg/TargetLetterh/Responded1.0/ParticipantResponse114.0/CorrectResponse114.0/TrialCount207.0/BlockTrialCount95.0/ReactionTime1366.0/Accuracy1.0/D90', 'Stimulus/c75.0/s75.0/BigLetterh/SmallLetterh/Taskl/TargetLetterh/Responded1.0/ParticipantResponse114.0/CorrectResponse114.0/TrialCount151.0/BlockTrialCount39.0/ReactionTime1716.0/Accuracy1.0/D90', 'Stimulus/c75.0/s75.0/BigLetterh/SmallLetterh/Taskl/TargetLetterh/Responded1.0/ParticipantResponse114.0/CorrectResponse114.0/TrialCount156.0/BlockTrialCount44.0/ReactionTime1533.0/Accuracy1.0/D90', 'Stimulus/c75.0/s75.0/BigLetterh/SmallLetterh/Taskl/TargetLetterh/Responded1.0/ParticipantResponse114.0/CorrectResponse114.0/TrialCount184.0/BlockTrialCount72.0/ReactionTime1499.0/Accuracy1.0/D90', 'Stimulus/c75.0/s75.0/BigLetterh/SmallLetterh/Taskl/TargetLetterh/Responded1.0/ParticipantResponse114.0/CorrectResponse114.0/TrialCount222.0/BlockTrialCount110.0/ReactionTime2066.0/Accuracy1.0/D90', 'Stimulus/c75.0/s75.0/BigLetterh/SmallLetterh/Taskl/TargetLetterh/Responded1.0/ParticipantResponse115.0/CorrectResponse114.0/TrialCount132.0/BlockTrialCount20.0/ReactionTime1516.0/Accuracy0.0/D90', 'Stimulus/c75.0/s75.0/BigLetterh/SmallLetterh/Taskl/TargetLetterh/Responded1.0/ParticipantResponse115.0/CorrectResponse114.0/TrialCount182.0/BlockTrialCount70.0/ReactionTime1033.0/Accuracy0.0/D90', 'Stimulus/c75.0/s75.0/BigLetters/SmallLetters/Taskg/TargetLetters/Responded1.0/ParticipantResponse115.0/CorrectResponse115.0/TrialCount143.0/BlockTrialCount31.0/ReactionTime1216.0/Accuracy1.0/D90', 'Stimulus/c75.0/s75.0/BigLetters/SmallLetters/Taskg/TargetLetters/Responded1.0/ParticipantResponse115.0/CorrectResponse115.0/TrialCount178.0/BlockTrialCount66.0/ReactionTime1416.0/Accuracy1.0/D90', 'Stimulus/c75.0/s75.0/BigLetters/SmallLetters/Taskg/TargetLetters/Responded1.0/ParticipantResponse115.0/CorrectResponse115.0/TrialCount196.0/BlockTrialCount84.0/ReactionTime1266.0/Accuracy1.0/D90', 'Stimulus/c75.0/s75.0/BigLetters/SmallLetters/Taskg/TargetLetters/Responded1.0/ParticipantResponse115.0/CorrectResponse115.0/TrialCount201.0/BlockTrialCount89.0/ReactionTime1649.0/Accuracy1.0/D90', 'Stimulus/c75.0/s75.0/BigLetters/SmallLetters/Taskl/TargetLetters/Responded1.0/ParticipantResponse115.0/CorrectResponse115.0/TrialCount139.0/BlockTrialCount27.0/ReactionTime1766.0/Accuracy1.0/D90', 'Stimulus/c75.0/s75.0/BigLetters/SmallLetters/Taskl/TargetLetters/Responded1.0/ParticipantResponse115.0/CorrectResponse115.0/TrialCount190.0/BlockTrialCount78.0/ReactionTime1550.0/Accuracy1.0/D90', 'Stimulus/c75.0/s75.0/BigLetters/SmallLetters/Taskl/TargetLetters/Responded1.0/ParticipantResponse115.0/CorrectResponse115.0/TrialCount214.0/BlockTrialCount102.0/ReactionTime1433.0/Accuracy1.0/D90', 'Stimulus/i25.0/r25.0/BigLetterh/SmallLetters/Taskg/TargetLetterh/Responded1.0/ParticipantResponse114.0/CorrectResponse114.0/TrialCount338.0/BlockTrialCount2.0/ReactionTime833.0/Accuracy1.0/D90', 'Stimulus/i25.0/r25.0/BigLetterh/SmallLetters/Taskg/TargetLetterh/Responded1.0/ParticipantResponse114.0/CorrectResponse114.0/TrialCount346.0/BlockTrialCount10.0/ReactionTime683.0/Accuracy1.0/D90', 'Stimulus/i25.0/r25.0/BigLetterh/SmallLetters/Taskg/TargetLetterh/Responded1.0/ParticipantResponse114.0/CorrectResponse114.0/TrialCount397.0/BlockTrialCount61.0/ReactionTime966.0/Accuracy1.0/D90', 'Stimulus/i25.0/r25.0/BigLetterh/SmallLetters/Taskg/TargetLetterh/Responded1.0/ParticipantResponse114.0/CorrectResponse114.0/TrialCount417.0/BlockTrialCount81.0/ReactionTime1549.0/Accuracy1.0/D90', 'Stimulus/i25.0/r25.0/BigLetterh/SmallLetters/Taskg/TargetLetterh/Responded1.0/ParticipantResponse114.0/CorrectResponse114.0/TrialCount442.0/BlockTrialCount106.0/ReactionTime549.0/Accuracy1.0/D90', 'Stimulus/i25.0/r25.0/BigLetterh/SmallLetters/Taskg/TargetLetterh/Responded1.0/ParticipantResponse114.0/CorrectResponse114.0/TrialCount445.0/BlockTrialCount109.0/ReactionTime933.0/Accuracy1.0/D90', 'Stimulus/i25.0/r25.0/BigLetterh/SmallLetters/Taskl/TargetLetters/Responded1.0/ParticipantResponse115.0/CorrectResponse115.0/TrialCount351.0/BlockTrialCount15.0/ReactionTime1649.0/Accuracy1.0/D90', 'Stimulus/i25.0/r25.0/BigLetterh/SmallLetters/Taskl/TargetLetters/Responded1.0/ParticipantResponse115.0/CorrectResponse115.0/TrialCount358.0/BlockTrialCount22.0/ReactionTime866.0/Accuracy1.0/D90', 'Stimulus/i25.0/r25.0/BigLetterh/SmallLetters/Taskl/TargetLetters/Responded1.0/ParticipantResponse115.0/CorrectResponse115.0/TrialCount359.0/BlockTrialCount23.0/ReactionTime1633.0/Accuracy1.0/D90', 'Stimulus/i25.0/r25.0/BigLetterh/SmallLetters/Taskl/TargetLetters/Responded1.0/ParticipantResponse115.0/CorrectResponse115.0/TrialCount360.0/BlockTrialCount24.0/ReactionTime849.0/Accuracy1.0/D90', 'Stimulus/i25.0/r25.0/BigLetterh/SmallLetters/Taskl/TargetLetters/Responded1.0/ParticipantResponse115.0/CorrectResponse115.0/TrialCount373.0/BlockTrialCount37.0/ReactionTime1416.0/Accuracy1.0/D90', 'Stimulus/i25.0/r25.0/BigLetterh/SmallLetters/Taskl/TargetLetters/Responded1.0/ParticipantResponse115.0/CorrectResponse115.0/TrialCount376.0/BlockTrialCount40.0/ReactionTime716.0/Accuracy1.0/D90', 'Stimulus/i25.0/r25.0/BigLetterh/SmallLetters/Taskl/TargetLetters/Responded1.0/ParticipantResponse115.0/CorrectResponse115.0/TrialCount388.0/BlockTrialCount52.0/ReactionTime1316.0/Accuracy1.0/D90', 'Stimulus/i25.0/r25.0/BigLetterh/SmallLetters/Taskl/TargetLetters/Responded1.0/ParticipantResponse115.0/CorrectResponse115.0/TrialCount389.0/BlockTrialCount53.0/ReactionTime916.0/Accuracy1.0/D90', 'Stimulus/i25.0/r25.0/BigLetterh/SmallLetters/Taskl/TargetLetters/Responded1.0/ParticipantResponse115.0/CorrectResponse115.0/TrialCount411.0/BlockTrialCount75.0/ReactionTime1366.0/Accuracy1.0/D90', 'Stimulus/i25.0/r25.0/BigLetterh/SmallLetters/Taskl/TargetLetters/Responded1.0/ParticipantResponse115.0/CorrectResponse115.0/TrialCount437.0/BlockTrialCount101.0/ReactionTime1183.0/Accuracy1.0/D90', 'Stimulus/i25.0/r25.0/BigLetters/SmallLetterh/Taskg/TargetLetters/Responded1.0/ParticipantResponse115.0/CorrectResponse115.0/TrialCount396.0/BlockTrialCount60.0/ReactionTime1216.0/Accuracy1.0/D90', 'Stimulus/i25.0/r25.0/BigLetters/SmallLetterh/Taskg/TargetLetters/Responded1.0/ParticipantResponse115.0/CorrectResponse115.0/TrialCount402.0/BlockTrialCount66.0/ReactionTime1100.0/Accuracy1.0/D90', 'Stimulus/i25.0/r25.0/BigLetters/SmallLetterh/Taskg/TargetLetters/Responded1.0/ParticipantResponse115.0/CorrectResponse115.0/TrialCount416.0/BlockTrialCount80.0/ReactionTime1550.0/Accuracy1.0/D90', 'Stimulus/i25.0/r25.0/BigLetters/SmallLetterh/Taskg/TargetLetters/Responded1.0/ParticipantResponse115.0/CorrectResponse115.0/TrialCount430.0/BlockTrialCount94.0/ReactionTime966.0/Accuracy1.0/D90', 'Stimulus/i25.0/r25.0/BigLetters/SmallLetterh/Taskg/TargetLetters/Responded1.0/ParticipantResponse115.0/CorrectResponse115.0/TrialCount441.0/BlockTrialCount105.0/ReactionTime1116.0/Accuracy1.0/D90', 'Stimulus/i25.0/r25.0/BigLetters/SmallLetterh/Taskl/TargetLetterh/Responded1.0/ParticipantResponse114.0/CorrectResponse114.0/TrialCount356.0/BlockTrialCount20.0/ReactionTime799.0/Accuracy1.0/D90', 'Stimulus/i25.0/r75.0/BigLetterh/SmallLetters/Taskg/TargetLetterh/Responded1.0/ParticipantResponse114.0/CorrectResponse114.0/TrialCount253.0/BlockTrialCount29.0/ReactionTime1133.0/Accuracy1.0/D90', 'Stimulus/i25.0/r75.0/BigLetterh/SmallLetters/Taskg/TargetLetterh/Responded1.0/ParticipantResponse114.0/CorrectResponse114.0/TrialCount254.0/BlockTrialCount30.0/ReactionTime1266.0/Accuracy1.0/D90', 'Stimulus/i25.0/r75.0/BigLetterh/SmallLetters/Taskl/TargetLetters/Responded1.0/ParticipantResponse115.0/CorrectResponse115.0/TrialCount268.0/BlockTrialCount44.0/ReactionTime1350.0/Accuracy1.0/D90', 'Stimulus/i25.0/r75.0/BigLetterh/SmallLetters/Taskl/TargetLetters/Responded1.0/ParticipantResponse115.0/CorrectResponse115.0/TrialCount277.0/BlockTrialCount53.0/ReactionTime1216.0/Accuracy1.0/D90', 'Stimulus/i25.0/r75.0/BigLetters/SmallLetterh/Taskg/TargetLetters/Responded1.0/ParticipantResponse115.0/CorrectResponse115.0/TrialCount315.0/BlockTrialCount91.0/ReactionTime1299.0/Accuracy1.0/D90', 'Stimulus/i25.0/r75.0/BigLetters/SmallLetterh/Taskl/TargetLetterh/Responded1.0/ParticipantResponse114.0/CorrectResponse114.0/TrialCount243.0/BlockTrialCount19.0/ReactionTime1983.0/Accuracy1.0/D90', 'Stimulus/i25.0/r75.0/BigLetters/SmallLetterh/Taskl/TargetLetterh/Responded1.0/ParticipantResponse114.0/CorrectResponse114.0/TrialCount274.0/BlockTrialCount50.0/ReactionTime1966.0/Accuracy1.0/D90', 'Stimulus/i25.0/s25.0/BigLetterh/SmallLetters/Taskg/TargetLetterh/Responded1.0/ParticipantResponse114.0/CorrectResponse114.0/TrialCount371.0/BlockTrialCount35.0/ReactionTime1483.0/Accuracy1.0/D90', 'Stimulus/i25.0/s25.0/BigLetterh/SmallLetters/Taskg/TargetLetterh/Responded1.0/ParticipantResponse114.0/CorrectResponse114.0/TrialCount412.0/BlockTrialCount76.0/ReactionTime1399.0/Accuracy1.0/D90', 'Stimulus/i25.0/s25.0/BigLetterh/SmallLetters/Taskl/TargetLetters/Responded1.0/ParticipantResponse115.0/CorrectResponse115.0/TrialCount421.0/BlockTrialCount85.0/ReactionTime1633.0/Accuracy1.0/D90', 'Stimulus/i25.0/s25.0/BigLetters/SmallLetterh/Taskg/TargetLetters/Responded1.0/ParticipantResponse115.0/CorrectResponse115.0/TrialCount348.0/BlockTrialCount12.0/ReactionTime1550.0/Accuracy1.0/D90', 'Stimulus/i25.0/s25.0/BigLetters/SmallLetterh/Taskg/TargetLetters/Responded1.0/ParticipantResponse115.0/CorrectResponse115.0/TrialCount424.0/BlockTrialCount88.0/ReactionTime1916.0/Accuracy1.0/D90', 'Stimulus/i25.0/s25.0/BigLetters/SmallLetterh/Taskl/TargetLetterh/Responded1.0/ParticipantResponse114.0/CorrectResponse114.0/TrialCount413.0/BlockTrialCount77.0/ReactionTime1600.0/Accuracy1.0/D90', 'Stimulus/i25.0/s75.0/BigLetterh/SmallLetters/Taskg/TargetLetterh/Responded1.0/ParticipantResponse114.0/CorrectResponse114.0/TrialCount238.0/BlockTrialCount14.0/ReactionTime1333.0/Accuracy1.0/D90', 'Stimulus/i25.0/s75.0/BigLetterh/SmallLetters/Taskg/TargetLetterh/Responded1.0/ParticipantResponse114.0/CorrectResponse114.0/TrialCount245.0/BlockTrialCount21.0/ReactionTime1066.0/Accuracy1.0/D90', 'Stimulus/i25.0/s75.0/BigLetterh/SmallLetters/Taskg/TargetLetterh/Responded1.0/ParticipantResponse114.0/CorrectResponse114.0/TrialCount263.0/BlockTrialCount39.0/ReactionTime1633.0/Accuracy1.0/D90', 'Stimulus/i25.0/s75.0/BigLetterh/SmallLetters/Taskg/TargetLetterh/Responded1.0/ParticipantResponse114.0/CorrectResponse114.0/TrialCount271.0/BlockTrialCount47.0/ReactionTime1366.0/Accuracy1.0/D90', 'Stimulus/i25.0/s75.0/BigLetterh/SmallLetters/Taskg/TargetLetterh/Responded1.0/ParticipantResponse114.0/CorrectResponse114.0/TrialCount307.0/BlockTrialCount83.0/ReactionTime1216.0/Accuracy1.0/D90', 'Stimulus/i25.0/s75.0/BigLetterh/SmallLetters/Taskl/TargetLetters/Responded1.0/ParticipantResponse115.0/CorrectResponse115.0/TrialCount234.0/BlockTrialCount10.0/ReactionTime1399.0/Accuracy1.0/D90', 'Stimulus/i25.0/s75.0/BigLetterh/SmallLetters/Taskl/TargetLetters/Responded1.0/ParticipantResponse115.0/CorrectResponse115.0/TrialCount242.0/BlockTrialCount18.0/ReactionTime1683.0/Accuracy1.0/D90', 'Stimulus/i25.0/s75.0/BigLetterh/SmallLetters/Taskl/TargetLetters/Responded1.0/ParticipantResponse115.0/CorrectResponse115.0/TrialCount283.0/BlockTrialCount59.0/ReactionTime1599.0/Accuracy1.0/D90', 'Stimulus/i25.0/s75.0/BigLetterh/SmallLetters/Taskl/TargetLetters/Responded1.0/ParticipantResponse115.0/CorrectResponse115.0/TrialCount292.0/BlockTrialCount68.0/ReactionTime1549.0/Accuracy1.0/D90', 'Stimulus/i25.0/s75.0/BigLetterh/SmallLetters/Taskl/TargetLetters/Responded1.0/ParticipantResponse115.0/CorrectResponse115.0/TrialCount306.0/BlockTrialCount82.0/ReactionTime1250.0/Accuracy1.0/D90', 'Stimulus/i25.0/s75.0/BigLetterh/SmallLetters/Taskl/TargetLetters/Responded1.0/ParticipantResponse115.0/CorrectResponse115.0/TrialCount309.0/BlockTrialCount85.0/ReactionTime1716.0/Accuracy1.0/D90', 'Stimulus/i25.0/s75.0/BigLetterh/SmallLetters/Taskl/TargetLetters/Responded1.0/ParticipantResponse115.0/CorrectResponse115.0/TrialCount316.0/BlockTrialCount92.0/ReactionTime649.0/Accuracy1.0/D90', 'Stimulus/i25.0/s75.0/BigLetters/SmallLetterh/Taskg/TargetLetters/Responded1.0/ParticipantResponse115.0/CorrectResponse115.0/TrialCount240.0/BlockTrialCount16.0/ReactionTime1600.0/Accuracy1.0/D90', 'Stimulus/i25.0/s75.0/BigLetters/SmallLetterh/Taskg/TargetLetters/Responded1.0/ParticipantResponse115.0/CorrectResponse115.0/TrialCount280.0/BlockTrialCount56.0/ReactionTime899.0/Accuracy1.0/D90', 'Stimulus/i25.0/s75.0/BigLetters/SmallLetterh/Taskg/TargetLetters/Responded1.0/ParticipantResponse115.0/CorrectResponse115.0/TrialCount304.0/BlockTrialCount80.0/ReactionTime983.0/Accuracy1.0/D90', 'Stimulus/i25.0/s75.0/BigLetters/SmallLetterh/Taskg/TargetLetters/Responded1.0/ParticipantResponse115.0/CorrectResponse115.0/TrialCount330.0/BlockTrialCount106.0/ReactionTime1966.0/Accuracy1.0/D90', 'Stimulus/i25.0/s75.0/BigLetters/SmallLetterh/Taskl/TargetLetterh/Responded1.0/ParticipantResponse114.0/CorrectResponse114.0/TrialCount255.0/BlockTrialCount31.0/ReactionTime1699.0/Accuracy1.0/D90', 'Stimulus/i25.0/s75.0/BigLetters/SmallLetterh/Taskl/TargetLetterh/Responded1.0/ParticipantResponse114.0/CorrectResponse114.0/TrialCount264.0/BlockTrialCount40.0/ReactionTime1299.0/Accuracy1.0/D90', 'Stimulus/i25.0/s75.0/BigLetters/SmallLetterh/Taskl/TargetLetterh/Responded1.0/ParticipantResponse114.0/CorrectResponse114.0/TrialCount273.0/BlockTrialCount49.0/ReactionTime1599.0/Accuracy1.0/D90', 'Stimulus/i25.0/s75.0/BigLetters/SmallLetterh/Taskl/TargetLetterh/Responded1.0/ParticipantResponse114.0/CorrectResponse114.0/TrialCount299.0/BlockTrialCount75.0/ReactionTime1599.0/Accuracy1.0/D90', 'Stimulus/i25.0/s75.0/BigLetters/SmallLetterh/Taskl/TargetLetterh/Responded1.0/ParticipantResponse114.0/CorrectResponse114.0/TrialCount326.0/BlockTrialCount102.0/ReactionTime1083.0/Accuracy1.0/D90', 'Stimulus/i75.0/n25.0/BigLetterh/SmallLetters/Taskl/TargetLetters/Responded1.0/ParticipantResponse115.0/CorrectResponse115.0/TrialCount1.0/BlockTrialCount1.0/ReactionTime1850.0/Accuracy1.0/D90', 'Stimulus/i75.0/n75.0/BigLetters/SmallLetterh/Taskg/TargetLetters/Responded1.0/ParticipantResponse115.0/CorrectResponse115.0/TrialCount113.0/BlockTrialCount1.0/ReactionTime1899.0/Accuracy1.0/D90', 'Stimulus/i75.0/r25.0/BigLetterh/SmallLetters/Taskg/TargetLetterh/Responded1.0/ParticipantResponse114.0/CorrectResponse114.0/TrialCount19.0/BlockTrialCount19.0/ReactionTime833.0/Accuracy1.0/D90', 'Stimulus/i75.0/r25.0/BigLetterh/SmallLetters/Taskg/TargetLetterh/Responded1.0/ParticipantResponse114.0/CorrectResponse114.0/TrialCount3.0/BlockTrialCount3.0/ReactionTime2133.0/Accuracy1.0/D90', 'Stimulus/i75.0/r25.0/BigLetterh/SmallLetters/Taskg/TargetLetterh/Responded1.0/ParticipantResponse114.0/CorrectResponse114.0/TrialCount31.0/BlockTrialCount31.0/ReactionTime1516.0/Accuracy1.0/D90', 'Stimulus/i75.0/r25.0/BigLetterh/SmallLetters/Taskg/TargetLetterh/Responded1.0/ParticipantResponse114.0/CorrectResponse114.0/TrialCount33.0/BlockTrialCount33.0/ReactionTime967.0/Accuracy1.0/D90', 'Stimulus/i75.0/r25.0/BigLetterh/SmallLetters/Taskg/TargetLetterh/Responded1.0/ParticipantResponse114.0/CorrectResponse114.0/TrialCount35.0/BlockTrialCount35.0/ReactionTime933.0/Accuracy1.0/D90', 'Stimulus/i75.0/r25.0/BigLetterh/SmallLetters/Taskg/TargetLetterh/Responded1.0/ParticipantResponse114.0/CorrectResponse114.0/TrialCount37.0/BlockTrialCount37.0/ReactionTime666.0/Accuracy1.0/D90', 'Stimulus/i75.0/r25.0/BigLetterh/SmallLetters/Taskg/TargetLetterh/Responded1.0/ParticipantResponse114.0/CorrectResponse114.0/TrialCount39.0/BlockTrialCount39.0/ReactionTime683.0/Accuracy1.0/D90', 'Stimulus/i75.0/r25.0/BigLetterh/SmallLetters/Taskg/TargetLetterh/Responded1.0/ParticipantResponse114.0/CorrectResponse114.0/TrialCount48.0/BlockTrialCount48.0/ReactionTime1716.0/Accuracy1.0/D90', 'Stimulus/i75.0/r25.0/BigLetterh/SmallLetters/Taskg/TargetLetterh/Responded1.0/ParticipantResponse114.0/CorrectResponse114.0/TrialCount53.0/BlockTrialCount53.0/ReactionTime750.0/Accuracy1.0/D90', 'Stimulus/i75.0/r25.0/BigLetterh/SmallLetters/Taskg/TargetLetterh/Responded1.0/ParticipantResponse114.0/CorrectResponse114.0/TrialCount55.0/BlockTrialCount55.0/ReactionTime766.0/Accuracy1.0/D90', 'Stimulus/i75.0/r25.0/BigLetterh/SmallLetters/Taskg/TargetLetterh/Responded1.0/ParticipantResponse114.0/CorrectResponse114.0/TrialCount73.0/BlockTrialCount73.0/ReactionTime999.0/Accuracy1.0/D90', 'Stimulus/i75.0/r25.0/BigLetterh/SmallLetters/Taskg/TargetLetterh/Responded1.0/ParticipantResponse114.0/CorrectResponse114.0/TrialCount79.0/BlockTrialCount79.0/ReactionTime933.0/Accuracy1.0/D90', 'Stimulus/i75.0/r25.0/BigLetterh/SmallLetters/Taskg/TargetLetterh/Responded1.0/ParticipantResponse114.0/CorrectResponse114.0/TrialCount80.0/BlockTrialCount80.0/ReactionTime883.0/Accuracy1.0/D90', 'Stimulus/i75.0/r25.0/BigLetterh/SmallLetters/Taskg/TargetLetterh/Responded1.0/ParticipantResponse114.0/CorrectResponse114.0/TrialCount89.0/BlockTrialCount89.0/ReactionTime716.0/Accuracy1.0/D90', 'Stimulus/i75.0/r25.0/BigLetterh/SmallLetters/Taskg/TargetLetterh/Responded1.0/ParticipantResponse114.0/CorrectResponse114.0/TrialCount90.0/BlockTrialCount90.0/ReactionTime833.0/Accuracy1.0/D90', 'Stimulus/i75.0/r25.0/BigLetterh/SmallLetters/Taskg/TargetLetterh/Responded1.0/ParticipantResponse115.0/CorrectResponse114.0/TrialCount66.0/BlockTrialCount66.0/ReactionTime1099.0/Accuracy0.0/D90', 'Stimulus/i75.0/r25.0/BigLetterh/SmallLetters/Taskl/TargetLetters/Responded1.0/ParticipantResponse114.0/CorrectResponse115.0/TrialCount102.0/BlockTrialCount102.0/ReactionTime516.0/Accuracy0.0/D90', 'Stimulus/i75.0/r25.0/BigLetterh/SmallLetters/Taskl/TargetLetters/Responded1.0/ParticipantResponse114.0/CorrectResponse115.0/TrialCount75.0/BlockTrialCount75.0/ReactionTime949.0/Accuracy0.0/D90', 'Stimulus/i75.0/r25.0/BigLetterh/SmallLetters/Taskl/TargetLetters/Responded1.0/ParticipantResponse115.0/CorrectResponse115.0/TrialCount109.0/BlockTrialCount109.0/ReactionTime983.0/Accuracy1.0/D90', 'Stimulus/i75.0/r25.0/BigLetterh/SmallLetters/Taskl/TargetLetters/Responded1.0/ParticipantResponse115.0/CorrectResponse115.0/TrialCount11.0/BlockTrialCount11.0/ReactionTime1883.0/Accuracy1.0/D90', 'Stimulus/i75.0/r25.0/BigLetterh/SmallLetters/Taskl/TargetLetters/Responded1.0/ParticipantResponse115.0/CorrectResponse115.0/TrialCount23.0/BlockTrialCount23.0/ReactionTime1599.0/Accuracy1.0/D90', 'Stimulus/i75.0/r25.0/BigLetterh/SmallLetters/Taskl/TargetLetters/Responded1.0/ParticipantResponse115.0/CorrectResponse115.0/TrialCount25.0/BlockTrialCount25.0/ReactionTime683.0/Accuracy1.0/D90', 'Stimulus/i75.0/r25.0/BigLetterh/SmallLetters/Taskl/TargetLetters/Responded1.0/ParticipantResponse115.0/CorrectResponse115.0/TrialCount26.0/BlockTrialCount26.0/ReactionTime1633.0/Accuracy1.0/D90', 'Stimulus/i75.0/r25.0/BigLetterh/SmallLetters/Taskl/TargetLetters/Responded1.0/ParticipantResponse115.0/CorrectResponse115.0/TrialCount45.0/BlockTrialCount45.0/ReactionTime1116.0/Accuracy1.0/D90', 'Stimulus/i75.0/r25.0/BigLetterh/SmallLetters/Taskl/TargetLetters/Responded1.0/ParticipantResponse115.0/CorrectResponse115.0/TrialCount46.0/BlockTrialCount46.0/ReactionTime1083.0/Accuracy1.0/D90', 'Stimulus/i75.0/r25.0/BigLetterh/SmallLetters/Taskl/TargetLetters/Responded1.0/ParticipantResponse115.0/CorrectResponse115.0/TrialCount58.0/BlockTrialCount58.0/ReactionTime1483.0/Accuracy1.0/D90', 'Stimulus/i75.0/r25.0/BigLetterh/SmallLetters/Taskl/TargetLetters/Responded1.0/ParticipantResponse115.0/CorrectResponse115.0/TrialCount59.0/BlockTrialCount59.0/ReactionTime1766.0/Accuracy1.0/D90', 'Stimulus/i75.0/r25.0/BigLetterh/SmallLetters/Taskl/TargetLetters/Responded1.0/ParticipantResponse115.0/CorrectResponse115.0/TrialCount60.0/BlockTrialCount60.0/ReactionTime1533.0/Accuracy1.0/D90', 'Stimulus/i75.0/r25.0/BigLetterh/SmallLetters/Taskl/TargetLetters/Responded1.0/ParticipantResponse115.0/CorrectResponse115.0/TrialCount69.0/BlockTrialCount69.0/ReactionTime799.0/Accuracy1.0/D90', 'Stimulus/i75.0/r25.0/BigLetterh/SmallLetters/Taskl/TargetLetters/Responded1.0/ParticipantResponse115.0/CorrectResponse115.0/TrialCount71.0/BlockTrialCount71.0/ReactionTime1349.0/Accuracy1.0/D90', 'Stimulus/i75.0/r25.0/BigLetterh/SmallLetters/Taskl/TargetLetters/Responded1.0/ParticipantResponse115.0/CorrectResponse115.0/TrialCount76.0/BlockTrialCount76.0/ReactionTime1117.0/Accuracy1.0/D90', 'Stimulus/i75.0/r25.0/BigLetterh/SmallLetters/Taskl/TargetLetters/Responded1.0/ParticipantResponse115.0/CorrectResponse115.0/TrialCount77.0/BlockTrialCount77.0/ReactionTime816.0/Accuracy1.0/D90', 'Stimulus/i75.0/r25.0/BigLetterh/SmallLetters/Taskl/TargetLetters/Responded1.0/ParticipantResponse115.0/CorrectResponse115.0/TrialCount84.0/BlockTrialCount84.0/ReactionTime1049.0/Accuracy1.0/D90', 'Stimulus/i75.0/r25.0/BigLetters/SmallLetterh/Taskg/TargetLetters/Responded1.0/ParticipantResponse115.0/CorrectResponse115.0/TrialCount105.0/BlockTrialCount105.0/ReactionTime1049.0/Accuracy1.0/D90', 'Stimulus/i75.0/r25.0/BigLetters/SmallLetterh/Taskg/TargetLetters/Responded1.0/ParticipantResponse115.0/CorrectResponse115.0/TrialCount106.0/BlockTrialCount106.0/ReactionTime1033.0/Accuracy1.0/D90', 'Stimulus/i75.0/r25.0/BigLetters/SmallLetterh/Taskg/TargetLetters/Responded1.0/ParticipantResponse115.0/CorrectResponse115.0/TrialCount107.0/BlockTrialCount107.0/ReactionTime1033.0/Accuracy1.0/D90', 'Stimulus/i75.0/r25.0/BigLetters/SmallLetterh/Taskg/TargetLetters/Responded1.0/ParticipantResponse115.0/CorrectResponse115.0/TrialCount17.0/BlockTrialCount17.0/ReactionTime849.0/Accuracy1.0/D90', 'Stimulus/i75.0/r25.0/BigLetters/SmallLetterh/Taskg/TargetLetters/Responded1.0/ParticipantResponse115.0/CorrectResponse115.0/TrialCount32.0/BlockTrialCount32.0/ReactionTime1233.0/Accuracy1.0/D90', 'Stimulus/i75.0/r25.0/BigLetters/SmallLetterh/Taskg/TargetLetters/Responded1.0/ParticipantResponse115.0/CorrectResponse115.0/TrialCount34.0/BlockTrialCount34.0/ReactionTime1100.0/Accuracy1.0/D90', 'Stimulus/i75.0/r25.0/BigLetters/SmallLetterh/Taskg/TargetLetters/Responded1.0/ParticipantResponse115.0/CorrectResponse115.0/TrialCount38.0/BlockTrialCount38.0/ReactionTime783.0/Accuracy1.0/D90', 'Stimulus/i75.0/r25.0/BigLetters/SmallLetterh/Taskg/TargetLetters/Responded1.0/ParticipantResponse115.0/CorrectResponse115.0/TrialCount51.0/BlockTrialCount51.0/ReactionTime1966.0/Accuracy1.0/D90', 'Stimulus/i75.0/r25.0/BigLetters/SmallLetterh/Taskg/TargetLetters/Responded1.0/ParticipantResponse115.0/CorrectResponse115.0/TrialCount54.0/BlockTrialCount54.0/ReactionTime700.0/Accuracy1.0/D90', 'Stimulus/i75.0/r25.0/BigLetters/SmallLetterh/Taskg/TargetLetters/Responded1.0/ParticipantResponse115.0/CorrectResponse115.0/TrialCount6.0/BlockTrialCount6.0/ReactionTime1416.0/Accuracy1.0/D90', 'Stimulus/i75.0/r25.0/BigLetters/SmallLetterh/Taskg/TargetLetters/Responded1.0/ParticipantResponse115.0/CorrectResponse115.0/TrialCount81.0/BlockTrialCount81.0/ReactionTime1050.0/Accuracy1.0/D90', 'Stimulus/i75.0/r25.0/BigLetters/SmallLetterh/Taskg/TargetLetters/Responded1.0/ParticipantResponse115.0/CorrectResponse115.0/TrialCount88.0/BlockTrialCount88.0/ReactionTime833.0/Accuracy1.0/D90', 'Stimulus/i75.0/r25.0/BigLetters/SmallLetterh/Taskg/TargetLetters/Responded1.0/ParticipantResponse115.0/CorrectResponse115.0/TrialCount91.0/BlockTrialCount91.0/ReactionTime716.0/Accuracy1.0/D90', 'Stimulus/i75.0/r25.0/BigLetters/SmallLetterh/Taskg/TargetLetters/Responded1.0/ParticipantResponse115.0/CorrectResponse115.0/TrialCount92.0/BlockTrialCount92.0/ReactionTime783.0/Accuracy1.0/D90', 'Stimulus/i75.0/r25.0/BigLetters/SmallLetterh/Taskl/TargetLetterh/Responded0.0/ParticipantResponsenan/CorrectResponse114.0/TrialCount9.0/BlockTrialCount9.0/ReactionTimenan/Accuracy0.0/D90', 'Stimulus/i75.0/r25.0/BigLetters/SmallLetterh/Taskl/TargetLetterh/Responded1.0/ParticipantResponse114.0/CorrectResponse114.0/TrialCount10.0/BlockTrialCount10.0/ReactionTime1666.0/Accuracy1.0/D90', 'Stimulus/i75.0/r25.0/BigLetters/SmallLetterh/Taskl/TargetLetterh/Responded1.0/ParticipantResponse114.0/CorrectResponse114.0/TrialCount100.0/BlockTrialCount100.0/ReactionTime783.0/Accuracy1.0/D90', 'Stimulus/i75.0/r25.0/BigLetters/SmallLetterh/Taskl/TargetLetterh/Responded1.0/ParticipantResponse114.0/CorrectResponse114.0/TrialCount101.0/BlockTrialCount101.0/ReactionTime916.0/Accuracy1.0/D90', 'Stimulus/i75.0/r25.0/BigLetters/SmallLetterh/Taskl/TargetLetterh/Responded1.0/ParticipantResponse114.0/CorrectResponse114.0/TrialCount12.0/BlockTrialCount12.0/ReactionTime966.0/Accuracy1.0/D90', 'Stimulus/i75.0/r25.0/BigLetters/SmallLetterh/Taskl/TargetLetterh/Responded1.0/ParticipantResponse114.0/CorrectResponse114.0/TrialCount27.0/BlockTrialCount27.0/ReactionTime1149.0/Accuracy1.0/D90', 'Stimulus/i75.0/r25.0/BigLetters/SmallLetterh/Taskl/TargetLetterh/Responded1.0/ParticipantResponse114.0/CorrectResponse114.0/TrialCount28.0/BlockTrialCount28.0/ReactionTime983.0/Accuracy1.0/D90', 'Stimulus/i75.0/r25.0/BigLetters/SmallLetterh/Taskl/TargetLetterh/Responded1.0/ParticipantResponse114.0/CorrectResponse114.0/TrialCount62.0/BlockTrialCount62.0/ReactionTime750.0/Accuracy1.0/D90', 'Stimulus/i75.0/r25.0/BigLetters/SmallLetterh/Taskl/TargetLetterh/Responded1.0/ParticipantResponse114.0/CorrectResponse114.0/TrialCount63.0/BlockTrialCount63.0/ReactionTime916.0/Accuracy1.0/D90', 'Stimulus/i75.0/r25.0/BigLetters/SmallLetterh/Taskl/TargetLetterh/Responded1.0/ParticipantResponse114.0/CorrectResponse114.0/TrialCount64.0/BlockTrialCount64.0/ReactionTime966.0/Accuracy1.0/D90', 'Stimulus/i75.0/r25.0/BigLetters/SmallLetterh/Taskl/TargetLetterh/Responded1.0/ParticipantResponse114.0/CorrectResponse114.0/TrialCount70.0/BlockTrialCount70.0/ReactionTime1283.0/Accuracy1.0/D90', 'Stimulus/i75.0/r25.0/BigLetters/SmallLetterh/Taskl/TargetLetterh/Responded1.0/ParticipantResponse114.0/CorrectResponse114.0/TrialCount85.0/BlockTrialCount85.0/ReactionTime1083.0/Accuracy1.0/D90', 'Stimulus/i75.0/r25.0/BigLetters/SmallLetterh/Taskl/TargetLetterh/Responded1.0/ParticipantResponse114.0/CorrectResponse114.0/TrialCount95.0/BlockTrialCount95.0/ReactionTime666.0/Accuracy1.0/D90', 'Stimulus/i75.0/r25.0/BigLetters/SmallLetterh/Taskl/TargetLetterh/Responded1.0/ParticipantResponse114.0/CorrectResponse114.0/TrialCount97.0/BlockTrialCount97.0/ReactionTime599.0/Accuracy1.0/D90', 'Stimulus/i75.0/r25.0/BigLetters/SmallLetterh/Taskl/TargetLetterh/Responded1.0/ParticipantResponse115.0/CorrectResponse114.0/TrialCount8.0/BlockTrialCount8.0/ReactionTime2449.0/Accuracy0.0/D90', 'Stimulus/i75.0/r75.0/BigLetterh/SmallLetters/Taskg/TargetLetterh/Responded1.0/ParticipantResponse114.0/CorrectResponse114.0/TrialCount126.0/BlockTrialCount14.0/ReactionTime1066.0/Accuracy1.0/D90', 'Stimulus/i75.0/r75.0/BigLetterh/SmallLetters/Taskg/TargetLetterh/Responded1.0/ParticipantResponse114.0/CorrectResponse114.0/TrialCount131.0/BlockTrialCount19.0/ReactionTime1633.0/Accuracy1.0/D90', 'Stimulus/i75.0/r75.0/BigLetterh/SmallLetters/Taskg/TargetLetterh/Responded1.0/ParticipantResponse114.0/CorrectResponse114.0/TrialCount167.0/BlockTrialCount55.0/ReactionTime1566.0/Accuracy1.0/D90', 'Stimulus/i75.0/r75.0/BigLetterh/SmallLetters/Taskg/TargetLetterh/Responded1.0/ParticipantResponse114.0/CorrectResponse114.0/TrialCount192.0/BlockTrialCount80.0/ReactionTime883.0/Accuracy1.0/D90', 'Stimulus/i75.0/r75.0/BigLetterh/SmallLetters/Taskl/TargetLetters/Responded1.0/ParticipantResponse114.0/CorrectResponse115.0/TrialCount209.0/BlockTrialCount97.0/ReactionTime683.0/Accuracy0.0/D90', 'Stimulus/i75.0/r75.0/BigLetterh/SmallLetters/Taskl/TargetLetters/Responded1.0/ParticipantResponse115.0/CorrectResponse115.0/TrialCount123.0/BlockTrialCount11.0/ReactionTime649.0/Accuracy1.0/D90', 'Stimulus/i75.0/r75.0/BigLetterh/SmallLetters/Taskl/TargetLetters/Responded1.0/ParticipantResponse115.0/CorrectResponse115.0/TrialCount124.0/BlockTrialCount12.0/ReactionTime650.0/Accuracy1.0/D90', 'Stimulus/i75.0/r75.0/BigLetterh/SmallLetters/Taskl/TargetLetters/Responded1.0/ParticipantResponse115.0/CorrectResponse115.0/TrialCount145.0/BlockTrialCount33.0/ReactionTime1100.0/Accuracy1.0/D90', 'Stimulus/i75.0/r75.0/BigLetterh/SmallLetters/Taskl/TargetLetters/Responded1.0/ParticipantResponse115.0/CorrectResponse115.0/TrialCount149.0/BlockTrialCount37.0/ReactionTime1183.0/Accuracy1.0/D90', 'Stimulus/i75.0/r75.0/BigLetterh/SmallLetters/Taskl/TargetLetters/Responded1.0/ParticipantResponse115.0/CorrectResponse115.0/TrialCount169.0/BlockTrialCount57.0/ReactionTime1366.0/Accuracy1.0/D90', 'Stimulus/i75.0/r75.0/BigLetterh/SmallLetters/Taskl/TargetLetters/Responded1.0/ParticipantResponse115.0/CorrectResponse115.0/TrialCount180.0/BlockTrialCount68.0/ReactionTime866.0/Accuracy1.0/D90', 'Stimulus/i75.0/r75.0/BigLetterh/SmallLetters/Taskl/TargetLetters/Responded1.0/ParticipantResponse115.0/CorrectResponse115.0/TrialCount185.0/BlockTrialCount73.0/ReactionTime1283.0/Accuracy1.0/D90', 'Stimulus/i75.0/r75.0/BigLetterh/SmallLetters/Taskl/TargetLetters/Responded1.0/ParticipantResponse115.0/CorrectResponse115.0/TrialCount206.0/BlockTrialCount94.0/ReactionTime1233.0/Accuracy1.0/D90', 'Stimulus/i75.0/r75.0/BigLetters/SmallLetterh/Taskg/TargetLetters/Responded1.0/ParticipantResponse115.0/CorrectResponse115.0/TrialCount153.0/BlockTrialCount41.0/ReactionTime1966.0/Accuracy1.0/D90', 'Stimulus/i75.0/r75.0/BigLetters/SmallLetterh/Taskg/TargetLetters/Responded1.0/ParticipantResponse115.0/CorrectResponse115.0/TrialCount158.0/BlockTrialCount46.0/ReactionTime1316.0/Accuracy1.0/D90', 'Stimulus/i75.0/r75.0/BigLetters/SmallLetterh/Taskg/TargetLetters/Responded1.0/ParticipantResponse115.0/CorrectResponse115.0/TrialCount175.0/BlockTrialCount63.0/ReactionTime1699.0/Accuracy1.0/D90', 'Stimulus/i75.0/r75.0/BigLetters/SmallLetterh/Taskg/TargetLetters/Responded1.0/ParticipantResponse115.0/CorrectResponse115.0/TrialCount176.0/BlockTrialCount64.0/ReactionTime1400.0/Accuracy1.0/D90', 'Stimulus/i75.0/r75.0/BigLetters/SmallLetterh/Taskg/TargetLetters/Responded1.0/ParticipantResponse115.0/CorrectResponse115.0/TrialCount187.0/BlockTrialCount75.0/ReactionTime1033.0/Accuracy1.0/D90', 'Stimulus/i75.0/r75.0/BigLetters/SmallLetterh/Taskg/TargetLetters/Responded1.0/ParticipantResponse115.0/CorrectResponse115.0/TrialCount213.0/BlockTrialCount101.0/ReactionTime1133.0/Accuracy1.0/D90', 'Stimulus/i75.0/r75.0/BigLetters/SmallLetterh/Taskl/TargetLetterh/Responded1.0/ParticipantResponse114.0/CorrectResponse114.0/TrialCount148.0/BlockTrialCount36.0/ReactionTime1500.0/Accuracy1.0/D90', 'Stimulus/i75.0/r75.0/BigLetters/SmallLetterh/Taskl/TargetLetterh/Responded1.0/ParticipantResponse114.0/CorrectResponse114.0/TrialCount205.0/BlockTrialCount93.0/ReactionTime1833.0/Accuracy1.0/D90', 'Stimulus/i75.0/r75.0/BigLetters/SmallLetterh/Taskl/TargetLetterh/Responded1.0/ParticipantResponse114.0/CorrectResponse114.0/TrialCount215.0/BlockTrialCount103.0/ReactionTime1616.0/Accuracy1.0/D90', 'Stimulus/i75.0/s25.0/BigLetterh/SmallLetters/Taskg/TargetLetterh/Responded1.0/ParticipantResponse114.0/CorrectResponse114.0/TrialCount43.0/BlockTrialCount43.0/ReactionTime800.0/Accuracy1.0/D90', 'Stimulus/i75.0/s25.0/BigLetterh/SmallLetters/Taskg/TargetLetterh/Responded1.0/ParticipantResponse114.0/CorrectResponse114.0/TrialCount5.0/BlockTrialCount5.0/ReactionTime2316.0/Accuracy1.0/D90', 'Stimulus/i75.0/s25.0/BigLetterh/SmallLetters/Taskg/TargetLetterh/Responded1.0/ParticipantResponse114.0/CorrectResponse114.0/TrialCount65.0/BlockTrialCount65.0/ReactionTime933.0/Accuracy1.0/D90', 'Stimulus/i75.0/s25.0/BigLetterh/SmallLetters/Taskg/TargetLetterh/Responded1.0/ParticipantResponse114.0/CorrectResponse114.0/TrialCount72.0/BlockTrialCount72.0/ReactionTime1566.0/Accuracy1.0/D90', 'Stimulus/i75.0/s25.0/BigLetterh/SmallLetters/Taskl/TargetLetters/Responded1.0/ParticipantResponse115.0/CorrectResponse115.0/TrialCount14.0/BlockTrialCount14.0/ReactionTime1716.0/Accuracy1.0/D90', 'Stimulus/i75.0/s25.0/BigLetterh/SmallLetters/Taskl/TargetLetters/Responded1.0/ParticipantResponse115.0/CorrectResponse115.0/TrialCount22.0/BlockTrialCount22.0/ReactionTime1349.0/Accuracy1.0/D90', 'Stimulus/i75.0/s25.0/BigLetterh/SmallLetters/Taskl/TargetLetters/Responded1.0/ParticipantResponse115.0/CorrectResponse115.0/TrialCount42.0/BlockTrialCount42.0/ReactionTime1533.0/Accuracy1.0/D90', 'Stimulus/i75.0/s25.0/BigLetterh/SmallLetters/Taskl/TargetLetters/Responded1.0/ParticipantResponse115.0/CorrectResponse115.0/TrialCount56.0/BlockTrialCount56.0/ReactionTime999.0/Accuracy1.0/D90', 'Stimulus/i75.0/s25.0/BigLetterh/SmallLetters/Taskl/TargetLetters/Responded1.0/ParticipantResponse115.0/CorrectResponse115.0/TrialCount68.0/BlockTrialCount68.0/ReactionTime1699.0/Accuracy1.0/D90', 'Stimulus/i75.0/s25.0/BigLetters/SmallLetterh/Taskg/TargetLetters/Responded1.0/ParticipantResponse115.0/CorrectResponse115.0/TrialCount104.0/BlockTrialCount104.0/ReactionTime1583.0/Accuracy1.0/D90', 'Stimulus/i75.0/s25.0/BigLetters/SmallLetterh/Taskg/TargetLetters/Responded1.0/ParticipantResponse115.0/CorrectResponse115.0/TrialCount111.0/BlockTrialCount111.0/ReactionTime1299.0/Accuracy1.0/D90', 'Stimulus/i75.0/s25.0/BigLetters/SmallLetterh/Taskg/TargetLetters/Responded1.0/ParticipantResponse115.0/CorrectResponse115.0/TrialCount13.0/BlockTrialCount13.0/ReactionTime1649.0/Accuracy1.0/D90', 'Stimulus/i75.0/s25.0/BigLetters/SmallLetterh/Taskg/TargetLetters/Responded1.0/ParticipantResponse115.0/CorrectResponse115.0/TrialCount15.0/BlockTrialCount15.0/ReactionTime1583.0/Accuracy1.0/D90', 'Stimulus/i75.0/s25.0/BigLetters/SmallLetterh/Taskg/TargetLetters/Responded1.0/ParticipantResponse115.0/CorrectResponse115.0/TrialCount2.0/BlockTrialCount2.0/ReactionTime1116.0/Accuracy1.0/D90', 'Stimulus/i75.0/s25.0/BigLetters/SmallLetterh/Taskg/TargetLetters/Responded1.0/ParticipantResponse115.0/CorrectResponse115.0/TrialCount47.0/BlockTrialCount47.0/ReactionTime2083.0/Accuracy1.0/D90', 'Stimulus/i75.0/s25.0/BigLetters/SmallLetterh/Taskg/TargetLetters/Responded1.0/ParticipantResponse115.0/CorrectResponse115.0/TrialCount50.0/BlockTrialCount50.0/ReactionTime1249.0/Accuracy1.0/D90', 'Stimulus/i75.0/s25.0/BigLetters/SmallLetterh/Taskl/TargetLetterh/Responded1.0/ParticipantResponse114.0/CorrectResponse114.0/TrialCount44.0/BlockTrialCount44.0/ReactionTime1433.0/Accuracy1.0/D90', 'Stimulus/i75.0/s25.0/BigLetters/SmallLetterh/Taskl/TargetLetterh/Responded1.0/ParticipantResponse114.0/CorrectResponse114.0/TrialCount7.0/BlockTrialCount7.0/ReactionTime1616.0/Accuracy1.0/D90', 'Stimulus/i75.0/s25.0/BigLetters/SmallLetterh/Taskl/TargetLetterh/Responded1.0/ParticipantResponse114.0/CorrectResponse114.0/TrialCount74.0/BlockTrialCount74.0/ReactionTime1883.0/Accuracy1.0/D90', 'Stimulus/i75.0/s25.0/BigLetters/SmallLetterh/Taskl/TargetLetterh/Responded1.0/ParticipantResponse114.0/CorrectResponse114.0/TrialCount82.0/BlockTrialCount82.0/ReactionTime1233.0/Accuracy1.0/D90', 'Stimulus/i75.0/s25.0/BigLetters/SmallLetterh/Taskl/TargetLetterh/Responded1.0/ParticipantResponse114.0/CorrectResponse114.0/TrialCount94.0/BlockTrialCount94.0/ReactionTime1599.0/Accuracy1.0/D90', 'Stimulus/i75.0/s75.0/BigLetterh/SmallLetters/Taskg/TargetLetterh/Responded1.0/ParticipantResponse114.0/CorrectResponse114.0/TrialCount128.0/BlockTrialCount16.0/ReactionTime1699.0/Accuracy1.0/D90', 'Stimulus/i75.0/s75.0/BigLetterh/SmallLetters/Taskg/TargetLetterh/Responded1.0/ParticipantResponse114.0/CorrectResponse114.0/TrialCount152.0/BlockTrialCount40.0/ReactionTime933.0/Accuracy1.0/D90', 'Stimulus/i75.0/s75.0/BigLetterh/SmallLetters/Taskg/TargetLetterh/Responded1.0/ParticipantResponse114.0/CorrectResponse114.0/TrialCount157.0/BlockTrialCount45.0/ReactionTime1733.0/Accuracy1.0/D90', 'Stimulus/i75.0/s75.0/BigLetterh/SmallLetters/Taskg/TargetLetterh/Responded1.0/ParticipantResponse114.0/CorrectResponse114.0/TrialCount164.0/BlockTrialCount52.0/ReactionTime1016.0/Accuracy1.0/D90', 'Stimulus/i75.0/s75.0/BigLetterh/SmallLetters/Taskg/TargetLetterh/Responded1.0/ParticipantResponse114.0/CorrectResponse114.0/TrialCount166.0/BlockTrialCount54.0/ReactionTime1216.0/Accuracy1.0/D90', 'Stimulus/i75.0/s75.0/BigLetterh/SmallLetters/Taskg/TargetLetterh/Responded1.0/ParticipantResponse114.0/CorrectResponse114.0/TrialCount181.0/BlockTrialCount69.0/ReactionTime1099.0/Accuracy1.0/D90', 'Stimulus/i75.0/s75.0/BigLetterh/SmallLetters/Taskg/TargetLetterh/Responded1.0/ParticipantResponse114.0/CorrectResponse114.0/TrialCount183.0/BlockTrialCount71.0/ReactionTime1316.0/Accuracy1.0/D90', 'Stimulus/i75.0/s75.0/BigLetterh/SmallLetters/Taskg/TargetLetterh/Responded1.0/ParticipantResponse114.0/CorrectResponse114.0/TrialCount186.0/BlockTrialCount74.0/ReactionTime1016.0/Accuracy1.0/D90', 'Stimulus/i75.0/s75.0/BigLetterh/SmallLetters/Taskg/TargetLetterh/Responded1.0/ParticipantResponse114.0/CorrectResponse114.0/TrialCount191.0/BlockTrialCount79.0/ReactionTime1266.0/Accuracy1.0/D90', 'Stimulus/i75.0/s75.0/BigLetterh/SmallLetters/Taskg/TargetLetterh/Responded1.0/ParticipantResponse114.0/CorrectResponse114.0/TrialCount210.0/BlockTrialCount98.0/ReactionTime916.0/Accuracy1.0/D90', 'Stimulus/i75.0/s75.0/BigLetterh/SmallLetters/Taskg/TargetLetterh/Responded1.0/ParticipantResponse114.0/CorrectResponse114.0/TrialCount216.0/BlockTrialCount104.0/ReactionTime1199.0/Accuracy1.0/D90', 'Stimulus/i75.0/s75.0/BigLetterh/SmallLetters/Taskg/TargetLetterh/Responded1.0/ParticipantResponse114.0/CorrectResponse114.0/TrialCount218.0/BlockTrialCount106.0/ReactionTime1416.0/Accuracy1.0/D90', 'Stimulus/i75.0/s75.0/BigLetterh/SmallLetters/Taskg/TargetLetterh/Responded1.0/ParticipantResponse114.0/CorrectResponse114.0/TrialCount221.0/BlockTrialCount109.0/ReactionTime999.0/Accuracy1.0/D90', 'Stimulus/i75.0/s75.0/BigLetterh/SmallLetters/Taskg/TargetLetterh/Responded1.0/ParticipantResponse114.0/CorrectResponse114.0/TrialCount223.0/BlockTrialCount111.0/ReactionTime1166.0/Accuracy1.0/D90', 'Stimulus/i75.0/s75.0/BigLetterh/SmallLetters/Taskl/TargetLetters/Responded0.0/ParticipantResponsenan/CorrectResponse115.0/TrialCount117.0/BlockTrialCount5.0/ReactionTimenan/Accuracy0.0/D90', 'Stimulus/i75.0/s75.0/BigLetterh/SmallLetters/Taskl/TargetLetters/Responded0.0/ParticipantResponsenan/CorrectResponse115.0/TrialCount202.0/BlockTrialCount90.0/ReactionTimenan/Accuracy0.0/D90', 'Stimulus/i75.0/s75.0/BigLetterh/SmallLetters/Taskl/TargetLetters/Responded1.0/ParticipantResponse115.0/CorrectResponse115.0/TrialCount135.0/BlockTrialCount23.0/ReactionTime1633.0/Accuracy1.0/D90', 'Stimulus/i75.0/s75.0/BigLetterh/SmallLetters/Taskl/TargetLetters/Responded1.0/ParticipantResponse115.0/CorrectResponse115.0/TrialCount137.0/BlockTrialCount25.0/ReactionTime1200.0/Accuracy1.0/D90', 'Stimulus/i75.0/s75.0/BigLetterh/SmallLetters/Taskl/TargetLetters/Responded1.0/ParticipantResponse115.0/CorrectResponse115.0/TrialCount144.0/BlockTrialCount32.0/ReactionTime1799.0/Accuracy1.0/D90', 'Stimulus/i75.0/s75.0/BigLetterh/SmallLetters/Taskl/TargetLetters/Responded1.0/ParticipantResponse115.0/CorrectResponse115.0/TrialCount147.0/BlockTrialCount35.0/ReactionTime1483.0/Accuracy1.0/D90', 'Stimulus/i75.0/s75.0/BigLetterh/SmallLetters/Taskl/TargetLetters/Responded1.0/ParticipantResponse115.0/CorrectResponse115.0/TrialCount159.0/BlockTrialCount47.0/ReactionTime1633.0/Accuracy1.0/D90', 'Stimulus/i75.0/s75.0/BigLetterh/SmallLetters/Taskl/TargetLetters/Responded1.0/ParticipantResponse115.0/CorrectResponse115.0/TrialCount161.0/BlockTrialCount49.0/ReactionTime1383.0/Accuracy1.0/D90', 'Stimulus/i75.0/s75.0/BigLetterh/SmallLetters/Taskl/TargetLetters/Responded1.0/ParticipantResponse115.0/CorrectResponse115.0/TrialCount163.0/BlockTrialCount51.0/ReactionTime1183.0/Accuracy1.0/D90', 'Stimulus/i75.0/s75.0/BigLetterh/SmallLetters/Taskl/TargetLetters/Responded1.0/ParticipantResponse115.0/CorrectResponse115.0/TrialCount177.0/BlockTrialCount65.0/ReactionTime1749.0/Accuracy1.0/D90', 'Stimulus/i75.0/s75.0/BigLetterh/SmallLetters/Taskl/TargetLetters/Responded1.0/ParticipantResponse115.0/CorrectResponse115.0/TrialCount179.0/BlockTrialCount67.0/ReactionTime2066.0/Accuracy1.0/D90', 'Stimulus/i75.0/s75.0/BigLetterh/SmallLetters/Taskl/TargetLetters/Responded1.0/ParticipantResponse115.0/CorrectResponse115.0/TrialCount188.0/BlockTrialCount76.0/ReactionTime1616.0/Accuracy1.0/D90', 'Stimulus/i75.0/s75.0/BigLetterh/SmallLetters/Taskl/TargetLetters/Responded1.0/ParticipantResponse115.0/CorrectResponse115.0/TrialCount193.0/BlockTrialCount81.0/ReactionTime1350.0/Accuracy1.0/D90', 'Stimulus/i75.0/s75.0/BigLetterh/SmallLetters/Taskl/TargetLetters/Responded1.0/ParticipantResponse115.0/CorrectResponse115.0/TrialCount197.0/BlockTrialCount85.0/ReactionTime1649.0/Accuracy1.0/D90', 'Stimulus/i75.0/s75.0/BigLetterh/SmallLetters/Taskl/TargetLetters/Responded1.0/ParticipantResponse115.0/CorrectResponse115.0/TrialCount211.0/BlockTrialCount99.0/ReactionTime649.0/Accuracy1.0/D90', 'Stimulus/i75.0/s75.0/BigLetterh/SmallLetters/Taskl/TargetLetters/Responded1.0/ParticipantResponse115.0/CorrectResponse115.0/TrialCount217.0/BlockTrialCount105.0/ReactionTime1333.0/Accuracy1.0/D90', 'Stimulus/i75.0/s75.0/BigLetterh/SmallLetters/Taskl/TargetLetters/Responded1.0/ParticipantResponse115.0/CorrectResponse115.0/TrialCount220.0/BlockTrialCount108.0/ReactionTime783.0/Accuracy1.0/D90', 'Stimulus/i75.0/s75.0/BigLetters/SmallLetterh/Taskg/TargetLetters/Responded1.0/ParticipantResponse114.0/CorrectResponse115.0/TrialCount203.0/BlockTrialCount91.0/ReactionTime1749.0/Accuracy0.0/D90', 'Stimulus/i75.0/s75.0/BigLetters/SmallLetterh/Taskg/TargetLetters/Responded1.0/ParticipantResponse114.0/CorrectResponse115.0/TrialCount212.0/BlockTrialCount100.0/ReactionTime1049.0/Accuracy0.0/D90', 'Stimulus/i75.0/s75.0/BigLetters/SmallLetterh/Taskg/TargetLetters/Responded1.0/ParticipantResponse115.0/CorrectResponse115.0/TrialCount116.0/BlockTrialCount4.0/ReactionTime816.0/Accuracy1.0/D90', 'Stimulus/i75.0/s75.0/BigLetters/SmallLetterh/Taskg/TargetLetters/Responded1.0/ParticipantResponse115.0/CorrectResponse115.0/TrialCount120.0/BlockTrialCount8.0/ReactionTime1283.0/Accuracy1.0/D90', 'Stimulus/i75.0/s75.0/BigLetters/SmallLetterh/Taskg/TargetLetters/Responded1.0/ParticipantResponse115.0/CorrectResponse115.0/TrialCount125.0/BlockTrialCount13.0/ReactionTime2099.0/Accuracy1.0/D90', 'Stimulus/i75.0/s75.0/BigLetters/SmallLetterh/Taskg/TargetLetters/Responded1.0/ParticipantResponse115.0/CorrectResponse115.0/TrialCount130.0/BlockTrialCount18.0/ReactionTime1599.0/Accuracy1.0/D90', 'Stimulus/i75.0/s75.0/BigLetters/SmallLetterh/Taskg/TargetLetters/Responded1.0/ParticipantResponse115.0/CorrectResponse115.0/TrialCount138.0/BlockTrialCount26.0/ReactionTime1683.0/Accuracy1.0/D90', 'Stimulus/i75.0/s75.0/BigLetters/SmallLetterh/Taskg/TargetLetters/Responded1.0/ParticipantResponse115.0/CorrectResponse115.0/TrialCount140.0/BlockTrialCount28.0/ReactionTime1333.0/Accuracy1.0/D90', 'Stimulus/i75.0/s75.0/BigLetters/SmallLetterh/Taskg/TargetLetters/Responded1.0/ParticipantResponse115.0/CorrectResponse115.0/TrialCount146.0/BlockTrialCount34.0/ReactionTime1533.0/Accuracy1.0/D90', 'Stimulus/i75.0/s75.0/BigLetters/SmallLetterh/Taskg/TargetLetters/Responded1.0/ParticipantResponse115.0/CorrectResponse115.0/TrialCount150.0/BlockTrialCount38.0/ReactionTime1399.0/Accuracy1.0/D90', 'Stimulus/i75.0/s75.0/BigLetters/SmallLetterh/Taskg/TargetLetters/Responded1.0/ParticipantResponse115.0/CorrectResponse115.0/TrialCount162.0/BlockTrialCount50.0/ReactionTime1683.0/Accuracy1.0/D90', 'Stimulus/i75.0/s75.0/BigLetters/SmallLetterh/Taskg/TargetLetters/Responded1.0/ParticipantResponse115.0/CorrectResponse115.0/TrialCount170.0/BlockTrialCount58.0/ReactionTime1366.0/Accuracy1.0/D90', 'Stimulus/i75.0/s75.0/BigLetters/SmallLetterh/Taskg/TargetLetters/Responded1.0/ParticipantResponse115.0/CorrectResponse115.0/TrialCount172.0/BlockTrialCount60.0/ReactionTime1399.0/Accuracy1.0/D90', 'Stimulus/i75.0/s75.0/BigLetters/SmallLetterh/Taskg/TargetLetters/Responded1.0/ParticipantResponse115.0/CorrectResponse115.0/TrialCount198.0/BlockTrialCount86.0/ReactionTime1616.0/Accuracy1.0/D90', 'Stimulus/i75.0/s75.0/BigLetters/SmallLetterh/Taskl/TargetLetterh/Responded1.0/ParticipantResponse114.0/CorrectResponse114.0/TrialCount115.0/BlockTrialCount3.0/ReactionTime1533.0/Accuracy1.0/D90', 'Stimulus/i75.0/s75.0/BigLetters/SmallLetterh/Taskl/TargetLetterh/Responded1.0/ParticipantResponse114.0/CorrectResponse114.0/TrialCount119.0/BlockTrialCount7.0/ReactionTime1616.0/Accuracy1.0/D90', 'Stimulus/i75.0/s75.0/BigLetters/SmallLetterh/Taskl/TargetLetterh/Responded1.0/ParticipantResponse114.0/CorrectResponse114.0/TrialCount121.0/BlockTrialCount9.0/ReactionTime1749.0/Accuracy1.0/D90', 'Stimulus/i75.0/s75.0/BigLetters/SmallLetterh/Taskl/TargetLetterh/Responded1.0/ParticipantResponse114.0/CorrectResponse114.0/TrialCount127.0/BlockTrialCount15.0/ReactionTime1633.0/Accuracy1.0/D90', 'Stimulus/i75.0/s75.0/BigLetters/SmallLetterh/Taskl/TargetLetterh/Responded1.0/ParticipantResponse114.0/CorrectResponse114.0/TrialCount129.0/BlockTrialCount17.0/ReactionTime1600.0/Accuracy1.0/D90', 'Stimulus/i75.0/s75.0/BigLetters/SmallLetterh/Taskl/TargetLetterh/Responded1.0/ParticipantResponse114.0/CorrectResponse114.0/TrialCount142.0/BlockTrialCount30.0/ReactionTime1333.0/Accuracy1.0/D90', 'Stimulus/i75.0/s75.0/BigLetters/SmallLetterh/Taskl/TargetLetterh/Responded1.0/ParticipantResponse114.0/CorrectResponse114.0/TrialCount154.0/BlockTrialCount42.0/ReactionTime1449.0/Accuracy1.0/D90', 'Stimulus/i75.0/s75.0/BigLetters/SmallLetterh/Taskl/TargetLetterh/Responded1.0/ParticipantResponse114.0/CorrectResponse114.0/TrialCount165.0/BlockTrialCount53.0/ReactionTime1499.0/Accuracy1.0/D90', 'Stimulus/i75.0/s75.0/BigLetters/SmallLetterh/Taskl/TargetLetterh/Responded1.0/ParticipantResponse114.0/CorrectResponse114.0/TrialCount168.0/BlockTrialCount56.0/ReactionTime1899.0/Accuracy1.0/D90', 'Stimulus/i75.0/s75.0/BigLetters/SmallLetterh/Taskl/TargetLetterh/Responded1.0/ParticipantResponse114.0/CorrectResponse114.0/TrialCount171.0/BlockTrialCount59.0/ReactionTime1466.0/Accuracy1.0/D90', 'Stimulus/i75.0/s75.0/BigLetters/SmallLetterh/Taskl/TargetLetterh/Responded1.0/ParticipantResponse114.0/CorrectResponse114.0/TrialCount173.0/BlockTrialCount61.0/ReactionTime1033.0/Accuracy1.0/D90', 'Stimulus/i75.0/s75.0/BigLetters/SmallLetterh/Taskl/TargetLetterh/Responded1.0/ParticipantResponse114.0/CorrectResponse114.0/TrialCount195.0/BlockTrialCount83.0/ReactionTime1866.0/Accuracy1.0/D90', 'Stimulus/i75.0/s75.0/BigLetters/SmallLetterh/Taskl/TargetLetterh/Responded1.0/ParticipantResponse114.0/CorrectResponse114.0/TrialCount200.0/BlockTrialCount88.0/ReactionTime1550.0/Accuracy1.0/D90', 'Stimulus/i75.0/s75.0/BigLetters/SmallLetterh/Taskl/TargetLetterh/Responded1.0/ParticipantResponse114.0/CorrectResponse114.0/TrialCount204.0/BlockTrialCount92.0/ReactionTime1550.0/Accuracy1.0/D90', 'Stimulus/i75.0/s75.0/BigLetters/SmallLetterh/Taskl/TargetLetterh/Responded1.0/ParticipantResponse114.0/CorrectResponse114.0/TrialCount208.0/BlockTrialCount96.0/ReactionTime666.0/Accuracy1.0/D90', 'Stimulus/i75.0/s75.0/BigLetters/SmallLetterh/Taskl/TargetLetterh/Responded1.0/ParticipantResponse115.0/CorrectResponse114.0/TrialCount224.0/BlockTrialCount112.0/ReactionTime1400.0/Accuracy0.0/D90']\n",
      "Not setting metadata\n",
      "450 matching events found\n",
      "No baseline correction applied\n",
      "0 projection items activated\n",
      "Using data from preloaded Raw for 450 events and 2459 original time points ...\n",
      "0 bad epochs dropped\n",
      "NOTE: tfr_multitaper() is a legacy function. New code should use .compute_tfr(method=\"multitaper\").\n",
      "Used Annotations descriptions: ['1', '2', 'Response/c25.0/n25.0/BigLetterh/SmallLetterh/Taskg/TargetLetterh/Responded1.0/ParticipantResponse114.0/CorrectResponse114.0/TrialCount337.0/BlockTrialCount1.0/ReactionTime816.0/Accuracy1.0/D90', 'Response/c25.0/n75.0/BigLetterh/SmallLetterh/Taskl/TargetLetterh/Responded1.0/ParticipantResponse114.0/CorrectResponse114.0/TrialCount225.0/BlockTrialCount1.0/ReactionTime1266.0/Accuracy1.0/D90', 'Response/c25.0/r25.0/BigLetterh/SmallLetterh/Taskg/TargetLetterh/Responded1.0/ParticipantResponse114.0/CorrectResponse114.0/TrialCount340.0/BlockTrialCount4.0/ReactionTime616.0/Accuracy1.0/D90', 'Response/c25.0/r25.0/BigLetterh/SmallLetterh/Taskg/TargetLetterh/Responded1.0/ParticipantResponse114.0/CorrectResponse114.0/TrialCount341.0/BlockTrialCount5.0/ReactionTime599.0/Accuracy1.0/D90', 'Response/c25.0/r25.0/BigLetterh/SmallLetterh/Taskg/TargetLetterh/Responded1.0/ParticipantResponse114.0/CorrectResponse114.0/TrialCount342.0/BlockTrialCount6.0/ReactionTime600.0/Accuracy1.0/D90', 'Response/c25.0/r25.0/BigLetterh/SmallLetterh/Taskg/TargetLetterh/Responded1.0/ParticipantResponse114.0/CorrectResponse114.0/TrialCount344.0/BlockTrialCount8.0/ReactionTime666.0/Accuracy1.0/D90', 'Response/c25.0/r25.0/BigLetterh/SmallLetterh/Taskg/TargetLetterh/Responded1.0/ParticipantResponse114.0/CorrectResponse114.0/TrialCount364.0/BlockTrialCount28.0/ReactionTime1216.0/Accuracy1.0/D90', 'Response/c25.0/r25.0/BigLetterh/SmallLetterh/Taskg/TargetLetterh/Responded1.0/ParticipantResponse114.0/CorrectResponse114.0/TrialCount382.0/BlockTrialCount46.0/ReactionTime849.0/Accuracy1.0/D90', 'Response/c25.0/r25.0/BigLetterh/SmallLetterh/Taskg/TargetLetterh/Responded1.0/ParticipantResponse114.0/CorrectResponse114.0/TrialCount392.0/BlockTrialCount56.0/ReactionTime850.0/Accuracy1.0/D90', 'Response/c25.0/r25.0/BigLetterh/SmallLetterh/Taskg/TargetLetterh/Responded1.0/ParticipantResponse114.0/CorrectResponse114.0/TrialCount398.0/BlockTrialCount62.0/ReactionTime800.0/Accuracy1.0/D90', 'Response/c25.0/r25.0/BigLetterh/SmallLetterh/Taskg/TargetLetterh/Responded1.0/ParticipantResponse114.0/CorrectResponse114.0/TrialCount400.0/BlockTrialCount64.0/ReactionTime883.0/Accuracy1.0/D90', 'Response/c25.0/r25.0/BigLetterh/SmallLetterh/Taskg/TargetLetterh/Responded1.0/ParticipantResponse114.0/CorrectResponse114.0/TrialCount403.0/BlockTrialCount67.0/ReactionTime899.0/Accuracy1.0/D90', 'Response/c25.0/r25.0/BigLetterh/SmallLetterh/Taskg/TargetLetterh/Responded1.0/ParticipantResponse114.0/CorrectResponse114.0/TrialCount405.0/BlockTrialCount69.0/ReactionTime866.0/Accuracy1.0/D90', 'Response/c25.0/r25.0/BigLetterh/SmallLetterh/Taskg/TargetLetterh/Responded1.0/ParticipantResponse114.0/CorrectResponse114.0/TrialCount418.0/BlockTrialCount82.0/ReactionTime666.0/Accuracy1.0/D90', 'Response/c25.0/r25.0/BigLetterh/SmallLetterh/Taskg/TargetLetterh/Responded1.0/ParticipantResponse114.0/CorrectResponse114.0/TrialCount426.0/BlockTrialCount90.0/ReactionTime1033.0/Accuracy1.0/D90', 'Response/c25.0/r25.0/BigLetterh/SmallLetterh/Taskg/TargetLetterh/Responded1.0/ParticipantResponse114.0/CorrectResponse114.0/TrialCount429.0/BlockTrialCount93.0/ReactionTime666.0/Accuracy1.0/D90', 'Response/c25.0/r25.0/BigLetterh/SmallLetterh/Taskl/TargetLetterh/Responded1.0/ParticipantResponse114.0/CorrectResponse114.0/TrialCount353.0/BlockTrialCount17.0/ReactionTime1116.0/Accuracy1.0/D90', 'Response/c25.0/r25.0/BigLetterh/SmallLetterh/Taskl/TargetLetterh/Responded1.0/ParticipantResponse114.0/CorrectResponse114.0/TrialCount354.0/BlockTrialCount18.0/ReactionTime1583.0/Accuracy1.0/D90', 'Response/c25.0/r25.0/BigLetterh/SmallLetterh/Taskl/TargetLetterh/Responded1.0/ParticipantResponse114.0/CorrectResponse114.0/TrialCount357.0/BlockTrialCount21.0/ReactionTime1083.0/Accuracy1.0/D90', 'Response/c25.0/r25.0/BigLetterh/SmallLetterh/Taskl/TargetLetterh/Responded1.0/ParticipantResponse114.0/CorrectResponse114.0/TrialCount361.0/BlockTrialCount25.0/ReactionTime883.0/Accuracy1.0/D90', 'Response/c25.0/r25.0/BigLetterh/SmallLetterh/Taskl/TargetLetterh/Responded1.0/ParticipantResponse114.0/CorrectResponse114.0/TrialCount367.0/BlockTrialCount31.0/ReactionTime966.0/Accuracy1.0/D90', 'Response/c25.0/r25.0/BigLetterh/SmallLetterh/Taskl/TargetLetterh/Responded1.0/ParticipantResponse114.0/CorrectResponse114.0/TrialCount368.0/BlockTrialCount32.0/ReactionTime949.0/Accuracy1.0/D90', 'Response/c25.0/r25.0/BigLetterh/SmallLetterh/Taskl/TargetLetterh/Responded1.0/ParticipantResponse114.0/CorrectResponse114.0/TrialCount375.0/BlockTrialCount39.0/ReactionTime1000.0/Accuracy1.0/D90', 'Response/c25.0/r25.0/BigLetterh/SmallLetterh/Taskl/TargetLetterh/Responded1.0/ParticipantResponse114.0/CorrectResponse114.0/TrialCount377.0/BlockTrialCount41.0/ReactionTime833.0/Accuracy1.0/D90', 'Response/c25.0/r25.0/BigLetterh/SmallLetterh/Taskl/TargetLetterh/Responded1.0/ParticipantResponse114.0/CorrectResponse114.0/TrialCount378.0/BlockTrialCount42.0/ReactionTime1333.0/Accuracy1.0/D90', 'Response/c25.0/r25.0/BigLetterh/SmallLetterh/Taskl/TargetLetterh/Responded1.0/ParticipantResponse114.0/CorrectResponse114.0/TrialCount379.0/BlockTrialCount43.0/ReactionTime816.0/Accuracy1.0/D90', 'Response/c25.0/r25.0/BigLetterh/SmallLetterh/Taskl/TargetLetterh/Responded1.0/ParticipantResponse114.0/CorrectResponse114.0/TrialCount409.0/BlockTrialCount73.0/ReactionTime1799.0/Accuracy1.0/D90', 'Response/c25.0/r25.0/BigLetterh/SmallLetterh/Taskl/TargetLetterh/Responded1.0/ParticipantResponse114.0/CorrectResponse114.0/TrialCount410.0/BlockTrialCount74.0/ReactionTime733.0/Accuracy1.0/D90', 'Response/c25.0/r25.0/BigLetterh/SmallLetterh/Taskl/TargetLetterh/Responded1.0/ParticipantResponse114.0/CorrectResponse114.0/TrialCount435.0/BlockTrialCount99.0/ReactionTime1766.0/Accuracy1.0/D90', 'Response/c25.0/r25.0/BigLetterh/SmallLetterh/Taskl/TargetLetterh/Responded1.0/ParticipantResponse114.0/CorrectResponse114.0/TrialCount436.0/BlockTrialCount100.0/ReactionTime1566.0/Accuracy1.0/D90', 'Response/c25.0/r25.0/BigLetterh/SmallLetterh/Taskl/TargetLetterh/Responded1.0/ParticipantResponse114.0/CorrectResponse114.0/TrialCount438.0/BlockTrialCount102.0/ReactionTime1016.0/Accuracy1.0/D90', 'Response/c25.0/r25.0/BigLetterh/SmallLetterh/Taskl/TargetLetterh/Responded1.0/ParticipantResponse114.0/CorrectResponse114.0/TrialCount439.0/BlockTrialCount103.0/ReactionTime849.0/Accuracy1.0/D90', 'Response/c25.0/r25.0/BigLetterh/SmallLetterh/Taskl/TargetLetterh/Responded1.0/ParticipantResponse114.0/CorrectResponse114.0/TrialCount447.0/BlockTrialCount111.0/ReactionTime1649.0/Accuracy1.0/D90', 'Response/c25.0/r25.0/BigLetters/SmallLetters/Taskg/TargetLetters/Responded1.0/ParticipantResponse114.0/CorrectResponse115.0/TrialCount339.0/BlockTrialCount3.0/ReactionTime700.0/Accuracy0.0/D90', 'Response/c25.0/r25.0/BigLetters/SmallLetters/Taskg/TargetLetters/Responded1.0/ParticipantResponse115.0/CorrectResponse115.0/TrialCount343.0/BlockTrialCount7.0/ReactionTime649.0/Accuracy1.0/D90', 'Response/c25.0/r25.0/BigLetters/SmallLetters/Taskg/TargetLetters/Responded1.0/ParticipantResponse115.0/CorrectResponse115.0/TrialCount345.0/BlockTrialCount9.0/ReactionTime649.0/Accuracy1.0/D90', 'Response/c25.0/r25.0/BigLetters/SmallLetters/Taskg/TargetLetters/Responded1.0/ParticipantResponse115.0/CorrectResponse115.0/TrialCount363.0/BlockTrialCount27.0/ReactionTime1049.0/Accuracy1.0/D90', 'Response/c25.0/r25.0/BigLetters/SmallLetters/Taskg/TargetLetters/Responded1.0/ParticipantResponse115.0/CorrectResponse115.0/TrialCount365.0/BlockTrialCount29.0/ReactionTime1067.0/Accuracy1.0/D90', 'Response/c25.0/r25.0/BigLetters/SmallLetters/Taskg/TargetLetters/Responded1.0/ParticipantResponse115.0/CorrectResponse115.0/TrialCount381.0/BlockTrialCount45.0/ReactionTime716.0/Accuracy1.0/D90', 'Response/c25.0/r25.0/BigLetters/SmallLetters/Taskg/TargetLetters/Responded1.0/ParticipantResponse115.0/CorrectResponse115.0/TrialCount383.0/BlockTrialCount47.0/ReactionTime816.0/Accuracy1.0/D90', 'Response/c25.0/r25.0/BigLetters/SmallLetters/Taskg/TargetLetters/Responded1.0/ParticipantResponse115.0/CorrectResponse115.0/TrialCount399.0/BlockTrialCount63.0/ReactionTime899.0/Accuracy1.0/D90', 'Response/c25.0/r25.0/BigLetters/SmallLetters/Taskg/TargetLetters/Responded1.0/ParticipantResponse115.0/CorrectResponse115.0/TrialCount401.0/BlockTrialCount65.0/ReactionTime650.0/Accuracy1.0/D90', 'Response/c25.0/r25.0/BigLetters/SmallLetters/Taskg/TargetLetters/Responded1.0/ParticipantResponse115.0/CorrectResponse115.0/TrialCount404.0/BlockTrialCount68.0/ReactionTime1016.0/Accuracy1.0/D90', 'Response/c25.0/r25.0/BigLetters/SmallLetters/Taskg/TargetLetters/Responded1.0/ParticipantResponse115.0/CorrectResponse115.0/TrialCount406.0/BlockTrialCount70.0/ReactionTime666.0/Accuracy1.0/D90', 'Response/c25.0/r25.0/BigLetters/SmallLetters/Taskg/TargetLetters/Responded1.0/ParticipantResponse115.0/CorrectResponse115.0/TrialCount407.0/BlockTrialCount71.0/ReactionTime1399.0/Accuracy1.0/D90', 'Response/c25.0/r25.0/BigLetters/SmallLetters/Taskg/TargetLetters/Responded1.0/ParticipantResponse115.0/CorrectResponse115.0/TrialCount415.0/BlockTrialCount79.0/ReactionTime1100.0/Accuracy1.0/D90', 'Response/c25.0/r25.0/BigLetters/SmallLetters/Taskg/TargetLetters/Responded1.0/ParticipantResponse115.0/CorrectResponse115.0/TrialCount425.0/BlockTrialCount89.0/ReactionTime1499.0/Accuracy1.0/D90', 'Response/c25.0/r25.0/BigLetters/SmallLetters/Taskg/TargetLetters/Responded1.0/ParticipantResponse115.0/CorrectResponse115.0/TrialCount431.0/BlockTrialCount95.0/ReactionTime1066.0/Accuracy1.0/D90', 'Response/c25.0/r25.0/BigLetters/SmallLetters/Taskg/TargetLetters/Responded1.0/ParticipantResponse115.0/CorrectResponse115.0/TrialCount443.0/BlockTrialCount107.0/ReactionTime1183.0/Accuracy1.0/D90', 'Response/c25.0/r25.0/BigLetters/SmallLetters/Taskg/TargetLetters/Responded1.0/ParticipantResponse115.0/CorrectResponse115.0/TrialCount444.0/BlockTrialCount108.0/ReactionTime1349.0/Accuracy1.0/D90', 'Response/c25.0/r25.0/BigLetters/SmallLetters/Taskl/TargetLetters/Responded1.0/ParticipantResponse115.0/CorrectResponse115.0/TrialCount350.0/BlockTrialCount14.0/ReactionTime666.0/Accuracy1.0/D90', 'Response/c25.0/r25.0/BigLetters/SmallLetters/Taskl/TargetLetters/Responded1.0/ParticipantResponse115.0/CorrectResponse115.0/TrialCount352.0/BlockTrialCount16.0/ReactionTime916.0/Accuracy1.0/D90', 'Response/c25.0/r25.0/BigLetters/SmallLetters/Taskl/TargetLetters/Responded1.0/ParticipantResponse115.0/CorrectResponse115.0/TrialCount355.0/BlockTrialCount19.0/ReactionTime1000.0/Accuracy1.0/D90', 'Response/c25.0/r25.0/BigLetters/SmallLetters/Taskl/TargetLetters/Responded1.0/ParticipantResponse115.0/CorrectResponse115.0/TrialCount369.0/BlockTrialCount33.0/ReactionTime916.0/Accuracy1.0/D90', 'Response/c25.0/r25.0/BigLetters/SmallLetters/Taskl/TargetLetters/Responded1.0/ParticipantResponse115.0/CorrectResponse115.0/TrialCount370.0/BlockTrialCount34.0/ReactionTime1033.0/Accuracy1.0/D90', 'Response/c25.0/r25.0/BigLetters/SmallLetters/Taskl/TargetLetters/Responded1.0/ParticipantResponse115.0/CorrectResponse115.0/TrialCount374.0/BlockTrialCount38.0/ReactionTime933.0/Accuracy1.0/D90', 'Response/c25.0/r25.0/BigLetters/SmallLetters/Taskl/TargetLetters/Responded1.0/ParticipantResponse115.0/CorrectResponse115.0/TrialCount387.0/BlockTrialCount51.0/ReactionTime849.0/Accuracy1.0/D90', 'Response/c25.0/r25.0/BigLetters/SmallLetters/Taskl/TargetLetters/Responded1.0/ParticipantResponse115.0/CorrectResponse115.0/TrialCount390.0/BlockTrialCount54.0/ReactionTime916.0/Accuracy1.0/D90', 'Response/c25.0/r25.0/BigLetters/SmallLetters/Taskl/TargetLetters/Responded1.0/ParticipantResponse115.0/CorrectResponse115.0/TrialCount394.0/BlockTrialCount58.0/ReactionTime783.0/Accuracy1.0/D90', 'Response/c25.0/r25.0/BigLetters/SmallLetters/Taskl/TargetLetters/Responded1.0/ParticipantResponse115.0/CorrectResponse115.0/TrialCount422.0/BlockTrialCount86.0/ReactionTime1333.0/Accuracy1.0/D90', 'Response/c25.0/r25.0/BigLetters/SmallLetters/Taskl/TargetLetters/Responded1.0/ParticipantResponse115.0/CorrectResponse115.0/TrialCount423.0/BlockTrialCount87.0/ReactionTime666.0/Accuracy1.0/D90', 'Response/c25.0/r25.0/BigLetters/SmallLetters/Taskl/TargetLetters/Responded1.0/ParticipantResponse115.0/CorrectResponse115.0/TrialCount433.0/BlockTrialCount97.0/ReactionTime1749.0/Accuracy1.0/D90', 'Response/c25.0/r25.0/BigLetters/SmallLetters/Taskl/TargetLetters/Responded1.0/ParticipantResponse115.0/CorrectResponse115.0/TrialCount434.0/BlockTrialCount98.0/ReactionTime866.0/Accuracy1.0/D90', 'Response/c25.0/r25.0/BigLetters/SmallLetters/Taskl/TargetLetters/Responded1.0/ParticipantResponse115.0/CorrectResponse115.0/TrialCount448.0/BlockTrialCount112.0/ReactionTime950.0/Accuracy1.0/D90', 'Response/c25.0/r75.0/BigLetterh/SmallLetterh/Taskg/TargetLetterh/Responded1.0/ParticipantResponse114.0/CorrectResponse114.0/TrialCount257.0/BlockTrialCount33.0/ReactionTime1266.0/Accuracy1.0/D90', 'Response/c25.0/r75.0/BigLetterh/SmallLetterh/Taskg/TargetLetterh/Responded1.0/ParticipantResponse114.0/CorrectResponse114.0/TrialCount282.0/BlockTrialCount58.0/ReactionTime1049.0/Accuracy1.0/D90', 'Response/c25.0/r75.0/BigLetterh/SmallLetterh/Taskl/TargetLetterh/Responded1.0/ParticipantResponse114.0/CorrectResponse114.0/TrialCount237.0/BlockTrialCount13.0/ReactionTime1516.0/Accuracy1.0/D90', 'Response/c25.0/r75.0/BigLetterh/SmallLetterh/Taskl/TargetLetterh/Responded1.0/ParticipantResponse114.0/CorrectResponse114.0/TrialCount244.0/BlockTrialCount20.0/ReactionTime1249.0/Accuracy1.0/D90', 'Response/c25.0/r75.0/BigLetterh/SmallLetterh/Taskl/TargetLetterh/Responded1.0/ParticipantResponse114.0/CorrectResponse114.0/TrialCount286.0/BlockTrialCount62.0/ReactionTime933.0/Accuracy1.0/D90', 'Response/c25.0/r75.0/BigLetterh/SmallLetterh/Taskl/TargetLetterh/Responded1.0/ParticipantResponse114.0/CorrectResponse114.0/TrialCount317.0/BlockTrialCount93.0/ReactionTime1399.0/Accuracy1.0/D90', 'Response/c25.0/r75.0/BigLetterh/SmallLetterh/Taskl/TargetLetterh/Responded1.0/ParticipantResponse114.0/CorrectResponse114.0/TrialCount320.0/BlockTrialCount96.0/ReactionTime949.0/Accuracy1.0/D90', 'Response/c25.0/r75.0/BigLetters/SmallLetters/Taskg/TargetLetters/Responded1.0/ParticipantResponse115.0/CorrectResponse115.0/TrialCount227.0/BlockTrialCount3.0/ReactionTime983.0/Accuracy1.0/D90', 'Response/c25.0/r75.0/BigLetters/SmallLetters/Taskg/TargetLetters/Responded1.0/ParticipantResponse115.0/CorrectResponse115.0/TrialCount228.0/BlockTrialCount4.0/ReactionTime916.0/Accuracy1.0/D90', 'Response/c25.0/r75.0/BigLetters/SmallLetters/Taskg/TargetLetters/Responded1.0/ParticipantResponse115.0/CorrectResponse115.0/TrialCount241.0/BlockTrialCount17.0/ReactionTime1666.0/Accuracy1.0/D90', 'Response/c25.0/r75.0/BigLetters/SmallLetters/Taskg/TargetLetters/Responded1.0/ParticipantResponse115.0/CorrectResponse115.0/TrialCount272.0/BlockTrialCount48.0/ReactionTime1049.0/Accuracy1.0/D90', 'Response/c25.0/r75.0/BigLetters/SmallLetters/Taskg/TargetLetters/Responded1.0/ParticipantResponse115.0/CorrectResponse115.0/TrialCount281.0/BlockTrialCount57.0/ReactionTime1716.0/Accuracy1.0/D90', 'Response/c25.0/r75.0/BigLetters/SmallLetters/Taskg/TargetLetters/Responded1.0/ParticipantResponse115.0/CorrectResponse115.0/TrialCount296.0/BlockTrialCount72.0/ReactionTime1083.0/Accuracy1.0/D90', 'Response/c25.0/r75.0/BigLetters/SmallLetters/Taskg/TargetLetters/Responded1.0/ParticipantResponse115.0/CorrectResponse115.0/TrialCount305.0/BlockTrialCount81.0/ReactionTime1583.0/Accuracy1.0/D90', 'Response/c25.0/r75.0/BigLetters/SmallLetters/Taskg/TargetLetters/Responded1.0/ParticipantResponse115.0/CorrectResponse115.0/TrialCount308.0/BlockTrialCount84.0/ReactionTime1566.0/Accuracy1.0/D90', 'Response/c25.0/r75.0/BigLetters/SmallLetters/Taskg/TargetLetters/Responded1.0/ParticipantResponse115.0/CorrectResponse115.0/TrialCount325.0/BlockTrialCount101.0/ReactionTime1083.0/Accuracy1.0/D90', 'Response/c25.0/r75.0/BigLetters/SmallLetters/Taskl/TargetLetters/Responded1.0/ParticipantResponse115.0/CorrectResponse115.0/TrialCount230.0/BlockTrialCount6.0/ReactionTime633.0/Accuracy1.0/D90', 'Response/c25.0/r75.0/BigLetters/SmallLetters/Taskl/TargetLetters/Responded1.0/ParticipantResponse115.0/CorrectResponse115.0/TrialCount247.0/BlockTrialCount23.0/ReactionTime799.0/Accuracy1.0/D90', 'Response/c25.0/r75.0/BigLetters/SmallLetters/Taskl/TargetLetters/Responded1.0/ParticipantResponse115.0/CorrectResponse115.0/TrialCount267.0/BlockTrialCount43.0/ReactionTime1600.0/Accuracy1.0/D90', 'Response/c25.0/r75.0/BigLetters/SmallLetters/Taskl/TargetLetters/Responded1.0/ParticipantResponse115.0/CorrectResponse115.0/TrialCount323.0/BlockTrialCount99.0/ReactionTime1066.0/Accuracy1.0/D90', 'Response/c25.0/r75.0/BigLetters/SmallLetters/Taskl/TargetLetters/Responded1.0/ParticipantResponse115.0/CorrectResponse115.0/TrialCount329.0/BlockTrialCount105.0/ReactionTime883.0/Accuracy1.0/D90', 'Response/c25.0/s25.0/BigLetterh/SmallLetterh/Taskg/TargetLetterh/Responded1.0/ParticipantResponse114.0/CorrectResponse114.0/TrialCount380.0/BlockTrialCount44.0/ReactionTime1650.0/Accuracy1.0/D90', 'Response/c25.0/s25.0/BigLetterh/SmallLetterh/Taskg/TargetLetterh/Responded1.0/ParticipantResponse114.0/CorrectResponse114.0/TrialCount385.0/BlockTrialCount49.0/ReactionTime766.0/Accuracy1.0/D90', 'Response/c25.0/s25.0/BigLetterh/SmallLetterh/Taskg/TargetLetterh/Responded1.0/ParticipantResponse114.0/CorrectResponse114.0/TrialCount395.0/BlockTrialCount59.0/ReactionTime1283.0/Accuracy1.0/D90', 'Response/c25.0/s25.0/BigLetterh/SmallLetterh/Taskg/TargetLetterh/Responded1.0/ParticipantResponse114.0/CorrectResponse114.0/TrialCount414.0/BlockTrialCount78.0/ReactionTime833.0/Accuracy1.0/D90', 'Response/c25.0/s25.0/BigLetterh/SmallLetterh/Taskg/TargetLetterh/Responded1.0/ParticipantResponse114.0/CorrectResponse114.0/TrialCount420.0/BlockTrialCount84.0/ReactionTime733.0/Accuracy1.0/D90', 'Response/c25.0/s25.0/BigLetterh/SmallLetterh/Taskg/TargetLetterh/Responded1.0/ParticipantResponse114.0/CorrectResponse114.0/TrialCount428.0/BlockTrialCount92.0/ReactionTime916.0/Accuracy1.0/D90', 'Response/c25.0/s25.0/BigLetterh/SmallLetterh/Taskl/TargetLetterh/Responded1.0/ParticipantResponse114.0/CorrectResponse114.0/TrialCount347.0/BlockTrialCount11.0/ReactionTime2050.0/Accuracy1.0/D90', 'Response/c25.0/s25.0/BigLetterh/SmallLetterh/Taskl/TargetLetterh/Responded1.0/ParticipantResponse114.0/CorrectResponse114.0/TrialCount372.0/BlockTrialCount36.0/ReactionTime1683.0/Accuracy1.0/D90', 'Response/c25.0/s25.0/BigLetterh/SmallLetterh/Taskl/TargetLetterh/Responded1.0/ParticipantResponse114.0/CorrectResponse114.0/TrialCount386.0/BlockTrialCount50.0/ReactionTime1150.0/Accuracy1.0/D90', 'Response/c25.0/s25.0/BigLetterh/SmallLetterh/Taskl/TargetLetterh/Responded1.0/ParticipantResponse114.0/CorrectResponse114.0/TrialCount408.0/BlockTrialCount72.0/ReactionTime1266.0/Accuracy1.0/D90', 'Response/c25.0/s25.0/BigLetterh/SmallLetterh/Taskl/TargetLetterh/Responded1.0/ParticipantResponse114.0/CorrectResponse114.0/TrialCount419.0/BlockTrialCount83.0/ReactionTime1283.0/Accuracy1.0/D90', 'Response/c25.0/s25.0/BigLetterh/SmallLetterh/Taskl/TargetLetterh/Responded1.0/ParticipantResponse114.0/CorrectResponse114.0/TrialCount432.0/BlockTrialCount96.0/ReactionTime1549.0/Accuracy1.0/D90', 'Response/c25.0/s25.0/BigLetterh/SmallLetterh/Taskl/TargetLetterh/Responded1.0/ParticipantResponse115.0/CorrectResponse114.0/TrialCount393.0/BlockTrialCount57.0/ReactionTime1250.0/Accuracy0.0/D90', 'Response/c25.0/s25.0/BigLetterh/SmallLetterh/Taskl/TargetLetterh/Responded1.0/ParticipantResponse115.0/CorrectResponse114.0/TrialCount446.0/BlockTrialCount110.0/ReactionTime1816.0/Accuracy0.0/D90', 'Response/c25.0/s25.0/BigLetters/SmallLetters/Taskg/TargetLetters/Responded1.0/ParticipantResponse114.0/CorrectResponse115.0/TrialCount391.0/BlockTrialCount55.0/ReactionTime2333.0/Accuracy0.0/D90', 'Response/c25.0/s25.0/BigLetters/SmallLetters/Taskg/TargetLetters/Responded1.0/ParticipantResponse115.0/CorrectResponse115.0/TrialCount362.0/BlockTrialCount26.0/ReactionTime1733.0/Accuracy1.0/D90', 'Response/c25.0/s25.0/BigLetters/SmallLetters/Taskg/TargetLetters/Responded1.0/ParticipantResponse115.0/CorrectResponse115.0/TrialCount440.0/BlockTrialCount104.0/ReactionTime1366.0/Accuracy1.0/D90', 'Response/c25.0/s25.0/BigLetters/SmallLetters/Taskl/TargetLetters/Responded1.0/ParticipantResponse114.0/CorrectResponse115.0/TrialCount384.0/BlockTrialCount48.0/ReactionTime2216.0/Accuracy0.0/D90', 'Response/c25.0/s25.0/BigLetters/SmallLetters/Taskl/TargetLetters/Responded1.0/ParticipantResponse115.0/CorrectResponse115.0/TrialCount349.0/BlockTrialCount13.0/ReactionTime1816.0/Accuracy1.0/D90', 'Response/c25.0/s25.0/BigLetters/SmallLetters/Taskl/TargetLetters/Responded1.0/ParticipantResponse115.0/CorrectResponse115.0/TrialCount366.0/BlockTrialCount30.0/ReactionTime1266.0/Accuracy1.0/D90', 'Response/c25.0/s25.0/BigLetters/SmallLetters/Taskl/TargetLetters/Responded1.0/ParticipantResponse115.0/CorrectResponse115.0/TrialCount427.0/BlockTrialCount91.0/ReactionTime1000.0/Accuracy1.0/D90', 'Response/c25.0/s75.0/BigLetterh/SmallLetterh/Taskg/TargetLetterh/Responded1.0/ParticipantResponse114.0/CorrectResponse114.0/TrialCount226.0/BlockTrialCount2.0/ReactionTime1183.0/Accuracy1.0/D90', 'Response/c25.0/s75.0/BigLetterh/SmallLetterh/Taskg/TargetLetterh/Responded1.0/ParticipantResponse114.0/CorrectResponse114.0/TrialCount231.0/BlockTrialCount7.0/ReactionTime1116.0/Accuracy1.0/D90', 'Response/c25.0/s75.0/BigLetterh/SmallLetterh/Taskg/TargetLetterh/Responded1.0/ParticipantResponse114.0/CorrectResponse114.0/TrialCount233.0/BlockTrialCount9.0/ReactionTime983.0/Accuracy1.0/D90', 'Response/c25.0/s75.0/BigLetterh/SmallLetterh/Taskg/TargetLetterh/Responded1.0/ParticipantResponse114.0/CorrectResponse114.0/TrialCount235.0/BlockTrialCount11.0/ReactionTime1166.0/Accuracy1.0/D90', 'Response/c25.0/s75.0/BigLetterh/SmallLetterh/Taskg/TargetLetterh/Responded1.0/ParticipantResponse114.0/CorrectResponse114.0/TrialCount248.0/BlockTrialCount24.0/ReactionTime900.0/Accuracy1.0/D90', 'Response/c25.0/s75.0/BigLetterh/SmallLetterh/Taskg/TargetLetterh/Responded1.0/ParticipantResponse114.0/CorrectResponse114.0/TrialCount265.0/BlockTrialCount41.0/ReactionTime1116.0/Accuracy1.0/D90', 'Response/c25.0/s75.0/BigLetterh/SmallLetterh/Taskg/TargetLetterh/Responded1.0/ParticipantResponse114.0/CorrectResponse114.0/TrialCount269.0/BlockTrialCount45.0/ReactionTime1400.0/Accuracy1.0/D90', 'Response/c25.0/s75.0/BigLetterh/SmallLetterh/Taskg/TargetLetterh/Responded1.0/ParticipantResponse114.0/CorrectResponse114.0/TrialCount275.0/BlockTrialCount51.0/ReactionTime1084.0/Accuracy1.0/D90', 'Response/c25.0/s75.0/BigLetterh/SmallLetterh/Taskg/TargetLetterh/Responded1.0/ParticipantResponse114.0/CorrectResponse114.0/TrialCount284.0/BlockTrialCount60.0/ReactionTime799.0/Accuracy1.0/D90', 'Response/c25.0/s75.0/BigLetterh/SmallLetterh/Taskg/TargetLetterh/Responded1.0/ParticipantResponse114.0/CorrectResponse114.0/TrialCount291.0/BlockTrialCount67.0/ReactionTime1300.0/Accuracy1.0/D90', 'Response/c25.0/s75.0/BigLetterh/SmallLetterh/Taskg/TargetLetterh/Responded1.0/ParticipantResponse114.0/CorrectResponse114.0/TrialCount293.0/BlockTrialCount69.0/ReactionTime950.0/Accuracy1.0/D90', 'Response/c25.0/s75.0/BigLetterh/SmallLetterh/Taskg/TargetLetterh/Responded1.0/ParticipantResponse114.0/CorrectResponse114.0/TrialCount295.0/BlockTrialCount71.0/ReactionTime899.0/Accuracy1.0/D90', 'Response/c25.0/s75.0/BigLetterh/SmallLetterh/Taskg/TargetLetterh/Responded1.0/ParticipantResponse114.0/CorrectResponse114.0/TrialCount300.0/BlockTrialCount76.0/ReactionTime883.0/Accuracy1.0/D90', 'Response/c25.0/s75.0/BigLetterh/SmallLetterh/Taskg/TargetLetterh/Responded1.0/ParticipantResponse114.0/CorrectResponse114.0/TrialCount310.0/BlockTrialCount86.0/ReactionTime866.0/Accuracy1.0/D90', 'Response/c25.0/s75.0/BigLetterh/SmallLetterh/Taskg/TargetLetterh/Responded1.0/ParticipantResponse114.0/CorrectResponse114.0/TrialCount312.0/BlockTrialCount88.0/ReactionTime933.0/Accuracy1.0/D90', 'Response/c25.0/s75.0/BigLetterh/SmallLetterh/Taskg/TargetLetterh/Responded1.0/ParticipantResponse114.0/CorrectResponse114.0/TrialCount321.0/BlockTrialCount97.0/ReactionTime666.0/Accuracy1.0/D90', 'Response/c25.0/s75.0/BigLetterh/SmallLetterh/Taskg/TargetLetterh/Responded1.0/ParticipantResponse114.0/CorrectResponse114.0/TrialCount324.0/BlockTrialCount100.0/ReactionTime699.0/Accuracy1.0/D90', 'Response/c25.0/s75.0/BigLetterh/SmallLetterh/Taskg/TargetLetterh/Responded1.0/ParticipantResponse114.0/CorrectResponse114.0/TrialCount327.0/BlockTrialCount103.0/ReactionTime633.0/Accuracy1.0/D90', 'Response/c25.0/s75.0/BigLetterh/SmallLetterh/Taskg/TargetLetterh/Responded1.0/ParticipantResponse114.0/CorrectResponse114.0/TrialCount336.0/BlockTrialCount112.0/ReactionTime933.0/Accuracy1.0/D90', 'Response/c25.0/s75.0/BigLetterh/SmallLetterh/Taskl/TargetLetterh/Responded1.0/ParticipantResponse114.0/CorrectResponse114.0/TrialCount232.0/BlockTrialCount8.0/ReactionTime1483.0/Accuracy1.0/D90', 'Response/c25.0/s75.0/BigLetterh/SmallLetterh/Taskl/TargetLetterh/Responded1.0/ParticipantResponse114.0/CorrectResponse114.0/TrialCount251.0/BlockTrialCount27.0/ReactionTime1833.0/Accuracy1.0/D90', 'Response/c25.0/s75.0/BigLetterh/SmallLetterh/Taskl/TargetLetterh/Responded1.0/ParticipantResponse114.0/CorrectResponse114.0/TrialCount262.0/BlockTrialCount38.0/ReactionTime1716.0/Accuracy1.0/D90', 'Response/c25.0/s75.0/BigLetterh/SmallLetterh/Taskl/TargetLetterh/Responded1.0/ParticipantResponse114.0/CorrectResponse114.0/TrialCount266.0/BlockTrialCount42.0/ReactionTime1366.0/Accuracy1.0/D90', 'Response/c25.0/s75.0/BigLetterh/SmallLetterh/Taskl/TargetLetterh/Responded1.0/ParticipantResponse114.0/CorrectResponse114.0/TrialCount279.0/BlockTrialCount55.0/ReactionTime1616.0/Accuracy1.0/D90', 'Response/c25.0/s75.0/BigLetterh/SmallLetterh/Taskl/TargetLetterh/Responded1.0/ParticipantResponse114.0/CorrectResponse114.0/TrialCount285.0/BlockTrialCount61.0/ReactionTime1366.0/Accuracy1.0/D90', 'Response/c25.0/s75.0/BigLetterh/SmallLetterh/Taskl/TargetLetterh/Responded1.0/ParticipantResponse114.0/CorrectResponse114.0/TrialCount294.0/BlockTrialCount70.0/ReactionTime1516.0/Accuracy1.0/D90', 'Response/c25.0/s75.0/BigLetterh/SmallLetterh/Taskl/TargetLetterh/Responded1.0/ParticipantResponse114.0/CorrectResponse114.0/TrialCount303.0/BlockTrialCount79.0/ReactionTime1999.0/Accuracy1.0/D90', 'Response/c25.0/s75.0/BigLetterh/SmallLetterh/Taskl/TargetLetterh/Responded1.0/ParticipantResponse114.0/CorrectResponse114.0/TrialCount311.0/BlockTrialCount87.0/ReactionTime1716.0/Accuracy1.0/D90', 'Response/c25.0/s75.0/BigLetterh/SmallLetterh/Taskl/TargetLetterh/Responded1.0/ParticipantResponse114.0/CorrectResponse114.0/TrialCount313.0/BlockTrialCount89.0/ReactionTime1633.0/Accuracy1.0/D90', 'Response/c25.0/s75.0/BigLetterh/SmallLetterh/Taskl/TargetLetterh/Responded1.0/ParticipantResponse114.0/CorrectResponse114.0/TrialCount319.0/BlockTrialCount95.0/ReactionTime1166.0/Accuracy1.0/D90', 'Response/c25.0/s75.0/BigLetterh/SmallLetterh/Taskl/TargetLetterh/Responded1.0/ParticipantResponse114.0/CorrectResponse114.0/TrialCount328.0/BlockTrialCount104.0/ReactionTime666.0/Accuracy1.0/D90', 'Response/c25.0/s75.0/BigLetterh/SmallLetterh/Taskl/TargetLetterh/Responded1.0/ParticipantResponse114.0/CorrectResponse114.0/TrialCount335.0/BlockTrialCount111.0/ReactionTime1516.0/Accuracy1.0/D90', 'Response/c25.0/s75.0/BigLetterh/SmallLetterh/Taskl/TargetLetterh/Responded1.0/ParticipantResponse115.0/CorrectResponse114.0/TrialCount333.0/BlockTrialCount109.0/ReactionTime1383.0/Accuracy0.0/D90', 'Response/c25.0/s75.0/BigLetters/SmallLetters/Taskg/TargetLetters/Responded1.0/ParticipantResponse114.0/CorrectResponse115.0/TrialCount318.0/BlockTrialCount94.0/ReactionTime1483.0/Accuracy0.0/D90', 'Response/c25.0/s75.0/BigLetters/SmallLetters/Taskg/TargetLetters/Responded1.0/ParticipantResponse115.0/CorrectResponse115.0/TrialCount250.0/BlockTrialCount26.0/ReactionTime1966.0/Accuracy1.0/D90', 'Response/c25.0/s75.0/BigLetters/SmallLetters/Taskg/TargetLetters/Responded1.0/ParticipantResponse115.0/CorrectResponse115.0/TrialCount252.0/BlockTrialCount28.0/ReactionTime1666.0/Accuracy1.0/D90', 'Response/c25.0/s75.0/BigLetters/SmallLetters/Taskg/TargetLetters/Responded1.0/ParticipantResponse115.0/CorrectResponse115.0/TrialCount256.0/BlockTrialCount32.0/ReactionTime1683.0/Accuracy1.0/D90', 'Response/c25.0/s75.0/BigLetters/SmallLetters/Taskg/TargetLetters/Responded1.0/ParticipantResponse115.0/CorrectResponse115.0/TrialCount259.0/BlockTrialCount35.0/ReactionTime1733.0/Accuracy1.0/D90', 'Response/c25.0/s75.0/BigLetters/SmallLetters/Taskg/TargetLetters/Responded1.0/ParticipantResponse115.0/CorrectResponse115.0/TrialCount261.0/BlockTrialCount37.0/ReactionTime1516.0/Accuracy1.0/D90', 'Response/c25.0/s75.0/BigLetters/SmallLetters/Taskg/TargetLetters/Responded1.0/ParticipantResponse115.0/CorrectResponse115.0/TrialCount278.0/BlockTrialCount54.0/ReactionTime1116.0/Accuracy1.0/D90', 'Response/c25.0/s75.0/BigLetters/SmallLetters/Taskg/TargetLetters/Responded1.0/ParticipantResponse115.0/CorrectResponse115.0/TrialCount287.0/BlockTrialCount63.0/ReactionTime1566.0/Accuracy1.0/D90', 'Response/c25.0/s75.0/BigLetters/SmallLetters/Taskg/TargetLetters/Responded1.0/ParticipantResponse115.0/CorrectResponse115.0/TrialCount289.0/BlockTrialCount65.0/ReactionTime1133.0/Accuracy1.0/D90', 'Response/c25.0/s75.0/BigLetters/SmallLetters/Taskg/TargetLetters/Responded1.0/ParticipantResponse115.0/CorrectResponse115.0/TrialCount298.0/BlockTrialCount74.0/ReactionTime1416.0/Accuracy1.0/D90', 'Response/c25.0/s75.0/BigLetters/SmallLetters/Taskg/TargetLetters/Responded1.0/ParticipantResponse115.0/CorrectResponse115.0/TrialCount302.0/BlockTrialCount78.0/ReactionTime1299.0/Accuracy1.0/D90', 'Response/c25.0/s75.0/BigLetters/SmallLetters/Taskg/TargetLetters/Responded1.0/ParticipantResponse115.0/CorrectResponse115.0/TrialCount314.0/BlockTrialCount90.0/ReactionTime1433.0/Accuracy1.0/D90', 'Response/c25.0/s75.0/BigLetters/SmallLetters/Taskg/TargetLetters/Responded1.0/ParticipantResponse115.0/CorrectResponse115.0/TrialCount332.0/BlockTrialCount108.0/ReactionTime899.0/Accuracy1.0/D90', 'Response/c25.0/s75.0/BigLetters/SmallLetters/Taskg/TargetLetters/Responded1.0/ParticipantResponse115.0/CorrectResponse115.0/TrialCount334.0/BlockTrialCount110.0/ReactionTime1049.0/Accuracy1.0/D90', 'Response/c25.0/s75.0/BigLetters/SmallLetters/Taskl/TargetLetters/Responded1.0/ParticipantResponse115.0/CorrectResponse115.0/TrialCount229.0/BlockTrialCount5.0/ReactionTime1733.0/Accuracy1.0/D90', 'Response/c25.0/s75.0/BigLetters/SmallLetters/Taskl/TargetLetters/Responded1.0/ParticipantResponse115.0/CorrectResponse115.0/TrialCount236.0/BlockTrialCount12.0/ReactionTime1850.0/Accuracy1.0/D90', 'Response/c25.0/s75.0/BigLetters/SmallLetters/Taskl/TargetLetters/Responded1.0/ParticipantResponse115.0/CorrectResponse115.0/TrialCount239.0/BlockTrialCount15.0/ReactionTime1250.0/Accuracy1.0/D90', 'Response/c25.0/s75.0/BigLetters/SmallLetters/Taskl/TargetLetters/Responded1.0/ParticipantResponse115.0/CorrectResponse115.0/TrialCount246.0/BlockTrialCount22.0/ReactionTime1516.0/Accuracy1.0/D90', 'Response/c25.0/s75.0/BigLetters/SmallLetters/Taskl/TargetLetters/Responded1.0/ParticipantResponse115.0/CorrectResponse115.0/TrialCount249.0/BlockTrialCount25.0/ReactionTime1616.0/Accuracy1.0/D90', 'Response/c25.0/s75.0/BigLetters/SmallLetters/Taskl/TargetLetters/Responded1.0/ParticipantResponse115.0/CorrectResponse115.0/TrialCount258.0/BlockTrialCount34.0/ReactionTime1366.0/Accuracy1.0/D90', 'Response/c25.0/s75.0/BigLetters/SmallLetters/Taskl/TargetLetters/Responded1.0/ParticipantResponse115.0/CorrectResponse115.0/TrialCount260.0/BlockTrialCount36.0/ReactionTime1467.0/Accuracy1.0/D90', 'Response/c25.0/s75.0/BigLetters/SmallLetters/Taskl/TargetLetters/Responded1.0/ParticipantResponse115.0/CorrectResponse115.0/TrialCount270.0/BlockTrialCount46.0/ReactionTime1267.0/Accuracy1.0/D90', 'Response/c25.0/s75.0/BigLetters/SmallLetters/Taskl/TargetLetters/Responded1.0/ParticipantResponse115.0/CorrectResponse115.0/TrialCount276.0/BlockTrialCount52.0/ReactionTime817.0/Accuracy1.0/D90', 'Response/c25.0/s75.0/BigLetters/SmallLetters/Taskl/TargetLetters/Responded1.0/ParticipantResponse115.0/CorrectResponse115.0/TrialCount288.0/BlockTrialCount64.0/ReactionTime1499.0/Accuracy1.0/D90', 'Response/c25.0/s75.0/BigLetters/SmallLetters/Taskl/TargetLetters/Responded1.0/ParticipantResponse115.0/CorrectResponse115.0/TrialCount297.0/BlockTrialCount73.0/ReactionTime1416.0/Accuracy1.0/D90', 'Response/c25.0/s75.0/BigLetters/SmallLetters/Taskl/TargetLetters/Responded1.0/ParticipantResponse115.0/CorrectResponse115.0/TrialCount301.0/BlockTrialCount77.0/ReactionTime1183.0/Accuracy1.0/D90', 'Response/c25.0/s75.0/BigLetters/SmallLetters/Taskl/TargetLetters/Responded1.0/ParticipantResponse115.0/CorrectResponse115.0/TrialCount322.0/BlockTrialCount98.0/ReactionTime1266.0/Accuracy1.0/D90', 'Response/c25.0/s75.0/BigLetters/SmallLetters/Taskl/TargetLetters/Responded1.0/ParticipantResponse115.0/CorrectResponse115.0/TrialCount331.0/BlockTrialCount107.0/ReactionTime999.0/Accuracy1.0/D90', 'Response/c75.0/r25.0/BigLetterh/SmallLetterh/Taskg/TargetLetterh/Responded1.0/ParticipantResponse114.0/CorrectResponse114.0/TrialCount112.0/BlockTrialCount112.0/ReactionTime683.0/Accuracy1.0/D90', 'Response/c75.0/r25.0/BigLetterh/SmallLetterh/Taskg/TargetLetterh/Responded1.0/ParticipantResponse114.0/CorrectResponse114.0/TrialCount18.0/BlockTrialCount18.0/ReactionTime866.0/Accuracy1.0/D90', 'Response/c75.0/r25.0/BigLetterh/SmallLetterh/Taskg/TargetLetterh/Responded1.0/ParticipantResponse114.0/CorrectResponse114.0/TrialCount20.0/BlockTrialCount20.0/ReactionTime616.0/Accuracy1.0/D90', 'Response/c75.0/r25.0/BigLetterh/SmallLetterh/Taskg/TargetLetterh/Responded1.0/ParticipantResponse114.0/CorrectResponse114.0/TrialCount36.0/BlockTrialCount36.0/ReactionTime950.0/Accuracy1.0/D90', 'Response/c75.0/r25.0/BigLetterh/SmallLetterh/Taskg/TargetLetterh/Responded1.0/ParticipantResponse114.0/CorrectResponse114.0/TrialCount52.0/BlockTrialCount52.0/ReactionTime616.0/Accuracy1.0/D90', 'Response/c75.0/r25.0/BigLetterh/SmallLetterh/Taskg/TargetLetterh/Responded1.0/ParticipantResponse114.0/CorrectResponse114.0/TrialCount87.0/BlockTrialCount87.0/ReactionTime849.0/Accuracy1.0/D90', 'Response/c75.0/r25.0/BigLetterh/SmallLetterh/Taskl/TargetLetterh/Responded1.0/ParticipantResponse114.0/CorrectResponse114.0/TrialCount103.0/BlockTrialCount103.0/ReactionTime766.0/Accuracy1.0/D90', 'Response/c75.0/r25.0/BigLetterh/SmallLetterh/Taskl/TargetLetterh/Responded1.0/ParticipantResponse114.0/CorrectResponse114.0/TrialCount110.0/BlockTrialCount110.0/ReactionTime1133.0/Accuracy1.0/D90', 'Response/c75.0/r25.0/BigLetterh/SmallLetterh/Taskl/TargetLetterh/Responded1.0/ParticipantResponse114.0/CorrectResponse114.0/TrialCount24.0/BlockTrialCount24.0/ReactionTime1016.0/Accuracy1.0/D90', 'Response/c75.0/r25.0/BigLetterh/SmallLetterh/Taskl/TargetLetterh/Responded1.0/ParticipantResponse114.0/CorrectResponse114.0/TrialCount29.0/BlockTrialCount29.0/ReactionTime966.0/Accuracy1.0/D90', 'Response/c75.0/r25.0/BigLetterh/SmallLetterh/Taskl/TargetLetterh/Responded1.0/ParticipantResponse114.0/CorrectResponse114.0/TrialCount57.0/BlockTrialCount57.0/ReactionTime2399.0/Accuracy1.0/D90', 'Response/c75.0/r25.0/BigLetterh/SmallLetterh/Taskl/TargetLetterh/Responded1.0/ParticipantResponse114.0/CorrectResponse114.0/TrialCount98.0/BlockTrialCount98.0/ReactionTime650.0/Accuracy1.0/D90', 'Response/c75.0/r25.0/BigLetterh/SmallLetterh/Taskl/TargetLetterh/Responded1.0/ParticipantResponse114.0/CorrectResponse114.0/TrialCount99.0/BlockTrialCount99.0/ReactionTime599.0/Accuracy1.0/D90', 'Response/c75.0/r25.0/BigLetters/SmallLetters/Taskg/TargetLetters/Responded1.0/ParticipantResponse115.0/CorrectResponse115.0/TrialCount16.0/BlockTrialCount16.0/ReactionTime1266.0/Accuracy1.0/D90', 'Response/c75.0/r25.0/BigLetters/SmallLetters/Taskg/TargetLetters/Responded1.0/ParticipantResponse115.0/CorrectResponse115.0/TrialCount21.0/BlockTrialCount21.0/ReactionTime899.0/Accuracy1.0/D90', 'Response/c75.0/r25.0/BigLetters/SmallLetters/Taskg/TargetLetters/Responded1.0/ParticipantResponse115.0/CorrectResponse115.0/TrialCount40.0/BlockTrialCount40.0/ReactionTime783.0/Accuracy1.0/D90', 'Response/c75.0/r25.0/BigLetters/SmallLetters/Taskg/TargetLetters/Responded1.0/ParticipantResponse115.0/CorrectResponse115.0/TrialCount41.0/BlockTrialCount41.0/ReactionTime916.0/Accuracy1.0/D90', 'Response/c75.0/r25.0/BigLetters/SmallLetters/Taskg/TargetLetters/Responded1.0/ParticipantResponse115.0/CorrectResponse115.0/TrialCount67.0/BlockTrialCount67.0/ReactionTime883.0/Accuracy1.0/D90', 'Response/c75.0/r25.0/BigLetters/SmallLetters/Taskg/TargetLetters/Responded1.0/ParticipantResponse115.0/CorrectResponse115.0/TrialCount93.0/BlockTrialCount93.0/ReactionTime649.0/Accuracy1.0/D90', 'Response/c75.0/r25.0/BigLetters/SmallLetters/Taskl/TargetLetters/Responded1.0/ParticipantResponse115.0/CorrectResponse115.0/TrialCount61.0/BlockTrialCount61.0/ReactionTime800.0/Accuracy1.0/D90', 'Response/c75.0/r25.0/BigLetters/SmallLetters/Taskl/TargetLetters/Responded1.0/ParticipantResponse115.0/CorrectResponse115.0/TrialCount83.0/BlockTrialCount83.0/ReactionTime949.0/Accuracy1.0/D90', 'Response/c75.0/r25.0/BigLetters/SmallLetters/Taskl/TargetLetters/Responded1.0/ParticipantResponse115.0/CorrectResponse115.0/TrialCount96.0/BlockTrialCount96.0/ReactionTime633.0/Accuracy1.0/D90', 'Response/c75.0/r75.0/BigLetterh/SmallLetterh/Taskg/TargetLetterh/Responded1.0/ParticipantResponse114.0/CorrectResponse114.0/TrialCount141.0/BlockTrialCount29.0/ReactionTime1200.0/Accuracy1.0/D90', 'Response/c75.0/r75.0/BigLetterh/SmallLetterh/Taskg/TargetLetterh/Responded1.0/ParticipantResponse114.0/CorrectResponse114.0/TrialCount199.0/BlockTrialCount87.0/ReactionTime1399.0/Accuracy1.0/D90', 'Response/c75.0/r75.0/BigLetterh/SmallLetterh/Taskl/TargetLetterh/Responded1.0/ParticipantResponse114.0/CorrectResponse114.0/TrialCount122.0/BlockTrialCount10.0/ReactionTime1233.0/Accuracy1.0/D90', 'Response/c75.0/r75.0/BigLetterh/SmallLetterh/Taskl/TargetLetterh/Responded1.0/ParticipantResponse114.0/CorrectResponse114.0/TrialCount133.0/BlockTrialCount21.0/ReactionTime1550.0/Accuracy1.0/D90', 'Response/c75.0/r75.0/BigLetters/SmallLetters/Taskg/TargetLetters/Responded1.0/ParticipantResponse115.0/CorrectResponse115.0/TrialCount114.0/BlockTrialCount2.0/ReactionTime1299.0/Accuracy1.0/D90', 'Response/c75.0/r75.0/BigLetters/SmallLetters/Taskg/TargetLetters/Responded1.0/ParticipantResponse115.0/CorrectResponse115.0/TrialCount219.0/BlockTrialCount107.0/ReactionTime933.0/Accuracy1.0/D90', 'Response/c75.0/s25.0/BigLetterh/SmallLetterh/Taskg/TargetLetterh/Responded1.0/ParticipantResponse114.0/CorrectResponse114.0/TrialCount86.0/BlockTrialCount86.0/ReactionTime1116.0/Accuracy1.0/D90', 'Response/c75.0/s25.0/BigLetterh/SmallLetterh/Taskl/TargetLetterh/Responded1.0/ParticipantResponse114.0/CorrectResponse114.0/TrialCount4.0/BlockTrialCount4.0/ReactionTime1366.0/Accuracy1.0/D90', 'Response/c75.0/s25.0/BigLetterh/SmallLetterh/Taskl/TargetLetterh/Responded1.0/ParticipantResponse115.0/CorrectResponse114.0/TrialCount49.0/BlockTrialCount49.0/ReactionTime1949.0/Accuracy0.0/D90', 'Response/c75.0/s25.0/BigLetters/SmallLetters/Taskg/TargetLetters/Responded1.0/ParticipantResponse115.0/CorrectResponse115.0/TrialCount30.0/BlockTrialCount30.0/ReactionTime1933.0/Accuracy1.0/D90', 'Response/c75.0/s25.0/BigLetters/SmallLetters/Taskg/TargetLetters/Responded1.0/ParticipantResponse115.0/CorrectResponse115.0/TrialCount78.0/BlockTrialCount78.0/ReactionTime1083.0/Accuracy1.0/D90', 'Response/c75.0/s25.0/BigLetters/SmallLetters/Taskl/TargetLetters/Responded1.0/ParticipantResponse114.0/CorrectResponse115.0/TrialCount108.0/BlockTrialCount108.0/ReactionTime2316.0/Accuracy0.0/D90', 'Response/c75.0/s75.0/BigLetterh/SmallLetterh/Taskg/TargetLetterh/Responded1.0/ParticipantResponse114.0/CorrectResponse114.0/TrialCount118.0/BlockTrialCount6.0/ReactionTime1650.0/Accuracy1.0/D90', 'Response/c75.0/s75.0/BigLetterh/SmallLetterh/Taskg/TargetLetterh/Responded1.0/ParticipantResponse114.0/CorrectResponse114.0/TrialCount134.0/BlockTrialCount22.0/ReactionTime1400.0/Accuracy1.0/D90', 'Response/c75.0/s75.0/BigLetterh/SmallLetterh/Taskg/TargetLetterh/Responded1.0/ParticipantResponse114.0/CorrectResponse114.0/TrialCount136.0/BlockTrialCount24.0/ReactionTime1283.0/Accuracy1.0/D90', 'Response/c75.0/s75.0/BigLetterh/SmallLetterh/Taskg/TargetLetterh/Responded1.0/ParticipantResponse114.0/CorrectResponse114.0/TrialCount155.0/BlockTrialCount43.0/ReactionTime1716.0/Accuracy1.0/D90', 'Response/c75.0/s75.0/BigLetterh/SmallLetterh/Taskg/TargetLetterh/Responded1.0/ParticipantResponse114.0/CorrectResponse114.0/TrialCount160.0/BlockTrialCount48.0/ReactionTime1183.0/Accuracy1.0/D90', 'Response/c75.0/s75.0/BigLetterh/SmallLetterh/Taskg/TargetLetterh/Responded1.0/ParticipantResponse114.0/CorrectResponse114.0/TrialCount174.0/BlockTrialCount62.0/ReactionTime1533.0/Accuracy1.0/D90', 'Response/c75.0/s75.0/BigLetterh/SmallLetterh/Taskg/TargetLetterh/Responded1.0/ParticipantResponse114.0/CorrectResponse114.0/TrialCount189.0/BlockTrialCount77.0/ReactionTime1299.0/Accuracy1.0/D90', 'Response/c75.0/s75.0/BigLetterh/SmallLetterh/Taskg/TargetLetterh/Responded1.0/ParticipantResponse114.0/CorrectResponse114.0/TrialCount194.0/BlockTrialCount82.0/ReactionTime1000.0/Accuracy1.0/D90', 'Response/c75.0/s75.0/BigLetterh/SmallLetterh/Taskg/TargetLetterh/Responded1.0/ParticipantResponse114.0/CorrectResponse114.0/TrialCount207.0/BlockTrialCount95.0/ReactionTime1366.0/Accuracy1.0/D90', 'Response/c75.0/s75.0/BigLetterh/SmallLetterh/Taskl/TargetLetterh/Responded1.0/ParticipantResponse114.0/CorrectResponse114.0/TrialCount151.0/BlockTrialCount39.0/ReactionTime1716.0/Accuracy1.0/D90', 'Response/c75.0/s75.0/BigLetterh/SmallLetterh/Taskl/TargetLetterh/Responded1.0/ParticipantResponse114.0/CorrectResponse114.0/TrialCount156.0/BlockTrialCount44.0/ReactionTime1533.0/Accuracy1.0/D90', 'Response/c75.0/s75.0/BigLetterh/SmallLetterh/Taskl/TargetLetterh/Responded1.0/ParticipantResponse114.0/CorrectResponse114.0/TrialCount184.0/BlockTrialCount72.0/ReactionTime1499.0/Accuracy1.0/D90', 'Response/c75.0/s75.0/BigLetterh/SmallLetterh/Taskl/TargetLetterh/Responded1.0/ParticipantResponse114.0/CorrectResponse114.0/TrialCount222.0/BlockTrialCount110.0/ReactionTime2066.0/Accuracy1.0/D90', 'Response/c75.0/s75.0/BigLetterh/SmallLetterh/Taskl/TargetLetterh/Responded1.0/ParticipantResponse115.0/CorrectResponse114.0/TrialCount132.0/BlockTrialCount20.0/ReactionTime1516.0/Accuracy0.0/D90', 'Response/c75.0/s75.0/BigLetterh/SmallLetterh/Taskl/TargetLetterh/Responded1.0/ParticipantResponse115.0/CorrectResponse114.0/TrialCount182.0/BlockTrialCount70.0/ReactionTime1033.0/Accuracy0.0/D90', 'Response/c75.0/s75.0/BigLetters/SmallLetters/Taskg/TargetLetters/Responded1.0/ParticipantResponse115.0/CorrectResponse115.0/TrialCount143.0/BlockTrialCount31.0/ReactionTime1216.0/Accuracy1.0/D90', 'Response/c75.0/s75.0/BigLetters/SmallLetters/Taskg/TargetLetters/Responded1.0/ParticipantResponse115.0/CorrectResponse115.0/TrialCount178.0/BlockTrialCount66.0/ReactionTime1416.0/Accuracy1.0/D90', 'Response/c75.0/s75.0/BigLetters/SmallLetters/Taskg/TargetLetters/Responded1.0/ParticipantResponse115.0/CorrectResponse115.0/TrialCount196.0/BlockTrialCount84.0/ReactionTime1266.0/Accuracy1.0/D90', 'Response/c75.0/s75.0/BigLetters/SmallLetters/Taskg/TargetLetters/Responded1.0/ParticipantResponse115.0/CorrectResponse115.0/TrialCount201.0/BlockTrialCount89.0/ReactionTime1649.0/Accuracy1.0/D90', 'Response/c75.0/s75.0/BigLetters/SmallLetters/Taskl/TargetLetters/Responded1.0/ParticipantResponse115.0/CorrectResponse115.0/TrialCount139.0/BlockTrialCount27.0/ReactionTime1766.0/Accuracy1.0/D90', 'Response/c75.0/s75.0/BigLetters/SmallLetters/Taskl/TargetLetters/Responded1.0/ParticipantResponse115.0/CorrectResponse115.0/TrialCount190.0/BlockTrialCount78.0/ReactionTime1550.0/Accuracy1.0/D90', 'Response/c75.0/s75.0/BigLetters/SmallLetters/Taskl/TargetLetters/Responded1.0/ParticipantResponse115.0/CorrectResponse115.0/TrialCount214.0/BlockTrialCount102.0/ReactionTime1433.0/Accuracy1.0/D90', 'Response/i25.0/r25.0/BigLetterh/SmallLetters/Taskg/TargetLetterh/Responded1.0/ParticipantResponse114.0/CorrectResponse114.0/TrialCount338.0/BlockTrialCount2.0/ReactionTime833.0/Accuracy1.0/D90', 'Response/i25.0/r25.0/BigLetterh/SmallLetters/Taskg/TargetLetterh/Responded1.0/ParticipantResponse114.0/CorrectResponse114.0/TrialCount346.0/BlockTrialCount10.0/ReactionTime683.0/Accuracy1.0/D90', 'Response/i25.0/r25.0/BigLetterh/SmallLetters/Taskg/TargetLetterh/Responded1.0/ParticipantResponse114.0/CorrectResponse114.0/TrialCount397.0/BlockTrialCount61.0/ReactionTime966.0/Accuracy1.0/D90', 'Response/i25.0/r25.0/BigLetterh/SmallLetters/Taskg/TargetLetterh/Responded1.0/ParticipantResponse114.0/CorrectResponse114.0/TrialCount417.0/BlockTrialCount81.0/ReactionTime1549.0/Accuracy1.0/D90', 'Response/i25.0/r25.0/BigLetterh/SmallLetters/Taskg/TargetLetterh/Responded1.0/ParticipantResponse114.0/CorrectResponse114.0/TrialCount442.0/BlockTrialCount106.0/ReactionTime549.0/Accuracy1.0/D90', 'Response/i25.0/r25.0/BigLetterh/SmallLetters/Taskg/TargetLetterh/Responded1.0/ParticipantResponse114.0/CorrectResponse114.0/TrialCount445.0/BlockTrialCount109.0/ReactionTime933.0/Accuracy1.0/D90', 'Response/i25.0/r25.0/BigLetterh/SmallLetters/Taskl/TargetLetters/Responded1.0/ParticipantResponse115.0/CorrectResponse115.0/TrialCount351.0/BlockTrialCount15.0/ReactionTime1649.0/Accuracy1.0/D90', 'Response/i25.0/r25.0/BigLetterh/SmallLetters/Taskl/TargetLetters/Responded1.0/ParticipantResponse115.0/CorrectResponse115.0/TrialCount358.0/BlockTrialCount22.0/ReactionTime866.0/Accuracy1.0/D90', 'Response/i25.0/r25.0/BigLetterh/SmallLetters/Taskl/TargetLetters/Responded1.0/ParticipantResponse115.0/CorrectResponse115.0/TrialCount359.0/BlockTrialCount23.0/ReactionTime1633.0/Accuracy1.0/D90', 'Response/i25.0/r25.0/BigLetterh/SmallLetters/Taskl/TargetLetters/Responded1.0/ParticipantResponse115.0/CorrectResponse115.0/TrialCount360.0/BlockTrialCount24.0/ReactionTime849.0/Accuracy1.0/D90', 'Response/i25.0/r25.0/BigLetterh/SmallLetters/Taskl/TargetLetters/Responded1.0/ParticipantResponse115.0/CorrectResponse115.0/TrialCount373.0/BlockTrialCount37.0/ReactionTime1416.0/Accuracy1.0/D90', 'Response/i25.0/r25.0/BigLetterh/SmallLetters/Taskl/TargetLetters/Responded1.0/ParticipantResponse115.0/CorrectResponse115.0/TrialCount376.0/BlockTrialCount40.0/ReactionTime716.0/Accuracy1.0/D90', 'Response/i25.0/r25.0/BigLetterh/SmallLetters/Taskl/TargetLetters/Responded1.0/ParticipantResponse115.0/CorrectResponse115.0/TrialCount388.0/BlockTrialCount52.0/ReactionTime1316.0/Accuracy1.0/D90', 'Response/i25.0/r25.0/BigLetterh/SmallLetters/Taskl/TargetLetters/Responded1.0/ParticipantResponse115.0/CorrectResponse115.0/TrialCount389.0/BlockTrialCount53.0/ReactionTime916.0/Accuracy1.0/D90', 'Response/i25.0/r25.0/BigLetterh/SmallLetters/Taskl/TargetLetters/Responded1.0/ParticipantResponse115.0/CorrectResponse115.0/TrialCount411.0/BlockTrialCount75.0/ReactionTime1366.0/Accuracy1.0/D90', 'Response/i25.0/r25.0/BigLetterh/SmallLetters/Taskl/TargetLetters/Responded1.0/ParticipantResponse115.0/CorrectResponse115.0/TrialCount437.0/BlockTrialCount101.0/ReactionTime1183.0/Accuracy1.0/D90', 'Response/i25.0/r25.0/BigLetters/SmallLetterh/Taskg/TargetLetters/Responded1.0/ParticipantResponse115.0/CorrectResponse115.0/TrialCount396.0/BlockTrialCount60.0/ReactionTime1216.0/Accuracy1.0/D90', 'Response/i25.0/r25.0/BigLetters/SmallLetterh/Taskg/TargetLetters/Responded1.0/ParticipantResponse115.0/CorrectResponse115.0/TrialCount402.0/BlockTrialCount66.0/ReactionTime1100.0/Accuracy1.0/D90', 'Response/i25.0/r25.0/BigLetters/SmallLetterh/Taskg/TargetLetters/Responded1.0/ParticipantResponse115.0/CorrectResponse115.0/TrialCount416.0/BlockTrialCount80.0/ReactionTime1550.0/Accuracy1.0/D90', 'Response/i25.0/r25.0/BigLetters/SmallLetterh/Taskg/TargetLetters/Responded1.0/ParticipantResponse115.0/CorrectResponse115.0/TrialCount430.0/BlockTrialCount94.0/ReactionTime966.0/Accuracy1.0/D90', 'Response/i25.0/r25.0/BigLetters/SmallLetterh/Taskg/TargetLetters/Responded1.0/ParticipantResponse115.0/CorrectResponse115.0/TrialCount441.0/BlockTrialCount105.0/ReactionTime1116.0/Accuracy1.0/D90', 'Response/i25.0/r25.0/BigLetters/SmallLetterh/Taskl/TargetLetterh/Responded1.0/ParticipantResponse114.0/CorrectResponse114.0/TrialCount356.0/BlockTrialCount20.0/ReactionTime799.0/Accuracy1.0/D90', 'Response/i25.0/r75.0/BigLetterh/SmallLetters/Taskg/TargetLetterh/Responded1.0/ParticipantResponse114.0/CorrectResponse114.0/TrialCount253.0/BlockTrialCount29.0/ReactionTime1133.0/Accuracy1.0/D90', 'Response/i25.0/r75.0/BigLetterh/SmallLetters/Taskg/TargetLetterh/Responded1.0/ParticipantResponse114.0/CorrectResponse114.0/TrialCount254.0/BlockTrialCount30.0/ReactionTime1266.0/Accuracy1.0/D90', 'Response/i25.0/r75.0/BigLetterh/SmallLetters/Taskl/TargetLetters/Responded1.0/ParticipantResponse115.0/CorrectResponse115.0/TrialCount268.0/BlockTrialCount44.0/ReactionTime1350.0/Accuracy1.0/D90', 'Response/i25.0/r75.0/BigLetterh/SmallLetters/Taskl/TargetLetters/Responded1.0/ParticipantResponse115.0/CorrectResponse115.0/TrialCount277.0/BlockTrialCount53.0/ReactionTime1216.0/Accuracy1.0/D90', 'Response/i25.0/r75.0/BigLetters/SmallLetterh/Taskg/TargetLetters/Responded1.0/ParticipantResponse115.0/CorrectResponse115.0/TrialCount315.0/BlockTrialCount91.0/ReactionTime1299.0/Accuracy1.0/D90', 'Response/i25.0/r75.0/BigLetters/SmallLetterh/Taskl/TargetLetterh/Responded1.0/ParticipantResponse114.0/CorrectResponse114.0/TrialCount243.0/BlockTrialCount19.0/ReactionTime1983.0/Accuracy1.0/D90', 'Response/i25.0/r75.0/BigLetters/SmallLetterh/Taskl/TargetLetterh/Responded1.0/ParticipantResponse114.0/CorrectResponse114.0/TrialCount274.0/BlockTrialCount50.0/ReactionTime1966.0/Accuracy1.0/D90', 'Response/i25.0/s25.0/BigLetterh/SmallLetters/Taskg/TargetLetterh/Responded1.0/ParticipantResponse114.0/CorrectResponse114.0/TrialCount371.0/BlockTrialCount35.0/ReactionTime1483.0/Accuracy1.0/D90', 'Response/i25.0/s25.0/BigLetterh/SmallLetters/Taskg/TargetLetterh/Responded1.0/ParticipantResponse114.0/CorrectResponse114.0/TrialCount412.0/BlockTrialCount76.0/ReactionTime1399.0/Accuracy1.0/D90', 'Response/i25.0/s25.0/BigLetterh/SmallLetters/Taskl/TargetLetters/Responded1.0/ParticipantResponse115.0/CorrectResponse115.0/TrialCount421.0/BlockTrialCount85.0/ReactionTime1633.0/Accuracy1.0/D90', 'Response/i25.0/s25.0/BigLetters/SmallLetterh/Taskg/TargetLetters/Responded1.0/ParticipantResponse115.0/CorrectResponse115.0/TrialCount348.0/BlockTrialCount12.0/ReactionTime1550.0/Accuracy1.0/D90', 'Response/i25.0/s25.0/BigLetters/SmallLetterh/Taskg/TargetLetters/Responded1.0/ParticipantResponse115.0/CorrectResponse115.0/TrialCount424.0/BlockTrialCount88.0/ReactionTime1916.0/Accuracy1.0/D90', 'Response/i25.0/s25.0/BigLetters/SmallLetterh/Taskl/TargetLetterh/Responded1.0/ParticipantResponse114.0/CorrectResponse114.0/TrialCount413.0/BlockTrialCount77.0/ReactionTime1600.0/Accuracy1.0/D90', 'Response/i25.0/s75.0/BigLetterh/SmallLetters/Taskg/TargetLetterh/Responded1.0/ParticipantResponse114.0/CorrectResponse114.0/TrialCount238.0/BlockTrialCount14.0/ReactionTime1333.0/Accuracy1.0/D90', 'Response/i25.0/s75.0/BigLetterh/SmallLetters/Taskg/TargetLetterh/Responded1.0/ParticipantResponse114.0/CorrectResponse114.0/TrialCount245.0/BlockTrialCount21.0/ReactionTime1066.0/Accuracy1.0/D90', 'Response/i25.0/s75.0/BigLetterh/SmallLetters/Taskg/TargetLetterh/Responded1.0/ParticipantResponse114.0/CorrectResponse114.0/TrialCount263.0/BlockTrialCount39.0/ReactionTime1633.0/Accuracy1.0/D90', 'Response/i25.0/s75.0/BigLetterh/SmallLetters/Taskg/TargetLetterh/Responded1.0/ParticipantResponse114.0/CorrectResponse114.0/TrialCount271.0/BlockTrialCount47.0/ReactionTime1366.0/Accuracy1.0/D90', 'Response/i25.0/s75.0/BigLetterh/SmallLetters/Taskg/TargetLetterh/Responded1.0/ParticipantResponse114.0/CorrectResponse114.0/TrialCount307.0/BlockTrialCount83.0/ReactionTime1216.0/Accuracy1.0/D90', 'Response/i25.0/s75.0/BigLetterh/SmallLetters/Taskl/TargetLetters/Responded1.0/ParticipantResponse115.0/CorrectResponse115.0/TrialCount234.0/BlockTrialCount10.0/ReactionTime1399.0/Accuracy1.0/D90', 'Response/i25.0/s75.0/BigLetterh/SmallLetters/Taskl/TargetLetters/Responded1.0/ParticipantResponse115.0/CorrectResponse115.0/TrialCount242.0/BlockTrialCount18.0/ReactionTime1683.0/Accuracy1.0/D90', 'Response/i25.0/s75.0/BigLetterh/SmallLetters/Taskl/TargetLetters/Responded1.0/ParticipantResponse115.0/CorrectResponse115.0/TrialCount283.0/BlockTrialCount59.0/ReactionTime1599.0/Accuracy1.0/D90', 'Response/i25.0/s75.0/BigLetterh/SmallLetters/Taskl/TargetLetters/Responded1.0/ParticipantResponse115.0/CorrectResponse115.0/TrialCount292.0/BlockTrialCount68.0/ReactionTime1549.0/Accuracy1.0/D90', 'Response/i25.0/s75.0/BigLetterh/SmallLetters/Taskl/TargetLetters/Responded1.0/ParticipantResponse115.0/CorrectResponse115.0/TrialCount306.0/BlockTrialCount82.0/ReactionTime1250.0/Accuracy1.0/D90', 'Response/i25.0/s75.0/BigLetterh/SmallLetters/Taskl/TargetLetters/Responded1.0/ParticipantResponse115.0/CorrectResponse115.0/TrialCount309.0/BlockTrialCount85.0/ReactionTime1716.0/Accuracy1.0/D90', 'Response/i25.0/s75.0/BigLetterh/SmallLetters/Taskl/TargetLetters/Responded1.0/ParticipantResponse115.0/CorrectResponse115.0/TrialCount316.0/BlockTrialCount92.0/ReactionTime649.0/Accuracy1.0/D90', 'Response/i25.0/s75.0/BigLetters/SmallLetterh/Taskg/TargetLetters/Responded1.0/ParticipantResponse115.0/CorrectResponse115.0/TrialCount240.0/BlockTrialCount16.0/ReactionTime1600.0/Accuracy1.0/D90', 'Response/i25.0/s75.0/BigLetters/SmallLetterh/Taskg/TargetLetters/Responded1.0/ParticipantResponse115.0/CorrectResponse115.0/TrialCount280.0/BlockTrialCount56.0/ReactionTime899.0/Accuracy1.0/D90', 'Response/i25.0/s75.0/BigLetters/SmallLetterh/Taskg/TargetLetters/Responded1.0/ParticipantResponse115.0/CorrectResponse115.0/TrialCount304.0/BlockTrialCount80.0/ReactionTime983.0/Accuracy1.0/D90', 'Response/i25.0/s75.0/BigLetters/SmallLetterh/Taskg/TargetLetters/Responded1.0/ParticipantResponse115.0/CorrectResponse115.0/TrialCount330.0/BlockTrialCount106.0/ReactionTime1966.0/Accuracy1.0/D90', 'Response/i25.0/s75.0/BigLetters/SmallLetterh/Taskl/TargetLetterh/Responded1.0/ParticipantResponse114.0/CorrectResponse114.0/TrialCount255.0/BlockTrialCount31.0/ReactionTime1699.0/Accuracy1.0/D90', 'Response/i25.0/s75.0/BigLetters/SmallLetterh/Taskl/TargetLetterh/Responded1.0/ParticipantResponse114.0/CorrectResponse114.0/TrialCount264.0/BlockTrialCount40.0/ReactionTime1299.0/Accuracy1.0/D90', 'Response/i25.0/s75.0/BigLetters/SmallLetterh/Taskl/TargetLetterh/Responded1.0/ParticipantResponse114.0/CorrectResponse114.0/TrialCount273.0/BlockTrialCount49.0/ReactionTime1599.0/Accuracy1.0/D90', 'Response/i25.0/s75.0/BigLetters/SmallLetterh/Taskl/TargetLetterh/Responded1.0/ParticipantResponse114.0/CorrectResponse114.0/TrialCount299.0/BlockTrialCount75.0/ReactionTime1599.0/Accuracy1.0/D90', 'Response/i25.0/s75.0/BigLetters/SmallLetterh/Taskl/TargetLetterh/Responded1.0/ParticipantResponse114.0/CorrectResponse114.0/TrialCount326.0/BlockTrialCount102.0/ReactionTime1083.0/Accuracy1.0/D90', 'Response/i75.0/n25.0/BigLetterh/SmallLetters/Taskl/TargetLetters/Responded1.0/ParticipantResponse115.0/CorrectResponse115.0/TrialCount1.0/BlockTrialCount1.0/ReactionTime1850.0/Accuracy1.0/D90', 'Response/i75.0/n75.0/BigLetters/SmallLetterh/Taskg/TargetLetters/Responded1.0/ParticipantResponse115.0/CorrectResponse115.0/TrialCount113.0/BlockTrialCount1.0/ReactionTime1899.0/Accuracy1.0/D90', 'Response/i75.0/r25.0/BigLetterh/SmallLetters/Taskg/TargetLetterh/Responded1.0/ParticipantResponse114.0/CorrectResponse114.0/TrialCount19.0/BlockTrialCount19.0/ReactionTime833.0/Accuracy1.0/D90', 'Response/i75.0/r25.0/BigLetterh/SmallLetters/Taskg/TargetLetterh/Responded1.0/ParticipantResponse114.0/CorrectResponse114.0/TrialCount3.0/BlockTrialCount3.0/ReactionTime2133.0/Accuracy1.0/D90', 'Response/i75.0/r25.0/BigLetterh/SmallLetters/Taskg/TargetLetterh/Responded1.0/ParticipantResponse114.0/CorrectResponse114.0/TrialCount31.0/BlockTrialCount31.0/ReactionTime1516.0/Accuracy1.0/D90', 'Response/i75.0/r25.0/BigLetterh/SmallLetters/Taskg/TargetLetterh/Responded1.0/ParticipantResponse114.0/CorrectResponse114.0/TrialCount33.0/BlockTrialCount33.0/ReactionTime967.0/Accuracy1.0/D90', 'Response/i75.0/r25.0/BigLetterh/SmallLetters/Taskg/TargetLetterh/Responded1.0/ParticipantResponse114.0/CorrectResponse114.0/TrialCount35.0/BlockTrialCount35.0/ReactionTime933.0/Accuracy1.0/D90', 'Response/i75.0/r25.0/BigLetterh/SmallLetters/Taskg/TargetLetterh/Responded1.0/ParticipantResponse114.0/CorrectResponse114.0/TrialCount37.0/BlockTrialCount37.0/ReactionTime666.0/Accuracy1.0/D90', 'Response/i75.0/r25.0/BigLetterh/SmallLetters/Taskg/TargetLetterh/Responded1.0/ParticipantResponse114.0/CorrectResponse114.0/TrialCount39.0/BlockTrialCount39.0/ReactionTime683.0/Accuracy1.0/D90', 'Response/i75.0/r25.0/BigLetterh/SmallLetters/Taskg/TargetLetterh/Responded1.0/ParticipantResponse114.0/CorrectResponse114.0/TrialCount48.0/BlockTrialCount48.0/ReactionTime1716.0/Accuracy1.0/D90', 'Response/i75.0/r25.0/BigLetterh/SmallLetters/Taskg/TargetLetterh/Responded1.0/ParticipantResponse114.0/CorrectResponse114.0/TrialCount53.0/BlockTrialCount53.0/ReactionTime750.0/Accuracy1.0/D90', 'Response/i75.0/r25.0/BigLetterh/SmallLetters/Taskg/TargetLetterh/Responded1.0/ParticipantResponse114.0/CorrectResponse114.0/TrialCount55.0/BlockTrialCount55.0/ReactionTime766.0/Accuracy1.0/D90', 'Response/i75.0/r25.0/BigLetterh/SmallLetters/Taskg/TargetLetterh/Responded1.0/ParticipantResponse114.0/CorrectResponse114.0/TrialCount73.0/BlockTrialCount73.0/ReactionTime999.0/Accuracy1.0/D90', 'Response/i75.0/r25.0/BigLetterh/SmallLetters/Taskg/TargetLetterh/Responded1.0/ParticipantResponse114.0/CorrectResponse114.0/TrialCount79.0/BlockTrialCount79.0/ReactionTime933.0/Accuracy1.0/D90', 'Response/i75.0/r25.0/BigLetterh/SmallLetters/Taskg/TargetLetterh/Responded1.0/ParticipantResponse114.0/CorrectResponse114.0/TrialCount80.0/BlockTrialCount80.0/ReactionTime883.0/Accuracy1.0/D90', 'Response/i75.0/r25.0/BigLetterh/SmallLetters/Taskg/TargetLetterh/Responded1.0/ParticipantResponse114.0/CorrectResponse114.0/TrialCount89.0/BlockTrialCount89.0/ReactionTime716.0/Accuracy1.0/D90', 'Response/i75.0/r25.0/BigLetterh/SmallLetters/Taskg/TargetLetterh/Responded1.0/ParticipantResponse114.0/CorrectResponse114.0/TrialCount90.0/BlockTrialCount90.0/ReactionTime833.0/Accuracy1.0/D90', 'Response/i75.0/r25.0/BigLetterh/SmallLetters/Taskg/TargetLetterh/Responded1.0/ParticipantResponse115.0/CorrectResponse114.0/TrialCount66.0/BlockTrialCount66.0/ReactionTime1099.0/Accuracy0.0/D90', 'Response/i75.0/r25.0/BigLetterh/SmallLetters/Taskl/TargetLetters/Responded1.0/ParticipantResponse114.0/CorrectResponse115.0/TrialCount102.0/BlockTrialCount102.0/ReactionTime516.0/Accuracy0.0/D90', 'Response/i75.0/r25.0/BigLetterh/SmallLetters/Taskl/TargetLetters/Responded1.0/ParticipantResponse114.0/CorrectResponse115.0/TrialCount75.0/BlockTrialCount75.0/ReactionTime949.0/Accuracy0.0/D90', 'Response/i75.0/r25.0/BigLetterh/SmallLetters/Taskl/TargetLetters/Responded1.0/ParticipantResponse115.0/CorrectResponse115.0/TrialCount109.0/BlockTrialCount109.0/ReactionTime983.0/Accuracy1.0/D90', 'Response/i75.0/r25.0/BigLetterh/SmallLetters/Taskl/TargetLetters/Responded1.0/ParticipantResponse115.0/CorrectResponse115.0/TrialCount11.0/BlockTrialCount11.0/ReactionTime1883.0/Accuracy1.0/D90', 'Response/i75.0/r25.0/BigLetterh/SmallLetters/Taskl/TargetLetters/Responded1.0/ParticipantResponse115.0/CorrectResponse115.0/TrialCount23.0/BlockTrialCount23.0/ReactionTime1599.0/Accuracy1.0/D90', 'Response/i75.0/r25.0/BigLetterh/SmallLetters/Taskl/TargetLetters/Responded1.0/ParticipantResponse115.0/CorrectResponse115.0/TrialCount25.0/BlockTrialCount25.0/ReactionTime683.0/Accuracy1.0/D90', 'Response/i75.0/r25.0/BigLetterh/SmallLetters/Taskl/TargetLetters/Responded1.0/ParticipantResponse115.0/CorrectResponse115.0/TrialCount26.0/BlockTrialCount26.0/ReactionTime1633.0/Accuracy1.0/D90', 'Response/i75.0/r25.0/BigLetterh/SmallLetters/Taskl/TargetLetters/Responded1.0/ParticipantResponse115.0/CorrectResponse115.0/TrialCount45.0/BlockTrialCount45.0/ReactionTime1116.0/Accuracy1.0/D90', 'Response/i75.0/r25.0/BigLetterh/SmallLetters/Taskl/TargetLetters/Responded1.0/ParticipantResponse115.0/CorrectResponse115.0/TrialCount46.0/BlockTrialCount46.0/ReactionTime1083.0/Accuracy1.0/D90', 'Response/i75.0/r25.0/BigLetterh/SmallLetters/Taskl/TargetLetters/Responded1.0/ParticipantResponse115.0/CorrectResponse115.0/TrialCount58.0/BlockTrialCount58.0/ReactionTime1483.0/Accuracy1.0/D90', 'Response/i75.0/r25.0/BigLetterh/SmallLetters/Taskl/TargetLetters/Responded1.0/ParticipantResponse115.0/CorrectResponse115.0/TrialCount59.0/BlockTrialCount59.0/ReactionTime1766.0/Accuracy1.0/D90', 'Response/i75.0/r25.0/BigLetterh/SmallLetters/Taskl/TargetLetters/Responded1.0/ParticipantResponse115.0/CorrectResponse115.0/TrialCount60.0/BlockTrialCount60.0/ReactionTime1533.0/Accuracy1.0/D90', 'Response/i75.0/r25.0/BigLetterh/SmallLetters/Taskl/TargetLetters/Responded1.0/ParticipantResponse115.0/CorrectResponse115.0/TrialCount69.0/BlockTrialCount69.0/ReactionTime799.0/Accuracy1.0/D90', 'Response/i75.0/r25.0/BigLetterh/SmallLetters/Taskl/TargetLetters/Responded1.0/ParticipantResponse115.0/CorrectResponse115.0/TrialCount71.0/BlockTrialCount71.0/ReactionTime1349.0/Accuracy1.0/D90', 'Response/i75.0/r25.0/BigLetterh/SmallLetters/Taskl/TargetLetters/Responded1.0/ParticipantResponse115.0/CorrectResponse115.0/TrialCount76.0/BlockTrialCount76.0/ReactionTime1117.0/Accuracy1.0/D90', 'Response/i75.0/r25.0/BigLetterh/SmallLetters/Taskl/TargetLetters/Responded1.0/ParticipantResponse115.0/CorrectResponse115.0/TrialCount77.0/BlockTrialCount77.0/ReactionTime816.0/Accuracy1.0/D90', 'Response/i75.0/r25.0/BigLetterh/SmallLetters/Taskl/TargetLetters/Responded1.0/ParticipantResponse115.0/CorrectResponse115.0/TrialCount84.0/BlockTrialCount84.0/ReactionTime1049.0/Accuracy1.0/D90', 'Response/i75.0/r25.0/BigLetters/SmallLetterh/Taskg/TargetLetters/Responded1.0/ParticipantResponse115.0/CorrectResponse115.0/TrialCount105.0/BlockTrialCount105.0/ReactionTime1049.0/Accuracy1.0/D90', 'Response/i75.0/r25.0/BigLetters/SmallLetterh/Taskg/TargetLetters/Responded1.0/ParticipantResponse115.0/CorrectResponse115.0/TrialCount106.0/BlockTrialCount106.0/ReactionTime1033.0/Accuracy1.0/D90', 'Response/i75.0/r25.0/BigLetters/SmallLetterh/Taskg/TargetLetters/Responded1.0/ParticipantResponse115.0/CorrectResponse115.0/TrialCount107.0/BlockTrialCount107.0/ReactionTime1033.0/Accuracy1.0/D90', 'Response/i75.0/r25.0/BigLetters/SmallLetterh/Taskg/TargetLetters/Responded1.0/ParticipantResponse115.0/CorrectResponse115.0/TrialCount17.0/BlockTrialCount17.0/ReactionTime849.0/Accuracy1.0/D90', 'Response/i75.0/r25.0/BigLetters/SmallLetterh/Taskg/TargetLetters/Responded1.0/ParticipantResponse115.0/CorrectResponse115.0/TrialCount32.0/BlockTrialCount32.0/ReactionTime1233.0/Accuracy1.0/D90', 'Response/i75.0/r25.0/BigLetters/SmallLetterh/Taskg/TargetLetters/Responded1.0/ParticipantResponse115.0/CorrectResponse115.0/TrialCount34.0/BlockTrialCount34.0/ReactionTime1100.0/Accuracy1.0/D90', 'Response/i75.0/r25.0/BigLetters/SmallLetterh/Taskg/TargetLetters/Responded1.0/ParticipantResponse115.0/CorrectResponse115.0/TrialCount38.0/BlockTrialCount38.0/ReactionTime783.0/Accuracy1.0/D90', 'Response/i75.0/r25.0/BigLetters/SmallLetterh/Taskg/TargetLetters/Responded1.0/ParticipantResponse115.0/CorrectResponse115.0/TrialCount51.0/BlockTrialCount51.0/ReactionTime1966.0/Accuracy1.0/D90', 'Response/i75.0/r25.0/BigLetters/SmallLetterh/Taskg/TargetLetters/Responded1.0/ParticipantResponse115.0/CorrectResponse115.0/TrialCount54.0/BlockTrialCount54.0/ReactionTime700.0/Accuracy1.0/D90', 'Response/i75.0/r25.0/BigLetters/SmallLetterh/Taskg/TargetLetters/Responded1.0/ParticipantResponse115.0/CorrectResponse115.0/TrialCount6.0/BlockTrialCount6.0/ReactionTime1416.0/Accuracy1.0/D90', 'Response/i75.0/r25.0/BigLetters/SmallLetterh/Taskg/TargetLetters/Responded1.0/ParticipantResponse115.0/CorrectResponse115.0/TrialCount81.0/BlockTrialCount81.0/ReactionTime1050.0/Accuracy1.0/D90', 'Response/i75.0/r25.0/BigLetters/SmallLetterh/Taskg/TargetLetters/Responded1.0/ParticipantResponse115.0/CorrectResponse115.0/TrialCount88.0/BlockTrialCount88.0/ReactionTime833.0/Accuracy1.0/D90', 'Response/i75.0/r25.0/BigLetters/SmallLetterh/Taskg/TargetLetters/Responded1.0/ParticipantResponse115.0/CorrectResponse115.0/TrialCount91.0/BlockTrialCount91.0/ReactionTime716.0/Accuracy1.0/D90', 'Response/i75.0/r25.0/BigLetters/SmallLetterh/Taskg/TargetLetters/Responded1.0/ParticipantResponse115.0/CorrectResponse115.0/TrialCount92.0/BlockTrialCount92.0/ReactionTime783.0/Accuracy1.0/D90', 'Response/i75.0/r25.0/BigLetters/SmallLetterh/Taskl/TargetLetterh/Responded1.0/ParticipantResponse114.0/CorrectResponse114.0/TrialCount10.0/BlockTrialCount10.0/ReactionTime1666.0/Accuracy1.0/D90', 'Response/i75.0/r25.0/BigLetters/SmallLetterh/Taskl/TargetLetterh/Responded1.0/ParticipantResponse114.0/CorrectResponse114.0/TrialCount100.0/BlockTrialCount100.0/ReactionTime783.0/Accuracy1.0/D90', 'Response/i75.0/r25.0/BigLetters/SmallLetterh/Taskl/TargetLetterh/Responded1.0/ParticipantResponse114.0/CorrectResponse114.0/TrialCount101.0/BlockTrialCount101.0/ReactionTime916.0/Accuracy1.0/D90', 'Response/i75.0/r25.0/BigLetters/SmallLetterh/Taskl/TargetLetterh/Responded1.0/ParticipantResponse114.0/CorrectResponse114.0/TrialCount12.0/BlockTrialCount12.0/ReactionTime966.0/Accuracy1.0/D90', 'Response/i75.0/r25.0/BigLetters/SmallLetterh/Taskl/TargetLetterh/Responded1.0/ParticipantResponse114.0/CorrectResponse114.0/TrialCount27.0/BlockTrialCount27.0/ReactionTime1149.0/Accuracy1.0/D90', 'Response/i75.0/r25.0/BigLetters/SmallLetterh/Taskl/TargetLetterh/Responded1.0/ParticipantResponse114.0/CorrectResponse114.0/TrialCount28.0/BlockTrialCount28.0/ReactionTime983.0/Accuracy1.0/D90', 'Response/i75.0/r25.0/BigLetters/SmallLetterh/Taskl/TargetLetterh/Responded1.0/ParticipantResponse114.0/CorrectResponse114.0/TrialCount62.0/BlockTrialCount62.0/ReactionTime750.0/Accuracy1.0/D90', 'Response/i75.0/r25.0/BigLetters/SmallLetterh/Taskl/TargetLetterh/Responded1.0/ParticipantResponse114.0/CorrectResponse114.0/TrialCount63.0/BlockTrialCount63.0/ReactionTime916.0/Accuracy1.0/D90', 'Response/i75.0/r25.0/BigLetters/SmallLetterh/Taskl/TargetLetterh/Responded1.0/ParticipantResponse114.0/CorrectResponse114.0/TrialCount64.0/BlockTrialCount64.0/ReactionTime966.0/Accuracy1.0/D90', 'Response/i75.0/r25.0/BigLetters/SmallLetterh/Taskl/TargetLetterh/Responded1.0/ParticipantResponse114.0/CorrectResponse114.0/TrialCount70.0/BlockTrialCount70.0/ReactionTime1283.0/Accuracy1.0/D90', 'Response/i75.0/r25.0/BigLetters/SmallLetterh/Taskl/TargetLetterh/Responded1.0/ParticipantResponse114.0/CorrectResponse114.0/TrialCount85.0/BlockTrialCount85.0/ReactionTime1083.0/Accuracy1.0/D90', 'Response/i75.0/r25.0/BigLetters/SmallLetterh/Taskl/TargetLetterh/Responded1.0/ParticipantResponse114.0/CorrectResponse114.0/TrialCount95.0/BlockTrialCount95.0/ReactionTime666.0/Accuracy1.0/D90', 'Response/i75.0/r25.0/BigLetters/SmallLetterh/Taskl/TargetLetterh/Responded1.0/ParticipantResponse114.0/CorrectResponse114.0/TrialCount97.0/BlockTrialCount97.0/ReactionTime599.0/Accuracy1.0/D90', 'Response/i75.0/r25.0/BigLetters/SmallLetterh/Taskl/TargetLetterh/Responded1.0/ParticipantResponse115.0/CorrectResponse114.0/TrialCount8.0/BlockTrialCount8.0/ReactionTime2449.0/Accuracy0.0/D90', 'Response/i75.0/r75.0/BigLetterh/SmallLetters/Taskg/TargetLetterh/Responded1.0/ParticipantResponse114.0/CorrectResponse114.0/TrialCount126.0/BlockTrialCount14.0/ReactionTime1066.0/Accuracy1.0/D90', 'Response/i75.0/r75.0/BigLetterh/SmallLetters/Taskg/TargetLetterh/Responded1.0/ParticipantResponse114.0/CorrectResponse114.0/TrialCount131.0/BlockTrialCount19.0/ReactionTime1633.0/Accuracy1.0/D90', 'Response/i75.0/r75.0/BigLetterh/SmallLetters/Taskg/TargetLetterh/Responded1.0/ParticipantResponse114.0/CorrectResponse114.0/TrialCount167.0/BlockTrialCount55.0/ReactionTime1566.0/Accuracy1.0/D90', 'Response/i75.0/r75.0/BigLetterh/SmallLetters/Taskg/TargetLetterh/Responded1.0/ParticipantResponse114.0/CorrectResponse114.0/TrialCount192.0/BlockTrialCount80.0/ReactionTime883.0/Accuracy1.0/D90', 'Response/i75.0/r75.0/BigLetterh/SmallLetters/Taskl/TargetLetters/Responded1.0/ParticipantResponse114.0/CorrectResponse115.0/TrialCount209.0/BlockTrialCount97.0/ReactionTime683.0/Accuracy0.0/D90', 'Response/i75.0/r75.0/BigLetterh/SmallLetters/Taskl/TargetLetters/Responded1.0/ParticipantResponse115.0/CorrectResponse115.0/TrialCount123.0/BlockTrialCount11.0/ReactionTime649.0/Accuracy1.0/D90', 'Response/i75.0/r75.0/BigLetterh/SmallLetters/Taskl/TargetLetters/Responded1.0/ParticipantResponse115.0/CorrectResponse115.0/TrialCount124.0/BlockTrialCount12.0/ReactionTime650.0/Accuracy1.0/D90', 'Response/i75.0/r75.0/BigLetterh/SmallLetters/Taskl/TargetLetters/Responded1.0/ParticipantResponse115.0/CorrectResponse115.0/TrialCount145.0/BlockTrialCount33.0/ReactionTime1100.0/Accuracy1.0/D90', 'Response/i75.0/r75.0/BigLetterh/SmallLetters/Taskl/TargetLetters/Responded1.0/ParticipantResponse115.0/CorrectResponse115.0/TrialCount149.0/BlockTrialCount37.0/ReactionTime1183.0/Accuracy1.0/D90', 'Response/i75.0/r75.0/BigLetterh/SmallLetters/Taskl/TargetLetters/Responded1.0/ParticipantResponse115.0/CorrectResponse115.0/TrialCount169.0/BlockTrialCount57.0/ReactionTime1366.0/Accuracy1.0/D90', 'Response/i75.0/r75.0/BigLetterh/SmallLetters/Taskl/TargetLetters/Responded1.0/ParticipantResponse115.0/CorrectResponse115.0/TrialCount180.0/BlockTrialCount68.0/ReactionTime866.0/Accuracy1.0/D90', 'Response/i75.0/r75.0/BigLetterh/SmallLetters/Taskl/TargetLetters/Responded1.0/ParticipantResponse115.0/CorrectResponse115.0/TrialCount185.0/BlockTrialCount73.0/ReactionTime1283.0/Accuracy1.0/D90', 'Response/i75.0/r75.0/BigLetterh/SmallLetters/Taskl/TargetLetters/Responded1.0/ParticipantResponse115.0/CorrectResponse115.0/TrialCount206.0/BlockTrialCount94.0/ReactionTime1233.0/Accuracy1.0/D90', 'Response/i75.0/r75.0/BigLetters/SmallLetterh/Taskg/TargetLetters/Responded1.0/ParticipantResponse115.0/CorrectResponse115.0/TrialCount153.0/BlockTrialCount41.0/ReactionTime1966.0/Accuracy1.0/D90', 'Response/i75.0/r75.0/BigLetters/SmallLetterh/Taskg/TargetLetters/Responded1.0/ParticipantResponse115.0/CorrectResponse115.0/TrialCount158.0/BlockTrialCount46.0/ReactionTime1316.0/Accuracy1.0/D90', 'Response/i75.0/r75.0/BigLetters/SmallLetterh/Taskg/TargetLetters/Responded1.0/ParticipantResponse115.0/CorrectResponse115.0/TrialCount175.0/BlockTrialCount63.0/ReactionTime1699.0/Accuracy1.0/D90', 'Response/i75.0/r75.0/BigLetters/SmallLetterh/Taskg/TargetLetters/Responded1.0/ParticipantResponse115.0/CorrectResponse115.0/TrialCount176.0/BlockTrialCount64.0/ReactionTime1400.0/Accuracy1.0/D90', 'Response/i75.0/r75.0/BigLetters/SmallLetterh/Taskg/TargetLetters/Responded1.0/ParticipantResponse115.0/CorrectResponse115.0/TrialCount187.0/BlockTrialCount75.0/ReactionTime1033.0/Accuracy1.0/D90', 'Response/i75.0/r75.0/BigLetters/SmallLetterh/Taskg/TargetLetters/Responded1.0/ParticipantResponse115.0/CorrectResponse115.0/TrialCount213.0/BlockTrialCount101.0/ReactionTime1133.0/Accuracy1.0/D90', 'Response/i75.0/r75.0/BigLetters/SmallLetterh/Taskl/TargetLetterh/Responded1.0/ParticipantResponse114.0/CorrectResponse114.0/TrialCount148.0/BlockTrialCount36.0/ReactionTime1500.0/Accuracy1.0/D90', 'Response/i75.0/r75.0/BigLetters/SmallLetterh/Taskl/TargetLetterh/Responded1.0/ParticipantResponse114.0/CorrectResponse114.0/TrialCount205.0/BlockTrialCount93.0/ReactionTime1833.0/Accuracy1.0/D90', 'Response/i75.0/r75.0/BigLetters/SmallLetterh/Taskl/TargetLetterh/Responded1.0/ParticipantResponse114.0/CorrectResponse114.0/TrialCount215.0/BlockTrialCount103.0/ReactionTime1616.0/Accuracy1.0/D90', 'Response/i75.0/s25.0/BigLetterh/SmallLetters/Taskg/TargetLetterh/Responded1.0/ParticipantResponse114.0/CorrectResponse114.0/TrialCount43.0/BlockTrialCount43.0/ReactionTime800.0/Accuracy1.0/D90', 'Response/i75.0/s25.0/BigLetterh/SmallLetters/Taskg/TargetLetterh/Responded1.0/ParticipantResponse114.0/CorrectResponse114.0/TrialCount5.0/BlockTrialCount5.0/ReactionTime2316.0/Accuracy1.0/D90', 'Response/i75.0/s25.0/BigLetterh/SmallLetters/Taskg/TargetLetterh/Responded1.0/ParticipantResponse114.0/CorrectResponse114.0/TrialCount65.0/BlockTrialCount65.0/ReactionTime933.0/Accuracy1.0/D90', 'Response/i75.0/s25.0/BigLetterh/SmallLetters/Taskg/TargetLetterh/Responded1.0/ParticipantResponse114.0/CorrectResponse114.0/TrialCount72.0/BlockTrialCount72.0/ReactionTime1566.0/Accuracy1.0/D90', 'Response/i75.0/s25.0/BigLetterh/SmallLetters/Taskl/TargetLetters/Responded1.0/ParticipantResponse115.0/CorrectResponse115.0/TrialCount14.0/BlockTrialCount14.0/ReactionTime1716.0/Accuracy1.0/D90', 'Response/i75.0/s25.0/BigLetterh/SmallLetters/Taskl/TargetLetters/Responded1.0/ParticipantResponse115.0/CorrectResponse115.0/TrialCount22.0/BlockTrialCount22.0/ReactionTime1349.0/Accuracy1.0/D90', 'Response/i75.0/s25.0/BigLetterh/SmallLetters/Taskl/TargetLetters/Responded1.0/ParticipantResponse115.0/CorrectResponse115.0/TrialCount42.0/BlockTrialCount42.0/ReactionTime1533.0/Accuracy1.0/D90', 'Response/i75.0/s25.0/BigLetterh/SmallLetters/Taskl/TargetLetters/Responded1.0/ParticipantResponse115.0/CorrectResponse115.0/TrialCount56.0/BlockTrialCount56.0/ReactionTime999.0/Accuracy1.0/D90', 'Response/i75.0/s25.0/BigLetterh/SmallLetters/Taskl/TargetLetters/Responded1.0/ParticipantResponse115.0/CorrectResponse115.0/TrialCount68.0/BlockTrialCount68.0/ReactionTime1699.0/Accuracy1.0/D90', 'Response/i75.0/s25.0/BigLetters/SmallLetterh/Taskg/TargetLetters/Responded1.0/ParticipantResponse115.0/CorrectResponse115.0/TrialCount104.0/BlockTrialCount104.0/ReactionTime1583.0/Accuracy1.0/D90', 'Response/i75.0/s25.0/BigLetters/SmallLetterh/Taskg/TargetLetters/Responded1.0/ParticipantResponse115.0/CorrectResponse115.0/TrialCount111.0/BlockTrialCount111.0/ReactionTime1299.0/Accuracy1.0/D90', 'Response/i75.0/s25.0/BigLetters/SmallLetterh/Taskg/TargetLetters/Responded1.0/ParticipantResponse115.0/CorrectResponse115.0/TrialCount13.0/BlockTrialCount13.0/ReactionTime1649.0/Accuracy1.0/D90', 'Response/i75.0/s25.0/BigLetters/SmallLetterh/Taskg/TargetLetters/Responded1.0/ParticipantResponse115.0/CorrectResponse115.0/TrialCount15.0/BlockTrialCount15.0/ReactionTime1583.0/Accuracy1.0/D90', 'Response/i75.0/s25.0/BigLetters/SmallLetterh/Taskg/TargetLetters/Responded1.0/ParticipantResponse115.0/CorrectResponse115.0/TrialCount2.0/BlockTrialCount2.0/ReactionTime1116.0/Accuracy1.0/D90', 'Response/i75.0/s25.0/BigLetters/SmallLetterh/Taskg/TargetLetters/Responded1.0/ParticipantResponse115.0/CorrectResponse115.0/TrialCount47.0/BlockTrialCount47.0/ReactionTime2083.0/Accuracy1.0/D90', 'Response/i75.0/s25.0/BigLetters/SmallLetterh/Taskg/TargetLetters/Responded1.0/ParticipantResponse115.0/CorrectResponse115.0/TrialCount50.0/BlockTrialCount50.0/ReactionTime1249.0/Accuracy1.0/D90', 'Response/i75.0/s25.0/BigLetters/SmallLetterh/Taskl/TargetLetterh/Responded1.0/ParticipantResponse114.0/CorrectResponse114.0/TrialCount44.0/BlockTrialCount44.0/ReactionTime1433.0/Accuracy1.0/D90', 'Response/i75.0/s25.0/BigLetters/SmallLetterh/Taskl/TargetLetterh/Responded1.0/ParticipantResponse114.0/CorrectResponse114.0/TrialCount7.0/BlockTrialCount7.0/ReactionTime1616.0/Accuracy1.0/D90', 'Response/i75.0/s25.0/BigLetters/SmallLetterh/Taskl/TargetLetterh/Responded1.0/ParticipantResponse114.0/CorrectResponse114.0/TrialCount74.0/BlockTrialCount74.0/ReactionTime1883.0/Accuracy1.0/D90', 'Response/i75.0/s25.0/BigLetters/SmallLetterh/Taskl/TargetLetterh/Responded1.0/ParticipantResponse114.0/CorrectResponse114.0/TrialCount82.0/BlockTrialCount82.0/ReactionTime1233.0/Accuracy1.0/D90', 'Response/i75.0/s25.0/BigLetters/SmallLetterh/Taskl/TargetLetterh/Responded1.0/ParticipantResponse114.0/CorrectResponse114.0/TrialCount94.0/BlockTrialCount94.0/ReactionTime1599.0/Accuracy1.0/D90', 'Response/i75.0/s75.0/BigLetterh/SmallLetters/Taskg/TargetLetterh/Responded1.0/ParticipantResponse114.0/CorrectResponse114.0/TrialCount128.0/BlockTrialCount16.0/ReactionTime1699.0/Accuracy1.0/D90', 'Response/i75.0/s75.0/BigLetterh/SmallLetters/Taskg/TargetLetterh/Responded1.0/ParticipantResponse114.0/CorrectResponse114.0/TrialCount152.0/BlockTrialCount40.0/ReactionTime933.0/Accuracy1.0/D90', 'Response/i75.0/s75.0/BigLetterh/SmallLetters/Taskg/TargetLetterh/Responded1.0/ParticipantResponse114.0/CorrectResponse114.0/TrialCount157.0/BlockTrialCount45.0/ReactionTime1733.0/Accuracy1.0/D90', 'Response/i75.0/s75.0/BigLetterh/SmallLetters/Taskg/TargetLetterh/Responded1.0/ParticipantResponse114.0/CorrectResponse114.0/TrialCount164.0/BlockTrialCount52.0/ReactionTime1016.0/Accuracy1.0/D90', 'Response/i75.0/s75.0/BigLetterh/SmallLetters/Taskg/TargetLetterh/Responded1.0/ParticipantResponse114.0/CorrectResponse114.0/TrialCount166.0/BlockTrialCount54.0/ReactionTime1216.0/Accuracy1.0/D90', 'Response/i75.0/s75.0/BigLetterh/SmallLetters/Taskg/TargetLetterh/Responded1.0/ParticipantResponse114.0/CorrectResponse114.0/TrialCount181.0/BlockTrialCount69.0/ReactionTime1099.0/Accuracy1.0/D90', 'Response/i75.0/s75.0/BigLetterh/SmallLetters/Taskg/TargetLetterh/Responded1.0/ParticipantResponse114.0/CorrectResponse114.0/TrialCount183.0/BlockTrialCount71.0/ReactionTime1316.0/Accuracy1.0/D90', 'Response/i75.0/s75.0/BigLetterh/SmallLetters/Taskg/TargetLetterh/Responded1.0/ParticipantResponse114.0/CorrectResponse114.0/TrialCount186.0/BlockTrialCount74.0/ReactionTime1016.0/Accuracy1.0/D90', 'Response/i75.0/s75.0/BigLetterh/SmallLetters/Taskg/TargetLetterh/Responded1.0/ParticipantResponse114.0/CorrectResponse114.0/TrialCount191.0/BlockTrialCount79.0/ReactionTime1266.0/Accuracy1.0/D90', 'Response/i75.0/s75.0/BigLetterh/SmallLetters/Taskg/TargetLetterh/Responded1.0/ParticipantResponse114.0/CorrectResponse114.0/TrialCount210.0/BlockTrialCount98.0/ReactionTime916.0/Accuracy1.0/D90', 'Response/i75.0/s75.0/BigLetterh/SmallLetters/Taskg/TargetLetterh/Responded1.0/ParticipantResponse114.0/CorrectResponse114.0/TrialCount216.0/BlockTrialCount104.0/ReactionTime1199.0/Accuracy1.0/D90', 'Response/i75.0/s75.0/BigLetterh/SmallLetters/Taskg/TargetLetterh/Responded1.0/ParticipantResponse114.0/CorrectResponse114.0/TrialCount218.0/BlockTrialCount106.0/ReactionTime1416.0/Accuracy1.0/D90', 'Response/i75.0/s75.0/BigLetterh/SmallLetters/Taskg/TargetLetterh/Responded1.0/ParticipantResponse114.0/CorrectResponse114.0/TrialCount221.0/BlockTrialCount109.0/ReactionTime999.0/Accuracy1.0/D90', 'Response/i75.0/s75.0/BigLetterh/SmallLetters/Taskg/TargetLetterh/Responded1.0/ParticipantResponse114.0/CorrectResponse114.0/TrialCount223.0/BlockTrialCount111.0/ReactionTime1166.0/Accuracy1.0/D90', 'Response/i75.0/s75.0/BigLetterh/SmallLetters/Taskl/TargetLetters/Responded1.0/ParticipantResponse115.0/CorrectResponse115.0/TrialCount135.0/BlockTrialCount23.0/ReactionTime1633.0/Accuracy1.0/D90', 'Response/i75.0/s75.0/BigLetterh/SmallLetters/Taskl/TargetLetters/Responded1.0/ParticipantResponse115.0/CorrectResponse115.0/TrialCount137.0/BlockTrialCount25.0/ReactionTime1200.0/Accuracy1.0/D90', 'Response/i75.0/s75.0/BigLetterh/SmallLetters/Taskl/TargetLetters/Responded1.0/ParticipantResponse115.0/CorrectResponse115.0/TrialCount144.0/BlockTrialCount32.0/ReactionTime1799.0/Accuracy1.0/D90', 'Response/i75.0/s75.0/BigLetterh/SmallLetters/Taskl/TargetLetters/Responded1.0/ParticipantResponse115.0/CorrectResponse115.0/TrialCount147.0/BlockTrialCount35.0/ReactionTime1483.0/Accuracy1.0/D90', 'Response/i75.0/s75.0/BigLetterh/SmallLetters/Taskl/TargetLetters/Responded1.0/ParticipantResponse115.0/CorrectResponse115.0/TrialCount159.0/BlockTrialCount47.0/ReactionTime1633.0/Accuracy1.0/D90', 'Response/i75.0/s75.0/BigLetterh/SmallLetters/Taskl/TargetLetters/Responded1.0/ParticipantResponse115.0/CorrectResponse115.0/TrialCount161.0/BlockTrialCount49.0/ReactionTime1383.0/Accuracy1.0/D90', 'Response/i75.0/s75.0/BigLetterh/SmallLetters/Taskl/TargetLetters/Responded1.0/ParticipantResponse115.0/CorrectResponse115.0/TrialCount163.0/BlockTrialCount51.0/ReactionTime1183.0/Accuracy1.0/D90', 'Response/i75.0/s75.0/BigLetterh/SmallLetters/Taskl/TargetLetters/Responded1.0/ParticipantResponse115.0/CorrectResponse115.0/TrialCount177.0/BlockTrialCount65.0/ReactionTime1749.0/Accuracy1.0/D90', 'Response/i75.0/s75.0/BigLetterh/SmallLetters/Taskl/TargetLetters/Responded1.0/ParticipantResponse115.0/CorrectResponse115.0/TrialCount179.0/BlockTrialCount67.0/ReactionTime2066.0/Accuracy1.0/D90', 'Response/i75.0/s75.0/BigLetterh/SmallLetters/Taskl/TargetLetters/Responded1.0/ParticipantResponse115.0/CorrectResponse115.0/TrialCount188.0/BlockTrialCount76.0/ReactionTime1616.0/Accuracy1.0/D90', 'Response/i75.0/s75.0/BigLetterh/SmallLetters/Taskl/TargetLetters/Responded1.0/ParticipantResponse115.0/CorrectResponse115.0/TrialCount193.0/BlockTrialCount81.0/ReactionTime1350.0/Accuracy1.0/D90', 'Response/i75.0/s75.0/BigLetterh/SmallLetters/Taskl/TargetLetters/Responded1.0/ParticipantResponse115.0/CorrectResponse115.0/TrialCount197.0/BlockTrialCount85.0/ReactionTime1649.0/Accuracy1.0/D90', 'Response/i75.0/s75.0/BigLetterh/SmallLetters/Taskl/TargetLetters/Responded1.0/ParticipantResponse115.0/CorrectResponse115.0/TrialCount211.0/BlockTrialCount99.0/ReactionTime649.0/Accuracy1.0/D90', 'Response/i75.0/s75.0/BigLetterh/SmallLetters/Taskl/TargetLetters/Responded1.0/ParticipantResponse115.0/CorrectResponse115.0/TrialCount217.0/BlockTrialCount105.0/ReactionTime1333.0/Accuracy1.0/D90', 'Response/i75.0/s75.0/BigLetterh/SmallLetters/Taskl/TargetLetters/Responded1.0/ParticipantResponse115.0/CorrectResponse115.0/TrialCount220.0/BlockTrialCount108.0/ReactionTime783.0/Accuracy1.0/D90', 'Response/i75.0/s75.0/BigLetters/SmallLetterh/Taskg/TargetLetters/Responded1.0/ParticipantResponse114.0/CorrectResponse115.0/TrialCount203.0/BlockTrialCount91.0/ReactionTime1749.0/Accuracy0.0/D90', 'Response/i75.0/s75.0/BigLetters/SmallLetterh/Taskg/TargetLetters/Responded1.0/ParticipantResponse114.0/CorrectResponse115.0/TrialCount212.0/BlockTrialCount100.0/ReactionTime1049.0/Accuracy0.0/D90', 'Response/i75.0/s75.0/BigLetters/SmallLetterh/Taskg/TargetLetters/Responded1.0/ParticipantResponse115.0/CorrectResponse115.0/TrialCount116.0/BlockTrialCount4.0/ReactionTime816.0/Accuracy1.0/D90', 'Response/i75.0/s75.0/BigLetters/SmallLetterh/Taskg/TargetLetters/Responded1.0/ParticipantResponse115.0/CorrectResponse115.0/TrialCount120.0/BlockTrialCount8.0/ReactionTime1283.0/Accuracy1.0/D90', 'Response/i75.0/s75.0/BigLetters/SmallLetterh/Taskg/TargetLetters/Responded1.0/ParticipantResponse115.0/CorrectResponse115.0/TrialCount125.0/BlockTrialCount13.0/ReactionTime2099.0/Accuracy1.0/D90', 'Response/i75.0/s75.0/BigLetters/SmallLetterh/Taskg/TargetLetters/Responded1.0/ParticipantResponse115.0/CorrectResponse115.0/TrialCount130.0/BlockTrialCount18.0/ReactionTime1599.0/Accuracy1.0/D90', 'Response/i75.0/s75.0/BigLetters/SmallLetterh/Taskg/TargetLetters/Responded1.0/ParticipantResponse115.0/CorrectResponse115.0/TrialCount138.0/BlockTrialCount26.0/ReactionTime1683.0/Accuracy1.0/D90', 'Response/i75.0/s75.0/BigLetters/SmallLetterh/Taskg/TargetLetters/Responded1.0/ParticipantResponse115.0/CorrectResponse115.0/TrialCount140.0/BlockTrialCount28.0/ReactionTime1333.0/Accuracy1.0/D90', 'Response/i75.0/s75.0/BigLetters/SmallLetterh/Taskg/TargetLetters/Responded1.0/ParticipantResponse115.0/CorrectResponse115.0/TrialCount146.0/BlockTrialCount34.0/ReactionTime1533.0/Accuracy1.0/D90', 'Response/i75.0/s75.0/BigLetters/SmallLetterh/Taskg/TargetLetters/Responded1.0/ParticipantResponse115.0/CorrectResponse115.0/TrialCount150.0/BlockTrialCount38.0/ReactionTime1399.0/Accuracy1.0/D90', 'Response/i75.0/s75.0/BigLetters/SmallLetterh/Taskg/TargetLetters/Responded1.0/ParticipantResponse115.0/CorrectResponse115.0/TrialCount162.0/BlockTrialCount50.0/ReactionTime1683.0/Accuracy1.0/D90', 'Response/i75.0/s75.0/BigLetters/SmallLetterh/Taskg/TargetLetters/Responded1.0/ParticipantResponse115.0/CorrectResponse115.0/TrialCount170.0/BlockTrialCount58.0/ReactionTime1366.0/Accuracy1.0/D90', 'Response/i75.0/s75.0/BigLetters/SmallLetterh/Taskg/TargetLetters/Responded1.0/ParticipantResponse115.0/CorrectResponse115.0/TrialCount172.0/BlockTrialCount60.0/ReactionTime1399.0/Accuracy1.0/D90', 'Response/i75.0/s75.0/BigLetters/SmallLetterh/Taskg/TargetLetters/Responded1.0/ParticipantResponse115.0/CorrectResponse115.0/TrialCount198.0/BlockTrialCount86.0/ReactionTime1616.0/Accuracy1.0/D90', 'Response/i75.0/s75.0/BigLetters/SmallLetterh/Taskl/TargetLetterh/Responded1.0/ParticipantResponse114.0/CorrectResponse114.0/TrialCount115.0/BlockTrialCount3.0/ReactionTime1533.0/Accuracy1.0/D90', 'Response/i75.0/s75.0/BigLetters/SmallLetterh/Taskl/TargetLetterh/Responded1.0/ParticipantResponse114.0/CorrectResponse114.0/TrialCount119.0/BlockTrialCount7.0/ReactionTime1616.0/Accuracy1.0/D90', 'Response/i75.0/s75.0/BigLetters/SmallLetterh/Taskl/TargetLetterh/Responded1.0/ParticipantResponse114.0/CorrectResponse114.0/TrialCount121.0/BlockTrialCount9.0/ReactionTime1749.0/Accuracy1.0/D90', 'Response/i75.0/s75.0/BigLetters/SmallLetterh/Taskl/TargetLetterh/Responded1.0/ParticipantResponse114.0/CorrectResponse114.0/TrialCount127.0/BlockTrialCount15.0/ReactionTime1633.0/Accuracy1.0/D90', 'Response/i75.0/s75.0/BigLetters/SmallLetterh/Taskl/TargetLetterh/Responded1.0/ParticipantResponse114.0/CorrectResponse114.0/TrialCount129.0/BlockTrialCount17.0/ReactionTime1600.0/Accuracy1.0/D90', 'Response/i75.0/s75.0/BigLetters/SmallLetterh/Taskl/TargetLetterh/Responded1.0/ParticipantResponse114.0/CorrectResponse114.0/TrialCount142.0/BlockTrialCount30.0/ReactionTime1333.0/Accuracy1.0/D90', 'Response/i75.0/s75.0/BigLetters/SmallLetterh/Taskl/TargetLetterh/Responded1.0/ParticipantResponse114.0/CorrectResponse114.0/TrialCount154.0/BlockTrialCount42.0/ReactionTime1449.0/Accuracy1.0/D90', 'Response/i75.0/s75.0/BigLetters/SmallLetterh/Taskl/TargetLetterh/Responded1.0/ParticipantResponse114.0/CorrectResponse114.0/TrialCount165.0/BlockTrialCount53.0/ReactionTime1499.0/Accuracy1.0/D90', 'Response/i75.0/s75.0/BigLetters/SmallLetterh/Taskl/TargetLetterh/Responded1.0/ParticipantResponse114.0/CorrectResponse114.0/TrialCount168.0/BlockTrialCount56.0/ReactionTime1899.0/Accuracy1.0/D90', 'Response/i75.0/s75.0/BigLetters/SmallLetterh/Taskl/TargetLetterh/Responded1.0/ParticipantResponse114.0/CorrectResponse114.0/TrialCount171.0/BlockTrialCount59.0/ReactionTime1466.0/Accuracy1.0/D90', 'Response/i75.0/s75.0/BigLetters/SmallLetterh/Taskl/TargetLetterh/Responded1.0/ParticipantResponse114.0/CorrectResponse114.0/TrialCount173.0/BlockTrialCount61.0/ReactionTime1033.0/Accuracy1.0/D90', 'Response/i75.0/s75.0/BigLetters/SmallLetterh/Taskl/TargetLetterh/Responded1.0/ParticipantResponse114.0/CorrectResponse114.0/TrialCount195.0/BlockTrialCount83.0/ReactionTime1866.0/Accuracy1.0/D90', 'Response/i75.0/s75.0/BigLetters/SmallLetterh/Taskl/TargetLetterh/Responded1.0/ParticipantResponse114.0/CorrectResponse114.0/TrialCount200.0/BlockTrialCount88.0/ReactionTime1550.0/Accuracy1.0/D90', 'Response/i75.0/s75.0/BigLetters/SmallLetterh/Taskl/TargetLetterh/Responded1.0/ParticipantResponse114.0/CorrectResponse114.0/TrialCount204.0/BlockTrialCount92.0/ReactionTime1550.0/Accuracy1.0/D90', 'Response/i75.0/s75.0/BigLetters/SmallLetterh/Taskl/TargetLetterh/Responded1.0/ParticipantResponse114.0/CorrectResponse114.0/TrialCount208.0/BlockTrialCount96.0/ReactionTime666.0/Accuracy1.0/D90', 'Response/i75.0/s75.0/BigLetters/SmallLetterh/Taskl/TargetLetterh/Responded1.0/ParticipantResponse115.0/CorrectResponse114.0/TrialCount224.0/BlockTrialCount112.0/ReactionTime1400.0/Accuracy0.0/D90', 'Stimulus/c25.0/n25.0/BigLetterh/SmallLetterh/Taskg/TargetLetterh/Responded1.0/ParticipantResponse114.0/CorrectResponse114.0/TrialCount337.0/BlockTrialCount1.0/ReactionTime816.0/Accuracy1.0/D90', 'Stimulus/c25.0/n75.0/BigLetterh/SmallLetterh/Taskl/TargetLetterh/Responded1.0/ParticipantResponse114.0/CorrectResponse114.0/TrialCount225.0/BlockTrialCount1.0/ReactionTime1266.0/Accuracy1.0/D90', 'Stimulus/c25.0/r25.0/BigLetterh/SmallLetterh/Taskg/TargetLetterh/Responded1.0/ParticipantResponse114.0/CorrectResponse114.0/TrialCount340.0/BlockTrialCount4.0/ReactionTime616.0/Accuracy1.0/D90', 'Stimulus/c25.0/r25.0/BigLetterh/SmallLetterh/Taskg/TargetLetterh/Responded1.0/ParticipantResponse114.0/CorrectResponse114.0/TrialCount341.0/BlockTrialCount5.0/ReactionTime599.0/Accuracy1.0/D90', 'Stimulus/c25.0/r25.0/BigLetterh/SmallLetterh/Taskg/TargetLetterh/Responded1.0/ParticipantResponse114.0/CorrectResponse114.0/TrialCount342.0/BlockTrialCount6.0/ReactionTime600.0/Accuracy1.0/D90', 'Stimulus/c25.0/r25.0/BigLetterh/SmallLetterh/Taskg/TargetLetterh/Responded1.0/ParticipantResponse114.0/CorrectResponse114.0/TrialCount344.0/BlockTrialCount8.0/ReactionTime666.0/Accuracy1.0/D90', 'Stimulus/c25.0/r25.0/BigLetterh/SmallLetterh/Taskg/TargetLetterh/Responded1.0/ParticipantResponse114.0/CorrectResponse114.0/TrialCount364.0/BlockTrialCount28.0/ReactionTime1216.0/Accuracy1.0/D90', 'Stimulus/c25.0/r25.0/BigLetterh/SmallLetterh/Taskg/TargetLetterh/Responded1.0/ParticipantResponse114.0/CorrectResponse114.0/TrialCount382.0/BlockTrialCount46.0/ReactionTime849.0/Accuracy1.0/D90', 'Stimulus/c25.0/r25.0/BigLetterh/SmallLetterh/Taskg/TargetLetterh/Responded1.0/ParticipantResponse114.0/CorrectResponse114.0/TrialCount392.0/BlockTrialCount56.0/ReactionTime850.0/Accuracy1.0/D90', 'Stimulus/c25.0/r25.0/BigLetterh/SmallLetterh/Taskg/TargetLetterh/Responded1.0/ParticipantResponse114.0/CorrectResponse114.0/TrialCount398.0/BlockTrialCount62.0/ReactionTime800.0/Accuracy1.0/D90', 'Stimulus/c25.0/r25.0/BigLetterh/SmallLetterh/Taskg/TargetLetterh/Responded1.0/ParticipantResponse114.0/CorrectResponse114.0/TrialCount400.0/BlockTrialCount64.0/ReactionTime883.0/Accuracy1.0/D90', 'Stimulus/c25.0/r25.0/BigLetterh/SmallLetterh/Taskg/TargetLetterh/Responded1.0/ParticipantResponse114.0/CorrectResponse114.0/TrialCount403.0/BlockTrialCount67.0/ReactionTime899.0/Accuracy1.0/D90', 'Stimulus/c25.0/r25.0/BigLetterh/SmallLetterh/Taskg/TargetLetterh/Responded1.0/ParticipantResponse114.0/CorrectResponse114.0/TrialCount405.0/BlockTrialCount69.0/ReactionTime866.0/Accuracy1.0/D90', 'Stimulus/c25.0/r25.0/BigLetterh/SmallLetterh/Taskg/TargetLetterh/Responded1.0/ParticipantResponse114.0/CorrectResponse114.0/TrialCount418.0/BlockTrialCount82.0/ReactionTime666.0/Accuracy1.0/D90', 'Stimulus/c25.0/r25.0/BigLetterh/SmallLetterh/Taskg/TargetLetterh/Responded1.0/ParticipantResponse114.0/CorrectResponse114.0/TrialCount426.0/BlockTrialCount90.0/ReactionTime1033.0/Accuracy1.0/D90', 'Stimulus/c25.0/r25.0/BigLetterh/SmallLetterh/Taskg/TargetLetterh/Responded1.0/ParticipantResponse114.0/CorrectResponse114.0/TrialCount429.0/BlockTrialCount93.0/ReactionTime666.0/Accuracy1.0/D90', 'Stimulus/c25.0/r25.0/BigLetterh/SmallLetterh/Taskl/TargetLetterh/Responded1.0/ParticipantResponse114.0/CorrectResponse114.0/TrialCount353.0/BlockTrialCount17.0/ReactionTime1116.0/Accuracy1.0/D90', 'Stimulus/c25.0/r25.0/BigLetterh/SmallLetterh/Taskl/TargetLetterh/Responded1.0/ParticipantResponse114.0/CorrectResponse114.0/TrialCount354.0/BlockTrialCount18.0/ReactionTime1583.0/Accuracy1.0/D90', 'Stimulus/c25.0/r25.0/BigLetterh/SmallLetterh/Taskl/TargetLetterh/Responded1.0/ParticipantResponse114.0/CorrectResponse114.0/TrialCount357.0/BlockTrialCount21.0/ReactionTime1083.0/Accuracy1.0/D90', 'Stimulus/c25.0/r25.0/BigLetterh/SmallLetterh/Taskl/TargetLetterh/Responded1.0/ParticipantResponse114.0/CorrectResponse114.0/TrialCount361.0/BlockTrialCount25.0/ReactionTime883.0/Accuracy1.0/D90', 'Stimulus/c25.0/r25.0/BigLetterh/SmallLetterh/Taskl/TargetLetterh/Responded1.0/ParticipantResponse114.0/CorrectResponse114.0/TrialCount367.0/BlockTrialCount31.0/ReactionTime966.0/Accuracy1.0/D90', 'Stimulus/c25.0/r25.0/BigLetterh/SmallLetterh/Taskl/TargetLetterh/Responded1.0/ParticipantResponse114.0/CorrectResponse114.0/TrialCount368.0/BlockTrialCount32.0/ReactionTime949.0/Accuracy1.0/D90', 'Stimulus/c25.0/r25.0/BigLetterh/SmallLetterh/Taskl/TargetLetterh/Responded1.0/ParticipantResponse114.0/CorrectResponse114.0/TrialCount375.0/BlockTrialCount39.0/ReactionTime1000.0/Accuracy1.0/D90', 'Stimulus/c25.0/r25.0/BigLetterh/SmallLetterh/Taskl/TargetLetterh/Responded1.0/ParticipantResponse114.0/CorrectResponse114.0/TrialCount377.0/BlockTrialCount41.0/ReactionTime833.0/Accuracy1.0/D90', 'Stimulus/c25.0/r25.0/BigLetterh/SmallLetterh/Taskl/TargetLetterh/Responded1.0/ParticipantResponse114.0/CorrectResponse114.0/TrialCount378.0/BlockTrialCount42.0/ReactionTime1333.0/Accuracy1.0/D90', 'Stimulus/c25.0/r25.0/BigLetterh/SmallLetterh/Taskl/TargetLetterh/Responded1.0/ParticipantResponse114.0/CorrectResponse114.0/TrialCount379.0/BlockTrialCount43.0/ReactionTime816.0/Accuracy1.0/D90', 'Stimulus/c25.0/r25.0/BigLetterh/SmallLetterh/Taskl/TargetLetterh/Responded1.0/ParticipantResponse114.0/CorrectResponse114.0/TrialCount409.0/BlockTrialCount73.0/ReactionTime1799.0/Accuracy1.0/D90', 'Stimulus/c25.0/r25.0/BigLetterh/SmallLetterh/Taskl/TargetLetterh/Responded1.0/ParticipantResponse114.0/CorrectResponse114.0/TrialCount410.0/BlockTrialCount74.0/ReactionTime733.0/Accuracy1.0/D90', 'Stimulus/c25.0/r25.0/BigLetterh/SmallLetterh/Taskl/TargetLetterh/Responded1.0/ParticipantResponse114.0/CorrectResponse114.0/TrialCount435.0/BlockTrialCount99.0/ReactionTime1766.0/Accuracy1.0/D90', 'Stimulus/c25.0/r25.0/BigLetterh/SmallLetterh/Taskl/TargetLetterh/Responded1.0/ParticipantResponse114.0/CorrectResponse114.0/TrialCount436.0/BlockTrialCount100.0/ReactionTime1566.0/Accuracy1.0/D90', 'Stimulus/c25.0/r25.0/BigLetterh/SmallLetterh/Taskl/TargetLetterh/Responded1.0/ParticipantResponse114.0/CorrectResponse114.0/TrialCount438.0/BlockTrialCount102.0/ReactionTime1016.0/Accuracy1.0/D90', 'Stimulus/c25.0/r25.0/BigLetterh/SmallLetterh/Taskl/TargetLetterh/Responded1.0/ParticipantResponse114.0/CorrectResponse114.0/TrialCount439.0/BlockTrialCount103.0/ReactionTime849.0/Accuracy1.0/D90', 'Stimulus/c25.0/r25.0/BigLetterh/SmallLetterh/Taskl/TargetLetterh/Responded1.0/ParticipantResponse114.0/CorrectResponse114.0/TrialCount447.0/BlockTrialCount111.0/ReactionTime1649.0/Accuracy1.0/D90', 'Stimulus/c25.0/r25.0/BigLetters/SmallLetters/Taskg/TargetLetters/Responded1.0/ParticipantResponse114.0/CorrectResponse115.0/TrialCount339.0/BlockTrialCount3.0/ReactionTime700.0/Accuracy0.0/D90', 'Stimulus/c25.0/r25.0/BigLetters/SmallLetters/Taskg/TargetLetters/Responded1.0/ParticipantResponse115.0/CorrectResponse115.0/TrialCount343.0/BlockTrialCount7.0/ReactionTime649.0/Accuracy1.0/D90', 'Stimulus/c25.0/r25.0/BigLetters/SmallLetters/Taskg/TargetLetters/Responded1.0/ParticipantResponse115.0/CorrectResponse115.0/TrialCount345.0/BlockTrialCount9.0/ReactionTime649.0/Accuracy1.0/D90', 'Stimulus/c25.0/r25.0/BigLetters/SmallLetters/Taskg/TargetLetters/Responded1.0/ParticipantResponse115.0/CorrectResponse115.0/TrialCount363.0/BlockTrialCount27.0/ReactionTime1049.0/Accuracy1.0/D90', 'Stimulus/c25.0/r25.0/BigLetters/SmallLetters/Taskg/TargetLetters/Responded1.0/ParticipantResponse115.0/CorrectResponse115.0/TrialCount365.0/BlockTrialCount29.0/ReactionTime1067.0/Accuracy1.0/D90', 'Stimulus/c25.0/r25.0/BigLetters/SmallLetters/Taskg/TargetLetters/Responded1.0/ParticipantResponse115.0/CorrectResponse115.0/TrialCount381.0/BlockTrialCount45.0/ReactionTime716.0/Accuracy1.0/D90', 'Stimulus/c25.0/r25.0/BigLetters/SmallLetters/Taskg/TargetLetters/Responded1.0/ParticipantResponse115.0/CorrectResponse115.0/TrialCount383.0/BlockTrialCount47.0/ReactionTime816.0/Accuracy1.0/D90', 'Stimulus/c25.0/r25.0/BigLetters/SmallLetters/Taskg/TargetLetters/Responded1.0/ParticipantResponse115.0/CorrectResponse115.0/TrialCount399.0/BlockTrialCount63.0/ReactionTime899.0/Accuracy1.0/D90', 'Stimulus/c25.0/r25.0/BigLetters/SmallLetters/Taskg/TargetLetters/Responded1.0/ParticipantResponse115.0/CorrectResponse115.0/TrialCount401.0/BlockTrialCount65.0/ReactionTime650.0/Accuracy1.0/D90', 'Stimulus/c25.0/r25.0/BigLetters/SmallLetters/Taskg/TargetLetters/Responded1.0/ParticipantResponse115.0/CorrectResponse115.0/TrialCount404.0/BlockTrialCount68.0/ReactionTime1016.0/Accuracy1.0/D90', 'Stimulus/c25.0/r25.0/BigLetters/SmallLetters/Taskg/TargetLetters/Responded1.0/ParticipantResponse115.0/CorrectResponse115.0/TrialCount406.0/BlockTrialCount70.0/ReactionTime666.0/Accuracy1.0/D90', 'Stimulus/c25.0/r25.0/BigLetters/SmallLetters/Taskg/TargetLetters/Responded1.0/ParticipantResponse115.0/CorrectResponse115.0/TrialCount407.0/BlockTrialCount71.0/ReactionTime1399.0/Accuracy1.0/D90', 'Stimulus/c25.0/r25.0/BigLetters/SmallLetters/Taskg/TargetLetters/Responded1.0/ParticipantResponse115.0/CorrectResponse115.0/TrialCount415.0/BlockTrialCount79.0/ReactionTime1100.0/Accuracy1.0/D90', 'Stimulus/c25.0/r25.0/BigLetters/SmallLetters/Taskg/TargetLetters/Responded1.0/ParticipantResponse115.0/CorrectResponse115.0/TrialCount425.0/BlockTrialCount89.0/ReactionTime1499.0/Accuracy1.0/D90', 'Stimulus/c25.0/r25.0/BigLetters/SmallLetters/Taskg/TargetLetters/Responded1.0/ParticipantResponse115.0/CorrectResponse115.0/TrialCount431.0/BlockTrialCount95.0/ReactionTime1066.0/Accuracy1.0/D90', 'Stimulus/c25.0/r25.0/BigLetters/SmallLetters/Taskg/TargetLetters/Responded1.0/ParticipantResponse115.0/CorrectResponse115.0/TrialCount443.0/BlockTrialCount107.0/ReactionTime1183.0/Accuracy1.0/D90', 'Stimulus/c25.0/r25.0/BigLetters/SmallLetters/Taskg/TargetLetters/Responded1.0/ParticipantResponse115.0/CorrectResponse115.0/TrialCount444.0/BlockTrialCount108.0/ReactionTime1349.0/Accuracy1.0/D90', 'Stimulus/c25.0/r25.0/BigLetters/SmallLetters/Taskl/TargetLetters/Responded1.0/ParticipantResponse115.0/CorrectResponse115.0/TrialCount350.0/BlockTrialCount14.0/ReactionTime666.0/Accuracy1.0/D90', 'Stimulus/c25.0/r25.0/BigLetters/SmallLetters/Taskl/TargetLetters/Responded1.0/ParticipantResponse115.0/CorrectResponse115.0/TrialCount352.0/BlockTrialCount16.0/ReactionTime916.0/Accuracy1.0/D90', 'Stimulus/c25.0/r25.0/BigLetters/SmallLetters/Taskl/TargetLetters/Responded1.0/ParticipantResponse115.0/CorrectResponse115.0/TrialCount355.0/BlockTrialCount19.0/ReactionTime1000.0/Accuracy1.0/D90', 'Stimulus/c25.0/r25.0/BigLetters/SmallLetters/Taskl/TargetLetters/Responded1.0/ParticipantResponse115.0/CorrectResponse115.0/TrialCount369.0/BlockTrialCount33.0/ReactionTime916.0/Accuracy1.0/D90', 'Stimulus/c25.0/r25.0/BigLetters/SmallLetters/Taskl/TargetLetters/Responded1.0/ParticipantResponse115.0/CorrectResponse115.0/TrialCount370.0/BlockTrialCount34.0/ReactionTime1033.0/Accuracy1.0/D90', 'Stimulus/c25.0/r25.0/BigLetters/SmallLetters/Taskl/TargetLetters/Responded1.0/ParticipantResponse115.0/CorrectResponse115.0/TrialCount374.0/BlockTrialCount38.0/ReactionTime933.0/Accuracy1.0/D90', 'Stimulus/c25.0/r25.0/BigLetters/SmallLetters/Taskl/TargetLetters/Responded1.0/ParticipantResponse115.0/CorrectResponse115.0/TrialCount387.0/BlockTrialCount51.0/ReactionTime849.0/Accuracy1.0/D90', 'Stimulus/c25.0/r25.0/BigLetters/SmallLetters/Taskl/TargetLetters/Responded1.0/ParticipantResponse115.0/CorrectResponse115.0/TrialCount390.0/BlockTrialCount54.0/ReactionTime916.0/Accuracy1.0/D90', 'Stimulus/c25.0/r25.0/BigLetters/SmallLetters/Taskl/TargetLetters/Responded1.0/ParticipantResponse115.0/CorrectResponse115.0/TrialCount394.0/BlockTrialCount58.0/ReactionTime783.0/Accuracy1.0/D90', 'Stimulus/c25.0/r25.0/BigLetters/SmallLetters/Taskl/TargetLetters/Responded1.0/ParticipantResponse115.0/CorrectResponse115.0/TrialCount422.0/BlockTrialCount86.0/ReactionTime1333.0/Accuracy1.0/D90', 'Stimulus/c25.0/r25.0/BigLetters/SmallLetters/Taskl/TargetLetters/Responded1.0/ParticipantResponse115.0/CorrectResponse115.0/TrialCount423.0/BlockTrialCount87.0/ReactionTime666.0/Accuracy1.0/D90', 'Stimulus/c25.0/r25.0/BigLetters/SmallLetters/Taskl/TargetLetters/Responded1.0/ParticipantResponse115.0/CorrectResponse115.0/TrialCount433.0/BlockTrialCount97.0/ReactionTime1749.0/Accuracy1.0/D90', 'Stimulus/c25.0/r25.0/BigLetters/SmallLetters/Taskl/TargetLetters/Responded1.0/ParticipantResponse115.0/CorrectResponse115.0/TrialCount434.0/BlockTrialCount98.0/ReactionTime866.0/Accuracy1.0/D90', 'Stimulus/c25.0/r25.0/BigLetters/SmallLetters/Taskl/TargetLetters/Responded1.0/ParticipantResponse115.0/CorrectResponse115.0/TrialCount448.0/BlockTrialCount112.0/ReactionTime950.0/Accuracy1.0/D90', 'Stimulus/c25.0/r75.0/BigLetterh/SmallLetterh/Taskg/TargetLetterh/Responded1.0/ParticipantResponse114.0/CorrectResponse114.0/TrialCount257.0/BlockTrialCount33.0/ReactionTime1266.0/Accuracy1.0/D90', 'Stimulus/c25.0/r75.0/BigLetterh/SmallLetterh/Taskg/TargetLetterh/Responded1.0/ParticipantResponse114.0/CorrectResponse114.0/TrialCount282.0/BlockTrialCount58.0/ReactionTime1049.0/Accuracy1.0/D90', 'Stimulus/c25.0/r75.0/BigLetterh/SmallLetterh/Taskl/TargetLetterh/Responded1.0/ParticipantResponse114.0/CorrectResponse114.0/TrialCount237.0/BlockTrialCount13.0/ReactionTime1516.0/Accuracy1.0/D90', 'Stimulus/c25.0/r75.0/BigLetterh/SmallLetterh/Taskl/TargetLetterh/Responded1.0/ParticipantResponse114.0/CorrectResponse114.0/TrialCount244.0/BlockTrialCount20.0/ReactionTime1249.0/Accuracy1.0/D90', 'Stimulus/c25.0/r75.0/BigLetterh/SmallLetterh/Taskl/TargetLetterh/Responded1.0/ParticipantResponse114.0/CorrectResponse114.0/TrialCount286.0/BlockTrialCount62.0/ReactionTime933.0/Accuracy1.0/D90', 'Stimulus/c25.0/r75.0/BigLetterh/SmallLetterh/Taskl/TargetLetterh/Responded1.0/ParticipantResponse114.0/CorrectResponse114.0/TrialCount317.0/BlockTrialCount93.0/ReactionTime1399.0/Accuracy1.0/D90', 'Stimulus/c25.0/r75.0/BigLetterh/SmallLetterh/Taskl/TargetLetterh/Responded1.0/ParticipantResponse114.0/CorrectResponse114.0/TrialCount320.0/BlockTrialCount96.0/ReactionTime949.0/Accuracy1.0/D90', 'Stimulus/c25.0/r75.0/BigLetters/SmallLetters/Taskg/TargetLetters/Responded1.0/ParticipantResponse115.0/CorrectResponse115.0/TrialCount227.0/BlockTrialCount3.0/ReactionTime983.0/Accuracy1.0/D90', 'Stimulus/c25.0/r75.0/BigLetters/SmallLetters/Taskg/TargetLetters/Responded1.0/ParticipantResponse115.0/CorrectResponse115.0/TrialCount228.0/BlockTrialCount4.0/ReactionTime916.0/Accuracy1.0/D90', 'Stimulus/c25.0/r75.0/BigLetters/SmallLetters/Taskg/TargetLetters/Responded1.0/ParticipantResponse115.0/CorrectResponse115.0/TrialCount241.0/BlockTrialCount17.0/ReactionTime1666.0/Accuracy1.0/D90', 'Stimulus/c25.0/r75.0/BigLetters/SmallLetters/Taskg/TargetLetters/Responded1.0/ParticipantResponse115.0/CorrectResponse115.0/TrialCount272.0/BlockTrialCount48.0/ReactionTime1049.0/Accuracy1.0/D90', 'Stimulus/c25.0/r75.0/BigLetters/SmallLetters/Taskg/TargetLetters/Responded1.0/ParticipantResponse115.0/CorrectResponse115.0/TrialCount281.0/BlockTrialCount57.0/ReactionTime1716.0/Accuracy1.0/D90', 'Stimulus/c25.0/r75.0/BigLetters/SmallLetters/Taskg/TargetLetters/Responded1.0/ParticipantResponse115.0/CorrectResponse115.0/TrialCount296.0/BlockTrialCount72.0/ReactionTime1083.0/Accuracy1.0/D90', 'Stimulus/c25.0/r75.0/BigLetters/SmallLetters/Taskg/TargetLetters/Responded1.0/ParticipantResponse115.0/CorrectResponse115.0/TrialCount305.0/BlockTrialCount81.0/ReactionTime1583.0/Accuracy1.0/D90', 'Stimulus/c25.0/r75.0/BigLetters/SmallLetters/Taskg/TargetLetters/Responded1.0/ParticipantResponse115.0/CorrectResponse115.0/TrialCount308.0/BlockTrialCount84.0/ReactionTime1566.0/Accuracy1.0/D90', 'Stimulus/c25.0/r75.0/BigLetters/SmallLetters/Taskg/TargetLetters/Responded1.0/ParticipantResponse115.0/CorrectResponse115.0/TrialCount325.0/BlockTrialCount101.0/ReactionTime1083.0/Accuracy1.0/D90', 'Stimulus/c25.0/r75.0/BigLetters/SmallLetters/Taskl/TargetLetters/Responded1.0/ParticipantResponse115.0/CorrectResponse115.0/TrialCount230.0/BlockTrialCount6.0/ReactionTime633.0/Accuracy1.0/D90', 'Stimulus/c25.0/r75.0/BigLetters/SmallLetters/Taskl/TargetLetters/Responded1.0/ParticipantResponse115.0/CorrectResponse115.0/TrialCount247.0/BlockTrialCount23.0/ReactionTime799.0/Accuracy1.0/D90', 'Stimulus/c25.0/r75.0/BigLetters/SmallLetters/Taskl/TargetLetters/Responded1.0/ParticipantResponse115.0/CorrectResponse115.0/TrialCount267.0/BlockTrialCount43.0/ReactionTime1600.0/Accuracy1.0/D90', 'Stimulus/c25.0/r75.0/BigLetters/SmallLetters/Taskl/TargetLetters/Responded1.0/ParticipantResponse115.0/CorrectResponse115.0/TrialCount323.0/BlockTrialCount99.0/ReactionTime1066.0/Accuracy1.0/D90', 'Stimulus/c25.0/r75.0/BigLetters/SmallLetters/Taskl/TargetLetters/Responded1.0/ParticipantResponse115.0/CorrectResponse115.0/TrialCount329.0/BlockTrialCount105.0/ReactionTime883.0/Accuracy1.0/D90', 'Stimulus/c25.0/s25.0/BigLetterh/SmallLetterh/Taskg/TargetLetterh/Responded1.0/ParticipantResponse114.0/CorrectResponse114.0/TrialCount380.0/BlockTrialCount44.0/ReactionTime1650.0/Accuracy1.0/D90', 'Stimulus/c25.0/s25.0/BigLetterh/SmallLetterh/Taskg/TargetLetterh/Responded1.0/ParticipantResponse114.0/CorrectResponse114.0/TrialCount385.0/BlockTrialCount49.0/ReactionTime766.0/Accuracy1.0/D90', 'Stimulus/c25.0/s25.0/BigLetterh/SmallLetterh/Taskg/TargetLetterh/Responded1.0/ParticipantResponse114.0/CorrectResponse114.0/TrialCount395.0/BlockTrialCount59.0/ReactionTime1283.0/Accuracy1.0/D90', 'Stimulus/c25.0/s25.0/BigLetterh/SmallLetterh/Taskg/TargetLetterh/Responded1.0/ParticipantResponse114.0/CorrectResponse114.0/TrialCount414.0/BlockTrialCount78.0/ReactionTime833.0/Accuracy1.0/D90', 'Stimulus/c25.0/s25.0/BigLetterh/SmallLetterh/Taskg/TargetLetterh/Responded1.0/ParticipantResponse114.0/CorrectResponse114.0/TrialCount420.0/BlockTrialCount84.0/ReactionTime733.0/Accuracy1.0/D90', 'Stimulus/c25.0/s25.0/BigLetterh/SmallLetterh/Taskg/TargetLetterh/Responded1.0/ParticipantResponse114.0/CorrectResponse114.0/TrialCount428.0/BlockTrialCount92.0/ReactionTime916.0/Accuracy1.0/D90', 'Stimulus/c25.0/s25.0/BigLetterh/SmallLetterh/Taskl/TargetLetterh/Responded1.0/ParticipantResponse114.0/CorrectResponse114.0/TrialCount347.0/BlockTrialCount11.0/ReactionTime2050.0/Accuracy1.0/D90', 'Stimulus/c25.0/s25.0/BigLetterh/SmallLetterh/Taskl/TargetLetterh/Responded1.0/ParticipantResponse114.0/CorrectResponse114.0/TrialCount372.0/BlockTrialCount36.0/ReactionTime1683.0/Accuracy1.0/D90', 'Stimulus/c25.0/s25.0/BigLetterh/SmallLetterh/Taskl/TargetLetterh/Responded1.0/ParticipantResponse114.0/CorrectResponse114.0/TrialCount386.0/BlockTrialCount50.0/ReactionTime1150.0/Accuracy1.0/D90', 'Stimulus/c25.0/s25.0/BigLetterh/SmallLetterh/Taskl/TargetLetterh/Responded1.0/ParticipantResponse114.0/CorrectResponse114.0/TrialCount408.0/BlockTrialCount72.0/ReactionTime1266.0/Accuracy1.0/D90', 'Stimulus/c25.0/s25.0/BigLetterh/SmallLetterh/Taskl/TargetLetterh/Responded1.0/ParticipantResponse114.0/CorrectResponse114.0/TrialCount419.0/BlockTrialCount83.0/ReactionTime1283.0/Accuracy1.0/D90', 'Stimulus/c25.0/s25.0/BigLetterh/SmallLetterh/Taskl/TargetLetterh/Responded1.0/ParticipantResponse114.0/CorrectResponse114.0/TrialCount432.0/BlockTrialCount96.0/ReactionTime1549.0/Accuracy1.0/D90', 'Stimulus/c25.0/s25.0/BigLetterh/SmallLetterh/Taskl/TargetLetterh/Responded1.0/ParticipantResponse115.0/CorrectResponse114.0/TrialCount393.0/BlockTrialCount57.0/ReactionTime1250.0/Accuracy0.0/D90', 'Stimulus/c25.0/s25.0/BigLetterh/SmallLetterh/Taskl/TargetLetterh/Responded1.0/ParticipantResponse115.0/CorrectResponse114.0/TrialCount446.0/BlockTrialCount110.0/ReactionTime1816.0/Accuracy0.0/D90', 'Stimulus/c25.0/s25.0/BigLetters/SmallLetters/Taskg/TargetLetters/Responded1.0/ParticipantResponse114.0/CorrectResponse115.0/TrialCount391.0/BlockTrialCount55.0/ReactionTime2333.0/Accuracy0.0/D90', 'Stimulus/c25.0/s25.0/BigLetters/SmallLetters/Taskg/TargetLetters/Responded1.0/ParticipantResponse115.0/CorrectResponse115.0/TrialCount362.0/BlockTrialCount26.0/ReactionTime1733.0/Accuracy1.0/D90', 'Stimulus/c25.0/s25.0/BigLetters/SmallLetters/Taskg/TargetLetters/Responded1.0/ParticipantResponse115.0/CorrectResponse115.0/TrialCount440.0/BlockTrialCount104.0/ReactionTime1366.0/Accuracy1.0/D90', 'Stimulus/c25.0/s25.0/BigLetters/SmallLetters/Taskl/TargetLetters/Responded1.0/ParticipantResponse114.0/CorrectResponse115.0/TrialCount384.0/BlockTrialCount48.0/ReactionTime2216.0/Accuracy0.0/D90', 'Stimulus/c25.0/s25.0/BigLetters/SmallLetters/Taskl/TargetLetters/Responded1.0/ParticipantResponse115.0/CorrectResponse115.0/TrialCount349.0/BlockTrialCount13.0/ReactionTime1816.0/Accuracy1.0/D90', 'Stimulus/c25.0/s25.0/BigLetters/SmallLetters/Taskl/TargetLetters/Responded1.0/ParticipantResponse115.0/CorrectResponse115.0/TrialCount366.0/BlockTrialCount30.0/ReactionTime1266.0/Accuracy1.0/D90', 'Stimulus/c25.0/s25.0/BigLetters/SmallLetters/Taskl/TargetLetters/Responded1.0/ParticipantResponse115.0/CorrectResponse115.0/TrialCount427.0/BlockTrialCount91.0/ReactionTime1000.0/Accuracy1.0/D90', 'Stimulus/c25.0/s75.0/BigLetterh/SmallLetterh/Taskg/TargetLetterh/Responded1.0/ParticipantResponse114.0/CorrectResponse114.0/TrialCount226.0/BlockTrialCount2.0/ReactionTime1183.0/Accuracy1.0/D90', 'Stimulus/c25.0/s75.0/BigLetterh/SmallLetterh/Taskg/TargetLetterh/Responded1.0/ParticipantResponse114.0/CorrectResponse114.0/TrialCount231.0/BlockTrialCount7.0/ReactionTime1116.0/Accuracy1.0/D90', 'Stimulus/c25.0/s75.0/BigLetterh/SmallLetterh/Taskg/TargetLetterh/Responded1.0/ParticipantResponse114.0/CorrectResponse114.0/TrialCount233.0/BlockTrialCount9.0/ReactionTime983.0/Accuracy1.0/D90', 'Stimulus/c25.0/s75.0/BigLetterh/SmallLetterh/Taskg/TargetLetterh/Responded1.0/ParticipantResponse114.0/CorrectResponse114.0/TrialCount235.0/BlockTrialCount11.0/ReactionTime1166.0/Accuracy1.0/D90', 'Stimulus/c25.0/s75.0/BigLetterh/SmallLetterh/Taskg/TargetLetterh/Responded1.0/ParticipantResponse114.0/CorrectResponse114.0/TrialCount248.0/BlockTrialCount24.0/ReactionTime900.0/Accuracy1.0/D90', 'Stimulus/c25.0/s75.0/BigLetterh/SmallLetterh/Taskg/TargetLetterh/Responded1.0/ParticipantResponse114.0/CorrectResponse114.0/TrialCount265.0/BlockTrialCount41.0/ReactionTime1116.0/Accuracy1.0/D90', 'Stimulus/c25.0/s75.0/BigLetterh/SmallLetterh/Taskg/TargetLetterh/Responded1.0/ParticipantResponse114.0/CorrectResponse114.0/TrialCount269.0/BlockTrialCount45.0/ReactionTime1400.0/Accuracy1.0/D90', 'Stimulus/c25.0/s75.0/BigLetterh/SmallLetterh/Taskg/TargetLetterh/Responded1.0/ParticipantResponse114.0/CorrectResponse114.0/TrialCount275.0/BlockTrialCount51.0/ReactionTime1084.0/Accuracy1.0/D90', 'Stimulus/c25.0/s75.0/BigLetterh/SmallLetterh/Taskg/TargetLetterh/Responded1.0/ParticipantResponse114.0/CorrectResponse114.0/TrialCount284.0/BlockTrialCount60.0/ReactionTime799.0/Accuracy1.0/D90', 'Stimulus/c25.0/s75.0/BigLetterh/SmallLetterh/Taskg/TargetLetterh/Responded1.0/ParticipantResponse114.0/CorrectResponse114.0/TrialCount291.0/BlockTrialCount67.0/ReactionTime1300.0/Accuracy1.0/D90', 'Stimulus/c25.0/s75.0/BigLetterh/SmallLetterh/Taskg/TargetLetterh/Responded1.0/ParticipantResponse114.0/CorrectResponse114.0/TrialCount293.0/BlockTrialCount69.0/ReactionTime950.0/Accuracy1.0/D90', 'Stimulus/c25.0/s75.0/BigLetterh/SmallLetterh/Taskg/TargetLetterh/Responded1.0/ParticipantResponse114.0/CorrectResponse114.0/TrialCount295.0/BlockTrialCount71.0/ReactionTime899.0/Accuracy1.0/D90', 'Stimulus/c25.0/s75.0/BigLetterh/SmallLetterh/Taskg/TargetLetterh/Responded1.0/ParticipantResponse114.0/CorrectResponse114.0/TrialCount300.0/BlockTrialCount76.0/ReactionTime883.0/Accuracy1.0/D90', 'Stimulus/c25.0/s75.0/BigLetterh/SmallLetterh/Taskg/TargetLetterh/Responded1.0/ParticipantResponse114.0/CorrectResponse114.0/TrialCount310.0/BlockTrialCount86.0/ReactionTime866.0/Accuracy1.0/D90', 'Stimulus/c25.0/s75.0/BigLetterh/SmallLetterh/Taskg/TargetLetterh/Responded1.0/ParticipantResponse114.0/CorrectResponse114.0/TrialCount312.0/BlockTrialCount88.0/ReactionTime933.0/Accuracy1.0/D90', 'Stimulus/c25.0/s75.0/BigLetterh/SmallLetterh/Taskg/TargetLetterh/Responded1.0/ParticipantResponse114.0/CorrectResponse114.0/TrialCount321.0/BlockTrialCount97.0/ReactionTime666.0/Accuracy1.0/D90', 'Stimulus/c25.0/s75.0/BigLetterh/SmallLetterh/Taskg/TargetLetterh/Responded1.0/ParticipantResponse114.0/CorrectResponse114.0/TrialCount324.0/BlockTrialCount100.0/ReactionTime699.0/Accuracy1.0/D90', 'Stimulus/c25.0/s75.0/BigLetterh/SmallLetterh/Taskg/TargetLetterh/Responded1.0/ParticipantResponse114.0/CorrectResponse114.0/TrialCount327.0/BlockTrialCount103.0/ReactionTime633.0/Accuracy1.0/D90', 'Stimulus/c25.0/s75.0/BigLetterh/SmallLetterh/Taskg/TargetLetterh/Responded1.0/ParticipantResponse114.0/CorrectResponse114.0/TrialCount336.0/BlockTrialCount112.0/ReactionTime933.0/Accuracy1.0/D90', 'Stimulus/c25.0/s75.0/BigLetterh/SmallLetterh/Taskl/TargetLetterh/Responded0.0/ParticipantResponsenan/CorrectResponse114.0/TrialCount290.0/BlockTrialCount66.0/ReactionTimenan/Accuracy0.0/D90', 'Stimulus/c25.0/s75.0/BigLetterh/SmallLetterh/Taskl/TargetLetterh/Responded1.0/ParticipantResponse114.0/CorrectResponse114.0/TrialCount232.0/BlockTrialCount8.0/ReactionTime1483.0/Accuracy1.0/D90', 'Stimulus/c25.0/s75.0/BigLetterh/SmallLetterh/Taskl/TargetLetterh/Responded1.0/ParticipantResponse114.0/CorrectResponse114.0/TrialCount251.0/BlockTrialCount27.0/ReactionTime1833.0/Accuracy1.0/D90', 'Stimulus/c25.0/s75.0/BigLetterh/SmallLetterh/Taskl/TargetLetterh/Responded1.0/ParticipantResponse114.0/CorrectResponse114.0/TrialCount262.0/BlockTrialCount38.0/ReactionTime1716.0/Accuracy1.0/D90', 'Stimulus/c25.0/s75.0/BigLetterh/SmallLetterh/Taskl/TargetLetterh/Responded1.0/ParticipantResponse114.0/CorrectResponse114.0/TrialCount266.0/BlockTrialCount42.0/ReactionTime1366.0/Accuracy1.0/D90', 'Stimulus/c25.0/s75.0/BigLetterh/SmallLetterh/Taskl/TargetLetterh/Responded1.0/ParticipantResponse114.0/CorrectResponse114.0/TrialCount279.0/BlockTrialCount55.0/ReactionTime1616.0/Accuracy1.0/D90', 'Stimulus/c25.0/s75.0/BigLetterh/SmallLetterh/Taskl/TargetLetterh/Responded1.0/ParticipantResponse114.0/CorrectResponse114.0/TrialCount285.0/BlockTrialCount61.0/ReactionTime1366.0/Accuracy1.0/D90', 'Stimulus/c25.0/s75.0/BigLetterh/SmallLetterh/Taskl/TargetLetterh/Responded1.0/ParticipantResponse114.0/CorrectResponse114.0/TrialCount294.0/BlockTrialCount70.0/ReactionTime1516.0/Accuracy1.0/D90', 'Stimulus/c25.0/s75.0/BigLetterh/SmallLetterh/Taskl/TargetLetterh/Responded1.0/ParticipantResponse114.0/CorrectResponse114.0/TrialCount303.0/BlockTrialCount79.0/ReactionTime1999.0/Accuracy1.0/D90', 'Stimulus/c25.0/s75.0/BigLetterh/SmallLetterh/Taskl/TargetLetterh/Responded1.0/ParticipantResponse114.0/CorrectResponse114.0/TrialCount311.0/BlockTrialCount87.0/ReactionTime1716.0/Accuracy1.0/D90', 'Stimulus/c25.0/s75.0/BigLetterh/SmallLetterh/Taskl/TargetLetterh/Responded1.0/ParticipantResponse114.0/CorrectResponse114.0/TrialCount313.0/BlockTrialCount89.0/ReactionTime1633.0/Accuracy1.0/D90', 'Stimulus/c25.0/s75.0/BigLetterh/SmallLetterh/Taskl/TargetLetterh/Responded1.0/ParticipantResponse114.0/CorrectResponse114.0/TrialCount319.0/BlockTrialCount95.0/ReactionTime1166.0/Accuracy1.0/D90', 'Stimulus/c25.0/s75.0/BigLetterh/SmallLetterh/Taskl/TargetLetterh/Responded1.0/ParticipantResponse114.0/CorrectResponse114.0/TrialCount328.0/BlockTrialCount104.0/ReactionTime666.0/Accuracy1.0/D90', 'Stimulus/c25.0/s75.0/BigLetterh/SmallLetterh/Taskl/TargetLetterh/Responded1.0/ParticipantResponse114.0/CorrectResponse114.0/TrialCount335.0/BlockTrialCount111.0/ReactionTime1516.0/Accuracy1.0/D90', 'Stimulus/c25.0/s75.0/BigLetterh/SmallLetterh/Taskl/TargetLetterh/Responded1.0/ParticipantResponse115.0/CorrectResponse114.0/TrialCount333.0/BlockTrialCount109.0/ReactionTime1383.0/Accuracy0.0/D90', 'Stimulus/c25.0/s75.0/BigLetters/SmallLetters/Taskg/TargetLetters/Responded1.0/ParticipantResponse114.0/CorrectResponse115.0/TrialCount318.0/BlockTrialCount94.0/ReactionTime1483.0/Accuracy0.0/D90', 'Stimulus/c25.0/s75.0/BigLetters/SmallLetters/Taskg/TargetLetters/Responded1.0/ParticipantResponse115.0/CorrectResponse115.0/TrialCount250.0/BlockTrialCount26.0/ReactionTime1966.0/Accuracy1.0/D90', 'Stimulus/c25.0/s75.0/BigLetters/SmallLetters/Taskg/TargetLetters/Responded1.0/ParticipantResponse115.0/CorrectResponse115.0/TrialCount252.0/BlockTrialCount28.0/ReactionTime1666.0/Accuracy1.0/D90', 'Stimulus/c25.0/s75.0/BigLetters/SmallLetters/Taskg/TargetLetters/Responded1.0/ParticipantResponse115.0/CorrectResponse115.0/TrialCount256.0/BlockTrialCount32.0/ReactionTime1683.0/Accuracy1.0/D90', 'Stimulus/c25.0/s75.0/BigLetters/SmallLetters/Taskg/TargetLetters/Responded1.0/ParticipantResponse115.0/CorrectResponse115.0/TrialCount259.0/BlockTrialCount35.0/ReactionTime1733.0/Accuracy1.0/D90', 'Stimulus/c25.0/s75.0/BigLetters/SmallLetters/Taskg/TargetLetters/Responded1.0/ParticipantResponse115.0/CorrectResponse115.0/TrialCount261.0/BlockTrialCount37.0/ReactionTime1516.0/Accuracy1.0/D90', 'Stimulus/c25.0/s75.0/BigLetters/SmallLetters/Taskg/TargetLetters/Responded1.0/ParticipantResponse115.0/CorrectResponse115.0/TrialCount278.0/BlockTrialCount54.0/ReactionTime1116.0/Accuracy1.0/D90', 'Stimulus/c25.0/s75.0/BigLetters/SmallLetters/Taskg/TargetLetters/Responded1.0/ParticipantResponse115.0/CorrectResponse115.0/TrialCount287.0/BlockTrialCount63.0/ReactionTime1566.0/Accuracy1.0/D90', 'Stimulus/c25.0/s75.0/BigLetters/SmallLetters/Taskg/TargetLetters/Responded1.0/ParticipantResponse115.0/CorrectResponse115.0/TrialCount289.0/BlockTrialCount65.0/ReactionTime1133.0/Accuracy1.0/D90', 'Stimulus/c25.0/s75.0/BigLetters/SmallLetters/Taskg/TargetLetters/Responded1.0/ParticipantResponse115.0/CorrectResponse115.0/TrialCount298.0/BlockTrialCount74.0/ReactionTime1416.0/Accuracy1.0/D90', 'Stimulus/c25.0/s75.0/BigLetters/SmallLetters/Taskg/TargetLetters/Responded1.0/ParticipantResponse115.0/CorrectResponse115.0/TrialCount302.0/BlockTrialCount78.0/ReactionTime1299.0/Accuracy1.0/D90', 'Stimulus/c25.0/s75.0/BigLetters/SmallLetters/Taskg/TargetLetters/Responded1.0/ParticipantResponse115.0/CorrectResponse115.0/TrialCount314.0/BlockTrialCount90.0/ReactionTime1433.0/Accuracy1.0/D90', 'Stimulus/c25.0/s75.0/BigLetters/SmallLetters/Taskg/TargetLetters/Responded1.0/ParticipantResponse115.0/CorrectResponse115.0/TrialCount332.0/BlockTrialCount108.0/ReactionTime899.0/Accuracy1.0/D90', 'Stimulus/c25.0/s75.0/BigLetters/SmallLetters/Taskg/TargetLetters/Responded1.0/ParticipantResponse115.0/CorrectResponse115.0/TrialCount334.0/BlockTrialCount110.0/ReactionTime1049.0/Accuracy1.0/D90', 'Stimulus/c25.0/s75.0/BigLetters/SmallLetters/Taskl/TargetLetters/Responded1.0/ParticipantResponse115.0/CorrectResponse115.0/TrialCount229.0/BlockTrialCount5.0/ReactionTime1733.0/Accuracy1.0/D90', 'Stimulus/c25.0/s75.0/BigLetters/SmallLetters/Taskl/TargetLetters/Responded1.0/ParticipantResponse115.0/CorrectResponse115.0/TrialCount236.0/BlockTrialCount12.0/ReactionTime1850.0/Accuracy1.0/D90', 'Stimulus/c25.0/s75.0/BigLetters/SmallLetters/Taskl/TargetLetters/Responded1.0/ParticipantResponse115.0/CorrectResponse115.0/TrialCount239.0/BlockTrialCount15.0/ReactionTime1250.0/Accuracy1.0/D90', 'Stimulus/c25.0/s75.0/BigLetters/SmallLetters/Taskl/TargetLetters/Responded1.0/ParticipantResponse115.0/CorrectResponse115.0/TrialCount246.0/BlockTrialCount22.0/ReactionTime1516.0/Accuracy1.0/D90', 'Stimulus/c25.0/s75.0/BigLetters/SmallLetters/Taskl/TargetLetters/Responded1.0/ParticipantResponse115.0/CorrectResponse115.0/TrialCount249.0/BlockTrialCount25.0/ReactionTime1616.0/Accuracy1.0/D90', 'Stimulus/c25.0/s75.0/BigLetters/SmallLetters/Taskl/TargetLetters/Responded1.0/ParticipantResponse115.0/CorrectResponse115.0/TrialCount258.0/BlockTrialCount34.0/ReactionTime1366.0/Accuracy1.0/D90', 'Stimulus/c25.0/s75.0/BigLetters/SmallLetters/Taskl/TargetLetters/Responded1.0/ParticipantResponse115.0/CorrectResponse115.0/TrialCount260.0/BlockTrialCount36.0/ReactionTime1467.0/Accuracy1.0/D90', 'Stimulus/c25.0/s75.0/BigLetters/SmallLetters/Taskl/TargetLetters/Responded1.0/ParticipantResponse115.0/CorrectResponse115.0/TrialCount270.0/BlockTrialCount46.0/ReactionTime1267.0/Accuracy1.0/D90', 'Stimulus/c25.0/s75.0/BigLetters/SmallLetters/Taskl/TargetLetters/Responded1.0/ParticipantResponse115.0/CorrectResponse115.0/TrialCount276.0/BlockTrialCount52.0/ReactionTime817.0/Accuracy1.0/D90', 'Stimulus/c25.0/s75.0/BigLetters/SmallLetters/Taskl/TargetLetters/Responded1.0/ParticipantResponse115.0/CorrectResponse115.0/TrialCount288.0/BlockTrialCount64.0/ReactionTime1499.0/Accuracy1.0/D90', 'Stimulus/c25.0/s75.0/BigLetters/SmallLetters/Taskl/TargetLetters/Responded1.0/ParticipantResponse115.0/CorrectResponse115.0/TrialCount297.0/BlockTrialCount73.0/ReactionTime1416.0/Accuracy1.0/D90', 'Stimulus/c25.0/s75.0/BigLetters/SmallLetters/Taskl/TargetLetters/Responded1.0/ParticipantResponse115.0/CorrectResponse115.0/TrialCount301.0/BlockTrialCount77.0/ReactionTime1183.0/Accuracy1.0/D90', 'Stimulus/c25.0/s75.0/BigLetters/SmallLetters/Taskl/TargetLetters/Responded1.0/ParticipantResponse115.0/CorrectResponse115.0/TrialCount322.0/BlockTrialCount98.0/ReactionTime1266.0/Accuracy1.0/D90', 'Stimulus/c25.0/s75.0/BigLetters/SmallLetters/Taskl/TargetLetters/Responded1.0/ParticipantResponse115.0/CorrectResponse115.0/TrialCount331.0/BlockTrialCount107.0/ReactionTime999.0/Accuracy1.0/D90', 'Stimulus/c75.0/r25.0/BigLetterh/SmallLetterh/Taskg/TargetLetterh/Responded1.0/ParticipantResponse114.0/CorrectResponse114.0/TrialCount112.0/BlockTrialCount112.0/ReactionTime683.0/Accuracy1.0/D90', 'Stimulus/c75.0/r25.0/BigLetterh/SmallLetterh/Taskg/TargetLetterh/Responded1.0/ParticipantResponse114.0/CorrectResponse114.0/TrialCount18.0/BlockTrialCount18.0/ReactionTime866.0/Accuracy1.0/D90', 'Stimulus/c75.0/r25.0/BigLetterh/SmallLetterh/Taskg/TargetLetterh/Responded1.0/ParticipantResponse114.0/CorrectResponse114.0/TrialCount20.0/BlockTrialCount20.0/ReactionTime616.0/Accuracy1.0/D90', 'Stimulus/c75.0/r25.0/BigLetterh/SmallLetterh/Taskg/TargetLetterh/Responded1.0/ParticipantResponse114.0/CorrectResponse114.0/TrialCount36.0/BlockTrialCount36.0/ReactionTime950.0/Accuracy1.0/D90', 'Stimulus/c75.0/r25.0/BigLetterh/SmallLetterh/Taskg/TargetLetterh/Responded1.0/ParticipantResponse114.0/CorrectResponse114.0/TrialCount52.0/BlockTrialCount52.0/ReactionTime616.0/Accuracy1.0/D90', 'Stimulus/c75.0/r25.0/BigLetterh/SmallLetterh/Taskg/TargetLetterh/Responded1.0/ParticipantResponse114.0/CorrectResponse114.0/TrialCount87.0/BlockTrialCount87.0/ReactionTime849.0/Accuracy1.0/D90', 'Stimulus/c75.0/r25.0/BigLetterh/SmallLetterh/Taskl/TargetLetterh/Responded1.0/ParticipantResponse114.0/CorrectResponse114.0/TrialCount103.0/BlockTrialCount103.0/ReactionTime766.0/Accuracy1.0/D90', 'Stimulus/c75.0/r25.0/BigLetterh/SmallLetterh/Taskl/TargetLetterh/Responded1.0/ParticipantResponse114.0/CorrectResponse114.0/TrialCount110.0/BlockTrialCount110.0/ReactionTime1133.0/Accuracy1.0/D90', 'Stimulus/c75.0/r25.0/BigLetterh/SmallLetterh/Taskl/TargetLetterh/Responded1.0/ParticipantResponse114.0/CorrectResponse114.0/TrialCount24.0/BlockTrialCount24.0/ReactionTime1016.0/Accuracy1.0/D90', 'Stimulus/c75.0/r25.0/BigLetterh/SmallLetterh/Taskl/TargetLetterh/Responded1.0/ParticipantResponse114.0/CorrectResponse114.0/TrialCount29.0/BlockTrialCount29.0/ReactionTime966.0/Accuracy1.0/D90', 'Stimulus/c75.0/r25.0/BigLetterh/SmallLetterh/Taskl/TargetLetterh/Responded1.0/ParticipantResponse114.0/CorrectResponse114.0/TrialCount57.0/BlockTrialCount57.0/ReactionTime2399.0/Accuracy1.0/D90', 'Stimulus/c75.0/r25.0/BigLetterh/SmallLetterh/Taskl/TargetLetterh/Responded1.0/ParticipantResponse114.0/CorrectResponse114.0/TrialCount98.0/BlockTrialCount98.0/ReactionTime650.0/Accuracy1.0/D90', 'Stimulus/c75.0/r25.0/BigLetterh/SmallLetterh/Taskl/TargetLetterh/Responded1.0/ParticipantResponse114.0/CorrectResponse114.0/TrialCount99.0/BlockTrialCount99.0/ReactionTime599.0/Accuracy1.0/D90', 'Stimulus/c75.0/r25.0/BigLetters/SmallLetters/Taskg/TargetLetters/Responded1.0/ParticipantResponse115.0/CorrectResponse115.0/TrialCount16.0/BlockTrialCount16.0/ReactionTime1266.0/Accuracy1.0/D90', 'Stimulus/c75.0/r25.0/BigLetters/SmallLetters/Taskg/TargetLetters/Responded1.0/ParticipantResponse115.0/CorrectResponse115.0/TrialCount21.0/BlockTrialCount21.0/ReactionTime899.0/Accuracy1.0/D90', 'Stimulus/c75.0/r25.0/BigLetters/SmallLetters/Taskg/TargetLetters/Responded1.0/ParticipantResponse115.0/CorrectResponse115.0/TrialCount40.0/BlockTrialCount40.0/ReactionTime783.0/Accuracy1.0/D90', 'Stimulus/c75.0/r25.0/BigLetters/SmallLetters/Taskg/TargetLetters/Responded1.0/ParticipantResponse115.0/CorrectResponse115.0/TrialCount41.0/BlockTrialCount41.0/ReactionTime916.0/Accuracy1.0/D90', 'Stimulus/c75.0/r25.0/BigLetters/SmallLetters/Taskg/TargetLetters/Responded1.0/ParticipantResponse115.0/CorrectResponse115.0/TrialCount67.0/BlockTrialCount67.0/ReactionTime883.0/Accuracy1.0/D90', 'Stimulus/c75.0/r25.0/BigLetters/SmallLetters/Taskg/TargetLetters/Responded1.0/ParticipantResponse115.0/CorrectResponse115.0/TrialCount93.0/BlockTrialCount93.0/ReactionTime649.0/Accuracy1.0/D90', 'Stimulus/c75.0/r25.0/BigLetters/SmallLetters/Taskl/TargetLetters/Responded1.0/ParticipantResponse115.0/CorrectResponse115.0/TrialCount61.0/BlockTrialCount61.0/ReactionTime800.0/Accuracy1.0/D90', 'Stimulus/c75.0/r25.0/BigLetters/SmallLetters/Taskl/TargetLetters/Responded1.0/ParticipantResponse115.0/CorrectResponse115.0/TrialCount83.0/BlockTrialCount83.0/ReactionTime949.0/Accuracy1.0/D90', 'Stimulus/c75.0/r25.0/BigLetters/SmallLetters/Taskl/TargetLetters/Responded1.0/ParticipantResponse115.0/CorrectResponse115.0/TrialCount96.0/BlockTrialCount96.0/ReactionTime633.0/Accuracy1.0/D90', 'Stimulus/c75.0/r75.0/BigLetterh/SmallLetterh/Taskg/TargetLetterh/Responded1.0/ParticipantResponse114.0/CorrectResponse114.0/TrialCount141.0/BlockTrialCount29.0/ReactionTime1200.0/Accuracy1.0/D90', 'Stimulus/c75.0/r75.0/BigLetterh/SmallLetterh/Taskg/TargetLetterh/Responded1.0/ParticipantResponse114.0/CorrectResponse114.0/TrialCount199.0/BlockTrialCount87.0/ReactionTime1399.0/Accuracy1.0/D90', 'Stimulus/c75.0/r75.0/BigLetterh/SmallLetterh/Taskl/TargetLetterh/Responded1.0/ParticipantResponse114.0/CorrectResponse114.0/TrialCount122.0/BlockTrialCount10.0/ReactionTime1233.0/Accuracy1.0/D90', 'Stimulus/c75.0/r75.0/BigLetterh/SmallLetterh/Taskl/TargetLetterh/Responded1.0/ParticipantResponse114.0/CorrectResponse114.0/TrialCount133.0/BlockTrialCount21.0/ReactionTime1550.0/Accuracy1.0/D90', 'Stimulus/c75.0/r75.0/BigLetters/SmallLetters/Taskg/TargetLetters/Responded1.0/ParticipantResponse115.0/CorrectResponse115.0/TrialCount114.0/BlockTrialCount2.0/ReactionTime1299.0/Accuracy1.0/D90', 'Stimulus/c75.0/r75.0/BigLetters/SmallLetters/Taskg/TargetLetters/Responded1.0/ParticipantResponse115.0/CorrectResponse115.0/TrialCount219.0/BlockTrialCount107.0/ReactionTime933.0/Accuracy1.0/D90', 'Stimulus/c75.0/s25.0/BigLetterh/SmallLetterh/Taskg/TargetLetterh/Responded1.0/ParticipantResponse114.0/CorrectResponse114.0/TrialCount86.0/BlockTrialCount86.0/ReactionTime1116.0/Accuracy1.0/D90', 'Stimulus/c75.0/s25.0/BigLetterh/SmallLetterh/Taskl/TargetLetterh/Responded1.0/ParticipantResponse114.0/CorrectResponse114.0/TrialCount4.0/BlockTrialCount4.0/ReactionTime1366.0/Accuracy1.0/D90', 'Stimulus/c75.0/s25.0/BigLetterh/SmallLetterh/Taskl/TargetLetterh/Responded1.0/ParticipantResponse115.0/CorrectResponse114.0/TrialCount49.0/BlockTrialCount49.0/ReactionTime1949.0/Accuracy0.0/D90', 'Stimulus/c75.0/s25.0/BigLetters/SmallLetters/Taskg/TargetLetters/Responded1.0/ParticipantResponse115.0/CorrectResponse115.0/TrialCount30.0/BlockTrialCount30.0/ReactionTime1933.0/Accuracy1.0/D90', 'Stimulus/c75.0/s25.0/BigLetters/SmallLetters/Taskg/TargetLetters/Responded1.0/ParticipantResponse115.0/CorrectResponse115.0/TrialCount78.0/BlockTrialCount78.0/ReactionTime1083.0/Accuracy1.0/D90', 'Stimulus/c75.0/s25.0/BigLetters/SmallLetters/Taskl/TargetLetters/Responded1.0/ParticipantResponse114.0/CorrectResponse115.0/TrialCount108.0/BlockTrialCount108.0/ReactionTime2316.0/Accuracy0.0/D90', 'Stimulus/c75.0/s75.0/BigLetterh/SmallLetterh/Taskg/TargetLetterh/Responded1.0/ParticipantResponse114.0/CorrectResponse114.0/TrialCount118.0/BlockTrialCount6.0/ReactionTime1650.0/Accuracy1.0/D90', 'Stimulus/c75.0/s75.0/BigLetterh/SmallLetterh/Taskg/TargetLetterh/Responded1.0/ParticipantResponse114.0/CorrectResponse114.0/TrialCount134.0/BlockTrialCount22.0/ReactionTime1400.0/Accuracy1.0/D90', 'Stimulus/c75.0/s75.0/BigLetterh/SmallLetterh/Taskg/TargetLetterh/Responded1.0/ParticipantResponse114.0/CorrectResponse114.0/TrialCount136.0/BlockTrialCount24.0/ReactionTime1283.0/Accuracy1.0/D90', 'Stimulus/c75.0/s75.0/BigLetterh/SmallLetterh/Taskg/TargetLetterh/Responded1.0/ParticipantResponse114.0/CorrectResponse114.0/TrialCount155.0/BlockTrialCount43.0/ReactionTime1716.0/Accuracy1.0/D90', 'Stimulus/c75.0/s75.0/BigLetterh/SmallLetterh/Taskg/TargetLetterh/Responded1.0/ParticipantResponse114.0/CorrectResponse114.0/TrialCount160.0/BlockTrialCount48.0/ReactionTime1183.0/Accuracy1.0/D90', 'Stimulus/c75.0/s75.0/BigLetterh/SmallLetterh/Taskg/TargetLetterh/Responded1.0/ParticipantResponse114.0/CorrectResponse114.0/TrialCount174.0/BlockTrialCount62.0/ReactionTime1533.0/Accuracy1.0/D90', 'Stimulus/c75.0/s75.0/BigLetterh/SmallLetterh/Taskg/TargetLetterh/Responded1.0/ParticipantResponse114.0/CorrectResponse114.0/TrialCount189.0/BlockTrialCount77.0/ReactionTime1299.0/Accuracy1.0/D90', 'Stimulus/c75.0/s75.0/BigLetterh/SmallLetterh/Taskg/TargetLetterh/Responded1.0/ParticipantResponse114.0/CorrectResponse114.0/TrialCount194.0/BlockTrialCount82.0/ReactionTime1000.0/Accuracy1.0/D90', 'Stimulus/c75.0/s75.0/BigLetterh/SmallLetterh/Taskg/TargetLetterh/Responded1.0/ParticipantResponse114.0/CorrectResponse114.0/TrialCount207.0/BlockTrialCount95.0/ReactionTime1366.0/Accuracy1.0/D90', 'Stimulus/c75.0/s75.0/BigLetterh/SmallLetterh/Taskl/TargetLetterh/Responded1.0/ParticipantResponse114.0/CorrectResponse114.0/TrialCount151.0/BlockTrialCount39.0/ReactionTime1716.0/Accuracy1.0/D90', 'Stimulus/c75.0/s75.0/BigLetterh/SmallLetterh/Taskl/TargetLetterh/Responded1.0/ParticipantResponse114.0/CorrectResponse114.0/TrialCount156.0/BlockTrialCount44.0/ReactionTime1533.0/Accuracy1.0/D90', 'Stimulus/c75.0/s75.0/BigLetterh/SmallLetterh/Taskl/TargetLetterh/Responded1.0/ParticipantResponse114.0/CorrectResponse114.0/TrialCount184.0/BlockTrialCount72.0/ReactionTime1499.0/Accuracy1.0/D90', 'Stimulus/c75.0/s75.0/BigLetterh/SmallLetterh/Taskl/TargetLetterh/Responded1.0/ParticipantResponse114.0/CorrectResponse114.0/TrialCount222.0/BlockTrialCount110.0/ReactionTime2066.0/Accuracy1.0/D90', 'Stimulus/c75.0/s75.0/BigLetterh/SmallLetterh/Taskl/TargetLetterh/Responded1.0/ParticipantResponse115.0/CorrectResponse114.0/TrialCount132.0/BlockTrialCount20.0/ReactionTime1516.0/Accuracy0.0/D90', 'Stimulus/c75.0/s75.0/BigLetterh/SmallLetterh/Taskl/TargetLetterh/Responded1.0/ParticipantResponse115.0/CorrectResponse114.0/TrialCount182.0/BlockTrialCount70.0/ReactionTime1033.0/Accuracy0.0/D90', 'Stimulus/c75.0/s75.0/BigLetters/SmallLetters/Taskg/TargetLetters/Responded1.0/ParticipantResponse115.0/CorrectResponse115.0/TrialCount143.0/BlockTrialCount31.0/ReactionTime1216.0/Accuracy1.0/D90', 'Stimulus/c75.0/s75.0/BigLetters/SmallLetters/Taskg/TargetLetters/Responded1.0/ParticipantResponse115.0/CorrectResponse115.0/TrialCount178.0/BlockTrialCount66.0/ReactionTime1416.0/Accuracy1.0/D90', 'Stimulus/c75.0/s75.0/BigLetters/SmallLetters/Taskg/TargetLetters/Responded1.0/ParticipantResponse115.0/CorrectResponse115.0/TrialCount196.0/BlockTrialCount84.0/ReactionTime1266.0/Accuracy1.0/D90', 'Stimulus/c75.0/s75.0/BigLetters/SmallLetters/Taskg/TargetLetters/Responded1.0/ParticipantResponse115.0/CorrectResponse115.0/TrialCount201.0/BlockTrialCount89.0/ReactionTime1649.0/Accuracy1.0/D90', 'Stimulus/c75.0/s75.0/BigLetters/SmallLetters/Taskl/TargetLetters/Responded1.0/ParticipantResponse115.0/CorrectResponse115.0/TrialCount139.0/BlockTrialCount27.0/ReactionTime1766.0/Accuracy1.0/D90', 'Stimulus/c75.0/s75.0/BigLetters/SmallLetters/Taskl/TargetLetters/Responded1.0/ParticipantResponse115.0/CorrectResponse115.0/TrialCount190.0/BlockTrialCount78.0/ReactionTime1550.0/Accuracy1.0/D90', 'Stimulus/c75.0/s75.0/BigLetters/SmallLetters/Taskl/TargetLetters/Responded1.0/ParticipantResponse115.0/CorrectResponse115.0/TrialCount214.0/BlockTrialCount102.0/ReactionTime1433.0/Accuracy1.0/D90', 'Stimulus/i25.0/r25.0/BigLetterh/SmallLetters/Taskg/TargetLetterh/Responded1.0/ParticipantResponse114.0/CorrectResponse114.0/TrialCount338.0/BlockTrialCount2.0/ReactionTime833.0/Accuracy1.0/D90', 'Stimulus/i25.0/r25.0/BigLetterh/SmallLetters/Taskg/TargetLetterh/Responded1.0/ParticipantResponse114.0/CorrectResponse114.0/TrialCount346.0/BlockTrialCount10.0/ReactionTime683.0/Accuracy1.0/D90', 'Stimulus/i25.0/r25.0/BigLetterh/SmallLetters/Taskg/TargetLetterh/Responded1.0/ParticipantResponse114.0/CorrectResponse114.0/TrialCount397.0/BlockTrialCount61.0/ReactionTime966.0/Accuracy1.0/D90', 'Stimulus/i25.0/r25.0/BigLetterh/SmallLetters/Taskg/TargetLetterh/Responded1.0/ParticipantResponse114.0/CorrectResponse114.0/TrialCount417.0/BlockTrialCount81.0/ReactionTime1549.0/Accuracy1.0/D90', 'Stimulus/i25.0/r25.0/BigLetterh/SmallLetters/Taskg/TargetLetterh/Responded1.0/ParticipantResponse114.0/CorrectResponse114.0/TrialCount442.0/BlockTrialCount106.0/ReactionTime549.0/Accuracy1.0/D90', 'Stimulus/i25.0/r25.0/BigLetterh/SmallLetters/Taskg/TargetLetterh/Responded1.0/ParticipantResponse114.0/CorrectResponse114.0/TrialCount445.0/BlockTrialCount109.0/ReactionTime933.0/Accuracy1.0/D90', 'Stimulus/i25.0/r25.0/BigLetterh/SmallLetters/Taskl/TargetLetters/Responded1.0/ParticipantResponse115.0/CorrectResponse115.0/TrialCount351.0/BlockTrialCount15.0/ReactionTime1649.0/Accuracy1.0/D90', 'Stimulus/i25.0/r25.0/BigLetterh/SmallLetters/Taskl/TargetLetters/Responded1.0/ParticipantResponse115.0/CorrectResponse115.0/TrialCount358.0/BlockTrialCount22.0/ReactionTime866.0/Accuracy1.0/D90', 'Stimulus/i25.0/r25.0/BigLetterh/SmallLetters/Taskl/TargetLetters/Responded1.0/ParticipantResponse115.0/CorrectResponse115.0/TrialCount359.0/BlockTrialCount23.0/ReactionTime1633.0/Accuracy1.0/D90', 'Stimulus/i25.0/r25.0/BigLetterh/SmallLetters/Taskl/TargetLetters/Responded1.0/ParticipantResponse115.0/CorrectResponse115.0/TrialCount360.0/BlockTrialCount24.0/ReactionTime849.0/Accuracy1.0/D90', 'Stimulus/i25.0/r25.0/BigLetterh/SmallLetters/Taskl/TargetLetters/Responded1.0/ParticipantResponse115.0/CorrectResponse115.0/TrialCount373.0/BlockTrialCount37.0/ReactionTime1416.0/Accuracy1.0/D90', 'Stimulus/i25.0/r25.0/BigLetterh/SmallLetters/Taskl/TargetLetters/Responded1.0/ParticipantResponse115.0/CorrectResponse115.0/TrialCount376.0/BlockTrialCount40.0/ReactionTime716.0/Accuracy1.0/D90', 'Stimulus/i25.0/r25.0/BigLetterh/SmallLetters/Taskl/TargetLetters/Responded1.0/ParticipantResponse115.0/CorrectResponse115.0/TrialCount388.0/BlockTrialCount52.0/ReactionTime1316.0/Accuracy1.0/D90', 'Stimulus/i25.0/r25.0/BigLetterh/SmallLetters/Taskl/TargetLetters/Responded1.0/ParticipantResponse115.0/CorrectResponse115.0/TrialCount389.0/BlockTrialCount53.0/ReactionTime916.0/Accuracy1.0/D90', 'Stimulus/i25.0/r25.0/BigLetterh/SmallLetters/Taskl/TargetLetters/Responded1.0/ParticipantResponse115.0/CorrectResponse115.0/TrialCount411.0/BlockTrialCount75.0/ReactionTime1366.0/Accuracy1.0/D90', 'Stimulus/i25.0/r25.0/BigLetterh/SmallLetters/Taskl/TargetLetters/Responded1.0/ParticipantResponse115.0/CorrectResponse115.0/TrialCount437.0/BlockTrialCount101.0/ReactionTime1183.0/Accuracy1.0/D90', 'Stimulus/i25.0/r25.0/BigLetters/SmallLetterh/Taskg/TargetLetters/Responded1.0/ParticipantResponse115.0/CorrectResponse115.0/TrialCount396.0/BlockTrialCount60.0/ReactionTime1216.0/Accuracy1.0/D90', 'Stimulus/i25.0/r25.0/BigLetters/SmallLetterh/Taskg/TargetLetters/Responded1.0/ParticipantResponse115.0/CorrectResponse115.0/TrialCount402.0/BlockTrialCount66.0/ReactionTime1100.0/Accuracy1.0/D90', 'Stimulus/i25.0/r25.0/BigLetters/SmallLetterh/Taskg/TargetLetters/Responded1.0/ParticipantResponse115.0/CorrectResponse115.0/TrialCount416.0/BlockTrialCount80.0/ReactionTime1550.0/Accuracy1.0/D90', 'Stimulus/i25.0/r25.0/BigLetters/SmallLetterh/Taskg/TargetLetters/Responded1.0/ParticipantResponse115.0/CorrectResponse115.0/TrialCount430.0/BlockTrialCount94.0/ReactionTime966.0/Accuracy1.0/D90', 'Stimulus/i25.0/r25.0/BigLetters/SmallLetterh/Taskg/TargetLetters/Responded1.0/ParticipantResponse115.0/CorrectResponse115.0/TrialCount441.0/BlockTrialCount105.0/ReactionTime1116.0/Accuracy1.0/D90', 'Stimulus/i25.0/r25.0/BigLetters/SmallLetterh/Taskl/TargetLetterh/Responded1.0/ParticipantResponse114.0/CorrectResponse114.0/TrialCount356.0/BlockTrialCount20.0/ReactionTime799.0/Accuracy1.0/D90', 'Stimulus/i25.0/r75.0/BigLetterh/SmallLetters/Taskg/TargetLetterh/Responded1.0/ParticipantResponse114.0/CorrectResponse114.0/TrialCount253.0/BlockTrialCount29.0/ReactionTime1133.0/Accuracy1.0/D90', 'Stimulus/i25.0/r75.0/BigLetterh/SmallLetters/Taskg/TargetLetterh/Responded1.0/ParticipantResponse114.0/CorrectResponse114.0/TrialCount254.0/BlockTrialCount30.0/ReactionTime1266.0/Accuracy1.0/D90', 'Stimulus/i25.0/r75.0/BigLetterh/SmallLetters/Taskl/TargetLetters/Responded1.0/ParticipantResponse115.0/CorrectResponse115.0/TrialCount268.0/BlockTrialCount44.0/ReactionTime1350.0/Accuracy1.0/D90', 'Stimulus/i25.0/r75.0/BigLetterh/SmallLetters/Taskl/TargetLetters/Responded1.0/ParticipantResponse115.0/CorrectResponse115.0/TrialCount277.0/BlockTrialCount53.0/ReactionTime1216.0/Accuracy1.0/D90', 'Stimulus/i25.0/r75.0/BigLetters/SmallLetterh/Taskg/TargetLetters/Responded1.0/ParticipantResponse115.0/CorrectResponse115.0/TrialCount315.0/BlockTrialCount91.0/ReactionTime1299.0/Accuracy1.0/D90', 'Stimulus/i25.0/r75.0/BigLetters/SmallLetterh/Taskl/TargetLetterh/Responded1.0/ParticipantResponse114.0/CorrectResponse114.0/TrialCount243.0/BlockTrialCount19.0/ReactionTime1983.0/Accuracy1.0/D90', 'Stimulus/i25.0/r75.0/BigLetters/SmallLetterh/Taskl/TargetLetterh/Responded1.0/ParticipantResponse114.0/CorrectResponse114.0/TrialCount274.0/BlockTrialCount50.0/ReactionTime1966.0/Accuracy1.0/D90', 'Stimulus/i25.0/s25.0/BigLetterh/SmallLetters/Taskg/TargetLetterh/Responded1.0/ParticipantResponse114.0/CorrectResponse114.0/TrialCount371.0/BlockTrialCount35.0/ReactionTime1483.0/Accuracy1.0/D90', 'Stimulus/i25.0/s25.0/BigLetterh/SmallLetters/Taskg/TargetLetterh/Responded1.0/ParticipantResponse114.0/CorrectResponse114.0/TrialCount412.0/BlockTrialCount76.0/ReactionTime1399.0/Accuracy1.0/D90', 'Stimulus/i25.0/s25.0/BigLetterh/SmallLetters/Taskl/TargetLetters/Responded1.0/ParticipantResponse115.0/CorrectResponse115.0/TrialCount421.0/BlockTrialCount85.0/ReactionTime1633.0/Accuracy1.0/D90', 'Stimulus/i25.0/s25.0/BigLetters/SmallLetterh/Taskg/TargetLetters/Responded1.0/ParticipantResponse115.0/CorrectResponse115.0/TrialCount348.0/BlockTrialCount12.0/ReactionTime1550.0/Accuracy1.0/D90', 'Stimulus/i25.0/s25.0/BigLetters/SmallLetterh/Taskg/TargetLetters/Responded1.0/ParticipantResponse115.0/CorrectResponse115.0/TrialCount424.0/BlockTrialCount88.0/ReactionTime1916.0/Accuracy1.0/D90', 'Stimulus/i25.0/s25.0/BigLetters/SmallLetterh/Taskl/TargetLetterh/Responded1.0/ParticipantResponse114.0/CorrectResponse114.0/TrialCount413.0/BlockTrialCount77.0/ReactionTime1600.0/Accuracy1.0/D90', 'Stimulus/i25.0/s75.0/BigLetterh/SmallLetters/Taskg/TargetLetterh/Responded1.0/ParticipantResponse114.0/CorrectResponse114.0/TrialCount238.0/BlockTrialCount14.0/ReactionTime1333.0/Accuracy1.0/D90', 'Stimulus/i25.0/s75.0/BigLetterh/SmallLetters/Taskg/TargetLetterh/Responded1.0/ParticipantResponse114.0/CorrectResponse114.0/TrialCount245.0/BlockTrialCount21.0/ReactionTime1066.0/Accuracy1.0/D90', 'Stimulus/i25.0/s75.0/BigLetterh/SmallLetters/Taskg/TargetLetterh/Responded1.0/ParticipantResponse114.0/CorrectResponse114.0/TrialCount263.0/BlockTrialCount39.0/ReactionTime1633.0/Accuracy1.0/D90', 'Stimulus/i25.0/s75.0/BigLetterh/SmallLetters/Taskg/TargetLetterh/Responded1.0/ParticipantResponse114.0/CorrectResponse114.0/TrialCount271.0/BlockTrialCount47.0/ReactionTime1366.0/Accuracy1.0/D90', 'Stimulus/i25.0/s75.0/BigLetterh/SmallLetters/Taskg/TargetLetterh/Responded1.0/ParticipantResponse114.0/CorrectResponse114.0/TrialCount307.0/BlockTrialCount83.0/ReactionTime1216.0/Accuracy1.0/D90', 'Stimulus/i25.0/s75.0/BigLetterh/SmallLetters/Taskl/TargetLetters/Responded1.0/ParticipantResponse115.0/CorrectResponse115.0/TrialCount234.0/BlockTrialCount10.0/ReactionTime1399.0/Accuracy1.0/D90', 'Stimulus/i25.0/s75.0/BigLetterh/SmallLetters/Taskl/TargetLetters/Responded1.0/ParticipantResponse115.0/CorrectResponse115.0/TrialCount242.0/BlockTrialCount18.0/ReactionTime1683.0/Accuracy1.0/D90', 'Stimulus/i25.0/s75.0/BigLetterh/SmallLetters/Taskl/TargetLetters/Responded1.0/ParticipantResponse115.0/CorrectResponse115.0/TrialCount283.0/BlockTrialCount59.0/ReactionTime1599.0/Accuracy1.0/D90', 'Stimulus/i25.0/s75.0/BigLetterh/SmallLetters/Taskl/TargetLetters/Responded1.0/ParticipantResponse115.0/CorrectResponse115.0/TrialCount292.0/BlockTrialCount68.0/ReactionTime1549.0/Accuracy1.0/D90', 'Stimulus/i25.0/s75.0/BigLetterh/SmallLetters/Taskl/TargetLetters/Responded1.0/ParticipantResponse115.0/CorrectResponse115.0/TrialCount306.0/BlockTrialCount82.0/ReactionTime1250.0/Accuracy1.0/D90', 'Stimulus/i25.0/s75.0/BigLetterh/SmallLetters/Taskl/TargetLetters/Responded1.0/ParticipantResponse115.0/CorrectResponse115.0/TrialCount309.0/BlockTrialCount85.0/ReactionTime1716.0/Accuracy1.0/D90', 'Stimulus/i25.0/s75.0/BigLetterh/SmallLetters/Taskl/TargetLetters/Responded1.0/ParticipantResponse115.0/CorrectResponse115.0/TrialCount316.0/BlockTrialCount92.0/ReactionTime649.0/Accuracy1.0/D90', 'Stimulus/i25.0/s75.0/BigLetters/SmallLetterh/Taskg/TargetLetters/Responded1.0/ParticipantResponse115.0/CorrectResponse115.0/TrialCount240.0/BlockTrialCount16.0/ReactionTime1600.0/Accuracy1.0/D90', 'Stimulus/i25.0/s75.0/BigLetters/SmallLetterh/Taskg/TargetLetters/Responded1.0/ParticipantResponse115.0/CorrectResponse115.0/TrialCount280.0/BlockTrialCount56.0/ReactionTime899.0/Accuracy1.0/D90', 'Stimulus/i25.0/s75.0/BigLetters/SmallLetterh/Taskg/TargetLetters/Responded1.0/ParticipantResponse115.0/CorrectResponse115.0/TrialCount304.0/BlockTrialCount80.0/ReactionTime983.0/Accuracy1.0/D90', 'Stimulus/i25.0/s75.0/BigLetters/SmallLetterh/Taskg/TargetLetters/Responded1.0/ParticipantResponse115.0/CorrectResponse115.0/TrialCount330.0/BlockTrialCount106.0/ReactionTime1966.0/Accuracy1.0/D90', 'Stimulus/i25.0/s75.0/BigLetters/SmallLetterh/Taskl/TargetLetterh/Responded1.0/ParticipantResponse114.0/CorrectResponse114.0/TrialCount255.0/BlockTrialCount31.0/ReactionTime1699.0/Accuracy1.0/D90', 'Stimulus/i25.0/s75.0/BigLetters/SmallLetterh/Taskl/TargetLetterh/Responded1.0/ParticipantResponse114.0/CorrectResponse114.0/TrialCount264.0/BlockTrialCount40.0/ReactionTime1299.0/Accuracy1.0/D90', 'Stimulus/i25.0/s75.0/BigLetters/SmallLetterh/Taskl/TargetLetterh/Responded1.0/ParticipantResponse114.0/CorrectResponse114.0/TrialCount273.0/BlockTrialCount49.0/ReactionTime1599.0/Accuracy1.0/D90', 'Stimulus/i25.0/s75.0/BigLetters/SmallLetterh/Taskl/TargetLetterh/Responded1.0/ParticipantResponse114.0/CorrectResponse114.0/TrialCount299.0/BlockTrialCount75.0/ReactionTime1599.0/Accuracy1.0/D90', 'Stimulus/i25.0/s75.0/BigLetters/SmallLetterh/Taskl/TargetLetterh/Responded1.0/ParticipantResponse114.0/CorrectResponse114.0/TrialCount326.0/BlockTrialCount102.0/ReactionTime1083.0/Accuracy1.0/D90', 'Stimulus/i75.0/n25.0/BigLetterh/SmallLetters/Taskl/TargetLetters/Responded1.0/ParticipantResponse115.0/CorrectResponse115.0/TrialCount1.0/BlockTrialCount1.0/ReactionTime1850.0/Accuracy1.0/D90', 'Stimulus/i75.0/n75.0/BigLetters/SmallLetterh/Taskg/TargetLetters/Responded1.0/ParticipantResponse115.0/CorrectResponse115.0/TrialCount113.0/BlockTrialCount1.0/ReactionTime1899.0/Accuracy1.0/D90', 'Stimulus/i75.0/r25.0/BigLetterh/SmallLetters/Taskg/TargetLetterh/Responded1.0/ParticipantResponse114.0/CorrectResponse114.0/TrialCount19.0/BlockTrialCount19.0/ReactionTime833.0/Accuracy1.0/D90', 'Stimulus/i75.0/r25.0/BigLetterh/SmallLetters/Taskg/TargetLetterh/Responded1.0/ParticipantResponse114.0/CorrectResponse114.0/TrialCount3.0/BlockTrialCount3.0/ReactionTime2133.0/Accuracy1.0/D90', 'Stimulus/i75.0/r25.0/BigLetterh/SmallLetters/Taskg/TargetLetterh/Responded1.0/ParticipantResponse114.0/CorrectResponse114.0/TrialCount31.0/BlockTrialCount31.0/ReactionTime1516.0/Accuracy1.0/D90', 'Stimulus/i75.0/r25.0/BigLetterh/SmallLetters/Taskg/TargetLetterh/Responded1.0/ParticipantResponse114.0/CorrectResponse114.0/TrialCount33.0/BlockTrialCount33.0/ReactionTime967.0/Accuracy1.0/D90', 'Stimulus/i75.0/r25.0/BigLetterh/SmallLetters/Taskg/TargetLetterh/Responded1.0/ParticipantResponse114.0/CorrectResponse114.0/TrialCount35.0/BlockTrialCount35.0/ReactionTime933.0/Accuracy1.0/D90', 'Stimulus/i75.0/r25.0/BigLetterh/SmallLetters/Taskg/TargetLetterh/Responded1.0/ParticipantResponse114.0/CorrectResponse114.0/TrialCount37.0/BlockTrialCount37.0/ReactionTime666.0/Accuracy1.0/D90', 'Stimulus/i75.0/r25.0/BigLetterh/SmallLetters/Taskg/TargetLetterh/Responded1.0/ParticipantResponse114.0/CorrectResponse114.0/TrialCount39.0/BlockTrialCount39.0/ReactionTime683.0/Accuracy1.0/D90', 'Stimulus/i75.0/r25.0/BigLetterh/SmallLetters/Taskg/TargetLetterh/Responded1.0/ParticipantResponse114.0/CorrectResponse114.0/TrialCount48.0/BlockTrialCount48.0/ReactionTime1716.0/Accuracy1.0/D90', 'Stimulus/i75.0/r25.0/BigLetterh/SmallLetters/Taskg/TargetLetterh/Responded1.0/ParticipantResponse114.0/CorrectResponse114.0/TrialCount53.0/BlockTrialCount53.0/ReactionTime750.0/Accuracy1.0/D90', 'Stimulus/i75.0/r25.0/BigLetterh/SmallLetters/Taskg/TargetLetterh/Responded1.0/ParticipantResponse114.0/CorrectResponse114.0/TrialCount55.0/BlockTrialCount55.0/ReactionTime766.0/Accuracy1.0/D90', 'Stimulus/i75.0/r25.0/BigLetterh/SmallLetters/Taskg/TargetLetterh/Responded1.0/ParticipantResponse114.0/CorrectResponse114.0/TrialCount73.0/BlockTrialCount73.0/ReactionTime999.0/Accuracy1.0/D90', 'Stimulus/i75.0/r25.0/BigLetterh/SmallLetters/Taskg/TargetLetterh/Responded1.0/ParticipantResponse114.0/CorrectResponse114.0/TrialCount79.0/BlockTrialCount79.0/ReactionTime933.0/Accuracy1.0/D90', 'Stimulus/i75.0/r25.0/BigLetterh/SmallLetters/Taskg/TargetLetterh/Responded1.0/ParticipantResponse114.0/CorrectResponse114.0/TrialCount80.0/BlockTrialCount80.0/ReactionTime883.0/Accuracy1.0/D90', 'Stimulus/i75.0/r25.0/BigLetterh/SmallLetters/Taskg/TargetLetterh/Responded1.0/ParticipantResponse114.0/CorrectResponse114.0/TrialCount89.0/BlockTrialCount89.0/ReactionTime716.0/Accuracy1.0/D90', 'Stimulus/i75.0/r25.0/BigLetterh/SmallLetters/Taskg/TargetLetterh/Responded1.0/ParticipantResponse114.0/CorrectResponse114.0/TrialCount90.0/BlockTrialCount90.0/ReactionTime833.0/Accuracy1.0/D90', 'Stimulus/i75.0/r25.0/BigLetterh/SmallLetters/Taskg/TargetLetterh/Responded1.0/ParticipantResponse115.0/CorrectResponse114.0/TrialCount66.0/BlockTrialCount66.0/ReactionTime1099.0/Accuracy0.0/D90', 'Stimulus/i75.0/r25.0/BigLetterh/SmallLetters/Taskl/TargetLetters/Responded1.0/ParticipantResponse114.0/CorrectResponse115.0/TrialCount102.0/BlockTrialCount102.0/ReactionTime516.0/Accuracy0.0/D90', 'Stimulus/i75.0/r25.0/BigLetterh/SmallLetters/Taskl/TargetLetters/Responded1.0/ParticipantResponse114.0/CorrectResponse115.0/TrialCount75.0/BlockTrialCount75.0/ReactionTime949.0/Accuracy0.0/D90', 'Stimulus/i75.0/r25.0/BigLetterh/SmallLetters/Taskl/TargetLetters/Responded1.0/ParticipantResponse115.0/CorrectResponse115.0/TrialCount109.0/BlockTrialCount109.0/ReactionTime983.0/Accuracy1.0/D90', 'Stimulus/i75.0/r25.0/BigLetterh/SmallLetters/Taskl/TargetLetters/Responded1.0/ParticipantResponse115.0/CorrectResponse115.0/TrialCount11.0/BlockTrialCount11.0/ReactionTime1883.0/Accuracy1.0/D90', 'Stimulus/i75.0/r25.0/BigLetterh/SmallLetters/Taskl/TargetLetters/Responded1.0/ParticipantResponse115.0/CorrectResponse115.0/TrialCount23.0/BlockTrialCount23.0/ReactionTime1599.0/Accuracy1.0/D90', 'Stimulus/i75.0/r25.0/BigLetterh/SmallLetters/Taskl/TargetLetters/Responded1.0/ParticipantResponse115.0/CorrectResponse115.0/TrialCount25.0/BlockTrialCount25.0/ReactionTime683.0/Accuracy1.0/D90', 'Stimulus/i75.0/r25.0/BigLetterh/SmallLetters/Taskl/TargetLetters/Responded1.0/ParticipantResponse115.0/CorrectResponse115.0/TrialCount26.0/BlockTrialCount26.0/ReactionTime1633.0/Accuracy1.0/D90', 'Stimulus/i75.0/r25.0/BigLetterh/SmallLetters/Taskl/TargetLetters/Responded1.0/ParticipantResponse115.0/CorrectResponse115.0/TrialCount45.0/BlockTrialCount45.0/ReactionTime1116.0/Accuracy1.0/D90', 'Stimulus/i75.0/r25.0/BigLetterh/SmallLetters/Taskl/TargetLetters/Responded1.0/ParticipantResponse115.0/CorrectResponse115.0/TrialCount46.0/BlockTrialCount46.0/ReactionTime1083.0/Accuracy1.0/D90', 'Stimulus/i75.0/r25.0/BigLetterh/SmallLetters/Taskl/TargetLetters/Responded1.0/ParticipantResponse115.0/CorrectResponse115.0/TrialCount58.0/BlockTrialCount58.0/ReactionTime1483.0/Accuracy1.0/D90', 'Stimulus/i75.0/r25.0/BigLetterh/SmallLetters/Taskl/TargetLetters/Responded1.0/ParticipantResponse115.0/CorrectResponse115.0/TrialCount59.0/BlockTrialCount59.0/ReactionTime1766.0/Accuracy1.0/D90', 'Stimulus/i75.0/r25.0/BigLetterh/SmallLetters/Taskl/TargetLetters/Responded1.0/ParticipantResponse115.0/CorrectResponse115.0/TrialCount60.0/BlockTrialCount60.0/ReactionTime1533.0/Accuracy1.0/D90', 'Stimulus/i75.0/r25.0/BigLetterh/SmallLetters/Taskl/TargetLetters/Responded1.0/ParticipantResponse115.0/CorrectResponse115.0/TrialCount69.0/BlockTrialCount69.0/ReactionTime799.0/Accuracy1.0/D90', 'Stimulus/i75.0/r25.0/BigLetterh/SmallLetters/Taskl/TargetLetters/Responded1.0/ParticipantResponse115.0/CorrectResponse115.0/TrialCount71.0/BlockTrialCount71.0/ReactionTime1349.0/Accuracy1.0/D90', 'Stimulus/i75.0/r25.0/BigLetterh/SmallLetters/Taskl/TargetLetters/Responded1.0/ParticipantResponse115.0/CorrectResponse115.0/TrialCount76.0/BlockTrialCount76.0/ReactionTime1117.0/Accuracy1.0/D90', 'Stimulus/i75.0/r25.0/BigLetterh/SmallLetters/Taskl/TargetLetters/Responded1.0/ParticipantResponse115.0/CorrectResponse115.0/TrialCount77.0/BlockTrialCount77.0/ReactionTime816.0/Accuracy1.0/D90', 'Stimulus/i75.0/r25.0/BigLetterh/SmallLetters/Taskl/TargetLetters/Responded1.0/ParticipantResponse115.0/CorrectResponse115.0/TrialCount84.0/BlockTrialCount84.0/ReactionTime1049.0/Accuracy1.0/D90', 'Stimulus/i75.0/r25.0/BigLetters/SmallLetterh/Taskg/TargetLetters/Responded1.0/ParticipantResponse115.0/CorrectResponse115.0/TrialCount105.0/BlockTrialCount105.0/ReactionTime1049.0/Accuracy1.0/D90', 'Stimulus/i75.0/r25.0/BigLetters/SmallLetterh/Taskg/TargetLetters/Responded1.0/ParticipantResponse115.0/CorrectResponse115.0/TrialCount106.0/BlockTrialCount106.0/ReactionTime1033.0/Accuracy1.0/D90', 'Stimulus/i75.0/r25.0/BigLetters/SmallLetterh/Taskg/TargetLetters/Responded1.0/ParticipantResponse115.0/CorrectResponse115.0/TrialCount107.0/BlockTrialCount107.0/ReactionTime1033.0/Accuracy1.0/D90', 'Stimulus/i75.0/r25.0/BigLetters/SmallLetterh/Taskg/TargetLetters/Responded1.0/ParticipantResponse115.0/CorrectResponse115.0/TrialCount17.0/BlockTrialCount17.0/ReactionTime849.0/Accuracy1.0/D90', 'Stimulus/i75.0/r25.0/BigLetters/SmallLetterh/Taskg/TargetLetters/Responded1.0/ParticipantResponse115.0/CorrectResponse115.0/TrialCount32.0/BlockTrialCount32.0/ReactionTime1233.0/Accuracy1.0/D90', 'Stimulus/i75.0/r25.0/BigLetters/SmallLetterh/Taskg/TargetLetters/Responded1.0/ParticipantResponse115.0/CorrectResponse115.0/TrialCount34.0/BlockTrialCount34.0/ReactionTime1100.0/Accuracy1.0/D90', 'Stimulus/i75.0/r25.0/BigLetters/SmallLetterh/Taskg/TargetLetters/Responded1.0/ParticipantResponse115.0/CorrectResponse115.0/TrialCount38.0/BlockTrialCount38.0/ReactionTime783.0/Accuracy1.0/D90', 'Stimulus/i75.0/r25.0/BigLetters/SmallLetterh/Taskg/TargetLetters/Responded1.0/ParticipantResponse115.0/CorrectResponse115.0/TrialCount51.0/BlockTrialCount51.0/ReactionTime1966.0/Accuracy1.0/D90', 'Stimulus/i75.0/r25.0/BigLetters/SmallLetterh/Taskg/TargetLetters/Responded1.0/ParticipantResponse115.0/CorrectResponse115.0/TrialCount54.0/BlockTrialCount54.0/ReactionTime700.0/Accuracy1.0/D90', 'Stimulus/i75.0/r25.0/BigLetters/SmallLetterh/Taskg/TargetLetters/Responded1.0/ParticipantResponse115.0/CorrectResponse115.0/TrialCount6.0/BlockTrialCount6.0/ReactionTime1416.0/Accuracy1.0/D90', 'Stimulus/i75.0/r25.0/BigLetters/SmallLetterh/Taskg/TargetLetters/Responded1.0/ParticipantResponse115.0/CorrectResponse115.0/TrialCount81.0/BlockTrialCount81.0/ReactionTime1050.0/Accuracy1.0/D90', 'Stimulus/i75.0/r25.0/BigLetters/SmallLetterh/Taskg/TargetLetters/Responded1.0/ParticipantResponse115.0/CorrectResponse115.0/TrialCount88.0/BlockTrialCount88.0/ReactionTime833.0/Accuracy1.0/D90', 'Stimulus/i75.0/r25.0/BigLetters/SmallLetterh/Taskg/TargetLetters/Responded1.0/ParticipantResponse115.0/CorrectResponse115.0/TrialCount91.0/BlockTrialCount91.0/ReactionTime716.0/Accuracy1.0/D90', 'Stimulus/i75.0/r25.0/BigLetters/SmallLetterh/Taskg/TargetLetters/Responded1.0/ParticipantResponse115.0/CorrectResponse115.0/TrialCount92.0/BlockTrialCount92.0/ReactionTime783.0/Accuracy1.0/D90', 'Stimulus/i75.0/r25.0/BigLetters/SmallLetterh/Taskl/TargetLetterh/Responded0.0/ParticipantResponsenan/CorrectResponse114.0/TrialCount9.0/BlockTrialCount9.0/ReactionTimenan/Accuracy0.0/D90', 'Stimulus/i75.0/r25.0/BigLetters/SmallLetterh/Taskl/TargetLetterh/Responded1.0/ParticipantResponse114.0/CorrectResponse114.0/TrialCount10.0/BlockTrialCount10.0/ReactionTime1666.0/Accuracy1.0/D90', 'Stimulus/i75.0/r25.0/BigLetters/SmallLetterh/Taskl/TargetLetterh/Responded1.0/ParticipantResponse114.0/CorrectResponse114.0/TrialCount100.0/BlockTrialCount100.0/ReactionTime783.0/Accuracy1.0/D90', 'Stimulus/i75.0/r25.0/BigLetters/SmallLetterh/Taskl/TargetLetterh/Responded1.0/ParticipantResponse114.0/CorrectResponse114.0/TrialCount101.0/BlockTrialCount101.0/ReactionTime916.0/Accuracy1.0/D90', 'Stimulus/i75.0/r25.0/BigLetters/SmallLetterh/Taskl/TargetLetterh/Responded1.0/ParticipantResponse114.0/CorrectResponse114.0/TrialCount12.0/BlockTrialCount12.0/ReactionTime966.0/Accuracy1.0/D90', 'Stimulus/i75.0/r25.0/BigLetters/SmallLetterh/Taskl/TargetLetterh/Responded1.0/ParticipantResponse114.0/CorrectResponse114.0/TrialCount27.0/BlockTrialCount27.0/ReactionTime1149.0/Accuracy1.0/D90', 'Stimulus/i75.0/r25.0/BigLetters/SmallLetterh/Taskl/TargetLetterh/Responded1.0/ParticipantResponse114.0/CorrectResponse114.0/TrialCount28.0/BlockTrialCount28.0/ReactionTime983.0/Accuracy1.0/D90', 'Stimulus/i75.0/r25.0/BigLetters/SmallLetterh/Taskl/TargetLetterh/Responded1.0/ParticipantResponse114.0/CorrectResponse114.0/TrialCount62.0/BlockTrialCount62.0/ReactionTime750.0/Accuracy1.0/D90', 'Stimulus/i75.0/r25.0/BigLetters/SmallLetterh/Taskl/TargetLetterh/Responded1.0/ParticipantResponse114.0/CorrectResponse114.0/TrialCount63.0/BlockTrialCount63.0/ReactionTime916.0/Accuracy1.0/D90', 'Stimulus/i75.0/r25.0/BigLetters/SmallLetterh/Taskl/TargetLetterh/Responded1.0/ParticipantResponse114.0/CorrectResponse114.0/TrialCount64.0/BlockTrialCount64.0/ReactionTime966.0/Accuracy1.0/D90', 'Stimulus/i75.0/r25.0/BigLetters/SmallLetterh/Taskl/TargetLetterh/Responded1.0/ParticipantResponse114.0/CorrectResponse114.0/TrialCount70.0/BlockTrialCount70.0/ReactionTime1283.0/Accuracy1.0/D90', 'Stimulus/i75.0/r25.0/BigLetters/SmallLetterh/Taskl/TargetLetterh/Responded1.0/ParticipantResponse114.0/CorrectResponse114.0/TrialCount85.0/BlockTrialCount85.0/ReactionTime1083.0/Accuracy1.0/D90', 'Stimulus/i75.0/r25.0/BigLetters/SmallLetterh/Taskl/TargetLetterh/Responded1.0/ParticipantResponse114.0/CorrectResponse114.0/TrialCount95.0/BlockTrialCount95.0/ReactionTime666.0/Accuracy1.0/D90', 'Stimulus/i75.0/r25.0/BigLetters/SmallLetterh/Taskl/TargetLetterh/Responded1.0/ParticipantResponse114.0/CorrectResponse114.0/TrialCount97.0/BlockTrialCount97.0/ReactionTime599.0/Accuracy1.0/D90', 'Stimulus/i75.0/r25.0/BigLetters/SmallLetterh/Taskl/TargetLetterh/Responded1.0/ParticipantResponse115.0/CorrectResponse114.0/TrialCount8.0/BlockTrialCount8.0/ReactionTime2449.0/Accuracy0.0/D90', 'Stimulus/i75.0/r75.0/BigLetterh/SmallLetters/Taskg/TargetLetterh/Responded1.0/ParticipantResponse114.0/CorrectResponse114.0/TrialCount126.0/BlockTrialCount14.0/ReactionTime1066.0/Accuracy1.0/D90', 'Stimulus/i75.0/r75.0/BigLetterh/SmallLetters/Taskg/TargetLetterh/Responded1.0/ParticipantResponse114.0/CorrectResponse114.0/TrialCount131.0/BlockTrialCount19.0/ReactionTime1633.0/Accuracy1.0/D90', 'Stimulus/i75.0/r75.0/BigLetterh/SmallLetters/Taskg/TargetLetterh/Responded1.0/ParticipantResponse114.0/CorrectResponse114.0/TrialCount167.0/BlockTrialCount55.0/ReactionTime1566.0/Accuracy1.0/D90', 'Stimulus/i75.0/r75.0/BigLetterh/SmallLetters/Taskg/TargetLetterh/Responded1.0/ParticipantResponse114.0/CorrectResponse114.0/TrialCount192.0/BlockTrialCount80.0/ReactionTime883.0/Accuracy1.0/D90', 'Stimulus/i75.0/r75.0/BigLetterh/SmallLetters/Taskl/TargetLetters/Responded1.0/ParticipantResponse114.0/CorrectResponse115.0/TrialCount209.0/BlockTrialCount97.0/ReactionTime683.0/Accuracy0.0/D90', 'Stimulus/i75.0/r75.0/BigLetterh/SmallLetters/Taskl/TargetLetters/Responded1.0/ParticipantResponse115.0/CorrectResponse115.0/TrialCount123.0/BlockTrialCount11.0/ReactionTime649.0/Accuracy1.0/D90', 'Stimulus/i75.0/r75.0/BigLetterh/SmallLetters/Taskl/TargetLetters/Responded1.0/ParticipantResponse115.0/CorrectResponse115.0/TrialCount124.0/BlockTrialCount12.0/ReactionTime650.0/Accuracy1.0/D90', 'Stimulus/i75.0/r75.0/BigLetterh/SmallLetters/Taskl/TargetLetters/Responded1.0/ParticipantResponse115.0/CorrectResponse115.0/TrialCount145.0/BlockTrialCount33.0/ReactionTime1100.0/Accuracy1.0/D90', 'Stimulus/i75.0/r75.0/BigLetterh/SmallLetters/Taskl/TargetLetters/Responded1.0/ParticipantResponse115.0/CorrectResponse115.0/TrialCount149.0/BlockTrialCount37.0/ReactionTime1183.0/Accuracy1.0/D90', 'Stimulus/i75.0/r75.0/BigLetterh/SmallLetters/Taskl/TargetLetters/Responded1.0/ParticipantResponse115.0/CorrectResponse115.0/TrialCount169.0/BlockTrialCount57.0/ReactionTime1366.0/Accuracy1.0/D90', 'Stimulus/i75.0/r75.0/BigLetterh/SmallLetters/Taskl/TargetLetters/Responded1.0/ParticipantResponse115.0/CorrectResponse115.0/TrialCount180.0/BlockTrialCount68.0/ReactionTime866.0/Accuracy1.0/D90', 'Stimulus/i75.0/r75.0/BigLetterh/SmallLetters/Taskl/TargetLetters/Responded1.0/ParticipantResponse115.0/CorrectResponse115.0/TrialCount185.0/BlockTrialCount73.0/ReactionTime1283.0/Accuracy1.0/D90', 'Stimulus/i75.0/r75.0/BigLetterh/SmallLetters/Taskl/TargetLetters/Responded1.0/ParticipantResponse115.0/CorrectResponse115.0/TrialCount206.0/BlockTrialCount94.0/ReactionTime1233.0/Accuracy1.0/D90', 'Stimulus/i75.0/r75.0/BigLetters/SmallLetterh/Taskg/TargetLetters/Responded1.0/ParticipantResponse115.0/CorrectResponse115.0/TrialCount153.0/BlockTrialCount41.0/ReactionTime1966.0/Accuracy1.0/D90', 'Stimulus/i75.0/r75.0/BigLetters/SmallLetterh/Taskg/TargetLetters/Responded1.0/ParticipantResponse115.0/CorrectResponse115.0/TrialCount158.0/BlockTrialCount46.0/ReactionTime1316.0/Accuracy1.0/D90', 'Stimulus/i75.0/r75.0/BigLetters/SmallLetterh/Taskg/TargetLetters/Responded1.0/ParticipantResponse115.0/CorrectResponse115.0/TrialCount175.0/BlockTrialCount63.0/ReactionTime1699.0/Accuracy1.0/D90', 'Stimulus/i75.0/r75.0/BigLetters/SmallLetterh/Taskg/TargetLetters/Responded1.0/ParticipantResponse115.0/CorrectResponse115.0/TrialCount176.0/BlockTrialCount64.0/ReactionTime1400.0/Accuracy1.0/D90', 'Stimulus/i75.0/r75.0/BigLetters/SmallLetterh/Taskg/TargetLetters/Responded1.0/ParticipantResponse115.0/CorrectResponse115.0/TrialCount187.0/BlockTrialCount75.0/ReactionTime1033.0/Accuracy1.0/D90', 'Stimulus/i75.0/r75.0/BigLetters/SmallLetterh/Taskg/TargetLetters/Responded1.0/ParticipantResponse115.0/CorrectResponse115.0/TrialCount213.0/BlockTrialCount101.0/ReactionTime1133.0/Accuracy1.0/D90', 'Stimulus/i75.0/r75.0/BigLetters/SmallLetterh/Taskl/TargetLetterh/Responded1.0/ParticipantResponse114.0/CorrectResponse114.0/TrialCount148.0/BlockTrialCount36.0/ReactionTime1500.0/Accuracy1.0/D90', 'Stimulus/i75.0/r75.0/BigLetters/SmallLetterh/Taskl/TargetLetterh/Responded1.0/ParticipantResponse114.0/CorrectResponse114.0/TrialCount205.0/BlockTrialCount93.0/ReactionTime1833.0/Accuracy1.0/D90', 'Stimulus/i75.0/r75.0/BigLetters/SmallLetterh/Taskl/TargetLetterh/Responded1.0/ParticipantResponse114.0/CorrectResponse114.0/TrialCount215.0/BlockTrialCount103.0/ReactionTime1616.0/Accuracy1.0/D90', 'Stimulus/i75.0/s25.0/BigLetterh/SmallLetters/Taskg/TargetLetterh/Responded1.0/ParticipantResponse114.0/CorrectResponse114.0/TrialCount43.0/BlockTrialCount43.0/ReactionTime800.0/Accuracy1.0/D90', 'Stimulus/i75.0/s25.0/BigLetterh/SmallLetters/Taskg/TargetLetterh/Responded1.0/ParticipantResponse114.0/CorrectResponse114.0/TrialCount5.0/BlockTrialCount5.0/ReactionTime2316.0/Accuracy1.0/D90', 'Stimulus/i75.0/s25.0/BigLetterh/SmallLetters/Taskg/TargetLetterh/Responded1.0/ParticipantResponse114.0/CorrectResponse114.0/TrialCount65.0/BlockTrialCount65.0/ReactionTime933.0/Accuracy1.0/D90', 'Stimulus/i75.0/s25.0/BigLetterh/SmallLetters/Taskg/TargetLetterh/Responded1.0/ParticipantResponse114.0/CorrectResponse114.0/TrialCount72.0/BlockTrialCount72.0/ReactionTime1566.0/Accuracy1.0/D90', 'Stimulus/i75.0/s25.0/BigLetterh/SmallLetters/Taskl/TargetLetters/Responded1.0/ParticipantResponse115.0/CorrectResponse115.0/TrialCount14.0/BlockTrialCount14.0/ReactionTime1716.0/Accuracy1.0/D90', 'Stimulus/i75.0/s25.0/BigLetterh/SmallLetters/Taskl/TargetLetters/Responded1.0/ParticipantResponse115.0/CorrectResponse115.0/TrialCount22.0/BlockTrialCount22.0/ReactionTime1349.0/Accuracy1.0/D90', 'Stimulus/i75.0/s25.0/BigLetterh/SmallLetters/Taskl/TargetLetters/Responded1.0/ParticipantResponse115.0/CorrectResponse115.0/TrialCount42.0/BlockTrialCount42.0/ReactionTime1533.0/Accuracy1.0/D90', 'Stimulus/i75.0/s25.0/BigLetterh/SmallLetters/Taskl/TargetLetters/Responded1.0/ParticipantResponse115.0/CorrectResponse115.0/TrialCount56.0/BlockTrialCount56.0/ReactionTime999.0/Accuracy1.0/D90', 'Stimulus/i75.0/s25.0/BigLetterh/SmallLetters/Taskl/TargetLetters/Responded1.0/ParticipantResponse115.0/CorrectResponse115.0/TrialCount68.0/BlockTrialCount68.0/ReactionTime1699.0/Accuracy1.0/D90', 'Stimulus/i75.0/s25.0/BigLetters/SmallLetterh/Taskg/TargetLetters/Responded1.0/ParticipantResponse115.0/CorrectResponse115.0/TrialCount104.0/BlockTrialCount104.0/ReactionTime1583.0/Accuracy1.0/D90', 'Stimulus/i75.0/s25.0/BigLetters/SmallLetterh/Taskg/TargetLetters/Responded1.0/ParticipantResponse115.0/CorrectResponse115.0/TrialCount111.0/BlockTrialCount111.0/ReactionTime1299.0/Accuracy1.0/D90', 'Stimulus/i75.0/s25.0/BigLetters/SmallLetterh/Taskg/TargetLetters/Responded1.0/ParticipantResponse115.0/CorrectResponse115.0/TrialCount13.0/BlockTrialCount13.0/ReactionTime1649.0/Accuracy1.0/D90', 'Stimulus/i75.0/s25.0/BigLetters/SmallLetterh/Taskg/TargetLetters/Responded1.0/ParticipantResponse115.0/CorrectResponse115.0/TrialCount15.0/BlockTrialCount15.0/ReactionTime1583.0/Accuracy1.0/D90', 'Stimulus/i75.0/s25.0/BigLetters/SmallLetterh/Taskg/TargetLetters/Responded1.0/ParticipantResponse115.0/CorrectResponse115.0/TrialCount2.0/BlockTrialCount2.0/ReactionTime1116.0/Accuracy1.0/D90', 'Stimulus/i75.0/s25.0/BigLetters/SmallLetterh/Taskg/TargetLetters/Responded1.0/ParticipantResponse115.0/CorrectResponse115.0/TrialCount47.0/BlockTrialCount47.0/ReactionTime2083.0/Accuracy1.0/D90', 'Stimulus/i75.0/s25.0/BigLetters/SmallLetterh/Taskg/TargetLetters/Responded1.0/ParticipantResponse115.0/CorrectResponse115.0/TrialCount50.0/BlockTrialCount50.0/ReactionTime1249.0/Accuracy1.0/D90', 'Stimulus/i75.0/s25.0/BigLetters/SmallLetterh/Taskl/TargetLetterh/Responded1.0/ParticipantResponse114.0/CorrectResponse114.0/TrialCount44.0/BlockTrialCount44.0/ReactionTime1433.0/Accuracy1.0/D90', 'Stimulus/i75.0/s25.0/BigLetters/SmallLetterh/Taskl/TargetLetterh/Responded1.0/ParticipantResponse114.0/CorrectResponse114.0/TrialCount7.0/BlockTrialCount7.0/ReactionTime1616.0/Accuracy1.0/D90', 'Stimulus/i75.0/s25.0/BigLetters/SmallLetterh/Taskl/TargetLetterh/Responded1.0/ParticipantResponse114.0/CorrectResponse114.0/TrialCount74.0/BlockTrialCount74.0/ReactionTime1883.0/Accuracy1.0/D90', 'Stimulus/i75.0/s25.0/BigLetters/SmallLetterh/Taskl/TargetLetterh/Responded1.0/ParticipantResponse114.0/CorrectResponse114.0/TrialCount82.0/BlockTrialCount82.0/ReactionTime1233.0/Accuracy1.0/D90', 'Stimulus/i75.0/s25.0/BigLetters/SmallLetterh/Taskl/TargetLetterh/Responded1.0/ParticipantResponse114.0/CorrectResponse114.0/TrialCount94.0/BlockTrialCount94.0/ReactionTime1599.0/Accuracy1.0/D90', 'Stimulus/i75.0/s75.0/BigLetterh/SmallLetters/Taskg/TargetLetterh/Responded1.0/ParticipantResponse114.0/CorrectResponse114.0/TrialCount128.0/BlockTrialCount16.0/ReactionTime1699.0/Accuracy1.0/D90', 'Stimulus/i75.0/s75.0/BigLetterh/SmallLetters/Taskg/TargetLetterh/Responded1.0/ParticipantResponse114.0/CorrectResponse114.0/TrialCount152.0/BlockTrialCount40.0/ReactionTime933.0/Accuracy1.0/D90', 'Stimulus/i75.0/s75.0/BigLetterh/SmallLetters/Taskg/TargetLetterh/Responded1.0/ParticipantResponse114.0/CorrectResponse114.0/TrialCount157.0/BlockTrialCount45.0/ReactionTime1733.0/Accuracy1.0/D90', 'Stimulus/i75.0/s75.0/BigLetterh/SmallLetters/Taskg/TargetLetterh/Responded1.0/ParticipantResponse114.0/CorrectResponse114.0/TrialCount164.0/BlockTrialCount52.0/ReactionTime1016.0/Accuracy1.0/D90', 'Stimulus/i75.0/s75.0/BigLetterh/SmallLetters/Taskg/TargetLetterh/Responded1.0/ParticipantResponse114.0/CorrectResponse114.0/TrialCount166.0/BlockTrialCount54.0/ReactionTime1216.0/Accuracy1.0/D90', 'Stimulus/i75.0/s75.0/BigLetterh/SmallLetters/Taskg/TargetLetterh/Responded1.0/ParticipantResponse114.0/CorrectResponse114.0/TrialCount181.0/BlockTrialCount69.0/ReactionTime1099.0/Accuracy1.0/D90', 'Stimulus/i75.0/s75.0/BigLetterh/SmallLetters/Taskg/TargetLetterh/Responded1.0/ParticipantResponse114.0/CorrectResponse114.0/TrialCount183.0/BlockTrialCount71.0/ReactionTime1316.0/Accuracy1.0/D90', 'Stimulus/i75.0/s75.0/BigLetterh/SmallLetters/Taskg/TargetLetterh/Responded1.0/ParticipantResponse114.0/CorrectResponse114.0/TrialCount186.0/BlockTrialCount74.0/ReactionTime1016.0/Accuracy1.0/D90', 'Stimulus/i75.0/s75.0/BigLetterh/SmallLetters/Taskg/TargetLetterh/Responded1.0/ParticipantResponse114.0/CorrectResponse114.0/TrialCount191.0/BlockTrialCount79.0/ReactionTime1266.0/Accuracy1.0/D90', 'Stimulus/i75.0/s75.0/BigLetterh/SmallLetters/Taskg/TargetLetterh/Responded1.0/ParticipantResponse114.0/CorrectResponse114.0/TrialCount210.0/BlockTrialCount98.0/ReactionTime916.0/Accuracy1.0/D90', 'Stimulus/i75.0/s75.0/BigLetterh/SmallLetters/Taskg/TargetLetterh/Responded1.0/ParticipantResponse114.0/CorrectResponse114.0/TrialCount216.0/BlockTrialCount104.0/ReactionTime1199.0/Accuracy1.0/D90', 'Stimulus/i75.0/s75.0/BigLetterh/SmallLetters/Taskg/TargetLetterh/Responded1.0/ParticipantResponse114.0/CorrectResponse114.0/TrialCount218.0/BlockTrialCount106.0/ReactionTime1416.0/Accuracy1.0/D90', 'Stimulus/i75.0/s75.0/BigLetterh/SmallLetters/Taskg/TargetLetterh/Responded1.0/ParticipantResponse114.0/CorrectResponse114.0/TrialCount221.0/BlockTrialCount109.0/ReactionTime999.0/Accuracy1.0/D90', 'Stimulus/i75.0/s75.0/BigLetterh/SmallLetters/Taskg/TargetLetterh/Responded1.0/ParticipantResponse114.0/CorrectResponse114.0/TrialCount223.0/BlockTrialCount111.0/ReactionTime1166.0/Accuracy1.0/D90', 'Stimulus/i75.0/s75.0/BigLetterh/SmallLetters/Taskl/TargetLetters/Responded0.0/ParticipantResponsenan/CorrectResponse115.0/TrialCount117.0/BlockTrialCount5.0/ReactionTimenan/Accuracy0.0/D90', 'Stimulus/i75.0/s75.0/BigLetterh/SmallLetters/Taskl/TargetLetters/Responded0.0/ParticipantResponsenan/CorrectResponse115.0/TrialCount202.0/BlockTrialCount90.0/ReactionTimenan/Accuracy0.0/D90', 'Stimulus/i75.0/s75.0/BigLetterh/SmallLetters/Taskl/TargetLetters/Responded1.0/ParticipantResponse115.0/CorrectResponse115.0/TrialCount135.0/BlockTrialCount23.0/ReactionTime1633.0/Accuracy1.0/D90', 'Stimulus/i75.0/s75.0/BigLetterh/SmallLetters/Taskl/TargetLetters/Responded1.0/ParticipantResponse115.0/CorrectResponse115.0/TrialCount137.0/BlockTrialCount25.0/ReactionTime1200.0/Accuracy1.0/D90', 'Stimulus/i75.0/s75.0/BigLetterh/SmallLetters/Taskl/TargetLetters/Responded1.0/ParticipantResponse115.0/CorrectResponse115.0/TrialCount144.0/BlockTrialCount32.0/ReactionTime1799.0/Accuracy1.0/D90', 'Stimulus/i75.0/s75.0/BigLetterh/SmallLetters/Taskl/TargetLetters/Responded1.0/ParticipantResponse115.0/CorrectResponse115.0/TrialCount147.0/BlockTrialCount35.0/ReactionTime1483.0/Accuracy1.0/D90', 'Stimulus/i75.0/s75.0/BigLetterh/SmallLetters/Taskl/TargetLetters/Responded1.0/ParticipantResponse115.0/CorrectResponse115.0/TrialCount159.0/BlockTrialCount47.0/ReactionTime1633.0/Accuracy1.0/D90', 'Stimulus/i75.0/s75.0/BigLetterh/SmallLetters/Taskl/TargetLetters/Responded1.0/ParticipantResponse115.0/CorrectResponse115.0/TrialCount161.0/BlockTrialCount49.0/ReactionTime1383.0/Accuracy1.0/D90', 'Stimulus/i75.0/s75.0/BigLetterh/SmallLetters/Taskl/TargetLetters/Responded1.0/ParticipantResponse115.0/CorrectResponse115.0/TrialCount163.0/BlockTrialCount51.0/ReactionTime1183.0/Accuracy1.0/D90', 'Stimulus/i75.0/s75.0/BigLetterh/SmallLetters/Taskl/TargetLetters/Responded1.0/ParticipantResponse115.0/CorrectResponse115.0/TrialCount177.0/BlockTrialCount65.0/ReactionTime1749.0/Accuracy1.0/D90', 'Stimulus/i75.0/s75.0/BigLetterh/SmallLetters/Taskl/TargetLetters/Responded1.0/ParticipantResponse115.0/CorrectResponse115.0/TrialCount179.0/BlockTrialCount67.0/ReactionTime2066.0/Accuracy1.0/D90', 'Stimulus/i75.0/s75.0/BigLetterh/SmallLetters/Taskl/TargetLetters/Responded1.0/ParticipantResponse115.0/CorrectResponse115.0/TrialCount188.0/BlockTrialCount76.0/ReactionTime1616.0/Accuracy1.0/D90', 'Stimulus/i75.0/s75.0/BigLetterh/SmallLetters/Taskl/TargetLetters/Responded1.0/ParticipantResponse115.0/CorrectResponse115.0/TrialCount193.0/BlockTrialCount81.0/ReactionTime1350.0/Accuracy1.0/D90', 'Stimulus/i75.0/s75.0/BigLetterh/SmallLetters/Taskl/TargetLetters/Responded1.0/ParticipantResponse115.0/CorrectResponse115.0/TrialCount197.0/BlockTrialCount85.0/ReactionTime1649.0/Accuracy1.0/D90', 'Stimulus/i75.0/s75.0/BigLetterh/SmallLetters/Taskl/TargetLetters/Responded1.0/ParticipantResponse115.0/CorrectResponse115.0/TrialCount211.0/BlockTrialCount99.0/ReactionTime649.0/Accuracy1.0/D90', 'Stimulus/i75.0/s75.0/BigLetterh/SmallLetters/Taskl/TargetLetters/Responded1.0/ParticipantResponse115.0/CorrectResponse115.0/TrialCount217.0/BlockTrialCount105.0/ReactionTime1333.0/Accuracy1.0/D90', 'Stimulus/i75.0/s75.0/BigLetterh/SmallLetters/Taskl/TargetLetters/Responded1.0/ParticipantResponse115.0/CorrectResponse115.0/TrialCount220.0/BlockTrialCount108.0/ReactionTime783.0/Accuracy1.0/D90', 'Stimulus/i75.0/s75.0/BigLetters/SmallLetterh/Taskg/TargetLetters/Responded1.0/ParticipantResponse114.0/CorrectResponse115.0/TrialCount203.0/BlockTrialCount91.0/ReactionTime1749.0/Accuracy0.0/D90', 'Stimulus/i75.0/s75.0/BigLetters/SmallLetterh/Taskg/TargetLetters/Responded1.0/ParticipantResponse114.0/CorrectResponse115.0/TrialCount212.0/BlockTrialCount100.0/ReactionTime1049.0/Accuracy0.0/D90', 'Stimulus/i75.0/s75.0/BigLetters/SmallLetterh/Taskg/TargetLetters/Responded1.0/ParticipantResponse115.0/CorrectResponse115.0/TrialCount116.0/BlockTrialCount4.0/ReactionTime816.0/Accuracy1.0/D90', 'Stimulus/i75.0/s75.0/BigLetters/SmallLetterh/Taskg/TargetLetters/Responded1.0/ParticipantResponse115.0/CorrectResponse115.0/TrialCount120.0/BlockTrialCount8.0/ReactionTime1283.0/Accuracy1.0/D90', 'Stimulus/i75.0/s75.0/BigLetters/SmallLetterh/Taskg/TargetLetters/Responded1.0/ParticipantResponse115.0/CorrectResponse115.0/TrialCount125.0/BlockTrialCount13.0/ReactionTime2099.0/Accuracy1.0/D90', 'Stimulus/i75.0/s75.0/BigLetters/SmallLetterh/Taskg/TargetLetters/Responded1.0/ParticipantResponse115.0/CorrectResponse115.0/TrialCount130.0/BlockTrialCount18.0/ReactionTime1599.0/Accuracy1.0/D90', 'Stimulus/i75.0/s75.0/BigLetters/SmallLetterh/Taskg/TargetLetters/Responded1.0/ParticipantResponse115.0/CorrectResponse115.0/TrialCount138.0/BlockTrialCount26.0/ReactionTime1683.0/Accuracy1.0/D90', 'Stimulus/i75.0/s75.0/BigLetters/SmallLetterh/Taskg/TargetLetters/Responded1.0/ParticipantResponse115.0/CorrectResponse115.0/TrialCount140.0/BlockTrialCount28.0/ReactionTime1333.0/Accuracy1.0/D90', 'Stimulus/i75.0/s75.0/BigLetters/SmallLetterh/Taskg/TargetLetters/Responded1.0/ParticipantResponse115.0/CorrectResponse115.0/TrialCount146.0/BlockTrialCount34.0/ReactionTime1533.0/Accuracy1.0/D90', 'Stimulus/i75.0/s75.0/BigLetters/SmallLetterh/Taskg/TargetLetters/Responded1.0/ParticipantResponse115.0/CorrectResponse115.0/TrialCount150.0/BlockTrialCount38.0/ReactionTime1399.0/Accuracy1.0/D90', 'Stimulus/i75.0/s75.0/BigLetters/SmallLetterh/Taskg/TargetLetters/Responded1.0/ParticipantResponse115.0/CorrectResponse115.0/TrialCount162.0/BlockTrialCount50.0/ReactionTime1683.0/Accuracy1.0/D90', 'Stimulus/i75.0/s75.0/BigLetters/SmallLetterh/Taskg/TargetLetters/Responded1.0/ParticipantResponse115.0/CorrectResponse115.0/TrialCount170.0/BlockTrialCount58.0/ReactionTime1366.0/Accuracy1.0/D90', 'Stimulus/i75.0/s75.0/BigLetters/SmallLetterh/Taskg/TargetLetters/Responded1.0/ParticipantResponse115.0/CorrectResponse115.0/TrialCount172.0/BlockTrialCount60.0/ReactionTime1399.0/Accuracy1.0/D90', 'Stimulus/i75.0/s75.0/BigLetters/SmallLetterh/Taskg/TargetLetters/Responded1.0/ParticipantResponse115.0/CorrectResponse115.0/TrialCount198.0/BlockTrialCount86.0/ReactionTime1616.0/Accuracy1.0/D90', 'Stimulus/i75.0/s75.0/BigLetters/SmallLetterh/Taskl/TargetLetterh/Responded1.0/ParticipantResponse114.0/CorrectResponse114.0/TrialCount115.0/BlockTrialCount3.0/ReactionTime1533.0/Accuracy1.0/D90', 'Stimulus/i75.0/s75.0/BigLetters/SmallLetterh/Taskl/TargetLetterh/Responded1.0/ParticipantResponse114.0/CorrectResponse114.0/TrialCount119.0/BlockTrialCount7.0/ReactionTime1616.0/Accuracy1.0/D90', 'Stimulus/i75.0/s75.0/BigLetters/SmallLetterh/Taskl/TargetLetterh/Responded1.0/ParticipantResponse114.0/CorrectResponse114.0/TrialCount121.0/BlockTrialCount9.0/ReactionTime1749.0/Accuracy1.0/D90', 'Stimulus/i75.0/s75.0/BigLetters/SmallLetterh/Taskl/TargetLetterh/Responded1.0/ParticipantResponse114.0/CorrectResponse114.0/TrialCount127.0/BlockTrialCount15.0/ReactionTime1633.0/Accuracy1.0/D90', 'Stimulus/i75.0/s75.0/BigLetters/SmallLetterh/Taskl/TargetLetterh/Responded1.0/ParticipantResponse114.0/CorrectResponse114.0/TrialCount129.0/BlockTrialCount17.0/ReactionTime1600.0/Accuracy1.0/D90', 'Stimulus/i75.0/s75.0/BigLetters/SmallLetterh/Taskl/TargetLetterh/Responded1.0/ParticipantResponse114.0/CorrectResponse114.0/TrialCount142.0/BlockTrialCount30.0/ReactionTime1333.0/Accuracy1.0/D90', 'Stimulus/i75.0/s75.0/BigLetters/SmallLetterh/Taskl/TargetLetterh/Responded1.0/ParticipantResponse114.0/CorrectResponse114.0/TrialCount154.0/BlockTrialCount42.0/ReactionTime1449.0/Accuracy1.0/D90', 'Stimulus/i75.0/s75.0/BigLetters/SmallLetterh/Taskl/TargetLetterh/Responded1.0/ParticipantResponse114.0/CorrectResponse114.0/TrialCount165.0/BlockTrialCount53.0/ReactionTime1499.0/Accuracy1.0/D90', 'Stimulus/i75.0/s75.0/BigLetters/SmallLetterh/Taskl/TargetLetterh/Responded1.0/ParticipantResponse114.0/CorrectResponse114.0/TrialCount168.0/BlockTrialCount56.0/ReactionTime1899.0/Accuracy1.0/D90', 'Stimulus/i75.0/s75.0/BigLetters/SmallLetterh/Taskl/TargetLetterh/Responded1.0/ParticipantResponse114.0/CorrectResponse114.0/TrialCount171.0/BlockTrialCount59.0/ReactionTime1466.0/Accuracy1.0/D90', 'Stimulus/i75.0/s75.0/BigLetters/SmallLetterh/Taskl/TargetLetterh/Responded1.0/ParticipantResponse114.0/CorrectResponse114.0/TrialCount173.0/BlockTrialCount61.0/ReactionTime1033.0/Accuracy1.0/D90', 'Stimulus/i75.0/s75.0/BigLetters/SmallLetterh/Taskl/TargetLetterh/Responded1.0/ParticipantResponse114.0/CorrectResponse114.0/TrialCount195.0/BlockTrialCount83.0/ReactionTime1866.0/Accuracy1.0/D90', 'Stimulus/i75.0/s75.0/BigLetters/SmallLetterh/Taskl/TargetLetterh/Responded1.0/ParticipantResponse114.0/CorrectResponse114.0/TrialCount200.0/BlockTrialCount88.0/ReactionTime1550.0/Accuracy1.0/D90', 'Stimulus/i75.0/s75.0/BigLetters/SmallLetterh/Taskl/TargetLetterh/Responded1.0/ParticipantResponse114.0/CorrectResponse114.0/TrialCount204.0/BlockTrialCount92.0/ReactionTime1550.0/Accuracy1.0/D90', 'Stimulus/i75.0/s75.0/BigLetters/SmallLetterh/Taskl/TargetLetterh/Responded1.0/ParticipantResponse114.0/CorrectResponse114.0/TrialCount208.0/BlockTrialCount96.0/ReactionTime666.0/Accuracy1.0/D90', 'Stimulus/i75.0/s75.0/BigLetters/SmallLetterh/Taskl/TargetLetterh/Responded1.0/ParticipantResponse115.0/CorrectResponse114.0/TrialCount224.0/BlockTrialCount112.0/ReactionTime1400.0/Accuracy0.0/D90']\n",
      "Not setting metadata\n",
      "450 matching events found\n",
      "No baseline correction applied\n",
      "0 projection items activated\n",
      "Using data from preloaded Raw for 450 events and 8193 original time points ...\n",
      "2 bad epochs dropped\n",
      "NOTE: tfr_multitaper() is a legacy function. New code should use .compute_tfr(method=\"multitaper\").\n"
     ]
    },
    {
     "name": "stderr",
     "output_type": "stream",
     "text": [
      "C:\\Users\\jz421\\AppData\\Local\\Temp\\ipykernel_4460\\1070105336.py:90: RuntimeWarning: This filename (C:\\Users\\jz421\\Box\\CoganLab\\BIDS-1.1_GlobalLocal\\BIDS\\derivatives\\spec\\multitaper_alt\\D0090\\Stimulus_fixationCrossBase_0.2sec-avg.fif) does not conform to MNE naming conventions. All time-frequency object files should end with .h5 or .hdf5\n",
      "  spectra.save(os.path.join(save_dir, f'{event}_fixationCrossBase_0.2sec-avg.fif'), overwrite=True)\n"
     ]
    }
   ],
   "source": [
    "import mne.time_frequency\n",
    "\n",
    "from ieeg.io import get_data, raw_from_layout\n",
    "from ieeg.navigate import trial_ieeg, crop_empty_data, outliers_to_nan, channel_outlier_marker\n",
    "from ieeg.calc.scaling import rescale\n",
    "import os\n",
    "from ieeg.timefreq.utils import crop_pad\n",
    "import numpy as np\n",
    "\n",
    "HOME = os.path.expanduser(\"~\")\n",
    "\n",
    "# get box directory depending on OS\n",
    "if os.name == 'nt': # windows\n",
    "    LAB_root = os.path.join(HOME, \"Box\", \"CoganLab\")\n",
    "else: # mac\n",
    "    LAB_root = os.path.join(HOME, \"Library\", \"CloudStorage\", \"Box-Box\", \"CoganLab\")\n",
    "\n",
    "layout = get_data(\"GlobalLocal\", root=LAB_root)\n",
    "\n",
    "subjects = layout.get(return_type=\"id\", target=\"subject\")\n",
    "\n",
    "\n",
    "print(subjects)\n",
    "\n",
    "subjects = ['D0090'] # JUST DO ONE FOR THE POSTER CUZ THIS USES SO MUCH DAMN MEMORY\n",
    "\n",
    "for sub in subjects:\n",
    "        # Load the data\n",
    "        filt = raw_from_layout(layout.derivatives['derivatives/clean'], subject=sub,\n",
    "                                extension='.edf', desc='clean', preload=False) #get line-noise filtered data\n",
    "        print(filt)\n",
    "\n",
    "        ## Crop raw data to minimize processing time\n",
    "        good = crop_empty_data(filt)\n",
    "\n",
    "        # good.drop_channels(good.info['bads'])\n",
    "        good.info['bads'] = channel_outlier_marker(good, 3, 2)\n",
    "        good.drop_channels(good.info['bads'])\n",
    "        # good.info['bads'] += channel_outlier_marker(good, 4, 2)\n",
    "        # good.drop_channels(good.info['bads'])\n",
    "        good.load_data()\n",
    "\n",
    "        ch_type = filt.get_channel_types(only_data_chs=True)[0]\n",
    "        good.set_eeg_reference(ref_channels=\"average\", ch_type=ch_type)\n",
    "\n",
    "        # Remove intermediates from mem\n",
    "        good.plot()\n",
    "\n",
    "        ## epoching and trial outlier removal\n",
    "\n",
    "        save_dir = os.path.join(layout.root, 'derivatives', 'spec', 'multitaper_alt', sub)\n",
    "        if not os.path.exists(save_dir):\n",
    "                os.makedirs(save_dir)\n",
    "\n",
    "        # make stimulus baseline EpochsTFR\n",
    "        times = [-0.7, 0.5] #padd 0.5 secs each side, want 0.2 seconds before stim onset\n",
    "        print(\"times: \" + str(times))\n",
    "        trials = trial_ieeg(good, \"Stimulus\", times, preload=True)\n",
    "\n",
    "        # print(\"base trials shape is: \" + str(trials._data.shape))\n",
    "        outliers_to_nan(trials, outliers=10)\n",
    "        freq = np.arange(10, 200., 2.)\n",
    "        kwargs = dict(average=False, n_jobs=1, freqs=freq, return_itc=False,\n",
    "                      n_cycles=freq / 2, time_bandwidth=10, decim=int(good.info['sfreq'] / 100))\n",
    "        \n",
    "        # del good\n",
    "        # del filt\n",
    "\n",
    "        base = mne.time_frequency.tfr_multitaper(trials, **kwargs)\n",
    "        crop_pad(base, \"0.5s\")\n",
    "        base = base.average(lambda x: np.nanmean(x, axis=0), copy=False)\n",
    "\n",
    "        #now do rescale with the concatenated baseline epochs\n",
    "        for event, t in [(\"Stimulus\",(-1, 2))]:\n",
    "                times = [None, None]\n",
    "                times[0] = t[0] - 0.5\n",
    "                times[1] = t[1] + 0.5\n",
    "                trials = trial_ieeg(good, event, times, preload=True)\n",
    "                outliers_to_nan(trials, outliers=10)\n",
    "                spectra = mne.time_frequency.tfr_multitaper(trials,  **kwargs)\n",
    "                crop_pad(spectra, \"0.5s\")\n",
    "                del trials\n",
    "                spectra = spectra.average(lambda x: np.nanmean(x, axis=0), copy=False)\n",
    "                rescale(spectra._data, base._data, mode='ratio', axis=-1)\n",
    "                fnames = [os.path.relpath(f, layout.root) for f in good.filenames]\n",
    "                spectra.info['subject_info']['files'] = tuple(fnames)\n",
    "                spectra.info['bads'] = good.info['bads']\n",
    "                filename = os.path.join(save_dir, f'{event}_fixationCrossBase_0.2sec-tfr.h5')\n",
    "                mne.time_frequency.write_tfrs(filename, spectra, overwrite=True)\n",
    "                spectra.save(os.path.join(save_dir, f'{event}_fixationCrossBase_0.2sec-avg.fif'), overwrite=True)\n"
   ]
  },
  {
   "cell_type": "markdown",
   "metadata": {},
   "source": [
    "actually plot them"
   ]
  },
  {
   "cell_type": "code",
   "execution_count": 3,
   "metadata": {},
   "outputs": [
    {
     "name": "stdout",
     "output_type": "stream",
     "text": [
      "Reading C:\\Users\\jz421\\Box\\CoganLab\\BIDS-1.1_GlobalLocal\\BIDS\\derivatives\\spec\\multitaper_alt\\D0090\\Stimulus_fixationCrossBase_0.2sec-tfr.h5 ...\n",
      "No baseline correction applied\n"
     ]
    },
    {
     "name": "stderr",
     "output_type": "stream",
     "text": [
      "C:\\Users\\jz421\\Desktop\\GlobalLocal\\IEEG_Pipelines\\ieeg\\viz\\ensemble.py:141: FutureWarning: Parameters `vmin` and `vmax` are deprecated, use `vlim` instead.\n",
      "  plot_func(picks=[chan], axes=ax, show=False, **kwargs)\n"
     ]
    },
    {
     "name": "stdout",
     "output_type": "stream",
     "text": [
      "No baseline correction applied\n",
      "No baseline correction applied\n"
     ]
    },
    {
     "name": "stderr",
     "output_type": "stream",
     "text": [
      "C:\\Users\\jz421\\Desktop\\GlobalLocal\\IEEG_Pipelines\\ieeg\\viz\\ensemble.py:141: FutureWarning: Parameters `vmin` and `vmax` are deprecated, use `vlim` instead.\n",
      "  plot_func(picks=[chan], axes=ax, show=False, **kwargs)\n",
      "C:\\Users\\jz421\\Desktop\\GlobalLocal\\IEEG_Pipelines\\ieeg\\viz\\ensemble.py:141: FutureWarning: Parameters `vmin` and `vmax` are deprecated, use `vlim` instead.\n",
      "  plot_func(picks=[chan], axes=ax, show=False, **kwargs)\n"
     ]
    },
    {
     "name": "stdout",
     "output_type": "stream",
     "text": [
      "No baseline correction applied\n"
     ]
    },
    {
     "name": "stderr",
     "output_type": "stream",
     "text": [
      "C:\\Users\\jz421\\Desktop\\GlobalLocal\\IEEG_Pipelines\\ieeg\\viz\\ensemble.py:141: FutureWarning: Parameters `vmin` and `vmax` are deprecated, use `vlim` instead.\n",
      "  plot_func(picks=[chan], axes=ax, show=False, **kwargs)\n"
     ]
    },
    {
     "name": "stdout",
     "output_type": "stream",
     "text": [
      "No baseline correction applied\n"
     ]
    },
    {
     "name": "stderr",
     "output_type": "stream",
     "text": [
      "C:\\Users\\jz421\\Desktop\\GlobalLocal\\IEEG_Pipelines\\ieeg\\viz\\ensemble.py:141: FutureWarning: Parameters `vmin` and `vmax` are deprecated, use `vlim` instead.\n",
      "  plot_func(picks=[chan], axes=ax, show=False, **kwargs)\n",
      "C:\\Users\\jz421\\Desktop\\GlobalLocal\\IEEG_Pipelines\\ieeg\\viz\\ensemble.py:141: FutureWarning: Parameters `vmin` and `vmax` are deprecated, use `vlim` instead.\n",
      "  plot_func(picks=[chan], axes=ax, show=False, **kwargs)\n"
     ]
    },
    {
     "name": "stdout",
     "output_type": "stream",
     "text": [
      "No baseline correction applied\n",
      "No baseline correction applied\n"
     ]
    },
    {
     "name": "stderr",
     "output_type": "stream",
     "text": [
      "C:\\Users\\jz421\\Desktop\\GlobalLocal\\IEEG_Pipelines\\ieeg\\viz\\ensemble.py:141: FutureWarning: Parameters `vmin` and `vmax` are deprecated, use `vlim` instead.\n",
      "  plot_func(picks=[chan], axes=ax, show=False, **kwargs)\n"
     ]
    },
    {
     "name": "stdout",
     "output_type": "stream",
     "text": [
      "No baseline correction applied\n"
     ]
    },
    {
     "name": "stderr",
     "output_type": "stream",
     "text": [
      "C:\\Users\\jz421\\Desktop\\GlobalLocal\\IEEG_Pipelines\\ieeg\\viz\\ensemble.py:141: FutureWarning: Parameters `vmin` and `vmax` are deprecated, use `vlim` instead.\n",
      "  plot_func(picks=[chan], axes=ax, show=False, **kwargs)\n",
      "C:\\Users\\jz421\\Desktop\\GlobalLocal\\IEEG_Pipelines\\ieeg\\viz\\ensemble.py:141: FutureWarning: Parameters `vmin` and `vmax` are deprecated, use `vlim` instead.\n",
      "  plot_func(picks=[chan], axes=ax, show=False, **kwargs)\n"
     ]
    },
    {
     "name": "stdout",
     "output_type": "stream",
     "text": [
      "No baseline correction applied\n",
      "No baseline correction applied\n",
      "No baseline correction applied\n"
     ]
    },
    {
     "name": "stderr",
     "output_type": "stream",
     "text": [
      "C:\\Users\\jz421\\Desktop\\GlobalLocal\\IEEG_Pipelines\\ieeg\\viz\\ensemble.py:141: FutureWarning: Parameters `vmin` and `vmax` are deprecated, use `vlim` instead.\n",
      "  plot_func(picks=[chan], axes=ax, show=False, **kwargs)\n",
      "C:\\Users\\jz421\\Desktop\\GlobalLocal\\IEEG_Pipelines\\ieeg\\viz\\ensemble.py:141: FutureWarning: Parameters `vmin` and `vmax` are deprecated, use `vlim` instead.\n",
      "  plot_func(picks=[chan], axes=ax, show=False, **kwargs)\n"
     ]
    },
    {
     "name": "stdout",
     "output_type": "stream",
     "text": [
      "No baseline correction applied\n",
      "No baseline correction applied\n"
     ]
    },
    {
     "name": "stderr",
     "output_type": "stream",
     "text": [
      "C:\\Users\\jz421\\Desktop\\GlobalLocal\\IEEG_Pipelines\\ieeg\\viz\\ensemble.py:141: FutureWarning: Parameters `vmin` and `vmax` are deprecated, use `vlim` instead.\n",
      "  plot_func(picks=[chan], axes=ax, show=False, **kwargs)\n",
      "C:\\Users\\jz421\\Desktop\\GlobalLocal\\IEEG_Pipelines\\ieeg\\viz\\ensemble.py:141: FutureWarning: Parameters `vmin` and `vmax` are deprecated, use `vlim` instead.\n",
      "  plot_func(picks=[chan], axes=ax, show=False, **kwargs)\n"
     ]
    },
    {
     "name": "stdout",
     "output_type": "stream",
     "text": [
      "No baseline correction applied\n",
      "No baseline correction applied\n"
     ]
    },
    {
     "name": "stderr",
     "output_type": "stream",
     "text": [
      "C:\\Users\\jz421\\Desktop\\GlobalLocal\\IEEG_Pipelines\\ieeg\\viz\\ensemble.py:141: FutureWarning: Parameters `vmin` and `vmax` are deprecated, use `vlim` instead.\n",
      "  plot_func(picks=[chan], axes=ax, show=False, **kwargs)\n",
      "C:\\Users\\jz421\\Desktop\\GlobalLocal\\IEEG_Pipelines\\ieeg\\viz\\ensemble.py:141: FutureWarning: Parameters `vmin` and `vmax` are deprecated, use `vlim` instead.\n",
      "  plot_func(picks=[chan], axes=ax, show=False, **kwargs)\n"
     ]
    },
    {
     "name": "stdout",
     "output_type": "stream",
     "text": [
      "No baseline correction applied\n"
     ]
    },
    {
     "name": "stderr",
     "output_type": "stream",
     "text": [
      "C:\\Users\\jz421\\Desktop\\GlobalLocal\\IEEG_Pipelines\\ieeg\\viz\\ensemble.py:141: FutureWarning: Parameters `vmin` and `vmax` are deprecated, use `vlim` instead.\n",
      "  plot_func(picks=[chan], axes=ax, show=False, **kwargs)\n"
     ]
    },
    {
     "name": "stdout",
     "output_type": "stream",
     "text": [
      "No baseline correction applied\n",
      "No baseline correction applied\n"
     ]
    },
    {
     "name": "stderr",
     "output_type": "stream",
     "text": [
      "C:\\Users\\jz421\\Desktop\\GlobalLocal\\IEEG_Pipelines\\ieeg\\viz\\ensemble.py:141: FutureWarning: Parameters `vmin` and `vmax` are deprecated, use `vlim` instead.\n",
      "  plot_func(picks=[chan], axes=ax, show=False, **kwargs)\n",
      "C:\\Users\\jz421\\Desktop\\GlobalLocal\\IEEG_Pipelines\\ieeg\\viz\\ensemble.py:141: FutureWarning: Parameters `vmin` and `vmax` are deprecated, use `vlim` instead.\n",
      "  plot_func(picks=[chan], axes=ax, show=False, **kwargs)\n"
     ]
    },
    {
     "name": "stdout",
     "output_type": "stream",
     "text": [
      "No baseline correction applied\n",
      "No baseline correction applied\n"
     ]
    },
    {
     "name": "stderr",
     "output_type": "stream",
     "text": [
      "C:\\Users\\jz421\\Desktop\\GlobalLocal\\IEEG_Pipelines\\ieeg\\viz\\ensemble.py:141: FutureWarning: Parameters `vmin` and `vmax` are deprecated, use `vlim` instead.\n",
      "  plot_func(picks=[chan], axes=ax, show=False, **kwargs)\n",
      "C:\\Users\\jz421\\Desktop\\GlobalLocal\\IEEG_Pipelines\\ieeg\\viz\\ensemble.py:141: FutureWarning: Parameters `vmin` and `vmax` are deprecated, use `vlim` instead.\n",
      "  plot_func(picks=[chan], axes=ax, show=False, **kwargs)\n"
     ]
    },
    {
     "name": "stdout",
     "output_type": "stream",
     "text": [
      "No baseline correction applied\n",
      "No baseline correction applied\n"
     ]
    },
    {
     "name": "stderr",
     "output_type": "stream",
     "text": [
      "C:\\Users\\jz421\\Desktop\\GlobalLocal\\IEEG_Pipelines\\ieeg\\viz\\ensemble.py:141: FutureWarning: Parameters `vmin` and `vmax` are deprecated, use `vlim` instead.\n",
      "  plot_func(picks=[chan], axes=ax, show=False, **kwargs)\n",
      "C:\\Users\\jz421\\Desktop\\GlobalLocal\\IEEG_Pipelines\\ieeg\\viz\\ensemble.py:141: FutureWarning: Parameters `vmin` and `vmax` are deprecated, use `vlim` instead.\n",
      "  plot_func(picks=[chan], axes=ax, show=False, **kwargs)\n"
     ]
    },
    {
     "name": "stdout",
     "output_type": "stream",
     "text": [
      "No baseline correction applied\n",
      "No baseline correction applied\n"
     ]
    },
    {
     "name": "stderr",
     "output_type": "stream",
     "text": [
      "C:\\Users\\jz421\\Desktop\\GlobalLocal\\IEEG_Pipelines\\ieeg\\viz\\ensemble.py:141: FutureWarning: Parameters `vmin` and `vmax` are deprecated, use `vlim` instead.\n",
      "  plot_func(picks=[chan], axes=ax, show=False, **kwargs)\n",
      "C:\\Users\\jz421\\Desktop\\GlobalLocal\\IEEG_Pipelines\\ieeg\\viz\\ensemble.py:141: FutureWarning: Parameters `vmin` and `vmax` are deprecated, use `vlim` instead.\n",
      "  plot_func(picks=[chan], axes=ax, show=False, **kwargs)\n"
     ]
    },
    {
     "name": "stdout",
     "output_type": "stream",
     "text": [
      "No baseline correction applied\n"
     ]
    },
    {
     "name": "stderr",
     "output_type": "stream",
     "text": [
      "C:\\Users\\jz421\\Desktop\\GlobalLocal\\IEEG_Pipelines\\ieeg\\viz\\ensemble.py:141: FutureWarning: Parameters `vmin` and `vmax` are deprecated, use `vlim` instead.\n",
      "  plot_func(picks=[chan], axes=ax, show=False, **kwargs)\n"
     ]
    },
    {
     "name": "stdout",
     "output_type": "stream",
     "text": [
      "No baseline correction applied\n",
      "No baseline correction applied\n"
     ]
    },
    {
     "name": "stderr",
     "output_type": "stream",
     "text": [
      "C:\\Users\\jz421\\Desktop\\GlobalLocal\\IEEG_Pipelines\\ieeg\\viz\\ensemble.py:141: FutureWarning: Parameters `vmin` and `vmax` are deprecated, use `vlim` instead.\n",
      "  plot_func(picks=[chan], axes=ax, show=False, **kwargs)\n",
      "C:\\Users\\jz421\\Desktop\\GlobalLocal\\IEEG_Pipelines\\ieeg\\viz\\ensemble.py:141: FutureWarning: Parameters `vmin` and `vmax` are deprecated, use `vlim` instead.\n",
      "  plot_func(picks=[chan], axes=ax, show=False, **kwargs)\n"
     ]
    },
    {
     "name": "stdout",
     "output_type": "stream",
     "text": [
      "No baseline correction applied\n",
      "No baseline correction applied\n"
     ]
    },
    {
     "name": "stderr",
     "output_type": "stream",
     "text": [
      "C:\\Users\\jz421\\Desktop\\GlobalLocal\\IEEG_Pipelines\\ieeg\\viz\\ensemble.py:141: FutureWarning: Parameters `vmin` and `vmax` are deprecated, use `vlim` instead.\n",
      "  plot_func(picks=[chan], axes=ax, show=False, **kwargs)\n",
      "C:\\Users\\jz421\\Desktop\\GlobalLocal\\IEEG_Pipelines\\ieeg\\viz\\ensemble.py:141: FutureWarning: Parameters `vmin` and `vmax` are deprecated, use `vlim` instead.\n",
      "  plot_func(picks=[chan], axes=ax, show=False, **kwargs)\n"
     ]
    },
    {
     "name": "stdout",
     "output_type": "stream",
     "text": [
      "No baseline correction applied\n"
     ]
    },
    {
     "name": "stderr",
     "output_type": "stream",
     "text": [
      "C:\\Users\\jz421\\Desktop\\GlobalLocal\\IEEG_Pipelines\\ieeg\\viz\\ensemble.py:141: FutureWarning: Parameters `vmin` and `vmax` are deprecated, use `vlim` instead.\n",
      "  plot_func(picks=[chan], axes=ax, show=False, **kwargs)\n",
      "C:\\Users\\jz421\\Desktop\\GlobalLocal\\IEEG_Pipelines\\ieeg\\viz\\ensemble.py:141: FutureWarning: Parameters `vmin` and `vmax` are deprecated, use `vlim` instead.\n",
      "  plot_func(picks=[chan], axes=ax, show=False, **kwargs)\n"
     ]
    },
    {
     "name": "stdout",
     "output_type": "stream",
     "text": [
      "No baseline correction applied\n",
      "No baseline correction applied\n",
      "No baseline correction applied\n"
     ]
    },
    {
     "name": "stderr",
     "output_type": "stream",
     "text": [
      "C:\\Users\\jz421\\Desktop\\GlobalLocal\\IEEG_Pipelines\\ieeg\\viz\\ensemble.py:141: FutureWarning: Parameters `vmin` and `vmax` are deprecated, use `vlim` instead.\n",
      "  plot_func(picks=[chan], axes=ax, show=False, **kwargs)\n",
      "C:\\Users\\jz421\\Desktop\\GlobalLocal\\IEEG_Pipelines\\ieeg\\viz\\ensemble.py:141: FutureWarning: Parameters `vmin` and `vmax` are deprecated, use `vlim` instead.\n",
      "  plot_func(picks=[chan], axes=ax, show=False, **kwargs)\n"
     ]
    },
    {
     "name": "stdout",
     "output_type": "stream",
     "text": [
      "No baseline correction applied\n"
     ]
    },
    {
     "name": "stderr",
     "output_type": "stream",
     "text": [
      "C:\\Users\\jz421\\Desktop\\GlobalLocal\\IEEG_Pipelines\\ieeg\\viz\\ensemble.py:141: FutureWarning: Parameters `vmin` and `vmax` are deprecated, use `vlim` instead.\n",
      "  plot_func(picks=[chan], axes=ax, show=False, **kwargs)\n"
     ]
    },
    {
     "name": "stdout",
     "output_type": "stream",
     "text": [
      "No baseline correction applied\n"
     ]
    },
    {
     "name": "stderr",
     "output_type": "stream",
     "text": [
      "C:\\Users\\jz421\\Desktop\\GlobalLocal\\IEEG_Pipelines\\ieeg\\viz\\ensemble.py:141: FutureWarning: Parameters `vmin` and `vmax` are deprecated, use `vlim` instead.\n",
      "  plot_func(picks=[chan], axes=ax, show=False, **kwargs)\n",
      "C:\\Users\\jz421\\Desktop\\GlobalLocal\\IEEG_Pipelines\\ieeg\\viz\\ensemble.py:141: FutureWarning: Parameters `vmin` and `vmax` are deprecated, use `vlim` instead.\n",
      "  plot_func(picks=[chan], axes=ax, show=False, **kwargs)\n"
     ]
    },
    {
     "name": "stdout",
     "output_type": "stream",
     "text": [
      "No baseline correction applied\n",
      "No baseline correction applied\n"
     ]
    },
    {
     "name": "stderr",
     "output_type": "stream",
     "text": [
      "C:\\Users\\jz421\\Desktop\\GlobalLocal\\IEEG_Pipelines\\ieeg\\viz\\ensemble.py:141: FutureWarning: Parameters `vmin` and `vmax` are deprecated, use `vlim` instead.\n",
      "  plot_func(picks=[chan], axes=ax, show=False, **kwargs)\n"
     ]
    },
    {
     "name": "stdout",
     "output_type": "stream",
     "text": [
      "No baseline correction applied\n",
      "No baseline correction applied\n"
     ]
    },
    {
     "name": "stderr",
     "output_type": "stream",
     "text": [
      "C:\\Users\\jz421\\Desktop\\GlobalLocal\\IEEG_Pipelines\\ieeg\\viz\\ensemble.py:141: FutureWarning: Parameters `vmin` and `vmax` are deprecated, use `vlim` instead.\n",
      "  plot_func(picks=[chan], axes=ax, show=False, **kwargs)\n",
      "C:\\Users\\jz421\\Desktop\\GlobalLocal\\IEEG_Pipelines\\ieeg\\viz\\ensemble.py:141: FutureWarning: Parameters `vmin` and `vmax` are deprecated, use `vlim` instead.\n",
      "  plot_func(picks=[chan], axes=ax, show=False, **kwargs)\n"
     ]
    },
    {
     "name": "stdout",
     "output_type": "stream",
     "text": [
      "No baseline correction applied\n",
      "No baseline correction applied\n"
     ]
    },
    {
     "name": "stderr",
     "output_type": "stream",
     "text": [
      "C:\\Users\\jz421\\Desktop\\GlobalLocal\\IEEG_Pipelines\\ieeg\\viz\\ensemble.py:141: FutureWarning: Parameters `vmin` and `vmax` are deprecated, use `vlim` instead.\n",
      "  plot_func(picks=[chan], axes=ax, show=False, **kwargs)\n",
      "C:\\Users\\jz421\\Desktop\\GlobalLocal\\IEEG_Pipelines\\ieeg\\viz\\ensemble.py:141: FutureWarning: Parameters `vmin` and `vmax` are deprecated, use `vlim` instead.\n",
      "  plot_func(picks=[chan], axes=ax, show=False, **kwargs)\n"
     ]
    },
    {
     "name": "stdout",
     "output_type": "stream",
     "text": [
      "No baseline correction applied\n",
      "No baseline correction applied\n"
     ]
    },
    {
     "name": "stderr",
     "output_type": "stream",
     "text": [
      "C:\\Users\\jz421\\Desktop\\GlobalLocal\\IEEG_Pipelines\\ieeg\\viz\\ensemble.py:141: FutureWarning: Parameters `vmin` and `vmax` are deprecated, use `vlim` instead.\n",
      "  plot_func(picks=[chan], axes=ax, show=False, **kwargs)\n",
      "C:\\Users\\jz421\\Desktop\\GlobalLocal\\IEEG_Pipelines\\ieeg\\viz\\ensemble.py:141: FutureWarning: Parameters `vmin` and `vmax` are deprecated, use `vlim` instead.\n",
      "  plot_func(picks=[chan], axes=ax, show=False, **kwargs)\n"
     ]
    },
    {
     "name": "stdout",
     "output_type": "stream",
     "text": [
      "No baseline correction applied\n",
      "No baseline correction applied\n"
     ]
    },
    {
     "name": "stderr",
     "output_type": "stream",
     "text": [
      "C:\\Users\\jz421\\Desktop\\GlobalLocal\\IEEG_Pipelines\\ieeg\\viz\\ensemble.py:141: FutureWarning: Parameters `vmin` and `vmax` are deprecated, use `vlim` instead.\n",
      "  plot_func(picks=[chan], axes=ax, show=False, **kwargs)\n",
      "C:\\Users\\jz421\\Desktop\\GlobalLocal\\IEEG_Pipelines\\ieeg\\viz\\ensemble.py:141: FutureWarning: Parameters `vmin` and `vmax` are deprecated, use `vlim` instead.\n",
      "  plot_func(picks=[chan], axes=ax, show=False, **kwargs)\n"
     ]
    },
    {
     "name": "stdout",
     "output_type": "stream",
     "text": [
      "No baseline correction applied\n"
     ]
    },
    {
     "name": "stderr",
     "output_type": "stream",
     "text": [
      "C:\\Users\\jz421\\Desktop\\GlobalLocal\\IEEG_Pipelines\\ieeg\\viz\\ensemble.py:141: FutureWarning: Parameters `vmin` and `vmax` are deprecated, use `vlim` instead.\n",
      "  plot_func(picks=[chan], axes=ax, show=False, **kwargs)\n"
     ]
    },
    {
     "name": "stdout",
     "output_type": "stream",
     "text": [
      "No baseline correction applied\n",
      "No baseline correction applied\n"
     ]
    },
    {
     "name": "stderr",
     "output_type": "stream",
     "text": [
      "C:\\Users\\jz421\\Desktop\\GlobalLocal\\IEEG_Pipelines\\ieeg\\viz\\ensemble.py:141: FutureWarning: Parameters `vmin` and `vmax` are deprecated, use `vlim` instead.\n",
      "  plot_func(picks=[chan], axes=ax, show=False, **kwargs)\n",
      "C:\\Users\\jz421\\Desktop\\GlobalLocal\\IEEG_Pipelines\\ieeg\\viz\\ensemble.py:141: FutureWarning: Parameters `vmin` and `vmax` are deprecated, use `vlim` instead.\n",
      "  plot_func(picks=[chan], axes=ax, show=False, **kwargs)\n"
     ]
    },
    {
     "name": "stdout",
     "output_type": "stream",
     "text": [
      "No baseline correction applied\n",
      "No baseline correction applied\n"
     ]
    },
    {
     "name": "stderr",
     "output_type": "stream",
     "text": [
      "C:\\Users\\jz421\\Desktop\\GlobalLocal\\IEEG_Pipelines\\ieeg\\viz\\ensemble.py:141: FutureWarning: Parameters `vmin` and `vmax` are deprecated, use `vlim` instead.\n",
      "  plot_func(picks=[chan], axes=ax, show=False, **kwargs)\n",
      "C:\\Users\\jz421\\Desktop\\GlobalLocal\\IEEG_Pipelines\\ieeg\\viz\\ensemble.py:141: FutureWarning: Parameters `vmin` and `vmax` are deprecated, use `vlim` instead.\n",
      "  plot_func(picks=[chan], axes=ax, show=False, **kwargs)\n"
     ]
    },
    {
     "name": "stdout",
     "output_type": "stream",
     "text": [
      "No baseline correction applied\n",
      "No baseline correction applied\n"
     ]
    },
    {
     "name": "stderr",
     "output_type": "stream",
     "text": [
      "C:\\Users\\jz421\\Desktop\\GlobalLocal\\IEEG_Pipelines\\ieeg\\viz\\ensemble.py:141: FutureWarning: Parameters `vmin` and `vmax` are deprecated, use `vlim` instead.\n",
      "  plot_func(picks=[chan], axes=ax, show=False, **kwargs)\n",
      "C:\\Users\\jz421\\Desktop\\GlobalLocal\\IEEG_Pipelines\\ieeg\\viz\\ensemble.py:141: FutureWarning: Parameters `vmin` and `vmax` are deprecated, use `vlim` instead.\n",
      "  plot_func(picks=[chan], axes=ax, show=False, **kwargs)\n"
     ]
    },
    {
     "name": "stdout",
     "output_type": "stream",
     "text": [
      "No baseline correction applied\n",
      "No baseline correction applied\n"
     ]
    },
    {
     "name": "stderr",
     "output_type": "stream",
     "text": [
      "C:\\Users\\jz421\\Desktop\\GlobalLocal\\IEEG_Pipelines\\ieeg\\viz\\ensemble.py:141: FutureWarning: Parameters `vmin` and `vmax` are deprecated, use `vlim` instead.\n",
      "  plot_func(picks=[chan], axes=ax, show=False, **kwargs)\n",
      "C:\\Users\\jz421\\Desktop\\GlobalLocal\\IEEG_Pipelines\\ieeg\\viz\\ensemble.py:141: FutureWarning: Parameters `vmin` and `vmax` are deprecated, use `vlim` instead.\n",
      "  plot_func(picks=[chan], axes=ax, show=False, **kwargs)\n"
     ]
    },
    {
     "name": "stdout",
     "output_type": "stream",
     "text": [
      "No baseline correction applied\n"
     ]
    },
    {
     "name": "stderr",
     "output_type": "stream",
     "text": [
      "C:\\Users\\jz421\\Desktop\\GlobalLocal\\IEEG_Pipelines\\ieeg\\viz\\ensemble.py:141: FutureWarning: Parameters `vmin` and `vmax` are deprecated, use `vlim` instead.\n",
      "  plot_func(picks=[chan], axes=ax, show=False, **kwargs)\n"
     ]
    },
    {
     "name": "stdout",
     "output_type": "stream",
     "text": [
      "No baseline correction applied\n"
     ]
    },
    {
     "name": "stderr",
     "output_type": "stream",
     "text": [
      "C:\\Users\\jz421\\Desktop\\GlobalLocal\\IEEG_Pipelines\\ieeg\\viz\\ensemble.py:141: FutureWarning: Parameters `vmin` and `vmax` are deprecated, use `vlim` instead.\n",
      "  plot_func(picks=[chan], axes=ax, show=False, **kwargs)\n"
     ]
    },
    {
     "name": "stdout",
     "output_type": "stream",
     "text": [
      "No baseline correction applied\n",
      "No baseline correction applied\n"
     ]
    },
    {
     "name": "stderr",
     "output_type": "stream",
     "text": [
      "C:\\Users\\jz421\\Desktop\\GlobalLocal\\IEEG_Pipelines\\ieeg\\viz\\ensemble.py:141: FutureWarning: Parameters `vmin` and `vmax` are deprecated, use `vlim` instead.\n",
      "  plot_func(picks=[chan], axes=ax, show=False, **kwargs)\n",
      "C:\\Users\\jz421\\Desktop\\GlobalLocal\\IEEG_Pipelines\\ieeg\\viz\\ensemble.py:141: FutureWarning: Parameters `vmin` and `vmax` are deprecated, use `vlim` instead.\n",
      "  plot_func(picks=[chan], axes=ax, show=False, **kwargs)\n"
     ]
    },
    {
     "name": "stdout",
     "output_type": "stream",
     "text": [
      "No baseline correction applied\n"
     ]
    },
    {
     "name": "stderr",
     "output_type": "stream",
     "text": [
      "C:\\Users\\jz421\\Desktop\\GlobalLocal\\IEEG_Pipelines\\ieeg\\viz\\ensemble.py:141: FutureWarning: Parameters `vmin` and `vmax` are deprecated, use `vlim` instead.\n",
      "  plot_func(picks=[chan], axes=ax, show=False, **kwargs)\n"
     ]
    },
    {
     "name": "stdout",
     "output_type": "stream",
     "text": [
      "No baseline correction applied\n"
     ]
    },
    {
     "name": "stderr",
     "output_type": "stream",
     "text": [
      "C:\\Users\\jz421\\Desktop\\GlobalLocal\\IEEG_Pipelines\\ieeg\\viz\\ensemble.py:141: FutureWarning: Parameters `vmin` and `vmax` are deprecated, use `vlim` instead.\n",
      "  plot_func(picks=[chan], axes=ax, show=False, **kwargs)\n"
     ]
    },
    {
     "name": "stdout",
     "output_type": "stream",
     "text": [
      "No baseline correction applied\n"
     ]
    },
    {
     "name": "stderr",
     "output_type": "stream",
     "text": [
      "C:\\Users\\jz421\\Desktop\\GlobalLocal\\IEEG_Pipelines\\ieeg\\viz\\ensemble.py:141: FutureWarning: Parameters `vmin` and `vmax` are deprecated, use `vlim` instead.\n",
      "  plot_func(picks=[chan], axes=ax, show=False, **kwargs)\n"
     ]
    },
    {
     "name": "stdout",
     "output_type": "stream",
     "text": [
      "No baseline correction applied\n"
     ]
    },
    {
     "name": "stderr",
     "output_type": "stream",
     "text": [
      "C:\\Users\\jz421\\Desktop\\GlobalLocal\\IEEG_Pipelines\\ieeg\\viz\\ensemble.py:141: FutureWarning: Parameters `vmin` and `vmax` are deprecated, use `vlim` instead.\n",
      "  plot_func(picks=[chan], axes=ax, show=False, **kwargs)\n"
     ]
    },
    {
     "name": "stdout",
     "output_type": "stream",
     "text": [
      "No baseline correction applied\n"
     ]
    },
    {
     "name": "stderr",
     "output_type": "stream",
     "text": [
      "C:\\Users\\jz421\\Desktop\\GlobalLocal\\IEEG_Pipelines\\ieeg\\viz\\ensemble.py:141: FutureWarning: Parameters `vmin` and `vmax` are deprecated, use `vlim` instead.\n",
      "  plot_func(picks=[chan], axes=ax, show=False, **kwargs)\n"
     ]
    },
    {
     "name": "stdout",
     "output_type": "stream",
     "text": [
      "No baseline correction applied\n"
     ]
    },
    {
     "name": "stderr",
     "output_type": "stream",
     "text": [
      "C:\\Users\\jz421\\Desktop\\GlobalLocal\\IEEG_Pipelines\\ieeg\\viz\\ensemble.py:141: FutureWarning: Parameters `vmin` and `vmax` are deprecated, use `vlim` instead.\n",
      "  plot_func(picks=[chan], axes=ax, show=False, **kwargs)\n"
     ]
    },
    {
     "name": "stdout",
     "output_type": "stream",
     "text": [
      "No baseline correction applied\n"
     ]
    },
    {
     "name": "stderr",
     "output_type": "stream",
     "text": [
      "C:\\Users\\jz421\\Desktop\\GlobalLocal\\IEEG_Pipelines\\ieeg\\viz\\ensemble.py:141: FutureWarning: Parameters `vmin` and `vmax` are deprecated, use `vlim` instead.\n",
      "  plot_func(picks=[chan], axes=ax, show=False, **kwargs)\n"
     ]
    },
    {
     "name": "stdout",
     "output_type": "stream",
     "text": [
      "No baseline correction applied\n"
     ]
    },
    {
     "name": "stderr",
     "output_type": "stream",
     "text": [
      "C:\\Users\\jz421\\Desktop\\GlobalLocal\\IEEG_Pipelines\\ieeg\\viz\\ensemble.py:141: FutureWarning: Parameters `vmin` and `vmax` are deprecated, use `vlim` instead.\n",
      "  plot_func(picks=[chan], axes=ax, show=False, **kwargs)\n"
     ]
    },
    {
     "name": "stdout",
     "output_type": "stream",
     "text": [
      "No baseline correction applied\n"
     ]
    },
    {
     "name": "stderr",
     "output_type": "stream",
     "text": [
      "C:\\Users\\jz421\\Desktop\\GlobalLocal\\IEEG_Pipelines\\ieeg\\viz\\ensemble.py:141: FutureWarning: Parameters `vmin` and `vmax` are deprecated, use `vlim` instead.\n",
      "  plot_func(picks=[chan], axes=ax, show=False, **kwargs)\n"
     ]
    },
    {
     "name": "stdout",
     "output_type": "stream",
     "text": [
      "No baseline correction applied\n"
     ]
    },
    {
     "name": "stderr",
     "output_type": "stream",
     "text": [
      "C:\\Users\\jz421\\Desktop\\GlobalLocal\\IEEG_Pipelines\\ieeg\\viz\\ensemble.py:141: FutureWarning: Parameters `vmin` and `vmax` are deprecated, use `vlim` instead.\n",
      "  plot_func(picks=[chan], axes=ax, show=False, **kwargs)\n"
     ]
    },
    {
     "name": "stdout",
     "output_type": "stream",
     "text": [
      "No baseline correction applied\n"
     ]
    },
    {
     "name": "stderr",
     "output_type": "stream",
     "text": [
      "C:\\Users\\jz421\\Desktop\\GlobalLocal\\IEEG_Pipelines\\ieeg\\viz\\ensemble.py:141: FutureWarning: Parameters `vmin` and `vmax` are deprecated, use `vlim` instead.\n",
      "  plot_func(picks=[chan], axes=ax, show=False, **kwargs)\n",
      "C:\\Users\\jz421\\Desktop\\GlobalLocal\\IEEG_Pipelines\\ieeg\\viz\\ensemble.py:141: FutureWarning: Parameters `vmin` and `vmax` are deprecated, use `vlim` instead.\n",
      "  plot_func(picks=[chan], axes=ax, show=False, **kwargs)\n"
     ]
    },
    {
     "name": "stdout",
     "output_type": "stream",
     "text": [
      "No baseline correction applied\n",
      "No baseline correction applied\n"
     ]
    },
    {
     "name": "stderr",
     "output_type": "stream",
     "text": [
      "C:\\Users\\jz421\\Desktop\\GlobalLocal\\IEEG_Pipelines\\ieeg\\viz\\ensemble.py:141: FutureWarning: Parameters `vmin` and `vmax` are deprecated, use `vlim` instead.\n",
      "  plot_func(picks=[chan], axes=ax, show=False, **kwargs)\n",
      "C:\\Users\\jz421\\Desktop\\GlobalLocal\\IEEG_Pipelines\\ieeg\\viz\\ensemble.py:141: FutureWarning: Parameters `vmin` and `vmax` are deprecated, use `vlim` instead.\n",
      "  plot_func(picks=[chan], axes=ax, show=False, **kwargs)\n"
     ]
    },
    {
     "name": "stdout",
     "output_type": "stream",
     "text": [
      "No baseline correction applied\n",
      "No baseline correction applied\n"
     ]
    },
    {
     "name": "stderr",
     "output_type": "stream",
     "text": [
      "C:\\Users\\jz421\\Desktop\\GlobalLocal\\IEEG_Pipelines\\ieeg\\viz\\ensemble.py:141: FutureWarning: Parameters `vmin` and `vmax` are deprecated, use `vlim` instead.\n",
      "  plot_func(picks=[chan], axes=ax, show=False, **kwargs)\n",
      "C:\\Users\\jz421\\Desktop\\GlobalLocal\\IEEG_Pipelines\\ieeg\\viz\\ensemble.py:141: FutureWarning: Parameters `vmin` and `vmax` are deprecated, use `vlim` instead.\n",
      "  plot_func(picks=[chan], axes=ax, show=False, **kwargs)\n"
     ]
    },
    {
     "name": "stdout",
     "output_type": "stream",
     "text": [
      "No baseline correction applied\n",
      "No baseline correction applied\n"
     ]
    },
    {
     "name": "stderr",
     "output_type": "stream",
     "text": [
      "C:\\Users\\jz421\\Desktop\\GlobalLocal\\IEEG_Pipelines\\ieeg\\viz\\ensemble.py:141: FutureWarning: Parameters `vmin` and `vmax` are deprecated, use `vlim` instead.\n",
      "  plot_func(picks=[chan], axes=ax, show=False, **kwargs)\n"
     ]
    },
    {
     "name": "stdout",
     "output_type": "stream",
     "text": [
      "No baseline correction applied\n"
     ]
    },
    {
     "name": "stderr",
     "output_type": "stream",
     "text": [
      "C:\\Users\\jz421\\Desktop\\GlobalLocal\\IEEG_Pipelines\\ieeg\\viz\\ensemble.py:141: FutureWarning: Parameters `vmin` and `vmax` are deprecated, use `vlim` instead.\n",
      "  plot_func(picks=[chan], axes=ax, show=False, **kwargs)\n"
     ]
    },
    {
     "name": "stdout",
     "output_type": "stream",
     "text": [
      "No baseline correction applied\n"
     ]
    },
    {
     "name": "stderr",
     "output_type": "stream",
     "text": [
      "C:\\Users\\jz421\\Desktop\\GlobalLocal\\IEEG_Pipelines\\ieeg\\viz\\ensemble.py:141: FutureWarning: Parameters `vmin` and `vmax` are deprecated, use `vlim` instead.\n",
      "  plot_func(picks=[chan], axes=ax, show=False, **kwargs)\n"
     ]
    },
    {
     "name": "stdout",
     "output_type": "stream",
     "text": [
      "No baseline correction applied\n"
     ]
    },
    {
     "name": "stderr",
     "output_type": "stream",
     "text": [
      "C:\\Users\\jz421\\Desktop\\GlobalLocal\\IEEG_Pipelines\\ieeg\\viz\\ensemble.py:141: FutureWarning: Parameters `vmin` and `vmax` are deprecated, use `vlim` instead.\n",
      "  plot_func(picks=[chan], axes=ax, show=False, **kwargs)\n"
     ]
    },
    {
     "name": "stdout",
     "output_type": "stream",
     "text": [
      "No baseline correction applied\n"
     ]
    },
    {
     "name": "stderr",
     "output_type": "stream",
     "text": [
      "C:\\Users\\jz421\\Desktop\\GlobalLocal\\IEEG_Pipelines\\ieeg\\viz\\ensemble.py:141: FutureWarning: Parameters `vmin` and `vmax` are deprecated, use `vlim` instead.\n",
      "  plot_func(picks=[chan], axes=ax, show=False, **kwargs)\n"
     ]
    },
    {
     "name": "stdout",
     "output_type": "stream",
     "text": [
      "No baseline correction applied\n"
     ]
    },
    {
     "name": "stderr",
     "output_type": "stream",
     "text": [
      "C:\\Users\\jz421\\Desktop\\GlobalLocal\\IEEG_Pipelines\\ieeg\\viz\\ensemble.py:141: FutureWarning: Parameters `vmin` and `vmax` are deprecated, use `vlim` instead.\n",
      "  plot_func(picks=[chan], axes=ax, show=False, **kwargs)\n"
     ]
    },
    {
     "name": "stdout",
     "output_type": "stream",
     "text": [
      "No baseline correction applied\n"
     ]
    },
    {
     "name": "stderr",
     "output_type": "stream",
     "text": [
      "C:\\Users\\jz421\\Desktop\\GlobalLocal\\IEEG_Pipelines\\ieeg\\viz\\ensemble.py:141: FutureWarning: Parameters `vmin` and `vmax` are deprecated, use `vlim` instead.\n",
      "  plot_func(picks=[chan], axes=ax, show=False, **kwargs)\n"
     ]
    },
    {
     "name": "stdout",
     "output_type": "stream",
     "text": [
      "No baseline correction applied\n"
     ]
    },
    {
     "name": "stderr",
     "output_type": "stream",
     "text": [
      "C:\\Users\\jz421\\Desktop\\GlobalLocal\\IEEG_Pipelines\\ieeg\\viz\\ensemble.py:141: FutureWarning: Parameters `vmin` and `vmax` are deprecated, use `vlim` instead.\n",
      "  plot_func(picks=[chan], axes=ax, show=False, **kwargs)\n"
     ]
    },
    {
     "name": "stdout",
     "output_type": "stream",
     "text": [
      "No baseline correction applied\n"
     ]
    },
    {
     "name": "stderr",
     "output_type": "stream",
     "text": [
      "C:\\Users\\jz421\\Desktop\\GlobalLocal\\IEEG_Pipelines\\ieeg\\viz\\ensemble.py:141: FutureWarning: Parameters `vmin` and `vmax` are deprecated, use `vlim` instead.\n",
      "  plot_func(picks=[chan], axes=ax, show=False, **kwargs)\n"
     ]
    },
    {
     "name": "stdout",
     "output_type": "stream",
     "text": [
      "No baseline correction applied\n"
     ]
    },
    {
     "name": "stderr",
     "output_type": "stream",
     "text": [
      "C:\\Users\\jz421\\Desktop\\GlobalLocal\\IEEG_Pipelines\\ieeg\\viz\\ensemble.py:141: FutureWarning: Parameters `vmin` and `vmax` are deprecated, use `vlim` instead.\n",
      "  plot_func(picks=[chan], axes=ax, show=False, **kwargs)\n"
     ]
    },
    {
     "name": "stdout",
     "output_type": "stream",
     "text": [
      "No baseline correction applied\n"
     ]
    },
    {
     "name": "stderr",
     "output_type": "stream",
     "text": [
      "C:\\Users\\jz421\\Desktop\\GlobalLocal\\IEEG_Pipelines\\ieeg\\viz\\ensemble.py:141: FutureWarning: Parameters `vmin` and `vmax` are deprecated, use `vlim` instead.\n",
      "  plot_func(picks=[chan], axes=ax, show=False, **kwargs)\n"
     ]
    },
    {
     "name": "stdout",
     "output_type": "stream",
     "text": [
      "No baseline correction applied\n"
     ]
    },
    {
     "name": "stderr",
     "output_type": "stream",
     "text": [
      "C:\\Users\\jz421\\Desktop\\GlobalLocal\\IEEG_Pipelines\\ieeg\\viz\\ensemble.py:141: FutureWarning: Parameters `vmin` and `vmax` are deprecated, use `vlim` instead.\n",
      "  plot_func(picks=[chan], axes=ax, show=False, **kwargs)\n"
     ]
    },
    {
     "name": "stdout",
     "output_type": "stream",
     "text": [
      "No baseline correction applied\n"
     ]
    },
    {
     "name": "stderr",
     "output_type": "stream",
     "text": [
      "C:\\Users\\jz421\\Desktop\\GlobalLocal\\IEEG_Pipelines\\ieeg\\viz\\ensemble.py:141: FutureWarning: Parameters `vmin` and `vmax` are deprecated, use `vlim` instead.\n",
      "  plot_func(picks=[chan], axes=ax, show=False, **kwargs)\n"
     ]
    },
    {
     "name": "stdout",
     "output_type": "stream",
     "text": [
      "No baseline correction applied\n"
     ]
    },
    {
     "name": "stderr",
     "output_type": "stream",
     "text": [
      "C:\\Users\\jz421\\Desktop\\GlobalLocal\\IEEG_Pipelines\\ieeg\\viz\\ensemble.py:141: FutureWarning: Parameters `vmin` and `vmax` are deprecated, use `vlim` instead.\n",
      "  plot_func(picks=[chan], axes=ax, show=False, **kwargs)\n"
     ]
    },
    {
     "name": "stdout",
     "output_type": "stream",
     "text": [
      "No baseline correction applied\n"
     ]
    },
    {
     "name": "stderr",
     "output_type": "stream",
     "text": [
      "C:\\Users\\jz421\\Desktop\\GlobalLocal\\IEEG_Pipelines\\ieeg\\viz\\ensemble.py:141: FutureWarning: Parameters `vmin` and `vmax` are deprecated, use `vlim` instead.\n",
      "  plot_func(picks=[chan], axes=ax, show=False, **kwargs)\n"
     ]
    },
    {
     "name": "stdout",
     "output_type": "stream",
     "text": [
      "No baseline correction applied\n"
     ]
    },
    {
     "name": "stderr",
     "output_type": "stream",
     "text": [
      "C:\\Users\\jz421\\Desktop\\GlobalLocal\\IEEG_Pipelines\\ieeg\\viz\\ensemble.py:141: FutureWarning: Parameters `vmin` and `vmax` are deprecated, use `vlim` instead.\n",
      "  plot_func(picks=[chan], axes=ax, show=False, **kwargs)\n"
     ]
    },
    {
     "name": "stdout",
     "output_type": "stream",
     "text": [
      "No baseline correction applied\n"
     ]
    },
    {
     "name": "stderr",
     "output_type": "stream",
     "text": [
      "C:\\Users\\jz421\\Desktop\\GlobalLocal\\IEEG_Pipelines\\ieeg\\viz\\ensemble.py:141: FutureWarning: Parameters `vmin` and `vmax` are deprecated, use `vlim` instead.\n",
      "  plot_func(picks=[chan], axes=ax, show=False, **kwargs)\n"
     ]
    },
    {
     "name": "stdout",
     "output_type": "stream",
     "text": [
      "No baseline correction applied\n"
     ]
    },
    {
     "name": "stderr",
     "output_type": "stream",
     "text": [
      "C:\\Users\\jz421\\Desktop\\GlobalLocal\\IEEG_Pipelines\\ieeg\\viz\\ensemble.py:141: FutureWarning: Parameters `vmin` and `vmax` are deprecated, use `vlim` instead.\n",
      "  plot_func(picks=[chan], axes=ax, show=False, **kwargs)\n"
     ]
    },
    {
     "name": "stdout",
     "output_type": "stream",
     "text": [
      "No baseline correction applied\n"
     ]
    },
    {
     "name": "stderr",
     "output_type": "stream",
     "text": [
      "C:\\Users\\jz421\\Desktop\\GlobalLocal\\IEEG_Pipelines\\ieeg\\viz\\ensemble.py:141: FutureWarning: Parameters `vmin` and `vmax` are deprecated, use `vlim` instead.\n",
      "  plot_func(picks=[chan], axes=ax, show=False, **kwargs)\n"
     ]
    },
    {
     "name": "stdout",
     "output_type": "stream",
     "text": [
      "No baseline correction applied\n"
     ]
    },
    {
     "name": "stderr",
     "output_type": "stream",
     "text": [
      "C:\\Users\\jz421\\Desktop\\GlobalLocal\\IEEG_Pipelines\\ieeg\\viz\\ensemble.py:141: FutureWarning: Parameters `vmin` and `vmax` are deprecated, use `vlim` instead.\n",
      "  plot_func(picks=[chan], axes=ax, show=False, **kwargs)\n"
     ]
    },
    {
     "name": "stdout",
     "output_type": "stream",
     "text": [
      "No baseline correction applied\n"
     ]
    },
    {
     "name": "stderr",
     "output_type": "stream",
     "text": [
      "C:\\Users\\jz421\\Desktop\\GlobalLocal\\IEEG_Pipelines\\ieeg\\viz\\ensemble.py:141: FutureWarning: Parameters `vmin` and `vmax` are deprecated, use `vlim` instead.\n",
      "  plot_func(picks=[chan], axes=ax, show=False, **kwargs)\n"
     ]
    },
    {
     "name": "stdout",
     "output_type": "stream",
     "text": [
      "No baseline correction applied\n"
     ]
    },
    {
     "name": "stderr",
     "output_type": "stream",
     "text": [
      "C:\\Users\\jz421\\Desktop\\GlobalLocal\\IEEG_Pipelines\\ieeg\\viz\\ensemble.py:141: FutureWarning: Parameters `vmin` and `vmax` are deprecated, use `vlim` instead.\n",
      "  plot_func(picks=[chan], axes=ax, show=False, **kwargs)\n"
     ]
    },
    {
     "name": "stdout",
     "output_type": "stream",
     "text": [
      "No baseline correction applied\n"
     ]
    },
    {
     "name": "stderr",
     "output_type": "stream",
     "text": [
      "C:\\Users\\jz421\\Desktop\\GlobalLocal\\IEEG_Pipelines\\ieeg\\viz\\ensemble.py:141: FutureWarning: Parameters `vmin` and `vmax` are deprecated, use `vlim` instead.\n",
      "  plot_func(picks=[chan], axes=ax, show=False, **kwargs)\n",
      "C:\\Users\\jz421\\Desktop\\GlobalLocal\\IEEG_Pipelines\\ieeg\\viz\\ensemble.py:141: FutureWarning: Parameters `vmin` and `vmax` are deprecated, use `vlim` instead.\n",
      "  plot_func(picks=[chan], axes=ax, show=False, **kwargs)\n"
     ]
    },
    {
     "name": "stdout",
     "output_type": "stream",
     "text": [
      "No baseline correction applied\n",
      "No baseline correction applied\n"
     ]
    },
    {
     "name": "stderr",
     "output_type": "stream",
     "text": [
      "C:\\Users\\jz421\\Desktop\\GlobalLocal\\IEEG_Pipelines\\ieeg\\viz\\ensemble.py:141: FutureWarning: Parameters `vmin` and `vmax` are deprecated, use `vlim` instead.\n",
      "  plot_func(picks=[chan], axes=ax, show=False, **kwargs)\n"
     ]
    },
    {
     "name": "stdout",
     "output_type": "stream",
     "text": [
      "No baseline correction applied\n"
     ]
    },
    {
     "name": "stderr",
     "output_type": "stream",
     "text": [
      "C:\\Users\\jz421\\Desktop\\GlobalLocal\\IEEG_Pipelines\\ieeg\\viz\\ensemble.py:141: FutureWarning: Parameters `vmin` and `vmax` are deprecated, use `vlim` instead.\n",
      "  plot_func(picks=[chan], axes=ax, show=False, **kwargs)\n"
     ]
    },
    {
     "name": "stdout",
     "output_type": "stream",
     "text": [
      "No baseline correction applied\n"
     ]
    },
    {
     "name": "stderr",
     "output_type": "stream",
     "text": [
      "C:\\Users\\jz421\\Desktop\\GlobalLocal\\IEEG_Pipelines\\ieeg\\viz\\ensemble.py:141: FutureWarning: Parameters `vmin` and `vmax` are deprecated, use `vlim` instead.\n",
      "  plot_func(picks=[chan], axes=ax, show=False, **kwargs)\n"
     ]
    },
    {
     "name": "stdout",
     "output_type": "stream",
     "text": [
      "No baseline correction applied\n"
     ]
    },
    {
     "name": "stderr",
     "output_type": "stream",
     "text": [
      "C:\\Users\\jz421\\Desktop\\GlobalLocal\\IEEG_Pipelines\\ieeg\\viz\\ensemble.py:141: FutureWarning: Parameters `vmin` and `vmax` are deprecated, use `vlim` instead.\n",
      "  plot_func(picks=[chan], axes=ax, show=False, **kwargs)\n"
     ]
    },
    {
     "name": "stdout",
     "output_type": "stream",
     "text": [
      "No baseline correction applied\n"
     ]
    },
    {
     "name": "stderr",
     "output_type": "stream",
     "text": [
      "C:\\Users\\jz421\\Desktop\\GlobalLocal\\IEEG_Pipelines\\ieeg\\viz\\ensemble.py:141: FutureWarning: Parameters `vmin` and `vmax` are deprecated, use `vlim` instead.\n",
      "  plot_func(picks=[chan], axes=ax, show=False, **kwargs)\n"
     ]
    },
    {
     "name": "stdout",
     "output_type": "stream",
     "text": [
      "No baseline correction applied\n"
     ]
    },
    {
     "name": "stderr",
     "output_type": "stream",
     "text": [
      "C:\\Users\\jz421\\Desktop\\GlobalLocal\\IEEG_Pipelines\\ieeg\\viz\\ensemble.py:141: FutureWarning: Parameters `vmin` and `vmax` are deprecated, use `vlim` instead.\n",
      "  plot_func(picks=[chan], axes=ax, show=False, **kwargs)\n"
     ]
    },
    {
     "name": "stdout",
     "output_type": "stream",
     "text": [
      "No baseline correction applied\n"
     ]
    },
    {
     "name": "stderr",
     "output_type": "stream",
     "text": [
      "C:\\Users\\jz421\\Desktop\\GlobalLocal\\IEEG_Pipelines\\ieeg\\viz\\ensemble.py:141: FutureWarning: Parameters `vmin` and `vmax` are deprecated, use `vlim` instead.\n",
      "  plot_func(picks=[chan], axes=ax, show=False, **kwargs)\n"
     ]
    },
    {
     "name": "stdout",
     "output_type": "stream",
     "text": [
      "No baseline correction applied\n"
     ]
    },
    {
     "name": "stderr",
     "output_type": "stream",
     "text": [
      "C:\\Users\\jz421\\Desktop\\GlobalLocal\\IEEG_Pipelines\\ieeg\\viz\\ensemble.py:141: FutureWarning: Parameters `vmin` and `vmax` are deprecated, use `vlim` instead.\n",
      "  plot_func(picks=[chan], axes=ax, show=False, **kwargs)\n"
     ]
    },
    {
     "name": "stdout",
     "output_type": "stream",
     "text": [
      "No baseline correction applied\n"
     ]
    },
    {
     "name": "stderr",
     "output_type": "stream",
     "text": [
      "C:\\Users\\jz421\\Desktop\\GlobalLocal\\IEEG_Pipelines\\ieeg\\viz\\ensemble.py:141: FutureWarning: Parameters `vmin` and `vmax` are deprecated, use `vlim` instead.\n",
      "  plot_func(picks=[chan], axes=ax, show=False, **kwargs)\n"
     ]
    },
    {
     "name": "stdout",
     "output_type": "stream",
     "text": [
      "No baseline correction applied\n"
     ]
    },
    {
     "name": "stderr",
     "output_type": "stream",
     "text": [
      "C:\\Users\\jz421\\Desktop\\GlobalLocal\\IEEG_Pipelines\\ieeg\\viz\\ensemble.py:141: FutureWarning: Parameters `vmin` and `vmax` are deprecated, use `vlim` instead.\n",
      "  plot_func(picks=[chan], axes=ax, show=False, **kwargs)\n"
     ]
    },
    {
     "name": "stdout",
     "output_type": "stream",
     "text": [
      "No baseline correction applied\n"
     ]
    },
    {
     "name": "stderr",
     "output_type": "stream",
     "text": [
      "C:\\Users\\jz421\\Desktop\\GlobalLocal\\IEEG_Pipelines\\ieeg\\viz\\ensemble.py:141: FutureWarning: Parameters `vmin` and `vmax` are deprecated, use `vlim` instead.\n",
      "  plot_func(picks=[chan], axes=ax, show=False, **kwargs)\n"
     ]
    },
    {
     "name": "stdout",
     "output_type": "stream",
     "text": [
      "No baseline correction applied\n"
     ]
    },
    {
     "name": "stderr",
     "output_type": "stream",
     "text": [
      "C:\\Users\\jz421\\Desktop\\GlobalLocal\\IEEG_Pipelines\\ieeg\\viz\\ensemble.py:141: FutureWarning: Parameters `vmin` and `vmax` are deprecated, use `vlim` instead.\n",
      "  plot_func(picks=[chan], axes=ax, show=False, **kwargs)\n"
     ]
    },
    {
     "name": "stdout",
     "output_type": "stream",
     "text": [
      "No baseline correction applied\n"
     ]
    },
    {
     "name": "stderr",
     "output_type": "stream",
     "text": [
      "C:\\Users\\jz421\\Desktop\\GlobalLocal\\IEEG_Pipelines\\ieeg\\viz\\ensemble.py:141: FutureWarning: Parameters `vmin` and `vmax` are deprecated, use `vlim` instead.\n",
      "  plot_func(picks=[chan], axes=ax, show=False, **kwargs)\n"
     ]
    },
    {
     "name": "stdout",
     "output_type": "stream",
     "text": [
      "No baseline correction applied\n"
     ]
    },
    {
     "name": "stderr",
     "output_type": "stream",
     "text": [
      "C:\\Users\\jz421\\Desktop\\GlobalLocal\\IEEG_Pipelines\\ieeg\\viz\\ensemble.py:141: FutureWarning: Parameters `vmin` and `vmax` are deprecated, use `vlim` instead.\n",
      "  plot_func(picks=[chan], axes=ax, show=False, **kwargs)\n"
     ]
    },
    {
     "name": "stdout",
     "output_type": "stream",
     "text": [
      "No baseline correction applied\n"
     ]
    },
    {
     "name": "stderr",
     "output_type": "stream",
     "text": [
      "C:\\Users\\jz421\\Desktop\\GlobalLocal\\IEEG_Pipelines\\ieeg\\viz\\ensemble.py:141: FutureWarning: Parameters `vmin` and `vmax` are deprecated, use `vlim` instead.\n",
      "  plot_func(picks=[chan], axes=ax, show=False, **kwargs)\n"
     ]
    },
    {
     "name": "stdout",
     "output_type": "stream",
     "text": [
      "No baseline correction applied\n"
     ]
    },
    {
     "name": "stderr",
     "output_type": "stream",
     "text": [
      "C:\\Users\\jz421\\Desktop\\GlobalLocal\\IEEG_Pipelines\\ieeg\\viz\\ensemble.py:141: FutureWarning: Parameters `vmin` and `vmax` are deprecated, use `vlim` instead.\n",
      "  plot_func(picks=[chan], axes=ax, show=False, **kwargs)\n"
     ]
    },
    {
     "name": "stdout",
     "output_type": "stream",
     "text": [
      "No baseline correction applied\n"
     ]
    },
    {
     "name": "stderr",
     "output_type": "stream",
     "text": [
      "C:\\Users\\jz421\\Desktop\\GlobalLocal\\IEEG_Pipelines\\ieeg\\viz\\ensemble.py:141: FutureWarning: Parameters `vmin` and `vmax` are deprecated, use `vlim` instead.\n",
      "  plot_func(picks=[chan], axes=ax, show=False, **kwargs)\n"
     ]
    },
    {
     "name": "stdout",
     "output_type": "stream",
     "text": [
      "No baseline correction applied\n"
     ]
    },
    {
     "name": "stderr",
     "output_type": "stream",
     "text": [
      "C:\\Users\\jz421\\Desktop\\GlobalLocal\\IEEG_Pipelines\\ieeg\\viz\\ensemble.py:141: FutureWarning: Parameters `vmin` and `vmax` are deprecated, use `vlim` instead.\n",
      "  plot_func(picks=[chan], axes=ax, show=False, **kwargs)\n"
     ]
    },
    {
     "name": "stdout",
     "output_type": "stream",
     "text": [
      "No baseline correction applied\n"
     ]
    },
    {
     "name": "stderr",
     "output_type": "stream",
     "text": [
      "C:\\Users\\jz421\\Desktop\\GlobalLocal\\IEEG_Pipelines\\ieeg\\viz\\ensemble.py:141: FutureWarning: Parameters `vmin` and `vmax` are deprecated, use `vlim` instead.\n",
      "  plot_func(picks=[chan], axes=ax, show=False, **kwargs)\n"
     ]
    },
    {
     "name": "stdout",
     "output_type": "stream",
     "text": [
      "No baseline correction applied\n"
     ]
    },
    {
     "name": "stderr",
     "output_type": "stream",
     "text": [
      "C:\\Users\\jz421\\Desktop\\GlobalLocal\\IEEG_Pipelines\\ieeg\\viz\\ensemble.py:141: FutureWarning: Parameters `vmin` and `vmax` are deprecated, use `vlim` instead.\n",
      "  plot_func(picks=[chan], axes=ax, show=False, **kwargs)\n"
     ]
    },
    {
     "name": "stdout",
     "output_type": "stream",
     "text": [
      "No baseline correction applied\n"
     ]
    },
    {
     "name": "stderr",
     "output_type": "stream",
     "text": [
      "C:\\Users\\jz421\\Desktop\\GlobalLocal\\IEEG_Pipelines\\ieeg\\viz\\ensemble.py:141: FutureWarning: Parameters `vmin` and `vmax` are deprecated, use `vlim` instead.\n",
      "  plot_func(picks=[chan], axes=ax, show=False, **kwargs)\n"
     ]
    },
    {
     "name": "stdout",
     "output_type": "stream",
     "text": [
      "No baseline correction applied\n"
     ]
    },
    {
     "name": "stderr",
     "output_type": "stream",
     "text": [
      "C:\\Users\\jz421\\Desktop\\GlobalLocal\\IEEG_Pipelines\\ieeg\\viz\\ensemble.py:141: FutureWarning: Parameters `vmin` and `vmax` are deprecated, use `vlim` instead.\n",
      "  plot_func(picks=[chan], axes=ax, show=False, **kwargs)\n"
     ]
    },
    {
     "name": "stdout",
     "output_type": "stream",
     "text": [
      "No baseline correction applied\n"
     ]
    },
    {
     "name": "stderr",
     "output_type": "stream",
     "text": [
      "C:\\Users\\jz421\\Desktop\\GlobalLocal\\IEEG_Pipelines\\ieeg\\viz\\ensemble.py:141: FutureWarning: Parameters `vmin` and `vmax` are deprecated, use `vlim` instead.\n",
      "  plot_func(picks=[chan], axes=ax, show=False, **kwargs)\n"
     ]
    },
    {
     "name": "stdout",
     "output_type": "stream",
     "text": [
      "No baseline correction applied\n"
     ]
    },
    {
     "name": "stderr",
     "output_type": "stream",
     "text": [
      "C:\\Users\\jz421\\Desktop\\GlobalLocal\\IEEG_Pipelines\\ieeg\\viz\\ensemble.py:141: FutureWarning: Parameters `vmin` and `vmax` are deprecated, use `vlim` instead.\n",
      "  plot_func(picks=[chan], axes=ax, show=False, **kwargs)\n"
     ]
    },
    {
     "name": "stdout",
     "output_type": "stream",
     "text": [
      "No baseline correction applied\n"
     ]
    },
    {
     "name": "stderr",
     "output_type": "stream",
     "text": [
      "C:\\Users\\jz421\\Desktop\\GlobalLocal\\IEEG_Pipelines\\ieeg\\viz\\ensemble.py:141: FutureWarning: Parameters `vmin` and `vmax` are deprecated, use `vlim` instead.\n",
      "  plot_func(picks=[chan], axes=ax, show=False, **kwargs)\n"
     ]
    },
    {
     "name": "stdout",
     "output_type": "stream",
     "text": [
      "No baseline correction applied\n"
     ]
    },
    {
     "name": "stderr",
     "output_type": "stream",
     "text": [
      "C:\\Users\\jz421\\Desktop\\GlobalLocal\\IEEG_Pipelines\\ieeg\\viz\\ensemble.py:141: FutureWarning: Parameters `vmin` and `vmax` are deprecated, use `vlim` instead.\n",
      "  plot_func(picks=[chan], axes=ax, show=False, **kwargs)\n"
     ]
    },
    {
     "name": "stdout",
     "output_type": "stream",
     "text": [
      "No baseline correction applied\n"
     ]
    },
    {
     "name": "stderr",
     "output_type": "stream",
     "text": [
      "C:\\Users\\jz421\\Desktop\\GlobalLocal\\IEEG_Pipelines\\ieeg\\viz\\ensemble.py:141: FutureWarning: Parameters `vmin` and `vmax` are deprecated, use `vlim` instead.\n",
      "  plot_func(picks=[chan], axes=ax, show=False, **kwargs)\n"
     ]
    },
    {
     "name": "stdout",
     "output_type": "stream",
     "text": [
      "No baseline correction applied\n"
     ]
    },
    {
     "name": "stderr",
     "output_type": "stream",
     "text": [
      "C:\\Users\\jz421\\Desktop\\GlobalLocal\\IEEG_Pipelines\\ieeg\\viz\\ensemble.py:141: FutureWarning: Parameters `vmin` and `vmax` are deprecated, use `vlim` instead.\n",
      "  plot_func(picks=[chan], axes=ax, show=False, **kwargs)\n"
     ]
    },
    {
     "name": "stdout",
     "output_type": "stream",
     "text": [
      "No baseline correction applied\n"
     ]
    },
    {
     "name": "stderr",
     "output_type": "stream",
     "text": [
      "C:\\Users\\jz421\\Desktop\\GlobalLocal\\IEEG_Pipelines\\ieeg\\viz\\ensemble.py:141: FutureWarning: Parameters `vmin` and `vmax` are deprecated, use `vlim` instead.\n",
      "  plot_func(picks=[chan], axes=ax, show=False, **kwargs)\n"
     ]
    },
    {
     "name": "stdout",
     "output_type": "stream",
     "text": [
      "No baseline correction applied\n"
     ]
    },
    {
     "name": "stderr",
     "output_type": "stream",
     "text": [
      "C:\\Users\\jz421\\Desktop\\GlobalLocal\\IEEG_Pipelines\\ieeg\\viz\\ensemble.py:141: FutureWarning: Parameters `vmin` and `vmax` are deprecated, use `vlim` instead.\n",
      "  plot_func(picks=[chan], axes=ax, show=False, **kwargs)\n"
     ]
    },
    {
     "name": "stdout",
     "output_type": "stream",
     "text": [
      "No baseline correction applied\n"
     ]
    },
    {
     "name": "stderr",
     "output_type": "stream",
     "text": [
      "C:\\Users\\jz421\\Desktop\\GlobalLocal\\IEEG_Pipelines\\ieeg\\viz\\ensemble.py:141: FutureWarning: Parameters `vmin` and `vmax` are deprecated, use `vlim` instead.\n",
      "  plot_func(picks=[chan], axes=ax, show=False, **kwargs)\n"
     ]
    },
    {
     "name": "stdout",
     "output_type": "stream",
     "text": [
      "No baseline correction applied\n"
     ]
    },
    {
     "name": "stderr",
     "output_type": "stream",
     "text": [
      "C:\\Users\\jz421\\Desktop\\GlobalLocal\\IEEG_Pipelines\\ieeg\\viz\\ensemble.py:141: FutureWarning: Parameters `vmin` and `vmax` are deprecated, use `vlim` instead.\n",
      "  plot_func(picks=[chan], axes=ax, show=False, **kwargs)\n"
     ]
    },
    {
     "name": "stdout",
     "output_type": "stream",
     "text": [
      "No baseline correction applied\n"
     ]
    },
    {
     "name": "stderr",
     "output_type": "stream",
     "text": [
      "C:\\Users\\jz421\\Desktop\\GlobalLocal\\IEEG_Pipelines\\ieeg\\viz\\ensemble.py:141: FutureWarning: Parameters `vmin` and `vmax` are deprecated, use `vlim` instead.\n",
      "  plot_func(picks=[chan], axes=ax, show=False, **kwargs)\n"
     ]
    },
    {
     "name": "stdout",
     "output_type": "stream",
     "text": [
      "No baseline correction applied\n"
     ]
    },
    {
     "name": "stderr",
     "output_type": "stream",
     "text": [
      "C:\\Users\\jz421\\Desktop\\GlobalLocal\\IEEG_Pipelines\\ieeg\\viz\\ensemble.py:141: FutureWarning: Parameters `vmin` and `vmax` are deprecated, use `vlim` instead.\n",
      "  plot_func(picks=[chan], axes=ax, show=False, **kwargs)\n"
     ]
    },
    {
     "name": "stdout",
     "output_type": "stream",
     "text": [
      "No baseline correction applied\n"
     ]
    },
    {
     "name": "stderr",
     "output_type": "stream",
     "text": [
      "C:\\Users\\jz421\\Desktop\\GlobalLocal\\IEEG_Pipelines\\ieeg\\viz\\ensemble.py:141: FutureWarning: Parameters `vmin` and `vmax` are deprecated, use `vlim` instead.\n",
      "  plot_func(picks=[chan], axes=ax, show=False, **kwargs)\n"
     ]
    },
    {
     "name": "stdout",
     "output_type": "stream",
     "text": [
      "No baseline correction applied\n"
     ]
    },
    {
     "name": "stderr",
     "output_type": "stream",
     "text": [
      "C:\\Users\\jz421\\Desktop\\GlobalLocal\\IEEG_Pipelines\\ieeg\\viz\\ensemble.py:141: FutureWarning: Parameters `vmin` and `vmax` are deprecated, use `vlim` instead.\n",
      "  plot_func(picks=[chan], axes=ax, show=False, **kwargs)\n"
     ]
    },
    {
     "name": "stdout",
     "output_type": "stream",
     "text": [
      "No baseline correction applied\n"
     ]
    },
    {
     "name": "stderr",
     "output_type": "stream",
     "text": [
      "C:\\Users\\jz421\\Desktop\\GlobalLocal\\IEEG_Pipelines\\ieeg\\viz\\ensemble.py:141: FutureWarning: Parameters `vmin` and `vmax` are deprecated, use `vlim` instead.\n",
      "  plot_func(picks=[chan], axes=ax, show=False, **kwargs)\n"
     ]
    },
    {
     "name": "stdout",
     "output_type": "stream",
     "text": [
      "No baseline correction applied\n"
     ]
    },
    {
     "name": "stderr",
     "output_type": "stream",
     "text": [
      "C:\\Users\\jz421\\Desktop\\GlobalLocal\\IEEG_Pipelines\\ieeg\\viz\\ensemble.py:141: FutureWarning: Parameters `vmin` and `vmax` are deprecated, use `vlim` instead.\n",
      "  plot_func(picks=[chan], axes=ax, show=False, **kwargs)\n"
     ]
    },
    {
     "name": "stdout",
     "output_type": "stream",
     "text": [
      "No baseline correction applied\n"
     ]
    },
    {
     "name": "stderr",
     "output_type": "stream",
     "text": [
      "C:\\Users\\jz421\\Desktop\\GlobalLocal\\IEEG_Pipelines\\ieeg\\viz\\ensemble.py:141: FutureWarning: Parameters `vmin` and `vmax` are deprecated, use `vlim` instead.\n",
      "  plot_func(picks=[chan], axes=ax, show=False, **kwargs)\n"
     ]
    },
    {
     "name": "stdout",
     "output_type": "stream",
     "text": [
      "No baseline correction applied\n"
     ]
    },
    {
     "name": "stderr",
     "output_type": "stream",
     "text": [
      "C:\\Users\\jz421\\Desktop\\GlobalLocal\\IEEG_Pipelines\\ieeg\\viz\\ensemble.py:141: FutureWarning: Parameters `vmin` and `vmax` are deprecated, use `vlim` instead.\n",
      "  plot_func(picks=[chan], axes=ax, show=False, **kwargs)\n"
     ]
    },
    {
     "name": "stdout",
     "output_type": "stream",
     "text": [
      "No baseline correction applied\n"
     ]
    },
    {
     "name": "stderr",
     "output_type": "stream",
     "text": [
      "C:\\Users\\jz421\\Desktop\\GlobalLocal\\IEEG_Pipelines\\ieeg\\viz\\ensemble.py:141: FutureWarning: Parameters `vmin` and `vmax` are deprecated, use `vlim` instead.\n",
      "  plot_func(picks=[chan], axes=ax, show=False, **kwargs)\n"
     ]
    },
    {
     "name": "stdout",
     "output_type": "stream",
     "text": [
      "No baseline correction applied\n"
     ]
    },
    {
     "name": "stderr",
     "output_type": "stream",
     "text": [
      "C:\\Users\\jz421\\Desktop\\GlobalLocal\\IEEG_Pipelines\\ieeg\\viz\\ensemble.py:141: FutureWarning: Parameters `vmin` and `vmax` are deprecated, use `vlim` instead.\n",
      "  plot_func(picks=[chan], axes=ax, show=False, **kwargs)\n"
     ]
    },
    {
     "name": "stdout",
     "output_type": "stream",
     "text": [
      "No baseline correction applied\n"
     ]
    },
    {
     "name": "stderr",
     "output_type": "stream",
     "text": [
      "C:\\Users\\jz421\\Desktop\\GlobalLocal\\IEEG_Pipelines\\ieeg\\viz\\ensemble.py:141: FutureWarning: Parameters `vmin` and `vmax` are deprecated, use `vlim` instead.\n",
      "  plot_func(picks=[chan], axes=ax, show=False, **kwargs)\n"
     ]
    },
    {
     "name": "stdout",
     "output_type": "stream",
     "text": [
      "No baseline correction applied\n"
     ]
    },
    {
     "name": "stderr",
     "output_type": "stream",
     "text": [
      "C:\\Users\\jz421\\Desktop\\GlobalLocal\\IEEG_Pipelines\\ieeg\\viz\\ensemble.py:141: FutureWarning: Parameters `vmin` and `vmax` are deprecated, use `vlim` instead.\n",
      "  plot_func(picks=[chan], axes=ax, show=False, **kwargs)\n"
     ]
    },
    {
     "name": "stdout",
     "output_type": "stream",
     "text": [
      "No baseline correction applied\n"
     ]
    },
    {
     "name": "stderr",
     "output_type": "stream",
     "text": [
      "C:\\Users\\jz421\\Desktop\\GlobalLocal\\IEEG_Pipelines\\ieeg\\viz\\ensemble.py:141: FutureWarning: Parameters `vmin` and `vmax` are deprecated, use `vlim` instead.\n",
      "  plot_func(picks=[chan], axes=ax, show=False, **kwargs)\n"
     ]
    },
    {
     "name": "stdout",
     "output_type": "stream",
     "text": [
      "No baseline correction applied\n"
     ]
    },
    {
     "name": "stderr",
     "output_type": "stream",
     "text": [
      "C:\\Users\\jz421\\Desktop\\GlobalLocal\\IEEG_Pipelines\\ieeg\\viz\\ensemble.py:141: FutureWarning: Parameters `vmin` and `vmax` are deprecated, use `vlim` instead.\n",
      "  plot_func(picks=[chan], axes=ax, show=False, **kwargs)\n"
     ]
    },
    {
     "name": "stdout",
     "output_type": "stream",
     "text": [
      "No baseline correction applied\n"
     ]
    },
    {
     "name": "stderr",
     "output_type": "stream",
     "text": [
      "C:\\Users\\jz421\\Desktop\\GlobalLocal\\IEEG_Pipelines\\ieeg\\viz\\ensemble.py:141: FutureWarning: Parameters `vmin` and `vmax` are deprecated, use `vlim` instead.\n",
      "  plot_func(picks=[chan], axes=ax, show=False, **kwargs)\n"
     ]
    },
    {
     "name": "stdout",
     "output_type": "stream",
     "text": [
      "No baseline correction applied\n"
     ]
    },
    {
     "name": "stderr",
     "output_type": "stream",
     "text": [
      "C:\\Users\\jz421\\Desktop\\GlobalLocal\\IEEG_Pipelines\\ieeg\\viz\\ensemble.py:141: FutureWarning: Parameters `vmin` and `vmax` are deprecated, use `vlim` instead.\n",
      "  plot_func(picks=[chan], axes=ax, show=False, **kwargs)\n"
     ]
    },
    {
     "name": "stdout",
     "output_type": "stream",
     "text": [
      "No baseline correction applied\n"
     ]
    },
    {
     "name": "stderr",
     "output_type": "stream",
     "text": [
      "C:\\Users\\jz421\\Desktop\\GlobalLocal\\IEEG_Pipelines\\ieeg\\viz\\ensemble.py:141: FutureWarning: Parameters `vmin` and `vmax` are deprecated, use `vlim` instead.\n",
      "  plot_func(picks=[chan], axes=ax, show=False, **kwargs)\n"
     ]
    },
    {
     "name": "stdout",
     "output_type": "stream",
     "text": [
      "No baseline correction applied\n"
     ]
    },
    {
     "name": "stderr",
     "output_type": "stream",
     "text": [
      "C:\\Users\\jz421\\Desktop\\GlobalLocal\\IEEG_Pipelines\\ieeg\\viz\\ensemble.py:141: FutureWarning: Parameters `vmin` and `vmax` are deprecated, use `vlim` instead.\n",
      "  plot_func(picks=[chan], axes=ax, show=False, **kwargs)\n"
     ]
    },
    {
     "name": "stdout",
     "output_type": "stream",
     "text": [
      "No baseline correction applied\n"
     ]
    },
    {
     "name": "stderr",
     "output_type": "stream",
     "text": [
      "C:\\Users\\jz421\\Desktop\\GlobalLocal\\IEEG_Pipelines\\ieeg\\viz\\ensemble.py:141: FutureWarning: Parameters `vmin` and `vmax` are deprecated, use `vlim` instead.\n",
      "  plot_func(picks=[chan], axes=ax, show=False, **kwargs)\n"
     ]
    },
    {
     "name": "stdout",
     "output_type": "stream",
     "text": [
      "No baseline correction applied\n"
     ]
    },
    {
     "name": "stderr",
     "output_type": "stream",
     "text": [
      "C:\\Users\\jz421\\Desktop\\GlobalLocal\\IEEG_Pipelines\\ieeg\\viz\\ensemble.py:141: FutureWarning: Parameters `vmin` and `vmax` are deprecated, use `vlim` instead.\n",
      "  plot_func(picks=[chan], axes=ax, show=False, **kwargs)\n"
     ]
    },
    {
     "name": "stdout",
     "output_type": "stream",
     "text": [
      "No baseline correction applied\n"
     ]
    },
    {
     "name": "stderr",
     "output_type": "stream",
     "text": [
      "C:\\Users\\jz421\\Desktop\\GlobalLocal\\IEEG_Pipelines\\ieeg\\viz\\ensemble.py:141: FutureWarning: Parameters `vmin` and `vmax` are deprecated, use `vlim` instead.\n",
      "  plot_func(picks=[chan], axes=ax, show=False, **kwargs)\n"
     ]
    },
    {
     "name": "stdout",
     "output_type": "stream",
     "text": [
      "No baseline correction applied\n"
     ]
    },
    {
     "name": "stderr",
     "output_type": "stream",
     "text": [
      "C:\\Users\\jz421\\Desktop\\GlobalLocal\\IEEG_Pipelines\\ieeg\\viz\\ensemble.py:141: FutureWarning: Parameters `vmin` and `vmax` are deprecated, use `vlim` instead.\n",
      "  plot_func(picks=[chan], axes=ax, show=False, **kwargs)\n"
     ]
    },
    {
     "name": "stdout",
     "output_type": "stream",
     "text": [
      "No baseline correction applied\n"
     ]
    },
    {
     "name": "stderr",
     "output_type": "stream",
     "text": [
      "C:\\Users\\jz421\\Desktop\\GlobalLocal\\IEEG_Pipelines\\ieeg\\viz\\ensemble.py:141: FutureWarning: Parameters `vmin` and `vmax` are deprecated, use `vlim` instead.\n",
      "  plot_func(picks=[chan], axes=ax, show=False, **kwargs)\n"
     ]
    },
    {
     "name": "stdout",
     "output_type": "stream",
     "text": [
      "No baseline correction applied\n"
     ]
    },
    {
     "name": "stderr",
     "output_type": "stream",
     "text": [
      "C:\\Users\\jz421\\Desktop\\GlobalLocal\\IEEG_Pipelines\\ieeg\\viz\\ensemble.py:141: FutureWarning: Parameters `vmin` and `vmax` are deprecated, use `vlim` instead.\n",
      "  plot_func(picks=[chan], axes=ax, show=False, **kwargs)\n"
     ]
    },
    {
     "name": "stdout",
     "output_type": "stream",
     "text": [
      "No baseline correction applied\n"
     ]
    },
    {
     "name": "stderr",
     "output_type": "stream",
     "text": [
      "C:\\Users\\jz421\\Desktop\\GlobalLocal\\IEEG_Pipelines\\ieeg\\viz\\ensemble.py:141: FutureWarning: Parameters `vmin` and `vmax` are deprecated, use `vlim` instead.\n",
      "  plot_func(picks=[chan], axes=ax, show=False, **kwargs)\n"
     ]
    },
    {
     "name": "stdout",
     "output_type": "stream",
     "text": [
      "No baseline correction applied\n"
     ]
    },
    {
     "name": "stderr",
     "output_type": "stream",
     "text": [
      "C:\\Users\\jz421\\Desktop\\GlobalLocal\\IEEG_Pipelines\\ieeg\\viz\\ensemble.py:141: FutureWarning: Parameters `vmin` and `vmax` are deprecated, use `vlim` instead.\n",
      "  plot_func(picks=[chan], axes=ax, show=False, **kwargs)\n"
     ]
    },
    {
     "name": "stdout",
     "output_type": "stream",
     "text": [
      "No baseline correction applied\n"
     ]
    },
    {
     "name": "stderr",
     "output_type": "stream",
     "text": [
      "C:\\Users\\jz421\\Desktop\\GlobalLocal\\IEEG_Pipelines\\ieeg\\viz\\ensemble.py:141: FutureWarning: Parameters `vmin` and `vmax` are deprecated, use `vlim` instead.\n",
      "  plot_func(picks=[chan], axes=ax, show=False, **kwargs)\n"
     ]
    },
    {
     "name": "stdout",
     "output_type": "stream",
     "text": [
      "Channels marked as bad:\n",
      "none\n"
     ]
    }
   ],
   "source": [
    "## Description: Check channels for outliers and remove them\n",
    "import mne.time_frequency\n",
    "from ieeg.viz.ensemble import chan_grid\n",
    "from ieeg.viz.parula import parula_map\n",
    "from ieeg.io import get_data, update, get_bad_chans\n",
    "import os\n",
    "\n",
    "## check if currently running a slurm job\n",
    "HOME = os.path.expanduser(\"~\")\n",
    "if 'SLURM_ARRAY_TASK_ID' in os.environ.keys():\n",
    "    LAB_root = os.path.join(HOME, \"workspace\", \"CoganLab\")\n",
    "    subject = int(os.environ['SLURM_ARRAY_TASK_ID'])\n",
    "else:  # if not then set box directory\n",
    "    LAB_root = os.path.join(HOME, \"Box\", \"CoganLab\")\n",
    "    subject = 57\n",
    "\n",
    "\n",
    "# Load the data\n",
    "TASK = \"GlobalLocal\"\n",
    "layout = get_data(\"GlobalLocal\", root=LAB_root)\n",
    "subjects = layout.get(return_type=\"id\", target=\"subject\")\n",
    "conds = [\"Stimulus_fixationCrossBase_0.2sec\"]\n",
    "subjects = ['D0090']\n",
    "for subj in subjects:\n",
    "    for cond in conds:\n",
    "        spec_type = 'multitaper_alt'\n",
    "        filename = os.path.join(layout.root, 'derivatives',\n",
    "                                'spec', spec_type, subj, f'{cond}-tfr.h5')\n",
    "        spec = mne.time_frequency.read_tfrs(filename)\n",
    "        info_file = os.path.join(layout.root, spec.info['subject_info']['files'][0])\n",
    "        all_bad = get_bad_chans(info_file)\n",
    "        spec.info.update(bads=[b for b in all_bad if b in spec.ch_names])\n",
    "\n",
    "        ## plotting\n",
    "        import matplotlib as mpl\n",
    "        figs = chan_grid(spec, size=(20, 10), vmin=0.7, vmax=1.4,\n",
    "                         cmap=parula_map, show=False)\n",
    "        fig_path = os.path.join(layout.root, 'derivatives', 'figs', spec_type)\n",
    "            # Ensure the directory exists\n",
    "        os.makedirs(fig_path, exist_ok=True)\n",
    "        for i, f in enumerate(figs):\n",
    "            f.savefig(os.path.join(fig_path, f'{subj}_{cond}_{i + 1}.jpg'), bbox_inches='tight')\n",
    "            f.clf()\n",
    "\n",
    "        ## save bad channels\n",
    "        # update(spec, layout, \"muscle\")"
   ]
  },
  {
   "cell_type": "markdown",
   "metadata": {},
   "source": [
    "aarons code"
   ]
  },
  {
   "cell_type": "code",
   "execution_count": null,
   "metadata": {},
   "outputs": [],
   "source": [
    "## Description: Check channels for outliers and remove them\n",
    "import mne.time_frequency\n",
    "from ieeg.viz.ensemble import chan_grid\n",
    "from ieeg.viz.parula import parula_map\n",
    "from ieeg.io import get_data, update, get_bad_chans\n",
    "import os\n",
    "\n",
    "## check if currently running a slurm job\n",
    "HOME = os.path.expanduser(\"~\")\n",
    "if 'SLURM_ARRAY_TASK_ID' in os.environ.keys():\n",
    "    LAB_root = os.path.join(HOME, \"workspace\", \"CoganLab\")\n",
    "    subject = int(os.environ['SLURM_ARRAY_TASK_ID'])\n",
    "else:  # if not then set box directory\n",
    "    LAB_root = os.path.join(HOME, \"Box\", \"CoganLab\")\n",
    "    subject = 57\n",
    "\n",
    "\n",
    "# Load the data\n",
    "TASK = \"SentenceRep\"\n",
    "layout = get_data(\"SentenceRep\", root=LAB_root)\n",
    "subjects = layout.get(return_type=\"id\", target=\"subject\")\n",
    "conds = [\"aud_ls\", \"aud_lm\", \"go_ls\", \"go_lm\", \"resp\"]\n",
    "\n",
    "for subj in subjects:\n",
    "    for cond in conds:\n",
    "        spec_type = 'multitaper'\n",
    "        filename = os.path.join(layout.root, 'derivatives',\n",
    "                                'spec', spec_type, subj, f'{cond}-tfr.h5')\n",
    "        spec = mne.time_frequency.read_tfrs(filename)[0]\n",
    "        info_file = os.path.join(layout.root, spec.info['subject_info']['files'][0])\n",
    "        all_bad = get_bad_chans(info_file)\n",
    "        spec.info.update(bads=[b for b in all_bad if b in spec.ch_names])\n",
    "\n",
    "        ## plotting\n",
    "        import matplotlib as mpl\n",
    "        figs = chan_grid(spec, size=(20, 10), vmin=-2, vmax=2,\n",
    "                         cmap=parula_map, show=False)\n",
    "        fig_path = os.path.join(layout.root, 'derivatives', 'figs', spec_type)\n",
    "        for i, f in enumerate(figs):\n",
    "            f.savefig(os.path.join(fig_path, f'{subj}_{cond}_{i + 1}.jpg'), bbox_inches='tight')\n",
    "            f.clf()\n",
    "\n",
    "        ## save bad channels\n",
    "        # update(spec, layout, \"muscle\")"
   ]
  },
  {
   "cell_type": "markdown",
   "metadata": {},
   "source": [
    "just plot one channel for the poster with a colorbar 4/8"
   ]
  },
  {
   "cell_type": "code",
   "execution_count": null,
   "metadata": {},
   "outputs": [],
   "source": [
    "## Description: Check channels for outliers and remove them\n",
    "import mne.time_frequency\n",
    "from ieeg.viz.utils import chan_grid\n",
    "from ieeg.viz.parula import parula_map\n",
    "from ieeg.io import get_data, update, get_bad_chans\n",
    "import os\n",
    "import matplotlib.pyplot as plt\n",
    "\n",
    "# Set the default font size to 24 for all text in all plots\n",
    "plt.rcParams.update({'font.size': 24})\n",
    "\n",
    "## check if currently running a slurm job\n",
    "HOME = os.path.expanduser(\"~\")\n",
    "if 'SLURM_ARRAY_TASK_ID' in os.environ.keys():\n",
    "    LAB_root = os.path.join(HOME, \"workspace\", \"CoganLab\")\n",
    "    subject = int(os.environ['SLURM_ARRAY_TASK_ID'])\n",
    "else:  # if not then set box directory\n",
    "    LAB_root = os.path.join(HOME, \"Box\", \"CoganLab\")\n",
    "    subject = 57\n",
    "    pick = 'RMMF14'\n",
    "\n",
    "\n",
    "# Load the data\n",
    "TASK = \"GlobalLocal\"\n",
    "layout = get_data(\"GlobalLocal\", root=LAB_root)\n",
    "subjects = layout.get(return_type=\"id\", target=\"subject\")\n",
    "conds = [\"Stimulus_fixationCrossBase_0.2sec\"]\n",
    "subjects = ['D0057']\n",
    "pick = 'RAI7'\n",
    "\n",
    "\n",
    "for subj in subjects:\n",
    "    if int(subj[1:]) != subject:\n",
    "        continue\n",
    "    for cond in conds:\n",
    "        spec_type = 'multitaper'\n",
    "        filename = os.path.join(layout.root, 'derivatives',\n",
    "                                'spec', spec_type, subj, f'{cond}-tfr.h5')\n",
    "        try:\n",
    "            spec = mne.time_frequency.read_tfrs(filename)[0]\n",
    "        except OSError:\n",
    "            continue\n",
    "        info_file = os.path.join(layout.root, spec.info['subject_info']['files'][0])\n",
    "        all_bad = get_bad_chans(info_file)\n",
    "        spec.info.update(bads=[b for b in all_bad if b in spec.ch_names])\n",
    "\n",
    "        ## plotting\n",
    "        figs = spec.plot(vmin=0.7, vmax=1.4,  cmap=parula_map, show=False, picks=[pick])\n",
    "\n",
    "        for fig in figs:\n",
    "            for ax in fig.get_axes():\n",
    "                # Remove any existing labels set by MNE's plotting function\n",
    "                ax.set_xlabel('')  # Clear the existing x-axis label\n",
    "                ax.set_ylabel('')  # Clear the existing y-axis label\n",
    "                \n",
    "                # Optionally, if you want to remove the colorbar label as well, you would need to find the colorbar's axis.\n",
    "                # This part might be a bit trickier and depends on how the figure is structured.\n",
    "                \n",
    "                # # Now, set your custom labels with your preferred fontsize\n",
    "                # ax.set_xlabel('Time from stimulus onset (s)', fontsize=24)\n",
    "                # ax.set_ylabel('Frequency (Hz)', fontsize=24)\n",
    "                \n",
    "                # # Adding a secondary y-axis for Log-Power (dB)\n",
    "                # secax = ax.secondary_yaxis('right')\n",
    "                # secax.set_ylabel('Log-Power (dB)', fontsize=24)\n",
    "                \n",
    "                # # Adjust tick label sizes\n",
    "                # ax.tick_params(axis='y', labelsize=24)\n",
    "                # ax.tick_params(axis='x', labelsize=24)\n",
    "                # secax.tick_params(axis='y', labelsize=24)\n",
    "\n",
    "                \n",
    "        fig_path = os.path.join(layout.root, 'derivatives', 'figs', spec_type, 'picks')\n",
    "        # Ensure the directory exists\n",
    "        os.makedirs(fig_path, exist_ok=True)\n",
    "        for i, f in enumerate(figs):\n",
    "            f.savefig(os.path.join(fig_path, f'{subj}_{cond}_{i + 1}_{pick}.png'), bbox_inches='tight')\n",
    "            plt.close(f)"
   ]
  },
  {
   "cell_type": "markdown",
   "metadata": {},
   "source": [
    "aarons code"
   ]
  },
  {
   "cell_type": "code",
   "execution_count": null,
   "metadata": {},
   "outputs": [],
   "source": [
    "## Description: Check channels for outliers and remove them\n",
    "import mne.time_frequency\n",
    "from ieeg.viz.utils import chan_grid\n",
    "from ieeg.viz.parula import parula_map\n",
    "from ieeg.io import get_data, update, get_bad_chans\n",
    "import os\n",
    "import matplotlib.pyplot as plt\n",
    "\n",
    "\n",
    "## check if currently running a slurm job\n",
    "HOME = os.path.expanduser(\"~\")\n",
    "if 'SLURM_ARRAY_TASK_ID' in os.environ.keys():\n",
    "    LAB_root = os.path.join(HOME, \"workspace\", \"CoganLab\")\n",
    "    subject = int(os.environ['SLURM_ARRAY_TASK_ID'])\n",
    "else:  # if not then set box directory\n",
    "    LAB_root = os.path.join(HOME, \"Box\", \"CoganLab\")\n",
    "    subject = 64\n",
    "    pick = 'LAI6'\n",
    "\n",
    "\n",
    "# Load the data\n",
    "TASK = \"SentenceRep\"\n",
    "layout = get_data(\"SentenceRep\", root=LAB_root)\n",
    "subjects = layout.get(return_type=\"id\", target=\"subject\")\n",
    "conds = [\"start\", \"aud_ls\", \"aud_lm\", \"aud_jl\", \"go_ls\", \"go_lm\", \"go_jl\", \"resp\"]\n",
    "\n",
    "for subj in subjects:\n",
    "    if int(subj[1:]) != subject:\n",
    "        continue\n",
    "    for cond in conds:\n",
    "        spec_type = 'multitaper_alt'\n",
    "        filename = os.path.join(layout.root, 'derivatives',\n",
    "                                'spec', spec_type, subj, f'{cond}-tfr.h5')\n",
    "        try:\n",
    "            spec = mne.time_frequency.read_tfrs(filename)[0]\n",
    "        except OSError:\n",
    "            continue\n",
    "        info_file = os.path.join(layout.root, spec.info['subject_info']['files'][0])\n",
    "        all_bad = get_bad_chans(info_file)\n",
    "        spec.info.update(bads=[b for b in all_bad if b in spec.ch_names])\n",
    "\n",
    "        ## plotting\n",
    "        figs = spec.plot(vmin=0.7, vmax=1.4,  cmap=parula_map, show=False, picks=[pick])\n",
    "        fig_path = os.path.join(layout.root, 'derivatives', 'figs', spec_type, 'picks')\n",
    "        for i, f in enumerate(figs):\n",
    "            f.savefig(os.path.join(fig_path, f'{subj}_{cond}_{i + 1}_{pick}.eps'), bbox_inches='tight')\n",
    "            plt.close(f)\n",
    "\n",
    "\n",
    "\n"
   ]
  }
 ],
 "metadata": {
  "kernelspec": {
   "display_name": "ieeg",
   "language": "python",
   "name": "python3"
  },
  "language_info": {
   "codemirror_mode": {
    "name": "ipython",
    "version": 3
   },
   "file_extension": ".py",
   "mimetype": "text/x-python",
   "name": "python",
   "nbconvert_exporter": "python",
   "pygments_lexer": "ipython3",
   "version": "3.11.7"
  }
 },
 "nbformat": 4,
 "nbformat_minor": 2
}
