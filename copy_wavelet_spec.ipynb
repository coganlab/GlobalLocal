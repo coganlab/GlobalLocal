{
 "cells": [
  {
   "cell_type": "code",
   "execution_count": 12,
   "metadata": {},
   "outputs": [
    {
     "name": "stdout",
     "output_type": "stream",
     "text": [
      "['c:\\\\Users\\\\jz421\\\\Desktop\\\\GlobalLocal', 'c:\\\\Users\\\\jz421\\\\AppData\\\\Local\\\\anaconda3\\\\envs\\\\ieeg\\\\python311.zip', 'c:\\\\Users\\\\jz421\\\\AppData\\\\Local\\\\anaconda3\\\\envs\\\\ieeg\\\\DLLs', 'c:\\\\Users\\\\jz421\\\\AppData\\\\Local\\\\anaconda3\\\\envs\\\\ieeg\\\\Lib', 'c:\\\\Users\\\\jz421\\\\AppData\\\\Local\\\\anaconda3\\\\envs\\\\ieeg', '', 'C:\\\\Users\\\\jz421\\\\AppData\\\\Roaming\\\\Python\\\\Python311\\\\site-packages', 'C:\\\\Users\\\\jz421\\\\AppData\\\\Roaming\\\\Python\\\\Python311\\\\site-packages\\\\win32', 'C:\\\\Users\\\\jz421\\\\AppData\\\\Roaming\\\\Python\\\\Python311\\\\site-packages\\\\win32\\\\lib', 'C:\\\\Users\\\\jz421\\\\AppData\\\\Roaming\\\\Python\\\\Python311\\\\site-packages\\\\Pythonwin', 'c:\\\\Users\\\\jz421\\\\AppData\\\\Local\\\\anaconda3\\\\envs\\\\ieeg\\\\Lib\\\\site-packages', 'c:\\\\Users\\\\jz421\\\\AppData\\\\Local\\\\anaconda3\\\\envs\\\\ieeg\\\\Lib\\\\site-packages\\\\win32', 'c:\\\\Users\\\\jz421\\\\AppData\\\\Local\\\\anaconda3\\\\envs\\\\ieeg\\\\Lib\\\\site-packages\\\\win32\\\\lib', 'c:\\\\Users\\\\jz421\\\\AppData\\\\Local\\\\anaconda3\\\\envs\\\\ieeg\\\\Lib\\\\site-packages\\\\Pythonwin', 'C:/Users/jz421/Desktop/GlobalLocal/IEEG_Pipelines/', 'C:/Users/jz421/Desktop/GlobalLocal/IEEG_Pipelines/']\n"
     ]
    }
   ],
   "source": [
    "import sys\n",
    "print(sys.path)\n",
    "sys.path.append(\"C:/Users/jz421/Desktop/GlobalLocal/IEEG_Pipelines/\") #need to do this cuz otherwise ieeg isn't added to path...\n",
    "\n",
    "import mne.time_frequency\n",
    "import mne\n",
    "from ieeg.io import get_data, raw_from_layout\n",
    "from ieeg.navigate import trial_ieeg, channel_outlier_marker, crop_empty_data, outliers_to_nan\n",
    "from ieeg.calc.scaling import rescale\n",
    "import os\n",
    "from ieeg.timefreq.utils import wavelet_scaleogram, crop_pad\n",
    "import numpy as np\n",
    "\n",
    "from misc_functions import calculate_RTs"
   ]
  },
  {
   "attachments": {},
   "cell_type": "markdown",
   "metadata": {},
   "source": [
    "### 7/5 try to get wavelets for all stimulus "
   ]
  },
  {
   "cell_type": "code",
   "execution_count": null,
   "metadata": {},
   "outputs": [],
   "source": [
    "HOME = os.path.expanduser(\"~\")\n",
    "\n",
    "# get box directory depending on OS\n",
    "if os.name == 'nt': # windows\n",
    "    LAB_root = os.path.join(HOME, \"Box\", \"CoganLab\")\n",
    "else: # mac\n",
    "    LAB_root = os.path.join(HOME, \"Library\", \"CloudStorage\", \"Box-Box\", \"CoganLab\")\n",
    "\n",
    "layout = get_data(\"GlobalLocal\", root=LAB_root)\n",
    "\n",
    "\n",
    "layout = get_data(\"GlobalLocal\", root=LAB_root)\n",
    "subjects = layout.get(return_type=\"id\", target=\"subject\")\n",
    "\n",
    "print(subjects)\n",
    "# for sub in subjects:\n",
    "for sub in subjects:\n",
    "        # sub='D0071' #why does this not work in the for loop???\n",
    "        # Load the data\n",
    "        filt = raw_from_layout(layout.derivatives['derivatives/clean'], subject=sub,\n",
    "                                extension='.edf', desc='clean', preload=False) #get line-noise filtered data\n",
    "        print(filt)\n",
    "\n",
    "        ## Crop raw data to minimize processing time\n",
    "        good = crop_empty_data(filt)\n",
    "\n",
    "        # good.drop_channels(good.info['bads'])\n",
    "        good.info['bads'] = channel_outlier_marker(good, 3, 2)\n",
    "        good.drop_channels(good.info['bads'])\n",
    "        # good.info['bads'] += channel_outlier_marker(good, 4, 2)\n",
    "        # good.drop_channels(good.info['bads'])\n",
    "        good.load_data()\n",
    "\n",
    "        ch_type = filt.get_channel_types(only_data_chs=True)[0]\n",
    "        good.set_eeg_reference(ref_channels=\"average\", ch_type=ch_type)\n",
    "\n",
    "        # Remove intermediates from mem\n",
    "        good.plot()\n",
    "\n",
    "        ## epoching and trial outlier removal\n",
    "\n",
    "        save_dir = os.path.join(layout.root, 'derivatives', 'spec', 'wavelet', sub)\n",
    "        if not os.path.exists(save_dir):\n",
    "                os.makedirs(save_dir)\n",
    "\n",
    "        RTs, skipped = calculate_RTs(good)\n",
    "        avg_RT = np.median(RTs)\n",
    "        \n",
    "        # make stimulus baseline EpochsTFR\n",
    "        times=[-1,avg_RT+1.3] #this is for 0.5 sec of padding on each side\n",
    "        trials = trial_ieeg(good, \"Stimulus\", times, preload=True)\n",
    "        outliers_to_nan(trials, outliers=10)\n",
    "        base = wavelet_scaleogram(trials, n_jobs=-2, decim=int(good.info['sfreq'] / 100))\n",
    "        crop_pad(base, \"0.5s\")\n",
    "\n",
    "\n",
    "        #now do rescale with the concatenated baseline epochs\n",
    "        for event, t in zip((\"Stimulus\", \"Response\"),((-1, 2), (-1, 2))):\n",
    "                times = [None, None]\n",
    "                times[0] = t[0] - 0.5\n",
    "                times[1] = t[1] + 0.5\n",
    "                trials = trial_ieeg(good, event, times, preload=True)\n",
    "                outliers_to_nan(trials, outliers=10)\n",
    "                spec = wavelet_scaleogram(trials, n_jobs=-2, decim=int(good.info['sfreq'] / 100))\n",
    "                crop_pad(spec, \"0.5s\")\n",
    "                spec_a = rescale(spec, base, copy=True, mode='ratio').average(\n",
    "                        lambda x: np.nanmean(x, axis=0), copy=True)\n",
    "                spec_a._data = np.log10(spec_a._data) * 20\n",
    "                fnames = [os.path.relpath(f, layout.root) for f in good.filenames]\n",
    "                spec_a.info['subject_info']['files'] = tuple(fnames)\n",
    "                spec_a.info['bads'] = good.info['bads']\n",
    "                filename = os.path.join(save_dir, f'{event}_fullTrialBase-tfr.h5')\n",
    "                mne.time_frequency.write_tfrs(filename, spec_a, overwrite=True)\n",
    "                spec_a.save(os.path.join(save_dir, f'{event}_fullTrialBase-avg.fif'), overwrite=True)\n",
    "\n"
   ]
  },
  {
   "cell_type": "markdown",
   "metadata": {},
   "source": [
    "### testing with one subject"
   ]
  },
  {
   "cell_type": "code",
   "execution_count": 2,
   "metadata": {},
   "outputs": [
    {
     "name": "stdout",
     "output_type": "stream",
     "text": [
      "['D0057', 'D0059', 'D0063', 'D0065', 'D0069', 'D0071', 'D0077']\n",
      "Extracting EDF parameters from C:\\Users\\jz421\\Box\\CoganLab\\BIDS-1.1_GlobalLocal\\BIDS\\derivatives\\clean\\sub-D0057\\ieeg\\sub-D0057_task-GlobalLocal_acq-01_run-01_desc-clean_ieeg.edf...\n",
      "EDF file detected\n",
      "Setting channel info structure...\n",
      "Creating raw.info structure...\n",
      "Reading events from C:\\Users\\jz421\\Box\\CoganLab\\BIDS-1.1_GlobalLocal\\BIDS\\derivatives\\clean\\sub-D0057\\ieeg\\sub-D0057_task-GlobalLocal_acq-01_run-01_desc-clean_events.tsv.\n",
      "Reading channel info from C:\\Users\\jz421\\Box\\CoganLab\\BIDS-1.1_GlobalLocal\\BIDS\\derivatives\\clean\\sub-D0057\\ieeg\\sub-D0057_task-GlobalLocal_acq-01_run-01_desc-clean_channels.tsv.\n",
      "Reading electrode coords from C:\\Users\\jz421\\Box\\CoganLab\\BIDS-1.1_GlobalLocal\\BIDS\\derivatives\\clean\\sub-D0057\\ieeg\\sub-D0057_acq-01_space-ACPC_electrodes.tsv.\n",
      "Extracting EDF parameters from C:\\Users\\jz421\\Box\\CoganLab\\BIDS-1.1_GlobalLocal\\BIDS\\derivatives\\clean\\sub-D0057\\ieeg\\sub-D0057_task-GlobalLocal_acq-01_run-02_desc-clean_ieeg.edf...\n",
      "EDF file detected\n",
      "Setting channel info structure...\n",
      "Creating raw.info structure...\n"
     ]
    },
    {
     "name": "stderr",
     "output_type": "stream",
     "text": [
      "C:\\Users/jz421/Desktop/GlobalLocal/IEEG_Pipelines\\ieeg\\io.py:100: RuntimeWarning: The number of channels in the channels.tsv sidecar file (179) does not match the number of channels in the raw data file (178). Will not try to set channel names.\n",
      "  new_raw = read_raw_bids(bids_path=BIDS_path)\n",
      "C:\\Users/jz421/Desktop/GlobalLocal/IEEG_Pipelines\\ieeg\\io.py:100: RuntimeWarning: Cannot set channel type for the following channels, as they are missing in the raw data: Trigger\n",
      "  new_raw = read_raw_bids(bids_path=BIDS_path)\n"
     ]
    },
    {
     "name": "stdout",
     "output_type": "stream",
     "text": [
      "Reading events from C:\\Users\\jz421\\Box\\CoganLab\\BIDS-1.1_GlobalLocal\\BIDS\\derivatives\\clean\\sub-D0057\\ieeg\\sub-D0057_task-GlobalLocal_acq-01_run-02_desc-clean_events.tsv.\n",
      "Reading channel info from C:\\Users\\jz421\\Box\\CoganLab\\BIDS-1.1_GlobalLocal\\BIDS\\derivatives\\clean\\sub-D0057\\ieeg\\sub-D0057_task-GlobalLocal_acq-01_run-02_desc-clean_channels.tsv.\n",
      "Reading electrode coords from C:\\Users\\jz421\\Box\\CoganLab\\BIDS-1.1_GlobalLocal\\BIDS\\derivatives\\clean\\sub-D0057\\ieeg\\sub-D0057_acq-01_space-ACPC_electrodes.tsv.\n",
      "Extracting EDF parameters from C:\\Users\\jz421\\Box\\CoganLab\\BIDS-1.1_GlobalLocal\\BIDS\\derivatives\\clean\\sub-D0057\\ieeg\\sub-D0057_task-GlobalLocal_acq-01_run-03_desc-clean_ieeg.edf...\n",
      "EDF file detected\n",
      "Setting channel info structure...\n",
      "Creating raw.info structure...\n"
     ]
    },
    {
     "name": "stderr",
     "output_type": "stream",
     "text": [
      "C:\\Users/jz421/Desktop/GlobalLocal/IEEG_Pipelines\\ieeg\\io.py:100: RuntimeWarning: Omitted 228 annotation(s) that were outside data range.\n",
      "  new_raw = read_raw_bids(bids_path=BIDS_path)\n",
      "C:\\Users/jz421/Desktop/GlobalLocal/IEEG_Pipelines\\ieeg\\io.py:100: RuntimeWarning: The number of channels in the channels.tsv sidecar file (179) does not match the number of channels in the raw data file (178). Will not try to set channel names.\n",
      "  new_raw = read_raw_bids(bids_path=BIDS_path)\n",
      "C:\\Users/jz421/Desktop/GlobalLocal/IEEG_Pipelines\\ieeg\\io.py:100: RuntimeWarning: Cannot set channel type for the following channels, as they are missing in the raw data: Trigger\n",
      "  new_raw = read_raw_bids(bids_path=BIDS_path)\n"
     ]
    },
    {
     "name": "stdout",
     "output_type": "stream",
     "text": [
      "Reading events from C:\\Users\\jz421\\Box\\CoganLab\\BIDS-1.1_GlobalLocal\\BIDS\\derivatives\\clean\\sub-D0057\\ieeg\\sub-D0057_task-GlobalLocal_acq-01_run-03_desc-clean_events.tsv.\n",
      "Reading channel info from C:\\Users\\jz421\\Box\\CoganLab\\BIDS-1.1_GlobalLocal\\BIDS\\derivatives\\clean\\sub-D0057\\ieeg\\sub-D0057_task-GlobalLocal_acq-01_run-03_desc-clean_channels.tsv.\n",
      "Reading electrode coords from C:\\Users\\jz421\\Box\\CoganLab\\BIDS-1.1_GlobalLocal\\BIDS\\derivatives\\clean\\sub-D0057\\ieeg\\sub-D0057_acq-01_space-ACPC_electrodes.tsv.\n",
      "Extracting EDF parameters from C:\\Users\\jz421\\Box\\CoganLab\\BIDS-1.1_GlobalLocal\\BIDS\\derivatives\\clean\\sub-D0057\\ieeg\\sub-D0057_task-GlobalLocal_acq-01_run-04_desc-clean_ieeg.edf...\n",
      "EDF file detected\n",
      "Setting channel info structure...\n",
      "Creating raw.info structure...\n"
     ]
    },
    {
     "name": "stderr",
     "output_type": "stream",
     "text": [
      "C:\\Users/jz421/Desktop/GlobalLocal/IEEG_Pipelines\\ieeg\\io.py:100: RuntimeWarning: Omitted 228 annotation(s) that were outside data range.\n",
      "  new_raw = read_raw_bids(bids_path=BIDS_path)\n",
      "C:\\Users/jz421/Desktop/GlobalLocal/IEEG_Pipelines\\ieeg\\io.py:100: RuntimeWarning: The number of channels in the channels.tsv sidecar file (179) does not match the number of channels in the raw data file (178). Will not try to set channel names.\n",
      "  new_raw = read_raw_bids(bids_path=BIDS_path)\n",
      "C:\\Users/jz421/Desktop/GlobalLocal/IEEG_Pipelines\\ieeg\\io.py:100: RuntimeWarning: Cannot set channel type for the following channels, as they are missing in the raw data: Trigger\n",
      "  new_raw = read_raw_bids(bids_path=BIDS_path)\n"
     ]
    },
    {
     "name": "stdout",
     "output_type": "stream",
     "text": [
      "Reading events from C:\\Users\\jz421\\Box\\CoganLab\\BIDS-1.1_GlobalLocal\\BIDS\\derivatives\\clean\\sub-D0057\\ieeg\\sub-D0057_task-GlobalLocal_acq-01_run-04_desc-clean_events.tsv.\n",
      "Reading channel info from C:\\Users\\jz421\\Box\\CoganLab\\BIDS-1.1_GlobalLocal\\BIDS\\derivatives\\clean\\sub-D0057\\ieeg\\sub-D0057_task-GlobalLocal_acq-01_run-04_desc-clean_channels.tsv.\n",
      "Reading electrode coords from C:\\Users\\jz421\\Box\\CoganLab\\BIDS-1.1_GlobalLocal\\BIDS\\derivatives\\clean\\sub-D0057\\ieeg\\sub-D0057_acq-01_space-ACPC_electrodes.tsv.\n"
     ]
    },
    {
     "name": "stderr",
     "output_type": "stream",
     "text": [
      "C:\\Users/jz421/Desktop/GlobalLocal/IEEG_Pipelines\\ieeg\\io.py:100: RuntimeWarning: Omitted 226 annotation(s) that were outside data range.\n",
      "  new_raw = read_raw_bids(bids_path=BIDS_path)\n",
      "C:\\Users/jz421/Desktop/GlobalLocal/IEEG_Pipelines\\ieeg\\io.py:100: RuntimeWarning: The number of channels in the channels.tsv sidecar file (179) does not match the number of channels in the raw data file (178). Will not try to set channel names.\n",
      "  new_raw = read_raw_bids(bids_path=BIDS_path)\n",
      "C:\\Users/jz421/Desktop/GlobalLocal/IEEG_Pipelines\\ieeg\\io.py:100: RuntimeWarning: Cannot set channel type for the following channels, as they are missing in the raw data: Trigger\n",
      "  new_raw = read_raw_bids(bids_path=BIDS_path)\n"
     ]
    },
    {
     "name": "stdout",
     "output_type": "stream",
     "text": [
      "<RawEDF | sub-D0057_task-GlobalLocal_acq-01_run-01_desc-clean_ieeg.edf, 178 x 8243200 (4025.0 s), ~201 kB, data not loaded>\n",
      "outlier round 1 channels: ['RAMT8']\n",
      "outlier round 2 channels: ['RAMT8', 'RPI16']\n",
      "Reading 0 ... 3219820  =      0.000 ...  1572.178 secs...\n",
      "Applying average reference.\n",
      "Applying a custom ('sEEG',) reference.\n",
      "Using qt as 2D backend.\n"
     ]
    }
   ],
   "source": [
    "HOME = os.path.expanduser(\"~\")\n",
    "\n",
    "# get box directory depending on OS\n",
    "if os.name == 'nt': # windows\n",
    "    LAB_root = os.path.join(HOME, \"Box\", \"CoganLab\")\n",
    "else: # mac\n",
    "    LAB_root = os.path.join(HOME, \"Library\", \"CloudStorage\", \"Box-Box\", \"CoganLab\")\n",
    "\n",
    "layout = get_data(\"GlobalLocal\", root=LAB_root)\n",
    "\n",
    "\n",
    "layout = get_data(\"GlobalLocal\", root=LAB_root)\n",
    "subjects = layout.get(return_type=\"id\", target=\"subject\")\n",
    "\n",
    "print(subjects)\n",
    "# for sub in subjects:\n",
    "\n",
    "sub='D0057' #why does this not work in the for loop???\n",
    "# Load the data\n",
    "filt = raw_from_layout(layout.derivatives['derivatives/clean'], subject=sub,\n",
    "                        extension='.edf', desc='clean', preload=False) #get line-noise filtered data\n",
    "print(filt)\n",
    "\n",
    "## Crop raw data to minimize processing time\n",
    "good = crop_empty_data(filt)\n",
    "\n",
    "# good.drop_channels(good.info['bads'])\n",
    "good.info['bads'] = channel_outlier_marker(good, 3, 2)\n",
    "good.drop_channels(good.info['bads'])\n",
    "# good.info['bads'] += channel_outlier_marker(good, 4, 2)\n",
    "# good.drop_channels(good.info['bads'])\n",
    "good.load_data()\n",
    "\n",
    "ch_type = filt.get_channel_types(only_data_chs=True)[0]\n",
    "good.set_eeg_reference(ref_channels=\"average\", ch_type=ch_type)\n",
    "\n",
    "# Remove intermediates from mem\n",
    "good.plot()\n",
    "\n",
    "## epoching and trial outlier removal\n",
    "\n",
    "save_dir = os.path.join(layout.root, 'derivatives', 'spec', 'wavelet', sub)\n",
    "if not os.path.exists(save_dir):\n",
    "        os.makedirs(save_dir)"
   ]
  },
  {
   "cell_type": "code",
   "execution_count": 15,
   "metadata": {},
   "outputs": [
    {
     "name": "stdout",
     "output_type": "stream",
     "text": [
      "1359.695801\n"
     ]
    }
   ],
   "source": [
    "first_trial_time = filt.annotations.onset[0]\n",
    "\n",
    "print(first_trial_time)"
   ]
  },
  {
   "cell_type": "code",
   "execution_count": null,
   "metadata": {},
   "outputs": [],
   "source": [
    "RTs, skipped = calculate_RTs(good)\n",
    "avg_RT = np.median(RTs)\n",
    "print(avg_RT)\n",
    "# make stimulus baseline EpochsTFR\n",
    "times=[-1.5, 3.5] #this is for 0.5 sec of padding on each side. Just do 3 seconds as estimate of the full trial. Don't use avg RT because its different across subjects and makes later analysis hard.\n",
    "print(\"times: \" + str(times))\n",
    "trials = trial_ieeg(good, \"Stimulus\", times, preload=True)\n",
    "\n",
    "# print(\"base trials shape is: \" + str(trials._data.shape))\n",
    "outliers_to_nan(trials, outliers=10)\n",
    "base = wavelet_scaleogram(trials, n_jobs=-2, decim=int(good.info['sfreq'] / 100))\n",
    "crop_pad(base, \"0.5s\")\n",
    "\n",
    "\n",
    "print(\"done with base\")\n",
    "\n",
    "#now do rescale with the concatenated baseline epochs\n",
    "for event, t in zip((\"Stimulus\", \"Response\"),((-1, 2), (-1, 2))):\n",
    "        times = [None, None]\n",
    "        times[0] = t[0] - 0.5\n",
    "        times[1] = t[1] + 0.5\n",
    "        trials = trial_ieeg(good, event, times, preload=True)\n",
    "        print(f\"trials for {event} is: \" + str(trials._data.shape))\n",
    "        outliers_to_nan(trials, outliers=10)\n",
    "        spec = wavelet_scaleogram(trials, n_jobs=-2, decim=int(good.info['sfreq'] / 100))\n",
    "        crop_pad(spec, \"0.5s\")\n",
    "        spec_a = rescale(spec, base, copy=True, mode='ratio').average(\n",
    "                lambda x: np.nanmean(x, axis=0), copy=True)\n",
    "        spec_a._data = np.log10(spec_a._data) * 20\n",
    "        fnames = [os.path.relpath(f, layout.root) for f in good.filenames]\n",
    "        spec_a.info['subject_info']['files'] = tuple(fnames)\n",
    "        spec_a.info['bads'] = good.info['bads']\n",
    "        filename = os.path.join(save_dir, f'{event}_OneSecBeforeToThreeSecAfterBase-tfr.h5')\n",
    "        mne.time_frequency.write_tfrs(filename, spec_a, overwrite=True)\n",
    "        spec_a.save(os.path.join(save_dir, f'{event}_OneSecBeforeToThreeSecAfterBase-avg.fif'), overwrite=True)\n"
   ]
  },
  {
   "cell_type": "code",
   "execution_count": 16,
   "metadata": {},
   "outputs": [
    {
     "data": {
      "text/plain": [
       "<mne_qt_browser._pg_figure.MNEQtBrowser at 0x2133a3d1e10>"
      ]
     },
     "execution_count": 16,
     "metadata": {},
     "output_type": "execute_result"
    }
   ],
   "source": [
    "filt.plot(start=0, duration=20)"
   ]
  },
  {
   "cell_type": "markdown",
   "metadata": {},
   "source": [
    "### test it as a function"
   ]
  },
  {
   "cell_type": "code",
   "execution_count": null,
   "metadata": {},
   "outputs": [],
   "source": [
    "import mne.time_frequency\n",
    "import mne\n",
    "from ieeg.io import get_data, raw_from_layout\n",
    "from ieeg.navigate import trial_ieeg, channel_outlier_marker, crop_empty_data, outliers_to_nan\n",
    "from ieeg.calc.scaling import rescale\n",
    "import os\n",
    "from ieeg.timefreq.utils import wavelet_scaleogram, crop_pad\n",
    "import numpy as np\n",
    "from misc_functions import calculate_RTs\n",
    "\n",
    "def make_wavelets(sub, task, output_name, event=None, times=(-1, 2), base_times=(-0.5, 0), LAB_root=None):\n",
    "    \"\"\"\n",
    "    Generate wavelets for a given subject and task using specified events.\n",
    "    \n",
    "    Parameters:\n",
    "    - sub (str): The subject identifier.\n",
    "    - task (str): The task identifier.\n",
    "    - event (str, optional): The event to process. Defaults to None.\n",
    "    - times (tuple, optional): A tuple indicating the start and end times for processing. Defaults to (-1, 2).\n",
    "    - base_times (tuple, optional): A tuple indicating the start and end base times for processing. Defaults to (-0.5, 0).\n",
    "    - LAB_root (str, optional): The root directory for the lab. Will be determined based on OS if not provided. Defaults to None.\n",
    "    - output_name (str): The name for the output files.\n",
    "    \n",
    "    Returns:\n",
    "    - spec_a: Processed data after generating wavelets.\n",
    "    \n",
    "    This function will process the provided events for a given subject and task. \n",
    "    Wavelets will be generated for the events and the results will be saved to output files.\n",
    "    \"\"\"\n",
    "\n",
    "    # Check if LAB_root is provided. If not, determine based on OS.\n",
    "    if LAB_root is None:\n",
    "        HOME = os.path.expanduser(\"~\")\n",
    "        if os.name == 'nt': # windows\n",
    "            LAB_root = os.path.join(HOME, \"Box\", \"CoganLab\")\n",
    "        else: # mac\n",
    "            LAB_root = os.path.join(HOME, \"Library\", \"CloudStorage\", \"Box-Box\", \"CoganLab\")\n",
    "    \n",
    "    layout = get_data(task, root=LAB_root)\n",
    "\n",
    "    # Load the data\n",
    "    filt = raw_from_layout(layout.derivatives['derivatives/clean'], subject=sub, extension='.edf', desc='clean', preload=False)\n",
    "    \n",
    "    # Crop raw data to minimize processing time\n",
    "    good = crop_empty_data(filt)\n",
    "    good.info['bads'] = channel_outlier_marker(good, 3, 2)\n",
    "    good.drop_channels(good.info['bads'])\n",
    "    good.load_data()\n",
    "\n",
    "    ch_type = filt.get_channel_types(only_data_chs=True)[0]\n",
    "    good.set_eeg_reference(ref_channels=\"average\", ch_type=ch_type)\n",
    "\n",
    "    good.plot()\n",
    "\n",
    "    # Epoching and trial outlier removal\n",
    "    save_dir = os.path.join(layout.root, 'derivatives', 'spec', 'wavelet', sub)\n",
    "    if not os.path.exists(save_dir):\n",
    "        os.makedirs(save_dir)\n",
    "\n",
    "    RTs, skipped = calculate_RTs(good)\n",
    "    avg_RT = np.median(RTs)\n",
    "    \n",
    "    # Adjust base_times for padding\n",
    "    adjusted_base_times = [base_times[0] - 0.5, base_times[1] + 0.5]\n",
    "    \n",
    "    # Make stimulus baseline EpochsTFR\n",
    "    trials = trial_ieeg(good, \"Stimulus\", adjusted_base_times, preload=True)\n",
    "    outliers_to_nan(trials, outliers=10)\n",
    "    base = wavelet_scaleogram(trials, n_jobs=-2, decim=int(good.info['sfreq'] / 100))\n",
    "    crop_pad(base, \"0.5s\")\n",
    "\n",
    "    all_trials = []\n",
    "\n",
    "    # Adjust times for padding\n",
    "    times = [times[0] - 0.5, times[1] + 0.5]\n",
    "    trials = trial_ieeg(good, event, times, preload=True)\n",
    "    all_trials.append(trials)\n",
    "        \n",
    "    print(\"all_trials: \", all_trials)\n",
    "\n",
    "    # concatenate all trials\n",
    "    combined_trials = mne.concatenate_epochs(all_trials)\n",
    "    print(\"combined_trials: \", combined_trials)\n",
    "    \n",
    "    outliers_to_nan(combined_trials, outliers=10)\n",
    "    spec = wavelet_scaleogram(combined_trials, n_jobs=-2, decim=int(good.info['sfreq'] / 100))\n",
    "    crop_pad(spec, \"0.5s\")\n",
    "    spec_a = rescale(spec, base, copy=True, mode='ratio').average(lambda x: np.nanmean(x, axis=0), copy=True)\n",
    "    spec_a._data = np.log10(spec_a._data) * 20\n",
    "    fnames = [os.path.relpath(f, layout.root) for f in good.filenames]\n",
    "    spec_a.info['subject_info']['files'] = tuple(fnames)\n",
    "    spec_a.info['bads'] = good.info['bads']\n",
    "    filename = os.path.join(save_dir, f'{output_name}-tfr.h5')\n",
    "    mne.time_frequency.write_tfrs(filename, spec_a, overwrite=True)\n",
    "    spec_a.save(os.path.join(save_dir, f'{output_name}-avg.fif'), overwrite=True)\n",
    "        \n",
    "    return spec_a  # Optional: Return the processed data for further use.\n"
   ]
  },
  {
   "cell_type": "code",
   "execution_count": null,
   "metadata": {},
   "outputs": [],
   "source": [
    "spec_a = make_wavelets(sub='D0057', task=\"GlobalLocal\", output_name=\"Stimulus\", event=\"Stimulus\", times=(-1, 2))"
   ]
  },
  {
   "cell_type": "code",
   "execution_count": null,
   "metadata": {},
   "outputs": [],
   "source": [
    "spec_a = make_wavelets(sub='D0063', task=\"GlobalLocal\", output_name=\"repeat\", events_list=[\"/r\"], times=(-1, 2))"
   ]
  },
  {
   "cell_type": "code",
   "execution_count": null,
   "metadata": {},
   "outputs": [],
   "source": []
  }
 ],
 "metadata": {
  "kernelspec": {
   "display_name": "ieeg",
   "language": "python",
   "name": "python3"
  },
  "language_info": {
   "codemirror_mode": {
    "name": "ipython",
    "version": 3
   },
   "file_extension": ".py",
   "mimetype": "text/x-python",
   "name": "python",
   "nbconvert_exporter": "python",
   "pygments_lexer": "ipython3",
   "version": "3.11.3"
  },
  "orig_nbformat": 4
 },
 "nbformat": 4,
 "nbformat_minor": 2
}
