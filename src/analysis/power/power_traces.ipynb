{
 "cells": [
  {
   "cell_type": "code",
   "execution_count": 21,
   "id": "a6c30e5f",
   "metadata": {},
   "outputs": [
    {
     "name": "stdout",
     "output_type": "stream",
     "text": [
      "['c:\\\\Users\\\\jz421\\\\Desktop\\\\GlobalLocal', 'C:\\\\Users\\\\jz421\\\\Desktop\\\\GlobalLocal\\\\IEEG_Pipelines', 'c:\\\\Users\\\\jz421\\\\AppData\\\\Local\\\\anaconda3\\\\envs\\\\ieeg\\\\python311.zip', 'c:\\\\Users\\\\jz421\\\\AppData\\\\Local\\\\anaconda3\\\\envs\\\\ieeg\\\\DLLs', 'c:\\\\Users\\\\jz421\\\\AppData\\\\Local\\\\anaconda3\\\\envs\\\\ieeg\\\\Lib', 'c:\\\\Users\\\\jz421\\\\AppData\\\\Local\\\\anaconda3\\\\envs\\\\ieeg', '', 'C:\\\\Users\\\\jz421\\\\AppData\\\\Roaming\\\\Python\\\\Python311\\\\site-packages', 'C:\\\\Users\\\\jz421\\\\AppData\\\\Roaming\\\\Python\\\\Python311\\\\site-packages\\\\win32', 'C:\\\\Users\\\\jz421\\\\AppData\\\\Roaming\\\\Python\\\\Python311\\\\site-packages\\\\win32\\\\lib', 'C:\\\\Users\\\\jz421\\\\AppData\\\\Roaming\\\\Python\\\\Python311\\\\site-packages\\\\Pythonwin', 'c:\\\\Users\\\\jz421\\\\AppData\\\\Local\\\\anaconda3\\\\envs\\\\ieeg\\\\Lib\\\\site-packages', 'c:\\\\Users\\\\jz421\\\\AppData\\\\Local\\\\anaconda3\\\\envs\\\\ieeg\\\\Lib\\\\site-packages\\\\win32', 'c:\\\\Users\\\\jz421\\\\AppData\\\\Local\\\\anaconda3\\\\envs\\\\ieeg\\\\Lib\\\\site-packages\\\\win32\\\\lib', 'c:\\\\Users\\\\jz421\\\\AppData\\\\Local\\\\anaconda3\\\\envs\\\\ieeg\\\\Lib\\\\site-packages\\\\Pythonwin', 'C:/Users/jz421/Desktop/GlobalLocal/IEEG_Pipelines/', 'C:/Users/jz421/Desktop/GlobalLocal/IEEG_Pipelines/']\n"
     ]
    }
   ],
   "source": [
    "import warnings\n",
    "warnings.simplefilter(action='ignore', category=FutureWarning)\n",
    "\n",
    "import sys\n",
    "import os\n",
    "\n",
    "print(sys.path)\n",
    "sys.path.append(\"C:/Users/jz421/Desktop/GlobalLocal/IEEG_Pipelines/\") #need to do this cuz otherwise ieeg isn't added to path...\n",
    "\n",
    "# Get the absolute path to the directory containing the current script\n",
    "# For GlobalLocal/src/analysis/preproc/make_epoched_data.py, this is GlobalLocal/src/analysis/preproc\n",
    "try:\n",
    "    # This will work if running as a .py script\n",
    "    current_file_path = os.path.abspath(__file__)\n",
    "    current_script_dir = os.path.dirname(current_file_path)\n",
    "except NameError:\n",
    "    # This will be executed if __file__ is not defined (e.g., in a Jupyter Notebook)\n",
    "    # os.getcwd() often gives the directory of the notebook,\n",
    "    # or the directory from which the Jupyter server was started.\n",
    "    current_script_dir = os.getcwd()\n",
    "\n",
    "# Navigate up three levels to get to the 'GlobalLocal' directory\n",
    "project_root = os.path.abspath(os.path.join(current_script_dir, '..', '..', '..'))\n",
    "\n",
    "# Add the 'GlobalLocal' directory to sys.path if it's not already there\n",
    "if project_root not in sys.path:\n",
    "    sys.path.insert(0, project_root) # insert at the beginning to prioritize it\n",
    "\n",
    "from ieeg.navigate import channel_outlier_marker, trial_ieeg, crop_empty_data, \\\n",
    "    outliers_to_nan\n",
    "from ieeg.io import raw_from_layout, get_data\n",
    "from ieeg.timefreq.utils import crop_pad\n",
    "from ieeg.timefreq import gamma\n",
    "from ieeg.calc.scaling import rescale\n",
    "import mne\n",
    "import numpy as np\n",
    "from ieeg.calc.reshape import make_data_same\n",
    "from ieeg.calc.stats import time_perm_cluster, window_averaged_shuffle\n",
    "from ieeg.viz.mri import gen_labels\n",
    "\n",
    "# from utils import make_or_load_subjects_electrodes_to_ROIs_dict, load_acc_arrays, calculate_RTs, save_channels_to_file, save_sig_chans, \\\n",
    "#       load_sig_chans, channel_names_to_indices, filter_and_average_epochs, permutation_test, perform_permutation_test_across_electrodes, perform_permutation_test_within_electrodes, \\\n",
    "#       add_accuracy_to_epochs, load_mne_objects, create_subjects_mne_objects_dict, extract_significant_effects, convert_dataframe_to_serializable_format, \\\n",
    "#       perform_modular_anova, make_plotting_parameters, plot_significance\n",
    "\n",
    "import matplotlib.pyplot as plt\n",
    "from collections import OrderedDict, defaultdict\n",
    "import json\n",
    "# still need to test if the permutation test functions load in properly.\n",
    "import pandas as pd\n",
    "from statsmodels.stats.multitest import multipletests\n",
    "import statsmodels.api as sm\n",
    "from statsmodels.formula.api import ols\n",
    "from statsmodels.stats.anova import anova_lm\n",
    "\n",
    "# from src.analysis.power.roi_analysis import blah_blah\n",
    "from src.analysis.config import experiment_conditions, plotting_parameters\n",
    "import src.analysis.utils.general_utils as utils # import utils functions one by one by name"
   ]
  },
  {
   "cell_type": "markdown",
   "id": "ea17ace1",
   "metadata": {},
   "source": [
    "choose which subjects you wanna run (has to be a list, even if just one subject)"
   ]
  },
  {
   "cell_type": "code",
   "execution_count": 3,
   "id": "414ee848",
   "metadata": {},
   "outputs": [],
   "source": [
    "# subjects = ['D0057','D0059', 'D0063', 'D0065', 'D0069', 'D0071', 'D0077', 'D0090', 'D0094', 'D0100', 'D0102', 'D0103', 'D0107A', 'D0110', 'D0116', 'D0117', 'D0121']\n",
    "subjects = ['D0057']"
   ]
  },
  {
   "cell_type": "markdown",
   "id": "d6debcaf",
   "metadata": {},
   "source": [
    "### make or load subjects electrodes to rois dict"
   ]
  },
  {
   "cell_type": "code",
   "execution_count": 4,
   "id": "43e4bdab",
   "metadata": {},
   "outputs": [
    {
     "name": "stdout",
     "output_type": "stream",
     "text": [
      "Attempting to load the subjects' electrodes-to-ROIs dictionary...\n",
      "Failed to decode JSON from C:\\Users\\jz421\\Desktop\\GlobalLocal\\src\\analysis\\config\\subjects_electrodestoROIs_dict.json: Expecting value: line 1 column 1 (char 0)\n",
      "No dictionary found. Looks like it's our lucky day to create one!\n",
      "D0057\n",
      "Extracting EDF parameters from C:\\Users\\jz421\\Box\\CoganLab\\BIDS-1.1_GlobalLocal\\BIDS\\derivatives\\clean\\sub-D0057\\ieeg\\sub-D0057_task-GlobalLocal_acq-01_run-01_desc-clean_ieeg.edf...\n",
      "EDF file detected\n",
      "Setting channel info structure...\n",
      "Creating raw.info structure...\n",
      "Reading events from C:\\Users\\jz421\\Box\\CoganLab\\BIDS-1.1_GlobalLocal\\BIDS\\derivatives\\clean\\sub-D0057\\ieeg\\sub-D0057_task-GlobalLocal_acq-01_run-01_desc-clean_events.tsv.\n",
      "Reading channel info from C:\\Users\\jz421\\Box\\CoganLab\\BIDS-1.1_GlobalLocal\\BIDS\\derivatives\\clean\\sub-D0057\\ieeg\\sub-D0057_task-GlobalLocal_acq-01_run-01_desc-clean_channels.tsv.\n",
      "Reading electrode coords from C:\\Users\\jz421\\Box\\CoganLab\\BIDS-1.1_GlobalLocal\\BIDS\\derivatives\\clean\\sub-D0057\\ieeg\\sub-D0057_acq-01_space-ACPC_electrodes.tsv.\n",
      "Extracting EDF parameters from C:\\Users\\jz421\\Box\\CoganLab\\BIDS-1.1_GlobalLocal\\BIDS\\derivatives\\clean\\sub-D0057\\ieeg\\sub-D0057_task-GlobalLocal_acq-01_run-02_desc-clean_ieeg.edf...\n",
      "EDF file detected\n",
      "Setting channel info structure...\n",
      "Creating raw.info structure...\n"
     ]
    },
    {
     "name": "stderr",
     "output_type": "stream",
     "text": [
      "C:\\Users\\jz421\\Desktop\\GlobalLocal\\IEEG_Pipelines\\ieeg\\io.py:113: RuntimeWarning: The number of channels in the channels.tsv sidecar file (179) does not match the number of channels in the raw data file (178). Will not try to set channel names.\n",
      "  new_raw = read_raw_bids(bids_path=BIDS_path, verbose=verbose)\n",
      "C:\\Users\\jz421\\Desktop\\GlobalLocal\\IEEG_Pipelines\\ieeg\\io.py:113: RuntimeWarning: Cannot set channel type for the following channels, as they are missing in the raw data: Trigger\n",
      "  new_raw = read_raw_bids(bids_path=BIDS_path, verbose=verbose)\n"
     ]
    },
    {
     "name": "stdout",
     "output_type": "stream",
     "text": [
      "Reading events from C:\\Users\\jz421\\Box\\CoganLab\\BIDS-1.1_GlobalLocal\\BIDS\\derivatives\\clean\\sub-D0057\\ieeg\\sub-D0057_task-GlobalLocal_acq-01_run-02_desc-clean_events.tsv.\n",
      "Reading channel info from C:\\Users\\jz421\\Box\\CoganLab\\BIDS-1.1_GlobalLocal\\BIDS\\derivatives\\clean\\sub-D0057\\ieeg\\sub-D0057_task-GlobalLocal_acq-01_run-02_desc-clean_channels.tsv.\n",
      "Reading electrode coords from C:\\Users\\jz421\\Box\\CoganLab\\BIDS-1.1_GlobalLocal\\BIDS\\derivatives\\clean\\sub-D0057\\ieeg\\sub-D0057_acq-01_space-ACPC_electrodes.tsv.\n",
      "Extracting EDF parameters from C:\\Users\\jz421\\Box\\CoganLab\\BIDS-1.1_GlobalLocal\\BIDS\\derivatives\\clean\\sub-D0057\\ieeg\\sub-D0057_task-GlobalLocal_acq-01_run-03_desc-clean_ieeg.edf...\n",
      "EDF file detected\n",
      "Setting channel info structure...\n",
      "Creating raw.info structure...\n"
     ]
    },
    {
     "name": "stderr",
     "output_type": "stream",
     "text": [
      "C:\\Users\\jz421\\Desktop\\GlobalLocal\\IEEG_Pipelines\\ieeg\\io.py:113: RuntimeWarning: Omitted 228 annotation(s) that were outside data range.\n",
      "  new_raw = read_raw_bids(bids_path=BIDS_path, verbose=verbose)\n",
      "C:\\Users\\jz421\\Desktop\\GlobalLocal\\IEEG_Pipelines\\ieeg\\io.py:113: RuntimeWarning: The number of channels in the channels.tsv sidecar file (179) does not match the number of channels in the raw data file (178). Will not try to set channel names.\n",
      "  new_raw = read_raw_bids(bids_path=BIDS_path, verbose=verbose)\n",
      "C:\\Users\\jz421\\Desktop\\GlobalLocal\\IEEG_Pipelines\\ieeg\\io.py:113: RuntimeWarning: Cannot set channel type for the following channels, as they are missing in the raw data: Trigger\n",
      "  new_raw = read_raw_bids(bids_path=BIDS_path, verbose=verbose)\n"
     ]
    },
    {
     "name": "stdout",
     "output_type": "stream",
     "text": [
      "Reading events from C:\\Users\\jz421\\Box\\CoganLab\\BIDS-1.1_GlobalLocal\\BIDS\\derivatives\\clean\\sub-D0057\\ieeg\\sub-D0057_task-GlobalLocal_acq-01_run-03_desc-clean_events.tsv.\n",
      "Reading channel info from C:\\Users\\jz421\\Box\\CoganLab\\BIDS-1.1_GlobalLocal\\BIDS\\derivatives\\clean\\sub-D0057\\ieeg\\sub-D0057_task-GlobalLocal_acq-01_run-03_desc-clean_channels.tsv.\n",
      "Reading electrode coords from C:\\Users\\jz421\\Box\\CoganLab\\BIDS-1.1_GlobalLocal\\BIDS\\derivatives\\clean\\sub-D0057\\ieeg\\sub-D0057_acq-01_space-ACPC_electrodes.tsv.\n",
      "Extracting EDF parameters from C:\\Users\\jz421\\Box\\CoganLab\\BIDS-1.1_GlobalLocal\\BIDS\\derivatives\\clean\\sub-D0057\\ieeg\\sub-D0057_task-GlobalLocal_acq-01_run-04_desc-clean_ieeg.edf...\n",
      "EDF file detected\n"
     ]
    },
    {
     "name": "stderr",
     "output_type": "stream",
     "text": [
      "C:\\Users\\jz421\\Desktop\\GlobalLocal\\IEEG_Pipelines\\ieeg\\io.py:113: RuntimeWarning: Omitted 228 annotation(s) that were outside data range.\n",
      "  new_raw = read_raw_bids(bids_path=BIDS_path, verbose=verbose)\n",
      "C:\\Users\\jz421\\Desktop\\GlobalLocal\\IEEG_Pipelines\\ieeg\\io.py:113: RuntimeWarning: The number of channels in the channels.tsv sidecar file (179) does not match the number of channels in the raw data file (178). Will not try to set channel names.\n",
      "  new_raw = read_raw_bids(bids_path=BIDS_path, verbose=verbose)\n",
      "C:\\Users\\jz421\\Desktop\\GlobalLocal\\IEEG_Pipelines\\ieeg\\io.py:113: RuntimeWarning: Cannot set channel type for the following channels, as they are missing in the raw data: Trigger\n",
      "  new_raw = read_raw_bids(bids_path=BIDS_path, verbose=verbose)\n"
     ]
    },
    {
     "name": "stdout",
     "output_type": "stream",
     "text": [
      "Setting channel info structure...\n",
      "Creating raw.info structure...\n",
      "Reading events from C:\\Users\\jz421\\Box\\CoganLab\\BIDS-1.1_GlobalLocal\\BIDS\\derivatives\\clean\\sub-D0057\\ieeg\\sub-D0057_task-GlobalLocal_acq-01_run-04_desc-clean_events.tsv.\n",
      "Reading channel info from C:\\Users\\jz421\\Box\\CoganLab\\BIDS-1.1_GlobalLocal\\BIDS\\derivatives\\clean\\sub-D0057\\ieeg\\sub-D0057_task-GlobalLocal_acq-01_run-04_desc-clean_channels.tsv.\n",
      "Reading electrode coords from C:\\Users\\jz421\\Box\\CoganLab\\BIDS-1.1_GlobalLocal\\BIDS\\derivatives\\clean\\sub-D0057\\ieeg\\sub-D0057_acq-01_space-ACPC_electrodes.tsv.\n"
     ]
    },
    {
     "name": "stderr",
     "output_type": "stream",
     "text": [
      "C:\\Users\\jz421\\Desktop\\GlobalLocal\\IEEG_Pipelines\\ieeg\\io.py:113: RuntimeWarning: Omitted 226 annotation(s) that were outside data range.\n",
      "  new_raw = read_raw_bids(bids_path=BIDS_path, verbose=verbose)\n",
      "C:\\Users\\jz421\\Desktop\\GlobalLocal\\IEEG_Pipelines\\ieeg\\io.py:113: RuntimeWarning: The number of channels in the channels.tsv sidecar file (179) does not match the number of channels in the raw data file (178). Will not try to set channel names.\n",
      "  new_raw = read_raw_bids(bids_path=BIDS_path, verbose=verbose)\n",
      "C:\\Users\\jz421\\Desktop\\GlobalLocal\\IEEG_Pipelines\\ieeg\\io.py:113: RuntimeWarning: Cannot set channel type for the following channels, as they are missing in the raw data: Trigger\n",
      "  new_raw = read_raw_bids(bids_path=BIDS_path, verbose=verbose)\n"
     ]
    },
    {
     "name": "stdout",
     "output_type": "stream",
     "text": [
      "outlier round 1 channels: ['RAMT8']\n",
      "outlier round 2 channels: ['RAMT8', 'RPI16']\n",
      "outlier round 2 channels: ['RAMT8', 'RPI16', 'LAMT12']\n",
      "Reading 0 ... 6198083  =      0.000 ...  3026.408 secs...\n",
      "Applying average reference.\n",
      "Applying a custom ('sEEG',) reference.\n",
      "DEBUG: For subject 'D57', attempting to read CSV: 'C:\\Users\\jz421\\Box\\ECoG_Recon\\D57\\elec_recon\\D57_elec_location_radius_10mm_aparc.a2009s+aseg.mgz.csv'\n",
      "Saved subjects_dict to C:\\Users\\jz421\\Desktop\\GlobalLocal\\src\\analysis\\config\\subjects_electrodestoROIs_dict.json\n",
      "Loaded data from C:\\Users\\jz421\\Desktop\\GlobalLocal\\src\\analysis\\config\\subjects_electrodestoROIs_dict.json\n",
      "Dictionary created and loaded successfully. Let's roll!\n"
     ]
    }
   ],
   "source": [
    "# load in subjects electrodes to rois dict. If it doesn't already exist, make it and then load it.\n",
    "config_dir = r'C:\\Users\\jz421\\Desktop\\GlobalLocal\\src\\analysis\\config'\n",
    "subjects_electrodestoROIs_dict = utils.make_or_load_subjects_electrodes_to_ROIs_dict(subjects, task='GlobalLocal', LAB_root=None, save_dir=config_dir, \n",
    "                                                filename='subjects_electrodestoROIs_dict.json')"
   ]
  },
  {
   "cell_type": "markdown",
   "id": "e5acd51b",
   "metadata": {},
   "source": [
    "check number of elecs"
   ]
  },
  {
   "cell_type": "code",
   "execution_count": 5,
   "id": "81604e4a",
   "metadata": {},
   "outputs": [
    {
     "name": "stdout",
     "output_type": "stream",
     "text": [
      "total elecs: 175\n"
     ]
    }
   ],
   "source": [
    "# Calculate the total number of electrodes in the 'default_dict' across subjects\n",
    "total_electrodes = utils.count_electrodes_across_subjects(subjects_electrodestoROIs_dict, subjects)\n",
    "print('total elecs:', total_electrodes)"
   ]
  },
  {
   "cell_type": "markdown",
   "id": "7de999e5",
   "metadata": {},
   "source": [
    "load behavioral data (combinedData.csv) and map blockType to congruency and switch proportions in the behavioral data"
   ]
  },
  {
   "cell_type": "code",
   "execution_count": 6,
   "id": "56a6406e",
   "metadata": {},
   "outputs": [],
   "source": [
    "combined_data = pd.read_csv(r'C:\\Users\\jz421\\Box\\CoganLab\\D_Data\\GlobalLocal\\combinedData.csv')\n",
    "combined_data[['congruencyProportion', 'switchProportion']] = combined_data.apply(utils.map_block_type, axis=1)"
   ]
  },
  {
   "cell_type": "markdown",
   "id": "f1a16de4",
   "metadata": {},
   "source": [
    "### load epochs objects for chosen conditions for all subjects in a dictionary"
   ]
  },
  {
   "cell_type": "code",
   "execution_count": 7,
   "id": "78174b80",
   "metadata": {},
   "outputs": [],
   "source": [
    "task='GlobalLocal'\n",
    "conditions = experiment_conditions.stimulus_switch_type_conditions # set this to whichever conditions you're running\n",
    "stimulus_locked = True  #toggle\n",
    "response_locked = not stimulus_locked\n",
    "\n",
    "if stimulus_locked:\n",
    "    # epochs_root_file = \"Stimulus_0.5sec_within1sec_randoffset_preStimulusBase_decFactor_8_outliers_10_passband_4.0-8.0_padLength_0.5s_stat_func_ttest_ind_equal_var_False\"\n",
    "    # epochs_root_file = \"Stimulus_0.5sec_within1sec_randoffset_preStimulusBase_decFactor_8_outliers_10\"\n",
    "    epochs_root_file = \"Stimulus_0.5sec_within1sec_randoffset_preStimulusBase_decFactor_8_outliers_10_passband_70.0-150.0_padLength_0.5s_stat_func_ttest_ind_equal_var_False\"\n",
    "    # epochs_root_file = \"Stimulus_0.5sec_within1sec_randoffset_preStimulusBase_decFactor_8_outliers_10_passband_0.0-30.0_padLength_0.5s_stat_func_ttest_ind_equal_var_False\"\n",
    "    # epochs_root_file = \"Stimulus_100sec_within1-101sec_experimentStartBase_decFactor_8_outliers_10_passband_70-150_padLength_0.5s_stat_func_ttest_ind_equal_var_False\"\n",
    "\n",
    "elif response_locked:\n",
    "    # epochs_root_file = \"Response_0.5sec_within1sec_randoffset_preStimulusBase_decFactor_8_outliers_10_passband_4.0-8.0_padLength_0.5s_stat_func_ttest_ind\"\n",
    "    epochs_root_file = \"Response_0.5sec_within1sec_randoffset_preStimulusBase_decFactor_8_outliers_10_passband_70.0-150.0_padLength_0.5s_stat_func_ttest_ind\"\n",
    "\n",
    "condition_names = [condition for condition in conditions.keys()]"
   ]
  },
  {
   "cell_type": "code",
   "execution_count": 8,
   "id": "18795727",
   "metadata": {},
   "outputs": [
    {
     "name": "stdout",
     "output_type": "stream",
     "text": [
      "Loading data for subject: D0057\n",
      "Reading C:\\Users\\jz421\\Box\\CoganLab\\BIDS-1.1_GlobalLocal\\BIDS\\derivatives\\freqFilt\\figs\\D0057\\D0057_Stimulus_0.5sec_within1sec_randoffset_preStimulusBase_decFactor_8_outliers_10_passband_70.0-150.0_padLength_0.5s_stat_func_ttest_ind_equal_var_False_HG_ev1_rescaled-epo.fif ...\n",
      "    Found the data of interest:\n",
      "        t =   -1000.00 ...    1500.00 ms\n",
      "        0 CTF compensation matrices available\n",
      "Not setting metadata\n",
      "449 matching events found\n",
      "No baseline correction applied\n",
      "0 projection items activated\n",
      "Reading C:\\Users\\jz421\\Box\\CoganLab\\BIDS-1.1_GlobalLocal\\BIDS\\derivatives\\freqFilt\\figs\\D0057\\D0057_Stimulus_0.5sec_within1sec_randoffset_preStimulusBase_decFactor_8_outliers_10_passband_70.0-150.0_padLength_0.5s_stat_func_ttest_ind_equal_var_False_HG_ev1_power_rescaled-epo.fif ...\n",
      "    Found the data of interest:\n",
      "        t =   -1000.00 ...    1500.00 ms\n",
      "        0 CTF compensation matrices available\n",
      "Not setting metadata\n",
      "449 matching events found\n",
      "No baseline correction applied\n",
      "0 projection items activated\n",
      "  Loading condition: Stimulus_r with parameters: {'BIDS_events': ['Stimulus/r25.0', 'Stimulus/r75.0'], 'switchType': 'r'}\n",
      "Not setting metadata\n",
      "212 matching events found\n",
      "No baseline correction applied\n"
     ]
    },
    {
     "name": "stderr",
     "output_type": "stream",
     "text": [
      "c:\\Users\\jz421\\Desktop\\GlobalLocal\\src\\analysis\\utils\\general_utils.py:403: RuntimeWarning: Concatenation of Annotations within Epochs is not supported yet. All annotations will be dropped.\n",
      "  event_epochs = mne.concatenate_epochs(combined_epochs)\n"
     ]
    },
    {
     "name": "stdout",
     "output_type": "stream",
     "text": [
      "    Original shape: (212, 175, 641)\n",
      "    Trials with all NaN values: 0\n",
      "    Average NaN count per trial: 111.9\n",
      "    Max NaN count in a trial: 1282\n",
      "    Stimulus_r: 212 valid trials out of 212\n",
      "  Loading condition: Stimulus_s with parameters: {'BIDS_events': ['Stimulus/s25.0', 'Stimulus/s75.0'], 'switchType': 's'}\n",
      "Not setting metadata\n",
      "189 matching events found\n",
      "No baseline correction applied\n"
     ]
    },
    {
     "name": "stderr",
     "output_type": "stream",
     "text": [
      "c:\\Users\\jz421\\Desktop\\GlobalLocal\\src\\analysis\\utils\\general_utils.py:403: RuntimeWarning: Concatenation of Annotations within Epochs is not supported yet. All annotations will be dropped.\n",
      "  event_epochs = mne.concatenate_epochs(combined_epochs)\n"
     ]
    },
    {
     "name": "stdout",
     "output_type": "stream",
     "text": [
      "    Original shape: (189, 175, 641)\n",
      "    Trials with all NaN values: 0\n",
      "    Average NaN count per trial: 135.7\n",
      "    Max NaN count in a trial: 1923\n",
      "    Stimulus_s: 189 valid trials out of 189\n",
      "  Loading condition: Stimulus_r with parameters: {'BIDS_events': ['Stimulus/r25.0', 'Stimulus/r75.0'], 'switchType': 'r'}\n",
      "Not setting metadata\n",
      "212 matching events found\n",
      "No baseline correction applied\n"
     ]
    },
    {
     "name": "stderr",
     "output_type": "stream",
     "text": [
      "c:\\Users\\jz421\\Desktop\\GlobalLocal\\src\\analysis\\utils\\general_utils.py:403: RuntimeWarning: Concatenation of Annotations within Epochs is not supported yet. All annotations will be dropped.\n",
      "  event_epochs = mne.concatenate_epochs(combined_epochs)\n"
     ]
    },
    {
     "name": "stdout",
     "output_type": "stream",
     "text": [
      "    Original shape: (212, 175, 641)\n",
      "    Trials with all NaN values: 0\n",
      "    Average NaN count per trial: 111.9\n",
      "    Max NaN count in a trial: 1282\n",
      "    Stimulus_r: 212 valid trials out of 212\n",
      "  Loading condition: Stimulus_s with parameters: {'BIDS_events': ['Stimulus/s25.0', 'Stimulus/s75.0'], 'switchType': 's'}\n",
      "Not setting metadata\n",
      "189 matching events found\n",
      "No baseline correction applied\n"
     ]
    },
    {
     "name": "stderr",
     "output_type": "stream",
     "text": [
      "c:\\Users\\jz421\\Desktop\\GlobalLocal\\src\\analysis\\utils\\general_utils.py:403: RuntimeWarning: Concatenation of Annotations within Epochs is not supported yet. All annotations will be dropped.\n",
      "  event_epochs = mne.concatenate_epochs(combined_epochs)\n"
     ]
    },
    {
     "name": "stdout",
     "output_type": "stream",
     "text": [
      "    Original shape: (189, 175, 641)\n",
      "    Trials with all NaN values: 0\n",
      "    Average NaN count per trial: 135.7\n",
      "    Max NaN count in a trial: 1923\n",
      "    Stimulus_s: 189 valid trials out of 189\n"
     ]
    }
   ],
   "source": [
    "if conditions == experiment_conditions.stimulus_conditions:\n",
    "    conditions_save_name = 'stimulus_conditions' + '_' + epochs_root_file + '_' + str(len(subjects)) + '_' + 'subjects'\n",
    "elif conditions == experiment_conditions.stimulus_experiment_conditions:\n",
    "    conditions_save_name = 'stimulus_experiment_conditions' + '_' + epochs_root_file + '_' + str(len(subjects)) + '_' + 'subjects'\n",
    "elif conditions == experiment_conditions.stimulus_main_effect_conditions:\n",
    "    conditions_save_name = 'stimulus_main_effect_conditions' + '_' + epochs_root_file + '_' + str(len(subjects)) + '_' + 'subjects'\n",
    "elif conditions == experiment_conditions.stimulus_lwpc_conditions:\n",
    "    conditions_save_name = 'stimulus_lwpc_conditions' + '_' + epochs_root_file + '_' + str(len(subjects)) + '_' + 'subjects'\n",
    "elif conditions == experiment_conditions.stimulus_lwps_conditions:\n",
    "    conditions_save_name = 'stimulus_lwps_conditions' + '_' + epochs_root_file + '_' + str(len(subjects)) + '_' + 'subjects'\n",
    "elif conditions == experiment_conditions.stimulus_big_letter_conditions:\n",
    "    conditions_save_name = 'stimulus_big_letter_conditions' + '_' + epochs_root_file + '_' + str(len(subjects)) + '_' + 'subjects'\n",
    "elif conditions == experiment_conditions.stimulus_small_letter_conditions:\n",
    "    conditions_save_name = 'stimulus_small_letter_conditions' + '_' + epochs_root_file + '_' + str(len(subjects)) + '_' + 'subjects'\n",
    "elif conditions == experiment_conditions.stimulus_task_conditions:\n",
    "    conditions_save_name = 'stimulus_task_conditions' + '_' + epochs_root_file + '_' + str(len(subjects)) + '_' + 'subjects'\n",
    "elif conditions == experiment_conditions.stimulus_congruency_conditions:\n",
    "    conditions_save_name = 'stimulus_congruency_conditions' + '_' + epochs_root_file + '_' + str(len(subjects)) + '_' + 'subjects'\n",
    "elif conditions == experiment_conditions.stimulus_switch_type_conditions:\n",
    "    conditions_save_name = 'stimulus_switch_type_conditions' + '_' + epochs_root_file + '_' + str(len(subjects)) + '_' + 'subjects'\n",
    "\n",
    "elif conditions == experiment_conditions.response_conditions:\n",
    "    conditions_save_name = 'response_conditions' + '_' + epochs_root_file + '_' + str(len(subjects)) + '_' + 'subjects'\n",
    "elif conditions == experiment_conditions.response_experiment_conditions:\n",
    "    conditions_save_name = 'response_experiment_conditions' + '_' + epochs_root_file + '_' + str(len(subjects)) + '_' + 'subjects'\n",
    "elif conditions == experiment_conditions.response_big_letter_conditions:\n",
    "    conditions_save_name = 'response_big_letter_conditions' + '_' + epochs_root_file + '_' + str(len(subjects)) + '_' + 'subjects'\n",
    "elif conditions == experiment_conditions.response_small_letter_conditions:\n",
    "    conditions_save_name = 'response_small_letter_conditions' + '_' + epochs_root_file + '_' + str(len(subjects)) + '_' + 'subjects'\n",
    "elif conditions == experiment_conditions.response_task_conditions:\n",
    "    conditions_save_name = 'response_task_conditions' + '_' + epochs_root_file + '_' + str(len(subjects)) + '_' + 'subjects'\n",
    "elif conditions == experiment_conditions.response_congruency_conditions:\n",
    "    conditions_save_name = 'response_congruency_conditions' + '_' + epochs_root_file + '_' + str(len(subjects)) + '_' + 'subjects'\n",
    "elif conditions == experiment_conditions.response_switch_type_conditions:\n",
    "    conditions_save_name = 'response_switch_type_conditions' + '_' + epochs_root_file + '_' + str(len(subjects)) + '_' + 'subjects'\n",
    "    \n",
    "# Assuming 'combined_data' is your DataFrame and 'subjects' is your list of subject IDs\n",
    "subjects_mne_objects = utils.create_subjects_mne_objects_dict(subjects=subjects, epochs_root_file=epochs_root_file, conditions=conditions, task=\"GlobalLocal\", just_HG_ev1_rescaled=True, acc_trials_only=True, error_trials_only=False)"
   ]
  },
  {
   "cell_type": "markdown",
   "id": "318b8444",
   "metadata": {},
   "source": [
    "### load stimulus significant channels. Compare ROI electrodes in next cell to these to see if they're included.\n",
    "\n",
    "maybe do response significant channels too/instead?"
   ]
  },
  {
   "cell_type": "code",
   "execution_count": 9,
   "id": "38778777",
   "metadata": {},
   "outputs": [
    {
     "name": "stdout",
     "output_type": "stream",
     "text": [
      "Loaded significant channels for subject D0057\n"
     ]
    }
   ],
   "source": [
    "sig_chans_per_subject = utils.get_sig_chans_per_subject(subjects, epochs_root_file, task='GlobalLocal', LAB_root=None)\n",
    "\n",
    "# Now sig_chans_per_subject dictionary is populated with significant channels for each subject"
   ]
  },
  {
   "cell_type": "markdown",
   "id": "7959842a",
   "metadata": {},
   "source": [
    "### get the significant electrodes across subjects for each ROI of interest"
   ]
  },
  {
   "cell_type": "markdown",
   "id": "ae2e56bd",
   "metadata": {},
   "source": [
    "dlPFC based on Yamagishi et al 2016 definition is G_front_middle, G_front_sup, S_front_inf, S_front_middle, S_front_sup\n",
    "ACC based on Destrieux et al 2010 definition is G_and_S_cingul-Ant"
   ]
  },
  {
   "cell_type": "code",
   "execution_count": 10,
   "id": "b25517fa",
   "metadata": {},
   "outputs": [
    {
     "name": "stdout",
     "output_type": "stream",
     "text": [
      "For subject D0057, G_front_inf-Opercular, G_front_inf-Orbital, G_front_inf-Triangul, G_front_middle, G_front_sup, Lat_Fis-ant-Horizont, Lat_Fis-ant-Vertical, S_circular_insula_ant, S_circular_insula_sup, S_front_inf, S_front_middle, S_front_sup electrodes are: ['RAI6', 'RAI12', 'RAI13', 'RAI14', 'RAI15', 'RAI16', 'RPI15', 'RPI14', 'RAMF10', 'RAMF11', 'RAMF12', 'RAMF13', 'RAMF14', 'RAIF11', 'RAIF12', 'RAIF13', 'RAIF14']\n",
      "Subject D0057 significant G_front_inf-Opercular, G_front_inf-Orbital, G_front_inf-Triangul, G_front_middle, G_front_sup, Lat_Fis-ant-Horizont, Lat_Fis-ant-Vertical, S_circular_insula_ant, S_circular_insula_sup, S_front_inf, S_front_middle, S_front_sup electrodes: ['RAI6', 'RAMF14']\n",
      "For subject D0057, G_cuneus, G_and_S_occipital_inf, G_occipital_middle, G_occipital_sup, G_oc-temp_lat-fusifor, G_oc-temp_med-Lingual, Pole_occipital, S_calcarine, S_oc_middle_and_Lunatus, S_oc_sup_and_transversal, S_occipital_ant electrodes are: ['RPIT1']\n",
      "Subject D0057 significant G_cuneus, G_and_S_occipital_inf, G_occipital_middle, G_occipital_sup, G_oc-temp_lat-fusifor, G_oc-temp_med-Lingual, Pole_occipital, S_calcarine, S_oc_middle_and_Lunatus, S_oc_sup_and_transversal, S_occipital_ant electrodes: ['RPIT1']\n"
     ]
    }
   ],
   "source": [
    "# rois_dict = {\n",
    "#     # 'dlpfc': [\"G_front_middle\", \"G_front_sup\", \"S_front_inf\", \"S_front_middle\", \"S_front_sup\"],\n",
    "#     # 'acc': [\"G_and_S_cingul-Ant\", \"G_and_S_cingul-Mid-Ant\"],\n",
    "#     # 'parietal': [\"G_parietal_sup\", \"S_intrapariet_and_P_trans\", \"G_pariet_inf-Angular\", \"G_pariet_inf-Supramar\"],\n",
    "#     'lpfc': [\"G_front_inf-Opercular\", \"G_front_inf-Orbital\", \"G_front_inf-Triangul\", \"G_front_middle\", \"G_front_sup\", \"Lat_Fis-ant-Horizont\", \"Lat_Fis-ant-Vertical\", \"S_circular_insula_ant\", \"S_circular_insula_sup\", \"S_front_inf\", \"S_front_middle\", \"S_front_sup\"],\n",
    "#     'v1': [\"G_oc-temp_med-Lingual\", \"S_calcarine\", \"G_cuneus\"],\n",
    "#     'occ': [\"G_cuneus\", \"G_and_S_occipital_inf\", \"G_occipital_middle\", \"G_occipital_sup\", \"G_oc-temp_lat-fusifor\", \"G_oc-temp_med-Lingual\", \"Pole_occipital\", \"S_calcarine\", \"S_oc_middle_and_Lunatus\", \"S_oc_sup_and_transversal\", \"S_occipital_ant\"]\n",
    "# }\n",
    "\n",
    "# the cns 24/sfn 24 poster plots need just one roi. Fix all this code later. 10/1.\n",
    "# rois_dict = {\n",
    "#     'lpfc': [\"G_front_inf-Opercular\", \"G_front_inf-Orbital\", \"G_front_inf-Triangul\", \"G_front_middle\", \"G_front_sup\", \"Lat_Fis-ant-Horizont\", \"Lat_Fis-ant-Vertical\", \"S_circular_insula_ant\", \"S_circular_insula_sup\", \"S_front_inf\", \"S_front_middle\", \"S_front_sup\"]\n",
    "# }\n",
    "\n",
    "rois_dict = {\n",
    "    'lpfc': [\"G_front_inf-Opercular\", \"G_front_inf-Orbital\", \"G_front_inf-Triangul\", \"G_front_middle\", \"G_front_sup\", \"Lat_Fis-ant-Horizont\", \"Lat_Fis-ant-Vertical\", \"S_circular_insula_ant\", \"S_circular_insula_sup\", \"S_front_inf\", \"S_front_middle\", \"S_front_sup\"],\n",
    "    'occ': [\"G_cuneus\", \"G_and_S_occipital_inf\", \"G_occipital_middle\", \"G_occipital_sup\", \"G_oc-temp_lat-fusifor\", \"G_oc-temp_med-Lingual\", \"Pole_occipital\", \"S_calcarine\", \"S_oc_middle_and_Lunatus\", \"S_oc_sup_and_transversal\", \"S_occipital_ant\"]\n",
    "}\n",
    "\n",
    "rois = list(rois_dict.keys())\n",
    "electrodes_per_subject_roi, sig_electrodes_per_subject_roi = utils.make_sig_electrodes_per_subject_and_roi_dict(rois_dict, subjects_electrodestoROIs_dict, sig_chans_per_subject)"
   ]
  },
  {
   "cell_type": "code",
   "execution_count": 11,
   "id": "d5b075f6",
   "metadata": {},
   "outputs": [
    {
     "name": "stdout",
     "output_type": "stream",
     "text": [
      "total sig elecs: 74\n"
     ]
    }
   ],
   "source": [
    "print('total sig elecs:', sum(len(sig_chans_per_subject[sub]) for sub in sig_chans_per_subject))"
   ]
  },
  {
   "cell_type": "markdown",
   "id": "e9aeadde",
   "metadata": {},
   "source": [
    "get number of sig and all electrodes per subject and across subjects"
   ]
  },
  {
   "cell_type": "code",
   "execution_count": 16,
   "id": "823d6d6d",
   "metadata": {},
   "outputs": [
    {
     "name": "stdout",
     "output_type": "stream",
     "text": [
      "Subject D0057, ROI lpfc, Num of Sig Electrodes: 2, Num of All Electrodes: 17\n",
      "Subject D0057, ROI occ, Num of Sig Electrodes: 1, Num of All Electrodes: 1\n"
     ]
    }
   ],
   "source": [
    "for roi in rois:\n",
    "    for sub in subjects:\n",
    "        sig_elecs = sig_electrodes_per_subject_roi.get(roi, {}).get(sub, [])\n",
    "        all_elecs = electrodes_per_subject_roi.get(roi, {}).get(sub, [])\n",
    "        print(f\"Subject {sub}, ROI {roi}, Num of Sig Electrodes: {len(sig_elecs)}, Num of All Electrodes: {len(all_elecs)}\")"
   ]
  },
  {
   "cell_type": "code",
   "execution_count": 12,
   "id": "3955df57",
   "metadata": {},
   "outputs": [
    {
     "name": "stdout",
     "output_type": "stream",
     "text": [
      "Total number of significant lpfc electrodes across all subjects: 2\n",
      "Total number of lpfc electrodes across all subjects: 17\n",
      "Total number of significant occ electrodes across all subjects: 1\n",
      "Total number of occ electrodes across all subjects: 1\n"
     ]
    }
   ],
   "source": [
    "# Example usage:\n",
    "total_electrodes_info = utils.calculate_total_electrodes(sig_electrodes_per_subject_roi, electrodes_per_subject_roi)\n",
    "for roi, counts in total_electrodes_info.items():\n",
    "    print(f\"Total number of significant {roi} electrodes across all subjects:\", counts['total_significant_electrodes'])\n",
    "    print(f\"Total number of {roi} electrodes across all subjects:\", counts['total_electrodes'])"
   ]
  },
  {
   "cell_type": "markdown",
   "id": "043e82d9",
   "metadata": {},
   "source": [
    "check sampling rates to make sure they're all the same"
   ]
  },
  {
   "cell_type": "code",
   "execution_count": 13,
   "id": "689a09a2",
   "metadata": {},
   "outputs": [
    {
     "name": "stdout",
     "output_type": "stream",
     "text": [
      "Subject D0057 has the expected sampling rate: 256.0 Hz.\n"
     ]
    }
   ],
   "source": [
    "# Assuming 'subjects_mne_objects' is your dictionary containing MNE objects for each subject\n",
    "sampling_rate = 256\n",
    "subject_rates = utils.check_sampling_rates(subjects_mne_objects, expected_sampling_rate=sampling_rate)"
   ]
  },
  {
   "cell_type": "markdown",
   "id": "02ff1018",
   "metadata": {},
   "source": [
    "TODO: stats next (maybe do time perm cluster with t-test as follow-up test for ANOVA significance, let's try using MNE functions for ANOVA and perm test)   \n",
    "TODO: add in code for selecting electrodes of a specific ROI  \n",
    "TODO: plotting average traces"
   ]
  },
  {
   "cell_type": "code",
   "execution_count": 23,
   "id": "e5c3cc9a",
   "metadata": {},
   "outputs": [
    {
     "data": {
      "text/plain": [
       "{'condition_parameter': 'repeat', 'color': 'blue', 'line_style': '-'}"
      ]
     },
     "execution_count": 23,
     "metadata": {},
     "output_type": "execute_result"
    }
   ],
   "source": [
    "plotting_parameters.plotting_parameters['Stimulus_r']"
   ]
  },
  {
   "cell_type": "code",
   "execution_count": null,
   "id": "76d85648",
   "metadata": {},
   "outputs": [
    {
     "data": {
      "text/plain": [
       "{'Stimulus_r': {'HG_ev1_power_rescaled': <EpochsArray | 212 events (all good), -1 – 1.5 s (baseline off), ~181.6 MB, data loaded,\n",
       "   'Stimulus/c25.0/r25.0/BigLetterh/SmallLetterh/Taskg/TargetLetterh/Responded1.0/ParticipantResponse114.0/CorrectResponse114.0/TrialCount227.0/BlockTrialCount3.0/ReactionTime883.0/Accuracy1.0/D57': 1\n",
       "   'Stimulus/c25.0/r25.0/BigLetterh/SmallLetterh/Taskg/TargetLetterh/Responded1.0/ParticipantResponse114.0/CorrectResponse114.0/TrialCount228.0/BlockTrialCount4.0/ReactionTime766.0/Accuracy1.0/D57': 1\n",
       "   'Stimulus/c25.0/r25.0/BigLetterh/SmallLetterh/Taskg/TargetLetterh/Responded1.0/ParticipantResponse114.0/CorrectResponse114.0/TrialCount241.0/BlockTrialCount17.0/ReactionTime499.0/Accuracy1.0/D57': 1\n",
       "   'Stimulus/c25.0/r25.0/BigLetterh/SmallLetterh/Taskg/TargetLetterh/Responded1.0/ParticipantResponse114.0/CorrectResponse114.0/TrialCount257.0/BlockTrialCount33.0/ReactionTime616.0/Accuracy1.0/D57': 1\n",
       "   'Stimulus/c25.0/r25.0/BigLetterh/SmallLetterh/Taskg/TargetLetterh/Responded1.0/ParticipantResponse114.0/CorrectResponse114.0/TrialCount258.0/BlockTrialCount34.0/ReactionTime650.0/Accuracy1.0/D57': 1\n",
       "   'Stimulus/c25.0/r25.0/BigLetterh/SmallLetterh/Taskg/TargetLetterh/Responded1.0/ParticipantResponse114.0/CorrectResponse114.0/TrialCount267.0/BlockTrialCount43.0/ReactionTime833.0/Accuracy1.0/D57': 1\n",
       "   'Stimulus/c25.0/r25.0/BigLetterh/SmallLetterh/Taskg/TargetLetterh/Responded1.0/ParticipantResponse114.0/CorrectResponse114.0/TrialCount268.0/BlockTrialCount44.0/ReactionTime566.0/Accuracy1.0/D57': 1\n",
       "   'Stimulus/c25.0/r25.0/BigLetterh/SmallLetterh/Taskg/TargetLetterh/Responded1.0/ParticipantResponse114.0/CorrectResponse114.0/TrialCount271.0/BlockTrialCount47.0/ReactionTime833.0/Accuracy1.0/D57': 1\n",
       "   'Stimulus/c25.0/r25.0/BigLetterh/SmallLetterh/Taskg/TargetLetterh/Responded1.0/ParticipantResponse114.0/CorrectResponse114.0/TrialCount274.0/BlockTrialCount50.0/ReactionTime1366.0/Accuracy1.0/D57': 1\n",
       "   'Stimulus/c25.0/r25.0/BigLetterh/SmallLetterh/Taskg/TargetLetterh/Responded1.0/ParticipantResponse114.0/CorrectResponse114.0/TrialCount279.0/BlockTrialCount55.0/ReactionTime999.0/Accuracy1.0/D57': 1\n",
       "   and 202 more events ...>,\n",
       "  'HG_ev1_power_rescaled_avg': <Evoked | '0.00 × Stimulus/c25.0/r25.0/BigLetterh/SmallLetterh/Taskg/TargetLetterh/Responded1.0/ParticipantResponse114.0/CorrectResponse114.0/TrialCount227.0/BlockTrialCount3.0/ReactionTime883.0/Accuracy1.0/D57 + 0.00 × Stimulus/c25.0/r25.0/BigLetterh/SmallLetterh/Taskg/TargetLetterh/Responded1.0/ParticipantResponse114.0/CorrectResponse114.0/TrialCount228.0/BlockTrialCount4.0/ReactionTime766.0/Accuracy1.0/D57 + 0.00 × Stimulus/c25.0/r25.0/BigLetterh/SmallLetterh/Taskg/TargetLetterh/Responded1.0/ParticipantResponse114.0/CorrectResponse114.0/TrialCount241.0/BlockTrialCount17.0/ReactionTime499.0/Accuracy1.0/D57 + 0.00 × Stimulus/c25.0/r25.0/BigLetterh/SmallLetterh/Taskg/TargetLetterh/Responded1.0/ParticipantResponse114.0/CorrectResponse114.0/TrialCount257.0/BlockTrialCount33.0/ReactionTime616.0/Accuracy1.0/D57 + 0.00 × Stimulus/c25.0/r25.0/BigLetterh/SmallLetterh/Taskg/TargetLetterh/Responded1.0/ParticipantResponse114.0/CorrectResponse114.0/TrialCount258.0/BlockTrialCount34.0/ReactionTime650.0/Accur...' (average, N=212), -1 – 1.5 s, baseline off, 175 ch, ~1.1 MB>,\n",
       "  'HG_ev1_power_rescaled_std_err': <Evoked | '0.00 × Stimulus/c25.0/r25.0/BigLetterh/SmallLetterh/Taskg/TargetLetterh/Responded1.0/ParticipantResponse114.0/CorrectResponse114.0/TrialCount227.0/BlockTrialCount3.0/ReactionTime883.0/Accuracy1.0/D57 + 0.00 × Stimulus/c25.0/r25.0/BigLetterh/SmallLetterh/Taskg/TargetLetterh/Responded1.0/ParticipantResponse114.0/CorrectResponse114.0/TrialCount228.0/BlockTrialCount4.0/ReactionTime766.0/Accuracy1.0/D57 + 0.00 × Stimulus/c25.0/r25.0/BigLetterh/SmallLetterh/Taskg/TargetLetterh/Responded1.0/ParticipantResponse114.0/CorrectResponse114.0/TrialCount241.0/BlockTrialCount17.0/ReactionTime499.0/Accuracy1.0/D57 + 0.00 × Stimulus/c25.0/r25.0/BigLetterh/SmallLetterh/Taskg/TargetLetterh/Responded1.0/ParticipantResponse114.0/CorrectResponse114.0/TrialCount257.0/BlockTrialCount33.0/ReactionTime616.0/Accuracy1.0/D57 + 0.00 × Stimulus/c25.0/r25.0/BigLetterh/SmallLetterh/Taskg/TargetLetterh/Responded1.0/ParticipantResponse114.0/CorrectResponse114.0/TrialCount258.0/BlockTrialCount34.0/ReactionTime650.0/Accur...' (average, N=211), -1 – 1.5 s, baseline off, 175 ch, ~1.1 MB>},\n",
       " 'Stimulus_s': {'HG_ev1_power_rescaled': <EpochsArray | 189 events (all good), -1 – 1.5 s (baseline off), ~162.0 MB, data loaded,\n",
       "   'Stimulus/c25.0/s25.0/BigLetterh/SmallLetterh/Taskg/TargetLetterh/Responded1.0/ParticipantResponse114.0/CorrectResponse114.0/TrialCount230.0/BlockTrialCount6.0/ReactionTime1199.0/Accuracy1.0/D57': 1\n",
       "   'Stimulus/c25.0/s25.0/BigLetterh/SmallLetterh/Taskg/TargetLetterh/Responded1.0/ParticipantResponse114.0/CorrectResponse114.0/TrialCount240.0/BlockTrialCount16.0/ReactionTime1083.0/Accuracy1.0/D57': 1\n",
       "   'Stimulus/c25.0/s25.0/BigLetterh/SmallLetterh/Taskg/TargetLetterh/Responded1.0/ParticipantResponse114.0/CorrectResponse114.0/TrialCount250.0/BlockTrialCount26.0/ReactionTime1099.0/Accuracy1.0/D57': 1\n",
       "   'Stimulus/c25.0/s25.0/BigLetterh/SmallLetterh/Taskg/TargetLetterh/Responded1.0/ParticipantResponse114.0/CorrectResponse114.0/TrialCount320.0/BlockTrialCount96.0/ReactionTime1166.0/Accuracy1.0/D57': 1\n",
       "   'Stimulus/c25.0/s25.0/BigLetterh/SmallLetterh/Taskg/TargetLetterh/Responded1.0/ParticipantResponse114.0/CorrectResponse114.0/TrialCount333.0/BlockTrialCount109.0/ReactionTime949.0/Accuracy1.0/D57': 1\n",
       "   'Stimulus/c25.0/s25.0/BigLetterh/SmallLetterh/Taskl/TargetLetterh/Responded1.0/ParticipantResponse114.0/CorrectResponse114.0/TrialCount243.0/BlockTrialCount19.0/ReactionTime716.0/Accuracy1.0/D57': 1\n",
       "   'Stimulus/c25.0/s25.0/BigLetterh/SmallLetterh/Taskl/TargetLetterh/Responded1.0/ParticipantResponse114.0/CorrectResponse114.0/TrialCount253.0/BlockTrialCount29.0/ReactionTime899.0/Accuracy1.0/D57': 1\n",
       "   'Stimulus/c25.0/s25.0/BigLetterh/SmallLetterh/Taskl/TargetLetterh/Responded1.0/ParticipantResponse114.0/CorrectResponse114.0/TrialCount276.0/BlockTrialCount52.0/ReactionTime1066.0/Accuracy1.0/D57': 1\n",
       "   'Stimulus/c25.0/s25.0/BigLetterh/SmallLetterh/Taskl/TargetLetterh/Responded1.0/ParticipantResponse114.0/CorrectResponse114.0/TrialCount307.0/BlockTrialCount83.0/ReactionTime1033.0/Accuracy1.0/D57': 1\n",
       "   'Stimulus/c25.0/s25.0/BigLetterh/SmallLetterh/Taskl/TargetLetterh/Responded1.0/ParticipantResponse114.0/CorrectResponse114.0/TrialCount319.0/BlockTrialCount95.0/ReactionTime849.0/Accuracy1.0/D57': 1\n",
       "   and 179 more events ...>,\n",
       "  'HG_ev1_power_rescaled_avg': <Evoked | '0.01 × Stimulus/c25.0/s25.0/BigLetterh/SmallLetterh/Taskg/TargetLetterh/Responded1.0/ParticipantResponse114.0/CorrectResponse114.0/TrialCount230.0/BlockTrialCount6.0/ReactionTime1199.0/Accuracy1.0/D57 + 0.01 × Stimulus/c25.0/s25.0/BigLetterh/SmallLetterh/Taskg/TargetLetterh/Responded1.0/ParticipantResponse114.0/CorrectResponse114.0/TrialCount240.0/BlockTrialCount16.0/ReactionTime1083.0/Accuracy1.0/D57 + 0.01 × Stimulus/c25.0/s25.0/BigLetterh/SmallLetterh/Taskg/TargetLetterh/Responded1.0/ParticipantResponse114.0/CorrectResponse114.0/TrialCount250.0/BlockTrialCount26.0/ReactionTime1099.0/Accuracy1.0/D57 + 0.01 × Stimulus/c25.0/s25.0/BigLetterh/SmallLetterh/Taskg/TargetLetterh/Responded1.0/ParticipantResponse114.0/CorrectResponse114.0/TrialCount320.0/BlockTrialCount96.0/ReactionTime1166.0/Accuracy1.0/D57 + 0.01 × Stimulus/c25.0/s25.0/BigLetterh/SmallLetterh/Taskg/TargetLetterh/Responded1.0/ParticipantResponse114.0/CorrectResponse114.0/TrialCount333.0/BlockTrialCount109.0/ReactionTime949.0...' (average, N=189), -1 – 1.5 s, baseline off, 175 ch, ~1.1 MB>,\n",
       "  'HG_ev1_power_rescaled_std_err': <Evoked | '0.01 × Stimulus/c25.0/s25.0/BigLetterh/SmallLetterh/Taskg/TargetLetterh/Responded1.0/ParticipantResponse114.0/CorrectResponse114.0/TrialCount230.0/BlockTrialCount6.0/ReactionTime1199.0/Accuracy1.0/D57 + 0.01 × Stimulus/c25.0/s25.0/BigLetterh/SmallLetterh/Taskg/TargetLetterh/Responded1.0/ParticipantResponse114.0/CorrectResponse114.0/TrialCount240.0/BlockTrialCount16.0/ReactionTime1083.0/Accuracy1.0/D57 + 0.01 × Stimulus/c25.0/s25.0/BigLetterh/SmallLetterh/Taskg/TargetLetterh/Responded1.0/ParticipantResponse114.0/CorrectResponse114.0/TrialCount250.0/BlockTrialCount26.0/ReactionTime1099.0/Accuracy1.0/D57 + 0.01 × Stimulus/c25.0/s25.0/BigLetterh/SmallLetterh/Taskg/TargetLetterh/Responded1.0/ParticipantResponse114.0/CorrectResponse114.0/TrialCount320.0/BlockTrialCount96.0/ReactionTime1166.0/Accuracy1.0/D57 + 0.01 × Stimulus/c25.0/s25.0/BigLetterh/SmallLetterh/Taskg/TargetLetterh/Responded1.0/ParticipantResponse114.0/CorrectResponse114.0/TrialCount333.0/BlockTrialCount109.0/ReactionTime949.0...' (average, N=188), -1 – 1.5 s, baseline off, 175 ch, ~1.1 MB>}}"
      ]
     },
     "execution_count": 27,
     "metadata": {},
     "output_type": "execute_result"
    }
   ],
   "source": [
    "# TODO: go through all this code to verify it, it's made from Claude 6/29/25.\n",
    "\n",
    "def create_roi_grand_average(subjects_mne_objects, subjects, roi, sig_electrodes_per_subject_roi, electrodes_per_subject_roi \n",
    "                           condition_names, mne_object_type='HG_ev1_power_rescaled'):\n",
    "    \"\"\"\n",
    "    Create grand average evoked objects for each condition across all electrodes in an ROI.\n",
    "    \n",
    "    Parameters:\n",
    "    -----------\n",
    "    subjects_mne_objects : dict\n",
    "        Nested dictionary with MNE objects\n",
    "    subjects : list\n",
    "        List of subject IDs\n",
    "    roi : str\n",
    "        ROI name (e.g., 'lpfc', 'occ')\n",
    "    sig_electrodes_per_subject_roi : dict\n",
    "        Dictionary mapping ROIs to subjects and their significant electrodes\n",
    "    electrodes_per_subject_roi : dict\n",
    "        Dictionary mapping ROIs to subjects and their electrodes\n",
    "    condition_names : list\n",
    "        List of condition names to process\n",
    "    mne_object_type : str\n",
    "        Which MNE object to use (default: 'HG_ev1_power_rescaled')\n",
    "    \n",
    "    Returns:\n",
    "    --------\n",
    "    dict\n",
    "        Dictionary with condition names as keys and grand average evoked objects as values\n",
    "    \"\"\"\n",
    "    grand_averages_sig_electrodes = {}\n",
    "    grand_averages_all_electrodes = {}\n",
    "    \n",
    "    for condition_name in condition_names:\n",
    "        all_evokeds_sig_electrodes = []\n",
    "        all_evokeds_all_electrodes = []\n",
    "        \n",
    "        for sub in subjects:\n",
    "            sig_electrodes = sig_electrodes_per_subject_roi[roi].get(sub, [])\n",
    "            all_electrodes = electrodes_per_subject_roi[roi].get(sub, [])\n",
    "            \n",
    "            if not sig_electrodes:\n",
    "                continue\n",
    "                \n",
    "            # Get the epochs for this subject and condition\n",
    "            epochs = subjects_mne_objects[sub][condition_name][mne_object_type].copy()\n",
    "            \n",
    "            # Pick only significant electrodes\n",
    "            epochs_sig_electrodes = epochs.pick_channels(sig_electrodes)\n",
    "            epochs_all_electrodes = epochs.pick_channels(all_electrodes)\n",
    "            \n",
    "            # Create evoked for this subject (trial average)\n",
    "            evoked_sig_electrodes = epochs_sig_electrodes.average()\n",
    "            evoked_all_electrodes = epochs_all_electrodes.average()\n",
    "            \n",
    "            # Store each electrode's data separately for grand averaging\n",
    "            for ch_idx, ch_name in enumerate(evoked_sig_electrodes.ch_names):\n",
    "                # Create a copy with just this channel\n",
    "                evoked_single_electrode = evoked_sig_electrodes.copy().pick_channels([ch_name])\n",
    "                all_evokeds_sig_electrodes.append(evoked_single_electrode)\n",
    "\n",
    "            # Store each electrode's data separately for grand averaging\n",
    "            for ch_idx, ch_name in enumerate(evoked_all_electrodes.ch_names):\n",
    "                # Create a copy with just this channel\n",
    "                evoked_single_electrode = evoked_all_electrodes.copy().pick_channels([ch_name])\n",
    "                all_evokeds_all_electrodes.append(evoked_single_electrode)\n",
    "\n",
    "        if all_evokeds_sig_electrodes:\n",
    "            # Create grand average across all electrodes from all subjects\n",
    "            grand_avg = mne.grand_average(all_evokeds_sig_electrodes)\n",
    "            grand_averages_sig_electrodes[condition_name] = grand_avg\n",
    "            \n",
    "        if all_evokeds_all_electrodes:\n",
    "            # Create grand average across all electrodes from all subjects\n",
    "            grand_avg = mne.grand_average(all_evokeds_all_electrodes)\n",
    "            grand_averages_all_electrodes[condition_name] = grand_avg\n",
    "            \n",
    "    return grand_averages_sig_electrodes, grand_averages_all_electrodes\n",
    "\n",
    "def plot_roi_comparison(grand_averages, condition_names, plotting_parameters, roi_name, \n",
    "                       title=None, ylim=None, show_sensors=False, show_legend=True,\n",
    "                       time_unit='s', ci='sem', picks=None, axes=None, show=True):\n",
    "    \"\"\"\n",
    "    Plot comparison of conditions for an ROI using MNE's plot_compare_evokeds.\n",
    "    \n",
    "    Parameters:\n",
    "    -----------\n",
    "    grand_averages : dict\n",
    "        Dictionary with condition names as keys and evoked objects as values\n",
    "    condition_names : list\n",
    "        List of condition names to plot\n",
    "    plotting_parameters : dict\n",
    "        Dictionary with plotting parameters for each condition\n",
    "    roi_name : str\n",
    "        Name of the ROI for the title\n",
    "    title : str, optional\n",
    "        Custom title for the plot\n",
    "    ylim : dict or tuple, optional\n",
    "        Y-axis limits\n",
    "    show_sensors : bool\n",
    "        Whether to show sensor locations\n",
    "    show_legend : bool or str\n",
    "        Whether to show legend\n",
    "    time_unit : str\n",
    "        Time unit for x-axis\n",
    "    ci : float or 'sem' or callable\n",
    "        Confidence interval to plot\n",
    "    picks : str or list\n",
    "        Channels to pick\n",
    "    axes : matplotlib axes\n",
    "        Axes to plot on\n",
    "    show : bool\n",
    "        Whether to show the plot\n",
    "    \n",
    "    Returns:\n",
    "    --------\n",
    "    fig : matplotlib figure\n",
    "        The figure object\n",
    "    \"\"\"\n",
    "    # Prepare evokeds dictionary with custom styling\n",
    "    evokeds_dict = {}\n",
    "    \n",
    "    for condition_name in condition_names:\n",
    "        if condition_name in grand_averages:\n",
    "            # Find the plotting parameter key that matches this condition\n",
    "            param_key = None\n",
    "            for key in plotting_parameters.keys():\n",
    "                if condition_name in key:\n",
    "                    param_key = key\n",
    "                    break\n",
    "            \n",
    "            if param_key and param_key in plotting_parameters:\n",
    "                params = plotting_parameters[param_key]\n",
    "                # Create custom label with parameters\n",
    "                label = params.get('condition_parameter', condition_name)\n",
    "                evokeds_dict[label] = grand_averages[condition_name]\n",
    "            else:\n",
    "                evokeds_dict[condition_name] = grand_averages[condition_name]\n",
    "    \n",
    "    # Set up colors and linestyles\n",
    "    colors = []\n",
    "    linestyles = []\n",
    "    \n",
    "    for condition_name in condition_names:\n",
    "        param_key = None\n",
    "        for key in plotting_parameters.keys():\n",
    "            if condition_name in key:\n",
    "                param_key = key\n",
    "                break\n",
    "        \n",
    "        if param_key and param_key in plotting_parameters:\n",
    "            params = plotting_parameters[param_key]\n",
    "            colors.append(params.get('color', 'black'))\n",
    "            linestyles.append(params.get('line_style', '-'))\n",
    "        else:\n",
    "            colors.append('black')\n",
    "            linestyles.append('-')\n",
    "    \n",
    "    # Create the plot\n",
    "    if title is None:\n",
    "        title = f'{roi_name.upper()} - Condition Comparison'\n",
    "    \n",
    "    fig = mne.viz.plot_compare_evokeds(\n",
    "        evokeds_dict,\n",
    "        colors=colors,\n",
    "        linestyles=linestyles,\n",
    "        picks=picks,\n",
    "        axes=axes,\n",
    "        show_sensors=show_sensors,\n",
    "        show_legend=show_legend,\n",
    "        split_legend=False,\n",
    "        ci=ci,\n",
    "        title=title,\n",
    "        ylim=ylim,\n",
    "        time_unit=time_unit,\n",
    "        show=show\n",
    "    )\n",
    "    \n",
    "    return fig\n",
    "\n",
    "def plot_roi_conditions_separate(subjects_mne_objects, subjects, roi, sig_electrodes_per_subject_roi,\n",
    "                               condition_names, plotting_parameters, mne_object_type='HG_ev1_power_rescaled',\n",
    "                               ncols=2, figsize=None, ylim=None, show=True):\n",
    "    \"\"\"\n",
    "    Plot each condition separately in subplots for an ROI.\n",
    "    \n",
    "    Parameters:\n",
    "    -----------\n",
    "    subjects_mne_objects : dict\n",
    "        Nested dictionary with MNE objects\n",
    "    subjects : list\n",
    "        List of subject IDs\n",
    "    roi : str\n",
    "        ROI name\n",
    "    sig_electrodes_per_subject_roi : dict\n",
    "        Dictionary mapping ROIs to subjects and their significant electrodes\n",
    "    condition_names : list\n",
    "        List of condition names to plot\n",
    "    plotting_parameters : dict\n",
    "        Dictionary with plotting parameters\n",
    "    mne_object_type : str\n",
    "        Which MNE object to use\n",
    "    ncols : int\n",
    "        Number of columns for subplots\n",
    "    figsize : tuple\n",
    "        Figure size\n",
    "    ylim : dict or tuple\n",
    "        Y-axis limits\n",
    "    show : bool\n",
    "        Whether to show the plot\n",
    "    \n",
    "    Returns:\n",
    "    --------\n",
    "    fig : matplotlib figure\n",
    "        The figure object\n",
    "    \"\"\"\n",
    "    nrows = int(np.ceil(len(condition_names) / ncols))\n",
    "    \n",
    "    if figsize is None:\n",
    "        figsize = (6 * ncols, 4 * nrows)\n",
    "    \n",
    "    fig, axes = plt.subplots(nrows, ncols, figsize=figsize, squeeze=False)\n",
    "    axes = axes.flatten()\n",
    "    \n",
    "    # Create grand averages\n",
    "    grand_averages = create_roi_grand_average(\n",
    "        subjects_mne_objects, subjects, roi, sig_electrodes_per_subject_roi,\n",
    "        condition_names, mne_object_type\n",
    "    )\n",
    "    \n",
    "    for idx, condition_name in enumerate(condition_names):\n",
    "        if idx >= len(axes):\n",
    "            break\n",
    "            \n",
    "        ax = axes[idx]\n",
    "        \n",
    "        if condition_name in grand_averages:\n",
    "            evoked = grand_averages[condition_name]\n",
    "            \n",
    "            # Find plotting parameters\n",
    "            param_key = None\n",
    "            for key in plotting_parameters.keys():\n",
    "                if condition_name in key:\n",
    "                    param_key = key\n",
    "                    break\n",
    "            \n",
    "            if param_key and param_key in plotting_parameters:\n",
    "                params = plotting_parameters[param_key]\n",
    "                color = params.get('color', 'black')\n",
    "                linestyle = params.get('line_style', '-')\n",
    "                label = params.get('condition_parameter', condition_name)\n",
    "            else:\n",
    "                color = 'black'\n",
    "                linestyle = '-'\n",
    "                label = condition_name\n",
    "            \n",
    "            # Plot the evoked response\n",
    "            evoked.plot(\n",
    "                axes=ax,\n",
    "                show=False,\n",
    "                titles=f'{roi.upper()} - {label}',\n",
    "                time_unit='s',\n",
    "                ylim=ylim,\n",
    "                spatial_colors=False,\n",
    "                gfp=False,\n",
    "                window_title=None\n",
    "            )\n",
    "            \n",
    "            # Customize the line appearance\n",
    "            lines = ax.get_lines()\n",
    "            if lines:\n",
    "                lines[0].set_color(color)\n",
    "                lines[0].set_linestyle(linestyle)\n",
    "                lines[0].set_linewidth(2)\n",
    "            \n",
    "            # Add shaded error region for SEM\n",
    "            times = evoked.times\n",
    "            data = evoked.data[0]  # Since we have only one channel after grand averaging\n",
    "            \n",
    "            # Calculate SEM across all individual electrode evokeds\n",
    "            all_data = []\n",
    "            for sub in subjects:\n",
    "                sig_electrodes = sig_electrodes_per_subject_roi[roi].get(sub, [])\n",
    "                if sig_electrodes:\n",
    "                    epochs = subjects_mne_objects[sub][condition_name][mne_object_type].copy()\n",
    "                    epochs_picked = epochs.pick_channels(sig_electrodes)\n",
    "                    evoked_sub = epochs_picked.average()\n",
    "                    all_data.extend(evoked_sub.data)\n",
    "            \n",
    "            if all_data:\n",
    "                all_data = np.array(all_data)\n",
    "                sem = np.std(all_data, axis=0, ddof=1) / np.sqrt(len(all_data))\n",
    "                ax.fill_between(times, data - sem, data + sem, alpha=0.3, color=color)\n",
    "    \n",
    "    # Remove empty subplots\n",
    "    for idx in range(len(condition_names), len(axes)):\n",
    "        fig.delaxes(axes[idx])\n",
    "    \n",
    "    plt.tight_layout()\n",
    "    \n",
    "    if show:\n",
    "        plt.show()\n",
    "    \n",
    "    return fig\n",
    "\n",
    "def plot_roi_comparison_custom(subjects_mne_objects, subjects, roi, sig_electrodes_per_subject_roi,\n",
    "                             condition_names, plotting_parameters, mne_object_type='HG_ev1_power_rescaled',\n",
    "                             title=None, figsize=(10, 6), ylim=None, show_sem=True, \n",
    "                             show_legend=True, show=True):\n",
    "    \"\"\"\n",
    "    Create a custom plot comparing conditions with more control over appearance.\n",
    "    \n",
    "    Parameters:\n",
    "    -----------\n",
    "    subjects_mne_objects : dict\n",
    "        Nested dictionary with MNE objects\n",
    "    subjects : list\n",
    "        List of subject IDs\n",
    "    roi : str\n",
    "        ROI name\n",
    "    sig_electrodes_per_subject_roi : dict\n",
    "        Dictionary mapping ROIs to subjects and their significant electrodes\n",
    "    condition_names : list\n",
    "        List of condition names to plot\n",
    "    plotting_parameters : dict\n",
    "        Dictionary with plotting parameters\n",
    "    mne_object_type : str\n",
    "        Which MNE object to use\n",
    "    title : str\n",
    "        Plot title\n",
    "    figsize : tuple\n",
    "        Figure size\n",
    "    ylim : tuple\n",
    "        Y-axis limits\n",
    "    show_sem : bool\n",
    "        Whether to show SEM shading\n",
    "    show_legend : bool\n",
    "        Whether to show legend\n",
    "    show : bool\n",
    "        Whether to show the plot\n",
    "    \n",
    "    Returns:\n",
    "    --------\n",
    "    fig, ax : matplotlib figure and axes\n",
    "    \"\"\"\n",
    "    fig, ax = plt.subplots(figsize=figsize)\n",
    "    \n",
    "    # Create grand averages\n",
    "    grand_averages = create_roi_grand_average(\n",
    "        subjects_mne_objects, subjects, roi, sig_electrodes_per_subject_roi,\n",
    "        condition_names, mne_object_type\n",
    "    )\n",
    "    \n",
    "    for condition_name in condition_names:\n",
    "        if condition_name not in grand_averages:\n",
    "            continue\n",
    "            \n",
    "        evoked = grand_averages[condition_name]\n",
    "        times = evoked.times\n",
    "        data = evoked.data[0]  # Grand average data\n",
    "        \n",
    "        # Find plotting parameters\n",
    "        param_key = None\n",
    "        for key in plotting_parameters.keys():\n",
    "            if condition_name in key:\n",
    "                param_key = key\n",
    "                break\n",
    "        \n",
    "        if param_key and param_key in plotting_parameters:\n",
    "            params = plotting_parameters[param_key]\n",
    "            color = params.get('color', 'black')\n",
    "            linestyle = params.get('line_style', '-')\n",
    "            label = params.get('condition_parameter', condition_name)\n",
    "        else:\n",
    "            color = 'black'\n",
    "            linestyle = '-'\n",
    "            label = condition_name\n",
    "        \n",
    "        # Plot the mean\n",
    "        ax.plot(times, data, color=color, linestyle=linestyle, linewidth=2, label=label)\n",
    "        \n",
    "        if show_sem:\n",
    "            # Calculate SEM across all individual electrode data\n",
    "            all_data = []\n",
    "            for sub in subjects:\n",
    "                sig_electrodes = sig_electrodes_per_subject_roi[roi].get(sub, [])\n",
    "                if sig_electrodes:\n",
    "                    epochs = subjects_mne_objects[sub][condition_name][mne_object_type].copy()\n",
    "                    epochs_picked = epochs.pick_channels(sig_electrodes)\n",
    "                    evoked_sub = epochs_picked.average()\n",
    "                    all_data.extend(evoked_sub.data)\n",
    "            \n",
    "            if all_data:\n",
    "                all_data = np.array(all_data)\n",
    "                sem = np.std(all_data, axis=0, ddof=1) / np.sqrt(len(all_data))\n",
    "                ax.fill_between(times, data - sem, data + sem, alpha=0.2, color=color)\n",
    "    \n",
    "    # Customize plot\n",
    "    ax.set_xlabel('Time (s)')\n",
    "    ax.set_ylabel('Power')\n",
    "    ax.axhline(y=0, color='black', linestyle='--', alpha=0.3)\n",
    "    ax.axvline(x=0, color='black', linestyle='--', alpha=0.3)\n",
    "    \n",
    "    if title is None:\n",
    "        title = f'{roi.upper()} - Condition Comparison'\n",
    "    ax.set_title(title)\n",
    "    \n",
    "    if ylim:\n",
    "        ax.set_ylim(ylim)\n",
    "    \n",
    "    if show_legend:\n",
    "        ax.legend(loc='best')\n",
    "    \n",
    "    ax.grid(True, alpha=0.3)\n",
    "    \n",
    "    plt.tight_layout()\n",
    "    \n",
    "    if show:\n",
    "        plt.show()\n",
    "    \n",
    "    return fig, ax\n",
    "\n",
    "# Example usage function\n",
    "def plot_roi_analysis(subjects_mne_objects, subjects, rois_dict, sig_electrodes_per_subject_roi,\n",
    "                     condition_names, plotting_parameters, mne_object_type='HG_ev1_power_rescaled'):\n",
    "    \"\"\"\n",
    "    Plot analysis for multiple ROIs.\n",
    "    \n",
    "    Parameters:\n",
    "    -----------\n",
    "    subjects_mne_objects : dict\n",
    "        Nested dictionary with MNE objects\n",
    "    subjects : list\n",
    "        List of subject IDs\n",
    "    rois_dict : dict\n",
    "        Dictionary mapping ROI names to brain regions\n",
    "    sig_electrodes_per_subject_roi : dict\n",
    "        Dictionary mapping ROIs to subjects and their significant electrodes\n",
    "    condition_names : list\n",
    "        List of condition names\n",
    "    plotting_parameters : dict\n",
    "        Dictionary with plotting parameters\n",
    "    mne_object_type : str\n",
    "        Which MNE object to use\n",
    "    \n",
    "    Returns:\n",
    "    --------\n",
    "    figures : dict\n",
    "        Dictionary with ROI names as keys and figure objects as values\n",
    "    \"\"\"\n",
    "    figures = {}\n",
    "    \n",
    "    for roi_name in rois_dict.keys():\n",
    "        print(f\"Plotting {roi_name}...\")\n",
    "        \n",
    "        # Create grand averages for this ROI\n",
    "        grand_averages = create_roi_grand_average(\n",
    "            subjects_mne_objects, subjects, roi_name, sig_electrodes_per_subject_roi,\n",
    "            condition_names, mne_object_type\n",
    "        )\n",
    "        \n",
    "        # Method 1: Using MNE's plot_compare_evokeds\n",
    "        fig1 = plot_roi_comparison(\n",
    "            grand_averages, condition_names, plotting_parameters, roi_name,\n",
    "            title=f'{roi_name.upper()} - MNE Comparison Plot',\n",
    "            show=False\n",
    "        )\n",
    "        \n",
    "        # Method 2: Custom plot with more control\n",
    "        fig2, ax = plot_roi_comparison_custom(\n",
    "            subjects_mne_objects, subjects, roi_name, sig_electrodes_per_subject_roi,\n",
    "            condition_names, plotting_parameters, mne_object_type,\n",
    "            title=f'{roi_name.upper()} - Custom Comparison Plot',\n",
    "            show=False\n",
    "        )\n",
    "        \n",
    "        # Method 3: Separate subplots for each condition\n",
    "        fig3 = plot_roi_conditions_separate(\n",
    "            subjects_mne_objects, subjects, roi_name, sig_electrodes_per_subject_roi,\n",
    "            condition_names, plotting_parameters, mne_object_type,\n",
    "            title=f'{roi_name.upper()} - Conditions Separately',\n",
    "            show=False\n",
    "        )\n",
    "        \n",
    "        figures[roi_name] = {'mne_plot': fig1, 'custom_plot': fig2, 'separate_plots': fig3}\n",
    "    \n",
    "    return figures"
   ]
  }
 ],
 "metadata": {
  "kernelspec": {
   "display_name": "ieeg",
   "language": "python",
   "name": "python3"
  },
  "language_info": {
   "codemirror_mode": {
    "name": "ipython",
    "version": 3
   },
   "file_extension": ".py",
   "mimetype": "text/x-python",
   "name": "python",
   "nbconvert_exporter": "python",
   "pygments_lexer": "ipython3",
   "version": "3.11.7"
  }
 },
 "nbformat": 4,
 "nbformat_minor": 5
}
