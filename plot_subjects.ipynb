{
  "cells": [
    {
      "cell_type": "code",
      "execution_count": 1,
      "metadata": {
        "collapsed": false
      },
      "outputs": [],
      "source": [
        "import mne\n",
        "import os\n",
        "from ieeg.viz.mri import plot_subj, subject_to_info, plot_on_average\n",
        "from ieeg.io import raw_from_layout, get_data\n",
        "from misc_functions import load_sig_chans, channel_names_to_indices"
      ]
    },
    {
      "cell_type": "markdown",
      "metadata": {},
      "source": [
        "### plot single subject's significant electrodes"
      ]
    },
    {
      "cell_type": "code",
      "execution_count": 13,
      "metadata": {},
      "outputs": [
        {
          "name": "stdout",
          "output_type": "stream",
          "text": [
            "Loaded significant channels for subject D0071\n"
          ]
        },
        {
          "name": "stderr",
          "output_type": "stream",
          "text": [
            "C:\\Users\\jz421\\Desktop\\GlobalLocal\\IEEG_Pipelines\\ieeg\\viz\\mri.py:571: RuntimeWarning: Fiducial point lpa not found, assuming identity RAS (non-zero origin) to head transformation\n",
            "  info.set_montage(montage)\n"
          ]
        },
        {
          "data": {
            "text/plain": [
              "<mne.viz._brain._brain.Brain at 0x1d46b0fe610>"
            ]
          },
          "execution_count": 13,
          "metadata": {},
          "output_type": "execute_result"
        }
      ],
      "source": [
        "subj = \"D0071\"\n",
        "base_path = r'C:\\Users\\jz421\\Box\\CoganLab\\BIDS-1.1_GlobalLocal\\BIDS\\derivatives\\freqFilt\\figs'\n",
        "stim_filename = f'{base_path}\\\\{subj}\\\\sig_chans_{subj}_Stimulus_fixationCrossBase_1sec_mirror.json'\n",
        "stim_sig_chans = load_sig_chans(stim_filename)\n",
        "# resp_filename = f'{base_path}\\\\{subj}\\\\sig_chans_{subj}_Response_fixationCrossBase_1sec_mirror.json'\n",
        "# resp_sig_chans = load_sig_chans(stim_filename)\n",
        "\n",
        "\n",
        "subj_without_zeros = \"D\" + subj[1:].lstrip('0')\n",
        "plot_subj(subj_without_zeros, picks=stim_sig_chans, labels_every=1, hemi='both', title=f'{subj}_Stimulus', background='gray', color=(1, 1, 0)) \n",
        "# plot_subj(subj_without_zeros, picks=resp_sig_chans, labels_every=8, hemi='both', title=f'{subj}_Response', color=(1, 1, 0))\n",
        "\n"
      ]
    },
    {
      "cell_type": "code",
      "execution_count": null,
      "metadata": {},
      "outputs": [],
      "source": [
        "subj = \"D0063\"\n",
        "base_path = r'C:\\Users\\jz421\\Box\\CoganLab\\BIDS-1.1_GlobalLocal\\BIDS\\derivatives\\freqFilt\\figs'\n",
        "resp_filename = f'{base_path}\\\\{subj}\\\\sig_chans_{subj}_Response.json'\n",
        "stim_filename = f'{base_path}\\\\{subj}\\\\sig_chans_{subj}_Stimulus.json'\n",
        "congruent_filename = f'{base_path}\\\\{subj}\\\\sig_chans_{subj}_congruent.json'\n",
        "incongruent_filename = f'{base_path}\\\\{subj}\\\\sig_chans_{subj}_incongruent.json'\n",
        "repeat_filename = f'{base_path}\\\\{subj}\\\\sig_chans_{subj}_repeat.json'\n",
        "switch_filename = f'{base_path}\\\\{subj}\\\\sig_chans_{subj}_switch.json'\n",
        "\n",
        "resp_sig_chans = load_sig_chans(resp_filename)\n",
        "stim_sig_chans = load_sig_chans(stim_filename)\n",
        "congruent_sig_chans = load_sig_chans(congruent_filename)\n",
        "incongruent_sig_chans = load_sig_chans(incongruent_filename)\n",
        "repeat_sig_chans = load_sig_chans(repeat_filename)\n",
        "switch_sig_chans = load_sig_chans(switch_filename)\n",
        "\n",
        "\n",
        "subj_without_zeros = \"D\" + subj[1:].lstrip('0')\n",
        "plot_subj(subj_without_zeros, picks=stim_sig_chans, labels_every=8, hemi='both', title=f'{subj}_Stimulus', color=(1, 1, 0)) \n",
        "plot_subj(subj_without_zeros, picks=resp_sig_chans, labels_every=8, hemi='both', title=f'{subj}_Response', color=(1, 1, 0))\n",
        "plot_subj(subj_without_zeros, picks=congruent_sig_chans, labels_every=8, hemi='both', title=f'{subj}_Congruent', color=(1, 1, 0)) \n",
        "plot_subj(subj_without_zeros, picks=incongruent_sig_chans, labels_every=8, hemi='both', title=f'{subj}_Incongruent', color=(1, 1, 0))\n",
        "plot_subj(subj_without_zeros, picks=repeat_sig_chans, labels_every=8, hemi='both', title=f'{subj}_Repeat', color=(1, 1, 0)) \n",
        "plot_subj(subj_without_zeros, picks=switch_sig_chans, labels_every=8, hemi='both', title=f'{subj}_Switch', color=(1, 1, 0))\n"
      ]
    },
    {
      "cell_type": "markdown",
      "metadata": {},
      "source": [
        "### plot all significant electrodes on average brain"
      ]
    },
    {
      "cell_type": "code",
      "execution_count": 3,
      "metadata": {},
      "outputs": [
        {
          "name": "stdout",
          "output_type": "stream",
          "text": [
            "{'derivatives/clean': BIDS Layout: ...alLocal\\BIDS\\derivatives\\clean | Subjects: 6 | Sessions: 0 | Runs: 24}\n",
            "KeysView({'derivatives/clean': BIDS Layout: ...alLocal\\BIDS\\derivatives\\clean | Subjects: 6 | Sessions: 0 | Runs: 24})\n",
            "Loaded significant channels for subject D0057\n",
            "Loaded significant channels for subject D0057\n",
            "Loaded significant channels for subject D0059\n",
            "Loaded significant channels for subject D0059\n",
            "Loaded significant channels for subject D0063\n",
            "Loaded significant channels for subject D0063\n"
          ]
        },
        {
          "name": "stderr",
          "output_type": "stream",
          "text": [
            "C:\\Users\\jz421\\Desktop\\GlobalLocal\\IEEG_Pipelines\\ieeg\\viz\\mri.py:571: RuntimeWarning: Fiducial point lpa not found, assuming identity RAS (non-zero origin) to head transformation\n",
            "  info.set_montage(montage)\n",
            "C:\\Users\\jz421\\Desktop\\GlobalLocal\\IEEG_Pipelines\\ieeg\\viz\\mri.py:571: RuntimeWarning: Fiducial point lpa not found, assuming identity RAS (non-zero origin) to head transformation\n",
            "  info.set_montage(montage)\n",
            "C:\\Users\\jz421\\Desktop\\GlobalLocal\\IEEG_Pipelines\\ieeg\\viz\\mri.py:571: RuntimeWarning: Fiducial point lpa not found, assuming identity RAS (non-zero origin) to head transformation\n",
            "  info.set_montage(montage)\n",
            "C:\\Users\\jz421\\Desktop\\GlobalLocal\\IEEG_Pipelines\\ieeg\\viz\\mri.py:571: RuntimeWarning: Fiducial point lpa not found, assuming identity RAS (non-zero origin) to head transformation\n",
            "  info.set_montage(montage)\n"
          ]
        },
        {
          "name": "stdout",
          "output_type": "stream",
          "text": [
            "Loaded significant channels for subject D0065\n",
            "Loaded significant channels for subject D0065\n",
            "Loaded significant channels for subject D0069\n",
            "Loaded significant channels for subject D0069\n",
            "Loaded significant channels for subject D0071\n",
            "Loaded significant channels for subject D0071\n"
          ]
        },
        {
          "name": "stderr",
          "output_type": "stream",
          "text": [
            "C:\\Users\\jz421\\Desktop\\GlobalLocal\\IEEG_Pipelines\\ieeg\\viz\\mri.py:571: RuntimeWarning: Fiducial point lpa not found, assuming identity RAS (non-zero origin) to head transformation\n",
            "  info.set_montage(montage)\n",
            "C:\\Users\\jz421\\Desktop\\GlobalLocal\\IEEG_Pipelines\\ieeg\\viz\\mri.py:571: RuntimeWarning: Fiducial point lpa not found, assuming identity RAS (non-zero origin) to head transformation\n",
            "  info.set_montage(montage)\n",
            "C:\\Users\\jz421\\Desktop\\GlobalLocal\\IEEG_Pipelines\\ieeg\\viz\\mri.py:571: RuntimeWarning: Fiducial point lpa not found, assuming identity RAS (non-zero origin) to head transformation\n",
            "  info.set_montage(montage)\n"
          ]
        },
        {
          "ename": "ValueError",
          "evalue": "include/exclude must be list, tuple, ndarray, or \"bads\". You provided type <class 'str'>",
          "output_type": "error",
          "traceback": [
            "\u001b[1;31m---------------------------------------------------------------------------\u001b[0m",
            "\u001b[1;31mValueError\u001b[0m                                Traceback (most recent call last)",
            "\u001b[1;32mc:\\Users\\jz421\\Desktop\\GlobalLocal\\plot_subjects.ipynb Cell 6\u001b[0m line \u001b[0;36m5\n\u001b[0;32m     <a href='vscode-notebook-cell:/c%3A/Users/jz421/Desktop/GlobalLocal/plot_subjects.ipynb#W5sZmlsZQ%3D%3D?line=48'>49</a>\u001b[0m picks \u001b[39m=\u001b[39m [\u001b[39mf\u001b[39m\u001b[39m'\u001b[39m\u001b[39mD\u001b[39m\u001b[39m{\u001b[39;00mk[\u001b[39m1\u001b[39m:]\u001b[39m.\u001b[39mzfill(\u001b[39m4\u001b[39m)\u001b[39m}\u001b[39;00m\u001b[39m-\u001b[39m\u001b[39m{\u001b[39;00mv\u001b[39m}\u001b[39;00m\u001b[39m'\u001b[39m \u001b[39mfor\u001b[39;00m k \u001b[39min\u001b[39;00m allSigElectrodes\u001b[39m.\u001b[39mkeys() \u001b[39mfor\u001b[39;00m v \u001b[39min\u001b[39;00m allSigElectrodes[k]]\n\u001b[0;32m     <a href='vscode-notebook-cell:/c%3A/Users/jz421/Desktop/GlobalLocal/plot_subjects.ipynb#W5sZmlsZQ%3D%3D?line=49'>50</a>\u001b[0m \u001b[39m# sinfos = [subject_to_info(f'D{int(subj[1:])}') for subj in subjects]\u001b[39;00m\n\u001b[1;32m---> <a href='vscode-notebook-cell:/c%3A/Users/jz421/Desktop/GlobalLocal/plot_subjects.ipynb#W5sZmlsZQ%3D%3D?line=51'>52</a>\u001b[0m plot_on_average(allSigElectrodes, hemi\u001b[39m=\u001b[39;49m\u001b[39m'\u001b[39;49m\u001b[39mboth\u001b[39;49m\u001b[39m'\u001b[39;49m, color\u001b[39m=\u001b[39;49m(\u001b[39m1\u001b[39;49m,\u001b[39m1\u001b[39;49m,\u001b[39m0\u001b[39;49m))\n\u001b[0;32m     <a href='vscode-notebook-cell:/c%3A/Users/jz421/Desktop/GlobalLocal/plot_subjects.ipynb#W5sZmlsZQ%3D%3D?line=52'>53</a>\u001b[0m \u001b[39m# plot_on_average(allElectrodes, hemi='both', color=(1,1,0))\u001b[39;00m\n",
            "File \u001b[1;32m~\\Desktop\\GlobalLocal\\IEEG_Pipelines\\ieeg\\viz\\mri.py:304\u001b[0m, in \u001b[0;36mplot_on_average\u001b[1;34m(sigs, subj_dir, rm_wm, picks, surface, hemi, color, size, fig, background)\u001b[0m\n\u001b[0;32m    300\u001b[0m         to_fsaverage \u001b[39m=\u001b[39m mne\u001b[39m.\u001b[39mread_talxfm(subj, subj_dir)\n\u001b[0;32m    301\u001b[0m         to_fsaverage \u001b[39m=\u001b[39m mne\u001b[39m.\u001b[39mtransforms\u001b[39m.\u001b[39mTransform(fro\u001b[39m=\u001b[39m\u001b[39m'\u001b[39m\u001b[39mhead\u001b[39m\u001b[39m'\u001b[39m, to\u001b[39m=\u001b[39m\u001b[39m'\u001b[39m\u001b[39mmri\u001b[39m\u001b[39m'\u001b[39m,\n\u001b[0;32m    302\u001b[0m                                             trans\u001b[39m=\u001b[39mto_fsaverage[\u001b[39m'\u001b[39m\u001b[39mtrans\u001b[39m\u001b[39m'\u001b[39m])\n\u001b[1;32m--> 304\u001b[0m         plot_subj(subj, subj_dir, picks\u001b[39m=\u001b[39;49melectrodes, no_wm\u001b[39m=\u001b[39;49m\u001b[39mFalse\u001b[39;49;00m, fig\u001b[39m=\u001b[39;49mfig,\n\u001b[0;32m    305\u001b[0m               trans\u001b[39m=\u001b[39;49mto_fsaverage, color\u001b[39m=\u001b[39;49mcolor, size\u001b[39m=\u001b[39;49msize, labels_every\u001b[39m=\u001b[39;49m\u001b[39mNone\u001b[39;49;00m)\n\u001b[0;32m    307\u001b[0m     \u001b[39mreturn\u001b[39;00m fig  \u001b[39m# Return the figure after plotting all electrodes in the dictionary\u001b[39;00m\n\u001b[0;32m    310\u001b[0m \u001b[39mfor\u001b[39;00m subj, inst \u001b[39min\u001b[39;00m sigs\u001b[39m.\u001b[39mitems():\n",
            "File \u001b[1;32m~\\Desktop\\GlobalLocal\\IEEG_Pipelines\\ieeg\\viz\\mri.py:483\u001b[0m, in \u001b[0;36mplot_subj\u001b[1;34m(inst, subj_dir, picks, no_wm, labels_every, surface, hemi, fig, trans, color, size, show, background, title)\u001b[0m\n\u001b[0;32m    480\u001b[0m     picks \u001b[39m=\u001b[39m pick_no_wm(picks,\n\u001b[0;32m    481\u001b[0m                        gen_labels(info, sub, subj_dir, info\u001b[39m.\u001b[39mch_names))\n\u001b[0;32m    482\u001b[0m \u001b[39mif\u001b[39;00m \u001b[39misinstance\u001b[39m(picks[\u001b[39m0\u001b[39m], \u001b[39mstr\u001b[39m):\n\u001b[1;32m--> 483\u001b[0m     picks \u001b[39m=\u001b[39m mne\u001b[39m.\u001b[39;49mpick_channels(info\u001b[39m.\u001b[39;49mch_names, picks)\n\u001b[0;32m    485\u001b[0m info: mne\u001b[39m.\u001b[39mInfo \u001b[39m=\u001b[39m mne\u001b[39m.\u001b[39mpick_info(info, picks)\n\u001b[0;32m    487\u001b[0m \u001b[39m# fig.add_sensors(info, trans)\u001b[39;00m\n",
            "File \u001b[1;32m<decorator-gen-12>:12\u001b[0m, in \u001b[0;36mpick_channels\u001b[1;34m(ch_names, include, exclude, ordered, verbose)\u001b[0m\n",
            "File \u001b[1;32mc:\\Users\\jz421\\AppData\\Local\\anaconda3\\envs\\ieeg\\Lib\\site-packages\\mne\\io\\pick.py:295\u001b[0m, in \u001b[0;36mpick_channels\u001b[1;34m(ch_names, include, exclude, ordered, verbose)\u001b[0m\n\u001b[0;32m    293\u001b[0m     \u001b[39mraise\u001b[39;00m \u001b[39mRuntimeError\u001b[39;00m(\u001b[39m\"\u001b[39m\u001b[39mch_names is not a unique list, picking is unsafe\u001b[39m\u001b[39m\"\u001b[39m)\n\u001b[0;32m    294\u001b[0m _validate_type(ordered, (\u001b[39mbool\u001b[39m, \u001b[39mNone\u001b[39;00m), \u001b[39m\"\u001b[39m\u001b[39mordered\u001b[39m\u001b[39m\"\u001b[39m)\n\u001b[1;32m--> 295\u001b[0m _check_excludes_includes(include)\n\u001b[0;32m    296\u001b[0m _check_excludes_includes(exclude)\n\u001b[0;32m    297\u001b[0m \u001b[39mif\u001b[39;00m \u001b[39mnot\u001b[39;00m \u001b[39misinstance\u001b[39m(include, \u001b[39mlist\u001b[39m):\n",
            "File \u001b[1;32mc:\\Users\\jz421\\AppData\\Local\\anaconda3\\envs\\ieeg\\Lib\\site-packages\\mne\\io\\pick.py:1125\u001b[0m, in \u001b[0;36m_check_excludes_includes\u001b[1;34m(chs, info, allow_bads)\u001b[0m\n\u001b[0;32m   1123\u001b[0m             chs \u001b[39m=\u001b[39m info[\u001b[39m\"\u001b[39m\u001b[39mbads\u001b[39m\u001b[39m\"\u001b[39m]\n\u001b[0;32m   1124\u001b[0m     \u001b[39melse\u001b[39;00m:\n\u001b[1;32m-> 1125\u001b[0m         \u001b[39mraise\u001b[39;00m \u001b[39mValueError\u001b[39;00m(\n\u001b[0;32m   1126\u001b[0m             \u001b[39m'\u001b[39m\u001b[39minclude/exclude must be list, tuple, ndarray, or \u001b[39m\u001b[39m\"\u001b[39m\u001b[39mbads\u001b[39m\u001b[39m\"\u001b[39m\u001b[39m. \u001b[39m\u001b[39m'\u001b[39m\n\u001b[0;32m   1127\u001b[0m             \u001b[39m+\u001b[39m \u001b[39m\"\u001b[39m\u001b[39mYou provided type \u001b[39m\u001b[39m{}\u001b[39;00m\u001b[39m\"\u001b[39m\u001b[39m.\u001b[39mformat(\u001b[39mtype\u001b[39m(chs))\n\u001b[0;32m   1128\u001b[0m         )\n\u001b[0;32m   1129\u001b[0m \u001b[39mreturn\u001b[39;00m chs\n",
            "\u001b[1;31mValueError\u001b[0m: include/exclude must be list, tuple, ndarray, or \"bads\". You provided type <class 'str'>"
          ]
        }
      ],
      "source": [
        "# grab all of the significant electrodes, and put them into one list, and then run plot_on_average\n",
        "\n",
        "HOME = os.path.expanduser(\"~\")\n",
        "\n",
        "# get box directory depending on OS\n",
        "if os.name == 'nt': # windows\n",
        "    LAB_root = os.path.join(HOME, \"Box\", \"CoganLab\")\n",
        "else: # mac\n",
        "    LAB_root = os.path.join(HOME, \"Library\", \"CloudStorage\", \"Box-Box\", \"CoganLab\")\n",
        "\n",
        "layout = get_data(\"GlobalLocal\", root=LAB_root)\n",
        "\n",
        "\n",
        "print(layout.derivatives)\n",
        "print(layout.derivatives.keys())\n",
        "\n",
        "\n",
        "base_path = os.path.join(LAB_root, \"BIDS-1.1_GlobalLocal\", \"BIDS\", \"derivatives\", \"freqFilt\", \"figs\")\n",
        "\n",
        "subjects = layout.get(return_type=\"id\", target=\"subject\")\n",
        "subjects_without_zeroes = [\"D\" + subj[1:].lstrip('0') for subj in subjects]\n",
        "\n",
        "allSigElectrodes = {}  # Initialize as an empty dictionary\n",
        "allElectrodes = {}\n",
        "\n",
        "for subj in subjects:\n",
        "    if subj == \"D0077\":\n",
        "        continue\n",
        "    \n",
        "    resp_filename = f'{base_path}\\\\{subj}\\\\sig_chans_{subj}_response_experimentStartBase1secTo101Sec.json'\n",
        "    stim_filename = f'{base_path}\\\\{subj}\\\\sig_chans_{subj}_stimulus_experimentStartBase1secTo101Sec.json'\n",
        "\n",
        "    resp_sig_chans = load_sig_chans(resp_filename)\n",
        "    stim_sig_chans = load_sig_chans(stim_filename)\n",
        "\n",
        "    # Combine the significant electrodes for this subject\n",
        "    combined_chans = resp_sig_chans + stim_sig_chans\n",
        "\n",
        "    # Add them to the dictionary, tagged with the subject without zeroes\n",
        "\n",
        "    subj_without_zeroes = \"D\" + subj[1:].lstrip('0')\n",
        "    allSigElectrodes[subj_without_zeroes] = combined_chans\n",
        "\n",
        "    # Get all electrodes for this subject and add them to the allElectrodes dict\n",
        "    info = subject_to_info(subj_without_zeroes)\n",
        "    allSubjElectrodes = mne.pick_channels(info.ch_names, [])\n",
        "    allElectrodes[subj_without_zeroes] = allSubjElectrodes\n",
        "\n",
        "picks = [f'D{k[1:].zfill(4)}-{v}' for k in allSigElectrodes.keys() for v in allSigElectrodes[k]]\n",
        "# sinfos = [subject_to_info(f'D{int(subj[1:])}') for subj in subjects]\n",
        "\n",
        "plot_on_average(allSigElectrodes, hemi='both', color=(1,1,0))\n",
        "# plot_on_average(allElectrodes, hemi='both', color=(1,1,0))"
      ]
    },
    {
      "cell_type": "markdown",
      "metadata": {},
      "source": [
        "### plot all significant electrodes, then plot all electrodes"
      ]
    },
    {
      "cell_type": "code",
      "execution_count": 2,
      "metadata": {},
      "outputs": [
        {
          "name": "stdout",
          "output_type": "stream",
          "text": [
            "{'derivatives/clean': BIDS Layout: ...alLocal\\BIDS\\derivatives\\clean | Subjects: 6 | Sessions: 0 | Runs: 24}\n",
            "KeysView({'derivatives/clean': BIDS Layout: ...alLocal\\BIDS\\derivatives\\clean | Subjects: 6 | Sessions: 0 | Runs: 24})\n",
            "Loaded significant channels for subject D0057\n",
            "Loaded significant channels for subject D0057\n"
          ]
        },
        {
          "name": "stderr",
          "output_type": "stream",
          "text": [
            "c:\\Users\\jz421\\Desktop\\GlobalLocal\\ieeg\\viz\\mri.py:576: RuntimeWarning: Fiducial point lpa not found, assuming identity RAS (non-zero origin) to head transformation\n",
            "  info.set_montage(montage)\n",
            "c:\\Users\\jz421\\Desktop\\GlobalLocal\\ieeg\\viz\\mri.py:576: RuntimeWarning: Fiducial point lpa not found, assuming identity RAS (non-zero origin) to head transformation\n",
            "  info.set_montage(montage)\n",
            "c:\\Users\\jz421\\Desktop\\GlobalLocal\\ieeg\\viz\\mri.py:576: RuntimeWarning: Fiducial point lpa not found, assuming identity RAS (non-zero origin) to head transformation\n",
            "  info.set_montage(montage)\n",
            "c:\\Users\\jz421\\Desktop\\GlobalLocal\\ieeg\\viz\\mri.py:576: RuntimeWarning: Fiducial point lpa not found, assuming identity RAS (non-zero origin) to head transformation\n",
            "  info.set_montage(montage)\n",
            "c:\\Users\\jz421\\Desktop\\GlobalLocal\\ieeg\\viz\\mri.py:576: RuntimeWarning: Fiducial point lpa not found, assuming identity RAS (non-zero origin) to head transformation\n",
            "  info.set_montage(montage)\n",
            "c:\\Users\\jz421\\Desktop\\GlobalLocal\\ieeg\\viz\\mri.py:576: RuntimeWarning: Fiducial point lpa not found, assuming identity RAS (non-zero origin) to head transformation\n",
            "  info.set_montage(montage)\n"
          ]
        },
        {
          "name": "stdout",
          "output_type": "stream",
          "text": [
            "Loaded significant channels for subject D0059\n",
            "Loaded significant channels for subject D0059\n",
            "Loaded significant channels for subject D0063\n",
            "Loaded significant channels for subject D0063\n",
            "Loaded significant channels for subject D0065\n",
            "Loaded significant channels for subject D0065\n",
            "Loaded significant channels for subject D0069\n",
            "Loaded significant channels for subject D0069\n",
            "Loaded significant channels for subject D0071\n",
            "Loaded significant channels for subject D0071\n",
            "Using pyvistaqt 3d backend.\n",
            "\n"
          ]
        },
        {
          "name": "stderr",
          "output_type": "stream",
          "text": [
            "c:\\Users\\jz421\\Desktop\\GlobalLocal\\ieeg\\viz\\mri.py:576: RuntimeWarning: Fiducial point lpa not found, assuming identity RAS (non-zero origin) to head transformation\n",
            "  info.set_montage(montage)\n"
          ]
        },
        {
          "name": "stdout",
          "output_type": "stream",
          "text": [
            "fig: <mne.viz._brain._brain.Brain object at 0x000002742BA1C4D0>\n",
            "info: <Info | 8 non-empty values\n",
            " bads: []\n",
            " ch_names: LAMT12, LAMT11, LAMT10, LAMT9, LAMT8, LAMT7, LAMT6, LAMT5, ...\n",
            " chs: 129 sEEG\n",
            " custom_ref_applied: False\n",
            " dig: 181 items (3 Cardinal, 178 EEG)\n",
            " highpass: 0.0 Hz\n",
            " lowpass: 1000.0 Hz\n",
            " meas_date: unspecified\n",
            " nchan: 129\n",
            " projs: []\n",
            " sfreq: 2000.0 Hz\n",
            ">\n",
            "sub: D57\n",
            "pos: OrderedDict([('LAMT12', array([-0.06103098, -0.00769795, -0.02618939])), ('LAMT11', array([-0.05694336, -0.00773686, -0.02580728])), ('LAMT10', array([-0.05272694, -0.00783255, -0.02541705])), ('LAMT9', array([-0.04851064, -0.00792811, -0.02502672])), ('LAMT8', array([-0.04429423, -0.0080238 , -0.0246365 ])), ('LAMT7', array([-0.04026956, -0.00809032, -0.02434906])), ('LAMT6', array([-0.0362449 , -0.00815684, -0.02406163])), ('LAMT5', array([-0.03222023, -0.00822337, -0.02377419])), ('LAMT4', array([-0.02819556, -0.00828989, -0.02348676])), ('LAMT3', array([-0.02417537, -0.0081885 , -0.02292734])), ('LAMT1', array([-0.01606755, -0.00812603, -0.02198582])), ('LMMT11', array([-0.06250197, -0.01957471, -0.0191802 ])), ('LMMT10', array([-0.05847752, -0.01955039, -0.01920475])), ('LMMT9', array([-0.05496111, -0.01962097, -0.0194768 ])), ('LMMT8', array([-0.05144483, -0.01969144, -0.01974886])), ('LMMT7', array([-0.04792842, -0.01976203, -0.02002103])), ('LMMT6', array([-0.04441214, -0.01983249, -0.02029309])), ('LMMT5', array([-0.04089574, -0.01990307, -0.02056514])), ('LMMT4', array([-0.03737945, -0.01997354, -0.0208372 ])), ('LMMT3', array([-0.03386305, -0.02004413, -0.02110936])), ('LMMT2', array([-0.03034676, -0.0201146 , -0.02138142])), ('RAIF14', array([ 0.05326724,  0.02737401, -0.00559058])), ('RAIF13', array([ 0.0495478 ,  0.02682513, -0.00715487])), ('RAIF12', array([ 0.04582836,  0.02627625, -0.00871916])), ('RAIF7', array([ 0.02723117,  0.02353186, -0.01654062])), ('RAIF4', array([ 0.01607286,  0.02188523, -0.02123349])), ('RAIF3', array([ 0.01336613,  0.02163962, -0.02259013])), ('RAIF2', array([ 0.01065941,  0.02139391, -0.02394676])), ('RAIF1', array([ 0.00710881,  0.02089554, -0.02547647])), ('RAMF14', array([0.05413411, 0.02322569, 0.02960686])), ('RAMF13', array([0.05030446, 0.02302969, 0.02965697])), ('RAMF12', array([0.04635085, 0.02276473, 0.02918878])), ('RAMF10', array([0.0384435 , 0.0222349 , 0.02825227])), ('RAMF9', array([0.03448978, 0.02196993, 0.02778396])), ('RAMF8', array([0.03053616, 0.02170507, 0.02731575])), ('RAMF4', array([0.01472147, 0.0206453 , 0.02544275])), ('RAMF3', array([0.01078024, 0.02038727, 0.02502633])), ('RAMF2', array([0.0068389 , 0.02012923, 0.02460992])), ('RAMF1', array([0.00289767, 0.01987119, 0.02419351])), ('RMMF16', array([ 0.06272655, -0.00527263,  0.04379111])), ('RMMF15', array([ 0.05882313, -0.00526237,  0.04292804])), ('RMMF14', array([ 0.05480039, -0.00514355,  0.04203664])), ('RMMF13', array([ 0.05077764, -0.00502473,  0.04114524])), ('RMMF12', array([ 0.04674382, -0.00453156,  0.04108978])), ('RMMF11', array([ 0.0428739 , -0.00458501,  0.04015846])), ('RMMF10', array([ 0.03900397, -0.00463846,  0.03922713])), ('RMMF9', array([ 0.03513404, -0.00469191,  0.03829581])), ('RMMF8', array([ 0.03126411, -0.00474536,  0.03736449])), ('RMMF7', array([ 0.02739419, -0.00479881,  0.03643317])), ('RMMF6', array([ 0.02352437, -0.00485214,  0.03550195])), ('RMMF5', array([ 0.01965444, -0.00490559,  0.03457063])), ('RMMF4', array([ 0.01578452, -0.00495904,  0.03363931])), ('RMMF3', array([ 0.01191459, -0.0050125 ,  0.03270799])), ('RMMF2', array([ 0.00804466, -0.00506595,  0.03177667])), ('RPIP14', array([ 0.05978701, -0.05298146,  0.0294505 ])), ('RPIP13', array([ 0.05633664, -0.05263896,  0.02822361])), ('RPIP12', array([ 0.05237045, -0.05217349,  0.02750996])), ('RPIP11', array([ 0.04840414, -0.05170812,  0.02679644])), ('RPIP10', array([ 0.04443795, -0.05124266,  0.02608279])), ('RPIP9', array([ 0.04047165, -0.05077728,  0.02536927])), ('RPIP8', array([ 0.03650545, -0.05031182,  0.02465562])), ('RPIP7', array([ 0.03253915, -0.04984645,  0.02394211])), ('RPIP6', array([ 0.02857296, -0.04938099,  0.02322846])), ('RPIP5', array([ 0.02460665, -0.04891561,  0.02251494])), ('RPIP4', array([ 0.02064046, -0.04845015,  0.02180129])), ('RPIT12', array([ 0.06275186, -0.05410094, -0.0007807 ])), ('RPIT11', array([ 0.05880274, -0.05389137, -0.00138859])), ('RPIT10', array([ 0.054194  , -0.05340167, -0.00144054])), ('RPIT9', array([ 0.05074873, -0.05349958, -0.00200346])), ('RPIT8', array([ 0.04680589, -0.05331579, -0.00269249])), ('RPIT7', array([ 0.04286317, -0.053132  , -0.00338163])), ('RPIT6', array([ 0.03892034, -0.05294821, -0.00407065])), ('RPIT5', array([ 0.0349775 , -0.05276431, -0.00475969])), ('RPIT4', array([ 0.03103466, -0.05258051, -0.00544871])), ('RPIT3', array([ 0.02709194, -0.05239673, -0.00613785])), ('RPIT2', array([ 0.02314911, -0.05221293, -0.00682687])), ('RPIT1', array([ 0.01931158, -0.05179567, -0.00746747])), ('RAST8', array([ 0.06824534, -0.01379443, -0.00307257])), ('RAST7', array([ 0.06459695, -0.01492261, -0.00387225])), ('RAST4', array([ 0.05332952, -0.01846271, -0.00636485])), ('RAST3', array([ 0.04978867, -0.01953904, -0.00713342])), ('RAST1', array([ 0.04270699, -0.0216917 , -0.00867056])), ('RPMT10', array([ 0.06352099, -0.02985245, -0.01555968])), ('RPMT5', array([ 0.04347783, -0.02987268, -0.01733989])), ('RPMT4', array([ 0.03945466, -0.02986207, -0.01771807])), ('RPMT3', array([ 0.03543148, -0.02985154, -0.01809612])), ('RPMT2', array([ 0.03169917, -0.03013286, -0.01803332])), ('RAIT10', array([ 0.06033025, -0.00731601, -0.0232009 ])), ('RAIT9', array([ 0.05688277, -0.00689506, -0.02533374])), ('RAIT8', array([ 0.05343156, -0.00618922, -0.02780857])), ('RAIT7', array([ 0.04998461, -0.00580893, -0.02989259])), ('RAIT6', array([ 0.04653766, -0.00542875, -0.03197658])), ('RAIT5', array([ 0.04309071, -0.00504846, -0.03406059])), ('RAIT4', array([ 0.03964375, -0.00466826, -0.03614447])), ('RAIT3', array([ 0.0361968 , -0.00428797, -0.03822848])), ('RAIT2', array([ 0.03274985, -0.00390778, -0.04031247])), ('RAIT1', array([ 0.0293029 , -0.0035275 , -0.04239649])), ('RAMT12', array([ 0.06649947, -0.01755314, -0.01455818])), ('RAMT11', array([ 0.06276892, -0.01664853, -0.01551307])), ('RAMT6', array([ 0.04401856, -0.01202445, -0.0203526 ])), ('RAMT5', array([ 0.04026849, -0.01109972, -0.02132052])), ('RAMT4', array([ 0.03651842, -0.01017488, -0.02228833])), ('RAMT3', array([ 0.03276834, -0.00925004, -0.02325627])), ('RAMT1', array([ 0.02546342, -0.0076024 , -0.02506202])), ('RMMT12', array([ 0.06403684, -0.0193796 , -0.01569296])), ('RMMT11', array([ 0.06052458, -0.01940401, -0.0162669 ])), ('RMMT6', array([ 0.04310834, -0.01998115, -0.01906697])), ('RMMT5', array([ 0.03961222, -0.01995234, -0.01950027])), ('RMMT4', array([ 0.03611599, -0.01992354, -0.01993356])), ('RAI8', array([0.02914215, 0.01510372, 0.02043726])), ('RAI7', array([0.03026032, 0.01369923, 0.01545617])), ('RAI6', array([0.0313786 , 0.01229475, 0.01047521])), ('RAI5', array([0.03249689, 0.01089036, 0.0054941 ])), ('RAI4', array([0.03361517, 0.00948587, 0.00051314])), ('RAI3', array([ 0.03473334,  0.00808138, -0.00446795])), ('RAI2', array([ 0.03585163,  0.0066769 , -0.00944892])), ('RPI15', array([ 2.93587211e-02, -2.95542324e-06,  6.24717078e-02])), ('RPI14', array([ 0.03002972, -0.00098218,  0.05720286])), ('RPI13', array([ 0.03070084, -0.00196132,  0.05193387])), ('RPI12', array([ 0.03137184, -0.00294044,  0.046665  ])), ('RPI11', array([ 0.03204295, -0.00391958,  0.04139602])), ('RPI10', array([ 0.03271396, -0.00489881,  0.03612716])), ('RPI9', array([ 0.03338507, -0.00587794,  0.03085818])), ('RPI8', array([ 0.03405607, -0.00685707,  0.02558931])), ('RPI7', array([ 0.03472719, -0.00783621,  0.02032033])), ('RPI6', array([ 0.03539819, -0.00881543,  0.01505147])), ('RPI5', array([ 0.03606931, -0.00979457,  0.00978249])), ('RPI3', array([ 0.03614607, -0.01118192, -0.00072883])), ('RPI2', array([ 0.03618018, -0.01179852, -0.00540052]))])\n",
            "labels_every: 1\n",
            "hemi: split\n",
            "picks shape: 129, picks: ['LAMT12', 'LAMT11', 'LAMT10', 'LAMT9', 'LAMT8', 'LAMT7', 'LAMT6', 'LAMT5', 'LAMT4', 'LAMT3', 'LAMT1', 'LMMT11', 'LMMT10', 'LMMT9', 'LMMT8', 'LMMT7', 'LMMT6', 'LMMT5', 'LMMT4', 'LMMT3', 'LMMT2', 'RAIF14', 'RAIF13', 'RAIF12', 'RAIF7', 'RAIF4', 'RAIF3', 'RAIF2', 'RAIF1', 'RAMF14', 'RAMF13', 'RAMF12', 'RAMF10', 'RAMF9', 'RAMF8', 'RAMF4', 'RAMF3', 'RAMF2', 'RAMF1', 'RMMF16', 'RMMF15', 'RMMF14', 'RMMF13', 'RMMF12', 'RMMF11', 'RMMF10', 'RMMF9', 'RMMF8', 'RMMF7', 'RMMF6', 'RMMF5', 'RMMF4', 'RMMF3', 'RMMF2', 'RPIP14', 'RPIP13', 'RPIP12', 'RPIP11', 'RPIP10', 'RPIP9', 'RPIP8', 'RPIP7', 'RPIP6', 'RPIP5', 'RPIP4', 'RPIT12', 'RPIT11', 'RPIT10', 'RPIT9', 'RPIT8', 'RPIT7', 'RPIT6', 'RPIT5', 'RPIT4', 'RPIT3', 'RPIT2', 'RPIT1', 'RAST8', 'RAST7', 'RAST4', 'RAST3', 'RAST1', 'RPMT10', 'RPMT5', 'RPMT4', 'RPMT3', 'RPMT2', 'RAIT10', 'RAIT9', 'RAIT8', 'RAIT7', 'RAIT6', 'RAIT5', 'RAIT4', 'RAIT3', 'RAIT2', 'RAIT1', 'RAMT12', 'RAMT11', 'RAMT6', 'RAMT5', 'RAMT4', 'RAMT3', 'RAMT1', 'RMMT12', 'RMMT11', 'RMMT6', 'RMMT5', 'RMMT4', 'RAI8', 'RAI7', 'RAI6', 'RAI5', 'RAI4', 'RAI3', 'RAI2', 'RPI15', 'RPI14', 'RPI13', 'RPI12', 'RPI11', 'RPI10', 'RPI9', 'RPI8', 'RPI7', 'RPI6', 'RPI5', 'RPI3', 'RPI2']\n",
            "names shape: 129, names: ['LAMT12', 'LAMT11', 'LAMT10', 'LAMT9', 'LAMT8', 'LAMT7', 'LAMT6', 'LAMT5', 'LAMT4', 'LAMT3', 'LAMT1', 'LMMT11', 'LMMT10', 'LMMT9', 'LMMT8', 'LMMT7', 'LMMT6', 'LMMT5', 'LMMT4', 'LMMT3', 'LMMT2', 'RAIF14', 'RAIF13', 'RAIF12', 'RAIF7', 'RAIF4', 'RAIF3', 'RAIF2', 'RAIF1', 'RAMF14', 'RAMF13', 'RAMF12', 'RAMF10', 'RAMF9', 'RAMF8', 'RAMF4', 'RAMF3', 'RAMF2', 'RAMF1', 'RMMF16', 'RMMF15', 'RMMF14', 'RMMF13', 'RMMF12', 'RMMF11', 'RMMF10', 'RMMF9', 'RMMF8', 'RMMF7', 'RMMF6', 'RMMF5', 'RMMF4', 'RMMF3', 'RMMF2', 'RPIP14', 'RPIP13', 'RPIP12', 'RPIP11', 'RPIP10', 'RPIP9', 'RPIP8', 'RPIP7', 'RPIP6', 'RPIP5', 'RPIP4', 'RPIT12', 'RPIT11', 'RPIT10', 'RPIT9', 'RPIT8', 'RPIT7', 'RPIT6', 'RPIT5', 'RPIT4', 'RPIT3', 'RPIT2', 'RPIT1', 'RAST8', 'RAST7', 'RAST4', 'RAST3', 'RAST1', 'RPMT10', 'RPMT5', 'RPMT4', 'RPMT3', 'RPMT2', 'RAIT10', 'RAIT9', 'RAIT8', 'RAIT7', 'RAIT6', 'RAIT5', 'RAIT4', 'RAIT3', 'RAIT2', 'RAIT1', 'RAMT12', 'RAMT11', 'RAMT6', 'RAMT5', 'RAMT4', 'RAMT3', 'RAMT1', 'RMMT12', 'RMMT11', 'RMMT6', 'RMMT5', 'RMMT4', 'RAI8', 'RAI7', 'RAI6', 'RAI5', 'RAI4', 'RAI3', 'RAI2', 'RPI15', 'RPI14', 'RPI13', 'RPI12', 'RPI11', 'RPI10', 'RPI9', 'RPI8', 'RPI7', 'RPI6', 'RPI5', 'RPI3', 'RPI2']\n"
          ]
        },
        {
          "ename": "IndexError",
          "evalue": "Column index is out of range (1)",
          "output_type": "error",
          "traceback": [
            "\u001b[1;31m---------------------------------------------------------------------------\u001b[0m",
            "\u001b[1;31mIndexError\u001b[0m                                Traceback (most recent call last)",
            "Cell \u001b[1;32mIn[2], line 50\u001b[0m\n\u001b[0;32m     46\u001b[0m     allSubjElectrodes \u001b[39m=\u001b[39m mne\u001b[39m.\u001b[39mpick_channels(info\u001b[39m.\u001b[39mch_names, [])\n\u001b[0;32m     47\u001b[0m     allElectrodes[subj_without_zeroes] \u001b[39m=\u001b[39m allSubjElectrodes\n\u001b[1;32m---> 50\u001b[0m plot_on_average(allSigElectrodes, hemi\u001b[39m=\u001b[39;49m\u001b[39m'\u001b[39;49m\u001b[39mboth\u001b[39;49m\u001b[39m'\u001b[39;49m, color\u001b[39m=\u001b[39;49m(\u001b[39m1\u001b[39;49m,\u001b[39m1\u001b[39;49m,\u001b[39m0\u001b[39;49m))\n\u001b[0;32m     51\u001b[0m plot_on_average(allElectrodes, hemi\u001b[39m=\u001b[39m\u001b[39m'\u001b[39m\u001b[39mboth\u001b[39m\u001b[39m'\u001b[39m, color\u001b[39m=\u001b[39m(\u001b[39m1\u001b[39m,\u001b[39m1\u001b[39m,\u001b[39m0\u001b[39m))\n",
            "File \u001b[1;32mc:\\Users\\jz421\\Desktop\\GlobalLocal\\ieeg\\viz\\mri.py:306\u001b[0m, in \u001b[0;36mplot_on_average\u001b[1;34m(sigs, subj_dir, rm_wm, picks, surface, hemi, color, size, fig)\u001b[0m\n\u001b[0;32m    302\u001b[0m         to_fsaverage \u001b[39m=\u001b[39m mne\u001b[39m.\u001b[39mread_talxfm(subj, subj_dir)\n\u001b[0;32m    303\u001b[0m         to_fsaverage \u001b[39m=\u001b[39m mne\u001b[39m.\u001b[39mtransforms\u001b[39m.\u001b[39mTransform(fro\u001b[39m=\u001b[39m\u001b[39m'\u001b[39m\u001b[39mhead\u001b[39m\u001b[39m'\u001b[39m, to\u001b[39m=\u001b[39m\u001b[39m'\u001b[39m\u001b[39mmri\u001b[39m\u001b[39m'\u001b[39m,\n\u001b[0;32m    304\u001b[0m                                             trans\u001b[39m=\u001b[39mto_fsaverage[\u001b[39m'\u001b[39m\u001b[39mtrans\u001b[39m\u001b[39m'\u001b[39m])\n\u001b[1;32m--> 306\u001b[0m         plot_subj(subj, subj_dir, picks\u001b[39m=\u001b[39;49melectrodes, no_wm\u001b[39m=\u001b[39;49m\u001b[39mFalse\u001b[39;49;00m, fig\u001b[39m=\u001b[39;49mfig,\n\u001b[0;32m    307\u001b[0m               trans\u001b[39m=\u001b[39;49mto_fsaverage, color\u001b[39m=\u001b[39;49mcolor, size\u001b[39m=\u001b[39;49msize,\n\u001b[0;32m    308\u001b[0m               labels_every\u001b[39m=\u001b[39;49m\u001b[39m1\u001b[39;49m)\n\u001b[0;32m    310\u001b[0m     \u001b[39mreturn\u001b[39;00m fig  \u001b[39m# Return the figure after plotting all electrodes in the dictionary\u001b[39;00m\n\u001b[0;32m    312\u001b[0m \u001b[39melif\u001b[39;00m \u001b[39misinstance\u001b[39m(sigs, \u001b[39mlist\u001b[39m):\n",
            "File \u001b[1;32mc:\\Users\\jz421\\Desktop\\GlobalLocal\\ieeg\\viz\\mri.py:515\u001b[0m, in \u001b[0;36mplot_subj\u001b[1;34m(inst, subj_dir, picks, no_wm, labels_every, surface, hemi, fig, trans, color, size, title)\u001b[0m\n\u001b[0;32m    512\u001b[0m \u001b[39mif\u001b[39;00m labels_every \u001b[39mis\u001b[39;00m \u001b[39mnot\u001b[39;00m \u001b[39mNone\u001b[39;00m:\n\u001b[0;32m    513\u001b[0m     settings \u001b[39m=\u001b[39m \u001b[39mdict\u001b[39m(shape\u001b[39m=\u001b[39m\u001b[39mNone\u001b[39;00m, always_visible\u001b[39m=\u001b[39m\u001b[39mTrue\u001b[39;00m, text_color\u001b[39m=\u001b[39m(\u001b[39m0\u001b[39m, \u001b[39m0\u001b[39m, \u001b[39m0\u001b[39m),\n\u001b[0;32m    514\u001b[0m                     bold\u001b[39m=\u001b[39m\u001b[39mFalse\u001b[39;00m)\n\u001b[1;32m--> 515\u001b[0m     _add_labels(fig, info, sub, pos, labels_every, hemi,\n\u001b[0;32m    516\u001b[0m                 (left, right), \u001b[39m*\u001b[39;49m\u001b[39m*\u001b[39;49msettings)\n\u001b[0;32m    517\u001b[0m \u001b[39mreturn\u001b[39;00m fig\n",
            "File \u001b[1;32mc:\\Users\\jz421\\Desktop\\GlobalLocal\\ieeg\\viz\\mri.py:535\u001b[0m, in \u001b[0;36m_add_labels\u001b[1;34m(fig, info, sub, pos, every, hemi, lr, **kwargs)\u001b[0m\n\u001b[0;32m    532\u001b[0m         pos \u001b[39m=\u001b[39m positions[\u001b[39mslice\u001b[39m(every \u001b[39m-\u001b[39m \u001b[39m1\u001b[39m, info[\u001b[39m'\u001b[39m\u001b[39mnchan\u001b[39m\u001b[39m'\u001b[39m], every)]\n\u001b[0;32m    533\u001b[0m         plt_names \u001b[39m=\u001b[39m [\u001b[39mf\u001b[39m\u001b[39m'\u001b[39m\u001b[39m{\u001b[39;00msub\u001b[39m}\u001b[39;00m\u001b[39m-\u001b[39m\u001b[39m{\u001b[39;00mn\u001b[39m}\u001b[39;00m\u001b[39m'\u001b[39m \u001b[39mfor\u001b[39;00m n \u001b[39min\u001b[39;00m names \u001b[39mif\u001b[39;00m\n\u001b[0;32m    534\u001b[0m                      n\u001b[39m.\u001b[39mstartswith([\u001b[39m'\u001b[39m\u001b[39mL\u001b[39m\u001b[39m'\u001b[39m, \u001b[39m'\u001b[39m\u001b[39mR\u001b[39m\u001b[39m'\u001b[39m][hems])]\n\u001b[1;32m--> 535\u001b[0m         fig\u001b[39m.\u001b[39;49mplotter\u001b[39m.\u001b[39;49msubplot(\u001b[39m0\u001b[39;49m, hems)\n\u001b[0;32m    536\u001b[0m         fig\u001b[39m.\u001b[39mplotter\u001b[39m.\u001b[39madd_point_labels(pos, plt_names, \u001b[39m*\u001b[39m\u001b[39m*\u001b[39mkwargs)\n\u001b[0;32m    537\u001b[0m \u001b[39melse\u001b[39;00m:\n",
            "File \u001b[1;32mc:\\Users\\jz421\\AppData\\Local\\anaconda3\\envs\\ieeg\\Lib\\site-packages\\pyvista\\plotting\\plotting.py:931\u001b[0m, in \u001b[0;36mBasePlotter.subplot\u001b[1;34m(self, index_row, index_column)\u001b[0m\n\u001b[0;32m    905\u001b[0m \u001b[39mdef\u001b[39;00m \u001b[39msubplot\u001b[39m(\u001b[39mself\u001b[39m, index_row, index_column\u001b[39m=\u001b[39m\u001b[39mNone\u001b[39;00m):\n\u001b[0;32m    906\u001b[0m \u001b[39m    \u001b[39m\u001b[39m\"\"\"Set the active subplot.\u001b[39;00m\n\u001b[0;32m    907\u001b[0m \n\u001b[0;32m    908\u001b[0m \u001b[39m    Parameters\u001b[39;00m\n\u001b[1;32m   (...)\u001b[0m\n\u001b[0;32m    929\u001b[0m \n\u001b[0;32m    930\u001b[0m \u001b[39m    \"\"\"\u001b[39;00m\n\u001b[1;32m--> 931\u001b[0m     \u001b[39mself\u001b[39;49m\u001b[39m.\u001b[39;49mrenderers\u001b[39m.\u001b[39;49mset_active_renderer(index_row, index_column)\n",
            "File \u001b[1;32mc:\\Users\\jz421\\AppData\\Local\\anaconda3\\envs\\ieeg\\Lib\\site-packages\\pyvista\\plotting\\renderers.py:296\u001b[0m, in \u001b[0;36mRenderers.set_active_renderer\u001b[1;34m(self, index_row, index_column)\u001b[0m\n\u001b[0;32m    294\u001b[0m     \u001b[39mraise\u001b[39;00m \u001b[39mIndexError\u001b[39;00m(\u001b[39mf\u001b[39m\u001b[39m'\u001b[39m\u001b[39mRow index is out of range (\u001b[39m\u001b[39m{\u001b[39;00m\u001b[39mself\u001b[39m\u001b[39m.\u001b[39mshape[\u001b[39m0\u001b[39m]\u001b[39m}\u001b[39;00m\u001b[39m)\u001b[39m\u001b[39m'\u001b[39m)\n\u001b[0;32m    295\u001b[0m \u001b[39mif\u001b[39;00m index_column \u001b[39m<\u001b[39m \u001b[39m0\u001b[39m \u001b[39mor\u001b[39;00m index_column \u001b[39m>\u001b[39m\u001b[39m=\u001b[39m \u001b[39mself\u001b[39m\u001b[39m.\u001b[39mshape[\u001b[39m1\u001b[39m]:\n\u001b[1;32m--> 296\u001b[0m     \u001b[39mraise\u001b[39;00m \u001b[39mIndexError\u001b[39;00m(\u001b[39mf\u001b[39m\u001b[39m'\u001b[39m\u001b[39mColumn index is out of range (\u001b[39m\u001b[39m{\u001b[39;00m\u001b[39mself\u001b[39m\u001b[39m.\u001b[39mshape[\u001b[39m1\u001b[39m]\u001b[39m}\u001b[39;00m\u001b[39m)\u001b[39m\u001b[39m'\u001b[39m)\n\u001b[0;32m    297\u001b[0m \u001b[39mself\u001b[39m\u001b[39m.\u001b[39m_active_index \u001b[39m=\u001b[39m \u001b[39mself\u001b[39m\u001b[39m.\u001b[39mloc_to_index((index_row, index_column))\n",
            "\u001b[1;31mIndexError\u001b[0m: Column index is out of range (1)"
          ]
        }
      ],
      "source": [
        "# grab all of the significant electrodes, and put them into one list, and then run plot_on_average\n",
        "\n",
        "HOME = os.path.expanduser(\"~\")\n",
        "\n",
        "# get box directory depending on OS\n",
        "if os.name == 'nt': # windows\n",
        "    LAB_root = os.path.join(HOME, \"Box\", \"CoganLab\")\n",
        "else: # mac\n",
        "    LAB_root = os.path.join(HOME, \"Library\", \"CloudStorage\", \"Box-Box\", \"CoganLab\")\n",
        "\n",
        "layout = get_data(\"GlobalLocal\", root=LAB_root)\n",
        "\n",
        "\n",
        "print(layout.derivatives)\n",
        "print(layout.derivatives.keys())\n",
        "\n",
        "\n",
        "base_path = os.path.join(LAB_root, \"BIDS-1.1_GlobalLocal\", \"BIDS\", \"derivatives\", \"freqFilt\", \"figs\")\n",
        "\n",
        "subjects = layout.get(return_type=\"id\", target=\"subject\")\n",
        "subjects_without_zeroes = [\"D\" + subj[1:].lstrip('0') for subj in subjects]\n",
        "\n",
        "allSigElectrodes = {}  # Initialize as an empty dictionary\n",
        "allElectrodes = {}\n",
        "\n",
        "for subj in subjects:\n",
        "    if subj == \"D0077\":\n",
        "        continue\n",
        "    \n",
        "    resp_filename = f'{base_path}\\\\{subj}\\\\sig_chans_{subj}_Response.json'\n",
        "    stim_filename = f'{base_path}\\\\{subj}\\\\sig_chans_{subj}_Stimulus.json'\n",
        "\n",
        "    resp_sig_chans = load_sig_chans(resp_filename)\n",
        "    stim_sig_chans = load_sig_chans(stim_filename)\n",
        "\n",
        "    # Combine the significant electrodes for this subject\n",
        "    combined_chans = resp_sig_chans + stim_sig_chans\n",
        "\n",
        "    # Add them to the dictionary, tagged with the subject without zeroes\n",
        "\n",
        "    subj_without_zeroes = \"D\" + subj[1:].lstrip('0')\n",
        "    allSigElectrodes[subj_without_zeroes] = combined_chans\n",
        "\n",
        "    # Get all electrodes for this subject and add them to the allElectrodes dict\n",
        "    info = subject_to_info(subj_without_zeroes)\n",
        "    allSubjElectrodes = mne.pick_channels(info.ch_names, [])\n",
        "    allElectrodes[subj_without_zeroes] = allSubjElectrodes\n",
        "\n",
        "\n",
        "plot_on_average(allSigElectrodes, hemi='both', color=(1,1,0))\n",
        "plot_on_average(allElectrodes, hemi='both', color=(1,1,0))"
      ]
    },
    {
      "cell_type": "markdown",
      "metadata": {},
      "source": [
        "### plot each subject one by one on the fsaverage brain"
      ]
    },
    {
      "cell_type": "code",
      "execution_count": 3,
      "metadata": {},
      "outputs": [
        {
          "name": "stdout",
          "output_type": "stream",
          "text": [
            "{'derivatives/clean': BIDS Layout: ...alLocal\\BIDS\\derivatives\\clean | Subjects: 6 | Sessions: 0 | Runs: 24}\n",
            "KeysView({'derivatives/clean': BIDS Layout: ...alLocal\\BIDS\\derivatives\\clean | Subjects: 6 | Sessions: 0 | Runs: 24})\n",
            "Loaded significant channels for subject D0071\n",
            "Loaded significant channels for subject D0071\n"
          ]
        },
        {
          "name": "stderr",
          "output_type": "stream",
          "text": [
            "c:\\Users\\jz421\\Desktop\\GlobalLocal\\ieeg\\viz\\mri.py:580: RuntimeWarning: Fiducial point lpa not found, assuming identity RAS (non-zero origin) to head transformation\n",
            "  info.set_montage(montage)\n",
            "c:\\Users\\jz421\\Desktop\\GlobalLocal\\ieeg\\viz\\mri.py:580: RuntimeWarning: Fiducial point lpa not found, assuming identity RAS (non-zero origin) to head transformation\n",
            "  info.set_montage(montage)\n"
          ]
        },
        {
          "name": "stdout",
          "output_type": "stream",
          "text": [
            "fig: <mne.viz._brain._brain.Brain object at 0x0000012F0545D4D0>\n",
            "info: <Info | 8 non-empty values\n",
            " bads: []\n",
            " ch_names: RFO16, RFO14, RFO13, RFO12, RFO4, RFO3, RFO2, RIA16, RIA15, ...\n",
            " chs: 127 sEEG\n",
            " custom_ref_applied: False\n",
            " dig: 165 items (3 Cardinal, 162 EEG)\n",
            " highpass: 0.0 Hz\n",
            " lowpass: 1000.0 Hz\n",
            " meas_date: unspecified\n",
            " nchan: 127\n",
            " projs: []\n",
            " sfreq: 2000.0 Hz\n",
            ">\n",
            "sub: D71\n",
            "pos: OrderedDict([('RFO16', array([ 0.06118873,  0.0406194 , -0.00212834])), ('RFO14', array([ 0.05369581,  0.03893661, -0.00509436])), ('RFO13', array([ 0.05002104,  0.03836162, -0.00650167])), ('RFO12', array([ 0.04634628,  0.03778664, -0.00790898])), ('RFO4', array([ 0.01623097,  0.0305224 , -0.0199245 ])), ('RFO3', array([ 0.01248445,  0.02968095, -0.02140752])), ('RFO2', array([ 0.00873805,  0.0288396 , -0.02289051])), ('RIA16', array([0.02596348, 0.03897971, 0.05320638])), ('RIA15', array([0.02672262, 0.03660197, 0.04913819])), ('RIA14', array([0.02748176, 0.03422424, 0.04507001])), ('RIA13', array([0.02810575, 0.03192405, 0.0409939 ])), ('RIA12', array([0.02872986, 0.02962397, 0.03691781])), ('RIA11', array([0.02957381, 0.02731882, 0.0327714 ])), ('RIA10', array([0.03041764, 0.02501356, 0.02862496])), ('RIA9', array([0.03126159, 0.02270841, 0.02447855])), ('RIA8', array([0.03210553, 0.02040314, 0.02033212])), ('RIA7', array([0.03294937, 0.01809801, 0.01618558])), ('RIA6', array([0.03379332, 0.01579275, 0.01203915])), ('RIA5', array([0.03463726, 0.0134876 , 0.00789274])), ('RIA4', array([0.0354811 , 0.01118233, 0.0037463 ])), ('RIA3', array([ 0.03632504,  0.00887718, -0.00040011])), ('RIA2', array([ 0.03712212,  0.00656167, -0.00452374])), ('RIA1', array([ 0.03791909,  0.00424602, -0.00864728])), ('RIP16', array([0.03239656, 0.00394453, 0.06851188])), ('RIP15', array([0.03297041, 0.00291124, 0.06313977])), ('RIP14', array([0.03354415, 0.00187794, 0.05776766])), ('RIP12', array([3.47571427e-02, 1.09349893e-05, 4.70245523e-02])), ('RIP11', array([ 0.03539641, -0.00082276,  0.04165344])), ('RIP10', array([ 0.03603555, -0.00165647,  0.03628244])), ('RIP9', array([ 0.0366747 , -0.00249029,  0.03091143])), ('RIP8', array([ 0.03731384, -0.00332401,  0.02554044])), ('RIP7', array([ 0.0379531 , -0.0041577 ,  0.02016932])), ('RIP6', array([ 0.03859225, -0.00499141,  0.01479833])), ('RIP5', array([ 0.03923951, -0.00576946,  0.00949973])), ('RIP4', array([ 0.03988677, -0.00654751,  0.00420113])), ('RIP3', array([ 0.04038289, -0.00726439, -0.00114687])), ('RIP2', array([ 0.04099723, -0.00812658, -0.0065052 ])), ('RIP1', array([ 0.04161157, -0.00898888, -0.01186355])), ('RO16', array([ 0.06697171, -0.06206534,  0.00838672])), ('RO15', array([ 0.06305791, -0.06265256,  0.00739187])), ('RO14', array([ 0.05898124, -0.06313527,  0.00662323])), ('RO13', array([ 0.05490456, -0.06361798,  0.00585458])), ('RO12', array([ 0.05095772, -0.06422077,  0.00479664])), ('RO11', array([ 0.047011  , -0.06482344,  0.00373871])), ('RO10', array([ 0.04306416, -0.06542622,  0.00268076])), ('RO9', array([ 0.03911744, -0.06602891,  0.00162296])), ('RO8', array([ 0.0351706 , -0.0666317 ,  0.00056501])), ('RO7', array([ 0.03122388, -0.06723437, -0.00049291])), ('RO6', array([ 0.02727704, -0.06783715, -0.00155086])), ('RO5', array([ 0.02364139, -0.06847438, -0.00255136])), ('RO4', array([ 0.02000573, -0.0691116 , -0.00355187])), ('RO3', array([ 0.01609194, -0.06969882, -0.00454672])), ('RO2', array([ 0.01217803, -0.07028601, -0.00554169])), ('RO1', array([ 0.00826424, -0.07087311, -0.00653651])), ('RTPS10', array([ 0.07666999, -0.03654556,  0.01400466])), ('RTPS9', array([ 0.0737763 , -0.03599296,  0.01313106])), ('RTPS8', array([ 0.07088261, -0.03544036,  0.01225745])), ('RTPS7', array([ 0.06798892, -0.03488776,  0.01138385])), ('RTPS6', array([ 0.06451983, -0.03414961,  0.01022426])), ('RTPS5', array([ 0.06181798, -0.0336589 ,  0.00944593])), ('RTPS4', array([ 0.059116  , -0.03316808,  0.00866775])), ('RTPS3', array([ 0.05641415, -0.03267737,  0.00788943])), ('RTPS2', array([ 0.05352046, -0.03212477,  0.00701582])), ('RTPS1', array([ 0.05062677, -0.03157217,  0.00614222])), ('RTPI16', array([ 0.07935309, -0.03062554, -0.01211168])), ('RTPI15', array([ 0.07533144, -0.03122538, -0.01211828])), ('RTPI14', array([ 0.07130978, -0.03182522, -0.01212488])), ('RTPI13', array([ 0.06728813, -0.03242506, -0.01213149])), ('RTPI11', array([ 0.05931779, -0.0336245 , -0.01214371])), ('RTPI9', array([ 0.05113809, -0.0344965 , -0.01241078])), ('RTPI8', array([ 0.04690707, -0.03476892, -0.01267222])), ('RTPI7', array([ 0.04310074, -0.03539148, -0.01252368])), ('RTPI6', array([ 0.0392944 , -0.03601404, -0.01237513])), ('RTPI1', array([ 0.01902827, -0.03962318, -0.01221072])), ('RTPM16', array([ 0.08121293, -0.0231046 , -0.00828233])), ('RTPM15', array([ 0.07722525, -0.02364174, -0.00869459])), ('RTPM14', array([ 0.07323745, -0.0241789 , -0.00910673])), ('RTPM11', array([ 0.06157208, -0.02628139, -0.01090104])), ('RTPM10', array([ 0.05748822, -0.02681106, -0.01136526])), ('RTPM9', array([ 0.05340437, -0.02734072, -0.01182948])), ('RTPM8', array([ 0.04932051, -0.02787039, -0.0122937 ])), ('RTPM7', array([ 0.04523665, -0.02840005, -0.01275792])), ('RTMS12', array([ 0.09618281, -0.01444274, -0.0069969 ])), ('RTMS11', array([ 0.09199836, -0.01455116, -0.0070705 ])), ('RTMS10', array([ 0.08781402, -0.01465958, -0.0071441 ])), ('RTMS9', array([ 0.08362956, -0.014768  , -0.00721769])), ('RTMS8', array([ 0.07944522, -0.01487643, -0.00729129])), ('RTMS7', array([ 0.07526076, -0.01498485, -0.00736489])), ('RTMS6', array([ 0.07107642, -0.01509327, -0.00743848])), ('RTMS5', array([ 0.06689196, -0.0152017 , -0.00751208])), ('RTMS4', array([ 0.06280567, -0.01521585, -0.00756683])), ('RTMS3', array([ 0.05852316, -0.01541854, -0.00765927])), ('RTMS2', array([ 0.05433871, -0.01552696, -0.00773287])), ('RTMS1', array([ 0.05015436, -0.01563539, -0.00780646])), ('RTAS12', array([ 0.08722532,  0.00882899, -0.00239159])), ('RTAS11', array([ 0.08344011,  0.00765365, -0.00353642])), ('RTAS10', array([ 0.07965489,  0.0064783 , -0.00468126])), ('RTAS9', array([ 0.07586967,  0.00530296, -0.00582609])), ('RTAS6', array([ 0.06451402,  0.00177693, -0.00926059])), ('RTAS5', array([ 0.0607288 ,  0.00060158, -0.01040542])), ('RTAS4', array([ 0.05723657, -0.00054743, -0.01158295])), ('RTAS3', array([ 0.05315836, -0.00174911, -0.01269509])), ('RTAS2', array([ 0.04937315, -0.00292445, -0.01383992])), ('RTAS1', array([ 0.04558793, -0.00409979, -0.01498475])), ('RTMM14', array([ 0.06725885, -0.00697367, -0.01971433])), ('RTMM13', array([ 0.06316893, -0.00752525, -0.01991117])), ('RTMM12', array([ 0.05907789, -0.00810187, -0.02007096])), ('RTMM11', array([ 0.05498686, -0.00867849, -0.02023075])), ('RTMM10', array([ 0.05101895, -0.00914211, -0.02061851])), ('RTMM9', array([ 0.04705104, -0.00960584, -0.02100629])), ('RTMM8', array([ 0.04308313, -0.01006946, -0.02139405])), ('RTMM1', array([ 0.01408988, -0.0141442 , -0.02227318])), ('RTAM16', array([ 0.07793   ,  0.00431036, -0.01679781])), ('RTAM15', array([ 0.07393542,  0.00389494, -0.01746325])), ('RTAM14', array([ 0.06994073,  0.00347943, -0.01812884])), ('RTAM13', array([ 0.06594604,  0.00306392, -0.01879442])), ('RTAM12', array([ 0.06195135,  0.0026484 , -0.01946001])), ('RTAM11', array([ 0.05795677,  0.00223298, -0.02012545])), ('RTAM10', array([ 0.05396208,  0.00181747, -0.02079103])), ('RTAM8', array([ 0.04603838,  0.00104027, -0.02203964])), ('RTAM7', array([ 0.04207653,  0.00065168, -0.02266394])), ('RTAM6', array([ 0.03811468,  0.00026308, -0.02328825])), ('RTAM5', array([ 0.03415283, -0.00012552, -0.02391255])), ('RTAM4', array([ 0.03007616, -0.00060823, -0.0246812 ])), ('RTAM3', array([ 0.02599948, -0.00109094, -0.02544984])), ('RTAM2', array([ 0.02200479, -0.00150646, -0.02611543])), ('RTAM1', array([ 0.01801021, -0.00192188, -0.02678087]))])\n",
            "labels_every: 1\n",
            "hemi: split\n",
            "fig attributes: ['__class__', '__delattr__', '__dict__', '__dir__', '__doc__', '__eq__', '__format__', '__ge__', '__getattribute__', '__getstate__', '__gt__', '__hash__', '__init__', '__init_subclass__', '__le__', '__lt__', '__module__', '__ne__', '__new__', '__reduce__', '__reduce_ex__', '__repr__', '__setattr__', '__sizeof__', '__str__', '__subclasshook__', '__weakref__', '_actors', '_add_actor', '_add_label_glyph', '_add_vertex_glyph', '_add_volume_data', '_advance', '_alpha', '_annotation_labels', '_annots', '_bg_color', '_block', '_brain_color', '_check_hemi', '_check_hemis', '_check_stc', '_clean', '_cleaned', '_clear_callbacks', '_clear_widgets', '_closed', '_cmap_range', '_configure_dock', '_configure_dock_colormap_widget', '_configure_dock_orientation_widget', '_configure_dock_playback_widget', '_configure_dock_time_widget', '_configure_dock_trace_widget', '_configure_help', '_configure_label_time_course', '_configure_menu', '_configure_mplcanvas', '_configure_picking', '_configure_playback', '_configure_scalar_bar', '_configure_shortcuts', '_configure_status_bar', '_configure_time_label', '_configure_tool_bar', '_configure_vertex_time_course', '_cortex_colormap', '_data', '_elevation_rng', '_fg_color', '_hash', '_hemi', '_hemis', '_interaction', '_iter_time', '_iter_views', '_labels', '_layered_meshes', '_lut_locked', '_make_movie_frames', '_n_times', '_no_lut_update', '_on_button_press', '_on_button_release', '_on_mouse_move', '_on_pick', '_play', '_remove', '_remove_label_glyph', '_remove_vertex_glyph', '_renderer', '_rigid', '_rotate_azimuth', '_rotate_elevation', '_save_movie', '_save_movie_tv', '_scalar_bar', '_setup_canonical_rotation', '_shift_time', '_silhouette', '_subject', '_subjects_dir', '_subplot_shape', '_surf', '_time_interp_funcs', '_time_interp_inv', '_time_interpolation', '_time_label_added', '_times', '_title', '_to_borders', '_to_time_index', '_units', '_unnamed_label_id', '_update_auto_scaling', '_update_fscale', '_update_glyphs', '_vertex_to_label_id', '_view_layout', '_views', 'add_annotation', 'add_data', 'add_dipole', 'add_foci', 'add_forward', 'add_head', 'add_label', 'add_sensors', 'add_skull', 'add_text', 'add_volume_labels', 'apply_auto_scaling', 'clear_glyphs', 'close', 'data', 'geo', 'get_picked_points', 'get_view', 'help', 'hemis', 'interaction', 'labels', 'plot_time_course', 'plot_time_line', 'plotter', 'remove_annotations', 'remove_data', 'remove_dipole', 'remove_forward', 'remove_head', 'remove_labels', 'remove_sensors', 'remove_skull', 'remove_text', 'remove_volume_labels', 'reset', 'reset_view', 'restore_user_scaling', 'save_image', 'save_movie', 'screenshot', 'set_data_smoothing', 'set_playback_speed', 'set_time', 'set_time_interpolation', 'set_time_point', 'setup_time_viewer', 'show', 'show_view', 'silhouette', 'time_interpolation', 'time_viewer', 'toggle_interface', 'toggle_playback', 'update_lut', 'views']\n",
            "fig shape: Attribute not found\n",
            "picks shape: 127, picks: ['RFO16', 'RFO14', 'RFO13', 'RFO12', 'RFO4', 'RFO3', 'RFO2', 'RIA16', 'RIA15', 'RIA14', 'RIA13', 'RIA12', 'RIA11', 'RIA10', 'RIA9', 'RIA8', 'RIA7', 'RIA6', 'RIA5', 'RIA4', 'RIA3', 'RIA2', 'RIA1', 'RIP16', 'RIP15', 'RIP14', 'RIP12', 'RIP11', 'RIP10', 'RIP9', 'RIP8', 'RIP7', 'RIP6', 'RIP5', 'RIP4', 'RIP3', 'RIP2', 'RIP1', 'RO16', 'RO15', 'RO14', 'RO13', 'RO12', 'RO11', 'RO10', 'RO9', 'RO8', 'RO7', 'RO6', 'RO5', 'RO4', 'RO3', 'RO2', 'RO1', 'RTPS10', 'RTPS9', 'RTPS8', 'RTPS7', 'RTPS6', 'RTPS5', 'RTPS4', 'RTPS3', 'RTPS2', 'RTPS1', 'RTPI16', 'RTPI15', 'RTPI14', 'RTPI13', 'RTPI11', 'RTPI9', 'RTPI8', 'RTPI7', 'RTPI6', 'RTPI1', 'RTPM16', 'RTPM15', 'RTPM14', 'RTPM11', 'RTPM10', 'RTPM9', 'RTPM8', 'RTPM7', 'RTMS12', 'RTMS11', 'RTMS10', 'RTMS9', 'RTMS8', 'RTMS7', 'RTMS6', 'RTMS5', 'RTMS4', 'RTMS3', 'RTMS2', 'RTMS1', 'RTAS12', 'RTAS11', 'RTAS10', 'RTAS9', 'RTAS6', 'RTAS5', 'RTAS4', 'RTAS3', 'RTAS2', 'RTAS1', 'RTMM14', 'RTMM13', 'RTMM12', 'RTMM11', 'RTMM10', 'RTMM9', 'RTMM8', 'RTMM1', 'RTAM16', 'RTAM15', 'RTAM14', 'RTAM13', 'RTAM12', 'RTAM11', 'RTAM10', 'RTAM8', 'RTAM7', 'RTAM6', 'RTAM5', 'RTAM4', 'RTAM3', 'RTAM2', 'RTAM1']\n",
            "names shape: 127, names: ['RFO16', 'RFO14', 'RFO13', 'RFO12', 'RFO4', 'RFO3', 'RFO2', 'RIA16', 'RIA15', 'RIA14', 'RIA13', 'RIA12', 'RIA11', 'RIA10', 'RIA9', 'RIA8', 'RIA7', 'RIA6', 'RIA5', 'RIA4', 'RIA3', 'RIA2', 'RIA1', 'RIP16', 'RIP15', 'RIP14', 'RIP12', 'RIP11', 'RIP10', 'RIP9', 'RIP8', 'RIP7', 'RIP6', 'RIP5', 'RIP4', 'RIP3', 'RIP2', 'RIP1', 'RO16', 'RO15', 'RO14', 'RO13', 'RO12', 'RO11', 'RO10', 'RO9', 'RO8', 'RO7', 'RO6', 'RO5', 'RO4', 'RO3', 'RO2', 'RO1', 'RTPS10', 'RTPS9', 'RTPS8', 'RTPS7', 'RTPS6', 'RTPS5', 'RTPS4', 'RTPS3', 'RTPS2', 'RTPS1', 'RTPI16', 'RTPI15', 'RTPI14', 'RTPI13', 'RTPI11', 'RTPI9', 'RTPI8', 'RTPI7', 'RTPI6', 'RTPI1', 'RTPM16', 'RTPM15', 'RTPM14', 'RTPM11', 'RTPM10', 'RTPM9', 'RTPM8', 'RTPM7', 'RTMS12', 'RTMS11', 'RTMS10', 'RTMS9', 'RTMS8', 'RTMS7', 'RTMS6', 'RTMS5', 'RTMS4', 'RTMS3', 'RTMS2', 'RTMS1', 'RTAS12', 'RTAS11', 'RTAS10', 'RTAS9', 'RTAS6', 'RTAS5', 'RTAS4', 'RTAS3', 'RTAS2', 'RTAS1', 'RTMM14', 'RTMM13', 'RTMM12', 'RTMM11', 'RTMM10', 'RTMM9', 'RTMM8', 'RTMM1', 'RTAM16', 'RTAM15', 'RTAM14', 'RTAM13', 'RTAM12', 'RTAM11', 'RTAM10', 'RTAM8', 'RTAM7', 'RTAM6', 'RTAM5', 'RTAM4', 'RTAM3', 'RTAM2', 'RTAM1']\n"
          ]
        },
        {
          "ename": "IndexError",
          "evalue": "Column index is out of range (1)",
          "output_type": "error",
          "traceback": [
            "\u001b[1;31m---------------------------------------------------------------------------\u001b[0m",
            "\u001b[1;31mIndexError\u001b[0m                                Traceback (most recent call last)",
            "Cell \u001b[1;32mIn[3], line 47\u001b[0m\n\u001b[0;32m     43\u001b[0m allSubjElectrodes \u001b[39m=\u001b[39m mne\u001b[39m.\u001b[39mpick_channels(info\u001b[39m.\u001b[39mch_names, [])\n\u001b[0;32m     44\u001b[0m allElectrodes[subj_without_zeroes] \u001b[39m=\u001b[39m allSubjElectrodes\n\u001b[1;32m---> 47\u001b[0m plot_on_average(allSigElectrodes, hemi\u001b[39m=\u001b[39;49m\u001b[39m'\u001b[39;49m\u001b[39mboth\u001b[39;49m\u001b[39m'\u001b[39;49m, color\u001b[39m=\u001b[39;49m(\u001b[39m1\u001b[39;49m,\u001b[39m1\u001b[39;49m,\u001b[39m0\u001b[39;49m))\n\u001b[0;32m     48\u001b[0m plot_on_average(allElectrodes, hemi\u001b[39m=\u001b[39m\u001b[39m'\u001b[39m\u001b[39mboth\u001b[39m\u001b[39m'\u001b[39m, color\u001b[39m=\u001b[39m(\u001b[39m1\u001b[39m,\u001b[39m1\u001b[39m,\u001b[39m0\u001b[39m))\n",
            "File \u001b[1;32mc:\\Users\\jz421\\Desktop\\GlobalLocal\\ieeg\\viz\\mri.py:306\u001b[0m, in \u001b[0;36mplot_on_average\u001b[1;34m(sigs, subj_dir, rm_wm, picks, surface, hemi, color, size, fig)\u001b[0m\n\u001b[0;32m    302\u001b[0m         to_fsaverage \u001b[39m=\u001b[39m mne\u001b[39m.\u001b[39mread_talxfm(subj, subj_dir)\n\u001b[0;32m    303\u001b[0m         to_fsaverage \u001b[39m=\u001b[39m mne\u001b[39m.\u001b[39mtransforms\u001b[39m.\u001b[39mTransform(fro\u001b[39m=\u001b[39m\u001b[39m'\u001b[39m\u001b[39mhead\u001b[39m\u001b[39m'\u001b[39m, to\u001b[39m=\u001b[39m\u001b[39m'\u001b[39m\u001b[39mmri\u001b[39m\u001b[39m'\u001b[39m,\n\u001b[0;32m    304\u001b[0m                                             trans\u001b[39m=\u001b[39mto_fsaverage[\u001b[39m'\u001b[39m\u001b[39mtrans\u001b[39m\u001b[39m'\u001b[39m])\n\u001b[1;32m--> 306\u001b[0m         plot_subj(subj, subj_dir, picks\u001b[39m=\u001b[39;49melectrodes, no_wm\u001b[39m=\u001b[39;49m\u001b[39mFalse\u001b[39;49;00m, fig\u001b[39m=\u001b[39;49mfig,\n\u001b[0;32m    307\u001b[0m               trans\u001b[39m=\u001b[39;49mto_fsaverage, color\u001b[39m=\u001b[39;49mcolor, size\u001b[39m=\u001b[39;49msize,\n\u001b[0;32m    308\u001b[0m               labels_every\u001b[39m=\u001b[39;49m\u001b[39m1\u001b[39;49m)\n\u001b[0;32m    310\u001b[0m     \u001b[39mreturn\u001b[39;00m fig  \u001b[39m# Return the figure after plotting all electrodes in the dictionary\u001b[39;00m\n\u001b[0;32m    312\u001b[0m \u001b[39melif\u001b[39;00m \u001b[39misinstance\u001b[39m(sigs, \u001b[39mlist\u001b[39m):\n",
            "File \u001b[1;32mc:\\Users\\jz421\\Desktop\\GlobalLocal\\ieeg\\viz\\mri.py:519\u001b[0m, in \u001b[0;36mplot_subj\u001b[1;34m(inst, subj_dir, picks, no_wm, labels_every, surface, hemi, fig, trans, color, size, title)\u001b[0m\n\u001b[0;32m    516\u001b[0m \u001b[39mif\u001b[39;00m labels_every \u001b[39mis\u001b[39;00m \u001b[39mnot\u001b[39;00m \u001b[39mNone\u001b[39;00m:\n\u001b[0;32m    517\u001b[0m     settings \u001b[39m=\u001b[39m \u001b[39mdict\u001b[39m(shape\u001b[39m=\u001b[39m\u001b[39mNone\u001b[39;00m, always_visible\u001b[39m=\u001b[39m\u001b[39mTrue\u001b[39;00m, text_color\u001b[39m=\u001b[39m(\u001b[39m0\u001b[39m, \u001b[39m0\u001b[39m, \u001b[39m0\u001b[39m),\n\u001b[0;32m    518\u001b[0m                     bold\u001b[39m=\u001b[39m\u001b[39mFalse\u001b[39;00m)\n\u001b[1;32m--> 519\u001b[0m     _add_labels(fig, info, sub, pos, labels_every, hemi,\n\u001b[0;32m    520\u001b[0m                 (left, right), \u001b[39m*\u001b[39;49m\u001b[39m*\u001b[39;49msettings)\n\u001b[0;32m    521\u001b[0m \u001b[39mreturn\u001b[39;00m fig\n",
            "File \u001b[1;32mc:\\Users\\jz421\\Desktop\\GlobalLocal\\ieeg\\viz\\mri.py:539\u001b[0m, in \u001b[0;36m_add_labels\u001b[1;34m(fig, info, sub, pos, every, hemi, lr, **kwargs)\u001b[0m\n\u001b[0;32m    536\u001b[0m         pos \u001b[39m=\u001b[39m positions[\u001b[39mslice\u001b[39m(every \u001b[39m-\u001b[39m \u001b[39m1\u001b[39m, info[\u001b[39m'\u001b[39m\u001b[39mnchan\u001b[39m\u001b[39m'\u001b[39m], every)]\n\u001b[0;32m    537\u001b[0m         plt_names \u001b[39m=\u001b[39m [\u001b[39mf\u001b[39m\u001b[39m'\u001b[39m\u001b[39m{\u001b[39;00msub\u001b[39m}\u001b[39;00m\u001b[39m-\u001b[39m\u001b[39m{\u001b[39;00mn\u001b[39m}\u001b[39;00m\u001b[39m'\u001b[39m \u001b[39mfor\u001b[39;00m n \u001b[39min\u001b[39;00m names \u001b[39mif\u001b[39;00m\n\u001b[0;32m    538\u001b[0m                      n\u001b[39m.\u001b[39mstartswith([\u001b[39m'\u001b[39m\u001b[39mL\u001b[39m\u001b[39m'\u001b[39m, \u001b[39m'\u001b[39m\u001b[39mR\u001b[39m\u001b[39m'\u001b[39m][hems])]\n\u001b[1;32m--> 539\u001b[0m         fig\u001b[39m.\u001b[39;49mplotter\u001b[39m.\u001b[39;49msubplot(\u001b[39m0\u001b[39;49m, hems)\n\u001b[0;32m    540\u001b[0m         fig\u001b[39m.\u001b[39mplotter\u001b[39m.\u001b[39madd_point_labels(pos, plt_names, \u001b[39m*\u001b[39m\u001b[39m*\u001b[39mkwargs)\n\u001b[0;32m    541\u001b[0m \u001b[39melse\u001b[39;00m:\n",
            "File \u001b[1;32mc:\\Users\\jz421\\AppData\\Local\\anaconda3\\envs\\ieeg\\Lib\\site-packages\\pyvista\\plotting\\plotting.py:931\u001b[0m, in \u001b[0;36mBasePlotter.subplot\u001b[1;34m(self, index_row, index_column)\u001b[0m\n\u001b[0;32m    905\u001b[0m \u001b[39mdef\u001b[39;00m \u001b[39msubplot\u001b[39m(\u001b[39mself\u001b[39m, index_row, index_column\u001b[39m=\u001b[39m\u001b[39mNone\u001b[39;00m):\n\u001b[0;32m    906\u001b[0m \u001b[39m    \u001b[39m\u001b[39m\"\"\"Set the active subplot.\u001b[39;00m\n\u001b[0;32m    907\u001b[0m \n\u001b[0;32m    908\u001b[0m \u001b[39m    Parameters\u001b[39;00m\n\u001b[1;32m   (...)\u001b[0m\n\u001b[0;32m    929\u001b[0m \n\u001b[0;32m    930\u001b[0m \u001b[39m    \"\"\"\u001b[39;00m\n\u001b[1;32m--> 931\u001b[0m     \u001b[39mself\u001b[39;49m\u001b[39m.\u001b[39;49mrenderers\u001b[39m.\u001b[39;49mset_active_renderer(index_row, index_column)\n",
            "File \u001b[1;32mc:\\Users\\jz421\\AppData\\Local\\anaconda3\\envs\\ieeg\\Lib\\site-packages\\pyvista\\plotting\\renderers.py:296\u001b[0m, in \u001b[0;36mRenderers.set_active_renderer\u001b[1;34m(self, index_row, index_column)\u001b[0m\n\u001b[0;32m    294\u001b[0m     \u001b[39mraise\u001b[39;00m \u001b[39mIndexError\u001b[39;00m(\u001b[39mf\u001b[39m\u001b[39m'\u001b[39m\u001b[39mRow index is out of range (\u001b[39m\u001b[39m{\u001b[39;00m\u001b[39mself\u001b[39m\u001b[39m.\u001b[39mshape[\u001b[39m0\u001b[39m]\u001b[39m}\u001b[39;00m\u001b[39m)\u001b[39m\u001b[39m'\u001b[39m)\n\u001b[0;32m    295\u001b[0m \u001b[39mif\u001b[39;00m index_column \u001b[39m<\u001b[39m \u001b[39m0\u001b[39m \u001b[39mor\u001b[39;00m index_column \u001b[39m>\u001b[39m\u001b[39m=\u001b[39m \u001b[39mself\u001b[39m\u001b[39m.\u001b[39mshape[\u001b[39m1\u001b[39m]:\n\u001b[1;32m--> 296\u001b[0m     \u001b[39mraise\u001b[39;00m \u001b[39mIndexError\u001b[39;00m(\u001b[39mf\u001b[39m\u001b[39m'\u001b[39m\u001b[39mColumn index is out of range (\u001b[39m\u001b[39m{\u001b[39;00m\u001b[39mself\u001b[39m\u001b[39m.\u001b[39mshape[\u001b[39m1\u001b[39m]\u001b[39m}\u001b[39;00m\u001b[39m)\u001b[39m\u001b[39m'\u001b[39m)\n\u001b[0;32m    297\u001b[0m \u001b[39mself\u001b[39m\u001b[39m.\u001b[39m_active_index \u001b[39m=\u001b[39m \u001b[39mself\u001b[39m\u001b[39m.\u001b[39mloc_to_index((index_row, index_column))\n",
            "\u001b[1;31mIndexError\u001b[0m: Column index is out of range (1)"
          ]
        }
      ],
      "source": [
        "# grab all of the significant electrodes, and put them into one list, and then run plot_on_average\n",
        "\n",
        "HOME = os.path.expanduser(\"~\")\n",
        "\n",
        "# get box directory depending on OS\n",
        "if os.name == 'nt': # windows\n",
        "    LAB_root = os.path.join(HOME, \"Box\", \"CoganLab\")\n",
        "else: # mac\n",
        "    LAB_root = os.path.join(HOME, \"Library\", \"CloudStorage\", \"Box-Box\", \"CoganLab\")\n",
        "\n",
        "layout = get_data(\"GlobalLocal\", root=LAB_root)\n",
        "\n",
        "\n",
        "print(layout.derivatives)\n",
        "print(layout.derivatives.keys())\n",
        "\n",
        "\n",
        "base_path = os.path.join(LAB_root, \"BIDS-1.1_GlobalLocal\", \"BIDS\", \"derivatives\", \"freqFilt\", \"figs\")\n",
        "\n",
        "subjects = layout.get(return_type=\"id\", target=\"subject\")\n",
        "subjects_without_zeroes = [\"D\" + subj[1:].lstrip('0') for subj in subjects]\n",
        "allSigElectrodes = {}  # Initialize as an empty dictionary\n",
        "allElectrodes = {}\n",
        "\n",
        "subj = 'D0071'\n",
        "    \n",
        "resp_filename = f'{base_path}\\\\{subj}\\\\sig_chans_{subj}_Response.json'\n",
        "stim_filename = f'{base_path}\\\\{subj}\\\\sig_chans_{subj}_Stimulus.json'\n",
        "\n",
        "resp_sig_chans = load_sig_chans(resp_filename)\n",
        "stim_sig_chans = load_sig_chans(stim_filename)\n",
        "\n",
        "# Combine the significant electrodes for this subject\n",
        "combined_chans = resp_sig_chans + stim_sig_chans\n",
        "\n",
        "# Add them to the dictionary, tagged with the subject without zeroes\n",
        "\n",
        "subj_without_zeroes = \"D\" + subj[1:].lstrip('0')\n",
        "allSigElectrodes[subj_without_zeroes] = combined_chans\n",
        "\n",
        "# Get all electrodes for this subject and add them to the allElectrodes dict\n",
        "info = subject_to_info(subj_without_zeroes)\n",
        "allSubjElectrodes = mne.pick_channels(info.ch_names, [])\n",
        "allElectrodes[subj_without_zeroes] = allSubjElectrodes\n",
        "\n",
        "\n",
        "plot_on_average(allSigElectrodes, hemi='both', color=(1,1,0))\n",
        "plot_on_average(allElectrodes, hemi='both', color=(1,1,0))"
      ]
    }
  ],
  "metadata": {
    "kernelspec": {
      "display_name": "Python 3",
      "language": "python",
      "name": "python3"
    },
    "language_info": {
      "codemirror_mode": {
        "name": "ipython",
        "version": 3
      },
      "file_extension": ".py",
      "mimetype": "text/x-python",
      "name": "python",
      "nbconvert_exporter": "python",
      "pygments_lexer": "ipython3",
      "version": "3.11.3"
    }
  },
  "nbformat": 4,
  "nbformat_minor": 0
}
