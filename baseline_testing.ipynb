{
 "cells": [
  {
   "cell_type": "code",
   "execution_count": 7,
   "metadata": {},
   "outputs": [
    {
     "name": "stdout",
     "output_type": "stream",
     "text": [
      "['c:\\\\Users\\\\jz421\\\\Desktop\\\\GlobalLocal', 'C:\\\\Users\\\\jz421\\\\Desktop\\\\GlobalLocal\\\\IEEG_Pipelines', 'c:\\\\Users\\\\jz421\\\\AppData\\\\Local\\\\anaconda3\\\\envs\\\\ieeg\\\\python311.zip', 'c:\\\\Users\\\\jz421\\\\AppData\\\\Local\\\\anaconda3\\\\envs\\\\ieeg\\\\DLLs', 'c:\\\\Users\\\\jz421\\\\AppData\\\\Local\\\\anaconda3\\\\envs\\\\ieeg\\\\Lib', 'c:\\\\Users\\\\jz421\\\\AppData\\\\Local\\\\anaconda3\\\\envs\\\\ieeg', '', 'C:\\\\Users\\\\jz421\\\\AppData\\\\Roaming\\\\Python\\\\Python311\\\\site-packages', 'C:\\\\Users\\\\jz421\\\\AppData\\\\Roaming\\\\Python\\\\Python311\\\\site-packages\\\\win32', 'C:\\\\Users\\\\jz421\\\\AppData\\\\Roaming\\\\Python\\\\Python311\\\\site-packages\\\\win32\\\\lib', 'C:\\\\Users\\\\jz421\\\\AppData\\\\Roaming\\\\Python\\\\Python311\\\\site-packages\\\\Pythonwin', 'c:\\\\Users\\\\jz421\\\\AppData\\\\Local\\\\anaconda3\\\\envs\\\\ieeg\\\\Lib\\\\site-packages', 'c:\\\\Users\\\\jz421\\\\AppData\\\\Local\\\\anaconda3\\\\envs\\\\ieeg\\\\Lib\\\\site-packages\\\\win32', 'c:\\\\Users\\\\jz421\\\\AppData\\\\Local\\\\anaconda3\\\\envs\\\\ieeg\\\\Lib\\\\site-packages\\\\win32\\\\lib', 'c:\\\\Users\\\\jz421\\\\AppData\\\\Local\\\\anaconda3\\\\envs\\\\ieeg\\\\Lib\\\\site-packages\\\\Pythonwin', 'C:/Users/jz421/Desktop/GlobalLocal/IEEG_Pipelines/', 'C:/Users/jz421/Desktop/GlobalLocal/IEEG_Pipelines/']\n"
     ]
    }
   ],
   "source": [
    "import sys\n",
    "print(sys.path)\n",
    "sys.path.append(\"C:/Users/jz421/Desktop/GlobalLocal/IEEG_Pipelines/\") #need to do this cuz otherwise ieeg isn't added to path...\n",
    "\n",
    "import ieeg.viz.utils\n",
    "from ieeg.navigate import channel_outlier_marker, trial_ieeg, crop_empty_data, outliers_to_nan\n",
    "from ieeg.io import raw_from_layout, get_data\n",
    "from ieeg.timefreq.utils import crop_pad\n",
    "from ieeg.calc import stats, scaling\n",
    "from ieeg.process import parallelize\n",
    "from ieeg.timefreq import gamma\n",
    "from ieeg.calc.scaling import rescale\n",
    "from misc_functions import calculate_RTs\n",
    "\n",
    "\n",
    "import matplotlib.pyplot as plt\n",
    "import matplotlib.ticker as ticker\n",
    "\n",
    "from bids import BIDSLayout\n",
    "import mne\n",
    "import os\n",
    "import numpy as np\n",
    "import copy\n",
    "\n",
    "from misc_functions import calculate_RTs, save_sig_chans, save_channels_to_file\n",
    "import pickle"
   ]
  },
  {
   "cell_type": "markdown",
   "metadata": {},
   "source": [
    "### actually make the baselines so we can compare them later"
   ]
  },
  {
   "cell_type": "code",
   "execution_count": 2,
   "metadata": {},
   "outputs": [
    {
     "name": "stdout",
     "output_type": "stream",
     "text": [
      "['c:\\\\Users\\\\jz421\\\\Desktop\\\\GlobalLocal', 'C:\\\\Users\\\\jz421\\\\Desktop\\\\GlobalLocal\\\\IEEG_Pipelines', 'c:\\\\Users\\\\jz421\\\\AppData\\\\Local\\\\anaconda3\\\\envs\\\\ieeg\\\\python311.zip', 'c:\\\\Users\\\\jz421\\\\AppData\\\\Local\\\\anaconda3\\\\envs\\\\ieeg\\\\DLLs', 'c:\\\\Users\\\\jz421\\\\AppData\\\\Local\\\\anaconda3\\\\envs\\\\ieeg\\\\Lib', 'c:\\\\Users\\\\jz421\\\\AppData\\\\Local\\\\anaconda3\\\\envs\\\\ieeg', '', 'C:\\\\Users\\\\jz421\\\\AppData\\\\Roaming\\\\Python\\\\Python311\\\\site-packages', 'C:\\\\Users\\\\jz421\\\\AppData\\\\Roaming\\\\Python\\\\Python311\\\\site-packages\\\\win32', 'C:\\\\Users\\\\jz421\\\\AppData\\\\Roaming\\\\Python\\\\Python311\\\\site-packages\\\\win32\\\\lib', 'C:\\\\Users\\\\jz421\\\\AppData\\\\Roaming\\\\Python\\\\Python311\\\\site-packages\\\\Pythonwin', 'c:\\\\Users\\\\jz421\\\\AppData\\\\Local\\\\anaconda3\\\\envs\\\\ieeg\\\\Lib\\\\site-packages', 'c:\\\\Users\\\\jz421\\\\AppData\\\\Local\\\\anaconda3\\\\envs\\\\ieeg\\\\Lib\\\\site-packages\\\\win32', 'c:\\\\Users\\\\jz421\\\\AppData\\\\Local\\\\anaconda3\\\\envs\\\\ieeg\\\\Lib\\\\site-packages\\\\win32\\\\lib', 'c:\\\\Users\\\\jz421\\\\AppData\\\\Local\\\\anaconda3\\\\envs\\\\ieeg\\\\Lib\\\\site-packages\\\\Pythonwin', 'C:/Users/jz421/Desktop/GlobalLocal/IEEG_Pipelines/']\n",
      "Extracting EDF parameters from C:\\Users\\jz421\\Box\\CoganLab\\BIDS-1.1_GlobalLocal\\BIDS\\derivatives\\clean\\sub-D0057\\ieeg\\sub-D0057_task-GlobalLocal_acq-01_run-01_desc-clean_ieeg.edf...\n",
      "EDF file detected\n",
      "Setting channel info structure...\n",
      "Creating raw.info structure...\n",
      "Reading events from C:\\Users\\jz421\\Box\\CoganLab\\BIDS-1.1_GlobalLocal\\BIDS\\derivatives\\clean\\sub-D0057\\ieeg\\sub-D0057_task-GlobalLocal_acq-01_run-01_desc-clean_events.tsv.\n",
      "Reading channel info from C:\\Users\\jz421\\Box\\CoganLab\\BIDS-1.1_GlobalLocal\\BIDS\\derivatives\\clean\\sub-D0057\\ieeg\\sub-D0057_task-GlobalLocal_acq-01_run-01_desc-clean_channels.tsv.\n",
      "Reading electrode coords from C:\\Users\\jz421\\Box\\CoganLab\\BIDS-1.1_GlobalLocal\\BIDS\\derivatives\\clean\\sub-D0057\\ieeg\\sub-D0057_acq-01_space-ACPC_electrodes.tsv.\n",
      "Extracting EDF parameters from C:\\Users\\jz421\\Box\\CoganLab\\BIDS-1.1_GlobalLocal\\BIDS\\derivatives\\clean\\sub-D0057\\ieeg\\sub-D0057_task-GlobalLocal_acq-01_run-02_desc-clean_ieeg.edf...\n",
      "EDF file detected\n",
      "Setting channel info structure...\n",
      "Creating raw.info structure...\n"
     ]
    },
    {
     "name": "stderr",
     "output_type": "stream",
     "text": [
      "C:\\Users\\jz421\\Desktop\\GlobalLocal\\IEEG_Pipelines\\ieeg\\io.py:113: RuntimeWarning: The number of channels in the channels.tsv sidecar file (179) does not match the number of channels in the raw data file (178). Will not try to set channel names.\n",
      "  new_raw = read_raw_bids(bids_path=BIDS_path, verbose=verbose)\n",
      "C:\\Users\\jz421\\Desktop\\GlobalLocal\\IEEG_Pipelines\\ieeg\\io.py:113: RuntimeWarning: Cannot set channel type for the following channels, as they are missing in the raw data: Trigger\n",
      "  new_raw = read_raw_bids(bids_path=BIDS_path, verbose=verbose)\n"
     ]
    },
    {
     "name": "stdout",
     "output_type": "stream",
     "text": [
      "Reading events from C:\\Users\\jz421\\Box\\CoganLab\\BIDS-1.1_GlobalLocal\\BIDS\\derivatives\\clean\\sub-D0057\\ieeg\\sub-D0057_task-GlobalLocal_acq-01_run-02_desc-clean_events.tsv.\n",
      "Reading channel info from C:\\Users\\jz421\\Box\\CoganLab\\BIDS-1.1_GlobalLocal\\BIDS\\derivatives\\clean\\sub-D0057\\ieeg\\sub-D0057_task-GlobalLocal_acq-01_run-02_desc-clean_channels.tsv.\n",
      "Reading electrode coords from C:\\Users\\jz421\\Box\\CoganLab\\BIDS-1.1_GlobalLocal\\BIDS\\derivatives\\clean\\sub-D0057\\ieeg\\sub-D0057_acq-01_space-ACPC_electrodes.tsv.\n",
      "Extracting EDF parameters from C:\\Users\\jz421\\Box\\CoganLab\\BIDS-1.1_GlobalLocal\\BIDS\\derivatives\\clean\\sub-D0057\\ieeg\\sub-D0057_task-GlobalLocal_acq-01_run-03_desc-clean_ieeg.edf...\n",
      "EDF file detected\n",
      "Setting channel info structure...\n",
      "Creating raw.info structure...\n"
     ]
    },
    {
     "name": "stderr",
     "output_type": "stream",
     "text": [
      "C:\\Users\\jz421\\Desktop\\GlobalLocal\\IEEG_Pipelines\\ieeg\\io.py:113: RuntimeWarning: Omitted 228 annotation(s) that were outside data range.\n",
      "  new_raw = read_raw_bids(bids_path=BIDS_path, verbose=verbose)\n",
      "C:\\Users\\jz421\\Desktop\\GlobalLocal\\IEEG_Pipelines\\ieeg\\io.py:113: RuntimeWarning: The number of channels in the channels.tsv sidecar file (179) does not match the number of channels in the raw data file (178). Will not try to set channel names.\n",
      "  new_raw = read_raw_bids(bids_path=BIDS_path, verbose=verbose)\n",
      "C:\\Users\\jz421\\Desktop\\GlobalLocal\\IEEG_Pipelines\\ieeg\\io.py:113: RuntimeWarning: Cannot set channel type for the following channels, as they are missing in the raw data: Trigger\n",
      "  new_raw = read_raw_bids(bids_path=BIDS_path, verbose=verbose)\n"
     ]
    },
    {
     "name": "stdout",
     "output_type": "stream",
     "text": [
      "Reading events from C:\\Users\\jz421\\Box\\CoganLab\\BIDS-1.1_GlobalLocal\\BIDS\\derivatives\\clean\\sub-D0057\\ieeg\\sub-D0057_task-GlobalLocal_acq-01_run-03_desc-clean_events.tsv.\n",
      "Reading channel info from C:\\Users\\jz421\\Box\\CoganLab\\BIDS-1.1_GlobalLocal\\BIDS\\derivatives\\clean\\sub-D0057\\ieeg\\sub-D0057_task-GlobalLocal_acq-01_run-03_desc-clean_channels.tsv.\n",
      "Reading electrode coords from C:\\Users\\jz421\\Box\\CoganLab\\BIDS-1.1_GlobalLocal\\BIDS\\derivatives\\clean\\sub-D0057\\ieeg\\sub-D0057_acq-01_space-ACPC_electrodes.tsv.\n",
      "Extracting EDF parameters from C:\\Users\\jz421\\Box\\CoganLab\\BIDS-1.1_GlobalLocal\\BIDS\\derivatives\\clean\\sub-D0057\\ieeg\\sub-D0057_task-GlobalLocal_acq-01_run-04_desc-clean_ieeg.edf...\n",
      "EDF file detected\n",
      "Setting channel info structure...\n",
      "Creating raw.info structure...\n"
     ]
    },
    {
     "name": "stderr",
     "output_type": "stream",
     "text": [
      "C:\\Users\\jz421\\Desktop\\GlobalLocal\\IEEG_Pipelines\\ieeg\\io.py:113: RuntimeWarning: Omitted 228 annotation(s) that were outside data range.\n",
      "  new_raw = read_raw_bids(bids_path=BIDS_path, verbose=verbose)\n",
      "C:\\Users\\jz421\\Desktop\\GlobalLocal\\IEEG_Pipelines\\ieeg\\io.py:113: RuntimeWarning: The number of channels in the channels.tsv sidecar file (179) does not match the number of channels in the raw data file (178). Will not try to set channel names.\n",
      "  new_raw = read_raw_bids(bids_path=BIDS_path, verbose=verbose)\n",
      "C:\\Users\\jz421\\Desktop\\GlobalLocal\\IEEG_Pipelines\\ieeg\\io.py:113: RuntimeWarning: Cannot set channel type for the following channels, as they are missing in the raw data: Trigger\n",
      "  new_raw = read_raw_bids(bids_path=BIDS_path, verbose=verbose)\n"
     ]
    },
    {
     "name": "stdout",
     "output_type": "stream",
     "text": [
      "Reading events from C:\\Users\\jz421\\Box\\CoganLab\\BIDS-1.1_GlobalLocal\\BIDS\\derivatives\\clean\\sub-D0057\\ieeg\\sub-D0057_task-GlobalLocal_acq-01_run-04_desc-clean_events.tsv.\n",
      "Reading channel info from C:\\Users\\jz421\\Box\\CoganLab\\BIDS-1.1_GlobalLocal\\BIDS\\derivatives\\clean\\sub-D0057\\ieeg\\sub-D0057_task-GlobalLocal_acq-01_run-04_desc-clean_channels.tsv.\n",
      "Reading electrode coords from C:\\Users\\jz421\\Box\\CoganLab\\BIDS-1.1_GlobalLocal\\BIDS\\derivatives\\clean\\sub-D0057\\ieeg\\sub-D0057_acq-01_space-ACPC_electrodes.tsv.\n"
     ]
    },
    {
     "name": "stderr",
     "output_type": "stream",
     "text": [
      "C:\\Users\\jz421\\Desktop\\GlobalLocal\\IEEG_Pipelines\\ieeg\\io.py:113: RuntimeWarning: Omitted 226 annotation(s) that were outside data range.\n",
      "  new_raw = read_raw_bids(bids_path=BIDS_path, verbose=verbose)\n",
      "C:\\Users\\jz421\\Desktop\\GlobalLocal\\IEEG_Pipelines\\ieeg\\io.py:113: RuntimeWarning: The number of channels in the channels.tsv sidecar file (179) does not match the number of channels in the raw data file (178). Will not try to set channel names.\n",
      "  new_raw = read_raw_bids(bids_path=BIDS_path, verbose=verbose)\n",
      "C:\\Users\\jz421\\Desktop\\GlobalLocal\\IEEG_Pipelines\\ieeg\\io.py:113: RuntimeWarning: Cannot set channel type for the following channels, as they are missing in the raw data: Trigger\n",
      "  new_raw = read_raw_bids(bids_path=BIDS_path, verbose=verbose)\n"
     ]
    },
    {
     "name": "stdout",
     "output_type": "stream",
     "text": [
      "good channels before dropping bads: 178\n",
      "filt channels before dropping bads: 178\n",
      "outlier round 1 channels: ['RAMT8']\n",
      "outlier round 2 channels: ['RAMT8', 'RPI16']\n",
      "outlier round 2 channels: ['RAMT8', 'RPI16', 'LAMT12']\n",
      "Bad channels in 'good': ['RAMT8', 'RPI16', 'LAMT12']\n",
      "Bad channels in 'good' after dropping once: []\n",
      "good channels after dropping bads: 175\n",
      "filt channels after dropping bads: 175\n",
      "Reading 0 ... 8243199  =      0.000 ...  4025.000 secs...\n",
      "Applying average reference.\n",
      "Applying a custom ('sEEG',) reference.\n",
      "Used Annotations descriptions: ['Response/c25/n25', 'Response/c25/r25', 'Response/c25/r75', 'Response/c25/s25', 'Response/c25/s75', 'Response/c75/r25', 'Response/c75/r75', 'Response/c75/s25', 'Response/c75/s75', 'Response/i25/r25', 'Response/i25/r75', 'Response/i25/s25', 'Response/i25/s75', 'Response/i75/n25', 'Response/i75/n75', 'Response/i75/r25', 'Response/i75/r75', 'Response/i75/s25', 'Response/i75/s75', 'Stimulus/c25/n25', 'Stimulus/c25/r25', 'Stimulus/c25/r75', 'Stimulus/c25/s25', 'Stimulus/c25/s75', 'Stimulus/c75/r25', 'Stimulus/c75/r75', 'Stimulus/c75/s25', 'Stimulus/c75/s75', 'Stimulus/i25/n75', 'Stimulus/i25/r25', 'Stimulus/i25/r75', 'Stimulus/i25/s25', 'Stimulus/i25/s75', 'Stimulus/i75/n25', 'Stimulus/i75/n75', 'Stimulus/i75/r25', 'Stimulus/i75/r75', 'Stimulus/i75/s25', 'Stimulus/i75/s75', 'experimentStart']\n",
      "Not setting metadata\n",
      "1 matching events found\n",
      "No baseline correction applied\n",
      "0 projection items activated\n",
      "Using data from preloaded Raw for 1 events and 206849 original time points ...\n",
      "0 bad epochs dropped\n"
     ]
    },
    {
     "name": "stderr",
     "output_type": "stream",
     "text": [
      "100%|██████████| 1/1 [00:53<00:00, 53.27s/it]\n"
     ]
    },
    {
     "name": "stdout",
     "output_type": "stream",
     "text": [
      "Reading 0 ... 5983997  =      0.000 ...  2921.874 secs...\n"
     ]
    },
    {
     "data": {
      "text/html": [
       "<table class=\"table table-hover table-striped table-sm table-responsive small\">\n",
       "    <tr>\n",
       "        <th>Measurement date</th>\n",
       "        \n",
       "        <td>July 03, 2023  12:31:29 GMT</td>\n",
       "        \n",
       "    </tr>\n",
       "    <tr>\n",
       "        <th>Experimenter</th>\n",
       "        \n",
       "        <td>mne_anonymize</td>\n",
       "        \n",
       "    </tr>\n",
       "        <th>Participant</th>\n",
       "        \n",
       "            \n",
       "            <td>sub-D0057</td>\n",
       "            \n",
       "        \n",
       "    </tr>\n",
       "    <tr>\n",
       "        <th>Digitized points</th>\n",
       "        \n",
       "        <td>178 points</td>\n",
       "        \n",
       "    </tr>\n",
       "    <tr>\n",
       "        <th>Good channels</th>\n",
       "        <td>175 sEEG</td>\n",
       "    </tr>\n",
       "    <tr>\n",
       "        <th>Bad channels</th>\n",
       "        <td>None</td>\n",
       "    </tr>\n",
       "    <tr>\n",
       "        <th>EOG channels</th>\n",
       "        <td>Not available</td>\n",
       "    </tr>\n",
       "    <tr>\n",
       "        <th>ECG channels</th>\n",
       "        <td>Not available</td>\n",
       "    \n",
       "    <tr>\n",
       "        <th>Sampling frequency</th>\n",
       "        <td>2048.00 Hz</td>\n",
       "    </tr>\n",
       "    \n",
       "    \n",
       "    <tr>\n",
       "        <th>Highpass</th>\n",
       "        <td>0.00 Hz</td>\n",
       "    </tr>\n",
       "    \n",
       "    \n",
       "    <tr>\n",
       "        <th>Lowpass</th>\n",
       "        <td>1024.00 Hz</td>\n",
       "    </tr>\n",
       "    \n",
       "    \n",
       "    \n",
       "    <tr>\n",
       "        <th>Filenames</th>\n",
       "        <td>sub-D0057_task-GlobalLocal_acq-01_run-01_desc-clean_ieeg.edf&lt;br&gt;sub-D0057_task-GlobalLocal_acq-01_run-01_desc-clean_ieeg.edf&lt;br&gt;sub-D0057_task-GlobalLocal_acq-01_run-02_desc-clean_ieeg.edf&lt;br&gt;sub-D0057_task-GlobalLocal_acq-01_run-03_desc-clean_ieeg.edf&lt;br&gt;sub-D0057_task-GlobalLocal_acq-01_run-04_desc-clean_ieeg.edf</td>\n",
       "    </tr>\n",
       "    \n",
       "    <tr>\n",
       "        <th>Duration</th>\n",
       "        <td>00:48:42 (HH:MM:SS)</td>\n",
       "    </tr>\n",
       "</table>"
      ],
      "text/plain": [
       "<RawEDF | sub-D0057_task-GlobalLocal_acq-01_run-01_desc-clean_ieeg.edf, 175 x 5983998 (2921.9 s), ~7.80 GB, data loaded>"
      ]
     },
     "execution_count": 2,
     "metadata": {},
     "output_type": "execute_result"
    }
   ],
   "source": [
    "def get_baseline(inst: mne.io.BaseRaw, base_times: tuple[float, float]):\n",
    "    inst = inst.copy()\n",
    "    inst.load_data()\n",
    "    ch_type = inst.get_channel_types(only_data_chs=True)[0]\n",
    "    inst.set_eeg_reference(ref_channels=\"average\", ch_type=ch_type)\n",
    "\n",
    "    adjusted_base_times = [base_times[0] - 0.5, base_times[1] + 0.5]\n",
    "    trials = trial_ieeg(inst, \"experimentStart\", adjusted_base_times, preload=True)\n",
    "    outliers_to_nan(trials, outliers=10)\n",
    "    HG_base = gamma.extract(trials, copy=False, n_jobs=1)\n",
    "    crop_pad(HG_base, \"0.5s\")\n",
    "    del inst\n",
    "    return HG_base\n",
    "\n",
    "\n",
    "def plot_HG_and_stats(sub, task, output_name, event=None, times=(-1, 1.5), base_times=(-0.5, 0), LAB_root=None, channels=None, full_trial_base=False):\n",
    "    \"\"\"\n",
    "    Plot high gamma (HG) and statistics for a given subject and task using specified event.\n",
    "    \n",
    "    Parameters:\n",
    "    - sub (str): The subject identifier.\n",
    "    - task (str): The task identifier.\n",
    "    - output_name (str): The name for the output files.\n",
    "    - event (str, optional): Event name to process. Defaults to None.\n",
    "    - times (tuple, optional): A tuple indicating the start and end times for processing. Defaults to (-1, 1.5).\n",
    "    - base_times (tuple, optional): A tuple indicating the start and end base times for processing. Defaults to (-0.5, 0).\n",
    "    - LAB_root (str, optional): The root directory for the lab. Will be determined based on OS if not provided. Defaults to None.\n",
    "    - channels (list of strings, optional): The channels to plot and get stats for. Default is all channels.\n",
    "    - full_trial_base (boolean): Whether to use the full trial as the baseline period. Default is False.\n",
    "    This function will process the provided event for a given subject and task. \n",
    "    High gamma (HG) will be computed, and statistics will be calculated and plotted. \n",
    "    The results will be saved to output files.\n",
    "    \"\"\"\n",
    "    pass\n",
    "\n",
    "sub='D0057'\n",
    "task='GlobalLocal'\n",
    "output_name=\"response_experimentStartBase1secTo101Sec\"\n",
    "event=\"Response\"\n",
    "times=(-1, 1.5)\n",
    "base_times=(1, 101)\n",
    "LAB_root=None\n",
    "channels=None\n",
    "full_trial_base=False\n",
    "\n",
    "if LAB_root is None:\n",
    "    HOME = os.path.expanduser(\"~\")\n",
    "    if os.name == 'nt': # windows\n",
    "        LAB_root = os.path.join(HOME, \"Box\", \"CoganLab\")\n",
    "    else: # mac\n",
    "        LAB_root = os.path.join(HOME, \"Library\", \"CloudStorage\", \"Box-Box\", \"CoganLab\")\n",
    "\n",
    "layout = get_data(task, root=LAB_root)\n",
    "filt = raw_from_layout(layout.derivatives['derivatives/clean'], subject=sub, extension='.edf', desc='clean', preload=False)\n",
    "save_dir = os.path.join(layout.root, 'derivatives', 'freqFilt', 'figs', sub)\n",
    "if not os.path.exists(save_dir):\n",
    "    os.makedirs(save_dir)\n",
    "\n",
    "try:\n",
    "    good = crop_empty_data(filt)\n",
    "except ValueError as ve:\n",
    "    print(f\"Error encountered during cropping: {ve}\")\n",
    "\n",
    "print(f\"good channels before dropping bads: {len(good.ch_names)}\")\n",
    "print(f\"filt channels before dropping bads: {len(filt.ch_names)}\")\n",
    "\n",
    "good.info['bads'] = channel_outlier_marker(good, 3, 2)\n",
    "print(\"Bad channels in 'good':\", good.info['bads'])\n",
    "\n",
    "filt.drop_channels(good.info['bads']) #this has to come first cuz if you drop from good first, then good.info['bads'] is just empty\n",
    "good.drop_channels(good.info['bads'])\n",
    "\n",
    "print(\"Bad channels in 'good' after dropping once:\", good.info['bads'])\n",
    "\n",
    "print(f\"good channels after dropping bads: {len(good.ch_names)}\")\n",
    "print(f\"filt channels after dropping bads: {len(filt.ch_names)}\")\n",
    "\n",
    "\n",
    "HG_base = get_baseline(filt, base_times)\n",
    "good.load_data()"
   ]
  },
  {
   "cell_type": "code",
   "execution_count": 5,
   "metadata": {},
   "outputs": [
    {
     "name": "stdout",
     "output_type": "stream",
     "text": [
      "Used Annotations descriptions: ['Response/c25/n25', 'Response/c25/r25', 'Response/c25/r75', 'Response/c25/s25', 'Response/c25/s75', 'Response/c75/r25', 'Response/c75/r75', 'Response/c75/s25', 'Response/c75/s75', 'Response/i25/r25', 'Response/i25/r75', 'Response/i25/s25', 'Response/i25/s75', 'Response/i75/n25', 'Response/i75/n75', 'Response/i75/r25', 'Response/i75/r75', 'Response/i75/s25', 'Response/i75/s75', 'Stimulus/c25/n25', 'Stimulus/c25/r25', 'Stimulus/c25/r75', 'Stimulus/c25/s25', 'Stimulus/c25/s75', 'Stimulus/c75/r25', 'Stimulus/c75/r75', 'Stimulus/c75/s25', 'Stimulus/c75/s75', 'Stimulus/i25/n75', 'Stimulus/i25/r25', 'Stimulus/i25/r75', 'Stimulus/i25/s25', 'Stimulus/i25/s75', 'Stimulus/i75/n25', 'Stimulus/i75/n75', 'Stimulus/i75/r25', 'Stimulus/i75/r75', 'Stimulus/i75/s25', 'Stimulus/i75/s75', 'experimentStart']\n",
      "Not setting metadata\n"
     ]
    },
    {
     "name": "stdout",
     "output_type": "stream",
     "text": [
      "448 matching events found\n",
      "No baseline correction applied\n",
      "0 projection items activated\n",
      "Using data from preloaded Raw for 448 events and 3073 original time points ...\n",
      "0 bad epochs dropped\n"
     ]
    },
    {
     "name": "stderr",
     "output_type": "stream",
     "text": [
      "100%|██████████| 448/448 [04:24<00:00,  1.70it/s]\n"
     ]
    },
    {
     "data": {
      "text/html": [
       "<table class=\"table table-hover table-striped table-sm table-responsive small\">\n",
       "    <tr>\n",
       "        <th>Number of events</th>\n",
       "        <td>448</td>\n",
       "    </tr>\n",
       "    <tr>\n",
       "        <th>Events</th>\n",
       "        \n",
       "        <td>Stimulus/c25/n25: 1<br/>Stimulus/c25/r25: 63<br/>Stimulus/c25/r75: 23<br/>Stimulus/c25/s25: 20<br/>Stimulus/c25/s75: 61<br/>Stimulus/c75/r25: 24<br/>Stimulus/c75/r75: 11<br/>Stimulus/c75/s25: 4<br/>Stimulus/c75/s75: 17<br/>Stimulus/i25/n75: 1<br/>Stimulus/i25/r25: 21<br/>Stimulus/i25/r75: 5<br/>Stimulus/i25/s25: 7<br/>Stimulus/i25/s75: 22<br/>Stimulus/i75/n25: 1<br/>Stimulus/i75/n75: 1<br/>Stimulus/i75/r25: 60<br/>Stimulus/i75/r75: 17<br/>Stimulus/i75/s25: 23<br/>Stimulus/i75/s75: 66</td>\n",
       "        \n",
       "    </tr>\n",
       "    <tr>\n",
       "        <th>Time range</th>\n",
       "        <td>-0.500 – 0.000 s</td>\n",
       "    </tr>\n",
       "    <tr>\n",
       "        <th>Baseline</th>\n",
       "        <td>off</td>\n",
       "    </tr>\n",
       "</table>"
      ],
      "text/plain": [
       "<Epochs |  448 events (all good), -0.5 – 0 s, baseline off, ~613.3 MB, data loaded,\n",
       " 'Stimulus/c25/n25': 1\n",
       " 'Stimulus/c25/r25': 63\n",
       " 'Stimulus/c25/r75': 23\n",
       " 'Stimulus/c25/s25': 20\n",
       " 'Stimulus/c25/s75': 61\n",
       " 'Stimulus/c75/r25': 24\n",
       " 'Stimulus/c75/r75': 11\n",
       " 'Stimulus/c75/s25': 4\n",
       " 'Stimulus/c75/s75': 17\n",
       " 'Stimulus/i25/n75': 1\n",
       " and 10 more events ...>"
      ]
     },
     "execution_count": 5,
     "metadata": {},
     "output_type": "execute_result"
    }
   ],
   "source": [
    "# Create a baseline EpochsTFR using the stimulus event\n",
    "base_times=(-0.5,0)\n",
    "adjusted_base_times = [base_times[0] - 0.5, base_times[1] + 0.5]\n",
    "trials = trial_ieeg(good, \"Stimulus\", adjusted_base_times, preload=True)\n",
    "outliers_to_nan(trials, outliers=10)\n",
    "HG_base_stimulus = gamma.extract(trials, copy=False, n_jobs=1)\n",
    "crop_pad(HG_base_stimulus, \"0.5s\")"
   ]
  },
  {
   "cell_type": "code",
   "execution_count": 10,
   "metadata": {},
   "outputs": [
    {
     "name": "stdout",
     "output_type": "stream",
     "text": [
      "Mean:  [3.84630322e-06 3.29684330e-06 3.31282825e-06 3.60361747e-06\n",
      " 4.42215705e-06 7.41808568e-06 2.84947609e-06 2.18214122e-06\n",
      " 2.27253409e-06 2.55375306e-06 3.06813133e-06 5.57559093e-06\n",
      " 1.03559997e-05 9.65731638e-06 8.66877990e-06 6.64132752e-06\n",
      " 4.57139391e-06 3.61304781e-06 3.44952659e-06 4.78302741e-06\n",
      " 3.50475003e-06 3.34690632e-06 2.33347931e-06 2.54583200e-06\n",
      " 3.09513135e-06 3.95237442e-06 6.42933658e-06 1.36428357e-05\n",
      " 1.30121400e-05 1.41465485e-05 6.30349080e-06 8.51701921e-06\n",
      " 8.15496148e-06 7.65769407e-06 8.45221358e-06 8.17010856e-06\n",
      " 7.82943500e-06 8.62322971e-06 9.44030009e-06 7.32383139e-06\n",
      "            nan 9.99880586e-06 5.18744102e-06 5.04847399e-06\n",
      " 6.14913545e-06 7.16740083e-06 3.70821071e-06 4.17609935e-06\n",
      " 3.05756317e-06 2.28939142e-06 2.26979705e-06 2.49318017e-06\n",
      " 2.95730527e-06 4.06850892e-06 9.77091522e-06 1.15611172e-05\n",
      " 9.39998255e-06 6.72327816e-06 5.32837368e-06 6.14017824e-06\n",
      " 4.70478137e-06 2.95435123e-06 2.58999636e-06 2.56373340e-06\n",
      " 2.79294049e-06 4.04779042e-06 3.47674906e-06 5.85694502e-06\n",
      " 7.90757401e-06 1.13991763e-05 1.12116808e-05 1.35239709e-05\n",
      " 1.51796286e-05 7.81624694e-06 6.29005359e-06 1.21205250e-05\n",
      " 3.79602571e-06 2.89861997e-06 2.63974541e-06 2.70476030e-06\n",
      " 2.81498249e-06 2.97435200e-06 3.40558972e-06 6.32161647e-06\n",
      " 7.53632260e-06 5.23396828e-06 4.31587637e-06 4.31397795e-06\n",
      " 4.13623819e-06 3.77687915e-06 4.95518776e-06 6.37723388e-06\n",
      " 7.81494793e-06 7.40129656e-06 7.59486332e-06 4.18214807e-06\n",
      " 4.43102647e-06 6.12168659e-06 6.09433834e-06 5.17501189e-06\n",
      " 4.26866327e-06 3.73614701e-06 4.78901333e-06 4.74004036e-06\n",
      " 3.62384552e-06 3.72789443e-06            nan 5.27966977e-06\n",
      " 4.43050541e-06 3.43505454e-06 2.83918710e-06 2.49784721e-06\n",
      " 3.12428170e-06 5.30275329e-06 3.58851417e-06 3.11502706e-06\n",
      " 3.33600624e-06 3.51140502e-06 1.37235687e-05 1.06648650e-05\n",
      " 4.36810114e-06 3.01511182e-06 2.80477843e-06 2.78126613e-06\n",
      " 3.29241490e-06 3.56988622e-06 3.40553211e-06 3.36698658e-06\n",
      "            nan 4.55253050e-06 6.03552914e-06 5.74952187e-06\n",
      " 5.78935668e-06 3.63205932e-06 2.98377038e-06 5.46656458e-06\n",
      " 7.31848984e-06 6.64804847e-06 5.25953427e-06 4.04611379e-06\n",
      " 1.41725263e-05 9.68907411e-06 9.69815123e-06 9.90563627e-06\n",
      " 4.27522474e-06 3.56084006e-06 3.47274556e-06 3.66632223e-06\n",
      " 4.24181310e-06            nan 6.03319396e-06 5.23806649e-06\n",
      " 6.62492636e-06 6.87639127e-06 5.54617461e-06 5.47947354e-06\n",
      " 4.00222741e-06 3.75806029e-06 3.71166762e-06 3.72092627e-06\n",
      " 3.79396729e-06 3.96239377e-06 4.12628590e-06 1.16091442e-05\n",
      " 7.25338829e-06 5.74932749e-06 4.27396568e-06 3.76252161e-06\n",
      " 3.77406573e-06 3.85665966e-06 4.18966133e-06 4.83332472e-06\n",
      " 4.67121414e-06            nan 6.06895763e-06]\n",
      "Standard Deviation:  [1.06380580e-06 8.54022524e-07 8.46675693e-07 8.97256289e-07\n",
      " 1.07834445e-06 1.81289978e-06 6.81901063e-07 5.46897623e-07\n",
      " 6.13345845e-07 7.04077199e-07 8.39645089e-07 1.39445654e-06\n",
      " 2.59025300e-06 2.57546374e-06 2.49432076e-06 1.89548085e-06\n",
      " 1.14956483e-06 8.25536498e-07 7.92731792e-07 1.27484782e-06\n",
      " 8.05565584e-07 7.68363590e-07 5.47552246e-07 6.16416163e-07\n",
      " 8.46097082e-07 1.14846349e-06 1.74990897e-06 3.49348257e-06\n",
      " 3.54123867e-06 4.20280198e-06 1.90429084e-06 3.11759460e-06\n",
      " 3.49353718e-06 3.37552030e-06 2.58477333e-06 2.19955055e-06\n",
      " 2.12548558e-06 2.29607360e-06 2.63930548e-06 1.89632825e-06\n",
      "            nan 2.64224027e-06 1.41584006e-06 1.69563804e-06\n",
      " 2.27711531e-06 1.74990812e-06 8.91031897e-07 1.01935046e-06\n",
      " 7.64223563e-07 6.29104593e-07 6.35508153e-07 6.68888745e-07\n",
      " 7.75413468e-07 1.01531414e-06 2.54267636e-06 3.02846641e-06\n",
      " 2.37384488e-06 1.68549504e-06 1.35602572e-06 1.45931946e-06\n",
      " 1.11593325e-06 7.00720279e-07 6.88044069e-07 7.19042575e-07\n",
      " 7.88616491e-07 1.15058410e-06 9.23781535e-07 1.66336107e-06\n",
      " 2.18205667e-06 3.02412724e-06 2.71362266e-06 3.91980355e-06\n",
      " 4.87107736e-06 2.34277643e-06 1.77806244e-06 3.49539771e-06\n",
      " 1.11248086e-06 8.11453280e-07 7.43879940e-07 7.53983995e-07\n",
      " 7.85749069e-07 8.34509931e-07 8.97327970e-07 1.50664133e-06\n",
      " 2.02100571e-06 1.32914750e-06 1.08271489e-06 1.12137655e-06\n",
      " 1.10186456e-06 9.70510577e-07 1.17393123e-06 1.47834351e-06\n",
      " 1.98515642e-06 1.80047046e-06 1.91400367e-06 1.10623892e-06\n",
      " 1.58451464e-06 2.89692925e-06 2.55300718e-06 2.21625331e-06\n",
      " 1.85795990e-06 1.63028380e-06 1.46139468e-06 1.34333781e-06\n",
      " 1.08133770e-06 1.00331603e-06            nan 1.59282371e-06\n",
      " 1.23672593e-06 1.08527221e-06 9.70859712e-07 8.34207521e-07\n",
      " 8.52805299e-07 1.26904327e-06 8.94510404e-07 8.15890847e-07\n",
      " 8.96399477e-07 1.29914578e-06 3.77935385e-06 3.14486190e-06\n",
      " 1.06099250e-06 7.72936458e-07 7.50080841e-07 7.27532581e-07\n",
      " 8.07099844e-07 8.69813185e-07 8.35204591e-07 8.55871448e-07\n",
      "            nan 2.09785798e-06 1.49675572e-06 1.39794268e-06\n",
      " 1.36621425e-06 9.22893310e-07 7.82824480e-07 1.24811370e-06\n",
      " 1.65966186e-06 1.47478551e-06 1.22699479e-06 1.06814504e-06\n",
      " 5.76923377e-06 3.61789517e-06 3.11554275e-06 2.74620116e-06\n",
      " 1.15737485e-06 9.89836512e-07 1.03370191e-06 1.07450283e-06\n",
      " 1.18951325e-06            nan 1.51517623e-06 1.45808670e-06\n",
      " 1.87492604e-06 1.86013682e-06 1.68574960e-06 1.67761346e-06\n",
      " 1.64396945e-06 1.64477765e-06 1.65935959e-06 1.65523017e-06\n",
      " 1.68254223e-06 1.78757832e-06 2.25757006e-06 2.91191415e-06\n",
      " 1.98462461e-06 1.61312901e-06 1.46709037e-06 1.47312320e-06\n",
      " 1.48611097e-06 1.49770592e-06 1.50262638e-06 1.56465292e-06\n",
      " 1.65253541e-06            nan 3.28226550e-06]\n"
     ]
    },
    {
     "ename": "KeyboardInterrupt",
     "evalue": "",
     "output_type": "error",
     "traceback": [
      "\u001b[1;31m---------------------------------------------------------------------------\u001b[0m",
      "\u001b[1;31mKeyboardInterrupt\u001b[0m                         Traceback (most recent call last)",
      "\u001b[1;32mc:\\Users\\jz421\\Desktop\\GlobalLocal\\baseline_testing.ipynb Cell 4\u001b[0m line \u001b[0;36m2\n\u001b[0;32m     <a href='vscode-notebook-cell:/c%3A/Users/jz421/Desktop/GlobalLocal/baseline_testing.ipynb#X11sZmlsZQ%3D%3D?line=20'>21</a>\u001b[0m \u001b[39m# Display the plot\u001b[39;00m\n\u001b[0;32m     <a href='vscode-notebook-cell:/c%3A/Users/jz421/Desktop/GlobalLocal/baseline_testing.ipynb#X11sZmlsZQ%3D%3D?line=21'>22</a>\u001b[0m plt\u001b[39m.\u001b[39mtight_layout()\n\u001b[1;32m---> <a href='vscode-notebook-cell:/c%3A/Users/jz421/Desktop/GlobalLocal/baseline_testing.ipynb#X11sZmlsZQ%3D%3D?line=22'>23</a>\u001b[0m plt\u001b[39m.\u001b[39;49mshow()\n",
      "File \u001b[1;32mc:\\Users\\jz421\\AppData\\Local\\anaconda3\\envs\\ieeg\\Lib\\site-packages\\matplotlib\\pyplot.py:446\u001b[0m, in \u001b[0;36mshow\u001b[1;34m(*args, **kwargs)\u001b[0m\n\u001b[0;32m    402\u001b[0m \u001b[39m\u001b[39m\u001b[39m\"\"\"\u001b[39;00m\n\u001b[0;32m    403\u001b[0m \u001b[39mDisplay all open figures.\u001b[39;00m\n\u001b[0;32m    404\u001b[0m \n\u001b[1;32m   (...)\u001b[0m\n\u001b[0;32m    443\u001b[0m \u001b[39mexplicitly there.\u001b[39;00m\n\u001b[0;32m    444\u001b[0m \u001b[39m\"\"\"\u001b[39;00m\n\u001b[0;32m    445\u001b[0m _warn_if_gui_out_of_main_thread()\n\u001b[1;32m--> 446\u001b[0m \u001b[39mreturn\u001b[39;00m _get_backend_mod()\u001b[39m.\u001b[39;49mshow(\u001b[39m*\u001b[39;49margs, \u001b[39m*\u001b[39;49m\u001b[39m*\u001b[39;49mkwargs)\n",
      "File \u001b[1;32mc:\\Users\\jz421\\AppData\\Local\\anaconda3\\envs\\ieeg\\Lib\\site-packages\\matplotlib\\backend_bases.py:3620\u001b[0m, in \u001b[0;36m_Backend.show\u001b[1;34m(cls, block)\u001b[0m\n\u001b[0;32m   3618\u001b[0m     block \u001b[39m=\u001b[39m \u001b[39mnot\u001b[39;00m ipython_pylab \u001b[39mand\u001b[39;00m \u001b[39mnot\u001b[39;00m is_interactive()\n\u001b[0;32m   3619\u001b[0m \u001b[39mif\u001b[39;00m block:\n\u001b[1;32m-> 3620\u001b[0m     \u001b[39mcls\u001b[39;49m\u001b[39m.\u001b[39;49mmainloop()\n",
      "File \u001b[1;32mc:\\Users\\jz421\\AppData\\Local\\anaconda3\\envs\\ieeg\\Lib\\site-packages\\matplotlib\\backends\\backend_qt.py:604\u001b[0m, in \u001b[0;36mFigureManagerQT.start_main_loop\u001b[1;34m(cls)\u001b[0m\n\u001b[0;32m    602\u001b[0m qapp \u001b[39m=\u001b[39m QtWidgets\u001b[39m.\u001b[39mQApplication\u001b[39m.\u001b[39minstance()\n\u001b[0;32m    603\u001b[0m \u001b[39mif\u001b[39;00m qapp:\n\u001b[1;32m--> 604\u001b[0m     \u001b[39mwith\u001b[39;49;00m _maybe_allow_interrupt(qapp):\n\u001b[0;32m    605\u001b[0m         qt_compat\u001b[39m.\u001b[39;49m_exec(qapp)\n",
      "File \u001b[1;32mc:\\Users\\jz421\\AppData\\Local\\anaconda3\\envs\\ieeg\\Lib\\contextlib.py:144\u001b[0m, in \u001b[0;36m_GeneratorContextManager.__exit__\u001b[1;34m(self, typ, value, traceback)\u001b[0m\n\u001b[0;32m    142\u001b[0m \u001b[39mif\u001b[39;00m typ \u001b[39mis\u001b[39;00m \u001b[39mNone\u001b[39;00m:\n\u001b[0;32m    143\u001b[0m     \u001b[39mtry\u001b[39;00m:\n\u001b[1;32m--> 144\u001b[0m         \u001b[39mnext\u001b[39m(\u001b[39mself\u001b[39m\u001b[39m.\u001b[39mgen)\n\u001b[0;32m    145\u001b[0m     \u001b[39mexcept\u001b[39;00m \u001b[39mStopIteration\u001b[39;00m:\n\u001b[0;32m    146\u001b[0m         \u001b[39mreturn\u001b[39;00m \u001b[39mFalse\u001b[39;00m\n",
      "File \u001b[1;32mc:\\Users\\jz421\\AppData\\Local\\anaconda3\\envs\\ieeg\\Lib\\site-packages\\matplotlib\\backends\\qt_compat.py:245\u001b[0m, in \u001b[0;36m_maybe_allow_interrupt\u001b[1;34m(qapp)\u001b[0m\n\u001b[0;32m    243\u001b[0m signal\u001b[39m.\u001b[39msignal(signal\u001b[39m.\u001b[39mSIGINT, old_sigint_handler)\n\u001b[0;32m    244\u001b[0m \u001b[39mif\u001b[39;00m handler_args \u001b[39mis\u001b[39;00m \u001b[39mnot\u001b[39;00m \u001b[39mNone\u001b[39;00m:\n\u001b[1;32m--> 245\u001b[0m     old_sigint_handler(\u001b[39m*\u001b[39;49mhandler_args)\n",
      "\u001b[1;31mKeyboardInterrupt\u001b[0m: "
     ]
    }
   ],
   "source": [
    "data = HG_base.get_data()\n",
    "\n",
    "mean = np.mean(data, axis=(0,2))\n",
    "stdev = np.std(data,axis=(0,2))\n",
    "\n",
    "print(\"Mean: \", mean)\n",
    "print(\"Standard Deviation: \", stdev)\n",
    "\n",
    "# Extract the channel names from the Epochs object\n",
    "channel_names = HG_base.ch_names\n",
    "\n",
    "# Create a bar plot\n",
    "plt.figure(figsize=(10, 5))\n",
    "plt.bar(channel_names, mean, yerr=stdev, align='center', alpha=0.75, ecolor='black', capsize=5)\n",
    "\n",
    "# Customize the plot\n",
    "plt.ylabel('Mean Amplitude')\n",
    "plt.title('Mean and Standard Deviation of Channels')\n",
    "plt.xticks(rotation=90)  # Rotate the channel names for better readability\n",
    "\n",
    "# Display the plot\n",
    "plt.tight_layout()\n",
    "plt.show()\n"
   ]
  },
  {
   "cell_type": "markdown",
   "metadata": {},
   "source": [
    "### average across trials, channels, and time points"
   ]
  },
  {
   "cell_type": "code",
   "execution_count": 14,
   "metadata": {},
   "outputs": [
    {
     "name": "stdout",
     "output_type": "stream",
     "text": [
      "Mean:  5.535233531799012e-06\n",
      "Standard Deviation:  3.4144343686885302e-06\n"
     ]
    }
   ],
   "source": [
    "data = HG_base.get_data()\n",
    "\n",
    "mean = np.nanmean(data, axis=(0,1,2))\n",
    "stdev = np.nanstd(data,axis=(0,1,2))\n",
    "\n",
    "print(\"Mean: \", mean)\n",
    "print(\"Standard Deviation: \", stdev)"
   ]
  },
  {
   "cell_type": "code",
   "execution_count": 15,
   "metadata": {},
   "outputs": [
    {
     "name": "stdout",
     "output_type": "stream",
     "text": [
      "Mean:  5.85340818925691e-06\n",
      "Standard Deviation:  2.9913158867295083e-06\n"
     ]
    }
   ],
   "source": [
    "data = HG_base_stimulus.get_data()\n",
    "\n",
    "mean = np.nanmean(data, axis=(0,1,2))\n",
    "stdev = np.nanstd(data,axis=(0,1,2))\n",
    "\n",
    "print(\"Mean: \", mean)\n",
    "print(\"Standard Deviation: \", stdev)"
   ]
  },
  {
   "cell_type": "code",
   "execution_count": null,
   "metadata": {},
   "outputs": [],
   "source": []
  }
 ],
 "metadata": {
  "kernelspec": {
   "display_name": "ieeg",
   "language": "python",
   "name": "python3"
  },
  "language_info": {
   "codemirror_mode": {
    "name": "ipython",
    "version": 3
   },
   "file_extension": ".py",
   "mimetype": "text/x-python",
   "name": "python",
   "nbconvert_exporter": "python",
   "pygments_lexer": "ipython3",
   "version": "3.11.3"
  },
  "orig_nbformat": 4
 },
 "nbformat": 4,
 "nbformat_minor": 2
}
