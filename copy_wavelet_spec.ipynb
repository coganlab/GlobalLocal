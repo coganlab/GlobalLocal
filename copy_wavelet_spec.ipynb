{
 "cells": [
  {
   "cell_type": "code",
   "execution_count": 5,
   "metadata": {},
   "outputs": [],
   "source": [
    "import mne.time_frequency\n",
    "import mne\n",
    "from ieeg.io import get_data, raw_from_layout\n",
    "from ieeg.navigate import trial_ieeg, channel_outlier_marker, crop_empty_data, outliers_to_nan\n",
    "from ieeg.calc.scaling import rescale\n",
    "import os\n",
    "from ieeg.timefreq.utils import wavelet_scaleogram, crop_pad\n",
    "import numpy as np\n"
   ]
  },
  {
   "cell_type": "code",
   "execution_count": null,
   "metadata": {},
   "outputs": [],
   "source": [
    "HOME = os.path.expanduser(\"~\")\n",
    "\n",
    "# get box directory depending on OS\n",
    "if os.name == 'nt': # windows\n",
    "    LAB_root = os.path.join(HOME, \"Box\", \"CoganLab\")\n",
    "else: # mac\n",
    "    LAB_root = os.path.join(HOME, \"Library\", \"CloudStorage\", \"Box-Box\", \"CoganLab\")\n",
    "\n",
    "layout = get_data(\"GlobalLocal\", root=LAB_root)\n",
    "subjects = layout.get(return_type=\"id\", target=\"subject\")\n",
    "\n",
    "print(subjects)\n",
    "# for sub in subjects:\n",
    "\n",
    "sub='D0059' #why does this not work in the for loop???\n",
    "# Load the data\n",
    "filt = raw_from_layout(layout.derivatives['derivatives/clean'], subject=sub,\n",
    "                           extension='.edf', desc='clean', preload=False) #get line-noise filtered data\n",
    "print(filt)\n",
    "\n",
    "## Crop raw data to minimize processing time\n",
    "good = crop_empty_data(filt)\n",
    "\n",
    "# good.drop_channels(good.info['bads'])\n",
    "good.info['bads'] = channel_outlier_marker(good, 3, 2)\n",
    "good.drop_channels(good.info['bads'])\n",
    "# good.info['bads'] += channel_outlier_marker(good, 4, 2)\n",
    "# good.drop_channels(good.info['bads'])\n",
    "good.load_data()\n",
    "\n",
    "ch_type = filt.get_channel_types(only_data_chs=True)[0]\n",
    "good.set_eeg_reference(ref_channels=\"average\", ch_type=ch_type)\n",
    "\n",
    "# Remove intermediates from mem\n",
    "good.plot()\n",
    "\n",
    "## epoching and trial outlier removal\n",
    "\n",
    "save_dir = os.path.join(layout.root, 'derivatives', 'spec', 'wavelet', sub)\n",
    "if not os.path.exists(save_dir):\n",
    "    os.makedirs(save_dir)\n"
   ]
  },
  {
   "attachments": {},
   "cell_type": "markdown",
   "metadata": {},
   "source": [
    "### 7/5 try to get wavelets for all stimulus "
   ]
  },
  {
   "cell_type": "code",
   "execution_count": 7,
   "metadata": {},
   "outputs": [
    {
     "name": "stdout",
     "output_type": "stream",
     "text": [
      "Used Annotations descriptions: ['Responsec25r25', 'Responsec25r75', 'Responsec25s25', 'Responsec25s75', 'Responsec75n25', 'Responsec75r25', 'Responsec75r75', 'Responsec75s25', 'Responsec75s75', 'Responsei25n25', 'Responsei25n75', 'Responsei25r25', 'Responsei25r75', 'Responsei25s25', 'Responsei25s75', 'Responsei75n75', 'Responsei75r25', 'Responsei75r75', 'Responsei75s25', 'Responsei75s75', 'Stimulusc25r25', 'Stimulusc25r75', 'Stimulusc25s25', 'Stimulusc25s75', 'Stimulusc75n25', 'Stimulusc75r25', 'Stimulusc75r75', 'Stimulusc75s25', 'Stimulusc75s75', 'Stimulusi25n25', 'Stimulusi25n75', 'Stimulusi25r25', 'Stimulusi25r75', 'Stimulusi25s25', 'Stimulusi25s75', 'Stimulusi75n75', 'Stimulusi75r25', 'Stimulusi75r75', 'Stimulusi75s25', 'Stimulusi75s75']\n"
     ]
    },
    {
     "ename": "KeyError",
     "evalue": "'Event name \"Stimulus\" could not be found. The following events are present in the data: Responsec25r25, Responsec25r75, Responsec25s25, Responsec25s75, Responsec75n25, Responsec75r25, Responsec75r75, Responsec75s25, Responsec75s75, Responsei25n25, Responsei25n75, Responsei25r25, Responsei25r75, Responsei25s25, Responsei25s75, Responsei75n75, Responsei75r25, Responsei75r75, Responsei75s25, Responsei75s75, Stimulusc25r25, Stimulusc25r75, Stimulusc25s25, Stimulusc25s75, Stimulusc75n25, Stimulusc75r25, Stimulusc75r75, Stimulusc75s25, Stimulusc75s75, Stimulusi25n25, Stimulusi25n75, Stimulusi25r25, Stimulusi25r75, Stimulusi25s25, Stimulusi25s75, Stimulusi75n75, Stimulusi75r25, Stimulusi75r75, Stimulusi75s25, Stimulusi75s75'",
     "output_type": "error",
     "traceback": [
      "\u001b[1;31m---------------------------------------------------------------------------\u001b[0m",
      "\u001b[1;31mKeyError\u001b[0m                                  Traceback (most recent call last)",
      "Cell \u001b[1;32mIn[7], line 3\u001b[0m\n\u001b[0;32m      1\u001b[0m \u001b[39m# make stimulus baseline EpochsTFR\u001b[39;00m\n\u001b[0;32m      2\u001b[0m times\u001b[39m=\u001b[39m[\u001b[39m-\u001b[39m\u001b[39m1\u001b[39m,\u001b[39m0.5\u001b[39m]\n\u001b[1;32m----> 3\u001b[0m trials \u001b[39m=\u001b[39m trial_ieeg(good, \u001b[39m\"\u001b[39;49m\u001b[39mStimulus\u001b[39;49m\u001b[39m\"\u001b[39;49m, times, preload\u001b[39m=\u001b[39;49m\u001b[39mTrue\u001b[39;49;00m)\n\u001b[0;32m      4\u001b[0m outliers_to_nan(trials, outliers\u001b[39m=\u001b[39m\u001b[39m10\u001b[39m)\n\u001b[0;32m      5\u001b[0m base \u001b[39m=\u001b[39m wavelet_scaleogram(trials, n_jobs\u001b[39m=\u001b[39m\u001b[39m-\u001b[39m\u001b[39m2\u001b[39m, decim\u001b[39m=\u001b[39m\u001b[39mint\u001b[39m(good\u001b[39m.\u001b[39minfo[\u001b[39m'\u001b[39m\u001b[39msfreq\u001b[39m\u001b[39m'\u001b[39m] \u001b[39m/\u001b[39m \u001b[39m100\u001b[39m))\n",
      "File \u001b[1;32m<decorator-gen-653>:12\u001b[0m, in \u001b[0;36mtrial_ieeg\u001b[1;34m(raw, event, times, baseline, basetimes, mode, outliers, verbose, **kwargs)\u001b[0m\n",
      "File \u001b[1;32mc:\\Users\\jz421\\Desktop\\GlobalLocal\\ieeg\\navigate.py:208\u001b[0m, in \u001b[0;36mtrial_ieeg\u001b[1;34m(raw, event, times, baseline, basetimes, mode, outliers, verbose, **kwargs)\u001b[0m\n\u001b[0;32m    206\u001b[0m \u001b[39m# determine the events\u001b[39;00m\n\u001b[0;32m    207\u001b[0m events, ids \u001b[39m=\u001b[39m mne\u001b[39m.\u001b[39mevents_from_annotations(raw)\n\u001b[1;32m--> 208\u001b[0m dat_ids \u001b[39m=\u001b[39m [ids[i] \u001b[39mfor\u001b[39;00m i \u001b[39min\u001b[39;00m mne\u001b[39m.\u001b[39;49mevent\u001b[39m.\u001b[39;49mmatch_event_names(ids, event)]\n\u001b[0;32m    209\u001b[0m \u001b[39mif\u001b[39;00m \u001b[39mlen\u001b[39m(dat_ids) \u001b[39m>\u001b[39m \u001b[39m1\u001b[39m:\n\u001b[0;32m    210\u001b[0m     event_ids \u001b[39m=\u001b[39m {key\u001b[39m.\u001b[39mreplace(event, \u001b[39m\"\u001b[39m\u001b[39m\"\u001b[39m)\u001b[39m.\u001b[39mstrip(\u001b[39m\"\u001b[39m\u001b[39m/\u001b[39m\u001b[39m\"\u001b[39m): value \u001b[39mfor\u001b[39;00m key, value \u001b[39min\u001b[39;00m\n\u001b[0;32m    211\u001b[0m                  ids\u001b[39m.\u001b[39mitems() \u001b[39mif\u001b[39;00m value \u001b[39min\u001b[39;00m dat_ids}\n",
      "File \u001b[1;32mc:\\Users\\jz421\\AppData\\Local\\anaconda3\\envs\\ieeg\\Lib\\site-packages\\mne\\event.py:1646\u001b[0m, in \u001b[0;36mmatch_event_names\u001b[1;34m(event_names, keys, on_missing)\u001b[0m\n\u001b[0;32m   1639\u001b[0m     matches\u001b[39m.\u001b[39mextend(\n\u001b[0;32m   1640\u001b[0m         name\n\u001b[0;32m   1641\u001b[0m         \u001b[39mfor\u001b[39;00m name \u001b[39min\u001b[39;00m event_names\n\u001b[0;32m   1642\u001b[0m         \u001b[39mif\u001b[39;00m \u001b[39mset\u001b[39m(key\u001b[39m.\u001b[39msplit(\u001b[39m\"\u001b[39m\u001b[39m/\u001b[39m\u001b[39m\"\u001b[39m))\u001b[39m.\u001b[39missubset(name\u001b[39m.\u001b[39msplit(\u001b[39m\"\u001b[39m\u001b[39m/\u001b[39m\u001b[39m\"\u001b[39m))\n\u001b[0;32m   1643\u001b[0m     )\n\u001b[0;32m   1645\u001b[0m \u001b[39mif\u001b[39;00m \u001b[39mnot\u001b[39;00m matches:\n\u001b[1;32m-> 1646\u001b[0m     _on_missing(\n\u001b[0;32m   1647\u001b[0m         on_missing\u001b[39m=\u001b[39;49mon_missing,\n\u001b[0;32m   1648\u001b[0m         msg\u001b[39m=\u001b[39;49m\u001b[39mf\u001b[39;49m\u001b[39m'\u001b[39;49m\u001b[39mEvent name \u001b[39;49m\u001b[39m\"\u001b[39;49m\u001b[39m{\u001b[39;49;00mkey\u001b[39m}\u001b[39;49;00m\u001b[39m\"\u001b[39;49m\u001b[39m could not be found. The following events \u001b[39;49m\u001b[39m'\u001b[39;49m\n\u001b[0;32m   1649\u001b[0m         \u001b[39mf\u001b[39;49m\u001b[39m'\u001b[39;49m\u001b[39mare present in the data: \u001b[39;49m\u001b[39m{\u001b[39;49;00m\u001b[39m\"\u001b[39;49m\u001b[39m, \u001b[39;49m\u001b[39m\"\u001b[39;49m\u001b[39m.\u001b[39;49mjoin(event_names)\u001b[39m}\u001b[39;49;00m\u001b[39m'\u001b[39;49m,\n\u001b[0;32m   1650\u001b[0m         error_klass\u001b[39m=\u001b[39;49m\u001b[39mKeyError\u001b[39;49;00m,\n\u001b[0;32m   1651\u001b[0m     )\n\u001b[0;32m   1653\u001b[0m matches \u001b[39m=\u001b[39m \u001b[39msorted\u001b[39m(\u001b[39mset\u001b[39m(matches))  \u001b[39m# deduplicate if necessary\u001b[39;00m\n\u001b[0;32m   1654\u001b[0m \u001b[39mreturn\u001b[39;00m matches\n",
      "File \u001b[1;32mc:\\Users\\jz421\\AppData\\Local\\anaconda3\\envs\\ieeg\\Lib\\site-packages\\mne\\utils\\check.py:1142\u001b[0m, in \u001b[0;36m_on_missing\u001b[1;34m(on_missing, msg, name, error_klass)\u001b[0m\n\u001b[0;32m   1140\u001b[0m on_missing \u001b[39m=\u001b[39m \u001b[39m\"\u001b[39m\u001b[39mwarn\u001b[39m\u001b[39m\"\u001b[39m \u001b[39mif\u001b[39;00m on_missing \u001b[39m==\u001b[39m \u001b[39m\"\u001b[39m\u001b[39mwarning\u001b[39m\u001b[39m\"\u001b[39m \u001b[39melse\u001b[39;00m on_missing\n\u001b[0;32m   1141\u001b[0m \u001b[39mif\u001b[39;00m on_missing \u001b[39m==\u001b[39m \u001b[39m\"\u001b[39m\u001b[39mraise\u001b[39m\u001b[39m\"\u001b[39m:\n\u001b[1;32m-> 1142\u001b[0m     \u001b[39mraise\u001b[39;00m error_klass(msg)\n\u001b[0;32m   1143\u001b[0m \u001b[39melif\u001b[39;00m on_missing \u001b[39m==\u001b[39m \u001b[39m\"\u001b[39m\u001b[39mwarn\u001b[39m\u001b[39m\"\u001b[39m:\n\u001b[0;32m   1144\u001b[0m     warn(msg)\n",
      "\u001b[1;31mKeyError\u001b[0m: 'Event name \"Stimulus\" could not be found. The following events are present in the data: Responsec25r25, Responsec25r75, Responsec25s25, Responsec25s75, Responsec75n25, Responsec75r25, Responsec75r75, Responsec75s25, Responsec75s75, Responsei25n25, Responsei25n75, Responsei25r25, Responsei25r75, Responsei25s25, Responsei25s75, Responsei75n75, Responsei75r25, Responsei75r75, Responsei75s25, Responsei75s75, Stimulusc25r25, Stimulusc25r75, Stimulusc25s25, Stimulusc25s75, Stimulusc75n25, Stimulusc75r25, Stimulusc75r75, Stimulusc75s25, Stimulusc75s75, Stimulusi25n25, Stimulusi25n75, Stimulusi25r25, Stimulusi25r75, Stimulusi25s25, Stimulusi25s75, Stimulusi75n75, Stimulusi75r25, Stimulusi75r75, Stimulusi75s25, Stimulusi75s75'"
     ]
    }
   ],
   "source": [
    "# make stimulus baseline EpochsTFR\n",
    "times=[-1,0.5] #this is for 0.5 sec of padding on each side\n",
    "trials = trial_ieeg(good, \"Stimulus\", times, preload=True)\n",
    "outliers_to_nan(trials, outliers=10)\n",
    "base = wavelet_scaleogram(trials, n_jobs=-2, decim=int(good.info['sfreq'] / 100))\n",
    "crop_pad(base, \"0.5s\")\n",
    "    \n",
    "\n",
    "#now do rescale with the concatenated baseline epochs\n",
    "for event, t in zip(\n",
    "        (\"Stimulus\", \"Response\"),\n",
    "        ((-1, 1.5), (-1, 1.5))):\n",
    "    times = [None, None]\n",
    "    times[0] = t[0] - 0.5\n",
    "    times[1] = t[1] + 0.5\n",
    "    trials = trial_ieeg(good, event, times, preload=True)\n",
    "    outliers_to_nan(trials, outliers=10)\n",
    "    spec = wavelet_scaleogram(trials, n_jobs=-2, decim=int(good.info['sfreq'] / 100))\n",
    "    crop_pad(spec, \"0.5s\")\n",
    "    spec_a = rescale(spec, base, copy=True, mode='ratio').average(\n",
    "            lambda x: np.nanmean(x, axis=0), copy=True)\n",
    "    spec_a._data = np.log10(spec_a._data) * 20\n",
    "    fnames = [os.path.relpath(f, layout.root) for f in good.filenames]\n",
    "    spec_a.info['subject_info']['files'] = tuple(fnames)\n",
    "    spec_a.info['bads'] = good.info['bads']\n",
    "    filename = os.path.join(save_dir, f'{event}-tfr.h5')\n",
    "    mne.time_frequency.write_tfrs(filename, spec_a, overwrite=True)\n",
    "    spec_a.save(os.path.join(save_dir, f'{event}-avg.fif'), overwrite=True)"
   ]
  }
 ],
 "metadata": {
  "kernelspec": {
   "display_name": "ieeg",
   "language": "python",
   "name": "python3"
  },
  "language_info": {
   "codemirror_mode": {
    "name": "ipython",
    "version": 3
   },
   "file_extension": ".py",
   "mimetype": "text/x-python",
   "name": "python",
   "nbconvert_exporter": "python",
   "pygments_lexer": "ipython3",
   "version": "3.11.3"
  },
  "orig_nbformat": 4
 },
 "nbformat": 4,
 "nbformat_minor": 2
}
