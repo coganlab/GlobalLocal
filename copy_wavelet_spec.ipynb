{
 "cells": [
  {
   "cell_type": "code",
   "execution_count": 1,
   "metadata": {
    "ExecuteTime": {
     "end_time": "2023-06-15T18:57:46.698495500Z",
     "start_time": "2023-06-15T18:57:41.919887100Z"
    }
   },
   "outputs": [],
   "source": [
    "import mne.time_frequency\n",
    "\n",
    "from ieeg.io import get_data, raw_from_layout\n",
    "from ieeg.navigate import trial_ieeg, channel_outlier_marker, crop_empty_data, outliers_to_nan\n",
    "from ieeg.calc.scaling import rescale\n",
    "import os\n",
    "from ieeg.timefreq.utils import wavelet_scaleogram, crop_pad\n",
    "import numpy as np"
   ]
  },
  {
   "cell_type": "code",
   "execution_count": 2,
   "metadata": {
    "ExecuteTime": {
     "end_time": "2023-06-15T18:57:53.702788900Z",
     "start_time": "2023-06-15T18:57:50.832600500Z"
    }
   },
   "outputs": [
    {
     "name": "stderr",
     "output_type": "stream",
     "text": [
      "C:\\Users\\Jakda\\anaconda3\\envs\\ieeg\\Lib\\site-packages\\bids\\layout\\layout.py:515: UserWarning: Derivative indexing was requested, but no valid datasets were found in the specified locations ([WindowsPath('C:/Users/Jakda/Box/CoganLab/BIDS-1.0_GlobalLocal/BIDS/derivatives')]). Note that all BIDS-Derivatives datasets must meet all the requirements for BIDS-Raw datasets (a common problem is to fail to include a 'dataset_description.json' file in derivatives datasets).\n",
      "Example contents of 'dataset_description.json':\n",
      "{\"Name\": \"Example dataset\", \"BIDSVersion\": \"1.0.2\", \"GeneratedBy\": [{\"Name\": \"Example pipeline\"}]}\n",
      "  warnings.warn(\"Derivative indexing was requested, but no valid \"\n"
     ]
    }
   ],
   "source": [
    "\n",
    "# manually set this for now since mac is different from windows, make more robust later\n",
    "# HOME = '/Users/jinjiang-macair/Library/CloudStorage'\n",
    "# os.path.expanduser(\"~\") SHOULD be '/Users/jinjiang-macair/'\n",
    "HOME = os.path.expanduser(\"~\")\n",
    "\n",
    "# get box directory depending on OS\n",
    "if os.name == 'nt': # windows\n",
    "    LAB_root = os.path.join(HOME, \"Box\", \"CoganLab\")\n",
    "else: # mac\n",
    "    LAB_root = os.path.join(HOME, \"Library\", \"CloudStorage\", \"Box-Box\", \"CoganLab\")\n",
    "\n",
    "layout = get_data(\"GlobalLocal\", root=LAB_root)\n",
    "subjects = layout.get(return_type=\"id\", target=\"subject\")\n"
   ]
  },
  {
   "cell_type": "code",
   "execution_count": null,
   "metadata": {
    "is_executing": true,
    "ExecuteTime": {
     "start_time": "2023-06-15T19:07:28.397500300Z"
    }
   },
   "outputs": [
    {
     "name": "stdout",
     "output_type": "stream",
     "text": [
      "['D0057', 'D0059', 'D0063', 'D0065', 'D0069', 'D0071']\n",
      "Extracting EDF parameters from C:\\Users\\Jakda\\Box\\CoganLab\\BIDS-1.0_GlobalLocal\\BIDS\\sub-D0057\\ieeg\\sub-D0057_task-GlobalLocal_acq-01_run-01_ieeg.edf...\n",
      "EDF file detected\n",
      "Setting channel info structure...\n",
      "Creating raw.info structure...\n",
      "Reading events from C:\\Users\\Jakda\\Box\\CoganLab\\BIDS-1.0_GlobalLocal\\BIDS\\sub-D0057\\ieeg\\sub-D0057_task-GlobalLocal_acq-01_run-01_events.tsv.\n",
      "Reading channel info from C:\\Users\\Jakda\\Box\\CoganLab\\BIDS-1.0_GlobalLocal\\BIDS\\sub-D0057\\ieeg\\sub-D0057_task-GlobalLocal_channels.tsv.\n",
      "Reading electrode coords from C:\\Users\\Jakda\\Box\\CoganLab\\BIDS-1.0_GlobalLocal\\BIDS\\sub-D0057\\ieeg\\sub-D0057_space-ACPC_electrodes.tsv.\n",
      "Extracting EDF parameters from C:\\Users\\Jakda\\Box\\CoganLab\\BIDS-1.0_GlobalLocal\\BIDS\\sub-D0057\\ieeg\\sub-D0057_task-GlobalLocal_acq-01_run-02_ieeg.edf...\n",
      "EDF file detected\n",
      "Setting channel info structure...\n",
      "Creating raw.info structure...\n"
     ]
    },
    {
     "name": "stderr",
     "output_type": "stream",
     "text": [
      "C:\\Users\\Jakda\\git\\GlobalLocal\\IEEG_Pipelines\\ieeg\\io.py:100: RuntimeWarning: The unit for channel(s) Trigger has changed from NA to V.\n",
      "  new_raw = read_raw_bids(bids_path=BIDS_path)\n",
      "C:\\Users\\Jakda\\git\\GlobalLocal\\IEEG_Pipelines\\ieeg\\io.py:100: RuntimeWarning: participants.tsv file not found for C:\\Users\\Jakda\\Box\\CoganLab\\BIDS-1.0_GlobalLocal\\BIDS\\sub-D0057\\ieeg\\sub-D0057_task-GlobalLocal_acq-01_run-01_ieeg.edf\n",
      "  new_raw = read_raw_bids(bids_path=BIDS_path)\n"
     ]
    },
    {
     "name": "stdout",
     "output_type": "stream",
     "text": [
      "Reading events from C:\\Users\\Jakda\\Box\\CoganLab\\BIDS-1.0_GlobalLocal\\BIDS\\sub-D0057\\ieeg\\sub-D0057_task-GlobalLocal_acq-01_run-02_events.tsv.\n",
      "Reading channel info from C:\\Users\\Jakda\\Box\\CoganLab\\BIDS-1.0_GlobalLocal\\BIDS\\sub-D0057\\ieeg\\sub-D0057_task-GlobalLocal_channels.tsv.\n",
      "Reading electrode coords from C:\\Users\\Jakda\\Box\\CoganLab\\BIDS-1.0_GlobalLocal\\BIDS\\sub-D0057\\ieeg\\sub-D0057_space-ACPC_electrodes.tsv.\n",
      "Extracting EDF parameters from C:\\Users\\Jakda\\Box\\CoganLab\\BIDS-1.0_GlobalLocal\\BIDS\\sub-D0057\\ieeg\\sub-D0057_task-GlobalLocal_acq-01_run-03_ieeg.edf...\n",
      "EDF file detected\n",
      "Setting channel info structure...\n",
      "Creating raw.info structure...\n"
     ]
    },
    {
     "name": "stderr",
     "output_type": "stream",
     "text": [
      "C:\\Users\\Jakda\\git\\GlobalLocal\\IEEG_Pipelines\\ieeg\\io.py:100: RuntimeWarning: The unit for channel(s) Trigger has changed from NA to V.\n",
      "  new_raw = read_raw_bids(bids_path=BIDS_path)\n",
      "C:\\Users\\Jakda\\git\\GlobalLocal\\IEEG_Pipelines\\ieeg\\io.py:100: RuntimeWarning: participants.tsv file not found for C:\\Users\\Jakda\\Box\\CoganLab\\BIDS-1.0_GlobalLocal\\BIDS\\sub-D0057\\ieeg\\sub-D0057_task-GlobalLocal_acq-01_run-02_ieeg.edf\n",
      "  new_raw = read_raw_bids(bids_path=BIDS_path)\n"
     ]
    },
    {
     "name": "stdout",
     "output_type": "stream",
     "text": [
      "Reading events from C:\\Users\\Jakda\\Box\\CoganLab\\BIDS-1.0_GlobalLocal\\BIDS\\sub-D0057\\ieeg\\sub-D0057_task-GlobalLocal_acq-01_run-03_events.tsv.\n",
      "Reading channel info from C:\\Users\\Jakda\\Box\\CoganLab\\BIDS-1.0_GlobalLocal\\BIDS\\sub-D0057\\ieeg\\sub-D0057_task-GlobalLocal_channels.tsv.\n",
      "Reading electrode coords from C:\\Users\\Jakda\\Box\\CoganLab\\BIDS-1.0_GlobalLocal\\BIDS\\sub-D0057\\ieeg\\sub-D0057_space-ACPC_electrodes.tsv.\n",
      "Extracting EDF parameters from C:\\Users\\Jakda\\Box\\CoganLab\\BIDS-1.0_GlobalLocal\\BIDS\\sub-D0057\\ieeg\\sub-D0057_task-GlobalLocal_acq-01_run-04_ieeg.edf...\n",
      "EDF file detected\n",
      "Setting channel info structure...\n",
      "Creating raw.info structure...\n"
     ]
    },
    {
     "name": "stderr",
     "output_type": "stream",
     "text": [
      "C:\\Users\\Jakda\\git\\GlobalLocal\\IEEG_Pipelines\\ieeg\\io.py:100: RuntimeWarning: The unit for channel(s) Trigger has changed from NA to V.\n",
      "  new_raw = read_raw_bids(bids_path=BIDS_path)\n",
      "C:\\Users\\Jakda\\git\\GlobalLocal\\IEEG_Pipelines\\ieeg\\io.py:100: RuntimeWarning: participants.tsv file not found for C:\\Users\\Jakda\\Box\\CoganLab\\BIDS-1.0_GlobalLocal\\BIDS\\sub-D0057\\ieeg\\sub-D0057_task-GlobalLocal_acq-01_run-03_ieeg.edf\n",
      "  new_raw = read_raw_bids(bids_path=BIDS_path)\n"
     ]
    },
    {
     "name": "stdout",
     "output_type": "stream",
     "text": [
      "Reading events from C:\\Users\\Jakda\\Box\\CoganLab\\BIDS-1.0_GlobalLocal\\BIDS\\sub-D0057\\ieeg\\sub-D0057_task-GlobalLocal_acq-01_run-04_events.tsv.\n",
      "Reading channel info from C:\\Users\\Jakda\\Box\\CoganLab\\BIDS-1.0_GlobalLocal\\BIDS\\sub-D0057\\ieeg\\sub-D0057_task-GlobalLocal_channels.tsv.\n",
      "Reading electrode coords from C:\\Users\\Jakda\\Box\\CoganLab\\BIDS-1.0_GlobalLocal\\BIDS\\sub-D0057\\ieeg\\sub-D0057_space-ACPC_electrodes.tsv.\n"
     ]
    },
    {
     "name": "stderr",
     "output_type": "stream",
     "text": [
      "C:\\Users\\Jakda\\git\\GlobalLocal\\IEEG_Pipelines\\ieeg\\io.py:100: RuntimeWarning: The unit for channel(s) Trigger has changed from NA to V.\n",
      "  new_raw = read_raw_bids(bids_path=BIDS_path)\n",
      "C:\\Users\\Jakda\\git\\GlobalLocal\\IEEG_Pipelines\\ieeg\\io.py:100: RuntimeWarning: participants.tsv file not found for C:\\Users\\Jakda\\Box\\CoganLab\\BIDS-1.0_GlobalLocal\\BIDS\\sub-D0057\\ieeg\\sub-D0057_task-GlobalLocal_acq-01_run-04_ieeg.edf\n",
      "  new_raw = read_raw_bids(bids_path=BIDS_path)\n"
     ]
    },
    {
     "name": "stdout",
     "output_type": "stream",
     "text": [
      "<RawEDF | sub-D0057_task-GlobalLocal_acq-01_run-01_ieeg.edf, 179 x 8237056 (4022.0 s), ~202 kB, data not loaded>\n",
      "outlier round 1 channels: ['RAMT8']\n",
      "outlier round 2 channels: ['RAMT8', 'RPI16']\n",
      "Reading 0 ... 3219820  =      0.000 ...  1572.178 secs...\n",
      "Applying average reference.\n",
      "Applying a custom ('sEEG',) reference.\n",
      "Used Annotations descriptions: ['Response', 'Stimulus']\n",
      "Not setting metadata\n",
      "448 matching events found\n",
      "No baseline correction applied\n",
      "0 projection items activated\n",
      "Using data from preloaded Raw for 448 events and 3073 original time points ...\n",
      "0 bad epochs dropped\n"
     ]
    },
    {
     "name": "stderr",
     "output_type": "stream",
     "text": [
      "[Parallel(n_jobs=-2)]: Using backend ThreadingBackend with 7 concurrent workers.\n",
      "[Parallel(n_jobs=-2)]: Done   4 tasks      | elapsed:   14.5s\n",
      "[Parallel(n_jobs=-2)]: Done  11 tasks      | elapsed:   29.8s\n",
      "[Parallel(n_jobs=-2)]: Done  18 tasks      | elapsed:   44.5s\n",
      "[Parallel(n_jobs=-2)]: Done  27 tasks      | elapsed:   59.1s\n",
      "[Parallel(n_jobs=-2)]: Done  36 tasks      | elapsed:  1.4min\n",
      "[Parallel(n_jobs=-2)]: Done  47 tasks      | elapsed:  1.7min\n",
      "[Parallel(n_jobs=-2)]: Done  58 tasks      | elapsed:  2.1min\n",
      "[Parallel(n_jobs=-2)]: Done  71 tasks      | elapsed:  2.6min\n",
      "[Parallel(n_jobs=-2)]: Done  84 tasks      | elapsed:  2.8min\n",
      "[Parallel(n_jobs=-2)]: Done  99 tasks      | elapsed:  3.5min\n",
      "[Parallel(n_jobs=-2)]: Done 114 tasks      | elapsed:  4.0min\n",
      "[Parallel(n_jobs=-2)]: Done 131 tasks      | elapsed:  4.5min\n",
      "[Parallel(n_jobs=-2)]: Done 148 tasks      | elapsed:  5.0min\n"
     ]
    },
    {
     "name": "stdout",
     "output_type": "stream",
     "text": [
      "Not setting metadata\n"
     ]
    },
    {
     "name": "stderr",
     "output_type": "stream",
     "text": [
      "[Parallel(n_jobs=-2)]: Done 177 out of 177 | elapsed:  6.0min finished\n"
     ]
    },
    {
     "name": "stdout",
     "output_type": "stream",
     "text": [
      "Used Annotations descriptions: ['Response', 'Stimulus']\n",
      "Not setting metadata\n",
      "448 matching events found\n",
      "No baseline correction applied\n",
      "0 projection items activated\n",
      "Using data from preloaded Raw for 448 events and 4097 original time points ...\n",
      "0 bad epochs dropped\n"
     ]
    },
    {
     "name": "stderr",
     "output_type": "stream",
     "text": [
      "[Parallel(n_jobs=-2)]: Using backend ThreadingBackend with 7 concurrent workers.\n",
      "[Parallel(n_jobs=-2)]: Done   4 tasks      | elapsed:   22.9s\n",
      "[Parallel(n_jobs=-2)]: Done  11 tasks      | elapsed:   39.5s\n",
      "[Parallel(n_jobs=-2)]: Done  18 tasks      | elapsed:   56.9s\n",
      "[Parallel(n_jobs=-2)]: Done  27 tasks      | elapsed:  1.3min\n",
      "[Parallel(n_jobs=-2)]: Done  36 tasks      | elapsed:  1.7min\n",
      "[Parallel(n_jobs=-2)]: Done  47 tasks      | elapsed:  2.1min\n",
      "[Parallel(n_jobs=-2)]: Done  58 tasks      | elapsed:  2.7min\n",
      "[Parallel(n_jobs=-2)]: Done  71 tasks      | elapsed:  3.0min\n",
      "[Parallel(n_jobs=-2)]: Done  84 tasks      | elapsed:  3.5min\n"
     ]
    }
   ],
   "source": [
    "print(subjects)\n",
    "for sub in subjects:\n",
    "    # if sub != \"D0022\":\n",
    "    #     continue\n",
    "    # Load the data\n",
    "    filt = raw_from_layout(layout, subject=sub,\n",
    "                           extension='.edf', preload=False)\n",
    "    print(filt)\n",
    "\n",
    "    ## Crop raw data to minimize processing time\n",
    "    good = crop_empty_data(filt)\n",
    "\n",
    "    # good.drop_channels(good.info['bads'])\n",
    "    good.info['bads'] = channel_outlier_marker(good, 3, 2)\n",
    "    good.drop_channels(good.info['bads'])\n",
    "    # good.info['bads'] += channel_outlier_marker(good, 4, 2)\n",
    "    # good.drop_channels(good.info['bads'])\n",
    "    good.load_data()\n",
    "\n",
    "    ch_type = filt.get_channel_types(only_data_chs=True)[0]\n",
    "    good.set_eeg_reference(ref_channels=\"average\", ch_type=ch_type)\n",
    "\n",
    "    # Remove intermediates from mem\n",
    "    # good.plot()\n",
    "\n",
    "    ## epoching and trial outlier removal\n",
    "\n",
    "    save_dir = os.path.join(layout.root, 'derivatives', 'spec', 'wavelet', sub)\n",
    "    if not os.path.exists(save_dir):\n",
    "        os.makedirs(save_dir)\n",
    "\n",
    "    # This part will change when I fix the events\n",
    "    for epoch, t, name in zip(\n",
    "            (\"Stimulus\", \"Stimulus\",  \"Response\"),\n",
    "            ((-0.5, 0), (0, 1), (-0.5, 0.5)),\n",
    "            (\"base\", \"stim\", \"resp\")):\n",
    "        times = [None, None]\n",
    "        times[0] = t[0] - 0.5\n",
    "        times[1] = t[1] + 0.5\n",
    "        trials = trial_ieeg(good, epoch, times, preload=True)\n",
    "        outliers_to_nan(trials, outliers=10)\n",
    "        spec = wavelet_scaleogram(trials, n_jobs=-2, decim=int(\n",
    "            good.info['sfreq'] / 100))\n",
    "        crop_pad(spec, \"0.5s\")\n",
    "        if name == \"base\":\n",
    "            base = spec.copy()\n",
    "            continue\n",
    "        spec_a = rescale(spec, base, copy=True, mode='ratio').average(\n",
    "            lambda x: np.nanmean(x, axis=0), copy=True)\n",
    "        spec_a._data = np.log10(spec_a._data) * 20\n",
    "        fnames = [os.path.relpath(f, layout.root) for f in good.filenames]\n",
    "        spec_a.info['subject_info']['files'] = tuple(fnames)\n",
    "        spec_a.info['bads'] = good.info['bads']\n",
    "        filename = os.path.join(save_dir, f'{name}-tfr.h5')\n",
    "        mne.time_frequency.write_tfrs(filename, spec_a, overwrite=True)\n",
    "        spec_a.save(os.path.join(save_dir, f'{name}-avg.fif'), overwrite=True)"
   ]
  },
  {
   "attachments": {},
   "cell_type": "markdown",
   "metadata": {},
   "source": []
  }
 ],
 "metadata": {
  "kernelspec": {
   "display_name": "Python 3",
   "language": "python",
   "name": "python3"
  },
  "language_info": {
   "codemirror_mode": {
    "name": "ipython",
    "version": 3
   },
   "file_extension": ".py",
   "mimetype": "text/x-python",
   "name": "python",
   "nbconvert_exporter": "python",
   "pygments_lexer": "ipython3",
   "version": "3.11.3"
  },
  "orig_nbformat": 4
 },
 "nbformat": 4,
 "nbformat_minor": 2
}
