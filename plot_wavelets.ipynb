{
 "cells": [
  {
   "cell_type": "code",
   "execution_count": 2,
   "metadata": {},
   "outputs": [],
   "source": [
    "import mne.time_frequency\n",
    "from ieeg.viz.ensemble import chan_grid\n",
    "from ieeg.viz.parula import parula_map\n",
    "from ieeg.io import get_data, update, get_bad_chans\n",
    "import os\n",
    "import matplotlib.pyplot as plt\n",
    "from wavelet_functions import load_wavelets"
   ]
  },
  {
   "cell_type": "markdown",
   "metadata": {},
   "source": [
    "new method of plotting just the rescaled wavelets 2/28/25"
   ]
  },
  {
   "cell_type": "code",
   "execution_count": 6,
   "metadata": {},
   "outputs": [
    {
     "name": "stdout",
     "output_type": "stream",
     "text": [
      "Reading C:\\Users\\jz421\\Box\\CoganLab\\BIDS-1.1_GlobalLocal\\BIDS\\derivatives\\spec\\wavelet\\D0057\\Stimulus_s25and75_fixationCrossBase_0.5sec_rescaled-tfr.h5 ...\n",
      "No baseline correction applied\n",
      "No baseline correction applied\n",
      "No baseline correction applied\n",
      "No baseline correction applied\n",
      "No baseline correction applied\n",
      "No baseline correction applied\n",
      "No baseline correction applied\n",
      "No baseline correction applied\n",
      "No baseline correction applied\n",
      "No baseline correction applied\n",
      "No baseline correction applied\n",
      "No baseline correction applied\n",
      "No baseline correction applied\n",
      "No baseline correction applied\n",
      "No baseline correction applied\n",
      "No baseline correction applied\n",
      "No baseline correction applied\n",
      "No baseline correction applied\n",
      "No baseline correction applied\n",
      "No baseline correction applied\n",
      "No baseline correction applied\n",
      "No baseline correction applied\n",
      "No baseline correction applied\n",
      "No baseline correction applied\n",
      "No baseline correction applied\n",
      "No baseline correction applied\n",
      "No baseline correction applied\n",
      "No baseline correction applied\n",
      "No baseline correction applied\n",
      "No baseline correction applied\n",
      "No baseline correction applied\n",
      "No baseline correction applied\n",
      "No baseline correction applied\n",
      "No baseline correction applied\n",
      "No baseline correction applied\n",
      "No baseline correction applied\n",
      "No baseline correction applied\n",
      "No baseline correction applied\n",
      "No baseline correction applied\n",
      "No baseline correction applied\n",
      "No baseline correction applied\n",
      "No baseline correction applied\n",
      "No baseline correction applied\n",
      "No baseline correction applied\n",
      "No baseline correction applied\n",
      "No baseline correction applied\n",
      "No baseline correction applied\n",
      "No baseline correction applied\n",
      "No baseline correction applied\n",
      "No baseline correction applied\n",
      "No baseline correction applied\n",
      "No baseline correction applied\n",
      "No baseline correction applied\n",
      "No baseline correction applied\n",
      "No baseline correction applied\n",
      "No baseline correction applied\n",
      "No baseline correction applied\n",
      "No baseline correction applied\n",
      "No baseline correction applied\n",
      "No baseline correction applied\n",
      "No baseline correction applied\n",
      "No baseline correction applied\n",
      "No baseline correction applied\n",
      "No baseline correction applied\n",
      "No baseline correction applied\n",
      "No baseline correction applied\n",
      "No baseline correction applied\n",
      "No baseline correction applied\n",
      "No baseline correction applied\n",
      "No baseline correction applied\n",
      "No baseline correction applied\n",
      "No baseline correction applied\n",
      "No baseline correction applied\n",
      "No baseline correction applied\n",
      "No baseline correction applied\n",
      "No baseline correction applied\n",
      "No baseline correction applied\n",
      "No baseline correction applied\n",
      "No baseline correction applied\n",
      "No baseline correction applied\n",
      "No baseline correction applied\n",
      "No baseline correction applied\n",
      "No baseline correction applied\n",
      "No baseline correction applied\n",
      "No baseline correction applied\n",
      "No baseline correction applied\n",
      "No baseline correction applied\n",
      "No baseline correction applied\n",
      "No baseline correction applied\n",
      "No baseline correction applied\n",
      "No baseline correction applied\n",
      "No baseline correction applied\n",
      "No baseline correction applied\n",
      "No baseline correction applied\n",
      "No baseline correction applied\n",
      "No baseline correction applied\n",
      "No baseline correction applied\n",
      "No baseline correction applied\n",
      "No baseline correction applied\n",
      "No baseline correction applied\n",
      "No baseline correction applied\n",
      "No baseline correction applied\n",
      "No baseline correction applied\n",
      "No baseline correction applied\n",
      "No baseline correction applied\n",
      "No baseline correction applied\n",
      "No baseline correction applied\n",
      "No baseline correction applied\n",
      "No baseline correction applied\n",
      "No baseline correction applied\n",
      "No baseline correction applied\n",
      "No baseline correction applied\n",
      "No baseline correction applied\n",
      "No baseline correction applied\n",
      "No baseline correction applied\n",
      "No baseline correction applied\n",
      "No baseline correction applied\n",
      "No baseline correction applied\n",
      "No baseline correction applied\n",
      "No baseline correction applied\n",
      "No baseline correction applied\n",
      "No baseline correction applied\n",
      "No baseline correction applied\n",
      "No baseline correction applied\n",
      "No baseline correction applied\n",
      "No baseline correction applied\n",
      "No baseline correction applied\n",
      "No baseline correction applied\n",
      "No baseline correction applied\n",
      "No baseline correction applied\n",
      "No baseline correction applied\n",
      "No baseline correction applied\n",
      "No baseline correction applied\n",
      "No baseline correction applied\n",
      "No baseline correction applied\n",
      "No baseline correction applied\n",
      "No baseline correction applied\n",
      "No baseline correction applied\n",
      "No baseline correction applied\n",
      "No baseline correction applied\n",
      "No baseline correction applied\n",
      "No baseline correction applied\n",
      "No baseline correction applied\n",
      "No baseline correction applied\n",
      "No baseline correction applied\n",
      "No baseline correction applied\n",
      "No baseline correction applied\n",
      "No baseline correction applied\n",
      "No baseline correction applied\n",
      "No baseline correction applied\n",
      "No baseline correction applied\n",
      "No baseline correction applied\n",
      "No baseline correction applied\n",
      "No baseline correction applied\n",
      "No baseline correction applied\n",
      "No baseline correction applied\n",
      "No baseline correction applied\n",
      "No baseline correction applied\n",
      "No baseline correction applied\n",
      "No baseline correction applied\n",
      "No baseline correction applied\n",
      "No baseline correction applied\n",
      "No baseline correction applied\n",
      "No baseline correction applied\n",
      "No baseline correction applied\n",
      "No baseline correction applied\n",
      "No baseline correction applied\n",
      "No baseline correction applied\n",
      "No baseline correction applied\n",
      "No baseline correction applied\n",
      "No baseline correction applied\n",
      "No baseline correction applied\n",
      "No baseline correction applied\n",
      "No baseline correction applied\n",
      "No baseline correction applied\n",
      "Saved figure: D0057_Stimulus_s25and75_fixationCrossBase_0.5sec_rescaled_1.jpg\n",
      "Saved figure: D0057_Stimulus_s25and75_fixationCrossBase_0.5sec_rescaled_2.jpg\n",
      "Saved figure: D0057_Stimulus_s25and75_fixationCrossBase_0.5sec_rescaled_3.jpg\n",
      "Reading C:\\Users\\jz421\\Box\\CoganLab\\BIDS-1.1_GlobalLocal\\BIDS\\derivatives\\spec\\wavelet\\D0057\\Stimulus_r25and75_fixationCrossBase_0.5sec_rescaled-tfr.h5 ...\n",
      "No baseline correction applied\n",
      "No baseline correction applied\n",
      "No baseline correction applied\n",
      "No baseline correction applied\n",
      "No baseline correction applied\n",
      "No baseline correction applied\n",
      "No baseline correction applied\n",
      "No baseline correction applied\n",
      "No baseline correction applied\n",
      "No baseline correction applied\n",
      "No baseline correction applied\n",
      "No baseline correction applied\n",
      "No baseline correction applied\n",
      "No baseline correction applied\n",
      "No baseline correction applied\n",
      "No baseline correction applied\n",
      "No baseline correction applied\n",
      "No baseline correction applied\n",
      "No baseline correction applied\n",
      "No baseline correction applied\n",
      "No baseline correction applied\n",
      "No baseline correction applied\n",
      "No baseline correction applied\n",
      "No baseline correction applied\n",
      "No baseline correction applied\n",
      "No baseline correction applied\n",
      "No baseline correction applied\n",
      "No baseline correction applied\n",
      "No baseline correction applied\n",
      "No baseline correction applied\n",
      "No baseline correction applied\n",
      "No baseline correction applied\n",
      "No baseline correction applied\n",
      "No baseline correction applied\n",
      "No baseline correction applied\n",
      "No baseline correction applied\n",
      "No baseline correction applied\n",
      "No baseline correction applied\n",
      "No baseline correction applied\n",
      "No baseline correction applied\n",
      "No baseline correction applied\n",
      "No baseline correction applied\n",
      "No baseline correction applied\n",
      "No baseline correction applied\n",
      "No baseline correction applied\n",
      "No baseline correction applied\n",
      "No baseline correction applied\n",
      "No baseline correction applied\n",
      "No baseline correction applied\n",
      "No baseline correction applied\n",
      "No baseline correction applied\n",
      "No baseline correction applied\n",
      "No baseline correction applied\n",
      "No baseline correction applied\n",
      "No baseline correction applied\n",
      "No baseline correction applied\n",
      "No baseline correction applied\n",
      "No baseline correction applied\n",
      "No baseline correction applied\n",
      "No baseline correction applied\n",
      "No baseline correction applied\n",
      "No baseline correction applied\n",
      "No baseline correction applied\n",
      "No baseline correction applied\n",
      "No baseline correction applied\n",
      "No baseline correction applied\n",
      "No baseline correction applied\n",
      "No baseline correction applied\n",
      "No baseline correction applied\n",
      "No baseline correction applied\n",
      "No baseline correction applied\n",
      "No baseline correction applied\n",
      "No baseline correction applied\n",
      "No baseline correction applied\n",
      "No baseline correction applied\n",
      "No baseline correction applied\n",
      "No baseline correction applied\n",
      "No baseline correction applied\n",
      "No baseline correction applied\n",
      "No baseline correction applied\n",
      "No baseline correction applied\n",
      "No baseline correction applied\n",
      "No baseline correction applied\n",
      "No baseline correction applied\n",
      "No baseline correction applied\n",
      "No baseline correction applied\n",
      "No baseline correction applied\n",
      "No baseline correction applied\n",
      "No baseline correction applied\n",
      "No baseline correction applied\n",
      "No baseline correction applied\n",
      "No baseline correction applied\n",
      "No baseline correction applied\n",
      "No baseline correction applied\n",
      "No baseline correction applied\n",
      "No baseline correction applied\n",
      "No baseline correction applied\n",
      "No baseline correction applied\n",
      "No baseline correction applied\n",
      "No baseline correction applied\n",
      "No baseline correction applied\n",
      "No baseline correction applied\n",
      "No baseline correction applied\n",
      "No baseline correction applied\n",
      "No baseline correction applied\n",
      "No baseline correction applied\n",
      "No baseline correction applied\n",
      "No baseline correction applied\n",
      "No baseline correction applied\n",
      "No baseline correction applied\n",
      "No baseline correction applied\n",
      "No baseline correction applied\n",
      "No baseline correction applied\n",
      "No baseline correction applied\n",
      "No baseline correction applied\n",
      "No baseline correction applied\n",
      "No baseline correction applied\n",
      "No baseline correction applied\n",
      "No baseline correction applied\n",
      "No baseline correction applied\n",
      "No baseline correction applied\n",
      "No baseline correction applied\n",
      "No baseline correction applied\n",
      "No baseline correction applied\n",
      "No baseline correction applied\n",
      "No baseline correction applied\n",
      "No baseline correction applied\n",
      "No baseline correction applied\n",
      "No baseline correction applied\n",
      "No baseline correction applied\n",
      "No baseline correction applied\n",
      "No baseline correction applied\n",
      "No baseline correction applied\n",
      "No baseline correction applied\n",
      "No baseline correction applied\n",
      "No baseline correction applied\n",
      "No baseline correction applied\n",
      "No baseline correction applied\n",
      "No baseline correction applied\n",
      "No baseline correction applied\n",
      "No baseline correction applied\n",
      "No baseline correction applied\n",
      "No baseline correction applied\n",
      "No baseline correction applied\n",
      "No baseline correction applied\n",
      "No baseline correction applied\n",
      "No baseline correction applied\n",
      "No baseline correction applied\n",
      "No baseline correction applied\n",
      "No baseline correction applied\n",
      "No baseline correction applied\n",
      "No baseline correction applied\n",
      "No baseline correction applied\n",
      "No baseline correction applied\n",
      "No baseline correction applied\n",
      "No baseline correction applied\n",
      "No baseline correction applied\n",
      "No baseline correction applied\n",
      "No baseline correction applied\n",
      "No baseline correction applied\n",
      "No baseline correction applied\n",
      "No baseline correction applied\n",
      "No baseline correction applied\n",
      "No baseline correction applied\n",
      "No baseline correction applied\n",
      "No baseline correction applied\n",
      "No baseline correction applied\n",
      "No baseline correction applied\n",
      "No baseline correction applied\n",
      "No baseline correction applied\n",
      "No baseline correction applied\n",
      "No baseline correction applied\n",
      "No baseline correction applied\n",
      "No baseline correction applied\n",
      "No baseline correction applied\n",
      "Saved figure: D0057_Stimulus_r25and75_fixationCrossBase_0.5sec_rescaled_1.jpg\n",
      "Saved figure: D0057_Stimulus_r25and75_fixationCrossBase_0.5sec_rescaled_2.jpg\n",
      "Saved figure: D0057_Stimulus_r25and75_fixationCrossBase_0.5sec_rescaled_3.jpg\n"
     ]
    }
   ],
   "source": [
    "HOME = os.path.expanduser(\"~\")\n",
    "\n",
    "# get box directory depending on OS\n",
    "if os.name == 'nt': # windows\n",
    "    LAB_root = os.path.join(HOME, \"Box\", \"CoganLab\")\n",
    "else: # mac\n",
    "    LAB_root = os.path.join(HOME, \"Library\", \"CloudStorage\", \"Box-Box\", \"CoganLab\")\n",
    "\n",
    "subjects = ['D0057']\n",
    "\n",
    "rescaled=True\n",
    "\n",
    "for sub in subjects:\n",
    "    # define output_names that you want to plot wavelets for\n",
    "    output_names = ['Stimulus_s25and75_fixationCrossBase_0.5sec', 'Stimulus_r25and75_fixationCrossBase_0.5sec']\n",
    "\n",
    "    layout = get_data(\"GlobalLocal\", root=LAB_root)\n",
    "\n",
    "    fig_path = os.path.join(layout.root, 'derivatives', 'spec', 'wavelet', 'figs')\n",
    "\n",
    "    for output_name in output_names:\n",
    "        spec = load_wavelets(sub, layout, output_name, rescaled)\n",
    "            \n",
    "        info_file = os.path.join(layout.root, spec.info['subject_info']['files'][0])\n",
    "\n",
    "        # Check channels for outliers and remove them\n",
    "        all_bad = get_bad_chans(info_file)\n",
    "        spec.info.update(bads=[b for b in all_bad if b in spec.ch_names])\n",
    "\n",
    "        # Plotting\n",
    "        figs = chan_grid(spec, size=(20, 10), vmin=-2, vmax=2, cmap=parula_map, show=False)\n",
    "\n",
    "        for i, f in enumerate(figs):\n",
    "            if rescaled:\n",
    "                fig_name = f'{sub}_{output_name}_rescaled_{i+1}.jpg'\n",
    "            else:\n",
    "                fig_name = f'{sub}_{output_name}_uncorrected_{i+1}.jpg'\n",
    "\n",
    "            fig_pathname = os.path.join(fig_path, fig_name)\n",
    "            f.savefig(fig_pathname, bbox_inches='tight')\n",
    "            print(\"Saved figure:\", fig_name)\n"
   ]
  },
  {
   "attachments": {},
   "cell_type": "markdown",
   "metadata": {},
   "source": [
    "### plot averaged wavelet for all stimulus and response"
   ]
  },
  {
   "cell_type": "markdown",
   "metadata": {},
   "source": [
    "do a list of subjects"
   ]
  },
  {
   "cell_type": "markdown",
   "metadata": {},
   "source": [
    "old method below that didn't rename the tfr files to have rescaled or uncorrected as prefixes (so just output_name-avg.fif instead of output_name_rescaled-avg.fif or output_name_uncorrected-avg.fif)"
   ]
  },
  {
   "cell_type": "code",
   "execution_count": 2,
   "metadata": {},
   "outputs": [
    {
     "name": "stdout",
     "output_type": "stream",
     "text": [
      "Filename: C:\\Users\\jz421\\Box\\CoganLab\\BIDS-1.1_GlobalLocal\\BIDS\\derivatives\\spec\\wavelet\\D0117\\Stimulus_fullTrialBase-tfr.h5\n",
      "Reading C:\\Users\\jz421\\Box\\CoganLab\\BIDS-1.1_GlobalLocal\\BIDS\\derivatives\\spec\\wavelet\\D0117\\Stimulus_fullTrialBase-tfr.h5 ...\n",
      "No baseline correction applied\n"
     ]
    },
    {
     "name": "stderr",
     "output_type": "stream",
     "text": [
      "C:\\Users\\jz421\\Desktop\\GlobalLocal\\IEEG_Pipelines\\ieeg\\viz\\ensemble.py:141: FutureWarning: Parameters `vmin` and `vmax` are deprecated, use `vlim` instead.\n",
      "  plot_func(picks=[chan], axes=ax, show=False, **kwargs)\n"
     ]
    },
    {
     "name": "stdout",
     "output_type": "stream",
     "text": [
      "No baseline correction applied\n"
     ]
    },
    {
     "name": "stderr",
     "output_type": "stream",
     "text": [
      "C:\\Users\\jz421\\Desktop\\GlobalLocal\\IEEG_Pipelines\\ieeg\\viz\\ensemble.py:141: FutureWarning: Parameters `vmin` and `vmax` are deprecated, use `vlim` instead.\n",
      "  plot_func(picks=[chan], axes=ax, show=False, **kwargs)\n"
     ]
    },
    {
     "name": "stdout",
     "output_type": "stream",
     "text": [
      "No baseline correction applied\n"
     ]
    },
    {
     "name": "stderr",
     "output_type": "stream",
     "text": [
      "C:\\Users\\jz421\\Desktop\\GlobalLocal\\IEEG_Pipelines\\ieeg\\viz\\ensemble.py:141: FutureWarning: Parameters `vmin` and `vmax` are deprecated, use `vlim` instead.\n",
      "  plot_func(picks=[chan], axes=ax, show=False, **kwargs)\n",
      "C:\\Users\\jz421\\Desktop\\GlobalLocal\\IEEG_Pipelines\\ieeg\\viz\\ensemble.py:141: FutureWarning: Parameters `vmin` and `vmax` are deprecated, use `vlim` instead.\n",
      "  plot_func(picks=[chan], axes=ax, show=False, **kwargs)\n"
     ]
    },
    {
     "name": "stdout",
     "output_type": "stream",
     "text": [
      "No baseline correction applied\n",
      "No baseline correction applied\n"
     ]
    },
    {
     "name": "stderr",
     "output_type": "stream",
     "text": [
      "C:\\Users\\jz421\\Desktop\\GlobalLocal\\IEEG_Pipelines\\ieeg\\viz\\ensemble.py:141: FutureWarning: Parameters `vmin` and `vmax` are deprecated, use `vlim` instead.\n",
      "  plot_func(picks=[chan], axes=ax, show=False, **kwargs)\n",
      "C:\\Users\\jz421\\Desktop\\GlobalLocal\\IEEG_Pipelines\\ieeg\\viz\\ensemble.py:141: FutureWarning: Parameters `vmin` and `vmax` are deprecated, use `vlim` instead.\n",
      "  plot_func(picks=[chan], axes=ax, show=False, **kwargs)\n"
     ]
    },
    {
     "name": "stdout",
     "output_type": "stream",
     "text": [
      "No baseline correction applied\n",
      "No baseline correction applied\n",
      "No baseline correction applied\n"
     ]
    },
    {
     "name": "stderr",
     "output_type": "stream",
     "text": [
      "C:\\Users\\jz421\\Desktop\\GlobalLocal\\IEEG_Pipelines\\ieeg\\viz\\ensemble.py:141: FutureWarning: Parameters `vmin` and `vmax` are deprecated, use `vlim` instead.\n",
      "  plot_func(picks=[chan], axes=ax, show=False, **kwargs)\n",
      "C:\\Users\\jz421\\Desktop\\GlobalLocal\\IEEG_Pipelines\\ieeg\\viz\\ensemble.py:141: FutureWarning: Parameters `vmin` and `vmax` are deprecated, use `vlim` instead.\n",
      "  plot_func(picks=[chan], axes=ax, show=False, **kwargs)\n"
     ]
    },
    {
     "name": "stdout",
     "output_type": "stream",
     "text": [
      "No baseline correction applied\n",
      "No baseline correction applied\n"
     ]
    },
    {
     "name": "stderr",
     "output_type": "stream",
     "text": [
      "C:\\Users\\jz421\\Desktop\\GlobalLocal\\IEEG_Pipelines\\ieeg\\viz\\ensemble.py:141: FutureWarning: Parameters `vmin` and `vmax` are deprecated, use `vlim` instead.\n",
      "  plot_func(picks=[chan], axes=ax, show=False, **kwargs)\n",
      "C:\\Users\\jz421\\Desktop\\GlobalLocal\\IEEG_Pipelines\\ieeg\\viz\\ensemble.py:141: FutureWarning: Parameters `vmin` and `vmax` are deprecated, use `vlim` instead.\n",
      "  plot_func(picks=[chan], axes=ax, show=False, **kwargs)\n"
     ]
    },
    {
     "name": "stdout",
     "output_type": "stream",
     "text": [
      "No baseline correction applied\n",
      "No baseline correction applied\n"
     ]
    },
    {
     "name": "stderr",
     "output_type": "stream",
     "text": [
      "C:\\Users\\jz421\\Desktop\\GlobalLocal\\IEEG_Pipelines\\ieeg\\viz\\ensemble.py:141: FutureWarning: Parameters `vmin` and `vmax` are deprecated, use `vlim` instead.\n",
      "  plot_func(picks=[chan], axes=ax, show=False, **kwargs)\n",
      "C:\\Users\\jz421\\Desktop\\GlobalLocal\\IEEG_Pipelines\\ieeg\\viz\\ensemble.py:141: FutureWarning: Parameters `vmin` and `vmax` are deprecated, use `vlim` instead.\n",
      "  plot_func(picks=[chan], axes=ax, show=False, **kwargs)\n"
     ]
    },
    {
     "name": "stdout",
     "output_type": "stream",
     "text": [
      "No baseline correction applied\n"
     ]
    },
    {
     "name": "stderr",
     "output_type": "stream",
     "text": [
      "C:\\Users\\jz421\\Desktop\\GlobalLocal\\IEEG_Pipelines\\ieeg\\viz\\ensemble.py:141: FutureWarning: Parameters `vmin` and `vmax` are deprecated, use `vlim` instead.\n",
      "  plot_func(picks=[chan], axes=ax, show=False, **kwargs)\n"
     ]
    },
    {
     "name": "stdout",
     "output_type": "stream",
     "text": [
      "No baseline correction applied\n"
     ]
    },
    {
     "name": "stderr",
     "output_type": "stream",
     "text": [
      "C:\\Users\\jz421\\Desktop\\GlobalLocal\\IEEG_Pipelines\\ieeg\\viz\\ensemble.py:141: FutureWarning: Parameters `vmin` and `vmax` are deprecated, use `vlim` instead.\n",
      "  plot_func(picks=[chan], axes=ax, show=False, **kwargs)\n",
      "C:\\Users\\jz421\\Desktop\\GlobalLocal\\IEEG_Pipelines\\ieeg\\viz\\ensemble.py:141: FutureWarning: Parameters `vmin` and `vmax` are deprecated, use `vlim` instead.\n",
      "  plot_func(picks=[chan], axes=ax, show=False, **kwargs)\n"
     ]
    },
    {
     "name": "stdout",
     "output_type": "stream",
     "text": [
      "No baseline correction applied\n",
      "No baseline correction applied\n",
      "No baseline correction applied\n"
     ]
    },
    {
     "name": "stderr",
     "output_type": "stream",
     "text": [
      "C:\\Users\\jz421\\Desktop\\GlobalLocal\\IEEG_Pipelines\\ieeg\\viz\\ensemble.py:141: FutureWarning: Parameters `vmin` and `vmax` are deprecated, use `vlim` instead.\n",
      "  plot_func(picks=[chan], axes=ax, show=False, **kwargs)\n",
      "C:\\Users\\jz421\\Desktop\\GlobalLocal\\IEEG_Pipelines\\ieeg\\viz\\ensemble.py:141: FutureWarning: Parameters `vmin` and `vmax` are deprecated, use `vlim` instead.\n",
      "  plot_func(picks=[chan], axes=ax, show=False, **kwargs)\n"
     ]
    },
    {
     "name": "stdout",
     "output_type": "stream",
     "text": [
      "No baseline correction applied\n"
     ]
    },
    {
     "name": "stderr",
     "output_type": "stream",
     "text": [
      "C:\\Users\\jz421\\Desktop\\GlobalLocal\\IEEG_Pipelines\\ieeg\\viz\\ensemble.py:141: FutureWarning: Parameters `vmin` and `vmax` are deprecated, use `vlim` instead.\n",
      "  plot_func(picks=[chan], axes=ax, show=False, **kwargs)\n"
     ]
    },
    {
     "name": "stdout",
     "output_type": "stream",
     "text": [
      "No baseline correction applied\n",
      "No baseline correction applied\n"
     ]
    },
    {
     "name": "stderr",
     "output_type": "stream",
     "text": [
      "C:\\Users\\jz421\\Desktop\\GlobalLocal\\IEEG_Pipelines\\ieeg\\viz\\ensemble.py:141: FutureWarning: Parameters `vmin` and `vmax` are deprecated, use `vlim` instead.\n",
      "  plot_func(picks=[chan], axes=ax, show=False, **kwargs)\n",
      "C:\\Users\\jz421\\Desktop\\GlobalLocal\\IEEG_Pipelines\\ieeg\\viz\\ensemble.py:141: FutureWarning: Parameters `vmin` and `vmax` are deprecated, use `vlim` instead.\n",
      "  plot_func(picks=[chan], axes=ax, show=False, **kwargs)\n"
     ]
    },
    {
     "name": "stdout",
     "output_type": "stream",
     "text": [
      "No baseline correction applied\n",
      "No baseline correction applied\n"
     ]
    },
    {
     "name": "stderr",
     "output_type": "stream",
     "text": [
      "C:\\Users\\jz421\\Desktop\\GlobalLocal\\IEEG_Pipelines\\ieeg\\viz\\ensemble.py:141: FutureWarning: Parameters `vmin` and `vmax` are deprecated, use `vlim` instead.\n",
      "  plot_func(picks=[chan], axes=ax, show=False, **kwargs)\n",
      "C:\\Users\\jz421\\Desktop\\GlobalLocal\\IEEG_Pipelines\\ieeg\\viz\\ensemble.py:141: FutureWarning: Parameters `vmin` and `vmax` are deprecated, use `vlim` instead.\n",
      "  plot_func(picks=[chan], axes=ax, show=False, **kwargs)\n"
     ]
    },
    {
     "name": "stdout",
     "output_type": "stream",
     "text": [
      "No baseline correction applied\n"
     ]
    },
    {
     "name": "stderr",
     "output_type": "stream",
     "text": [
      "C:\\Users\\jz421\\Desktop\\GlobalLocal\\IEEG_Pipelines\\ieeg\\viz\\ensemble.py:141: FutureWarning: Parameters `vmin` and `vmax` are deprecated, use `vlim` instead.\n",
      "  plot_func(picks=[chan], axes=ax, show=False, **kwargs)\n"
     ]
    },
    {
     "name": "stdout",
     "output_type": "stream",
     "text": [
      "No baseline correction applied\n",
      "No baseline correction applied\n"
     ]
    },
    {
     "name": "stderr",
     "output_type": "stream",
     "text": [
      "C:\\Users\\jz421\\Desktop\\GlobalLocal\\IEEG_Pipelines\\ieeg\\viz\\ensemble.py:141: FutureWarning: Parameters `vmin` and `vmax` are deprecated, use `vlim` instead.\n",
      "  plot_func(picks=[chan], axes=ax, show=False, **kwargs)\n",
      "C:\\Users\\jz421\\Desktop\\GlobalLocal\\IEEG_Pipelines\\ieeg\\viz\\ensemble.py:141: FutureWarning: Parameters `vmin` and `vmax` are deprecated, use `vlim` instead.\n",
      "  plot_func(picks=[chan], axes=ax, show=False, **kwargs)\n"
     ]
    },
    {
     "name": "stdout",
     "output_type": "stream",
     "text": [
      "No baseline correction applied\n",
      "No baseline correction applied\n"
     ]
    },
    {
     "name": "stderr",
     "output_type": "stream",
     "text": [
      "C:\\Users\\jz421\\Desktop\\GlobalLocal\\IEEG_Pipelines\\ieeg\\viz\\ensemble.py:141: FutureWarning: Parameters `vmin` and `vmax` are deprecated, use `vlim` instead.\n",
      "  plot_func(picks=[chan], axes=ax, show=False, **kwargs)\n",
      "C:\\Users\\jz421\\Desktop\\GlobalLocal\\IEEG_Pipelines\\ieeg\\viz\\ensemble.py:141: FutureWarning: Parameters `vmin` and `vmax` are deprecated, use `vlim` instead.\n",
      "  plot_func(picks=[chan], axes=ax, show=False, **kwargs)\n"
     ]
    },
    {
     "name": "stdout",
     "output_type": "stream",
     "text": [
      "No baseline correction applied\n"
     ]
    },
    {
     "name": "stderr",
     "output_type": "stream",
     "text": [
      "C:\\Users\\jz421\\Desktop\\GlobalLocal\\IEEG_Pipelines\\ieeg\\viz\\ensemble.py:141: FutureWarning: Parameters `vmin` and `vmax` are deprecated, use `vlim` instead.\n",
      "  plot_func(picks=[chan], axes=ax, show=False, **kwargs)\n"
     ]
    },
    {
     "name": "stdout",
     "output_type": "stream",
     "text": [
      "No baseline correction applied\n",
      "No baseline correction applied\n"
     ]
    },
    {
     "name": "stderr",
     "output_type": "stream",
     "text": [
      "C:\\Users\\jz421\\Desktop\\GlobalLocal\\IEEG_Pipelines\\ieeg\\viz\\ensemble.py:141: FutureWarning: Parameters `vmin` and `vmax` are deprecated, use `vlim` instead.\n",
      "  plot_func(picks=[chan], axes=ax, show=False, **kwargs)\n",
      "C:\\Users\\jz421\\Desktop\\GlobalLocal\\IEEG_Pipelines\\ieeg\\viz\\ensemble.py:141: FutureWarning: Parameters `vmin` and `vmax` are deprecated, use `vlim` instead.\n",
      "  plot_func(picks=[chan], axes=ax, show=False, **kwargs)\n"
     ]
    },
    {
     "name": "stdout",
     "output_type": "stream",
     "text": [
      "No baseline correction applied\n",
      "No baseline correction applied\n"
     ]
    },
    {
     "name": "stderr",
     "output_type": "stream",
     "text": [
      "C:\\Users\\jz421\\Desktop\\GlobalLocal\\IEEG_Pipelines\\ieeg\\viz\\ensemble.py:141: FutureWarning: Parameters `vmin` and `vmax` are deprecated, use `vlim` instead.\n",
      "  plot_func(picks=[chan], axes=ax, show=False, **kwargs)\n",
      "C:\\Users\\jz421\\Desktop\\GlobalLocal\\IEEG_Pipelines\\ieeg\\viz\\ensemble.py:141: FutureWarning: Parameters `vmin` and `vmax` are deprecated, use `vlim` instead.\n",
      "  plot_func(picks=[chan], axes=ax, show=False, **kwargs)\n"
     ]
    },
    {
     "name": "stdout",
     "output_type": "stream",
     "text": [
      "No baseline correction applied\n"
     ]
    },
    {
     "name": "stderr",
     "output_type": "stream",
     "text": [
      "C:\\Users\\jz421\\Desktop\\GlobalLocal\\IEEG_Pipelines\\ieeg\\viz\\ensemble.py:141: FutureWarning: Parameters `vmin` and `vmax` are deprecated, use `vlim` instead.\n",
      "  plot_func(picks=[chan], axes=ax, show=False, **kwargs)\n"
     ]
    },
    {
     "name": "stdout",
     "output_type": "stream",
     "text": [
      "No baseline correction applied\n",
      "No baseline correction applied\n"
     ]
    },
    {
     "name": "stderr",
     "output_type": "stream",
     "text": [
      "C:\\Users\\jz421\\Desktop\\GlobalLocal\\IEEG_Pipelines\\ieeg\\viz\\ensemble.py:141: FutureWarning: Parameters `vmin` and `vmax` are deprecated, use `vlim` instead.\n",
      "  plot_func(picks=[chan], axes=ax, show=False, **kwargs)\n",
      "C:\\Users\\jz421\\Desktop\\GlobalLocal\\IEEG_Pipelines\\ieeg\\viz\\ensemble.py:141: FutureWarning: Parameters `vmin` and `vmax` are deprecated, use `vlim` instead.\n",
      "  plot_func(picks=[chan], axes=ax, show=False, **kwargs)\n"
     ]
    },
    {
     "name": "stdout",
     "output_type": "stream",
     "text": [
      "No baseline correction applied\n",
      "No baseline correction applied\n"
     ]
    },
    {
     "name": "stderr",
     "output_type": "stream",
     "text": [
      "C:\\Users\\jz421\\Desktop\\GlobalLocal\\IEEG_Pipelines\\ieeg\\viz\\ensemble.py:141: FutureWarning: Parameters `vmin` and `vmax` are deprecated, use `vlim` instead.\n",
      "  plot_func(picks=[chan], axes=ax, show=False, **kwargs)\n",
      "C:\\Users\\jz421\\Desktop\\GlobalLocal\\IEEG_Pipelines\\ieeg\\viz\\ensemble.py:141: FutureWarning: Parameters `vmin` and `vmax` are deprecated, use `vlim` instead.\n",
      "  plot_func(picks=[chan], axes=ax, show=False, **kwargs)\n"
     ]
    },
    {
     "name": "stdout",
     "output_type": "stream",
     "text": [
      "No baseline correction applied\n"
     ]
    },
    {
     "name": "stderr",
     "output_type": "stream",
     "text": [
      "C:\\Users\\jz421\\Desktop\\GlobalLocal\\IEEG_Pipelines\\ieeg\\viz\\ensemble.py:141: FutureWarning: Parameters `vmin` and `vmax` are deprecated, use `vlim` instead.\n",
      "  plot_func(picks=[chan], axes=ax, show=False, **kwargs)\n"
     ]
    },
    {
     "name": "stdout",
     "output_type": "stream",
     "text": [
      "No baseline correction applied\n",
      "No baseline correction applied\n"
     ]
    },
    {
     "name": "stderr",
     "output_type": "stream",
     "text": [
      "C:\\Users\\jz421\\Desktop\\GlobalLocal\\IEEG_Pipelines\\ieeg\\viz\\ensemble.py:141: FutureWarning: Parameters `vmin` and `vmax` are deprecated, use `vlim` instead.\n",
      "  plot_func(picks=[chan], axes=ax, show=False, **kwargs)\n",
      "C:\\Users\\jz421\\Desktop\\GlobalLocal\\IEEG_Pipelines\\ieeg\\viz\\ensemble.py:141: FutureWarning: Parameters `vmin` and `vmax` are deprecated, use `vlim` instead.\n",
      "  plot_func(picks=[chan], axes=ax, show=False, **kwargs)\n"
     ]
    },
    {
     "name": "stdout",
     "output_type": "stream",
     "text": [
      "No baseline correction applied\n",
      "No baseline correction applied\n"
     ]
    },
    {
     "name": "stderr",
     "output_type": "stream",
     "text": [
      "C:\\Users\\jz421\\Desktop\\GlobalLocal\\IEEG_Pipelines\\ieeg\\viz\\ensemble.py:141: FutureWarning: Parameters `vmin` and `vmax` are deprecated, use `vlim` instead.\n",
      "  plot_func(picks=[chan], axes=ax, show=False, **kwargs)\n",
      "C:\\Users\\jz421\\Desktop\\GlobalLocal\\IEEG_Pipelines\\ieeg\\viz\\ensemble.py:141: FutureWarning: Parameters `vmin` and `vmax` are deprecated, use `vlim` instead.\n",
      "  plot_func(picks=[chan], axes=ax, show=False, **kwargs)\n"
     ]
    },
    {
     "name": "stdout",
     "output_type": "stream",
     "text": [
      "No baseline correction applied\n"
     ]
    },
    {
     "name": "stderr",
     "output_type": "stream",
     "text": [
      "C:\\Users\\jz421\\Desktop\\GlobalLocal\\IEEG_Pipelines\\ieeg\\viz\\ensemble.py:141: FutureWarning: Parameters `vmin` and `vmax` are deprecated, use `vlim` instead.\n",
      "  plot_func(picks=[chan], axes=ax, show=False, **kwargs)\n"
     ]
    },
    {
     "name": "stdout",
     "output_type": "stream",
     "text": [
      "No baseline correction applied\n",
      "No baseline correction applied\n"
     ]
    },
    {
     "name": "stderr",
     "output_type": "stream",
     "text": [
      "C:\\Users\\jz421\\Desktop\\GlobalLocal\\IEEG_Pipelines\\ieeg\\viz\\ensemble.py:141: FutureWarning: Parameters `vmin` and `vmax` are deprecated, use `vlim` instead.\n",
      "  plot_func(picks=[chan], axes=ax, show=False, **kwargs)\n",
      "C:\\Users\\jz421\\Desktop\\GlobalLocal\\IEEG_Pipelines\\ieeg\\viz\\ensemble.py:141: FutureWarning: Parameters `vmin` and `vmax` are deprecated, use `vlim` instead.\n",
      "  plot_func(picks=[chan], axes=ax, show=False, **kwargs)\n"
     ]
    },
    {
     "name": "stdout",
     "output_type": "stream",
     "text": [
      "No baseline correction applied\n",
      "No baseline correction applied\n"
     ]
    },
    {
     "name": "stderr",
     "output_type": "stream",
     "text": [
      "C:\\Users\\jz421\\Desktop\\GlobalLocal\\IEEG_Pipelines\\ieeg\\viz\\ensemble.py:141: FutureWarning: Parameters `vmin` and `vmax` are deprecated, use `vlim` instead.\n",
      "  plot_func(picks=[chan], axes=ax, show=False, **kwargs)\n",
      "C:\\Users\\jz421\\Desktop\\GlobalLocal\\IEEG_Pipelines\\ieeg\\viz\\ensemble.py:141: FutureWarning: Parameters `vmin` and `vmax` are deprecated, use `vlim` instead.\n",
      "  plot_func(picks=[chan], axes=ax, show=False, **kwargs)\n"
     ]
    },
    {
     "name": "stdout",
     "output_type": "stream",
     "text": [
      "No baseline correction applied\n"
     ]
    },
    {
     "name": "stderr",
     "output_type": "stream",
     "text": [
      "C:\\Users\\jz421\\Desktop\\GlobalLocal\\IEEG_Pipelines\\ieeg\\viz\\ensemble.py:141: FutureWarning: Parameters `vmin` and `vmax` are deprecated, use `vlim` instead.\n",
      "  plot_func(picks=[chan], axes=ax, show=False, **kwargs)\n"
     ]
    },
    {
     "name": "stdout",
     "output_type": "stream",
     "text": [
      "No baseline correction applied\n",
      "No baseline correction applied\n"
     ]
    },
    {
     "name": "stderr",
     "output_type": "stream",
     "text": [
      "C:\\Users\\jz421\\Desktop\\GlobalLocal\\IEEG_Pipelines\\ieeg\\viz\\ensemble.py:141: FutureWarning: Parameters `vmin` and `vmax` are deprecated, use `vlim` instead.\n",
      "  plot_func(picks=[chan], axes=ax, show=False, **kwargs)\n",
      "C:\\Users\\jz421\\Desktop\\GlobalLocal\\IEEG_Pipelines\\ieeg\\viz\\ensemble.py:141: FutureWarning: Parameters `vmin` and `vmax` are deprecated, use `vlim` instead.\n",
      "  plot_func(picks=[chan], axes=ax, show=False, **kwargs)\n"
     ]
    },
    {
     "name": "stdout",
     "output_type": "stream",
     "text": [
      "No baseline correction applied\n",
      "No baseline correction applied\n"
     ]
    },
    {
     "name": "stderr",
     "output_type": "stream",
     "text": [
      "C:\\Users\\jz421\\Desktop\\GlobalLocal\\IEEG_Pipelines\\ieeg\\viz\\ensemble.py:141: FutureWarning: Parameters `vmin` and `vmax` are deprecated, use `vlim` instead.\n",
      "  plot_func(picks=[chan], axes=ax, show=False, **kwargs)\n",
      "C:\\Users\\jz421\\Desktop\\GlobalLocal\\IEEG_Pipelines\\ieeg\\viz\\ensemble.py:141: FutureWarning: Parameters `vmin` and `vmax` are deprecated, use `vlim` instead.\n",
      "  plot_func(picks=[chan], axes=ax, show=False, **kwargs)\n"
     ]
    },
    {
     "name": "stdout",
     "output_type": "stream",
     "text": [
      "No baseline correction applied\n"
     ]
    },
    {
     "name": "stderr",
     "output_type": "stream",
     "text": [
      "C:\\Users\\jz421\\Desktop\\GlobalLocal\\IEEG_Pipelines\\ieeg\\viz\\ensemble.py:141: FutureWarning: Parameters `vmin` and `vmax` are deprecated, use `vlim` instead.\n",
      "  plot_func(picks=[chan], axes=ax, show=False, **kwargs)\n"
     ]
    },
    {
     "name": "stdout",
     "output_type": "stream",
     "text": [
      "No baseline correction applied\n",
      "No baseline correction applied\n"
     ]
    },
    {
     "name": "stderr",
     "output_type": "stream",
     "text": [
      "C:\\Users\\jz421\\Desktop\\GlobalLocal\\IEEG_Pipelines\\ieeg\\viz\\ensemble.py:141: FutureWarning: Parameters `vmin` and `vmax` are deprecated, use `vlim` instead.\n",
      "  plot_func(picks=[chan], axes=ax, show=False, **kwargs)\n",
      "C:\\Users\\jz421\\Desktop\\GlobalLocal\\IEEG_Pipelines\\ieeg\\viz\\ensemble.py:141: FutureWarning: Parameters `vmin` and `vmax` are deprecated, use `vlim` instead.\n",
      "  plot_func(picks=[chan], axes=ax, show=False, **kwargs)\n"
     ]
    },
    {
     "name": "stdout",
     "output_type": "stream",
     "text": [
      "No baseline correction applied\n",
      "No baseline correction applied\n"
     ]
    },
    {
     "name": "stderr",
     "output_type": "stream",
     "text": [
      "C:\\Users\\jz421\\Desktop\\GlobalLocal\\IEEG_Pipelines\\ieeg\\viz\\ensemble.py:141: FutureWarning: Parameters `vmin` and `vmax` are deprecated, use `vlim` instead.\n",
      "  plot_func(picks=[chan], axes=ax, show=False, **kwargs)\n",
      "C:\\Users\\jz421\\Desktop\\GlobalLocal\\IEEG_Pipelines\\ieeg\\viz\\ensemble.py:141: FutureWarning: Parameters `vmin` and `vmax` are deprecated, use `vlim` instead.\n",
      "  plot_func(picks=[chan], axes=ax, show=False, **kwargs)\n"
     ]
    },
    {
     "name": "stdout",
     "output_type": "stream",
     "text": [
      "No baseline correction applied\n"
     ]
    },
    {
     "name": "stderr",
     "output_type": "stream",
     "text": [
      "C:\\Users\\jz421\\Desktop\\GlobalLocal\\IEEG_Pipelines\\ieeg\\viz\\ensemble.py:141: FutureWarning: Parameters `vmin` and `vmax` are deprecated, use `vlim` instead.\n",
      "  plot_func(picks=[chan], axes=ax, show=False, **kwargs)\n"
     ]
    },
    {
     "name": "stdout",
     "output_type": "stream",
     "text": [
      "No baseline correction applied\n"
     ]
    },
    {
     "name": "stderr",
     "output_type": "stream",
     "text": [
      "C:\\Users\\jz421\\Desktop\\GlobalLocal\\IEEG_Pipelines\\ieeg\\viz\\ensemble.py:141: FutureWarning: Parameters `vmin` and `vmax` are deprecated, use `vlim` instead.\n",
      "  plot_func(picks=[chan], axes=ax, show=False, **kwargs)\n",
      "C:\\Users\\jz421\\Desktop\\GlobalLocal\\IEEG_Pipelines\\ieeg\\viz\\ensemble.py:141: FutureWarning: Parameters `vmin` and `vmax` are deprecated, use `vlim` instead.\n",
      "  plot_func(picks=[chan], axes=ax, show=False, **kwargs)\n"
     ]
    },
    {
     "name": "stdout",
     "output_type": "stream",
     "text": [
      "No baseline correction applied\n",
      "No baseline correction applied\n"
     ]
    },
    {
     "name": "stderr",
     "output_type": "stream",
     "text": [
      "C:\\Users\\jz421\\Desktop\\GlobalLocal\\IEEG_Pipelines\\ieeg\\viz\\ensemble.py:141: FutureWarning: Parameters `vmin` and `vmax` are deprecated, use `vlim` instead.\n",
      "  plot_func(picks=[chan], axes=ax, show=False, **kwargs)\n"
     ]
    },
    {
     "name": "stdout",
     "output_type": "stream",
     "text": [
      "No baseline correction applied\n"
     ]
    },
    {
     "name": "stderr",
     "output_type": "stream",
     "text": [
      "C:\\Users\\jz421\\Desktop\\GlobalLocal\\IEEG_Pipelines\\ieeg\\viz\\ensemble.py:141: FutureWarning: Parameters `vmin` and `vmax` are deprecated, use `vlim` instead.\n",
      "  plot_func(picks=[chan], axes=ax, show=False, **kwargs)\n"
     ]
    },
    {
     "name": "stdout",
     "output_type": "stream",
     "text": [
      "No baseline correction applied\n"
     ]
    },
    {
     "name": "stderr",
     "output_type": "stream",
     "text": [
      "C:\\Users\\jz421\\Desktop\\GlobalLocal\\IEEG_Pipelines\\ieeg\\viz\\ensemble.py:141: FutureWarning: Parameters `vmin` and `vmax` are deprecated, use `vlim` instead.\n",
      "  plot_func(picks=[chan], axes=ax, show=False, **kwargs)\n"
     ]
    },
    {
     "name": "stdout",
     "output_type": "stream",
     "text": [
      "No baseline correction applied\n"
     ]
    },
    {
     "name": "stderr",
     "output_type": "stream",
     "text": [
      "C:\\Users\\jz421\\Desktop\\GlobalLocal\\IEEG_Pipelines\\ieeg\\viz\\ensemble.py:141: FutureWarning: Parameters `vmin` and `vmax` are deprecated, use `vlim` instead.\n",
      "  plot_func(picks=[chan], axes=ax, show=False, **kwargs)\n"
     ]
    },
    {
     "name": "stdout",
     "output_type": "stream",
     "text": [
      "No baseline correction applied\n"
     ]
    },
    {
     "name": "stderr",
     "output_type": "stream",
     "text": [
      "C:\\Users\\jz421\\Desktop\\GlobalLocal\\IEEG_Pipelines\\ieeg\\viz\\ensemble.py:141: FutureWarning: Parameters `vmin` and `vmax` are deprecated, use `vlim` instead.\n",
      "  plot_func(picks=[chan], axes=ax, show=False, **kwargs)\n"
     ]
    },
    {
     "name": "stdout",
     "output_type": "stream",
     "text": [
      "No baseline correction applied\n"
     ]
    },
    {
     "name": "stderr",
     "output_type": "stream",
     "text": [
      "C:\\Users\\jz421\\Desktop\\GlobalLocal\\IEEG_Pipelines\\ieeg\\viz\\ensemble.py:141: FutureWarning: Parameters `vmin` and `vmax` are deprecated, use `vlim` instead.\n",
      "  plot_func(picks=[chan], axes=ax, show=False, **kwargs)\n"
     ]
    },
    {
     "name": "stdout",
     "output_type": "stream",
     "text": [
      "No baseline correction applied\n"
     ]
    },
    {
     "name": "stderr",
     "output_type": "stream",
     "text": [
      "C:\\Users\\jz421\\Desktop\\GlobalLocal\\IEEG_Pipelines\\ieeg\\viz\\ensemble.py:141: FutureWarning: Parameters `vmin` and `vmax` are deprecated, use `vlim` instead.\n",
      "  plot_func(picks=[chan], axes=ax, show=False, **kwargs)\n"
     ]
    },
    {
     "name": "stdout",
     "output_type": "stream",
     "text": [
      "No baseline correction applied\n"
     ]
    },
    {
     "name": "stderr",
     "output_type": "stream",
     "text": [
      "C:\\Users\\jz421\\Desktop\\GlobalLocal\\IEEG_Pipelines\\ieeg\\viz\\ensemble.py:141: FutureWarning: Parameters `vmin` and `vmax` are deprecated, use `vlim` instead.\n",
      "  plot_func(picks=[chan], axes=ax, show=False, **kwargs)\n"
     ]
    },
    {
     "name": "stdout",
     "output_type": "stream",
     "text": [
      "No baseline correction applied\n"
     ]
    },
    {
     "name": "stderr",
     "output_type": "stream",
     "text": [
      "C:\\Users\\jz421\\Desktop\\GlobalLocal\\IEEG_Pipelines\\ieeg\\viz\\ensemble.py:141: FutureWarning: Parameters `vmin` and `vmax` are deprecated, use `vlim` instead.\n",
      "  plot_func(picks=[chan], axes=ax, show=False, **kwargs)\n"
     ]
    },
    {
     "name": "stdout",
     "output_type": "stream",
     "text": [
      "No baseline correction applied\n"
     ]
    },
    {
     "name": "stderr",
     "output_type": "stream",
     "text": [
      "C:\\Users\\jz421\\Desktop\\GlobalLocal\\IEEG_Pipelines\\ieeg\\viz\\ensemble.py:141: FutureWarning: Parameters `vmin` and `vmax` are deprecated, use `vlim` instead.\n",
      "  plot_func(picks=[chan], axes=ax, show=False, **kwargs)\n"
     ]
    },
    {
     "name": "stdout",
     "output_type": "stream",
     "text": [
      "No baseline correction applied\n"
     ]
    },
    {
     "name": "stderr",
     "output_type": "stream",
     "text": [
      "C:\\Users\\jz421\\Desktop\\GlobalLocal\\IEEG_Pipelines\\ieeg\\viz\\ensemble.py:141: FutureWarning: Parameters `vmin` and `vmax` are deprecated, use `vlim` instead.\n",
      "  plot_func(picks=[chan], axes=ax, show=False, **kwargs)\n"
     ]
    },
    {
     "name": "stdout",
     "output_type": "stream",
     "text": [
      "No baseline correction applied\n"
     ]
    },
    {
     "name": "stderr",
     "output_type": "stream",
     "text": [
      "C:\\Users\\jz421\\Desktop\\GlobalLocal\\IEEG_Pipelines\\ieeg\\viz\\ensemble.py:141: FutureWarning: Parameters `vmin` and `vmax` are deprecated, use `vlim` instead.\n",
      "  plot_func(picks=[chan], axes=ax, show=False, **kwargs)\n"
     ]
    },
    {
     "name": "stdout",
     "output_type": "stream",
     "text": [
      "No baseline correction applied\n"
     ]
    },
    {
     "name": "stderr",
     "output_type": "stream",
     "text": [
      "C:\\Users\\jz421\\Desktop\\GlobalLocal\\IEEG_Pipelines\\ieeg\\viz\\ensemble.py:141: FutureWarning: Parameters `vmin` and `vmax` are deprecated, use `vlim` instead.\n",
      "  plot_func(picks=[chan], axes=ax, show=False, **kwargs)\n"
     ]
    },
    {
     "name": "stdout",
     "output_type": "stream",
     "text": [
      "No baseline correction applied\n"
     ]
    },
    {
     "name": "stderr",
     "output_type": "stream",
     "text": [
      "C:\\Users\\jz421\\Desktop\\GlobalLocal\\IEEG_Pipelines\\ieeg\\viz\\ensemble.py:141: FutureWarning: Parameters `vmin` and `vmax` are deprecated, use `vlim` instead.\n",
      "  plot_func(picks=[chan], axes=ax, show=False, **kwargs)\n"
     ]
    },
    {
     "name": "stdout",
     "output_type": "stream",
     "text": [
      "No baseline correction applied\n"
     ]
    },
    {
     "name": "stderr",
     "output_type": "stream",
     "text": [
      "C:\\Users\\jz421\\Desktop\\GlobalLocal\\IEEG_Pipelines\\ieeg\\viz\\ensemble.py:141: FutureWarning: Parameters `vmin` and `vmax` are deprecated, use `vlim` instead.\n",
      "  plot_func(picks=[chan], axes=ax, show=False, **kwargs)\n"
     ]
    },
    {
     "name": "stdout",
     "output_type": "stream",
     "text": [
      "No baseline correction applied\n"
     ]
    },
    {
     "name": "stderr",
     "output_type": "stream",
     "text": [
      "C:\\Users\\jz421\\Desktop\\GlobalLocal\\IEEG_Pipelines\\ieeg\\viz\\ensemble.py:141: FutureWarning: Parameters `vmin` and `vmax` are deprecated, use `vlim` instead.\n",
      "  plot_func(picks=[chan], axes=ax, show=False, **kwargs)\n"
     ]
    },
    {
     "name": "stdout",
     "output_type": "stream",
     "text": [
      "No baseline correction applied\n"
     ]
    },
    {
     "name": "stderr",
     "output_type": "stream",
     "text": [
      "C:\\Users\\jz421\\Desktop\\GlobalLocal\\IEEG_Pipelines\\ieeg\\viz\\ensemble.py:141: FutureWarning: Parameters `vmin` and `vmax` are deprecated, use `vlim` instead.\n",
      "  plot_func(picks=[chan], axes=ax, show=False, **kwargs)\n"
     ]
    },
    {
     "name": "stdout",
     "output_type": "stream",
     "text": [
      "No baseline correction applied\n"
     ]
    },
    {
     "name": "stderr",
     "output_type": "stream",
     "text": [
      "C:\\Users\\jz421\\Desktop\\GlobalLocal\\IEEG_Pipelines\\ieeg\\viz\\ensemble.py:141: FutureWarning: Parameters `vmin` and `vmax` are deprecated, use `vlim` instead.\n",
      "  plot_func(picks=[chan], axes=ax, show=False, **kwargs)\n"
     ]
    },
    {
     "name": "stdout",
     "output_type": "stream",
     "text": [
      "No baseline correction applied\n"
     ]
    },
    {
     "name": "stderr",
     "output_type": "stream",
     "text": [
      "C:\\Users\\jz421\\Desktop\\GlobalLocal\\IEEG_Pipelines\\ieeg\\viz\\ensemble.py:141: FutureWarning: Parameters `vmin` and `vmax` are deprecated, use `vlim` instead.\n",
      "  plot_func(picks=[chan], axes=ax, show=False, **kwargs)\n"
     ]
    },
    {
     "name": "stdout",
     "output_type": "stream",
     "text": [
      "No baseline correction applied\n"
     ]
    },
    {
     "name": "stderr",
     "output_type": "stream",
     "text": [
      "C:\\Users\\jz421\\Desktop\\GlobalLocal\\IEEG_Pipelines\\ieeg\\viz\\ensemble.py:141: FutureWarning: Parameters `vmin` and `vmax` are deprecated, use `vlim` instead.\n",
      "  plot_func(picks=[chan], axes=ax, show=False, **kwargs)\n",
      "C:\\Users\\jz421\\Desktop\\GlobalLocal\\IEEG_Pipelines\\ieeg\\viz\\ensemble.py:141: FutureWarning: Parameters `vmin` and `vmax` are deprecated, use `vlim` instead.\n",
      "  plot_func(picks=[chan], axes=ax, show=False, **kwargs)\n"
     ]
    },
    {
     "name": "stdout",
     "output_type": "stream",
     "text": [
      "No baseline correction applied\n",
      "No baseline correction applied\n"
     ]
    },
    {
     "name": "stderr",
     "output_type": "stream",
     "text": [
      "C:\\Users\\jz421\\Desktop\\GlobalLocal\\IEEG_Pipelines\\ieeg\\viz\\ensemble.py:141: FutureWarning: Parameters `vmin` and `vmax` are deprecated, use `vlim` instead.\n",
      "  plot_func(picks=[chan], axes=ax, show=False, **kwargs)\n"
     ]
    },
    {
     "name": "stdout",
     "output_type": "stream",
     "text": [
      "No baseline correction applied\n"
     ]
    },
    {
     "name": "stderr",
     "output_type": "stream",
     "text": [
      "C:\\Users\\jz421\\Desktop\\GlobalLocal\\IEEG_Pipelines\\ieeg\\viz\\ensemble.py:141: FutureWarning: Parameters `vmin` and `vmax` are deprecated, use `vlim` instead.\n",
      "  plot_func(picks=[chan], axes=ax, show=False, **kwargs)\n"
     ]
    },
    {
     "name": "stdout",
     "output_type": "stream",
     "text": [
      "No baseline correction applied\n"
     ]
    },
    {
     "name": "stderr",
     "output_type": "stream",
     "text": [
      "C:\\Users\\jz421\\Desktop\\GlobalLocal\\IEEG_Pipelines\\ieeg\\viz\\ensemble.py:141: FutureWarning: Parameters `vmin` and `vmax` are deprecated, use `vlim` instead.\n",
      "  plot_func(picks=[chan], axes=ax, show=False, **kwargs)\n",
      "C:\\Users\\jz421\\Desktop\\GlobalLocal\\IEEG_Pipelines\\ieeg\\viz\\ensemble.py:141: FutureWarning: Parameters `vmin` and `vmax` are deprecated, use `vlim` instead.\n",
      "  plot_func(picks=[chan], axes=ax, show=False, **kwargs)\n"
     ]
    },
    {
     "name": "stdout",
     "output_type": "stream",
     "text": [
      "No baseline correction applied\n",
      "No baseline correction applied\n"
     ]
    },
    {
     "name": "stderr",
     "output_type": "stream",
     "text": [
      "C:\\Users\\jz421\\Desktop\\GlobalLocal\\IEEG_Pipelines\\ieeg\\viz\\ensemble.py:141: FutureWarning: Parameters `vmin` and `vmax` are deprecated, use `vlim` instead.\n",
      "  plot_func(picks=[chan], axes=ax, show=False, **kwargs)\n",
      "C:\\Users\\jz421\\Desktop\\GlobalLocal\\IEEG_Pipelines\\ieeg\\viz\\ensemble.py:141: FutureWarning: Parameters `vmin` and `vmax` are deprecated, use `vlim` instead.\n",
      "  plot_func(picks=[chan], axes=ax, show=False, **kwargs)\n"
     ]
    },
    {
     "name": "stdout",
     "output_type": "stream",
     "text": [
      "No baseline correction applied\n",
      "No baseline correction applied\n"
     ]
    },
    {
     "name": "stderr",
     "output_type": "stream",
     "text": [
      "C:\\Users\\jz421\\Desktop\\GlobalLocal\\IEEG_Pipelines\\ieeg\\viz\\ensemble.py:141: FutureWarning: Parameters `vmin` and `vmax` are deprecated, use `vlim` instead.\n",
      "  plot_func(picks=[chan], axes=ax, show=False, **kwargs)\n",
      "C:\\Users\\jz421\\Desktop\\GlobalLocal\\IEEG_Pipelines\\ieeg\\viz\\ensemble.py:141: FutureWarning: Parameters `vmin` and `vmax` are deprecated, use `vlim` instead.\n",
      "  plot_func(picks=[chan], axes=ax, show=False, **kwargs)\n"
     ]
    },
    {
     "name": "stdout",
     "output_type": "stream",
     "text": [
      "No baseline correction applied\n",
      "No baseline correction applied\n"
     ]
    },
    {
     "name": "stderr",
     "output_type": "stream",
     "text": [
      "C:\\Users\\jz421\\Desktop\\GlobalLocal\\IEEG_Pipelines\\ieeg\\viz\\ensemble.py:141: FutureWarning: Parameters `vmin` and `vmax` are deprecated, use `vlim` instead.\n",
      "  plot_func(picks=[chan], axes=ax, show=False, **kwargs)\n",
      "C:\\Users\\jz421\\Desktop\\GlobalLocal\\IEEG_Pipelines\\ieeg\\viz\\ensemble.py:141: FutureWarning: Parameters `vmin` and `vmax` are deprecated, use `vlim` instead.\n",
      "  plot_func(picks=[chan], axes=ax, show=False, **kwargs)\n"
     ]
    },
    {
     "name": "stdout",
     "output_type": "stream",
     "text": [
      "No baseline correction applied\n",
      "No baseline correction applied\n"
     ]
    },
    {
     "name": "stderr",
     "output_type": "stream",
     "text": [
      "C:\\Users\\jz421\\Desktop\\GlobalLocal\\IEEG_Pipelines\\ieeg\\viz\\ensemble.py:141: FutureWarning: Parameters `vmin` and `vmax` are deprecated, use `vlim` instead.\n",
      "  plot_func(picks=[chan], axes=ax, show=False, **kwargs)\n"
     ]
    },
    {
     "name": "stdout",
     "output_type": "stream",
     "text": [
      "No baseline correction applied\n"
     ]
    },
    {
     "name": "stderr",
     "output_type": "stream",
     "text": [
      "C:\\Users\\jz421\\Desktop\\GlobalLocal\\IEEG_Pipelines\\ieeg\\viz\\ensemble.py:141: FutureWarning: Parameters `vmin` and `vmax` are deprecated, use `vlim` instead.\n",
      "  plot_func(picks=[chan], axes=ax, show=False, **kwargs)\n"
     ]
    },
    {
     "name": "stdout",
     "output_type": "stream",
     "text": [
      "No baseline correction applied\n"
     ]
    },
    {
     "name": "stderr",
     "output_type": "stream",
     "text": [
      "C:\\Users\\jz421\\Desktop\\GlobalLocal\\IEEG_Pipelines\\ieeg\\viz\\ensemble.py:141: FutureWarning: Parameters `vmin` and `vmax` are deprecated, use `vlim` instead.\n",
      "  plot_func(picks=[chan], axes=ax, show=False, **kwargs)\n"
     ]
    },
    {
     "name": "stdout",
     "output_type": "stream",
     "text": [
      "No baseline correction applied\n"
     ]
    },
    {
     "name": "stderr",
     "output_type": "stream",
     "text": [
      "C:\\Users\\jz421\\Desktop\\GlobalLocal\\IEEG_Pipelines\\ieeg\\viz\\ensemble.py:141: FutureWarning: Parameters `vmin` and `vmax` are deprecated, use `vlim` instead.\n",
      "  plot_func(picks=[chan], axes=ax, show=False, **kwargs)\n"
     ]
    },
    {
     "name": "stdout",
     "output_type": "stream",
     "text": [
      "No baseline correction applied\n"
     ]
    },
    {
     "name": "stderr",
     "output_type": "stream",
     "text": [
      "C:\\Users\\jz421\\Desktop\\GlobalLocal\\IEEG_Pipelines\\ieeg\\viz\\ensemble.py:141: FutureWarning: Parameters `vmin` and `vmax` are deprecated, use `vlim` instead.\n",
      "  plot_func(picks=[chan], axes=ax, show=False, **kwargs)\n",
      "C:\\Users\\jz421\\Desktop\\GlobalLocal\\IEEG_Pipelines\\ieeg\\viz\\ensemble.py:141: FutureWarning: Parameters `vmin` and `vmax` are deprecated, use `vlim` instead.\n",
      "  plot_func(picks=[chan], axes=ax, show=False, **kwargs)\n"
     ]
    },
    {
     "name": "stdout",
     "output_type": "stream",
     "text": [
      "No baseline correction applied\n",
      "No baseline correction applied\n"
     ]
    },
    {
     "name": "stderr",
     "output_type": "stream",
     "text": [
      "C:\\Users\\jz421\\Desktop\\GlobalLocal\\IEEG_Pipelines\\ieeg\\viz\\ensemble.py:141: FutureWarning: Parameters `vmin` and `vmax` are deprecated, use `vlim` instead.\n",
      "  plot_func(picks=[chan], axes=ax, show=False, **kwargs)\n"
     ]
    },
    {
     "name": "stdout",
     "output_type": "stream",
     "text": [
      "No baseline correction applied\n"
     ]
    },
    {
     "name": "stderr",
     "output_type": "stream",
     "text": [
      "C:\\Users\\jz421\\Desktop\\GlobalLocal\\IEEG_Pipelines\\ieeg\\viz\\ensemble.py:141: FutureWarning: Parameters `vmin` and `vmax` are deprecated, use `vlim` instead.\n",
      "  plot_func(picks=[chan], axes=ax, show=False, **kwargs)\n"
     ]
    },
    {
     "name": "stdout",
     "output_type": "stream",
     "text": [
      "No baseline correction applied\n"
     ]
    },
    {
     "name": "stderr",
     "output_type": "stream",
     "text": [
      "C:\\Users\\jz421\\Desktop\\GlobalLocal\\IEEG_Pipelines\\ieeg\\viz\\ensemble.py:141: FutureWarning: Parameters `vmin` and `vmax` are deprecated, use `vlim` instead.\n",
      "  plot_func(picks=[chan], axes=ax, show=False, **kwargs)\n"
     ]
    },
    {
     "name": "stdout",
     "output_type": "stream",
     "text": [
      "No baseline correction applied\n"
     ]
    },
    {
     "name": "stderr",
     "output_type": "stream",
     "text": [
      "C:\\Users\\jz421\\Desktop\\GlobalLocal\\IEEG_Pipelines\\ieeg\\viz\\ensemble.py:141: FutureWarning: Parameters `vmin` and `vmax` are deprecated, use `vlim` instead.\n",
      "  plot_func(picks=[chan], axes=ax, show=False, **kwargs)\n"
     ]
    },
    {
     "name": "stdout",
     "output_type": "stream",
     "text": [
      "No baseline correction applied\n"
     ]
    },
    {
     "name": "stderr",
     "output_type": "stream",
     "text": [
      "C:\\Users\\jz421\\Desktop\\GlobalLocal\\IEEG_Pipelines\\ieeg\\viz\\ensemble.py:141: FutureWarning: Parameters `vmin` and `vmax` are deprecated, use `vlim` instead.\n",
      "  plot_func(picks=[chan], axes=ax, show=False, **kwargs)\n"
     ]
    },
    {
     "name": "stdout",
     "output_type": "stream",
     "text": [
      "No baseline correction applied\n"
     ]
    },
    {
     "name": "stderr",
     "output_type": "stream",
     "text": [
      "C:\\Users\\jz421\\Desktop\\GlobalLocal\\IEEG_Pipelines\\ieeg\\viz\\ensemble.py:141: FutureWarning: Parameters `vmin` and `vmax` are deprecated, use `vlim` instead.\n",
      "  plot_func(picks=[chan], axes=ax, show=False, **kwargs)\n"
     ]
    },
    {
     "name": "stdout",
     "output_type": "stream",
     "text": [
      "No baseline correction applied\n"
     ]
    },
    {
     "name": "stderr",
     "output_type": "stream",
     "text": [
      "C:\\Users\\jz421\\Desktop\\GlobalLocal\\IEEG_Pipelines\\ieeg\\viz\\ensemble.py:141: FutureWarning: Parameters `vmin` and `vmax` are deprecated, use `vlim` instead.\n",
      "  plot_func(picks=[chan], axes=ax, show=False, **kwargs)\n"
     ]
    },
    {
     "name": "stdout",
     "output_type": "stream",
     "text": [
      "No baseline correction applied\n"
     ]
    },
    {
     "name": "stderr",
     "output_type": "stream",
     "text": [
      "C:\\Users\\jz421\\Desktop\\GlobalLocal\\IEEG_Pipelines\\ieeg\\viz\\ensemble.py:141: FutureWarning: Parameters `vmin` and `vmax` are deprecated, use `vlim` instead.\n",
      "  plot_func(picks=[chan], axes=ax, show=False, **kwargs)\n"
     ]
    },
    {
     "name": "stdout",
     "output_type": "stream",
     "text": [
      "No baseline correction applied\n"
     ]
    },
    {
     "name": "stderr",
     "output_type": "stream",
     "text": [
      "C:\\Users\\jz421\\Desktop\\GlobalLocal\\IEEG_Pipelines\\ieeg\\viz\\ensemble.py:141: FutureWarning: Parameters `vmin` and `vmax` are deprecated, use `vlim` instead.\n",
      "  plot_func(picks=[chan], axes=ax, show=False, **kwargs)\n"
     ]
    },
    {
     "name": "stdout",
     "output_type": "stream",
     "text": [
      "No baseline correction applied\n"
     ]
    },
    {
     "name": "stderr",
     "output_type": "stream",
     "text": [
      "C:\\Users\\jz421\\Desktop\\GlobalLocal\\IEEG_Pipelines\\ieeg\\viz\\ensemble.py:141: FutureWarning: Parameters `vmin` and `vmax` are deprecated, use `vlim` instead.\n",
      "  plot_func(picks=[chan], axes=ax, show=False, **kwargs)\n"
     ]
    },
    {
     "name": "stdout",
     "output_type": "stream",
     "text": [
      "No baseline correction applied\n"
     ]
    },
    {
     "name": "stderr",
     "output_type": "stream",
     "text": [
      "C:\\Users\\jz421\\Desktop\\GlobalLocal\\IEEG_Pipelines\\ieeg\\viz\\ensemble.py:141: FutureWarning: Parameters `vmin` and `vmax` are deprecated, use `vlim` instead.\n",
      "  plot_func(picks=[chan], axes=ax, show=False, **kwargs)\n"
     ]
    },
    {
     "name": "stdout",
     "output_type": "stream",
     "text": [
      "No baseline correction applied\n"
     ]
    },
    {
     "name": "stderr",
     "output_type": "stream",
     "text": [
      "C:\\Users\\jz421\\Desktop\\GlobalLocal\\IEEG_Pipelines\\ieeg\\viz\\ensemble.py:141: FutureWarning: Parameters `vmin` and `vmax` are deprecated, use `vlim` instead.\n",
      "  plot_func(picks=[chan], axes=ax, show=False, **kwargs)\n"
     ]
    },
    {
     "name": "stdout",
     "output_type": "stream",
     "text": [
      "No baseline correction applied\n"
     ]
    },
    {
     "name": "stderr",
     "output_type": "stream",
     "text": [
      "C:\\Users\\jz421\\Desktop\\GlobalLocal\\IEEG_Pipelines\\ieeg\\viz\\ensemble.py:141: FutureWarning: Parameters `vmin` and `vmax` are deprecated, use `vlim` instead.\n",
      "  plot_func(picks=[chan], axes=ax, show=False, **kwargs)\n"
     ]
    },
    {
     "name": "stdout",
     "output_type": "stream",
     "text": [
      "No baseline correction applied\n"
     ]
    },
    {
     "name": "stderr",
     "output_type": "stream",
     "text": [
      "C:\\Users\\jz421\\Desktop\\GlobalLocal\\IEEG_Pipelines\\ieeg\\viz\\ensemble.py:141: FutureWarning: Parameters `vmin` and `vmax` are deprecated, use `vlim` instead.\n",
      "  plot_func(picks=[chan], axes=ax, show=False, **kwargs)\n"
     ]
    },
    {
     "name": "stdout",
     "output_type": "stream",
     "text": [
      "No baseline correction applied\n"
     ]
    },
    {
     "name": "stderr",
     "output_type": "stream",
     "text": [
      "C:\\Users\\jz421\\Desktop\\GlobalLocal\\IEEG_Pipelines\\ieeg\\viz\\ensemble.py:141: FutureWarning: Parameters `vmin` and `vmax` are deprecated, use `vlim` instead.\n",
      "  plot_func(picks=[chan], axes=ax, show=False, **kwargs)\n"
     ]
    },
    {
     "name": "stdout",
     "output_type": "stream",
     "text": [
      "No baseline correction applied\n"
     ]
    },
    {
     "name": "stderr",
     "output_type": "stream",
     "text": [
      "C:\\Users\\jz421\\Desktop\\GlobalLocal\\IEEG_Pipelines\\ieeg\\viz\\ensemble.py:141: FutureWarning: Parameters `vmin` and `vmax` are deprecated, use `vlim` instead.\n",
      "  plot_func(picks=[chan], axes=ax, show=False, **kwargs)\n"
     ]
    },
    {
     "name": "stdout",
     "output_type": "stream",
     "text": [
      "No baseline correction applied\n"
     ]
    },
    {
     "name": "stderr",
     "output_type": "stream",
     "text": [
      "C:\\Users\\jz421\\Desktop\\GlobalLocal\\IEEG_Pipelines\\ieeg\\viz\\ensemble.py:141: FutureWarning: Parameters `vmin` and `vmax` are deprecated, use `vlim` instead.\n",
      "  plot_func(picks=[chan], axes=ax, show=False, **kwargs)\n"
     ]
    },
    {
     "name": "stdout",
     "output_type": "stream",
     "text": [
      "No baseline correction applied\n"
     ]
    },
    {
     "name": "stderr",
     "output_type": "stream",
     "text": [
      "C:\\Users\\jz421\\Desktop\\GlobalLocal\\IEEG_Pipelines\\ieeg\\viz\\ensemble.py:141: FutureWarning: Parameters `vmin` and `vmax` are deprecated, use `vlim` instead.\n",
      "  plot_func(picks=[chan], axes=ax, show=False, **kwargs)\n"
     ]
    },
    {
     "name": "stdout",
     "output_type": "stream",
     "text": [
      "No baseline correction applied\n"
     ]
    },
    {
     "name": "stderr",
     "output_type": "stream",
     "text": [
      "C:\\Users\\jz421\\Desktop\\GlobalLocal\\IEEG_Pipelines\\ieeg\\viz\\ensemble.py:141: FutureWarning: Parameters `vmin` and `vmax` are deprecated, use `vlim` instead.\n",
      "  plot_func(picks=[chan], axes=ax, show=False, **kwargs)\n"
     ]
    },
    {
     "name": "stdout",
     "output_type": "stream",
     "text": [
      "No baseline correction applied\n"
     ]
    },
    {
     "name": "stderr",
     "output_type": "stream",
     "text": [
      "C:\\Users\\jz421\\Desktop\\GlobalLocal\\IEEG_Pipelines\\ieeg\\viz\\ensemble.py:141: FutureWarning: Parameters `vmin` and `vmax` are deprecated, use `vlim` instead.\n",
      "  plot_func(picks=[chan], axes=ax, show=False, **kwargs)\n"
     ]
    },
    {
     "name": "stdout",
     "output_type": "stream",
     "text": [
      "No baseline correction applied\n"
     ]
    },
    {
     "name": "stderr",
     "output_type": "stream",
     "text": [
      "C:\\Users\\jz421\\Desktop\\GlobalLocal\\IEEG_Pipelines\\ieeg\\viz\\ensemble.py:141: FutureWarning: Parameters `vmin` and `vmax` are deprecated, use `vlim` instead.\n",
      "  plot_func(picks=[chan], axes=ax, show=False, **kwargs)\n"
     ]
    },
    {
     "name": "stdout",
     "output_type": "stream",
     "text": [
      "No baseline correction applied\n"
     ]
    },
    {
     "name": "stderr",
     "output_type": "stream",
     "text": [
      "C:\\Users\\jz421\\Desktop\\GlobalLocal\\IEEG_Pipelines\\ieeg\\viz\\ensemble.py:141: FutureWarning: Parameters `vmin` and `vmax` are deprecated, use `vlim` instead.\n",
      "  plot_func(picks=[chan], axes=ax, show=False, **kwargs)\n"
     ]
    },
    {
     "name": "stdout",
     "output_type": "stream",
     "text": [
      "No baseline correction applied\n"
     ]
    },
    {
     "name": "stderr",
     "output_type": "stream",
     "text": [
      "C:\\Users\\jz421\\Desktop\\GlobalLocal\\IEEG_Pipelines\\ieeg\\viz\\ensemble.py:141: FutureWarning: Parameters `vmin` and `vmax` are deprecated, use `vlim` instead.\n",
      "  plot_func(picks=[chan], axes=ax, show=False, **kwargs)\n"
     ]
    },
    {
     "name": "stdout",
     "output_type": "stream",
     "text": [
      "No baseline correction applied\n"
     ]
    },
    {
     "name": "stderr",
     "output_type": "stream",
     "text": [
      "C:\\Users\\jz421\\Desktop\\GlobalLocal\\IEEG_Pipelines\\ieeg\\viz\\ensemble.py:141: FutureWarning: Parameters `vmin` and `vmax` are deprecated, use `vlim` instead.\n",
      "  plot_func(picks=[chan], axes=ax, show=False, **kwargs)\n"
     ]
    },
    {
     "name": "stdout",
     "output_type": "stream",
     "text": [
      "No baseline correction applied\n"
     ]
    },
    {
     "name": "stderr",
     "output_type": "stream",
     "text": [
      "C:\\Users\\jz421\\Desktop\\GlobalLocal\\IEEG_Pipelines\\ieeg\\viz\\ensemble.py:141: FutureWarning: Parameters `vmin` and `vmax` are deprecated, use `vlim` instead.\n",
      "  plot_func(picks=[chan], axes=ax, show=False, **kwargs)\n"
     ]
    },
    {
     "name": "stdout",
     "output_type": "stream",
     "text": [
      "No baseline correction applied\n"
     ]
    },
    {
     "name": "stderr",
     "output_type": "stream",
     "text": [
      "C:\\Users\\jz421\\Desktop\\GlobalLocal\\IEEG_Pipelines\\ieeg\\viz\\ensemble.py:141: FutureWarning: Parameters `vmin` and `vmax` are deprecated, use `vlim` instead.\n",
      "  plot_func(picks=[chan], axes=ax, show=False, **kwargs)\n"
     ]
    },
    {
     "name": "stdout",
     "output_type": "stream",
     "text": [
      "No baseline correction applied\n"
     ]
    },
    {
     "name": "stderr",
     "output_type": "stream",
     "text": [
      "C:\\Users\\jz421\\Desktop\\GlobalLocal\\IEEG_Pipelines\\ieeg\\viz\\ensemble.py:141: FutureWarning: Parameters `vmin` and `vmax` are deprecated, use `vlim` instead.\n",
      "  plot_func(picks=[chan], axes=ax, show=False, **kwargs)\n"
     ]
    },
    {
     "name": "stdout",
     "output_type": "stream",
     "text": [
      "No baseline correction applied\n"
     ]
    },
    {
     "name": "stderr",
     "output_type": "stream",
     "text": [
      "C:\\Users\\jz421\\Desktop\\GlobalLocal\\IEEG_Pipelines\\ieeg\\viz\\ensemble.py:141: FutureWarning: Parameters `vmin` and `vmax` are deprecated, use `vlim` instead.\n",
      "  plot_func(picks=[chan], axes=ax, show=False, **kwargs)\n"
     ]
    },
    {
     "name": "stdout",
     "output_type": "stream",
     "text": [
      "No baseline correction applied\n"
     ]
    },
    {
     "name": "stderr",
     "output_type": "stream",
     "text": [
      "C:\\Users\\jz421\\Desktop\\GlobalLocal\\IEEG_Pipelines\\ieeg\\viz\\ensemble.py:141: FutureWarning: Parameters `vmin` and `vmax` are deprecated, use `vlim` instead.\n",
      "  plot_func(picks=[chan], axes=ax, show=False, **kwargs)\n"
     ]
    },
    {
     "name": "stdout",
     "output_type": "stream",
     "text": [
      "No baseline correction applied\n"
     ]
    },
    {
     "name": "stderr",
     "output_type": "stream",
     "text": [
      "C:\\Users\\jz421\\Desktop\\GlobalLocal\\IEEG_Pipelines\\ieeg\\viz\\ensemble.py:141: FutureWarning: Parameters `vmin` and `vmax` are deprecated, use `vlim` instead.\n",
      "  plot_func(picks=[chan], axes=ax, show=False, **kwargs)\n"
     ]
    },
    {
     "name": "stdout",
     "output_type": "stream",
     "text": [
      "No baseline correction applied\n"
     ]
    },
    {
     "name": "stderr",
     "output_type": "stream",
     "text": [
      "C:\\Users\\jz421\\Desktop\\GlobalLocal\\IEEG_Pipelines\\ieeg\\viz\\ensemble.py:141: FutureWarning: Parameters `vmin` and `vmax` are deprecated, use `vlim` instead.\n",
      "  plot_func(picks=[chan], axes=ax, show=False, **kwargs)\n"
     ]
    },
    {
     "name": "stdout",
     "output_type": "stream",
     "text": [
      "No baseline correction applied\n"
     ]
    },
    {
     "name": "stderr",
     "output_type": "stream",
     "text": [
      "C:\\Users\\jz421\\Desktop\\GlobalLocal\\IEEG_Pipelines\\ieeg\\viz\\ensemble.py:141: FutureWarning: Parameters `vmin` and `vmax` are deprecated, use `vlim` instead.\n",
      "  plot_func(picks=[chan], axes=ax, show=False, **kwargs)\n"
     ]
    },
    {
     "name": "stdout",
     "output_type": "stream",
     "text": [
      "No baseline correction applied\n"
     ]
    },
    {
     "name": "stderr",
     "output_type": "stream",
     "text": [
      "C:\\Users\\jz421\\Desktop\\GlobalLocal\\IEEG_Pipelines\\ieeg\\viz\\ensemble.py:141: FutureWarning: Parameters `vmin` and `vmax` are deprecated, use `vlim` instead.\n",
      "  plot_func(picks=[chan], axes=ax, show=False, **kwargs)\n"
     ]
    },
    {
     "name": "stdout",
     "output_type": "stream",
     "text": [
      "No baseline correction applied\n"
     ]
    },
    {
     "name": "stderr",
     "output_type": "stream",
     "text": [
      "C:\\Users\\jz421\\Desktop\\GlobalLocal\\IEEG_Pipelines\\ieeg\\viz\\ensemble.py:141: FutureWarning: Parameters `vmin` and `vmax` are deprecated, use `vlim` instead.\n",
      "  plot_func(picks=[chan], axes=ax, show=False, **kwargs)\n"
     ]
    },
    {
     "name": "stdout",
     "output_type": "stream",
     "text": [
      "No baseline correction applied\n"
     ]
    },
    {
     "name": "stderr",
     "output_type": "stream",
     "text": [
      "C:\\Users\\jz421\\Desktop\\GlobalLocal\\IEEG_Pipelines\\ieeg\\viz\\ensemble.py:141: FutureWarning: Parameters `vmin` and `vmax` are deprecated, use `vlim` instead.\n",
      "  plot_func(picks=[chan], axes=ax, show=False, **kwargs)\n"
     ]
    },
    {
     "name": "stdout",
     "output_type": "stream",
     "text": [
      "No baseline correction applied\n"
     ]
    },
    {
     "name": "stderr",
     "output_type": "stream",
     "text": [
      "C:\\Users\\jz421\\Desktop\\GlobalLocal\\IEEG_Pipelines\\ieeg\\viz\\ensemble.py:141: FutureWarning: Parameters `vmin` and `vmax` are deprecated, use `vlim` instead.\n",
      "  plot_func(picks=[chan], axes=ax, show=False, **kwargs)\n"
     ]
    },
    {
     "name": "stdout",
     "output_type": "stream",
     "text": [
      "No baseline correction applied\n"
     ]
    },
    {
     "name": "stderr",
     "output_type": "stream",
     "text": [
      "C:\\Users\\jz421\\Desktop\\GlobalLocal\\IEEG_Pipelines\\ieeg\\viz\\ensemble.py:141: FutureWarning: Parameters `vmin` and `vmax` are deprecated, use `vlim` instead.\n",
      "  plot_func(picks=[chan], axes=ax, show=False, **kwargs)\n"
     ]
    },
    {
     "name": "stdout",
     "output_type": "stream",
     "text": [
      "No baseline correction applied\n"
     ]
    },
    {
     "name": "stderr",
     "output_type": "stream",
     "text": [
      "C:\\Users\\jz421\\Desktop\\GlobalLocal\\IEEG_Pipelines\\ieeg\\viz\\ensemble.py:141: FutureWarning: Parameters `vmin` and `vmax` are deprecated, use `vlim` instead.\n",
      "  plot_func(picks=[chan], axes=ax, show=False, **kwargs)\n"
     ]
    },
    {
     "name": "stdout",
     "output_type": "stream",
     "text": [
      "No baseline correction applied\n"
     ]
    },
    {
     "name": "stderr",
     "output_type": "stream",
     "text": [
      "C:\\Users\\jz421\\Desktop\\GlobalLocal\\IEEG_Pipelines\\ieeg\\viz\\ensemble.py:141: FutureWarning: Parameters `vmin` and `vmax` are deprecated, use `vlim` instead.\n",
      "  plot_func(picks=[chan], axes=ax, show=False, **kwargs)\n"
     ]
    },
    {
     "name": "stdout",
     "output_type": "stream",
     "text": [
      "No baseline correction applied\n"
     ]
    },
    {
     "name": "stderr",
     "output_type": "stream",
     "text": [
      "C:\\Users\\jz421\\Desktop\\GlobalLocal\\IEEG_Pipelines\\ieeg\\viz\\ensemble.py:141: FutureWarning: Parameters `vmin` and `vmax` are deprecated, use `vlim` instead.\n",
      "  plot_func(picks=[chan], axes=ax, show=False, **kwargs)\n"
     ]
    },
    {
     "name": "stdout",
     "output_type": "stream",
     "text": [
      "No baseline correction applied\n"
     ]
    },
    {
     "name": "stderr",
     "output_type": "stream",
     "text": [
      "C:\\Users\\jz421\\Desktop\\GlobalLocal\\IEEG_Pipelines\\ieeg\\viz\\ensemble.py:141: FutureWarning: Parameters `vmin` and `vmax` are deprecated, use `vlim` instead.\n",
      "  plot_func(picks=[chan], axes=ax, show=False, **kwargs)\n"
     ]
    },
    {
     "name": "stdout",
     "output_type": "stream",
     "text": [
      "No baseline correction applied\n"
     ]
    },
    {
     "name": "stderr",
     "output_type": "stream",
     "text": [
      "C:\\Users\\jz421\\Desktop\\GlobalLocal\\IEEG_Pipelines\\ieeg\\viz\\ensemble.py:141: FutureWarning: Parameters `vmin` and `vmax` are deprecated, use `vlim` instead.\n",
      "  plot_func(picks=[chan], axes=ax, show=False, **kwargs)\n"
     ]
    },
    {
     "name": "stdout",
     "output_type": "stream",
     "text": [
      "No baseline correction applied\n"
     ]
    },
    {
     "name": "stderr",
     "output_type": "stream",
     "text": [
      "C:\\Users\\jz421\\Desktop\\GlobalLocal\\IEEG_Pipelines\\ieeg\\viz\\ensemble.py:141: FutureWarning: Parameters `vmin` and `vmax` are deprecated, use `vlim` instead.\n",
      "  plot_func(picks=[chan], axes=ax, show=False, **kwargs)\n"
     ]
    },
    {
     "name": "stdout",
     "output_type": "stream",
     "text": [
      "No baseline correction applied\n"
     ]
    },
    {
     "name": "stderr",
     "output_type": "stream",
     "text": [
      "C:\\Users\\jz421\\Desktop\\GlobalLocal\\IEEG_Pipelines\\ieeg\\viz\\ensemble.py:141: FutureWarning: Parameters `vmin` and `vmax` are deprecated, use `vlim` instead.\n",
      "  plot_func(picks=[chan], axes=ax, show=False, **kwargs)\n"
     ]
    },
    {
     "name": "stdout",
     "output_type": "stream",
     "text": [
      "No baseline correction applied\n"
     ]
    },
    {
     "name": "stderr",
     "output_type": "stream",
     "text": [
      "C:\\Users\\jz421\\Desktop\\GlobalLocal\\IEEG_Pipelines\\ieeg\\viz\\ensemble.py:141: FutureWarning: Parameters `vmin` and `vmax` are deprecated, use `vlim` instead.\n",
      "  plot_func(picks=[chan], axes=ax, show=False, **kwargs)\n"
     ]
    },
    {
     "name": "stdout",
     "output_type": "stream",
     "text": [
      "No baseline correction applied\n"
     ]
    },
    {
     "name": "stderr",
     "output_type": "stream",
     "text": [
      "C:\\Users\\jz421\\Desktop\\GlobalLocal\\IEEG_Pipelines\\ieeg\\viz\\ensemble.py:141: FutureWarning: Parameters `vmin` and `vmax` are deprecated, use `vlim` instead.\n",
      "  plot_func(picks=[chan], axes=ax, show=False, **kwargs)\n"
     ]
    },
    {
     "name": "stdout",
     "output_type": "stream",
     "text": [
      "No baseline correction applied\n"
     ]
    },
    {
     "name": "stderr",
     "output_type": "stream",
     "text": [
      "C:\\Users\\jz421\\Desktop\\GlobalLocal\\IEEG_Pipelines\\ieeg\\viz\\ensemble.py:141: FutureWarning: Parameters `vmin` and `vmax` are deprecated, use `vlim` instead.\n",
      "  plot_func(picks=[chan], axes=ax, show=False, **kwargs)\n"
     ]
    },
    {
     "name": "stdout",
     "output_type": "stream",
     "text": [
      "No baseline correction applied\n"
     ]
    },
    {
     "name": "stderr",
     "output_type": "stream",
     "text": [
      "C:\\Users\\jz421\\Desktop\\GlobalLocal\\IEEG_Pipelines\\ieeg\\viz\\ensemble.py:141: FutureWarning: Parameters `vmin` and `vmax` are deprecated, use `vlim` instead.\n",
      "  plot_func(picks=[chan], axes=ax, show=False, **kwargs)\n"
     ]
    },
    {
     "name": "stdout",
     "output_type": "stream",
     "text": [
      "No baseline correction applied\n"
     ]
    },
    {
     "name": "stderr",
     "output_type": "stream",
     "text": [
      "C:\\Users\\jz421\\Desktop\\GlobalLocal\\IEEG_Pipelines\\ieeg\\viz\\ensemble.py:141: FutureWarning: Parameters `vmin` and `vmax` are deprecated, use `vlim` instead.\n",
      "  plot_func(picks=[chan], axes=ax, show=False, **kwargs)\n"
     ]
    },
    {
     "name": "stdout",
     "output_type": "stream",
     "text": [
      "No baseline correction applied\n"
     ]
    },
    {
     "name": "stderr",
     "output_type": "stream",
     "text": [
      "C:\\Users\\jz421\\Desktop\\GlobalLocal\\IEEG_Pipelines\\ieeg\\viz\\ensemble.py:141: FutureWarning: Parameters `vmin` and `vmax` are deprecated, use `vlim` instead.\n",
      "  plot_func(picks=[chan], axes=ax, show=False, **kwargs)\n"
     ]
    },
    {
     "name": "stdout",
     "output_type": "stream",
     "text": [
      "No baseline correction applied\n"
     ]
    },
    {
     "name": "stderr",
     "output_type": "stream",
     "text": [
      "C:\\Users\\jz421\\Desktop\\GlobalLocal\\IEEG_Pipelines\\ieeg\\viz\\ensemble.py:141: FutureWarning: Parameters `vmin` and `vmax` are deprecated, use `vlim` instead.\n",
      "  plot_func(picks=[chan], axes=ax, show=False, **kwargs)\n"
     ]
    },
    {
     "name": "stdout",
     "output_type": "stream",
     "text": [
      "No baseline correction applied\n"
     ]
    },
    {
     "name": "stderr",
     "output_type": "stream",
     "text": [
      "C:\\Users\\jz421\\Desktop\\GlobalLocal\\IEEG_Pipelines\\ieeg\\viz\\ensemble.py:141: FutureWarning: Parameters `vmin` and `vmax` are deprecated, use `vlim` instead.\n",
      "  plot_func(picks=[chan], axes=ax, show=False, **kwargs)\n"
     ]
    },
    {
     "name": "stdout",
     "output_type": "stream",
     "text": [
      "No baseline correction applied\n"
     ]
    },
    {
     "name": "stderr",
     "output_type": "stream",
     "text": [
      "C:\\Users\\jz421\\Desktop\\GlobalLocal\\IEEG_Pipelines\\ieeg\\viz\\ensemble.py:141: FutureWarning: Parameters `vmin` and `vmax` are deprecated, use `vlim` instead.\n",
      "  plot_func(picks=[chan], axes=ax, show=False, **kwargs)\n"
     ]
    },
    {
     "name": "stdout",
     "output_type": "stream",
     "text": [
      "No baseline correction applied\n"
     ]
    },
    {
     "name": "stderr",
     "output_type": "stream",
     "text": [
      "C:\\Users\\jz421\\Desktop\\GlobalLocal\\IEEG_Pipelines\\ieeg\\viz\\ensemble.py:141: FutureWarning: Parameters `vmin` and `vmax` are deprecated, use `vlim` instead.\n",
      "  plot_func(picks=[chan], axes=ax, show=False, **kwargs)\n"
     ]
    },
    {
     "name": "stdout",
     "output_type": "stream",
     "text": [
      "No baseline correction applied\n"
     ]
    },
    {
     "name": "stderr",
     "output_type": "stream",
     "text": [
      "C:\\Users\\jz421\\Desktop\\GlobalLocal\\IEEG_Pipelines\\ieeg\\viz\\ensemble.py:141: FutureWarning: Parameters `vmin` and `vmax` are deprecated, use `vlim` instead.\n",
      "  plot_func(picks=[chan], axes=ax, show=False, **kwargs)\n"
     ]
    },
    {
     "name": "stdout",
     "output_type": "stream",
     "text": [
      "No baseline correction applied\n"
     ]
    },
    {
     "name": "stderr",
     "output_type": "stream",
     "text": [
      "C:\\Users\\jz421\\Desktop\\GlobalLocal\\IEEG_Pipelines\\ieeg\\viz\\ensemble.py:141: FutureWarning: Parameters `vmin` and `vmax` are deprecated, use `vlim` instead.\n",
      "  plot_func(picks=[chan], axes=ax, show=False, **kwargs)\n"
     ]
    },
    {
     "name": "stdout",
     "output_type": "stream",
     "text": [
      "No baseline correction applied\n"
     ]
    },
    {
     "name": "stderr",
     "output_type": "stream",
     "text": [
      "C:\\Users\\jz421\\Desktop\\GlobalLocal\\IEEG_Pipelines\\ieeg\\viz\\ensemble.py:141: FutureWarning: Parameters `vmin` and `vmax` are deprecated, use `vlim` instead.\n",
      "  plot_func(picks=[chan], axes=ax, show=False, **kwargs)\n"
     ]
    },
    {
     "name": "stdout",
     "output_type": "stream",
     "text": [
      "No baseline correction applied\n"
     ]
    },
    {
     "name": "stderr",
     "output_type": "stream",
     "text": [
      "C:\\Users\\jz421\\Desktop\\GlobalLocal\\IEEG_Pipelines\\ieeg\\viz\\ensemble.py:141: FutureWarning: Parameters `vmin` and `vmax` are deprecated, use `vlim` instead.\n",
      "  plot_func(picks=[chan], axes=ax, show=False, **kwargs)\n"
     ]
    },
    {
     "name": "stdout",
     "output_type": "stream",
     "text": [
      "No baseline correction applied\n"
     ]
    },
    {
     "name": "stderr",
     "output_type": "stream",
     "text": [
      "C:\\Users\\jz421\\Desktop\\GlobalLocal\\IEEG_Pipelines\\ieeg\\viz\\ensemble.py:141: FutureWarning: Parameters `vmin` and `vmax` are deprecated, use `vlim` instead.\n",
      "  plot_func(picks=[chan], axes=ax, show=False, **kwargs)\n"
     ]
    },
    {
     "name": "stdout",
     "output_type": "stream",
     "text": [
      "No baseline correction applied\n"
     ]
    },
    {
     "name": "stderr",
     "output_type": "stream",
     "text": [
      "C:\\Users\\jz421\\Desktop\\GlobalLocal\\IEEG_Pipelines\\ieeg\\viz\\ensemble.py:141: FutureWarning: Parameters `vmin` and `vmax` are deprecated, use `vlim` instead.\n",
      "  plot_func(picks=[chan], axes=ax, show=False, **kwargs)\n"
     ]
    },
    {
     "name": "stdout",
     "output_type": "stream",
     "text": [
      "No baseline correction applied\n"
     ]
    },
    {
     "name": "stderr",
     "output_type": "stream",
     "text": [
      "C:\\Users\\jz421\\Desktop\\GlobalLocal\\IEEG_Pipelines\\ieeg\\viz\\ensemble.py:141: FutureWarning: Parameters `vmin` and `vmax` are deprecated, use `vlim` instead.\n",
      "  plot_func(picks=[chan], axes=ax, show=False, **kwargs)\n"
     ]
    },
    {
     "name": "stdout",
     "output_type": "stream",
     "text": [
      "No baseline correction applied\n"
     ]
    },
    {
     "name": "stderr",
     "output_type": "stream",
     "text": [
      "C:\\Users\\jz421\\Desktop\\GlobalLocal\\IEEG_Pipelines\\ieeg\\viz\\ensemble.py:141: FutureWarning: Parameters `vmin` and `vmax` are deprecated, use `vlim` instead.\n",
      "  plot_func(picks=[chan], axes=ax, show=False, **kwargs)\n"
     ]
    },
    {
     "name": "stdout",
     "output_type": "stream",
     "text": [
      "No baseline correction applied\n"
     ]
    },
    {
     "name": "stderr",
     "output_type": "stream",
     "text": [
      "C:\\Users\\jz421\\Desktop\\GlobalLocal\\IEEG_Pipelines\\ieeg\\viz\\ensemble.py:141: FutureWarning: Parameters `vmin` and `vmax` are deprecated, use `vlim` instead.\n",
      "  plot_func(picks=[chan], axes=ax, show=False, **kwargs)\n"
     ]
    },
    {
     "name": "stdout",
     "output_type": "stream",
     "text": [
      "No baseline correction applied\n"
     ]
    },
    {
     "name": "stderr",
     "output_type": "stream",
     "text": [
      "C:\\Users\\jz421\\Desktop\\GlobalLocal\\IEEG_Pipelines\\ieeg\\viz\\ensemble.py:141: FutureWarning: Parameters `vmin` and `vmax` are deprecated, use `vlim` instead.\n",
      "  plot_func(picks=[chan], axes=ax, show=False, **kwargs)\n"
     ]
    },
    {
     "name": "stdout",
     "output_type": "stream",
     "text": [
      "No baseline correction applied\n"
     ]
    },
    {
     "name": "stderr",
     "output_type": "stream",
     "text": [
      "C:\\Users\\jz421\\Desktop\\GlobalLocal\\IEEG_Pipelines\\ieeg\\viz\\ensemble.py:141: FutureWarning: Parameters `vmin` and `vmax` are deprecated, use `vlim` instead.\n",
      "  plot_func(picks=[chan], axes=ax, show=False, **kwargs)\n"
     ]
    },
    {
     "name": "stdout",
     "output_type": "stream",
     "text": [
      "No baseline correction applied\n"
     ]
    },
    {
     "name": "stderr",
     "output_type": "stream",
     "text": [
      "C:\\Users\\jz421\\Desktop\\GlobalLocal\\IEEG_Pipelines\\ieeg\\viz\\ensemble.py:141: FutureWarning: Parameters `vmin` and `vmax` are deprecated, use `vlim` instead.\n",
      "  plot_func(picks=[chan], axes=ax, show=False, **kwargs)\n"
     ]
    },
    {
     "name": "stdout",
     "output_type": "stream",
     "text": [
      "No baseline correction applied\n"
     ]
    },
    {
     "name": "stderr",
     "output_type": "stream",
     "text": [
      "C:\\Users\\jz421\\Desktop\\GlobalLocal\\IEEG_Pipelines\\ieeg\\viz\\ensemble.py:141: FutureWarning: Parameters `vmin` and `vmax` are deprecated, use `vlim` instead.\n",
      "  plot_func(picks=[chan], axes=ax, show=False, **kwargs)\n"
     ]
    },
    {
     "name": "stdout",
     "output_type": "stream",
     "text": [
      "No baseline correction applied\n"
     ]
    },
    {
     "name": "stderr",
     "output_type": "stream",
     "text": [
      "C:\\Users\\jz421\\Desktop\\GlobalLocal\\IEEG_Pipelines\\ieeg\\viz\\ensemble.py:141: FutureWarning: Parameters `vmin` and `vmax` are deprecated, use `vlim` instead.\n",
      "  plot_func(picks=[chan], axes=ax, show=False, **kwargs)\n"
     ]
    },
    {
     "name": "stdout",
     "output_type": "stream",
     "text": [
      "No baseline correction applied\n"
     ]
    },
    {
     "name": "stderr",
     "output_type": "stream",
     "text": [
      "C:\\Users\\jz421\\Desktop\\GlobalLocal\\IEEG_Pipelines\\ieeg\\viz\\ensemble.py:141: FutureWarning: Parameters `vmin` and `vmax` are deprecated, use `vlim` instead.\n",
      "  plot_func(picks=[chan], axes=ax, show=False, **kwargs)\n"
     ]
    },
    {
     "name": "stdout",
     "output_type": "stream",
     "text": [
      "No baseline correction applied\n"
     ]
    },
    {
     "name": "stderr",
     "output_type": "stream",
     "text": [
      "C:\\Users\\jz421\\Desktop\\GlobalLocal\\IEEG_Pipelines\\ieeg\\viz\\ensemble.py:141: FutureWarning: Parameters `vmin` and `vmax` are deprecated, use `vlim` instead.\n",
      "  plot_func(picks=[chan], axes=ax, show=False, **kwargs)\n"
     ]
    },
    {
     "name": "stdout",
     "output_type": "stream",
     "text": [
      "No baseline correction applied\n"
     ]
    },
    {
     "name": "stderr",
     "output_type": "stream",
     "text": [
      "C:\\Users\\jz421\\Desktop\\GlobalLocal\\IEEG_Pipelines\\ieeg\\viz\\ensemble.py:141: FutureWarning: Parameters `vmin` and `vmax` are deprecated, use `vlim` instead.\n",
      "  plot_func(picks=[chan], axes=ax, show=False, **kwargs)\n"
     ]
    },
    {
     "name": "stdout",
     "output_type": "stream",
     "text": [
      "No baseline correction applied\n"
     ]
    },
    {
     "name": "stderr",
     "output_type": "stream",
     "text": [
      "C:\\Users\\jz421\\Desktop\\GlobalLocal\\IEEG_Pipelines\\ieeg\\viz\\ensemble.py:141: FutureWarning: Parameters `vmin` and `vmax` are deprecated, use `vlim` instead.\n",
      "  plot_func(picks=[chan], axes=ax, show=False, **kwargs)\n"
     ]
    },
    {
     "name": "stdout",
     "output_type": "stream",
     "text": [
      "No baseline correction applied\n"
     ]
    },
    {
     "name": "stderr",
     "output_type": "stream",
     "text": [
      "C:\\Users\\jz421\\Desktop\\GlobalLocal\\IEEG_Pipelines\\ieeg\\viz\\ensemble.py:141: FutureWarning: Parameters `vmin` and `vmax` are deprecated, use `vlim` instead.\n",
      "  plot_func(picks=[chan], axes=ax, show=False, **kwargs)\n"
     ]
    },
    {
     "name": "stdout",
     "output_type": "stream",
     "text": [
      "No baseline correction applied\n"
     ]
    },
    {
     "name": "stderr",
     "output_type": "stream",
     "text": [
      "C:\\Users\\jz421\\Desktop\\GlobalLocal\\IEEG_Pipelines\\ieeg\\viz\\ensemble.py:141: FutureWarning: Parameters `vmin` and `vmax` are deprecated, use `vlim` instead.\n",
      "  plot_func(picks=[chan], axes=ax, show=False, **kwargs)\n"
     ]
    },
    {
     "name": "stdout",
     "output_type": "stream",
     "text": [
      "No baseline correction applied\n"
     ]
    },
    {
     "name": "stderr",
     "output_type": "stream",
     "text": [
      "C:\\Users\\jz421\\Desktop\\GlobalLocal\\IEEG_Pipelines\\ieeg\\viz\\ensemble.py:141: FutureWarning: Parameters `vmin` and `vmax` are deprecated, use `vlim` instead.\n",
      "  plot_func(picks=[chan], axes=ax, show=False, **kwargs)\n"
     ]
    },
    {
     "name": "stdout",
     "output_type": "stream",
     "text": [
      "No baseline correction applied\n"
     ]
    },
    {
     "name": "stderr",
     "output_type": "stream",
     "text": [
      "C:\\Users\\jz421\\Desktop\\GlobalLocal\\IEEG_Pipelines\\ieeg\\viz\\ensemble.py:141: FutureWarning: Parameters `vmin` and `vmax` are deprecated, use `vlim` instead.\n",
      "  plot_func(picks=[chan], axes=ax, show=False, **kwargs)\n"
     ]
    },
    {
     "name": "stdout",
     "output_type": "stream",
     "text": [
      "No baseline correction applied\n"
     ]
    },
    {
     "name": "stderr",
     "output_type": "stream",
     "text": [
      "C:\\Users\\jz421\\Desktop\\GlobalLocal\\IEEG_Pipelines\\ieeg\\viz\\ensemble.py:141: FutureWarning: Parameters `vmin` and `vmax` are deprecated, use `vlim` instead.\n",
      "  plot_func(picks=[chan], axes=ax, show=False, **kwargs)\n"
     ]
    },
    {
     "name": "stdout",
     "output_type": "stream",
     "text": [
      "No baseline correction applied\n"
     ]
    },
    {
     "name": "stderr",
     "output_type": "stream",
     "text": [
      "C:\\Users\\jz421\\Desktop\\GlobalLocal\\IEEG_Pipelines\\ieeg\\viz\\ensemble.py:141: FutureWarning: Parameters `vmin` and `vmax` are deprecated, use `vlim` instead.\n",
      "  plot_func(picks=[chan], axes=ax, show=False, **kwargs)\n"
     ]
    },
    {
     "name": "stdout",
     "output_type": "stream",
     "text": [
      "No baseline correction applied\n"
     ]
    },
    {
     "name": "stderr",
     "output_type": "stream",
     "text": [
      "C:\\Users\\jz421\\Desktop\\GlobalLocal\\IEEG_Pipelines\\ieeg\\viz\\ensemble.py:141: FutureWarning: Parameters `vmin` and `vmax` are deprecated, use `vlim` instead.\n",
      "  plot_func(picks=[chan], axes=ax, show=False, **kwargs)\n"
     ]
    },
    {
     "name": "stdout",
     "output_type": "stream",
     "text": [
      "No baseline correction applied\n"
     ]
    },
    {
     "name": "stderr",
     "output_type": "stream",
     "text": [
      "C:\\Users\\jz421\\Desktop\\GlobalLocal\\IEEG_Pipelines\\ieeg\\viz\\ensemble.py:141: FutureWarning: Parameters `vmin` and `vmax` are deprecated, use `vlim` instead.\n",
      "  plot_func(picks=[chan], axes=ax, show=False, **kwargs)\n"
     ]
    },
    {
     "name": "stdout",
     "output_type": "stream",
     "text": [
      "No baseline correction applied\n"
     ]
    },
    {
     "name": "stderr",
     "output_type": "stream",
     "text": [
      "C:\\Users\\jz421\\Desktop\\GlobalLocal\\IEEG_Pipelines\\ieeg\\viz\\ensemble.py:141: FutureWarning: Parameters `vmin` and `vmax` are deprecated, use `vlim` instead.\n",
      "  plot_func(picks=[chan], axes=ax, show=False, **kwargs)\n"
     ]
    },
    {
     "name": "stdout",
     "output_type": "stream",
     "text": [
      "No baseline correction applied\n"
     ]
    },
    {
     "name": "stderr",
     "output_type": "stream",
     "text": [
      "C:\\Users\\jz421\\Desktop\\GlobalLocal\\IEEG_Pipelines\\ieeg\\viz\\ensemble.py:141: FutureWarning: Parameters `vmin` and `vmax` are deprecated, use `vlim` instead.\n",
      "  plot_func(picks=[chan], axes=ax, show=False, **kwargs)\n"
     ]
    },
    {
     "name": "stdout",
     "output_type": "stream",
     "text": [
      "No baseline correction applied\n"
     ]
    },
    {
     "name": "stderr",
     "output_type": "stream",
     "text": [
      "C:\\Users\\jz421\\Desktop\\GlobalLocal\\IEEG_Pipelines\\ieeg\\viz\\ensemble.py:141: FutureWarning: Parameters `vmin` and `vmax` are deprecated, use `vlim` instead.\n",
      "  plot_func(picks=[chan], axes=ax, show=False, **kwargs)\n"
     ]
    },
    {
     "name": "stdout",
     "output_type": "stream",
     "text": [
      "No baseline correction applied\n"
     ]
    },
    {
     "name": "stderr",
     "output_type": "stream",
     "text": [
      "C:\\Users\\jz421\\Desktop\\GlobalLocal\\IEEG_Pipelines\\ieeg\\viz\\ensemble.py:141: FutureWarning: Parameters `vmin` and `vmax` are deprecated, use `vlim` instead.\n",
      "  plot_func(picks=[chan], axes=ax, show=False, **kwargs)\n"
     ]
    },
    {
     "name": "stdout",
     "output_type": "stream",
     "text": [
      "No baseline correction applied\n"
     ]
    },
    {
     "name": "stderr",
     "output_type": "stream",
     "text": [
      "C:\\Users\\jz421\\Desktop\\GlobalLocal\\IEEG_Pipelines\\ieeg\\viz\\ensemble.py:141: FutureWarning: Parameters `vmin` and `vmax` are deprecated, use `vlim` instead.\n",
      "  plot_func(picks=[chan], axes=ax, show=False, **kwargs)\n"
     ]
    },
    {
     "name": "stdout",
     "output_type": "stream",
     "text": [
      "No baseline correction applied\n"
     ]
    },
    {
     "name": "stderr",
     "output_type": "stream",
     "text": [
      "C:\\Users\\jz421\\Desktop\\GlobalLocal\\IEEG_Pipelines\\ieeg\\viz\\ensemble.py:141: FutureWarning: Parameters `vmin` and `vmax` are deprecated, use `vlim` instead.\n",
      "  plot_func(picks=[chan], axes=ax, show=False, **kwargs)\n"
     ]
    },
    {
     "name": "stdout",
     "output_type": "stream",
     "text": [
      "No baseline correction applied\n"
     ]
    },
    {
     "name": "stderr",
     "output_type": "stream",
     "text": [
      "C:\\Users\\jz421\\Desktop\\GlobalLocal\\IEEG_Pipelines\\ieeg\\viz\\ensemble.py:141: FutureWarning: Parameters `vmin` and `vmax` are deprecated, use `vlim` instead.\n",
      "  plot_func(picks=[chan], axes=ax, show=False, **kwargs)\n"
     ]
    },
    {
     "name": "stdout",
     "output_type": "stream",
     "text": [
      "No baseline correction applied\n"
     ]
    },
    {
     "name": "stderr",
     "output_type": "stream",
     "text": [
      "C:\\Users\\jz421\\Desktop\\GlobalLocal\\IEEG_Pipelines\\ieeg\\viz\\ensemble.py:141: FutureWarning: Parameters `vmin` and `vmax` are deprecated, use `vlim` instead.\n",
      "  plot_func(picks=[chan], axes=ax, show=False, **kwargs)\n"
     ]
    },
    {
     "name": "stdout",
     "output_type": "stream",
     "text": [
      "No baseline correction applied\n"
     ]
    },
    {
     "name": "stderr",
     "output_type": "stream",
     "text": [
      "C:\\Users\\jz421\\Desktop\\GlobalLocal\\IEEG_Pipelines\\ieeg\\viz\\ensemble.py:141: FutureWarning: Parameters `vmin` and `vmax` are deprecated, use `vlim` instead.\n",
      "  plot_func(picks=[chan], axes=ax, show=False, **kwargs)\n"
     ]
    },
    {
     "name": "stdout",
     "output_type": "stream",
     "text": [
      "No baseline correction applied\n"
     ]
    },
    {
     "name": "stderr",
     "output_type": "stream",
     "text": [
      "C:\\Users\\jz421\\Desktop\\GlobalLocal\\IEEG_Pipelines\\ieeg\\viz\\ensemble.py:141: FutureWarning: Parameters `vmin` and `vmax` are deprecated, use `vlim` instead.\n",
      "  plot_func(picks=[chan], axes=ax, show=False, **kwargs)\n"
     ]
    },
    {
     "name": "stdout",
     "output_type": "stream",
     "text": [
      "No baseline correction applied\n"
     ]
    },
    {
     "name": "stderr",
     "output_type": "stream",
     "text": [
      "C:\\Users\\jz421\\Desktop\\GlobalLocal\\IEEG_Pipelines\\ieeg\\viz\\ensemble.py:141: FutureWarning: Parameters `vmin` and `vmax` are deprecated, use `vlim` instead.\n",
      "  plot_func(picks=[chan], axes=ax, show=False, **kwargs)\n"
     ]
    },
    {
     "name": "stdout",
     "output_type": "stream",
     "text": [
      "No baseline correction applied\n"
     ]
    },
    {
     "name": "stderr",
     "output_type": "stream",
     "text": [
      "C:\\Users\\jz421\\Desktop\\GlobalLocal\\IEEG_Pipelines\\ieeg\\viz\\ensemble.py:141: FutureWarning: Parameters `vmin` and `vmax` are deprecated, use `vlim` instead.\n",
      "  plot_func(picks=[chan], axes=ax, show=False, **kwargs)\n"
     ]
    },
    {
     "name": "stdout",
     "output_type": "stream",
     "text": [
      "No baseline correction applied\n"
     ]
    },
    {
     "name": "stderr",
     "output_type": "stream",
     "text": [
      "C:\\Users\\jz421\\Desktop\\GlobalLocal\\IEEG_Pipelines\\ieeg\\viz\\ensemble.py:141: FutureWarning: Parameters `vmin` and `vmax` are deprecated, use `vlim` instead.\n",
      "  plot_func(picks=[chan], axes=ax, show=False, **kwargs)\n"
     ]
    },
    {
     "name": "stdout",
     "output_type": "stream",
     "text": [
      "No baseline correction applied\n"
     ]
    },
    {
     "name": "stderr",
     "output_type": "stream",
     "text": [
      "C:\\Users\\jz421\\Desktop\\GlobalLocal\\IEEG_Pipelines\\ieeg\\viz\\ensemble.py:141: FutureWarning: Parameters `vmin` and `vmax` are deprecated, use `vlim` instead.\n",
      "  plot_func(picks=[chan], axes=ax, show=False, **kwargs)\n"
     ]
    },
    {
     "name": "stdout",
     "output_type": "stream",
     "text": [
      "No baseline correction applied\n"
     ]
    },
    {
     "name": "stderr",
     "output_type": "stream",
     "text": [
      "C:\\Users\\jz421\\Desktop\\GlobalLocal\\IEEG_Pipelines\\ieeg\\viz\\ensemble.py:141: FutureWarning: Parameters `vmin` and `vmax` are deprecated, use `vlim` instead.\n",
      "  plot_func(picks=[chan], axes=ax, show=False, **kwargs)\n"
     ]
    },
    {
     "name": "stdout",
     "output_type": "stream",
     "text": [
      "No baseline correction applied\n"
     ]
    },
    {
     "name": "stderr",
     "output_type": "stream",
     "text": [
      "C:\\Users\\jz421\\Desktop\\GlobalLocal\\IEEG_Pipelines\\ieeg\\viz\\ensemble.py:141: FutureWarning: Parameters `vmin` and `vmax` are deprecated, use `vlim` instead.\n",
      "  plot_func(picks=[chan], axes=ax, show=False, **kwargs)\n"
     ]
    },
    {
     "name": "stdout",
     "output_type": "stream",
     "text": [
      "No baseline correction applied\n"
     ]
    },
    {
     "name": "stderr",
     "output_type": "stream",
     "text": [
      "C:\\Users\\jz421\\Desktop\\GlobalLocal\\IEEG_Pipelines\\ieeg\\viz\\ensemble.py:141: FutureWarning: Parameters `vmin` and `vmax` are deprecated, use `vlim` instead.\n",
      "  plot_func(picks=[chan], axes=ax, show=False, **kwargs)\n"
     ]
    },
    {
     "name": "stdout",
     "output_type": "stream",
     "text": [
      "No baseline correction applied\n"
     ]
    },
    {
     "name": "stderr",
     "output_type": "stream",
     "text": [
      "C:\\Users\\jz421\\Desktop\\GlobalLocal\\IEEG_Pipelines\\ieeg\\viz\\ensemble.py:141: FutureWarning: Parameters `vmin` and `vmax` are deprecated, use `vlim` instead.\n",
      "  plot_func(picks=[chan], axes=ax, show=False, **kwargs)\n"
     ]
    },
    {
     "name": "stdout",
     "output_type": "stream",
     "text": [
      "No baseline correction applied\n"
     ]
    },
    {
     "name": "stderr",
     "output_type": "stream",
     "text": [
      "C:\\Users\\jz421\\Desktop\\GlobalLocal\\IEEG_Pipelines\\ieeg\\viz\\ensemble.py:141: FutureWarning: Parameters `vmin` and `vmax` are deprecated, use `vlim` instead.\n",
      "  plot_func(picks=[chan], axes=ax, show=False, **kwargs)\n"
     ]
    },
    {
     "name": "stdout",
     "output_type": "stream",
     "text": [
      "Saved figure: D0117_Stimulus_fullTrialBase_1.jpg\n",
      "Saved figure: D0117_Stimulus_fullTrialBase_2.jpg\n",
      "Saved figure: D0117_Stimulus_fullTrialBase_3.jpg\n",
      "Saved figure: D0117_Stimulus_fullTrialBase_4.jpg\n",
      "Filename: C:\\Users\\jz421\\Box\\CoganLab\\BIDS-1.1_GlobalLocal\\BIDS\\derivatives\\spec\\wavelet\\D0117\\Response_fullTrialBase-tfr.h5\n",
      "Reading C:\\Users\\jz421\\Box\\CoganLab\\BIDS-1.1_GlobalLocal\\BIDS\\derivatives\\spec\\wavelet\\D0117\\Response_fullTrialBase-tfr.h5 ...\n",
      "No baseline correction applied\n"
     ]
    },
    {
     "name": "stderr",
     "output_type": "stream",
     "text": [
      "C:\\Users\\jz421\\Desktop\\GlobalLocal\\IEEG_Pipelines\\ieeg\\viz\\ensemble.py:141: FutureWarning: Parameters `vmin` and `vmax` are deprecated, use `vlim` instead.\n",
      "  plot_func(picks=[chan], axes=ax, show=False, **kwargs)\n"
     ]
    },
    {
     "name": "stdout",
     "output_type": "stream",
     "text": [
      "No baseline correction applied\n"
     ]
    },
    {
     "name": "stderr",
     "output_type": "stream",
     "text": [
      "C:\\Users\\jz421\\Desktop\\GlobalLocal\\IEEG_Pipelines\\ieeg\\viz\\ensemble.py:141: FutureWarning: Parameters `vmin` and `vmax` are deprecated, use `vlim` instead.\n",
      "  plot_func(picks=[chan], axes=ax, show=False, **kwargs)\n"
     ]
    },
    {
     "name": "stdout",
     "output_type": "stream",
     "text": [
      "No baseline correction applied\n"
     ]
    },
    {
     "name": "stderr",
     "output_type": "stream",
     "text": [
      "C:\\Users\\jz421\\Desktop\\GlobalLocal\\IEEG_Pipelines\\ieeg\\viz\\ensemble.py:141: FutureWarning: Parameters `vmin` and `vmax` are deprecated, use `vlim` instead.\n",
      "  plot_func(picks=[chan], axes=ax, show=False, **kwargs)\n"
     ]
    },
    {
     "name": "stdout",
     "output_type": "stream",
     "text": [
      "No baseline correction applied\n"
     ]
    },
    {
     "name": "stderr",
     "output_type": "stream",
     "text": [
      "C:\\Users\\jz421\\Desktop\\GlobalLocal\\IEEG_Pipelines\\ieeg\\viz\\ensemble.py:141: FutureWarning: Parameters `vmin` and `vmax` are deprecated, use `vlim` instead.\n",
      "  plot_func(picks=[chan], axes=ax, show=False, **kwargs)\n"
     ]
    },
    {
     "name": "stdout",
     "output_type": "stream",
     "text": [
      "No baseline correction applied\n"
     ]
    },
    {
     "name": "stderr",
     "output_type": "stream",
     "text": [
      "C:\\Users\\jz421\\Desktop\\GlobalLocal\\IEEG_Pipelines\\ieeg\\viz\\ensemble.py:141: FutureWarning: Parameters `vmin` and `vmax` are deprecated, use `vlim` instead.\n",
      "  plot_func(picks=[chan], axes=ax, show=False, **kwargs)\n"
     ]
    },
    {
     "name": "stdout",
     "output_type": "stream",
     "text": [
      "No baseline correction applied\n"
     ]
    },
    {
     "name": "stderr",
     "output_type": "stream",
     "text": [
      "C:\\Users\\jz421\\Desktop\\GlobalLocal\\IEEG_Pipelines\\ieeg\\viz\\ensemble.py:141: FutureWarning: Parameters `vmin` and `vmax` are deprecated, use `vlim` instead.\n",
      "  plot_func(picks=[chan], axes=ax, show=False, **kwargs)\n"
     ]
    },
    {
     "name": "stdout",
     "output_type": "stream",
     "text": [
      "No baseline correction applied\n"
     ]
    },
    {
     "name": "stderr",
     "output_type": "stream",
     "text": [
      "C:\\Users\\jz421\\Desktop\\GlobalLocal\\IEEG_Pipelines\\ieeg\\viz\\ensemble.py:141: FutureWarning: Parameters `vmin` and `vmax` are deprecated, use `vlim` instead.\n",
      "  plot_func(picks=[chan], axes=ax, show=False, **kwargs)\n"
     ]
    },
    {
     "name": "stdout",
     "output_type": "stream",
     "text": [
      "No baseline correction applied\n"
     ]
    },
    {
     "name": "stderr",
     "output_type": "stream",
     "text": [
      "C:\\Users\\jz421\\Desktop\\GlobalLocal\\IEEG_Pipelines\\ieeg\\viz\\ensemble.py:141: FutureWarning: Parameters `vmin` and `vmax` are deprecated, use `vlim` instead.\n",
      "  plot_func(picks=[chan], axes=ax, show=False, **kwargs)\n"
     ]
    },
    {
     "name": "stdout",
     "output_type": "stream",
     "text": [
      "No baseline correction applied\n"
     ]
    },
    {
     "name": "stderr",
     "output_type": "stream",
     "text": [
      "C:\\Users\\jz421\\Desktop\\GlobalLocal\\IEEG_Pipelines\\ieeg\\viz\\ensemble.py:141: FutureWarning: Parameters `vmin` and `vmax` are deprecated, use `vlim` instead.\n",
      "  plot_func(picks=[chan], axes=ax, show=False, **kwargs)\n"
     ]
    },
    {
     "name": "stdout",
     "output_type": "stream",
     "text": [
      "No baseline correction applied\n"
     ]
    },
    {
     "name": "stderr",
     "output_type": "stream",
     "text": [
      "C:\\Users\\jz421\\Desktop\\GlobalLocal\\IEEG_Pipelines\\ieeg\\viz\\ensemble.py:141: FutureWarning: Parameters `vmin` and `vmax` are deprecated, use `vlim` instead.\n",
      "  plot_func(picks=[chan], axes=ax, show=False, **kwargs)\n"
     ]
    },
    {
     "name": "stdout",
     "output_type": "stream",
     "text": [
      "No baseline correction applied\n"
     ]
    },
    {
     "name": "stderr",
     "output_type": "stream",
     "text": [
      "C:\\Users\\jz421\\Desktop\\GlobalLocal\\IEEG_Pipelines\\ieeg\\viz\\ensemble.py:141: FutureWarning: Parameters `vmin` and `vmax` are deprecated, use `vlim` instead.\n",
      "  plot_func(picks=[chan], axes=ax, show=False, **kwargs)\n"
     ]
    },
    {
     "name": "stdout",
     "output_type": "stream",
     "text": [
      "No baseline correction applied\n"
     ]
    },
    {
     "name": "stderr",
     "output_type": "stream",
     "text": [
      "C:\\Users\\jz421\\Desktop\\GlobalLocal\\IEEG_Pipelines\\ieeg\\viz\\ensemble.py:141: FutureWarning: Parameters `vmin` and `vmax` are deprecated, use `vlim` instead.\n",
      "  plot_func(picks=[chan], axes=ax, show=False, **kwargs)\n"
     ]
    },
    {
     "name": "stdout",
     "output_type": "stream",
     "text": [
      "No baseline correction applied\n"
     ]
    },
    {
     "name": "stderr",
     "output_type": "stream",
     "text": [
      "C:\\Users\\jz421\\Desktop\\GlobalLocal\\IEEG_Pipelines\\ieeg\\viz\\ensemble.py:141: FutureWarning: Parameters `vmin` and `vmax` are deprecated, use `vlim` instead.\n",
      "  plot_func(picks=[chan], axes=ax, show=False, **kwargs)\n"
     ]
    },
    {
     "name": "stdout",
     "output_type": "stream",
     "text": [
      "No baseline correction applied\n"
     ]
    },
    {
     "name": "stderr",
     "output_type": "stream",
     "text": [
      "C:\\Users\\jz421\\Desktop\\GlobalLocal\\IEEG_Pipelines\\ieeg\\viz\\ensemble.py:141: FutureWarning: Parameters `vmin` and `vmax` are deprecated, use `vlim` instead.\n",
      "  plot_func(picks=[chan], axes=ax, show=False, **kwargs)\n"
     ]
    },
    {
     "name": "stdout",
     "output_type": "stream",
     "text": [
      "No baseline correction applied\n"
     ]
    },
    {
     "name": "stderr",
     "output_type": "stream",
     "text": [
      "C:\\Users\\jz421\\Desktop\\GlobalLocal\\IEEG_Pipelines\\ieeg\\viz\\ensemble.py:141: FutureWarning: Parameters `vmin` and `vmax` are deprecated, use `vlim` instead.\n",
      "  plot_func(picks=[chan], axes=ax, show=False, **kwargs)\n"
     ]
    },
    {
     "name": "stdout",
     "output_type": "stream",
     "text": [
      "No baseline correction applied\n"
     ]
    },
    {
     "name": "stderr",
     "output_type": "stream",
     "text": [
      "C:\\Users\\jz421\\Desktop\\GlobalLocal\\IEEG_Pipelines\\ieeg\\viz\\ensemble.py:141: FutureWarning: Parameters `vmin` and `vmax` are deprecated, use `vlim` instead.\n",
      "  plot_func(picks=[chan], axes=ax, show=False, **kwargs)\n"
     ]
    },
    {
     "name": "stdout",
     "output_type": "stream",
     "text": [
      "No baseline correction applied\n"
     ]
    },
    {
     "name": "stderr",
     "output_type": "stream",
     "text": [
      "C:\\Users\\jz421\\Desktop\\GlobalLocal\\IEEG_Pipelines\\ieeg\\viz\\ensemble.py:141: FutureWarning: Parameters `vmin` and `vmax` are deprecated, use `vlim` instead.\n",
      "  plot_func(picks=[chan], axes=ax, show=False, **kwargs)\n"
     ]
    },
    {
     "name": "stdout",
     "output_type": "stream",
     "text": [
      "No baseline correction applied\n"
     ]
    },
    {
     "name": "stderr",
     "output_type": "stream",
     "text": [
      "C:\\Users\\jz421\\Desktop\\GlobalLocal\\IEEG_Pipelines\\ieeg\\viz\\ensemble.py:141: FutureWarning: Parameters `vmin` and `vmax` are deprecated, use `vlim` instead.\n",
      "  plot_func(picks=[chan], axes=ax, show=False, **kwargs)\n"
     ]
    },
    {
     "name": "stdout",
     "output_type": "stream",
     "text": [
      "No baseline correction applied\n"
     ]
    },
    {
     "name": "stderr",
     "output_type": "stream",
     "text": [
      "C:\\Users\\jz421\\Desktop\\GlobalLocal\\IEEG_Pipelines\\ieeg\\viz\\ensemble.py:141: FutureWarning: Parameters `vmin` and `vmax` are deprecated, use `vlim` instead.\n",
      "  plot_func(picks=[chan], axes=ax, show=False, **kwargs)\n"
     ]
    },
    {
     "name": "stdout",
     "output_type": "stream",
     "text": [
      "No baseline correction applied\n"
     ]
    },
    {
     "name": "stderr",
     "output_type": "stream",
     "text": [
      "C:\\Users\\jz421\\Desktop\\GlobalLocal\\IEEG_Pipelines\\ieeg\\viz\\ensemble.py:141: FutureWarning: Parameters `vmin` and `vmax` are deprecated, use `vlim` instead.\n",
      "  plot_func(picks=[chan], axes=ax, show=False, **kwargs)\n"
     ]
    },
    {
     "name": "stdout",
     "output_type": "stream",
     "text": [
      "No baseline correction applied\n"
     ]
    },
    {
     "name": "stderr",
     "output_type": "stream",
     "text": [
      "C:\\Users\\jz421\\Desktop\\GlobalLocal\\IEEG_Pipelines\\ieeg\\viz\\ensemble.py:141: FutureWarning: Parameters `vmin` and `vmax` are deprecated, use `vlim` instead.\n",
      "  plot_func(picks=[chan], axes=ax, show=False, **kwargs)\n"
     ]
    },
    {
     "name": "stdout",
     "output_type": "stream",
     "text": [
      "No baseline correction applied\n"
     ]
    },
    {
     "name": "stderr",
     "output_type": "stream",
     "text": [
      "C:\\Users\\jz421\\Desktop\\GlobalLocal\\IEEG_Pipelines\\ieeg\\viz\\ensemble.py:141: FutureWarning: Parameters `vmin` and `vmax` are deprecated, use `vlim` instead.\n",
      "  plot_func(picks=[chan], axes=ax, show=False, **kwargs)\n"
     ]
    },
    {
     "name": "stdout",
     "output_type": "stream",
     "text": [
      "No baseline correction applied\n"
     ]
    },
    {
     "name": "stderr",
     "output_type": "stream",
     "text": [
      "C:\\Users\\jz421\\Desktop\\GlobalLocal\\IEEG_Pipelines\\ieeg\\viz\\ensemble.py:141: FutureWarning: Parameters `vmin` and `vmax` are deprecated, use `vlim` instead.\n",
      "  plot_func(picks=[chan], axes=ax, show=False, **kwargs)\n"
     ]
    },
    {
     "name": "stdout",
     "output_type": "stream",
     "text": [
      "No baseline correction applied\n"
     ]
    },
    {
     "name": "stderr",
     "output_type": "stream",
     "text": [
      "C:\\Users\\jz421\\Desktop\\GlobalLocal\\IEEG_Pipelines\\ieeg\\viz\\ensemble.py:141: FutureWarning: Parameters `vmin` and `vmax` are deprecated, use `vlim` instead.\n",
      "  plot_func(picks=[chan], axes=ax, show=False, **kwargs)\n"
     ]
    },
    {
     "name": "stdout",
     "output_type": "stream",
     "text": [
      "No baseline correction applied\n"
     ]
    },
    {
     "name": "stderr",
     "output_type": "stream",
     "text": [
      "C:\\Users\\jz421\\Desktop\\GlobalLocal\\IEEG_Pipelines\\ieeg\\viz\\ensemble.py:141: FutureWarning: Parameters `vmin` and `vmax` are deprecated, use `vlim` instead.\n",
      "  plot_func(picks=[chan], axes=ax, show=False, **kwargs)\n"
     ]
    },
    {
     "name": "stdout",
     "output_type": "stream",
     "text": [
      "No baseline correction applied\n"
     ]
    },
    {
     "name": "stderr",
     "output_type": "stream",
     "text": [
      "C:\\Users\\jz421\\Desktop\\GlobalLocal\\IEEG_Pipelines\\ieeg\\viz\\ensemble.py:141: FutureWarning: Parameters `vmin` and `vmax` are deprecated, use `vlim` instead.\n",
      "  plot_func(picks=[chan], axes=ax, show=False, **kwargs)\n"
     ]
    },
    {
     "name": "stdout",
     "output_type": "stream",
     "text": [
      "No baseline correction applied\n"
     ]
    },
    {
     "name": "stderr",
     "output_type": "stream",
     "text": [
      "C:\\Users\\jz421\\Desktop\\GlobalLocal\\IEEG_Pipelines\\ieeg\\viz\\ensemble.py:141: FutureWarning: Parameters `vmin` and `vmax` are deprecated, use `vlim` instead.\n",
      "  plot_func(picks=[chan], axes=ax, show=False, **kwargs)\n"
     ]
    },
    {
     "name": "stdout",
     "output_type": "stream",
     "text": [
      "No baseline correction applied\n"
     ]
    },
    {
     "name": "stderr",
     "output_type": "stream",
     "text": [
      "C:\\Users\\jz421\\Desktop\\GlobalLocal\\IEEG_Pipelines\\ieeg\\viz\\ensemble.py:141: FutureWarning: Parameters `vmin` and `vmax` are deprecated, use `vlim` instead.\n",
      "  plot_func(picks=[chan], axes=ax, show=False, **kwargs)\n"
     ]
    },
    {
     "name": "stdout",
     "output_type": "stream",
     "text": [
      "No baseline correction applied\n"
     ]
    },
    {
     "name": "stderr",
     "output_type": "stream",
     "text": [
      "C:\\Users\\jz421\\Desktop\\GlobalLocal\\IEEG_Pipelines\\ieeg\\viz\\ensemble.py:141: FutureWarning: Parameters `vmin` and `vmax` are deprecated, use `vlim` instead.\n",
      "  plot_func(picks=[chan], axes=ax, show=False, **kwargs)\n"
     ]
    },
    {
     "name": "stdout",
     "output_type": "stream",
     "text": [
      "No baseline correction applied\n"
     ]
    },
    {
     "name": "stderr",
     "output_type": "stream",
     "text": [
      "C:\\Users\\jz421\\Desktop\\GlobalLocal\\IEEG_Pipelines\\ieeg\\viz\\ensemble.py:141: FutureWarning: Parameters `vmin` and `vmax` are deprecated, use `vlim` instead.\n",
      "  plot_func(picks=[chan], axes=ax, show=False, **kwargs)\n"
     ]
    },
    {
     "name": "stdout",
     "output_type": "stream",
     "text": [
      "No baseline correction applied\n"
     ]
    },
    {
     "name": "stderr",
     "output_type": "stream",
     "text": [
      "C:\\Users\\jz421\\Desktop\\GlobalLocal\\IEEG_Pipelines\\ieeg\\viz\\ensemble.py:141: FutureWarning: Parameters `vmin` and `vmax` are deprecated, use `vlim` instead.\n",
      "  plot_func(picks=[chan], axes=ax, show=False, **kwargs)\n"
     ]
    },
    {
     "name": "stdout",
     "output_type": "stream",
     "text": [
      "No baseline correction applied\n"
     ]
    },
    {
     "name": "stderr",
     "output_type": "stream",
     "text": [
      "C:\\Users\\jz421\\Desktop\\GlobalLocal\\IEEG_Pipelines\\ieeg\\viz\\ensemble.py:141: FutureWarning: Parameters `vmin` and `vmax` are deprecated, use `vlim` instead.\n",
      "  plot_func(picks=[chan], axes=ax, show=False, **kwargs)\n"
     ]
    },
    {
     "name": "stdout",
     "output_type": "stream",
     "text": [
      "No baseline correction applied\n"
     ]
    },
    {
     "name": "stderr",
     "output_type": "stream",
     "text": [
      "C:\\Users\\jz421\\Desktop\\GlobalLocal\\IEEG_Pipelines\\ieeg\\viz\\ensemble.py:141: FutureWarning: Parameters `vmin` and `vmax` are deprecated, use `vlim` instead.\n",
      "  plot_func(picks=[chan], axes=ax, show=False, **kwargs)\n"
     ]
    },
    {
     "name": "stdout",
     "output_type": "stream",
     "text": [
      "No baseline correction applied\n"
     ]
    },
    {
     "name": "stderr",
     "output_type": "stream",
     "text": [
      "C:\\Users\\jz421\\Desktop\\GlobalLocal\\IEEG_Pipelines\\ieeg\\viz\\ensemble.py:141: FutureWarning: Parameters `vmin` and `vmax` are deprecated, use `vlim` instead.\n",
      "  plot_func(picks=[chan], axes=ax, show=False, **kwargs)\n"
     ]
    },
    {
     "name": "stdout",
     "output_type": "stream",
     "text": [
      "No baseline correction applied\n"
     ]
    },
    {
     "name": "stderr",
     "output_type": "stream",
     "text": [
      "C:\\Users\\jz421\\Desktop\\GlobalLocal\\IEEG_Pipelines\\ieeg\\viz\\ensemble.py:141: FutureWarning: Parameters `vmin` and `vmax` are deprecated, use `vlim` instead.\n",
      "  plot_func(picks=[chan], axes=ax, show=False, **kwargs)\n"
     ]
    },
    {
     "name": "stdout",
     "output_type": "stream",
     "text": [
      "No baseline correction applied\n"
     ]
    },
    {
     "name": "stderr",
     "output_type": "stream",
     "text": [
      "C:\\Users\\jz421\\Desktop\\GlobalLocal\\IEEG_Pipelines\\ieeg\\viz\\ensemble.py:141: FutureWarning: Parameters `vmin` and `vmax` are deprecated, use `vlim` instead.\n",
      "  plot_func(picks=[chan], axes=ax, show=False, **kwargs)\n"
     ]
    },
    {
     "name": "stdout",
     "output_type": "stream",
     "text": [
      "No baseline correction applied\n"
     ]
    },
    {
     "name": "stderr",
     "output_type": "stream",
     "text": [
      "C:\\Users\\jz421\\Desktop\\GlobalLocal\\IEEG_Pipelines\\ieeg\\viz\\ensemble.py:141: FutureWarning: Parameters `vmin` and `vmax` are deprecated, use `vlim` instead.\n",
      "  plot_func(picks=[chan], axes=ax, show=False, **kwargs)\n"
     ]
    },
    {
     "name": "stdout",
     "output_type": "stream",
     "text": [
      "No baseline correction applied\n"
     ]
    },
    {
     "name": "stderr",
     "output_type": "stream",
     "text": [
      "C:\\Users\\jz421\\Desktop\\GlobalLocal\\IEEG_Pipelines\\ieeg\\viz\\ensemble.py:141: FutureWarning: Parameters `vmin` and `vmax` are deprecated, use `vlim` instead.\n",
      "  plot_func(picks=[chan], axes=ax, show=False, **kwargs)\n"
     ]
    },
    {
     "name": "stdout",
     "output_type": "stream",
     "text": [
      "No baseline correction applied\n"
     ]
    },
    {
     "name": "stderr",
     "output_type": "stream",
     "text": [
      "C:\\Users\\jz421\\Desktop\\GlobalLocal\\IEEG_Pipelines\\ieeg\\viz\\ensemble.py:141: FutureWarning: Parameters `vmin` and `vmax` are deprecated, use `vlim` instead.\n",
      "  plot_func(picks=[chan], axes=ax, show=False, **kwargs)\n"
     ]
    },
    {
     "name": "stdout",
     "output_type": "stream",
     "text": [
      "No baseline correction applied\n"
     ]
    },
    {
     "name": "stderr",
     "output_type": "stream",
     "text": [
      "C:\\Users\\jz421\\Desktop\\GlobalLocal\\IEEG_Pipelines\\ieeg\\viz\\ensemble.py:141: FutureWarning: Parameters `vmin` and `vmax` are deprecated, use `vlim` instead.\n",
      "  plot_func(picks=[chan], axes=ax, show=False, **kwargs)\n"
     ]
    },
    {
     "name": "stdout",
     "output_type": "stream",
     "text": [
      "No baseline correction applied\n"
     ]
    },
    {
     "name": "stderr",
     "output_type": "stream",
     "text": [
      "C:\\Users\\jz421\\Desktop\\GlobalLocal\\IEEG_Pipelines\\ieeg\\viz\\ensemble.py:141: FutureWarning: Parameters `vmin` and `vmax` are deprecated, use `vlim` instead.\n",
      "  plot_func(picks=[chan], axes=ax, show=False, **kwargs)\n"
     ]
    },
    {
     "name": "stdout",
     "output_type": "stream",
     "text": [
      "No baseline correction applied\n"
     ]
    },
    {
     "name": "stderr",
     "output_type": "stream",
     "text": [
      "C:\\Users\\jz421\\Desktop\\GlobalLocal\\IEEG_Pipelines\\ieeg\\viz\\ensemble.py:141: FutureWarning: Parameters `vmin` and `vmax` are deprecated, use `vlim` instead.\n",
      "  plot_func(picks=[chan], axes=ax, show=False, **kwargs)\n"
     ]
    },
    {
     "name": "stdout",
     "output_type": "stream",
     "text": [
      "No baseline correction applied\n"
     ]
    },
    {
     "name": "stderr",
     "output_type": "stream",
     "text": [
      "C:\\Users\\jz421\\Desktop\\GlobalLocal\\IEEG_Pipelines\\ieeg\\viz\\ensemble.py:141: FutureWarning: Parameters `vmin` and `vmax` are deprecated, use `vlim` instead.\n",
      "  plot_func(picks=[chan], axes=ax, show=False, **kwargs)\n"
     ]
    },
    {
     "name": "stdout",
     "output_type": "stream",
     "text": [
      "No baseline correction applied\n"
     ]
    },
    {
     "name": "stderr",
     "output_type": "stream",
     "text": [
      "C:\\Users\\jz421\\Desktop\\GlobalLocal\\IEEG_Pipelines\\ieeg\\viz\\ensemble.py:141: FutureWarning: Parameters `vmin` and `vmax` are deprecated, use `vlim` instead.\n",
      "  plot_func(picks=[chan], axes=ax, show=False, **kwargs)\n"
     ]
    },
    {
     "name": "stdout",
     "output_type": "stream",
     "text": [
      "No baseline correction applied\n"
     ]
    },
    {
     "name": "stderr",
     "output_type": "stream",
     "text": [
      "C:\\Users\\jz421\\Desktop\\GlobalLocal\\IEEG_Pipelines\\ieeg\\viz\\ensemble.py:141: FutureWarning: Parameters `vmin` and `vmax` are deprecated, use `vlim` instead.\n",
      "  plot_func(picks=[chan], axes=ax, show=False, **kwargs)\n"
     ]
    },
    {
     "name": "stdout",
     "output_type": "stream",
     "text": [
      "No baseline correction applied\n"
     ]
    },
    {
     "name": "stderr",
     "output_type": "stream",
     "text": [
      "C:\\Users\\jz421\\Desktop\\GlobalLocal\\IEEG_Pipelines\\ieeg\\viz\\ensemble.py:141: FutureWarning: Parameters `vmin` and `vmax` are deprecated, use `vlim` instead.\n",
      "  plot_func(picks=[chan], axes=ax, show=False, **kwargs)\n"
     ]
    },
    {
     "name": "stdout",
     "output_type": "stream",
     "text": [
      "No baseline correction applied\n"
     ]
    },
    {
     "name": "stderr",
     "output_type": "stream",
     "text": [
      "C:\\Users\\jz421\\Desktop\\GlobalLocal\\IEEG_Pipelines\\ieeg\\viz\\ensemble.py:141: FutureWarning: Parameters `vmin` and `vmax` are deprecated, use `vlim` instead.\n",
      "  plot_func(picks=[chan], axes=ax, show=False, **kwargs)\n"
     ]
    },
    {
     "name": "stdout",
     "output_type": "stream",
     "text": [
      "No baseline correction applied\n"
     ]
    },
    {
     "name": "stderr",
     "output_type": "stream",
     "text": [
      "C:\\Users\\jz421\\Desktop\\GlobalLocal\\IEEG_Pipelines\\ieeg\\viz\\ensemble.py:141: FutureWarning: Parameters `vmin` and `vmax` are deprecated, use `vlim` instead.\n",
      "  plot_func(picks=[chan], axes=ax, show=False, **kwargs)\n"
     ]
    },
    {
     "name": "stdout",
     "output_type": "stream",
     "text": [
      "No baseline correction applied\n"
     ]
    },
    {
     "name": "stderr",
     "output_type": "stream",
     "text": [
      "C:\\Users\\jz421\\Desktop\\GlobalLocal\\IEEG_Pipelines\\ieeg\\viz\\ensemble.py:141: FutureWarning: Parameters `vmin` and `vmax` are deprecated, use `vlim` instead.\n",
      "  plot_func(picks=[chan], axes=ax, show=False, **kwargs)\n"
     ]
    },
    {
     "name": "stdout",
     "output_type": "stream",
     "text": [
      "No baseline correction applied\n"
     ]
    },
    {
     "name": "stderr",
     "output_type": "stream",
     "text": [
      "C:\\Users\\jz421\\Desktop\\GlobalLocal\\IEEG_Pipelines\\ieeg\\viz\\ensemble.py:141: FutureWarning: Parameters `vmin` and `vmax` are deprecated, use `vlim` instead.\n",
      "  plot_func(picks=[chan], axes=ax, show=False, **kwargs)\n"
     ]
    },
    {
     "name": "stdout",
     "output_type": "stream",
     "text": [
      "No baseline correction applied\n"
     ]
    },
    {
     "name": "stderr",
     "output_type": "stream",
     "text": [
      "C:\\Users\\jz421\\Desktop\\GlobalLocal\\IEEG_Pipelines\\ieeg\\viz\\ensemble.py:141: FutureWarning: Parameters `vmin` and `vmax` are deprecated, use `vlim` instead.\n",
      "  plot_func(picks=[chan], axes=ax, show=False, **kwargs)\n"
     ]
    },
    {
     "name": "stdout",
     "output_type": "stream",
     "text": [
      "No baseline correction applied\n"
     ]
    },
    {
     "name": "stderr",
     "output_type": "stream",
     "text": [
      "C:\\Users\\jz421\\Desktop\\GlobalLocal\\IEEG_Pipelines\\ieeg\\viz\\ensemble.py:141: FutureWarning: Parameters `vmin` and `vmax` are deprecated, use `vlim` instead.\n",
      "  plot_func(picks=[chan], axes=ax, show=False, **kwargs)\n"
     ]
    },
    {
     "name": "stdout",
     "output_type": "stream",
     "text": [
      "No baseline correction applied\n"
     ]
    },
    {
     "name": "stderr",
     "output_type": "stream",
     "text": [
      "C:\\Users\\jz421\\Desktop\\GlobalLocal\\IEEG_Pipelines\\ieeg\\viz\\ensemble.py:141: FutureWarning: Parameters `vmin` and `vmax` are deprecated, use `vlim` instead.\n",
      "  plot_func(picks=[chan], axes=ax, show=False, **kwargs)\n"
     ]
    },
    {
     "name": "stdout",
     "output_type": "stream",
     "text": [
      "No baseline correction applied\n"
     ]
    },
    {
     "name": "stderr",
     "output_type": "stream",
     "text": [
      "C:\\Users\\jz421\\Desktop\\GlobalLocal\\IEEG_Pipelines\\ieeg\\viz\\ensemble.py:141: FutureWarning: Parameters `vmin` and `vmax` are deprecated, use `vlim` instead.\n",
      "  plot_func(picks=[chan], axes=ax, show=False, **kwargs)\n"
     ]
    },
    {
     "name": "stdout",
     "output_type": "stream",
     "text": [
      "No baseline correction applied\n"
     ]
    },
    {
     "name": "stderr",
     "output_type": "stream",
     "text": [
      "C:\\Users\\jz421\\Desktop\\GlobalLocal\\IEEG_Pipelines\\ieeg\\viz\\ensemble.py:141: FutureWarning: Parameters `vmin` and `vmax` are deprecated, use `vlim` instead.\n",
      "  plot_func(picks=[chan], axes=ax, show=False, **kwargs)\n"
     ]
    },
    {
     "name": "stdout",
     "output_type": "stream",
     "text": [
      "No baseline correction applied\n"
     ]
    },
    {
     "name": "stderr",
     "output_type": "stream",
     "text": [
      "C:\\Users\\jz421\\Desktop\\GlobalLocal\\IEEG_Pipelines\\ieeg\\viz\\ensemble.py:141: FutureWarning: Parameters `vmin` and `vmax` are deprecated, use `vlim` instead.\n",
      "  plot_func(picks=[chan], axes=ax, show=False, **kwargs)\n"
     ]
    },
    {
     "name": "stdout",
     "output_type": "stream",
     "text": [
      "No baseline correction applied\n"
     ]
    },
    {
     "name": "stderr",
     "output_type": "stream",
     "text": [
      "C:\\Users\\jz421\\Desktop\\GlobalLocal\\IEEG_Pipelines\\ieeg\\viz\\ensemble.py:141: FutureWarning: Parameters `vmin` and `vmax` are deprecated, use `vlim` instead.\n",
      "  plot_func(picks=[chan], axes=ax, show=False, **kwargs)\n"
     ]
    },
    {
     "name": "stdout",
     "output_type": "stream",
     "text": [
      "No baseline correction applied\n"
     ]
    },
    {
     "name": "stderr",
     "output_type": "stream",
     "text": [
      "C:\\Users\\jz421\\Desktop\\GlobalLocal\\IEEG_Pipelines\\ieeg\\viz\\ensemble.py:141: FutureWarning: Parameters `vmin` and `vmax` are deprecated, use `vlim` instead.\n",
      "  plot_func(picks=[chan], axes=ax, show=False, **kwargs)\n"
     ]
    },
    {
     "name": "stdout",
     "output_type": "stream",
     "text": [
      "No baseline correction applied\n"
     ]
    },
    {
     "name": "stderr",
     "output_type": "stream",
     "text": [
      "C:\\Users\\jz421\\Desktop\\GlobalLocal\\IEEG_Pipelines\\ieeg\\viz\\ensemble.py:141: FutureWarning: Parameters `vmin` and `vmax` are deprecated, use `vlim` instead.\n",
      "  plot_func(picks=[chan], axes=ax, show=False, **kwargs)\n"
     ]
    },
    {
     "name": "stdout",
     "output_type": "stream",
     "text": [
      "No baseline correction applied\n"
     ]
    },
    {
     "name": "stderr",
     "output_type": "stream",
     "text": [
      "C:\\Users\\jz421\\Desktop\\GlobalLocal\\IEEG_Pipelines\\ieeg\\viz\\ensemble.py:141: FutureWarning: Parameters `vmin` and `vmax` are deprecated, use `vlim` instead.\n",
      "  plot_func(picks=[chan], axes=ax, show=False, **kwargs)\n"
     ]
    },
    {
     "name": "stdout",
     "output_type": "stream",
     "text": [
      "No baseline correction applied\n"
     ]
    },
    {
     "name": "stderr",
     "output_type": "stream",
     "text": [
      "C:\\Users\\jz421\\Desktop\\GlobalLocal\\IEEG_Pipelines\\ieeg\\viz\\ensemble.py:141: FutureWarning: Parameters `vmin` and `vmax` are deprecated, use `vlim` instead.\n",
      "  plot_func(picks=[chan], axes=ax, show=False, **kwargs)\n"
     ]
    },
    {
     "name": "stdout",
     "output_type": "stream",
     "text": [
      "No baseline correction applied\n"
     ]
    },
    {
     "name": "stderr",
     "output_type": "stream",
     "text": [
      "C:\\Users\\jz421\\Desktop\\GlobalLocal\\IEEG_Pipelines\\ieeg\\viz\\ensemble.py:141: FutureWarning: Parameters `vmin` and `vmax` are deprecated, use `vlim` instead.\n",
      "  plot_func(picks=[chan], axes=ax, show=False, **kwargs)\n"
     ]
    },
    {
     "name": "stdout",
     "output_type": "stream",
     "text": [
      "No baseline correction applied\n"
     ]
    },
    {
     "name": "stderr",
     "output_type": "stream",
     "text": [
      "C:\\Users\\jz421\\Desktop\\GlobalLocal\\IEEG_Pipelines\\ieeg\\viz\\ensemble.py:141: FutureWarning: Parameters `vmin` and `vmax` are deprecated, use `vlim` instead.\n",
      "  plot_func(picks=[chan], axes=ax, show=False, **kwargs)\n"
     ]
    },
    {
     "name": "stdout",
     "output_type": "stream",
     "text": [
      "No baseline correction applied\n"
     ]
    },
    {
     "name": "stderr",
     "output_type": "stream",
     "text": [
      "C:\\Users\\jz421\\Desktop\\GlobalLocal\\IEEG_Pipelines\\ieeg\\viz\\ensemble.py:141: FutureWarning: Parameters `vmin` and `vmax` are deprecated, use `vlim` instead.\n",
      "  plot_func(picks=[chan], axes=ax, show=False, **kwargs)\n"
     ]
    },
    {
     "name": "stdout",
     "output_type": "stream",
     "text": [
      "No baseline correction applied\n"
     ]
    },
    {
     "name": "stderr",
     "output_type": "stream",
     "text": [
      "C:\\Users\\jz421\\Desktop\\GlobalLocal\\IEEG_Pipelines\\ieeg\\viz\\ensemble.py:141: FutureWarning: Parameters `vmin` and `vmax` are deprecated, use `vlim` instead.\n",
      "  plot_func(picks=[chan], axes=ax, show=False, **kwargs)\n"
     ]
    },
    {
     "name": "stdout",
     "output_type": "stream",
     "text": [
      "No baseline correction applied\n"
     ]
    },
    {
     "name": "stderr",
     "output_type": "stream",
     "text": [
      "C:\\Users\\jz421\\Desktop\\GlobalLocal\\IEEG_Pipelines\\ieeg\\viz\\ensemble.py:141: FutureWarning: Parameters `vmin` and `vmax` are deprecated, use `vlim` instead.\n",
      "  plot_func(picks=[chan], axes=ax, show=False, **kwargs)\n"
     ]
    },
    {
     "name": "stdout",
     "output_type": "stream",
     "text": [
      "No baseline correction applied\n"
     ]
    },
    {
     "name": "stderr",
     "output_type": "stream",
     "text": [
      "C:\\Users\\jz421\\Desktop\\GlobalLocal\\IEEG_Pipelines\\ieeg\\viz\\ensemble.py:141: FutureWarning: Parameters `vmin` and `vmax` are deprecated, use `vlim` instead.\n",
      "  plot_func(picks=[chan], axes=ax, show=False, **kwargs)\n"
     ]
    },
    {
     "name": "stdout",
     "output_type": "stream",
     "text": [
      "No baseline correction applied\n"
     ]
    },
    {
     "name": "stderr",
     "output_type": "stream",
     "text": [
      "C:\\Users\\jz421\\Desktop\\GlobalLocal\\IEEG_Pipelines\\ieeg\\viz\\ensemble.py:141: FutureWarning: Parameters `vmin` and `vmax` are deprecated, use `vlim` instead.\n",
      "  plot_func(picks=[chan], axes=ax, show=False, **kwargs)\n"
     ]
    },
    {
     "name": "stdout",
     "output_type": "stream",
     "text": [
      "No baseline correction applied\n"
     ]
    },
    {
     "name": "stderr",
     "output_type": "stream",
     "text": [
      "C:\\Users\\jz421\\Desktop\\GlobalLocal\\IEEG_Pipelines\\ieeg\\viz\\ensemble.py:141: FutureWarning: Parameters `vmin` and `vmax` are deprecated, use `vlim` instead.\n",
      "  plot_func(picks=[chan], axes=ax, show=False, **kwargs)\n"
     ]
    },
    {
     "name": "stdout",
     "output_type": "stream",
     "text": [
      "No baseline correction applied\n"
     ]
    },
    {
     "name": "stderr",
     "output_type": "stream",
     "text": [
      "C:\\Users\\jz421\\Desktop\\GlobalLocal\\IEEG_Pipelines\\ieeg\\viz\\ensemble.py:141: FutureWarning: Parameters `vmin` and `vmax` are deprecated, use `vlim` instead.\n",
      "  plot_func(picks=[chan], axes=ax, show=False, **kwargs)\n"
     ]
    },
    {
     "name": "stdout",
     "output_type": "stream",
     "text": [
      "No baseline correction applied\n"
     ]
    },
    {
     "name": "stderr",
     "output_type": "stream",
     "text": [
      "C:\\Users\\jz421\\Desktop\\GlobalLocal\\IEEG_Pipelines\\ieeg\\viz\\ensemble.py:141: FutureWarning: Parameters `vmin` and `vmax` are deprecated, use `vlim` instead.\n",
      "  plot_func(picks=[chan], axes=ax, show=False, **kwargs)\n"
     ]
    },
    {
     "name": "stdout",
     "output_type": "stream",
     "text": [
      "No baseline correction applied\n"
     ]
    },
    {
     "name": "stderr",
     "output_type": "stream",
     "text": [
      "C:\\Users\\jz421\\Desktop\\GlobalLocal\\IEEG_Pipelines\\ieeg\\viz\\ensemble.py:141: FutureWarning: Parameters `vmin` and `vmax` are deprecated, use `vlim` instead.\n",
      "  plot_func(picks=[chan], axes=ax, show=False, **kwargs)\n"
     ]
    },
    {
     "name": "stdout",
     "output_type": "stream",
     "text": [
      "No baseline correction applied\n"
     ]
    },
    {
     "name": "stderr",
     "output_type": "stream",
     "text": [
      "C:\\Users\\jz421\\Desktop\\GlobalLocal\\IEEG_Pipelines\\ieeg\\viz\\ensemble.py:141: FutureWarning: Parameters `vmin` and `vmax` are deprecated, use `vlim` instead.\n",
      "  plot_func(picks=[chan], axes=ax, show=False, **kwargs)\n"
     ]
    },
    {
     "name": "stdout",
     "output_type": "stream",
     "text": [
      "No baseline correction applied\n"
     ]
    },
    {
     "name": "stderr",
     "output_type": "stream",
     "text": [
      "C:\\Users\\jz421\\Desktop\\GlobalLocal\\IEEG_Pipelines\\ieeg\\viz\\ensemble.py:141: FutureWarning: Parameters `vmin` and `vmax` are deprecated, use `vlim` instead.\n",
      "  plot_func(picks=[chan], axes=ax, show=False, **kwargs)\n"
     ]
    },
    {
     "name": "stdout",
     "output_type": "stream",
     "text": [
      "No baseline correction applied\n"
     ]
    },
    {
     "name": "stderr",
     "output_type": "stream",
     "text": [
      "C:\\Users\\jz421\\Desktop\\GlobalLocal\\IEEG_Pipelines\\ieeg\\viz\\ensemble.py:141: FutureWarning: Parameters `vmin` and `vmax` are deprecated, use `vlim` instead.\n",
      "  plot_func(picks=[chan], axes=ax, show=False, **kwargs)\n"
     ]
    },
    {
     "name": "stdout",
     "output_type": "stream",
     "text": [
      "No baseline correction applied\n"
     ]
    },
    {
     "name": "stderr",
     "output_type": "stream",
     "text": [
      "C:\\Users\\jz421\\Desktop\\GlobalLocal\\IEEG_Pipelines\\ieeg\\viz\\ensemble.py:141: FutureWarning: Parameters `vmin` and `vmax` are deprecated, use `vlim` instead.\n",
      "  plot_func(picks=[chan], axes=ax, show=False, **kwargs)\n"
     ]
    },
    {
     "name": "stdout",
     "output_type": "stream",
     "text": [
      "No baseline correction applied\n"
     ]
    },
    {
     "name": "stderr",
     "output_type": "stream",
     "text": [
      "C:\\Users\\jz421\\Desktop\\GlobalLocal\\IEEG_Pipelines\\ieeg\\viz\\ensemble.py:141: FutureWarning: Parameters `vmin` and `vmax` are deprecated, use `vlim` instead.\n",
      "  plot_func(picks=[chan], axes=ax, show=False, **kwargs)\n"
     ]
    },
    {
     "name": "stdout",
     "output_type": "stream",
     "text": [
      "No baseline correction applied\n"
     ]
    },
    {
     "name": "stderr",
     "output_type": "stream",
     "text": [
      "C:\\Users\\jz421\\Desktop\\GlobalLocal\\IEEG_Pipelines\\ieeg\\viz\\ensemble.py:141: FutureWarning: Parameters `vmin` and `vmax` are deprecated, use `vlim` instead.\n",
      "  plot_func(picks=[chan], axes=ax, show=False, **kwargs)\n"
     ]
    },
    {
     "name": "stdout",
     "output_type": "stream",
     "text": [
      "No baseline correction applied\n"
     ]
    },
    {
     "name": "stderr",
     "output_type": "stream",
     "text": [
      "C:\\Users\\jz421\\Desktop\\GlobalLocal\\IEEG_Pipelines\\ieeg\\viz\\ensemble.py:141: FutureWarning: Parameters `vmin` and `vmax` are deprecated, use `vlim` instead.\n",
      "  plot_func(picks=[chan], axes=ax, show=False, **kwargs)\n"
     ]
    },
    {
     "name": "stdout",
     "output_type": "stream",
     "text": [
      "No baseline correction applied\n"
     ]
    },
    {
     "name": "stderr",
     "output_type": "stream",
     "text": [
      "C:\\Users\\jz421\\Desktop\\GlobalLocal\\IEEG_Pipelines\\ieeg\\viz\\ensemble.py:141: FutureWarning: Parameters `vmin` and `vmax` are deprecated, use `vlim` instead.\n",
      "  plot_func(picks=[chan], axes=ax, show=False, **kwargs)\n"
     ]
    },
    {
     "name": "stdout",
     "output_type": "stream",
     "text": [
      "No baseline correction applied\n"
     ]
    },
    {
     "name": "stderr",
     "output_type": "stream",
     "text": [
      "C:\\Users\\jz421\\Desktop\\GlobalLocal\\IEEG_Pipelines\\ieeg\\viz\\ensemble.py:141: FutureWarning: Parameters `vmin` and `vmax` are deprecated, use `vlim` instead.\n",
      "  plot_func(picks=[chan], axes=ax, show=False, **kwargs)\n"
     ]
    },
    {
     "name": "stdout",
     "output_type": "stream",
     "text": [
      "No baseline correction applied\n"
     ]
    },
    {
     "name": "stderr",
     "output_type": "stream",
     "text": [
      "C:\\Users\\jz421\\Desktop\\GlobalLocal\\IEEG_Pipelines\\ieeg\\viz\\ensemble.py:141: FutureWarning: Parameters `vmin` and `vmax` are deprecated, use `vlim` instead.\n",
      "  plot_func(picks=[chan], axes=ax, show=False, **kwargs)\n"
     ]
    },
    {
     "name": "stdout",
     "output_type": "stream",
     "text": [
      "No baseline correction applied\n"
     ]
    },
    {
     "name": "stderr",
     "output_type": "stream",
     "text": [
      "C:\\Users\\jz421\\Desktop\\GlobalLocal\\IEEG_Pipelines\\ieeg\\viz\\ensemble.py:141: FutureWarning: Parameters `vmin` and `vmax` are deprecated, use `vlim` instead.\n",
      "  plot_func(picks=[chan], axes=ax, show=False, **kwargs)\n"
     ]
    },
    {
     "name": "stdout",
     "output_type": "stream",
     "text": [
      "No baseline correction applied\n"
     ]
    },
    {
     "name": "stderr",
     "output_type": "stream",
     "text": [
      "C:\\Users\\jz421\\Desktop\\GlobalLocal\\IEEG_Pipelines\\ieeg\\viz\\ensemble.py:141: FutureWarning: Parameters `vmin` and `vmax` are deprecated, use `vlim` instead.\n",
      "  plot_func(picks=[chan], axes=ax, show=False, **kwargs)\n"
     ]
    },
    {
     "name": "stdout",
     "output_type": "stream",
     "text": [
      "No baseline correction applied\n"
     ]
    },
    {
     "name": "stderr",
     "output_type": "stream",
     "text": [
      "C:\\Users\\jz421\\Desktop\\GlobalLocal\\IEEG_Pipelines\\ieeg\\viz\\ensemble.py:141: FutureWarning: Parameters `vmin` and `vmax` are deprecated, use `vlim` instead.\n",
      "  plot_func(picks=[chan], axes=ax, show=False, **kwargs)\n"
     ]
    },
    {
     "name": "stdout",
     "output_type": "stream",
     "text": [
      "No baseline correction applied\n"
     ]
    },
    {
     "name": "stderr",
     "output_type": "stream",
     "text": [
      "C:\\Users\\jz421\\Desktop\\GlobalLocal\\IEEG_Pipelines\\ieeg\\viz\\ensemble.py:141: FutureWarning: Parameters `vmin` and `vmax` are deprecated, use `vlim` instead.\n",
      "  plot_func(picks=[chan], axes=ax, show=False, **kwargs)\n"
     ]
    },
    {
     "name": "stdout",
     "output_type": "stream",
     "text": [
      "No baseline correction applied\n"
     ]
    },
    {
     "name": "stderr",
     "output_type": "stream",
     "text": [
      "C:\\Users\\jz421\\Desktop\\GlobalLocal\\IEEG_Pipelines\\ieeg\\viz\\ensemble.py:141: FutureWarning: Parameters `vmin` and `vmax` are deprecated, use `vlim` instead.\n",
      "  plot_func(picks=[chan], axes=ax, show=False, **kwargs)\n"
     ]
    },
    {
     "name": "stdout",
     "output_type": "stream",
     "text": [
      "No baseline correction applied\n"
     ]
    },
    {
     "name": "stderr",
     "output_type": "stream",
     "text": [
      "C:\\Users\\jz421\\Desktop\\GlobalLocal\\IEEG_Pipelines\\ieeg\\viz\\ensemble.py:141: FutureWarning: Parameters `vmin` and `vmax` are deprecated, use `vlim` instead.\n",
      "  plot_func(picks=[chan], axes=ax, show=False, **kwargs)\n",
      "C:\\Users\\jz421\\Desktop\\GlobalLocal\\IEEG_Pipelines\\ieeg\\viz\\ensemble.py:141: FutureWarning: Parameters `vmin` and `vmax` are deprecated, use `vlim` instead.\n",
      "  plot_func(picks=[chan], axes=ax, show=False, **kwargs)\n"
     ]
    },
    {
     "name": "stdout",
     "output_type": "stream",
     "text": [
      "No baseline correction applied\n",
      "No baseline correction applied\n"
     ]
    },
    {
     "name": "stderr",
     "output_type": "stream",
     "text": [
      "C:\\Users\\jz421\\Desktop\\GlobalLocal\\IEEG_Pipelines\\ieeg\\viz\\ensemble.py:141: FutureWarning: Parameters `vmin` and `vmax` are deprecated, use `vlim` instead.\n",
      "  plot_func(picks=[chan], axes=ax, show=False, **kwargs)\n"
     ]
    },
    {
     "name": "stdout",
     "output_type": "stream",
     "text": [
      "No baseline correction applied\n"
     ]
    },
    {
     "name": "stderr",
     "output_type": "stream",
     "text": [
      "C:\\Users\\jz421\\Desktop\\GlobalLocal\\IEEG_Pipelines\\ieeg\\viz\\ensemble.py:141: FutureWarning: Parameters `vmin` and `vmax` are deprecated, use `vlim` instead.\n",
      "  plot_func(picks=[chan], axes=ax, show=False, **kwargs)\n"
     ]
    },
    {
     "name": "stdout",
     "output_type": "stream",
     "text": [
      "No baseline correction applied\n"
     ]
    },
    {
     "name": "stderr",
     "output_type": "stream",
     "text": [
      "C:\\Users\\jz421\\Desktop\\GlobalLocal\\IEEG_Pipelines\\ieeg\\viz\\ensemble.py:141: FutureWarning: Parameters `vmin` and `vmax` are deprecated, use `vlim` instead.\n",
      "  plot_func(picks=[chan], axes=ax, show=False, **kwargs)\n"
     ]
    },
    {
     "name": "stdout",
     "output_type": "stream",
     "text": [
      "No baseline correction applied\n"
     ]
    },
    {
     "name": "stderr",
     "output_type": "stream",
     "text": [
      "C:\\Users\\jz421\\Desktop\\GlobalLocal\\IEEG_Pipelines\\ieeg\\viz\\ensemble.py:141: FutureWarning: Parameters `vmin` and `vmax` are deprecated, use `vlim` instead.\n",
      "  plot_func(picks=[chan], axes=ax, show=False, **kwargs)\n"
     ]
    },
    {
     "name": "stdout",
     "output_type": "stream",
     "text": [
      "No baseline correction applied\n"
     ]
    },
    {
     "name": "stderr",
     "output_type": "stream",
     "text": [
      "C:\\Users\\jz421\\Desktop\\GlobalLocal\\IEEG_Pipelines\\ieeg\\viz\\ensemble.py:141: FutureWarning: Parameters `vmin` and `vmax` are deprecated, use `vlim` instead.\n",
      "  plot_func(picks=[chan], axes=ax, show=False, **kwargs)\n"
     ]
    },
    {
     "name": "stdout",
     "output_type": "stream",
     "text": [
      "No baseline correction applied\n"
     ]
    },
    {
     "name": "stderr",
     "output_type": "stream",
     "text": [
      "C:\\Users\\jz421\\Desktop\\GlobalLocal\\IEEG_Pipelines\\ieeg\\viz\\ensemble.py:141: FutureWarning: Parameters `vmin` and `vmax` are deprecated, use `vlim` instead.\n",
      "  plot_func(picks=[chan], axes=ax, show=False, **kwargs)\n"
     ]
    },
    {
     "name": "stdout",
     "output_type": "stream",
     "text": [
      "No baseline correction applied\n"
     ]
    },
    {
     "name": "stderr",
     "output_type": "stream",
     "text": [
      "C:\\Users\\jz421\\Desktop\\GlobalLocal\\IEEG_Pipelines\\ieeg\\viz\\ensemble.py:141: FutureWarning: Parameters `vmin` and `vmax` are deprecated, use `vlim` instead.\n",
      "  plot_func(picks=[chan], axes=ax, show=False, **kwargs)\n"
     ]
    },
    {
     "name": "stdout",
     "output_type": "stream",
     "text": [
      "No baseline correction applied\n"
     ]
    },
    {
     "name": "stderr",
     "output_type": "stream",
     "text": [
      "C:\\Users\\jz421\\Desktop\\GlobalLocal\\IEEG_Pipelines\\ieeg\\viz\\ensemble.py:141: FutureWarning: Parameters `vmin` and `vmax` are deprecated, use `vlim` instead.\n",
      "  plot_func(picks=[chan], axes=ax, show=False, **kwargs)\n"
     ]
    },
    {
     "name": "stdout",
     "output_type": "stream",
     "text": [
      "No baseline correction applied\n"
     ]
    },
    {
     "name": "stderr",
     "output_type": "stream",
     "text": [
      "C:\\Users\\jz421\\Desktop\\GlobalLocal\\IEEG_Pipelines\\ieeg\\viz\\ensemble.py:141: FutureWarning: Parameters `vmin` and `vmax` are deprecated, use `vlim` instead.\n",
      "  plot_func(picks=[chan], axes=ax, show=False, **kwargs)\n"
     ]
    },
    {
     "name": "stdout",
     "output_type": "stream",
     "text": [
      "No baseline correction applied\n"
     ]
    },
    {
     "name": "stderr",
     "output_type": "stream",
     "text": [
      "C:\\Users\\jz421\\Desktop\\GlobalLocal\\IEEG_Pipelines\\ieeg\\viz\\ensemble.py:141: FutureWarning: Parameters `vmin` and `vmax` are deprecated, use `vlim` instead.\n",
      "  plot_func(picks=[chan], axes=ax, show=False, **kwargs)\n"
     ]
    },
    {
     "name": "stdout",
     "output_type": "stream",
     "text": [
      "No baseline correction applied\n"
     ]
    },
    {
     "name": "stderr",
     "output_type": "stream",
     "text": [
      "C:\\Users\\jz421\\Desktop\\GlobalLocal\\IEEG_Pipelines\\ieeg\\viz\\ensemble.py:141: FutureWarning: Parameters `vmin` and `vmax` are deprecated, use `vlim` instead.\n",
      "  plot_func(picks=[chan], axes=ax, show=False, **kwargs)\n"
     ]
    },
    {
     "name": "stdout",
     "output_type": "stream",
     "text": [
      "No baseline correction applied\n"
     ]
    },
    {
     "name": "stderr",
     "output_type": "stream",
     "text": [
      "C:\\Users\\jz421\\Desktop\\GlobalLocal\\IEEG_Pipelines\\ieeg\\viz\\ensemble.py:141: FutureWarning: Parameters `vmin` and `vmax` are deprecated, use `vlim` instead.\n",
      "  plot_func(picks=[chan], axes=ax, show=False, **kwargs)\n"
     ]
    },
    {
     "name": "stdout",
     "output_type": "stream",
     "text": [
      "No baseline correction applied\n"
     ]
    },
    {
     "name": "stderr",
     "output_type": "stream",
     "text": [
      "C:\\Users\\jz421\\Desktop\\GlobalLocal\\IEEG_Pipelines\\ieeg\\viz\\ensemble.py:141: FutureWarning: Parameters `vmin` and `vmax` are deprecated, use `vlim` instead.\n",
      "  plot_func(picks=[chan], axes=ax, show=False, **kwargs)\n"
     ]
    },
    {
     "name": "stdout",
     "output_type": "stream",
     "text": [
      "No baseline correction applied\n"
     ]
    },
    {
     "name": "stderr",
     "output_type": "stream",
     "text": [
      "C:\\Users\\jz421\\Desktop\\GlobalLocal\\IEEG_Pipelines\\ieeg\\viz\\ensemble.py:141: FutureWarning: Parameters `vmin` and `vmax` are deprecated, use `vlim` instead.\n",
      "  plot_func(picks=[chan], axes=ax, show=False, **kwargs)\n"
     ]
    },
    {
     "name": "stdout",
     "output_type": "stream",
     "text": [
      "No baseline correction applied\n"
     ]
    },
    {
     "name": "stderr",
     "output_type": "stream",
     "text": [
      "C:\\Users\\jz421\\Desktop\\GlobalLocal\\IEEG_Pipelines\\ieeg\\viz\\ensemble.py:141: FutureWarning: Parameters `vmin` and `vmax` are deprecated, use `vlim` instead.\n",
      "  plot_func(picks=[chan], axes=ax, show=False, **kwargs)\n"
     ]
    },
    {
     "name": "stdout",
     "output_type": "stream",
     "text": [
      "No baseline correction applied\n"
     ]
    },
    {
     "name": "stderr",
     "output_type": "stream",
     "text": [
      "C:\\Users\\jz421\\Desktop\\GlobalLocal\\IEEG_Pipelines\\ieeg\\viz\\ensemble.py:141: FutureWarning: Parameters `vmin` and `vmax` are deprecated, use `vlim` instead.\n",
      "  plot_func(picks=[chan], axes=ax, show=False, **kwargs)\n"
     ]
    },
    {
     "name": "stdout",
     "output_type": "stream",
     "text": [
      "No baseline correction applied\n"
     ]
    },
    {
     "name": "stderr",
     "output_type": "stream",
     "text": [
      "C:\\Users\\jz421\\Desktop\\GlobalLocal\\IEEG_Pipelines\\ieeg\\viz\\ensemble.py:141: FutureWarning: Parameters `vmin` and `vmax` are deprecated, use `vlim` instead.\n",
      "  plot_func(picks=[chan], axes=ax, show=False, **kwargs)\n"
     ]
    },
    {
     "name": "stdout",
     "output_type": "stream",
     "text": [
      "No baseline correction applied\n"
     ]
    },
    {
     "name": "stderr",
     "output_type": "stream",
     "text": [
      "C:\\Users\\jz421\\Desktop\\GlobalLocal\\IEEG_Pipelines\\ieeg\\viz\\ensemble.py:141: FutureWarning: Parameters `vmin` and `vmax` are deprecated, use `vlim` instead.\n",
      "  plot_func(picks=[chan], axes=ax, show=False, **kwargs)\n"
     ]
    },
    {
     "name": "stdout",
     "output_type": "stream",
     "text": [
      "No baseline correction applied\n"
     ]
    },
    {
     "name": "stderr",
     "output_type": "stream",
     "text": [
      "C:\\Users\\jz421\\Desktop\\GlobalLocal\\IEEG_Pipelines\\ieeg\\viz\\ensemble.py:141: FutureWarning: Parameters `vmin` and `vmax` are deprecated, use `vlim` instead.\n",
      "  plot_func(picks=[chan], axes=ax, show=False, **kwargs)\n"
     ]
    },
    {
     "name": "stdout",
     "output_type": "stream",
     "text": [
      "No baseline correction applied\n"
     ]
    },
    {
     "name": "stderr",
     "output_type": "stream",
     "text": [
      "C:\\Users\\jz421\\Desktop\\GlobalLocal\\IEEG_Pipelines\\ieeg\\viz\\ensemble.py:141: FutureWarning: Parameters `vmin` and `vmax` are deprecated, use `vlim` instead.\n",
      "  plot_func(picks=[chan], axes=ax, show=False, **kwargs)\n"
     ]
    },
    {
     "name": "stdout",
     "output_type": "stream",
     "text": [
      "No baseline correction applied\n"
     ]
    },
    {
     "name": "stderr",
     "output_type": "stream",
     "text": [
      "C:\\Users\\jz421\\Desktop\\GlobalLocal\\IEEG_Pipelines\\ieeg\\viz\\ensemble.py:141: FutureWarning: Parameters `vmin` and `vmax` are deprecated, use `vlim` instead.\n",
      "  plot_func(picks=[chan], axes=ax, show=False, **kwargs)\n"
     ]
    },
    {
     "name": "stdout",
     "output_type": "stream",
     "text": [
      "No baseline correction applied\n"
     ]
    },
    {
     "name": "stderr",
     "output_type": "stream",
     "text": [
      "C:\\Users\\jz421\\Desktop\\GlobalLocal\\IEEG_Pipelines\\ieeg\\viz\\ensemble.py:141: FutureWarning: Parameters `vmin` and `vmax` are deprecated, use `vlim` instead.\n",
      "  plot_func(picks=[chan], axes=ax, show=False, **kwargs)\n"
     ]
    },
    {
     "name": "stdout",
     "output_type": "stream",
     "text": [
      "No baseline correction applied\n"
     ]
    },
    {
     "name": "stderr",
     "output_type": "stream",
     "text": [
      "C:\\Users\\jz421\\Desktop\\GlobalLocal\\IEEG_Pipelines\\ieeg\\viz\\ensemble.py:141: FutureWarning: Parameters `vmin` and `vmax` are deprecated, use `vlim` instead.\n",
      "  plot_func(picks=[chan], axes=ax, show=False, **kwargs)\n"
     ]
    },
    {
     "name": "stdout",
     "output_type": "stream",
     "text": [
      "No baseline correction applied\n"
     ]
    },
    {
     "name": "stderr",
     "output_type": "stream",
     "text": [
      "C:\\Users\\jz421\\Desktop\\GlobalLocal\\IEEG_Pipelines\\ieeg\\viz\\ensemble.py:141: FutureWarning: Parameters `vmin` and `vmax` are deprecated, use `vlim` instead.\n",
      "  plot_func(picks=[chan], axes=ax, show=False, **kwargs)\n"
     ]
    },
    {
     "name": "stdout",
     "output_type": "stream",
     "text": [
      "No baseline correction applied\n"
     ]
    },
    {
     "name": "stderr",
     "output_type": "stream",
     "text": [
      "C:\\Users\\jz421\\Desktop\\GlobalLocal\\IEEG_Pipelines\\ieeg\\viz\\ensemble.py:141: FutureWarning: Parameters `vmin` and `vmax` are deprecated, use `vlim` instead.\n",
      "  plot_func(picks=[chan], axes=ax, show=False, **kwargs)\n"
     ]
    },
    {
     "name": "stdout",
     "output_type": "stream",
     "text": [
      "No baseline correction applied\n"
     ]
    },
    {
     "name": "stderr",
     "output_type": "stream",
     "text": [
      "C:\\Users\\jz421\\Desktop\\GlobalLocal\\IEEG_Pipelines\\ieeg\\viz\\ensemble.py:141: FutureWarning: Parameters `vmin` and `vmax` are deprecated, use `vlim` instead.\n",
      "  plot_func(picks=[chan], axes=ax, show=False, **kwargs)\n"
     ]
    },
    {
     "name": "stdout",
     "output_type": "stream",
     "text": [
      "No baseline correction applied\n"
     ]
    },
    {
     "name": "stderr",
     "output_type": "stream",
     "text": [
      "C:\\Users\\jz421\\Desktop\\GlobalLocal\\IEEG_Pipelines\\ieeg\\viz\\ensemble.py:141: FutureWarning: Parameters `vmin` and `vmax` are deprecated, use `vlim` instead.\n",
      "  plot_func(picks=[chan], axes=ax, show=False, **kwargs)\n"
     ]
    },
    {
     "name": "stdout",
     "output_type": "stream",
     "text": [
      "No baseline correction applied\n"
     ]
    },
    {
     "name": "stderr",
     "output_type": "stream",
     "text": [
      "C:\\Users\\jz421\\Desktop\\GlobalLocal\\IEEG_Pipelines\\ieeg\\viz\\ensemble.py:141: FutureWarning: Parameters `vmin` and `vmax` are deprecated, use `vlim` instead.\n",
      "  plot_func(picks=[chan], axes=ax, show=False, **kwargs)\n"
     ]
    },
    {
     "name": "stdout",
     "output_type": "stream",
     "text": [
      "No baseline correction applied\n"
     ]
    },
    {
     "name": "stderr",
     "output_type": "stream",
     "text": [
      "C:\\Users\\jz421\\Desktop\\GlobalLocal\\IEEG_Pipelines\\ieeg\\viz\\ensemble.py:141: FutureWarning: Parameters `vmin` and `vmax` are deprecated, use `vlim` instead.\n",
      "  plot_func(picks=[chan], axes=ax, show=False, **kwargs)\n"
     ]
    },
    {
     "name": "stdout",
     "output_type": "stream",
     "text": [
      "No baseline correction applied\n"
     ]
    },
    {
     "name": "stderr",
     "output_type": "stream",
     "text": [
      "C:\\Users\\jz421\\Desktop\\GlobalLocal\\IEEG_Pipelines\\ieeg\\viz\\ensemble.py:141: FutureWarning: Parameters `vmin` and `vmax` are deprecated, use `vlim` instead.\n",
      "  plot_func(picks=[chan], axes=ax, show=False, **kwargs)\n"
     ]
    },
    {
     "name": "stdout",
     "output_type": "stream",
     "text": [
      "No baseline correction applied\n"
     ]
    },
    {
     "name": "stderr",
     "output_type": "stream",
     "text": [
      "C:\\Users\\jz421\\Desktop\\GlobalLocal\\IEEG_Pipelines\\ieeg\\viz\\ensemble.py:141: FutureWarning: Parameters `vmin` and `vmax` are deprecated, use `vlim` instead.\n",
      "  plot_func(picks=[chan], axes=ax, show=False, **kwargs)\n"
     ]
    },
    {
     "name": "stdout",
     "output_type": "stream",
     "text": [
      "No baseline correction applied\n"
     ]
    },
    {
     "name": "stderr",
     "output_type": "stream",
     "text": [
      "C:\\Users\\jz421\\Desktop\\GlobalLocal\\IEEG_Pipelines\\ieeg\\viz\\ensemble.py:141: FutureWarning: Parameters `vmin` and `vmax` are deprecated, use `vlim` instead.\n",
      "  plot_func(picks=[chan], axes=ax, show=False, **kwargs)\n"
     ]
    },
    {
     "name": "stdout",
     "output_type": "stream",
     "text": [
      "No baseline correction applied\n"
     ]
    },
    {
     "name": "stderr",
     "output_type": "stream",
     "text": [
      "C:\\Users\\jz421\\Desktop\\GlobalLocal\\IEEG_Pipelines\\ieeg\\viz\\ensemble.py:141: FutureWarning: Parameters `vmin` and `vmax` are deprecated, use `vlim` instead.\n",
      "  plot_func(picks=[chan], axes=ax, show=False, **kwargs)\n"
     ]
    },
    {
     "name": "stdout",
     "output_type": "stream",
     "text": [
      "No baseline correction applied\n"
     ]
    },
    {
     "name": "stderr",
     "output_type": "stream",
     "text": [
      "C:\\Users\\jz421\\Desktop\\GlobalLocal\\IEEG_Pipelines\\ieeg\\viz\\ensemble.py:141: FutureWarning: Parameters `vmin` and `vmax` are deprecated, use `vlim` instead.\n",
      "  plot_func(picks=[chan], axes=ax, show=False, **kwargs)\n"
     ]
    },
    {
     "name": "stdout",
     "output_type": "stream",
     "text": [
      "No baseline correction applied\n"
     ]
    },
    {
     "name": "stderr",
     "output_type": "stream",
     "text": [
      "C:\\Users\\jz421\\Desktop\\GlobalLocal\\IEEG_Pipelines\\ieeg\\viz\\ensemble.py:141: FutureWarning: Parameters `vmin` and `vmax` are deprecated, use `vlim` instead.\n",
      "  plot_func(picks=[chan], axes=ax, show=False, **kwargs)\n"
     ]
    },
    {
     "name": "stdout",
     "output_type": "stream",
     "text": [
      "No baseline correction applied\n"
     ]
    },
    {
     "name": "stderr",
     "output_type": "stream",
     "text": [
      "C:\\Users\\jz421\\Desktop\\GlobalLocal\\IEEG_Pipelines\\ieeg\\viz\\ensemble.py:141: FutureWarning: Parameters `vmin` and `vmax` are deprecated, use `vlim` instead.\n",
      "  plot_func(picks=[chan], axes=ax, show=False, **kwargs)\n"
     ]
    },
    {
     "name": "stdout",
     "output_type": "stream",
     "text": [
      "No baseline correction applied\n"
     ]
    },
    {
     "name": "stderr",
     "output_type": "stream",
     "text": [
      "C:\\Users\\jz421\\Desktop\\GlobalLocal\\IEEG_Pipelines\\ieeg\\viz\\ensemble.py:141: FutureWarning: Parameters `vmin` and `vmax` are deprecated, use `vlim` instead.\n",
      "  plot_func(picks=[chan], axes=ax, show=False, **kwargs)\n"
     ]
    },
    {
     "name": "stdout",
     "output_type": "stream",
     "text": [
      "No baseline correction applied\n"
     ]
    },
    {
     "name": "stderr",
     "output_type": "stream",
     "text": [
      "C:\\Users\\jz421\\Desktop\\GlobalLocal\\IEEG_Pipelines\\ieeg\\viz\\ensemble.py:141: FutureWarning: Parameters `vmin` and `vmax` are deprecated, use `vlim` instead.\n",
      "  plot_func(picks=[chan], axes=ax, show=False, **kwargs)\n"
     ]
    },
    {
     "name": "stdout",
     "output_type": "stream",
     "text": [
      "No baseline correction applied\n"
     ]
    },
    {
     "name": "stderr",
     "output_type": "stream",
     "text": [
      "C:\\Users\\jz421\\Desktop\\GlobalLocal\\IEEG_Pipelines\\ieeg\\viz\\ensemble.py:141: FutureWarning: Parameters `vmin` and `vmax` are deprecated, use `vlim` instead.\n",
      "  plot_func(picks=[chan], axes=ax, show=False, **kwargs)\n"
     ]
    },
    {
     "name": "stdout",
     "output_type": "stream",
     "text": [
      "No baseline correction applied\n"
     ]
    },
    {
     "name": "stderr",
     "output_type": "stream",
     "text": [
      "C:\\Users\\jz421\\Desktop\\GlobalLocal\\IEEG_Pipelines\\ieeg\\viz\\ensemble.py:141: FutureWarning: Parameters `vmin` and `vmax` are deprecated, use `vlim` instead.\n",
      "  plot_func(picks=[chan], axes=ax, show=False, **kwargs)\n"
     ]
    },
    {
     "name": "stdout",
     "output_type": "stream",
     "text": [
      "No baseline correction applied\n"
     ]
    },
    {
     "name": "stderr",
     "output_type": "stream",
     "text": [
      "C:\\Users\\jz421\\Desktop\\GlobalLocal\\IEEG_Pipelines\\ieeg\\viz\\ensemble.py:141: FutureWarning: Parameters `vmin` and `vmax` are deprecated, use `vlim` instead.\n",
      "  plot_func(picks=[chan], axes=ax, show=False, **kwargs)\n"
     ]
    },
    {
     "name": "stdout",
     "output_type": "stream",
     "text": [
      "No baseline correction applied\n"
     ]
    },
    {
     "name": "stderr",
     "output_type": "stream",
     "text": [
      "C:\\Users\\jz421\\Desktop\\GlobalLocal\\IEEG_Pipelines\\ieeg\\viz\\ensemble.py:141: FutureWarning: Parameters `vmin` and `vmax` are deprecated, use `vlim` instead.\n",
      "  plot_func(picks=[chan], axes=ax, show=False, **kwargs)\n"
     ]
    },
    {
     "name": "stdout",
     "output_type": "stream",
     "text": [
      "No baseline correction applied\n"
     ]
    },
    {
     "name": "stderr",
     "output_type": "stream",
     "text": [
      "C:\\Users\\jz421\\Desktop\\GlobalLocal\\IEEG_Pipelines\\ieeg\\viz\\ensemble.py:141: FutureWarning: Parameters `vmin` and `vmax` are deprecated, use `vlim` instead.\n",
      "  plot_func(picks=[chan], axes=ax, show=False, **kwargs)\n"
     ]
    },
    {
     "name": "stdout",
     "output_type": "stream",
     "text": [
      "No baseline correction applied\n"
     ]
    },
    {
     "name": "stderr",
     "output_type": "stream",
     "text": [
      "C:\\Users\\jz421\\Desktop\\GlobalLocal\\IEEG_Pipelines\\ieeg\\viz\\ensemble.py:141: FutureWarning: Parameters `vmin` and `vmax` are deprecated, use `vlim` instead.\n",
      "  plot_func(picks=[chan], axes=ax, show=False, **kwargs)\n"
     ]
    },
    {
     "name": "stdout",
     "output_type": "stream",
     "text": [
      "No baseline correction applied\n"
     ]
    },
    {
     "name": "stderr",
     "output_type": "stream",
     "text": [
      "C:\\Users\\jz421\\Desktop\\GlobalLocal\\IEEG_Pipelines\\ieeg\\viz\\ensemble.py:141: FutureWarning: Parameters `vmin` and `vmax` are deprecated, use `vlim` instead.\n",
      "  plot_func(picks=[chan], axes=ax, show=False, **kwargs)\n"
     ]
    },
    {
     "name": "stdout",
     "output_type": "stream",
     "text": [
      "No baseline correction applied\n"
     ]
    },
    {
     "name": "stderr",
     "output_type": "stream",
     "text": [
      "C:\\Users\\jz421\\Desktop\\GlobalLocal\\IEEG_Pipelines\\ieeg\\viz\\ensemble.py:141: FutureWarning: Parameters `vmin` and `vmax` are deprecated, use `vlim` instead.\n",
      "  plot_func(picks=[chan], axes=ax, show=False, **kwargs)\n"
     ]
    },
    {
     "name": "stdout",
     "output_type": "stream",
     "text": [
      "No baseline correction applied\n"
     ]
    },
    {
     "name": "stderr",
     "output_type": "stream",
     "text": [
      "C:\\Users\\jz421\\Desktop\\GlobalLocal\\IEEG_Pipelines\\ieeg\\viz\\ensemble.py:141: FutureWarning: Parameters `vmin` and `vmax` are deprecated, use `vlim` instead.\n",
      "  plot_func(picks=[chan], axes=ax, show=False, **kwargs)\n"
     ]
    },
    {
     "name": "stdout",
     "output_type": "stream",
     "text": [
      "No baseline correction applied\n"
     ]
    },
    {
     "name": "stderr",
     "output_type": "stream",
     "text": [
      "C:\\Users\\jz421\\Desktop\\GlobalLocal\\IEEG_Pipelines\\ieeg\\viz\\ensemble.py:141: FutureWarning: Parameters `vmin` and `vmax` are deprecated, use `vlim` instead.\n",
      "  plot_func(picks=[chan], axes=ax, show=False, **kwargs)\n"
     ]
    },
    {
     "name": "stdout",
     "output_type": "stream",
     "text": [
      "No baseline correction applied\n"
     ]
    },
    {
     "name": "stderr",
     "output_type": "stream",
     "text": [
      "C:\\Users\\jz421\\Desktop\\GlobalLocal\\IEEG_Pipelines\\ieeg\\viz\\ensemble.py:141: FutureWarning: Parameters `vmin` and `vmax` are deprecated, use `vlim` instead.\n",
      "  plot_func(picks=[chan], axes=ax, show=False, **kwargs)\n"
     ]
    },
    {
     "name": "stdout",
     "output_type": "stream",
     "text": [
      "No baseline correction applied\n"
     ]
    },
    {
     "name": "stderr",
     "output_type": "stream",
     "text": [
      "C:\\Users\\jz421\\Desktop\\GlobalLocal\\IEEG_Pipelines\\ieeg\\viz\\ensemble.py:141: FutureWarning: Parameters `vmin` and `vmax` are deprecated, use `vlim` instead.\n",
      "  plot_func(picks=[chan], axes=ax, show=False, **kwargs)\n"
     ]
    },
    {
     "name": "stdout",
     "output_type": "stream",
     "text": [
      "No baseline correction applied\n"
     ]
    },
    {
     "name": "stderr",
     "output_type": "stream",
     "text": [
      "C:\\Users\\jz421\\Desktop\\GlobalLocal\\IEEG_Pipelines\\ieeg\\viz\\ensemble.py:141: FutureWarning: Parameters `vmin` and `vmax` are deprecated, use `vlim` instead.\n",
      "  plot_func(picks=[chan], axes=ax, show=False, **kwargs)\n"
     ]
    },
    {
     "name": "stdout",
     "output_type": "stream",
     "text": [
      "No baseline correction applied\n"
     ]
    },
    {
     "name": "stderr",
     "output_type": "stream",
     "text": [
      "C:\\Users\\jz421\\Desktop\\GlobalLocal\\IEEG_Pipelines\\ieeg\\viz\\ensemble.py:141: FutureWarning: Parameters `vmin` and `vmax` are deprecated, use `vlim` instead.\n",
      "  plot_func(picks=[chan], axes=ax, show=False, **kwargs)\n"
     ]
    },
    {
     "name": "stdout",
     "output_type": "stream",
     "text": [
      "No baseline correction applied\n"
     ]
    },
    {
     "name": "stderr",
     "output_type": "stream",
     "text": [
      "C:\\Users\\jz421\\Desktop\\GlobalLocal\\IEEG_Pipelines\\ieeg\\viz\\ensemble.py:141: FutureWarning: Parameters `vmin` and `vmax` are deprecated, use `vlim` instead.\n",
      "  plot_func(picks=[chan], axes=ax, show=False, **kwargs)\n"
     ]
    },
    {
     "name": "stdout",
     "output_type": "stream",
     "text": [
      "No baseline correction applied\n"
     ]
    },
    {
     "name": "stderr",
     "output_type": "stream",
     "text": [
      "C:\\Users\\jz421\\Desktop\\GlobalLocal\\IEEG_Pipelines\\ieeg\\viz\\ensemble.py:141: FutureWarning: Parameters `vmin` and `vmax` are deprecated, use `vlim` instead.\n",
      "  plot_func(picks=[chan], axes=ax, show=False, **kwargs)\n"
     ]
    },
    {
     "name": "stdout",
     "output_type": "stream",
     "text": [
      "No baseline correction applied\n"
     ]
    },
    {
     "name": "stderr",
     "output_type": "stream",
     "text": [
      "C:\\Users\\jz421\\Desktop\\GlobalLocal\\IEEG_Pipelines\\ieeg\\viz\\ensemble.py:141: FutureWarning: Parameters `vmin` and `vmax` are deprecated, use `vlim` instead.\n",
      "  plot_func(picks=[chan], axes=ax, show=False, **kwargs)\n"
     ]
    },
    {
     "name": "stdout",
     "output_type": "stream",
     "text": [
      "No baseline correction applied\n"
     ]
    },
    {
     "name": "stderr",
     "output_type": "stream",
     "text": [
      "C:\\Users\\jz421\\Desktop\\GlobalLocal\\IEEG_Pipelines\\ieeg\\viz\\ensemble.py:141: FutureWarning: Parameters `vmin` and `vmax` are deprecated, use `vlim` instead.\n",
      "  plot_func(picks=[chan], axes=ax, show=False, **kwargs)\n"
     ]
    },
    {
     "name": "stdout",
     "output_type": "stream",
     "text": [
      "No baseline correction applied\n"
     ]
    },
    {
     "name": "stderr",
     "output_type": "stream",
     "text": [
      "C:\\Users\\jz421\\Desktop\\GlobalLocal\\IEEG_Pipelines\\ieeg\\viz\\ensemble.py:141: FutureWarning: Parameters `vmin` and `vmax` are deprecated, use `vlim` instead.\n",
      "  plot_func(picks=[chan], axes=ax, show=False, **kwargs)\n"
     ]
    },
    {
     "name": "stdout",
     "output_type": "stream",
     "text": [
      "No baseline correction applied\n"
     ]
    },
    {
     "name": "stderr",
     "output_type": "stream",
     "text": [
      "C:\\Users\\jz421\\Desktop\\GlobalLocal\\IEEG_Pipelines\\ieeg\\viz\\ensemble.py:141: FutureWarning: Parameters `vmin` and `vmax` are deprecated, use `vlim` instead.\n",
      "  plot_func(picks=[chan], axes=ax, show=False, **kwargs)\n"
     ]
    },
    {
     "name": "stdout",
     "output_type": "stream",
     "text": [
      "No baseline correction applied\n"
     ]
    },
    {
     "name": "stderr",
     "output_type": "stream",
     "text": [
      "C:\\Users\\jz421\\Desktop\\GlobalLocal\\IEEG_Pipelines\\ieeg\\viz\\ensemble.py:141: FutureWarning: Parameters `vmin` and `vmax` are deprecated, use `vlim` instead.\n",
      "  plot_func(picks=[chan], axes=ax, show=False, **kwargs)\n"
     ]
    },
    {
     "name": "stdout",
     "output_type": "stream",
     "text": [
      "No baseline correction applied\n"
     ]
    },
    {
     "name": "stderr",
     "output_type": "stream",
     "text": [
      "C:\\Users\\jz421\\Desktop\\GlobalLocal\\IEEG_Pipelines\\ieeg\\viz\\ensemble.py:141: FutureWarning: Parameters `vmin` and `vmax` are deprecated, use `vlim` instead.\n",
      "  plot_func(picks=[chan], axes=ax, show=False, **kwargs)\n"
     ]
    },
    {
     "name": "stdout",
     "output_type": "stream",
     "text": [
      "No baseline correction applied\n"
     ]
    },
    {
     "name": "stderr",
     "output_type": "stream",
     "text": [
      "C:\\Users\\jz421\\Desktop\\GlobalLocal\\IEEG_Pipelines\\ieeg\\viz\\ensemble.py:141: FutureWarning: Parameters `vmin` and `vmax` are deprecated, use `vlim` instead.\n",
      "  plot_func(picks=[chan], axes=ax, show=False, **kwargs)\n"
     ]
    },
    {
     "name": "stdout",
     "output_type": "stream",
     "text": [
      "No baseline correction applied\n"
     ]
    },
    {
     "name": "stderr",
     "output_type": "stream",
     "text": [
      "C:\\Users\\jz421\\Desktop\\GlobalLocal\\IEEG_Pipelines\\ieeg\\viz\\ensemble.py:141: FutureWarning: Parameters `vmin` and `vmax` are deprecated, use `vlim` instead.\n",
      "  plot_func(picks=[chan], axes=ax, show=False, **kwargs)\n"
     ]
    },
    {
     "name": "stdout",
     "output_type": "stream",
     "text": [
      "No baseline correction applied\n"
     ]
    },
    {
     "name": "stderr",
     "output_type": "stream",
     "text": [
      "C:\\Users\\jz421\\Desktop\\GlobalLocal\\IEEG_Pipelines\\ieeg\\viz\\ensemble.py:141: FutureWarning: Parameters `vmin` and `vmax` are deprecated, use `vlim` instead.\n",
      "  plot_func(picks=[chan], axes=ax, show=False, **kwargs)\n"
     ]
    },
    {
     "name": "stdout",
     "output_type": "stream",
     "text": [
      "No baseline correction applied\n"
     ]
    },
    {
     "name": "stderr",
     "output_type": "stream",
     "text": [
      "C:\\Users\\jz421\\Desktop\\GlobalLocal\\IEEG_Pipelines\\ieeg\\viz\\ensemble.py:141: FutureWarning: Parameters `vmin` and `vmax` are deprecated, use `vlim` instead.\n",
      "  plot_func(picks=[chan], axes=ax, show=False, **kwargs)\n"
     ]
    },
    {
     "name": "stdout",
     "output_type": "stream",
     "text": [
      "No baseline correction applied\n"
     ]
    },
    {
     "name": "stderr",
     "output_type": "stream",
     "text": [
      "C:\\Users\\jz421\\Desktop\\GlobalLocal\\IEEG_Pipelines\\ieeg\\viz\\ensemble.py:141: FutureWarning: Parameters `vmin` and `vmax` are deprecated, use `vlim` instead.\n",
      "  plot_func(picks=[chan], axes=ax, show=False, **kwargs)\n"
     ]
    },
    {
     "name": "stdout",
     "output_type": "stream",
     "text": [
      "No baseline correction applied\n"
     ]
    },
    {
     "name": "stderr",
     "output_type": "stream",
     "text": [
      "C:\\Users\\jz421\\Desktop\\GlobalLocal\\IEEG_Pipelines\\ieeg\\viz\\ensemble.py:141: FutureWarning: Parameters `vmin` and `vmax` are deprecated, use `vlim` instead.\n",
      "  plot_func(picks=[chan], axes=ax, show=False, **kwargs)\n"
     ]
    },
    {
     "name": "stdout",
     "output_type": "stream",
     "text": [
      "No baseline correction applied\n"
     ]
    },
    {
     "name": "stderr",
     "output_type": "stream",
     "text": [
      "C:\\Users\\jz421\\Desktop\\GlobalLocal\\IEEG_Pipelines\\ieeg\\viz\\ensemble.py:141: FutureWarning: Parameters `vmin` and `vmax` are deprecated, use `vlim` instead.\n",
      "  plot_func(picks=[chan], axes=ax, show=False, **kwargs)\n"
     ]
    },
    {
     "name": "stdout",
     "output_type": "stream",
     "text": [
      "No baseline correction applied\n"
     ]
    },
    {
     "name": "stderr",
     "output_type": "stream",
     "text": [
      "C:\\Users\\jz421\\Desktop\\GlobalLocal\\IEEG_Pipelines\\ieeg\\viz\\ensemble.py:141: FutureWarning: Parameters `vmin` and `vmax` are deprecated, use `vlim` instead.\n",
      "  plot_func(picks=[chan], axes=ax, show=False, **kwargs)\n"
     ]
    },
    {
     "name": "stdout",
     "output_type": "stream",
     "text": [
      "No baseline correction applied\n"
     ]
    },
    {
     "name": "stderr",
     "output_type": "stream",
     "text": [
      "C:\\Users\\jz421\\Desktop\\GlobalLocal\\IEEG_Pipelines\\ieeg\\viz\\ensemble.py:141: FutureWarning: Parameters `vmin` and `vmax` are deprecated, use `vlim` instead.\n",
      "  plot_func(picks=[chan], axes=ax, show=False, **kwargs)\n"
     ]
    },
    {
     "name": "stdout",
     "output_type": "stream",
     "text": [
      "No baseline correction applied\n"
     ]
    },
    {
     "name": "stderr",
     "output_type": "stream",
     "text": [
      "C:\\Users\\jz421\\Desktop\\GlobalLocal\\IEEG_Pipelines\\ieeg\\viz\\ensemble.py:141: FutureWarning: Parameters `vmin` and `vmax` are deprecated, use `vlim` instead.\n",
      "  plot_func(picks=[chan], axes=ax, show=False, **kwargs)\n"
     ]
    },
    {
     "name": "stdout",
     "output_type": "stream",
     "text": [
      "No baseline correction applied\n"
     ]
    },
    {
     "name": "stderr",
     "output_type": "stream",
     "text": [
      "C:\\Users\\jz421\\Desktop\\GlobalLocal\\IEEG_Pipelines\\ieeg\\viz\\ensemble.py:141: FutureWarning: Parameters `vmin` and `vmax` are deprecated, use `vlim` instead.\n",
      "  plot_func(picks=[chan], axes=ax, show=False, **kwargs)\n"
     ]
    },
    {
     "name": "stdout",
     "output_type": "stream",
     "text": [
      "No baseline correction applied\n"
     ]
    },
    {
     "name": "stderr",
     "output_type": "stream",
     "text": [
      "C:\\Users\\jz421\\Desktop\\GlobalLocal\\IEEG_Pipelines\\ieeg\\viz\\ensemble.py:141: FutureWarning: Parameters `vmin` and `vmax` are deprecated, use `vlim` instead.\n",
      "  plot_func(picks=[chan], axes=ax, show=False, **kwargs)\n"
     ]
    },
    {
     "name": "stdout",
     "output_type": "stream",
     "text": [
      "No baseline correction applied\n"
     ]
    },
    {
     "name": "stderr",
     "output_type": "stream",
     "text": [
      "C:\\Users\\jz421\\Desktop\\GlobalLocal\\IEEG_Pipelines\\ieeg\\viz\\ensemble.py:141: FutureWarning: Parameters `vmin` and `vmax` are deprecated, use `vlim` instead.\n",
      "  plot_func(picks=[chan], axes=ax, show=False, **kwargs)\n"
     ]
    },
    {
     "name": "stdout",
     "output_type": "stream",
     "text": [
      "No baseline correction applied\n"
     ]
    },
    {
     "name": "stderr",
     "output_type": "stream",
     "text": [
      "C:\\Users\\jz421\\Desktop\\GlobalLocal\\IEEG_Pipelines\\ieeg\\viz\\ensemble.py:141: FutureWarning: Parameters `vmin` and `vmax` are deprecated, use `vlim` instead.\n",
      "  plot_func(picks=[chan], axes=ax, show=False, **kwargs)\n"
     ]
    },
    {
     "name": "stdout",
     "output_type": "stream",
     "text": [
      "No baseline correction applied\n"
     ]
    },
    {
     "name": "stderr",
     "output_type": "stream",
     "text": [
      "C:\\Users\\jz421\\Desktop\\GlobalLocal\\IEEG_Pipelines\\ieeg\\viz\\ensemble.py:141: FutureWarning: Parameters `vmin` and `vmax` are deprecated, use `vlim` instead.\n",
      "  plot_func(picks=[chan], axes=ax, show=False, **kwargs)\n"
     ]
    },
    {
     "name": "stdout",
     "output_type": "stream",
     "text": [
      "No baseline correction applied\n"
     ]
    },
    {
     "name": "stderr",
     "output_type": "stream",
     "text": [
      "C:\\Users\\jz421\\Desktop\\GlobalLocal\\IEEG_Pipelines\\ieeg\\viz\\ensemble.py:141: FutureWarning: Parameters `vmin` and `vmax` are deprecated, use `vlim` instead.\n",
      "  plot_func(picks=[chan], axes=ax, show=False, **kwargs)\n"
     ]
    },
    {
     "name": "stdout",
     "output_type": "stream",
     "text": [
      "No baseline correction applied\n"
     ]
    },
    {
     "name": "stderr",
     "output_type": "stream",
     "text": [
      "C:\\Users\\jz421\\Desktop\\GlobalLocal\\IEEG_Pipelines\\ieeg\\viz\\ensemble.py:141: FutureWarning: Parameters `vmin` and `vmax` are deprecated, use `vlim` instead.\n",
      "  plot_func(picks=[chan], axes=ax, show=False, **kwargs)\n"
     ]
    },
    {
     "name": "stdout",
     "output_type": "stream",
     "text": [
      "No baseline correction applied\n"
     ]
    },
    {
     "name": "stderr",
     "output_type": "stream",
     "text": [
      "C:\\Users\\jz421\\Desktop\\GlobalLocal\\IEEG_Pipelines\\ieeg\\viz\\ensemble.py:141: FutureWarning: Parameters `vmin` and `vmax` are deprecated, use `vlim` instead.\n",
      "  plot_func(picks=[chan], axes=ax, show=False, **kwargs)\n"
     ]
    },
    {
     "name": "stdout",
     "output_type": "stream",
     "text": [
      "No baseline correction applied\n"
     ]
    },
    {
     "name": "stderr",
     "output_type": "stream",
     "text": [
      "C:\\Users\\jz421\\Desktop\\GlobalLocal\\IEEG_Pipelines\\ieeg\\viz\\ensemble.py:141: FutureWarning: Parameters `vmin` and `vmax` are deprecated, use `vlim` instead.\n",
      "  plot_func(picks=[chan], axes=ax, show=False, **kwargs)\n"
     ]
    },
    {
     "name": "stdout",
     "output_type": "stream",
     "text": [
      "No baseline correction applied\n"
     ]
    },
    {
     "name": "stderr",
     "output_type": "stream",
     "text": [
      "C:\\Users\\jz421\\Desktop\\GlobalLocal\\IEEG_Pipelines\\ieeg\\viz\\ensemble.py:141: FutureWarning: Parameters `vmin` and `vmax` are deprecated, use `vlim` instead.\n",
      "  plot_func(picks=[chan], axes=ax, show=False, **kwargs)\n"
     ]
    },
    {
     "name": "stdout",
     "output_type": "stream",
     "text": [
      "No baseline correction applied\n"
     ]
    },
    {
     "name": "stderr",
     "output_type": "stream",
     "text": [
      "C:\\Users\\jz421\\Desktop\\GlobalLocal\\IEEG_Pipelines\\ieeg\\viz\\ensemble.py:141: FutureWarning: Parameters `vmin` and `vmax` are deprecated, use `vlim` instead.\n",
      "  plot_func(picks=[chan], axes=ax, show=False, **kwargs)\n"
     ]
    },
    {
     "name": "stdout",
     "output_type": "stream",
     "text": [
      "No baseline correction applied\n"
     ]
    },
    {
     "name": "stderr",
     "output_type": "stream",
     "text": [
      "C:\\Users\\jz421\\Desktop\\GlobalLocal\\IEEG_Pipelines\\ieeg\\viz\\ensemble.py:141: FutureWarning: Parameters `vmin` and `vmax` are deprecated, use `vlim` instead.\n",
      "  plot_func(picks=[chan], axes=ax, show=False, **kwargs)\n"
     ]
    },
    {
     "name": "stdout",
     "output_type": "stream",
     "text": [
      "No baseline correction applied\n"
     ]
    },
    {
     "name": "stderr",
     "output_type": "stream",
     "text": [
      "C:\\Users\\jz421\\Desktop\\GlobalLocal\\IEEG_Pipelines\\ieeg\\viz\\ensemble.py:141: FutureWarning: Parameters `vmin` and `vmax` are deprecated, use `vlim` instead.\n",
      "  plot_func(picks=[chan], axes=ax, show=False, **kwargs)\n"
     ]
    },
    {
     "name": "stdout",
     "output_type": "stream",
     "text": [
      "No baseline correction applied\n"
     ]
    },
    {
     "name": "stderr",
     "output_type": "stream",
     "text": [
      "C:\\Users\\jz421\\Desktop\\GlobalLocal\\IEEG_Pipelines\\ieeg\\viz\\ensemble.py:141: FutureWarning: Parameters `vmin` and `vmax` are deprecated, use `vlim` instead.\n",
      "  plot_func(picks=[chan], axes=ax, show=False, **kwargs)\n"
     ]
    },
    {
     "name": "stdout",
     "output_type": "stream",
     "text": [
      "No baseline correction applied\n"
     ]
    },
    {
     "name": "stderr",
     "output_type": "stream",
     "text": [
      "C:\\Users\\jz421\\Desktop\\GlobalLocal\\IEEG_Pipelines\\ieeg\\viz\\ensemble.py:141: FutureWarning: Parameters `vmin` and `vmax` are deprecated, use `vlim` instead.\n",
      "  plot_func(picks=[chan], axes=ax, show=False, **kwargs)\n"
     ]
    },
    {
     "name": "stdout",
     "output_type": "stream",
     "text": [
      "No baseline correction applied\n"
     ]
    },
    {
     "name": "stderr",
     "output_type": "stream",
     "text": [
      "C:\\Users\\jz421\\Desktop\\GlobalLocal\\IEEG_Pipelines\\ieeg\\viz\\ensemble.py:141: FutureWarning: Parameters `vmin` and `vmax` are deprecated, use `vlim` instead.\n",
      "  plot_func(picks=[chan], axes=ax, show=False, **kwargs)\n"
     ]
    },
    {
     "name": "stdout",
     "output_type": "stream",
     "text": [
      "No baseline correction applied\n"
     ]
    },
    {
     "name": "stderr",
     "output_type": "stream",
     "text": [
      "C:\\Users\\jz421\\Desktop\\GlobalLocal\\IEEG_Pipelines\\ieeg\\viz\\ensemble.py:141: FutureWarning: Parameters `vmin` and `vmax` are deprecated, use `vlim` instead.\n",
      "  plot_func(picks=[chan], axes=ax, show=False, **kwargs)\n"
     ]
    },
    {
     "name": "stdout",
     "output_type": "stream",
     "text": [
      "No baseline correction applied\n"
     ]
    },
    {
     "name": "stderr",
     "output_type": "stream",
     "text": [
      "C:\\Users\\jz421\\Desktop\\GlobalLocal\\IEEG_Pipelines\\ieeg\\viz\\ensemble.py:141: FutureWarning: Parameters `vmin` and `vmax` are deprecated, use `vlim` instead.\n",
      "  plot_func(picks=[chan], axes=ax, show=False, **kwargs)\n"
     ]
    },
    {
     "name": "stdout",
     "output_type": "stream",
     "text": [
      "No baseline correction applied\n"
     ]
    },
    {
     "name": "stderr",
     "output_type": "stream",
     "text": [
      "C:\\Users\\jz421\\Desktop\\GlobalLocal\\IEEG_Pipelines\\ieeg\\viz\\ensemble.py:141: FutureWarning: Parameters `vmin` and `vmax` are deprecated, use `vlim` instead.\n",
      "  plot_func(picks=[chan], axes=ax, show=False, **kwargs)\n"
     ]
    },
    {
     "name": "stdout",
     "output_type": "stream",
     "text": [
      "No baseline correction applied\n"
     ]
    },
    {
     "name": "stderr",
     "output_type": "stream",
     "text": [
      "C:\\Users\\jz421\\Desktop\\GlobalLocal\\IEEG_Pipelines\\ieeg\\viz\\ensemble.py:141: FutureWarning: Parameters `vmin` and `vmax` are deprecated, use `vlim` instead.\n",
      "  plot_func(picks=[chan], axes=ax, show=False, **kwargs)\n"
     ]
    },
    {
     "name": "stdout",
     "output_type": "stream",
     "text": [
      "No baseline correction applied\n"
     ]
    },
    {
     "name": "stderr",
     "output_type": "stream",
     "text": [
      "C:\\Users\\jz421\\Desktop\\GlobalLocal\\IEEG_Pipelines\\ieeg\\viz\\ensemble.py:141: FutureWarning: Parameters `vmin` and `vmax` are deprecated, use `vlim` instead.\n",
      "  plot_func(picks=[chan], axes=ax, show=False, **kwargs)\n"
     ]
    },
    {
     "name": "stdout",
     "output_type": "stream",
     "text": [
      "No baseline correction applied\n"
     ]
    },
    {
     "name": "stderr",
     "output_type": "stream",
     "text": [
      "C:\\Users\\jz421\\Desktop\\GlobalLocal\\IEEG_Pipelines\\ieeg\\viz\\ensemble.py:141: FutureWarning: Parameters `vmin` and `vmax` are deprecated, use `vlim` instead.\n",
      "  plot_func(picks=[chan], axes=ax, show=False, **kwargs)\n"
     ]
    },
    {
     "name": "stdout",
     "output_type": "stream",
     "text": [
      "No baseline correction applied\n"
     ]
    },
    {
     "name": "stderr",
     "output_type": "stream",
     "text": [
      "C:\\Users\\jz421\\Desktop\\GlobalLocal\\IEEG_Pipelines\\ieeg\\viz\\ensemble.py:141: FutureWarning: Parameters `vmin` and `vmax` are deprecated, use `vlim` instead.\n",
      "  plot_func(picks=[chan], axes=ax, show=False, **kwargs)\n"
     ]
    },
    {
     "name": "stdout",
     "output_type": "stream",
     "text": [
      "No baseline correction applied\n"
     ]
    },
    {
     "name": "stderr",
     "output_type": "stream",
     "text": [
      "C:\\Users\\jz421\\Desktop\\GlobalLocal\\IEEG_Pipelines\\ieeg\\viz\\ensemble.py:141: FutureWarning: Parameters `vmin` and `vmax` are deprecated, use `vlim` instead.\n",
      "  plot_func(picks=[chan], axes=ax, show=False, **kwargs)\n"
     ]
    },
    {
     "name": "stdout",
     "output_type": "stream",
     "text": [
      "No baseline correction applied\n"
     ]
    },
    {
     "name": "stderr",
     "output_type": "stream",
     "text": [
      "C:\\Users\\jz421\\Desktop\\GlobalLocal\\IEEG_Pipelines\\ieeg\\viz\\ensemble.py:141: FutureWarning: Parameters `vmin` and `vmax` are deprecated, use `vlim` instead.\n",
      "  plot_func(picks=[chan], axes=ax, show=False, **kwargs)\n"
     ]
    },
    {
     "name": "stdout",
     "output_type": "stream",
     "text": [
      "No baseline correction applied\n"
     ]
    },
    {
     "name": "stderr",
     "output_type": "stream",
     "text": [
      "C:\\Users\\jz421\\Desktop\\GlobalLocal\\IEEG_Pipelines\\ieeg\\viz\\ensemble.py:141: FutureWarning: Parameters `vmin` and `vmax` are deprecated, use `vlim` instead.\n",
      "  plot_func(picks=[chan], axes=ax, show=False, **kwargs)\n"
     ]
    },
    {
     "name": "stdout",
     "output_type": "stream",
     "text": [
      "No baseline correction applied\n"
     ]
    },
    {
     "name": "stderr",
     "output_type": "stream",
     "text": [
      "C:\\Users\\jz421\\Desktop\\GlobalLocal\\IEEG_Pipelines\\ieeg\\viz\\ensemble.py:141: FutureWarning: Parameters `vmin` and `vmax` are deprecated, use `vlim` instead.\n",
      "  plot_func(picks=[chan], axes=ax, show=False, **kwargs)\n"
     ]
    },
    {
     "name": "stdout",
     "output_type": "stream",
     "text": [
      "No baseline correction applied\n"
     ]
    },
    {
     "name": "stderr",
     "output_type": "stream",
     "text": [
      "C:\\Users\\jz421\\Desktop\\GlobalLocal\\IEEG_Pipelines\\ieeg\\viz\\ensemble.py:141: FutureWarning: Parameters `vmin` and `vmax` are deprecated, use `vlim` instead.\n",
      "  plot_func(picks=[chan], axes=ax, show=False, **kwargs)\n"
     ]
    },
    {
     "name": "stdout",
     "output_type": "stream",
     "text": [
      "No baseline correction applied\n"
     ]
    },
    {
     "name": "stderr",
     "output_type": "stream",
     "text": [
      "C:\\Users\\jz421\\Desktop\\GlobalLocal\\IEEG_Pipelines\\ieeg\\viz\\ensemble.py:141: FutureWarning: Parameters `vmin` and `vmax` are deprecated, use `vlim` instead.\n",
      "  plot_func(picks=[chan], axes=ax, show=False, **kwargs)\n"
     ]
    },
    {
     "name": "stdout",
     "output_type": "stream",
     "text": [
      "No baseline correction applied\n"
     ]
    },
    {
     "name": "stderr",
     "output_type": "stream",
     "text": [
      "C:\\Users\\jz421\\Desktop\\GlobalLocal\\IEEG_Pipelines\\ieeg\\viz\\ensemble.py:141: FutureWarning: Parameters `vmin` and `vmax` are deprecated, use `vlim` instead.\n",
      "  plot_func(picks=[chan], axes=ax, show=False, **kwargs)\n"
     ]
    },
    {
     "name": "stdout",
     "output_type": "stream",
     "text": [
      "No baseline correction applied\n"
     ]
    },
    {
     "name": "stderr",
     "output_type": "stream",
     "text": [
      "C:\\Users\\jz421\\Desktop\\GlobalLocal\\IEEG_Pipelines\\ieeg\\viz\\ensemble.py:141: FutureWarning: Parameters `vmin` and `vmax` are deprecated, use `vlim` instead.\n",
      "  plot_func(picks=[chan], axes=ax, show=False, **kwargs)\n"
     ]
    },
    {
     "name": "stdout",
     "output_type": "stream",
     "text": [
      "No baseline correction applied\n"
     ]
    },
    {
     "name": "stderr",
     "output_type": "stream",
     "text": [
      "C:\\Users\\jz421\\Desktop\\GlobalLocal\\IEEG_Pipelines\\ieeg\\viz\\ensemble.py:141: FutureWarning: Parameters `vmin` and `vmax` are deprecated, use `vlim` instead.\n",
      "  plot_func(picks=[chan], axes=ax, show=False, **kwargs)\n"
     ]
    },
    {
     "name": "stdout",
     "output_type": "stream",
     "text": [
      "No baseline correction applied\n"
     ]
    },
    {
     "name": "stderr",
     "output_type": "stream",
     "text": [
      "C:\\Users\\jz421\\Desktop\\GlobalLocal\\IEEG_Pipelines\\ieeg\\viz\\ensemble.py:141: FutureWarning: Parameters `vmin` and `vmax` are deprecated, use `vlim` instead.\n",
      "  plot_func(picks=[chan], axes=ax, show=False, **kwargs)\n"
     ]
    },
    {
     "name": "stdout",
     "output_type": "stream",
     "text": [
      "No baseline correction applied\n"
     ]
    },
    {
     "name": "stderr",
     "output_type": "stream",
     "text": [
      "C:\\Users\\jz421\\Desktop\\GlobalLocal\\IEEG_Pipelines\\ieeg\\viz\\ensemble.py:141: FutureWarning: Parameters `vmin` and `vmax` are deprecated, use `vlim` instead.\n",
      "  plot_func(picks=[chan], axes=ax, show=False, **kwargs)\n"
     ]
    },
    {
     "name": "stdout",
     "output_type": "stream",
     "text": [
      "No baseline correction applied\n"
     ]
    },
    {
     "name": "stderr",
     "output_type": "stream",
     "text": [
      "C:\\Users\\jz421\\Desktop\\GlobalLocal\\IEEG_Pipelines\\ieeg\\viz\\ensemble.py:141: FutureWarning: Parameters `vmin` and `vmax` are deprecated, use `vlim` instead.\n",
      "  plot_func(picks=[chan], axes=ax, show=False, **kwargs)\n"
     ]
    },
    {
     "name": "stdout",
     "output_type": "stream",
     "text": [
      "No baseline correction applied\n"
     ]
    },
    {
     "name": "stderr",
     "output_type": "stream",
     "text": [
      "C:\\Users\\jz421\\Desktop\\GlobalLocal\\IEEG_Pipelines\\ieeg\\viz\\ensemble.py:141: FutureWarning: Parameters `vmin` and `vmax` are deprecated, use `vlim` instead.\n",
      "  plot_func(picks=[chan], axes=ax, show=False, **kwargs)\n"
     ]
    },
    {
     "name": "stdout",
     "output_type": "stream",
     "text": [
      "No baseline correction applied\n"
     ]
    },
    {
     "name": "stderr",
     "output_type": "stream",
     "text": [
      "C:\\Users\\jz421\\Desktop\\GlobalLocal\\IEEG_Pipelines\\ieeg\\viz\\ensemble.py:141: FutureWarning: Parameters `vmin` and `vmax` are deprecated, use `vlim` instead.\n",
      "  plot_func(picks=[chan], axes=ax, show=False, **kwargs)\n"
     ]
    },
    {
     "name": "stdout",
     "output_type": "stream",
     "text": [
      "Saved figure: D0117_Response_fullTrialBase_1.jpg\n",
      "Saved figure: D0117_Response_fullTrialBase_2.jpg\n",
      "Saved figure: D0117_Response_fullTrialBase_3.jpg\n",
      "Saved figure: D0117_Response_fullTrialBase_4.jpg\n"
     ]
    }
   ],
   "source": [
    "# Description: Check channels for outliers and remove them\n",
    "\n",
    "HOME = os.path.expanduser(\"~\")\n",
    "\n",
    "# get box directory depending on OS\n",
    "if os.name == 'nt': # windows\n",
    "    LAB_root = os.path.join(HOME, \"Box\", \"CoganLab\")\n",
    "else: # mac\n",
    "    LAB_root = os.path.join(HOME, \"Library\", \"CloudStorage\", \"Box-Box\", \"CoganLab\")\n",
    "\n",
    "layout = get_data(\"GlobalLocal\", root=LAB_root)\n",
    "\n",
    "subjects = ['D0117']\n",
    "for sub in subjects:\n",
    "    # Load the data\n",
    "    TASK = \"GlobalLocal\"\n",
    "    subj = sub\n",
    "    # output_names = ['Stimulus_fixationCrossBase_0.2sec']\n",
    "    output_names = ['Stimulus_fullTrialBase', 'Response_fullTrialBase']\n",
    "\n",
    "    layout = get_data(\"GlobalLocal\", root=LAB_root)\n",
    "\n",
    "    fig_path = os.path.join(layout.root, 'derivatives', 'spec', 'wavelet', 'figs')\n",
    "    for output_name in output_names:\n",
    "        filename = os.path.join(layout.root, 'derivatives', 'spec', 'wavelet', subj, f'{output_name}-tfr.h5')\n",
    "        print(\"Filename:\", filename)\n",
    "        # spec = mne.time_frequency.read_tfrs(filename)[0]\n",
    "\n",
    "        # try doing this block to get spec instead of the above line where we grab it as the 0th index of read_tfrs\n",
    "        tfr_result = mne.time_frequency.read_tfrs(filename)\n",
    "        if isinstance(tfr_result, list):\n",
    "            # If it's a list, pick the first TFR object. UHHH I THINK I SHOULD AVERAGE THIS ACROSS TRIALS 2/28\n",
    "            spec = tfr_result[0]\n",
    "        else:\n",
    "            # Otherwise it's already just a single AverageTFR object\n",
    "            spec = tfr_result\n",
    "            \n",
    "        info_file = os.path.join(layout.root, spec.info['subject_info']['files'][0])\n",
    "\n",
    "        # Check channels for outliers and remove them\n",
    "        all_bad = get_bad_chans(info_file)\n",
    "        spec.info.update(bads=[b for b in all_bad if b in spec.ch_names])\n",
    "\n",
    "        # Plotting\n",
    "        figs = chan_grid(spec, size=(20, 10), vmin=-2, vmax=2, cmap=parula_map, show=False)\n",
    "        for i, f in enumerate(figs):\n",
    "            fig_name = f'{subj}_{output_name}_{i+1}.jpg'\n",
    "            fig_pathname = os.path.join(fig_path, fig_name)\n",
    "            f.savefig(fig_pathname, bbox_inches='tight')\n",
    "            print(\"Saved figure:\", fig_name)\n",
    "\n",
    "# update(spec, layout, \"bad\")\n",
    "\n",
    "\n",
    "# fig_path = os.path.join(layout.root, 'derivatives', 'spec', 'wavelet', 'figs')\n",
    "\n",
    "# filename = os.path.join(layout.root, 'derivatives', 'spec', 'wavelet', subj, 'Response_0.2secBeforeStimOnsetBase-tfr.h5')\n",
    "# print(\"Filename:\", filename)\n",
    "# spec = mne.time_frequency.read_tfrs(filename)[0]\n",
    "# info_file = os.path.join(layout.root, spec.info['subject_info']['files'][0])\n",
    "\n",
    "# # Check channels for outliers and remove them\n",
    "# # all_bad = get_bad_chans(info_file)\n",
    "# # spec.info.update(bads=[b for b in all_bad if b in spec.ch_names])\n",
    "\n",
    "# # Plotting\n",
    "# figs = chan_grid(spec, size=(20, 10), vmin=-2, vmax=2, cmap=parula_map, show=False)\n",
    "# for i, f in enumerate(figs):\n",
    "#     fig_name = f'{subj}_Response_fullTrialBase_{i+1}.jpg'\n",
    "#     fig_pathname = os.path.join(fig_path, fig_name)\n",
    "#     f.savefig(fig_pathname, bbox_inches='tight')\n",
    "#     print(\"Saved figure:\", fig_name)\n"
   ]
  },
  {
   "cell_type": "markdown",
   "metadata": {},
   "source": [
    "### just one subject"
   ]
  },
  {
   "cell_type": "code",
   "execution_count": null,
   "metadata": {},
   "outputs": [],
   "source": [
    "# Description: Check channels for outliers and remove them\n",
    "\n",
    "HOME = os.path.expanduser(\"~\")\n",
    "\n",
    "# get box directory depending on OS\n",
    "if os.name == 'nt': # windows\n",
    "    LAB_root = os.path.join(HOME, \"Box\", \"CoganLab\")\n",
    "else: # mac\n",
    "    LAB_root = os.path.join(HOME, \"Library\", \"CloudStorage\", \"Box-Box\", \"CoganLab\")\n",
    "\n",
    "layout = get_data(\"GlobalLocal\", root=LAB_root)\n",
    "\n",
    "\n",
    "# Load the data\n",
    "TASK = \"GlobalLocal\"\n",
    "subj = \"D0065\"\n",
    "output_name = 'Stimulus_fixationCrossBase_0.2sec'\n",
    "layout = get_data(\"GlobalLocal\", root=LAB_root)\n",
    "\n",
    "\n",
    "fig_path = os.path.join(layout.root, 'derivatives', 'spec', 'wavelet', 'figs')\n",
    "\n",
    "filename = os.path.join(layout.root, 'derivatives', 'spec', 'wavelet', subj, f'{output_name}-tfr.h5')\n",
    "print(\"Filename:\", filename)\n",
    "spec = mne.time_frequency.read_tfrs(filename)[0]\n",
    "info_file = os.path.join(layout.root, spec.info['subject_info']['files'][0])\n",
    "\n",
    "# Check channels for outliers and remove them\n",
    "all_bad = get_bad_chans(info_file)\n",
    "spec.info.update(bads=[b for b in all_bad if b in spec.ch_names])\n",
    "\n",
    "# Plotting\n",
    "figs = chan_grid(spec, size=(20, 10), vmin=-2, vmax=2, cmap=parula_map, show=False)\n",
    "for i, f in enumerate(figs):\n",
    "    fig_name = f'{subj}_{output_name}_{i+1}.jpg'\n",
    "    fig_pathname = os.path.join(fig_path, fig_name)\n",
    "    f.savefig(fig_pathname, bbox_inches='tight')\n",
    "    print(\"Saved figure:\", fig_name)\n",
    "\n",
    "# update(spec, layout, \"bad\")\n",
    "\n",
    "\n",
    "# fig_path = os.path.join(layout.root, 'derivatives', 'spec', 'wavelet', 'figs')\n",
    "\n",
    "# filename = os.path.join(layout.root, 'derivatives', 'spec', 'wavelet', subj, 'Response_0.2secBeforeStimOnsetBase-tfr.h5')\n",
    "# print(\"Filename:\", filename)\n",
    "# spec = mne.time_frequency.read_tfrs(filename)[0]\n",
    "# info_file = os.path.join(layout.root, spec.info['subject_info']['files'][0])\n",
    "\n",
    "# # Check channels for outliers and remove them\n",
    "# # all_bad = get_bad_chans(info_file)\n",
    "# # spec.info.update(bads=[b for b in all_bad if b in spec.ch_names])\n",
    "\n",
    "# # Plotting\n",
    "# figs = chan_grid(spec, size=(20, 10), vmin=-2, vmax=2, cmap=parula_map, show=False)\n",
    "# for i, f in enumerate(figs):\n",
    "#     fig_name = f'{subj}_Response_fullTrialBase_{i+1}.jpg'\n",
    "#     fig_pathname = os.path.join(fig_path, fig_name)\n",
    "#     f.savefig(fig_pathname, bbox_inches='tight')\n",
    "#     print(\"Saved figure:\", fig_name)\n"
   ]
  },
  {
   "cell_type": "code",
   "execution_count": null,
   "metadata": {},
   "outputs": [],
   "source": []
  }
 ],
 "metadata": {
  "kernelspec": {
   "display_name": "ieeg",
   "language": "python",
   "name": "python3"
  },
  "language_info": {
   "codemirror_mode": {
    "name": "ipython",
    "version": 3
   },
   "file_extension": ".py",
   "mimetype": "text/x-python",
   "name": "python",
   "nbconvert_exporter": "python",
   "pygments_lexer": "ipython3",
   "version": "3.11.7"
  },
  "orig_nbformat": 4
 },
 "nbformat": 4,
 "nbformat_minor": 2
}
