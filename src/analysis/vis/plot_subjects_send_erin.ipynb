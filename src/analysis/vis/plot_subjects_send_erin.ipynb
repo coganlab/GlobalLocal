{
  "cells": [
    {
      "cell_type": "code",
      "execution_count": 5,
      "metadata": {
        "collapsed": false
      },
      "outputs": [
        {
          "name": "stdout",
          "output_type": "stream",
          "text": [
            "['/Users/erinburns/Desktop/GlobalLocal', '/opt/anaconda3/envs/ieeg/lib/python313.zip', '/opt/anaconda3/envs/ieeg/lib/python3.13', '/opt/anaconda3/envs/ieeg/lib/python3.13/lib-dynload', '', '/opt/anaconda3/envs/ieeg/lib/python3.13/site-packages', 'C:/Users/jz421/Desktop/GlobalLocal/IEEG_Pipelines/']\n"
          ]
        }
      ],
      "source": [
        "import sys\n",
        "import os\n",
        "\n",
        "print(sys.path)\n",
        "sys.path.append(\"C:/Users/jz421/Desktop/GlobalLocal/IEEG_Pipelines/\") #need to do this cuz otherwise ieeg isn't added to path...\n",
        "\n",
        "# Get the absolute path to the directory containing the current script\n",
        "# For GlobalLocal/src/analysis/preproc/make_epoched_data.py, this is GlobalLocal/src/analysis/preproc\n",
        "try:\n",
        "    # This will work if running as a .py script\n",
        "    current_file_path = os.path.abspath(__file__)\n",
        "    current_script_dir = os.path.dirname(current_file_path)\n",
        "except NameError:\n",
        "    # This will be executed if __file__ is not defined (e.g., in a Jupyter Notebook)\n",
        "    # os.getcwd() often gives the directory of the notebook,\n",
        "    # or the directory from which the Jupyter server was started.\n",
        "    current_script_dir = os.getcwd()\n",
        "\n",
        "# Navigate up three levels to get to the 'GlobalLocal' directory\n",
        "project_root = os.path.abspath(os.path.join(current_script_dir, '..', '..', '..'))\n",
        "\n",
        "# Add the 'GlobalLocal' directory to sys.path if it's not already there\n",
        "if project_root not in sys.path:\n",
        "    sys.path.insert(0, project_root) # insert at the beginning to prioritize it\n",
        "\n",
        "import mne\n",
        "import os\n",
        "from ieeg.viz.mri import plot_subj, subject_to_info, plot_on_average #this used to import plot subj sig and nonsig, and plot electrodes from mri directly, but in order to save aaron's changes, i put them into jim_mri\n",
        "from src.analysis.vis.jim_mri import plot_subj_sig_and_nonsig, _plot_electrodes, get_sub_dir\n",
        "from ieeg.io import raw_from_layout, get_data\n",
        "# from utils import load_sig_chans, get_sig_chans_per_subject, make_sig_electrodes_per_subject_and_roi_dict, channel_names_to_indices\n",
        "from src.analysis.utils.general_utils import *\n",
        "\n",
        "import json\n",
        "import pyvista as pv\n",
        "pv.global_theme.allow_empty_mesh = True"
      ]
    },
    {
      "cell_type": "markdown",
      "metadata": {},
      "source": [
        "### plot single subject's chosen electrodes"
      ]
    },
    {
      "cell_type": "code",
      "execution_count": 12,
      "metadata": {},
      "outputs": [
        {
          "name": "stderr",
          "output_type": "stream",
          "text": [
            "/opt/anaconda3/envs/ieeg/lib/python3.13/site-packages/ieeg/viz/mri.py:796: RuntimeWarning: Fiducial point lpa not found, assuming identity RAS (non-zero origin) to head transformation\n",
            "  info.set_montage(montage)\n"
          ]
        }
      ],
      "source": [
        "subject_folder='/Users/erinburns/Library/CloudStorage/Box-Box/ECoG_Recon'\n",
        "test = subject_to_info('D65',subjects_dir=subject_folder) "
      ]
    },
    {
      "cell_type": "code",
      "execution_count": 9,
      "metadata": {},
      "outputs": [
        {
          "name": "stderr",
          "output_type": "stream",
          "text": [
            "/opt/anaconda3/envs/ieeg/lib/python3.13/site-packages/ieeg/viz/mri.py:796: RuntimeWarning: Fiducial point lpa not found, assuming identity RAS (non-zero origin) to head transformation\n",
            "  info.set_montage(montage)\n"
          ]
        },
        {
          "ename": "FileNotFoundError",
          "evalue": "[Errno 2] No such file or directory: 'C:\\\\Users\\\\erinburns\\\\Library\\\\CloudStorage\\\\Box-Box\\\\CoganLab\\\\BIDS-1.1_GlobalLocal\\\\BIDS\\\\derivatives\\\\freqFilt\\\\figs/D57_RAI2_RAI3_RAI4.png'",
          "output_type": "error",
          "traceback": [
            "\u001b[31m---------------------------------------------------------------------------\u001b[39m",
            "\u001b[31mFileNotFoundError\u001b[39m                         Traceback (most recent call last)",
            "\u001b[36mCell\u001b[39m\u001b[36m \u001b[39m\u001b[32mIn[9]\u001b[39m\u001b[32m, line 13\u001b[39m\n\u001b[32m     10\u001b[39m png_filepath = os.path.join(base_path, \u001b[33mf\u001b[39m\u001b[33m\"\u001b[39m\u001b[38;5;132;01m{\u001b[39;00msubj_without_zeroes\u001b[38;5;132;01m}\u001b[39;00m\u001b[33m_\u001b[39m\u001b[38;5;132;01m{\u001b[39;00mplot_these_elecs_save_name\u001b[38;5;132;01m}\u001b[39;00m\u001b[33m.png\u001b[39m\u001b[33m\"\u001b[39m)\n\u001b[32m     12\u001b[39m \u001b[38;5;66;03m# Save the figure\u001b[39;00m\n\u001b[32m---> \u001b[39m\u001b[32m13\u001b[39m \u001b[43mbrain_fig\u001b[49m\u001b[43m.\u001b[49m\u001b[43msave_image\u001b[49m\u001b[43m(\u001b[49m\u001b[43mpng_filepath\u001b[49m\u001b[43m,\u001b[49m\u001b[43m \u001b[49m\u001b[33;43m'\u001b[39;49m\u001b[33;43mpng\u001b[39;49m\u001b[33;43m'\u001b[39;49m\u001b[43m)\u001b[49m\n",
            "\u001b[36mFile \u001b[39m\u001b[32m/opt/anaconda3/envs/ieeg/lib/python3.13/site-packages/mne/viz/_brain/_brain.py:3254\u001b[39m, in \u001b[36mBrain.save_image\u001b[39m\u001b[34m(self, filename, mode)\u001b[39m\n\u001b[32m   3252\u001b[39m \u001b[38;5;28;01mif\u001b[39;00m filename \u001b[38;5;129;01mis\u001b[39;00m \u001b[38;5;28;01mNone\u001b[39;00m:\n\u001b[32m   3253\u001b[39m     filename = _generate_default_filename(\u001b[33m\"\u001b[39m\u001b[33m.png\u001b[39m\u001b[33m\"\u001b[39m)\n\u001b[32m-> \u001b[39m\u001b[32m3254\u001b[39m \u001b[43m_save_ndarray_img\u001b[49m\u001b[43m(\u001b[49m\u001b[43mfilename\u001b[49m\u001b[43m,\u001b[49m\u001b[43m \u001b[49m\u001b[38;5;28;43mself\u001b[39;49m\u001b[43m.\u001b[49m\u001b[43mscreenshot\u001b[49m\u001b[43m(\u001b[49m\u001b[43mmode\u001b[49m\u001b[43m=\u001b[49m\u001b[43mmode\u001b[49m\u001b[43m,\u001b[49m\u001b[43m \u001b[49m\u001b[43mtime_viewer\u001b[49m\u001b[43m=\u001b[49m\u001b[38;5;28;43;01mTrue\u001b[39;49;00m\u001b[43m)\u001b[49m\u001b[43m)\u001b[49m\n",
            "\u001b[36mFile \u001b[39m\u001b[32m/opt/anaconda3/envs/ieeg/lib/python3.13/site-packages/mne/viz/utils.py:2672\u001b[39m, in \u001b[36m_save_ndarray_img\u001b[39m\u001b[34m(fname, img)\u001b[39m\n\u001b[32m   2669\u001b[39m \u001b[38;5;250m\u001b[39m\u001b[33;03m\"\"\"Save an image to disk.\"\"\"\u001b[39;00m\n\u001b[32m   2670\u001b[39m \u001b[38;5;28;01mfrom\u001b[39;00m\u001b[38;5;250m \u001b[39m\u001b[34;01mPIL\u001b[39;00m\u001b[38;5;250m \u001b[39m\u001b[38;5;28;01mimport\u001b[39;00m Image\n\u001b[32m-> \u001b[39m\u001b[32m2672\u001b[39m \u001b[43mImage\u001b[49m\u001b[43m.\u001b[49m\u001b[43mfromarray\u001b[49m\u001b[43m(\u001b[49m\u001b[43mimg\u001b[49m\u001b[43m)\u001b[49m\u001b[43m.\u001b[49m\u001b[43msave\u001b[49m\u001b[43m(\u001b[49m\u001b[43mfname\u001b[49m\u001b[43m)\u001b[49m\n",
            "\u001b[36mFile \u001b[39m\u001b[32m/opt/anaconda3/envs/ieeg/lib/python3.13/site-packages/PIL/Image.py:2591\u001b[39m, in \u001b[36mImage.save\u001b[39m\u001b[34m(self, fp, format, **params)\u001b[39m\n\u001b[32m   2589\u001b[39m         fp = builtins.open(filename, \u001b[33m\"\u001b[39m\u001b[33mr+b\u001b[39m\u001b[33m\"\u001b[39m)\n\u001b[32m   2590\u001b[39m     \u001b[38;5;28;01melse\u001b[39;00m:\n\u001b[32m-> \u001b[39m\u001b[32m2591\u001b[39m         fp = \u001b[43mbuiltins\u001b[49m\u001b[43m.\u001b[49m\u001b[43mopen\u001b[49m\u001b[43m(\u001b[49m\u001b[43mfilename\u001b[49m\u001b[43m,\u001b[49m\u001b[43m \u001b[49m\u001b[33;43m\"\u001b[39;49m\u001b[33;43mw+b\u001b[39;49m\u001b[33;43m\"\u001b[39;49m\u001b[43m)\u001b[49m\n\u001b[32m   2592\u001b[39m \u001b[38;5;28;01melse\u001b[39;00m:\n\u001b[32m   2593\u001b[39m     fp = cast(IO[\u001b[38;5;28mbytes\u001b[39m], fp)\n",
            "\u001b[31mFileNotFoundError\u001b[39m: [Errno 2] No such file or directory: 'C:\\\\Users\\\\erinburns\\\\Library\\\\CloudStorage\\\\Box-Box\\\\CoganLab\\\\BIDS-1.1_GlobalLocal\\\\BIDS\\\\derivatives\\\\freqFilt\\\\figs/D57_RAI2_RAI3_RAI4.png'"
          ]
        }
      ],
      "source": [
        "subj = \"D0057\"\n",
        "base_path = r'C:\\Users\\erinburns\\Library\\CloudStorage\\Box-Box\\CoganLab\\BIDS-1.1_GlobalLocal\\BIDS\\derivatives\\freqFilt\\figs'\n",
        "plot_these_elecs = ['RAI2', 'RAI3', 'RAI4']\n",
        "plot_these_elecs_save_name = '_'.join(plot_these_elecs)\n",
        "\n",
        "subj_without_zeroes = \"D\" + subj[1:].lstrip('0')\n",
        "brain_fig = plot_subj(subj_without_zeroes, subj_dir=subject_folder, picks=plot_these_elecs, labels_every=1, hemi='both', title=f'{subj}_Stimulus', background='black', color=(1, 1, 0)) \n",
        "\n",
        "# Specify the path and filename for the PNG file\n",
        "png_filepath = os.path.join(base_path, f\"{subj_without_zeroes}_{plot_these_elecs_save_name}.png\")\n",
        "\n",
        "# Save the figure\n",
        "brain_fig.save_image(png_filepath, 'png')"
      ]
    },
    {
      "cell_type": "code",
      "execution_count": 6,
      "metadata": {},
      "outputs": [],
      "source": [
        "subjects = ['D0057','D0059', 'D0063', 'D0065', 'D0069', 'D0071', 'D0077', 'D0090', 'D0094', 'D0100', 'D0102', 'D0103', 'D0107A', 'D0110', 'D0116', 'D0117', 'D0121']"
      ]
    },
    {
      "cell_type": "markdown",
      "metadata": {},
      "source": [
        "plot multiple subjects on average brain"
      ]
    },
    {
      "cell_type": "code",
      "execution_count": 7,
      "metadata": {},
      "outputs": [
        {
          "ename": "FileNotFoundError",
          "evalue": "[Errno 2] No such file or directory: '/Users/erinburns/Library/CloudStorage/Box-Box/CoganLab/ECoG_Recon_Full/D57/elec_recon/D57_elec_locations_RAS_brainshifted.txt'",
          "output_type": "error",
          "traceback": [
            "\u001b[31m---------------------------------------------------------------------------\u001b[39m",
            "\u001b[31mFileNotFoundError\u001b[39m                         Traceback (most recent call last)",
            "\u001b[36mCell\u001b[39m\u001b[36m \u001b[39m\u001b[32mIn[7]\u001b[39m\u001b[32m, line 68\u001b[39m\n\u001b[32m     64\u001b[39m     os.makedirs(save_path)\n\u001b[32m     66\u001b[39m \u001b[38;5;66;03m# 2. DATA LOADING\u001b[39;00m\n\u001b[32m     67\u001b[39m \u001b[38;5;66;03m# Pass the anat_path to your loading function\u001b[39;00m\n\u001b[32m---> \u001b[39m\u001b[32m68\u001b[39m allSigElectrodes, allElectrodes = \u001b[43mload_sig_and_all_electrode_data_and_remove_zeroes_in_subject_names\u001b[49m\u001b[43m(\u001b[49m\u001b[43msubjects\u001b[49m\u001b[43m,\u001b[49m\u001b[43m \u001b[49m\u001b[43mdata_path\u001b[49m\u001b[43m,\u001b[49m\u001b[43m \u001b[49m\u001b[43mepochs_root_file\u001b[49m\u001b[43m,\u001b[49m\u001b[43m \u001b[49m\u001b[43manat_root\u001b[49m\u001b[43m=\u001b[49m\u001b[43manat_path\u001b[49m\u001b[43m)\u001b[49m\n\u001b[32m     70\u001b[39m \u001b[38;5;66;03m# 3. DATA TRANSFORMATION\u001b[39;00m\n\u001b[32m     71\u001b[39m \u001b[38;5;66;03m# Pass the anat_path to your transformation function\u001b[39;00m\n\u001b[32m     72\u001b[39m subjects_for_plot, sig_indices = make_indices_plottable(allSigElectrodes, anat_root=anat_path)\n",
            "\u001b[36mCell\u001b[39m\u001b[36m \u001b[39m\u001b[32mIn[7]\u001b[39m\u001b[32m, line 11\u001b[39m, in \u001b[36mload_sig_and_all_electrode_data_and_remove_zeroes_in_subject_names\u001b[39m\u001b[34m(subjects, base_path, epochs_root_file, anat_root)\u001b[39m\n\u001b[32m      7\u001b[39m subj_without_zeroes = \u001b[33m\"\u001b[39m\u001b[33mD\u001b[39m\u001b[33m\"\u001b[39m + subj[\u001b[32m1\u001b[39m:].lstrip(\u001b[33m'\u001b[39m\u001b[33m0\u001b[39m\u001b[33m'\u001b[39m)\n\u001b[32m      9\u001b[39m \u001b[38;5;66;03m# Get subject info, which contains all channel names\u001b[39;00m\n\u001b[32m     10\u001b[39m \u001b[38;5;66;03m# *** FIX: Pass the anat_root path to the subjects_dir parameter ***\u001b[39;00m\n\u001b[32m---> \u001b[39m\u001b[32m11\u001b[39m info = \u001b[43msubject_to_info\u001b[49m\u001b[43m(\u001b[49m\u001b[43msubj_without_zeroes\u001b[49m\u001b[43m,\u001b[49m\u001b[43m \u001b[49m\u001b[43msubjects_dir\u001b[49m\u001b[43m=\u001b[49m\u001b[43manat_root\u001b[49m\u001b[43m)\u001b[49m\n\u001b[32m     12\u001b[39m all_subj_chan_names = info.ch_names\n\u001b[32m     14\u001b[39m \u001b[38;5;66;03m# Store all electrode names for the subject\u001b[39;00m\n",
            "\u001b[36mFile \u001b[39m\u001b[32m/opt/anaconda3/envs/ieeg/lib/python3.13/site-packages/ieeg/viz/mri.py:787\u001b[39m, in \u001b[36msubject_to_info\u001b[39m\u001b[34m(subject, subjects_dir, ch_types, sfreq)\u001b[39m\n\u001b[32m    784\u001b[39m elec_file = op.join(subjects_dir, subject, \u001b[33m'\u001b[39m\u001b[33melec_recon\u001b[39m\u001b[33m'\u001b[39m,\n\u001b[32m    785\u001b[39m                     subject + \u001b[33m'\u001b[39m\u001b[33m_elec_locations_RAS_brainshifted.txt\u001b[39m\u001b[33m'\u001b[39m)\n\u001b[32m    786\u001b[39m elecs = \u001b[38;5;28mdict\u001b[39m()\n\u001b[32m--> \u001b[39m\u001b[32m787\u001b[39m \u001b[38;5;28;01mwith\u001b[39;00m \u001b[38;5;28;43mopen\u001b[39;49m\u001b[43m(\u001b[49m\u001b[43melec_file\u001b[49m\u001b[43m,\u001b[49m\u001b[43m \u001b[49m\u001b[33;43m'\u001b[39;49m\u001b[33;43mr\u001b[39;49m\u001b[33;43m'\u001b[39;49m\u001b[43m)\u001b[49m \u001b[38;5;28;01mas\u001b[39;00m fd:\n\u001b[32m    788\u001b[39m     reader = csv.reader(fd)\n\u001b[32m    789\u001b[39m     \u001b[38;5;28;01mfor\u001b[39;00m row \u001b[38;5;129;01min\u001b[39;00m reader:\n",
            "\u001b[31mFileNotFoundError\u001b[39m: [Errno 2] No such file or directory: '/Users/erinburns/Library/CloudStorage/Box-Box/CoganLab/ECoG_Recon_Full/D57/elec_recon/D57_elec_locations_RAS_brainshifted.txt'"
          ]
        }
      ],
      "source": [
        "def load_sig_and_all_electrode_data_and_remove_zeroes_in_subject_names(subjects, base_path, epochs_root_file, anat_root):\n",
        "    all_sig_electrodes = {}\n",
        "    all_electrodes = {}\n",
        "\n",
        "    for subj in subjects:\n",
        "        # Clean up subject ID (e.g., 'D0057' -> 'D57')\n",
        "        subj_without_zeroes = \"D\" + subj[1:].lstrip('0')\n",
        "\n",
        "        # Get subject info, which contains all channel names\n",
        "        # *** FIX: Pass the anat_root path to the subjects_dir parameter ***\n",
        "        info = subject_to_info(subj_without_zeroes, subjects_dir=anat_root)\n",
        "        all_subj_chan_names = info.ch_names\n",
        "        \n",
        "        # Store all electrode names for the subject\n",
        "        all_electrodes[subj_without_zeroes] = all_subj_chan_names\n",
        "\n",
        "        # Load significant channel names for the subject\n",
        "        filename = os.path.join(base_path, subj, f'sig_chans_{subj}_{epochs_root_file}.json')\n",
        "        try:\n",
        "            sig_chans = load_sig_chans(filename)\n",
        "            all_sig_electrodes[subj_without_zeroes] = sig_chans\n",
        "        except FileNotFoundError:\n",
        "            print(f\"Warning: Sig chans file not found for {subj}. Skipping.\")\n",
        "            all_sig_electrodes[subj_without_zeroes] = []\n",
        "\n",
        "    return all_sig_electrodes, all_electrodes\n",
        "\n",
        "def make_indices_plottable(electrodes_dict, anat_root):\n",
        "    subjects = []\n",
        "    plottable_indices = []\n",
        "    length = 0\n",
        "    \n",
        "    for subject, electrodes in electrodes_dict.items():\n",
        "        # *** FIX: Pass the anat_root path to the subjects_dir parameter ***\n",
        "        info = subject_to_info(subject, subjects_dir=anat_root)\n",
        "        \n",
        "        # Find the index for each electrode and add the offset\n",
        "        for electrode in electrodes:\n",
        "            if electrode in info['ch_names']:\n",
        "                plottable_indices.append(length + info['ch_names'].index(electrode))\n",
        "            else:\n",
        "                print(f\"Warning: Electrode '{electrode}' not found in {subject}\")\n",
        "\n",
        "        length += len(info['ch_names'])\n",
        "        subjects.append(subject)\n",
        "        \n",
        "    return subjects, plottable_indices\n",
        "\n",
        "# ===================================================================\n",
        "# --- Main Script ---\n",
        "# ===================================================================\n",
        "\n",
        "HOME = os.path.expanduser(\"~\")\n",
        "LAB_root = os.path.join(HOME, \"Library\", \"CloudStorage\", \"Box-Box\", \"CoganLab\")\n",
        "\n",
        "epochs_root_files = [\"stimulus_err_corr_conditions_Stimulus_0.5sec_within1sec_randoffset_preStimulusBase_decFactor_8_outliers_10_passband_70.0-150.0_padLength_0.5s_stat_func_ttest_ind_equal_var_False\"]\n",
        "\n",
        "for epochs_root_file in epochs_root_files:\n",
        "    data_path = os.path.join(LAB_root, \"BIDS-1.1_GlobalLocal\", \"BIDS\", \"derivatives\", \"freqFilt\", \"figs\")\n",
        "    save_path = os.path.join(LAB_root, \"BIDS-1.1_GlobalLocal\", \"BIDS\", \"derivatives\", \"vis\", \"figs\", f'{epochs_root_file}')\n",
        "    anat_path = os.path.join(LAB_root, 'ECoG_Recon_Full')\n",
        "\n",
        "    if not os.path.exists(save_path):\n",
        "        os.makedirs(save_path)\n",
        "\n",
        "    # 2. DATA LOADING\n",
        "    # Pass the anat_path to your loading function\n",
        "    allSigElectrodes, allElectrodes = load_sig_and_all_electrode_data_and_remove_zeroes_in_subject_names(subjects, data_path, epochs_root_file, anat_root=anat_path)\n",
        "\n",
        "    # 3. DATA TRANSFORMATION\n",
        "    # Pass the anat_path to your transformation function\n",
        "    subjects_for_plot, sig_indices = make_indices_plottable(allSigElectrodes, anat_root=anat_path)\n",
        "    _, all_indices = make_indices_plottable(allElectrodes, anat_root=anat_path)\n",
        "\n",
        "    # 4. VISUALIZATION\n",
        "    # Plot all electrodes first in a neutral color\n",
        "    fig = plot_on_average(subjects_for_plot, picks=all_indices, rm_wm=False, hemi='both', color=(0.8, 0.8, 0.8), size=0.4)\n",
        "\n",
        "    # Overlay the significant electrodes in a bright color\n",
        "    fig = plot_on_average(subjects_for_plot, picks=sig_indices, rm_wm=False, hemi='both', color=(1, 1, 0), size=0.4, fig=fig)\n",
        "\n",
        "    fig.save_image(os.path.join(save_path, \"sigAndAllElectrodes_for_\" + str(len(subjects)) + \"_subjects_\" + epochs_root_file + \".png\"))\n",
        "    fig.close()\n",
        "\n",
        "    # plot just the significant electrodes in a bright color\n",
        "    fig2 = plot_on_average(subjects_for_plot, picks=sig_indices, rm_wm=False, hemi='both', color=(1, 1, 0), size=0.4)\n",
        "    fig2.save_image(os.path.join(save_path, \"sigElectrodes_for_\" + str(len(subjects)) + \"_subjects_\" + epochs_root_file + \".png\"))\n",
        "    fig2.close()\n",
        "\n",
        "    # plot just all electrodes in a neutral color\n",
        "    fig3 = plot_on_average(subjects_for_plot, picks=all_indices, rm_wm=False, hemi='both', color=(0.8, 0.8, 0.8), size=0.4)\n",
        "    fig3.save_image(os.path.join(save_path, \"allElectrodes_for_\" + str(len(subjects)) + \"_subjects_\" + epochs_root_file + \".png\"))\n",
        "    fig3.close()\n",
        "\n",
        "    print(f\"Finished processing and saved figures to: {save_path}\")"
      ]
    },
    {
      "cell_type": "markdown",
      "metadata": {},
      "source": []
    }
  ],
  "metadata": {
    "kernelspec": {
      "display_name": "ieeg",
      "language": "python",
      "name": "python3"
    },
    "language_info": {
      "codemirror_mode": {
        "name": "ipython",
        "version": 3
      },
      "file_extension": ".py",
      "mimetype": "text/x-python",
      "name": "python",
      "nbconvert_exporter": "python",
      "pygments_lexer": "ipython3",
      "version": "3.13.2"
    }
  },
  "nbformat": 4,
  "nbformat_minor": 0
}
