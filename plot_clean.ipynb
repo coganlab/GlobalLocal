{
  "cells": [
    {
      "attachments": {},
      "cell_type": "markdown",
      "metadata": {},
      "source": [
        "\n",
        "# Example line noise filtering script\n",
        "\n",
        "Filters the 60Hz line noise from the data, as well as the harmonics. Includes\n",
        "environment checks for SLURM jobs for convenience\n"
      ]
    },
    {
      "cell_type": "code",
      "execution_count": 4,
      "metadata": {
        "collapsed": false
      },
      "outputs": [
        {
          "name": "stdout",
          "output_type": "stream",
          "text": [
            "['c:\\\\Users\\\\jz421\\\\Desktop\\\\GlobalLocal', 'c:\\\\Users\\\\jz421\\\\AppData\\\\Local\\\\anaconda3\\\\envs\\\\ieeg\\\\python311.zip', 'c:\\\\Users\\\\jz421\\\\AppData\\\\Local\\\\anaconda3\\\\envs\\\\ieeg\\\\DLLs', 'c:\\\\Users\\\\jz421\\\\AppData\\\\Local\\\\anaconda3\\\\envs\\\\ieeg\\\\Lib', 'c:\\\\Users\\\\jz421\\\\AppData\\\\Local\\\\anaconda3\\\\envs\\\\ieeg', '', 'C:\\\\Users\\\\jz421\\\\AppData\\\\Roaming\\\\Python\\\\Python311\\\\site-packages', 'C:\\\\Users\\\\jz421\\\\AppData\\\\Roaming\\\\Python\\\\Python311\\\\site-packages\\\\win32', 'C:\\\\Users\\\\jz421\\\\AppData\\\\Roaming\\\\Python\\\\Python311\\\\site-packages\\\\win32\\\\lib', 'C:\\\\Users\\\\jz421\\\\AppData\\\\Roaming\\\\Python\\\\Python311\\\\site-packages\\\\Pythonwin', 'c:\\\\Users\\\\jz421\\\\AppData\\\\Local\\\\anaconda3\\\\envs\\\\ieeg\\\\Lib\\\\site-packages', 'c:\\\\Users\\\\jz421\\\\AppData\\\\Local\\\\anaconda3\\\\envs\\\\ieeg\\\\Lib\\\\site-packages\\\\win32', 'c:\\\\Users\\\\jz421\\\\AppData\\\\Local\\\\anaconda3\\\\envs\\\\ieeg\\\\Lib\\\\site-packages\\\\win32\\\\lib', 'c:\\\\Users\\\\jz421\\\\AppData\\\\Local\\\\anaconda3\\\\envs\\\\ieeg\\\\Lib\\\\site-packages\\\\Pythonwin', 'C:/Users/jz421/Desktop/GlobalLocal/IEEG_Pipelines/']\n"
          ]
        }
      ],
      "source": [
        "import sys\n",
        "print(sys.path)\n",
        "sys.path.append(\"C:/Users/jz421/Desktop/GlobalLocal/IEEG_Pipelines/\") #need to do this cuz otherwise ieeg isn't added to path...\n",
        "\n",
        "import mne\n",
        "import os\n",
        "from ieeg.mt_filter import line_filter\n",
        "from ieeg.io import get_data, raw_from_layout, save_derivative\n",
        "from ieeg import viz\n",
        "from bids import BIDSLayout\n",
        "from ieeg.viz.utils import figure_compare\n",
        "from ieeg.navigate import trial_ieeg, channel_outlier_marker, crop_empty_data, outliers_to_nan\n",
        "import pandas as pd\n"
      ]
    },
    {
      "cell_type": "code",
      "execution_count": 4,
      "metadata": {
        "collapsed": false
      },
      "outputs": [],
      "source": [
        "HOME = os.path.expanduser(\"~\")\n",
        "if 'SLURM_ARRAY_TASK_ID' in os.environ.keys():\n",
        "    LAB_root = os.path.join(HOME, \"workspace\", \"CoganLab\")\n",
        "    subject = int(os.environ['SLURM_ARRAY_TASK_ID'])\n",
        "else:  # if not then set box directory\n",
        "    LAB_root = os.path.join(HOME, \"Box\", \"CoganLab\")\n",
        "    subject = 5"
      ]
    },
    {
      "cell_type": "code",
      "execution_count": null,
      "metadata": {
        "collapsed": false
      },
      "outputs": [],
      "source": [
        "HOME = os.path.expanduser(\"~\")\n",
        "\n",
        "# get box directory depending on OS\n",
        "if os.name == 'nt': # windows\n",
        "    LAB_root = os.path.join(HOME, \"Box\", \"CoganLab\")\n",
        "else: # mac\n",
        "    LAB_root = os.path.join(HOME, \"Library\", \"CloudStorage\", \"Box-Box\", \"CoganLab\")\n",
        "\n",
        "layout = get_data(\"GlobalLocal\", root=LAB_root)\n",
        "\n",
        "\n",
        "## Load Data\n",
        "layout = get_data(\"GlobalLocal\", LAB_root)\n",
        "subjects = layout.get_subjects()\n",
        "subjects.sort()\n",
        "print(subjects)\n",
        "\n",
        "for subj in subjects:\n",
        "    raw = raw_from_layout(layout, subject=subj, extension=\".edf\", desc=None,\n",
        "                      preload=True)\n",
        "\n",
        "    ## filter data\n",
        "    filt = line_filter(raw, mt_bandwidth=10., n_jobs=-1, copy=False, verbose=10,\n",
        "                filter_length='700ms', freqs=[60], notch_widths=20)\n",
        "    \n",
        "    filt.info['bads'] += channel_outlier_marker(filt, 3, 2, save=True)\n",
        "\n",
        "\n",
        "    # line_filter(raw, mt_bandwidth=10., n_jobs=-1, copy=False, verbose=10,\n",
        "    #             filter_length='20s', freqs=[60, 120, 180, 240],\n",
        "    #             notch_widths=20)\n",
        "\n",
        "    save_derivative(filt, layout, \"clean\", overwrite=True)\n",
        "\n",
        "    print(\"Data saved successfully.\")\n",
        "\n",
        "\n",
        "\n",
        "# # Save data to save_dir\n",
        "# file_names = [\"data_raw.fif\", \"data_filt.fif\"]  # Specify the desired file names\n",
        "# for d, file_name in zip(data, file_names):\n",
        "#     file_path = os.path.join(save_dir, file_name)\n",
        "#     d.save(file_path, overwrite=True)\n",
        "\n",
        "\n",
        "# for subj in subjects:\n",
        "#     # if subj != \"D0022\":\n",
        "#     #     continue\n",
        "#     # Load the data\n",
        "#     raw = raw_from_layout(layout, subject=subj,\n",
        "#                            extension='.edf', preload=True)\n",
        "#     filt = line_filter(raw, mt_bandwidth=10., n_jobs=6,\n",
        "#                    filter_length='700ms', verbose=10,\n",
        "#                    freqs=[60], notch_widths=20)\n",
        "\n",
        "\n",
        "#     data = [raw, filt]\n",
        "#     viz.utils.figure_compare(data, [\"Un\", \"\"], avg=True, n_jobs=6,\n",
        "#                    verbose=10, proj=True, fmax=250)"
      ]
    },
    {
      "attachments": {},
      "cell_type": "markdown",
      "metadata": {},
      "source": [
        "### just one subject for testing"
      ]
    },
    {
      "cell_type": "code",
      "execution_count": 6,
      "metadata": {},
      "outputs": [
        {
          "name": "stderr",
          "output_type": "stream",
          "text": [
            "c:\\Users\\jz421\\Desktop\\GlobalLocal\\ieeg\\io.py:100: RuntimeWarning: The unit for channel(s) Trigger has changed from NA to V.\n",
            "  new_raw = read_raw_bids(bids_path=BIDS_path)\n",
            "c:\\Users\\jz421\\Desktop\\GlobalLocal\\ieeg\\io.py:100: RuntimeWarning: participants.tsv file not found for C:\\Users\\jz421\\Box\\CoganLab\\BIDS-1.1_GlobalLocal\\BIDS\\sub-D0057\\ieeg\\sub-D0057_task-GlobalLocal_acq-01_run-01_ieeg.edf\n",
            "  new_raw = read_raw_bids(bids_path=BIDS_path)\n",
            "c:\\Users\\jz421\\Desktop\\GlobalLocal\\ieeg\\io.py:100: RuntimeWarning: The unit for channel(s) Trigger has changed from NA to V.\n",
            "  new_raw = read_raw_bids(bids_path=BIDS_path)\n",
            "c:\\Users\\jz421\\Desktop\\GlobalLocal\\ieeg\\io.py:100: RuntimeWarning: participants.tsv file not found for C:\\Users\\jz421\\Box\\CoganLab\\BIDS-1.1_GlobalLocal\\BIDS\\sub-D0057\\ieeg\\sub-D0057_task-GlobalLocal_acq-01_run-02_ieeg.edf\n",
            "  new_raw = read_raw_bids(bids_path=BIDS_path)\n",
            "c:\\Users\\jz421\\Desktop\\GlobalLocal\\ieeg\\io.py:100: RuntimeWarning: The unit for channel(s) Trigger has changed from NA to V.\n",
            "  new_raw = read_raw_bids(bids_path=BIDS_path)\n",
            "c:\\Users\\jz421\\Desktop\\GlobalLocal\\ieeg\\io.py:100: RuntimeWarning: participants.tsv file not found for C:\\Users\\jz421\\Box\\CoganLab\\BIDS-1.1_GlobalLocal\\BIDS\\sub-D0057\\ieeg\\sub-D0057_task-GlobalLocal_acq-01_run-03_ieeg.edf\n",
            "  new_raw = read_raw_bids(bids_path=BIDS_path)\n",
            "c:\\Users\\jz421\\Desktop\\GlobalLocal\\ieeg\\io.py:100: RuntimeWarning: The unit for channel(s) Trigger has changed from NA to V.\n",
            "  new_raw = read_raw_bids(bids_path=BIDS_path)\n",
            "c:\\Users\\jz421\\Desktop\\GlobalLocal\\ieeg\\io.py:100: RuntimeWarning: participants.tsv file not found for C:\\Users\\jz421\\Box\\CoganLab\\BIDS-1.1_GlobalLocal\\BIDS\\sub-D0057\\ieeg\\sub-D0057_task-GlobalLocal_acq-01_run-04_ieeg.edf\n",
            "  new_raw = read_raw_bids(bids_path=BIDS_path)\n",
            "c:\\Users\\jz421\\Desktop\\GlobalLocal\\ieeg\\timefreq\\multitaper.py:62: RuntimeWarning: Log entries will be appended to the file. Use overwrite=False to avoid this message in the future.\n",
            "  mne.set_log_file(\"output.log\",\n",
            "[Parallel(n_jobs=-1)]: Using backend LokyBackend with 8 concurrent workers.\n",
            "[Parallel(n_jobs=-1)]: Done   1 tasks      | elapsed:   39.4s\n",
            "[Parallel(n_jobs=-1)]: Done   2 tasks      | elapsed:   39.6s\n",
            "[Parallel(n_jobs=-1)]: Done   3 tasks      | elapsed:   39.8s\n",
            "[Parallel(n_jobs=-1)]: Done   4 tasks      | elapsed:   39.9s\n",
            "[Parallel(n_jobs=-1)]: Done   5 tasks      | elapsed:   40.0s\n",
            "[Parallel(n_jobs=-1)]: Done   6 tasks      | elapsed:   40.2s\n",
            "[Parallel(n_jobs=-1)]: Done   7 tasks      | elapsed:   40.3s\n",
            "[Parallel(n_jobs=-1)]: Done   8 tasks      | elapsed:   40.4s\n",
            "[Parallel(n_jobs=-1)]: Done   9 tasks      | elapsed:  1.3min\n",
            "[Parallel(n_jobs=-1)]: Done  10 tasks      | elapsed:  1.3min\n",
            "[Parallel(n_jobs=-1)]: Done  11 tasks      | elapsed:  1.3min\n",
            "[Parallel(n_jobs=-1)]: Done  12 tasks      | elapsed:  1.3min\n",
            "[Parallel(n_jobs=-1)]: Done  13 tasks      | elapsed:  1.3min\n",
            "[Parallel(n_jobs=-1)]: Done  14 tasks      | elapsed:  1.3min\n",
            "[Parallel(n_jobs=-1)]: Done  15 tasks      | elapsed:  1.3min\n",
            "[Parallel(n_jobs=-1)]: Done  16 tasks      | elapsed:  1.3min\n",
            "[Parallel(n_jobs=-1)]: Done  17 tasks      | elapsed:  1.9min\n",
            "[Parallel(n_jobs=-1)]: Done  18 tasks      | elapsed:  1.9min\n",
            "[Parallel(n_jobs=-1)]: Done  19 tasks      | elapsed:  2.0min\n",
            "[Parallel(n_jobs=-1)]: Done  20 tasks      | elapsed:  2.0min\n",
            "[Parallel(n_jobs=-1)]: Done  21 tasks      | elapsed:  2.0min\n",
            "[Parallel(n_jobs=-1)]: Done  22 tasks      | elapsed:  2.0min\n",
            "[Parallel(n_jobs=-1)]: Done  23 tasks      | elapsed:  2.0min\n",
            "[Parallel(n_jobs=-1)]: Done  24 tasks      | elapsed:  2.1min\n",
            "[Parallel(n_jobs=-1)]: Done  25 tasks      | elapsed:  2.6min\n",
            "[Parallel(n_jobs=-1)]: Done  26 tasks      | elapsed:  2.7min\n",
            "[Parallel(n_jobs=-1)]: Done  27 tasks      | elapsed:  2.7min\n",
            "[Parallel(n_jobs=-1)]: Done  28 tasks      | elapsed:  2.7min\n",
            "[Parallel(n_jobs=-1)]: Done  29 tasks      | elapsed:  2.7min\n",
            "[Parallel(n_jobs=-1)]: Done  30 tasks      | elapsed:  2.7min\n",
            "[Parallel(n_jobs=-1)]: Done  31 tasks      | elapsed:  2.7min\n",
            "[Parallel(n_jobs=-1)]: Done  32 tasks      | elapsed:  2.7min\n",
            "[Parallel(n_jobs=-1)]: Done  33 tasks      | elapsed:  3.3min\n",
            "[Parallel(n_jobs=-1)]: Done  34 tasks      | elapsed:  3.4min\n",
            "[Parallel(n_jobs=-1)]: Done  35 tasks      | elapsed:  3.4min\n",
            "[Parallel(n_jobs=-1)]: Done  36 tasks      | elapsed:  3.4min\n",
            "[Parallel(n_jobs=-1)]: Done  37 tasks      | elapsed:  3.4min\n",
            "[Parallel(n_jobs=-1)]: Done  38 tasks      | elapsed:  3.4min\n",
            "[Parallel(n_jobs=-1)]: Done  39 tasks      | elapsed:  3.4min\n",
            "[Parallel(n_jobs=-1)]: Done  40 tasks      | elapsed:  3.4min\n",
            "[Parallel(n_jobs=-1)]: Done  41 tasks      | elapsed:  4.0min\n",
            "[Parallel(n_jobs=-1)]: Done  42 tasks      | elapsed:  4.0min\n",
            "[Parallel(n_jobs=-1)]: Done  43 tasks      | elapsed:  4.0min\n",
            "[Parallel(n_jobs=-1)]: Done  44 tasks      | elapsed:  4.1min\n",
            "[Parallel(n_jobs=-1)]: Done  45 tasks      | elapsed:  4.1min\n",
            "[Parallel(n_jobs=-1)]: Done  46 tasks      | elapsed:  4.1min\n",
            "[Parallel(n_jobs=-1)]: Done  47 tasks      | elapsed:  4.1min\n",
            "[Parallel(n_jobs=-1)]: Done  48 tasks      | elapsed:  4.1min\n",
            "[Parallel(n_jobs=-1)]: Done  49 tasks      | elapsed:  4.7min\n",
            "[Parallel(n_jobs=-1)]: Done  50 tasks      | elapsed:  4.7min\n",
            "[Parallel(n_jobs=-1)]: Done  51 tasks      | elapsed:  4.7min\n",
            "[Parallel(n_jobs=-1)]: Done  52 tasks      | elapsed:  4.8min\n",
            "[Parallel(n_jobs=-1)]: Done  53 tasks      | elapsed:  4.8min\n",
            "[Parallel(n_jobs=-1)]: Done  54 tasks      | elapsed:  4.8min\n",
            "[Parallel(n_jobs=-1)]: Done  55 tasks      | elapsed:  4.8min\n",
            "[Parallel(n_jobs=-1)]: Done  56 tasks      | elapsed:  4.9min\n",
            "[Parallel(n_jobs=-1)]: Done  57 tasks      | elapsed:  5.4min\n",
            "[Parallel(n_jobs=-1)]: Done  58 tasks      | elapsed:  5.4min\n",
            "[Parallel(n_jobs=-1)]: Done  59 tasks      | elapsed:  5.4min\n",
            "[Parallel(n_jobs=-1)]: Done  60 tasks      | elapsed:  5.4min\n",
            "[Parallel(n_jobs=-1)]: Done  61 tasks      | elapsed:  5.4min\n",
            "[Parallel(n_jobs=-1)]: Done  62 tasks      | elapsed:  5.5min\n",
            "[Parallel(n_jobs=-1)]: Done  63 tasks      | elapsed:  5.5min\n",
            "[Parallel(n_jobs=-1)]: Done  64 tasks      | elapsed:  5.5min\n",
            "[Parallel(n_jobs=-1)]: Done  65 tasks      | elapsed:  6.1min\n",
            "[Parallel(n_jobs=-1)]: Done  66 tasks      | elapsed:  6.1min\n",
            "[Parallel(n_jobs=-1)]: Done  67 tasks      | elapsed:  6.1min\n",
            "[Parallel(n_jobs=-1)]: Done  68 tasks      | elapsed:  6.2min\n",
            "[Parallel(n_jobs=-1)]: Done  69 tasks      | elapsed:  6.2min\n",
            "[Parallel(n_jobs=-1)]: Done  70 tasks      | elapsed:  6.2min\n",
            "[Parallel(n_jobs=-1)]: Done  71 tasks      | elapsed:  6.2min\n",
            "[Parallel(n_jobs=-1)]: Done  72 tasks      | elapsed:  6.3min\n",
            "[Parallel(n_jobs=-1)]: Done  73 tasks      | elapsed:  6.7min\n",
            "[Parallel(n_jobs=-1)]: Done  74 tasks      | elapsed:  6.7min\n",
            "[Parallel(n_jobs=-1)]: Done  75 tasks      | elapsed:  6.8min\n",
            "[Parallel(n_jobs=-1)]: Done  76 tasks      | elapsed:  6.8min\n",
            "[Parallel(n_jobs=-1)]: Done  77 tasks      | elapsed:  6.8min\n",
            "[Parallel(n_jobs=-1)]: Done  78 tasks      | elapsed:  6.9min\n",
            "[Parallel(n_jobs=-1)]: Done  79 tasks      | elapsed:  6.9min\n",
            "[Parallel(n_jobs=-1)]: Done  80 tasks      | elapsed:  6.9min\n",
            "[Parallel(n_jobs=-1)]: Done  81 tasks      | elapsed:  7.3min\n",
            "[Parallel(n_jobs=-1)]: Done  82 tasks      | elapsed:  7.4min\n",
            "[Parallel(n_jobs=-1)]: Done  83 tasks      | elapsed:  7.4min\n",
            "[Parallel(n_jobs=-1)]: Done  84 tasks      | elapsed:  7.5min\n",
            "[Parallel(n_jobs=-1)]: Done  85 tasks      | elapsed:  7.5min\n",
            "[Parallel(n_jobs=-1)]: Done  86 tasks      | elapsed:  7.6min\n",
            "[Parallel(n_jobs=-1)]: Done  87 tasks      | elapsed:  7.6min\n",
            "[Parallel(n_jobs=-1)]: Done  88 tasks      | elapsed:  7.6min\n",
            "[Parallel(n_jobs=-1)]: Done  89 tasks      | elapsed:  8.0min\n",
            "[Parallel(n_jobs=-1)]: Done  90 tasks      | elapsed:  8.1min\n",
            "[Parallel(n_jobs=-1)]: Done  91 tasks      | elapsed:  8.1min\n",
            "[Parallel(n_jobs=-1)]: Done  92 tasks      | elapsed:  8.1min\n",
            "[Parallel(n_jobs=-1)]: Done  93 tasks      | elapsed:  8.2min\n",
            "[Parallel(n_jobs=-1)]: Done  94 tasks      | elapsed:  8.2min\n",
            "[Parallel(n_jobs=-1)]: Done  95 tasks      | elapsed:  8.3min\n",
            "[Parallel(n_jobs=-1)]: Done  96 tasks      | elapsed:  8.3min\n",
            "[Parallel(n_jobs=-1)]: Done  97 tasks      | elapsed:  8.7min\n",
            "[Parallel(n_jobs=-1)]: Done  98 tasks      | elapsed:  8.7min\n",
            "[Parallel(n_jobs=-1)]: Done  99 tasks      | elapsed:  8.7min\n",
            "[Parallel(n_jobs=-1)]: Done 100 tasks      | elapsed:  8.7min\n",
            "[Parallel(n_jobs=-1)]: Done 101 tasks      | elapsed:  8.8min\n",
            "[Parallel(n_jobs=-1)]: Done 102 tasks      | elapsed:  8.8min\n",
            "[Parallel(n_jobs=-1)]: Done 103 tasks      | elapsed:  8.8min\n",
            "[Parallel(n_jobs=-1)]: Done 104 tasks      | elapsed:  8.9min\n",
            "[Parallel(n_jobs=-1)]: Done 105 tasks      | elapsed:  9.3min\n",
            "[Parallel(n_jobs=-1)]: Done 106 tasks      | elapsed:  9.3min\n",
            "[Parallel(n_jobs=-1)]: Done 107 tasks      | elapsed:  9.4min\n",
            "[Parallel(n_jobs=-1)]: Done 108 tasks      | elapsed:  9.4min\n",
            "[Parallel(n_jobs=-1)]: Done 109 tasks      | elapsed:  9.5min\n",
            "[Parallel(n_jobs=-1)]: Done 110 tasks      | elapsed:  9.5min\n",
            "[Parallel(n_jobs=-1)]: Done 111 tasks      | elapsed:  9.6min\n",
            "[Parallel(n_jobs=-1)]: Done 112 tasks      | elapsed:  9.6min\n",
            "[Parallel(n_jobs=-1)]: Done 113 tasks      | elapsed: 10.0min\n",
            "[Parallel(n_jobs=-1)]: Done 114 tasks      | elapsed: 10.0min\n",
            "[Parallel(n_jobs=-1)]: Done 115 tasks      | elapsed: 10.1min\n",
            "[Parallel(n_jobs=-1)]: Done 116 tasks      | elapsed: 10.1min\n",
            "[Parallel(n_jobs=-1)]: Done 117 tasks      | elapsed: 10.1min\n",
            "[Parallel(n_jobs=-1)]: Done 118 tasks      | elapsed: 10.2min\n",
            "[Parallel(n_jobs=-1)]: Done 119 tasks      | elapsed: 10.2min\n",
            "[Parallel(n_jobs=-1)]: Done 120 tasks      | elapsed: 10.2min\n",
            "[Parallel(n_jobs=-1)]: Done 121 tasks      | elapsed: 10.6min\n",
            "[Parallel(n_jobs=-1)]: Done 122 tasks      | elapsed: 10.6min\n",
            "[Parallel(n_jobs=-1)]: Done 123 tasks      | elapsed: 10.7min\n",
            "[Parallel(n_jobs=-1)]: Done 124 tasks      | elapsed: 10.8min\n",
            "[Parallel(n_jobs=-1)]: Done 125 tasks      | elapsed: 10.9min\n",
            "[Parallel(n_jobs=-1)]: Done 126 tasks      | elapsed: 10.9min\n",
            "[Parallel(n_jobs=-1)]: Done 127 tasks      | elapsed: 10.9min\n",
            "[Parallel(n_jobs=-1)]: Done 128 tasks      | elapsed: 10.9min\n",
            "[Parallel(n_jobs=-1)]: Done 129 tasks      | elapsed: 11.3min\n",
            "[Parallel(n_jobs=-1)]: Done 130 tasks      | elapsed: 11.3min\n",
            "[Parallel(n_jobs=-1)]: Done 131 tasks      | elapsed: 11.5min\n",
            "[Parallel(n_jobs=-1)]: Done 132 tasks      | elapsed: 11.5min\n",
            "[Parallel(n_jobs=-1)]: Done 133 tasks      | elapsed: 11.5min\n",
            "[Parallel(n_jobs=-1)]: Done 134 tasks      | elapsed: 11.6min\n",
            "[Parallel(n_jobs=-1)]: Done 135 tasks      | elapsed: 11.6min\n",
            "[Parallel(n_jobs=-1)]: Done 136 tasks      | elapsed: 11.6min\n",
            "[Parallel(n_jobs=-1)]: Done 137 tasks      | elapsed: 12.0min\n",
            "[Parallel(n_jobs=-1)]: Done 138 tasks      | elapsed: 12.0min\n",
            "[Parallel(n_jobs=-1)]: Done 139 tasks      | elapsed: 12.2min\n",
            "[Parallel(n_jobs=-1)]: Done 140 tasks      | elapsed: 12.2min\n",
            "[Parallel(n_jobs=-1)]: Done 141 tasks      | elapsed: 12.3min\n",
            "[Parallel(n_jobs=-1)]: Done 142 tasks      | elapsed: 12.3min\n",
            "[Parallel(n_jobs=-1)]: Done 143 tasks      | elapsed: 12.3min\n",
            "[Parallel(n_jobs=-1)]: Done 144 tasks      | elapsed: 12.3min\n",
            "[Parallel(n_jobs=-1)]: Done 145 tasks      | elapsed: 12.7min\n",
            "[Parallel(n_jobs=-1)]: Done 146 tasks      | elapsed: 12.8min\n",
            "[Parallel(n_jobs=-1)]: Done 147 tasks      | elapsed: 12.8min\n",
            "[Parallel(n_jobs=-1)]: Done 148 tasks      | elapsed: 13.0min\n",
            "[Parallel(n_jobs=-1)]: Done 149 tasks      | elapsed: 13.0min\n",
            "[Parallel(n_jobs=-1)]: Done 150 tasks      | elapsed: 13.0min\n",
            "[Parallel(n_jobs=-1)]: Done 151 tasks      | elapsed: 13.0min\n",
            "[Parallel(n_jobs=-1)]: Done 152 tasks      | elapsed: 13.0min\n",
            "[Parallel(n_jobs=-1)]: Done 153 tasks      | elapsed: 13.4min\n",
            "[Parallel(n_jobs=-1)]: Done 154 tasks      | elapsed: 13.5min\n",
            "[Parallel(n_jobs=-1)]: Done 155 tasks      | elapsed: 13.5min\n",
            "[Parallel(n_jobs=-1)]: Done 156 tasks      | elapsed: 13.7min\n",
            "[Parallel(n_jobs=-1)]: Done 157 tasks      | elapsed: 13.7min\n",
            "[Parallel(n_jobs=-1)]: Done 158 tasks      | elapsed: 13.7min\n",
            "[Parallel(n_jobs=-1)]: Done 159 tasks      | elapsed: 13.7min\n"
          ]
        },
        {
          "ename": "PicklingError",
          "evalue": "Could not pickle the task to send it to the workers.",
          "output_type": "error",
          "traceback": [
            "\u001b[1;31m---------------------------------------------------------------------------\u001b[0m",
            "\u001b[1;31m_RemoteTraceback\u001b[0m                          Traceback (most recent call last)",
            "\u001b[1;31m_RemoteTraceback\u001b[0m: \n\"\"\"\nTraceback (most recent call last):\n  File \"c:\\Users\\jz421\\AppData\\Local\\anaconda3\\envs\\ieeg\\Lib\\site-packages\\joblib\\externals\\loky\\backend\\queues.py\", line 159, in _feed\n    obj_ = dumps(obj, reducers=reducers)\n           ^^^^^^^^^^^^^^^^^^^^^^^^^^^^^\n  File \"c:\\Users\\jz421\\AppData\\Local\\anaconda3\\envs\\ieeg\\Lib\\site-packages\\joblib\\externals\\loky\\backend\\reduction.py\", line 215, in dumps\n    dump(obj, buf, reducers=reducers, protocol=protocol)\n  File \"c:\\Users\\jz421\\AppData\\Local\\anaconda3\\envs\\ieeg\\Lib\\site-packages\\joblib\\externals\\loky\\backend\\reduction.py\", line 208, in dump\n    _LokyPickler(file, reducers=reducers, protocol=protocol).dump(obj)\n  File \"c:\\Users\\jz421\\AppData\\Local\\anaconda3\\envs\\ieeg\\Lib\\site-packages\\joblib\\externals\\cloudpickle\\cloudpickle_fast.py\", line 632, in dump\n    return Pickler.dump(self, obj)\n           ^^^^^^^^^^^^^^^^^^^^^^^\n  File \"c:\\Users\\jz421\\AppData\\Local\\anaconda3\\envs\\ieeg\\Lib\\site-packages\\joblib\\_memmapping_reducer.py\", line 446, in __call__\n    for dumped_filename in dump(a, filename):\n                           ^^^^^^^^^^^^^^^^^\n  File \"c:\\Users\\jz421\\AppData\\Local\\anaconda3\\envs\\ieeg\\Lib\\site-packages\\joblib\\numpy_pickle.py\", line 553, in dump\n    NumpyPickler(f, protocol=protocol).dump(value)\n  File \"c:\\Users\\jz421\\AppData\\Local\\anaconda3\\envs\\ieeg\\Lib\\pickle.py\", line 487, in dump\n    self.save(obj)\n  File \"c:\\Users\\jz421\\AppData\\Local\\anaconda3\\envs\\ieeg\\Lib\\site-packages\\joblib\\numpy_pickle.py\", line 352, in save\n    wrapper.write_array(obj, self)\n  File \"c:\\Users\\jz421\\AppData\\Local\\anaconda3\\envs\\ieeg\\Lib\\site-packages\\joblib\\numpy_pickle.py\", line 134, in write_array\n    pickler.file_handle.write(chunk.tobytes('C'))\nOSError: [Errno 28] No space left on device\n\"\"\"",
            "\nThe above exception was the direct cause of the following exception:\n",
            "\u001b[1;31mPicklingError\u001b[0m                             Traceback (most recent call last)",
            "Cell \u001b[1;32mIn[6], line 13\u001b[0m\n\u001b[0;32m      9\u001b[0m raw \u001b[39m=\u001b[39m raw_from_layout(layout, subject\u001b[39m=\u001b[39msubj, extension\u001b[39m=\u001b[39m\u001b[39m\"\u001b[39m\u001b[39m.edf\u001b[39m\u001b[39m\"\u001b[39m, desc\u001b[39m=\u001b[39m\u001b[39mNone\u001b[39;00m,\n\u001b[0;32m     10\u001b[0m                     preload\u001b[39m=\u001b[39m\u001b[39mTrue\u001b[39;00m)\n\u001b[0;32m     12\u001b[0m \u001b[39m## filter data\u001b[39;00m\n\u001b[1;32m---> 13\u001b[0m filt \u001b[39m=\u001b[39m line_filter(raw, mt_bandwidth\u001b[39m=\u001b[39;49m\u001b[39m10.\u001b[39;49m, n_jobs\u001b[39m=\u001b[39;49m\u001b[39m-\u001b[39;49m\u001b[39m1\u001b[39;49m, copy\u001b[39m=\u001b[39;49m\u001b[39mFalse\u001b[39;49;00m, verbose\u001b[39m=\u001b[39;49m\u001b[39m10\u001b[39;49m,\n\u001b[0;32m     14\u001b[0m             filter_length\u001b[39m=\u001b[39;49m\u001b[39m'\u001b[39;49m\u001b[39m700ms\u001b[39;49m\u001b[39m'\u001b[39;49m, freqs\u001b[39m=\u001b[39;49m[\u001b[39m60\u001b[39;49m], notch_widths\u001b[39m=\u001b[39;49m\u001b[39m20\u001b[39;49m)\n\u001b[0;32m     16\u001b[0m \u001b[39m# line_filter(raw, mt_bandwidth=10., n_jobs=-1, copy=False, verbose=10,\u001b[39;00m\n\u001b[0;32m     17\u001b[0m \u001b[39m#             filter_length='20s', freqs=[60, 120, 180, 240],\u001b[39;00m\n\u001b[0;32m     18\u001b[0m \u001b[39m#             notch_widths=20)\u001b[39;00m\n\u001b[0;32m     19\u001b[0m \n\u001b[0;32m     20\u001b[0m \u001b[39m# do channel outlier marker with max_rounds of 2\u001b[39;00m\n\u001b[0;32m     21\u001b[0m filt\u001b[39m.\u001b[39minfo[\u001b[39m'\u001b[39m\u001b[39mbads\u001b[39m\u001b[39m'\u001b[39m] \u001b[39m+\u001b[39m\u001b[39m=\u001b[39m channel_outlier_marker(filt, \u001b[39m3\u001b[39m, \u001b[39m2\u001b[39m, save\u001b[39m=\u001b[39m\u001b[39mTrue\u001b[39;00m)\n",
            "File \u001b[1;32m<decorator-gen-628>:10\u001b[0m, in \u001b[0;36mline_filter\u001b[1;34m(raw, fs, freqs, filter_length, notch_widths, mt_bandwidth, p_value, picks, n_jobs, adaptive, low_bias, copy, verbose)\u001b[0m\n",
            "File \u001b[1;32mc:\\Users\\jz421\\Desktop\\GlobalLocal\\ieeg\\mt_filter.py:143\u001b[0m, in \u001b[0;36mline_filter\u001b[1;34m(raw, fs, freqs, filter_length, notch_widths, mt_bandwidth, p_value, picks, n_jobs, adaptive, low_bias, copy, verbose)\u001b[0m\n\u001b[0;32m    137\u001b[0m filter_length: \u001b[39mint\u001b[39m \u001b[39m=\u001b[39m \u001b[39mmin\u001b[39m(mt_utils\u001b[39m.\u001b[39mto_samples(filter_length, fs),\n\u001b[0;32m    138\u001b[0m                          x\u001b[39m.\u001b[39mshape[\u001b[39m-\u001b[39m\u001b[39m1\u001b[39m])\n\u001b[0;32m    140\u001b[0m process \u001b[39m=\u001b[39m WindowingRemover(fs, freqs, notch_widths, filter_length,\n\u001b[0;32m    141\u001b[0m                            adaptive, low_bias, mt_bandwidth, p_value)\n\u001b[1;32m--> 143\u001b[0m filt\u001b[39m.\u001b[39m_data[data_idx] \u001b[39m=\u001b[39m mt_spectrum_proc(x, process, picks, n_jobs)\n\u001b[0;32m    145\u001b[0m \u001b[39mreturn\u001b[39;00m filt\n",
            "File \u001b[1;32mc:\\Users\\jz421\\Desktop\\GlobalLocal\\ieeg\\mt_filter.py:154\u001b[0m, in \u001b[0;36mmt_spectrum_proc\u001b[1;34m(x, process, picks, n_jobs)\u001b[0m\n\u001b[0;32m    151\u001b[0m \u001b[39m# set up array for filtering, reshape to 2D, operate on last axis\u001b[39;00m\n\u001b[0;32m    152\u001b[0m x, orig_shape, picks \u001b[39m=\u001b[39m _prep_for_filtering(x, picks)\n\u001b[1;32m--> 154\u001b[0m proc_array(process, x, n_jobs\u001b[39m=\u001b[39;49mn_jobs, desc\u001b[39m=\u001b[39;49m\u001b[39m\"\u001b[39;49m\u001b[39mChannels\u001b[39;49m\u001b[39m\"\u001b[39;49m)\n\u001b[0;32m    156\u001b[0m x\u001b[39m.\u001b[39mshape \u001b[39m=\u001b[39m orig_shape\n\u001b[0;32m    157\u001b[0m \u001b[39mreturn\u001b[39;00m x\n",
            "File \u001b[1;32mc:\\Users\\jz421\\Desktop\\GlobalLocal\\ieeg\\process.py:154\u001b[0m, in \u001b[0;36mproc_array\u001b[1;34m(func, arr_in, axes, n_jobs, desc, inplace)\u001b[0m\n\u001b[0;32m    150\u001b[0m gen \u001b[39m=\u001b[39m Parallel(n_jobs, return_generator\u001b[39m=\u001b[39m\u001b[39mTrue\u001b[39;00m, verbose\u001b[39m=\u001b[39m\u001b[39m40\u001b[39m)(\n\u001b[0;32m    151\u001b[0m     delayed(func)(x_) \u001b[39mfor\u001b[39;00m x_ \u001b[39min\u001b[39;00m array_gen)\n\u001b[0;32m    153\u001b[0m \u001b[39m# Create process pool and apply the function in parallel\u001b[39;00m\n\u001b[1;32m--> 154\u001b[0m \u001b[39mfor\u001b[39;00m out, ind \u001b[39min\u001b[39;00m \u001b[39mzip\u001b[39m(gen, cross_sect_ind):\n\u001b[0;32m    155\u001b[0m     arr_out[ind] \u001b[39m=\u001b[39m out\n\u001b[0;32m    157\u001b[0m \u001b[39mreturn\u001b[39;00m arr_out\n",
            "File \u001b[1;32mc:\\Users\\jz421\\AppData\\Local\\anaconda3\\envs\\ieeg\\Lib\\site-packages\\joblib\\parallel.py:1568\u001b[0m, in \u001b[0;36mParallel._get_outputs\u001b[1;34m(self, iterator, pre_dispatch)\u001b[0m\n\u001b[0;32m   1565\u001b[0m     \u001b[39myield\u001b[39;00m\n\u001b[0;32m   1567\u001b[0m     \u001b[39mwith\u001b[39;00m \u001b[39mself\u001b[39m\u001b[39m.\u001b[39m_backend\u001b[39m.\u001b[39mretrieval_context():\n\u001b[1;32m-> 1568\u001b[0m         \u001b[39myield from\u001b[39;00m \u001b[39mself\u001b[39m\u001b[39m.\u001b[39m_retrieve()\n\u001b[0;32m   1570\u001b[0m \u001b[39mexcept\u001b[39;00m \u001b[39mGeneratorExit\u001b[39;00m:\n\u001b[0;32m   1571\u001b[0m     \u001b[39m# The generator has been garbage collected before being fully\u001b[39;00m\n\u001b[0;32m   1572\u001b[0m     \u001b[39m# consumed. This aborts the remaining tasks if possible and warn\u001b[39;00m\n\u001b[0;32m   1573\u001b[0m     \u001b[39m# the user if necessary.\u001b[39;00m\n\u001b[0;32m   1574\u001b[0m     \u001b[39mself\u001b[39m\u001b[39m.\u001b[39m_exception \u001b[39m=\u001b[39m \u001b[39mTrue\u001b[39;00m\n",
            "File \u001b[1;32mc:\\Users\\jz421\\AppData\\Local\\anaconda3\\envs\\ieeg\\Lib\\site-packages\\joblib\\parallel.py:1672\u001b[0m, in \u001b[0;36mParallel._retrieve\u001b[1;34m(self)\u001b[0m\n\u001b[0;32m   1665\u001b[0m \u001b[39mwhile\u001b[39;00m \u001b[39mself\u001b[39m\u001b[39m.\u001b[39m_wait_retrieval():\n\u001b[0;32m   1666\u001b[0m \n\u001b[0;32m   1667\u001b[0m     \u001b[39m# If the callback thread of a worker has signaled that its task\u001b[39;00m\n\u001b[0;32m   1668\u001b[0m     \u001b[39m# triggerd an exception, or if the retrieval loop has raised an\u001b[39;00m\n\u001b[0;32m   1669\u001b[0m     \u001b[39m# exception (e.g. `GeneratorExit`), exit the loop and surface the\u001b[39;00m\n\u001b[0;32m   1670\u001b[0m     \u001b[39m# worker traceback.\u001b[39;00m\n\u001b[0;32m   1671\u001b[0m     \u001b[39mif\u001b[39;00m \u001b[39mself\u001b[39m\u001b[39m.\u001b[39m_aborting:\n\u001b[1;32m-> 1672\u001b[0m         \u001b[39mself\u001b[39;49m\u001b[39m.\u001b[39;49m_raise_error_fast()\n\u001b[0;32m   1673\u001b[0m         \u001b[39mbreak\u001b[39;00m\n\u001b[0;32m   1675\u001b[0m     \u001b[39m# If the next job is not ready for retrieval yet, we just wait for\u001b[39;00m\n\u001b[0;32m   1676\u001b[0m     \u001b[39m# async callbacks to progress.\u001b[39;00m\n",
            "File \u001b[1;32mc:\\Users\\jz421\\AppData\\Local\\anaconda3\\envs\\ieeg\\Lib\\site-packages\\joblib\\parallel.py:1707\u001b[0m, in \u001b[0;36mParallel._raise_error_fast\u001b[1;34m(self)\u001b[0m\n\u001b[0;32m   1703\u001b[0m \u001b[39m# If this error job exists, immediatly raise the error by\u001b[39;00m\n\u001b[0;32m   1704\u001b[0m \u001b[39m# calling get_result. This job might not exists if abort has been\u001b[39;00m\n\u001b[0;32m   1705\u001b[0m \u001b[39m# called directly or if the generator is gc'ed.\u001b[39;00m\n\u001b[0;32m   1706\u001b[0m \u001b[39mif\u001b[39;00m error_job \u001b[39mis\u001b[39;00m \u001b[39mnot\u001b[39;00m \u001b[39mNone\u001b[39;00m:\n\u001b[1;32m-> 1707\u001b[0m     error_job\u001b[39m.\u001b[39;49mget_result(\u001b[39mself\u001b[39;49m\u001b[39m.\u001b[39;49mtimeout)\n",
            "File \u001b[1;32mc:\\Users\\jz421\\AppData\\Local\\anaconda3\\envs\\ieeg\\Lib\\site-packages\\joblib\\parallel.py:727\u001b[0m, in \u001b[0;36mBatchCompletionCallBack.get_result\u001b[1;34m(self, timeout)\u001b[0m\n\u001b[0;32m    721\u001b[0m backend \u001b[39m=\u001b[39m \u001b[39mself\u001b[39m\u001b[39m.\u001b[39mparallel\u001b[39m.\u001b[39m_backend\n\u001b[0;32m    723\u001b[0m \u001b[39mif\u001b[39;00m backend\u001b[39m.\u001b[39msupports_retrieve_callback:\n\u001b[0;32m    724\u001b[0m     \u001b[39m# We assume that the result has already been retrieved by the\u001b[39;00m\n\u001b[0;32m    725\u001b[0m     \u001b[39m# callback thread, and is stored internally. It's just waiting to\u001b[39;00m\n\u001b[0;32m    726\u001b[0m     \u001b[39m# be returned.\u001b[39;00m\n\u001b[1;32m--> 727\u001b[0m     \u001b[39mreturn\u001b[39;00m \u001b[39mself\u001b[39;49m\u001b[39m.\u001b[39;49m_return_or_raise()\n\u001b[0;32m    729\u001b[0m \u001b[39m# For other backends, the main thread needs to run the retrieval step.\u001b[39;00m\n\u001b[0;32m    730\u001b[0m \u001b[39mtry\u001b[39;00m:\n",
            "File \u001b[1;32mc:\\Users\\jz421\\AppData\\Local\\anaconda3\\envs\\ieeg\\Lib\\site-packages\\joblib\\parallel.py:745\u001b[0m, in \u001b[0;36mBatchCompletionCallBack._return_or_raise\u001b[1;34m(self)\u001b[0m\n\u001b[0;32m    743\u001b[0m \u001b[39mtry\u001b[39;00m:\n\u001b[0;32m    744\u001b[0m     \u001b[39mif\u001b[39;00m \u001b[39mself\u001b[39m\u001b[39m.\u001b[39mstatus \u001b[39m==\u001b[39m TASK_ERROR:\n\u001b[1;32m--> 745\u001b[0m         \u001b[39mraise\u001b[39;00m \u001b[39mself\u001b[39m\u001b[39m.\u001b[39m_result\n\u001b[0;32m    746\u001b[0m     \u001b[39mreturn\u001b[39;00m \u001b[39mself\u001b[39m\u001b[39m.\u001b[39m_result\n\u001b[0;32m    747\u001b[0m \u001b[39mfinally\u001b[39;00m:\n",
            "\u001b[1;31mPicklingError\u001b[0m: Could not pickle the task to send it to the workers."
          ]
        }
      ],
      "source": [
        "# get box directory depending on OS\n",
        "if os.name == 'nt': # windows\n",
        "    LAB_root = os.path.join(HOME, \"Box\", \"CoganLab\")\n",
        "else: # mac\n",
        "    LAB_root = os.path.join(HOME, \"Library\", \"CloudStorage\", \"Box-Box\", \"CoganLab\")\n",
        "\n",
        "layout = get_data(\"GlobalLocal\", LAB_root)\n",
        "subj = \"D0057\"\n",
        "raw = raw_from_layout(layout, subject=subj, extension=\".edf\", desc=None,\n",
        "                    preload=True)\n",
        "\n",
        "## filter data\n",
        "filt = line_filter(raw, mt_bandwidth=10., n_jobs=-1, copy=False, verbose=10,\n",
        "            filter_length='700ms', freqs=[60], notch_widths=20)\n",
        "\n",
        "# line_filter(raw, mt_bandwidth=10., n_jobs=-1, copy=False, verbose=10,\n",
        "#             filter_length='20s', freqs=[60, 120, 180, 240],\n",
        "#             notch_widths=20)\n",
        "\n",
        "# do channel outlier marker with max_rounds of 2\n",
        "filt.info['bads'] += channel_outlier_marker(filt, 3, 2, save=True)\n",
        "\n",
        "# filt.drop_channels(filt.info['bads'])\n",
        "\n",
        "# update(filt, layout, \"bad\")\n",
        "\n",
        "\n",
        "# and then feed into preprocess.py and then feed into wavelet/HG/stats\n",
        "\n",
        "# update in check_chans saves the bad channels\n",
        "save_derivative(filt, layout, \"clean\", overwrite=True)\n",
        "\n",
        "print(\"Data saved successfully.\")"
      ]
    },
    {
      "attachments": {},
      "cell_type": "markdown",
      "metadata": {},
      "source": [
        "save_derivative(filt, layout, \"clean\")\n",
        "\n"
      ]
    },
    {
      "cell_type": "markdown",
      "metadata": {},
      "source": [
        "# trying to make pre-experiment baseline"
      ]
    },
    {
      "cell_type": "code",
      "execution_count": 7,
      "metadata": {},
      "outputs": [],
      "source": [
        "# add experiment start event to the events.tsv file\n",
        "\n",
        "HOME = os.path.expanduser(\"~\")\n",
        "\n",
        "# get box directory depending on OS\n",
        "if os.name == 'nt': # windows\n",
        "    LAB_root = os.path.join(HOME, \"Box\", \"CoganLab\")\n",
        "else: # mac\n",
        "    LAB_root = os.path.join(HOME, \"Library\", \"CloudStorage\", \"Box-Box\", \"CoganLab\")\n",
        "\n",
        "layout = get_data(\"GlobalLocal\", root=LAB_root)\n",
        "\n",
        "# Step 1: Read the existing file\n",
        "sub = 'D0057'  # Replace this with the actual subject ID\n",
        "\n",
        "events_path = os.path.join(layout.root, 'derivatives', 'clean', f'sub-{sub}', 'ieeg', \n",
        "                           f'sub-{sub}_task-GlobalLocal_acq-01_run-01_desc-clean_events.tsv')\n",
        "\n",
        "df = pd.read_csv(events_path, sep='\\t')\n",
        "\n",
        "# Step 2: Create a new DataFrame for the custom event\n",
        "new_row = pd.DataFrame({\n",
        "    'onset': [0],\n",
        "    'duration': [0],\n",
        "    'trial_type': ['experimentStart'],\n",
        "    'value': [None],\n",
        "    'sample': [None]\n",
        "})\n",
        "\n",
        "# Concatenate the new row with the existing DataFrame\n",
        "df = pd.concat([new_row, df]).reset_index(drop=True)\n",
        "\n",
        "# Step 3: Write the updated DataFrame back to the events.tsv file\n",
        "df.to_csv(events_path, sep='\\t', index=False)\n"
      ]
    },
    {
      "cell_type": "code",
      "execution_count": 7,
      "metadata": {},
      "outputs": [
        {
          "name": "stdout",
          "output_type": "stream",
          "text": [
            "Extracting EDF parameters from C:\\Users\\jz421\\Box\\CoganLab\\BIDS-1.1_GlobalLocal\\BIDS\\sub-D0057\\ieeg\\sub-D0057_task-GlobalLocal_acq-01_run-01_ieeg.edf...\n",
            "EDF file detected\n",
            "Setting channel info structure...\n",
            "Creating raw.info structure...\n",
            "Reading events from C:\\Users\\jz421\\Box\\CoganLab\\BIDS-1.1_GlobalLocal\\BIDS\\sub-D0057\\ieeg\\sub-D0057_task-GlobalLocal_acq-01_run-01_events.tsv.\n",
            "Reading channel info from C:\\Users\\jz421\\Box\\CoganLab\\BIDS-1.1_GlobalLocal\\BIDS\\sub-D0057\\ieeg\\sub-D0057_task-GlobalLocal_channels.tsv.\n",
            "Reading electrode coords from C:\\Users\\jz421\\Box\\CoganLab\\BIDS-1.1_GlobalLocal\\BIDS\\sub-D0057\\ieeg\\sub-D0057_space-ACPC_electrodes.tsv.\n",
            "Extracting EDF parameters from C:\\Users\\jz421\\Box\\CoganLab\\BIDS-1.1_GlobalLocal\\BIDS\\sub-D0057\\ieeg\\sub-D0057_task-GlobalLocal_acq-01_run-02_ieeg.edf...\n",
            "EDF file detected\n",
            "Setting channel info structure...\n",
            "Creating raw.info structure...\n"
          ]
        },
        {
          "name": "stderr",
          "output_type": "stream",
          "text": [
            "C:\\Users/jz421/Desktop/GlobalLocal/IEEG_Pipelines\\ieeg\\io.py:113: RuntimeWarning: The unit for channel(s) Trigger has changed from NA to V.\n",
            "  new_raw = read_raw_bids(bids_path=BIDS_path, verbose=verbose)\n",
            "C:\\Users/jz421/Desktop/GlobalLocal/IEEG_Pipelines\\ieeg\\io.py:113: RuntimeWarning: participants.tsv file not found for C:\\Users\\jz421\\Box\\CoganLab\\BIDS-1.1_GlobalLocal\\BIDS\\sub-D0057\\ieeg\\sub-D0057_task-GlobalLocal_acq-01_run-01_ieeg.edf\n",
            "  new_raw = read_raw_bids(bids_path=BIDS_path, verbose=verbose)\n"
          ]
        },
        {
          "name": "stdout",
          "output_type": "stream",
          "text": [
            "Reading events from C:\\Users\\jz421\\Box\\CoganLab\\BIDS-1.1_GlobalLocal\\BIDS\\sub-D0057\\ieeg\\sub-D0057_task-GlobalLocal_acq-01_run-02_events.tsv.\n",
            "Reading channel info from C:\\Users\\jz421\\Box\\CoganLab\\BIDS-1.1_GlobalLocal\\BIDS\\sub-D0057\\ieeg\\sub-D0057_task-GlobalLocal_channels.tsv.\n",
            "Reading electrode coords from C:\\Users\\jz421\\Box\\CoganLab\\BIDS-1.1_GlobalLocal\\BIDS\\sub-D0057\\ieeg\\sub-D0057_space-ACPC_electrodes.tsv.\n",
            "Extracting EDF parameters from C:\\Users\\jz421\\Box\\CoganLab\\BIDS-1.1_GlobalLocal\\BIDS\\sub-D0057\\ieeg\\sub-D0057_task-GlobalLocal_acq-01_run-03_ieeg.edf...\n",
            "EDF file detected\n",
            "Setting channel info structure...\n",
            "Creating raw.info structure...\n"
          ]
        },
        {
          "name": "stderr",
          "output_type": "stream",
          "text": [
            "C:\\Users/jz421/Desktop/GlobalLocal/IEEG_Pipelines\\ieeg\\io.py:113: RuntimeWarning: The unit for channel(s) Trigger has changed from NA to V.\n",
            "  new_raw = read_raw_bids(bids_path=BIDS_path, verbose=verbose)\n",
            "C:\\Users/jz421/Desktop/GlobalLocal/IEEG_Pipelines\\ieeg\\io.py:113: RuntimeWarning: participants.tsv file not found for C:\\Users\\jz421\\Box\\CoganLab\\BIDS-1.1_GlobalLocal\\BIDS\\sub-D0057\\ieeg\\sub-D0057_task-GlobalLocal_acq-01_run-02_ieeg.edf\n",
            "  new_raw = read_raw_bids(bids_path=BIDS_path, verbose=verbose)\n"
          ]
        },
        {
          "name": "stdout",
          "output_type": "stream",
          "text": [
            "Reading events from C:\\Users\\jz421\\Box\\CoganLab\\BIDS-1.1_GlobalLocal\\BIDS\\sub-D0057\\ieeg\\sub-D0057_task-GlobalLocal_acq-01_run-03_events.tsv.\n",
            "Reading channel info from C:\\Users\\jz421\\Box\\CoganLab\\BIDS-1.1_GlobalLocal\\BIDS\\sub-D0057\\ieeg\\sub-D0057_task-GlobalLocal_channels.tsv.\n",
            "Reading electrode coords from C:\\Users\\jz421\\Box\\CoganLab\\BIDS-1.1_GlobalLocal\\BIDS\\sub-D0057\\ieeg\\sub-D0057_space-ACPC_electrodes.tsv.\n",
            "Extracting EDF parameters from C:\\Users\\jz421\\Box\\CoganLab\\BIDS-1.1_GlobalLocal\\BIDS\\sub-D0057\\ieeg\\sub-D0057_task-GlobalLocal_acq-01_run-04_ieeg.edf...\n",
            "EDF file detected\n",
            "Setting channel info structure...\n",
            "Creating raw.info structure...\n"
          ]
        },
        {
          "name": "stderr",
          "output_type": "stream",
          "text": [
            "C:\\Users/jz421/Desktop/GlobalLocal/IEEG_Pipelines\\ieeg\\io.py:113: RuntimeWarning: The unit for channel(s) Trigger has changed from NA to V.\n",
            "  new_raw = read_raw_bids(bids_path=BIDS_path, verbose=verbose)\n",
            "C:\\Users/jz421/Desktop/GlobalLocal/IEEG_Pipelines\\ieeg\\io.py:113: RuntimeWarning: participants.tsv file not found for C:\\Users\\jz421\\Box\\CoganLab\\BIDS-1.1_GlobalLocal\\BIDS\\sub-D0057\\ieeg\\sub-D0057_task-GlobalLocal_acq-01_run-03_ieeg.edf\n",
            "  new_raw = read_raw_bids(bids_path=BIDS_path, verbose=verbose)\n"
          ]
        },
        {
          "name": "stdout",
          "output_type": "stream",
          "text": [
            "Reading events from C:\\Users\\jz421\\Box\\CoganLab\\BIDS-1.1_GlobalLocal\\BIDS\\sub-D0057\\ieeg\\sub-D0057_task-GlobalLocal_acq-01_run-04_events.tsv.\n",
            "Reading channel info from C:\\Users\\jz421\\Box\\CoganLab\\BIDS-1.1_GlobalLocal\\BIDS\\sub-D0057\\ieeg\\sub-D0057_task-GlobalLocal_channels.tsv.\n",
            "Reading electrode coords from C:\\Users\\jz421\\Box\\CoganLab\\BIDS-1.1_GlobalLocal\\BIDS\\sub-D0057\\ieeg\\sub-D0057_space-ACPC_electrodes.tsv.\n",
            "Reading 0 ... 8237055  =      0.000 ...  4022.000 secs...\n"
          ]
        },
        {
          "name": "stderr",
          "output_type": "stream",
          "text": [
            "C:\\Users/jz421/Desktop/GlobalLocal/IEEG_Pipelines\\ieeg\\io.py:113: RuntimeWarning: The unit for channel(s) Trigger has changed from NA to V.\n",
            "  new_raw = read_raw_bids(bids_path=BIDS_path, verbose=verbose)\n",
            "C:\\Users/jz421/Desktop/GlobalLocal/IEEG_Pipelines\\ieeg\\io.py:113: RuntimeWarning: participants.tsv file not found for C:\\Users\\jz421\\Box\\CoganLab\\BIDS-1.1_GlobalLocal\\BIDS\\sub-D0057\\ieeg\\sub-D0057_task-GlobalLocal_acq-01_run-04_ieeg.edf\n",
            "  new_raw = read_raw_bids(bids_path=BIDS_path, verbose=verbose)\n"
          ]
        },
        {
          "name": "stdout",
          "output_type": "stream",
          "text": [
            "Extracting EDF parameters from C:\\Users\\jz421\\Box\\CoganLab\\BIDS-1.1_GlobalLocal\\BIDS\\derivatives\\clean\\sub-D0057\\ieeg\\sub-D0057_task-GlobalLocal_acq-01_run-01_desc-clean_ieeg.edf...\n",
            "EDF file detected\n",
            "Setting channel info structure...\n",
            "Creating raw.info structure...\n",
            "Reading events from C:\\Users\\jz421\\Box\\CoganLab\\BIDS-1.1_GlobalLocal\\BIDS\\derivatives\\clean\\sub-D0057\\ieeg\\sub-D0057_task-GlobalLocal_acq-01_run-01_desc-clean_events.tsv.\n",
            "Reading channel info from C:\\Users\\jz421\\Box\\CoganLab\\BIDS-1.1_GlobalLocal\\BIDS\\derivatives\\clean\\sub-D0057\\ieeg\\sub-D0057_task-GlobalLocal_acq-01_run-01_desc-clean_channels.tsv.\n",
            "Reading electrode coords from C:\\Users\\jz421\\Box\\CoganLab\\BIDS-1.1_GlobalLocal\\BIDS\\derivatives\\clean\\sub-D0057\\ieeg\\sub-D0057_acq-01_space-ACPC_electrodes.tsv.\n",
            "Extracting EDF parameters from C:\\Users\\jz421\\Box\\CoganLab\\BIDS-1.1_GlobalLocal\\BIDS\\derivatives\\clean\\sub-D0057\\ieeg\\sub-D0057_task-GlobalLocal_acq-01_run-02_desc-clean_ieeg.edf...\n",
            "EDF file detected\n",
            "Setting channel info structure...\n",
            "Creating raw.info structure...\n"
          ]
        },
        {
          "name": "stderr",
          "output_type": "stream",
          "text": [
            "C:\\Users/jz421/Desktop/GlobalLocal/IEEG_Pipelines\\ieeg\\io.py:113: RuntimeWarning: The number of channels in the channels.tsv sidecar file (179) does not match the number of channels in the raw data file (178). Will not try to set channel names.\n",
            "  new_raw = read_raw_bids(bids_path=BIDS_path, verbose=verbose)\n",
            "C:\\Users/jz421/Desktop/GlobalLocal/IEEG_Pipelines\\ieeg\\io.py:113: RuntimeWarning: Cannot set channel type for the following channels, as they are missing in the raw data: Trigger\n",
            "  new_raw = read_raw_bids(bids_path=BIDS_path, verbose=verbose)\n"
          ]
        },
        {
          "name": "stdout",
          "output_type": "stream",
          "text": [
            "Reading events from C:\\Users\\jz421\\Box\\CoganLab\\BIDS-1.1_GlobalLocal\\BIDS\\derivatives\\clean\\sub-D0057\\ieeg\\sub-D0057_task-GlobalLocal_acq-01_run-02_desc-clean_events.tsv.\n",
            "Reading channel info from C:\\Users\\jz421\\Box\\CoganLab\\BIDS-1.1_GlobalLocal\\BIDS\\derivatives\\clean\\sub-D0057\\ieeg\\sub-D0057_task-GlobalLocal_acq-01_run-02_desc-clean_channels.tsv.\n",
            "Reading electrode coords from C:\\Users\\jz421\\Box\\CoganLab\\BIDS-1.1_GlobalLocal\\BIDS\\derivatives\\clean\\sub-D0057\\ieeg\\sub-D0057_acq-01_space-ACPC_electrodes.tsv.\n",
            "Extracting EDF parameters from C:\\Users\\jz421\\Box\\CoganLab\\BIDS-1.1_GlobalLocal\\BIDS\\derivatives\\clean\\sub-D0057\\ieeg\\sub-D0057_task-GlobalLocal_acq-01_run-03_desc-clean_ieeg.edf...\n",
            "EDF file detected\n",
            "Setting channel info structure...\n",
            "Creating raw.info structure...\n"
          ]
        },
        {
          "name": "stderr",
          "output_type": "stream",
          "text": [
            "C:\\Users/jz421/Desktop/GlobalLocal/IEEG_Pipelines\\ieeg\\io.py:113: RuntimeWarning: Omitted 228 annotation(s) that were outside data range.\n",
            "  new_raw = read_raw_bids(bids_path=BIDS_path, verbose=verbose)\n",
            "C:\\Users/jz421/Desktop/GlobalLocal/IEEG_Pipelines\\ieeg\\io.py:113: RuntimeWarning: The number of channels in the channels.tsv sidecar file (179) does not match the number of channels in the raw data file (178). Will not try to set channel names.\n",
            "  new_raw = read_raw_bids(bids_path=BIDS_path, verbose=verbose)\n",
            "C:\\Users/jz421/Desktop/GlobalLocal/IEEG_Pipelines\\ieeg\\io.py:113: RuntimeWarning: Cannot set channel type for the following channels, as they are missing in the raw data: Trigger\n",
            "  new_raw = read_raw_bids(bids_path=BIDS_path, verbose=verbose)\n"
          ]
        },
        {
          "name": "stdout",
          "output_type": "stream",
          "text": [
            "Reading events from C:\\Users\\jz421\\Box\\CoganLab\\BIDS-1.1_GlobalLocal\\BIDS\\derivatives\\clean\\sub-D0057\\ieeg\\sub-D0057_task-GlobalLocal_acq-01_run-03_desc-clean_events.tsv.\n",
            "Reading channel info from C:\\Users\\jz421\\Box\\CoganLab\\BIDS-1.1_GlobalLocal\\BIDS\\derivatives\\clean\\sub-D0057\\ieeg\\sub-D0057_task-GlobalLocal_acq-01_run-03_desc-clean_channels.tsv.\n",
            "Reading electrode coords from C:\\Users\\jz421\\Box\\CoganLab\\BIDS-1.1_GlobalLocal\\BIDS\\derivatives\\clean\\sub-D0057\\ieeg\\sub-D0057_acq-01_space-ACPC_electrodes.tsv.\n",
            "Extracting EDF parameters from C:\\Users\\jz421\\Box\\CoganLab\\BIDS-1.1_GlobalLocal\\BIDS\\derivatives\\clean\\sub-D0057\\ieeg\\sub-D0057_task-GlobalLocal_acq-01_run-04_desc-clean_ieeg.edf...\n",
            "EDF file detected\n",
            "Setting channel info structure...\n",
            "Creating raw.info structure...\n"
          ]
        },
        {
          "name": "stderr",
          "output_type": "stream",
          "text": [
            "C:\\Users/jz421/Desktop/GlobalLocal/IEEG_Pipelines\\ieeg\\io.py:113: RuntimeWarning: Omitted 228 annotation(s) that were outside data range.\n",
            "  new_raw = read_raw_bids(bids_path=BIDS_path, verbose=verbose)\n",
            "C:\\Users/jz421/Desktop/GlobalLocal/IEEG_Pipelines\\ieeg\\io.py:113: RuntimeWarning: The number of channels in the channels.tsv sidecar file (179) does not match the number of channels in the raw data file (178). Will not try to set channel names.\n",
            "  new_raw = read_raw_bids(bids_path=BIDS_path, verbose=verbose)\n",
            "C:\\Users/jz421/Desktop/GlobalLocal/IEEG_Pipelines\\ieeg\\io.py:113: RuntimeWarning: Cannot set channel type for the following channels, as they are missing in the raw data: Trigger\n",
            "  new_raw = read_raw_bids(bids_path=BIDS_path, verbose=verbose)\n"
          ]
        },
        {
          "name": "stdout",
          "output_type": "stream",
          "text": [
            "Reading events from C:\\Users\\jz421\\Box\\CoganLab\\BIDS-1.1_GlobalLocal\\BIDS\\derivatives\\clean\\sub-D0057\\ieeg\\sub-D0057_task-GlobalLocal_acq-01_run-04_desc-clean_events.tsv.\n",
            "Reading channel info from C:\\Users\\jz421\\Box\\CoganLab\\BIDS-1.1_GlobalLocal\\BIDS\\derivatives\\clean\\sub-D0057\\ieeg\\sub-D0057_task-GlobalLocal_acq-01_run-04_desc-clean_channels.tsv.\n",
            "Reading electrode coords from C:\\Users\\jz421\\Box\\CoganLab\\BIDS-1.1_GlobalLocal\\BIDS\\derivatives\\clean\\sub-D0057\\ieeg\\sub-D0057_acq-01_space-ACPC_electrodes.tsv.\n",
            "<RawEDF | sub-D0057_task-GlobalLocal_acq-01_run-01_desc-clean_ieeg.edf, 178 x 8243200 (4025.0 s), ~201 kB, data not loaded>\n"
          ]
        },
        {
          "name": "stderr",
          "output_type": "stream",
          "text": [
            "C:\\Users/jz421/Desktop/GlobalLocal/IEEG_Pipelines\\ieeg\\io.py:113: RuntimeWarning: Omitted 226 annotation(s) that were outside data range.\n",
            "  new_raw = read_raw_bids(bids_path=BIDS_path, verbose=verbose)\n",
            "C:\\Users/jz421/Desktop/GlobalLocal/IEEG_Pipelines\\ieeg\\io.py:113: RuntimeWarning: The number of channels in the channels.tsv sidecar file (179) does not match the number of channels in the raw data file (178). Will not try to set channel names.\n",
            "  new_raw = read_raw_bids(bids_path=BIDS_path, verbose=verbose)\n",
            "C:\\Users/jz421/Desktop/GlobalLocal/IEEG_Pipelines\\ieeg\\io.py:113: RuntimeWarning: Cannot set channel type for the following channels, as they are missing in the raw data: Trigger\n",
            "  new_raw = read_raw_bids(bids_path=BIDS_path, verbose=verbose)\n"
          ]
        }
      ],
      "source": [
        "HOME = os.path.expanduser(\"~\")\n",
        "\n",
        "# get box directory depending on OS\n",
        "if os.name == 'nt': # windows\n",
        "    LAB_root = os.path.join(HOME, \"Box\", \"CoganLab\")\n",
        "else: # mac\n",
        "    LAB_root = os.path.join(HOME, \"Library\", \"CloudStorage\", \"Box-Box\", \"CoganLab\")\n",
        "\n",
        "layout = get_data(\"GlobalLocal\", root=LAB_root)\n",
        "\n",
        "\n",
        "## Load Data\n",
        "layout = get_data(\"GlobalLocal\", LAB_root)\n",
        "\n",
        "raw = raw_from_layout(layout, subject='D0057', extension=\".edf\", desc=None,\n",
        "                      preload=True)\n",
        "\n",
        "# Load the filtered data\n",
        "filt = raw_from_layout(layout.derivatives['derivatives/clean'], subject='D0057',\n",
        "                        extension='.edf', desc='clean', preload=False) #get line-noise filtered data\n",
        "print(filt)"
      ]
    },
    {
      "cell_type": "code",
      "execution_count": 10,
      "metadata": {},
      "outputs": [
        {
          "name": "stdout",
          "output_type": "stream",
          "text": [
            "OrderedDict([('onset', 1359.695801), ('duration', 0.0005), ('description', 'Stimulus/i25/n75'), ('orig_time', datetime.datetime(2023, 7, 3, 12, 31, 29, tzinfo=datetime.timezone.utc))])\n"
          ]
        }
      ],
      "source": [
        "print(filt.annotations[0])  # this will show you all annotations and their onset times"
      ]
    },
    {
      "cell_type": "code",
      "execution_count": 11,
      "metadata": {},
      "outputs": [
        {
          "data": {
            "text/plain": [
              "<mne_qt_browser._pg_figure.MNEQtBrowser at 0x1eca52025f0>"
            ]
          },
          "execution_count": 11,
          "metadata": {},
          "output_type": "execute_result"
        }
      ],
      "source": [
        "filt.plot()"
      ]
    },
    {
      "cell_type": "code",
      "execution_count": 12,
      "metadata": {},
      "outputs": [],
      "source": [
        "raw_selection = raw.copy().crop(tmin=0, tmax=300) #grab the first x seconds of the dataset. Onset is like 1300 seconds for D0057's first Stimulus event so I think we're good even if we do like 500 for everyone.\n",
        "\n",
        "filt_selection = filt.copy().crop(tmin=0, tmax=300)"
      ]
    },
    {
      "cell_type": "code",
      "execution_count": 16,
      "metadata": {},
      "outputs": [
        {
          "name": "stdout",
          "output_type": "stream",
          "text": [
            "outlier round 1 channels: ['RAMT8']\n",
            "outlier round 2 channels: ['RAMT8', 'RPI16']\n",
            "outlier round 2 channels: ['RAMT8', 'RPI16', 'LAMT12']\n",
            "Reading 0 ... 614400  =      0.000 ...   300.000 secs...\n",
            "Applying average reference.\n",
            "Applying a custom ('sEEG',) reference.\n"
          ]
        },
        {
          "ename": "KeyError",
          "evalue": "'Event name \"Stimulus\" could not be found. The following events are present in the data: '",
          "output_type": "error",
          "traceback": [
            "\u001b[1;31m---------------------------------------------------------------------------\u001b[0m",
            "\u001b[1;31mKeyError\u001b[0m                                  Traceback (most recent call last)",
            "Cell \u001b[1;32mIn[16], line 17\u001b[0m\n\u001b[0;32m     15\u001b[0m  \u001b[39m# make stimulus baseline EpochsTFR\u001b[39;00m\n\u001b[0;32m     16\u001b[0m times\u001b[39m=\u001b[39m[\u001b[39m-\u001b[39m\u001b[39m1\u001b[39m,\u001b[39m3\u001b[39m] \u001b[39m#this is for 0.5 sec of padding on each side\u001b[39;00m\n\u001b[1;32m---> 17\u001b[0m trials \u001b[39m=\u001b[39m trial_ieeg(good, \u001b[39m\"\u001b[39;49m\u001b[39mStimulus\u001b[39;49m\u001b[39m\"\u001b[39;49m, times, preload\u001b[39m=\u001b[39;49m\u001b[39mTrue\u001b[39;49;00m)\n\u001b[0;32m     18\u001b[0m outliers_to_nan(trials, outliers\u001b[39m=\u001b[39m\u001b[39m10\u001b[39m)\n\u001b[0;32m     19\u001b[0m base \u001b[39m=\u001b[39m wavelet_scaleogram(trials, n_jobs\u001b[39m=\u001b[39m\u001b[39m-\u001b[39m\u001b[39m2\u001b[39m, decim\u001b[39m=\u001b[39m\u001b[39mint\u001b[39m(good\u001b[39m.\u001b[39minfo[\u001b[39m'\u001b[39m\u001b[39msfreq\u001b[39m\u001b[39m'\u001b[39m] \u001b[39m/\u001b[39m \u001b[39m100\u001b[39m))\n",
            "File \u001b[1;32m<decorator-gen-656>:12\u001b[0m, in \u001b[0;36mtrial_ieeg\u001b[1;34m(raw, event, times, verbose, **kwargs)\u001b[0m\n",
            "File \u001b[1;32mC:\\Users/jz421/Desktop/GlobalLocal/IEEG_Pipelines\\ieeg\\navigate.py:282\u001b[0m, in \u001b[0;36mtrial_ieeg\u001b[1;34m(raw, event, times, verbose, **kwargs)\u001b[0m\n\u001b[0;32m    280\u001b[0m \u001b[39m# determine the events\u001b[39;00m\n\u001b[0;32m    281\u001b[0m events, ids \u001b[39m=\u001b[39m mne\u001b[39m.\u001b[39mevents_from_annotations(raw)\n\u001b[1;32m--> 282\u001b[0m dat_ids \u001b[39m=\u001b[39m [ids[i] \u001b[39mfor\u001b[39;00m i \u001b[39min\u001b[39;00m mne\u001b[39m.\u001b[39;49mevent\u001b[39m.\u001b[39;49mmatch_event_names(ids, event)]\n\u001b[0;32m    283\u001b[0m rev \u001b[39m=\u001b[39m {k: v \u001b[39mfor\u001b[39;00m k, v \u001b[39min\u001b[39;00m ids\u001b[39m.\u001b[39mitems() \u001b[39mif\u001b[39;00m v \u001b[39min\u001b[39;00m dat_ids}\n\u001b[0;32m    285\u001b[0m \u001b[39m# epoch the data\u001b[39;00m\n",
            "File \u001b[1;32mc:\\Users\\jz421\\AppData\\Local\\anaconda3\\envs\\ieeg\\Lib\\site-packages\\mne\\event.py:1646\u001b[0m, in \u001b[0;36mmatch_event_names\u001b[1;34m(event_names, keys, on_missing)\u001b[0m\n\u001b[0;32m   1639\u001b[0m     matches\u001b[39m.\u001b[39mextend(\n\u001b[0;32m   1640\u001b[0m         name\n\u001b[0;32m   1641\u001b[0m         \u001b[39mfor\u001b[39;00m name \u001b[39min\u001b[39;00m event_names\n\u001b[0;32m   1642\u001b[0m         \u001b[39mif\u001b[39;00m \u001b[39mset\u001b[39m(key\u001b[39m.\u001b[39msplit(\u001b[39m\"\u001b[39m\u001b[39m/\u001b[39m\u001b[39m\"\u001b[39m))\u001b[39m.\u001b[39missubset(name\u001b[39m.\u001b[39msplit(\u001b[39m\"\u001b[39m\u001b[39m/\u001b[39m\u001b[39m\"\u001b[39m))\n\u001b[0;32m   1643\u001b[0m     )\n\u001b[0;32m   1645\u001b[0m \u001b[39mif\u001b[39;00m \u001b[39mnot\u001b[39;00m matches:\n\u001b[1;32m-> 1646\u001b[0m     _on_missing(\n\u001b[0;32m   1647\u001b[0m         on_missing\u001b[39m=\u001b[39;49mon_missing,\n\u001b[0;32m   1648\u001b[0m         msg\u001b[39m=\u001b[39;49m\u001b[39mf\u001b[39;49m\u001b[39m'\u001b[39;49m\u001b[39mEvent name \u001b[39;49m\u001b[39m\"\u001b[39;49m\u001b[39m{\u001b[39;49;00mkey\u001b[39m}\u001b[39;49;00m\u001b[39m\"\u001b[39;49m\u001b[39m could not be found. The following events \u001b[39;49m\u001b[39m'\u001b[39;49m\n\u001b[0;32m   1649\u001b[0m         \u001b[39mf\u001b[39;49m\u001b[39m'\u001b[39;49m\u001b[39mare present in the data: \u001b[39;49m\u001b[39m{\u001b[39;49;00m\u001b[39m\"\u001b[39;49m\u001b[39m, \u001b[39;49m\u001b[39m\"\u001b[39;49m\u001b[39m.\u001b[39;49mjoin(event_names)\u001b[39m}\u001b[39;49;00m\u001b[39m'\u001b[39;49m,\n\u001b[0;32m   1650\u001b[0m         error_klass\u001b[39m=\u001b[39;49m\u001b[39mKeyError\u001b[39;49;00m,\n\u001b[0;32m   1651\u001b[0m     )\n\u001b[0;32m   1653\u001b[0m matches \u001b[39m=\u001b[39m \u001b[39msorted\u001b[39m(\u001b[39mset\u001b[39m(matches))  \u001b[39m# deduplicate if necessary\u001b[39;00m\n\u001b[0;32m   1654\u001b[0m \u001b[39mreturn\u001b[39;00m matches\n",
            "File \u001b[1;32mc:\\Users\\jz421\\AppData\\Local\\anaconda3\\envs\\ieeg\\Lib\\site-packages\\mne\\utils\\check.py:1142\u001b[0m, in \u001b[0;36m_on_missing\u001b[1;34m(on_missing, msg, name, error_klass)\u001b[0m\n\u001b[0;32m   1140\u001b[0m on_missing \u001b[39m=\u001b[39m \u001b[39m\"\u001b[39m\u001b[39mwarn\u001b[39m\u001b[39m\"\u001b[39m \u001b[39mif\u001b[39;00m on_missing \u001b[39m==\u001b[39m \u001b[39m\"\u001b[39m\u001b[39mwarning\u001b[39m\u001b[39m\"\u001b[39m \u001b[39melse\u001b[39;00m on_missing\n\u001b[0;32m   1141\u001b[0m \u001b[39mif\u001b[39;00m on_missing \u001b[39m==\u001b[39m \u001b[39m\"\u001b[39m\u001b[39mraise\u001b[39m\u001b[39m\"\u001b[39m:\n\u001b[1;32m-> 1142\u001b[0m     \u001b[39mraise\u001b[39;00m error_klass(msg)\n\u001b[0;32m   1143\u001b[0m \u001b[39melif\u001b[39;00m on_missing \u001b[39m==\u001b[39m \u001b[39m\"\u001b[39m\u001b[39mwarn\u001b[39m\u001b[39m\"\u001b[39m:\n\u001b[0;32m   1144\u001b[0m     warn(msg)\n",
            "\u001b[1;31mKeyError\u001b[0m: 'Event name \"Stimulus\" could not be found. The following events are present in the data: '"
          ]
        }
      ],
      "source": [
        "## Copy cropped data\n",
        "good = filt_selection.copy()\n",
        "\n",
        "# good.drop_channels(good.info['bads'])\n",
        "good.info['bads'] = channel_outlier_marker(good, 3, 2)\n",
        "good.drop_channels(good.info['bads'])\n",
        "good.load_data()\n",
        "\n",
        "ch_type = filt.get_channel_types(only_data_chs=True)[0]\n",
        "good.set_eeg_reference(ref_channels=\"average\", ch_type=ch_type)\n",
        "\n",
        "# Remove intermediates from mem\n",
        "good.plot()\n",
        "\n",
        " # make stimulus baseline EpochsTFR\n",
        "times=[-1,3] #this is for 0.5 sec of padding on each side\n",
        "trials = trial_ieeg(good, \"Stimulus\", times, preload=True)\n",
        "outliers_to_nan(trials, outliers=10)\n",
        "base = wavelet_scaleogram(trials, n_jobs=-2, decim=int(good.info['sfreq'] / 100))\n",
        "crop_pad(base, \"0.5s\")\n"
      ]
    },
    {
      "cell_type": "code",
      "execution_count": null,
      "metadata": {},
      "outputs": [],
      "source": []
    }
  ],
  "metadata": {
    "kernelspec": {
      "display_name": "Python 3",
      "language": "python",
      "name": "python3"
    },
    "language_info": {
      "codemirror_mode": {
        "name": "ipython",
        "version": 3
      },
      "file_extension": ".py",
      "mimetype": "text/x-python",
      "name": "python",
      "nbconvert_exporter": "python",
      "pygments_lexer": "ipython3",
      "version": "3.11.3"
    }
  },
  "nbformat": 4,
  "nbformat_minor": 0
}
