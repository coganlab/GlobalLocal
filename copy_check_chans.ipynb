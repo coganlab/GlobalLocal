{
 "cells": [
  {
   "cell_type": "code",
   "execution_count": null,
   "metadata": {},
   "outputs": [],
   "source": [
    "import mne.time_frequency\n",
    "from ieeg.viz.utils import chan_grid\n",
    "from ieeg.viz.parula import parula_map\n",
    "from ieeg.io import get_data, update, get_bad_chans\n",
    "import os\n",
    "import matplotlib.pyplot as plt"
   ]
  },
  {
   "cell_type": "code",
   "execution_count": null,
   "metadata": {},
   "outputs": [],
   "source": [
    "### put back in code for plotting the subject"
   ]
  },
  {
   "attachments": {},
   "cell_type": "markdown",
   "metadata": {},
   "source": [
    "### plot averaged wavelet for all stimulus and response"
   ]
  },
  {
   "cell_type": "code",
   "execution_count": null,
   "metadata": {},
   "outputs": [],
   "source": [
    "# Description: Check channels for outliers and remove them\n",
    "\n",
    "HOME = os.path.expanduser(\"~\")\n",
    "\n",
    "# get box directory depending on OS\n",
    "if os.name == 'nt': # windows\n",
    "    LAB_root = os.path.join(HOME, \"Box\", \"CoganLab\")\n",
    "else: # mac\n",
    "    LAB_root = os.path.join(HOME, \"Library\", \"CloudStorage\", \"Box-Box\", \"CoganLab\")\n",
    "\n",
    "layout = get_data(\"GlobalLocal\", root=LAB_root)\n",
    "\n",
    "\n",
    "# Load the data\n",
    "TASK = \"GlobalLocal\"\n",
    "subj = \"D0071\"\n",
    "layout = get_data(\"GlobalLocal\", root=LAB_root)\n",
    "\n",
    "\n",
    "fig_path = os.path.join(layout.root, 'derivatives', 'spec', 'wavelet', 'figs')\n",
    "\n",
    "filename = os.path.join(layout.root, 'derivatives', 'spec', 'wavelet', subj, 'Stimulus_0.2secBeforeStimOnsetBase-tfr.h5')\n",
    "print(\"Filename:\", filename)\n",
    "spec = mne.time_frequency.read_tfrs(filename)[0]\n",
    "info_file = os.path.join(layout.root, spec.info['subject_info']['files'][0])\n",
    "\n",
    "# Check channels for outliers and remove them\n",
    "all_bad = get_bad_chans(info_file)\n",
    "spec.info.update(bads=[b for b in all_bad if b in spec.ch_names])\n",
    "\n",
    "# Plotting\n",
    "figs = chan_grid(spec, size=(20, 10), vmin=-2, vmax=2, cmap=parula_map, show=False)\n",
    "for i, f in enumerate(figs):\n",
    "    fig_name = f'{subj}_Stimulus_fullTrialBase_{i+1}.jpg'\n",
    "    fig_pathname = os.path.join(fig_path, fig_name)\n",
    "    f.savefig(fig_pathname, bbox_inches='tight')\n",
    "    print(\"Saved figure:\", fig_name)\n",
    "\n",
    "\n",
    "# update(spec, layout, \"bad\")\n",
    "\n",
    "\n",
    "fig_path = os.path.join(layout.root, 'derivatives', 'spec', 'wavelet', 'figs')\n",
    "\n",
    "filename = os.path.join(layout.root, 'derivatives', 'spec', 'wavelet', subj, 'Response_0.2secBeforeStimOnsetBase-tfr.h5')\n",
    "print(\"Filename:\", filename)\n",
    "spec = mne.time_frequency.read_tfrs(filename)[0]\n",
    "info_file = os.path.join(layout.root, spec.info['subject_info']['files'][0])\n",
    "\n",
    "# Check channels for outliers and remove them\n",
    "# all_bad = get_bad_chans(info_file)\n",
    "# spec.info.update(bads=[b for b in all_bad if b in spec.ch_names])\n",
    "\n",
    "# Plotting\n",
    "figs = chan_grid(spec, size=(20, 10), vmin=-2, vmax=2, cmap=parula_map, show=False)\n",
    "for i, f in enumerate(figs):\n",
    "    fig_name = f'{subj}_Response_fullTrialBase_{i+1}.jpg'\n",
    "    fig_pathname = os.path.join(fig_path, fig_name)\n",
    "    f.savefig(fig_pathname, bbox_inches='tight')\n",
    "    print(\"Saved figure:\", fig_name)\n",
    "\n"
   ]
  },
  {
   "cell_type": "code",
   "execution_count": null,
   "metadata": {},
   "outputs": [],
   "source": []
  }
 ],
 "metadata": {
  "kernelspec": {
   "display_name": "ieeg",
   "language": "python",
   "name": "python3"
  },
  "language_info": {
   "codemirror_mode": {
    "name": "ipython",
    "version": 3
   },
   "file_extension": ".py",
   "mimetype": "text/x-python",
   "name": "python",
   "nbconvert_exporter": "python",
   "pygments_lexer": "ipython3",
   "version": "3.11.3"
  },
  "orig_nbformat": 4
 },
 "nbformat": 4,
 "nbformat_minor": 2
}
