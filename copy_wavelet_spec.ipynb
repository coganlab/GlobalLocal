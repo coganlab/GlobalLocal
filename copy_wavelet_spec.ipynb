{
 "cells": [
  {
   "cell_type": "code",
   "execution_count": 12,
   "metadata": {},
   "outputs": [
    {
     "name": "stdout",
     "output_type": "stream",
     "text": [
      "['c:\\\\Users\\\\jz421\\\\Desktop\\\\GlobalLocal', 'c:\\\\Users\\\\jz421\\\\AppData\\\\Local\\\\anaconda3\\\\envs\\\\ieeg\\\\python311.zip', 'c:\\\\Users\\\\jz421\\\\AppData\\\\Local\\\\anaconda3\\\\envs\\\\ieeg\\\\DLLs', 'c:\\\\Users\\\\jz421\\\\AppData\\\\Local\\\\anaconda3\\\\envs\\\\ieeg\\\\Lib', 'c:\\\\Users\\\\jz421\\\\AppData\\\\Local\\\\anaconda3\\\\envs\\\\ieeg', '', 'C:\\\\Users\\\\jz421\\\\AppData\\\\Roaming\\\\Python\\\\Python311\\\\site-packages', 'C:\\\\Users\\\\jz421\\\\AppData\\\\Roaming\\\\Python\\\\Python311\\\\site-packages\\\\win32', 'C:\\\\Users\\\\jz421\\\\AppData\\\\Roaming\\\\Python\\\\Python311\\\\site-packages\\\\win32\\\\lib', 'C:\\\\Users\\\\jz421\\\\AppData\\\\Roaming\\\\Python\\\\Python311\\\\site-packages\\\\Pythonwin', 'c:\\\\Users\\\\jz421\\\\AppData\\\\Local\\\\anaconda3\\\\envs\\\\ieeg\\\\Lib\\\\site-packages', 'c:\\\\Users\\\\jz421\\\\AppData\\\\Local\\\\anaconda3\\\\envs\\\\ieeg\\\\Lib\\\\site-packages\\\\win32', 'c:\\\\Users\\\\jz421\\\\AppData\\\\Local\\\\anaconda3\\\\envs\\\\ieeg\\\\Lib\\\\site-packages\\\\win32\\\\lib', 'c:\\\\Users\\\\jz421\\\\AppData\\\\Local\\\\anaconda3\\\\envs\\\\ieeg\\\\Lib\\\\site-packages\\\\Pythonwin', 'C:/Users/jz421/Desktop/GlobalLocal/IEEG_Pipelines/', 'C:/Users/jz421/Desktop/GlobalLocal/IEEG_Pipelines/']\n"
     ]
    }
   ],
   "source": [
    "import sys\n",
    "print(sys.path)\n",
    "sys.path.append(\"C:/Users/jz421/Desktop/GlobalLocal/IEEG_Pipelines/\") #need to do this cuz otherwise ieeg isn't added to path...\n",
    "\n",
    "import mne.time_frequency\n",
    "import mne\n",
    "from ieeg.io import get_data, raw_from_layout\n",
    "from ieeg.navigate import trial_ieeg, channel_outlier_marker, crop_empty_data, outliers_to_nan\n",
    "from ieeg.calc.scaling import rescale\n",
    "import os\n",
    "from ieeg.timefreq.utils import wavelet_scaleogram, crop_pad\n",
    "import numpy as np\n",
    "\n",
    "from misc_functions import calculate_RTs"
   ]
  },
  {
   "attachments": {},
   "cell_type": "markdown",
   "metadata": {},
   "source": [
    "### 7/5 try to get wavelets for all stimulus "
   ]
  },
  {
   "cell_type": "code",
   "execution_count": null,
   "metadata": {},
   "outputs": [],
   "source": [
    "HOME = os.path.expanduser(\"~\")\n",
    "\n",
    "# get box directory depending on OS\n",
    "if os.name == 'nt': # windows\n",
    "    LAB_root = os.path.join(HOME, \"Box\", \"CoganLab\")\n",
    "else: # mac\n",
    "    LAB_root = os.path.join(HOME, \"Library\", \"CloudStorage\", \"Box-Box\", \"CoganLab\")\n",
    "\n",
    "layout = get_data(\"GlobalLocal\", root=LAB_root)\n",
    "\n",
    "\n",
    "layout = get_data(\"GlobalLocal\", root=LAB_root)\n",
    "subjects = layout.get(return_type=\"id\", target=\"subject\")\n",
    "\n",
    "print(subjects)\n",
    "# for sub in subjects:\n",
    "for sub in subjects:\n",
    "        # sub='D0071' #why does this not work in the for loop???\n",
    "        # Load the data\n",
    "        filt = raw_from_layout(layout.derivatives['derivatives/clean'], subject=sub,\n",
    "                                extension='.edf', desc='clean', preload=False) #get line-noise filtered data\n",
    "        print(filt)\n",
    "\n",
    "        ## Crop raw data to minimize processing time\n",
    "        good = crop_empty_data(filt)\n",
    "\n",
    "        # good.drop_channels(good.info['bads'])\n",
    "        good.info['bads'] = channel_outlier_marker(good, 3, 2)\n",
    "        good.drop_channels(good.info['bads'])\n",
    "        # good.info['bads'] += channel_outlier_marker(good, 4, 2)\n",
    "        # good.drop_channels(good.info['bads'])\n",
    "        good.load_data()\n",
    "\n",
    "        ch_type = filt.get_channel_types(only_data_chs=True)[0]\n",
    "        good.set_eeg_reference(ref_channels=\"average\", ch_type=ch_type)\n",
    "\n",
    "        # Remove intermediates from mem\n",
    "        good.plot()\n",
    "\n",
    "        ## epoching and trial outlier removal\n",
    "\n",
    "        save_dir = os.path.join(layout.root, 'derivatives', 'spec', 'wavelet', sub)\n",
    "        if not os.path.exists(save_dir):\n",
    "                os.makedirs(save_dir)\n",
    "\n",
    "        RTs, skipped = calculate_RTs(good)\n",
    "        avg_RT = np.median(RTs)\n",
    "        \n",
    "        # make stimulus baseline EpochsTFR\n",
    "        times=[-1,avg_RT+1.3] #this is for 0.5 sec of padding on each side\n",
    "        trials = trial_ieeg(good, \"Stimulus\", times, preload=True)\n",
    "        outliers_to_nan(trials, outliers=10)\n",
    "        base = wavelet_scaleogram(trials, n_jobs=-2, decim=int(good.info['sfreq'] / 100))\n",
    "        crop_pad(base, \"0.5s\")\n",
    "\n",
    "\n",
    "        #now do rescale with the concatenated baseline epochs\n",
    "        for event, t in zip((\"Stimulus\", \"Response\"),((-1, 2), (-1, 2))):\n",
    "                times = [None, None]\n",
    "                times[0] = t[0] - 0.5\n",
    "                times[1] = t[1] + 0.5\n",
    "                trials = trial_ieeg(good, event, times, preload=True)\n",
    "                outliers_to_nan(trials, outliers=10)\n",
    "                spec = wavelet_scaleogram(trials, n_jobs=-2, decim=int(good.info['sfreq'] / 100))\n",
    "                crop_pad(spec, \"0.5s\")\n",
    "                spec_a = rescale(spec, base, copy=True, mode='ratio').average(\n",
    "                        lambda x: np.nanmean(x, axis=0), copy=True)\n",
    "                spec_a._data = np.log10(spec_a._data) * 20\n",
    "                fnames = [os.path.relpath(f, layout.root) for f in good.filenames]\n",
    "                spec_a.info['subject_info']['files'] = tuple(fnames)\n",
    "                spec_a.info['bads'] = good.info['bads']\n",
    "                filename = os.path.join(save_dir, f'{event}_fullTrialBase-tfr.h5')\n",
    "                mne.time_frequency.write_tfrs(filename, spec_a, overwrite=True)\n",
    "                spec_a.save(os.path.join(save_dir, f'{event}_fullTrialBase-avg.fif'), overwrite=True)\n",
    "\n"
   ]
  },
  {
   "cell_type": "markdown",
   "metadata": {},
   "source": [
    "### testing with one subject"
   ]
  },
  {
   "cell_type": "code",
   "execution_count": 2,
   "metadata": {},
   "outputs": [
    {
     "name": "stdout",
     "output_type": "stream",
     "text": [
      "['D0057', 'D0059', 'D0063', 'D0065', 'D0069', 'D0071', 'D0077']\n",
      "Extracting EDF parameters from C:\\Users\\jz421\\Box\\CoganLab\\BIDS-1.1_GlobalLocal\\BIDS\\derivatives\\clean\\sub-D0057\\ieeg\\sub-D0057_task-GlobalLocal_acq-01_run-01_desc-clean_ieeg.edf...\n",
      "EDF file detected\n",
      "Setting channel info structure...\n",
      "Creating raw.info structure...\n",
      "Reading events from C:\\Users\\jz421\\Box\\CoganLab\\BIDS-1.1_GlobalLocal\\BIDS\\derivatives\\clean\\sub-D0057\\ieeg\\sub-D0057_task-GlobalLocal_acq-01_run-01_desc-clean_events.tsv.\n",
      "Reading channel info from C:\\Users\\jz421\\Box\\CoganLab\\BIDS-1.1_GlobalLocal\\BIDS\\derivatives\\clean\\sub-D0057\\ieeg\\sub-D0057_task-GlobalLocal_acq-01_run-01_desc-clean_channels.tsv.\n",
      "Reading electrode coords from C:\\Users\\jz421\\Box\\CoganLab\\BIDS-1.1_GlobalLocal\\BIDS\\derivatives\\clean\\sub-D0057\\ieeg\\sub-D0057_acq-01_space-ACPC_electrodes.tsv.\n",
      "Extracting EDF parameters from C:\\Users\\jz421\\Box\\CoganLab\\BIDS-1.1_GlobalLocal\\BIDS\\derivatives\\clean\\sub-D0057\\ieeg\\sub-D0057_task-GlobalLocal_acq-01_run-02_desc-clean_ieeg.edf...\n",
      "EDF file detected\n",
      "Setting channel info structure...\n",
      "Creating raw.info structure...\n"
     ]
    },
    {
     "name": "stderr",
     "output_type": "stream",
     "text": [
      "C:\\Users/jz421/Desktop/GlobalLocal/IEEG_Pipelines\\ieeg\\io.py:100: RuntimeWarning: The number of channels in the channels.tsv sidecar file (179) does not match the number of channels in the raw data file (178). Will not try to set channel names.\n",
      "  new_raw = read_raw_bids(bids_path=BIDS_path)\n",
      "C:\\Users/jz421/Desktop/GlobalLocal/IEEG_Pipelines\\ieeg\\io.py:100: RuntimeWarning: Cannot set channel type for the following channels, as they are missing in the raw data: Trigger\n",
      "  new_raw = read_raw_bids(bids_path=BIDS_path)\n"
     ]
    },
    {
     "name": "stdout",
     "output_type": "stream",
     "text": [
      "Reading events from C:\\Users\\jz421\\Box\\CoganLab\\BIDS-1.1_GlobalLocal\\BIDS\\derivatives\\clean\\sub-D0057\\ieeg\\sub-D0057_task-GlobalLocal_acq-01_run-02_desc-clean_events.tsv.\n",
      "Reading channel info from C:\\Users\\jz421\\Box\\CoganLab\\BIDS-1.1_GlobalLocal\\BIDS\\derivatives\\clean\\sub-D0057\\ieeg\\sub-D0057_task-GlobalLocal_acq-01_run-02_desc-clean_channels.tsv.\n",
      "Reading electrode coords from C:\\Users\\jz421\\Box\\CoganLab\\BIDS-1.1_GlobalLocal\\BIDS\\derivatives\\clean\\sub-D0057\\ieeg\\sub-D0057_acq-01_space-ACPC_electrodes.tsv.\n",
      "Extracting EDF parameters from C:\\Users\\jz421\\Box\\CoganLab\\BIDS-1.1_GlobalLocal\\BIDS\\derivatives\\clean\\sub-D0057\\ieeg\\sub-D0057_task-GlobalLocal_acq-01_run-03_desc-clean_ieeg.edf...\n",
      "EDF file detected\n",
      "Setting channel info structure...\n",
      "Creating raw.info structure...\n"
     ]
    },
    {
     "name": "stderr",
     "output_type": "stream",
     "text": [
      "C:\\Users/jz421/Desktop/GlobalLocal/IEEG_Pipelines\\ieeg\\io.py:100: RuntimeWarning: Omitted 228 annotation(s) that were outside data range.\n",
      "  new_raw = read_raw_bids(bids_path=BIDS_path)\n",
      "C:\\Users/jz421/Desktop/GlobalLocal/IEEG_Pipelines\\ieeg\\io.py:100: RuntimeWarning: The number of channels in the channels.tsv sidecar file (179) does not match the number of channels in the raw data file (178). Will not try to set channel names.\n",
      "  new_raw = read_raw_bids(bids_path=BIDS_path)\n",
      "C:\\Users/jz421/Desktop/GlobalLocal/IEEG_Pipelines\\ieeg\\io.py:100: RuntimeWarning: Cannot set channel type for the following channels, as they are missing in the raw data: Trigger\n",
      "  new_raw = read_raw_bids(bids_path=BIDS_path)\n"
     ]
    },
    {
     "name": "stdout",
     "output_type": "stream",
     "text": [
      "Reading events from C:\\Users\\jz421\\Box\\CoganLab\\BIDS-1.1_GlobalLocal\\BIDS\\derivatives\\clean\\sub-D0057\\ieeg\\sub-D0057_task-GlobalLocal_acq-01_run-03_desc-clean_events.tsv.\n",
      "Reading channel info from C:\\Users\\jz421\\Box\\CoganLab\\BIDS-1.1_GlobalLocal\\BIDS\\derivatives\\clean\\sub-D0057\\ieeg\\sub-D0057_task-GlobalLocal_acq-01_run-03_desc-clean_channels.tsv.\n",
      "Reading electrode coords from C:\\Users\\jz421\\Box\\CoganLab\\BIDS-1.1_GlobalLocal\\BIDS\\derivatives\\clean\\sub-D0057\\ieeg\\sub-D0057_acq-01_space-ACPC_electrodes.tsv.\n",
      "Extracting EDF parameters from C:\\Users\\jz421\\Box\\CoganLab\\BIDS-1.1_GlobalLocal\\BIDS\\derivatives\\clean\\sub-D0057\\ieeg\\sub-D0057_task-GlobalLocal_acq-01_run-04_desc-clean_ieeg.edf...\n",
      "EDF file detected\n",
      "Setting channel info structure...\n",
      "Creating raw.info structure...\n"
     ]
    },
    {
     "name": "stderr",
     "output_type": "stream",
     "text": [
      "C:\\Users/jz421/Desktop/GlobalLocal/IEEG_Pipelines\\ieeg\\io.py:100: RuntimeWarning: Omitted 228 annotation(s) that were outside data range.\n",
      "  new_raw = read_raw_bids(bids_path=BIDS_path)\n",
      "C:\\Users/jz421/Desktop/GlobalLocal/IEEG_Pipelines\\ieeg\\io.py:100: RuntimeWarning: The number of channels in the channels.tsv sidecar file (179) does not match the number of channels in the raw data file (178). Will not try to set channel names.\n",
      "  new_raw = read_raw_bids(bids_path=BIDS_path)\n",
      "C:\\Users/jz421/Desktop/GlobalLocal/IEEG_Pipelines\\ieeg\\io.py:100: RuntimeWarning: Cannot set channel type for the following channels, as they are missing in the raw data: Trigger\n",
      "  new_raw = read_raw_bids(bids_path=BIDS_path)\n"
     ]
    },
    {
     "name": "stdout",
     "output_type": "stream",
     "text": [
      "Reading events from C:\\Users\\jz421\\Box\\CoganLab\\BIDS-1.1_GlobalLocal\\BIDS\\derivatives\\clean\\sub-D0057\\ieeg\\sub-D0057_task-GlobalLocal_acq-01_run-04_desc-clean_events.tsv.\n",
      "Reading channel info from C:\\Users\\jz421\\Box\\CoganLab\\BIDS-1.1_GlobalLocal\\BIDS\\derivatives\\clean\\sub-D0057\\ieeg\\sub-D0057_task-GlobalLocal_acq-01_run-04_desc-clean_channels.tsv.\n",
      "Reading electrode coords from C:\\Users\\jz421\\Box\\CoganLab\\BIDS-1.1_GlobalLocal\\BIDS\\derivatives\\clean\\sub-D0057\\ieeg\\sub-D0057_acq-01_space-ACPC_electrodes.tsv.\n"
     ]
    },
    {
     "name": "stderr",
     "output_type": "stream",
     "text": [
      "C:\\Users/jz421/Desktop/GlobalLocal/IEEG_Pipelines\\ieeg\\io.py:100: RuntimeWarning: Omitted 226 annotation(s) that were outside data range.\n",
      "  new_raw = read_raw_bids(bids_path=BIDS_path)\n",
      "C:\\Users/jz421/Desktop/GlobalLocal/IEEG_Pipelines\\ieeg\\io.py:100: RuntimeWarning: The number of channels in the channels.tsv sidecar file (179) does not match the number of channels in the raw data file (178). Will not try to set channel names.\n",
      "  new_raw = read_raw_bids(bids_path=BIDS_path)\n",
      "C:\\Users/jz421/Desktop/GlobalLocal/IEEG_Pipelines\\ieeg\\io.py:100: RuntimeWarning: Cannot set channel type for the following channels, as they are missing in the raw data: Trigger\n",
      "  new_raw = read_raw_bids(bids_path=BIDS_path)\n"
     ]
    },
    {
     "name": "stdout",
     "output_type": "stream",
     "text": [
      "<RawEDF | sub-D0057_task-GlobalLocal_acq-01_run-01_desc-clean_ieeg.edf, 178 x 8243200 (4025.0 s), ~201 kB, data not loaded>\n",
      "outlier round 1 channels: ['RAMT8']\n",
      "outlier round 2 channels: ['RAMT8', 'RPI16']\n",
      "Reading 0 ... 3219820  =      0.000 ...  1572.178 secs...\n",
      "Applying average reference.\n",
      "Applying a custom ('sEEG',) reference.\n",
      "Using qt as 2D backend.\n"
     ]
    }
   ],
   "source": [
    "HOME = os.path.expanduser(\"~\")\n",
    "\n",
    "# get box directory depending on OS\n",
    "if os.name == 'nt': # windows\n",
    "    LAB_root = os.path.join(HOME, \"Box\", \"CoganLab\")\n",
    "else: # mac\n",
    "    LAB_root = os.path.join(HOME, \"Library\", \"CloudStorage\", \"Box-Box\", \"CoganLab\")\n",
    "\n",
    "layout = get_data(\"GlobalLocal\", root=LAB_root)\n",
    "\n",
    "\n",
    "layout = get_data(\"GlobalLocal\", root=LAB_root)\n",
    "subjects = layout.get(return_type=\"id\", target=\"subject\")\n",
    "\n",
    "print(subjects)\n",
    "# for sub in subjects:\n",
    "\n",
    "sub='D0057' #why does this not work in the for loop???\n",
    "# Load the data\n",
    "filt = raw_from_layout(layout.derivatives['derivatives/clean'], subject=sub,\n",
    "                        extension='.edf', desc='clean', preload=False) #get line-noise filtered data\n",
    "print(filt)\n",
    "\n",
    "## Crop raw data to minimize processing time\n",
    "good = crop_empty_data(filt)\n",
    "\n",
    "# good.drop_channels(good.info['bads'])\n",
    "good.info['bads'] = channel_outlier_marker(good, 3, 2)\n",
    "good.drop_channels(good.info['bads'])\n",
    "# good.info['bads'] += channel_outlier_marker(good, 4, 2)\n",
    "# good.drop_channels(good.info['bads'])\n",
    "good.load_data()\n",
    "\n",
    "ch_type = filt.get_channel_types(only_data_chs=True)[0]\n",
    "good.set_eeg_reference(ref_channels=\"average\", ch_type=ch_type)\n",
    "\n",
    "# Remove intermediates from mem\n",
    "good.plot()\n",
    "\n",
    "## epoching and trial outlier removal\n",
    "\n",
    "save_dir = os.path.join(layout.root, 'derivatives', 'spec', 'wavelet', sub)\n",
    "if not os.path.exists(save_dir):\n",
    "        os.makedirs(save_dir)"
   ]
  },
  {
   "cell_type": "code",
   "execution_count": 15,
   "metadata": {},
   "outputs": [
    {
     "name": "stdout",
     "output_type": "stream",
     "text": [
      "1359.695801\n"
     ]
    }
   ],
   "source": [
    "first_trial_time = filt.annotations.onset[0]\n",
    "\n",
    "print(first_trial_time)"
   ]
  },
  {
   "cell_type": "code",
   "execution_count": null,
   "metadata": {},
   "outputs": [],
   "source": [
    "RTs, skipped = calculate_RTs(good)\n",
    "avg_RT = np.median(RTs)\n",
    "print(avg_RT)\n",
    "# make stimulus baseline EpochsTFR\n",
    "times=[-1.5, 3.5] #this is for 0.5 sec of padding on each side. Just do 3 seconds as estimate of the full trial. Don't use avg RT because its different across subjects and makes later analysis hard.\n",
    "print(\"times: \" + str(times))\n",
    "trials = trial_ieeg(good, \"Stimulus\", times, preload=True)\n",
    "\n",
    "# print(\"base trials shape is: \" + str(trials._data.shape))\n",
    "outliers_to_nan(trials, outliers=10)\n",
    "base = wavelet_scaleogram(trials, n_jobs=-2, decim=int(good.info['sfreq'] / 100))\n",
    "crop_pad(base, \"0.5s\")\n",
    "\n",
    "\n",
    "print(\"done with base\")\n",
    "\n",
    "#now do rescale with the concatenated baseline epochs\n",
    "for event, t in zip((\"Stimulus\", \"Response\"),((-1, 2), (-1, 2))):\n",
    "        times = [None, None]\n",
    "        times[0] = t[0] - 0.5\n",
    "        times[1] = t[1] + 0.5\n",
    "        trials = trial_ieeg(good, event, times, preload=True)\n",
    "        print(f\"trials for {event} is: \" + str(trials._data.shape))\n",
    "        outliers_to_nan(trials, outliers=10)\n",
    "        spec = wavelet_scaleogram(trials, n_jobs=-2, decim=int(good.info['sfreq'] / 100))\n",
    "        crop_pad(spec, \"0.5s\")\n",
    "        spec_a = rescale(spec, base, copy=True, mode='ratio').average(\n",
    "                lambda x: np.nanmean(x, axis=0), copy=True)\n",
    "        spec_a._data = np.log10(spec_a._data) * 20\n",
    "        fnames = [os.path.relpath(f, layout.root) for f in good.filenames]\n",
    "        spec_a.info['subject_info']['files'] = tuple(fnames)\n",
    "        spec_a.info['bads'] = good.info['bads']\n",
    "        filename = os.path.join(save_dir, f'{event}_OneSecBeforeToThreeSecAfterBase-tfr.h5')\n",
    "        mne.time_frequency.write_tfrs(filename, spec_a, overwrite=True)\n",
    "        spec_a.save(os.path.join(save_dir, f'{event}_OneSecBeforeToThreeSecAfterBase-avg.fif'), overwrite=True)\n"
   ]
  },
  {
   "cell_type": "code",
   "execution_count": 16,
   "metadata": {},
   "outputs": [
    {
     "data": {
      "text/plain": [
       "<mne_qt_browser._pg_figure.MNEQtBrowser at 0x2133a3d1e10>"
      ]
     },
     "execution_count": 16,
     "metadata": {},
     "output_type": "execute_result"
    }
   ],
   "source": [
    "filt.plot(start=0, duration=20)"
   ]
  },
  {
   "cell_type": "markdown",
   "metadata": {},
   "source": [
    "### test it as a function"
   ]
  },
  {
   "cell_type": "code",
   "execution_count": 7,
   "metadata": {},
   "outputs": [
    {
     "name": "stdout",
     "output_type": "stream",
     "text": [
      "Extracting EDF parameters from C:\\Users\\jz421\\Box\\CoganLab\\BIDS-1.1_GlobalLocal\\BIDS\\derivatives\\clean\\sub-D0057\\ieeg\\sub-D0057_task-GlobalLocal_acq-01_run-01_desc-clean_ieeg.edf...\n",
      "EDF file detected\n",
      "Setting channel info structure...\n",
      "Creating raw.info structure...\n",
      "Reading events from C:\\Users\\jz421\\Box\\CoganLab\\BIDS-1.1_GlobalLocal\\BIDS\\derivatives\\clean\\sub-D0057\\ieeg\\sub-D0057_task-GlobalLocal_acq-01_run-01_desc-clean_events.tsv.\n",
      "Reading channel info from C:\\Users\\jz421\\Box\\CoganLab\\BIDS-1.1_GlobalLocal\\BIDS\\derivatives\\clean\\sub-D0057\\ieeg\\sub-D0057_task-GlobalLocal_acq-01_run-01_desc-clean_channels.tsv.\n",
      "Reading electrode coords from C:\\Users\\jz421\\Box\\CoganLab\\BIDS-1.1_GlobalLocal\\BIDS\\derivatives\\clean\\sub-D0057\\ieeg\\sub-D0057_acq-01_space-ACPC_electrodes.tsv.\n",
      "Extracting EDF parameters from C:\\Users\\jz421\\Box\\CoganLab\\BIDS-1.1_GlobalLocal\\BIDS\\derivatives\\clean\\sub-D0057\\ieeg\\sub-D0057_task-GlobalLocal_acq-01_run-02_desc-clean_ieeg.edf...\n",
      "EDF file detected\n",
      "Setting channel info structure...\n",
      "Creating raw.info structure...\n"
     ]
    },
    {
     "name": "stderr",
     "output_type": "stream",
     "text": [
      "C:\\Users\\jz421\\Desktop\\GlobalLocal\\IEEG_Pipelines\\ieeg\\io.py:113: RuntimeWarning: The number of channels in the channels.tsv sidecar file (179) does not match the number of channels in the raw data file (178). Will not try to set channel names.\n",
      "  new_raw = read_raw_bids(bids_path=BIDS_path, verbose=verbose)\n",
      "C:\\Users\\jz421\\Desktop\\GlobalLocal\\IEEG_Pipelines\\ieeg\\io.py:113: RuntimeWarning: Cannot set channel type for the following channels, as they are missing in the raw data: Trigger\n",
      "  new_raw = read_raw_bids(bids_path=BIDS_path, verbose=verbose)\n"
     ]
    },
    {
     "name": "stdout",
     "output_type": "stream",
     "text": [
      "Reading events from C:\\Users\\jz421\\Box\\CoganLab\\BIDS-1.1_GlobalLocal\\BIDS\\derivatives\\clean\\sub-D0057\\ieeg\\sub-D0057_task-GlobalLocal_acq-01_run-02_desc-clean_events.tsv.\n",
      "Reading channel info from C:\\Users\\jz421\\Box\\CoganLab\\BIDS-1.1_GlobalLocal\\BIDS\\derivatives\\clean\\sub-D0057\\ieeg\\sub-D0057_task-GlobalLocal_acq-01_run-02_desc-clean_channels.tsv.\n",
      "Reading electrode coords from C:\\Users\\jz421\\Box\\CoganLab\\BIDS-1.1_GlobalLocal\\BIDS\\derivatives\\clean\\sub-D0057\\ieeg\\sub-D0057_acq-01_space-ACPC_electrodes.tsv.\n",
      "Extracting EDF parameters from C:\\Users\\jz421\\Box\\CoganLab\\BIDS-1.1_GlobalLocal\\BIDS\\derivatives\\clean\\sub-D0057\\ieeg\\sub-D0057_task-GlobalLocal_acq-01_run-03_desc-clean_ieeg.edf...\n",
      "EDF file detected\n",
      "Setting channel info structure...\n",
      "Creating raw.info structure...\n"
     ]
    },
    {
     "name": "stderr",
     "output_type": "stream",
     "text": [
      "C:\\Users\\jz421\\Desktop\\GlobalLocal\\IEEG_Pipelines\\ieeg\\io.py:113: RuntimeWarning: Omitted 228 annotation(s) that were outside data range.\n",
      "  new_raw = read_raw_bids(bids_path=BIDS_path, verbose=verbose)\n",
      "C:\\Users\\jz421\\Desktop\\GlobalLocal\\IEEG_Pipelines\\ieeg\\io.py:113: RuntimeWarning: The number of channels in the channels.tsv sidecar file (179) does not match the number of channels in the raw data file (178). Will not try to set channel names.\n",
      "  new_raw = read_raw_bids(bids_path=BIDS_path, verbose=verbose)\n",
      "C:\\Users\\jz421\\Desktop\\GlobalLocal\\IEEG_Pipelines\\ieeg\\io.py:113: RuntimeWarning: Cannot set channel type for the following channels, as they are missing in the raw data: Trigger\n",
      "  new_raw = read_raw_bids(bids_path=BIDS_path, verbose=verbose)\n"
     ]
    },
    {
     "name": "stdout",
     "output_type": "stream",
     "text": [
      "Reading events from C:\\Users\\jz421\\Box\\CoganLab\\BIDS-1.1_GlobalLocal\\BIDS\\derivatives\\clean\\sub-D0057\\ieeg\\sub-D0057_task-GlobalLocal_acq-01_run-03_desc-clean_events.tsv.\n",
      "Reading channel info from C:\\Users\\jz421\\Box\\CoganLab\\BIDS-1.1_GlobalLocal\\BIDS\\derivatives\\clean\\sub-D0057\\ieeg\\sub-D0057_task-GlobalLocal_acq-01_run-03_desc-clean_channels.tsv.\n",
      "Reading electrode coords from C:\\Users\\jz421\\Box\\CoganLab\\BIDS-1.1_GlobalLocal\\BIDS\\derivatives\\clean\\sub-D0057\\ieeg\\sub-D0057_acq-01_space-ACPC_electrodes.tsv.\n",
      "Extracting EDF parameters from C:\\Users\\jz421\\Box\\CoganLab\\BIDS-1.1_GlobalLocal\\BIDS\\derivatives\\clean\\sub-D0057\\ieeg\\sub-D0057_task-GlobalLocal_acq-01_run-04_desc-clean_ieeg.edf...\n",
      "EDF file detected\n",
      "Setting channel info structure...\n",
      "Creating raw.info structure...\n"
     ]
    },
    {
     "name": "stderr",
     "output_type": "stream",
     "text": [
      "C:\\Users\\jz421\\Desktop\\GlobalLocal\\IEEG_Pipelines\\ieeg\\io.py:113: RuntimeWarning: Omitted 228 annotation(s) that were outside data range.\n",
      "  new_raw = read_raw_bids(bids_path=BIDS_path, verbose=verbose)\n",
      "C:\\Users\\jz421\\Desktop\\GlobalLocal\\IEEG_Pipelines\\ieeg\\io.py:113: RuntimeWarning: The number of channels in the channels.tsv sidecar file (179) does not match the number of channels in the raw data file (178). Will not try to set channel names.\n",
      "  new_raw = read_raw_bids(bids_path=BIDS_path, verbose=verbose)\n",
      "C:\\Users\\jz421\\Desktop\\GlobalLocal\\IEEG_Pipelines\\ieeg\\io.py:113: RuntimeWarning: Cannot set channel type for the following channels, as they are missing in the raw data: Trigger\n",
      "  new_raw = read_raw_bids(bids_path=BIDS_path, verbose=verbose)\n"
     ]
    },
    {
     "name": "stdout",
     "output_type": "stream",
     "text": [
      "Reading events from C:\\Users\\jz421\\Box\\CoganLab\\BIDS-1.1_GlobalLocal\\BIDS\\derivatives\\clean\\sub-D0057\\ieeg\\sub-D0057_task-GlobalLocal_acq-01_run-04_desc-clean_events.tsv.\n",
      "Reading channel info from C:\\Users\\jz421\\Box\\CoganLab\\BIDS-1.1_GlobalLocal\\BIDS\\derivatives\\clean\\sub-D0057\\ieeg\\sub-D0057_task-GlobalLocal_acq-01_run-04_desc-clean_channels.tsv.\n",
      "Reading electrode coords from C:\\Users\\jz421\\Box\\CoganLab\\BIDS-1.1_GlobalLocal\\BIDS\\derivatives\\clean\\sub-D0057\\ieeg\\sub-D0057_acq-01_space-ACPC_electrodes.tsv.\n"
     ]
    },
    {
     "name": "stderr",
     "output_type": "stream",
     "text": [
      "C:\\Users\\jz421\\Desktop\\GlobalLocal\\IEEG_Pipelines\\ieeg\\io.py:113: RuntimeWarning: Omitted 226 annotation(s) that were outside data range.\n",
      "  new_raw = read_raw_bids(bids_path=BIDS_path, verbose=verbose)\n",
      "C:\\Users\\jz421\\Desktop\\GlobalLocal\\IEEG_Pipelines\\ieeg\\io.py:113: RuntimeWarning: The number of channels in the channels.tsv sidecar file (179) does not match the number of channels in the raw data file (178). Will not try to set channel names.\n",
      "  new_raw = read_raw_bids(bids_path=BIDS_path, verbose=verbose)\n",
      "C:\\Users\\jz421\\Desktop\\GlobalLocal\\IEEG_Pipelines\\ieeg\\io.py:113: RuntimeWarning: Cannot set channel type for the following channels, as they are missing in the raw data: Trigger\n",
      "  new_raw = read_raw_bids(bids_path=BIDS_path, verbose=verbose)\n"
     ]
    },
    {
     "name": "stdout",
     "output_type": "stream",
     "text": [
      "outlier round 1 channels: ['RAMT8']\n",
      "outlier round 2 channels: ['RAMT8', 'RPI16']\n",
      "outlier round 2 channels: ['RAMT8', 'RPI16', 'LAMT12']\n",
      "Reading 0 ... 5983997  =      0.000 ...  2921.874 secs...\n",
      "Applying average reference.\n",
      "Applying a custom ('sEEG',) reference.\n",
      "Reading 0 ... 8243199  =      0.000 ...  4025.000 secs...\n",
      "Applying average reference.\n",
      "Applying a custom ('sEEG',) reference.\n",
      "Used Annotations descriptions: ['Response/c25/n25', 'Response/c25/r25', 'Response/c25/r75', 'Response/c25/s25', 'Response/c25/s75', 'Response/c75/r25', 'Response/c75/r75', 'Response/c75/s25', 'Response/c75/s75', 'Response/i25/r25', 'Response/i25/r75', 'Response/i25/s25', 'Response/i25/s75', 'Response/i75/n25', 'Response/i75/n75', 'Response/i75/r25', 'Response/i75/r75', 'Response/i75/s25', 'Response/i75/s75', 'Stimulus/c25/n25', 'Stimulus/c25/r25', 'Stimulus/c25/r75', 'Stimulus/c25/s25', 'Stimulus/c25/s75', 'Stimulus/c75/r25', 'Stimulus/c75/r75', 'Stimulus/c75/s25', 'Stimulus/c75/s75', 'Stimulus/i25/n75', 'Stimulus/i25/r25', 'Stimulus/i25/r75', 'Stimulus/i25/s25', 'Stimulus/i25/s75', 'Stimulus/i75/n25', 'Stimulus/i75/n75', 'Stimulus/i75/r25', 'Stimulus/i75/r75', 'Stimulus/i75/s25', 'Stimulus/i75/s75', 'experimentStart']\n",
      "Not setting metadata\n",
      "1 matching events found\n",
      "No baseline correction applied\n",
      "0 projection items activated\n",
      "Using data from preloaded Raw for 1 events and 206849 original time points ...\n",
      "0 bad epochs dropped\n"
     ]
    },
    {
     "name": "stderr",
     "output_type": "stream",
     "text": [
      "[Parallel(n_jobs=-2)]: Using backend ThreadingBackend with 7 concurrent workers.\n",
      "[Parallel(n_jobs=-2)]: Done   4 tasks      | elapsed:    5.7s\n",
      "[Parallel(n_jobs=-2)]: Done  11 tasks      | elapsed:   11.6s\n",
      "[Parallel(n_jobs=-2)]: Done  18 tasks      | elapsed:   17.6s\n",
      "[Parallel(n_jobs=-2)]: Done  27 tasks      | elapsed:   23.8s\n",
      "[Parallel(n_jobs=-2)]: Done  36 tasks      | elapsed:   35.0s\n",
      "[Parallel(n_jobs=-2)]: Done  47 tasks      | elapsed:   41.9s\n",
      "[Parallel(n_jobs=-2)]: Done  58 tasks      | elapsed:   52.9s\n",
      "[Parallel(n_jobs=-2)]: Done  71 tasks      | elapsed:  1.1min\n",
      "[Parallel(n_jobs=-2)]: Done  84 tasks      | elapsed:  1.2min\n",
      "[Parallel(n_jobs=-2)]: Done  99 tasks      | elapsed:  1.5min\n",
      "[Parallel(n_jobs=-2)]: Done 114 tasks      | elapsed:  1.7min\n",
      "[Parallel(n_jobs=-2)]: Done 131 tasks      | elapsed:  1.9min\n",
      "[Parallel(n_jobs=-2)]: Done 148 tasks      | elapsed:  2.1min\n"
     ]
    },
    {
     "name": "stdout",
     "output_type": "stream",
     "text": [
      "Not setting metadata\n"
     ]
    },
    {
     "name": "stderr",
     "output_type": "stream",
     "text": [
      "[Parallel(n_jobs=-2)]: Done 177 out of 177 | elapsed:  2.5min finished\n"
     ]
    },
    {
     "name": "stdout",
     "output_type": "stream",
     "text": [
      "Used Annotations descriptions: ['Response/c25/n25', 'Response/c25/r25', 'Response/c25/r75', 'Response/c25/s25', 'Response/c25/s75', 'Response/c75/r25', 'Response/c75/r75', 'Response/c75/s25', 'Response/c75/s75', 'Response/i25/r25', 'Response/i25/r75', 'Response/i25/s25', 'Response/i25/s75', 'Response/i75/n25', 'Response/i75/n75', 'Response/i75/r25', 'Response/i75/r75', 'Response/i75/s25', 'Response/i75/s75', 'Stimulus/c25/n25', 'Stimulus/c25/r25', 'Stimulus/c25/r75', 'Stimulus/c25/s25', 'Stimulus/c25/s75', 'Stimulus/c75/r25', 'Stimulus/c75/r75', 'Stimulus/c75/s25', 'Stimulus/c75/s75', 'Stimulus/i25/n75', 'Stimulus/i25/r25', 'Stimulus/i25/r75', 'Stimulus/i25/s25', 'Stimulus/i25/s75', 'Stimulus/i75/n25', 'Stimulus/i75/n75', 'Stimulus/i75/r25', 'Stimulus/i75/r75', 'Stimulus/i75/s25', 'Stimulus/i75/s75', 'experimentStart']\n",
      "Not setting metadata\n",
      "448 matching events found\n",
      "No baseline correction applied\n",
      "0 projection items activated\n",
      "Using data from preloaded Raw for 448 events and 8193 original time points ...\n",
      "0 bad epochs dropped\n",
      "all_trials:  [<Epochs |  448 events (all good), -1.5 – 2.5 s, baseline off, ~4.79 GB, data loaded,\n",
      " 'Stimulus/c25/n25': 1\n",
      " 'Stimulus/c25/r25': 63\n",
      " 'Stimulus/c25/r75': 23\n",
      " 'Stimulus/c25/s25': 20\n",
      " 'Stimulus/c25/s75': 61\n",
      " 'Stimulus/c75/r25': 24\n",
      " 'Stimulus/c75/r75': 11\n",
      " 'Stimulus/c75/s25': 4\n",
      " 'Stimulus/c75/s75': 17\n",
      " 'Stimulus/i25/n75': 1\n",
      " and 10 more events ...>]\n"
     ]
    },
    {
     "name": "stderr",
     "output_type": "stream",
     "text": [
      "C:\\Users\\jz421\\AppData\\Local\\Temp\\ipykernel_12356\\2318427713.py:114: RuntimeWarning: Concatenation of Annotations within Epochs is not supported yet. All annotations will be dropped.\n",
      "  combined_trials = mne.concatenate_epochs(all_trials)\n"
     ]
    },
    {
     "name": "stdout",
     "output_type": "stream",
     "text": [
      "Not setting metadata\n",
      "448 matching events found\n",
      "No baseline correction applied\n",
      "combined_trials:  <EpochsArray |  448 events (all good), -1.5 – 2.5 s, baseline off, ~4.79 GB, data loaded,\n",
      " 'Stimulus/c25/n25': 1\n",
      " 'Stimulus/c25/r25': 63\n",
      " 'Stimulus/c25/r75': 23\n",
      " 'Stimulus/c25/s25': 20\n",
      " 'Stimulus/c25/s75': 61\n",
      " 'Stimulus/c75/r25': 24\n",
      " 'Stimulus/c75/r75': 11\n",
      " 'Stimulus/c75/s25': 4\n",
      " 'Stimulus/c75/s75': 17\n",
      " 'Stimulus/i25/n75': 1\n",
      " and 10 more events ...>\n"
     ]
    },
    {
     "name": "stderr",
     "output_type": "stream",
     "text": [
      "[Parallel(n_jobs=-2)]: Using backend ThreadingBackend with 7 concurrent workers.\n",
      "[Parallel(n_jobs=-2)]: Done   4 tasks      | elapsed:  1.2min\n",
      "[Parallel(n_jobs=-2)]: Done  11 tasks      | elapsed:  1.6min\n",
      "[Parallel(n_jobs=-2)]: Done  18 tasks      | elapsed:  2.0min\n",
      "[Parallel(n_jobs=-2)]: Done  27 tasks      | elapsed:  2.5min\n",
      "[Parallel(n_jobs=-2)]: Done  36 tasks      | elapsed:  3.3min\n",
      "[Parallel(n_jobs=-2)]: Done  47 tasks      | elapsed:  3.8min\n",
      "[Parallel(n_jobs=-2)]: Done  58 tasks      | elapsed:  4.6min\n",
      "[Parallel(n_jobs=-2)]: Done  71 tasks      | elapsed:  5.3min\n",
      "[Parallel(n_jobs=-2)]: Done  84 tasks      | elapsed:  6.0min\n",
      "[Parallel(n_jobs=-2)]: Done  99 tasks      | elapsed:  6.9min\n",
      "[Parallel(n_jobs=-2)]: Done 114 tasks      | elapsed:  7.7min\n",
      "[Parallel(n_jobs=-2)]: Done 131 tasks      | elapsed:  8.9min\n",
      "[Parallel(n_jobs=-2)]: Done 148 tasks      | elapsed:  9.9min\n"
     ]
    },
    {
     "name": "stdout",
     "output_type": "stream",
     "text": [
      "Not setting metadata\n"
     ]
    },
    {
     "name": "stderr",
     "output_type": "stream",
     "text": [
      "[Parallel(n_jobs=-2)]: Done 174 out of 174 | elapsed: 11.3min finished\n"
     ]
    },
    {
     "name": "stdout",
     "output_type": "stream",
     "text": [
      "Applying baseline correction (mode: ratio)\n"
     ]
    },
    {
     "name": "stderr",
     "output_type": "stream",
     "text": [
      "C:\\Users\\jz421\\Desktop\\GlobalLocal\\IEEG_Pipelines\\ieeg\\calc\\scaling.py:87: RuntimeWarning: Mean of empty slice\n",
      "  mean = np.nanmean(basedata, axis=axis, keepdims=True)\n",
      "c:\\Users\\jz421\\AppData\\Local\\anaconda3\\envs\\ieeg\\Lib\\site-packages\\numpy\\lib\\nanfunctions.py:1872: RuntimeWarning: Degrees of freedom <= 0 for slice.\n",
      "  var = nanvar(a, axis=axis, dtype=dtype, out=out, ddof=ddof,\n"
     ]
    },
    {
     "ename": "ValueError",
     "evalue": "operands could not be broadcast together with shapes (448,175,46,306) (1,178,46,1) (448,175,46,306) ",
     "output_type": "error",
     "traceback": [
      "\u001b[1;31m---------------------------------------------------------------------------\u001b[0m",
      "\u001b[1;31mValueError\u001b[0m                                Traceback (most recent call last)",
      "\u001b[1;32mc:\\Users\\jz421\\Desktop\\GlobalLocal\\copy_wavelet_spec.ipynb Cell 10\u001b[0m line \u001b[0;36m1\n\u001b[0;32m    <a href='vscode-notebook-cell:/c%3A/Users/jz421/Desktop/GlobalLocal/copy_wavelet_spec.ipynb#X12sZmlsZQ%3D%3D?line=117'>118</a>\u001b[0m spec \u001b[39m=\u001b[39m wavelet_scaleogram(combined_trials, n_jobs\u001b[39m=\u001b[39m\u001b[39m-\u001b[39m\u001b[39m2\u001b[39m, decim\u001b[39m=\u001b[39m\u001b[39mint\u001b[39m(good\u001b[39m.\u001b[39minfo[\u001b[39m'\u001b[39m\u001b[39msfreq\u001b[39m\u001b[39m'\u001b[39m] \u001b[39m/\u001b[39m \u001b[39m100\u001b[39m))\n\u001b[0;32m    <a href='vscode-notebook-cell:/c%3A/Users/jz421/Desktop/GlobalLocal/copy_wavelet_spec.ipynb#X12sZmlsZQ%3D%3D?line=118'>119</a>\u001b[0m crop_pad(spec, \u001b[39m\"\u001b[39m\u001b[39m0.5s\u001b[39m\u001b[39m\"\u001b[39m)\n\u001b[1;32m--> <a href='vscode-notebook-cell:/c%3A/Users/jz421/Desktop/GlobalLocal/copy_wavelet_spec.ipynb#X12sZmlsZQ%3D%3D?line=119'>120</a>\u001b[0m spec_a \u001b[39m=\u001b[39m rescale(spec, base, copy\u001b[39m=\u001b[39;49m\u001b[39mTrue\u001b[39;49;00m, mode\u001b[39m=\u001b[39;49m\u001b[39m'\u001b[39;49m\u001b[39mratio\u001b[39;49m\u001b[39m'\u001b[39;49m)\u001b[39m.\u001b[39maverage(\u001b[39mlambda\u001b[39;00m x: np\u001b[39m.\u001b[39mnanmean(x, axis\u001b[39m=\u001b[39m\u001b[39m0\u001b[39m), copy\u001b[39m=\u001b[39m\u001b[39mTrue\u001b[39;00m)\n\u001b[0;32m    <a href='vscode-notebook-cell:/c%3A/Users/jz421/Desktop/GlobalLocal/copy_wavelet_spec.ipynb#X12sZmlsZQ%3D%3D?line=120'>121</a>\u001b[0m spec_a\u001b[39m.\u001b[39m_data \u001b[39m=\u001b[39m np\u001b[39m.\u001b[39mlog10(spec_a\u001b[39m.\u001b[39m_data) \u001b[39m*\u001b[39m \u001b[39m20\u001b[39m\n\u001b[0;32m    <a href='vscode-notebook-cell:/c%3A/Users/jz421/Desktop/GlobalLocal/copy_wavelet_spec.ipynb#X12sZmlsZQ%3D%3D?line=121'>122</a>\u001b[0m fnames \u001b[39m=\u001b[39m [os\u001b[39m.\u001b[39mpath\u001b[39m.\u001b[39mrelpath(f, layout\u001b[39m.\u001b[39mroot) \u001b[39mfor\u001b[39;00m f \u001b[39min\u001b[39;00m good\u001b[39m.\u001b[39mfilenames]\n",
      "File \u001b[1;32mc:\\Users\\jz421\\AppData\\Local\\anaconda3\\envs\\ieeg\\Lib\\functools.py:909\u001b[0m, in \u001b[0;36msingledispatch.<locals>.wrapper\u001b[1;34m(*args, **kw)\u001b[0m\n\u001b[0;32m    905\u001b[0m \u001b[39mif\u001b[39;00m \u001b[39mnot\u001b[39;00m args:\n\u001b[0;32m    906\u001b[0m     \u001b[39mraise\u001b[39;00m \u001b[39mTypeError\u001b[39;00m(\u001b[39mf\u001b[39m\u001b[39m'\u001b[39m\u001b[39m{\u001b[39;00mfuncname\u001b[39m}\u001b[39;00m\u001b[39m requires at least \u001b[39m\u001b[39m'\u001b[39m\n\u001b[0;32m    907\u001b[0m                     \u001b[39m'\u001b[39m\u001b[39m1 positional argument\u001b[39m\u001b[39m'\u001b[39m)\n\u001b[1;32m--> 909\u001b[0m \u001b[39mreturn\u001b[39;00m dispatch(args[\u001b[39m0\u001b[39;49m]\u001b[39m.\u001b[39;49m\u001b[39m__class__\u001b[39;49m)(\u001b[39m*\u001b[39;49margs, \u001b[39m*\u001b[39;49m\u001b[39m*\u001b[39;49mkw)\n",
      "File \u001b[1;32m<decorator-gen-653>:12\u001b[0m, in \u001b[0;36m_\u001b[1;34m(line, baseline, mode, copy, picks, verbose)\u001b[0m\n",
      "File \u001b[1;32m~\\Desktop\\GlobalLocal\\IEEG_Pipelines\\ieeg\\calc\\scaling.py:152\u001b[0m, in \u001b[0;36m_\u001b[1;34m(line, baseline, mode, copy, picks, verbose)\u001b[0m\n\u001b[0;32m    149\u001b[0m \u001b[39melse\u001b[39;00m:\n\u001b[0;32m    150\u001b[0m     axes \u001b[39m=\u001b[39m \u001b[39mtuple\u001b[39m(axes)\n\u001b[1;32m--> 152\u001b[0m line\u001b[39m.\u001b[39mpick(picks)\u001b[39m.\u001b[39m_data \u001b[39m=\u001b[39m rescale(line\u001b[39m.\u001b[39;49mpick(picks)\u001b[39m.\u001b[39;49m_data, basedata, mode,\n\u001b[0;32m    153\u001b[0m                                  \u001b[39mFalse\u001b[39;49;00m, axes)\n\u001b[0;32m    154\u001b[0m \u001b[39mreturn\u001b[39;00m line\n",
      "File \u001b[1;32mc:\\Users\\jz421\\AppData\\Local\\anaconda3\\envs\\ieeg\\Lib\\functools.py:909\u001b[0m, in \u001b[0;36msingledispatch.<locals>.wrapper\u001b[1;34m(*args, **kw)\u001b[0m\n\u001b[0;32m    905\u001b[0m \u001b[39mif\u001b[39;00m \u001b[39mnot\u001b[39;00m args:\n\u001b[0;32m    906\u001b[0m     \u001b[39mraise\u001b[39;00m \u001b[39mTypeError\u001b[39;00m(\u001b[39mf\u001b[39m\u001b[39m'\u001b[39m\u001b[39m{\u001b[39;00mfuncname\u001b[39m}\u001b[39;00m\u001b[39m requires at least \u001b[39m\u001b[39m'\u001b[39m\n\u001b[0;32m    907\u001b[0m                     \u001b[39m'\u001b[39m\u001b[39m1 positional argument\u001b[39m\u001b[39m'\u001b[39m)\n\u001b[1;32m--> 909\u001b[0m \u001b[39mreturn\u001b[39;00m dispatch(args[\u001b[39m0\u001b[39;49m]\u001b[39m.\u001b[39;49m\u001b[39m__class__\u001b[39;49m)(\u001b[39m*\u001b[39;49margs, \u001b[39m*\u001b[39;49m\u001b[39m*\u001b[39;49mkw)\n",
      "File \u001b[1;32m~\\Desktop\\GlobalLocal\\IEEG_Pipelines\\ieeg\\calc\\scaling.py:89\u001b[0m, in \u001b[0;36mrescale\u001b[1;34m(data, basedata, mode, copy, axis)\u001b[0m\n\u001b[0;32m     87\u001b[0m mean \u001b[39m=\u001b[39m np\u001b[39m.\u001b[39mnanmean(basedata, axis\u001b[39m=\u001b[39maxis, keepdims\u001b[39m=\u001b[39m\u001b[39mTrue\u001b[39;00m)\n\u001b[0;32m     88\u001b[0m std \u001b[39m=\u001b[39m np\u001b[39m.\u001b[39mnanstd(basedata, axis\u001b[39m=\u001b[39maxis, keepdims\u001b[39m=\u001b[39m\u001b[39mTrue\u001b[39;00m)\n\u001b[1;32m---> 89\u001b[0m fun(data, mean, std)\n\u001b[0;32m     90\u001b[0m \u001b[39mreturn\u001b[39;00m data\n",
      "File \u001b[1;32m~\\Desktop\\GlobalLocal\\IEEG_Pipelines\\ieeg\\calc\\scaling.py:67\u001b[0m, in \u001b[0;36mrescale.<locals>.fun\u001b[1;34m(d, m, s)\u001b[0m\n\u001b[0;32m     66\u001b[0m \u001b[39mdef\u001b[39;00m \u001b[39mfun\u001b[39m(d, m, s):\n\u001b[1;32m---> 67\u001b[0m     d \u001b[39m/\u001b[39;49m\u001b[39m=\u001b[39;49m m\n",
      "\u001b[1;31mValueError\u001b[0m: operands could not be broadcast together with shapes (448,175,46,306) (1,178,46,1) (448,175,46,306) "
     ]
    }
   ],
   "source": [
    "import mne.time_frequency\n",
    "import mne\n",
    "from ieeg.io import get_data, raw_from_layout\n",
    "from ieeg.navigate import trial_ieeg, channel_outlier_marker, crop_empty_data, outliers_to_nan\n",
    "from ieeg.calc.scaling import rescale\n",
    "import os\n",
    "from ieeg.timefreq.utils import wavelet_scaleogram, crop_pad\n",
    "import numpy as np\n",
    "from misc_functions import calculate_RTs\n",
    "\n",
    "HOME = os.path.expanduser(\"~\")\n",
    "\n",
    "# get box directory depending on OS\n",
    "if os.name == 'nt': # windows\n",
    "    LAB_root = os.path.join(HOME, \"Box\", \"CoganLab\")\n",
    "else: # mac\n",
    "    LAB_root = os.path.join(HOME, \"Library\", \"CloudStorage\", \"Box-Box\", \"CoganLab\")\n",
    "\n",
    "layout = get_data(\"GlobalLocal\", root=LAB_root)\n",
    "layout = get_data(\"GlobalLocal\", root=LAB_root)\n",
    "\n",
    "def get_wavelet_baseline(inst: mne.io.BaseRaw, base_times: tuple[float, float]):\n",
    "    inst = inst.copy()\n",
    "    inst.load_data()\n",
    "    ch_type = inst.get_channel_types(only_data_chs=True)[0]\n",
    "    inst.set_eeg_reference(ref_channels=\"average\", ch_type=ch_type)\n",
    "\n",
    "    adjusted_base_times = [base_times[0] - 0.5, base_times[1] + 0.5]\n",
    "    trials = trial_ieeg(inst, \"experimentStart\", adjusted_base_times, preload=True)\n",
    "    outliers_to_nan(trials, outliers=10)\n",
    "    base = wavelet_scaleogram(trials, n_jobs=-2, decim=int(inst.info['sfreq'] / 100))\n",
    "    crop_pad(base, \"0.5s\")\n",
    "    del inst\n",
    "    return base\n",
    "\n",
    "def make_wavelets(sub, task, output_name, event=None, times=(-1, 2), base_times=(1,101), LAB_root=None):\n",
    "    \"\"\"\n",
    "    Generate wavelets for a given subject and task using specified events.\n",
    "    \n",
    "    Parameters:\n",
    "    - sub (str): The subject identifier.\n",
    "    - task (str): The task identifier.\n",
    "    - event (str, optional): The event to process. Defaults to None.\n",
    "    - times (tuple, optional): A tuple indicating the start and end times for processing. Defaults to (-1, 2).\n",
    "    - base_times (tuple, optional): A tuple indicating the start and end base times for processing. Defaults to (-0.5, 0).\n",
    "    - LAB_root (str, optional): The root directory for the lab. Will be determined based on OS if not provided. Defaults to None.\n",
    "    - output_name (str): The name for the output files.\n",
    "    \n",
    "    Returns:\n",
    "    - spec_a: Processed data after generating wavelets.\n",
    "    \n",
    "    This function will process the provided events for a given subject and task. \n",
    "    Wavelets will be generated for the events and the results will be saved to output files.\n",
    "    \"\"\"\n",
    "\n",
    "sub='D0057'\n",
    "task=\"GlobalLocal\"\n",
    "output_name=\"experimentStartBase_Stimulus\"\n",
    "event=\"Stimulus\"\n",
    "times=(-1, 2)\n",
    "base_times=(1,101)\n",
    "# Check if LAB_root is provided. If not, determine based on OS.\n",
    "if LAB_root is None:\n",
    "    HOME = os.path.expanduser(\"~\")\n",
    "    if os.name == 'nt': # windows\n",
    "        LAB_root = os.path.join(HOME, \"Box\", \"CoganLab\")\n",
    "    else: # mac\n",
    "        LAB_root = os.path.join(HOME, \"Library\", \"CloudStorage\", \"Box-Box\", \"CoganLab\")\n",
    "\n",
    "layout = get_data(task, root=LAB_root)\n",
    "\n",
    "# Load the data\n",
    "filt = raw_from_layout(layout.derivatives['derivatives/clean'], subject=sub, extension='.edf', desc='clean', preload=False)\n",
    "\n",
    "# Crop raw data to minimize processing time\n",
    "good = crop_empty_data(filt)\n",
    "good.info['bads'] = channel_outlier_marker(good, 3, 2)\n",
    "good.drop_channels(good.info['bads'])\n",
    "good.load_data()\n",
    "\n",
    "ch_type = filt.get_channel_types(only_data_chs=True)[0]\n",
    "good.set_eeg_reference(ref_channels=\"average\", ch_type=ch_type)\n",
    "\n",
    "good.plot()\n",
    "\n",
    "# Epoching and trial outlier removal\n",
    "save_dir = os.path.join(layout.root, 'derivatives', 'spec', 'wavelet', sub)\n",
    "if not os.path.exists(save_dir):\n",
    "    os.makedirs(save_dir)\n",
    "\n",
    "RTs, skipped = calculate_RTs(good)\n",
    "avg_RT = np.median(RTs)\n",
    "\n",
    "# Adjust base_times for padding\n",
    "adjusted_base_times = [base_times[0] - 0.5, base_times[1] + 0.5]\n",
    "\n",
    "base = get_wavelet_baseline(filt, base_times)\n",
    "# # Make stimulus baseline EpochsTFR\n",
    "# trials = trial_ieeg(good, \"Stimulus\", adjusted_base_times, preload=True)\n",
    "# outliers_to_nan(trials, outliers=10)\n",
    "# base = wavelet_scaleogram(trials, n_jobs=-2, decim=int(good.info['sfreq'] / 100))\n",
    "# crop_pad(base, \"0.5s\")\n",
    "\n",
    "all_trials = []\n",
    "\n",
    "# Adjust times for padding\n",
    "times = [times[0] - 0.5, times[1] + 0.5]\n",
    "trials = trial_ieeg(good, event, times, preload=True)\n",
    "all_trials.append(trials)\n",
    "    \n",
    "print(\"all_trials: \", all_trials)\n",
    "\n",
    "# concatenate all trials\n",
    "combined_trials = mne.concatenate_epochs(all_trials)\n",
    "print(\"combined_trials: \", combined_trials)\n",
    "\n",
    "outliers_to_nan(combined_trials, outliers=10)\n",
    "spec = wavelet_scaleogram(combined_trials, n_jobs=-2, decim=int(good.info['sfreq'] / 100))\n",
    "crop_pad(spec, \"0.5s\")\n",
    "spec_a = rescale(spec, base, copy=True, mode='ratio').average(lambda x: np.nanmean(x, axis=0), copy=True)\n",
    "spec_a._data = np.log10(spec_a._data) * 20\n",
    "fnames = [os.path.relpath(f, layout.root) for f in good.filenames]\n",
    "spec_a.info['subject_info']['files'] = tuple(fnames)\n",
    "spec_a.info['bads'] = good.info['bads']\n",
    "filename = os.path.join(save_dir, f'{output_name}-tfr.h5')\n",
    "mne.time_frequency.write_tfrs(filename, spec_a, overwrite=True)\n",
    "spec_a.save(os.path.join(save_dir, f'{output_name}-avg.fif'), overwrite=True)\n",
    "    \n",
    "    # return spec_a  # Optional: Return the processed data for further use.\n"
   ]
  },
  {
   "cell_type": "code",
   "execution_count": 4,
   "metadata": {},
   "outputs": [
    {
     "name": "stdout",
     "output_type": "stream",
     "text": [
      "Extracting EDF parameters from C:\\Users\\jz421\\Box\\CoganLab\\BIDS-1.1_GlobalLocal\\BIDS\\derivatives\\clean\\sub-D0057\\ieeg\\sub-D0057_task-GlobalLocal_acq-01_run-01_desc-clean_ieeg.edf...\n",
      "EDF file detected\n",
      "Setting channel info structure...\n",
      "Creating raw.info structure...\n",
      "Reading events from C:\\Users\\jz421\\Box\\CoganLab\\BIDS-1.1_GlobalLocal\\BIDS\\derivatives\\clean\\sub-D0057\\ieeg\\sub-D0057_task-GlobalLocal_acq-01_run-01_desc-clean_events.tsv.\n",
      "Reading channel info from C:\\Users\\jz421\\Box\\CoganLab\\BIDS-1.1_GlobalLocal\\BIDS\\derivatives\\clean\\sub-D0057\\ieeg\\sub-D0057_task-GlobalLocal_acq-01_run-01_desc-clean_channels.tsv.\n",
      "Reading electrode coords from C:\\Users\\jz421\\Box\\CoganLab\\BIDS-1.1_GlobalLocal\\BIDS\\derivatives\\clean\\sub-D0057\\ieeg\\sub-D0057_acq-01_space-ACPC_electrodes.tsv.\n",
      "Extracting EDF parameters from C:\\Users\\jz421\\Box\\CoganLab\\BIDS-1.1_GlobalLocal\\BIDS\\derivatives\\clean\\sub-D0057\\ieeg\\sub-D0057_task-GlobalLocal_acq-01_run-02_desc-clean_ieeg.edf...\n",
      "EDF file detected\n",
      "Setting channel info structure...\n",
      "Creating raw.info structure...\n"
     ]
    },
    {
     "name": "stderr",
     "output_type": "stream",
     "text": [
      "C:\\Users\\jz421\\Desktop\\GlobalLocal\\IEEG_Pipelines\\ieeg\\io.py:113: RuntimeWarning: The number of channels in the channels.tsv sidecar file (179) does not match the number of channels in the raw data file (178). Will not try to set channel names.\n",
      "  new_raw = read_raw_bids(bids_path=BIDS_path, verbose=verbose)\n",
      "C:\\Users\\jz421\\Desktop\\GlobalLocal\\IEEG_Pipelines\\ieeg\\io.py:113: RuntimeWarning: Cannot set channel type for the following channels, as they are missing in the raw data: Trigger\n",
      "  new_raw = read_raw_bids(bids_path=BIDS_path, verbose=verbose)\n"
     ]
    },
    {
     "name": "stdout",
     "output_type": "stream",
     "text": [
      "Reading events from C:\\Users\\jz421\\Box\\CoganLab\\BIDS-1.1_GlobalLocal\\BIDS\\derivatives\\clean\\sub-D0057\\ieeg\\sub-D0057_task-GlobalLocal_acq-01_run-02_desc-clean_events.tsv.\n",
      "Reading channel info from C:\\Users\\jz421\\Box\\CoganLab\\BIDS-1.1_GlobalLocal\\BIDS\\derivatives\\clean\\sub-D0057\\ieeg\\sub-D0057_task-GlobalLocal_acq-01_run-02_desc-clean_channels.tsv.\n",
      "Reading electrode coords from C:\\Users\\jz421\\Box\\CoganLab\\BIDS-1.1_GlobalLocal\\BIDS\\derivatives\\clean\\sub-D0057\\ieeg\\sub-D0057_acq-01_space-ACPC_electrodes.tsv.\n",
      "Extracting EDF parameters from C:\\Users\\jz421\\Box\\CoganLab\\BIDS-1.1_GlobalLocal\\BIDS\\derivatives\\clean\\sub-D0057\\ieeg\\sub-D0057_task-GlobalLocal_acq-01_run-03_desc-clean_ieeg.edf...\n",
      "EDF file detected\n",
      "Setting channel info structure...\n",
      "Creating raw.info structure...\n"
     ]
    },
    {
     "name": "stderr",
     "output_type": "stream",
     "text": [
      "C:\\Users\\jz421\\Desktop\\GlobalLocal\\IEEG_Pipelines\\ieeg\\io.py:113: RuntimeWarning: Omitted 228 annotation(s) that were outside data range.\n",
      "  new_raw = read_raw_bids(bids_path=BIDS_path, verbose=verbose)\n",
      "C:\\Users\\jz421\\Desktop\\GlobalLocal\\IEEG_Pipelines\\ieeg\\io.py:113: RuntimeWarning: The number of channels in the channels.tsv sidecar file (179) does not match the number of channels in the raw data file (178). Will not try to set channel names.\n",
      "  new_raw = read_raw_bids(bids_path=BIDS_path, verbose=verbose)\n",
      "C:\\Users\\jz421\\Desktop\\GlobalLocal\\IEEG_Pipelines\\ieeg\\io.py:113: RuntimeWarning: Cannot set channel type for the following channels, as they are missing in the raw data: Trigger\n",
      "  new_raw = read_raw_bids(bids_path=BIDS_path, verbose=verbose)\n"
     ]
    },
    {
     "name": "stdout",
     "output_type": "stream",
     "text": [
      "Reading events from C:\\Users\\jz421\\Box\\CoganLab\\BIDS-1.1_GlobalLocal\\BIDS\\derivatives\\clean\\sub-D0057\\ieeg\\sub-D0057_task-GlobalLocal_acq-01_run-03_desc-clean_events.tsv.\n",
      "Reading channel info from C:\\Users\\jz421\\Box\\CoganLab\\BIDS-1.1_GlobalLocal\\BIDS\\derivatives\\clean\\sub-D0057\\ieeg\\sub-D0057_task-GlobalLocal_acq-01_run-03_desc-clean_channels.tsv.\n",
      "Reading electrode coords from C:\\Users\\jz421\\Box\\CoganLab\\BIDS-1.1_GlobalLocal\\BIDS\\derivatives\\clean\\sub-D0057\\ieeg\\sub-D0057_acq-01_space-ACPC_electrodes.tsv.\n",
      "Extracting EDF parameters from C:\\Users\\jz421\\Box\\CoganLab\\BIDS-1.1_GlobalLocal\\BIDS\\derivatives\\clean\\sub-D0057\\ieeg\\sub-D0057_task-GlobalLocal_acq-01_run-04_desc-clean_ieeg.edf...\n",
      "EDF file detected\n",
      "Setting channel info structure...\n",
      "Creating raw.info structure...\n"
     ]
    },
    {
     "name": "stderr",
     "output_type": "stream",
     "text": [
      "C:\\Users\\jz421\\Desktop\\GlobalLocal\\IEEG_Pipelines\\ieeg\\io.py:113: RuntimeWarning: Omitted 228 annotation(s) that were outside data range.\n",
      "  new_raw = read_raw_bids(bids_path=BIDS_path, verbose=verbose)\n",
      "C:\\Users\\jz421\\Desktop\\GlobalLocal\\IEEG_Pipelines\\ieeg\\io.py:113: RuntimeWarning: The number of channels in the channels.tsv sidecar file (179) does not match the number of channels in the raw data file (178). Will not try to set channel names.\n",
      "  new_raw = read_raw_bids(bids_path=BIDS_path, verbose=verbose)\n",
      "C:\\Users\\jz421\\Desktop\\GlobalLocal\\IEEG_Pipelines\\ieeg\\io.py:113: RuntimeWarning: Cannot set channel type for the following channels, as they are missing in the raw data: Trigger\n",
      "  new_raw = read_raw_bids(bids_path=BIDS_path, verbose=verbose)\n"
     ]
    },
    {
     "name": "stdout",
     "output_type": "stream",
     "text": [
      "Reading events from C:\\Users\\jz421\\Box\\CoganLab\\BIDS-1.1_GlobalLocal\\BIDS\\derivatives\\clean\\sub-D0057\\ieeg\\sub-D0057_task-GlobalLocal_acq-01_run-04_desc-clean_events.tsv.\n",
      "Reading channel info from C:\\Users\\jz421\\Box\\CoganLab\\BIDS-1.1_GlobalLocal\\BIDS\\derivatives\\clean\\sub-D0057\\ieeg\\sub-D0057_task-GlobalLocal_acq-01_run-04_desc-clean_channels.tsv.\n",
      "Reading electrode coords from C:\\Users\\jz421\\Box\\CoganLab\\BIDS-1.1_GlobalLocal\\BIDS\\derivatives\\clean\\sub-D0057\\ieeg\\sub-D0057_acq-01_space-ACPC_electrodes.tsv.\n"
     ]
    },
    {
     "name": "stderr",
     "output_type": "stream",
     "text": [
      "C:\\Users\\jz421\\Desktop\\GlobalLocal\\IEEG_Pipelines\\ieeg\\io.py:113: RuntimeWarning: Omitted 226 annotation(s) that were outside data range.\n",
      "  new_raw = read_raw_bids(bids_path=BIDS_path, verbose=verbose)\n",
      "C:\\Users\\jz421\\Desktop\\GlobalLocal\\IEEG_Pipelines\\ieeg\\io.py:113: RuntimeWarning: The number of channels in the channels.tsv sidecar file (179) does not match the number of channels in the raw data file (178). Will not try to set channel names.\n",
      "  new_raw = read_raw_bids(bids_path=BIDS_path, verbose=verbose)\n",
      "C:\\Users\\jz421\\Desktop\\GlobalLocal\\IEEG_Pipelines\\ieeg\\io.py:113: RuntimeWarning: Cannot set channel type for the following channels, as they are missing in the raw data: Trigger\n",
      "  new_raw = read_raw_bids(bids_path=BIDS_path, verbose=verbose)\n"
     ]
    },
    {
     "name": "stdout",
     "output_type": "stream",
     "text": [
      "outlier round 1 channels: ['RAMT8']\n",
      "outlier round 2 channels: ['RAMT8', 'RPI16']\n",
      "outlier round 2 channels: ['RAMT8', 'RPI16', 'LAMT12']\n",
      "Reading 0 ... 5983997  =      0.000 ...  2921.874 secs...\n",
      "Applying average reference.\n",
      "Applying a custom ('sEEG',) reference.\n",
      "Reading 0 ... 8243199  =      0.000 ...  4025.000 secs...\n",
      "Applying average reference.\n",
      "Applying a custom ('sEEG',) reference.\n",
      "Used Annotations descriptions: ['Response/c25/n25', 'Response/c25/r25', 'Response/c25/r75', 'Response/c25/s25', 'Response/c25/s75', 'Response/c75/r25', 'Response/c75/r75', 'Response/c75/s25', 'Response/c75/s75', 'Response/i25/r25', 'Response/i25/r75', 'Response/i25/s25', 'Response/i25/s75', 'Response/i75/n25', 'Response/i75/n75', 'Response/i75/r25', 'Response/i75/r75', 'Response/i75/s25', 'Response/i75/s75', 'Stimulus/c25/n25', 'Stimulus/c25/r25', 'Stimulus/c25/r75', 'Stimulus/c25/s25', 'Stimulus/c25/s75', 'Stimulus/c75/r25', 'Stimulus/c75/r75', 'Stimulus/c75/s25', 'Stimulus/c75/s75', 'Stimulus/i25/n75', 'Stimulus/i25/r25', 'Stimulus/i25/r75', 'Stimulus/i25/s25', 'Stimulus/i25/s75', 'Stimulus/i75/n25', 'Stimulus/i75/n75', 'Stimulus/i75/r25', 'Stimulus/i75/r75', 'Stimulus/i75/s25', 'Stimulus/i75/s75', 'experimentStart']\n",
      "Not setting metadata\n",
      "1 matching events found\n",
      "No baseline correction applied\n",
      "0 projection items activated\n",
      "Using data from preloaded Raw for 1 events and 206849 original time points ...\n",
      "0 bad epochs dropped\n"
     ]
    },
    {
     "name": "stderr",
     "output_type": "stream",
     "text": [
      "[Parallel(n_jobs=-2)]: Using backend ThreadingBackend with 7 concurrent workers.\n",
      "[Parallel(n_jobs=-2)]: Done   4 tasks      | elapsed:    5.8s\n",
      "[Parallel(n_jobs=-2)]: Done  11 tasks      | elapsed:   11.7s\n",
      "[Parallel(n_jobs=-2)]: Done  18 tasks      | elapsed:   17.7s\n",
      "[Parallel(n_jobs=-2)]: Done  27 tasks      | elapsed:   23.7s\n",
      "[Parallel(n_jobs=-2)]: Done  36 tasks      | elapsed:   35.5s\n",
      "[Parallel(n_jobs=-2)]: Done  47 tasks      | elapsed:   41.6s\n",
      "[Parallel(n_jobs=-2)]: Done  58 tasks      | elapsed:   53.3s\n",
      "[Parallel(n_jobs=-2)]: Done  71 tasks      | elapsed:  1.1min\n",
      "[Parallel(n_jobs=-2)]: Done  84 tasks      | elapsed:  1.2min\n",
      "[Parallel(n_jobs=-2)]: Done  99 tasks      | elapsed:  1.5min\n",
      "[Parallel(n_jobs=-2)]: Done 114 tasks      | elapsed:  1.7min\n",
      "[Parallel(n_jobs=-2)]: Done 131 tasks      | elapsed:  1.9min\n",
      "[Parallel(n_jobs=-2)]: Done 148 tasks      | elapsed:  2.1min\n"
     ]
    },
    {
     "name": "stdout",
     "output_type": "stream",
     "text": [
      "Not setting metadata\n"
     ]
    },
    {
     "name": "stderr",
     "output_type": "stream",
     "text": [
      "[Parallel(n_jobs=-2)]: Done 177 out of 177 | elapsed:  2.5min finished\n"
     ]
    },
    {
     "name": "stdout",
     "output_type": "stream",
     "text": [
      "Used Annotations descriptions: ['Response/c25/n25', 'Response/c25/r25', 'Response/c25/r75', 'Response/c25/s25', 'Response/c25/s75', 'Response/c75/r25', 'Response/c75/r75', 'Response/c75/s25', 'Response/c75/s75', 'Response/i25/r25', 'Response/i25/r75', 'Response/i25/s25', 'Response/i25/s75', 'Response/i75/n25', 'Response/i75/n75', 'Response/i75/r25', 'Response/i75/r75', 'Response/i75/s25', 'Response/i75/s75', 'Stimulus/c25/n25', 'Stimulus/c25/r25', 'Stimulus/c25/r75', 'Stimulus/c25/s25', 'Stimulus/c25/s75', 'Stimulus/c75/r25', 'Stimulus/c75/r75', 'Stimulus/c75/s25', 'Stimulus/c75/s75', 'Stimulus/i25/n75', 'Stimulus/i25/r25', 'Stimulus/i25/r75', 'Stimulus/i25/s25', 'Stimulus/i25/s75', 'Stimulus/i75/n25', 'Stimulus/i75/n75', 'Stimulus/i75/r25', 'Stimulus/i75/r75', 'Stimulus/i75/s25', 'Stimulus/i75/s75', 'experimentStart']\n",
      "Not setting metadata\n",
      "448 matching events found\n",
      "No baseline correction applied\n",
      "0 projection items activated\n",
      "Using data from preloaded Raw for 448 events and 8193 original time points ...\n",
      "0 bad epochs dropped\n",
      "all_trials:  [<Epochs |  448 events (all good), -1.5 – 2.5 s, baseline off, ~4.79 GB, data loaded,\n",
      " 'Stimulus/c25/n25': 1\n",
      " 'Stimulus/c25/r25': 63\n",
      " 'Stimulus/c25/r75': 23\n",
      " 'Stimulus/c25/s25': 20\n",
      " 'Stimulus/c25/s75': 61\n",
      " 'Stimulus/c75/r25': 24\n",
      " 'Stimulus/c75/r75': 11\n",
      " 'Stimulus/c75/s25': 4\n",
      " 'Stimulus/c75/s75': 17\n",
      " 'Stimulus/i25/n75': 1\n",
      " and 10 more events ...>]\n"
     ]
    },
    {
     "name": "stderr",
     "output_type": "stream",
     "text": [
      "C:\\Users\\jz421\\AppData\\Local\\Temp\\ipykernel_12356\\3340057974.py:97: RuntimeWarning: Concatenation of Annotations within Epochs is not supported yet. All annotations will be dropped.\n",
      "  combined_trials = mne.concatenate_epochs(all_trials)\n"
     ]
    },
    {
     "name": "stdout",
     "output_type": "stream",
     "text": [
      "Not setting metadata\n",
      "448 matching events found\n",
      "No baseline correction applied\n",
      "combined_trials:  <EpochsArray |  448 events (all good), -1.5 – 2.5 s, baseline off, ~4.79 GB, data loaded,\n",
      " 'Stimulus/c25/n25': 1\n",
      " 'Stimulus/c25/r25': 63\n",
      " 'Stimulus/c25/r75': 23\n",
      " 'Stimulus/c25/s25': 20\n",
      " 'Stimulus/c25/s75': 61\n",
      " 'Stimulus/c75/r25': 24\n",
      " 'Stimulus/c75/r75': 11\n",
      " 'Stimulus/c75/s25': 4\n",
      " 'Stimulus/c75/s75': 17\n",
      " 'Stimulus/i25/n75': 1\n",
      " and 10 more events ...>\n"
     ]
    },
    {
     "name": "stderr",
     "output_type": "stream",
     "text": [
      "[Parallel(n_jobs=-2)]: Using backend ThreadingBackend with 7 concurrent workers.\n",
      "[Parallel(n_jobs=-2)]: Done   4 tasks      | elapsed:   56.8s\n",
      "[Parallel(n_jobs=-2)]: Done  11 tasks      | elapsed:  1.4min\n",
      "[Parallel(n_jobs=-2)]: Done  18 tasks      | elapsed:  1.8min\n",
      "[Parallel(n_jobs=-2)]: Done  27 tasks      | elapsed:  2.3min\n",
      "[Parallel(n_jobs=-2)]: Done  36 tasks      | elapsed:  2.8min\n",
      "[Parallel(n_jobs=-2)]: Done  47 tasks      | elapsed:  3.5min\n",
      "[Parallel(n_jobs=-2)]: Done  58 tasks      | elapsed:  4.0min\n",
      "[Parallel(n_jobs=-2)]: Done  71 tasks      | elapsed:  4.8min\n",
      "[Parallel(n_jobs=-2)]: Done  84 tasks      | elapsed:  5.6min\n",
      "[Parallel(n_jobs=-2)]: Done  99 tasks      | elapsed:  6.5min\n",
      "[Parallel(n_jobs=-2)]: Done 114 tasks      | elapsed:  7.4min\n",
      "[Parallel(n_jobs=-2)]: Done 131 tasks      | elapsed:  8.3min\n",
      "[Parallel(n_jobs=-2)]: Done 148 tasks      | elapsed:  9.5min\n"
     ]
    },
    {
     "name": "stdout",
     "output_type": "stream",
     "text": [
      "Not setting metadata\n"
     ]
    },
    {
     "name": "stderr",
     "output_type": "stream",
     "text": [
      "[Parallel(n_jobs=-2)]: Done 174 out of 174 | elapsed: 10.8min finished\n"
     ]
    },
    {
     "name": "stdout",
     "output_type": "stream",
     "text": [
      "Applying baseline correction (mode: ratio)\n"
     ]
    },
    {
     "name": "stderr",
     "output_type": "stream",
     "text": [
      "C:\\Users\\jz421\\Desktop\\GlobalLocal\\IEEG_Pipelines\\ieeg\\calc\\scaling.py:87: RuntimeWarning: Mean of empty slice\n",
      "  mean = np.nanmean(basedata, axis=axis, keepdims=True)\n",
      "c:\\Users\\jz421\\AppData\\Local\\anaconda3\\envs\\ieeg\\Lib\\site-packages\\numpy\\lib\\nanfunctions.py:1872: RuntimeWarning: Degrees of freedom <= 0 for slice.\n",
      "  var = nanvar(a, axis=axis, dtype=dtype, out=out, ddof=ddof,\n"
     ]
    },
    {
     "ename": "ValueError",
     "evalue": "operands could not be broadcast together with shapes (448,175,46,306) (1,178,46,1) (448,175,46,306) ",
     "output_type": "error",
     "traceback": [
      "\u001b[1;31m---------------------------------------------------------------------------\u001b[0m",
      "\u001b[1;31mValueError\u001b[0m                                Traceback (most recent call last)",
      "\u001b[1;32mc:\\Users\\jz421\\Desktop\\GlobalLocal\\copy_wavelet_spec.ipynb Cell 11\u001b[0m line \u001b[0;36m1\n\u001b[1;32m----> <a href='vscode-notebook-cell:/c%3A/Users/jz421/Desktop/GlobalLocal/copy_wavelet_spec.ipynb#X13sZmlsZQ%3D%3D?line=0'>1</a>\u001b[0m spec_a \u001b[39m=\u001b[39m make_wavelets(sub\u001b[39m=\u001b[39;49m\u001b[39m'\u001b[39;49m\u001b[39mD0057\u001b[39;49m\u001b[39m'\u001b[39;49m, task\u001b[39m=\u001b[39;49m\u001b[39m\"\u001b[39;49m\u001b[39mGlobalLocal\u001b[39;49m\u001b[39m\"\u001b[39;49m, output_name\u001b[39m=\u001b[39;49m\u001b[39m\"\u001b[39;49m\u001b[39mexperimentStartBase_Stimulus\u001b[39;49m\u001b[39m\"\u001b[39;49m, event\u001b[39m=\u001b[39;49m\u001b[39m\"\u001b[39;49m\u001b[39mStimulus\u001b[39;49m\u001b[39m\"\u001b[39;49m, times\u001b[39m=\u001b[39;49m(\u001b[39m-\u001b[39;49m\u001b[39m1\u001b[39;49m, \u001b[39m2\u001b[39;49m))\n",
      "\u001b[1;32mc:\\Users\\jz421\\Desktop\\GlobalLocal\\copy_wavelet_spec.ipynb Cell 11\u001b[0m line \u001b[0;36m1\n\u001b[0;32m    <a href='vscode-notebook-cell:/c%3A/Users/jz421/Desktop/GlobalLocal/copy_wavelet_spec.ipynb#X13sZmlsZQ%3D%3D?line=100'>101</a>\u001b[0m spec \u001b[39m=\u001b[39m wavelet_scaleogram(combined_trials, n_jobs\u001b[39m=\u001b[39m\u001b[39m-\u001b[39m\u001b[39m2\u001b[39m, decim\u001b[39m=\u001b[39m\u001b[39mint\u001b[39m(good\u001b[39m.\u001b[39minfo[\u001b[39m'\u001b[39m\u001b[39msfreq\u001b[39m\u001b[39m'\u001b[39m] \u001b[39m/\u001b[39m \u001b[39m100\u001b[39m))\n\u001b[0;32m    <a href='vscode-notebook-cell:/c%3A/Users/jz421/Desktop/GlobalLocal/copy_wavelet_spec.ipynb#X13sZmlsZQ%3D%3D?line=101'>102</a>\u001b[0m crop_pad(spec, \u001b[39m\"\u001b[39m\u001b[39m0.5s\u001b[39m\u001b[39m\"\u001b[39m)\n\u001b[1;32m--> <a href='vscode-notebook-cell:/c%3A/Users/jz421/Desktop/GlobalLocal/copy_wavelet_spec.ipynb#X13sZmlsZQ%3D%3D?line=102'>103</a>\u001b[0m spec_a \u001b[39m=\u001b[39m rescale(spec, base, copy\u001b[39m=\u001b[39;49m\u001b[39mTrue\u001b[39;49;00m, mode\u001b[39m=\u001b[39;49m\u001b[39m'\u001b[39;49m\u001b[39mratio\u001b[39;49m\u001b[39m'\u001b[39;49m)\u001b[39m.\u001b[39maverage(\u001b[39mlambda\u001b[39;00m x: np\u001b[39m.\u001b[39mnanmean(x, axis\u001b[39m=\u001b[39m\u001b[39m0\u001b[39m), copy\u001b[39m=\u001b[39m\u001b[39mTrue\u001b[39;00m)\n\u001b[0;32m    <a href='vscode-notebook-cell:/c%3A/Users/jz421/Desktop/GlobalLocal/copy_wavelet_spec.ipynb#X13sZmlsZQ%3D%3D?line=103'>104</a>\u001b[0m spec_a\u001b[39m.\u001b[39m_data \u001b[39m=\u001b[39m np\u001b[39m.\u001b[39mlog10(spec_a\u001b[39m.\u001b[39m_data) \u001b[39m*\u001b[39m \u001b[39m20\u001b[39m\n\u001b[0;32m    <a href='vscode-notebook-cell:/c%3A/Users/jz421/Desktop/GlobalLocal/copy_wavelet_spec.ipynb#X13sZmlsZQ%3D%3D?line=104'>105</a>\u001b[0m fnames \u001b[39m=\u001b[39m [os\u001b[39m.\u001b[39mpath\u001b[39m.\u001b[39mrelpath(f, layout\u001b[39m.\u001b[39mroot) \u001b[39mfor\u001b[39;00m f \u001b[39min\u001b[39;00m good\u001b[39m.\u001b[39mfilenames]\n",
      "File \u001b[1;32mc:\\Users\\jz421\\AppData\\Local\\anaconda3\\envs\\ieeg\\Lib\\functools.py:909\u001b[0m, in \u001b[0;36msingledispatch.<locals>.wrapper\u001b[1;34m(*args, **kw)\u001b[0m\n\u001b[0;32m    905\u001b[0m \u001b[39mif\u001b[39;00m \u001b[39mnot\u001b[39;00m args:\n\u001b[0;32m    906\u001b[0m     \u001b[39mraise\u001b[39;00m \u001b[39mTypeError\u001b[39;00m(\u001b[39mf\u001b[39m\u001b[39m'\u001b[39m\u001b[39m{\u001b[39;00mfuncname\u001b[39m}\u001b[39;00m\u001b[39m requires at least \u001b[39m\u001b[39m'\u001b[39m\n\u001b[0;32m    907\u001b[0m                     \u001b[39m'\u001b[39m\u001b[39m1 positional argument\u001b[39m\u001b[39m'\u001b[39m)\n\u001b[1;32m--> 909\u001b[0m \u001b[39mreturn\u001b[39;00m dispatch(args[\u001b[39m0\u001b[39;49m]\u001b[39m.\u001b[39;49m\u001b[39m__class__\u001b[39;49m)(\u001b[39m*\u001b[39;49margs, \u001b[39m*\u001b[39;49m\u001b[39m*\u001b[39;49mkw)\n",
      "File \u001b[1;32m<decorator-gen-653>:12\u001b[0m, in \u001b[0;36m_\u001b[1;34m(line, baseline, mode, copy, picks, verbose)\u001b[0m\n",
      "File \u001b[1;32m~\\Desktop\\GlobalLocal\\IEEG_Pipelines\\ieeg\\calc\\scaling.py:152\u001b[0m, in \u001b[0;36m_\u001b[1;34m(line, baseline, mode, copy, picks, verbose)\u001b[0m\n\u001b[0;32m    149\u001b[0m \u001b[39melse\u001b[39;00m:\n\u001b[0;32m    150\u001b[0m     axes \u001b[39m=\u001b[39m \u001b[39mtuple\u001b[39m(axes)\n\u001b[1;32m--> 152\u001b[0m line\u001b[39m.\u001b[39mpick(picks)\u001b[39m.\u001b[39m_data \u001b[39m=\u001b[39m rescale(line\u001b[39m.\u001b[39;49mpick(picks)\u001b[39m.\u001b[39;49m_data, basedata, mode,\n\u001b[0;32m    153\u001b[0m                                  \u001b[39mFalse\u001b[39;49;00m, axes)\n\u001b[0;32m    154\u001b[0m \u001b[39mreturn\u001b[39;00m line\n",
      "File \u001b[1;32mc:\\Users\\jz421\\AppData\\Local\\anaconda3\\envs\\ieeg\\Lib\\functools.py:909\u001b[0m, in \u001b[0;36msingledispatch.<locals>.wrapper\u001b[1;34m(*args, **kw)\u001b[0m\n\u001b[0;32m    905\u001b[0m \u001b[39mif\u001b[39;00m \u001b[39mnot\u001b[39;00m args:\n\u001b[0;32m    906\u001b[0m     \u001b[39mraise\u001b[39;00m \u001b[39mTypeError\u001b[39;00m(\u001b[39mf\u001b[39m\u001b[39m'\u001b[39m\u001b[39m{\u001b[39;00mfuncname\u001b[39m}\u001b[39;00m\u001b[39m requires at least \u001b[39m\u001b[39m'\u001b[39m\n\u001b[0;32m    907\u001b[0m                     \u001b[39m'\u001b[39m\u001b[39m1 positional argument\u001b[39m\u001b[39m'\u001b[39m)\n\u001b[1;32m--> 909\u001b[0m \u001b[39mreturn\u001b[39;00m dispatch(args[\u001b[39m0\u001b[39;49m]\u001b[39m.\u001b[39;49m\u001b[39m__class__\u001b[39;49m)(\u001b[39m*\u001b[39;49margs, \u001b[39m*\u001b[39;49m\u001b[39m*\u001b[39;49mkw)\n",
      "File \u001b[1;32m~\\Desktop\\GlobalLocal\\IEEG_Pipelines\\ieeg\\calc\\scaling.py:89\u001b[0m, in \u001b[0;36mrescale\u001b[1;34m(data, basedata, mode, copy, axis)\u001b[0m\n\u001b[0;32m     87\u001b[0m mean \u001b[39m=\u001b[39m np\u001b[39m.\u001b[39mnanmean(basedata, axis\u001b[39m=\u001b[39maxis, keepdims\u001b[39m=\u001b[39m\u001b[39mTrue\u001b[39;00m)\n\u001b[0;32m     88\u001b[0m std \u001b[39m=\u001b[39m np\u001b[39m.\u001b[39mnanstd(basedata, axis\u001b[39m=\u001b[39maxis, keepdims\u001b[39m=\u001b[39m\u001b[39mTrue\u001b[39;00m)\n\u001b[1;32m---> 89\u001b[0m fun(data, mean, std)\n\u001b[0;32m     90\u001b[0m \u001b[39mreturn\u001b[39;00m data\n",
      "File \u001b[1;32m~\\Desktop\\GlobalLocal\\IEEG_Pipelines\\ieeg\\calc\\scaling.py:67\u001b[0m, in \u001b[0;36mrescale.<locals>.fun\u001b[1;34m(d, m, s)\u001b[0m\n\u001b[0;32m     66\u001b[0m \u001b[39mdef\u001b[39;00m \u001b[39mfun\u001b[39m(d, m, s):\n\u001b[1;32m---> 67\u001b[0m     d \u001b[39m/\u001b[39;49m\u001b[39m=\u001b[39;49m m\n",
      "\u001b[1;31mValueError\u001b[0m: operands could not be broadcast together with shapes (448,175,46,306) (1,178,46,1) (448,175,46,306) "
     ]
    }
   ],
   "source": [
    "spec_a = make_wavelets(sub='D0057', task=\"GlobalLocal\", output_name=\"experimentStartBase_Stimulus\", event=\"Stimulus\", times=(-1, 2))"
   ]
  },
  {
   "cell_type": "code",
   "execution_count": null,
   "metadata": {},
   "outputs": [],
   "source": [
    "spec_a = make_wavelets(sub='D0063', task=\"GlobalLocal\", output_name=\"repeat\", events_list=[\"/r\"], times=(-1, 2))"
   ]
  }
 ],
 "metadata": {
  "kernelspec": {
   "display_name": "ieeg",
   "language": "python",
   "name": "python3"
  },
  "language_info": {
   "codemirror_mode": {
    "name": "ipython",
    "version": 3
   },
   "file_extension": ".py",
   "mimetype": "text/x-python",
   "name": "python",
   "nbconvert_exporter": "python",
   "pygments_lexer": "ipython3",
   "version": "3.11.3"
  },
  "orig_nbformat": 4
 },
 "nbformat": 4,
 "nbformat_minor": 2
}
