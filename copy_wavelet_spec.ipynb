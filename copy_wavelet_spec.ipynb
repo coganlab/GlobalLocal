{
 "cells": [
  {
   "cell_type": "code",
   "execution_count": 2,
   "metadata": {},
   "outputs": [
    {
     "name": "stdout",
     "output_type": "stream",
     "text": [
      "['c:\\\\Users\\\\jz421\\\\Desktop\\\\GlobalLocal', 'C:\\\\Users\\\\jz421\\\\Desktop\\\\GlobalLocal\\\\IEEG_Pipelines', 'c:\\\\Users\\\\jz421\\\\AppData\\\\Local\\\\anaconda3\\\\envs\\\\ieeg\\\\python311.zip', 'c:\\\\Users\\\\jz421\\\\AppData\\\\Local\\\\anaconda3\\\\envs\\\\ieeg\\\\DLLs', 'c:\\\\Users\\\\jz421\\\\AppData\\\\Local\\\\anaconda3\\\\envs\\\\ieeg\\\\Lib', 'c:\\\\Users\\\\jz421\\\\AppData\\\\Local\\\\anaconda3\\\\envs\\\\ieeg', '', 'C:\\\\Users\\\\jz421\\\\AppData\\\\Roaming\\\\Python\\\\Python311\\\\site-packages', 'C:\\\\Users\\\\jz421\\\\AppData\\\\Roaming\\\\Python\\\\Python311\\\\site-packages\\\\win32', 'C:\\\\Users\\\\jz421\\\\AppData\\\\Roaming\\\\Python\\\\Python311\\\\site-packages\\\\win32\\\\lib', 'C:\\\\Users\\\\jz421\\\\AppData\\\\Roaming\\\\Python\\\\Python311\\\\site-packages\\\\Pythonwin', 'c:\\\\Users\\\\jz421\\\\AppData\\\\Local\\\\anaconda3\\\\envs\\\\ieeg\\\\Lib\\\\site-packages', 'c:\\\\Users\\\\jz421\\\\AppData\\\\Local\\\\anaconda3\\\\envs\\\\ieeg\\\\Lib\\\\site-packages\\\\win32', 'c:\\\\Users\\\\jz421\\\\AppData\\\\Local\\\\anaconda3\\\\envs\\\\ieeg\\\\Lib\\\\site-packages\\\\win32\\\\lib', 'c:\\\\Users\\\\jz421\\\\AppData\\\\Local\\\\anaconda3\\\\envs\\\\ieeg\\\\Lib\\\\site-packages\\\\Pythonwin']\n"
     ]
    }
   ],
   "source": [
    "import sys\n",
    "print(sys.path)\n",
    "sys.path.append(\"C:/Users/jz421/Desktop/GlobalLocal/IEEG_Pipelines/\") #need to do this cuz otherwise ieeg isn't added to path...\n",
    "\n",
    "import mne.time_frequency\n",
    "import mne\n",
    "from ieeg.io import get_data, raw_from_layout\n",
    "from ieeg.navigate import trial_ieeg, channel_outlier_marker, crop_empty_data, outliers_to_nan\n",
    "from ieeg.calc.scaling import rescale\n",
    "import os\n",
    "from ieeg.timefreq.utils import wavelet_scaleogram, crop_pad\n",
    "import numpy as np\n",
    "\n",
    "from misc_functions import calculate_RTs"
   ]
  },
  {
   "cell_type": "markdown",
   "metadata": {},
   "source": [
    "### get wavelets for incongruent and congruent\n",
    "this requires concatenating across trials for the events in the events list, note this is different from aaron's method below where each event is plotted separately instead of being concatenated."
   ]
  },
  {
   "cell_type": "code",
   "execution_count": 1,
   "metadata": {},
   "outputs": [
    {
     "ename": "NameError",
     "evalue": "name 'os' is not defined",
     "output_type": "error",
     "traceback": [
      "\u001b[1;31m---------------------------------------------------------------------------\u001b[0m",
      "\u001b[1;31mNameError\u001b[0m                                 Traceback (most recent call last)",
      "Cell \u001b[1;32mIn[1], line 1\u001b[0m\n\u001b[1;32m----> 1\u001b[0m HOME \u001b[38;5;241m=\u001b[39m \u001b[43mos\u001b[49m\u001b[38;5;241m.\u001b[39mpath\u001b[38;5;241m.\u001b[39mexpanduser(\u001b[38;5;124m\"\u001b[39m\u001b[38;5;124m~\u001b[39m\u001b[38;5;124m\"\u001b[39m)\n\u001b[0;32m      3\u001b[0m \u001b[38;5;66;03m# get box directory depending on OS\u001b[39;00m\n\u001b[0;32m      4\u001b[0m \u001b[38;5;28;01mif\u001b[39;00m os\u001b[38;5;241m.\u001b[39mname \u001b[38;5;241m==\u001b[39m \u001b[38;5;124m'\u001b[39m\u001b[38;5;124mnt\u001b[39m\u001b[38;5;124m'\u001b[39m: \u001b[38;5;66;03m# windows\u001b[39;00m\n",
      "\u001b[1;31mNameError\u001b[0m: name 'os' is not defined"
     ]
    }
   ],
   "source": [
    "HOME = os.path.expanduser(\"~\")\n",
    "\n",
    "# get box directory depending on OS\n",
    "if os.name == 'nt': # windows\n",
    "    LAB_root = os.path.join(HOME, \"Box\", \"CoganLab\")\n",
    "else: # mac\n",
    "    LAB_root = os.path.join(HOME, \"Library\", \"CloudStorage\", \"Box-Box\", \"CoganLab\")\n",
    "\n",
    "layout = get_data(\"GlobalLocal\", root=LAB_root)\n",
    "\n",
    "output_name = \"Stimulus_i25and75_fixationCrossBase_1sec\"\n",
    "\n",
    "events = [\"Stimulus/c75\", \"Stimulus/c25\"]\n",
    "event_times = (-1,2)\n",
    "\n",
    "subjects = layout.get(return_type=\"id\", target=\"subject\")\n",
    "subjects = [\"D0057\", \"D0059\", \"D0063\"]\n",
    "\n",
    "for sub in subjects:\n",
    "\n",
    "    # Load the data\n",
    "    filt = raw_from_layout(layout.derivatives['derivatives/clean'], subject=sub,\n",
    "                            extension='.edf', desc='clean', preload=False) #get line-noise filtered data\n",
    "    print(filt)\n",
    "\n",
    "    ## Crop raw data to minimize processing time\n",
    "    good = crop_empty_data(filt)\n",
    "\n",
    "    # good.drop_channels(good.info['bads'])\n",
    "    good.info['bads'] = channel_outlier_marker(good, 3, 2)\n",
    "    good.drop_channels(good.info['bads'])\n",
    "    # good.info['bads'] += channel_outlier_marker(good, 4, 2)\n",
    "    # good.drop_channels(good.info['bads'])\n",
    "    good.load_data()\n",
    "\n",
    "    ch_type = filt.get_channel_types(only_data_chs=True)[0]\n",
    "    good.set_eeg_reference(ref_channels=\"average\", ch_type=ch_type)\n",
    "\n",
    "    # Remove intermediates from mem\n",
    "    good.plot()\n",
    "\n",
    "    ## epoching and trial outlier removal\n",
    "\n",
    "    save_dir = os.path.join(layout.root, 'derivatives', 'spec', 'wavelet', sub)\n",
    "    if not os.path.exists(save_dir):\n",
    "            os.makedirs(save_dir)\n",
    "\n",
    "    RTs, skipped = calculate_RTs(good)\n",
    "    avg_RT = np.median(RTs)\n",
    "    print(avg_RT)\n",
    "    # make stimulus baseline EpochsTFR\n",
    "    # times=[-1.5, 3.5] #this is for 0.5 sec of padding on each side. Just do 3 seconds as estimate of the full trial. Don't use avg RT because its different across subjects and makes later analysis hard.\n",
    "    times = [-1.5, 0.5] #padd 0.5 secs each side, want 1 seconds before stim onset\n",
    "    print(\"times: \" + str(times))\n",
    "    trials = trial_ieeg(good, \"Stimulus\", times, preload=True)\n",
    "\n",
    "    # print(\"base trials shape is: \" + str(trials._data.shape))\n",
    "    outliers_to_nan(trials, outliers=10)\n",
    "    base = wavelet_scaleogram(trials, n_jobs=1, decim=int(good.info['sfreq'] / 100))\n",
    "    crop_pad(base, \"0.5s\")\n",
    "\n",
    "\n",
    "    print(\"done with base\")\n",
    "\n",
    "    all_epochs_list = []\n",
    "\n",
    "    for event in events:\n",
    "    # Epoching and HG extraction for each specified event. Then concatenate all trials epochs objects together (do Stimulus/c25 and Stimulus/c75 for example, and combine to get all congruent trials)\n",
    "        times_adj = [times[0] - 0.5, times[1] + 0.5]\n",
    "        trials = trial_ieeg(good, event, times_adj, preload=True,\n",
    "                            reject_by_annotation=False)\n",
    "        all_epochs_list.append(trials)\n",
    "\n",
    "    # Concatenate all trials\n",
    "    all_trials = mne.concatenate_epochs(all_epochs_list)\n",
    "\n",
    "    times = [None, None]\n",
    "    times[0] = event_times[0] - 0.5\n",
    "    times[1] = event_times[1] + 0.5\n",
    "\n",
    "    outliers_to_nan(all_trials, outliers=10)\n",
    "    spec = wavelet_scaleogram(all_trials, n_jobs=1, decim=int(good.info['sfreq'] / 100))\n",
    "    crop_pad(spec, \"0.5s\")\n",
    "    spec_a = rescale(spec, base, copy=True, mode='ratio').average(\n",
    "            lambda x: np.nanmean(x, axis=0), copy=True)\n",
    "    spec_a._data = np.log10(spec_a._data) * 20\n",
    "    fnames = [os.path.relpath(f, layout.root) for f in good.filenames]\n",
    "    spec_a.info['subject_info']['files'] = tuple(fnames)\n",
    "    spec_a.info['bads'] = good.info['bads']\n",
    "    filename = os.path.join(save_dir, f'{output_name}-tfr.h5')\n",
    "    mne.time_frequency.write_tfrs(filename, spec_a, overwrite=True)\n",
    "    spec_a.save(os.path.join(save_dir, f'{output_name}-avg.fif'), overwrite=True)"
   ]
  },
  {
   "cell_type": "markdown",
   "metadata": {},
   "source": [
    "### this is for combined congruent or incongruent, it combines the events.  \n",
    "it clears the outputs after the first cell cuz no memory and then runs the rest of the subjects"
   ]
  },
  {
   "cell_type": "code",
   "execution_count": null,
   "metadata": {},
   "outputs": [],
   "source": [
    "import sys\n",
    "print(sys.path)\n",
    "sys.path.append(\"C:/Users/jz421/Desktop/GlobalLocal/IEEG_Pipelines/\") #need to do this cuz otherwise ieeg isn't added to path...\n",
    "\n",
    "import mne.time_frequency\n",
    "import mne\n",
    "from ieeg.io import get_data, raw_from_layout\n",
    "from ieeg.navigate import trial_ieeg, channel_outlier_marker, crop_empty_data, outliers_to_nan\n",
    "from ieeg.calc.scaling import rescale\n",
    "import os\n",
    "from ieeg.timefreq.utils import wavelet_scaleogram, crop_pad\n",
    "import numpy as np\n",
    "\n",
    "from misc_functions import calculate_RTs\n",
    "\n",
    "HOME = os.path.expanduser(\"~\")\n",
    "\n",
    "# get box directory depending on OS\n",
    "if os.name == 'nt': # windows\n",
    "    LAB_root = os.path.join(HOME, \"Box\", \"CoganLab\")\n",
    "else: # mac\n",
    "    LAB_root = os.path.join(HOME, \"Library\", \"CloudStorage\", \"Box-Box\", \"CoganLab\")\n",
    "\n",
    "layout = get_data(\"GlobalLocal\", root=LAB_root)\n",
    "\n",
    "output_name = \"Stimulus_i25and75_fixationCrossBase_1sec\"\n",
    "\n",
    "events = [\"Stimulus/i75\", \"Stimulus/i25\"]\n",
    "event_times = (-1,2)\n",
    "\n",
    "subjects = layout.get(return_type=\"id\", target=\"subject\")\n",
    "subjects = [\"D0065\", \"D0069\", \"D0071\"]\n",
    "\n",
    "for sub in subjects:\n",
    "\n",
    "    # Load the data\n",
    "    filt = raw_from_layout(layout.derivatives['derivatives/clean'], subject=sub,\n",
    "                            extension='.edf', desc='clean', preload=False) #get line-noise filtered data\n",
    "    print(filt)\n",
    "\n",
    "    ## Crop raw data to minimize processing time\n",
    "    good = crop_empty_data(filt)\n",
    "\n",
    "    # good.drop_channels(good.info['bads'])\n",
    "    good.info['bads'] = channel_outlier_marker(good, 3, 2)\n",
    "    good.drop_channels(good.info['bads'])\n",
    "    # good.info['bads'] += channel_outlier_marker(good, 4, 2)\n",
    "    # good.drop_channels(good.info['bads'])\n",
    "    good.load_data()\n",
    "\n",
    "    ch_type = filt.get_channel_types(only_data_chs=True)[0]\n",
    "    good.set_eeg_reference(ref_channels=\"average\", ch_type=ch_type)\n",
    "\n",
    "    # Remove intermediates from mem\n",
    "    good.plot()\n",
    "\n",
    "    ## epoching and trial outlier removal\n",
    "\n",
    "    save_dir = os.path.join(layout.root, 'derivatives', 'spec', 'wavelet', sub)\n",
    "    if not os.path.exists(save_dir):\n",
    "            os.makedirs(save_dir)\n",
    "\n",
    "    RTs, skipped = calculate_RTs(good)\n",
    "    avg_RT = np.median(RTs)\n",
    "    print(avg_RT)\n",
    "    # make stimulus baseline EpochsTFR\n",
    "    # times=[-1.5, 3.5] #this is for 0.5 sec of padding on each side. Just do 3 seconds as estimate of the full trial. Don't use avg RT because its different across subjects and makes later analysis hard.\n",
    "    times = [-1.5, 0.5] #padd 0.5 secs each side, want 1 seconds before stim onset\n",
    "    print(\"times: \" + str(times))\n",
    "    trials = trial_ieeg(good, \"Stimulus\", times, preload=True)\n",
    "\n",
    "    # print(\"base trials shape is: \" + str(trials._data.shape))\n",
    "    outliers_to_nan(trials, outliers=10)\n",
    "    base = wavelet_scaleogram(trials, n_jobs=1, decim=int(good.info['sfreq'] / 100))\n",
    "    crop_pad(base, \"0.5s\")\n",
    "\n",
    "\n",
    "    print(\"done with base\")\n",
    "\n",
    "    all_epochs_list = []\n",
    "\n",
    "    for event in events:\n",
    "    # Epoching and HG extraction for each specified event. Then concatenate all trials epochs objects together (do Stimulus/c25 and Stimulus/c75 for example, and combine to get all congruent trials)\n",
    "        times_adj = [times[0] - 0.5, times[1] + 0.5]\n",
    "        trials = trial_ieeg(good, event, times_adj, preload=True,\n",
    "                            reject_by_annotation=False)\n",
    "        all_epochs_list.append(trials)\n",
    "\n",
    "    # Concatenate all trials\n",
    "    all_trials = mne.concatenate_epochs(all_epochs_list)\n",
    "\n",
    "    times = [None, None]\n",
    "    times[0] = event_times[0] - 0.5\n",
    "    times[1] = event_times[1] + 0.5\n",
    "\n",
    "    outliers_to_nan(all_trials, outliers=10)\n",
    "    spec = wavelet_scaleogram(all_trials, n_jobs=1, decim=int(good.info['sfreq'] / 100))\n",
    "    crop_pad(spec, \"0.5s\")\n",
    "    spec_a = rescale(spec, base, copy=True, mode='ratio').average(\n",
    "            lambda x: np.nanmean(x, axis=0), copy=True)\n",
    "    spec_a._data = np.log10(spec_a._data) * 20\n",
    "    fnames = [os.path.relpath(f, layout.root) for f in good.filenames]\n",
    "    spec_a.info['subject_info']['files'] = tuple(fnames)\n",
    "    spec_a.info['bads'] = good.info['bads']\n",
    "    filename = os.path.join(save_dir, f'{output_name}-tfr.h5')\n",
    "    mne.time_frequency.write_tfrs(filename, spec_a, overwrite=True)\n",
    "    spec_a.save(os.path.join(save_dir, f'{output_name}-avg.fif'), overwrite=True)"
   ]
  },
  {
   "cell_type": "code",
   "execution_count": null,
   "metadata": {},
   "outputs": [],
   "source": [
    "from IPython.display import clear_output\n",
    "clear_output(wait=True)"
   ]
  },
  {
   "cell_type": "code",
   "execution_count": null,
   "metadata": {},
   "outputs": [],
   "source": [
    "import sys\n",
    "print(sys.path)\n",
    "sys.path.append(\"C:/Users/jz421/Desktop/GlobalLocal/IEEG_Pipelines/\") #need to do this cuz otherwise ieeg isn't added to path...\n",
    "\n",
    "import mne.time_frequency\n",
    "import mne\n",
    "from ieeg.io import get_data, raw_from_layout\n",
    "from ieeg.navigate import trial_ieeg, channel_outlier_marker, crop_empty_data, outliers_to_nan\n",
    "from ieeg.calc.scaling import rescale\n",
    "import os\n",
    "from ieeg.timefreq.utils import wavelet_scaleogram, crop_pad\n",
    "import numpy as np\n",
    "\n",
    "from misc_functions import calculate_RTs\n",
    "\n",
    "HOME = os.path.expanduser(\"~\")\n",
    "\n",
    "# get box directory depending on OS\n",
    "if os.name == 'nt': # windows\n",
    "    LAB_root = os.path.join(HOME, \"Box\", \"CoganLab\")\n",
    "else: # mac\n",
    "    LAB_root = os.path.join(HOME, \"Library\", \"CloudStorage\", \"Box-Box\", \"CoganLab\")\n",
    "\n",
    "layout = get_data(\"GlobalLocal\", root=LAB_root)\n",
    "\n",
    "output_name = \"Stimulus_i25and75_fixationCrossBase_1sec\"\n",
    "\n",
    "events = [\"Stimulus/i75\", \"Stimulus/i25\"]\n",
    "event_times = (-1,2)\n",
    "\n",
    "subjects = layout.get(return_type=\"id\", target=\"subject\")\n",
    "subjects = [\"D0057\", \"D0059\", \"D0063\"]\n",
    "\n",
    "for sub in subjects:\n",
    "\n",
    "    # Load the data\n",
    "    filt = raw_from_layout(layout.derivatives['derivatives/clean'], subject=sub,\n",
    "                            extension='.edf', desc='clean', preload=False) #get line-noise filtered data\n",
    "    print(filt)\n",
    "\n",
    "    ## Crop raw data to minimize processing time\n",
    "    good = crop_empty_data(filt)\n",
    "\n",
    "    # good.drop_channels(good.info['bads'])\n",
    "    good.info['bads'] = channel_outlier_marker(good, 3, 2)\n",
    "    good.drop_channels(good.info['bads'])\n",
    "    # good.info['bads'] += channel_outlier_marker(good, 4, 2)\n",
    "    # good.drop_channels(good.info['bads'])\n",
    "    good.load_data()\n",
    "\n",
    "    ch_type = filt.get_channel_types(only_data_chs=True)[0]\n",
    "    good.set_eeg_reference(ref_channels=\"average\", ch_type=ch_type)\n",
    "\n",
    "    # Remove intermediates from mem\n",
    "    good.plot()\n",
    "\n",
    "    ## epoching and trial outlier removal\n",
    "\n",
    "    save_dir = os.path.join(layout.root, 'derivatives', 'spec', 'wavelet', sub)\n",
    "    if not os.path.exists(save_dir):\n",
    "            os.makedirs(save_dir)\n",
    "\n",
    "    RTs, skipped = calculate_RTs(good)\n",
    "    avg_RT = np.median(RTs)\n",
    "    print(avg_RT)\n",
    "    # make stimulus baseline EpochsTFR\n",
    "    # times=[-1.5, 3.5] #this is for 0.5 sec of padding on each side. Just do 3 seconds as estimate of the full trial. Don't use avg RT because its different across subjects and makes later analysis hard.\n",
    "    times = [-1.5, 0.5] #padd 0.5 secs each side, want 1 seconds before stim onset\n",
    "    print(\"times: \" + str(times))\n",
    "    trials = trial_ieeg(good, \"Stimulus\", times, preload=True)\n",
    "\n",
    "    # print(\"base trials shape is: \" + str(trials._data.shape))\n",
    "    outliers_to_nan(trials, outliers=10)\n",
    "    base = wavelet_scaleogram(trials, n_jobs=1, decim=int(good.info['sfreq'] / 100))\n",
    "    crop_pad(base, \"0.5s\")\n",
    "\n",
    "\n",
    "    print(\"done with base\")\n",
    "\n",
    "    all_epochs_list = []\n",
    "\n",
    "    for event in events:\n",
    "    # Epoching and HG extraction for each specified event. Then concatenate all trials epochs objects together (do Stimulus/c25 and Stimulus/c75 for example, and combine to get all congruent trials)\n",
    "        times_adj = [times[0] - 0.5, times[1] + 0.5]\n",
    "        trials = trial_ieeg(good, event, times_adj, preload=True,\n",
    "                            reject_by_annotation=False)\n",
    "        all_epochs_list.append(trials)\n",
    "\n",
    "    # Concatenate all trials\n",
    "    all_trials = mne.concatenate_epochs(all_epochs_list)\n",
    "\n",
    "    times = [None, None]\n",
    "    times[0] = event_times[0] - 0.5\n",
    "    times[1] = event_times[1] + 0.5\n",
    "\n",
    "    outliers_to_nan(all_trials, outliers=10)\n",
    "    spec = wavelet_scaleogram(all_trials, n_jobs=1, decim=int(good.info['sfreq'] / 100))\n",
    "    crop_pad(spec, \"0.5s\")\n",
    "    spec_a = rescale(spec, base, copy=True, mode='ratio').average(\n",
    "            lambda x: np.nanmean(x, axis=0), copy=True)\n",
    "    spec_a._data = np.log10(spec_a._data) * 20\n",
    "    fnames = [os.path.relpath(f, layout.root) for f in good.filenames]\n",
    "    spec_a.info['subject_info']['files'] = tuple(fnames)\n",
    "    spec_a.info['bads'] = good.info['bads']\n",
    "    filename = os.path.join(save_dir, f'{output_name}-tfr.h5')\n",
    "    mne.time_frequency.write_tfrs(filename, spec_a, overwrite=True)\n",
    "    spec_a.save(os.path.join(save_dir, f'{output_name}-avg.fif'), overwrite=True)"
   ]
  },
  {
   "cell_type": "markdown",
   "metadata": {},
   "source": [
    "2/22 get wavelets for stimulus using new baseline of 0.2 sec before stim onset"
   ]
  },
  {
   "cell_type": "code",
   "execution_count": 3,
   "metadata": {},
   "outputs": [
    {
     "name": "stdout",
     "output_type": "stream",
     "text": [
      "['D0057', 'D0059', 'D0063', 'D0065', 'D0069', 'D0071', 'D0077', 'D0090', 'D0094', 'D0100', 'D0102', 'D0103']\n",
      "Extracting EDF parameters from C:\\Users\\jz421\\Box\\CoganLab\\BIDS-1.1_GlobalLocal\\BIDS\\derivatives\\clean\\sub-D0063\\ieeg\\sub-D0063_task-GlobalLocal_acq-01_run-01_desc-clean_ieeg.edf...\n",
      "EDF file detected\n",
      "Setting channel info structure...\n",
      "Creating raw.info structure...\n",
      "Reading events from C:\\Users\\jz421\\Box\\CoganLab\\BIDS-1.1_GlobalLocal\\BIDS\\derivatives\\clean\\sub-D0063\\ieeg\\sub-D0063_task-GlobalLocal_acq-01_run-01_desc-clean_events.tsv.\n",
      "Reading channel info from C:\\Users\\jz421\\Box\\CoganLab\\BIDS-1.1_GlobalLocal\\BIDS\\derivatives\\clean\\sub-D0063\\ieeg\\sub-D0063_task-GlobalLocal_acq-01_run-01_desc-clean_channels.tsv.\n",
      "Reading electrode coords from C:\\Users\\jz421\\Box\\CoganLab\\BIDS-1.1_GlobalLocal\\BIDS\\derivatives\\clean\\sub-D0063\\ieeg\\sub-D0063_acq-01_space-ACPC_electrodes.tsv.\n",
      "Not fully anonymizing info - keeping his_id, sex, and hand info\n",
      "Extracting EDF parameters from C:\\Users\\jz421\\Box\\CoganLab\\BIDS-1.1_GlobalLocal\\BIDS\\derivatives\\clean\\sub-D0063\\ieeg\\sub-D0063_task-GlobalLocal_acq-01_run-02_desc-clean_ieeg.edf...\n",
      "EDF file detected\n",
      "Setting channel info structure...\n",
      "Creating raw.info structure...\n"
     ]
    },
    {
     "name": "stderr",
     "output_type": "stream",
     "text": [
      "C:\\Users\\jz421\\Desktop\\GlobalLocal\\IEEG_Pipelines\\ieeg\\io.py:113: RuntimeWarning: The number of channels in the channels.tsv sidecar file (241) does not match the number of channels in the raw data file (240). Will not try to set channel names.\n",
      "  new_raw = read_raw_bids(bids_path=BIDS_path, verbose=verbose)\n",
      "C:\\Users\\jz421\\Desktop\\GlobalLocal\\IEEG_Pipelines\\ieeg\\io.py:113: RuntimeWarning: Cannot set channel type for the following channels, as they are missing in the raw data: Trigger\n",
      "  new_raw = read_raw_bids(bids_path=BIDS_path, verbose=verbose)\n"
     ]
    },
    {
     "name": "stdout",
     "output_type": "stream",
     "text": [
      "Reading events from C:\\Users\\jz421\\Box\\CoganLab\\BIDS-1.1_GlobalLocal\\BIDS\\derivatives\\clean\\sub-D0063\\ieeg\\sub-D0063_task-GlobalLocal_acq-01_run-02_desc-clean_events.tsv.\n",
      "Reading channel info from C:\\Users\\jz421\\Box\\CoganLab\\BIDS-1.1_GlobalLocal\\BIDS\\derivatives\\clean\\sub-D0063\\ieeg\\sub-D0063_task-GlobalLocal_acq-01_run-02_desc-clean_channels.tsv.\n",
      "Reading electrode coords from C:\\Users\\jz421\\Box\\CoganLab\\BIDS-1.1_GlobalLocal\\BIDS\\derivatives\\clean\\sub-D0063\\ieeg\\sub-D0063_acq-01_space-ACPC_electrodes.tsv.\n",
      "Not fully anonymizing info - keeping his_id, sex, and hand info\n",
      "Extracting EDF parameters from C:\\Users\\jz421\\Box\\CoganLab\\BIDS-1.1_GlobalLocal\\BIDS\\derivatives\\clean\\sub-D0063\\ieeg\\sub-D0063_task-GlobalLocal_acq-01_run-03_desc-clean_ieeg.edf...\n",
      "EDF file detected\n",
      "Setting channel info structure...\n",
      "Creating raw.info structure...\n"
     ]
    },
    {
     "name": "stderr",
     "output_type": "stream",
     "text": [
      "C:\\Users\\jz421\\Desktop\\GlobalLocal\\IEEG_Pipelines\\ieeg\\io.py:113: RuntimeWarning: Omitted 227 annotation(s) that were outside data range.\n",
      "  new_raw = read_raw_bids(bids_path=BIDS_path, verbose=verbose)\n",
      "C:\\Users\\jz421\\Desktop\\GlobalLocal\\IEEG_Pipelines\\ieeg\\io.py:113: RuntimeWarning: The number of channels in the channels.tsv sidecar file (241) does not match the number of channels in the raw data file (240). Will not try to set channel names.\n",
      "  new_raw = read_raw_bids(bids_path=BIDS_path, verbose=verbose)\n",
      "C:\\Users\\jz421\\Desktop\\GlobalLocal\\IEEG_Pipelines\\ieeg\\io.py:113: RuntimeWarning: Cannot set channel type for the following channels, as they are missing in the raw data: Trigger\n",
      "  new_raw = read_raw_bids(bids_path=BIDS_path, verbose=verbose)\n"
     ]
    },
    {
     "name": "stdout",
     "output_type": "stream",
     "text": [
      "Reading events from C:\\Users\\jz421\\Box\\CoganLab\\BIDS-1.1_GlobalLocal\\BIDS\\derivatives\\clean\\sub-D0063\\ieeg\\sub-D0063_task-GlobalLocal_acq-01_run-03_desc-clean_events.tsv.\n",
      "Reading channel info from C:\\Users\\jz421\\Box\\CoganLab\\BIDS-1.1_GlobalLocal\\BIDS\\derivatives\\clean\\sub-D0063\\ieeg\\sub-D0063_task-GlobalLocal_acq-01_run-03_desc-clean_channels.tsv.\n",
      "Reading electrode coords from C:\\Users\\jz421\\Box\\CoganLab\\BIDS-1.1_GlobalLocal\\BIDS\\derivatives\\clean\\sub-D0063\\ieeg\\sub-D0063_acq-01_space-ACPC_electrodes.tsv.\n",
      "Not fully anonymizing info - keeping his_id, sex, and hand info\n",
      "Extracting EDF parameters from C:\\Users\\jz421\\Box\\CoganLab\\BIDS-1.1_GlobalLocal\\BIDS\\derivatives\\clean\\sub-D0063\\ieeg\\sub-D0063_task-GlobalLocal_acq-01_run-04_desc-clean_ieeg.edf...\n",
      "EDF file detected\n",
      "Setting channel info structure...\n",
      "Creating raw.info structure...\n"
     ]
    },
    {
     "name": "stderr",
     "output_type": "stream",
     "text": [
      "C:\\Users\\jz421\\Desktop\\GlobalLocal\\IEEG_Pipelines\\ieeg\\io.py:113: RuntimeWarning: Omitted 228 annotation(s) that were outside data range.\n",
      "  new_raw = read_raw_bids(bids_path=BIDS_path, verbose=verbose)\n",
      "C:\\Users\\jz421\\Desktop\\GlobalLocal\\IEEG_Pipelines\\ieeg\\io.py:113: RuntimeWarning: The number of channels in the channels.tsv sidecar file (241) does not match the number of channels in the raw data file (240). Will not try to set channel names.\n",
      "  new_raw = read_raw_bids(bids_path=BIDS_path, verbose=verbose)\n",
      "C:\\Users\\jz421\\Desktop\\GlobalLocal\\IEEG_Pipelines\\ieeg\\io.py:113: RuntimeWarning: Cannot set channel type for the following channels, as they are missing in the raw data: Trigger\n",
      "  new_raw = read_raw_bids(bids_path=BIDS_path, verbose=verbose)\n"
     ]
    },
    {
     "name": "stdout",
     "output_type": "stream",
     "text": [
      "Reading events from C:\\Users\\jz421\\Box\\CoganLab\\BIDS-1.1_GlobalLocal\\BIDS\\derivatives\\clean\\sub-D0063\\ieeg\\sub-D0063_task-GlobalLocal_acq-01_run-04_desc-clean_events.tsv.\n",
      "Reading channel info from C:\\Users\\jz421\\Box\\CoganLab\\BIDS-1.1_GlobalLocal\\BIDS\\derivatives\\clean\\sub-D0063\\ieeg\\sub-D0063_task-GlobalLocal_acq-01_run-04_desc-clean_channels.tsv.\n",
      "Reading electrode coords from C:\\Users\\jz421\\Box\\CoganLab\\BIDS-1.1_GlobalLocal\\BIDS\\derivatives\\clean\\sub-D0063\\ieeg\\sub-D0063_acq-01_space-ACPC_electrodes.tsv.\n",
      "Not fully anonymizing info - keeping his_id, sex, and hand info\n"
     ]
    },
    {
     "name": "stderr",
     "output_type": "stream",
     "text": [
      "C:\\Users\\jz421\\Desktop\\GlobalLocal\\IEEG_Pipelines\\ieeg\\io.py:113: RuntimeWarning: Omitted 220 annotation(s) that were outside data range.\n",
      "  new_raw = read_raw_bids(bids_path=BIDS_path, verbose=verbose)\n",
      "C:\\Users\\jz421\\Desktop\\GlobalLocal\\IEEG_Pipelines\\ieeg\\io.py:113: RuntimeWarning: The number of channels in the channels.tsv sidecar file (241) does not match the number of channels in the raw data file (240). Will not try to set channel names.\n",
      "  new_raw = read_raw_bids(bids_path=BIDS_path, verbose=verbose)\n",
      "C:\\Users\\jz421\\Desktop\\GlobalLocal\\IEEG_Pipelines\\ieeg\\io.py:113: RuntimeWarning: Cannot set channel type for the following channels, as they are missing in the raw data: Trigger\n",
      "  new_raw = read_raw_bids(bids_path=BIDS_path, verbose=verbose)\n"
     ]
    },
    {
     "name": "stdout",
     "output_type": "stream",
     "text": [
      "<RawEDF | sub-D0063_task-GlobalLocal_acq-01_run-01_desc-clean_ieeg.edf, 240 x 4386816 (2142.0 s), ~270 kB, data not loaded>\n",
      "outlier round 1 channels: ['RMMT14']\n",
      "outlier round 2 channels: ['RMMT14', 'LOF10']\n",
      "outlier round 2 channels: ['RMMT14', 'LOF10', 'LOF14']\n",
      "outlier round 2 channels: ['RMMT14', 'LOF10', 'LOF14', 'ROF2']\n",
      "outlier round 2 channels: ['RMMT14', 'LOF10', 'LOF14', 'ROF2', 'RAMF4']\n",
      "Reading 0 ... 3223070  =      0.000 ...  1573.765 secs...\n",
      "Applying average reference.\n",
      "Applying a custom ('sEEG',) reference.\n",
      "Using qt as 2D backend.\n",
      "times: [-0.7, 0.5]\n",
      "Used Annotations descriptions: ['Response/c25/n75', 'Response/c25/r25', 'Response/c25/r75', 'Response/c25/s25', 'Response/c25/s75', 'Response/c75/n75', 'Response/c75/r25', 'Response/c75/r75', 'Response/c75/s25', 'Response/c75/s75', 'Response/i25/n25', 'Response/i25/r25', 'Response/i25/r75', 'Response/i25/s25', 'Response/i25/s75', 'Response/i75/n25', 'Response/i75/r25', 'Response/i75/r75', 'Response/i75/s25', 'Response/i75/s75', 'Stimulus/c25/n75', 'Stimulus/c25/r25', 'Stimulus/c25/r75', 'Stimulus/c25/s25', 'Stimulus/c25/s75', 'Stimulus/c75/n75', 'Stimulus/c75/r25', 'Stimulus/c75/r75', 'Stimulus/c75/s25', 'Stimulus/c75/s75', 'Stimulus/i25/n25', 'Stimulus/i25/r25', 'Stimulus/i25/r75', 'Stimulus/i25/s25', 'Stimulus/i25/s75', 'Stimulus/i75/n25', 'Stimulus/i75/r25', 'Stimulus/i75/r75', 'Stimulus/i75/s25', 'Stimulus/i75/s75']\n",
      "Not setting metadata\n",
      "448 matching events found\n",
      "No baseline correction applied\n",
      "0 projection items activated\n",
      "Using data from preloaded Raw for 448 events and 2459 original time points ...\n",
      "0 bad epochs dropped\n",
      "Data is self data: True\n"
     ]
    },
    {
     "name": "stderr",
     "output_type": "stream",
     "text": [
      "[Parallel(n_jobs=1)]: Done   1 tasks      | elapsed:    3.2s\n",
      "[Parallel(n_jobs=1)]: Done   4 tasks      | elapsed:   13.2s\n",
      "[Parallel(n_jobs=1)]: Done   7 tasks      | elapsed:   23.2s\n",
      "[Parallel(n_jobs=1)]: Done  12 tasks      | elapsed:   39.9s\n",
      "[Parallel(n_jobs=1)]: Done  17 tasks      | elapsed:   56.6s\n",
      "[Parallel(n_jobs=1)]: Done  24 tasks      | elapsed:  1.3min\n",
      "[Parallel(n_jobs=1)]: Done  31 tasks      | elapsed:  1.7min\n",
      "[Parallel(n_jobs=1)]: Done  40 tasks      | elapsed:  2.2min\n",
      "[Parallel(n_jobs=1)]: Done  49 tasks      | elapsed:  2.7min\n",
      "[Parallel(n_jobs=1)]: Done  60 tasks      | elapsed:  3.3min\n",
      "[Parallel(n_jobs=1)]: Done  71 tasks      | elapsed:  4.0min\n",
      "[Parallel(n_jobs=1)]: Done  84 tasks      | elapsed:  4.7min\n",
      "[Parallel(n_jobs=1)]: Done  97 tasks      | elapsed:  5.4min\n",
      "[Parallel(n_jobs=1)]: Done 112 tasks      | elapsed:  6.3min\n",
      "[Parallel(n_jobs=1)]: Done 127 tasks      | elapsed:  7.1min\n",
      "[Parallel(n_jobs=1)]: Done 144 tasks      | elapsed:  8.1min\n",
      "[Parallel(n_jobs=1)]: Done 161 tasks      | elapsed:  9.0min\n",
      "[Parallel(n_jobs=1)]: Done 180 tasks      | elapsed: 10.0min\n",
      "[Parallel(n_jobs=1)]: Done 199 tasks      | elapsed: 11.1min\n",
      "[Parallel(n_jobs=1)]: Done 220 tasks      | elapsed: 12.2min\n"
     ]
    },
    {
     "name": "stdout",
     "output_type": "stream",
     "text": [
      "Not setting metadata\n",
      "Used Annotations descriptions: ['Response/c25/n75', 'Response/c25/r25', 'Response/c25/r75', 'Response/c25/s25', 'Response/c25/s75', 'Response/c75/n75', 'Response/c75/r25', 'Response/c75/r75', 'Response/c75/s25', 'Response/c75/s75', 'Response/i25/n25', 'Response/i25/r25', 'Response/i25/r75', 'Response/i25/s25', 'Response/i25/s75', 'Response/i75/n25', 'Response/i75/r25', 'Response/i75/r75', 'Response/i75/s25', 'Response/i75/s75', 'Stimulus/c25/n75', 'Stimulus/c25/r25', 'Stimulus/c25/r75', 'Stimulus/c25/s25', 'Stimulus/c25/s75', 'Stimulus/c75/n75', 'Stimulus/c75/r25', 'Stimulus/c75/r75', 'Stimulus/c75/s25', 'Stimulus/c75/s75', 'Stimulus/i25/n25', 'Stimulus/i25/r25', 'Stimulus/i25/r75', 'Stimulus/i25/s25', 'Stimulus/i25/s75', 'Stimulus/i75/n25', 'Stimulus/i75/r25', 'Stimulus/i75/r75', 'Stimulus/i75/s25', 'Stimulus/i75/s75']\n",
      "Not setting metadata\n",
      "448 matching events found\n",
      "No baseline correction applied\n",
      "0 projection items activated\n",
      "Using data from preloaded Raw for 448 events and 8193 original time points ...\n",
      "0 bad epochs dropped\n",
      "Data is self data: True\n"
     ]
    },
    {
     "name": "stderr",
     "output_type": "stream",
     "text": [
      "[Parallel(n_jobs=1)]: Done   1 tasks      | elapsed:   12.3s\n",
      "[Parallel(n_jobs=1)]: Done   4 tasks      | elapsed:   47.9s\n",
      "[Parallel(n_jobs=1)]: Done   7 tasks      | elapsed:  1.4min\n",
      "[Parallel(n_jobs=1)]: Done  12 tasks      | elapsed:  2.4min\n",
      "[Parallel(n_jobs=1)]: Done  17 tasks      | elapsed:  3.4min\n",
      "[Parallel(n_jobs=1)]: Done  24 tasks      | elapsed:  4.8min\n",
      "[Parallel(n_jobs=1)]: Done  31 tasks      | elapsed:  6.2min\n",
      "[Parallel(n_jobs=1)]: Done  40 tasks      | elapsed:  8.0min\n",
      "[Parallel(n_jobs=1)]: Done  49 tasks      | elapsed:  9.7min\n",
      "[Parallel(n_jobs=1)]: Done  60 tasks      | elapsed: 11.9min\n",
      "[Parallel(n_jobs=1)]: Done  71 tasks      | elapsed: 14.1min\n",
      "[Parallel(n_jobs=1)]: Done  84 tasks      | elapsed: 16.7min\n",
      "[Parallel(n_jobs=1)]: Done  97 tasks      | elapsed: 19.2min\n",
      "[Parallel(n_jobs=1)]: Done 112 tasks      | elapsed: 22.2min\n",
      "[Parallel(n_jobs=1)]: Done 127 tasks      | elapsed: 25.2min\n",
      "[Parallel(n_jobs=1)]: Done 144 tasks      | elapsed: 28.7min\n",
      "[Parallel(n_jobs=1)]: Done 161 tasks      | elapsed: 32.1min\n",
      "[Parallel(n_jobs=1)]: Done 180 tasks      | elapsed: 35.9min\n",
      "[Parallel(n_jobs=1)]: Done 199 tasks      | elapsed: 39.7min\n",
      "[Parallel(n_jobs=1)]: Done 220 tasks      | elapsed: 44.3min\n"
     ]
    },
    {
     "name": "stdout",
     "output_type": "stream",
     "text": [
      "Not setting metadata\n",
      "Applying baseline correction (mode: ratio)\n"
     ]
    },
    {
     "name": "stderr",
     "output_type": "stream",
     "text": [
      "C:\\Users\\jz421\\Desktop\\GlobalLocal\\IEEG_Pipelines\\ieeg\\calc\\scaling.py:69: RuntimeWarning: invalid value encountered in divide\n",
      "  d /= m\n",
      "C:\\Users\\jz421\\AppData\\Local\\Temp\\ipykernel_1544\\1846413019.py:70: RuntimeWarning: Mean of empty slice\n",
      "  lambda x: np.nanmean(x, axis=0), copy=True)\n"
     ]
    },
    {
     "name": "stdout",
     "output_type": "stream",
     "text": [
      "Extracting EDF parameters from C:\\Users\\jz421\\Box\\CoganLab\\BIDS-1.1_GlobalLocal\\BIDS\\derivatives\\clean\\sub-D0065\\ieeg\\sub-D0065_task-GlobalLocal_acq-01_run-01_desc-clean_ieeg.edf...\n",
      "EDF file detected\n",
      "Setting channel info structure...\n",
      "Creating raw.info structure...\n",
      "Reading events from C:\\Users\\jz421\\Box\\CoganLab\\BIDS-1.1_GlobalLocal\\BIDS\\derivatives\\clean\\sub-D0065\\ieeg\\sub-D0065_task-GlobalLocal_acq-01_run-01_desc-clean_events.tsv.\n",
      "Reading channel info from C:\\Users\\jz421\\Box\\CoganLab\\BIDS-1.1_GlobalLocal\\BIDS\\derivatives\\clean\\sub-D0065\\ieeg\\sub-D0065_task-GlobalLocal_acq-01_run-01_desc-clean_channels.tsv.\n",
      "Reading electrode coords from C:\\Users\\jz421\\Box\\CoganLab\\BIDS-1.1_GlobalLocal\\BIDS\\derivatives\\clean\\sub-D0065\\ieeg\\sub-D0065_acq-01_space-ACPC_electrodes.tsv.\n",
      "Not fully anonymizing info - keeping his_id, sex, and hand info\n",
      "Extracting EDF parameters from C:\\Users\\jz421\\Box\\CoganLab\\BIDS-1.1_GlobalLocal\\BIDS\\derivatives\\clean\\sub-D0065\\ieeg\\sub-D0065_task-GlobalLocal_acq-01_run-02_desc-clean_ieeg.edf...\n",
      "EDF file detected\n",
      "Setting channel info structure...\n",
      "Creating raw.info structure...\n"
     ]
    },
    {
     "name": "stderr",
     "output_type": "stream",
     "text": [
      "C:\\Users\\jz421\\Desktop\\GlobalLocal\\IEEG_Pipelines\\ieeg\\io.py:113: RuntimeWarning: The number of channels in the channels.tsv sidecar file (221) does not match the number of channels in the raw data file (220). Will not try to set channel names.\n",
      "  new_raw = read_raw_bids(bids_path=BIDS_path, verbose=verbose)\n",
      "C:\\Users\\jz421\\Desktop\\GlobalLocal\\IEEG_Pipelines\\ieeg\\io.py:113: RuntimeWarning: Cannot set channel type for the following channels, as they are missing in the raw data: Trigger\n",
      "  new_raw = read_raw_bids(bids_path=BIDS_path, verbose=verbose)\n"
     ]
    },
    {
     "name": "stdout",
     "output_type": "stream",
     "text": [
      "Reading events from C:\\Users\\jz421\\Box\\CoganLab\\BIDS-1.1_GlobalLocal\\BIDS\\derivatives\\clean\\sub-D0065\\ieeg\\sub-D0065_task-GlobalLocal_acq-01_run-02_desc-clean_events.tsv.\n",
      "Reading channel info from C:\\Users\\jz421\\Box\\CoganLab\\BIDS-1.1_GlobalLocal\\BIDS\\derivatives\\clean\\sub-D0065\\ieeg\\sub-D0065_task-GlobalLocal_acq-01_run-02_desc-clean_channels.tsv.\n",
      "Reading electrode coords from C:\\Users\\jz421\\Box\\CoganLab\\BIDS-1.1_GlobalLocal\\BIDS\\derivatives\\clean\\sub-D0065\\ieeg\\sub-D0065_acq-01_space-ACPC_electrodes.tsv.\n",
      "Not fully anonymizing info - keeping his_id, sex, and hand info\n",
      "Extracting EDF parameters from C:\\Users\\jz421\\Box\\CoganLab\\BIDS-1.1_GlobalLocal\\BIDS\\derivatives\\clean\\sub-D0065\\ieeg\\sub-D0065_task-GlobalLocal_acq-01_run-03_desc-clean_ieeg.edf...\n",
      "EDF file detected\n",
      "Setting channel info structure...\n",
      "Creating raw.info structure...\n"
     ]
    },
    {
     "name": "stderr",
     "output_type": "stream",
     "text": [
      "C:\\Users\\jz421\\Desktop\\GlobalLocal\\IEEG_Pipelines\\ieeg\\io.py:113: RuntimeWarning: Omitted 217 annotation(s) that were outside data range.\n",
      "  new_raw = read_raw_bids(bids_path=BIDS_path, verbose=verbose)\n",
      "C:\\Users\\jz421\\Desktop\\GlobalLocal\\IEEG_Pipelines\\ieeg\\io.py:113: RuntimeWarning: The number of channels in the channels.tsv sidecar file (221) does not match the number of channels in the raw data file (220). Will not try to set channel names.\n",
      "  new_raw = read_raw_bids(bids_path=BIDS_path, verbose=verbose)\n",
      "C:\\Users\\jz421\\Desktop\\GlobalLocal\\IEEG_Pipelines\\ieeg\\io.py:113: RuntimeWarning: Cannot set channel type for the following channels, as they are missing in the raw data: Trigger\n",
      "  new_raw = read_raw_bids(bids_path=BIDS_path, verbose=verbose)\n"
     ]
    },
    {
     "name": "stdout",
     "output_type": "stream",
     "text": [
      "Reading events from C:\\Users\\jz421\\Box\\CoganLab\\BIDS-1.1_GlobalLocal\\BIDS\\derivatives\\clean\\sub-D0065\\ieeg\\sub-D0065_task-GlobalLocal_acq-01_run-03_desc-clean_events.tsv.\n",
      "Reading channel info from C:\\Users\\jz421\\Box\\CoganLab\\BIDS-1.1_GlobalLocal\\BIDS\\derivatives\\clean\\sub-D0065\\ieeg\\sub-D0065_task-GlobalLocal_acq-01_run-03_desc-clean_channels.tsv.\n",
      "Reading electrode coords from C:\\Users\\jz421\\Box\\CoganLab\\BIDS-1.1_GlobalLocal\\BIDS\\derivatives\\clean\\sub-D0065\\ieeg\\sub-D0065_acq-01_space-ACPC_electrodes.tsv.\n",
      "Not fully anonymizing info - keeping his_id, sex, and hand info\n",
      "Extracting EDF parameters from C:\\Users\\jz421\\Box\\CoganLab\\BIDS-1.1_GlobalLocal\\BIDS\\derivatives\\clean\\sub-D0065\\ieeg\\sub-D0065_task-GlobalLocal_acq-01_run-04_desc-clean_ieeg.edf...\n",
      "EDF file detected\n",
      "Setting channel info structure...\n",
      "Creating raw.info structure...\n"
     ]
    },
    {
     "name": "stderr",
     "output_type": "stream",
     "text": [
      "C:\\Users\\jz421\\Desktop\\GlobalLocal\\IEEG_Pipelines\\ieeg\\io.py:113: RuntimeWarning: Omitted 225 annotation(s) that were outside data range.\n",
      "  new_raw = read_raw_bids(bids_path=BIDS_path, verbose=verbose)\n",
      "C:\\Users\\jz421\\Desktop\\GlobalLocal\\IEEG_Pipelines\\ieeg\\io.py:113: RuntimeWarning: The number of channels in the channels.tsv sidecar file (221) does not match the number of channels in the raw data file (220). Will not try to set channel names.\n",
      "  new_raw = read_raw_bids(bids_path=BIDS_path, verbose=verbose)\n",
      "C:\\Users\\jz421\\Desktop\\GlobalLocal\\IEEG_Pipelines\\ieeg\\io.py:113: RuntimeWarning: Cannot set channel type for the following channels, as they are missing in the raw data: Trigger\n",
      "  new_raw = read_raw_bids(bids_path=BIDS_path, verbose=verbose)\n"
     ]
    },
    {
     "name": "stdout",
     "output_type": "stream",
     "text": [
      "Reading events from C:\\Users\\jz421\\Box\\CoganLab\\BIDS-1.1_GlobalLocal\\BIDS\\derivatives\\clean\\sub-D0065\\ieeg\\sub-D0065_task-GlobalLocal_acq-01_run-04_desc-clean_events.tsv.\n",
      "Reading channel info from C:\\Users\\jz421\\Box\\CoganLab\\BIDS-1.1_GlobalLocal\\BIDS\\derivatives\\clean\\sub-D0065\\ieeg\\sub-D0065_task-GlobalLocal_acq-01_run-04_desc-clean_channels.tsv.\n",
      "Reading electrode coords from C:\\Users\\jz421\\Box\\CoganLab\\BIDS-1.1_GlobalLocal\\BIDS\\derivatives\\clean\\sub-D0065\\ieeg\\sub-D0065_acq-01_space-ACPC_electrodes.tsv.\n",
      "Not fully anonymizing info - keeping his_id, sex, and hand info\n"
     ]
    },
    {
     "name": "stderr",
     "output_type": "stream",
     "text": [
      "C:\\Users\\jz421\\Desktop\\GlobalLocal\\IEEG_Pipelines\\ieeg\\io.py:113: RuntimeWarning: Omitted 222 annotation(s) that were outside data range.\n",
      "  new_raw = read_raw_bids(bids_path=BIDS_path, verbose=verbose)\n",
      "C:\\Users\\jz421\\Desktop\\GlobalLocal\\IEEG_Pipelines\\ieeg\\io.py:113: RuntimeWarning: The number of channels in the channels.tsv sidecar file (221) does not match the number of channels in the raw data file (220). Will not try to set channel names.\n",
      "  new_raw = read_raw_bids(bids_path=BIDS_path, verbose=verbose)\n",
      "C:\\Users\\jz421\\Desktop\\GlobalLocal\\IEEG_Pipelines\\ieeg\\io.py:113: RuntimeWarning: Cannot set channel type for the following channels, as they are missing in the raw data: Trigger\n",
      "  new_raw = read_raw_bids(bids_path=BIDS_path, verbose=verbose)\n"
     ]
    },
    {
     "name": "stdout",
     "output_type": "stream",
     "text": [
      "<RawEDF | sub-D0065_task-GlobalLocal_acq-01_run-01_desc-clean_ieeg.edf, 220 x 6350848 (3101.0 s), ~247 kB, data not loaded>\n",
      "outlier round 1 channels: ['RPIF3']\n",
      "outlier round 1 channels: ['RPIF3', 'RAIO9']\n",
      "outlier round 2 channels: ['RPIF3', 'RAIO9', 'RAMT15']\n",
      "outlier round 2 channels: ['RPIF3', 'RAIO9', 'RAMT15', 'RMMT8']\n",
      "Reading 0 ... 3588355  =      0.000 ...  1752.126 secs...\n",
      "Applying average reference.\n",
      "Applying a custom ('sEEG',) reference.\n",
      "times: [-0.7, 0.5]\n",
      "Used Annotations descriptions: ['Response/c25/n25', 'Response/c25/n75', 'Response/c25/r25', 'Response/c25/r75', 'Response/c25/s25', 'Response/c25/s75', 'Response/c75/r25', 'Response/c75/r75', 'Response/c75/s25', 'Response/c75/s75', 'Response/i25/r25', 'Response/i25/r75', 'Response/i25/s25', 'Response/i25/s75', 'Response/i75/n25', 'Response/i75/n75', 'Response/i75/r25', 'Response/i75/r75', 'Response/i75/s25', 'Response/i75/s75', 'Stimulus/c25/n25', 'Stimulus/c25/n75', 'Stimulus/c25/r25', 'Stimulus/c25/r75', 'Stimulus/c25/s25', 'Stimulus/c25/s75', 'Stimulus/c75/r25', 'Stimulus/c75/r75', 'Stimulus/c75/s25', 'Stimulus/c75/s75', 'Stimulus/i25/r25', 'Stimulus/i25/r75', 'Stimulus/i25/s25', 'Stimulus/i25/s75', 'Stimulus/i75/n25', 'Stimulus/i75/n75', 'Stimulus/i75/r25', 'Stimulus/i75/r75', 'Stimulus/i75/s25', 'Stimulus/i75/s75']\n",
      "Not setting metadata\n",
      "448 matching events found\n",
      "No baseline correction applied\n",
      "0 projection items activated\n",
      "Using data from preloaded Raw for 448 events and 2459 original time points ...\n",
      "0 bad epochs dropped\n",
      "Data is self data: True\n"
     ]
    },
    {
     "name": "stderr",
     "output_type": "stream",
     "text": [
      "[Parallel(n_jobs=1)]: Done   1 tasks      | elapsed:    3.4s\n",
      "[Parallel(n_jobs=1)]: Done   4 tasks      | elapsed:   14.1s\n",
      "[Parallel(n_jobs=1)]: Done   7 tasks      | elapsed:   24.8s\n",
      "[Parallel(n_jobs=1)]: Done  12 tasks      | elapsed:   42.5s\n",
      "[Parallel(n_jobs=1)]: Done  17 tasks      | elapsed:  1.0min\n",
      "[Parallel(n_jobs=1)]: Done  24 tasks      | elapsed:  1.4min\n",
      "[Parallel(n_jobs=1)]: Done  31 tasks      | elapsed:  1.8min\n",
      "[Parallel(n_jobs=1)]: Done  40 tasks      | elapsed:  2.4min\n",
      "[Parallel(n_jobs=1)]: Done  49 tasks      | elapsed:  2.9min\n",
      "[Parallel(n_jobs=1)]: Done  60 tasks      | elapsed:  3.5min\n",
      "[Parallel(n_jobs=1)]: Done  71 tasks      | elapsed:  4.2min\n",
      "[Parallel(n_jobs=1)]: Done  84 tasks      | elapsed:  5.0min\n",
      "[Parallel(n_jobs=1)]: Done  97 tasks      | elapsed:  5.7min\n",
      "[Parallel(n_jobs=1)]: Done 112 tasks      | elapsed:  6.6min\n",
      "[Parallel(n_jobs=1)]: Done 127 tasks      | elapsed:  7.5min\n",
      "[Parallel(n_jobs=1)]: Done 144 tasks      | elapsed:  8.5min\n",
      "[Parallel(n_jobs=1)]: Done 161 tasks      | elapsed:  9.5min\n",
      "[Parallel(n_jobs=1)]: Done 180 tasks      | elapsed: 10.6min\n",
      "[Parallel(n_jobs=1)]: Done 199 tasks      | elapsed: 11.7min\n"
     ]
    },
    {
     "name": "stdout",
     "output_type": "stream",
     "text": [
      "Not setting metadata\n",
      "Used Annotations descriptions: ['Response/c25/n25', 'Response/c25/n75', 'Response/c25/r25', 'Response/c25/r75', 'Response/c25/s25', 'Response/c25/s75', 'Response/c75/r25', 'Response/c75/r75', 'Response/c75/s25', 'Response/c75/s75', 'Response/i25/r25', 'Response/i25/r75', 'Response/i25/s25', 'Response/i25/s75', 'Response/i75/n25', 'Response/i75/n75', 'Response/i75/r25', 'Response/i75/r75', 'Response/i75/s25', 'Response/i75/s75', 'Stimulus/c25/n25', 'Stimulus/c25/n75', 'Stimulus/c25/r25', 'Stimulus/c25/r75', 'Stimulus/c25/s25', 'Stimulus/c25/s75', 'Stimulus/c75/r25', 'Stimulus/c75/r75', 'Stimulus/c75/s25', 'Stimulus/c75/s75', 'Stimulus/i25/r25', 'Stimulus/i25/r75', 'Stimulus/i25/s25', 'Stimulus/i25/s75', 'Stimulus/i75/n25', 'Stimulus/i75/n75', 'Stimulus/i75/r25', 'Stimulus/i75/r75', 'Stimulus/i75/s25', 'Stimulus/i75/s75']\n",
      "Not setting metadata\n",
      "448 matching events found\n",
      "No baseline correction applied\n",
      "0 projection items activated\n",
      "Using data from preloaded Raw for 448 events and 8193 original time points ...\n",
      "0 bad epochs dropped\n",
      "Data is self data: True\n"
     ]
    },
    {
     "name": "stderr",
     "output_type": "stream",
     "text": [
      "[Parallel(n_jobs=1)]: Done   1 tasks      | elapsed:   13.1s\n",
      "[Parallel(n_jobs=1)]: Done   4 tasks      | elapsed:   51.7s\n",
      "[Parallel(n_jobs=1)]: Done   7 tasks      | elapsed:  1.5min\n",
      "[Parallel(n_jobs=1)]: Done  12 tasks      | elapsed:  2.6min\n",
      "[Parallel(n_jobs=1)]: Done  17 tasks      | elapsed:  3.7min\n",
      "[Parallel(n_jobs=1)]: Done  24 tasks      | elapsed:  5.2min\n",
      "[Parallel(n_jobs=1)]: Done  31 tasks      | elapsed:  6.7min\n",
      "[Parallel(n_jobs=1)]: Done  40 tasks      | elapsed:  8.7min\n",
      "[Parallel(n_jobs=1)]: Done  49 tasks      | elapsed: 10.7min\n",
      "[Parallel(n_jobs=1)]: Done  60 tasks      | elapsed: 13.1min\n",
      "[Parallel(n_jobs=1)]: Done  71 tasks      | elapsed: 15.5min\n",
      "[Parallel(n_jobs=1)]: Done  84 tasks      | elapsed: 18.4min\n",
      "[Parallel(n_jobs=1)]: Done  97 tasks      | elapsed: 21.3min\n",
      "[Parallel(n_jobs=1)]: Done 112 tasks      | elapsed: 24.6min\n",
      "[Parallel(n_jobs=1)]: Done 127 tasks      | elapsed: 28.0min\n",
      "[Parallel(n_jobs=1)]: Done 144 tasks      | elapsed: 31.8min\n",
      "[Parallel(n_jobs=1)]: Done 161 tasks      | elapsed: 35.6min\n",
      "[Parallel(n_jobs=1)]: Done 180 tasks      | elapsed: 39.6min\n",
      "[Parallel(n_jobs=1)]: Done 199 tasks      | elapsed: 43.4min\n"
     ]
    },
    {
     "name": "stdout",
     "output_type": "stream",
     "text": [
      "Not setting metadata\n",
      "Applying baseline correction (mode: ratio)\n"
     ]
    },
    {
     "name": "stderr",
     "output_type": "stream",
     "text": [
      "C:\\Users\\jz421\\Desktop\\GlobalLocal\\IEEG_Pipelines\\ieeg\\calc\\scaling.py:69: RuntimeWarning: invalid value encountered in divide\n",
      "  d /= m\n",
      "C:\\Users\\jz421\\AppData\\Local\\Temp\\ipykernel_1544\\1846413019.py:70: RuntimeWarning: Mean of empty slice\n",
      "  lambda x: np.nanmean(x, axis=0), copy=True)\n"
     ]
    },
    {
     "name": "stdout",
     "output_type": "stream",
     "text": [
      "Extracting EDF parameters from C:\\Users\\jz421\\Box\\CoganLab\\BIDS-1.1_GlobalLocal\\BIDS\\derivatives\\clean\\sub-D0069\\ieeg\\sub-D0069_task-GlobalLocal_acq-01_run-01_desc-clean_ieeg.edf...\n",
      "EDF file detected\n",
      "Setting channel info structure...\n",
      "Creating raw.info structure...\n",
      "Reading events from C:\\Users\\jz421\\Box\\CoganLab\\BIDS-1.1_GlobalLocal\\BIDS\\derivatives\\clean\\sub-D0069\\ieeg\\sub-D0069_task-GlobalLocal_acq-01_run-01_desc-clean_events.tsv.\n",
      "Reading channel info from C:\\Users\\jz421\\Box\\CoganLab\\BIDS-1.1_GlobalLocal\\BIDS\\derivatives\\clean\\sub-D0069\\ieeg\\sub-D0069_task-GlobalLocal_acq-01_run-01_desc-clean_channels.tsv.\n",
      "Reading electrode coords from C:\\Users\\jz421\\Box\\CoganLab\\BIDS-1.1_GlobalLocal\\BIDS\\derivatives\\clean\\sub-D0069\\ieeg\\sub-D0069_acq-01_space-ACPC_electrodes.tsv.\n",
      "Not fully anonymizing info - keeping his_id, sex, and hand info\n",
      "Extracting EDF parameters from C:\\Users\\jz421\\Box\\CoganLab\\BIDS-1.1_GlobalLocal\\BIDS\\derivatives\\clean\\sub-D0069\\ieeg\\sub-D0069_task-GlobalLocal_acq-01_run-02_desc-clean_ieeg.edf...\n",
      "EDF file detected\n",
      "Setting channel info structure...\n",
      "Creating raw.info structure...\n"
     ]
    },
    {
     "name": "stderr",
     "output_type": "stream",
     "text": [
      "C:\\Users\\jz421\\Desktop\\GlobalLocal\\IEEG_Pipelines\\ieeg\\io.py:113: RuntimeWarning: The number of channels in the channels.tsv sidecar file (133) does not match the number of channels in the raw data file (132). Will not try to set channel names.\n",
      "  new_raw = read_raw_bids(bids_path=BIDS_path, verbose=verbose)\n",
      "C:\\Users\\jz421\\Desktop\\GlobalLocal\\IEEG_Pipelines\\ieeg\\io.py:113: RuntimeWarning: Cannot set channel type for the following channels, as they are missing in the raw data: Trigger\n",
      "  new_raw = read_raw_bids(bids_path=BIDS_path, verbose=verbose)\n"
     ]
    },
    {
     "name": "stdout",
     "output_type": "stream",
     "text": [
      "Reading events from C:\\Users\\jz421\\Box\\CoganLab\\BIDS-1.1_GlobalLocal\\BIDS\\derivatives\\clean\\sub-D0069\\ieeg\\sub-D0069_task-GlobalLocal_acq-01_run-02_desc-clean_events.tsv.\n",
      "Reading channel info from C:\\Users\\jz421\\Box\\CoganLab\\BIDS-1.1_GlobalLocal\\BIDS\\derivatives\\clean\\sub-D0069\\ieeg\\sub-D0069_task-GlobalLocal_acq-01_run-02_desc-clean_channels.tsv.\n",
      "Reading electrode coords from C:\\Users\\jz421\\Box\\CoganLab\\BIDS-1.1_GlobalLocal\\BIDS\\derivatives\\clean\\sub-D0069\\ieeg\\sub-D0069_acq-01_space-ACPC_electrodes.tsv.\n",
      "Not fully anonymizing info - keeping his_id, sex, and hand info\n",
      "Extracting EDF parameters from C:\\Users\\jz421\\Box\\CoganLab\\BIDS-1.1_GlobalLocal\\BIDS\\derivatives\\clean\\sub-D0069\\ieeg\\sub-D0069_task-GlobalLocal_acq-01_run-03_desc-clean_ieeg.edf...\n",
      "EDF file detected\n",
      "Setting channel info structure...\n",
      "Creating raw.info structure...\n"
     ]
    },
    {
     "name": "stderr",
     "output_type": "stream",
     "text": [
      "C:\\Users\\jz421\\Desktop\\GlobalLocal\\IEEG_Pipelines\\ieeg\\io.py:113: RuntimeWarning: Omitted 224 annotation(s) that were outside data range.\n",
      "  new_raw = read_raw_bids(bids_path=BIDS_path, verbose=verbose)\n",
      "C:\\Users\\jz421\\Desktop\\GlobalLocal\\IEEG_Pipelines\\ieeg\\io.py:113: RuntimeWarning: The number of channels in the channels.tsv sidecar file (133) does not match the number of channels in the raw data file (132). Will not try to set channel names.\n",
      "  new_raw = read_raw_bids(bids_path=BIDS_path, verbose=verbose)\n",
      "C:\\Users\\jz421\\Desktop\\GlobalLocal\\IEEG_Pipelines\\ieeg\\io.py:113: RuntimeWarning: Cannot set channel type for the following channels, as they are missing in the raw data: Trigger\n",
      "  new_raw = read_raw_bids(bids_path=BIDS_path, verbose=verbose)\n"
     ]
    },
    {
     "name": "stdout",
     "output_type": "stream",
     "text": [
      "Reading events from C:\\Users\\jz421\\Box\\CoganLab\\BIDS-1.1_GlobalLocal\\BIDS\\derivatives\\clean\\sub-D0069\\ieeg\\sub-D0069_task-GlobalLocal_acq-01_run-03_desc-clean_events.tsv.\n",
      "Reading channel info from C:\\Users\\jz421\\Box\\CoganLab\\BIDS-1.1_GlobalLocal\\BIDS\\derivatives\\clean\\sub-D0069\\ieeg\\sub-D0069_task-GlobalLocal_acq-01_run-03_desc-clean_channels.tsv.\n",
      "Reading electrode coords from C:\\Users\\jz421\\Box\\CoganLab\\BIDS-1.1_GlobalLocal\\BIDS\\derivatives\\clean\\sub-D0069\\ieeg\\sub-D0069_acq-01_space-ACPC_electrodes.tsv.\n",
      "Not fully anonymizing info - keeping his_id, sex, and hand info\n",
      "Extracting EDF parameters from C:\\Users\\jz421\\Box\\CoganLab\\BIDS-1.1_GlobalLocal\\BIDS\\derivatives\\clean\\sub-D0069\\ieeg\\sub-D0069_task-GlobalLocal_acq-01_run-04_desc-clean_ieeg.edf...\n",
      "EDF file detected\n",
      "Setting channel info structure...\n",
      "Creating raw.info structure...\n"
     ]
    },
    {
     "name": "stderr",
     "output_type": "stream",
     "text": [
      "C:\\Users\\jz421\\Desktop\\GlobalLocal\\IEEG_Pipelines\\ieeg\\io.py:113: RuntimeWarning: Omitted 224 annotation(s) that were outside data range.\n",
      "  new_raw = read_raw_bids(bids_path=BIDS_path, verbose=verbose)\n",
      "C:\\Users\\jz421\\Desktop\\GlobalLocal\\IEEG_Pipelines\\ieeg\\io.py:113: RuntimeWarning: The number of channels in the channels.tsv sidecar file (133) does not match the number of channels in the raw data file (132). Will not try to set channel names.\n",
      "  new_raw = read_raw_bids(bids_path=BIDS_path, verbose=verbose)\n",
      "C:\\Users\\jz421\\Desktop\\GlobalLocal\\IEEG_Pipelines\\ieeg\\io.py:113: RuntimeWarning: Cannot set channel type for the following channels, as they are missing in the raw data: Trigger\n",
      "  new_raw = read_raw_bids(bids_path=BIDS_path, verbose=verbose)\n"
     ]
    },
    {
     "name": "stdout",
     "output_type": "stream",
     "text": [
      "Reading events from C:\\Users\\jz421\\Box\\CoganLab\\BIDS-1.1_GlobalLocal\\BIDS\\derivatives\\clean\\sub-D0069\\ieeg\\sub-D0069_task-GlobalLocal_acq-01_run-04_desc-clean_events.tsv.\n",
      "Reading channel info from C:\\Users\\jz421\\Box\\CoganLab\\BIDS-1.1_GlobalLocal\\BIDS\\derivatives\\clean\\sub-D0069\\ieeg\\sub-D0069_task-GlobalLocal_acq-01_run-04_desc-clean_channels.tsv.\n",
      "Reading electrode coords from C:\\Users\\jz421\\Box\\CoganLab\\BIDS-1.1_GlobalLocal\\BIDS\\derivatives\\clean\\sub-D0069\\ieeg\\sub-D0069_acq-01_space-ACPC_electrodes.tsv.\n",
      "Not fully anonymizing info - keeping his_id, sex, and hand info\n"
     ]
    },
    {
     "name": "stderr",
     "output_type": "stream",
     "text": [
      "C:\\Users\\jz421\\Desktop\\GlobalLocal\\IEEG_Pipelines\\ieeg\\io.py:113: RuntimeWarning: Omitted 214 annotation(s) that were outside data range.\n",
      "  new_raw = read_raw_bids(bids_path=BIDS_path, verbose=verbose)\n",
      "C:\\Users\\jz421\\Desktop\\GlobalLocal\\IEEG_Pipelines\\ieeg\\io.py:113: RuntimeWarning: The number of channels in the channels.tsv sidecar file (133) does not match the number of channels in the raw data file (132). Will not try to set channel names.\n",
      "  new_raw = read_raw_bids(bids_path=BIDS_path, verbose=verbose)\n",
      "C:\\Users\\jz421\\Desktop\\GlobalLocal\\IEEG_Pipelines\\ieeg\\io.py:113: RuntimeWarning: Cannot set channel type for the following channels, as they are missing in the raw data: Trigger\n",
      "  new_raw = read_raw_bids(bids_path=BIDS_path, verbose=verbose)\n"
     ]
    },
    {
     "name": "stdout",
     "output_type": "stream",
     "text": [
      "<RawEDF | sub-D0069_task-GlobalLocal_acq-01_run-01_desc-clean_ieeg.edf, 132 x 5701632 (2784.0 s), ~151 kB, data not loaded>\n",
      "outlier round 1 channels: ['LTMS11']\n",
      "outlier round 2 channels: ['LTMS11', 'LTAS9']\n",
      "Reading 0 ... 3711369  =      0.000 ...  1812.192 secs...\n",
      "Applying average reference.\n",
      "Applying a custom ('sEEG',) reference.\n",
      "times: [-0.7, 0.5]\n",
      "Used Annotations descriptions: ['Response/c25/n75', 'Response/c25/r25', 'Response/c25/r75', 'Response/c25/s25', 'Response/c25/s75', 'Response/c75/r25', 'Response/c75/r75', 'Response/c75/s25', 'Response/c75/s75', 'Response/i25/n25', 'Response/i25/r25', 'Response/i25/r75', 'Response/i25/s25', 'Response/i25/s75', 'Response/i75/n25', 'Response/i75/n75', 'Response/i75/r25', 'Response/i75/r75', 'Response/i75/s25', 'Response/i75/s75', 'Stimulus/c25/n75', 'Stimulus/c25/r25', 'Stimulus/c25/r75', 'Stimulus/c25/s25', 'Stimulus/c25/s75', 'Stimulus/c75/r25', 'Stimulus/c75/r75', 'Stimulus/c75/s25', 'Stimulus/c75/s75', 'Stimulus/i25/n25', 'Stimulus/i25/r25', 'Stimulus/i25/r75', 'Stimulus/i25/s25', 'Stimulus/i25/s75', 'Stimulus/i75/n25', 'Stimulus/i75/n75', 'Stimulus/i75/r25', 'Stimulus/i75/r75', 'Stimulus/i75/s25', 'Stimulus/i75/s75']\n",
      "Not setting metadata\n",
      "448 matching events found\n",
      "No baseline correction applied\n",
      "0 projection items activated\n",
      "Using data from preloaded Raw for 448 events and 2459 original time points ...\n",
      "0 bad epochs dropped\n",
      "Data is self data: True\n"
     ]
    },
    {
     "name": "stderr",
     "output_type": "stream",
     "text": [
      "[Parallel(n_jobs=1)]: Done   1 tasks      | elapsed:    3.2s\n",
      "[Parallel(n_jobs=1)]: Done   4 tasks      | elapsed:   13.4s\n",
      "[Parallel(n_jobs=1)]: Done   7 tasks      | elapsed:   23.4s\n",
      "[Parallel(n_jobs=1)]: Done  12 tasks      | elapsed:   39.8s\n",
      "[Parallel(n_jobs=1)]: Done  17 tasks      | elapsed:   56.2s\n",
      "[Parallel(n_jobs=1)]: Done  24 tasks      | elapsed:  1.3min\n",
      "[Parallel(n_jobs=1)]: Done  31 tasks      | elapsed:  1.7min\n",
      "[Parallel(n_jobs=1)]: Done  40 tasks      | elapsed:  2.2min\n",
      "[Parallel(n_jobs=1)]: Done  49 tasks      | elapsed:  2.7min\n",
      "[Parallel(n_jobs=1)]: Done  60 tasks      | elapsed:  3.3min\n",
      "[Parallel(n_jobs=1)]: Done  71 tasks      | elapsed:  3.9min\n",
      "[Parallel(n_jobs=1)]: Done  84 tasks      | elapsed:  4.6min\n",
      "[Parallel(n_jobs=1)]: Done  97 tasks      | elapsed:  5.3min\n",
      "[Parallel(n_jobs=1)]: Done 112 tasks      | elapsed:  6.2min\n",
      "[Parallel(n_jobs=1)]: Done 127 tasks      | elapsed:  7.0min\n"
     ]
    },
    {
     "name": "stdout",
     "output_type": "stream",
     "text": [
      "Not setting metadata\n",
      "Used Annotations descriptions: ['Response/c25/n75', 'Response/c25/r25', 'Response/c25/r75', 'Response/c25/s25', 'Response/c25/s75', 'Response/c75/r25', 'Response/c75/r75', 'Response/c75/s25', 'Response/c75/s75', 'Response/i25/n25', 'Response/i25/r25', 'Response/i25/r75', 'Response/i25/s25', 'Response/i25/s75', 'Response/i75/n25', 'Response/i75/n75', 'Response/i75/r25', 'Response/i75/r75', 'Response/i75/s25', 'Response/i75/s75', 'Stimulus/c25/n75', 'Stimulus/c25/r25', 'Stimulus/c25/r75', 'Stimulus/c25/s25', 'Stimulus/c25/s75', 'Stimulus/c75/r25', 'Stimulus/c75/r75', 'Stimulus/c75/s25', 'Stimulus/c75/s75', 'Stimulus/i25/n25', 'Stimulus/i25/r25', 'Stimulus/i25/r75', 'Stimulus/i25/s25', 'Stimulus/i25/s75', 'Stimulus/i75/n25', 'Stimulus/i75/n75', 'Stimulus/i75/r25', 'Stimulus/i75/r75', 'Stimulus/i75/s25', 'Stimulus/i75/s75']\n",
      "Not setting metadata\n",
      "448 matching events found\n",
      "No baseline correction applied\n",
      "0 projection items activated\n",
      "Using data from preloaded Raw for 448 events and 8193 original time points ...\n",
      "0 bad epochs dropped\n",
      "Data is self data: True\n"
     ]
    },
    {
     "name": "stderr",
     "output_type": "stream",
     "text": [
      "[Parallel(n_jobs=1)]: Done   1 tasks      | elapsed:   11.9s\n",
      "[Parallel(n_jobs=1)]: Done   4 tasks      | elapsed:   48.9s\n",
      "[Parallel(n_jobs=1)]: Done   7 tasks      | elapsed:  1.4min\n",
      "[Parallel(n_jobs=1)]: Done  12 tasks      | elapsed:  2.4min\n",
      "[Parallel(n_jobs=1)]: Done  17 tasks      | elapsed:  3.4min\n",
      "[Parallel(n_jobs=1)]: Done  24 tasks      | elapsed:  4.8min\n",
      "[Parallel(n_jobs=1)]: Done  31 tasks      | elapsed:  6.3min\n",
      "[Parallel(n_jobs=1)]: Done  40 tasks      | elapsed:  8.1min\n",
      "[Parallel(n_jobs=1)]: Done  49 tasks      | elapsed:  9.9min\n",
      "[Parallel(n_jobs=1)]: Done  60 tasks      | elapsed: 12.2min\n",
      "[Parallel(n_jobs=1)]: Done  71 tasks      | elapsed: 14.4min\n",
      "[Parallel(n_jobs=1)]: Done  84 tasks      | elapsed: 17.1min\n",
      "[Parallel(n_jobs=1)]: Done  97 tasks      | elapsed: 19.7min\n",
      "[Parallel(n_jobs=1)]: Done 112 tasks      | elapsed: 22.8min\n",
      "[Parallel(n_jobs=1)]: Done 127 tasks      | elapsed: 25.8min\n"
     ]
    },
    {
     "name": "stdout",
     "output_type": "stream",
     "text": [
      "Not setting metadata\n",
      "Applying baseline correction (mode: ratio)\n"
     ]
    },
    {
     "name": "stderr",
     "output_type": "stream",
     "text": [
      "C:\\Users\\jz421\\Desktop\\GlobalLocal\\IEEG_Pipelines\\ieeg\\calc\\scaling.py:69: RuntimeWarning: invalid value encountered in divide\n",
      "  d /= m\n",
      "C:\\Users\\jz421\\AppData\\Local\\Temp\\ipykernel_1544\\1846413019.py:70: RuntimeWarning: Mean of empty slice\n",
      "  lambda x: np.nanmean(x, axis=0), copy=True)\n"
     ]
    },
    {
     "name": "stdout",
     "output_type": "stream",
     "text": [
      "Extracting EDF parameters from C:\\Users\\jz421\\Box\\CoganLab\\BIDS-1.1_GlobalLocal\\BIDS\\derivatives\\clean\\sub-D0071\\ieeg\\sub-D0071_task-GlobalLocal_acq-01_run-01_desc-clean_ieeg.edf...\n",
      "EDF file detected\n",
      "Setting channel info structure...\n",
      "Creating raw.info structure...\n",
      "Reading events from C:\\Users\\jz421\\Box\\CoganLab\\BIDS-1.1_GlobalLocal\\BIDS\\derivatives\\clean\\sub-D0071\\ieeg\\sub-D0071_task-GlobalLocal_acq-01_run-01_desc-clean_events.tsv.\n",
      "Reading channel info from C:\\Users\\jz421\\Box\\CoganLab\\BIDS-1.1_GlobalLocal\\BIDS\\derivatives\\clean\\sub-D0071\\ieeg\\sub-D0071_task-GlobalLocal_acq-01_run-01_desc-clean_channels.tsv.\n",
      "Reading electrode coords from C:\\Users\\jz421\\Box\\CoganLab\\BIDS-1.1_GlobalLocal\\BIDS\\derivatives\\clean\\sub-D0071\\ieeg\\sub-D0071_acq-01_space-ACPC_electrodes.tsv.\n",
      "Not fully anonymizing info - keeping his_id, sex, and hand info\n",
      "Extracting EDF parameters from C:\\Users\\jz421\\Box\\CoganLab\\BIDS-1.1_GlobalLocal\\BIDS\\derivatives\\clean\\sub-D0071\\ieeg\\sub-D0071_task-GlobalLocal_acq-01_run-02_desc-clean_ieeg.edf...\n",
      "EDF file detected\n",
      "Setting channel info structure...\n",
      "Creating raw.info structure...\n"
     ]
    },
    {
     "name": "stderr",
     "output_type": "stream",
     "text": [
      "C:\\Users\\jz421\\Desktop\\GlobalLocal\\IEEG_Pipelines\\ieeg\\io.py:113: RuntimeWarning: The number of channels in the channels.tsv sidecar file (163) does not match the number of channels in the raw data file (162). Will not try to set channel names.\n",
      "  new_raw = read_raw_bids(bids_path=BIDS_path, verbose=verbose)\n",
      "C:\\Users\\jz421\\Desktop\\GlobalLocal\\IEEG_Pipelines\\ieeg\\io.py:113: RuntimeWarning: Cannot set channel type for the following channels, as they are missing in the raw data: Trigger\n",
      "  new_raw = read_raw_bids(bids_path=BIDS_path, verbose=verbose)\n"
     ]
    },
    {
     "name": "stdout",
     "output_type": "stream",
     "text": [
      "Reading events from C:\\Users\\jz421\\Box\\CoganLab\\BIDS-1.1_GlobalLocal\\BIDS\\derivatives\\clean\\sub-D0071\\ieeg\\sub-D0071_task-GlobalLocal_acq-01_run-02_desc-clean_events.tsv.\n",
      "Reading channel info from C:\\Users\\jz421\\Box\\CoganLab\\BIDS-1.1_GlobalLocal\\BIDS\\derivatives\\clean\\sub-D0071\\ieeg\\sub-D0071_task-GlobalLocal_acq-01_run-02_desc-clean_channels.tsv.\n",
      "Reading electrode coords from C:\\Users\\jz421\\Box\\CoganLab\\BIDS-1.1_GlobalLocal\\BIDS\\derivatives\\clean\\sub-D0071\\ieeg\\sub-D0071_acq-01_space-ACPC_electrodes.tsv.\n",
      "Not fully anonymizing info - keeping his_id, sex, and hand info\n",
      "Extracting EDF parameters from C:\\Users\\jz421\\Box\\CoganLab\\BIDS-1.1_GlobalLocal\\BIDS\\derivatives\\clean\\sub-D0071\\ieeg\\sub-D0071_task-GlobalLocal_acq-01_run-03_desc-clean_ieeg.edf...\n",
      "EDF file detected\n",
      "Setting channel info structure...\n",
      "Creating raw.info structure...\n"
     ]
    },
    {
     "name": "stderr",
     "output_type": "stream",
     "text": [
      "C:\\Users\\jz421\\Desktop\\GlobalLocal\\IEEG_Pipelines\\ieeg\\io.py:113: RuntimeWarning: Omitted 228 annotation(s) that were outside data range.\n",
      "  new_raw = read_raw_bids(bids_path=BIDS_path, verbose=verbose)\n",
      "C:\\Users\\jz421\\Desktop\\GlobalLocal\\IEEG_Pipelines\\ieeg\\io.py:113: RuntimeWarning: The number of channels in the channels.tsv sidecar file (163) does not match the number of channels in the raw data file (162). Will not try to set channel names.\n",
      "  new_raw = read_raw_bids(bids_path=BIDS_path, verbose=verbose)\n",
      "C:\\Users\\jz421\\Desktop\\GlobalLocal\\IEEG_Pipelines\\ieeg\\io.py:113: RuntimeWarning: Cannot set channel type for the following channels, as they are missing in the raw data: Trigger\n",
      "  new_raw = read_raw_bids(bids_path=BIDS_path, verbose=verbose)\n"
     ]
    },
    {
     "name": "stdout",
     "output_type": "stream",
     "text": [
      "Reading events from C:\\Users\\jz421\\Box\\CoganLab\\BIDS-1.1_GlobalLocal\\BIDS\\derivatives\\clean\\sub-D0071\\ieeg\\sub-D0071_task-GlobalLocal_acq-01_run-03_desc-clean_events.tsv.\n",
      "Reading channel info from C:\\Users\\jz421\\Box\\CoganLab\\BIDS-1.1_GlobalLocal\\BIDS\\derivatives\\clean\\sub-D0071\\ieeg\\sub-D0071_task-GlobalLocal_acq-01_run-03_desc-clean_channels.tsv.\n",
      "Reading electrode coords from C:\\Users\\jz421\\Box\\CoganLab\\BIDS-1.1_GlobalLocal\\BIDS\\derivatives\\clean\\sub-D0071\\ieeg\\sub-D0071_acq-01_space-ACPC_electrodes.tsv.\n",
      "Not fully anonymizing info - keeping his_id, sex, and hand info\n",
      "Extracting EDF parameters from C:\\Users\\jz421\\Box\\CoganLab\\BIDS-1.1_GlobalLocal\\BIDS\\derivatives\\clean\\sub-D0071\\ieeg\\sub-D0071_task-GlobalLocal_acq-01_run-04_desc-clean_ieeg.edf...\n",
      "EDF file detected\n",
      "Setting channel info structure...\n",
      "Creating raw.info structure...\n"
     ]
    },
    {
     "name": "stderr",
     "output_type": "stream",
     "text": [
      "C:\\Users\\jz421\\Desktop\\GlobalLocal\\IEEG_Pipelines\\ieeg\\io.py:113: RuntimeWarning: Omitted 228 annotation(s) that were outside data range.\n",
      "  new_raw = read_raw_bids(bids_path=BIDS_path, verbose=verbose)\n",
      "C:\\Users\\jz421\\Desktop\\GlobalLocal\\IEEG_Pipelines\\ieeg\\io.py:113: RuntimeWarning: The number of channels in the channels.tsv sidecar file (163) does not match the number of channels in the raw data file (162). Will not try to set channel names.\n",
      "  new_raw = read_raw_bids(bids_path=BIDS_path, verbose=verbose)\n",
      "C:\\Users\\jz421\\Desktop\\GlobalLocal\\IEEG_Pipelines\\ieeg\\io.py:113: RuntimeWarning: Cannot set channel type for the following channels, as they are missing in the raw data: Trigger\n",
      "  new_raw = read_raw_bids(bids_path=BIDS_path, verbose=verbose)\n"
     ]
    },
    {
     "name": "stdout",
     "output_type": "stream",
     "text": [
      "Reading events from C:\\Users\\jz421\\Box\\CoganLab\\BIDS-1.1_GlobalLocal\\BIDS\\derivatives\\clean\\sub-D0071\\ieeg\\sub-D0071_task-GlobalLocal_acq-01_run-04_desc-clean_events.tsv.\n",
      "Reading channel info from C:\\Users\\jz421\\Box\\CoganLab\\BIDS-1.1_GlobalLocal\\BIDS\\derivatives\\clean\\sub-D0071\\ieeg\\sub-D0071_task-GlobalLocal_acq-01_run-04_desc-clean_channels.tsv.\n",
      "Reading electrode coords from C:\\Users\\jz421\\Box\\CoganLab\\BIDS-1.1_GlobalLocal\\BIDS\\derivatives\\clean\\sub-D0071\\ieeg\\sub-D0071_acq-01_space-ACPC_electrodes.tsv.\n",
      "Not fully anonymizing info - keeping his_id, sex, and hand info\n"
     ]
    },
    {
     "name": "stderr",
     "output_type": "stream",
     "text": [
      "C:\\Users\\jz421\\Desktop\\GlobalLocal\\IEEG_Pipelines\\ieeg\\io.py:113: RuntimeWarning: Omitted 225 annotation(s) that were outside data range.\n",
      "  new_raw = read_raw_bids(bids_path=BIDS_path, verbose=verbose)\n",
      "C:\\Users\\jz421\\Desktop\\GlobalLocal\\IEEG_Pipelines\\ieeg\\io.py:113: RuntimeWarning: The number of channels in the channels.tsv sidecar file (163) does not match the number of channels in the raw data file (162). Will not try to set channel names.\n",
      "  new_raw = read_raw_bids(bids_path=BIDS_path, verbose=verbose)\n",
      "C:\\Users\\jz421\\Desktop\\GlobalLocal\\IEEG_Pipelines\\ieeg\\io.py:113: RuntimeWarning: Cannot set channel type for the following channels, as they are missing in the raw data: Trigger\n",
      "  new_raw = read_raw_bids(bids_path=BIDS_path, verbose=verbose)\n"
     ]
    },
    {
     "name": "stdout",
     "output_type": "stream",
     "text": [
      "<RawEDF | sub-D0071_task-GlobalLocal_acq-01_run-01_desc-clean_ieeg.edf, 162 x 6021120 (2940.0 s), ~184 kB, data not loaded>\n",
      "outlier round 1 channels: ['RTAS7']\n",
      "outlier round 1 channels: ['RTAS7', 'RTMM15']\n",
      "outlier round 2 channels: ['RTAS7', 'RTMM15', 'RFO15']\n",
      "outlier round 2 channels: ['RTAS7', 'RTMM15', 'RFO15', 'RTAS8']\n",
      "outlier round 2 channels: ['RTAS7', 'RTMM15', 'RFO15', 'RTAS8', 'RTMM16']\n",
      "Reading 0 ... 3455063  =      0.000 ...  1687.042 secs...\n",
      "Applying average reference.\n",
      "Applying a custom ('sEEG',) reference.\n",
      "times: [-0.7, 0.5]\n",
      "Used Annotations descriptions: ['Response/c25/n25', 'Response/c25/n75', 'Response/c25/r25', 'Response/c25/r75', 'Response/c25/s25', 'Response/c25/s75', 'Response/c75/n25', 'Response/c75/n75', 'Response/c75/r25', 'Response/c75/r75', 'Response/c75/s25', 'Response/c75/s75', 'Response/i25/r25', 'Response/i25/r75', 'Response/i25/s25', 'Response/i25/s75', 'Response/i75/r25', 'Response/i75/r75', 'Response/i75/s25', 'Response/i75/s75', 'Stimulus/c25/n25', 'Stimulus/c25/n75', 'Stimulus/c25/r25', 'Stimulus/c25/r75', 'Stimulus/c25/s25', 'Stimulus/c25/s75', 'Stimulus/c75/n25', 'Stimulus/c75/n75', 'Stimulus/c75/r25', 'Stimulus/c75/r75', 'Stimulus/c75/s25', 'Stimulus/c75/s75', 'Stimulus/i25/r25', 'Stimulus/i25/r75', 'Stimulus/i25/s25', 'Stimulus/i25/s75', 'Stimulus/i75/r25', 'Stimulus/i75/r75', 'Stimulus/i75/s25', 'Stimulus/i75/s75']\n",
      "Not setting metadata\n",
      "448 matching events found\n",
      "No baseline correction applied\n",
      "0 projection items activated\n",
      "Using data from preloaded Raw for 448 events and 2459 original time points ...\n",
      "0 bad epochs dropped\n",
      "Data is self data: True\n"
     ]
    },
    {
     "name": "stderr",
     "output_type": "stream",
     "text": [
      "[Parallel(n_jobs=1)]: Done   1 tasks      | elapsed:    3.2s\n",
      "[Parallel(n_jobs=1)]: Done   4 tasks      | elapsed:   13.1s\n",
      "[Parallel(n_jobs=1)]: Done   7 tasks      | elapsed:   23.0s\n",
      "[Parallel(n_jobs=1)]: Done  12 tasks      | elapsed:   39.8s\n",
      "[Parallel(n_jobs=1)]: Done  17 tasks      | elapsed:   56.4s\n",
      "[Parallel(n_jobs=1)]: Done  24 tasks      | elapsed:  1.3min\n",
      "[Parallel(n_jobs=1)]: Done  31 tasks      | elapsed:  1.7min\n",
      "[Parallel(n_jobs=1)]: Done  40 tasks      | elapsed:  2.2min\n",
      "[Parallel(n_jobs=1)]: Done  49 tasks      | elapsed:  2.7min\n",
      "[Parallel(n_jobs=1)]: Done  60 tasks      | elapsed:  3.3min\n",
      "[Parallel(n_jobs=1)]: Done  71 tasks      | elapsed:  3.9min\n",
      "[Parallel(n_jobs=1)]: Done  84 tasks      | elapsed:  4.6min\n",
      "[Parallel(n_jobs=1)]: Done  97 tasks      | elapsed:  5.4min\n",
      "[Parallel(n_jobs=1)]: Done 112 tasks      | elapsed:  6.2min\n",
      "[Parallel(n_jobs=1)]: Done 127 tasks      | elapsed:  7.0min\n",
      "[Parallel(n_jobs=1)]: Done 144 tasks      | elapsed:  7.9min\n"
     ]
    },
    {
     "name": "stdout",
     "output_type": "stream",
     "text": [
      "Not setting metadata\n",
      "Used Annotations descriptions: ['Response/c25/n25', 'Response/c25/n75', 'Response/c25/r25', 'Response/c25/r75', 'Response/c25/s25', 'Response/c25/s75', 'Response/c75/n25', 'Response/c75/n75', 'Response/c75/r25', 'Response/c75/r75', 'Response/c75/s25', 'Response/c75/s75', 'Response/i25/r25', 'Response/i25/r75', 'Response/i25/s25', 'Response/i25/s75', 'Response/i75/r25', 'Response/i75/r75', 'Response/i75/s25', 'Response/i75/s75', 'Stimulus/c25/n25', 'Stimulus/c25/n75', 'Stimulus/c25/r25', 'Stimulus/c25/r75', 'Stimulus/c25/s25', 'Stimulus/c25/s75', 'Stimulus/c75/n25', 'Stimulus/c75/n75', 'Stimulus/c75/r25', 'Stimulus/c75/r75', 'Stimulus/c75/s25', 'Stimulus/c75/s75', 'Stimulus/i25/r25', 'Stimulus/i25/r75', 'Stimulus/i25/s25', 'Stimulus/i25/s75', 'Stimulus/i75/r25', 'Stimulus/i75/r75', 'Stimulus/i75/s25', 'Stimulus/i75/s75']\n",
      "Not setting metadata\n",
      "448 matching events found\n",
      "No baseline correction applied\n",
      "0 projection items activated\n",
      "Using data from preloaded Raw for 448 events and 8193 original time points ...\n",
      "0 bad epochs dropped\n",
      "Data is self data: True\n"
     ]
    },
    {
     "name": "stderr",
     "output_type": "stream",
     "text": [
      "[Parallel(n_jobs=1)]: Done   1 tasks      | elapsed:   12.3s\n",
      "[Parallel(n_jobs=1)]: Done   4 tasks      | elapsed:   49.3s\n",
      "[Parallel(n_jobs=1)]: Done   7 tasks      | elapsed:  1.4min\n",
      "[Parallel(n_jobs=1)]: Done  12 tasks      | elapsed:  2.5min\n",
      "[Parallel(n_jobs=1)]: Done  17 tasks      | elapsed:  3.5min\n",
      "[Parallel(n_jobs=1)]: Done  24 tasks      | elapsed:  5.0min\n",
      "[Parallel(n_jobs=1)]: Done  31 tasks      | elapsed:  6.5min\n",
      "[Parallel(n_jobs=1)]: Done  40 tasks      | elapsed:  8.3min\n",
      "[Parallel(n_jobs=1)]: Done  49 tasks      | elapsed: 10.2min\n",
      "[Parallel(n_jobs=1)]: Done  60 tasks      | elapsed: 12.5min\n",
      "[Parallel(n_jobs=1)]: Done  71 tasks      | elapsed: 14.8min\n",
      "[Parallel(n_jobs=1)]: Done  84 tasks      | elapsed: 17.5min\n",
      "[Parallel(n_jobs=1)]: Done  97 tasks      | elapsed: 20.1min\n",
      "[Parallel(n_jobs=1)]: Done 112 tasks      | elapsed: 23.2min\n",
      "[Parallel(n_jobs=1)]: Done 127 tasks      | elapsed: 26.3min\n",
      "[Parallel(n_jobs=1)]: Done 144 tasks      | elapsed: 29.8min\n"
     ]
    },
    {
     "name": "stdout",
     "output_type": "stream",
     "text": [
      "Not setting metadata\n",
      "Applying baseline correction (mode: ratio)\n"
     ]
    },
    {
     "name": "stderr",
     "output_type": "stream",
     "text": [
      "C:\\Users\\jz421\\Desktop\\GlobalLocal\\IEEG_Pipelines\\ieeg\\calc\\scaling.py:69: RuntimeWarning: invalid value encountered in divide\n",
      "  d /= m\n",
      "C:\\Users\\jz421\\AppData\\Local\\Temp\\ipykernel_1544\\1846413019.py:70: RuntimeWarning: Mean of empty slice\n",
      "  lambda x: np.nanmean(x, axis=0), copy=True)\n"
     ]
    },
    {
     "name": "stdout",
     "output_type": "stream",
     "text": [
      "Extracting EDF parameters from C:\\Users\\jz421\\Box\\CoganLab\\BIDS-1.1_GlobalLocal\\BIDS\\derivatives\\clean\\sub-D0077\\ieeg\\sub-D0077_task-GlobalLocal_acq-01_run-01_desc-clean_ieeg.edf...\n",
      "EDF file detected\n",
      "Setting channel info structure...\n",
      "Creating raw.info structure...\n",
      "Reading events from C:\\Users\\jz421\\Box\\CoganLab\\BIDS-1.1_GlobalLocal\\BIDS\\derivatives\\clean\\sub-D0077\\ieeg\\sub-D0077_task-GlobalLocal_acq-01_run-01_desc-clean_events.tsv.\n",
      "Reading channel info from C:\\Users\\jz421\\Box\\CoganLab\\BIDS-1.1_GlobalLocal\\BIDS\\derivatives\\clean\\sub-D0077\\ieeg\\sub-D0077_task-GlobalLocal_acq-01_run-01_desc-clean_channels.tsv.\n",
      "Reading electrode coords from C:\\Users\\jz421\\Box\\CoganLab\\BIDS-1.1_GlobalLocal\\BIDS\\derivatives\\clean\\sub-D0077\\ieeg\\sub-D0077_acq-01_space-ACPC_electrodes.tsv.\n",
      "Not fully anonymizing info - keeping his_id, sex, and hand info\n",
      "Extracting EDF parameters from C:\\Users\\jz421\\Box\\CoganLab\\BIDS-1.1_GlobalLocal\\BIDS\\derivatives\\clean\\sub-D0077\\ieeg\\sub-D0077_task-GlobalLocal_acq-01_run-02_desc-clean_ieeg.edf...\n",
      "EDF file detected\n",
      "Setting channel info structure...\n",
      "Creating raw.info structure...\n"
     ]
    },
    {
     "name": "stderr",
     "output_type": "stream",
     "text": [
      "C:\\Users\\jz421\\Desktop\\GlobalLocal\\IEEG_Pipelines\\ieeg\\io.py:113: RuntimeWarning: The number of channels in the channels.tsv sidecar file (135) does not match the number of channels in the raw data file (134). Will not try to set channel names.\n",
      "  new_raw = read_raw_bids(bids_path=BIDS_path, verbose=verbose)\n",
      "C:\\Users\\jz421\\Desktop\\GlobalLocal\\IEEG_Pipelines\\ieeg\\io.py:113: RuntimeWarning: Cannot set channel type for the following channels, as they are missing in the raw data: Trigger\n",
      "  new_raw = read_raw_bids(bids_path=BIDS_path, verbose=verbose)\n"
     ]
    },
    {
     "name": "stdout",
     "output_type": "stream",
     "text": [
      "Reading events from C:\\Users\\jz421\\Box\\CoganLab\\BIDS-1.1_GlobalLocal\\BIDS\\derivatives\\clean\\sub-D0077\\ieeg\\sub-D0077_task-GlobalLocal_acq-01_run-02_desc-clean_events.tsv.\n",
      "Reading channel info from C:\\Users\\jz421\\Box\\CoganLab\\BIDS-1.1_GlobalLocal\\BIDS\\derivatives\\clean\\sub-D0077\\ieeg\\sub-D0077_task-GlobalLocal_acq-01_run-02_desc-clean_channels.tsv.\n",
      "Reading electrode coords from C:\\Users\\jz421\\Box\\CoganLab\\BIDS-1.1_GlobalLocal\\BIDS\\derivatives\\clean\\sub-D0077\\ieeg\\sub-D0077_acq-01_space-ACPC_electrodes.tsv.\n",
      "Not fully anonymizing info - keeping his_id, sex, and hand info\n",
      "Extracting EDF parameters from C:\\Users\\jz421\\Box\\CoganLab\\BIDS-1.1_GlobalLocal\\BIDS\\derivatives\\clean\\sub-D0077\\ieeg\\sub-D0077_task-GlobalLocal_acq-01_run-03_desc-clean_ieeg.edf...\n",
      "EDF file detected\n",
      "Setting channel info structure...\n",
      "Creating raw.info structure...\n"
     ]
    },
    {
     "name": "stderr",
     "output_type": "stream",
     "text": [
      "C:\\Users\\jz421\\Desktop\\GlobalLocal\\IEEG_Pipelines\\ieeg\\io.py:113: RuntimeWarning: Omitted 225 annotation(s) that were outside data range.\n",
      "  new_raw = read_raw_bids(bids_path=BIDS_path, verbose=verbose)\n",
      "C:\\Users\\jz421\\Desktop\\GlobalLocal\\IEEG_Pipelines\\ieeg\\io.py:113: RuntimeWarning: The number of channels in the channels.tsv sidecar file (135) does not match the number of channels in the raw data file (134). Will not try to set channel names.\n",
      "  new_raw = read_raw_bids(bids_path=BIDS_path, verbose=verbose)\n",
      "C:\\Users\\jz421\\Desktop\\GlobalLocal\\IEEG_Pipelines\\ieeg\\io.py:113: RuntimeWarning: Cannot set channel type for the following channels, as they are missing in the raw data: Trigger\n",
      "  new_raw = read_raw_bids(bids_path=BIDS_path, verbose=verbose)\n"
     ]
    },
    {
     "name": "stdout",
     "output_type": "stream",
     "text": [
      "Reading events from C:\\Users\\jz421\\Box\\CoganLab\\BIDS-1.1_GlobalLocal\\BIDS\\derivatives\\clean\\sub-D0077\\ieeg\\sub-D0077_task-GlobalLocal_acq-01_run-03_desc-clean_events.tsv.\n",
      "Reading channel info from C:\\Users\\jz421\\Box\\CoganLab\\BIDS-1.1_GlobalLocal\\BIDS\\derivatives\\clean\\sub-D0077\\ieeg\\sub-D0077_task-GlobalLocal_acq-01_run-03_desc-clean_channels.tsv.\n",
      "Reading electrode coords from C:\\Users\\jz421\\Box\\CoganLab\\BIDS-1.1_GlobalLocal\\BIDS\\derivatives\\clean\\sub-D0077\\ieeg\\sub-D0077_acq-01_space-ACPC_electrodes.tsv.\n",
      "Not fully anonymizing info - keeping his_id, sex, and hand info\n",
      "Extracting EDF parameters from C:\\Users\\jz421\\Box\\CoganLab\\BIDS-1.1_GlobalLocal\\BIDS\\derivatives\\clean\\sub-D0077\\ieeg\\sub-D0077_task-GlobalLocal_acq-01_run-04_desc-clean_ieeg.edf...\n",
      "EDF file detected\n",
      "Setting channel info structure...\n",
      "Creating raw.info structure...\n"
     ]
    },
    {
     "name": "stderr",
     "output_type": "stream",
     "text": [
      "C:\\Users\\jz421\\Desktop\\GlobalLocal\\IEEG_Pipelines\\ieeg\\io.py:113: RuntimeWarning: Omitted 226 annotation(s) that were outside data range.\n",
      "  new_raw = read_raw_bids(bids_path=BIDS_path, verbose=verbose)\n",
      "C:\\Users\\jz421\\Desktop\\GlobalLocal\\IEEG_Pipelines\\ieeg\\io.py:113: RuntimeWarning: The number of channels in the channels.tsv sidecar file (135) does not match the number of channels in the raw data file (134). Will not try to set channel names.\n",
      "  new_raw = read_raw_bids(bids_path=BIDS_path, verbose=verbose)\n",
      "C:\\Users\\jz421\\Desktop\\GlobalLocal\\IEEG_Pipelines\\ieeg\\io.py:113: RuntimeWarning: Cannot set channel type for the following channels, as they are missing in the raw data: Trigger\n",
      "  new_raw = read_raw_bids(bids_path=BIDS_path, verbose=verbose)\n"
     ]
    },
    {
     "name": "stdout",
     "output_type": "stream",
     "text": [
      "Reading events from C:\\Users\\jz421\\Box\\CoganLab\\BIDS-1.1_GlobalLocal\\BIDS\\derivatives\\clean\\sub-D0077\\ieeg\\sub-D0077_task-GlobalLocal_acq-01_run-04_desc-clean_events.tsv.\n",
      "Reading channel info from C:\\Users\\jz421\\Box\\CoganLab\\BIDS-1.1_GlobalLocal\\BIDS\\derivatives\\clean\\sub-D0077\\ieeg\\sub-D0077_task-GlobalLocal_acq-01_run-04_desc-clean_channels.tsv.\n",
      "Reading electrode coords from C:\\Users\\jz421\\Box\\CoganLab\\BIDS-1.1_GlobalLocal\\BIDS\\derivatives\\clean\\sub-D0077\\ieeg\\sub-D0077_acq-01_space-ACPC_electrodes.tsv.\n",
      "Not fully anonymizing info - keeping his_id, sex, and hand info\n"
     ]
    },
    {
     "name": "stderr",
     "output_type": "stream",
     "text": [
      "C:\\Users\\jz421\\Desktop\\GlobalLocal\\IEEG_Pipelines\\ieeg\\io.py:113: RuntimeWarning: Omitted 219 annotation(s) that were outside data range.\n",
      "  new_raw = read_raw_bids(bids_path=BIDS_path, verbose=verbose)\n",
      "C:\\Users\\jz421\\Desktop\\GlobalLocal\\IEEG_Pipelines\\ieeg\\io.py:113: RuntimeWarning: The number of channels in the channels.tsv sidecar file (135) does not match the number of channels in the raw data file (134). Will not try to set channel names.\n",
      "  new_raw = read_raw_bids(bids_path=BIDS_path, verbose=verbose)\n",
      "C:\\Users\\jz421\\Desktop\\GlobalLocal\\IEEG_Pipelines\\ieeg\\io.py:113: RuntimeWarning: Cannot set channel type for the following channels, as they are missing in the raw data: Trigger\n",
      "  new_raw = read_raw_bids(bids_path=BIDS_path, verbose=verbose)\n"
     ]
    },
    {
     "name": "stdout",
     "output_type": "stream",
     "text": [
      "<RawEDF | sub-D0077_task-GlobalLocal_acq-01_run-01_desc-clean_ieeg.edf, 134 x 5812224 (2838.0 s), ~153 kB, data not loaded>\n",
      "outlier round 1 channels: ['ROAM8']\n",
      "outlier round 2 channels: ['ROAM8', 'RTAM1']\n",
      "outlier round 2 channels: ['ROAM8', 'RTAM1', 'ROPM7']\n",
      "Reading 0 ... 3671172  =      0.000 ...  1792.564 secs...\n",
      "Applying average reference.\n",
      "Applying a custom ('sEEG',) reference.\n",
      "times: [-0.7, 0.5]\n",
      "Used Annotations descriptions: ['Response/c25/n25', 'Response/c25/n75', 'Response/c25/r25', 'Response/c25/r75', 'Response/c25/s25', 'Response/c25/s75', 'Response/c75/n25', 'Response/c75/r25', 'Response/c75/r75', 'Response/c75/s25', 'Response/c75/s75', 'Response/i25/r25', 'Response/i25/r75', 'Response/i25/s25', 'Response/i25/s75', 'Response/i75/n75', 'Response/i75/r25', 'Response/i75/r75', 'Response/i75/s25', 'Response/i75/s75', 'Stimulus/c25/n25', 'Stimulus/c25/n75', 'Stimulus/c25/r25', 'Stimulus/c25/r75', 'Stimulus/c25/s25', 'Stimulus/c25/s75', 'Stimulus/c75/n25', 'Stimulus/c75/r25', 'Stimulus/c75/r75', 'Stimulus/c75/s25', 'Stimulus/c75/s75', 'Stimulus/i25/r25', 'Stimulus/i25/r75', 'Stimulus/i25/s25', 'Stimulus/i25/s75', 'Stimulus/i75/n75', 'Stimulus/i75/r25', 'Stimulus/i75/r75', 'Stimulus/i75/s25', 'Stimulus/i75/s75']\n",
      "Not setting metadata\n",
      "448 matching events found\n",
      "No baseline correction applied\n",
      "0 projection items activated\n",
      "Using data from preloaded Raw for 448 events and 2459 original time points ...\n",
      "0 bad epochs dropped\n",
      "Data is self data: True\n"
     ]
    },
    {
     "name": "stderr",
     "output_type": "stream",
     "text": [
      "[Parallel(n_jobs=1)]: Done   1 tasks      | elapsed:    3.2s\n",
      "[Parallel(n_jobs=1)]: Done   4 tasks      | elapsed:   13.2s\n",
      "[Parallel(n_jobs=1)]: Done   7 tasks      | elapsed:   23.3s\n",
      "[Parallel(n_jobs=1)]: Done  12 tasks      | elapsed:   40.1s\n",
      "[Parallel(n_jobs=1)]: Done  17 tasks      | elapsed:   56.8s\n",
      "[Parallel(n_jobs=1)]: Done  24 tasks      | elapsed:  1.3min\n",
      "[Parallel(n_jobs=1)]: Done  31 tasks      | elapsed:  1.7min\n",
      "[Parallel(n_jobs=1)]: Done  40 tasks      | elapsed:  2.2min\n",
      "[Parallel(n_jobs=1)]: Done  49 tasks      | elapsed:  2.7min\n",
      "[Parallel(n_jobs=1)]: Done  60 tasks      | elapsed:  3.4min\n",
      "[Parallel(n_jobs=1)]: Done  71 tasks      | elapsed:  4.0min\n",
      "[Parallel(n_jobs=1)]: Done  84 tasks      | elapsed:  4.7min\n",
      "[Parallel(n_jobs=1)]: Done  97 tasks      | elapsed:  5.4min\n",
      "[Parallel(n_jobs=1)]: Done 112 tasks      | elapsed:  6.3min\n",
      "[Parallel(n_jobs=1)]: Done 127 tasks      | elapsed:  7.1min\n"
     ]
    },
    {
     "name": "stdout",
     "output_type": "stream",
     "text": [
      "Not setting metadata\n",
      "Used Annotations descriptions: ['Response/c25/n25', 'Response/c25/n75', 'Response/c25/r25', 'Response/c25/r75', 'Response/c25/s25', 'Response/c25/s75', 'Response/c75/n25', 'Response/c75/r25', 'Response/c75/r75', 'Response/c75/s25', 'Response/c75/s75', 'Response/i25/r25', 'Response/i25/r75', 'Response/i25/s25', 'Response/i25/s75', 'Response/i75/n75', 'Response/i75/r25', 'Response/i75/r75', 'Response/i75/s25', 'Response/i75/s75', 'Stimulus/c25/n25', 'Stimulus/c25/n75', 'Stimulus/c25/r25', 'Stimulus/c25/r75', 'Stimulus/c25/s25', 'Stimulus/c25/s75', 'Stimulus/c75/n25', 'Stimulus/c75/r25', 'Stimulus/c75/r75', 'Stimulus/c75/s25', 'Stimulus/c75/s75', 'Stimulus/i25/r25', 'Stimulus/i25/r75', 'Stimulus/i25/s25', 'Stimulus/i25/s75', 'Stimulus/i75/n75', 'Stimulus/i75/r25', 'Stimulus/i75/r75', 'Stimulus/i75/s25', 'Stimulus/i75/s75']\n",
      "Not setting metadata\n",
      "448 matching events found\n",
      "No baseline correction applied\n",
      "0 projection items activated\n",
      "Using data from preloaded Raw for 448 events and 8193 original time points ...\n",
      "0 bad epochs dropped\n",
      "Data is self data: True\n"
     ]
    },
    {
     "name": "stderr",
     "output_type": "stream",
     "text": [
      "[Parallel(n_jobs=1)]: Done   1 tasks      | elapsed:   12.3s\n",
      "[Parallel(n_jobs=1)]: Done   4 tasks      | elapsed:   51.5s\n",
      "[Parallel(n_jobs=1)]: Done   7 tasks      | elapsed:  1.5min\n",
      "[Parallel(n_jobs=1)]: Done  12 tasks      | elapsed:  2.5min\n",
      "[Parallel(n_jobs=1)]: Done  17 tasks      | elapsed:  3.5min\n",
      "[Parallel(n_jobs=1)]: Done  24 tasks      | elapsed:  4.9min\n",
      "[Parallel(n_jobs=1)]: Done  31 tasks      | elapsed:  6.4min\n",
      "[Parallel(n_jobs=1)]: Done  40 tasks      | elapsed:  8.2min\n",
      "[Parallel(n_jobs=1)]: Done  49 tasks      | elapsed: 10.0min\n",
      "[Parallel(n_jobs=1)]: Done  60 tasks      | elapsed: 12.3min\n",
      "[Parallel(n_jobs=1)]: Done  71 tasks      | elapsed: 14.5min\n",
      "[Parallel(n_jobs=1)]: Done  84 tasks      | elapsed: 17.2min\n",
      "[Parallel(n_jobs=1)]: Done  97 tasks      | elapsed: 19.8min\n",
      "[Parallel(n_jobs=1)]: Done 112 tasks      | elapsed: 22.9min\n",
      "[Parallel(n_jobs=1)]: Done 127 tasks      | elapsed: 26.0min\n"
     ]
    },
    {
     "name": "stdout",
     "output_type": "stream",
     "text": [
      "Not setting metadata\n",
      "Applying baseline correction (mode: ratio)\n"
     ]
    },
    {
     "name": "stderr",
     "output_type": "stream",
     "text": [
      "C:\\Users\\jz421\\Desktop\\GlobalLocal\\IEEG_Pipelines\\ieeg\\calc\\scaling.py:69: RuntimeWarning: invalid value encountered in divide\n",
      "  d /= m\n",
      "C:\\Users\\jz421\\AppData\\Local\\Temp\\ipykernel_1544\\1846413019.py:70: RuntimeWarning: Mean of empty slice\n",
      "  lambda x: np.nanmean(x, axis=0), copy=True)\n"
     ]
    },
    {
     "name": "stdout",
     "output_type": "stream",
     "text": [
      "Extracting EDF parameters from C:\\Users\\jz421\\Box\\CoganLab\\BIDS-1.1_GlobalLocal\\BIDS\\derivatives\\clean\\sub-D0090\\ieeg\\sub-D0090_task-GlobalLocal_acq-01_run-01_desc-clean_ieeg.edf...\n",
      "EDF file detected\n",
      "Setting channel info structure...\n",
      "Creating raw.info structure...\n",
      "Reading events from C:\\Users\\jz421\\Box\\CoganLab\\BIDS-1.1_GlobalLocal\\BIDS\\derivatives\\clean\\sub-D0090\\ieeg\\sub-D0090_task-GlobalLocal_acq-01_run-01_desc-clean_events.tsv.\n",
      "Reading channel info from C:\\Users\\jz421\\Box\\CoganLab\\BIDS-1.1_GlobalLocal\\BIDS\\derivatives\\clean\\sub-D0090\\ieeg\\sub-D0090_task-GlobalLocal_acq-01_run-01_desc-clean_channels.tsv.\n",
      "Reading electrode coords from C:\\Users\\jz421\\Box\\CoganLab\\BIDS-1.1_GlobalLocal\\BIDS\\derivatives\\clean\\sub-D0090\\ieeg\\sub-D0090_acq-01_space-ACPC_electrodes.tsv.\n",
      "Not fully anonymizing info - keeping his_id, sex, and hand info\n",
      "Extracting EDF parameters from C:\\Users\\jz421\\Box\\CoganLab\\BIDS-1.1_GlobalLocal\\BIDS\\derivatives\\clean\\sub-D0090\\ieeg\\sub-D0090_task-GlobalLocal_acq-01_run-02_desc-clean_ieeg.edf...\n",
      "EDF file detected\n",
      "Setting channel info structure...\n",
      "Creating raw.info structure...\n"
     ]
    },
    {
     "name": "stderr",
     "output_type": "stream",
     "text": [
      "C:\\Users\\jz421\\Desktop\\GlobalLocal\\IEEG_Pipelines\\ieeg\\io.py:113: RuntimeWarning: The number of channels in the channels.tsv sidecar file (165) does not match the number of channels in the raw data file (164). Will not try to set channel names.\n",
      "  new_raw = read_raw_bids(bids_path=BIDS_path, verbose=verbose)\n",
      "C:\\Users\\jz421\\Desktop\\GlobalLocal\\IEEG_Pipelines\\ieeg\\io.py:113: RuntimeWarning: Cannot set channel type for the following channels, as they are missing in the raw data: Trigger\n",
      "  new_raw = read_raw_bids(bids_path=BIDS_path, verbose=verbose)\n"
     ]
    },
    {
     "name": "stdout",
     "output_type": "stream",
     "text": [
      "Reading events from C:\\Users\\jz421\\Box\\CoganLab\\BIDS-1.1_GlobalLocal\\BIDS\\derivatives\\clean\\sub-D0090\\ieeg\\sub-D0090_task-GlobalLocal_acq-01_run-02_desc-clean_events.tsv.\n",
      "Reading channel info from C:\\Users\\jz421\\Box\\CoganLab\\BIDS-1.1_GlobalLocal\\BIDS\\derivatives\\clean\\sub-D0090\\ieeg\\sub-D0090_task-GlobalLocal_acq-01_run-02_desc-clean_channels.tsv.\n",
      "Reading electrode coords from C:\\Users\\jz421\\Box\\CoganLab\\BIDS-1.1_GlobalLocal\\BIDS\\derivatives\\clean\\sub-D0090\\ieeg\\sub-D0090_acq-01_space-ACPC_electrodes.tsv.\n",
      "Not fully anonymizing info - keeping his_id, sex, and hand info\n",
      "Extracting EDF parameters from C:\\Users\\jz421\\Box\\CoganLab\\BIDS-1.1_GlobalLocal\\BIDS\\derivatives\\clean\\sub-D0090\\ieeg\\sub-D0090_task-GlobalLocal_acq-01_run-03_desc-clean_ieeg.edf...\n",
      "EDF file detected\n",
      "Setting channel info structure...\n",
      "Creating raw.info structure...\n"
     ]
    },
    {
     "name": "stderr",
     "output_type": "stream",
     "text": [
      "C:\\Users\\jz421\\Desktop\\GlobalLocal\\IEEG_Pipelines\\ieeg\\io.py:113: RuntimeWarning: Omitted 226 annotation(s) that were outside data range.\n",
      "  new_raw = read_raw_bids(bids_path=BIDS_path, verbose=verbose)\n",
      "C:\\Users\\jz421\\Desktop\\GlobalLocal\\IEEG_Pipelines\\ieeg\\io.py:113: RuntimeWarning: The number of channels in the channels.tsv sidecar file (165) does not match the number of channels in the raw data file (164). Will not try to set channel names.\n",
      "  new_raw = read_raw_bids(bids_path=BIDS_path, verbose=verbose)\n",
      "C:\\Users\\jz421\\Desktop\\GlobalLocal\\IEEG_Pipelines\\ieeg\\io.py:113: RuntimeWarning: Cannot set channel type for the following channels, as they are missing in the raw data: Trigger\n",
      "  new_raw = read_raw_bids(bids_path=BIDS_path, verbose=verbose)\n"
     ]
    },
    {
     "name": "stdout",
     "output_type": "stream",
     "text": [
      "Reading events from C:\\Users\\jz421\\Box\\CoganLab\\BIDS-1.1_GlobalLocal\\BIDS\\derivatives\\clean\\sub-D0090\\ieeg\\sub-D0090_task-GlobalLocal_acq-01_run-03_desc-clean_events.tsv.\n",
      "Reading channel info from C:\\Users\\jz421\\Box\\CoganLab\\BIDS-1.1_GlobalLocal\\BIDS\\derivatives\\clean\\sub-D0090\\ieeg\\sub-D0090_task-GlobalLocal_acq-01_run-03_desc-clean_channels.tsv.\n",
      "Reading electrode coords from C:\\Users\\jz421\\Box\\CoganLab\\BIDS-1.1_GlobalLocal\\BIDS\\derivatives\\clean\\sub-D0090\\ieeg\\sub-D0090_acq-01_space-ACPC_electrodes.tsv.\n",
      "Not fully anonymizing info - keeping his_id, sex, and hand info\n",
      "Extracting EDF parameters from C:\\Users\\jz421\\Box\\CoganLab\\BIDS-1.1_GlobalLocal\\BIDS\\derivatives\\clean\\sub-D0090\\ieeg\\sub-D0090_task-GlobalLocal_acq-01_run-04_desc-clean_ieeg.edf...\n",
      "EDF file detected\n",
      "Setting channel info structure...\n",
      "Creating raw.info structure...\n"
     ]
    },
    {
     "name": "stderr",
     "output_type": "stream",
     "text": [
      "C:\\Users\\jz421\\Desktop\\GlobalLocal\\IEEG_Pipelines\\ieeg\\io.py:113: RuntimeWarning: Omitted 227 annotation(s) that were outside data range.\n",
      "  new_raw = read_raw_bids(bids_path=BIDS_path, verbose=verbose)\n",
      "C:\\Users\\jz421\\Desktop\\GlobalLocal\\IEEG_Pipelines\\ieeg\\io.py:113: RuntimeWarning: The number of channels in the channels.tsv sidecar file (165) does not match the number of channels in the raw data file (164). Will not try to set channel names.\n",
      "  new_raw = read_raw_bids(bids_path=BIDS_path, verbose=verbose)\n",
      "C:\\Users\\jz421\\Desktop\\GlobalLocal\\IEEG_Pipelines\\ieeg\\io.py:113: RuntimeWarning: Cannot set channel type for the following channels, as they are missing in the raw data: Trigger\n",
      "  new_raw = read_raw_bids(bids_path=BIDS_path, verbose=verbose)\n"
     ]
    },
    {
     "name": "stdout",
     "output_type": "stream",
     "text": [
      "Reading events from C:\\Users\\jz421\\Box\\CoganLab\\BIDS-1.1_GlobalLocal\\BIDS\\derivatives\\clean\\sub-D0090\\ieeg\\sub-D0090_task-GlobalLocal_acq-01_run-04_desc-clean_events.tsv.\n",
      "Reading channel info from C:\\Users\\jz421\\Box\\CoganLab\\BIDS-1.1_GlobalLocal\\BIDS\\derivatives\\clean\\sub-D0090\\ieeg\\sub-D0090_task-GlobalLocal_acq-01_run-04_desc-clean_channels.tsv.\n",
      "Reading electrode coords from C:\\Users\\jz421\\Box\\CoganLab\\BIDS-1.1_GlobalLocal\\BIDS\\derivatives\\clean\\sub-D0090\\ieeg\\sub-D0090_acq-01_space-ACPC_electrodes.tsv.\n",
      "Not fully anonymizing info - keeping his_id, sex, and hand info\n"
     ]
    },
    {
     "name": "stderr",
     "output_type": "stream",
     "text": [
      "C:\\Users\\jz421\\Desktop\\GlobalLocal\\IEEG_Pipelines\\ieeg\\io.py:113: RuntimeWarning: Omitted 226 annotation(s) that were outside data range.\n",
      "  new_raw = read_raw_bids(bids_path=BIDS_path, verbose=verbose)\n",
      "C:\\Users\\jz421\\Desktop\\GlobalLocal\\IEEG_Pipelines\\ieeg\\io.py:113: RuntimeWarning: The number of channels in the channels.tsv sidecar file (165) does not match the number of channels in the raw data file (164). Will not try to set channel names.\n",
      "  new_raw = read_raw_bids(bids_path=BIDS_path, verbose=verbose)\n",
      "C:\\Users\\jz421\\Desktop\\GlobalLocal\\IEEG_Pipelines\\ieeg\\io.py:113: RuntimeWarning: Cannot set channel type for the following channels, as they are missing in the raw data: Trigger\n",
      "  new_raw = read_raw_bids(bids_path=BIDS_path, verbose=verbose)\n"
     ]
    },
    {
     "name": "stdout",
     "output_type": "stream",
     "text": [
      "<RawEDF | sub-D0090_task-GlobalLocal_acq-01_run-01_desc-clean_ieeg.edf, 164 x 6801408 (3321.0 s), ~186 kB, data not loaded>\n",
      "outlier round 1 channels: ['RFO16']\n",
      "outlier round 1 channels: ['RFO16', 'RTMM3']\n",
      "outlier round 1 channels: ['RFO16', 'RTMM3', 'RTMM4']\n",
      "outlier round 2 channels: ['RFO16', 'RTMM3', 'RTMM4', 'RIP13']\n",
      "outlier round 2 channels: ['RFO16', 'RTMM3', 'RTMM4', 'RIP13', 'RIP14']\n",
      "outlier round 2 channels: ['RFO16', 'RTMM3', 'RTMM4', 'RIP13', 'RIP14', 'RTMS6']\n",
      "outlier round 2 channels: ['RFO16', 'RTMM3', 'RTMM4', 'RIP13', 'RIP14', 'RTMS6', 'RTMM12']\n",
      "Reading 0 ... 3316055  =      0.000 ...  1619.167 secs...\n",
      "Applying average reference.\n",
      "Applying a custom ('sEEG',) reference.\n",
      "times: [-0.7, 0.5]\n",
      "Used Annotations descriptions: ['Response/c25/n25', 'Response/c25/n75', 'Response/c25/r25', 'Response/c25/r75', 'Response/c25/s25', 'Response/c25/s75', 'Response/c75/r25', 'Response/c75/r75', 'Response/c75/s25', 'Response/c75/s75', 'Response/i25/r25', 'Response/i25/r75', 'Response/i25/s25', 'Response/i25/s75', 'Response/i75/n25', 'Response/i75/n75', 'Response/i75/r25', 'Response/i75/r75', 'Response/i75/s25', 'Response/i75/s75', 'Stimulus/c25/n25', 'Stimulus/c25/n75', 'Stimulus/c25/r25', 'Stimulus/c25/r75', 'Stimulus/c25/s25', 'Stimulus/c25/s75', 'Stimulus/c75/r25', 'Stimulus/c75/r75', 'Stimulus/c75/s25', 'Stimulus/c75/s75', 'Stimulus/i25/r25', 'Stimulus/i25/r75', 'Stimulus/i25/s25', 'Stimulus/i25/s75', 'Stimulus/i75/n25', 'Stimulus/i75/n75', 'Stimulus/i75/r25', 'Stimulus/i75/r75', 'Stimulus/i75/s25', 'Stimulus/i75/s75']\n",
      "Not setting metadata\n",
      "448 matching events found\n",
      "No baseline correction applied\n",
      "0 projection items activated\n",
      "Using data from preloaded Raw for 448 events and 2459 original time points ...\n",
      "0 bad epochs dropped\n",
      "Data is self data: True\n"
     ]
    },
    {
     "name": "stderr",
     "output_type": "stream",
     "text": [
      "[Parallel(n_jobs=1)]: Done   1 tasks      | elapsed:    3.3s\n",
      "[Parallel(n_jobs=1)]: Done   4 tasks      | elapsed:   13.3s\n",
      "[Parallel(n_jobs=1)]: Done   7 tasks      | elapsed:   23.4s\n",
      "[Parallel(n_jobs=1)]: Done  12 tasks      | elapsed:   40.1s\n",
      "[Parallel(n_jobs=1)]: Done  17 tasks      | elapsed:   56.9s\n",
      "[Parallel(n_jobs=1)]: Done  24 tasks      | elapsed:  1.3min\n",
      "[Parallel(n_jobs=1)]: Done  31 tasks      | elapsed:  1.7min\n",
      "[Parallel(n_jobs=1)]: Done  40 tasks      | elapsed:  2.2min\n",
      "[Parallel(n_jobs=1)]: Done  49 tasks      | elapsed:  2.7min\n",
      "[Parallel(n_jobs=1)]: Done  60 tasks      | elapsed:  3.4min\n",
      "[Parallel(n_jobs=1)]: Done  71 tasks      | elapsed:  4.0min\n",
      "[Parallel(n_jobs=1)]: Done  84 tasks      | elapsed:  4.7min\n",
      "[Parallel(n_jobs=1)]: Done  97 tasks      | elapsed:  5.4min\n",
      "[Parallel(n_jobs=1)]: Done 112 tasks      | elapsed:  6.3min\n",
      "[Parallel(n_jobs=1)]: Done 127 tasks      | elapsed:  7.1min\n",
      "[Parallel(n_jobs=1)]: Done 144 tasks      | elapsed:  8.1min\n"
     ]
    },
    {
     "name": "stdout",
     "output_type": "stream",
     "text": [
      "Not setting metadata\n",
      "Used Annotations descriptions: ['Response/c25/n25', 'Response/c25/n75', 'Response/c25/r25', 'Response/c25/r75', 'Response/c25/s25', 'Response/c25/s75', 'Response/c75/r25', 'Response/c75/r75', 'Response/c75/s25', 'Response/c75/s75', 'Response/i25/r25', 'Response/i25/r75', 'Response/i25/s25', 'Response/i25/s75', 'Response/i75/n25', 'Response/i75/n75', 'Response/i75/r25', 'Response/i75/r75', 'Response/i75/s25', 'Response/i75/s75', 'Stimulus/c25/n25', 'Stimulus/c25/n75', 'Stimulus/c25/r25', 'Stimulus/c25/r75', 'Stimulus/c25/s25', 'Stimulus/c25/s75', 'Stimulus/c75/r25', 'Stimulus/c75/r75', 'Stimulus/c75/s25', 'Stimulus/c75/s75', 'Stimulus/i25/r25', 'Stimulus/i25/r75', 'Stimulus/i25/s25', 'Stimulus/i25/s75', 'Stimulus/i75/n25', 'Stimulus/i75/n75', 'Stimulus/i75/r25', 'Stimulus/i75/r75', 'Stimulus/i75/s25', 'Stimulus/i75/s75']\n",
      "Not setting metadata\n",
      "448 matching events found\n",
      "No baseline correction applied\n",
      "0 projection items activated\n",
      "Using data from preloaded Raw for 448 events and 8193 original time points ...\n",
      "0 bad epochs dropped\n",
      "Data is self data: True\n"
     ]
    },
    {
     "name": "stderr",
     "output_type": "stream",
     "text": [
      "[Parallel(n_jobs=1)]: Done   1 tasks      | elapsed:   12.6s\n",
      "[Parallel(n_jobs=1)]: Done   4 tasks      | elapsed:   50.2s\n",
      "[Parallel(n_jobs=1)]: Done   7 tasks      | elapsed:  1.5min\n",
      "[Parallel(n_jobs=1)]: Done  12 tasks      | elapsed:  2.5min\n",
      "[Parallel(n_jobs=1)]: Done  17 tasks      | elapsed:  3.5min\n",
      "[Parallel(n_jobs=1)]: Done  24 tasks      | elapsed:  5.0min\n",
      "[Parallel(n_jobs=1)]: Done  31 tasks      | elapsed:  6.4min\n",
      "[Parallel(n_jobs=1)]: Done  40 tasks      | elapsed:  8.3min\n",
      "[Parallel(n_jobs=1)]: Done  49 tasks      | elapsed: 10.2min\n",
      "[Parallel(n_jobs=1)]: Done  60 tasks      | elapsed: 12.4min\n",
      "[Parallel(n_jobs=1)]: Done  71 tasks      | elapsed: 14.7min\n",
      "[Parallel(n_jobs=1)]: Done  84 tasks      | elapsed: 17.4min\n",
      "[Parallel(n_jobs=1)]: Done  97 tasks      | elapsed: 20.1min\n",
      "[Parallel(n_jobs=1)]: Done 112 tasks      | elapsed: 23.2min\n",
      "[Parallel(n_jobs=1)]: Done 127 tasks      | elapsed: 26.3min\n",
      "[Parallel(n_jobs=1)]: Done 144 tasks      | elapsed: 29.8min\n"
     ]
    },
    {
     "name": "stdout",
     "output_type": "stream",
     "text": [
      "Not setting metadata\n",
      "Applying baseline correction (mode: ratio)\n"
     ]
    },
    {
     "name": "stderr",
     "output_type": "stream",
     "text": [
      "C:\\Users\\jz421\\Desktop\\GlobalLocal\\IEEG_Pipelines\\ieeg\\calc\\scaling.py:69: RuntimeWarning: invalid value encountered in divide\n",
      "  d /= m\n",
      "C:\\Users\\jz421\\AppData\\Local\\Temp\\ipykernel_1544\\1846413019.py:70: RuntimeWarning: Mean of empty slice\n",
      "  lambda x: np.nanmean(x, axis=0), copy=True)\n"
     ]
    },
    {
     "name": "stdout",
     "output_type": "stream",
     "text": [
      "Extracting EDF parameters from C:\\Users\\jz421\\Box\\CoganLab\\BIDS-1.1_GlobalLocal\\BIDS\\derivatives\\clean\\sub-D0094\\ieeg\\sub-D0094_task-GlobalLocal_acq-01_run-01_desc-clean_ieeg.edf...\n",
      "EDF file detected\n",
      "Setting channel info structure...\n",
      "Creating raw.info structure...\n",
      "Reading events from C:\\Users\\jz421\\Box\\CoganLab\\BIDS-1.1_GlobalLocal\\BIDS\\derivatives\\clean\\sub-D0094\\ieeg\\sub-D0094_task-GlobalLocal_acq-01_run-01_desc-clean_events.tsv.\n",
      "Reading channel info from C:\\Users\\jz421\\Box\\CoganLab\\BIDS-1.1_GlobalLocal\\BIDS\\derivatives\\clean\\sub-D0094\\ieeg\\sub-D0094_task-GlobalLocal_acq-01_run-01_desc-clean_channels.tsv.\n",
      "Reading electrode coords from C:\\Users\\jz421\\Box\\CoganLab\\BIDS-1.1_GlobalLocal\\BIDS\\derivatives\\clean\\sub-D0094\\ieeg\\sub-D0094_acq-01_space-ACPC_electrodes.tsv.\n",
      "Not fully anonymizing info - keeping his_id, sex, and hand info\n",
      "Extracting EDF parameters from C:\\Users\\jz421\\Box\\CoganLab\\BIDS-1.1_GlobalLocal\\BIDS\\derivatives\\clean\\sub-D0094\\ieeg\\sub-D0094_task-GlobalLocal_acq-01_run-02_desc-clean_ieeg.edf...\n",
      "EDF file detected\n",
      "Setting channel info structure...\n",
      "Creating raw.info structure...\n"
     ]
    },
    {
     "name": "stderr",
     "output_type": "stream",
     "text": [
      "C:\\Users\\jz421\\Desktop\\GlobalLocal\\IEEG_Pipelines\\ieeg\\io.py:113: RuntimeWarning: The number of channels in the channels.tsv sidecar file (241) does not match the number of channels in the raw data file (240). Will not try to set channel names.\n",
      "  new_raw = read_raw_bids(bids_path=BIDS_path, verbose=verbose)\n",
      "C:\\Users\\jz421\\Desktop\\GlobalLocal\\IEEG_Pipelines\\ieeg\\io.py:113: RuntimeWarning: Cannot set channel type for the following channels, as they are missing in the raw data: Trigger\n",
      "  new_raw = read_raw_bids(bids_path=BIDS_path, verbose=verbose)\n"
     ]
    },
    {
     "name": "stdout",
     "output_type": "stream",
     "text": [
      "Reading events from C:\\Users\\jz421\\Box\\CoganLab\\BIDS-1.1_GlobalLocal\\BIDS\\derivatives\\clean\\sub-D0094\\ieeg\\sub-D0094_task-GlobalLocal_acq-01_run-02_desc-clean_events.tsv.\n",
      "Reading channel info from C:\\Users\\jz421\\Box\\CoganLab\\BIDS-1.1_GlobalLocal\\BIDS\\derivatives\\clean\\sub-D0094\\ieeg\\sub-D0094_task-GlobalLocal_acq-01_run-02_desc-clean_channels.tsv.\n",
      "Reading electrode coords from C:\\Users\\jz421\\Box\\CoganLab\\BIDS-1.1_GlobalLocal\\BIDS\\derivatives\\clean\\sub-D0094\\ieeg\\sub-D0094_acq-01_space-ACPC_electrodes.tsv.\n",
      "Not fully anonymizing info - keeping his_id, sex, and hand info\n",
      "Extracting EDF parameters from C:\\Users\\jz421\\Box\\CoganLab\\BIDS-1.1_GlobalLocal\\BIDS\\derivatives\\clean\\sub-D0094\\ieeg\\sub-D0094_task-GlobalLocal_acq-01_run-03_desc-clean_ieeg.edf...\n",
      "EDF file detected\n",
      "Setting channel info structure...\n",
      "Creating raw.info structure...\n"
     ]
    },
    {
     "name": "stderr",
     "output_type": "stream",
     "text": [
      "C:\\Users\\jz421\\Desktop\\GlobalLocal\\IEEG_Pipelines\\ieeg\\io.py:113: RuntimeWarning: Omitted 226 annotation(s) that were outside data range.\n",
      "  new_raw = read_raw_bids(bids_path=BIDS_path, verbose=verbose)\n",
      "C:\\Users\\jz421\\Desktop\\GlobalLocal\\IEEG_Pipelines\\ieeg\\io.py:113: RuntimeWarning: The number of channels in the channels.tsv sidecar file (241) does not match the number of channels in the raw data file (240). Will not try to set channel names.\n",
      "  new_raw = read_raw_bids(bids_path=BIDS_path, verbose=verbose)\n",
      "C:\\Users\\jz421\\Desktop\\GlobalLocal\\IEEG_Pipelines\\ieeg\\io.py:113: RuntimeWarning: Cannot set channel type for the following channels, as they are missing in the raw data: Trigger\n",
      "  new_raw = read_raw_bids(bids_path=BIDS_path, verbose=verbose)\n"
     ]
    },
    {
     "name": "stdout",
     "output_type": "stream",
     "text": [
      "Reading events from C:\\Users\\jz421\\Box\\CoganLab\\BIDS-1.1_GlobalLocal\\BIDS\\derivatives\\clean\\sub-D0094\\ieeg\\sub-D0094_task-GlobalLocal_acq-01_run-03_desc-clean_events.tsv.\n",
      "Reading channel info from C:\\Users\\jz421\\Box\\CoganLab\\BIDS-1.1_GlobalLocal\\BIDS\\derivatives\\clean\\sub-D0094\\ieeg\\sub-D0094_task-GlobalLocal_acq-01_run-03_desc-clean_channels.tsv.\n",
      "Reading electrode coords from C:\\Users\\jz421\\Box\\CoganLab\\BIDS-1.1_GlobalLocal\\BIDS\\derivatives\\clean\\sub-D0094\\ieeg\\sub-D0094_acq-01_space-ACPC_electrodes.tsv.\n",
      "Not fully anonymizing info - keeping his_id, sex, and hand info\n",
      "Extracting EDF parameters from C:\\Users\\jz421\\Box\\CoganLab\\BIDS-1.1_GlobalLocal\\BIDS\\derivatives\\clean\\sub-D0094\\ieeg\\sub-D0094_task-GlobalLocal_acq-01_run-04_desc-clean_ieeg.edf...\n",
      "EDF file detected\n",
      "Setting channel info structure...\n",
      "Creating raw.info structure...\n"
     ]
    },
    {
     "name": "stderr",
     "output_type": "stream",
     "text": [
      "C:\\Users\\jz421\\Desktop\\GlobalLocal\\IEEG_Pipelines\\ieeg\\io.py:113: RuntimeWarning: Omitted 224 annotation(s) that were outside data range.\n",
      "  new_raw = read_raw_bids(bids_path=BIDS_path, verbose=verbose)\n",
      "C:\\Users\\jz421\\Desktop\\GlobalLocal\\IEEG_Pipelines\\ieeg\\io.py:113: RuntimeWarning: The number of channels in the channels.tsv sidecar file (241) does not match the number of channels in the raw data file (240). Will not try to set channel names.\n",
      "  new_raw = read_raw_bids(bids_path=BIDS_path, verbose=verbose)\n",
      "C:\\Users\\jz421\\Desktop\\GlobalLocal\\IEEG_Pipelines\\ieeg\\io.py:113: RuntimeWarning: Cannot set channel type for the following channels, as they are missing in the raw data: Trigger\n",
      "  new_raw = read_raw_bids(bids_path=BIDS_path, verbose=verbose)\n"
     ]
    },
    {
     "name": "stdout",
     "output_type": "stream",
     "text": [
      "Reading events from C:\\Users\\jz421\\Box\\CoganLab\\BIDS-1.1_GlobalLocal\\BIDS\\derivatives\\clean\\sub-D0094\\ieeg\\sub-D0094_task-GlobalLocal_acq-01_run-04_desc-clean_events.tsv.\n",
      "Reading channel info from C:\\Users\\jz421\\Box\\CoganLab\\BIDS-1.1_GlobalLocal\\BIDS\\derivatives\\clean\\sub-D0094\\ieeg\\sub-D0094_task-GlobalLocal_acq-01_run-04_desc-clean_channels.tsv.\n",
      "Reading electrode coords from C:\\Users\\jz421\\Box\\CoganLab\\BIDS-1.1_GlobalLocal\\BIDS\\derivatives\\clean\\sub-D0094\\ieeg\\sub-D0094_acq-01_space-ACPC_electrodes.tsv.\n",
      "Not fully anonymizing info - keeping his_id, sex, and hand info\n"
     ]
    },
    {
     "name": "stderr",
     "output_type": "stream",
     "text": [
      "C:\\Users\\jz421\\Desktop\\GlobalLocal\\IEEG_Pipelines\\ieeg\\io.py:113: RuntimeWarning: Omitted 225 annotation(s) that were outside data range.\n",
      "  new_raw = read_raw_bids(bids_path=BIDS_path, verbose=verbose)\n",
      "C:\\Users\\jz421\\Desktop\\GlobalLocal\\IEEG_Pipelines\\ieeg\\io.py:113: RuntimeWarning: The number of channels in the channels.tsv sidecar file (241) does not match the number of channels in the raw data file (240). Will not try to set channel names.\n",
      "  new_raw = read_raw_bids(bids_path=BIDS_path, verbose=verbose)\n",
      "C:\\Users\\jz421\\Desktop\\GlobalLocal\\IEEG_Pipelines\\ieeg\\io.py:113: RuntimeWarning: Cannot set channel type for the following channels, as they are missing in the raw data: Trigger\n",
      "  new_raw = read_raw_bids(bids_path=BIDS_path, verbose=verbose)\n"
     ]
    },
    {
     "name": "stdout",
     "output_type": "stream",
     "text": [
      "<RawEDF | sub-D0094_task-GlobalLocal_acq-01_run-01_desc-clean_ieeg.edf, 240 x 8857600 (4325.0 s), ~270 kB, data not loaded>\n",
      "outlier round 1 channels: ['LFAM1']\n",
      "outlier round 1 channels: ['LFAM1', 'LFPI14']\n",
      "outlier round 1 channels: ['LFAM1', 'LFPI14', 'LTAS7']\n",
      "outlier round 1 channels: ['LFAM1', 'LFPI14', 'LTAS7', 'LTMM4']\n",
      "outlier round 2 channels: ['LFAM1', 'LFPI14', 'LTAS7', 'LTMM4', 'LIA13']\n",
      "outlier round 2 channels: ['LFAM1', 'LFPI14', 'LTAS7', 'LTMM4', 'LIA13', 'LTP8']\n",
      "outlier round 2 channels: ['LFAM1', 'LFPI14', 'LTAS7', 'LTMM4', 'LIA13', 'LTP8', 'LTP9']\n",
      "outlier round 2 channels: ['LFAM1', 'LFPI14', 'LTAS7', 'LTMM4', 'LIA13', 'LTP8', 'LTP9', 'LTP10']\n",
      "outlier round 2 channels: ['LFAM1', 'LFPI14', 'LTAS7', 'LTMM4', 'LIA13', 'LTP8', 'LTP9', 'LTP10', 'LTAS6']\n",
      "outlier round 2 channels: ['LFAM1', 'LFPI14', 'LTAS7', 'LTMM4', 'LIA13', 'LTP8', 'LTP9', 'LTP10', 'LTAS6', 'LTAI10']\n",
      "Reading 0 ... 3663590  =      0.000 ...  1788.862 secs...\n",
      "Applying average reference.\n",
      "Applying a custom ('sEEG',) reference.\n",
      "times: [-0.7, 0.5]\n",
      "Used Annotations descriptions: ['Response/c25/r25', 'Response/c25/r75', 'Response/c25/s25', 'Response/c25/s75', 'Response/c75/r25', 'Response/c75/r75', 'Response/c75/s25', 'Response/c75/s75', 'Response/i25/n25', 'Response/i25/n75', 'Response/i25/r25', 'Response/i25/r75', 'Response/i25/s25', 'Response/i25/s75', 'Response/i75/n75', 'Response/i75/r25', 'Response/i75/r75', 'Response/i75/s25', 'Response/i75/s75', 'Stimulus/c25/r25', 'Stimulus/c25/r75', 'Stimulus/c25/s25', 'Stimulus/c25/s75', 'Stimulus/c75/r25', 'Stimulus/c75/r75', 'Stimulus/c75/s25', 'Stimulus/c75/s75', 'Stimulus/i25/n25', 'Stimulus/i25/n75', 'Stimulus/i25/r25', 'Stimulus/i25/r75', 'Stimulus/i25/s25', 'Stimulus/i25/s75', 'Stimulus/i75/n25', 'Stimulus/i75/n75', 'Stimulus/i75/r25', 'Stimulus/i75/r75', 'Stimulus/i75/s25', 'Stimulus/i75/s75']\n",
      "Not setting metadata\n",
      "448 matching events found\n",
      "No baseline correction applied\n",
      "0 projection items activated\n",
      "Using data from preloaded Raw for 448 events and 2459 original time points ...\n",
      "0 bad epochs dropped\n",
      "Data is self data: True\n"
     ]
    },
    {
     "name": "stderr",
     "output_type": "stream",
     "text": [
      "[Parallel(n_jobs=1)]: Done   1 tasks      | elapsed:    3.3s\n",
      "[Parallel(n_jobs=1)]: Done   4 tasks      | elapsed:   13.7s\n",
      "[Parallel(n_jobs=1)]: Done   7 tasks      | elapsed:   23.9s\n",
      "[Parallel(n_jobs=1)]: Done  12 tasks      | elapsed:   40.8s\n",
      "[Parallel(n_jobs=1)]: Done  17 tasks      | elapsed:   57.7s\n",
      "[Parallel(n_jobs=1)]: Done  24 tasks      | elapsed:  1.4min\n",
      "[Parallel(n_jobs=1)]: Done  31 tasks      | elapsed:  1.8min\n",
      "[Parallel(n_jobs=1)]: Done  40 tasks      | elapsed:  2.3min\n",
      "[Parallel(n_jobs=1)]: Done  49 tasks      | elapsed:  2.8min\n",
      "[Parallel(n_jobs=1)]: Done  60 tasks      | elapsed:  3.4min\n",
      "[Parallel(n_jobs=1)]: Done  71 tasks      | elapsed:  4.0min\n",
      "[Parallel(n_jobs=1)]: Done  84 tasks      | elapsed:  4.8min\n",
      "[Parallel(n_jobs=1)]: Done  97 tasks      | elapsed:  5.5min\n",
      "[Parallel(n_jobs=1)]: Done 112 tasks      | elapsed:  6.3min\n",
      "[Parallel(n_jobs=1)]: Done 127 tasks      | elapsed:  7.2min\n",
      "[Parallel(n_jobs=1)]: Done 144 tasks      | elapsed:  8.2min\n",
      "[Parallel(n_jobs=1)]: Done 161 tasks      | elapsed:  9.2min\n",
      "[Parallel(n_jobs=1)]: Done 180 tasks      | elapsed: 10.3min\n",
      "[Parallel(n_jobs=1)]: Done 199 tasks      | elapsed: 11.4min\n",
      "[Parallel(n_jobs=1)]: Done 220 tasks      | elapsed: 12.6min\n"
     ]
    },
    {
     "name": "stdout",
     "output_type": "stream",
     "text": [
      "Not setting metadata\n",
      "Used Annotations descriptions: ['Response/c25/r25', 'Response/c25/r75', 'Response/c25/s25', 'Response/c25/s75', 'Response/c75/r25', 'Response/c75/r75', 'Response/c75/s25', 'Response/c75/s75', 'Response/i25/n25', 'Response/i25/n75', 'Response/i25/r25', 'Response/i25/r75', 'Response/i25/s25', 'Response/i25/s75', 'Response/i75/n75', 'Response/i75/r25', 'Response/i75/r75', 'Response/i75/s25', 'Response/i75/s75', 'Stimulus/c25/r25', 'Stimulus/c25/r75', 'Stimulus/c25/s25', 'Stimulus/c25/s75', 'Stimulus/c75/r25', 'Stimulus/c75/r75', 'Stimulus/c75/s25', 'Stimulus/c75/s75', 'Stimulus/i25/n25', 'Stimulus/i25/n75', 'Stimulus/i25/r25', 'Stimulus/i25/r75', 'Stimulus/i25/s25', 'Stimulus/i25/s75', 'Stimulus/i75/n25', 'Stimulus/i75/n75', 'Stimulus/i75/r25', 'Stimulus/i75/r75', 'Stimulus/i75/s25', 'Stimulus/i75/s75']\n",
      "Not setting metadata\n",
      "448 matching events found\n",
      "No baseline correction applied\n",
      "0 projection items activated\n",
      "Using data from preloaded Raw for 448 events and 8193 original time points ...\n",
      "0 bad epochs dropped\n",
      "Data is self data: True\n"
     ]
    },
    {
     "name": "stderr",
     "output_type": "stream",
     "text": [
      "[Parallel(n_jobs=1)]: Done   1 tasks      | elapsed:   12.3s\n",
      "[Parallel(n_jobs=1)]: Done   4 tasks      | elapsed:   49.2s\n",
      "[Parallel(n_jobs=1)]: Done   7 tasks      | elapsed:  1.4min\n",
      "[Parallel(n_jobs=1)]: Done  12 tasks      | elapsed:  2.4min\n",
      "[Parallel(n_jobs=1)]: Done  17 tasks      | elapsed:  3.5min\n",
      "[Parallel(n_jobs=1)]: Done  24 tasks      | elapsed:  4.9min\n",
      "[Parallel(n_jobs=1)]: Done  31 tasks      | elapsed:  6.3min\n",
      "[Parallel(n_jobs=1)]: Done  40 tasks      | elapsed:  8.2min\n",
      "[Parallel(n_jobs=1)]: Done  49 tasks      | elapsed: 10.1min\n",
      "[Parallel(n_jobs=1)]: Done  60 tasks      | elapsed: 12.3min\n",
      "[Parallel(n_jobs=1)]: Done  71 tasks      | elapsed: 14.6min\n",
      "[Parallel(n_jobs=1)]: Done  84 tasks      | elapsed: 17.3min\n",
      "[Parallel(n_jobs=1)]: Done  97 tasks      | elapsed: 20.0min\n",
      "[Parallel(n_jobs=1)]: Done 112 tasks      | elapsed: 23.1min\n",
      "[Parallel(n_jobs=1)]: Done 127 tasks      | elapsed: 26.2min\n",
      "[Parallel(n_jobs=1)]: Done 144 tasks      | elapsed: 29.7min\n",
      "[Parallel(n_jobs=1)]: Done 161 tasks      | elapsed: 33.2min\n",
      "[Parallel(n_jobs=1)]: Done 180 tasks      | elapsed: 37.1min\n",
      "[Parallel(n_jobs=1)]: Done 199 tasks      | elapsed: 41.0min\n",
      "[Parallel(n_jobs=1)]: Done 220 tasks      | elapsed: 45.3min\n"
     ]
    },
    {
     "name": "stdout",
     "output_type": "stream",
     "text": [
      "Not setting metadata\n",
      "Applying baseline correction (mode: ratio)\n"
     ]
    },
    {
     "name": "stderr",
     "output_type": "stream",
     "text": [
      "C:\\Users\\jz421\\Desktop\\GlobalLocal\\IEEG_Pipelines\\ieeg\\calc\\scaling.py:69: RuntimeWarning: invalid value encountered in divide\n",
      "  d /= m\n",
      "C:\\Users\\jz421\\AppData\\Local\\Temp\\ipykernel_1544\\1846413019.py:70: RuntimeWarning: Mean of empty slice\n",
      "  lambda x: np.nanmean(x, axis=0), copy=True)\n"
     ]
    },
    {
     "name": "stdout",
     "output_type": "stream",
     "text": [
      "Extracting EDF parameters from C:\\Users\\jz421\\Box\\CoganLab\\BIDS-1.1_GlobalLocal\\BIDS\\derivatives\\clean\\sub-D0100\\ieeg\\sub-D0100_task-GlobalLocal_acq-01_run-01_desc-clean_ieeg.edf...\n",
      "EDF file detected\n",
      "Setting channel info structure...\n",
      "Creating raw.info structure...\n",
      "Reading events from C:\\Users\\jz421\\Box\\CoganLab\\BIDS-1.1_GlobalLocal\\BIDS\\derivatives\\clean\\sub-D0100\\ieeg\\sub-D0100_task-GlobalLocal_acq-01_run-01_desc-clean_events.tsv.\n",
      "Reading channel info from C:\\Users\\jz421\\Box\\CoganLab\\BIDS-1.1_GlobalLocal\\BIDS\\derivatives\\clean\\sub-D0100\\ieeg\\sub-D0100_task-GlobalLocal_acq-01_run-01_desc-clean_channels.tsv.\n",
      "Reading electrode coords from C:\\Users\\jz421\\Box\\CoganLab\\BIDS-1.1_GlobalLocal\\BIDS\\derivatives\\clean\\sub-D0100\\ieeg\\sub-D0100_acq-01_space-ACPC_electrodes.tsv.\n",
      "Not fully anonymizing info - keeping his_id, sex, and hand info\n"
     ]
    },
    {
     "name": "stderr",
     "output_type": "stream",
     "text": [
      "C:\\Users\\jz421\\Desktop\\GlobalLocal\\IEEG_Pipelines\\ieeg\\io.py:113: RuntimeWarning: The number of channels in the channels.tsv sidecar file (231) does not match the number of channels in the raw data file (230). Will not try to set channel names.\n",
      "  new_raw = read_raw_bids(bids_path=BIDS_path, verbose=verbose)\n",
      "C:\\Users\\jz421\\Desktop\\GlobalLocal\\IEEG_Pipelines\\ieeg\\io.py:113: RuntimeWarning: Cannot set channel type for the following channels, as they are missing in the raw data: Trigger\n",
      "  new_raw = read_raw_bids(bids_path=BIDS_path, verbose=verbose)\n"
     ]
    },
    {
     "name": "stdout",
     "output_type": "stream",
     "text": [
      "Extracting EDF parameters from C:\\Users\\jz421\\Box\\CoganLab\\BIDS-1.1_GlobalLocal\\BIDS\\derivatives\\clean\\sub-D0100\\ieeg\\sub-D0100_task-GlobalLocal_acq-01_run-02_desc-clean_ieeg.edf...\n",
      "EDF file detected\n",
      "Setting channel info structure...\n",
      "Creating raw.info structure...\n",
      "Reading events from C:\\Users\\jz421\\Box\\CoganLab\\BIDS-1.1_GlobalLocal\\BIDS\\derivatives\\clean\\sub-D0100\\ieeg\\sub-D0100_task-GlobalLocal_acq-01_run-02_desc-clean_events.tsv.\n",
      "Reading channel info from C:\\Users\\jz421\\Box\\CoganLab\\BIDS-1.1_GlobalLocal\\BIDS\\derivatives\\clean\\sub-D0100\\ieeg\\sub-D0100_task-GlobalLocal_acq-01_run-02_desc-clean_channels.tsv.\n",
      "Reading electrode coords from C:\\Users\\jz421\\Box\\CoganLab\\BIDS-1.1_GlobalLocal\\BIDS\\derivatives\\clean\\sub-D0100\\ieeg\\sub-D0100_acq-01_space-ACPC_electrodes.tsv.\n",
      "Not fully anonymizing info - keeping his_id, sex, and hand info\n",
      "Extracting EDF parameters from C:\\Users\\jz421\\Box\\CoganLab\\BIDS-1.1_GlobalLocal\\BIDS\\derivatives\\clean\\sub-D0100\\ieeg\\sub-D0100_task-GlobalLocal_acq-01_run-03_desc-clean_ieeg.edf...\n",
      "EDF file detected\n"
     ]
    },
    {
     "name": "stderr",
     "output_type": "stream",
     "text": [
      "C:\\Users\\jz421\\Desktop\\GlobalLocal\\IEEG_Pipelines\\ieeg\\io.py:113: RuntimeWarning: Omitted 228 annotation(s) that were outside data range.\n",
      "  new_raw = read_raw_bids(bids_path=BIDS_path, verbose=verbose)\n",
      "C:\\Users\\jz421\\Desktop\\GlobalLocal\\IEEG_Pipelines\\ieeg\\io.py:113: RuntimeWarning: The number of channels in the channels.tsv sidecar file (231) does not match the number of channels in the raw data file (230). Will not try to set channel names.\n",
      "  new_raw = read_raw_bids(bids_path=BIDS_path, verbose=verbose)\n",
      "C:\\Users\\jz421\\Desktop\\GlobalLocal\\IEEG_Pipelines\\ieeg\\io.py:113: RuntimeWarning: Cannot set channel type for the following channels, as they are missing in the raw data: Trigger\n",
      "  new_raw = read_raw_bids(bids_path=BIDS_path, verbose=verbose)\n"
     ]
    },
    {
     "name": "stdout",
     "output_type": "stream",
     "text": [
      "Setting channel info structure...\n",
      "Creating raw.info structure...\n",
      "Reading events from C:\\Users\\jz421\\Box\\CoganLab\\BIDS-1.1_GlobalLocal\\BIDS\\derivatives\\clean\\sub-D0100\\ieeg\\sub-D0100_task-GlobalLocal_acq-01_run-03_desc-clean_events.tsv.\n",
      "Reading channel info from C:\\Users\\jz421\\Box\\CoganLab\\BIDS-1.1_GlobalLocal\\BIDS\\derivatives\\clean\\sub-D0100\\ieeg\\sub-D0100_task-GlobalLocal_acq-01_run-03_desc-clean_channels.tsv.\n",
      "Reading electrode coords from C:\\Users\\jz421\\Box\\CoganLab\\BIDS-1.1_GlobalLocal\\BIDS\\derivatives\\clean\\sub-D0100\\ieeg\\sub-D0100_acq-01_space-ACPC_electrodes.tsv.\n",
      "Not fully anonymizing info - keeping his_id, sex, and hand info\n",
      "Extracting EDF parameters from C:\\Users\\jz421\\Box\\CoganLab\\BIDS-1.1_GlobalLocal\\BIDS\\derivatives\\clean\\sub-D0100\\ieeg\\sub-D0100_task-GlobalLocal_acq-01_run-04_desc-clean_ieeg.edf...\n",
      "EDF file detected\n",
      "Setting channel info structure...\n"
     ]
    },
    {
     "name": "stderr",
     "output_type": "stream",
     "text": [
      "C:\\Users\\jz421\\Desktop\\GlobalLocal\\IEEG_Pipelines\\ieeg\\io.py:113: RuntimeWarning: Omitted 227 annotation(s) that were outside data range.\n",
      "  new_raw = read_raw_bids(bids_path=BIDS_path, verbose=verbose)\n",
      "C:\\Users\\jz421\\Desktop\\GlobalLocal\\IEEG_Pipelines\\ieeg\\io.py:113: RuntimeWarning: The number of channels in the channels.tsv sidecar file (231) does not match the number of channels in the raw data file (230). Will not try to set channel names.\n",
      "  new_raw = read_raw_bids(bids_path=BIDS_path, verbose=verbose)\n",
      "C:\\Users\\jz421\\Desktop\\GlobalLocal\\IEEG_Pipelines\\ieeg\\io.py:113: RuntimeWarning: Cannot set channel type for the following channels, as they are missing in the raw data: Trigger\n",
      "  new_raw = read_raw_bids(bids_path=BIDS_path, verbose=verbose)\n"
     ]
    },
    {
     "name": "stdout",
     "output_type": "stream",
     "text": [
      "Creating raw.info structure...\n",
      "Reading events from C:\\Users\\jz421\\Box\\CoganLab\\BIDS-1.1_GlobalLocal\\BIDS\\derivatives\\clean\\sub-D0100\\ieeg\\sub-D0100_task-GlobalLocal_acq-01_run-04_desc-clean_events.tsv.\n",
      "Reading channel info from C:\\Users\\jz421\\Box\\CoganLab\\BIDS-1.1_GlobalLocal\\BIDS\\derivatives\\clean\\sub-D0100\\ieeg\\sub-D0100_task-GlobalLocal_acq-01_run-04_desc-clean_channels.tsv.\n",
      "Reading electrode coords from C:\\Users\\jz421\\Box\\CoganLab\\BIDS-1.1_GlobalLocal\\BIDS\\derivatives\\clean\\sub-D0100\\ieeg\\sub-D0100_acq-01_space-ACPC_electrodes.tsv.\n",
      "Not fully anonymizing info - keeping his_id, sex, and hand info\n"
     ]
    },
    {
     "name": "stderr",
     "output_type": "stream",
     "text": [
      "C:\\Users\\jz421\\Desktop\\GlobalLocal\\IEEG_Pipelines\\ieeg\\io.py:113: RuntimeWarning: Omitted 225 annotation(s) that were outside data range.\n",
      "  new_raw = read_raw_bids(bids_path=BIDS_path, verbose=verbose)\n",
      "C:\\Users\\jz421\\Desktop\\GlobalLocal\\IEEG_Pipelines\\ieeg\\io.py:113: RuntimeWarning: The number of channels in the channels.tsv sidecar file (231) does not match the number of channels in the raw data file (230). Will not try to set channel names.\n",
      "  new_raw = read_raw_bids(bids_path=BIDS_path, verbose=verbose)\n",
      "C:\\Users\\jz421\\Desktop\\GlobalLocal\\IEEG_Pipelines\\ieeg\\io.py:113: RuntimeWarning: Cannot set channel type for the following channels, as they are missing in the raw data: Trigger\n",
      "  new_raw = read_raw_bids(bids_path=BIDS_path, verbose=verbose)\n"
     ]
    },
    {
     "name": "stdout",
     "output_type": "stream",
     "text": [
      "<RawEDF | sub-D0100_task-GlobalLocal_acq-01_run-01_desc-clean_ieeg.edf, 230 x 6502400 (3175.0 s), ~258 kB, data not loaded>\n",
      "outlier round 1 channels: ['LTPS8']\n",
      "outlier round 2 channels: ['LTPS8', 'LTMM3']\n",
      "outlier round 2 channels: ['LTPS8', 'LTMM3', 'LTMM4']\n",
      "outlier round 2 channels: ['LTPS8', 'LTMM3', 'LTMM4', 'LTPM5']\n",
      "outlier round 2 channels: ['LTPS8', 'LTMM3', 'LTMM4', 'LTPM5', 'LOAI3']\n",
      "outlier round 2 channels: ['LTPS8', 'LTMM3', 'LTMM4', 'LTPM5', 'LOAI3', 'LOMI1']\n",
      "Reading 0 ... 3321652  =      0.000 ...  1621.900 secs...\n",
      "Applying average reference.\n",
      "Applying a custom ('sEEG',) reference.\n",
      "times: [-0.7, 0.5]\n",
      "Used Annotations descriptions: ['Response/c25/n75', 'Response/c25/r25', 'Response/c25/r75', 'Response/c25/s25', 'Response/c25/s75', 'Response/c75/r25', 'Response/c75/r75', 'Response/c75/s25', 'Response/c75/s75', 'Response/i25/n25', 'Response/i25/r25', 'Response/i25/r75', 'Response/i25/s25', 'Response/i25/s75', 'Response/i75/n25', 'Response/i75/n75', 'Response/i75/r25', 'Response/i75/r75', 'Response/i75/s25', 'Response/i75/s75', 'Stimulus/c25/n75', 'Stimulus/c25/r25', 'Stimulus/c25/r75', 'Stimulus/c25/s25', 'Stimulus/c25/s75', 'Stimulus/c75/r25', 'Stimulus/c75/r75', 'Stimulus/c75/s25', 'Stimulus/c75/s75', 'Stimulus/i25/n25', 'Stimulus/i25/r25', 'Stimulus/i25/r75', 'Stimulus/i25/s25', 'Stimulus/i25/s75', 'Stimulus/i75/n25', 'Stimulus/i75/n75', 'Stimulus/i75/r25', 'Stimulus/i75/r75', 'Stimulus/i75/s25', 'Stimulus/i75/s75']\n",
      "Not setting metadata\n",
      "448 matching events found\n",
      "No baseline correction applied\n",
      "0 projection items activated\n",
      "Using data from preloaded Raw for 448 events and 2459 original time points ...\n",
      "0 bad epochs dropped\n",
      "Data is self data: True\n"
     ]
    },
    {
     "name": "stderr",
     "output_type": "stream",
     "text": [
      "[Parallel(n_jobs=1)]: Done   1 tasks      | elapsed:    3.3s\n",
      "[Parallel(n_jobs=1)]: Done   4 tasks      | elapsed:   13.6s\n",
      "[Parallel(n_jobs=1)]: Done   7 tasks      | elapsed:   23.9s\n",
      "[Parallel(n_jobs=1)]: Done  12 tasks      | elapsed:   41.1s\n",
      "[Parallel(n_jobs=1)]: Done  17 tasks      | elapsed:   58.8s\n",
      "[Parallel(n_jobs=1)]: Done  24 tasks      | elapsed:  1.4min\n",
      "[Parallel(n_jobs=1)]: Done  31 tasks      | elapsed:  1.8min\n",
      "[Parallel(n_jobs=1)]: Done  40 tasks      | elapsed:  2.3min\n",
      "[Parallel(n_jobs=1)]: Done  49 tasks      | elapsed:  2.9min\n",
      "[Parallel(n_jobs=1)]: Done  60 tasks      | elapsed:  3.5min\n",
      "[Parallel(n_jobs=1)]: Done  71 tasks      | elapsed:  4.2min\n",
      "[Parallel(n_jobs=1)]: Done  84 tasks      | elapsed:  4.9min\n",
      "[Parallel(n_jobs=1)]: Done  97 tasks      | elapsed:  5.7min\n",
      "[Parallel(n_jobs=1)]: Done 112 tasks      | elapsed:  6.6min\n",
      "[Parallel(n_jobs=1)]: Done 127 tasks      | elapsed:  7.5min\n",
      "[Parallel(n_jobs=1)]: Done 144 tasks      | elapsed:  8.5min\n",
      "[Parallel(n_jobs=1)]: Done 161 tasks      | elapsed:  9.5min\n",
      "[Parallel(n_jobs=1)]: Done 180 tasks      | elapsed: 10.6min\n",
      "[Parallel(n_jobs=1)]: Done 199 tasks      | elapsed: 11.7min\n",
      "[Parallel(n_jobs=1)]: Done 220 tasks      | elapsed: 12.9min\n"
     ]
    },
    {
     "name": "stdout",
     "output_type": "stream",
     "text": [
      "Not setting metadata\n",
      "Used Annotations descriptions: ['Response/c25/n75', 'Response/c25/r25', 'Response/c25/r75', 'Response/c25/s25', 'Response/c25/s75', 'Response/c75/r25', 'Response/c75/r75', 'Response/c75/s25', 'Response/c75/s75', 'Response/i25/n25', 'Response/i25/r25', 'Response/i25/r75', 'Response/i25/s25', 'Response/i25/s75', 'Response/i75/n25', 'Response/i75/n75', 'Response/i75/r25', 'Response/i75/r75', 'Response/i75/s25', 'Response/i75/s75', 'Stimulus/c25/n75', 'Stimulus/c25/r25', 'Stimulus/c25/r75', 'Stimulus/c25/s25', 'Stimulus/c25/s75', 'Stimulus/c75/r25', 'Stimulus/c75/r75', 'Stimulus/c75/s25', 'Stimulus/c75/s75', 'Stimulus/i25/n25', 'Stimulus/i25/r25', 'Stimulus/i25/r75', 'Stimulus/i25/s25', 'Stimulus/i25/s75', 'Stimulus/i75/n25', 'Stimulus/i75/n75', 'Stimulus/i75/r25', 'Stimulus/i75/r75', 'Stimulus/i75/s25', 'Stimulus/i75/s75']\n",
      "Not setting metadata\n",
      "448 matching events found\n",
      "No baseline correction applied\n",
      "0 projection items activated\n",
      "Using data from preloaded Raw for 448 events and 8193 original time points ...\n",
      "0 bad epochs dropped\n",
      "Data is self data: True\n"
     ]
    },
    {
     "name": "stderr",
     "output_type": "stream",
     "text": [
      "[Parallel(n_jobs=1)]: Done   1 tasks      | elapsed:   12.2s\n",
      "[Parallel(n_jobs=1)]: Done   4 tasks      | elapsed:   48.9s\n",
      "[Parallel(n_jobs=1)]: Done   7 tasks      | elapsed:  1.4min\n",
      "[Parallel(n_jobs=1)]: Done  12 tasks      | elapsed:  2.4min\n",
      "[Parallel(n_jobs=1)]: Done  17 tasks      | elapsed:  3.5min\n",
      "[Parallel(n_jobs=1)]: Done  24 tasks      | elapsed:  4.9min\n",
      "[Parallel(n_jobs=1)]: Done  31 tasks      | elapsed:  6.3min\n",
      "[Parallel(n_jobs=1)]: Done  40 tasks      | elapsed:  8.2min\n",
      "[Parallel(n_jobs=1)]: Done  49 tasks      | elapsed: 10.0min\n",
      "[Parallel(n_jobs=1)]: Done  60 tasks      | elapsed: 12.2min\n",
      "[Parallel(n_jobs=1)]: Done  71 tasks      | elapsed: 14.5min\n",
      "[Parallel(n_jobs=1)]: Done  84 tasks      | elapsed: 17.3min\n",
      "[Parallel(n_jobs=1)]: Done  97 tasks      | elapsed: 20.4min\n",
      "[Parallel(n_jobs=1)]: Done 112 tasks      | elapsed: 23.8min\n",
      "[Parallel(n_jobs=1)]: Done 127 tasks      | elapsed: 27.0min\n",
      "[Parallel(n_jobs=1)]: Done 144 tasks      | elapsed: 30.5min\n",
      "[Parallel(n_jobs=1)]: Done 161 tasks      | elapsed: 34.0min\n",
      "[Parallel(n_jobs=1)]: Done 180 tasks      | elapsed: 37.9min\n",
      "[Parallel(n_jobs=1)]: Done 199 tasks      | elapsed: 41.9min\n",
      "[Parallel(n_jobs=1)]: Done 220 tasks      | elapsed: 46.2min\n"
     ]
    },
    {
     "name": "stdout",
     "output_type": "stream",
     "text": [
      "Not setting metadata\n",
      "Applying baseline correction (mode: ratio)\n"
     ]
    },
    {
     "name": "stderr",
     "output_type": "stream",
     "text": [
      "C:\\Users\\jz421\\Desktop\\GlobalLocal\\IEEG_Pipelines\\ieeg\\calc\\scaling.py:69: RuntimeWarning: invalid value encountered in divide\n",
      "  d /= m\n",
      "C:\\Users\\jz421\\AppData\\Local\\Temp\\ipykernel_1544\\1846413019.py:70: RuntimeWarning: Mean of empty slice\n",
      "  lambda x: np.nanmean(x, axis=0), copy=True)\n"
     ]
    },
    {
     "name": "stdout",
     "output_type": "stream",
     "text": [
      "Extracting EDF parameters from C:\\Users\\jz421\\Box\\CoganLab\\BIDS-1.1_GlobalLocal\\BIDS\\derivatives\\clean\\sub-D0102\\ieeg\\sub-D0102_task-GlobalLocal_acq-01_run-01_desc-clean_ieeg.edf...\n",
      "EDF file detected\n",
      "Setting channel info structure...\n",
      "Creating raw.info structure...\n",
      "Reading events from C:\\Users\\jz421\\Box\\CoganLab\\BIDS-1.1_GlobalLocal\\BIDS\\derivatives\\clean\\sub-D0102\\ieeg\\sub-D0102_task-GlobalLocal_acq-01_run-01_desc-clean_events.tsv.\n",
      "Reading channel info from C:\\Users\\jz421\\Box\\CoganLab\\BIDS-1.1_GlobalLocal\\BIDS\\derivatives\\clean\\sub-D0102\\ieeg\\sub-D0102_task-GlobalLocal_acq-01_run-01_desc-clean_channels.tsv.\n",
      "Reading electrode coords from C:\\Users\\jz421\\Box\\CoganLab\\BIDS-1.1_GlobalLocal\\BIDS\\derivatives\\clean\\sub-D0102\\ieeg\\sub-D0102_acq-01_space-ACPC_electrodes.tsv.\n",
      "Not fully anonymizing info - keeping his_id, sex, and hand info\n",
      "Extracting EDF parameters from C:\\Users\\jz421\\Box\\CoganLab\\BIDS-1.1_GlobalLocal\\BIDS\\derivatives\\clean\\sub-D0102\\ieeg\\sub-D0102_task-GlobalLocal_acq-01_run-02_desc-clean_ieeg.edf...\n",
      "EDF file detected\n",
      "Setting channel info structure...\n",
      "Creating raw.info structure...\n"
     ]
    },
    {
     "name": "stderr",
     "output_type": "stream",
     "text": [
      "C:\\Users\\jz421\\Desktop\\GlobalLocal\\IEEG_Pipelines\\ieeg\\io.py:113: RuntimeWarning: The number of channels in the channels.tsv sidecar file (228) does not match the number of channels in the raw data file (227). Will not try to set channel names.\n",
      "  new_raw = read_raw_bids(bids_path=BIDS_path, verbose=verbose)\n",
      "C:\\Users\\jz421\\Desktop\\GlobalLocal\\IEEG_Pipelines\\ieeg\\io.py:113: RuntimeWarning: Cannot set channel type for the following channels, as they are missing in the raw data: Trigger\n",
      "  new_raw = read_raw_bids(bids_path=BIDS_path, verbose=verbose)\n"
     ]
    },
    {
     "name": "stdout",
     "output_type": "stream",
     "text": [
      "Reading events from C:\\Users\\jz421\\Box\\CoganLab\\BIDS-1.1_GlobalLocal\\BIDS\\derivatives\\clean\\sub-D0102\\ieeg\\sub-D0102_task-GlobalLocal_acq-01_run-02_desc-clean_events.tsv.\n",
      "Reading channel info from C:\\Users\\jz421\\Box\\CoganLab\\BIDS-1.1_GlobalLocal\\BIDS\\derivatives\\clean\\sub-D0102\\ieeg\\sub-D0102_task-GlobalLocal_acq-01_run-02_desc-clean_channels.tsv.\n",
      "Reading electrode coords from C:\\Users\\jz421\\Box\\CoganLab\\BIDS-1.1_GlobalLocal\\BIDS\\derivatives\\clean\\sub-D0102\\ieeg\\sub-D0102_acq-01_space-ACPC_electrodes.tsv.\n",
      "Not fully anonymizing info - keeping his_id, sex, and hand info\n",
      "Extracting EDF parameters from C:\\Users\\jz421\\Box\\CoganLab\\BIDS-1.1_GlobalLocal\\BIDS\\derivatives\\clean\\sub-D0102\\ieeg\\sub-D0102_task-GlobalLocal_acq-01_run-03_desc-clean_ieeg.edf...\n",
      "EDF file detected\n",
      "Setting channel info structure...\n",
      "Creating raw.info structure...\n"
     ]
    },
    {
     "name": "stderr",
     "output_type": "stream",
     "text": [
      "C:\\Users\\jz421\\Desktop\\GlobalLocal\\IEEG_Pipelines\\ieeg\\io.py:113: RuntimeWarning: Omitted 228 annotation(s) that were outside data range.\n",
      "  new_raw = read_raw_bids(bids_path=BIDS_path, verbose=verbose)\n",
      "C:\\Users\\jz421\\Desktop\\GlobalLocal\\IEEG_Pipelines\\ieeg\\io.py:113: RuntimeWarning: The number of channels in the channels.tsv sidecar file (228) does not match the number of channels in the raw data file (227). Will not try to set channel names.\n",
      "  new_raw = read_raw_bids(bids_path=BIDS_path, verbose=verbose)\n",
      "C:\\Users\\jz421\\Desktop\\GlobalLocal\\IEEG_Pipelines\\ieeg\\io.py:113: RuntimeWarning: Cannot set channel type for the following channels, as they are missing in the raw data: Trigger\n",
      "  new_raw = read_raw_bids(bids_path=BIDS_path, verbose=verbose)\n"
     ]
    },
    {
     "name": "stdout",
     "output_type": "stream",
     "text": [
      "Reading events from C:\\Users\\jz421\\Box\\CoganLab\\BIDS-1.1_GlobalLocal\\BIDS\\derivatives\\clean\\sub-D0102\\ieeg\\sub-D0102_task-GlobalLocal_acq-01_run-03_desc-clean_events.tsv.\n",
      "Reading channel info from C:\\Users\\jz421\\Box\\CoganLab\\BIDS-1.1_GlobalLocal\\BIDS\\derivatives\\clean\\sub-D0102\\ieeg\\sub-D0102_task-GlobalLocal_acq-01_run-03_desc-clean_channels.tsv.\n",
      "Reading electrode coords from C:\\Users\\jz421\\Box\\CoganLab\\BIDS-1.1_GlobalLocal\\BIDS\\derivatives\\clean\\sub-D0102\\ieeg\\sub-D0102_acq-01_space-ACPC_electrodes.tsv.\n",
      "Not fully anonymizing info - keeping his_id, sex, and hand info\n",
      "Extracting EDF parameters from C:\\Users\\jz421\\Box\\CoganLab\\BIDS-1.1_GlobalLocal\\BIDS\\derivatives\\clean\\sub-D0102\\ieeg\\sub-D0102_task-GlobalLocal_acq-01_run-04_desc-clean_ieeg.edf...\n",
      "EDF file detected\n",
      "Setting channel info structure...\n",
      "Creating raw.info structure...\n"
     ]
    },
    {
     "name": "stderr",
     "output_type": "stream",
     "text": [
      "C:\\Users\\jz421\\Desktop\\GlobalLocal\\IEEG_Pipelines\\ieeg\\io.py:113: RuntimeWarning: Omitted 228 annotation(s) that were outside data range.\n",
      "  new_raw = read_raw_bids(bids_path=BIDS_path, verbose=verbose)\n",
      "C:\\Users\\jz421\\Desktop\\GlobalLocal\\IEEG_Pipelines\\ieeg\\io.py:113: RuntimeWarning: The number of channels in the channels.tsv sidecar file (228) does not match the number of channels in the raw data file (227). Will not try to set channel names.\n",
      "  new_raw = read_raw_bids(bids_path=BIDS_path, verbose=verbose)\n",
      "C:\\Users\\jz421\\Desktop\\GlobalLocal\\IEEG_Pipelines\\ieeg\\io.py:113: RuntimeWarning: Cannot set channel type for the following channels, as they are missing in the raw data: Trigger\n",
      "  new_raw = read_raw_bids(bids_path=BIDS_path, verbose=verbose)\n"
     ]
    },
    {
     "name": "stdout",
     "output_type": "stream",
     "text": [
      "Reading events from C:\\Users\\jz421\\Box\\CoganLab\\BIDS-1.1_GlobalLocal\\BIDS\\derivatives\\clean\\sub-D0102\\ieeg\\sub-D0102_task-GlobalLocal_acq-01_run-04_desc-clean_events.tsv.\n",
      "Reading channel info from C:\\Users\\jz421\\Box\\CoganLab\\BIDS-1.1_GlobalLocal\\BIDS\\derivatives\\clean\\sub-D0102\\ieeg\\sub-D0102_task-GlobalLocal_acq-01_run-04_desc-clean_channels.tsv.\n",
      "Reading electrode coords from C:\\Users\\jz421\\Box\\CoganLab\\BIDS-1.1_GlobalLocal\\BIDS\\derivatives\\clean\\sub-D0102\\ieeg\\sub-D0102_acq-01_space-ACPC_electrodes.tsv.\n",
      "Not fully anonymizing info - keeping his_id, sex, and hand info\n"
     ]
    },
    {
     "name": "stderr",
     "output_type": "stream",
     "text": [
      "C:\\Users\\jz421\\Desktop\\GlobalLocal\\IEEG_Pipelines\\ieeg\\io.py:113: RuntimeWarning: Omitted 226 annotation(s) that were outside data range.\n",
      "  new_raw = read_raw_bids(bids_path=BIDS_path, verbose=verbose)\n",
      "C:\\Users\\jz421\\Desktop\\GlobalLocal\\IEEG_Pipelines\\ieeg\\io.py:113: RuntimeWarning: The number of channels in the channels.tsv sidecar file (228) does not match the number of channels in the raw data file (227). Will not try to set channel names.\n",
      "  new_raw = read_raw_bids(bids_path=BIDS_path, verbose=verbose)\n",
      "C:\\Users\\jz421\\Desktop\\GlobalLocal\\IEEG_Pipelines\\ieeg\\io.py:113: RuntimeWarning: Cannot set channel type for the following channels, as they are missing in the raw data: Trigger\n",
      "  new_raw = read_raw_bids(bids_path=BIDS_path, verbose=verbose)\n"
     ]
    },
    {
     "name": "stdout",
     "output_type": "stream",
     "text": [
      "<RawEDF | sub-D0102_task-GlobalLocal_acq-01_run-01_desc-clean_ieeg.edf, 227 x 7403520 (3615.0 s), ~255 kB, data not loaded>\n",
      "outlier round 1 channels: ['LTAM15']\n",
      "outlier round 2 channels: ['LTAM15', 'LTMM2']\n",
      "outlier round 2 channels: ['LTAM15', 'LTMM2', 'LTMM3']\n",
      "outlier round 2 channels: ['LTAM15', 'LTMM2', 'LTMM3', 'RTP3']\n",
      "outlier round 2 channels: ['LTAM15', 'LTMM2', 'LTMM3', 'RTP3', 'RTP4']\n",
      "outlier round 2 channels: ['LTAM15', 'LTMM2', 'LTMM3', 'RTP3', 'RTP4', 'RTP11']\n",
      "outlier round 2 channels: ['LTAM15', 'LTMM2', 'LTMM3', 'RTP3', 'RTP4', 'RTP11', 'RTP12']\n",
      "outlier round 2 channels: ['LTAM15', 'LTMM2', 'LTMM3', 'RTP3', 'RTP4', 'RTP11', 'RTP12', 'RTAM1']\n",
      "Reading 0 ... 3251432  =      0.000 ...  1587.613 secs...\n",
      "Applying average reference.\n",
      "Applying a custom ('sEEG',) reference.\n",
      "times: [-0.7, 0.5]\n",
      "Used Annotations descriptions: ['Response/c25/r25', 'Response/c25/r75', 'Response/c25/s25', 'Response/c25/s75', 'Response/c75/r25', 'Response/c75/r75', 'Response/c75/s25', 'Response/c75/s75', 'Response/i25/n75', 'Response/i25/r25', 'Response/i25/r75', 'Response/i25/s25', 'Response/i25/s75', 'Response/i75/n25', 'Response/i75/n75', 'Response/i75/r25', 'Response/i75/r75', 'Response/i75/s25', 'Response/i75/s75', 'Stimulus/c25/n25', 'Stimulus/c25/r25', 'Stimulus/c25/r75', 'Stimulus/c25/s25', 'Stimulus/c25/s75', 'Stimulus/c75/r25', 'Stimulus/c75/r75', 'Stimulus/c75/s25', 'Stimulus/c75/s75', 'Stimulus/i25/n75', 'Stimulus/i25/r25', 'Stimulus/i25/r75', 'Stimulus/i25/s25', 'Stimulus/i25/s75', 'Stimulus/i75/n25', 'Stimulus/i75/n75', 'Stimulus/i75/r25', 'Stimulus/i75/r75', 'Stimulus/i75/s25', 'Stimulus/i75/s75']\n",
      "Not setting metadata\n",
      "448 matching events found\n",
      "No baseline correction applied\n",
      "0 projection items activated\n",
      "Using data from preloaded Raw for 448 events and 2459 original time points ...\n",
      "0 bad epochs dropped\n",
      "Data is self data: True\n"
     ]
    },
    {
     "name": "stderr",
     "output_type": "stream",
     "text": [
      "[Parallel(n_jobs=1)]: Done   1 tasks      | elapsed:    3.7s\n",
      "[Parallel(n_jobs=1)]: Done   4 tasks      | elapsed:   14.0s\n",
      "[Parallel(n_jobs=1)]: Done   7 tasks      | elapsed:   24.4s\n",
      "[Parallel(n_jobs=1)]: Done  12 tasks      | elapsed:   41.9s\n",
      "[Parallel(n_jobs=1)]: Done  17 tasks      | elapsed:   59.0s\n",
      "[Parallel(n_jobs=1)]: Done  24 tasks      | elapsed:  1.4min\n",
      "[Parallel(n_jobs=1)]: Done  31 tasks      | elapsed:  1.8min\n",
      "[Parallel(n_jobs=1)]: Done  40 tasks      | elapsed:  2.3min\n",
      "[Parallel(n_jobs=1)]: Done  49 tasks      | elapsed:  2.8min\n",
      "[Parallel(n_jobs=1)]: Done  60 tasks      | elapsed:  3.4min\n",
      "[Parallel(n_jobs=1)]: Done  71 tasks      | elapsed:  4.1min\n",
      "[Parallel(n_jobs=1)]: Done  84 tasks      | elapsed:  4.8min\n",
      "[Parallel(n_jobs=1)]: Done  97 tasks      | elapsed:  5.6min\n",
      "[Parallel(n_jobs=1)]: Done 112 tasks      | elapsed:  6.4min\n",
      "[Parallel(n_jobs=1)]: Done 127 tasks      | elapsed:  7.3min\n",
      "[Parallel(n_jobs=1)]: Done 144 tasks      | elapsed:  8.3min\n",
      "[Parallel(n_jobs=1)]: Done 161 tasks      | elapsed:  9.3min\n",
      "[Parallel(n_jobs=1)]: Done 180 tasks      | elapsed: 10.4min\n",
      "[Parallel(n_jobs=1)]: Done 199 tasks      | elapsed: 11.5min\n"
     ]
    },
    {
     "name": "stdout",
     "output_type": "stream",
     "text": [
      "Not setting metadata\n",
      "Used Annotations descriptions: ['Response/c25/r25', 'Response/c25/r75', 'Response/c25/s25', 'Response/c25/s75', 'Response/c75/r25', 'Response/c75/r75', 'Response/c75/s25', 'Response/c75/s75', 'Response/i25/n75', 'Response/i25/r25', 'Response/i25/r75', 'Response/i25/s25', 'Response/i25/s75', 'Response/i75/n25', 'Response/i75/n75', 'Response/i75/r25', 'Response/i75/r75', 'Response/i75/s25', 'Response/i75/s75', 'Stimulus/c25/n25', 'Stimulus/c25/r25', 'Stimulus/c25/r75', 'Stimulus/c25/s25', 'Stimulus/c25/s75', 'Stimulus/c75/r25', 'Stimulus/c75/r75', 'Stimulus/c75/s25', 'Stimulus/c75/s75', 'Stimulus/i25/n75', 'Stimulus/i25/r25', 'Stimulus/i25/r75', 'Stimulus/i25/s25', 'Stimulus/i25/s75', 'Stimulus/i75/n25', 'Stimulus/i75/n75', 'Stimulus/i75/r25', 'Stimulus/i75/r75', 'Stimulus/i75/s25', 'Stimulus/i75/s75']\n",
      "Not setting metadata\n",
      "448 matching events found\n",
      "No baseline correction applied\n",
      "0 projection items activated\n",
      "Using data from preloaded Raw for 448 events and 8193 original time points ...\n",
      "0 bad epochs dropped\n",
      "Data is self data: True\n"
     ]
    },
    {
     "name": "stderr",
     "output_type": "stream",
     "text": [
      "[Parallel(n_jobs=1)]: Done   1 tasks      | elapsed:   12.3s\n",
      "[Parallel(n_jobs=1)]: Done   4 tasks      | elapsed:   49.8s\n",
      "[Parallel(n_jobs=1)]: Done   7 tasks      | elapsed:  1.5min\n",
      "[Parallel(n_jobs=1)]: Done  12 tasks      | elapsed:  2.5min\n",
      "[Parallel(n_jobs=1)]: Done  17 tasks      | elapsed:  3.5min\n",
      "[Parallel(n_jobs=1)]: Done  24 tasks      | elapsed:  5.0min\n",
      "[Parallel(n_jobs=1)]: Done  31 tasks      | elapsed:  6.4min\n",
      "[Parallel(n_jobs=1)]: Done  40 tasks      | elapsed:  8.3min\n",
      "[Parallel(n_jobs=1)]: Done  49 tasks      | elapsed: 10.2min\n",
      "[Parallel(n_jobs=1)]: Done  60 tasks      | elapsed: 12.5min\n",
      "[Parallel(n_jobs=1)]: Done  71 tasks      | elapsed: 14.8min\n",
      "[Parallel(n_jobs=1)]: Done  84 tasks      | elapsed: 17.5min\n",
      "[Parallel(n_jobs=1)]: Done  97 tasks      | elapsed: 20.2min\n",
      "[Parallel(n_jobs=1)]: Done 112 tasks      | elapsed: 23.3min\n",
      "[Parallel(n_jobs=1)]: Done 127 tasks      | elapsed: 26.5min\n",
      "[Parallel(n_jobs=1)]: Done 144 tasks      | elapsed: 30.0min\n",
      "[Parallel(n_jobs=1)]: Done 161 tasks      | elapsed: 33.5min\n",
      "[Parallel(n_jobs=1)]: Done 180 tasks      | elapsed: 37.5min\n",
      "[Parallel(n_jobs=1)]: Done 199 tasks      | elapsed: 41.5min\n"
     ]
    },
    {
     "name": "stdout",
     "output_type": "stream",
     "text": [
      "Not setting metadata\n",
      "Applying baseline correction (mode: ratio)\n"
     ]
    },
    {
     "name": "stderr",
     "output_type": "stream",
     "text": [
      "C:\\Users\\jz421\\Desktop\\GlobalLocal\\IEEG_Pipelines\\ieeg\\calc\\scaling.py:69: RuntimeWarning: invalid value encountered in divide\n",
      "  d /= m\n",
      "C:\\Users\\jz421\\AppData\\Local\\Temp\\ipykernel_1544\\1846413019.py:70: RuntimeWarning: Mean of empty slice\n",
      "  lambda x: np.nanmean(x, axis=0), copy=True)\n"
     ]
    },
    {
     "name": "stdout",
     "output_type": "stream",
     "text": [
      "Extracting EDF parameters from C:\\Users\\jz421\\Box\\CoganLab\\BIDS-1.1_GlobalLocal\\BIDS\\derivatives\\clean\\sub-D0103\\ieeg\\sub-D0103_task-GlobalLocal_acq-01_run-01_desc-clean_ieeg.edf...\n",
      "EDF file detected\n",
      "Setting channel info structure...\n",
      "Creating raw.info structure...\n",
      "Reading events from C:\\Users\\jz421\\Box\\CoganLab\\BIDS-1.1_GlobalLocal\\BIDS\\derivatives\\clean\\sub-D0103\\ieeg\\sub-D0103_task-GlobalLocal_acq-01_run-01_desc-clean_events.tsv.\n",
      "Reading channel info from C:\\Users\\jz421\\Box\\CoganLab\\BIDS-1.1_GlobalLocal\\BIDS\\derivatives\\clean\\sub-D0103\\ieeg\\sub-D0103_task-GlobalLocal_acq-01_run-01_desc-clean_channels.tsv.\n",
      "Reading electrode coords from C:\\Users\\jz421\\Box\\CoganLab\\BIDS-1.1_GlobalLocal\\BIDS\\derivatives\\clean\\sub-D0103\\ieeg\\sub-D0103_acq-01_space-ACPC_electrodes.tsv.\n",
      "Not fully anonymizing info - keeping his_id, sex, and hand info\n",
      "Extracting EDF parameters from C:\\Users\\jz421\\Box\\CoganLab\\BIDS-1.1_GlobalLocal\\BIDS\\derivatives\\clean\\sub-D0103\\ieeg\\sub-D0103_task-GlobalLocal_acq-01_run-02_desc-clean_ieeg.edf...\n",
      "EDF file detected\n",
      "Setting channel info structure...\n",
      "Creating raw.info structure...\n",
      "Reading events from C:\\Users\\jz421\\Box\\CoganLab\\BIDS-1.1_GlobalLocal\\BIDS\\derivatives\\clean\\sub-D0103\\ieeg\\sub-D0103_task-GlobalLocal_acq-01_run-02_desc-clean_events.tsv.\n",
      "Reading channel info from C:\\Users\\jz421\\Box\\CoganLab\\BIDS-1.1_GlobalLocal\\BIDS\\derivatives\\clean\\sub-D0103\\ieeg\\sub-D0103_task-GlobalLocal_acq-01_run-02_desc-clean_channels.tsv.\n",
      "Reading electrode coords from C:\\Users\\jz421\\Box\\CoganLab\\BIDS-1.1_GlobalLocal\\BIDS\\derivatives\\clean\\sub-D0103\\ieeg\\sub-D0103_acq-01_space-ACPC_electrodes.tsv.\n",
      "Not fully anonymizing info - keeping his_id, sex, and hand info\n",
      "Extracting EDF parameters from C:\\Users\\jz421\\Box\\CoganLab\\BIDS-1.1_GlobalLocal\\BIDS\\derivatives\\clean\\sub-D0103\\ieeg\\sub-D0103_task-GlobalLocal_acq-01_run-03_desc-clean_ieeg.edf...\n",
      "EDF file detected\n"
     ]
    },
    {
     "name": "stderr",
     "output_type": "stream",
     "text": [
      "C:\\Users\\jz421\\Desktop\\GlobalLocal\\IEEG_Pipelines\\ieeg\\io.py:113: RuntimeWarning: Omitted 226 annotation(s) that were outside data range.\n",
      "  new_raw = read_raw_bids(bids_path=BIDS_path, verbose=verbose)\n"
     ]
    },
    {
     "name": "stdout",
     "output_type": "stream",
     "text": [
      "Setting channel info structure...\n",
      "Creating raw.info structure...\n",
      "Reading events from C:\\Users\\jz421\\Box\\CoganLab\\BIDS-1.1_GlobalLocal\\BIDS\\derivatives\\clean\\sub-D0103\\ieeg\\sub-D0103_task-GlobalLocal_acq-01_run-03_desc-clean_events.tsv.\n",
      "Reading channel info from C:\\Users\\jz421\\Box\\CoganLab\\BIDS-1.1_GlobalLocal\\BIDS\\derivatives\\clean\\sub-D0103\\ieeg\\sub-D0103_task-GlobalLocal_acq-01_run-03_desc-clean_channels.tsv.\n",
      "Reading electrode coords from C:\\Users\\jz421\\Box\\CoganLab\\BIDS-1.1_GlobalLocal\\BIDS\\derivatives\\clean\\sub-D0103\\ieeg\\sub-D0103_acq-01_space-ACPC_electrodes.tsv.\n",
      "Not fully anonymizing info - keeping his_id, sex, and hand info\n",
      "Extracting EDF parameters from C:\\Users\\jz421\\Box\\CoganLab\\BIDS-1.1_GlobalLocal\\BIDS\\derivatives\\clean\\sub-D0103\\ieeg\\sub-D0103_task-GlobalLocal_acq-01_run-04_desc-clean_ieeg.edf...\n",
      "EDF file detected\n",
      "Setting channel info structure...\n"
     ]
    },
    {
     "name": "stderr",
     "output_type": "stream",
     "text": [
      "C:\\Users\\jz421\\Desktop\\GlobalLocal\\IEEG_Pipelines\\ieeg\\io.py:113: RuntimeWarning: Omitted 228 annotation(s) that were outside data range.\n",
      "  new_raw = read_raw_bids(bids_path=BIDS_path, verbose=verbose)\n"
     ]
    },
    {
     "name": "stdout",
     "output_type": "stream",
     "text": [
      "Creating raw.info structure...\n",
      "Reading events from C:\\Users\\jz421\\Box\\CoganLab\\BIDS-1.1_GlobalLocal\\BIDS\\derivatives\\clean\\sub-D0103\\ieeg\\sub-D0103_task-GlobalLocal_acq-01_run-04_desc-clean_events.tsv.\n",
      "Reading channel info from C:\\Users\\jz421\\Box\\CoganLab\\BIDS-1.1_GlobalLocal\\BIDS\\derivatives\\clean\\sub-D0103\\ieeg\\sub-D0103_task-GlobalLocal_acq-01_run-04_desc-clean_channels.tsv.\n",
      "Reading electrode coords from C:\\Users\\jz421\\Box\\CoganLab\\BIDS-1.1_GlobalLocal\\BIDS\\derivatives\\clean\\sub-D0103\\ieeg\\sub-D0103_acq-01_space-ACPC_electrodes.tsv.\n",
      "Not fully anonymizing info - keeping his_id, sex, and hand info\n"
     ]
    },
    {
     "name": "stderr",
     "output_type": "stream",
     "text": [
      "C:\\Users\\jz421\\Desktop\\GlobalLocal\\IEEG_Pipelines\\ieeg\\io.py:113: RuntimeWarning: Omitted 226 annotation(s) that were outside data range.\n",
      "  new_raw = read_raw_bids(bids_path=BIDS_path, verbose=verbose)\n"
     ]
    },
    {
     "name": "stdout",
     "output_type": "stream",
     "text": [
      "<RawEDF | sub-D0103_task-GlobalLocal_acq-01_run-01_desc-clean_ieeg.edf, 225 x 7454720 (3640.0 s), ~253 kB, data not loaded>\n",
      "outlier round 1 channels: ['LTMI8']\n",
      "outlier round 2 channels: ['LTMI8', 'LAI18']\n",
      "outlier round 2 channels: ['LTMI8', 'LAI18', 'LTPI1']\n",
      "Reading 0 ... 3198489  =      0.000 ...  1561.762 secs...\n",
      "Applying average reference.\n",
      "Applying a custom ('sEEG',) reference.\n",
      "times: [-0.7, 0.5]\n",
      "Used Annotations descriptions: ['Response/c25/n25', 'Response/c25/r25', 'Response/c25/r75', 'Response/c25/s25', 'Response/c25/s75', 'Response/c75/r25', 'Response/c75/r75', 'Response/c75/s25', 'Response/c75/s75', 'Response/i25/n75', 'Response/i25/r25', 'Response/i25/r75', 'Response/i25/s25', 'Response/i25/s75', 'Response/i75/n25', 'Response/i75/n75', 'Response/i75/r25', 'Response/i75/r75', 'Response/i75/s25', 'Response/i75/s75', 'Stimulus/c25/n25', 'Stimulus/c25/r25', 'Stimulus/c25/r75', 'Stimulus/c25/s25', 'Stimulus/c25/s75', 'Stimulus/c75/r25', 'Stimulus/c75/r75', 'Stimulus/c75/s25', 'Stimulus/c75/s75', 'Stimulus/i25/n75', 'Stimulus/i25/r25', 'Stimulus/i25/r75', 'Stimulus/i25/s25', 'Stimulus/i25/s75', 'Stimulus/i75/n25', 'Stimulus/i75/n75', 'Stimulus/i75/r25', 'Stimulus/i75/r75', 'Stimulus/i75/s25', 'Stimulus/i75/s75']\n",
      "Not setting metadata\n",
      "448 matching events found\n",
      "No baseline correction applied\n",
      "0 projection items activated\n",
      "Using data from preloaded Raw for 448 events and 2459 original time points ...\n",
      "0 bad epochs dropped\n",
      "Data is self data: True\n"
     ]
    },
    {
     "name": "stderr",
     "output_type": "stream",
     "text": [
      "[Parallel(n_jobs=1)]: Done   1 tasks      | elapsed:    3.5s\n",
      "[Parallel(n_jobs=1)]: Done   4 tasks      | elapsed:   14.0s\n",
      "[Parallel(n_jobs=1)]: Done   7 tasks      | elapsed:   24.5s\n",
      "[Parallel(n_jobs=1)]: Done  12 tasks      | elapsed:   42.1s\n",
      "[Parallel(n_jobs=1)]: Done  17 tasks      | elapsed:   59.7s\n",
      "[Parallel(n_jobs=1)]: Done  24 tasks      | elapsed:  1.4min\n",
      "[Parallel(n_jobs=1)]: Done  31 tasks      | elapsed:  1.8min\n",
      "[Parallel(n_jobs=1)]: Done  40 tasks      | elapsed:  2.4min\n",
      "[Parallel(n_jobs=1)]: Done  49 tasks      | elapsed:  2.9min\n",
      "[Parallel(n_jobs=1)]: Done  60 tasks      | elapsed:  3.5min\n",
      "[Parallel(n_jobs=1)]: Done  71 tasks      | elapsed:  4.2min\n",
      "[Parallel(n_jobs=1)]: Done  84 tasks      | elapsed:  5.0min\n",
      "[Parallel(n_jobs=1)]: Done  97 tasks      | elapsed:  5.7min\n",
      "[Parallel(n_jobs=1)]: Done 112 tasks      | elapsed:  6.6min\n",
      "[Parallel(n_jobs=1)]: Done 127 tasks      | elapsed:  7.5min\n",
      "[Parallel(n_jobs=1)]: Done 144 tasks      | elapsed:  8.5min\n",
      "[Parallel(n_jobs=1)]: Done 161 tasks      | elapsed:  9.6min\n",
      "[Parallel(n_jobs=1)]: Done 180 tasks      | elapsed: 10.7min\n",
      "[Parallel(n_jobs=1)]: Done 199 tasks      | elapsed: 11.8min\n",
      "[Parallel(n_jobs=1)]: Done 220 tasks      | elapsed: 13.1min\n"
     ]
    },
    {
     "name": "stdout",
     "output_type": "stream",
     "text": [
      "Not setting metadata\n",
      "Used Annotations descriptions: ['Response/c25/n25', 'Response/c25/r25', 'Response/c25/r75', 'Response/c25/s25', 'Response/c25/s75', 'Response/c75/r25', 'Response/c75/r75', 'Response/c75/s25', 'Response/c75/s75', 'Response/i25/n75', 'Response/i25/r25', 'Response/i25/r75', 'Response/i25/s25', 'Response/i25/s75', 'Response/i75/n25', 'Response/i75/n75', 'Response/i75/r25', 'Response/i75/r75', 'Response/i75/s25', 'Response/i75/s75', 'Stimulus/c25/n25', 'Stimulus/c25/r25', 'Stimulus/c25/r75', 'Stimulus/c25/s25', 'Stimulus/c25/s75', 'Stimulus/c75/r25', 'Stimulus/c75/r75', 'Stimulus/c75/s25', 'Stimulus/c75/s75', 'Stimulus/i25/n75', 'Stimulus/i25/r25', 'Stimulus/i25/r75', 'Stimulus/i25/s25', 'Stimulus/i25/s75', 'Stimulus/i75/n25', 'Stimulus/i75/n75', 'Stimulus/i75/r25', 'Stimulus/i75/r75', 'Stimulus/i75/s25', 'Stimulus/i75/s75']\n",
      "Not setting metadata\n",
      "448 matching events found\n",
      "No baseline correction applied\n",
      "0 projection items activated\n",
      "Using data from preloaded Raw for 448 events and 8193 original time points ...\n",
      "0 bad epochs dropped\n",
      "Data is self data: True\n"
     ]
    },
    {
     "name": "stderr",
     "output_type": "stream",
     "text": [
      "[Parallel(n_jobs=1)]: Done   1 tasks      | elapsed:   12.5s\n",
      "[Parallel(n_jobs=1)]: Done   4 tasks      | elapsed:   49.1s\n",
      "[Parallel(n_jobs=1)]: Done   7 tasks      | elapsed:  1.4min\n",
      "[Parallel(n_jobs=1)]: Done  12 tasks      | elapsed:  2.5min\n",
      "[Parallel(n_jobs=1)]: Done  17 tasks      | elapsed:  3.5min\n",
      "[Parallel(n_jobs=1)]: Done  24 tasks      | elapsed:  4.9min\n",
      "[Parallel(n_jobs=1)]: Done  31 tasks      | elapsed:  6.4min\n",
      "[Parallel(n_jobs=1)]: Done  40 tasks      | elapsed:  8.2min\n",
      "[Parallel(n_jobs=1)]: Done  49 tasks      | elapsed: 10.1min\n",
      "[Parallel(n_jobs=1)]: Done  60 tasks      | elapsed: 12.4min\n",
      "[Parallel(n_jobs=1)]: Done  71 tasks      | elapsed: 14.7min\n",
      "[Parallel(n_jobs=1)]: Done  84 tasks      | elapsed: 17.4min\n",
      "[Parallel(n_jobs=1)]: Done  97 tasks      | elapsed: 20.1min\n",
      "[Parallel(n_jobs=1)]: Done 112 tasks      | elapsed: 23.2min\n",
      "[Parallel(n_jobs=1)]: Done 127 tasks      | elapsed: 26.3min\n",
      "[Parallel(n_jobs=1)]: Done 144 tasks      | elapsed: 29.9min\n",
      "[Parallel(n_jobs=1)]: Done 161 tasks      | elapsed: 33.4min\n",
      "[Parallel(n_jobs=1)]: Done 180 tasks      | elapsed: 37.4min\n",
      "[Parallel(n_jobs=1)]: Done 199 tasks      | elapsed: 41.3min\n",
      "[Parallel(n_jobs=1)]: Done 220 tasks      | elapsed: 45.6min\n"
     ]
    },
    {
     "name": "stdout",
     "output_type": "stream",
     "text": [
      "Not setting metadata\n",
      "Applying baseline correction (mode: ratio)\n"
     ]
    },
    {
     "name": "stderr",
     "output_type": "stream",
     "text": [
      "C:\\Users\\jz421\\Desktop\\GlobalLocal\\IEEG_Pipelines\\ieeg\\calc\\scaling.py:69: RuntimeWarning: invalid value encountered in divide\n",
      "  d /= m\n",
      "C:\\Users\\jz421\\AppData\\Local\\Temp\\ipykernel_1544\\1846413019.py:70: RuntimeWarning: Mean of empty slice\n",
      "  lambda x: np.nanmean(x, axis=0), copy=True)\n"
     ]
    }
   ],
   "source": [
    "HOME = os.path.expanduser(\"~\")\n",
    "\n",
    "# get box directory depending on OS\n",
    "if os.name == 'nt': # windows\n",
    "    LAB_root = os.path.join(HOME, \"Box\", \"CoganLab\")\n",
    "else: # mac\n",
    "    LAB_root = os.path.join(HOME, \"Library\", \"CloudStorage\", \"Box-Box\", \"CoganLab\")\n",
    "\n",
    "layout = get_data(\"GlobalLocal\", root=LAB_root)\n",
    "\n",
    "\n",
    "layout = get_data(\"GlobalLocal\", root=LAB_root)\n",
    "subjects = layout.get(return_type=\"id\", target=\"subject\")\n",
    "\n",
    "print(subjects)\n",
    "\n",
    "subjects = ['D0063', 'D0065', 'D0069', 'D0071', 'D0077', 'D0090', 'D0094', 'D0100', 'D0102', 'D0103']\n",
    "for sub in subjects:\n",
    "        # Load the data\n",
    "        filt = raw_from_layout(layout.derivatives['derivatives/clean'], subject=sub,\n",
    "                                extension='.edf', desc='clean', preload=False) #get line-noise filtered data\n",
    "        print(filt)\n",
    "\n",
    "        ## Crop raw data to minimize processing time\n",
    "        good = crop_empty_data(filt)\n",
    "\n",
    "        # good.drop_channels(good.info['bads'])\n",
    "        good.info['bads'] = channel_outlier_marker(good, 3, 2)\n",
    "        good.drop_channels(good.info['bads'])\n",
    "        # good.info['bads'] += channel_outlier_marker(good, 4, 2)\n",
    "        # good.drop_channels(good.info['bads'])\n",
    "        good.load_data()\n",
    "\n",
    "        ch_type = filt.get_channel_types(only_data_chs=True)[0]\n",
    "        good.set_eeg_reference(ref_channels=\"average\", ch_type=ch_type)\n",
    "\n",
    "        # Remove intermediates from mem\n",
    "        good.plot()\n",
    "\n",
    "        ## epoching and trial outlier removal\n",
    "\n",
    "        save_dir = os.path.join(layout.root, 'derivatives', 'spec', 'wavelet', sub)\n",
    "        if not os.path.exists(save_dir):\n",
    "                os.makedirs(save_dir)\n",
    "\n",
    "        RTs, skipped = calculate_RTs(good)\n",
    "        avg_RT = np.median(RTs)\n",
    "        \n",
    "        # make stimulus baseline EpochsTFR\n",
    "        times = [-0.7, 0.5] #padd 0.5 secs each side, want 0.2 seconds before stim onset\n",
    "        print(\"times: \" + str(times))\n",
    "        trials = trial_ieeg(good, \"Stimulus\", times, preload=True)\n",
    "\n",
    "        # print(\"base trials shape is: \" + str(trials._data.shape))\n",
    "        outliers_to_nan(trials, outliers=10)\n",
    "        base = wavelet_scaleogram(trials, n_jobs=1, decim=int(good.info['sfreq'] / 100))\n",
    "        crop_pad(base, \"0.5s\")\n",
    "\n",
    "\n",
    "        #now do rescale with the concatenated baseline epochs\n",
    "        for event, t in [(\"Stimulus\",(-1, 2))]:\n",
    "                times = [None, None]\n",
    "                times[0] = t[0] - 0.5\n",
    "                times[1] = t[1] + 0.5\n",
    "                trials = trial_ieeg(good, event, times, preload=True)\n",
    "                outliers_to_nan(trials, outliers=10)\n",
    "                spec = wavelet_scaleogram(trials, n_jobs=1, decim=int(good.info['sfreq'] / 100))\n",
    "                crop_pad(spec, \"0.5s\")\n",
    "                spec_a = rescale(spec, base, copy=True, mode='ratio').average(\n",
    "                        lambda x: np.nanmean(x, axis=0), copy=True)\n",
    "                spec_a._data = np.log10(spec_a._data) * 20\n",
    "                fnames = [os.path.relpath(f, layout.root) for f in good.filenames]\n",
    "                spec_a.info['subject_info']['files'] = tuple(fnames)\n",
    "                spec_a.info['bads'] = good.info['bads']\n",
    "                filename = os.path.join(save_dir, f'{event}_fixationCrossBase_0.2sec-tfr.h5')\n",
    "                mne.time_frequency.write_tfrs(filename, spec_a, overwrite=True)\n",
    "                spec_a.save(os.path.join(save_dir, f'{event}_fixationCrossBase_0.2sec-avg.fif'), overwrite=True)\n",
    "\n"
   ]
  },
  {
   "attachments": {},
   "cell_type": "markdown",
   "metadata": {},
   "source": [
    "### 7/5 try to get wavelets for all stimulus/response  \n",
    "*note this is kinda old code, don't use it except for stimulus and response specifically"
   ]
  },
  {
   "cell_type": "code",
   "execution_count": null,
   "metadata": {},
   "outputs": [],
   "source": [
    "HOME = os.path.expanduser(\"~\")\n",
    "\n",
    "# get box directory depending on OS\n",
    "if os.name == 'nt': # windows\n",
    "    LAB_root = os.path.join(HOME, \"Box\", \"CoganLab\")\n",
    "else: # mac\n",
    "    LAB_root = os.path.join(HOME, \"Library\", \"CloudStorage\", \"Box-Box\", \"CoganLab\")\n",
    "\n",
    "layout = get_data(\"GlobalLocal\", root=LAB_root)\n",
    "\n",
    "\n",
    "layout = get_data(\"GlobalLocal\", root=LAB_root)\n",
    "subjects = layout.get(return_type=\"id\", target=\"subject\")\n",
    "\n",
    "print(subjects)\n",
    "# subjects = ['D0077', 'D0090']\n",
    "for sub in subjects:\n",
    "        # Load the data\n",
    "        filt = raw_from_layout(layout.derivatives['derivatives/clean'], subject=sub,\n",
    "                                extension='.edf', desc='clean', preload=False) #get line-noise filtered data\n",
    "        print(filt)\n",
    "\n",
    "        ## Crop raw data to minimize processing time\n",
    "        good = crop_empty_data(filt)\n",
    "\n",
    "        # good.drop_channels(good.info['bads'])\n",
    "        good.info['bads'] = channel_outlier_marker(good, 3, 2)\n",
    "        good.drop_channels(good.info['bads'])\n",
    "        # good.info['bads'] += channel_outlier_marker(good, 4, 2)\n",
    "        # good.drop_channels(good.info['bads'])\n",
    "        good.load_data()\n",
    "\n",
    "        ch_type = filt.get_channel_types(only_data_chs=True)[0]\n",
    "        good.set_eeg_reference(ref_channels=\"average\", ch_type=ch_type)\n",
    "\n",
    "        # Remove intermediates from mem\n",
    "        good.plot()\n",
    "\n",
    "        ## epoching and trial outlier removal\n",
    "\n",
    "        save_dir = os.path.join(layout.root, 'derivatives', 'spec', 'wavelet', sub)\n",
    "        if not os.path.exists(save_dir):\n",
    "                os.makedirs(save_dir)\n",
    "\n",
    "        RTs, skipped = calculate_RTs(good)\n",
    "        avg_RT = np.median(RTs)\n",
    "        \n",
    "        # make stimulus baseline EpochsTFR\n",
    "        times = [-1.5, 0.5] #padd 0.5 secs each side, want 1 seconds before stim onset\n",
    "        print(\"times: \" + str(times))\n",
    "        trials = trial_ieeg(good, \"Stimulus\", times, preload=True)\n",
    "\n",
    "        # print(\"base trials shape is: \" + str(trials._data.shape))\n",
    "        outliers_to_nan(trials, outliers=10)\n",
    "        base = wavelet_scaleogram(trials, n_jobs=1, decim=int(good.info['sfreq'] / 100))\n",
    "        crop_pad(base, \"0.5s\")\n",
    "\n",
    "\n",
    "        #now do rescale with the concatenated baseline epochs\n",
    "        for event, t in zip((\"Stimulus\", \"Response\"),((-1, 2), (-1, 2))):\n",
    "                times = [None, None]\n",
    "                times[0] = t[0] - 0.5\n",
    "                times[1] = t[1] + 0.5\n",
    "                trials = trial_ieeg(good, event, times, preload=True)\n",
    "                outliers_to_nan(trials, outliers=10)\n",
    "                spec = wavelet_scaleogram(trials, n_jobs=1, decim=int(good.info['sfreq'] / 100))\n",
    "                crop_pad(spec, \"0.5s\")\n",
    "                spec_a = rescale(spec, base, copy=True, mode='ratio').average(\n",
    "                        lambda x: np.nanmean(x, axis=0), copy=True)\n",
    "                spec_a._data = np.log10(spec_a._data) * 20\n",
    "                fnames = [os.path.relpath(f, layout.root) for f in good.filenames]\n",
    "                spec_a.info['subject_info']['files'] = tuple(fnames)\n",
    "                spec_a.info['bads'] = good.info['bads']\n",
    "                filename = os.path.join(save_dir, f'{event}_fullTrialBase-tfr.h5')\n",
    "                mne.time_frequency.write_tfrs(filename, spec_a, overwrite=True)\n",
    "                spec_a.save(os.path.join(save_dir, f'{event}_fullTrialBase-avg.fif'), overwrite=True)\n",
    "\n"
   ]
  },
  {
   "cell_type": "markdown",
   "metadata": {},
   "source": [
    "### testing with one subject"
   ]
  },
  {
   "cell_type": "code",
   "execution_count": null,
   "metadata": {},
   "outputs": [],
   "source": [
    "HOME = os.path.expanduser(\"~\")\n",
    "\n",
    "# get box directory depending on OS\n",
    "if os.name == 'nt': # windows\n",
    "    LAB_root = os.path.join(HOME, \"Box\", \"CoganLab\")\n",
    "else: # mac\n",
    "    LAB_root = os.path.join(HOME, \"Library\", \"CloudStorage\", \"Box-Box\", \"CoganLab\")\n",
    "\n",
    "layout = get_data(\"GlobalLocal\", root=LAB_root)\n",
    "\n",
    "\n",
    "layout = get_data(\"GlobalLocal\", root=LAB_root)\n",
    "subjects = layout.get(return_type=\"id\", target=\"subject\")\n",
    "\n",
    "# subjects = [\"D0059\", \"D0063\", \"D0065\", \"D0069\", \"D0071\"]\n",
    "\n",
    "# for sub in subjects:\n",
    "\n",
    "sub='D0057' #why does this not work in the for loop???\n",
    "# Load the data\n",
    "filt = raw_from_layout(layout.derivatives['derivatives/clean'], subject=sub,\n",
    "                        extension='.edf', desc='clean', preload=False) #get line-noise filtered data\n",
    "print(filt)\n",
    "\n",
    "## Crop raw data to minimize processing time\n",
    "good = crop_empty_data(filt)\n",
    "\n",
    "# good.drop_channels(good.info['bads'])\n",
    "good.info['bads'] = channel_outlier_marker(good, 3, 2)\n",
    "good.drop_channels(good.info['bads'])\n",
    "# good.info['bads'] += channel_outlier_marker(good, 4, 2)\n",
    "# good.drop_channels(good.info['bads'])\n",
    "good.load_data()\n",
    "\n",
    "ch_type = filt.get_channel_types(only_data_chs=True)[0]\n",
    "good.set_eeg_reference(ref_channels=\"average\", ch_type=ch_type)\n",
    "\n",
    "# Remove intermediates from mem\n",
    "good.plot()\n",
    "\n",
    "## epoching and trial outlier removal\n",
    "\n",
    "save_dir = os.path.join(layout.root, 'derivatives', 'spec', 'wavelet', sub)\n",
    "if not os.path.exists(save_dir):\n",
    "        os.makedirs(save_dir)\n",
    "\n",
    "RTs, skipped = calculate_RTs(good)\n",
    "avg_RT = np.median(RTs)\n",
    "print(avg_RT)\n",
    "# make stimulus baseline EpochsTFR\n",
    "# times=[-1.5, 3.5] #this is for 0.5 sec of padding on each side. Just do 3 seconds as estimate of the full trial. Don't use avg RT because its different across subjects and makes later analysis hard.\n",
    "times = [-1.5, 0.5] #padd 0.5 secs each side, want 1 seconds before stim onset\n",
    "print(\"times: \" + str(times))\n",
    "trials = trial_ieeg(good, \"Stimulus\", times, preload=True)\n",
    "\n",
    "# print(\"base trials shape is: \" + str(trials._data.shape))\n",
    "outliers_to_nan(trials, outliers=10)\n",
    "base = wavelet_scaleogram(trials, n_jobs=1, decim=int(good.info['sfreq'] / 100))\n",
    "crop_pad(base, \"0.5s\")\n",
    "\n",
    "\n",
    "print(\"done with base\")\n",
    "\n",
    "#now do rescale with the concatenated baseline epochs\n",
    "for (event, t), filename_event in zip(zip((\"Stimulus/i25\", \"Stimulus/c25\"),((-1, 2), (-1, 2))), (\"Stimulus_i25\", \"Stimulus_c25\")):\n",
    "    times = [None, None]\n",
    "    times[0] = t[0] - 0.5\n",
    "    times[1] = t[1] + 0.5\n",
    "    trials = trial_ieeg(good, event, times, preload=True)\n",
    "    print(f\"trials for {event} is: \" + str(trials._data.shape))\n",
    "    outliers_to_nan(trials, outliers=10)\n",
    "    spec = wavelet_scaleogram(trials, n_jobs=1, decim=int(good.info['sfreq'] / 100))\n",
    "    crop_pad(spec, \"0.5s\")\n",
    "    spec_a = rescale(spec, base, copy=True, mode='ratio').average(\n",
    "            lambda x: np.nanmean(x, axis=0), copy=True)\n",
    "    spec_a._data = np.log10(spec_a._data) * 20\n",
    "    fnames = [os.path.relpath(f, layout.root) for f in good.filenames]\n",
    "    spec_a.info['subject_info']['files'] = tuple(fnames)\n",
    "    spec_a.info['bads'] = good.info['bads']\n",
    "    filename = os.path.join(save_dir, f'{sub}_{filename_event}_1secBeforeStimOnset-tfr.h5')\n",
    "    mne.time_frequency.write_tfrs(filename, spec_a, overwrite=True)\n",
    "    spec_a.save(os.path.join(save_dir, f'{sub}_{filename_event}_1secBeforeStimOnset-avg.fif'), overwrite=True)\n"
   ]
  },
  {
   "cell_type": "code",
   "execution_count": null,
   "metadata": {},
   "outputs": [],
   "source": [
    "filename = os.path.join(save_dir, f'{sub}_Stimulusi25_1secBeforeStimOnset-tfr.h5')\n",
    "mne.time_frequency.write_tfrs(filename, spec_a, overwrite=True)\n",
    "spec_a.save(os.path.join(save_dir, f'{sub}_Stimulusi25_1secBeforeStimOnset-avg.fif'), overwrite=True)"
   ]
  },
  {
   "cell_type": "code",
   "execution_count": null,
   "metadata": {},
   "outputs": [],
   "source": [
    "HOME = os.path.expanduser(\"~\")\n",
    "\n",
    "# get box directory depending on OS\n",
    "if os.name == 'nt': # windows\n",
    "    LAB_root = os.path.join(HOME, \"Box\", \"CoganLab\")\n",
    "else: # mac\n",
    "    LAB_root = os.path.join(HOME, \"Library\", \"CloudStorage\", \"Box-Box\", \"CoganLab\")\n",
    "\n",
    "layout = get_data(\"GlobalLocal\", root=LAB_root)\n",
    "\n",
    "\n",
    "layout = get_data(\"GlobalLocal\", root=LAB_root)\n",
    "subjects = layout.get(return_type=\"id\", target=\"subject\")\n",
    "\n",
    "subjects = [\"D0057\", \"D0059\", \"D0063\", \"D0065\", \"D0069\", \"D0071\"]\n",
    "\n",
    "for sub in subjects:\n",
    "\n",
    "    # Load the data\n",
    "    filt = raw_from_layout(layout.derivatives['derivatives/clean'], subject=sub,\n",
    "                            extension='.edf', desc='clean', preload=False) #get line-noise filtered data\n",
    "    print(filt)\n",
    "\n",
    "    ## Crop raw data to minimize processing time\n",
    "    good = crop_empty_data(filt)\n",
    "\n",
    "    # good.drop_channels(good.info['bads'])\n",
    "    good.info['bads'] = channel_outlier_marker(good, 3, 2)\n",
    "    good.drop_channels(good.info['bads'])\n",
    "    # good.info['bads'] += channel_outlier_marker(good, 4, 2)\n",
    "    # good.drop_channels(good.info['bads'])\n",
    "    good.load_data()\n",
    "\n",
    "    ch_type = filt.get_channel_types(only_data_chs=True)[0]\n",
    "    good.set_eeg_reference(ref_channels=\"average\", ch_type=ch_type)\n",
    "\n",
    "    # Remove intermediates from mem\n",
    "    good.plot()\n",
    "\n",
    "    ## epoching and trial outlier removal\n",
    "\n",
    "    save_dir = os.path.join(layout.root, 'derivatives', 'spec', 'wavelet', sub)\n",
    "    if not os.path.exists(save_dir):\n",
    "            os.makedirs(save_dir)\n",
    "\n",
    "    RTs, skipped = calculate_RTs(good)\n",
    "    avg_RT = np.median(RTs)\n",
    "    print(avg_RT)\n",
    "    # make stimulus baseline EpochsTFR\n",
    "    # times=[-1.5, 3.5] #this is for 0.5 sec of padding on each side. Just do 3 seconds as estimate of the full trial. Don't use avg RT because its different across subjects and makes later analysis hard.\n",
    "    times = [-1.5, 0.5] #padd 0.5 secs each side, want 1 seconds before stim onset\n",
    "    print(\"times: \" + str(times))\n",
    "    trials = trial_ieeg(good, \"Stimulus\", times, preload=True)\n",
    "\n",
    "    # print(\"base trials shape is: \" + str(trials._data.shape))\n",
    "    outliers_to_nan(trials, outliers=10)\n",
    "    base = wavelet_scaleogram(trials, n_jobs=1, decim=int(good.info['sfreq'] / 100))\n",
    "    crop_pad(base, \"0.5s\")\n",
    "\n",
    "\n",
    "    print(\"done with base\")\n",
    "\n",
    "    #now do rescale with the concatenated baseline epochs\n",
    "    for event, t in zip((\"Stimulus/i25\", \"Stimulus/c25\"),((-1, 2), (-1, 2))):\n",
    "        times = [None, None]\n",
    "        times[0] = t[0] - 0.5\n",
    "        times[1] = t[1] + 0.5\n",
    "        trials = trial_ieeg(good, event, times, preload=True)\n",
    "        print(f\"trials for {event} is: \" + str(trials._data.shape))\n",
    "        outliers_to_nan(trials, outliers=10)\n",
    "        spec = wavelet_scaleogram(trials, n_jobs=1, decim=int(good.info['sfreq'] / 100))\n",
    "        crop_pad(spec, \"0.5s\")\n",
    "        spec_a = rescale(spec, base, copy=True, mode='ratio').average(\n",
    "                lambda x: np.nanmean(x, axis=0), copy=True)\n",
    "        spec_a._data = np.log10(spec_a._data) * 20\n",
    "        fnames = [os.path.relpath(f, layout.root) for f in good.filenames]\n",
    "        spec_a.info['subject_info']['files'] = tuple(fnames)\n",
    "        spec_a.info['bads'] = good.info['bads']\n",
    "        filename = os.path.join(save_dir, f'{sub}_{event}_1secBeforeStimOnset-tfr.h5')\n",
    "        mne.time_frequency.write_tfrs(filename, spec_a, overwrite=True)\n",
    "        spec_a.save(os.path.join(save_dir, f'{sub}_{event}_1secBeforeStimOnset-avg.fif'), overwrite=True)"
   ]
  },
  {
   "cell_type": "markdown",
   "metadata": {},
   "source": [
    "### test it as a function"
   ]
  },
  {
   "cell_type": "code",
   "execution_count": null,
   "metadata": {},
   "outputs": [],
   "source": [
    "import mne.time_frequency\n",
    "import mne\n",
    "from ieeg.io import get_data, raw_from_layout\n",
    "from ieeg.navigate import trial_ieeg, channel_outlier_marker, crop_empty_data, outliers_to_nan\n",
    "from ieeg.calc.scaling import rescale\n",
    "import os\n",
    "from ieeg.timefreq.utils import wavelet_scaleogram, crop_pad\n",
    "import numpy as np\n",
    "from misc_functions import calculate_RTs\n",
    "\n",
    "HOME = os.path.expanduser(\"~\")\n",
    "\n",
    "# get box directory depending on OS\n",
    "if os.name == 'nt': # windows\n",
    "    LAB_root = os.path.join(HOME, \"Box\", \"CoganLab\")\n",
    "else: # mac\n",
    "    LAB_root = os.path.join(HOME, \"Library\", \"CloudStorage\", \"Box-Box\", \"CoganLab\")\n",
    "\n",
    "layout = get_data(\"GlobalLocal\", root=LAB_root)\n",
    "layout = get_data(\"GlobalLocal\", root=LAB_root)\n",
    "\n",
    "def get_wavelet_baseline(inst: mne.io.BaseRaw, base_times: tuple[float, float]):\n",
    "    inst = inst.copy()\n",
    "    inst.load_data()\n",
    "    ch_type = inst.get_channel_types(only_data_chs=True)[0]\n",
    "    inst.set_eeg_reference(ref_channels=\"average\", ch_type=ch_type)\n",
    "\n",
    "    adjusted_base_times = [base_times[0] - 0.5, base_times[1] + 0.5]\n",
    "    trials = trial_ieeg(inst, \"experimentStart\", adjusted_base_times, preload=True)\n",
    "    outliers_to_nan(trials, outliers=10)\n",
    "    base = wavelet_scaleogram(trials, n_jobs=-2, decim=int(inst.info['sfreq'] / 100))\n",
    "    crop_pad(base, \"0.5s\")\n",
    "    del inst\n",
    "    return base\n",
    "\n",
    "def make_wavelets(sub, task, output_name, event=None, times=(-1, 2), base_times=(1,101), LAB_root=None):\n",
    "    \"\"\"\n",
    "    Generate wavelets for a given subject and task using specified events.\n",
    "    \n",
    "    Parameters:\n",
    "    - sub (str): The subject identifier.\n",
    "    - task (str): The task identifier.\n",
    "    - event (str, optional): The event to process. Defaults to None.\n",
    "    - times (tuple, optional): A tuple indicating the start and end times for processing. Defaults to (-1, 2).\n",
    "    - base_times (tuple, optional): A tuple indicating the start and end base times for processing. Defaults to (-0.5, 0).\n",
    "    - LAB_root (str, optional): The root directory for the lab. Will be determined based on OS if not provided. Defaults to None.\n",
    "    - output_name (str): The name for the output files.\n",
    "    \n",
    "    Returns:\n",
    "    - spec_a: Processed data after generating wavelets.\n",
    "    \n",
    "    This function will process the provided events for a given subject and task. \n",
    "    Wavelets will be generated for the events and the results will be saved to output files.\n",
    "    \"\"\"\n",
    "\n",
    "sub='D0057'\n",
    "task=\"GlobalLocal\"\n",
    "output_name=\"experimentStartBase_Stimulus\"\n",
    "event=\"Stimulus\"\n",
    "times=(-1, 2)\n",
    "base_times=(1,101)\n",
    "# Check if LAB_root is provided. If not, determine based on OS.\n",
    "if LAB_root is None:\n",
    "    HOME = os.path.expanduser(\"~\")\n",
    "    if os.name == 'nt': # windows\n",
    "        LAB_root = os.path.join(HOME, \"Box\", \"CoganLab\")\n",
    "    else: # mac\n",
    "        LAB_root = os.path.join(HOME, \"Library\", \"CloudStorage\", \"Box-Box\", \"CoganLab\")\n",
    "\n",
    "layout = get_data(task, root=LAB_root)\n",
    "\n",
    "# Load the data\n",
    "filt = raw_from_layout(layout.derivatives['derivatives/clean'], subject=sub, extension='.edf', desc='clean', preload=False)\n",
    "\n",
    "# Crop raw data to minimize processing time\n",
    "good = crop_empty_data(filt)\n",
    "good.info['bads'] = channel_outlier_marker(good, 3, 2)\n",
    "good.drop_channels(good.info['bads'])\n",
    "good.load_data()\n",
    "\n",
    "ch_type = filt.get_channel_types(only_data_chs=True)[0]\n",
    "good.set_eeg_reference(ref_channels=\"average\", ch_type=ch_type)\n",
    "\n",
    "good.plot()\n",
    "\n",
    "# Epoching and trial outlier removal\n",
    "save_dir = os.path.join(layout.root, 'derivatives', 'spec', 'wavelet', sub)\n",
    "if not os.path.exists(save_dir):\n",
    "    os.makedirs(save_dir)\n",
    "\n",
    "RTs, skipped = calculate_RTs(good)\n",
    "avg_RT = np.median(RTs)\n",
    "\n",
    "# Adjust base_times for padding\n",
    "adjusted_base_times = [base_times[0] - 0.5, base_times[1] + 0.5]\n",
    "\n",
    "base = get_wavelet_baseline(filt, base_times)\n",
    "# # Make stimulus baseline EpochsTFR\n",
    "# trials = trial_ieeg(good, \"Stimulus\", adjusted_base_times, preload=True)\n",
    "# outliers_to_nan(trials, outliers=10)\n",
    "# base = wavelet_scaleogram(trials, n_jobs=-2, decim=int(good.info['sfreq'] / 100))\n",
    "# crop_pad(base, \"0.5s\")\n",
    "\n",
    "all_trials = []\n",
    "\n",
    "# Adjust times for padding\n",
    "times = [times[0] - 0.5, times[1] + 0.5]\n",
    "trials = trial_ieeg(good, event, times, preload=True)\n",
    "all_trials.append(trials)\n",
    "    \n",
    "print(\"all_trials: \", all_trials)\n",
    "\n",
    "# concatenate all trials\n",
    "combined_trials = mne.concatenate_epochs(all_trials)\n",
    "print(\"combined_trials: \", combined_trials)\n",
    "\n",
    "outliers_to_nan(combined_trials, outliers=10)\n",
    "spec = wavelet_scaleogram(combined_trials, n_jobs=-2, decim=int(good.info['sfreq'] / 100))\n",
    "crop_pad(spec, \"0.5s\")\n",
    "spec_a = rescale(spec, base, copy=True, mode='ratio').average(lambda x: np.nanmean(x, axis=0), copy=True)\n",
    "spec_a._data = np.log10(spec_a._data) * 20\n",
    "fnames = [os.path.relpath(f, layout.root) for f in good.filenames]\n",
    "spec_a.info['subject_info']['files'] = tuple(fnames)\n",
    "spec_a.info['bads'] = good.info['bads']\n",
    "filename = os.path.join(save_dir, f'{output_name}-tfr.h5')\n",
    "mne.time_frequency.write_tfrs(filename, spec_a, overwrite=True)\n",
    "spec_a.save(os.path.join(save_dir, f'{output_name}-avg.fif'), overwrite=True)\n",
    "    \n",
    "    # return spec_a  # Optional: Return the processed data for further use.\n"
   ]
  },
  {
   "cell_type": "code",
   "execution_count": null,
   "metadata": {},
   "outputs": [],
   "source": [
    "spec_a = make_wavelets(sub='D0057', task=\"GlobalLocal\", output_name=\"experimentStartBase_Stimulus\", event=\"Stimulus\", times=(-1, 2))"
   ]
  },
  {
   "cell_type": "code",
   "execution_count": null,
   "metadata": {},
   "outputs": [],
   "source": [
    "spec_a = make_wavelets(sub='D0063', task=\"GlobalLocal\", output_name=\"repeat\", events_list=[\"/r\"], times=(-1, 2))"
   ]
  }
 ],
 "metadata": {
  "kernelspec": {
   "display_name": "ieeg",
   "language": "python",
   "name": "python3"
  },
  "language_info": {
   "codemirror_mode": {
    "name": "ipython",
    "version": 3
   },
   "file_extension": ".py",
   "mimetype": "text/x-python",
   "name": "python",
   "nbconvert_exporter": "python",
   "pygments_lexer": "ipython3",
   "version": "0.0.0"
  },
  "orig_nbformat": 4
 },
 "nbformat": 4,
 "nbformat_minor": 2
}
