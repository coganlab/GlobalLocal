{
  "cells": [
    {
      "cell_type": "code",
      "execution_count": 3,
      "metadata": {
        "collapsed": false
      },
      "outputs": [
        {
          "name": "stdout",
          "output_type": "stream",
          "text": [
            "['C:\\\\Users\\\\jz421\\\\Desktop\\\\GlobalLocal\\\\IEEG_Pipelines', 'c:\\\\Users\\\\jz421\\\\AppData\\\\Local\\\\anaconda3\\\\envs\\\\ieeg\\\\python311.zip', 'c:\\\\Users\\\\jz421\\\\AppData\\\\Local\\\\anaconda3\\\\envs\\\\ieeg\\\\DLLs', 'c:\\\\Users\\\\jz421\\\\AppData\\\\Local\\\\anaconda3\\\\envs\\\\ieeg\\\\Lib', 'c:\\\\Users\\\\jz421\\\\AppData\\\\Local\\\\anaconda3\\\\envs\\\\ieeg', '', 'C:\\\\Users\\\\jz421\\\\AppData\\\\Roaming\\\\Python\\\\Python311\\\\site-packages', 'C:\\\\Users\\\\jz421\\\\AppData\\\\Roaming\\\\Python\\\\Python311\\\\site-packages\\\\win32', 'C:\\\\Users\\\\jz421\\\\AppData\\\\Roaming\\\\Python\\\\Python311\\\\site-packages\\\\win32\\\\lib', 'C:\\\\Users\\\\jz421\\\\AppData\\\\Roaming\\\\Python\\\\Python311\\\\site-packages\\\\Pythonwin', 'c:\\\\Users\\\\jz421\\\\AppData\\\\Local\\\\anaconda3\\\\envs\\\\ieeg\\\\Lib\\\\site-packages', 'c:\\\\Users\\\\jz421\\\\AppData\\\\Local\\\\anaconda3\\\\envs\\\\ieeg\\\\Lib\\\\site-packages\\\\win32', 'c:\\\\Users\\\\jz421\\\\AppData\\\\Local\\\\anaconda3\\\\envs\\\\ieeg\\\\Lib\\\\site-packages\\\\win32\\\\lib', 'c:\\\\Users\\\\jz421\\\\AppData\\\\Local\\\\anaconda3\\\\envs\\\\ieeg\\\\Lib\\\\site-packages\\\\Pythonwin']\n"
          ]
        }
      ],
      "source": [
        "import sys\n",
        "import os\n",
        "\n",
        "print(sys.path)\n",
        "sys.path.append(\"C:/Users/jz421/Desktop/GlobalLocal/IEEG_Pipelines/\") #need to do this cuz otherwise ieeg isn't added to path...\n",
        "\n",
        "# Get the absolute path to the directory containing the current script\n",
        "# For GlobalLocal/src/analysis/preproc/make_epoched_data.py, this is GlobalLocal/src/analysis/preproc\n",
        "try:\n",
        "    # This will work if running as a .py script\n",
        "    current_file_path = os.path.abspath(__file__)\n",
        "    current_script_dir = os.path.dirname(current_file_path)\n",
        "except NameError:\n",
        "    # This will be executed if __file__ is not defined (e.g., in a Jupyter Notebook)\n",
        "    # os.getcwd() often gives the directory of the notebook,\n",
        "    # or the directory from which the Jupyter server was started.\n",
        "    current_script_dir = os.getcwd()\n",
        "\n",
        "# Navigate up three levels to get to the 'GlobalLocal' directory\n",
        "project_root = os.path.abspath(os.path.join(current_script_dir, '..', '..', '..'))\n",
        "\n",
        "# Add the 'GlobalLocal' directory to sys.path if it's not already there\n",
        "if project_root not in sys.path:\n",
        "    sys.path.insert(0, project_root) # insert at the beginning to prioritize it\n",
        "\n",
        "import mne\n",
        "import os\n",
        "from ieeg.viz.mri import plot_subj, subject_to_info, plot_on_average #this used to import plot subj sig and nonsig, and plot electrodes from mri directly, but in order to save aaron's changes, i put them into jim_mri\n",
        "from src.analysis.vis.jim_mri import plot_subj_sig_and_nonsig, _plot_electrodes, get_sub_dir\n",
        "from ieeg.io import raw_from_layout, get_data\n",
        "# from utils import load_sig_chans, get_sig_chans_per_subject, make_sig_electrodes_per_subject_and_roi_dict, channel_names_to_indices\n",
        "from src.analysis.utils.general_utils import *\n",
        "\n",
        "import json\n",
        "import pyvista as pv\n",
        "pv.global_theme.allow_empty_mesh = True"
      ]
    },
    {
      "cell_type": "markdown",
      "metadata": {},
      "source": [
        "### plot single subject's chosen electrodes"
      ]
    },
    {
      "cell_type": "code",
      "execution_count": null,
      "metadata": {},
      "outputs": [],
      "source": [
        "test = subject_to_info('D65')"
      ]
    },
    {
      "cell_type": "code",
      "execution_count": null,
      "metadata": {},
      "outputs": [],
      "source": [
        "subj = \"D0057\"\n",
        "base_path = r'C:\\Users\\jz421\\Box\\CoganLab\\BIDS-1.1_GlobalLocal\\BIDS\\derivatives\\freqFilt\\figs'\n",
        "plot_these_elecs = ['RAI2', 'RAI3', 'RAI4']\n",
        "plot_these_elecs_save_name = '_'.join(plot_these_elecs)\n",
        "\n",
        "subj_without_zeroes = \"D\" + subj[1:].lstrip('0')\n",
        "brain_fig = plot_subj(subj_without_zeroes, picks=plot_these_elecs, labels_every=1, hemi='both', title=f'{subj}_Stimulus', background='black', color=(1, 1, 0)) \n",
        "\n",
        "# Specify the path and filename for the PNG file\n",
        "png_filepath = os.path.join(base_path, f\"{subj_without_zeroes}_{plot_these_elecs_save_name}.png\")\n",
        "\n",
        "# Save the figure\n",
        "brain_fig.save_image(png_filepath, 'png')"
      ]
    }
  ],
  "metadata": {
    "kernelspec": {
      "display_name": "ieeg",
      "language": "python",
      "name": "python3"
    },
    "language_info": {
      "codemirror_mode": {
        "name": "ipython",
        "version": 3
      },
      "file_extension": ".py",
      "mimetype": "text/x-python",
      "name": "python",
      "nbconvert_exporter": "python",
      "pygments_lexer": "ipython3",
      "version": "3.11.7"
    }
  },
  "nbformat": 4,
  "nbformat_minor": 0
}
