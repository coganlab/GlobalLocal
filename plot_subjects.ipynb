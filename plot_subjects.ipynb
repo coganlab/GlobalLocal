{
  "cells": [
    {
      "cell_type": "code",
      "execution_count": null,
      "metadata": {
        "collapsed": false
      },
      "outputs": [],
      "source": [
        "import mne\n",
        "import os\n",
        "from ieeg.viz.mri import plot_subj, plot_subj_sig_and_nonsig, _plot_electrodes, subject_to_info, plot_on_average\n",
        "from ieeg.io import raw_from_layout, get_data\n",
        "from misc_functions import load_sig_chans, channel_names_to_indices"
      ]
    },
    {
      "cell_type": "markdown",
      "metadata": {},
      "source": [
        "### plot single subject's significant electrodes"
      ]
    },
    {
      "cell_type": "code",
      "execution_count": null,
      "metadata": {},
      "outputs": [],
      "source": [
        "subj = \"D0063\"\n",
        "base_path = r'C:\\Users\\jz421\\Box\\CoganLab\\BIDS-1.1_GlobalLocal\\BIDS\\derivatives\\freqFilt\\figs'\n",
        "stim_filename = f'{base_path}\\\\{subj}\\\\sig_chans_{subj}_Stimulus_fixationCrossBase_1sec_mirror.json'\n",
        "stim_sig_chans = load_sig_chans(stim_filename)\n",
        "# resp_filename = f'{base_path}\\\\{subj}\\\\sig_chans_{subj}_Response_fixationCrossBase_1sec_mirror.json'\n",
        "# resp_sig_chans = load_sig_chans(stim_filename)\n",
        "\n",
        "\n",
        "subj_without_zeroes = \"D\" + subj[1:].lstrip('0')\n",
        "plot_subj(subj_without_zeroes, picks=stim_sig_chans, labels_every=1, hemi='both', title=f'{subj}_Stimulus', background='black', color=(1, 1, 0)) \n",
        "# plot_subj(subj_without_zeroes, picks=resp_sig_chans, labels_every=8, hemi='both', title=f'{subj}_Response', color=(1, 1, 0))\n",
        "\n"
      ]
    },
    {
      "cell_type": "code",
      "execution_count": null,
      "metadata": {},
      "outputs": [],
      "source": [
        "subj = \"D0063\"\n",
        "base_path = r'C:\\Users\\jz421\\Box\\CoganLab\\BIDS-1.1_GlobalLocal\\BIDS\\derivatives\\freqFilt\\figs'\n",
        "resp_filename = f'{base_path}\\\\{subj}\\\\sig_chans_{subj}_Response.json'\n",
        "stim_filename = f'{base_path}\\\\{subj}\\\\sig_chans_{subj}_Stimulus.json'\n",
        "congruent_filename = f'{base_path}\\\\{subj}\\\\sig_chans_{subj}_congruent.json'\n",
        "incongruent_filename = f'{base_path}\\\\{subj}\\\\sig_chans_{subj}_incongruent.json'\n",
        "repeat_filename = f'{base_path}\\\\{subj}\\\\sig_chans_{subj}_repeat.json'\n",
        "switch_filename = f'{base_path}\\\\{subj}\\\\sig_chans_{subj}_switch.json'\n",
        "\n",
        "resp_sig_chans = load_sig_chans(resp_filename)\n",
        "stim_sig_chans = load_sig_chans(stim_filename)\n",
        "congruent_sig_chans = load_sig_chans(congruent_filename)\n",
        "incongruent_sig_chans = load_sig_chans(incongruent_filename)\n",
        "repeat_sig_chans = load_sig_chans(repeat_filename)\n",
        "switch_sig_chans = load_sig_chans(switch_filename)\n",
        "\n",
        "\n",
        "subj_without_zeroes = \"D\" + subj[1:].lstrip('0')\n",
        "plot_subj(subj_without_zeroes, picks=stim_sig_chans, labels_every=8, hemi='both', title=f'{subj}_Stimulus', background='black', color=(1, 1, 0)) \n",
        "plot_subj(subj_without_zeroes, picks=resp_sig_chans, labels_every=8, hemi='both', title=f'{subj}_Response', background='black', color=(1, 1, 0))\n",
        "plot_subj(subj_without_zeroes, picks=congruent_sig_chans, labels_every=8, hemi='both', title=f'{subj}_Congruent', background='black', color=(1, 1, 0)) \n",
        "plot_subj(subj_without_zeroes, picks=incongruent_sig_chans, labels_every=8, hemi='both', title=f'{subj}_Incongruent', background='black', color=(1, 1, 0))\n",
        "plot_subj(subj_without_zeroes, picks=repeat_sig_chans, labels_every=8, hemi='both', title=f'{subj}_Repeat', background='black', color=(1, 1, 0)) \n",
        "plot_subj(subj_without_zeroes, picks=switch_sig_chans, labels_every=8, hemi='both', title=f'{subj}_Switch', background='black', color=(1, 1, 0))\n"
      ]
    },
    {
      "cell_type": "markdown",
      "metadata": {},
      "source": [
        "### plot all significant electrodes on average brain"
      ]
    },
    {
      "cell_type": "code",
      "execution_count": null,
      "metadata": {},
      "outputs": [],
      "source": [
        "# grab all of the significant electrodes, and put them into one list, and then run plot_on_average\n",
        "\n",
        "HOME = os.path.expanduser(\"~\")\n",
        "\n",
        "# get box directory depending on OS\n",
        "if os.name == 'nt': # windows\n",
        "    LAB_root = os.path.join(HOME, \"Box\", \"CoganLab\")\n",
        "else: # mac\n",
        "    LAB_root = os.path.join(HOME, \"Library\", \"CloudStorage\", \"Box-Box\", \"CoganLab\")\n",
        "\n",
        "layout = get_data(\"GlobalLocal\", root=LAB_root)\n",
        "\n",
        "\n",
        "print(layout.derivatives)\n",
        "print(layout.derivatives.keys())\n",
        "\n",
        "\n",
        "base_path = os.path.join(LAB_root, \"BIDS-1.1_GlobalLocal\", \"BIDS\", \"derivatives\", \"freqFilt\", \"figs\")\n",
        "\n",
        "subjects = layout.get(return_type=\"id\", target=\"subject\")\n",
        "subjects_without_zeroes = [\"D\" + subj[1:].lstrip('0') for subj in subjects]\n",
        "\n",
        "allSigElectrodes = {}  # Initialize as an empty dictionary\n",
        "allElectrodes = {}\n",
        "\n",
        "for subj in subjects:\n",
        "    if subj == \"D0077\":\n",
        "        continue\n",
        "    \n",
        "    resp_filename = f'{base_path}\\\\{subj}\\\\sig_chans_{subj}_response_experimentStartBase1secTo101Sec.json'\n",
        "    stim_filename = f'{base_path}\\\\{subj}\\\\sig_chans_{subj}_stimulus_experimentStartBase1secTo101Sec.json'\n",
        "\n",
        "    resp_sig_chans = load_sig_chans(resp_filename)\n",
        "    stim_sig_chans = load_sig_chans(stim_filename)\n",
        "\n",
        "    # Combine the significant electrodes for this subject\n",
        "    combined_chans = resp_sig_chans + stim_sig_chans\n",
        "\n",
        "    # Add them to the dictionary, tagged with the subject without zeroes\n",
        "\n",
        "    subj_without_zeroes = \"D\" + subj[1:].lstrip('0')\n",
        "    allSigElectrodes[subj_without_zeroes] = combined_chans\n",
        "\n",
        "    # Get all electrodes for this subject and add them to the allElectrodes dict\n",
        "    info = subject_to_info(subj_without_zeroes)\n",
        "    allSubjElectrodes = mne.pick_channels(info.ch_names, [])\n",
        "    allElectrodes[subj_without_zeroes] = allSubjElectrodes\n",
        "\n",
        "picks = [f'D{k[1:].zfill(4)}-{v}' for k in allSigElectrodes.keys() for v in allSigElectrodes[k]]\n",
        "# sinfos = [subject_to_info(f'D{int(subj[1:])}') for subj in subjects]\n",
        "\n",
        "plot_on_average(allSigElectrodes, hemi='both', color=(1,1,0))\n",
        "# plot_on_average(allElectrodes, hemi='both', color=(1,1,0))"
      ]
    },
    {
      "cell_type": "markdown",
      "metadata": {},
      "source": [
        "### plot all significant electrodes, then plot all electrodes"
      ]
    },
    {
      "cell_type": "code",
      "execution_count": null,
      "metadata": {},
      "outputs": [],
      "source": [
        "# grab all of the significant electrodes, and put them into one list, and then run plot_on_average\n",
        "\n",
        "HOME = os.path.expanduser(\"~\")\n",
        "\n",
        "# get box directory depending on OS\n",
        "if os.name == 'nt': # windows\n",
        "    LAB_root = os.path.join(HOME, \"Box\", \"CoganLab\")\n",
        "else: # mac\n",
        "    LAB_root = os.path.join(HOME, \"Library\", \"CloudStorage\", \"Box-Box\", \"CoganLab\")\n",
        "\n",
        "layout = get_data(\"GlobalLocal\", root=LAB_root)\n",
        "\n",
        "\n",
        "print(layout.derivatives)\n",
        "print(layout.derivatives.keys())\n",
        "\n",
        "\n",
        "base_path = os.path.join(LAB_root, \"BIDS-1.1_GlobalLocal\", \"BIDS\", \"derivatives\", \"freqFilt\", \"figs\")\n",
        "\n",
        "subjects = layout.get(return_type=\"id\", target=\"subject\")\n",
        "\n",
        "subjects = ['D0057', 'D0059', 'D0063', 'D0065', 'D0069', 'D0071', 'D0077', 'D0090']\n",
        "subjects_without_zeroes = [\"D\" + subj[1:].lstrip('0') for subj in subjects]\n",
        "\n",
        "allSigElectrodes = {}  # Initialize as an empty dictionary\n",
        "allElectrodes = {}\n",
        "\n",
        "for subj in subjects:\n",
        "    # if subj == \"D0077\":\n",
        "    #     continue\n",
        "    \n",
        "    # resp_filename = f'{base_path}\\\\{subj}\\\\sig_chans_{subj}_Response.json'\n",
        "    stim_filename = f'{base_path}\\\\{subj}\\\\sig_chans_{subj}_Stimulus_fixationCrossBase_1sec_mirror.json'\n",
        "\n",
        "    # resp_sig_chans = load_sig_chans(resp_filename)\n",
        "    stim_sig_chans = load_sig_chans(stim_filename)\n",
        "\n",
        "    # Combine the significant electrodes for this subject\n",
        "    # combined_chans = resp_sig_chans + stim_sig_chans\n",
        "    combined_chans = stim_sig_chans # delete this line once we have responses for everyone\n",
        "    # Add them to the dictionary, tagged with the subject without zeroes\n",
        "\n",
        "    subj_without_zeroes = \"D\" + subj[1:].lstrip('0')\n",
        "    allSigElectrodes[subj_without_zeroes] = combined_chans\n",
        "\n",
        "    # Get all electrodes for this subject and add them to the allElectrodes dict\n",
        "    info = subject_to_info(subj_without_zeroes)\n",
        "    allSubjElectrodes = mne.pick_channels(info.ch_names, [])\n",
        "    allElectrodes[subj_without_zeroes] = allSubjElectrodes\n",
        "\n",
        "\n",
        "plot_on_average(allSigElectrodes, hemi='both', color=(1,1,0))\n",
        "# plot_on_average(allElectrodes, hemi='both', color=(1,1,0))"
      ]
    },
    {
      "cell_type": "markdown",
      "metadata": {},
      "source": [
        "### plot all stim electrodes for an roi\n",
        "get the subject: electrode mappings from roi_analysis first"
      ]
    },
    {
      "cell_type": "code",
      "execution_count": null,
      "metadata": {},
      "outputs": [],
      "source": [
        "def get_sig_chans(sub, task, LAB_root=None):\n",
        "    # Determine LAB_root based on the operating system\n",
        "    if LAB_root is None:\n",
        "        HOME = os.path.expanduser(\"~\")\n",
        "        LAB_root = os.path.join(HOME, \"Box\", \"CoganLab\") if os.name == 'nt' else os.path.join(HOME, \"Library\", \"CloudStorage\", \"Box-Box\", \"CoganLab\")\n",
        "\n",
        "    # Get data layout\n",
        "    layout = get_data(task, root=LAB_root)\n",
        "    save_dir = os.path.join(layout.root, 'derivatives', 'freqFilt', 'figs', sub)\n",
        "\n",
        "    stim_filename = f'{save_dir}\\\\sig_chans_{sub}_Stimulus_fixationCrossBase_1sec_mirror.json'\n",
        "    stim_sig_chans = load_sig_chans(stim_filename)\n",
        "    return stim_sig_chans\n",
        "\n",
        "\n",
        "# List of subjects\n",
        "subjects = ['D0057', 'D0059', 'D0063', 'D0065', 'D0069', 'D0071', 'D0077', 'D0090', 'D0094']\n",
        "\n",
        "# Initialize an empty dictionary to store significant channels per subject\n",
        "sig_chans_per_subject = {}\n",
        "\n",
        "# Populate the dictionary using get_sig_chans for each subject\n",
        "for sub in subjects:\n",
        "    sig_chans_per_subject[sub] = get_sig_chans(sub, 'GlobalLocal')\n",
        "\n",
        "# Now sig_chans_per_subject dictionary is populated with significant channels for each subject"
      ]
    },
    {
      "cell_type": "code",
      "execution_count": null,
      "metadata": {},
      "outputs": [],
      "source": [
        "import json\n",
        "\n",
        "# Load from a JSON file\n",
        "filename = 'subjects_electrodestoROIs_dict.json'\n",
        "\n",
        "with open(filename, 'r') as file:\n",
        "    subjects_electrodestoROIs_dict = json.load(file)\n",
        "\n",
        "print(f\"Loaded data from {filename}\")"
      ]
    },
    {
      "cell_type": "code",
      "execution_count": null,
      "metadata": {},
      "outputs": [],
      "source": [
        "def filter_electrodes_by_roi(subjects_electrodes_dict, sig_chans_per_subject, roi_list):\n",
        "    \"\"\"\n",
        "    Filters electrodes based on specified ROIs and returns significant electrodes for each subject.\n",
        "\n",
        "    Args:\n",
        "    subjects_electrodes_dict (dict): A dictionary with subjects as keys and electrode-to-ROI mappings as values.\n",
        "    sig_chans_per_subject (dict): A dictionary with subjects as keys and lists of significant channels as values.\n",
        "    roi_list (list): A list of ROIs to filter electrodes.\n",
        "\n",
        "    Returns:\n",
        "    dict: A dictionary with subjects as keys and lists of significant electrodes in specified ROIs as values.\n",
        "    \"\"\"\n",
        "    filtered_electrodes_per_subject = {}\n",
        "\n",
        "    for sub, electrodes_dict in subjects_electrodes_dict.items():\n",
        "        filtered = {key: value for key, value in electrodes_dict['filtROI_dict'].items() \n",
        "                    if any(roi in key for roi in roi_list)}\n",
        "\n",
        "        # Aggregate electrodes into a list for each subject\n",
        "        filtered_electrodes = []\n",
        "        for electrodes in filtered.values():\n",
        "            filtered_electrodes.extend(electrodes)\n",
        "\n",
        "        filtered_electrodes_per_subject[sub] = filtered_electrodes\n",
        "        print(f'For subject {sub}, {\", \".join(roi_list)} electrodes are: {filtered_electrodes}')\n",
        "\n",
        "    # Now filter for significant electrodes\n",
        "    sig_filtered_electrodes_per_subject = {}\n",
        "\n",
        "    for sub, filtered_electrodes in filtered_electrodes_per_subject.items():\n",
        "        # Retrieve the list of significant channels for the subject\n",
        "        sig_chans = sig_chans_per_subject.get(sub, [])\n",
        "\n",
        "        # Find the intersection of filtered electrodes and significant channels for the subject\n",
        "        sig_filtered_electrodes = [elec for elec in filtered_electrodes if elec in sig_chans]\n",
        "\n",
        "        # Store the significant filtered electrodes for the subject\n",
        "        sig_filtered_electrodes_per_subject[sub] = sig_filtered_electrodes\n",
        "        print(f\"Subject {sub} significant {', '.join(roi_list)} electrodes: {sig_filtered_electrodes}\")\n",
        "\n",
        "    return filtered_electrodes_per_subject, sig_filtered_electrodes_per_subject\n",
        "\n",
        "# Example usage:\n",
        "dlpfc_rois = [\"G_front_middle\", \"G_front_sup\", \"S_front_inf\", \"S_front_middle\", \"S_front_sup\"] #dorsolateral prefrontal cortex\n",
        "acc_rois = [\"G_and_S_cingul-Ant\", \"G_and_S_cingul-Mid-Ant\"] #anterior cingulate cortex\n",
        "parietal_rois = [\"G_parietal_sup\", \"S_intrapariet_and_P_trans\", \"G_pariet_inf-Angular\", \"G_pariet_inf-Supramar\"] #superior parietal lobule, intraparietal sulcus, and inferior parietal lobule (split into angular gyrus and supramarginal gyrus)\n",
        "dlpfc_electrodes_per_subject, sig_dlpfc_electrodes_per_subject = filter_electrodes_by_roi(subjects_electrodestoROIs_dict, sig_chans_per_subject, dlpfc_rois)\n",
        "acc_electrodes_per_subject, sig_acc_electrodes_per_subject = filter_electrodes_by_roi(subjects_electrodestoROIs_dict, sig_chans_per_subject, acc_rois)\n",
        "parietal_electrodes_per_subject, sig_parietal_electrodes_per_subject = filter_electrodes_by_roi(subjects_electrodestoROIs_dict, sig_chans_per_subject, parietal_rois)"
      ]
    },
    {
      "cell_type": "markdown",
      "metadata": {},
      "source": [
        "this is with zeroes removed from subject names, i think plot on average needs those instead of the normal subject names  \n",
        "also, remove the subjects with empty lists since those might be breaking the plotting too"
      ]
    },
    {
      "cell_type": "code",
      "execution_count": null,
      "metadata": {},
      "outputs": [],
      "source": [
        "def remove_leading_zeroes_and_empty_subjects(subjects_dict):\n",
        "    \"\"\"\n",
        "    Removes leading zeroes from subject names, adds a '_without_zeroes' suffix, \n",
        "    and filters out subjects with empty lists.\n",
        "\n",
        "    Args:\n",
        "    subjects_dict (dict): A dictionary with subjects as keys and lists as values.\n",
        "\n",
        "    Returns:\n",
        "    dict: A new dictionary with modified subject names and non-empty lists.\n",
        "    \"\"\"\n",
        "    new_dict = {}\n",
        "    for sub, value in subjects_dict.items():\n",
        "        if value:  # Check if the list is not empty\n",
        "            sub_without_zeroes = \"D\" + sub[1:].lstrip('0')\n",
        "            new_dict[sub_without_zeroes] = value\n",
        "    return new_dict\n",
        "\n",
        "# Example usage:\n",
        "dlpfc_electrodes_without_zeroes = remove_leading_zeroes_and_empty_subjects(dlpfc_electrodes_per_subject)\n",
        "sig_dlpfc_electrodes_without_zeroes = remove_leading_zeroes_and_empty_subjects(sig_dlpfc_electrodes_per_subject)\n",
        "\n",
        "acc_electrodes_without_zeroes = remove_leading_zeroes_and_empty_subjects(acc_electrodes_per_subject)\n",
        "sig_acc_electrodes_without_zeroes = remove_leading_zeroes_and_empty_subjects(sig_acc_electrodes_per_subject)\n",
        "\n",
        "parietal_electrodes_without_zeroes = remove_leading_zeroes_and_empty_subjects(parietal_electrodes_per_subject)\n",
        "sig_parietal_electrodes_without_zeroes = remove_leading_zeroes_and_empty_subjects(sig_parietal_electrodes_per_subject)"
      ]
    },
    {
      "cell_type": "code",
      "execution_count": null,
      "metadata": {},
      "outputs": [],
      "source": [
        "sig_dlpfc_electrodes_without_zeroes['D57']"
      ]
    },
    {
      "cell_type": "code",
      "execution_count": null,
      "metadata": {},
      "outputs": [],
      "source": [
        "dlpfc_electrodes_without_zeroes['D57']"
      ]
    },
    {
      "cell_type": "markdown",
      "metadata": {},
      "source": [
        "### test attempt to make a plot subj function that can plot nonsignificant electrodes in one color and significant electrodes in another color"
      ]
    },
    {
      "cell_type": "code",
      "execution_count": null,
      "metadata": {},
      "outputs": [],
      "source": [
        "plot_subj_sig_and_nonsig('D57', sig_picks=sig_dlpfc_electrodes_without_zeroes['D57'], nonsig_picks=dlpfc_electrodes_without_zeroes['D57'], sig_color=(1,1,0), nonsig_color=(1,1,1), labels_every=1, hemi='both', title=f'D57 dlpfc', background='black')"
      ]
    },
    {
      "cell_type": "markdown",
      "metadata": {},
      "source": [
        "### plot sig roi electrodes on individual brains"
      ]
    },
    {
      "cell_type": "markdown",
      "metadata": {},
      "source": [
        "#### dlpfc"
      ]
    },
    {
      "cell_type": "code",
      "execution_count": null,
      "metadata": {},
      "outputs": [],
      "source": [
        "for subj in sig_dlpfc_electrodes_without_zeroes:\n",
        "    print(subj)"
      ]
    },
    {
      "cell_type": "markdown",
      "metadata": {},
      "source": [
        "manually do single subjects"
      ]
    },
    {
      "cell_type": "code",
      "execution_count": null,
      "metadata": {},
      "outputs": [],
      "source": [
        "subj = 'D90'\n",
        "base_path = r'C:\\Users\\jz421\\Box\\CoganLab\\BIDS-1.1_GlobalLocal\\BIDS\\derivatives\\freqFilt\\figs'\n",
        "\n",
        "subj_without_zeroes = \"D\" + subj[1:].lstrip('0')\n",
        "print(\"Picks for subject:\", sig_dlpfc_electrodes_without_zeroes[subj_without_zeroes])\n",
        "brain_fig = plot_subj_sig_and_nonsig(subj_without_zeroes, sig_picks=sig_dlpfc_electrodes_without_zeroes[subj_without_zeroes], nonsig_picks=dlpfc_electrodes_without_zeroes[subj_without_zeroes], sig_color=(1,1,0), nonsig_color=(1,1,1), labels_every=1, hemi='both', title=f'{subj}_dlPFC', background='black')\n",
        "# brain_fig = plot_subj(subj_without_zeroes, picks=sig_dlpfc_electrodes_without_zeroes[subj_without_zeroes], labels_every=1, hemi='both', title=f'{subj}_dlPFC', background='black', color=(1, 1, 0))\n",
        "\n",
        "# Specify the path and filename for the PNG file\n",
        "png_filepath = os.path.join(base_path, f\"{subj_without_zeroes}_dlPFC.png\")\n",
        "\n",
        "# Save the figure\n",
        "brain_fig.save_image(png_filepath, 'png')"
      ]
    },
    {
      "cell_type": "markdown",
      "metadata": {},
      "source": [
        "loop thru everyone who has sig dlpfc electrodes"
      ]
    },
    {
      "cell_type": "code",
      "execution_count": null,
      "metadata": {},
      "outputs": [],
      "source": [
        "for subj in sig_dlpfc_electrodes_without_zeroes:\n",
        "    if subj == 'D57':\n",
        "        continue #skip this one cuz its being weird\n",
        "    base_path = r'C:\\Users\\jz421\\Box\\CoganLab\\BIDS-1.1_GlobalLocal\\BIDS\\derivatives\\freqFilt\\figs'\n",
        "\n",
        "    subj_without_zeroes = \"D\" + subj[1:].lstrip('0')\n",
        "    print(\"Picks for subject:\", sig_dlpfc_electrodes_without_zeroes[subj_without_zeroes])\n",
        "\n",
        "    brain_fig = plot_subj_sig_and_nonsig(subj_without_zeroes, sig_picks=sig_dlpfc_electrodes_without_zeroes[subj_without_zeroes], nonsig_picks=dlpfc_electrodes_without_zeroes[subj_without_zeroes], sig_color=(1,1,0), nonsig_color=(1,1,1), labels_every=1, hemi='both', title=f'{subj}_dlPFC', background='black')\n",
        "\n",
        "    # Specify the path and filename for the PNG file\n",
        "    png_filepath = os.path.join(base_path, f\"{subj_without_zeroes}_dlPFC.png\")\n",
        "\n",
        "    # Save the figure\n",
        "    brain_fig.save_image(png_filepath, 'png')"
      ]
    },
    {
      "cell_type": "markdown",
      "metadata": {},
      "source": [
        "#### acc"
      ]
    },
    {
      "cell_type": "code",
      "execution_count": null,
      "metadata": {},
      "outputs": [],
      "source": [
        "for subj in sig_acc_electrodes_without_zeroes:\n",
        "    print(subj)"
      ]
    },
    {
      "cell_type": "markdown",
      "metadata": {},
      "source": [
        "manually do single subjects"
      ]
    },
    {
      "cell_type": "code",
      "execution_count": null,
      "metadata": {},
      "outputs": [],
      "source": [
        "subj = 'D63'\n",
        "base_path = r'C:\\Users\\jz421\\Box\\CoganLab\\BIDS-1.1_GlobalLocal\\BIDS\\derivatives\\freqFilt\\figs'\n",
        "\n",
        "subj_without_zeroes = \"D\" + subj[1:].lstrip('0')\n",
        "print(\"Picks for subject:\", sig_acc_electrodes_without_zeroes[subj_without_zeroes])\n",
        "\n",
        "brain_fig = plot_subj_sig_and_nonsig(subj_without_zeroes, sig_picks=sig_acc_electrodes_without_zeroes[subj_without_zeroes], nonsig_picks=acc_electrodes_without_zeroes[subj_without_zeroes], sig_color=(1,1,0), nonsig_color=(1,1,1), labels_every=1, hemi='both', title=f'{subj}_acc', background='black')\n",
        "\n",
        "# Specify the path and filename for the PNG file\n",
        "png_filepath = os.path.join(base_path, f\"{subj_without_zeroes}_acc.png\")\n",
        "\n",
        "# Save the figure\n",
        "brain_fig.save_image(png_filepath, 'png')"
      ]
    },
    {
      "cell_type": "markdown",
      "metadata": {},
      "source": [
        "loop thru everyone who has sig acc electrodes"
      ]
    },
    {
      "cell_type": "code",
      "execution_count": null,
      "metadata": {},
      "outputs": [],
      "source": [
        "for subj in sig_acc_electrodes_without_zeroes:\n",
        "\n",
        "    base_path = r'C:\\Users\\jz421\\Box\\CoganLab\\BIDS-1.1_GlobalLocal\\BIDS\\derivatives\\freqFilt\\figs'\n",
        "\n",
        "    subj_without_zeroes = \"D\" + subj[1:].lstrip('0')\n",
        "    print(\"Picks for subject:\", sig_acc_electrodes_without_zeroes[subj_without_zeroes])\n",
        "\n",
        "    brain_fig = plot_subj_sig_and_nonsig(subj_without_zeroes, sig_picks=sig_acc_electrodes_without_zeroes[subj_without_zeroes], nonsig_picks=acc_electrodes_without_zeroes[subj_without_zeroes], sig_color=(1,1,0), nonsig_color=(1,1,1), labels_every=1, hemi='both', title=f'{subj}_acc', background='black')\n",
        "\n",
        "    # Specify the path and filename for the PNG file\n",
        "    png_filepath = os.path.join(base_path, f\"{subj_without_zeroes}_acc.png\")\n",
        "\n",
        "    # Save the figure\n",
        "    brain_fig.save_image(png_filepath, 'png')"
      ]
    },
    {
      "cell_type": "markdown",
      "metadata": {},
      "source": [
        "#### parietal"
      ]
    },
    {
      "cell_type": "code",
      "execution_count": null,
      "metadata": {},
      "outputs": [],
      "source": [
        "for subj in sig_parietal_electrodes_without_zeroes:\n",
        "    print(subj)"
      ]
    },
    {
      "cell_type": "markdown",
      "metadata": {},
      "source": [
        "manually do single subjects"
      ]
    },
    {
      "cell_type": "code",
      "execution_count": null,
      "metadata": {},
      "outputs": [],
      "source": [
        "subj = 'D77'\n",
        "base_path = r'C:\\Users\\jz421\\Box\\CoganLab\\BIDS-1.1_GlobalLocal\\BIDS\\derivatives\\freqFilt\\figs'\n",
        "\n",
        "subj_without_zeroes = \"D\" + subj[1:].lstrip('0')\n",
        "print(\"Picks for subject:\", sig_parietal_electrodes_without_zeroes[subj_without_zeroes])\n",
        "\n",
        "brain_fig = plot_subj_sig_and_nonsig(subj_without_zeroes, sig_picks=sig_parietal_electrodes_without_zeroes[subj_without_zeroes], nonsig_picks=parietal_electrodes_without_zeroes[subj_without_zeroes], sig_color=(1,1,0), nonsig_color=(1,1,1), labels_every=1, hemi='both', title=f'{subj}_parietal', background='black')\n",
        "\n",
        "# Specify the path and filename for the PNG file\n",
        "png_filepath = os.path.join(base_path, f\"{subj_without_zeroes}_parietal.png\")\n",
        "\n",
        "# Save the figure\n",
        "brain_fig.save_image(png_filepath, 'png')"
      ]
    },
    {
      "cell_type": "markdown",
      "metadata": {},
      "source": [
        "loop thru everyone who has sig parietal electrodes"
      ]
    },
    {
      "cell_type": "code",
      "execution_count": null,
      "metadata": {},
      "outputs": [],
      "source": [
        "for subj in sig_parietal_electrodes_without_zeroes:\n",
        "\n",
        "    base_path = r'C:\\Users\\jz421\\Box\\CoganLab\\BIDS-1.1_GlobalLocal\\BIDS\\derivatives\\freqFilt\\figs'\n",
        "\n",
        "    subj_without_zeroes = \"D\" + subj[1:].lstrip('0')\n",
        "    print(\"Picks for subject:\", sig_parietal_electrodes_without_zeroes[subj_without_zeroes])\n",
        "\n",
        "    brain_fig = plot_subj_sig_and_nonsig(subj_without_zeroes, sig_picks=sig_parietal_electrodes_without_zeroes[subj_without_zeroes], nonsig_picks=parietal_electrodes_without_zeroes[subj_without_zeroes], sig_color=(1,1,0), nonsig_color=(1,1,1), labels_every=1, hemi='both', title=f'{subj}_parietal', background='black')\n",
        "\n",
        "    # Specify the path and filename for the PNG file\n",
        "    png_filepath = os.path.join(base_path, f\"{subj_without_zeroes}_parietal.png\")\n",
        "\n",
        "    # Save the figure\n",
        "    brain_fig.save_image(png_filepath, 'png')"
      ]
    },
    {
      "cell_type": "markdown",
      "metadata": {},
      "source": [
        "### do dlpfc, acc, parietal coverage for each person"
      ]
    },
    {
      "cell_type": "markdown",
      "metadata": {},
      "source": [
        "get all electrodes across dlpfc, acc, and parietal and stick them into one dictionary so we can plot coverage in control regions for each subject"
      ]
    },
    {
      "cell_type": "code",
      "execution_count": null,
      "metadata": {},
      "outputs": [],
      "source": [
        "allControlElectrodes = {key: sig_parietal_electrodes_without_zeroes.get(key, []) + \n",
        "                      sig_dlpfc_electrodes_without_zeroes.get(key, []) + \n",
        "                      sig_acc_electrodes_without_zeroes.get(key, [])\n",
        "                 for key in set(sig_parietal_electrodes_without_zeroes) | \n",
        "                             set(sig_dlpfc_electrodes_without_zeroes) | \n",
        "                             set(sig_acc_electrodes_without_zeroes)}\n",
        "\n",
        "subj = 'D77'\n",
        "base_path = r'C:\\Users\\jz421\\Box\\CoganLab\\BIDS-1.1_GlobalLocal\\BIDS\\derivatives\\freqFilt\\figs'\n",
        "\n",
        "subj_without_zeroes = \"D\" + subj[1:].lstrip('0')\n",
        "\n",
        "brain_fig = plot_subj(subj_without_zeroes, picks=allControlElectrodes[subj_without_zeroes], labels_every=1, hemi='both', title=f'{subj}_allControlElectrodes', background='black', color=(1, 1, 0))\n",
        "\n",
        "# Specify the path and filename for the PNG file\n",
        "png_filepath = os.path.join(base_path, f\"{subj_without_zeroes}_allControlElectrodes.png\")\n",
        "\n",
        "# Save the figure\n",
        "brain_fig.save_image(png_filepath, 'png')"
      ]
    },
    {
      "cell_type": "markdown",
      "metadata": {},
      "source": [
        "### try to plot all sig electrodes in an roi on an avg brain  \n",
        "this is plotting like all electrodes wtf why"
      ]
    },
    {
      "cell_type": "code",
      "execution_count": null,
      "metadata": {},
      "outputs": [],
      "source": [
        "plot_on_average(sig_parietal_electrodes_without_zeroes, hemi='both', color=(1,1,0))"
      ]
    },
    {
      "cell_type": "markdown",
      "metadata": {},
      "source": [
        "### plot each subject one by one on the fsaverage brain"
      ]
    },
    {
      "cell_type": "code",
      "execution_count": null,
      "metadata": {},
      "outputs": [],
      "source": [
        "# grab all of the significant electrodes, and put them into one list, and then run plot_on_average\n",
        "\n",
        "HOME = os.path.expanduser(\"~\")\n",
        "\n",
        "# get box directory depending on OS\n",
        "if os.name == 'nt': # windows\n",
        "    LAB_root = os.path.join(HOME, \"Box\", \"CoganLab\")\n",
        "else: # mac\n",
        "    LAB_root = os.path.join(HOME, \"Library\", \"CloudStorage\", \"Box-Box\", \"CoganLab\")\n",
        "\n",
        "layout = get_data(\"GlobalLocal\", root=LAB_root)\n",
        "\n",
        "\n",
        "print(layout.derivatives)\n",
        "print(layout.derivatives.keys())\n",
        "\n",
        "\n",
        "base_path = os.path.join(LAB_root, \"BIDS-1.1_GlobalLocal\", \"BIDS\", \"derivatives\", \"freqFilt\", \"figs\")\n",
        "\n",
        "subjects = layout.get(return_type=\"id\", target=\"subject\")\n",
        "subjects_without_zeroes = [\"D\" + subj[1:].lstrip('0') for subj in subjects]\n",
        "allSigElectrodes = {}  # Initialize as an empty dictionary\n",
        "allElectrodes = {}\n",
        "\n",
        "subj = 'D0071'\n",
        "    \n",
        "resp_filename = f'{base_path}\\\\{subj}\\\\sig_chans_{subj}_Response.json'\n",
        "stim_filename = f'{base_path}\\\\{subj}\\\\sig_chans_{subj}_Stimulus.json'\n",
        "\n",
        "resp_sig_chans = load_sig_chans(resp_filename)\n",
        "stim_sig_chans = load_sig_chans(stim_filename)\n",
        "\n",
        "# Combine the significant electrodes for this subject\n",
        "combined_chans = resp_sig_chans + stim_sig_chans\n",
        "\n",
        "# Add them to the dictionary, tagged with the subject without zeroes\n",
        "\n",
        "subj_without_zeroes = \"D\" + subj[1:].lstrip('0')\n",
        "allSigElectrodes[subj_without_zeroes] = combined_chans\n",
        "\n",
        "# Get all electrodes for this subject and add them to the allElectrodes dict\n",
        "info = subject_to_info(subj_without_zeroes)\n",
        "allSubjElectrodes = mne.pick_channels(info.ch_names, [])\n",
        "allElectrodes[subj_without_zeroes] = allSubjElectrodes\n",
        "\n",
        "\n",
        "plot_on_average(allSigElectrodes, hemi='both', color=(1,1,0))\n",
        "plot_on_average(allElectrodes, hemi='both', color=(1,1,0))"
      ]
    }
  ],
  "metadata": {
    "kernelspec": {
      "display_name": "Python 3",
      "language": "python",
      "name": "python3"
    },
    "language_info": {
      "codemirror_mode": {
        "name": "ipython",
        "version": 3
      },
      "file_extension": ".py",
      "mimetype": "text/x-python",
      "name": "python",
      "nbconvert_exporter": "python",
      "pygments_lexer": "ipython3",
      "version": "3.11.7"
    }
  },
  "nbformat": 4,
  "nbformat_minor": 0
}
