{
 "cells": [
  {
   "cell_type": "code",
   "execution_count": 15,
   "metadata": {},
   "outputs": [],
   "source": [
    "import mne.time_frequency\n",
    "\n",
    "from ieeg.io import get_data, raw_from_layout\n",
    "from ieeg.navigate import trial_ieeg, channel_outlier_marker, crop_empty_data, outliers_to_nan\n",
    "from ieeg.calc.scaling import rescale\n",
    "import os\n",
    "from ieeg.timefreq.utils import wavelet_scaleogram, crop_pad\n",
    "import numpy as np"
   ]
  },
  {
   "cell_type": "code",
   "execution_count": 16,
   "metadata": {},
   "outputs": [
    {
     "name": "stderr",
     "output_type": "stream",
     "text": [
      "/Users/jinjiang-macair/anaconda3/envs/ieeg/lib/python3.11/site-packages/bids/layout/layout.py:515: UserWarning: Derivative indexing was requested, but no valid datasets were found in the specified locations ([PosixPath('/Users/jinjiang-macair/Library/CloudStorage/Box-Box/CoganLab/BIDS-1.0_GlobalLocal/BIDS/derivatives')]). Note that all BIDS-Derivatives datasets must meet all the requirements for BIDS-Raw datasets (a common problem is to fail to include a 'dataset_description.json' file in derivatives datasets).\n",
      "Example contents of 'dataset_description.json':\n",
      "{\"Name\": \"Example dataset\", \"BIDSVersion\": \"1.0.2\", \"GeneratedBy\": [{\"Name\": \"Example pipeline\"}]}\n",
      "  warnings.warn(\"Derivative indexing was requested, but no valid \"\n"
     ]
    }
   ],
   "source": [
    "## check if currently running a slurm job\n",
    "HOME = os.path.expanduser(\"~\")\n",
    "\n",
    "# manually set this for now since mac is different from windows, make more robust later\n",
    "HOME = '/Users/jinjiang-macair/Library/CloudStorage'\n",
    "\n",
    "if 'SLURM_ARRAY_TASK_ID' in os.environ.keys():\n",
    "    LAB_root = os.path.join(HOME, \"workspace\", \"CoganLab\")\n",
    "    layout = get_data(\"GlobalLocal\", root=LAB_root)\n",
    "    subjects = list(int(os.environ['SLURM_ARRAY_TASK_ID']))\n",
    "else:  # if not then set box directory\n",
    "    LAB_root = os.path.join(HOME, \"Box-Box\", \"CoganLab\") #it's just Box for windows, but on Mac it's Box-Box\n",
    "    layout = get_data(\"GlobalLocal\", root=LAB_root)\n",
    "    subjects = layout.get(return_type=\"id\", target=\"subject\")\n"
   ]
  },
  {
   "cell_type": "code",
   "execution_count": 24,
   "metadata": {},
   "outputs": [
    {
     "name": "stdout",
     "output_type": "stream",
     "text": [
      "['D0057', 'D0059', 'D0063', 'D0065', 'D0069', 'D0071']\n"
     ]
    }
   ],
   "source": [
    "print(subjects)\n",
    "for sub in subjects:\n",
    "    if sub != \"D0022\":\n",
    "        continue\n",
    "    # Load the data\n",
    "    filt = raw_from_layout(layout.derivatives['clean'], subject=sub,\n",
    "                           extension='.edf', desc='clean', preload=False)\n",
    "    print(filt)\n",
    "    ## fix SentenceRep events\n",
    "    from events import fix_annotations  # noqa E402\n",
    "    new = crop_empty_data(filt,)\n",
    "\n",
    "    good = new.copy()\n",
    "    fix_annotations(good)\n",
    "\n",
    "    ## Crop raw data to minimize processing time\n",
    "\n",
    "    # good.drop_channels(good.info['bads'])\n",
    "    good.info['bads'] = channel_outlier_marker(good, 3, 2)\n",
    "    good.drop_channels(good.info['bads'])\n",
    "    # good.info['bads'] += channel_outlier_marker(good, 4, 2)\n",
    "    # good.drop_channels(good.info['bads'])\n",
    "    good.load_data()\n",
    "\n",
    "    ch_type = filt.get_channel_types(only_data_chs=True)[0]\n",
    "    good.set_eeg_reference(ref_channels=\"average\", ch_type=ch_type)\n",
    "\n",
    "    # Remove intermediates from mem\n",
    "    del new\n",
    "    # good.plot()\n",
    "\n",
    "    ## epoching and trial outlier removal\n",
    "\n",
    "    save_dir = os.path.join(layout.root, 'derivatives', 'spec', 'wavelet', sub)\n",
    "    if not os.path.exists(save_dir):\n",
    "        os.makedirs(save_dir)\n",
    "\n",
    "    for epoch, t, name in zip(\n",
    "            (\"Start\",  \"Word/Response/LS\", \"Word/Audio/LS\", \"Word/Audio/LM\",\n",
    "             \"Word/Audio/JL\", \"Word/Speak/LS\", \"Word/Mime/LM\",\n",
    "             \"Word/Audio/JL\"),\n",
    "            ((-0.5, 0), (-1, 1), (-0.5, 1.5), (-0.5, 1.5), (-0.5, 1.5),\n",
    "             (-0.5, 1.5), (-0.5, 1.5), (1, 3)),\n",
    "            (\"base\", \"resp\", \"aud_ls\", \"aud_lm\", \"aud_jl\", \"go_ls\", \"go_lm\",\n",
    "             \"go_jl\")):\n",
    "        times = [None, None]\n",
    "        times[0] = t[0] - 0.5\n",
    "        times[1] = t[1] + 0.5\n",
    "        trials = trial_ieeg(good, epoch, times, preload=True)\n",
    "        outliers_to_nan(trials, outliers=10)\n",
    "        spec = wavelet_scaleogram(trials, n_jobs=-2, decim=int(\n",
    "            good.info['sfreq'] / 100))\n",
    "        crop_pad(spec, \"0.5s\")\n",
    "        if epoch == \"Start\":\n",
    "            base = spec.copy()\n",
    "            continue\n",
    "        spec_a = rescale(spec, base, copy=True, mode='ratio').average(\n",
    "            lambda x: np.nanmean(x, axis=0), copy=True)\n",
    "        spec_a._data = np.log10(spec_a._data) * 20\n",
    "        fnames = [os.path.relpath(f, layout.root) for f in good.filenames]\n",
    "        spec_a.info['subject_info']['files'] = tuple(fnames)\n",
    "        spec_a.info['bads'] = good.info['bads']\n",
    "        filename = os.path.join(save_dir, f'{name}-tfr.h5')\n",
    "        mne.time_frequency.write_tfrs(filename, spec_a, overwrite=True)\n",
    "        # spec_a.save(os.path.join(save_dir, f'{name}-avg.fif'), overwrite=True)"
   ]
  },
  {
   "attachments": {},
   "cell_type": "markdown",
   "metadata": {},
   "source": []
  }
 ],
 "metadata": {
  "kernelspec": {
   "display_name": "Python 3",
   "language": "python",
   "name": "python3"
  },
  "language_info": {
   "codemirror_mode": {
    "name": "ipython",
    "version": 3
   },
   "file_extension": ".py",
   "mimetype": "text/x-python",
   "name": "python",
   "nbconvert_exporter": "python",
   "pygments_lexer": "ipython3",
   "version": "3.11.3"
  },
  "orig_nbformat": 4
 },
 "nbformat": 4,
 "nbformat_minor": 2
}
