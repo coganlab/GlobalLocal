{
 "cells": [
  {
   "cell_type": "code",
   "execution_count": 1,
   "metadata": {},
   "outputs": [],
   "source": [
    "import mne.time_frequency\n",
    "import mne\n",
    "from ieeg.io import get_data, raw_from_layout\n",
    "from ieeg.navigate import trial_ieeg, channel_outlier_marker, crop_empty_data, outliers_to_nan\n",
    "from ieeg.calc.scaling import rescale\n",
    "import os\n",
    "from ieeg.timefreq.utils import wavelet_scaleogram, crop_pad\n",
    "import numpy as np\n"
   ]
  },
  {
   "cell_type": "code",
   "execution_count": null,
   "metadata": {},
   "outputs": [],
   "source": [
    "HOME = os.path.expanduser(\"~\")\n",
    "\n",
    "# get box directory depending on OS\n",
    "if os.name == 'nt': # windows\n",
    "    LAB_root = os.path.join(HOME, \"Box\", \"CoganLab\")\n",
    "else: # mac\n",
    "    LAB_root = os.path.join(HOME, \"Library\", \"CloudStorage\", \"Box-Box\", \"CoganLab\")\n",
    "\n",
    "layout = get_data(\"GlobalLocal\", root=LAB_root)\n",
    "subjects = layout.get(return_type=\"id\", target=\"subject\")\n",
    "\n",
    "print(subjects)\n",
    "# for sub in subjects:\n",
    "\n",
    "sub='D0057' #why does this not work in the for loop???\n",
    "# Load the data\n",
    "filt = raw_from_layout(layout.derivatives['derivatives/clean'], subject=sub,\n",
    "                           extension='.edf', desc='clean', preload=False) #get line-noise filtered data\n",
    "print(filt)\n",
    "\n",
    "## Crop raw data to minimize processing time\n",
    "good = crop_empty_data(filt)\n",
    "\n",
    "# good.drop_channels(good.info['bads'])\n",
    "good.info['bads'] = channel_outlier_marker(good, 3, 2)\n",
    "good.drop_channels(good.info['bads'])\n",
    "# good.info['bads'] += channel_outlier_marker(good, 4, 2)\n",
    "# good.drop_channels(good.info['bads'])\n",
    "good.load_data()\n",
    "\n",
    "ch_type = filt.get_channel_types(only_data_chs=True)[0]\n",
    "good.set_eeg_reference(ref_channels=\"average\", ch_type=ch_type)\n",
    "\n",
    "# Remove intermediates from mem\n",
    "# good.plot()\n",
    "\n",
    "## epoching and trial outlier removal\n",
    "\n",
    "save_dir = os.path.join(layout.root, 'derivatives', 'spec', 'wavelet', sub)\n",
    "if not os.path.exists(save_dir):\n",
    "    os.makedirs(save_dir)\n",
    "\n",
    "  \n",
    "\n"
   ]
  },
  {
   "attachments": {},
   "cell_type": "markdown",
   "metadata": {},
   "source": [
    "### testing to get avg baseline"
   ]
  },
  {
   "cell_type": "code",
   "execution_count": 16,
   "metadata": {},
   "outputs": [
    {
     "name": "stdout",
     "output_type": "stream",
     "text": [
      "(0, 176, 46, 50)\n"
     ]
    }
   ],
   "source": [
    "EpochsTFRshape = 0,176,46,50\n",
    "\n",
    "print(np.empty(shape=EpochsTFRshape).shape)"
   ]
  },
  {
   "cell_type": "code",
   "execution_count": 41,
   "metadata": {},
   "outputs": [
    {
     "name": "stdout",
     "output_type": "stream",
     "text": [
      "Used Annotations descriptions: ['Responsec25n25', 'Responsec25r25', 'Responsec25r75', 'Responsec25s25', 'Responsec25s75', 'Responsec75r25', 'Responsec75r75', 'Responsec75s25', 'Responsec75s75', 'Responsei25r25', 'Responsei25r75', 'Responsei25s25', 'Responsei25s75', 'Responsei75n25', 'Responsei75n75', 'Responsei75r25', 'Responsei75r75', 'Responsei75s25', 'Responsei75s75', 'Stimulusc25n25', 'Stimulusc25r25', 'Stimulusc25r75', 'Stimulusc25s25', 'Stimulusc25s75', 'Stimulusc75r25', 'Stimulusc75r75', 'Stimulusc75s25', 'Stimulusc75s75', 'Stimulusi25n75', 'Stimulusi25r25', 'Stimulusi25r75', 'Stimulusi25s25', 'Stimulusi25s75', 'Stimulusi75n25', 'Stimulusi75n75', 'Stimulusi75r25', 'Stimulusi75r75', 'Stimulusi75s25', 'Stimulusi75s75']\n",
      "Not setting metadata\n",
      "23 matching events found\n",
      "No baseline correction applied\n",
      "0 projection items activated\n",
      "Using data from preloaded Raw for 23 events and 3073 original time points ...\n"
     ]
    },
    {
     "name": "stdout",
     "output_type": "stream",
     "text": [
      "0 bad epochs dropped\n"
     ]
    },
    {
     "name": "stderr",
     "output_type": "stream",
     "text": [
      "[Parallel(n_jobs=-2)]: Using backend ThreadingBackend with 7 concurrent workers.\n",
      "[Parallel(n_jobs=-2)]: Done   4 tasks      | elapsed:    0.5s\n",
      "[Parallel(n_jobs=-2)]: Done  11 tasks      | elapsed:    0.9s\n",
      "[Parallel(n_jobs=-2)]: Done  18 tasks      | elapsed:    1.4s\n",
      "[Parallel(n_jobs=-2)]: Done  27 tasks      | elapsed:    1.9s\n",
      "[Parallel(n_jobs=-2)]: Done  36 tasks      | elapsed:    2.6s\n",
      "[Parallel(n_jobs=-2)]: Done  47 tasks      | elapsed:    3.4s\n",
      "[Parallel(n_jobs=-2)]: Done  58 tasks      | elapsed:    4.1s\n",
      "[Parallel(n_jobs=-2)]: Done  71 tasks      | elapsed:    4.8s\n",
      "[Parallel(n_jobs=-2)]: Done  84 tasks      | elapsed:    5.6s\n",
      "[Parallel(n_jobs=-2)]: Done  99 tasks      | elapsed:    6.5s\n",
      "[Parallel(n_jobs=-2)]: Done 114 tasks      | elapsed:    7.5s\n",
      "[Parallel(n_jobs=-2)]: Done 131 tasks      | elapsed:    8.7s\n",
      "[Parallel(n_jobs=-2)]: Done 148 tasks      | elapsed:    9.8s\n"
     ]
    },
    {
     "name": "stdout",
     "output_type": "stream",
     "text": [
      "Not setting metadata\n"
     ]
    },
    {
     "name": "stderr",
     "output_type": "stream",
     "text": [
      "[Parallel(n_jobs=-2)]: Done 176 out of 176 | elapsed:   11.4s finished\n"
     ]
    },
    {
     "name": "stdout",
     "output_type": "stream",
     "text": [
      "baselineStimulusi75s25i75s25: (23, 176, 46, 50)\n",
      "Used Annotations descriptions: ['Responsec25n25', 'Responsec25r25', 'Responsec25r75', 'Responsec25s25', 'Responsec25s75', 'Responsec75r25', 'Responsec75r75', 'Responsec75s25', 'Responsec75s75', 'Responsei25r25', 'Responsei25r75', 'Responsei25s25', 'Responsei25s75', 'Responsei75n25', 'Responsei75n75', 'Responsei75r25', 'Responsei75r75', 'Responsei75s25', 'Responsei75s75', 'Stimulusc25n25', 'Stimulusc25r25', 'Stimulusc25r75', 'Stimulusc25s25', 'Stimulusc25s75', 'Stimulusc75r25', 'Stimulusc75r75', 'Stimulusc75s25', 'Stimulusc75s75', 'Stimulusi25n75', 'Stimulusi25r25', 'Stimulusi25r75', 'Stimulusi25s25', 'Stimulusi25s75', 'Stimulusi75n25', 'Stimulusi75n75', 'Stimulusi75r25', 'Stimulusi75r75', 'Stimulusi75s25', 'Stimulusi75s75']\n",
      "Not setting metadata\n",
      "23 matching events found\n",
      "No baseline correction applied\n",
      "0 projection items activated\n",
      "Using data from preloaded Raw for 23 events and 7169 original time points ...\n",
      "0 bad epochs dropped\n"
     ]
    },
    {
     "name": "stderr",
     "output_type": "stream",
     "text": [
      "[Parallel(n_jobs=-2)]: Using backend ThreadingBackend with 7 concurrent workers.\n",
      "[Parallel(n_jobs=-2)]: Done   4 tasks      | elapsed:    1.1s\n",
      "[Parallel(n_jobs=-2)]: Done  11 tasks      | elapsed:    2.3s\n",
      "[Parallel(n_jobs=-2)]: Done  18 tasks      | elapsed:    3.4s\n",
      "[Parallel(n_jobs=-2)]: Done  27 tasks      | elapsed:    4.6s\n",
      "[Parallel(n_jobs=-2)]: Done  36 tasks      | elapsed:    5.8s\n",
      "[Parallel(n_jobs=-2)]: Done  47 tasks      | elapsed:    7.7s\n",
      "[Parallel(n_jobs=-2)]: Done  58 tasks      | elapsed:    9.0s\n",
      "[Parallel(n_jobs=-2)]: Done  71 tasks      | elapsed:   11.1s\n",
      "[Parallel(n_jobs=-2)]: Done  84 tasks      | elapsed:   13.3s\n",
      "[Parallel(n_jobs=-2)]: Done  99 tasks      | elapsed:   15.2s\n",
      "[Parallel(n_jobs=-2)]: Done 114 tasks      | elapsed:   17.6s\n",
      "[Parallel(n_jobs=-2)]: Done 131 tasks      | elapsed:   19.9s\n",
      "[Parallel(n_jobs=-2)]: Done 148 tasks      | elapsed:   22.6s\n"
     ]
    },
    {
     "name": "stdout",
     "output_type": "stream",
     "text": [
      "Not setting metadata\n"
     ]
    },
    {
     "name": "stderr",
     "output_type": "stream",
     "text": [
      "[Parallel(n_jobs=-2)]: Done 176 out of 176 | elapsed:   26.5s finished\n"
     ]
    },
    {
     "name": "stdout",
     "output_type": "stream",
     "text": [
      "Stimulusi75s25i75s25: (23, 176, 46, 255)\n",
      "Used Annotations descriptions: ['Responsec25n25', 'Responsec25r25', 'Responsec25r75', 'Responsec25s25', 'Responsec25s75', 'Responsec75r25', 'Responsec75r75', 'Responsec75s25', 'Responsec75s75', 'Responsei25r25', 'Responsei25r75', 'Responsei25s25', 'Responsei25s75', 'Responsei75n25', 'Responsei75n75', 'Responsei75r25', 'Responsei75r75', 'Responsei75s25', 'Responsei75s75', 'Stimulusc25n25', 'Stimulusc25r25', 'Stimulusc25r75', 'Stimulusc25s25', 'Stimulusc25s75', 'Stimulusc75r25', 'Stimulusc75r75', 'Stimulusc75s25', 'Stimulusc75s75', 'Stimulusi25n75', 'Stimulusi25r25', 'Stimulusi25r75', 'Stimulusi25s25', 'Stimulusi25s75', 'Stimulusi75n25', 'Stimulusi75n75', 'Stimulusi75r25', 'Stimulusi75r75', 'Stimulusi75s25', 'Stimulusi75s75']\n",
      "Not setting metadata\n",
      "23 matching events found\n",
      "No baseline correction applied\n",
      "0 projection items activated\n",
      "Using data from preloaded Raw for 23 events and 7169 original time points ...\n",
      "0 bad epochs dropped\n"
     ]
    },
    {
     "name": "stderr",
     "output_type": "stream",
     "text": [
      "[Parallel(n_jobs=-2)]: Using backend ThreadingBackend with 7 concurrent workers.\n",
      "[Parallel(n_jobs=-2)]: Done   4 tasks      | elapsed:    1.0s\n",
      "[Parallel(n_jobs=-2)]: Done  11 tasks      | elapsed:    2.2s\n",
      "[Parallel(n_jobs=-2)]: Done  18 tasks      | elapsed:    3.4s\n",
      "[Parallel(n_jobs=-2)]: Done  27 tasks      | elapsed:    4.6s\n",
      "[Parallel(n_jobs=-2)]: Done  36 tasks      | elapsed:    6.8s\n",
      "[Parallel(n_jobs=-2)]: Done  47 tasks      | elapsed:    8.1s\n",
      "[Parallel(n_jobs=-2)]: Done  58 tasks      | elapsed:   10.1s\n",
      "[Parallel(n_jobs=-2)]: Done  71 tasks      | elapsed:   11.9s\n",
      "[Parallel(n_jobs=-2)]: Done  84 tasks      | elapsed:   13.9s\n",
      "[Parallel(n_jobs=-2)]: Done  99 tasks      | elapsed:   16.2s\n",
      "[Parallel(n_jobs=-2)]: Done 114 tasks      | elapsed:   18.6s\n"
     ]
    }
   ],
   "source": [
    "trialTypes = [\"i75s25\", \"c75s25\", \"i75r25\", \"c75r25\", \"i75s75\", \"c75s75\", \"i75r75\", \"c75r75\",\n",
    "              \"i25s25\", \"c25s25\", \"i25r25\", \"c25r25\", \"i75s25\", \"c25s75\", \"i25r75\", \"c25r75\"]\n",
    "\n",
    "epochsTFRshape = 0,176,46,50\n",
    "\n",
    "allBaselines = np.empty(shape=(epochsTFRshape))\n",
    "# allSpec = np.empty(shape=(epochsTFRshape))\n",
    "biggestTimeDim = 410  # 410 for D0057, need a more efficient way of finding this though.\n",
    "\n",
    "for trialType in trialTypes:\n",
    "    for epoch, t, name in zip(\n",
    "            (\"Stimulus\"+trialType, \"Stimulus\"+trialType, \"Response\"+trialType),\n",
    "            ((-0.5, 0), (-0.5, 2), (-0.5, 2)),\n",
    "            (\"baselineStimulus\"+trialType, \"Stimulus\"+trialType, \"Response\"+trialType)):\n",
    "        times = [None, None]\n",
    "        times[0] = t[0] - 0.5\n",
    "        times[1] = t[1] + 0.5\n",
    "        trials = trial_ieeg(good, epoch, times, preload=True)\n",
    "        outliers_to_nan(trials, outliers=10)\n",
    "        spec = wavelet_scaleogram(trials, n_jobs=-2, decim=int(good.info['sfreq'] / 100))\n",
    "        \n",
    "        timeDim = spec.data.shape[3]\n",
    "        # if timeDim > biggestTimeDim:\n",
    "        #     biggestTimeDim = timeDim\n",
    "\n",
    "        crop_pad(spec, \"0.5s\")\n",
    "        print(name + \": \" + str(spec.data.shape))\n",
    "        if name == \"baselineStimulus\"+trialType:\n",
    "            base = spec.copy()\n",
    "            continue\n",
    "        allBaselines = np.concatenate([allBaselines, base.data], axis=0)\n",
    "\n",
    "\n",
    "   "
   ]
  },
  {
   "cell_type": "code",
   "execution_count": 30,
   "metadata": {},
   "outputs": [
    {
     "name": "stdout",
     "output_type": "stream",
     "text": [
      "Used Annotations descriptions: ['Responsec25n25', 'Responsec25r25', 'Responsec25r75', 'Responsec25s25', 'Responsec25s75', 'Responsec75r25', 'Responsec75r75', 'Responsec75s25', 'Responsec75s75', 'Responsei25r25', 'Responsei25r75', 'Responsei25s25', 'Responsei25s75', 'Responsei75n25', 'Responsei75n75', 'Responsei75r25', 'Responsei75r75', 'Responsei75s25', 'Responsei75s75', 'Stimulusc25n25', 'Stimulusc25r25', 'Stimulusc25r75', 'Stimulusc25s25', 'Stimulusc25s75', 'Stimulusc75r25', 'Stimulusc75r75', 'Stimulusc75s25', 'Stimulusc75s75', 'Stimulusi25n75', 'Stimulusi25r25', 'Stimulusi25r75', 'Stimulusi25s25', 'Stimulusi25s75', 'Stimulusi75n25', 'Stimulusi75n75', 'Stimulusi75r25', 'Stimulusi75r75', 'Stimulusi75s25', 'Stimulusi75s75']\n",
      "Not setting metadata\n",
      "23 matching events found\n"
     ]
    },
    {
     "name": "stdout",
     "output_type": "stream",
     "text": [
      "No baseline correction applied\n",
      "0 projection items activated\n",
      "Using data from preloaded Raw for 23 events and 3073 original time points ...\n",
      "0 bad epochs dropped\n"
     ]
    },
    {
     "name": "stderr",
     "output_type": "stream",
     "text": [
      "[Parallel(n_jobs=-2)]: Using backend ThreadingBackend with 7 concurrent workers.\n",
      "[Parallel(n_jobs=-2)]: Done   4 tasks      | elapsed:    0.4s\n",
      "[Parallel(n_jobs=-2)]: Done  11 tasks      | elapsed:    0.8s\n",
      "[Parallel(n_jobs=-2)]: Done  18 tasks      | elapsed:    1.2s\n",
      "[Parallel(n_jobs=-2)]: Done  27 tasks      | elapsed:    1.6s\n",
      "[Parallel(n_jobs=-2)]: Done  36 tasks      | elapsed:    2.3s\n",
      "[Parallel(n_jobs=-2)]: Done  47 tasks      | elapsed:    2.8s\n",
      "[Parallel(n_jobs=-2)]: Done  58 tasks      | elapsed:    3.4s\n",
      "[Parallel(n_jobs=-2)]: Done  71 tasks      | elapsed:    4.2s\n",
      "[Parallel(n_jobs=-2)]: Done  84 tasks      | elapsed:    4.9s\n",
      "[Parallel(n_jobs=-2)]: Done  99 tasks      | elapsed:    5.7s\n",
      "[Parallel(n_jobs=-2)]: Done 114 tasks      | elapsed:    6.6s\n",
      "[Parallel(n_jobs=-2)]: Done 131 tasks      | elapsed:    7.7s\n",
      "[Parallel(n_jobs=-2)]: Done 148 tasks      | elapsed:    8.5s\n"
     ]
    },
    {
     "name": "stdout",
     "output_type": "stream",
     "text": [
      "Not setting metadata\n",
      "i75s25: (23, 176, 46, 154)\n",
      "Used Annotations descriptions: ['Responsec25n25', 'Responsec25r25', 'Responsec25r75', 'Responsec25s25', 'Responsec25s75', 'Responsec75r25', 'Responsec75r75', 'Responsec75s25', 'Responsec75s75', 'Responsei25r25', 'Responsei25r75', 'Responsei25s25', 'Responsei25s75', 'Responsei75n25', 'Responsei75n75', 'Responsei75r25', 'Responsei75r75', 'Responsei75s25', 'Responsei75s75', 'Stimulusc25n25', 'Stimulusc25r25', 'Stimulusc25r75', 'Stimulusc25s25', 'Stimulusc25s75', 'Stimulusc75r25', 'Stimulusc75r75', 'Stimulusc75s25', 'Stimulusc75s75', 'Stimulusi25n75', 'Stimulusi25r25', 'Stimulusi25r75', 'Stimulusi25s25', 'Stimulusi25s75', 'Stimulusi75n25', 'Stimulusi75n75', 'Stimulusi75r25', 'Stimulusi75r75', 'Stimulusi75s25', 'Stimulusi75s75']\n",
      "Not setting metadata\n",
      "23 matching events found\n",
      "No baseline correction applied\n"
     ]
    },
    {
     "name": "stderr",
     "output_type": "stream",
     "text": [
      "[Parallel(n_jobs=-2)]: Done 176 out of 176 | elapsed:   10.0s finished\n"
     ]
    },
    {
     "name": "stdout",
     "output_type": "stream",
     "text": [
      "0 projection items activated\n",
      "Using data from preloaded Raw for 23 events and 7169 original time points ...\n",
      "0 bad epochs dropped\n"
     ]
    },
    {
     "name": "stderr",
     "output_type": "stream",
     "text": [
      "[Parallel(n_jobs=-2)]: Using backend ThreadingBackend with 7 concurrent workers.\n",
      "[Parallel(n_jobs=-2)]: Done   4 tasks      | elapsed:    1.0s\n",
      "[Parallel(n_jobs=-2)]: Done  11 tasks      | elapsed:    1.9s\n",
      "[Parallel(n_jobs=-2)]: Done  18 tasks      | elapsed:    2.9s\n",
      "[Parallel(n_jobs=-2)]: Done  27 tasks      | elapsed:    4.0s\n",
      "[Parallel(n_jobs=-2)]: Done  36 tasks      | elapsed:    5.3s\n",
      "[Parallel(n_jobs=-2)]: Done  47 tasks      | elapsed:    6.9s\n",
      "[Parallel(n_jobs=-2)]: Done  58 tasks      | elapsed:    8.3s\n",
      "[Parallel(n_jobs=-2)]: Done  71 tasks      | elapsed:    9.8s\n",
      "[Parallel(n_jobs=-2)]: Done  84 tasks      | elapsed:   11.6s\n",
      "[Parallel(n_jobs=-2)]: Done  99 tasks      | elapsed:   13.5s\n",
      "[Parallel(n_jobs=-2)]: Done 114 tasks      | elapsed:   15.4s\n",
      "[Parallel(n_jobs=-2)]: Done 131 tasks      | elapsed:   17.6s\n",
      "[Parallel(n_jobs=-2)]: Done 148 tasks      | elapsed:   20.1s\n"
     ]
    },
    {
     "name": "stdout",
     "output_type": "stream",
     "text": [
      "Not setting metadata\n"
     ]
    },
    {
     "name": "stderr",
     "output_type": "stream",
     "text": [
      "[Parallel(n_jobs=-2)]: Done 176 out of 176 | elapsed:   23.6s finished\n"
     ]
    },
    {
     "name": "stdout",
     "output_type": "stream",
     "text": [
      "i75s25: (23, 176, 46, 359)\n",
      "Applying baseline correction (mode: ratio)\n",
      "Used Annotations descriptions: ['Responsec25n25', 'Responsec25r25', 'Responsec25r75', 'Responsec25s25', 'Responsec25s75', 'Responsec75r25', 'Responsec75r75', 'Responsec75s25', 'Responsec75s75', 'Responsei25r25', 'Responsei25r75', 'Responsei25s25', 'Responsei25s75', 'Responsei75n25', 'Responsei75n75', 'Responsei75r25', 'Responsei75r75', 'Responsei75s25', 'Responsei75s75', 'Stimulusc25n25', 'Stimulusc25r25', 'Stimulusc25r75', 'Stimulusc25s25', 'Stimulusc25s75', 'Stimulusc75r25', 'Stimulusc75r75', 'Stimulusc75s25', 'Stimulusc75s75', 'Stimulusi25n75', 'Stimulusi25r25', 'Stimulusi25r75', 'Stimulusi25s25', 'Stimulusi25s75', 'Stimulusi75n25', 'Stimulusi75n75', 'Stimulusi75r25', 'Stimulusi75r75', 'Stimulusi75s25', 'Stimulusi75s75']\n",
      "Not setting metadata\n",
      "23 matching events found\n",
      "No baseline correction applied\n",
      "0 projection items activated\n",
      "Using data from preloaded Raw for 23 events and 8193 original time points ...\n",
      "0 bad epochs dropped\n"
     ]
    },
    {
     "name": "stderr",
     "output_type": "stream",
     "text": [
      "[Parallel(n_jobs=-2)]: Using backend ThreadingBackend with 7 concurrent workers.\n",
      "[Parallel(n_jobs=-2)]: Done   4 tasks      | elapsed:    1.2s\n",
      "[Parallel(n_jobs=-2)]: Done  11 tasks      | elapsed:    2.5s\n",
      "[Parallel(n_jobs=-2)]: Done  18 tasks      | elapsed:    3.8s\n",
      "[Parallel(n_jobs=-2)]: Done  27 tasks      | elapsed:    5.2s\n",
      "[Parallel(n_jobs=-2)]: Done  36 tasks      | elapsed:    7.2s\n",
      "[Parallel(n_jobs=-2)]: Done  47 tasks      | elapsed:    8.8s\n",
      "[Parallel(n_jobs=-2)]: Done  58 tasks      | elapsed:   10.6s\n",
      "[Parallel(n_jobs=-2)]: Done  71 tasks      | elapsed:   12.7s\n",
      "[Parallel(n_jobs=-2)]: Done  84 tasks      | elapsed:   14.8s\n",
      "[Parallel(n_jobs=-2)]: Done  99 tasks      | elapsed:   17.2s\n",
      "[Parallel(n_jobs=-2)]: Done 114 tasks      | elapsed:   19.5s\n",
      "[Parallel(n_jobs=-2)]: Done 131 tasks      | elapsed:   22.5s\n",
      "[Parallel(n_jobs=-2)]: Done 148 tasks      | elapsed:   25.2s\n"
     ]
    },
    {
     "name": "stdout",
     "output_type": "stream",
     "text": [
      "Not setting metadata\n"
     ]
    },
    {
     "name": "stderr",
     "output_type": "stream",
     "text": [
      "[Parallel(n_jobs=-2)]: Done 176 out of 176 | elapsed:   29.3s finished\n"
     ]
    },
    {
     "name": "stdout",
     "output_type": "stream",
     "text": [
      "i75s25: (23, 176, 46, 410)\n",
      "Applying baseline correction (mode: ratio)\n",
      "Used Annotations descriptions: ['Responsec25n25', 'Responsec25r25', 'Responsec25r75', 'Responsec25s25', 'Responsec25s75', 'Responsec75r25', 'Responsec75r75', 'Responsec75s25', 'Responsec75s75', 'Responsei25r25', 'Responsei25r75', 'Responsei25s25', 'Responsei25s75', 'Responsei75n25', 'Responsei75n75', 'Responsei75r25', 'Responsei75r75', 'Responsei75s25', 'Responsei75s75', 'Stimulusc25n25', 'Stimulusc25r25', 'Stimulusc25r75', 'Stimulusc25s25', 'Stimulusc25s75', 'Stimulusc75r25', 'Stimulusc75r75', 'Stimulusc75s25', 'Stimulusc75s75', 'Stimulusi25n75', 'Stimulusi25r25', 'Stimulusi25r75', 'Stimulusi25s25', 'Stimulusi25s75', 'Stimulusi75n25', 'Stimulusi75n75', 'Stimulusi75r25', 'Stimulusi75r75', 'Stimulusi75s25', 'Stimulusi75s75']\n",
      "Not setting metadata\n",
      "4 matching events found\n",
      "No baseline correction applied\n",
      "0 projection items activated\n",
      "Using data from preloaded Raw for 4 events and 3073 original time points ...\n",
      "0 bad epochs dropped\n"
     ]
    },
    {
     "name": "stderr",
     "output_type": "stream",
     "text": [
      "[Parallel(n_jobs=-2)]: Using backend ThreadingBackend with 7 concurrent workers.\n",
      "[Parallel(n_jobs=-2)]: Done   4 tasks      | elapsed:    0.0s\n",
      "[Parallel(n_jobs=-2)]: Done  11 tasks      | elapsed:    0.1s\n",
      "[Parallel(n_jobs=-2)]: Done  18 tasks      | elapsed:    0.1s\n",
      "[Parallel(n_jobs=-2)]: Done  27 tasks      | elapsed:    0.2s\n",
      "[Parallel(n_jobs=-2)]: Done  36 tasks      | elapsed:    0.3s\n",
      "[Parallel(n_jobs=-2)]: Done  47 tasks      | elapsed:    0.4s\n",
      "[Parallel(n_jobs=-2)]: Done  58 tasks      | elapsed:    0.5s\n",
      "[Parallel(n_jobs=-2)]: Done  71 tasks      | elapsed:    0.6s\n",
      "[Parallel(n_jobs=-2)]: Done  84 tasks      | elapsed:    0.7s\n",
      "[Parallel(n_jobs=-2)]: Done  99 tasks      | elapsed:    0.9s\n",
      "[Parallel(n_jobs=-2)]: Done 114 tasks      | elapsed:    1.0s\n",
      "[Parallel(n_jobs=-2)]: Done 131 tasks      | elapsed:    1.2s\n",
      "[Parallel(n_jobs=-2)]: Done 148 tasks      | elapsed:    1.4s\n"
     ]
    },
    {
     "name": "stdout",
     "output_type": "stream",
     "text": [
      "Not setting metadata\n",
      "c75s25: (4, 176, 46, 154)\n",
      "Used Annotations descriptions: ['Responsec25n25', 'Responsec25r25', 'Responsec25r75', 'Responsec25s25', 'Responsec25s75', 'Responsec75r25', 'Responsec75r75', 'Responsec75s25', 'Responsec75s75', 'Responsei25r25', 'Responsei25r75', 'Responsei25s25', 'Responsei25s75', 'Responsei75n25', 'Responsei75n75', 'Responsei75r25', 'Responsei75r75', 'Responsei75s25', 'Responsei75s75', 'Stimulusc25n25', 'Stimulusc25r25', 'Stimulusc25r75', 'Stimulusc25s25', 'Stimulusc25s75', 'Stimulusc75r25', 'Stimulusc75r75', 'Stimulusc75s25', 'Stimulusc75s75', 'Stimulusi25n75', 'Stimulusi25r25', 'Stimulusi25r75', 'Stimulusi25s25', 'Stimulusi25s75', 'Stimulusi75n25', 'Stimulusi75n75', 'Stimulusi75r25', 'Stimulusi75r75', 'Stimulusi75s25', 'Stimulusi75s75']\n",
      "Not setting metadata\n",
      "4 matching events found\n",
      "No baseline correction applied\n",
      "0 projection items activated\n",
      "Using data from preloaded Raw for 4 events and 7169 original time points ...\n",
      "0 bad epochs dropped\n"
     ]
    },
    {
     "name": "stderr",
     "output_type": "stream",
     "text": [
      "[Parallel(n_jobs=-2)]: Done 176 out of 176 | elapsed:    1.6s finished\n",
      "[Parallel(n_jobs=-2)]: Using backend ThreadingBackend with 7 concurrent workers.\n",
      "[Parallel(n_jobs=-2)]: Done   4 tasks      | elapsed:    0.1s\n",
      "[Parallel(n_jobs=-2)]: Done  11 tasks      | elapsed:    0.3s\n",
      "[Parallel(n_jobs=-2)]: Done  18 tasks      | elapsed:    0.4s\n",
      "[Parallel(n_jobs=-2)]: Done  27 tasks      | elapsed:    0.7s\n",
      "[Parallel(n_jobs=-2)]: Done  36 tasks      | elapsed:    0.9s\n",
      "[Parallel(n_jobs=-2)]: Done  47 tasks      | elapsed:    1.1s\n",
      "[Parallel(n_jobs=-2)]: Done  58 tasks      | elapsed:    1.4s\n",
      "[Parallel(n_jobs=-2)]: Done  71 tasks      | elapsed:    1.8s\n",
      "[Parallel(n_jobs=-2)]: Done  84 tasks      | elapsed:    2.0s\n",
      "[Parallel(n_jobs=-2)]: Done  99 tasks      | elapsed:    2.5s\n",
      "[Parallel(n_jobs=-2)]: Done 114 tasks      | elapsed:    2.9s\n",
      "[Parallel(n_jobs=-2)]: Done 131 tasks      | elapsed:    3.3s\n",
      "[Parallel(n_jobs=-2)]: Done 148 tasks      | elapsed:    3.6s\n"
     ]
    },
    {
     "name": "stdout",
     "output_type": "stream",
     "text": [
      "Not setting metadata\n"
     ]
    },
    {
     "name": "stderr",
     "output_type": "stream",
     "text": [
      "[Parallel(n_jobs=-2)]: Done 176 out of 176 | elapsed:    4.4s finished\n"
     ]
    },
    {
     "name": "stdout",
     "output_type": "stream",
     "text": [
      "c75s25: (4, 176, 46, 359)\n",
      "Applying baseline correction (mode: ratio)\n",
      "Used Annotations descriptions: ['Responsec25n25', 'Responsec25r25', 'Responsec25r75', 'Responsec25s25', 'Responsec25s75', 'Responsec75r25', 'Responsec75r75', 'Responsec75s25', 'Responsec75s75', 'Responsei25r25', 'Responsei25r75', 'Responsei25s25', 'Responsei25s75', 'Responsei75n25', 'Responsei75n75', 'Responsei75r25', 'Responsei75r75', 'Responsei75s25', 'Responsei75s75', 'Stimulusc25n25', 'Stimulusc25r25', 'Stimulusc25r75', 'Stimulusc25s25', 'Stimulusc25s75', 'Stimulusc75r25', 'Stimulusc75r75', 'Stimulusc75s25', 'Stimulusc75s75', 'Stimulusi25n75', 'Stimulusi25r25', 'Stimulusi25r75', 'Stimulusi25s25', 'Stimulusi25s75', 'Stimulusi75n25', 'Stimulusi75n75', 'Stimulusi75r25', 'Stimulusi75r75', 'Stimulusi75s25', 'Stimulusi75s75']\n",
      "Not setting metadata\n",
      "4 matching events found\n",
      "No baseline correction applied\n",
      "0 projection items activated\n",
      "Using data from preloaded Raw for 4 events and 8193 original time points ...\n",
      "0 bad epochs dropped\n"
     ]
    },
    {
     "name": "stderr",
     "output_type": "stream",
     "text": [
      "[Parallel(n_jobs=-2)]: Using backend ThreadingBackend with 7 concurrent workers.\n",
      "[Parallel(n_jobs=-2)]: Done   4 tasks      | elapsed:    0.1s\n",
      "[Parallel(n_jobs=-2)]: Done  11 tasks      | elapsed:    0.4s\n",
      "[Parallel(n_jobs=-2)]: Done  18 tasks      | elapsed:    0.6s\n",
      "[Parallel(n_jobs=-2)]: Done  27 tasks      | elapsed:    0.9s\n",
      "[Parallel(n_jobs=-2)]: Done  36 tasks      | elapsed:    1.3s\n",
      "[Parallel(n_jobs=-2)]: Done  47 tasks      | elapsed:    1.6s\n",
      "[Parallel(n_jobs=-2)]: Done  58 tasks      | elapsed:    2.0s\n",
      "[Parallel(n_jobs=-2)]: Done  71 tasks      | elapsed:    2.4s\n",
      "[Parallel(n_jobs=-2)]: Done  84 tasks      | elapsed:    2.7s\n",
      "[Parallel(n_jobs=-2)]: Done  99 tasks      | elapsed:    3.2s\n",
      "[Parallel(n_jobs=-2)]: Done 114 tasks      | elapsed:    3.8s\n",
      "[Parallel(n_jobs=-2)]: Done 131 tasks      | elapsed:    4.3s\n",
      "[Parallel(n_jobs=-2)]: Done 148 tasks      | elapsed:    4.7s\n"
     ]
    },
    {
     "name": "stdout",
     "output_type": "stream",
     "text": [
      "Not setting metadata\n",
      "c75s25: (4, 176, 46, 410)\n",
      "Applying baseline correction (mode: ratio)\n"
     ]
    },
    {
     "name": "stderr",
     "output_type": "stream",
     "text": [
      "[Parallel(n_jobs=-2)]: Done 176 out of 176 | elapsed:    5.5s finished\n"
     ]
    },
    {
     "name": "stdout",
     "output_type": "stream",
     "text": [
      "Used Annotations descriptions: ['Responsec25n25', 'Responsec25r25', 'Responsec25r75', 'Responsec25s25', 'Responsec25s75', 'Responsec75r25', 'Responsec75r75', 'Responsec75s25', 'Responsec75s75', 'Responsei25r25', 'Responsei25r75', 'Responsei25s25', 'Responsei25s75', 'Responsei75n25', 'Responsei75n75', 'Responsei75r25', 'Responsei75r75', 'Responsei75s25', 'Responsei75s75', 'Stimulusc25n25', 'Stimulusc25r25', 'Stimulusc25r75', 'Stimulusc25s25', 'Stimulusc25s75', 'Stimulusc75r25', 'Stimulusc75r75', 'Stimulusc75s25', 'Stimulusc75s75', 'Stimulusi25n75', 'Stimulusi25r25', 'Stimulusi25r75', 'Stimulusi25s25', 'Stimulusi25s75', 'Stimulusi75n25', 'Stimulusi75n75', 'Stimulusi75r25', 'Stimulusi75r75', 'Stimulusi75s25', 'Stimulusi75s75']\n",
      "Not setting metadata\n",
      "60 matching events found\n",
      "No baseline correction applied\n",
      "0 projection items activated\n",
      "Using data from preloaded Raw for 60 events and 3073 original time points ...\n",
      "0 bad epochs dropped\n"
     ]
    },
    {
     "name": "stderr",
     "output_type": "stream",
     "text": [
      "[Parallel(n_jobs=-2)]: Using backend ThreadingBackend with 7 concurrent workers.\n",
      "[Parallel(n_jobs=-2)]: Done   4 tasks      | elapsed:    1.1s\n",
      "[Parallel(n_jobs=-2)]: Done  11 tasks      | elapsed:    2.3s\n",
      "[Parallel(n_jobs=-2)]: Done  18 tasks      | elapsed:    3.4s\n",
      "[Parallel(n_jobs=-2)]: Done  27 tasks      | elapsed:    4.6s\n",
      "[Parallel(n_jobs=-2)]: Done  36 tasks      | elapsed:    6.2s\n",
      "[Parallel(n_jobs=-2)]: Done  47 tasks      | elapsed:    7.8s\n",
      "[Parallel(n_jobs=-2)]: Done  58 tasks      | elapsed:    9.3s\n",
      "[Parallel(n_jobs=-2)]: Done  71 tasks      | elapsed:   11.1s\n",
      "[Parallel(n_jobs=-2)]: Done  84 tasks      | elapsed:   13.2s\n",
      "[Parallel(n_jobs=-2)]: Done  99 tasks      | elapsed:   15.5s\n",
      "[Parallel(n_jobs=-2)]: Done 114 tasks      | elapsed:   17.6s\n",
      "[Parallel(n_jobs=-2)]: Done 131 tasks      | elapsed:   20.1s\n",
      "[Parallel(n_jobs=-2)]: Done 148 tasks      | elapsed:   22.6s\n"
     ]
    },
    {
     "name": "stdout",
     "output_type": "stream",
     "text": [
      "Not setting metadata\n"
     ]
    },
    {
     "name": "stderr",
     "output_type": "stream",
     "text": [
      "[Parallel(n_jobs=-2)]: Done 176 out of 176 | elapsed:   26.4s finished\n"
     ]
    },
    {
     "name": "stdout",
     "output_type": "stream",
     "text": [
      "i75r25: (60, 176, 46, 154)\n",
      "Used Annotations descriptions: ['Responsec25n25', 'Responsec25r25', 'Responsec25r75', 'Responsec25s25', 'Responsec25s75', 'Responsec75r25', 'Responsec75r75', 'Responsec75s25', 'Responsec75s75', 'Responsei25r25', 'Responsei25r75', 'Responsei25s25', 'Responsei25s75', 'Responsei75n25', 'Responsei75n75', 'Responsei75r25', 'Responsei75r75', 'Responsei75s25', 'Responsei75s75', 'Stimulusc25n25', 'Stimulusc25r25', 'Stimulusc25r75', 'Stimulusc25s25', 'Stimulusc25s75', 'Stimulusc75r25', 'Stimulusc75r75', 'Stimulusc75s25', 'Stimulusc75s75', 'Stimulusi25n75', 'Stimulusi25r25', 'Stimulusi25r75', 'Stimulusi25s25', 'Stimulusi25s75', 'Stimulusi75n25', 'Stimulusi75n75', 'Stimulusi75r25', 'Stimulusi75r75', 'Stimulusi75s25', 'Stimulusi75s75']\n",
      "Not setting metadata\n",
      "60 matching events found\n",
      "No baseline correction applied\n",
      "0 projection items activated\n",
      "Using data from preloaded Raw for 60 events and 7169 original time points ...\n",
      "0 bad epochs dropped\n"
     ]
    },
    {
     "name": "stderr",
     "output_type": "stream",
     "text": [
      "[Parallel(n_jobs=-2)]: Using backend ThreadingBackend with 7 concurrent workers.\n",
      "[Parallel(n_jobs=-2)]: Done   4 tasks      | elapsed:    2.8s\n",
      "[Parallel(n_jobs=-2)]: Done  11 tasks      | elapsed:    5.4s\n",
      "[Parallel(n_jobs=-2)]: Done  18 tasks      | elapsed:    7.9s\n",
      "[Parallel(n_jobs=-2)]: Done  27 tasks      | elapsed:   10.7s\n",
      "[Parallel(n_jobs=-2)]: Done  36 tasks      | elapsed:   14.9s\n",
      "[Parallel(n_jobs=-2)]: Done  47 tasks      | elapsed:   18.1s\n",
      "[Parallel(n_jobs=-2)]: Done  58 tasks      | elapsed:   22.2s\n",
      "[Parallel(n_jobs=-2)]: Done  71 tasks      | elapsed:   26.5s\n",
      "[Parallel(n_jobs=-2)]: Done  84 tasks      | elapsed:   30.3s\n",
      "[Parallel(n_jobs=-2)]: Done  99 tasks      | elapsed:   35.8s\n",
      "[Parallel(n_jobs=-2)]: Done 114 tasks      | elapsed:   40.8s\n",
      "[Parallel(n_jobs=-2)]: Done 131 tasks      | elapsed:   47.0s\n",
      "[Parallel(n_jobs=-2)]: Done 148 tasks      | elapsed:   52.8s\n"
     ]
    },
    {
     "name": "stdout",
     "output_type": "stream",
     "text": [
      "Not setting metadata\n"
     ]
    },
    {
     "name": "stderr",
     "output_type": "stream",
     "text": [
      "[Parallel(n_jobs=-2)]: Done 176 out of 176 | elapsed:  1.0min finished\n"
     ]
    },
    {
     "name": "stdout",
     "output_type": "stream",
     "text": [
      "i75r25: (60, 176, 46, 359)\n",
      "Applying baseline correction (mode: ratio)\n",
      "Used Annotations descriptions: ['Responsec25n25', 'Responsec25r25', 'Responsec25r75', 'Responsec25s25', 'Responsec25s75', 'Responsec75r25', 'Responsec75r75', 'Responsec75s25', 'Responsec75s75', 'Responsei25r25', 'Responsei25r75', 'Responsei25s25', 'Responsei25s75', 'Responsei75n25', 'Responsei75n75', 'Responsei75r25', 'Responsei75r75', 'Responsei75s25', 'Responsei75s75', 'Stimulusc25n25', 'Stimulusc25r25', 'Stimulusc25r75', 'Stimulusc25s25', 'Stimulusc25s75', 'Stimulusc75r25', 'Stimulusc75r75', 'Stimulusc75s25', 'Stimulusc75s75', 'Stimulusi25n75', 'Stimulusi25r25', 'Stimulusi25r75', 'Stimulusi25s25', 'Stimulusi25s75', 'Stimulusi75n25', 'Stimulusi75n75', 'Stimulusi75r25', 'Stimulusi75r75', 'Stimulusi75s25', 'Stimulusi75s75']\n",
      "Not setting metadata\n",
      "60 matching events found\n",
      "No baseline correction applied\n",
      "0 projection items activated\n",
      "Using data from preloaded Raw for 60 events and 8193 original time points ...\n",
      "0 bad epochs dropped\n"
     ]
    },
    {
     "name": "stderr",
     "output_type": "stream",
     "text": [
      "[Parallel(n_jobs=-2)]: Using backend ThreadingBackend with 7 concurrent workers.\n",
      "[Parallel(n_jobs=-2)]: Done   4 tasks      | elapsed:    3.3s\n",
      "[Parallel(n_jobs=-2)]: Done  11 tasks      | elapsed:    6.5s\n",
      "[Parallel(n_jobs=-2)]: Done  18 tasks      | elapsed:    9.7s\n",
      "[Parallel(n_jobs=-2)]: Done  27 tasks      | elapsed:   13.1s\n",
      "[Parallel(n_jobs=-2)]: Done  36 tasks      | elapsed:   18.3s\n",
      "[Parallel(n_jobs=-2)]: Done  47 tasks      | elapsed:   22.5s\n",
      "[Parallel(n_jobs=-2)]: Done  58 tasks      | elapsed:   27.1s\n",
      "[Parallel(n_jobs=-2)]: Done  71 tasks      | elapsed:   32.4s\n",
      "[Parallel(n_jobs=-2)]: Done  84 tasks      | elapsed:   38.0s\n",
      "[Parallel(n_jobs=-2)]: Done  99 tasks      | elapsed:   44.4s\n",
      "[Parallel(n_jobs=-2)]: Done 114 tasks      | elapsed:   50.5s\n",
      "[Parallel(n_jobs=-2)]: Done 131 tasks      | elapsed:   59.9s\n",
      "[Parallel(n_jobs=-2)]: Done 148 tasks      | elapsed:  1.1min\n"
     ]
    },
    {
     "name": "stdout",
     "output_type": "stream",
     "text": [
      "Not setting metadata\n"
     ]
    },
    {
     "name": "stderr",
     "output_type": "stream",
     "text": [
      "[Parallel(n_jobs=-2)]: Done 176 out of 176 | elapsed:  1.3min finished\n"
     ]
    },
    {
     "name": "stdout",
     "output_type": "stream",
     "text": [
      "i75r25: (60, 176, 46, 410)\n",
      "Applying baseline correction (mode: ratio)\n",
      "Used Annotations descriptions: ['Responsec25n25', 'Responsec25r25', 'Responsec25r75', 'Responsec25s25', 'Responsec25s75', 'Responsec75r25', 'Responsec75r75', 'Responsec75s25', 'Responsec75s75', 'Responsei25r25', 'Responsei25r75', 'Responsei25s25', 'Responsei25s75', 'Responsei75n25', 'Responsei75n75', 'Responsei75r25', 'Responsei75r75', 'Responsei75s25', 'Responsei75s75', 'Stimulusc25n25', 'Stimulusc25r25', 'Stimulusc25r75', 'Stimulusc25s25', 'Stimulusc25s75', 'Stimulusc75r25', 'Stimulusc75r75', 'Stimulusc75s25', 'Stimulusc75s75', 'Stimulusi25n75', 'Stimulusi25r25', 'Stimulusi25r75', 'Stimulusi25s25', 'Stimulusi25s75', 'Stimulusi75n25', 'Stimulusi75n75', 'Stimulusi75r25', 'Stimulusi75r75', 'Stimulusi75s25', 'Stimulusi75s75']\n",
      "Not setting metadata\n",
      "24 matching events found\n",
      "No baseline correction applied\n",
      "0 projection items activated\n",
      "Using data from preloaded Raw for 24 events and 3073 original time points ...\n",
      "0 bad epochs dropped\n"
     ]
    },
    {
     "name": "stderr",
     "output_type": "stream",
     "text": [
      "[Parallel(n_jobs=-2)]: Using backend ThreadingBackend with 7 concurrent workers.\n",
      "[Parallel(n_jobs=-2)]: Done   4 tasks      | elapsed:    0.4s\n",
      "[Parallel(n_jobs=-2)]: Done  11 tasks      | elapsed:    0.8s\n",
      "[Parallel(n_jobs=-2)]: Done  18 tasks      | elapsed:    1.2s\n",
      "[Parallel(n_jobs=-2)]: Done  27 tasks      | elapsed:    1.7s\n",
      "[Parallel(n_jobs=-2)]: Done  36 tasks      | elapsed:    2.3s\n",
      "[Parallel(n_jobs=-2)]: Done  47 tasks      | elapsed:    3.0s\n",
      "[Parallel(n_jobs=-2)]: Done  58 tasks      | elapsed:    3.7s\n",
      "[Parallel(n_jobs=-2)]: Done  71 tasks      | elapsed:    4.5s\n",
      "[Parallel(n_jobs=-2)]: Done  84 tasks      | elapsed:    5.2s\n",
      "[Parallel(n_jobs=-2)]: Done  99 tasks      | elapsed:    6.2s\n",
      "[Parallel(n_jobs=-2)]: Done 114 tasks      | elapsed:    7.0s\n",
      "[Parallel(n_jobs=-2)]: Done 131 tasks      | elapsed:    8.1s\n",
      "[Parallel(n_jobs=-2)]: Done 148 tasks      | elapsed:    9.0s\n"
     ]
    },
    {
     "name": "stdout",
     "output_type": "stream",
     "text": [
      "Not setting metadata\n",
      "c75r25: (24, 176, 46, 154)\n",
      "Used Annotations descriptions: ['Responsec25n25', 'Responsec25r25', 'Responsec25r75', 'Responsec25s25', 'Responsec25s75', 'Responsec75r25', 'Responsec75r75', 'Responsec75s25', 'Responsec75s75', 'Responsei25r25', 'Responsei25r75', 'Responsei25s25', 'Responsei25s75', 'Responsei75n25', 'Responsei75n75', 'Responsei75r25', 'Responsei75r75', 'Responsei75s25', 'Responsei75s75', 'Stimulusc25n25', 'Stimulusc25r25', 'Stimulusc25r75', 'Stimulusc25s25', 'Stimulusc25s75', 'Stimulusc75r25', 'Stimulusc75r75', 'Stimulusc75s25', 'Stimulusc75s75', 'Stimulusi25n75', 'Stimulusi25r25', 'Stimulusi25r75', 'Stimulusi25s25', 'Stimulusi25s75', 'Stimulusi75n25', 'Stimulusi75n75', 'Stimulusi75r25', 'Stimulusi75r75', 'Stimulusi75s25', 'Stimulusi75s75']\n",
      "Not setting metadata\n"
     ]
    },
    {
     "name": "stderr",
     "output_type": "stream",
     "text": [
      "[Parallel(n_jobs=-2)]: Done 176 out of 176 | elapsed:   10.6s finished\n"
     ]
    },
    {
     "name": "stdout",
     "output_type": "stream",
     "text": [
      "24 matching events found\n",
      "No baseline correction applied\n",
      "0 projection items activated\n",
      "Using data from preloaded Raw for 24 events and 7169 original time points ...\n",
      "0 bad epochs dropped\n"
     ]
    },
    {
     "name": "stderr",
     "output_type": "stream",
     "text": [
      "[Parallel(n_jobs=-2)]: Using backend ThreadingBackend with 7 concurrent workers.\n",
      "[Parallel(n_jobs=-2)]: Done   4 tasks      | elapsed:    1.0s\n",
      "[Parallel(n_jobs=-2)]: Done  11 tasks      | elapsed:    2.0s\n",
      "[Parallel(n_jobs=-2)]: Done  18 tasks      | elapsed:    3.1s\n",
      "[Parallel(n_jobs=-2)]: Done  27 tasks      | elapsed:    4.1s\n",
      "[Parallel(n_jobs=-2)]: Done  36 tasks      | elapsed:    6.0s\n",
      "[Parallel(n_jobs=-2)]: Done  47 tasks      | elapsed:    7.2s\n",
      "[Parallel(n_jobs=-2)]: Done  58 tasks      | elapsed:    9.2s\n",
      "[Parallel(n_jobs=-2)]: Done  71 tasks      | elapsed:   10.4s\n",
      "[Parallel(n_jobs=-2)]: Done  84 tasks      | elapsed:   12.3s\n",
      "[Parallel(n_jobs=-2)]: Done  99 tasks      | elapsed:   14.3s\n",
      "[Parallel(n_jobs=-2)]: Done 114 tasks      | elapsed:   16.6s\n",
      "[Parallel(n_jobs=-2)]: Done 131 tasks      | elapsed:   19.4s\n",
      "[Parallel(n_jobs=-2)]: Done 148 tasks      | elapsed:   21.5s\n"
     ]
    },
    {
     "name": "stdout",
     "output_type": "stream",
     "text": [
      "Not setting metadata\n"
     ]
    },
    {
     "name": "stderr",
     "output_type": "stream",
     "text": [
      "[Parallel(n_jobs=-2)]: Done 176 out of 176 | elapsed:   25.4s finished\n"
     ]
    },
    {
     "name": "stdout",
     "output_type": "stream",
     "text": [
      "c75r25: (24, 176, 46, 359)\n",
      "Applying baseline correction (mode: ratio)\n",
      "Used Annotations descriptions: ['Responsec25n25', 'Responsec25r25', 'Responsec25r75', 'Responsec25s25', 'Responsec25s75', 'Responsec75r25', 'Responsec75r75', 'Responsec75s25', 'Responsec75s75', 'Responsei25r25', 'Responsei25r75', 'Responsei25s25', 'Responsei25s75', 'Responsei75n25', 'Responsei75n75', 'Responsei75r25', 'Responsei75r75', 'Responsei75s25', 'Responsei75s75', 'Stimulusc25n25', 'Stimulusc25r25', 'Stimulusc25r75', 'Stimulusc25s25', 'Stimulusc25s75', 'Stimulusc75r25', 'Stimulusc75r75', 'Stimulusc75s25', 'Stimulusc75s75', 'Stimulusi25n75', 'Stimulusi25r25', 'Stimulusi25r75', 'Stimulusi25s25', 'Stimulusi25s75', 'Stimulusi75n25', 'Stimulusi75n75', 'Stimulusi75r25', 'Stimulusi75r75', 'Stimulusi75s25', 'Stimulusi75s75']\n",
      "Not setting metadata\n",
      "24 matching events found\n",
      "No baseline correction applied\n",
      "0 projection items activated\n",
      "Using data from preloaded Raw for 24 events and 8193 original time points ...\n",
      "0 bad epochs dropped\n"
     ]
    },
    {
     "name": "stderr",
     "output_type": "stream",
     "text": [
      "[Parallel(n_jobs=-2)]: Using backend ThreadingBackend with 7 concurrent workers.\n",
      "[Parallel(n_jobs=-2)]: Done   4 tasks      | elapsed:    1.4s\n",
      "[Parallel(n_jobs=-2)]: Done  11 tasks      | elapsed:    2.7s\n",
      "[Parallel(n_jobs=-2)]: Done  18 tasks      | elapsed:    4.0s\n",
      "[Parallel(n_jobs=-2)]: Done  27 tasks      | elapsed:    5.4s\n",
      "[Parallel(n_jobs=-2)]: Done  36 tasks      | elapsed:    7.3s\n",
      "[Parallel(n_jobs=-2)]: Done  47 tasks      | elapsed:    9.5s\n",
      "[Parallel(n_jobs=-2)]: Done  58 tasks      | elapsed:   11.4s\n",
      "[Parallel(n_jobs=-2)]: Done  71 tasks      | elapsed:   13.6s\n",
      "[Parallel(n_jobs=-2)]: Done  84 tasks      | elapsed:   15.6s\n",
      "[Parallel(n_jobs=-2)]: Done  99 tasks      | elapsed:   18.3s\n",
      "[Parallel(n_jobs=-2)]: Done 114 tasks      | elapsed:   20.7s\n",
      "[Parallel(n_jobs=-2)]: Done 131 tasks      | elapsed:   23.8s\n",
      "[Parallel(n_jobs=-2)]: Done 148 tasks      | elapsed:   26.5s\n"
     ]
    },
    {
     "name": "stdout",
     "output_type": "stream",
     "text": [
      "Not setting metadata\n"
     ]
    },
    {
     "name": "stderr",
     "output_type": "stream",
     "text": [
      "[Parallel(n_jobs=-2)]: Done 176 out of 176 | elapsed:   31.0s finished\n"
     ]
    },
    {
     "name": "stdout",
     "output_type": "stream",
     "text": [
      "c75r25: (24, 176, 46, 410)\n",
      "Applying baseline correction (mode: ratio)\n",
      "Used Annotations descriptions: ['Responsec25n25', 'Responsec25r25', 'Responsec25r75', 'Responsec25s25', 'Responsec25s75', 'Responsec75r25', 'Responsec75r75', 'Responsec75s25', 'Responsec75s75', 'Responsei25r25', 'Responsei25r75', 'Responsei25s25', 'Responsei25s75', 'Responsei75n25', 'Responsei75n75', 'Responsei75r25', 'Responsei75r75', 'Responsei75s25', 'Responsei75s75', 'Stimulusc25n25', 'Stimulusc25r25', 'Stimulusc25r75', 'Stimulusc25s25', 'Stimulusc25s75', 'Stimulusc75r25', 'Stimulusc75r75', 'Stimulusc75s25', 'Stimulusc75s75', 'Stimulusi25n75', 'Stimulusi25r25', 'Stimulusi25r75', 'Stimulusi25s25', 'Stimulusi25s75', 'Stimulusi75n25', 'Stimulusi75n75', 'Stimulusi75r25', 'Stimulusi75r75', 'Stimulusi75s25', 'Stimulusi75s75']\n",
      "Not setting metadata\n",
      "66 matching events found\n",
      "No baseline correction applied\n",
      "0 projection items activated\n",
      "Using data from preloaded Raw for 66 events and 3073 original time points ...\n",
      "0 bad epochs dropped\n"
     ]
    },
    {
     "name": "stderr",
     "output_type": "stream",
     "text": [
      "[Parallel(n_jobs=-2)]: Using backend ThreadingBackend with 7 concurrent workers.\n",
      "[Parallel(n_jobs=-2)]: Done   4 tasks      | elapsed:    1.2s\n",
      "[Parallel(n_jobs=-2)]: Done  11 tasks      | elapsed:    2.5s\n",
      "[Parallel(n_jobs=-2)]: Done  18 tasks      | elapsed:    3.8s\n",
      "[Parallel(n_jobs=-2)]: Done  27 tasks      | elapsed:    5.3s\n",
      "[Parallel(n_jobs=-2)]: Done  36 tasks      | elapsed:    7.3s\n",
      "[Parallel(n_jobs=-2)]: Done  47 tasks      | elapsed:    8.8s\n",
      "[Parallel(n_jobs=-2)]: Done  58 tasks      | elapsed:   10.7s\n",
      "[Parallel(n_jobs=-2)]: Done  71 tasks      | elapsed:   12.5s\n",
      "[Parallel(n_jobs=-2)]: Done  84 tasks      | elapsed:   14.6s\n",
      "[Parallel(n_jobs=-2)]: Done  99 tasks      | elapsed:   16.8s\n",
      "[Parallel(n_jobs=-2)]: Done 114 tasks      | elapsed:   19.5s\n",
      "[Parallel(n_jobs=-2)]: Done 131 tasks      | elapsed:   22.4s\n",
      "[Parallel(n_jobs=-2)]: Done 148 tasks      | elapsed:   24.8s\n"
     ]
    },
    {
     "name": "stdout",
     "output_type": "stream",
     "text": [
      "Not setting metadata\n"
     ]
    },
    {
     "name": "stderr",
     "output_type": "stream",
     "text": [
      "[Parallel(n_jobs=-2)]: Done 176 out of 176 | elapsed:   29.1s finished\n"
     ]
    },
    {
     "name": "stdout",
     "output_type": "stream",
     "text": [
      "i75s75: (66, 176, 46, 154)\n",
      "Used Annotations descriptions: ['Responsec25n25', 'Responsec25r25', 'Responsec25r75', 'Responsec25s25', 'Responsec25s75', 'Responsec75r25', 'Responsec75r75', 'Responsec75s25', 'Responsec75s75', 'Responsei25r25', 'Responsei25r75', 'Responsei25s25', 'Responsei25s75', 'Responsei75n25', 'Responsei75n75', 'Responsei75r25', 'Responsei75r75', 'Responsei75s25', 'Responsei75s75', 'Stimulusc25n25', 'Stimulusc25r25', 'Stimulusc25r75', 'Stimulusc25s25', 'Stimulusc25s75', 'Stimulusc75r25', 'Stimulusc75r75', 'Stimulusc75s25', 'Stimulusc75s75', 'Stimulusi25n75', 'Stimulusi25r25', 'Stimulusi25r75', 'Stimulusi25s25', 'Stimulusi25s75', 'Stimulusi75n25', 'Stimulusi75n75', 'Stimulusi75r25', 'Stimulusi75r75', 'Stimulusi75s25', 'Stimulusi75s75']\n",
      "Not setting metadata\n",
      "66 matching events found\n",
      "No baseline correction applied\n",
      "0 projection items activated\n",
      "Using data from preloaded Raw for 66 events and 7169 original time points ...\n",
      "0 bad epochs dropped\n"
     ]
    },
    {
     "name": "stderr",
     "output_type": "stream",
     "text": [
      "[Parallel(n_jobs=-2)]: Using backend ThreadingBackend with 7 concurrent workers.\n",
      "[Parallel(n_jobs=-2)]: Done   4 tasks      | elapsed:    3.0s\n",
      "[Parallel(n_jobs=-2)]: Done  11 tasks      | elapsed:    6.0s\n",
      "[Parallel(n_jobs=-2)]: Done  18 tasks      | elapsed:    8.9s\n",
      "[Parallel(n_jobs=-2)]: Done  27 tasks      | elapsed:   11.9s\n",
      "[Parallel(n_jobs=-2)]: Done  36 tasks      | elapsed:   16.5s\n",
      "[Parallel(n_jobs=-2)]: Done  47 tasks      | elapsed:   20.1s\n",
      "[Parallel(n_jobs=-2)]: Done  58 tasks      | elapsed:   24.4s\n",
      "[Parallel(n_jobs=-2)]: Done  71 tasks      | elapsed:   29.1s\n",
      "[Parallel(n_jobs=-2)]: Done  84 tasks      | elapsed:   34.2s\n",
      "[Parallel(n_jobs=-2)]: Done  99 tasks      | elapsed:   40.0s\n",
      "[Parallel(n_jobs=-2)]: Done 114 tasks      | elapsed:   45.6s\n",
      "[Parallel(n_jobs=-2)]: Done 131 tasks      | elapsed:   53.2s\n",
      "[Parallel(n_jobs=-2)]: Done 148 tasks      | elapsed:   59.7s\n"
     ]
    },
    {
     "name": "stdout",
     "output_type": "stream",
     "text": [
      "Not setting metadata\n"
     ]
    },
    {
     "name": "stderr",
     "output_type": "stream",
     "text": [
      "[Parallel(n_jobs=-2)]: Done 176 out of 176 | elapsed:  1.2min finished\n"
     ]
    },
    {
     "name": "stdout",
     "output_type": "stream",
     "text": [
      "i75s75: (66, 176, 46, 359)\n",
      "Applying baseline correction (mode: ratio)\n",
      "Used Annotations descriptions: ['Responsec25n25', 'Responsec25r25', 'Responsec25r75', 'Responsec25s25', 'Responsec25s75', 'Responsec75r25', 'Responsec75r75', 'Responsec75s25', 'Responsec75s75', 'Responsei25r25', 'Responsei25r75', 'Responsei25s25', 'Responsei25s75', 'Responsei75n25', 'Responsei75n75', 'Responsei75r25', 'Responsei75r75', 'Responsei75s25', 'Responsei75s75', 'Stimulusc25n25', 'Stimulusc25r25', 'Stimulusc25r75', 'Stimulusc25s25', 'Stimulusc25s75', 'Stimulusc75r25', 'Stimulusc75r75', 'Stimulusc75s25', 'Stimulusc75s75', 'Stimulusi25n75', 'Stimulusi25r25', 'Stimulusi25r75', 'Stimulusi25s25', 'Stimulusi25s75', 'Stimulusi75n25', 'Stimulusi75n75', 'Stimulusi75r25', 'Stimulusi75r75', 'Stimulusi75s25', 'Stimulusi75s75']\n",
      "Not setting metadata\n",
      "66 matching events found\n",
      "No baseline correction applied\n",
      "0 projection items activated\n",
      "Using data from preloaded Raw for 66 events and 8193 original time points ...\n",
      "0 bad epochs dropped\n"
     ]
    },
    {
     "name": "stderr",
     "output_type": "stream",
     "text": [
      "[Parallel(n_jobs=-2)]: Using backend ThreadingBackend with 7 concurrent workers.\n",
      "[Parallel(n_jobs=-2)]: Done   4 tasks      | elapsed:    3.6s\n",
      "[Parallel(n_jobs=-2)]: Done  11 tasks      | elapsed:    7.4s\n",
      "[Parallel(n_jobs=-2)]: Done  18 tasks      | elapsed:   10.7s\n",
      "[Parallel(n_jobs=-2)]: Done  27 tasks      | elapsed:   14.5s\n",
      "[Parallel(n_jobs=-2)]: Done  36 tasks      | elapsed:   20.5s\n",
      "[Parallel(n_jobs=-2)]: Done  47 tasks      | elapsed:   25.5s\n",
      "[Parallel(n_jobs=-2)]: Done  58 tasks      | elapsed:   31.6s\n",
      "[Parallel(n_jobs=-2)]: Done  71 tasks      | elapsed:   36.3s\n",
      "[Parallel(n_jobs=-2)]: Done  84 tasks      | elapsed:   42.9s\n",
      "[Parallel(n_jobs=-2)]: Done  99 tasks      | elapsed:   49.7s\n",
      "[Parallel(n_jobs=-2)]: Done 114 tasks      | elapsed:   56.6s\n",
      "[Parallel(n_jobs=-2)]: Done 131 tasks      | elapsed:  1.1min\n",
      "[Parallel(n_jobs=-2)]: Done 148 tasks      | elapsed:  1.2min\n"
     ]
    },
    {
     "name": "stdout",
     "output_type": "stream",
     "text": [
      "Not setting metadata\n"
     ]
    },
    {
     "name": "stderr",
     "output_type": "stream",
     "text": [
      "[Parallel(n_jobs=-2)]: Done 176 out of 176 | elapsed:  1.4min finished\n"
     ]
    },
    {
     "name": "stdout",
     "output_type": "stream",
     "text": [
      "i75s75: (66, 176, 46, 410)\n",
      "Applying baseline correction (mode: ratio)\n",
      "Used Annotations descriptions: ['Responsec25n25', 'Responsec25r25', 'Responsec25r75', 'Responsec25s25', 'Responsec25s75', 'Responsec75r25', 'Responsec75r75', 'Responsec75s25', 'Responsec75s75', 'Responsei25r25', 'Responsei25r75', 'Responsei25s25', 'Responsei25s75', 'Responsei75n25', 'Responsei75n75', 'Responsei75r25', 'Responsei75r75', 'Responsei75s25', 'Responsei75s75', 'Stimulusc25n25', 'Stimulusc25r25', 'Stimulusc25r75', 'Stimulusc25s25', 'Stimulusc25s75', 'Stimulusc75r25', 'Stimulusc75r75', 'Stimulusc75s25', 'Stimulusc75s75', 'Stimulusi25n75', 'Stimulusi25r25', 'Stimulusi25r75', 'Stimulusi25s25', 'Stimulusi25s75', 'Stimulusi75n25', 'Stimulusi75n75', 'Stimulusi75r25', 'Stimulusi75r75', 'Stimulusi75s25', 'Stimulusi75s75']\n",
      "Not setting metadata\n",
      "17 matching events found\n",
      "No baseline correction applied\n",
      "0 projection items activated\n",
      "Using data from preloaded Raw for 17 events and 3073 original time points ...\n",
      "0 bad epochs dropped\n"
     ]
    },
    {
     "name": "stderr",
     "output_type": "stream",
     "text": [
      "[Parallel(n_jobs=-2)]: Using backend ThreadingBackend with 7 concurrent workers.\n",
      "[Parallel(n_jobs=-2)]: Done   4 tasks      | elapsed:    0.3s\n",
      "[Parallel(n_jobs=-2)]: Done  11 tasks      | elapsed:    0.5s\n",
      "[Parallel(n_jobs=-2)]: Done  18 tasks      | elapsed:    0.9s\n",
      "[Parallel(n_jobs=-2)]: Done  27 tasks      | elapsed:    1.2s\n",
      "[Parallel(n_jobs=-2)]: Done  36 tasks      | elapsed:    1.6s\n",
      "[Parallel(n_jobs=-2)]: Done  47 tasks      | elapsed:    2.3s\n",
      "[Parallel(n_jobs=-2)]: Done  58 tasks      | elapsed:    2.8s\n",
      "[Parallel(n_jobs=-2)]: Done  71 tasks      | elapsed:    3.2s\n",
      "[Parallel(n_jobs=-2)]: Done  84 tasks      | elapsed:    3.8s\n",
      "[Parallel(n_jobs=-2)]: Done  99 tasks      | elapsed:    4.5s\n",
      "[Parallel(n_jobs=-2)]: Done 114 tasks      | elapsed:    5.2s\n",
      "[Parallel(n_jobs=-2)]: Done 131 tasks      | elapsed:    6.0s\n",
      "[Parallel(n_jobs=-2)]: Done 148 tasks      | elapsed:    6.7s\n"
     ]
    },
    {
     "name": "stdout",
     "output_type": "stream",
     "text": [
      "Not setting metadata\n",
      "c75s75: (17, 176, 46, 154)\n",
      "Used Annotations descriptions: ['Responsec25n25', 'Responsec25r25', 'Responsec25r75', 'Responsec25s25', 'Responsec25s75', 'Responsec75r25', 'Responsec75r75', 'Responsec75s25', 'Responsec75s75', 'Responsei25r25', 'Responsei25r75', 'Responsei25s25', 'Responsei25s75', 'Responsei75n25', 'Responsei75n75', 'Responsei75r25', 'Responsei75r75', 'Responsei75s25', 'Responsei75s75', 'Stimulusc25n25', 'Stimulusc25r25', 'Stimulusc25r75', 'Stimulusc25s25', 'Stimulusc25s75', 'Stimulusc75r25', 'Stimulusc75r75', 'Stimulusc75s25', 'Stimulusc75s75', 'Stimulusi25n75', 'Stimulusi25r25', 'Stimulusi25r75', 'Stimulusi25s25', 'Stimulusi25s75', 'Stimulusi75n25', 'Stimulusi75n75', 'Stimulusi75r25', 'Stimulusi75r75', 'Stimulusi75s25', 'Stimulusi75s75']\n",
      "Not setting metadata\n",
      "17 matching events found\n",
      "No baseline correction applied\n",
      "0 projection items activated\n",
      "Using data from preloaded Raw for 17 events and 7169 original time points ...\n"
     ]
    },
    {
     "name": "stderr",
     "output_type": "stream",
     "text": [
      "[Parallel(n_jobs=-2)]: Done 176 out of 176 | elapsed:    7.8s finished\n"
     ]
    },
    {
     "name": "stdout",
     "output_type": "stream",
     "text": [
      "0 bad epochs dropped\n"
     ]
    },
    {
     "name": "stderr",
     "output_type": "stream",
     "text": [
      "[Parallel(n_jobs=-2)]: Using backend ThreadingBackend with 7 concurrent workers.\n",
      "[Parallel(n_jobs=-2)]: Done   4 tasks      | elapsed:    0.7s\n",
      "[Parallel(n_jobs=-2)]: Done  11 tasks      | elapsed:    1.4s\n",
      "[Parallel(n_jobs=-2)]: Done  18 tasks      | elapsed:    2.1s\n",
      "[Parallel(n_jobs=-2)]: Done  27 tasks      | elapsed:    2.9s\n",
      "[Parallel(n_jobs=-2)]: Done  36 tasks      | elapsed:    3.8s\n",
      "[Parallel(n_jobs=-2)]: Done  47 tasks      | elapsed:    5.0s\n",
      "[Parallel(n_jobs=-2)]: Done  58 tasks      | elapsed:    6.3s\n",
      "[Parallel(n_jobs=-2)]: Done  71 tasks      | elapsed:    7.4s\n",
      "[Parallel(n_jobs=-2)]: Done  84 tasks      | elapsed:    8.8s\n",
      "[Parallel(n_jobs=-2)]: Done  99 tasks      | elapsed:   10.3s\n",
      "[Parallel(n_jobs=-2)]: Done 114 tasks      | elapsed:   11.8s\n",
      "[Parallel(n_jobs=-2)]: Done 131 tasks      | elapsed:   13.5s\n",
      "[Parallel(n_jobs=-2)]: Done 148 tasks      | elapsed:   15.2s\n"
     ]
    },
    {
     "name": "stdout",
     "output_type": "stream",
     "text": [
      "Not setting metadata\n"
     ]
    },
    {
     "name": "stderr",
     "output_type": "stream",
     "text": [
      "[Parallel(n_jobs=-2)]: Done 176 out of 176 | elapsed:   17.8s finished\n"
     ]
    },
    {
     "name": "stdout",
     "output_type": "stream",
     "text": [
      "c75s75: (17, 176, 46, 359)\n",
      "Applying baseline correction (mode: ratio)\n",
      "Used Annotations descriptions: ['Responsec25n25', 'Responsec25r25', 'Responsec25r75', 'Responsec25s25', 'Responsec25s75', 'Responsec75r25', 'Responsec75r75', 'Responsec75s25', 'Responsec75s75', 'Responsei25r25', 'Responsei25r75', 'Responsei25s25', 'Responsei25s75', 'Responsei75n25', 'Responsei75n75', 'Responsei75r25', 'Responsei75r75', 'Responsei75s25', 'Responsei75s75', 'Stimulusc25n25', 'Stimulusc25r25', 'Stimulusc25r75', 'Stimulusc25s25', 'Stimulusc25s75', 'Stimulusc75r25', 'Stimulusc75r75', 'Stimulusc75s25', 'Stimulusc75s75', 'Stimulusi25n75', 'Stimulusi25r25', 'Stimulusi25r75', 'Stimulusi25s25', 'Stimulusi25s75', 'Stimulusi75n25', 'Stimulusi75n75', 'Stimulusi75r25', 'Stimulusi75r75', 'Stimulusi75s25', 'Stimulusi75s75']\n",
      "Not setting metadata\n",
      "17 matching events found\n",
      "No baseline correction applied\n",
      "0 projection items activated\n",
      "Using data from preloaded Raw for 17 events and 8193 original time points ...\n",
      "0 bad epochs dropped\n"
     ]
    },
    {
     "name": "stderr",
     "output_type": "stream",
     "text": [
      "[Parallel(n_jobs=-2)]: Using backend ThreadingBackend with 7 concurrent workers.\n",
      "[Parallel(n_jobs=-2)]: Done   4 tasks      | elapsed:    0.9s\n",
      "[Parallel(n_jobs=-2)]: Done  11 tasks      | elapsed:    1.8s\n",
      "[Parallel(n_jobs=-2)]: Done  18 tasks      | elapsed:    2.7s\n",
      "[Parallel(n_jobs=-2)]: Done  27 tasks      | elapsed:    3.6s\n",
      "[Parallel(n_jobs=-2)]: Done  36 tasks      | elapsed:    4.9s\n",
      "[Parallel(n_jobs=-2)]: Done  47 tasks      | elapsed:    6.2s\n",
      "[Parallel(n_jobs=-2)]: Done  58 tasks      | elapsed:    7.5s\n",
      "[Parallel(n_jobs=-2)]: Done  71 tasks      | elapsed:    9.0s\n",
      "[Parallel(n_jobs=-2)]: Done  84 tasks      | elapsed:   10.6s\n",
      "[Parallel(n_jobs=-2)]: Done  99 tasks      | elapsed:   12.3s\n",
      "[Parallel(n_jobs=-2)]: Done 114 tasks      | elapsed:   14.1s\n",
      "[Parallel(n_jobs=-2)]: Done 131 tasks      | elapsed:   16.3s\n",
      "[Parallel(n_jobs=-2)]: Done 148 tasks      | elapsed:   18.3s\n"
     ]
    },
    {
     "name": "stdout",
     "output_type": "stream",
     "text": [
      "Not setting metadata\n"
     ]
    },
    {
     "name": "stderr",
     "output_type": "stream",
     "text": [
      "[Parallel(n_jobs=-2)]: Done 176 out of 176 | elapsed:   21.4s finished\n"
     ]
    },
    {
     "name": "stdout",
     "output_type": "stream",
     "text": [
      "c75s75: (17, 176, 46, 410)\n",
      "Applying baseline correction (mode: ratio)\n",
      "Used Annotations descriptions: ['Responsec25n25', 'Responsec25r25', 'Responsec25r75', 'Responsec25s25', 'Responsec25s75', 'Responsec75r25', 'Responsec75r75', 'Responsec75s25', 'Responsec75s75', 'Responsei25r25', 'Responsei25r75', 'Responsei25s25', 'Responsei25s75', 'Responsei75n25', 'Responsei75n75', 'Responsei75r25', 'Responsei75r75', 'Responsei75s25', 'Responsei75s75', 'Stimulusc25n25', 'Stimulusc25r25', 'Stimulusc25r75', 'Stimulusc25s25', 'Stimulusc25s75', 'Stimulusc75r25', 'Stimulusc75r75', 'Stimulusc75s25', 'Stimulusc75s75', 'Stimulusi25n75', 'Stimulusi25r25', 'Stimulusi25r75', 'Stimulusi25s25', 'Stimulusi25s75', 'Stimulusi75n25', 'Stimulusi75n75', 'Stimulusi75r25', 'Stimulusi75r75', 'Stimulusi75s25', 'Stimulusi75s75']\n",
      "Not setting metadata\n",
      "17 matching events found\n",
      "No baseline correction applied\n",
      "0 projection items activated\n",
      "Using data from preloaded Raw for 17 events and 3073 original time points ...\n",
      "0 bad epochs dropped\n"
     ]
    },
    {
     "name": "stderr",
     "output_type": "stream",
     "text": [
      "[Parallel(n_jobs=-2)]: Using backend ThreadingBackend with 7 concurrent workers.\n",
      "[Parallel(n_jobs=-2)]: Done   4 tasks      | elapsed:    0.2s\n",
      "[Parallel(n_jobs=-2)]: Done  11 tasks      | elapsed:    0.6s\n",
      "[Parallel(n_jobs=-2)]: Done  18 tasks      | elapsed:    0.9s\n",
      "[Parallel(n_jobs=-2)]: Done  27 tasks      | elapsed:    1.2s\n",
      "[Parallel(n_jobs=-2)]: Done  36 tasks      | elapsed:    1.6s\n",
      "[Parallel(n_jobs=-2)]: Done  47 tasks      | elapsed:    2.1s\n",
      "[Parallel(n_jobs=-2)]: Done  58 tasks      | elapsed:    2.6s\n",
      "[Parallel(n_jobs=-2)]: Done  71 tasks      | elapsed:    3.1s\n",
      "[Parallel(n_jobs=-2)]: Done  84 tasks      | elapsed:    3.7s\n",
      "[Parallel(n_jobs=-2)]: Done  99 tasks      | elapsed:    4.4s\n",
      "[Parallel(n_jobs=-2)]: Done 114 tasks      | elapsed:    5.0s\n",
      "[Parallel(n_jobs=-2)]: Done 131 tasks      | elapsed:    5.7s\n",
      "[Parallel(n_jobs=-2)]: Done 148 tasks      | elapsed:    6.5s\n"
     ]
    },
    {
     "name": "stdout",
     "output_type": "stream",
     "text": [
      "Not setting metadata\n",
      "i75r75: (17, 176, 46, 154)\n",
      "Used Annotations descriptions: ['Responsec25n25', 'Responsec25r25', 'Responsec25r75', 'Responsec25s25', 'Responsec25s75', 'Responsec75r25', 'Responsec75r75', 'Responsec75s25', 'Responsec75s75', 'Responsei25r25', 'Responsei25r75', 'Responsei25s25', 'Responsei25s75', 'Responsei75n25', 'Responsei75n75', 'Responsei75r25', 'Responsei75r75', 'Responsei75s25', 'Responsei75s75', 'Stimulusc25n25', 'Stimulusc25r25', 'Stimulusc25r75', 'Stimulusc25s25', 'Stimulusc25s75', 'Stimulusc75r25', 'Stimulusc75r75', 'Stimulusc75s25', 'Stimulusc75s75', 'Stimulusi25n75', 'Stimulusi25r25', 'Stimulusi25r75', 'Stimulusi25s25', 'Stimulusi25s75', 'Stimulusi75n25', 'Stimulusi75n75', 'Stimulusi75r25', 'Stimulusi75r75', 'Stimulusi75s25', 'Stimulusi75s75']\n",
      "Not setting metadata\n",
      "17 matching events found\n"
     ]
    },
    {
     "name": "stderr",
     "output_type": "stream",
     "text": [
      "[Parallel(n_jobs=-2)]: Done 176 out of 176 | elapsed:    7.6s finished\n"
     ]
    },
    {
     "name": "stdout",
     "output_type": "stream",
     "text": [
      "No baseline correction applied\n",
      "0 projection items activated\n",
      "Using data from preloaded Raw for 17 events and 7169 original time points ...\n",
      "0 bad epochs dropped\n"
     ]
    },
    {
     "name": "stderr",
     "output_type": "stream",
     "text": [
      "[Parallel(n_jobs=-2)]: Using backend ThreadingBackend with 7 concurrent workers.\n",
      "[Parallel(n_jobs=-2)]: Done   4 tasks      | elapsed:    0.8s\n",
      "[Parallel(n_jobs=-2)]: Done  11 tasks      | elapsed:    1.5s\n",
      "[Parallel(n_jobs=-2)]: Done  18 tasks      | elapsed:    2.2s\n",
      "[Parallel(n_jobs=-2)]: Done  27 tasks      | elapsed:    3.0s\n",
      "[Parallel(n_jobs=-2)]: Done  36 tasks      | elapsed:    4.0s\n",
      "[Parallel(n_jobs=-2)]: Done  47 tasks      | elapsed:    5.0s\n",
      "[Parallel(n_jobs=-2)]: Done  58 tasks      | elapsed:    6.1s\n",
      "[Parallel(n_jobs=-2)]: Done  71 tasks      | elapsed:    7.5s\n",
      "[Parallel(n_jobs=-2)]: Done  84 tasks      | elapsed:    8.7s\n",
      "[Parallel(n_jobs=-2)]: Done  99 tasks      | elapsed:   10.3s\n",
      "[Parallel(n_jobs=-2)]: Done 114 tasks      | elapsed:   11.8s\n",
      "[Parallel(n_jobs=-2)]: Done 131 tasks      | elapsed:   13.5s\n",
      "[Parallel(n_jobs=-2)]: Done 148 tasks      | elapsed:   15.5s\n"
     ]
    },
    {
     "name": "stdout",
     "output_type": "stream",
     "text": [
      "Not setting metadata\n"
     ]
    },
    {
     "name": "stderr",
     "output_type": "stream",
     "text": [
      "[Parallel(n_jobs=-2)]: Done 176 out of 176 | elapsed:   18.1s finished\n"
     ]
    },
    {
     "name": "stdout",
     "output_type": "stream",
     "text": [
      "i75r75: (17, 176, 46, 359)\n",
      "Applying baseline correction (mode: ratio)\n",
      "Used Annotations descriptions: ['Responsec25n25', 'Responsec25r25', 'Responsec25r75', 'Responsec25s25', 'Responsec25s75', 'Responsec75r25', 'Responsec75r75', 'Responsec75s25', 'Responsec75s75', 'Responsei25r25', 'Responsei25r75', 'Responsei25s25', 'Responsei25s75', 'Responsei75n25', 'Responsei75n75', 'Responsei75r25', 'Responsei75r75', 'Responsei75s25', 'Responsei75s75', 'Stimulusc25n25', 'Stimulusc25r25', 'Stimulusc25r75', 'Stimulusc25s25', 'Stimulusc25s75', 'Stimulusc75r25', 'Stimulusc75r75', 'Stimulusc75s25', 'Stimulusc75s75', 'Stimulusi25n75', 'Stimulusi25r25', 'Stimulusi25r75', 'Stimulusi25s25', 'Stimulusi25s75', 'Stimulusi75n25', 'Stimulusi75n75', 'Stimulusi75r25', 'Stimulusi75r75', 'Stimulusi75s25', 'Stimulusi75s75']\n",
      "Not setting metadata\n",
      "17 matching events found\n",
      "No baseline correction applied\n",
      "0 projection items activated\n",
      "Using data from preloaded Raw for 17 events and 8193 original time points ...\n",
      "0 bad epochs dropped\n"
     ]
    },
    {
     "name": "stderr",
     "output_type": "stream",
     "text": [
      "[Parallel(n_jobs=-2)]: Using backend ThreadingBackend with 7 concurrent workers.\n",
      "[Parallel(n_jobs=-2)]: Done   4 tasks      | elapsed:    0.9s\n",
      "[Parallel(n_jobs=-2)]: Done  11 tasks      | elapsed:    1.9s\n",
      "[Parallel(n_jobs=-2)]: Done  18 tasks      | elapsed:    2.7s\n",
      "[Parallel(n_jobs=-2)]: Done  27 tasks      | elapsed:    3.8s\n",
      "[Parallel(n_jobs=-2)]: Done  36 tasks      | elapsed:    5.1s\n",
      "[Parallel(n_jobs=-2)]: Done  47 tasks      | elapsed:    6.4s\n",
      "[Parallel(n_jobs=-2)]: Done  58 tasks      | elapsed:    7.7s\n",
      "[Parallel(n_jobs=-2)]: Done  71 tasks      | elapsed:    9.2s\n",
      "[Parallel(n_jobs=-2)]: Done  84 tasks      | elapsed:   10.9s\n",
      "[Parallel(n_jobs=-2)]: Done  99 tasks      | elapsed:   12.6s\n",
      "[Parallel(n_jobs=-2)]: Done 114 tasks      | elapsed:   14.3s\n",
      "[Parallel(n_jobs=-2)]: Done 131 tasks      | elapsed:   16.5s\n",
      "[Parallel(n_jobs=-2)]: Done 148 tasks      | elapsed:   18.6s\n"
     ]
    },
    {
     "name": "stdout",
     "output_type": "stream",
     "text": [
      "Not setting metadata\n"
     ]
    },
    {
     "name": "stderr",
     "output_type": "stream",
     "text": [
      "[Parallel(n_jobs=-2)]: Done 176 out of 176 | elapsed:   21.8s finished\n"
     ]
    },
    {
     "name": "stdout",
     "output_type": "stream",
     "text": [
      "i75r75: (17, 176, 46, 410)\n",
      "Applying baseline correction (mode: ratio)\n",
      "Used Annotations descriptions: ['Responsec25n25', 'Responsec25r25', 'Responsec25r75', 'Responsec25s25', 'Responsec25s75', 'Responsec75r25', 'Responsec75r75', 'Responsec75s25', 'Responsec75s75', 'Responsei25r25', 'Responsei25r75', 'Responsei25s25', 'Responsei25s75', 'Responsei75n25', 'Responsei75n75', 'Responsei75r25', 'Responsei75r75', 'Responsei75s25', 'Responsei75s75', 'Stimulusc25n25', 'Stimulusc25r25', 'Stimulusc25r75', 'Stimulusc25s25', 'Stimulusc25s75', 'Stimulusc75r25', 'Stimulusc75r75', 'Stimulusc75s25', 'Stimulusc75s75', 'Stimulusi25n75', 'Stimulusi25r25', 'Stimulusi25r75', 'Stimulusi25s25', 'Stimulusi25s75', 'Stimulusi75n25', 'Stimulusi75n75', 'Stimulusi75r25', 'Stimulusi75r75', 'Stimulusi75s25', 'Stimulusi75s75']\n",
      "Not setting metadata\n",
      "11 matching events found\n",
      "No baseline correction applied\n",
      "0 projection items activated\n",
      "Using data from preloaded Raw for 11 events and 3073 original time points ...\n",
      "0 bad epochs dropped\n"
     ]
    },
    {
     "name": "stderr",
     "output_type": "stream",
     "text": [
      "[Parallel(n_jobs=-2)]: Using backend ThreadingBackend with 7 concurrent workers.\n",
      "[Parallel(n_jobs=-2)]: Done   4 tasks      | elapsed:    0.1s\n",
      "[Parallel(n_jobs=-2)]: Done  11 tasks      | elapsed:    0.3s\n",
      "[Parallel(n_jobs=-2)]: Done  18 tasks      | elapsed:    0.5s\n",
      "[Parallel(n_jobs=-2)]: Done  27 tasks      | elapsed:    0.7s\n",
      "[Parallel(n_jobs=-2)]: Done  36 tasks      | elapsed:    1.0s\n",
      "[Parallel(n_jobs=-2)]: Done  47 tasks      | elapsed:    1.3s\n",
      "[Parallel(n_jobs=-2)]: Done  58 tasks      | elapsed:    1.6s\n",
      "[Parallel(n_jobs=-2)]: Done  71 tasks      | elapsed:    1.9s\n",
      "[Parallel(n_jobs=-2)]: Done  84 tasks      | elapsed:    2.3s\n",
      "[Parallel(n_jobs=-2)]: Done  99 tasks      | elapsed:    2.7s\n",
      "[Parallel(n_jobs=-2)]: Done 114 tasks      | elapsed:    3.1s\n",
      "[Parallel(n_jobs=-2)]: Done 131 tasks      | elapsed:    3.7s\n",
      "[Parallel(n_jobs=-2)]: Done 148 tasks      | elapsed:    4.1s\n"
     ]
    },
    {
     "name": "stdout",
     "output_type": "stream",
     "text": [
      "Not setting metadata\n",
      "c75r75: (11, 176, 46, 154)\n",
      "Used Annotations descriptions: ['Responsec25n25', 'Responsec25r25', 'Responsec25r75', 'Responsec25s25', 'Responsec25s75', 'Responsec75r25', 'Responsec75r75', 'Responsec75s25', 'Responsec75s75', 'Responsei25r25', 'Responsei25r75', 'Responsei25s25', 'Responsei25s75', 'Responsei75n25', 'Responsei75n75', 'Responsei75r25', 'Responsei75r75', 'Responsei75s25', 'Responsei75s75', 'Stimulusc25n25', 'Stimulusc25r25', 'Stimulusc25r75', 'Stimulusc25s25', 'Stimulusc25s75', 'Stimulusc75r25', 'Stimulusc75r75', 'Stimulusc75s25', 'Stimulusc75s75', 'Stimulusi25n75', 'Stimulusi25r25', 'Stimulusi25r75', 'Stimulusi25s25', 'Stimulusi25s75', 'Stimulusi75n25', 'Stimulusi75n75', 'Stimulusi75r25', 'Stimulusi75r75', 'Stimulusi75s25', 'Stimulusi75s75']\n",
      "Not setting metadata\n",
      "11 matching events found\n",
      "No baseline correction applied\n",
      "0 projection items activated\n",
      "Using data from preloaded Raw for 11 events and 7169 original time points ...\n",
      "0 bad epochs dropped\n"
     ]
    },
    {
     "name": "stderr",
     "output_type": "stream",
     "text": [
      "[Parallel(n_jobs=-2)]: Done 176 out of 176 | elapsed:    4.9s finished\n",
      "[Parallel(n_jobs=-2)]: Using backend ThreadingBackend with 7 concurrent workers.\n",
      "[Parallel(n_jobs=-2)]: Done   4 tasks      | elapsed:    0.5s\n",
      "[Parallel(n_jobs=-2)]: Done  11 tasks      | elapsed:    1.0s\n",
      "[Parallel(n_jobs=-2)]: Done  18 tasks      | elapsed:    1.5s\n",
      "[Parallel(n_jobs=-2)]: Done  27 tasks      | elapsed:    2.0s\n",
      "[Parallel(n_jobs=-2)]: Done  36 tasks      | elapsed:    2.6s\n",
      "[Parallel(n_jobs=-2)]: Done  47 tasks      | elapsed:    3.5s\n",
      "[Parallel(n_jobs=-2)]: Done  58 tasks      | elapsed:    4.2s\n",
      "[Parallel(n_jobs=-2)]: Done  71 tasks      | elapsed:    4.9s\n",
      "[Parallel(n_jobs=-2)]: Done  84 tasks      | elapsed:    5.8s\n",
      "[Parallel(n_jobs=-2)]: Done  99 tasks      | elapsed:    6.7s\n",
      "[Parallel(n_jobs=-2)]: Done 114 tasks      | elapsed:    7.6s\n",
      "[Parallel(n_jobs=-2)]: Done 131 tasks      | elapsed:    8.9s\n",
      "[Parallel(n_jobs=-2)]: Done 148 tasks      | elapsed:    9.9s\n"
     ]
    },
    {
     "name": "stdout",
     "output_type": "stream",
     "text": [
      "Not setting metadata\n"
     ]
    },
    {
     "name": "stderr",
     "output_type": "stream",
     "text": [
      "[Parallel(n_jobs=-2)]: Done 176 out of 176 | elapsed:   11.6s finished\n"
     ]
    },
    {
     "name": "stdout",
     "output_type": "stream",
     "text": [
      "c75r75: (11, 176, 46, 359)\n",
      "Applying baseline correction (mode: ratio)\n",
      "Used Annotations descriptions: ['Responsec25n25', 'Responsec25r25', 'Responsec25r75', 'Responsec25s25', 'Responsec25s75', 'Responsec75r25', 'Responsec75r75', 'Responsec75s25', 'Responsec75s75', 'Responsei25r25', 'Responsei25r75', 'Responsei25s25', 'Responsei25s75', 'Responsei75n25', 'Responsei75n75', 'Responsei75r25', 'Responsei75r75', 'Responsei75s25', 'Responsei75s75', 'Stimulusc25n25', 'Stimulusc25r25', 'Stimulusc25r75', 'Stimulusc25s25', 'Stimulusc25s75', 'Stimulusc75r25', 'Stimulusc75r75', 'Stimulusc75s25', 'Stimulusc75s75', 'Stimulusi25n75', 'Stimulusi25r25', 'Stimulusi25r75', 'Stimulusi25s25', 'Stimulusi25s75', 'Stimulusi75n25', 'Stimulusi75n75', 'Stimulusi75r25', 'Stimulusi75r75', 'Stimulusi75s25', 'Stimulusi75s75']\n",
      "Not setting metadata\n",
      "11 matching events found\n",
      "No baseline correction applied\n",
      "0 projection items activated\n",
      "Using data from preloaded Raw for 11 events and 8193 original time points ...\n",
      "0 bad epochs dropped\n"
     ]
    },
    {
     "name": "stderr",
     "output_type": "stream",
     "text": [
      "[Parallel(n_jobs=-2)]: Using backend ThreadingBackend with 7 concurrent workers.\n",
      "[Parallel(n_jobs=-2)]: Done   4 tasks      | elapsed:    0.5s\n",
      "[Parallel(n_jobs=-2)]: Done  11 tasks      | elapsed:    1.1s\n",
      "[Parallel(n_jobs=-2)]: Done  18 tasks      | elapsed:    1.7s\n",
      "[Parallel(n_jobs=-2)]: Done  27 tasks      | elapsed:    2.3s\n",
      "[Parallel(n_jobs=-2)]: Done  36 tasks      | elapsed:    3.2s\n",
      "[Parallel(n_jobs=-2)]: Done  47 tasks      | elapsed:    4.0s\n",
      "[Parallel(n_jobs=-2)]: Done  58 tasks      | elapsed:    5.0s\n",
      "[Parallel(n_jobs=-2)]: Done  71 tasks      | elapsed:    6.0s\n",
      "[Parallel(n_jobs=-2)]: Done  84 tasks      | elapsed:    6.9s\n",
      "[Parallel(n_jobs=-2)]: Done  99 tasks      | elapsed:    8.1s\n",
      "[Parallel(n_jobs=-2)]: Done 114 tasks      | elapsed:    9.3s\n",
      "[Parallel(n_jobs=-2)]: Done 131 tasks      | elapsed:   10.7s\n",
      "[Parallel(n_jobs=-2)]: Done 148 tasks      | elapsed:   11.9s\n"
     ]
    },
    {
     "name": "stdout",
     "output_type": "stream",
     "text": [
      "Not setting metadata\n"
     ]
    },
    {
     "name": "stderr",
     "output_type": "stream",
     "text": [
      "[Parallel(n_jobs=-2)]: Done 176 out of 176 | elapsed:   13.9s finished\n"
     ]
    },
    {
     "name": "stdout",
     "output_type": "stream",
     "text": [
      "c75r75: (11, 176, 46, 410)\n",
      "Applying baseline correction (mode: ratio)\n",
      "Used Annotations descriptions: ['Responsec25n25', 'Responsec25r25', 'Responsec25r75', 'Responsec25s25', 'Responsec25s75', 'Responsec75r25', 'Responsec75r75', 'Responsec75s25', 'Responsec75s75', 'Responsei25r25', 'Responsei25r75', 'Responsei25s25', 'Responsei25s75', 'Responsei75n25', 'Responsei75n75', 'Responsei75r25', 'Responsei75r75', 'Responsei75s25', 'Responsei75s75', 'Stimulusc25n25', 'Stimulusc25r25', 'Stimulusc25r75', 'Stimulusc25s25', 'Stimulusc25s75', 'Stimulusc75r25', 'Stimulusc75r75', 'Stimulusc75s25', 'Stimulusc75s75', 'Stimulusi25n75', 'Stimulusi25r25', 'Stimulusi25r75', 'Stimulusi25s25', 'Stimulusi25s75', 'Stimulusi75n25', 'Stimulusi75n75', 'Stimulusi75r25', 'Stimulusi75r75', 'Stimulusi75s25', 'Stimulusi75s75']\n",
      "Not setting metadata\n",
      "7 matching events found\n",
      "No baseline correction applied\n",
      "0 projection items activated\n",
      "Using data from preloaded Raw for 7 events and 3073 original time points ...\n",
      "0 bad epochs dropped\n"
     ]
    },
    {
     "name": "stderr",
     "output_type": "stream",
     "text": [
      "[Parallel(n_jobs=-2)]: Using backend ThreadingBackend with 7 concurrent workers.\n",
      "[Parallel(n_jobs=-2)]: Done   4 tasks      | elapsed:    0.0s\n",
      "[Parallel(n_jobs=-2)]: Done  11 tasks      | elapsed:    0.2s\n",
      "[Parallel(n_jobs=-2)]: Done  18 tasks      | elapsed:    0.3s\n",
      "[Parallel(n_jobs=-2)]: Done  27 tasks      | elapsed:    0.4s\n",
      "[Parallel(n_jobs=-2)]: Done  36 tasks      | elapsed:    0.6s\n",
      "[Parallel(n_jobs=-2)]: Done  47 tasks      | elapsed:    0.8s\n",
      "[Parallel(n_jobs=-2)]: Done  58 tasks      | elapsed:    1.0s\n",
      "[Parallel(n_jobs=-2)]: Done  71 tasks      | elapsed:    1.2s\n",
      "[Parallel(n_jobs=-2)]: Done  84 tasks      | elapsed:    1.4s\n",
      "[Parallel(n_jobs=-2)]: Done  99 tasks      | elapsed:    1.7s\n",
      "[Parallel(n_jobs=-2)]: Done 114 tasks      | elapsed:    2.0s\n",
      "[Parallel(n_jobs=-2)]: Done 131 tasks      | elapsed:    2.3s\n",
      "[Parallel(n_jobs=-2)]: Done 148 tasks      | elapsed:    2.6s\n"
     ]
    },
    {
     "name": "stdout",
     "output_type": "stream",
     "text": [
      "Not setting metadata\n",
      "i25s25: (7, 176, 46, 154)\n",
      "Used Annotations descriptions: ['Responsec25n25', 'Responsec25r25', 'Responsec25r75', 'Responsec25s25', 'Responsec25s75', 'Responsec75r25', 'Responsec75r75', 'Responsec75s25', 'Responsec75s75', 'Responsei25r25', 'Responsei25r75', 'Responsei25s25', 'Responsei25s75', 'Responsei75n25', 'Responsei75n75', 'Responsei75r25', 'Responsei75r75', 'Responsei75s25', 'Responsei75s75', 'Stimulusc25n25', 'Stimulusc25r25', 'Stimulusc25r75', 'Stimulusc25s25', 'Stimulusc25s75', 'Stimulusc75r25', 'Stimulusc75r75', 'Stimulusc75s25', 'Stimulusc75s75', 'Stimulusi25n75', 'Stimulusi25r25', 'Stimulusi25r75', 'Stimulusi25s25', 'Stimulusi25s75', 'Stimulusi75n25', 'Stimulusi75n75', 'Stimulusi75r25', 'Stimulusi75r75', 'Stimulusi75s25', 'Stimulusi75s75']\n",
      "Not setting metadata\n",
      "7 matching events found\n",
      "No baseline correction applied\n",
      "0 projection items activated\n",
      "Using data from preloaded Raw for 7 events and 7169 original time points ...\n",
      "0 bad epochs dropped\n"
     ]
    },
    {
     "name": "stderr",
     "output_type": "stream",
     "text": [
      "[Parallel(n_jobs=-2)]: Done 176 out of 176 | elapsed:    3.0s finished\n",
      "[Parallel(n_jobs=-2)]: Using backend ThreadingBackend with 7 concurrent workers.\n",
      "[Parallel(n_jobs=-2)]: Done   4 tasks      | elapsed:    0.2s\n",
      "[Parallel(n_jobs=-2)]: Done  11 tasks      | elapsed:    0.6s\n",
      "[Parallel(n_jobs=-2)]: Done  18 tasks      | elapsed:    1.0s\n",
      "[Parallel(n_jobs=-2)]: Done  27 tasks      | elapsed:    1.3s\n",
      "[Parallel(n_jobs=-2)]: Done  36 tasks      | elapsed:    1.7s\n",
      "[Parallel(n_jobs=-2)]: Done  47 tasks      | elapsed:    2.2s\n",
      "[Parallel(n_jobs=-2)]: Done  58 tasks      | elapsed:    2.8s\n",
      "[Parallel(n_jobs=-2)]: Done  71 tasks      | elapsed:    3.3s\n",
      "[Parallel(n_jobs=-2)]: Done  84 tasks      | elapsed:    3.9s\n",
      "[Parallel(n_jobs=-2)]: Done  99 tasks      | elapsed:    4.5s\n",
      "[Parallel(n_jobs=-2)]: Done 114 tasks      | elapsed:    5.1s\n",
      "[Parallel(n_jobs=-2)]: Done 131 tasks      | elapsed:    5.8s\n",
      "[Parallel(n_jobs=-2)]: Done 148 tasks      | elapsed:    6.5s\n"
     ]
    },
    {
     "name": "stdout",
     "output_type": "stream",
     "text": [
      "Not setting metadata\n"
     ]
    },
    {
     "name": "stderr",
     "output_type": "stream",
     "text": [
      "[Parallel(n_jobs=-2)]: Done 176 out of 176 | elapsed:    7.6s finished\n"
     ]
    },
    {
     "name": "stdout",
     "output_type": "stream",
     "text": [
      "i25s25: (7, 176, 46, 359)\n",
      "Applying baseline correction (mode: ratio)\n",
      "Used Annotations descriptions: ['Responsec25n25', 'Responsec25r25', 'Responsec25r75', 'Responsec25s25', 'Responsec25s75', 'Responsec75r25', 'Responsec75r75', 'Responsec75s25', 'Responsec75s75', 'Responsei25r25', 'Responsei25r75', 'Responsei25s25', 'Responsei25s75', 'Responsei75n25', 'Responsei75n75', 'Responsei75r25', 'Responsei75r75', 'Responsei75s25', 'Responsei75s75', 'Stimulusc25n25', 'Stimulusc25r25', 'Stimulusc25r75', 'Stimulusc25s25', 'Stimulusc25s75', 'Stimulusc75r25', 'Stimulusc75r75', 'Stimulusc75s25', 'Stimulusc75s75', 'Stimulusi25n75', 'Stimulusi25r25', 'Stimulusi25r75', 'Stimulusi25s25', 'Stimulusi25s75', 'Stimulusi75n25', 'Stimulusi75n75', 'Stimulusi75r25', 'Stimulusi75r75', 'Stimulusi75s25', 'Stimulusi75s75']\n",
      "Not setting metadata\n",
      "7 matching events found\n",
      "No baseline correction applied\n",
      "0 projection items activated\n",
      "Using data from preloaded Raw for 7 events and 8193 original time points ...\n",
      "0 bad epochs dropped\n"
     ]
    },
    {
     "name": "stderr",
     "output_type": "stream",
     "text": [
      "[Parallel(n_jobs=-2)]: Using backend ThreadingBackend with 7 concurrent workers.\n",
      "[Parallel(n_jobs=-2)]: Done   4 tasks      | elapsed:    0.3s\n",
      "[Parallel(n_jobs=-2)]: Done  11 tasks      | elapsed:    0.7s\n",
      "[Parallel(n_jobs=-2)]: Done  18 tasks      | elapsed:    1.1s\n",
      "[Parallel(n_jobs=-2)]: Done  27 tasks      | elapsed:    1.5s\n",
      "[Parallel(n_jobs=-2)]: Done  36 tasks      | elapsed:    2.0s\n",
      "[Parallel(n_jobs=-2)]: Done  47 tasks      | elapsed:    2.6s\n",
      "[Parallel(n_jobs=-2)]: Done  58 tasks      | elapsed:    3.2s\n",
      "[Parallel(n_jobs=-2)]: Done  71 tasks      | elapsed:    3.8s\n",
      "[Parallel(n_jobs=-2)]: Done  84 tasks      | elapsed:    4.5s\n",
      "[Parallel(n_jobs=-2)]: Done  99 tasks      | elapsed:    5.3s\n",
      "[Parallel(n_jobs=-2)]: Done 114 tasks      | elapsed:    6.0s\n",
      "[Parallel(n_jobs=-2)]: Done 131 tasks      | elapsed:    7.1s\n",
      "[Parallel(n_jobs=-2)]: Done 148 tasks      | elapsed:    7.9s\n"
     ]
    },
    {
     "name": "stdout",
     "output_type": "stream",
     "text": [
      "Not setting metadata\n"
     ]
    },
    {
     "name": "stderr",
     "output_type": "stream",
     "text": [
      "[Parallel(n_jobs=-2)]: Done 176 out of 176 | elapsed:    9.4s finished\n"
     ]
    },
    {
     "name": "stdout",
     "output_type": "stream",
     "text": [
      "i25s25: (7, 176, 46, 410)\n",
      "Applying baseline correction (mode: ratio)\n",
      "Used Annotations descriptions: ['Responsec25n25', 'Responsec25r25', 'Responsec25r75', 'Responsec25s25', 'Responsec25s75', 'Responsec75r25', 'Responsec75r75', 'Responsec75s25', 'Responsec75s75', 'Responsei25r25', 'Responsei25r75', 'Responsei25s25', 'Responsei25s75', 'Responsei75n25', 'Responsei75n75', 'Responsei75r25', 'Responsei75r75', 'Responsei75s25', 'Responsei75s75', 'Stimulusc25n25', 'Stimulusc25r25', 'Stimulusc25r75', 'Stimulusc25s25', 'Stimulusc25s75', 'Stimulusc75r25', 'Stimulusc75r75', 'Stimulusc75s25', 'Stimulusc75s75', 'Stimulusi25n75', 'Stimulusi25r25', 'Stimulusi25r75', 'Stimulusi25s25', 'Stimulusi25s75', 'Stimulusi75n25', 'Stimulusi75n75', 'Stimulusi75r25', 'Stimulusi75r75', 'Stimulusi75s25', 'Stimulusi75s75']\n",
      "Not setting metadata\n",
      "20 matching events found\n",
      "No baseline correction applied\n",
      "0 projection items activated\n",
      "Using data from preloaded Raw for 20 events and 3073 original time points ...\n",
      "0 bad epochs dropped\n"
     ]
    },
    {
     "name": "stderr",
     "output_type": "stream",
     "text": [
      "[Parallel(n_jobs=-2)]: Using backend ThreadingBackend with 7 concurrent workers.\n",
      "[Parallel(n_jobs=-2)]: Done   4 tasks      | elapsed:    0.3s\n",
      "[Parallel(n_jobs=-2)]: Done  11 tasks      | elapsed:    0.7s\n",
      "[Parallel(n_jobs=-2)]: Done  18 tasks      | elapsed:    1.0s\n",
      "[Parallel(n_jobs=-2)]: Done  27 tasks      | elapsed:    1.4s\n",
      "[Parallel(n_jobs=-2)]: Done  36 tasks      | elapsed:    1.9s\n",
      "[Parallel(n_jobs=-2)]: Done  47 tasks      | elapsed:    2.5s\n",
      "[Parallel(n_jobs=-2)]: Done  58 tasks      | elapsed:    3.0s\n",
      "[Parallel(n_jobs=-2)]: Done  71 tasks      | elapsed:    3.7s\n",
      "[Parallel(n_jobs=-2)]: Done  84 tasks      | elapsed:    4.4s\n",
      "[Parallel(n_jobs=-2)]: Done  99 tasks      | elapsed:    5.1s\n",
      "[Parallel(n_jobs=-2)]: Done 114 tasks      | elapsed:    5.9s\n",
      "[Parallel(n_jobs=-2)]: Done 131 tasks      | elapsed:    6.9s\n",
      "[Parallel(n_jobs=-2)]: Done 148 tasks      | elapsed:    7.6s\n"
     ]
    },
    {
     "name": "stdout",
     "output_type": "stream",
     "text": [
      "Not setting metadata\n",
      "c25s25: (20, 176, 46, 154)\n",
      "Used Annotations descriptions: ['Responsec25n25', 'Responsec25r25', 'Responsec25r75', 'Responsec25s25', 'Responsec25s75', 'Responsec75r25', 'Responsec75r75', 'Responsec75s25', 'Responsec75s75', 'Responsei25r25', 'Responsei25r75', 'Responsei25s25', 'Responsei25s75', 'Responsei75n25', 'Responsei75n75', 'Responsei75r25', 'Responsei75r75', 'Responsei75s25', 'Responsei75s75', 'Stimulusc25n25', 'Stimulusc25r25', 'Stimulusc25r75', 'Stimulusc25s25', 'Stimulusc25s75', 'Stimulusc75r25', 'Stimulusc75r75', 'Stimulusc75s25', 'Stimulusc75s75', 'Stimulusi25n75', 'Stimulusi25r25', 'Stimulusi25r75', 'Stimulusi25s25', 'Stimulusi25s75', 'Stimulusi75n25', 'Stimulusi75n75', 'Stimulusi75r25', 'Stimulusi75r75', 'Stimulusi75s25', 'Stimulusi75s75']\n",
      "Not setting metadata\n",
      "20 matching events found\n",
      "No baseline correction applied\n",
      "0 projection items activated\n",
      "Using data from preloaded Raw for 20 events and 7169 original time points ...\n"
     ]
    },
    {
     "name": "stderr",
     "output_type": "stream",
     "text": [
      "[Parallel(n_jobs=-2)]: Done 176 out of 176 | elapsed:    8.9s finished\n"
     ]
    },
    {
     "name": "stdout",
     "output_type": "stream",
     "text": [
      "0 bad epochs dropped\n"
     ]
    },
    {
     "name": "stderr",
     "output_type": "stream",
     "text": [
      "[Parallel(n_jobs=-2)]: Using backend ThreadingBackend with 7 concurrent workers.\n",
      "[Parallel(n_jobs=-2)]: Done   4 tasks      | elapsed:    0.8s\n",
      "[Parallel(n_jobs=-2)]: Done  11 tasks      | elapsed:    1.7s\n",
      "[Parallel(n_jobs=-2)]: Done  18 tasks      | elapsed:    2.5s\n",
      "[Parallel(n_jobs=-2)]: Done  27 tasks      | elapsed:    3.4s\n",
      "[Parallel(n_jobs=-2)]: Done  36 tasks      | elapsed:    4.5s\n",
      "[Parallel(n_jobs=-2)]: Done  47 tasks      | elapsed:    6.0s\n",
      "[Parallel(n_jobs=-2)]: Done  58 tasks      | elapsed:    7.6s\n",
      "[Parallel(n_jobs=-2)]: Done  71 tasks      | elapsed:    8.6s\n",
      "[Parallel(n_jobs=-2)]: Done  84 tasks      | elapsed:   10.3s\n",
      "[Parallel(n_jobs=-2)]: Done  99 tasks      | elapsed:   12.0s\n",
      "[Parallel(n_jobs=-2)]: Done 114 tasks      | elapsed:   13.7s\n",
      "[Parallel(n_jobs=-2)]: Done 131 tasks      | elapsed:   15.7s\n",
      "[Parallel(n_jobs=-2)]: Done 148 tasks      | elapsed:   17.9s\n"
     ]
    },
    {
     "name": "stdout",
     "output_type": "stream",
     "text": [
      "Not setting metadata\n"
     ]
    },
    {
     "name": "stderr",
     "output_type": "stream",
     "text": [
      "[Parallel(n_jobs=-2)]: Done 176 out of 176 | elapsed:   21.0s finished\n"
     ]
    },
    {
     "name": "stdout",
     "output_type": "stream",
     "text": [
      "c25s25: (20, 176, 46, 359)\n",
      "Applying baseline correction (mode: ratio)\n",
      "Used Annotations descriptions: ['Responsec25n25', 'Responsec25r25', 'Responsec25r75', 'Responsec25s25', 'Responsec25s75', 'Responsec75r25', 'Responsec75r75', 'Responsec75s25', 'Responsec75s75', 'Responsei25r25', 'Responsei25r75', 'Responsei25s25', 'Responsei25s75', 'Responsei75n25', 'Responsei75n75', 'Responsei75r25', 'Responsei75r75', 'Responsei75s25', 'Responsei75s75', 'Stimulusc25n25', 'Stimulusc25r25', 'Stimulusc25r75', 'Stimulusc25s25', 'Stimulusc25s75', 'Stimulusc75r25', 'Stimulusc75r75', 'Stimulusc75s25', 'Stimulusc75s75', 'Stimulusi25n75', 'Stimulusi25r25', 'Stimulusi25r75', 'Stimulusi25s25', 'Stimulusi25s75', 'Stimulusi75n25', 'Stimulusi75n75', 'Stimulusi75r25', 'Stimulusi75r75', 'Stimulusi75s25', 'Stimulusi75s75']\n",
      "Not setting metadata\n",
      "20 matching events found\n",
      "No baseline correction applied\n",
      "0 projection items activated\n",
      "Using data from preloaded Raw for 20 events and 8193 original time points ...\n",
      "0 bad epochs dropped\n"
     ]
    },
    {
     "name": "stderr",
     "output_type": "stream",
     "text": [
      "[Parallel(n_jobs=-2)]: Using backend ThreadingBackend with 7 concurrent workers.\n",
      "[Parallel(n_jobs=-2)]: Done   4 tasks      | elapsed:    1.1s\n",
      "[Parallel(n_jobs=-2)]: Done  11 tasks      | elapsed:    2.2s\n",
      "[Parallel(n_jobs=-2)]: Done  18 tasks      | elapsed:    3.3s\n",
      "[Parallel(n_jobs=-2)]: Done  27 tasks      | elapsed:    4.4s\n",
      "[Parallel(n_jobs=-2)]: Done  36 tasks      | elapsed:    6.0s\n",
      "[Parallel(n_jobs=-2)]: Done  47 tasks      | elapsed:    7.5s\n",
      "[Parallel(n_jobs=-2)]: Done  58 tasks      | elapsed:    9.2s\n",
      "[Parallel(n_jobs=-2)]: Done  71 tasks      | elapsed:   10.8s\n",
      "[Parallel(n_jobs=-2)]: Done  84 tasks      | elapsed:   12.5s\n",
      "[Parallel(n_jobs=-2)]: Done  99 tasks      | elapsed:   14.7s\n",
      "[Parallel(n_jobs=-2)]: Done 114 tasks      | elapsed:   16.9s\n",
      "[Parallel(n_jobs=-2)]: Done 131 tasks      | elapsed:   19.5s\n",
      "[Parallel(n_jobs=-2)]: Done 148 tasks      | elapsed:   21.6s\n"
     ]
    },
    {
     "name": "stdout",
     "output_type": "stream",
     "text": [
      "Not setting metadata\n"
     ]
    },
    {
     "name": "stderr",
     "output_type": "stream",
     "text": [
      "[Parallel(n_jobs=-2)]: Done 176 out of 176 | elapsed:   25.4s finished\n"
     ]
    },
    {
     "name": "stdout",
     "output_type": "stream",
     "text": [
      "c25s25: (20, 176, 46, 410)\n",
      "Applying baseline correction (mode: ratio)\n",
      "Used Annotations descriptions: ['Responsec25n25', 'Responsec25r25', 'Responsec25r75', 'Responsec25s25', 'Responsec25s75', 'Responsec75r25', 'Responsec75r75', 'Responsec75s25', 'Responsec75s75', 'Responsei25r25', 'Responsei25r75', 'Responsei25s25', 'Responsei25s75', 'Responsei75n25', 'Responsei75n75', 'Responsei75r25', 'Responsei75r75', 'Responsei75s25', 'Responsei75s75', 'Stimulusc25n25', 'Stimulusc25r25', 'Stimulusc25r75', 'Stimulusc25s25', 'Stimulusc25s75', 'Stimulusc75r25', 'Stimulusc75r75', 'Stimulusc75s25', 'Stimulusc75s75', 'Stimulusi25n75', 'Stimulusi25r25', 'Stimulusi25r75', 'Stimulusi25s25', 'Stimulusi25s75', 'Stimulusi75n25', 'Stimulusi75n75', 'Stimulusi75r25', 'Stimulusi75r75', 'Stimulusi75s25', 'Stimulusi75s75']\n",
      "Not setting metadata\n",
      "21 matching events found\n",
      "No baseline correction applied\n",
      "0 projection items activated\n",
      "Using data from preloaded Raw for 21 events and 3073 original time points ...\n",
      "0 bad epochs dropped\n"
     ]
    },
    {
     "name": "stderr",
     "output_type": "stream",
     "text": [
      "[Parallel(n_jobs=-2)]: Using backend ThreadingBackend with 7 concurrent workers.\n",
      "[Parallel(n_jobs=-2)]: Done   4 tasks      | elapsed:    0.3s\n",
      "[Parallel(n_jobs=-2)]: Done  11 tasks      | elapsed:    0.8s\n",
      "[Parallel(n_jobs=-2)]: Done  18 tasks      | elapsed:    1.2s\n",
      "[Parallel(n_jobs=-2)]: Done  27 tasks      | elapsed:    1.5s\n",
      "[Parallel(n_jobs=-2)]: Done  36 tasks      | elapsed:    2.1s\n",
      "[Parallel(n_jobs=-2)]: Done  47 tasks      | elapsed:    2.7s\n",
      "[Parallel(n_jobs=-2)]: Done  58 tasks      | elapsed:    3.3s\n",
      "[Parallel(n_jobs=-2)]: Done  71 tasks      | elapsed:    4.0s\n",
      "[Parallel(n_jobs=-2)]: Done  84 tasks      | elapsed:    4.7s\n",
      "[Parallel(n_jobs=-2)]: Done  99 tasks      | elapsed:    5.4s\n",
      "[Parallel(n_jobs=-2)]: Done 114 tasks      | elapsed:    6.3s\n",
      "[Parallel(n_jobs=-2)]: Done 131 tasks      | elapsed:    7.2s\n",
      "[Parallel(n_jobs=-2)]: Done 148 tasks      | elapsed:    8.0s\n"
     ]
    },
    {
     "name": "stdout",
     "output_type": "stream",
     "text": [
      "Not setting metadata\n",
      "i25r25: (21, 176, 46, 154)\n",
      "Used Annotations descriptions: ['Responsec25n25', 'Responsec25r25', 'Responsec25r75', 'Responsec25s25', 'Responsec25s75', 'Responsec75r25', 'Responsec75r75', 'Responsec75s25', 'Responsec75s75', 'Responsei25r25', 'Responsei25r75', 'Responsei25s25', 'Responsei25s75', 'Responsei75n25', 'Responsei75n75', 'Responsei75r25', 'Responsei75r75', 'Responsei75s25', 'Responsei75s75', 'Stimulusc25n25', 'Stimulusc25r25', 'Stimulusc25r75', 'Stimulusc25s25', 'Stimulusc25s75', 'Stimulusc75r25', 'Stimulusc75r75', 'Stimulusc75s25', 'Stimulusc75s75', 'Stimulusi25n75', 'Stimulusi25r25', 'Stimulusi25r75', 'Stimulusi25s25', 'Stimulusi25s75', 'Stimulusi75n25', 'Stimulusi75n75', 'Stimulusi75r25', 'Stimulusi75r75', 'Stimulusi75s25', 'Stimulusi75s75']\n",
      "Not setting metadata\n",
      "21 matching events found\n",
      "No baseline correction applied\n",
      "0 projection items activated\n",
      "Using data from preloaded Raw for 21 events and 7169 original time points ...\n"
     ]
    },
    {
     "name": "stderr",
     "output_type": "stream",
     "text": [
      "[Parallel(n_jobs=-2)]: Done 176 out of 176 | elapsed:    9.4s finished\n"
     ]
    },
    {
     "name": "stdout",
     "output_type": "stream",
     "text": [
      "0 bad epochs dropped\n"
     ]
    },
    {
     "name": "stderr",
     "output_type": "stream",
     "text": [
      "[Parallel(n_jobs=-2)]: Using backend ThreadingBackend with 7 concurrent workers.\n",
      "[Parallel(n_jobs=-2)]: Done   4 tasks      | elapsed:    0.9s\n",
      "[Parallel(n_jobs=-2)]: Done  11 tasks      | elapsed:    1.7s\n",
      "[Parallel(n_jobs=-2)]: Done  18 tasks      | elapsed:    2.7s\n",
      "[Parallel(n_jobs=-2)]: Done  27 tasks      | elapsed:    3.7s\n",
      "[Parallel(n_jobs=-2)]: Done  36 tasks      | elapsed:    4.7s\n",
      "[Parallel(n_jobs=-2)]: Done  47 tasks      | elapsed:    6.3s\n",
      "[Parallel(n_jobs=-2)]: Done  58 tasks      | elapsed:    7.7s\n",
      "[Parallel(n_jobs=-2)]: Done  71 tasks      | elapsed:    9.1s\n",
      "[Parallel(n_jobs=-2)]: Done  84 tasks      | elapsed:   10.9s\n",
      "[Parallel(n_jobs=-2)]: Done  99 tasks      | elapsed:   12.6s\n",
      "[Parallel(n_jobs=-2)]: Done 114 tasks      | elapsed:   14.4s\n",
      "[Parallel(n_jobs=-2)]: Done 131 tasks      | elapsed:   16.8s\n",
      "[Parallel(n_jobs=-2)]: Done 148 tasks      | elapsed:   18.9s\n"
     ]
    },
    {
     "name": "stdout",
     "output_type": "stream",
     "text": [
      "Not setting metadata\n"
     ]
    },
    {
     "name": "stderr",
     "output_type": "stream",
     "text": [
      "[Parallel(n_jobs=-2)]: Done 176 out of 176 | elapsed:   22.3s finished\n"
     ]
    },
    {
     "name": "stdout",
     "output_type": "stream",
     "text": [
      "i25r25: (21, 176, 46, 359)\n",
      "Applying baseline correction (mode: ratio)\n",
      "Used Annotations descriptions: ['Responsec25n25', 'Responsec25r25', 'Responsec25r75', 'Responsec25s25', 'Responsec25s75', 'Responsec75r25', 'Responsec75r75', 'Responsec75s25', 'Responsec75s75', 'Responsei25r25', 'Responsei25r75', 'Responsei25s25', 'Responsei25s75', 'Responsei75n25', 'Responsei75n75', 'Responsei75r25', 'Responsei75r75', 'Responsei75s25', 'Responsei75s75', 'Stimulusc25n25', 'Stimulusc25r25', 'Stimulusc25r75', 'Stimulusc25s25', 'Stimulusc25s75', 'Stimulusc75r25', 'Stimulusc75r75', 'Stimulusc75s25', 'Stimulusc75s75', 'Stimulusi25n75', 'Stimulusi25r25', 'Stimulusi25r75', 'Stimulusi25s25', 'Stimulusi25s75', 'Stimulusi75n25', 'Stimulusi75n75', 'Stimulusi75r25', 'Stimulusi75r75', 'Stimulusi75s25', 'Stimulusi75s75']\n",
      "Not setting metadata\n",
      "21 matching events found\n",
      "No baseline correction applied\n",
      "0 projection items activated\n",
      "Using data from preloaded Raw for 21 events and 8193 original time points ...\n",
      "0 bad epochs dropped\n"
     ]
    },
    {
     "name": "stderr",
     "output_type": "stream",
     "text": [
      "[Parallel(n_jobs=-2)]: Using backend ThreadingBackend with 7 concurrent workers.\n",
      "[Parallel(n_jobs=-2)]: Done   4 tasks      | elapsed:    1.1s\n",
      "[Parallel(n_jobs=-2)]: Done  11 tasks      | elapsed:    2.2s\n",
      "[Parallel(n_jobs=-2)]: Done  18 tasks      | elapsed:    3.4s\n",
      "[Parallel(n_jobs=-2)]: Done  27 tasks      | elapsed:    4.6s\n",
      "[Parallel(n_jobs=-2)]: Done  36 tasks      | elapsed:    6.3s\n",
      "[Parallel(n_jobs=-2)]: Done  47 tasks      | elapsed:    8.0s\n",
      "[Parallel(n_jobs=-2)]: Done  58 tasks      | elapsed:    9.4s\n",
      "[Parallel(n_jobs=-2)]: Done  71 tasks      | elapsed:   11.5s\n",
      "[Parallel(n_jobs=-2)]: Done  84 tasks      | elapsed:   13.4s\n",
      "[Parallel(n_jobs=-2)]: Done  99 tasks      | elapsed:   15.7s\n",
      "[Parallel(n_jobs=-2)]: Done 114 tasks      | elapsed:   18.0s\n",
      "[Parallel(n_jobs=-2)]: Done 131 tasks      | elapsed:   21.2s\n",
      "[Parallel(n_jobs=-2)]: Done 148 tasks      | elapsed:   23.4s\n"
     ]
    },
    {
     "name": "stdout",
     "output_type": "stream",
     "text": [
      "Not setting metadata\n"
     ]
    },
    {
     "name": "stderr",
     "output_type": "stream",
     "text": [
      "[Parallel(n_jobs=-2)]: Done 176 out of 176 | elapsed:   27.4s finished\n"
     ]
    },
    {
     "name": "stdout",
     "output_type": "stream",
     "text": [
      "i25r25: (21, 176, 46, 410)\n",
      "Applying baseline correction (mode: ratio)\n",
      "Used Annotations descriptions: ['Responsec25n25', 'Responsec25r25', 'Responsec25r75', 'Responsec25s25', 'Responsec25s75', 'Responsec75r25', 'Responsec75r75', 'Responsec75s25', 'Responsec75s75', 'Responsei25r25', 'Responsei25r75', 'Responsei25s25', 'Responsei25s75', 'Responsei75n25', 'Responsei75n75', 'Responsei75r25', 'Responsei75r75', 'Responsei75s25', 'Responsei75s75', 'Stimulusc25n25', 'Stimulusc25r25', 'Stimulusc25r75', 'Stimulusc25s25', 'Stimulusc25s75', 'Stimulusc75r25', 'Stimulusc75r75', 'Stimulusc75s25', 'Stimulusc75s75', 'Stimulusi25n75', 'Stimulusi25r25', 'Stimulusi25r75', 'Stimulusi25s25', 'Stimulusi25s75', 'Stimulusi75n25', 'Stimulusi75n75', 'Stimulusi75r25', 'Stimulusi75r75', 'Stimulusi75s25', 'Stimulusi75s75']\n",
      "Not setting metadata\n",
      "63 matching events found\n",
      "No baseline correction applied\n",
      "0 projection items activated\n",
      "Using data from preloaded Raw for 63 events and 3073 original time points ...\n",
      "0 bad epochs dropped\n"
     ]
    },
    {
     "name": "stderr",
     "output_type": "stream",
     "text": [
      "[Parallel(n_jobs=-2)]: Using backend ThreadingBackend with 7 concurrent workers.\n",
      "[Parallel(n_jobs=-2)]: Done   4 tasks      | elapsed:    1.2s\n",
      "[Parallel(n_jobs=-2)]: Done  11 tasks      | elapsed:    2.4s\n",
      "[Parallel(n_jobs=-2)]: Done  18 tasks      | elapsed:    3.6s\n",
      "[Parallel(n_jobs=-2)]: Done  27 tasks      | elapsed:    4.9s\n",
      "[Parallel(n_jobs=-2)]: Done  36 tasks      | elapsed:    7.1s\n",
      "[Parallel(n_jobs=-2)]: Done  47 tasks      | elapsed:    8.4s\n",
      "[Parallel(n_jobs=-2)]: Done  58 tasks      | elapsed:   10.4s\n",
      "[Parallel(n_jobs=-2)]: Done  71 tasks      | elapsed:   12.2s\n",
      "[Parallel(n_jobs=-2)]: Done  84 tasks      | elapsed:   14.0s\n",
      "[Parallel(n_jobs=-2)]: Done  99 tasks      | elapsed:   16.3s\n",
      "[Parallel(n_jobs=-2)]: Done 114 tasks      | elapsed:   18.7s\n",
      "[Parallel(n_jobs=-2)]: Done 131 tasks      | elapsed:   21.8s\n",
      "[Parallel(n_jobs=-2)]: Done 148 tasks      | elapsed:   24.1s\n"
     ]
    },
    {
     "name": "stdout",
     "output_type": "stream",
     "text": [
      "Not setting metadata\n"
     ]
    },
    {
     "name": "stderr",
     "output_type": "stream",
     "text": [
      "[Parallel(n_jobs=-2)]: Done 176 out of 176 | elapsed:   28.2s finished\n"
     ]
    },
    {
     "name": "stdout",
     "output_type": "stream",
     "text": [
      "c25r25: (63, 176, 46, 154)\n",
      "Used Annotations descriptions: ['Responsec25n25', 'Responsec25r25', 'Responsec25r75', 'Responsec25s25', 'Responsec25s75', 'Responsec75r25', 'Responsec75r75', 'Responsec75s25', 'Responsec75s75', 'Responsei25r25', 'Responsei25r75', 'Responsei25s25', 'Responsei25s75', 'Responsei75n25', 'Responsei75n75', 'Responsei75r25', 'Responsei75r75', 'Responsei75s25', 'Responsei75s75', 'Stimulusc25n25', 'Stimulusc25r25', 'Stimulusc25r75', 'Stimulusc25s25', 'Stimulusc25s75', 'Stimulusc75r25', 'Stimulusc75r75', 'Stimulusc75s25', 'Stimulusc75s75', 'Stimulusi25n75', 'Stimulusi25r25', 'Stimulusi25r75', 'Stimulusi25s25', 'Stimulusi25s75', 'Stimulusi75n25', 'Stimulusi75n75', 'Stimulusi75r25', 'Stimulusi75r75', 'Stimulusi75s25', 'Stimulusi75s75']\n",
      "Not setting metadata\n",
      "63 matching events found\n",
      "No baseline correction applied\n",
      "0 projection items activated\n",
      "Using data from preloaded Raw for 63 events and 7169 original time points ...\n",
      "0 bad epochs dropped\n"
     ]
    },
    {
     "name": "stderr",
     "output_type": "stream",
     "text": [
      "[Parallel(n_jobs=-2)]: Using backend ThreadingBackend with 7 concurrent workers.\n",
      "[Parallel(n_jobs=-2)]: Done   4 tasks      | elapsed:    2.9s\n",
      "[Parallel(n_jobs=-2)]: Done  11 tasks      | elapsed:    5.7s\n",
      "[Parallel(n_jobs=-2)]: Done  18 tasks      | elapsed:    8.7s\n",
      "[Parallel(n_jobs=-2)]: Done  27 tasks      | elapsed:   11.7s\n",
      "[Parallel(n_jobs=-2)]: Done  36 tasks      | elapsed:   15.6s\n",
      "[Parallel(n_jobs=-2)]: Done  47 tasks      | elapsed:   19.5s\n",
      "[Parallel(n_jobs=-2)]: Done  58 tasks      | elapsed:   23.3s\n",
      "[Parallel(n_jobs=-2)]: Done  71 tasks      | elapsed:   27.8s\n",
      "[Parallel(n_jobs=-2)]: Done  84 tasks      | elapsed:   32.7s\n",
      "[Parallel(n_jobs=-2)]: Done  99 tasks      | elapsed:   38.0s\n",
      "[Parallel(n_jobs=-2)]: Done 114 tasks      | elapsed:   43.3s\n",
      "[Parallel(n_jobs=-2)]: Done 131 tasks      | elapsed:   49.2s\n",
      "[Parallel(n_jobs=-2)]: Done 148 tasks      | elapsed:   56.1s\n"
     ]
    },
    {
     "name": "stdout",
     "output_type": "stream",
     "text": [
      "Not setting metadata\n"
     ]
    },
    {
     "name": "stderr",
     "output_type": "stream",
     "text": [
      "[Parallel(n_jobs=-2)]: Done 176 out of 176 | elapsed:  1.1min finished\n"
     ]
    },
    {
     "name": "stdout",
     "output_type": "stream",
     "text": [
      "c25r25: (63, 176, 46, 359)\n",
      "Applying baseline correction (mode: ratio)\n",
      "Used Annotations descriptions: ['Responsec25n25', 'Responsec25r25', 'Responsec25r75', 'Responsec25s25', 'Responsec25s75', 'Responsec75r25', 'Responsec75r75', 'Responsec75s25', 'Responsec75s75', 'Responsei25r25', 'Responsei25r75', 'Responsei25s25', 'Responsei25s75', 'Responsei75n25', 'Responsei75n75', 'Responsei75r25', 'Responsei75r75', 'Responsei75s25', 'Responsei75s75', 'Stimulusc25n25', 'Stimulusc25r25', 'Stimulusc25r75', 'Stimulusc25s25', 'Stimulusc25s75', 'Stimulusc75r25', 'Stimulusc75r75', 'Stimulusc75s25', 'Stimulusc75s75', 'Stimulusi25n75', 'Stimulusi25r25', 'Stimulusi25r75', 'Stimulusi25s25', 'Stimulusi25s75', 'Stimulusi75n25', 'Stimulusi75n75', 'Stimulusi75r25', 'Stimulusi75r75', 'Stimulusi75s25', 'Stimulusi75s75']\n",
      "Not setting metadata\n",
      "63 matching events found\n",
      "No baseline correction applied\n",
      "0 projection items activated\n",
      "Using data from preloaded Raw for 63 events and 8193 original time points ...\n",
      "0 bad epochs dropped\n"
     ]
    },
    {
     "name": "stderr",
     "output_type": "stream",
     "text": [
      "[Parallel(n_jobs=-2)]: Using backend ThreadingBackend with 7 concurrent workers.\n",
      "[Parallel(n_jobs=-2)]: Done   4 tasks      | elapsed:    3.5s\n",
      "[Parallel(n_jobs=-2)]: Done  11 tasks      | elapsed:    7.0s\n",
      "[Parallel(n_jobs=-2)]: Done  18 tasks      | elapsed:   10.3s\n",
      "[Parallel(n_jobs=-2)]: Done  27 tasks      | elapsed:   13.9s\n",
      "[Parallel(n_jobs=-2)]: Done  36 tasks      | elapsed:   18.7s\n",
      "[Parallel(n_jobs=-2)]: Done  47 tasks      | elapsed:   23.4s\n",
      "[Parallel(n_jobs=-2)]: Done  58 tasks      | elapsed:   28.6s\n",
      "[Parallel(n_jobs=-2)]: Done  71 tasks      | elapsed:   33.5s\n",
      "[Parallel(n_jobs=-2)]: Done  84 tasks      | elapsed:   39.9s\n",
      "[Parallel(n_jobs=-2)]: Done  99 tasks      | elapsed:   46.7s\n",
      "[Parallel(n_jobs=-2)]: Done 114 tasks      | elapsed:   53.7s\n",
      "[Parallel(n_jobs=-2)]: Done 131 tasks      | elapsed:  1.1min\n",
      "[Parallel(n_jobs=-2)]: Done 148 tasks      | elapsed:  1.2min\n"
     ]
    },
    {
     "name": "stdout",
     "output_type": "stream",
     "text": [
      "Not setting metadata\n"
     ]
    },
    {
     "name": "stderr",
     "output_type": "stream",
     "text": [
      "[Parallel(n_jobs=-2)]: Done 176 out of 176 | elapsed:  1.4min finished\n"
     ]
    },
    {
     "name": "stdout",
     "output_type": "stream",
     "text": [
      "c25r25: (63, 176, 46, 410)\n",
      "Applying baseline correction (mode: ratio)\n",
      "Used Annotations descriptions: ['Responsec25n25', 'Responsec25r25', 'Responsec25r75', 'Responsec25s25', 'Responsec25s75', 'Responsec75r25', 'Responsec75r75', 'Responsec75s25', 'Responsec75s75', 'Responsei25r25', 'Responsei25r75', 'Responsei25s25', 'Responsei25s75', 'Responsei75n25', 'Responsei75n75', 'Responsei75r25', 'Responsei75r75', 'Responsei75s25', 'Responsei75s75', 'Stimulusc25n25', 'Stimulusc25r25', 'Stimulusc25r75', 'Stimulusc25s25', 'Stimulusc25s75', 'Stimulusc75r25', 'Stimulusc75r75', 'Stimulusc75s25', 'Stimulusc75s75', 'Stimulusi25n75', 'Stimulusi25r25', 'Stimulusi25r75', 'Stimulusi25s25', 'Stimulusi25s75', 'Stimulusi75n25', 'Stimulusi75n75', 'Stimulusi75r25', 'Stimulusi75r75', 'Stimulusi75s25', 'Stimulusi75s75']\n",
      "Not setting metadata\n",
      "23 matching events found\n",
      "No baseline correction applied\n",
      "0 projection items activated\n",
      "Using data from preloaded Raw for 23 events and 3073 original time points ...\n",
      "0 bad epochs dropped\n"
     ]
    },
    {
     "name": "stderr",
     "output_type": "stream",
     "text": [
      "[Parallel(n_jobs=-2)]: Using backend ThreadingBackend with 7 concurrent workers.\n",
      "[Parallel(n_jobs=-2)]: Done   4 tasks      | elapsed:    0.4s\n",
      "[Parallel(n_jobs=-2)]: Done  11 tasks      | elapsed:    0.8s\n",
      "[Parallel(n_jobs=-2)]: Done  18 tasks      | elapsed:    1.3s\n",
      "[Parallel(n_jobs=-2)]: Done  27 tasks      | elapsed:    1.7s\n",
      "[Parallel(n_jobs=-2)]: Done  36 tasks      | elapsed:    2.4s\n",
      "[Parallel(n_jobs=-2)]: Done  47 tasks      | elapsed:    3.1s\n",
      "[Parallel(n_jobs=-2)]: Done  58 tasks      | elapsed:    3.9s\n",
      "[Parallel(n_jobs=-2)]: Done  71 tasks      | elapsed:    4.7s\n",
      "[Parallel(n_jobs=-2)]: Done  84 tasks      | elapsed:    5.6s\n",
      "[Parallel(n_jobs=-2)]: Done  99 tasks      | elapsed:    6.5s\n",
      "[Parallel(n_jobs=-2)]: Done 114 tasks      | elapsed:    7.5s\n",
      "[Parallel(n_jobs=-2)]: Done 131 tasks      | elapsed:    8.4s\n",
      "[Parallel(n_jobs=-2)]: Done 148 tasks      | elapsed:    9.5s\n"
     ]
    },
    {
     "name": "stdout",
     "output_type": "stream",
     "text": [
      "Not setting metadata\n",
      "i75s25: (23, 176, 46, 154)\n",
      "Used Annotations descriptions: ['Responsec25n25', 'Responsec25r25', 'Responsec25r75', 'Responsec25s25', 'Responsec25s75', 'Responsec75r25', 'Responsec75r75', 'Responsec75s25', 'Responsec75s75', 'Responsei25r25', 'Responsei25r75', 'Responsei25s25', 'Responsei25s75', 'Responsei75n25', 'Responsei75n75', 'Responsei75r25', 'Responsei75r75', 'Responsei75s25', 'Responsei75s75', 'Stimulusc25n25', 'Stimulusc25r25', 'Stimulusc25r75', 'Stimulusc25s25', 'Stimulusc25s75', 'Stimulusc75r25', 'Stimulusc75r75', 'Stimulusc75s25', 'Stimulusc75s75', 'Stimulusi25n75', 'Stimulusi25r25', 'Stimulusi25r75', 'Stimulusi25s25', 'Stimulusi25s75', 'Stimulusi75n25', 'Stimulusi75n75', 'Stimulusi75r25', 'Stimulusi75r75', 'Stimulusi75s25', 'Stimulusi75s75']\n"
     ]
    },
    {
     "name": "stderr",
     "output_type": "stream",
     "text": [
      "[Parallel(n_jobs=-2)]: Done 176 out of 176 | elapsed:   11.1s finished\n"
     ]
    },
    {
     "name": "stdout",
     "output_type": "stream",
     "text": [
      "Not setting metadata\n",
      "23 matching events found\n",
      "No baseline correction applied\n",
      "0 projection items activated\n",
      "Using data from preloaded Raw for 23 events and 7169 original time points ...\n",
      "0 bad epochs dropped\n"
     ]
    },
    {
     "name": "stderr",
     "output_type": "stream",
     "text": [
      "[Parallel(n_jobs=-2)]: Using backend ThreadingBackend with 7 concurrent workers.\n",
      "[Parallel(n_jobs=-2)]: Done   4 tasks      | elapsed:    1.0s\n",
      "[Parallel(n_jobs=-2)]: Done  11 tasks      | elapsed:    2.0s\n",
      "[Parallel(n_jobs=-2)]: Done  18 tasks      | elapsed:    2.9s\n",
      "[Parallel(n_jobs=-2)]: Done  27 tasks      | elapsed:    4.0s\n",
      "[Parallel(n_jobs=-2)]: Done  36 tasks      | elapsed:    5.5s\n",
      "[Parallel(n_jobs=-2)]: Done  47 tasks      | elapsed:    7.1s\n",
      "[Parallel(n_jobs=-2)]: Done  58 tasks      | elapsed:    8.6s\n",
      "[Parallel(n_jobs=-2)]: Done  71 tasks      | elapsed:   10.3s\n",
      "[Parallel(n_jobs=-2)]: Done  84 tasks      | elapsed:   12.3s\n",
      "[Parallel(n_jobs=-2)]: Done  99 tasks      | elapsed:   14.3s\n",
      "[Parallel(n_jobs=-2)]: Done 114 tasks      | elapsed:   16.3s\n",
      "[Parallel(n_jobs=-2)]: Done 131 tasks      | elapsed:   19.1s\n",
      "[Parallel(n_jobs=-2)]: Done 148 tasks      | elapsed:   21.3s\n"
     ]
    },
    {
     "name": "stdout",
     "output_type": "stream",
     "text": [
      "Not setting metadata\n"
     ]
    },
    {
     "name": "stderr",
     "output_type": "stream",
     "text": [
      "[Parallel(n_jobs=-2)]: Done 176 out of 176 | elapsed:   24.9s finished\n"
     ]
    },
    {
     "name": "stdout",
     "output_type": "stream",
     "text": [
      "i75s25: (23, 176, 46, 359)\n",
      "Applying baseline correction (mode: ratio)\n",
      "Used Annotations descriptions: ['Responsec25n25', 'Responsec25r25', 'Responsec25r75', 'Responsec25s25', 'Responsec25s75', 'Responsec75r25', 'Responsec75r75', 'Responsec75s25', 'Responsec75s75', 'Responsei25r25', 'Responsei25r75', 'Responsei25s25', 'Responsei25s75', 'Responsei75n25', 'Responsei75n75', 'Responsei75r25', 'Responsei75r75', 'Responsei75s25', 'Responsei75s75', 'Stimulusc25n25', 'Stimulusc25r25', 'Stimulusc25r75', 'Stimulusc25s25', 'Stimulusc25s75', 'Stimulusc75r25', 'Stimulusc75r75', 'Stimulusc75s25', 'Stimulusc75s75', 'Stimulusi25n75', 'Stimulusi25r25', 'Stimulusi25r75', 'Stimulusi25s25', 'Stimulusi25s75', 'Stimulusi75n25', 'Stimulusi75n75', 'Stimulusi75r25', 'Stimulusi75r75', 'Stimulusi75s25', 'Stimulusi75s75']\n",
      "Not setting metadata\n",
      "23 matching events found\n",
      "No baseline correction applied\n",
      "0 projection items activated\n",
      "Using data from preloaded Raw for 23 events and 8193 original time points ...\n",
      "0 bad epochs dropped\n"
     ]
    },
    {
     "name": "stderr",
     "output_type": "stream",
     "text": [
      "[Parallel(n_jobs=-2)]: Using backend ThreadingBackend with 7 concurrent workers.\n",
      "[Parallel(n_jobs=-2)]: Done   4 tasks      | elapsed:    1.2s\n",
      "[Parallel(n_jobs=-2)]: Done  11 tasks      | elapsed:    2.6s\n",
      "[Parallel(n_jobs=-2)]: Done  18 tasks      | elapsed:    3.7s\n",
      "[Parallel(n_jobs=-2)]: Done  27 tasks      | elapsed:    5.0s\n",
      "[Parallel(n_jobs=-2)]: Done  36 tasks      | elapsed:    7.0s\n",
      "[Parallel(n_jobs=-2)]: Done  47 tasks      | elapsed:    8.6s\n",
      "[Parallel(n_jobs=-2)]: Done  58 tasks      | elapsed:   10.5s\n",
      "[Parallel(n_jobs=-2)]: Done  71 tasks      | elapsed:   12.6s\n",
      "[Parallel(n_jobs=-2)]: Done  84 tasks      | elapsed:   14.7s\n",
      "[Parallel(n_jobs=-2)]: Done  99 tasks      | elapsed:   17.2s\n",
      "[Parallel(n_jobs=-2)]: Done 114 tasks      | elapsed:   19.6s\n",
      "[Parallel(n_jobs=-2)]: Done 131 tasks      | elapsed:   22.9s\n",
      "[Parallel(n_jobs=-2)]: Done 148 tasks      | elapsed:   25.7s\n"
     ]
    },
    {
     "name": "stdout",
     "output_type": "stream",
     "text": [
      "Not setting metadata\n"
     ]
    },
    {
     "name": "stderr",
     "output_type": "stream",
     "text": [
      "[Parallel(n_jobs=-2)]: Done 176 out of 176 | elapsed:   30.0s finished\n"
     ]
    },
    {
     "name": "stdout",
     "output_type": "stream",
     "text": [
      "i75s25: (23, 176, 46, 410)\n",
      "Applying baseline correction (mode: ratio)\n",
      "Used Annotations descriptions: ['Responsec25n25', 'Responsec25r25', 'Responsec25r75', 'Responsec25s25', 'Responsec25s75', 'Responsec75r25', 'Responsec75r75', 'Responsec75s25', 'Responsec75s75', 'Responsei25r25', 'Responsei25r75', 'Responsei25s25', 'Responsei25s75', 'Responsei75n25', 'Responsei75n75', 'Responsei75r25', 'Responsei75r75', 'Responsei75s25', 'Responsei75s75', 'Stimulusc25n25', 'Stimulusc25r25', 'Stimulusc25r75', 'Stimulusc25s25', 'Stimulusc25s75', 'Stimulusc75r25', 'Stimulusc75r75', 'Stimulusc75s25', 'Stimulusc75s75', 'Stimulusi25n75', 'Stimulusi25r25', 'Stimulusi25r75', 'Stimulusi25s25', 'Stimulusi25s75', 'Stimulusi75n25', 'Stimulusi75n75', 'Stimulusi75r25', 'Stimulusi75r75', 'Stimulusi75s25', 'Stimulusi75s75']\n",
      "Not setting metadata\n",
      "61 matching events found\n",
      "No baseline correction applied\n",
      "0 projection items activated\n",
      "Using data from preloaded Raw for 61 events and 3073 original time points ...\n",
      "0 bad epochs dropped\n"
     ]
    },
    {
     "name": "stderr",
     "output_type": "stream",
     "text": [
      "[Parallel(n_jobs=-2)]: Using backend ThreadingBackend with 7 concurrent workers.\n",
      "[Parallel(n_jobs=-2)]: Done   4 tasks      | elapsed:    1.2s\n",
      "[Parallel(n_jobs=-2)]: Done  11 tasks      | elapsed:    2.2s\n",
      "[Parallel(n_jobs=-2)]: Done  18 tasks      | elapsed:    3.4s\n",
      "[Parallel(n_jobs=-2)]: Done  27 tasks      | elapsed:    4.7s\n",
      "[Parallel(n_jobs=-2)]: Done  36 tasks      | elapsed:    6.6s\n",
      "[Parallel(n_jobs=-2)]: Done  47 tasks      | elapsed:    8.3s\n",
      "[Parallel(n_jobs=-2)]: Done  58 tasks      | elapsed:   10.4s\n",
      "[Parallel(n_jobs=-2)]: Done  71 tasks      | elapsed:   12.3s\n",
      "[Parallel(n_jobs=-2)]: Done  84 tasks      | elapsed:   14.4s\n",
      "[Parallel(n_jobs=-2)]: Done  99 tasks      | elapsed:   16.8s\n",
      "[Parallel(n_jobs=-2)]: Done 114 tasks      | elapsed:   19.3s\n",
      "[Parallel(n_jobs=-2)]: Done 131 tasks      | elapsed:   22.2s\n",
      "[Parallel(n_jobs=-2)]: Done 148 tasks      | elapsed:   24.7s\n"
     ]
    },
    {
     "name": "stdout",
     "output_type": "stream",
     "text": [
      "Not setting metadata\n"
     ]
    },
    {
     "name": "stderr",
     "output_type": "stream",
     "text": [
      "[Parallel(n_jobs=-2)]: Done 176 out of 176 | elapsed:   29.1s finished\n"
     ]
    },
    {
     "name": "stdout",
     "output_type": "stream",
     "text": [
      "c25s75: (61, 176, 46, 154)\n",
      "Used Annotations descriptions: ['Responsec25n25', 'Responsec25r25', 'Responsec25r75', 'Responsec25s25', 'Responsec25s75', 'Responsec75r25', 'Responsec75r75', 'Responsec75s25', 'Responsec75s75', 'Responsei25r25', 'Responsei25r75', 'Responsei25s25', 'Responsei25s75', 'Responsei75n25', 'Responsei75n75', 'Responsei75r25', 'Responsei75r75', 'Responsei75s25', 'Responsei75s75', 'Stimulusc25n25', 'Stimulusc25r25', 'Stimulusc25r75', 'Stimulusc25s25', 'Stimulusc25s75', 'Stimulusc75r25', 'Stimulusc75r75', 'Stimulusc75s25', 'Stimulusc75s75', 'Stimulusi25n75', 'Stimulusi25r25', 'Stimulusi25r75', 'Stimulusi25s25', 'Stimulusi25s75', 'Stimulusi75n25', 'Stimulusi75n75', 'Stimulusi75r25', 'Stimulusi75r75', 'Stimulusi75s25', 'Stimulusi75s75']\n",
      "Not setting metadata\n",
      "61 matching events found\n",
      "No baseline correction applied\n",
      "0 projection items activated\n",
      "Using data from preloaded Raw for 61 events and 7169 original time points ...\n",
      "0 bad epochs dropped\n"
     ]
    },
    {
     "name": "stderr",
     "output_type": "stream",
     "text": [
      "[Parallel(n_jobs=-2)]: Using backend ThreadingBackend with 7 concurrent workers.\n",
      "[Parallel(n_jobs=-2)]: Done   4 tasks      | elapsed:    2.9s\n",
      "[Parallel(n_jobs=-2)]: Done  11 tasks      | elapsed:    5.5s\n",
      "[Parallel(n_jobs=-2)]: Done  18 tasks      | elapsed:    8.8s\n",
      "[Parallel(n_jobs=-2)]: Done  27 tasks      | elapsed:   11.4s\n",
      "[Parallel(n_jobs=-2)]: Done  36 tasks      | elapsed:   15.1s\n",
      "[Parallel(n_jobs=-2)]: Done  47 tasks      | elapsed:   19.5s\n",
      "[Parallel(n_jobs=-2)]: Done  58 tasks      | elapsed:   23.8s\n",
      "[Parallel(n_jobs=-2)]: Done  71 tasks      | elapsed:   28.7s\n",
      "[Parallel(n_jobs=-2)]: Done  84 tasks      | elapsed:   34.0s\n",
      "[Parallel(n_jobs=-2)]: Done  99 tasks      | elapsed:   39.8s\n",
      "[Parallel(n_jobs=-2)]: Done 114 tasks      | elapsed:   45.5s\n",
      "[Parallel(n_jobs=-2)]: Done 131 tasks      | elapsed:   52.2s\n",
      "[Parallel(n_jobs=-2)]: Done 148 tasks      | elapsed:   58.5s\n"
     ]
    },
    {
     "name": "stdout",
     "output_type": "stream",
     "text": [
      "Not setting metadata\n"
     ]
    },
    {
     "name": "stderr",
     "output_type": "stream",
     "text": [
      "[Parallel(n_jobs=-2)]: Done 176 out of 176 | elapsed:  1.1min finished\n"
     ]
    },
    {
     "name": "stdout",
     "output_type": "stream",
     "text": [
      "c25s75: (61, 176, 46, 359)\n",
      "Applying baseline correction (mode: ratio)\n",
      "Used Annotations descriptions: ['Responsec25n25', 'Responsec25r25', 'Responsec25r75', 'Responsec25s25', 'Responsec25s75', 'Responsec75r25', 'Responsec75r75', 'Responsec75s25', 'Responsec75s75', 'Responsei25r25', 'Responsei25r75', 'Responsei25s25', 'Responsei25s75', 'Responsei75n25', 'Responsei75n75', 'Responsei75r25', 'Responsei75r75', 'Responsei75s25', 'Responsei75s75', 'Stimulusc25n25', 'Stimulusc25r25', 'Stimulusc25r75', 'Stimulusc25s25', 'Stimulusc25s75', 'Stimulusc75r25', 'Stimulusc75r75', 'Stimulusc75s25', 'Stimulusc75s75', 'Stimulusi25n75', 'Stimulusi25r25', 'Stimulusi25r75', 'Stimulusi25s25', 'Stimulusi25s75', 'Stimulusi75n25', 'Stimulusi75n75', 'Stimulusi75r25', 'Stimulusi75r75', 'Stimulusi75s25', 'Stimulusi75s75']\n",
      "Not setting metadata\n",
      "55 matching events found\n",
      "No baseline correction applied\n",
      "0 projection items activated\n",
      "Using data from preloaded Raw for 55 events and 8193 original time points ...\n",
      "0 bad epochs dropped\n"
     ]
    },
    {
     "name": "stderr",
     "output_type": "stream",
     "text": [
      "[Parallel(n_jobs=-2)]: Using backend ThreadingBackend with 7 concurrent workers.\n",
      "[Parallel(n_jobs=-2)]: Done   4 tasks      | elapsed:    3.2s\n",
      "[Parallel(n_jobs=-2)]: Done  11 tasks      | elapsed:    6.2s\n",
      "[Parallel(n_jobs=-2)]: Done  18 tasks      | elapsed:    9.2s\n",
      "[Parallel(n_jobs=-2)]: Done  27 tasks      | elapsed:   12.2s\n",
      "[Parallel(n_jobs=-2)]: Done  36 tasks      | elapsed:   16.2s\n",
      "[Parallel(n_jobs=-2)]: Done  47 tasks      | elapsed:   20.4s\n",
      "[Parallel(n_jobs=-2)]: Done  58 tasks      | elapsed:   25.0s\n",
      "[Parallel(n_jobs=-2)]: Done  71 tasks      | elapsed:   29.9s\n",
      "[Parallel(n_jobs=-2)]: Done  84 tasks      | elapsed:   35.4s\n",
      "[Parallel(n_jobs=-2)]: Done  99 tasks      | elapsed:   41.2s\n",
      "[Parallel(n_jobs=-2)]: Done 114 tasks      | elapsed:   47.3s\n",
      "[Parallel(n_jobs=-2)]: Done 131 tasks      | elapsed:   54.6s\n",
      "[Parallel(n_jobs=-2)]: Done 148 tasks      | elapsed:  1.0min\n"
     ]
    },
    {
     "name": "stdout",
     "output_type": "stream",
     "text": [
      "Not setting metadata\n"
     ]
    },
    {
     "name": "stderr",
     "output_type": "stream",
     "text": [
      "[Parallel(n_jobs=-2)]: Done 176 out of 176 | elapsed:  1.2min finished\n"
     ]
    },
    {
     "name": "stdout",
     "output_type": "stream",
     "text": [
      "c25s75: (55, 176, 46, 410)\n",
      "Applying baseline correction (mode: ratio)\n",
      "Used Annotations descriptions: ['Responsec25n25', 'Responsec25r25', 'Responsec25r75', 'Responsec25s25', 'Responsec25s75', 'Responsec75r25', 'Responsec75r75', 'Responsec75s25', 'Responsec75s75', 'Responsei25r25', 'Responsei25r75', 'Responsei25s25', 'Responsei25s75', 'Responsei75n25', 'Responsei75n75', 'Responsei75r25', 'Responsei75r75', 'Responsei75s25', 'Responsei75s75', 'Stimulusc25n25', 'Stimulusc25r25', 'Stimulusc25r75', 'Stimulusc25s25', 'Stimulusc25s75', 'Stimulusc75r25', 'Stimulusc75r75', 'Stimulusc75s25', 'Stimulusc75s75', 'Stimulusi25n75', 'Stimulusi25r25', 'Stimulusi25r75', 'Stimulusi25s25', 'Stimulusi25s75', 'Stimulusi75n25', 'Stimulusi75n75', 'Stimulusi75r25', 'Stimulusi75r75', 'Stimulusi75s25', 'Stimulusi75s75']\n",
      "Not setting metadata\n",
      "5 matching events found\n",
      "No baseline correction applied\n",
      "0 projection items activated\n",
      "Using data from preloaded Raw for 5 events and 3073 original time points ...\n",
      "0 bad epochs dropped\n"
     ]
    },
    {
     "name": "stderr",
     "output_type": "stream",
     "text": [
      "[Parallel(n_jobs=-2)]: Using backend ThreadingBackend with 7 concurrent workers.\n",
      "[Parallel(n_jobs=-2)]: Done   4 tasks      | elapsed:    0.0s\n",
      "[Parallel(n_jobs=-2)]: Done  11 tasks      | elapsed:    0.1s\n",
      "[Parallel(n_jobs=-2)]: Done  18 tasks      | elapsed:    0.2s\n",
      "[Parallel(n_jobs=-2)]: Done  27 tasks      | elapsed:    0.3s\n",
      "[Parallel(n_jobs=-2)]: Done  36 tasks      | elapsed:    0.5s\n",
      "[Parallel(n_jobs=-2)]: Done  47 tasks      | elapsed:    0.6s\n",
      "[Parallel(n_jobs=-2)]: Done  58 tasks      | elapsed:    0.8s\n",
      "[Parallel(n_jobs=-2)]: Done  71 tasks      | elapsed:    0.9s\n",
      "[Parallel(n_jobs=-2)]: Done  84 tasks      | elapsed:    1.1s\n",
      "[Parallel(n_jobs=-2)]: Done  99 tasks      | elapsed:    1.3s\n",
      "[Parallel(n_jobs=-2)]: Done 114 tasks      | elapsed:    1.6s\n",
      "[Parallel(n_jobs=-2)]: Done 131 tasks      | elapsed:    1.8s\n",
      "[Parallel(n_jobs=-2)]: Done 148 tasks      | elapsed:    2.0s\n"
     ]
    },
    {
     "name": "stdout",
     "output_type": "stream",
     "text": [
      "Not setting metadata\n",
      "i25r75: (5, 176, 46, 154)\n",
      "Used Annotations descriptions: ['Responsec25n25', 'Responsec25r25', 'Responsec25r75', 'Responsec25s25', 'Responsec25s75', 'Responsec75r25', 'Responsec75r75', 'Responsec75s25', 'Responsec75s75', 'Responsei25r25', 'Responsei25r75', 'Responsei25s25', 'Responsei25s75', 'Responsei75n25', 'Responsei75n75', 'Responsei75r25', 'Responsei75r75', 'Responsei75s25', 'Responsei75s75', 'Stimulusc25n25', 'Stimulusc25r25', 'Stimulusc25r75', 'Stimulusc25s25', 'Stimulusc25s75', 'Stimulusc75r25', 'Stimulusc75r75', 'Stimulusc75s25', 'Stimulusc75s75', 'Stimulusi25n75', 'Stimulusi25r25', 'Stimulusi25r75', 'Stimulusi25s25', 'Stimulusi25s75', 'Stimulusi75n25', 'Stimulusi75n75', 'Stimulusi75r25', 'Stimulusi75r75', 'Stimulusi75s25', 'Stimulusi75s75']\n",
      "Not setting metadata\n",
      "5 matching events found\n",
      "No baseline correction applied\n",
      "0 projection items activated\n",
      "Using data from preloaded Raw for 5 events and 7169 original time points ...\n",
      "0 bad epochs dropped\n"
     ]
    },
    {
     "name": "stderr",
     "output_type": "stream",
     "text": [
      "[Parallel(n_jobs=-2)]: Done 176 out of 176 | elapsed:    2.4s finished\n",
      "[Parallel(n_jobs=-2)]: Using backend ThreadingBackend with 7 concurrent workers.\n",
      "[Parallel(n_jobs=-2)]: Done   4 tasks      | elapsed:    0.2s\n",
      "[Parallel(n_jobs=-2)]: Done  11 tasks      | elapsed:    0.4s\n",
      "[Parallel(n_jobs=-2)]: Done  18 tasks      | elapsed:    0.6s\n",
      "[Parallel(n_jobs=-2)]: Done  27 tasks      | elapsed:    0.9s\n",
      "[Parallel(n_jobs=-2)]: Done  36 tasks      | elapsed:    1.3s\n",
      "[Parallel(n_jobs=-2)]: Done  47 tasks      | elapsed:    1.7s\n",
      "[Parallel(n_jobs=-2)]: Done  58 tasks      | elapsed:    2.1s\n",
      "[Parallel(n_jobs=-2)]: Done  71 tasks      | elapsed:    2.5s\n",
      "[Parallel(n_jobs=-2)]: Done  84 tasks      | elapsed:    2.9s\n",
      "[Parallel(n_jobs=-2)]: Done  99 tasks      | elapsed:    3.4s\n",
      "[Parallel(n_jobs=-2)]: Done 114 tasks      | elapsed:    3.9s\n",
      "[Parallel(n_jobs=-2)]: Done 131 tasks      | elapsed:    4.5s\n",
      "[Parallel(n_jobs=-2)]: Done 148 tasks      | elapsed:    5.0s\n"
     ]
    },
    {
     "name": "stdout",
     "output_type": "stream",
     "text": [
      "Not setting metadata\n"
     ]
    },
    {
     "name": "stderr",
     "output_type": "stream",
     "text": [
      "[Parallel(n_jobs=-2)]: Done 176 out of 176 | elapsed:    5.9s finished\n"
     ]
    },
    {
     "name": "stdout",
     "output_type": "stream",
     "text": [
      "i25r75: (5, 176, 46, 359)\n",
      "Applying baseline correction (mode: ratio)\n",
      "Used Annotations descriptions: ['Responsec25n25', 'Responsec25r25', 'Responsec25r75', 'Responsec25s25', 'Responsec25s75', 'Responsec75r25', 'Responsec75r75', 'Responsec75s25', 'Responsec75s75', 'Responsei25r25', 'Responsei25r75', 'Responsei25s25', 'Responsei25s75', 'Responsei75n25', 'Responsei75n75', 'Responsei75r25', 'Responsei75r75', 'Responsei75s25', 'Responsei75s75', 'Stimulusc25n25', 'Stimulusc25r25', 'Stimulusc25r75', 'Stimulusc25s25', 'Stimulusc25s75', 'Stimulusc75r25', 'Stimulusc75r75', 'Stimulusc75s25', 'Stimulusc75s75', 'Stimulusi25n75', 'Stimulusi25r25', 'Stimulusi25r75', 'Stimulusi25s25', 'Stimulusi25s75', 'Stimulusi75n25', 'Stimulusi75n75', 'Stimulusi75r25', 'Stimulusi75r75', 'Stimulusi75s25', 'Stimulusi75s75']\n",
      "Not setting metadata\n",
      "3 matching events found\n",
      "No baseline correction applied\n",
      "0 projection items activated\n",
      "Using data from preloaded Raw for 3 events and 8193 original time points ...\n",
      "0 bad epochs dropped\n"
     ]
    },
    {
     "name": "stderr",
     "output_type": "stream",
     "text": [
      "[Parallel(n_jobs=-2)]: Using backend ThreadingBackend with 7 concurrent workers.\n",
      "[Parallel(n_jobs=-2)]: Done   4 tasks      | elapsed:    0.1s\n",
      "[Parallel(n_jobs=-2)]: Done  11 tasks      | elapsed:    0.2s\n",
      "[Parallel(n_jobs=-2)]: Done  18 tasks      | elapsed:    0.4s\n",
      "[Parallel(n_jobs=-2)]: Done  27 tasks      | elapsed:    0.6s\n",
      "[Parallel(n_jobs=-2)]: Done  36 tasks      | elapsed:    0.9s\n",
      "[Parallel(n_jobs=-2)]: Done  47 tasks      | elapsed:    1.1s\n",
      "[Parallel(n_jobs=-2)]: Done  58 tasks      | elapsed:    1.4s\n",
      "[Parallel(n_jobs=-2)]: Done  71 tasks      | elapsed:    1.8s\n",
      "[Parallel(n_jobs=-2)]: Done  84 tasks      | elapsed:    1.9s\n",
      "[Parallel(n_jobs=-2)]: Done  99 tasks      | elapsed:    2.4s\n",
      "[Parallel(n_jobs=-2)]: Done 114 tasks      | elapsed:    2.7s\n",
      "[Parallel(n_jobs=-2)]: Done 131 tasks      | elapsed:    3.1s\n",
      "[Parallel(n_jobs=-2)]: Done 148 tasks      | elapsed:    3.5s\n"
     ]
    },
    {
     "name": "stdout",
     "output_type": "stream",
     "text": [
      "Not setting metadata\n",
      "i25r75: (3, 176, 46, 410)\n",
      "Applying baseline correction (mode: ratio)\n"
     ]
    },
    {
     "name": "stderr",
     "output_type": "stream",
     "text": [
      "[Parallel(n_jobs=-2)]: Done 176 out of 176 | elapsed:    4.1s finished\n"
     ]
    },
    {
     "name": "stdout",
     "output_type": "stream",
     "text": [
      "Used Annotations descriptions: ['Responsec25n25', 'Responsec25r25', 'Responsec25r75', 'Responsec25s25', 'Responsec25s75', 'Responsec75r25', 'Responsec75r75', 'Responsec75s25', 'Responsec75s75', 'Responsei25r25', 'Responsei25r75', 'Responsei25s25', 'Responsei25s75', 'Responsei75n25', 'Responsei75n75', 'Responsei75r25', 'Responsei75r75', 'Responsei75s25', 'Responsei75s75', 'Stimulusc25n25', 'Stimulusc25r25', 'Stimulusc25r75', 'Stimulusc25s25', 'Stimulusc25s75', 'Stimulusc75r25', 'Stimulusc75r75', 'Stimulusc75s25', 'Stimulusc75s75', 'Stimulusi25n75', 'Stimulusi25r25', 'Stimulusi25r75', 'Stimulusi25s25', 'Stimulusi25s75', 'Stimulusi75n25', 'Stimulusi75n75', 'Stimulusi75r25', 'Stimulusi75r75', 'Stimulusi75s25', 'Stimulusi75s75']\n",
      "Not setting metadata\n",
      "23 matching events found\n",
      "No baseline correction applied\n",
      "0 projection items activated\n",
      "Using data from preloaded Raw for 23 events and 3073 original time points ...\n",
      "0 bad epochs dropped\n"
     ]
    },
    {
     "name": "stderr",
     "output_type": "stream",
     "text": [
      "[Parallel(n_jobs=-2)]: Using backend ThreadingBackend with 7 concurrent workers.\n",
      "[Parallel(n_jobs=-2)]: Done   4 tasks      | elapsed:    0.4s\n",
      "[Parallel(n_jobs=-2)]: Done  11 tasks      | elapsed:    0.8s\n",
      "[Parallel(n_jobs=-2)]: Done  18 tasks      | elapsed:    1.2s\n",
      "[Parallel(n_jobs=-2)]: Done  27 tasks      | elapsed:    1.7s\n",
      "[Parallel(n_jobs=-2)]: Done  36 tasks      | elapsed:    2.3s\n",
      "[Parallel(n_jobs=-2)]: Done  47 tasks      | elapsed:    2.9s\n",
      "[Parallel(n_jobs=-2)]: Done  58 tasks      | elapsed:    3.6s\n",
      "[Parallel(n_jobs=-2)]: Done  71 tasks      | elapsed:    4.3s\n",
      "[Parallel(n_jobs=-2)]: Done  84 tasks      | elapsed:    5.0s\n",
      "[Parallel(n_jobs=-2)]: Done  99 tasks      | elapsed:    6.0s\n",
      "[Parallel(n_jobs=-2)]: Done 114 tasks      | elapsed:    6.8s\n",
      "[Parallel(n_jobs=-2)]: Done 131 tasks      | elapsed:    7.9s\n",
      "[Parallel(n_jobs=-2)]: Done 148 tasks      | elapsed:    8.8s\n"
     ]
    },
    {
     "name": "stdout",
     "output_type": "stream",
     "text": [
      "Not setting metadata\n",
      "c25r75: (23, 176, 46, 154)\n",
      "Used Annotations descriptions: ['Responsec25n25', 'Responsec25r25', 'Responsec25r75', 'Responsec25s25', 'Responsec25s75', 'Responsec75r25', 'Responsec75r75', 'Responsec75s25', 'Responsec75s75', 'Responsei25r25', 'Responsei25r75', 'Responsei25s25', 'Responsei25s75', 'Responsei75n25', 'Responsei75n75', 'Responsei75r25', 'Responsei75r75', 'Responsei75s25', 'Responsei75s75', 'Stimulusc25n25', 'Stimulusc25r25', 'Stimulusc25r75', 'Stimulusc25s25', 'Stimulusc25s75', 'Stimulusc75r25', 'Stimulusc75r75', 'Stimulusc75s25', 'Stimulusc75s75', 'Stimulusi25n75', 'Stimulusi25r25', 'Stimulusi25r75', 'Stimulusi25s25', 'Stimulusi25s75', 'Stimulusi75n25', 'Stimulusi75n75', 'Stimulusi75r25', 'Stimulusi75r75', 'Stimulusi75s25', 'Stimulusi75s75']\n",
      "Not setting metadata\n",
      "23 matching events found\n",
      "No baseline correction applied\n"
     ]
    },
    {
     "name": "stderr",
     "output_type": "stream",
     "text": [
      "[Parallel(n_jobs=-2)]: Done 176 out of 176 | elapsed:   10.3s finished\n"
     ]
    },
    {
     "name": "stdout",
     "output_type": "stream",
     "text": [
      "0 projection items activated\n",
      "Using data from preloaded Raw for 23 events and 7169 original time points ...\n",
      "0 bad epochs dropped\n"
     ]
    },
    {
     "name": "stderr",
     "output_type": "stream",
     "text": [
      "[Parallel(n_jobs=-2)]: Using backend ThreadingBackend with 7 concurrent workers.\n",
      "[Parallel(n_jobs=-2)]: Done   4 tasks      | elapsed:    0.9s\n",
      "[Parallel(n_jobs=-2)]: Done  11 tasks      | elapsed:    2.0s\n",
      "[Parallel(n_jobs=-2)]: Done  18 tasks      | elapsed:    3.0s\n",
      "[Parallel(n_jobs=-2)]: Done  27 tasks      | elapsed:    4.0s\n",
      "[Parallel(n_jobs=-2)]: Done  36 tasks      | elapsed:    5.9s\n",
      "[Parallel(n_jobs=-2)]: Done  47 tasks      | elapsed:    7.0s\n",
      "[Parallel(n_jobs=-2)]: Done  58 tasks      | elapsed:    8.8s\n",
      "[Parallel(n_jobs=-2)]: Done  71 tasks      | elapsed:   10.6s\n",
      "[Parallel(n_jobs=-2)]: Done  84 tasks      | elapsed:   12.0s\n",
      "[Parallel(n_jobs=-2)]: Done  99 tasks      | elapsed:   14.2s\n",
      "[Parallel(n_jobs=-2)]: Done 114 tasks      | elapsed:   16.1s\n",
      "[Parallel(n_jobs=-2)]: Done 131 tasks      | elapsed:   19.1s\n",
      "[Parallel(n_jobs=-2)]: Done 148 tasks      | elapsed:   21.3s\n"
     ]
    },
    {
     "name": "stdout",
     "output_type": "stream",
     "text": [
      "Not setting metadata\n"
     ]
    },
    {
     "name": "stderr",
     "output_type": "stream",
     "text": [
      "[Parallel(n_jobs=-2)]: Done 176 out of 176 | elapsed:   25.1s finished\n"
     ]
    },
    {
     "name": "stdout",
     "output_type": "stream",
     "text": [
      "c25r75: (23, 176, 46, 359)\n",
      "Applying baseline correction (mode: ratio)\n",
      "Used Annotations descriptions: ['Responsec25n25', 'Responsec25r25', 'Responsec25r75', 'Responsec25s25', 'Responsec25s75', 'Responsec75r25', 'Responsec75r75', 'Responsec75s25', 'Responsec75s75', 'Responsei25r25', 'Responsei25r75', 'Responsei25s25', 'Responsei25s75', 'Responsei75n25', 'Responsei75n75', 'Responsei75r25', 'Responsei75r75', 'Responsei75s25', 'Responsei75s75', 'Stimulusc25n25', 'Stimulusc25r25', 'Stimulusc25r75', 'Stimulusc25s25', 'Stimulusc25s75', 'Stimulusc75r25', 'Stimulusc75r75', 'Stimulusc75s25', 'Stimulusc75s75', 'Stimulusi25n75', 'Stimulusi25r25', 'Stimulusi25r75', 'Stimulusi25s25', 'Stimulusi25s75', 'Stimulusi75n25', 'Stimulusi75n75', 'Stimulusi75r25', 'Stimulusi75r75', 'Stimulusi75s25', 'Stimulusi75s75']\n",
      "Not setting metadata\n",
      "22 matching events found\n",
      "No baseline correction applied\n",
      "0 projection items activated\n",
      "Using data from preloaded Raw for 22 events and 8193 original time points ...\n",
      "0 bad epochs dropped\n"
     ]
    },
    {
     "name": "stderr",
     "output_type": "stream",
     "text": [
      "[Parallel(n_jobs=-2)]: Using backend ThreadingBackend with 7 concurrent workers.\n",
      "[Parallel(n_jobs=-2)]: Done   4 tasks      | elapsed:    1.2s\n",
      "[Parallel(n_jobs=-2)]: Done  11 tasks      | elapsed:    2.4s\n",
      "[Parallel(n_jobs=-2)]: Done  18 tasks      | elapsed:    3.7s\n",
      "[Parallel(n_jobs=-2)]: Done  27 tasks      | elapsed:    5.0s\n",
      "[Parallel(n_jobs=-2)]: Done  36 tasks      | elapsed:    7.0s\n",
      "[Parallel(n_jobs=-2)]: Done  47 tasks      | elapsed:    8.6s\n",
      "[Parallel(n_jobs=-2)]: Done  58 tasks      | elapsed:   10.7s\n",
      "[Parallel(n_jobs=-2)]: Done  71 tasks      | elapsed:   12.4s\n",
      "[Parallel(n_jobs=-2)]: Done  84 tasks      | elapsed:   14.5s\n",
      "[Parallel(n_jobs=-2)]: Done  99 tasks      | elapsed:   16.8s\n",
      "[Parallel(n_jobs=-2)]: Done 114 tasks      | elapsed:   19.1s\n",
      "[Parallel(n_jobs=-2)]: Done 131 tasks      | elapsed:   22.1s\n",
      "[Parallel(n_jobs=-2)]: Done 148 tasks      | elapsed:   24.7s\n"
     ]
    },
    {
     "name": "stdout",
     "output_type": "stream",
     "text": [
      "Not setting metadata\n"
     ]
    },
    {
     "name": "stderr",
     "output_type": "stream",
     "text": [
      "[Parallel(n_jobs=-2)]: Done 176 out of 176 | elapsed:   29.0s finished\n"
     ]
    },
    {
     "name": "stdout",
     "output_type": "stream",
     "text": [
      "c25r75: (22, 176, 46, 410)\n",
      "Applying baseline correction (mode: ratio)\n"
     ]
    }
   ],
   "source": [
    "# Rescale all the specs after baselines are concatenated\n",
    "for trialType in trialTypes:\n",
    "    for epoch, t, name in zip(\n",
    "            (\"Stimulus\"+trialType, \"Stimulus\"+trialType, \"Response\"+trialType),\n",
    "            ((-0.5, 0), (-0.5, 2), (-1, 2)),\n",
    "            (\"baselineStimulus\"+trialType, \"Stimulus\"+trialType, \"Response\"+trialType)):\n",
    "        times = [None, None]\n",
    "        times[0] = t[0] - 0.5\n",
    "        times[1] = t[1] + 0.5\n",
    "        trials = trial_ieeg(good, epoch, times, preload=True)\n",
    "        outliers_to_nan(trials, outliers=10)\n",
    "        spec = wavelet_scaleogram(trials, n_jobs=-2, decim=int(good.info['sfreq'] / 100))\n",
    "        print(trialType + \": \" + str(spec.data.shape))\n",
    "        timeDim = spec.data.shape[3]\n",
    "        if timeDim > biggestTimeDim:\n",
    "            biggestTimeDim = timeDim\n",
    "        crop_pad(spec, \"0.5s\")\n",
    "        if name == \"baselineStimulus\"+trialType:\n",
    "            continue\n",
    "        base = spec.copy()\n",
    "        base.data = allBaselines\n",
    "        spec_a = rescale(spec, base, copy=True, mode='ratio').average(\n",
    "            lambda x: np.nanmean(x, axis=0), copy=True)\n",
    "        spec_a._data = np.log10(spec_a._data) * 20\n",
    "        fnames = [os.path.relpath(f, layout.root) for f in good.filenames]\n",
    "        spec_a.info['subject_info']['files'] = tuple(fnames)\n",
    "        spec_a.info['bads'] = good.info['bads']\n",
    "        filename = os.path.join(save_dir, f'{name}-tfrAvgAllBaseline.h5')\n",
    "        mne.time_frequency.write_tfrs(filename, spec_a, overwrite=True)\n",
    "        spec_a.save(os.path.join(save_dir, f'{name}-avgAvgAllBaseline.fif'), overwrite=True)\n"
   ]
  },
  {
   "cell_type": "code",
   "execution_count": 31,
   "metadata": {},
   "outputs": [
    {
     "data": {
      "text/plain": [
       "<EpochsTFR | time : [-0.992188, 1.986328], freq : [2.079716, 1064.814640], epochs : 890, channels : 176, ~2.68 GB>"
      ]
     },
     "execution_count": 31,
     "metadata": {},
     "output_type": "execute_result"
    }
   ],
   "source": [
    "base"
   ]
  },
  {
   "cell_type": "code",
   "execution_count": 11,
   "metadata": {},
   "outputs": [],
   "source": [
    "allBaselines = np.empty(shape=(0,176,46,50))\n",
    "allBaselines = np.concatenate([allBaselines, base.data], axis=0)"
   ]
  },
  {
   "attachments": {},
   "cell_type": "markdown",
   "metadata": {},
   "source": [
    "### for a single trial type"
   ]
  },
  {
   "cell_type": "code",
   "execution_count": null,
   "metadata": {},
   "outputs": [],
   "source": [
    "# trialType = \"i75s25\"\n",
    "trialTypes = [\"i75s25\", \"c75s25\", \"i75r25\", \"c75r25\", \"i75s75\", \"c75s75\", \"i75r75\", \"c75r75\",\n",
    "              \"i25s25\", \"c25s25\", \"i25r25\", \"c25r25\", \"i75s25\", \"c25s75\", \"i25r75\", \"c25r75\"]\n",
    "\n",
    "allBaselines = np.empty(shape=(0,176,46,50))\n",
    "\n",
    "\n",
    "for trialType in trialTypes:\n",
    "    for epoch, t, name in zip(\n",
    "        (\"Stimulus\"+trialType, \"Stimulus\"+trialType,  \"Response\"+trialType),\n",
    "        ((-0.5, 0), (-0.5, 2), (-1, 2)),\n",
    "        (\"baselineStimulus\"+trialType, \"Stimulus\"+trialType, \"Response\"+trialType)):\n",
    "        times = [None, None]\n",
    "        times[0] = t[0] - 0.5\n",
    "        times[1] = t[1] + 0.5\n",
    "        trials = trial_ieeg(good, epoch, times, preload=True)\n",
    "        outliers_to_nan(trials, outliers=10)\n",
    "        spec = wavelet_scaleogram(trials, n_jobs=-2, decim=int(\n",
    "            good.info['sfreq'] / 100))\n",
    "        crop_pad(spec, \"0.5s\")\n",
    "        if name == \"baselineStimulus\"+trialType:\n",
    "            base = spec.copy()\n",
    "            continue\n",
    "            \n",
    "        spec_a = rescale(spec, base, copy=True, mode='ratio').average(\n",
    "            lambda x: np.nanmean(x, axis=0), copy=True)\n",
    "        spec_a._data = np.log10(spec_a._data) * 20\n",
    "        fnames = [os.path.relpath(f, layout.root) for f in good.filenames]\n",
    "        spec_a.info['subject_info']['files'] = tuple(fnames)\n",
    "        spec_a.info['bads'] = good.info['bads']\n",
    "        filename = os.path.join(save_dir, f'{name}-tfr.h5')\n",
    "        mne.time_frequency.write_tfrs(filename, spec_a, overwrite=True)\n",
    "        spec_a.save(os.path.join(save_dir, f'{name}-avg.fif'), overwrite=True)\n"
   ]
  },
  {
   "attachments": {},
   "cell_type": "markdown",
   "metadata": {},
   "source": [
    "### to average across all trial types and just look at differences between stimulus and response"
   ]
  }
 ],
 "metadata": {
  "kernelspec": {
   "display_name": "ieeg",
   "language": "python",
   "name": "python3"
  },
  "language_info": {
   "codemirror_mode": {
    "name": "ipython",
    "version": 3
   },
   "file_extension": ".py",
   "mimetype": "text/x-python",
   "name": "python",
   "nbconvert_exporter": "python",
   "pygments_lexer": "ipython3",
   "version": "3.11.3"
  },
  "orig_nbformat": 4
 },
 "nbformat": 4,
 "nbformat_minor": 2
}
