{
 "cells": [
  {
   "cell_type": "code",
   "execution_count": 25,
   "metadata": {},
   "outputs": [
    {
     "name": "stdout",
     "output_type": "stream",
     "text": [
      "['c:\\\\Users\\\\jz421\\\\Desktop\\\\GlobalLocal', 'C:\\\\Users\\\\jz421\\\\Desktop\\\\GlobalLocal\\\\IEEG_Pipelines', 'c:\\\\Users\\\\jz421\\\\AppData\\\\Local\\\\anaconda3\\\\envs\\\\ieeg\\\\python311.zip', 'c:\\\\Users\\\\jz421\\\\AppData\\\\Local\\\\anaconda3\\\\envs\\\\ieeg\\\\DLLs', 'c:\\\\Users\\\\jz421\\\\AppData\\\\Local\\\\anaconda3\\\\envs\\\\ieeg\\\\Lib', 'c:\\\\Users\\\\jz421\\\\AppData\\\\Local\\\\anaconda3\\\\envs\\\\ieeg', '', 'C:\\\\Users\\\\jz421\\\\AppData\\\\Roaming\\\\Python\\\\Python311\\\\site-packages', 'C:\\\\Users\\\\jz421\\\\AppData\\\\Roaming\\\\Python\\\\Python311\\\\site-packages\\\\win32', 'C:\\\\Users\\\\jz421\\\\AppData\\\\Roaming\\\\Python\\\\Python311\\\\site-packages\\\\win32\\\\lib', 'C:\\\\Users\\\\jz421\\\\AppData\\\\Roaming\\\\Python\\\\Python311\\\\site-packages\\\\Pythonwin', 'c:\\\\Users\\\\jz421\\\\AppData\\\\Local\\\\anaconda3\\\\envs\\\\ieeg\\\\Lib\\\\site-packages', 'c:\\\\Users\\\\jz421\\\\AppData\\\\Local\\\\anaconda3\\\\envs\\\\ieeg\\\\Lib\\\\site-packages\\\\win32', 'c:\\\\Users\\\\jz421\\\\AppData\\\\Local\\\\anaconda3\\\\envs\\\\ieeg\\\\Lib\\\\site-packages\\\\win32\\\\lib', 'c:\\\\Users\\\\jz421\\\\AppData\\\\Local\\\\anaconda3\\\\envs\\\\ieeg\\\\Lib\\\\site-packages\\\\Pythonwin', 'C:/Users/jz421/Desktop/GlobalLocal/IEEG_Pipelines/']\n"
     ]
    }
   ],
   "source": [
    "import sys\n",
    "print(sys.path)\n",
    "sys.path.append(\"C:/Users/jz421/Desktop/GlobalLocal/IEEG_Pipelines/\") #need to do this cuz otherwise ieeg isn't added to path...\n",
    "\n",
    "from ieeg.navigate import channel_outlier_marker, trial_ieeg, crop_empty_data, \\\n",
    "    outliers_to_nan\n",
    "from ieeg.io import raw_from_layout, get_data\n",
    "from ieeg.timefreq.utils import crop_pad\n",
    "from ieeg.timefreq import gamma\n",
    "from ieeg.calc.scaling import rescale\n",
    "import mne\n",
    "import os\n",
    "import numpy as np\n",
    "from ieeg.calc.reshape import make_data_same\n",
    "from ieeg.calc.stats import time_perm_cluster\n",
    "from ieeg.viz.mri import gen_labels\n",
    "\n",
    "from misc_functions import calculate_RTs, save_channels_to_file, save_sig_chans, load_sig_chans\n",
    "import matplotlib.pyplot as plt\n",
    "from collections import OrderedDict, defaultdict\n",
    "import json\n",
    "from misc_functions import load_sig_chans, channel_names_to_indices"
   ]
  },
  {
   "cell_type": "code",
   "execution_count": 26,
   "metadata": {},
   "outputs": [],
   "source": [
    "# Initialize the outer dictionary.\n",
    "subjects_electrodestoROIs_dict = {}"
   ]
  },
  {
   "cell_type": "markdown",
   "metadata": {},
   "source": [
    "### make subjects rois to electrodes dict. Don't need to run this more than once."
   ]
  },
  {
   "cell_type": "code",
   "execution_count": 27,
   "metadata": {},
   "outputs": [
    {
     "ename": "KeyboardInterrupt",
     "evalue": "",
     "output_type": "error",
     "traceback": [
      "\u001b[1;31m---------------------------------------------------------------------------\u001b[0m",
      "\u001b[1;31mKeyboardInterrupt\u001b[0m                         Traceback (most recent call last)",
      "\u001b[1;32mc:\\Users\\jz421\\Desktop\\GlobalLocal\\roi_analysis.ipynb Cell 4\u001b[0m line \u001b[0;36m2\n\u001b[0;32m     <a href='vscode-notebook-cell:/c%3A/Users/jz421/Desktop/GlobalLocal/roi_analysis.ipynb#W2sZmlsZQ%3D%3D?line=18'>19</a>\u001b[0m     \u001b[39melse\u001b[39;00m:  \u001b[39m# mac\u001b[39;00m\n\u001b[0;32m     <a href='vscode-notebook-cell:/c%3A/Users/jz421/Desktop/GlobalLocal/roi_analysis.ipynb#W2sZmlsZQ%3D%3D?line=19'>20</a>\u001b[0m         LAB_root \u001b[39m=\u001b[39m os\u001b[39m.\u001b[39mpath\u001b[39m.\u001b[39mjoin(HOME, \u001b[39m\"\u001b[39m\u001b[39mLibrary\u001b[39m\u001b[39m\"\u001b[39m, \u001b[39m\"\u001b[39m\u001b[39mCloudStorage\u001b[39m\u001b[39m\"\u001b[39m, \u001b[39m\"\u001b[39m\u001b[39mBox-Box\u001b[39m\u001b[39m\"\u001b[39m,\n\u001b[0;32m     <a href='vscode-notebook-cell:/c%3A/Users/jz421/Desktop/GlobalLocal/roi_analysis.ipynb#W2sZmlsZQ%3D%3D?line=20'>21</a>\u001b[0m                                 \u001b[39m\"\u001b[39m\u001b[39mCoganLab\u001b[39m\u001b[39m\"\u001b[39m)\n\u001b[1;32m---> <a href='vscode-notebook-cell:/c%3A/Users/jz421/Desktop/GlobalLocal/roi_analysis.ipynb#W2sZmlsZQ%3D%3D?line=22'>23</a>\u001b[0m layout \u001b[39m=\u001b[39m get_data(task, root\u001b[39m=\u001b[39;49mLAB_root)\n\u001b[0;32m     <a href='vscode-notebook-cell:/c%3A/Users/jz421/Desktop/GlobalLocal/roi_analysis.ipynb#W2sZmlsZQ%3D%3D?line=23'>24</a>\u001b[0m filt \u001b[39m=\u001b[39m raw_from_layout(layout\u001b[39m.\u001b[39mderivatives[\u001b[39m'\u001b[39m\u001b[39mderivatives/clean\u001b[39m\u001b[39m'\u001b[39m], subject\u001b[39m=\u001b[39msub,\n\u001b[0;32m     <a href='vscode-notebook-cell:/c%3A/Users/jz421/Desktop/GlobalLocal/roi_analysis.ipynb#W2sZmlsZQ%3D%3D?line=24'>25</a>\u001b[0m                     extension\u001b[39m=\u001b[39m\u001b[39m'\u001b[39m\u001b[39m.edf\u001b[39m\u001b[39m'\u001b[39m, desc\u001b[39m=\u001b[39m\u001b[39m'\u001b[39m\u001b[39mclean\u001b[39m\u001b[39m'\u001b[39m, preload\u001b[39m=\u001b[39m\u001b[39mFalse\u001b[39;00m)\n\u001b[0;32m     <a href='vscode-notebook-cell:/c%3A/Users/jz421/Desktop/GlobalLocal/roi_analysis.ipynb#W2sZmlsZQ%3D%3D?line=25'>26</a>\u001b[0m save_dir \u001b[39m=\u001b[39m os\u001b[39m.\u001b[39mpath\u001b[39m.\u001b[39mjoin(layout\u001b[39m.\u001b[39mroot, \u001b[39m'\u001b[39m\u001b[39mderivatives\u001b[39m\u001b[39m'\u001b[39m, \u001b[39m'\u001b[39m\u001b[39mfreqFilt\u001b[39m\u001b[39m'\u001b[39m, \u001b[39m'\u001b[39m\u001b[39mfigs\u001b[39m\u001b[39m'\u001b[39m, sub)\n",
      "File \u001b[1;32m~\\Desktop\\GlobalLocal\\IEEG_Pipelines\\ieeg\\io.py:190\u001b[0m, in \u001b[0;36mget_data\u001b[1;34m(task, root)\u001b[0m\n\u001b[0;32m    187\u001b[0m \u001b[39mif\u001b[39;00m BIDS_root \u001b[39mis\u001b[39;00m \u001b[39mNone\u001b[39;00m:\n\u001b[0;32m    188\u001b[0m     \u001b[39mraise\u001b[39;00m \u001b[39mFileNotFoundError\u001b[39;00m(\u001b[39m\"\u001b[39m\u001b[39mCould not find BIDS directory in \u001b[39m\u001b[39m{}\u001b[39;00m\u001b[39m for task \u001b[39m\u001b[39m\"\u001b[39m\n\u001b[0;32m    189\u001b[0m                             \u001b[39m\"\u001b[39m\u001b[39m{}\u001b[39;00m\u001b[39m\"\u001b[39m\u001b[39m.\u001b[39mformat(root, task))\n\u001b[1;32m--> 190\u001b[0m layout \u001b[39m=\u001b[39m BIDSLayout(BIDS_root, derivatives\u001b[39m=\u001b[39;49m\u001b[39mTrue\u001b[39;49;00m)\n\u001b[0;32m    191\u001b[0m \u001b[39mreturn\u001b[39;00m layout\n",
      "File \u001b[1;32mc:\\Users\\jz421\\AppData\\Local\\anaconda3\\envs\\ieeg\\Lib\\site-packages\\bids\\layout\\layout.py:176\u001b[0m, in \u001b[0;36mBIDSLayout.__init__\u001b[1;34m(self, root, validate, absolute_paths, derivatives, config, sources, regex_search, database_path, reset_database, indexer, is_derivative, **indexer_kwargs)\u001b[0m\n\u001b[0;32m    172\u001b[0m     \u001b[39mif\u001b[39;00m indexer \u001b[39mis\u001b[39;00m \u001b[39mNone\u001b[39;00m:\n\u001b[0;32m    173\u001b[0m         indexer \u001b[39m=\u001b[39m BIDSLayoutIndexer(\n\u001b[0;32m    174\u001b[0m             validate\u001b[39m=\u001b[39mvalidate \u001b[39mand\u001b[39;00m \u001b[39mnot\u001b[39;00m is_derivative, \u001b[39m*\u001b[39m\u001b[39m*\u001b[39mindexer_kwargs\n\u001b[0;32m    175\u001b[0m         )\n\u001b[1;32m--> 176\u001b[0m     indexer(\u001b[39mself\u001b[39;49m)\n\u001b[0;32m    178\u001b[0m \u001b[39m# Add derivatives if any are found\u001b[39;00m\n\u001b[0;32m    179\u001b[0m \u001b[39mif\u001b[39;00m derivatives:\n",
      "File \u001b[1;32mc:\\Users\\jz421\\AppData\\Local\\anaconda3\\envs\\ieeg\\Lib\\site-packages\\bids\\layout\\index.py:150\u001b[0m, in \u001b[0;36mBIDSLayoutIndexer.__call__\u001b[1;34m(self, layout)\u001b[0m\n\u001b[0;32m    148\u001b[0m \u001b[39mself\u001b[39m\u001b[39m.\u001b[39m_index_dir(\u001b[39mself\u001b[39m\u001b[39m.\u001b[39m_layout\u001b[39m.\u001b[39m_root, \u001b[39mself\u001b[39m\u001b[39m.\u001b[39m_config)\n\u001b[0;32m    149\u001b[0m \u001b[39mif\u001b[39;00m \u001b[39mself\u001b[39m\u001b[39m.\u001b[39mindex_metadata:\n\u001b[1;32m--> 150\u001b[0m     \u001b[39mself\u001b[39;49m\u001b[39m.\u001b[39;49m_index_metadata()\n",
      "File \u001b[1;32mc:\\Users\\jz421\\AppData\\Local\\anaconda3\\envs\\ieeg\\Lib\\site-packages\\bids\\layout\\index.py:393\u001b[0m, in \u001b[0;36mBIDSLayoutIndexer._index_metadata\u001b[1;34m(self)\u001b[0m\n\u001b[0;32m    389\u001b[0m     \u001b[39mcontinue\u001b[39;00m\n\u001b[0;32m    391\u001b[0m \u001b[39m# Missing data files can tolerate absent metadata files,\u001b[39;00m\n\u001b[0;32m    392\u001b[0m \u001b[39m# but we will try to load it anyway\u001b[39;00m\n\u001b[1;32m--> 393\u001b[0m virtual_datafile \u001b[39m=\u001b[39m \u001b[39mnot\u001b[39;00m bf\u001b[39m.\u001b[39;49m_path\u001b[39m.\u001b[39;49mexists()\n\u001b[0;32m    395\u001b[0m \u001b[39m# Create DB records for metadata associations\u001b[39;00m\n\u001b[0;32m    396\u001b[0m js_file \u001b[39m=\u001b[39m payloads[\u001b[39m0\u001b[39m][\u001b[39m1\u001b[39m]\n",
      "File \u001b[1;32mc:\\Users\\jz421\\AppData\\Local\\anaconda3\\envs\\ieeg\\Lib\\pathlib.py:1235\u001b[0m, in \u001b[0;36mPath.exists\u001b[1;34m(self)\u001b[0m\n\u001b[0;32m   1231\u001b[0m \u001b[39m\u001b[39m\u001b[39m\"\"\"\u001b[39;00m\n\u001b[0;32m   1232\u001b[0m \u001b[39mWhether this path exists.\u001b[39;00m\n\u001b[0;32m   1233\u001b[0m \u001b[39m\"\"\"\u001b[39;00m\n\u001b[0;32m   1234\u001b[0m \u001b[39mtry\u001b[39;00m:\n\u001b[1;32m-> 1235\u001b[0m     \u001b[39mself\u001b[39;49m\u001b[39m.\u001b[39;49mstat()\n\u001b[0;32m   1236\u001b[0m \u001b[39mexcept\u001b[39;00m \u001b[39mOSError\u001b[39;00m \u001b[39mas\u001b[39;00m e:\n\u001b[0;32m   1237\u001b[0m     \u001b[39mif\u001b[39;00m \u001b[39mnot\u001b[39;00m _ignore_error(e):\n",
      "File \u001b[1;32mc:\\Users\\jz421\\AppData\\Local\\anaconda3\\envs\\ieeg\\Lib\\pathlib.py:1013\u001b[0m, in \u001b[0;36mPath.stat\u001b[1;34m(self, follow_symlinks)\u001b[0m\n\u001b[0;32m   1008\u001b[0m \u001b[39mdef\u001b[39;00m \u001b[39mstat\u001b[39m(\u001b[39mself\u001b[39m, \u001b[39m*\u001b[39m, follow_symlinks\u001b[39m=\u001b[39m\u001b[39mTrue\u001b[39;00m):\n\u001b[0;32m   1009\u001b[0m \u001b[39m    \u001b[39m\u001b[39m\"\"\"\u001b[39;00m\n\u001b[0;32m   1010\u001b[0m \u001b[39m    Return the result of the stat() system call on this path, like\u001b[39;00m\n\u001b[0;32m   1011\u001b[0m \u001b[39m    os.stat() does.\u001b[39;00m\n\u001b[0;32m   1012\u001b[0m \u001b[39m    \"\"\"\u001b[39;00m\n\u001b[1;32m-> 1013\u001b[0m     \u001b[39mreturn\u001b[39;00m os\u001b[39m.\u001b[39mstat(\u001b[39mself\u001b[39m, follow_symlinks\u001b[39m=\u001b[39mfollow_symlinks)\n",
      "\u001b[1;31mKeyboardInterrupt\u001b[0m: "
     ]
    }
   ],
   "source": [
    "subjects = ['D0057','D0059', 'D0063', 'D0065', 'D0069', 'D0071']\n",
    "\n",
    "for sub in subjects:\n",
    "    # sub = 'D0059'\n",
    "    task = 'GlobalLocal'\n",
    "    output_name = \"Response_fixationCrossBase_1sec_mirror\"\n",
    "    events = [\"Response\"]\n",
    "    times = (-1,1.5)\n",
    "    base_times = [-1,0]\n",
    "    LAB_root = None\n",
    "    channels = None\n",
    "    full_trial_base = False\n",
    "\n",
    "\n",
    "    if LAB_root is None:\n",
    "        HOME = os.path.expanduser(\"~\")\n",
    "        if os.name == 'nt':  # windows\n",
    "            LAB_root = os.path.join(HOME, \"Box\", \"CoganLab\")\n",
    "        else:  # mac\n",
    "            LAB_root = os.path.join(HOME, \"Library\", \"CloudStorage\", \"Box-Box\",\n",
    "                                    \"CoganLab\")\n",
    "\n",
    "    layout = get_data(task, root=LAB_root)\n",
    "    filt = raw_from_layout(layout.derivatives['derivatives/clean'], subject=sub,\n",
    "                        extension='.edf', desc='clean', preload=False)\n",
    "    save_dir = os.path.join(layout.root, 'derivatives', 'freqFilt', 'figs', sub)\n",
    "    if not os.path.exists(save_dir):\n",
    "        os.makedirs(save_dir)\n",
    "\n",
    "    good = crop_empty_data(filt)\n",
    "    # %%\n",
    "\n",
    "    print(f\"good channels before dropping bads: {len(good.ch_names)}\")\n",
    "    print(f\"filt channels before dropping bads: {len(filt.ch_names)}\")\n",
    "\n",
    "    good.info['bads'] = channel_outlier_marker(good, 3, 2)\n",
    "    print(\"Bad channels in 'good':\", good.info['bads'])\n",
    "\n",
    "    filt.drop_channels(good.info['bads'])  # this has to come first cuz if you drop from good first, then good.info['bads'] is just empty\n",
    "    good.drop_channels(good.info['bads'])\n",
    "\n",
    "    print(\"Bad channels in 'good' after dropping once:\", good.info['bads'])\n",
    "\n",
    "    print(f\"good channels after dropping bads: {len(good.ch_names)}\")\n",
    "    print(f\"filt channels after dropping bads: {len(filt.ch_names)}\")\n",
    "\n",
    "    good.load_data()\n",
    "\n",
    "    # If channels is None, use all channels\n",
    "    if channels is None:\n",
    "        channels = good.ch_names\n",
    "    else:\n",
    "        # Validate the provided channels\n",
    "        invalid_channels = [ch for ch in channels if ch not in good.ch_names]\n",
    "        if invalid_channels:\n",
    "            raise ValueError(\n",
    "                f\"The following channels are not valid: {invalid_channels}\")\n",
    "\n",
    "        # Use only the specified channels\n",
    "        good.pick_channels(channels)\n",
    "\n",
    "    ch_type = filt.get_channel_types(only_data_chs=True)[0]\n",
    "    good.set_eeg_reference(ref_channels=\"average\", ch_type=ch_type)\n",
    "\n",
    "    default_dict = gen_labels(good.info)\n",
    "    \n",
    "    # Create rawROI_dict for the subject\n",
    "    rawROI_dict = defaultdict(list)\n",
    "    for key, value in default_dict.items():\n",
    "        rawROI_dict[value].append(key)\n",
    "    rawROI_dict = dict(rawROI_dict)\n",
    "\n",
    "    # Filter out keys containing \"White-Matter\"\n",
    "    filtROI_dict = {key: value for key, value in rawROI_dict.items() if \"White-Matter\" not in key}\n",
    "\n",
    "    # Store the dictionaries in the subjects dictionary\n",
    "    subjects_electrodestoROIs_dict[sub] = {\n",
    "        'default_dict': dict(default_dict),\n",
    "        'rawROI_dict': dict(rawROI_dict),\n",
    "        'filtROI_dict': dict(filtROI_dict)\n",
    "    }\n",
    "\n",
    "\n",
    "# Save to a JSON file\n",
    "filename = 'subjects_electrodestoROIs_dict.json'\n",
    "with open(filename, 'w') as file:\n",
    "    json.dump(subjects_electrodestoROIs_dict, file, indent=4)\n",
    "\n",
    "print(f\"Saved subjects_dict to {filename}\")"
   ]
  },
  {
   "cell_type": "markdown",
   "metadata": {},
   "source": [
    "### load subjects electrodes to rois dict"
   ]
  },
  {
   "cell_type": "code",
   "execution_count": 40,
   "metadata": {},
   "outputs": [
    {
     "name": "stdout",
     "output_type": "stream",
     "text": [
      "Loaded data from subjects_electrodestoROIs_dict.json\n"
     ]
    }
   ],
   "source": [
    "# Load from a JSON file\n",
    "filename = 'subjects_electrodestoROIs_dict.json'\n",
    "\n",
    "with open(filename, 'r') as file:\n",
    "    subjects_electrodestoROIs_dict = json.load(file)\n",
    "\n",
    "print(f\"Loaded data from {filename}\")"
   ]
  },
  {
   "cell_type": "markdown",
   "metadata": {},
   "source": [
    "### load high gamma data so we can do roi analysis on it\n",
    "once we have more subjects, turn this into a function and loop over all subjects"
   ]
  },
  {
   "cell_type": "code",
   "execution_count": 19,
   "metadata": {},
   "outputs": [
    {
     "name": "stdout",
     "output_type": "stream",
     "text": [
      "Reading C:\\Users\\jz421\\Box\\CoganLab\\BIDS-1.1_GlobalLocal\\BIDS\\derivatives\\freqFilt\\figs\\D0057\\D0057_Stimulus_i25and75_fixationCrossBase_1sec_mirror_HG_ev1-epo.fif ...\n",
      "    Found the data of interest:\n",
      "        t =   -1000.00 ...    1500.00 ms\n",
      "        0 CTF compensation matrices available\n",
      "Not setting metadata\n",
      "224 matching events found\n",
      "No baseline correction applied\n",
      "0 projection items activated\n",
      "Reading C:\\Users\\jz421\\Box\\CoganLab\\BIDS-1.1_GlobalLocal\\BIDS\\derivatives\\freqFilt\\figs\\D0057\\D0057_Stimulus_i25and75_fixationCrossBase_1sec_mirror_HG_base-epo.fif ...\n",
      "    Found the data of interest:\n",
      "        t =   -1000.00 ...       0.00 ms\n",
      "        0 CTF compensation matrices available\n",
      "Not setting metadata\n",
      "448 matching events found\n",
      "No baseline correction applied\n",
      "0 projection items activated\n",
      "Reading C:\\Users\\jz421\\Box\\CoganLab\\BIDS-1.1_GlobalLocal\\BIDS\\derivatives\\freqFilt\\figs\\D0057\\D0057_Stimulus_i25and75_fixationCrossBase_1sec_mirror_HG_ev1_rescaled-epo.fif ...\n",
      "    Found the data of interest:\n",
      "        t =   -1000.00 ...    1500.00 ms\n",
      "        0 CTF compensation matrices available\n",
      "Not setting metadata\n",
      "224 matching events found\n",
      "No baseline correction applied\n",
      "0 projection items activated\n",
      "NOTE: pick_channels() is a legacy function. New code should use inst.pick(...).\n",
      "NOTE: pick_channels() is a legacy function. New code should use inst.pick(...).\n",
      "Reading C:\\Users\\jz421\\Box\\CoganLab\\BIDS-1.1_GlobalLocal\\BIDS\\derivatives\\freqFilt\\figs\\D0057\\D0057_Stimulus_c25and75_fixationCrossBase_1sec_mirror_HG_ev1-epo.fif ...\n",
      "    Found the data of interest:\n",
      "        t =   -1000.00 ...    1500.00 ms\n",
      "        0 CTF compensation matrices available\n",
      "Not setting metadata\n",
      "224 matching events found\n",
      "No baseline correction applied\n",
      "0 projection items activated\n",
      "Reading C:\\Users\\jz421\\Box\\CoganLab\\BIDS-1.1_GlobalLocal\\BIDS\\derivatives\\freqFilt\\figs\\D0057\\D0057_Stimulus_c25and75_fixationCrossBase_1sec_mirror_HG_base-epo.fif ...\n",
      "    Found the data of interest:\n",
      "        t =   -1000.00 ...       0.00 ms\n",
      "        0 CTF compensation matrices available\n",
      "Not setting metadata\n",
      "448 matching events found\n",
      "No baseline correction applied\n",
      "0 projection items activated\n",
      "Reading C:\\Users\\jz421\\Box\\CoganLab\\BIDS-1.1_GlobalLocal\\BIDS\\derivatives\\freqFilt\\figs\\D0057\\D0057_Stimulus_c25and75_fixationCrossBase_1sec_mirror_HG_ev1_rescaled-epo.fif ...\n",
      "    Found the data of interest:\n",
      "        t =   -1000.00 ...    1500.00 ms\n",
      "        0 CTF compensation matrices available\n",
      "Not setting metadata\n",
      "224 matching events found\n",
      "No baseline correction applied\n",
      "0 projection items activated\n",
      "NOTE: pick_channels() is a legacy function. New code should use inst.pick(...).\n",
      "NOTE: pick_channels() is a legacy function. New code should use inst.pick(...).\n"
     ]
    }
   ],
   "source": [
    "import os\n",
    "import mne\n",
    "import numpy as np\n",
    "\n",
    "\n",
    "def load_mne_objects(sub, output_name, task, LAB_root=None):\n",
    "    \"\"\"\n",
    "    Load MNE objects for a given subject and output name.\n",
    "\n",
    "    Parameters:\n",
    "    - sub (str): Subject identifier.\n",
    "    - output_name (str): Output name used in the file naming.\n",
    "    - task (str): Task identifier.\n",
    "    - LAB_root (str, optional): Root directory for the lab. If None, it will be determined based on the OS.\n",
    "\n",
    "    Returns:\n",
    "    A dictionary containing loaded MNE objects.\n",
    "    \"\"\"\n",
    "\n",
    "    # Determine LAB_root based on the operating system\n",
    "    if LAB_root is None:\n",
    "        HOME = os.path.expanduser(\"~\")\n",
    "        LAB_root = os.path.join(HOME, \"Box\", \"CoganLab\") if os.name == 'nt' else os.path.join(HOME, \"Library\", \"CloudStorage\", \"Box-Box\", \"CoganLab\")\n",
    "\n",
    "    # Get data layout\n",
    "    layout = get_data(task, root=LAB_root)\n",
    "    save_dir = os.path.join(layout.root, 'derivatives', 'freqFilt', 'figs', sub)\n",
    "    \n",
    "    # Ensure save directory exists\n",
    "    if not os.path.exists(save_dir):\n",
    "        os.makedirs(save_dir)\n",
    "\n",
    "    # Define file paths\n",
    "    HG_ev1_file = f'{save_dir}/{sub}_{output_name}_HG_ev1-epo.fif'\n",
    "    HG_base_file = f'{save_dir}/{sub}_{output_name}_HG_base-epo.fif'\n",
    "    HG_ev1_rescaled_file = f'{save_dir}/{sub}_{output_name}_HG_ev1_rescaled-epo.fif'\n",
    "\n",
    "    # Load the objects\n",
    "    HG_ev1 = mne.read_epochs(HG_ev1_file)\n",
    "    HG_base = mne.read_epochs(HG_base_file)\n",
    "    HG_ev1_rescaled = mne.read_epochs(HG_ev1_rescaled_file)\n",
    "    HG_ev1_evoke = HG_ev1.average(method=lambda x: np.nanmean(x, axis=0))\n",
    "    HG_ev1_evoke_rescaled = HG_ev1_rescaled.average(method=lambda x: np.nanmean(x, axis=0))\n",
    "\n",
    "    return {\n",
    "        'HG_ev1': HG_ev1,\n",
    "        'HG_base': HG_base,\n",
    "        'HG_ev1_rescaled': HG_ev1_rescaled,\n",
    "        'HG_ev1_evoke': HG_ev1_evoke,\n",
    "        'HG_ev1_evoke_rescaled': HG_ev1_evoke_rescaled\n",
    "    }\n",
    "\n",
    "# Example usage\n",
    "# sub = 'D0057'\n",
    "# output_name = \"Stimulus_i25and75_fixationCrossBase_1sec_mirror\"\n",
    "# task = 'GlobalLocal'\n",
    "loaded_objects_D0057_i = load_mne_objects('D0057', \"Stimulus_i25and75_fixationCrossBase_1sec_mirror\", 'GlobalLocal')\n",
    "loaded_objects_D0057_c = load_mne_objects('D0057', \"Stimulus_c25and75_fixationCrossBase_1sec_mirror\", 'GlobalLocal')\n",
    "\n",
    "\n",
    "# Access the objects\n",
    "HG_ev1_D0057_i = loaded_objects_D0057_i['HG_ev1']\n",
    "HG_base_D0057_i = loaded_objects_D0057_i['HG_base']\n",
    "HG_ev1_rescaled_D0057_i = loaded_objects_D0057_i['HG_ev1_rescaled']\n",
    "HG_ev1_evoke_D0057_i = loaded_objects_D0057_i['HG_ev1_evoke']\n",
    "HG_ev1_evoke_rescaled_D0057_i = loaded_objects_D0057_i['HG_ev1_evoke_rescaled']\n",
    "\n",
    "HG_ev1_D0057_c = loaded_objects_D0057_c['HG_ev1']\n",
    "HG_base_D0057_c = loaded_objects_D0057_c['HG_base']\n",
    "HG_ev1_rescaled_D0057_c = loaded_objects_D0057_c['HG_ev1_rescaled']\n",
    "HG_ev1_evoke_D0057_c = loaded_objects_D0057_c['HG_ev1_evoke']\n",
    "HG_ev1_evoke_rescaled_D0057_c = loaded_objects_D0057_c['HG_ev1_evoke_rescaled']\n"
   ]
  },
  {
   "cell_type": "markdown",
   "metadata": {},
   "source": [
    "### load stimulus significant channels. Compare ROI electrodes in next cell to these to see if they're included.\n",
    "\n",
    "maybe do response significant channels too/instead?"
   ]
  },
  {
   "cell_type": "code",
   "execution_count": 46,
   "metadata": {},
   "outputs": [
    {
     "name": "stdout",
     "output_type": "stream",
     "text": [
      "Loaded significant channels for subject D0057\n",
      "Loaded significant channels for subject D0059\n",
      "Loaded significant channels for subject D0063\n",
      "Loaded significant channels for subject D0065\n",
      "Loaded significant channels for subject D0069\n",
      "Loaded significant channels for subject D0071\n"
     ]
    }
   ],
   "source": [
    "def get_sig_chans(sub, task, LAB_root=None):\n",
    "    # Determine LAB_root based on the operating system\n",
    "    if LAB_root is None:\n",
    "        HOME = os.path.expanduser(\"~\")\n",
    "        LAB_root = os.path.join(HOME, \"Box\", \"CoganLab\") if os.name == 'nt' else os.path.join(HOME, \"Library\", \"CloudStorage\", \"Box-Box\", \"CoganLab\")\n",
    "\n",
    "    # Get data layout\n",
    "    layout = get_data(task, root=LAB_root)\n",
    "    save_dir = os.path.join(layout.root, 'derivatives', 'freqFilt', 'figs', sub)\n",
    "\n",
    "    stim_filename = f'{save_dir}\\\\sig_chans_{sub}_Stimulus_fixationCrossBase_1sec_mirror.json'\n",
    "    stim_sig_chans = load_sig_chans(stim_filename)\n",
    "    return stim_sig_chans\n",
    "\n",
    "\n",
    "# List of subjects\n",
    "subjects = ['D0057', 'D0059', 'D0063', 'D0065', 'D0069', 'D0071']\n",
    "\n",
    "# Initialize an empty dictionary to store significant channels per subject\n",
    "sig_chans_per_subject = {}\n",
    "\n",
    "# Populate the dictionary using get_sig_chans for each subject\n",
    "for sub in subjects:\n",
    "    sig_chans_per_subject[sub] = get_sig_chans(sub, 'GlobalLocal')\n",
    "\n",
    "# Now sig_chans_per_subject dictionary is populated with significant channels for each subject\n"
   ]
  },
  {
   "cell_type": "markdown",
   "metadata": {},
   "source": [
    "dlPFC based on Yamagishi et al 2016 definition is G_front_middle, G_front_sup, S_front_inf, S_front_middle, S_front_sup"
   ]
  },
  {
   "cell_type": "code",
   "execution_count": 47,
   "metadata": {},
   "outputs": [
    {
     "name": "stdout",
     "output_type": "stream",
     "text": [
      "For subject D0057, dlpfc electrodes are: ['RAI12', 'RAI13', 'RAI15', 'RAI16', 'RPI14', 'RAMF10', 'RAMF11', 'RAMF12']\n",
      "For subject D0059, dlpfc electrodes are: ['LMMF9', 'LMMF11', 'LMMF12', 'LPSF16']\n",
      "For subject D0063, dlpfc electrodes are: ['LASF10', 'LASF14', 'LASF15', 'LASF16', 'LMSF5', 'LMSF6', 'LMSF12', 'LPSF10', 'LPSF12', 'RAI10', 'RAI11', 'RAI16', 'RAMF11', 'RAMF12', 'RAMF13', 'RMMF13', 'RMMF14', 'RASF15', 'RMSF8', 'RMSF9', 'RMSF10', 'RMSF7', 'RAMF8', 'RAMF9', 'RAMF10', 'RMMF9', 'RMMF10']\n",
      "For subject D0065, dlpfc electrodes are: ['RASF13', 'RASF14', 'RASF15', 'RMSF11', 'RMSF12', 'RMSF13', 'RMSF14']\n",
      "For subject D0069, dlpfc electrodes are: []\n",
      "For subject D0071, dlpfc electrodes are: ['RIA11', 'RIA12', 'RIA14', 'RIA16', 'RIP14', 'RIP15']\n",
      "Subject D0057 significant DLPFC electrodes: ['RPI14']\n",
      "Subject D0059 significant DLPFC electrodes: ['LMMF9', 'LMMF11', 'LMMF12', 'LPSF16']\n",
      "Subject D0063 significant DLPFC electrodes: ['LMSF5', 'LPSF12', 'RAMF12', 'RMMF13', 'RMMF14', 'RMMF10']\n",
      "Subject D0065 significant DLPFC electrodes: ['RASF14']\n",
      "Subject D0069 significant DLPFC electrodes: []\n",
      "Subject D0071 significant DLPFC electrodes: ['RIA11', 'RIA12', 'RIA14', 'RIA16']\n"
     ]
    }
   ],
   "source": [
    "dlpfc_electrodes_per_subject = {}\n",
    "\n",
    "for sub in subjects_electrodestoROIs_dict:\n",
    "    dlpfc = {key: value for key, value in subjects_electrodestoROIs_dict[sub]['filtROI_dict'].items() \n",
    "             if any(roi in key for roi in [\"G_front_middle\", \"G_front_sup\", \"S_front_inf\", \"S_front_middle\", \"S_front_sup\"])}\n",
    "\n",
    "    # Aggregate electrodes into a list for each subject\n",
    "    dlpfc_electrodes = []\n",
    "    for electrodes in dlpfc.values():\n",
    "        dlpfc_electrodes.extend(electrodes)\n",
    "\n",
    "    dlpfc_electrodes_per_subject[sub] = dlpfc_electrodes\n",
    "    print(f'For subject {sub}, dlpfc electrodes are: {dlpfc_electrodes}')\n",
    "\n",
    "# dlpfc_electrodes_per_subject now contains the list of electrodes for each subject\n",
    "\n",
    "# Assuming sig_chans_per_subject is a dictionary with subjects as keys and lists of significant channels as values\n",
    "\n",
    "sig_dlpfc_electrodes_per_subject = {}\n",
    "\n",
    "for sub, dlpfc_electrodes in dlpfc_electrodes_per_subject.items():\n",
    "    # Retrieve the list of significant channels for the subject\n",
    "    sig_chans = sig_chans_per_subject.get(sub, [])\n",
    "\n",
    "    # Find the intersection of DLPFC electrodes and significant channels for the subject\n",
    "    sig_dlpfc_electrodes = [elec for elec in dlpfc_electrodes if elec in sig_chans]\n",
    "\n",
    "    # Store the significant DLPFC electrodes for the subject\n",
    "    sig_dlpfc_electrodes_per_subject[sub] = sig_dlpfc_electrodes\n",
    "\n",
    "    # Print results for each subject\n",
    "    print(f\"Subject {sub} significant DLPFC electrodes: {sig_dlpfc_electrodes}\")\n",
    "\n"
   ]
  },
  {
   "cell_type": "code",
   "execution_count": 35,
   "metadata": {},
   "outputs": [
    {
     "name": "stdout",
     "output_type": "stream",
     "text": [
      "Channels in mPFC_D0057 contained in sig_chans_D0057: ['RPI14']\n"
     ]
    }
   ],
   "source": [
    "# List of channels in mPFC for subject D0057\n",
    "mPFC_D0057 = ['RPI14', 'RAMF10', 'RAMF11', 'RAMF12']\n",
    "\n",
    "# Check if each channel in mPFC_D0057 is in sig_chans_D0057\n",
    "mPFC_D0057_sig_chans = [chan for chan in mPFC_D0057 if chan in sig_chans_D0057]\n",
    "\n",
    "# Print results\n",
    "print(\"Channels in mPFC_D0057 contained in sig_chans_D0057:\", mPFC_D0057_sig_chans)\n"
   ]
  },
  {
   "cell_type": "markdown",
   "metadata": {},
   "source": [
    "### make plot of only specific channels, averaged together"
   ]
  },
  {
   "cell_type": "code",
   "execution_count": 21,
   "metadata": {},
   "outputs": [],
   "source": [
    "import numpy as np\n",
    "\n",
    "def compute_average_and_sem(evoked_rescaled_data, selected_channels):\n",
    "    \"\"\"\n",
    "    Compute the average and standard error of the mean for selected channels in an Evoked object.\n",
    "\n",
    "    Parameters:\n",
    "    - evoked_rescaled_data (mne.Evoked): The Evoked object containing the data.\n",
    "    - selected_channels (list of str): A list of channel names to include in the computation.\n",
    "\n",
    "    Returns:\n",
    "    - average_data (numpy.ndarray): The average data across the selected channels.\n",
    "    - sem_data (numpy.ndarray): The standard error of the mean for the selected channels.\n",
    "    \"\"\"\n",
    "\n",
    "    # Find the indices of these channels in the Evoked object\n",
    "    channel_indices = [evoked_rescaled_data.ch_names.index(ch) for ch in selected_channels if ch in evoked_rescaled_data.ch_names]\n",
    "\n",
    "    # Check if all channels were found\n",
    "    if len(channel_indices) != len(selected_channels):\n",
    "        missing_ch = set(selected_channels) - set(evoked_rescaled_data.ch_names)\n",
    "        raise ValueError(f\"Some channels not found in Evoked object: {missing_ch}\")\n",
    "\n",
    "    # Extract data for these channels\n",
    "    selected_data = evoked_rescaled_data.data[channel_indices, :]\n",
    "\n",
    "    # Compute the average and standard error\n",
    "    average_data = selected_data.mean(axis=0)\n",
    "    sem_data = selected_data.std(axis=0) / np.sqrt(len(channel_indices))\n",
    "\n",
    "    return average_data, sem_data\n",
    "\n",
    "# Example usage\n",
    "average_mPFC_D0057_i, sem_mPFC_D0057_i = compute_average_and_sem(HG_ev1_evoke_rescaled_D0057_i, ['RPI14', 'RAMF10', 'RAMF11', 'RAMF12'])\n",
    "average_mPFC_D0057_c, sem_mPFC_D0057_c = compute_average_and_sem(HG_ev1_evoke_rescaled_D0057_c, ['RPI14', 'RAMF10', 'RAMF11', 'RAMF12'])\n"
   ]
  },
  {
   "cell_type": "code",
   "execution_count": 24,
   "metadata": {},
   "outputs": [
    {
     "ename": "KeyboardInterrupt",
     "evalue": "",
     "output_type": "error",
     "traceback": [
      "\u001b[1;31m---------------------------------------------------------------------------\u001b[0m",
      "\u001b[1;31mKeyboardInterrupt\u001b[0m                         Traceback (most recent call last)",
      "\u001b[1;32mc:\\Users\\jz421\\Desktop\\GlobalLocal\\roi_analysis.ipynb Cell 11\u001b[0m line \u001b[0;36m3\n\u001b[0;32m     <a href='vscode-notebook-cell:/c%3A/Users/jz421/Desktop/GlobalLocal/roi_analysis.ipynb#X31sZmlsZQ%3D%3D?line=30'>31</a>\u001b[0m plt\u001b[39m.\u001b[39mlegend()\n\u001b[0;32m     <a href='vscode-notebook-cell:/c%3A/Users/jz421/Desktop/GlobalLocal/roi_analysis.ipynb#X31sZmlsZQ%3D%3D?line=31'>32</a>\u001b[0m plt\u001b[39m.\u001b[39msavefig(save_dir \u001b[39m+\u001b[39m \u001b[39mf\u001b[39m\u001b[39m'\u001b[39m\u001b[39m_mPFC_congruency_zscore_D0057.png\u001b[39m\u001b[39m'\u001b[39m)\n\u001b[1;32m---> <a href='vscode-notebook-cell:/c%3A/Users/jz421/Desktop/GlobalLocal/roi_analysis.ipynb#X31sZmlsZQ%3D%3D?line=32'>33</a>\u001b[0m plt\u001b[39m.\u001b[39;49mshow()\n",
      "File \u001b[1;32mc:\\Users\\jz421\\AppData\\Local\\anaconda3\\envs\\ieeg\\Lib\\site-packages\\matplotlib\\pyplot.py:446\u001b[0m, in \u001b[0;36mshow\u001b[1;34m(*args, **kwargs)\u001b[0m\n\u001b[0;32m    402\u001b[0m \u001b[39m\u001b[39m\u001b[39m\"\"\"\u001b[39;00m\n\u001b[0;32m    403\u001b[0m \u001b[39mDisplay all open figures.\u001b[39;00m\n\u001b[0;32m    404\u001b[0m \n\u001b[1;32m   (...)\u001b[0m\n\u001b[0;32m    443\u001b[0m \u001b[39mexplicitly there.\u001b[39;00m\n\u001b[0;32m    444\u001b[0m \u001b[39m\"\"\"\u001b[39;00m\n\u001b[0;32m    445\u001b[0m _warn_if_gui_out_of_main_thread()\n\u001b[1;32m--> 446\u001b[0m \u001b[39mreturn\u001b[39;00m _get_backend_mod()\u001b[39m.\u001b[39;49mshow(\u001b[39m*\u001b[39;49margs, \u001b[39m*\u001b[39;49m\u001b[39m*\u001b[39;49mkwargs)\n",
      "File \u001b[1;32mc:\\Users\\jz421\\AppData\\Local\\anaconda3\\envs\\ieeg\\Lib\\site-packages\\matplotlib\\backend_bases.py:3620\u001b[0m, in \u001b[0;36m_Backend.show\u001b[1;34m(cls, block)\u001b[0m\n\u001b[0;32m   3618\u001b[0m     block \u001b[39m=\u001b[39m \u001b[39mnot\u001b[39;00m ipython_pylab \u001b[39mand\u001b[39;00m \u001b[39mnot\u001b[39;00m is_interactive()\n\u001b[0;32m   3619\u001b[0m \u001b[39mif\u001b[39;00m block:\n\u001b[1;32m-> 3620\u001b[0m     \u001b[39mcls\u001b[39;49m\u001b[39m.\u001b[39;49mmainloop()\n",
      "File \u001b[1;32mc:\\Users\\jz421\\AppData\\Local\\anaconda3\\envs\\ieeg\\Lib\\site-packages\\matplotlib\\backends\\backend_qt.py:604\u001b[0m, in \u001b[0;36mFigureManagerQT.start_main_loop\u001b[1;34m(cls)\u001b[0m\n\u001b[0;32m    602\u001b[0m qapp \u001b[39m=\u001b[39m QtWidgets\u001b[39m.\u001b[39mQApplication\u001b[39m.\u001b[39minstance()\n\u001b[0;32m    603\u001b[0m \u001b[39mif\u001b[39;00m qapp:\n\u001b[1;32m--> 604\u001b[0m     \u001b[39mwith\u001b[39;49;00m _maybe_allow_interrupt(qapp):\n\u001b[0;32m    605\u001b[0m         qt_compat\u001b[39m.\u001b[39;49m_exec(qapp)\n",
      "File \u001b[1;32mc:\\Users\\jz421\\AppData\\Local\\anaconda3\\envs\\ieeg\\Lib\\contextlib.py:144\u001b[0m, in \u001b[0;36m_GeneratorContextManager.__exit__\u001b[1;34m(self, typ, value, traceback)\u001b[0m\n\u001b[0;32m    142\u001b[0m \u001b[39mif\u001b[39;00m typ \u001b[39mis\u001b[39;00m \u001b[39mNone\u001b[39;00m:\n\u001b[0;32m    143\u001b[0m     \u001b[39mtry\u001b[39;00m:\n\u001b[1;32m--> 144\u001b[0m         \u001b[39mnext\u001b[39m(\u001b[39mself\u001b[39m\u001b[39m.\u001b[39mgen)\n\u001b[0;32m    145\u001b[0m     \u001b[39mexcept\u001b[39;00m \u001b[39mStopIteration\u001b[39;00m:\n\u001b[0;32m    146\u001b[0m         \u001b[39mreturn\u001b[39;00m \u001b[39mFalse\u001b[39;00m\n",
      "File \u001b[1;32mc:\\Users\\jz421\\AppData\\Local\\anaconda3\\envs\\ieeg\\Lib\\site-packages\\matplotlib\\backends\\qt_compat.py:245\u001b[0m, in \u001b[0;36m_maybe_allow_interrupt\u001b[1;34m(qapp)\u001b[0m\n\u001b[0;32m    243\u001b[0m signal\u001b[39m.\u001b[39msignal(signal\u001b[39m.\u001b[39mSIGINT, old_sigint_handler)\n\u001b[0;32m    244\u001b[0m \u001b[39mif\u001b[39;00m handler_args \u001b[39mis\u001b[39;00m \u001b[39mnot\u001b[39;00m \u001b[39mNone\u001b[39;00m:\n\u001b[1;32m--> 245\u001b[0m     old_sigint_handler(\u001b[39m*\u001b[39;49mhandler_args)\n",
      "\u001b[1;31mKeyboardInterrupt\u001b[0m: "
     ]
    }
   ],
   "source": [
    "\n",
    "\n",
    "import matplotlib.pyplot as plt\n",
    "\n",
    "# Use the times from your evoked data\n",
    "times = HG_ev1_evoke_rescaled_D0057_i.times  # Modify as needed to match your data\n",
    "\n",
    "plt.figure(figsize=(10, 6))\n",
    "\n",
    "# Plot average_mPFC_D0057_i with SEM shading\n",
    "plt.plot(times, average_mPFC_D0057_i, label='Average mPFC Incongruent')\n",
    "plt.fill_between(times, average_mPFC_D0057_i - sem_mPFC_D0057_i, average_mPFC_D0057_i + sem_mPFC_D0057_i, alpha=0.3)\n",
    "\n",
    "# Plot average_mPFC_D0057_c with SEM shading\n",
    "plt.plot(times, average_mPFC_D0057_c, label='Average mPFC Congruent')\n",
    "plt.fill_between(times, average_mPFC_D0057_c - sem_mPFC_D0057_c, average_mPFC_D0057_c + sem_mPFC_D0057_c, alpha=0.3)\n",
    "\n",
    "plt.xlabel('Time (s)')\n",
    "plt.ylabel('Z-score')\n",
    "plt.title('Average mPFC Signal with Standard Error for D0057')\n",
    "plt.legend()\n",
    "plt.savefig(save_dir + f'_mPFC_congruency_zscore_D0057.png')\n",
    "plt.show()\n"
   ]
  },
  {
   "cell_type": "markdown",
   "metadata": {},
   "source": [
    "#### default_dict has electrodes as keys and ROIs as values. rawROI dict has ROIs as keys and electrodes as values. filtROI is rawROI but without white matter electrodes.\n",
    "\n",
    "do i need this cell still..?"
   ]
  },
  {
   "cell_type": "code",
   "execution_count": null,
   "metadata": {},
   "outputs": [],
   "source": [
    "# sub = 'D0071'\n",
    "# task = 'GlobalLocal'\n",
    "# output_name = \"Response_fixationCrossBase_1sec_mirror\"\n",
    "# events = [\"Response\"]\n",
    "# times = (-1,1.5)\n",
    "# base_times = [-1,0]\n",
    "# LAB_root = None\n",
    "# channels = None\n",
    "# full_trial_base = False\n",
    "\n",
    "\n",
    "# if LAB_root is None:\n",
    "#     HOME = os.path.expanduser(\"~\")\n",
    "#     if os.name == 'nt':  # windows\n",
    "#         LAB_root = os.path.join(HOME, \"Box\", \"CoganLab\")\n",
    "#     else:  # mac\n",
    "#         LAB_root = os.path.join(HOME, \"Library\", \"CloudStorage\", \"Box-Box\",\n",
    "#                                 \"CoganLab\")\n",
    "\n",
    "# layout = get_data(task, root=LAB_root)\n",
    "# filt = raw_from_layout(layout.derivatives['derivatives/clean'], subject=sub,\n",
    "#                     extension='.edf', desc='clean', preload=False)\n",
    "# save_dir = os.path.join(layout.root, 'derivatives', 'freqFilt', 'figs', sub)\n",
    "# if not os.path.exists(save_dir):\n",
    "#     os.makedirs(save_dir)\n",
    "\n",
    "# good = crop_empty_data(filt)\n",
    "# # %%\n",
    "\n",
    "# print(f\"good channels before dropping bads: {len(good.ch_names)}\")\n",
    "# print(f\"filt channels before dropping bads: {len(filt.ch_names)}\")\n",
    "\n",
    "# good.info['bads'] = channel_outlier_marker(good, 3, 2)\n",
    "# print(\"Bad channels in 'good':\", good.info['bads'])\n",
    "\n",
    "# filt.drop_channels(good.info['bads'])  # this has to come first cuz if you drop from good first, then good.info['bads'] is just empty\n",
    "# good.drop_channels(good.info['bads'])\n",
    "\n",
    "# print(\"Bad channels in 'good' after dropping once:\", good.info['bads'])\n",
    "\n",
    "# print(f\"good channels after dropping bads: {len(good.ch_names)}\")\n",
    "# print(f\"filt channels after dropping bads: {len(filt.ch_names)}\")\n",
    "\n",
    "# good.load_data()\n",
    "\n",
    "# # If channels is None, use all channels\n",
    "# if channels is None:\n",
    "#     channels = good.ch_names\n",
    "# else:\n",
    "#     # Validate the provided channels\n",
    "#     invalid_channels = [ch for ch in channels if ch not in good.ch_names]\n",
    "#     if invalid_channels:\n",
    "#         raise ValueError(\n",
    "#             f\"The following channels are not valid: {invalid_channels}\")\n",
    "\n",
    "#     # Use only the specified channels\n",
    "#     good.pick_channels(channels)\n",
    "\n",
    "# ch_type = filt.get_channel_types(only_data_chs=True)[0]\n",
    "# good.set_eeg_reference(ref_channels=\"average\", ch_type=ch_type)\n",
    "\n",
    "# default_dict = gen_labels(good.info)\n",
    "\n",
    "# # Creating a new dictionary to group keys by their values\n",
    "# rawROI_dict = defaultdict(list)\n",
    "\n",
    "# for key, value in default_dict.items():\n",
    "#     rawROI_dict[value].append(key)\n",
    "\n",
    "# # Converting the defaultdict back to a regular dictionary for output\n",
    "# rawROI_dict = dict(rawROI_dict)\n",
    "\n",
    "# # Display the new dictionary\n",
    "# print(rawROI_dict)\n",
    "\n",
    "# # Creating a new dictionary to exclude keys containing \"White-Matter\"\n",
    "# filtROI_dict = {key: value for key, value in rawROI_dict.items() if \"White-Matter\" not in key}\n",
    "\n",
    "# # Display the new dictionary\n",
    "# print(filtROI_dict)"
   ]
  },
  {
   "cell_type": "code",
   "execution_count": 4,
   "metadata": {},
   "outputs": [
    {
     "name": "stdout",
     "output_type": "stream",
     "text": [
      "For subject D0057, frontal electrodes are: {'ctx_rh_S_front_sup': ['RAI12', 'RAI13'], 'ctx_rh_G_front_sup': ['RAI15', 'RAI16'], 'ctx_rh_G_front_middle': ['RPI14', 'RAMF10', 'RAMF11', 'RAMF12'], 'ctx_rh_G_front_inf-Orbital': ['RAIF11', 'RAIF12'], 'ctx_rh_G_front_inf-Triangul': ['RAIF13', 'RAIF14']}\n",
      "For subject D0059, frontal electrodes are: {'ctx_lh_S_front_inf': ['LMMF9', 'LMMF11'], 'ctx_lh_G_front_middle': ['LMMF12', 'LPSF16']}\n",
      "For subject D0063, frontal electrodes are: {'ctx_lh_G_front_sup': ['LASF10', 'LASF14', 'LASF15', 'LASF16', 'LMSF5', 'LMSF6', 'LMSF12', 'LPSF10', 'LPSF12'], 'ctx_rh_G_front_inf-Opercular': ['RAI5'], 'ctx_rh_S_front_inf': ['RAI10', 'RAI11'], 'ctx_rh_G_front_middle': ['RAI16', 'RAMF11', 'RAMF12', 'RAMF13', 'RMMF13', 'RMMF14'], 'ctx_rh_G_front_sup': ['RASF15', 'RMSF8', 'RMSF9', 'RMSF10'], 'ctx_rh_S_front_sup': ['RMSF7'], 'ctx_rh_S_front_middle': ['RAMF8', 'RAMF9', 'RAMF10', 'RMMF9', 'RMMF10']}\n",
      "For subject D0065, frontal electrodes are: {'ctx_rh_S_front_sup': ['RASF13'], 'ctx_rh_G_front_sup': ['RASF14', 'RASF15', 'RMSF11', 'RMSF12', 'RMSF13', 'RMSF14']}\n",
      "For subject D0069, frontal electrodes are: {'ctx_lh_G_front_inf-Orbital': ['LOF8']}\n",
      "For subject D0071, frontal electrodes are: {'ctx_rh_G_front_inf-Orbital': ['RFO14'], 'ctx_rh_G_front_inf-Opercular': ['RIA5'], 'ctx_rh_S_front_middle': ['RIA11', 'RIA12'], 'ctx_rh_S_front_sup': ['RIA14', 'RIA16'], 'ctx_rh_G_front_middle': ['RIP14', 'RIP15']}\n"
     ]
    }
   ],
   "source": [
    "for sub in subjects_electrodestoROIs_dict:\n",
    "    front = {key: value for key, value in subjects_electrodestoROIs_dict[sub]['filtROI_dict'].items() if \"front\" in key}\n",
    "    print(f'For subject {sub}, frontal electrodes are: {front}')"
   ]
  },
  {
   "cell_type": "code",
   "execution_count": 83,
   "metadata": {},
   "outputs": [
    {
     "name": "stdout",
     "output_type": "stream",
     "text": [
      "For subject D0071, frontal electrodes are: {'ctx_rh_S_front_sup': ['RAI12', 'RAI13'], 'ctx_rh_G_front_sup': ['RAI15', 'RAI16'], 'ctx_rh_G_front_middle': ['RPI14', 'RAMF10', 'RAMF11', 'RAMF12'], 'ctx_rh_G_front_inf-Orbital': ['RAIF11', 'RAIF12'], 'ctx_rh_G_front_inf-Triangul': ['RAIF13', 'RAIF14']}\n"
     ]
    }
   ],
   "source": [
    "# front = {key: value for key, value in filtROI_dict.items() if \"front\" in key}\n",
    "# print(f'For subject {sub}, frontal electrodes are: {front}')"
   ]
  },
  {
   "cell_type": "markdown",
   "metadata": {},
   "source": [
    "### maybe delete this stuff later? i don't know what it's for.."
   ]
  },
  {
   "cell_type": "code",
   "execution_count": 85,
   "metadata": {},
   "outputs": [
    {
     "name": "stdout",
     "output_type": "stream",
     "text": [
      "Extracting EDF parameters from C:\\Users\\jz421\\Box\\CoganLab\\BIDS-1.1_GlobalLocal\\BIDS\\derivatives\\clean\\sub-D0059\\ieeg\\sub-D0059_task-GlobalLocal_acq-01_run-01_desc-clean_ieeg.edf...\n",
      "EDF file detected\n",
      "Setting channel info structure...\n",
      "Creating raw.info structure...\n",
      "Reading events from C:\\Users\\jz421\\Box\\CoganLab\\BIDS-1.1_GlobalLocal\\BIDS\\derivatives\\clean\\sub-D0059\\ieeg\\sub-D0059_task-GlobalLocal_acq-01_run-01_desc-clean_events.tsv.\n",
      "Reading channel info from C:\\Users\\jz421\\Box\\CoganLab\\BIDS-1.1_GlobalLocal\\BIDS\\derivatives\\clean\\sub-D0059\\ieeg\\sub-D0059_task-GlobalLocal_acq-01_run-01_desc-clean_channels.tsv.\n",
      "Reading electrode coords from C:\\Users\\jz421\\Box\\CoganLab\\BIDS-1.1_GlobalLocal\\BIDS\\derivatives\\clean\\sub-D0059\\ieeg\\sub-D0059_acq-01_space-ACPC_electrodes.tsv.\n"
     ]
    },
    {
     "name": "stderr",
     "output_type": "stream",
     "text": [
      "C:\\Users\\jz421\\Desktop\\GlobalLocal\\IEEG_Pipelines\\ieeg\\io.py:113: RuntimeWarning: The number of channels in the channels.tsv sidecar file (185) does not match the number of channels in the raw data file (184). Will not try to set channel names.\n",
      "  new_raw = read_raw_bids(bids_path=BIDS_path, verbose=verbose)\n",
      "C:\\Users\\jz421\\Desktop\\GlobalLocal\\IEEG_Pipelines\\ieeg\\io.py:113: RuntimeWarning: Cannot set channel type for the following channels, as they are missing in the raw data: Trigger\n",
      "  new_raw = read_raw_bids(bids_path=BIDS_path, verbose=verbose)\n"
     ]
    },
    {
     "name": "stdout",
     "output_type": "stream",
     "text": [
      "Extracting EDF parameters from C:\\Users\\jz421\\Box\\CoganLab\\BIDS-1.1_GlobalLocal\\BIDS\\derivatives\\clean\\sub-D0059\\ieeg\\sub-D0059_task-GlobalLocal_acq-01_run-02_desc-clean_ieeg.edf...\n",
      "EDF file detected\n",
      "Setting channel info structure...\n",
      "Creating raw.info structure...\n",
      "Reading events from C:\\Users\\jz421\\Box\\CoganLab\\BIDS-1.1_GlobalLocal\\BIDS\\derivatives\\clean\\sub-D0059\\ieeg\\sub-D0059_task-GlobalLocal_acq-01_run-02_desc-clean_events.tsv.\n"
     ]
    },
    {
     "name": "stderr",
     "output_type": "stream",
     "text": [
      "C:\\Users\\jz421\\Desktop\\GlobalLocal\\IEEG_Pipelines\\ieeg\\io.py:113: RuntimeWarning: Omitted 228 annotation(s) that were outside data range.\n",
      "  new_raw = read_raw_bids(bids_path=BIDS_path, verbose=verbose)\n"
     ]
    },
    {
     "name": "stdout",
     "output_type": "stream",
     "text": [
      "Reading channel info from C:\\Users\\jz421\\Box\\CoganLab\\BIDS-1.1_GlobalLocal\\BIDS\\derivatives\\clean\\sub-D0059\\ieeg\\sub-D0059_task-GlobalLocal_acq-01_run-02_desc-clean_channels.tsv.\n",
      "Reading electrode coords from C:\\Users\\jz421\\Box\\CoganLab\\BIDS-1.1_GlobalLocal\\BIDS\\derivatives\\clean\\sub-D0059\\ieeg\\sub-D0059_acq-01_space-ACPC_electrodes.tsv.\n"
     ]
    },
    {
     "name": "stderr",
     "output_type": "stream",
     "text": [
      "C:\\Users\\jz421\\Desktop\\GlobalLocal\\IEEG_Pipelines\\ieeg\\io.py:113: RuntimeWarning: The number of channels in the channels.tsv sidecar file (185) does not match the number of channels in the raw data file (184). Will not try to set channel names.\n",
      "  new_raw = read_raw_bids(bids_path=BIDS_path, verbose=verbose)\n",
      "C:\\Users\\jz421\\Desktop\\GlobalLocal\\IEEG_Pipelines\\ieeg\\io.py:113: RuntimeWarning: Cannot set channel type for the following channels, as they are missing in the raw data: Trigger\n",
      "  new_raw = read_raw_bids(bids_path=BIDS_path, verbose=verbose)\n"
     ]
    },
    {
     "name": "stdout",
     "output_type": "stream",
     "text": [
      "Extracting EDF parameters from C:\\Users\\jz421\\Box\\CoganLab\\BIDS-1.1_GlobalLocal\\BIDS\\derivatives\\clean\\sub-D0059\\ieeg\\sub-D0059_task-GlobalLocal_acq-01_run-03_desc-clean_ieeg.edf...\n",
      "EDF file detected\n",
      "Setting channel info structure...\n",
      "Creating raw.info structure...\n",
      "Reading events from C:\\Users\\jz421\\Box\\CoganLab\\BIDS-1.1_GlobalLocal\\BIDS\\derivatives\\clean\\sub-D0059\\ieeg\\sub-D0059_task-GlobalLocal_acq-01_run-03_desc-clean_events.tsv.\n",
      "Reading channel info from C:\\Users\\jz421\\Box\\CoganLab\\BIDS-1.1_GlobalLocal\\BIDS\\derivatives\\clean\\sub-D0059\\ieeg\\sub-D0059_task-GlobalLocal_acq-01_run-03_desc-clean_channels.tsv.\n",
      "Reading electrode coords from C:\\Users\\jz421\\Box\\CoganLab\\BIDS-1.1_GlobalLocal\\BIDS\\derivatives\\clean\\sub-D0059\\ieeg\\sub-D0059_acq-01_space-ACPC_electrodes.tsv.\n"
     ]
    },
    {
     "name": "stderr",
     "output_type": "stream",
     "text": [
      "C:\\Users\\jz421\\Desktop\\GlobalLocal\\IEEG_Pipelines\\ieeg\\io.py:113: RuntimeWarning: Omitted 228 annotation(s) that were outside data range.\n",
      "  new_raw = read_raw_bids(bids_path=BIDS_path, verbose=verbose)\n",
      "C:\\Users\\jz421\\Desktop\\GlobalLocal\\IEEG_Pipelines\\ieeg\\io.py:113: RuntimeWarning: The number of channels in the channels.tsv sidecar file (185) does not match the number of channels in the raw data file (184). Will not try to set channel names.\n",
      "  new_raw = read_raw_bids(bids_path=BIDS_path, verbose=verbose)\n",
      "C:\\Users\\jz421\\Desktop\\GlobalLocal\\IEEG_Pipelines\\ieeg\\io.py:113: RuntimeWarning: Cannot set channel type for the following channels, as they are missing in the raw data: Trigger\n",
      "  new_raw = read_raw_bids(bids_path=BIDS_path, verbose=verbose)\n"
     ]
    },
    {
     "name": "stdout",
     "output_type": "stream",
     "text": [
      "Extracting EDF parameters from C:\\Users\\jz421\\Box\\CoganLab\\BIDS-1.1_GlobalLocal\\BIDS\\derivatives\\clean\\sub-D0059\\ieeg\\sub-D0059_task-GlobalLocal_acq-01_run-04_desc-clean_ieeg.edf...\n",
      "EDF file detected\n",
      "Setting channel info structure...\n",
      "Creating raw.info structure...\n",
      "Reading events from C:\\Users\\jz421\\Box\\CoganLab\\BIDS-1.1_GlobalLocal\\BIDS\\derivatives\\clean\\sub-D0059\\ieeg\\sub-D0059_task-GlobalLocal_acq-01_run-04_desc-clean_events.tsv.\n",
      "Reading channel info from C:\\Users\\jz421\\Box\\CoganLab\\BIDS-1.1_GlobalLocal\\BIDS\\derivatives\\clean\\sub-D0059\\ieeg\\sub-D0059_task-GlobalLocal_acq-01_run-04_desc-clean_channels.tsv.\n",
      "Reading electrode coords from C:\\Users\\jz421\\Box\\CoganLab\\BIDS-1.1_GlobalLocal\\BIDS\\derivatives\\clean\\sub-D0059\\ieeg\\sub-D0059_acq-01_space-ACPC_electrodes.tsv.\n"
     ]
    },
    {
     "name": "stderr",
     "output_type": "stream",
     "text": [
      "C:\\Users\\jz421\\Desktop\\GlobalLocal\\IEEG_Pipelines\\ieeg\\io.py:113: RuntimeWarning: Omitted 226 annotation(s) that were outside data range.\n",
      "  new_raw = read_raw_bids(bids_path=BIDS_path, verbose=verbose)\n",
      "C:\\Users\\jz421\\Desktop\\GlobalLocal\\IEEG_Pipelines\\ieeg\\io.py:113: RuntimeWarning: The number of channels in the channels.tsv sidecar file (185) does not match the number of channels in the raw data file (184). Will not try to set channel names.\n",
      "  new_raw = read_raw_bids(bids_path=BIDS_path, verbose=verbose)\n",
      "C:\\Users\\jz421\\Desktop\\GlobalLocal\\IEEG_Pipelines\\ieeg\\io.py:113: RuntimeWarning: Cannot set channel type for the following channels, as they are missing in the raw data: Trigger\n",
      "  new_raw = read_raw_bids(bids_path=BIDS_path, verbose=verbose)\n"
     ]
    },
    {
     "name": "stdout",
     "output_type": "stream",
     "text": [
      "good channels before dropping bads: 184\n",
      "filt channels before dropping bads: 184\n",
      "outlier round 1 channels: ['LMPF15']\n",
      "outlier round 2 channels: ['LMPF15', 'LASP3']\n",
      "outlier round 2 channels: ['LMPF15', 'LASP3', 'LASP5']\n",
      "outlier round 2 channels: ['LMPF15', 'LASP3', 'LASP5', 'LASP6']\n",
      "outlier round 2 channels: ['LMPF15', 'LASP3', 'LASP5', 'LASP6', 'LMPT2']\n",
      "outlier round 2 channels: ['LMPF15', 'LASP3', 'LASP5', 'LASP6', 'LMPT2', 'LPT16']\n",
      "Bad channels in 'good': ['LMPF15', 'LASP3', 'LASP5', 'LASP6', 'LMPT2', 'LPT16']\n",
      "Bad channels in 'good' after dropping once: []\n",
      "good channels after dropping bads: 178\n",
      "filt channels after dropping bads: 178\n",
      "Reading 0 ... 6582517  =      0.000 ...  3214.120 secs...\n",
      "Applying average reference.\n",
      "Applying a custom ('sEEG',) reference.\n",
      "False\n"
     ]
    }
   ],
   "source": [
    "# sub = 'D0059'\n",
    "# task = 'GlobalLocal'\n",
    "# output_name = \"Response_fixationCrossBase_1sec_mirror\"\n",
    "# events = [\"Response\"]\n",
    "# times = (-1,1.5)\n",
    "# base_times = [-1,0]\n",
    "# LAB_root = None\n",
    "# channels = None\n",
    "# full_trial_base = False\n",
    "\n",
    "\n",
    "# if LAB_root is None:\n",
    "#     HOME = os.path.expanduser(\"~\")\n",
    "#     if os.name == 'nt':  # windows\n",
    "#         LAB_root = os.path.join(HOME, \"Box\", \"CoganLab\")\n",
    "#     else:  # mac\n",
    "#         LAB_root = os.path.join(HOME, \"Library\", \"CloudStorage\", \"Box-Box\",\n",
    "#                                 \"CoganLab\")\n",
    "\n",
    "# layout = get_data(task, root=LAB_root)\n",
    "# filt = raw_from_layout(layout.derivatives['derivatives/clean'], subject=sub,\n",
    "#                     extension='.edf', desc='clean', preload=False)\n",
    "# save_dir = os.path.join(layout.root, 'derivatives', 'freqFilt', 'figs', sub)\n",
    "# if not os.path.exists(save_dir):\n",
    "#     os.makedirs(save_dir)\n",
    "\n",
    "# good = crop_empty_data(filt)\n",
    "# # %%\n",
    "\n",
    "# print(f\"good channels before dropping bads: {len(good.ch_names)}\")\n",
    "# print(f\"filt channels before dropping bads: {len(filt.ch_names)}\")\n",
    "\n",
    "# good.info['bads'] = channel_outlier_marker(good, 3, 2)\n",
    "# print(\"Bad channels in 'good':\", good.info['bads'])\n",
    "\n",
    "# filt.drop_channels(good.info['bads'])  # this has to come first cuz if you drop from good first, then good.info['bads'] is just empty\n",
    "# good.drop_channels(good.info['bads'])\n",
    "\n",
    "# print(\"Bad channels in 'good' after dropping once:\", good.info['bads'])\n",
    "\n",
    "# print(f\"good channels after dropping bads: {len(good.ch_names)}\")\n",
    "# print(f\"filt channels after dropping bads: {len(filt.ch_names)}\")\n",
    "\n",
    "# good.load_data()\n",
    "\n",
    "# # If channels is None, use all channels\n",
    "# if channels is None:\n",
    "#     channels = good.ch_names\n",
    "# else:\n",
    "#     # Validate the provided channels\n",
    "#     invalid_channels = [ch for ch in channels if ch not in good.ch_names]\n",
    "#     if invalid_channels:\n",
    "#         raise ValueError(\n",
    "#             f\"The following channels are not valid: {invalid_channels}\")\n",
    "\n",
    "#     # Use only the specified channels\n",
    "#     good.pick_channels(channels)\n",
    "\n",
    "# ch_type = filt.get_channel_types(only_data_chs=True)[0]\n",
    "# good.set_eeg_reference(ref_channels=\"average\", ch_type=ch_type)\n",
    "\n",
    "# D0059_default_dict = gen_labels(good.info)\n",
    "\n",
    "# print(D0059_default_dict == default_dict)"
   ]
  },
  {
   "cell_type": "code",
   "execution_count": 92,
   "metadata": {},
   "outputs": [
    {
     "name": "stdout",
     "output_type": "stream",
     "text": [
      "False\n",
      "False\n",
      "False\n",
      "{'ctx_lh_S_front_inf': ['LMMF9', 'LMMF11'], 'ctx_lh_G_front_middle': ['LMMF12', 'LPSF16']}\n"
     ]
    }
   ],
   "source": [
    "# print(D0059_default_dict == default_dict)\n",
    "# # Creating a new dictionary to group keys by their values\n",
    "# D0059_rawROI_dict = defaultdict(list)\n",
    "\n",
    "# for key, value in D0059_default_dict.items():\n",
    "#     D0059_rawROI_dict[value].append(key)\n",
    "\n",
    "# # Converting the defaultdict back to a regular dictionary for output\n",
    "# D0059_rawROI_dict = dict(D0059_rawROI_dict)\n",
    "\n",
    "# print(D0059_rawROI_dict == rawROI_dict)\n",
    "\n",
    "# D0059_filtROI_dict = {key: value for key, value in D0059_rawROI_dict.items() if \"White-Matter\" not in key}\n",
    "# print(D0059_filtROI_dict == filtROI_dict)\n",
    "# D0059_front = {key: value for key, value in D0059_filtROI_dict.items() if \"front\" in key}\n",
    "# print(D0059_front == front)"
   ]
  },
  {
   "cell_type": "code",
   "execution_count": null,
   "metadata": {},
   "outputs": [],
   "source": []
  }
 ],
 "metadata": {
  "kernelspec": {
   "display_name": "ieeg",
   "language": "python",
   "name": "python3"
  },
  "language_info": {
   "codemirror_mode": {
    "name": "ipython",
    "version": 3
   },
   "file_extension": ".py",
   "mimetype": "text/x-python",
   "name": "python",
   "nbconvert_exporter": "python",
   "pygments_lexer": "ipython3",
   "version": "3.11.3"
  },
  "orig_nbformat": 4
 },
 "nbformat": 4,
 "nbformat_minor": 2
}
