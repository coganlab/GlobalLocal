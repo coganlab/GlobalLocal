{
  "cells": [
    {
      "attachments": {},
      "cell_type": "markdown",
      "metadata": {},
      "source": [
        "\n",
        "# Example of High Gamma Filter\n",
        "\n",
        "Below is a code sample for extracting high gamma power from a raw data file, followed by permutation cluster stats on that high gamma power data\n"
      ]
    },
    {
      "cell_type": "code",
      "execution_count": 1,
      "metadata": {
        "collapsed": false
      },
      "outputs": [
        {
          "name": "stdout",
          "output_type": "stream",
          "text": [
            "['c:\\\\Users\\\\jz421\\\\Desktop\\\\GlobalLocal', 'C:\\\\Users\\\\jz421\\\\Desktop\\\\GlobalLocal\\\\IEEG_Pipelines', 'c:\\\\Users\\\\jz421\\\\AppData\\\\Local\\\\anaconda3\\\\envs\\\\ieeg\\\\python311.zip', 'c:\\\\Users\\\\jz421\\\\AppData\\\\Local\\\\anaconda3\\\\envs\\\\ieeg\\\\DLLs', 'c:\\\\Users\\\\jz421\\\\AppData\\\\Local\\\\anaconda3\\\\envs\\\\ieeg\\\\Lib', 'c:\\\\Users\\\\jz421\\\\AppData\\\\Local\\\\anaconda3\\\\envs\\\\ieeg', '', 'C:\\\\Users\\\\jz421\\\\AppData\\\\Roaming\\\\Python\\\\Python311\\\\site-packages', 'C:\\\\Users\\\\jz421\\\\AppData\\\\Roaming\\\\Python\\\\Python311\\\\site-packages\\\\win32', 'C:\\\\Users\\\\jz421\\\\AppData\\\\Roaming\\\\Python\\\\Python311\\\\site-packages\\\\win32\\\\lib', 'C:\\\\Users\\\\jz421\\\\AppData\\\\Roaming\\\\Python\\\\Python311\\\\site-packages\\\\Pythonwin', 'c:\\\\Users\\\\jz421\\\\AppData\\\\Local\\\\anaconda3\\\\envs\\\\ieeg\\\\Lib\\\\site-packages', 'c:\\\\Users\\\\jz421\\\\AppData\\\\Local\\\\anaconda3\\\\envs\\\\ieeg\\\\Lib\\\\site-packages\\\\win32', 'c:\\\\Users\\\\jz421\\\\AppData\\\\Local\\\\anaconda3\\\\envs\\\\ieeg\\\\Lib\\\\site-packages\\\\win32\\\\lib', 'c:\\\\Users\\\\jz421\\\\AppData\\\\Local\\\\anaconda3\\\\envs\\\\ieeg\\\\Lib\\\\site-packages\\\\Pythonwin']\n"
          ]
        },
        {
          "name": "stderr",
          "output_type": "stream",
          "text": [
            "c:\\Users\\jz421\\AppData\\Local\\anaconda3\\envs\\ieeg\\Lib\\site-packages\\tqdm\\auto.py:21: TqdmWarning: IProgress not found. Please update jupyter and ipywidgets. See https://ipywidgets.readthedocs.io/en/stable/user_install.html\n",
            "  from .autonotebook import tqdm as notebook_tqdm\n"
          ]
        }
      ],
      "source": [
        "import sys\n",
        "print(sys.path)\n",
        "sys.path.append(\"C:/Users/jz421/Desktop/GlobalLocal/IEEG_Pipelines/\") #need to do this cuz otherwise ieeg isn't added to path...\n",
        "\n",
        "import ieeg.viz.utils\n",
        "from ieeg.navigate import channel_outlier_marker, trial_ieeg, crop_empty_data, outliers_to_nan\n",
        "from ieeg.io import raw_from_layout, get_data\n",
        "from ieeg.timefreq.utils import crop_pad\n",
        "from ieeg.calc import stats, scaling\n",
        "from ieeg.process import parallelize\n",
        "from ieeg.timefreq import gamma\n",
        "from ieeg.calc.scaling import rescale\n",
        "from misc_functions import calculate_RTs\n",
        "\n",
        "\n",
        "import matplotlib.pyplot as plt\n",
        "import matplotlib.ticker as ticker\n",
        "\n",
        "from bids import BIDSLayout\n",
        "import mne\n",
        "import os\n",
        "import numpy as np\n",
        "\n",
        "from misc_functions import calculate_RTs, save_sig_chans, save_channels_to_file\n",
        "import pickle"
      ]
    },
    {
      "cell_type": "code",
      "execution_count": 2,
      "metadata": {},
      "outputs": [],
      "source": [
        "def relabel_axes(old_min, old_max, new_min, new_max):\n",
        "    scale = (new_max - new_min) / (old_max - old_min)\n",
        "\n",
        "    def format_func(value, tick_number):\n",
        "        return new_min + value * scale\n",
        "\n",
        "    plt.gca().xaxis.set_major_formatter(ticker.FuncFormatter(format_func))"
      ]
    },
    {
      "cell_type": "markdown",
      "metadata": {},
      "source": [
        "### make it into a function"
      ]
    },
    {
      "cell_type": "code",
      "execution_count": 3,
      "metadata": {},
      "outputs": [
        {
          "name": "stdout",
          "output_type": "stream",
          "text": [
            "['c:\\\\Users\\\\jz421\\\\Desktop\\\\GlobalLocal', 'C:\\\\Users\\\\jz421\\\\Desktop\\\\GlobalLocal\\\\IEEG_Pipelines', 'c:\\\\Users\\\\jz421\\\\AppData\\\\Local\\\\anaconda3\\\\envs\\\\ieeg\\\\python311.zip', 'c:\\\\Users\\\\jz421\\\\AppData\\\\Local\\\\anaconda3\\\\envs\\\\ieeg\\\\DLLs', 'c:\\\\Users\\\\jz421\\\\AppData\\\\Local\\\\anaconda3\\\\envs\\\\ieeg\\\\Lib', 'c:\\\\Users\\\\jz421\\\\AppData\\\\Local\\\\anaconda3\\\\envs\\\\ieeg', '', 'C:\\\\Users\\\\jz421\\\\AppData\\\\Roaming\\\\Python\\\\Python311\\\\site-packages', 'C:\\\\Users\\\\jz421\\\\AppData\\\\Roaming\\\\Python\\\\Python311\\\\site-packages\\\\win32', 'C:\\\\Users\\\\jz421\\\\AppData\\\\Roaming\\\\Python\\\\Python311\\\\site-packages\\\\win32\\\\lib', 'C:\\\\Users\\\\jz421\\\\AppData\\\\Roaming\\\\Python\\\\Python311\\\\site-packages\\\\Pythonwin', 'c:\\\\Users\\\\jz421\\\\AppData\\\\Local\\\\anaconda3\\\\envs\\\\ieeg\\\\Lib\\\\site-packages', 'c:\\\\Users\\\\jz421\\\\AppData\\\\Local\\\\anaconda3\\\\envs\\\\ieeg\\\\Lib\\\\site-packages\\\\win32', 'c:\\\\Users\\\\jz421\\\\AppData\\\\Local\\\\anaconda3\\\\envs\\\\ieeg\\\\Lib\\\\site-packages\\\\win32\\\\lib', 'c:\\\\Users\\\\jz421\\\\AppData\\\\Local\\\\anaconda3\\\\envs\\\\ieeg\\\\Lib\\\\site-packages\\\\Pythonwin', 'C:/Users/jz421/Desktop/GlobalLocal/IEEG_Pipelines/']\n",
            "Extracting EDF parameters from C:\\Users\\jz421\\Box\\CoganLab\\BIDS-1.1_GlobalLocal\\BIDS\\derivatives\\clean\\sub-D0057\\ieeg\\sub-D0057_task-GlobalLocal_acq-01_run-01_desc-clean_ieeg.edf...\n",
            "EDF file detected\n",
            "Setting channel info structure...\n",
            "Creating raw.info structure...\n",
            "Reading events from C:\\Users\\jz421\\Box\\CoganLab\\BIDS-1.1_GlobalLocal\\BIDS\\derivatives\\clean\\sub-D0057\\ieeg\\sub-D0057_task-GlobalLocal_acq-01_run-01_desc-clean_events.tsv.\n",
            "Reading channel info from C:\\Users\\jz421\\Box\\CoganLab\\BIDS-1.1_GlobalLocal\\BIDS\\derivatives\\clean\\sub-D0057\\ieeg\\sub-D0057_task-GlobalLocal_acq-01_run-01_desc-clean_channels.tsv.\n",
            "Reading electrode coords from C:\\Users\\jz421\\Box\\CoganLab\\BIDS-1.1_GlobalLocal\\BIDS\\derivatives\\clean\\sub-D0057\\ieeg\\sub-D0057_acq-01_space-ACPC_electrodes.tsv.\n",
            "Extracting EDF parameters from C:\\Users\\jz421\\Box\\CoganLab\\BIDS-1.1_GlobalLocal\\BIDS\\derivatives\\clean\\sub-D0057\\ieeg\\sub-D0057_task-GlobalLocal_acq-01_run-02_desc-clean_ieeg.edf...\n",
            "EDF file detected\n",
            "Setting channel info structure...\n",
            "Creating raw.info structure...\n"
          ]
        },
        {
          "name": "stderr",
          "output_type": "stream",
          "text": [
            "C:\\Users\\jz421\\Desktop\\GlobalLocal\\IEEG_Pipelines\\ieeg\\io.py:113: RuntimeWarning: The number of channels in the channels.tsv sidecar file (179) does not match the number of channels in the raw data file (178). Will not try to set channel names.\n",
            "  new_raw = read_raw_bids(bids_path=BIDS_path, verbose=verbose)\n",
            "C:\\Users\\jz421\\Desktop\\GlobalLocal\\IEEG_Pipelines\\ieeg\\io.py:113: RuntimeWarning: Cannot set channel type for the following channels, as they are missing in the raw data: Trigger\n",
            "  new_raw = read_raw_bids(bids_path=BIDS_path, verbose=verbose)\n"
          ]
        },
        {
          "name": "stdout",
          "output_type": "stream",
          "text": [
            "Reading events from C:\\Users\\jz421\\Box\\CoganLab\\BIDS-1.1_GlobalLocal\\BIDS\\derivatives\\clean\\sub-D0057\\ieeg\\sub-D0057_task-GlobalLocal_acq-01_run-02_desc-clean_events.tsv.\n",
            "Reading channel info from C:\\Users\\jz421\\Box\\CoganLab\\BIDS-1.1_GlobalLocal\\BIDS\\derivatives\\clean\\sub-D0057\\ieeg\\sub-D0057_task-GlobalLocal_acq-01_run-02_desc-clean_channels.tsv.\n",
            "Reading electrode coords from C:\\Users\\jz421\\Box\\CoganLab\\BIDS-1.1_GlobalLocal\\BIDS\\derivatives\\clean\\sub-D0057\\ieeg\\sub-D0057_acq-01_space-ACPC_electrodes.tsv.\n",
            "Extracting EDF parameters from C:\\Users\\jz421\\Box\\CoganLab\\BIDS-1.1_GlobalLocal\\BIDS\\derivatives\\clean\\sub-D0057\\ieeg\\sub-D0057_task-GlobalLocal_acq-01_run-03_desc-clean_ieeg.edf...\n",
            "EDF file detected\n",
            "Setting channel info structure...\n",
            "Creating raw.info structure...\n"
          ]
        },
        {
          "name": "stderr",
          "output_type": "stream",
          "text": [
            "C:\\Users\\jz421\\Desktop\\GlobalLocal\\IEEG_Pipelines\\ieeg\\io.py:113: RuntimeWarning: Omitted 228 annotation(s) that were outside data range.\n",
            "  new_raw = read_raw_bids(bids_path=BIDS_path, verbose=verbose)\n",
            "C:\\Users\\jz421\\Desktop\\GlobalLocal\\IEEG_Pipelines\\ieeg\\io.py:113: RuntimeWarning: The number of channels in the channels.tsv sidecar file (179) does not match the number of channels in the raw data file (178). Will not try to set channel names.\n",
            "  new_raw = read_raw_bids(bids_path=BIDS_path, verbose=verbose)\n",
            "C:\\Users\\jz421\\Desktop\\GlobalLocal\\IEEG_Pipelines\\ieeg\\io.py:113: RuntimeWarning: Cannot set channel type for the following channels, as they are missing in the raw data: Trigger\n",
            "  new_raw = read_raw_bids(bids_path=BIDS_path, verbose=verbose)\n"
          ]
        },
        {
          "name": "stdout",
          "output_type": "stream",
          "text": [
            "Reading events from C:\\Users\\jz421\\Box\\CoganLab\\BIDS-1.1_GlobalLocal\\BIDS\\derivatives\\clean\\sub-D0057\\ieeg\\sub-D0057_task-GlobalLocal_acq-01_run-03_desc-clean_events.tsv.\n",
            "Reading channel info from C:\\Users\\jz421\\Box\\CoganLab\\BIDS-1.1_GlobalLocal\\BIDS\\derivatives\\clean\\sub-D0057\\ieeg\\sub-D0057_task-GlobalLocal_acq-01_run-03_desc-clean_channels.tsv.\n",
            "Reading electrode coords from C:\\Users\\jz421\\Box\\CoganLab\\BIDS-1.1_GlobalLocal\\BIDS\\derivatives\\clean\\sub-D0057\\ieeg\\sub-D0057_acq-01_space-ACPC_electrodes.tsv.\n",
            "Extracting EDF parameters from C:\\Users\\jz421\\Box\\CoganLab\\BIDS-1.1_GlobalLocal\\BIDS\\derivatives\\clean\\sub-D0057\\ieeg\\sub-D0057_task-GlobalLocal_acq-01_run-04_desc-clean_ieeg.edf...\n",
            "EDF file detected\n",
            "Setting channel info structure...\n",
            "Creating raw.info structure...\n"
          ]
        },
        {
          "name": "stderr",
          "output_type": "stream",
          "text": [
            "C:\\Users\\jz421\\Desktop\\GlobalLocal\\IEEG_Pipelines\\ieeg\\io.py:113: RuntimeWarning: Omitted 228 annotation(s) that were outside data range.\n",
            "  new_raw = read_raw_bids(bids_path=BIDS_path, verbose=verbose)\n",
            "C:\\Users\\jz421\\Desktop\\GlobalLocal\\IEEG_Pipelines\\ieeg\\io.py:113: RuntimeWarning: The number of channels in the channels.tsv sidecar file (179) does not match the number of channels in the raw data file (178). Will not try to set channel names.\n",
            "  new_raw = read_raw_bids(bids_path=BIDS_path, verbose=verbose)\n",
            "C:\\Users\\jz421\\Desktop\\GlobalLocal\\IEEG_Pipelines\\ieeg\\io.py:113: RuntimeWarning: Cannot set channel type for the following channels, as they are missing in the raw data: Trigger\n",
            "  new_raw = read_raw_bids(bids_path=BIDS_path, verbose=verbose)\n"
          ]
        },
        {
          "name": "stdout",
          "output_type": "stream",
          "text": [
            "Reading events from C:\\Users\\jz421\\Box\\CoganLab\\BIDS-1.1_GlobalLocal\\BIDS\\derivatives\\clean\\sub-D0057\\ieeg\\sub-D0057_task-GlobalLocal_acq-01_run-04_desc-clean_events.tsv.\n",
            "Reading channel info from C:\\Users\\jz421\\Box\\CoganLab\\BIDS-1.1_GlobalLocal\\BIDS\\derivatives\\clean\\sub-D0057\\ieeg\\sub-D0057_task-GlobalLocal_acq-01_run-04_desc-clean_channels.tsv.\n",
            "Reading electrode coords from C:\\Users\\jz421\\Box\\CoganLab\\BIDS-1.1_GlobalLocal\\BIDS\\derivatives\\clean\\sub-D0057\\ieeg\\sub-D0057_acq-01_space-ACPC_electrodes.tsv.\n"
          ]
        },
        {
          "name": "stderr",
          "output_type": "stream",
          "text": [
            "C:\\Users\\jz421\\Desktop\\GlobalLocal\\IEEG_Pipelines\\ieeg\\io.py:113: RuntimeWarning: Omitted 226 annotation(s) that were outside data range.\n",
            "  new_raw = read_raw_bids(bids_path=BIDS_path, verbose=verbose)\n",
            "C:\\Users\\jz421\\Desktop\\GlobalLocal\\IEEG_Pipelines\\ieeg\\io.py:113: RuntimeWarning: The number of channels in the channels.tsv sidecar file (179) does not match the number of channels in the raw data file (178). Will not try to set channel names.\n",
            "  new_raw = read_raw_bids(bids_path=BIDS_path, verbose=verbose)\n",
            "C:\\Users\\jz421\\Desktop\\GlobalLocal\\IEEG_Pipelines\\ieeg\\io.py:113: RuntimeWarning: Cannot set channel type for the following channels, as they are missing in the raw data: Trigger\n",
            "  new_raw = read_raw_bids(bids_path=BIDS_path, verbose=verbose)\n"
          ]
        },
        {
          "name": "stdout",
          "output_type": "stream",
          "text": [
            "good channels before dropping bads: 178\n",
            "filt channels before dropping bads: 178\n",
            "outlier round 1 channels: ['RAMT8']\n",
            "outlier round 2 channels: ['RAMT8', 'RPI16']\n",
            "outlier round 2 channels: ['RAMT8', 'RPI16', 'LAMT12']\n",
            "Bad channels in 'good': ['RAMT8', 'RPI16', 'LAMT12']\n",
            "Bad channels in 'good' after dropping once: []\n",
            "good channels after dropping bads: 175\n",
            "filt channels after dropping bads: 175\n",
            "Reading 0 ... 8243199  =      0.000 ...  4025.000 secs...\n",
            "Applying average reference.\n",
            "Applying a custom ('sEEG',) reference.\n",
            "Used Annotations descriptions: ['Response/c25/n25', 'Response/c25/r25', 'Response/c25/r75', 'Response/c25/s25', 'Response/c25/s75', 'Response/c75/r25', 'Response/c75/r75', 'Response/c75/s25', 'Response/c75/s75', 'Response/i25/r25', 'Response/i25/r75', 'Response/i25/s25', 'Response/i25/s75', 'Response/i75/n25', 'Response/i75/n75', 'Response/i75/r25', 'Response/i75/r75', 'Response/i75/s25', 'Response/i75/s75', 'Stimulus/c25/n25', 'Stimulus/c25/r25', 'Stimulus/c25/r75', 'Stimulus/c25/s25', 'Stimulus/c25/s75', 'Stimulus/c75/r25', 'Stimulus/c75/r75', 'Stimulus/c75/s25', 'Stimulus/c75/s75', 'Stimulus/i25/n75', 'Stimulus/i25/r25', 'Stimulus/i25/r75', 'Stimulus/i25/s25', 'Stimulus/i25/s75', 'Stimulus/i75/n25', 'Stimulus/i75/n75', 'Stimulus/i75/r25', 'Stimulus/i75/r75', 'Stimulus/i75/s25', 'Stimulus/i75/s75', 'experimentStart']\n",
            "Not setting metadata\n",
            "1 matching events found\n",
            "No baseline correction applied\n",
            "0 projection items activated\n",
            "Using data from preloaded Raw for 1 events and 22529 original time points ...\n",
            "1 bad epochs dropped\n"
          ]
        },
        {
          "name": "stderr",
          "output_type": "stream",
          "text": [
            "c:\\Users\\jz421\\AppData\\Local\\anaconda3\\envs\\ieeg\\Lib\\site-packages\\numpy\\core\\_methods.py:269: RuntimeWarning: Degrees of freedom <= 0 for slice\n",
            "  ret = _var(a, axis=axis, dtype=dtype, out=out, ddof=ddof,\n",
            "c:\\Users\\jz421\\AppData\\Local\\anaconda3\\envs\\ieeg\\Lib\\site-packages\\numpy\\core\\_methods.py:226: RuntimeWarning: invalid value encountered in divide\n",
            "  arrmean = um.true_divide(arrmean, div, out=arrmean,\n",
            "c:\\Users\\jz421\\AppData\\Local\\anaconda3\\envs\\ieeg\\Lib\\site-packages\\numpy\\core\\_methods.py:258: RuntimeWarning: invalid value encountered in divide\n",
            "  ret = um.true_divide(\n",
            "c:\\Users\\jz421\\AppData\\Local\\anaconda3\\envs\\ieeg\\Lib\\site-packages\\numpy\\core\\fromnumeric.py:3464: RuntimeWarning: Mean of empty slice.\n",
            "  return _methods._mean(a, axis=axis, dtype=dtype,\n",
            "c:\\Users\\jz421\\AppData\\Local\\anaconda3\\envs\\ieeg\\Lib\\site-packages\\numpy\\core\\_methods.py:184: RuntimeWarning: invalid value encountered in divide\n",
            "  ret = um.true_divide(\n",
            "0it [00:00, ?it/s]\n"
          ]
        },
        {
          "name": "stdout",
          "output_type": "stream",
          "text": [
            "Reading 0 ... 5983997  =      0.000 ...  2921.874 secs...\n",
            "Applying average reference.\n",
            "Applying a custom ('sEEG',) reference.\n",
            "Used Annotations descriptions: ['Response/c25/n25', 'Response/c25/r25', 'Response/c25/r75', 'Response/c25/s25', 'Response/c25/s75', 'Response/c75/r25', 'Response/c75/r75', 'Response/c75/s25', 'Response/c75/s75', 'Response/i25/r25', 'Response/i25/r75', 'Response/i25/s25', 'Response/i25/s75', 'Response/i75/n25', 'Response/i75/n75', 'Response/i75/r25', 'Response/i75/r75', 'Response/i75/s25', 'Response/i75/s75', 'Stimulus/c25/n25', 'Stimulus/c25/r25', 'Stimulus/c25/r75', 'Stimulus/c25/s25', 'Stimulus/c25/s75', 'Stimulus/c75/r25', 'Stimulus/c75/r75', 'Stimulus/c75/s25', 'Stimulus/c75/s75', 'Stimulus/i25/n75', 'Stimulus/i25/r25', 'Stimulus/i25/r75', 'Stimulus/i25/s25', 'Stimulus/i25/s75', 'Stimulus/i75/n25', 'Stimulus/i75/n75', 'Stimulus/i75/r25', 'Stimulus/i75/r75', 'Stimulus/i75/s25', 'Stimulus/i75/s75', 'experimentStart']\n",
            "Not setting metadata\n",
            "448 matching events found\n",
            "No baseline correction applied\n",
            "0 projection items activated\n",
            "Using data from preloaded Raw for 448 events and 7169 original time points ...\n",
            "0 bad epochs dropped\n"
          ]
        },
        {
          "name": "stderr",
          "output_type": "stream",
          "text": [
            "100%|██████████| 448/448 [08:41<00:00,  1.16s/it]\n"
          ]
        },
        {
          "name": "stdout",
          "output_type": "stream",
          "text": [
            "Applying baseline correction (mode: zscore)\n"
          ]
        },
        {
          "name": "stderr",
          "output_type": "stream",
          "text": [
            "C:\\Users\\jz421\\Desktop\\GlobalLocal\\IEEG_Pipelines\\ieeg\\calc\\scaling.py:87: RuntimeWarning: Mean of empty slice\n",
            "  mean = np.nanmean(basedata, axis=axis, keepdims=True)\n",
            "c:\\Users\\jz421\\AppData\\Local\\anaconda3\\envs\\ieeg\\Lib\\site-packages\\numpy\\lib\\nanfunctions.py:1872: RuntimeWarning: Degrees of freedom <= 0 for slice.\n",
            "  var = nanvar(a, axis=axis, dtype=dtype, out=out, ddof=ddof,\n",
            "C:\\Users\\jz421\\AppData\\Local\\Temp\\ipykernel_1168\\2433824810.py:148: RuntimeWarning: The measurement information indicates a low-pass frequency of 1024.0 Hz. The decim=2 parameter will result in a sampling frequency of 1024.0 Hz, which can cause aliasing artifacts.\n",
            "  HG_base.decimate(2)\n",
            "C:\\Users\\jz421\\AppData\\Local\\Temp\\ipykernel_1168\\2433824810.py:149: RuntimeWarning: The measurement information indicates a low-pass frequency of 1024.0 Hz. The decim=2 parameter will result in a sampling frequency of 1024.0 Hz, which can cause aliasing artifacts.\n",
            "  HG_ev1.decimate(2)\n"
          ]
        },
        {
          "name": "stdout",
          "output_type": "stream",
          "text": [
            "NOTE: pick_channels() is a legacy function. New code should use inst.pick(...).\n",
            "NOTE: pick_channels() is a legacy function. New code should use inst.pick(...).\n"
          ]
        },
        {
          "name": "stderr",
          "output_type": "stream",
          "text": [
            "C:\\Users\\jz421\\AppData\\Local\\Temp\\ipykernel_1168\\2433824810.py:154: RuntimeWarning: Mean of empty slice\n",
            "  HG_ev1_evoke_rescaled = HG_ev1_rescaled.average(method=lambda x: np.nanmean(x, axis=0))\n"
          ]
        },
        {
          "name": "stdout",
          "output_type": "stream",
          "text": [
            "Data contains NaN values.\n",
            "Shape of HG_base._data: (0, 175, 10241)\n",
            "Shape of HG_ev1._data: (448, 175, 2561)\n"
          ]
        },
        {
          "ename": "ValueError",
          "evalue": "Some of the values  to be plotted are NaN.",
          "output_type": "error",
          "traceback": [
            "\u001b[1;31m---------------------------------------------------------------------------\u001b[0m",
            "\u001b[1;31mValueError\u001b[0m                                Traceback (most recent call last)",
            "Cell \u001b[1;32mIn[3], line 167\u001b[0m\n\u001b[0;32m    165\u001b[0m \u001b[39m# For stimulus event, plot average RT\u001b[39;00m\n\u001b[0;32m    166\u001b[0m \u001b[39mif\u001b[39;00m event \u001b[39m==\u001b[39m \u001b[39m\"\u001b[39m\u001b[39mStimulus\u001b[39m\u001b[39m\"\u001b[39m:\n\u001b[1;32m--> 167\u001b[0m     fig \u001b[39m=\u001b[39m HG_ev1_evoke_rescaled\u001b[39m.\u001b[39;49mplot(unit\u001b[39m=\u001b[39;49m\u001b[39mFalse\u001b[39;49;00m, scalings\u001b[39m=\u001b[39;49m\u001b[39mdict\u001b[39;49m(sEEG\u001b[39m=\u001b[39;49m\u001b[39m1\u001b[39;49m))\n\u001b[0;32m    168\u001b[0m     \u001b[39mfor\u001b[39;00m ax \u001b[39min\u001b[39;00m fig\u001b[39m.\u001b[39maxes:\n\u001b[0;32m    169\u001b[0m         ax\u001b[39m.\u001b[39maxvline(x\u001b[39m=\u001b[39mavg_RT, color\u001b[39m=\u001b[39m\u001b[39m'\u001b[39m\u001b[39mr\u001b[39m\u001b[39m'\u001b[39m, linestyle\u001b[39m=\u001b[39m\u001b[39m'\u001b[39m\u001b[39m--\u001b[39m\u001b[39m'\u001b[39m)\n",
            "File \u001b[1;32mc:\\Users\\jz421\\AppData\\Local\\anaconda3\\envs\\ieeg\\Lib\\site-packages\\mne\\evoked.py:461\u001b[0m, in \u001b[0;36mEvoked.plot\u001b[1;34m(self, picks, exclude, unit, show, ylim, xlim, proj, hline, units, scalings, titles, axes, gfp, window_title, spatial_colors, zorder, selectable, noise_cov, time_unit, sphere, highlight, verbose)\u001b[0m\n\u001b[0;32m    434\u001b[0m \u001b[39m@copy_function_doc_to_method_doc\u001b[39m(plot_evoked)\n\u001b[0;32m    435\u001b[0m \u001b[39mdef\u001b[39;00m \u001b[39mplot\u001b[39m(\n\u001b[0;32m    436\u001b[0m     \u001b[39mself\u001b[39m,\n\u001b[1;32m   (...)\u001b[0m\n\u001b[0;32m    459\u001b[0m     verbose\u001b[39m=\u001b[39m\u001b[39mNone\u001b[39;00m,\n\u001b[0;32m    460\u001b[0m ):\n\u001b[1;32m--> 461\u001b[0m     \u001b[39mreturn\u001b[39;00m plot_evoked(\n\u001b[0;32m    462\u001b[0m         \u001b[39mself\u001b[39;49m,\n\u001b[0;32m    463\u001b[0m         picks\u001b[39m=\u001b[39;49mpicks,\n\u001b[0;32m    464\u001b[0m         exclude\u001b[39m=\u001b[39;49mexclude,\n\u001b[0;32m    465\u001b[0m         unit\u001b[39m=\u001b[39;49munit,\n\u001b[0;32m    466\u001b[0m         show\u001b[39m=\u001b[39;49mshow,\n\u001b[0;32m    467\u001b[0m         ylim\u001b[39m=\u001b[39;49mylim,\n\u001b[0;32m    468\u001b[0m         proj\u001b[39m=\u001b[39;49mproj,\n\u001b[0;32m    469\u001b[0m         xlim\u001b[39m=\u001b[39;49mxlim,\n\u001b[0;32m    470\u001b[0m         hline\u001b[39m=\u001b[39;49mhline,\n\u001b[0;32m    471\u001b[0m         units\u001b[39m=\u001b[39;49munits,\n\u001b[0;32m    472\u001b[0m         scalings\u001b[39m=\u001b[39;49mscalings,\n\u001b[0;32m    473\u001b[0m         titles\u001b[39m=\u001b[39;49mtitles,\n\u001b[0;32m    474\u001b[0m         axes\u001b[39m=\u001b[39;49maxes,\n\u001b[0;32m    475\u001b[0m         gfp\u001b[39m=\u001b[39;49mgfp,\n\u001b[0;32m    476\u001b[0m         window_title\u001b[39m=\u001b[39;49mwindow_title,\n\u001b[0;32m    477\u001b[0m         spatial_colors\u001b[39m=\u001b[39;49mspatial_colors,\n\u001b[0;32m    478\u001b[0m         zorder\u001b[39m=\u001b[39;49mzorder,\n\u001b[0;32m    479\u001b[0m         selectable\u001b[39m=\u001b[39;49mselectable,\n\u001b[0;32m    480\u001b[0m         noise_cov\u001b[39m=\u001b[39;49mnoise_cov,\n\u001b[0;32m    481\u001b[0m         time_unit\u001b[39m=\u001b[39;49mtime_unit,\n\u001b[0;32m    482\u001b[0m         sphere\u001b[39m=\u001b[39;49msphere,\n\u001b[0;32m    483\u001b[0m         highlight\u001b[39m=\u001b[39;49mhighlight,\n\u001b[0;32m    484\u001b[0m         verbose\u001b[39m=\u001b[39;49mverbose,\n\u001b[0;32m    485\u001b[0m     )\n",
            "File \u001b[1;32m<decorator-gen-162>:12\u001b[0m, in \u001b[0;36mplot_evoked\u001b[1;34m(evoked, picks, exclude, unit, show, ylim, xlim, proj, hline, units, scalings, titles, axes, gfp, window_title, spatial_colors, zorder, selectable, noise_cov, time_unit, sphere, highlight, verbose)\u001b[0m\n",
            "File \u001b[1;32mc:\\Users\\jz421\\AppData\\Local\\anaconda3\\envs\\ieeg\\Lib\\site-packages\\mne\\viz\\evoked.py:1134\u001b[0m, in \u001b[0;36mplot_evoked\u001b[1;34m(evoked, picks, exclude, unit, show, ylim, xlim, proj, hline, units, scalings, titles, axes, gfp, window_title, spatial_colors, zorder, selectable, noise_cov, time_unit, sphere, highlight, verbose)\u001b[0m\n\u001b[0;32m    977\u001b[0m \u001b[39m@verbose\u001b[39m\n\u001b[0;32m    978\u001b[0m \u001b[39mdef\u001b[39;00m \u001b[39mplot_evoked\u001b[39m(\n\u001b[0;32m    979\u001b[0m     evoked,\n\u001b[1;32m   (...)\u001b[0m\n\u001b[0;32m   1002\u001b[0m     verbose\u001b[39m=\u001b[39m\u001b[39mNone\u001b[39;00m,\n\u001b[0;32m   1003\u001b[0m ):\n\u001b[0;32m   1004\u001b[0m \u001b[39m    \u001b[39m\u001b[39m\"\"\"Plot evoked data using butterfly plots.\u001b[39;00m\n\u001b[0;32m   1005\u001b[0m \n\u001b[0;32m   1006\u001b[0m \u001b[39m    Left click to a line shows the channel name. Selecting an area by clicking\u001b[39;00m\n\u001b[1;32m   (...)\u001b[0m\n\u001b[0;32m   1132\u001b[0m \u001b[39m    mne.viz.plot_evoked_white\u001b[39;00m\n\u001b[0;32m   1133\u001b[0m \u001b[39m    \"\"\"\u001b[39;00m  \u001b[39m# noqa: E501\u001b[39;00m\n\u001b[1;32m-> 1134\u001b[0m     \u001b[39mreturn\u001b[39;00m _plot_evoked(\n\u001b[0;32m   1135\u001b[0m         evoked\u001b[39m=\u001b[39;49mevoked,\n\u001b[0;32m   1136\u001b[0m         picks\u001b[39m=\u001b[39;49mpicks,\n\u001b[0;32m   1137\u001b[0m         exclude\u001b[39m=\u001b[39;49mexclude,\n\u001b[0;32m   1138\u001b[0m         unit\u001b[39m=\u001b[39;49munit,\n\u001b[0;32m   1139\u001b[0m         show\u001b[39m=\u001b[39;49mshow,\n\u001b[0;32m   1140\u001b[0m         ylim\u001b[39m=\u001b[39;49mylim,\n\u001b[0;32m   1141\u001b[0m         proj\u001b[39m=\u001b[39;49mproj,\n\u001b[0;32m   1142\u001b[0m         xlim\u001b[39m=\u001b[39;49mxlim,\n\u001b[0;32m   1143\u001b[0m         hline\u001b[39m=\u001b[39;49mhline,\n\u001b[0;32m   1144\u001b[0m         units\u001b[39m=\u001b[39;49munits,\n\u001b[0;32m   1145\u001b[0m         scalings\u001b[39m=\u001b[39;49mscalings,\n\u001b[0;32m   1146\u001b[0m         titles\u001b[39m=\u001b[39;49mtitles,\n\u001b[0;32m   1147\u001b[0m         axes\u001b[39m=\u001b[39;49maxes,\n\u001b[0;32m   1148\u001b[0m         plot_type\u001b[39m=\u001b[39;49m\u001b[39m\"\u001b[39;49m\u001b[39mbutterfly\u001b[39;49m\u001b[39m\"\u001b[39;49m,\n\u001b[0;32m   1149\u001b[0m         gfp\u001b[39m=\u001b[39;49mgfp,\n\u001b[0;32m   1150\u001b[0m         window_title\u001b[39m=\u001b[39;49mwindow_title,\n\u001b[0;32m   1151\u001b[0m         spatial_colors\u001b[39m=\u001b[39;49mspatial_colors,\n\u001b[0;32m   1152\u001b[0m         selectable\u001b[39m=\u001b[39;49mselectable,\n\u001b[0;32m   1153\u001b[0m         zorder\u001b[39m=\u001b[39;49mzorder,\n\u001b[0;32m   1154\u001b[0m         noise_cov\u001b[39m=\u001b[39;49mnoise_cov,\n\u001b[0;32m   1155\u001b[0m         time_unit\u001b[39m=\u001b[39;49mtime_unit,\n\u001b[0;32m   1156\u001b[0m         sphere\u001b[39m=\u001b[39;49msphere,\n\u001b[0;32m   1157\u001b[0m         highlight\u001b[39m=\u001b[39;49mhighlight,\n\u001b[0;32m   1158\u001b[0m     )\n",
            "File \u001b[1;32mc:\\Users\\jz421\\AppData\\Local\\anaconda3\\envs\\ieeg\\Lib\\site-packages\\mne\\viz\\evoked.py:500\u001b[0m, in \u001b[0;36m_plot_evoked\u001b[1;34m(evoked, picks, exclude, unit, show, ylim, proj, xlim, hline, units, scalings, titles, axes, plot_type, cmap, gfp, window_title, spatial_colors, selectable, zorder, noise_cov, colorbar, mask, mask_style, mask_cmap, mask_alpha, time_unit, show_names, group_by, sphere, highlight, draw)\u001b[0m\n\u001b[0;32m    497\u001b[0m     evoked \u001b[39m=\u001b[39m evoked\u001b[39m.\u001b[39m_reconstruct_proj()\n\u001b[0;32m    499\u001b[0m \u001b[39mif\u001b[39;00m plot_type \u001b[39m==\u001b[39m \u001b[39m\"\u001b[39m\u001b[39mbutterfly\u001b[39m\u001b[39m\"\u001b[39m:\n\u001b[1;32m--> 500\u001b[0m     _plot_lines(\n\u001b[0;32m    501\u001b[0m         evoked\u001b[39m.\u001b[39;49mdata,\n\u001b[0;32m    502\u001b[0m         info,\n\u001b[0;32m    503\u001b[0m         picks,\n\u001b[0;32m    504\u001b[0m         fig,\n\u001b[0;32m    505\u001b[0m         axes,\n\u001b[0;32m    506\u001b[0m         spatial_colors,\n\u001b[0;32m    507\u001b[0m         unit,\n\u001b[0;32m    508\u001b[0m         units,\n\u001b[0;32m    509\u001b[0m         scalings,\n\u001b[0;32m    510\u001b[0m         hline,\n\u001b[0;32m    511\u001b[0m         gfp,\n\u001b[0;32m    512\u001b[0m         types,\n\u001b[0;32m    513\u001b[0m         zorder,\n\u001b[0;32m    514\u001b[0m         xlim,\n\u001b[0;32m    515\u001b[0m         ylim,\n\u001b[0;32m    516\u001b[0m         times,\n\u001b[0;32m    517\u001b[0m         bad_ch_idx,\n\u001b[0;32m    518\u001b[0m         titles,\n\u001b[0;32m    519\u001b[0m         ch_types_used,\n\u001b[0;32m    520\u001b[0m         selectable,\n\u001b[0;32m    521\u001b[0m         \u001b[39mFalse\u001b[39;49;00m,\n\u001b[0;32m    522\u001b[0m         line_alpha\u001b[39m=\u001b[39;49m\u001b[39m1.0\u001b[39;49m,\n\u001b[0;32m    523\u001b[0m         nave\u001b[39m=\u001b[39;49mevoked\u001b[39m.\u001b[39;49mnave,\n\u001b[0;32m    524\u001b[0m         time_unit\u001b[39m=\u001b[39;49mtime_unit,\n\u001b[0;32m    525\u001b[0m         sphere\u001b[39m=\u001b[39;49msphere,\n\u001b[0;32m    526\u001b[0m         highlight\u001b[39m=\u001b[39;49mhighlight,\n\u001b[0;32m    527\u001b[0m     )\n\u001b[0;32m    528\u001b[0m     plt\u001b[39m.\u001b[39msetp(axes, xlabel\u001b[39m=\u001b[39m\u001b[39mf\u001b[39m\u001b[39m\"\u001b[39m\u001b[39mTime (\u001b[39m\u001b[39m{\u001b[39;00mtime_unit\u001b[39m}\u001b[39;00m\u001b[39m)\u001b[39m\u001b[39m\"\u001b[39m)\n\u001b[0;32m    530\u001b[0m \u001b[39melif\u001b[39;00m plot_type \u001b[39m==\u001b[39m \u001b[39m\"\u001b[39m\u001b[39mimage\u001b[39m\u001b[39m\"\u001b[39m:\n",
            "File \u001b[1;32mc:\\Users\\jz421\\AppData\\Local\\anaconda3\\envs\\ieeg\\Lib\\site-packages\\mne\\viz\\evoked.py:664\u001b[0m, in \u001b[0;36m_plot_lines\u001b[1;34m(data, info, picks, fig, axes, spatial_colors, unit, units, scalings, hline, gfp, types, zorder, xlim, ylim, times, bad_ch_idx, titles, ch_types_used, selectable, psd, line_alpha, nave, time_unit, sphere, highlight)\u001b[0m\n\u001b[0;32m    661\u001b[0m \u001b[39mif\u001b[39;00m \u001b[39mlen\u001b[39m(idx) \u001b[39m>\u001b[39m \u001b[39m0\u001b[39m:\n\u001b[0;32m    662\u001b[0m     \u001b[39m# Set amplitude scaling\u001b[39;00m\n\u001b[0;32m    663\u001b[0m     D \u001b[39m=\u001b[39m this_scaling \u001b[39m*\u001b[39m data[idx, :]\n\u001b[1;32m--> 664\u001b[0m     _check_if_nan(D)\n\u001b[0;32m    665\u001b[0m     gfp_only \u001b[39m=\u001b[39m gfp \u001b[39m==\u001b[39m \u001b[39m\"\u001b[39m\u001b[39monly\u001b[39m\u001b[39m\"\u001b[39m\n\u001b[0;32m    666\u001b[0m     \u001b[39mif\u001b[39;00m \u001b[39mnot\u001b[39;00m gfp_only:\n",
            "File \u001b[1;32mc:\\Users\\jz421\\AppData\\Local\\anaconda3\\envs\\ieeg\\Lib\\site-packages\\mne\\utils\\check.py:640\u001b[0m, in \u001b[0;36m_check_if_nan\u001b[1;34m(data, msg)\u001b[0m\n\u001b[0;32m    638\u001b[0m \u001b[39m\u001b[39m\u001b[39m\"\"\"Raise if any of the values are NaN.\"\"\"\u001b[39;00m\n\u001b[0;32m    639\u001b[0m \u001b[39mif\u001b[39;00m \u001b[39mnot\u001b[39;00m np\u001b[39m.\u001b[39misfinite(data)\u001b[39m.\u001b[39mall():\n\u001b[1;32m--> 640\u001b[0m     \u001b[39mraise\u001b[39;00m \u001b[39mValueError\u001b[39;00m(\u001b[39m\"\u001b[39m\u001b[39mSome of the values \u001b[39m\u001b[39m{}\u001b[39;00m\u001b[39m are NaN.\u001b[39m\u001b[39m\"\u001b[39m\u001b[39m.\u001b[39mformat(msg))\n",
            "\u001b[1;31mValueError\u001b[0m: Some of the values  to be plotted are NaN."
          ]
        }
      ],
      "source": [
        "import sys\n",
        "print(sys.path)\n",
        "sys.path.append(\"C:/Users/jz421/Desktop/GlobalLocal/IEEG_Pipelines/\") #need to do this cuz otherwise ieeg isn't added to path...\n",
        "\n",
        "import ieeg.viz.utils\n",
        "from ieeg.navigate import channel_outlier_marker, trial_ieeg, crop_empty_data, outliers_to_nan\n",
        "from ieeg.io import raw_from_layout, get_data\n",
        "from ieeg.timefreq.utils import crop_pad\n",
        "from ieeg.calc import stats, scaling\n",
        "from ieeg.process import parallelize\n",
        "from ieeg.timefreq import gamma\n",
        "from ieeg.calc.scaling import rescale\n",
        "from misc_functions import calculate_RTs\n",
        "\n",
        "\n",
        "import matplotlib.pyplot as plt\n",
        "import matplotlib.ticker as ticker\n",
        "\n",
        "from bids import BIDSLayout\n",
        "import mne\n",
        "import os\n",
        "import numpy as np\n",
        "\n",
        "from misc_functions import calculate_RTs, save_sig_chans, save_channels_to_file\n",
        "import pickle\n",
        "\n",
        "\n",
        "def get_baseline(inst: mne.io.BaseRaw, base_times: tuple[float, float]):\n",
        "    inst = inst.copy()\n",
        "    inst.load_data()\n",
        "    ch_type = inst.get_channel_types(only_data_chs=True)[0]\n",
        "    inst.set_eeg_reference(ref_channels=\"average\", ch_type=ch_type)\n",
        "\n",
        "    adjusted_base_times = [base_times[0] - 0.5, base_times[1] + 0.5]\n",
        "    trials = trial_ieeg(inst, \"experimentStart\", adjusted_base_times, preload=True)\n",
        "    outliers_to_nan(trials, outliers=10)\n",
        "    HG_base = gamma.extract(trials, copy=False, n_jobs=1)\n",
        "    crop_pad(HG_base, \"0.5s\")\n",
        "    del inst\n",
        "    return HG_base\n",
        "\n",
        "\n",
        "def plot_HG_and_stats(sub, task, output_name, event=None, times=(-1, 1.5), base_times=(-0.5, 0), LAB_root=None, channels=None, full_trial_base=False):\n",
        "    \"\"\"\n",
        "    Plot high gamma (HG) and statistics for a given subject and task using specified event.\n",
        "    \n",
        "    Parameters:\n",
        "    - sub (str): The subject identifier.\n",
        "    - task (str): The task identifier.\n",
        "    - output_name (str): The name for the output files.\n",
        "    - event (str, optional): Event name to process. Defaults to None.\n",
        "    - times (tuple, optional): A tuple indicating the start and end times for processing. Defaults to (-1, 1.5).\n",
        "    - base_times (tuple, optional): A tuple indicating the start and end base times for processing. Defaults to (-0.5, 0).\n",
        "    - LAB_root (str, optional): The root directory for the lab. Will be determined based on OS if not provided. Defaults to None.\n",
        "    - channels (list of strings, optional): The channels to plot and get stats for. Default is all channels.\n",
        "    - full_trial_base (boolean): Whether to use the full trial as the baseline period. Default is False.\n",
        "    This function will process the provided event for a given subject and task. \n",
        "    High gamma (HG) will be computed, and statistics will be calculated and plotted. \n",
        "    The results will be saved to output files.\n",
        "    \"\"\"\n",
        "    pass\n",
        "\n",
        "sub='D0057'\n",
        "task='GlobalLocal'\n",
        "output_name=\"stimulus_RMMF1-5_experimentStartBase10SECONDTEST\"\n",
        "event=\"Stimulus\"\n",
        "times=(-1, 1.5)\n",
        "base_times=(0, 10)\n",
        "LAB_root=None\n",
        "channels=None\n",
        "full_trial_base=False\n",
        "\n",
        "if LAB_root is None:\n",
        "    HOME = os.path.expanduser(\"~\")\n",
        "    if os.name == 'nt': # windows\n",
        "        LAB_root = os.path.join(HOME, \"Box\", \"CoganLab\")\n",
        "    else: # mac\n",
        "        LAB_root = os.path.join(HOME, \"Library\", \"CloudStorage\", \"Box-Box\", \"CoganLab\")\n",
        "\n",
        "layout = get_data(task, root=LAB_root)\n",
        "filt = raw_from_layout(layout.derivatives['derivatives/clean'], subject=sub, extension='.edf', desc='clean', preload=False)\n",
        "save_dir = os.path.join(layout.root, 'derivatives', 'freqFilt', 'figs', sub)\n",
        "if not os.path.exists(save_dir):\n",
        "    os.makedirs(save_dir)\n",
        "\n",
        "try:\n",
        "    good = crop_empty_data(filt)\n",
        "except ValueError as ve:\n",
        "    print(f\"Error encountered during cropping: {ve}\")\n",
        "\n",
        "print(f\"good channels before dropping bads: {len(good.ch_names)}\")\n",
        "print(f\"filt channels before dropping bads: {len(filt.ch_names)}\")\n",
        "\n",
        "good.info['bads'] = channel_outlier_marker(good, 3, 2)\n",
        "print(\"Bad channels in 'good':\", good.info['bads'])\n",
        "\n",
        "filt.drop_channels(good.info['bads']) #this has to come first cuz if you drop from good first, then good.info['bads'] is just empty\n",
        "good.drop_channels(good.info['bads'])\n",
        "\n",
        "print(\"Bad channels in 'good' after dropping once:\", good.info['bads'])\n",
        "\n",
        "print(f\"good channels after dropping bads: {len(good.ch_names)}\")\n",
        "print(f\"filt channels after dropping bads: {len(filt.ch_names)}\")\n",
        "\n",
        "\n",
        "HG_base = get_baseline(filt, base_times)\n",
        "good.load_data()\n",
        "\n",
        "\n",
        "# If channels is None, use all channels\n",
        "if channels is None:\n",
        "    channels = good.ch_names\n",
        "else:\n",
        "    # Validate the provided channels\n",
        "    invalid_channels = [ch for ch in channels if ch not in good.ch_names]\n",
        "    if invalid_channels:\n",
        "        raise ValueError(f\"The following channels are not valid: {invalid_channels}\")\n",
        "\n",
        "    # Use only the specified channels\n",
        "    good.pick_channels(channels)\n",
        "\n",
        "ch_type = filt.get_channel_types(only_data_chs=True)[0]\n",
        "good.set_eeg_reference(ref_channels=\"average\", ch_type=ch_type)\n",
        "\n",
        "# Create a baseline EpochsTFR using the stimulus event\n",
        "\n",
        "# adjusted_base_times = [base_times[0] - 0.5, base_times[1] + 0.5]\n",
        "# trials = trial_ieeg(good, \"Stimulus\", adjusted_base_times, preload=True)\n",
        "# outliers_to_nan(trials, outliers=10)\n",
        "# HG_base = gamma.extract(trials, copy=False, n_jobs=1)\n",
        "# crop_pad(HG_base, \"0.5s\")\n",
        "\n",
        "# adjusted_base_times = [base_times[0] - 0.5, base_times[1] + 0.5]\n",
        "\n",
        "# trials = trial_ieeg(filt, \"experimentStart\", adjusted_base_times, preload=True)\n",
        "# outliers_to_nan(trials, outliers=10)\n",
        "# HG_base = gamma.extract(trials, copy=False, n_jobs=-1)\n",
        "# crop_pad(HG_base, \"0.5s\")\n",
        "\n",
        "# Epoching and HG extraction for the specified event\n",
        "times_adj = [times[0] - 0.5, times[1] + 0.5]\n",
        "trials = trial_ieeg(good, event, times_adj, preload=True, reject_by_annotation=False)\n",
        "outliers_to_nan(trials, outliers=10)\n",
        "HG_ev1 = gamma.extract(trials, copy=False, n_jobs=1)\n",
        "crop_pad(HG_ev1, \"0.5s\")\n",
        "HG_ev1_rescaled = rescale(HG_ev1, HG_base, copy=True, mode='zscore')\n",
        "\n",
        "HG_base.decimate(2)\n",
        "HG_ev1.decimate(2)\n",
        "RTs, skipped = calculate_RTs(good)\n",
        "avg_RT = np.median(RTs)\n",
        "\n",
        "HG_ev1_evoke = HG_ev1.average(method=lambda x: np.nanmean(x, axis=0))\n",
        "HG_ev1_evoke_rescaled = HG_ev1_rescaled.average(method=lambda x: np.nanmean(x, axis=0))\n",
        "\n",
        "\n",
        "if np.isnan(HG_ev1_evoke_rescaled.data).any():\n",
        "    print(\"Data contains NaN values.\")\n",
        "    # HG_ev1_evoke_rescaled.data = np.nan_to_num(HG_ev1_evoke_rescaled.data)\n",
        "\n",
        "# Debugging: Print shapes of data arrays\n",
        "print(f\"Shape of HG_base._data: {HG_base._data.shape}\")\n",
        "print(f\"Shape of HG_ev1._data: {HG_ev1._data.shape}\")\n",
        "\n",
        "# For stimulus event, plot average RT\n",
        "if event == \"Stimulus\":\n",
        "    fig = HG_ev1_evoke_rescaled.plot(unit=False, scalings=dict(sEEG=1))\n",
        "    for ax in fig.axes:\n",
        "        ax.axvline(x=avg_RT, color='r', linestyle='--')\n",
        "    fig.savefig(save_dir + '_HG_ev1_Stimulus_zscore.png')\n",
        "else:\n",
        "    fig = HG_ev1_evoke_rescaled.plot(unit=False, scalings=dict(sEEG=1))\n",
        "    fig.savefig(save_dir + f'_HG_ev1_{output_name}_zscore.png')\n",
        "\n",
        "# Calculate statistics and define channel names\n",
        "mask = stats.time_perm_cluster(HG_ev1._data, HG_base._data, 0.05, axis=0, n_perm=1000, n_jobs=6, ignore_adjacency=1)\n",
        "\n",
        "channels = good.ch_names\n",
        "\n",
        "#save channels with their indices\n",
        "save_channels_to_file(channels, sub, task, save_dir)\n",
        "\n",
        "# save significant channels to a json\n",
        "save_sig_chans(f'{output_name}', mask, channels, sub, save_dir)\n",
        "\n",
        "# plot stats\n",
        "plt.figure(figsize=(16, 8))\n",
        "plt.imshow(mask, aspect='auto')\n",
        "relabel_axes(0, 2500, -1000, 1500)\n",
        "plt.savefig(save_dir + f'_{output_name}_stats_big.png', dpi=300)"
      ]
    },
    {
      "cell_type": "code",
      "execution_count": 62,
      "metadata": {},
      "outputs": [
        {
          "ename": "KeyboardInterrupt",
          "evalue": "",
          "output_type": "error",
          "traceback": [
            "\u001b[1;31m---------------------------------------------------------------------------\u001b[0m",
            "\u001b[1;31mKeyboardInterrupt\u001b[0m                         Traceback (most recent call last)",
            "Cell \u001b[1;32mIn[62], line 8\u001b[0m\n\u001b[0;32m      5\u001b[0m HG_ev1_evoke_rescaled\u001b[39m.\u001b[39mdata[np\u001b[39m.\u001b[39misnan(HG_ev1_evoke_rescaled\u001b[39m.\u001b[39mdata)] \u001b[39m=\u001b[39m \u001b[39m0\u001b[39m\n\u001b[0;32m      7\u001b[0m \u001b[39m# Now plot using MNE's plotting function\u001b[39;00m\n\u001b[1;32m----> 8\u001b[0m HG_ev1_evoke_rescaled\u001b[39m.\u001b[39;49mplot()\n\u001b[0;32m     10\u001b[0m \u001b[39m# fig = HG_ev1_evoke_rescaled.plot(unit=False, scalings=dict(sEEG=1))\u001b[39;00m\n\u001b[0;32m     12\u001b[0m \u001b[39mfor\u001b[39;00m ax \u001b[39min\u001b[39;00m fig\u001b[39m.\u001b[39maxes:\n",
            "File \u001b[1;32mc:\\Users\\jz421\\AppData\\Local\\anaconda3\\envs\\ieeg\\Lib\\site-packages\\mne\\evoked.py:461\u001b[0m, in \u001b[0;36mEvoked.plot\u001b[1;34m(self, picks, exclude, unit, show, ylim, xlim, proj, hline, units, scalings, titles, axes, gfp, window_title, spatial_colors, zorder, selectable, noise_cov, time_unit, sphere, highlight, verbose)\u001b[0m\n\u001b[0;32m    434\u001b[0m \u001b[39m@copy_function_doc_to_method_doc\u001b[39m(plot_evoked)\n\u001b[0;32m    435\u001b[0m \u001b[39mdef\u001b[39;00m \u001b[39mplot\u001b[39m(\n\u001b[0;32m    436\u001b[0m     \u001b[39mself\u001b[39m,\n\u001b[1;32m   (...)\u001b[0m\n\u001b[0;32m    459\u001b[0m     verbose\u001b[39m=\u001b[39m\u001b[39mNone\u001b[39;00m,\n\u001b[0;32m    460\u001b[0m ):\n\u001b[1;32m--> 461\u001b[0m     \u001b[39mreturn\u001b[39;00m plot_evoked(\n\u001b[0;32m    462\u001b[0m         \u001b[39mself\u001b[39;49m,\n\u001b[0;32m    463\u001b[0m         picks\u001b[39m=\u001b[39;49mpicks,\n\u001b[0;32m    464\u001b[0m         exclude\u001b[39m=\u001b[39;49mexclude,\n\u001b[0;32m    465\u001b[0m         unit\u001b[39m=\u001b[39;49munit,\n\u001b[0;32m    466\u001b[0m         show\u001b[39m=\u001b[39;49mshow,\n\u001b[0;32m    467\u001b[0m         ylim\u001b[39m=\u001b[39;49mylim,\n\u001b[0;32m    468\u001b[0m         proj\u001b[39m=\u001b[39;49mproj,\n\u001b[0;32m    469\u001b[0m         xlim\u001b[39m=\u001b[39;49mxlim,\n\u001b[0;32m    470\u001b[0m         hline\u001b[39m=\u001b[39;49mhline,\n\u001b[0;32m    471\u001b[0m         units\u001b[39m=\u001b[39;49munits,\n\u001b[0;32m    472\u001b[0m         scalings\u001b[39m=\u001b[39;49mscalings,\n\u001b[0;32m    473\u001b[0m         titles\u001b[39m=\u001b[39;49mtitles,\n\u001b[0;32m    474\u001b[0m         axes\u001b[39m=\u001b[39;49maxes,\n\u001b[0;32m    475\u001b[0m         gfp\u001b[39m=\u001b[39;49mgfp,\n\u001b[0;32m    476\u001b[0m         window_title\u001b[39m=\u001b[39;49mwindow_title,\n\u001b[0;32m    477\u001b[0m         spatial_colors\u001b[39m=\u001b[39;49mspatial_colors,\n\u001b[0;32m    478\u001b[0m         zorder\u001b[39m=\u001b[39;49mzorder,\n\u001b[0;32m    479\u001b[0m         selectable\u001b[39m=\u001b[39;49mselectable,\n\u001b[0;32m    480\u001b[0m         noise_cov\u001b[39m=\u001b[39;49mnoise_cov,\n\u001b[0;32m    481\u001b[0m         time_unit\u001b[39m=\u001b[39;49mtime_unit,\n\u001b[0;32m    482\u001b[0m         sphere\u001b[39m=\u001b[39;49msphere,\n\u001b[0;32m    483\u001b[0m         highlight\u001b[39m=\u001b[39;49mhighlight,\n\u001b[0;32m    484\u001b[0m         verbose\u001b[39m=\u001b[39;49mverbose,\n\u001b[0;32m    485\u001b[0m     )\n",
            "File \u001b[1;32m<decorator-gen-162>:12\u001b[0m, in \u001b[0;36mplot_evoked\u001b[1;34m(evoked, picks, exclude, unit, show, ylim, xlim, proj, hline, units, scalings, titles, axes, gfp, window_title, spatial_colors, zorder, selectable, noise_cov, time_unit, sphere, highlight, verbose)\u001b[0m\n",
            "File \u001b[1;32mc:\\Users\\jz421\\AppData\\Local\\anaconda3\\envs\\ieeg\\Lib\\site-packages\\mne\\viz\\evoked.py:1134\u001b[0m, in \u001b[0;36mplot_evoked\u001b[1;34m(evoked, picks, exclude, unit, show, ylim, xlim, proj, hline, units, scalings, titles, axes, gfp, window_title, spatial_colors, zorder, selectable, noise_cov, time_unit, sphere, highlight, verbose)\u001b[0m\n\u001b[0;32m    977\u001b[0m \u001b[39m@verbose\u001b[39m\n\u001b[0;32m    978\u001b[0m \u001b[39mdef\u001b[39;00m \u001b[39mplot_evoked\u001b[39m(\n\u001b[0;32m    979\u001b[0m     evoked,\n\u001b[1;32m   (...)\u001b[0m\n\u001b[0;32m   1002\u001b[0m     verbose\u001b[39m=\u001b[39m\u001b[39mNone\u001b[39;00m,\n\u001b[0;32m   1003\u001b[0m ):\n\u001b[0;32m   1004\u001b[0m \u001b[39m    \u001b[39m\u001b[39m\"\"\"Plot evoked data using butterfly plots.\u001b[39;00m\n\u001b[0;32m   1005\u001b[0m \n\u001b[0;32m   1006\u001b[0m \u001b[39m    Left click to a line shows the channel name. Selecting an area by clicking\u001b[39;00m\n\u001b[1;32m   (...)\u001b[0m\n\u001b[0;32m   1132\u001b[0m \u001b[39m    mne.viz.plot_evoked_white\u001b[39;00m\n\u001b[0;32m   1133\u001b[0m \u001b[39m    \"\"\"\u001b[39;00m  \u001b[39m# noqa: E501\u001b[39;00m\n\u001b[1;32m-> 1134\u001b[0m     \u001b[39mreturn\u001b[39;00m _plot_evoked(\n\u001b[0;32m   1135\u001b[0m         evoked\u001b[39m=\u001b[39;49mevoked,\n\u001b[0;32m   1136\u001b[0m         picks\u001b[39m=\u001b[39;49mpicks,\n\u001b[0;32m   1137\u001b[0m         exclude\u001b[39m=\u001b[39;49mexclude,\n\u001b[0;32m   1138\u001b[0m         unit\u001b[39m=\u001b[39;49munit,\n\u001b[0;32m   1139\u001b[0m         show\u001b[39m=\u001b[39;49mshow,\n\u001b[0;32m   1140\u001b[0m         ylim\u001b[39m=\u001b[39;49mylim,\n\u001b[0;32m   1141\u001b[0m         proj\u001b[39m=\u001b[39;49mproj,\n\u001b[0;32m   1142\u001b[0m         xlim\u001b[39m=\u001b[39;49mxlim,\n\u001b[0;32m   1143\u001b[0m         hline\u001b[39m=\u001b[39;49mhline,\n\u001b[0;32m   1144\u001b[0m         units\u001b[39m=\u001b[39;49munits,\n\u001b[0;32m   1145\u001b[0m         scalings\u001b[39m=\u001b[39;49mscalings,\n\u001b[0;32m   1146\u001b[0m         titles\u001b[39m=\u001b[39;49mtitles,\n\u001b[0;32m   1147\u001b[0m         axes\u001b[39m=\u001b[39;49maxes,\n\u001b[0;32m   1148\u001b[0m         plot_type\u001b[39m=\u001b[39;49m\u001b[39m\"\u001b[39;49m\u001b[39mbutterfly\u001b[39;49m\u001b[39m\"\u001b[39;49m,\n\u001b[0;32m   1149\u001b[0m         gfp\u001b[39m=\u001b[39;49mgfp,\n\u001b[0;32m   1150\u001b[0m         window_title\u001b[39m=\u001b[39;49mwindow_title,\n\u001b[0;32m   1151\u001b[0m         spatial_colors\u001b[39m=\u001b[39;49mspatial_colors,\n\u001b[0;32m   1152\u001b[0m         selectable\u001b[39m=\u001b[39;49mselectable,\n\u001b[0;32m   1153\u001b[0m         zorder\u001b[39m=\u001b[39;49mzorder,\n\u001b[0;32m   1154\u001b[0m         noise_cov\u001b[39m=\u001b[39;49mnoise_cov,\n\u001b[0;32m   1155\u001b[0m         time_unit\u001b[39m=\u001b[39;49mtime_unit,\n\u001b[0;32m   1156\u001b[0m         sphere\u001b[39m=\u001b[39;49msphere,\n\u001b[0;32m   1157\u001b[0m         highlight\u001b[39m=\u001b[39;49mhighlight,\n\u001b[0;32m   1158\u001b[0m     )\n",
            "File \u001b[1;32mc:\\Users\\jz421\\AppData\\Local\\anaconda3\\envs\\ieeg\\Lib\\site-packages\\mne\\viz\\evoked.py:578\u001b[0m, in \u001b[0;36m_plot_evoked\u001b[1;34m(evoked, picks, exclude, unit, show, ylim, proj, xlim, hline, units, scalings, titles, axes, plot_type, cmap, gfp, window_title, spatial_colors, selectable, zorder, noise_cov, colorbar, mask, mask_style, mask_cmap, mask_alpha, time_unit, show_names, group_by, sphere, highlight, draw)\u001b[0m\n\u001b[0;32m    576\u001b[0m \u001b[39mif\u001b[39;00m draw:\n\u001b[0;32m    577\u001b[0m     fig\u001b[39m.\u001b[39mcanvas\u001b[39m.\u001b[39mdraw()  \u001b[39m# for axes plots update axes.\u001b[39;00m\n\u001b[1;32m--> 578\u001b[0m plt_show(show)\n\u001b[0;32m    579\u001b[0m \u001b[39mreturn\u001b[39;00m fig\n",
            "File \u001b[1;32mc:\\Users\\jz421\\AppData\\Local\\anaconda3\\envs\\ieeg\\Lib\\site-packages\\mne\\viz\\utils.py:151\u001b[0m, in \u001b[0;36mplt_show\u001b[1;34m(show, fig, **kwargs)\u001b[0m\n\u001b[0;32m    149\u001b[0m     backend \u001b[39m=\u001b[39m get_backend()\n\u001b[0;32m    150\u001b[0m \u001b[39mif\u001b[39;00m show \u001b[39mand\u001b[39;00m backend \u001b[39m!=\u001b[39m \u001b[39m\"\u001b[39m\u001b[39magg\u001b[39m\u001b[39m\"\u001b[39m:\n\u001b[1;32m--> 151\u001b[0m     (fig \u001b[39mor\u001b[39;49;00m plt)\u001b[39m.\u001b[39;49mshow(\u001b[39m*\u001b[39;49m\u001b[39m*\u001b[39;49mkwargs)\n",
            "File \u001b[1;32mc:\\Users\\jz421\\AppData\\Local\\anaconda3\\envs\\ieeg\\Lib\\site-packages\\matplotlib\\pyplot.py:446\u001b[0m, in \u001b[0;36mshow\u001b[1;34m(*args, **kwargs)\u001b[0m\n\u001b[0;32m    402\u001b[0m \u001b[39m\u001b[39m\u001b[39m\"\"\"\u001b[39;00m\n\u001b[0;32m    403\u001b[0m \u001b[39mDisplay all open figures.\u001b[39;00m\n\u001b[0;32m    404\u001b[0m \n\u001b[1;32m   (...)\u001b[0m\n\u001b[0;32m    443\u001b[0m \u001b[39mexplicitly there.\u001b[39;00m\n\u001b[0;32m    444\u001b[0m \u001b[39m\"\"\"\u001b[39;00m\n\u001b[0;32m    445\u001b[0m _warn_if_gui_out_of_main_thread()\n\u001b[1;32m--> 446\u001b[0m \u001b[39mreturn\u001b[39;00m _get_backend_mod()\u001b[39m.\u001b[39;49mshow(\u001b[39m*\u001b[39;49margs, \u001b[39m*\u001b[39;49m\u001b[39m*\u001b[39;49mkwargs)\n",
            "File \u001b[1;32mc:\\Users\\jz421\\AppData\\Local\\anaconda3\\envs\\ieeg\\Lib\\site-packages\\matplotlib\\backend_bases.py:3620\u001b[0m, in \u001b[0;36m_Backend.show\u001b[1;34m(cls, block)\u001b[0m\n\u001b[0;32m   3618\u001b[0m     block \u001b[39m=\u001b[39m \u001b[39mnot\u001b[39;00m ipython_pylab \u001b[39mand\u001b[39;00m \u001b[39mnot\u001b[39;00m is_interactive()\n\u001b[0;32m   3619\u001b[0m \u001b[39mif\u001b[39;00m block:\n\u001b[1;32m-> 3620\u001b[0m     \u001b[39mcls\u001b[39;49m\u001b[39m.\u001b[39;49mmainloop()\n",
            "File \u001b[1;32mc:\\Users\\jz421\\AppData\\Local\\anaconda3\\envs\\ieeg\\Lib\\site-packages\\matplotlib\\backends\\backend_qt.py:604\u001b[0m, in \u001b[0;36mFigureManagerQT.start_main_loop\u001b[1;34m(cls)\u001b[0m\n\u001b[0;32m    602\u001b[0m qapp \u001b[39m=\u001b[39m QtWidgets\u001b[39m.\u001b[39mQApplication\u001b[39m.\u001b[39minstance()\n\u001b[0;32m    603\u001b[0m \u001b[39mif\u001b[39;00m qapp:\n\u001b[1;32m--> 604\u001b[0m     \u001b[39mwith\u001b[39;49;00m _maybe_allow_interrupt(qapp):\n\u001b[0;32m    605\u001b[0m         qt_compat\u001b[39m.\u001b[39;49m_exec(qapp)\n",
            "File \u001b[1;32mc:\\Users\\jz421\\AppData\\Local\\anaconda3\\envs\\ieeg\\Lib\\contextlib.py:144\u001b[0m, in \u001b[0;36m_GeneratorContextManager.__exit__\u001b[1;34m(self, typ, value, traceback)\u001b[0m\n\u001b[0;32m    142\u001b[0m \u001b[39mif\u001b[39;00m typ \u001b[39mis\u001b[39;00m \u001b[39mNone\u001b[39;00m:\n\u001b[0;32m    143\u001b[0m     \u001b[39mtry\u001b[39;00m:\n\u001b[1;32m--> 144\u001b[0m         \u001b[39mnext\u001b[39m(\u001b[39mself\u001b[39m\u001b[39m.\u001b[39mgen)\n\u001b[0;32m    145\u001b[0m     \u001b[39mexcept\u001b[39;00m \u001b[39mStopIteration\u001b[39;00m:\n\u001b[0;32m    146\u001b[0m         \u001b[39mreturn\u001b[39;00m \u001b[39mFalse\u001b[39;00m\n",
            "File \u001b[1;32mc:\\Users\\jz421\\AppData\\Local\\anaconda3\\envs\\ieeg\\Lib\\site-packages\\matplotlib\\backends\\qt_compat.py:245\u001b[0m, in \u001b[0;36m_maybe_allow_interrupt\u001b[1;34m(qapp)\u001b[0m\n\u001b[0;32m    243\u001b[0m signal\u001b[39m.\u001b[39msignal(signal\u001b[39m.\u001b[39mSIGINT, old_sigint_handler)\n\u001b[0;32m    244\u001b[0m \u001b[39mif\u001b[39;00m handler_args \u001b[39mis\u001b[39;00m \u001b[39mnot\u001b[39;00m \u001b[39mNone\u001b[39;00m:\n\u001b[1;32m--> 245\u001b[0m     old_sigint_handler(\u001b[39m*\u001b[39;49mhandler_args)\n",
            "\u001b[1;31mKeyboardInterrupt\u001b[0m: "
          ]
        }
      ],
      "source": [
        "# For stimulus event, plot average RT\n",
        "if event == \"Stimulus\":\n",
        "\n",
        "    # Mask NaN values (setting them to zero for this example)\n",
        "    HG_ev1_evoke_rescaled.data[np.isnan(HG_ev1_evoke_rescaled.data)] = 0\n",
        "\n",
        "    # Now plot using MNE's plotting function\n",
        "    HG_ev1_evoke_rescaled.plot()\n",
        "\n",
        "    # fig = HG_ev1_evoke_rescaled.plot(unit=False, scalings=dict(sEEG=1))\n",
        "\n",
        "    for ax in fig.axes:\n",
        "        ax.axvline(x=avg_RT, color='r', linestyle='--')\n",
        "    # fig.savefig(save_dir + '_HG_ev1_Stimulus_zscore.png')\n",
        "else:\n",
        "    fig = HG_ev1_evoke_rescaled.plot(unit=False, scalings=dict(sEEG=1))\n",
        "    fig.savefig(save_dir + f'_HG_ev1_{output_name}_zscore.png')"
      ]
    },
    {
      "cell_type": "code",
      "execution_count": 6,
      "metadata": {},
      "outputs": [
        {
          "ename": "IndexError",
          "evalue": "index 0 is out of bounds for axis 0 with size 0",
          "output_type": "error",
          "traceback": [
            "\u001b[1;31m---------------------------------------------------------------------------\u001b[0m",
            "\u001b[1;31mIndexError\u001b[0m                                Traceback (most recent call last)",
            "Cell \u001b[1;32mIn[6], line 1\u001b[0m\n\u001b[1;32m----> 1\u001b[0m HG_base\u001b[39m.\u001b[39;49mplot()\n",
            "File \u001b[1;32mc:\\Users\\jz421\\AppData\\Local\\anaconda3\\envs\\ieeg\\Lib\\site-packages\\mne\\epochs.py:1306\u001b[0m, in \u001b[0;36mBaseEpochs.plot\u001b[1;34m(self, picks, scalings, n_epochs, n_channels, title, events, event_color, order, show, block, decim, noise_cov, butterfly, show_scrollbars, show_scalebars, epoch_colors, event_id, group_by, precompute, use_opengl, theme, overview_mode)\u001b[0m\n\u001b[0;32m   1279\u001b[0m \u001b[39m@copy_function_doc_to_method_doc\u001b[39m(plot_epochs)\n\u001b[0;32m   1280\u001b[0m \u001b[39mdef\u001b[39;00m \u001b[39mplot\u001b[39m(\n\u001b[0;32m   1281\u001b[0m     \u001b[39mself\u001b[39m,\n\u001b[1;32m   (...)\u001b[0m\n\u001b[0;32m   1304\u001b[0m     overview_mode\u001b[39m=\u001b[39m\u001b[39mNone\u001b[39;00m,\n\u001b[0;32m   1305\u001b[0m ):\n\u001b[1;32m-> 1306\u001b[0m     \u001b[39mreturn\u001b[39;00m plot_epochs(\n\u001b[0;32m   1307\u001b[0m         \u001b[39mself\u001b[39;49m,\n\u001b[0;32m   1308\u001b[0m         picks\u001b[39m=\u001b[39;49mpicks,\n\u001b[0;32m   1309\u001b[0m         scalings\u001b[39m=\u001b[39;49mscalings,\n\u001b[0;32m   1310\u001b[0m         n_epochs\u001b[39m=\u001b[39;49mn_epochs,\n\u001b[0;32m   1311\u001b[0m         n_channels\u001b[39m=\u001b[39;49mn_channels,\n\u001b[0;32m   1312\u001b[0m         title\u001b[39m=\u001b[39;49mtitle,\n\u001b[0;32m   1313\u001b[0m         events\u001b[39m=\u001b[39;49mevents,\n\u001b[0;32m   1314\u001b[0m         event_color\u001b[39m=\u001b[39;49mevent_color,\n\u001b[0;32m   1315\u001b[0m         order\u001b[39m=\u001b[39;49morder,\n\u001b[0;32m   1316\u001b[0m         show\u001b[39m=\u001b[39;49mshow,\n\u001b[0;32m   1317\u001b[0m         block\u001b[39m=\u001b[39;49mblock,\n\u001b[0;32m   1318\u001b[0m         decim\u001b[39m=\u001b[39;49mdecim,\n\u001b[0;32m   1319\u001b[0m         noise_cov\u001b[39m=\u001b[39;49mnoise_cov,\n\u001b[0;32m   1320\u001b[0m         butterfly\u001b[39m=\u001b[39;49mbutterfly,\n\u001b[0;32m   1321\u001b[0m         show_scrollbars\u001b[39m=\u001b[39;49mshow_scrollbars,\n\u001b[0;32m   1322\u001b[0m         show_scalebars\u001b[39m=\u001b[39;49mshow_scalebars,\n\u001b[0;32m   1323\u001b[0m         epoch_colors\u001b[39m=\u001b[39;49mepoch_colors,\n\u001b[0;32m   1324\u001b[0m         event_id\u001b[39m=\u001b[39;49mevent_id,\n\u001b[0;32m   1325\u001b[0m         group_by\u001b[39m=\u001b[39;49mgroup_by,\n\u001b[0;32m   1326\u001b[0m         precompute\u001b[39m=\u001b[39;49mprecompute,\n\u001b[0;32m   1327\u001b[0m         use_opengl\u001b[39m=\u001b[39;49muse_opengl,\n\u001b[0;32m   1328\u001b[0m         theme\u001b[39m=\u001b[39;49mtheme,\n\u001b[0;32m   1329\u001b[0m         overview_mode\u001b[39m=\u001b[39;49moverview_mode,\n\u001b[0;32m   1330\u001b[0m     )\n",
            "File \u001b[1;32mc:\\Users\\jz421\\AppData\\Local\\anaconda3\\envs\\ieeg\\Lib\\site-packages\\mne\\viz\\epochs.py:1061\u001b[0m, in \u001b[0;36mplot_epochs\u001b[1;34m(epochs, picks, scalings, n_epochs, n_channels, title, events, event_color, order, show, block, decim, noise_cov, butterfly, show_scrollbars, show_scalebars, epoch_colors, event_id, group_by, precompute, use_opengl, theme, overview_mode)\u001b[0m\n\u001b[0;32m   1002\u001b[0m precompute \u001b[39m=\u001b[39m _handle_precompute(precompute)\n\u001b[0;32m   1003\u001b[0m params \u001b[39m=\u001b[39m \u001b[39mdict\u001b[39m(\n\u001b[0;32m   1004\u001b[0m     inst\u001b[39m=\u001b[39mepochs,\n\u001b[0;32m   1005\u001b[0m     info\u001b[39m=\u001b[39minfo,\n\u001b[1;32m   (...)\u001b[0m\n\u001b[0;32m   1058\u001b[0m     overview_mode\u001b[39m=\u001b[39moverview_mode,\n\u001b[0;32m   1059\u001b[0m )\n\u001b[1;32m-> 1061\u001b[0m fig \u001b[39m=\u001b[39m _get_browser(show\u001b[39m=\u001b[39;49mshow, block\u001b[39m=\u001b[39;49mblock, \u001b[39m*\u001b[39;49m\u001b[39m*\u001b[39;49mparams)\n\u001b[0;32m   1063\u001b[0m \u001b[39mreturn\u001b[39;00m fig\n",
            "File \u001b[1;32mc:\\Users\\jz421\\AppData\\Local\\anaconda3\\envs\\ieeg\\Lib\\site-packages\\mne\\viz\\_figure.py:698\u001b[0m, in \u001b[0;36m_get_browser\u001b[1;34m(show, block, **kwargs)\u001b[0m\n\u001b[0;32m    695\u001b[0m             \u001b[39mreturn\u001b[39;00m fig\n\u001b[0;32m    697\u001b[0m \u001b[39m# Initialize Browser\u001b[39;00m\n\u001b[1;32m--> 698\u001b[0m fig \u001b[39m=\u001b[39m backend\u001b[39m.\u001b[39;49m_init_browser(\u001b[39m*\u001b[39;49m\u001b[39m*\u001b[39;49mkwargs)\n\u001b[0;32m    699\u001b[0m _show_browser(show\u001b[39m=\u001b[39mshow, block\u001b[39m=\u001b[39mblock, fig\u001b[39m=\u001b[39mfig)\n\u001b[0;32m    701\u001b[0m \u001b[39mreturn\u001b[39;00m fig\n",
            "File \u001b[1;32mc:\\Users\\jz421\\AppData\\Local\\anaconda3\\envs\\ieeg\\Lib\\site-packages\\mne_qt_browser\\_pg_figure.py:4815\u001b[0m, in \u001b[0;36m_init_browser\u001b[1;34m(**kwargs)\u001b[0m\n\u001b[0;32m   4813\u001b[0m \u001b[39mif\u001b[39;00m \u001b[39m'\u001b[39m\u001b[39msplash\u001b[39m\u001b[39m'\u001b[39m \u001b[39min\u001b[39;00m app_kwargs:\n\u001b[0;32m   4814\u001b[0m     kwargs[\u001b[39m'\u001b[39m\u001b[39msplash\u001b[39m\u001b[39m'\u001b[39m] \u001b[39m=\u001b[39m out[\u001b[39m1\u001b[39m]  \u001b[39m# returned as second element\u001b[39;00m\n\u001b[1;32m-> 4815\u001b[0m browser \u001b[39m=\u001b[39m MNEQtBrowser(\u001b[39m*\u001b[39;49m\u001b[39m*\u001b[39;49mkwargs)\n\u001b[0;32m   4817\u001b[0m \u001b[39mreturn\u001b[39;00m browser\n",
            "File \u001b[1;32mc:\\Users\\jz421\\AppData\\Local\\anaconda3\\envs\\ieeg\\Lib\\site-packages\\mne_qt_browser\\_pg_figure.py:163\u001b[0m, in \u001b[0;36m_safe_splash.<locals>.func\u001b[1;34m(self, *args, **kwargs)\u001b[0m\n\u001b[0;32m    160\u001b[0m \u001b[39m@functools\u001b[39m\u001b[39m.\u001b[39mwraps(meth)\n\u001b[0;32m    161\u001b[0m \u001b[39mdef\u001b[39;00m \u001b[39mfunc\u001b[39m(\u001b[39mself\u001b[39m, \u001b[39m*\u001b[39margs, \u001b[39m*\u001b[39m\u001b[39m*\u001b[39mkwargs):\n\u001b[0;32m    162\u001b[0m     \u001b[39mtry\u001b[39;00m:\n\u001b[1;32m--> 163\u001b[0m         meth(\u001b[39mself\u001b[39;49m, \u001b[39m*\u001b[39;49margs, \u001b[39m*\u001b[39;49m\u001b[39m*\u001b[39;49mkwargs)\n\u001b[0;32m    164\u001b[0m     \u001b[39mfinally\u001b[39;00m:\n\u001b[0;32m    165\u001b[0m         \u001b[39mtry\u001b[39;00m:\n",
            "File \u001b[1;32mc:\\Users\\jz421\\AppData\\Local\\anaconda3\\envs\\ieeg\\Lib\\site-packages\\mne_qt_browser\\_pg_figure.py:2847\u001b[0m, in \u001b[0;36mMNEQtBrowser.__init__\u001b[1;34m(self, **kwargs)\u001b[0m\n\u001b[0;32m   2842\u001b[0m \u001b[39mself\u001b[39m\u001b[39m.\u001b[39mmne\u001b[39m.\u001b[39mbutterfly_type_order \u001b[39m=\u001b[39m [tp \u001b[39mfor\u001b[39;00m tp \u001b[39min\u001b[39;00m\n\u001b[0;32m   2843\u001b[0m                                  DATA_CH_TYPES_ORDER\n\u001b[0;32m   2844\u001b[0m                                  \u001b[39mif\u001b[39;00m tp \u001b[39min\u001b[39;00m \u001b[39mself\u001b[39m\u001b[39m.\u001b[39mmne\u001b[39m.\u001b[39mch_types]\n\u001b[0;32m   2845\u001b[0m \u001b[39mif\u001b[39;00m \u001b[39mself\u001b[39m\u001b[39m.\u001b[39mmne\u001b[39m.\u001b[39mis_epochs:\n\u001b[0;32m   2846\u001b[0m     \u001b[39m# Stores parameters for epochs\u001b[39;00m\n\u001b[1;32m-> 2847\u001b[0m     \u001b[39mself\u001b[39m\u001b[39m.\u001b[39mmne\u001b[39m.\u001b[39mepoch_dur \u001b[39m=\u001b[39m np\u001b[39m.\u001b[39;49mdiff(\u001b[39mself\u001b[39;49m\u001b[39m.\u001b[39;49mmne\u001b[39m.\u001b[39;49mboundary_times[:\u001b[39m2\u001b[39;49m])[\u001b[39m0\u001b[39;49m]\n\u001b[0;32m   2848\u001b[0m     epoch_idx \u001b[39m=\u001b[39m np\u001b[39m.\u001b[39msearchsorted(\u001b[39mself\u001b[39m\u001b[39m.\u001b[39mmne\u001b[39m.\u001b[39mmidpoints,\n\u001b[0;32m   2849\u001b[0m                                 (\u001b[39mself\u001b[39m\u001b[39m.\u001b[39mmne\u001b[39m.\u001b[39mt_start,\n\u001b[0;32m   2850\u001b[0m                                  \u001b[39mself\u001b[39m\u001b[39m.\u001b[39mmne\u001b[39m.\u001b[39mt_start \u001b[39m+\u001b[39m \u001b[39mself\u001b[39m\u001b[39m.\u001b[39mmne\u001b[39m.\u001b[39mduration))\n\u001b[0;32m   2851\u001b[0m     \u001b[39mself\u001b[39m\u001b[39m.\u001b[39mmne\u001b[39m.\u001b[39mepoch_idx \u001b[39m=\u001b[39m np\u001b[39m.\u001b[39marange(epoch_idx[\u001b[39m0\u001b[39m], epoch_idx[\u001b[39m1\u001b[39m])\n",
            "\u001b[1;31mIndexError\u001b[0m: index 0 is out of bounds for axis 0 with size 0"
          ]
        }
      ],
      "source": [
        "HG_base.plot()"
      ]
    },
    {
      "cell_type": "code",
      "execution_count": null,
      "metadata": {},
      "outputs": [],
      "source": [
        "test = plot_HG_and_stats(sub='D0057', task=\"GlobalLocal\", output_name=\"stimulus_RMMF1-5_experimentStartBase10SECONDTEST\", event=\"Stimulus\", times=(-1, 1.5), base_times=(0,10), channels=[\"RMMF1\", \"RMMF2\", \"RMMF3\", \"RMMF4\", \"RMMF5\"])"
      ]
    },
    {
      "cell_type": "code",
      "execution_count": 25,
      "metadata": {},
      "outputs": [
        {
          "data": {
            "text/plain": [
              "[OrderedDict([('onset', 0.0),\n",
              "              ('duration', 0.0),\n",
              "              ('description', 'experimentStart'),\n",
              "              ('orig_time',\n",
              "               datetime.datetime(2023, 7, 3, 12, 31, 29, tzinfo=datetime.timezone.utc))]),\n",
              " OrderedDict([('onset', 1772.0),\n",
              "              ('duration', 0.0),\n",
              "              ('description', 'experimentStart'),\n",
              "              ('orig_time',\n",
              "               datetime.datetime(2023, 7, 3, 12, 31, 29, tzinfo=datetime.timezone.utc))])]"
            ]
          },
          "execution_count": 25,
          "metadata": {},
          "output_type": "execute_result"
        }
      ],
      "source": [
        "[a for a in filt.annotations if a['description'] == 'experimentStart']"
      ]
    },
    {
      "cell_type": "code",
      "execution_count": 20,
      "metadata": {},
      "outputs": [
        {
          "name": "stdout",
          "output_type": "stream",
          "text": [
            "Extracting EDF parameters from C:\\Users\\jz421\\Box\\CoganLab\\BIDS-1.1_GlobalLocal\\BIDS\\derivatives\\clean\\sub-D0057\\ieeg\\sub-D0057_task-GlobalLocal_acq-01_run-01_desc-clean_ieeg.edf...\n",
            "EDF file detected\n",
            "Setting channel info structure...\n",
            "Creating raw.info structure...\n",
            "Reading events from C:\\Users\\jz421\\Box\\CoganLab\\BIDS-1.1_GlobalLocal\\BIDS\\derivatives\\clean\\sub-D0057\\ieeg\\sub-D0057_task-GlobalLocal_acq-01_run-01_desc-clean_events.tsv.\n",
            "Reading channel info from C:\\Users\\jz421\\Box\\CoganLab\\BIDS-1.1_GlobalLocal\\BIDS\\derivatives\\clean\\sub-D0057\\ieeg\\sub-D0057_task-GlobalLocal_acq-01_run-01_desc-clean_channels.tsv.\n",
            "Reading electrode coords from C:\\Users\\jz421\\Box\\CoganLab\\BIDS-1.1_GlobalLocal\\BIDS\\derivatives\\clean\\sub-D0057\\ieeg\\sub-D0057_acq-01_space-ACPC_electrodes.tsv.\n",
            "Extracting EDF parameters from C:\\Users\\jz421\\Box\\CoganLab\\BIDS-1.1_GlobalLocal\\BIDS\\derivatives\\clean\\sub-D0057\\ieeg\\sub-D0057_task-GlobalLocal_acq-01_run-02_desc-clean_ieeg.edf...\n",
            "EDF file detected\n",
            "Setting channel info structure...\n",
            "Creating raw.info structure...\n"
          ]
        },
        {
          "name": "stderr",
          "output_type": "stream",
          "text": [
            "C:\\Users\\jz421\\Desktop\\GlobalLocal\\IEEG_Pipelines\\ieeg\\io.py:113: RuntimeWarning: The number of channels in the channels.tsv sidecar file (179) does not match the number of channels in the raw data file (178). Will not try to set channel names.\n",
            "  new_raw = read_raw_bids(bids_path=BIDS_path, verbose=verbose)\n",
            "C:\\Users\\jz421\\Desktop\\GlobalLocal\\IEEG_Pipelines\\ieeg\\io.py:113: RuntimeWarning: Cannot set channel type for the following channels, as they are missing in the raw data: Trigger\n",
            "  new_raw = read_raw_bids(bids_path=BIDS_path, verbose=verbose)\n"
          ]
        },
        {
          "name": "stdout",
          "output_type": "stream",
          "text": [
            "Reading events from C:\\Users\\jz421\\Box\\CoganLab\\BIDS-1.1_GlobalLocal\\BIDS\\derivatives\\clean\\sub-D0057\\ieeg\\sub-D0057_task-GlobalLocal_acq-01_run-02_desc-clean_events.tsv.\n",
            "Reading channel info from C:\\Users\\jz421\\Box\\CoganLab\\BIDS-1.1_GlobalLocal\\BIDS\\derivatives\\clean\\sub-D0057\\ieeg\\sub-D0057_task-GlobalLocal_acq-01_run-02_desc-clean_channels.tsv.\n",
            "Reading electrode coords from C:\\Users\\jz421\\Box\\CoganLab\\BIDS-1.1_GlobalLocal\\BIDS\\derivatives\\clean\\sub-D0057\\ieeg\\sub-D0057_acq-01_space-ACPC_electrodes.tsv.\n",
            "Extracting EDF parameters from C:\\Users\\jz421\\Box\\CoganLab\\BIDS-1.1_GlobalLocal\\BIDS\\derivatives\\clean\\sub-D0057\\ieeg\\sub-D0057_task-GlobalLocal_acq-01_run-03_desc-clean_ieeg.edf...\n",
            "EDF file detected\n",
            "Setting channel info structure...\n",
            "Creating raw.info structure...\n"
          ]
        },
        {
          "name": "stderr",
          "output_type": "stream",
          "text": [
            "C:\\Users\\jz421\\Desktop\\GlobalLocal\\IEEG_Pipelines\\ieeg\\io.py:113: RuntimeWarning: Omitted 228 annotation(s) that were outside data range.\n",
            "  new_raw = read_raw_bids(bids_path=BIDS_path, verbose=verbose)\n",
            "C:\\Users\\jz421\\Desktop\\GlobalLocal\\IEEG_Pipelines\\ieeg\\io.py:113: RuntimeWarning: The number of channels in the channels.tsv sidecar file (179) does not match the number of channels in the raw data file (178). Will not try to set channel names.\n",
            "  new_raw = read_raw_bids(bids_path=BIDS_path, verbose=verbose)\n",
            "C:\\Users\\jz421\\Desktop\\GlobalLocal\\IEEG_Pipelines\\ieeg\\io.py:113: RuntimeWarning: Cannot set channel type for the following channels, as they are missing in the raw data: Trigger\n",
            "  new_raw = read_raw_bids(bids_path=BIDS_path, verbose=verbose)\n"
          ]
        },
        {
          "name": "stdout",
          "output_type": "stream",
          "text": [
            "Reading events from C:\\Users\\jz421\\Box\\CoganLab\\BIDS-1.1_GlobalLocal\\BIDS\\derivatives\\clean\\sub-D0057\\ieeg\\sub-D0057_task-GlobalLocal_acq-01_run-03_desc-clean_events.tsv.\n",
            "Reading channel info from C:\\Users\\jz421\\Box\\CoganLab\\BIDS-1.1_GlobalLocal\\BIDS\\derivatives\\clean\\sub-D0057\\ieeg\\sub-D0057_task-GlobalLocal_acq-01_run-03_desc-clean_channels.tsv.\n",
            "Reading electrode coords from C:\\Users\\jz421\\Box\\CoganLab\\BIDS-1.1_GlobalLocal\\BIDS\\derivatives\\clean\\sub-D0057\\ieeg\\sub-D0057_acq-01_space-ACPC_electrodes.tsv.\n",
            "Extracting EDF parameters from C:\\Users\\jz421\\Box\\CoganLab\\BIDS-1.1_GlobalLocal\\BIDS\\derivatives\\clean\\sub-D0057\\ieeg\\sub-D0057_task-GlobalLocal_acq-01_run-04_desc-clean_ieeg.edf...\n",
            "EDF file detected\n",
            "Setting channel info structure...\n",
            "Creating raw.info structure...\n"
          ]
        },
        {
          "name": "stderr",
          "output_type": "stream",
          "text": [
            "C:\\Users\\jz421\\Desktop\\GlobalLocal\\IEEG_Pipelines\\ieeg\\io.py:113: RuntimeWarning: Omitted 228 annotation(s) that were outside data range.\n",
            "  new_raw = read_raw_bids(bids_path=BIDS_path, verbose=verbose)\n",
            "C:\\Users\\jz421\\Desktop\\GlobalLocal\\IEEG_Pipelines\\ieeg\\io.py:113: RuntimeWarning: The number of channels in the channels.tsv sidecar file (179) does not match the number of channels in the raw data file (178). Will not try to set channel names.\n",
            "  new_raw = read_raw_bids(bids_path=BIDS_path, verbose=verbose)\n",
            "C:\\Users\\jz421\\Desktop\\GlobalLocal\\IEEG_Pipelines\\ieeg\\io.py:113: RuntimeWarning: Cannot set channel type for the following channels, as they are missing in the raw data: Trigger\n",
            "  new_raw = read_raw_bids(bids_path=BIDS_path, verbose=verbose)\n"
          ]
        },
        {
          "name": "stdout",
          "output_type": "stream",
          "text": [
            "Reading events from C:\\Users\\jz421\\Box\\CoganLab\\BIDS-1.1_GlobalLocal\\BIDS\\derivatives\\clean\\sub-D0057\\ieeg\\sub-D0057_task-GlobalLocal_acq-01_run-04_desc-clean_events.tsv.\n",
            "Reading channel info from C:\\Users\\jz421\\Box\\CoganLab\\BIDS-1.1_GlobalLocal\\BIDS\\derivatives\\clean\\sub-D0057\\ieeg\\sub-D0057_task-GlobalLocal_acq-01_run-04_desc-clean_channels.tsv.\n",
            "Reading electrode coords from C:\\Users\\jz421\\Box\\CoganLab\\BIDS-1.1_GlobalLocal\\BIDS\\derivatives\\clean\\sub-D0057\\ieeg\\sub-D0057_acq-01_space-ACPC_electrodes.tsv.\n",
            "Reading 0 ... 8243199  =      0.000 ...  4025.000 secs...\n"
          ]
        },
        {
          "name": "stderr",
          "output_type": "stream",
          "text": [
            "C:\\Users\\jz421\\Desktop\\GlobalLocal\\IEEG_Pipelines\\ieeg\\io.py:113: RuntimeWarning: Omitted 226 annotation(s) that were outside data range.\n",
            "  new_raw = read_raw_bids(bids_path=BIDS_path, verbose=verbose)\n",
            "C:\\Users\\jz421\\Desktop\\GlobalLocal\\IEEG_Pipelines\\ieeg\\io.py:113: RuntimeWarning: The number of channels in the channels.tsv sidecar file (179) does not match the number of channels in the raw data file (178). Will not try to set channel names.\n",
            "  new_raw = read_raw_bids(bids_path=BIDS_path, verbose=verbose)\n",
            "C:\\Users\\jz421\\Desktop\\GlobalLocal\\IEEG_Pipelines\\ieeg\\io.py:113: RuntimeWarning: Cannot set channel type for the following channels, as they are missing in the raw data: Trigger\n",
            "  new_raw = read_raw_bids(bids_path=BIDS_path, verbose=verbose)\n"
          ]
        },
        {
          "name": "stdout",
          "output_type": "stream",
          "text": [
            "Used Annotations descriptions: ['Response/c25/n25', 'Response/c25/r25', 'Response/c25/r75', 'Response/c25/s25', 'Response/c25/s75', 'Response/c75/r25', 'Response/c75/r75', 'Response/c75/s25', 'Response/c75/s75', 'Response/i25/r25', 'Response/i25/r75', 'Response/i25/s25', 'Response/i25/s75', 'Response/i75/n25', 'Response/i75/n75', 'Response/i75/r25', 'Response/i75/r75', 'Response/i75/s25', 'Response/i75/s75', 'Stimulus/c25/n25', 'Stimulus/c25/r25', 'Stimulus/c25/r75', 'Stimulus/c25/s25', 'Stimulus/c25/s75', 'Stimulus/c75/r25', 'Stimulus/c75/r75', 'Stimulus/c75/s25', 'Stimulus/c75/s75', 'Stimulus/i25/n75', 'Stimulus/i25/r25', 'Stimulus/i25/r75', 'Stimulus/i25/s25', 'Stimulus/i25/s75', 'Stimulus/i75/n25', 'Stimulus/i75/n75', 'Stimulus/i75/r25', 'Stimulus/i75/r75', 'Stimulus/i75/s25', 'Stimulus/i75/s75', 'experimentStart']\n",
            "Not setting metadata\n",
            "2 matching events found\n",
            "No baseline correction applied\n",
            "0 projection items activated\n",
            "Using data from preloaded Raw for 2 events and 206849 original time points ...\n",
            "0 bad epochs dropped\n"
          ]
        },
        {
          "data": {
            "text/html": [
              "<table class=\"table table-hover table-striped table-sm table-responsive small\">\n",
              "    <tr>\n",
              "        <th>Number of events</th>\n",
              "        <td>2</td>\n",
              "    </tr>\n",
              "    <tr>\n",
              "        <th>Events</th>\n",
              "        \n",
              "        <td>experimentStart: 2</td>\n",
              "        \n",
              "    </tr>\n",
              "    <tr>\n",
              "        <th>Time range</th>\n",
              "        <td>0.000 – 101.000 s</td>\n",
              "    </tr>\n",
              "    <tr>\n",
              "        <th>Baseline</th>\n",
              "        <td>off</td>\n",
              "    </tr>\n",
              "</table>"
            ],
            "text/plain": [
              "<Epochs |  2 events (all good), 0 – 101 s, baseline off, ~562.0 MB, data loaded,\n",
              " 'experimentStart': 2>"
            ]
          },
          "execution_count": 20,
          "metadata": {},
          "output_type": "execute_result"
        }
      ],
      "source": [
        "HOME = os.path.expanduser(\"~\")\n",
        "LAB_root = os.path.join(HOME, \"Box\", \"CoganLab\")\n",
        "\n",
        "layout = get_data('GlobalLocal', root=LAB_root)\n",
        "filt = raw_from_layout(layout.derivatives['derivatives/clean'], subject='D0057', extension='.edf', desc='clean', preload=True)\n",
        "trial_ieeg(filt, \"experimentStart\", (0, 101), preload=True)\n"
      ]
    },
    {
      "cell_type": "code",
      "execution_count": null,
      "metadata": {},
      "outputs": [],
      "source": [
        "plot_HG_and_stats(sub='D0065', task=\"GlobalLocal\", output_name=\"incongruent\", event=\"/i\", times=(-1, 1.5))"
      ]
    },
    {
      "cell_type": "code",
      "execution_count": null,
      "metadata": {},
      "outputs": [],
      "source": [
        "plot_HG_and_stats(sub='D0065', task=\"GlobalLocal\", output_name=\"switch\", event=\"/s\", times=(-1, 1.5))"
      ]
    },
    {
      "cell_type": "code",
      "execution_count": null,
      "metadata": {},
      "outputs": [],
      "source": [
        "plot_HG_and_stats(sub='D0065', task=\"GlobalLocal\", output_name=\"repeat\", event=\"/r\", times=(-1, 1.5))"
      ]
    },
    {
      "cell_type": "markdown",
      "metadata": {},
      "source": [
        "# clean up this damn notebook soon 9/10\n",
        "\n",
        "### trying to make the pre-experiment baseline of five minutes right after recording starts"
      ]
    },
    {
      "cell_type": "code",
      "execution_count": 19,
      "metadata": {},
      "outputs": [
        {
          "name": "stdout",
          "output_type": "stream",
          "text": [
            "Extracting EDF parameters from C:\\Users\\jz421\\Box\\CoganLab\\BIDS-1.1_GlobalLocal\\BIDS\\derivatives\\clean\\sub-D0057\\ieeg\\sub-D0057_task-GlobalLocal_acq-01_run-01_desc-clean_ieeg.edf...\n",
            "EDF file detected\n",
            "Setting channel info structure...\n",
            "Creating raw.info structure...\n",
            "Reading events from C:\\Users\\jz421\\Box\\CoganLab\\BIDS-1.1_GlobalLocal\\BIDS\\derivatives\\clean\\sub-D0057\\ieeg\\sub-D0057_task-GlobalLocal_acq-01_run-01_desc-clean_events.tsv.\n",
            "Reading channel info from C:\\Users\\jz421\\Box\\CoganLab\\BIDS-1.1_GlobalLocal\\BIDS\\derivatives\\clean\\sub-D0057\\ieeg\\sub-D0057_task-GlobalLocal_acq-01_run-01_desc-clean_channels.tsv.\n",
            "Reading electrode coords from C:\\Users\\jz421\\Box\\CoganLab\\BIDS-1.1_GlobalLocal\\BIDS\\derivatives\\clean\\sub-D0057\\ieeg\\sub-D0057_acq-01_space-ACPC_electrodes.tsv.\n",
            "Extracting EDF parameters from C:\\Users\\jz421\\Box\\CoganLab\\BIDS-1.1_GlobalLocal\\BIDS\\derivatives\\clean\\sub-D0057\\ieeg\\sub-D0057_task-GlobalLocal_acq-01_run-02_desc-clean_ieeg.edf...\n",
            "EDF file detected\n",
            "Setting channel info structure...\n",
            "Creating raw.info structure...\n"
          ]
        },
        {
          "name": "stderr",
          "output_type": "stream",
          "text": [
            "C:\\Users/jz421/Desktop/GlobalLocal/IEEG_Pipelines\\ieeg\\io.py:113: RuntimeWarning: The number of channels in the channels.tsv sidecar file (179) does not match the number of channels in the raw data file (178). Will not try to set channel names.\n",
            "  new_raw = read_raw_bids(bids_path=BIDS_path, verbose=verbose)\n",
            "C:\\Users/jz421/Desktop/GlobalLocal/IEEG_Pipelines\\ieeg\\io.py:113: RuntimeWarning: Cannot set channel type for the following channels, as they are missing in the raw data: Trigger\n",
            "  new_raw = read_raw_bids(bids_path=BIDS_path, verbose=verbose)\n"
          ]
        },
        {
          "name": "stdout",
          "output_type": "stream",
          "text": [
            "Reading events from C:\\Users\\jz421\\Box\\CoganLab\\BIDS-1.1_GlobalLocal\\BIDS\\derivatives\\clean\\sub-D0057\\ieeg\\sub-D0057_task-GlobalLocal_acq-01_run-02_desc-clean_events.tsv.\n",
            "Reading channel info from C:\\Users\\jz421\\Box\\CoganLab\\BIDS-1.1_GlobalLocal\\BIDS\\derivatives\\clean\\sub-D0057\\ieeg\\sub-D0057_task-GlobalLocal_acq-01_run-02_desc-clean_channels.tsv.\n",
            "Reading electrode coords from C:\\Users\\jz421\\Box\\CoganLab\\BIDS-1.1_GlobalLocal\\BIDS\\derivatives\\clean\\sub-D0057\\ieeg\\sub-D0057_acq-01_space-ACPC_electrodes.tsv.\n",
            "Extracting EDF parameters from C:\\Users\\jz421\\Box\\CoganLab\\BIDS-1.1_GlobalLocal\\BIDS\\derivatives\\clean\\sub-D0057\\ieeg\\sub-D0057_task-GlobalLocal_acq-01_run-03_desc-clean_ieeg.edf...\n",
            "EDF file detected\n",
            "Setting channel info structure...\n",
            "Creating raw.info structure...\n"
          ]
        },
        {
          "name": "stderr",
          "output_type": "stream",
          "text": [
            "C:\\Users/jz421/Desktop/GlobalLocal/IEEG_Pipelines\\ieeg\\io.py:113: RuntimeWarning: Omitted 228 annotation(s) that were outside data range.\n",
            "  new_raw = read_raw_bids(bids_path=BIDS_path, verbose=verbose)\n",
            "C:\\Users/jz421/Desktop/GlobalLocal/IEEG_Pipelines\\ieeg\\io.py:113: RuntimeWarning: The number of channels in the channels.tsv sidecar file (179) does not match the number of channels in the raw data file (178). Will not try to set channel names.\n",
            "  new_raw = read_raw_bids(bids_path=BIDS_path, verbose=verbose)\n",
            "C:\\Users/jz421/Desktop/GlobalLocal/IEEG_Pipelines\\ieeg\\io.py:113: RuntimeWarning: Cannot set channel type for the following channels, as they are missing in the raw data: Trigger\n",
            "  new_raw = read_raw_bids(bids_path=BIDS_path, verbose=verbose)\n"
          ]
        },
        {
          "name": "stdout",
          "output_type": "stream",
          "text": [
            "Reading events from C:\\Users\\jz421\\Box\\CoganLab\\BIDS-1.1_GlobalLocal\\BIDS\\derivatives\\clean\\sub-D0057\\ieeg\\sub-D0057_task-GlobalLocal_acq-01_run-03_desc-clean_events.tsv.\n",
            "Reading channel info from C:\\Users\\jz421\\Box\\CoganLab\\BIDS-1.1_GlobalLocal\\BIDS\\derivatives\\clean\\sub-D0057\\ieeg\\sub-D0057_task-GlobalLocal_acq-01_run-03_desc-clean_channels.tsv.\n",
            "Reading electrode coords from C:\\Users\\jz421\\Box\\CoganLab\\BIDS-1.1_GlobalLocal\\BIDS\\derivatives\\clean\\sub-D0057\\ieeg\\sub-D0057_acq-01_space-ACPC_electrodes.tsv.\n",
            "Extracting EDF parameters from C:\\Users\\jz421\\Box\\CoganLab\\BIDS-1.1_GlobalLocal\\BIDS\\derivatives\\clean\\sub-D0057\\ieeg\\sub-D0057_task-GlobalLocal_acq-01_run-04_desc-clean_ieeg.edf...\n",
            "EDF file detected\n",
            "Setting channel info structure...\n",
            "Creating raw.info structure...\n"
          ]
        },
        {
          "name": "stderr",
          "output_type": "stream",
          "text": [
            "C:\\Users/jz421/Desktop/GlobalLocal/IEEG_Pipelines\\ieeg\\io.py:113: RuntimeWarning: Omitted 228 annotation(s) that were outside data range.\n",
            "  new_raw = read_raw_bids(bids_path=BIDS_path, verbose=verbose)\n",
            "C:\\Users/jz421/Desktop/GlobalLocal/IEEG_Pipelines\\ieeg\\io.py:113: RuntimeWarning: The number of channels in the channels.tsv sidecar file (179) does not match the number of channels in the raw data file (178). Will not try to set channel names.\n",
            "  new_raw = read_raw_bids(bids_path=BIDS_path, verbose=verbose)\n",
            "C:\\Users/jz421/Desktop/GlobalLocal/IEEG_Pipelines\\ieeg\\io.py:113: RuntimeWarning: Cannot set channel type for the following channels, as they are missing in the raw data: Trigger\n",
            "  new_raw = read_raw_bids(bids_path=BIDS_path, verbose=verbose)\n"
          ]
        },
        {
          "name": "stdout",
          "output_type": "stream",
          "text": [
            "Reading events from C:\\Users\\jz421\\Box\\CoganLab\\BIDS-1.1_GlobalLocal\\BIDS\\derivatives\\clean\\sub-D0057\\ieeg\\sub-D0057_task-GlobalLocal_acq-01_run-04_desc-clean_events.tsv.\n",
            "Reading channel info from C:\\Users\\jz421\\Box\\CoganLab\\BIDS-1.1_GlobalLocal\\BIDS\\derivatives\\clean\\sub-D0057\\ieeg\\sub-D0057_task-GlobalLocal_acq-01_run-04_desc-clean_channels.tsv.\n",
            "Reading electrode coords from C:\\Users\\jz421\\Box\\CoganLab\\BIDS-1.1_GlobalLocal\\BIDS\\derivatives\\clean\\sub-D0057\\ieeg\\sub-D0057_acq-01_space-ACPC_electrodes.tsv.\n"
          ]
        },
        {
          "name": "stderr",
          "output_type": "stream",
          "text": [
            "C:\\Users/jz421/Desktop/GlobalLocal/IEEG_Pipelines\\ieeg\\io.py:113: RuntimeWarning: Omitted 226 annotation(s) that were outside data range.\n",
            "  new_raw = read_raw_bids(bids_path=BIDS_path, verbose=verbose)\n",
            "C:\\Users/jz421/Desktop/GlobalLocal/IEEG_Pipelines\\ieeg\\io.py:113: RuntimeWarning: The number of channels in the channels.tsv sidecar file (179) does not match the number of channels in the raw data file (178). Will not try to set channel names.\n",
            "  new_raw = read_raw_bids(bids_path=BIDS_path, verbose=verbose)\n",
            "C:\\Users/jz421/Desktop/GlobalLocal/IEEG_Pipelines\\ieeg\\io.py:113: RuntimeWarning: Cannot set channel type for the following channels, as they are missing in the raw data: Trigger\n",
            "  new_raw = read_raw_bids(bids_path=BIDS_path, verbose=verbose)\n"
          ]
        },
        {
          "name": "stdout",
          "output_type": "stream",
          "text": [
            "outlier round 1 channels: ['RAMT8']\n",
            "outlier round 2 channels: ['RAMT8', 'RPI16']\n",
            "outlier round 2 channels: ['RAMT8', 'RPI16', 'LAMT12']\n",
            "Reading 0 ... 6024958  =      0.000 ...  2941.874 secs...\n",
            "Applying average reference.\n",
            "Applying a custom ('sEEG',) reference.\n",
            "Used Annotations descriptions: ['Response/c25/n25', 'Response/c25/r25', 'Response/c25/r75', 'Response/c25/s25', 'Response/c25/s75', 'Response/c75/r25', 'Response/c75/r75', 'Response/c75/s25', 'Response/c75/s75', 'Response/i25/r25', 'Response/i25/r75', 'Response/i25/s25', 'Response/i25/s75', 'Response/i75/n25', 'Response/i75/n75', 'Response/i75/r25', 'Response/i75/r75', 'Response/i75/s25', 'Response/i75/s75', 'Stimulus/c25/n25', 'Stimulus/c25/r25', 'Stimulus/c25/r75', 'Stimulus/c25/s25', 'Stimulus/c25/s75', 'Stimulus/c75/r25', 'Stimulus/c75/r75', 'Stimulus/c75/s25', 'Stimulus/c75/s75', 'Stimulus/i25/n75', 'Stimulus/i25/r25', 'Stimulus/i25/r75', 'Stimulus/i25/s25', 'Stimulus/i25/s75', 'Stimulus/i75/n25', 'Stimulus/i75/n75', 'Stimulus/i75/r25', 'Stimulus/i75/r75', 'Stimulus/i75/s25', 'Stimulus/i75/s75', 'experimentStart']\n",
            "Not setting metadata\n",
            "3 matching events found\n",
            "No baseline correction applied\n",
            "0 projection items activated\n",
            "Using data from preloaded Raw for 3 events and 204801 original time points ...\n",
            "1 bad epochs dropped\n"
          ]
        },
        {
          "name": "stderr",
          "output_type": "stream",
          "text": [
            "100%|██████████| 2/2 [02:08<00:00, 64.30s/it]\n"
          ]
        },
        {
          "data": {
            "text/html": [
              "<table class=\"table table-hover table-striped table-sm table-responsive small\">\n",
              "    <tr>\n",
              "        <th>Number of events</th>\n",
              "        <td>2</td>\n",
              "    </tr>\n",
              "    <tr>\n",
              "        <th>Events</th>\n",
              "        \n",
              "        <td>experimentStart: 2</td>\n",
              "        \n",
              "    </tr>\n",
              "    <tr>\n",
              "        <th>Time range</th>\n",
              "        <td>0.500 – 99.500 s</td>\n",
              "    </tr>\n",
              "    <tr>\n",
              "        <th>Baseline</th>\n",
              "        <td>off</td>\n",
              "    </tr>\n",
              "</table>"
            ],
            "text/plain": [
              "<Epochs |  2 events (all good), 0.5 – 99.5 s, baseline off, ~541.6 MB, data loaded,\n",
              " 'experimentStart': 2>"
            ]
          },
          "execution_count": 19,
          "metadata": {},
          "output_type": "execute_result"
        }
      ],
      "source": [
        "HOME = os.path.expanduser(\"~\")\n",
        "\n",
        "# get box directory depending on OS\n",
        "if os.name == 'nt': # windows\n",
        "    LAB_root = os.path.join(HOME, \"Box\", \"CoganLab\")\n",
        "else: # mac\n",
        "    LAB_root = os.path.join(HOME, \"Library\", \"CloudStorage\", \"Box-Box\", \"CoganLab\")\n",
        "\n",
        "sub='D0057'\n",
        "layout = get_data(\"GlobalLocal\", root=LAB_root)\n",
        "filt = raw_from_layout(layout.derivatives['derivatives/clean'], subject=sub, extension='.edf', desc='clean', preload=False)\n",
        "save_dir = os.path.join(layout.root, 'derivatives', 'freqFilt', 'figs', sub)\n",
        "if not os.path.exists(save_dir):\n",
        "    os.makedirs(save_dir)\n",
        "good = crop_empty_data(filt)\n",
        "good.info['bads'] = channel_outlier_marker(good, 3, 2)\n",
        "good.drop_channels(good.info['bads'])\n",
        "good.load_data()\n",
        "\n",
        "\n",
        "\n",
        "channels = good.ch_names\n",
        "\n",
        "\n",
        "ch_type = filt.get_channel_types(only_data_chs=True)[0]\n",
        "good.set_eeg_reference(ref_channels=\"average\", ch_type=ch_type)\n",
        "\n",
        "\n",
        "times=[0,100]\n",
        "\n",
        "trials = trial_ieeg(good, \"experimentStart\", times, preload=True)\n",
        "outliers_to_nan(trials, outliers=10)\n",
        "HG_base = gamma.extract(trials, copy=False, n_jobs=-1)\n",
        "crop_pad(HG_base, \"0.5s\")"
      ]
    },
    {
      "cell_type": "code",
      "execution_count": 20,
      "metadata": {},
      "outputs": [],
      "source": [
        "fig = HG_base.plot()\n"
      ]
    },
    {
      "cell_type": "code",
      "execution_count": 21,
      "metadata": {},
      "outputs": [
        {
          "data": {
            "text/plain": [
              "array([[[3.17678905e-06, 3.19554465e-06, 3.21445668e-06, ...,\n",
              "         2.94870779e-06, 2.93768426e-06, 2.92631830e-06],\n",
              "        [4.41296288e-06, 4.43006229e-06, 4.44649686e-06, ...,\n",
              "         3.68066458e-06, 3.67953771e-06, 3.67840130e-06],\n",
              "        [3.88735043e-06, 3.87360615e-06, 3.85933163e-06, ...,\n",
              "         3.26325585e-06, 3.26373492e-06, 3.26433019e-06],\n",
              "        ...,\n",
              "        [3.71415581e-06, 3.69500162e-06, 3.67553389e-06, ...,\n",
              "         5.58981583e-06, 5.58533611e-06, 5.58016518e-06],\n",
              "        [           nan,            nan,            nan, ...,\n",
              "                    nan,            nan,            nan],\n",
              "        [4.19572007e-06, 4.19072057e-06, 4.18549143e-06, ...,\n",
              "         9.24691085e-06, 9.25795393e-06, 9.26732901e-06]],\n",
              "\n",
              "       [[3.86658758e-06, 3.88489616e-06, 3.90320838e-06, ...,\n",
              "         3.52051325e-06, 3.52580901e-06, 3.53100768e-06],\n",
              "        [2.76941114e-06, 2.78063249e-06, 2.79206870e-06, ...,\n",
              "         3.21512357e-06, 3.21370499e-06, 3.21325706e-06],\n",
              "        [2.46078025e-06, 2.45144861e-06, 2.44236708e-06, ...,\n",
              "         3.08024346e-06, 3.07117170e-06, 3.06193806e-06],\n",
              "        ...,\n",
              "        [3.17755371e-06, 3.17298463e-06, 3.16802584e-06, ...,\n",
              "         3.93788105e-06, 3.91894991e-06, 3.89963270e-06],\n",
              "        [3.24175971e-06, 3.24767279e-06, 3.25343944e-06, ...,\n",
              "         4.18083982e-06, 4.18784384e-06, 4.19443950e-06],\n",
              "        [3.29227078e-06, 3.29164141e-06, 3.29151590e-06, ...,\n",
              "         5.15115607e-06, 5.17299577e-06, 5.19374407e-06]]])"
            ]
          },
          "execution_count": 21,
          "metadata": {},
          "output_type": "execute_result"
        }
      ],
      "source": [
        "HG_base._data"
      ]
    },
    {
      "cell_type": "code",
      "execution_count": null,
      "metadata": {},
      "outputs": [],
      "source": []
    }
  ],
  "metadata": {
    "kernelspec": {
      "display_name": "Python 3",
      "language": "python",
      "name": "python3"
    },
    "language_info": {
      "codemirror_mode": {
        "name": "ipython",
        "version": 3
      },
      "file_extension": ".py",
      "mimetype": "text/x-python",
      "name": "python",
      "nbconvert_exporter": "python",
      "pygments_lexer": "ipython3",
      "version": "3.11.3"
    }
  },
  "nbformat": 4,
  "nbformat_minor": 0
}
