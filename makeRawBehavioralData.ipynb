{
 "cells": [
  {
   "cell_type": "markdown",
   "metadata": {},
   "source": [
    "The problem is that D57, 59, 63, 65, 69, 71 are in one format, and are loaded into D_Data/GlobalLocal/trialData.csv.  \n",
    "While the newer subjects are in a different format, within D_Data/GlobalLocal/D##/Trials.csv. And I need to combine these two into one csv."
   ]
  },
  {
   "cell_type": "markdown",
   "metadata": {},
   "source": [
    "C:\\Users\\jz421\\Box\\CoganLab\\D_Data\\GlobalLocal\\D100\\All blocks\\GL_MainTask_Data_100_2023_10_21_10_30.csv is raw data"
   ]
  },
  {
   "cell_type": "code",
   "execution_count": 1,
   "metadata": {},
   "outputs": [
    {
     "name": "stderr",
     "output_type": "stream",
     "text": [
      "C:\\Users\\jz421\\AppData\\Local\\Temp\\ipykernel_5504\\3363072451.py:1: DeprecationWarning: \n",
      "Pyarrow will become a required dependency of pandas in the next major release of pandas (pandas 3.0),\n",
      "(to allow more performant data types, such as the Arrow string type, and better interoperability with other libraries)\n",
      "but was not found to be installed on your system.\n",
      "If this would cause problems for you,\n",
      "please provide us feedback at https://github.com/pandas-dev/pandas/issues/54466\n",
      "        \n",
      "  import pandas as pd\n"
     ]
    }
   ],
   "source": [
    "import pandas as pd\n",
    "import os\n",
    "import numpy as np"
   ]
  },
  {
   "cell_type": "code",
   "execution_count": 2,
   "metadata": {},
   "outputs": [],
   "source": [
    "# Set the directory where the Excel files are located\n",
    "rawDataFolder = r'C:\\Users\\jz421\\Box\\CoganLab\\D_Data\\GlobalLocal\\rawDataCopies'\n",
    "\n",
    "# Initialize an empty list to store DataFrames\n",
    "dataframes_list = []\n",
    "\n",
    "# Loop through all the files in the directory\n",
    "for filename in os.listdir(rawDataFolder):\n",
    "    # Check if the file is a csv\n",
    "    if filename.endswith('.csv'):\n",
    "        # Construct the full file path\n",
    "        file_path = os.path.join(rawDataFolder, filename)\n",
    "        # Read the Excel file into a pandas DataFrame\n",
    "        df = pd.read_csv(file_path)\n",
    "        # Append the DataFrame to the list\n",
    "        dataframes_list.append(df)\n",
    "\n",
    "# Combine all DataFrames in the list into a single DataFrame\n",
    "combined_df = pd.concat(dataframes_list, ignore_index=True)\n",
    "\n",
    "# Now, combined_df contains all the data from the Excel files in the folder\n",
    "\n",
    "\n",
    "# Function to format the subject_ID column\n",
    "def format_subject_id(subject_id):\n",
    "    # Ensure the subject_id is a string\n",
    "    subject_id_str = str(subject_id)\n",
    "    # Check if it starts with 'D', if not, prepend 'D'\n",
    "    if not subject_id_str.startswith('D'):\n",
    "        subject_id_str = 'D' + subject_id_str\n",
    "    # Split the 'D' from the number and zero-pad the number to 4 digits\n",
    "    parts = subject_id_str.split('D')\n",
    "    formatted_id = 'D' + parts[1].zfill(4)  # Zero-fill the numeric part\n",
    "    return formatted_id\n",
    "\n",
    "# Apply the function to the 'subject_ID' column\n",
    "combined_df['subject_ID'] = combined_df['subject_ID'].apply(format_subject_id)\n",
    "\n",
    "# Now df['subject_ID'] will have 'D' followed by a zero-padded four-digit number"
   ]
  },
  {
   "cell_type": "code",
   "execution_count": 7,
   "metadata": {},
   "outputs": [
    {
     "data": {
      "text/plain": [
       "array(['D0100', 'D0102', 'D0103', 'D0107', 'D0077', 'D0090', 'D0094',\n",
       "       'D0063', 'D0057', 'D0059', 'D0065', 'D0069', 'D0071'], dtype=object)"
      ]
     },
     "execution_count": 7,
     "metadata": {},
     "output_type": "execute_result"
    }
   ],
   "source": [
    "combined_df['subject_ID'].unique()"
   ]
  },
  {
   "cell_type": "code",
   "execution_count": 3,
   "metadata": {},
   "outputs": [
    {
     "name": "stdout",
     "output_type": "stream",
     "text": [
      "Number of rows with switchType 's' for subject D0057: 220\n",
      "Number of rows with switchType 'r' for subject D0057: 224\n"
     ]
    }
   ],
   "source": [
    "# Filter for subject_ID D0057\n",
    "df_d0057 = combined_df[combined_df['subject_ID'] == 'D0057']\n",
    "\n",
    "# Count the number of rows with switchType 's'\n",
    "count_s = df_d0057[df_d0057['switchType'] == 's'].shape[0]\n",
    "\n",
    "# Count the number of rows with switchType 'r'\n",
    "count_r = df_d0057[df_d0057['switchType'] == 'r'].shape[0]\n",
    "\n",
    "print(f\"Number of rows with switchType 's' for subject D0057: {count_s}\")\n",
    "print(f\"Number of rows with switchType 'r' for subject D0057: {count_r}\")\n"
   ]
  },
  {
   "cell_type": "markdown",
   "metadata": {},
   "source": [
    "create numpy arrays that reflect each subject's accuracy on each trial, so i can later only analyze correct trials"
   ]
  },
  {
   "cell_type": "code",
   "execution_count": 4,
   "metadata": {},
   "outputs": [],
   "source": [
    "# Get unique subjects\n",
    "unique_subjects = combined_df['subject_ID'].unique()\n",
    "\n",
    "# Directory to save the numpy arrays\n",
    "save_dir = r'C:\\Users\\jz421\\Box\\CoganLab\\D_Data\\GlobalLocal\\accArrays'  # Replace with your path\n",
    "if not os.path.exists(save_dir):\n",
    "    os.makedirs(save_dir)\n",
    "\n",
    "# Iterate over each subject and create a numpy array of accuracy\n",
    "for subject in unique_subjects:\n",
    "    # Filter DataFrame for the current subject\n",
    "    subject_df = combined_df[combined_df['subject_ID'] == subject]\n",
    "    # Sort the DataFrame based on trialCount to ensure order\n",
    "    subject_df = subject_df.sort_values(by='trialCount')\n",
    "    # Create numpy array from 'acc' column\n",
    "    accuracy_array = subject_df['acc'].values\n",
    "    # Save the numpy array to a file\n",
    "    np.save(os.path.join(save_dir, f'{subject}_accuracy.npy'), accuracy_array)\n",
    "\n",
    "# This will save a .npy file for each subject in the specified directory"
   ]
  },
  {
   "cell_type": "code",
   "execution_count": 5,
   "metadata": {},
   "outputs": [],
   "source": [
    "combined_df.to_csv(r'C:\\Users\\jz421\\Box\\CoganLab\\D_Data\\GlobalLocal\\combinedData.csv', index=False)"
   ]
  }
 ],
 "metadata": {
  "kernelspec": {
   "display_name": "ieeg",
   "language": "python",
   "name": "python3"
  },
  "language_info": {
   "codemirror_mode": {
    "name": "ipython",
    "version": 3
   },
   "file_extension": ".py",
   "mimetype": "text/x-python",
   "name": "python",
   "nbconvert_exporter": "python",
   "pygments_lexer": "ipython3",
   "version": "3.11.7"
  }
 },
 "nbformat": 4,
 "nbformat_minor": 2
}
