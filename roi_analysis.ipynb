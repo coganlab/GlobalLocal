{
 "cells": [
  {
   "cell_type": "code",
   "execution_count": 49,
   "metadata": {},
   "outputs": [
    {
     "name": "stdout",
     "output_type": "stream",
     "text": [
      "['c:\\\\Users\\\\jz421\\\\Desktop\\\\GlobalLocal', 'C:\\\\Users\\\\jz421\\\\Desktop\\\\GlobalLocal\\\\IEEG_Pipelines', 'c:\\\\Users\\\\jz421\\\\AppData\\\\Local\\\\anaconda3\\\\envs\\\\ieeg\\\\python311.zip', 'c:\\\\Users\\\\jz421\\\\AppData\\\\Local\\\\anaconda3\\\\envs\\\\ieeg\\\\DLLs', 'c:\\\\Users\\\\jz421\\\\AppData\\\\Local\\\\anaconda3\\\\envs\\\\ieeg\\\\Lib', 'c:\\\\Users\\\\jz421\\\\AppData\\\\Local\\\\anaconda3\\\\envs\\\\ieeg', '', 'C:\\\\Users\\\\jz421\\\\AppData\\\\Roaming\\\\Python\\\\Python311\\\\site-packages', 'C:\\\\Users\\\\jz421\\\\AppData\\\\Roaming\\\\Python\\\\Python311\\\\site-packages\\\\win32', 'C:\\\\Users\\\\jz421\\\\AppData\\\\Roaming\\\\Python\\\\Python311\\\\site-packages\\\\win32\\\\lib', 'C:\\\\Users\\\\jz421\\\\AppData\\\\Roaming\\\\Python\\\\Python311\\\\site-packages\\\\Pythonwin', 'c:\\\\Users\\\\jz421\\\\AppData\\\\Local\\\\anaconda3\\\\envs\\\\ieeg\\\\Lib\\\\site-packages', 'c:\\\\Users\\\\jz421\\\\AppData\\\\Local\\\\anaconda3\\\\envs\\\\ieeg\\\\Lib\\\\site-packages\\\\win32', 'c:\\\\Users\\\\jz421\\\\AppData\\\\Local\\\\anaconda3\\\\envs\\\\ieeg\\\\Lib\\\\site-packages\\\\win32\\\\lib', 'c:\\\\Users\\\\jz421\\\\AppData\\\\Local\\\\anaconda3\\\\envs\\\\ieeg\\\\Lib\\\\site-packages\\\\Pythonwin', 'C:/Users/jz421/Desktop/GlobalLocal/IEEG_Pipelines/']\n"
     ]
    }
   ],
   "source": [
    "import sys\n",
    "print(sys.path)\n",
    "sys.path.append(\"C:/Users/jz421/Desktop/GlobalLocal/IEEG_Pipelines/\") #need to do this cuz otherwise ieeg isn't added to path...\n",
    "\n",
    "from ieeg.navigate import channel_outlier_marker, trial_ieeg, crop_empty_data, \\\n",
    "    outliers_to_nan\n",
    "from ieeg.io import raw_from_layout, get_data\n",
    "from ieeg.timefreq.utils import crop_pad\n",
    "from ieeg.timefreq import gamma\n",
    "from ieeg.calc.scaling import rescale\n",
    "import mne\n",
    "import os\n",
    "import numpy as np\n",
    "from ieeg.calc.reshape import make_data_same\n",
    "from ieeg.calc.stats import time_perm_cluster\n",
    "from ieeg.viz.mri import gen_labels\n",
    "\n",
    "from misc_functions import calculate_RTs, save_channels_to_file, save_sig_chans, load_sig_chans\n",
    "import matplotlib.pyplot as plt\n",
    "from collections import OrderedDict, defaultdict\n",
    "import json\n",
    "from misc_functions import load_sig_chans, channel_names_to_indices\n"
   ]
  },
  {
   "cell_type": "code",
   "execution_count": 50,
   "metadata": {},
   "outputs": [],
   "source": [
    "# Initialize the outer dictionary.\n",
    "subjects_electrodestoROIs_dict = {}"
   ]
  },
  {
   "cell_type": "markdown",
   "metadata": {},
   "source": [
    "### make subjects rois to electrodes dict. Don't need to run this more than once."
   ]
  },
  {
   "cell_type": "code",
   "execution_count": 51,
   "metadata": {},
   "outputs": [
    {
     "name": "stdout",
     "output_type": "stream",
     "text": [
      "Extracting EDF parameters from C:\\Users\\jz421\\Box\\CoganLab\\BIDS-1.1_GlobalLocal\\BIDS\\derivatives\\clean\\sub-D0057\\ieeg\\sub-D0057_task-GlobalLocal_acq-01_run-01_desc-clean_ieeg.edf...\n",
      "EDF file detected\n"
     ]
    },
    {
     "ename": "ValueError",
     "evalue": "invalid literal for int() with base 10: 'None'",
     "output_type": "error",
     "traceback": [
      "\u001b[1;31m---------------------------------------------------------------------------\u001b[0m",
      "\u001b[1;31mValueError\u001b[0m                                Traceback (most recent call last)",
      "Cell \u001b[1;32mIn[51], line 26\u001b[0m\n\u001b[0;32m     22\u001b[0m         LAB_root \u001b[38;5;241m=\u001b[39m os\u001b[38;5;241m.\u001b[39mpath\u001b[38;5;241m.\u001b[39mjoin(HOME, \u001b[38;5;124m\"\u001b[39m\u001b[38;5;124mLibrary\u001b[39m\u001b[38;5;124m\"\u001b[39m, \u001b[38;5;124m\"\u001b[39m\u001b[38;5;124mCloudStorage\u001b[39m\u001b[38;5;124m\"\u001b[39m, \u001b[38;5;124m\"\u001b[39m\u001b[38;5;124mBox-Box\u001b[39m\u001b[38;5;124m\"\u001b[39m,\n\u001b[0;32m     23\u001b[0m                                 \u001b[38;5;124m\"\u001b[39m\u001b[38;5;124mCoganLab\u001b[39m\u001b[38;5;124m\"\u001b[39m)\n\u001b[0;32m     25\u001b[0m layout \u001b[38;5;241m=\u001b[39m get_data(task, root\u001b[38;5;241m=\u001b[39mLAB_root)\n\u001b[1;32m---> 26\u001b[0m filt \u001b[38;5;241m=\u001b[39m \u001b[43mraw_from_layout\u001b[49m\u001b[43m(\u001b[49m\u001b[43mlayout\u001b[49m\u001b[38;5;241;43m.\u001b[39;49m\u001b[43mderivatives\u001b[49m\u001b[43m[\u001b[49m\u001b[38;5;124;43m'\u001b[39;49m\u001b[38;5;124;43mderivatives/clean\u001b[39;49m\u001b[38;5;124;43m'\u001b[39;49m\u001b[43m]\u001b[49m\u001b[43m,\u001b[49m\u001b[43m \u001b[49m\u001b[43msubject\u001b[49m\u001b[38;5;241;43m=\u001b[39;49m\u001b[43msub\u001b[49m\u001b[43m,\u001b[49m\n\u001b[0;32m     27\u001b[0m \u001b[43m                    \u001b[49m\u001b[43mextension\u001b[49m\u001b[38;5;241;43m=\u001b[39;49m\u001b[38;5;124;43m'\u001b[39;49m\u001b[38;5;124;43m.edf\u001b[39;49m\u001b[38;5;124;43m'\u001b[39;49m\u001b[43m,\u001b[49m\u001b[43m \u001b[49m\u001b[43mdesc\u001b[49m\u001b[38;5;241;43m=\u001b[39;49m\u001b[38;5;124;43m'\u001b[39;49m\u001b[38;5;124;43mclean\u001b[39;49m\u001b[38;5;124;43m'\u001b[39;49m\u001b[43m,\u001b[49m\u001b[43m \u001b[49m\u001b[43mpreload\u001b[49m\u001b[38;5;241;43m=\u001b[39;49m\u001b[38;5;28;43;01mFalse\u001b[39;49;00m\u001b[43m)\u001b[49m\n\u001b[0;32m     28\u001b[0m save_dir \u001b[38;5;241m=\u001b[39m os\u001b[38;5;241m.\u001b[39mpath\u001b[38;5;241m.\u001b[39mjoin(layout\u001b[38;5;241m.\u001b[39mroot, \u001b[38;5;124m'\u001b[39m\u001b[38;5;124mderivatives\u001b[39m\u001b[38;5;124m'\u001b[39m, \u001b[38;5;124m'\u001b[39m\u001b[38;5;124mfreqFilt\u001b[39m\u001b[38;5;124m'\u001b[39m, \u001b[38;5;124m'\u001b[39m\u001b[38;5;124mfigs\u001b[39m\u001b[38;5;124m'\u001b[39m, sub)\n\u001b[0;32m     29\u001b[0m \u001b[38;5;28;01mif\u001b[39;00m \u001b[38;5;129;01mnot\u001b[39;00m os\u001b[38;5;241m.\u001b[39mpath\u001b[38;5;241m.\u001b[39mexists(save_dir):\n",
      "File \u001b[1;32m~\\Desktop\\GlobalLocal\\IEEG_Pipelines\\ieeg\\io.py:113\u001b[0m, in \u001b[0;36mraw_from_layout\u001b[1;34m(layout, preload, run, **kwargs)\u001b[0m\n\u001b[0;32m    111\u001b[0m \u001b[38;5;28;01mfor\u001b[39;00m r \u001b[38;5;129;01min\u001b[39;00m runs:\n\u001b[0;32m    112\u001b[0m     BIDS_path \u001b[38;5;241m=\u001b[39m bidspath_from_layout(layout, run\u001b[38;5;241m=\u001b[39mr, \u001b[38;5;241m*\u001b[39m\u001b[38;5;241m*\u001b[39mkwargs)\n\u001b[1;32m--> 113\u001b[0m     new_raw \u001b[38;5;241m=\u001b[39m \u001b[43mread_raw_bids\u001b[49m\u001b[43m(\u001b[49m\u001b[43mbids_path\u001b[49m\u001b[38;5;241;43m=\u001b[39;49m\u001b[43mBIDS_path\u001b[49m\u001b[43m,\u001b[49m\u001b[43m \u001b[49m\u001b[43mverbose\u001b[49m\u001b[38;5;241;43m=\u001b[39;49m\u001b[43mverbose\u001b[49m\u001b[43m)\u001b[49m\n\u001b[0;32m    114\u001b[0m     raw\u001b[38;5;241m.\u001b[39mappend(new_raw\u001b[38;5;241m.\u001b[39mcopy())\n\u001b[0;32m    115\u001b[0m whole_raw: mne\u001b[38;5;241m.\u001b[39mio\u001b[38;5;241m.\u001b[39mRaw \u001b[38;5;241m=\u001b[39m mne\u001b[38;5;241m.\u001b[39mconcatenate_raws(raw)\n",
      "File \u001b[1;32m<decorator-gen-360>:10\u001b[0m, in \u001b[0;36mread_raw_bids\u001b[1;34m(bids_path, extra_params, verbose)\u001b[0m\n",
      "File \u001b[1;32mc:\\Users\\jz421\\AppData\\Local\\anaconda3\\envs\\ieeg\\Lib\\site-packages\\mne_bids\\read.py:828\u001b[0m, in \u001b[0;36mread_raw_bids\u001b[1;34m(bids_path, extra_params, verbose)\u001b[0m\n\u001b[0;32m    826\u001b[0m \u001b[38;5;28;01mif\u001b[39;00m raw_path\u001b[38;5;241m.\u001b[39msuffix \u001b[38;5;241m==\u001b[39m \u001b[38;5;124m\"\u001b[39m\u001b[38;5;124m.fif\u001b[39m\u001b[38;5;124m\"\u001b[39m \u001b[38;5;129;01mand\u001b[39;00m \u001b[38;5;124m\"\u001b[39m\u001b[38;5;124mallow_maxshield\u001b[39m\u001b[38;5;124m\"\u001b[39m \u001b[38;5;129;01mnot\u001b[39;00m \u001b[38;5;129;01min\u001b[39;00m extra_params:\n\u001b[0;32m    827\u001b[0m     extra_params[\u001b[38;5;124m\"\u001b[39m\u001b[38;5;124mallow_maxshield\u001b[39m\u001b[38;5;124m\"\u001b[39m] \u001b[38;5;241m=\u001b[39m \u001b[38;5;28;01mTrue\u001b[39;00m\n\u001b[1;32m--> 828\u001b[0m raw \u001b[38;5;241m=\u001b[39m \u001b[43m_read_raw\u001b[49m\u001b[43m(\u001b[49m\n\u001b[0;32m    829\u001b[0m \u001b[43m    \u001b[49m\u001b[43mraw_path\u001b[49m\u001b[43m,\u001b[49m\n\u001b[0;32m    830\u001b[0m \u001b[43m    \u001b[49m\u001b[43melectrode\u001b[49m\u001b[38;5;241;43m=\u001b[39;49m\u001b[38;5;28;43;01mNone\u001b[39;49;00m\u001b[43m,\u001b[49m\n\u001b[0;32m    831\u001b[0m \u001b[43m    \u001b[49m\u001b[43mhsp\u001b[49m\u001b[38;5;241;43m=\u001b[39;49m\u001b[38;5;28;43;01mNone\u001b[39;49;00m\u001b[43m,\u001b[49m\n\u001b[0;32m    832\u001b[0m \u001b[43m    \u001b[49m\u001b[43mhpi\u001b[49m\u001b[38;5;241;43m=\u001b[39;49m\u001b[38;5;28;43;01mNone\u001b[39;49;00m\u001b[43m,\u001b[49m\n\u001b[0;32m    833\u001b[0m \u001b[43m    \u001b[49m\u001b[43mconfig_path\u001b[49m\u001b[38;5;241;43m=\u001b[39;49m\u001b[43mconfig_path\u001b[49m\u001b[43m,\u001b[49m\n\u001b[0;32m    834\u001b[0m \u001b[43m    \u001b[49m\u001b[38;5;241;43m*\u001b[39;49m\u001b[38;5;241;43m*\u001b[39;49m\u001b[43mextra_params\u001b[49m\u001b[43m,\u001b[49m\n\u001b[0;32m    835\u001b[0m \u001b[43m\u001b[49m\u001b[43m)\u001b[49m\n\u001b[0;32m    837\u001b[0m \u001b[38;5;66;03m# Try to find an associated events.tsv to get information about the\u001b[39;00m\n\u001b[0;32m    838\u001b[0m \u001b[38;5;66;03m# events in the recorded data\u001b[39;00m\n\u001b[0;32m    839\u001b[0m \u001b[38;5;28;01mif\u001b[39;00m (\n\u001b[0;32m    840\u001b[0m     bids_path\u001b[38;5;241m.\u001b[39msubject \u001b[38;5;241m==\u001b[39m \u001b[38;5;124m\"\u001b[39m\u001b[38;5;124memptyroom\u001b[39m\u001b[38;5;124m\"\u001b[39m \u001b[38;5;129;01mand\u001b[39;00m bids_path\u001b[38;5;241m.\u001b[39mtask \u001b[38;5;241m==\u001b[39m \u001b[38;5;124m\"\u001b[39m\u001b[38;5;124mnoise\u001b[39m\u001b[38;5;124m\"\u001b[39m\n\u001b[0;32m    841\u001b[0m ) \u001b[38;5;129;01mor\u001b[39;00m bids_path\u001b[38;5;241m.\u001b[39mtask\u001b[38;5;241m.\u001b[39mstartswith(\u001b[38;5;124m\"\u001b[39m\u001b[38;5;124mrest\u001b[39m\u001b[38;5;124m\"\u001b[39m):\n",
      "File \u001b[1;32mc:\\Users\\jz421\\AppData\\Local\\anaconda3\\envs\\ieeg\\Lib\\site-packages\\mne_bids\\read.py:76\u001b[0m, in \u001b[0;36m_read_raw\u001b[1;34m(raw_path, electrode, hsp, hpi, allow_maxshield, config_path, **kwargs)\u001b[0m\n\u001b[0;32m     74\u001b[0m \u001b[38;5;28;01melif\u001b[39;00m ext \u001b[38;5;129;01min\u001b[39;00m [\u001b[38;5;124m\"\u001b[39m\u001b[38;5;124m.ds\u001b[39m\u001b[38;5;124m\"\u001b[39m, \u001b[38;5;124m\"\u001b[39m\u001b[38;5;124m.vhdr\u001b[39m\u001b[38;5;124m\"\u001b[39m, \u001b[38;5;124m\"\u001b[39m\u001b[38;5;124m.set\u001b[39m\u001b[38;5;124m\"\u001b[39m, \u001b[38;5;124m\"\u001b[39m\u001b[38;5;124m.edf\u001b[39m\u001b[38;5;124m\"\u001b[39m, \u001b[38;5;124m\"\u001b[39m\u001b[38;5;124m.bdf\u001b[39m\u001b[38;5;124m\"\u001b[39m, \u001b[38;5;124m\"\u001b[39m\u001b[38;5;124m.EDF\u001b[39m\u001b[38;5;124m\"\u001b[39m, \u001b[38;5;124m\"\u001b[39m\u001b[38;5;124m.snirf\u001b[39m\u001b[38;5;124m\"\u001b[39m, \u001b[38;5;124m\"\u001b[39m\u001b[38;5;124m.cdt\u001b[39m\u001b[38;5;124m\"\u001b[39m]:\n\u001b[0;32m     75\u001b[0m     raw_path \u001b[38;5;241m=\u001b[39m Path(raw_path)\n\u001b[1;32m---> 76\u001b[0m     raw \u001b[38;5;241m=\u001b[39m \u001b[43mreader\u001b[49m\u001b[43m[\u001b[49m\u001b[43mext\u001b[49m\u001b[43m]\u001b[49m\u001b[43m(\u001b[49m\u001b[43mraw_path\u001b[49m\u001b[43m,\u001b[49m\u001b[43m \u001b[49m\u001b[38;5;241;43m*\u001b[39;49m\u001b[38;5;241;43m*\u001b[39;49m\u001b[43mkwargs\u001b[49m\u001b[43m)\u001b[49m\n\u001b[0;32m     78\u001b[0m \u001b[38;5;66;03m# MEF and NWB are allowed, but not yet implemented\u001b[39;00m\n\u001b[0;32m     79\u001b[0m \u001b[38;5;28;01melif\u001b[39;00m ext \u001b[38;5;129;01min\u001b[39;00m [\u001b[38;5;124m\"\u001b[39m\u001b[38;5;124m.mef\u001b[39m\u001b[38;5;124m\"\u001b[39m, \u001b[38;5;124m\"\u001b[39m\u001b[38;5;124m.nwb\u001b[39m\u001b[38;5;124m\"\u001b[39m]:\n",
      "File \u001b[1;32mc:\\Users\\jz421\\AppData\\Local\\anaconda3\\envs\\ieeg\\Lib\\site-packages\\mne\\io\\edf\\edf.py:1675\u001b[0m, in \u001b[0;36mread_raw_edf\u001b[1;34m(input_fname, eog, misc, stim_channel, exclude, infer_types, include, preload, units, encoding, verbose)\u001b[0m\n\u001b[0;32m   1673\u001b[0m \u001b[38;5;28;01mif\u001b[39;00m ext \u001b[38;5;241m!=\u001b[39m \u001b[38;5;124m\"\u001b[39m\u001b[38;5;124medf\u001b[39m\u001b[38;5;124m\"\u001b[39m:\n\u001b[0;32m   1674\u001b[0m     \u001b[38;5;28;01mraise\u001b[39;00m \u001b[38;5;167;01mNotImplementedError\u001b[39;00m(\u001b[38;5;124mf\u001b[39m\u001b[38;5;124m\"\u001b[39m\u001b[38;5;124mOnly EDF files are supported, got \u001b[39m\u001b[38;5;132;01m{\u001b[39;00mext\u001b[38;5;132;01m}\u001b[39;00m\u001b[38;5;124m.\u001b[39m\u001b[38;5;124m\"\u001b[39m)\n\u001b[1;32m-> 1675\u001b[0m \u001b[38;5;28;01mreturn\u001b[39;00m \u001b[43mRawEDF\u001b[49m\u001b[43m(\u001b[49m\n\u001b[0;32m   1676\u001b[0m \u001b[43m    \u001b[49m\u001b[43minput_fname\u001b[49m\u001b[38;5;241;43m=\u001b[39;49m\u001b[43minput_fname\u001b[49m\u001b[43m,\u001b[49m\n\u001b[0;32m   1677\u001b[0m \u001b[43m    \u001b[49m\u001b[43meog\u001b[49m\u001b[38;5;241;43m=\u001b[39;49m\u001b[43meog\u001b[49m\u001b[43m,\u001b[49m\n\u001b[0;32m   1678\u001b[0m \u001b[43m    \u001b[49m\u001b[43mmisc\u001b[49m\u001b[38;5;241;43m=\u001b[39;49m\u001b[43mmisc\u001b[49m\u001b[43m,\u001b[49m\n\u001b[0;32m   1679\u001b[0m \u001b[43m    \u001b[49m\u001b[43mstim_channel\u001b[49m\u001b[38;5;241;43m=\u001b[39;49m\u001b[43mstim_channel\u001b[49m\u001b[43m,\u001b[49m\n\u001b[0;32m   1680\u001b[0m \u001b[43m    \u001b[49m\u001b[43mexclude\u001b[49m\u001b[38;5;241;43m=\u001b[39;49m\u001b[43mexclude\u001b[49m\u001b[43m,\u001b[49m\n\u001b[0;32m   1681\u001b[0m \u001b[43m    \u001b[49m\u001b[43minfer_types\u001b[49m\u001b[38;5;241;43m=\u001b[39;49m\u001b[43minfer_types\u001b[49m\u001b[43m,\u001b[49m\n\u001b[0;32m   1682\u001b[0m \u001b[43m    \u001b[49m\u001b[43mpreload\u001b[49m\u001b[38;5;241;43m=\u001b[39;49m\u001b[43mpreload\u001b[49m\u001b[43m,\u001b[49m\n\u001b[0;32m   1683\u001b[0m \u001b[43m    \u001b[49m\u001b[43minclude\u001b[49m\u001b[38;5;241;43m=\u001b[39;49m\u001b[43minclude\u001b[49m\u001b[43m,\u001b[49m\n\u001b[0;32m   1684\u001b[0m \u001b[43m    \u001b[49m\u001b[43munits\u001b[49m\u001b[38;5;241;43m=\u001b[39;49m\u001b[43munits\u001b[49m\u001b[43m,\u001b[49m\n\u001b[0;32m   1685\u001b[0m \u001b[43m    \u001b[49m\u001b[43mencoding\u001b[49m\u001b[38;5;241;43m=\u001b[39;49m\u001b[43mencoding\u001b[49m\u001b[43m,\u001b[49m\n\u001b[0;32m   1686\u001b[0m \u001b[43m    \u001b[49m\u001b[43mverbose\u001b[49m\u001b[38;5;241;43m=\u001b[39;49m\u001b[43mverbose\u001b[49m\u001b[43m,\u001b[49m\n\u001b[0;32m   1687\u001b[0m \u001b[43m\u001b[49m\u001b[43m)\u001b[49m\n",
      "File \u001b[1;32m<decorator-gen-247>:12\u001b[0m, in \u001b[0;36m__init__\u001b[1;34m(self, input_fname, eog, misc, stim_channel, exclude, infer_types, preload, include, units, encoding, verbose)\u001b[0m\n",
      "File \u001b[1;32mc:\\Users\\jz421\\AppData\\Local\\anaconda3\\envs\\ieeg\\Lib\\site-packages\\mne\\io\\edf\\edf.py:155\u001b[0m, in \u001b[0;36mRawEDF.__init__\u001b[1;34m(self, input_fname, eog, misc, stim_channel, exclude, infer_types, preload, include, units, encoding, verbose)\u001b[0m\n\u001b[0;32m    153\u001b[0m logger\u001b[38;5;241m.\u001b[39minfo(\u001b[38;5;124m\"\u001b[39m\u001b[38;5;124mExtracting EDF parameters from \u001b[39m\u001b[38;5;132;01m{}\u001b[39;00m\u001b[38;5;124m...\u001b[39m\u001b[38;5;124m\"\u001b[39m\u001b[38;5;241m.\u001b[39mformat(input_fname))\n\u001b[0;32m    154\u001b[0m input_fname \u001b[38;5;241m=\u001b[39m os\u001b[38;5;241m.\u001b[39mpath\u001b[38;5;241m.\u001b[39mabspath(input_fname)\n\u001b[1;32m--> 155\u001b[0m info, edf_info, orig_units \u001b[38;5;241m=\u001b[39m \u001b[43m_get_info\u001b[49m\u001b[43m(\u001b[49m\n\u001b[0;32m    156\u001b[0m \u001b[43m    \u001b[49m\u001b[43minput_fname\u001b[49m\u001b[43m,\u001b[49m\u001b[43m \u001b[49m\u001b[43mstim_channel\u001b[49m\u001b[43m,\u001b[49m\u001b[43m \u001b[49m\u001b[43meog\u001b[49m\u001b[43m,\u001b[49m\u001b[43m \u001b[49m\u001b[43mmisc\u001b[49m\u001b[43m,\u001b[49m\u001b[43m \u001b[49m\u001b[43mexclude\u001b[49m\u001b[43m,\u001b[49m\u001b[43m \u001b[49m\u001b[43minfer_types\u001b[49m\u001b[43m,\u001b[49m\u001b[43m \u001b[49m\u001b[43mpreload\u001b[49m\u001b[43m,\u001b[49m\u001b[43m \u001b[49m\u001b[43minclude\u001b[49m\n\u001b[0;32m    157\u001b[0m \u001b[43m\u001b[49m\u001b[43m)\u001b[49m\n\u001b[0;32m    158\u001b[0m logger\u001b[38;5;241m.\u001b[39minfo(\u001b[38;5;124m\"\u001b[39m\u001b[38;5;124mCreating raw.info structure...\u001b[39m\u001b[38;5;124m\"\u001b[39m)\n\u001b[0;32m    160\u001b[0m _validate_type(units, (\u001b[38;5;28mstr\u001b[39m, \u001b[38;5;28;01mNone\u001b[39;00m, \u001b[38;5;28mdict\u001b[39m), \u001b[38;5;124m\"\u001b[39m\u001b[38;5;124munits\u001b[39m\u001b[38;5;124m\"\u001b[39m)\n",
      "File \u001b[1;32mc:\\Users\\jz421\\AppData\\Local\\anaconda3\\envs\\ieeg\\Lib\\site-packages\\mne\\io\\edf\\edf.py:521\u001b[0m, in \u001b[0;36m_get_info\u001b[1;34m(fname, stim_channel, eog, misc, exclude, infer_types, preload, include)\u001b[0m\n\u001b[0;32m    518\u001b[0m eog \u001b[38;5;241m=\u001b[39m eog \u001b[38;5;28;01mif\u001b[39;00m eog \u001b[38;5;129;01mis\u001b[39;00m \u001b[38;5;129;01mnot\u001b[39;00m \u001b[38;5;28;01mNone\u001b[39;00m \u001b[38;5;28;01melse\u001b[39;00m []\n\u001b[0;32m    519\u001b[0m misc \u001b[38;5;241m=\u001b[39m misc \u001b[38;5;28;01mif\u001b[39;00m misc \u001b[38;5;129;01mis\u001b[39;00m \u001b[38;5;129;01mnot\u001b[39;00m \u001b[38;5;28;01mNone\u001b[39;00m \u001b[38;5;28;01melse\u001b[39;00m []\n\u001b[1;32m--> 521\u001b[0m edf_info, orig_units \u001b[38;5;241m=\u001b[39m \u001b[43m_read_header\u001b[49m\u001b[43m(\u001b[49m\u001b[43mfname\u001b[49m\u001b[43m,\u001b[49m\u001b[43m \u001b[49m\u001b[43mexclude\u001b[49m\u001b[43m,\u001b[49m\u001b[43m \u001b[49m\u001b[43minfer_types\u001b[49m\u001b[43m,\u001b[49m\u001b[43m \u001b[49m\u001b[43minclude\u001b[49m\u001b[43m)\u001b[49m\n\u001b[0;32m    523\u001b[0m \u001b[38;5;66;03m# XXX: `tal_ch_names` to pass to `_check_stim_channel` should be computed\u001b[39;00m\n\u001b[0;32m    524\u001b[0m \u001b[38;5;66;03m#      from `edf_info['ch_names']` and `edf_info['tal_idx']` but 'tal_idx'\u001b[39;00m\n\u001b[0;32m    525\u001b[0m \u001b[38;5;66;03m#      contains stim channels that are not TAL.\u001b[39;00m\n\u001b[0;32m    526\u001b[0m stim_channel_idxs, _ \u001b[38;5;241m=\u001b[39m _check_stim_channel(stim_channel, edf_info[\u001b[38;5;124m\"\u001b[39m\u001b[38;5;124mch_names\u001b[39m\u001b[38;5;124m\"\u001b[39m])\n",
      "File \u001b[1;32mc:\\Users\\jz421\\AppData\\Local\\anaconda3\\envs\\ieeg\\Lib\\site-packages\\mne\\io\\edf\\edf.py:505\u001b[0m, in \u001b[0;36m_read_header\u001b[1;34m(fname, exclude, infer_types, include)\u001b[0m\n\u001b[0;32m    503\u001b[0m logger\u001b[38;5;241m.\u001b[39minfo(\u001b[38;5;124m\"\u001b[39m\u001b[38;5;132;01m%s\u001b[39;00m\u001b[38;5;124m file detected\u001b[39m\u001b[38;5;124m\"\u001b[39m \u001b[38;5;241m%\u001b[39m ext\u001b[38;5;241m.\u001b[39mupper())\n\u001b[0;32m    504\u001b[0m \u001b[38;5;28;01mif\u001b[39;00m ext \u001b[38;5;129;01min\u001b[39;00m (\u001b[38;5;124m\"\u001b[39m\u001b[38;5;124mbdf\u001b[39m\u001b[38;5;124m\"\u001b[39m, \u001b[38;5;124m\"\u001b[39m\u001b[38;5;124medf\u001b[39m\u001b[38;5;124m\"\u001b[39m):\n\u001b[1;32m--> 505\u001b[0m     \u001b[38;5;28;01mreturn\u001b[39;00m \u001b[43m_read_edf_header\u001b[49m\u001b[43m(\u001b[49m\u001b[43mfname\u001b[49m\u001b[43m,\u001b[49m\u001b[43m \u001b[49m\u001b[43mexclude\u001b[49m\u001b[43m,\u001b[49m\u001b[43m \u001b[49m\u001b[43minfer_types\u001b[49m\u001b[43m,\u001b[49m\u001b[43m \u001b[49m\u001b[43minclude\u001b[49m\u001b[43m)\u001b[49m\n\u001b[0;32m    506\u001b[0m \u001b[38;5;28;01melif\u001b[39;00m ext \u001b[38;5;241m==\u001b[39m \u001b[38;5;124m\"\u001b[39m\u001b[38;5;124mgdf\u001b[39m\u001b[38;5;124m\"\u001b[39m:\n\u001b[0;32m    507\u001b[0m     \u001b[38;5;28;01mreturn\u001b[39;00m _read_gdf_header(fname, exclude, include), \u001b[38;5;28;01mNone\u001b[39;00m\n",
      "File \u001b[1;32mc:\\Users\\jz421\\AppData\\Local\\anaconda3\\envs\\ieeg\\Lib\\site-packages\\mne\\io\\edf\\edf.py:820\u001b[0m, in \u001b[0;36m_read_edf_header\u001b[1;34m(fname, exclude, infer_types, include)\u001b[0m\n\u001b[0;32m    818\u001b[0m     patient[key] \u001b[38;5;241m=\u001b[39m \u001b[38;5;28mfloat\u001b[39m(value)\n\u001b[0;32m    819\u001b[0m \u001b[38;5;28;01melif\u001b[39;00m key \u001b[38;5;129;01min\u001b[39;00m [\u001b[38;5;124m\"\u001b[39m\u001b[38;5;124mhand\u001b[39m\u001b[38;5;124m\"\u001b[39m]:\n\u001b[1;32m--> 820\u001b[0m     patient[key] \u001b[38;5;241m=\u001b[39m \u001b[38;5;28;43mint\u001b[39;49m\u001b[43m(\u001b[49m\u001b[43mvalue\u001b[49m\u001b[43m)\u001b[49m\n\u001b[0;32m    821\u001b[0m \u001b[38;5;28;01melse\u001b[39;00m:\n\u001b[0;32m    822\u001b[0m     warn(\u001b[38;5;124mf\u001b[39m\u001b[38;5;124m\"\u001b[39m\u001b[38;5;124mInvalid patient information \u001b[39m\u001b[38;5;132;01m{\u001b[39;00mkey\u001b[38;5;132;01m}\u001b[39;00m\u001b[38;5;124m\"\u001b[39m)\n",
      "\u001b[1;31mValueError\u001b[0m: invalid literal for int() with base 10: 'None'"
     ]
    }
   ],
   "source": [
    "subjects = ['D0057','D0059', 'D0063', 'D0065', 'D0069', 'D0071', 'D0077', 'D0090']\n",
    "\n",
    "# subjects = ['D0090'] #testing cuz d0065 being weird\n",
    "\n",
    "for sub in subjects:\n",
    "    # sub = 'D0059'\n",
    "    task = 'GlobalLocal'\n",
    "    output_name = \"Response_fixationCrossBase_1sec_mirror\"\n",
    "    events = [\"Response\"]\n",
    "    times = (-1,1.5)\n",
    "    base_times = [-1,0]\n",
    "    LAB_root = None\n",
    "    channels = None\n",
    "    full_trial_base = False\n",
    "\n",
    "\n",
    "    if LAB_root is None:\n",
    "        HOME = os.path.expanduser(\"~\")\n",
    "        if os.name == 'nt':  # windows\n",
    "            LAB_root = os.path.join(HOME, \"Box\", \"CoganLab\")\n",
    "        else:  # mac\n",
    "            LAB_root = os.path.join(HOME, \"Library\", \"CloudStorage\", \"Box-Box\",\n",
    "                                    \"CoganLab\")\n",
    "\n",
    "    layout = get_data(task, root=LAB_root)\n",
    "    filt = raw_from_layout(layout.derivatives['derivatives/clean'], subject=sub,\n",
    "                        extension='.edf', desc='clean', preload=False)\n",
    "    save_dir = os.path.join(layout.root, 'derivatives', 'freqFilt', 'figs', sub)\n",
    "    if not os.path.exists(save_dir):\n",
    "        os.makedirs(save_dir)\n",
    "\n",
    "    good = crop_empty_data(filt)\n",
    "    # %%\n",
    "\n",
    "    print(f\"good channels before dropping bads: {len(good.ch_names)}\")\n",
    "    print(f\"filt channels before dropping bads: {len(filt.ch_names)}\")\n",
    "\n",
    "    good.info['bads'] = channel_outlier_marker(good, 3, 2)\n",
    "    print(\"Bad channels in 'good':\", good.info['bads'])\n",
    "\n",
    "    filt.drop_channels(good.info['bads'])  # this has to come first cuz if you drop from good first, then good.info['bads'] is just empty\n",
    "    good.drop_channels(good.info['bads'])\n",
    "\n",
    "    print(\"Bad channels in 'good' after dropping once:\", good.info['bads'])\n",
    "\n",
    "    print(f\"good channels after dropping bads: {len(good.ch_names)}\")\n",
    "    print(f\"filt channels after dropping bads: {len(filt.ch_names)}\")\n",
    "\n",
    "    good.load_data()\n",
    "\n",
    "    # If channels is None, use all channels\n",
    "    if channels is None:\n",
    "        channels = good.ch_names\n",
    "    else:\n",
    "        # Validate the provided channels\n",
    "        invalid_channels = [ch for ch in channels if ch not in good.ch_names]\n",
    "        if invalid_channels:\n",
    "            raise ValueError(\n",
    "                f\"The following channels are not valid: {invalid_channels}\")\n",
    "\n",
    "        # Use only the specified channels\n",
    "        good.pick_channels(channels)\n",
    "\n",
    "    ch_type = filt.get_channel_types(only_data_chs=True)[0]\n",
    "    good.set_eeg_reference(ref_channels=\"average\", ch_type=ch_type)\n",
    "\n",
    "    default_dict = gen_labels(good.info)\n",
    "    \n",
    "    # Create rawROI_dict for the subject\n",
    "    rawROI_dict = defaultdict(list)\n",
    "    for key, value in default_dict.items():\n",
    "        rawROI_dict[value].append(key)\n",
    "    rawROI_dict = dict(rawROI_dict)\n",
    "\n",
    "    # Filter out keys containing \"White-Matter\"\n",
    "    filtROI_dict = {key: value for key, value in rawROI_dict.items() if \"White-Matter\" not in key}\n",
    "\n",
    "    # Store the dictionaries in the subjects dictionary\n",
    "    subjects_electrodestoROIs_dict[sub] = {\n",
    "        'default_dict': dict(default_dict),\n",
    "        'rawROI_dict': dict(rawROI_dict),\n",
    "        'filtROI_dict': dict(filtROI_dict)\n",
    "    }\n",
    "\n",
    "\n",
    "# Save to a JSON file. Uncomment when actually running.\n",
    "filename = 'subjects_electrodestoROIs_dict.json'\n",
    "with open(filename, 'w') as file:\n",
    "    json.dump(subjects_electrodestoROIs_dict, file, indent=4)\n",
    "# \n",
    "# print(f\"Saved subjects_dict to {filename}\")"
   ]
  },
  {
   "cell_type": "markdown",
   "metadata": {},
   "source": [
    "### load subjects electrodes to rois dict"
   ]
  },
  {
   "cell_type": "code",
   "execution_count": null,
   "metadata": {},
   "outputs": [
    {
     "name": "stdout",
     "output_type": "stream",
     "text": [
      "Loaded data from subjects_electrodestoROIs_dict.json\n"
     ]
    }
   ],
   "source": [
    "# Load from a JSON file\n",
    "filename = 'subjects_electrodestoROIs_dict.json'\n",
    "\n",
    "with open(filename, 'r') as file:\n",
    "    subjects_electrodestoROIs_dict = json.load(file)\n",
    "\n",
    "print(f\"Loaded data from {filename}\")"
   ]
  },
  {
   "cell_type": "markdown",
   "metadata": {},
   "source": [
    "### load high gamma data so we can do roi analysis on it\n",
    "once we have more subjects, turn this into a function and loop over all subjects.  \n",
    "this code is a crime against humanity"
   ]
  },
  {
   "cell_type": "code",
   "execution_count": 52,
   "metadata": {},
   "outputs": [
    {
     "name": "stdout",
     "output_type": "stream",
     "text": [
      "Reading C:\\Users\\jz421\\Box\\CoganLab\\BIDS-1.1_GlobalLocal\\BIDS\\derivatives\\freqFilt\\figs\\D0057\\D0057_Stimulus_c25_fixationCrossBase_1sec_mirror_HG_ev1-epo.fif ...\n",
      "    Found the data of interest:\n",
      "        t =   -1000.00 ...    1500.00 ms\n",
      "        0 CTF compensation matrices available\n",
      "Not setting metadata\n",
      "168 matching events found\n",
      "No baseline correction applied\n",
      "0 projection items activated\n",
      "Reading C:\\Users\\jz421\\Box\\CoganLab\\BIDS-1.1_GlobalLocal\\BIDS\\derivatives\\freqFilt\\figs\\D0057\\D0057_Stimulus_c25_fixationCrossBase_1sec_mirror_HG_base-epo.fif ...\n",
      "    Found the data of interest:\n",
      "        t =   -1000.00 ...       0.00 ms\n",
      "        0 CTF compensation matrices available\n",
      "Not setting metadata\n",
      "448 matching events found\n",
      "No baseline correction applied\n",
      "0 projection items activated\n",
      "Reading C:\\Users\\jz421\\Box\\CoganLab\\BIDS-1.1_GlobalLocal\\BIDS\\derivatives\\freqFilt\\figs\\D0057\\D0057_Stimulus_c25_fixationCrossBase_1sec_mirror_HG_ev1_rescaled-epo.fif ...\n",
      "    Found the data of interest:\n",
      "        t =   -1000.00 ...    1500.00 ms\n",
      "        0 CTF compensation matrices available\n",
      "Not setting metadata\n",
      "168 matching events found\n",
      "No baseline correction applied\n",
      "0 projection items activated\n",
      "Reading C:\\Users\\jz421\\Box\\CoganLab\\BIDS-1.1_GlobalLocal\\BIDS\\derivatives\\freqFilt\\figs\\D0057\\D0057_Stimulus_c75_fixationCrossBase_1sec_mirror_HG_ev1-epo.fif ...\n",
      "    Found the data of interest:\n",
      "        t =   -1000.00 ...    1500.00 ms\n",
      "        0 CTF compensation matrices available\n",
      "Not setting metadata\n",
      "56 matching events found\n",
      "No baseline correction applied\n",
      "0 projection items activated\n",
      "Reading C:\\Users\\jz421\\Box\\CoganLab\\BIDS-1.1_GlobalLocal\\BIDS\\derivatives\\freqFilt\\figs\\D0057\\D0057_Stimulus_c75_fixationCrossBase_1sec_mirror_HG_base-epo.fif ...\n",
      "    Found the data of interest:\n",
      "        t =   -1000.00 ...       0.00 ms\n",
      "        0 CTF compensation matrices available\n",
      "Not setting metadata\n",
      "448 matching events found\n",
      "No baseline correction applied\n",
      "0 projection items activated\n",
      "Reading C:\\Users\\jz421\\Box\\CoganLab\\BIDS-1.1_GlobalLocal\\BIDS\\derivatives\\freqFilt\\figs\\D0057\\D0057_Stimulus_c75_fixationCrossBase_1sec_mirror_HG_ev1_rescaled-epo.fif ...\n",
      "    Found the data of interest:\n",
      "        t =   -1000.00 ...    1500.00 ms\n",
      "        0 CTF compensation matrices available\n",
      "Not setting metadata\n",
      "56 matching events found\n",
      "No baseline correction applied\n",
      "0 projection items activated\n"
     ]
    }
   ],
   "source": [
    "import os\n",
    "import mne\n",
    "import numpy as np\n",
    "\n",
    "\n",
    "def load_mne_objects(sub, output_name, task, LAB_root=None):\n",
    "    \"\"\"\n",
    "    Load MNE objects for a given subject and output name.\n",
    "\n",
    "    Parameters:\n",
    "    - sub (str): Subject identifier.\n",
    "    - output_name (str): Output name used in the file naming.\n",
    "    - task (str): Task identifier.\n",
    "    - LAB_root (str, optional): Root directory for the lab. If None, it will be determined based on the OS.\n",
    "\n",
    "    Returns:\n",
    "    A dictionary containing loaded MNE objects.\n",
    "    \"\"\"\n",
    "\n",
    "    # Determine LAB_root based on the operating system\n",
    "    if LAB_root is None:\n",
    "        HOME = os.path.expanduser(\"~\")\n",
    "        LAB_root = os.path.join(HOME, \"Box\", \"CoganLab\") if os.name == 'nt' else os.path.join(HOME, \"Library\", \"CloudStorage\", \"Box-Box\", \"CoganLab\")\n",
    "\n",
    "    # Get data layout\n",
    "    layout = get_data(task, root=LAB_root)\n",
    "    save_dir = os.path.join(layout.root, 'derivatives', 'freqFilt', 'figs', sub)\n",
    "    \n",
    "    # Ensure save directory exists\n",
    "    if not os.path.exists(save_dir):\n",
    "        os.makedirs(save_dir)\n",
    "\n",
    "    # Define file paths\n",
    "    HG_ev1_file = f'{save_dir}/{sub}_{output_name}_HG_ev1-epo.fif'\n",
    "    HG_base_file = f'{save_dir}/{sub}_{output_name}_HG_base-epo.fif'\n",
    "    HG_ev1_rescaled_file = f'{save_dir}/{sub}_{output_name}_HG_ev1_rescaled-epo.fif'\n",
    "\n",
    "    # Load the objects\n",
    "    HG_ev1 = mne.read_epochs(HG_ev1_file)\n",
    "    HG_base = mne.read_epochs(HG_base_file)\n",
    "    HG_ev1_rescaled = mne.read_epochs(HG_ev1_rescaled_file)\n",
    "    HG_ev1_evoke = HG_ev1.average(method=lambda x: np.nanmean(x, axis=0))\n",
    "    HG_ev1_evoke_rescaled = HG_ev1_rescaled.average(method=lambda x: np.nanmean(x, axis=0))\n",
    "\n",
    "    return {\n",
    "        'HG_ev1': HG_ev1,\n",
    "        'HG_base': HG_base,\n",
    "        'HG_ev1_rescaled': HG_ev1_rescaled,\n",
    "        'HG_ev1_evoke': HG_ev1_evoke,\n",
    "        'HG_ev1_evoke_rescaled': HG_ev1_evoke_rescaled\n",
    "    }\n",
    "\n",
    "# Example usage\n",
    "# sub = 'D0057'\n",
    "# output_name = \"Stimulus_i25and75_fixationCrossBase_1sec_mirror\"\n",
    "# task = 'GlobalLocal'\n",
    "loaded_objects_D0057_i = load_mne_objects('D0057', \"Stimulus_c25_fixationCrossBase_1sec_mirror\", 'GlobalLocal')\n",
    "loaded_objects_D0057_c = load_mne_objects('D0057', \"Stimulus_c75_fixationCrossBase_1sec_mirror\", 'GlobalLocal')\n",
    "\n",
    "# loaded_objects_D0059_i = load_mne_objects('D0059', \"Stimulus_i25and75_fixationCrossBase_1sec_mirror\", 'GlobalLocal')\n",
    "# loaded_objects_D0059_c = load_mne_objects('D0059', \"Stimulus_c25and75_fixationCrossBase_1sec_mirror\", 'GlobalLocal')\n",
    "\n",
    "# loaded_objects_D0063_i = load_mne_objects('D0063', \"Stimulus_i25and75_fixationCrossBase_1sec_mirror\", 'GlobalLocal')\n",
    "# loaded_objects_D0063_c = load_mne_objects('D0063', \"Stimulus_c25and75_fixationCrossBase_1sec_mirror\", 'GlobalLocal')\n",
    "\n",
    "# loaded_objects_D0065_i = load_mne_objects('D0065', \"Stimulus_i25and75_fixationCrossBase_1sec_mirror\", 'GlobalLocal')\n",
    "# loaded_objects_D0065_c = load_mne_objects('D0065', \"Stimulus_c25and75_fixationCrossBase_1sec_mirror\", 'GlobalLocal')\n",
    "\n",
    "# loaded_objects_D0069_i = load_mne_objects('D0069', \"Stimulus_i25and75_fixationCrossBase_1sec_mirror\", 'GlobalLocal')\n",
    "# loaded_objects_D0069_c = load_mne_objects('D0069', \"Stimulus_c25and75_fixationCrossBase_1sec_mirror\", 'GlobalLocal')\n",
    "\n",
    "# loaded_objects_D0071_i = load_mne_objects('D0071', \"Stimulus_i25and75_fixationCrossBase_1sec_mirror\", 'GlobalLocal')\n",
    "# loaded_objects_D0071_c = load_mne_objects('D0071', \"Stimulus_c25and75_fixationCrossBase_1sec_mirror\", 'GlobalLocal')\n",
    "\n",
    "\n",
    "# Access the objects\n",
    "HG_ev1_D0057_i = loaded_objects_D0057_i['HG_ev1']\n",
    "HG_base_D0057_i = loaded_objects_D0057_i['HG_base']\n",
    "HG_ev1_rescaled_D0057_i = loaded_objects_D0057_i['HG_ev1_rescaled']\n",
    "HG_ev1_evoke_D0057_i = loaded_objects_D0057_i['HG_ev1_evoke']\n",
    "HG_ev1_evoke_rescaled_D0057_i = loaded_objects_D0057_i['HG_ev1_evoke_rescaled']\n",
    "\n",
    "HG_ev1_D0057_c = loaded_objects_D0057_c['HG_ev1']\n",
    "HG_base_D0057_c = loaded_objects_D0057_c['HG_base']\n",
    "HG_ev1_rescaled_D0057_c = loaded_objects_D0057_c['HG_ev1_rescaled']\n",
    "HG_ev1_evoke_D0057_c = loaded_objects_D0057_c['HG_ev1_evoke']\n",
    "HG_ev1_evoke_rescaled_D0057_c = loaded_objects_D0057_c['HG_ev1_evoke_rescaled']\n",
    "\n",
    "# HG_ev1_D0059_i = loaded_objects_D0059_i['HG_ev1']\n",
    "# HG_base_D0059_i = loaded_objects_D0059_i['HG_base']\n",
    "# HG_ev1_rescaled_D0059_i = loaded_objects_D0059_i['HG_ev1_rescaled']\n",
    "# HG_ev1_evoke_D0059_i = loaded_objects_D0059_i['HG_ev1_evoke']\n",
    "# HG_ev1_evoke_rescaled_D0059_i = loaded_objects_D0059_i['HG_ev1_evoke_rescaled']\n",
    "\n",
    "# HG_ev1_D0059_c = loaded_objects_D0059_c['HG_ev1']\n",
    "# HG_base_D0059_c = loaded_objects_D0059_c['HG_base']\n",
    "# HG_ev1_rescaled_D0059_c = loaded_objects_D0059_c['HG_ev1_rescaled']\n",
    "# HG_ev1_evoke_D0059_c = loaded_objects_D0059_c['HG_ev1_evoke']\n",
    "# HG_ev1_evoke_rescaled_D0059_c = loaded_objects_D0059_c['HG_ev1_evoke_rescaled']\n",
    "\n",
    "# HG_ev1_D0063_i = loaded_objects_D0063_i['HG_ev1']\n",
    "# HG_base_D0063_i = loaded_objects_D0063_i['HG_base']\n",
    "# HG_ev1_rescaled_D0063_i = loaded_objects_D0063_i['HG_ev1_rescaled']\n",
    "# HG_ev1_evoke_D0063_i = loaded_objects_D0063_i['HG_ev1_evoke']\n",
    "# HG_ev1_evoke_rescaled_D0063_i = loaded_objects_D0063_i['HG_ev1_evoke_rescaled']\n",
    "\n",
    "# HG_ev1_D0063_c = loaded_objects_D0063_c['HG_ev1']\n",
    "# HG_base_D0063_c = loaded_objects_D0063_c['HG_base']\n",
    "# HG_ev1_rescaled_D0063_c = loaded_objects_D0063_c['HG_ev1_rescaled']\n",
    "# HG_ev1_evoke_D0063_c = loaded_objects_D0063_c['HG_ev1_evoke']\n",
    "# HG_ev1_evoke_rescaled_D0063_c = loaded_objects_D0063_c['HG_ev1_evoke_rescaled']\n",
    "\n",
    "# HG_ev1_D0065_i = loaded_objects_D0065_i['HG_ev1']\n",
    "# HG_base_D0065_i = loaded_objects_D0065_i['HG_base']\n",
    "# HG_ev1_rescaled_D0065_i = loaded_objects_D0065_i['HG_ev1_rescaled']\n",
    "# HG_ev1_evoke_D0065_i = loaded_objects_D0065_i['HG_ev1_evoke']\n",
    "# HG_ev1_evoke_rescaled_D0065_i = loaded_objects_D0065_i['HG_ev1_evoke_rescaled']\n",
    "\n",
    "# HG_ev1_D0065_c = loaded_objects_D0065_c['HG_ev1']\n",
    "# HG_base_D0065_c = loaded_objects_D0065_c['HG_base']\n",
    "# HG_ev1_rescaled_D0065_c = loaded_objects_D0065_c['HG_ev1_rescaled']\n",
    "# HG_ev1_evoke_D0065_c = loaded_objects_D0065_c['HG_ev1_evoke']\n",
    "# HG_ev1_evoke_rescaled_D0065_c = loaded_objects_D0065_c['HG_ev1_evoke_rescaled']\n",
    "\n",
    "# HG_ev1_D0069_i = loaded_objects_D0069_i['HG_ev1']\n",
    "# HG_base_D0069_i = loaded_objects_D0069_i['HG_base']\n",
    "# HG_ev1_rescaled_D0069_i = loaded_objects_D0069_i['HG_ev1_rescaled']\n",
    "# HG_ev1_evoke_D0069_i = loaded_objects_D0069_i['HG_ev1_evoke']\n",
    "# HG_ev1_evoke_rescaled_D0069_i = loaded_objects_D0069_i['HG_ev1_evoke_rescaled']\n",
    "\n",
    "# HG_ev1_D0069_c = loaded_objects_D0069_c['HG_ev1']\n",
    "# HG_base_D0069_c = loaded_objects_D0069_c['HG_base']\n",
    "# HG_ev1_rescaled_D0069_c = loaded_objects_D0069_c['HG_ev1_rescaled']\n",
    "# HG_ev1_evoke_D0069_c = loaded_objects_D0069_c['HG_ev1_evoke']\n",
    "# HG_ev1_evoke_rescaled_D0069_c = loaded_objects_D0069_c['HG_ev1_evoke_rescaled']\n",
    "\n",
    "# HG_ev1_D0071_i = loaded_objects_D0071_i['HG_ev1']\n",
    "# HG_base_D0071_i = loaded_objects_D0071_i['HG_base']\n",
    "# HG_ev1_rescaled_D0071_i = loaded_objects_D0071_i['HG_ev1_rescaled']\n",
    "# HG_ev1_evoke_D0071_i = loaded_objects_D0071_i['HG_ev1_evoke']\n",
    "# HG_ev1_evoke_rescaled_D0071_i = loaded_objects_D0071_i['HG_ev1_evoke_rescaled']\n",
    "\n",
    "# HG_ev1_D0071_c = loaded_objects_D0071_c['HG_ev1']\n",
    "# HG_base_D0071_c = loaded_objects_D0071_c['HG_base']\n",
    "# HG_ev1_rescaled_D0071_c = loaded_objects_D0071_c['HG_ev1_rescaled']\n",
    "# HG_ev1_evoke_D0071_c = loaded_objects_D0071_c['HG_ev1_evoke']\n",
    "# HG_ev1_evoke_rescaled_D0071_c = loaded_objects_D0071_c['HG_ev1_evoke_rescaled']"
   ]
  },
  {
   "cell_type": "markdown",
   "metadata": {},
   "source": [
    "### load evoked and stuff for all subjects in a dictionary"
   ]
  },
  {
   "cell_type": "code",
   "execution_count": 53,
   "metadata": {},
   "outputs": [
    {
     "name": "stdout",
     "output_type": "stream",
     "text": [
      "Loading data for subject: D0057\n",
      "  Loading output: Stimulus_r25and75_fixationCrossBase_1sec_mirror\n",
      "Reading C:\\Users\\jz421\\Box\\CoganLab\\BIDS-1.1_GlobalLocal\\BIDS\\derivatives\\freqFilt\\figs\\D0057\\D0057_Stimulus_r25and75_fixationCrossBase_1sec_mirror_HG_ev1-epo.fif ...\n",
      "    Found the data of interest:\n",
      "        t =   -1000.00 ...    1500.00 ms\n",
      "        0 CTF compensation matrices available\n",
      "Not setting metadata\n",
      "224 matching events found\n",
      "No baseline correction applied\n",
      "0 projection items activated\n",
      "Reading C:\\Users\\jz421\\Box\\CoganLab\\BIDS-1.1_GlobalLocal\\BIDS\\derivatives\\freqFilt\\figs\\D0057\\D0057_Stimulus_r25and75_fixationCrossBase_1sec_mirror_HG_base-epo.fif ...\n",
      "    Found the data of interest:\n",
      "        t =   -1000.00 ...       0.00 ms\n",
      "        0 CTF compensation matrices available\n",
      "Not setting metadata\n",
      "448 matching events found\n",
      "No baseline correction applied\n",
      "0 projection items activated\n",
      "Reading C:\\Users\\jz421\\Box\\CoganLab\\BIDS-1.1_GlobalLocal\\BIDS\\derivatives\\freqFilt\\figs\\D0057\\D0057_Stimulus_r25and75_fixationCrossBase_1sec_mirror_HG_ev1_rescaled-epo.fif ...\n",
      "    Found the data of interest:\n",
      "        t =   -1000.00 ...    1500.00 ms\n",
      "        0 CTF compensation matrices available\n",
      "Not setting metadata\n",
      "224 matching events found\n",
      "No baseline correction applied\n",
      "0 projection items activated\n"
     ]
    },
    {
     "name": "stderr",
     "output_type": "stream",
     "text": [
      "C:\\Users\\jz421\\AppData\\Local\\Temp\\ipykernel_17404\\3746899948.py:16: FutureWarning: The current default of copy=False will change to copy=True in 1.7. Set the value of copy explicitly to avoid this warning\n",
      "  print(f\"    HG_ev1 shape: {mne_objects['HG_ev1'].get_data().shape}\")\n",
      "C:\\Users\\jz421\\AppData\\Local\\Temp\\ipykernel_17404\\3746899948.py:17: FutureWarning: The current default of copy=False will change to copy=True in 1.7. Set the value of copy explicitly to avoid this warning\n",
      "  print(f\"    HG_base shape: {mne_objects['HG_base'].get_data().shape}\")\n",
      "C:\\Users\\jz421\\AppData\\Local\\Temp\\ipykernel_17404\\3746899948.py:18: FutureWarning: The current default of copy=False will change to copy=True in 1.7. Set the value of copy explicitly to avoid this warning\n",
      "  print(f\"    HG_ev1_rescaled shape: {mne_objects['HG_ev1_rescaled'].get_data().shape}\")\n"
     ]
    },
    {
     "name": "stdout",
     "output_type": "stream",
     "text": [
      "    HG_ev1 shape: (224, 175, 2561)\n",
      "    HG_base shape: (448, 175, 1025)\n",
      "    HG_ev1_rescaled shape: (224, 175, 5121)\n",
      "    HG_ev1_evoke shape: (175, 2561)\n",
      "    HG_ev1_evoke_rescaled shape: (175, 5121)\n",
      "  Loading output: Stimulus_s25and75_fixationCrossBase_1sec_mirror\n",
      "Reading C:\\Users\\jz421\\Box\\CoganLab\\BIDS-1.1_GlobalLocal\\BIDS\\derivatives\\freqFilt\\figs\\D0057\\D0057_Stimulus_s25and75_fixationCrossBase_1sec_mirror_HG_ev1-epo.fif ...\n",
      "    Found the data of interest:\n",
      "        t =   -1000.00 ...    1500.00 ms\n",
      "        0 CTF compensation matrices available\n",
      "Not setting metadata\n",
      "220 matching events found\n",
      "No baseline correction applied\n",
      "0 projection items activated\n",
      "Reading C:\\Users\\jz421\\Box\\CoganLab\\BIDS-1.1_GlobalLocal\\BIDS\\derivatives\\freqFilt\\figs\\D0057\\D0057_Stimulus_s25and75_fixationCrossBase_1sec_mirror_HG_base-epo.fif ...\n",
      "    Found the data of interest:\n",
      "        t =   -1000.00 ...       0.00 ms\n",
      "        0 CTF compensation matrices available\n",
      "Not setting metadata\n",
      "448 matching events found\n",
      "No baseline correction applied\n",
      "0 projection items activated\n",
      "Reading C:\\Users\\jz421\\Box\\CoganLab\\BIDS-1.1_GlobalLocal\\BIDS\\derivatives\\freqFilt\\figs\\D0057\\D0057_Stimulus_s25and75_fixationCrossBase_1sec_mirror_HG_ev1_rescaled-epo.fif ...\n",
      "    Found the data of interest:\n",
      "        t =   -1000.00 ...    1500.00 ms\n",
      "        0 CTF compensation matrices available\n",
      "Not setting metadata\n",
      "220 matching events found\n",
      "No baseline correction applied\n",
      "0 projection items activated\n"
     ]
    },
    {
     "name": "stderr",
     "output_type": "stream",
     "text": [
      "C:\\Users\\jz421\\AppData\\Local\\Temp\\ipykernel_17404\\3746899948.py:16: FutureWarning: The current default of copy=False will change to copy=True in 1.7. Set the value of copy explicitly to avoid this warning\n",
      "  print(f\"    HG_ev1 shape: {mne_objects['HG_ev1'].get_data().shape}\")\n",
      "C:\\Users\\jz421\\AppData\\Local\\Temp\\ipykernel_17404\\3746899948.py:17: FutureWarning: The current default of copy=False will change to copy=True in 1.7. Set the value of copy explicitly to avoid this warning\n",
      "  print(f\"    HG_base shape: {mne_objects['HG_base'].get_data().shape}\")\n",
      "C:\\Users\\jz421\\AppData\\Local\\Temp\\ipykernel_17404\\3746899948.py:18: FutureWarning: The current default of copy=False will change to copy=True in 1.7. Set the value of copy explicitly to avoid this warning\n",
      "  print(f\"    HG_ev1_rescaled shape: {mne_objects['HG_ev1_rescaled'].get_data().shape}\")\n"
     ]
    },
    {
     "name": "stdout",
     "output_type": "stream",
     "text": [
      "    HG_ev1 shape: (220, 175, 2561)\n",
      "    HG_base shape: (448, 175, 1025)\n",
      "    HG_ev1_rescaled shape: (220, 175, 5121)\n",
      "    HG_ev1_evoke shape: (175, 2561)\n",
      "    HG_ev1_evoke_rescaled shape: (175, 5121)\n",
      "Loading data for subject: D0059\n",
      "  Loading output: Stimulus_r25and75_fixationCrossBase_1sec_mirror\n",
      "Reading C:\\Users\\jz421\\Box\\CoganLab\\BIDS-1.1_GlobalLocal\\BIDS\\derivatives\\freqFilt\\figs\\D0059\\D0059_Stimulus_r25and75_fixationCrossBase_1sec_mirror_HG_ev1-epo.fif ...\n",
      "    Found the data of interest:\n",
      "        t =   -1000.00 ...    1500.00 ms\n",
      "        0 CTF compensation matrices available\n",
      "Not setting metadata\n",
      "224 matching events found\n",
      "No baseline correction applied\n",
      "0 projection items activated\n",
      "Reading C:\\Users\\jz421\\Box\\CoganLab\\BIDS-1.1_GlobalLocal\\BIDS\\derivatives\\freqFilt\\figs\\D0059\\D0059_Stimulus_r25and75_fixationCrossBase_1sec_mirror_HG_base-epo.fif ...\n",
      "    Found the data of interest:\n",
      "        t =   -1000.00 ...       0.00 ms\n",
      "        0 CTF compensation matrices available\n",
      "Not setting metadata\n",
      "448 matching events found\n",
      "No baseline correction applied\n",
      "0 projection items activated\n",
      "Reading C:\\Users\\jz421\\Box\\CoganLab\\BIDS-1.1_GlobalLocal\\BIDS\\derivatives\\freqFilt\\figs\\D0059\\D0059_Stimulus_r25and75_fixationCrossBase_1sec_mirror_HG_ev1_rescaled-epo.fif ...\n",
      "    Found the data of interest:\n",
      "        t =   -1000.00 ...    1500.00 ms\n",
      "        0 CTF compensation matrices available\n",
      "Not setting metadata\n",
      "224 matching events found\n",
      "No baseline correction applied\n",
      "0 projection items activated\n"
     ]
    },
    {
     "name": "stderr",
     "output_type": "stream",
     "text": [
      "C:\\Users\\jz421\\AppData\\Local\\Temp\\ipykernel_17404\\3746899948.py:16: FutureWarning: The current default of copy=False will change to copy=True in 1.7. Set the value of copy explicitly to avoid this warning\n",
      "  print(f\"    HG_ev1 shape: {mne_objects['HG_ev1'].get_data().shape}\")\n",
      "C:\\Users\\jz421\\AppData\\Local\\Temp\\ipykernel_17404\\3746899948.py:17: FutureWarning: The current default of copy=False will change to copy=True in 1.7. Set the value of copy explicitly to avoid this warning\n",
      "  print(f\"    HG_base shape: {mne_objects['HG_base'].get_data().shape}\")\n",
      "C:\\Users\\jz421\\AppData\\Local\\Temp\\ipykernel_17404\\3746899948.py:18: FutureWarning: The current default of copy=False will change to copy=True in 1.7. Set the value of copy explicitly to avoid this warning\n",
      "  print(f\"    HG_ev1_rescaled shape: {mne_objects['HG_ev1_rescaled'].get_data().shape}\")\n"
     ]
    },
    {
     "name": "stdout",
     "output_type": "stream",
     "text": [
      "    HG_ev1 shape: (224, 178, 2561)\n",
      "    HG_base shape: (448, 178, 1025)\n",
      "    HG_ev1_rescaled shape: (224, 178, 5121)\n",
      "    HG_ev1_evoke shape: (178, 2561)\n",
      "    HG_ev1_evoke_rescaled shape: (178, 5121)\n",
      "  Loading output: Stimulus_s25and75_fixationCrossBase_1sec_mirror\n",
      "Reading C:\\Users\\jz421\\Box\\CoganLab\\BIDS-1.1_GlobalLocal\\BIDS\\derivatives\\freqFilt\\figs\\D0059\\D0059_Stimulus_s25and75_fixationCrossBase_1sec_mirror_HG_ev1-epo.fif ...\n",
      "    Found the data of interest:\n",
      "        t =   -1000.00 ...    1500.00 ms\n",
      "        0 CTF compensation matrices available\n",
      "Not setting metadata\n",
      "220 matching events found\n",
      "No baseline correction applied\n",
      "0 projection items activated\n",
      "Reading C:\\Users\\jz421\\Box\\CoganLab\\BIDS-1.1_GlobalLocal\\BIDS\\derivatives\\freqFilt\\figs\\D0059\\D0059_Stimulus_s25and75_fixationCrossBase_1sec_mirror_HG_base-epo.fif ...\n",
      "    Found the data of interest:\n",
      "        t =   -1000.00 ...       0.00 ms\n",
      "        0 CTF compensation matrices available\n",
      "Not setting metadata\n",
      "448 matching events found\n",
      "No baseline correction applied\n",
      "0 projection items activated\n",
      "Reading C:\\Users\\jz421\\Box\\CoganLab\\BIDS-1.1_GlobalLocal\\BIDS\\derivatives\\freqFilt\\figs\\D0059\\D0059_Stimulus_s25and75_fixationCrossBase_1sec_mirror_HG_ev1_rescaled-epo.fif ...\n",
      "    Found the data of interest:\n",
      "        t =   -1000.00 ...    1500.00 ms\n",
      "        0 CTF compensation matrices available\n",
      "Not setting metadata\n",
      "220 matching events found\n",
      "No baseline correction applied\n",
      "0 projection items activated\n"
     ]
    },
    {
     "name": "stderr",
     "output_type": "stream",
     "text": [
      "C:\\Users\\jz421\\AppData\\Local\\Temp\\ipykernel_17404\\3746899948.py:16: FutureWarning: The current default of copy=False will change to copy=True in 1.7. Set the value of copy explicitly to avoid this warning\n",
      "  print(f\"    HG_ev1 shape: {mne_objects['HG_ev1'].get_data().shape}\")\n",
      "C:\\Users\\jz421\\AppData\\Local\\Temp\\ipykernel_17404\\3746899948.py:17: FutureWarning: The current default of copy=False will change to copy=True in 1.7. Set the value of copy explicitly to avoid this warning\n",
      "  print(f\"    HG_base shape: {mne_objects['HG_base'].get_data().shape}\")\n",
      "C:\\Users\\jz421\\AppData\\Local\\Temp\\ipykernel_17404\\3746899948.py:18: FutureWarning: The current default of copy=False will change to copy=True in 1.7. Set the value of copy explicitly to avoid this warning\n",
      "  print(f\"    HG_ev1_rescaled shape: {mne_objects['HG_ev1_rescaled'].get_data().shape}\")\n"
     ]
    },
    {
     "name": "stdout",
     "output_type": "stream",
     "text": [
      "    HG_ev1 shape: (220, 178, 2561)\n",
      "    HG_base shape: (448, 178, 1025)\n",
      "    HG_ev1_rescaled shape: (220, 178, 5121)\n",
      "    HG_ev1_evoke shape: (178, 2561)\n",
      "    HG_ev1_evoke_rescaled shape: (178, 5121)\n",
      "Loading data for subject: D0063\n",
      "  Loading output: Stimulus_r25and75_fixationCrossBase_1sec_mirror\n",
      "Reading C:\\Users\\jz421\\Box\\CoganLab\\BIDS-1.1_GlobalLocal\\BIDS\\derivatives\\freqFilt\\figs\\D0063\\D0063_Stimulus_r25and75_fixationCrossBase_1sec_mirror_HG_ev1-epo.fif ...\n",
      "    Found the data of interest:\n",
      "        t =   -1000.00 ...    1500.00 ms\n",
      "        0 CTF compensation matrices available\n",
      "Not setting metadata\n",
      "224 matching events found\n",
      "No baseline correction applied\n",
      "0 projection items activated\n",
      "Reading C:\\Users\\jz421\\Box\\CoganLab\\BIDS-1.1_GlobalLocal\\BIDS\\derivatives\\freqFilt\\figs\\D0063\\D0063_Stimulus_r25and75_fixationCrossBase_1sec_mirror_HG_base-epo.fif ...\n",
      "    Found the data of interest:\n",
      "        t =   -1000.00 ...       0.00 ms\n",
      "        0 CTF compensation matrices available\n",
      "Not setting metadata\n",
      "448 matching events found\n",
      "No baseline correction applied\n",
      "0 projection items activated\n",
      "Reading C:\\Users\\jz421\\Box\\CoganLab\\BIDS-1.1_GlobalLocal\\BIDS\\derivatives\\freqFilt\\figs\\D0063\\D0063_Stimulus_r25and75_fixationCrossBase_1sec_mirror_HG_ev1_rescaled-epo.fif ...\n",
      "    Found the data of interest:\n",
      "        t =   -1000.00 ...    1500.00 ms\n",
      "        0 CTF compensation matrices available\n",
      "Not setting metadata\n",
      "224 matching events found\n",
      "No baseline correction applied\n",
      "0 projection items activated\n"
     ]
    },
    {
     "name": "stderr",
     "output_type": "stream",
     "text": [
      "C:\\Users\\jz421\\AppData\\Local\\Temp\\ipykernel_17404\\3746899948.py:16: FutureWarning: The current default of copy=False will change to copy=True in 1.7. Set the value of copy explicitly to avoid this warning\n",
      "  print(f\"    HG_ev1 shape: {mne_objects['HG_ev1'].get_data().shape}\")\n",
      "C:\\Users\\jz421\\AppData\\Local\\Temp\\ipykernel_17404\\3746899948.py:17: FutureWarning: The current default of copy=False will change to copy=True in 1.7. Set the value of copy explicitly to avoid this warning\n",
      "  print(f\"    HG_base shape: {mne_objects['HG_base'].get_data().shape}\")\n",
      "C:\\Users\\jz421\\AppData\\Local\\Temp\\ipykernel_17404\\3746899948.py:18: FutureWarning: The current default of copy=False will change to copy=True in 1.7. Set the value of copy explicitly to avoid this warning\n",
      "  print(f\"    HG_ev1_rescaled shape: {mne_objects['HG_ev1_rescaled'].get_data().shape}\")\n"
     ]
    },
    {
     "name": "stdout",
     "output_type": "stream",
     "text": [
      "    HG_ev1 shape: (224, 234, 2561)\n",
      "    HG_base shape: (448, 234, 1025)\n",
      "    HG_ev1_rescaled shape: (224, 234, 5121)\n",
      "    HG_ev1_evoke shape: (234, 2561)\n",
      "    HG_ev1_evoke_rescaled shape: (234, 5121)\n",
      "  Loading output: Stimulus_s25and75_fixationCrossBase_1sec_mirror\n",
      "Reading C:\\Users\\jz421\\Box\\CoganLab\\BIDS-1.1_GlobalLocal\\BIDS\\derivatives\\freqFilt\\figs\\D0063\\D0063_Stimulus_s25and75_fixationCrossBase_1sec_mirror_HG_ev1-epo.fif ...\n",
      "    Found the data of interest:\n",
      "        t =   -1000.00 ...    1500.00 ms\n",
      "        0 CTF compensation matrices available\n",
      "Not setting metadata\n",
      "220 matching events found\n",
      "No baseline correction applied\n",
      "0 projection items activated\n",
      "Reading C:\\Users\\jz421\\Box\\CoganLab\\BIDS-1.1_GlobalLocal\\BIDS\\derivatives\\freqFilt\\figs\\D0063\\D0063_Stimulus_s25and75_fixationCrossBase_1sec_mirror_HG_base-epo.fif ...\n",
      "    Found the data of interest:\n",
      "        t =   -1000.00 ...       0.00 ms\n",
      "        0 CTF compensation matrices available\n",
      "Not setting metadata\n",
      "448 matching events found\n",
      "No baseline correction applied\n",
      "0 projection items activated\n",
      "Reading C:\\Users\\jz421\\Box\\CoganLab\\BIDS-1.1_GlobalLocal\\BIDS\\derivatives\\freqFilt\\figs\\D0063\\D0063_Stimulus_s25and75_fixationCrossBase_1sec_mirror_HG_ev1_rescaled-epo.fif ...\n",
      "    Found the data of interest:\n",
      "        t =   -1000.00 ...    1500.00 ms\n",
      "        0 CTF compensation matrices available\n",
      "Not setting metadata\n",
      "220 matching events found\n",
      "No baseline correction applied\n",
      "0 projection items activated\n"
     ]
    },
    {
     "name": "stderr",
     "output_type": "stream",
     "text": [
      "C:\\Users\\jz421\\AppData\\Local\\Temp\\ipykernel_17404\\3746899948.py:16: FutureWarning: The current default of copy=False will change to copy=True in 1.7. Set the value of copy explicitly to avoid this warning\n",
      "  print(f\"    HG_ev1 shape: {mne_objects['HG_ev1'].get_data().shape}\")\n",
      "C:\\Users\\jz421\\AppData\\Local\\Temp\\ipykernel_17404\\3746899948.py:17: FutureWarning: The current default of copy=False will change to copy=True in 1.7. Set the value of copy explicitly to avoid this warning\n",
      "  print(f\"    HG_base shape: {mne_objects['HG_base'].get_data().shape}\")\n",
      "C:\\Users\\jz421\\AppData\\Local\\Temp\\ipykernel_17404\\3746899948.py:18: FutureWarning: The current default of copy=False will change to copy=True in 1.7. Set the value of copy explicitly to avoid this warning\n",
      "  print(f\"    HG_ev1_rescaled shape: {mne_objects['HG_ev1_rescaled'].get_data().shape}\")\n"
     ]
    },
    {
     "name": "stdout",
     "output_type": "stream",
     "text": [
      "    HG_ev1 shape: (220, 234, 2561)\n",
      "    HG_base shape: (448, 234, 1025)\n",
      "    HG_ev1_rescaled shape: (220, 234, 5121)\n",
      "    HG_ev1_evoke shape: (234, 2561)\n",
      "    HG_ev1_evoke_rescaled shape: (234, 5121)\n",
      "Loading data for subject: D0065\n",
      "  Loading output: Stimulus_r25and75_fixationCrossBase_1sec_mirror\n",
      "Reading C:\\Users\\jz421\\Box\\CoganLab\\BIDS-1.1_GlobalLocal\\BIDS\\derivatives\\freqFilt\\figs\\D0065\\D0065_Stimulus_r25and75_fixationCrossBase_1sec_mirror_HG_ev1-epo.fif ...\n",
      "    Found the data of interest:\n",
      "        t =   -1000.00 ...    1500.00 ms\n",
      "        0 CTF compensation matrices available\n",
      "Not setting metadata\n",
      "224 matching events found\n",
      "No baseline correction applied\n",
      "0 projection items activated\n",
      "Reading C:\\Users\\jz421\\Box\\CoganLab\\BIDS-1.1_GlobalLocal\\BIDS\\derivatives\\freqFilt\\figs\\D0065\\D0065_Stimulus_r25and75_fixationCrossBase_1sec_mirror_HG_base-epo.fif ...\n",
      "    Found the data of interest:\n",
      "        t =   -1000.00 ...       0.00 ms\n",
      "        0 CTF compensation matrices available\n",
      "Not setting metadata\n",
      "448 matching events found\n",
      "No baseline correction applied\n",
      "0 projection items activated\n",
      "Reading C:\\Users\\jz421\\Box\\CoganLab\\BIDS-1.1_GlobalLocal\\BIDS\\derivatives\\freqFilt\\figs\\D0065\\D0065_Stimulus_r25and75_fixationCrossBase_1sec_mirror_HG_ev1_rescaled-epo.fif ...\n",
      "    Found the data of interest:\n",
      "        t =   -1000.00 ...    1500.00 ms\n",
      "        0 CTF compensation matrices available\n",
      "Not setting metadata\n",
      "224 matching events found\n",
      "No baseline correction applied\n",
      "0 projection items activated\n"
     ]
    },
    {
     "name": "stderr",
     "output_type": "stream",
     "text": [
      "C:\\Users\\jz421\\AppData\\Local\\Temp\\ipykernel_17404\\3746899948.py:16: FutureWarning: The current default of copy=False will change to copy=True in 1.7. Set the value of copy explicitly to avoid this warning\n",
      "  print(f\"    HG_ev1 shape: {mne_objects['HG_ev1'].get_data().shape}\")\n",
      "C:\\Users\\jz421\\AppData\\Local\\Temp\\ipykernel_17404\\3746899948.py:17: FutureWarning: The current default of copy=False will change to copy=True in 1.7. Set the value of copy explicitly to avoid this warning\n",
      "  print(f\"    HG_base shape: {mne_objects['HG_base'].get_data().shape}\")\n",
      "C:\\Users\\jz421\\AppData\\Local\\Temp\\ipykernel_17404\\3746899948.py:18: FutureWarning: The current default of copy=False will change to copy=True in 1.7. Set the value of copy explicitly to avoid this warning\n",
      "  print(f\"    HG_ev1_rescaled shape: {mne_objects['HG_ev1_rescaled'].get_data().shape}\")\n"
     ]
    },
    {
     "name": "stdout",
     "output_type": "stream",
     "text": [
      "    HG_ev1 shape: (224, 216, 2561)\n",
      "    HG_base shape: (448, 216, 1025)\n",
      "    HG_ev1_rescaled shape: (224, 216, 5121)\n",
      "    HG_ev1_evoke shape: (216, 2561)\n",
      "    HG_ev1_evoke_rescaled shape: (216, 5121)\n",
      "  Loading output: Stimulus_s25and75_fixationCrossBase_1sec_mirror\n",
      "Reading C:\\Users\\jz421\\Box\\CoganLab\\BIDS-1.1_GlobalLocal\\BIDS\\derivatives\\freqFilt\\figs\\D0065\\D0065_Stimulus_s25and75_fixationCrossBase_1sec_mirror_HG_ev1-epo.fif ...\n",
      "    Found the data of interest:\n",
      "        t =   -1000.00 ...    1500.00 ms\n",
      "        0 CTF compensation matrices available\n",
      "Not setting metadata\n",
      "220 matching events found\n",
      "No baseline correction applied\n",
      "0 projection items activated\n",
      "Reading C:\\Users\\jz421\\Box\\CoganLab\\BIDS-1.1_GlobalLocal\\BIDS\\derivatives\\freqFilt\\figs\\D0065\\D0065_Stimulus_s25and75_fixationCrossBase_1sec_mirror_HG_base-epo.fif ...\n",
      "    Found the data of interest:\n",
      "        t =   -1000.00 ...       0.00 ms\n",
      "        0 CTF compensation matrices available\n",
      "Not setting metadata\n",
      "448 matching events found\n",
      "No baseline correction applied\n",
      "0 projection items activated\n",
      "Reading C:\\Users\\jz421\\Box\\CoganLab\\BIDS-1.1_GlobalLocal\\BIDS\\derivatives\\freqFilt\\figs\\D0065\\D0065_Stimulus_s25and75_fixationCrossBase_1sec_mirror_HG_ev1_rescaled-epo.fif ...\n",
      "    Found the data of interest:\n",
      "        t =   -1000.00 ...    1500.00 ms\n",
      "        0 CTF compensation matrices available\n",
      "Not setting metadata\n",
      "220 matching events found\n",
      "No baseline correction applied\n",
      "0 projection items activated\n"
     ]
    },
    {
     "name": "stderr",
     "output_type": "stream",
     "text": [
      "C:\\Users\\jz421\\AppData\\Local\\Temp\\ipykernel_17404\\3746899948.py:16: FutureWarning: The current default of copy=False will change to copy=True in 1.7. Set the value of copy explicitly to avoid this warning\n",
      "  print(f\"    HG_ev1 shape: {mne_objects['HG_ev1'].get_data().shape}\")\n",
      "C:\\Users\\jz421\\AppData\\Local\\Temp\\ipykernel_17404\\3746899948.py:17: FutureWarning: The current default of copy=False will change to copy=True in 1.7. Set the value of copy explicitly to avoid this warning\n",
      "  print(f\"    HG_base shape: {mne_objects['HG_base'].get_data().shape}\")\n",
      "C:\\Users\\jz421\\AppData\\Local\\Temp\\ipykernel_17404\\3746899948.py:18: FutureWarning: The current default of copy=False will change to copy=True in 1.7. Set the value of copy explicitly to avoid this warning\n",
      "  print(f\"    HG_ev1_rescaled shape: {mne_objects['HG_ev1_rescaled'].get_data().shape}\")\n"
     ]
    },
    {
     "name": "stdout",
     "output_type": "stream",
     "text": [
      "    HG_ev1 shape: (220, 216, 2561)\n",
      "    HG_base shape: (448, 216, 1025)\n",
      "    HG_ev1_rescaled shape: (220, 216, 5121)\n",
      "    HG_ev1_evoke shape: (216, 2561)\n",
      "    HG_ev1_evoke_rescaled shape: (216, 5121)\n",
      "Loading data for subject: D0069\n",
      "  Loading output: Stimulus_r25and75_fixationCrossBase_1sec_mirror\n",
      "Reading C:\\Users\\jz421\\Box\\CoganLab\\BIDS-1.1_GlobalLocal\\BIDS\\derivatives\\freqFilt\\figs\\D0069\\D0069_Stimulus_r25and75_fixationCrossBase_1sec_mirror_HG_ev1-epo.fif ...\n",
      "    Found the data of interest:\n",
      "        t =   -1000.00 ...    1500.00 ms\n",
      "        0 CTF compensation matrices available\n",
      "Not setting metadata\n",
      "224 matching events found\n",
      "No baseline correction applied\n",
      "0 projection items activated\n",
      "Reading C:\\Users\\jz421\\Box\\CoganLab\\BIDS-1.1_GlobalLocal\\BIDS\\derivatives\\freqFilt\\figs\\D0069\\D0069_Stimulus_r25and75_fixationCrossBase_1sec_mirror_HG_base-epo.fif ...\n",
      "    Found the data of interest:\n",
      "        t =   -1000.00 ...       0.00 ms\n",
      "        0 CTF compensation matrices available\n",
      "Not setting metadata\n",
      "448 matching events found\n",
      "No baseline correction applied\n",
      "0 projection items activated\n",
      "Reading C:\\Users\\jz421\\Box\\CoganLab\\BIDS-1.1_GlobalLocal\\BIDS\\derivatives\\freqFilt\\figs\\D0069\\D0069_Stimulus_r25and75_fixationCrossBase_1sec_mirror_HG_ev1_rescaled-epo.fif ...\n",
      "    Found the data of interest:\n",
      "        t =   -1000.00 ...    1500.00 ms\n",
      "        0 CTF compensation matrices available\n",
      "Not setting metadata\n",
      "224 matching events found\n",
      "No baseline correction applied\n",
      "0 projection items activated\n"
     ]
    },
    {
     "name": "stderr",
     "output_type": "stream",
     "text": [
      "C:\\Users\\jz421\\AppData\\Local\\Temp\\ipykernel_17404\\3746899948.py:16: FutureWarning: The current default of copy=False will change to copy=True in 1.7. Set the value of copy explicitly to avoid this warning\n",
      "  print(f\"    HG_ev1 shape: {mne_objects['HG_ev1'].get_data().shape}\")\n",
      "C:\\Users\\jz421\\AppData\\Local\\Temp\\ipykernel_17404\\3746899948.py:17: FutureWarning: The current default of copy=False will change to copy=True in 1.7. Set the value of copy explicitly to avoid this warning\n",
      "  print(f\"    HG_base shape: {mne_objects['HG_base'].get_data().shape}\")\n",
      "C:\\Users\\jz421\\AppData\\Local\\Temp\\ipykernel_17404\\3746899948.py:18: FutureWarning: The current default of copy=False will change to copy=True in 1.7. Set the value of copy explicitly to avoid this warning\n",
      "  print(f\"    HG_ev1_rescaled shape: {mne_objects['HG_ev1_rescaled'].get_data().shape}\")\n"
     ]
    },
    {
     "name": "stdout",
     "output_type": "stream",
     "text": [
      "    HG_ev1 shape: (224, 130, 2561)\n",
      "    HG_base shape: (448, 130, 1025)\n",
      "    HG_ev1_rescaled shape: (224, 130, 5121)\n",
      "    HG_ev1_evoke shape: (130, 2561)\n",
      "    HG_ev1_evoke_rescaled shape: (130, 5121)\n",
      "  Loading output: Stimulus_s25and75_fixationCrossBase_1sec_mirror\n",
      "Reading C:\\Users\\jz421\\Box\\CoganLab\\BIDS-1.1_GlobalLocal\\BIDS\\derivatives\\freqFilt\\figs\\D0069\\D0069_Stimulus_s25and75_fixationCrossBase_1sec_mirror_HG_ev1-epo.fif ...\n",
      "    Found the data of interest:\n",
      "        t =   -1000.00 ...    1500.00 ms\n",
      "        0 CTF compensation matrices available\n",
      "Not setting metadata\n",
      "220 matching events found\n",
      "No baseline correction applied\n",
      "0 projection items activated\n",
      "Reading C:\\Users\\jz421\\Box\\CoganLab\\BIDS-1.1_GlobalLocal\\BIDS\\derivatives\\freqFilt\\figs\\D0069\\D0069_Stimulus_s25and75_fixationCrossBase_1sec_mirror_HG_base-epo.fif ...\n",
      "    Found the data of interest:\n",
      "        t =   -1000.00 ...       0.00 ms\n",
      "        0 CTF compensation matrices available\n",
      "Not setting metadata\n",
      "448 matching events found\n",
      "No baseline correction applied\n",
      "0 projection items activated\n",
      "Reading C:\\Users\\jz421\\Box\\CoganLab\\BIDS-1.1_GlobalLocal\\BIDS\\derivatives\\freqFilt\\figs\\D0069\\D0069_Stimulus_s25and75_fixationCrossBase_1sec_mirror_HG_ev1_rescaled-epo.fif ...\n",
      "    Found the data of interest:\n",
      "        t =   -1000.00 ...    1500.00 ms\n",
      "        0 CTF compensation matrices available\n",
      "Not setting metadata\n",
      "220 matching events found\n",
      "No baseline correction applied\n",
      "0 projection items activated\n"
     ]
    },
    {
     "name": "stderr",
     "output_type": "stream",
     "text": [
      "C:\\Users\\jz421\\AppData\\Local\\Temp\\ipykernel_17404\\3746899948.py:16: FutureWarning: The current default of copy=False will change to copy=True in 1.7. Set the value of copy explicitly to avoid this warning\n",
      "  print(f\"    HG_ev1 shape: {mne_objects['HG_ev1'].get_data().shape}\")\n",
      "C:\\Users\\jz421\\AppData\\Local\\Temp\\ipykernel_17404\\3746899948.py:17: FutureWarning: The current default of copy=False will change to copy=True in 1.7. Set the value of copy explicitly to avoid this warning\n",
      "  print(f\"    HG_base shape: {mne_objects['HG_base'].get_data().shape}\")\n",
      "C:\\Users\\jz421\\AppData\\Local\\Temp\\ipykernel_17404\\3746899948.py:18: FutureWarning: The current default of copy=False will change to copy=True in 1.7. Set the value of copy explicitly to avoid this warning\n",
      "  print(f\"    HG_ev1_rescaled shape: {mne_objects['HG_ev1_rescaled'].get_data().shape}\")\n"
     ]
    },
    {
     "name": "stdout",
     "output_type": "stream",
     "text": [
      "    HG_ev1 shape: (220, 130, 2561)\n",
      "    HG_base shape: (448, 130, 1025)\n",
      "    HG_ev1_rescaled shape: (220, 130, 5121)\n",
      "    HG_ev1_evoke shape: (130, 2561)\n",
      "    HG_ev1_evoke_rescaled shape: (130, 5121)\n",
      "Loading data for subject: D0071\n",
      "  Loading output: Stimulus_r25and75_fixationCrossBase_1sec_mirror\n",
      "Reading C:\\Users\\jz421\\Box\\CoganLab\\BIDS-1.1_GlobalLocal\\BIDS\\derivatives\\freqFilt\\figs\\D0071\\D0071_Stimulus_r25and75_fixationCrossBase_1sec_mirror_HG_ev1-epo.fif ...\n",
      "    Found the data of interest:\n",
      "        t =   -1000.00 ...    1500.00 ms\n",
      "        0 CTF compensation matrices available\n",
      "Not setting metadata\n",
      "224 matching events found\n",
      "No baseline correction applied\n",
      "0 projection items activated\n",
      "Reading C:\\Users\\jz421\\Box\\CoganLab\\BIDS-1.1_GlobalLocal\\BIDS\\derivatives\\freqFilt\\figs\\D0071\\D0071_Stimulus_r25and75_fixationCrossBase_1sec_mirror_HG_base-epo.fif ...\n",
      "    Found the data of interest:\n",
      "        t =   -1000.00 ...       0.00 ms\n",
      "        0 CTF compensation matrices available\n",
      "Not setting metadata\n",
      "448 matching events found\n",
      "No baseline correction applied\n",
      "0 projection items activated\n",
      "Reading C:\\Users\\jz421\\Box\\CoganLab\\BIDS-1.1_GlobalLocal\\BIDS\\derivatives\\freqFilt\\figs\\D0071\\D0071_Stimulus_r25and75_fixationCrossBase_1sec_mirror_HG_ev1_rescaled-epo.fif ...\n",
      "    Found the data of interest:\n",
      "        t =   -1000.00 ...    1500.00 ms\n",
      "        0 CTF compensation matrices available\n",
      "Not setting metadata\n",
      "224 matching events found\n",
      "No baseline correction applied\n",
      "0 projection items activated\n"
     ]
    },
    {
     "name": "stderr",
     "output_type": "stream",
     "text": [
      "C:\\Users\\jz421\\AppData\\Local\\Temp\\ipykernel_17404\\3746899948.py:16: FutureWarning: The current default of copy=False will change to copy=True in 1.7. Set the value of copy explicitly to avoid this warning\n",
      "  print(f\"    HG_ev1 shape: {mne_objects['HG_ev1'].get_data().shape}\")\n",
      "C:\\Users\\jz421\\AppData\\Local\\Temp\\ipykernel_17404\\3746899948.py:17: FutureWarning: The current default of copy=False will change to copy=True in 1.7. Set the value of copy explicitly to avoid this warning\n",
      "  print(f\"    HG_base shape: {mne_objects['HG_base'].get_data().shape}\")\n",
      "C:\\Users\\jz421\\AppData\\Local\\Temp\\ipykernel_17404\\3746899948.py:18: FutureWarning: The current default of copy=False will change to copy=True in 1.7. Set the value of copy explicitly to avoid this warning\n",
      "  print(f\"    HG_ev1_rescaled shape: {mne_objects['HG_ev1_rescaled'].get_data().shape}\")\n"
     ]
    },
    {
     "name": "stdout",
     "output_type": "stream",
     "text": [
      "    HG_ev1 shape: (224, 157, 2561)\n",
      "    HG_base shape: (448, 157, 1025)\n",
      "    HG_ev1_rescaled shape: (224, 157, 5121)\n",
      "    HG_ev1_evoke shape: (157, 2561)\n",
      "    HG_ev1_evoke_rescaled shape: (157, 5121)\n",
      "  Loading output: Stimulus_s25and75_fixationCrossBase_1sec_mirror\n",
      "Reading C:\\Users\\jz421\\Box\\CoganLab\\BIDS-1.1_GlobalLocal\\BIDS\\derivatives\\freqFilt\\figs\\D0071\\D0071_Stimulus_s25and75_fixationCrossBase_1sec_mirror_HG_ev1-epo.fif ...\n",
      "    Found the data of interest:\n",
      "        t =   -1000.00 ...    1500.00 ms\n",
      "        0 CTF compensation matrices available\n",
      "Not setting metadata\n",
      "220 matching events found\n",
      "No baseline correction applied\n",
      "0 projection items activated\n",
      "Reading C:\\Users\\jz421\\Box\\CoganLab\\BIDS-1.1_GlobalLocal\\BIDS\\derivatives\\freqFilt\\figs\\D0071\\D0071_Stimulus_s25and75_fixationCrossBase_1sec_mirror_HG_base-epo.fif ...\n",
      "    Found the data of interest:\n",
      "        t =   -1000.00 ...       0.00 ms\n",
      "        0 CTF compensation matrices available\n",
      "Not setting metadata\n",
      "448 matching events found\n",
      "No baseline correction applied\n",
      "0 projection items activated\n",
      "Reading C:\\Users\\jz421\\Box\\CoganLab\\BIDS-1.1_GlobalLocal\\BIDS\\derivatives\\freqFilt\\figs\\D0071\\D0071_Stimulus_s25and75_fixationCrossBase_1sec_mirror_HG_ev1_rescaled-epo.fif ...\n",
      "    Found the data of interest:\n",
      "        t =   -1000.00 ...    1500.00 ms\n",
      "        0 CTF compensation matrices available\n",
      "Not setting metadata\n",
      "220 matching events found\n",
      "No baseline correction applied\n",
      "0 projection items activated\n"
     ]
    },
    {
     "name": "stderr",
     "output_type": "stream",
     "text": [
      "C:\\Users\\jz421\\AppData\\Local\\Temp\\ipykernel_17404\\3746899948.py:16: FutureWarning: The current default of copy=False will change to copy=True in 1.7. Set the value of copy explicitly to avoid this warning\n",
      "  print(f\"    HG_ev1 shape: {mne_objects['HG_ev1'].get_data().shape}\")\n",
      "C:\\Users\\jz421\\AppData\\Local\\Temp\\ipykernel_17404\\3746899948.py:17: FutureWarning: The current default of copy=False will change to copy=True in 1.7. Set the value of copy explicitly to avoid this warning\n",
      "  print(f\"    HG_base shape: {mne_objects['HG_base'].get_data().shape}\")\n",
      "C:\\Users\\jz421\\AppData\\Local\\Temp\\ipykernel_17404\\3746899948.py:18: FutureWarning: The current default of copy=False will change to copy=True in 1.7. Set the value of copy explicitly to avoid this warning\n",
      "  print(f\"    HG_ev1_rescaled shape: {mne_objects['HG_ev1_rescaled'].get_data().shape}\")\n"
     ]
    },
    {
     "name": "stdout",
     "output_type": "stream",
     "text": [
      "    HG_ev1 shape: (220, 157, 2561)\n",
      "    HG_base shape: (448, 157, 1025)\n",
      "    HG_ev1_rescaled shape: (220, 157, 5121)\n",
      "    HG_ev1_evoke shape: (157, 2561)\n",
      "    HG_ev1_evoke_rescaled shape: (157, 5121)\n",
      "Loading data for subject: D0077\n",
      "  Loading output: Stimulus_r25and75_fixationCrossBase_1sec_mirror\n",
      "Reading C:\\Users\\jz421\\Box\\CoganLab\\BIDS-1.1_GlobalLocal\\BIDS\\derivatives\\freqFilt\\figs\\D0077\\D0077_Stimulus_r25and75_fixationCrossBase_1sec_mirror_HG_ev1-epo.fif ...\n",
      "    Found the data of interest:\n",
      "        t =   -1000.00 ...    1500.00 ms\n",
      "        0 CTF compensation matrices available\n",
      "Not setting metadata\n",
      "224 matching events found\n",
      "No baseline correction applied\n",
      "0 projection items activated\n",
      "Reading C:\\Users\\jz421\\Box\\CoganLab\\BIDS-1.1_GlobalLocal\\BIDS\\derivatives\\freqFilt\\figs\\D0077\\D0077_Stimulus_r25and75_fixationCrossBase_1sec_mirror_HG_base-epo.fif ...\n",
      "    Found the data of interest:\n",
      "        t =   -1000.00 ...       0.00 ms\n",
      "        0 CTF compensation matrices available\n",
      "Not setting metadata\n",
      "448 matching events found\n",
      "No baseline correction applied\n",
      "0 projection items activated\n",
      "Reading C:\\Users\\jz421\\Box\\CoganLab\\BIDS-1.1_GlobalLocal\\BIDS\\derivatives\\freqFilt\\figs\\D0077\\D0077_Stimulus_r25and75_fixationCrossBase_1sec_mirror_HG_ev1_rescaled-epo.fif ...\n",
      "    Found the data of interest:\n",
      "        t =   -1000.00 ...    1500.00 ms\n",
      "        0 CTF compensation matrices available\n",
      "Not setting metadata\n",
      "224 matching events found\n",
      "No baseline correction applied\n",
      "0 projection items activated\n"
     ]
    },
    {
     "name": "stderr",
     "output_type": "stream",
     "text": [
      "C:\\Users\\jz421\\AppData\\Local\\Temp\\ipykernel_17404\\3746899948.py:16: FutureWarning: The current default of copy=False will change to copy=True in 1.7. Set the value of copy explicitly to avoid this warning\n",
      "  print(f\"    HG_ev1 shape: {mne_objects['HG_ev1'].get_data().shape}\")\n",
      "C:\\Users\\jz421\\AppData\\Local\\Temp\\ipykernel_17404\\3746899948.py:17: FutureWarning: The current default of copy=False will change to copy=True in 1.7. Set the value of copy explicitly to avoid this warning\n",
      "  print(f\"    HG_base shape: {mne_objects['HG_base'].get_data().shape}\")\n",
      "C:\\Users\\jz421\\AppData\\Local\\Temp\\ipykernel_17404\\3746899948.py:18: FutureWarning: The current default of copy=False will change to copy=True in 1.7. Set the value of copy explicitly to avoid this warning\n",
      "  print(f\"    HG_ev1_rescaled shape: {mne_objects['HG_ev1_rescaled'].get_data().shape}\")\n"
     ]
    },
    {
     "name": "stdout",
     "output_type": "stream",
     "text": [
      "    HG_ev1 shape: (224, 131, 2561)\n",
      "    HG_base shape: (448, 131, 1025)\n",
      "    HG_ev1_rescaled shape: (224, 131, 5121)\n",
      "    HG_ev1_evoke shape: (131, 2561)\n",
      "    HG_ev1_evoke_rescaled shape: (131, 5121)\n",
      "  Loading output: Stimulus_s25and75_fixationCrossBase_1sec_mirror\n",
      "Reading C:\\Users\\jz421\\Box\\CoganLab\\BIDS-1.1_GlobalLocal\\BIDS\\derivatives\\freqFilt\\figs\\D0077\\D0077_Stimulus_s25and75_fixationCrossBase_1sec_mirror_HG_ev1-epo.fif ...\n",
      "    Found the data of interest:\n",
      "        t =   -1000.00 ...    1500.00 ms\n",
      "        0 CTF compensation matrices available\n",
      "Not setting metadata\n",
      "220 matching events found\n",
      "No baseline correction applied\n",
      "0 projection items activated\n",
      "Reading C:\\Users\\jz421\\Box\\CoganLab\\BIDS-1.1_GlobalLocal\\BIDS\\derivatives\\freqFilt\\figs\\D0077\\D0077_Stimulus_s25and75_fixationCrossBase_1sec_mirror_HG_base-epo.fif ...\n",
      "    Found the data of interest:\n",
      "        t =   -1000.00 ...       0.00 ms\n",
      "        0 CTF compensation matrices available\n",
      "Not setting metadata\n",
      "448 matching events found\n",
      "No baseline correction applied\n",
      "0 projection items activated\n",
      "Reading C:\\Users\\jz421\\Box\\CoganLab\\BIDS-1.1_GlobalLocal\\BIDS\\derivatives\\freqFilt\\figs\\D0077\\D0077_Stimulus_s25and75_fixationCrossBase_1sec_mirror_HG_ev1_rescaled-epo.fif ...\n",
      "    Found the data of interest:\n",
      "        t =   -1000.00 ...    1500.00 ms\n",
      "        0 CTF compensation matrices available\n",
      "Not setting metadata\n",
      "220 matching events found\n",
      "No baseline correction applied\n",
      "0 projection items activated\n"
     ]
    },
    {
     "name": "stderr",
     "output_type": "stream",
     "text": [
      "C:\\Users\\jz421\\AppData\\Local\\Temp\\ipykernel_17404\\3746899948.py:16: FutureWarning: The current default of copy=False will change to copy=True in 1.7. Set the value of copy explicitly to avoid this warning\n",
      "  print(f\"    HG_ev1 shape: {mne_objects['HG_ev1'].get_data().shape}\")\n",
      "C:\\Users\\jz421\\AppData\\Local\\Temp\\ipykernel_17404\\3746899948.py:17: FutureWarning: The current default of copy=False will change to copy=True in 1.7. Set the value of copy explicitly to avoid this warning\n",
      "  print(f\"    HG_base shape: {mne_objects['HG_base'].get_data().shape}\")\n",
      "C:\\Users\\jz421\\AppData\\Local\\Temp\\ipykernel_17404\\3746899948.py:18: FutureWarning: The current default of copy=False will change to copy=True in 1.7. Set the value of copy explicitly to avoid this warning\n",
      "  print(f\"    HG_ev1_rescaled shape: {mne_objects['HG_ev1_rescaled'].get_data().shape}\")\n"
     ]
    },
    {
     "name": "stdout",
     "output_type": "stream",
     "text": [
      "    HG_ev1 shape: (220, 131, 2561)\n",
      "    HG_base shape: (448, 131, 1025)\n",
      "    HG_ev1_rescaled shape: (220, 131, 5121)\n",
      "    HG_ev1_evoke shape: (131, 2561)\n",
      "    HG_ev1_evoke_rescaled shape: (131, 5121)\n",
      "Loading data for subject: D0090\n",
      "  Loading output: Stimulus_r25and75_fixationCrossBase_1sec_mirror\n",
      "Reading C:\\Users\\jz421\\Box\\CoganLab\\BIDS-1.1_GlobalLocal\\BIDS\\derivatives\\freqFilt\\figs\\D0090\\D0090_Stimulus_r25and75_fixationCrossBase_1sec_mirror_HG_ev1-epo.fif ...\n",
      "    Found the data of interest:\n",
      "        t =   -1000.00 ...    1500.00 ms\n",
      "        0 CTF compensation matrices available\n",
      "Not setting metadata\n",
      "224 matching events found\n",
      "No baseline correction applied\n",
      "0 projection items activated\n",
      "Reading C:\\Users\\jz421\\Box\\CoganLab\\BIDS-1.1_GlobalLocal\\BIDS\\derivatives\\freqFilt\\figs\\D0090\\D0090_Stimulus_r25and75_fixationCrossBase_1sec_mirror_HG_base-epo.fif ...\n",
      "    Found the data of interest:\n",
      "        t =   -1000.00 ...       0.00 ms\n",
      "        0 CTF compensation matrices available\n",
      "Not setting metadata\n",
      "448 matching events found\n",
      "No baseline correction applied\n",
      "0 projection items activated\n",
      "Reading C:\\Users\\jz421\\Box\\CoganLab\\BIDS-1.1_GlobalLocal\\BIDS\\derivatives\\freqFilt\\figs\\D0090\\D0090_Stimulus_r25and75_fixationCrossBase_1sec_mirror_HG_ev1_rescaled-epo.fif ...\n",
      "    Found the data of interest:\n",
      "        t =   -1000.00 ...    1500.00 ms\n",
      "        0 CTF compensation matrices available\n",
      "Not setting metadata\n",
      "224 matching events found\n",
      "No baseline correction applied\n",
      "0 projection items activated\n"
     ]
    },
    {
     "name": "stderr",
     "output_type": "stream",
     "text": [
      "C:\\Users\\jz421\\AppData\\Local\\Temp\\ipykernel_17404\\3746899948.py:16: FutureWarning: The current default of copy=False will change to copy=True in 1.7. Set the value of copy explicitly to avoid this warning\n",
      "  print(f\"    HG_ev1 shape: {mne_objects['HG_ev1'].get_data().shape}\")\n",
      "C:\\Users\\jz421\\AppData\\Local\\Temp\\ipykernel_17404\\3746899948.py:17: FutureWarning: The current default of copy=False will change to copy=True in 1.7. Set the value of copy explicitly to avoid this warning\n",
      "  print(f\"    HG_base shape: {mne_objects['HG_base'].get_data().shape}\")\n",
      "C:\\Users\\jz421\\AppData\\Local\\Temp\\ipykernel_17404\\3746899948.py:18: FutureWarning: The current default of copy=False will change to copy=True in 1.7. Set the value of copy explicitly to avoid this warning\n",
      "  print(f\"    HG_ev1_rescaled shape: {mne_objects['HG_ev1_rescaled'].get_data().shape}\")\n"
     ]
    },
    {
     "name": "stdout",
     "output_type": "stream",
     "text": [
      "    HG_ev1 shape: (224, 157, 2561)\n",
      "    HG_base shape: (448, 157, 1025)\n",
      "    HG_ev1_rescaled shape: (224, 157, 5121)\n",
      "    HG_ev1_evoke shape: (157, 2561)\n",
      "    HG_ev1_evoke_rescaled shape: (157, 5121)\n",
      "  Loading output: Stimulus_s25and75_fixationCrossBase_1sec_mirror\n",
      "Reading C:\\Users\\jz421\\Box\\CoganLab\\BIDS-1.1_GlobalLocal\\BIDS\\derivatives\\freqFilt\\figs\\D0090\\D0090_Stimulus_s25and75_fixationCrossBase_1sec_mirror_HG_ev1-epo.fif ...\n",
      "    Found the data of interest:\n",
      "        t =   -1000.00 ...    1500.00 ms\n",
      "        0 CTF compensation matrices available\n",
      "Not setting metadata\n",
      "220 matching events found\n",
      "No baseline correction applied\n",
      "0 projection items activated\n",
      "Reading C:\\Users\\jz421\\Box\\CoganLab\\BIDS-1.1_GlobalLocal\\BIDS\\derivatives\\freqFilt\\figs\\D0090\\D0090_Stimulus_s25and75_fixationCrossBase_1sec_mirror_HG_base-epo.fif ...\n",
      "    Found the data of interest:\n",
      "        t =   -1000.00 ...       0.00 ms\n",
      "        0 CTF compensation matrices available\n",
      "Not setting metadata\n",
      "448 matching events found\n",
      "No baseline correction applied\n",
      "0 projection items activated\n",
      "Reading C:\\Users\\jz421\\Box\\CoganLab\\BIDS-1.1_GlobalLocal\\BIDS\\derivatives\\freqFilt\\figs\\D0090\\D0090_Stimulus_s25and75_fixationCrossBase_1sec_mirror_HG_ev1_rescaled-epo.fif ...\n",
      "    Found the data of interest:\n",
      "        t =   -1000.00 ...    1500.00 ms\n",
      "        0 CTF compensation matrices available\n",
      "Not setting metadata\n",
      "220 matching events found\n",
      "No baseline correction applied\n",
      "0 projection items activated\n"
     ]
    },
    {
     "name": "stderr",
     "output_type": "stream",
     "text": [
      "C:\\Users\\jz421\\AppData\\Local\\Temp\\ipykernel_17404\\3746899948.py:16: FutureWarning: The current default of copy=False will change to copy=True in 1.7. Set the value of copy explicitly to avoid this warning\n",
      "  print(f\"    HG_ev1 shape: {mne_objects['HG_ev1'].get_data().shape}\")\n",
      "C:\\Users\\jz421\\AppData\\Local\\Temp\\ipykernel_17404\\3746899948.py:17: FutureWarning: The current default of copy=False will change to copy=True in 1.7. Set the value of copy explicitly to avoid this warning\n",
      "  print(f\"    HG_base shape: {mne_objects['HG_base'].get_data().shape}\")\n",
      "C:\\Users\\jz421\\AppData\\Local\\Temp\\ipykernel_17404\\3746899948.py:18: FutureWarning: The current default of copy=False will change to copy=True in 1.7. Set the value of copy explicitly to avoid this warning\n",
      "  print(f\"    HG_ev1_rescaled shape: {mne_objects['HG_ev1_rescaled'].get_data().shape}\")\n"
     ]
    },
    {
     "name": "stdout",
     "output_type": "stream",
     "text": [
      "    HG_ev1 shape: (220, 157, 2561)\n",
      "    HG_base shape: (448, 157, 1025)\n",
      "    HG_ev1_rescaled shape: (220, 157, 5121)\n",
      "    HG_ev1_evoke shape: (157, 2561)\n",
      "    HG_ev1_evoke_rescaled shape: (157, 5121)\n"
     ]
    }
   ],
   "source": [
    "import os\n",
    "import mne\n",
    "import numpy as np\n",
    "\n",
    "def create_subjects_mne_objects_dict(subjects, output_names, task, LAB_root=None):\n",
    "    subjects_mne_objects = {}\n",
    "\n",
    "    for sub in subjects:\n",
    "        print(f\"Loading data for subject: {sub}\")  # Debugging print\n",
    "        sub_mne_objects = {}\n",
    "        for output_name in output_names:\n",
    "            print(f\"  Loading output: {output_name}\")  # Debugging print\n",
    "            mne_objects = load_mne_objects(sub, output_name, task, LAB_root)\n",
    "\n",
    "            # Debugging prints for data shapes\n",
    "            print(f\"    HG_ev1 shape: {mne_objects['HG_ev1'].get_data().shape}\")\n",
    "            print(f\"    HG_base shape: {mne_objects['HG_base'].get_data().shape}\")\n",
    "            print(f\"    HG_ev1_rescaled shape: {mne_objects['HG_ev1_rescaled'].get_data().shape}\")\n",
    "            print(f\"    HG_ev1_evoke shape: {mne_objects['HG_ev1_evoke'].data.shape}\")\n",
    "            print(f\"    HG_ev1_evoke_rescaled shape: {mne_objects['HG_ev1_evoke_rescaled'].data.shape}\")\n",
    "\n",
    "            sub_mne_objects[output_name] = mne_objects\n",
    "        subjects_mne_objects[sub] = sub_mne_objects\n",
    "\n",
    "    return subjects_mne_objects\n",
    "\n",
    "# Example usage\n",
    "subjects = ['D0057', 'D0059', 'D0063', 'D0065', 'D0069', 'D0071', 'D0077', 'D0090']\n",
    "output_names = [\"Stimulus_r25and75_fixationCrossBase_1sec_mirror\", \"Stimulus_s25and75_fixationCrossBase_1sec_mirror\"]\n",
    "task = 'GlobalLocal'\n",
    "\n",
    "subjects_mne_objects = create_subjects_mne_objects_dict(subjects, output_names, task)"
   ]
  },
  {
   "cell_type": "code",
   "execution_count": 54,
   "metadata": {},
   "outputs": [
    {
     "name": "stdout",
     "output_type": "stream",
     "text": [
      "['RAI1', 'RAI2', 'RAI3', 'RAI4', 'RAI5', 'RAI6', 'RAI7', 'RAI8', 'RAI9', 'RAI10', 'RAI11', 'RAI12', 'RAI13', 'RAI14', 'RAI15', 'RAI16', 'RPI1', 'RPI2', 'RPI3', 'RPI4', 'RPI5', 'RPI6', 'RPI7', 'RPI8', 'RPI9', 'RPI10', 'RPI11', 'RPI12', 'RPI13', 'RPI14', 'RPI15', 'RAIF1', 'RAIF2', 'RAIF3', 'RAIF4', 'RAIF5', 'RAIF6', 'RAIF7', 'RAIF8', 'RAIF9', 'RAIF10', 'RAIF11', 'RAIF12', 'RAIF13', 'RAIF14', 'RAMF1', 'RAMF2', 'RAMF3', 'RAMF4', 'RAMF5', 'RAMF6', 'RAMF7', 'RAMF8', 'RAMF9', 'RAMF10', 'RAMF11', 'RAMF12', 'RAMF13', 'RAMF14', 'RMMF1', 'RMMF2', 'RMMF3', 'RMMF4', 'RMMF5', 'RMMF6', 'RMMF7', 'RMMF8', 'RMMF9', 'RMMF10', 'RMMF11', 'RMMF12', 'RMMF13', 'RMMF14', 'RMMF15', 'RMMF16', 'RPIP1', 'RPIP2', 'RPIP3', 'RPIP4', 'RPIP5', 'RPIP6', 'RPIP7', 'RPIP8', 'RPIP9', 'RPIP10', 'RPIP11', 'RPIP12', 'RPIP13', 'RPIP14', 'RAST1', 'RAST2', 'RAST3', 'RAST4', 'RAST5', 'RAST6', 'RAST7', 'RAST8', 'RAIT1', 'RAIT2', 'RAIT3', 'RAIT4', 'RAIT5', 'RAIT6', 'RAIT7', 'RAIT8', 'RAIT9', 'RAIT10', 'RAMT1', 'RAMT2', 'RAMT3', 'RAMT4', 'RAMT5', 'RAMT6', 'RAMT7', 'RAMT9', 'RAMT10', 'RAMT11', 'RAMT12', 'RMMT1', 'RMMT2', 'RMMT3', 'RMMT4', 'RMMT5', 'RMMT6', 'RMMT7', 'RMMT8', 'RMMT9', 'RMMT10', 'RMMT11', 'RMMT12', 'RPMT1', 'RPMT2', 'RPMT3', 'RPMT4', 'RPMT5', 'RPMT6', 'RPMT7', 'RPMT8', 'RPMT9', 'RPMT10', 'RPIT1', 'RPIT2', 'RPIT3', 'RPIT4', 'RPIT5', 'RPIT6', 'RPIT7', 'RPIT8', 'RPIT9', 'RPIT10', 'RPIT11', 'RPIT12', 'LAMT1', 'LAMT2', 'LAMT3', 'LAMT4', 'LAMT5', 'LAMT6', 'LAMT7', 'LAMT8', 'LAMT9', 'LAMT10', 'LAMT11', 'LMMT1', 'LMMT2', 'LMMT3', 'LMMT4', 'LMMT5', 'LMMT6', 'LMMT7', 'LMMT8', 'LMMT9', 'LMMT10', 'LMMT11', 'LMMT12']\n",
      "['LMSF1', 'LMSF2', 'LMSF3', 'LMSF4', 'LMSF5', 'LMSF6', 'LMSF7', 'LMSF8', 'LMSF9', 'LMSF10', 'LMSF11', 'LMSF12', 'LMSF13', 'LMSF14', 'LMSF15', 'LMSF16', 'LMMF1', 'LMMF2', 'LMMF3', 'LMMF4', 'LMMF5', 'LMMF6', 'LMMF7', 'LMMF8', 'LMMF9', 'LMMF10', 'LMMF11', 'LMMF12', 'LMIF1', 'LMIF2', 'LMIF3', 'LMIF4', 'LMIF5', 'LMIF6', 'LMIF7', 'LMIF8', 'LPSF1', 'LPSF2', 'LPSF3', 'LPSF4', 'LPSF5', 'LPSF6', 'LPSF7', 'LPSF8', 'LPSF9', 'LPSF10', 'LPSF11', 'LPSF12', 'LPSF13', 'LPSF14', 'LPSF15', 'LPSF16', 'LMPF1', 'LMPF2', 'LMPF3', 'LMPF4', 'LMPF5', 'LMPF6', 'LMPF7', 'LMPF8', 'LMPF9', 'LMPF10', 'LMPF11', 'LMPF12', 'LMPF13', 'LMPF14', 'LMPF16', 'LPIF1', 'LPIF2', 'LPIF3', 'LPIF4', 'LPIF5', 'LPIF6', 'LPIF7', 'LPIF8', 'LPIF9', 'LPIF10', 'LASP1', 'LASP2', 'LASP4', 'LASP7', 'LASP8', 'LASP9', 'LASP10', 'LASP11', 'LASP12', 'LASP13', 'LASP14', 'LASP15', 'LASP16', 'LAMP1', 'LAMP2', 'LAMP3', 'LAMP4', 'LAMP5', 'LAMP6', 'LAMP7', 'LAMP8', 'LAMP9', 'LAMP10', 'LAMP11', 'LAMP12', 'LAMP13', 'LAMP14', 'LAMP15', 'LAMP16', 'LAIP1', 'LAIP2', 'LAIP3', 'LAIP4', 'LAIP5', 'LAIP6', 'LAIP7', 'LAIP8', 'LAIP9', 'LAIP10', 'LAIP11', 'LAIP12', 'LAIP13', 'LAIP14', 'LAIP15', 'LAIP16', 'LAT1', 'LAT2', 'LAT3', 'LAT4', 'LAT5', 'LAT6', 'LAT7', 'LAT8', 'LAT9', 'LAT10', 'LAT11', 'LAT12', 'LAT13', 'LAT14', 'LMMT1', 'LMMT2', 'LMMT3', 'LMMT4', 'LMMT5', 'LMMT6', 'LMMT7', 'LMMT8', 'LMMT9', 'LMMT10', 'LMMT11', 'LMMT12', 'LMMT13', 'LMMT14', 'LMPT1', 'LMPT3', 'LMPT4', 'LMPT5', 'LMPT6', 'LMPT7', 'LMPT8', 'LMPT9', 'LMPT10', 'LMPT11', 'LMPT12', 'LMPT13', 'LMPT14', 'LPT1', 'LPT2', 'LPT3', 'LPT4', 'LPT5', 'LPT6', 'LPT7', 'LPT8', 'LPT9', 'LPT10', 'LPT11', 'LPT12', 'LPT13', 'LPT14', 'LPT15']\n",
      "['LOF1', 'LOF2', 'LOF3', 'LOF4', 'LOF5', 'LOF6', 'LOF7', 'LOF8', 'LOF9', 'LOF11', 'LOF12', 'LOF13', 'LOF15', 'LASF1', 'LASF2', 'LASF3', 'LASF4', 'LASF5', 'LASF6', 'LASF7', 'LASF8', 'LASF9', 'LASF10', 'LASF11', 'LASF12', 'LASF13', 'LASF14', 'LASF15', 'LASF16', 'LMSF1', 'LMSF2', 'LMSF3', 'LMSF4', 'LMSF5', 'LMSF6', 'LMSF7', 'LMSF8', 'LMSF9', 'LMSF10', 'LMSF11', 'LMSF12', 'LPSF1', 'LPSF2', 'LPSF3', 'LPSF4', 'LPSF5', 'LPSF6', 'LPSF7', 'LPSF8', 'LPSF9', 'LPSF10', 'LPSF11', 'LPSF12', 'LMMT1', 'LMMT2', 'LMMT3', 'LMMT4', 'LMMT5', 'LMMT6', 'LMMT7', 'LMMT8', 'LMMT9', 'LMMT10', 'LMMT11', 'LMMT12', 'LMMT13', 'LMMT14', 'ROF1', 'ROF3', 'ROF4', 'ROF5', 'ROF6', 'ROF7', 'ROF8', 'ROF9', 'ROF10', 'ROF11', 'ROF12', 'ROF13', 'ROF14', 'ROF15', 'ROF16', 'RAI1', 'RAI2', 'RAI3', 'RAI4', 'RAI5', 'RAI6', 'RAI7', 'RAI8', 'RAI9', 'RAI10', 'RAI11', 'RAI12', 'RAI13', 'RAI14', 'RAI15', 'RAI16', 'RASF1', 'RASF2', 'RASF3', 'RASF4', 'RASF5', 'RASF6', 'RASF7', 'RASF8', 'RASF9', 'RASF10', 'RASF11', 'RASF12', 'RASF13', 'RASF14', 'RASF15', 'RASF16', 'RMSF1', 'RMSF2', 'RMSF3', 'RMSF4', 'RMSF5', 'RMSF6', 'RMSF7', 'RMSF8', 'RMSF9', 'RMSF10', 'RMSF11', 'RMSF12', 'RPSF1', 'RPSF2', 'RPSF3', 'RPSF4', 'RPSF5', 'RPSF6', 'RPSF7', 'RPSF8', 'RPSF9', 'RPSF10', 'RPSF11', 'RPSF12', 'RPSF13', 'RPSF14', 'RAMF1', 'RAMF2', 'RAMF3', 'RAMF5', 'RAMF6', 'RAMF7', 'RAMF8', 'RAMF9', 'RAMF10', 'RAMF11', 'RAMF12', 'RAMF13', 'RAMF14', 'RMMF1', 'RMMF2', 'RMMF3', 'RMMF4', 'RMMF5', 'RMMF6', 'RMMF7', 'RMMF8', 'RMMF9', 'RMMF10', 'RMMF11', 'RMMF12', 'RMMF13', 'RMMF14', 'RAT1', 'RAT2', 'RAT3', 'RAT4', 'RAT5', 'RAT6', 'RAT7', 'RAT8', 'RAT9', 'RAT10', 'RAT11', 'RAT12', 'RAT13', 'RAT14', 'RAMT1', 'RAMT2', 'RAMT3', 'RAMT4', 'RAMT5', 'RAMT6', 'RAMT7', 'RAMT8', 'RAMT9', 'RAMT10', 'RAMT11', 'RAMT12', 'RMMT1', 'RMMT2', 'RMMT3', 'RMMT4', 'RMMT5', 'RMMT6', 'RMMT7', 'RMMT8', 'RMMT9', 'RMMT10', 'RMMT11', 'RMMT12', 'RMMT13', 'RMIT1', 'RMIT2', 'RMIT3', 'RMIT4', 'RMIT5', 'RMIT6', 'RMIT7', 'RMIT8', 'RMIT9', 'RMIT10', 'RMIT11', 'RMIT12', 'RMIT13', 'RMIT14', 'RPIT1', 'RPIT2', 'RPIT3', 'RPIT4', 'RPIT5', 'RPIT6', 'RPIT7', 'RPIT8', 'RPIT9', 'RPIT10', 'RPIT11', 'RPIT12', 'RPIT13', 'RPIT14']\n",
      "['ROF1', 'ROF2', 'ROF3', 'ROF4', 'ROF5', 'ROF6', 'ROF7', 'ROF8', 'ROF9', 'ROF10', 'ROF11', 'ROF12', 'ROF13', 'ROF14', 'ROF15', 'ROF16', 'RASF1', 'RASF2', 'RASF3', 'RASF4', 'RASF5', 'RASF6', 'RASF7', 'RASF8', 'RASF9', 'RASF10', 'RASF11', 'RASF12', 'RASF13', 'RASF14', 'RASF15', 'RASF16', 'RMSF1', 'RMSF2', 'RMSF3', 'RMSF4', 'RMSF5', 'RMSF6', 'RMSF7', 'RMSF8', 'RMSF9', 'RMSF10', 'RMSF11', 'RMSF12', 'RMSF13', 'RMSF14', 'RPIF1', 'RPIF2', 'RPIF4', 'RPIF5', 'RPIF6', 'RPIF7', 'RPIF8', 'RPIF9', 'RPIF10', 'RPIF11', 'RPIF12', 'RPIF13', 'RPIF14', 'RPIF15', 'RPIF16', 'RI1', 'RI2', 'RI3', 'RI4', 'RI5', 'RI6', 'RI7', 'RI8', 'RI9', 'RI10', 'RI11', 'RI12', 'RI13', 'RI14', 'RI15', 'RI16', 'RMMP1', 'RMMP2', 'RMMP3', 'RMMP4', 'RMMP5', 'RMMP6', 'RMMP7', 'RMMP8', 'RMMP9', 'RMMP10', 'RMMP11', 'RMMP12', 'RMMP13', 'RMMP14', 'RMMP15', 'RMMP16', 'RPMP1', 'RPMP2', 'RPMP3', 'RPMP4', 'RPMP5', 'RPMP6', 'RPMP7', 'RPMP8', 'RPMP9', 'RPMP10', 'RPMP11', 'RPMP12', 'RPMP13', 'RPMP14', 'RPMP15', 'RPMP16', 'RMIP1', 'RMIP2', 'RMIP3', 'RMIP4', 'RMIP5', 'RMIP6', 'RMIP7', 'RMIP8', 'RMIP9', 'RMIP10', 'RMIP11', 'RMIP12', 'RPIP1', 'RPIP2', 'RPIP3', 'RPIP4', 'RPIP5', 'RPIP6', 'RPIP7', 'RPIP8', 'RPIP9', 'RPIP10', 'RPIP11', 'RPIP12', 'RPIP13', 'RPIP14', 'RPIP15', 'RPIP16', 'RPST1', 'RPST2', 'RPST3', 'RPST4', 'RPST5', 'RPST6', 'RPST7', 'RPST8', 'RPST9', 'RPST10', 'RAMT1', 'RAMT2', 'RAMT3', 'RAMT4', 'RAMT5', 'RAMT6', 'RAMT7', 'RAMT8', 'RAMT9', 'RAMT10', 'RAMT11', 'RAMT12', 'RAMT13', 'RAMT14', 'RAMT16', 'RMMT1', 'RMMT2', 'RMMT3', 'RMMT4', 'RMMT5', 'RMMT6', 'RMMT7', 'RMMT9', 'RMMT10', 'RMMT11', 'RMMT12', 'RMMT13', 'RMMT14', 'RMMT15', 'RMMT16', 'RPMT1', 'RPMT2', 'RPMT3', 'RPMT4', 'RPMT5', 'RPMT6', 'RPMT7', 'RPMT8', 'RPMT9', 'RPMT10', 'RPMT11', 'RPMT12', 'RPMT13', 'RPMT14', 'RPMT15', 'RPMT16', 'RAIO1', 'RAIO2', 'RAIO3', 'RAIO4', 'RAIO5', 'RAIO6', 'RAIO7', 'RAIO8', 'RAIO10', 'RPIT1', 'RPIT2', 'RPIT3', 'RPIT4', 'RPIT5', 'RPIT6', 'RPIT7', 'RPIT8', 'RPIT9', 'RPIT10', 'RPIT11', 'RPIT12', 'RPIT13', 'RPIT14']\n",
      "['LOF1', 'LOF2', 'LOF3', 'LOF4', 'LOF5', 'LOF6', 'LOF7', 'LOF8', 'LOF9', 'LOF10', 'LPS1', 'LPS2', 'LPS3', 'LPS4', 'LPS5', 'LPS6', 'LPS7', 'LPS8', 'LPS9', 'LPS10', 'LPS11', 'LPS12', 'LPS13', 'LPS14', 'LTAS1', 'LTAS2', 'LTAS3', 'LTAS4', 'LTAS5', 'LTAS6', 'LTAS7', 'LTAS8', 'LTAS10', 'LTMS1', 'LTMS2', 'LTMS3', 'LTMS4', 'LTMS5', 'LTMS6', 'LTMS7', 'LTMS8', 'LTMS9', 'LTMS10', 'LTMS12', 'LTPS1', 'LTPS2', 'LTPS3', 'LTPS4', 'LTPS5', 'LTPS6', 'LTPS7', 'LTPS8', 'LTPS9', 'LTPS10', 'LPM1', 'LPM2', 'LPM3', 'LPM4', 'LPM5', 'LPM6', 'LPM7', 'LPM8', 'LPM9', 'LPM10', 'LPM11', 'LPM12', 'LTAM1', 'LTAM2', 'LTAM3', 'LTAM4', 'LTAM5', 'LTAM6', 'LTAM7', 'LTAM8', 'LTAM9', 'LTAM10', 'LTMM1', 'LTMM2', 'LTMM3', 'LTMM4', 'LTMM5', 'LTMM6', 'LTMM7', 'LTMM8', 'LTMM9', 'LTMM10', 'LTPM1', 'LTPM2', 'LTPM3', 'LTPM4', 'LTPM5', 'LTPM6', 'LTPM7', 'LTPM8', 'LTPM9', 'LTPM10', 'LTAI1', 'LTAI2', 'LTAI3', 'LTAI4', 'LTAI5', 'LTAI6', 'LTAI7', 'LTAI8', 'LTAI9', 'LTAI10', 'LTAI11', 'LTAI12', 'LTAI13', 'LTAI14', 'LTMI1', 'LTMI2', 'LTMI3', 'LTMI4', 'LTMI5', 'LTMI6', 'LTMI7', 'LTMI8', 'LTMI9', 'LTMI10', 'LTPI1', 'LTPI2', 'LTPI3', 'LTPI4', 'LTPI5', 'LTPI6', 'LTPI7', 'LTPI8', 'LTPI9', 'LTPI10']\n",
      "['RFO1', 'RFO2', 'RFO3', 'RFO4', 'RFO5', 'RFO6', 'RFO7', 'RFO8', 'RFO9', 'RFO10', 'RFO11', 'RFO12', 'RFO13', 'RFO14', 'RFO16', 'RIA1', 'RIA2', 'RIA3', 'RIA4', 'RIA5', 'RIA6', 'RIA7', 'RIA8', 'RIA9', 'RIA10', 'RIA11', 'RIA12', 'RIA13', 'RIA14', 'RIA15', 'RIA16', 'RIP1', 'RIP2', 'RIP3', 'RIP4', 'RIP5', 'RIP6', 'RIP7', 'RIP8', 'RIP9', 'RIP10', 'RIP11', 'RIP12', 'RIP13', 'RIP14', 'RIP15', 'RIP16', 'RTAS1', 'RTAS2', 'RTAS3', 'RTAS4', 'RTAS5', 'RTAS6', 'RTAS9', 'RTAS10', 'RTAS11', 'RTAS12', 'RTMS1', 'RTMS2', 'RTMS3', 'RTMS4', 'RTMS5', 'RTMS6', 'RTMS7', 'RTMS8', 'RTMS9', 'RTMS10', 'RTMS11', 'RTMS12', 'RTPS1', 'RTPS2', 'RTPS3', 'RTPS4', 'RTPS5', 'RTPS6', 'RTPS7', 'RTPS8', 'RTPS9', 'RTPS10', 'RTAM1', 'RTAM2', 'RTAM3', 'RTAM4', 'RTAM5', 'RTAM6', 'RTAM7', 'RTAM8', 'RTAM9', 'RTAM10', 'RTAM11', 'RTAM12', 'RTAM13', 'RTAM14', 'RTAM15', 'RTAM16', 'RTMM1', 'RTMM2', 'RTMM3', 'RTMM4', 'RTMM5', 'RTMM6', 'RTMM7', 'RTMM8', 'RTMM9', 'RTMM10', 'RTMM11', 'RTMM12', 'RTMM13', 'RTMM14', 'RTPM1', 'RTPM2', 'RTPM3', 'RTPM4', 'RTPM5', 'RTPM6', 'RTPM7', 'RTPM8', 'RTPM9', 'RTPM10', 'RTPM11', 'RTPM12', 'RTPM13', 'RTPM14', 'RTPM15', 'RTPM16', 'RTPI1', 'RTPI2', 'RTPI3', 'RTPI4', 'RTPI5', 'RTPI6', 'RTPI7', 'RTPI8', 'RTPI9', 'RTPI10', 'RTPI11', 'RTPI12', 'RTPI13', 'RTPI14', 'RTPI15', 'RTPI16', 'RO1', 'RO2', 'RO3', 'RO4', 'RO5', 'RO6', 'RO7', 'RO8', 'RO9', 'RO10', 'RO11', 'RO12', 'RO13', 'RO14', 'RO15', 'RO16']\n",
      "['RTAM2', 'RTAM3', 'RTAM4', 'RTAM5', 'RTAM6', 'RTAM7', 'RTAM8', 'RTAM9', 'RTAM10', 'RTAM11', 'RTAM12', 'RTAM13', 'RTAM14', 'RTAM15', 'RTPM1', 'RTPM2', 'RTPM3', 'RTPM4', 'RTPM5', 'RTPM6', 'RTPM7', 'RTPM8', 'RTPM9', 'RTPM10', 'RTPM11', 'RTPM12', 'RTPM13', 'RTPM14', 'RTPM15', 'RTPI1', 'RTPI2', 'RTPI3', 'RTPI4', 'RTPI5', 'RTPI6', 'RTPI7', 'RTPI8', 'RTPI9', 'RTPI10', 'RTPI11', 'RTPI12', 'ROAI1', 'ROAI2', 'ROAI3', 'ROAI4', 'ROAI5', 'ROAI6', 'ROAI7', 'ROAI8', 'ROAI9', 'ROAI10', 'ROAI11', 'ROAI12', 'ROPI1', 'ROPI2', 'ROPI3', 'ROPI4', 'ROPI5', 'ROPI6', 'ROPI7', 'ROPI8', 'ROAM1', 'ROAM2', 'ROAM3', 'ROAM4', 'ROAM5', 'ROAM6', 'ROAM7', 'ROPM1', 'ROPM2', 'ROPM3', 'ROPM4', 'ROPM5', 'ROPM6', 'ROPM8', 'ROPM9', 'ROPM10', 'ROPM11', 'ROPM12', 'RPAS1', 'RPAS2', 'RPAS3', 'RPAS4', 'RPAS5', 'RPAS6', 'RPAS7', 'RPAS8', 'RPAS9', 'RPAS10', 'ROAS1', 'ROAS2', 'ROAS3', 'ROAS4', 'ROAS5', 'ROAS6', 'ROAS7', 'ROAS8', 'ROAS9', 'ROAS10', 'ROAS11', 'ROAS12', 'ROAS13', 'ROAS14', 'ROAS15', 'ROPS1', 'ROPS2', 'ROPS3', 'ROPS4', 'ROPS5', 'ROPS6', 'ROPS7', 'ROPS8', 'ROPS9', 'ROPS10', 'ROPS11', 'ROPS12', 'RPAI1', 'RPAI2', 'RPAI3', 'RPAI4', 'RPAI5', 'RPAI6', 'RPAI7', 'RPAI8', 'RPAI9', 'RPAI10', 'RPAI11', 'RPAI12', 'RPAI13', 'RPAI14', 'RPAI15']\n",
      "['RFO1', 'RFO2', 'RFO3', 'RFO4', 'RFO5', 'RFO6', 'RFO7', 'RFO8', 'RFO9', 'RFO10', 'RFO11', 'RFO12', 'RFO13', 'RFO14', 'RFO15', 'RIA1', 'RIA2', 'RIA3', 'RIA4', 'RIA5', 'RIA6', 'RIA7', 'RIA8', 'RIA9', 'RIA10', 'RIA11', 'RIA12', 'RIA13', 'RIA14', 'RIA15', 'RIA16', 'RIP1', 'RIP2', 'RIP3', 'RIP4', 'RIP5', 'RIP6', 'RIP7', 'RIP8', 'RIP9', 'RIP10', 'RIP11', 'RIP12', 'RIP15', 'RIP16', 'RTP1', 'RTP2', 'RTP3', 'RTP4', 'RTP5', 'RTP6', 'RTP7', 'RTP8', 'RTP9', 'RTP10', 'RTP11', 'RTP12', 'RTP13', 'RTP14', 'RTAS1', 'RTAS2', 'RTAS3', 'RTAS4', 'RTAS5', 'RTAS6', 'RTAS7', 'RTAS8', 'RTAS9', 'RTAS10', 'RTAS11', 'RTAS12', 'RTAS13', 'RTAS14', 'RTMS1', 'RTMS2', 'RTMS3', 'RTMS4', 'RTMS5', 'RTMS7', 'RTMS8', 'RTMS9', 'RTMS10', 'RTAM1', 'RTAM2', 'RTAM3', 'RTAM4', 'RTAM5', 'RTAM6', 'RTAM7', 'RTAM8', 'RTAM9', 'RTAM10', 'RTAM11', 'RTAM12', 'RTAM13', 'RTAM14', 'RTAM15', 'RTAM16', 'RTMM1', 'RTMM2', 'RTMM5', 'RTMM6', 'RTMM7', 'RTMM8', 'RTMM9', 'RTMM10', 'RTMM11', 'RTMM13', 'RTMM14', 'RTPM1', 'RTPM2', 'RTPM3', 'RTPM4', 'RTPM5', 'RTPM6', 'RTPM7', 'RTPM8', 'RTPM9', 'RTPM10', 'RTPM11', 'RTPM12', 'RTPM13', 'RTPM14', 'RTPO1', 'RTPO2', 'RTPO3', 'RTPO4', 'RTPO5', 'RTPO6', 'RTPO7', 'RTPO8', 'RTPO9', 'RTPO10', 'RTPO11', 'RTPO12', 'RTAI1', 'RTAI2', 'RTAI3', 'RTAI4', 'RTAI5', 'RTAI6', 'RTAI7', 'RTAI8', 'RTAI9', 'RTAI10', 'RTPI1', 'RTPI2', 'RTPI3', 'RTPI4', 'RTPI5', 'RTPI6', 'RTPI7', 'RTPI8', 'RTPI9', 'RTPI10', 'RTPI11', 'RTPI12']\n"
     ]
    }
   ],
   "source": [
    "print(subjects_mne_objects['D0057'][output_names[1]]['HG_ev1_rescaled'].info['ch_names'])\n",
    "print(subjects_mne_objects['D0059'][output_names[1]]['HG_ev1_rescaled'].info['ch_names'])\n",
    "print(subjects_mne_objects['D0063'][output_names[1]]['HG_ev1_rescaled'].info['ch_names'])\n",
    "print(subjects_mne_objects['D0065'][output_names[1]]['HG_ev1_rescaled'].info['ch_names'])\n",
    "print(subjects_mne_objects['D0069'][output_names[1]]['HG_ev1_rescaled'].info['ch_names'])\n",
    "print(subjects_mne_objects['D0071'][output_names[1]]['HG_ev1_rescaled'].info['ch_names'])\n",
    "print(subjects_mne_objects['D0077'][output_names[1]]['HG_ev1_rescaled'].info['ch_names'])\n",
    "print(subjects_mne_objects['D0090'][output_names[1]]['HG_ev1_rescaled'].info['ch_names'])"
   ]
  },
  {
   "cell_type": "markdown",
   "metadata": {},
   "source": [
    "### load stimulus significant channels. Compare ROI electrodes in next cell to these to see if they're included.\n",
    "\n",
    "maybe do response significant channels too/instead?"
   ]
  },
  {
   "cell_type": "code",
   "execution_count": 55,
   "metadata": {},
   "outputs": [
    {
     "name": "stdout",
     "output_type": "stream",
     "text": [
      "Loaded significant channels for subject D0057\n",
      "Loaded significant channels for subject D0059\n",
      "Loaded significant channels for subject D0063\n",
      "Loaded significant channels for subject D0065\n",
      "Loaded significant channels for subject D0069\n",
      "Loaded significant channels for subject D0071\n",
      "Loaded significant channels for subject D0077\n",
      "Loaded significant channels for subject D0090\n"
     ]
    }
   ],
   "source": [
    "def get_sig_chans(sub, task, LAB_root=None):\n",
    "    # Determine LAB_root based on the operating system\n",
    "    if LAB_root is None:\n",
    "        HOME = os.path.expanduser(\"~\")\n",
    "        LAB_root = os.path.join(HOME, \"Box\", \"CoganLab\") if os.name == 'nt' else os.path.join(HOME, \"Library\", \"CloudStorage\", \"Box-Box\", \"CoganLab\")\n",
    "\n",
    "    # Get data layout\n",
    "    layout = get_data(task, root=LAB_root)\n",
    "    save_dir = os.path.join(layout.root, 'derivatives', 'freqFilt', 'figs', sub)\n",
    "\n",
    "    stim_filename = f'{save_dir}\\\\sig_chans_{sub}_Stimulus_fixationCrossBase_1sec_mirror.json'\n",
    "    stim_sig_chans = load_sig_chans(stim_filename)\n",
    "    return stim_sig_chans\n",
    "\n",
    "\n",
    "# List of subjects\n",
    "subjects = ['D0057', 'D0059', 'D0063', 'D0065', 'D0069', 'D0071', 'D0077', 'D0090']\n",
    "\n",
    "# Initialize an empty dictionary to store significant channels per subject\n",
    "sig_chans_per_subject = {}\n",
    "\n",
    "# Populate the dictionary using get_sig_chans for each subject\n",
    "for sub in subjects:\n",
    "    sig_chans_per_subject[sub] = get_sig_chans(sub, 'GlobalLocal')\n",
    "\n",
    "# Now sig_chans_per_subject dictionary is populated with significant channels for each subject"
   ]
  },
  {
   "cell_type": "markdown",
   "metadata": {},
   "source": [
    "### get the significant electrodes across subjects for each ROI of interest"
   ]
  },
  {
   "cell_type": "markdown",
   "metadata": {},
   "source": [
    "dlPFC based on Yamagishi et al 2016 definition is G_front_middle, G_front_sup, S_front_inf, S_front_middle, S_front_sup\n",
    "ACC based on Destrieux et al 2010 definition is G_and_S_cingul-Ant"
   ]
  },
  {
   "cell_type": "code",
   "execution_count": 67,
   "metadata": {},
   "outputs": [],
   "source": [
    "def filter_electrodes_by_roi(subjects_electrodes_dict, sig_chans_per_subject, roi_list):\n",
    "    \"\"\"\n",
    "    Filters electrodes based on specified ROIs and returns significant electrodes for each subject.\n",
    "\n",
    "    Args:\n",
    "    subjects_electrodes_dict (dict): A dictionary with subjects as keys and electrode-to-ROI mappings as values.\n",
    "    sig_chans_per_subject (dict): A dictionary with subjects as keys and lists of significant channels as values.\n",
    "    roi_list (list): A list of ROIs to filter electrodes.\n",
    "\n",
    "    Returns:\n",
    "    dict: A dictionary with subjects as keys and lists of significant electrodes in specified ROIs as values.\n",
    "    \"\"\"\n",
    "    filtered_electrodes_per_subject = {}\n",
    "\n",
    "    for sub, electrodes_dict in subjects_electrodes_dict.items():\n",
    "        filtered = {key: value for key, value in electrodes_dict['filtROI_dict'].items() \n",
    "                    if any(roi in key for roi in roi_list)}\n",
    "\n",
    "        # Aggregate electrodes into a list for each subject\n",
    "        filtered_electrodes = []\n",
    "        for electrodes in filtered.values():\n",
    "            filtered_electrodes.extend(electrodes)\n",
    "\n",
    "        filtered_electrodes_per_subject[sub] = filtered_electrodes\n",
    "        print(f'For subject {sub}, {\", \".join(roi_list)} electrodes are: {filtered_electrodes}')\n",
    "\n",
    "    # Now filter for significant electrodes\n",
    "    sig_filtered_electrodes_per_subject = {}\n",
    "\n",
    "    for sub, filtered_electrodes in filtered_electrodes_per_subject.items():\n",
    "        # Retrieve the list of significant channels for the subject\n",
    "        sig_chans = sig_chans_per_subject.get(sub, [])\n",
    "\n",
    "        # Find the intersection of filtered electrodes and significant channels for the subject\n",
    "        sig_filtered_electrodes = [elec for elec in filtered_electrodes if elec in sig_chans]\n",
    "\n",
    "        # Store the significant filtered electrodes for the subject\n",
    "        sig_filtered_electrodes_per_subject[sub] = sig_filtered_electrodes\n",
    "        print(f\"Subject {sub} significant {', '.join(roi_list)} electrodes: {sig_filtered_electrodes}\")\n",
    "\n",
    "    return filtered_electrodes_per_subject, sig_filtered_electrodes_per_subject\n",
    "\n",
    "# Example usage:\n",
    "dlpfc_rois = [\"G_front_middle\", \"G_front_sup\", \"S_front_inf\", \"S_front_middle\", \"S_front_sup\"] #dorsolateral prefrontal cortex\n",
    "acc_rois = [\"G_and_S_cingul-Ant\", \"G_and_S_cingul-Mid-Ant\"] #anterior cingulate cortex\n",
    "parietal_rois = [\"G_parietal_sup\", \"S_intrapariet_and_P_trans\", \"G_pariet_inf-Angular\", \"G_pariet_inf-Supramar\"] #superior parietal lobule, intraparietal sulcus, and inferior parietal lobule (split into angular gyrus and supramarginal gyrus)\n",
    "dlpfc_electrodes_per_subject, sig_dlpfc_electrodes_per_subject = filter_electrodes_by_roi(subjects_electrodestoROIs_dict, sig_chans_per_subject, dlpfc_rois)\n",
    "acc_electrodes_per_subject, sig_acc_electrodes_per_subject = filter_electrodes_by_roi(subjects_electrodestoROIs_dict, sig_chans_per_subject, acc_rois)\n",
    "parietal_electrodes_per_subject, sig_parietal_electrodes_per_subject = filter_electrodes_by_roi(subjects_electrodestoROIs_dict, sig_chans_per_subject, parietal_rois)"
   ]
  },
  {
   "cell_type": "code",
   "execution_count": 66,
   "metadata": {},
   "outputs": [
    {
     "data": {
      "text/plain": [
       "{}"
      ]
     },
     "execution_count": 66,
     "metadata": {},
     "output_type": "execute_result"
    }
   ],
   "source": [
    "sig_dlpfc_electrodes_per_subject"
   ]
  },
  {
   "cell_type": "code",
   "execution_count": 58,
   "metadata": {},
   "outputs": [
    {
     "data": {
      "text/plain": [
       "{}"
      ]
     },
     "execution_count": 58,
     "metadata": {},
     "output_type": "execute_result"
    }
   ],
   "source": [
    "sig_acc_electrodes_per_subject"
   ]
  },
  {
   "cell_type": "code",
   "execution_count": 59,
   "metadata": {},
   "outputs": [
    {
     "data": {
      "text/plain": [
       "{}"
      ]
     },
     "execution_count": 59,
     "metadata": {},
     "output_type": "execute_result"
    }
   ],
   "source": [
    "sig_parietal_electrodes_per_subject"
   ]
  },
  {
   "cell_type": "markdown",
   "metadata": {},
   "source": [
    "get total number of electrodes (make this modular with roi later once everything works)"
   ]
  },
  {
   "cell_type": "code",
   "execution_count": 60,
   "metadata": {},
   "outputs": [
    {
     "name": "stdout",
     "output_type": "stream",
     "text": [
      "Total number of sig dlpfc electrodes across all subjects: 0\n",
      "Total number of sig acc electrodes across all subjects: 0\n",
      "Total number of sig parietal electrodes across all subjects: 0\n"
     ]
    }
   ],
   "source": [
    "total_entries = 0\n",
    "for sub in sig_dlpfc_electrodes_per_subject:\n",
    "    # Since each subject's entry is a list, directly add its length\n",
    "    total_entries += len(sig_dlpfc_electrodes_per_subject[sub])\n",
    "\n",
    "print(\"Total number of sig dlpfc electrodes across all subjects:\", total_entries)\n",
    "\n",
    "total_entries = 0\n",
    "for sub in sig_acc_electrodes_per_subject:\n",
    "    # Since each subject's entry is a list, directly add its length\n",
    "    total_entries += len(sig_acc_electrodes_per_subject[sub])\n",
    "\n",
    "print(\"Total number of sig acc electrodes across all subjects:\", total_entries)\n",
    "\n",
    "total_entries = 0\n",
    "for sub in sig_parietal_electrodes_per_subject:\n",
    "    # Since each subject's entry is a list, directly add its length\n",
    "    total_entries += len(sig_parietal_electrodes_per_subject[sub])\n",
    "\n",
    "print(\"Total number of sig parietal electrodes across all subjects:\", total_entries)"
   ]
  },
  {
   "cell_type": "markdown",
   "metadata": {},
   "source": [
    "### do stats\n",
    "\n",
    "current approach is to run time_perm_cluster on significant dlpfc electrodes for each subject, comparing congruent and incongruent conditions. Then, average p-values across all subjects. Discuss this with Greg, probably wrong approach.\n",
    "\n",
    "**1/23 new approach is to average across all trials for sig dlpfc electrodes, comparing incongruent and congruent conditions. Then, run stats on this new avg electrode value x time array.\n",
    "\n",
    "Also, I'm using HG_ev1_rescaled instead of HG_ev1 to compare congruent and incongruent, so that they're normalized with a common baseline. I think this is better than comparing the raw HG traces directly."
   ]
  },
  {
   "cell_type": "markdown",
   "metadata": {},
   "source": [
    "### this is 1/23 new approach of avg across trials first\n",
    "\n",
    "do stats and plotting together. Stats needs trial avg data, plotting just needs congruent_data without trial averaging (initially at least)  \n",
    "this code is so bad right now, turn into a function later"
   ]
  },
  {
   "cell_type": "markdown",
   "metadata": {},
   "source": [
    "wtf why are there only like the sig dlpfc electrodes being stored in HG_ev1_rescaled  \n",
    "here make the time avg lists too but instead of avg across all time just do like 0 to 500 ms"
   ]
  },
  {
   "cell_type": "code",
   "execution_count": 64,
   "metadata": {},
   "outputs": [
    {
     "data": {
      "text/plain": [
       "{}"
      ]
     },
     "execution_count": 64,
     "metadata": {},
     "output_type": "execute_result"
    }
   ],
   "source": [
    "sig_dlpfc_electrodes_per_subject"
   ]
  },
  {
   "cell_type": "code",
   "execution_count": 63,
   "metadata": {},
   "outputs": [
    {
     "ename": "KeyError",
     "evalue": "'D0057'",
     "output_type": "error",
     "traceback": [
      "\u001b[1;31m---------------------------------------------------------------------------\u001b[0m",
      "\u001b[1;31mKeyError\u001b[0m                                  Traceback (most recent call last)",
      "Cell \u001b[1;32mIn[63], line 23\u001b[0m\n\u001b[0;32m     19\u001b[0m start_idx, end_idx \u001b[38;5;241m=\u001b[39m \u001b[38;5;241m2048\u001b[39m, \u001b[38;5;241m3072\u001b[39m  \u001b[38;5;66;03m# Time window from 0 to 0.5 seconds\u001b[39;00m\n\u001b[0;32m     21\u001b[0m \u001b[38;5;28;01mfor\u001b[39;00m sub \u001b[38;5;129;01min\u001b[39;00m subjects:\n\u001b[0;32m     22\u001b[0m     \u001b[38;5;66;03m# Skip this subject if no dlpfc electrodes\u001b[39;00m\n\u001b[1;32m---> 23\u001b[0m     \u001b[38;5;28;01mif\u001b[39;00m \u001b[38;5;129;01mnot\u001b[39;00m \u001b[43msig_dlpfc_electrodes_per_subject\u001b[49m\u001b[43m[\u001b[49m\u001b[43msub\u001b[49m\u001b[43m]\u001b[49m:\n\u001b[0;32m     24\u001b[0m         \u001b[38;5;28;01mcontinue\u001b[39;00m\n\u001b[0;32m     26\u001b[0m     \u001b[38;5;66;03m# Load trial-level data for each condition and pick significant DLPFC electrodes\u001b[39;00m\n",
      "\u001b[1;31mKeyError\u001b[0m: 'D0057'"
     ]
    }
   ],
   "source": [
    "import numpy as np\n",
    "\n",
    "# Initialize lists to store data\n",
    "output_0_data_trialAvg_list_dlpfc = []\n",
    "output_1_data_trialAvg_list_dlpfc = []\n",
    "output_0_data_trialAvg_list_acc = []\n",
    "output_1_data_trialAvg_list_acc = []\n",
    "output_0_data_trialAvg_list_parietal = []\n",
    "output_1_data_trialAvg_list_parietal = []\n",
    "\n",
    "# Initialize lists to store time-averaged data\n",
    "output_0_data_timeAvg_list_dlpfc = []\n",
    "output_1_data_timeAvg_list_dlpfc = []\n",
    "output_0_data_timeAvg_list_acc = []\n",
    "output_1_data_timeAvg_list_acc = []\n",
    "output_0_data_timeAvg_list_parietal = []\n",
    "output_1_data_timeAvg_list_parietal = []\n",
    "\n",
    "start_idx, end_idx = 2048, 3072  # Time window from 0 to 0.5 seconds\n",
    "\n",
    "for sub in subjects:\n",
    "    # Skip this subject if no dlpfc electrodes\n",
    "    if not sig_dlpfc_electrodes_per_subject[sub]:\n",
    "        continue\n",
    "\n",
    "    # Load trial-level data for each condition and pick significant DLPFC electrodes\n",
    "    output_0_epochs = subjects_mne_objects[sub][output_names[0]]['HG_ev1_rescaled'].copy().pick_channels(sig_dlpfc_electrodes_per_subject[sub])\n",
    "    output_1_epochs = subjects_mne_objects[sub][output_names[1]]['HG_ev1_rescaled'].copy().pick_channels(sig_dlpfc_electrodes_per_subject[sub])\n",
    "\n",
    "    # Average across the trials dimension, ignoring NaNs\n",
    "    output_0_data_trialAvg_list_dlpfc.append(np.nanmean(output_0_epochs.get_data(), axis=0))\n",
    "    output_1_data_trialAvg_list_dlpfc.append(np.nanmean(output_1_epochs.get_data(), axis=0))\n",
    "\n",
    "    # average from t=0 to t=0.5, assuming sampling freq of 2048 hz\n",
    "    output_0_data_timeAvg_list_dlpfc.append(np.nanmean(output_0_epochs.get_data()[:, :, start_idx:end_idx], axis=2))\n",
    "    output_1_data_timeAvg_list_dlpfc.append(np.nanmean(output_1_epochs.get_data()[:, :, start_idx:end_idx], axis=2))\n",
    "\n",
    "# do for acc\n",
    "for sub in subjects:\n",
    "    # Skip this subject if no dlpfc electrodes\n",
    "    if not sig_acc_electrodes_per_subject[sub]:\n",
    "        continue\n",
    "\n",
    "    # Load trial-level data for each condition and pick significant DLPFC electrodes\n",
    "    output_0_epochs = subjects_mne_objects[sub][output_names[0]]['HG_ev1_rescaled'].copy().pick_channels(sig_acc_electrodes_per_subject[sub])\n",
    "    output_1_epochs = subjects_mne_objects[sub][output_names[1]]['HG_ev1_rescaled'].copy().pick_channels(sig_acc_electrodes_per_subject[sub])\n",
    "\n",
    "    # Average across the trials dimension, ignoring NaNs\n",
    "    output_0_data_trialAvg_list_acc.append(np.nanmean(output_0_epochs.get_data(), axis=0))\n",
    "    output_1_data_trialAvg_list_acc.append(np.nanmean(output_1_epochs.get_data(), axis=0))\n",
    "    output_0_data_timeAvg_list_acc.append(np.nanmean(output_0_epochs.get_data()[:, :, start_idx:end_idx], axis=2))\n",
    "    output_1_data_timeAvg_list_acc.append(np.nanmean(output_1_epochs.get_data()[:, :, start_idx:end_idx], axis=2))\n",
    "\n",
    "#do for parietal\n",
    "for sub in subjects:\n",
    "    # Skip this subject if no dlpfc electrodes\n",
    "    if not sig_parietal_electrodes_per_subject[sub]:\n",
    "        continue\n",
    "\n",
    "    # Load trial-level data for each condition and pick significant DLPFC electrodes\n",
    "    output_0_epochs = subjects_mne_objects[sub][output_names[0]]['HG_ev1_rescaled'].copy().pick_channels(sig_parietal_electrodes_per_subject[sub])\n",
    "    output_1_epochs = subjects_mne_objects[sub][output_names[1]]['HG_ev1_rescaled'].copy().pick_channels(sig_parietal_electrodes_per_subject[sub])\n",
    "\n",
    "    # Average across the trials dimension, ignoring NaNs\n",
    "    output_0_data_trialAvg_list_parietal.append(np.nanmean(output_0_epochs.get_data(), axis=0))\n",
    "    output_1_data_trialAvg_list_parietal.append(np.nanmean(output_1_epochs.get_data(), axis=0))\n",
    "\n",
    "    output_0_data_timeAvg_list_parietal.append(np.nanmean(output_0_epochs.get_data()[:, :, start_idx:end_idx], axis=2))\n",
    "    output_1_data_timeAvg_list_parietal.append(np.nanmean(output_1_epochs.get_data()[:, :, start_idx:end_idx], axis=2))\n",
    "\n",
    "# below functions only go this far, keep this code\n",
    "# Concatenate data across all electrodes\n",
    "output_0_data_trialAvg_dlpfc = np.concatenate(output_0_data_trialAvg_list_dlpfc, axis=0)\n",
    "output_1_data_trialAvg_dlpfc = np.concatenate(output_1_data_trialAvg_list_dlpfc, axis=0)\n",
    "\n",
    "output_0_data_trialAvg_acc = np.concatenate(output_0_data_trialAvg_list_acc, axis=0)\n",
    "output_1_data_trialAvg_acc = np.concatenate(output_1_data_trialAvg_list_acc, axis=0)\n",
    "\n",
    "output_0_data_trialAvg_parietal = np.concatenate(output_0_data_trialAvg_list_parietal, axis=0)\n",
    "output_1_data_trialAvg_parietal = np.concatenate(output_1_data_trialAvg_list_parietal, axis=0)\n",
    "\n",
    "\n",
    "# Concatenate time-averaged data across all subjects for each brain region and condition\n",
    "output_0_data_timeAvg_dlpfc = np.concatenate(output_0_data_timeAvg_list_dlpfc, axis=1)\n",
    "output_1_data_timeAvg_dlpfc = np.concatenate(output_1_data_timeAvg_list_dlpfc, axis=1)\n",
    "\n",
    "output_0_data_timeAvg_acc = np.concatenate(output_0_data_timeAvg_list_acc, axis=1)\n",
    "output_1_data_timeAvg_acc = np.concatenate(output_1_data_timeAvg_list_acc, axis=1)\n",
    "\n",
    "output_0_data_timeAvg_parietal = np.concatenate(output_0_data_timeAvg_list_parietal, axis=1)\n",
    "output_1_data_timeAvg_parietal = np.concatenate(output_1_data_timeAvg_list_parietal, axis=1)\n",
    "\n",
    "\n",
    "# Calculate mean and SEM across electrodes\n",
    "overall_average_dlpfc_output_0 = np.nanmean(output_0_data_trialAvg_dlpfc, axis=0)\n",
    "overall_sem_dlpfc_output_0 = np.std(output_0_data_trialAvg_dlpfc, axis=0, ddof=1) / np.sqrt(output_0_data_trialAvg_dlpfc.shape[0])\n",
    "overall_average_dlpfc_output_1 = np.nanmean(output_1_data_trialAvg_dlpfc, axis=0)\n",
    "overall_sem_dlpfc_output_1 = np.std(output_1_data_trialAvg_dlpfc, axis=0, ddof=1) / np.sqrt(output_1_data_trialAvg_dlpfc.shape[0])\n",
    "\n",
    "overall_average_acc_output_0 = np.nanmean(output_0_data_trialAvg_acc, axis=0)\n",
    "overall_sem_acc_output_0 = np.std(output_0_data_trialAvg_acc, axis=0, ddof=1) / np.sqrt(output_0_data_trialAvg_acc.shape[0])\n",
    "overall_average_acc_output_1 = np.nanmean(output_1_data_trialAvg_acc, axis=0)\n",
    "overall_sem_acc_output_1 = np.std(output_1_data_trialAvg_acc, axis=0, ddof=1) / np.sqrt(output_1_data_trialAvg_acc.shape[0])\n",
    "\n",
    "overall_average_parietal_output_0 = np.nanmean(output_0_data_trialAvg_parietal, axis=0)\n",
    "overall_sem_parietal_output_0 = np.std(output_0_data_trialAvg_parietal, axis=0, ddof=1) / np.sqrt(output_0_data_trialAvg_parietal.shape[0])\n",
    "overall_average_parietal_output_1 = np.nanmean(output_1_data_trialAvg_parietal, axis=0)\n",
    "overall_sem_parietal_output_1 = np.std(output_1_data_trialAvg_parietal, axis=0, ddof=1) / np.sqrt(output_1_data_trialAvg_parietal.shape[0])\n",
    "\n",
    "\n",
    "# Run the permutation test\n",
    "mat_dlpfc = time_perm_cluster(output_0_data_trialAvg_dlpfc, output_1_data_trialAvg_dlpfc, 0.05, n_jobs=6)\n",
    "mat_acc = time_perm_cluster(output_0_data_trialAvg_acc, output_1_data_trialAvg_acc, 0.05, n_jobs=6)\n",
    "mat_parietal = time_perm_cluster(output_0_data_trialAvg_parietal, output_1_data_trialAvg_parietal, 0.05, n_jobs=6)"
   ]
  },
  {
   "cell_type": "code",
   "execution_count": 42,
   "metadata": {},
   "outputs": [
    {
     "data": {
      "text/plain": [
       "(225, 3)"
      ]
     },
     "execution_count": 42,
     "metadata": {},
     "output_type": "execute_result"
    }
   ],
   "source": [
    "import numpy as np\n",
    "\n",
    "# Assuming output_0_data_timeAvg_list_parietal[3] is a 2D array\n",
    "array = output_0_data_timeAvg_list_parietal[3]\n",
    "clean_array = array[~np.isnan(array).any(axis=1)]\n",
    "\n",
    "clean_array.shape"
   ]
  },
  {
   "cell_type": "code",
   "execution_count": 43,
   "metadata": {},
   "outputs": [
    {
     "data": {
      "text/plain": [
       "array([[ 2.48080964e+00,  2.20935664e+00,  3.15993091e+00],\n",
       "       [ 2.82061678e-01,  2.08253777e-01,  6.02286126e-01],\n",
       "       [-5.66114918e-01, -6.98091789e-02, -4.53912862e-03],\n",
       "       [-2.69808683e-01,  1.06655980e-01,  1.36944122e-01],\n",
       "       [ 1.13653600e+00,  9.44293330e-01,  5.51559175e-01],\n",
       "       [ 4.56920063e-01, -1.56785195e-01, -2.25287348e-01],\n",
       "       [ 4.77804640e-01, -1.58658035e-01, -5.12450914e-01],\n",
       "       [-8.31539760e-01, -3.26348496e-01, -3.52014008e-01],\n",
       "       [ 1.15782396e-01,  6.64919400e-02, -2.16038675e-01],\n",
       "       [ 7.34076885e-02, -3.87185484e-01, -6.29865442e-01],\n",
       "       [-1.59192804e-01,  9.42868616e-01,  4.50006388e-01],\n",
       "       [ 7.38382234e-02, -8.76439324e-01, -5.93337080e-01],\n",
       "       [ 5.52332324e-01, -2.67659936e-01,  1.70057506e-02],\n",
       "       [ 3.68307814e-03,  3.89076585e-02,  3.55150161e-01],\n",
       "       [ 1.59250233e-01, -4.10602105e-02, -8.33380632e-01],\n",
       "       [ 1.26225576e-01,  7.13479097e-02,  1.22812931e-01],\n",
       "       [-3.86823853e-01,  4.16373557e-01, -8.69587694e-01],\n",
       "       [-6.83678487e-01,  2.16037268e-02, -5.78064669e-02],\n",
       "       [ 4.15059494e-01,  8.65665498e-01,  4.02705764e-01],\n",
       "       [-1.57812967e-01, -4.89936850e-01,  4.33119948e-02],\n",
       "       [ 8.21815393e-01, -6.96869952e-02,  6.62179407e-01],\n",
       "       [ 8.97767003e-01, -8.38677011e-02, -2.84613029e-01],\n",
       "       [ 3.11122270e-01, -2.34122116e-01, -1.64862776e-01],\n",
       "       [ 2.96899281e-01, -3.24240436e-01,  1.16903345e-01],\n",
       "       [ 3.26704923e-01,  3.52299914e-01,  3.49950030e-01],\n",
       "       [ 1.12444196e-02,  7.50471314e-01,  9.65334039e-02],\n",
       "       [-4.07717339e-01,  4.03678525e-01,  5.18999832e-01],\n",
       "       [-3.06224599e-01, -2.55707389e-01,  5.24989036e-01],\n",
       "       [ 2.61462193e-01, -4.72324604e-02,  9.08902371e-02],\n",
       "       [ 2.56588282e-01, -5.10600507e-01, -7.37449244e-02],\n",
       "       [-2.18616046e-01,  1.05465676e+00,  6.20664755e-01],\n",
       "       [-1.05540532e-01, -7.43292699e-02, -1.95661236e-02],\n",
       "       [ 6.66966986e-02,  4.55050779e-03, -2.11234346e-01],\n",
       "       [ 8.17200930e-01, -3.05283953e-01,  3.22544787e-01],\n",
       "       [ 6.25797932e-01, -3.74797911e-01, -5.68354504e-02],\n",
       "       [ 4.58120828e-02,  1.04283304e-01, -3.57517761e-01],\n",
       "       [-2.77586482e-01, -1.23895312e-01, -2.69390505e-01],\n",
       "       [-2.56086253e-01, -5.99361990e-01,  2.65414545e-01],\n",
       "       [ 1.15817708e-01,  2.31651540e-01,  3.55131761e-01],\n",
       "       [-4.07520545e-01, -1.39308065e-01, -2.31785089e-01],\n",
       "       [ 2.50756256e-01,  5.23913846e-01, -1.65447123e-01],\n",
       "       [-1.64342961e-01, -1.91030370e-01, -5.66595777e-01],\n",
       "       [-5.98630804e-01, -9.56718644e-01, -6.93764173e-01],\n",
       "       [ 4.07279917e-02,  2.63496506e-02, -4.00391101e-01],\n",
       "       [-3.90206596e-02,  9.42276533e-02, -1.63701297e-01],\n",
       "       [ 4.10041589e-01, -2.75911487e-01,  9.46981757e-02],\n",
       "       [ 2.55370846e-01, -2.41004924e-01, -4.46489256e-01],\n",
       "       [-9.42934102e-02,  4.15392188e-02,  8.22147150e-02],\n",
       "       [ 1.35545737e-01,  2.18626798e-01,  2.57338782e-01],\n",
       "       [ 8.76052142e-01, -6.81829404e-02,  1.53204283e-01],\n",
       "       [-1.42151042e-01,  4.10716447e-01,  4.34256356e-01],\n",
       "       [ 6.21474726e-01,  2.48430422e-01,  3.67313671e-01],\n",
       "       [-2.59586734e-01,  7.74240079e-02, -5.98753698e-01],\n",
       "       [ 2.10470619e-01,  3.81321572e-01, -7.17179160e-02],\n",
       "       [ 9.71369637e-02,  2.93277816e-01,  5.01693801e-01],\n",
       "       [ 6.53726681e-01,  3.98016002e-02,  1.83419922e-01],\n",
       "       [ 4.51336118e-01,  3.24189863e-01, -5.54653634e-02],\n",
       "       [ 6.53831175e-01,  4.16792588e-01, -2.72103553e-01],\n",
       "       [ 2.16301959e-01,  5.92569551e-01,  4.79390739e-01],\n",
       "       [ 2.68001144e-01,  2.32891310e-01,  8.14906719e-02],\n",
       "       [ 6.96085528e-01,  8.59624431e-01,  8.56660523e-02],\n",
       "       [-8.36224478e-02,  2.54404836e-01,  5.39325832e-02],\n",
       "       [ 2.87271901e-01,  2.57284307e-01, -2.69941116e-01],\n",
       "       [-1.90888587e-01,  2.61858048e-01,  2.81746504e-01],\n",
       "       [-1.90888587e-01,  2.61858048e-01,  2.81746504e-01],\n",
       "       [ 1.02688347e-01, -3.46845290e-01, -4.41663573e-01],\n",
       "       [ 7.36112820e-01, -2.04518436e-01, -1.37403302e-01],\n",
       "       [-2.65022877e-01, -2.14819285e-01, -2.50631234e-01],\n",
       "       [-2.14617291e-01,  8.28958250e-01,  1.18890995e+00],\n",
       "       [ 7.90421355e-01,  1.15808463e+00,  4.62889427e-01],\n",
       "       [ 9.64366191e-02,  1.97344401e-01,  4.11405133e-02],\n",
       "       [-5.71007722e-02,  8.92543180e-01, -2.22491782e-01],\n",
       "       [ 1.02601454e-01,  5.96943700e-01, -1.83761067e-01],\n",
       "       [-3.42919165e-01, -1.72302443e-01, -1.30384234e-03],\n",
       "       [-7.24326618e-01,  6.75600660e-01, -6.22751475e-01],\n",
       "       [ 9.59650006e-01,  2.00335224e-01,  3.95339559e-01],\n",
       "       [ 4.99774460e-01,  2.57782638e-01, -1.38638213e-01],\n",
       "       [ 7.96802284e-01,  4.71688400e-01, -3.41808501e-02],\n",
       "       [-8.17262850e-02,  6.41353624e-01,  8.88570392e-02],\n",
       "       [ 6.63949204e-01,  9.96218550e-02,  6.79953317e-01],\n",
       "       [ 1.16112995e+00,  1.36616398e+00,  5.65597198e-01],\n",
       "       [ 2.79885981e-01,  1.06076642e+00,  4.37350671e-01],\n",
       "       [-8.74226256e-02, -5.62312858e-02,  6.51460648e-02],\n",
       "       [ 1.43050457e-01,  6.62792043e-01, -6.32459146e-01],\n",
       "       [-1.44986222e-01, -6.69138819e-01, -1.92645891e-01],\n",
       "       [ 5.28211522e-02, -5.96432534e-02,  8.62445859e-01],\n",
       "       [-1.04589300e-01, -7.75295306e-02, -3.37368699e-01],\n",
       "       [ 6.62224840e-01,  1.49577380e+00,  4.25238038e-01],\n",
       "       [ 7.13068405e-01,  4.83839204e-01, -4.30049490e-01],\n",
       "       [ 5.23040189e-01,  1.47807949e-01, -5.43620533e-02],\n",
       "       [ 2.99033915e-01,  1.38265130e+00, -2.93616675e-01],\n",
       "       [ 4.06319400e-01,  9.05497580e-02, -5.68259383e-01],\n",
       "       [ 8.01571663e-01, -3.34071427e-01, -1.42566214e-01],\n",
       "       [ 3.18610170e-01,  4.24056616e-01,  6.96620613e-01],\n",
       "       [ 2.76081238e-01,  4.68784156e-01, -1.69727080e-02],\n",
       "       [-1.59036732e-01,  5.85592924e-01, -2.16540217e-01],\n",
       "       [-7.42170064e-01, -9.01127067e-02, -2.25052828e-01],\n",
       "       [ 1.50436860e+00,  6.09626550e-01, -9.23419645e-02],\n",
       "       [ 3.21623683e-01,  3.48885892e-01, -1.07947779e-01],\n",
       "       [-3.46258320e-02, -6.91997796e-02, -3.08676062e-01],\n",
       "       [ 5.77244670e-02, -2.71081921e-01,  1.17920887e-01],\n",
       "       [-3.59851430e-01, -4.60829774e-01,  1.32577706e-01],\n",
       "       [ 2.53798863e+00, -2.17221665e-01,  1.23924529e+00],\n",
       "       [ 6.58536136e-01,  8.85374602e-01,  8.63872662e-02],\n",
       "       [-8.44186993e-01, -8.23403295e-01, -2.80435373e-01],\n",
       "       [ 3.80377128e-01, -2.69600151e-01, -5.46672880e-01],\n",
       "       [ 7.78257233e-02, -6.20162876e-02,  2.47561328e-01],\n",
       "       [-6.39284605e-01,  1.62227658e-03, -3.52058378e-01],\n",
       "       [ 7.29775191e-01,  6.88569709e-01,  1.31771758e+00],\n",
       "       [-2.04440488e-01, -5.44464151e-01, -4.93317661e-02],\n",
       "       [ 6.33171030e-01,  5.76192223e-01, -5.11822727e-01],\n",
       "       [-2.98621884e-01, -2.55436008e-01, -5.93708666e-01],\n",
       "       [-5.83800223e-01, -1.93271186e-01, -7.24396890e-02],\n",
       "       [-3.29261759e-01, -2.53291440e-01, -5.39665775e-01],\n",
       "       [-7.31337207e-01,  5.79206788e-01,  4.31592283e-01],\n",
       "       [-6.50674057e-01, -6.41469724e-01, -6.79601899e-01],\n",
       "       [ 2.43479617e-01,  2.61127888e-01, -4.29622150e-01],\n",
       "       [ 7.35088475e-01,  2.18914341e-01,  2.01068737e-01],\n",
       "       [-1.18588948e-01,  2.35867902e-01,  4.97357708e-02],\n",
       "       [ 3.46345767e-01, -5.34036409e-02, -3.83963687e-01],\n",
       "       [ 2.65823127e-01, -3.62706404e-01, -7.45232085e-01],\n",
       "       [ 1.68843624e-01,  6.36426030e-01,  7.87160809e-05],\n",
       "       [ 3.75410157e-01, -7.10390655e-01, -4.14086658e-02],\n",
       "       [ 2.16605035e-02, -2.86470296e-01, -3.81735340e-01],\n",
       "       [-1.11995087e-01, -2.35929870e-01,  5.36208277e-02],\n",
       "       [-7.41931022e-01, -1.50953046e-01,  5.06742162e-02],\n",
       "       [-1.25986245e-01, -4.31172102e-01,  1.35690660e-01],\n",
       "       [-9.26768137e-02,  1.10401016e+00, -3.63104700e-01],\n",
       "       [-7.42112297e-01,  3.34629073e-01, -4.58330615e-01],\n",
       "       [ 3.48358845e-01,  4.54887606e-01,  2.92615807e-02],\n",
       "       [ 1.61791958e-01, -7.51149524e-02, -4.45609183e-01],\n",
       "       [-3.38103289e-01, -6.78078004e-01, -5.24403836e-01],\n",
       "       [ 1.42875704e-02,  3.58750102e-01, -2.69303720e-01],\n",
       "       [ 5.68357139e-01,  3.46368664e-01, -6.32657393e-02],\n",
       "       [ 6.58143188e-01,  2.49081765e-01,  1.60591902e-01],\n",
       "       [ 4.24148938e-01, -4.53836368e-01, -6.10387399e-01],\n",
       "       [-5.38737164e-02,  7.14553246e-01,  1.33147060e-01],\n",
       "       [-3.50605884e-01, -1.09178650e-01,  7.44073411e-01],\n",
       "       [-3.75322450e-01,  3.14430396e-01,  3.38761999e-01],\n",
       "       [-1.45385482e-01,  2.41765767e-01,  2.94824705e-01],\n",
       "       [-6.55044539e-01, -3.56063561e-01, -5.76766076e-01],\n",
       "       [ 6.56497080e-02,  1.70797602e-01, -1.14364745e-01],\n",
       "       [ 1.04318856e+00,  1.16080033e+00, -7.51745807e-03],\n",
       "       [ 1.05642163e-01, -2.05956890e-01, -4.76681591e-01],\n",
       "       [ 7.38088819e-02,  2.09341691e-01, -2.19093729e-01],\n",
       "       [ 5.32504212e-01,  6.65289258e-01, -2.37560591e-02],\n",
       "       [-3.23053999e-01, -1.61691204e-01, -1.20497726e-01],\n",
       "       [-3.95437472e-01, -1.10073474e+00, -1.15180436e+00],\n",
       "       [ 3.29397745e-01,  1.82622119e-01,  1.38841941e-01],\n",
       "       [-3.62118421e-01,  4.75835541e-01,  2.89880586e-01],\n",
       "       [-1.52862846e-01,  4.81834448e-01, -2.35649195e-01],\n",
       "       [-6.27743091e-01, -1.13853897e-01, -4.27892970e-01],\n",
       "       [ 5.74958526e-02,  2.64910851e-01,  2.35111076e-01],\n",
       "       [ 3.69157797e-01,  7.07992218e-01,  4.83916011e-01],\n",
       "       [-8.60617498e-02,  8.83499136e-01, -1.81695256e-01],\n",
       "       [-5.75378681e-02,  9.84251138e-01, -1.21603438e-01],\n",
       "       [ 9.45299535e-01,  1.20863844e+00,  2.62910196e-01],\n",
       "       [ 3.65355357e-01,  3.58148799e-01,  1.72325952e-01],\n",
       "       [ 3.86831641e-01,  7.30663978e-01,  3.06245153e-01],\n",
       "       [ 1.58406771e+00,  1.19563919e+00,  2.64420040e+00],\n",
       "       [-4.03914813e-01,  2.59105494e-02, -1.13358233e-01],\n",
       "       [-1.96453661e-01, -3.81829415e-01, -6.99085773e-01],\n",
       "       [ 2.54747670e-01, -1.87139242e-01, -2.37689984e-01],\n",
       "       [ 3.26990386e-01,  2.67586132e-02,  3.74763365e-02],\n",
       "       [ 1.84434640e-01, -2.35740235e-01, -1.29800257e-01],\n",
       "       [ 4.05968972e-01,  7.52499815e-01, -1.88534210e-01],\n",
       "       [-1.70816540e-01,  2.43590567e-01, -3.91691947e-01],\n",
       "       [-4.51056192e-01, -6.62300990e-01, -2.27159054e-01],\n",
       "       [ 4.07517454e-01,  4.43250773e-01, -1.10171855e-01],\n",
       "       [-4.22418794e-01, -1.59292580e-02, -1.91959766e-01],\n",
       "       [-4.55861506e-01,  6.55950158e-02,  4.85107795e-01],\n",
       "       [ 5.46440486e-01,  1.31377704e+00, -3.82188673e-02],\n",
       "       [-7.69814995e-02, -4.44934115e-01, -6.19477929e-01],\n",
       "       [-9.38090374e-01,  7.02748969e-02, -6.38939189e-01],\n",
       "       [ 2.08922607e-01, -3.01592158e-01, -1.65359613e-01],\n",
       "       [ 4.27792005e-01, -2.81452168e-01, -3.12643550e-01],\n",
       "       [ 1.02543518e-02, -2.36393579e-01, -2.91878628e-01],\n",
       "       [ 2.18232965e-01,  3.39702229e-01, -6.11795908e-01],\n",
       "       [-1.81726558e-01, -3.80547917e-01,  1.53909520e-01],\n",
       "       [ 2.39501763e-01, -2.44528196e-01,  4.13923613e-01],\n",
       "       [-5.25676640e-01, -5.18447593e-01, -3.48952636e-01],\n",
       "       [-3.92064252e-01, -1.94575169e-01,  2.31595974e-01],\n",
       "       [-3.06315603e-01,  4.80175594e-01,  1.33654475e-03],\n",
       "       [ 4.01310669e-01,  1.76957511e-01, -6.93703406e-01],\n",
       "       [ 6.80991082e-01,  5.49753028e-01, -1.53561672e-01],\n",
       "       [-5.81406799e-01, -6.23787520e-02, -6.94793543e-01],\n",
       "       [ 1.26672181e-01, -4.18834443e-01, -4.88044130e-01],\n",
       "       [ 4.23061779e-01,  3.25361949e-01, -4.36440316e-02],\n",
       "       [-2.17950690e-01,  5.32619268e-01, -7.04867676e-02],\n",
       "       [ 6.67164122e-02, -1.90151597e-01,  2.30898624e-01],\n",
       "       [ 1.13138888e+00,  1.06116806e+00,  3.35741973e+00],\n",
       "       [-2.65968354e-01, -2.90519692e-01, -3.11146238e-01],\n",
       "       [ 9.42070597e-01,  9.44531892e-01,  2.84903282e-01],\n",
       "       [ 1.40764050e-01,  5.18694838e-01, -1.91524062e-01],\n",
       "       [ 1.21172199e-01, -1.07580228e-01, -3.55052725e-01],\n",
       "       [ 6.83943372e-02,  5.34271002e-01, -8.26303117e-01],\n",
       "       [ 2.95847393e-02,  2.99824755e-01,  9.41378150e-02],\n",
       "       [ 5.65685630e-02,  1.09918083e+00, -5.15615558e-01],\n",
       "       [ 5.13510815e-01,  9.46913511e-02, -1.14228500e-01],\n",
       "       [ 9.77026275e-01,  8.22582776e-01,  3.01667898e-01],\n",
       "       [ 1.31460045e-01,  6.64683061e-01,  4.09133030e-01],\n",
       "       [ 1.84008661e-02, -1.55035881e-01, -7.52043244e-01],\n",
       "       [ 1.11735204e-01,  7.81942216e-02,  3.71727309e-02],\n",
       "       [-5.48577805e-01, -8.38103185e-01, -2.98324186e-01],\n",
       "       [ 3.30056133e-01,  6.95766452e-02, -5.75498484e-01],\n",
       "       [-2.76745712e-01,  8.95560585e-01,  3.73857157e-01],\n",
       "       [ 7.72583444e-01,  7.98601027e-01,  4.65164424e-01],\n",
       "       [ 1.76126246e-01,  5.00342824e-01,  1.11405079e-01],\n",
       "       [ 9.25560414e-01,  3.01880413e-01, -2.92762127e-01],\n",
       "       [ 1.43947504e+00,  5.10402545e-01,  1.09611828e-01],\n",
       "       [ 3.95324040e-01,  3.07853697e-02,  4.26841774e-02],\n",
       "       [ 1.65553055e+00,  1.02483752e+00,  2.70292661e-01],\n",
       "       [ 1.38984810e+00,  8.73288261e-01,  3.59486673e-01],\n",
       "       [ 3.32640853e-01, -1.08740750e-02,  3.87133965e-01],\n",
       "       [-2.44243001e-01,  4.41280143e-01, -1.51697876e-01],\n",
       "       [ 7.02175487e-02,  3.73812393e-01,  6.00711537e-01],\n",
       "       [-2.89317921e-02, -3.08925851e-01, -9.34483532e-02],\n",
       "       [ 1.07589492e+00, -3.90542119e-02,  3.27744088e-01],\n",
       "       [-1.78624667e-02,  4.55611010e-01, -6.96744323e-01],\n",
       "       [ 5.37629630e-02,  6.59071202e-02, -1.57868055e-01],\n",
       "       [ 1.83249036e-01, -4.08856838e-02, -3.68053652e-01],\n",
       "       [-5.06596490e-02,  3.19035099e-01, -1.74574988e-01],\n",
       "       [ 9.23387989e-02,  4.87280332e-01, -9.23678999e-01],\n",
       "       [-4.28354009e-01, -5.13380677e-01, -5.08489456e-01],\n",
       "       [-4.33584845e-01, -4.92822190e-01,  1.02548774e-01]])"
      ]
     },
     "execution_count": 43,
     "metadata": {},
     "output_type": "execute_result"
    }
   ],
   "source": [
    "clean_array"
   ]
  },
  {
   "cell_type": "code",
   "execution_count": 38,
   "metadata": {},
   "outputs": [
    {
     "name": "stdout",
     "output_type": "stream",
     "text": [
      "[(224, 3), (224, 3), (224, 1), (227, 3)]\n"
     ]
    }
   ],
   "source": [
    "import numpy as np\n",
    "\n",
    "# Assuming your list is named 'my_list' and contains NumPy arrays\n",
    "shapes = [array.shape for array in output_0_data_timeAvg_list_parietal]\n",
    "\n",
    "print(shapes)\n"
   ]
  },
  {
   "cell_type": "markdown",
   "metadata": {},
   "source": [
    "### try to do the stats in a more modular way\n",
    "this is broken right now don't use it"
   ]
  },
  {
   "cell_type": "code",
   "execution_count": 20,
   "metadata": {},
   "outputs": [
    {
     "name": "stdout",
     "output_type": "stream",
     "text": [
      "NOTE: pick_channels() is a legacy function. New code should use inst.pick(...).\n"
     ]
    },
    {
     "name": "stderr",
     "output_type": "stream",
     "text": [
      "C:\\Users\\jz421\\AppData\\Local\\Temp\\ipykernel_17404\\2512365097.py:9: FutureWarning: The current default of copy=False will change to copy=True in 1.7. Set the value of copy explicitly to avoid this warning\n",
      "  trial_avg = np.nanmean(epochs.get_data(), axis=0)\n",
      "C:\\Users\\jz421\\AppData\\Local\\Temp\\ipykernel_17404\\2512365097.py:10: FutureWarning: The current default of copy=False will change to copy=True in 1.7. Set the value of copy explicitly to avoid this warning\n",
      "  time_avg = np.nanmean(epochs.get_data()[:, :, start_idx:end_idx], axis=2)\n",
      "C:\\Users\\jz421\\AppData\\Local\\Temp\\ipykernel_17404\\2512365097.py:10: RuntimeWarning: Mean of empty slice\n",
      "  time_avg = np.nanmean(epochs.get_data()[:, :, start_idx:end_idx], axis=2)\n"
     ]
    },
    {
     "name": "stdout",
     "output_type": "stream",
     "text": [
      "NOTE: pick_channels() is a legacy function. New code should use inst.pick(...).\n"
     ]
    },
    {
     "name": "stderr",
     "output_type": "stream",
     "text": [
      "C:\\Users\\jz421\\AppData\\Local\\Temp\\ipykernel_17404\\2512365097.py:9: FutureWarning: The current default of copy=False will change to copy=True in 1.7. Set the value of copy explicitly to avoid this warning\n",
      "  trial_avg = np.nanmean(epochs.get_data(), axis=0)\n",
      "C:\\Users\\jz421\\AppData\\Local\\Temp\\ipykernel_17404\\2512365097.py:10: FutureWarning: The current default of copy=False will change to copy=True in 1.7. Set the value of copy explicitly to avoid this warning\n",
      "  time_avg = np.nanmean(epochs.get_data()[:, :, start_idx:end_idx], axis=2)\n"
     ]
    },
    {
     "name": "stdout",
     "output_type": "stream",
     "text": [
      "NOTE: pick_channels() is a legacy function. New code should use inst.pick(...).\n"
     ]
    },
    {
     "name": "stderr",
     "output_type": "stream",
     "text": [
      "C:\\Users\\jz421\\AppData\\Local\\Temp\\ipykernel_17404\\2512365097.py:9: FutureWarning: The current default of copy=False will change to copy=True in 1.7. Set the value of copy explicitly to avoid this warning\n",
      "  trial_avg = np.nanmean(epochs.get_data(), axis=0)\n",
      "C:\\Users\\jz421\\AppData\\Local\\Temp\\ipykernel_17404\\2512365097.py:10: FutureWarning: The current default of copy=False will change to copy=True in 1.7. Set the value of copy explicitly to avoid this warning\n",
      "  time_avg = np.nanmean(epochs.get_data()[:, :, start_idx:end_idx], axis=2)\n"
     ]
    },
    {
     "name": "stdout",
     "output_type": "stream",
     "text": [
      "NOTE: pick_channels() is a legacy function. New code should use inst.pick(...).\n"
     ]
    },
    {
     "name": "stderr",
     "output_type": "stream",
     "text": [
      "C:\\Users\\jz421\\AppData\\Local\\Temp\\ipykernel_17404\\2512365097.py:9: FutureWarning: The current default of copy=False will change to copy=True in 1.7. Set the value of copy explicitly to avoid this warning\n",
      "  trial_avg = np.nanmean(epochs.get_data(), axis=0)\n",
      "C:\\Users\\jz421\\AppData\\Local\\Temp\\ipykernel_17404\\2512365097.py:10: FutureWarning: The current default of copy=False will change to copy=True in 1.7. Set the value of copy explicitly to avoid this warning\n",
      "  time_avg = np.nanmean(epochs.get_data()[:, :, start_idx:end_idx], axis=2)\n"
     ]
    },
    {
     "name": "stdout",
     "output_type": "stream",
     "text": [
      "NOTE: pick_channels() is a legacy function. New code should use inst.pick(...).\n"
     ]
    },
    {
     "name": "stderr",
     "output_type": "stream",
     "text": [
      "C:\\Users\\jz421\\AppData\\Local\\Temp\\ipykernel_17404\\2512365097.py:9: FutureWarning: The current default of copy=False will change to copy=True in 1.7. Set the value of copy explicitly to avoid this warning\n",
      "  trial_avg = np.nanmean(epochs.get_data(), axis=0)\n",
      "C:\\Users\\jz421\\AppData\\Local\\Temp\\ipykernel_17404\\2512365097.py:10: FutureWarning: The current default of copy=False will change to copy=True in 1.7. Set the value of copy explicitly to avoid this warning\n",
      "  time_avg = np.nanmean(epochs.get_data()[:, :, start_idx:end_idx], axis=2)\n"
     ]
    },
    {
     "name": "stdout",
     "output_type": "stream",
     "text": [
      "NOTE: pick_channels() is a legacy function. New code should use inst.pick(...).\n"
     ]
    },
    {
     "name": "stderr",
     "output_type": "stream",
     "text": [
      "C:\\Users\\jz421\\AppData\\Local\\Temp\\ipykernel_17404\\2512365097.py:9: FutureWarning: The current default of copy=False will change to copy=True in 1.7. Set the value of copy explicitly to avoid this warning\n",
      "  trial_avg = np.nanmean(epochs.get_data(), axis=0)\n",
      "C:\\Users\\jz421\\AppData\\Local\\Temp\\ipykernel_17404\\2512365097.py:10: FutureWarning: The current default of copy=False will change to copy=True in 1.7. Set the value of copy explicitly to avoid this warning\n",
      "  time_avg = np.nanmean(epochs.get_data()[:, :, start_idx:end_idx], axis=2)\n"
     ]
    },
    {
     "name": "stdout",
     "output_type": "stream",
     "text": [
      "NOTE: pick_channels() is a legacy function. New code should use inst.pick(...).\n"
     ]
    },
    {
     "name": "stderr",
     "output_type": "stream",
     "text": [
      "C:\\Users\\jz421\\AppData\\Local\\Temp\\ipykernel_17404\\2512365097.py:9: FutureWarning: The current default of copy=False will change to copy=True in 1.7. Set the value of copy explicitly to avoid this warning\n",
      "  trial_avg = np.nanmean(epochs.get_data(), axis=0)\n",
      "C:\\Users\\jz421\\AppData\\Local\\Temp\\ipykernel_17404\\2512365097.py:10: FutureWarning: The current default of copy=False will change to copy=True in 1.7. Set the value of copy explicitly to avoid this warning\n",
      "  time_avg = np.nanmean(epochs.get_data()[:, :, start_idx:end_idx], axis=2)\n"
     ]
    },
    {
     "name": "stdout",
     "output_type": "stream",
     "text": [
      "NOTE: pick_channels() is a legacy function. New code should use inst.pick(...).\n"
     ]
    },
    {
     "name": "stderr",
     "output_type": "stream",
     "text": [
      "C:\\Users\\jz421\\AppData\\Local\\Temp\\ipykernel_17404\\2512365097.py:9: FutureWarning: The current default of copy=False will change to copy=True in 1.7. Set the value of copy explicitly to avoid this warning\n",
      "  trial_avg = np.nanmean(epochs.get_data(), axis=0)\n",
      "C:\\Users\\jz421\\AppData\\Local\\Temp\\ipykernel_17404\\2512365097.py:10: FutureWarning: The current default of copy=False will change to copy=True in 1.7. Set the value of copy explicitly to avoid this warning\n",
      "  time_avg = np.nanmean(epochs.get_data()[:, :, start_idx:end_idx], axis=2)\n"
     ]
    },
    {
     "name": "stdout",
     "output_type": "stream",
     "text": [
      "NOTE: pick_channels() is a legacy function. New code should use inst.pick(...).\n"
     ]
    },
    {
     "name": "stderr",
     "output_type": "stream",
     "text": [
      "C:\\Users\\jz421\\AppData\\Local\\Temp\\ipykernel_17404\\2512365097.py:8: FutureWarning: The default for pick_channels will change from ordered=False to ordered=True in 1.5 and this will result in a change of behavior because the resulting channel order will not match. Either use a channel order that matches your instance or pass ordered=False.\n",
      "  epochs = subjects_mne_objects[subject][output_name]['HG_ev1_rescaled'].copy().pick_channels(sig_electrodes)\n",
      "C:\\Users\\jz421\\AppData\\Local\\Temp\\ipykernel_17404\\2512365097.py:9: FutureWarning: The current default of copy=False will change to copy=True in 1.7. Set the value of copy explicitly to avoid this warning\n",
      "  trial_avg = np.nanmean(epochs.get_data(), axis=0)\n",
      "C:\\Users\\jz421\\AppData\\Local\\Temp\\ipykernel_17404\\2512365097.py:10: FutureWarning: The current default of copy=False will change to copy=True in 1.7. Set the value of copy explicitly to avoid this warning\n",
      "  time_avg = np.nanmean(epochs.get_data()[:, :, start_idx:end_idx], axis=2)\n"
     ]
    },
    {
     "name": "stdout",
     "output_type": "stream",
     "text": [
      "NOTE: pick_channels() is a legacy function. New code should use inst.pick(...).\n"
     ]
    },
    {
     "name": "stderr",
     "output_type": "stream",
     "text": [
      "C:\\Users\\jz421\\AppData\\Local\\Temp\\ipykernel_17404\\2512365097.py:8: FutureWarning: The default for pick_channels will change from ordered=False to ordered=True in 1.5 and this will result in a change of behavior because the resulting channel order will not match. Either use a channel order that matches your instance or pass ordered=False.\n",
      "  epochs = subjects_mne_objects[subject][output_name]['HG_ev1_rescaled'].copy().pick_channels(sig_electrodes)\n",
      "C:\\Users\\jz421\\AppData\\Local\\Temp\\ipykernel_17404\\2512365097.py:9: FutureWarning: The current default of copy=False will change to copy=True in 1.7. Set the value of copy explicitly to avoid this warning\n",
      "  trial_avg = np.nanmean(epochs.get_data(), axis=0)\n",
      "C:\\Users\\jz421\\AppData\\Local\\Temp\\ipykernel_17404\\2512365097.py:10: FutureWarning: The current default of copy=False will change to copy=True in 1.7. Set the value of copy explicitly to avoid this warning\n",
      "  time_avg = np.nanmean(epochs.get_data()[:, :, start_idx:end_idx], axis=2)\n"
     ]
    },
    {
     "name": "stdout",
     "output_type": "stream",
     "text": [
      "NOTE: pick_channels() is a legacy function. New code should use inst.pick(...).\n"
     ]
    },
    {
     "name": "stderr",
     "output_type": "stream",
     "text": [
      "C:\\Users\\jz421\\AppData\\Local\\Temp\\ipykernel_17404\\2512365097.py:9: FutureWarning: The current default of copy=False will change to copy=True in 1.7. Set the value of copy explicitly to avoid this warning\n",
      "  trial_avg = np.nanmean(epochs.get_data(), axis=0)\n",
      "C:\\Users\\jz421\\AppData\\Local\\Temp\\ipykernel_17404\\2512365097.py:10: FutureWarning: The current default of copy=False will change to copy=True in 1.7. Set the value of copy explicitly to avoid this warning\n",
      "  time_avg = np.nanmean(epochs.get_data()[:, :, start_idx:end_idx], axis=2)\n"
     ]
    },
    {
     "name": "stdout",
     "output_type": "stream",
     "text": [
      "NOTE: pick_channels() is a legacy function. New code should use inst.pick(...).\n"
     ]
    },
    {
     "name": "stderr",
     "output_type": "stream",
     "text": [
      "C:\\Users\\jz421\\AppData\\Local\\Temp\\ipykernel_17404\\2512365097.py:9: FutureWarning: The current default of copy=False will change to copy=True in 1.7. Set the value of copy explicitly to avoid this warning\n",
      "  trial_avg = np.nanmean(epochs.get_data(), axis=0)\n",
      "C:\\Users\\jz421\\AppData\\Local\\Temp\\ipykernel_17404\\2512365097.py:10: FutureWarning: The current default of copy=False will change to copy=True in 1.7. Set the value of copy explicitly to avoid this warning\n",
      "  time_avg = np.nanmean(epochs.get_data()[:, :, start_idx:end_idx], axis=2)\n"
     ]
    },
    {
     "name": "stdout",
     "output_type": "stream",
     "text": [
      "NOTE: pick_channels() is a legacy function. New code should use inst.pick(...).\n"
     ]
    },
    {
     "name": "stderr",
     "output_type": "stream",
     "text": [
      "C:\\Users\\jz421\\AppData\\Local\\Temp\\ipykernel_17404\\2512365097.py:9: FutureWarning: The current default of copy=False will change to copy=True in 1.7. Set the value of copy explicitly to avoid this warning\n",
      "  trial_avg = np.nanmean(epochs.get_data(), axis=0)\n",
      "C:\\Users\\jz421\\AppData\\Local\\Temp\\ipykernel_17404\\2512365097.py:10: FutureWarning: The current default of copy=False will change to copy=True in 1.7. Set the value of copy explicitly to avoid this warning\n",
      "  time_avg = np.nanmean(epochs.get_data()[:, :, start_idx:end_idx], axis=2)\n"
     ]
    },
    {
     "name": "stdout",
     "output_type": "stream",
     "text": [
      "NOTE: pick_channels() is a legacy function. New code should use inst.pick(...).\n"
     ]
    },
    {
     "name": "stderr",
     "output_type": "stream",
     "text": [
      "C:\\Users\\jz421\\AppData\\Local\\Temp\\ipykernel_17404\\2512365097.py:9: FutureWarning: The current default of copy=False will change to copy=True in 1.7. Set the value of copy explicitly to avoid this warning\n",
      "  trial_avg = np.nanmean(epochs.get_data(), axis=0)\n",
      "C:\\Users\\jz421\\AppData\\Local\\Temp\\ipykernel_17404\\2512365097.py:10: FutureWarning: The current default of copy=False will change to copy=True in 1.7. Set the value of copy explicitly to avoid this warning\n",
      "  time_avg = np.nanmean(epochs.get_data()[:, :, start_idx:end_idx], axis=2)\n"
     ]
    },
    {
     "name": "stdout",
     "output_type": "stream",
     "text": [
      "NOTE: pick_channels() is a legacy function. New code should use inst.pick(...).\n"
     ]
    },
    {
     "name": "stderr",
     "output_type": "stream",
     "text": [
      "C:\\Users\\jz421\\AppData\\Local\\Temp\\ipykernel_17404\\2512365097.py:9: FutureWarning: The current default of copy=False will change to copy=True in 1.7. Set the value of copy explicitly to avoid this warning\n",
      "  trial_avg = np.nanmean(epochs.get_data(), axis=0)\n",
      "C:\\Users\\jz421\\AppData\\Local\\Temp\\ipykernel_17404\\2512365097.py:10: FutureWarning: The current default of copy=False will change to copy=True in 1.7. Set the value of copy explicitly to avoid this warning\n",
      "  time_avg = np.nanmean(epochs.get_data()[:, :, start_idx:end_idx], axis=2)\n"
     ]
    },
    {
     "name": "stdout",
     "output_type": "stream",
     "text": [
      "NOTE: pick_channels() is a legacy function. New code should use inst.pick(...).\n"
     ]
    },
    {
     "name": "stderr",
     "output_type": "stream",
     "text": [
      "C:\\Users\\jz421\\AppData\\Local\\Temp\\ipykernel_17404\\2512365097.py:9: FutureWarning: The current default of copy=False will change to copy=True in 1.7. Set the value of copy explicitly to avoid this warning\n",
      "  trial_avg = np.nanmean(epochs.get_data(), axis=0)\n",
      "C:\\Users\\jz421\\AppData\\Local\\Temp\\ipykernel_17404\\2512365097.py:10: FutureWarning: The current default of copy=False will change to copy=True in 1.7. Set the value of copy explicitly to avoid this warning\n",
      "  time_avg = np.nanmean(epochs.get_data()[:, :, start_idx:end_idx], axis=2)\n"
     ]
    },
    {
     "name": "stdout",
     "output_type": "stream",
     "text": [
      "NOTE: pick_channels() is a legacy function. New code should use inst.pick(...).\n"
     ]
    },
    {
     "name": "stderr",
     "output_type": "stream",
     "text": [
      "C:\\Users\\jz421\\AppData\\Local\\Temp\\ipykernel_17404\\2512365097.py:9: FutureWarning: The current default of copy=False will change to copy=True in 1.7. Set the value of copy explicitly to avoid this warning\n",
      "  trial_avg = np.nanmean(epochs.get_data(), axis=0)\n",
      "C:\\Users\\jz421\\AppData\\Local\\Temp\\ipykernel_17404\\2512365097.py:10: FutureWarning: The current default of copy=False will change to copy=True in 1.7. Set the value of copy explicitly to avoid this warning\n",
      "  time_avg = np.nanmean(epochs.get_data()[:, :, start_idx:end_idx], axis=2)\n"
     ]
    },
    {
     "name": "stdout",
     "output_type": "stream",
     "text": [
      "NOTE: pick_channels() is a legacy function. New code should use inst.pick(...).\n"
     ]
    },
    {
     "name": "stderr",
     "output_type": "stream",
     "text": [
      "C:\\Users\\jz421\\AppData\\Local\\Temp\\ipykernel_17404\\2512365097.py:9: FutureWarning: The current default of copy=False will change to copy=True in 1.7. Set the value of copy explicitly to avoid this warning\n",
      "  trial_avg = np.nanmean(epochs.get_data(), axis=0)\n",
      "C:\\Users\\jz421\\AppData\\Local\\Temp\\ipykernel_17404\\2512365097.py:10: FutureWarning: The current default of copy=False will change to copy=True in 1.7. Set the value of copy explicitly to avoid this warning\n",
      "  time_avg = np.nanmean(epochs.get_data()[:, :, start_idx:end_idx], axis=2)\n"
     ]
    },
    {
     "name": "stdout",
     "output_type": "stream",
     "text": [
      "NOTE: pick_channels() is a legacy function. New code should use inst.pick(...).\n"
     ]
    },
    {
     "name": "stderr",
     "output_type": "stream",
     "text": [
      "C:\\Users\\jz421\\AppData\\Local\\Temp\\ipykernel_17404\\2512365097.py:8: FutureWarning: The default for pick_channels will change from ordered=False to ordered=True in 1.5 and this will result in a change of behavior because the resulting channel order will not match. Either use a channel order that matches your instance or pass ordered=False.\n",
      "  epochs = subjects_mne_objects[subject][output_name]['HG_ev1_rescaled'].copy().pick_channels(sig_electrodes)\n",
      "C:\\Users\\jz421\\AppData\\Local\\Temp\\ipykernel_17404\\2512365097.py:9: FutureWarning: The current default of copy=False will change to copy=True in 1.7. Set the value of copy explicitly to avoid this warning\n",
      "  trial_avg = np.nanmean(epochs.get_data(), axis=0)\n",
      "C:\\Users\\jz421\\AppData\\Local\\Temp\\ipykernel_17404\\2512365097.py:10: FutureWarning: The current default of copy=False will change to copy=True in 1.7. Set the value of copy explicitly to avoid this warning\n",
      "  time_avg = np.nanmean(epochs.get_data()[:, :, start_idx:end_idx], axis=2)\n"
     ]
    },
    {
     "name": "stdout",
     "output_type": "stream",
     "text": [
      "NOTE: pick_channels() is a legacy function. New code should use inst.pick(...).\n"
     ]
    },
    {
     "name": "stderr",
     "output_type": "stream",
     "text": [
      "C:\\Users\\jz421\\AppData\\Local\\Temp\\ipykernel_17404\\2512365097.py:8: FutureWarning: The default for pick_channels will change from ordered=False to ordered=True in 1.5 and this will result in a change of behavior because the resulting channel order will not match. Either use a channel order that matches your instance or pass ordered=False.\n",
      "  epochs = subjects_mne_objects[subject][output_name]['HG_ev1_rescaled'].copy().pick_channels(sig_electrodes)\n",
      "C:\\Users\\jz421\\AppData\\Local\\Temp\\ipykernel_17404\\2512365097.py:9: FutureWarning: The current default of copy=False will change to copy=True in 1.7. Set the value of copy explicitly to avoid this warning\n",
      "  trial_avg = np.nanmean(epochs.get_data(), axis=0)\n",
      "C:\\Users\\jz421\\AppData\\Local\\Temp\\ipykernel_17404\\2512365097.py:10: FutureWarning: The current default of copy=False will change to copy=True in 1.7. Set the value of copy explicitly to avoid this warning\n",
      "  time_avg = np.nanmean(epochs.get_data()[:, :, start_idx:end_idx], axis=2)\n"
     ]
    },
    {
     "name": "stdout",
     "output_type": "stream",
     "text": [
      "NOTE: pick_channels() is a legacy function. New code should use inst.pick(...).\n"
     ]
    },
    {
     "name": "stderr",
     "output_type": "stream",
     "text": [
      "C:\\Users\\jz421\\AppData\\Local\\Temp\\ipykernel_17404\\2512365097.py:9: FutureWarning: The current default of copy=False will change to copy=True in 1.7. Set the value of copy explicitly to avoid this warning\n",
      "  trial_avg = np.nanmean(epochs.get_data(), axis=0)\n",
      "C:\\Users\\jz421\\AppData\\Local\\Temp\\ipykernel_17404\\2512365097.py:10: FutureWarning: The current default of copy=False will change to copy=True in 1.7. Set the value of copy explicitly to avoid this warning\n",
      "  time_avg = np.nanmean(epochs.get_data()[:, :, start_idx:end_idx], axis=2)\n"
     ]
    },
    {
     "name": "stdout",
     "output_type": "stream",
     "text": [
      "NOTE: pick_channels() is a legacy function. New code should use inst.pick(...).\n"
     ]
    },
    {
     "name": "stderr",
     "output_type": "stream",
     "text": [
      "C:\\Users\\jz421\\AppData\\Local\\Temp\\ipykernel_17404\\2512365097.py:9: FutureWarning: The current default of copy=False will change to copy=True in 1.7. Set the value of copy explicitly to avoid this warning\n",
      "  trial_avg = np.nanmean(epochs.get_data(), axis=0)\n",
      "C:\\Users\\jz421\\AppData\\Local\\Temp\\ipykernel_17404\\2512365097.py:10: FutureWarning: The current default of copy=False will change to copy=True in 1.7. Set the value of copy explicitly to avoid this warning\n",
      "  time_avg = np.nanmean(epochs.get_data()[:, :, start_idx:end_idx], axis=2)\n"
     ]
    }
   ],
   "source": [
    "# import numpy as np\n",
    "\n",
    "# def calculate_averages(subjects_mne_objects, subject, output_names, sig_electrodes, start_idx, end_idx):\n",
    "#     trial_avg_list = []\n",
    "#     time_avg_list = []\n",
    "\n",
    "#     for output_name in output_names:\n",
    "#         epochs = subjects_mne_objects[subject][output_name]['HG_ev1_rescaled'].copy().pick_channels(sig_electrodes)\n",
    "#         trial_avg = np.nanmean(epochs.get_data(), axis=0)\n",
    "#         time_avg = np.nanmean(epochs.get_data()[:, :, start_idx:end_idx], axis=2)\n",
    "        \n",
    "#         trial_avg_list.append(trial_avg)\n",
    "#         time_avg_list.append(time_avg)\n",
    "    \n",
    "#     return trial_avg_list, time_avg_list\n",
    "\n",
    "# # def concatenate_data(data_list):\n",
    "# #     return np.concatenate(data_list, axis=0)\n",
    "\n",
    "# # Initialize lists to store data\n",
    "# output_0_data_trialAvg_list_dlpfc_test = []\n",
    "# output_1_data_trialAvg_list_dlpfc_test = []\n",
    "# output_0_data_trialAvg_list_acc = []\n",
    "# output_1_data_trialAvg_list_acc = []\n",
    "# output_0_data_trialAvg_list_parietal = []\n",
    "# output_1_data_trialAvg_list_parietal = []\n",
    "\n",
    "# # Initialize lists to store time-averaged data\n",
    "# output_0_data_timeAvg_list_dlpfc_test = []\n",
    "# output_1_data_timeAvg_list_dlpfc_test = []\n",
    "# output_0_data_timeAvg_list_acc = []\n",
    "# output_1_data_timeAvg_list_acc = []\n",
    "# output_0_data_timeAvg_list_parietal = []\n",
    "# output_1_data_timeAvg_list_parietal = []\n",
    "\n",
    "# start_idx, end_idx = 2048, 3072  # Time window from 0 to 0.5 seconds\n",
    "\n",
    "# # Processing for each electrode type\n",
    "# for sub in subjects:\n",
    "    \n",
    "#     # Processing for dlPFC electrodes\n",
    "#     if sig_dlpfc_electrodes_per_subject[sub]:\n",
    "#         dlpfc_trial_avg, dlpfc_time_avg = calculate_averages(subjects_mne_objects, sub, output_names, sig_dlpfc_electrodes_per_subject[sub], start_idx, end_idx)\n",
    "#         output_0_data_trialAvg_list_dlpfc_test.append(dlpfc_trial_avg[0])\n",
    "#         output_1_data_trialAvg_list_dlpfc_test.append(dlpfc_trial_avg[1])\n",
    "#         output_0_data_timeAvg_list_dlpfc_test.append(dlpfc_time_avg[0])\n",
    "#         output_1_data_timeAvg_list_dlpfc_test.append(dlpfc_time_avg[1])\n",
    "\n",
    "#     # Processing for ACC electrodes\n",
    "#     if sig_acc_electrodes_per_subject[sub]:\n",
    "#         acc_trial_avg, acc_time_avg = calculate_averages(subjects_mne_objects, sub, output_names, sig_acc_electrodes_per_subject[sub], start_idx, end_idx)\n",
    "#         output_0_data_trialAvg_list_acc.append(acc_trial_avg[0])\n",
    "#         output_1_data_trialAvg_list_acc.append(acc_trial_avg[1])\n",
    "#         output_0_data_timeAvg_list_acc.append(acc_time_avg[0])\n",
    "#         output_1_data_timeAvg_list_acc.append(acc_time_avg[1])\n",
    "\n",
    "#     # Processing for Parietal electrodes\n",
    "#     if sig_parietal_electrodes_per_subject[sub]:\n",
    "#         parietal_trial_avg, parietal_time_avg = calculate_averages(subjects_mne_objects, sub, output_names, sig_parietal_electrodes_per_subject[sub], start_idx, end_idx)\n",
    "#         output_0_data_trialAvg_list_parietal.append(parietal_trial_avg[0])\n",
    "#         output_1_data_trialAvg_list_parietal.append(parietal_trial_avg[1])\n",
    "#         output_0_data_timeAvg_list_parietal.append(parietal_time_avg[0])\n",
    "#         output_1_data_timeAvg_list_parietal.append(parietal_time_avg[1])"
   ]
  },
  {
   "cell_type": "code",
   "execution_count": 26,
   "metadata": {},
   "outputs": [
    {
     "name": "stdout",
     "output_type": "stream",
     "text": [
      "False\n"
     ]
    }
   ],
   "source": [
    "# Check if all corresponding arrays in the two lists are equal\n",
    "are_equal = all(np.array_equal(a, b) for a, b in zip(output_0_data_timeAvg_list_dlpfc_test, output_0_data_timeAvg_list_dlpfc))\n",
    "\n",
    "print(are_equal)"
   ]
  },
  {
   "cell_type": "markdown",
   "metadata": {},
   "source": [
    "### try time window stats instead"
   ]
  },
  {
   "cell_type": "code",
   "execution_count": 15,
   "metadata": {},
   "outputs": [
    {
     "ename": "AttributeError",
     "evalue": "'numpy.ndarray' object has no attribute 'info'",
     "output_type": "error",
     "traceback": [
      "\u001b[1;31m---------------------------------------------------------------------------\u001b[0m",
      "\u001b[1;31mAttributeError\u001b[0m                            Traceback (most recent call last)",
      "Cell \u001b[1;32mIn[15], line 1\u001b[0m\n\u001b[1;32m----> 1\u001b[0m \u001b[43moutput_0_data_trialAvg_dlpfc\u001b[49m\u001b[38;5;241;43m.\u001b[39;49m\u001b[43minfo\u001b[49m[\u001b[38;5;124m'\u001b[39m\u001b[38;5;124msfreq\u001b[39m\u001b[38;5;124m'\u001b[39m]\n",
      "\u001b[1;31mAttributeError\u001b[0m: 'numpy.ndarray' object has no attribute 'info'"
     ]
    }
   ],
   "source": [
    "output_0_data_trialAvg_dlpfc.info['sfreq']"
   ]
  },
  {
   "cell_type": "code",
   "execution_count": null,
   "metadata": {},
   "outputs": [],
   "source": [
    "# Calculate mean and SEM across electrodes\n",
    "output_0_data_timeAvg_dlpfc\n",
    "overall_average_dlpfc_output_0_time_window = np.nanmean(output_0_data_trialAvg_dlpfc, axis=2)\n",
    "overall_sem_dlpfc_output_0_time_window = np.std(output_0_data_trialAvg_dlpfc, axis=0, ddof=1) / np.sqrt(output_0_data_trialAvg_dlpfc.shape[0])\n",
    "overall_average_dlpfc_output_1_time_window = np.nanmean(output_1_data_trialAvg_dlpfc, axis=2)\n",
    "overall_sem_dlpfc_output_1_time_window = np.std(output_1_data_trialAvg_dlpfc, axis=0, ddof=1) / np.sqrt(output_1_data_trialAvg_dlpfc.shape[0])\n",
    "\n",
    "overall_average_acc_output_0_time_window = np.nanmean(output_0_data_trialAvg_acc, axis=2)\n",
    "overall_sem_acc_output_0_time_window = np.std(output_0_data_trialAvg_acc, axis=0, ddof=1) / np.sqrt(output_0_data_trialAvg_acc.shape[0])\n",
    "overall_average_acc_output_1_time_window = np.nanmean(output_1_data_trialAvg_acc, axis=2)\n",
    "overall_sem_acc_output_1_time_window = np.std(output_1_data_trialAvg_acc, axis=0, ddof=1) / np.sqrt(output_1_data_trialAvg_acc.shape[0])\n",
    "\n",
    "overall_average_parietal_output_0_time_window = np.nanmean(output_0_data_trialAvg_parietal, axis=2)\n",
    "overall_sem_parietal_output_0_time_window = np.std(output_0_data_trialAvg_parietal, axis=0, ddof=1) / np.sqrt(output_0_data_trialAvg_parietal.shape[0])\n",
    "overall_average_parietal_output_1_time_window = np.nanmean(output_1_data_trialAvg_parietal, axis=2)\n",
    "overall_sem_parietal_output_1_time_window = np.std(output_1_data_trialAvg_parietal, axis=0, ddof=1) / np.sqrt(output_1_data_trialAvg_parietal.shape[0])\n"
   ]
  },
  {
   "cell_type": "markdown",
   "metadata": {},
   "source": [
    "### plot and QC stats"
   ]
  },
  {
   "cell_type": "markdown",
   "metadata": {},
   "source": [
    "check if no significant differences.."
   ]
  },
  {
   "cell_type": "code",
   "execution_count": 52,
   "metadata": {},
   "outputs": [
    {
     "ename": "KeyboardInterrupt",
     "evalue": "",
     "output_type": "error",
     "traceback": [
      "\u001b[1;31m---------------------------------------------------------------------------\u001b[0m",
      "\u001b[1;31mKeyboardInterrupt\u001b[0m                         Traceback (most recent call last)",
      "Cell \u001b[1;32mIn[52], line 7\u001b[0m\n\u001b[0;32m      5\u001b[0m plt\u001b[38;5;241m.\u001b[39mylabel(\u001b[38;5;124m'\u001b[39m\u001b[38;5;124mSignificance (0 or 1)\u001b[39m\u001b[38;5;124m'\u001b[39m)\n\u001b[0;32m      6\u001b[0m plt\u001b[38;5;241m.\u001b[39mtitle(\u001b[38;5;124m'\u001b[39m\u001b[38;5;124mPermutation Test Significance Over Time\u001b[39m\u001b[38;5;124m'\u001b[39m)\n\u001b[1;32m----> 7\u001b[0m \u001b[43mplt\u001b[49m\u001b[38;5;241;43m.\u001b[39;49m\u001b[43mshow\u001b[49m\u001b[43m(\u001b[49m\u001b[43m)\u001b[49m\n",
      "File \u001b[1;32mc:\\Users\\jz421\\AppData\\Local\\anaconda3\\envs\\ieeg\\Lib\\site-packages\\matplotlib\\pyplot.py:446\u001b[0m, in \u001b[0;36mshow\u001b[1;34m(*args, **kwargs)\u001b[0m\n\u001b[0;32m    402\u001b[0m \u001b[38;5;250m\u001b[39m\u001b[38;5;124;03m\"\"\"\u001b[39;00m\n\u001b[0;32m    403\u001b[0m \u001b[38;5;124;03mDisplay all open figures.\u001b[39;00m\n\u001b[0;32m    404\u001b[0m \n\u001b[1;32m   (...)\u001b[0m\n\u001b[0;32m    443\u001b[0m \u001b[38;5;124;03mexplicitly there.\u001b[39;00m\n\u001b[0;32m    444\u001b[0m \u001b[38;5;124;03m\"\"\"\u001b[39;00m\n\u001b[0;32m    445\u001b[0m _warn_if_gui_out_of_main_thread()\n\u001b[1;32m--> 446\u001b[0m \u001b[38;5;28;01mreturn\u001b[39;00m \u001b[43m_get_backend_mod\u001b[49m\u001b[43m(\u001b[49m\u001b[43m)\u001b[49m\u001b[38;5;241;43m.\u001b[39;49m\u001b[43mshow\u001b[49m\u001b[43m(\u001b[49m\u001b[38;5;241;43m*\u001b[39;49m\u001b[43margs\u001b[49m\u001b[43m,\u001b[49m\u001b[43m \u001b[49m\u001b[38;5;241;43m*\u001b[39;49m\u001b[38;5;241;43m*\u001b[39;49m\u001b[43mkwargs\u001b[49m\u001b[43m)\u001b[49m\n",
      "File \u001b[1;32mc:\\Users\\jz421\\AppData\\Local\\anaconda3\\envs\\ieeg\\Lib\\site-packages\\matplotlib\\backend_bases.py:3620\u001b[0m, in \u001b[0;36m_Backend.show\u001b[1;34m(cls, block)\u001b[0m\n\u001b[0;32m   3618\u001b[0m     block \u001b[38;5;241m=\u001b[39m \u001b[38;5;129;01mnot\u001b[39;00m ipython_pylab \u001b[38;5;129;01mand\u001b[39;00m \u001b[38;5;129;01mnot\u001b[39;00m is_interactive()\n\u001b[0;32m   3619\u001b[0m \u001b[38;5;28;01mif\u001b[39;00m block:\n\u001b[1;32m-> 3620\u001b[0m     \u001b[38;5;28;43mcls\u001b[39;49m\u001b[38;5;241;43m.\u001b[39;49m\u001b[43mmainloop\u001b[49m\u001b[43m(\u001b[49m\u001b[43m)\u001b[49m\n",
      "File \u001b[1;32mc:\\Users\\jz421\\AppData\\Local\\anaconda3\\envs\\ieeg\\Lib\\site-packages\\matplotlib\\backends\\backend_qt.py:604\u001b[0m, in \u001b[0;36mFigureManagerQT.start_main_loop\u001b[1;34m(cls)\u001b[0m\n\u001b[0;32m    602\u001b[0m qapp \u001b[38;5;241m=\u001b[39m QtWidgets\u001b[38;5;241m.\u001b[39mQApplication\u001b[38;5;241m.\u001b[39minstance()\n\u001b[0;32m    603\u001b[0m \u001b[38;5;28;01mif\u001b[39;00m qapp:\n\u001b[1;32m--> 604\u001b[0m \u001b[43m    \u001b[49m\u001b[38;5;28;43;01mwith\u001b[39;49;00m\u001b[43m \u001b[49m\u001b[43m_maybe_allow_interrupt\u001b[49m\u001b[43m(\u001b[49m\u001b[43mqapp\u001b[49m\u001b[43m)\u001b[49m\u001b[43m:\u001b[49m\n\u001b[0;32m    605\u001b[0m \u001b[43m        \u001b[49m\u001b[43mqt_compat\u001b[49m\u001b[38;5;241;43m.\u001b[39;49m\u001b[43m_exec\u001b[49m\u001b[43m(\u001b[49m\u001b[43mqapp\u001b[49m\u001b[43m)\u001b[49m\n",
      "File \u001b[1;32mc:\\Users\\jz421\\AppData\\Local\\anaconda3\\envs\\ieeg\\Lib\\contextlib.py:144\u001b[0m, in \u001b[0;36m_GeneratorContextManager.__exit__\u001b[1;34m(self, typ, value, traceback)\u001b[0m\n\u001b[0;32m    142\u001b[0m \u001b[38;5;28;01mif\u001b[39;00m typ \u001b[38;5;129;01mis\u001b[39;00m \u001b[38;5;28;01mNone\u001b[39;00m:\n\u001b[0;32m    143\u001b[0m     \u001b[38;5;28;01mtry\u001b[39;00m:\n\u001b[1;32m--> 144\u001b[0m         \u001b[38;5;28mnext\u001b[39m(\u001b[38;5;28mself\u001b[39m\u001b[38;5;241m.\u001b[39mgen)\n\u001b[0;32m    145\u001b[0m     \u001b[38;5;28;01mexcept\u001b[39;00m \u001b[38;5;167;01mStopIteration\u001b[39;00m:\n\u001b[0;32m    146\u001b[0m         \u001b[38;5;28;01mreturn\u001b[39;00m \u001b[38;5;28;01mFalse\u001b[39;00m\n",
      "File \u001b[1;32mc:\\Users\\jz421\\AppData\\Local\\anaconda3\\envs\\ieeg\\Lib\\site-packages\\matplotlib\\backends\\qt_compat.py:245\u001b[0m, in \u001b[0;36m_maybe_allow_interrupt\u001b[1;34m(qapp)\u001b[0m\n\u001b[0;32m    243\u001b[0m signal\u001b[38;5;241m.\u001b[39msignal(signal\u001b[38;5;241m.\u001b[39mSIGINT, old_sigint_handler)\n\u001b[0;32m    244\u001b[0m \u001b[38;5;28;01mif\u001b[39;00m handler_args \u001b[38;5;129;01mis\u001b[39;00m \u001b[38;5;129;01mnot\u001b[39;00m \u001b[38;5;28;01mNone\u001b[39;00m:\n\u001b[1;32m--> 245\u001b[0m     \u001b[43mold_sigint_handler\u001b[49m\u001b[43m(\u001b[49m\u001b[38;5;241;43m*\u001b[39;49m\u001b[43mhandler_args\u001b[49m\u001b[43m)\u001b[49m\n",
      "\u001b[1;31mKeyboardInterrupt\u001b[0m: "
     ]
    }
   ],
   "source": [
    "# Plotting\n",
    "plt.figure(figsize=(10, 6))\n",
    "plt.plot(mat_acc)\n",
    "plt.xlabel('Timepoints')\n",
    "plt.ylabel('Significance (0 or 1)')\n",
    "plt.title('Permutation Test Significance Over Time')\n",
    "plt.show()"
   ]
  },
  {
   "cell_type": "markdown",
   "metadata": {},
   "source": [
    "try a basic t-test as a sanity check (ok its also not significant)"
   ]
  },
  {
   "cell_type": "code",
   "execution_count": null,
   "metadata": {},
   "outputs": [],
   "source": [
    "import numpy as np\n",
    "from scipy.stats import ttest_ind\n",
    "\n",
    "p_values = np.array([ttest_ind(output_0_data_trialAvg[:, tp], output_1_data_trialAvg[:, tp]).pvalue for tp in range(output_0_data_trialAvg.shape[1])])\n",
    "significance = p_values < 0.05  # Apply a significance threshold, e.g., p < 0.05\n",
    "\n",
    "# Plotting\n",
    "plt.figure(figsize=(12, 6))\n",
    "plt.plot(range(output_0_data_trialAvg.shape[1]), significance, label='Significance (p < 0.05)')\n",
    "plt.xlabel('Time Point')\n",
    "plt.ylabel('Significance (True/False)')\n",
    "plt.title('Statistical Significance Over Time')\n",
    "plt.legend()\n",
    "plt.show()\n"
   ]
  },
  {
   "cell_type": "markdown",
   "metadata": {},
   "source": [
    "### plot dlpfc inc vs. con, avg across all subjects (or whatever conditions you wanna compare, just use the proper output names)"
   ]
  },
  {
   "cell_type": "markdown",
   "metadata": {},
   "source": [
    "dlpfc  \n",
    "use blue and gold for congruent and incongruent  \n",
    "red and green for repeat and switch"
   ]
  },
  {
   "cell_type": "code",
   "execution_count": 60,
   "metadata": {},
   "outputs": [
    {
     "ename": "KeyboardInterrupt",
     "evalue": "",
     "output_type": "error",
     "traceback": [
      "\u001b[1;31m---------------------------------------------------------------------------\u001b[0m",
      "\u001b[1;31mKeyboardInterrupt\u001b[0m                         Traceback (most recent call last)",
      "Cell \u001b[1;32mIn[60], line 32\u001b[0m\n\u001b[0;32m     30\u001b[0m plt\u001b[38;5;241m.\u001b[39mlegend()\n\u001b[0;32m     31\u001b[0m plt\u001b[38;5;241m.\u001b[39msavefig(save_path)  \u001b[38;5;66;03m# Modify save_dir as necessary\u001b[39;00m\n\u001b[1;32m---> 32\u001b[0m \u001b[43mplt\u001b[49m\u001b[38;5;241;43m.\u001b[39;49m\u001b[43mshow\u001b[49m\u001b[43m(\u001b[49m\u001b[43m)\u001b[49m\n",
      "File \u001b[1;32mc:\\Users\\jz421\\AppData\\Local\\anaconda3\\envs\\ieeg\\Lib\\site-packages\\matplotlib\\pyplot.py:446\u001b[0m, in \u001b[0;36mshow\u001b[1;34m(*args, **kwargs)\u001b[0m\n\u001b[0;32m    402\u001b[0m \u001b[38;5;250m\u001b[39m\u001b[38;5;124;03m\"\"\"\u001b[39;00m\n\u001b[0;32m    403\u001b[0m \u001b[38;5;124;03mDisplay all open figures.\u001b[39;00m\n\u001b[0;32m    404\u001b[0m \n\u001b[1;32m   (...)\u001b[0m\n\u001b[0;32m    443\u001b[0m \u001b[38;5;124;03mexplicitly there.\u001b[39;00m\n\u001b[0;32m    444\u001b[0m \u001b[38;5;124;03m\"\"\"\u001b[39;00m\n\u001b[0;32m    445\u001b[0m _warn_if_gui_out_of_main_thread()\n\u001b[1;32m--> 446\u001b[0m \u001b[38;5;28;01mreturn\u001b[39;00m \u001b[43m_get_backend_mod\u001b[49m\u001b[43m(\u001b[49m\u001b[43m)\u001b[49m\u001b[38;5;241;43m.\u001b[39;49m\u001b[43mshow\u001b[49m\u001b[43m(\u001b[49m\u001b[38;5;241;43m*\u001b[39;49m\u001b[43margs\u001b[49m\u001b[43m,\u001b[49m\u001b[43m \u001b[49m\u001b[38;5;241;43m*\u001b[39;49m\u001b[38;5;241;43m*\u001b[39;49m\u001b[43mkwargs\u001b[49m\u001b[43m)\u001b[49m\n",
      "File \u001b[1;32mc:\\Users\\jz421\\AppData\\Local\\anaconda3\\envs\\ieeg\\Lib\\site-packages\\matplotlib\\backend_bases.py:3620\u001b[0m, in \u001b[0;36m_Backend.show\u001b[1;34m(cls, block)\u001b[0m\n\u001b[0;32m   3618\u001b[0m     block \u001b[38;5;241m=\u001b[39m \u001b[38;5;129;01mnot\u001b[39;00m ipython_pylab \u001b[38;5;129;01mand\u001b[39;00m \u001b[38;5;129;01mnot\u001b[39;00m is_interactive()\n\u001b[0;32m   3619\u001b[0m \u001b[38;5;28;01mif\u001b[39;00m block:\n\u001b[1;32m-> 3620\u001b[0m     \u001b[38;5;28;43mcls\u001b[39;49m\u001b[38;5;241;43m.\u001b[39;49m\u001b[43mmainloop\u001b[49m\u001b[43m(\u001b[49m\u001b[43m)\u001b[49m\n",
      "File \u001b[1;32mc:\\Users\\jz421\\AppData\\Local\\anaconda3\\envs\\ieeg\\Lib\\site-packages\\matplotlib\\backends\\backend_qt.py:604\u001b[0m, in \u001b[0;36mFigureManagerQT.start_main_loop\u001b[1;34m(cls)\u001b[0m\n\u001b[0;32m    602\u001b[0m qapp \u001b[38;5;241m=\u001b[39m QtWidgets\u001b[38;5;241m.\u001b[39mQApplication\u001b[38;5;241m.\u001b[39minstance()\n\u001b[0;32m    603\u001b[0m \u001b[38;5;28;01mif\u001b[39;00m qapp:\n\u001b[1;32m--> 604\u001b[0m \u001b[43m    \u001b[49m\u001b[38;5;28;43;01mwith\u001b[39;49;00m\u001b[43m \u001b[49m\u001b[43m_maybe_allow_interrupt\u001b[49m\u001b[43m(\u001b[49m\u001b[43mqapp\u001b[49m\u001b[43m)\u001b[49m\u001b[43m:\u001b[49m\n\u001b[0;32m    605\u001b[0m \u001b[43m        \u001b[49m\u001b[43mqt_compat\u001b[49m\u001b[38;5;241;43m.\u001b[39;49m\u001b[43m_exec\u001b[49m\u001b[43m(\u001b[49m\u001b[43mqapp\u001b[49m\u001b[43m)\u001b[49m\n",
      "File \u001b[1;32mc:\\Users\\jz421\\AppData\\Local\\anaconda3\\envs\\ieeg\\Lib\\contextlib.py:144\u001b[0m, in \u001b[0;36m_GeneratorContextManager.__exit__\u001b[1;34m(self, typ, value, traceback)\u001b[0m\n\u001b[0;32m    142\u001b[0m \u001b[38;5;28;01mif\u001b[39;00m typ \u001b[38;5;129;01mis\u001b[39;00m \u001b[38;5;28;01mNone\u001b[39;00m:\n\u001b[0;32m    143\u001b[0m     \u001b[38;5;28;01mtry\u001b[39;00m:\n\u001b[1;32m--> 144\u001b[0m         \u001b[38;5;28mnext\u001b[39m(\u001b[38;5;28mself\u001b[39m\u001b[38;5;241m.\u001b[39mgen)\n\u001b[0;32m    145\u001b[0m     \u001b[38;5;28;01mexcept\u001b[39;00m \u001b[38;5;167;01mStopIteration\u001b[39;00m:\n\u001b[0;32m    146\u001b[0m         \u001b[38;5;28;01mreturn\u001b[39;00m \u001b[38;5;28;01mFalse\u001b[39;00m\n",
      "File \u001b[1;32mc:\\Users\\jz421\\AppData\\Local\\anaconda3\\envs\\ieeg\\Lib\\site-packages\\matplotlib\\backends\\qt_compat.py:245\u001b[0m, in \u001b[0;36m_maybe_allow_interrupt\u001b[1;34m(qapp)\u001b[0m\n\u001b[0;32m    243\u001b[0m signal\u001b[38;5;241m.\u001b[39msignal(signal\u001b[38;5;241m.\u001b[39mSIGINT, old_sigint_handler)\n\u001b[0;32m    244\u001b[0m \u001b[38;5;28;01mif\u001b[39;00m handler_args \u001b[38;5;129;01mis\u001b[39;00m \u001b[38;5;129;01mnot\u001b[39;00m \u001b[38;5;28;01mNone\u001b[39;00m:\n\u001b[1;32m--> 245\u001b[0m     \u001b[43mold_sigint_handler\u001b[49m\u001b[43m(\u001b[49m\u001b[38;5;241;43m*\u001b[39;49m\u001b[43mhandler_args\u001b[49m\u001b[43m)\u001b[49m\n",
      "\u001b[1;31mKeyboardInterrupt\u001b[0m: "
     ]
    }
   ],
   "source": [
    "# Determine LAB_root based on the operating system\n",
    "HOME = os.path.expanduser(\"~\")\n",
    "LAB_root = os.path.join(HOME, \"Box\", \"CoganLab\") if os.name == 'nt' else os.path.join(HOME, \"Library\", \"CloudStorage\", \"Box-Box\", \"CoganLab\")\n",
    "\n",
    "# Get data layout\n",
    "layout = get_data(task, root=LAB_root)\n",
    "save_dir = os.path.join(layout.root, 'derivatives', 'freqFilt', 'figs')\n",
    "save_path = os.path.join(save_dir, 'avg_dlpfc_switchRepeat_zscore.png')\n",
    "\n",
    "plt.figure(figsize=(10, 6))\n",
    "\n",
    "HG_ev1_evoke_rescaled_D0063_c = subjects_mne_objects['D0063'][output_names[0]]['HG_ev1_evoke_rescaled']\n",
    "\n",
    "# Use the times from your evoked data (assuming these are representative for all subjects)\n",
    "times = HG_ev1_evoke_rescaled_D0063_c.times  # Modify as needed to match your data\n",
    "\n",
    "# Plot overall_average_acc of the 0th output with SEM shading\n",
    "plt.plot(times, overall_average_acc_output_0, label='Average dlpfc repeat', color='red')\n",
    "plt.fill_between(times, overall_average_dlpfc_output_0 - overall_sem_dlpfc_output_0, \n",
    "                 overall_average_dlpfc_output_0 + overall_sem_dlpfc_output_0, alpha=0.3, color='red')\n",
    "\n",
    "# Plot overall_average_dlpfc of the 1st output with SEM shading\n",
    "plt.plot(times, overall_average_dlpfc_output_1, label='Average dlpfc switch', color='green')\n",
    "plt.fill_between(times, overall_average_dlpfc_output_1 - overall_sem_dlpfc_output_1, \n",
    "                 overall_average_dlpfc_output_1 + overall_sem_dlpfc_output_1, alpha=0.3, color='green')\n",
    "\n",
    "plt.xlabel('Time (s)')\n",
    "plt.ylabel('Z-score')\n",
    "plt.title('Average dlpfc Signal with Standard Error (switch vs repeat)')\n",
    "plt.legend()\n",
    "plt.savefig(save_path)  # Modify save_dir as necessary\n",
    "plt.show()\n"
   ]
  },
  {
   "cell_type": "markdown",
   "metadata": {},
   "source": [
    "acc"
   ]
  },
  {
   "cell_type": "code",
   "execution_count": 61,
   "metadata": {},
   "outputs": [
    {
     "ename": "KeyboardInterrupt",
     "evalue": "",
     "output_type": "error",
     "traceback": [
      "\u001b[1;31m---------------------------------------------------------------------------\u001b[0m",
      "\u001b[1;31mKeyboardInterrupt\u001b[0m                         Traceback (most recent call last)",
      "Cell \u001b[1;32mIn[61], line 32\u001b[0m\n\u001b[0;32m     30\u001b[0m plt\u001b[38;5;241m.\u001b[39mlegend()\n\u001b[0;32m     31\u001b[0m plt\u001b[38;5;241m.\u001b[39msavefig(save_path)  \u001b[38;5;66;03m# Modify save_dir as necessary\u001b[39;00m\n\u001b[1;32m---> 32\u001b[0m \u001b[43mplt\u001b[49m\u001b[38;5;241;43m.\u001b[39;49m\u001b[43mshow\u001b[49m\u001b[43m(\u001b[49m\u001b[43m)\u001b[49m\n",
      "File \u001b[1;32mc:\\Users\\jz421\\AppData\\Local\\anaconda3\\envs\\ieeg\\Lib\\site-packages\\matplotlib\\pyplot.py:446\u001b[0m, in \u001b[0;36mshow\u001b[1;34m(*args, **kwargs)\u001b[0m\n\u001b[0;32m    402\u001b[0m \u001b[38;5;250m\u001b[39m\u001b[38;5;124;03m\"\"\"\u001b[39;00m\n\u001b[0;32m    403\u001b[0m \u001b[38;5;124;03mDisplay all open figures.\u001b[39;00m\n\u001b[0;32m    404\u001b[0m \n\u001b[1;32m   (...)\u001b[0m\n\u001b[0;32m    443\u001b[0m \u001b[38;5;124;03mexplicitly there.\u001b[39;00m\n\u001b[0;32m    444\u001b[0m \u001b[38;5;124;03m\"\"\"\u001b[39;00m\n\u001b[0;32m    445\u001b[0m _warn_if_gui_out_of_main_thread()\n\u001b[1;32m--> 446\u001b[0m \u001b[38;5;28;01mreturn\u001b[39;00m \u001b[43m_get_backend_mod\u001b[49m\u001b[43m(\u001b[49m\u001b[43m)\u001b[49m\u001b[38;5;241;43m.\u001b[39;49m\u001b[43mshow\u001b[49m\u001b[43m(\u001b[49m\u001b[38;5;241;43m*\u001b[39;49m\u001b[43margs\u001b[49m\u001b[43m,\u001b[49m\u001b[43m \u001b[49m\u001b[38;5;241;43m*\u001b[39;49m\u001b[38;5;241;43m*\u001b[39;49m\u001b[43mkwargs\u001b[49m\u001b[43m)\u001b[49m\n",
      "File \u001b[1;32mc:\\Users\\jz421\\AppData\\Local\\anaconda3\\envs\\ieeg\\Lib\\site-packages\\matplotlib\\backend_bases.py:3620\u001b[0m, in \u001b[0;36m_Backend.show\u001b[1;34m(cls, block)\u001b[0m\n\u001b[0;32m   3618\u001b[0m     block \u001b[38;5;241m=\u001b[39m \u001b[38;5;129;01mnot\u001b[39;00m ipython_pylab \u001b[38;5;129;01mand\u001b[39;00m \u001b[38;5;129;01mnot\u001b[39;00m is_interactive()\n\u001b[0;32m   3619\u001b[0m \u001b[38;5;28;01mif\u001b[39;00m block:\n\u001b[1;32m-> 3620\u001b[0m     \u001b[38;5;28;43mcls\u001b[39;49m\u001b[38;5;241;43m.\u001b[39;49m\u001b[43mmainloop\u001b[49m\u001b[43m(\u001b[49m\u001b[43m)\u001b[49m\n",
      "File \u001b[1;32mc:\\Users\\jz421\\AppData\\Local\\anaconda3\\envs\\ieeg\\Lib\\site-packages\\matplotlib\\backends\\backend_qt.py:604\u001b[0m, in \u001b[0;36mFigureManagerQT.start_main_loop\u001b[1;34m(cls)\u001b[0m\n\u001b[0;32m    602\u001b[0m qapp \u001b[38;5;241m=\u001b[39m QtWidgets\u001b[38;5;241m.\u001b[39mQApplication\u001b[38;5;241m.\u001b[39minstance()\n\u001b[0;32m    603\u001b[0m \u001b[38;5;28;01mif\u001b[39;00m qapp:\n\u001b[1;32m--> 604\u001b[0m \u001b[43m    \u001b[49m\u001b[38;5;28;43;01mwith\u001b[39;49;00m\u001b[43m \u001b[49m\u001b[43m_maybe_allow_interrupt\u001b[49m\u001b[43m(\u001b[49m\u001b[43mqapp\u001b[49m\u001b[43m)\u001b[49m\u001b[43m:\u001b[49m\n\u001b[0;32m    605\u001b[0m \u001b[43m        \u001b[49m\u001b[43mqt_compat\u001b[49m\u001b[38;5;241;43m.\u001b[39;49m\u001b[43m_exec\u001b[49m\u001b[43m(\u001b[49m\u001b[43mqapp\u001b[49m\u001b[43m)\u001b[49m\n",
      "File \u001b[1;32mc:\\Users\\jz421\\AppData\\Local\\anaconda3\\envs\\ieeg\\Lib\\contextlib.py:144\u001b[0m, in \u001b[0;36m_GeneratorContextManager.__exit__\u001b[1;34m(self, typ, value, traceback)\u001b[0m\n\u001b[0;32m    142\u001b[0m \u001b[38;5;28;01mif\u001b[39;00m typ \u001b[38;5;129;01mis\u001b[39;00m \u001b[38;5;28;01mNone\u001b[39;00m:\n\u001b[0;32m    143\u001b[0m     \u001b[38;5;28;01mtry\u001b[39;00m:\n\u001b[1;32m--> 144\u001b[0m         \u001b[38;5;28mnext\u001b[39m(\u001b[38;5;28mself\u001b[39m\u001b[38;5;241m.\u001b[39mgen)\n\u001b[0;32m    145\u001b[0m     \u001b[38;5;28;01mexcept\u001b[39;00m \u001b[38;5;167;01mStopIteration\u001b[39;00m:\n\u001b[0;32m    146\u001b[0m         \u001b[38;5;28;01mreturn\u001b[39;00m \u001b[38;5;28;01mFalse\u001b[39;00m\n",
      "File \u001b[1;32mc:\\Users\\jz421\\AppData\\Local\\anaconda3\\envs\\ieeg\\Lib\\site-packages\\matplotlib\\backends\\qt_compat.py:245\u001b[0m, in \u001b[0;36m_maybe_allow_interrupt\u001b[1;34m(qapp)\u001b[0m\n\u001b[0;32m    243\u001b[0m signal\u001b[38;5;241m.\u001b[39msignal(signal\u001b[38;5;241m.\u001b[39mSIGINT, old_sigint_handler)\n\u001b[0;32m    244\u001b[0m \u001b[38;5;28;01mif\u001b[39;00m handler_args \u001b[38;5;129;01mis\u001b[39;00m \u001b[38;5;129;01mnot\u001b[39;00m \u001b[38;5;28;01mNone\u001b[39;00m:\n\u001b[1;32m--> 245\u001b[0m     \u001b[43mold_sigint_handler\u001b[49m\u001b[43m(\u001b[49m\u001b[38;5;241;43m*\u001b[39;49m\u001b[43mhandler_args\u001b[49m\u001b[43m)\u001b[49m\n",
      "\u001b[1;31mKeyboardInterrupt\u001b[0m: "
     ]
    }
   ],
   "source": [
    "# Determine LAB_root based on the operating system\n",
    "HOME = os.path.expanduser(\"~\")\n",
    "LAB_root = os.path.join(HOME, \"Box\", \"CoganLab\") if os.name == 'nt' else os.path.join(HOME, \"Library\", \"CloudStorage\", \"Box-Box\", \"CoganLab\")\n",
    "\n",
    "# Get data layout\n",
    "layout = get_data(task, root=LAB_root)\n",
    "save_dir = os.path.join(layout.root, 'derivatives', 'freqFilt', 'figs')\n",
    "save_path = os.path.join(save_dir, 'avg_acc_switchRepeat_zscore.png')\n",
    "\n",
    "plt.figure(figsize=(10, 6))\n",
    "\n",
    "HG_ev1_evoke_rescaled_D0063_c = subjects_mne_objects['D0063'][output_names[0]]['HG_ev1_evoke_rescaled']\n",
    "\n",
    "# Use the times from your evoked data (assuming these are representative for all subjects)\n",
    "times = HG_ev1_evoke_rescaled_D0063_c.times  # Modify as needed to match your data\n",
    "\n",
    "# Plot overall_average_acc of the 0th output with SEM shading\n",
    "plt.plot(times, overall_average_acc_output_0, label='Average acc repeat', color='red')\n",
    "plt.fill_between(times, overall_average_acc_output_0 - overall_sem_acc_output_0, \n",
    "                 overall_average_acc_output_0 + overall_sem_acc_output_0, alpha=0.3, color='red')\n",
    "\n",
    "# Plot overall_average_dlpfc of the 1st output with SEM shading\n",
    "plt.plot(times, overall_average_acc_output_1, label='Average acc switch', color='green')\n",
    "plt.fill_between(times, overall_average_acc_output_1 - overall_sem_acc_output_1, \n",
    "                 overall_average_acc_output_1 + overall_sem_acc_output_1, alpha=0.3, color='green')\n",
    "\n",
    "plt.xlabel('Time (s)')\n",
    "plt.ylabel('Z-score')\n",
    "plt.title('Average acc Signal with Standard Error (switch vs repeat)')\n",
    "plt.legend()\n",
    "plt.savefig(save_path)  # Modify save_dir as necessary\n",
    "plt.show()\n"
   ]
  },
  {
   "cell_type": "markdown",
   "metadata": {},
   "source": [
    "parietal"
   ]
  },
  {
   "cell_type": "code",
   "execution_count": 62,
   "metadata": {},
   "outputs": [
    {
     "ename": "KeyboardInterrupt",
     "evalue": "",
     "output_type": "error",
     "traceback": [
      "\u001b[1;31m---------------------------------------------------------------------------\u001b[0m",
      "\u001b[1;31mKeyboardInterrupt\u001b[0m                         Traceback (most recent call last)",
      "Cell \u001b[1;32mIn[62], line 32\u001b[0m\n\u001b[0;32m     30\u001b[0m plt\u001b[38;5;241m.\u001b[39mlegend()\n\u001b[0;32m     31\u001b[0m plt\u001b[38;5;241m.\u001b[39msavefig(save_path)  \u001b[38;5;66;03m# Modify save_dir as necessary\u001b[39;00m\n\u001b[1;32m---> 32\u001b[0m \u001b[43mplt\u001b[49m\u001b[38;5;241;43m.\u001b[39;49m\u001b[43mshow\u001b[49m\u001b[43m(\u001b[49m\u001b[43m)\u001b[49m\n",
      "File \u001b[1;32mc:\\Users\\jz421\\AppData\\Local\\anaconda3\\envs\\ieeg\\Lib\\site-packages\\matplotlib\\pyplot.py:446\u001b[0m, in \u001b[0;36mshow\u001b[1;34m(*args, **kwargs)\u001b[0m\n\u001b[0;32m    402\u001b[0m \u001b[38;5;250m\u001b[39m\u001b[38;5;124;03m\"\"\"\u001b[39;00m\n\u001b[0;32m    403\u001b[0m \u001b[38;5;124;03mDisplay all open figures.\u001b[39;00m\n\u001b[0;32m    404\u001b[0m \n\u001b[1;32m   (...)\u001b[0m\n\u001b[0;32m    443\u001b[0m \u001b[38;5;124;03mexplicitly there.\u001b[39;00m\n\u001b[0;32m    444\u001b[0m \u001b[38;5;124;03m\"\"\"\u001b[39;00m\n\u001b[0;32m    445\u001b[0m _warn_if_gui_out_of_main_thread()\n\u001b[1;32m--> 446\u001b[0m \u001b[38;5;28;01mreturn\u001b[39;00m \u001b[43m_get_backend_mod\u001b[49m\u001b[43m(\u001b[49m\u001b[43m)\u001b[49m\u001b[38;5;241;43m.\u001b[39;49m\u001b[43mshow\u001b[49m\u001b[43m(\u001b[49m\u001b[38;5;241;43m*\u001b[39;49m\u001b[43margs\u001b[49m\u001b[43m,\u001b[49m\u001b[43m \u001b[49m\u001b[38;5;241;43m*\u001b[39;49m\u001b[38;5;241;43m*\u001b[39;49m\u001b[43mkwargs\u001b[49m\u001b[43m)\u001b[49m\n",
      "File \u001b[1;32mc:\\Users\\jz421\\AppData\\Local\\anaconda3\\envs\\ieeg\\Lib\\site-packages\\matplotlib\\backend_bases.py:3620\u001b[0m, in \u001b[0;36m_Backend.show\u001b[1;34m(cls, block)\u001b[0m\n\u001b[0;32m   3618\u001b[0m     block \u001b[38;5;241m=\u001b[39m \u001b[38;5;129;01mnot\u001b[39;00m ipython_pylab \u001b[38;5;129;01mand\u001b[39;00m \u001b[38;5;129;01mnot\u001b[39;00m is_interactive()\n\u001b[0;32m   3619\u001b[0m \u001b[38;5;28;01mif\u001b[39;00m block:\n\u001b[1;32m-> 3620\u001b[0m     \u001b[38;5;28;43mcls\u001b[39;49m\u001b[38;5;241;43m.\u001b[39;49m\u001b[43mmainloop\u001b[49m\u001b[43m(\u001b[49m\u001b[43m)\u001b[49m\n",
      "File \u001b[1;32mc:\\Users\\jz421\\AppData\\Local\\anaconda3\\envs\\ieeg\\Lib\\site-packages\\matplotlib\\backends\\backend_qt.py:604\u001b[0m, in \u001b[0;36mFigureManagerQT.start_main_loop\u001b[1;34m(cls)\u001b[0m\n\u001b[0;32m    602\u001b[0m qapp \u001b[38;5;241m=\u001b[39m QtWidgets\u001b[38;5;241m.\u001b[39mQApplication\u001b[38;5;241m.\u001b[39minstance()\n\u001b[0;32m    603\u001b[0m \u001b[38;5;28;01mif\u001b[39;00m qapp:\n\u001b[1;32m--> 604\u001b[0m \u001b[43m    \u001b[49m\u001b[38;5;28;43;01mwith\u001b[39;49;00m\u001b[43m \u001b[49m\u001b[43m_maybe_allow_interrupt\u001b[49m\u001b[43m(\u001b[49m\u001b[43mqapp\u001b[49m\u001b[43m)\u001b[49m\u001b[43m:\u001b[49m\n\u001b[0;32m    605\u001b[0m \u001b[43m        \u001b[49m\u001b[43mqt_compat\u001b[49m\u001b[38;5;241;43m.\u001b[39;49m\u001b[43m_exec\u001b[49m\u001b[43m(\u001b[49m\u001b[43mqapp\u001b[49m\u001b[43m)\u001b[49m\n",
      "File \u001b[1;32mc:\\Users\\jz421\\AppData\\Local\\anaconda3\\envs\\ieeg\\Lib\\contextlib.py:144\u001b[0m, in \u001b[0;36m_GeneratorContextManager.__exit__\u001b[1;34m(self, typ, value, traceback)\u001b[0m\n\u001b[0;32m    142\u001b[0m \u001b[38;5;28;01mif\u001b[39;00m typ \u001b[38;5;129;01mis\u001b[39;00m \u001b[38;5;28;01mNone\u001b[39;00m:\n\u001b[0;32m    143\u001b[0m     \u001b[38;5;28;01mtry\u001b[39;00m:\n\u001b[1;32m--> 144\u001b[0m         \u001b[38;5;28mnext\u001b[39m(\u001b[38;5;28mself\u001b[39m\u001b[38;5;241m.\u001b[39mgen)\n\u001b[0;32m    145\u001b[0m     \u001b[38;5;28;01mexcept\u001b[39;00m \u001b[38;5;167;01mStopIteration\u001b[39;00m:\n\u001b[0;32m    146\u001b[0m         \u001b[38;5;28;01mreturn\u001b[39;00m \u001b[38;5;28;01mFalse\u001b[39;00m\n",
      "File \u001b[1;32mc:\\Users\\jz421\\AppData\\Local\\anaconda3\\envs\\ieeg\\Lib\\site-packages\\matplotlib\\backends\\qt_compat.py:245\u001b[0m, in \u001b[0;36m_maybe_allow_interrupt\u001b[1;34m(qapp)\u001b[0m\n\u001b[0;32m    243\u001b[0m signal\u001b[38;5;241m.\u001b[39msignal(signal\u001b[38;5;241m.\u001b[39mSIGINT, old_sigint_handler)\n\u001b[0;32m    244\u001b[0m \u001b[38;5;28;01mif\u001b[39;00m handler_args \u001b[38;5;129;01mis\u001b[39;00m \u001b[38;5;129;01mnot\u001b[39;00m \u001b[38;5;28;01mNone\u001b[39;00m:\n\u001b[1;32m--> 245\u001b[0m     \u001b[43mold_sigint_handler\u001b[49m\u001b[43m(\u001b[49m\u001b[38;5;241;43m*\u001b[39;49m\u001b[43mhandler_args\u001b[49m\u001b[43m)\u001b[49m\n",
      "\u001b[1;31mKeyboardInterrupt\u001b[0m: "
     ]
    }
   ],
   "source": [
    "# Determine LAB_root based on the operating system\n",
    "HOME = os.path.expanduser(\"~\")\n",
    "LAB_root = os.path.join(HOME, \"Box\", \"CoganLab\") if os.name == 'nt' else os.path.join(HOME, \"Library\", \"CloudStorage\", \"Box-Box\", \"CoganLab\")\n",
    "\n",
    "# Get data layout\n",
    "layout = get_data(task, root=LAB_root)\n",
    "save_dir = os.path.join(layout.root, 'derivatives', 'freqFilt', 'figs')\n",
    "save_path = os.path.join(save_dir, 'avg_parietal_switchRepeat_zscore.png')\n",
    "\n",
    "plt.figure(figsize=(10, 6))\n",
    "\n",
    "HG_ev1_evoke_rescaled_D0063_c = subjects_mne_objects['D0063'][output_names[0]]['HG_ev1_evoke_rescaled']\n",
    "\n",
    "# Use the times from your evoked data (assuming these are representative for all subjects)\n",
    "times = HG_ev1_evoke_rescaled_D0063_c.times  # Modify as needed to match your data\n",
    "\n",
    "# Plot overall_average_acc of the 0th output with SEM shading\n",
    "plt.plot(times, overall_average_parietal_output_0, label='Average parietal repeat', color='red')\n",
    "plt.fill_between(times, overall_average_parietal_output_0 - overall_sem_parietal_output_0, \n",
    "                 overall_average_parietal_output_0 + overall_sem_parietal_output_0, alpha=0.3, color='red')\n",
    "\n",
    "# Plot overall_average_dlpfc of the 1st output with SEM shading\n",
    "plt.plot(times, overall_average_parietal_output_1, label='Average parietal switch', color='green')\n",
    "plt.fill_between(times, overall_average_parietal_output_1 - overall_sem_parietal_output_1, \n",
    "                 overall_average_parietal_output_1 + overall_sem_parietal_output_1, alpha=0.3, color='green')\n",
    "\n",
    "plt.xlabel('Time (s)')\n",
    "plt.ylabel('Z-score')\n",
    "plt.title('Average parietal Signal with Standard Error (switch vs repeat)')\n",
    "plt.legend()\n",
    "plt.savefig(save_path)  # Modify save_dir as necessary\n",
    "plt.show()\n"
   ]
  },
  {
   "cell_type": "markdown",
   "metadata": {},
   "source": [
    "### plot individual electrodes"
   ]
  },
  {
   "cell_type": "code",
   "execution_count": 45,
   "metadata": {},
   "outputs": [],
   "source": [
    "import matplotlib.pyplot as plt\n",
    "import numpy as np\n",
    "\n",
    "def plot_electrodes_grid(electrodes_data, grid_num, save_dir, roi, output_names, times):\n",
    "    fig, axes = plt.subplots(4, 4, figsize=(20, 12))  # Adjust figure size as needed\n",
    "    axes = axes.flatten()  # Flatten the axes array for easy indexing\n",
    "\n",
    "    for i, (data, sub, electrode) in enumerate(electrodes_data):\n",
    "        ax = axes[i]\n",
    "        ax.plot(times, data['output_0'], label=f'{roi} {output_names[0]}')\n",
    "        ax.fill_between(times, \n",
    "                        data['output_0'] - np.std(data['output_0'], ddof=1) / np.sqrt(len(data['output_0'])),\n",
    "                        data['output_0'] + np.std(data['output_0'], ddof=1) / np.sqrt(len(data['output_0'])), alpha=0.3)\n",
    "        ax.plot(times, data['output_1'], label=f'{roi} {output_names[1]}')\n",
    "        ax.fill_between(times, \n",
    "                        data['output_1'] - np.std(data['output_1'], ddof=1) / np.sqrt(len(data['output_1'])),\n",
    "                        data['output_1'] + np.std(data['output_1'], ddof=1) / np.sqrt(len(data['output_1'])), alpha=0.3)\n",
    "        ax.set_title(f'Subject {sub}, Electrode {electrode}')\n",
    "        ax.set_xlabel('Time (s)')\n",
    "        ax.set_ylabel('Z-score')\n",
    "\n",
    "    # Create the legend at the top center of the figure\n",
    "    handles, labels = ax.get_legend_handles_labels()  # Get handles and labels from the last subplot\n",
    "    fig.legend(handles, labels, loc='lower center', ncol=2)\n",
    "\n",
    "    plt.tight_layout()  # Adjust the layout to make room for the legend\n",
    "    plt.savefig(os.path.join(save_dir, f'{roi}_{output_names[0]}_{output_names[1]}_electrodes_plot_grid_{grid_num+1}.png'))\n",
    "    plt.close()\n",
    "\n",
    "# Example Usage\n",
    "electrodes_data = []\n",
    "electrode_counter = 0\n",
    "grid_size = 16  # Number of electrodes per grid\n",
    "grid_num = 0\n",
    "\n",
    "for sub in subjects:\n",
    "    if sub in sig_dlpfc_electrodes_per_subject:\n",
    "        for electrode in sig_dlpfc_electrodes_per_subject[sub]:\n",
    "            electrode_data = {\n",
    "                'output_0': output_0_data_trialAvg_dlpfc[electrode_counter],\n",
    "                'output_1': output_1_data_trialAvg_dlpfc[electrode_counter]\n",
    "            }\n",
    "            electrodes_data.append((electrode_data, sub, electrode))\n",
    "            electrode_counter += 1\n",
    "\n",
    "            if len(electrodes_data) == grid_size:\n",
    "                plot_electrodes_grid(electrodes_data, grid_num, save_dir, 'dlPFC', output_names, times)\n",
    "                electrodes_data = []  # Reset for the next grid\n",
    "                grid_num += 1\n",
    "\n",
    "# Plot remaining electrodes in the last grid\n",
    "if electrodes_data:\n",
    "    plot_electrodes_grid(electrodes_data, grid_num, save_dir, 'dlPFC', output_names, times)\n"
   ]
  },
  {
   "cell_type": "markdown",
   "metadata": {},
   "source": [
    "acc"
   ]
  },
  {
   "cell_type": "code",
   "execution_count": 46,
   "metadata": {},
   "outputs": [],
   "source": [
    "# Example Usage\n",
    "electrodes_data = []\n",
    "electrode_counter = 0\n",
    "grid_size = 16  # Number of electrodes per grid\n",
    "grid_num = 0\n",
    "\n",
    "for sub in subjects:\n",
    "    if sub in sig_acc_electrodes_per_subject:\n",
    "        for electrode in sig_acc_electrodes_per_subject[sub]:\n",
    "            electrode_data = {\n",
    "                'output_0': output_0_data_trialAvg_acc[electrode_counter],\n",
    "                'output_1': output_1_data_trialAvg_acc[electrode_counter]\n",
    "            }\n",
    "            electrodes_data.append((electrode_data, sub, electrode))\n",
    "            electrode_counter += 1\n",
    "\n",
    "            if len(electrodes_data) == grid_size:\n",
    "                plot_electrodes_grid(electrodes_data, grid_num, save_dir, 'acc', output_names, times)\n",
    "                electrodes_data = []  # Reset for the next grid\n",
    "                grid_num += 1\n",
    "\n",
    "# Plot remaining electrodes in the last grid\n",
    "if electrodes_data:\n",
    "    plot_electrodes_grid(electrodes_data, grid_num, save_dir, 'acc', output_names, times)\n"
   ]
  },
  {
   "cell_type": "markdown",
   "metadata": {},
   "source": [
    "parietal"
   ]
  },
  {
   "cell_type": "code",
   "execution_count": 47,
   "metadata": {},
   "outputs": [],
   "source": [
    "# Example Usage\n",
    "electrodes_data = []\n",
    "electrode_counter = 0\n",
    "grid_size = 16  # Number of electrodes per grid\n",
    "grid_num = 0\n",
    "\n",
    "for sub in subjects:\n",
    "    if sub in sig_parietal_electrodes_per_subject:\n",
    "        for electrode in sig_parietal_electrodes_per_subject[sub]:\n",
    "            electrode_data = {\n",
    "                'output_0': output_0_data_trialAvg_parietal[electrode_counter],\n",
    "                'output_1': output_1_data_trialAvg_parietal[electrode_counter]\n",
    "            }\n",
    "            electrodes_data.append((electrode_data, sub, electrode))\n",
    "            electrode_counter += 1\n",
    "\n",
    "            if len(electrodes_data) == grid_size:\n",
    "                plot_electrodes_grid(electrodes_data, grid_num, save_dir, 'parietal', output_names, times)\n",
    "                electrodes_data = []  # Reset for the next grid\n",
    "                grid_num += 1\n",
    "\n",
    "# Plot remaining electrodes in the last grid\n",
    "if electrodes_data:\n",
    "    plot_electrodes_grid(electrodes_data, grid_num, save_dir, 'parietal', output_names, times)\n"
   ]
  }
 ],
 "metadata": {
  "kernelspec": {
   "display_name": "ieeg",
   "language": "python",
   "name": "python3"
  },
  "language_info": {
   "codemirror_mode": {
    "name": "ipython",
    "version": 3
   },
   "file_extension": ".py",
   "mimetype": "text/x-python",
   "name": "python",
   "nbconvert_exporter": "python",
   "pygments_lexer": "ipython3",
   "version": "3.11.7"
  },
  "orig_nbformat": 4
 },
 "nbformat": 4,
 "nbformat_minor": 2
}
