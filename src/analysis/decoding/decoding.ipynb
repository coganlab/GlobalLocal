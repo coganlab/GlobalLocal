{
 "cells": [
  {
   "cell_type": "code",
   "execution_count": 3,
   "metadata": {},
   "outputs": [
    {
     "name": "stdout",
     "output_type": "stream",
     "text": [
      "['c:\\\\Users\\\\jz421\\\\Desktop\\\\GlobalLocal', 'C:\\\\Users\\\\jz421\\\\Desktop\\\\GlobalLocal\\\\IEEG_Pipelines', 'c:\\\\Users\\\\jz421\\\\AppData\\\\Local\\\\anaconda3\\\\envs\\\\ieeg\\\\python311.zip', 'c:\\\\Users\\\\jz421\\\\AppData\\\\Local\\\\anaconda3\\\\envs\\\\ieeg\\\\DLLs', 'c:\\\\Users\\\\jz421\\\\AppData\\\\Local\\\\anaconda3\\\\envs\\\\ieeg\\\\Lib', 'c:\\\\Users\\\\jz421\\\\AppData\\\\Local\\\\anaconda3\\\\envs\\\\ieeg', '', 'C:\\\\Users\\\\jz421\\\\AppData\\\\Roaming\\\\Python\\\\Python311\\\\site-packages', 'C:\\\\Users\\\\jz421\\\\AppData\\\\Roaming\\\\Python\\\\Python311\\\\site-packages\\\\win32', 'C:\\\\Users\\\\jz421\\\\AppData\\\\Roaming\\\\Python\\\\Python311\\\\site-packages\\\\win32\\\\lib', 'C:\\\\Users\\\\jz421\\\\AppData\\\\Roaming\\\\Python\\\\Python311\\\\site-packages\\\\Pythonwin', 'c:\\\\Users\\\\jz421\\\\AppData\\\\Local\\\\anaconda3\\\\envs\\\\ieeg\\\\Lib\\\\site-packages', 'c:\\\\Users\\\\jz421\\\\AppData\\\\Local\\\\anaconda3\\\\envs\\\\ieeg\\\\Lib\\\\site-packages\\\\win32', 'c:\\\\Users\\\\jz421\\\\AppData\\\\Local\\\\anaconda3\\\\envs\\\\ieeg\\\\Lib\\\\site-packages\\\\win32\\\\lib', 'c:\\\\Users\\\\jz421\\\\AppData\\\\Local\\\\anaconda3\\\\envs\\\\ieeg\\\\Lib\\\\site-packages\\\\Pythonwin', 'C:/Users/jz421/Desktop/GlobalLocal/IEEG_Pipelines/', 'C:/Users/jz421/Desktop/GlobalLocal/IEEG_Pipelines/']\n"
     ]
    }
   ],
   "source": [
    "import sys\n",
    "import os\n",
    "\n",
    "print(sys.path)\n",
    "sys.path.append(\"C:/Users/jz421/Desktop/GlobalLocal/IEEG_Pipelines/\") #need to do this cuz otherwise ieeg isn't added to path...\n",
    "\n",
    "# Get the absolute path to the directory containing the current script\n",
    "# For GlobalLocal/src/analysis/preproc/make_epoched_data.py, this is GlobalLocal/src/analysis/preproc\n",
    "try:\n",
    "    # This will work if running as a .py script\n",
    "    current_file_path = os.path.abspath(__file__)\n",
    "    current_script_dir = os.path.dirname(current_file_path)\n",
    "except NameError:\n",
    "    # This will be executed if __file__ is not defined (e.g., in a Jupyter Notebook)\n",
    "    # os.getcwd() often gives the directory of the notebook,\n",
    "    # or the directory from which the Jupyter server was started.\n",
    "    current_script_dir = os.getcwd()\n",
    "\n",
    "# Navigate up three levels to get to the 'GlobalLocal' directory\n",
    "project_root = os.path.abspath(os.path.join(current_script_dir, '..', '..', '..'))\n",
    "\n",
    "# Add the 'GlobalLocal' directory to sys.path if it's not already there\n",
    "if project_root not in sys.path:\n",
    "    sys.path.insert(0, project_root) # insert at the beginning to prioritize it\n",
    "\n",
    "from ieeg.navigate import channel_outlier_marker, trial_ieeg, crop_empty_data, \\\n",
    "    outliers_to_nan\n",
    "from ieeg.io import raw_from_layout, get_data\n",
    "from ieeg.timefreq.utils import crop_pad\n",
    "from ieeg.timefreq import gamma\n",
    "from ieeg.calc.scaling import rescale\n",
    "import mne\n",
    "\n",
    "import numpy as np\n",
    "import pandas as pd\n",
    "from ieeg.calc.reshape import make_data_same\n",
    "from ieeg.calc.stats import time_perm_cluster\n",
    "from ieeg.calc.mat import LabeledArray, combine\n",
    "\n",
    "# TODO: hmm fix these utils imports, import the funcs individually. 6/1/25.\n",
    "from src.analysis.utils.general_utils import *\n",
    "from src.analysis.utils.general_utils import make_or_load_subjects_electrodes_to_ROIs_dict\n",
    "import matplotlib.pyplot as plt\n",
    "\n",
    "from pandas import read_csv\n",
    "import scipy.stats as stats\n",
    "import joblib\n",
    "\n",
    "from scipy.ndimage import label\n",
    "from scipy.stats import norm\n",
    "\n",
    "import json\n",
    "import pickle\n",
    "\n",
    "# rsa toolbox imports\n",
    "from rsatoolbox.io.mne import read_epochs\n",
    "from rsatoolbox.data.ops import merge_datasets\n",
    "from rsatoolbox.rdm import calc_rdm_movie\n",
    "from rsatoolbox.rdm.calc import _parse_input\n",
    "from rsatoolbox.util.build_rdm import _build_rdms\n",
    "from rsatoolbox.rdm import compare\n",
    "from rsatoolbox.vis import show_rdm\n",
    "from rsatoolbox.vis.timecourse import plot_timecourse\n",
    "\n",
    "from os.path import join, expanduser, basename\n",
    "import glob, json\n",
    "import numpy, tqdm, mne, pandas\n",
    "import rsatoolbox\n",
    "from sklearn.preprocessing import MinMaxScaler\n",
    "from matplotlib import pyplot\n",
    "\n",
    "from sklearn.model_selection import cross_val_score, StratifiedKFold\n",
    "from sklearn.linear_model import LogisticRegression\n",
    "from sklearn.svm import SVC\n",
    "from sklearn.preprocessing import StandardScaler\n",
    "from sklearn.pipeline import make_pipeline\n",
    "\n",
    "from sklearn.metrics import confusion_matrix, ConfusionMatrixDisplay\n",
    "from ieeg.decoding.decoders import PcaLdaClassification\n",
    "from ieeg.calc.oversample import MinimumNaNSplit\n",
    "from ieeg.calc.fast import mixup\n",
    "\n",
    "from src.analysis.config import experiment_conditions\n",
    "\n",
    "from src.analysis.utils.labeled_array_utils import (\n",
    "    put_data_in_labeled_array_per_roi_subject,\n",
    "    remove_nans_from_labeled_array,\n",
    "    remove_nans_from_all_roi_labeled_arrays,\n",
    "    concatenate_conditions_by_string,\n",
    "    get_data_in_time_range\n",
    ")\n",
    "\n",
    "from src.analysis.decoding.decoding import (\n",
    "    concatenate_and_balance_data_for_decoding, \n",
    "    get_and_plot_confusion_matrix_for_rois_jim,\n",
    "    Decoder, \n",
    "    windower,\n",
    "    get_confusion_matrices_for_rois_time_window_decoding_jim,\n",
    "    compute_accuracies,\n",
    "    perform_time_perm_cluster_test_for_accuracies,\n",
    "    plot_accuracies\n",
    ")"
   ]
  },
  {
   "cell_type": "code",
   "execution_count": 4,
   "metadata": {},
   "outputs": [
    {
     "name": "stdout",
     "output_type": "stream",
     "text": [
      "Attempting to load the subjects' electrodes-to-ROIs dictionary...\n",
      "Loaded data from C:\\Users\\jz421\\Desktop\\GlobalLocal\\src\\analysis\\config\\subjects_electrodestoROIs_dict.json\n",
      "Dictionary loaded successfully. Ready to proceed!\n"
     ]
    }
   ],
   "source": [
    "subjects = ['D0057','D0059', 'D0063', 'D0065', 'D0069', 'D0071', 'D0077', 'D0090', 'D0094', 'D0100', 'D0102', 'D0103', 'D0107A', 'D0110', 'D0116', 'D0117', 'D0121']\n",
    "explained_variance = 0.8\n",
    "# subjects = ['D0057','D0059', 'D0063', 'D0065', 'D0069', 'D0071', 'D0077', 'D0090', 'D0094', 'D0100', 'D0102', 'D0103']\n",
    "# load in subjects electrodes to rois dict. If it doesn't already exist, make it and then load it.\n",
    "config_dir = r'C:\\Users\\jz421\\Desktop\\GlobalLocal\\src\\analysis\\config'\n",
    "subjects_electrodestoROIs_dict = make_or_load_subjects_electrodes_to_ROIs_dict(subjects, task='GlobalLocal', LAB_root=None, save_dir=config_dir, \n",
    "                                                filename='subjects_electrodestoROIs_dict.json')"
   ]
  },
  {
   "cell_type": "code",
   "execution_count": 5,
   "metadata": {},
   "outputs": [
    {
     "name": "stdout",
     "output_type": "stream",
     "text": [
      "Loading data for subject: D0057\n",
      "Reading C:\\Users\\jz421\\Box\\CoganLab\\BIDS-1.1_GlobalLocal\\BIDS\\derivatives\\freqFilt\\figs\\D0057\\D0057_Stimulus_0.5sec_within1sec_randoffset_preStimulusBase_decFactor_8_outliers_10_passband_70.0-150.0_padLength_0.5s_stat_func_ttest_ind_equal_var_False_HG_ev1_rescaled-epo.fif ...\n",
      "    Found the data of interest:\n",
      "        t =   -1000.00 ...    1500.00 ms\n",
      "        0 CTF compensation matrices available\n",
      "Not setting metadata\n",
      "449 matching events found\n",
      "No baseline correction applied\n",
      "0 projection items activated\n",
      "Reading C:\\Users\\jz421\\Box\\CoganLab\\BIDS-1.1_GlobalLocal\\BIDS\\derivatives\\freqFilt\\figs\\D0057\\D0057_Stimulus_0.5sec_within1sec_randoffset_preStimulusBase_decFactor_8_outliers_10_passband_70.0-150.0_padLength_0.5s_stat_func_ttest_ind_equal_var_False_HG_ev1_power_rescaled-epo.fif ...\n",
      "    Found the data of interest:\n",
      "        t =   -1000.00 ...    1500.00 ms\n",
      "        0 CTF compensation matrices available\n",
      "Not setting metadata\n",
      "449 matching events found\n",
      "No baseline correction applied\n",
      "0 projection items activated\n",
      "  Loading condition: Stimulus_c with parameters: {'BIDS_events': ['Stimulus/c25.0/Accuracy1.0', 'Stimulus/c75.0/Accuracy1.0'], 'congruency': 'c'}\n",
      "Not setting metadata\n",
      "198 matching events found\n",
      "No baseline correction applied\n"
     ]
    },
    {
     "name": "stderr",
     "output_type": "stream",
     "text": [
      "c:\\Users\\jz421\\Desktop\\GlobalLocal\\src\\analysis\\utils\\general_utils.py:422: RuntimeWarning: Concatenation of Annotations within Epochs is not supported yet. All annotations will be dropped.\n",
      "  event_epochs = mne.concatenate_epochs(combined_epochs)\n"
     ]
    },
    {
     "name": "stdout",
     "output_type": "stream",
     "text": [
      "    Original shape: (198, 175, 641)\n",
      "    Trials with all NaN values: 0\n",
      "    Average NaN count per trial: 119.8\n",
      "    Max NaN count in a trial: 1282\n",
      "    Stimulus_c: 198 valid trials out of 198\n",
      "  Loading condition: Stimulus_i with parameters: {'BIDS_events': ['Stimulus/i25.0/Accuracy1.0', 'Stimulus/i75.0/Accuracy1.0'], 'congruency': 'i'}\n",
      "Not setting metadata\n",
      "207 matching events found\n",
      "No baseline correction applied\n"
     ]
    },
    {
     "name": "stderr",
     "output_type": "stream",
     "text": [
      "c:\\Users\\jz421\\Desktop\\GlobalLocal\\src\\analysis\\utils\\general_utils.py:422: RuntimeWarning: Concatenation of Annotations within Epochs is not supported yet. All annotations will be dropped.\n",
      "  event_epochs = mne.concatenate_epochs(combined_epochs)\n"
     ]
    },
    {
     "name": "stdout",
     "output_type": "stream",
     "text": [
      "    Original shape: (207, 175, 641)\n",
      "    Trials with all NaN values: 0\n",
      "    Average NaN count per trial: 123.9\n",
      "    Max NaN count in a trial: 1923\n",
      "    Stimulus_i: 207 valid trials out of 207\n",
      "  Loading condition: Stimulus_c with parameters: {'BIDS_events': ['Stimulus/c25.0/Accuracy1.0', 'Stimulus/c75.0/Accuracy1.0'], 'congruency': 'c'}\n",
      "Not setting metadata\n",
      "198 matching events found\n",
      "No baseline correction applied\n"
     ]
    },
    {
     "name": "stderr",
     "output_type": "stream",
     "text": [
      "c:\\Users\\jz421\\Desktop\\GlobalLocal\\src\\analysis\\utils\\general_utils.py:422: RuntimeWarning: Concatenation of Annotations within Epochs is not supported yet. All annotations will be dropped.\n",
      "  event_epochs = mne.concatenate_epochs(combined_epochs)\n"
     ]
    },
    {
     "name": "stdout",
     "output_type": "stream",
     "text": [
      "    Original shape: (198, 175, 641)\n",
      "    Trials with all NaN values: 0\n",
      "    Average NaN count per trial: 119.8\n",
      "    Max NaN count in a trial: 1282\n",
      "    Stimulus_c: 198 valid trials out of 198\n",
      "  Loading condition: Stimulus_i with parameters: {'BIDS_events': ['Stimulus/i25.0/Accuracy1.0', 'Stimulus/i75.0/Accuracy1.0'], 'congruency': 'i'}\n",
      "Not setting metadata\n",
      "207 matching events found\n",
      "No baseline correction applied\n"
     ]
    },
    {
     "name": "stderr",
     "output_type": "stream",
     "text": [
      "c:\\Users\\jz421\\Desktop\\GlobalLocal\\src\\analysis\\utils\\general_utils.py:422: RuntimeWarning: Concatenation of Annotations within Epochs is not supported yet. All annotations will be dropped.\n",
      "  event_epochs = mne.concatenate_epochs(combined_epochs)\n"
     ]
    },
    {
     "name": "stdout",
     "output_type": "stream",
     "text": [
      "    Original shape: (207, 175, 641)\n",
      "    Trials with all NaN values: 0\n",
      "    Average NaN count per trial: 123.9\n",
      "    Max NaN count in a trial: 1923\n",
      "    Stimulus_i: 207 valid trials out of 207\n",
      "Loading data for subject: D0059\n",
      "Reading C:\\Users\\jz421\\Box\\CoganLab\\BIDS-1.1_GlobalLocal\\BIDS\\derivatives\\freqFilt\\figs\\D0059\\D0059_Stimulus_0.5sec_within1sec_randoffset_preStimulusBase_decFactor_8_outliers_10_passband_70.0-150.0_padLength_0.5s_stat_func_ttest_ind_equal_var_False_HG_ev1_rescaled-epo.fif ...\n",
      "    Found the data of interest:\n",
      "        t =   -1000.00 ...    1500.00 ms\n",
      "        0 CTF compensation matrices available\n",
      "Not setting metadata\n",
      "448 matching events found\n",
      "No baseline correction applied\n",
      "0 projection items activated\n",
      "Reading C:\\Users\\jz421\\Box\\CoganLab\\BIDS-1.1_GlobalLocal\\BIDS\\derivatives\\freqFilt\\figs\\D0059\\D0059_Stimulus_0.5sec_within1sec_randoffset_preStimulusBase_decFactor_8_outliers_10_passband_70.0-150.0_padLength_0.5s_stat_func_ttest_ind_equal_var_False_HG_ev1_power_rescaled-epo.fif ...\n",
      "    Found the data of interest:\n",
      "        t =   -1000.00 ...    1500.00 ms\n",
      "        0 CTF compensation matrices available\n",
      "Not setting metadata\n",
      "448 matching events found\n",
      "No baseline correction applied\n",
      "0 projection items activated\n",
      "  Loading condition: Stimulus_c with parameters: {'BIDS_events': ['Stimulus/c25.0/Accuracy1.0', 'Stimulus/c75.0/Accuracy1.0'], 'congruency': 'c'}\n",
      "Not setting metadata\n",
      "216 matching events found\n",
      "No baseline correction applied\n"
     ]
    },
    {
     "name": "stderr",
     "output_type": "stream",
     "text": [
      "c:\\Users\\jz421\\Desktop\\GlobalLocal\\src\\analysis\\utils\\general_utils.py:422: RuntimeWarning: Concatenation of Annotations within Epochs is not supported yet. All annotations will be dropped.\n",
      "  event_epochs = mne.concatenate_epochs(combined_epochs)\n"
     ]
    },
    {
     "name": "stdout",
     "output_type": "stream",
     "text": [
      "    Original shape: (216, 174, 641)\n",
      "    Trials with all NaN values: 0\n",
      "    Average NaN count per trial: 335.3\n",
      "    Max NaN count in a trial: 6410\n",
      "    Stimulus_c: 216 valid trials out of 216\n",
      "  Loading condition: Stimulus_i with parameters: {'BIDS_events': ['Stimulus/i25.0/Accuracy1.0', 'Stimulus/i75.0/Accuracy1.0'], 'congruency': 'i'}\n",
      "Not setting metadata\n",
      "211 matching events found\n",
      "No baseline correction applied\n"
     ]
    },
    {
     "name": "stderr",
     "output_type": "stream",
     "text": [
      "c:\\Users\\jz421\\Desktop\\GlobalLocal\\src\\analysis\\utils\\general_utils.py:422: RuntimeWarning: Concatenation of Annotations within Epochs is not supported yet. All annotations will be dropped.\n",
      "  event_epochs = mne.concatenate_epochs(combined_epochs)\n"
     ]
    },
    {
     "name": "stdout",
     "output_type": "stream",
     "text": [
      "    Original shape: (211, 174, 641)\n",
      "    Trials with all NaN values: 0\n",
      "    Average NaN count per trial: 641.0\n",
      "    Max NaN count in a trial: 12820\n",
      "    Stimulus_i: 211 valid trials out of 211\n",
      "  Loading condition: Stimulus_c with parameters: {'BIDS_events': ['Stimulus/c25.0/Accuracy1.0', 'Stimulus/c75.0/Accuracy1.0'], 'congruency': 'c'}\n",
      "Not setting metadata\n",
      "216 matching events found\n",
      "No baseline correction applied\n"
     ]
    },
    {
     "name": "stderr",
     "output_type": "stream",
     "text": [
      "c:\\Users\\jz421\\Desktop\\GlobalLocal\\src\\analysis\\utils\\general_utils.py:422: RuntimeWarning: Concatenation of Annotations within Epochs is not supported yet. All annotations will be dropped.\n",
      "  event_epochs = mne.concatenate_epochs(combined_epochs)\n"
     ]
    },
    {
     "name": "stdout",
     "output_type": "stream",
     "text": [
      "    Original shape: (216, 174, 641)\n",
      "    Trials with all NaN values: 0\n",
      "    Average NaN count per trial: 335.3\n",
      "    Max NaN count in a trial: 6410\n",
      "    Stimulus_c: 216 valid trials out of 216\n",
      "  Loading condition: Stimulus_i with parameters: {'BIDS_events': ['Stimulus/i25.0/Accuracy1.0', 'Stimulus/i75.0/Accuracy1.0'], 'congruency': 'i'}\n",
      "Not setting metadata\n",
      "211 matching events found\n",
      "No baseline correction applied\n"
     ]
    },
    {
     "name": "stderr",
     "output_type": "stream",
     "text": [
      "c:\\Users\\jz421\\Desktop\\GlobalLocal\\src\\analysis\\utils\\general_utils.py:422: RuntimeWarning: Concatenation of Annotations within Epochs is not supported yet. All annotations will be dropped.\n",
      "  event_epochs = mne.concatenate_epochs(combined_epochs)\n"
     ]
    },
    {
     "name": "stdout",
     "output_type": "stream",
     "text": [
      "    Original shape: (211, 174, 641)\n",
      "    Trials with all NaN values: 0\n",
      "    Average NaN count per trial: 641.0\n",
      "    Max NaN count in a trial: 12820\n",
      "    Stimulus_i: 211 valid trials out of 211\n",
      "Loading data for subject: D0063\n",
      "Reading C:\\Users\\jz421\\Box\\CoganLab\\BIDS-1.1_GlobalLocal\\BIDS\\derivatives\\freqFilt\\figs\\D0063\\D0063_Stimulus_0.5sec_within1sec_randoffset_preStimulusBase_decFactor_8_outliers_10_passband_70.0-150.0_padLength_0.5s_stat_func_ttest_ind_equal_var_False_HG_ev1_rescaled-epo.fif ...\n",
      "    Found the data of interest:\n",
      "        t =   -1000.00 ...    1500.00 ms\n",
      "        0 CTF compensation matrices available\n",
      "Not setting metadata\n",
      "452 matching events found\n",
      "No baseline correction applied\n",
      "0 projection items activated\n",
      "Reading C:\\Users\\jz421\\Box\\CoganLab\\BIDS-1.1_GlobalLocal\\BIDS\\derivatives\\freqFilt\\figs\\D0063\\D0063_Stimulus_0.5sec_within1sec_randoffset_preStimulusBase_decFactor_8_outliers_10_passband_70.0-150.0_padLength_0.5s_stat_func_ttest_ind_equal_var_False_HG_ev1_power_rescaled-epo.fif ...\n",
      "    Found the data of interest:\n",
      "        t =   -1000.00 ...    1500.00 ms\n",
      "        0 CTF compensation matrices available\n",
      "Not setting metadata\n",
      "452 matching events found\n",
      "No baseline correction applied\n",
      "0 projection items activated\n",
      "  Loading condition: Stimulus_c with parameters: {'BIDS_events': ['Stimulus/c25.0/Accuracy1.0', 'Stimulus/c75.0/Accuracy1.0'], 'congruency': 'c'}\n",
      "Not setting metadata\n",
      "221 matching events found\n"
     ]
    },
    {
     "name": "stderr",
     "output_type": "stream",
     "text": [
      "c:\\Users\\jz421\\Desktop\\GlobalLocal\\src\\analysis\\utils\\general_utils.py:422: RuntimeWarning: Concatenation of Annotations within Epochs is not supported yet. All annotations will be dropped.\n",
      "  event_epochs = mne.concatenate_epochs(combined_epochs)\n"
     ]
    },
    {
     "name": "stdout",
     "output_type": "stream",
     "text": [
      "No baseline correction applied\n",
      "    Original shape: (221, 235, 641)\n",
      "    Trials with all NaN values: 0\n",
      "    Average NaN count per trial: 481.5\n",
      "    Max NaN count in a trial: 7692\n",
      "    Stimulus_c: 221 valid trials out of 221\n",
      "  Loading condition: Stimulus_i with parameters: {'BIDS_events': ['Stimulus/i25.0/Accuracy1.0', 'Stimulus/i75.0/Accuracy1.0'], 'congruency': 'i'}\n",
      "Not setting metadata\n",
      "168 matching events found\n"
     ]
    },
    {
     "name": "stderr",
     "output_type": "stream",
     "text": [
      "c:\\Users\\jz421\\Desktop\\GlobalLocal\\src\\analysis\\utils\\general_utils.py:422: RuntimeWarning: Concatenation of Annotations within Epochs is not supported yet. All annotations will be dropped.\n",
      "  event_epochs = mne.concatenate_epochs(combined_epochs)\n"
     ]
    },
    {
     "name": "stdout",
     "output_type": "stream",
     "text": [
      "No baseline correction applied\n",
      "    Original shape: (168, 235, 641)\n",
      "    Trials with all NaN values: 0\n",
      "    Average NaN count per trial: 572.3\n",
      "    Max NaN count in a trial: 14743\n",
      "    Stimulus_i: 168 valid trials out of 168\n",
      "  Loading condition: Stimulus_c with parameters: {'BIDS_events': ['Stimulus/c25.0/Accuracy1.0', 'Stimulus/c75.0/Accuracy1.0'], 'congruency': 'c'}\n",
      "Not setting metadata\n"
     ]
    },
    {
     "name": "stderr",
     "output_type": "stream",
     "text": [
      "c:\\Users\\jz421\\Desktop\\GlobalLocal\\src\\analysis\\utils\\general_utils.py:422: RuntimeWarning: Concatenation of Annotations within Epochs is not supported yet. All annotations will be dropped.\n",
      "  event_epochs = mne.concatenate_epochs(combined_epochs)\n"
     ]
    },
    {
     "name": "stdout",
     "output_type": "stream",
     "text": [
      "221 matching events found\n",
      "No baseline correction applied\n",
      "    Original shape: (221, 235, 641)\n",
      "    Trials with all NaN values: 0\n",
      "    Average NaN count per trial: 481.5\n",
      "    Max NaN count in a trial: 7692\n",
      "    Stimulus_c: 221 valid trials out of 221\n",
      "  Loading condition: Stimulus_i with parameters: {'BIDS_events': ['Stimulus/i25.0/Accuracy1.0', 'Stimulus/i75.0/Accuracy1.0'], 'congruency': 'i'}\n",
      "Not setting metadata\n",
      "168 matching events found\n",
      "No baseline correction applied\n"
     ]
    },
    {
     "name": "stderr",
     "output_type": "stream",
     "text": [
      "c:\\Users\\jz421\\Desktop\\GlobalLocal\\src\\analysis\\utils\\general_utils.py:422: RuntimeWarning: Concatenation of Annotations within Epochs is not supported yet. All annotations will be dropped.\n",
      "  event_epochs = mne.concatenate_epochs(combined_epochs)\n"
     ]
    },
    {
     "name": "stdout",
     "output_type": "stream",
     "text": [
      "    Original shape: (168, 235, 641)\n",
      "    Trials with all NaN values: 0\n",
      "    Average NaN count per trial: 572.3\n",
      "    Max NaN count in a trial: 14743\n",
      "    Stimulus_i: 168 valid trials out of 168\n",
      "Loading data for subject: D0065\n",
      "Reading C:\\Users\\jz421\\Box\\CoganLab\\BIDS-1.1_GlobalLocal\\BIDS\\derivatives\\freqFilt\\figs\\D0065\\D0065_Stimulus_0.5sec_within1sec_randoffset_preStimulusBase_decFactor_8_outliers_10_passband_70.0-150.0_padLength_0.5s_stat_func_ttest_ind_equal_var_False_HG_ev1_rescaled-epo.fif ...\n",
      "    Found the data of interest:\n",
      "        t =   -1000.00 ...    1500.00 ms\n",
      "        0 CTF compensation matrices available\n",
      "Not setting metadata\n",
      "448 matching events found\n",
      "No baseline correction applied\n",
      "0 projection items activated\n",
      "Reading C:\\Users\\jz421\\Box\\CoganLab\\BIDS-1.1_GlobalLocal\\BIDS\\derivatives\\freqFilt\\figs\\D0065\\D0065_Stimulus_0.5sec_within1sec_randoffset_preStimulusBase_decFactor_8_outliers_10_passband_70.0-150.0_padLength_0.5s_stat_func_ttest_ind_equal_var_False_HG_ev1_power_rescaled-epo.fif ...\n",
      "    Found the data of interest:\n",
      "        t =   -1000.00 ...    1500.00 ms\n",
      "        0 CTF compensation matrices available\n",
      "Not setting metadata\n",
      "448 matching events found\n",
      "No baseline correction applied\n",
      "0 projection items activated\n",
      "  Loading condition: Stimulus_c with parameters: {'BIDS_events': ['Stimulus/c25.0/Accuracy1.0', 'Stimulus/c75.0/Accuracy1.0'], 'congruency': 'c'}\n",
      "Not setting metadata\n",
      "177 matching events found\n"
     ]
    },
    {
     "name": "stderr",
     "output_type": "stream",
     "text": [
      "c:\\Users\\jz421\\Desktop\\GlobalLocal\\src\\analysis\\utils\\general_utils.py:422: RuntimeWarning: Concatenation of Annotations within Epochs is not supported yet. All annotations will be dropped.\n",
      "  event_epochs = mne.concatenate_epochs(combined_epochs)\n"
     ]
    },
    {
     "name": "stdout",
     "output_type": "stream",
     "text": [
      "No baseline correction applied\n",
      "    Original shape: (177, 216, 641)\n",
      "    Trials with all NaN values: 0\n",
      "    Average NaN count per trial: 3932.9\n",
      "    Max NaN count in a trial: 119226\n",
      "    Stimulus_c: 177 valid trials out of 177\n",
      "  Loading condition: Stimulus_i with parameters: {'BIDS_events': ['Stimulus/i25.0/Accuracy1.0', 'Stimulus/i75.0/Accuracy1.0'], 'congruency': 'i'}\n",
      "Not setting metadata\n",
      "139 matching events found\n"
     ]
    },
    {
     "name": "stderr",
     "output_type": "stream",
     "text": [
      "c:\\Users\\jz421\\Desktop\\GlobalLocal\\src\\analysis\\utils\\general_utils.py:422: RuntimeWarning: Concatenation of Annotations within Epochs is not supported yet. All annotations will be dropped.\n",
      "  event_epochs = mne.concatenate_epochs(combined_epochs)\n"
     ]
    },
    {
     "name": "stdout",
     "output_type": "stream",
     "text": [
      "No baseline correction applied\n",
      "    Original shape: (139, 216, 641)\n",
      "    Trials with all NaN values: 0\n",
      "    Average NaN count per trial: 2365.7\n",
      "    Max NaN count in a trial: 101278\n",
      "    Stimulus_i: 139 valid trials out of 139\n",
      "  Loading condition: Stimulus_c with parameters: {'BIDS_events': ['Stimulus/c25.0/Accuracy1.0', 'Stimulus/c75.0/Accuracy1.0'], 'congruency': 'c'}\n",
      "Not setting metadata\n",
      "177 matching events found\n",
      "No baseline correction applied\n"
     ]
    },
    {
     "name": "stderr",
     "output_type": "stream",
     "text": [
      "c:\\Users\\jz421\\Desktop\\GlobalLocal\\src\\analysis\\utils\\general_utils.py:422: RuntimeWarning: Concatenation of Annotations within Epochs is not supported yet. All annotations will be dropped.\n",
      "  event_epochs = mne.concatenate_epochs(combined_epochs)\n"
     ]
    },
    {
     "name": "stdout",
     "output_type": "stream",
     "text": [
      "    Original shape: (177, 216, 641)\n",
      "    Trials with all NaN values: 0\n",
      "    Average NaN count per trial: 3932.9\n",
      "    Max NaN count in a trial: 119226\n",
      "    Stimulus_c: 177 valid trials out of 177\n",
      "  Loading condition: Stimulus_i with parameters: {'BIDS_events': ['Stimulus/i25.0/Accuracy1.0', 'Stimulus/i75.0/Accuracy1.0'], 'congruency': 'i'}\n",
      "Not setting metadata\n",
      "139 matching events found\n",
      "No baseline correction applied\n"
     ]
    },
    {
     "name": "stderr",
     "output_type": "stream",
     "text": [
      "c:\\Users\\jz421\\Desktop\\GlobalLocal\\src\\analysis\\utils\\general_utils.py:422: RuntimeWarning: Concatenation of Annotations within Epochs is not supported yet. All annotations will be dropped.\n",
      "  event_epochs = mne.concatenate_epochs(combined_epochs)\n"
     ]
    },
    {
     "name": "stdout",
     "output_type": "stream",
     "text": [
      "    Original shape: (139, 216, 641)\n",
      "    Trials with all NaN values: 0\n",
      "    Average NaN count per trial: 2365.7\n",
      "    Max NaN count in a trial: 101278\n",
      "    Stimulus_i: 139 valid trials out of 139\n",
      "Loading data for subject: D0069\n",
      "Reading C:\\Users\\jz421\\Box\\CoganLab\\BIDS-1.1_GlobalLocal\\BIDS\\derivatives\\freqFilt\\figs\\D0069\\D0069_Stimulus_0.5sec_within1sec_randoffset_preStimulusBase_decFactor_8_outliers_10_passband_70.0-150.0_padLength_0.5s_stat_func_ttest_ind_equal_var_False_HG_ev1_rescaled-epo.fif ...\n",
      "    Found the data of interest:\n",
      "        t =   -1000.00 ...    1500.00 ms\n",
      "        0 CTF compensation matrices available\n",
      "Not setting metadata\n",
      "448 matching events found\n",
      "No baseline correction applied\n",
      "0 projection items activated\n",
      "Reading C:\\Users\\jz421\\Box\\CoganLab\\BIDS-1.1_GlobalLocal\\BIDS\\derivatives\\freqFilt\\figs\\D0069\\D0069_Stimulus_0.5sec_within1sec_randoffset_preStimulusBase_decFactor_8_outliers_10_passband_70.0-150.0_padLength_0.5s_stat_func_ttest_ind_equal_var_False_HG_ev1_power_rescaled-epo.fif ...\n",
      "    Found the data of interest:\n",
      "        t =   -1000.00 ...    1500.00 ms\n",
      "        0 CTF compensation matrices available\n",
      "Not setting metadata\n",
      "448 matching events found\n",
      "No baseline correction applied\n",
      "0 projection items activated\n",
      "  Loading condition: Stimulus_c with parameters: {'BIDS_events': ['Stimulus/c25.0/Accuracy1.0', 'Stimulus/c75.0/Accuracy1.0'], 'congruency': 'c'}\n",
      "Not setting metadata\n",
      "177 matching events found\n",
      "No baseline correction applied\n"
     ]
    },
    {
     "name": "stderr",
     "output_type": "stream",
     "text": [
      "c:\\Users\\jz421\\Desktop\\GlobalLocal\\src\\analysis\\utils\\general_utils.py:422: RuntimeWarning: Concatenation of Annotations within Epochs is not supported yet. All annotations will be dropped.\n",
      "  event_epochs = mne.concatenate_epochs(combined_epochs)\n"
     ]
    },
    {
     "name": "stdout",
     "output_type": "stream",
     "text": [
      "    Original shape: (177, 128, 641)\n",
      "    Trials with all NaN values: 0\n",
      "    Average NaN count per trial: 590.3\n",
      "    Max NaN count in a trial: 22435\n",
      "    Stimulus_c: 177 valid trials out of 177\n",
      "  Loading condition: Stimulus_i with parameters: {'BIDS_events': ['Stimulus/i25.0/Accuracy1.0', 'Stimulus/i75.0/Accuracy1.0'], 'congruency': 'i'}\n",
      "Not setting metadata\n",
      "153 matching events found\n",
      "No baseline correction applied\n"
     ]
    },
    {
     "name": "stderr",
     "output_type": "stream",
     "text": [
      "c:\\Users\\jz421\\Desktop\\GlobalLocal\\src\\analysis\\utils\\general_utils.py:422: RuntimeWarning: Concatenation of Annotations within Epochs is not supported yet. All annotations will be dropped.\n",
      "  event_epochs = mne.concatenate_epochs(combined_epochs)\n"
     ]
    },
    {
     "name": "stdout",
     "output_type": "stream",
     "text": [
      "    Original shape: (153, 128, 641)\n",
      "    Trials with all NaN values: 0\n",
      "    Average NaN count per trial: 557.2\n",
      "    Max NaN count in a trial: 13461\n",
      "    Stimulus_i: 153 valid trials out of 153\n",
      "  Loading condition: Stimulus_c with parameters: {'BIDS_events': ['Stimulus/c25.0/Accuracy1.0', 'Stimulus/c75.0/Accuracy1.0'], 'congruency': 'c'}\n",
      "Not setting metadata\n",
      "177 matching events found\n",
      "No baseline correction applied\n"
     ]
    },
    {
     "name": "stderr",
     "output_type": "stream",
     "text": [
      "c:\\Users\\jz421\\Desktop\\GlobalLocal\\src\\analysis\\utils\\general_utils.py:422: RuntimeWarning: Concatenation of Annotations within Epochs is not supported yet. All annotations will be dropped.\n",
      "  event_epochs = mne.concatenate_epochs(combined_epochs)\n"
     ]
    },
    {
     "name": "stdout",
     "output_type": "stream",
     "text": [
      "    Original shape: (177, 128, 641)\n",
      "    Trials with all NaN values: 0\n",
      "    Average NaN count per trial: 590.3\n",
      "    Max NaN count in a trial: 22435\n",
      "    Stimulus_c: 177 valid trials out of 177\n",
      "  Loading condition: Stimulus_i with parameters: {'BIDS_events': ['Stimulus/i25.0/Accuracy1.0', 'Stimulus/i75.0/Accuracy1.0'], 'congruency': 'i'}\n",
      "Not setting metadata\n",
      "153 matching events found\n",
      "No baseline correction applied\n"
     ]
    },
    {
     "name": "stderr",
     "output_type": "stream",
     "text": [
      "c:\\Users\\jz421\\Desktop\\GlobalLocal\\src\\analysis\\utils\\general_utils.py:422: RuntimeWarning: Concatenation of Annotations within Epochs is not supported yet. All annotations will be dropped.\n",
      "  event_epochs = mne.concatenate_epochs(combined_epochs)\n"
     ]
    },
    {
     "name": "stdout",
     "output_type": "stream",
     "text": [
      "    Original shape: (153, 128, 641)\n",
      "    Trials with all NaN values: 0\n",
      "    Average NaN count per trial: 557.2\n",
      "    Max NaN count in a trial: 13461\n",
      "    Stimulus_i: 153 valid trials out of 153\n",
      "Loading data for subject: D0071\n",
      "Reading C:\\Users\\jz421\\Box\\CoganLab\\BIDS-1.1_GlobalLocal\\BIDS\\derivatives\\freqFilt\\figs\\D0071\\D0071_Stimulus_0.5sec_within1sec_randoffset_preStimulusBase_decFactor_8_outliers_10_passband_70.0-150.0_padLength_0.5s_stat_func_ttest_ind_equal_var_False_HG_ev1_rescaled-epo.fif ...\n",
      "    Found the data of interest:\n",
      "        t =   -1000.00 ...    1500.00 ms\n",
      "        0 CTF compensation matrices available\n",
      "Not setting metadata\n",
      "448 matching events found\n",
      "No baseline correction applied\n",
      "0 projection items activated\n",
      "Reading C:\\Users\\jz421\\Box\\CoganLab\\BIDS-1.1_GlobalLocal\\BIDS\\derivatives\\freqFilt\\figs\\D0071\\D0071_Stimulus_0.5sec_within1sec_randoffset_preStimulusBase_decFactor_8_outliers_10_passband_70.0-150.0_padLength_0.5s_stat_func_ttest_ind_equal_var_False_HG_ev1_power_rescaled-epo.fif ...\n",
      "    Found the data of interest:\n",
      "        t =   -1000.00 ...    1500.00 ms\n",
      "        0 CTF compensation matrices available\n",
      "Not setting metadata\n",
      "448 matching events found\n",
      "No baseline correction applied\n",
      "0 projection items activated\n",
      "  Loading condition: Stimulus_c with parameters: {'BIDS_events': ['Stimulus/c25.0/Accuracy1.0', 'Stimulus/c75.0/Accuracy1.0'], 'congruency': 'c'}\n",
      "Not setting metadata\n",
      "213 matching events found\n",
      "No baseline correction applied\n"
     ]
    },
    {
     "name": "stderr",
     "output_type": "stream",
     "text": [
      "c:\\Users\\jz421\\Desktop\\GlobalLocal\\src\\analysis\\utils\\general_utils.py:422: RuntimeWarning: Concatenation of Annotations within Epochs is not supported yet. All annotations will be dropped.\n",
      "  event_epochs = mne.concatenate_epochs(combined_epochs)\n"
     ]
    },
    {
     "name": "stdout",
     "output_type": "stream",
     "text": [
      "    Original shape: (213, 156, 641)\n",
      "    Trials with all NaN values: 0\n",
      "    Average NaN count per trial: 2374.4\n",
      "    Max NaN count in a trial: 22435\n",
      "    Stimulus_c: 213 valid trials out of 213\n",
      "  Loading condition: Stimulus_i with parameters: {'BIDS_events': ['Stimulus/i25.0/Accuracy1.0', 'Stimulus/i75.0/Accuracy1.0'], 'congruency': 'i'}\n",
      "Not setting metadata\n",
      "216 matching events found\n",
      "No baseline correction applied\n"
     ]
    },
    {
     "name": "stderr",
     "output_type": "stream",
     "text": [
      "c:\\Users\\jz421\\Desktop\\GlobalLocal\\src\\analysis\\utils\\general_utils.py:422: RuntimeWarning: Concatenation of Annotations within Epochs is not supported yet. All annotations will be dropped.\n",
      "  event_epochs = mne.concatenate_epochs(combined_epochs)\n"
     ]
    },
    {
     "name": "stdout",
     "output_type": "stream",
     "text": [
      "    Original shape: (216, 156, 641)\n",
      "    Trials with all NaN values: 0\n",
      "    Average NaN count per trial: 2110.0\n",
      "    Max NaN count in a trial: 23076\n",
      "    Stimulus_i: 216 valid trials out of 216\n",
      "  Loading condition: Stimulus_c with parameters: {'BIDS_events': ['Stimulus/c25.0/Accuracy1.0', 'Stimulus/c75.0/Accuracy1.0'], 'congruency': 'c'}\n",
      "Not setting metadata\n",
      "213 matching events found\n",
      "No baseline correction applied\n"
     ]
    },
    {
     "name": "stderr",
     "output_type": "stream",
     "text": [
      "c:\\Users\\jz421\\Desktop\\GlobalLocal\\src\\analysis\\utils\\general_utils.py:422: RuntimeWarning: Concatenation of Annotations within Epochs is not supported yet. All annotations will be dropped.\n",
      "  event_epochs = mne.concatenate_epochs(combined_epochs)\n"
     ]
    },
    {
     "name": "stdout",
     "output_type": "stream",
     "text": [
      "    Original shape: (213, 156, 641)\n",
      "    Trials with all NaN values: 0\n",
      "    Average NaN count per trial: 2374.4\n",
      "    Max NaN count in a trial: 22435\n",
      "    Stimulus_c: 213 valid trials out of 213\n",
      "  Loading condition: Stimulus_i with parameters: {'BIDS_events': ['Stimulus/i25.0/Accuracy1.0', 'Stimulus/i75.0/Accuracy1.0'], 'congruency': 'i'}\n",
      "Not setting metadata\n",
      "216 matching events found\n",
      "No baseline correction applied\n"
     ]
    },
    {
     "name": "stderr",
     "output_type": "stream",
     "text": [
      "c:\\Users\\jz421\\Desktop\\GlobalLocal\\src\\analysis\\utils\\general_utils.py:422: RuntimeWarning: Concatenation of Annotations within Epochs is not supported yet. All annotations will be dropped.\n",
      "  event_epochs = mne.concatenate_epochs(combined_epochs)\n"
     ]
    },
    {
     "name": "stdout",
     "output_type": "stream",
     "text": [
      "    Original shape: (216, 156, 641)\n",
      "    Trials with all NaN values: 0\n",
      "    Average NaN count per trial: 2110.0\n",
      "    Max NaN count in a trial: 23076\n",
      "    Stimulus_i: 216 valid trials out of 216\n",
      "Loading data for subject: D0077\n",
      "Reading C:\\Users\\jz421\\Box\\CoganLab\\BIDS-1.1_GlobalLocal\\BIDS\\derivatives\\freqFilt\\figs\\D0077\\D0077_Stimulus_0.5sec_within1sec_randoffset_preStimulusBase_decFactor_8_outliers_10_passband_70.0-150.0_padLength_0.5s_stat_func_ttest_ind_equal_var_False_HG_ev1_rescaled-epo.fif ...\n",
      "    Found the data of interest:\n",
      "        t =   -1000.00 ...    1500.00 ms\n",
      "        0 CTF compensation matrices available\n",
      "Not setting metadata\n",
      "448 matching events found\n",
      "No baseline correction applied\n",
      "0 projection items activated\n",
      "Reading C:\\Users\\jz421\\Box\\CoganLab\\BIDS-1.1_GlobalLocal\\BIDS\\derivatives\\freqFilt\\figs\\D0077\\D0077_Stimulus_0.5sec_within1sec_randoffset_preStimulusBase_decFactor_8_outliers_10_passband_70.0-150.0_padLength_0.5s_stat_func_ttest_ind_equal_var_False_HG_ev1_power_rescaled-epo.fif ...\n",
      "    Found the data of interest:\n",
      "        t =   -1000.00 ...    1500.00 ms\n",
      "        0 CTF compensation matrices available\n",
      "Not setting metadata\n",
      "448 matching events found\n",
      "No baseline correction applied\n",
      "0 projection items activated\n",
      "  Loading condition: Stimulus_c with parameters: {'BIDS_events': ['Stimulus/c25.0/Accuracy1.0', 'Stimulus/c75.0/Accuracy1.0'], 'congruency': 'c'}\n",
      "Not setting metadata\n",
      "186 matching events found\n",
      "No baseline correction applied\n"
     ]
    },
    {
     "name": "stderr",
     "output_type": "stream",
     "text": [
      "c:\\Users\\jz421\\Desktop\\GlobalLocal\\src\\analysis\\utils\\general_utils.py:422: RuntimeWarning: Concatenation of Annotations within Epochs is not supported yet. All annotations will be dropped.\n",
      "  event_epochs = mne.concatenate_epochs(combined_epochs)\n"
     ]
    },
    {
     "name": "stdout",
     "output_type": "stream",
     "text": [
      "    Original shape: (186, 131, 641)\n",
      "    Trials with all NaN values: 0\n",
      "    Average NaN count per trial: 634.1\n",
      "    Max NaN count in a trial: 8974\n",
      "    Stimulus_c: 186 valid trials out of 186\n",
      "  Loading condition: Stimulus_i with parameters: {'BIDS_events': ['Stimulus/i25.0/Accuracy1.0', 'Stimulus/i75.0/Accuracy1.0'], 'congruency': 'i'}\n",
      "Not setting metadata\n",
      "169 matching events found\n",
      "No baseline correction applied\n"
     ]
    },
    {
     "name": "stderr",
     "output_type": "stream",
     "text": [
      "c:\\Users\\jz421\\Desktop\\GlobalLocal\\src\\analysis\\utils\\general_utils.py:422: RuntimeWarning: Concatenation of Annotations within Epochs is not supported yet. All annotations will be dropped.\n",
      "  event_epochs = mne.concatenate_epochs(combined_epochs)\n"
     ]
    },
    {
     "name": "stdout",
     "output_type": "stream",
     "text": [
      "    Original shape: (169, 131, 641)\n",
      "    Trials with all NaN values: 0\n",
      "    Average NaN count per trial: 519.6\n",
      "    Max NaN count in a trial: 7051\n",
      "    Stimulus_i: 169 valid trials out of 169\n",
      "  Loading condition: Stimulus_c with parameters: {'BIDS_events': ['Stimulus/c25.0/Accuracy1.0', 'Stimulus/c75.0/Accuracy1.0'], 'congruency': 'c'}\n",
      "Not setting metadata\n",
      "186 matching events found\n",
      "No baseline correction applied\n"
     ]
    },
    {
     "name": "stderr",
     "output_type": "stream",
     "text": [
      "c:\\Users\\jz421\\Desktop\\GlobalLocal\\src\\analysis\\utils\\general_utils.py:422: RuntimeWarning: Concatenation of Annotations within Epochs is not supported yet. All annotations will be dropped.\n",
      "  event_epochs = mne.concatenate_epochs(combined_epochs)\n"
     ]
    },
    {
     "name": "stdout",
     "output_type": "stream",
     "text": [
      "    Original shape: (186, 131, 641)\n",
      "    Trials with all NaN values: 0\n",
      "    Average NaN count per trial: 634.1\n",
      "    Max NaN count in a trial: 8974\n",
      "    Stimulus_c: 186 valid trials out of 186\n",
      "  Loading condition: Stimulus_i with parameters: {'BIDS_events': ['Stimulus/i25.0/Accuracy1.0', 'Stimulus/i75.0/Accuracy1.0'], 'congruency': 'i'}\n",
      "Not setting metadata\n",
      "169 matching events found\n",
      "No baseline correction applied\n"
     ]
    },
    {
     "name": "stderr",
     "output_type": "stream",
     "text": [
      "c:\\Users\\jz421\\Desktop\\GlobalLocal\\src\\analysis\\utils\\general_utils.py:422: RuntimeWarning: Concatenation of Annotations within Epochs is not supported yet. All annotations will be dropped.\n",
      "  event_epochs = mne.concatenate_epochs(combined_epochs)\n"
     ]
    },
    {
     "name": "stdout",
     "output_type": "stream",
     "text": [
      "    Original shape: (169, 131, 641)\n",
      "    Trials with all NaN values: 0\n",
      "    Average NaN count per trial: 519.6\n",
      "    Max NaN count in a trial: 7051\n",
      "    Stimulus_i: 169 valid trials out of 169\n",
      "Loading data for subject: D0090\n",
      "Reading C:\\Users\\jz421\\Box\\CoganLab\\BIDS-1.1_GlobalLocal\\BIDS\\derivatives\\freqFilt\\figs\\D0090\\D0090_Stimulus_0.5sec_within1sec_randoffset_preStimulusBase_decFactor_8_outliers_10_passband_70.0-150.0_padLength_0.5s_stat_func_ttest_ind_equal_var_False_HG_ev1_rescaled-epo.fif ...\n",
      "    Found the data of interest:\n",
      "        t =   -1000.00 ...    1500.00 ms\n",
      "        0 CTF compensation matrices available\n",
      "Not setting metadata\n",
      "450 matching events found\n",
      "No baseline correction applied\n",
      "0 projection items activated\n",
      "Reading C:\\Users\\jz421\\Box\\CoganLab\\BIDS-1.1_GlobalLocal\\BIDS\\derivatives\\freqFilt\\figs\\D0090\\D0090_Stimulus_0.5sec_within1sec_randoffset_preStimulusBase_decFactor_8_outliers_10_passband_70.0-150.0_padLength_0.5s_stat_func_ttest_ind_equal_var_False_HG_ev1_power_rescaled-epo.fif ...\n",
      "    Found the data of interest:\n",
      "        t =   -1000.00 ...    1500.00 ms\n",
      "        0 CTF compensation matrices available\n",
      "Not setting metadata\n",
      "450 matching events found\n",
      "No baseline correction applied\n",
      "0 projection items activated\n",
      "  Loading condition: Stimulus_c with parameters: {'BIDS_events': ['Stimulus/c25.0/Accuracy1.0', 'Stimulus/c75.0/Accuracy1.0'], 'congruency': 'c'}\n",
      "Not setting metadata\n",
      "214 matching events found\n",
      "No baseline correction applied\n"
     ]
    },
    {
     "name": "stderr",
     "output_type": "stream",
     "text": [
      "c:\\Users\\jz421\\Desktop\\GlobalLocal\\src\\analysis\\utils\\general_utils.py:422: RuntimeWarning: Concatenation of Annotations within Epochs is not supported yet. All annotations will be dropped.\n",
      "  event_epochs = mne.concatenate_epochs(combined_epochs)\n"
     ]
    },
    {
     "name": "stdout",
     "output_type": "stream",
     "text": [
      "    Original shape: (214, 157, 641)\n",
      "    Trials with all NaN values: 0\n",
      "    Average NaN count per trial: 745.8\n",
      "    Max NaN count in a trial: 14743\n",
      "    Stimulus_c: 214 valid trials out of 214\n",
      "  Loading condition: Stimulus_i with parameters: {'BIDS_events': ['Stimulus/i25.0/Accuracy1.0', 'Stimulus/i75.0/Accuracy1.0'], 'congruency': 'i'}\n",
      "Not setting metadata\n",
      "213 matching events found\n",
      "No baseline correction applied\n"
     ]
    },
    {
     "name": "stderr",
     "output_type": "stream",
     "text": [
      "c:\\Users\\jz421\\Desktop\\GlobalLocal\\src\\analysis\\utils\\general_utils.py:422: RuntimeWarning: Concatenation of Annotations within Epochs is not supported yet. All annotations will be dropped.\n",
      "  event_epochs = mne.concatenate_epochs(combined_epochs)\n"
     ]
    },
    {
     "name": "stdout",
     "output_type": "stream",
     "text": [
      "    Original shape: (213, 157, 641)\n",
      "    Trials with all NaN values: 0\n",
      "    Average NaN count per trial: 475.5\n",
      "    Max NaN count in a trial: 7692\n",
      "    Stimulus_i: 213 valid trials out of 213\n",
      "  Loading condition: Stimulus_c with parameters: {'BIDS_events': ['Stimulus/c25.0/Accuracy1.0', 'Stimulus/c75.0/Accuracy1.0'], 'congruency': 'c'}\n",
      "Not setting metadata\n",
      "214 matching events found\n",
      "No baseline correction applied\n"
     ]
    },
    {
     "name": "stderr",
     "output_type": "stream",
     "text": [
      "c:\\Users\\jz421\\Desktop\\GlobalLocal\\src\\analysis\\utils\\general_utils.py:422: RuntimeWarning: Concatenation of Annotations within Epochs is not supported yet. All annotations will be dropped.\n",
      "  event_epochs = mne.concatenate_epochs(combined_epochs)\n"
     ]
    },
    {
     "name": "stdout",
     "output_type": "stream",
     "text": [
      "    Original shape: (214, 157, 641)\n",
      "    Trials with all NaN values: 0\n",
      "    Average NaN count per trial: 745.8\n",
      "    Max NaN count in a trial: 14743\n",
      "    Stimulus_c: 214 valid trials out of 214\n",
      "  Loading condition: Stimulus_i with parameters: {'BIDS_events': ['Stimulus/i25.0/Accuracy1.0', 'Stimulus/i75.0/Accuracy1.0'], 'congruency': 'i'}\n",
      "Not setting metadata\n",
      "213 matching events found\n",
      "No baseline correction applied\n"
     ]
    },
    {
     "name": "stderr",
     "output_type": "stream",
     "text": [
      "c:\\Users\\jz421\\Desktop\\GlobalLocal\\src\\analysis\\utils\\general_utils.py:422: RuntimeWarning: Concatenation of Annotations within Epochs is not supported yet. All annotations will be dropped.\n",
      "  event_epochs = mne.concatenate_epochs(combined_epochs)\n"
     ]
    },
    {
     "name": "stdout",
     "output_type": "stream",
     "text": [
      "    Original shape: (213, 157, 641)\n",
      "    Trials with all NaN values: 0\n",
      "    Average NaN count per trial: 475.5\n",
      "    Max NaN count in a trial: 7692\n",
      "    Stimulus_i: 213 valid trials out of 213\n",
      "Loading data for subject: D0094\n",
      "Reading C:\\Users\\jz421\\Box\\CoganLab\\BIDS-1.1_GlobalLocal\\BIDS\\derivatives\\freqFilt\\figs\\D0094\\D0094_Stimulus_0.5sec_within1sec_randoffset_preStimulusBase_decFactor_8_outliers_10_passband_70.0-150.0_padLength_0.5s_stat_func_ttest_ind_equal_var_False_HG_ev1_rescaled-epo.fif ...\n",
      "    Found the data of interest:\n",
      "        t =   -1000.00 ...    1500.00 ms\n",
      "        0 CTF compensation matrices available\n",
      "Not setting metadata\n",
      "448 matching events found\n",
      "No baseline correction applied\n",
      "0 projection items activated\n",
      "Reading C:\\Users\\jz421\\Box\\CoganLab\\BIDS-1.1_GlobalLocal\\BIDS\\derivatives\\freqFilt\\figs\\D0094\\D0094_Stimulus_0.5sec_within1sec_randoffset_preStimulusBase_decFactor_8_outliers_10_passband_70.0-150.0_padLength_0.5s_stat_func_ttest_ind_equal_var_False_HG_ev1_power_rescaled-epo.fif ...\n",
      "    Found the data of interest:\n",
      "        t =   -1000.00 ...    1500.00 ms\n",
      "        0 CTF compensation matrices available\n",
      "Not setting metadata\n",
      "448 matching events found\n",
      "No baseline correction applied\n",
      "0 projection items activated\n",
      "  Loading condition: Stimulus_c with parameters: {'BIDS_events': ['Stimulus/c25.0/Accuracy1.0', 'Stimulus/c75.0/Accuracy1.0'], 'congruency': 'c'}\n",
      "Not setting metadata\n",
      "209 matching events found\n",
      "No baseline correction applied\n"
     ]
    },
    {
     "name": "stderr",
     "output_type": "stream",
     "text": [
      "c:\\Users\\jz421\\Desktop\\GlobalLocal\\src\\analysis\\utils\\general_utils.py:422: RuntimeWarning: Concatenation of Annotations within Epochs is not supported yet. All annotations will be dropped.\n",
      "  event_epochs = mne.concatenate_epochs(combined_epochs)\n"
     ]
    },
    {
     "name": "stdout",
     "output_type": "stream",
     "text": [
      "    Original shape: (209, 231, 641)\n",
      "    Trials with all NaN values: 0\n",
      "    Average NaN count per trial: 763.7\n",
      "    Max NaN count in a trial: 16666\n",
      "    Stimulus_c: 209 valid trials out of 209\n",
      "  Loading condition: Stimulus_i with parameters: {'BIDS_events': ['Stimulus/i25.0/Accuracy1.0', 'Stimulus/i75.0/Accuracy1.0'], 'congruency': 'i'}\n",
      "Not setting metadata\n",
      "169 matching events found\n",
      "No baseline correction applied\n"
     ]
    },
    {
     "name": "stderr",
     "output_type": "stream",
     "text": [
      "c:\\Users\\jz421\\Desktop\\GlobalLocal\\src\\analysis\\utils\\general_utils.py:422: RuntimeWarning: Concatenation of Annotations within Epochs is not supported yet. All annotations will be dropped.\n",
      "  event_epochs = mne.concatenate_epochs(combined_epochs)\n"
     ]
    },
    {
     "name": "stdout",
     "output_type": "stream",
     "text": [
      "    Original shape: (169, 231, 641)\n",
      "    Trials with all NaN values: 0\n",
      "    Average NaN count per trial: 576.5\n",
      "    Max NaN count in a trial: 12820\n",
      "    Stimulus_i: 169 valid trials out of 169\n",
      "  Loading condition: Stimulus_c with parameters: {'BIDS_events': ['Stimulus/c25.0/Accuracy1.0', 'Stimulus/c75.0/Accuracy1.0'], 'congruency': 'c'}\n",
      "Not setting metadata\n",
      "209 matching events found\n",
      "No baseline correction applied\n"
     ]
    },
    {
     "name": "stderr",
     "output_type": "stream",
     "text": [
      "c:\\Users\\jz421\\Desktop\\GlobalLocal\\src\\analysis\\utils\\general_utils.py:422: RuntimeWarning: Concatenation of Annotations within Epochs is not supported yet. All annotations will be dropped.\n",
      "  event_epochs = mne.concatenate_epochs(combined_epochs)\n"
     ]
    },
    {
     "name": "stdout",
     "output_type": "stream",
     "text": [
      "    Original shape: (209, 231, 641)\n",
      "    Trials with all NaN values: 0\n",
      "    Average NaN count per trial: 763.7\n",
      "    Max NaN count in a trial: 16666\n",
      "    Stimulus_c: 209 valid trials out of 209\n",
      "  Loading condition: Stimulus_i with parameters: {'BIDS_events': ['Stimulus/i25.0/Accuracy1.0', 'Stimulus/i75.0/Accuracy1.0'], 'congruency': 'i'}\n",
      "Not setting metadata\n",
      "169 matching events found\n",
      "No baseline correction applied\n"
     ]
    },
    {
     "name": "stderr",
     "output_type": "stream",
     "text": [
      "c:\\Users\\jz421\\Desktop\\GlobalLocal\\src\\analysis\\utils\\general_utils.py:422: RuntimeWarning: Concatenation of Annotations within Epochs is not supported yet. All annotations will be dropped.\n",
      "  event_epochs = mne.concatenate_epochs(combined_epochs)\n"
     ]
    },
    {
     "name": "stdout",
     "output_type": "stream",
     "text": [
      "    Original shape: (169, 231, 641)\n",
      "    Trials with all NaN values: 0\n",
      "    Average NaN count per trial: 576.5\n",
      "    Max NaN count in a trial: 12820\n",
      "    Stimulus_i: 169 valid trials out of 169\n",
      "Loading data for subject: D0100\n",
      "Reading C:\\Users\\jz421\\Box\\CoganLab\\BIDS-1.1_GlobalLocal\\BIDS\\derivatives\\freqFilt\\figs\\D0100\\D0100_Stimulus_0.5sec_within1sec_randoffset_preStimulusBase_decFactor_8_outliers_10_passband_70.0-150.0_padLength_0.5s_stat_func_ttest_ind_equal_var_False_HG_ev1_rescaled-epo.fif ...\n",
      "    Found the data of interest:\n",
      "        t =   -1000.00 ...    1500.00 ms\n",
      "        0 CTF compensation matrices available\n",
      "Not setting metadata\n",
      "451 matching events found\n",
      "No baseline correction applied\n",
      "0 projection items activated\n",
      "Reading C:\\Users\\jz421\\Box\\CoganLab\\BIDS-1.1_GlobalLocal\\BIDS\\derivatives\\freqFilt\\figs\\D0100\\D0100_Stimulus_0.5sec_within1sec_randoffset_preStimulusBase_decFactor_8_outliers_10_passband_70.0-150.0_padLength_0.5s_stat_func_ttest_ind_equal_var_False_HG_ev1_power_rescaled-epo.fif ...\n",
      "    Found the data of interest:\n",
      "        t =   -1000.00 ...    1500.00 ms\n",
      "        0 CTF compensation matrices available\n",
      "Not setting metadata\n",
      "451 matching events found\n",
      "No baseline correction applied\n",
      "0 projection items activated\n",
      "  Loading condition: Stimulus_c with parameters: {'BIDS_events': ['Stimulus/c25.0/Accuracy1.0', 'Stimulus/c75.0/Accuracy1.0'], 'congruency': 'c'}\n",
      "Not setting metadata\n",
      "217 matching events found\n",
      "No baseline correction applied\n"
     ]
    },
    {
     "name": "stderr",
     "output_type": "stream",
     "text": [
      "c:\\Users\\jz421\\Desktop\\GlobalLocal\\src\\analysis\\utils\\general_utils.py:422: RuntimeWarning: Concatenation of Annotations within Epochs is not supported yet. All annotations will be dropped.\n",
      "  event_epochs = mne.concatenate_epochs(combined_epochs)\n"
     ]
    },
    {
     "name": "stdout",
     "output_type": "stream",
     "text": [
      "    Original shape: (217, 224, 641)\n",
      "    Trials with all NaN values: 0\n",
      "    Average NaN count per trial: 1663.1\n",
      "    Max NaN count in a trial: 56408\n",
      "    Stimulus_c: 217 valid trials out of 217\n",
      "  Loading condition: Stimulus_i with parameters: {'BIDS_events': ['Stimulus/i25.0/Accuracy1.0', 'Stimulus/i75.0/Accuracy1.0'], 'congruency': 'i'}\n",
      "Not setting metadata\n",
      "204 matching events found\n",
      "No baseline correction applied\n"
     ]
    },
    {
     "name": "stderr",
     "output_type": "stream",
     "text": [
      "c:\\Users\\jz421\\Desktop\\GlobalLocal\\src\\analysis\\utils\\general_utils.py:422: RuntimeWarning: Concatenation of Annotations within Epochs is not supported yet. All annotations will be dropped.\n",
      "  event_epochs = mne.concatenate_epochs(combined_epochs)\n"
     ]
    },
    {
     "name": "stdout",
     "output_type": "stream",
     "text": [
      "    Original shape: (204, 224, 641)\n",
      "    Trials with all NaN values: 0\n",
      "    Average NaN count per trial: 967.8\n",
      "    Max NaN count in a trial: 26922\n",
      "    Stimulus_i: 204 valid trials out of 204\n",
      "  Loading condition: Stimulus_c with parameters: {'BIDS_events': ['Stimulus/c25.0/Accuracy1.0', 'Stimulus/c75.0/Accuracy1.0'], 'congruency': 'c'}\n",
      "Not setting metadata\n",
      "217 matching events found\n",
      "No baseline correction applied\n"
     ]
    },
    {
     "name": "stderr",
     "output_type": "stream",
     "text": [
      "c:\\Users\\jz421\\Desktop\\GlobalLocal\\src\\analysis\\utils\\general_utils.py:422: RuntimeWarning: Concatenation of Annotations within Epochs is not supported yet. All annotations will be dropped.\n",
      "  event_epochs = mne.concatenate_epochs(combined_epochs)\n"
     ]
    },
    {
     "name": "stdout",
     "output_type": "stream",
     "text": [
      "    Original shape: (217, 224, 641)\n",
      "    Trials with all NaN values: 0\n",
      "    Average NaN count per trial: 1663.1\n",
      "    Max NaN count in a trial: 56408\n",
      "    Stimulus_c: 217 valid trials out of 217\n",
      "  Loading condition: Stimulus_i with parameters: {'BIDS_events': ['Stimulus/i25.0/Accuracy1.0', 'Stimulus/i75.0/Accuracy1.0'], 'congruency': 'i'}\n"
     ]
    },
    {
     "name": "stderr",
     "output_type": "stream",
     "text": [
      "c:\\Users\\jz421\\Desktop\\GlobalLocal\\src\\analysis\\utils\\general_utils.py:422: RuntimeWarning: Concatenation of Annotations within Epochs is not supported yet. All annotations will be dropped.\n",
      "  event_epochs = mne.concatenate_epochs(combined_epochs)\n"
     ]
    },
    {
     "name": "stdout",
     "output_type": "stream",
     "text": [
      "Not setting metadata\n",
      "204 matching events found\n",
      "No baseline correction applied\n",
      "    Original shape: (204, 224, 641)\n",
      "    Trials with all NaN values: 0\n",
      "    Average NaN count per trial: 967.8\n",
      "    Max NaN count in a trial: 26922\n",
      "    Stimulus_i: 204 valid trials out of 204\n",
      "Loading data for subject: D0102\n",
      "Reading C:\\Users\\jz421\\Box\\CoganLab\\BIDS-1.1_GlobalLocal\\BIDS\\derivatives\\freqFilt\\figs\\D0102\\D0102_Stimulus_0.5sec_within1sec_randoffset_preStimulusBase_decFactor_8_outliers_10_passband_70.0-150.0_padLength_0.5s_stat_func_ttest_ind_equal_var_False_HG_ev1_rescaled-epo.fif ...\n",
      "    Found the data of interest:\n",
      "        t =   -1000.00 ...    1500.00 ms\n",
      "        0 CTF compensation matrices available\n",
      "Not setting metadata\n",
      "448 matching events found\n",
      "No baseline correction applied\n",
      "0 projection items activated\n",
      "Reading C:\\Users\\jz421\\Box\\CoganLab\\BIDS-1.1_GlobalLocal\\BIDS\\derivatives\\freqFilt\\figs\\D0102\\D0102_Stimulus_0.5sec_within1sec_randoffset_preStimulusBase_decFactor_8_outliers_10_passband_70.0-150.0_padLength_0.5s_stat_func_ttest_ind_equal_var_False_HG_ev1_power_rescaled-epo.fif ...\n",
      "    Found the data of interest:\n",
      "        t =   -1000.00 ...    1500.00 ms\n",
      "        0 CTF compensation matrices available\n",
      "Not setting metadata\n",
      "448 matching events found\n",
      "No baseline correction applied\n",
      "0 projection items activated\n",
      "  Loading condition: Stimulus_c with parameters: {'BIDS_events': ['Stimulus/c25.0/Accuracy1.0', 'Stimulus/c75.0/Accuracy1.0'], 'congruency': 'c'}\n",
      "Not setting metadata\n",
      "193 matching events found\n",
      "No baseline correction applied\n"
     ]
    },
    {
     "name": "stderr",
     "output_type": "stream",
     "text": [
      "c:\\Users\\jz421\\Desktop\\GlobalLocal\\src\\analysis\\utils\\general_utils.py:422: RuntimeWarning: Concatenation of Annotations within Epochs is not supported yet. All annotations will be dropped.\n",
      "  event_epochs = mne.concatenate_epochs(combined_epochs)\n"
     ]
    },
    {
     "name": "stdout",
     "output_type": "stream",
     "text": [
      "    Original shape: (193, 219, 641)\n",
      "    Trials with all NaN values: 0\n",
      "    Average NaN count per trial: 973.1\n",
      "    Max NaN count in a trial: 25640\n",
      "    Stimulus_c: 193 valid trials out of 193\n",
      "  Loading condition: Stimulus_i with parameters: {'BIDS_events': ['Stimulus/i25.0/Accuracy1.0', 'Stimulus/i75.0/Accuracy1.0'], 'congruency': 'i'}\n",
      "Not setting metadata\n",
      "106 matching events found\n",
      "No baseline correction applied\n"
     ]
    },
    {
     "name": "stderr",
     "output_type": "stream",
     "text": [
      "c:\\Users\\jz421\\Desktop\\GlobalLocal\\src\\analysis\\utils\\general_utils.py:422: RuntimeWarning: Concatenation of Annotations within Epochs is not supported yet. All annotations will be dropped.\n",
      "  event_epochs = mne.concatenate_epochs(combined_epochs)\n"
     ]
    },
    {
     "name": "stdout",
     "output_type": "stream",
     "text": [
      "    Original shape: (106, 219, 641)\n",
      "    Trials with all NaN values: 0\n",
      "    Average NaN count per trial: 568.4\n",
      "    Max NaN count in a trial: 8333\n",
      "    Stimulus_i: 106 valid trials out of 106\n",
      "  Loading condition: Stimulus_c with parameters: {'BIDS_events': ['Stimulus/c25.0/Accuracy1.0', 'Stimulus/c75.0/Accuracy1.0'], 'congruency': 'c'}\n",
      "Not setting metadata\n",
      "193 matching events found\n",
      "No baseline correction applied\n"
     ]
    },
    {
     "name": "stderr",
     "output_type": "stream",
     "text": [
      "c:\\Users\\jz421\\Desktop\\GlobalLocal\\src\\analysis\\utils\\general_utils.py:422: RuntimeWarning: Concatenation of Annotations within Epochs is not supported yet. All annotations will be dropped.\n",
      "  event_epochs = mne.concatenate_epochs(combined_epochs)\n"
     ]
    },
    {
     "name": "stdout",
     "output_type": "stream",
     "text": [
      "    Original shape: (193, 219, 641)\n",
      "    Trials with all NaN values: 0\n",
      "    Average NaN count per trial: 973.1\n",
      "    Max NaN count in a trial: 25640\n",
      "    Stimulus_c: 193 valid trials out of 193\n",
      "  Loading condition: Stimulus_i with parameters: {'BIDS_events': ['Stimulus/i25.0/Accuracy1.0', 'Stimulus/i75.0/Accuracy1.0'], 'congruency': 'i'}\n",
      "Not setting metadata\n",
      "106 matching events found\n",
      "No baseline correction applied\n"
     ]
    },
    {
     "name": "stderr",
     "output_type": "stream",
     "text": [
      "c:\\Users\\jz421\\Desktop\\GlobalLocal\\src\\analysis\\utils\\general_utils.py:422: RuntimeWarning: Concatenation of Annotations within Epochs is not supported yet. All annotations will be dropped.\n",
      "  event_epochs = mne.concatenate_epochs(combined_epochs)\n"
     ]
    },
    {
     "name": "stdout",
     "output_type": "stream",
     "text": [
      "    Original shape: (106, 219, 641)\n",
      "    Trials with all NaN values: 0\n",
      "    Average NaN count per trial: 568.4\n",
      "    Max NaN count in a trial: 8333\n",
      "    Stimulus_i: 106 valid trials out of 106\n",
      "Loading data for subject: D0103\n",
      "Reading C:\\Users\\jz421\\Box\\CoganLab\\BIDS-1.1_GlobalLocal\\BIDS\\derivatives\\freqFilt\\figs\\D0103\\D0103_Stimulus_0.5sec_within1sec_randoffset_preStimulusBase_decFactor_8_outliers_10_passband_70.0-150.0_padLength_0.5s_stat_func_ttest_ind_equal_var_False_HG_ev1_rescaled-epo.fif ...\n",
      "    Found the data of interest:\n",
      "        t =   -1000.00 ...    1500.00 ms\n",
      "        0 CTF compensation matrices available\n",
      "Not setting metadata\n",
      "448 matching events found\n",
      "No baseline correction applied\n",
      "0 projection items activated\n",
      "Reading C:\\Users\\jz421\\Box\\CoganLab\\BIDS-1.1_GlobalLocal\\BIDS\\derivatives\\freqFilt\\figs\\D0103\\D0103_Stimulus_0.5sec_within1sec_randoffset_preStimulusBase_decFactor_8_outliers_10_passband_70.0-150.0_padLength_0.5s_stat_func_ttest_ind_equal_var_False_HG_ev1_power_rescaled-epo.fif ...\n",
      "    Found the data of interest:\n",
      "        t =   -1000.00 ...    1500.00 ms\n",
      "        0 CTF compensation matrices available\n",
      "Not setting metadata\n",
      "448 matching events found\n",
      "No baseline correction applied\n",
      "0 projection items activated\n",
      "  Loading condition: Stimulus_c with parameters: {'BIDS_events': ['Stimulus/c25.0/Accuracy1.0', 'Stimulus/c75.0/Accuracy1.0'], 'congruency': 'c'}\n",
      "Not setting metadata\n",
      "200 matching events found\n",
      "No baseline correction applied\n"
     ]
    },
    {
     "name": "stderr",
     "output_type": "stream",
     "text": [
      "c:\\Users\\jz421\\Desktop\\GlobalLocal\\src\\analysis\\utils\\general_utils.py:422: RuntimeWarning: Concatenation of Annotations within Epochs is not supported yet. All annotations will be dropped.\n",
      "  event_epochs = mne.concatenate_epochs(combined_epochs)\n"
     ]
    },
    {
     "name": "stdout",
     "output_type": "stream",
     "text": [
      "    Original shape: (200, 222, 641)\n",
      "    Trials with all NaN values: 0\n",
      "    Average NaN count per trial: 666.6\n",
      "    Max NaN count in a trial: 14102\n",
      "    Stimulus_c: 200 valid trials out of 200\n",
      "  Loading condition: Stimulus_i with parameters: {'BIDS_events': ['Stimulus/i25.0/Accuracy1.0', 'Stimulus/i75.0/Accuracy1.0'], 'congruency': 'i'}\n",
      "Not setting metadata\n",
      "159 matching events found\n",
      "No baseline correction applied\n"
     ]
    },
    {
     "name": "stderr",
     "output_type": "stream",
     "text": [
      "c:\\Users\\jz421\\Desktop\\GlobalLocal\\src\\analysis\\utils\\general_utils.py:422: RuntimeWarning: Concatenation of Annotations within Epochs is not supported yet. All annotations will be dropped.\n",
      "  event_epochs = mne.concatenate_epochs(combined_epochs)\n"
     ]
    },
    {
     "name": "stdout",
     "output_type": "stream",
     "text": [
      "    Original shape: (159, 222, 641)\n",
      "    Trials with all NaN values: 0\n",
      "    Average NaN count per trial: 467.6\n",
      "    Max NaN count in a trial: 6410\n",
      "    Stimulus_i: 159 valid trials out of 159\n",
      "  Loading condition: Stimulus_c with parameters: {'BIDS_events': ['Stimulus/c25.0/Accuracy1.0', 'Stimulus/c75.0/Accuracy1.0'], 'congruency': 'c'}\n",
      "Not setting metadata\n",
      "200 matching events found\n",
      "No baseline correction applied\n"
     ]
    },
    {
     "name": "stderr",
     "output_type": "stream",
     "text": [
      "c:\\Users\\jz421\\Desktop\\GlobalLocal\\src\\analysis\\utils\\general_utils.py:422: RuntimeWarning: Concatenation of Annotations within Epochs is not supported yet. All annotations will be dropped.\n",
      "  event_epochs = mne.concatenate_epochs(combined_epochs)\n"
     ]
    },
    {
     "name": "stdout",
     "output_type": "stream",
     "text": [
      "    Original shape: (200, 222, 641)\n",
      "    Trials with all NaN values: 0\n",
      "    Average NaN count per trial: 666.6\n",
      "    Max NaN count in a trial: 14102\n",
      "    Stimulus_c: 200 valid trials out of 200\n",
      "  Loading condition: Stimulus_i with parameters: {'BIDS_events': ['Stimulus/i25.0/Accuracy1.0', 'Stimulus/i75.0/Accuracy1.0'], 'congruency': 'i'}\n",
      "Not setting metadata\n",
      "159 matching events found\n",
      "No baseline correction applied\n"
     ]
    },
    {
     "name": "stderr",
     "output_type": "stream",
     "text": [
      "c:\\Users\\jz421\\Desktop\\GlobalLocal\\src\\analysis\\utils\\general_utils.py:422: RuntimeWarning: Concatenation of Annotations within Epochs is not supported yet. All annotations will be dropped.\n",
      "  event_epochs = mne.concatenate_epochs(combined_epochs)\n"
     ]
    },
    {
     "name": "stdout",
     "output_type": "stream",
     "text": [
      "    Original shape: (159, 222, 641)\n",
      "    Trials with all NaN values: 0\n",
      "    Average NaN count per trial: 467.6\n",
      "    Max NaN count in a trial: 6410\n",
      "    Stimulus_i: 159 valid trials out of 159\n",
      "Loading data for subject: D0107A\n",
      "Reading C:\\Users\\jz421\\Box\\CoganLab\\BIDS-1.1_GlobalLocal\\BIDS\\derivatives\\freqFilt\\figs\\D0107A\\D0107A_Stimulus_0.5sec_within1sec_randoffset_preStimulusBase_decFactor_8_outliers_10_passband_70.0-150.0_padLength_0.5s_stat_func_ttest_ind_equal_var_False_HG_ev1_rescaled-epo.fif ...\n",
      "    Found the data of interest:\n",
      "        t =   -1000.00 ...    1500.00 ms\n",
      "        0 CTF compensation matrices available\n",
      "Not setting metadata\n",
      "452 matching events found\n",
      "No baseline correction applied\n",
      "0 projection items activated\n",
      "Reading C:\\Users\\jz421\\Box\\CoganLab\\BIDS-1.1_GlobalLocal\\BIDS\\derivatives\\freqFilt\\figs\\D0107A\\D0107A_Stimulus_0.5sec_within1sec_randoffset_preStimulusBase_decFactor_8_outliers_10_passband_70.0-150.0_padLength_0.5s_stat_func_ttest_ind_equal_var_False_HG_ev1_power_rescaled-epo.fif ...\n",
      "    Found the data of interest:\n",
      "        t =   -1000.00 ...    1500.00 ms\n",
      "        0 CTF compensation matrices available\n",
      "Not setting metadata\n",
      "452 matching events found\n",
      "No baseline correction applied\n",
      "0 projection items activated\n",
      "  Loading condition: Stimulus_c with parameters: {'BIDS_events': ['Stimulus/c25.0/Accuracy1.0', 'Stimulus/c75.0/Accuracy1.0'], 'congruency': 'c'}\n",
      "Not setting metadata\n",
      "213 matching events found\n",
      "No baseline correction applied\n"
     ]
    },
    {
     "name": "stderr",
     "output_type": "stream",
     "text": [
      "c:\\Users\\jz421\\Desktop\\GlobalLocal\\src\\analysis\\utils\\general_utils.py:422: RuntimeWarning: Concatenation of Annotations within Epochs is not supported yet. All annotations will be dropped.\n",
      "  event_epochs = mne.concatenate_epochs(combined_epochs)\n"
     ]
    },
    {
     "name": "stdout",
     "output_type": "stream",
     "text": [
      "    Original shape: (213, 164, 641)\n",
      "    Trials with all NaN values: 0\n",
      "    Average NaN count per trial: 2130.6\n",
      "    Max NaN count in a trial: 45511\n",
      "    Stimulus_c: 213 valid trials out of 213\n",
      "  Loading condition: Stimulus_i with parameters: {'BIDS_events': ['Stimulus/i25.0/Accuracy1.0', 'Stimulus/i75.0/Accuracy1.0'], 'congruency': 'i'}\n",
      "Not setting metadata\n",
      "181 matching events found\n",
      "No baseline correction applied\n"
     ]
    },
    {
     "name": "stderr",
     "output_type": "stream",
     "text": [
      "c:\\Users\\jz421\\Desktop\\GlobalLocal\\src\\analysis\\utils\\general_utils.py:422: RuntimeWarning: Concatenation of Annotations within Epochs is not supported yet. All annotations will be dropped.\n",
      "  event_epochs = mne.concatenate_epochs(combined_epochs)\n"
     ]
    },
    {
     "name": "stdout",
     "output_type": "stream",
     "text": [
      "    Original shape: (181, 164, 641)\n",
      "    Trials with all NaN values: 0\n",
      "    Average NaN count per trial: 1958.4\n",
      "    Max NaN count in a trial: 12820\n",
      "    Stimulus_i: 181 valid trials out of 181\n",
      "  Loading condition: Stimulus_c with parameters: {'BIDS_events': ['Stimulus/c25.0/Accuracy1.0', 'Stimulus/c75.0/Accuracy1.0'], 'congruency': 'c'}\n",
      "Not setting metadata\n",
      "213 matching events found\n",
      "No baseline correction applied\n"
     ]
    },
    {
     "name": "stderr",
     "output_type": "stream",
     "text": [
      "c:\\Users\\jz421\\Desktop\\GlobalLocal\\src\\analysis\\utils\\general_utils.py:422: RuntimeWarning: Concatenation of Annotations within Epochs is not supported yet. All annotations will be dropped.\n",
      "  event_epochs = mne.concatenate_epochs(combined_epochs)\n"
     ]
    },
    {
     "name": "stdout",
     "output_type": "stream",
     "text": [
      "    Original shape: (213, 164, 641)\n",
      "    Trials with all NaN values: 0\n",
      "    Average NaN count per trial: 2130.6\n",
      "    Max NaN count in a trial: 45511\n",
      "    Stimulus_c: 213 valid trials out of 213\n",
      "  Loading condition: Stimulus_i with parameters: {'BIDS_events': ['Stimulus/i25.0/Accuracy1.0', 'Stimulus/i75.0/Accuracy1.0'], 'congruency': 'i'}\n",
      "Not setting metadata\n",
      "181 matching events found\n",
      "No baseline correction applied\n"
     ]
    },
    {
     "name": "stderr",
     "output_type": "stream",
     "text": [
      "c:\\Users\\jz421\\Desktop\\GlobalLocal\\src\\analysis\\utils\\general_utils.py:422: RuntimeWarning: Concatenation of Annotations within Epochs is not supported yet. All annotations will be dropped.\n",
      "  event_epochs = mne.concatenate_epochs(combined_epochs)\n"
     ]
    },
    {
     "name": "stdout",
     "output_type": "stream",
     "text": [
      "    Original shape: (181, 164, 641)\n",
      "    Trials with all NaN values: 0\n",
      "    Average NaN count per trial: 1958.4\n",
      "    Max NaN count in a trial: 12820\n",
      "    Stimulus_i: 181 valid trials out of 181\n",
      "Loading data for subject: D0110\n",
      "Reading C:\\Users\\jz421\\Box\\CoganLab\\BIDS-1.1_GlobalLocal\\BIDS\\derivatives\\freqFilt\\figs\\D0110\\D0110_Stimulus_0.5sec_within1sec_randoffset_preStimulusBase_decFactor_8_outliers_10_passband_70.0-150.0_padLength_0.5s_stat_func_ttest_ind_equal_var_False_HG_ev1_rescaled-epo.fif ...\n",
      "    Found the data of interest:\n",
      "        t =   -1000.00 ...    1500.00 ms\n",
      "        0 CTF compensation matrices available\n",
      "Not setting metadata\n",
      "448 matching events found\n",
      "No baseline correction applied\n",
      "0 projection items activated\n",
      "Reading C:\\Users\\jz421\\Box\\CoganLab\\BIDS-1.1_GlobalLocal\\BIDS\\derivatives\\freqFilt\\figs\\D0110\\D0110_Stimulus_0.5sec_within1sec_randoffset_preStimulusBase_decFactor_8_outliers_10_passband_70.0-150.0_padLength_0.5s_stat_func_ttest_ind_equal_var_False_HG_ev1_power_rescaled-epo.fif ...\n",
      "    Found the data of interest:\n",
      "        t =   -1000.00 ...    1500.00 ms\n",
      "        0 CTF compensation matrices available\n",
      "Not setting metadata\n",
      "448 matching events found\n",
      "No baseline correction applied\n",
      "0 projection items activated\n",
      "  Loading condition: Stimulus_c with parameters: {'BIDS_events': ['Stimulus/c25.0/Accuracy1.0', 'Stimulus/c75.0/Accuracy1.0'], 'congruency': 'c'}\n",
      "Not setting metadata\n",
      "220 matching events found\n",
      "No baseline correction applied\n"
     ]
    },
    {
     "name": "stderr",
     "output_type": "stream",
     "text": [
      "c:\\Users\\jz421\\Desktop\\GlobalLocal\\src\\analysis\\utils\\general_utils.py:422: RuntimeWarning: Concatenation of Annotations within Epochs is not supported yet. All annotations will be dropped.\n",
      "  event_epochs = mne.concatenate_epochs(combined_epochs)\n"
     ]
    },
    {
     "name": "stdout",
     "output_type": "stream",
     "text": [
      "    Original shape: (220, 226, 641)\n",
      "    Trials with all NaN values: 0\n",
      "    Average NaN count per trial: 1182.9\n",
      "    Max NaN count in a trial: 23717\n",
      "    Stimulus_c: 220 valid trials out of 220\n",
      "  Loading condition: Stimulus_i with parameters: {'BIDS_events': ['Stimulus/i25.0/Accuracy1.0', 'Stimulus/i75.0/Accuracy1.0'], 'congruency': 'i'}\n",
      "Not setting metadata\n",
      "219 matching events found\n",
      "No baseline correction applied\n"
     ]
    },
    {
     "name": "stderr",
     "output_type": "stream",
     "text": [
      "c:\\Users\\jz421\\Desktop\\GlobalLocal\\src\\analysis\\utils\\general_utils.py:422: RuntimeWarning: Concatenation of Annotations within Epochs is not supported yet. All annotations will be dropped.\n",
      "  event_epochs = mne.concatenate_epochs(combined_epochs)\n"
     ]
    },
    {
     "name": "stdout",
     "output_type": "stream",
     "text": [
      "    Original shape: (219, 226, 641)\n",
      "    Trials with all NaN values: 0\n",
      "    Average NaN count per trial: 1150.3\n",
      "    Max NaN count in a trial: 20512\n",
      "    Stimulus_i: 219 valid trials out of 219\n",
      "  Loading condition: Stimulus_c with parameters: {'BIDS_events': ['Stimulus/c25.0/Accuracy1.0', 'Stimulus/c75.0/Accuracy1.0'], 'congruency': 'c'}\n",
      "Not setting metadata\n",
      "220 matching events found\n",
      "No baseline correction applied\n"
     ]
    },
    {
     "name": "stderr",
     "output_type": "stream",
     "text": [
      "c:\\Users\\jz421\\Desktop\\GlobalLocal\\src\\analysis\\utils\\general_utils.py:422: RuntimeWarning: Concatenation of Annotations within Epochs is not supported yet. All annotations will be dropped.\n",
      "  event_epochs = mne.concatenate_epochs(combined_epochs)\n"
     ]
    },
    {
     "name": "stdout",
     "output_type": "stream",
     "text": [
      "    Original shape: (220, 226, 641)\n",
      "    Trials with all NaN values: 0\n",
      "    Average NaN count per trial: 1182.9\n",
      "    Max NaN count in a trial: 23717\n",
      "    Stimulus_c: 220 valid trials out of 220\n",
      "  Loading condition: Stimulus_i with parameters: {'BIDS_events': ['Stimulus/i25.0/Accuracy1.0', 'Stimulus/i75.0/Accuracy1.0'], 'congruency': 'i'}\n",
      "Not setting metadata\n",
      "219 matching events found\n",
      "No baseline correction applied\n"
     ]
    },
    {
     "name": "stderr",
     "output_type": "stream",
     "text": [
      "c:\\Users\\jz421\\Desktop\\GlobalLocal\\src\\analysis\\utils\\general_utils.py:422: RuntimeWarning: Concatenation of Annotations within Epochs is not supported yet. All annotations will be dropped.\n",
      "  event_epochs = mne.concatenate_epochs(combined_epochs)\n"
     ]
    },
    {
     "name": "stdout",
     "output_type": "stream",
     "text": [
      "    Original shape: (219, 226, 641)\n",
      "    Trials with all NaN values: 0\n",
      "    Average NaN count per trial: 1150.3\n",
      "    Max NaN count in a trial: 20512\n",
      "    Stimulus_i: 219 valid trials out of 219\n",
      "Loading data for subject: D0116\n",
      "Reading C:\\Users\\jz421\\Box\\CoganLab\\BIDS-1.1_GlobalLocal\\BIDS\\derivatives\\freqFilt\\figs\\D0116\\D0116_Stimulus_0.5sec_within1sec_randoffset_preStimulusBase_decFactor_8_outliers_10_passband_70.0-150.0_padLength_0.5s_stat_func_ttest_ind_equal_var_False_HG_ev1_rescaled-epo.fif ...\n",
      "    Found the data of interest:\n",
      "        t =   -1000.00 ...    1500.00 ms\n",
      "        0 CTF compensation matrices available\n",
      "Not setting metadata\n",
      "448 matching events found\n",
      "No baseline correction applied\n",
      "0 projection items activated\n",
      "Reading C:\\Users\\jz421\\Box\\CoganLab\\BIDS-1.1_GlobalLocal\\BIDS\\derivatives\\freqFilt\\figs\\D0116\\D0116_Stimulus_0.5sec_within1sec_randoffset_preStimulusBase_decFactor_8_outliers_10_passband_70.0-150.0_padLength_0.5s_stat_func_ttest_ind_equal_var_False_HG_ev1_power_rescaled-epo.fif ...\n",
      "    Found the data of interest:\n",
      "        t =   -1000.00 ...    1500.00 ms\n",
      "        0 CTF compensation matrices available\n",
      "Not setting metadata\n",
      "448 matching events found\n",
      "No baseline correction applied\n",
      "0 projection items activated\n",
      "  Loading condition: Stimulus_c with parameters: {'BIDS_events': ['Stimulus/c25.0/Accuracy1.0', 'Stimulus/c75.0/Accuracy1.0'], 'congruency': 'c'}\n",
      "Not setting metadata\n",
      "222 matching events found\n",
      "No baseline correction applied\n"
     ]
    },
    {
     "name": "stderr",
     "output_type": "stream",
     "text": [
      "c:\\Users\\jz421\\Desktop\\GlobalLocal\\src\\analysis\\utils\\general_utils.py:422: RuntimeWarning: Concatenation of Annotations within Epochs is not supported yet. All annotations will be dropped.\n",
      "  event_epochs = mne.concatenate_epochs(combined_epochs)\n"
     ]
    },
    {
     "name": "stdout",
     "output_type": "stream",
     "text": [
      "    Original shape: (222, 219, 641)\n",
      "    Trials with all NaN values: 0\n",
      "    Average NaN count per trial: 701.6\n",
      "    Max NaN count in a trial: 6410\n",
      "    Stimulus_c: 222 valid trials out of 222\n",
      "  Loading condition: Stimulus_i with parameters: {'BIDS_events': ['Stimulus/i25.0/Accuracy1.0', 'Stimulus/i75.0/Accuracy1.0'], 'congruency': 'i'}\n",
      "Not setting metadata\n",
      "188 matching events found\n",
      "No baseline correction applied\n"
     ]
    },
    {
     "name": "stderr",
     "output_type": "stream",
     "text": [
      "c:\\Users\\jz421\\Desktop\\GlobalLocal\\src\\analysis\\utils\\general_utils.py:422: RuntimeWarning: Concatenation of Annotations within Epochs is not supported yet. All annotations will be dropped.\n",
      "  event_epochs = mne.concatenate_epochs(combined_epochs)\n"
     ]
    },
    {
     "name": "stdout",
     "output_type": "stream",
     "text": [
      "    Original shape: (188, 219, 641)\n",
      "    Trials with all NaN values: 0\n",
      "    Average NaN count per trial: 613.7\n",
      "    Max NaN count in a trial: 10256\n",
      "    Stimulus_i: 188 valid trials out of 188\n",
      "  Loading condition: Stimulus_c with parameters: {'BIDS_events': ['Stimulus/c25.0/Accuracy1.0', 'Stimulus/c75.0/Accuracy1.0'], 'congruency': 'c'}\n",
      "Not setting metadata\n",
      "222 matching events found\n",
      "No baseline correction applied\n"
     ]
    },
    {
     "name": "stderr",
     "output_type": "stream",
     "text": [
      "c:\\Users\\jz421\\Desktop\\GlobalLocal\\src\\analysis\\utils\\general_utils.py:422: RuntimeWarning: Concatenation of Annotations within Epochs is not supported yet. All annotations will be dropped.\n",
      "  event_epochs = mne.concatenate_epochs(combined_epochs)\n"
     ]
    },
    {
     "name": "stdout",
     "output_type": "stream",
     "text": [
      "    Original shape: (222, 219, 641)\n",
      "    Trials with all NaN values: 0\n",
      "    Average NaN count per trial: 701.6\n",
      "    Max NaN count in a trial: 6410\n",
      "    Stimulus_c: 222 valid trials out of 222\n",
      "  Loading condition: Stimulus_i with parameters: {'BIDS_events': ['Stimulus/i25.0/Accuracy1.0', 'Stimulus/i75.0/Accuracy1.0'], 'congruency': 'i'}\n",
      "Not setting metadata\n",
      "188 matching events found\n",
      "No baseline correction applied\n"
     ]
    },
    {
     "name": "stderr",
     "output_type": "stream",
     "text": [
      "c:\\Users\\jz421\\Desktop\\GlobalLocal\\src\\analysis\\utils\\general_utils.py:422: RuntimeWarning: Concatenation of Annotations within Epochs is not supported yet. All annotations will be dropped.\n",
      "  event_epochs = mne.concatenate_epochs(combined_epochs)\n"
     ]
    },
    {
     "name": "stdout",
     "output_type": "stream",
     "text": [
      "    Original shape: (188, 219, 641)\n",
      "    Trials with all NaN values: 0\n",
      "    Average NaN count per trial: 613.7\n",
      "    Max NaN count in a trial: 10256\n",
      "    Stimulus_i: 188 valid trials out of 188\n",
      "Loading data for subject: D0117\n",
      "Reading C:\\Users\\jz421\\Box\\CoganLab\\BIDS-1.1_GlobalLocal\\BIDS\\derivatives\\freqFilt\\figs\\D0117\\D0117_Stimulus_0.5sec_within1sec_randoffset_preStimulusBase_decFactor_8_outliers_10_passband_70.0-150.0_padLength_0.5s_stat_func_ttest_ind_equal_var_False_HG_ev1_rescaled-epo.fif ...\n",
      "    Found the data of interest:\n",
      "        t =   -1000.00 ...    1500.00 ms\n",
      "        0 CTF compensation matrices available\n",
      "Not setting metadata\n",
      "448 matching events found\n",
      "No baseline correction applied\n",
      "0 projection items activated\n",
      "Reading C:\\Users\\jz421\\Box\\CoganLab\\BIDS-1.1_GlobalLocal\\BIDS\\derivatives\\freqFilt\\figs\\D0117\\D0117_Stimulus_0.5sec_within1sec_randoffset_preStimulusBase_decFactor_8_outliers_10_passband_70.0-150.0_padLength_0.5s_stat_func_ttest_ind_equal_var_False_HG_ev1_power_rescaled-epo.fif ...\n",
      "    Found the data of interest:\n",
      "        t =   -1000.00 ...    1500.00 ms\n",
      "        0 CTF compensation matrices available\n",
      "Not setting metadata\n",
      "448 matching events found\n",
      "No baseline correction applied\n",
      "0 projection items activated\n",
      "  Loading condition: Stimulus_c with parameters: {'BIDS_events': ['Stimulus/c25.0/Accuracy1.0', 'Stimulus/c75.0/Accuracy1.0'], 'congruency': 'c'}\n",
      "Not setting metadata\n",
      "162 matching events found\n",
      "No baseline correction applied\n"
     ]
    },
    {
     "name": "stderr",
     "output_type": "stream",
     "text": [
      "c:\\Users\\jz421\\Desktop\\GlobalLocal\\src\\analysis\\utils\\general_utils.py:422: RuntimeWarning: Concatenation of Annotations within Epochs is not supported yet. All annotations will be dropped.\n",
      "  event_epochs = mne.concatenate_epochs(combined_epochs)\n"
     ]
    },
    {
     "name": "stdout",
     "output_type": "stream",
     "text": [
      "    Original shape: (162, 196, 641)\n",
      "    Trials with all NaN values: 0\n",
      "    Average NaN count per trial: 1729.1\n",
      "    Max NaN count in a trial: 54485\n",
      "    Stimulus_c: 162 valid trials out of 162\n",
      "  Loading condition: Stimulus_i with parameters: {'BIDS_events': ['Stimulus/i25.0/Accuracy1.0', 'Stimulus/i75.0/Accuracy1.0'], 'congruency': 'i'}\n",
      "Not setting metadata\n",
      "121 matching events found\n",
      "No baseline correction applied\n"
     ]
    },
    {
     "name": "stderr",
     "output_type": "stream",
     "text": [
      "c:\\Users\\jz421\\Desktop\\GlobalLocal\\src\\analysis\\utils\\general_utils.py:422: RuntimeWarning: Concatenation of Annotations within Epochs is not supported yet. All annotations will be dropped.\n",
      "  event_epochs = mne.concatenate_epochs(combined_epochs)\n"
     ]
    },
    {
     "name": "stdout",
     "output_type": "stream",
     "text": [
      "    Original shape: (121, 196, 641)\n",
      "    Trials with all NaN values: 0\n",
      "    Average NaN count per trial: 1573.4\n",
      "    Max NaN count in a trial: 26922\n",
      "    Stimulus_i: 121 valid trials out of 121\n",
      "  Loading condition: Stimulus_c with parameters: {'BIDS_events': ['Stimulus/c25.0/Accuracy1.0', 'Stimulus/c75.0/Accuracy1.0'], 'congruency': 'c'}\n",
      "Not setting metadata\n",
      "162 matching events found\n",
      "No baseline correction applied\n"
     ]
    },
    {
     "name": "stderr",
     "output_type": "stream",
     "text": [
      "c:\\Users\\jz421\\Desktop\\GlobalLocal\\src\\analysis\\utils\\general_utils.py:422: RuntimeWarning: Concatenation of Annotations within Epochs is not supported yet. All annotations will be dropped.\n",
      "  event_epochs = mne.concatenate_epochs(combined_epochs)\n"
     ]
    },
    {
     "name": "stdout",
     "output_type": "stream",
     "text": [
      "    Original shape: (162, 196, 641)\n",
      "    Trials with all NaN values: 0\n",
      "    Average NaN count per trial: 1729.1\n",
      "    Max NaN count in a trial: 54485\n",
      "    Stimulus_c: 162 valid trials out of 162\n",
      "  Loading condition: Stimulus_i with parameters: {'BIDS_events': ['Stimulus/i25.0/Accuracy1.0', 'Stimulus/i75.0/Accuracy1.0'], 'congruency': 'i'}\n",
      "Not setting metadata\n",
      "121 matching events found\n",
      "No baseline correction applied\n"
     ]
    },
    {
     "name": "stderr",
     "output_type": "stream",
     "text": [
      "c:\\Users\\jz421\\Desktop\\GlobalLocal\\src\\analysis\\utils\\general_utils.py:422: RuntimeWarning: Concatenation of Annotations within Epochs is not supported yet. All annotations will be dropped.\n",
      "  event_epochs = mne.concatenate_epochs(combined_epochs)\n"
     ]
    },
    {
     "name": "stdout",
     "output_type": "stream",
     "text": [
      "    Original shape: (121, 196, 641)\n",
      "    Trials with all NaN values: 0\n",
      "    Average NaN count per trial: 1573.4\n",
      "    Max NaN count in a trial: 26922\n",
      "    Stimulus_i: 121 valid trials out of 121\n",
      "Loading data for subject: D0121\n",
      "Reading C:\\Users\\jz421\\Box\\CoganLab\\BIDS-1.1_GlobalLocal\\BIDS\\derivatives\\freqFilt\\figs\\D0121\\D0121_Stimulus_0.5sec_within1sec_randoffset_preStimulusBase_decFactor_8_outliers_10_passband_70.0-150.0_padLength_0.5s_stat_func_ttest_ind_equal_var_False_HG_ev1_rescaled-epo.fif ...\n",
      "    Found the data of interest:\n",
      "        t =   -1000.00 ...    1500.00 ms\n",
      "        0 CTF compensation matrices available\n",
      "Not setting metadata\n",
      "448 matching events found\n",
      "No baseline correction applied\n",
      "0 projection items activated\n",
      "Reading C:\\Users\\jz421\\Box\\CoganLab\\BIDS-1.1_GlobalLocal\\BIDS\\derivatives\\freqFilt\\figs\\D0121\\D0121_Stimulus_0.5sec_within1sec_randoffset_preStimulusBase_decFactor_8_outliers_10_passband_70.0-150.0_padLength_0.5s_stat_func_ttest_ind_equal_var_False_HG_ev1_power_rescaled-epo.fif ...\n",
      "    Found the data of interest:\n",
      "        t =   -1000.00 ...    1500.00 ms\n",
      "        0 CTF compensation matrices available\n",
      "Not setting metadata\n",
      "448 matching events found\n",
      "No baseline correction applied\n",
      "0 projection items activated\n",
      "  Loading condition: Stimulus_c with parameters: {'BIDS_events': ['Stimulus/c25.0/Accuracy1.0', 'Stimulus/c75.0/Accuracy1.0'], 'congruency': 'c'}\n",
      "Not setting metadata\n",
      "206 matching events found\n",
      "No baseline correction applied\n"
     ]
    },
    {
     "name": "stderr",
     "output_type": "stream",
     "text": [
      "c:\\Users\\jz421\\Desktop\\GlobalLocal\\src\\analysis\\utils\\general_utils.py:422: RuntimeWarning: Concatenation of Annotations within Epochs is not supported yet. All annotations will be dropped.\n",
      "  event_epochs = mne.concatenate_epochs(combined_epochs)\n"
     ]
    },
    {
     "name": "stdout",
     "output_type": "stream",
     "text": [
      "    Original shape: (206, 204, 641)\n",
      "    Trials with all NaN values: 0\n",
      "    Average NaN count per trial: 1288.2\n",
      "    Max NaN count in a trial: 42947\n",
      "    Stimulus_c: 206 valid trials out of 206\n",
      "  Loading condition: Stimulus_i with parameters: {'BIDS_events': ['Stimulus/i25.0/Accuracy1.0', 'Stimulus/i75.0/Accuracy1.0'], 'congruency': 'i'}\n",
      "Not setting metadata\n",
      "194 matching events found\n",
      "No baseline correction applied\n"
     ]
    },
    {
     "name": "stderr",
     "output_type": "stream",
     "text": [
      "c:\\Users\\jz421\\Desktop\\GlobalLocal\\src\\analysis\\utils\\general_utils.py:422: RuntimeWarning: Concatenation of Annotations within Epochs is not supported yet. All annotations will be dropped.\n",
      "  event_epochs = mne.concatenate_epochs(combined_epochs)\n"
     ]
    },
    {
     "name": "stdout",
     "output_type": "stream",
     "text": [
      "    Original shape: (194, 204, 641)\n",
      "    Trials with all NaN values: 0\n",
      "    Average NaN count per trial: 948.3\n",
      "    Max NaN count in a trial: 19230\n",
      "    Stimulus_i: 194 valid trials out of 194\n",
      "  Loading condition: Stimulus_c with parameters: {'BIDS_events': ['Stimulus/c25.0/Accuracy1.0', 'Stimulus/c75.0/Accuracy1.0'], 'congruency': 'c'}\n",
      "Not setting metadata\n",
      "206 matching events found\n",
      "No baseline correction applied\n"
     ]
    },
    {
     "name": "stderr",
     "output_type": "stream",
     "text": [
      "c:\\Users\\jz421\\Desktop\\GlobalLocal\\src\\analysis\\utils\\general_utils.py:422: RuntimeWarning: Concatenation of Annotations within Epochs is not supported yet. All annotations will be dropped.\n",
      "  event_epochs = mne.concatenate_epochs(combined_epochs)\n"
     ]
    },
    {
     "name": "stdout",
     "output_type": "stream",
     "text": [
      "    Original shape: (206, 204, 641)\n",
      "    Trials with all NaN values: 0\n",
      "    Average NaN count per trial: 1288.2\n",
      "    Max NaN count in a trial: 42947\n",
      "    Stimulus_c: 206 valid trials out of 206\n",
      "  Loading condition: Stimulus_i with parameters: {'BIDS_events': ['Stimulus/i25.0/Accuracy1.0', 'Stimulus/i75.0/Accuracy1.0'], 'congruency': 'i'}\n",
      "Not setting metadata\n",
      "194 matching events found\n",
      "No baseline correction applied\n"
     ]
    },
    {
     "name": "stderr",
     "output_type": "stream",
     "text": [
      "c:\\Users\\jz421\\Desktop\\GlobalLocal\\src\\analysis\\utils\\general_utils.py:422: RuntimeWarning: Concatenation of Annotations within Epochs is not supported yet. All annotations will be dropped.\n",
      "  event_epochs = mne.concatenate_epochs(combined_epochs)\n"
     ]
    },
    {
     "name": "stdout",
     "output_type": "stream",
     "text": [
      "    Original shape: (194, 204, 641)\n",
      "    Trials with all NaN values: 0\n",
      "    Average NaN count per trial: 948.3\n",
      "    Max NaN count in a trial: 19230\n",
      "    Stimulus_i: 194 valid trials out of 194\n"
     ]
    }
   ],
   "source": [
    "task='GlobalLocal'\n",
    "conditions = experiment_conditions.stimulus_congruency_conditions # set this to whichever conditions you're running\n",
    "stimulus_locked = True  #toggle\n",
    "response_locked = not stimulus_locked\n",
    "\n",
    "if stimulus_locked:\n",
    "    # epochs_root_file = \"Stimulus_0.5sec_within1sec_randoffset_preStimulusBase_decFactor_8_outliers_10_passband_4.0-8.0_padLength_0.5s_stat_func_ttest_ind_equal_var_False\"\n",
    "    epochs_root_file = \"Stimulus_0.5sec_within1sec_randoffset_preStimulusBase_decFactor_8_outliers_10_passband_70.0-150.0_padLength_0.5s_stat_func_ttest_ind_equal_var_False\"\n",
    "    # epochs_root_file = \"Stimulus_0.5sec_within1sec_randoffset_preStimulusBase_decFactor_8_outliers_10_passband_0.0-30.0_padLength_0.5s_stat_func_ttest_ind_equal_var_False\"\n",
    "\n",
    "elif response_locked:\n",
    "    # epochs_root_file = \"Response_0.5sec_within1sec_randoffset_preStimulusBase_decFactor_8_outliers_10_passband_4.0-8.0_padLength_0.5s_stat_func_ttest_ind\"\n",
    "    epochs_root_file = \"Response_0.5sec_within1sec_randoffset_preStimulusBase_decFactor_8_outliers_10_passband_70.0-150.0_padLength_0.5s_stat_func_ttest_ind\"\n",
    "\n",
    "condition_names = list(conditions.keys()) # get the condition names as a list\n",
    "\n",
    "# This breaks if just_HG_ev1_rescaled is set to False currently. Fix this! 8/11\n",
    "subjects_mne_objects = create_subjects_mne_objects_dict(subjects=subjects, epochs_root_file=epochs_root_file, conditions=conditions, task=\"GlobalLocal\", just_HG_ev1_rescaled=True, acc_trials_only=True)"
   ]
  },
  {
   "cell_type": "code",
   "execution_count": 6,
   "metadata": {},
   "outputs": [
    {
     "data": {
      "text/plain": [
       "['Stimulus_c', 'Stimulus_i']"
      ]
     },
     "execution_count": 6,
     "metadata": {},
     "output_type": "execute_result"
    }
   ],
   "source": [
    "condition_names_bids = [condition['BIDS_events'] for condition in conditions.values()] # get the condition names in bids format\n",
    "condition_names"
   ]
  },
  {
   "cell_type": "markdown",
   "metadata": {},
   "source": [
    "get significant channels"
   ]
  },
  {
   "cell_type": "code",
   "execution_count": 7,
   "metadata": {},
   "outputs": [
    {
     "name": "stdout",
     "output_type": "stream",
     "text": [
      "Loaded significant channels for subject D0057\n",
      "Loaded significant channels for subject D0059\n",
      "Loaded significant channels for subject D0063\n",
      "Loaded significant channels for subject D0065\n",
      "Loaded significant channels for subject D0069\n",
      "Loaded significant channels for subject D0071\n",
      "Loaded significant channels for subject D0077\n",
      "Loaded significant channels for subject D0090\n",
      "Loaded significant channels for subject D0094\n",
      "Loaded significant channels for subject D0100\n",
      "Loaded significant channels for subject D0102\n",
      "Loaded significant channels for subject D0103\n",
      "Loaded significant channels for subject D0107A\n",
      "Loaded significant channels for subject D0110\n",
      "Loaded significant channels for subject D0116\n",
      "Loaded significant channels for subject D0117\n",
      "Loaded significant channels for subject D0121\n"
     ]
    }
   ],
   "source": [
    "sig_chans_per_subject = get_sig_chans_per_subject(subjects, epochs_root_file, task='GlobalLocal', LAB_root=None)"
   ]
  },
  {
   "cell_type": "code",
   "execution_count": 8,
   "metadata": {},
   "outputs": [
    {
     "name": "stdout",
     "output_type": "stream",
     "text": [
      "For subject D0057, G_front_inf-Opercular, G_front_inf-Orbital, G_front_inf-Triangul, G_front_middle, G_front_sup, Lat_Fis-ant-Horizont, Lat_Fis-ant-Vertical, S_circular_insula_ant, S_circular_insula_sup, S_front_inf, S_front_middle, S_front_sup electrodes are: ['RAI6', 'RAI12', 'RAI13', 'RAI14', 'RAI15', 'RAI16', 'RPI15', 'RPI14', 'RAMF10', 'RAMF11', 'RAMF12', 'RAMF13', 'RAMF14', 'RAIF11', 'RAIF12', 'RAIF13', 'RAIF14']\n",
      "For subject D0059, G_front_inf-Opercular, G_front_inf-Orbital, G_front_inf-Triangul, G_front_middle, G_front_sup, Lat_Fis-ant-Horizont, Lat_Fis-ant-Vertical, S_circular_insula_ant, S_circular_insula_sup, S_front_inf, S_front_middle, S_front_sup electrodes are: ['LMMF9', 'LMMF11', 'LMMF10', 'LMMF12', 'LPSF16']\n",
      "For subject D0063, G_front_inf-Opercular, G_front_inf-Orbital, G_front_inf-Triangul, G_front_middle, G_front_sup, Lat_Fis-ant-Horizont, Lat_Fis-ant-Vertical, S_circular_insula_ant, S_circular_insula_sup, S_front_inf, S_front_middle, S_front_sup electrodes are: ['LASF10', 'LASF11', 'LASF14', 'LASF15', 'LASF16', 'LMSF5', 'LMSF6', 'LMSF12', 'LPSF10', 'LPSF12', 'ROF16', 'RAI16', 'RAMF11', 'RAMF12', 'RAMF13', 'RAMF14', 'RMMF13', 'RMMF14', 'RAI4', 'RAI6', 'RAI5', 'RAI10', 'RAI11', 'RASF15', 'RASF16', 'RMSF8', 'RMSF9', 'RMSF10', 'RMSF11', 'RMSF12', 'RMSF7', 'RAMF8', 'RAMF9', 'RAMF10', 'RMMF9', 'RMMF10']\n",
      "For subject D0065, G_front_inf-Opercular, G_front_inf-Orbital, G_front_inf-Triangul, G_front_middle, G_front_sup, Lat_Fis-ant-Horizont, Lat_Fis-ant-Vertical, S_circular_insula_ant, S_circular_insula_sup, S_front_inf, S_front_middle, S_front_sup electrodes are: ['RASF13', 'RASF14', 'RASF15', 'RASF16', 'RMSF11', 'RMSF12', 'RMSF13', 'RMSF14', 'RI7']\n",
      "For subject D0069, G_front_inf-Opercular, G_front_inf-Orbital, G_front_inf-Triangul, G_front_middle, G_front_sup, Lat_Fis-ant-Horizont, Lat_Fis-ant-Vertical, S_circular_insula_ant, S_circular_insula_sup, S_front_inf, S_front_middle, S_front_sup electrodes are: ['LOF8']\n",
      "For subject D0071, G_front_inf-Opercular, G_front_inf-Orbital, G_front_inf-Triangul, G_front_middle, G_front_sup, Lat_Fis-ant-Horizont, Lat_Fis-ant-Vertical, S_circular_insula_ant, S_circular_insula_sup, S_front_inf, S_front_middle, S_front_sup electrodes are: ['RFO14', 'RFO16', 'RIA4', 'RIP6', 'RIA5', 'RIA11', 'RIA12', 'RIA13', 'RIA14', 'RIA16', 'RIP14', 'RIP15', 'RIP16']\n",
      "For subject D0077, G_front_inf-Opercular, G_front_inf-Orbital, G_front_inf-Triangul, G_front_middle, G_front_sup, Lat_Fis-ant-Horizont, Lat_Fis-ant-Vertical, S_circular_insula_ant, S_circular_insula_sup, S_front_inf, S_front_middle, S_front_sup electrodes are: []\n",
      "For subject D0090, G_front_inf-Opercular, G_front_inf-Orbital, G_front_inf-Triangul, G_front_middle, G_front_sup, Lat_Fis-ant-Horizont, Lat_Fis-ant-Vertical, S_circular_insula_ant, S_circular_insula_sup, S_front_inf, S_front_middle, S_front_sup electrodes are: ['RFO15', 'RIA6', 'RIA11', 'RIA12', 'RIA14', 'RIA15', 'RIA16', 'RIP7']\n",
      "For subject D0094, G_front_inf-Opercular, G_front_inf-Orbital, G_front_inf-Triangul, G_front_middle, G_front_sup, Lat_Fis-ant-Horizont, Lat_Fis-ant-Vertical, S_circular_insula_ant, S_circular_insula_sup, S_front_inf, S_front_middle, S_front_sup electrodes are: ['LFO12', 'LFO13', 'LFO15', 'LFO16', 'LFAM8', 'LFAM9', 'LFAM10', 'LFAM13', 'LFAM14', 'LFPM10', 'LFPM11', 'LFPM12', 'LPAS1', 'LIA16', 'LFAI3', 'LFAI4', 'LFAI5', 'LFPI10', 'LPAI9', 'LPAI10', 'LIA4', 'LIA5', 'LFAI9', 'LFAI10', 'LIA11', 'LIA12', 'LIA13', 'LIA14']\n",
      "For subject D0100, G_front_inf-Opercular, G_front_inf-Orbital, G_front_inf-Triangul, G_front_middle, G_front_sup, Lat_Fis-ant-Horizont, Lat_Fis-ant-Vertical, S_circular_insula_ant, S_circular_insula_sup, S_front_inf, S_front_middle, S_front_sup electrodes are: []\n",
      "For subject D0102, G_front_inf-Opercular, G_front_inf-Orbital, G_front_inf-Triangul, G_front_middle, G_front_sup, Lat_Fis-ant-Horizont, Lat_Fis-ant-Vertical, S_circular_insula_ant, S_circular_insula_sup, S_front_inf, S_front_middle, S_front_sup electrodes are: ['RFO13', 'RFO14', 'RFAM15', 'RFAI2', 'RFAI3']\n",
      "For subject D0103, G_front_inf-Opercular, G_front_inf-Orbital, G_front_inf-Triangul, G_front_middle, G_front_sup, Lat_Fis-ant-Horizont, Lat_Fis-ant-Vertical, S_circular_insula_ant, S_circular_insula_sup, S_front_inf, S_front_middle, S_front_sup electrodes are: ['LFAM8', 'LFAM9', 'LAI13', 'LAI14', 'LFAM15', 'LAI4', 'LAI7', 'LAI8', 'LAI18', 'LFO15', 'LFAI4']\n",
      "For subject D0107A, G_front_inf-Opercular, G_front_inf-Orbital, G_front_inf-Triangul, G_front_middle, G_front_sup, Lat_Fis-ant-Horizont, Lat_Fis-ant-Vertical, S_circular_insula_ant, S_circular_insula_sup, S_front_inf, S_front_middle, S_front_sup electrodes are: ['RFOA16', 'RFOA17', 'RFOA18', 'RFAI3', 'RIA5', 'RIA6', 'RFAM7', 'RFAM9', 'RFAM10', 'RFAM11', 'RFAM12', 'RFMM9', 'RFMM11', 'RFMM12', 'RFMM13', 'RFMM14', 'RFMM15', 'RFMM8', 'RIA12', 'RIA13', 'RIA14', 'RIA15', 'RIA16', 'RIA17', 'RIA18']\n",
      "For subject D0110, G_front_inf-Opercular, G_front_inf-Orbital, G_front_inf-Triangul, G_front_middle, G_front_sup, Lat_Fis-ant-Horizont, Lat_Fis-ant-Vertical, S_circular_insula_ant, S_circular_insula_sup, S_front_inf, S_front_middle, S_front_sup electrodes are: ['LASF10', 'LOF13', 'LOF15', 'LINS4', 'LINS5']\n",
      "For subject D0116, G_front_inf-Opercular, G_front_inf-Orbital, G_front_inf-Triangul, G_front_middle, G_front_sup, Lat_Fis-ant-Horizont, Lat_Fis-ant-Vertical, S_circular_insula_ant, S_circular_insula_sup, S_front_inf, S_front_middle, S_front_sup electrodes are: ['LFOA14', 'LFOA17', 'LFOA18', 'LFOP15', 'LFAM10', 'LFAM11', 'LFMM14', 'LAI12', 'LAI16', 'LFAM12', 'LAI7', 'LAI8', 'LFMI3', 'LFMI5', 'LFMI6', 'RFOA14', 'RFOA15', 'RFOA16', 'RFOP15', 'RFMM10', 'RFMM11', 'RFMM12', 'RAI7', 'RAI11', 'RAI12', 'RAI14', 'RAI15', 'RAI16', 'RAI17', 'RFMI4']\n",
      "For subject D0117, G_front_inf-Opercular, G_front_inf-Orbital, G_front_inf-Triangul, G_front_middle, G_front_sup, Lat_Fis-ant-Horizont, Lat_Fis-ant-Vertical, S_circular_insula_ant, S_circular_insula_sup, S_front_inf, S_front_middle, S_front_sup electrodes are: ['RMOF15', 'RINSA15', 'RINSA16', 'RLOF10', 'RLOF11', 'RLOF16', 'RINSA3', 'RINSA11', 'RINSA12', 'RINSA13', 'RINSA14']\n",
      "For subject D0121, G_front_inf-Opercular, G_front_inf-Orbital, G_front_inf-Triangul, G_front_middle, G_front_sup, Lat_Fis-ant-Horizont, Lat_Fis-ant-Vertical, S_circular_insula_ant, S_circular_insula_sup, S_front_inf, S_front_middle, S_front_sup electrodes are: ['LFOA15', 'LFOP12', 'LFO5', 'LFO6', 'LFO8', 'LFO9', 'LFO12', 'LFO13', 'LFO14', 'LFO15', 'LFO16', 'LFO17', 'LFO18', 'LFA1', 'LFA2', 'LFP16', 'LFP17', 'LFPS1', 'LFPS2', 'LFPP1', 'LFOP13', 'LFOP15', 'LFOP16', 'LFOP18', 'LFA7', 'LFA8', 'LFAS6', 'LFAM8', 'LFAM9', 'LFA9', 'LFA10', 'LFA11', 'LFA12', 'LFAM10', 'LFAM11', 'LFAM12', 'LFMM8', 'LFMM9', 'LFMM10', 'LFMM11', 'LFMM12', 'LFAS7', 'LFAS8', 'LFAS9', 'LFAS10', 'LFMS7', 'LFMS9', 'LFMS10', 'LFMS11', 'LFMS12', 'LFPS6', 'LFPS7', 'LFPS9', 'LFPS10', 'LFPP7', 'LFPP9', 'LFPP10', 'LFMI4', 'LFMI5', 'LFMI8', 'LFMI9']\n",
      "Subject D0057 significant G_front_inf-Opercular, G_front_inf-Orbital, G_front_inf-Triangul, G_front_middle, G_front_sup, Lat_Fis-ant-Horizont, Lat_Fis-ant-Vertical, S_circular_insula_ant, S_circular_insula_sup, S_front_inf, S_front_middle, S_front_sup electrodes: ['RAI6', 'RAMF14']\n",
      "Subject D0059 significant G_front_inf-Opercular, G_front_inf-Orbital, G_front_inf-Triangul, G_front_middle, G_front_sup, Lat_Fis-ant-Horizont, Lat_Fis-ant-Vertical, S_circular_insula_ant, S_circular_insula_sup, S_front_inf, S_front_middle, S_front_sup electrodes: ['LMMF11', 'LMMF10', 'LPSF16']\n",
      "Subject D0063 significant G_front_inf-Opercular, G_front_inf-Orbital, G_front_inf-Triangul, G_front_middle, G_front_sup, Lat_Fis-ant-Horizont, Lat_Fis-ant-Vertical, S_circular_insula_ant, S_circular_insula_sup, S_front_inf, S_front_middle, S_front_sup electrodes: ['LPSF12', 'RMMF13', 'RMMF14', 'RAI4', 'RAI6', 'RAI5', 'RMMF10']\n",
      "Subject D0065 significant G_front_inf-Opercular, G_front_inf-Orbital, G_front_inf-Triangul, G_front_middle, G_front_sup, Lat_Fis-ant-Horizont, Lat_Fis-ant-Vertical, S_circular_insula_ant, S_circular_insula_sup, S_front_inf, S_front_middle, S_front_sup electrodes: []\n",
      "Subject D0069 significant G_front_inf-Opercular, G_front_inf-Orbital, G_front_inf-Triangul, G_front_middle, G_front_sup, Lat_Fis-ant-Horizont, Lat_Fis-ant-Vertical, S_circular_insula_ant, S_circular_insula_sup, S_front_inf, S_front_middle, S_front_sup electrodes: []\n",
      "Subject D0071 significant G_front_inf-Opercular, G_front_inf-Orbital, G_front_inf-Triangul, G_front_middle, G_front_sup, Lat_Fis-ant-Horizont, Lat_Fis-ant-Vertical, S_circular_insula_ant, S_circular_insula_sup, S_front_inf, S_front_middle, S_front_sup electrodes: ['RIA4', 'RIP6', 'RIA5']\n",
      "Subject D0077 significant G_front_inf-Opercular, G_front_inf-Orbital, G_front_inf-Triangul, G_front_middle, G_front_sup, Lat_Fis-ant-Horizont, Lat_Fis-ant-Vertical, S_circular_insula_ant, S_circular_insula_sup, S_front_inf, S_front_middle, S_front_sup electrodes: []\n",
      "Subject D0090 significant G_front_inf-Opercular, G_front_inf-Orbital, G_front_inf-Triangul, G_front_middle, G_front_sup, Lat_Fis-ant-Horizont, Lat_Fis-ant-Vertical, S_circular_insula_ant, S_circular_insula_sup, S_front_inf, S_front_middle, S_front_sup electrodes: ['RIA6', 'RIA11']\n",
      "Subject D0094 significant G_front_inf-Opercular, G_front_inf-Orbital, G_front_inf-Triangul, G_front_middle, G_front_sup, Lat_Fis-ant-Horizont, Lat_Fis-ant-Vertical, S_circular_insula_ant, S_circular_insula_sup, S_front_inf, S_front_middle, S_front_sup electrodes: ['LFAM8', 'LFAM9', 'LFAM10', 'LFPM10', 'LFPM12', 'LFAI9', 'LFAI10', 'LIA11']\n",
      "Subject D0100 significant G_front_inf-Opercular, G_front_inf-Orbital, G_front_inf-Triangul, G_front_middle, G_front_sup, Lat_Fis-ant-Horizont, Lat_Fis-ant-Vertical, S_circular_insula_ant, S_circular_insula_sup, S_front_inf, S_front_middle, S_front_sup electrodes: []\n",
      "Subject D0102 significant G_front_inf-Opercular, G_front_inf-Orbital, G_front_inf-Triangul, G_front_middle, G_front_sup, Lat_Fis-ant-Horizont, Lat_Fis-ant-Vertical, S_circular_insula_ant, S_circular_insula_sup, S_front_inf, S_front_middle, S_front_sup electrodes: ['RFO13', 'RFO14']\n",
      "Subject D0103 significant G_front_inf-Opercular, G_front_inf-Orbital, G_front_inf-Triangul, G_front_middle, G_front_sup, Lat_Fis-ant-Horizont, Lat_Fis-ant-Vertical, S_circular_insula_ant, S_circular_insula_sup, S_front_inf, S_front_middle, S_front_sup electrodes: ['LFAM8', 'LFAM9', 'LAI13', 'LAI14', 'LAI4', 'LAI7', 'LAI8', 'LFAI4']\n",
      "Subject D0107A significant G_front_inf-Opercular, G_front_inf-Orbital, G_front_inf-Triangul, G_front_middle, G_front_sup, Lat_Fis-ant-Horizont, Lat_Fis-ant-Vertical, S_circular_insula_ant, S_circular_insula_sup, S_front_inf, S_front_middle, S_front_sup electrodes: ['RFAI3']\n",
      "Subject D0110 significant G_front_inf-Opercular, G_front_inf-Orbital, G_front_inf-Triangul, G_front_middle, G_front_sup, Lat_Fis-ant-Horizont, Lat_Fis-ant-Vertical, S_circular_insula_ant, S_circular_insula_sup, S_front_inf, S_front_middle, S_front_sup electrodes: []\n",
      "Subject D0116 significant G_front_inf-Opercular, G_front_inf-Orbital, G_front_inf-Triangul, G_front_middle, G_front_sup, Lat_Fis-ant-Horizont, Lat_Fis-ant-Vertical, S_circular_insula_ant, S_circular_insula_sup, S_front_inf, S_front_middle, S_front_sup electrodes: ['LFOA18', 'LFMI3', 'RFMM12', 'RAI15', 'RAI17']\n",
      "Subject D0117 significant G_front_inf-Opercular, G_front_inf-Orbital, G_front_inf-Triangul, G_front_middle, G_front_sup, Lat_Fis-ant-Horizont, Lat_Fis-ant-Vertical, S_circular_insula_ant, S_circular_insula_sup, S_front_inf, S_front_middle, S_front_sup electrodes: ['RINSA3']\n",
      "Subject D0121 significant G_front_inf-Opercular, G_front_inf-Orbital, G_front_inf-Triangul, G_front_middle, G_front_sup, Lat_Fis-ant-Horizont, Lat_Fis-ant-Vertical, S_circular_insula_ant, S_circular_insula_sup, S_front_inf, S_front_middle, S_front_sup electrodes: ['LFPS2', 'LFA11']\n",
      "For subject D0057, G_oc-temp_med-Lingual, S_calcarine, G_cuneus electrodes are: ['RPIT1']\n",
      "For subject D0059, G_oc-temp_med-Lingual, S_calcarine, G_cuneus electrodes are: []\n",
      "For subject D0063, G_oc-temp_med-Lingual, S_calcarine, G_cuneus electrodes are: []\n",
      "For subject D0065, G_oc-temp_med-Lingual, S_calcarine, G_cuneus electrodes are: ['RPMT1']\n",
      "For subject D0069, G_oc-temp_med-Lingual, S_calcarine, G_cuneus electrodes are: []\n",
      "For subject D0071, G_oc-temp_med-Lingual, S_calcarine, G_cuneus electrodes are: ['RTPI1', 'RO1', 'RO2']\n",
      "For subject D0077, G_oc-temp_med-Lingual, S_calcarine, G_cuneus electrodes are: ['ROPM1']\n",
      "For subject D0090, G_oc-temp_med-Lingual, S_calcarine, G_cuneus electrodes are: []\n",
      "For subject D0094, G_oc-temp_med-Lingual, S_calcarine, G_cuneus electrodes are: []\n",
      "For subject D0100, G_oc-temp_med-Lingual, S_calcarine, G_cuneus electrodes are: ['LTOJ1', 'LTPI1', 'LOAI1', 'LOPI1', 'LOPI4', 'LOPM1', 'LTOJ3', 'LTOJ4', 'LOMM3', 'LOMM4', 'LOMM5', 'LOPM2']\n",
      "For subject D0102, G_oc-temp_med-Lingual, S_calcarine, G_cuneus electrodes are: []\n",
      "For subject D0103, G_oc-temp_med-Lingual, S_calcarine, G_cuneus electrodes are: []\n",
      "For subject D0107A, G_oc-temp_med-Lingual, S_calcarine, G_cuneus electrodes are: []\n",
      "For subject D0110, G_oc-temp_med-Lingual, S_calcarine, G_cuneus electrodes are: []\n",
      "For subject D0116, G_oc-temp_med-Lingual, S_calcarine, G_cuneus electrodes are: []\n",
      "For subject D0117, G_oc-temp_med-Lingual, S_calcarine, G_cuneus electrodes are: []\n",
      "For subject D0121, G_oc-temp_med-Lingual, S_calcarine, G_cuneus electrodes are: []\n",
      "Subject D0057 significant G_oc-temp_med-Lingual, S_calcarine, G_cuneus electrodes: ['RPIT1']\n",
      "Subject D0059 significant G_oc-temp_med-Lingual, S_calcarine, G_cuneus electrodes: []\n",
      "Subject D0063 significant G_oc-temp_med-Lingual, S_calcarine, G_cuneus electrodes: []\n",
      "Subject D0065 significant G_oc-temp_med-Lingual, S_calcarine, G_cuneus electrodes: []\n",
      "Subject D0069 significant G_oc-temp_med-Lingual, S_calcarine, G_cuneus electrodes: []\n",
      "Subject D0071 significant G_oc-temp_med-Lingual, S_calcarine, G_cuneus electrodes: []\n",
      "Subject D0077 significant G_oc-temp_med-Lingual, S_calcarine, G_cuneus electrodes: ['ROPM1']\n",
      "Subject D0090 significant G_oc-temp_med-Lingual, S_calcarine, G_cuneus electrodes: []\n",
      "Subject D0094 significant G_oc-temp_med-Lingual, S_calcarine, G_cuneus electrodes: []\n",
      "Subject D0100 significant G_oc-temp_med-Lingual, S_calcarine, G_cuneus electrodes: ['LTOJ1', 'LTPI1', 'LOPM1', 'LOMM3']\n",
      "Subject D0102 significant G_oc-temp_med-Lingual, S_calcarine, G_cuneus electrodes: []\n",
      "Subject D0103 significant G_oc-temp_med-Lingual, S_calcarine, G_cuneus electrodes: []\n",
      "Subject D0107A significant G_oc-temp_med-Lingual, S_calcarine, G_cuneus electrodes: []\n",
      "Subject D0110 significant G_oc-temp_med-Lingual, S_calcarine, G_cuneus electrodes: []\n",
      "Subject D0116 significant G_oc-temp_med-Lingual, S_calcarine, G_cuneus electrodes: []\n",
      "Subject D0117 significant G_oc-temp_med-Lingual, S_calcarine, G_cuneus electrodes: []\n",
      "Subject D0121 significant G_oc-temp_med-Lingual, S_calcarine, G_cuneus electrodes: []\n",
      "For subject D0057, G_cuneus, G_and_S_occipital_inf, G_occipital_middle, G_occipital_sup, G_oc-temp_lat-fusifor, G_oc-temp_med-Lingual, Pole_occipital, S_calcarine, S_oc_middle_and_Lunatus, S_oc_sup_and_transversal, S_occipital_ant electrodes are: ['RPIT1']\n",
      "For subject D0059, G_cuneus, G_and_S_occipital_inf, G_occipital_middle, G_occipital_sup, G_oc-temp_lat-fusifor, G_oc-temp_med-Lingual, Pole_occipital, S_calcarine, S_oc_middle_and_Lunatus, S_oc_sup_and_transversal, S_occipital_ant electrodes are: ['LPT13']\n",
      "For subject D0063, G_cuneus, G_and_S_occipital_inf, G_occipital_middle, G_occipital_sup, G_oc-temp_lat-fusifor, G_oc-temp_med-Lingual, Pole_occipital, S_calcarine, S_oc_middle_and_Lunatus, S_oc_sup_and_transversal, S_occipital_ant electrodes are: ['RMMT1', 'RMMT2']\n",
      "For subject D0065, G_cuneus, G_and_S_occipital_inf, G_occipital_middle, G_occipital_sup, G_oc-temp_lat-fusifor, G_oc-temp_med-Lingual, Pole_occipital, S_calcarine, S_oc_middle_and_Lunatus, S_oc_sup_and_transversal, S_occipital_ant electrodes are: ['RPMT1', 'RPIT1', 'RPIT2']\n",
      "For subject D0069, G_cuneus, G_and_S_occipital_inf, G_occipital_middle, G_occipital_sup, G_oc-temp_lat-fusifor, G_oc-temp_med-Lingual, Pole_occipital, S_calcarine, S_oc_middle_and_Lunatus, S_oc_sup_and_transversal, S_occipital_ant electrodes are: []\n",
      "For subject D0071, G_cuneus, G_and_S_occipital_inf, G_occipital_middle, G_occipital_sup, G_oc-temp_lat-fusifor, G_oc-temp_med-Lingual, Pole_occipital, S_calcarine, S_oc_middle_and_Lunatus, S_oc_sup_and_transversal, S_occipital_ant electrodes are: ['RTPI1', 'RO1', 'RO2', 'RO10']\n",
      "For subject D0077, G_cuneus, G_and_S_occipital_inf, G_occipital_middle, G_occipital_sup, G_oc-temp_lat-fusifor, G_oc-temp_med-Lingual, Pole_occipital, S_calcarine, S_oc_middle_and_Lunatus, S_oc_sup_and_transversal, S_occipital_ant electrodes are: ['RTPI2', 'ROPI5', 'ROPI6', 'ROPI8', 'ROPM9', 'ROPM11', 'ROPM12', 'ROPM1', 'ROPM8']\n",
      "For subject D0090, G_cuneus, G_and_S_occipital_inf, G_occipital_middle, G_occipital_sup, G_oc-temp_lat-fusifor, G_oc-temp_med-Lingual, Pole_occipital, S_calcarine, S_oc_middle_and_Lunatus, S_oc_sup_and_transversal, S_occipital_ant electrodes are: ['RTPO1', 'RTPI1', 'RTPI2']\n",
      "For subject D0094, G_cuneus, G_and_S_occipital_inf, G_occipital_middle, G_occipital_sup, G_oc-temp_lat-fusifor, G_oc-temp_med-Lingual, Pole_occipital, S_calcarine, S_oc_middle_and_Lunatus, S_oc_sup_and_transversal, S_occipital_ant electrodes are: []\n",
      "For subject D0100, G_cuneus, G_and_S_occipital_inf, G_occipital_middle, G_occipital_sup, G_oc-temp_lat-fusifor, G_oc-temp_med-Lingual, Pole_occipital, S_calcarine, S_oc_middle_and_Lunatus, S_oc_sup_and_transversal, S_occipital_ant electrodes are: ['LTOJ1', 'LTPI1', 'LOAI1', 'LOPI1', 'LOPI4', 'LOPM1', 'LTOJ3', 'LTOJ4', 'LOMM3', 'LOMM4', 'LOMM5', 'LOPM2', 'LTOJ13', 'LOAI12', 'LOAI13', 'LOAI14', 'LOAI15', 'LOMI8', 'LOMI9', 'LOMI11', 'LOMI12', 'LOPI9', 'LOPI10', 'LOAM15', 'LOMM15', 'LOPM10', 'LOMS13', 'LOMS14', 'LOMS15', 'LOPS9', 'LOPS11', 'LOPS12', 'LPPI14', 'LPPI15', 'LOMM13', 'LOMM14', 'LOMS11', 'LOMS12', 'LOPM8', 'LOPM9', 'LPPI7', 'LPPI8', 'LPPI9']\n",
      "For subject D0102, G_cuneus, G_and_S_occipital_inf, G_occipital_middle, G_occipital_sup, G_oc-temp_lat-fusifor, G_oc-temp_med-Lingual, Pole_occipital, S_calcarine, S_oc_middle_and_Lunatus, S_oc_sup_and_transversal, S_occipital_ant electrodes are: ['RTAI6', 'RTPI1']\n",
      "For subject D0103, G_cuneus, G_and_S_occipital_inf, G_occipital_middle, G_occipital_sup, G_oc-temp_lat-fusifor, G_oc-temp_med-Lingual, Pole_occipital, S_calcarine, S_oc_middle_and_Lunatus, S_oc_sup_and_transversal, S_occipital_ant electrodes are: ['LTLI3', 'LTPI2', 'LTPI3', 'LTPI4']\n",
      "For subject D0107A, G_cuneus, G_and_S_occipital_inf, G_occipital_middle, G_occipital_sup, G_oc-temp_lat-fusifor, G_oc-temp_med-Lingual, Pole_occipital, S_calcarine, S_oc_middle_and_Lunatus, S_oc_sup_and_transversal, S_occipital_ant electrodes are: ['RTPI3']\n",
      "For subject D0110, G_cuneus, G_and_S_occipital_inf, G_occipital_middle, G_occipital_sup, G_oc-temp_lat-fusifor, G_oc-temp_med-Lingual, Pole_occipital, S_calcarine, S_oc_middle_and_Lunatus, S_oc_sup_and_transversal, S_occipital_ant electrodes are: []\n",
      "For subject D0116, G_cuneus, G_and_S_occipital_inf, G_occipital_middle, G_occipital_sup, G_oc-temp_lat-fusifor, G_oc-temp_med-Lingual, Pole_occipital, S_calcarine, S_oc_middle_and_Lunatus, S_oc_sup_and_transversal, S_occipital_ant electrodes are: []\n",
      "For subject D0117, G_cuneus, G_and_S_occipital_inf, G_occipital_middle, G_occipital_sup, G_oc-temp_lat-fusifor, G_oc-temp_med-Lingual, Pole_occipital, S_calcarine, S_oc_middle_and_Lunatus, S_oc_sup_and_transversal, S_occipital_ant electrodes are: []\n",
      "For subject D0121, G_cuneus, G_and_S_occipital_inf, G_occipital_middle, G_occipital_sup, G_oc-temp_lat-fusifor, G_oc-temp_med-Lingual, Pole_occipital, S_calcarine, S_oc_middle_and_Lunatus, S_oc_sup_and_transversal, S_occipital_ant electrodes are: []\n",
      "Subject D0057 significant G_cuneus, G_and_S_occipital_inf, G_occipital_middle, G_occipital_sup, G_oc-temp_lat-fusifor, G_oc-temp_med-Lingual, Pole_occipital, S_calcarine, S_oc_middle_and_Lunatus, S_oc_sup_and_transversal, S_occipital_ant electrodes: ['RPIT1']\n",
      "Subject D0059 significant G_cuneus, G_and_S_occipital_inf, G_occipital_middle, G_occipital_sup, G_oc-temp_lat-fusifor, G_oc-temp_med-Lingual, Pole_occipital, S_calcarine, S_oc_middle_and_Lunatus, S_oc_sup_and_transversal, S_occipital_ant electrodes: []\n",
      "Subject D0063 significant G_cuneus, G_and_S_occipital_inf, G_occipital_middle, G_occipital_sup, G_oc-temp_lat-fusifor, G_oc-temp_med-Lingual, Pole_occipital, S_calcarine, S_oc_middle_and_Lunatus, S_oc_sup_and_transversal, S_occipital_ant electrodes: []\n",
      "Subject D0065 significant G_cuneus, G_and_S_occipital_inf, G_occipital_middle, G_occipital_sup, G_oc-temp_lat-fusifor, G_oc-temp_med-Lingual, Pole_occipital, S_calcarine, S_oc_middle_and_Lunatus, S_oc_sup_and_transversal, S_occipital_ant electrodes: []\n",
      "Subject D0069 significant G_cuneus, G_and_S_occipital_inf, G_occipital_middle, G_occipital_sup, G_oc-temp_lat-fusifor, G_oc-temp_med-Lingual, Pole_occipital, S_calcarine, S_oc_middle_and_Lunatus, S_oc_sup_and_transversal, S_occipital_ant electrodes: []\n",
      "Subject D0071 significant G_cuneus, G_and_S_occipital_inf, G_occipital_middle, G_occipital_sup, G_oc-temp_lat-fusifor, G_oc-temp_med-Lingual, Pole_occipital, S_calcarine, S_oc_middle_and_Lunatus, S_oc_sup_and_transversal, S_occipital_ant electrodes: []\n",
      "Subject D0077 significant G_cuneus, G_and_S_occipital_inf, G_occipital_middle, G_occipital_sup, G_oc-temp_lat-fusifor, G_oc-temp_med-Lingual, Pole_occipital, S_calcarine, S_oc_middle_and_Lunatus, S_oc_sup_and_transversal, S_occipital_ant electrodes: ['ROPM11', 'ROPM1']\n",
      "Subject D0090 significant G_cuneus, G_and_S_occipital_inf, G_occipital_middle, G_occipital_sup, G_oc-temp_lat-fusifor, G_oc-temp_med-Lingual, Pole_occipital, S_calcarine, S_oc_middle_and_Lunatus, S_oc_sup_and_transversal, S_occipital_ant electrodes: ['RTPI2']\n",
      "Subject D0094 significant G_cuneus, G_and_S_occipital_inf, G_occipital_middle, G_occipital_sup, G_oc-temp_lat-fusifor, G_oc-temp_med-Lingual, Pole_occipital, S_calcarine, S_oc_middle_and_Lunatus, S_oc_sup_and_transversal, S_occipital_ant electrodes: []\n",
      "Subject D0100 significant G_cuneus, G_and_S_occipital_inf, G_occipital_middle, G_occipital_sup, G_oc-temp_lat-fusifor, G_oc-temp_med-Lingual, Pole_occipital, S_calcarine, S_oc_middle_and_Lunatus, S_oc_sup_and_transversal, S_occipital_ant electrodes: ['LTOJ1', 'LTPI1', 'LOPM1', 'LOMM3', 'LTOJ13', 'LOMI11', 'LOPI9', 'LOPM10', 'LOPS12', 'LOPM8', 'LOPM9']\n",
      "Subject D0102 significant G_cuneus, G_and_S_occipital_inf, G_occipital_middle, G_occipital_sup, G_oc-temp_lat-fusifor, G_oc-temp_med-Lingual, Pole_occipital, S_calcarine, S_oc_middle_and_Lunatus, S_oc_sup_and_transversal, S_occipital_ant electrodes: []\n",
      "Subject D0103 significant G_cuneus, G_and_S_occipital_inf, G_occipital_middle, G_occipital_sup, G_oc-temp_lat-fusifor, G_oc-temp_med-Lingual, Pole_occipital, S_calcarine, S_oc_middle_and_Lunatus, S_oc_sup_and_transversal, S_occipital_ant electrodes: ['LTPI2', 'LTPI3', 'LTPI4']\n",
      "Subject D0107A significant G_cuneus, G_and_S_occipital_inf, G_occipital_middle, G_occipital_sup, G_oc-temp_lat-fusifor, G_oc-temp_med-Lingual, Pole_occipital, S_calcarine, S_oc_middle_and_Lunatus, S_oc_sup_and_transversal, S_occipital_ant electrodes: []\n",
      "Subject D0110 significant G_cuneus, G_and_S_occipital_inf, G_occipital_middle, G_occipital_sup, G_oc-temp_lat-fusifor, G_oc-temp_med-Lingual, Pole_occipital, S_calcarine, S_oc_middle_and_Lunatus, S_oc_sup_and_transversal, S_occipital_ant electrodes: []\n",
      "Subject D0116 significant G_cuneus, G_and_S_occipital_inf, G_occipital_middle, G_occipital_sup, G_oc-temp_lat-fusifor, G_oc-temp_med-Lingual, Pole_occipital, S_calcarine, S_oc_middle_and_Lunatus, S_oc_sup_and_transversal, S_occipital_ant electrodes: []\n",
      "Subject D0117 significant G_cuneus, G_and_S_occipital_inf, G_occipital_middle, G_occipital_sup, G_oc-temp_lat-fusifor, G_oc-temp_med-Lingual, Pole_occipital, S_calcarine, S_oc_middle_and_Lunatus, S_oc_sup_and_transversal, S_occipital_ant electrodes: []\n",
      "Subject D0121 significant G_cuneus, G_and_S_occipital_inf, G_occipital_middle, G_occipital_sup, G_oc-temp_lat-fusifor, G_oc-temp_med-Lingual, Pole_occipital, S_calcarine, S_oc_middle_and_Lunatus, S_oc_sup_and_transversal, S_occipital_ant electrodes: []\n",
      "For subject D0057,  electrodes are: []\n",
      "For subject D0059,  electrodes are: []\n",
      "For subject D0063,  electrodes are: []\n",
      "For subject D0065,  electrodes are: []\n",
      "For subject D0069,  electrodes are: []\n",
      "For subject D0071,  electrodes are: []\n",
      "For subject D0077,  electrodes are: []\n",
      "For subject D0090,  electrodes are: []\n",
      "For subject D0094,  electrodes are: []\n",
      "For subject D0100,  electrodes are: []\n",
      "For subject D0102,  electrodes are: []\n",
      "For subject D0103,  electrodes are: []\n",
      "For subject D0107A,  electrodes are: []\n",
      "For subject D0110,  electrodes are: []\n",
      "For subject D0116,  electrodes are: []\n",
      "For subject D0117,  electrodes are: []\n",
      "For subject D0121,  electrodes are: []\n",
      "Subject D0057 significant  electrodes: []\n",
      "Subject D0059 significant  electrodes: []\n",
      "Subject D0063 significant  electrodes: []\n",
      "Subject D0065 significant  electrodes: []\n",
      "Subject D0069 significant  electrodes: []\n",
      "Subject D0071 significant  electrodes: []\n",
      "Subject D0077 significant  electrodes: []\n",
      "Subject D0090 significant  electrodes: []\n",
      "Subject D0094 significant  electrodes: []\n",
      "Subject D0100 significant  electrodes: []\n",
      "Subject D0102 significant  electrodes: []\n",
      "Subject D0103 significant  electrodes: []\n",
      "Subject D0107A significant  electrodes: []\n",
      "Subject D0110 significant  electrodes: []\n",
      "Subject D0116 significant  electrodes: []\n",
      "Subject D0117 significant  electrodes: []\n",
      "Subject D0121 significant  electrodes: []\n",
      "For subject D0057,  electrodes are: []\n",
      "For subject D0059,  electrodes are: []\n",
      "For subject D0063,  electrodes are: []\n",
      "For subject D0065,  electrodes are: []\n",
      "For subject D0069,  electrodes are: []\n",
      "For subject D0071,  electrodes are: []\n",
      "For subject D0077,  electrodes are: []\n",
      "For subject D0090,  electrodes are: []\n",
      "For subject D0094,  electrodes are: []\n",
      "For subject D0100,  electrodes are: []\n",
      "For subject D0102,  electrodes are: []\n",
      "For subject D0103,  electrodes are: []\n",
      "For subject D0107A,  electrodes are: []\n",
      "For subject D0110,  electrodes are: []\n",
      "For subject D0116,  electrodes are: []\n",
      "For subject D0117,  electrodes are: []\n",
      "For subject D0121,  electrodes are: []\n",
      "Subject D0057 significant  electrodes: []\n",
      "Subject D0059 significant  electrodes: []\n",
      "Subject D0063 significant  electrodes: []\n",
      "Subject D0065 significant  electrodes: []\n",
      "Subject D0069 significant  electrodes: []\n",
      "Subject D0071 significant  electrodes: []\n",
      "Subject D0077 significant  electrodes: []\n",
      "Subject D0090 significant  electrodes: []\n",
      "Subject D0094 significant  electrodes: []\n",
      "Subject D0100 significant  electrodes: []\n",
      "Subject D0102 significant  electrodes: []\n",
      "Subject D0103 significant  electrodes: []\n",
      "Subject D0107A significant  electrodes: []\n",
      "Subject D0110 significant  electrodes: []\n",
      "Subject D0116 significant  electrodes: []\n",
      "Subject D0117 significant  electrodes: []\n",
      "Subject D0121 significant  electrodes: []\n"
     ]
    }
   ],
   "source": [
    "# Define your ROIs dictionary and other parameters\n",
    "rois_dict = {\n",
    "    'lpfc': [\"G_front_inf-Opercular\", \"G_front_inf-Orbital\", \"G_front_inf-Triangul\", \"G_front_middle\", \"G_front_sup\", \"Lat_Fis-ant-Horizont\", \"Lat_Fis-ant-Vertical\", \"S_circular_insula_ant\", \"S_circular_insula_sup\", \"S_front_inf\", \"S_front_middle\", \"S_front_sup\"],\n",
    "    'v1': [\"G_oc-temp_med-Lingual\", \"S_calcarine\", \"G_cuneus\"],\n",
    "    'occ': [\"G_cuneus\", \"G_and_S_occipital_inf\", \"G_occipital_middle\", \"G_occipital_sup\", \"G_oc-temp_lat-fusifor\", \"G_oc-temp_med-Lingual\", \"Pole_occipital\", \"S_calcarine\", \"S_oc_middle_and_Lunatus\", \"S_oc_sup_and_transversal\", \"S_occipital_ant\"],\n",
    "    'occ_filtered': [],\n",
    "    'occ_best_filtered': []\n",
    "}\n",
    "\n",
    "rois = list(rois_dict.keys())\n",
    "# Assuming you have subjects_electrodestoROIs_dict and sig_chans_per_subject dictionaries\n",
    "all_electrodes_per_subject_roi, sig_electrodes_per_subject_roi, = make_sig_electrodes_per_subject_and_roi_dict(\n",
    "    rois_dict, subjects_electrodestoROIs_dict, sig_chans_per_subject\n",
    ")"
   ]
  },
  {
   "cell_type": "markdown",
   "metadata": {},
   "source": [
    "let's manually make the occ filtered sig electrodes"
   ]
  },
  {
   "cell_type": "code",
   "execution_count": 9,
   "metadata": {},
   "outputs": [],
   "source": [
    "sig_electrodes_per_subject_roi['occ_filtered'] = {\n",
    "    'D0057': [],\n",
    "    'D0059': [],\n",
    "    'D0071': ['RO1', 'RO10'], #RO10 is iffy, big drop from fix onset\n",
    "    'D0077': ['ROPM1', 'ROPM8'],\n",
    "    'D0090': ['RTPO1', 'RTPI1'],\n",
    "    'D0100': ['LOAI12', 'LOAI13', 'LOAI14', 'LOAI15', 'LOMI9', 'LOMI11', 'LOPI8', 'LOPI9', 'LOPM8', 'LOPM9', 'LPPI7', 'LPPI8', 'LPPI9'],\n",
    "    'D0102': ['RTPI1'],\n",
    "    'D0103': ['LTPI2', 'LTPI3', 'LTPI4']\n",
    "}\n",
    "\n",
    "all_electrodes_per_subject_roi['occ_filtered'] = {\n",
    "    'D0057': [],\n",
    "    'D0059': [],\n",
    "    'D0071': ['RO1', 'RO10'], #RO10 is iffy, big drop from fix onset\n",
    "    'D0077': ['ROPM1', 'ROPM8'],\n",
    "    'D0090': ['RTPO1', 'RTPI1'],\n",
    "    'D0100': ['LOAI12', 'LOAI13', 'LOAI14', 'LOAI15', 'LOMI9', 'LOMI11', 'LOPI8', 'LOPI9', 'LOPM8', 'LOPM9', 'LPPI7', 'LPPI8', 'LPPI9'],\n",
    "    'D0102': ['RTPI1'],\n",
    "    'D0103': ['LTPI2', 'LTPI3', 'LTPI4']\n",
    "}"
   ]
  },
  {
   "cell_type": "markdown",
   "metadata": {},
   "source": [
    "and now make the best of the best"
   ]
  },
  {
   "cell_type": "code",
   "execution_count": 10,
   "metadata": {},
   "outputs": [],
   "source": [
    "sig_electrodes_per_subject_roi['occ_best_filtered'] = {\n",
    "    'D0057': [],\n",
    "    'D0059': [],\n",
    "    'D0071': [],\n",
    "    'D0077': [],\n",
    "    'D0090': [],\n",
    "    'D0100': ['LOAI12', 'LOMI9', 'LOPI8', 'LOPI9', 'LOPM8', 'LOPM9'],\n",
    "    'D0102': ['RTPI1'],\n",
    "    'D0103': ['LTPI2', 'LTPI3', 'LTPI4']\n",
    "}\n",
    "\n",
    "all_electrodes_per_subject_roi['occ_best_filtered'] = {\n",
    "    'D0057': [],\n",
    "    'D0059': [],\n",
    "    'D0071': [],\n",
    "    'D0077': [],\n",
    "    'D0090': [],\n",
    "    'D0100': ['LOAI12', 'LOMI9', 'LOPI8', 'LOPI9', 'LOPM8', 'LOPM9'],\n",
    "    'D0102': ['RTPI1'],\n",
    "    'D0103': ['LTPI2', 'LTPI3', 'LTPI4']\n",
    "}"
   ]
  },
  {
   "cell_type": "code",
   "execution_count": 11,
   "metadata": {},
   "outputs": [
    {
     "name": "stdout",
     "output_type": "stream",
     "text": [
      "Dictionary saved to sig_electrodes_per_subject_roi.json\n"
     ]
    }
   ],
   "source": [
    "# Specify the file path where you want to save the dictionary\n",
    "save_path = 'sig_electrodes_per_subject_roi.json'\n",
    "\n",
    "# Use json to save the dictionary\n",
    "with open(save_path, 'w') as file:\n",
    "    json.dump(sig_electrodes_per_subject_roi, file, indent=4)\n",
    "\n",
    "print(f\"Dictionary saved to {save_path}\")"
   ]
  },
  {
   "cell_type": "markdown",
   "metadata": {},
   "source": [
    "get electrode counts for each roi"
   ]
  },
  {
   "cell_type": "code",
   "execution_count": 12,
   "metadata": {},
   "outputs": [
    {
     "name": "stdout",
     "output_type": "stream",
     "text": [
      "Total number of lpfc electrodes across all subjects: 265\n",
      "Total number of significant lpfc electrodes across all subjects: 44\n",
      "Total number of v1 electrodes across all subjects: 18\n",
      "Total number of significant v1 electrodes across all subjects: 6\n",
      "Total number of occ electrodes across all subjects: 73\n",
      "Total number of significant occ electrodes across all subjects: 18\n",
      "Total number of occ_filtered electrodes across all subjects: 23\n",
      "Total number of significant occ_filtered electrodes across all subjects: 23\n",
      "Total number of occ_best_filtered electrodes across all subjects: 10\n",
      "Total number of significant occ_best_filtered electrodes across all subjects: 10\n"
     ]
    }
   ],
   "source": [
    "total_electrodes_info = calculate_total_electrodes(sig_electrodes_per_subject_roi, all_electrodes_per_subject_roi)\n",
    "for roi, counts in total_electrodes_info.items():\n",
    "    print(f\"Total number of {roi} electrodes across all subjects:\", counts['total_electrodes'])\n",
    "    print(f\"Total number of significant {roi} electrodes across all subjects:\", counts['total_significant_electrodes'])\n"
   ]
  },
  {
   "cell_type": "markdown",
   "metadata": {},
   "source": [
    "check if any subjects have a weird sampling rate"
   ]
  },
  {
   "cell_type": "code",
   "execution_count": 13,
   "metadata": {},
   "outputs": [
    {
     "name": "stdout",
     "output_type": "stream",
     "text": [
      "Subject D0057 has the expected sampling rate: 256.0 Hz.\n",
      "Subject D0059 has the expected sampling rate: 256.0 Hz.\n",
      "Subject D0063 has the expected sampling rate: 256.0 Hz.\n",
      "Subject D0065 has the expected sampling rate: 256.0 Hz.\n",
      "Subject D0069 has the expected sampling rate: 256.0 Hz.\n",
      "Subject D0071 has the expected sampling rate: 256.0 Hz.\n",
      "Subject D0077 has the expected sampling rate: 256.0 Hz.\n",
      "Subject D0090 has the expected sampling rate: 256.0 Hz.\n",
      "Subject D0094 has the expected sampling rate: 256.0 Hz.\n",
      "Subject D0100 has the expected sampling rate: 256.0 Hz.\n",
      "Subject D0102 has the expected sampling rate: 256.0 Hz.\n",
      "Subject D0103 has the expected sampling rate: 256.0 Hz.\n",
      "Subject D0107A has the expected sampling rate: 256.0 Hz.\n",
      "Subject D0110 has the expected sampling rate: 256.0 Hz.\n",
      "Subject D0116 has the expected sampling rate: 256.0 Hz.\n",
      "Subject D0117 has the expected sampling rate: 256.0 Hz.\n",
      "Subject D0121 has the expected sampling rate: 256.0 Hz.\n"
     ]
    }
   ],
   "source": [
    "# Assuming 'subjects_mne_objects' is your dictionary containing MNE objects for each subject\n",
    "sampling_rate = 256\n",
    "subject_rates = check_sampling_rates(subjects_mne_objects, expected_sampling_rate=sampling_rate)\n"
   ]
  },
  {
   "cell_type": "markdown",
   "metadata": {},
   "source": [
    "make roi_labeled_arrays, a dict where the keys are rois and the values are LabeledArrays. Index the same way as a nested dict. Use .labels to get labels from current level.\n",
    "\n",
    "\n",
    "#### roi_labeled_arrays structure\n",
    "- **roi1**: ROI name, string\n",
    "  - **conditions**: condition name\n",
    "    - **trials**: This is the maximal number of trials across subjects for any condition, filled with nans for subjects who don't have this many trials\n",
    "      - **channels**: This is the number of channels in the roi, each channel is labeled as subject-channel name. Concatenated across subjects.\n",
    "        - **samples**: 1 sample as a float. This is the time for this sample.\n",
    "\n",
    "- **roi2**: ROI name, string\n",
    "  - **conditions**: condition name\n",
    "    - **trials**: This is the maximal number of trials across subjects for any condition, filled with nans for subjects who don't have this many trials\n",
    "      - **channels**: This is the number of channels in the roi, each channel is labeled as subject-channel name. Concatenated across subjects.\n",
    "        - **samples**: 1 sample as a float. This is the time for this sample.\n",
    "\n",
    "- **roiX**: ROI name, string\n",
    "  - **conditions**: condition name\n",
    "    - **trials**: This is the maximal number of trials across subjects for any condition, filled with nans for subjects who don't have this many trials\n",
    "      - **channels**: This is the number of channels in the roi, each channel is labeled as subject-channel name. Concatenated across subjects.\n",
    "        - **samples**: 1 sample as a float. This is the time for this sample.\n"
   ]
  },
  {
   "cell_type": "code",
   "execution_count": 14,
   "metadata": {},
   "outputs": [
    {
     "name": "stdout",
     "output_type": "stream",
     "text": [
      "ROI 'lpfc': Maximum trials per condition:\n",
      "  Condition 'Stimulus_c': 222 trials from subjects ['D0116']\n",
      "  Condition 'Stimulus_i': 219 trials from subjects ['D0110']\n",
      "in roi lpfc, subject D0057 has 198 trials for condition Stimulus_c\n",
      "in roi lpfc, subject D0057 has 207 trials for condition Stimulus_i\n",
      "Subject D0057, ROI lpfc, LabeledArray shape: (2, 222, 17, 641)\n",
      "in roi lpfc, subject D0059 has 216 trials for condition Stimulus_c\n",
      "in roi lpfc, subject D0059 has 211 trials for condition Stimulus_i\n",
      "Subject D0059, ROI lpfc, LabeledArray shape: (2, 222, 5, 641)\n",
      "in roi lpfc, subject D0063 has 221 trials for condition Stimulus_c\n",
      "in roi lpfc, subject D0063 has 168 trials for condition Stimulus_i\n",
      "Subject D0063, ROI lpfc, LabeledArray shape: (2, 222, 36, 641)\n",
      "in roi lpfc, subject D0065 has 177 trials for condition Stimulus_c\n",
      "in roi lpfc, subject D0065 has 139 trials for condition Stimulus_i\n",
      "Subject D0065, ROI lpfc, LabeledArray shape: (2, 222, 9, 641)\n",
      "in roi lpfc, subject D0069 has 177 trials for condition Stimulus_c\n",
      "in roi lpfc, subject D0069 has 153 trials for condition Stimulus_i\n",
      "Subject D0069, ROI lpfc, LabeledArray shape: (2, 222, 1, 641)\n",
      "in roi lpfc, subject D0071 has 213 trials for condition Stimulus_c\n",
      "in roi lpfc, subject D0071 has 216 trials for condition Stimulus_i\n",
      "Subject D0071, ROI lpfc, LabeledArray shape: (2, 222, 13, 641)\n",
      "in roi lpfc, subject D0090 has 214 trials for condition Stimulus_c\n",
      "in roi lpfc, subject D0090 has 213 trials for condition Stimulus_i\n",
      "Subject D0090, ROI lpfc, LabeledArray shape: (2, 222, 8, 641)\n",
      "in roi lpfc, subject D0094 has 209 trials for condition Stimulus_c\n",
      "in roi lpfc, subject D0094 has 169 trials for condition Stimulus_i\n",
      "Subject D0094, ROI lpfc, LabeledArray shape: (2, 222, 28, 641)\n",
      "in roi lpfc, subject D0102 has 193 trials for condition Stimulus_c\n",
      "in roi lpfc, subject D0102 has 106 trials for condition Stimulus_i\n",
      "Subject D0102, ROI lpfc, LabeledArray shape: (2, 222, 5, 641)\n",
      "in roi lpfc, subject D0103 has 200 trials for condition Stimulus_c\n",
      "in roi lpfc, subject D0103 has 159 trials for condition Stimulus_i\n",
      "Subject D0103, ROI lpfc, LabeledArray shape: (2, 222, 11, 641)\n",
      "in roi lpfc, subject D0107A has 213 trials for condition Stimulus_c\n",
      "in roi lpfc, subject D0107A has 181 trials for condition Stimulus_i\n",
      "Subject D0107A, ROI lpfc, LabeledArray shape: (2, 222, 25, 641)\n",
      "in roi lpfc, subject D0110 has 220 trials for condition Stimulus_c\n",
      "in roi lpfc, subject D0110 has 219 trials for condition Stimulus_i\n",
      "Subject D0110, ROI lpfc, LabeledArray shape: (2, 222, 5, 641)\n",
      "in roi lpfc, subject D0116 has 222 trials for condition Stimulus_c\n",
      "in roi lpfc, subject D0116 has 188 trials for condition Stimulus_i\n",
      "Subject D0116, ROI lpfc, LabeledArray shape: (2, 222, 30, 641)\n",
      "in roi lpfc, subject D0117 has 162 trials for condition Stimulus_c\n",
      "in roi lpfc, subject D0117 has 121 trials for condition Stimulus_i\n",
      "Subject D0117, ROI lpfc, LabeledArray shape: (2, 222, 11, 641)\n",
      "in roi lpfc, subject D0121 has 206 trials for condition Stimulus_c\n",
      "in roi lpfc, subject D0121 has 194 trials for condition Stimulus_i\n",
      "Subject D0121, ROI lpfc, LabeledArray shape: (2, 222, 61, 641)\n",
      "ROI 'v1': Maximum trials per condition:\n",
      "  Condition 'Stimulus_c': 217 trials from subjects ['D0100']\n",
      "  Condition 'Stimulus_i': 216 trials from subjects ['D0071']\n",
      "in roi v1, subject D0057 has 198 trials for condition Stimulus_c\n",
      "in roi v1, subject D0057 has 207 trials for condition Stimulus_i\n",
      "Subject D0057, ROI v1, LabeledArray shape: (2, 217, 1, 641)\n",
      "in roi v1, subject D0065 has 177 trials for condition Stimulus_c\n",
      "in roi v1, subject D0065 has 139 trials for condition Stimulus_i\n",
      "Subject D0065, ROI v1, LabeledArray shape: (2, 217, 1, 641)\n",
      "in roi v1, subject D0071 has 213 trials for condition Stimulus_c\n",
      "in roi v1, subject D0071 has 216 trials for condition Stimulus_i\n",
      "Subject D0071, ROI v1, LabeledArray shape: (2, 217, 3, 641)\n",
      "in roi v1, subject D0077 has 186 trials for condition Stimulus_c\n",
      "in roi v1, subject D0077 has 169 trials for condition Stimulus_i\n",
      "Subject D0077, ROI v1, LabeledArray shape: (2, 217, 1, 641)\n",
      "in roi v1, subject D0100 has 217 trials for condition Stimulus_c\n",
      "in roi v1, subject D0100 has 204 trials for condition Stimulus_i\n",
      "Subject D0100, ROI v1, LabeledArray shape: (2, 217, 12, 641)\n",
      "ROI 'occ': Maximum trials per condition:\n",
      "  Condition 'Stimulus_c': 221 trials from subjects ['D0063']\n",
      "  Condition 'Stimulus_i': 216 trials from subjects ['D0071']\n",
      "in roi occ, subject D0057 has 198 trials for condition Stimulus_c\n",
      "in roi occ, subject D0057 has 207 trials for condition Stimulus_i\n",
      "Subject D0057, ROI occ, LabeledArray shape: (2, 221, 1, 641)\n",
      "in roi occ, subject D0059 has 216 trials for condition Stimulus_c\n",
      "in roi occ, subject D0059 has 211 trials for condition Stimulus_i\n",
      "Subject D0059, ROI occ, LabeledArray shape: (2, 221, 1, 641)\n",
      "in roi occ, subject D0063 has 221 trials for condition Stimulus_c\n",
      "in roi occ, subject D0063 has 168 trials for condition Stimulus_i\n",
      "Subject D0063, ROI occ, LabeledArray shape: (2, 221, 2, 641)\n",
      "in roi occ, subject D0065 has 177 trials for condition Stimulus_c\n",
      "in roi occ, subject D0065 has 139 trials for condition Stimulus_i\n",
      "Subject D0065, ROI occ, LabeledArray shape: (2, 221, 3, 641)\n",
      "in roi occ, subject D0071 has 213 trials for condition Stimulus_c\n",
      "in roi occ, subject D0071 has 216 trials for condition Stimulus_i\n",
      "Subject D0071, ROI occ, LabeledArray shape: (2, 221, 4, 641)\n",
      "in roi occ, subject D0077 has 186 trials for condition Stimulus_c\n",
      "in roi occ, subject D0077 has 169 trials for condition Stimulus_i\n",
      "Subject D0077, ROI occ, LabeledArray shape: (2, 221, 9, 641)\n",
      "in roi occ, subject D0090 has 214 trials for condition Stimulus_c\n",
      "in roi occ, subject D0090 has 213 trials for condition Stimulus_i\n",
      "Subject D0090, ROI occ, LabeledArray shape: (2, 221, 3, 641)\n",
      "in roi occ, subject D0100 has 217 trials for condition Stimulus_c\n",
      "in roi occ, subject D0100 has 204 trials for condition Stimulus_i\n",
      "Subject D0100, ROI occ, LabeledArray shape: (2, 221, 43, 641)\n",
      "in roi occ, subject D0102 has 193 trials for condition Stimulus_c\n",
      "in roi occ, subject D0102 has 106 trials for condition Stimulus_i\n",
      "Subject D0102, ROI occ, LabeledArray shape: (2, 221, 2, 641)\n",
      "in roi occ, subject D0103 has 200 trials for condition Stimulus_c\n",
      "in roi occ, subject D0103 has 159 trials for condition Stimulus_i\n",
      "Subject D0103, ROI occ, LabeledArray shape: (2, 221, 4, 641)\n",
      "in roi occ, subject D0107A has 213 trials for condition Stimulus_c\n",
      "in roi occ, subject D0107A has 181 trials for condition Stimulus_i\n",
      "Subject D0107A, ROI occ, LabeledArray shape: (2, 221, 1, 641)\n",
      "ROI 'occ_filtered': Maximum trials per condition:\n",
      "  Condition 'Stimulus_c': 217 trials from subjects ['D0100']\n",
      "  Condition 'Stimulus_i': 216 trials from subjects ['D0071']\n",
      "in roi occ_filtered, subject D0071 has 213 trials for condition Stimulus_c\n",
      "in roi occ_filtered, subject D0071 has 216 trials for condition Stimulus_i\n",
      "Subject D0071, ROI occ_filtered, LabeledArray shape: (2, 217, 2, 641)\n",
      "in roi occ_filtered, subject D0077 has 186 trials for condition Stimulus_c\n",
      "in roi occ_filtered, subject D0077 has 169 trials for condition Stimulus_i\n",
      "Subject D0077, ROI occ_filtered, LabeledArray shape: (2, 217, 2, 641)\n",
      "in roi occ_filtered, subject D0090 has 214 trials for condition Stimulus_c\n",
      "in roi occ_filtered, subject D0090 has 213 trials for condition Stimulus_i\n",
      "Subject D0090, ROI occ_filtered, LabeledArray shape: (2, 217, 2, 641)\n",
      "in roi occ_filtered, subject D0100 has 217 trials for condition Stimulus_c\n",
      "in roi occ_filtered, subject D0100 has 204 trials for condition Stimulus_i\n",
      "Subject D0100, ROI occ_filtered, LabeledArray shape: (2, 217, 13, 641)\n",
      "in roi occ_filtered, subject D0102 has 193 trials for condition Stimulus_c\n",
      "in roi occ_filtered, subject D0102 has 106 trials for condition Stimulus_i\n",
      "Subject D0102, ROI occ_filtered, LabeledArray shape: (2, 217, 1, 641)\n",
      "in roi occ_filtered, subject D0103 has 200 trials for condition Stimulus_c\n",
      "in roi occ_filtered, subject D0103 has 159 trials for condition Stimulus_i\n",
      "Subject D0103, ROI occ_filtered, LabeledArray shape: (2, 217, 3, 641)\n",
      "ROI 'occ_best_filtered': Maximum trials per condition:\n",
      "  Condition 'Stimulus_c': 217 trials from subjects ['D0100']\n",
      "  Condition 'Stimulus_i': 204 trials from subjects ['D0100']\n",
      "in roi occ_best_filtered, subject D0100 has 217 trials for condition Stimulus_c\n",
      "in roi occ_best_filtered, subject D0100 has 204 trials for condition Stimulus_i\n",
      "Subject D0100, ROI occ_best_filtered, LabeledArray shape: (2, 217, 6, 641)\n",
      "in roi occ_best_filtered, subject D0102 has 193 trials for condition Stimulus_c\n",
      "in roi occ_best_filtered, subject D0102 has 106 trials for condition Stimulus_i\n",
      "Subject D0102, ROI occ_best_filtered, LabeledArray shape: (2, 217, 1, 641)\n",
      "in roi occ_best_filtered, subject D0103 has 200 trials for condition Stimulus_c\n",
      "in roi occ_best_filtered, subject D0103 has 159 trials for condition Stimulus_i\n",
      "Subject D0103, ROI occ_best_filtered, LabeledArray shape: (2, 217, 3, 641)\n"
     ]
    }
   ],
   "source": [
    "# Example usage:\n",
    "\n",
    "# choose whether to use sig elecs or all elecs\n",
    "electrodes = all_electrodes_per_subject_roi # toggle this to sig_electrodes_per_subject_roi if just using sig elecs, or electrodes_per_subject_roi if using all elecs\n",
    "\n",
    "if electrodes == all_electrodes_per_subject_roi:\n",
    "    elec_string_to_add_to_filename = 'all_elecs'\n",
    "elif electrodes == sig_electrodes_per_subject_roi:\n",
    "    elec_string_to_add_to_filename = 'sig_elecs'\n",
    "else:\n",
    "    elec_string_to_add_to_filename = None\n",
    "\n",
    "roi_labeled_arrays = put_data_in_labeled_array_per_roi_subject(\n",
    "    subjects_mne_objects,\n",
    "    condition_names,\n",
    "    rois,\n",
    "    subjects,\n",
    "    electrodes, \n",
    "    obs_axs=0,  # Trials dimension (ignoring the conditions dimension for now cuz we iterate over it)\n",
    "    chans_axs=1,  # Channels dimension\n",
    "    time_axs=2,   # Time dimension\n",
    "    random_state=42  # For reproducibility\n",
    ")"
   ]
  },
  {
   "cell_type": "markdown",
   "metadata": {},
   "source": [
    "remove trials with nans from roi labeled arrays if just getting the minimum number of trials for all subjects"
   ]
  },
  {
   "cell_type": "code",
   "execution_count": 15,
   "metadata": {},
   "outputs": [],
   "source": [
    "roi_labeled_arrays_no_nans, conditions_with_no_valid_trials_per_roi = remove_nans_from_all_roi_labeled_arrays(roi_labeled_arrays, obs_axs=0, chans_axs=1, time_axs=2)"
   ]
  },
  {
   "cell_type": "markdown",
   "metadata": {},
   "source": [
    "set up decoding output directory and conditions to compare 9/12"
   ]
  },
  {
   "cell_type": "code",
   "execution_count": 16,
   "metadata": {},
   "outputs": [
    {
     "name": "stdout",
     "output_type": "stream",
     "text": [
      "Save directory created or already exists at: C:\\Users\\jz421\\Box\\CoganLab\\BIDS-1.1_GlobalLocal\\BIDS\\derivatives\\decoding\\figs\\Stimulus_0.5sec_within1sec_randoffset_preStimulusBase_decFactor_8_outliers_10_passband_70.0-150.0_padLength_0.5s_stat_func_ttest_ind_equal_var_False\n"
     ]
    }
   ],
   "source": [
    "# Determine LAB_root based on the operating system\n",
    "HOME = os.path.expanduser(\"~\")\n",
    "LAB_root = os.path.join(HOME, \"Box\", \"CoganLab\") if os.name == 'nt' else os.path.join(HOME, \"Library\", \"CloudStorage\", \"Box-Box\", \"CoganLab\")\n",
    "save_dir = os.path.join(LAB_root, 'BIDS-1.1_GlobalLocal', 'BIDS', 'derivatives', 'decoding', 'figs', f\"{epochs_root_file}\")\n",
    "os.makedirs(save_dir, exist_ok=True)\n",
    "\n",
    "print(f\"Save directory created or already exists at: {save_dir}\")\n",
    "\n",
    "condition_comparisons = {}\n",
    "\n",
    "if conditions == experiment_conditions.stimulus_experiment_conditions:\n",
    "    condition_comparisons['congruency'] = [['c25', 'c75'], ['i25', 'i75']]\n",
    "    condition_comparisons['switchType'] = [['r25', 'r75'], ['s25', 's75']]\n",
    "    \n",
    "elif conditions == experiment_conditions.stimulus_conditions:\n",
    "    condition_comparisons['BigLetter'] = ['bigS', 'bigH']\n",
    "    condition_comparisons['SmallLetter'] = ['smallS', 'smallH']\n",
    "    condition_comparisons['Task'] = ['taskG', 'taskL']\n",
    "\n",
    "elif conditions == experiment_conditions.stimulus_big_letter_conditions:\n",
    "    condition_comparisons['BigLetter'] = ['bigS', 'bigH']\n",
    "elif conditions == experiment_conditions.stimulus_small_letter_conditions:\n",
    "    condition_comparisons['SmallLetter'] = ['smallS', 'smallH']\n",
    "elif conditions == experiment_conditions.stimulus_task_conditions:\n",
    "    condition_comparisons['task'] = ['taskG', 'taskL']\n",
    "\n",
    "elif conditions == experiment_conditions.stimulus_congruency_conditions:\n",
    "    condition_comparisons['congruency'] = [['Stimulus_c'], ['Stimulus_i']]\n",
    "elif conditions == experiment_conditions.stimulus_switch_type_conditions:\n",
    "    condition_comparisons['switchType'] = [['Stimulus_r'], ['Stimulus_s']]"
   ]
  },
  {
   "cell_type": "code",
   "execution_count": 17,
   "metadata": {},
   "outputs": [
    {
     "name": "stdout",
     "output_type": "stream",
     "text": [
      "Processing ROI: lpfc\n",
      "\n",
      "============================================================\n",
      "ROI: lpfc\n",
      "============================================================\n",
      "Initial concatenated data shape: (132, 265, 641)\n",
      "  Trials: 132\n",
      "  Channels: 265\n",
      "  Time points: 641\n",
      "\n",
      "--- Detailed NaN Analysis ---\n",
      "\n",
      "Missing Channels (all NaN across all trials): 0/265\n",
      "\n",
      "Trial-level NaN Statistics:\n",
      "  Trials with ANY NaN: 30/132 (22.7%)\n",
      "  Trials with outlier NaNs (sparse): 0/132 (0.0%)\n",
      "  Trials with missing channel NaNs (dense): 30/132 (22.7%)\n",
      "  Trials with both types: 0/132 (0.0%)\n",
      "\n",
      "Missing Channel Statistics (for affected trials):\n",
      "  Mean missing channels per affected trial: 265.0\n",
      "  Max missing channels in a trial: 265\n",
      "\n",
      "Overall NaN Percentage: 22.73%\n",
      "\n",
      "--- NaN Impact by Condition ---\n",
      "  ['Stimulus_c']: 0/66 trials with NaNs (0.0%)\n",
      "  ['Stimulus_i']: 30/66 trials with NaNs (45.5%)\n",
      "\n",
      "After removing NaN trials:\n",
      "  Trials kept: 102/132 (77.3%)\n",
      "  New data shape: (102, 265, 641)\n",
      "\n",
      "--- Final Trial Counts by Condition ---\n",
      "  Condition ['Stimulus_c']: 66 trials\n",
      "  Condition ['Stimulus_i']: 36 trials\n",
      "\n",
      "Subsampling to min trial count: 36\n",
      "  Subsampled condition 0: 66 -> 36\n",
      "\n",
      "Final balanced data shape: (72, 265, 641)\n",
      "============================================================\n",
      "\n",
      "Processing ROI: v1\n",
      "\n",
      "============================================================\n",
      "ROI: v1\n",
      "============================================================\n",
      "Initial concatenated data shape: (294, 18, 641)\n",
      "  Trials: 294\n",
      "  Channels: 18\n",
      "  Time points: 641\n",
      "\n",
      "--- Detailed NaN Analysis ---\n",
      "\n",
      "Missing Channels (all NaN across all trials): 0/18\n",
      "\n",
      "Trial-level NaN Statistics:\n",
      "  Trials with ANY NaN: 24/294 (8.2%)\n",
      "  Trials with outlier NaNs (sparse): 0/294 (0.0%)\n",
      "  Trials with missing channel NaNs (dense): 24/294 (8.2%)\n",
      "  Trials with both types: 0/294 (0.0%)\n",
      "\n",
      "Missing Channel Statistics (for affected trials):\n",
      "  Mean missing channels per affected trial: 18.0\n",
      "  Max missing channels in a trial: 18\n",
      "\n",
      "Overall NaN Percentage: 8.16%\n",
      "\n",
      "--- NaN Impact by Condition ---\n",
      "  ['Stimulus_c']: 0/147 trials with NaNs (0.0%)\n",
      "  ['Stimulus_i']: 24/147 trials with NaNs (16.3%)\n",
      "\n",
      "After removing NaN trials:\n",
      "  Trials kept: 270/294 (91.8%)\n",
      "  New data shape: (270, 18, 641)\n",
      "\n",
      "--- Final Trial Counts by Condition ---\n",
      "  Condition ['Stimulus_c']: 147 trials\n",
      "  Condition ['Stimulus_i']: 123 trials\n",
      "\n",
      "Subsampling to min trial count: 123\n",
      "  Subsampled condition 0: 147 -> 123\n",
      "\n",
      "Final balanced data shape: (246, 18, 641)\n",
      "============================================================\n",
      "\n",
      "Processing ROI: occ\n",
      "\n",
      "============================================================\n",
      "ROI: occ\n",
      "============================================================\n",
      "Initial concatenated data shape: (240, 73, 641)\n",
      "  Trials: 240\n",
      "  Channels: 73\n",
      "  Time points: 641\n",
      "\n",
      "--- Detailed NaN Analysis ---\n",
      "\n",
      "Missing Channels (all NaN across all trials): 0/73\n",
      "\n",
      "Trial-level NaN Statistics:\n",
      "  Trials with ANY NaN: 38/240 (15.8%)\n",
      "  Trials with outlier NaNs (sparse): 0/240 (0.0%)\n",
      "  Trials with missing channel NaNs (dense): 38/240 (15.8%)\n",
      "  Trials with both types: 0/240 (0.0%)\n",
      "\n",
      "Missing Channel Statistics (for affected trials):\n",
      "  Mean missing channels per affected trial: 73.0\n",
      "  Max missing channels in a trial: 73\n",
      "\n",
      "Overall NaN Percentage: 15.83%\n",
      "\n",
      "--- NaN Impact by Condition ---\n",
      "  ['Stimulus_c']: 0/120 trials with NaNs (0.0%)\n",
      "  ['Stimulus_i']: 38/120 trials with NaNs (31.7%)\n",
      "\n",
      "After removing NaN trials:\n",
      "  Trials kept: 202/240 (84.2%)\n",
      "  New data shape: (202, 73, 641)\n",
      "\n",
      "--- Final Trial Counts by Condition ---\n",
      "  Condition ['Stimulus_c']: 120 trials\n",
      "  Condition ['Stimulus_i']: 82 trials\n",
      "\n",
      "Subsampling to min trial count: 82\n",
      "  Subsampled condition 0: 120 -> 82\n",
      "\n",
      "Final balanced data shape: (164, 73, 641)\n",
      "============================================================\n",
      "\n",
      "Processing ROI: occ_filtered\n",
      "\n",
      "============================================================\n",
      "ROI: occ_filtered\n",
      "============================================================\n",
      "Initial concatenated data shape: (332, 23, 641)\n",
      "  Trials: 332\n",
      "  Channels: 23\n",
      "  Time points: 641\n",
      "\n",
      "--- Detailed NaN Analysis ---\n",
      "\n",
      "Missing Channels (all NaN across all trials): 0/23\n",
      "\n",
      "Trial-level NaN Statistics:\n",
      "  Trials with ANY NaN: 67/332 (20.2%)\n",
      "  Trials with outlier NaNs (sparse): 0/332 (0.0%)\n",
      "  Trials with missing channel NaNs (dense): 67/332 (20.2%)\n",
      "  Trials with both types: 0/332 (0.0%)\n",
      "\n",
      "Missing Channel Statistics (for affected trials):\n",
      "  Mean missing channels per affected trial: 23.0\n",
      "  Max missing channels in a trial: 23\n",
      "\n",
      "Overall NaN Percentage: 20.18%\n",
      "\n",
      "--- NaN Impact by Condition ---\n",
      "  ['Stimulus_c']: 0/166 trials with NaNs (0.0%)\n",
      "  ['Stimulus_i']: 67/166 trials with NaNs (40.4%)\n",
      "\n",
      "After removing NaN trials:\n",
      "  Trials kept: 265/332 (79.8%)\n",
      "  New data shape: (265, 23, 641)\n",
      "\n",
      "--- Final Trial Counts by Condition ---\n",
      "  Condition ['Stimulus_c']: 166 trials\n",
      "  Condition ['Stimulus_i']: 99 trials\n",
      "\n",
      "Subsampling to min trial count: 99\n",
      "  Subsampled condition 0: 166 -> 99\n",
      "\n",
      "Final balanced data shape: (198, 23, 641)\n",
      "============================================================\n",
      "\n",
      "Processing ROI: occ_best_filtered\n",
      "\n",
      "============================================================\n",
      "ROI: occ_best_filtered\n",
      "============================================================\n",
      "Initial concatenated data shape: (376, 10, 641)\n",
      "  Trials: 376\n",
      "  Channels: 10\n",
      "  Time points: 641\n",
      "\n",
      "--- Detailed NaN Analysis ---\n",
      "\n",
      "Missing Channels (all NaN across all trials): 0/10\n",
      "\n",
      "Trial-level NaN Statistics:\n",
      "  Trials with ANY NaN: 84/376 (22.3%)\n",
      "  Trials with outlier NaNs (sparse): 0/376 (0.0%)\n",
      "  Trials with missing channel NaNs (dense): 84/376 (22.3%)\n",
      "  Trials with both types: 0/376 (0.0%)\n",
      "\n",
      "Missing Channel Statistics (for affected trials):\n",
      "  Mean missing channels per affected trial: 10.0\n",
      "  Max missing channels in a trial: 10\n",
      "\n",
      "Overall NaN Percentage: 22.34%\n",
      "\n",
      "--- NaN Impact by Condition ---\n",
      "  ['Stimulus_c']: 0/188 trials with NaNs (0.0%)\n",
      "  ['Stimulus_i']: 84/188 trials with NaNs (44.7%)\n",
      "\n",
      "After removing NaN trials:\n",
      "  Trials kept: 292/376 (77.7%)\n",
      "  New data shape: (292, 10, 641)\n",
      "\n",
      "--- Final Trial Counts by Condition ---\n",
      "  Condition ['Stimulus_c']: 188 trials\n",
      "  Condition ['Stimulus_i']: 104 trials\n",
      "\n",
      "Subsampling to min trial count: 104\n",
      "  Subsampled condition 0: 188 -> 104\n",
      "\n",
      "Final balanced data shape: (208, 10, 641)\n",
      "============================================================\n",
      "\n"
     ]
    }
   ],
   "source": [
    "# get the confusion matrix using the downsampled version\n",
    "\n",
    "# add elec and subject info to filename 6/11/25\n",
    "other_string_to_add = elec_string_to_add_to_filename + '_' + str(len(subjects)) + '_subjects'\n",
    "\n",
    "for condition_comparison, strings_to_find in condition_comparisons.items():\n",
    "    confusion_matrices = get_and_plot_confusion_matrix_for_rois_jim(\n",
    "        roi_labeled_arrays=roi_labeled_arrays_no_nans,\n",
    "        rois=rois,\n",
    "        condition_comparison=condition_comparison,\n",
    "        strings_to_find=strings_to_find,\n",
    "        save_dir=save_dir,\n",
    "        time_interval_name=None,\n",
    "        other_string_to_add=elec_string_to_add_to_filename,\n",
    "        n_splits=5,\n",
    "        n_repeats=10,\n",
    "        obs_axs=0,\n",
    "        balance_method='subsample',  # Use 'subsample' to balance by subsampling\n",
    "        explained_variance=explained_variance,\n",
    "        random_state=42  # For reproducibility\n",
    "    )"
   ]
  },
  {
   "cell_type": "code",
   "execution_count": null,
   "metadata": {},
   "outputs": [],
   "source": [
    "# get the confusion matrix using the version with nan trials and doing nan trial mixup\n",
    "for condition_comparison, strings_to_find in condition_comparisons.items():\n",
    "    confusion_matrices = get_and_plot_confusion_matrix_for_rois_jim(\n",
    "        roi_labeled_arrays=roi_labeled_arrays,\n",
    "        rois=rois,\n",
    "        condition_comparison=condition_comparison,\n",
    "        strings_to_find=strings_to_find,\n",
    "        save_dir=save_dir,\n",
    "        time_interval_name=None,\n",
    "        n_splits=5,\n",
    "        n_repeats=10,\n",
    "        obs_axs=0,\n",
    "        balance_method='pad_with_nans',  # Use 'pad_with_nans' to balance by padding with nans,\n",
    "        explained_variance=explained_variance,\n",
    "        random_state=42  # For reproducibility\n",
    "    )\n"
   ]
  },
  {
   "cell_type": "markdown",
   "metadata": {},
   "source": [
    "prestimulus vs poststimulus confusion matrices 9/21"
   ]
  },
  {
   "cell_type": "code",
   "execution_count": null,
   "metadata": {},
   "outputs": [],
   "source": [
    "# # Define the time intervals of interest\n",
    "# pre_stimulus_interval = (-1.0, 0.0)  # Pre-stimulus: time -1 to 0 seconds\n",
    "# post_stimulus_interval = (0.0, 1.5)  # Post-stimulus: time 0 to 1.5 seconds\n",
    "# pre_stimulus_roi_labeled_arrays = {}\n",
    "# post_stimulus_roi_labeled_arrays = {}\n",
    "\n",
    "# for roi, labeled_array in roi_labeled_arrays.items():\n",
    "#     pre_stimulus_roi_labeled_arrays[roi] = get_data_in_time_range(labeled_array, pre_stimulus_interval)\n",
    "#     post_stimulus_roi_labeled_arrays[roi] = get_data_in_time_range(labeled_array, post_stimulus_interval)\n",
    "\n",
    "\n",
    "# pre_stimulus_confusion_matrices = get_and_plot_confusion_matrix_for_rois_jim(\n",
    "#     roi_labeled_arrays=pre_stimulus_roi_labeled_arrays,\n",
    "#     rois=rois,\n",
    "#     condition_comparison=condition_comparison,\n",
    "#     strings_to_find=strings_to_find,\n",
    "#     save_dir=save_dir,\n",
    "#     time_interval_name='pre_stimulus',  # If not dealing with specific time intervals\n",
    "#     n_splits=5,\n",
    "#     n_repeats=10,\n",
    "#     obs_axs=0,\n",
    "#     balance_method='subsample',  # Use 'subsample' to balance by subsampling\n",
    "#     random_state=42  # For reproducibility\n",
    "# )\n",
    "\n",
    "# post_stimulus_confusion_matrices = get_and_plot_confusion_matrix_for_rois_jim(\n",
    "#     roi_labeled_arrays=post_stimulus_roi_labeled_arrays,\n",
    "#     rois=rois,\n",
    "#     condition_comparison=condition_comparison,\n",
    "#     strings_to_find=strings_to_find,\n",
    "#     save_dir=save_dir,\n",
    "#     time_interval_name='post_stimulus',  # If not dealing with specific time intervals\n",
    "#     n_splits=5,\n",
    "#     n_repeats=10,\n",
    "#     obs_axs=0,\n",
    "#     balance_method='subsample',  # Use 'subsample' to balance by subsampling\n",
    "#     random_state=42  # For reproducibility\n",
    "# )"
   ]
  },
  {
   "cell_type": "markdown",
   "metadata": {},
   "source": [
    "define colors for plotting (not used yet as of 8/21)"
   ]
  },
  {
   "cell_type": "code",
   "execution_count": null,
   "metadata": {},
   "outputs": [],
   "source": [
    "# Define colors for the model names\n",
    "colors = {\n",
    "    'congruency': 'red',\n",
    "    'switchType': 'blue',\n",
    "    'congruencyProportion': 'pink',\n",
    "    'switchProportion': 'skyblue',\n",
    "    'congruency_congruencyProportion': 'hotpink',\n",
    "    'congruency_congruency_proportion': 'hotpink',\n",
    "    'switchType_switchProportion': 'gray',\n",
    "    'switch_type_switch_proportion': 'gray',\n",
    "    'bigLetter': 'green',\n",
    "    'big_letter': 'green',\n",
    "    'smallLetter': 'orange',\n",
    "    'small_letter': 'orange',\n",
    "    'task': 'gray',\n",
    "    'c75.0': 'pink',\n",
    "    'i75.0': 'pink',\n",
    "    'c25.0': 'gold',\n",
    "    'i25.0': 'gold',\n",
    "    'r25.0': 'lightblue',\n",
    "    's25.0': 'lightblue',\n",
    "    'r75.0': 'purple',\n",
    "    's75.0': 'purple'\n",
    "}\n",
    "\n",
    "# Define linestyles for the model names\n",
    "linestyles = {\n",
    "    'big letter S': '-',\n",
    "    'BigLetters': '-',\n",
    "\n",
    "    'big letter H': '--',\n",
    "    'BigLetterh': '--',\n",
    "\n",
    "    'small letter S': '-',\n",
    "    'SmallLetters': '-',\n",
    "\n",
    "    'small letter H': '--',\n",
    "    'SmallLetterh': '--',\n",
    "\n",
    "    'task G': '-',\n",
    "    'Taskg': '-',\n",
    "\n",
    "    'task L': '--',\n",
    "    'Taskl': '--',\n",
    "\n",
    "    'congruent': '-',\n",
    "    'c': '-',\n",
    "\n",
    "    'incongruent': '--',\n",
    "    'i': '--',\n",
    "\n",
    "    'repeat': '-',\n",
    "    'r': '-',\n",
    "\n",
    "    'switch': '--',\n",
    "    's': '--',\n",
    "\n",
    "    'c25.0': '-',\n",
    "    'c75.0': '-',\n",
    "    'i25.0': '--',\n",
    "    'i75.0': '--'\n",
    "}"
   ]
  },
  {
   "cell_type": "markdown",
   "metadata": {},
   "source": [
    "new attempt at time window sliding decoding with significance 11/23  "
   ]
  },
  {
   "cell_type": "markdown",
   "metadata": {},
   "source": [
    "actually do the time window decoding, run stats, and plot accuracies"
   ]
  },
  {
   "cell_type": "code",
   "execution_count": 18,
   "metadata": {},
   "outputs": [
    {
     "name": "stdout",
     "output_type": "stream",
     "text": [
      "Processing ROI: lpfc\n",
      "\n",
      "============================================================\n",
      "ROI: lpfc\n",
      "============================================================\n",
      "Initial concatenated data shape: (444, 265, 641)\n",
      "  Trials: 444\n",
      "  Channels: 265\n",
      "  Time points: 641\n",
      "\n",
      "--- Detailed NaN Analysis ---\n",
      "\n",
      "Missing Channels (all NaN across all trials): 0/265\n",
      "\n",
      "Trial-level NaN Statistics:\n",
      "  Trials with ANY NaN: 342/444 (77.0%)\n",
      "  Trials with outlier NaNs (sparse): 0/444 (0.0%)\n",
      "  Trials with missing channel NaNs (dense): 342/444 (77.0%)\n",
      "  Trials with both types: 0/444 (0.0%)\n",
      "\n",
      "Missing Channel Statistics (for affected trials):\n",
      "  Mean missing channels per affected trial: 44.9\n",
      "  Max missing channels in a trial: 265\n",
      "\n",
      "Overall NaN Percentage: 13.04%\n",
      "\n",
      "--- NaN Impact by Condition ---\n",
      "  ['Stimulus_c']: 156/222 trials with NaNs (70.3%)\n",
      "  ['Stimulus_i']: 186/222 trials with NaNs (83.8%)\n",
      "\n",
      "After removing NaN trials:\n",
      "  Trials kept: 102/444 (23.0%)\n",
      "  New data shape: (102, 265, 641)\n",
      "\n",
      "--- Final Trial Counts by Condition ---\n",
      "  Condition ['Stimulus_c']: 66 trials\n",
      "  Condition ['Stimulus_i']: 36 trials\n",
      "\n",
      "Subsampling to min trial count: 36\n",
      "  Subsampled condition 0: 66 -> 36\n",
      "\n",
      "Final balanced data shape: (72, 265, 641)\n",
      "============================================================\n",
      "\n",
      "start times are: [-256, -224, -192, -160, -128, -96, -64, -32, 0, 32, 64, 96, 128, 160, 192, 224, 256, 288, 320]\n",
      "Effective window size: 64\n",
      "Effective step size: 32\n",
      "Number of windows: 19\n",
      "time_window_centers are: [-0.875, -0.75, -0.625, -0.5, -0.375, -0.25, -0.125, 0.0, 0.125, 0.25, 0.375, 0.5, 0.625, 0.75, 0.875, 1.0, 1.125, 1.25, 1.375]\n",
      "Processing ROI: v1\n",
      "\n",
      "============================================================\n",
      "ROI: v1\n",
      "============================================================\n",
      "Initial concatenated data shape: (434, 18, 641)\n",
      "  Trials: 434\n",
      "  Channels: 18\n",
      "  Time points: 641\n",
      "\n",
      "--- Detailed NaN Analysis ---\n",
      "\n",
      "Missing Channels (all NaN across all trials): 0/18\n",
      "\n",
      "Trial-level NaN Statistics:\n",
      "  Trials with ANY NaN: 164/434 (37.8%)\n",
      "  Trials with outlier NaNs (sparse): 0/434 (0.0%)\n",
      "  Trials with missing channel NaNs (dense): 164/434 (37.8%)\n",
      "  Trials with both types: 0/434 (0.0%)\n",
      "\n",
      "Missing Channel Statistics (for affected trials):\n",
      "  Mean missing channels per affected trial: 2.9\n",
      "  Max missing channels in a trial: 18\n",
      "\n",
      "Overall NaN Percentage: 6.05%\n",
      "\n",
      "--- NaN Impact by Condition ---\n",
      "  ['Stimulus_c']: 70/217 trials with NaNs (32.3%)\n",
      "  ['Stimulus_i']: 94/217 trials with NaNs (43.3%)\n",
      "\n",
      "After removing NaN trials:\n",
      "  Trials kept: 270/434 (62.2%)\n",
      "  New data shape: (270, 18, 641)\n",
      "\n",
      "--- Final Trial Counts by Condition ---\n",
      "  Condition ['Stimulus_c']: 147 trials\n",
      "  Condition ['Stimulus_i']: 123 trials\n",
      "\n",
      "Subsampling to min trial count: 123\n",
      "  Subsampled condition 0: 147 -> 123\n",
      "\n",
      "Final balanced data shape: (246, 18, 641)\n",
      "============================================================\n",
      "\n",
      "start times are: [-256, -224, -192, -160, -128, -96, -64, -32, 0, 32, 64, 96, 128, 160, 192, 224, 256, 288, 320]\n",
      "Effective window size: 64\n",
      "Effective step size: 32\n",
      "Number of windows: 19\n",
      "time_window_centers are: [-0.875, -0.75, -0.625, -0.5, -0.375, -0.25, -0.125, 0.0, 0.125, 0.25, 0.375, 0.5, 0.625, 0.75, 0.875, 1.0, 1.125, 1.25, 1.375]\n",
      "Processing ROI: occ\n",
      "\n",
      "============================================================\n",
      "ROI: occ\n",
      "============================================================\n",
      "Initial concatenated data shape: (442, 73, 641)\n",
      "  Trials: 442\n",
      "  Channels: 73\n",
      "  Time points: 641\n",
      "\n",
      "--- Detailed NaN Analysis ---\n",
      "\n",
      "Missing Channels (all NaN across all trials): 0/73\n",
      "\n",
      "Trial-level NaN Statistics:\n",
      "  Trials with ANY NaN: 240/442 (54.3%)\n",
      "  Trials with outlier NaNs (sparse): 0/442 (0.0%)\n",
      "  Trials with missing channel NaNs (dense): 240/442 (54.3%)\n",
      "  Trials with both types: 0/442 (0.0%)\n",
      "\n",
      "Missing Channel Statistics (for affected trials):\n",
      "  Mean missing channels per affected trial: 13.5\n",
      "  Max missing channels in a trial: 73\n",
      "\n",
      "Overall NaN Percentage: 10.03%\n",
      "\n",
      "--- NaN Impact by Condition ---\n",
      "  ['Stimulus_c']: 101/221 trials with NaNs (45.7%)\n",
      "  ['Stimulus_i']: 139/221 trials with NaNs (62.9%)\n",
      "\n",
      "After removing NaN trials:\n",
      "  Trials kept: 202/442 (45.7%)\n",
      "  New data shape: (202, 73, 641)\n",
      "\n",
      "--- Final Trial Counts by Condition ---\n",
      "  Condition ['Stimulus_c']: 120 trials\n",
      "  Condition ['Stimulus_i']: 82 trials\n",
      "\n",
      "Subsampling to min trial count: 82\n",
      "  Subsampled condition 0: 120 -> 82\n",
      "\n",
      "Final balanced data shape: (164, 73, 641)\n",
      "============================================================\n",
      "\n",
      "start times are: [-256, -224, -192, -160, -128, -96, -64, -32, 0, 32, 64, 96, 128, 160, 192, 224, 256, 288, 320]\n",
      "Effective window size: 64\n",
      "Effective step size: 32\n",
      "Number of windows: 19\n",
      "time_window_centers are: [-0.875, -0.75, -0.625, -0.5, -0.375, -0.25, -0.125, 0.0, 0.125, 0.25, 0.375, 0.5, 0.625, 0.75, 0.875, 1.0, 1.125, 1.25, 1.375]\n",
      "Processing ROI: occ_filtered\n",
      "\n",
      "============================================================\n",
      "ROI: occ_filtered\n",
      "============================================================\n",
      "Initial concatenated data shape: (434, 23, 641)\n",
      "  Trials: 434\n",
      "  Channels: 23\n",
      "  Time points: 641\n",
      "\n",
      "--- Detailed NaN Analysis ---\n",
      "\n",
      "Missing Channels (all NaN across all trials): 0/23\n",
      "\n",
      "Trial-level NaN Statistics:\n",
      "  Trials with ANY NaN: 169/434 (38.9%)\n",
      "  Trials with outlier NaNs (sparse): 0/434 (0.0%)\n",
      "  Trials with missing channel NaNs (dense): 169/434 (38.9%)\n",
      "  Trials with both types: 0/434 (0.0%)\n",
      "\n",
      "Missing Channel Statistics (for affected trials):\n",
      "  Mean missing channels per affected trial: 4.6\n",
      "  Max missing channels in a trial: 23\n",
      "\n",
      "Overall NaN Percentage: 7.71%\n",
      "\n",
      "--- NaN Impact by Condition ---\n",
      "  ['Stimulus_c']: 51/217 trials with NaNs (23.5%)\n",
      "  ['Stimulus_i']: 118/217 trials with NaNs (54.4%)\n",
      "\n",
      "After removing NaN trials:\n",
      "  Trials kept: 265/434 (61.1%)\n",
      "  New data shape: (265, 23, 641)\n",
      "\n",
      "--- Final Trial Counts by Condition ---\n",
      "  Condition ['Stimulus_c']: 166 trials\n",
      "  Condition ['Stimulus_i']: 99 trials\n",
      "\n",
      "Subsampling to min trial count: 99\n",
      "  Subsampled condition 0: 166 -> 99\n",
      "\n",
      "Final balanced data shape: (198, 23, 641)\n",
      "============================================================\n",
      "\n",
      "start times are: [-256, -224, -192, -160, -128, -96, -64, -32, 0, 32, 64, 96, 128, 160, 192, 224, 256, 288, 320]\n",
      "Effective window size: 64\n",
      "Effective step size: 32\n",
      "Number of windows: 19\n",
      "time_window_centers are: [-0.875, -0.75, -0.625, -0.5, -0.375, -0.25, -0.125, 0.0, 0.125, 0.25, 0.375, 0.5, 0.625, 0.75, 0.875, 1.0, 1.125, 1.25, 1.375]\n",
      "Processing ROI: occ_best_filtered\n",
      "\n",
      "============================================================\n",
      "ROI: occ_best_filtered\n",
      "============================================================\n",
      "Initial concatenated data shape: (434, 10, 641)\n",
      "  Trials: 434\n",
      "  Channels: 10\n",
      "  Time points: 641\n",
      "\n",
      "--- Detailed NaN Analysis ---\n",
      "\n",
      "Missing Channels (all NaN across all trials): 0/10\n",
      "\n",
      "Trial-level NaN Statistics:\n",
      "  Trials with ANY NaN: 142/434 (32.7%)\n",
      "  Trials with outlier NaNs (sparse): 0/434 (0.0%)\n",
      "  Trials with missing channel NaNs (dense): 142/434 (32.7%)\n",
      "  Trials with both types: 0/434 (0.0%)\n",
      "\n",
      "Missing Channel Statistics (for affected trials):\n",
      "  Mean missing channels per affected trial: 3.2\n",
      "  Max missing channels in a trial: 10\n",
      "\n",
      "Overall NaN Percentage: 10.32%\n",
      "\n",
      "--- NaN Impact by Condition ---\n",
      "  ['Stimulus_c']: 29/217 trials with NaNs (13.4%)\n",
      "  ['Stimulus_i']: 113/217 trials with NaNs (52.1%)\n",
      "\n",
      "After removing NaN trials:\n",
      "  Trials kept: 292/434 (67.3%)\n",
      "  New data shape: (292, 10, 641)\n",
      "\n",
      "--- Final Trial Counts by Condition ---\n",
      "  Condition ['Stimulus_c']: 188 trials\n",
      "  Condition ['Stimulus_i']: 104 trials\n",
      "\n",
      "Subsampling to min trial count: 104\n",
      "  Subsampled condition 0: 188 -> 104\n",
      "\n",
      "Final balanced data shape: (208, 10, 641)\n",
      "============================================================\n",
      "\n",
      "start times are: [-256, -224, -192, -160, -128, -96, -64, -32, 0, 32, 64, 96, 128, 160, 192, 224, 256, 288, 320]\n",
      "Effective window size: 64\n",
      "Effective step size: 32\n",
      "Number of windows: 19\n",
      "time_window_centers are: [-0.875, -0.75, -0.625, -0.5, -0.375, -0.25, -0.125, 0.0, 0.125, 0.25, 0.375, 0.5, 0.625, 0.75, 0.875, 1.0, 1.125, 1.25, 1.375]\n",
      "[False False False False False False False False False False  True  True\n",
      "  True  True  True  True  True  True  True]\n"
     ]
    },
    {
     "ename": "NameError",
     "evalue": "name 'Union' is not defined",
     "output_type": "error",
     "traceback": [
      "\u001b[1;31m---------------------------------------------------------------------------\u001b[0m",
      "\u001b[1;31mNameError\u001b[0m                                 Traceback (most recent call last)",
      "Cell \u001b[1;32mIn[18], line 73\u001b[0m\n\u001b[0;32m     70\u001b[0m \u001b[38;5;28mprint\u001b[39m(significant_clusters)\n\u001b[0;32m     72\u001b[0m \u001b[38;5;66;03m# Plot accuracies\u001b[39;00m\n\u001b[1;32m---> 73\u001b[0m \u001b[43mplot_accuracies\u001b[49m\u001b[43m(\u001b[49m\n\u001b[0;32m     74\u001b[0m \u001b[43m    \u001b[49m\u001b[43mtime_points\u001b[49m\u001b[38;5;241;43m=\u001b[39;49m\u001b[43mtime_window_centers\u001b[49m\u001b[43m,\u001b[49m\n\u001b[0;32m     75\u001b[0m \u001b[43m    \u001b[49m\u001b[43maccuracies_true\u001b[49m\u001b[38;5;241;43m=\u001b[39;49m\u001b[43maccuracies_true\u001b[49m\u001b[43m,\u001b[49m\n\u001b[0;32m     76\u001b[0m \u001b[43m    \u001b[49m\u001b[43maccuracies_shuffle\u001b[49m\u001b[38;5;241;43m=\u001b[39;49m\u001b[43maccuracies_shuffle\u001b[49m\u001b[43m,\u001b[49m\n\u001b[0;32m     77\u001b[0m \u001b[43m    \u001b[49m\u001b[43msignificant_clusters\u001b[49m\u001b[38;5;241;43m=\u001b[39;49m\u001b[43msignificant_clusters\u001b[49m\u001b[43m,\u001b[49m\n\u001b[0;32m     78\u001b[0m \u001b[43m    \u001b[49m\u001b[43mwindow_size\u001b[49m\u001b[38;5;241;43m=\u001b[39;49m\u001b[43mwindow_size\u001b[49m\u001b[43m,\u001b[49m\n\u001b[0;32m     79\u001b[0m \u001b[43m    \u001b[49m\u001b[43mstep_size\u001b[49m\u001b[38;5;241;43m=\u001b[39;49m\u001b[43mstep_size\u001b[49m\u001b[43m,\u001b[49m\n\u001b[0;32m     80\u001b[0m \u001b[43m    \u001b[49m\u001b[43msampling_rate\u001b[49m\u001b[38;5;241;43m=\u001b[39;49m\u001b[43msampling_rate\u001b[49m\u001b[43m,\u001b[49m\n\u001b[0;32m     81\u001b[0m \u001b[43m    \u001b[49m\u001b[43mcondition_comparison\u001b[49m\u001b[38;5;241;43m=\u001b[39;49m\u001b[43mcondition_comparison\u001b[49m\u001b[43m,\u001b[49m\n\u001b[0;32m     82\u001b[0m \u001b[43m    \u001b[49m\u001b[43mroi\u001b[49m\u001b[38;5;241;43m=\u001b[39;49m\u001b[43mroi\u001b[49m\u001b[43m,\u001b[49m\n\u001b[0;32m     83\u001b[0m \u001b[43m    \u001b[49m\u001b[43msave_dir\u001b[49m\u001b[38;5;241;43m=\u001b[39;49m\u001b[43msave_dir\u001b[49m\n\u001b[0;32m     84\u001b[0m \u001b[43m\u001b[49m\u001b[43m)\u001b[49m\n",
      "File \u001b[1;32mc:\\Users\\jz421\\Desktop\\GlobalLocal\\src\\analysis\\decoding\\decoding.py:1297\u001b[0m, in \u001b[0;36mplot_accuracies\u001b[1;34m(time_points, accuracies_true, accuracies_shuffle, significant_clusters, window_size, step_size, sampling_rate, condition_comparison, roi, save_dir)\u001b[0m\n\u001b[0;32m   1294\u001b[0m window_duration \u001b[38;5;241m=\u001b[39m window_size \u001b[38;5;241m/\u001b[39m sampling_rate\n\u001b[0;32m   1296\u001b[0m \u001b[38;5;66;03m# Find contiguous significant clusters\u001b[39;00m\n\u001b[1;32m-> 1297\u001b[0m \u001b[38;5;28;01mdef\u001b[39;00m \u001b[38;5;21mfind_clusters\u001b[39m(significant_clusters: \u001b[43mUnion\u001b[49m[np\u001b[38;5;241m.\u001b[39mndarray, List[\u001b[38;5;28mbool\u001b[39m], Sequence[\u001b[38;5;28mbool\u001b[39m]]):\n\u001b[0;32m   1298\u001b[0m \u001b[38;5;250m    \u001b[39m\u001b[38;5;124;03m\"\"\"Helper to find start and end indices of contiguous True blocks.\"\"\"\u001b[39;00m\n\u001b[0;32m   1299\u001b[0m     clusters \u001b[38;5;241m=\u001b[39m []\n",
      "\u001b[1;31mNameError\u001b[0m: name 'Union' is not defined"
     ]
    }
   ],
   "source": [
    "# Main code\n",
    "\n",
    "# Directory to save confusion matrices\n",
    "cm_save_dir = os.path.join(save_dir, \"confusion_matrices\")\n",
    "os.makedirs(cm_save_dir, exist_ok=True)\n",
    "\n",
    "condition_comparison_confusion_matrices = {}\n",
    "n_splits=5\n",
    "n_repeats=10\n",
    "balance_method='subsample'\n",
    "random_state=42\n",
    "window_size=64\n",
    "step_size=32\n",
    "n_permutations=200\n",
    "\n",
    "for condition_comparison, strings_to_find in condition_comparisons.items():\n",
    "    # Get confusion matrices for each ROI\n",
    "    cm_true_per_roi, cm_shuffle_per_roi = get_confusion_matrices_for_rois_time_window_decoding_jim(\n",
    "        roi_labeled_arrays=roi_labeled_arrays,\n",
    "        rois=rois,\n",
    "        condition_comparison=condition_comparison,\n",
    "        strings_to_find=strings_to_find,\n",
    "        n_splits=n_splits,\n",
    "        n_repeats=n_repeats,\n",
    "        obs_axs=0,\n",
    "        time_axs=-1,\n",
    "        balance_method=balance_method,\n",
    "        explained_variance=explained_variance,\n",
    "        random_state=random_state,\n",
    "        window_size=window_size,\n",
    "        step_size=step_size,\n",
    "        n_permutations=n_permutations,\n",
    "        sampling_rate=sampling_rate,\n",
    "        first_time_point=-1\n",
    "    )\n",
    "\n",
    "    np.save(os.path.join(cm_save_dir, f'{condition_comparison}_{n_splits}_splits_{n_repeats}_repeats_{balance_method}_balance_method_{random_state}_random_state_{window_size}_window_size_{step_size}_step_size_{n_permutations}_permutations_{sampling_rate}_sampling_rate_cm_true_per_roi.npy'), cm_true_per_roi)\n",
    "    np.save(os.path.join(cm_save_dir, f'{condition_comparison}_{n_splits}_splits_{n_repeats}_repeats_{balance_method}_balance_method_{random_state}_random_state_{window_size}_window_size_{step_size}_step_size_{n_permutations}_permutations_{sampling_rate}_sampling_rate_cm_shuffle_per_roi.npy'), cm_shuffle_per_roi)\n",
    "\n",
    "    # Store the results in a dictionary\n",
    "    condition_comparison_confusion_matrices[condition_comparison] = {\n",
    "        'strings_to_find': strings_to_find,\n",
    "        'cm_true_per_roi': cm_true_per_roi,\n",
    "        'cm_shuffle_per_roi': cm_shuffle_per_roi\n",
    "    }\n",
    "\n",
    "    # Now compute accuracies and perform time permutation cluster test\n",
    "    for roi in rois:\n",
    "        cm_true = cm_true_per_roi[roi]['cm_true']\n",
    "        cm_shuffle = cm_shuffle_per_roi[roi]['cm_shuffle']\n",
    "        time_window_centers = cm_true_per_roi[roi]['time_window_centers']\n",
    "        window_size = cm_true_per_roi[roi]['window_size']\n",
    "        step_size = cm_true_per_roi[roi]['step_size']\n",
    "\n",
    "        # Compute accuracies\n",
    "        accuracies_true, accuracies_shuffle = compute_accuracies(cm_true, cm_shuffle)\n",
    "\n",
    "        # Perform time permutation cluster test\n",
    "        significant_clusters, p_values = perform_time_perm_cluster_test_for_accuracies(\n",
    "            accuracies_true, accuracies_shuffle, p_thresh=0.05, n_perm=100, seed=42\n",
    "        )\n",
    "\n",
    "        # Store significant clusters and p-values\n",
    "        cm_true_per_roi[roi]['significant_clusters'] = significant_clusters\n",
    "        cm_true_per_roi[roi]['p_values'] = p_values\n",
    "\n",
    "        # Optionally, store accuracies\n",
    "        cm_true_per_roi[roi]['accuracies_true'] = accuracies_true\n",
    "        cm_shuffle_per_roi[roi]['accuracies_shuffle'] = accuracies_shuffle\n",
    "        print(significant_clusters)\n",
    "\n",
    "        # Plot accuracies\n",
    "        plot_accuracies(\n",
    "            time_points=time_window_centers,\n",
    "            accuracies_true=accuracies_true,\n",
    "            accuracies_shuffle=accuracies_shuffle,\n",
    "            significant_clusters=significant_clusters,\n",
    "            window_size=window_size,\n",
    "            step_size=step_size,\n",
    "            sampling_rate=sampling_rate,\n",
    "            condition_comparison=condition_comparison,\n",
    "            roi=roi,\n",
    "            save_dir=save_dir\n",
    "        )"
   ]
  },
  {
   "cell_type": "code",
   "execution_count": null,
   "metadata": {},
   "outputs": [],
   "source": [
    "for condition_comparison in condition_comparison_confusion_matrices:\n",
    "    cm_true_per_roi = condition_comparison_confusion_matrices[condition_comparison]['cm_true_per_roi']\n",
    "    for roi in cm_true_per_roi:\n",
    "        significant_clusters = cm_true_per_roi[roi]['significant_clusters']\n",
    "        print(f'significant clusters for {condition_comparison} and {roi} are: {significant_clusters}')\n",
    "\n",
    "        p_values = cm_true_per_roi[roi]['p_values']\n",
    "        print(f'p values for {condition_comparison} and {roi} are: {p_values}')\n",
    "\n",
    "        accuracies_true = cm_true_per_roi[roi]['accuracies_true']\n",
    "        print(f'accuracies for {condition_comparison} and {roi} are: {accuracies_true}')\n",
    "\n",
    "        # Now you can use significant_clusters, p_values, and accuracies_true as needed"
   ]
  },
  {
   "cell_type": "markdown",
   "metadata": {},
   "source": [
    "testing code"
   ]
  }
 ],
 "metadata": {
  "kernelspec": {
   "display_name": "ieeg",
   "language": "python",
   "name": "python3"
  },
  "language_info": {
   "codemirror_mode": {
    "name": "ipython",
    "version": 3
   },
   "file_extension": ".py",
   "mimetype": "text/x-python",
   "name": "python",
   "nbconvert_exporter": "python",
   "pygments_lexer": "ipython3",
   "version": "3.11.7"
  }
 },
 "nbformat": 4,
 "nbformat_minor": 2
}
