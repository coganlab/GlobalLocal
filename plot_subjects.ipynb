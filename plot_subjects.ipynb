{
  "cells": [
    {
      "cell_type": "code",
      "execution_count": 44,
      "metadata": {
        "collapsed": false
      },
      "outputs": [],
      "source": [
        "import mne\n",
        "import os\n",
        "from ieeg.viz.mri import plot_subj, plot_subj_sig_and_nonsig, _plot_electrodes, subject_to_info, plot_on_average\n",
        "from ieeg.io import raw_from_layout, get_data\n",
        "from misc_functions import load_sig_chans, channel_names_to_indices\n",
        "import json\n",
        "import pyvista as pv\n",
        "pv.global_theme.allow_empty_mesh = True"
      ]
    },
    {
      "cell_type": "code",
      "execution_count": 45,
      "metadata": {},
      "outputs": [],
      "source": [
        "subjects = ['D0057', 'D0059', 'D0063', 'D0065', 'D0069', 'D0071', 'D0077', 'D0090', 'D0094', 'D0100', 'D0102', 'D0103']"
      ]
    },
    {
      "cell_type": "markdown",
      "metadata": {},
      "source": [
        "### plot single subject's significant electrodes"
      ]
    },
    {
      "cell_type": "code",
      "execution_count": null,
      "metadata": {},
      "outputs": [],
      "source": [
        "subj = \"D0100\"\n",
        "base_path = r'C:\\Users\\jz421\\Box\\CoganLab\\BIDS-1.1_GlobalLocal\\BIDS\\derivatives\\freqFilt\\figs'\n",
        "stim_filename = f'{base_path}\\\\{subj}\\\\sig_chans_{subj}_Stimulus_fixationCrossBase_1sec_mirror.json'\n",
        "stim_sig_chans = load_sig_chans(stim_filename)\n",
        "# resp_filename = f'{base_path}\\\\{subj}\\\\sig_chans_{subj}_Response_fixationCrossBase_1sec_mirror.json'\n",
        "# resp_sig_chans = load_sig_chans(stim_filename)\n",
        "\n",
        "\n",
        "subj_without_zeroes = \"D\" + subj[1:].lstrip('0')\n",
        "brain_fig = plot_subj(subj_without_zeroes, picks=stim_sig_chans, labels_every=1, hemi='both', title=f'{subj}_Stimulus', background='black', color=(1, 1, 0)) \n",
        "# plot_subj(subj_without_zeroes, picks=resp_sig_chans, labels_every=8, hemi='both', title=f'{subj}_Response', color=(1, 1, 0))\n",
        "\n",
        "# Specify the path and filename for the PNG file\n",
        "png_filepath = os.path.join(base_path, f\"{subj_without_zeroes}_sigStim.png\")\n",
        "\n",
        "# Save the figure\n",
        "brain_fig.save_image(png_filepath, 'png')"
      ]
    },
    {
      "cell_type": "code",
      "execution_count": null,
      "metadata": {},
      "outputs": [],
      "source": [
        "subj = \"D0063\"\n",
        "base_path = r'C:\\Users\\jz421\\Box\\CoganLab\\BIDS-1.1_GlobalLocal\\BIDS\\derivatives\\freqFilt\\figs'\n",
        "resp_filename = f'{base_path}\\\\{subj}\\\\sig_chans_{subj}_Response.json'\n",
        "stim_filename = f'{base_path}\\\\{subj}\\\\sig_chans_{subj}_Stimulus.json'\n",
        "congruent_filename = f'{base_path}\\\\{subj}\\\\sig_chans_{subj}_congruent.json'\n",
        "incongruent_filename = f'{base_path}\\\\{subj}\\\\sig_chans_{subj}_incongruent.json'\n",
        "repeat_filename = f'{base_path}\\\\{subj}\\\\sig_chans_{subj}_repeat.json'\n",
        "switch_filename = f'{base_path}\\\\{subj}\\\\sig_chans_{subj}_switch.json'\n",
        "\n",
        "resp_sig_chans = load_sig_chans(resp_filename)\n",
        "stim_sig_chans = load_sig_chans(stim_filename)\n",
        "congruent_sig_chans = load_sig_chans(congruent_filename)\n",
        "incongruent_sig_chans = load_sig_chans(incongruent_filename)\n",
        "repeat_sig_chans = load_sig_chans(repeat_filename)\n",
        "switch_sig_chans = load_sig_chans(switch_filename)\n",
        "\n",
        "\n",
        "subj_without_zeroes = \"D\" + subj[1:].lstrip('0')\n",
        "plot_subj(subj_without_zeroes, picks=stim_sig_chans, labels_every=8, hemi='both', title=f'{subj}_Stimulus', background='black', color=(1, 1, 0)) \n",
        "plot_subj(subj_without_zeroes, picks=resp_sig_chans, labels_every=8, hemi='both', title=f'{subj}_Response', background='black', color=(1, 1, 0))\n",
        "plot_subj(subj_without_zeroes, picks=congruent_sig_chans, labels_every=8, hemi='both', title=f'{subj}_Congruent', background='black', color=(1, 1, 0)) \n",
        "plot_subj(subj_without_zeroes, picks=incongruent_sig_chans, labels_every=8, hemi='both', title=f'{subj}_Incongruent', background='black', color=(1, 1, 0))\n",
        "plot_subj(subj_without_zeroes, picks=repeat_sig_chans, labels_every=8, hemi='both', title=f'{subj}_Repeat', background='black', color=(1, 1, 0)) \n",
        "plot_subj(subj_without_zeroes, picks=switch_sig_chans, labels_every=8, hemi='both', title=f'{subj}_Switch', background='black', color=(1, 1, 0))\n"
      ]
    },
    {
      "cell_type": "markdown",
      "metadata": {},
      "source": [
        "load in lpfc sig elecs"
      ]
    },
    {
      "cell_type": "code",
      "execution_count": 46,
      "metadata": {},
      "outputs": [
        {
          "name": "stdout",
          "output_type": "stream",
          "text": [
            "{'D0057': ['RAI6', 'RPI14'], 'D0059': ['LMMF9', 'LMMF11', 'LMMF12', 'LPSF16'], 'D0063': ['LMSF5', 'LPSF12', 'RAI4', 'RAI6', 'RAMF12', 'RMMF13', 'RMMF14', 'RMMF10'], 'D0065': ['RASF14'], 'D0069': [], 'D0071': ['RFO14', 'RIA4', 'RIP6', 'RIA5', 'RIA11', 'RIA12', 'RIA14', 'RIA16'], 'D0077': [], 'D0090': ['RIA6', 'RIA12'], 'D0094': ['LFAM8', 'LFAM9', 'LFAM10', 'LFPM10', 'LFPM12', 'LFAI5', 'LPAI9', 'LFAI9', 'LFAI10', 'LIA11'], 'D0100': [], 'D0102': ['RFO13', 'RFO14', 'RFAM15'], 'D0103': ['LFAM8', 'LFAM9', 'LAI13', 'LAI14', 'LAI4', 'LFAI4']}\n"
          ]
        }
      ],
      "source": [
        "# Specify the same filename\n",
        "LAB_root = None\n",
        "task = 'GlobalLocal'\n",
        "if LAB_root is None:\n",
        "    HOME = os.path.expanduser(\"~\")\n",
        "    if os.name == 'nt':  # windows\n",
        "        LAB_root = os.path.join(HOME, \"Box\", \"CoganLab\")\n",
        "    else:  # mac\n",
        "        LAB_root = os.path.join(HOME, \"Library\", \"CloudStorage\", \"Box-Box\",\n",
        "                                \"CoganLab\")\n",
        "\n",
        "layout = get_data(task, root=LAB_root)\n",
        "\n",
        "save_dir = os.path.join(layout.root, 'derivatives', 'freqFilt', 'figs')\n",
        "filename = os.path.join(save_dir, 'roi_dict_sig')\n",
        "\n",
        "# Read the dictionary from the file\n",
        "with open(filename, 'r') as f:\n",
        "    sig_electrodes_per_subject_roi_loaded = json.load(f)\n",
        "\n",
        "filename = os.path.join(save_dir, 'roi_dict_all')\n",
        "\n",
        "# Read the dictionary from the file\n",
        "with open(filename, 'r') as f:\n",
        "    all_electrodes_per_subject_roi_loaded = json.load(f)\n",
        "\n",
        "# Now you can use sig_electrodes_per_subject_roi_loaded as if it were the original dictionary\n",
        "print(sig_electrodes_per_subject_roi_loaded['lpfc'])"
      ]
    },
    {
      "cell_type": "markdown",
      "metadata": {},
      "source": [
        "turn the sig electrodes per subject roi loaded into a plottable format list"
      ]
    },
    {
      "cell_type": "code",
      "execution_count": 47,
      "metadata": {},
      "outputs": [
        {
          "name": "stdout",
          "output_type": "stream",
          "text": [
            "['D0057-RAI6', 'D0057-RPI14', 'D0059-LMMF9', 'D0059-LMMF11', 'D0059-LMMF12', 'D0059-LPSF16', 'D0063-LMSF5', 'D0063-LPSF12', 'D0063-RAI4', 'D0063-RAI6', 'D0063-RAMF12', 'D0063-RMMF13', 'D0063-RMMF14', 'D0063-RMMF10', 'D0065-RASF14', 'D0071-RFO14', 'D0071-RIA4', 'D0071-RIP6', 'D0071-RIA5', 'D0071-RIA11', 'D0071-RIA12', 'D0071-RIA14', 'D0071-RIA16', 'D0090-RIA6', 'D0090-RIA12', 'D0094-LFAM8', 'D0094-LFAM9', 'D0094-LFAM10', 'D0094-LFPM10', 'D0094-LFPM12', 'D0094-LFAI5', 'D0094-LPAI9', 'D0094-LFAI9', 'D0094-LFAI10', 'D0094-LIA11', 'D0102-RFO13', 'D0102-RFO14', 'D0102-RFAM15', 'D0103-LFAM8', 'D0103-LFAM9', 'D0103-LAI13', 'D0103-LAI14', 'D0103-LAI4', 'D0103-LFAI4']\n",
            "['D0057-RAI6', 'D0057-RAI12', 'D0057-RAI13', 'D0057-RAI15', 'D0057-RAI16', 'D0057-RPI14', 'D0057-RAMF10', 'D0057-RAMF11', 'D0057-RAMF12', 'D0057-RAIF11', 'D0057-RAIF12', 'D0057-RAIF13', 'D0057-RAIF14', 'D0059-LMMF9', 'D0059-LMMF11', 'D0059-LMMF12', 'D0059-LPSF16', 'D0063-LOF16', 'D0063-LASF10', 'D0063-LASF14', 'D0063-LASF15', 'D0063-LASF16', 'D0063-LMSF5', 'D0063-LMSF6', 'D0063-LMSF12', 'D0063-LPSF10', 'D0063-LPSF12', 'D0063-RAI4', 'D0063-RAI6', 'D0063-RAI5', 'D0063-RAI10', 'D0063-RAI11', 'D0063-RAI16', 'D0063-RAMF11', 'D0063-RAMF12', 'D0063-RAMF13', 'D0063-RMMF13', 'D0063-RMMF14', 'D0063-RASF15', 'D0063-RMSF8', 'D0063-RMSF9', 'D0063-RMSF10', 'D0063-RMSF7', 'D0063-RAMF8', 'D0063-RAMF9', 'D0063-RAMF10', 'D0063-RMMF9', 'D0063-RMMF10', 'D0065-RASF13', 'D0065-RASF14', 'D0065-RASF15', 'D0065-RMSF11', 'D0065-RMSF12', 'D0065-RMSF13', 'D0065-RMSF14', 'D0065-RI7', 'D0069-LOF8', 'D0071-RFO14', 'D0071-RIA4', 'D0071-RIP6', 'D0071-RIA5', 'D0071-RIA11', 'D0071-RIA12', 'D0071-RIA14', 'D0071-RIA16', 'D0071-RIP14', 'D0071-RIP15', 'D0090-RIA6', 'D0090-RIA12', 'D0090-RIA14', 'D0090-RIA15', 'D0090-RIP7', 'D0094-LFO13', 'D0094-LFO15', 'D0094-LFAM8', 'D0094-LFAM9', 'D0094-LFAM10', 'D0094-LFAM13', 'D0094-LFAM14', 'D0094-LFPM10', 'D0094-LFPM12', 'D0094-LFAI3', 'D0094-LFAI5', 'D0094-LFPI10', 'D0094-LPAI9', 'D0094-LPAI10', 'D0094-LIA4', 'D0094-LIA5', 'D0094-LFAI9', 'D0094-LFAI10', 'D0094-LIA11', 'D0094-LIA14', 'D0094-LIA16', 'D0102-RFO13', 'D0102-RFO14', 'D0102-RFAM15', 'D0102-RFAI2', 'D0102-RFAI3', 'D0103-LFAM8', 'D0103-LFAM9', 'D0103-LAI13', 'D0103-LAI14', 'D0103-LFAM15', 'D0103-LAI4', 'D0103-LFAI4']\n"
          ]
        }
      ],
      "source": [
        "def format_electrodes_subject_ids(data_dict):\n",
        "    \"\"\"\n",
        "    Formats electrode names and subject IDs by removing leading zeros from the subject IDs\n",
        "    and concatenating the formatted subject ID with electrode names.\n",
        "\n",
        "    Parameters:\n",
        "    - data_dict: A dictionary with the structure {roi: {subject_id: [electrodes]}}.\n",
        "\n",
        "    Returns:\n",
        "    - A list of formatted strings in the \"Dxx-Electrode\" format.\n",
        "    \"\"\"\n",
        "    formatted_list = []\n",
        "    for roi, subjects in data_dict.items():\n",
        "        for subject_id, electrodes in subjects.items():\n",
        "            # # Remove leading zeros from the subject ID\n",
        "            # formatted_subject_id = 'D' + str(int(subject_id[1:]))\n",
        "\n",
        "            # Attach each electrode to the formatted subject ID\n",
        "            for electrode in electrodes:\n",
        "                formatted_list.append(f\"{subject_id}-{electrode}\")\n",
        "\n",
        "    return formatted_list\n",
        "\n",
        "# Use the function on your loaded dictionary\n",
        "plottable_sig_electrodes_per_subject_roi = format_electrodes_subject_ids(sig_electrodes_per_subject_roi_loaded)\n",
        "\n",
        "# And also for all electrodes per subject roi\n",
        "plottable_all_electrodes_per_subject_roi = format_electrodes_subject_ids(all_electrodes_per_subject_roi_loaded)\n",
        "\n",
        "# Print or use the resulting lists as needed\n",
        "print(plottable_sig_electrodes_per_subject_roi)\n",
        "print(plottable_all_electrodes_per_subject_roi)"
      ]
    },
    {
      "cell_type": "markdown",
      "metadata": {},
      "source": [
        "just plot one electrode for poster 4/8"
      ]
    },
    {
      "cell_type": "code",
      "execution_count": 7,
      "metadata": {},
      "outputs": [
        {
          "name": "stderr",
          "output_type": "stream",
          "text": [
            "C:\\Users\\jz421\\Desktop\\GlobalLocal\\IEEG_Pipelines\\ieeg\\viz\\mri.py:756: RuntimeWarning: Fiducial point lpa not found, assuming identity RAS (non-zero origin) to head transformation\n",
            "  info.set_montage(montage)\n",
            "C:\\Users\\jz421\\Desktop\\GlobalLocal\\IEEG_Pipelines\\ieeg\\viz\\mri.py:756: RuntimeWarning: Fiducial point lpa not found, assuming identity RAS (non-zero origin) to head transformation\n",
            "  info.set_montage(montage)\n",
            "C:\\Users\\jz421\\Desktop\\GlobalLocal\\IEEG_Pipelines\\ieeg\\viz\\mri.py:756: RuntimeWarning: Fiducial point lpa not found, assuming identity RAS (non-zero origin) to head transformation\n",
            "  info.set_montage(montage)\n",
            "C:\\Users\\jz421\\Desktop\\GlobalLocal\\IEEG_Pipelines\\ieeg\\viz\\mri.py:756: RuntimeWarning: Fiducial point lpa not found, assuming identity RAS (non-zero origin) to head transformation\n",
            "  info.set_montage(montage)\n",
            "C:\\Users\\jz421\\Desktop\\GlobalLocal\\IEEG_Pipelines\\ieeg\\viz\\mri.py:756: RuntimeWarning: Fiducial point lpa not found, assuming identity RAS (non-zero origin) to head transformation\n",
            "  info.set_montage(montage)\n",
            "C:\\Users\\jz421\\Desktop\\GlobalLocal\\IEEG_Pipelines\\ieeg\\viz\\mri.py:756: RuntimeWarning: Fiducial point lpa not found, assuming identity RAS (non-zero origin) to head transformation\n",
            "  info.set_montage(montage)\n",
            "C:\\Users\\jz421\\Desktop\\GlobalLocal\\IEEG_Pipelines\\ieeg\\viz\\mri.py:756: RuntimeWarning: Fiducial point lpa not found, assuming identity RAS (non-zero origin) to head transformation\n",
            "  info.set_montage(montage)\n",
            "C:\\Users\\jz421\\Desktop\\GlobalLocal\\IEEG_Pipelines\\ieeg\\viz\\mri.py:756: RuntimeWarning: Fiducial point lpa not found, assuming identity RAS (non-zero origin) to head transformation\n",
            "  info.set_montage(montage)\n",
            "C:\\Users\\jz421\\Desktop\\GlobalLocal\\IEEG_Pipelines\\ieeg\\viz\\mri.py:756: RuntimeWarning: Fiducial point lpa not found, assuming identity RAS (non-zero origin) to head transformation\n",
            "  info.set_montage(montage)\n",
            "C:\\Users\\jz421\\Desktop\\GlobalLocal\\IEEG_Pipelines\\ieeg\\viz\\mri.py:756: RuntimeWarning: Fiducial point lpa not found, assuming identity RAS (non-zero origin) to head transformation\n",
            "  info.set_montage(montage)\n",
            "C:\\Users\\jz421\\Desktop\\GlobalLocal\\IEEG_Pipelines\\ieeg\\viz\\mri.py:756: RuntimeWarning: Fiducial point lpa not found, assuming identity RAS (non-zero origin) to head transformation\n",
            "  info.set_montage(montage)\n",
            "C:\\Users\\jz421\\Desktop\\GlobalLocal\\IEEG_Pipelines\\ieeg\\viz\\mri.py:756: RuntimeWarning: Fiducial point lpa not found, assuming identity RAS (non-zero origin) to head transformation\n",
            "  info.set_montage(montage)\n"
          ]
        }
      ],
      "source": [
        "fig = plot_on_average(subjects, picks=['D0059-LMMF9'], rm_wm=False, hemi='both', color=(1,1,0), size=0.35, transparency=0.4, label_every=1)"
      ]
    },
    {
      "cell_type": "markdown",
      "metadata": {},
      "source": [
        "plot all lpfc sig electrodes"
      ]
    },
    {
      "cell_type": "code",
      "execution_count": 48,
      "metadata": {},
      "outputs": [
        {
          "name": "stderr",
          "output_type": "stream",
          "text": [
            "C:\\Users\\jz421\\Desktop\\GlobalLocal\\IEEG_Pipelines\\ieeg\\viz\\mri.py:756: RuntimeWarning: Fiducial point lpa not found, assuming identity RAS (non-zero origin) to head transformation\n",
            "  info.set_montage(montage)\n",
            "C:\\Users\\jz421\\Desktop\\GlobalLocal\\IEEG_Pipelines\\ieeg\\viz\\mri.py:756: RuntimeWarning: Fiducial point lpa not found, assuming identity RAS (non-zero origin) to head transformation\n",
            "  info.set_montage(montage)\n",
            "C:\\Users\\jz421\\Desktop\\GlobalLocal\\IEEG_Pipelines\\ieeg\\viz\\mri.py:756: RuntimeWarning: Fiducial point lpa not found, assuming identity RAS (non-zero origin) to head transformation\n",
            "  info.set_montage(montage)\n",
            "C:\\Users\\jz421\\Desktop\\GlobalLocal\\IEEG_Pipelines\\ieeg\\viz\\mri.py:756: RuntimeWarning: Fiducial point lpa not found, assuming identity RAS (non-zero origin) to head transformation\n",
            "  info.set_montage(montage)\n",
            "C:\\Users\\jz421\\Desktop\\GlobalLocal\\IEEG_Pipelines\\ieeg\\viz\\mri.py:756: RuntimeWarning: Fiducial point lpa not found, assuming identity RAS (non-zero origin) to head transformation\n",
            "  info.set_montage(montage)\n",
            "C:\\Users\\jz421\\Desktop\\GlobalLocal\\IEEG_Pipelines\\ieeg\\viz\\mri.py:756: RuntimeWarning: Fiducial point lpa not found, assuming identity RAS (non-zero origin) to head transformation\n",
            "  info.set_montage(montage)\n",
            "C:\\Users\\jz421\\Desktop\\GlobalLocal\\IEEG_Pipelines\\ieeg\\viz\\mri.py:756: RuntimeWarning: Fiducial point lpa not found, assuming identity RAS (non-zero origin) to head transformation\n",
            "  info.set_montage(montage)\n",
            "C:\\Users\\jz421\\Desktop\\GlobalLocal\\IEEG_Pipelines\\ieeg\\viz\\mri.py:756: RuntimeWarning: Fiducial point lpa not found, assuming identity RAS (non-zero origin) to head transformation\n",
            "  info.set_montage(montage)\n",
            "C:\\Users\\jz421\\Desktop\\GlobalLocal\\IEEG_Pipelines\\ieeg\\viz\\mri.py:756: RuntimeWarning: Fiducial point lpa not found, assuming identity RAS (non-zero origin) to head transformation\n",
            "  info.set_montage(montage)\n",
            "C:\\Users\\jz421\\Desktop\\GlobalLocal\\IEEG_Pipelines\\ieeg\\viz\\mri.py:756: RuntimeWarning: Fiducial point lpa not found, assuming identity RAS (non-zero origin) to head transformation\n",
            "  info.set_montage(montage)\n",
            "C:\\Users\\jz421\\Desktop\\GlobalLocal\\IEEG_Pipelines\\ieeg\\viz\\mri.py:756: RuntimeWarning: Fiducial point lpa not found, assuming identity RAS (non-zero origin) to head transformation\n",
            "  info.set_montage(montage)\n",
            "C:\\Users\\jz421\\Desktop\\GlobalLocal\\IEEG_Pipelines\\ieeg\\viz\\mri.py:756: RuntimeWarning: Fiducial point lpa not found, assuming identity RAS (non-zero origin) to head transformation\n",
            "  info.set_montage(montage)\n"
          ]
        }
      ],
      "source": [
        "fig = plot_on_average(subjects, picks=plottable_sig_electrodes_per_subject_roi, rm_wm=False, hemi='both', color=(1,1,0), size=0.45, transparency=0.4)"
      ]
    },
    {
      "cell_type": "code",
      "execution_count": 101,
      "metadata": {},
      "outputs": [
        {
          "name": "stderr",
          "output_type": "stream",
          "text": [
            "C:\\Users\\jz421\\Desktop\\GlobalLocal\\IEEG_Pipelines\\ieeg\\viz\\mri.py:756: RuntimeWarning: Fiducial point lpa not found, assuming identity RAS (non-zero origin) to head transformation\n",
            "  info.set_montage(montage)\n",
            "C:\\Users\\jz421\\Desktop\\GlobalLocal\\IEEG_Pipelines\\ieeg\\viz\\mri.py:756: RuntimeWarning: Fiducial point lpa not found, assuming identity RAS (non-zero origin) to head transformation\n",
            "  info.set_montage(montage)\n",
            "C:\\Users\\jz421\\Desktop\\GlobalLocal\\IEEG_Pipelines\\ieeg\\viz\\mri.py:756: RuntimeWarning: Fiducial point lpa not found, assuming identity RAS (non-zero origin) to head transformation\n",
            "  info.set_montage(montage)\n",
            "C:\\Users\\jz421\\Desktop\\GlobalLocal\\IEEG_Pipelines\\ieeg\\viz\\mri.py:756: RuntimeWarning: Fiducial point lpa not found, assuming identity RAS (non-zero origin) to head transformation\n",
            "  info.set_montage(montage)\n",
            "C:\\Users\\jz421\\Desktop\\GlobalLocal\\IEEG_Pipelines\\ieeg\\viz\\mri.py:756: RuntimeWarning: Fiducial point lpa not found, assuming identity RAS (non-zero origin) to head transformation\n",
            "  info.set_montage(montage)\n",
            "C:\\Users\\jz421\\Desktop\\GlobalLocal\\IEEG_Pipelines\\ieeg\\viz\\mri.py:756: RuntimeWarning: Fiducial point lpa not found, assuming identity RAS (non-zero origin) to head transformation\n",
            "  info.set_montage(montage)\n",
            "C:\\Users\\jz421\\Desktop\\GlobalLocal\\IEEG_Pipelines\\ieeg\\viz\\mri.py:756: RuntimeWarning: Fiducial point lpa not found, assuming identity RAS (non-zero origin) to head transformation\n",
            "  info.set_montage(montage)\n",
            "C:\\Users\\jz421\\Desktop\\GlobalLocal\\IEEG_Pipelines\\ieeg\\viz\\mri.py:756: RuntimeWarning: Fiducial point lpa not found, assuming identity RAS (non-zero origin) to head transformation\n",
            "  info.set_montage(montage)\n",
            "C:\\Users\\jz421\\Desktop\\GlobalLocal\\IEEG_Pipelines\\ieeg\\viz\\mri.py:756: RuntimeWarning: Fiducial point lpa not found, assuming identity RAS (non-zero origin) to head transformation\n",
            "  info.set_montage(montage)\n",
            "C:\\Users\\jz421\\Desktop\\GlobalLocal\\IEEG_Pipelines\\ieeg\\viz\\mri.py:756: RuntimeWarning: Fiducial point lpa not found, assuming identity RAS (non-zero origin) to head transformation\n",
            "  info.set_montage(montage)\n",
            "C:\\Users\\jz421\\Desktop\\GlobalLocal\\IEEG_Pipelines\\ieeg\\viz\\mri.py:756: RuntimeWarning: Fiducial point lpa not found, assuming identity RAS (non-zero origin) to head transformation\n",
            "  info.set_montage(montage)\n",
            "C:\\Users\\jz421\\Desktop\\GlobalLocal\\IEEG_Pipelines\\ieeg\\viz\\mri.py:756: RuntimeWarning: Fiducial point lpa not found, assuming identity RAS (non-zero origin) to head transformation\n",
            "  info.set_montage(montage)\n"
          ]
        }
      ],
      "source": [
        "fig = plot_on_average(subjects, picks=plottable_all_electrodes_per_subject_roi, rm_wm=False, hemi='both', color=(0,0.5,0), size=0.45, transparency=0.4)"
      ]
    },
    {
      "cell_type": "code",
      "execution_count": null,
      "metadata": {},
      "outputs": [],
      "source": [
        "plot_on_average(picks=plottable_all_electrodes_per_subject_roi, hemi='both', color=(1,0.5,0))"
      ]
    },
    {
      "cell_type": "markdown",
      "metadata": {},
      "source": [
        "### plot all significant electrodes on average brain"
      ]
    },
    {
      "cell_type": "code",
      "execution_count": 49,
      "metadata": {},
      "outputs": [
        {
          "name": "stdout",
          "output_type": "stream",
          "text": [
            "{'derivatives/clean': BIDS Layout: ...alLocal\\BIDS\\derivatives\\clean | Subjects: 12 | Sessions: 0 | Runs: 48}\n",
            "KeysView({'derivatives/clean': BIDS Layout: ...alLocal\\BIDS\\derivatives\\clean | Subjects: 12 | Sessions: 0 | Runs: 48})\n",
            "Loaded significant channels for subject D0057\n",
            "Loaded significant channels for subject D0059\n"
          ]
        },
        {
          "name": "stderr",
          "output_type": "stream",
          "text": [
            "C:\\Users\\jz421\\Desktop\\GlobalLocal\\IEEG_Pipelines\\ieeg\\viz\\mri.py:756: RuntimeWarning: Fiducial point lpa not found, assuming identity RAS (non-zero origin) to head transformation\n",
            "  info.set_montage(montage)\n",
            "C:\\Users\\jz421\\Desktop\\GlobalLocal\\IEEG_Pipelines\\ieeg\\viz\\mri.py:756: RuntimeWarning: Fiducial point lpa not found, assuming identity RAS (non-zero origin) to head transformation\n",
            "  info.set_montage(montage)\n",
            "C:\\Users\\jz421\\Desktop\\GlobalLocal\\IEEG_Pipelines\\ieeg\\viz\\mri.py:756: RuntimeWarning: Fiducial point lpa not found, assuming identity RAS (non-zero origin) to head transformation\n",
            "  info.set_montage(montage)\n",
            "C:\\Users\\jz421\\Desktop\\GlobalLocal\\IEEG_Pipelines\\ieeg\\viz\\mri.py:756: RuntimeWarning: Fiducial point lpa not found, assuming identity RAS (non-zero origin) to head transformation\n",
            "  info.set_montage(montage)\n",
            "C:\\Users\\jz421\\Desktop\\GlobalLocal\\IEEG_Pipelines\\ieeg\\viz\\mri.py:756: RuntimeWarning: Fiducial point lpa not found, assuming identity RAS (non-zero origin) to head transformation\n",
            "  info.set_montage(montage)\n",
            "C:\\Users\\jz421\\Desktop\\GlobalLocal\\IEEG_Pipelines\\ieeg\\viz\\mri.py:756: RuntimeWarning: Fiducial point lpa not found, assuming identity RAS (non-zero origin) to head transformation\n",
            "  info.set_montage(montage)\n",
            "C:\\Users\\jz421\\Desktop\\GlobalLocal\\IEEG_Pipelines\\ieeg\\viz\\mri.py:756: RuntimeWarning: Fiducial point lpa not found, assuming identity RAS (non-zero origin) to head transformation\n",
            "  info.set_montage(montage)\n",
            "C:\\Users\\jz421\\Desktop\\GlobalLocal\\IEEG_Pipelines\\ieeg\\viz\\mri.py:756: RuntimeWarning: Fiducial point lpa not found, assuming identity RAS (non-zero origin) to head transformation\n",
            "  info.set_montage(montage)\n"
          ]
        },
        {
          "name": "stdout",
          "output_type": "stream",
          "text": [
            "Loaded significant channels for subject D0063\n",
            "Loaded significant channels for subject D0065\n",
            "Loaded significant channels for subject D0069\n",
            "Loaded significant channels for subject D0071\n",
            "Loaded significant channels for subject D0077\n",
            "Loaded significant channels for subject D0090\n",
            "Loaded significant channels for subject D0094\n",
            "Loaded significant channels for subject D0100\n"
          ]
        },
        {
          "name": "stderr",
          "output_type": "stream",
          "text": [
            "C:\\Users\\jz421\\Desktop\\GlobalLocal\\IEEG_Pipelines\\ieeg\\viz\\mri.py:756: RuntimeWarning: Fiducial point lpa not found, assuming identity RAS (non-zero origin) to head transformation\n",
            "  info.set_montage(montage)\n",
            "C:\\Users\\jz421\\Desktop\\GlobalLocal\\IEEG_Pipelines\\ieeg\\viz\\mri.py:756: RuntimeWarning: Fiducial point lpa not found, assuming identity RAS (non-zero origin) to head transformation\n",
            "  info.set_montage(montage)\n",
            "C:\\Users\\jz421\\Desktop\\GlobalLocal\\IEEG_Pipelines\\ieeg\\viz\\mri.py:756: RuntimeWarning: Fiducial point lpa not found, assuming identity RAS (non-zero origin) to head transformation\n",
            "  info.set_montage(montage)\n",
            "C:\\Users\\jz421\\Desktop\\GlobalLocal\\IEEG_Pipelines\\ieeg\\viz\\mri.py:756: RuntimeWarning: Fiducial point lpa not found, assuming identity RAS (non-zero origin) to head transformation\n",
            "  info.set_montage(montage)\n"
          ]
        },
        {
          "name": "stdout",
          "output_type": "stream",
          "text": [
            "Loaded significant channels for subject D0102\n",
            "Loaded significant channels for subject D0103\n"
          ]
        },
        {
          "name": "stderr",
          "output_type": "stream",
          "text": [
            "C:\\Users\\jz421\\Desktop\\GlobalLocal\\IEEG_Pipelines\\ieeg\\viz\\mri.py:756: RuntimeWarning: Fiducial point lpa not found, assuming identity RAS (non-zero origin) to head transformation\n",
            "  info.set_montage(montage)\n",
            "C:\\Users\\jz421\\Desktop\\GlobalLocal\\IEEG_Pipelines\\ieeg\\viz\\mri.py:756: RuntimeWarning: Fiducial point lpa not found, assuming identity RAS (non-zero origin) to head transformation\n",
            "  info.set_montage(montage)\n",
            "C:\\Users\\jz421\\Desktop\\GlobalLocal\\IEEG_Pipelines\\ieeg\\viz\\mri.py:756: RuntimeWarning: Fiducial point lpa not found, assuming identity RAS (non-zero origin) to head transformation\n",
            "  info.set_montage(montage)\n",
            "C:\\Users\\jz421\\Desktop\\GlobalLocal\\IEEG_Pipelines\\ieeg\\viz\\mri.py:756: RuntimeWarning: Fiducial point lpa not found, assuming identity RAS (non-zero origin) to head transformation\n",
            "  info.set_montage(montage)\n",
            "C:\\Users\\jz421\\Desktop\\GlobalLocal\\IEEG_Pipelines\\ieeg\\viz\\mri.py:756: RuntimeWarning: Fiducial point lpa not found, assuming identity RAS (non-zero origin) to head transformation\n",
            "  info.set_montage(montage)\n",
            "C:\\Users\\jz421\\Desktop\\GlobalLocal\\IEEG_Pipelines\\ieeg\\viz\\mri.py:756: RuntimeWarning: Fiducial point lpa not found, assuming identity RAS (non-zero origin) to head transformation\n",
            "  info.set_montage(montage)\n",
            "C:\\Users\\jz421\\Desktop\\GlobalLocal\\IEEG_Pipelines\\ieeg\\viz\\mri.py:756: RuntimeWarning: Fiducial point lpa not found, assuming identity RAS (non-zero origin) to head transformation\n",
            "  info.set_montage(montage)\n",
            "C:\\Users\\jz421\\Desktop\\GlobalLocal\\IEEG_Pipelines\\ieeg\\viz\\mri.py:756: RuntimeWarning: Fiducial point lpa not found, assuming identity RAS (non-zero origin) to head transformation\n",
            "  info.set_montage(montage)\n",
            "C:\\Users\\jz421\\Desktop\\GlobalLocal\\IEEG_Pipelines\\ieeg\\viz\\mri.py:756: RuntimeWarning: Fiducial point lpa not found, assuming identity RAS (non-zero origin) to head transformation\n",
            "  info.set_montage(montage)\n",
            "C:\\Users\\jz421\\Desktop\\GlobalLocal\\IEEG_Pipelines\\ieeg\\viz\\mri.py:756: RuntimeWarning: Fiducial point lpa not found, assuming identity RAS (non-zero origin) to head transformation\n",
            "  info.set_montage(montage)\n",
            "C:\\Users\\jz421\\Desktop\\GlobalLocal\\IEEG_Pipelines\\ieeg\\viz\\mri.py:756: RuntimeWarning: Fiducial point lpa not found, assuming identity RAS (non-zero origin) to head transformation\n",
            "  info.set_montage(montage)\n",
            "C:\\Users\\jz421\\Desktop\\GlobalLocal\\IEEG_Pipelines\\ieeg\\viz\\mri.py:756: RuntimeWarning: Fiducial point lpa not found, assuming identity RAS (non-zero origin) to head transformation\n",
            "  info.set_montage(montage)\n",
            "C:\\Users\\jz421\\Desktop\\GlobalLocal\\IEEG_Pipelines\\ieeg\\viz\\mri.py:756: RuntimeWarning: Fiducial point lpa not found, assuming identity RAS (non-zero origin) to head transformation\n",
            "  info.set_montage(montage)\n",
            "C:\\Users\\jz421\\Desktop\\GlobalLocal\\IEEG_Pipelines\\ieeg\\viz\\mri.py:756: RuntimeWarning: Fiducial point lpa not found, assuming identity RAS (non-zero origin) to head transformation\n",
            "  info.set_montage(montage)\n",
            "C:\\Users\\jz421\\Desktop\\GlobalLocal\\IEEG_Pipelines\\ieeg\\viz\\mri.py:756: RuntimeWarning: Fiducial point lpa not found, assuming identity RAS (non-zero origin) to head transformation\n",
            "  info.set_montage(montage)\n",
            "C:\\Users\\jz421\\Desktop\\GlobalLocal\\IEEG_Pipelines\\ieeg\\viz\\mri.py:756: RuntimeWarning: Fiducial point lpa not found, assuming identity RAS (non-zero origin) to head transformation\n",
            "  info.set_montage(montage)\n",
            "C:\\Users\\jz421\\Desktop\\GlobalLocal\\IEEG_Pipelines\\ieeg\\viz\\mri.py:756: RuntimeWarning: Fiducial point lpa not found, assuming identity RAS (non-zero origin) to head transformation\n",
            "  info.set_montage(montage)\n",
            "C:\\Users\\jz421\\Desktop\\GlobalLocal\\IEEG_Pipelines\\ieeg\\viz\\mri.py:756: RuntimeWarning: Fiducial point lpa not found, assuming identity RAS (non-zero origin) to head transformation\n",
            "  info.set_montage(montage)\n",
            "C:\\Users\\jz421\\Desktop\\GlobalLocal\\IEEG_Pipelines\\ieeg\\viz\\mri.py:756: RuntimeWarning: Fiducial point lpa not found, assuming identity RAS (non-zero origin) to head transformation\n",
            "  info.set_montage(montage)\n",
            "C:\\Users\\jz421\\Desktop\\GlobalLocal\\IEEG_Pipelines\\ieeg\\viz\\mri.py:756: RuntimeWarning: Fiducial point lpa not found, assuming identity RAS (non-zero origin) to head transformation\n",
            "  info.set_montage(montage)\n",
            "C:\\Users\\jz421\\Desktop\\GlobalLocal\\IEEG_Pipelines\\ieeg\\viz\\mri.py:756: RuntimeWarning: Fiducial point lpa not found, assuming identity RAS (non-zero origin) to head transformation\n",
            "  info.set_montage(montage)\n",
            "C:\\Users\\jz421\\Desktop\\GlobalLocal\\IEEG_Pipelines\\ieeg\\viz\\mri.py:756: RuntimeWarning: Fiducial point lpa not found, assuming identity RAS (non-zero origin) to head transformation\n",
            "  info.set_montage(montage)\n",
            "C:\\Users\\jz421\\Desktop\\GlobalLocal\\IEEG_Pipelines\\ieeg\\viz\\mri.py:756: RuntimeWarning: Fiducial point lpa not found, assuming identity RAS (non-zero origin) to head transformation\n",
            "  info.set_montage(montage)\n",
            "C:\\Users\\jz421\\Desktop\\GlobalLocal\\IEEG_Pipelines\\ieeg\\viz\\mri.py:756: RuntimeWarning: Fiducial point lpa not found, assuming identity RAS (non-zero origin) to head transformation\n",
            "  info.set_montage(montage)\n"
          ]
        },
        {
          "data": {
            "text/plain": [
              "<mne.viz._brain._brain.Brain at 0x2380b8dd0d0>"
            ]
          },
          "execution_count": 49,
          "metadata": {},
          "output_type": "execute_result"
        }
      ],
      "source": [
        "# grab all of the significant electrodes, and put them into one list, and then run plot_on_average\n",
        "\n",
        "HOME = os.path.expanduser(\"~\")\n",
        "\n",
        "# get box directory depending on OS\n",
        "if os.name == 'nt': # windows\n",
        "    LAB_root = os.path.join(HOME, \"Box\", \"CoganLab\")\n",
        "else: # mac\n",
        "    LAB_root = os.path.join(HOME, \"Library\", \"CloudStorage\", \"Box-Box\", \"CoganLab\")\n",
        "\n",
        "layout = get_data(\"GlobalLocal\", root=LAB_root)\n",
        "\n",
        "\n",
        "print(layout.derivatives)\n",
        "print(layout.derivatives.keys())\n",
        "\n",
        "\n",
        "base_path = os.path.join(LAB_root, \"BIDS-1.1_GlobalLocal\", \"BIDS\", \"derivatives\", \"freqFilt\", \"figs\")\n",
        "\n",
        "subjects = layout.get(return_type=\"id\", target=\"subject\")\n",
        "subjects_without_zeroes = [\"D\" + subj[1:].lstrip('0') for subj in subjects]\n",
        "\n",
        "allSigElectrodes = {}  # Initialize as an empty dictionary\n",
        "allElectrodes = {}\n",
        "\n",
        "for subj in subjects:\n",
        "    # skip d0107 for now cuz i haven't preprocessed them yet 3/25\n",
        "    if subj == \"D0107\":\n",
        "        continue\n",
        "    \n",
        "    # resp_filename = f'{base_path}\\\\{subj}\\\\sig_chans_{subj}_response_experimentStartBase1secTo101Sec.json'\n",
        "    stim_filename = f'{base_path}\\\\{subj}\\\\sig_chans_{subj}_Stimulus_fixationCrossBase_1sec_mirror.json'\n",
        "\n",
        "    # resp_sig_chans = load_sig_chans(resp_filename)\n",
        "    stim_sig_chans = load_sig_chans(stim_filename)\n",
        "\n",
        "    # Combine the significant electrodes for this subject\n",
        "    # combined_chans = resp_sig_chans + stim_sig_chans\n",
        "    combined_chans = stim_sig_chans # just plot stimulus for now, not response\n",
        "    # Add them to the dictionary, tagged with the subject without zeroes\n",
        "\n",
        "    subj_without_zeroes = \"D\" + subj[1:].lstrip('0')\n",
        "    allSigElectrodes[subj_without_zeroes] = combined_chans\n",
        "\n",
        "    # Get all electrodes for this subject and add them to the allElectrodes dict\n",
        "    info = subject_to_info(subj_without_zeroes)\n",
        "    allSubjElectrodes = mne.pick_channels(info.ch_names, [])\n",
        "    allElectrodes[subj_without_zeroes] = allSubjElectrodes\n",
        "\n",
        "picks = [f'D{k[1:].zfill(4)}-{v}' for k in allSigElectrodes.keys() for v in allSigElectrodes[k]]\n",
        "# sinfos = [subject_to_info(f'D{int(subj[1:])}') for subj in subjects]\n",
        "\n",
        "plot_on_average(allSigElectrodes, hemi='both', color=(1,1,0), size=0.45)\n",
        "plot_on_average(allElectrodes, hemi='both', color=(1,1,0))"
      ]
    },
    {
      "cell_type": "code",
      "execution_count": null,
      "metadata": {},
      "outputs": [],
      "source": [
        "allSigElectrodes"
      ]
    },
    {
      "cell_type": "markdown",
      "metadata": {},
      "source": [
        "### plot all significant electrodes, then plot all electrodes"
      ]
    },
    {
      "cell_type": "code",
      "execution_count": 50,
      "metadata": {},
      "outputs": [
        {
          "name": "stdout",
          "output_type": "stream",
          "text": [
            "{'derivatives/clean': BIDS Layout: ...alLocal\\BIDS\\derivatives\\clean | Subjects: 12 | Sessions: 0 | Runs: 48}\n",
            "KeysView({'derivatives/clean': BIDS Layout: ...alLocal\\BIDS\\derivatives\\clean | Subjects: 12 | Sessions: 0 | Runs: 48})\n",
            "Loaded significant channels for subject D0057\n",
            "Loaded significant channels for subject D0059\n",
            "Loaded significant channels for subject D0063\n",
            "Loaded significant channels for subject D0065\n",
            "Loaded significant channels for subject D0069\n",
            "Loaded significant channels for subject D0071\n",
            "Loaded significant channels for subject D0077\n",
            "Loaded significant channels for subject D0090\n",
            "Loaded significant channels for subject D0094\n"
          ]
        },
        {
          "name": "stderr",
          "output_type": "stream",
          "text": [
            "C:\\Users\\jz421\\Desktop\\GlobalLocal\\IEEG_Pipelines\\ieeg\\viz\\mri.py:756: RuntimeWarning: Fiducial point lpa not found, assuming identity RAS (non-zero origin) to head transformation\n",
            "  info.set_montage(montage)\n",
            "C:\\Users\\jz421\\Desktop\\GlobalLocal\\IEEG_Pipelines\\ieeg\\viz\\mri.py:756: RuntimeWarning: Fiducial point lpa not found, assuming identity RAS (non-zero origin) to head transformation\n",
            "  info.set_montage(montage)\n",
            "C:\\Users\\jz421\\Desktop\\GlobalLocal\\IEEG_Pipelines\\ieeg\\viz\\mri.py:756: RuntimeWarning: Fiducial point lpa not found, assuming identity RAS (non-zero origin) to head transformation\n",
            "  info.set_montage(montage)\n",
            "C:\\Users\\jz421\\Desktop\\GlobalLocal\\IEEG_Pipelines\\ieeg\\viz\\mri.py:756: RuntimeWarning: Fiducial point lpa not found, assuming identity RAS (non-zero origin) to head transformation\n",
            "  info.set_montage(montage)\n",
            "C:\\Users\\jz421\\Desktop\\GlobalLocal\\IEEG_Pipelines\\ieeg\\viz\\mri.py:756: RuntimeWarning: Fiducial point lpa not found, assuming identity RAS (non-zero origin) to head transformation\n",
            "  info.set_montage(montage)\n",
            "C:\\Users\\jz421\\Desktop\\GlobalLocal\\IEEG_Pipelines\\ieeg\\viz\\mri.py:756: RuntimeWarning: Fiducial point lpa not found, assuming identity RAS (non-zero origin) to head transformation\n",
            "  info.set_montage(montage)\n",
            "C:\\Users\\jz421\\Desktop\\GlobalLocal\\IEEG_Pipelines\\ieeg\\viz\\mri.py:756: RuntimeWarning: Fiducial point lpa not found, assuming identity RAS (non-zero origin) to head transformation\n",
            "  info.set_montage(montage)\n",
            "C:\\Users\\jz421\\Desktop\\GlobalLocal\\IEEG_Pipelines\\ieeg\\viz\\mri.py:756: RuntimeWarning: Fiducial point lpa not found, assuming identity RAS (non-zero origin) to head transformation\n",
            "  info.set_montage(montage)\n",
            "C:\\Users\\jz421\\Desktop\\GlobalLocal\\IEEG_Pipelines\\ieeg\\viz\\mri.py:756: RuntimeWarning: Fiducial point lpa not found, assuming identity RAS (non-zero origin) to head transformation\n",
            "  info.set_montage(montage)\n"
          ]
        },
        {
          "name": "stdout",
          "output_type": "stream",
          "text": [
            "Loaded significant channels for subject D0100\n",
            "Loaded significant channels for subject D0102\n",
            "Loaded significant channels for subject D0103\n"
          ]
        },
        {
          "name": "stderr",
          "output_type": "stream",
          "text": [
            "C:\\Users\\jz421\\Desktop\\GlobalLocal\\IEEG_Pipelines\\ieeg\\viz\\mri.py:756: RuntimeWarning: Fiducial point lpa not found, assuming identity RAS (non-zero origin) to head transformation\n",
            "  info.set_montage(montage)\n",
            "C:\\Users\\jz421\\Desktop\\GlobalLocal\\IEEG_Pipelines\\ieeg\\viz\\mri.py:756: RuntimeWarning: Fiducial point lpa not found, assuming identity RAS (non-zero origin) to head transformation\n",
            "  info.set_montage(montage)\n",
            "C:\\Users\\jz421\\Desktop\\GlobalLocal\\IEEG_Pipelines\\ieeg\\viz\\mri.py:756: RuntimeWarning: Fiducial point lpa not found, assuming identity RAS (non-zero origin) to head transformation\n",
            "  info.set_montage(montage)\n"
          ]
        },
        {
          "ename": "FileNotFoundError",
          "evalue": "[Errno 2] No such file or directory: 'C:\\\\Users\\\\jz421\\\\Box\\\\CoganLab\\\\BIDS-1.1_GlobalLocal\\\\BIDS\\\\derivatives\\\\freqFilt\\\\figs\\\\D0107\\\\sig_chans_D0107_Stimulus_fixationCrossBase_1sec_mirror.json'",
          "output_type": "error",
          "traceback": [
            "\u001b[1;31m---------------------------------------------------------------------------\u001b[0m",
            "\u001b[1;31mFileNotFoundError\u001b[0m                         Traceback (most recent call last)",
            "Cell \u001b[1;32mIn[50], line 35\u001b[0m\n\u001b[0;32m     32\u001b[0m stim_filename \u001b[38;5;241m=\u001b[39m \u001b[38;5;124mf\u001b[39m\u001b[38;5;124m'\u001b[39m\u001b[38;5;132;01m{\u001b[39;00mbase_path\u001b[38;5;132;01m}\u001b[39;00m\u001b[38;5;130;01m\\\\\u001b[39;00m\u001b[38;5;132;01m{\u001b[39;00msubj\u001b[38;5;132;01m}\u001b[39;00m\u001b[38;5;130;01m\\\\\u001b[39;00m\u001b[38;5;124msig_chans_\u001b[39m\u001b[38;5;132;01m{\u001b[39;00msubj\u001b[38;5;132;01m}\u001b[39;00m\u001b[38;5;124m_Stimulus_fixationCrossBase_1sec_mirror.json\u001b[39m\u001b[38;5;124m'\u001b[39m\n\u001b[0;32m     34\u001b[0m \u001b[38;5;66;03m# resp_sig_chans = load_sig_chans(resp_filename)\u001b[39;00m\n\u001b[1;32m---> 35\u001b[0m stim_sig_chans \u001b[38;5;241m=\u001b[39m \u001b[43mload_sig_chans\u001b[49m\u001b[43m(\u001b[49m\u001b[43mstim_filename\u001b[49m\u001b[43m)\u001b[49m\n\u001b[0;32m     37\u001b[0m \u001b[38;5;66;03m# Combine the significant electrodes for this subject\u001b[39;00m\n\u001b[0;32m     38\u001b[0m \u001b[38;5;66;03m# combined_chans = resp_sig_chans + stim_sig_chans\u001b[39;00m\n\u001b[0;32m     39\u001b[0m combined_chans \u001b[38;5;241m=\u001b[39m stim_sig_chans \u001b[38;5;66;03m# delete this line once we have responses for everyone\u001b[39;00m\n",
            "File \u001b[1;32mc:\\Users\\jz421\\Desktop\\GlobalLocal\\misc_functions.py:67\u001b[0m, in \u001b[0;36mload_sig_chans\u001b[1;34m(filename)\u001b[0m\n\u001b[0;32m     66\u001b[0m \u001b[38;5;28;01mdef\u001b[39;00m \u001b[38;5;21mload_sig_chans\u001b[39m(filename):\n\u001b[1;32m---> 67\u001b[0m     \u001b[38;5;28;01mwith\u001b[39;00m \u001b[38;5;28mopen\u001b[39m(filename, \u001b[38;5;124m'\u001b[39m\u001b[38;5;124mr\u001b[39m\u001b[38;5;124m'\u001b[39m) \u001b[38;5;28;01mas\u001b[39;00m file:\n\u001b[0;32m     68\u001b[0m         data \u001b[38;5;241m=\u001b[39m json\u001b[38;5;241m.\u001b[39mload(file)\n\u001b[0;32m     70\u001b[0m     \u001b[38;5;66;03m# You can access the subject and significant channels directly from the dictionary\u001b[39;00m\n",
            "\u001b[1;31mFileNotFoundError\u001b[0m: [Errno 2] No such file or directory: 'C:\\\\Users\\\\jz421\\\\Box\\\\CoganLab\\\\BIDS-1.1_GlobalLocal\\\\BIDS\\\\derivatives\\\\freqFilt\\\\figs\\\\D0107\\\\sig_chans_D0107_Stimulus_fixationCrossBase_1sec_mirror.json'"
          ]
        }
      ],
      "source": [
        "# grab all of the significant electrodes, and put them into one list, and then run plot_on_average\n",
        "\n",
        "HOME = os.path.expanduser(\"~\")\n",
        "\n",
        "# get box directory depending on OS\n",
        "if os.name == 'nt': # windows\n",
        "    LAB_root = os.path.join(HOME, \"Box\", \"CoganLab\")\n",
        "else: # mac\n",
        "    LAB_root = os.path.join(HOME, \"Library\", \"CloudStorage\", \"Box-Box\", \"CoganLab\")\n",
        "\n",
        "layout = get_data(\"GlobalLocal\", root=LAB_root)\n",
        "\n",
        "\n",
        "print(layout.derivatives)\n",
        "print(layout.derivatives.keys())\n",
        "\n",
        "\n",
        "base_path = os.path.join(LAB_root, \"BIDS-1.1_GlobalLocal\", \"BIDS\", \"derivatives\", \"freqFilt\", \"figs\")\n",
        "\n",
        "# subjects = layout.get(return_type=\"id\", target=\"subject\")\n",
        "\n",
        "subjects_without_zeroes = [\"D\" + subj[1:].lstrip('0') for subj in subjects]\n",
        "\n",
        "allSigElectrodes = {}  # Initialize as an empty dictionary\n",
        "allElectrodes = {}\n",
        "\n",
        "for subj in subjects:\n",
        "    # if subj == \"D0077\":\n",
        "    #     continue\n",
        "    \n",
        "    # resp_filename = f'{base_path}\\\\{subj}\\\\sig_chans_{subj}_Response.json'\n",
        "    stim_filename = f'{base_path}\\\\{subj}\\\\sig_chans_{subj}_Stimulus_fixationCrossBase_1sec_mirror.json'\n",
        "\n",
        "    # resp_sig_chans = load_sig_chans(resp_filename)\n",
        "    stim_sig_chans = load_sig_chans(stim_filename)\n",
        "\n",
        "    # Combine the significant electrodes for this subject\n",
        "    # combined_chans = resp_sig_chans + stim_sig_chans\n",
        "    combined_chans = stim_sig_chans # delete this line once we have responses for everyone\n",
        "    # Add them to the dictionary, tagged with the subject without zeroes\n",
        "\n",
        "    subj_without_zeroes = \"D\" + subj[1:].lstrip('0')\n",
        "    allSigElectrodes[subj_without_zeroes] = combined_chans\n",
        "\n",
        "    # Get all electrodes for this subject and add them to the allElectrodes dict\n",
        "    info = subject_to_info(subj_without_zeroes)\n",
        "    allSubjElectrodes = mne.pick_channels(info.ch_names, [])\n",
        "    allElectrodes[subj_without_zeroes] = allSubjElectrodes\n",
        "\n",
        "# apparently this doesn't work because the inputs are dicts and plot on average doesn't like dict inputs.\n",
        "# use Aaron's code below that converts from these dicts to a list of electrode indices 3/25. \n",
        "# fig = plot_on_average(allSigElectrodes, hemi='both', color=(1,1,0), size=0.45)\n",
        "# plot_on_average(allElectrodes, hemi='both', color=(1,1,1), fig=fig)"
      ]
    },
    {
      "cell_type": "markdown",
      "metadata": {},
      "source": [
        "aaron's way of plotting"
      ]
    },
    {
      "cell_type": "code",
      "execution_count": 51,
      "metadata": {},
      "outputs": [
        {
          "name": "stderr",
          "output_type": "stream",
          "text": [
            "C:\\Users\\jz421\\Desktop\\GlobalLocal\\IEEG_Pipelines\\ieeg\\viz\\mri.py:756: RuntimeWarning: Fiducial point lpa not found, assuming identity RAS (non-zero origin) to head transformation\n",
            "  info.set_montage(montage)\n",
            "C:\\Users\\jz421\\Desktop\\GlobalLocal\\IEEG_Pipelines\\ieeg\\viz\\mri.py:756: RuntimeWarning: Fiducial point lpa not found, assuming identity RAS (non-zero origin) to head transformation\n",
            "  info.set_montage(montage)\n",
            "C:\\Users\\jz421\\Desktop\\GlobalLocal\\IEEG_Pipelines\\ieeg\\viz\\mri.py:756: RuntimeWarning: Fiducial point lpa not found, assuming identity RAS (non-zero origin) to head transformation\n",
            "  info.set_montage(montage)\n",
            "C:\\Users\\jz421\\Desktop\\GlobalLocal\\IEEG_Pipelines\\ieeg\\viz\\mri.py:756: RuntimeWarning: Fiducial point lpa not found, assuming identity RAS (non-zero origin) to head transformation\n",
            "  info.set_montage(montage)\n",
            "C:\\Users\\jz421\\Desktop\\GlobalLocal\\IEEG_Pipelines\\ieeg\\viz\\mri.py:756: RuntimeWarning: Fiducial point lpa not found, assuming identity RAS (non-zero origin) to head transformation\n",
            "  info.set_montage(montage)\n",
            "C:\\Users\\jz421\\Desktop\\GlobalLocal\\IEEG_Pipelines\\ieeg\\viz\\mri.py:756: RuntimeWarning: Fiducial point lpa not found, assuming identity RAS (non-zero origin) to head transformation\n",
            "  info.set_montage(montage)\n",
            "C:\\Users\\jz421\\Desktop\\GlobalLocal\\IEEG_Pipelines\\ieeg\\viz\\mri.py:756: RuntimeWarning: Fiducial point lpa not found, assuming identity RAS (non-zero origin) to head transformation\n",
            "  info.set_montage(montage)\n",
            "C:\\Users\\jz421\\Desktop\\GlobalLocal\\IEEG_Pipelines\\ieeg\\viz\\mri.py:756: RuntimeWarning: Fiducial point lpa not found, assuming identity RAS (non-zero origin) to head transformation\n",
            "  info.set_montage(montage)\n",
            "C:\\Users\\jz421\\Desktop\\GlobalLocal\\IEEG_Pipelines\\ieeg\\viz\\mri.py:756: RuntimeWarning: Fiducial point lpa not found, assuming identity RAS (non-zero origin) to head transformation\n",
            "  info.set_montage(montage)\n",
            "C:\\Users\\jz421\\Desktop\\GlobalLocal\\IEEG_Pipelines\\ieeg\\viz\\mri.py:756: RuntimeWarning: Fiducial point lpa not found, assuming identity RAS (non-zero origin) to head transformation\n",
            "  info.set_montage(montage)\n",
            "C:\\Users\\jz421\\Desktop\\GlobalLocal\\IEEG_Pipelines\\ieeg\\viz\\mri.py:756: RuntimeWarning: Fiducial point lpa not found, assuming identity RAS (non-zero origin) to head transformation\n",
            "  info.set_montage(montage)\n",
            "C:\\Users\\jz421\\Desktop\\GlobalLocal\\IEEG_Pipelines\\ieeg\\viz\\mri.py:756: RuntimeWarning: Fiducial point lpa not found, assuming identity RAS (non-zero origin) to head transformation\n",
            "  info.set_montage(montage)\n",
            "C:\\Users\\jz421\\Desktop\\GlobalLocal\\IEEG_Pipelines\\ieeg\\viz\\mri.py:756: RuntimeWarning: Fiducial point lpa not found, assuming identity RAS (non-zero origin) to head transformation\n",
            "  info.set_montage(montage)\n"
          ]
        },
        {
          "ename": "ValueError",
          "evalue": "No channels match the selection.",
          "output_type": "error",
          "traceback": [
            "\u001b[1;31m---------------------------------------------------------------------------\u001b[0m",
            "\u001b[1;31mValueError\u001b[0m                                Traceback (most recent call last)",
            "Cell \u001b[1;32mIn[51], line 12\u001b[0m\n\u001b[0;32m      9\u001b[0m     length \u001b[38;5;241m+\u001b[39m\u001b[38;5;241m=\u001b[39m \u001b[38;5;28mlen\u001b[39m(info[\u001b[38;5;124m'\u001b[39m\u001b[38;5;124mch_names\u001b[39m\u001b[38;5;124m'\u001b[39m])\n\u001b[0;32m     10\u001b[0m     subjects\u001b[38;5;241m.\u001b[39mappend(subject)\n\u001b[1;32m---> 12\u001b[0m fig \u001b[38;5;241m=\u001b[39m \u001b[43mplot_on_average\u001b[49m\u001b[43m(\u001b[49m\u001b[43msubjects\u001b[49m\u001b[43m,\u001b[49m\u001b[43m \u001b[49m\u001b[43mpicks\u001b[49m\u001b[38;5;241;43m=\u001b[39;49m\u001b[38;5;124;43m'\u001b[39;49m\u001b[38;5;124;43mD57-RMMF14\u001b[39;49m\u001b[38;5;124;43m'\u001b[39;49m\u001b[43m,\u001b[49m\u001b[43m \u001b[49m\u001b[43mrm_wm\u001b[49m\u001b[38;5;241;43m=\u001b[39;49m\u001b[38;5;28;43;01mFalse\u001b[39;49;00m\u001b[43m,\u001b[49m\u001b[43m \u001b[49m\u001b[43mhemi\u001b[49m\u001b[38;5;241;43m=\u001b[39;49m\u001b[38;5;124;43m'\u001b[39;49m\u001b[38;5;124;43mboth\u001b[39;49m\u001b[38;5;124;43m'\u001b[39;49m\u001b[43m,\u001b[49m\u001b[43m \u001b[49m\u001b[43mcolor\u001b[49m\u001b[38;5;241;43m=\u001b[39;49m\u001b[43m(\u001b[49m\u001b[38;5;241;43m1\u001b[39;49m\u001b[43m,\u001b[49m\u001b[43m \u001b[49m\u001b[38;5;241;43m1\u001b[39;49m\u001b[43m,\u001b[49m\u001b[43m \u001b[49m\u001b[38;5;241;43m0\u001b[39;49m\u001b[43m)\u001b[49m\u001b[43m,\u001b[49m\u001b[43m \u001b[49m\u001b[43msize\u001b[49m\u001b[38;5;241;43m=\u001b[39;49m\u001b[38;5;241;43m0.4\u001b[39;49m\u001b[43m,\u001b[49m\u001b[43m \u001b[49m\u001b[43mtransparency\u001b[49m\u001b[38;5;241;43m=\u001b[39;49m\u001b[38;5;241;43m0.2\u001b[39;49m\u001b[43m)\u001b[49m\n\u001b[0;32m     13\u001b[0m \u001b[38;5;66;03m# plot_on_average(subjects, rm_wm=False, hemi='both', color=(1, 1, 1), fig=fig)\u001b[39;00m\n",
            "File \u001b[1;32m~\\Desktop\\GlobalLocal\\IEEG_Pipelines\\ieeg\\viz\\mri.py:398\u001b[0m, in \u001b[0;36mplot_on_average\u001b[1;34m(sigs, subj_dir, rm_wm, picks, surface, hemi, color, size, fig, label_every, background, units, transparency, average, show)\u001b[0m\n\u001b[0;32m    395\u001b[0m         this_color \u001b[38;5;241m=\u001b[39m color\n\u001b[0;32m    397\u001b[0m     \u001b[38;5;66;03m# plot the data\u001b[39;00m\n\u001b[1;32m--> 398\u001b[0m     \u001b[43mplot_subj\u001b[49m\u001b[43m(\u001b[49m\u001b[43mnew\u001b[49m\u001b[43m,\u001b[49m\u001b[43m \u001b[49m\u001b[43msubj_dir\u001b[49m\u001b[43m,\u001b[49m\u001b[43m \u001b[49m\u001b[43mthese_picks\u001b[49m\u001b[43m,\u001b[49m\u001b[43m \u001b[49m\u001b[38;5;28;43;01mFalse\u001b[39;49;00m\u001b[43m,\u001b[49m\u001b[43m \u001b[49m\u001b[43mfig\u001b[49m\u001b[38;5;241;43m=\u001b[39;49m\u001b[43mfig\u001b[49m\u001b[43m,\u001b[49m\n\u001b[0;32m    399\u001b[0m \u001b[43m              \u001b[49m\u001b[43mtrans\u001b[49m\u001b[38;5;241;43m=\u001b[39;49m\u001b[43mtrans\u001b[49m\u001b[43m,\u001b[49m\u001b[43m \u001b[49m\u001b[43mcolor\u001b[49m\u001b[38;5;241;43m=\u001b[39;49m\u001b[43mthis_color\u001b[49m\u001b[43m,\u001b[49m\u001b[43m \u001b[49m\u001b[43msize\u001b[49m\u001b[38;5;241;43m=\u001b[39;49m\u001b[43msize\u001b[49m\u001b[43m,\u001b[49m\n\u001b[0;32m    400\u001b[0m \u001b[43m              \u001b[49m\u001b[43mlabels_every\u001b[49m\u001b[38;5;241;43m=\u001b[39;49m\u001b[43mlabel_every\u001b[49m\u001b[43m,\u001b[49m\u001b[43m \u001b[49m\u001b[43mhemi\u001b[49m\u001b[38;5;241;43m=\u001b[39;49m\u001b[43mhemi\u001b[49m\u001b[43m,\u001b[49m\u001b[43m \u001b[49m\u001b[43mbackground\u001b[49m\u001b[38;5;241;43m=\u001b[39;49m\u001b[43mbackground\u001b[49m\u001b[43m,\u001b[49m\n\u001b[0;32m    401\u001b[0m \u001b[43m              \u001b[49m\u001b[43mshow\u001b[49m\u001b[38;5;241;43m=\u001b[39;49m\u001b[43mshow\u001b[49m\u001b[43m)\u001b[49m\n\u001b[0;32m    403\u001b[0m \u001b[38;5;28;01mreturn\u001b[39;00m fig\n",
            "File \u001b[1;32m~\\Desktop\\GlobalLocal\\IEEG_Pipelines\\ieeg\\viz\\mri.py:617\u001b[0m, in \u001b[0;36mplot_subj\u001b[1;34m(inst, subj_dir, picks, no_wm, labels_every, surface, hemi, fig, trans, color, size, show, background, title, units, transparency)\u001b[0m\n\u001b[0;32m    614\u001b[0m \u001b[38;5;28;01mif\u001b[39;00m \u001b[38;5;28misinstance\u001b[39m(picks[\u001b[38;5;241m0\u001b[39m], \u001b[38;5;28mstr\u001b[39m):\n\u001b[0;32m    615\u001b[0m     picks \u001b[38;5;241m=\u001b[39m mne\u001b[38;5;241m.\u001b[39mpick_channels(info\u001b[38;5;241m.\u001b[39mch_names, picks)\n\u001b[1;32m--> 617\u001b[0m info: mne\u001b[38;5;241m.\u001b[39mInfo \u001b[38;5;241m=\u001b[39m \u001b[43mmne\u001b[49m\u001b[38;5;241;43m.\u001b[39;49m\u001b[43mpick_info\u001b[49m\u001b[43m(\u001b[49m\u001b[43minfo\u001b[49m\u001b[43m,\u001b[49m\u001b[43m \u001b[49m\u001b[43mpicks\u001b[49m\u001b[43m)\u001b[49m\n\u001b[0;32m    619\u001b[0m \u001b[38;5;66;03m# fig.add_sensors(info, trans)\u001b[39;00m\n\u001b[0;32m    620\u001b[0m montage \u001b[38;5;241m=\u001b[39m info\u001b[38;5;241m.\u001b[39mget_montage()\n",
            "File \u001b[1;32m<decorator-gen-9>:12\u001b[0m, in \u001b[0;36mpick_info\u001b[1;34m(info, sel, copy, verbose)\u001b[0m\n",
            "File \u001b[1;32mc:\\Users\\jz421\\AppData\\Local\\anaconda3\\envs\\ieeg\\Lib\\site-packages\\mne\\_fiff\\pick.py:652\u001b[0m, in \u001b[0;36mpick_info\u001b[1;34m(info, sel, copy, verbose)\u001b[0m\n\u001b[0;32m    650\u001b[0m     \u001b[38;5;28;01mreturn\u001b[39;00m info\n\u001b[0;32m    651\u001b[0m \u001b[38;5;28;01melif\u001b[39;00m \u001b[38;5;28mlen\u001b[39m(sel) \u001b[38;5;241m==\u001b[39m \u001b[38;5;241m0\u001b[39m:\n\u001b[1;32m--> 652\u001b[0m     \u001b[38;5;28;01mraise\u001b[39;00m \u001b[38;5;167;01mValueError\u001b[39;00m(\u001b[38;5;124m\"\u001b[39m\u001b[38;5;124mNo channels match the selection.\u001b[39m\u001b[38;5;124m\"\u001b[39m)\n\u001b[0;32m    653\u001b[0m n_unique \u001b[38;5;241m=\u001b[39m \u001b[38;5;28mlen\u001b[39m(np\u001b[38;5;241m.\u001b[39munique(np\u001b[38;5;241m.\u001b[39marange(\u001b[38;5;28mlen\u001b[39m(info[\u001b[38;5;124m\"\u001b[39m\u001b[38;5;124mch_names\u001b[39m\u001b[38;5;124m\"\u001b[39m]))[sel]))\n\u001b[0;32m    654\u001b[0m \u001b[38;5;28;01mif\u001b[39;00m n_unique \u001b[38;5;241m!=\u001b[39m \u001b[38;5;28mlen\u001b[39m(sel):\n",
            "\u001b[1;31mValueError\u001b[0m: No channels match the selection."
          ]
        }
      ],
      "source": [
        "allSigElectrodes\n",
        "subjects = []\n",
        "length = 0\n",
        "elecs = []\n",
        "for subject, electrodes in allSigElectrodes.items():\n",
        "    info = subject_to_info(subject)\n",
        "    for electrode in electrodes:\n",
        "        elecs.append(length + info['ch_names'].index(electrode))\n",
        "    length += len(info['ch_names'])\n",
        "    subjects.append(subject)\n",
        "\n",
        "fig = plot_on_average(subjects, picks='D57-RMMF14', rm_wm=False, hemi='both', color=(1, 1, 0), size=0.4, transparency=0.2)\n",
        "# plot_on_average(subjects, rm_wm=False, hemi='both', color=(1, 1, 1), fig=fig)"
      ]
    },
    {
      "cell_type": "markdown",
      "metadata": {},
      "source": [
        "plot sig for congruency at any time window and also sig for interaction between congruency and congruency proportion at any time window 3/25  \n",
        "\n",
        "this is for all electrodes"
      ]
    },
    {
      "cell_type": "code",
      "execution_count": 52,
      "metadata": {},
      "outputs": [],
      "source": [
        "LAB_root = None\n",
        "channels = None\n",
        "full_trial_base = False\n",
        "task = 'GlobalLocal'\n",
        "if LAB_root is None:\n",
        "    HOME = os.path.expanduser(\"~\")\n",
        "    if os.name == 'nt':  # windows\n",
        "        LAB_root = os.path.join(HOME, \"Box\", \"CoganLab\")\n",
        "    else:  # mac\n",
        "        LAB_root = os.path.join(HOME, \"Library\", \"CloudStorage\", \"Box-Box\",\n",
        "                                \"CoganLab\")\n",
        "\n",
        "layout = get_data(task, root=LAB_root)\n",
        "save_dir = os.path.join(layout.root, 'derivatives', 'freqFilt', 'figs')\n",
        "\n",
        "congruency_congruencyProportion_structure_file_path = os.path.join(save_dir, 'congruency_congruencyProportion_ANOVAwithinElectrodes_significantEffectsStructure_wholeBrainAnalysis.txt')\n",
        "with open(congruency_congruencyProportion_structure_file_path, 'r') as file:\n",
        "    congruency_congruencyProportion_structure = json.load(file)\n",
        "\n",
        "switchType_switchProportion_structure_file_path = os.path.join(save_dir, 'switchType_switchProportion_ANOVAwithinElectrodes_significantEffectsStructure_wholeBrainAnalysis.txt')\n",
        "with open(switchType_switchProportion_structure_file_path, 'r') as file:\n",
        "    switchType_switchProportion_structure = json.load(file)\n",
        "\n",
        "congruency_switchType_structure_file_path = os.path.join(save_dir, 'congruency_switchType_ANOVAwithinElectrodes_significantEffectsStructure_wholeBrainAnalysis.txt')\n",
        "with open(congruency_switchType_structure_file_path, 'r') as file:\n",
        "    congruency_switchType_structure = json.load(file)"
      ]
    },
    {
      "cell_type": "markdown",
      "metadata": {},
      "source": [
        "this is just for lpfc 4/1"
      ]
    },
    {
      "cell_type": "code",
      "execution_count": 53,
      "metadata": {},
      "outputs": [],
      "source": [
        "LAB_root = None\n",
        "channels = None\n",
        "full_trial_base = False\n",
        "task = 'GlobalLocal'\n",
        "if LAB_root is None:\n",
        "    HOME = os.path.expanduser(\"~\")\n",
        "    if os.name == 'nt':  # windows\n",
        "        LAB_root = os.path.join(HOME, \"Box\", \"CoganLab\")\n",
        "    else:  # mac\n",
        "        LAB_root = os.path.join(HOME, \"Library\", \"CloudStorage\", \"Box-Box\",\n",
        "                                \"CoganLab\")\n",
        "\n",
        "layout = get_data(task, root=LAB_root)\n",
        "save_dir = os.path.join(layout.root, 'derivatives', 'freqFilt', 'figs')\n",
        "roi = 'lpfc'\n",
        "\n",
        "# congruency_congruencyProportion_structure_file_path = os.path.join(save_dir, 'congruency_congruencyProportion_ANOVAwithinElectrodes_significantEffectsStructure_{roi}.txt')\n",
        "# with open(congruency_congruencyProportion_structure_file_path, 'r') as file:\n",
        "#     congruency_congruencyProportion_structure = json.load(file)\n",
        "\n",
        "# switchType_switchProportion_structure_file_path = os.path.join(save_dir, 'switchType_switchProportion_ANOVAwithinElectrodes_significantEffectsStructure_{roi}.txt')\n",
        "# with open(switchType_switchProportion_structure_file_path, 'r') as file:\n",
        "#     switchType_switchProportion_structure = json.load(file)\n",
        "\n",
        "congruency_switchType_structure_file_path = os.path.join(save_dir, f'congruency_switchType_ANOVAwithinElectrodes_significantEffectsStructure_{roi}.txt')\n",
        "with open(congruency_switchType_structure_file_path, 'r') as file:\n",
        "    congruency_switchType_structure = json.load(file)"
      ]
    },
    {
      "cell_type": "markdown",
      "metadata": {},
      "source": [
        "whole brain plotting setup (old as of 4/1, delete once the other method works for whole brain plotting)"
      ]
    },
    {
      "cell_type": "code",
      "execution_count": 68,
      "metadata": {},
      "outputs": [
        {
          "name": "stderr",
          "output_type": "stream",
          "text": [
            "C:\\Users\\jz421\\Desktop\\GlobalLocal\\IEEG_Pipelines\\ieeg\\viz\\mri.py:756: RuntimeWarning: Fiducial point lpa not found, assuming identity RAS (non-zero origin) to head transformation\n",
            "  info.set_montage(montage)\n",
            "C:\\Users\\jz421\\Desktop\\GlobalLocal\\IEEG_Pipelines\\ieeg\\viz\\mri.py:756: RuntimeWarning: Fiducial point lpa not found, assuming identity RAS (non-zero origin) to head transformation\n",
            "  info.set_montage(montage)\n",
            "C:\\Users\\jz421\\Desktop\\GlobalLocal\\IEEG_Pipelines\\ieeg\\viz\\mri.py:756: RuntimeWarning: Fiducial point lpa not found, assuming identity RAS (non-zero origin) to head transformation\n",
            "  info.set_montage(montage)\n",
            "C:\\Users\\jz421\\Desktop\\GlobalLocal\\IEEG_Pipelines\\ieeg\\viz\\mri.py:756: RuntimeWarning: Fiducial point lpa not found, assuming identity RAS (non-zero origin) to head transformation\n",
            "  info.set_montage(montage)\n",
            "C:\\Users\\jz421\\Desktop\\GlobalLocal\\IEEG_Pipelines\\ieeg\\viz\\mri.py:756: RuntimeWarning: Fiducial point lpa not found, assuming identity RAS (non-zero origin) to head transformation\n",
            "  info.set_montage(montage)\n",
            "C:\\Users\\jz421\\Desktop\\GlobalLocal\\IEEG_Pipelines\\ieeg\\viz\\mri.py:756: RuntimeWarning: Fiducial point lpa not found, assuming identity RAS (non-zero origin) to head transformation\n",
            "  info.set_montage(montage)\n",
            "C:\\Users\\jz421\\Desktop\\GlobalLocal\\IEEG_Pipelines\\ieeg\\viz\\mri.py:756: RuntimeWarning: Fiducial point lpa not found, assuming identity RAS (non-zero origin) to head transformation\n",
            "  info.set_montage(montage)\n",
            "C:\\Users\\jz421\\Desktop\\GlobalLocal\\IEEG_Pipelines\\ieeg\\viz\\mri.py:756: RuntimeWarning: Fiducial point lpa not found, assuming identity RAS (non-zero origin) to head transformation\n",
            "  info.set_montage(montage)\n",
            "C:\\Users\\jz421\\Desktop\\GlobalLocal\\IEEG_Pipelines\\ieeg\\viz\\mri.py:756: RuntimeWarning: Fiducial point lpa not found, assuming identity RAS (non-zero origin) to head transformation\n",
            "  info.set_montage(montage)\n"
          ]
        }
      ],
      "source": [
        "congruency_elecs = []\n",
        "switchType_elecs = []\n",
        "congruency_congruencyProportion_elecs = []\n",
        "switchType_switchProportion_elecs = []\n",
        "congruency_switchType_elecs = []\n",
        "\n",
        "subjects = []\n",
        "added_elecs_congruency = set()  # To keep track of added electrodes for congruency\n",
        "added_elecs_congruency_congruencyProportion = set()  # To keep track of added electrodes for congruency_congruencyProportion\n",
        "\n",
        "added_elecs_switchType = set()  # To keep track of added electrodes for switch type\n",
        "added_elecs_switchType_switchProportion = set()  # To keep track of added electrodes for switchType_switchProportion\n",
        "\n",
        "added_elecs_congruency_switchType = set()  # To keep track of added electrodes for congruency_switchType\n",
        "\n",
        "def process_effects_whole_brain_analysis(electrode, time_windows, subject_without_zeroes, info, length, effect_name, elecs_list, added_elecs_set):\n",
        "    \"\"\"A helper function to process electrode effects and update lists and sets accordingly.\"\"\"\n",
        "    for time_window, effects in time_windows.items():\n",
        "        for effect_and_p_value in effects:\n",
        "            if effect_and_p_value[0] == effect_name and (subject_without_zeroes, electrode) not in added_elecs_set:\n",
        "                elecs_list.append(length + info['ch_names'].index(electrode))\n",
        "                added_elecs_set.add((subject_without_zeroes, electrode))\n",
        "                \n",
        "# Assuming all structures have the same subjects...\n",
        "length = 0\n",
        "for subject in congruency_switchType_structure:\n",
        "    subject_without_zeroes = \"D\" + subject[1:].lstrip('0')\n",
        "    info = subject_to_info(subject_without_zeroes)\n",
        "\n",
        "    # Ensure each subject is only added once\n",
        "    if subject_without_zeroes not in subjects:\n",
        "        subjects.append(subject_without_zeroes)\n",
        "\n",
        "    current_subject_length = len(info['ch_names'])\n",
        "\n",
        "    # # Process congruency and congruency:congruencyProportion effects\n",
        "    # electrodes_dict_congruency_congruencyProportion = congruency_congruencyProportion_structure[subject]\n",
        "    # for electrode, time_windows in electrodes_dict_congruency_congruencyProportion.items():\n",
        "    #     process_effects_whole_brain_analysis(electrode, time_windows, subject_without_zeroes, info, length, 'congruency', congruency_elecs, added_elecs_congruency)\n",
        "    #     process_effects_whole_brain_analysis(electrode, time_windows, subject_without_zeroes, info, length, 'congruency:congruencyProportion', congruency_congruencyProportion_elecs, added_elecs_congruency_congruencyProportion)\n",
        "\n",
        "    # # Process switchType and switchType:switchProportion effects\n",
        "    # electrodes_dict_switchType_switchProportion = switchType_switchProportion_structure.get(subject, {})\n",
        "    # for electrode, time_windows in electrodes_dict_switchType_switchProportion.items():\n",
        "    #     process_effects_whole_brain_analysis(electrode, time_windows, subject_without_zeroes, info, length, 'switchType', switchType_elecs, added_elecs_switchType)\n",
        "    #     process_effects_whole_brain_analysis(electrode, time_windows, subject_without_zeroes, info, length, 'switchType:switchProportion', switchType_switchProportion_elecs, added_elecs_switchType_switchProportion)\n",
        "\n",
        "    # Process congruency and switch type interaction effect\n",
        "    electrodes_dict_congruency_switchType = congruency_switchType_structure.get(subject, {})\n",
        "    for electrode, time_windows in electrodes_dict_congruency_switchType.items():\n",
        "        process_effects_whole_brain_analysis(electrode, time_windows, subject_without_zeroes, info, length, 'congruency', congruency_elecs, added_elecs_congruency) # this is a duplicate so don't run this if already have congruency_elecs\n",
        "        process_effects_whole_brain_analysis(electrode, time_windows, subject_without_zeroes, info, length, 'switchType', switchType_elecs, added_elecs_switchType) # this is a duplicate so don't run this if already have switchType_elecs\n",
        "        process_effects_whole_brain_analysis(electrode, time_windows, subject_without_zeroes, info, length, 'congruency:switchType', congruency_switchType_elecs, added_elecs_congruency_switchType)\n",
        "\n",
        "    length += current_subject_length  # Update length after processing each subject"
      ]
    },
    {
      "cell_type": "markdown",
      "metadata": {},
      "source": [
        "adapt whole brain setup so it works with roi plotting too 4/1"
      ]
    },
    {
      "cell_type": "code",
      "execution_count": 61,
      "metadata": {},
      "outputs": [
        {
          "name": "stderr",
          "output_type": "stream",
          "text": [
            "C:\\Users\\jz421\\Desktop\\GlobalLocal\\IEEG_Pipelines\\ieeg\\viz\\mri.py:756: RuntimeWarning: Fiducial point lpa not found, assuming identity RAS (non-zero origin) to head transformation\n",
            "  info.set_montage(montage)\n",
            "C:\\Users\\jz421\\Desktop\\GlobalLocal\\IEEG_Pipelines\\ieeg\\viz\\mri.py:756: RuntimeWarning: Fiducial point lpa not found, assuming identity RAS (non-zero origin) to head transformation\n",
            "  info.set_montage(montage)\n",
            "C:\\Users\\jz421\\Desktop\\GlobalLocal\\IEEG_Pipelines\\ieeg\\viz\\mri.py:756: RuntimeWarning: Fiducial point lpa not found, assuming identity RAS (non-zero origin) to head transformation\n",
            "  info.set_montage(montage)\n",
            "C:\\Users\\jz421\\Desktop\\GlobalLocal\\IEEG_Pipelines\\ieeg\\viz\\mri.py:756: RuntimeWarning: Fiducial point lpa not found, assuming identity RAS (non-zero origin) to head transformation\n",
            "  info.set_montage(montage)\n",
            "C:\\Users\\jz421\\Desktop\\GlobalLocal\\IEEG_Pipelines\\ieeg\\viz\\mri.py:756: RuntimeWarning: Fiducial point lpa not found, assuming identity RAS (non-zero origin) to head transformation\n",
            "  info.set_montage(montage)\n",
            "C:\\Users\\jz421\\Desktop\\GlobalLocal\\IEEG_Pipelines\\ieeg\\viz\\mri.py:756: RuntimeWarning: Fiducial point lpa not found, assuming identity RAS (non-zero origin) to head transformation\n",
            "  info.set_montage(montage)\n",
            "C:\\Users\\jz421\\Desktop\\GlobalLocal\\IEEG_Pipelines\\ieeg\\viz\\mri.py:756: RuntimeWarning: Fiducial point lpa not found, assuming identity RAS (non-zero origin) to head transformation\n",
            "  info.set_montage(montage)\n",
            "C:\\Users\\jz421\\Desktop\\GlobalLocal\\IEEG_Pipelines\\ieeg\\viz\\mri.py:756: RuntimeWarning: Fiducial point lpa not found, assuming identity RAS (non-zero origin) to head transformation\n",
            "  info.set_montage(montage)\n",
            "C:\\Users\\jz421\\Desktop\\GlobalLocal\\IEEG_Pipelines\\ieeg\\viz\\mri.py:756: RuntimeWarning: Fiducial point lpa not found, assuming identity RAS (non-zero origin) to head transformation\n",
            "  info.set_montage(montage)\n"
          ]
        }
      ],
      "source": [
        "# Assuming all structures have the same subjects...\n",
        "subjects_without_zeroes = [\"D\" + subj[1:].lstrip('0') for subj in subjects]\n",
        "\n",
        "congruency_elecs = []\n",
        "switchType_elecs = []\n",
        "congruency_congruencyProportion_elecs = []\n",
        "switchType_switchProportion_elecs = []\n",
        "congruency_switchType_elecs = []\n",
        "\n",
        "added_elecs_congruency = set()  # To keep track of added electrodes for congruency\n",
        "added_elecs_congruency_congruencyProportion = set()  # To keep track of added electrodes for congruency_congruencyProportion\n",
        "\n",
        "added_elecs_switchType = set()  # To keep track of added electrodes for switch type\n",
        "added_elecs_switchType_switchProportion = set()  # To keep track of added electrodes for switchType_switchProportion\n",
        "\n",
        "added_elecs_congruency_switchType = set()  # To keep track of added electrodes for congruency_switchType\n",
        "\n",
        "def process_effects_whole_brain_analysis(electrode, time_windows, subject_without_zeroes, info, length, effect_name, elecs_list, added_elecs_set):\n",
        "    \"\"\"A helper function to process electrode effects and update lists and sets accordingly.\"\"\"\n",
        "    for time_window, effects in time_windows.items():\n",
        "        for effect_and_p_value in effects:\n",
        "            if effect_and_p_value[0] == effect_name and (subject_without_zeroes, electrode) not in added_elecs_set:\n",
        "                elecs_list.append(length + info['ch_names'].index(electrode))\n",
        "                added_elecs_set.add((subject_without_zeroes, electrode))\n",
        "                \n",
        "length = 0\n",
        "ch_names = []\n",
        "for subject in subjects:\n",
        "    subject_without_zeroes = \"D\" + subject[1:].lstrip('0')\n",
        "    info = subject_to_info(subject_without_zeroes)\n",
        "\n",
        "    ch_names += ['-'.join([subject, n]) for n in info['ch_names']] #get a list of all channel names\n",
        "    current_subject_length = len(info['ch_names'])\n",
        "\n",
        "    # # Process congruency and congruency:congruencyProportion effects\n",
        "    # electrodes_dict_congruency_congruencyProportion = congruency_congruencyProportion_structure[subject]\n",
        "    # for electrode, time_windows in electrodes_dict_congruency_congruencyProportion.items():\n",
        "    #     process_effects_whole_brain_analysis(electrode, time_windows, subject_without_zeroes, info, length, 'congruency', congruency_elecs, added_elecs_congruency)\n",
        "    #     process_effects_whole_brain_analysis(electrode, time_windows, subject_without_zeroes, info, length, 'congruency:congruencyProportion', congruency_congruencyProportion_elecs, added_elecs_congruency_congruencyProportion)\n",
        "\n",
        "    # # Process switchType and switchType:switchProportion effects\n",
        "    # electrodes_dict_switchType_switchProportion = switchType_switchProportion_structure.get(subject, {})\n",
        "    # for electrode, time_windows in electrodes_dict_switchType_switchProportion.items():\n",
        "    #     process_effects_whole_brain_analysis(electrode, time_windows, subject_without_zeroes, info, length, 'switchType', switchType_elecs, added_elecs_switchType)\n",
        "    #     process_effects_whole_brain_analysis(electrode, time_windows, subject_without_zeroes, info, length, 'switchType:switchProportion', switchType_switchProportion_elecs, added_elecs_switchType_switchProportion)\n",
        "\n",
        "    # Process congruency and switch type interaction effect\n",
        "    if congruency_switchType_structure and subject in congruency_switchType_structure:\n",
        "        electrodes_dict_congruency_switchType = congruency_switchType_structure.get(subject, {})\n",
        "        for electrode, time_windows in electrodes_dict_congruency_switchType.items():\n",
        "            process_effects_whole_brain_analysis(electrode, time_windows, subject_without_zeroes, info, length, 'congruency', congruency_elecs, added_elecs_congruency) # delete this line if i use congruency_congruencyProportion\n",
        "            process_effects_whole_brain_analysis(electrode, time_windows, subject_without_zeroes, info, length, 'switchType', switchType_elecs, added_elecs_switchType) # delete this line if i use switchType_switchProportion\n",
        "            process_effects_whole_brain_analysis(electrode, time_windows, subject_without_zeroes, info, length, 'congruency:switchType', congruency_switchType_elecs, added_elecs_congruency_switchType)\n",
        "\n",
        "\n",
        "    length += current_subject_length  # Update length after processing each subject"
      ]
    },
    {
      "cell_type": "markdown",
      "metadata": {},
      "source": [
        "plot unique congruency, unique congruency and congruency proportion interaction, and also their overlap"
      ]
    },
    {
      "cell_type": "code",
      "execution_count": 26,
      "metadata": {},
      "outputs": [
        {
          "name": "stderr",
          "output_type": "stream",
          "text": [
            "C:\\Users\\jz421\\Desktop\\GlobalLocal\\IEEG_Pipelines\\ieeg\\viz\\mri.py:756: RuntimeWarning: Fiducial point lpa not found, assuming identity RAS (non-zero origin) to head transformation\n",
            "  info.set_montage(montage)\n",
            "C:\\Users\\jz421\\Desktop\\GlobalLocal\\IEEG_Pipelines\\ieeg\\viz\\mri.py:756: RuntimeWarning: Fiducial point lpa not found, assuming identity RAS (non-zero origin) to head transformation\n",
            "  info.set_montage(montage)\n",
            "C:\\Users\\jz421\\Desktop\\GlobalLocal\\IEEG_Pipelines\\ieeg\\viz\\mri.py:756: RuntimeWarning: Fiducial point lpa not found, assuming identity RAS (non-zero origin) to head transformation\n",
            "  info.set_montage(montage)\n",
            "C:\\Users\\jz421\\Desktop\\GlobalLocal\\IEEG_Pipelines\\ieeg\\viz\\mri.py:756: RuntimeWarning: Fiducial point lpa not found, assuming identity RAS (non-zero origin) to head transformation\n",
            "  info.set_montage(montage)\n",
            "C:\\Users\\jz421\\Desktop\\GlobalLocal\\IEEG_Pipelines\\ieeg\\viz\\mri.py:756: RuntimeWarning: Fiducial point lpa not found, assuming identity RAS (non-zero origin) to head transformation\n",
            "  info.set_montage(montage)\n",
            "C:\\Users\\jz421\\Desktop\\GlobalLocal\\IEEG_Pipelines\\ieeg\\viz\\mri.py:756: RuntimeWarning: Fiducial point lpa not found, assuming identity RAS (non-zero origin) to head transformation\n",
            "  info.set_montage(montage)\n",
            "C:\\Users\\jz421\\Desktop\\GlobalLocal\\IEEG_Pipelines\\ieeg\\viz\\mri.py:756: RuntimeWarning: Fiducial point lpa not found, assuming identity RAS (non-zero origin) to head transformation\n",
            "  info.set_montage(montage)\n",
            "C:\\Users\\jz421\\Desktop\\GlobalLocal\\IEEG_Pipelines\\ieeg\\viz\\mri.py:756: RuntimeWarning: Fiducial point lpa not found, assuming identity RAS (non-zero origin) to head transformation\n",
            "  info.set_montage(montage)\n",
            "C:\\Users\\jz421\\Desktop\\GlobalLocal\\IEEG_Pipelines\\ieeg\\viz\\mri.py:756: RuntimeWarning: Fiducial point lpa not found, assuming identity RAS (non-zero origin) to head transformation\n",
            "  info.set_montage(montage)\n",
            "C:\\Users\\jz421\\Desktop\\GlobalLocal\\IEEG_Pipelines\\ieeg\\viz\\mri.py:756: RuntimeWarning: Fiducial point lpa not found, assuming identity RAS (non-zero origin) to head transformation\n",
            "  info.set_montage(montage)\n",
            "C:\\Users\\jz421\\Desktop\\GlobalLocal\\IEEG_Pipelines\\ieeg\\viz\\mri.py:756: RuntimeWarning: Fiducial point lpa not found, assuming identity RAS (non-zero origin) to head transformation\n",
            "  info.set_montage(montage)\n",
            "C:\\Users\\jz421\\Desktop\\GlobalLocal\\IEEG_Pipelines\\ieeg\\viz\\mri.py:756: RuntimeWarning: Fiducial point lpa not found, assuming identity RAS (non-zero origin) to head transformation\n",
            "  info.set_montage(montage)\n",
            "C:\\Users\\jz421\\Desktop\\GlobalLocal\\IEEG_Pipelines\\ieeg\\viz\\mri.py:756: RuntimeWarning: Fiducial point lpa not found, assuming identity RAS (non-zero origin) to head transformation\n",
            "  info.set_montage(montage)\n",
            "C:\\Users\\jz421\\Desktop\\GlobalLocal\\IEEG_Pipelines\\ieeg\\viz\\mri.py:756: RuntimeWarning: Fiducial point lpa not found, assuming identity RAS (non-zero origin) to head transformation\n",
            "  info.set_montage(montage)\n",
            "C:\\Users\\jz421\\Desktop\\GlobalLocal\\IEEG_Pipelines\\ieeg\\viz\\mri.py:756: RuntimeWarning: Fiducial point lpa not found, assuming identity RAS (non-zero origin) to head transformation\n",
            "  info.set_montage(montage)\n",
            "C:\\Users\\jz421\\Desktop\\GlobalLocal\\IEEG_Pipelines\\ieeg\\viz\\mri.py:756: RuntimeWarning: Fiducial point lpa not found, assuming identity RAS (non-zero origin) to head transformation\n",
            "  info.set_montage(montage)\n",
            "C:\\Users\\jz421\\Desktop\\GlobalLocal\\IEEG_Pipelines\\ieeg\\viz\\mri.py:756: RuntimeWarning: Fiducial point lpa not found, assuming identity RAS (non-zero origin) to head transformation\n",
            "  info.set_montage(montage)\n",
            "C:\\Users\\jz421\\Desktop\\GlobalLocal\\IEEG_Pipelines\\ieeg\\viz\\mri.py:756: RuntimeWarning: Fiducial point lpa not found, assuming identity RAS (non-zero origin) to head transformation\n",
            "  info.set_montage(montage)\n",
            "C:\\Users\\jz421\\Desktop\\GlobalLocal\\IEEG_Pipelines\\ieeg\\viz\\mri.py:756: RuntimeWarning: Fiducial point lpa not found, assuming identity RAS (non-zero origin) to head transformation\n",
            "  info.set_montage(montage)\n",
            "C:\\Users\\jz421\\Desktop\\GlobalLocal\\IEEG_Pipelines\\ieeg\\viz\\mri.py:756: RuntimeWarning: Fiducial point lpa not found, assuming identity RAS (non-zero origin) to head transformation\n",
            "  info.set_montage(montage)\n",
            "C:\\Users\\jz421\\Desktop\\GlobalLocal\\IEEG_Pipelines\\ieeg\\viz\\mri.py:756: RuntimeWarning: Fiducial point lpa not found, assuming identity RAS (non-zero origin) to head transformation\n",
            "  info.set_montage(montage)\n",
            "C:\\Users\\jz421\\Desktop\\GlobalLocal\\IEEG_Pipelines\\ieeg\\viz\\mri.py:756: RuntimeWarning: Fiducial point lpa not found, assuming identity RAS (non-zero origin) to head transformation\n",
            "  info.set_montage(montage)\n",
            "C:\\Users\\jz421\\Desktop\\GlobalLocal\\IEEG_Pipelines\\ieeg\\viz\\mri.py:756: RuntimeWarning: Fiducial point lpa not found, assuming identity RAS (non-zero origin) to head transformation\n",
            "  info.set_montage(montage)\n",
            "C:\\Users\\jz421\\Desktop\\GlobalLocal\\IEEG_Pipelines\\ieeg\\viz\\mri.py:756: RuntimeWarning: Fiducial point lpa not found, assuming identity RAS (non-zero origin) to head transformation\n",
            "  info.set_montage(montage)\n",
            "C:\\Users\\jz421\\Desktop\\GlobalLocal\\IEEG_Pipelines\\ieeg\\viz\\mri.py:756: RuntimeWarning: Fiducial point lpa not found, assuming identity RAS (non-zero origin) to head transformation\n",
            "  info.set_montage(montage)\n",
            "C:\\Users\\jz421\\Desktop\\GlobalLocal\\IEEG_Pipelines\\ieeg\\viz\\mri.py:756: RuntimeWarning: Fiducial point lpa not found, assuming identity RAS (non-zero origin) to head transformation\n",
            "  info.set_montage(montage)\n",
            "C:\\Users\\jz421\\Desktop\\GlobalLocal\\IEEG_Pipelines\\ieeg\\viz\\mri.py:756: RuntimeWarning: Fiducial point lpa not found, assuming identity RAS (non-zero origin) to head transformation\n",
            "  info.set_montage(montage)\n",
            "C:\\Users\\jz421\\Desktop\\GlobalLocal\\IEEG_Pipelines\\ieeg\\viz\\mri.py:756: RuntimeWarning: Fiducial point lpa not found, assuming identity RAS (non-zero origin) to head transformation\n",
            "  info.set_montage(montage)\n",
            "C:\\Users\\jz421\\Desktop\\GlobalLocal\\IEEG_Pipelines\\ieeg\\viz\\mri.py:756: RuntimeWarning: Fiducial point lpa not found, assuming identity RAS (non-zero origin) to head transformation\n",
            "  info.set_montage(montage)\n",
            "C:\\Users\\jz421\\Desktop\\GlobalLocal\\IEEG_Pipelines\\ieeg\\viz\\mri.py:756: RuntimeWarning: Fiducial point lpa not found, assuming identity RAS (non-zero origin) to head transformation\n",
            "  info.set_montage(montage)\n",
            "C:\\Users\\jz421\\Desktop\\GlobalLocal\\IEEG_Pipelines\\ieeg\\viz\\mri.py:756: RuntimeWarning: Fiducial point lpa not found, assuming identity RAS (non-zero origin) to head transformation\n",
            "  info.set_montage(montage)\n",
            "C:\\Users\\jz421\\Desktop\\GlobalLocal\\IEEG_Pipelines\\ieeg\\viz\\mri.py:756: RuntimeWarning: Fiducial point lpa not found, assuming identity RAS (non-zero origin) to head transformation\n",
            "  info.set_montage(montage)\n",
            "C:\\Users\\jz421\\Desktop\\GlobalLocal\\IEEG_Pipelines\\ieeg\\viz\\mri.py:756: RuntimeWarning: Fiducial point lpa not found, assuming identity RAS (non-zero origin) to head transformation\n",
            "  info.set_montage(montage)\n"
          ]
        }
      ],
      "source": [
        "# Convert lists to sets for set operations\n",
        "congruency_elecs_set = set(congruency_elecs)\n",
        "congruency_congruencyProportion_elecs_set = set(congruency_congruencyProportion_elecs)\n",
        "\n",
        "# Find overlapping electrodes (present in both lists)\n",
        "overlap_congruencyEffectAndLWPC_elecs = congruency_elecs_set.intersection(congruency_congruencyProportion_elecs_set)\n",
        "\n",
        "# Find unique electrodes in congruency_elecs\n",
        "unique_congruency_elecs = congruency_elecs_set - congruency_congruencyProportion_elecs_set\n",
        "\n",
        "# Find unique electrodes in congruency_congruencyProportion_elecs\n",
        "unique_congruency_congruencyProportion_elecs = congruency_congruencyProportion_elecs_set - congruency_elecs_set\n",
        "\n",
        "# Convert sets back to lists if necessary for plotting functions\n",
        "overlap_congruencyEffectAndLWPC_elecs_list = list(overlap_congruencyEffectAndLWPC_elecs)\n",
        "unique_congruency_elecs_list = list(unique_congruency_elecs)\n",
        "unique_congruency_congruencyProportion_elecs_list = list(unique_congruency_congruencyProportion_elecs)\n",
        "\n",
        "# Plotting\n",
        "# Plot unique electrodes for congruency in one color\n",
        "fig = plot_on_average(subjects, picks=unique_congruency_elecs_list, rm_wm=False, hemi='both', color=(1, 0, 0), size=0.35, label_every=1)\n",
        "\n",
        "# Plot unique electrodes for congruency:congruencyProportion in another color\n",
        "fig = plot_on_average(subjects, picks=unique_congruency_congruencyProportion_elecs_list, rm_wm=False, hemi='both', color=(0.5, 0, 0.5), size=0.35, fig=fig)\n",
        "\n",
        "# Plot overlapping electrodes in black\n",
        "fig = plot_on_average(subjects, picks=overlap_congruencyEffectAndLWPC_elecs_list, rm_wm=False, hemi='both', color=(0, 0, 0), size=0.35, fig=fig)\n",
        "\n",
        "my_names = [ch_names[i] for i in unique_switchType_elecs]"
      ]
    },
    {
      "cell_type": "markdown",
      "metadata": {},
      "source": [
        "plot switch type and switch type:switchProportion"
      ]
    },
    {
      "cell_type": "code",
      "execution_count": 78,
      "metadata": {},
      "outputs": [
        {
          "name": "stderr",
          "output_type": "stream",
          "text": [
            "C:\\Users\\jz421\\Desktop\\GlobalLocal\\IEEG_Pipelines\\ieeg\\viz\\mri.py:756: RuntimeWarning: Fiducial point lpa not found, assuming identity RAS (non-zero origin) to head transformation\n",
            "  info.set_montage(montage)\n",
            "C:\\Users\\jz421\\Desktop\\GlobalLocal\\IEEG_Pipelines\\ieeg\\viz\\mri.py:756: RuntimeWarning: Fiducial point lpa not found, assuming identity RAS (non-zero origin) to head transformation\n",
            "  info.set_montage(montage)\n",
            "C:\\Users\\jz421\\Desktop\\GlobalLocal\\IEEG_Pipelines\\ieeg\\viz\\mri.py:756: RuntimeWarning: Fiducial point lpa not found, assuming identity RAS (non-zero origin) to head transformation\n",
            "  info.set_montage(montage)\n",
            "C:\\Users\\jz421\\Desktop\\GlobalLocal\\IEEG_Pipelines\\ieeg\\viz\\mri.py:756: RuntimeWarning: Fiducial point lpa not found, assuming identity RAS (non-zero origin) to head transformation\n",
            "  info.set_montage(montage)\n",
            "C:\\Users\\jz421\\Desktop\\GlobalLocal\\IEEG_Pipelines\\ieeg\\viz\\mri.py:756: RuntimeWarning: Fiducial point lpa not found, assuming identity RAS (non-zero origin) to head transformation\n",
            "  info.set_montage(montage)\n",
            "C:\\Users\\jz421\\Desktop\\GlobalLocal\\IEEG_Pipelines\\ieeg\\viz\\mri.py:756: RuntimeWarning: Fiducial point lpa not found, assuming identity RAS (non-zero origin) to head transformation\n",
            "  info.set_montage(montage)\n",
            "C:\\Users\\jz421\\Desktop\\GlobalLocal\\IEEG_Pipelines\\ieeg\\viz\\mri.py:756: RuntimeWarning: Fiducial point lpa not found, assuming identity RAS (non-zero origin) to head transformation\n",
            "  info.set_montage(montage)\n",
            "C:\\Users\\jz421\\Desktop\\GlobalLocal\\IEEG_Pipelines\\ieeg\\viz\\mri.py:756: RuntimeWarning: Fiducial point lpa not found, assuming identity RAS (non-zero origin) to head transformation\n",
            "  info.set_montage(montage)\n",
            "C:\\Users\\jz421\\Desktop\\GlobalLocal\\IEEG_Pipelines\\ieeg\\viz\\mri.py:756: RuntimeWarning: Fiducial point lpa not found, assuming identity RAS (non-zero origin) to head transformation\n",
            "  info.set_montage(montage)\n",
            "C:\\Users\\jz421\\Desktop\\GlobalLocal\\IEEG_Pipelines\\ieeg\\viz\\mri.py:756: RuntimeWarning: Fiducial point lpa not found, assuming identity RAS (non-zero origin) to head transformation\n",
            "  info.set_montage(montage)\n",
            "C:\\Users\\jz421\\Desktop\\GlobalLocal\\IEEG_Pipelines\\ieeg\\viz\\mri.py:756: RuntimeWarning: Fiducial point lpa not found, assuming identity RAS (non-zero origin) to head transformation\n",
            "  info.set_montage(montage)\n",
            "C:\\Users\\jz421\\Desktop\\GlobalLocal\\IEEG_Pipelines\\ieeg\\viz\\mri.py:756: RuntimeWarning: Fiducial point lpa not found, assuming identity RAS (non-zero origin) to head transformation\n",
            "  info.set_montage(montage)\n",
            "C:\\Users\\jz421\\Desktop\\GlobalLocal\\IEEG_Pipelines\\ieeg\\viz\\mri.py:756: RuntimeWarning: Fiducial point lpa not found, assuming identity RAS (non-zero origin) to head transformation\n",
            "  info.set_montage(montage)\n",
            "C:\\Users\\jz421\\Desktop\\GlobalLocal\\IEEG_Pipelines\\ieeg\\viz\\mri.py:756: RuntimeWarning: Fiducial point lpa not found, assuming identity RAS (non-zero origin) to head transformation\n",
            "  info.set_montage(montage)\n",
            "C:\\Users\\jz421\\Desktop\\GlobalLocal\\IEEG_Pipelines\\ieeg\\viz\\mri.py:756: RuntimeWarning: Fiducial point lpa not found, assuming identity RAS (non-zero origin) to head transformation\n",
            "  info.set_montage(montage)\n",
            "C:\\Users\\jz421\\Desktop\\GlobalLocal\\IEEG_Pipelines\\ieeg\\viz\\mri.py:756: RuntimeWarning: Fiducial point lpa not found, assuming identity RAS (non-zero origin) to head transformation\n",
            "  info.set_montage(montage)\n",
            "C:\\Users\\jz421\\Desktop\\GlobalLocal\\IEEG_Pipelines\\ieeg\\viz\\mri.py:756: RuntimeWarning: Fiducial point lpa not found, assuming identity RAS (non-zero origin) to head transformation\n",
            "  info.set_montage(montage)\n",
            "C:\\Users\\jz421\\Desktop\\GlobalLocal\\IEEG_Pipelines\\ieeg\\viz\\mri.py:756: RuntimeWarning: Fiducial point lpa not found, assuming identity RAS (non-zero origin) to head transformation\n",
            "  info.set_montage(montage)\n",
            "C:\\Users\\jz421\\Desktop\\GlobalLocal\\IEEG_Pipelines\\ieeg\\viz\\mri.py:756: RuntimeWarning: Fiducial point lpa not found, assuming identity RAS (non-zero origin) to head transformation\n",
            "  info.set_montage(montage)\n",
            "C:\\Users\\jz421\\Desktop\\GlobalLocal\\IEEG_Pipelines\\ieeg\\viz\\mri.py:756: RuntimeWarning: Fiducial point lpa not found, assuming identity RAS (non-zero origin) to head transformation\n",
            "  info.set_montage(montage)\n",
            "C:\\Users\\jz421\\Desktop\\GlobalLocal\\IEEG_Pipelines\\ieeg\\viz\\mri.py:756: RuntimeWarning: Fiducial point lpa not found, assuming identity RAS (non-zero origin) to head transformation\n",
            "  info.set_montage(montage)\n",
            "C:\\Users\\jz421\\Desktop\\GlobalLocal\\IEEG_Pipelines\\ieeg\\viz\\mri.py:756: RuntimeWarning: Fiducial point lpa not found, assuming identity RAS (non-zero origin) to head transformation\n",
            "  info.set_montage(montage)\n",
            "C:\\Users\\jz421\\Desktop\\GlobalLocal\\IEEG_Pipelines\\ieeg\\viz\\mri.py:756: RuntimeWarning: Fiducial point lpa not found, assuming identity RAS (non-zero origin) to head transformation\n",
            "  info.set_montage(montage)\n",
            "C:\\Users\\jz421\\Desktop\\GlobalLocal\\IEEG_Pipelines\\ieeg\\viz\\mri.py:756: RuntimeWarning: Fiducial point lpa not found, assuming identity RAS (non-zero origin) to head transformation\n",
            "  info.set_montage(montage)\n",
            "C:\\Users\\jz421\\Desktop\\GlobalLocal\\IEEG_Pipelines\\ieeg\\viz\\mri.py:756: RuntimeWarning: Fiducial point lpa not found, assuming identity RAS (non-zero origin) to head transformation\n",
            "  info.set_montage(montage)\n",
            "C:\\Users\\jz421\\Desktop\\GlobalLocal\\IEEG_Pipelines\\ieeg\\viz\\mri.py:756: RuntimeWarning: Fiducial point lpa not found, assuming identity RAS (non-zero origin) to head transformation\n",
            "  info.set_montage(montage)\n",
            "C:\\Users\\jz421\\Desktop\\GlobalLocal\\IEEG_Pipelines\\ieeg\\viz\\mri.py:756: RuntimeWarning: Fiducial point lpa not found, assuming identity RAS (non-zero origin) to head transformation\n",
            "  info.set_montage(montage)\n"
          ]
        }
      ],
      "source": [
        "# Convert lists to sets for set operations\n",
        "congruency_elecs_set = set(congruency_elecs)\n",
        "\n",
        "# Convert lists to sets for set operations\n",
        "switchType_elecs_set = set(switchType_elecs)\n",
        "\n",
        "switchType_switchProportion_elecs_set = set(switchType_switchProportion_elecs)\n",
        "\n",
        "# Find overlapping electrodes (present in both lists)\n",
        "overlap_switchCostAndLWPS_elecs = switchType_elecs_set.intersection(switchType_switchProportion_elecs_set)\n",
        "\n",
        "# Find unique electrodes in switch type elecs\n",
        "unique_switchType_elecs = switchType_elecs_set - switchType_switchProportion_elecs_set\n",
        "\n",
        "# Find unique electrodes in congruency_congruencyProportion_elecs\n",
        "unique_switchType_switchProportion_elecs = switchType_switchProportion_elecs_set - switchType_elecs_set\n",
        "\n",
        "# Convert sets back to lists if necessary for plotting functions\n",
        "overlap_switchCostAndLWPS_elecs_list = list(overlap_switchCostAndLWPS_elecs)\n",
        "unique_switchType_elecs_list = list(unique_switchType_elecs)\n",
        "unique_switchType_switchProportion_elecs_list = list(unique_switchType_switchProportion_elecs)\n",
        "\n",
        "# Plotting\n",
        "# Plot unique electrodes for switch type in one color\n",
        "fig = plot_on_average(subjects, picks=unique_switchType_elecs_list, rm_wm=False, hemi='both', color=(0, 1, 0), size=0.35, label_every=1)\n",
        "\n",
        "# Plot unique electrodes for switchType:switchProportion in another color\n",
        "fig = plot_on_average(subjects, picks=unique_switchType_switchProportion_elecs_list, rm_wm=False, hemi='both', color=(0.6, 1, 0.6), size=0.35, fig=fig)\n",
        "\n",
        "# Plot overlapping electrodes in black\n",
        "fig = plot_on_average(subjects, picks=overlap_switchCostAndLWPS_elecs_list, rm_wm=False, hemi='both', color=(0, 0, 0), size=0.35, fig=fig)"
      ]
    },
    {
      "cell_type": "markdown",
      "metadata": {},
      "source": [
        "plot congruency vs switch type  \n",
        "this the code that actually works 4/5"
      ]
    },
    {
      "cell_type": "code",
      "execution_count": 96,
      "metadata": {},
      "outputs": [
        {
          "data": {
            "text/plain": [
              "['D59-LMMF9',\n",
              " 'D57-RPI14',\n",
              " 'D71-RIA11',\n",
              " 'D94-LFPM12',\n",
              " 'D94-LFAM9',\n",
              " 'D94-LFAM8',\n",
              " 'D71-RFO14']"
            ]
          },
          "execution_count": 96,
          "metadata": {},
          "output_type": "execute_result"
        }
      ],
      "source": [
        "unique_switchType_elecs_names"
      ]
    },
    {
      "cell_type": "code",
      "execution_count": 97,
      "metadata": {},
      "outputs": [
        {
          "data": {
            "text/plain": [
              "['D59-LMMF12',\n",
              " 'D103-LAI13',\n",
              " 'D59-LPSF16',\n",
              " 'D71-RIA16',\n",
              " 'D90-RIA12',\n",
              " 'D94-LFAM10',\n",
              " 'D63-RMMF13',\n",
              " 'D57-RAI6',\n",
              " 'D63-RMMF10',\n",
              " 'D102-RFO13']"
            ]
          },
          "execution_count": 97,
          "metadata": {},
          "output_type": "execute_result"
        }
      ],
      "source": [
        "unique_congruency_elecs_names"
      ]
    },
    {
      "cell_type": "code",
      "execution_count": 99,
      "metadata": {},
      "outputs": [
        {
          "name": "stdout",
          "output_type": "stream",
          "text": [
            "['D0059-LMMF12', 'D0103-LAI13', 'D0059-LPSF16', 'D0071-RIA16', 'D0090-RIA12', 'D0094-LFAM10', 'D0063-RMMF13', 'D0057-RAI6', 'D0063-RMMF10', 'D0102-RFO13']\n"
          ]
        },
        {
          "name": "stderr",
          "output_type": "stream",
          "text": [
            "C:\\Users\\jz421\\Desktop\\GlobalLocal\\IEEG_Pipelines\\ieeg\\viz\\mri.py:756: RuntimeWarning: Fiducial point lpa not found, assuming identity RAS (non-zero origin) to head transformation\n",
            "  info.set_montage(montage)\n",
            "C:\\Users\\jz421\\Desktop\\GlobalLocal\\IEEG_Pipelines\\ieeg\\viz\\mri.py:756: RuntimeWarning: Fiducial point lpa not found, assuming identity RAS (non-zero origin) to head transformation\n",
            "  info.set_montage(montage)\n",
            "C:\\Users\\jz421\\Desktop\\GlobalLocal\\IEEG_Pipelines\\ieeg\\viz\\mri.py:756: RuntimeWarning: Fiducial point lpa not found, assuming identity RAS (non-zero origin) to head transformation\n",
            "  info.set_montage(montage)\n",
            "C:\\Users\\jz421\\Desktop\\GlobalLocal\\IEEG_Pipelines\\ieeg\\viz\\mri.py:756: RuntimeWarning: Fiducial point lpa not found, assuming identity RAS (non-zero origin) to head transformation\n",
            "  info.set_montage(montage)\n",
            "C:\\Users\\jz421\\Desktop\\GlobalLocal\\IEEG_Pipelines\\ieeg\\viz\\mri.py:756: RuntimeWarning: Fiducial point lpa not found, assuming identity RAS (non-zero origin) to head transformation\n",
            "  info.set_montage(montage)\n",
            "C:\\Users\\jz421\\Desktop\\GlobalLocal\\IEEG_Pipelines\\ieeg\\viz\\mri.py:756: RuntimeWarning: Fiducial point lpa not found, assuming identity RAS (non-zero origin) to head transformation\n",
            "  info.set_montage(montage)\n",
            "C:\\Users\\jz421\\Desktop\\GlobalLocal\\IEEG_Pipelines\\ieeg\\viz\\mri.py:756: RuntimeWarning: Fiducial point lpa not found, assuming identity RAS (non-zero origin) to head transformation\n",
            "  info.set_montage(montage)\n",
            "C:\\Users\\jz421\\Desktop\\GlobalLocal\\IEEG_Pipelines\\ieeg\\viz\\mri.py:756: RuntimeWarning: Fiducial point lpa not found, assuming identity RAS (non-zero origin) to head transformation\n",
            "  info.set_montage(montage)\n",
            "C:\\Users\\jz421\\Desktop\\GlobalLocal\\IEEG_Pipelines\\ieeg\\viz\\mri.py:756: RuntimeWarning: Fiducial point lpa not found, assuming identity RAS (non-zero origin) to head transformation\n",
            "  info.set_montage(montage)\n",
            "C:\\Users\\jz421\\Desktop\\GlobalLocal\\IEEG_Pipelines\\ieeg\\viz\\mri.py:756: RuntimeWarning: Fiducial point lpa not found, assuming identity RAS (non-zero origin) to head transformation\n",
            "  info.set_montage(montage)\n",
            "C:\\Users\\jz421\\Desktop\\GlobalLocal\\IEEG_Pipelines\\ieeg\\viz\\mri.py:756: RuntimeWarning: Fiducial point lpa not found, assuming identity RAS (non-zero origin) to head transformation\n",
            "  info.set_montage(montage)\n",
            "C:\\Users\\jz421\\Desktop\\GlobalLocal\\IEEG_Pipelines\\ieeg\\viz\\mri.py:756: RuntimeWarning: Fiducial point lpa not found, assuming identity RAS (non-zero origin) to head transformation\n",
            "  info.set_montage(montage)\n",
            "C:\\Users\\jz421\\Desktop\\GlobalLocal\\IEEG_Pipelines\\ieeg\\viz\\mri.py:756: RuntimeWarning: Fiducial point lpa not found, assuming identity RAS (non-zero origin) to head transformation\n",
            "  info.set_montage(montage)\n",
            "C:\\Users\\jz421\\Desktop\\GlobalLocal\\IEEG_Pipelines\\ieeg\\viz\\mri.py:756: RuntimeWarning: Fiducial point lpa not found, assuming identity RAS (non-zero origin) to head transformation\n",
            "  info.set_montage(montage)\n",
            "C:\\Users\\jz421\\Desktop\\GlobalLocal\\IEEG_Pipelines\\ieeg\\viz\\mri.py:756: RuntimeWarning: Fiducial point lpa not found, assuming identity RAS (non-zero origin) to head transformation\n",
            "  info.set_montage(montage)\n",
            "C:\\Users\\jz421\\Desktop\\GlobalLocal\\IEEG_Pipelines\\ieeg\\viz\\mri.py:756: RuntimeWarning: Fiducial point lpa not found, assuming identity RAS (non-zero origin) to head transformation\n",
            "  info.set_montage(montage)\n",
            "C:\\Users\\jz421\\Desktop\\GlobalLocal\\IEEG_Pipelines\\ieeg\\viz\\mri.py:756: RuntimeWarning: Fiducial point lpa not found, assuming identity RAS (non-zero origin) to head transformation\n",
            "  info.set_montage(montage)\n",
            "C:\\Users\\jz421\\Desktop\\GlobalLocal\\IEEG_Pipelines\\ieeg\\viz\\mri.py:756: RuntimeWarning: Fiducial point lpa not found, assuming identity RAS (non-zero origin) to head transformation\n",
            "  info.set_montage(montage)\n",
            "C:\\Users\\jz421\\Desktop\\GlobalLocal\\IEEG_Pipelines\\ieeg\\viz\\mri.py:756: RuntimeWarning: Fiducial point lpa not found, assuming identity RAS (non-zero origin) to head transformation\n",
            "  info.set_montage(montage)\n",
            "C:\\Users\\jz421\\Desktop\\GlobalLocal\\IEEG_Pipelines\\ieeg\\viz\\mri.py:756: RuntimeWarning: Fiducial point lpa not found, assuming identity RAS (non-zero origin) to head transformation\n",
            "  info.set_montage(montage)\n",
            "C:\\Users\\jz421\\Desktop\\GlobalLocal\\IEEG_Pipelines\\ieeg\\viz\\mri.py:756: RuntimeWarning: Fiducial point lpa not found, assuming identity RAS (non-zero origin) to head transformation\n",
            "  info.set_montage(montage)\n",
            "C:\\Users\\jz421\\Desktop\\GlobalLocal\\IEEG_Pipelines\\ieeg\\viz\\mri.py:756: RuntimeWarning: Fiducial point lpa not found, assuming identity RAS (non-zero origin) to head transformation\n",
            "  info.set_montage(montage)\n",
            "C:\\Users\\jz421\\Desktop\\GlobalLocal\\IEEG_Pipelines\\ieeg\\viz\\mri.py:756: RuntimeWarning: Fiducial point lpa not found, assuming identity RAS (non-zero origin) to head transformation\n",
            "  info.set_montage(montage)\n",
            "C:\\Users\\jz421\\Desktop\\GlobalLocal\\IEEG_Pipelines\\ieeg\\viz\\mri.py:756: RuntimeWarning: Fiducial point lpa not found, assuming identity RAS (non-zero origin) to head transformation\n",
            "  info.set_montage(montage)\n",
            "C:\\Users\\jz421\\Desktop\\GlobalLocal\\IEEG_Pipelines\\ieeg\\viz\\mri.py:756: RuntimeWarning: Fiducial point lpa not found, assuming identity RAS (non-zero origin) to head transformation\n",
            "  info.set_montage(montage)\n",
            "C:\\Users\\jz421\\Desktop\\GlobalLocal\\IEEG_Pipelines\\ieeg\\viz\\mri.py:756: RuntimeWarning: Fiducial point lpa not found, assuming identity RAS (non-zero origin) to head transformation\n",
            "  info.set_montage(montage)\n",
            "C:\\Users\\jz421\\Desktop\\GlobalLocal\\IEEG_Pipelines\\ieeg\\viz\\mri.py:756: RuntimeWarning: Fiducial point lpa not found, assuming identity RAS (non-zero origin) to head transformation\n",
            "  info.set_montage(montage)\n",
            "C:\\Users\\jz421\\Desktop\\GlobalLocal\\IEEG_Pipelines\\ieeg\\viz\\mri.py:756: RuntimeWarning: Fiducial point lpa not found, assuming identity RAS (non-zero origin) to head transformation\n",
            "  info.set_montage(montage)\n",
            "C:\\Users\\jz421\\Desktop\\GlobalLocal\\IEEG_Pipelines\\ieeg\\viz\\mri.py:756: RuntimeWarning: Fiducial point lpa not found, assuming identity RAS (non-zero origin) to head transformation\n",
            "  info.set_montage(montage)\n",
            "C:\\Users\\jz421\\Desktop\\GlobalLocal\\IEEG_Pipelines\\ieeg\\viz\\mri.py:756: RuntimeWarning: Fiducial point lpa not found, assuming identity RAS (non-zero origin) to head transformation\n",
            "  info.set_montage(montage)\n",
            "C:\\Users\\jz421\\Desktop\\GlobalLocal\\IEEG_Pipelines\\ieeg\\viz\\mri.py:756: RuntimeWarning: Fiducial point lpa not found, assuming identity RAS (non-zero origin) to head transformation\n",
            "  info.set_montage(montage)\n",
            "C:\\Users\\jz421\\Desktop\\GlobalLocal\\IEEG_Pipelines\\ieeg\\viz\\mri.py:756: RuntimeWarning: Fiducial point lpa not found, assuming identity RAS (non-zero origin) to head transformation\n",
            "  info.set_montage(montage)\n",
            "C:\\Users\\jz421\\Desktop\\GlobalLocal\\IEEG_Pipelines\\ieeg\\viz\\mri.py:756: RuntimeWarning: Fiducial point lpa not found, assuming identity RAS (non-zero origin) to head transformation\n",
            "  info.set_montage(montage)\n",
            "C:\\Users\\jz421\\Desktop\\GlobalLocal\\IEEG_Pipelines\\ieeg\\viz\\mri.py:756: RuntimeWarning: Fiducial point lpa not found, assuming identity RAS (non-zero origin) to head transformation\n",
            "  info.set_montage(montage)\n",
            "C:\\Users\\jz421\\Desktop\\GlobalLocal\\IEEG_Pipelines\\ieeg\\viz\\mri.py:756: RuntimeWarning: Fiducial point lpa not found, assuming identity RAS (non-zero origin) to head transformation\n",
            "  info.set_montage(montage)\n",
            "C:\\Users\\jz421\\Desktop\\GlobalLocal\\IEEG_Pipelines\\ieeg\\viz\\mri.py:756: RuntimeWarning: Fiducial point lpa not found, assuming identity RAS (non-zero origin) to head transformation\n",
            "  info.set_montage(montage)\n"
          ]
        }
      ],
      "source": [
        "subjects = ['D0057', 'D0059', 'D0063', 'D0065', 'D0069', 'D0071', 'D0077', 'D0090', 'D0094', 'D0100', 'D0102', 'D0103'] # don't hard code this, delete this line after cns 4/9\n",
        "congruency_elecs_set = set(congruency_elecs)\n",
        "switchType_elecs_set = set(switchType_elecs)\n",
        "congruency_switchType_elecs_set = set(congruency_switchType_elecs)\n",
        "\n",
        "# Find overlapping electrodes (present in both lists). Then also find union with the interaction effect.\n",
        "overlap_congruencyEffectAndSwitchCost_elecs = switchType_elecs_set.intersection(congruency_elecs_set)\n",
        "overlap_and_interaction_congruencyEffectAndSwitchCost_elecs = (overlap_congruencyEffectAndSwitchCost_elecs | congruency_switchType_elecs_set)\n",
        "\n",
        "# Find unique electrodes in switchType_elecs\n",
        "unique_switchType_elecs = switchType_elecs_set - congruency_elecs_set - congruency_switchType_elecs_set\n",
        "\n",
        "# Find unique electrodes in congruency_elecs\n",
        "unique_congruency_elecs = congruency_elecs_set - switchType_elecs_set - congruency_switchType_elecs_set\n",
        "\n",
        "# Convert sets back to lists if necessary for plotting functions\n",
        "overlap_congruencyEffectAndSwitchCost_elecs_list = list(overlap_congruencyEffectAndSwitchCost_elecs)\n",
        "overlap_and_interaction_congruencyEffectAndSwitchCost_elecs_list = list(overlap_and_interaction_congruencyEffectAndSwitchCost_elecs)\n",
        "\n",
        "unique_switchType_elecs_list = list(unique_switchType_elecs)\n",
        "unique_congruency_elecs_list = list(unique_congruency_elecs)\n",
        "\n",
        "#convert indices back to channel names because indices are broken for plotting right now 4/2. Just remove the indices step entirely later.\n",
        "unique_switchType_elecs_names = [ch_names[i] for i in unique_switchType_elecs]\n",
        "unique_congruency_elecs_names = [ch_names[i] for i in unique_congruency_elecs]\n",
        "overlap_and_interaction_congruencyEffectAndSwitchCost_elecs_names = [ch_names[i] for i in overlap_and_interaction_congruencyEffectAndSwitchCost_elecs]\n",
        "\n",
        "\n",
        "\n",
        "def format_subject_names(subject_names):\n",
        "    formatted_names = []\n",
        "    for name in subject_names:\n",
        "        # Extract the numeric part of the subject name (assuming it always starts with 'D')\n",
        "        num_part = int(name[1:])\n",
        "        # Format the number with leading zeros to ensure it has four digits and prepend 'D'\n",
        "        formatted_name = 'D' + format(num_part, '04')\n",
        "        formatted_names.append(formatted_name)\n",
        "    return formatted_names\n",
        "\n",
        "# For your specific cases of electrode names where the subject name is part of the electrode name\n",
        "def format_electrode_names(electrode_names):\n",
        "    formatted_electrode_names = []\n",
        "    for name in electrode_names:\n",
        "        # Split the electrode name at the first '-' to separate subject name from the rest\n",
        "        parts = name.split('-', 1)\n",
        "        subject_name = parts[0]\n",
        "        rest_of_name = parts[1] if len(parts) > 1 else ''\n",
        "        # Format the subject name\n",
        "        formatted_subject_name = format_subject_names([subject_name])[0]\n",
        "        # Combine the formatted subject name with the rest of the electrode name\n",
        "        formatted_electrode_name = formatted_subject_name + '-' + rest_of_name\n",
        "        formatted_electrode_names.append(formatted_electrode_name)\n",
        "    return formatted_electrode_names\n",
        "\n",
        "# Example usage:\n",
        "unique_switchType_elecs_names_formatted = format_electrode_names(unique_switchType_elecs_names)\n",
        "unique_congruency_elecs_names_formatted = format_electrode_names(unique_congruency_elecs_names)\n",
        "overlap_and_interaction_congruencyEffectAndSwitchCost_elecs_names_formatted = format_electrode_names(overlap_and_interaction_congruencyEffectAndSwitchCost_elecs_names)\n",
        "\n",
        "print(unique_congruency_elecs_names_formatted)\n",
        "\n",
        "\n",
        "\n",
        "\n",
        "# Plotting\n",
        "# Plot unique electrodes for congruency effect\n",
        "fig = plot_on_average(subjects, picks=unique_congruency_elecs_names_formatted, rm_wm=False, hemi='both', color=(1, 0, 0), size=0.45, transparency=0.4)\n",
        "\n",
        "# Plot unique electrodes for switchType in another color\n",
        "fig = plot_on_average(subjects, picks=unique_switchType_elecs_names_formatted, rm_wm=False, hemi='both', color=(0, 0, 1), size=0.45, fig=fig)\n",
        "\n",
        "# Plot overlapping electrodes and interaction electrodes in black\n",
        "fig = plot_on_average(subjects, picks=overlap_and_interaction_congruencyEffectAndSwitchCost_elecs_names_formatted, rm_wm=False, hemi='both', color=(0, 0, 0), size=0.45, fig=fig)"
      ]
    },
    {
      "cell_type": "code",
      "execution_count": null,
      "metadata": {},
      "outputs": [],
      "source": [
        "unique_switchType_elecs_list"
      ]
    },
    {
      "cell_type": "code",
      "execution_count": null,
      "metadata": {},
      "outputs": [],
      "source": [
        "len(unique_congruency_elecs_list)"
      ]
    },
    {
      "cell_type": "code",
      "execution_count": null,
      "metadata": {},
      "outputs": [],
      "source": [
        "len(overlap_and_interaction_congruencyEffectAndSwitchCost_elecs_list)"
      ]
    },
    {
      "cell_type": "markdown",
      "metadata": {},
      "source": [
        "plot congruency:switchType interaction vs intersection of congruency and switch type  \n",
        "i am aware these variable names are awful and inconsistent. Change them later.. 3/27"
      ]
    },
    {
      "cell_type": "code",
      "execution_count": null,
      "metadata": {},
      "outputs": [],
      "source": [
        "congruency_switchType_elecs_set = set(congruency_switchType_elecs)\n",
        "\n",
        "# Find overlapping electrodes (present in both lists)\n",
        "overlap_congruency_switchType_and_overlap_congruencyEffectAndSwitchCost_elecs = congruency_switchType_elecs_set.intersection(overlap_congruencyEffectAndSwitchCost_elecs)\n",
        "\n",
        "# Find unique electrodes in conSwitchInteraction\n",
        "unique_congruency_switchType_elecs = congruency_switchType_elecs_set - overlap_congruencyEffectAndSwitchCost_elecs\n",
        "\n",
        "# Find unique electrodes in overlap_congruencyEffectAndSwitchCost_elecs\n",
        "unique_overlap_congruencyEffectAndSwitchCost_elecs = overlap_congruencyEffectAndSwitchCost_elecs - congruency_switchType_elecs_set\n",
        "\n",
        "# Convert sets back to lists if necessary for plotting functions\n",
        "overlap_congruency_switchType_and_overlap_congruencyEffectAndSwitchCost_elecs_list = list(overlap_congruency_switchType_and_overlap_congruencyEffectAndSwitchCost_elecs)\n",
        "unique_congruency_switchType_elecs_list = list(unique_congruency_switchType_elecs)\n",
        "unique_overlap_congruencyEffectAndSwitchCost_elecs_list = list(unique_overlap_congruencyEffectAndSwitchCost_elecs)\n",
        "\n",
        "# Plotting\n",
        "# Plot unique electrodes for con switch interaction\n",
        "fig = plot_on_average(subjects, picks=unique_congruency_switchType_elecs_list, rm_wm=True, hemi='both', color=(0.5, 0.3, 0.1), size=0.35, transparency=0.2)\n",
        "\n",
        "# Plot unique electrodes for con switch overlap\n",
        "fig = plot_on_average(subjects, picks=unique_overlap_congruencyEffectAndSwitchCost_elecs_list, rm_wm=True, hemi='both', color=(1, 1, 1), size=0.35, fig=fig, transparency=0.2)\n",
        "\n",
        "# Plot overlapping electrodes in black\n",
        "fig = plot_on_average(subjects, picks=overlap_congruency_switchType_and_overlap_congruencyEffectAndSwitchCost_elecs_list, rm_wm=True, hemi='both', color=(0, 0, 0), size=0.35, fig=fig, transparency=0.2)"
      ]
    },
    {
      "cell_type": "markdown",
      "metadata": {},
      "source": [
        "plot congruency switch interaction and additive effects VS congruency and switch type unique main effects"
      ]
    },
    {
      "cell_type": "code",
      "execution_count": 89,
      "metadata": {},
      "outputs": [
        {
          "ename": "NameError",
          "evalue": "name 'congruency_switchType_interaction_elecs' is not defined",
          "output_type": "error",
          "traceback": [
            "\u001b[1;31m---------------------------------------------------------------------------\u001b[0m",
            "\u001b[1;31mNameError\u001b[0m                                 Traceback (most recent call last)",
            "Cell \u001b[1;32mIn[89], line 1\u001b[0m\n\u001b[1;32m----> 1\u001b[0m conSwitchInteractionOrAdditiveEffects \u001b[38;5;241m=\u001b[39m (\u001b[38;5;28mset\u001b[39m(\u001b[43mcongruency_switchType_interaction_elecs\u001b[49m) \u001b[38;5;241m|\u001b[39m \u001b[38;5;28mset\u001b[39m(overlap_congruencyEffectAndSwitchCost_elecs))\n\u001b[0;32m      2\u001b[0m conSwitchMainEffects \u001b[38;5;241m=\u001b[39m (\u001b[38;5;28mset\u001b[39m(congruency_elecs) \u001b[38;5;241m|\u001b[39m \u001b[38;5;28mset\u001b[39m(switchType_elecs))\n\u001b[0;32m      4\u001b[0m \u001b[38;5;66;03m# Find overlapping electrodes (present in both lists)\u001b[39;00m\n",
            "\u001b[1;31mNameError\u001b[0m: name 'congruency_switchType_interaction_elecs' is not defined"
          ]
        }
      ],
      "source": [
        "conSwitchInteractionOrAdditiveEffects = (set(congruency_switchType_interaction_elecs) | set(overlap_congruencyEffectAndSwitchCost_elecs))\n",
        "conSwitchMainEffects = (set(congruency_elecs) | set(switchType_elecs))\n",
        "\n",
        "# Find overlapping electrodes (present in both lists)\n",
        "overlapMainAndInteractionEffects = conSwitchInteractionOrAdditiveEffects.intersection(conSwitchMainEffects)\n",
        "\n",
        "# Find unique electrodes in conSwitchInteractionOrAdditiveEffects\n",
        "unique_conSwitchInteractionOrAdditiveEffects_elecs = conSwitchInteractionOrAdditiveEffects - conSwitchMainEffects\n",
        "\n",
        "# Find unique electrodes in conSwitchMainEffects\n",
        "unique_conSwitchMainEffects_elecs = conSwitchMainEffects - conSwitchInteractionOrAdditiveEffects\n",
        "\n",
        "# Convert sets back to lists if necessary for plotting functions\n",
        "overlapMainAndInteractionEffects_list = list(overlapMainAndInteractionEffects)\n",
        "unique_conSwitchInteractionOrAdditiveEffects_elecs_list = list(unique_conSwitchInteractionOrAdditiveEffects_elecs)\n",
        "unique_conSwitchMainEffects_elecs_list = list(unique_conSwitchMainEffects_elecs)\n",
        "\n",
        "# Plotting\n",
        "# Plot unique electrodes for con switch interaction\n",
        "fig = plot_on_average(subjects, picks=unique_conSwitchInteractionOrAdditiveEffects_elecs_list, rm_wm=False, hemi='both', color=(0, 1, 0), size=0.45, transparency=0.2)\n",
        "\n",
        "# Plot unique electrodes for con switch overlap\n",
        "fig = plot_on_average(subjects, picks=unique_conSwitchMainEffects_elecs_list, rm_wm=False, hemi='both', color=(1, 0, 0), size=0.45, fig=fig, transparency=0.2)\n",
        "\n",
        "# Plot overlapping electrodes in black\n",
        "fig = plot_on_average(subjects, picks=overlapMainAndInteractionEffects_list, rm_wm=False, hemi='both', color=(0, 0, 0), size=0.45, fig=fig, transparency=0.2)"
      ]
    },
    {
      "cell_type": "code",
      "execution_count": null,
      "metadata": {},
      "outputs": [],
      "source": [
        "len(overlapMainAndInteractionEffects_list)"
      ]
    },
    {
      "cell_type": "markdown",
      "metadata": {},
      "source": [
        "### plot all stim electrodes for an roi\n",
        "get the subject: electrode mappings from roi_analysis first"
      ]
    },
    {
      "cell_type": "code",
      "execution_count": null,
      "metadata": {},
      "outputs": [],
      "source": [
        "def get_sig_chans(sub, task, LAB_root=None):\n",
        "    # Determine LAB_root based on the operating system\n",
        "    if LAB_root is None:\n",
        "        HOME = os.path.expanduser(\"~\")\n",
        "        LAB_root = os.path.join(HOME, \"Box\", \"CoganLab\") if os.name == 'nt' else os.path.join(HOME, \"Library\", \"CloudStorage\", \"Box-Box\", \"CoganLab\")\n",
        "\n",
        "    # Get data layout\n",
        "    layout = get_data(task, root=LAB_root)\n",
        "    save_dir = os.path.join(layout.root, 'derivatives', 'freqFilt', 'figs', sub)\n",
        "\n",
        "    stim_filename = f'{save_dir}\\\\sig_chans_{sub}_Stimulus_fixationCrossBase_1sec_mirror.json'\n",
        "    stim_sig_chans = load_sig_chans(stim_filename)\n",
        "    return stim_sig_chans\n",
        "\n",
        "# Initialize an empty dictionary to store significant channels per subject\n",
        "sig_chans_per_subject = {}\n",
        "\n",
        "# Populate the dictionary using get_sig_chans for each subject\n",
        "for sub in subjects:\n",
        "    sig_chans_per_subject[sub] = get_sig_chans(sub, 'GlobalLocal')\n",
        "\n",
        "# Now sig_chans_per_subject dictionary is populated with significant channels for each subject"
      ]
    },
    {
      "cell_type": "code",
      "execution_count": null,
      "metadata": {},
      "outputs": [],
      "source": [
        "import json\n",
        "\n",
        "# Load from a JSON file\n",
        "filename = 'subjects_electrodestoROIs_dict.json'\n",
        "\n",
        "with open(filename, 'r') as file:\n",
        "    subjects_electrodestoROIs_dict = json.load(file)\n",
        "\n",
        "print(f\"Loaded data from {filename}\")"
      ]
    },
    {
      "cell_type": "code",
      "execution_count": null,
      "metadata": {},
      "outputs": [],
      "source": [
        "def filter_electrodes_by_roi(subjects_electrodes_dict, sig_chans_per_subject, roi_list):\n",
        "    \"\"\"\n",
        "    Filters electrodes based on specified ROIs and returns significant electrodes for each subject.\n",
        "\n",
        "    Args:\n",
        "    subjects_electrodes_dict (dict): A dictionary with subjects as keys and electrode-to-ROI mappings as values.\n",
        "    sig_chans_per_subject (dict): A dictionary with subjects as keys and lists of significant channels as values.\n",
        "    roi_list (list): A list of ROIs to filter electrodes.\n",
        "\n",
        "    Returns:\n",
        "    dict: A dictionary with subjects as keys and lists of significant electrodes in specified ROIs as values.\n",
        "    \"\"\"\n",
        "    filtered_electrodes_per_subject = {}\n",
        "\n",
        "    for sub, electrodes_dict in subjects_electrodes_dict.items():\n",
        "        filtered = {key: value for key, value in electrodes_dict['filtROI_dict'].items() \n",
        "                    if any(roi in key for roi in roi_list)}\n",
        "\n",
        "        # Aggregate electrodes into a list for each subject\n",
        "        filtered_electrodes = []\n",
        "        for electrodes in filtered.values():\n",
        "            filtered_electrodes.extend(electrodes)\n",
        "\n",
        "        filtered_electrodes_per_subject[sub] = filtered_electrodes\n",
        "        print(f'For subject {sub}, {\", \".join(roi_list)} electrodes are: {filtered_electrodes}')\n",
        "\n",
        "    # Now filter for significant electrodes\n",
        "    sig_filtered_electrodes_per_subject = {}\n",
        "\n",
        "    for sub, filtered_electrodes in filtered_electrodes_per_subject.items():\n",
        "        # Retrieve the list of significant channels for the subject\n",
        "        sig_chans = sig_chans_per_subject.get(sub, [])\n",
        "\n",
        "        # Find the intersection of filtered electrodes and significant channels for the subject\n",
        "        sig_filtered_electrodes = [elec for elec in filtered_electrodes if elec in sig_chans]\n",
        "\n",
        "        # Store the significant filtered electrodes for the subject\n",
        "        sig_filtered_electrodes_per_subject[sub] = sig_filtered_electrodes\n",
        "        print(f\"Subject {sub} significant {', '.join(roi_list)} electrodes: {sig_filtered_electrodes}\")\n",
        "\n",
        "    return filtered_electrodes_per_subject, sig_filtered_electrodes_per_subject\n",
        "\n",
        "# Example usage:\n",
        "dlpfc_rois = [\"G_front_middle\", \"G_front_sup\", \"S_front_inf\", \"S_front_middle\", \"S_front_sup\"] #dorsolateral prefrontal cortex\n",
        "acc_rois = [\"G_and_S_cingul-Ant\", \"G_and_S_cingul-Mid-Ant\"] #anterior cingulate cortex\n",
        "parietal_rois = [\"G_parietal_sup\", \"S_intrapariet_and_P_trans\", \"G_pariet_inf-Angular\", \"G_pariet_inf-Supramar\"] #superior parietal lobule, intraparietal sulcus, and inferior parietal lobule (split into angular gyrus and supramarginal gyrus)\n",
        "dlpfc_electrodes_per_subject, sig_dlpfc_electrodes_per_subject = filter_electrodes_by_roi(subjects_electrodestoROIs_dict, sig_chans_per_subject, dlpfc_rois)\n",
        "acc_electrodes_per_subject, sig_acc_electrodes_per_subject = filter_electrodes_by_roi(subjects_electrodestoROIs_dict, sig_chans_per_subject, acc_rois)\n",
        "parietal_electrodes_per_subject, sig_parietal_electrodes_per_subject = filter_electrodes_by_roi(subjects_electrodestoROIs_dict, sig_chans_per_subject, parietal_rois)"
      ]
    },
    {
      "cell_type": "markdown",
      "metadata": {},
      "source": [
        "this is with zeroes removed from subject names, i think plot on average needs those instead of the normal subject names  \n",
        "also, remove the subjects with empty lists since those might be breaking the plotting too"
      ]
    },
    {
      "cell_type": "code",
      "execution_count": null,
      "metadata": {},
      "outputs": [],
      "source": [
        "def remove_leading_zeroes_and_empty_subjects(subjects_dict):\n",
        "    \"\"\"\n",
        "    Removes leading zeroes from subject names, adds a '_without_zeroes' suffix, \n",
        "    and filters out subjects with empty lists.\n",
        "\n",
        "    Args:\n",
        "    subjects_dict (dict): A dictionary with subjects as keys and lists as values.\n",
        "\n",
        "    Returns:\n",
        "    dict: A new dictionary with modified subject names and non-empty lists.\n",
        "    \"\"\"\n",
        "    new_dict = {}\n",
        "    for sub, value in subjects_dict.items():\n",
        "        if value:  # Check if the list is not empty\n",
        "            sub_without_zeroes = \"D\" + sub[1:].lstrip('0')\n",
        "            new_dict[sub_without_zeroes] = value\n",
        "    return new_dict\n",
        "\n",
        "# Example usage:\n",
        "dlpfc_electrodes_without_zeroes = remove_leading_zeroes_and_empty_subjects(dlpfc_electrodes_per_subject)\n",
        "sig_dlpfc_electrodes_without_zeroes = remove_leading_zeroes_and_empty_subjects(sig_dlpfc_electrodes_per_subject)\n",
        "\n",
        "acc_electrodes_without_zeroes = remove_leading_zeroes_and_empty_subjects(acc_electrodes_per_subject)\n",
        "sig_acc_electrodes_without_zeroes = remove_leading_zeroes_and_empty_subjects(sig_acc_electrodes_per_subject)\n",
        "\n",
        "parietal_electrodes_without_zeroes = remove_leading_zeroes_and_empty_subjects(parietal_electrodes_per_subject)\n",
        "sig_parietal_electrodes_without_zeroes = remove_leading_zeroes_and_empty_subjects(sig_parietal_electrodes_per_subject)"
      ]
    },
    {
      "cell_type": "markdown",
      "metadata": {},
      "source": [
        "### plot sig roi electrodes on individual brains"
      ]
    },
    {
      "cell_type": "markdown",
      "metadata": {},
      "source": [
        "#### dlpfc"
      ]
    },
    {
      "cell_type": "code",
      "execution_count": null,
      "metadata": {},
      "outputs": [],
      "source": [
        "for subj in sig_dlpfc_electrodes_without_zeroes:\n",
        "    print(subj)"
      ]
    },
    {
      "cell_type": "markdown",
      "metadata": {},
      "source": [
        "manually do single subjects"
      ]
    },
    {
      "cell_type": "code",
      "execution_count": null,
      "metadata": {},
      "outputs": [],
      "source": [
        "subj = 'D0103'\n",
        "base_path = r'C:\\Users\\jz421\\Box\\CoganLab\\BIDS-1.1_GlobalLocal\\BIDS\\derivatives\\freqFilt\\figs'\n",
        "\n",
        "subj_without_zeroes = \"D\" + subj[1:].lstrip('0')\n",
        "print(\"Picks for subject:\", sig_dlpfc_electrodes_without_zeroes[subj_without_zeroes])\n",
        "brain_fig = plot_subj_sig_and_nonsig(subj_without_zeroes, sig_picks=sig_dlpfc_electrodes_without_zeroes[subj_without_zeroes], nonsig_picks=dlpfc_electrodes_without_zeroes[subj_without_zeroes], sig_color=(1,1,0), nonsig_color=(1,1,1), labels_every=1, hemi='both', title=f'{subj}_dlPFC', background='black')\n",
        "# brain_fig = plot_subj(subj_without_zeroes, picks=sig_dlpfc_electrodes_without_zeroes[subj_without_zeroes], labels_every=1, hemi='both', title=f'{subj}_dlPFC', background='black', color=(1, 1, 0))\n",
        "\n",
        "# Specify the path and filename for the PNG file\n",
        "png_filepath = os.path.join(base_path, f\"{subj_without_zeroes}_dlPFC.png\")\n",
        "\n",
        "# Save the figure\n",
        "brain_fig.save_image(png_filepath, 'png')"
      ]
    },
    {
      "cell_type": "markdown",
      "metadata": {},
      "source": [
        "loop thru everyone who has sig dlpfc electrodes"
      ]
    },
    {
      "cell_type": "code",
      "execution_count": null,
      "metadata": {},
      "outputs": [],
      "source": [
        "for subj in sig_dlpfc_electrodes_without_zeroes:\n",
        "    if subj == 'D57':\n",
        "        continue #skip this one cuz its being weird\n",
        "    base_path = r'C:\\Users\\jz421\\Box\\CoganLab\\BIDS-1.1_GlobalLocal\\BIDS\\derivatives\\freqFilt\\figs'\n",
        "\n",
        "    subj_without_zeroes = \"D\" + subj[1:].lstrip('0')\n",
        "    print(\"Picks for subject:\", sig_dlpfc_electrodes_without_zeroes[subj_without_zeroes])\n",
        "\n",
        "    brain_fig = plot_subj_sig_and_nonsig(subj_without_zeroes, sig_picks=sig_dlpfc_electrodes_without_zeroes[subj_without_zeroes], nonsig_picks=dlpfc_electrodes_without_zeroes[subj_without_zeroes], sig_color=(1,1,0), nonsig_color=(1,1,1), labels_every=1, hemi='both', title=f'{subj}_dlPFC', background='black')\n",
        "\n",
        "    # Specify the path and filename for the PNG file\n",
        "    png_filepath = os.path.join(base_path, f\"{subj_without_zeroes}_dlPFC.png\")\n",
        "\n",
        "    # Save the figure\n",
        "    brain_fig.save_image(png_filepath, 'png')"
      ]
    },
    {
      "cell_type": "markdown",
      "metadata": {},
      "source": [
        "#### acc"
      ]
    },
    {
      "cell_type": "code",
      "execution_count": null,
      "metadata": {},
      "outputs": [],
      "source": [
        "for subj in sig_acc_electrodes_without_zeroes:\n",
        "    print(subj)"
      ]
    },
    {
      "cell_type": "markdown",
      "metadata": {},
      "source": [
        "manually do single subjects"
      ]
    },
    {
      "cell_type": "code",
      "execution_count": null,
      "metadata": {},
      "outputs": [],
      "source": [
        "subj = 'D0103'\n",
        "base_path = r'C:\\Users\\jz421\\Box\\CoganLab\\BIDS-1.1_GlobalLocal\\BIDS\\derivatives\\freqFilt\\figs'\n",
        "\n",
        "subj_without_zeroes = \"D\" + subj[1:].lstrip('0')\n",
        "print(\"Picks for subject:\", sig_acc_electrodes_without_zeroes[subj_without_zeroes])\n",
        "\n",
        "brain_fig = plot_subj_sig_and_nonsig(subj_without_zeroes, sig_picks=sig_acc_electrodes_without_zeroes[subj_without_zeroes], nonsig_picks=acc_electrodes_without_zeroes[subj_without_zeroes], sig_color=(1,1,0), nonsig_color=(1,1,1), labels_every=1, hemi='both', title=f'{subj}_acc', background='black')\n",
        "\n",
        "# Specify the path and filename for the PNG file\n",
        "png_filepath = os.path.join(base_path, f\"{subj_without_zeroes}_acc.png\")\n",
        "\n",
        "# Save the figure\n",
        "brain_fig.save_image(png_filepath, 'png')"
      ]
    },
    {
      "cell_type": "markdown",
      "metadata": {},
      "source": [
        "loop thru everyone who has sig acc electrodes"
      ]
    },
    {
      "cell_type": "code",
      "execution_count": null,
      "metadata": {},
      "outputs": [],
      "source": [
        "for subj in sig_acc_electrodes_without_zeroes:\n",
        "\n",
        "    base_path = r'C:\\Users\\jz421\\Box\\CoganLab\\BIDS-1.1_GlobalLocal\\BIDS\\derivatives\\freqFilt\\figs'\n",
        "\n",
        "    subj_without_zeroes = \"D\" + subj[1:].lstrip('0')\n",
        "    print(\"Picks for subject:\", sig_acc_electrodes_without_zeroes[subj_without_zeroes])\n",
        "\n",
        "    brain_fig = plot_subj_sig_and_nonsig(subj_without_zeroes, sig_picks=sig_acc_electrodes_without_zeroes[subj_without_zeroes], nonsig_picks=acc_electrodes_without_zeroes[subj_without_zeroes], sig_color=(1,1,0), nonsig_color=(1,1,1), labels_every=1, hemi='both', title=f'{subj}_acc', background='black')\n",
        "\n",
        "    # Specify the path and filename for the PNG file\n",
        "    png_filepath = os.path.join(base_path, f\"{subj_without_zeroes}_acc.png\")\n",
        "\n",
        "    # Save the figure\n",
        "    brain_fig.save_image(png_filepath, 'png')"
      ]
    },
    {
      "cell_type": "markdown",
      "metadata": {},
      "source": [
        "#### parietal"
      ]
    },
    {
      "cell_type": "code",
      "execution_count": null,
      "metadata": {},
      "outputs": [],
      "source": [
        "for subj in sig_parietal_electrodes_without_zeroes:\n",
        "    print(subj)"
      ]
    },
    {
      "cell_type": "markdown",
      "metadata": {},
      "source": [
        "manually do single subjects"
      ]
    },
    {
      "cell_type": "code",
      "execution_count": null,
      "metadata": {},
      "outputs": [],
      "source": [
        "subj = 'D103'\n",
        "base_path = r'C:\\Users\\jz421\\Box\\CoganLab\\BIDS-1.1_GlobalLocal\\BIDS\\derivatives\\freqFilt\\figs'\n",
        "\n",
        "subj_without_zeroes = \"D\" + subj[1:].lstrip('0')\n",
        "print(\"Picks for subject:\", sig_parietal_electrodes_without_zeroes[subj_without_zeroes])\n",
        "\n",
        "brain_fig = plot_subj_sig_and_nonsig(subj_without_zeroes, sig_picks=sig_parietal_electrodes_without_zeroes[subj_without_zeroes], nonsig_picks=parietal_electrodes_without_zeroes[subj_without_zeroes], sig_color=(1,1,0), nonsig_color=(1,1,1), labels_every=1, hemi='both', title=f'{subj}_parietal', background='black')\n",
        "\n",
        "# Specify the path and filename for the PNG file\n",
        "png_filepath = os.path.join(base_path, f\"{subj_without_zeroes}_parietal.png\")\n",
        "\n",
        "# Save the figure\n",
        "brain_fig.save_image(png_filepath, 'png')"
      ]
    },
    {
      "cell_type": "markdown",
      "metadata": {},
      "source": [
        "loop thru everyone who has sig parietal electrodes"
      ]
    },
    {
      "cell_type": "code",
      "execution_count": null,
      "metadata": {},
      "outputs": [],
      "source": [
        "for subj in sig_parietal_electrodes_without_zeroes:\n",
        "\n",
        "    base_path = r'C:\\Users\\jz421\\Box\\CoganLab\\BIDS-1.1_GlobalLocal\\BIDS\\derivatives\\freqFilt\\figs'\n",
        "\n",
        "    subj_without_zeroes = \"D\" + subj[1:].lstrip('0')\n",
        "    print(\"Picks for subject:\", sig_parietal_electrodes_without_zeroes[subj_without_zeroes])\n",
        "\n",
        "    brain_fig = plot_subj_sig_and_nonsig(subj_without_zeroes, sig_picks=sig_parietal_electrodes_without_zeroes[subj_without_zeroes], nonsig_picks=parietal_electrodes_without_zeroes[subj_without_zeroes], sig_color=(1,1,0), nonsig_color=(1,1,1), labels_every=1, hemi='both', title=f'{subj}_parietal', background='black')\n",
        "\n",
        "    # Specify the path and filename for the PNG file\n",
        "    png_filepath = os.path.join(base_path, f\"{subj_without_zeroes}_parietal.png\")\n",
        "\n",
        "    # Save the figure\n",
        "    brain_fig.save_image(png_filepath, 'png')"
      ]
    },
    {
      "cell_type": "markdown",
      "metadata": {},
      "source": [
        "### do dlpfc, acc, parietal coverage for each person"
      ]
    },
    {
      "cell_type": "markdown",
      "metadata": {},
      "source": [
        "get all electrodes across dlpfc, acc, and parietal and stick them into one dictionary so we can plot coverage in control regions for each subject"
      ]
    },
    {
      "cell_type": "code",
      "execution_count": null,
      "metadata": {},
      "outputs": [],
      "source": [
        "allSigControlElectrodes = {key: sig_parietal_electrodes_without_zeroes.get(key, []) + \n",
        "                      sig_dlpfc_electrodes_without_zeroes.get(key, []) + \n",
        "                      sig_acc_electrodes_without_zeroes.get(key, [])\n",
        "                 for key in set(sig_parietal_electrodes_without_zeroes) | \n",
        "                             set(sig_dlpfc_electrodes_without_zeroes) | \n",
        "                             set(sig_acc_electrodes_without_zeroes)}\n",
        "\n",
        "allControlElectrodes = {key: parietal_electrodes_without_zeroes.get(key, []) + \n",
        "                      dlpfc_electrodes_without_zeroes.get(key, []) + \n",
        "                      acc_electrodes_without_zeroes.get(key, [])\n",
        "                 for key in set(parietal_electrodes_without_zeroes) | \n",
        "                             set(dlpfc_electrodes_without_zeroes) | \n",
        "                             set(acc_electrodes_without_zeroes)}\n",
        "\n",
        "subj = 'D63'\n",
        "base_path = r'C:\\Users\\jz421\\Box\\CoganLab\\BIDS-1.1_GlobalLocal\\BIDS\\derivatives\\freqFilt\\figs'\n",
        "\n",
        "subj_without_zeroes = \"D\" + subj[1:].lstrip('0')\n",
        "brain_fig = plot_subj_sig_and_nonsig(subj_without_zeroes, sig_picks=allSigControlElectrodes[subj_without_zeroes], nonsig_picks=allControlElectrodes[subj_without_zeroes], sig_color=(1,1,0), nonsig_color=(1,1,1), labels_every=1, hemi='both', title=f'{subj}_allControlElectrodes', background='black')\n",
        "\n",
        "# Specify the path and filename for the PNG file\n",
        "png_filepath = os.path.join(base_path, f\"{subj_without_zeroes}_allControlElectrodes.png\")\n",
        "\n",
        "# Save the figure\n",
        "brain_fig.save_image(png_filepath, 'png')"
      ]
    },
    {
      "cell_type": "markdown",
      "metadata": {},
      "source": [
        "### try to plot all sig electrodes in an roi on an avg brain  \n",
        "this is plotting like all electrodes wtf why"
      ]
    },
    {
      "cell_type": "code",
      "execution_count": null,
      "metadata": {},
      "outputs": [],
      "source": [
        "plot_on_average(sig_parietal_electrodes_without_zeroes, hemi='both', color=(1,1,0))"
      ]
    },
    {
      "cell_type": "markdown",
      "metadata": {},
      "source": [
        "### plot each subject one by one on the fsaverage brain"
      ]
    },
    {
      "cell_type": "code",
      "execution_count": null,
      "metadata": {},
      "outputs": [],
      "source": [
        "# grab all of the significant electrodes, and put them into one list, and then run plot_on_average\n",
        "\n",
        "HOME = os.path.expanduser(\"~\")\n",
        "\n",
        "# get box directory depending on OS\n",
        "if os.name == 'nt': # windows\n",
        "    LAB_root = os.path.join(HOME, \"Box\", \"CoganLab\")\n",
        "else: # mac\n",
        "    LAB_root = os.path.join(HOME, \"Library\", \"CloudStorage\", \"Box-Box\", \"CoganLab\")\n",
        "\n",
        "layout = get_data(\"GlobalLocal\", root=LAB_root)\n",
        "\n",
        "\n",
        "print(layout.derivatives)\n",
        "print(layout.derivatives.keys())\n",
        "\n",
        "\n",
        "base_path = os.path.join(LAB_root, \"BIDS-1.1_GlobalLocal\", \"BIDS\", \"derivatives\", \"freqFilt\", \"figs\")\n",
        "\n",
        "subjects = layout.get(return_type=\"id\", target=\"subject\")\n",
        "subjects_without_zeroes = [\"D\" + subj[1:].lstrip('0') for subj in subjects]\n",
        "allSigElectrodes = {}  # Initialize as an empty dictionary\n",
        "allElectrodes = {}\n",
        "\n",
        "subj = 'D0071'\n",
        "    \n",
        "resp_filename = f'{base_path}\\\\{subj}\\\\sig_chans_{subj}_Response.json'\n",
        "stim_filename = f'{base_path}\\\\{subj}\\\\sig_chans_{subj}_Stimulus.json'\n",
        "\n",
        "resp_sig_chans = load_sig_chans(resp_filename)\n",
        "stim_sig_chans = load_sig_chans(stim_filename)\n",
        "\n",
        "# Combine the significant electrodes for this subject\n",
        "combined_chans = resp_sig_chans + stim_sig_chans\n",
        "\n",
        "# Add them to the dictionary, tagged with the subject without zeroes\n",
        "\n",
        "subj_without_zeroes = \"D\" + subj[1:].lstrip('0')\n",
        "allSigElectrodes[subj_without_zeroes] = combined_chans\n",
        "\n",
        "# Get all electrodes for this subject and add them to the allElectrodes dict\n",
        "info = subject_to_info(subj_without_zeroes)\n",
        "allSubjElectrodes = mne.pick_channels(info.ch_names, [])\n",
        "allElectrodes[subj_without_zeroes] = allSubjElectrodes\n",
        "\n",
        "\n",
        "plot_on_average(allSigElectrodes, hemi='both', color=(1,1,0))\n",
        "plot_on_average(allElectrodes, hemi='both', color=(1,1,0))"
      ]
    }
  ],
  "metadata": {
    "kernelspec": {
      "display_name": "Python 3",
      "language": "python",
      "name": "python3"
    },
    "language_info": {
      "codemirror_mode": {
        "name": "ipython",
        "version": 3
      },
      "file_extension": ".py",
      "mimetype": "text/x-python",
      "name": "python",
      "nbconvert_exporter": "python",
      "pygments_lexer": "ipython3",
      "version": "3.11.7"
    }
  },
  "nbformat": 4,
  "nbformat_minor": 0
}
