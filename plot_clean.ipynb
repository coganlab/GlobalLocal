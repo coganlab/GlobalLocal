{
  "cells": [
    {
      "attachments": {},
      "cell_type": "markdown",
      "metadata": {},
      "source": [
        "\n",
        "# Example line noise filtering script\n",
        "\n",
        "Filters the 60Hz line noise from the data, as well as the harmonics. Includes\n",
        "environment checks for SLURM jobs for convenience\n"
      ]
    },
    {
      "cell_type": "code",
      "execution_count": 1,
      "metadata": {
        "collapsed": false
      },
      "outputs": [],
      "source": [
        "import mne\n",
        "import os\n",
        "from ieeg.mt_filter import line_filter\n",
        "from ieeg.io import get_data, raw_from_layout, save_derivative\n",
        "from ieeg import viz\n",
        "from bids import BIDSLayout\n",
        "from ieeg.viz.utils import figure_compare\n"
      ]
    },
    {
      "cell_type": "code",
      "execution_count": 2,
      "metadata": {
        "collapsed": false
      },
      "outputs": [],
      "source": [
        "HOME = os.path.expanduser(\"~\")"
      ]
    },
    {
      "cell_type": "code",
      "execution_count": 3,
      "metadata": {
        "collapsed": false
      },
      "outputs": [],
      "source": [
        "if 'SLURM_ARRAY_TASK_ID' in os.environ.keys():\n",
        "    LAB_root = os.path.join(HOME, \"workspace\", \"CoganLab\")\n",
        "    subject = int(os.environ['SLURM_ARRAY_TASK_ID'])\n",
        "else:  # if not then set box directory\n",
        "    LAB_root = os.path.join(HOME, \"Box\", \"CoganLab\")\n",
        "    subject = 5"
      ]
    },
    {
      "cell_type": "code",
      "execution_count": 3,
      "metadata": {
        "collapsed": false
      },
      "outputs": [
        {
          "ename": "FileNotFoundError",
          "evalue": "Search terms matched more than one file: \n[<BIDSFile filename='C:\\Users\\jz421\\Box\\CoganLab\\BIDS-1.1_GlobalLocal\\BIDS\\derivatives\\clean\\sub-D0057\\ieeg\\sub-D0057_task-GlobalLocal_acq-01_run-01_desc-clean_ieeg.edf'>, <BIDSFile filename='C:\\Users\\jz421\\Box\\CoganLab\\BIDS-1.1_GlobalLocal\\BIDS\\sub-D0057\\ieeg\\sub-D0057_task-GlobalLocal_acq-01_run-01_ieeg.edf'>] \n try adding more search terms",
          "output_type": "error",
          "traceback": [
            "\u001b[1;31m---------------------------------------------------------------------------\u001b[0m",
            "\u001b[1;31mFileNotFoundError\u001b[0m                         Traceback (most recent call last)",
            "Cell \u001b[1;32mIn[3], line 23\u001b[0m\n\u001b[0;32m     19\u001b[0m \u001b[39mif\u001b[39;00m \u001b[39mnot\u001b[39;00m os\u001b[39m.\u001b[39mpath\u001b[39m.\u001b[39mexists(save_dir):\n\u001b[0;32m     20\u001b[0m     os\u001b[39m.\u001b[39mmakedirs(save_dir)\n\u001b[1;32m---> 23\u001b[0m raw \u001b[39m=\u001b[39m raw_from_layout(layout, subject\u001b[39m=\u001b[39;49msubj,\n\u001b[0;32m     24\u001b[0m                         extension\u001b[39m=\u001b[39;49m\u001b[39m'\u001b[39;49m\u001b[39m.edf\u001b[39;49m\u001b[39m'\u001b[39;49m, preload\u001b[39m=\u001b[39;49m\u001b[39mTrue\u001b[39;49;00m)\n\u001b[0;32m     26\u001b[0m filt \u001b[39m=\u001b[39m line_filter(raw, mt_bandwidth\u001b[39m=\u001b[39m\u001b[39m10.\u001b[39m, n_jobs\u001b[39m=\u001b[39m\u001b[39m6\u001b[39m,\n\u001b[0;32m     27\u001b[0m                 filter_length\u001b[39m=\u001b[39m\u001b[39m'\u001b[39m\u001b[39m700ms\u001b[39m\u001b[39m'\u001b[39m, verbose\u001b[39m=\u001b[39m\u001b[39m10\u001b[39m,\n\u001b[0;32m     28\u001b[0m                 freqs\u001b[39m=\u001b[39m[\u001b[39m60\u001b[39m], notch_widths\u001b[39m=\u001b[39m\u001b[39m20\u001b[39m)\n\u001b[0;32m     31\u001b[0m data \u001b[39m=\u001b[39m [raw, filt]\n",
            "File \u001b[1;32mc:\\Users\\jz421\\Desktop\\GlobalLocal\\ieeg\\io.py:99\u001b[0m, in \u001b[0;36mraw_from_layout\u001b[1;34m(layout, preload, run, **kwargs)\u001b[0m\n\u001b[0;32m     97\u001b[0m \u001b[39mif\u001b[39;00m runs:\n\u001b[0;32m     98\u001b[0m     \u001b[39mfor\u001b[39;00m r \u001b[39min\u001b[39;00m runs:\n\u001b[1;32m---> 99\u001b[0m         BIDS_path \u001b[39m=\u001b[39m bidspath_from_layout(layout, run\u001b[39m=\u001b[39;49mr, \u001b[39m*\u001b[39;49m\u001b[39m*\u001b[39;49mkwargs)\n\u001b[0;32m    100\u001b[0m         new_raw \u001b[39m=\u001b[39m read_raw_bids(bids_path\u001b[39m=\u001b[39mBIDS_path)\n\u001b[0;32m    101\u001b[0m         raw\u001b[39m.\u001b[39mappend(new_raw\u001b[39m.\u001b[39mcopy())\n",
            "File \u001b[1;32mc:\\Users\\jz421\\Desktop\\GlobalLocal\\ieeg\\io.py:60\u001b[0m, in \u001b[0;36mbidspath_from_layout\u001b[1;34m(layout, **kwargs)\u001b[0m\n\u001b[0;32m     58\u001b[0m my_search: \u001b[39mlist\u001b[39m[BIDSFile] \u001b[39m=\u001b[39m layout\u001b[39m.\u001b[39mget(\u001b[39m*\u001b[39m\u001b[39m*\u001b[39mkwargs)\n\u001b[0;32m     59\u001b[0m \u001b[39mif\u001b[39;00m \u001b[39mlen\u001b[39m(my_search) \u001b[39m>\u001b[39m\u001b[39m=\u001b[39m \u001b[39m2\u001b[39m:\n\u001b[1;32m---> 60\u001b[0m     \u001b[39mraise\u001b[39;00m \u001b[39mFileNotFoundError\u001b[39;00m(\u001b[39m\"\u001b[39m\u001b[39mSearch terms matched more than one file: \u001b[39m\u001b[39m\\n\u001b[39;00m\u001b[39m\"\u001b[39m\n\u001b[0;32m     61\u001b[0m                             \u001b[39m\"\u001b[39m\u001b[39m{}\u001b[39;00m\u001b[39m \u001b[39m\u001b[39m\\n\u001b[39;00m\u001b[39m try adding more search terms\u001b[39m\u001b[39m\"\u001b[39m\n\u001b[0;32m     62\u001b[0m                             \u001b[39m\"\u001b[39m\u001b[39m\"\u001b[39m\u001b[39m.\u001b[39mformat(my_search))\n\u001b[0;32m     63\u001b[0m \u001b[39melif\u001b[39;00m \u001b[39mlen\u001b[39m(my_search) \u001b[39m==\u001b[39m \u001b[39m0\u001b[39m:\n\u001b[0;32m     64\u001b[0m     \u001b[39mraise\u001b[39;00m \u001b[39mFileNotFoundError\u001b[39;00m(\u001b[39m\"\u001b[39m\u001b[39mNo files match your search terms\u001b[39m\u001b[39m\"\u001b[39m)\n",
            "\u001b[1;31mFileNotFoundError\u001b[0m: Search terms matched more than one file: \n[<BIDSFile filename='C:\\Users\\jz421\\Box\\CoganLab\\BIDS-1.1_GlobalLocal\\BIDS\\derivatives\\clean\\sub-D0057\\ieeg\\sub-D0057_task-GlobalLocal_acq-01_run-01_desc-clean_ieeg.edf'>, <BIDSFile filename='C:\\Users\\jz421\\Box\\CoganLab\\BIDS-1.1_GlobalLocal\\BIDS\\sub-D0057\\ieeg\\sub-D0057_task-GlobalLocal_acq-01_run-01_ieeg.edf'>] \n try adding more search terms"
          ]
        }
      ],
      "source": [
        "HOME = os.path.expanduser(\"~\")\n",
        "\n",
        "# get box directory depending on OS\n",
        "if os.name == 'nt': # windows\n",
        "    LAB_root = os.path.join(HOME, \"Box\", \"CoganLab\")\n",
        "else: # mac\n",
        "    LAB_root = os.path.join(HOME, \"Library\", \"CloudStorage\", \"Box-Box\", \"CoganLab\")\n",
        "\n",
        "layout = get_data(\"GlobalLocal\", root=LAB_root)\n",
        "subjects = layout.get(return_type=\"id\", target=\"subject\")\n",
        "\n",
        "\n",
        "\n",
        "# print(subjects)\n",
        "\n",
        "\n",
        "subj = \"D0057\"\n",
        "save_dir = os.path.join(layout.root, 'derivatives', 'spec', 'wavelet', subj)\n",
        "if not os.path.exists(save_dir):\n",
        "    os.makedirs(save_dir)\n",
        "\n",
        "\n",
        "raw = raw_from_layout(layout, subject=subj,\n",
        "                        extension='.edf', preload=True)\n",
        "\n",
        "filt = line_filter(raw, mt_bandwidth=10., n_jobs=6,\n",
        "                filter_length='700ms', verbose=10,\n",
        "                freqs=[60], notch_widths=20)\n",
        "\n",
        "\n",
        "data = [raw, filt]\n",
        "viz.utils.figure_compare(data, [\"Un\", \"\"], avg=True, n_jobs=6,\n",
        "                verbose=10, proj=True, fmax=250)\n",
        "\n",
        "save_derivative(filt, layout, \"clean\")\n",
        "\n",
        "print(\"Data saved successfully.\")\n",
        "\n",
        "\n",
        "\n",
        "\n",
        "\n",
        "# # Save data to save_dir\n",
        "# file_names = [\"data_raw.fif\", \"data_filt.fif\"]  # Specify the desired file names\n",
        "# for d, file_name in zip(data, file_names):\n",
        "#     file_path = os.path.join(save_dir, file_name)\n",
        "#     d.save(file_path, overwrite=True)\n",
        "\n",
        "\n",
        "# for sub in subjects:\n",
        "#     # if sub != \"D0022\":\n",
        "#     #     continue\n",
        "#     # Load the data\n",
        "#     raw = raw_from_layout(layout, subject=sub,\n",
        "#                            extension='.edf', preload=True)\n",
        "#     filt = line_filter(raw, mt_bandwidth=10., n_jobs=6,\n",
        "#                    filter_length='700ms', verbose=10,\n",
        "#                    freqs=[60], notch_widths=20)\n",
        "\n",
        "\n",
        "#     data = [raw, filt]\n",
        "#     viz.utils.figure_compare(data, [\"Un\", \"\"], avg=True, n_jobs=6,\n",
        "#                    verbose=10, proj=True, fmax=250)"
      ]
    },
    {
      "attachments": {},
      "cell_type": "markdown",
      "metadata": {},
      "source": [
        "save_derivative(filt, layout, \"clean\")\n",
        "\n"
      ]
    }
  ],
  "metadata": {
    "kernelspec": {
      "display_name": "Python 3",
      "language": "python",
      "name": "python3"
    },
    "language_info": {
      "codemirror_mode": {
        "name": "ipython",
        "version": 3
      },
      "file_extension": ".py",
      "mimetype": "text/x-python",
      "name": "python",
      "nbconvert_exporter": "python",
      "pygments_lexer": "ipython3",
      "version": "3.11.3"
    }
  },
  "nbformat": 4,
  "nbformat_minor": 0
}
