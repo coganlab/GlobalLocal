{
 "cells": [
  {
   "cell_type": "markdown",
   "metadata": {},
   "source": [
    "### convert this to a function and a .py file once it works and rename it to taskFunctions.py or something."
   ]
  },
  {
   "cell_type": "code",
   "execution_count": 77,
   "metadata": {},
   "outputs": [
    {
     "name": "stdout",
     "output_type": "stream",
     "text": [
      "[1.6162110000000212, 2.0, 1.9160150000000158, 1.2998039999999946, 1.6499029999999948, 1.9658200000001216, 2.065917999999783, 2.016112999999905, 1.9331050000000687, 1.583007999999836]\n",
      "[0, 15, 30, 31, 36, 37, 52, 97, 152, 159]\n"
     ]
    }
   ],
   "source": [
    "import mne\n",
    "\n",
    "def calculate_reaction_times(raw):\n",
    "    annotations = raw.annotations\n",
    "    reaction_times = []\n",
    "    skipped = []\n",
    "\n",
    "    for i in range(len(annotations) - 1):\n",
    "        current_annotation = annotations[i]\n",
    "        next_annotation = annotations[i + 1]\n",
    "        if 'Stimulus' in current_annotation['description']:\n",
    "            if 'Response' in next_annotation['description']:\n",
    "                reaction_time = next_annotation['onset'] - current_annotation['onset']\n",
    "                reaction_times.append(reaction_time)\n",
    "            else:\n",
    "                skipped.append(i)\n",
    "\n",
    "    return reaction_times, skipped\n",
    "\n",
    "# Use the function\n",
    "reaction_times, skipped = calculate_reaction_times(good)\n",
    "\n",
    "# Print first 10 reaction times and skipped indices\n",
    "print(reaction_times[:10])\n",
    "print(skipped[:10])\n"
   ]
  }
 ],
 "metadata": {
  "kernelspec": {
   "display_name": "ieeg",
   "language": "python",
   "name": "python3"
  },
  "language_info": {
   "codemirror_mode": {
    "name": "ipython",
    "version": 3
   },
   "file_extension": ".py",
   "mimetype": "text/x-python",
   "name": "python",
   "nbconvert_exporter": "python",
   "pygments_lexer": "ipython3",
   "version": "3.11.3"
  },
  "orig_nbformat": 4
 },
 "nbformat": 4,
 "nbformat_minor": 2
}
