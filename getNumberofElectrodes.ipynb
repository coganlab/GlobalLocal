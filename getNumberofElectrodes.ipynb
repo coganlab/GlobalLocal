{
 "cells": [
  {
   "cell_type": "code",
   "execution_count": 4,
   "metadata": {},
   "outputs": [
    {
     "name": "stderr",
     "output_type": "stream",
     "text": [
      "c:\\Users\\jz421\\AppData\\Local\\anaconda3\\envs\\ieeg\\Lib\\site-packages\\tqdm\\auto.py:21: TqdmWarning: IProgress not found. Please update jupyter and ipywidgets. See https://ipywidgets.readthedocs.io/en/stable/user_install.html\n",
      "  from .autonotebook import tqdm as notebook_tqdm\n"
     ]
    }
   ],
   "source": [
    "import os\n",
    "from ieeg.navigate import channel_outlier_marker, trial_ieeg, crop_empty_data, \\\n",
    "    outliers_to_nan\n",
    "from ieeg.io import raw_from_layout, get_data\n",
    "from ieeg.timefreq.utils import crop_pad\n",
    "from ieeg.timefreq import gamma\n",
    "from ieeg.calc.scaling import rescale\n",
    "import mne\n",
    "import os\n",
    "import numpy as np\n",
    "from ieeg.calc.reshape import make_data_same\n",
    "from ieeg.calc.stats import time_perm_cluster\n",
    "from ieeg.viz.mri import gen_labels\n",
    "\n",
    "from misc_functions import calculate_RTs, save_channels_to_file, save_sig_chans, load_sig_chans\n",
    "import matplotlib.pyplot as plt"
   ]
  },
  {
   "cell_type": "code",
   "execution_count": 6,
   "metadata": {},
   "outputs": [
    {
     "name": "stdout",
     "output_type": "stream",
     "text": [
      "['c:\\\\Users\\\\jz421\\\\Desktop\\\\GlobalLocal', 'C:\\\\Users\\\\jz421\\\\Desktop\\\\GlobalLocal\\\\IEEG_Pipelines', 'c:\\\\Users\\\\jz421\\\\AppData\\\\Local\\\\anaconda3\\\\envs\\\\ieeg\\\\python311.zip', 'c:\\\\Users\\\\jz421\\\\AppData\\\\Local\\\\anaconda3\\\\envs\\\\ieeg\\\\DLLs', 'c:\\\\Users\\\\jz421\\\\AppData\\\\Local\\\\anaconda3\\\\envs\\\\ieeg\\\\Lib', 'c:\\\\Users\\\\jz421\\\\AppData\\\\Local\\\\anaconda3\\\\envs\\\\ieeg', '', 'C:\\\\Users\\\\jz421\\\\AppData\\\\Roaming\\\\Python\\\\Python311\\\\site-packages', 'C:\\\\Users\\\\jz421\\\\AppData\\\\Roaming\\\\Python\\\\Python311\\\\site-packages\\\\win32', 'C:\\\\Users\\\\jz421\\\\AppData\\\\Roaming\\\\Python\\\\Python311\\\\site-packages\\\\win32\\\\lib', 'C:\\\\Users\\\\jz421\\\\AppData\\\\Roaming\\\\Python\\\\Python311\\\\site-packages\\\\Pythonwin', 'c:\\\\Users\\\\jz421\\\\AppData\\\\Local\\\\anaconda3\\\\envs\\\\ieeg\\\\Lib\\\\site-packages', 'c:\\\\Users\\\\jz421\\\\AppData\\\\Local\\\\anaconda3\\\\envs\\\\ieeg\\\\Lib\\\\site-packages\\\\win32', 'c:\\\\Users\\\\jz421\\\\AppData\\\\Local\\\\anaconda3\\\\envs\\\\ieeg\\\\Lib\\\\site-packages\\\\win32\\\\lib', 'c:\\\\Users\\\\jz421\\\\AppData\\\\Local\\\\anaconda3\\\\envs\\\\ieeg\\\\Lib\\\\site-packages\\\\Pythonwin']\n"
     ]
    },
    {
     "ename": "NameError",
     "evalue": "name 'sub' is not defined",
     "output_type": "error",
     "traceback": [
      "\u001b[1;31m---------------------------------------------------------------------------\u001b[0m",
      "\u001b[1;31mNameError\u001b[0m                                 Traceback (most recent call last)",
      "Cell \u001b[1;32mIn[6], line 17\u001b[0m\n\u001b[0;32m     13\u001b[0m         LAB_root \u001b[38;5;241m=\u001b[39m os\u001b[38;5;241m.\u001b[39mpath\u001b[38;5;241m.\u001b[39mjoin(HOME, \u001b[38;5;124m\"\u001b[39m\u001b[38;5;124mLibrary\u001b[39m\u001b[38;5;124m\"\u001b[39m, \u001b[38;5;124m\"\u001b[39m\u001b[38;5;124mCloudStorage\u001b[39m\u001b[38;5;124m\"\u001b[39m, \u001b[38;5;124m\"\u001b[39m\u001b[38;5;124mBox-Box\u001b[39m\u001b[38;5;124m\"\u001b[39m,\n\u001b[0;32m     14\u001b[0m                                 \u001b[38;5;124m\"\u001b[39m\u001b[38;5;124mCoganLab\u001b[39m\u001b[38;5;124m\"\u001b[39m)\n\u001b[0;32m     16\u001b[0m layout \u001b[38;5;241m=\u001b[39m get_data(task, root\u001b[38;5;241m=\u001b[39mLAB_root)\n\u001b[1;32m---> 17\u001b[0m save_dir \u001b[38;5;241m=\u001b[39m os\u001b[38;5;241m.\u001b[39mpath\u001b[38;5;241m.\u001b[39mjoin(layout\u001b[38;5;241m.\u001b[39mroot, \u001b[38;5;124m'\u001b[39m\u001b[38;5;124mderivatives\u001b[39m\u001b[38;5;124m'\u001b[39m, \u001b[38;5;124m'\u001b[39m\u001b[38;5;124mfreqFilt\u001b[39m\u001b[38;5;124m'\u001b[39m, \u001b[38;5;124m'\u001b[39m\u001b[38;5;124mfigs\u001b[39m\u001b[38;5;124m'\u001b[39m, \u001b[43msub\u001b[49m)\n\u001b[0;32m     18\u001b[0m \u001b[38;5;28;01mif\u001b[39;00m \u001b[38;5;129;01mnot\u001b[39;00m os\u001b[38;5;241m.\u001b[39mpath\u001b[38;5;241m.\u001b[39mexists(save_dir):\n\u001b[0;32m     19\u001b[0m     os\u001b[38;5;241m.\u001b[39mmakedirs(save_dir)\n",
      "\u001b[1;31mNameError\u001b[0m: name 'sub' is not defined"
     ]
    }
   ],
   "source": [
    "import sys\n",
    "print(sys.path)\n",
    "sys.path.append(\"C:/Users/jz421/Desktop/GlobalLocal/IEEG_Pipelines/\") #need to do this cuz otherwise ieeg isn't added to path...\n",
    "\n",
    "task = 'GlobalLocal'\n",
    "LAB_root = None\n",
    "\n",
    "if LAB_root is None:\n",
    "    HOME = os.path.expanduser(\"~\")\n",
    "    if os.name == 'nt':  # windows\n",
    "        LAB_root = os.path.join(HOME, \"Box\", \"CoganLab\")\n",
    "    else:  # mac\n",
    "        LAB_root = os.path.join(HOME, \"Library\", \"CloudStorage\", \"Box-Box\",\n",
    "                                \"CoganLab\")\n",
    "\n",
    "for sub in subjects:\n",
    "    layout = get_data(task, root=LAB_root)\n",
    "    save_dir = os.path.join(layout.root, 'derivatives', 'freqFilt', 'figs', sub)\n",
    "    if not os.path.exists(save_dir):\n",
    "        os.makedirs(save_dir)\n"
   ]
  },
  {
   "cell_type": "code",
   "execution_count": 18,
   "metadata": {},
   "outputs": [
    {
     "name": "stdout",
     "output_type": "stream",
     "text": [
      "Loaded significant channels for subject D0057\n"
     ]
    }
   ],
   "source": [
    "def get_sig_chans(sub, task, LAB_root=None):\n",
    "    # Determine LAB_root based on the operating system\n",
    "    if LAB_root is None:\n",
    "        HOME = os.path.expanduser(\"~\")\n",
    "        LAB_root = os.path.join(HOME, \"Box\", \"CoganLab\") if os.name == 'nt' else os.path.join(HOME, \"Library\", \"CloudStorage\", \"Box-Box\", \"CoganLab\")\n",
    "\n",
    "    # Get data layout\n",
    "    layout = get_data(task, root=LAB_root)\n",
    "    save_dir = os.path.join(layout.root, 'derivatives', 'freqFilt', 'figs', sub)\n",
    "\n",
    "    stim_filename = f'{save_dir}\\\\sig_chans_{sub}_Stimulus_fixationCrossBase_1sec_mirror.json'\n",
    "    stim_sig_chans = load_sig_chans(stim_filename)\n",
    "    return stim_sig_chans\n",
    "\n",
    "\n",
    "# Initialize an empty dictionary to store significant channels per subject\n",
    "sig_chans_per_subject = {}"
   ]
  },
  {
   "cell_type": "code",
   "execution_count": 22,
   "metadata": {},
   "outputs": [
    {
     "name": "stdout",
     "output_type": "stream",
     "text": [
      "Loaded significant channels for subject D0057\n",
      "Subject D0057: Filt Channels = 179, Good Channels = 176, Sig Channels = 87\n",
      "Loaded significant channels for subject D0059\n",
      "Subject D0059: Filt Channels = 185, Good Channels = 174, Sig Channels = 88\n",
      "Loaded significant channels for subject D0063\n",
      "Subject D0063: Filt Channels = 241, Good Channels = 235, Sig Channels = 43\n",
      "Loaded significant channels for subject D0065\n",
      "Subject D0065: Filt Channels = 221, Good Channels = 216, Sig Channels = 86\n",
      "Loaded significant channels for subject D0071\n",
      "Subject D0071: Filt Channels = 163, Good Channels = 157, Sig Channels = 114\n",
      "Loaded significant channels for subject D0077\n",
      "Subject D0077: Filt Channels = 135, Good Channels = 131, Sig Channels = 40\n",
      "Loaded significant channels for subject D0090\n",
      "Subject D0090: Filt Channels = 165, Good Channels = 157, Sig Channels = 41\n",
      "Loaded significant channels for subject D0094\n",
      "Subject D0094: Filt Channels = 241, Good Channels = 230, Sig Channels = 55\n",
      "Loaded significant channels for subject D0100\n",
      "Subject D0100: Filt Channels = 231, Good Channels = 224, Sig Channels = 85\n",
      "Loaded significant channels for subject D0102\n",
      "Subject D0102: Filt Channels = 228, Good Channels = 219, Sig Channels = 91\n",
      "Loaded significant channels for subject D0103\n",
      "Subject D0103: Filt Channels = 225, Good Channels = 232, Sig Channels = 106\n",
      "Total across all subjects: {'total_filt_channels': 2214, 'total_good_channels': 2151, 'total_sig_channels': 836}\n"
     ]
    }
   ],
   "source": [
    "import os\n",
    "import json\n",
    "\n",
    "# Define the subjects list\n",
    "subjects = ['D0057', 'D0059', 'D0063', 'D0065', 'D0071', \n",
    "            'D0077', 'D0090', 'D0094', 'D0100', 'D0102', 'D0103']\n",
    "\n",
    "# Initialize a dictionary to hold the counts\n",
    "counts = {\n",
    "    'total_filt_channels': 0,\n",
    "    'total_good_channels': 0,\n",
    "    'total_sig_channels': 0,\n",
    "}\n",
    "\n",
    "# Define the base path for your files\n",
    "base_path = 'C:/Users/jz421/Box/CoganLab/BIDS-1.1_GlobalLocal/BIDS/derivatives/'\n",
    "\n",
    "# Loop through each subject to gather data\n",
    "for sub in subjects:\n",
    "    # Load the 'good' channels\n",
    "    good_channels_path = os.path.join(base_path, 'freqFilt', 'figs', sub, f'channels_{sub}_GlobalLocal.txt')\n",
    "    with open(good_channels_path, 'r') as file:\n",
    "        good_channels = file.readlines()  # Adjust this line if the data is stored in a different format (e.g., JSON)\n",
    "    num_good_channels = len(good_channels)\n",
    "    \n",
    "        \n",
    "    # Populate the dictionary using get_sig_chans for each subject\n",
    "    sig_chans_per_subject[sub] = get_sig_chans(sub, 'GlobalLocal')\n",
    "    num_sig_channels = len(sig_chans_per_subject[sub])\n",
    "    \n",
    "    filt_channels_path = os.path.join(base_path, 'clean', f'sub-{sub}', 'ieeg', f'sub-{sub}_task-GlobalLocal_acq-01_run-01_desc-clean_channels.tsv')\n",
    "    with open(filt_channels_path, 'r') as file:\n",
    "        filt_channels = file.readlines()  # Adjust this line if the data is stored in a different format (e.g., JSON)\n",
    "    num_filt_channels = len(filt_channels) - 1\n",
    "\n",
    "    # Update the counts\n",
    "    counts['total_filt_channels'] += num_filt_channels\n",
    "    counts['total_good_channels'] += num_good_channels\n",
    "    counts['total_sig_channels'] += num_sig_channels\n",
    "    \n",
    "    # Print the counts for the current subject\n",
    "    print(f\"Subject {sub}: Filt Channels = {num_filt_channels}, Good Channels = {num_good_channels}, Sig Channels = {num_sig_channels}\")\n",
    "\n",
    "# Print total counts across all subjects\n",
    "print(\"Total across all subjects:\", counts)\n"
   ]
  },
  {
   "cell_type": "code",
   "execution_count": null,
   "metadata": {},
   "outputs": [],
   "source": []
  }
 ],
 "metadata": {
  "kernelspec": {
   "display_name": "ieeg",
   "language": "python",
   "name": "python3"
  },
  "language_info": {
   "codemirror_mode": {
    "name": "ipython",
    "version": 3
   },
   "file_extension": ".py",
   "mimetype": "text/x-python",
   "name": "python",
   "nbconvert_exporter": "python",
   "pygments_lexer": "ipython3",
   "version": "3.11.7"
  }
 },
 "nbformat": 4,
 "nbformat_minor": 2
}
