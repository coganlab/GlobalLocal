{
  "cells": [
    {
      "attachments": {},
      "cell_type": "markdown",
      "metadata": {},
      "source": [
        "\n",
        "# Example of High Gamma Filter\n",
        "\n",
        "Below is a code sample for extracting high gamma power from a raw data file, followed by permutation cluster stats on that high gamma power data\n"
      ]
    },
    {
      "cell_type": "code",
      "execution_count": 9,
      "metadata": {
        "collapsed": false
      },
      "outputs": [],
      "source": [
        "import ieeg.viz.utils\n",
        "from ieeg.navigate import channel_outlier_marker, trial_ieeg, crop_empty_data, outliers_to_nan\n",
        "from ieeg.io import raw_from_layout, get_data\n",
        "from ieeg.timefreq.utils import crop_pad\n",
        "from ieeg.calc import stats, scaling\n",
        "from ieeg.process import parallelize\n",
        "from ieeg.timefreq import gamma\n",
        "from ieeg.calc.scaling import rescale\n",
        "\n",
        "import matplotlib.pyplot as plt\n",
        "\n",
        "from bids import BIDSLayout\n",
        "import mne\n",
        "import os\n",
        "import numpy as np\n",
        "\n",
        "import pickle"
      ]
    },
    {
      "attachments": {},
      "cell_type": "markdown",
      "metadata": {},
      "source": [
        "### grab the data and set up variables"
      ]
    },
    {
      "cell_type": "code",
      "execution_count": 10,
      "metadata": {},
      "outputs": [
        {
          "name": "stdout",
          "output_type": "stream",
          "text": [
            "{'derivatives/clean': BIDS Layout: ...alLocal\\BIDS\\derivatives\\clean | Subjects: 6 | Sessions: 0 | Runs: 24}\n",
            "KeysView({'derivatives/clean': BIDS Layout: ...alLocal\\BIDS\\derivatives\\clean | Subjects: 6 | Sessions: 0 | Runs: 24})\n",
            "['D0057', 'D0059', 'D0063', 'D0065', 'D0069', 'D0071', 'D0077']\n",
            "Extracting EDF parameters from C:\\Users\\jz421\\Box\\CoganLab\\BIDS-1.1_GlobalLocal\\BIDS\\derivatives\\clean\\sub-D0057\\ieeg\\sub-D0057_task-GlobalLocal_acq-01_run-01_desc-clean_ieeg.edf...\n",
            "EDF file detected\n",
            "Setting channel info structure...\n",
            "Creating raw.info structure...\n",
            "Reading events from C:\\Users\\jz421\\Box\\CoganLab\\BIDS-1.1_GlobalLocal\\BIDS\\derivatives\\clean\\sub-D0057\\ieeg\\sub-D0057_task-GlobalLocal_acq-01_run-01_desc-clean_events.tsv.\n",
            "Reading channel info from C:\\Users\\jz421\\Box\\CoganLab\\BIDS-1.1_GlobalLocal\\BIDS\\derivatives\\clean\\sub-D0057\\ieeg\\sub-D0057_task-GlobalLocal_acq-01_run-01_desc-clean_channels.tsv.\n",
            "Reading electrode coords from C:\\Users\\jz421\\Box\\CoganLab\\BIDS-1.1_GlobalLocal\\BIDS\\derivatives\\clean\\sub-D0057\\ieeg\\sub-D0057_acq-01_space-ACPC_electrodes.tsv.\n",
            "Extracting EDF parameters from C:\\Users\\jz421\\Box\\CoganLab\\BIDS-1.1_GlobalLocal\\BIDS\\derivatives\\clean\\sub-D0057\\ieeg\\sub-D0057_task-GlobalLocal_acq-01_run-02_desc-clean_ieeg.edf...\n",
            "EDF file detected\n",
            "Setting channel info structure...\n",
            "Creating raw.info structure...\n"
          ]
        },
        {
          "name": "stderr",
          "output_type": "stream",
          "text": [
            "c:\\Users\\jz421\\Desktop\\GlobalLocal\\ieeg\\io.py:100: RuntimeWarning: The number of channels in the channels.tsv sidecar file (179) does not match the number of channels in the raw data file (178). Will not try to set channel names.\n",
            "  new_raw = read_raw_bids(bids_path=BIDS_path)\n",
            "c:\\Users\\jz421\\Desktop\\GlobalLocal\\ieeg\\io.py:100: RuntimeWarning: Cannot set channel type for the following channels, as they are missing in the raw data: Trigger\n",
            "  new_raw = read_raw_bids(bids_path=BIDS_path)\n"
          ]
        },
        {
          "name": "stdout",
          "output_type": "stream",
          "text": [
            "Reading events from C:\\Users\\jz421\\Box\\CoganLab\\BIDS-1.1_GlobalLocal\\BIDS\\derivatives\\clean\\sub-D0057\\ieeg\\sub-D0057_task-GlobalLocal_acq-01_run-02_desc-clean_events.tsv.\n",
            "Reading channel info from C:\\Users\\jz421\\Box\\CoganLab\\BIDS-1.1_GlobalLocal\\BIDS\\derivatives\\clean\\sub-D0057\\ieeg\\sub-D0057_task-GlobalLocal_acq-01_run-02_desc-clean_channels.tsv.\n",
            "Reading electrode coords from C:\\Users\\jz421\\Box\\CoganLab\\BIDS-1.1_GlobalLocal\\BIDS\\derivatives\\clean\\sub-D0057\\ieeg\\sub-D0057_acq-01_space-ACPC_electrodes.tsv.\n",
            "Extracting EDF parameters from C:\\Users\\jz421\\Box\\CoganLab\\BIDS-1.1_GlobalLocal\\BIDS\\derivatives\\clean\\sub-D0057\\ieeg\\sub-D0057_task-GlobalLocal_acq-01_run-03_desc-clean_ieeg.edf...\n",
            "EDF file detected\n",
            "Setting channel info structure...\n",
            "Creating raw.info structure...\n"
          ]
        },
        {
          "name": "stderr",
          "output_type": "stream",
          "text": [
            "c:\\Users\\jz421\\Desktop\\GlobalLocal\\ieeg\\io.py:100: RuntimeWarning: Omitted 228 annotation(s) that were outside data range.\n",
            "  new_raw = read_raw_bids(bids_path=BIDS_path)\n",
            "c:\\Users\\jz421\\Desktop\\GlobalLocal\\ieeg\\io.py:100: RuntimeWarning: The number of channels in the channels.tsv sidecar file (179) does not match the number of channels in the raw data file (178). Will not try to set channel names.\n",
            "  new_raw = read_raw_bids(bids_path=BIDS_path)\n",
            "c:\\Users\\jz421\\Desktop\\GlobalLocal\\ieeg\\io.py:100: RuntimeWarning: Cannot set channel type for the following channels, as they are missing in the raw data: Trigger\n",
            "  new_raw = read_raw_bids(bids_path=BIDS_path)\n"
          ]
        },
        {
          "name": "stdout",
          "output_type": "stream",
          "text": [
            "Reading events from C:\\Users\\jz421\\Box\\CoganLab\\BIDS-1.1_GlobalLocal\\BIDS\\derivatives\\clean\\sub-D0057\\ieeg\\sub-D0057_task-GlobalLocal_acq-01_run-03_desc-clean_events.tsv.\n",
            "Reading channel info from C:\\Users\\jz421\\Box\\CoganLab\\BIDS-1.1_GlobalLocal\\BIDS\\derivatives\\clean\\sub-D0057\\ieeg\\sub-D0057_task-GlobalLocal_acq-01_run-03_desc-clean_channels.tsv.\n",
            "Reading electrode coords from C:\\Users\\jz421\\Box\\CoganLab\\BIDS-1.1_GlobalLocal\\BIDS\\derivatives\\clean\\sub-D0057\\ieeg\\sub-D0057_acq-01_space-ACPC_electrodes.tsv.\n",
            "Extracting EDF parameters from C:\\Users\\jz421\\Box\\CoganLab\\BIDS-1.1_GlobalLocal\\BIDS\\derivatives\\clean\\sub-D0057\\ieeg\\sub-D0057_task-GlobalLocal_acq-01_run-04_desc-clean_ieeg.edf...\n",
            "EDF file detected\n",
            "Setting channel info structure...\n",
            "Creating raw.info structure...\n"
          ]
        },
        {
          "name": "stderr",
          "output_type": "stream",
          "text": [
            "c:\\Users\\jz421\\Desktop\\GlobalLocal\\ieeg\\io.py:100: RuntimeWarning: Omitted 228 annotation(s) that were outside data range.\n",
            "  new_raw = read_raw_bids(bids_path=BIDS_path)\n",
            "c:\\Users\\jz421\\Desktop\\GlobalLocal\\ieeg\\io.py:100: RuntimeWarning: The number of channels in the channels.tsv sidecar file (179) does not match the number of channels in the raw data file (178). Will not try to set channel names.\n",
            "  new_raw = read_raw_bids(bids_path=BIDS_path)\n",
            "c:\\Users\\jz421\\Desktop\\GlobalLocal\\ieeg\\io.py:100: RuntimeWarning: Cannot set channel type for the following channels, as they are missing in the raw data: Trigger\n",
            "  new_raw = read_raw_bids(bids_path=BIDS_path)\n"
          ]
        },
        {
          "name": "stdout",
          "output_type": "stream",
          "text": [
            "Reading events from C:\\Users\\jz421\\Box\\CoganLab\\BIDS-1.1_GlobalLocal\\BIDS\\derivatives\\clean\\sub-D0057\\ieeg\\sub-D0057_task-GlobalLocal_acq-01_run-04_desc-clean_events.tsv.\n",
            "Reading channel info from C:\\Users\\jz421\\Box\\CoganLab\\BIDS-1.1_GlobalLocal\\BIDS\\derivatives\\clean\\sub-D0057\\ieeg\\sub-D0057_task-GlobalLocal_acq-01_run-04_desc-clean_channels.tsv.\n",
            "Reading electrode coords from C:\\Users\\jz421\\Box\\CoganLab\\BIDS-1.1_GlobalLocal\\BIDS\\derivatives\\clean\\sub-D0057\\ieeg\\sub-D0057_acq-01_space-ACPC_electrodes.tsv.\n"
          ]
        },
        {
          "name": "stderr",
          "output_type": "stream",
          "text": [
            "c:\\Users\\jz421\\Desktop\\GlobalLocal\\ieeg\\io.py:100: RuntimeWarning: Omitted 226 annotation(s) that were outside data range.\n",
            "  new_raw = read_raw_bids(bids_path=BIDS_path)\n",
            "c:\\Users\\jz421\\Desktop\\GlobalLocal\\ieeg\\io.py:100: RuntimeWarning: The number of channels in the channels.tsv sidecar file (179) does not match the number of channels in the raw data file (178). Will not try to set channel names.\n",
            "  new_raw = read_raw_bids(bids_path=BIDS_path)\n",
            "c:\\Users\\jz421\\Desktop\\GlobalLocal\\ieeg\\io.py:100: RuntimeWarning: Cannot set channel type for the following channels, as they are missing in the raw data: Trigger\n",
            "  new_raw = read_raw_bids(bids_path=BIDS_path)\n"
          ]
        }
      ],
      "source": [
        "HOME = os.path.expanduser(\"~\")\n",
        "\n",
        "# get box directory depending on OS\n",
        "if os.name == 'nt': # windows\n",
        "    LAB_root = os.path.join(HOME, \"Box\", \"CoganLab\")\n",
        "else: # mac\n",
        "    LAB_root = os.path.join(HOME, \"Library\", \"CloudStorage\", \"Box-Box\", \"CoganLab\")\n",
        "\n",
        "layout = get_data(\"GlobalLocal\", root=LAB_root)\n",
        "\n",
        "\n",
        "\n",
        "print(layout.derivatives)\n",
        "print(layout.derivatives.keys())\n",
        "\n",
        "# raw = raw_from_layout(layout, subject=sub,\n",
        "#                         extension='.edf', preload=True)\n",
        "subjects = layout.get(return_type=\"id\", target=\"subject\")\n",
        "sub = \"D0057\" #just do one at a time for now, can implement all in a for loop later\n",
        "print(subjects)\n",
        "\n",
        "\n",
        "filt = raw_from_layout(layout.derivatives['derivatives/clean'], subject=sub,\n",
        "                           extension='.edf', desc='clean', preload=False) #get line-noise filtered data\n",
        "\n",
        "\n",
        "\n",
        "save_dir = os.path.join(layout.root, 'derivatives', 'freqFilt', sub)\n",
        "if not os.path.exists(save_dir):\n",
        "    os.makedirs(save_dir)\n",
        "\n",
        "\n",
        "\n",
        "# # what to call the folder, is there a convention? Nahhh."
      ]
    },
    {
      "attachments": {},
      "cell_type": "markdown",
      "metadata": {},
      "source": [
        "### Okay now actually do filtering"
      ]
    },
    {
      "cell_type": "code",
      "execution_count": 3,
      "metadata": {
        "collapsed": false
      },
      "outputs": [
        {
          "name": "stdout",
          "output_type": "stream",
          "text": [
            "Reading 0 ... 3219820  =      0.000 ...  1572.178 secs...\n",
            "Applying average reference.\n",
            "Applying a custom ('sEEG',) reference.\n"
          ]
        }
      ],
      "source": [
        "## Crop raw data to minimize processing time\n",
        "new = crop_empty_data(filt, )\n",
        "\n",
        "# Mark channel outliers as bad\n",
        "# new.info['bads'] = channel_outlier_marker(new, 4)\n",
        "# Exclude bad channels\n",
        "good = new.copy().drop_channels(filt.info['bads'])\n",
        "good.load_data()\n",
        "\n",
        "# CAR\n",
        "ch_type = filt.get_channel_types(only_data_chs=True)[0]\n",
        "good.set_eeg_reference(ref_channels=\"average\", ch_type=ch_type)\n",
        "\n",
        "# Remove intermediates from mem\n",
        "del new"
      ]
    },
    {
      "cell_type": "code",
      "execution_count": 12,
      "metadata": {},
      "outputs": [
        {
          "name": "stdout",
          "output_type": "stream",
          "text": [
            "Used Annotations descriptions: ['Response/c25/n25', 'Response/c25/r25', 'Response/c25/r75', 'Response/c25/s25', 'Response/c25/s75', 'Response/c75/r25', 'Response/c75/r75', 'Response/c75/s25', 'Response/c75/s75', 'Response/i25/r25', 'Response/i25/r75', 'Response/i25/s25', 'Response/i25/s75', 'Response/i75/n25', 'Response/i75/n75', 'Response/i75/r25', 'Response/i75/r75', 'Response/i75/s25', 'Response/i75/s75', 'Stimulus/c25/n25', 'Stimulus/c25/r25', 'Stimulus/c25/r75', 'Stimulus/c25/s25', 'Stimulus/c25/s75', 'Stimulus/c75/r25', 'Stimulus/c75/r75', 'Stimulus/c75/s25', 'Stimulus/c75/s75', 'Stimulus/i25/n75', 'Stimulus/i25/r25', 'Stimulus/i25/r75', 'Stimulus/i25/s25', 'Stimulus/i25/s75', 'Stimulus/i75/n25', 'Stimulus/i75/n75', 'Stimulus/i75/r25', 'Stimulus/i75/r75', 'Stimulus/i75/s25', 'Stimulus/i75/s75']\n",
            "event_ids: {'c25/n25': 20, 'c25/r25': 21, 'c25/r75': 22, 'c25/s25': 23, 'c25/s75': 24, 'c75/r25': 25, 'c75/r75': 26, 'c75/s25': 27, 'c75/s75': 28, 'i25/n75': 29, 'i25/r25': 30, 'i25/r75': 31, 'i25/s25': 32, 'i25/s75': 33, 'i75/n25': 34, 'i75/n75': 35, 'i75/r25': 36, 'i75/r75': 37, 'i75/s25': 38, 'i75/s75': 39}\n",
            "Not setting metadata\n",
            "448 matching events found\n",
            "No baseline correction applied\n",
            "0 projection items activated\n",
            "Using data from preloaded Raw for 448 events and 3073 original time points ...\n"
          ]
        },
        {
          "name": "stdout",
          "output_type": "stream",
          "text": [
            "0 bad epochs dropped\n"
          ]
        },
        {
          "name": "stderr",
          "output_type": "stream",
          "text": [
            "100%|██████████| 448/448 [04:34<00:00,  1.63it/s]\n"
          ]
        }
      ],
      "source": [
        "# make stimulus baseline EpochsTFR\n",
        "times=[-1, 0.5]\n",
        "\n",
        "trials = trial_ieeg(good, \"Stimulus\", times, preload=True)\n",
        "# outliers_to_nan(trials, outliers=10)\n",
        "HG_base = gamma.extract(trials, copy=False, n_jobs=1)\n",
        "crop_pad(HG_base, \"0.5s\")"
      ]
    },
    {
      "cell_type": "code",
      "execution_count": 16,
      "metadata": {},
      "outputs": [
        {
          "name": "stdout",
          "output_type": "stream",
          "text": [
            "Used Annotations descriptions: ['Response/c25/n25', 'Response/c25/r25', 'Response/c25/r75', 'Response/c25/s25', 'Response/c25/s75', 'Response/c75/r25', 'Response/c75/r75', 'Response/c75/s25', 'Response/c75/s75', 'Response/i25/r25', 'Response/i25/r75', 'Response/i25/s25', 'Response/i25/s75', 'Response/i75/n25', 'Response/i75/n75', 'Response/i75/r25', 'Response/i75/r75', 'Response/i75/s25', 'Response/i75/s75', 'Stimulus/c25/n25', 'Stimulus/c25/r25', 'Stimulus/c25/r75', 'Stimulus/c25/s25', 'Stimulus/c25/s75', 'Stimulus/c75/r25', 'Stimulus/c75/r75', 'Stimulus/c75/s25', 'Stimulus/c75/s75', 'Stimulus/i25/n75', 'Stimulus/i25/r25', 'Stimulus/i25/r75', 'Stimulus/i25/s25', 'Stimulus/i25/s75', 'Stimulus/i75/n25', 'Stimulus/i75/n75', 'Stimulus/i75/r25', 'Stimulus/i75/r75', 'Stimulus/i75/s25', 'Stimulus/i75/s75']\n",
            "event_ids: {'c25/n25': 20, 'c25/r25': 21, 'c25/r75': 22, 'c25/s25': 23, 'c25/s75': 24, 'c75/r25': 25, 'c75/r75': 26, 'c75/s25': 27, 'c75/s75': 28, 'i25/n75': 29, 'i25/r25': 30, 'i25/r75': 31, 'i25/s25': 32, 'i25/s75': 33, 'i75/n25': 34, 'i75/n75': 35, 'i75/r25': 36, 'i75/r75': 37, 'i75/s25': 38, 'i75/s75': 39}\n",
            "Not setting metadata\n",
            "448 matching events found\n"
          ]
        },
        {
          "name": "stdout",
          "output_type": "stream",
          "text": [
            "No baseline correction applied\n",
            "0 projection items activated\n",
            "Using data from preloaded Raw for 448 events and 7169 original time points ...\n"
          ]
        }
      ],
      "source": [
        "data_dict = {}  # Create an empty dictionary\n",
        "\n",
        "for event, t in zip((\"Stimulus\", \"Response\"), ((-1, 1.5), (-1, 1.5))):\n",
        "    times = [None, None]\n",
        "    times[0] = t[0] - 0.5\n",
        "    times[1] = t[1] + 0.5\n",
        "    trials = trial_ieeg(good, event, times, preload=True)\n",
        "    # outliers_to_nan(trials, outliers=10)\n",
        "    HG_ev1 = gamma.extract(trials, copy=False, n_jobs=1)\n",
        "    crop_pad(HG_ev1, \"0.5s\")\n",
        "\n",
        "    HG_ev1_rescaled = rescale(HG_ev1, HG_base, copy=True, mode='ratio').average(\n",
        "        lambda x: np.nanmean(x, axis=0), copy=True)\n",
        "    # HG_ev1.resample(100)\n",
        "    # HG_ev1.filenames = good.filenames\n",
        "\n",
        "    # Store the variable in the dictionary with the desired name\n",
        "    data_dict[f\"HG_ev1_{event}\"] = HG_ev1\n",
        "    data_dict[f\"HG_ev1_{event}_rescaled\"] = HG_ev1_rescaled\n",
        "# Specify the file path where you want to save the dictionary\n",
        "file_path = \"data_dict.pickle\"\n",
        "\n",
        "# Save the dictionary to a pickle file\n",
        "with open(file_path, \"wb\") as file:\n",
        "    pickle.dump(data_dict, file)\n",
        "\n",
        "\n",
        "\n",
        "\n",
        "    "
      ]
    },
    {
      "cell_type": "code",
      "execution_count": 9,
      "metadata": {},
      "outputs": [],
      "source": [
        "# read pickle file that we saved previously\n",
        "\n",
        "# Specify the file path where you want to save the dictionary\n",
        "file_path = \"data_dict.pickle\"\n",
        "\n",
        "with open(file_path, \"rb\") as file:\n",
        "    data_dict = pickle.load(file)"
      ]
    },
    {
      "cell_type": "code",
      "execution_count": 31,
      "metadata": {},
      "outputs": [
        {
          "name": "stdout",
          "output_type": "stream",
          "text": [
            "NOTE: pick_channels() is a legacy function. New code should use inst.pick(...).\n"
          ]
        }
      ],
      "source": [
        "resp_evoke = data_dict[\"HG_ev1_Response\"].average(method=lambda x: np.nanmean(x, axis=0))\n",
        "resp_evoke_rescaled = data_dict[\"HG_ev1_Response_rescaled\"].average(method=lambda x: np.nanmean(x, axis=0))\n",
        "stim_evoke = data_dict[\"HG_ev1_Stimulus\"].average(method=lambda x: np.nanmean(x, axis=0))\n",
        "stim_evoke_rescaled = data_dict[\"HG_ev1_Stimulus_rescaled\"].average(method=lambda x: np.nanmean(x, axis=0))\n",
        "\n",
        "# # # Manually interpolate NaN values\n",
        "# resp_evoke.data = np.where(np.isnan(resp_evoke.data), np.interp(resp_evoke.times, resp_evoke.times[~np.isnan(resp_evoke.data[0])], resp_evoke.data[0, ~np.isnan(resp_evoke.data[0])]), resp_evoke.data)\n",
        "\n",
        "# # Exclude time points with NaN values\n",
        "# valid_time_points = ~np.isnan(resp_evoke.data[0])  # Filter time points without NaNs\n",
        "# resp_evoke = resp_evoke.crop(tmin=resp_evoke.times[valid_time_points][0], tmax=resp_evoke.times[valid_time_points][-1])\n",
        "\n",
        "# Plot the evoked data\n",
        "fig = resp_evoke_rescaled.plot()\n",
        "fig.savefig('HG_ev1_Response_rescaled.png')\n",
        "\n",
        "fig = stim_evoke_rescaled.plot()\n",
        "fig.savefig('HG_ev1_Stimulus_rescaled.png')"
      ]
    },
    {
      "attachments": {},
      "cell_type": "markdown",
      "metadata": {},
      "source": [
        "# do time permutation cluster statistics"
      ]
    },
    {
      "attachments": {},
      "cell_type": "markdown",
      "metadata": {},
      "source": [
        "### decimate..?"
      ]
    },
    {
      "cell_type": "code",
      "execution_count": 42,
      "metadata": {},
      "outputs": [
        {
          "name": "stderr",
          "output_type": "stream",
          "text": [
            "C:\\Users\\jz421\\AppData\\Local\\Temp\\ipykernel_504\\3235446528.py:3: RuntimeWarning: The measurement information indicates a low-pass frequency of 1024.0 Hz. The decim=2 parameter will result in a sampling frequency of 256.0 Hz, which can cause aliasing artifacts.\n",
            "  base[0].decimate(2)\n",
            "C:\\Users\\jz421\\AppData\\Local\\Temp\\ipykernel_504\\3235446528.py:4: RuntimeWarning: The measurement information indicates a low-pass frequency of 1024.0 Hz. The decim=2 parameter will result in a sampling frequency of 256.0 Hz, which can cause aliasing artifacts.\n",
            "  resp.decimate(2)\n",
            "C:\\Users\\jz421\\AppData\\Local\\Temp\\ipykernel_504\\3235446528.py:5: RuntimeWarning: The measurement information indicates a low-pass frequency of 1024.0 Hz. The decim=2 parameter will result in a sampling frequency of 1024.0 Hz, which can cause aliasing artifacts.\n",
            "  stim.decimate(2)\n"
          ]
        },
        {
          "data": {
            "text/html": [
              "<table class=\"table table-hover table-striped table-sm table-responsive small\">\n",
              "    <tr>\n",
              "        <th>Number of events</th>\n",
              "        <td>448</td>\n",
              "    </tr>\n",
              "    <tr>\n",
              "        <th>Events</th>\n",
              "        \n",
              "        <td>c25/n25: 1<br/>c25/r25: 63<br/>c25/r75: 23<br/>c25/s25: 20<br/>c25/s75: 61<br/>c75/r25: 24<br/>c75/r75: 11<br/>c75/s25: 4<br/>c75/s75: 17<br/>i25/n75: 1<br/>i25/r25: 21<br/>i25/r75: 5<br/>i25/s25: 7<br/>i25/s75: 22<br/>i75/n25: 1<br/>i75/n75: 1<br/>i75/r25: 60<br/>i75/r75: 17<br/>i75/s25: 23<br/>i75/s75: 66</td>\n",
              "        \n",
              "    </tr>\n",
              "    <tr>\n",
              "        <th>Time range</th>\n",
              "        <td>-1.000 – 1.500 s</td>\n",
              "    </tr>\n",
              "    <tr>\n",
              "        <th>Baseline</th>\n",
              "        <td>off</td>\n",
              "    </tr>\n",
              "</table>"
            ],
            "text/plain": [
              "<Epochs |  448 events (all good), -1 – 1.5 s, baseline off, ~1.52 GB, data loaded,\n",
              " 'c25/n25': 1\n",
              " 'c25/r25': 63\n",
              " 'c25/r75': 23\n",
              " 'c25/s25': 20\n",
              " 'c25/s75': 61\n",
              " 'c75/r25': 24\n",
              " 'c75/r75': 11\n",
              " 'c75/s25': 4\n",
              " 'c75/s75': 17\n",
              " 'i25/n75': 1\n",
              " and 10 more events ...>"
            ]
          },
          "execution_count": 42,
          "metadata": {},
          "output_type": "execute_result"
        }
      ],
      "source": [
        "resp = data_dict[\"HG_ev1_Response_rescaled\"]\n",
        "stim = data_dict[\"HG_ev1_Stimulus_rescaled\"]\n",
        "base[0].decimate(2)\n",
        "resp.decimate(2)\n",
        "stim.decimate(2)"
      ]
    },
    {
      "cell_type": "code",
      "execution_count": 21,
      "metadata": {},
      "outputs": [
        {
          "name": "stderr",
          "output_type": "stream",
          "text": [
            "[Parallel(n_jobs=6)]: Using backend LokyBackend with 6 concurrent workers.\n",
            "[Parallel(n_jobs=6)]: Done   1 tasks      | elapsed:   57.2s\n",
            "[Parallel(n_jobs=6)]: Done   2 tasks      | elapsed:   57.3s\n",
            "[Parallel(n_jobs=6)]: Done   3 tasks      | elapsed:   57.4s\n",
            "[Parallel(n_jobs=6)]: Done   4 tasks      | elapsed:   57.5s\n",
            "[Parallel(n_jobs=6)]: Done   5 tasks      | elapsed:   57.6s\n",
            "[Parallel(n_jobs=6)]: Done   6 tasks      | elapsed:   57.9s\n",
            "[Parallel(n_jobs=6)]: Done   7 tasks      | elapsed:  1.9min\n",
            "[Parallel(n_jobs=6)]: Done   8 tasks      | elapsed:  1.9min\n",
            "[Parallel(n_jobs=6)]: Done   9 tasks      | elapsed:  1.9min\n",
            "[Parallel(n_jobs=6)]: Done  10 tasks      | elapsed:  1.9min\n",
            "[Parallel(n_jobs=6)]: Done  11 tasks      | elapsed:  1.9min\n",
            "[Parallel(n_jobs=6)]: Done  12 tasks      | elapsed:  1.9min\n",
            "[Parallel(n_jobs=6)]: Done  13 tasks      | elapsed:  2.9min\n",
            "[Parallel(n_jobs=6)]: Done  14 tasks      | elapsed:  2.9min\n",
            "[Parallel(n_jobs=6)]: Done  15 tasks      | elapsed:  2.9min\n",
            "[Parallel(n_jobs=6)]: Done  16 tasks      | elapsed:  2.9min\n",
            "[Parallel(n_jobs=6)]: Done  17 tasks      | elapsed:  2.9min\n",
            "[Parallel(n_jobs=6)]: Done  18 tasks      | elapsed:  2.9min\n",
            "[Parallel(n_jobs=6)]: Done  19 tasks      | elapsed:  3.9min\n",
            "[Parallel(n_jobs=6)]: Done  20 tasks      | elapsed:  3.9min\n",
            "[Parallel(n_jobs=6)]: Done  21 tasks      | elapsed:  3.9min\n",
            "[Parallel(n_jobs=6)]: Done  22 tasks      | elapsed:  3.9min\n",
            "[Parallel(n_jobs=6)]: Done  23 tasks      | elapsed:  3.9min\n",
            "[Parallel(n_jobs=6)]: Done  24 tasks      | elapsed:  3.9min\n",
            "[Parallel(n_jobs=6)]: Done  25 tasks      | elapsed:  4.8min\n",
            "[Parallel(n_jobs=6)]: Done  26 tasks      | elapsed:  4.8min\n",
            "[Parallel(n_jobs=6)]: Done  27 tasks      | elapsed:  4.8min\n",
            "[Parallel(n_jobs=6)]: Done  28 tasks      | elapsed:  4.8min\n",
            "[Parallel(n_jobs=6)]: Done  29 tasks      | elapsed:  4.8min\n",
            "[Parallel(n_jobs=6)]: Done  30 tasks      | elapsed:  4.8min\n",
            "[Parallel(n_jobs=6)]: Done  31 tasks      | elapsed:  5.7min\n",
            "[Parallel(n_jobs=6)]: Done  32 tasks      | elapsed:  5.8min\n",
            "[Parallel(n_jobs=6)]: Done  33 tasks      | elapsed:  5.8min\n",
            "[Parallel(n_jobs=6)]: Done  34 tasks      | elapsed:  5.8min\n",
            "[Parallel(n_jobs=6)]: Done  35 tasks      | elapsed:  5.8min\n",
            "[Parallel(n_jobs=6)]: Done  36 tasks      | elapsed:  5.8min\n",
            "[Parallel(n_jobs=6)]: Done  37 tasks      | elapsed:  6.7min\n",
            "[Parallel(n_jobs=6)]: Done  38 tasks      | elapsed:  6.7min\n",
            "[Parallel(n_jobs=6)]: Done  39 tasks      | elapsed:  6.8min\n",
            "[Parallel(n_jobs=6)]: Done  40 tasks      | elapsed:  6.8min\n",
            "[Parallel(n_jobs=6)]: Done  41 tasks      | elapsed:  6.8min\n",
            "[Parallel(n_jobs=6)]: Done  42 tasks      | elapsed:  6.8min\n",
            "[Parallel(n_jobs=6)]: Done  43 tasks      | elapsed:  7.6min\n",
            "[Parallel(n_jobs=6)]: Done  44 tasks      | elapsed:  7.6min\n",
            "[Parallel(n_jobs=6)]: Done  45 tasks      | elapsed:  7.7min\n",
            "[Parallel(n_jobs=6)]: Done  46 tasks      | elapsed:  7.7min\n",
            "[Parallel(n_jobs=6)]: Done  47 tasks      | elapsed:  7.7min\n",
            "[Parallel(n_jobs=6)]: Done  48 tasks      | elapsed:  7.7min\n",
            "[Parallel(n_jobs=6)]: Done  49 tasks      | elapsed:  8.4min\n",
            "[Parallel(n_jobs=6)]: Done  50 tasks      | elapsed:  8.5min\n",
            "[Parallel(n_jobs=6)]: Done  51 tasks      | elapsed:  8.5min\n",
            "[Parallel(n_jobs=6)]: Done  52 tasks      | elapsed:  8.5min\n",
            "[Parallel(n_jobs=6)]: Done  53 tasks      | elapsed:  8.5min\n",
            "[Parallel(n_jobs=6)]: Done  54 tasks      | elapsed:  8.6min\n",
            "[Parallel(n_jobs=6)]: Done  55 tasks      | elapsed:  9.3min\n",
            "[Parallel(n_jobs=6)]: Done  56 tasks      | elapsed:  9.3min\n",
            "[Parallel(n_jobs=6)]: Done  57 tasks      | elapsed:  9.4min\n",
            "[Parallel(n_jobs=6)]: Done  58 tasks      | elapsed:  9.4min\n",
            "[Parallel(n_jobs=6)]: Done  59 tasks      | elapsed:  9.4min\n",
            "[Parallel(n_jobs=6)]: Done  60 tasks      | elapsed:  9.4min\n",
            "[Parallel(n_jobs=6)]: Done  61 tasks      | elapsed: 10.1min\n",
            "[Parallel(n_jobs=6)]: Done  62 tasks      | elapsed: 10.2min\n",
            "[Parallel(n_jobs=6)]: Done  63 tasks      | elapsed: 10.3min\n",
            "[Parallel(n_jobs=6)]: Done  64 tasks      | elapsed: 10.3min\n",
            "[Parallel(n_jobs=6)]: Done  65 tasks      | elapsed: 10.3min\n",
            "[Parallel(n_jobs=6)]: Done  66 tasks      | elapsed: 10.3min\n",
            "[Parallel(n_jobs=6)]: Done  67 tasks      | elapsed: 11.0min\n",
            "[Parallel(n_jobs=6)]: Done  68 tasks      | elapsed: 11.0min\n",
            "[Parallel(n_jobs=6)]: Done  69 tasks      | elapsed: 11.1min\n",
            "[Parallel(n_jobs=6)]: Done  70 tasks      | elapsed: 11.2min\n",
            "[Parallel(n_jobs=6)]: Done  71 tasks      | elapsed: 11.2min\n",
            "[Parallel(n_jobs=6)]: Done  72 tasks      | elapsed: 11.2min\n",
            "[Parallel(n_jobs=6)]: Done  73 tasks      | elapsed: 11.8min\n",
            "[Parallel(n_jobs=6)]: Done  74 tasks      | elapsed: 11.9min\n",
            "[Parallel(n_jobs=6)]: Done  75 tasks      | elapsed: 12.0min\n",
            "[Parallel(n_jobs=6)]: Done  76 tasks      | elapsed: 12.0min\n",
            "[Parallel(n_jobs=6)]: Done  77 tasks      | elapsed: 12.0min\n",
            "[Parallel(n_jobs=6)]: Done  78 tasks      | elapsed: 12.0min\n",
            "[Parallel(n_jobs=6)]: Done  79 tasks      | elapsed: 12.7min\n",
            "[Parallel(n_jobs=6)]: Done  80 tasks      | elapsed: 12.7min\n",
            "[Parallel(n_jobs=6)]: Done  81 tasks      | elapsed: 12.8min\n",
            "[Parallel(n_jobs=6)]: Done  82 tasks      | elapsed: 12.9min\n",
            "[Parallel(n_jobs=6)]: Done  83 tasks      | elapsed: 12.9min\n",
            "[Parallel(n_jobs=6)]: Done  84 tasks      | elapsed: 12.9min\n",
            "[Parallel(n_jobs=6)]: Done  85 tasks      | elapsed: 13.5min\n",
            "[Parallel(n_jobs=6)]: Done  86 tasks      | elapsed: 13.6min\n",
            "[Parallel(n_jobs=6)]: Done  87 tasks      | elapsed: 13.7min\n",
            "[Parallel(n_jobs=6)]: Done  88 tasks      | elapsed: 13.8min\n",
            "[Parallel(n_jobs=6)]: Done  89 tasks      | elapsed: 13.8min\n",
            "[Parallel(n_jobs=6)]: Done  90 tasks      | elapsed: 13.8min\n",
            "[Parallel(n_jobs=6)]: Done  91 tasks      | elapsed: 14.4min\n",
            "[Parallel(n_jobs=6)]: Done  92 tasks      | elapsed: 14.4min\n",
            "[Parallel(n_jobs=6)]: Done  93 tasks      | elapsed: 14.6min\n",
            "[Parallel(n_jobs=6)]: Done  94 tasks      | elapsed: 14.7min\n",
            "[Parallel(n_jobs=6)]: Done  95 tasks      | elapsed: 14.7min\n",
            "[Parallel(n_jobs=6)]: Done  96 tasks      | elapsed: 14.7min\n",
            "[Parallel(n_jobs=6)]: Done  97 tasks      | elapsed: 15.3min\n",
            "[Parallel(n_jobs=6)]: Done  98 tasks      | elapsed: 15.3min\n",
            "[Parallel(n_jobs=6)]: Done  99 tasks      | elapsed: 15.5min\n",
            "[Parallel(n_jobs=6)]: Done 100 tasks      | elapsed: 15.6min\n",
            "[Parallel(n_jobs=6)]: Done 101 tasks      | elapsed: 15.6min\n",
            "[Parallel(n_jobs=6)]: Done 102 tasks      | elapsed: 15.6min\n",
            "[Parallel(n_jobs=6)]: Done 103 tasks      | elapsed: 16.2min\n",
            "[Parallel(n_jobs=6)]: Done 104 tasks      | elapsed: 16.2min\n",
            "[Parallel(n_jobs=6)]: Done 105 tasks      | elapsed: 16.4min\n",
            "[Parallel(n_jobs=6)]: Done 106 tasks      | elapsed: 16.5min\n",
            "[Parallel(n_jobs=6)]: Done 107 tasks      | elapsed: 16.5min\n",
            "[Parallel(n_jobs=6)]: Done 108 tasks      | elapsed: 16.5min\n",
            "[Parallel(n_jobs=6)]: Done 109 tasks      | elapsed: 17.1min\n",
            "[Parallel(n_jobs=6)]: Done 110 tasks      | elapsed: 17.1min\n",
            "[Parallel(n_jobs=6)]: Done 111 tasks      | elapsed: 17.3min\n",
            "[Parallel(n_jobs=6)]: Done 112 tasks      | elapsed: 17.4min\n",
            "[Parallel(n_jobs=6)]: Done 113 tasks      | elapsed: 17.4min\n",
            "[Parallel(n_jobs=6)]: Done 114 tasks      | elapsed: 17.4min\n",
            "[Parallel(n_jobs=6)]: Done 115 tasks      | elapsed: 17.9min\n",
            "[Parallel(n_jobs=6)]: Done 116 tasks      | elapsed: 18.0min\n",
            "[Parallel(n_jobs=6)]: Done 117 tasks      | elapsed: 18.1min\n",
            "[Parallel(n_jobs=6)]: Done 118 tasks      | elapsed: 18.2min\n",
            "[Parallel(n_jobs=6)]: Done 119 tasks      | elapsed: 18.2min\n",
            "[Parallel(n_jobs=6)]: Done 120 tasks      | elapsed: 18.2min\n",
            "[Parallel(n_jobs=6)]: Done 121 tasks      | elapsed: 18.8min\n",
            "[Parallel(n_jobs=6)]: Done 122 tasks      | elapsed: 18.8min\n",
            "[Parallel(n_jobs=6)]: Done 123 tasks      | elapsed: 19.0min\n",
            "[Parallel(n_jobs=6)]: Done 124 tasks      | elapsed: 19.1min\n",
            "[Parallel(n_jobs=6)]: Done 125 tasks      | elapsed: 19.1min\n",
            "[Parallel(n_jobs=6)]: Done 126 tasks      | elapsed: 19.1min\n",
            "[Parallel(n_jobs=6)]: Done 127 tasks      | elapsed: 19.7min\n",
            "[Parallel(n_jobs=6)]: Done 128 tasks      | elapsed: 19.7min\n",
            "[Parallel(n_jobs=6)]: Done 129 tasks      | elapsed: 19.8min\n",
            "[Parallel(n_jobs=6)]: Done 130 tasks      | elapsed: 19.9min\n",
            "[Parallel(n_jobs=6)]: Done 131 tasks      | elapsed: 20.0min\n",
            "[Parallel(n_jobs=6)]: Done 132 tasks      | elapsed: 20.0min\n",
            "[Parallel(n_jobs=6)]: Done 133 tasks      | elapsed: 20.5min\n",
            "[Parallel(n_jobs=6)]: Done 134 tasks      | elapsed: 20.5min\n",
            "[Parallel(n_jobs=6)]: Done 135 tasks      | elapsed: 20.7min\n",
            "[Parallel(n_jobs=6)]: Done 136 tasks      | elapsed: 20.8min\n",
            "[Parallel(n_jobs=6)]: Done 137 tasks      | elapsed: 20.8min\n",
            "[Parallel(n_jobs=6)]: Done 138 tasks      | elapsed: 20.9min\n",
            "[Parallel(n_jobs=6)]: Done 139 tasks      | elapsed: 21.4min\n",
            "[Parallel(n_jobs=6)]: Done 140 tasks      | elapsed: 21.4min\n",
            "[Parallel(n_jobs=6)]: Done 141 tasks      | elapsed: 21.6min\n",
            "[Parallel(n_jobs=6)]: Done 142 tasks      | elapsed: 21.7min\n",
            "[Parallel(n_jobs=6)]: Done 143 tasks      | elapsed: 21.7min\n",
            "[Parallel(n_jobs=6)]: Done 144 tasks      | elapsed: 21.7min\n",
            "[Parallel(n_jobs=6)]: Done 145 tasks      | elapsed: 22.3min\n",
            "[Parallel(n_jobs=6)]: Done 146 tasks      | elapsed: 22.3min\n",
            "[Parallel(n_jobs=6)]: Done 147 tasks      | elapsed: 22.4min\n",
            "[Parallel(n_jobs=6)]: Done 148 tasks      | elapsed: 22.5min\n",
            "[Parallel(n_jobs=6)]: Done 149 tasks      | elapsed: 22.6min\n",
            "[Parallel(n_jobs=6)]: Done 150 tasks      | elapsed: 22.6min\n",
            "[Parallel(n_jobs=6)]: Done 151 tasks      | elapsed: 23.1min\n",
            "[Parallel(n_jobs=6)]: Done 152 tasks      | elapsed: 23.1min\n",
            "[Parallel(n_jobs=6)]: Done 153 tasks      | elapsed: 23.3min\n",
            "[Parallel(n_jobs=6)]: Done 154 tasks      | elapsed: 23.4min\n",
            "[Parallel(n_jobs=6)]: Done 155 tasks      | elapsed: 23.4min\n",
            "[Parallel(n_jobs=6)]: Done 156 tasks      | elapsed: 23.5min\n",
            "[Parallel(n_jobs=6)]: Done 157 tasks      | elapsed: 24.0min\n",
            "[Parallel(n_jobs=6)]: Done 158 tasks      | elapsed: 24.0min\n",
            "[Parallel(n_jobs=6)]: Done 159 tasks      | elapsed: 24.1min\n",
            "[Parallel(n_jobs=6)]: Done 160 tasks      | elapsed: 24.3min\n",
            "[Parallel(n_jobs=6)]: Done 161 tasks      | elapsed: 24.3min\n",
            "[Parallel(n_jobs=6)]: Done 162 tasks      | elapsed: 24.3min\n",
            "[Parallel(n_jobs=6)]: Done 163 tasks      | elapsed: 24.8min\n",
            "[Parallel(n_jobs=6)]: Done 164 tasks      | elapsed: 24.8min\n",
            "[Parallel(n_jobs=6)]: Done 165 tasks      | elapsed: 25.0min\n",
            "[Parallel(n_jobs=6)]: Done 166 tasks      | elapsed: 25.1min\n",
            "[Parallel(n_jobs=6)]: Done 167 tasks      | elapsed: 25.2min\n",
            "[Parallel(n_jobs=6)]: Done 172 out of 178 | elapsed: 25.9min remaining:   54.2s\n",
            "[Parallel(n_jobs=6)]: Done 178 out of 178 | elapsed: 26.5min finished\n"
          ]
        }
      ],
      "source": [
        "# import scipy\n",
        "resp_mask = stats.time_perm_cluster(resp._data, HG_base._data, 0.05, axis=0,\n",
        "                               n_perm=1000, n_jobs=6, ignore_adjacency=1)\n"
      ]
    },
    {
      "cell_type": "code",
      "execution_count": 43,
      "metadata": {},
      "outputs": [
        {
          "name": "stderr",
          "output_type": "stream",
          "text": [
            "[Parallel(n_jobs=6)]: Using backend LokyBackend with 6 concurrent workers.\n",
            "[Parallel(n_jobs=6)]: Done   1 tasks      | elapsed:   56.2s\n",
            "[Parallel(n_jobs=6)]: Done   2 tasks      | elapsed:   56.3s\n",
            "[Parallel(n_jobs=6)]: Done   3 tasks      | elapsed:   56.4s\n",
            "[Parallel(n_jobs=6)]: Done   4 tasks      | elapsed:   56.5s\n",
            "[Parallel(n_jobs=6)]: Done   5 tasks      | elapsed:   56.6s\n",
            "[Parallel(n_jobs=6)]: Done   6 tasks      | elapsed:   56.7s\n",
            "[Parallel(n_jobs=6)]: Done   7 tasks      | elapsed:  1.8min\n",
            "[Parallel(n_jobs=6)]: Done   8 tasks      | elapsed:  1.8min\n",
            "[Parallel(n_jobs=6)]: Done   9 tasks      | elapsed:  1.8min\n",
            "[Parallel(n_jobs=6)]: Done  10 tasks      | elapsed:  1.8min\n",
            "[Parallel(n_jobs=6)]: Done  11 tasks      | elapsed:  1.8min\n",
            "[Parallel(n_jobs=6)]: Done  12 tasks      | elapsed:  1.8min\n",
            "[Parallel(n_jobs=6)]: Done  13 tasks      | elapsed:  2.7min\n",
            "[Parallel(n_jobs=6)]: Done  14 tasks      | elapsed:  2.7min\n",
            "[Parallel(n_jobs=6)]: Done  15 tasks      | elapsed:  2.7min\n",
            "[Parallel(n_jobs=6)]: Done  16 tasks      | elapsed:  2.7min\n",
            "[Parallel(n_jobs=6)]: Done  17 tasks      | elapsed:  2.7min\n",
            "[Parallel(n_jobs=6)]: Done  18 tasks      | elapsed:  2.7min\n",
            "[Parallel(n_jobs=6)]: Done  19 tasks      | elapsed:  3.6min\n",
            "[Parallel(n_jobs=6)]: Done  20 tasks      | elapsed:  3.6min\n",
            "[Parallel(n_jobs=6)]: Done  21 tasks      | elapsed:  3.6min\n",
            "[Parallel(n_jobs=6)]: Done  22 tasks      | elapsed:  3.6min\n",
            "[Parallel(n_jobs=6)]: Done  23 tasks      | elapsed:  3.6min\n",
            "[Parallel(n_jobs=6)]: Done  24 tasks      | elapsed:  3.6min\n",
            "[Parallel(n_jobs=6)]: Done  25 tasks      | elapsed:  4.5min\n",
            "[Parallel(n_jobs=6)]: Done  26 tasks      | elapsed:  4.5min\n",
            "[Parallel(n_jobs=6)]: Done  27 tasks      | elapsed:  4.5min\n",
            "[Parallel(n_jobs=6)]: Done  28 tasks      | elapsed:  4.5min\n",
            "[Parallel(n_jobs=6)]: Done  29 tasks      | elapsed:  4.5min\n",
            "[Parallel(n_jobs=6)]: Done  30 tasks      | elapsed:  4.5min\n",
            "[Parallel(n_jobs=6)]: Done  31 tasks      | elapsed:  5.4min\n",
            "[Parallel(n_jobs=6)]: Done  32 tasks      | elapsed:  5.4min\n",
            "[Parallel(n_jobs=6)]: Done  33 tasks      | elapsed:  5.4min\n",
            "[Parallel(n_jobs=6)]: Done  34 tasks      | elapsed:  5.4min\n",
            "[Parallel(n_jobs=6)]: Done  35 tasks      | elapsed:  5.4min\n",
            "[Parallel(n_jobs=6)]: Done  36 tasks      | elapsed:  5.4min\n",
            "[Parallel(n_jobs=6)]: Done  37 tasks      | elapsed:  6.3min\n",
            "[Parallel(n_jobs=6)]: Done  38 tasks      | elapsed:  6.3min\n",
            "[Parallel(n_jobs=6)]: Done  39 tasks      | elapsed:  6.3min\n",
            "[Parallel(n_jobs=6)]: Done  40 tasks      | elapsed:  6.3min\n",
            "[Parallel(n_jobs=6)]: Done  41 tasks      | elapsed:  6.3min\n",
            "[Parallel(n_jobs=6)]: Done  42 tasks      | elapsed:  6.3min\n",
            "[Parallel(n_jobs=6)]: Done  43 tasks      | elapsed:  7.2min\n",
            "[Parallel(n_jobs=6)]: Done  44 tasks      | elapsed:  7.2min\n",
            "[Parallel(n_jobs=6)]: Done  45 tasks      | elapsed:  7.2min\n",
            "[Parallel(n_jobs=6)]: Done  46 tasks      | elapsed:  7.2min\n",
            "[Parallel(n_jobs=6)]: Done  47 tasks      | elapsed:  7.2min\n",
            "[Parallel(n_jobs=6)]: Done  48 tasks      | elapsed:  7.2min\n",
            "[Parallel(n_jobs=6)]: Done  49 tasks      | elapsed:  8.1min\n",
            "[Parallel(n_jobs=6)]: Done  50 tasks      | elapsed:  8.1min\n",
            "[Parallel(n_jobs=6)]: Done  51 tasks      | elapsed:  8.1min\n",
            "[Parallel(n_jobs=6)]: Done  52 tasks      | elapsed:  8.1min\n",
            "[Parallel(n_jobs=6)]: Done  53 tasks      | elapsed:  8.1min\n",
            "[Parallel(n_jobs=6)]: Done  54 tasks      | elapsed:  8.1min\n",
            "[Parallel(n_jobs=6)]: Done  55 tasks      | elapsed:  9.0min\n",
            "[Parallel(n_jobs=6)]: Done  56 tasks      | elapsed:  9.0min\n",
            "[Parallel(n_jobs=6)]: Done  57 tasks      | elapsed:  9.0min\n",
            "[Parallel(n_jobs=6)]: Done  58 tasks      | elapsed:  9.0min\n",
            "[Parallel(n_jobs=6)]: Done  59 tasks      | elapsed:  9.0min\n",
            "[Parallel(n_jobs=6)]: Done  60 tasks      | elapsed:  9.0min\n",
            "[Parallel(n_jobs=6)]: Done  61 tasks      | elapsed:  9.8min\n",
            "[Parallel(n_jobs=6)]: Done  62 tasks      | elapsed:  9.9min\n",
            "[Parallel(n_jobs=6)]: Done  63 tasks      | elapsed:  9.9min\n",
            "[Parallel(n_jobs=6)]: Done  64 tasks      | elapsed:  9.9min\n",
            "[Parallel(n_jobs=6)]: Done  65 tasks      | elapsed:  9.9min\n",
            "[Parallel(n_jobs=6)]: Done  66 tasks      | elapsed:  9.9min\n",
            "[Parallel(n_jobs=6)]: Done  67 tasks      | elapsed: 10.7min\n",
            "[Parallel(n_jobs=6)]: Done  68 tasks      | elapsed: 10.8min\n",
            "[Parallel(n_jobs=6)]: Done  69 tasks      | elapsed: 10.8min\n",
            "[Parallel(n_jobs=6)]: Done  70 tasks      | elapsed: 10.8min\n",
            "[Parallel(n_jobs=6)]: Done  71 tasks      | elapsed: 10.8min\n",
            "[Parallel(n_jobs=6)]: Done  72 tasks      | elapsed: 10.8min\n",
            "[Parallel(n_jobs=6)]: Done  73 tasks      | elapsed: 11.6min\n",
            "[Parallel(n_jobs=6)]: Done  74 tasks      | elapsed: 11.7min\n",
            "[Parallel(n_jobs=6)]: Done  75 tasks      | elapsed: 11.7min\n",
            "[Parallel(n_jobs=6)]: Done  76 tasks      | elapsed: 11.7min\n",
            "[Parallel(n_jobs=6)]: Done  77 tasks      | elapsed: 11.7min\n",
            "[Parallel(n_jobs=6)]: Done  78 tasks      | elapsed: 11.7min\n",
            "[Parallel(n_jobs=6)]: Done  79 tasks      | elapsed: 12.5min\n",
            "[Parallel(n_jobs=6)]: Done  80 tasks      | elapsed: 12.5min\n",
            "[Parallel(n_jobs=6)]: Done  81 tasks      | elapsed: 12.6min\n",
            "[Parallel(n_jobs=6)]: Done  82 tasks      | elapsed: 12.6min\n",
            "[Parallel(n_jobs=6)]: Done  83 tasks      | elapsed: 12.6min\n",
            "[Parallel(n_jobs=6)]: Done  84 tasks      | elapsed: 12.6min\n",
            "[Parallel(n_jobs=6)]: Done  85 tasks      | elapsed: 13.3min\n",
            "[Parallel(n_jobs=6)]: Done  86 tasks      | elapsed: 13.4min\n",
            "[Parallel(n_jobs=6)]: Done  87 tasks      | elapsed: 13.5min\n",
            "[Parallel(n_jobs=6)]: Done  88 tasks      | elapsed: 13.5min\n",
            "[Parallel(n_jobs=6)]: Done  89 tasks      | elapsed: 13.5min\n",
            "[Parallel(n_jobs=6)]: Done  90 tasks      | elapsed: 13.5min\n",
            "[Parallel(n_jobs=6)]: Done  91 tasks      | elapsed: 14.2min\n",
            "[Parallel(n_jobs=6)]: Done  92 tasks      | elapsed: 14.3min\n",
            "[Parallel(n_jobs=6)]: Done  93 tasks      | elapsed: 14.3min\n",
            "[Parallel(n_jobs=6)]: Done  94 tasks      | elapsed: 14.3min\n",
            "[Parallel(n_jobs=6)]: Done  95 tasks      | elapsed: 14.3min\n",
            "[Parallel(n_jobs=6)]: Done  96 tasks      | elapsed: 14.3min\n",
            "[Parallel(n_jobs=6)]: Done  97 tasks      | elapsed: 15.1min\n",
            "[Parallel(n_jobs=6)]: Done  98 tasks      | elapsed: 15.2min\n",
            "[Parallel(n_jobs=6)]: Done  99 tasks      | elapsed: 15.2min\n",
            "[Parallel(n_jobs=6)]: Done 100 tasks      | elapsed: 15.2min\n",
            "[Parallel(n_jobs=6)]: Done 101 tasks      | elapsed: 15.2min\n",
            "[Parallel(n_jobs=6)]: Done 102 tasks      | elapsed: 15.2min\n",
            "[Parallel(n_jobs=6)]: Done 103 tasks      | elapsed: 15.9min\n",
            "[Parallel(n_jobs=6)]: Done 104 tasks      | elapsed: 16.0min\n",
            "[Parallel(n_jobs=6)]: Done 105 tasks      | elapsed: 16.1min\n",
            "[Parallel(n_jobs=6)]: Done 106 tasks      | elapsed: 16.1min\n",
            "[Parallel(n_jobs=6)]: Done 107 tasks      | elapsed: 16.1min\n",
            "[Parallel(n_jobs=6)]: Done 108 tasks      | elapsed: 16.1min\n",
            "[Parallel(n_jobs=6)]: Done 109 tasks      | elapsed: 16.8min\n",
            "[Parallel(n_jobs=6)]: Done 110 tasks      | elapsed: 16.9min\n",
            "[Parallel(n_jobs=6)]: Done 111 tasks      | elapsed: 17.0min\n",
            "[Parallel(n_jobs=6)]: Done 112 tasks      | elapsed: 17.0min\n",
            "[Parallel(n_jobs=6)]: Done 113 tasks      | elapsed: 17.0min\n",
            "[Parallel(n_jobs=6)]: Done 114 tasks      | elapsed: 17.0min\n",
            "[Parallel(n_jobs=6)]: Done 115 tasks      | elapsed: 17.6min\n",
            "[Parallel(n_jobs=6)]: Done 116 tasks      | elapsed: 17.8min\n",
            "[Parallel(n_jobs=6)]: Done 117 tasks      | elapsed: 17.8min\n",
            "[Parallel(n_jobs=6)]: Done 118 tasks      | elapsed: 17.8min\n",
            "[Parallel(n_jobs=6)]: Done 119 tasks      | elapsed: 17.9min\n",
            "[Parallel(n_jobs=6)]: Done 120 tasks      | elapsed: 17.9min\n",
            "[Parallel(n_jobs=6)]: Done 121 tasks      | elapsed: 18.5min\n",
            "[Parallel(n_jobs=6)]: Done 122 tasks      | elapsed: 18.6min\n",
            "[Parallel(n_jobs=6)]: Done 123 tasks      | elapsed: 18.7min\n",
            "[Parallel(n_jobs=6)]: Done 124 tasks      | elapsed: 18.7min\n",
            "[Parallel(n_jobs=6)]: Done 125 tasks      | elapsed: 18.7min\n",
            "[Parallel(n_jobs=6)]: Done 126 tasks      | elapsed: 18.7min\n",
            "[Parallel(n_jobs=6)]: Done 127 tasks      | elapsed: 19.3min\n",
            "[Parallel(n_jobs=6)]: Done 128 tasks      | elapsed: 19.5min\n",
            "[Parallel(n_jobs=6)]: Done 129 tasks      | elapsed: 19.6min\n",
            "[Parallel(n_jobs=6)]: Done 130 tasks      | elapsed: 19.6min\n",
            "[Parallel(n_jobs=6)]: Done 131 tasks      | elapsed: 19.6min\n",
            "[Parallel(n_jobs=6)]: Done 132 tasks      | elapsed: 19.6min\n",
            "[Parallel(n_jobs=6)]: Done 133 tasks      | elapsed: 20.2min\n",
            "[Parallel(n_jobs=6)]: Done 134 tasks      | elapsed: 20.3min\n",
            "[Parallel(n_jobs=6)]: Done 135 tasks      | elapsed: 20.5min\n",
            "[Parallel(n_jobs=6)]: Done 136 tasks      | elapsed: 20.5min\n",
            "[Parallel(n_jobs=6)]: Done 137 tasks      | elapsed: 20.5min\n",
            "[Parallel(n_jobs=6)]: Done 138 tasks      | elapsed: 20.5min\n",
            "[Parallel(n_jobs=6)]: Done 139 tasks      | elapsed: 21.0min\n",
            "[Parallel(n_jobs=6)]: Done 140 tasks      | elapsed: 21.2min\n",
            "[Parallel(n_jobs=6)]: Done 141 tasks      | elapsed: 21.3min\n",
            "[Parallel(n_jobs=6)]: Done 142 tasks      | elapsed: 21.4min\n",
            "[Parallel(n_jobs=6)]: Done 143 tasks      | elapsed: 21.4min\n",
            "[Parallel(n_jobs=6)]: Done 144 tasks      | elapsed: 21.4min\n",
            "[Parallel(n_jobs=6)]: Done 145 tasks      | elapsed: 21.9min\n",
            "[Parallel(n_jobs=6)]: Done 146 tasks      | elapsed: 22.1min\n",
            "[Parallel(n_jobs=6)]: Done 147 tasks      | elapsed: 22.2min\n",
            "[Parallel(n_jobs=6)]: Done 148 tasks      | elapsed: 22.3min\n",
            "[Parallel(n_jobs=6)]: Done 149 tasks      | elapsed: 22.3min\n",
            "[Parallel(n_jobs=6)]: Done 150 tasks      | elapsed: 22.3min\n",
            "[Parallel(n_jobs=6)]: Done 151 tasks      | elapsed: 22.8min\n",
            "[Parallel(n_jobs=6)]: Done 152 tasks      | elapsed: 23.0min\n",
            "[Parallel(n_jobs=6)]: Done 153 tasks      | elapsed: 23.1min\n",
            "[Parallel(n_jobs=6)]: Done 154 tasks      | elapsed: 23.2min\n",
            "[Parallel(n_jobs=6)]: Done 155 tasks      | elapsed: 23.2min\n",
            "[Parallel(n_jobs=6)]: Done 156 tasks      | elapsed: 23.2min\n",
            "[Parallel(n_jobs=6)]: Done 157 tasks      | elapsed: 23.7min\n",
            "[Parallel(n_jobs=6)]: Done 158 tasks      | elapsed: 23.8min\n",
            "[Parallel(n_jobs=6)]: Done 159 tasks      | elapsed: 24.0min\n",
            "[Parallel(n_jobs=6)]: Done 160 tasks      | elapsed: 24.0min\n",
            "[Parallel(n_jobs=6)]: Done 161 tasks      | elapsed: 24.1min\n",
            "[Parallel(n_jobs=6)]: Done 162 tasks      | elapsed: 24.1min\n",
            "[Parallel(n_jobs=6)]: Done 163 tasks      | elapsed: 24.6min\n",
            "[Parallel(n_jobs=6)]: Done 164 tasks      | elapsed: 24.7min\n",
            "[Parallel(n_jobs=6)]: Done 165 tasks      | elapsed: 24.9min\n",
            "[Parallel(n_jobs=6)]: Done 166 tasks      | elapsed: 24.9min\n",
            "[Parallel(n_jobs=6)]: Done 167 tasks      | elapsed: 25.0min\n",
            "[Parallel(n_jobs=6)]: Done 172 out of 178 | elapsed: 25.8min remaining:   53.9s\n",
            "[Parallel(n_jobs=6)]: Done 178 out of 178 | elapsed: 26.4min finished\n"
          ]
        }
      ],
      "source": [
        "stim_mask = stats.time_perm_cluster(stim._data, HG_base._data, 0.05, axis=0,\n",
        "                               n_perm=1000, n_jobs=6, ignore_adjacency=1)"
      ]
    },
    {
      "cell_type": "code",
      "execution_count": 47,
      "metadata": {},
      "outputs": [
        {
          "data": {
            "image/png": "[encoded data removed]",
            "text/plain": [
              "<Figure size 640x480 with 1 Axes>"
            ]
          },
          "metadata": {},
          "output_type": "display_data"
        }
      ],
      "source": [
        "%matplotlib inline\n",
        "plt.imshow(stim_mask)\n",
        "\n",
        "plt.savefig('stimulus_stats.png')\n"
      ]
    },
    {
      "cell_type": "code",
      "execution_count": null,
      "metadata": {},
      "outputs": [],
      "source": [
        "plt.imshow(resp_mask)\n",
        "plt.savefig('response_stats.png')"
      ]
    }
  ],
  "metadata": {
    "kernelspec": {
      "display_name": "Python 3",
      "language": "python",
      "name": "python3"
    },
    "language_info": {
      "codemirror_mode": {
        "name": "ipython",
        "version": 3
      },
      "file_extension": ".py",
      "mimetype": "text/x-python",
      "name": "python",
      "nbconvert_exporter": "python",
      "pygments_lexer": "ipython3",
      "version": "3.11.3"
    }
  },
  "nbformat": 4,
  "nbformat_minor": 0
}
