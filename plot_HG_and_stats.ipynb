{
  "cells": [
    {
      "attachments": {},
      "cell_type": "markdown",
      "metadata": {},
      "source": [
        "\n",
        "# Example of High Gamma Filter\n",
        "\n",
        "Below is a code sample for extracting high gamma power from a raw data file, followed by permutation cluster stats on that high gamma power data\n"
      ]
    },
    {
      "cell_type": "code",
      "execution_count": 3,
      "metadata": {
        "collapsed": false
      },
      "outputs": [
        {
          "name": "stdout",
          "output_type": "stream",
          "text": [
            "['c:\\\\Users\\\\jz421\\\\Desktop\\\\GlobalLocal', 'C:\\\\Users\\\\jz421\\\\Desktop\\\\GlobalLocal\\\\IEEG_Pipelines', 'c:\\\\Users\\\\jz421\\\\AppData\\\\Local\\\\anaconda3\\\\envs\\\\ieeg\\\\python311.zip', 'c:\\\\Users\\\\jz421\\\\AppData\\\\Local\\\\anaconda3\\\\envs\\\\ieeg\\\\DLLs', 'c:\\\\Users\\\\jz421\\\\AppData\\\\Local\\\\anaconda3\\\\envs\\\\ieeg\\\\Lib', 'c:\\\\Users\\\\jz421\\\\AppData\\\\Local\\\\anaconda3\\\\envs\\\\ieeg', '', 'C:\\\\Users\\\\jz421\\\\AppData\\\\Roaming\\\\Python\\\\Python311\\\\site-packages', 'C:\\\\Users\\\\jz421\\\\AppData\\\\Roaming\\\\Python\\\\Python311\\\\site-packages\\\\win32', 'C:\\\\Users\\\\jz421\\\\AppData\\\\Roaming\\\\Python\\\\Python311\\\\site-packages\\\\win32\\\\lib', 'C:\\\\Users\\\\jz421\\\\AppData\\\\Roaming\\\\Python\\\\Python311\\\\site-packages\\\\Pythonwin', 'c:\\\\Users\\\\jz421\\\\AppData\\\\Local\\\\anaconda3\\\\envs\\\\ieeg\\\\Lib\\\\site-packages', 'c:\\\\Users\\\\jz421\\\\AppData\\\\Local\\\\anaconda3\\\\envs\\\\ieeg\\\\Lib\\\\site-packages\\\\win32', 'c:\\\\Users\\\\jz421\\\\AppData\\\\Local\\\\anaconda3\\\\envs\\\\ieeg\\\\Lib\\\\site-packages\\\\win32\\\\lib', 'c:\\\\Users\\\\jz421\\\\AppData\\\\Local\\\\anaconda3\\\\envs\\\\ieeg\\\\Lib\\\\site-packages\\\\Pythonwin']\n"
          ]
        },
        {
          "name": "stderr",
          "output_type": "stream",
          "text": [
            "c:\\Users\\jz421\\AppData\\Local\\anaconda3\\envs\\ieeg\\Lib\\site-packages\\tqdm\\auto.py:21: TqdmWarning: IProgress not found. Please update jupyter and ipywidgets. See https://ipywidgets.readthedocs.io/en/stable/user_install.html\n",
            "  from .autonotebook import tqdm as notebook_tqdm\n"
          ]
        }
      ],
      "source": [
        "import sys\n",
        "print(sys.path)\n",
        "sys.path.append(\"C:/Users/jz421/Desktop/GlobalLocal/IEEG_Pipelines/\") #need to do this cuz otherwise ieeg isn't added to path...\n",
        "\n",
        "import ieeg.viz.utils\n",
        "from ieeg.navigate import channel_outlier_marker, trial_ieeg, crop_empty_data, outliers_to_nan\n",
        "from ieeg.io import raw_from_layout, get_data\n",
        "from ieeg.timefreq.utils import crop_pad\n",
        "from ieeg.calc import stats, scaling\n",
        "from ieeg.process import parallelize\n",
        "from ieeg.timefreq import gamma\n",
        "from ieeg.calc.scaling import rescale\n",
        "from misc_functions import calculate_RTs\n",
        "\n",
        "\n",
        "import matplotlib.pyplot as plt\n",
        "import matplotlib.ticker as ticker\n",
        "\n",
        "from bids import BIDSLayout\n",
        "import mne\n",
        "import os\n",
        "import numpy as np\n",
        "import copy\n",
        "\n",
        "\n",
        "from misc_functions import calculate_RTs, save_sig_chans, save_channels_to_file\n",
        "import pickle"
      ]
    },
    {
      "cell_type": "code",
      "execution_count": 4,
      "metadata": {},
      "outputs": [],
      "source": [
        "def relabel_axes(old_min, old_max, new_min, new_max):\n",
        "    scale = (new_max - new_min) / (old_max - old_min)\n",
        "\n",
        "    def format_func(value, tick_number):\n",
        "        return new_min + value * scale\n",
        "\n",
        "    plt.gca().xaxis.set_major_formatter(ticker.FuncFormatter(format_func))"
      ]
    },
    {
      "cell_type": "markdown",
      "metadata": {},
      "source": [
        "### make it into a function"
      ]
    },
    {
      "cell_type": "code",
      "execution_count": 1,
      "metadata": {},
      "outputs": [
        {
          "name": "stdout",
          "output_type": "stream",
          "text": [
            "['c:\\\\Users\\\\jz421\\\\Desktop\\\\GlobalLocal', 'C:\\\\Users\\\\jz421\\\\Desktop\\\\GlobalLocal\\\\IEEG_Pipelines', 'c:\\\\Users\\\\jz421\\\\AppData\\\\Local\\\\anaconda3\\\\envs\\\\ieeg\\\\python311.zip', 'c:\\\\Users\\\\jz421\\\\AppData\\\\Local\\\\anaconda3\\\\envs\\\\ieeg\\\\DLLs', 'c:\\\\Users\\\\jz421\\\\AppData\\\\Local\\\\anaconda3\\\\envs\\\\ieeg\\\\Lib', 'c:\\\\Users\\\\jz421\\\\AppData\\\\Local\\\\anaconda3\\\\envs\\\\ieeg', '', 'C:\\\\Users\\\\jz421\\\\AppData\\\\Roaming\\\\Python\\\\Python311\\\\site-packages', 'C:\\\\Users\\\\jz421\\\\AppData\\\\Roaming\\\\Python\\\\Python311\\\\site-packages\\\\win32', 'C:\\\\Users\\\\jz421\\\\AppData\\\\Roaming\\\\Python\\\\Python311\\\\site-packages\\\\win32\\\\lib', 'C:\\\\Users\\\\jz421\\\\AppData\\\\Roaming\\\\Python\\\\Python311\\\\site-packages\\\\Pythonwin', 'c:\\\\Users\\\\jz421\\\\AppData\\\\Local\\\\anaconda3\\\\envs\\\\ieeg\\\\Lib\\\\site-packages', 'c:\\\\Users\\\\jz421\\\\AppData\\\\Local\\\\anaconda3\\\\envs\\\\ieeg\\\\Lib\\\\site-packages\\\\win32', 'c:\\\\Users\\\\jz421\\\\AppData\\\\Local\\\\anaconda3\\\\envs\\\\ieeg\\\\Lib\\\\site-packages\\\\win32\\\\lib', 'c:\\\\Users\\\\jz421\\\\AppData\\\\Local\\\\anaconda3\\\\envs\\\\ieeg\\\\Lib\\\\site-packages\\\\Pythonwin']\n"
          ]
        },
        {
          "name": "stderr",
          "output_type": "stream",
          "text": [
            "c:\\Users\\jz421\\AppData\\Local\\anaconda3\\envs\\ieeg\\Lib\\site-packages\\tqdm\\auto.py:21: TqdmWarning: IProgress not found. Please update jupyter and ipywidgets. See https://ipywidgets.readthedocs.io/en/stable/user_install.html\n",
            "  from .autonotebook import tqdm as notebook_tqdm\n"
          ]
        },
        {
          "name": "stdout",
          "output_type": "stream",
          "text": [
            "Extracting EDF parameters from C:\\Users\\jz421\\Box\\CoganLab\\BIDS-1.1_GlobalLocal\\BIDS\\derivatives\\clean\\sub-D0057\\ieeg\\sub-D0057_task-GlobalLocal_acq-01_run-01_desc-clean_ieeg.edf...\n",
            "EDF file detected\n",
            "Setting channel info structure...\n",
            "Creating raw.info structure...\n",
            "Reading events from C:\\Users\\jz421\\Box\\CoganLab\\BIDS-1.1_GlobalLocal\\BIDS\\derivatives\\clean\\sub-D0057\\ieeg\\sub-D0057_task-GlobalLocal_acq-01_run-01_desc-clean_events.tsv.\n",
            "Reading channel info from C:\\Users\\jz421\\Box\\CoganLab\\BIDS-1.1_GlobalLocal\\BIDS\\derivatives\\clean\\sub-D0057\\ieeg\\sub-D0057_task-GlobalLocal_acq-01_run-01_desc-clean_channels.tsv.\n",
            "Reading electrode coords from C:\\Users\\jz421\\Box\\CoganLab\\BIDS-1.1_GlobalLocal\\BIDS\\derivatives\\clean\\sub-D0057\\ieeg\\sub-D0057_acq-01_space-ACPC_electrodes.tsv.\n",
            "Extracting EDF parameters from C:\\Users\\jz421\\Box\\CoganLab\\BIDS-1.1_GlobalLocal\\BIDS\\derivatives\\clean\\sub-D0057\\ieeg\\sub-D0057_task-GlobalLocal_acq-01_run-02_desc-clean_ieeg.edf...\n",
            "EDF file detected\n",
            "Setting channel info structure...\n",
            "Creating raw.info structure...\n"
          ]
        },
        {
          "name": "stderr",
          "output_type": "stream",
          "text": [
            "C:\\Users\\jz421\\Desktop\\GlobalLocal\\IEEG_Pipelines\\ieeg\\io.py:113: RuntimeWarning: The number of channels in the channels.tsv sidecar file (179) does not match the number of channels in the raw data file (178). Will not try to set channel names.\n",
            "  new_raw = read_raw_bids(bids_path=BIDS_path, verbose=verbose)\n",
            "C:\\Users\\jz421\\Desktop\\GlobalLocal\\IEEG_Pipelines\\ieeg\\io.py:113: RuntimeWarning: Cannot set channel type for the following channels, as they are missing in the raw data: Trigger\n",
            "  new_raw = read_raw_bids(bids_path=BIDS_path, verbose=verbose)\n"
          ]
        },
        {
          "name": "stdout",
          "output_type": "stream",
          "text": [
            "Reading events from C:\\Users\\jz421\\Box\\CoganLab\\BIDS-1.1_GlobalLocal\\BIDS\\derivatives\\clean\\sub-D0057\\ieeg\\sub-D0057_task-GlobalLocal_acq-01_run-02_desc-clean_events.tsv.\n",
            "Reading channel info from C:\\Users\\jz421\\Box\\CoganLab\\BIDS-1.1_GlobalLocal\\BIDS\\derivatives\\clean\\sub-D0057\\ieeg\\sub-D0057_task-GlobalLocal_acq-01_run-02_desc-clean_channels.tsv.\n",
            "Reading electrode coords from C:\\Users\\jz421\\Box\\CoganLab\\BIDS-1.1_GlobalLocal\\BIDS\\derivatives\\clean\\sub-D0057\\ieeg\\sub-D0057_acq-01_space-ACPC_electrodes.tsv.\n",
            "Extracting EDF parameters from C:\\Users\\jz421\\Box\\CoganLab\\BIDS-1.1_GlobalLocal\\BIDS\\derivatives\\clean\\sub-D0057\\ieeg\\sub-D0057_task-GlobalLocal_acq-01_run-03_desc-clean_ieeg.edf...\n",
            "EDF file detected\n",
            "Setting channel info structure...\n",
            "Creating raw.info structure...\n"
          ]
        },
        {
          "name": "stderr",
          "output_type": "stream",
          "text": [
            "C:\\Users\\jz421\\Desktop\\GlobalLocal\\IEEG_Pipelines\\ieeg\\io.py:113: RuntimeWarning: Omitted 228 annotation(s) that were outside data range.\n",
            "  new_raw = read_raw_bids(bids_path=BIDS_path, verbose=verbose)\n",
            "C:\\Users\\jz421\\Desktop\\GlobalLocal\\IEEG_Pipelines\\ieeg\\io.py:113: RuntimeWarning: The number of channels in the channels.tsv sidecar file (179) does not match the number of channels in the raw data file (178). Will not try to set channel names.\n",
            "  new_raw = read_raw_bids(bids_path=BIDS_path, verbose=verbose)\n",
            "C:\\Users\\jz421\\Desktop\\GlobalLocal\\IEEG_Pipelines\\ieeg\\io.py:113: RuntimeWarning: Cannot set channel type for the following channels, as they are missing in the raw data: Trigger\n",
            "  new_raw = read_raw_bids(bids_path=BIDS_path, verbose=verbose)\n"
          ]
        },
        {
          "name": "stdout",
          "output_type": "stream",
          "text": [
            "Reading events from C:\\Users\\jz421\\Box\\CoganLab\\BIDS-1.1_GlobalLocal\\BIDS\\derivatives\\clean\\sub-D0057\\ieeg\\sub-D0057_task-GlobalLocal_acq-01_run-03_desc-clean_events.tsv.\n",
            "Reading channel info from C:\\Users\\jz421\\Box\\CoganLab\\BIDS-1.1_GlobalLocal\\BIDS\\derivatives\\clean\\sub-D0057\\ieeg\\sub-D0057_task-GlobalLocal_acq-01_run-03_desc-clean_channels.tsv.\n",
            "Reading electrode coords from C:\\Users\\jz421\\Box\\CoganLab\\BIDS-1.1_GlobalLocal\\BIDS\\derivatives\\clean\\sub-D0057\\ieeg\\sub-D0057_acq-01_space-ACPC_electrodes.tsv.\n",
            "Extracting EDF parameters from C:\\Users\\jz421\\Box\\CoganLab\\BIDS-1.1_GlobalLocal\\BIDS\\derivatives\\clean\\sub-D0057\\ieeg\\sub-D0057_task-GlobalLocal_acq-01_run-04_desc-clean_ieeg.edf...\n",
            "EDF file detected\n",
            "Setting channel info structure...\n",
            "Creating raw.info structure...\n"
          ]
        },
        {
          "name": "stderr",
          "output_type": "stream",
          "text": [
            "C:\\Users\\jz421\\Desktop\\GlobalLocal\\IEEG_Pipelines\\ieeg\\io.py:113: RuntimeWarning: Omitted 228 annotation(s) that were outside data range.\n",
            "  new_raw = read_raw_bids(bids_path=BIDS_path, verbose=verbose)\n",
            "C:\\Users\\jz421\\Desktop\\GlobalLocal\\IEEG_Pipelines\\ieeg\\io.py:113: RuntimeWarning: The number of channels in the channels.tsv sidecar file (179) does not match the number of channels in the raw data file (178). Will not try to set channel names.\n",
            "  new_raw = read_raw_bids(bids_path=BIDS_path, verbose=verbose)\n",
            "C:\\Users\\jz421\\Desktop\\GlobalLocal\\IEEG_Pipelines\\ieeg\\io.py:113: RuntimeWarning: Cannot set channel type for the following channels, as they are missing in the raw data: Trigger\n",
            "  new_raw = read_raw_bids(bids_path=BIDS_path, verbose=verbose)\n"
          ]
        },
        {
          "name": "stdout",
          "output_type": "stream",
          "text": [
            "Reading events from C:\\Users\\jz421\\Box\\CoganLab\\BIDS-1.1_GlobalLocal\\BIDS\\derivatives\\clean\\sub-D0057\\ieeg\\sub-D0057_task-GlobalLocal_acq-01_run-04_desc-clean_events.tsv.\n",
            "Reading channel info from C:\\Users\\jz421\\Box\\CoganLab\\BIDS-1.1_GlobalLocal\\BIDS\\derivatives\\clean\\sub-D0057\\ieeg\\sub-D0057_task-GlobalLocal_acq-01_run-04_desc-clean_channels.tsv.\n",
            "Reading electrode coords from C:\\Users\\jz421\\Box\\CoganLab\\BIDS-1.1_GlobalLocal\\BIDS\\derivatives\\clean\\sub-D0057\\ieeg\\sub-D0057_acq-01_space-ACPC_electrodes.tsv.\n"
          ]
        },
        {
          "name": "stderr",
          "output_type": "stream",
          "text": [
            "C:\\Users\\jz421\\Desktop\\GlobalLocal\\IEEG_Pipelines\\ieeg\\io.py:113: RuntimeWarning: Omitted 226 annotation(s) that were outside data range.\n",
            "  new_raw = read_raw_bids(bids_path=BIDS_path, verbose=verbose)\n",
            "C:\\Users\\jz421\\Desktop\\GlobalLocal\\IEEG_Pipelines\\ieeg\\io.py:113: RuntimeWarning: The number of channels in the channels.tsv sidecar file (179) does not match the number of channels in the raw data file (178). Will not try to set channel names.\n",
            "  new_raw = read_raw_bids(bids_path=BIDS_path, verbose=verbose)\n",
            "C:\\Users\\jz421\\Desktop\\GlobalLocal\\IEEG_Pipelines\\ieeg\\io.py:113: RuntimeWarning: Cannot set channel type for the following channels, as they are missing in the raw data: Trigger\n",
            "  new_raw = read_raw_bids(bids_path=BIDS_path, verbose=verbose)\n"
          ]
        },
        {
          "name": "stdout",
          "output_type": "stream",
          "text": [
            "good channels before dropping bads: 178\n",
            "filt channels before dropping bads: 178\n",
            "outlier round 1 channels: ['RAMT8']\n",
            "outlier round 2 channels: ['RAMT8', 'RPI16']\n",
            "outlier round 2 channels: ['RAMT8', 'RPI16', 'LAMT12']\n",
            "Bad channels in 'good': ['RAMT8', 'RPI16', 'LAMT12']\n",
            "Bad channels in 'good' after dropping once: []\n",
            "good channels after dropping bads: 175\n",
            "filt channels after dropping bads: 175\n",
            "Reading 0 ... 8243199  =      0.000 ...  4025.000 secs...\n",
            "Applying average reference.\n",
            "Applying a custom ('sEEG',) reference.\n",
            "Used Annotations descriptions: ['Response/c25/n25', 'Response/c25/r25', 'Response/c25/r75', 'Response/c25/s25', 'Response/c25/s75', 'Response/c75/r25', 'Response/c75/r75', 'Response/c75/s25', 'Response/c75/s75', 'Response/i25/r25', 'Response/i25/r75', 'Response/i25/s25', 'Response/i25/s75', 'Response/i75/n25', 'Response/i75/n75', 'Response/i75/r25', 'Response/i75/r75', 'Response/i75/s25', 'Response/i75/s75', 'Stimulus/c25/n25', 'Stimulus/c25/r25', 'Stimulus/c25/r75', 'Stimulus/c25/s25', 'Stimulus/c25/s75', 'Stimulus/c75/r25', 'Stimulus/c75/r75', 'Stimulus/c75/s25', 'Stimulus/c75/s75', 'Stimulus/i25/n75', 'Stimulus/i25/r25', 'Stimulus/i25/r75', 'Stimulus/i25/s25', 'Stimulus/i25/s75', 'Stimulus/i75/n25', 'Stimulus/i75/n75', 'Stimulus/i75/r25', 'Stimulus/i75/r75', 'Stimulus/i75/s25', 'Stimulus/i75/s75', 'experimentStart']\n",
            "Not setting metadata\n",
            "1 matching events found\n",
            "No baseline correction applied\n",
            "0 projection items activated\n",
            "Using data from preloaded Raw for 1 events and 206849 original time points ...\n",
            "0 bad epochs dropped\n"
          ]
        },
        {
          "name": "stderr",
          "output_type": "stream",
          "text": [
            "100%|██████████| 1/1 [00:53<00:00, 53.03s/it]\n"
          ]
        },
        {
          "name": "stdout",
          "output_type": "stream",
          "text": [
            "Reading 0 ... 5983997  =      0.000 ...  2921.874 secs...\n",
            "Applying average reference.\n",
            "Applying a custom ('sEEG',) reference.\n",
            "Used Annotations descriptions: ['Response/c25/n25', 'Response/c25/r25', 'Response/c25/r75', 'Response/c25/s25', 'Response/c25/s75', 'Response/c75/r25', 'Response/c75/r75', 'Response/c75/s25', 'Response/c75/s75', 'Response/i25/r25', 'Response/i25/r75', 'Response/i25/s25', 'Response/i25/s75', 'Response/i75/n25', 'Response/i75/n75', 'Response/i75/r25', 'Response/i75/r75', 'Response/i75/s25', 'Response/i75/s75', 'Stimulus/c25/n25', 'Stimulus/c25/r25', 'Stimulus/c25/r75', 'Stimulus/c25/s25', 'Stimulus/c25/s75', 'Stimulus/c75/r25', 'Stimulus/c75/r75', 'Stimulus/c75/s25', 'Stimulus/c75/s75', 'Stimulus/i25/n75', 'Stimulus/i25/r25', 'Stimulus/i25/r75', 'Stimulus/i25/s25', 'Stimulus/i25/s75', 'Stimulus/i75/n25', 'Stimulus/i75/n75', 'Stimulus/i75/r25', 'Stimulus/i75/r75', 'Stimulus/i75/s25', 'Stimulus/i75/s75', 'experimentStart']\n",
            "Not setting metadata\n",
            "448 matching events found\n",
            "No baseline correction applied\n",
            "0 projection items activated\n",
            "Using data from preloaded Raw for 448 events and 7169 original time points ...\n",
            "0 bad epochs dropped\n"
          ]
        },
        {
          "name": "stderr",
          "output_type": "stream",
          "text": [
            "100%|██████████| 448/448 [08:43<00:00,  1.17s/it]\n"
          ]
        },
        {
          "name": "stdout",
          "output_type": "stream",
          "text": [
            "Applying baseline correction (mode: zscore)\n"
          ]
        },
        {
          "name": "stderr",
          "output_type": "stream",
          "text": [
            "C:\\Users\\jz421\\Desktop\\GlobalLocal\\IEEG_Pipelines\\ieeg\\calc\\scaling.py:87: RuntimeWarning: Mean of empty slice\n",
            "  mean = np.nanmean(basedata, axis=axis, keepdims=True)\n",
            "c:\\Users\\jz421\\AppData\\Local\\anaconda3\\envs\\ieeg\\Lib\\site-packages\\numpy\\lib\\nanfunctions.py:1872: RuntimeWarning: Degrees of freedom <= 0 for slice.\n",
            "  var = nanvar(a, axis=axis, dtype=dtype, out=out, ddof=ddof,\n",
            "C:\\Users\\jz421\\AppData\\Local\\Temp\\ipykernel_14324\\606351779.py:144: RuntimeWarning: The measurement information indicates a low-pass frequency of 1024.0 Hz. The decim=2 parameter will result in a sampling frequency of 1024.0 Hz, which can cause aliasing artifacts.\n",
            "  HG_base.decimate(2)\n",
            "C:\\Users\\jz421\\AppData\\Local\\Temp\\ipykernel_14324\\606351779.py:145: RuntimeWarning: The measurement information indicates a low-pass frequency of 1024.0 Hz. The decim=2 parameter will result in a sampling frequency of 1024.0 Hz, which can cause aliasing artifacts.\n",
            "  HG_ev1.decimate(2)\n"
          ]
        },
        {
          "name": "stdout",
          "output_type": "stream",
          "text": [
            "NOTE: pick_channels() is a legacy function. New code should use inst.pick(...).\n",
            "NOTE: pick_channels() is a legacy function. New code should use inst.pick(...).\n"
          ]
        },
        {
          "name": "stderr",
          "output_type": "stream",
          "text": [
            "C:\\Users\\jz421\\AppData\\Local\\Temp\\ipykernel_14324\\606351779.py:150: RuntimeWarning: Mean of empty slice\n",
            "  HG_ev1_evoke_rescaled = HG_ev1_rescaled.average(method=lambda x: np.nanmean(x, axis=0))\n"
          ]
        },
        {
          "name": "stdout",
          "output_type": "stream",
          "text": [
            "Data contains NaN values.\n",
            "Shape of HG_base._data: (1, 175, 102401)\n",
            "Shape of HG_ev1._data: (448, 175, 2561)\n",
            "shape of HG_ev1_evoke_rescaled._data: (175, 5121)\n"
          ]
        }
      ],
      "source": [
        "import sys\n",
        "print(sys.path)\n",
        "sys.path.append(\"C:/Users/jz421/Desktop/GlobalLocal/IEEG_Pipelines/\") #need to do this cuz otherwise ieeg isn't added to path...\n",
        "\n",
        "import ieeg.viz.utils\n",
        "from ieeg.navigate import channel_outlier_marker, trial_ieeg, crop_empty_data, outliers_to_nan\n",
        "from ieeg.io import raw_from_layout, get_data\n",
        "from ieeg.timefreq.utils import crop_pad\n",
        "from ieeg.calc import stats, scaling\n",
        "from ieeg.process import parallelize\n",
        "from ieeg.timefreq import gamma\n",
        "from ieeg.calc.scaling import rescale\n",
        "from misc_functions import calculate_RTs\n",
        "\n",
        "\n",
        "import matplotlib.pyplot as plt\n",
        "import matplotlib.ticker as ticker\n",
        "\n",
        "from bids import BIDSLayout\n",
        "import mne\n",
        "import os\n",
        "import numpy as np\n",
        "import copy\n",
        "\n",
        "from misc_functions import calculate_RTs, save_sig_chans, save_channels_to_file\n",
        "import pickle\n",
        "\n",
        "\n",
        "def get_baseline(inst: mne.io.BaseRaw, base_times: tuple[float, float]):\n",
        "    inst = inst.copy()\n",
        "    inst.load_data()\n",
        "    ch_type = inst.get_channel_types(only_data_chs=True)[0]\n",
        "    inst.set_eeg_reference(ref_channels=\"average\", ch_type=ch_type)\n",
        "\n",
        "    adjusted_base_times = [base_times[0] - 0.5, base_times[1] + 0.5]\n",
        "    trials = trial_ieeg(inst, \"experimentStart\", adjusted_base_times, preload=True)\n",
        "    outliers_to_nan(trials, outliers=10)\n",
        "    HG_base = gamma.extract(trials, copy=False, n_jobs=1)\n",
        "    crop_pad(HG_base, \"0.5s\")\n",
        "    del inst\n",
        "    return HG_base\n",
        "\n",
        "\n",
        "def plot_HG_and_stats(sub, task, output_name, event=None, times=(-1, 1.5), base_times=(-0.5, 0), LAB_root=None, channels=None, full_trial_base=False):\n",
        "    \"\"\"\n",
        "    Plot high gamma (HG) and statistics for a given subject and task using specified event.\n",
        "    \n",
        "    Parameters:\n",
        "    - sub (str): The subject identifier.\n",
        "    - task (str): The task identifier.\n",
        "    - output_name (str): The name for the output files.\n",
        "    - event (str, optional): Event name to process. Defaults to None.\n",
        "    - times (tuple, optional): A tuple indicating the start and end times for processing. Defaults to (-1, 1.5).\n",
        "    - base_times (tuple, optional): A tuple indicating the start and end base times for processing. Defaults to (-0.5, 0).\n",
        "    - LAB_root (str, optional): The root directory for the lab. Will be determined based on OS if not provided. Defaults to None.\n",
        "    - channels (list of strings, optional): The channels to plot and get stats for. Default is all channels.\n",
        "    - full_trial_base (boolean): Whether to use the full trial as the baseline period. Default is False.\n",
        "    This function will process the provided event for a given subject and task. \n",
        "    High gamma (HG) will be computed, and statistics will be calculated and plotted. \n",
        "    The results will be saved to output files.\n",
        "    \"\"\"\n",
        "    pass\n",
        "\n",
        "sub='D0057'\n",
        "task='GlobalLocal'\n",
        "output_name=\"stimulus_RMMF1-5_experimentStartBase1secTo101Sec\"\n",
        "event=\"Stimulus\"\n",
        "times=(-1, 1.5)\n",
        "base_times=(1, 101)\n",
        "LAB_root=None\n",
        "channels=None\n",
        "full_trial_base=False\n",
        "\n",
        "if LAB_root is None:\n",
        "    HOME = os.path.expanduser(\"~\")\n",
        "    if os.name == 'nt': # windows\n",
        "        LAB_root = os.path.join(HOME, \"Box\", \"CoganLab\")\n",
        "    else: # mac\n",
        "        LAB_root = os.path.join(HOME, \"Library\", \"CloudStorage\", \"Box-Box\", \"CoganLab\")\n",
        "\n",
        "layout = get_data(task, root=LAB_root)\n",
        "filt = raw_from_layout(layout.derivatives['derivatives/clean'], subject=sub, extension='.edf', desc='clean', preload=False)\n",
        "save_dir = os.path.join(layout.root, 'derivatives', 'freqFilt', 'figs', sub)\n",
        "if not os.path.exists(save_dir):\n",
        "    os.makedirs(save_dir)\n",
        "\n",
        "try:\n",
        "    good = crop_empty_data(filt)\n",
        "except ValueError as ve:\n",
        "    print(f\"Error encountered during cropping: {ve}\")\n",
        "\n",
        "print(f\"good channels before dropping bads: {len(good.ch_names)}\")\n",
        "print(f\"filt channels before dropping bads: {len(filt.ch_names)}\")\n",
        "\n",
        "good.info['bads'] = channel_outlier_marker(good, 3, 2)\n",
        "print(\"Bad channels in 'good':\", good.info['bads'])\n",
        "\n",
        "filt.drop_channels(good.info['bads']) #this has to come first cuz if you drop from good first, then good.info['bads'] is just empty\n",
        "good.drop_channels(good.info['bads'])\n",
        "\n",
        "print(\"Bad channels in 'good' after dropping once:\", good.info['bads'])\n",
        "\n",
        "print(f\"good channels after dropping bads: {len(good.ch_names)}\")\n",
        "print(f\"filt channels after dropping bads: {len(filt.ch_names)}\")\n",
        "\n",
        "\n",
        "HG_base = get_baseline(filt, base_times)\n",
        "good.load_data()\n",
        "\n",
        "\n",
        "# If channels is None, use all channels\n",
        "if channels is None:\n",
        "    channels = good.ch_names\n",
        "else:\n",
        "    # Validate the provided channels\n",
        "    invalid_channels = [ch for ch in channels if ch not in good.ch_names]\n",
        "    if invalid_channels:\n",
        "        raise ValueError(f\"The following channels are not valid: {invalid_channels}\")\n",
        "\n",
        "    # Use only the specified channels\n",
        "    good.pick_channels(channels)\n",
        "\n",
        "ch_type = filt.get_channel_types(only_data_chs=True)[0]\n",
        "good.set_eeg_reference(ref_channels=\"average\", ch_type=ch_type)\n",
        "\n",
        "# Create a baseline EpochsTFR using the stimulus event\n",
        "\n",
        "# adjusted_base_times = [base_times[0] - 0.5, base_times[1] + 0.5]\n",
        "# trials = trial_ieeg(good, \"Stimulus\", adjusted_base_times, preload=True)\n",
        "# outliers_to_nan(trials, outliers=10)\n",
        "# HG_base = gamma.extract(trials, copy=False, n_jobs=1)\n",
        "# crop_pad(HG_base, \"0.5s\")\n",
        "\n",
        "# adjusted_base_times = [base_times[0] - 0.5, base_times[1] + 0.5]\n",
        "\n",
        "# Epoching and HG extraction for the specified event\n",
        "times_adj = [times[0] - 0.5, times[1] + 0.5]\n",
        "trials = trial_ieeg(good, event, times_adj, preload=True, reject_by_annotation=False)\n",
        "outliers_to_nan(trials, outliers=10)\n",
        "HG_ev1 = gamma.extract(trials, copy=False, n_jobs=1)\n",
        "crop_pad(HG_ev1, \"0.5s\")\n",
        "HG_ev1_rescaled = rescale(HG_ev1, HG_base, copy=True, mode='zscore')\n",
        "\n",
        "HG_base.decimate(2)\n",
        "HG_ev1.decimate(2)\n",
        "RTs, skipped = calculate_RTs(good)\n",
        "avg_RT = np.median(RTs)\n",
        "\n",
        "HG_ev1_evoke = HG_ev1.average(method=lambda x: np.nanmean(x, axis=0))\n",
        "HG_ev1_evoke_rescaled = HG_ev1_rescaled.average(method=lambda x: np.nanmean(x, axis=0))\n",
        "\n",
        "\n",
        "if np.isnan(HG_ev1_evoke_rescaled.data).any():\n",
        "    print(\"Data contains NaN values.\")\n",
        "    # HG_ev1_evoke_rescaled.data = np.nan_to_num(HG_ev1_evoke_rescaled.data)\n",
        "\n",
        "# Debugging: Print shapes of data arrays\n",
        "print(f\"Shape of HG_base._data: {HG_base._data.shape}\")\n",
        "print(f\"Shape of HG_ev1._data: {HG_ev1._data.shape}\")\n",
        "print(f\"shape of HG_ev1_evoke_rescaled._data: {HG_ev1_evoke_rescaled._data.shape}\")\n",
        "# For stimulus event, plot average RT\n",
        "if event == \"Stimulus\":\n",
        "    HG_ev1_evoke_rescaled_noNaN = copy.deepcopy(HG_ev1_evoke_rescaled)\n",
        "    HG_ev1_evoke_rescaled_noNaN.data = np.nan_to_num(HG_ev1_evoke_rescaled_noNaN.data)\n",
        "\n",
        "    fig = HG_ev1_evoke_rescaled_noNaN.plot(unit=False, scalings=dict(sEEG=1))\n",
        "    for ax in fig.axes:\n",
        "        ax.axvline(x=avg_RT, color='r', linestyle='--')\n",
        "    fig.savefig(save_dir + '_HG_ev1_Stimulus_zscore.png')\n",
        "else:\n",
        "    fig = HG_ev1_evoke_rescaled_noNaN.plot(unit=False, scalings=dict(sEEG=1))\n",
        "    fig.savefig(save_dir + f'_HG_ev1_{output_name}_zscore.png')\n",
        "\n",
        "# Calculate statistics and define channel names\n",
        "mask = stats.time_perm_cluster(HG_ev1._data, HG_base._data, 0.05, axis=0, n_perm=1000, n_jobs=6, ignore_adjacency=1)\n",
        "\n",
        "channels = good.ch_names\n",
        "\n",
        "#save channels with their indices \n",
        "save_channels_to_file(channels, sub, task, save_dir)\n",
        "\n",
        "# save significant channels to a json\n",
        "save_sig_chans(f'{output_name}', mask, channels, sub, save_dir)\n",
        "\n",
        "# plot stats\n",
        "plt.figure(figsize=(16, 8))\n",
        "plt.imshow(mask, aspect='auto')\n",
        "relabel_axes(0, 2500, -1000, 1500)\n",
        "plt.savefig(save_dir + f'_{output_name}_stats_big.png', dpi=300)"
      ]
    },
    {
      "cell_type": "code",
      "execution_count": 26,
      "metadata": {},
      "outputs": [
        {
          "name": "stdout",
          "output_type": "stream",
          "text": [
            "Channels with NaN values in Epoch 35: ['RMMF14']\n",
            "Channels with NaN values in Epoch 38: ['RMMF14']\n",
            "Channels with NaN values in Epoch 39: ['RMMF14']\n",
            "Channels with NaN values in Epoch 43: ['RPIP12']\n",
            "Channels with NaN values in Epoch 44: ['RPIP12']\n",
            "Channels with NaN values in Epoch 60: ['LAMT1']\n",
            "Channels with NaN values in Epoch 66: ['RPI13', 'RPI14']\n",
            "Channels with NaN values in Epoch 70: ['RMMF14']\n",
            "Channels with NaN values in Epoch 77: ['RAIF10']\n",
            "Channels with NaN values in Epoch 92: ['RMMT2', 'LAMT1']\n",
            "Channels with NaN values in Epoch 99: ['RPIT10']\n",
            "Channels with NaN values in Epoch 109: ['LMMT11', 'LMMT12']\n",
            "Channels with NaN values in Epoch 134: ['RAST5', 'RAST6']\n",
            "Channels with NaN values in Epoch 136: ['RPI13']\n",
            "Channels with NaN values in Epoch 137: ['RPI13']\n",
            "Channels with NaN values in Epoch 151: ['RPI13', 'RPIT5']\n",
            "Channels with NaN values in Epoch 154: ['LMMT11', 'LMMT12']\n",
            "Channels with NaN values in Epoch 155: ['LMMT11']\n",
            "Channels with NaN values in Epoch 165: ['RPI13', 'LMMT9']\n",
            "Channels with NaN values in Epoch 166: ['RPI13']\n",
            "Channels with NaN values in Epoch 184: ['RPI14']\n",
            "Channels with NaN values in Epoch 191: ['RAMT5']\n",
            "Channels with NaN values in Epoch 192: ['RAMT5']\n",
            "Channels with NaN values in Epoch 197: ['RAST6']\n",
            "Channels with NaN values in Epoch 198: ['RPIT12']\n",
            "Channels with NaN values in Epoch 226: ['LMMT11']\n",
            "Channels with NaN values in Epoch 231: ['RPIT5']\n",
            "Channels with NaN values in Epoch 245: ['RAI15']\n",
            "Channels with NaN values in Epoch 248: ['RAMF9']\n",
            "Channels with NaN values in Epoch 250: ['RPI13']\n",
            "Channels with NaN values in Epoch 251: ['LMMT11']\n",
            "Channels with NaN values in Epoch 252: ['LMMT11']\n",
            "Channels with NaN values in Epoch 253: ['LMMT9']\n",
            "Channels with NaN values in Epoch 254: ['RPI15']\n",
            "Channels with NaN values in Epoch 260: ['RAST6']\n",
            "Channels with NaN values in Epoch 264: ['RMMF14']\n",
            "Channels with NaN values in Epoch 266: ['RPI12']\n",
            "Channels with NaN values in Epoch 279: ['RAST5', 'RAST6']\n",
            "Channels with NaN values in Epoch 292: ['RAI11']\n",
            "Channels with NaN values in Epoch 302: ['RAIF10']\n",
            "Channels with NaN values in Epoch 306: ['RAI7']\n",
            "Channels with NaN values in Epoch 308: ['RPI14']\n",
            "Channels with NaN values in Epoch 309: ['RPI13']\n",
            "Channels with NaN values in Epoch 339: ['RPI12', 'RPIP10']\n",
            "Channels with NaN values in Epoch 341: ['RMMF7']\n",
            "Channels with NaN values in Epoch 343: ['RPI14']\n",
            "Channels with NaN values in Epoch 374: ['RAIF10']\n",
            "Channels with NaN values in Epoch 380: ['RAI16']\n",
            "Channels with NaN values in Epoch 386: ['RAIF10']\n",
            "Channels with NaN values in Epoch 389: ['RPIP14']\n",
            "Channels with NaN values in Epoch 400: ['LMMT11']\n",
            "Channels with NaN values in Epoch 403: ['RPI9']\n",
            "Channels with NaN values in Epoch 404: ['RPI9']\n",
            "Channels with NaN values in Epoch 405: ['RPI9']\n",
            "Channels with NaN values in Epoch 409: ['LMMT11']\n",
            "Channels with NaN values in Epoch 410: ['RMMF16', 'RAST8']\n",
            "Channels with NaN values in Epoch 411: ['RAMF13', 'RMMF15', 'RAIT10']\n",
            "Channels with NaN values in Epoch 412: ['RMMF15', 'RPIP10']\n",
            "Channels with NaN values in Epoch 427: ['RAIF10']\n",
            "Channels with NaN values in Epoch 430: ['RAI15', 'RPIT12']\n",
            "Channels with NaN values in Epoch 436: ['LMMT9']\n",
            "Channels with NaN values in Epoch 440: ['RAIF10']\n",
            "Channels with NaN values in Epoch 441: ['RMMT2', 'RMMT11']\n",
            "Channels with NaN values in Epoch 443: ['RPIT12']\n",
            "Channels with NaN values in Epoch 447: ['RAIF10']\n"
          ]
        }
      ],
      "source": [
        "# print(HG_ev1._data)\n",
        "\n",
        "# if np.isnan(HG_ev1._data).any():\n",
        "#     print(\"Data contains NaN values.\")\n",
        "data = HG_ev1.get_data()\n",
        "nan_channels = {}\n",
        "for epoch_num in range(data.shape[0]):\n",
        "    nan_channels_epoch = []\n",
        "    for i, channel_data in enumerate(data[epoch_num, :, :]):\n",
        "        if np.isnan(channel_data).any():\n",
        "            nan_channels_epoch.append(HG_ev1.info['ch_names'][i])\n",
        "            \n",
        "    if nan_channels_epoch:  # Only add to the dictionary if the list is not empty\n",
        "        nan_channels[f'Epoch {epoch_num + 1}'] = nan_channels_epoch\n",
        "        print(f\"Channels with NaN values in Epoch {epoch_num + 1}: {nan_channels_epoch}\")\n",
        "\n",
        "\n"
      ]
    },
    {
      "cell_type": "code",
      "execution_count": 28,
      "metadata": {},
      "outputs": [
        {
          "name": "stdout",
          "output_type": "stream",
          "text": [
            "Channels with NaN values in Epoch 1: ['RAIF10', 'RAIT10', 'RMMT11', 'RPIT10', 'LMMT11']\n"
          ]
        }
      ],
      "source": [
        "data = HG_base.get_data()\n",
        "nan_channels = {}\n",
        "for epoch_num in range(data.shape[0]):\n",
        "    nan_channels_epoch = []\n",
        "    for i, channel_data in enumerate(data[epoch_num, :, :]):\n",
        "        if np.isnan(channel_data).any():\n",
        "            nan_channels_epoch.append(HG_base.info['ch_names'][i])\n",
        "            \n",
        "    if nan_channels_epoch:  # Only add to the dictionary if the list is not empty\n",
        "        nan_channels[f'Epoch {epoch_num + 1}'] = nan_channels_epoch\n",
        "        print(f\"Channels with NaN values in Epoch {epoch_num + 1}: {nan_channels_epoch}\")\n",
        "\n"
      ]
    },
    {
      "cell_type": "code",
      "execution_count": 33,
      "metadata": {},
      "outputs": [
        {
          "name": "stdout",
          "output_type": "stream",
          "text": [
            "Channels with NaN values: []\n"
          ]
        }
      ],
      "source": [
        "# Get the data from the Raw object\n",
        "data, times = good[:, :]\n",
        "\n",
        "# Check each channel for NaNs\n",
        "nan_channels = []\n",
        "for i, channel_data in enumerate(data):\n",
        "    if np.isnan(channel_data).any():\n",
        "        nan_channels.append(filt.info['ch_names'][i])\n",
        "\n",
        "print(\"Channels with NaN values:\", nan_channels)\n",
        "\n"
      ]
    },
    {
      "cell_type": "code",
      "execution_count": null,
      "metadata": {},
      "outputs": [],
      "source": [
        "def get_baseline(inst: mne.io.BaseRaw, base_times: tuple[float, float]):\n",
        "    inst = inst.copy()\n",
        "    inst.load_data()\n",
        "    ch_type = inst.get_channel_types(only_data_chs=True)[0]\n",
        "    inst.set_eeg_reference(ref_channels=\"average\", ch_type=ch_type)\n",
        "\n",
        "    adjusted_base_times = [base_times[0] - 0.5, base_times[1] + 0.5]\n",
        "    trials = trial_ieeg(inst, \"experimentStart\", adjusted_base_times, preload=True)\n",
        "    outliers_to_nan(trials, outliers=10)\n",
        "    HG_base = gamma.extract(trials, copy=False, n_jobs=1)\n",
        "    crop_pad(HG_base, \"0.5s\")\n",
        "    del inst\n",
        "    return HG_base\n",
        "\n",
        "\n",
        "\n",
        "sub='D0057'\n",
        "task='GlobalLocal'\n",
        "output_name=\"stimulus_RMMF1-5_preExperimentBaselineTest\"\n",
        "event=\"Stimulus\"\n",
        "times=(-1, 1.5)\n",
        "base_times=(1,11)\n",
        "LAB_root=None\n",
        "channels=None\n",
        "full_trial_base=False\n",
        "\n",
        "if LAB_root is None:\n",
        "    HOME = os.path.expanduser(\"~\")\n",
        "    if os.name == 'nt': # windows\n",
        "        LAB_root = os.path.join(HOME, \"Box\", \"CoganLab\")\n",
        "    else: # mac\n",
        "        LAB_root = os.path.join(HOME, \"Library\", \"CloudStorage\", \"Box-Box\", \"CoganLab\")\n",
        "\n",
        "layout = get_data(task, root=LAB_root)\n",
        "filt = raw_from_layout(layout.derivatives['derivatives/clean'], subject=sub, extension='.edf', desc='clean', preload=False)\n",
        "save_dir = os.path.join(layout.root, 'derivatives', 'freqFilt', 'figs', sub)\n",
        "if not os.path.exists(save_dir):\n",
        "    os.makedirs(save_dir)\n",
        "\n",
        "try:\n",
        "    good = crop_empty_data(filt)\n",
        "except ValueError as ve:\n",
        "    print(f\"Error encountered during cropping: {ve}\")\n",
        "\n",
        "print(f\"good channels before dropping bads: {len(good.ch_names)}\")\n",
        "print(f\"filt channels before dropping bads: {len(filt.ch_names)}\")\n",
        "\n",
        "good.info['bads'] = channel_outlier_marker(good, 3, 2)\n",
        "print(\"Bad channels in 'good':\", good.info['bads'])\n",
        "\n",
        "filt.drop_channels(good.info['bads']) #this has to come first cuz if you drop from good first, then good.info['bads'] is just empty\n",
        "good.drop_channels(good.info['bads'])\n",
        "\n",
        "print(\"Bad channels in 'good' after dropping once:\", good.info['bads'])\n",
        "\n",
        "print(f\"good channels after dropping bads: {len(good.ch_names)}\")\n",
        "print(f\"filt channels after dropping bads: {len(filt.ch_names)}\")\n",
        "\n",
        "\n",
        "HG_base = get_baseline(filt, base_times)\n",
        "\n",
        "inst = filt\n",
        "inst = inst.copy()\n",
        "inst.load_data()\n",
        "ch_type = inst.get_channel_types(only_data_chs=True)[0]\n",
        "inst.set_eeg_reference(ref_channels=\"average\", ch_type=ch_type)\n",
        "\n",
        "adjusted_base_times = [base_times[0] - 0.5, base_times[1] + 0.5]\n",
        "trials = trial_ieeg(inst, \"experimentStart\", adjusted_base_times, preload=True)\n",
        "outliers_to_nan(trials, outliers=10)\n",
        "HG_base = gamma.extract(trials, copy=False, n_jobs=1)\n",
        "crop_pad(HG_base, \"0.5s\")"
      ]
    },
    {
      "cell_type": "code",
      "execution_count": 5,
      "metadata": {},
      "outputs": [
        {
          "ename": "NameError",
          "evalue": "name 'filt' is not defined",
          "output_type": "error",
          "traceback": [
            "\u001b[1;31m---------------------------------------------------------------------------\u001b[0m",
            "\u001b[1;31mNameError\u001b[0m                                 Traceback (most recent call last)",
            "Cell \u001b[1;32mIn[5], line 1\u001b[0m\n\u001b[1;32m----> 1\u001b[0m inst \u001b[39m=\u001b[39m filt\n\u001b[0;32m      2\u001b[0m base_times \u001b[39m=\u001b[39m (\u001b[39m1\u001b[39m,\u001b[39m100\u001b[39m)\n\u001b[0;32m      3\u001b[0m inst \u001b[39m=\u001b[39m inst\u001b[39m.\u001b[39mcopy()\n",
            "\u001b[1;31mNameError\u001b[0m: name 'filt' is not defined"
          ]
        }
      ],
      "source": [
        "inst = filt\n",
        "base_times = (1,100)\n",
        "inst = inst.copy()\n",
        "test = inst.load_data()\n",
        "ch_type = inst.get_channel_types(only_data_chs=True)[0]\n",
        "inst.set_eeg_reference(ref_channels=\"average\", ch_type=ch_type)\n",
        "\n",
        "adjusted_base_times = [base_times[0] - 0.5, base_times[1] + 0.5]\n",
        "trials = trial_ieeg(inst, \"experimentStart\", adjusted_base_times, preload=True)\n",
        "outliers_to_nan(trials, outliers=10)\n",
        "HG_base = gamma.extract(trials, copy=False, n_jobs=1)\n",
        "crop_pad(HG_base, \"0.5s\")"
      ]
    },
    {
      "cell_type": "code",
      "execution_count": 56,
      "metadata": {},
      "outputs": [
        {
          "data": {
            "text/plain": [
              "<mne_qt_browser._pg_figure.MNEQtBrowser at 0x169968696c0>"
            ]
          },
          "execution_count": 56,
          "metadata": {},
          "output_type": "execute_result"
        }
      ],
      "source": [
        "HG_base.plot()"
      ]
    },
    {
      "cell_type": "code",
      "execution_count": 38,
      "metadata": {},
      "outputs": [
        {
          "name": "stdout",
          "output_type": "stream",
          "text": [
            "Used Annotations descriptions: ['Response/c25/n25', 'Response/c25/r25', 'Response/c25/r75', 'Response/c25/s25', 'Response/c25/s75', 'Response/c75/r25', 'Response/c75/r75', 'Response/c75/s25', 'Response/c75/s75', 'Response/i25/r25', 'Response/i25/r75', 'Response/i25/s25', 'Response/i25/s75', 'Response/i75/n25', 'Response/i75/n75', 'Response/i75/r25', 'Response/i75/r75', 'Response/i75/s25', 'Response/i75/s75', 'Stimulus/c25/n25', 'Stimulus/c25/r25', 'Stimulus/c25/r75', 'Stimulus/c25/s25', 'Stimulus/c25/s75', 'Stimulus/c75/r25', 'Stimulus/c75/r75', 'Stimulus/c75/s25', 'Stimulus/c75/s75', 'Stimulus/i25/n75', 'Stimulus/i25/r25', 'Stimulus/i25/r75', 'Stimulus/i25/s25', 'Stimulus/i25/s75', 'Stimulus/i75/n25', 'Stimulus/i75/n75', 'Stimulus/i75/r25', 'Stimulus/i75/r75', 'Stimulus/i75/s25', 'Stimulus/i75/s75', 'experimentStart']\n"
          ]
        }
      ],
      "source": [
        "raw = filt\n",
        "events, ids = mne.events_from_annotations(raw)\n",
        "event = \"experimentStart\"\n",
        "dat_ids = [ids[i] for i in mne.event.match_event_names(ids, event)]\n",
        "rev = {k: v for k, v in ids.items() if v in dat_ids}"
      ]
    },
    {
      "cell_type": "code",
      "execution_count": 39,
      "metadata": {},
      "outputs": [
        {
          "name": "stdout",
          "output_type": "stream",
          "text": [
            "Event IDs: {'Response/c25/n25': 1, 'Response/c25/r25': 2, 'Response/c25/r75': 3, 'Response/c25/s25': 4, 'Response/c25/s75': 5, 'Response/c75/r25': 6, 'Response/c75/r75': 7, 'Response/c75/s25': 8, 'Response/c75/s75': 9, 'Response/i25/r25': 10, 'Response/i25/r75': 11, 'Response/i25/s25': 12, 'Response/i25/s75': 13, 'Response/i75/n25': 14, 'Response/i75/n75': 15, 'Response/i75/r25': 16, 'Response/i75/r75': 17, 'Response/i75/s25': 18, 'Response/i75/s75': 19, 'Stimulus/c25/n25': 20, 'Stimulus/c25/r25': 21, 'Stimulus/c25/r75': 22, 'Stimulus/c25/s25': 23, 'Stimulus/c25/s75': 24, 'Stimulus/c75/r25': 25, 'Stimulus/c75/r75': 26, 'Stimulus/c75/s25': 27, 'Stimulus/c75/s75': 28, 'Stimulus/i25/n75': 29, 'Stimulus/i25/r25': 30, 'Stimulus/i25/r75': 31, 'Stimulus/i25/s25': 32, 'Stimulus/i25/s75': 33, 'Stimulus/i75/n25': 34, 'Stimulus/i75/n75': 35, 'Stimulus/i75/r25': 36, 'Stimulus/i75/r75': 37, 'Stimulus/i75/s25': 38, 'Stimulus/i75/s75': 39, 'experimentStart': 40}\n",
            "First few events: [[      0       0      40]\n",
            " [2784657       0      29]\n",
            " [2793394       0      24]\n",
            " [2796704       0       5]\n",
            " [2800390       0      24]\n",
            " [2804486       0       5]\n",
            " [2808173       0      22]\n",
            " [2812097       0       3]\n",
            " [2815785       0      33]\n",
            " [2818447       0      13]]\n",
            "dat_ids:  [40]\n",
            "rev:  {'experimentStart': 40}\n"
          ]
        }
      ],
      "source": [
        "print(\"Event IDs:\", ids)\n",
        "print(\"First few events:\", events[:10])\n",
        "print(\"dat_ids: \", dat_ids)\n",
        "print(\"rev: \", rev)"
      ]
    },
    {
      "cell_type": "code",
      "execution_count": 17,
      "metadata": {},
      "outputs": [
        {
          "name": "stdout",
          "output_type": "stream",
          "text": [
            "(0, 175, 20481)\n",
            "Used Annotations descriptions: ['Response/c25/n25', 'Response/c25/r25', 'Response/c25/r75', 'Response/c25/s25', 'Response/c25/s75', 'Response/c75/r25', 'Response/c75/r75', 'Response/c75/s25', 'Response/c75/s75', 'Response/i25/r25', 'Response/i25/r75', 'Response/i25/s25', 'Response/i25/s75', 'Response/i75/n25', 'Response/i75/n75', 'Response/i75/r25', 'Response/i75/r75', 'Response/i75/s25', 'Response/i75/s75', 'Stimulus/c25/n25', 'Stimulus/c25/r25', 'Stimulus/c25/r75', 'Stimulus/c25/s25', 'Stimulus/c25/s75', 'Stimulus/c75/r25', 'Stimulus/c75/r75', 'Stimulus/c75/s25', 'Stimulus/c75/s75', 'Stimulus/i25/n75', 'Stimulus/i25/r25', 'Stimulus/i25/r75', 'Stimulus/i25/s25', 'Stimulus/i25/s75', 'Stimulus/i75/n25', 'Stimulus/i75/n75', 'Stimulus/i75/r25', 'Stimulus/i75/r75', 'Stimulus/i75/s25', 'Stimulus/i75/s75', 'experimentStart']\n",
            "Found 2 events, first five:\n",
            "(array([[      0,       0,      40],\n",
            "       [2784657,       0,      29],\n",
            "       [2793394,       0,      24],\n",
            "       ...,\n",
            "       [6251668,       0,      19],\n",
            "       [6256957,       0,      37],\n",
            "       [6257946,       0,      17]]), {'Response/c25/n25': 1, 'Response/c25/r25': 2, 'Response/c25/r75': 3, 'Response/c25/s25': 4, 'Response/c25/s75': 5, 'Response/c75/r25': 6, 'Response/c75/r75': 7, 'Response/c75/s25': 8, 'Response/c75/s75': 9, 'Response/i25/r25': 10, 'Response/i25/r75': 11, 'Response/i25/s25': 12, 'Response/i25/s75': 13, 'Response/i75/n25': 14, 'Response/i75/n75': 15, 'Response/i75/r25': 16, 'Response/i75/r75': 17, 'Response/i75/s25': 18, 'Response/i75/s75': 19, 'Stimulus/c25/n25': 20, 'Stimulus/c25/r25': 21, 'Stimulus/c25/r75': 22, 'Stimulus/c25/s25': 23, 'Stimulus/c25/s75': 24, 'Stimulus/c75/r25': 25, 'Stimulus/c75/r75': 26, 'Stimulus/c75/s25': 27, 'Stimulus/c75/s75': 28, 'Stimulus/i25/n75': 29, 'Stimulus/i25/r25': 30, 'Stimulus/i25/r75': 31, 'Stimulus/i25/s25': 32, 'Stimulus/i25/s75': 33, 'Stimulus/i75/n25': 34, 'Stimulus/i75/n75': 35, 'Stimulus/i75/r25': 36, 'Stimulus/i75/r75': 37, 'Stimulus/i75/s25': 38, 'Stimulus/i75/s75': 39, 'experimentStart': 40})\n"
          ]
        }
      ],
      "source": [
        "HG_base_data = HG_base.get_data()\n",
        "\n",
        "print(HG_base_data.shape)\n",
        "\n",
        "events, event_id = mne.events_from_annotations(filt)\n",
        "print('Found %s events, first five:' % len(events))\n",
        "print(events[:5])"
      ]
    },
    {
      "cell_type": "code",
      "execution_count": null,
      "metadata": {},
      "outputs": [],
      "source": [
        "test = plot_HG_and_stats(sub='D0057', task=\"GlobalLocal\", output_name=\"stimulus_RMMF1-5_experimentStartBase10SECONDTEST\", event=\"Stimulus\", times=(-1, 1.5), base_times=(0,10), channels=[\"RMMF1\", \"RMMF2\", \"RMMF3\", \"RMMF4\", \"RMMF5\"])"
      ]
    },
    {
      "cell_type": "code",
      "execution_count": 20,
      "metadata": {},
      "outputs": [
        {
          "data": {
            "text/plain": [
              "[OrderedDict([('onset', 0.0),\n",
              "              ('duration', 0.0),\n",
              "              ('description', 'experimentStart'),\n",
              "              ('orig_time',\n",
              "               datetime.datetime(2023, 7, 3, 12, 31, 29, tzinfo=datetime.timezone.utc))])]"
            ]
          },
          "execution_count": 20,
          "metadata": {},
          "output_type": "execute_result"
        }
      ],
      "source": [
        "[a for a in filt.annotations if a['description'] == 'experimentStart']"
      ]
    },
    {
      "cell_type": "code",
      "execution_count": 20,
      "metadata": {},
      "outputs": [
        {
          "name": "stdout",
          "output_type": "stream",
          "text": [
            "Extracting EDF parameters from C:\\Users\\jz421\\Box\\CoganLab\\BIDS-1.1_GlobalLocal\\BIDS\\derivatives\\clean\\sub-D0057\\ieeg\\sub-D0057_task-GlobalLocal_acq-01_run-01_desc-clean_ieeg.edf...\n",
            "EDF file detected\n",
            "Setting channel info structure...\n",
            "Creating raw.info structure...\n",
            "Reading events from C:\\Users\\jz421\\Box\\CoganLab\\BIDS-1.1_GlobalLocal\\BIDS\\derivatives\\clean\\sub-D0057\\ieeg\\sub-D0057_task-GlobalLocal_acq-01_run-01_desc-clean_events.tsv.\n",
            "Reading channel info from C:\\Users\\jz421\\Box\\CoganLab\\BIDS-1.1_GlobalLocal\\BIDS\\derivatives\\clean\\sub-D0057\\ieeg\\sub-D0057_task-GlobalLocal_acq-01_run-01_desc-clean_channels.tsv.\n",
            "Reading electrode coords from C:\\Users\\jz421\\Box\\CoganLab\\BIDS-1.1_GlobalLocal\\BIDS\\derivatives\\clean\\sub-D0057\\ieeg\\sub-D0057_acq-01_space-ACPC_electrodes.tsv.\n",
            "Extracting EDF parameters from C:\\Users\\jz421\\Box\\CoganLab\\BIDS-1.1_GlobalLocal\\BIDS\\derivatives\\clean\\sub-D0057\\ieeg\\sub-D0057_task-GlobalLocal_acq-01_run-02_desc-clean_ieeg.edf...\n",
            "EDF file detected\n",
            "Setting channel info structure...\n",
            "Creating raw.info structure...\n"
          ]
        },
        {
          "name": "stderr",
          "output_type": "stream",
          "text": [
            "C:\\Users\\jz421\\Desktop\\GlobalLocal\\IEEG_Pipelines\\ieeg\\io.py:113: RuntimeWarning: The number of channels in the channels.tsv sidecar file (179) does not match the number of channels in the raw data file (178). Will not try to set channel names.\n",
            "  new_raw = read_raw_bids(bids_path=BIDS_path, verbose=verbose)\n",
            "C:\\Users\\jz421\\Desktop\\GlobalLocal\\IEEG_Pipelines\\ieeg\\io.py:113: RuntimeWarning: Cannot set channel type for the following channels, as they are missing in the raw data: Trigger\n",
            "  new_raw = read_raw_bids(bids_path=BIDS_path, verbose=verbose)\n"
          ]
        },
        {
          "name": "stdout",
          "output_type": "stream",
          "text": [
            "Reading events from C:\\Users\\jz421\\Box\\CoganLab\\BIDS-1.1_GlobalLocal\\BIDS\\derivatives\\clean\\sub-D0057\\ieeg\\sub-D0057_task-GlobalLocal_acq-01_run-02_desc-clean_events.tsv.\n",
            "Reading channel info from C:\\Users\\jz421\\Box\\CoganLab\\BIDS-1.1_GlobalLocal\\BIDS\\derivatives\\clean\\sub-D0057\\ieeg\\sub-D0057_task-GlobalLocal_acq-01_run-02_desc-clean_channels.tsv.\n",
            "Reading electrode coords from C:\\Users\\jz421\\Box\\CoganLab\\BIDS-1.1_GlobalLocal\\BIDS\\derivatives\\clean\\sub-D0057\\ieeg\\sub-D0057_acq-01_space-ACPC_electrodes.tsv.\n",
            "Extracting EDF parameters from C:\\Users\\jz421\\Box\\CoganLab\\BIDS-1.1_GlobalLocal\\BIDS\\derivatives\\clean\\sub-D0057\\ieeg\\sub-D0057_task-GlobalLocal_acq-01_run-03_desc-clean_ieeg.edf...\n",
            "EDF file detected\n",
            "Setting channel info structure...\n",
            "Creating raw.info structure...\n"
          ]
        },
        {
          "name": "stderr",
          "output_type": "stream",
          "text": [
            "C:\\Users\\jz421\\Desktop\\GlobalLocal\\IEEG_Pipelines\\ieeg\\io.py:113: RuntimeWarning: Omitted 228 annotation(s) that were outside data range.\n",
            "  new_raw = read_raw_bids(bids_path=BIDS_path, verbose=verbose)\n",
            "C:\\Users\\jz421\\Desktop\\GlobalLocal\\IEEG_Pipelines\\ieeg\\io.py:113: RuntimeWarning: The number of channels in the channels.tsv sidecar file (179) does not match the number of channels in the raw data file (178). Will not try to set channel names.\n",
            "  new_raw = read_raw_bids(bids_path=BIDS_path, verbose=verbose)\n",
            "C:\\Users\\jz421\\Desktop\\GlobalLocal\\IEEG_Pipelines\\ieeg\\io.py:113: RuntimeWarning: Cannot set channel type for the following channels, as they are missing in the raw data: Trigger\n",
            "  new_raw = read_raw_bids(bids_path=BIDS_path, verbose=verbose)\n"
          ]
        },
        {
          "name": "stdout",
          "output_type": "stream",
          "text": [
            "Reading events from C:\\Users\\jz421\\Box\\CoganLab\\BIDS-1.1_GlobalLocal\\BIDS\\derivatives\\clean\\sub-D0057\\ieeg\\sub-D0057_task-GlobalLocal_acq-01_run-03_desc-clean_events.tsv.\n",
            "Reading channel info from C:\\Users\\jz421\\Box\\CoganLab\\BIDS-1.1_GlobalLocal\\BIDS\\derivatives\\clean\\sub-D0057\\ieeg\\sub-D0057_task-GlobalLocal_acq-01_run-03_desc-clean_channels.tsv.\n",
            "Reading electrode coords from C:\\Users\\jz421\\Box\\CoganLab\\BIDS-1.1_GlobalLocal\\BIDS\\derivatives\\clean\\sub-D0057\\ieeg\\sub-D0057_acq-01_space-ACPC_electrodes.tsv.\n",
            "Extracting EDF parameters from C:\\Users\\jz421\\Box\\CoganLab\\BIDS-1.1_GlobalLocal\\BIDS\\derivatives\\clean\\sub-D0057\\ieeg\\sub-D0057_task-GlobalLocal_acq-01_run-04_desc-clean_ieeg.edf...\n",
            "EDF file detected\n",
            "Setting channel info structure...\n",
            "Creating raw.info structure...\n"
          ]
        },
        {
          "name": "stderr",
          "output_type": "stream",
          "text": [
            "C:\\Users\\jz421\\Desktop\\GlobalLocal\\IEEG_Pipelines\\ieeg\\io.py:113: RuntimeWarning: Omitted 228 annotation(s) that were outside data range.\n",
            "  new_raw = read_raw_bids(bids_path=BIDS_path, verbose=verbose)\n",
            "C:\\Users\\jz421\\Desktop\\GlobalLocal\\IEEG_Pipelines\\ieeg\\io.py:113: RuntimeWarning: The number of channels in the channels.tsv sidecar file (179) does not match the number of channels in the raw data file (178). Will not try to set channel names.\n",
            "  new_raw = read_raw_bids(bids_path=BIDS_path, verbose=verbose)\n",
            "C:\\Users\\jz421\\Desktop\\GlobalLocal\\IEEG_Pipelines\\ieeg\\io.py:113: RuntimeWarning: Cannot set channel type for the following channels, as they are missing in the raw data: Trigger\n",
            "  new_raw = read_raw_bids(bids_path=BIDS_path, verbose=verbose)\n"
          ]
        },
        {
          "name": "stdout",
          "output_type": "stream",
          "text": [
            "Reading events from C:\\Users\\jz421\\Box\\CoganLab\\BIDS-1.1_GlobalLocal\\BIDS\\derivatives\\clean\\sub-D0057\\ieeg\\sub-D0057_task-GlobalLocal_acq-01_run-04_desc-clean_events.tsv.\n",
            "Reading channel info from C:\\Users\\jz421\\Box\\CoganLab\\BIDS-1.1_GlobalLocal\\BIDS\\derivatives\\clean\\sub-D0057\\ieeg\\sub-D0057_task-GlobalLocal_acq-01_run-04_desc-clean_channels.tsv.\n",
            "Reading electrode coords from C:\\Users\\jz421\\Box\\CoganLab\\BIDS-1.1_GlobalLocal\\BIDS\\derivatives\\clean\\sub-D0057\\ieeg\\sub-D0057_acq-01_space-ACPC_electrodes.tsv.\n",
            "Reading 0 ... 8243199  =      0.000 ...  4025.000 secs...\n"
          ]
        },
        {
          "name": "stderr",
          "output_type": "stream",
          "text": [
            "C:\\Users\\jz421\\Desktop\\GlobalLocal\\IEEG_Pipelines\\ieeg\\io.py:113: RuntimeWarning: Omitted 226 annotation(s) that were outside data range.\n",
            "  new_raw = read_raw_bids(bids_path=BIDS_path, verbose=verbose)\n",
            "C:\\Users\\jz421\\Desktop\\GlobalLocal\\IEEG_Pipelines\\ieeg\\io.py:113: RuntimeWarning: The number of channels in the channels.tsv sidecar file (179) does not match the number of channels in the raw data file (178). Will not try to set channel names.\n",
            "  new_raw = read_raw_bids(bids_path=BIDS_path, verbose=verbose)\n",
            "C:\\Users\\jz421\\Desktop\\GlobalLocal\\IEEG_Pipelines\\ieeg\\io.py:113: RuntimeWarning: Cannot set channel type for the following channels, as they are missing in the raw data: Trigger\n",
            "  new_raw = read_raw_bids(bids_path=BIDS_path, verbose=verbose)\n"
          ]
        },
        {
          "name": "stdout",
          "output_type": "stream",
          "text": [
            "Used Annotations descriptions: ['Response/c25/n25', 'Response/c25/r25', 'Response/c25/r75', 'Response/c25/s25', 'Response/c25/s75', 'Response/c75/r25', 'Response/c75/r75', 'Response/c75/s25', 'Response/c75/s75', 'Response/i25/r25', 'Response/i25/r75', 'Response/i25/s25', 'Response/i25/s75', 'Response/i75/n25', 'Response/i75/n75', 'Response/i75/r25', 'Response/i75/r75', 'Response/i75/s25', 'Response/i75/s75', 'Stimulus/c25/n25', 'Stimulus/c25/r25', 'Stimulus/c25/r75', 'Stimulus/c25/s25', 'Stimulus/c25/s75', 'Stimulus/c75/r25', 'Stimulus/c75/r75', 'Stimulus/c75/s25', 'Stimulus/c75/s75', 'Stimulus/i25/n75', 'Stimulus/i25/r25', 'Stimulus/i25/r75', 'Stimulus/i25/s25', 'Stimulus/i25/s75', 'Stimulus/i75/n25', 'Stimulus/i75/n75', 'Stimulus/i75/r25', 'Stimulus/i75/r75', 'Stimulus/i75/s25', 'Stimulus/i75/s75', 'experimentStart']\n",
            "Not setting metadata\n",
            "2 matching events found\n",
            "No baseline correction applied\n",
            "0 projection items activated\n",
            "Using data from preloaded Raw for 2 events and 206849 original time points ...\n",
            "0 bad epochs dropped\n"
          ]
        },
        {
          "data": {
            "text/html": [
              "<table class=\"table table-hover table-striped table-sm table-responsive small\">\n",
              "    <tr>\n",
              "        <th>Number of events</th>\n",
              "        <td>2</td>\n",
              "    </tr>\n",
              "    <tr>\n",
              "        <th>Events</th>\n",
              "        \n",
              "        <td>experimentStart: 2</td>\n",
              "        \n",
              "    </tr>\n",
              "    <tr>\n",
              "        <th>Time range</th>\n",
              "        <td>0.000 – 101.000 s</td>\n",
              "    </tr>\n",
              "    <tr>\n",
              "        <th>Baseline</th>\n",
              "        <td>off</td>\n",
              "    </tr>\n",
              "</table>"
            ],
            "text/plain": [
              "<Epochs |  2 events (all good), 0 – 101 s, baseline off, ~562.0 MB, data loaded,\n",
              " 'experimentStart': 2>"
            ]
          },
          "execution_count": 20,
          "metadata": {},
          "output_type": "execute_result"
        }
      ],
      "source": [
        "HOME = os.path.expanduser(\"~\")\n",
        "LAB_root = os.path.join(HOME, \"Box\", \"CoganLab\")\n",
        "\n",
        "layout = get_data('GlobalLocal', root=LAB_root)\n",
        "filt = raw_from_layout(layout.derivatives['derivatives/clean'], subject='D0057', extension='.edf', desc='clean', preload=True)\n",
        "trial_ieeg(filt, \"experimentStart\", (0, 101), preload=True)\n"
      ]
    },
    {
      "cell_type": "code",
      "execution_count": null,
      "metadata": {},
      "outputs": [],
      "source": [
        "plot_HG_and_stats(sub='D0065', task=\"GlobalLocal\", output_name=\"incongruent\", event=\"/i\", times=(-1, 1.5))"
      ]
    },
    {
      "cell_type": "code",
      "execution_count": null,
      "metadata": {},
      "outputs": [],
      "source": [
        "plot_HG_and_stats(sub='D0065', task=\"GlobalLocal\", output_name=\"switch\", event=\"/s\", times=(-1, 1.5))"
      ]
    },
    {
      "cell_type": "code",
      "execution_count": null,
      "metadata": {},
      "outputs": [],
      "source": [
        "plot_HG_and_stats(sub='D0065', task=\"GlobalLocal\", output_name=\"repeat\", event=\"/r\", times=(-1, 1.5))"
      ]
    },
    {
      "cell_type": "markdown",
      "metadata": {},
      "source": [
        "# clean up this damn notebook soon 9/10\n",
        "\n",
        "### trying to make the pre-experiment baseline of five minutes right after recording starts"
      ]
    },
    {
      "cell_type": "code",
      "execution_count": 19,
      "metadata": {},
      "outputs": [
        {
          "name": "stdout",
          "output_type": "stream",
          "text": [
            "Extracting EDF parameters from C:\\Users\\jz421\\Box\\CoganLab\\BIDS-1.1_GlobalLocal\\BIDS\\derivatives\\clean\\sub-D0057\\ieeg\\sub-D0057_task-GlobalLocal_acq-01_run-01_desc-clean_ieeg.edf...\n",
            "EDF file detected\n",
            "Setting channel info structure...\n",
            "Creating raw.info structure...\n",
            "Reading events from C:\\Users\\jz421\\Box\\CoganLab\\BIDS-1.1_GlobalLocal\\BIDS\\derivatives\\clean\\sub-D0057\\ieeg\\sub-D0057_task-GlobalLocal_acq-01_run-01_desc-clean_events.tsv.\n",
            "Reading channel info from C:\\Users\\jz421\\Box\\CoganLab\\BIDS-1.1_GlobalLocal\\BIDS\\derivatives\\clean\\sub-D0057\\ieeg\\sub-D0057_task-GlobalLocal_acq-01_run-01_desc-clean_channels.tsv.\n",
            "Reading electrode coords from C:\\Users\\jz421\\Box\\CoganLab\\BIDS-1.1_GlobalLocal\\BIDS\\derivatives\\clean\\sub-D0057\\ieeg\\sub-D0057_acq-01_space-ACPC_electrodes.tsv.\n",
            "Extracting EDF parameters from C:\\Users\\jz421\\Box\\CoganLab\\BIDS-1.1_GlobalLocal\\BIDS\\derivatives\\clean\\sub-D0057\\ieeg\\sub-D0057_task-GlobalLocal_acq-01_run-02_desc-clean_ieeg.edf...\n",
            "EDF file detected\n",
            "Setting channel info structure...\n",
            "Creating raw.info structure...\n"
          ]
        },
        {
          "name": "stderr",
          "output_type": "stream",
          "text": [
            "C:\\Users/jz421/Desktop/GlobalLocal/IEEG_Pipelines\\ieeg\\io.py:113: RuntimeWarning: The number of channels in the channels.tsv sidecar file (179) does not match the number of channels in the raw data file (178). Will not try to set channel names.\n",
            "  new_raw = read_raw_bids(bids_path=BIDS_path, verbose=verbose)\n",
            "C:\\Users/jz421/Desktop/GlobalLocal/IEEG_Pipelines\\ieeg\\io.py:113: RuntimeWarning: Cannot set channel type for the following channels, as they are missing in the raw data: Trigger\n",
            "  new_raw = read_raw_bids(bids_path=BIDS_path, verbose=verbose)\n"
          ]
        },
        {
          "name": "stdout",
          "output_type": "stream",
          "text": [
            "Reading events from C:\\Users\\jz421\\Box\\CoganLab\\BIDS-1.1_GlobalLocal\\BIDS\\derivatives\\clean\\sub-D0057\\ieeg\\sub-D0057_task-GlobalLocal_acq-01_run-02_desc-clean_events.tsv.\n",
            "Reading channel info from C:\\Users\\jz421\\Box\\CoganLab\\BIDS-1.1_GlobalLocal\\BIDS\\derivatives\\clean\\sub-D0057\\ieeg\\sub-D0057_task-GlobalLocal_acq-01_run-02_desc-clean_channels.tsv.\n",
            "Reading electrode coords from C:\\Users\\jz421\\Box\\CoganLab\\BIDS-1.1_GlobalLocal\\BIDS\\derivatives\\clean\\sub-D0057\\ieeg\\sub-D0057_acq-01_space-ACPC_electrodes.tsv.\n",
            "Extracting EDF parameters from C:\\Users\\jz421\\Box\\CoganLab\\BIDS-1.1_GlobalLocal\\BIDS\\derivatives\\clean\\sub-D0057\\ieeg\\sub-D0057_task-GlobalLocal_acq-01_run-03_desc-clean_ieeg.edf...\n",
            "EDF file detected\n",
            "Setting channel info structure...\n",
            "Creating raw.info structure...\n"
          ]
        },
        {
          "name": "stderr",
          "output_type": "stream",
          "text": [
            "C:\\Users/jz421/Desktop/GlobalLocal/IEEG_Pipelines\\ieeg\\io.py:113: RuntimeWarning: Omitted 228 annotation(s) that were outside data range.\n",
            "  new_raw = read_raw_bids(bids_path=BIDS_path, verbose=verbose)\n",
            "C:\\Users/jz421/Desktop/GlobalLocal/IEEG_Pipelines\\ieeg\\io.py:113: RuntimeWarning: The number of channels in the channels.tsv sidecar file (179) does not match the number of channels in the raw data file (178). Will not try to set channel names.\n",
            "  new_raw = read_raw_bids(bids_path=BIDS_path, verbose=verbose)\n",
            "C:\\Users/jz421/Desktop/GlobalLocal/IEEG_Pipelines\\ieeg\\io.py:113: RuntimeWarning: Cannot set channel type for the following channels, as they are missing in the raw data: Trigger\n",
            "  new_raw = read_raw_bids(bids_path=BIDS_path, verbose=verbose)\n"
          ]
        },
        {
          "name": "stdout",
          "output_type": "stream",
          "text": [
            "Reading events from C:\\Users\\jz421\\Box\\CoganLab\\BIDS-1.1_GlobalLocal\\BIDS\\derivatives\\clean\\sub-D0057\\ieeg\\sub-D0057_task-GlobalLocal_acq-01_run-03_desc-clean_events.tsv.\n",
            "Reading channel info from C:\\Users\\jz421\\Box\\CoganLab\\BIDS-1.1_GlobalLocal\\BIDS\\derivatives\\clean\\sub-D0057\\ieeg\\sub-D0057_task-GlobalLocal_acq-01_run-03_desc-clean_channels.tsv.\n",
            "Reading electrode coords from C:\\Users\\jz421\\Box\\CoganLab\\BIDS-1.1_GlobalLocal\\BIDS\\derivatives\\clean\\sub-D0057\\ieeg\\sub-D0057_acq-01_space-ACPC_electrodes.tsv.\n",
            "Extracting EDF parameters from C:\\Users\\jz421\\Box\\CoganLab\\BIDS-1.1_GlobalLocal\\BIDS\\derivatives\\clean\\sub-D0057\\ieeg\\sub-D0057_task-GlobalLocal_acq-01_run-04_desc-clean_ieeg.edf...\n",
            "EDF file detected\n",
            "Setting channel info structure...\n",
            "Creating raw.info structure...\n"
          ]
        },
        {
          "name": "stderr",
          "output_type": "stream",
          "text": [
            "C:\\Users/jz421/Desktop/GlobalLocal/IEEG_Pipelines\\ieeg\\io.py:113: RuntimeWarning: Omitted 228 annotation(s) that were outside data range.\n",
            "  new_raw = read_raw_bids(bids_path=BIDS_path, verbose=verbose)\n",
            "C:\\Users/jz421/Desktop/GlobalLocal/IEEG_Pipelines\\ieeg\\io.py:113: RuntimeWarning: The number of channels in the channels.tsv sidecar file (179) does not match the number of channels in the raw data file (178). Will not try to set channel names.\n",
            "  new_raw = read_raw_bids(bids_path=BIDS_path, verbose=verbose)\n",
            "C:\\Users/jz421/Desktop/GlobalLocal/IEEG_Pipelines\\ieeg\\io.py:113: RuntimeWarning: Cannot set channel type for the following channels, as they are missing in the raw data: Trigger\n",
            "  new_raw = read_raw_bids(bids_path=BIDS_path, verbose=verbose)\n"
          ]
        },
        {
          "name": "stdout",
          "output_type": "stream",
          "text": [
            "Reading events from C:\\Users\\jz421\\Box\\CoganLab\\BIDS-1.1_GlobalLocal\\BIDS\\derivatives\\clean\\sub-D0057\\ieeg\\sub-D0057_task-GlobalLocal_acq-01_run-04_desc-clean_events.tsv.\n",
            "Reading channel info from C:\\Users\\jz421\\Box\\CoganLab\\BIDS-1.1_GlobalLocal\\BIDS\\derivatives\\clean\\sub-D0057\\ieeg\\sub-D0057_task-GlobalLocal_acq-01_run-04_desc-clean_channels.tsv.\n",
            "Reading electrode coords from C:\\Users\\jz421\\Box\\CoganLab\\BIDS-1.1_GlobalLocal\\BIDS\\derivatives\\clean\\sub-D0057\\ieeg\\sub-D0057_acq-01_space-ACPC_electrodes.tsv.\n"
          ]
        },
        {
          "name": "stderr",
          "output_type": "stream",
          "text": [
            "C:\\Users/jz421/Desktop/GlobalLocal/IEEG_Pipelines\\ieeg\\io.py:113: RuntimeWarning: Omitted 226 annotation(s) that were outside data range.\n",
            "  new_raw = read_raw_bids(bids_path=BIDS_path, verbose=verbose)\n",
            "C:\\Users/jz421/Desktop/GlobalLocal/IEEG_Pipelines\\ieeg\\io.py:113: RuntimeWarning: The number of channels in the channels.tsv sidecar file (179) does not match the number of channels in the raw data file (178). Will not try to set channel names.\n",
            "  new_raw = read_raw_bids(bids_path=BIDS_path, verbose=verbose)\n",
            "C:\\Users/jz421/Desktop/GlobalLocal/IEEG_Pipelines\\ieeg\\io.py:113: RuntimeWarning: Cannot set channel type for the following channels, as they are missing in the raw data: Trigger\n",
            "  new_raw = read_raw_bids(bids_path=BIDS_path, verbose=verbose)\n"
          ]
        },
        {
          "name": "stdout",
          "output_type": "stream",
          "text": [
            "outlier round 1 channels: ['RAMT8']\n",
            "outlier round 2 channels: ['RAMT8', 'RPI16']\n",
            "outlier round 2 channels: ['RAMT8', 'RPI16', 'LAMT12']\n",
            "Reading 0 ... 6024958  =      0.000 ...  2941.874 secs...\n",
            "Applying average reference.\n",
            "Applying a custom ('sEEG',) reference.\n",
            "Used Annotations descriptions: ['Response/c25/n25', 'Response/c25/r25', 'Response/c25/r75', 'Response/c25/s25', 'Response/c25/s75', 'Response/c75/r25', 'Response/c75/r75', 'Response/c75/s25', 'Response/c75/s75', 'Response/i25/r25', 'Response/i25/r75', 'Response/i25/s25', 'Response/i25/s75', 'Response/i75/n25', 'Response/i75/n75', 'Response/i75/r25', 'Response/i75/r75', 'Response/i75/s25', 'Response/i75/s75', 'Stimulus/c25/n25', 'Stimulus/c25/r25', 'Stimulus/c25/r75', 'Stimulus/c25/s25', 'Stimulus/c25/s75', 'Stimulus/c75/r25', 'Stimulus/c75/r75', 'Stimulus/c75/s25', 'Stimulus/c75/s75', 'Stimulus/i25/n75', 'Stimulus/i25/r25', 'Stimulus/i25/r75', 'Stimulus/i25/s25', 'Stimulus/i25/s75', 'Stimulus/i75/n25', 'Stimulus/i75/n75', 'Stimulus/i75/r25', 'Stimulus/i75/r75', 'Stimulus/i75/s25', 'Stimulus/i75/s75', 'experimentStart']\n",
            "Not setting metadata\n",
            "3 matching events found\n",
            "No baseline correction applied\n",
            "0 projection items activated\n",
            "Using data from preloaded Raw for 3 events and 204801 original time points ...\n",
            "1 bad epochs dropped\n"
          ]
        },
        {
          "name": "stderr",
          "output_type": "stream",
          "text": [
            "100%|██████████| 2/2 [02:08<00:00, 64.30s/it]\n"
          ]
        },
        {
          "data": {
            "text/html": [
              "<table class=\"table table-hover table-striped table-sm table-responsive small\">\n",
              "    <tr>\n",
              "        <th>Number of events</th>\n",
              "        <td>2</td>\n",
              "    </tr>\n",
              "    <tr>\n",
              "        <th>Events</th>\n",
              "        \n",
              "        <td>experimentStart: 2</td>\n",
              "        \n",
              "    </tr>\n",
              "    <tr>\n",
              "        <th>Time range</th>\n",
              "        <td>0.500 – 99.500 s</td>\n",
              "    </tr>\n",
              "    <tr>\n",
              "        <th>Baseline</th>\n",
              "        <td>off</td>\n",
              "    </tr>\n",
              "</table>"
            ],
            "text/plain": [
              "<Epochs |  2 events (all good), 0.5 – 99.5 s, baseline off, ~541.6 MB, data loaded,\n",
              " 'experimentStart': 2>"
            ]
          },
          "execution_count": 19,
          "metadata": {},
          "output_type": "execute_result"
        }
      ],
      "source": [
        "HOME = os.path.expanduser(\"~\")\n",
        "\n",
        "# get box directory depending on OS\n",
        "if os.name == 'nt': # windows\n",
        "    LAB_root = os.path.join(HOME, \"Box\", \"CoganLab\")\n",
        "else: # mac\n",
        "    LAB_root = os.path.join(HOME, \"Library\", \"CloudStorage\", \"Box-Box\", \"CoganLab\")\n",
        "\n",
        "sub='D0057'\n",
        "layout = get_data(\"GlobalLocal\", root=LAB_root)\n",
        "filt = raw_from_layout(layout.derivatives['derivatives/clean'], subject=sub, extension='.edf', desc='clean', preload=False)\n",
        "save_dir = os.path.join(layout.root, 'derivatives', 'freqFilt', 'figs', sub)\n",
        "if not os.path.exists(save_dir):\n",
        "    os.makedirs(save_dir)\n",
        "good = crop_empty_data(filt)\n",
        "good.info['bads'] = channel_outlier_marker(good, 3, 2)\n",
        "good.drop_channels(good.info['bads'])\n",
        "good.load_data()\n",
        "\n",
        "\n",
        "\n",
        "channels = good.ch_names\n",
        "\n",
        "\n",
        "ch_type = filt.get_channel_types(only_data_chs=True)[0]\n",
        "good.set_eeg_reference(ref_channels=\"average\", ch_type=ch_type)\n",
        "\n",
        "\n",
        "times=[0,100]\n",
        "\n",
        "trials = trial_ieeg(good, \"experimentStart\", times, preload=True)\n",
        "outliers_to_nan(trials, outliers=10)\n",
        "HG_base = gamma.extract(trials, copy=False, n_jobs=-1)\n",
        "crop_pad(HG_base, \"0.5s\")"
      ]
    },
    {
      "cell_type": "code",
      "execution_count": 20,
      "metadata": {},
      "outputs": [],
      "source": [
        "fig = HG_base.plot()\n"
      ]
    },
    {
      "cell_type": "code",
      "execution_count": 21,
      "metadata": {},
      "outputs": [
        {
          "data": {
            "text/plain": [
              "array([[[3.17678905e-06, 3.19554465e-06, 3.21445668e-06, ...,\n",
              "         2.94870779e-06, 2.93768426e-06, 2.92631830e-06],\n",
              "        [4.41296288e-06, 4.43006229e-06, 4.44649686e-06, ...,\n",
              "         3.68066458e-06, 3.67953771e-06, 3.67840130e-06],\n",
              "        [3.88735043e-06, 3.87360615e-06, 3.85933163e-06, ...,\n",
              "         3.26325585e-06, 3.26373492e-06, 3.26433019e-06],\n",
              "        ...,\n",
              "        [3.71415581e-06, 3.69500162e-06, 3.67553389e-06, ...,\n",
              "         5.58981583e-06, 5.58533611e-06, 5.58016518e-06],\n",
              "        [           nan,            nan,            nan, ...,\n",
              "                    nan,            nan,            nan],\n",
              "        [4.19572007e-06, 4.19072057e-06, 4.18549143e-06, ...,\n",
              "         9.24691085e-06, 9.25795393e-06, 9.26732901e-06]],\n",
              "\n",
              "       [[3.86658758e-06, 3.88489616e-06, 3.90320838e-06, ...,\n",
              "         3.52051325e-06, 3.52580901e-06, 3.53100768e-06],\n",
              "        [2.76941114e-06, 2.78063249e-06, 2.79206870e-06, ...,\n",
              "         3.21512357e-06, 3.21370499e-06, 3.21325706e-06],\n",
              "        [2.46078025e-06, 2.45144861e-06, 2.44236708e-06, ...,\n",
              "         3.08024346e-06, 3.07117170e-06, 3.06193806e-06],\n",
              "        ...,\n",
              "        [3.17755371e-06, 3.17298463e-06, 3.16802584e-06, ...,\n",
              "         3.93788105e-06, 3.91894991e-06, 3.89963270e-06],\n",
              "        [3.24175971e-06, 3.24767279e-06, 3.25343944e-06, ...,\n",
              "         4.18083982e-06, 4.18784384e-06, 4.19443950e-06],\n",
              "        [3.29227078e-06, 3.29164141e-06, 3.29151590e-06, ...,\n",
              "         5.15115607e-06, 5.17299577e-06, 5.19374407e-06]]])"
            ]
          },
          "execution_count": 21,
          "metadata": {},
          "output_type": "execute_result"
        }
      ],
      "source": [
        "HG_base._data"
      ]
    },
    {
      "cell_type": "code",
      "execution_count": null,
      "metadata": {},
      "outputs": [],
      "source": []
    }
  ],
  "metadata": {
    "kernelspec": {
      "display_name": "Python 3",
      "language": "python",
      "name": "python3"
    },
    "language_info": {
      "codemirror_mode": {
        "name": "ipython",
        "version": 3
      },
      "file_extension": ".py",
      "mimetype": "text/x-python",
      "name": "python",
      "nbconvert_exporter": "python",
      "pygments_lexer": "ipython3",
      "version": "3.11.3"
    }
  },
  "nbformat": 4,
  "nbformat_minor": 0
}
