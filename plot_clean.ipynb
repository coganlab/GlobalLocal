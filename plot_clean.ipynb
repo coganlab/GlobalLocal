{
  "cells": [
    {
      "attachments": {},
      "cell_type": "markdown",
      "metadata": {},
      "source": [
        "\n",
        "# Example line noise filtering script\n",
        "\n",
        "Filters the 60Hz line noise from the data, as well as the harmonics. Includes\n",
        "environment checks for SLURM jobs for convenience\n"
      ]
    },
    {
      "cell_type": "code",
      "execution_count": 1,
      "metadata": {
        "collapsed": false
      },
      "outputs": [],
      "source": [
        "import mne\n",
        "import os\n",
        "from ieeg.io import raw_from_layout\n",
        "from ieeg.mt_filter import line_filter\n",
        "from ieeg import viz\n",
        "from bids import BIDSLayout"
      ]
    },
    {
      "cell_type": "code",
      "execution_count": 2,
      "metadata": {
        "collapsed": false
      },
      "outputs": [],
      "source": [
        "HOME = os.path.expanduser(\"~\")"
      ]
    },
    {
      "cell_type": "code",
      "execution_count": 3,
      "metadata": {
        "collapsed": false
      },
      "outputs": [],
      "source": [
        "if 'SLURM_ARRAY_TASK_ID' in os.environ.keys():\n",
        "    LAB_root = os.path.join(HOME, \"workspace\", \"CoganLab\")\n",
        "    subject = int(os.environ['SLURM_ARRAY_TASK_ID'])\n",
        "else:  # if not then set box directory\n",
        "    LAB_root = os.path.join(HOME, \"Box\", \"CoganLab\")\n",
        "    subject = 5"
      ]
    },
    {
      "cell_type": "code",
      "execution_count": null,
      "metadata": {
        "collapsed": false
      },
      "outputs": [],
      "source": [
        "bids_root = mne.datasets.epilepsy_ecog.data_path()\n",
        "# sample_path = mne.datasets.sample.data_path()\n",
        "layout = BIDSLayout(bids_root)\n",
        "raw = raw_from_layout(layout, subject=\"pt1\", preload=True,\n",
        "                      extension=\".vhdr\")"
      ]
    },
    {
      "cell_type": "code",
      "execution_count": null,
      "metadata": {
        "collapsed": false
      },
      "outputs": [],
      "source": [
        "filt = line_filter(raw, mt_bandwidth=10., n_jobs=6,\n",
        "                   filter_length='700ms', verbose=10,\n",
        "                   freqs=[60], notch_widths=20)\n",
        "# filt2 = line_filter(filt, mt_bandwidth=10., n_jobs=-1,\n",
        "#                     filter_length='20s', verbose=10,\n",
        "#                     freqs=[60, 120, 180, 240], notch_widths=20)"
      ]
    },
    {
      "cell_type": "code",
      "execution_count": null,
      "metadata": {
        "collapsed": false
      },
      "outputs": [],
      "source": [
        "data = [raw, filt]\n",
        "viz.utils.figure_compare(data, [\"Un\", \"\"], avg=True, n_jobs=6,\n",
        "                   verbose=10, proj=True, fmax=250)"
      ]
    },
    {
      "attachments": {},
      "cell_type": "markdown",
      "metadata": {},
      "source": [
        "<img src=\"file://../../examples/unfilt.png\" width=\"400\" alt=\"Unfiltered\">\n",
        "\n",
        "\n"
      ]
    },
    {
      "attachments": {},
      "cell_type": "markdown",
      "metadata": {},
      "source": [
        "<img src=\"file://../../examples/filt.png\" width=\"400\" alt=\"Filtered\">\n",
        "\n",
        "\n"
      ]
    },
    {
      "attachments": {},
      "cell_type": "markdown",
      "metadata": {},
      "source": [
        "save_derivative(filt2, layout, \"clean\")\n",
        "\n"
      ]
    }
  ],
  "metadata": {
    "kernelspec": {
      "display_name": "Python 3",
      "language": "python",
      "name": "python3"
    },
    "language_info": {
      "codemirror_mode": {
        "name": "ipython",
        "version": 3
      },
      "file_extension": ".py",
      "mimetype": "text/x-python",
      "name": "python",
      "nbconvert_exporter": "python",
      "pygments_lexer": "ipython3",
      "version": "3.11.3"
    }
  },
  "nbformat": 4,
  "nbformat_minor": 0
}
