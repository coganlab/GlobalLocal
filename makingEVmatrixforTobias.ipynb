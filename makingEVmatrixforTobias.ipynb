{
 "cells": [
  {
   "cell_type": "code",
   "execution_count": 4,
   "metadata": {},
   "outputs": [
    {
     "data": {
      "text/plain": [
       "{'SF01': {'Run 1': ['B', 'A'],\n",
       "  'Run 2': ['D', 'C'],\n",
       "  'Run 3': ['C', 'D'],\n",
       "  'Run 4': ['B', 'A']},\n",
       " 'SF02': {'Run 1': ['A', 'B'],\n",
       "  'Run 2': ['D', 'C'],\n",
       "  'Run 3': ['D', 'A'],\n",
       "  'Run 4': ['C', 'B']},\n",
       " 'SF03': {'Run 1': ['B', 'C'],\n",
       "  'Run 2': ['A', 'D'],\n",
       "  'Run 3': ['C', 'D'],\n",
       "  'Run 4': ['B', 'A']},\n",
       " 'SF04': {'Run 1': ['B', 'C'],\n",
       "  'Run 2': ['A', 'D'],\n",
       "  'Run 3': ['D', 'A'],\n",
       "  'Run 4': ['C', 'B']},\n",
       " 'SF05': {'Run 1': ['C', 'D'],\n",
       "  'Run 2': ['B', 'A'],\n",
       "  'Run 3': ['D', 'A'],\n",
       "  'Run 4': ['C', 'B']},\n",
       " 'SF06': {'Run 1': ['A', 'B'],\n",
       "  'Run 2': ['D', 'C'],\n",
       "  'Run 3': ['B', 'C'],\n",
       "  'Run 4': ['A', 'D']},\n",
       " 'SF07': {'Run 1': ['A', 'B'],\n",
       "  'Run 2': ['D', 'C'],\n",
       "  'Run 3': ['C', 'D'],\n",
       "  'Run 4': ['B', 'A']},\n",
       " 'SF08': {'Run 1': ['A', 'B'],\n",
       "  'Run 2': ['D', 'C'],\n",
       "  'Run 3': ['D', 'A'],\n",
       "  'Run 4': ['C', 'B']},\n",
       " 'SF09': {'Run 1': ['B', 'C'],\n",
       "  'Run 2': ['A', 'D'],\n",
       "  'Run 3': ['C', 'D'],\n",
       "  'Run 4': ['B', 'A']},\n",
       " 'SF10': {'Run 1': ['B', 'C'],\n",
       "  'Run 2': ['A', 'D'],\n",
       "  'Run 3': ['D', 'A'],\n",
       "  'Run 4': ['C', 'B']},\n",
       " 'SF11': {'Run 1': ['C', 'D'],\n",
       "  'Run 2': ['B', 'A'],\n",
       "  'Run 3': ['D', 'A'],\n",
       "  'Run 4': ['C', 'B']},\n",
       " 'SF12': {'Run 1': ['A', 'B'],\n",
       "  'Run 2': ['D', 'C'],\n",
       "  'Run 3': ['B', 'C'],\n",
       "  'Run 4': ['A', 'D']},\n",
       " 'SF13': {'Run 1': ['A', 'B'],\n",
       "  'Run 2': ['D', 'C'],\n",
       "  'Run 3': ['C', 'D'],\n",
       "  'Run 4': ['B', 'A']},\n",
       " 'SF14': {'Run 1': ['A', 'B'],\n",
       "  'Run 2': ['D', 'C'],\n",
       "  'Run 3': ['D', 'A'],\n",
       "  'Run 4': ['C', 'B']},\n",
       " 'SF15': {'Run 1': ['B', 'C'],\n",
       "  'Run 2': ['A', 'D'],\n",
       "  'Run 3': ['C', 'D'],\n",
       "  'Run 4': ['B', 'A']},\n",
       " 'SF16': {'Run 1': ['B', 'C'],\n",
       "  'Run 2': ['A', 'D'],\n",
       "  'Run 3': ['D', 'A'],\n",
       "  'Run 4': ['C', 'B']},\n",
       " 'SF17': {'Run 1': ['C', 'D'],\n",
       "  'Run 2': ['B', 'A'],\n",
       "  'Run 3': ['D', 'A'],\n",
       "  'Run 4': ['C', 'B']},\n",
       " 'SF18': {'Run 1': ['A', 'B'],\n",
       "  'Run 2': ['D', 'C'],\n",
       "  'Run 3': ['A', 'B'],\n",
       "  'Run 4': ['A', 'D']},\n",
       " 'SF19': {'Run 1': ['A', 'B'],\n",
       "  'Run 2': ['D', 'C'],\n",
       "  'Run 3': ['C', 'D'],\n",
       "  'Run 4': ['B', 'A']},\n",
       " 'SF20': {'Run 1': ['A', 'B'],\n",
       "  'Run 2': ['D', 'C'],\n",
       "  'Run 3': ['D', 'A'],\n",
       "  'Run 4': ['C', 'B']}}"
      ]
     },
     "execution_count": 4,
     "metadata": {},
     "output_type": "execute_result"
    }
   ],
   "source": [
    "import os\n",
    "\n",
    "def parse_block_file(file_path):\n",
    "    \"\"\"\n",
    "    Parse the file to extract a mapping of participant runs to blocks.\n",
    "    \"\"\"\n",
    "    with open(file_path, 'r') as file:\n",
    "        lines = file.readlines()\n",
    "\n",
    "    # Dictionary to hold the mapping\n",
    "    mapping = {}\n",
    "\n",
    "    participant_id = None\n",
    "    for line in lines:\n",
    "        line = line.strip()\n",
    "        if not line:\n",
    "            continue\n",
    "        if line.startswith(\"SF\"):\n",
    "            participant_id = line\n",
    "            mapping[participant_id] = {}\n",
    "        elif line.startswith(\"Run\"):\n",
    "            run_parts = line.split(\":\")\n",
    "            run_id = run_parts[0].strip()\n",
    "            blocks = run_parts[1].strip().split(',')\n",
    "            mapping[participant_id][run_id] = [block.strip() for block in blocks]\n",
    "\n",
    "    return mapping\n",
    "\n",
    "# Get the mapping from the file\n",
    "run_to_block_mapping = parse_block_file(\"Z:\\Lab\\StabFlex\\Data\\WhatBlocksAreWhichRuns.txt\")\n",
    "run_to_block_mapping"
   ]
  },
  {
   "cell_type": "code",
   "execution_count": 5,
   "metadata": {},
   "outputs": [
    {
     "data": {
      "text/plain": [
       "'A'"
      ]
     },
     "execution_count": 5,
     "metadata": {},
     "output_type": "execute_result"
    }
   ],
   "source": [
    "def get_block_for_run(participant_id, run_id):\n",
    "    \"\"\"\n",
    "    Get the block for a given run using the extracted mapping.\n",
    "    \"\"\"\n",
    "    # Extract the block from the mapping\n",
    "    blocks_for_run = run_to_block_mapping.get(participant_id, {}).get(run_id, [])\n",
    "\n",
    "    # For the current implementation, we'll assume that only the first block is relevant for the EV.\n",
    "    # If this is not the case, modifications can be made.\n",
    "    return blocks_for_run[0] if blocks_for_run else None\n",
    "\n",
    "# Test the function\n",
    "test_participant_id = \"SF02\"\n",
    "test_run_id = \"Run 1\"\n",
    "get_block_for_run(test_participant_id, test_run_id)"
   ]
  },
  {
   "cell_type": "code",
   "execution_count": 38,
   "metadata": {},
   "outputs": [
    {
     "data": {
      "text/plain": [
       "'c25r75'"
      ]
     },
     "execution_count": 38,
     "metadata": {},
     "output_type": "execute_result"
    }
   ],
   "source": [
    "def get_ev_for_input(input_path):\n",
    "    \"\"\"\n",
    "    Determine the EV for a given input path.\n",
    "    \"\"\"\n",
    "    # Extract relevant identifiers from the input path\n",
    "    base_name = os.path.basename(input_path)\n",
    "    parts = os.path.dirname(input_path).split('/')\n",
    "    \n",
    "    # Extract participant_id and run_id based on the updated rules\n",
    "    partial_id = parts[-2].split('_')\n",
    "    participant_id = partial_id[0]\n",
    "    run_id = \"Run \" + partial_id[2][0]\n",
    "    \n",
    "    cope_num = int(base_name.split('.')[0][4:])  # Extracting the number from copeX\n",
    "    \n",
    "    # Determine the block for this run\n",
    "    block = get_block_for_run(participant_id, run_id)\n",
    "    if not block:\n",
    "        return None  # Return None if block info is not found\n",
    "\n",
    "    # Determine the congruency and switch/repeat based on the cope number\n",
    "    cope_to_info = {\n",
    "        1: (\"i\", \"s\", 0),\n",
    "        2: (\"i\", \"s\", 1),\n",
    "        3: (\"i\", \"r\", 0),\n",
    "        4: (\"i\", \"r\", 1),\n",
    "        5: (\"c\", \"s\", 0),\n",
    "        6: (\"c\", \"s\", 1),\n",
    "        7: (\"c\", \"r\", 0),\n",
    "        8: (\"c\", \"r\", 1),\n",
    "    }\n",
    "    \n",
    "    congruency, switch_or_repeat, block_idx = cope_to_info[cope_num]\n",
    "\n",
    "    # Map block letter to congruency and switch proportions\n",
    "    block_to_info = {\n",
    "        \"A\": (\"25\", \"25\"),\n",
    "        \"B\": (\"25\", \"75\"),\n",
    "        \"C\": (\"75\", \"25\"),\n",
    "        \"D\": (\"75\", \"75\"),\n",
    "    }\n",
    "    \n",
    "    # Ensure the block value is valid before accessing the dictionary\n",
    "    congruency_prop, switch_prop = block_to_info.get(block, (None, None))\n",
    "    if not congruency_prop or not switch_prop:\n",
    "        return None\n",
    "\n",
    "    # Construct the EV identifier using the extracted information\n",
    "    # Note: For block 2 (block_idx = 1), we use the opposite block's info\n",
    "    if block_idx == 1:\n",
    "        opposite_block = {\"A\": \"B\", \"B\": \"A\", \"C\": \"D\", \"D\": \"C\"}\n",
    "        congruency_prop, switch_prop = block_to_info[opposite_block[block]]\n",
    "\n",
    "    ev = f\"{congruency}{congruency_prop}{switch_or_repeat}{switch_prop}\"\n",
    "\n",
    "    return ev\n",
    "\n",
    "# Testing the updated extraction logic\n",
    "test_input_path = \"/mnt/munin2/Egner/Lab/StabFlex/Analysis/Univariate/SF02/SF02_RUN_1/SF02_RUN_1.feat/stats/cope8.nii.gz\"\n",
    "ev_for_test_input = get_ev_for_input(test_input_path)\n",
    "ev_for_test_input\n"
   ]
  },
  {
   "cell_type": "code",
   "execution_count": 39,
   "metadata": {},
   "outputs": [
    {
     "data": {
      "text/plain": [
       "'i25s25'"
      ]
     },
     "execution_count": 39,
     "metadata": {},
     "output_type": "execute_result"
    }
   ],
   "source": [
    "get_ev_for_input(\"/mnt/munin2/Egner/Lab/StabFlex/Analysis/Univariate/SF02/SF02_RUN_1/SF02_RUN_1.feat/stats/cope1.nii.gz\")"
   ]
  },
  {
   "cell_type": "code",
   "execution_count": 41,
   "metadata": {},
   "outputs": [
    {
     "data": {
      "text/plain": [
       "[[1, 0, 0, 0, 0, 0, 0, 0, 0, 0, 0, 0, 0, 0, 0, 0],\n",
       " [0, 1, 0, 0, 0, 0, 0, 0, 0, 0, 0, 0, 0, 0, 0, 0]]"
      ]
     },
     "execution_count": 41,
     "metadata": {},
     "output_type": "execute_result"
    }
   ],
   "source": [
    "def generate_ev_matrix(input_paths):\n",
    "    \"\"\"\n",
    "    Generate the EV matrix for a list of input paths.\n",
    "    \"\"\"\n",
    "    # Define all possible EVs\n",
    "    evs = [\"i25s25\", \"i25s75\", \"i75s25\", \"i75s75\", \"i25r25\", \"i25r75\", \"i75r25\", \"i75r75\", \"c25s25\", \"c25s75\", \"c75s25\", \"c75s75\", \"c25r25\", \"c25r75\", \"c75r25\", \"c75r75\"]\n",
    "\n",
    "    # Initialize matrix\n",
    "    matrix = []\n",
    "\n",
    "    for input_path in input_paths:\n",
    "        ev_for_input = get_ev_for_input(input_path)\n",
    "        row = [1 if ev == ev_for_input else 0 for ev in evs]\n",
    "        matrix.append(row)\n",
    "\n",
    "    return matrix\n",
    "\n",
    "# Example usage (using a single path for demonstration):\n",
    "input_paths = [\"/mnt/munin2/Egner/Lab/StabFlex/Analysis/Univariate/SF02/SF02_RUN_1/SF02_RUN_1.feat/stats/cope1.nii.gz\", \"/mnt/munin2/Egner/Lab/StabFlex/Analysis/Univariate/SF02/SF02_RUN_1/SF02_RUN_1.feat/stats/cope2.nii.gz\"]\n",
    "ev_matrix = generate_ev_matrix(input_paths)\n",
    "ev_matrix\n"
   ]
  },
  {
   "cell_type": "code",
   "execution_count": null,
   "metadata": {},
   "outputs": [],
   "source": []
  }
 ],
 "metadata": {
  "kernelspec": {
   "display_name": "ieeg",
   "language": "python",
   "name": "python3"
  },
  "language_info": {
   "codemirror_mode": {
    "name": "ipython",
    "version": 3
   },
   "file_extension": ".py",
   "mimetype": "text/x-python",
   "name": "python",
   "nbconvert_exporter": "python",
   "pygments_lexer": "ipython3",
   "version": "3.11.3"
  },
  "orig_nbformat": 4
 },
 "nbformat": 4,
 "nbformat_minor": 2
}
