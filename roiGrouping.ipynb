{
 "cells": [
  {
   "cell_type": "code",
   "execution_count": 2,
   "metadata": {},
   "outputs": [
    {
     "name": "stdout",
     "output_type": "stream",
     "text": [
      "['c:\\\\Users\\\\jz421\\\\Desktop\\\\GlobalLocal', 'C:\\\\Users\\\\jz421\\\\Desktop\\\\GlobalLocal\\\\IEEG_Pipelines', 'c:\\\\Users\\\\jz421\\\\AppData\\\\Local\\\\anaconda3\\\\envs\\\\ieeg\\\\python311.zip', 'c:\\\\Users\\\\jz421\\\\AppData\\\\Local\\\\anaconda3\\\\envs\\\\ieeg\\\\DLLs', 'c:\\\\Users\\\\jz421\\\\AppData\\\\Local\\\\anaconda3\\\\envs\\\\ieeg\\\\Lib', 'c:\\\\Users\\\\jz421\\\\AppData\\\\Local\\\\anaconda3\\\\envs\\\\ieeg', '', 'C:\\\\Users\\\\jz421\\\\AppData\\\\Roaming\\\\Python\\\\Python311\\\\site-packages', 'C:\\\\Users\\\\jz421\\\\AppData\\\\Roaming\\\\Python\\\\Python311\\\\site-packages\\\\win32', 'C:\\\\Users\\\\jz421\\\\AppData\\\\Roaming\\\\Python\\\\Python311\\\\site-packages\\\\win32\\\\lib', 'C:\\\\Users\\\\jz421\\\\AppData\\\\Roaming\\\\Python\\\\Python311\\\\site-packages\\\\Pythonwin', 'c:\\\\Users\\\\jz421\\\\AppData\\\\Local\\\\anaconda3\\\\envs\\\\ieeg\\\\Lib\\\\site-packages', 'c:\\\\Users\\\\jz421\\\\AppData\\\\Local\\\\anaconda3\\\\envs\\\\ieeg\\\\Lib\\\\site-packages\\\\win32', 'c:\\\\Users\\\\jz421\\\\AppData\\\\Local\\\\anaconda3\\\\envs\\\\ieeg\\\\Lib\\\\site-packages\\\\win32\\\\lib', 'c:\\\\Users\\\\jz421\\\\AppData\\\\Local\\\\anaconda3\\\\envs\\\\ieeg\\\\Lib\\\\site-packages\\\\Pythonwin']\n"
     ]
    },
    {
     "name": "stderr",
     "output_type": "stream",
     "text": [
      "c:\\Users\\jz421\\AppData\\Local\\anaconda3\\envs\\ieeg\\Lib\\site-packages\\tqdm\\auto.py:21: TqdmWarning: IProgress not found. Please update jupyter and ipywidgets. See https://ipywidgets.readthedocs.io/en/stable/user_install.html\n",
      "  from .autonotebook import tqdm as notebook_tqdm\n"
     ]
    }
   ],
   "source": [
    "import sys\n",
    "print(sys.path)\n",
    "sys.path.append(\"C:/Users/jz421/Desktop/GlobalLocal/IEEG_Pipelines/\") #need to do this cuz otherwise ieeg isn't added to path...\n",
    "\n",
    "from ieeg.navigate import channel_outlier_marker, trial_ieeg, crop_empty_data, \\\n",
    "    outliers_to_nan\n",
    "from ieeg.io import raw_from_layout, get_data\n",
    "from ieeg.timefreq.utils import crop_pad\n",
    "from ieeg.timefreq import gamma\n",
    "from ieeg.calc.scaling import rescale\n",
    "import mne\n",
    "import os\n",
    "import numpy as np\n",
    "from ieeg.calc.reshape import make_data_same\n",
    "from ieeg.calc.stats import time_perm_cluster\n",
    "from ieeg.viz.mri import gen_labels\n",
    "\n",
    "from misc_functions import calculate_RTs, save_channels_to_file, save_sig_chans, load_sig_chans\n",
    "import matplotlib.pyplot as plt"
   ]
  },
  {
   "cell_type": "code",
   "execution_count": 7,
   "metadata": {},
   "outputs": [
    {
     "name": "stdout",
     "output_type": "stream",
     "text": [
      "Extracting EDF parameters from C:\\Users\\jz421\\Box\\CoganLab\\BIDS-1.1_GlobalLocal\\BIDS\\derivatives\\clean\\sub-D0057\\ieeg\\sub-D0057_task-GlobalLocal_acq-01_run-01_desc-clean_ieeg.edf...\n",
      "EDF file detected\n",
      "Setting channel info structure...\n",
      "Creating raw.info structure...\n",
      "Reading events from C:\\Users\\jz421\\Box\\CoganLab\\BIDS-1.1_GlobalLocal\\BIDS\\derivatives\\clean\\sub-D0057\\ieeg\\sub-D0057_task-GlobalLocal_acq-01_run-01_desc-clean_events.tsv.\n",
      "Reading channel info from C:\\Users\\jz421\\Box\\CoganLab\\BIDS-1.1_GlobalLocal\\BIDS\\derivatives\\clean\\sub-D0057\\ieeg\\sub-D0057_task-GlobalLocal_acq-01_run-01_desc-clean_channels.tsv.\n"
     ]
    },
    {
     "name": "stderr",
     "output_type": "stream",
     "text": [
      "C:\\Users\\jz421\\Desktop\\GlobalLocal\\IEEG_Pipelines\\ieeg\\io.py:113: RuntimeWarning: The number of channels in the channels.tsv sidecar file (179) does not match the number of channels in the raw data file (178). Will not try to set channel names.\n",
      "  new_raw = read_raw_bids(bids_path=BIDS_path, verbose=verbose)\n",
      "C:\\Users\\jz421\\Desktop\\GlobalLocal\\IEEG_Pipelines\\ieeg\\io.py:113: RuntimeWarning: Cannot set channel type for the following channels, as they are missing in the raw data: Trigger\n",
      "  new_raw = read_raw_bids(bids_path=BIDS_path, verbose=verbose)\n"
     ]
    },
    {
     "name": "stdout",
     "output_type": "stream",
     "text": [
      "Reading electrode coords from C:\\Users\\jz421\\Box\\CoganLab\\BIDS-1.1_GlobalLocal\\BIDS\\derivatives\\clean\\sub-D0057\\ieeg\\sub-D0057_acq-01_space-ACPC_electrodes.tsv.\n",
      "Extracting EDF parameters from C:\\Users\\jz421\\Box\\CoganLab\\BIDS-1.1_GlobalLocal\\BIDS\\derivatives\\clean\\sub-D0057\\ieeg\\sub-D0057_task-GlobalLocal_acq-01_run-02_desc-clean_ieeg.edf...\n",
      "EDF file detected\n",
      "Setting channel info structure...\n",
      "Creating raw.info structure...\n",
      "Reading events from C:\\Users\\jz421\\Box\\CoganLab\\BIDS-1.1_GlobalLocal\\BIDS\\derivatives\\clean\\sub-D0057\\ieeg\\sub-D0057_task-GlobalLocal_acq-01_run-02_desc-clean_events.tsv.\n"
     ]
    },
    {
     "name": "stderr",
     "output_type": "stream",
     "text": [
      "C:\\Users\\jz421\\Desktop\\GlobalLocal\\IEEG_Pipelines\\ieeg\\io.py:113: RuntimeWarning: Omitted 228 annotation(s) that were outside data range.\n",
      "  new_raw = read_raw_bids(bids_path=BIDS_path, verbose=verbose)\n"
     ]
    },
    {
     "name": "stdout",
     "output_type": "stream",
     "text": [
      "Reading channel info from C:\\Users\\jz421\\Box\\CoganLab\\BIDS-1.1_GlobalLocal\\BIDS\\derivatives\\clean\\sub-D0057\\ieeg\\sub-D0057_task-GlobalLocal_acq-01_run-02_desc-clean_channels.tsv.\n",
      "Reading electrode coords from C:\\Users\\jz421\\Box\\CoganLab\\BIDS-1.1_GlobalLocal\\BIDS\\derivatives\\clean\\sub-D0057\\ieeg\\sub-D0057_acq-01_space-ACPC_electrodes.tsv.\n"
     ]
    },
    {
     "name": "stderr",
     "output_type": "stream",
     "text": [
      "C:\\Users\\jz421\\Desktop\\GlobalLocal\\IEEG_Pipelines\\ieeg\\io.py:113: RuntimeWarning: The number of channels in the channels.tsv sidecar file (179) does not match the number of channels in the raw data file (178). Will not try to set channel names.\n",
      "  new_raw = read_raw_bids(bids_path=BIDS_path, verbose=verbose)\n",
      "C:\\Users\\jz421\\Desktop\\GlobalLocal\\IEEG_Pipelines\\ieeg\\io.py:113: RuntimeWarning: Cannot set channel type for the following channels, as they are missing in the raw data: Trigger\n",
      "  new_raw = read_raw_bids(bids_path=BIDS_path, verbose=verbose)\n"
     ]
    },
    {
     "name": "stdout",
     "output_type": "stream",
     "text": [
      "Extracting EDF parameters from C:\\Users\\jz421\\Box\\CoganLab\\BIDS-1.1_GlobalLocal\\BIDS\\derivatives\\clean\\sub-D0057\\ieeg\\sub-D0057_task-GlobalLocal_acq-01_run-03_desc-clean_ieeg.edf...\n",
      "EDF file detected\n",
      "Setting channel info structure...\n",
      "Creating raw.info structure...\n",
      "Reading events from C:\\Users\\jz421\\Box\\CoganLab\\BIDS-1.1_GlobalLocal\\BIDS\\derivatives\\clean\\sub-D0057\\ieeg\\sub-D0057_task-GlobalLocal_acq-01_run-03_desc-clean_events.tsv.\n",
      "Reading channel info from C:\\Users\\jz421\\Box\\CoganLab\\BIDS-1.1_GlobalLocal\\BIDS\\derivatives\\clean\\sub-D0057\\ieeg\\sub-D0057_task-GlobalLocal_acq-01_run-03_desc-clean_channels.tsv.\n"
     ]
    },
    {
     "name": "stderr",
     "output_type": "stream",
     "text": [
      "C:\\Users\\jz421\\Desktop\\GlobalLocal\\IEEG_Pipelines\\ieeg\\io.py:113: RuntimeWarning: Omitted 228 annotation(s) that were outside data range.\n",
      "  new_raw = read_raw_bids(bids_path=BIDS_path, verbose=verbose)\n"
     ]
    },
    {
     "name": "stdout",
     "output_type": "stream",
     "text": [
      "Reading electrode coords from C:\\Users\\jz421\\Box\\CoganLab\\BIDS-1.1_GlobalLocal\\BIDS\\derivatives\\clean\\sub-D0057\\ieeg\\sub-D0057_acq-01_space-ACPC_electrodes.tsv.\n"
     ]
    },
    {
     "name": "stderr",
     "output_type": "stream",
     "text": [
      "C:\\Users\\jz421\\Desktop\\GlobalLocal\\IEEG_Pipelines\\ieeg\\io.py:113: RuntimeWarning: The number of channels in the channels.tsv sidecar file (179) does not match the number of channels in the raw data file (178). Will not try to set channel names.\n",
      "  new_raw = read_raw_bids(bids_path=BIDS_path, verbose=verbose)\n",
      "C:\\Users\\jz421\\Desktop\\GlobalLocal\\IEEG_Pipelines\\ieeg\\io.py:113: RuntimeWarning: Cannot set channel type for the following channels, as they are missing in the raw data: Trigger\n",
      "  new_raw = read_raw_bids(bids_path=BIDS_path, verbose=verbose)\n"
     ]
    },
    {
     "name": "stdout",
     "output_type": "stream",
     "text": [
      "Extracting EDF parameters from C:\\Users\\jz421\\Box\\CoganLab\\BIDS-1.1_GlobalLocal\\BIDS\\derivatives\\clean\\sub-D0057\\ieeg\\sub-D0057_task-GlobalLocal_acq-01_run-04_desc-clean_ieeg.edf...\n",
      "EDF file detected\n",
      "Setting channel info structure...\n",
      "Creating raw.info structure...\n",
      "Reading events from C:\\Users\\jz421\\Box\\CoganLab\\BIDS-1.1_GlobalLocal\\BIDS\\derivatives\\clean\\sub-D0057\\ieeg\\sub-D0057_task-GlobalLocal_acq-01_run-04_desc-clean_events.tsv.\n"
     ]
    },
    {
     "name": "stderr",
     "output_type": "stream",
     "text": [
      "C:\\Users\\jz421\\Desktop\\GlobalLocal\\IEEG_Pipelines\\ieeg\\io.py:113: RuntimeWarning: Omitted 226 annotation(s) that were outside data range.\n",
      "  new_raw = read_raw_bids(bids_path=BIDS_path, verbose=verbose)\n"
     ]
    },
    {
     "name": "stdout",
     "output_type": "stream",
     "text": [
      "Reading channel info from C:\\Users\\jz421\\Box\\CoganLab\\BIDS-1.1_GlobalLocal\\BIDS\\derivatives\\clean\\sub-D0057\\ieeg\\sub-D0057_task-GlobalLocal_acq-01_run-04_desc-clean_channels.tsv.\n"
     ]
    },
    {
     "name": "stderr",
     "output_type": "stream",
     "text": [
      "C:\\Users\\jz421\\Desktop\\GlobalLocal\\IEEG_Pipelines\\ieeg\\io.py:113: RuntimeWarning: The number of channels in the channels.tsv sidecar file (179) does not match the number of channels in the raw data file (178). Will not try to set channel names.\n",
      "  new_raw = read_raw_bids(bids_path=BIDS_path, verbose=verbose)\n",
      "C:\\Users\\jz421\\Desktop\\GlobalLocal\\IEEG_Pipelines\\ieeg\\io.py:113: RuntimeWarning: Cannot set channel type for the following channels, as they are missing in the raw data: Trigger\n",
      "  new_raw = read_raw_bids(bids_path=BIDS_path, verbose=verbose)\n"
     ]
    },
    {
     "name": "stdout",
     "output_type": "stream",
     "text": [
      "Reading electrode coords from C:\\Users\\jz421\\Box\\CoganLab\\BIDS-1.1_GlobalLocal\\BIDS\\derivatives\\clean\\sub-D0057\\ieeg\\sub-D0057_acq-01_space-ACPC_electrodes.tsv.\n",
      "good channels before dropping bads: 178\n",
      "filt channels before dropping bads: 178\n",
      "outlier round 1 channels: ['RAMT8']\n",
      "outlier round 2 channels: ['RAMT8', 'RPI16']\n",
      "outlier round 2 channels: ['RAMT8', 'RPI16', 'LAMT12']\n",
      "Bad channels in 'good': ['RAMT8', 'RPI16', 'LAMT12']\n",
      "Bad channels in 'good' after dropping once: []\n",
      "good channels after dropping bads: 175\n",
      "filt channels after dropping bads: 175\n",
      "Reading 0 ... 5983997  =      0.000 ...  2921.874 secs...\n",
      "Applying average reference.\n",
      "Applying a custom ('sEEG',) reference.\n"
     ]
    },
    {
     "data": {
      "text/html": [
       "<table class=\"table table-hover table-striped table-sm table-responsive small\">\n",
       "    <tr>\n",
       "        <th>Measurement date</th>\n",
       "        \n",
       "        <td>July 03, 2023  12:31:29 GMT</td>\n",
       "        \n",
       "    </tr>\n",
       "    <tr>\n",
       "        <th>Experimenter</th>\n",
       "        \n",
       "        <td>mne_anonymize</td>\n",
       "        \n",
       "    </tr>\n",
       "        <th>Participant</th>\n",
       "        \n",
       "            \n",
       "            <td>sub-D0057</td>\n",
       "            \n",
       "        \n",
       "    </tr>\n",
       "    <tr>\n",
       "        <th>Digitized points</th>\n",
       "        \n",
       "        <td>178 points</td>\n",
       "        \n",
       "    </tr>\n",
       "    <tr>\n",
       "        <th>Good channels</th>\n",
       "        <td>175 sEEG</td>\n",
       "    </tr>\n",
       "    <tr>\n",
       "        <th>Bad channels</th>\n",
       "        <td>None</td>\n",
       "    </tr>\n",
       "    <tr>\n",
       "        <th>EOG channels</th>\n",
       "        <td>Not available</td>\n",
       "    </tr>\n",
       "    <tr>\n",
       "        <th>ECG channels</th>\n",
       "        <td>Not available</td>\n",
       "    \n",
       "    <tr>\n",
       "        <th>Sampling frequency</th>\n",
       "        <td>2048.00 Hz</td>\n",
       "    </tr>\n",
       "    \n",
       "    \n",
       "    <tr>\n",
       "        <th>Highpass</th>\n",
       "        <td>0.00 Hz</td>\n",
       "    </tr>\n",
       "    \n",
       "    \n",
       "    <tr>\n",
       "        <th>Lowpass</th>\n",
       "        <td>1024.00 Hz</td>\n",
       "    </tr>\n",
       "    \n",
       "    \n",
       "    \n",
       "    <tr>\n",
       "        <th>Filenames</th>\n",
       "        <td>sub-D0057_task-GlobalLocal_acq-01_run-01_desc-clean_ieeg.edf&lt;br&gt;sub-D0057_task-GlobalLocal_acq-01_run-01_desc-clean_ieeg.edf&lt;br&gt;sub-D0057_task-GlobalLocal_acq-01_run-02_desc-clean_ieeg.edf&lt;br&gt;sub-D0057_task-GlobalLocal_acq-01_run-03_desc-clean_ieeg.edf&lt;br&gt;sub-D0057_task-GlobalLocal_acq-01_run-04_desc-clean_ieeg.edf</td>\n",
       "    </tr>\n",
       "    \n",
       "    <tr>\n",
       "        <th>Duration</th>\n",
       "        <td>00:48:42 (HH:MM:SS)</td>\n",
       "    </tr>\n",
       "</table>"
      ],
      "text/plain": [
       "<RawEDF | sub-D0057_task-GlobalLocal_acq-01_run-01_desc-clean_ieeg.edf, 175 x 5983998 (2921.9 s), ~7.80 GB, data loaded>"
      ]
     },
     "execution_count": 7,
     "metadata": {},
     "output_type": "execute_result"
    }
   ],
   "source": [
    "sub = 'D0057'\n",
    "task = 'GlobalLocal'\n",
    "output_name = \"Response_fixationCrossBase_1sec_mirror\"\n",
    "events = [\"Response\"]\n",
    "times = (-1,1.5)\n",
    "base_times = [-1,0]\n",
    "LAB_root = None\n",
    "channels = None\n",
    "full_trial_base = False\n",
    "\n",
    "if LAB_root is None:\n",
    "    HOME = os.path.expanduser(\"~\")\n",
    "    if os.name == 'nt':  # windows\n",
    "        LAB_root = os.path.join(HOME, \"Box\", \"CoganLab\")\n",
    "    else:  # mac\n",
    "        LAB_root = os.path.join(HOME, \"Library\", \"CloudStorage\", \"Box-Box\",\n",
    "                                \"CoganLab\")\n",
    "\n",
    "layout = get_data(task, root=LAB_root)\n",
    "filt = raw_from_layout(layout.derivatives['derivatives/clean'], subject=sub,\n",
    "                    extension='.edf', desc='clean', preload=False)\n",
    "save_dir = os.path.join(layout.root, 'derivatives', 'freqFilt', 'figs', sub)\n",
    "if not os.path.exists(save_dir):\n",
    "    os.makedirs(save_dir)\n",
    "\n",
    "good = crop_empty_data(filt)\n",
    "# %%\n",
    "\n",
    "print(f\"good channels before dropping bads: {len(good.ch_names)}\")\n",
    "print(f\"filt channels before dropping bads: {len(filt.ch_names)}\")\n",
    "\n",
    "good.info['bads'] = channel_outlier_marker(good, 3, 2)\n",
    "print(\"Bad channels in 'good':\", good.info['bads'])\n",
    "\n",
    "filt.drop_channels(good.info['bads'])  # this has to come first cuz if you drop from good first, then good.info['bads'] is just empty\n",
    "good.drop_channels(good.info['bads'])\n",
    "\n",
    "print(\"Bad channels in 'good' after dropping once:\", good.info['bads'])\n",
    "\n",
    "print(f\"good channels after dropping bads: {len(good.ch_names)}\")\n",
    "print(f\"filt channels after dropping bads: {len(filt.ch_names)}\")\n",
    "\n",
    "good.load_data()\n",
    "\n",
    "# If channels is None, use all channels\n",
    "if channels is None:\n",
    "    channels = good.ch_names\n",
    "else:\n",
    "    # Validate the provided channels\n",
    "    invalid_channels = [ch for ch in channels if ch not in good.ch_names]\n",
    "    if invalid_channels:\n",
    "        raise ValueError(\n",
    "            f\"The following channels are not valid: {invalid_channels}\")\n",
    "\n",
    "    # Use only the specified channels\n",
    "    good.pick_channels(channels)\n",
    "\n",
    "ch_type = filt.get_channel_types(only_data_chs=True)[0]\n",
    "good.set_eeg_reference(ref_channels=\"average\", ch_type=ch_type)"
   ]
  },
  {
   "cell_type": "code",
   "execution_count": 10,
   "metadata": {},
   "outputs": [],
   "source": [
    "test = gen_labels(good.info)"
   ]
  },
  {
   "cell_type": "code",
   "execution_count": 11,
   "metadata": {},
   "outputs": [
    {
     "data": {
      "text/plain": [
       "OrderedDict([('RAI1', 'ctx_rh_G_Ins_lg_and_S_cent_ins'),\n",
       "             ('RAI2', 'Right-Cerebral-White-Matter'),\n",
       "             ('RAI3', 'Right-Cerebral-White-Matter'),\n",
       "             ('RAI4', 'Right-Cerebral-White-Matter'),\n",
       "             ('RAI5', 'Right-Cerebral-White-Matter'),\n",
       "             ('RAI6', 'ctx_rh_S_circular_insula_sup'),\n",
       "             ('RAI7', 'Right-Cerebral-White-Matter'),\n",
       "             ('RAI8', 'Right-Cerebral-White-Matter'),\n",
       "             ('RAI9', 'Right-Cerebral-White-Matter'),\n",
       "             ('RAI10', 'Right-Cerebral-White-Matter'),\n",
       "             ('RAI11', 'Right-Cerebral-White-Matter'),\n",
       "             ('RAI12', 'ctx_rh_S_front_sup'),\n",
       "             ('RAI13', 'ctx_rh_S_front_sup'),\n",
       "             ('RAI14', 'Unknown'),\n",
       "             ('RAI15', 'ctx_rh_G_front_sup'),\n",
       "             ('RAI16', 'ctx_rh_G_front_sup'),\n",
       "             ('RPI1', 'Right-Cerebral-White-Matter'),\n",
       "             ('RPI2', 'Right-Cerebral-White-Matter'),\n",
       "             ('RPI3', 'Right-Cerebral-White-Matter'),\n",
       "             ('RPI4', 'Right-Cerebral-White-Matter'),\n",
       "             ('RPI5', 'Right-Cerebral-White-Matter'),\n",
       "             ('RPI6', 'Right-Cerebral-White-Matter'),\n",
       "             ('RPI7', 'Right-Cerebral-White-Matter'),\n",
       "             ('RPI8', 'Right-Cerebral-White-Matter'),\n",
       "             ('RPI9', 'Right-Cerebral-White-Matter'),\n",
       "             ('RPI10', 'Right-Cerebral-White-Matter'),\n",
       "             ('RPI11', 'Right-Cerebral-White-Matter'),\n",
       "             ('RPI12', 'ctx_rh_S_precentral-sup-part'),\n",
       "             ('RPI13', 'ctx_rh_S_precentral-sup-part'),\n",
       "             ('RPI14', 'ctx_rh_G_front_middle'),\n",
       "             ('RPI15', 'Unknown'),\n",
       "             ('RAIF1', 'ctx_rh_G_rectus'),\n",
       "             ('RAIF2', 'ctx_rh_S_orbital_med-olfact'),\n",
       "             ('RAIF3', 'ctx_rh_G_orbital'),\n",
       "             ('RAIF4', 'ctx_lh_G_rectus'),\n",
       "             ('RAIF5', 'ctx_rh_G_orbital'),\n",
       "             ('RAIF6', 'ctx_rh_S_orbital-H_Shaped'),\n",
       "             ('RAIF7', 'ctx_rh_S_orbital-H_Shaped'),\n",
       "             ('RAIF8', 'ctx_rh_S_orbital-H_Shaped'),\n",
       "             ('RAIF9', 'ctx_rh_G_orbital'),\n",
       "             ('RAIF10', 'ctx_rh_G_orbital'),\n",
       "             ('RAIF11', 'ctx_rh_G_front_inf-Orbital'),\n",
       "             ('RAIF12', 'ctx_rh_G_front_inf-Orbital'),\n",
       "             ('RAIF13', 'ctx_rh_G_front_inf-Triangul'),\n",
       "             ('RAIF14', 'ctx_rh_G_front_inf-Triangul'),\n",
       "             ('RAMF1', 'ctx_rh_G_and_S_cingul-Mid-Ant'),\n",
       "             ('RAMF2', 'Right-Cerebral-White-Matter'),\n",
       "             ('RAMF3', 'Right-Cerebral-White-Matter'),\n",
       "             ('RAMF4', 'Right-Cerebral-White-Matter'),\n",
       "             ('RAMF5', 'Right-Cerebral-White-Matter'),\n",
       "             ('RAMF6', 'Right-Cerebral-White-Matter'),\n",
       "             ('RAMF7', 'Right-Cerebral-White-Matter'),\n",
       "             ('RAMF8', 'Right-Cerebral-White-Matter'),\n",
       "             ('RAMF9', 'Right-Cerebral-White-Matter'),\n",
       "             ('RAMF10', 'ctx_rh_G_front_middle'),\n",
       "             ('RAMF11', 'ctx_rh_G_front_middle'),\n",
       "             ('RAMF12', 'ctx_rh_G_front_middle'),\n",
       "             ('RAMF13', 'Unknown'),\n",
       "             ('RAMF14', 'Unknown'),\n",
       "             ('RMMF1', 'ctx_rh_G_and_S_cingul-Mid-Post'),\n",
       "             ('RMMF2', 'ctx_rh_S_pericallosal'),\n",
       "             ('RMMF3', 'Right-Cerebral-White-Matter'),\n",
       "             ('RMMF4', 'Right-Cerebral-White-Matter'),\n",
       "             ('RMMF5', 'Right-Cerebral-White-Matter'),\n",
       "             ('RMMF6', 'Right-Cerebral-White-Matter'),\n",
       "             ('RMMF7', 'Right-Cerebral-White-Matter'),\n",
       "             ('RMMF8', 'Right-Cerebral-White-Matter'),\n",
       "             ('RMMF9', 'Right-Cerebral-White-Matter'),\n",
       "             ('RMMF10', 'Right-Cerebral-White-Matter'),\n",
       "             ('RMMF11', 'Right-Cerebral-White-Matter'),\n",
       "             ('RMMF12', 'ctx_rh_S_precentral-sup-part'),\n",
       "             ('RMMF13', 'Right-Cerebral-White-Matter'),\n",
       "             ('RMMF14', 'Right-Cerebral-White-Matter'),\n",
       "             ('RMMF15', 'ctx_rh_G_precentral'),\n",
       "             ('RMMF16', 'Unknown'),\n",
       "             ('RPIP1', 'Right-Cerebral-White-Matter'),\n",
       "             ('RPIP2', 'Right-Cerebral-White-Matter'),\n",
       "             ('RPIP3', 'Right-Cerebral-White-Matter'),\n",
       "             ('RPIP4', 'Right-Cerebral-White-Matter'),\n",
       "             ('RPIP5', 'Right-Cerebral-White-Matter'),\n",
       "             ('RPIP6', 'Right-Cerebral-White-Matter'),\n",
       "             ('RPIP7', 'Right-Cerebral-White-Matter'),\n",
       "             ('RPIP8', 'Right-Cerebral-White-Matter'),\n",
       "             ('RPIP9', 'Right-Cerebral-White-Matter'),\n",
       "             ('RPIP10', 'ctx_rh_S_temporal_sup'),\n",
       "             ('RPIP11', 'ctx_rh_G_pariet_inf-Supramar'),\n",
       "             ('RPIP12', 'ctx_rh_G_pariet_inf-Supramar'),\n",
       "             ('RPIP13', 'Unknown'),\n",
       "             ('RPIP14', 'ctx_rh_G_pariet_inf-Supramar'),\n",
       "             ('RAST1', 'Right-Cerebral-White-Matter'),\n",
       "             ('RAST2', 'ctx_rh_S_temporal_sup'),\n",
       "             ('RAST3', 'ctx_rh_S_temporal_sup'),\n",
       "             ('RAST4', 'Unknown'),\n",
       "             ('RAST5', 'ctx_rh_G_temp_sup-Lateral'),\n",
       "             ('RAST6', 'ctx_rh_G_temp_sup-Lateral'),\n",
       "             ('RAST7', 'ctx_rh_G_temp_sup-Lateral'),\n",
       "             ('RAST8', 'Unknown'),\n",
       "             ('RAIT1', 'ctx_rh_Pole_temporal'),\n",
       "             ('RAIT2', 'ctx_rh_Pole_temporal'),\n",
       "             ('RAIT3', 'ctx_rh_Pole_temporal'),\n",
       "             ('RAIT4', 'ctx_rh_Pole_temporal'),\n",
       "             ('RAIT5', 'Right-Cerebral-White-Matter'),\n",
       "             ('RAIT6', 'Right-Cerebral-White-Matter'),\n",
       "             ('RAIT7', 'Right-Cerebral-White-Matter'),\n",
       "             ('RAIT8', 'ctx_rh_G_temporal_middle'),\n",
       "             ('RAIT9', 'ctx_rh_G_temporal_middle'),\n",
       "             ('RAIT10', 'ctx_rh_G_temporal_middle'),\n",
       "             ('RAMT1', 'Right-Amygdala'),\n",
       "             ('RAMT2', 'Right-Amygdala'),\n",
       "             ('RAMT3', 'Right-Amygdala'),\n",
       "             ('RAMT4', 'Right-Cerebral-White-Matter'),\n",
       "             ('RAMT5', 'Right-Cerebral-White-Matter'),\n",
       "             ('RAMT6', 'Right-Cerebral-White-Matter'),\n",
       "             ('RAMT7', 'ctx_rh_S_temporal_sup'),\n",
       "             ('RAMT9', 'ctx_rh_G_temporal_middle'),\n",
       "             ('RAMT10', 'ctx_rh_S_temporal_sup'),\n",
       "             ('RAMT11', 'ctx_rh_G_temporal_middle'),\n",
       "             ('RAMT12', 'ctx_rh_G_temporal_middle'),\n",
       "             ('RMMT1', 'Right-Cerebral-White-Matter'),\n",
       "             ('RMMT2', 'Right-Hippocampus'),\n",
       "             ('RMMT3', 'Right-Cerebral-White-Matter'),\n",
       "             ('RMMT4', 'Right-Hippocampus'),\n",
       "             ('RMMT5', 'Right-Cerebral-White-Matter'),\n",
       "             ('RMMT6', 'Right-Cerebral-White-Matter'),\n",
       "             ('RMMT7', 'Right-Cerebral-White-Matter'),\n",
       "             ('RMMT8', 'Right-Cerebral-White-Matter'),\n",
       "             ('RMMT9', 'Right-Cerebral-White-Matter'),\n",
       "             ('RMMT10', 'Right-Cerebral-White-Matter'),\n",
       "             ('RMMT11', 'ctx_rh_G_temporal_middle'),\n",
       "             ('RMMT12', 'ctx_rh_G_temporal_middle'),\n",
       "             ('RPMT1', 'ctx_rh_G_oc-temp_med-Parahip'),\n",
       "             ('RPMT2', 'ctx_rh_S_oc-temp_med_and_Lingual'),\n",
       "             ('RPMT3', 'ctx_rh_S_oc-temp_med_and_Lingual'),\n",
       "             ('RPMT4', 'ctx_rh_S_oc-temp_med_and_Lingual'),\n",
       "             ('RPMT5', 'Right-Cerebral-White-Matter'),\n",
       "             ('RPMT6', 'ctx_rh_S_temporal_inf'),\n",
       "             ('RPMT7', 'ctx_rh_S_temporal_inf'),\n",
       "             ('RPMT8', 'ctx_rh_G_temporal_middle'),\n",
       "             ('RPMT9', 'ctx_rh_G_temporal_middle'),\n",
       "             ('RPMT10', 'ctx_rh_G_temporal_middle'),\n",
       "             ('RPIT1', 'ctx_rh_G_oc-temp_med-Lingual'),\n",
       "             ('RPIT2', 'Right-Cerebral-White-Matter'),\n",
       "             ('RPIT3', 'ctx_rh_S_oc-temp_med_and_Lingual'),\n",
       "             ('RPIT4', 'ctx_rh_S_oc-temp_med_and_Lingual'),\n",
       "             ('RPIT5', 'Right-Cerebral-White-Matter'),\n",
       "             ('RPIT6', 'Right-Cerebral-White-Matter'),\n",
       "             ('RPIT7', 'Right-Cerebral-White-Matter'),\n",
       "             ('RPIT8', 'Right-Cerebral-White-Matter'),\n",
       "             ('RPIT9', 'Right-Cerebral-White-Matter'),\n",
       "             ('RPIT10', 'Right-Cerebral-White-Matter'),\n",
       "             ('RPIT11', 'ctx_rh_G_temporal_middle'),\n",
       "             ('RPIT12', 'ctx_rh_G_temporal_middle'),\n",
       "             ('LAMT1', 'Left-Hippocampus'),\n",
       "             ('LAMT2', 'Left-Hippocampus'),\n",
       "             ('LAMT3', 'Left-Hippocampus'),\n",
       "             ('LAMT4', 'Left-Amygdala'),\n",
       "             ('LAMT5', 'Left-Amygdala'),\n",
       "             ('LAMT6', 'Left-Cerebral-White-Matter'),\n",
       "             ('LAMT7', 'Left-Cerebral-White-Matter'),\n",
       "             ('LAMT8', 'ctx_lh_S_temporal_inf'),\n",
       "             ('LAMT9', 'ctx_lh_S_temporal_inf'),\n",
       "             ('LAMT10', 'Unknown'),\n",
       "             ('LAMT11', 'ctx_lh_G_temporal_middle'),\n",
       "             ('LMMT1', 'Left-Hippocampus'),\n",
       "             ('LMMT2', 'Left-Hippocampus'),\n",
       "             ('LMMT3', 'Left-Cerebral-White-Matter'),\n",
       "             ('LMMT4', 'Left-Cerebral-White-Matter'),\n",
       "             ('LMMT5', 'Left-Cerebral-White-Matter'),\n",
       "             ('LMMT6', 'Left-Cerebral-White-Matter'),\n",
       "             ('LMMT7', 'ctx_lh_S_temporal_inf'),\n",
       "             ('LMMT8', 'ctx_lh_S_temporal_inf'),\n",
       "             ('LMMT9', 'ctx_lh_S_temporal_inf'),\n",
       "             ('LMMT10', 'ctx_lh_G_temporal_middle'),\n",
       "             ('LMMT11', 'ctx_lh_G_temporal_middle'),\n",
       "             ('LMMT12', 'ctx_lh_G_temporal_middle')])"
      ]
     },
     "execution_count": 11,
     "metadata": {},
     "output_type": "execute_result"
    }
   ],
   "source": [
    "test"
   ]
  },
  {
   "cell_type": "code",
   "execution_count": null,
   "metadata": {},
   "outputs": [],
   "source": []
  }
 ],
 "metadata": {
  "kernelspec": {
   "display_name": "ieeg",
   "language": "python",
   "name": "python3"
  },
  "language_info": {
   "codemirror_mode": {
    "name": "ipython",
    "version": 3
   },
   "file_extension": ".py",
   "mimetype": "text/x-python",
   "name": "python",
   "nbconvert_exporter": "python",
   "pygments_lexer": "ipython3",
   "version": "3.11.3"
  },
  "orig_nbformat": 4
 },
 "nbformat": 4,
 "nbformat_minor": 2
}
