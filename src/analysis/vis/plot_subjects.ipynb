{
  "cells": [
    {
      "cell_type": "code",
      "execution_count": null,
      "metadata": {
        "collapsed": false
      },
      "outputs": [],
      "source": [
        "import sys\n",
        "import os\n",
        "\n",
        "print(sys.path)\n",
        "sys.path.append(\"C:/Users/jz421/Desktop/GlobalLocal/IEEG_Pipelines/\") #need to do this cuz otherwise ieeg isn't added to path...\n",
        "\n",
        "# Get the absolute path to the directory containing the current script\n",
        "# For GlobalLocal/src/analysis/preproc/make_epoched_data.py, this is GlobalLocal/src/analysis/preproc\n",
        "try:\n",
        "    # This will work if running as a .py script\n",
        "    current_file_path = os.path.abspath(__file__)\n",
        "    current_script_dir = os.path.dirname(current_file_path)\n",
        "except NameError:\n",
        "    # This will be executed if __file__ is not defined (e.g., in a Jupyter Notebook)\n",
        "    # os.getcwd() often gives the directory of the notebook,\n",
        "    # or the directory from which the Jupyter server was started.\n",
        "    current_script_dir = os.getcwd()\n",
        "\n",
        "# Navigate up three levels to get to the 'GlobalLocal' directory\n",
        "project_root = os.path.abspath(os.path.join(current_script_dir, '..', '..', '..'))\n",
        "\n",
        "# Add the 'GlobalLocal' directory to sys.path if it's not already there\n",
        "if project_root not in sys.path:\n",
        "    sys.path.insert(0, project_root) # insert at the beginning to prioritize it\n",
        "\n",
        "import mne\n",
        "import os\n",
        "from ieeg.viz.mri import plot_subj, subject_to_info, plot_on_average #this used to import plot subj sig and nonsig, and plot electrodes from mri directly, but in order to save aaron's changes, i put them into jim_mri\n",
        "from src.analysis.vis.jim_mri import plot_subj_sig_and_nonsig, _plot_electrodes, get_sub_dir\n",
        "from ieeg.io import raw_from_layout, get_data\n",
        "# from utils import load_sig_chans, get_sig_chans_per_subject, make_sig_electrodes_per_subject_and_roi_dict, channel_names_to_indices\n",
        "from src.analysis.utils.general_utils import *\n",
        "\n",
        "import json\n",
        "import pyvista as pv\n",
        "pv.global_theme.allow_empty_mesh = True"
      ]
    },
    {
      "cell_type": "code",
      "execution_count": null,
      "metadata": {},
      "outputs": [],
      "source": [
        "# subjects = ['D0057', 'D0059', 'D0063', 'D0065', 'D0069', 'D0071', 'D0077', 'D0090', 'D0094', 'D0100', 'D0102', 'D0103', 'D0107A', 'D0110']\n",
        "\n",
        "# leave out D107A for now cuz it's breaking my code. TODO: fix plotting code to work with D107A.\n",
        "subjects = ['D0057', 'D0059', 'D0063', 'D0065', 'D0069', 'D0071', 'D0077', 'D0090', 'D0094', 'D0100', 'D0102', 'D0103', 'D0110', 'D0116', 'D0117', 'D0121']"
      ]
    },
    {
      "cell_type": "markdown",
      "metadata": {},
      "source": [
        "get significant channels per roi"
      ]
    },
    {
      "cell_type": "code",
      "execution_count": null,
      "metadata": {},
      "outputs": [
        {
          "name": "stdout",
          "output_type": "stream",
          "text": [
            "Attempting to load the subjects' electrodes-to-ROIs dictionary...\n",
            "Loaded data from C:\\Users\\jz421\\Desktop\\GlobalLocal\\src\\analysis\\config\\subjects_electrodestoROIs_dict.json\n",
            "Dictionary loaded successfully. Ready to proceed!\n",
            "Loaded significant channels for subject D0057\n",
            "Loaded significant channels for subject D0059\n",
            "Loaded significant channels for subject D0063\n",
            "Loaded significant channels for subject D0065\n",
            "Loaded significant channels for subject D0069\n",
            "Loaded significant channels for subject D0071\n"
          ]
        },
        {
          "ename": "KeyboardInterrupt",
          "evalue": "",
          "output_type": "error",
          "traceback": [
            "\u001b[1;31m---------------------------------------------------------------------------\u001b[0m",
            "\u001b[1;31mKeyboardInterrupt\u001b[0m                         Traceback (most recent call last)",
            "Cell \u001b[1;32mIn[29], line 7\u001b[0m\n\u001b[0;32m      3\u001b[0m config_dir \u001b[38;5;241m=\u001b[39m \u001b[38;5;124mr\u001b[39m\u001b[38;5;124m'\u001b[39m\u001b[38;5;124mC:\u001b[39m\u001b[38;5;124m\\\u001b[39m\u001b[38;5;124mUsers\u001b[39m\u001b[38;5;124m\\\u001b[39m\u001b[38;5;124mjz421\u001b[39m\u001b[38;5;124m\\\u001b[39m\u001b[38;5;124mDesktop\u001b[39m\u001b[38;5;124m\\\u001b[39m\u001b[38;5;124mGlobalLocal\u001b[39m\u001b[38;5;124m\\\u001b[39m\u001b[38;5;124msrc\u001b[39m\u001b[38;5;124m\\\u001b[39m\u001b[38;5;124manalysis\u001b[39m\u001b[38;5;124m\\\u001b[39m\u001b[38;5;124mconfig\u001b[39m\u001b[38;5;124m'\u001b[39m\n\u001b[0;32m      4\u001b[0m subjects_electrodestoROIs_dict \u001b[38;5;241m=\u001b[39m make_or_load_subjects_electrodes_to_ROIs_dict(subjects, task\u001b[38;5;241m=\u001b[39m\u001b[38;5;124m'\u001b[39m\u001b[38;5;124mGlobalLocal\u001b[39m\u001b[38;5;124m'\u001b[39m, LAB_root\u001b[38;5;241m=\u001b[39m\u001b[38;5;28;01mNone\u001b[39;00m, save_dir\u001b[38;5;241m=\u001b[39mconfig_dir, \n\u001b[0;32m      5\u001b[0m                                                 filename\u001b[38;5;241m=\u001b[39m\u001b[38;5;124m'\u001b[39m\u001b[38;5;124msubjects_electrodestoROIs_dict.json\u001b[39m\u001b[38;5;124m'\u001b[39m)\n\u001b[1;32m----> 7\u001b[0m sig_chans_per_subject \u001b[38;5;241m=\u001b[39m \u001b[43mget_sig_chans_per_subject\u001b[49m\u001b[43m(\u001b[49m\u001b[43msubjects\u001b[49m\u001b[43m,\u001b[49m\u001b[43m \u001b[49m\u001b[43mepochs_root_file\u001b[49m\u001b[43m,\u001b[49m\u001b[43m \u001b[49m\u001b[43mtask\u001b[49m\u001b[38;5;241;43m=\u001b[39;49m\u001b[38;5;124;43m'\u001b[39;49m\u001b[38;5;124;43mGlobalLocal\u001b[39;49m\u001b[38;5;124;43m'\u001b[39;49m\u001b[43m,\u001b[49m\u001b[43m \u001b[49m\u001b[43mLAB_root\u001b[49m\u001b[38;5;241;43m=\u001b[39;49m\u001b[38;5;28;43;01mNone\u001b[39;49;00m\u001b[43m)\u001b[49m\n\u001b[0;32m     10\u001b[0m \u001b[38;5;66;03m# rois_dict = {\u001b[39;00m\n\u001b[0;32m     11\u001b[0m \u001b[38;5;66;03m#     # 'dlpfc': [\"G_front_middle\", \"G_front_sup\", \"S_front_inf\", \"S_front_middle\", \"S_front_sup\"],\u001b[39;00m\n\u001b[0;32m     12\u001b[0m \u001b[38;5;66;03m#     # 'acc': [\"G_and_S_cingul-Ant\", \"G_and_S_cingul-Mid-Ant\"],\u001b[39;00m\n\u001b[1;32m   (...)\u001b[0m\n\u001b[0;32m     18\u001b[0m \n\u001b[0;32m     19\u001b[0m \u001b[38;5;66;03m# the cns 24/sfn 24 poster plots need just one roi. Fix all this code later. 10/1.\u001b[39;00m\n\u001b[0;32m     20\u001b[0m rois_dict \u001b[38;5;241m=\u001b[39m {\n\u001b[0;32m     21\u001b[0m     \u001b[38;5;124m'\u001b[39m\u001b[38;5;124mlpfc\u001b[39m\u001b[38;5;124m'\u001b[39m: [\u001b[38;5;124m\"\u001b[39m\u001b[38;5;124mG_front_inf-Opercular\u001b[39m\u001b[38;5;124m\"\u001b[39m, \u001b[38;5;124m\"\u001b[39m\u001b[38;5;124mG_front_inf-Orbital\u001b[39m\u001b[38;5;124m\"\u001b[39m, \u001b[38;5;124m\"\u001b[39m\u001b[38;5;124mG_front_inf-Triangul\u001b[39m\u001b[38;5;124m\"\u001b[39m, \u001b[38;5;124m\"\u001b[39m\u001b[38;5;124mG_front_middle\u001b[39m\u001b[38;5;124m\"\u001b[39m, \u001b[38;5;124m\"\u001b[39m\u001b[38;5;124mG_front_sup\u001b[39m\u001b[38;5;124m\"\u001b[39m, \u001b[38;5;124m\"\u001b[39m\u001b[38;5;124mLat_Fis-ant-Horizont\u001b[39m\u001b[38;5;124m\"\u001b[39m, \u001b[38;5;124m\"\u001b[39m\u001b[38;5;124mLat_Fis-ant-Vertical\u001b[39m\u001b[38;5;124m\"\u001b[39m, \u001b[38;5;124m\"\u001b[39m\u001b[38;5;124mS_circular_insula_ant\u001b[39m\u001b[38;5;124m\"\u001b[39m, \u001b[38;5;124m\"\u001b[39m\u001b[38;5;124mS_circular_insula_sup\u001b[39m\u001b[38;5;124m\"\u001b[39m, \u001b[38;5;124m\"\u001b[39m\u001b[38;5;124mS_front_inf\u001b[39m\u001b[38;5;124m\"\u001b[39m, \u001b[38;5;124m\"\u001b[39m\u001b[38;5;124mS_front_middle\u001b[39m\u001b[38;5;124m\"\u001b[39m, \u001b[38;5;124m\"\u001b[39m\u001b[38;5;124mS_front_sup\u001b[39m\u001b[38;5;124m\"\u001b[39m]\n\u001b[0;32m     22\u001b[0m }\n",
            "File \u001b[1;32mc:\\Users\\jz421\\Desktop\\GlobalLocal\\utils.py:1282\u001b[0m, in \u001b[0;36mget_sig_chans_per_subject\u001b[1;34m(subjects, epochs_root_file, task, LAB_root)\u001b[0m\n\u001b[0;32m   1280\u001b[0m \u001b[38;5;66;03m# Populate the dictionary using get_sig_chans for each subject\u001b[39;00m\n\u001b[0;32m   1281\u001b[0m \u001b[38;5;28;01mfor\u001b[39;00m sub \u001b[38;5;129;01min\u001b[39;00m subjects:\n\u001b[1;32m-> 1282\u001b[0m     sig_chans_per_subject[sub] \u001b[38;5;241m=\u001b[39m \u001b[43mget_sig_chans\u001b[49m\u001b[43m(\u001b[49m\u001b[43msub\u001b[49m\u001b[43m,\u001b[49m\u001b[43m \u001b[49m\u001b[43mtask\u001b[49m\u001b[43m,\u001b[49m\u001b[43m \u001b[49m\u001b[43mepochs_root_file\u001b[49m\u001b[43m,\u001b[49m\u001b[43m \u001b[49m\u001b[43mLAB_root\u001b[49m\u001b[43m)\u001b[49m\n\u001b[0;32m   1284\u001b[0m \u001b[38;5;28;01mreturn\u001b[39;00m sig_chans_per_subject\n",
            "File \u001b[1;32mc:\\Users\\jz421\\Desktop\\GlobalLocal\\utils.py:1258\u001b[0m, in \u001b[0;36mget_sig_chans\u001b[1;34m(sub, task, epochs_root_file, LAB_root)\u001b[0m\n\u001b[0;32m   1255\u001b[0m     LAB_root \u001b[38;5;241m=\u001b[39m os\u001b[38;5;241m.\u001b[39mpath\u001b[38;5;241m.\u001b[39mjoin(HOME, \u001b[38;5;124m\"\u001b[39m\u001b[38;5;124mBox\u001b[39m\u001b[38;5;124m\"\u001b[39m, \u001b[38;5;124m\"\u001b[39m\u001b[38;5;124mCoganLab\u001b[39m\u001b[38;5;124m\"\u001b[39m) \u001b[38;5;28;01mif\u001b[39;00m os\u001b[38;5;241m.\u001b[39mname \u001b[38;5;241m==\u001b[39m \u001b[38;5;124m'\u001b[39m\u001b[38;5;124mnt\u001b[39m\u001b[38;5;124m'\u001b[39m \u001b[38;5;28;01melse\u001b[39;00m os\u001b[38;5;241m.\u001b[39mpath\u001b[38;5;241m.\u001b[39mjoin(HOME, \u001b[38;5;124m\"\u001b[39m\u001b[38;5;124mLibrary\u001b[39m\u001b[38;5;124m\"\u001b[39m, \u001b[38;5;124m\"\u001b[39m\u001b[38;5;124mCloudStorage\u001b[39m\u001b[38;5;124m\"\u001b[39m, \u001b[38;5;124m\"\u001b[39m\u001b[38;5;124mBox-Box\u001b[39m\u001b[38;5;124m\"\u001b[39m, \u001b[38;5;124m\"\u001b[39m\u001b[38;5;124mCoganLab\u001b[39m\u001b[38;5;124m\"\u001b[39m)\n\u001b[0;32m   1257\u001b[0m \u001b[38;5;66;03m# Get data layout\u001b[39;00m\n\u001b[1;32m-> 1258\u001b[0m layout \u001b[38;5;241m=\u001b[39m \u001b[43mget_data\u001b[49m\u001b[43m(\u001b[49m\u001b[43mtask\u001b[49m\u001b[43m,\u001b[49m\u001b[43m \u001b[49m\u001b[43mroot\u001b[49m\u001b[38;5;241;43m=\u001b[39;49m\u001b[43mLAB_root\u001b[49m\u001b[43m)\u001b[49m\n\u001b[0;32m   1259\u001b[0m save_dir \u001b[38;5;241m=\u001b[39m os\u001b[38;5;241m.\u001b[39mpath\u001b[38;5;241m.\u001b[39mjoin(layout\u001b[38;5;241m.\u001b[39mroot, \u001b[38;5;124m'\u001b[39m\u001b[38;5;124mderivatives\u001b[39m\u001b[38;5;124m'\u001b[39m, \u001b[38;5;124m'\u001b[39m\u001b[38;5;124mfreqFilt\u001b[39m\u001b[38;5;124m'\u001b[39m, \u001b[38;5;124m'\u001b[39m\u001b[38;5;124mfigs\u001b[39m\u001b[38;5;124m'\u001b[39m, sub)\n\u001b[0;32m   1261\u001b[0m stim_filename \u001b[38;5;241m=\u001b[39m os\u001b[38;5;241m.\u001b[39mpath\u001b[38;5;241m.\u001b[39mjoin(save_dir, \u001b[38;5;124mf\u001b[39m\u001b[38;5;124m'\u001b[39m\u001b[38;5;124msig_chans_\u001b[39m\u001b[38;5;132;01m{\u001b[39;00msub\u001b[38;5;132;01m}\u001b[39;00m\u001b[38;5;124m_\u001b[39m\u001b[38;5;132;01m{\u001b[39;00mepochs_root_file\u001b[38;5;132;01m}\u001b[39;00m\u001b[38;5;124m.json\u001b[39m\u001b[38;5;124m'\u001b[39m)\n",
            "File \u001b[1;32m~\\Desktop\\GlobalLocal\\IEEG_Pipelines\\ieeg\\io.py:209\u001b[0m, in \u001b[0;36mget_data\u001b[1;34m(task, root, prefix)\u001b[0m\n\u001b[0;32m    207\u001b[0m \u001b[38;5;66;03m# check for BIDS subfolder\u001b[39;00m\n\u001b[0;32m    208\u001b[0m \u001b[38;5;28;01mif\u001b[39;00m op\u001b[38;5;241m.\u001b[39misdir(alt_root \u001b[38;5;241m:=\u001b[39m op\u001b[38;5;241m.\u001b[39mjoin(BIDS_root, \u001b[38;5;124m\"\u001b[39m\u001b[38;5;124mBIDS\u001b[39m\u001b[38;5;124m\"\u001b[39m)):\n\u001b[1;32m--> 209\u001b[0m     \u001b[38;5;28;01mreturn\u001b[39;00m \u001b[43mBIDSLayout\u001b[49m\u001b[43m(\u001b[49m\u001b[43malt_root\u001b[49m\u001b[43m,\u001b[49m\u001b[43m \u001b[49m\u001b[43mderivatives\u001b[49m\u001b[38;5;241;43m=\u001b[39;49m\u001b[38;5;28;43;01mTrue\u001b[39;49;00m\u001b[43m)\u001b[49m\n\u001b[0;32m    210\u001b[0m \u001b[38;5;28;01melse\u001b[39;00m:\n\u001b[0;32m    211\u001b[0m     \u001b[38;5;28;01mreturn\u001b[39;00m BIDSLayout(BIDS_root, derivatives\u001b[38;5;241m=\u001b[39m\u001b[38;5;28;01mTrue\u001b[39;00m)\n",
            "File \u001b[1;32mc:\\Users\\jz421\\AppData\\Local\\anaconda3\\envs\\ieeg\\Lib\\site-packages\\bids\\layout\\layout.py:177\u001b[0m, in \u001b[0;36mBIDSLayout.__init__\u001b[1;34m(self, root, validate, absolute_paths, derivatives, config, sources, regex_search, database_path, reset_database, indexer, is_derivative, **indexer_kwargs)\u001b[0m\n\u001b[0;32m    172\u001b[0m     \u001b[38;5;66;03m# Do not overwrite indexer variable, so the same configuration is passed to\u001b[39;00m\n\u001b[0;32m    173\u001b[0m     \u001b[38;5;66;03m# add_derivatives() below\u001b[39;00m\n\u001b[0;32m    174\u001b[0m     _indexer \u001b[38;5;241m=\u001b[39m indexer \u001b[38;5;129;01mor\u001b[39;00m BIDSLayoutIndexer(\n\u001b[0;32m    175\u001b[0m         validate\u001b[38;5;241m=\u001b[39mvalidate \u001b[38;5;129;01mand\u001b[39;00m \u001b[38;5;129;01mnot\u001b[39;00m is_derivative, \u001b[38;5;241m*\u001b[39m\u001b[38;5;241m*\u001b[39mindexer_kwargs\n\u001b[0;32m    176\u001b[0m     )\n\u001b[1;32m--> 177\u001b[0m     \u001b[43m_indexer\u001b[49m\u001b[43m(\u001b[49m\u001b[38;5;28;43mself\u001b[39;49m\u001b[43m)\u001b[49m\n\u001b[0;32m    179\u001b[0m \u001b[38;5;66;03m# Add derivatives if any are found\u001b[39;00m\n\u001b[0;32m    180\u001b[0m \u001b[38;5;28;01mif\u001b[39;00m derivatives:\n",
            "File \u001b[1;32mc:\\Users\\jz421\\AppData\\Local\\anaconda3\\envs\\ieeg\\Lib\\site-packages\\bids\\layout\\index.py:150\u001b[0m, in \u001b[0;36mBIDSLayoutIndexer.__call__\u001b[1;34m(self, layout)\u001b[0m\n\u001b[0;32m    147\u001b[0m all_bfs, all_tag_dicts \u001b[38;5;241m=\u001b[39m \u001b[38;5;28mself\u001b[39m\u001b[38;5;241m.\u001b[39m_index_dir(\u001b[38;5;28mself\u001b[39m\u001b[38;5;241m.\u001b[39m_layout\u001b[38;5;241m.\u001b[39m_root, \u001b[38;5;28mself\u001b[39m\u001b[38;5;241m.\u001b[39m_config)\n\u001b[0;32m    149\u001b[0m \u001b[38;5;28mself\u001b[39m\u001b[38;5;241m.\u001b[39msession\u001b[38;5;241m.\u001b[39mbulk_save_objects(all_bfs)\n\u001b[1;32m--> 150\u001b[0m \u001b[38;5;28;43mself\u001b[39;49m\u001b[38;5;241;43m.\u001b[39;49m\u001b[43msession\u001b[49m\u001b[38;5;241;43m.\u001b[39;49m\u001b[43mbulk_insert_mappings\u001b[49m\u001b[43m(\u001b[49m\u001b[43mTag\u001b[49m\u001b[43m,\u001b[49m\u001b[43m \u001b[49m\u001b[43mall_tag_dicts\u001b[49m\u001b[43m)\u001b[49m\n\u001b[0;32m    151\u001b[0m \u001b[38;5;28mself\u001b[39m\u001b[38;5;241m.\u001b[39msession\u001b[38;5;241m.\u001b[39mcommit()\n\u001b[0;32m    153\u001b[0m \u001b[38;5;28;01mif\u001b[39;00m \u001b[38;5;28mself\u001b[39m\u001b[38;5;241m.\u001b[39mindex_metadata:\n",
            "File \u001b[1;32mc:\\Users\\jz421\\AppData\\Local\\anaconda3\\envs\\ieeg\\Lib\\site-packages\\sqlalchemy\\orm\\session.py:4628\u001b[0m, in \u001b[0;36mSession.bulk_insert_mappings\u001b[1;34m(self, mapper, mappings, return_defaults, render_nulls)\u001b[0m\n\u001b[0;32m   4555\u001b[0m \u001b[38;5;28;01mdef\u001b[39;00m \u001b[38;5;21mbulk_insert_mappings\u001b[39m(\n\u001b[0;32m   4556\u001b[0m     \u001b[38;5;28mself\u001b[39m,\n\u001b[0;32m   4557\u001b[0m     mapper: Mapper[Any],\n\u001b[1;32m   (...)\u001b[0m\n\u001b[0;32m   4560\u001b[0m     render_nulls: \u001b[38;5;28mbool\u001b[39m \u001b[38;5;241m=\u001b[39m \u001b[38;5;28;01mFalse\u001b[39;00m,\n\u001b[0;32m   4561\u001b[0m ) \u001b[38;5;241m-\u001b[39m\u001b[38;5;241m>\u001b[39m \u001b[38;5;28;01mNone\u001b[39;00m:\n\u001b[0;32m   4562\u001b[0m \u001b[38;5;250m    \u001b[39m\u001b[38;5;124;03m\"\"\"Perform a bulk insert of the given list of mapping dictionaries.\u001b[39;00m\n\u001b[0;32m   4563\u001b[0m \n\u001b[0;32m   4564\u001b[0m \u001b[38;5;124;03m    .. legacy::\u001b[39;00m\n\u001b[1;32m   (...)\u001b[0m\n\u001b[0;32m   4626\u001b[0m \n\u001b[0;32m   4627\u001b[0m \u001b[38;5;124;03m    \"\"\"\u001b[39;00m\n\u001b[1;32m-> 4628\u001b[0m     \u001b[38;5;28;43mself\u001b[39;49m\u001b[38;5;241;43m.\u001b[39;49m\u001b[43m_bulk_save_mappings\u001b[49m\u001b[43m(\u001b[49m\n\u001b[0;32m   4629\u001b[0m \u001b[43m        \u001b[49m\u001b[43mmapper\u001b[49m\u001b[43m,\u001b[49m\n\u001b[0;32m   4630\u001b[0m \u001b[43m        \u001b[49m\u001b[43mmappings\u001b[49m\u001b[43m,\u001b[49m\n\u001b[0;32m   4631\u001b[0m \u001b[43m        \u001b[49m\u001b[38;5;28;43;01mFalse\u001b[39;49;00m\u001b[43m,\u001b[49m\n\u001b[0;32m   4632\u001b[0m \u001b[43m        \u001b[49m\u001b[38;5;28;43;01mFalse\u001b[39;49;00m\u001b[43m,\u001b[49m\n\u001b[0;32m   4633\u001b[0m \u001b[43m        \u001b[49m\u001b[43mreturn_defaults\u001b[49m\u001b[43m,\u001b[49m\n\u001b[0;32m   4634\u001b[0m \u001b[43m        \u001b[49m\u001b[38;5;28;43;01mFalse\u001b[39;49;00m\u001b[43m,\u001b[49m\n\u001b[0;32m   4635\u001b[0m \u001b[43m        \u001b[49m\u001b[43mrender_nulls\u001b[49m\u001b[43m,\u001b[49m\n\u001b[0;32m   4636\u001b[0m \u001b[43m    \u001b[49m\u001b[43m)\u001b[49m\n",
            "File \u001b[1;32mc:\\Users\\jz421\\AppData\\Local\\anaconda3\\envs\\ieeg\\Lib\\site-packages\\sqlalchemy\\orm\\session.py:4715\u001b[0m, in \u001b[0;36mSession._bulk_save_mappings\u001b[1;34m(self, mapper, mappings, isupdate, isstates, return_defaults, update_changed_only, render_nulls)\u001b[0m\n\u001b[0;32m   4712\u001b[0m     transaction\u001b[38;5;241m.\u001b[39mcommit()\n\u001b[0;32m   4714\u001b[0m \u001b[38;5;28;01mexcept\u001b[39;00m:\n\u001b[1;32m-> 4715\u001b[0m \u001b[43m    \u001b[49m\u001b[38;5;28;43;01mwith\u001b[39;49;00m\u001b[43m \u001b[49m\u001b[43mutil\u001b[49m\u001b[38;5;241;43m.\u001b[39;49m\u001b[43msafe_reraise\u001b[49m\u001b[43m(\u001b[49m\u001b[43m)\u001b[49m\u001b[43m:\u001b[49m\n\u001b[0;32m   4716\u001b[0m \u001b[43m        \u001b[49m\u001b[43mtransaction\u001b[49m\u001b[38;5;241;43m.\u001b[39;49m\u001b[43mrollback\u001b[49m\u001b[43m(\u001b[49m\u001b[43m_capture_exception\u001b[49m\u001b[38;5;241;43m=\u001b[39;49m\u001b[38;5;28;43;01mTrue\u001b[39;49;00m\u001b[43m)\u001b[49m\n\u001b[0;32m   4717\u001b[0m \u001b[38;5;28;01mfinally\u001b[39;00m:\n",
            "File \u001b[1;32mc:\\Users\\jz421\\AppData\\Local\\anaconda3\\envs\\ieeg\\Lib\\site-packages\\sqlalchemy\\util\\langhelpers.py:146\u001b[0m, in \u001b[0;36msafe_reraise.__exit__\u001b[1;34m(self, type_, value, traceback)\u001b[0m\n\u001b[0;32m    144\u001b[0m     \u001b[38;5;28;01massert\u001b[39;00m exc_value \u001b[38;5;129;01mis\u001b[39;00m \u001b[38;5;129;01mnot\u001b[39;00m \u001b[38;5;28;01mNone\u001b[39;00m\n\u001b[0;32m    145\u001b[0m     \u001b[38;5;28mself\u001b[39m\u001b[38;5;241m.\u001b[39m_exc_info \u001b[38;5;241m=\u001b[39m \u001b[38;5;28;01mNone\u001b[39;00m  \u001b[38;5;66;03m# remove potential circular references\u001b[39;00m\n\u001b[1;32m--> 146\u001b[0m     \u001b[38;5;28;01mraise\u001b[39;00m exc_value\u001b[38;5;241m.\u001b[39mwith_traceback(exc_tb)\n\u001b[0;32m    147\u001b[0m \u001b[38;5;28;01melse\u001b[39;00m:\n\u001b[0;32m    148\u001b[0m     \u001b[38;5;28mself\u001b[39m\u001b[38;5;241m.\u001b[39m_exc_info \u001b[38;5;241m=\u001b[39m \u001b[38;5;28;01mNone\u001b[39;00m  \u001b[38;5;66;03m# remove potential circular references\u001b[39;00m\n",
            "File \u001b[1;32mc:\\Users\\jz421\\AppData\\Local\\anaconda3\\envs\\ieeg\\Lib\\site-packages\\sqlalchemy\\orm\\session.py:4704\u001b[0m, in \u001b[0;36mSession._bulk_save_mappings\u001b[1;34m(self, mapper, mappings, isupdate, isstates, return_defaults, update_changed_only, render_nulls)\u001b[0m\n\u001b[0;32m   4696\u001b[0m         bulk_persistence\u001b[38;5;241m.\u001b[39m_bulk_update(\n\u001b[0;32m   4697\u001b[0m             mapper,\n\u001b[0;32m   4698\u001b[0m             mappings,\n\u001b[1;32m   (...)\u001b[0m\n\u001b[0;32m   4701\u001b[0m             update_changed_only,\n\u001b[0;32m   4702\u001b[0m         )\n\u001b[0;32m   4703\u001b[0m     \u001b[38;5;28;01melse\u001b[39;00m:\n\u001b[1;32m-> 4704\u001b[0m         \u001b[43mbulk_persistence\u001b[49m\u001b[38;5;241;43m.\u001b[39;49m\u001b[43m_bulk_insert\u001b[49m\u001b[43m(\u001b[49m\n\u001b[0;32m   4705\u001b[0m \u001b[43m            \u001b[49m\u001b[43mmapper\u001b[49m\u001b[43m,\u001b[49m\n\u001b[0;32m   4706\u001b[0m \u001b[43m            \u001b[49m\u001b[43mmappings\u001b[49m\u001b[43m,\u001b[49m\n\u001b[0;32m   4707\u001b[0m \u001b[43m            \u001b[49m\u001b[43mtransaction\u001b[49m\u001b[43m,\u001b[49m\n\u001b[0;32m   4708\u001b[0m \u001b[43m            \u001b[49m\u001b[43misstates\u001b[49m\u001b[43m,\u001b[49m\n\u001b[0;32m   4709\u001b[0m \u001b[43m            \u001b[49m\u001b[43mreturn_defaults\u001b[49m\u001b[43m,\u001b[49m\n\u001b[0;32m   4710\u001b[0m \u001b[43m            \u001b[49m\u001b[43mrender_nulls\u001b[49m\u001b[43m,\u001b[49m\n\u001b[0;32m   4711\u001b[0m \u001b[43m        \u001b[49m\u001b[43m)\u001b[49m\n\u001b[0;32m   4712\u001b[0m     transaction\u001b[38;5;241m.\u001b[39mcommit()\n\u001b[0;32m   4714\u001b[0m \u001b[38;5;28;01mexcept\u001b[39;00m:\n",
            "File \u001b[1;32mc:\\Users\\jz421\\AppData\\Local\\anaconda3\\envs\\ieeg\\Lib\\site-packages\\sqlalchemy\\orm\\bulk_persistence.py:199\u001b[0m, in \u001b[0;36m_bulk_insert\u001b[1;34m(mapper, mappings, session_transaction, isstates, return_defaults, render_nulls, use_orm_insert_stmt, execution_options)\u001b[0m\n\u001b[0;32m    159\u001b[0m extra_bp_names \u001b[38;5;241m=\u001b[39m (\n\u001b[0;32m    160\u001b[0m     [\n\u001b[0;32m    161\u001b[0m         b\u001b[38;5;241m.\u001b[39mkey\n\u001b[1;32m   (...)\u001b[0m\n\u001b[0;32m    166\u001b[0m     \u001b[38;5;28;01melse\u001b[39;00m ()\n\u001b[0;32m    167\u001b[0m )\n\u001b[0;32m    169\u001b[0m records \u001b[38;5;241m=\u001b[39m (\n\u001b[0;32m    170\u001b[0m     (\n\u001b[0;32m    171\u001b[0m         \u001b[38;5;28;01mNone\u001b[39;00m,\n\u001b[1;32m   (...)\u001b[0m\n\u001b[0;32m    196\u001b[0m     )\n\u001b[0;32m    197\u001b[0m )\n\u001b[1;32m--> 199\u001b[0m result \u001b[38;5;241m=\u001b[39m \u001b[43mpersistence\u001b[49m\u001b[38;5;241;43m.\u001b[39;49m\u001b[43m_emit_insert_statements\u001b[49m\u001b[43m(\u001b[49m\n\u001b[0;32m    200\u001b[0m \u001b[43m    \u001b[49m\u001b[43mbase_mapper\u001b[49m\u001b[43m,\u001b[49m\n\u001b[0;32m    201\u001b[0m \u001b[43m    \u001b[49m\u001b[38;5;28;43;01mNone\u001b[39;49;00m\u001b[43m,\u001b[49m\n\u001b[0;32m    202\u001b[0m \u001b[43m    \u001b[49m\u001b[43msuper_mapper\u001b[49m\u001b[43m,\u001b[49m\n\u001b[0;32m    203\u001b[0m \u001b[43m    \u001b[49m\u001b[43mtable\u001b[49m\u001b[43m,\u001b[49m\n\u001b[0;32m    204\u001b[0m \u001b[43m    \u001b[49m\u001b[43mrecords\u001b[49m\u001b[43m,\u001b[49m\n\u001b[0;32m    205\u001b[0m \u001b[43m    \u001b[49m\u001b[43mbookkeeping\u001b[49m\u001b[38;5;241;43m=\u001b[39;49m\u001b[43mbookkeeping\u001b[49m\u001b[43m,\u001b[49m\n\u001b[0;32m    206\u001b[0m \u001b[43m    \u001b[49m\u001b[43muse_orm_insert_stmt\u001b[49m\u001b[38;5;241;43m=\u001b[39;49m\u001b[43muse_orm_insert_stmt\u001b[49m\u001b[43m,\u001b[49m\n\u001b[0;32m    207\u001b[0m \u001b[43m    \u001b[49m\u001b[43mexecution_options\u001b[49m\u001b[38;5;241;43m=\u001b[39;49m\u001b[43mexecution_options\u001b[49m\u001b[43m,\u001b[49m\n\u001b[0;32m    208\u001b[0m \u001b[43m\u001b[49m\u001b[43m)\u001b[49m\n\u001b[0;32m    209\u001b[0m \u001b[38;5;28;01mif\u001b[39;00m use_orm_insert_stmt \u001b[38;5;129;01mis\u001b[39;00m \u001b[38;5;129;01mnot\u001b[39;00m \u001b[38;5;28;01mNone\u001b[39;00m:\n\u001b[0;32m    210\u001b[0m     \u001b[38;5;28;01mif\u001b[39;00m \u001b[38;5;129;01mnot\u001b[39;00m use_orm_insert_stmt\u001b[38;5;241m.\u001b[39m_returning \u001b[38;5;129;01mor\u001b[39;00m return_result \u001b[38;5;129;01mis\u001b[39;00m \u001b[38;5;28;01mNone\u001b[39;00m:\n",
            "File \u001b[1;32mc:\\Users\\jz421\\AppData\\Local\\anaconda3\\envs\\ieeg\\Lib\\site-packages\\sqlalchemy\\orm\\persistence.py:1044\u001b[0m, in \u001b[0;36m_emit_insert_statements\u001b[1;34m(base_mapper, uowtransaction, mapper, table, insert, bookkeeping, use_orm_insert_stmt, execution_options)\u001b[0m\n\u001b[0;32m   1041\u001b[0m records \u001b[38;5;241m=\u001b[39m \u001b[38;5;28mlist\u001b[39m(records)\n\u001b[0;32m   1042\u001b[0m multiparams \u001b[38;5;241m=\u001b[39m [rec[\u001b[38;5;241m2\u001b[39m] \u001b[38;5;28;01mfor\u001b[39;00m rec \u001b[38;5;129;01min\u001b[39;00m records]\n\u001b[1;32m-> 1044\u001b[0m result \u001b[38;5;241m=\u001b[39m \u001b[43mconnection\u001b[49m\u001b[38;5;241;43m.\u001b[39;49m\u001b[43mexecute\u001b[49m\u001b[43m(\u001b[49m\n\u001b[0;32m   1045\u001b[0m \u001b[43m    \u001b[49m\u001b[43mstatement\u001b[49m\u001b[43m,\u001b[49m\u001b[43m \u001b[49m\u001b[43mmultiparams\u001b[49m\u001b[43m,\u001b[49m\u001b[43m \u001b[49m\u001b[43mexecution_options\u001b[49m\u001b[38;5;241;43m=\u001b[39;49m\u001b[43mexecution_options\u001b[49m\n\u001b[0;32m   1046\u001b[0m \u001b[43m\u001b[49m\u001b[43m)\u001b[49m\n\u001b[0;32m   1047\u001b[0m \u001b[38;5;28;01mif\u001b[39;00m bookkeeping:\n\u001b[0;32m   1048\u001b[0m     \u001b[38;5;28;01mfor\u001b[39;00m (\n\u001b[0;32m   1049\u001b[0m         (\n\u001b[0;32m   1050\u001b[0m             state,\n\u001b[1;32m   (...)\u001b[0m\n\u001b[0;32m   1059\u001b[0m         last_inserted_params,\n\u001b[0;32m   1060\u001b[0m     ) \u001b[38;5;129;01min\u001b[39;00m \u001b[38;5;28mzip\u001b[39m(records, result\u001b[38;5;241m.\u001b[39mcontext\u001b[38;5;241m.\u001b[39mcompiled_parameters):\n",
            "File \u001b[1;32mc:\\Users\\jz421\\AppData\\Local\\anaconda3\\envs\\ieeg\\Lib\\site-packages\\sqlalchemy\\engine\\base.py:1416\u001b[0m, in \u001b[0;36mConnection.execute\u001b[1;34m(self, statement, parameters, execution_options)\u001b[0m\n\u001b[0;32m   1414\u001b[0m     \u001b[38;5;28;01mraise\u001b[39;00m exc\u001b[38;5;241m.\u001b[39mObjectNotExecutableError(statement) \u001b[38;5;28;01mfrom\u001b[39;00m \u001b[38;5;21;01merr\u001b[39;00m\n\u001b[0;32m   1415\u001b[0m \u001b[38;5;28;01melse\u001b[39;00m:\n\u001b[1;32m-> 1416\u001b[0m     \u001b[38;5;28;01mreturn\u001b[39;00m \u001b[43mmeth\u001b[49m\u001b[43m(\u001b[49m\n\u001b[0;32m   1417\u001b[0m \u001b[43m        \u001b[49m\u001b[38;5;28;43mself\u001b[39;49m\u001b[43m,\u001b[49m\n\u001b[0;32m   1418\u001b[0m \u001b[43m        \u001b[49m\u001b[43mdistilled_parameters\u001b[49m\u001b[43m,\u001b[49m\n\u001b[0;32m   1419\u001b[0m \u001b[43m        \u001b[49m\u001b[43mexecution_options\u001b[49m\u001b[43m \u001b[49m\u001b[38;5;129;43;01mor\u001b[39;49;00m\u001b[43m \u001b[49m\u001b[43mNO_OPTIONS\u001b[49m\u001b[43m,\u001b[49m\n\u001b[0;32m   1420\u001b[0m \u001b[43m    \u001b[49m\u001b[43m)\u001b[49m\n",
            "File \u001b[1;32mc:\\Users\\jz421\\AppData\\Local\\anaconda3\\envs\\ieeg\\Lib\\site-packages\\sqlalchemy\\sql\\elements.py:517\u001b[0m, in \u001b[0;36mClauseElement._execute_on_connection\u001b[1;34m(self, connection, distilled_params, execution_options)\u001b[0m\n\u001b[0;32m    515\u001b[0m     \u001b[38;5;28;01mif\u001b[39;00m TYPE_CHECKING:\n\u001b[0;32m    516\u001b[0m         \u001b[38;5;28;01massert\u001b[39;00m \u001b[38;5;28misinstance\u001b[39m(\u001b[38;5;28mself\u001b[39m, Executable)\n\u001b[1;32m--> 517\u001b[0m     \u001b[38;5;28;01mreturn\u001b[39;00m \u001b[43mconnection\u001b[49m\u001b[38;5;241;43m.\u001b[39;49m\u001b[43m_execute_clauseelement\u001b[49m\u001b[43m(\u001b[49m\n\u001b[0;32m    518\u001b[0m \u001b[43m        \u001b[49m\u001b[38;5;28;43mself\u001b[39;49m\u001b[43m,\u001b[49m\u001b[43m \u001b[49m\u001b[43mdistilled_params\u001b[49m\u001b[43m,\u001b[49m\u001b[43m \u001b[49m\u001b[43mexecution_options\u001b[49m\n\u001b[0;32m    519\u001b[0m \u001b[43m    \u001b[49m\u001b[43m)\u001b[49m\n\u001b[0;32m    520\u001b[0m \u001b[38;5;28;01melse\u001b[39;00m:\n\u001b[0;32m    521\u001b[0m     \u001b[38;5;28;01mraise\u001b[39;00m exc\u001b[38;5;241m.\u001b[39mObjectNotExecutableError(\u001b[38;5;28mself\u001b[39m)\n",
            "File \u001b[1;32mc:\\Users\\jz421\\AppData\\Local\\anaconda3\\envs\\ieeg\\Lib\\site-packages\\sqlalchemy\\engine\\base.py:1639\u001b[0m, in \u001b[0;36mConnection._execute_clauseelement\u001b[1;34m(self, elem, distilled_parameters, execution_options)\u001b[0m\n\u001b[0;32m   1627\u001b[0m compiled_cache: Optional[CompiledCacheType] \u001b[38;5;241m=\u001b[39m execution_options\u001b[38;5;241m.\u001b[39mget(\n\u001b[0;32m   1628\u001b[0m     \u001b[38;5;124m\"\u001b[39m\u001b[38;5;124mcompiled_cache\u001b[39m\u001b[38;5;124m\"\u001b[39m, \u001b[38;5;28mself\u001b[39m\u001b[38;5;241m.\u001b[39mengine\u001b[38;5;241m.\u001b[39m_compiled_cache\n\u001b[0;32m   1629\u001b[0m )\n\u001b[0;32m   1631\u001b[0m compiled_sql, extracted_params, cache_hit \u001b[38;5;241m=\u001b[39m elem\u001b[38;5;241m.\u001b[39m_compile_w_cache(\n\u001b[0;32m   1632\u001b[0m     dialect\u001b[38;5;241m=\u001b[39mdialect,\n\u001b[0;32m   1633\u001b[0m     compiled_cache\u001b[38;5;241m=\u001b[39mcompiled_cache,\n\u001b[1;32m   (...)\u001b[0m\n\u001b[0;32m   1637\u001b[0m     linting\u001b[38;5;241m=\u001b[39m\u001b[38;5;28mself\u001b[39m\u001b[38;5;241m.\u001b[39mdialect\u001b[38;5;241m.\u001b[39mcompiler_linting \u001b[38;5;241m|\u001b[39m compiler\u001b[38;5;241m.\u001b[39mWARN_LINTING,\n\u001b[0;32m   1638\u001b[0m )\n\u001b[1;32m-> 1639\u001b[0m ret \u001b[38;5;241m=\u001b[39m \u001b[38;5;28;43mself\u001b[39;49m\u001b[38;5;241;43m.\u001b[39;49m\u001b[43m_execute_context\u001b[49m\u001b[43m(\u001b[49m\n\u001b[0;32m   1640\u001b[0m \u001b[43m    \u001b[49m\u001b[43mdialect\u001b[49m\u001b[43m,\u001b[49m\n\u001b[0;32m   1641\u001b[0m \u001b[43m    \u001b[49m\u001b[43mdialect\u001b[49m\u001b[38;5;241;43m.\u001b[39;49m\u001b[43mexecution_ctx_cls\u001b[49m\u001b[38;5;241;43m.\u001b[39;49m\u001b[43m_init_compiled\u001b[49m\u001b[43m,\u001b[49m\n\u001b[0;32m   1642\u001b[0m \u001b[43m    \u001b[49m\u001b[43mcompiled_sql\u001b[49m\u001b[43m,\u001b[49m\n\u001b[0;32m   1643\u001b[0m \u001b[43m    \u001b[49m\u001b[43mdistilled_parameters\u001b[49m\u001b[43m,\u001b[49m\n\u001b[0;32m   1644\u001b[0m \u001b[43m    \u001b[49m\u001b[43mexecution_options\u001b[49m\u001b[43m,\u001b[49m\n\u001b[0;32m   1645\u001b[0m \u001b[43m    \u001b[49m\u001b[43mcompiled_sql\u001b[49m\u001b[43m,\u001b[49m\n\u001b[0;32m   1646\u001b[0m \u001b[43m    \u001b[49m\u001b[43mdistilled_parameters\u001b[49m\u001b[43m,\u001b[49m\n\u001b[0;32m   1647\u001b[0m \u001b[43m    \u001b[49m\u001b[43melem\u001b[49m\u001b[43m,\u001b[49m\n\u001b[0;32m   1648\u001b[0m \u001b[43m    \u001b[49m\u001b[43mextracted_params\u001b[49m\u001b[43m,\u001b[49m\n\u001b[0;32m   1649\u001b[0m \u001b[43m    \u001b[49m\u001b[43mcache_hit\u001b[49m\u001b[38;5;241;43m=\u001b[39;49m\u001b[43mcache_hit\u001b[49m\u001b[43m,\u001b[49m\n\u001b[0;32m   1650\u001b[0m \u001b[43m\u001b[49m\u001b[43m)\u001b[49m\n\u001b[0;32m   1651\u001b[0m \u001b[38;5;28;01mif\u001b[39;00m has_events:\n\u001b[0;32m   1652\u001b[0m     \u001b[38;5;28mself\u001b[39m\u001b[38;5;241m.\u001b[39mdispatch\u001b[38;5;241m.\u001b[39mafter_execute(\n\u001b[0;32m   1653\u001b[0m         \u001b[38;5;28mself\u001b[39m,\n\u001b[0;32m   1654\u001b[0m         elem,\n\u001b[1;32m   (...)\u001b[0m\n\u001b[0;32m   1658\u001b[0m         ret,\n\u001b[0;32m   1659\u001b[0m     )\n",
            "File \u001b[1;32mc:\\Users\\jz421\\AppData\\Local\\anaconda3\\envs\\ieeg\\Lib\\site-packages\\sqlalchemy\\engine\\base.py:1848\u001b[0m, in \u001b[0;36mConnection._execute_context\u001b[1;34m(self, dialect, constructor, statement, parameters, execution_options, *args, **kw)\u001b[0m\n\u001b[0;32m   1843\u001b[0m     \u001b[38;5;28;01mreturn\u001b[39;00m \u001b[38;5;28mself\u001b[39m\u001b[38;5;241m.\u001b[39m_exec_insertmany_context(\n\u001b[0;32m   1844\u001b[0m         dialect,\n\u001b[0;32m   1845\u001b[0m         context,\n\u001b[0;32m   1846\u001b[0m     )\n\u001b[0;32m   1847\u001b[0m \u001b[38;5;28;01melse\u001b[39;00m:\n\u001b[1;32m-> 1848\u001b[0m     \u001b[38;5;28;01mreturn\u001b[39;00m \u001b[38;5;28;43mself\u001b[39;49m\u001b[38;5;241;43m.\u001b[39;49m\u001b[43m_exec_single_context\u001b[49m\u001b[43m(\u001b[49m\n\u001b[0;32m   1849\u001b[0m \u001b[43m        \u001b[49m\u001b[43mdialect\u001b[49m\u001b[43m,\u001b[49m\u001b[43m \u001b[49m\u001b[43mcontext\u001b[49m\u001b[43m,\u001b[49m\u001b[43m \u001b[49m\u001b[43mstatement\u001b[49m\u001b[43m,\u001b[49m\u001b[43m \u001b[49m\u001b[43mparameters\u001b[49m\n\u001b[0;32m   1850\u001b[0m \u001b[43m    \u001b[49m\u001b[43m)\u001b[49m\n",
            "File \u001b[1;32mc:\\Users\\jz421\\AppData\\Local\\anaconda3\\envs\\ieeg\\Lib\\site-packages\\sqlalchemy\\engine\\base.py:1988\u001b[0m, in \u001b[0;36mConnection._exec_single_context\u001b[1;34m(self, dialect, context, statement, parameters)\u001b[0m\n\u001b[0;32m   1985\u001b[0m     result \u001b[38;5;241m=\u001b[39m context\u001b[38;5;241m.\u001b[39m_setup_result_proxy()\n\u001b[0;32m   1987\u001b[0m \u001b[38;5;28;01mexcept\u001b[39;00m \u001b[38;5;167;01mBaseException\u001b[39;00m \u001b[38;5;28;01mas\u001b[39;00m e:\n\u001b[1;32m-> 1988\u001b[0m     \u001b[38;5;28;43mself\u001b[39;49m\u001b[38;5;241;43m.\u001b[39;49m\u001b[43m_handle_dbapi_exception\u001b[49m\u001b[43m(\u001b[49m\n\u001b[0;32m   1989\u001b[0m \u001b[43m        \u001b[49m\u001b[43me\u001b[49m\u001b[43m,\u001b[49m\u001b[43m \u001b[49m\u001b[43mstr_statement\u001b[49m\u001b[43m,\u001b[49m\u001b[43m \u001b[49m\u001b[43meffective_parameters\u001b[49m\u001b[43m,\u001b[49m\u001b[43m \u001b[49m\u001b[43mcursor\u001b[49m\u001b[43m,\u001b[49m\u001b[43m \u001b[49m\u001b[43mcontext\u001b[49m\n\u001b[0;32m   1990\u001b[0m \u001b[43m    \u001b[49m\u001b[43m)\u001b[49m\n\u001b[0;32m   1992\u001b[0m \u001b[38;5;28;01mreturn\u001b[39;00m result\n",
            "File \u001b[1;32mc:\\Users\\jz421\\AppData\\Local\\anaconda3\\envs\\ieeg\\Lib\\site-packages\\sqlalchemy\\engine\\base.py:2347\u001b[0m, in \u001b[0;36mConnection._handle_dbapi_exception\u001b[1;34m(self, e, statement, parameters, cursor, context, is_sub_exec)\u001b[0m\n\u001b[0;32m   2345\u001b[0m     \u001b[38;5;28;01melse\u001b[39;00m:\n\u001b[0;32m   2346\u001b[0m         \u001b[38;5;28;01massert\u001b[39;00m exc_info[\u001b[38;5;241m1\u001b[39m] \u001b[38;5;129;01mis\u001b[39;00m \u001b[38;5;129;01mnot\u001b[39;00m \u001b[38;5;28;01mNone\u001b[39;00m\n\u001b[1;32m-> 2347\u001b[0m         \u001b[38;5;28;01mraise\u001b[39;00m exc_info[\u001b[38;5;241m1\u001b[39m]\u001b[38;5;241m.\u001b[39mwith_traceback(exc_info[\u001b[38;5;241m2\u001b[39m])\n\u001b[0;32m   2348\u001b[0m \u001b[38;5;28;01mfinally\u001b[39;00m:\n\u001b[0;32m   2349\u001b[0m     \u001b[38;5;28;01mdel\u001b[39;00m \u001b[38;5;28mself\u001b[39m\u001b[38;5;241m.\u001b[39m_reentrant_error\n",
            "File \u001b[1;32mc:\\Users\\jz421\\AppData\\Local\\anaconda3\\envs\\ieeg\\Lib\\site-packages\\sqlalchemy\\engine\\base.py:1938\u001b[0m, in \u001b[0;36mConnection._exec_single_context\u001b[1;34m(self, dialect, context, statement, parameters)\u001b[0m\n\u001b[0;32m   1936\u001b[0m                 \u001b[38;5;28;01mbreak\u001b[39;00m\n\u001b[0;32m   1937\u001b[0m     \u001b[38;5;28;01mif\u001b[39;00m \u001b[38;5;129;01mnot\u001b[39;00m evt_handled:\n\u001b[1;32m-> 1938\u001b[0m         \u001b[38;5;28;43mself\u001b[39;49m\u001b[38;5;241;43m.\u001b[39;49m\u001b[43mdialect\u001b[49m\u001b[38;5;241;43m.\u001b[39;49m\u001b[43mdo_executemany\u001b[49m\u001b[43m(\u001b[49m\n\u001b[0;32m   1939\u001b[0m \u001b[43m            \u001b[49m\u001b[43mcursor\u001b[49m\u001b[43m,\u001b[49m\n\u001b[0;32m   1940\u001b[0m \u001b[43m            \u001b[49m\u001b[43mstr_statement\u001b[49m\u001b[43m,\u001b[49m\n\u001b[0;32m   1941\u001b[0m \u001b[43m            \u001b[49m\u001b[43meffective_parameters\u001b[49m\u001b[43m,\u001b[49m\n\u001b[0;32m   1942\u001b[0m \u001b[43m            \u001b[49m\u001b[43mcontext\u001b[49m\u001b[43m,\u001b[49m\n\u001b[0;32m   1943\u001b[0m \u001b[43m        \u001b[49m\u001b[43m)\u001b[49m\n\u001b[0;32m   1944\u001b[0m \u001b[38;5;28;01melif\u001b[39;00m \u001b[38;5;129;01mnot\u001b[39;00m effective_parameters \u001b[38;5;129;01mand\u001b[39;00m context\u001b[38;5;241m.\u001b[39mno_parameters:\n\u001b[0;32m   1945\u001b[0m     \u001b[38;5;28;01mif\u001b[39;00m \u001b[38;5;28mself\u001b[39m\u001b[38;5;241m.\u001b[39mdialect\u001b[38;5;241m.\u001b[39m_has_events:\n",
            "File \u001b[1;32mc:\\Users\\jz421\\AppData\\Local\\anaconda3\\envs\\ieeg\\Lib\\site-packages\\sqlalchemy\\engine\\default.py:919\u001b[0m, in \u001b[0;36mDefaultDialect.do_executemany\u001b[1;34m(self, cursor, statement, parameters, context)\u001b[0m\n\u001b[0;32m    918\u001b[0m \u001b[38;5;28;01mdef\u001b[39;00m \u001b[38;5;21mdo_executemany\u001b[39m(\u001b[38;5;28mself\u001b[39m, cursor, statement, parameters, context\u001b[38;5;241m=\u001b[39m\u001b[38;5;28;01mNone\u001b[39;00m):\n\u001b[1;32m--> 919\u001b[0m     cursor\u001b[38;5;241m.\u001b[39mexecutemany(statement, parameters)\n",
            "\u001b[1;31mKeyboardInterrupt\u001b[0m: "
          ]
        }
      ],
      "source": [
        "epochs_root_file = \"Stimulus_0.5sec_within1sec_randoffset_preStimulusBase_decFactor_8_outliers_10_passband_4.0-8.0_padLength_0.5s_stat_func_ttest_ind\"\n",
        "\n",
        "config_dir = r'C:\\Users\\jz421\\Desktop\\GlobalLocal\\src\\analysis\\config'\n",
        "subjects_electrodestoROIs_dict = make_or_load_subjects_electrodes_to_ROIs_dict(subjects, task='GlobalLocal', LAB_root=None, save_dir=config_dir, \n",
        "                                                filename='subjects_electrodestoROIs_dict.json')\n",
        "\n",
        "sig_chans_per_subject = get_sig_chans_per_subject(subjects, epochs_root_file, task='GlobalLocal', LAB_root=None)\n",
        "\n",
        "\n",
        "# rois_dict = {\n",
        "#     # 'dlpfc': [\"G_front_middle\", \"G_front_sup\", \"S_front_inf\", \"S_front_middle\", \"S_front_sup\"],\n",
        "#     # 'acc': [\"G_and_S_cingul-Ant\", \"G_and_S_cingul-Mid-Ant\"],\n",
        "#     # 'parietal': [\"G_parietal_sup\", \"S_intrapariet_and_P_trans\", \"G_pariet_inf-Angular\", \"G_pariet_inf-Supramar\"],\n",
        "#     'lpfc': [\"G_front_inf-Opercular\", \"G_front_inf-Orbital\", \"G_front_inf-Triangul\", \"G_front_middle\", \"G_front_sup\", \"Lat_Fis-ant-Horizont\", \"Lat_Fis-ant-Vertical\", \"S_circular_insula_ant\", \"S_circular_insula_sup\", \"S_front_inf\", \"S_front_middle\", \"S_front_sup\"],\n",
        "#     'v1': [\"G_oc-temp_med-Lingual\", \"S_calcarine\", \"G_cuneus\"],\n",
        "#     'occ': [\"G_cuneus\", \"G_and_S_occipital_inf\", \"G_occipital_middle\", \"G_occipital_sup\", \"G_oc-temp_lat-fusifor\", \"G_oc-temp_med-Lingual\", \"Pole_occipital\", \"S_calcarine\", \"S_oc_middle_and_Lunatus\", \"S_oc_sup_and_transversal\", \"S_occipital_ant\"]\n",
        "# }\n",
        "\n",
        "# the cns 24/sfn 24 poster plots need just one roi. Fix all this code later. 10/1.\n",
        "rois_dict = {\n",
        "    'lpfc': [\"G_front_inf-Opercular\", \"G_front_inf-Orbital\", \"G_front_inf-Triangul\", \"G_front_middle\", \"G_front_sup\", \"Lat_Fis-ant-Horizont\", \"Lat_Fis-ant-Vertical\", \"S_circular_insula_ant\", \"S_circular_insula_sup\", \"S_front_inf\", \"S_front_middle\", \"S_front_sup\"]\n",
        "}\n",
        "\n",
        "rois = list(rois_dict.keys())\n",
        "electrodes_per_subject_roi, sig_electrodes_per_subject_roi = make_sig_electrodes_per_subject_and_roi_dict(rois_dict, subjects_electrodestoROIs_dict, sig_chans_per_subject)"
      ]
    },
    {
      "cell_type": "markdown",
      "metadata": {},
      "source": [
        "### plot single subject's significant electrodes"
      ]
    },
    {
      "cell_type": "code",
      "execution_count": 3,
      "metadata": {},
      "outputs": [
        {
          "name": "stderr",
          "output_type": "stream",
          "text": [
            "C:\\Users\\jz421\\Desktop\\GlobalLocal\\IEEG_Pipelines\\ieeg\\viz\\mri.py:822: RuntimeWarning: Fiducial point lpa not found, assuming identity RAS (non-zero origin) to head transformation\n",
            "  info.set_montage(montage)\n"
          ]
        }
      ],
      "source": [
        "test = subject_to_info('D65')"
      ]
    },
    {
      "cell_type": "code",
      "execution_count": 4,
      "metadata": {},
      "outputs": [
        {
          "name": "stdout",
          "output_type": "stream",
          "text": [
            "Loaded significant channels for subject D0100\n",
            "Using pyvistaqt 3d backend.\n"
          ]
        },
        {
          "name": "stderr",
          "output_type": "stream",
          "text": [
            "C:\\Users\\jz421\\Desktop\\GlobalLocal\\IEEG_Pipelines\\ieeg\\viz\\mri.py:822: RuntimeWarning: Fiducial point lpa not found, assuming identity RAS (non-zero origin) to head transformation\n",
            "  info.set_montage(montage)\n"
          ]
        }
      ],
      "source": [
        "subj = \"D0100\"\n",
        "base_path = r'C:\\Users\\jz421\\Box\\CoganLab\\BIDS-1.1_GlobalLocal\\BIDS\\derivatives\\freqFilt\\figs'\n",
        "stim_filename = f'{base_path}\\\\{subj}\\\\sig_chans_{subj}_Stimulus_0.5sec_within1sec_randoffset_preStimulusBase_decFactor_8_outliers_10.json'\n",
        "stim_sig_chans = load_sig_chans(stim_filename)\n",
        "# resp_filename = f'{base_path}\\\\{subj}\\\\sig_chans_{subj}_Response_fixationCrossBase_1sec_mirror.json'\n",
        "# resp_sig_chans = load_sig_chans(stim_filename)\n",
        "\n",
        "\n",
        "subj_without_zeroes = \"D\" + subj[1:].lstrip('0')\n",
        "brain_fig = plot_subj(subj_without_zeroes, picks=stim_sig_chans, labels_every=1, hemi='both', title=f'{subj}_Stimulus', background='black', color=(1, 1, 0)) \n",
        "# plot_subj(subj_without_zeroes, picks=resp_sig_chans, labels_every=8, hemi='both', title=f'{subj}_Response', color=(1, 1, 0))\n",
        "\n",
        "# Specify the path and filename for the PNG file\n",
        "png_filepath = os.path.join(base_path, f\"{subj_without_zeroes}_sigStim.png\")\n",
        "\n",
        "# Save the figure\n",
        "brain_fig.save_image(png_filepath, 'png')"
      ]
    },
    {
      "cell_type": "code",
      "execution_count": null,
      "metadata": {},
      "outputs": [],
      "source": [
        "subj = \"D0063\"\n",
        "base_path = r'C:\\Users\\jz421\\Box\\CoganLab\\BIDS-1.1_GlobalLocal\\BIDS\\derivatives\\freqFilt\\figs'\n",
        "resp_filename = f'{base_path}\\\\{subj}\\\\sig_chans_{subj}_Response.json'\n",
        "stim_filename = f'{base_path}\\\\{subj}\\\\sig_chans_{subj}_Stimulus.json'\n",
        "congruent_filename = f'{base_path}\\\\{subj}\\\\sig_chans_{subj}_congruent.json'\n",
        "incongruent_filename = f'{base_path}\\\\{subj}\\\\sig_chans_{subj}_incongruent.json'\n",
        "repeat_filename = f'{base_path}\\\\{subj}\\\\sig_chans_{subj}_repeat.json'\n",
        "switch_filename = f'{base_path}\\\\{subj}\\\\sig_chans_{subj}_switch.json'\n",
        "\n",
        "resp_sig_chans = load_sig_chans(resp_filename)\n",
        "stim_sig_chans = load_sig_chans(stim_filename)\n",
        "congruent_sig_chans = load_sig_chans(congruent_filename)\n",
        "incongruent_sig_chans = load_sig_chans(incongruent_filename)\n",
        "repeat_sig_chans = load_sig_chans(repeat_filename)\n",
        "switch_sig_chans = load_sig_chans(switch_filename)\n",
        "\n",
        "\n",
        "subj_without_zeroes = \"D\" + subj[1:].lstrip('0')\n",
        "plot_subj(subj_without_zeroes, picks=stim_sig_chans, labels_every=8, hemi='both', title=f'{subj}_Stimulus', background='black', color=(1, 1, 0)) \n",
        "plot_subj(subj_without_zeroes, picks=resp_sig_chans, labels_every=8, hemi='both', title=f'{subj}_Response', background='black', color=(1, 1, 0))\n",
        "plot_subj(subj_without_zeroes, picks=congruent_sig_chans, labels_every=8, hemi='both', title=f'{subj}_Congruent', background='black', color=(1, 1, 0)) \n",
        "plot_subj(subj_without_zeroes, picks=incongruent_sig_chans, labels_every=8, hemi='both', title=f'{subj}_Incongruent', background='black', color=(1, 1, 0))\n",
        "plot_subj(subj_without_zeroes, picks=repeat_sig_chans, labels_every=8, hemi='both', title=f'{subj}_Repeat', background='black', color=(1, 1, 0)) \n",
        "plot_subj(subj_without_zeroes, picks=switch_sig_chans, labels_every=8, hemi='both', title=f'{subj}_Switch', background='black', color=(1, 1, 0))\n"
      ]
    },
    {
      "cell_type": "markdown",
      "metadata": {},
      "source": [
        "turn the sig electrodes per subject roi loaded into a plottable format list"
      ]
    },
    {
      "cell_type": "code",
      "execution_count": null,
      "metadata": {},
      "outputs": [
        {
          "name": "stdout",
          "output_type": "stream",
          "text": [
            "['D57-RAI6', 'D57-RPI15', 'D57-RPI14', 'D57-RAMF13', 'D57-RAMF14', 'D59-LMMF9', 'D59-LMMF11', 'D59-LMMF10', 'D59-LMMF12', 'D59-LPSF16', 'D63-LMSF5', 'D63-RAMF12', 'D63-RAMF13', 'D63-RMMF13', 'D63-RMMF14', 'D63-RAI4', 'D63-RAI6', 'D63-RAI11', 'D63-RMMF10', 'D65-RASF14', 'D65-RASF15', 'D65-RI7', 'D71-RFO14', 'D71-RFO16', 'D71-RIA4', 'D71-RIP6', 'D71-RIA5', 'D71-RIA11', 'D71-RIA12', 'D71-RIA13', 'D71-RIA14', 'D71-RIA16', 'D71-RIP16', 'D90-RIA6', 'D90-RIA11', 'D90-RIA12', 'D94-LFAM8', 'D94-LFAM9', 'D94-LFAM10', 'D94-LFPM10', 'D94-LFPM11', 'D94-LFPM12', 'D94-LFPI10', 'D94-LPAI10', 'D94-LFAI9', 'D94-LFAI10', 'D94-LIA11', 'D102-RFO13', 'D102-RFO14', 'D102-RFAM15', 'D102-RFAI3', 'D103-LFAM8', 'D103-LFAM9', 'D103-LAI13', 'D103-LAI14', 'D103-LAI4', 'D103-LAI7', 'D103-LAI8', 'D103-LFAI4', 'D110-LASF10', 'D110-LINS4']\n",
            "['D57-RAI6', 'D57-RAI12', 'D57-RAI13', 'D57-RAI14', 'D57-RAI15', 'D57-RAI16', 'D57-RPI15', 'D57-RPI14', 'D57-RAMF10', 'D57-RAMF11', 'D57-RAMF12', 'D57-RAMF13', 'D57-RAMF14', 'D57-RAIF11', 'D57-RAIF12', 'D57-RAIF13', 'D57-RAIF14', 'D59-LMMF9', 'D59-LMMF11', 'D59-LMMF10', 'D59-LMMF12', 'D59-LPSF16', 'D63-LOF16', 'D63-LASF10', 'D63-LASF11', 'D63-LASF14', 'D63-LASF15', 'D63-LASF16', 'D63-LMSF5', 'D63-LMSF6', 'D63-LMSF12', 'D63-LPSF10', 'D63-LPSF12', 'D63-ROF16', 'D63-RAI16', 'D63-RAMF11', 'D63-RAMF12', 'D63-RAMF13', 'D63-RAMF14', 'D63-RMMF13', 'D63-RMMF14', 'D63-RAI4', 'D63-RAI6', 'D63-RAI5', 'D63-RAI10', 'D63-RAI11', 'D63-RASF15', 'D63-RASF16', 'D63-RMSF8', 'D63-RMSF9', 'D63-RMSF10', 'D63-RMSF11', 'D63-RMSF12', 'D63-RMSF7', 'D63-RAMF8', 'D63-RAMF9', 'D63-RAMF10', 'D63-RMMF9', 'D63-RMMF10', 'D65-RASF13', 'D65-RASF14', 'D65-RASF15', 'D65-RASF16', 'D65-RMSF11', 'D65-RMSF12', 'D65-RMSF13', 'D65-RMSF14', 'D65-RI7', 'D69-LOF8', 'D71-RFO14', 'D71-RFO16', 'D71-RIA4', 'D71-RIP6', 'D71-RIA5', 'D71-RIA11', 'D71-RIA12', 'D71-RIA13', 'D71-RIA14', 'D71-RIA16', 'D71-RIP14', 'D71-RIP15', 'D71-RIP16', 'D90-RFO15', 'D90-RIA6', 'D90-RIA11', 'D90-RIA12', 'D90-RIA14', 'D90-RIA15', 'D90-RIA16', 'D90-RIP7', 'D94-LFO12', 'D94-LFO13', 'D94-LFO15', 'D94-LFO16', 'D94-LFAM8', 'D94-LFAM9', 'D94-LFAM10', 'D94-LFAM13', 'D94-LFAM14', 'D94-LFPM10', 'D94-LFPM11', 'D94-LFPM12', 'D94-LPAS1', 'D94-LIA16', 'D94-LFAI3', 'D94-LFAI4', 'D94-LFAI5', 'D94-LFPI10', 'D94-LPAI9', 'D94-LPAI10', 'D94-LIA4', 'D94-LIA5', 'D94-LFAI9', 'D94-LFAI10', 'D94-LIA11', 'D94-LIA12', 'D94-LIA13', 'D94-LIA14', 'D102-RFO13', 'D102-RFO14', 'D102-RFAM15', 'D102-RFAI2', 'D102-RFAI3', 'D103-LFAM8', 'D103-LFAM9', 'D103-LAI13', 'D103-LAI14', 'D103-LFAM15', 'D103-LAI4', 'D103-LAI7', 'D103-LAI8', 'D103-LAI18', 'D103-LFO15', 'D103-LFAI4', 'D107A-RFOA16', 'D107A-RFOA17', 'D107A-RFOA18', 'D107A-RFAI3', 'D107A-RIA5', 'D107A-RIA6', 'D107A-RFAM7', 'D107A-RFAM9', 'D107A-RFAM10', 'D107A-RFAM11', 'D107A-RFAM12', 'D107A-RFMM9', 'D107A-RFMM11', 'D107A-RFMM12', 'D107A-RFMM13', 'D107A-RFMM14', 'D107A-RFMM15', 'D107A-RFMM8', 'D107A-RIA12', 'D107A-RIA13', 'D107A-RIA14', 'D107A-RIA15', 'D107A-RIA16', 'D107A-RIA17', 'D107A-RIA18', 'D110-LASF10', 'D110-LOF13', 'D110-LOF15', 'D110-LINS4', 'D110-LINS5']\n"
          ]
        }
      ],
      "source": [
        "import re\n",
        "\n",
        "def format_electrodes_subject_ids(data_dict):\n",
        "    \"\"\"\n",
        "    Formats electrode names and subject IDs by removing leading zeros from the numerical part\n",
        "    of the subject IDs and concatenating the formatted subject ID with electrode names.\n",
        "\n",
        "    Parameters:\n",
        "    - data_dict: A dictionary with the structure {roi: {subject_id: [electrodes]}}.\n",
        "\n",
        "    Returns:\n",
        "    - A list of formatted strings in the \"Dxx-Electrode\" format.\n",
        "    \"\"\"\n",
        "    formatted_list = []\n",
        "    \n",
        "    # Define a regex pattern to capture parts of the subject_id\n",
        "    # Pattern Explanation:\n",
        "    # ^D          : Starts with 'D'\n",
        "    # (0*)        : Capture any leading zeros\n",
        "    # (\\d+)       : Capture one or more digits (the numerical part)\n",
        "    # ([A-Za-z]*) : Capture any trailing letters (optional)\n",
        "    pattern = re.compile(r'^D(0*)(\\d+)([A-Za-z]*)$')\n",
        "    \n",
        "    for roi, subjects in data_dict.items():\n",
        "        for subject_id, electrodes in subjects.items():\n",
        "            match = pattern.match(subject_id)\n",
        "            if match:\n",
        "                leading_zeros, numbers, letters = match.groups()\n",
        "                # Remove leading zeros by converting to int and back to string\n",
        "                # This automatically removes any leading zeros\n",
        "                formatted_numbers = str(int(numbers)) if numbers else '0'\n",
        "                # Reconstruct the formatted subject ID\n",
        "                formatted_subject_id = f\"D{formatted_numbers}{letters}\"\n",
        "            else:\n",
        "                # If the subject_id doesn't match the pattern, keep it unchanged\n",
        "                # Optionally, you can choose to skip or raise an error\n",
        "                print(f\"Warning: Subject ID '{subject_id}' does not match the expected pattern. It will be kept unchanged.\")\n",
        "                formatted_subject_id = subject_id\n",
        "            \n",
        "            # Attach each electrode to the formatted subject ID\n",
        "            for electrode in electrodes:\n",
        "                formatted_electrode = f\"{formatted_subject_id}-{electrode}\"\n",
        "                formatted_list.append(formatted_electrode)\n",
        "    \n",
        "    return formatted_list\n",
        "\n",
        "# Use the function on your loaded dictionary\n",
        "plottable_sig_electrodes_per_subject_roi = format_electrodes_subject_ids(sig_electrodes_per_subject_roi)\n",
        "\n",
        "# And also for all electrodes per subject roi\n",
        "plottable_all_electrodes_per_subject_roi = format_electrodes_subject_ids(electrodes_per_subject_roi)\n",
        "\n",
        "# Print or use the resulting lists as needed\n",
        "print(plottable_sig_electrodes_per_subject_roi)\n",
        "print(plottable_all_electrodes_per_subject_roi)"
      ]
    },
    {
      "cell_type": "markdown",
      "metadata": {},
      "source": [
        "just plot one electrode for poster 4/8"
      ]
    },
    {
      "cell_type": "code",
      "execution_count": 10,
      "metadata": {},
      "outputs": [
        {
          "name": "stderr",
          "output_type": "stream",
          "text": [
            "C:\\Users\\jz421\\Desktop\\GlobalLocal\\IEEG_Pipelines\\ieeg\\viz\\mri.py:822: RuntimeWarning: Fiducial point lpa not found, assuming identity RAS (non-zero origin) to head transformation\n",
            "  info.set_montage(montage)\n",
            "C:\\Users\\jz421\\Desktop\\GlobalLocal\\IEEG_Pipelines\\ieeg\\viz\\mri.py:822: RuntimeWarning: Fiducial point lpa not found, assuming identity RAS (non-zero origin) to head transformation\n",
            "  info.set_montage(montage)\n",
            "C:\\Users\\jz421\\Desktop\\GlobalLocal\\IEEG_Pipelines\\ieeg\\viz\\mri.py:822: RuntimeWarning: Fiducial point lpa not found, assuming identity RAS (non-zero origin) to head transformation\n",
            "  info.set_montage(montage)\n",
            "C:\\Users\\jz421\\Desktop\\GlobalLocal\\IEEG_Pipelines\\ieeg\\viz\\mri.py:822: RuntimeWarning: Fiducial point lpa not found, assuming identity RAS (non-zero origin) to head transformation\n",
            "  info.set_montage(montage)\n",
            "C:\\Users\\jz421\\Desktop\\GlobalLocal\\IEEG_Pipelines\\ieeg\\viz\\mri.py:822: RuntimeWarning: Fiducial point lpa not found, assuming identity RAS (non-zero origin) to head transformation\n",
            "  info.set_montage(montage)\n",
            "C:\\Users\\jz421\\Desktop\\GlobalLocal\\IEEG_Pipelines\\ieeg\\viz\\mri.py:822: RuntimeWarning: Fiducial point lpa not found, assuming identity RAS (non-zero origin) to head transformation\n",
            "  info.set_montage(montage)\n",
            "C:\\Users\\jz421\\Desktop\\GlobalLocal\\IEEG_Pipelines\\ieeg\\viz\\mri.py:822: RuntimeWarning: Fiducial point lpa not found, assuming identity RAS (non-zero origin) to head transformation\n",
            "  info.set_montage(montage)\n",
            "C:\\Users\\jz421\\Desktop\\GlobalLocal\\IEEG_Pipelines\\ieeg\\viz\\mri.py:822: RuntimeWarning: Fiducial point lpa not found, assuming identity RAS (non-zero origin) to head transformation\n",
            "  info.set_montage(montage)\n",
            "C:\\Users\\jz421\\Desktop\\GlobalLocal\\IEEG_Pipelines\\ieeg\\viz\\mri.py:822: RuntimeWarning: Fiducial point lpa not found, assuming identity RAS (non-zero origin) to head transformation\n",
            "  info.set_montage(montage)\n",
            "C:\\Users\\jz421\\Desktop\\GlobalLocal\\IEEG_Pipelines\\ieeg\\viz\\mri.py:822: RuntimeWarning: Fiducial point lpa not found, assuming identity RAS (non-zero origin) to head transformation\n",
            "  info.set_montage(montage)\n",
            "C:\\Users\\jz421\\Desktop\\GlobalLocal\\IEEG_Pipelines\\ieeg\\viz\\mri.py:822: RuntimeWarning: Fiducial point lpa not found, assuming identity RAS (non-zero origin) to head transformation\n",
            "  info.set_montage(montage)\n",
            "C:\\Users\\jz421\\Desktop\\GlobalLocal\\IEEG_Pipelines\\ieeg\\viz\\mri.py:822: RuntimeWarning: Fiducial point lpa not found, assuming identity RAS (non-zero origin) to head transformation\n",
            "  info.set_montage(montage)\n",
            "C:\\Users\\jz421\\Desktop\\GlobalLocal\\IEEG_Pipelines\\ieeg\\viz\\mri.py:822: RuntimeWarning: Fiducial point lpa not found, assuming identity RAS (non-zero origin) to head transformation\n",
            "  info.set_montage(montage)\n",
            "C:\\Users\\jz421\\Desktop\\GlobalLocal\\IEEG_Pipelines\\ieeg\\viz\\mri.py:822: RuntimeWarning: Fiducial point lpa not found, assuming identity RAS (non-zero origin) to head transformation\n",
            "  info.set_montage(montage)\n"
          ]
        },
        {
          "ename": "OSError",
          "evalue": "[WinError 1006] The volume for a file has been externally altered so that the opened file is no longer valid: 'C:\\\\Users\\\\jz421\\\\Box\\\\ECoG_Recon\\\\D59\\\\mri\\\\transforms\\\\talairach.xfm'",
          "output_type": "error",
          "traceback": [
            "\u001b[1;31m---------------------------------------------------------------------------\u001b[0m",
            "\u001b[1;31mOSError\u001b[0m                                   Traceback (most recent call last)",
            "Cell \u001b[1;32mIn[10], line 1\u001b[0m\n\u001b[1;32m----> 1\u001b[0m fig \u001b[38;5;241m=\u001b[39m \u001b[43mplot_on_average\u001b[49m\u001b[43m(\u001b[49m\u001b[43msubjects\u001b[49m\u001b[43m,\u001b[49m\u001b[43m \u001b[49m\u001b[43mpicks\u001b[49m\u001b[38;5;241;43m=\u001b[39;49m\u001b[43m[\u001b[49m\u001b[38;5;124;43m'\u001b[39;49m\u001b[38;5;124;43mD57-RAI6\u001b[39;49m\u001b[38;5;124;43m'\u001b[39;49m\u001b[43m]\u001b[49m\u001b[43m,\u001b[49m\u001b[43m \u001b[49m\u001b[43mrm_wm\u001b[49m\u001b[38;5;241;43m=\u001b[39;49m\u001b[38;5;28;43;01mFalse\u001b[39;49;00m\u001b[43m,\u001b[49m\u001b[43m \u001b[49m\u001b[43mhemi\u001b[49m\u001b[38;5;241;43m=\u001b[39;49m\u001b[38;5;124;43m'\u001b[39;49m\u001b[38;5;124;43mboth\u001b[39;49m\u001b[38;5;124;43m'\u001b[39;49m\u001b[43m,\u001b[49m\u001b[43m \u001b[49m\u001b[43mcolor\u001b[49m\u001b[38;5;241;43m=\u001b[39;49m\u001b[43m(\u001b[49m\u001b[38;5;241;43m1\u001b[39;49m\u001b[43m,\u001b[49m\u001b[38;5;241;43m1\u001b[39;49m\u001b[43m,\u001b[49m\u001b[38;5;241;43m0\u001b[39;49m\u001b[43m)\u001b[49m\u001b[43m,\u001b[49m\u001b[43m \u001b[49m\u001b[43msize\u001b[49m\u001b[38;5;241;43m=\u001b[39;49m\u001b[38;5;241;43m0.35\u001b[39;49m\u001b[43m,\u001b[49m\u001b[43m \u001b[49m\u001b[43mtransparency\u001b[49m\u001b[38;5;241;43m=\u001b[39;49m\u001b[38;5;241;43m0.4\u001b[39;49m\u001b[43m,\u001b[49m\u001b[43m \u001b[49m\u001b[43mlabel_every\u001b[49m\u001b[38;5;241;43m=\u001b[39;49m\u001b[38;5;241;43m1\u001b[39;49m\u001b[43m)\u001b[49m\n",
            "File \u001b[1;32m~\\Desktop\\GlobalLocal\\IEEG_Pipelines\\ieeg\\viz\\mri.py:370\u001b[0m, in \u001b[0;36mplot_on_average\u001b[1;34m(sigs, subj_dir, rm_wm, picks, surface, hemi, color, size, fig, label_every, background, units, transparency, average, show)\u001b[0m\n\u001b[0;32m    367\u001b[0m default_c \u001b[38;5;241m=\u001b[39m parula\u001b[38;5;241m.\u001b[39mmat_colors\u001b[38;5;241m.\u001b[39mcopy()\n\u001b[0;32m    368\u001b[0m \u001b[38;5;28;01mfor\u001b[39;00m subj, new \u001b[38;5;129;01min\u001b[39;00m sigs\u001b[38;5;241m.\u001b[39mitems():\n\u001b[1;32m--> 370\u001b[0m     to_fsaverage \u001b[38;5;241m=\u001b[39m \u001b[43mmne\u001b[49m\u001b[38;5;241;43m.\u001b[39;49m\u001b[43mread_talxfm\u001b[49m\u001b[43m(\u001b[49m\u001b[43msubj\u001b[49m\u001b[43m,\u001b[49m\u001b[43m \u001b[49m\u001b[43msubj_dir\u001b[49m\u001b[43m)\u001b[49m\n\u001b[0;32m    371\u001b[0m     \u001b[38;5;28;01mif\u001b[39;00m average \u001b[38;5;241m==\u001b[39m \u001b[38;5;124m'\u001b[39m\u001b[38;5;124mfsaverage\u001b[39m\u001b[38;5;124m'\u001b[39m:\n\u001b[0;32m    372\u001b[0m         trans \u001b[38;5;241m=\u001b[39m mne\u001b[38;5;241m.\u001b[39mtransforms\u001b[38;5;241m.\u001b[39mTransform(fro\u001b[38;5;241m=\u001b[39m\u001b[38;5;124m'\u001b[39m\u001b[38;5;124mhead\u001b[39m\u001b[38;5;124m'\u001b[39m, to\u001b[38;5;241m=\u001b[39m\u001b[38;5;124m'\u001b[39m\u001b[38;5;124mmri\u001b[39m\u001b[38;5;124m'\u001b[39m,\n\u001b[0;32m    373\u001b[0m                                          trans\u001b[38;5;241m=\u001b[39mto_fsaverage[\u001b[38;5;124m'\u001b[39m\u001b[38;5;124mtrans\u001b[39m\u001b[38;5;124m'\u001b[39m])\n",
            "File \u001b[1;32m<decorator-gen-72>:12\u001b[0m, in \u001b[0;36mread_talxfm\u001b[1;34m(subject, subjects_dir, verbose)\u001b[0m\n",
            "File \u001b[1;32mc:\\Users\\jz421\\AppData\\Local\\anaconda3\\envs\\ieeg\\Lib\\site-packages\\mne\\_freesurfer.py:583\u001b[0m, in \u001b[0;36mread_talxfm\u001b[1;34m(subject, subjects_dir, verbose)\u001b[0m\n\u001b[0;32m    581\u001b[0m subjects_dir \u001b[38;5;241m=\u001b[39m get_subjects_dir(subjects_dir)\n\u001b[0;32m    582\u001b[0m \u001b[38;5;66;03m# Setup the RAS to MNI transform\u001b[39;00m\n\u001b[1;32m--> 583\u001b[0m ras_mni_t \u001b[38;5;241m=\u001b[39m \u001b[43mread_ras_mni_t\u001b[49m\u001b[43m(\u001b[49m\u001b[43msubject\u001b[49m\u001b[43m,\u001b[49m\u001b[43m \u001b[49m\u001b[43msubjects_dir\u001b[49m\u001b[43m)\u001b[49m\n\u001b[0;32m    584\u001b[0m ras_mni_t[\u001b[38;5;124m\"\u001b[39m\u001b[38;5;124mtrans\u001b[39m\u001b[38;5;124m\"\u001b[39m][:\u001b[38;5;241m3\u001b[39m, \u001b[38;5;241m3\u001b[39m] \u001b[38;5;241m/\u001b[39m\u001b[38;5;241m=\u001b[39m \u001b[38;5;241m1000.0\u001b[39m  \u001b[38;5;66;03m# mm->m\u001b[39;00m\n\u001b[0;32m    586\u001b[0m \u001b[38;5;66;03m# We want to get from Freesurfer surface RAS ('mri') to MNI ('mni_tal').\u001b[39;00m\n\u001b[0;32m    587\u001b[0m \u001b[38;5;66;03m# This file only gives us RAS (non-zero origin) ('ras') to MNI ('mni_tal').\u001b[39;00m\n\u001b[0;32m    588\u001b[0m \u001b[38;5;66;03m# Se we need to get the ras->mri transform from the MRI headers.\u001b[39;00m\n\u001b[0;32m    589\u001b[0m \n\u001b[0;32m    590\u001b[0m \u001b[38;5;66;03m# To do this, we get Norig and Torig\u001b[39;00m\n\u001b[0;32m    591\u001b[0m \u001b[38;5;66;03m# (i.e. vox_ras_t and vox_mri_t, respectively)\u001b[39;00m\n",
            "File \u001b[1;32mc:\\Users\\jz421\\AppData\\Local\\anaconda3\\envs\\ieeg\\Lib\\site-packages\\mne\\transforms.py:1555\u001b[0m, in \u001b[0;36mread_ras_mni_t\u001b[1;34m(subject, subjects_dir)\u001b[0m\n\u001b[0;32m   1552\u001b[0m _validate_type(subject, \u001b[38;5;124m\"\u001b[39m\u001b[38;5;124mstr\u001b[39m\u001b[38;5;124m\"\u001b[39m, \u001b[38;5;124m\"\u001b[39m\u001b[38;5;124msubject\u001b[39m\u001b[38;5;124m\"\u001b[39m)\n\u001b[0;32m   1553\u001b[0m fname \u001b[38;5;241m=\u001b[39m subjects_dir \u001b[38;5;241m/\u001b[39m subject \u001b[38;5;241m/\u001b[39m \u001b[38;5;124m\"\u001b[39m\u001b[38;5;124mmri\u001b[39m\u001b[38;5;124m\"\u001b[39m \u001b[38;5;241m/\u001b[39m \u001b[38;5;124m\"\u001b[39m\u001b[38;5;124mtransforms\u001b[39m\u001b[38;5;124m\"\u001b[39m \u001b[38;5;241m/\u001b[39m \u001b[38;5;124m\"\u001b[39m\u001b[38;5;124mtalairach.xfm\u001b[39m\u001b[38;5;124m\"\u001b[39m\n\u001b[0;32m   1554\u001b[0m fname \u001b[38;5;241m=\u001b[39m \u001b[38;5;28mstr\u001b[39m(\n\u001b[1;32m-> 1555\u001b[0m     \u001b[43m_check_fname\u001b[49m\u001b[43m(\u001b[49m\n\u001b[0;32m   1556\u001b[0m \u001b[43m        \u001b[49m\u001b[43mfname\u001b[49m\u001b[43m,\u001b[49m\n\u001b[0;32m   1557\u001b[0m \u001b[43m        \u001b[49m\u001b[38;5;124;43m\"\u001b[39;49m\u001b[38;5;124;43mread\u001b[39;49m\u001b[38;5;124;43m\"\u001b[39;49m\u001b[43m,\u001b[49m\n\u001b[0;32m   1558\u001b[0m \u001b[43m        \u001b[49m\u001b[38;5;28;43;01mTrue\u001b[39;49;00m\u001b[43m,\u001b[49m\n\u001b[0;32m   1559\u001b[0m \u001b[43m        \u001b[49m\u001b[38;5;124;43m\"\u001b[39;49m\u001b[38;5;124;43mFreeSurfer Talairach transformation file\u001b[39;49m\u001b[38;5;124;43m\"\u001b[39;49m\u001b[43m,\u001b[49m\n\u001b[0;32m   1560\u001b[0m \u001b[43m    \u001b[49m\u001b[43m)\u001b[49m\n\u001b[0;32m   1561\u001b[0m )\n\u001b[0;32m   1562\u001b[0m \u001b[38;5;28;01mreturn\u001b[39;00m Transform(\u001b[38;5;124m\"\u001b[39m\u001b[38;5;124mras\u001b[39m\u001b[38;5;124m\"\u001b[39m, \u001b[38;5;124m\"\u001b[39m\u001b[38;5;124mmni_tal\u001b[39m\u001b[38;5;124m\"\u001b[39m, _read_fs_xfm(fname)[\u001b[38;5;241m0\u001b[39m])\n",
            "File \u001b[1;32m<decorator-gen-0>:12\u001b[0m, in \u001b[0;36m_check_fname\u001b[1;34m(fname, overwrite, must_exist, name, need_dir, check_bids_split, verbose)\u001b[0m\n",
            "File \u001b[1;32mc:\\Users\\jz421\\AppData\\Local\\anaconda3\\envs\\ieeg\\Lib\\site-packages\\mne\\utils\\check.py:252\u001b[0m, in \u001b[0;36m_check_fname\u001b[1;34m(fname, overwrite, must_exist, name, need_dir, check_bids_split, verbose)\u001b[0m\n\u001b[0;32m    249\u001b[0m fname \u001b[38;5;241m=\u001b[39m fname_path\u001b[38;5;241m.\u001b[39mexpanduser()\u001b[38;5;241m.\u001b[39mabsolute()\n\u001b[0;32m    250\u001b[0m \u001b[38;5;28;01mdel\u001b[39;00m fname_path\n\u001b[1;32m--> 252\u001b[0m \u001b[38;5;28;01mif\u001b[39;00m \u001b[43mfname\u001b[49m\u001b[38;5;241;43m.\u001b[39;49m\u001b[43mexists\u001b[49m\u001b[43m(\u001b[49m\u001b[43m)\u001b[49m:\n\u001b[0;32m    253\u001b[0m     \u001b[38;5;28;01mif\u001b[39;00m \u001b[38;5;129;01mnot\u001b[39;00m overwrite:\n\u001b[0;32m    254\u001b[0m         \u001b[38;5;28;01mraise\u001b[39;00m \u001b[38;5;167;01mFileExistsError\u001b[39;00m(\n\u001b[0;32m    255\u001b[0m             \u001b[38;5;124m\"\u001b[39m\u001b[38;5;124mDestination file exists. Please use option \u001b[39m\u001b[38;5;124m\"\u001b[39m\n\u001b[0;32m    256\u001b[0m             \u001b[38;5;124m'\u001b[39m\u001b[38;5;124m\"\u001b[39m\u001b[38;5;124moverwrite=True\u001b[39m\u001b[38;5;124m\"\u001b[39m\u001b[38;5;124m to force overwriting.\u001b[39m\u001b[38;5;124m'\u001b[39m\n\u001b[0;32m    257\u001b[0m         )\n",
            "File \u001b[1;32mc:\\Users\\jz421\\AppData\\Local\\anaconda3\\envs\\ieeg\\Lib\\pathlib.py:1235\u001b[0m, in \u001b[0;36mPath.exists\u001b[1;34m(self)\u001b[0m\n\u001b[0;32m   1231\u001b[0m \u001b[38;5;250m\u001b[39m\u001b[38;5;124;03m\"\"\"\u001b[39;00m\n\u001b[0;32m   1232\u001b[0m \u001b[38;5;124;03mWhether this path exists.\u001b[39;00m\n\u001b[0;32m   1233\u001b[0m \u001b[38;5;124;03m\"\"\"\u001b[39;00m\n\u001b[0;32m   1234\u001b[0m \u001b[38;5;28;01mtry\u001b[39;00m:\n\u001b[1;32m-> 1235\u001b[0m     \u001b[38;5;28;43mself\u001b[39;49m\u001b[38;5;241;43m.\u001b[39;49m\u001b[43mstat\u001b[49m\u001b[43m(\u001b[49m\u001b[43m)\u001b[49m\n\u001b[0;32m   1236\u001b[0m \u001b[38;5;28;01mexcept\u001b[39;00m \u001b[38;5;167;01mOSError\u001b[39;00m \u001b[38;5;28;01mas\u001b[39;00m e:\n\u001b[0;32m   1237\u001b[0m     \u001b[38;5;28;01mif\u001b[39;00m \u001b[38;5;129;01mnot\u001b[39;00m _ignore_error(e):\n",
            "File \u001b[1;32mc:\\Users\\jz421\\AppData\\Local\\anaconda3\\envs\\ieeg\\Lib\\pathlib.py:1013\u001b[0m, in \u001b[0;36mPath.stat\u001b[1;34m(self, follow_symlinks)\u001b[0m\n\u001b[0;32m   1008\u001b[0m \u001b[38;5;28;01mdef\u001b[39;00m \u001b[38;5;21mstat\u001b[39m(\u001b[38;5;28mself\u001b[39m, \u001b[38;5;241m*\u001b[39m, follow_symlinks\u001b[38;5;241m=\u001b[39m\u001b[38;5;28;01mTrue\u001b[39;00m):\n\u001b[0;32m   1009\u001b[0m \u001b[38;5;250m    \u001b[39m\u001b[38;5;124;03m\"\"\"\u001b[39;00m\n\u001b[0;32m   1010\u001b[0m \u001b[38;5;124;03m    Return the result of the stat() system call on this path, like\u001b[39;00m\n\u001b[0;32m   1011\u001b[0m \u001b[38;5;124;03m    os.stat() does.\u001b[39;00m\n\u001b[0;32m   1012\u001b[0m \u001b[38;5;124;03m    \"\"\"\u001b[39;00m\n\u001b[1;32m-> 1013\u001b[0m     \u001b[38;5;28;01mreturn\u001b[39;00m os\u001b[38;5;241m.\u001b[39mstat(\u001b[38;5;28mself\u001b[39m, follow_symlinks\u001b[38;5;241m=\u001b[39mfollow_symlinks)\n",
            "\u001b[1;31mOSError\u001b[0m: [WinError 1006] The volume for a file has been externally altered so that the opened file is no longer valid: 'C:\\\\Users\\\\jz421\\\\Box\\\\ECoG_Recon\\\\D59\\\\mri\\\\transforms\\\\talairach.xfm'"
          ]
        }
      ],
      "source": [
        "fig = plot_on_average(subjects, picks=['D57-RAI6'], rm_wm=False, hemi='both', color=(1,1,0), size=0.35, transparency=0.4, label_every=1)"
      ]
    },
    {
      "cell_type": "markdown",
      "metadata": {},
      "source": [
        "plot all lpfc sig electrodes"
      ]
    },
    {
      "cell_type": "code",
      "execution_count": 14,
      "metadata": {},
      "outputs": [
        {
          "name": "stdout",
          "output_type": "stream",
          "text": [
            "Using pyvistaqt 3d backend.\n"
          ]
        },
        {
          "name": "stderr",
          "output_type": "stream",
          "text": [
            "C:\\Users\\jz421\\Desktop\\GlobalLocal\\IEEG_Pipelines\\ieeg\\viz\\mri.py:822: RuntimeWarning: Fiducial point lpa not found, assuming identity RAS (non-zero origin) to head transformation\n",
            "  info.set_montage(montage)\n",
            "C:\\Users\\jz421\\Desktop\\GlobalLocal\\IEEG_Pipelines\\ieeg\\viz\\mri.py:822: RuntimeWarning: Fiducial point lpa not found, assuming identity RAS (non-zero origin) to head transformation\n",
            "  info.set_montage(montage)\n",
            "C:\\Users\\jz421\\Desktop\\GlobalLocal\\IEEG_Pipelines\\ieeg\\viz\\mri.py:822: RuntimeWarning: Fiducial point lpa not found, assuming identity RAS (non-zero origin) to head transformation\n",
            "  info.set_montage(montage)\n",
            "C:\\Users\\jz421\\Desktop\\GlobalLocal\\IEEG_Pipelines\\ieeg\\viz\\mri.py:822: RuntimeWarning: Fiducial point lpa not found, assuming identity RAS (non-zero origin) to head transformation\n",
            "  info.set_montage(montage)\n",
            "C:\\Users\\jz421\\Desktop\\GlobalLocal\\IEEG_Pipelines\\ieeg\\viz\\mri.py:822: RuntimeWarning: Fiducial point lpa not found, assuming identity RAS (non-zero origin) to head transformation\n",
            "  info.set_montage(montage)\n",
            "C:\\Users\\jz421\\Desktop\\GlobalLocal\\IEEG_Pipelines\\ieeg\\viz\\mri.py:822: RuntimeWarning: Fiducial point lpa not found, assuming identity RAS (non-zero origin) to head transformation\n",
            "  info.set_montage(montage)\n",
            "C:\\Users\\jz421\\Desktop\\GlobalLocal\\IEEG_Pipelines\\ieeg\\viz\\mri.py:822: RuntimeWarning: Fiducial point lpa not found, assuming identity RAS (non-zero origin) to head transformation\n",
            "  info.set_montage(montage)\n",
            "C:\\Users\\jz421\\Desktop\\GlobalLocal\\IEEG_Pipelines\\ieeg\\viz\\mri.py:822: RuntimeWarning: Fiducial point lpa not found, assuming identity RAS (non-zero origin) to head transformation\n",
            "  info.set_montage(montage)\n",
            "C:\\Users\\jz421\\Desktop\\GlobalLocal\\IEEG_Pipelines\\ieeg\\viz\\mri.py:822: RuntimeWarning: Fiducial point lpa not found, assuming identity RAS (non-zero origin) to head transformation\n",
            "  info.set_montage(montage)\n",
            "C:\\Users\\jz421\\Desktop\\GlobalLocal\\IEEG_Pipelines\\ieeg\\viz\\mri.py:822: RuntimeWarning: Fiducial point lpa not found, assuming identity RAS (non-zero origin) to head transformation\n",
            "  info.set_montage(montage)\n",
            "C:\\Users\\jz421\\Desktop\\GlobalLocal\\IEEG_Pipelines\\ieeg\\viz\\mri.py:822: RuntimeWarning: Fiducial point lpa not found, assuming identity RAS (non-zero origin) to head transformation\n",
            "  info.set_montage(montage)\n",
            "C:\\Users\\jz421\\Desktop\\GlobalLocal\\IEEG_Pipelines\\ieeg\\viz\\mri.py:822: RuntimeWarning: Fiducial point lpa not found, assuming identity RAS (non-zero origin) to head transformation\n",
            "  info.set_montage(montage)\n",
            "C:\\Users\\jz421\\Desktop\\GlobalLocal\\IEEG_Pipelines\\ieeg\\viz\\mri.py:822: RuntimeWarning: Fiducial point lpa not found, assuming identity RAS (non-zero origin) to head transformation\n",
            "  info.set_montage(montage)\n",
            "C:\\Users\\jz421\\Desktop\\GlobalLocal\\IEEG_Pipelines\\ieeg\\viz\\mri.py:822: RuntimeWarning: Fiducial point lpa not found, assuming identity RAS (non-zero origin) to head transformation\n",
            "  info.set_montage(montage)\n"
          ]
        }
      ],
      "source": [
        "fig = plot_on_average(subjects, picks=plottable_sig_electrodes_per_subject_roi, rm_wm=False, hemi='both', color=(1,1,0), size=0.45, transparency=0.4)"
      ]
    },
    {
      "cell_type": "code",
      "execution_count": 16,
      "metadata": {},
      "outputs": [
        {
          "name": "stderr",
          "output_type": "stream",
          "text": [
            "C:\\Users\\jz421\\Desktop\\GlobalLocal\\IEEG_Pipelines\\ieeg\\viz\\mri.py:822: RuntimeWarning: Fiducial point lpa not found, assuming identity RAS (non-zero origin) to head transformation\n",
            "  info.set_montage(montage)\n",
            "C:\\Users\\jz421\\Desktop\\GlobalLocal\\IEEG_Pipelines\\ieeg\\viz\\mri.py:822: RuntimeWarning: Fiducial point lpa not found, assuming identity RAS (non-zero origin) to head transformation\n",
            "  info.set_montage(montage)\n",
            "C:\\Users\\jz421\\Desktop\\GlobalLocal\\IEEG_Pipelines\\ieeg\\viz\\mri.py:822: RuntimeWarning: Fiducial point lpa not found, assuming identity RAS (non-zero origin) to head transformation\n",
            "  info.set_montage(montage)\n",
            "C:\\Users\\jz421\\Desktop\\GlobalLocal\\IEEG_Pipelines\\ieeg\\viz\\mri.py:822: RuntimeWarning: Fiducial point lpa not found, assuming identity RAS (non-zero origin) to head transformation\n",
            "  info.set_montage(montage)\n",
            "C:\\Users\\jz421\\Desktop\\GlobalLocal\\IEEG_Pipelines\\ieeg\\viz\\mri.py:822: RuntimeWarning: Fiducial point lpa not found, assuming identity RAS (non-zero origin) to head transformation\n",
            "  info.set_montage(montage)\n",
            "C:\\Users\\jz421\\Desktop\\GlobalLocal\\IEEG_Pipelines\\ieeg\\viz\\mri.py:822: RuntimeWarning: Fiducial point lpa not found, assuming identity RAS (non-zero origin) to head transformation\n",
            "  info.set_montage(montage)\n",
            "C:\\Users\\jz421\\Desktop\\GlobalLocal\\IEEG_Pipelines\\ieeg\\viz\\mri.py:822: RuntimeWarning: Fiducial point lpa not found, assuming identity RAS (non-zero origin) to head transformation\n",
            "  info.set_montage(montage)\n",
            "C:\\Users\\jz421\\Desktop\\GlobalLocal\\IEEG_Pipelines\\ieeg\\viz\\mri.py:822: RuntimeWarning: Fiducial point lpa not found, assuming identity RAS (non-zero origin) to head transformation\n",
            "  info.set_montage(montage)\n",
            "C:\\Users\\jz421\\Desktop\\GlobalLocal\\IEEG_Pipelines\\ieeg\\viz\\mri.py:822: RuntimeWarning: Fiducial point lpa not found, assuming identity RAS (non-zero origin) to head transformation\n",
            "  info.set_montage(montage)\n",
            "C:\\Users\\jz421\\Desktop\\GlobalLocal\\IEEG_Pipelines\\ieeg\\viz\\mri.py:822: RuntimeWarning: Fiducial point lpa not found, assuming identity RAS (non-zero origin) to head transformation\n",
            "  info.set_montage(montage)\n",
            "C:\\Users\\jz421\\Desktop\\GlobalLocal\\IEEG_Pipelines\\ieeg\\viz\\mri.py:822: RuntimeWarning: Fiducial point lpa not found, assuming identity RAS (non-zero origin) to head transformation\n",
            "  info.set_montage(montage)\n",
            "C:\\Users\\jz421\\Desktop\\GlobalLocal\\IEEG_Pipelines\\ieeg\\viz\\mri.py:822: RuntimeWarning: Fiducial point lpa not found, assuming identity RAS (non-zero origin) to head transformation\n",
            "  info.set_montage(montage)\n",
            "C:\\Users\\jz421\\Desktop\\GlobalLocal\\IEEG_Pipelines\\ieeg\\viz\\mri.py:822: RuntimeWarning: Fiducial point lpa not found, assuming identity RAS (non-zero origin) to head transformation\n",
            "  info.set_montage(montage)\n",
            "C:\\Users\\jz421\\Desktop\\GlobalLocal\\IEEG_Pipelines\\ieeg\\viz\\mri.py:822: RuntimeWarning: Fiducial point lpa not found, assuming identity RAS (non-zero origin) to head transformation\n",
            "  info.set_montage(montage)\n"
          ]
        }
      ],
      "source": [
        "fig = plot_on_average(subjects, picks=plottable_all_electrodes_per_subject_roi, rm_wm=False, hemi='both', color=(0,0.5,0), size=0.45, transparency=0.4)"
      ]
    },
    {
      "cell_type": "code",
      "execution_count": null,
      "metadata": {},
      "outputs": [],
      "source": [
        "plot_on_average(picks=plottable_all_electrodes_per_subject_roi, hemi='both', color=(1,0.5,0))"
      ]
    },
    {
      "cell_type": "markdown",
      "metadata": {},
      "source": [
        "### plot all significant electrodes on average brain"
      ]
    },
    {
      "cell_type": "code",
      "execution_count": null,
      "metadata": {},
      "outputs": [
        {
          "name": "stdout",
          "output_type": "stream",
          "text": [
            "{'derivatives/clean': BIDS Layout: ...alLocal\\BIDS\\derivatives\\clean | Subjects: 17 | Sessions: 0 | Runs: 65}\n",
            "KeysView({'derivatives/clean': BIDS Layout: ...alLocal\\BIDS\\derivatives\\clean | Subjects: 17 | Sessions: 0 | Runs: 65})\n",
            "Loaded significant channels for subject D0057\n",
            "Loaded significant channels for subject D0059\n",
            "Loaded significant channels for subject D0063\n"
          ]
        },
        {
          "name": "stderr",
          "output_type": "stream",
          "text": [
            "C:\\Users\\jz421\\Desktop\\GlobalLocal\\IEEG_Pipelines\\ieeg\\viz\\mri.py:872: RuntimeWarning: Fiducial point lpa not found, assuming identity RAS (non-zero origin) to head transformation\n",
            "  info.set_montage(montage)\n",
            "C:\\Users\\jz421\\Desktop\\GlobalLocal\\IEEG_Pipelines\\ieeg\\viz\\mri.py:872: RuntimeWarning: Fiducial point lpa not found, assuming identity RAS (non-zero origin) to head transformation\n",
            "  info.set_montage(montage)\n",
            "C:\\Users\\jz421\\Desktop\\GlobalLocal\\IEEG_Pipelines\\ieeg\\viz\\mri.py:872: RuntimeWarning: Fiducial point lpa not found, assuming identity RAS (non-zero origin) to head transformation\n",
            "  info.set_montage(montage)\n"
          ]
        },
        {
          "name": "stdout",
          "output_type": "stream",
          "text": [
            "Loaded significant channels for subject D0065\n",
            "Loaded significant channels for subject D0069\n",
            "Loaded significant channels for subject D0071\n",
            "Loaded significant channels for subject D0077\n"
          ]
        },
        {
          "name": "stderr",
          "output_type": "stream",
          "text": [
            "C:\\Users\\jz421\\Desktop\\GlobalLocal\\IEEG_Pipelines\\ieeg\\viz\\mri.py:872: RuntimeWarning: Fiducial point lpa not found, assuming identity RAS (non-zero origin) to head transformation\n",
            "  info.set_montage(montage)\n",
            "C:\\Users\\jz421\\Desktop\\GlobalLocal\\IEEG_Pipelines\\ieeg\\viz\\mri.py:872: RuntimeWarning: Fiducial point lpa not found, assuming identity RAS (non-zero origin) to head transformation\n",
            "  info.set_montage(montage)\n",
            "C:\\Users\\jz421\\Desktop\\GlobalLocal\\IEEG_Pipelines\\ieeg\\viz\\mri.py:872: RuntimeWarning: Fiducial point lpa not found, assuming identity RAS (non-zero origin) to head transformation\n",
            "  info.set_montage(montage)\n",
            "C:\\Users\\jz421\\Desktop\\GlobalLocal\\IEEG_Pipelines\\ieeg\\viz\\mri.py:872: RuntimeWarning: Fiducial point lpa not found, assuming identity RAS (non-zero origin) to head transformation\n",
            "  info.set_montage(montage)\n"
          ]
        },
        {
          "name": "stdout",
          "output_type": "stream",
          "text": [
            "Loaded significant channels for subject D0090\n",
            "Loaded significant channels for subject D0094\n"
          ]
        },
        {
          "name": "stderr",
          "output_type": "stream",
          "text": [
            "C:\\Users\\jz421\\Desktop\\GlobalLocal\\IEEG_Pipelines\\ieeg\\viz\\mri.py:872: RuntimeWarning: Fiducial point lpa not found, assuming identity RAS (non-zero origin) to head transformation\n",
            "  info.set_montage(montage)\n",
            "C:\\Users\\jz421\\Desktop\\GlobalLocal\\IEEG_Pipelines\\ieeg\\viz\\mri.py:872: RuntimeWarning: Fiducial point lpa not found, assuming identity RAS (non-zero origin) to head transformation\n",
            "  info.set_montage(montage)\n",
            "C:\\Users\\jz421\\Desktop\\GlobalLocal\\IEEG_Pipelines\\ieeg\\viz\\mri.py:872: RuntimeWarning: Fiducial point lpa not found, assuming identity RAS (non-zero origin) to head transformation\n",
            "  info.set_montage(montage)\n"
          ]
        },
        {
          "name": "stdout",
          "output_type": "stream",
          "text": [
            "Loaded significant channels for subject D0100\n",
            "Loaded significant channels for subject D0102\n"
          ]
        },
        {
          "name": "stderr",
          "output_type": "stream",
          "text": [
            "C:\\Users\\jz421\\Desktop\\GlobalLocal\\IEEG_Pipelines\\ieeg\\viz\\mri.py:872: RuntimeWarning: Fiducial point lpa not found, assuming identity RAS (non-zero origin) to head transformation\n",
            "  info.set_montage(montage)\n"
          ]
        },
        {
          "name": "stdout",
          "output_type": "stream",
          "text": [
            "Loaded significant channels for subject D0103\n",
            "Loaded significant channels for subject D0110\n"
          ]
        },
        {
          "name": "stderr",
          "output_type": "stream",
          "text": [
            "C:\\Users\\jz421\\Desktop\\GlobalLocal\\IEEG_Pipelines\\ieeg\\viz\\mri.py:872: RuntimeWarning: Fiducial point lpa not found, assuming identity RAS (non-zero origin) to head transformation\n",
            "  info.set_montage(montage)\n",
            "C:\\Users\\jz421\\Desktop\\GlobalLocal\\IEEG_Pipelines\\ieeg\\viz\\mri.py:872: RuntimeWarning: Fiducial point lpa not found, assuming identity RAS (non-zero origin) to head transformation\n",
            "  info.set_montage(montage)\n",
            "C:\\Users\\jz421\\Desktop\\GlobalLocal\\IEEG_Pipelines\\ieeg\\viz\\mri.py:872: RuntimeWarning: Fiducial point lpa not found, assuming identity RAS (non-zero origin) to head transformation\n",
            "  info.set_montage(montage)\n",
            "C:\\Users\\jz421\\Desktop\\GlobalLocal\\IEEG_Pipelines\\ieeg\\viz\\mri.py:872: RuntimeWarning: Fiducial point lpa not found, assuming identity RAS (non-zero origin) to head transformation\n",
            "  info.set_montage(montage)\n",
            "C:\\Users\\jz421\\Desktop\\GlobalLocal\\IEEG_Pipelines\\ieeg\\viz\\mri.py:872: RuntimeWarning: Fiducial point lpa not found, assuming identity RAS (non-zero origin) to head transformation\n",
            "  info.set_montage(montage)\n",
            "C:\\Users\\jz421\\Desktop\\GlobalLocal\\IEEG_Pipelines\\ieeg\\viz\\mri.py:872: RuntimeWarning: Fiducial point lpa not found, assuming identity RAS (non-zero origin) to head transformation\n",
            "  info.set_montage(montage)\n",
            "C:\\Users\\jz421\\Desktop\\GlobalLocal\\IEEG_Pipelines\\ieeg\\viz\\mri.py:872: RuntimeWarning: Fiducial point lpa not found, assuming identity RAS (non-zero origin) to head transformation\n",
            "  info.set_montage(montage)\n",
            "C:\\Users\\jz421\\Desktop\\GlobalLocal\\IEEG_Pipelines\\ieeg\\viz\\mri.py:872: RuntimeWarning: Fiducial point lpa not found, assuming identity RAS (non-zero origin) to head transformation\n",
            "  info.set_montage(montage)\n",
            "C:\\Users\\jz421\\Desktop\\GlobalLocal\\IEEG_Pipelines\\ieeg\\viz\\mri.py:872: RuntimeWarning: Fiducial point lpa not found, assuming identity RAS (non-zero origin) to head transformation\n",
            "  info.set_montage(montage)\n",
            "C:\\Users\\jz421\\Desktop\\GlobalLocal\\IEEG_Pipelines\\ieeg\\viz\\mri.py:872: RuntimeWarning: Fiducial point lpa not found, assuming identity RAS (non-zero origin) to head transformation\n",
            "  info.set_montage(montage)\n",
            "C:\\Users\\jz421\\Desktop\\GlobalLocal\\IEEG_Pipelines\\ieeg\\viz\\mri.py:872: RuntimeWarning: Fiducial point lpa not found, assuming identity RAS (non-zero origin) to head transformation\n",
            "  info.set_montage(montage)\n",
            "C:\\Users\\jz421\\Desktop\\GlobalLocal\\IEEG_Pipelines\\ieeg\\viz\\mri.py:872: RuntimeWarning: Fiducial point lpa not found, assuming identity RAS (non-zero origin) to head transformation\n",
            "  info.set_montage(montage)\n",
            "C:\\Users\\jz421\\Desktop\\GlobalLocal\\IEEG_Pipelines\\ieeg\\viz\\mri.py:872: RuntimeWarning: Fiducial point lpa not found, assuming identity RAS (non-zero origin) to head transformation\n",
            "  info.set_montage(montage)\n",
            "C:\\Users\\jz421\\Desktop\\GlobalLocal\\IEEG_Pipelines\\ieeg\\viz\\mri.py:872: RuntimeWarning: Fiducial point lpa not found, assuming identity RAS (non-zero origin) to head transformation\n",
            "  info.set_montage(montage)\n",
            "C:\\Users\\jz421\\Desktop\\GlobalLocal\\IEEG_Pipelines\\ieeg\\viz\\mri.py:872: RuntimeWarning: Fiducial point lpa not found, assuming identity RAS (non-zero origin) to head transformation\n",
            "  info.set_montage(montage)\n"
          ]
        },
        {
          "data": {
            "text/plain": [
              "<mne.viz._brain._brain.Brain at 0x23c8c5b8c50>"
            ]
          },
          "execution_count": 31,
          "metadata": {},
          "output_type": "execute_result"
        }
      ],
      "source": [
        "# grab all of the significant electrodes, and put them into one list, and then run plot_on_average\n",
        "\n",
        "HOME = os.path.expanduser(\"~\")\n",
        "\n",
        "# get box directory depending on OS\n",
        "if os.name == 'nt': # windows\n",
        "    LAB_root = os.path.join(HOME, \"Box\", \"CoganLab\")\n",
        "else: # mac\n",
        "    LAB_root = os.path.join(HOME, \"Library\", \"CloudStorage\", \"Box-Box\", \"CoganLab\")\n",
        "\n",
        "layout = get_data(\"GlobalLocal\", root=LAB_root)\n",
        "\n",
        "epochs_root_file = \"Stimulus_0.5sec_within1sec_randoffset_preStimulusBase_decFactor_8_outliers_10_passband_70.0-150.0_padLength_0.5s_stat_func_ttest_ind\"\n",
        "print(layout.derivatives)\n",
        "print(layout.derivatives.keys())\n",
        "\n",
        "base_path = os.path.join(LAB_root, \"BIDS-1.1_GlobalLocal\", \"BIDS\", \"derivatives\", \"freqFilt\", \"figs\")\n",
        "\n",
        "# subjects = layout.get(return_type=\"id\", target=\"subject\")\n",
        "subjects_without_zeroes = [\"D\" + subj[1:].lstrip('0') for subj in subjects]\n",
        "\n",
        "allSigElectrodes = {}  # Initialize as an empty dictionary\n",
        "allElectrodes = {}\n",
        "\n",
        "for subj in subjects:\n",
        "    \n",
        "    filename = f'{base_path}\\\\{subj}\\\\sig_chans_{subj}_{epochs_root_file}.json'\n",
        "    sig_chans = load_sig_chans(filename)\n",
        "\n",
        "    # Add them to the dictionary, tagged with the subject without zeroes\n",
        "    subj_without_zeroes = \"D\" + subj[1:].lstrip('0')\n",
        "    allSigElectrodes[subj_without_zeroes] = sig_chans\n",
        "\n",
        "    # Get all electrodes for this subject and add them to the allElectrodes dict\n",
        "    info = subject_to_info(subj_without_zeroes)\n",
        "    allSubjElectrodes = mne.pick_channels(info.ch_names, [])\n",
        "    allElectrodes[subj_without_zeroes] = allSubjElectrodes\n",
        "\n",
        "picks = [f'D{k[1:].zfill(4)}-{v}' for k in allSigElectrodes.keys() for v in allSigElectrodes[k]]\n",
        "# sinfos = [subject_to_info(f'D{int(subj[1:])}') for subj in subjects]\n",
        "\n",
        "plot_on_average(allSigElectrodes, hemi='both', color=(1,1,0), size=0.35)\n",
        "# plot_on_average(allElectrodes, hemi='both', color=(0,0.5,0), size=0.35)"
      ]
    },
    {
      "cell_type": "code",
      "execution_count": null,
      "metadata": {},
      "outputs": [],
      "source": [
        "allSigElectrodes"
      ]
    },
    {
      "cell_type": "markdown",
      "metadata": {},
      "source": [
        "### plot all significant electrodes, then plot all electrodes"
      ]
    },
    {
      "cell_type": "code",
      "execution_count": 50,
      "metadata": {},
      "outputs": [
        {
          "name": "stdout",
          "output_type": "stream",
          "text": [
            "{'derivatives/clean': BIDS Layout: ...alLocal\\BIDS\\derivatives\\clean | Subjects: 12 | Sessions: 0 | Runs: 48}\n",
            "KeysView({'derivatives/clean': BIDS Layout: ...alLocal\\BIDS\\derivatives\\clean | Subjects: 12 | Sessions: 0 | Runs: 48})\n",
            "Loaded significant channels for subject D0057\n",
            "Loaded significant channels for subject D0059\n",
            "Loaded significant channels for subject D0063\n",
            "Loaded significant channels for subject D0065\n",
            "Loaded significant channels for subject D0069\n",
            "Loaded significant channels for subject D0071\n",
            "Loaded significant channels for subject D0077\n",
            "Loaded significant channels for subject D0090\n",
            "Loaded significant channels for subject D0094\n"
          ]
        },
        {
          "name": "stderr",
          "output_type": "stream",
          "text": [
            "C:\\Users\\jz421\\Desktop\\GlobalLocal\\IEEG_Pipelines\\ieeg\\viz\\mri.py:756: RuntimeWarning: Fiducial point lpa not found, assuming identity RAS (non-zero origin) to head transformation\n",
            "  info.set_montage(montage)\n",
            "C:\\Users\\jz421\\Desktop\\GlobalLocal\\IEEG_Pipelines\\ieeg\\viz\\mri.py:756: RuntimeWarning: Fiducial point lpa not found, assuming identity RAS (non-zero origin) to head transformation\n",
            "  info.set_montage(montage)\n",
            "C:\\Users\\jz421\\Desktop\\GlobalLocal\\IEEG_Pipelines\\ieeg\\viz\\mri.py:756: RuntimeWarning: Fiducial point lpa not found, assuming identity RAS (non-zero origin) to head transformation\n",
            "  info.set_montage(montage)\n",
            "C:\\Users\\jz421\\Desktop\\GlobalLocal\\IEEG_Pipelines\\ieeg\\viz\\mri.py:756: RuntimeWarning: Fiducial point lpa not found, assuming identity RAS (non-zero origin) to head transformation\n",
            "  info.set_montage(montage)\n",
            "C:\\Users\\jz421\\Desktop\\GlobalLocal\\IEEG_Pipelines\\ieeg\\viz\\mri.py:756: RuntimeWarning: Fiducial point lpa not found, assuming identity RAS (non-zero origin) to head transformation\n",
            "  info.set_montage(montage)\n",
            "C:\\Users\\jz421\\Desktop\\GlobalLocal\\IEEG_Pipelines\\ieeg\\viz\\mri.py:756: RuntimeWarning: Fiducial point lpa not found, assuming identity RAS (non-zero origin) to head transformation\n",
            "  info.set_montage(montage)\n",
            "C:\\Users\\jz421\\Desktop\\GlobalLocal\\IEEG_Pipelines\\ieeg\\viz\\mri.py:756: RuntimeWarning: Fiducial point lpa not found, assuming identity RAS (non-zero origin) to head transformation\n",
            "  info.set_montage(montage)\n",
            "C:\\Users\\jz421\\Desktop\\GlobalLocal\\IEEG_Pipelines\\ieeg\\viz\\mri.py:756: RuntimeWarning: Fiducial point lpa not found, assuming identity RAS (non-zero origin) to head transformation\n",
            "  info.set_montage(montage)\n",
            "C:\\Users\\jz421\\Desktop\\GlobalLocal\\IEEG_Pipelines\\ieeg\\viz\\mri.py:756: RuntimeWarning: Fiducial point lpa not found, assuming identity RAS (non-zero origin) to head transformation\n",
            "  info.set_montage(montage)\n"
          ]
        },
        {
          "name": "stdout",
          "output_type": "stream",
          "text": [
            "Loaded significant channels for subject D0100\n",
            "Loaded significant channels for subject D0102\n",
            "Loaded significant channels for subject D0103\n"
          ]
        },
        {
          "name": "stderr",
          "output_type": "stream",
          "text": [
            "C:\\Users\\jz421\\Desktop\\GlobalLocal\\IEEG_Pipelines\\ieeg\\viz\\mri.py:756: RuntimeWarning: Fiducial point lpa not found, assuming identity RAS (non-zero origin) to head transformation\n",
            "  info.set_montage(montage)\n",
            "C:\\Users\\jz421\\Desktop\\GlobalLocal\\IEEG_Pipelines\\ieeg\\viz\\mri.py:756: RuntimeWarning: Fiducial point lpa not found, assuming identity RAS (non-zero origin) to head transformation\n",
            "  info.set_montage(montage)\n",
            "C:\\Users\\jz421\\Desktop\\GlobalLocal\\IEEG_Pipelines\\ieeg\\viz\\mri.py:756: RuntimeWarning: Fiducial point lpa not found, assuming identity RAS (non-zero origin) to head transformation\n",
            "  info.set_montage(montage)\n"
          ]
        },
        {
          "ename": "FileNotFoundError",
          "evalue": "[Errno 2] No such file or directory: 'C:\\\\Users\\\\jz421\\\\Box\\\\CoganLab\\\\BIDS-1.1_GlobalLocal\\\\BIDS\\\\derivatives\\\\freqFilt\\\\figs\\\\D0107\\\\sig_chans_D0107_Stimulus_fixationCrossBase_1sec_mirror.json'",
          "output_type": "error",
          "traceback": [
            "\u001b[1;31m---------------------------------------------------------------------------\u001b[0m",
            "\u001b[1;31mFileNotFoundError\u001b[0m                         Traceback (most recent call last)",
            "Cell \u001b[1;32mIn[50], line 35\u001b[0m\n\u001b[0;32m     32\u001b[0m stim_filename \u001b[38;5;241m=\u001b[39m \u001b[38;5;124mf\u001b[39m\u001b[38;5;124m'\u001b[39m\u001b[38;5;132;01m{\u001b[39;00mbase_path\u001b[38;5;132;01m}\u001b[39;00m\u001b[38;5;130;01m\\\\\u001b[39;00m\u001b[38;5;132;01m{\u001b[39;00msubj\u001b[38;5;132;01m}\u001b[39;00m\u001b[38;5;130;01m\\\\\u001b[39;00m\u001b[38;5;124msig_chans_\u001b[39m\u001b[38;5;132;01m{\u001b[39;00msubj\u001b[38;5;132;01m}\u001b[39;00m\u001b[38;5;124m_Stimulus_fixationCrossBase_1sec_mirror.json\u001b[39m\u001b[38;5;124m'\u001b[39m\n\u001b[0;32m     34\u001b[0m \u001b[38;5;66;03m# resp_sig_chans = load_sig_chans(resp_filename)\u001b[39;00m\n\u001b[1;32m---> 35\u001b[0m stim_sig_chans \u001b[38;5;241m=\u001b[39m \u001b[43mload_sig_chans\u001b[49m\u001b[43m(\u001b[49m\u001b[43mstim_filename\u001b[49m\u001b[43m)\u001b[49m\n\u001b[0;32m     37\u001b[0m \u001b[38;5;66;03m# Combine the significant electrodes for this subject\u001b[39;00m\n\u001b[0;32m     38\u001b[0m \u001b[38;5;66;03m# combined_chans = resp_sig_chans + stim_sig_chans\u001b[39;00m\n\u001b[0;32m     39\u001b[0m combined_chans \u001b[38;5;241m=\u001b[39m stim_sig_chans \u001b[38;5;66;03m# delete this line once we have responses for everyone\u001b[39;00m\n",
            "File \u001b[1;32mc:\\Users\\jz421\\Desktop\\GlobalLocal\\misc_functions.py:67\u001b[0m, in \u001b[0;36mload_sig_chans\u001b[1;34m(filename)\u001b[0m\n\u001b[0;32m     66\u001b[0m \u001b[38;5;28;01mdef\u001b[39;00m \u001b[38;5;21mload_sig_chans\u001b[39m(filename):\n\u001b[1;32m---> 67\u001b[0m     \u001b[38;5;28;01mwith\u001b[39;00m \u001b[38;5;28mopen\u001b[39m(filename, \u001b[38;5;124m'\u001b[39m\u001b[38;5;124mr\u001b[39m\u001b[38;5;124m'\u001b[39m) \u001b[38;5;28;01mas\u001b[39;00m file:\n\u001b[0;32m     68\u001b[0m         data \u001b[38;5;241m=\u001b[39m json\u001b[38;5;241m.\u001b[39mload(file)\n\u001b[0;32m     70\u001b[0m     \u001b[38;5;66;03m# You can access the subject and significant channels directly from the dictionary\u001b[39;00m\n",
            "\u001b[1;31mFileNotFoundError\u001b[0m: [Errno 2] No such file or directory: 'C:\\\\Users\\\\jz421\\\\Box\\\\CoganLab\\\\BIDS-1.1_GlobalLocal\\\\BIDS\\\\derivatives\\\\freqFilt\\\\figs\\\\D0107\\\\sig_chans_D0107_Stimulus_fixationCrossBase_1sec_mirror.json'"
          ]
        }
      ],
      "source": [
        "# grab all of the significant electrodes, and put them into one list, and then run plot_on_average\n",
        "\n",
        "HOME = os.path.expanduser(\"~\")\n",
        "\n",
        "# get box directory depending on OS\n",
        "if os.name == 'nt': # windows\n",
        "    LAB_root = os.path.join(HOME, \"Box\", \"CoganLab\")\n",
        "else: # mac\n",
        "    LAB_root = os.path.join(HOME, \"Library\", \"CloudStorage\", \"Box-Box\", \"CoganLab\")\n",
        "\n",
        "layout = get_data(\"GlobalLocal\", root=LAB_root)\n",
        "\n",
        "\n",
        "print(layout.derivatives)\n",
        "print(layout.derivatives.keys())\n",
        "\n",
        "\n",
        "base_path = os.path.join(LAB_root, \"BIDS-1.1_GlobalLocal\", \"BIDS\", \"derivatives\", \"freqFilt\", \"figs\")\n",
        "\n",
        "# subjects = layout.get(return_type=\"id\", target=\"subject\")\n",
        "\n",
        "subjects_without_zeroes = [\"D\" + subj[1:].lstrip('0') for subj in subjects]\n",
        "\n",
        "allSigElectrodes = {}  # Initialize as an empty dictionary\n",
        "allElectrodes = {}\n",
        "\n",
        "for subj in subjects:\n",
        "    # if subj == \"D0077\":\n",
        "    #     continue\n",
        "    \n",
        "    # resp_filename = f'{base_path}\\\\{subj}\\\\sig_chans_{subj}_Response.json'\n",
        "    stim_filename = f'{base_path}\\\\{subj}\\\\sig_chans_{subj}_Stimulus_fixationCrossBase_1sec_mirror.json'\n",
        "\n",
        "    # resp_sig_chans = load_sig_chans(resp_filename)\n",
        "    stim_sig_chans = load_sig_chans(stim_filename)\n",
        "\n",
        "    # Combine the significant electrodes for this subject\n",
        "    # combined_chans = resp_sig_chans + stim_sig_chans\n",
        "    combined_chans = stim_sig_chans # delete this line once we have responses for everyone\n",
        "    # Add them to the dictionary, tagged with the subject without zeroes\n",
        "\n",
        "    subj_without_zeroes = \"D\" + subj[1:].lstrip('0')\n",
        "    allSigElectrodes[subj_without_zeroes] = combined_chans\n",
        "\n",
        "    # Get all electrodes for this subject and add them to the allElectrodes dict\n",
        "    info = subject_to_info(subj_without_zeroes)\n",
        "    allSubjElectrodes = mne.pick_channels(info.ch_names, [])\n",
        "    allElectrodes[subj_without_zeroes] = allSubjElectrodes\n",
        "\n",
        "# apparently this doesn't work because the inputs are dicts and plot on average doesn't like dict inputs.\n",
        "# use Aaron's code below that converts from these dicts to a list of electrode indices 3/25. \n",
        "# fig = plot_on_average(allSigElectrodes, hemi='both', color=(1,1,0), size=0.45)\n",
        "# plot_on_average(allElectrodes, hemi='both', color=(1,1,1), fig=fig)"
      ]
    },
    {
      "cell_type": "markdown",
      "metadata": {},
      "source": [
        "aaron's way of plotting"
      ]
    },
    {
      "cell_type": "code",
      "execution_count": 8,
      "metadata": {},
      "outputs": [
        {
          "name": "stderr",
          "output_type": "stream",
          "text": [
            "C:\\Users\\jz421\\Desktop\\GlobalLocal\\IEEG_Pipelines\\ieeg\\viz\\mri.py:756: RuntimeWarning: Fiducial point lpa not found, assuming identity RAS (non-zero origin) to head transformation\n",
            "  info.set_montage(montage)\n",
            "C:\\Users\\jz421\\Desktop\\GlobalLocal\\IEEG_Pipelines\\ieeg\\viz\\mri.py:756: RuntimeWarning: Fiducial point lpa not found, assuming identity RAS (non-zero origin) to head transformation\n",
            "  info.set_montage(montage)\n"
          ]
        },
        {
          "ename": "ValueError",
          "evalue": "No channels match the selection.",
          "output_type": "error",
          "traceback": [
            "\u001b[1;31m---------------------------------------------------------------------------\u001b[0m",
            "\u001b[1;31mValueError\u001b[0m                                Traceback (most recent call last)",
            "Cell \u001b[1;32mIn[8], line 12\u001b[0m\n\u001b[0;32m      9\u001b[0m     length \u001b[38;5;241m+\u001b[39m\u001b[38;5;241m=\u001b[39m \u001b[38;5;28mlen\u001b[39m(info[\u001b[38;5;124m'\u001b[39m\u001b[38;5;124mch_names\u001b[39m\u001b[38;5;124m'\u001b[39m])\n\u001b[0;32m     10\u001b[0m     subjects\u001b[38;5;241m.\u001b[39mappend(subject)\n\u001b[1;32m---> 12\u001b[0m fig \u001b[38;5;241m=\u001b[39m \u001b[43mplot_on_average\u001b[49m\u001b[43m(\u001b[49m\u001b[43msubjects\u001b[49m\u001b[43m,\u001b[49m\u001b[43m \u001b[49m\u001b[43mpicks\u001b[49m\u001b[38;5;241;43m=\u001b[39;49m\u001b[38;5;124;43m'\u001b[39;49m\u001b[38;5;124;43mD57-RMMF14\u001b[39;49m\u001b[38;5;124;43m'\u001b[39;49m\u001b[43m,\u001b[49m\u001b[43m \u001b[49m\u001b[43mrm_wm\u001b[49m\u001b[38;5;241;43m=\u001b[39;49m\u001b[38;5;28;43;01mFalse\u001b[39;49;00m\u001b[43m,\u001b[49m\u001b[43m \u001b[49m\u001b[43mhemi\u001b[49m\u001b[38;5;241;43m=\u001b[39;49m\u001b[38;5;124;43m'\u001b[39;49m\u001b[38;5;124;43mboth\u001b[39;49m\u001b[38;5;124;43m'\u001b[39;49m\u001b[43m,\u001b[49m\u001b[43m \u001b[49m\u001b[43mcolor\u001b[49m\u001b[38;5;241;43m=\u001b[39;49m\u001b[43m(\u001b[49m\u001b[38;5;241;43m1\u001b[39;49m\u001b[43m,\u001b[49m\u001b[43m \u001b[49m\u001b[38;5;241;43m1\u001b[39;49m\u001b[43m,\u001b[49m\u001b[43m \u001b[49m\u001b[38;5;241;43m0\u001b[39;49m\u001b[43m)\u001b[49m\u001b[43m,\u001b[49m\u001b[43m \u001b[49m\u001b[43msize\u001b[49m\u001b[38;5;241;43m=\u001b[39;49m\u001b[38;5;241;43m0.4\u001b[39;49m\u001b[43m,\u001b[49m\u001b[43m \u001b[49m\u001b[43mtransparency\u001b[49m\u001b[38;5;241;43m=\u001b[39;49m\u001b[38;5;241;43m0.2\u001b[39;49m\u001b[43m)\u001b[49m\n\u001b[0;32m     13\u001b[0m \u001b[38;5;66;03m# plot_on_average(subjects, rm_wm=False, hemi='both', color=(1, 1, 1), fig=fig)\u001b[39;00m\n",
            "File \u001b[1;32m~\\Desktop\\GlobalLocal\\IEEG_Pipelines\\ieeg\\viz\\mri.py:398\u001b[0m, in \u001b[0;36mplot_on_average\u001b[1;34m(sigs, subj_dir, rm_wm, picks, surface, hemi, color, size, fig, label_every, background, units, transparency, average, show)\u001b[0m\n\u001b[0;32m    395\u001b[0m         this_color \u001b[38;5;241m=\u001b[39m color\n\u001b[0;32m    397\u001b[0m     \u001b[38;5;66;03m# plot the data\u001b[39;00m\n\u001b[1;32m--> 398\u001b[0m     \u001b[43mplot_subj\u001b[49m\u001b[43m(\u001b[49m\u001b[43mnew\u001b[49m\u001b[43m,\u001b[49m\u001b[43m \u001b[49m\u001b[43msubj_dir\u001b[49m\u001b[43m,\u001b[49m\u001b[43m \u001b[49m\u001b[43mthese_picks\u001b[49m\u001b[43m,\u001b[49m\u001b[43m \u001b[49m\u001b[38;5;28;43;01mFalse\u001b[39;49;00m\u001b[43m,\u001b[49m\u001b[43m \u001b[49m\u001b[43mfig\u001b[49m\u001b[38;5;241;43m=\u001b[39;49m\u001b[43mfig\u001b[49m\u001b[43m,\u001b[49m\n\u001b[0;32m    399\u001b[0m \u001b[43m              \u001b[49m\u001b[43mtrans\u001b[49m\u001b[38;5;241;43m=\u001b[39;49m\u001b[43mtrans\u001b[49m\u001b[43m,\u001b[49m\u001b[43m \u001b[49m\u001b[43mcolor\u001b[49m\u001b[38;5;241;43m=\u001b[39;49m\u001b[43mthis_color\u001b[49m\u001b[43m,\u001b[49m\u001b[43m \u001b[49m\u001b[43msize\u001b[49m\u001b[38;5;241;43m=\u001b[39;49m\u001b[43msize\u001b[49m\u001b[43m,\u001b[49m\n\u001b[0;32m    400\u001b[0m \u001b[43m              \u001b[49m\u001b[43mlabels_every\u001b[49m\u001b[38;5;241;43m=\u001b[39;49m\u001b[43mlabel_every\u001b[49m\u001b[43m,\u001b[49m\u001b[43m \u001b[49m\u001b[43mhemi\u001b[49m\u001b[38;5;241;43m=\u001b[39;49m\u001b[43mhemi\u001b[49m\u001b[43m,\u001b[49m\u001b[43m \u001b[49m\u001b[43mbackground\u001b[49m\u001b[38;5;241;43m=\u001b[39;49m\u001b[43mbackground\u001b[49m\u001b[43m,\u001b[49m\n\u001b[0;32m    401\u001b[0m \u001b[43m              \u001b[49m\u001b[43mshow\u001b[49m\u001b[38;5;241;43m=\u001b[39;49m\u001b[43mshow\u001b[49m\u001b[43m)\u001b[49m\n\u001b[0;32m    403\u001b[0m \u001b[38;5;28;01mreturn\u001b[39;00m fig\n",
            "File \u001b[1;32m~\\Desktop\\GlobalLocal\\IEEG_Pipelines\\ieeg\\viz\\mri.py:617\u001b[0m, in \u001b[0;36mplot_subj\u001b[1;34m(inst, subj_dir, picks, no_wm, labels_every, surface, hemi, fig, trans, color, size, show, background, title, units, transparency)\u001b[0m\n\u001b[0;32m    614\u001b[0m \u001b[38;5;28;01mif\u001b[39;00m \u001b[38;5;28misinstance\u001b[39m(picks[\u001b[38;5;241m0\u001b[39m], \u001b[38;5;28mstr\u001b[39m):\n\u001b[0;32m    615\u001b[0m     picks \u001b[38;5;241m=\u001b[39m mne\u001b[38;5;241m.\u001b[39mpick_channels(info\u001b[38;5;241m.\u001b[39mch_names, picks)\n\u001b[1;32m--> 617\u001b[0m info: mne\u001b[38;5;241m.\u001b[39mInfo \u001b[38;5;241m=\u001b[39m \u001b[43mmne\u001b[49m\u001b[38;5;241;43m.\u001b[39;49m\u001b[43mpick_info\u001b[49m\u001b[43m(\u001b[49m\u001b[43minfo\u001b[49m\u001b[43m,\u001b[49m\u001b[43m \u001b[49m\u001b[43mpicks\u001b[49m\u001b[43m)\u001b[49m\n\u001b[0;32m    619\u001b[0m \u001b[38;5;66;03m# fig.add_sensors(info, trans)\u001b[39;00m\n\u001b[0;32m    620\u001b[0m montage \u001b[38;5;241m=\u001b[39m info\u001b[38;5;241m.\u001b[39mget_montage()\n",
            "File \u001b[1;32m<decorator-gen-9>:12\u001b[0m, in \u001b[0;36mpick_info\u001b[1;34m(info, sel, copy, verbose)\u001b[0m\n",
            "File \u001b[1;32mc:\\Users\\jz421\\AppData\\Local\\anaconda3\\envs\\ieeg\\Lib\\site-packages\\mne\\_fiff\\pick.py:652\u001b[0m, in \u001b[0;36mpick_info\u001b[1;34m(info, sel, copy, verbose)\u001b[0m\n\u001b[0;32m    650\u001b[0m     \u001b[38;5;28;01mreturn\u001b[39;00m info\n\u001b[0;32m    651\u001b[0m \u001b[38;5;28;01melif\u001b[39;00m \u001b[38;5;28mlen\u001b[39m(sel) \u001b[38;5;241m==\u001b[39m \u001b[38;5;241m0\u001b[39m:\n\u001b[1;32m--> 652\u001b[0m     \u001b[38;5;28;01mraise\u001b[39;00m \u001b[38;5;167;01mValueError\u001b[39;00m(\u001b[38;5;124m\"\u001b[39m\u001b[38;5;124mNo channels match the selection.\u001b[39m\u001b[38;5;124m\"\u001b[39m)\n\u001b[0;32m    653\u001b[0m n_unique \u001b[38;5;241m=\u001b[39m \u001b[38;5;28mlen\u001b[39m(np\u001b[38;5;241m.\u001b[39munique(np\u001b[38;5;241m.\u001b[39marange(\u001b[38;5;28mlen\u001b[39m(info[\u001b[38;5;124m\"\u001b[39m\u001b[38;5;124mch_names\u001b[39m\u001b[38;5;124m\"\u001b[39m]))[sel]))\n\u001b[0;32m    654\u001b[0m \u001b[38;5;28;01mif\u001b[39;00m n_unique \u001b[38;5;241m!=\u001b[39m \u001b[38;5;28mlen\u001b[39m(sel):\n",
            "\u001b[1;31mValueError\u001b[0m: No channels match the selection."
          ]
        }
      ],
      "source": [
        "allSigElectrodes\n",
        "subjects = []\n",
        "length = 0\n",
        "elecs = []\n",
        "for subject, electrodes in allSigElectrodes.items():\n",
        "    info = subject_to_info(subject)\n",
        "    for electrode in electrodes:\n",
        "        elecs.append(length + info['ch_names'].index(electrode))\n",
        "    length += len(info['ch_names'])\n",
        "    subjects.append(subject)\n",
        "\n",
        "fig = plot_on_average(subjects, picks='D57-RMMF14', rm_wm=False, hemi='both', color=(1, 1, 0), size=0.4, transparency=0.2)\n",
        "# plot_on_average(subjects, rm_wm=False, hemi='both', color=(1, 1, 1), fig=fig)"
      ]
    },
    {
      "cell_type": "markdown",
      "metadata": {},
      "source": [
        "plot sig for congruency at any time window and also sig for interaction between congruency and congruency proportion at any time window 3/25  \n",
        "\n",
        "this is for all electrodes"
      ]
    },
    {
      "cell_type": "code",
      "execution_count": 23,
      "metadata": {},
      "outputs": [],
      "source": [
        "LAB_root = None\n",
        "channels = None\n",
        "full_trial_base = False\n",
        "task = 'GlobalLocal'\n",
        "if LAB_root is None:\n",
        "    HOME = os.path.expanduser(\"~\")\n",
        "    if os.name == 'nt':  # windows\n",
        "        LAB_root = os.path.join(HOME, \"Box\", \"CoganLab\")\n",
        "    else:  # mac\n",
        "        LAB_root = os.path.join(HOME, \"Library\", \"CloudStorage\", \"Box-Box\",\n",
        "                                \"CoganLab\")\n",
        "\n",
        "layout = get_data(task, root=LAB_root)\n",
        "save_dir = os.path.join(layout.root, 'derivatives', 'freqFilt', 'figs')\n",
        "\n",
        "# congruency_congruencyProportion_structure_file_path = os.path.join(save_dir, 'congruency_congruencyProportion_ANOVAwithinElectrodes_significantEffectsStructure_wholeBrainAnalysis.txt')\n",
        "# with open(congruency_congruencyProportion_structure_file_path, 'r') as file:\n",
        "#     congruency_congruencyProportion_structure = json.load(file)\n",
        "\n",
        "# switchType_switchProportion_structure_file_path = os.path.join(save_dir, 'switchType_switchProportion_ANOVAwithinElectrodes_significantEffectsStructure_wholeBrainAnalysis.txt')\n",
        "# with open(switchType_switchProportion_structure_file_path, 'r') as file:\n",
        "#     switchType_switchProportion_structure = json.load(file)\n",
        "\n",
        "congruency_switchType_structure_file_path = os.path.join(save_dir, 'congruency_switchType_ANOVAwithinElectrodes_significantEffectsStructure_wholeBrainAnalysis.txt')\n",
        "with open(congruency_switchType_structure_file_path, 'r') as file:\n",
        "    congruency_switchType_structure = json.load(file)"
      ]
    },
    {
      "cell_type": "markdown",
      "metadata": {},
      "source": [
        "this is just for lpfc 4/1"
      ]
    },
    {
      "cell_type": "code",
      "execution_count": 25,
      "metadata": {},
      "outputs": [],
      "source": [
        "LAB_root = None\n",
        "channels = None\n",
        "full_trial_base = False\n",
        "task = 'GlobalLocal'\n",
        "if LAB_root is None:\n",
        "    HOME = os.path.expanduser(\"~\")\n",
        "    if os.name == 'nt':  # windows\n",
        "        LAB_root = os.path.join(HOME, \"Box\", \"CoganLab\")\n",
        "    else:  # mac\n",
        "        LAB_root = os.path.join(HOME, \"Library\", \"CloudStorage\", \"Box-Box\",\n",
        "                                \"CoganLab\")\n",
        "\n",
        "layout = get_data(task, root=LAB_root)\n",
        "save_dir = os.path.join(layout.root, 'derivatives', 'freqFilt', 'figs')\n",
        "roi = 'lpfc'\n",
        "\n",
        "# # congruency_congruencyProportion_structure_file_path = os.path.join(save_dir, f'congruency_congruencyProportion_ANOVAwithinElectrodes_significantEffectsStructure_{roi}.txt')\n",
        "# # with open(congruency_congruencyProportion_structure_file_path, 'r') as file:\n",
        "# #     congruency_congruencyProportion_structure = json.load(file)\n",
        "\n",
        "# # switchType_switchProportion_structure_file_path = os.path.join(save_dir, f'switchType_switchProportion_ANOVAwithinElectrodes_significantEffectsStructure_{roi}.txt')\n",
        "# # with open(switchType_switchProportion_structure_file_path, 'r') as file:\n",
        "# #     switchType_switchProportion_structure = json.load(file)\n",
        "\n",
        "# old_congruency_switchType_structure_file_path = os.path.join(save_dir, f'congruency_switchType_ANOVAwithinElectrodes_significantEffectsStructure_{roi}.txt')\n",
        "# with open(old_congruency_switchType_structure_file_path, 'r') as file:\n",
        "#     old_congruency_switchType_structure = json.load(file)"
      ]
    },
    {
      "cell_type": "code",
      "execution_count": null,
      "metadata": {},
      "outputs": [],
      "source": [
        "congruency_switchType_structure_file_path = os.path.join(save_dir, 'stimulus_main_effect_conditions_significantEffectsStructure_lpfc.txt')\n",
        "with open(congruency_switchType_structure_file_path, 'r') as file:\n",
        "    congruency_switchType_structure = json.load(file)"
      ]
    },
    {
      "cell_type": "markdown",
      "metadata": {},
      "source": [
        "whole brain plotting setup (old as of 4/1, delete once the other method works for whole brain plotting)"
      ]
    },
    {
      "cell_type": "code",
      "execution_count": 21,
      "metadata": {},
      "outputs": [
        {
          "name": "stderr",
          "output_type": "stream",
          "text": [
            "C:\\Users\\jz421\\Desktop\\GlobalLocal\\IEEG_Pipelines\\ieeg\\viz\\mri.py:756: RuntimeWarning: Fiducial point lpa not found, assuming identity RAS (non-zero origin) to head transformation\n",
            "  info.set_montage(montage)\n"
          ]
        }
      ],
      "source": [
        "test = subject_to_info('D63')"
      ]
    },
    {
      "cell_type": "code",
      "execution_count": 32,
      "metadata": {},
      "outputs": [
        {
          "name": "stdout",
          "output_type": "stream",
          "text": [
            "D57\n",
            "got info\n",
            "D59\n",
            "got info\n",
            "D63\n",
            "got info\n",
            "D65\n",
            "got info\n",
            "D71\n",
            "got info\n",
            "D94\n"
          ]
        },
        {
          "name": "stderr",
          "output_type": "stream",
          "text": [
            "C:\\Users\\jz421\\Desktop\\GlobalLocal\\IEEG_Pipelines\\ieeg\\viz\\mri.py:822: RuntimeWarning: Fiducial point lpa not found, assuming identity RAS (non-zero origin) to head transformation\n",
            "  info.set_montage(montage)\n",
            "C:\\Users\\jz421\\Desktop\\GlobalLocal\\IEEG_Pipelines\\ieeg\\viz\\mri.py:822: RuntimeWarning: Fiducial point lpa not found, assuming identity RAS (non-zero origin) to head transformation\n",
            "  info.set_montage(montage)\n",
            "C:\\Users\\jz421\\Desktop\\GlobalLocal\\IEEG_Pipelines\\ieeg\\viz\\mri.py:822: RuntimeWarning: Fiducial point lpa not found, assuming identity RAS (non-zero origin) to head transformation\n",
            "  info.set_montage(montage)\n",
            "C:\\Users\\jz421\\Desktop\\GlobalLocal\\IEEG_Pipelines\\ieeg\\viz\\mri.py:822: RuntimeWarning: Fiducial point lpa not found, assuming identity RAS (non-zero origin) to head transformation\n",
            "  info.set_montage(montage)\n",
            "C:\\Users\\jz421\\Desktop\\GlobalLocal\\IEEG_Pipelines\\ieeg\\viz\\mri.py:822: RuntimeWarning: Fiducial point lpa not found, assuming identity RAS (non-zero origin) to head transformation\n",
            "  info.set_montage(montage)\n",
            "C:\\Users\\jz421\\Desktop\\GlobalLocal\\IEEG_Pipelines\\ieeg\\viz\\mri.py:822: RuntimeWarning: Fiducial point lpa not found, assuming identity RAS (non-zero origin) to head transformation\n",
            "  info.set_montage(montage)\n"
          ]
        },
        {
          "name": "stdout",
          "output_type": "stream",
          "text": [
            "got info\n",
            "D102\n",
            "got info\n",
            "D103\n",
            "got info\n",
            "D107A\n",
            "got info\n",
            "D110\n",
            "got info\n"
          ]
        },
        {
          "name": "stderr",
          "output_type": "stream",
          "text": [
            "C:\\Users\\jz421\\Desktop\\GlobalLocal\\IEEG_Pipelines\\ieeg\\viz\\mri.py:822: RuntimeWarning: Fiducial point lpa not found, assuming identity RAS (non-zero origin) to head transformation\n",
            "  info.set_montage(montage)\n",
            "C:\\Users\\jz421\\Desktop\\GlobalLocal\\IEEG_Pipelines\\ieeg\\viz\\mri.py:822: RuntimeWarning: Fiducial point lpa not found, assuming identity RAS (non-zero origin) to head transformation\n",
            "  info.set_montage(montage)\n",
            "C:\\Users\\jz421\\Desktop\\GlobalLocal\\IEEG_Pipelines\\ieeg\\viz\\mri.py:822: RuntimeWarning: Fiducial point lpa not found, assuming identity RAS (non-zero origin) to head transformation\n",
            "  info.set_montage(montage)\n",
            "C:\\Users\\jz421\\Desktop\\GlobalLocal\\IEEG_Pipelines\\ieeg\\viz\\mri.py:822: RuntimeWarning: Fiducial point lpa not found, assuming identity RAS (non-zero origin) to head transformation\n",
            "  info.set_montage(montage)\n"
          ]
        }
      ],
      "source": [
        "congruency_elecs = []\n",
        "switchType_elecs = []\n",
        "congruency_congruencyProportion_elecs = []\n",
        "switchType_switchProportion_elecs = []\n",
        "congruency_switchType_elecs = []\n",
        "\n",
        "subjects = []\n",
        "added_elecs_congruency = set()  # To keep track of added electrodes for congruency\n",
        "added_elecs_congruency_congruencyProportion = set()  # To keep track of added electrodes for congruency_congruencyProportion\n",
        "\n",
        "added_elecs_switchType = set()  # To keep track of added electrodes for switch type\n",
        "added_elecs_switchType_switchProportion = set()  # To keep track of added electrodes for switchType_switchProportion\n",
        "\n",
        "added_elecs_congruency_switchType = set()  # To keep track of added electrodes for congruency_switchType\n",
        "\n",
        "def process_effects_whole_brain_analysis(electrode, time_windows, subject_without_zeroes, info, length, effect_name, elecs_list, added_elecs_set):\n",
        "    \"\"\"A helper function to process electrode effects and update lists and sets accordingly.\"\"\"\n",
        "    for time_window, effects in time_windows.items():\n",
        "        for effect_and_p_value in effects:\n",
        "            if effect_and_p_value[0] == effect_name and (subj_without_zeroes, electrode) not in added_elecs_set:\n",
        "                elecs_list.append(length + info['ch_names'].index(electrode))\n",
        "                added_elecs_set.add((subj_without_zeroes, electrode))\n",
        "                \n",
        "# Assuming all structures have the same subjects...\n",
        "length = 0\n",
        "# structure_name = 'congruency_congruencyProportion_structure'\n",
        "# structure_name = 'switchType_switchProportion_structure'\n",
        "structure_name = 'congruency_switchType_structure'\n",
        "\n",
        "if structure_name == 'congruency_congruencyProportion_structure':\n",
        "    structure = congruency_congruencyProportion_structure\n",
        "elif structure_name == 'switchType_switchProportion_structure':\n",
        "    structure = switchType_switchProportion_structure\n",
        "elif structure_name == 'congruency_switchType_structure':\n",
        "    structure = congruency_switchType_structure\n",
        "\n",
        "for subject in structure:\n",
        "    subj_without_zeroes = \"D\" + subject[1:].lstrip('0')\n",
        "    print(subj_without_zeroes)\n",
        "    info = subject_to_info(subj_without_zeroes)\n",
        "    print('got info')\n",
        "    # Ensure each subject is only added once\n",
        "    if subj_without_zeroes not in subjects:\n",
        "        subjects.append(subj_without_zeroes)\n",
        "\n",
        "    current_subject_length = len(info['ch_names'])\n",
        "\n",
        "    # # Process congruency and congruency_congruencyProportion effects - OLD AS OF 10/1\n",
        "    # if structure_name == 'congruency_congruencyProportion_structure':\n",
        "    #     electrodes_dict_congruency_congruencyProportion = congruency_congruencyProportion_structure[subject]\n",
        "    #     for electrode, time_windows in electrodes_dict_congruency_congruencyProportion.items():\n",
        "    #         process_effects_whole_brain_analysis(electrode, time_windows, subj_without_zeroes, info, length, 'congruency', congruency_elecs, added_elecs_congruency)\n",
        "    #         process_effects_whole_brain_analysis(electrode, time_windows, subj_without_zeroes, info, length, 'congruency:congruencyProportion', congruency_congruencyProportion_elecs, added_elecs_congruency_congruencyProportion)\n",
        "\n",
        "    # # Process switchType and switchType:switchProportion effects\n",
        "    # if structure_name == 'switchType_switchProportion_structure':\n",
        "    #     electrodes_dict_switchType_switchProportion = switchType_switchProportion_structure.get(subject, {})\n",
        "    #     for electrode, time_windows in electrodes_dict_switchType_switchProportion.items():\n",
        "    #         process_effects_whole_brain_analysis(electrode, time_windows, subj_without_zeroes, info, length, 'switchType', switchType_elecs, added_elecs_switchType)\n",
        "    #         process_effects_whole_brain_analysis(electrode, time_windows, subj_without_zeroes, info, length, 'switchType:switchProportion', switchType_switchProportion_elecs, added_elecs_switchType_switchProportion)\n",
        "\n",
        "    # Process congruency and switch type interaction effect\n",
        "    if structure_name == 'congruency_switchType_structure':\n",
        "        electrodes_dict_congruency_switchType = congruency_switchType_structure.get(subject, {})\n",
        "        for electrode, rois in electrodes_dict_congruency_switchType.items():\n",
        "            for roi, time_windows in rois.items():\n",
        "                for time_window, effects in time_windows.items():\n",
        "                    process_effects_whole_brain_analysis(electrode, time_windows, subj_without_zeroes, info, length, 'congruency', congruency_elecs, added_elecs_congruency) # this is a duplicate so don't run this if already have congruency_elecs\n",
        "                    process_effects_whole_brain_analysis(electrode, time_windows, subj_without_zeroes, info, length, 'switchType', switchType_elecs, added_elecs_switchType) # this is a duplicate so don't run this if already have switchType_elecs\n",
        "                    process_effects_whole_brain_analysis(electrode, time_windows, subj_without_zeroes, info, length, 'congruency:switchType', congruency_switchType_elecs, added_elecs_congruency_switchType)\n",
        "\n",
        "    length += current_subject_length  # Update length after processing each subject"
      ]
    },
    {
      "cell_type": "markdown",
      "metadata": {},
      "source": [
        "adapt whole brain setup so it works with roi plotting too 4/1"
      ]
    },
    {
      "cell_type": "code",
      "execution_count": 12,
      "metadata": {},
      "outputs": [
        {
          "name": "stderr",
          "output_type": "stream",
          "text": [
            "C:\\Users\\jz421\\Desktop\\GlobalLocal\\IEEG_Pipelines\\ieeg\\viz\\mri.py:756: RuntimeWarning: Fiducial point lpa not found, assuming identity RAS (non-zero origin) to head transformation\n",
            "  info.set_montage(montage)\n"
          ]
        }
      ],
      "source": [
        "# # Assuming all structures have the same subjects...\n",
        "# subjects_without_zeroes = [\"D\" + subj[1:].lstrip('0') for subj in subjects]\n",
        "\n",
        "# congruency_elecs = []\n",
        "# switchType_elecs = []\n",
        "# congruency_congruencyProportion_elecs = []\n",
        "# switchType_switchProportion_elecs = []\n",
        "# congruency_switchType_elecs = []\n",
        "\n",
        "# added_elecs_congruency = set()  # To keep track of added electrodes for congruency\n",
        "# added_elecs_congruency_congruencyProportion = set()  # To keep track of added electrodes for congruency_congruencyProportion\n",
        "\n",
        "# added_elecs_switchType = set()  # To keep track of added electrodes for switch type\n",
        "# added_elecs_switchType_switchProportion = set()  # To keep track of added electrodes for switchType_switchProportion\n",
        "\n",
        "# added_elecs_congruency_switchType = set()  # To keep track of added electrodes for congruency_switchType\n",
        "\n",
        "# def process_effects_whole_brain_analysis(electrode, time_windows, subject_without_zeroes, info, length, effect_name, elecs_list, added_elecs_set):\n",
        "#     \"\"\"A helper function to process electrode effects and update lists and sets accordingly.\"\"\"\n",
        "#     for time_window, effects in time_windows.items():\n",
        "#         for effect_and_p_value in effects:\n",
        "#             if effect_and_p_value[0] == effect_name and (subject_without_zeroes, electrode) not in added_elecs_set:\n",
        "#                 elecs_list.append(length + info['ch_names'].index(electrode))\n",
        "#                 added_elecs_set.add((subject_without_zeroes, electrode))\n",
        "                \n",
        "# length = 0\n",
        "# ch_names = []\n",
        "# for subject in subjects:\n",
        "#     subject_without_zeroes = \"D\" + subject[1:].lstrip('0')\n",
        "#     info = subject_to_info(subject_without_zeroes)\n",
        "\n",
        "#     ch_names += ['-'.join([subject, n]) for n in info['ch_names']] #get a list of all channel names\n",
        "#     current_subject_length = len(info['ch_names'])\n",
        "\n",
        "#     # # Process congruency and congruency_congruencyProportion effects\n",
        "#     # electrodes_dict_congruency_congruencyProportion = congruency_congruencyProportion_structure[subject]\n",
        "#     # for electrode, time_windows in electrodes_dict_congruency_congruencyProportion.items():\n",
        "#     #     process_effects_whole_brain_analysis(electrode, time_windows, subject_without_zeroes, info, length, 'congruency', congruency_elecs, added_elecs_congruency)\n",
        "#     #     process_effects_whole_brain_analysis(electrode, time_windows, subject_without_zeroes, info, length, 'congruency_congruencyProportion', congruency_congruencyProportion_elecs, added_elecs_congruency_congruencyProportion)\n",
        "\n",
        "#     # # Process switchType and switchType:switchProportion effects\n",
        "#     # electrodes_dict_switchType_switchProportion = switchType_switchProportion_structure.get(subject, {})\n",
        "#     # for electrode, time_windows in electrodes_dict_switchType_switchProportion.items():\n",
        "#     #     process_effects_whole_brain_analysis(electrode, time_windows, subject_without_zeroes, info, length, 'switchType', switchType_elecs, added_elecs_switchType)\n",
        "#     #     process_effects_whole_brain_analysis(electrode, time_windows, subject_without_zeroes, info, length, 'switchType:switchProportion', switchType_switchProportion_elecs, added_elecs_switchType_switchProportion)\n",
        "\n",
        "#     # Process congruency and switch type interaction effect\n",
        "#     if congruency_switchType_structure and subject in congruency_switchType_structure:\n",
        "#         electrodes_dict_congruency_switchType = congruency_switchType_structure.get(subject, {})\n",
        "#         for electrode, time_windows in electrodes_dict_congruency_switchType.items():\n",
        "#             process_effects_whole_brain_analysis(electrode, time_windows, subject_without_zeroes, info, length, 'congruency', congruency_elecs, added_elecs_congruency) # delete this line if i use congruency_congruencyProportion\n",
        "#             process_effects_whole_brain_analysis(electrode, time_windows, subject_without_zeroes, info, length, 'switchType', switchType_elecs, added_elecs_switchType) # delete this line if i use switchType_switchProportion\n",
        "#             process_effects_whole_brain_analysis(electrode, time_windows, subject_without_zeroes, info, length, 'congruency_switchType', congruency_switchType_elecs, added_elecs_congruency_switchType)\n",
        "\n",
        "\n",
        "#     length += current_subject_length  # Update length after processing each subject"
      ]
    },
    {
      "cell_type": "markdown",
      "metadata": {},
      "source": [
        "plot unique congruency, unique congruency and congruency proportion interaction, and also their overlap"
      ]
    },
    {
      "cell_type": "code",
      "execution_count": 34,
      "metadata": {},
      "outputs": [
        {
          "data": {
            "text/plain": [
              "28"
            ]
          },
          "execution_count": 34,
          "metadata": {},
          "output_type": "execute_result"
        }
      ],
      "source": [
        "len(switchType_elecs)"
      ]
    },
    {
      "cell_type": "code",
      "execution_count": 35,
      "metadata": {},
      "outputs": [
        {
          "data": {
            "text/plain": [
              "23"
            ]
          },
          "execution_count": 35,
          "metadata": {},
          "output_type": "execute_result"
        }
      ],
      "source": [
        "len(congruency_elecs)"
      ]
    },
    {
      "cell_type": "markdown",
      "metadata": {},
      "source": [
        "plot congruency, congruency proportion, and mixed electrodes"
      ]
    },
    {
      "cell_type": "code",
      "execution_count": 37,
      "metadata": {},
      "outputs": [
        {
          "name": "stderr",
          "output_type": "stream",
          "text": [
            "C:\\Users\\jz421\\Desktop\\GlobalLocal\\IEEG_Pipelines\\ieeg\\viz\\mri.py:822: RuntimeWarning: Fiducial point lpa not found, assuming identity RAS (non-zero origin) to head transformation\n",
            "  info.set_montage(montage)\n",
            "C:\\Users\\jz421\\Desktop\\GlobalLocal\\IEEG_Pipelines\\ieeg\\viz\\mri.py:822: RuntimeWarning: Fiducial point lpa not found, assuming identity RAS (non-zero origin) to head transformation\n",
            "  info.set_montage(montage)\n",
            "C:\\Users\\jz421\\Desktop\\GlobalLocal\\IEEG_Pipelines\\ieeg\\viz\\mri.py:822: RuntimeWarning: Fiducial point lpa not found, assuming identity RAS (non-zero origin) to head transformation\n",
            "  info.set_montage(montage)\n",
            "C:\\Users\\jz421\\Desktop\\GlobalLocal\\IEEG_Pipelines\\ieeg\\viz\\mri.py:822: RuntimeWarning: Fiducial point lpa not found, assuming identity RAS (non-zero origin) to head transformation\n",
            "  info.set_montage(montage)\n",
            "C:\\Users\\jz421\\Desktop\\GlobalLocal\\IEEG_Pipelines\\ieeg\\viz\\mri.py:822: RuntimeWarning: Fiducial point lpa not found, assuming identity RAS (non-zero origin) to head transformation\n",
            "  info.set_montage(montage)\n",
            "C:\\Users\\jz421\\Desktop\\GlobalLocal\\IEEG_Pipelines\\ieeg\\viz\\mri.py:822: RuntimeWarning: Fiducial point lpa not found, assuming identity RAS (non-zero origin) to head transformation\n",
            "  info.set_montage(montage)\n",
            "C:\\Users\\jz421\\Desktop\\GlobalLocal\\IEEG_Pipelines\\ieeg\\viz\\mri.py:822: RuntimeWarning: Fiducial point lpa not found, assuming identity RAS (non-zero origin) to head transformation\n",
            "  info.set_montage(montage)\n",
            "C:\\Users\\jz421\\Desktop\\GlobalLocal\\IEEG_Pipelines\\ieeg\\viz\\mri.py:822: RuntimeWarning: Fiducial point lpa not found, assuming identity RAS (non-zero origin) to head transformation\n",
            "  info.set_montage(montage)\n",
            "C:\\Users\\jz421\\Desktop\\GlobalLocal\\IEEG_Pipelines\\ieeg\\viz\\mri.py:822: RuntimeWarning: Fiducial point lpa not found, assuming identity RAS (non-zero origin) to head transformation\n",
            "  info.set_montage(montage)\n",
            "C:\\Users\\jz421\\Desktop\\GlobalLocal\\IEEG_Pipelines\\ieeg\\viz\\mri.py:822: RuntimeWarning: Fiducial point lpa not found, assuming identity RAS (non-zero origin) to head transformation\n",
            "  info.set_montage(montage)\n",
            "C:\\Users\\jz421\\Desktop\\GlobalLocal\\IEEG_Pipelines\\ieeg\\viz\\mri.py:822: RuntimeWarning: Fiducial point lpa not found, assuming identity RAS (non-zero origin) to head transformation\n",
            "  info.set_montage(montage)\n",
            "C:\\Users\\jz421\\Desktop\\GlobalLocal\\IEEG_Pipelines\\ieeg\\viz\\mri.py:822: RuntimeWarning: Fiducial point lpa not found, assuming identity RAS (non-zero origin) to head transformation\n",
            "  info.set_montage(montage)\n",
            "C:\\Users\\jz421\\Desktop\\GlobalLocal\\IEEG_Pipelines\\ieeg\\viz\\mri.py:822: RuntimeWarning: Fiducial point lpa not found, assuming identity RAS (non-zero origin) to head transformation\n",
            "  info.set_montage(montage)\n",
            "C:\\Users\\jz421\\Desktop\\GlobalLocal\\IEEG_Pipelines\\ieeg\\viz\\mri.py:822: RuntimeWarning: Fiducial point lpa not found, assuming identity RAS (non-zero origin) to head transformation\n",
            "  info.set_montage(montage)\n",
            "C:\\Users\\jz421\\Desktop\\GlobalLocal\\IEEG_Pipelines\\ieeg\\viz\\mri.py:822: RuntimeWarning: Fiducial point lpa not found, assuming identity RAS (non-zero origin) to head transformation\n",
            "  info.set_montage(montage)\n",
            "C:\\Users\\jz421\\Desktop\\GlobalLocal\\IEEG_Pipelines\\ieeg\\viz\\mri.py:822: RuntimeWarning: Fiducial point lpa not found, assuming identity RAS (non-zero origin) to head transformation\n",
            "  info.set_montage(montage)\n",
            "C:\\Users\\jz421\\Desktop\\GlobalLocal\\IEEG_Pipelines\\ieeg\\viz\\mri.py:822: RuntimeWarning: Fiducial point lpa not found, assuming identity RAS (non-zero origin) to head transformation\n",
            "  info.set_montage(montage)\n",
            "C:\\Users\\jz421\\Desktop\\GlobalLocal\\IEEG_Pipelines\\ieeg\\viz\\mri.py:822: RuntimeWarning: Fiducial point lpa not found, assuming identity RAS (non-zero origin) to head transformation\n",
            "  info.set_montage(montage)\n",
            "C:\\Users\\jz421\\Desktop\\GlobalLocal\\IEEG_Pipelines\\ieeg\\viz\\mri.py:822: RuntimeWarning: Fiducial point lpa not found, assuming identity RAS (non-zero origin) to head transformation\n",
            "  info.set_montage(montage)\n",
            "C:\\Users\\jz421\\Desktop\\GlobalLocal\\IEEG_Pipelines\\ieeg\\viz\\mri.py:822: RuntimeWarning: Fiducial point lpa not found, assuming identity RAS (non-zero origin) to head transformation\n",
            "  info.set_montage(montage)\n"
          ]
        },
        {
          "ename": "IndexError",
          "evalue": "list index out of range",
          "output_type": "error",
          "traceback": [
            "\u001b[1;31m---------------------------------------------------------------------------\u001b[0m",
            "\u001b[1;31mIndexError\u001b[0m                                Traceback (most recent call last)",
            "Cell \u001b[1;32mIn[37], line 26\u001b[0m\n\u001b[0;32m     23\u001b[0m fig \u001b[38;5;241m=\u001b[39m plot_on_average(subjects, picks\u001b[38;5;241m=\u001b[39munique_congruency_elecs_list, rm_wm\u001b[38;5;241m=\u001b[39m\u001b[38;5;28;01mFalse\u001b[39;00m, hemi\u001b[38;5;241m=\u001b[39m\u001b[38;5;124m'\u001b[39m\u001b[38;5;124mboth\u001b[39m\u001b[38;5;124m'\u001b[39m, color\u001b[38;5;241m=\u001b[39m(\u001b[38;5;241m1\u001b[39m,\u001b[38;5;241m0\u001b[39m,\u001b[38;5;241m0\u001b[39m), size\u001b[38;5;241m=\u001b[39m\u001b[38;5;241m0.35\u001b[39m, label_every\u001b[38;5;241m=\u001b[39m\u001b[38;5;28;01mNone\u001b[39;00m, transparency\u001b[38;5;241m=\u001b[39mtransparency)\n\u001b[0;32m     25\u001b[0m \u001b[38;5;66;03m# Plot unique electrodes for congruency_congruencyProportion in hot pink\u001b[39;00m\n\u001b[1;32m---> 26\u001b[0m fig \u001b[38;5;241m=\u001b[39m \u001b[43mplot_on_average\u001b[49m\u001b[43m(\u001b[49m\u001b[43msubjects\u001b[49m\u001b[43m,\u001b[49m\u001b[43m \u001b[49m\u001b[43mpicks\u001b[49m\u001b[38;5;241;43m=\u001b[39;49m\u001b[43munique_congruency_congruencyProportion_elecs_list\u001b[49m\u001b[43m,\u001b[49m\u001b[43m \u001b[49m\u001b[43mrm_wm\u001b[49m\u001b[38;5;241;43m=\u001b[39;49m\u001b[38;5;28;43;01mFalse\u001b[39;49;00m\u001b[43m,\u001b[49m\u001b[43m \u001b[49m\u001b[43mhemi\u001b[49m\u001b[38;5;241;43m=\u001b[39;49m\u001b[38;5;124;43m'\u001b[39;49m\u001b[38;5;124;43mboth\u001b[39;49m\u001b[38;5;124;43m'\u001b[39;49m\u001b[43m,\u001b[49m\u001b[43m \u001b[49m\u001b[43mcolor\u001b[49m\u001b[38;5;241;43m=\u001b[39;49m\u001b[43m(\u001b[49m\u001b[38;5;241;43m1\u001b[39;49m\u001b[43m,\u001b[49m\u001b[38;5;241;43m0.2\u001b[39;49m\u001b[43m,\u001b[49m\u001b[38;5;241;43m0.6\u001b[39;49m\u001b[43m)\u001b[49m\u001b[43m,\u001b[49m\u001b[43m \u001b[49m\u001b[43msize\u001b[49m\u001b[38;5;241;43m=\u001b[39;49m\u001b[38;5;241;43m0.35\u001b[39;49m\u001b[43m,\u001b[49m\u001b[43m \u001b[49m\u001b[43mfig\u001b[49m\u001b[38;5;241;43m=\u001b[39;49m\u001b[43mfig\u001b[49m\u001b[43m,\u001b[49m\u001b[43m \u001b[49m\u001b[43mtransparency\u001b[49m\u001b[38;5;241;43m=\u001b[39;49m\u001b[43mtransparency\u001b[49m\u001b[43m)\u001b[49m\n\u001b[0;32m     28\u001b[0m \u001b[38;5;66;03m# Plot overlapping electrodes in black\u001b[39;00m\n\u001b[0;32m     29\u001b[0m fig \u001b[38;5;241m=\u001b[39m plot_on_average(subjects, picks\u001b[38;5;241m=\u001b[39moverlap_congruencyEffectAndLWPC_elecs_list, rm_wm\u001b[38;5;241m=\u001b[39m\u001b[38;5;28;01mFalse\u001b[39;00m, hemi\u001b[38;5;241m=\u001b[39m\u001b[38;5;124m'\u001b[39m\u001b[38;5;124mboth\u001b[39m\u001b[38;5;124m'\u001b[39m, color\u001b[38;5;241m=\u001b[39m(\u001b[38;5;241m0\u001b[39m, \u001b[38;5;241m0\u001b[39m, \u001b[38;5;241m0\u001b[39m), size\u001b[38;5;241m=\u001b[39m\u001b[38;5;241m0.35\u001b[39m, fig\u001b[38;5;241m=\u001b[39mfig, transparency\u001b[38;5;241m=\u001b[39mtransparency)\n",
            "File \u001b[1;32m~\\Desktop\\GlobalLocal\\IEEG_Pipelines\\ieeg\\viz\\mri.py:357\u001b[0m, in \u001b[0;36mplot_on_average\u001b[1;34m(sigs, subj_dir, rm_wm, picks, surface, hemi, color, size, fig, label_every, background, units, transparency, average, show)\u001b[0m\n\u001b[0;32m    355\u001b[0m \u001b[38;5;28;01mif\u001b[39;00m picks \u001b[38;5;129;01mis\u001b[39;00m \u001b[38;5;28;01mNone\u001b[39;00m:\n\u001b[0;32m    356\u001b[0m     picks \u001b[38;5;241m=\u001b[39m all_channel_name\n\u001b[1;32m--> 357\u001b[0m \u001b[38;5;28;01melif\u001b[39;00m \u001b[38;5;28misinstance\u001b[39m(\u001b[43mpicks\u001b[49m\u001b[43m[\u001b[49m\u001b[38;5;241;43m0\u001b[39;49m\u001b[43m]\u001b[49m, \u001b[38;5;28mint\u001b[39m):\n\u001b[0;32m    358\u001b[0m     picks \u001b[38;5;241m=\u001b[39m [all_channel_name[p] \u001b[38;5;28;01mfor\u001b[39;00m p \u001b[38;5;129;01min\u001b[39;00m picks]\n\u001b[0;32m    359\u001b[0m \u001b[38;5;28;01melif\u001b[39;00m \u001b[38;5;28misinstance\u001b[39m(picks[\u001b[38;5;241m0\u001b[39m], \u001b[38;5;28mstr\u001b[39m):\n",
            "\u001b[1;31mIndexError\u001b[0m: list index out of range"
          ]
        }
      ],
      "source": [
        "if structure_name == 'congruency_congruencyProportion_structure':\n",
        "\n",
        "    # Convert lists to sets for set operations\n",
        "    congruency_elecs_set = set(congruency_elecs)\n",
        "    congruency_congruencyProportion_elecs_set = set(congruency_congruencyProportion_elecs)\n",
        "\n",
        "    # Find overlapping electrodes (present in both lists)\n",
        "    overlap_congruencyEffectAndLWPC_elecs = congruency_elecs_set.intersection(congruency_congruencyProportion_elecs_set)\n",
        "\n",
        "    # Find unique electrodes in congruency_elecs\n",
        "    unique_congruency_elecs = congruency_elecs_set - congruency_congruencyProportion_elecs_set\n",
        "\n",
        "    # Find unique electrodes in congruency_congruencyProportion_elecs\n",
        "    unique_congruency_congruencyProportion_elecs = congruency_congruencyProportion_elecs_set - congruency_elecs_set\n",
        "\n",
        "    # Convert sets back to lists if necessary for plotting functions\n",
        "    overlap_congruencyEffectAndLWPC_elecs_list = list(overlap_congruencyEffectAndLWPC_elecs)\n",
        "    unique_congruency_elecs_list = list(unique_congruency_elecs)\n",
        "    unique_congruency_congruencyProportion_elecs_list = list(unique_congruency_congruencyProportion_elecs)\n",
        "\n",
        "    transparency = 0.4\n",
        "\n",
        "    # Plotting\n",
        "    # Plot unique electrodes for congruency in red\n",
        "    fig = plot_on_average(subjects, picks=unique_congruency_elecs_list, rm_wm=False, hemi='both', color=(1,0,0), size=0.35, label_every=None, transparency=transparency)\n",
        "\n",
        "    # Plot unique electrodes for congruency_congruencyProportion in hot pink\n",
        "    fig = plot_on_average(subjects, picks=unique_congruency_congruencyProportion_elecs_list, rm_wm=False, hemi='both', color=(1,0.2,0.6), size=0.35, fig=fig, transparency=transparency)\n",
        "\n",
        "    # Plot overlapping electrodes in black\n",
        "    fig = plot_on_average(subjects, picks=overlap_congruencyEffectAndLWPC_elecs_list, rm_wm=False, hemi='both', color=(0, 0, 0), size=0.35, fig=fig, transparency=transparency)"
      ]
    },
    {
      "cell_type": "markdown",
      "metadata": {},
      "source": [
        "plot switch type and switch type:switchProportion"
      ]
    },
    {
      "cell_type": "code",
      "execution_count": 93,
      "metadata": {},
      "outputs": [
        {
          "name": "stdout",
          "output_type": "stream",
          "text": [
            "Attempting to read electrode file: C:\\Users\\jz421\\Box\\ECoG_Recon\\D57\\elec_recon\\D57_elec_locations_RAS_brainshifted.txt\n",
            "Attempting to read electrode file: C:\\Users\\jz421\\Box\\ECoG_Recon\\D59\\elec_recon\\D59_elec_locations_RAS_brainshifted.txt\n",
            "Attempting to read electrode file: C:\\Users\\jz421\\Box\\ECoG_Recon\\D63\\elec_recon\\D63_elec_locations_RAS_brainshifted.txt\n",
            "Attempting to read electrode file: C:\\Users\\jz421\\Box\\ECoG_Recon\\D71\\elec_recon\\D71_elec_locations_RAS_brainshifted.txt\n"
          ]
        },
        {
          "name": "stderr",
          "output_type": "stream",
          "text": [
            "C:\\Users\\jz421\\Desktop\\GlobalLocal\\IEEG_Pipelines\\ieeg\\viz\\mri.py:760: RuntimeWarning: Fiducial point lpa not found, assuming identity RAS (non-zero origin) to head transformation\n",
            "  info.set_montage(montage)\n",
            "C:\\Users\\jz421\\Desktop\\GlobalLocal\\IEEG_Pipelines\\ieeg\\viz\\mri.py:760: RuntimeWarning: Fiducial point lpa not found, assuming identity RAS (non-zero origin) to head transformation\n",
            "  info.set_montage(montage)\n",
            "C:\\Users\\jz421\\Desktop\\GlobalLocal\\IEEG_Pipelines\\ieeg\\viz\\mri.py:760: RuntimeWarning: Fiducial point lpa not found, assuming identity RAS (non-zero origin) to head transformation\n",
            "  info.set_montage(montage)\n",
            "C:\\Users\\jz421\\Desktop\\GlobalLocal\\IEEG_Pipelines\\ieeg\\viz\\mri.py:760: RuntimeWarning: Fiducial point lpa not found, assuming identity RAS (non-zero origin) to head transformation\n",
            "  info.set_montage(montage)\n"
          ]
        },
        {
          "name": "stdout",
          "output_type": "stream",
          "text": [
            "Attempting to read electrode file: C:\\Users\\jz421\\Box\\ECoG_Recon\\D94\\elec_recon\\D94_elec_locations_RAS_brainshifted.txt\n",
            "Attempting to read electrode file: C:\\Users\\jz421\\Box\\ECoG_Recon\\D102\\elec_recon\\D102_elec_locations_RAS_brainshifted.txt\n",
            "Attempting to read electrode file: C:\\Users\\jz421\\Box\\ECoG_Recon\\D103\\elec_recon\\D103_elec_locations_RAS_brainshifted.txt\n",
            "Attempting to read electrode file: C:\\Users\\jz421\\Box\\ECoG_Recon\\D57\\elec_recon\\D57_elec_locations_RAS_brainshifted.txt\n",
            "Attempting to read electrode file: C:\\Users\\jz421\\Box\\ECoG_Recon\\D59\\elec_recon\\D59_elec_locations_RAS_brainshifted.txt\n",
            "Attempting to read electrode file: C:\\Users\\jz421\\Box\\ECoG_Recon\\D63\\elec_recon\\D63_elec_locations_RAS_brainshifted.txt\n"
          ]
        },
        {
          "name": "stderr",
          "output_type": "stream",
          "text": [
            "C:\\Users\\jz421\\Desktop\\GlobalLocal\\IEEG_Pipelines\\ieeg\\viz\\mri.py:760: RuntimeWarning: Fiducial point lpa not found, assuming identity RAS (non-zero origin) to head transformation\n",
            "  info.set_montage(montage)\n",
            "C:\\Users\\jz421\\Desktop\\GlobalLocal\\IEEG_Pipelines\\ieeg\\viz\\mri.py:760: RuntimeWarning: Fiducial point lpa not found, assuming identity RAS (non-zero origin) to head transformation\n",
            "  info.set_montage(montage)\n",
            "C:\\Users\\jz421\\Desktop\\GlobalLocal\\IEEG_Pipelines\\ieeg\\viz\\mri.py:760: RuntimeWarning: Fiducial point lpa not found, assuming identity RAS (non-zero origin) to head transformation\n",
            "  info.set_montage(montage)\n",
            "C:\\Users\\jz421\\Desktop\\GlobalLocal\\IEEG_Pipelines\\ieeg\\viz\\mri.py:760: RuntimeWarning: Fiducial point lpa not found, assuming identity RAS (non-zero origin) to head transformation\n",
            "  info.set_montage(montage)\n",
            "C:\\Users\\jz421\\Desktop\\GlobalLocal\\IEEG_Pipelines\\ieeg\\viz\\mri.py:760: RuntimeWarning: Fiducial point lpa not found, assuming identity RAS (non-zero origin) to head transformation\n",
            "  info.set_montage(montage)\n",
            "C:\\Users\\jz421\\Desktop\\GlobalLocal\\IEEG_Pipelines\\ieeg\\viz\\mri.py:760: RuntimeWarning: Fiducial point lpa not found, assuming identity RAS (non-zero origin) to head transformation\n",
            "  info.set_montage(montage)\n",
            "C:\\Users\\jz421\\Desktop\\GlobalLocal\\IEEG_Pipelines\\ieeg\\viz\\mri.py:760: RuntimeWarning: Fiducial point lpa not found, assuming identity RAS (non-zero origin) to head transformation\n",
            "  info.set_montage(montage)\n",
            "C:\\Users\\jz421\\Desktop\\GlobalLocal\\IEEG_Pipelines\\ieeg\\viz\\mri.py:760: RuntimeWarning: Fiducial point lpa not found, assuming identity RAS (non-zero origin) to head transformation\n",
            "  info.set_montage(montage)\n",
            "C:\\Users\\jz421\\Desktop\\GlobalLocal\\IEEG_Pipelines\\ieeg\\viz\\mri.py:760: RuntimeWarning: Fiducial point lpa not found, assuming identity RAS (non-zero origin) to head transformation\n",
            "  info.set_montage(montage)\n",
            "C:\\Users\\jz421\\Desktop\\GlobalLocal\\IEEG_Pipelines\\ieeg\\viz\\mri.py:760: RuntimeWarning: Fiducial point lpa not found, assuming identity RAS (non-zero origin) to head transformation\n",
            "  info.set_montage(montage)\n",
            "C:\\Users\\jz421\\Desktop\\GlobalLocal\\IEEG_Pipelines\\ieeg\\viz\\mri.py:760: RuntimeWarning: Fiducial point lpa not found, assuming identity RAS (non-zero origin) to head transformation\n",
            "  info.set_montage(montage)\n",
            "C:\\Users\\jz421\\Desktop\\GlobalLocal\\IEEG_Pipelines\\ieeg\\viz\\mri.py:760: RuntimeWarning: Fiducial point lpa not found, assuming identity RAS (non-zero origin) to head transformation\n",
            "  info.set_montage(montage)\n"
          ]
        },
        {
          "name": "stdout",
          "output_type": "stream",
          "text": [
            "Attempting to read electrode file: C:\\Users\\jz421\\Box\\ECoG_Recon\\D71\\elec_recon\\D71_elec_locations_RAS_brainshifted.txt\n",
            "Attempting to read electrode file: C:\\Users\\jz421\\Box\\ECoG_Recon\\D94\\elec_recon\\D94_elec_locations_RAS_brainshifted.txt\n",
            "Attempting to read electrode file: C:\\Users\\jz421\\Box\\ECoG_Recon\\D102\\elec_recon\\D102_elec_locations_RAS_brainshifted.txt\n",
            "Attempting to read electrode file: C:\\Users\\jz421\\Box\\ECoG_Recon\\D103\\elec_recon\\D103_elec_locations_RAS_brainshifted.txt\n",
            "Attempting to read electrode file: C:\\Users\\jz421\\Box\\ECoG_Recon\\D57\\elec_recon\\D57_elec_locations_RAS_brainshifted.txt\n",
            "Attempting to read electrode file: C:\\Users\\jz421\\Box\\ECoG_Recon\\D59\\elec_recon\\D59_elec_locations_RAS_brainshifted.txt\n",
            "Attempting to read electrode file: C:\\Users\\jz421\\Box\\ECoG_Recon\\D63\\elec_recon\\D63_elec_locations_RAS_brainshifted.txt\n",
            "Attempting to read electrode file: C:\\Users\\jz421\\Box\\ECoG_Recon\\D71\\elec_recon\\D71_elec_locations_RAS_brainshifted.txt\n",
            "Attempting to read electrode file: C:\\Users\\jz421\\Box\\ECoG_Recon\\D94\\elec_recon\\D94_elec_locations_RAS_brainshifted.txt\n",
            "Attempting to read electrode file: C:\\Users\\jz421\\Box\\ECoG_Recon\\D102\\elec_recon\\D102_elec_locations_RAS_brainshifted.txt\n",
            "Attempting to read electrode file: C:\\Users\\jz421\\Box\\ECoG_Recon\\D103\\elec_recon\\D103_elec_locations_RAS_brainshifted.txt\n"
          ]
        },
        {
          "name": "stderr",
          "output_type": "stream",
          "text": [
            "C:\\Users\\jz421\\Desktop\\GlobalLocal\\IEEG_Pipelines\\ieeg\\viz\\mri.py:760: RuntimeWarning: Fiducial point lpa not found, assuming identity RAS (non-zero origin) to head transformation\n",
            "  info.set_montage(montage)\n",
            "C:\\Users\\jz421\\Desktop\\GlobalLocal\\IEEG_Pipelines\\ieeg\\viz\\mri.py:760: RuntimeWarning: Fiducial point lpa not found, assuming identity RAS (non-zero origin) to head transformation\n",
            "  info.set_montage(montage)\n",
            "C:\\Users\\jz421\\Desktop\\GlobalLocal\\IEEG_Pipelines\\ieeg\\viz\\mri.py:760: RuntimeWarning: Fiducial point lpa not found, assuming identity RAS (non-zero origin) to head transformation\n",
            "  info.set_montage(montage)\n",
            "C:\\Users\\jz421\\Desktop\\GlobalLocal\\IEEG_Pipelines\\ieeg\\viz\\mri.py:760: RuntimeWarning: Fiducial point lpa not found, assuming identity RAS (non-zero origin) to head transformation\n",
            "  info.set_montage(montage)\n",
            "C:\\Users\\jz421\\Desktop\\GlobalLocal\\IEEG_Pipelines\\ieeg\\viz\\mri.py:760: RuntimeWarning: Fiducial point lpa not found, assuming identity RAS (non-zero origin) to head transformation\n",
            "  info.set_montage(montage)\n"
          ]
        }
      ],
      "source": [
        "if structure_name == 'switchType_switchProportion_structure':\n",
        "    # Convert lists to sets for set operations\n",
        "    switchType_elecs_set = set(switchType_elecs)\n",
        "\n",
        "    switchType_switchProportion_elecs_set = set(switchType_switchProportion_elecs)\n",
        "\n",
        "    # Find overlapping electrodes (present in both lists)\n",
        "    overlap_switchCostAndLWPS_elecs = switchType_elecs_set.intersection(switchType_switchProportion_elecs_set)\n",
        "\n",
        "    # Find unique electrodes in switch type elecs\n",
        "    unique_switchType_elecs = switchType_elecs_set - switchType_switchProportion_elecs_set\n",
        "\n",
        "    # Find unique electrodes in congruency_congruencyProportion_elecs\n",
        "    unique_switchType_switchProportion_elecs = switchType_switchProportion_elecs_set - switchType_elecs_set\n",
        "\n",
        "    # Convert sets back to lists if necessary for plotting functions\n",
        "    overlap_switchCostAndLWPS_elecs_list = list(overlap_switchCostAndLWPS_elecs)\n",
        "    unique_switchType_elecs_list = list(unique_switchType_elecs)\n",
        "    unique_switchType_switchProportion_elecs_list = list(unique_switchType_switchProportion_elecs)\n",
        "\n",
        "    transparency = 0.6\n",
        "    # Plotting\n",
        "    # Plot unique electrodes for switch type in one color\n",
        "    fig = plot_on_average(subjects, picks=unique_switchType_elecs_list, rm_wm=False, hemi='both', color=(0, 0, 1), size=0.35, label_every=None, transparency=transparency)\n",
        "\n",
        "    # Plot unique electrodes for switchType:switchProportion in another color\n",
        "    fig = plot_on_average(subjects, picks=unique_switchType_switchProportion_elecs_list, rm_wm=False, hemi='both', color=(0.5, 0.5, 0.5), size=0.35, fig=fig, transparency=transparency)\n",
        "\n",
        "    # Plot overlapping electrodes in black\n",
        "    fig = plot_on_average(subjects, picks=overlap_switchCostAndLWPS_elecs_list, rm_wm=False, hemi='both', color=(0, 0, 0), size=0.35, fig=fig, transparency=transparency)"
      ]
    },
    {
      "cell_type": "code",
      "execution_count": 39,
      "metadata": {},
      "outputs": [
        {
          "name": "stdout",
          "output_type": "stream",
          "text": [
            "there are 15 unique congruency elecs\n",
            "there are 18 unique switch type elecs\n",
            "there are 15 mixed type elecs\n"
          ]
        },
        {
          "name": "stderr",
          "output_type": "stream",
          "text": [
            "C:\\Users\\jz421\\Desktop\\GlobalLocal\\IEEG_Pipelines\\ieeg\\viz\\mri.py:822: RuntimeWarning: Fiducial point lpa not found, assuming identity RAS (non-zero origin) to head transformation\n",
            "  info.set_montage(montage)\n",
            "C:\\Users\\jz421\\Desktop\\GlobalLocal\\IEEG_Pipelines\\ieeg\\viz\\mri.py:822: RuntimeWarning: Fiducial point lpa not found, assuming identity RAS (non-zero origin) to head transformation\n",
            "  info.set_montage(montage)\n",
            "C:\\Users\\jz421\\Desktop\\GlobalLocal\\IEEG_Pipelines\\ieeg\\viz\\mri.py:822: RuntimeWarning: Fiducial point lpa not found, assuming identity RAS (non-zero origin) to head transformation\n",
            "  info.set_montage(montage)\n",
            "C:\\Users\\jz421\\Desktop\\GlobalLocal\\IEEG_Pipelines\\ieeg\\viz\\mri.py:822: RuntimeWarning: Fiducial point lpa not found, assuming identity RAS (non-zero origin) to head transformation\n",
            "  info.set_montage(montage)\n",
            "C:\\Users\\jz421\\Desktop\\GlobalLocal\\IEEG_Pipelines\\ieeg\\viz\\mri.py:822: RuntimeWarning: Fiducial point lpa not found, assuming identity RAS (non-zero origin) to head transformation\n",
            "  info.set_montage(montage)\n",
            "C:\\Users\\jz421\\Desktop\\GlobalLocal\\IEEG_Pipelines\\ieeg\\viz\\mri.py:822: RuntimeWarning: Fiducial point lpa not found, assuming identity RAS (non-zero origin) to head transformation\n",
            "  info.set_montage(montage)\n",
            "C:\\Users\\jz421\\Desktop\\GlobalLocal\\IEEG_Pipelines\\ieeg\\viz\\mri.py:822: RuntimeWarning: Fiducial point lpa not found, assuming identity RAS (non-zero origin) to head transformation\n",
            "  info.set_montage(montage)\n",
            "C:\\Users\\jz421\\Desktop\\GlobalLocal\\IEEG_Pipelines\\ieeg\\viz\\mri.py:822: RuntimeWarning: Fiducial point lpa not found, assuming identity RAS (non-zero origin) to head transformation\n",
            "  info.set_montage(montage)\n",
            "C:\\Users\\jz421\\Desktop\\GlobalLocal\\IEEG_Pipelines\\ieeg\\viz\\mri.py:822: RuntimeWarning: Fiducial point lpa not found, assuming identity RAS (non-zero origin) to head transformation\n",
            "  info.set_montage(montage)\n",
            "C:\\Users\\jz421\\Desktop\\GlobalLocal\\IEEG_Pipelines\\ieeg\\viz\\mri.py:822: RuntimeWarning: Fiducial point lpa not found, assuming identity RAS (non-zero origin) to head transformation\n",
            "  info.set_montage(montage)\n",
            "C:\\Users\\jz421\\Desktop\\GlobalLocal\\IEEG_Pipelines\\ieeg\\viz\\mri.py:822: RuntimeWarning: Fiducial point lpa not found, assuming identity RAS (non-zero origin) to head transformation\n",
            "  info.set_montage(montage)\n",
            "C:\\Users\\jz421\\Desktop\\GlobalLocal\\IEEG_Pipelines\\ieeg\\viz\\mri.py:822: RuntimeWarning: Fiducial point lpa not found, assuming identity RAS (non-zero origin) to head transformation\n",
            "  info.set_montage(montage)\n",
            "C:\\Users\\jz421\\Desktop\\GlobalLocal\\IEEG_Pipelines\\ieeg\\viz\\mri.py:822: RuntimeWarning: Fiducial point lpa not found, assuming identity RAS (non-zero origin) to head transformation\n",
            "  info.set_montage(montage)\n",
            "C:\\Users\\jz421\\Desktop\\GlobalLocal\\IEEG_Pipelines\\ieeg\\viz\\mri.py:822: RuntimeWarning: Fiducial point lpa not found, assuming identity RAS (non-zero origin) to head transformation\n",
            "  info.set_montage(montage)\n",
            "C:\\Users\\jz421\\Desktop\\GlobalLocal\\IEEG_Pipelines\\ieeg\\viz\\mri.py:822: RuntimeWarning: Fiducial point lpa not found, assuming identity RAS (non-zero origin) to head transformation\n",
            "  info.set_montage(montage)\n",
            "C:\\Users\\jz421\\Desktop\\GlobalLocal\\IEEG_Pipelines\\ieeg\\viz\\mri.py:822: RuntimeWarning: Fiducial point lpa not found, assuming identity RAS (non-zero origin) to head transformation\n",
            "  info.set_montage(montage)\n",
            "C:\\Users\\jz421\\Desktop\\GlobalLocal\\IEEG_Pipelines\\ieeg\\viz\\mri.py:822: RuntimeWarning: Fiducial point lpa not found, assuming identity RAS (non-zero origin) to head transformation\n",
            "  info.set_montage(montage)\n",
            "C:\\Users\\jz421\\Desktop\\GlobalLocal\\IEEG_Pipelines\\ieeg\\viz\\mri.py:822: RuntimeWarning: Fiducial point lpa not found, assuming identity RAS (non-zero origin) to head transformation\n",
            "  info.set_montage(montage)\n",
            "C:\\Users\\jz421\\Desktop\\GlobalLocal\\IEEG_Pipelines\\ieeg\\viz\\mri.py:822: RuntimeWarning: Fiducial point lpa not found, assuming identity RAS (non-zero origin) to head transformation\n",
            "  info.set_montage(montage)\n",
            "C:\\Users\\jz421\\Desktop\\GlobalLocal\\IEEG_Pipelines\\ieeg\\viz\\mri.py:822: RuntimeWarning: Fiducial point lpa not found, assuming identity RAS (non-zero origin) to head transformation\n",
            "  info.set_montage(montage)\n",
            "C:\\Users\\jz421\\Desktop\\GlobalLocal\\IEEG_Pipelines\\ieeg\\viz\\mri.py:822: RuntimeWarning: Fiducial point lpa not found, assuming identity RAS (non-zero origin) to head transformation\n",
            "  info.set_montage(montage)\n",
            "C:\\Users\\jz421\\Desktop\\GlobalLocal\\IEEG_Pipelines\\ieeg\\viz\\mri.py:822: RuntimeWarning: Fiducial point lpa not found, assuming identity RAS (non-zero origin) to head transformation\n",
            "  info.set_montage(montage)\n",
            "C:\\Users\\jz421\\Desktop\\GlobalLocal\\IEEG_Pipelines\\ieeg\\viz\\mri.py:822: RuntimeWarning: Fiducial point lpa not found, assuming identity RAS (non-zero origin) to head transformation\n",
            "  info.set_montage(montage)\n",
            "C:\\Users\\jz421\\Desktop\\GlobalLocal\\IEEG_Pipelines\\ieeg\\viz\\mri.py:822: RuntimeWarning: Fiducial point lpa not found, assuming identity RAS (non-zero origin) to head transformation\n",
            "  info.set_montage(montage)\n",
            "C:\\Users\\jz421\\Desktop\\GlobalLocal\\IEEG_Pipelines\\ieeg\\viz\\mri.py:822: RuntimeWarning: Fiducial point lpa not found, assuming identity RAS (non-zero origin) to head transformation\n",
            "  info.set_montage(montage)\n",
            "C:\\Users\\jz421\\Desktop\\GlobalLocal\\IEEG_Pipelines\\ieeg\\viz\\mri.py:822: RuntimeWarning: Fiducial point lpa not found, assuming identity RAS (non-zero origin) to head transformation\n",
            "  info.set_montage(montage)\n",
            "C:\\Users\\jz421\\Desktop\\GlobalLocal\\IEEG_Pipelines\\ieeg\\viz\\mri.py:822: RuntimeWarning: Fiducial point lpa not found, assuming identity RAS (non-zero origin) to head transformation\n",
            "  info.set_montage(montage)\n",
            "C:\\Users\\jz421\\Desktop\\GlobalLocal\\IEEG_Pipelines\\ieeg\\viz\\mri.py:822: RuntimeWarning: Fiducial point lpa not found, assuming identity RAS (non-zero origin) to head transformation\n",
            "  info.set_montage(montage)\n",
            "C:\\Users\\jz421\\Desktop\\GlobalLocal\\IEEG_Pipelines\\ieeg\\viz\\mri.py:822: RuntimeWarning: Fiducial point lpa not found, assuming identity RAS (non-zero origin) to head transformation\n",
            "  info.set_montage(montage)\n",
            "C:\\Users\\jz421\\Desktop\\GlobalLocal\\IEEG_Pipelines\\ieeg\\viz\\mri.py:822: RuntimeWarning: Fiducial point lpa not found, assuming identity RAS (non-zero origin) to head transformation\n",
            "  info.set_montage(montage)\n"
          ]
        }
      ],
      "source": [
        "if structure_name == 'congruency_switchType_structure':\n",
        "\n",
        "    congruency_elecs_set = set(congruency_elecs)\n",
        "    switchType_elecs_set = set(switchType_elecs)\n",
        "    congruency_switchType_elecs_set = set(congruency_switchType_elecs)\n",
        "\n",
        "    # Find overlapping electrodes (present in both lists). Then also find union with the interaction effect.\n",
        "    overlap_congruencyEffectAndSwitchCost_elecs = switchType_elecs_set.intersection(congruency_elecs_set)\n",
        "    overlap_and_interaction_congruencyEffectAndSwitchCost_elecs = (overlap_congruencyEffectAndSwitchCost_elecs | congruency_switchType_elecs_set)\n",
        "\n",
        "    # Find unique electrodes in switchType_elecs\n",
        "    unique_switchType_elecs = switchType_elecs_set - congruency_elecs_set - congruency_switchType_elecs_set\n",
        "\n",
        "    # Find unique electrodes in congruency_elecs\n",
        "    unique_congruency_elecs = congruency_elecs_set - switchType_elecs_set - congruency_switchType_elecs_set\n",
        "\n",
        "    # Convert sets back to lists if necessary for plotting functions\n",
        "    overlap_congruencyEffectAndSwitchCost_elecs_list = list(overlap_congruencyEffectAndSwitchCost_elecs)\n",
        "    overlap_and_interaction_congruencyEffectAndSwitchCost_elecs_list = list(overlap_and_interaction_congruencyEffectAndSwitchCost_elecs)\n",
        "    unique_switchType_elecs_list = list(unique_switchType_elecs)\n",
        "    unique_congruency_elecs_list = list(unique_congruency_elecs)\n",
        "    print(f'there are {len(unique_congruency_elecs_list)} unique congruency elecs')\n",
        "    print(f'there are {len(unique_switchType_elecs_list)} unique switch type elecs')\n",
        "    print(f'there are {len(overlap_and_interaction_congruencyEffectAndSwitchCost_elecs_list)} mixed type elecs')\n",
        "\n",
        "    transparency = 0.6\n",
        "    # Plotting\n",
        "    # Plot unique electrodes for switch type in one color\n",
        "    fig = plot_on_average(subjects, picks=unique_congruency_elecs_list, rm_wm=False, hemi='both', color=(1,0,0), size=0.35, label_every=None, transparency=transparency)\n",
        "\n",
        "    # Plot unique electrodes for switchType:switchProportion in another color\n",
        "    fig = plot_on_average(subjects, picks=unique_switchType_elecs_list, rm_wm=False, hemi='both', color=(0, 0, 1), size=0.35, fig=fig, transparency=transparency)\n",
        "\n",
        "    # Plot overlapping electrodes in black\n",
        "    fig = plot_on_average(subjects, picks=overlap_and_interaction_congruencyEffectAndSwitchCost_elecs_list, rm_wm=False, hemi='both', color=(0, 0, 0), size=0.35, fig=fig, transparency=transparency)"
      ]
    },
    {
      "cell_type": "markdown",
      "metadata": {},
      "source": [
        "plot con vs switch using names. Old as of 5/21."
      ]
    },
    {
      "cell_type": "code",
      "execution_count": 78,
      "metadata": {},
      "outputs": [
        {
          "ename": "NameError",
          "evalue": "name 'ch_names' is not defined",
          "output_type": "error",
          "traceback": [
            "\u001b[1;31m---------------------------------------------------------------------------\u001b[0m",
            "\u001b[1;31mNameError\u001b[0m                                 Traceback (most recent call last)",
            "Cell \u001b[1;32mIn[78], line 24\u001b[0m\n\u001b[0;32m     21\u001b[0m unique_congruency_elecs_list \u001b[38;5;241m=\u001b[39m \u001b[38;5;28mlist\u001b[39m(unique_congruency_elecs)\n\u001b[0;32m     23\u001b[0m \u001b[38;5;66;03m#convert indices back to channel names because indices are broken for plotting right now 4/2. Just remove the indices step entirely later.\u001b[39;00m\n\u001b[1;32m---> 24\u001b[0m unique_switchType_elecs_names \u001b[38;5;241m=\u001b[39m \u001b[43m[\u001b[49m\u001b[43mch_names\u001b[49m\u001b[43m[\u001b[49m\u001b[43mi\u001b[49m\u001b[43m]\u001b[49m\u001b[43m \u001b[49m\u001b[38;5;28;43;01mfor\u001b[39;49;00m\u001b[43m \u001b[49m\u001b[43mi\u001b[49m\u001b[43m \u001b[49m\u001b[38;5;129;43;01min\u001b[39;49;00m\u001b[43m \u001b[49m\u001b[43munique_switchType_elecs\u001b[49m\u001b[43m]\u001b[49m\n\u001b[0;32m     25\u001b[0m unique_congruency_elecs_names \u001b[38;5;241m=\u001b[39m [ch_names[i] \u001b[38;5;28;01mfor\u001b[39;00m i \u001b[38;5;129;01min\u001b[39;00m unique_congruency_elecs]\n\u001b[0;32m     26\u001b[0m overlap_and_interaction_congruencyEffectAndSwitchCost_elecs_names \u001b[38;5;241m=\u001b[39m [ch_names[i] \u001b[38;5;28;01mfor\u001b[39;00m i \u001b[38;5;129;01min\u001b[39;00m overlap_and_interaction_congruencyEffectAndSwitchCost_elecs]\n",
            "Cell \u001b[1;32mIn[78], line 24\u001b[0m, in \u001b[0;36m<listcomp>\u001b[1;34m(.0)\u001b[0m\n\u001b[0;32m     21\u001b[0m unique_congruency_elecs_list \u001b[38;5;241m=\u001b[39m \u001b[38;5;28mlist\u001b[39m(unique_congruency_elecs)\n\u001b[0;32m     23\u001b[0m \u001b[38;5;66;03m#convert indices back to channel names because indices are broken for plotting right now 4/2. Just remove the indices step entirely later.\u001b[39;00m\n\u001b[1;32m---> 24\u001b[0m unique_switchType_elecs_names \u001b[38;5;241m=\u001b[39m [\u001b[43mch_names\u001b[49m[i] \u001b[38;5;28;01mfor\u001b[39;00m i \u001b[38;5;129;01min\u001b[39;00m unique_switchType_elecs]\n\u001b[0;32m     25\u001b[0m unique_congruency_elecs_names \u001b[38;5;241m=\u001b[39m [ch_names[i] \u001b[38;5;28;01mfor\u001b[39;00m i \u001b[38;5;129;01min\u001b[39;00m unique_congruency_elecs]\n\u001b[0;32m     26\u001b[0m overlap_and_interaction_congruencyEffectAndSwitchCost_elecs_names \u001b[38;5;241m=\u001b[39m [ch_names[i] \u001b[38;5;28;01mfor\u001b[39;00m i \u001b[38;5;129;01min\u001b[39;00m overlap_and_interaction_congruencyEffectAndSwitchCost_elecs]\n",
            "\u001b[1;31mNameError\u001b[0m: name 'ch_names' is not defined"
          ]
        }
      ],
      "source": [
        "subjects = ['D0057', 'D0059', 'D0063', 'D0065', 'D0069', 'D0071', 'D0077', 'D0090', 'D0094', 'D0100', 'D0102', 'D0103'] # don't hard code this, delete this line after cns 4/9\n",
        "congruency_elecs_set = set(congruency_elecs)\n",
        "switchType_elecs_set = set(switchType_elecs)\n",
        "congruency_switchType_elecs_set = set(congruency_switchType_elecs)\n",
        "\n",
        "# Find overlapping electrodes (present in both lists). Then also find union with the interaction effect.\n",
        "overlap_congruencyEffectAndSwitchCost_elecs = switchType_elecs_set.intersection(congruency_elecs_set)\n",
        "overlap_and_interaction_congruencyEffectAndSwitchCost_elecs = (overlap_congruencyEffectAndSwitchCost_elecs | congruency_switchType_elecs_set)\n",
        "\n",
        "# Find unique electrodes in switchType_elecs\n",
        "unique_switchType_elecs = switchType_elecs_set - congruency_elecs_set - congruency_switchType_elecs_set\n",
        "\n",
        "# Find unique electrodes in congruency_elecs\n",
        "unique_congruency_elecs = congruency_elecs_set - switchType_elecs_set - congruency_switchType_elecs_set\n",
        "\n",
        "# Convert sets back to lists if necessary for plotting functions\n",
        "overlap_congruencyEffectAndSwitchCost_elecs_list = list(overlap_congruencyEffectAndSwitchCost_elecs)\n",
        "overlap_and_interaction_congruencyEffectAndSwitchCost_elecs_list = list(overlap_and_interaction_congruencyEffectAndSwitchCost_elecs)\n",
        "\n",
        "unique_switchType_elecs_list = list(unique_switchType_elecs)\n",
        "unique_congruency_elecs_list = list(unique_congruency_elecs)\n",
        "\n",
        "# #convert indices back to channel names because indices are broken for plotting right now 4/2. Just remove the indices step entirely later.\n",
        "# unique_switchType_elecs_names = [ch_names[i] for i in unique_switchType_elecs]\n",
        "# unique_congruency_elecs_names = [ch_names[i] for i in unique_congruency_elecs]\n",
        "# overlap_and_interaction_congruencyEffectAndSwitchCost_elecs_names = [ch_names[i] for i in overlap_and_interaction_congruencyEffectAndSwitchCost_elecs]\n",
        "\n",
        "# def format_subject_names(subject_names):\n",
        "#     formatted_names = []\n",
        "#     for name in subject_names:\n",
        "#         # Extract the numeric part of the subject name (assuming it always starts with 'D')\n",
        "#         num_part = int(name[1:])\n",
        "#         # Format the number with leading zeros to ensure it has four digits and prepend 'D'\n",
        "#         formatted_name = 'D' + format(num_part, '04')\n",
        "#         formatted_names.append(formatted_name)\n",
        "#     return formatted_names\n",
        "\n",
        "# # For your specific cases of electrode names where the subject name is part of the electrode name\n",
        "# def format_electrode_names(electrode_names):\n",
        "#     formatted_electrode_names = []\n",
        "#     for name in electrode_names:\n",
        "#         # Split the electrode name at the first '-' to separate subject name from the rest\n",
        "#         parts = name.split('-', 1)\n",
        "#         subject_name = parts[0]\n",
        "#         rest_of_name = parts[1] if len(parts) > 1 else ''\n",
        "#         # Format the subject name\n",
        "#         formatted_subject_name = format_subject_names([subject_name])[0]\n",
        "#         # Combine the formatted subject name with the rest of the electrode name\n",
        "#         formatted_electrode_name = formatted_subject_name + '-' + rest_of_name\n",
        "#         formatted_electrode_names.append(formatted_electrode_name)\n",
        "#     return formatted_electrode_names\n",
        "\n",
        "# # Example usage:\n",
        "# unique_switchType_elecs_names_formatted = format_electrode_names(unique_switchType_elecs_names)\n",
        "# unique_congruency_elecs_names_formatted = format_electrode_names(unique_congruency_elecs_names)\n",
        "# overlap_and_interaction_congruencyEffectAndSwitchCost_elecs_names_formatted = format_electrode_names(overlap_and_interaction_congruencyEffectAndSwitchCost_elecs_names)\n",
        "\n",
        "# print(unique_congruency_elecs_names_formatted)\n",
        "\n",
        "# # Plotting\n",
        "# # Plot unique electrodes for congruency effect\n",
        "# fig = plot_on_average(subjects, picks=unique_congruency_elecs_names_formatted, rm_wm=False, hemi='both', color=(1, 0, 0), size=0.45, transparency=0.4)\n",
        "\n",
        "# # Plot unique electrodes for switchType in another color\n",
        "# fig = plot_on_average(subjects, picks=unique_switchType_elecs_names_formatted, rm_wm=False, hemi='both', color=(0, 0, 1), size=0.45, fig=fig)\n",
        "\n",
        "# # Plot overlapping electrodes and interaction electrodes in black\n",
        "# fig = plot_on_average(subjects, picks=overlap_and_interaction_congruencyEffectAndSwitchCost_elecs_names_formatted, rm_wm=False, hemi='both', color=(0, 0, 0), size=0.45, fig=fig)"
      ]
    },
    {
      "cell_type": "code",
      "execution_count": null,
      "metadata": {},
      "outputs": [],
      "source": [
        "unique_switchType_elecs_list"
      ]
    },
    {
      "cell_type": "code",
      "execution_count": null,
      "metadata": {},
      "outputs": [],
      "source": [
        "len(unique_congruency_elecs_list)"
      ]
    },
    {
      "cell_type": "code",
      "execution_count": null,
      "metadata": {},
      "outputs": [],
      "source": [
        "len(overlap_and_interaction_congruencyEffectAndSwitchCost_elecs_list)"
      ]
    },
    {
      "cell_type": "markdown",
      "metadata": {},
      "source": [
        "plot congruency_switchType interaction vs intersection of congruency and switch type  \n",
        "i am aware these variable names are awful and inconsistent. Change them later.. 3/27"
      ]
    },
    {
      "cell_type": "code",
      "execution_count": null,
      "metadata": {},
      "outputs": [],
      "source": [
        "congruency_switchType_elecs_set = set(congruency_switchType_elecs)\n",
        "\n",
        "# Find overlapping electrodes (present in both lists)\n",
        "overlap_congruency_switchType_and_overlap_congruencyEffectAndSwitchCost_elecs = congruency_switchType_elecs_set.intersection(overlap_congruencyEffectAndSwitchCost_elecs)\n",
        "\n",
        "# Find unique electrodes in conSwitchInteraction\n",
        "unique_congruency_switchType_elecs = congruency_switchType_elecs_set - overlap_congruencyEffectAndSwitchCost_elecs\n",
        "\n",
        "# Find unique electrodes in overlap_congruencyEffectAndSwitchCost_elecs\n",
        "unique_overlap_congruencyEffectAndSwitchCost_elecs = overlap_congruencyEffectAndSwitchCost_elecs - congruency_switchType_elecs_set\n",
        "\n",
        "# Convert sets back to lists if necessary for plotting functions\n",
        "overlap_congruency_switchType_and_overlap_congruencyEffectAndSwitchCost_elecs_list = list(overlap_congruency_switchType_and_overlap_congruencyEffectAndSwitchCost_elecs)\n",
        "unique_congruency_switchType_elecs_list = list(unique_congruency_switchType_elecs)\n",
        "unique_overlap_congruencyEffectAndSwitchCost_elecs_list = list(unique_overlap_congruencyEffectAndSwitchCost_elecs)\n",
        "\n",
        "# Plotting\n",
        "# Plot unique electrodes for con switch interaction\n",
        "fig = plot_on_average(subjects, picks=unique_congruency_switchType_elecs_list, rm_wm=True, hemi='both', color=(0.5, 0.3, 0.1), size=0.35, transparency=0.2)\n",
        "\n",
        "# Plot unique electrodes for con switch overlap\n",
        "fig = plot_on_average(subjects, picks=unique_overlap_congruencyEffectAndSwitchCost_elecs_list, rm_wm=True, hemi='both', color=(1, 1, 1), size=0.35, fig=fig, transparency=0.2)\n",
        "\n",
        "# Plot overlapping electrodes in black\n",
        "fig = plot_on_average(subjects, picks=overlap_congruency_switchType_and_overlap_congruencyEffectAndSwitchCost_elecs_list, rm_wm=True, hemi='both', color=(0, 0, 0), size=0.35, fig=fig, transparency=0.2)"
      ]
    },
    {
      "cell_type": "markdown",
      "metadata": {},
      "source": [
        "plot congruency switch interaction and additive effects VS congruency and switch type unique main effects"
      ]
    },
    {
      "cell_type": "code",
      "execution_count": 79,
      "metadata": {},
      "outputs": [
        {
          "ename": "NameError",
          "evalue": "name 'congruency_switchType_interaction_elecs' is not defined",
          "output_type": "error",
          "traceback": [
            "\u001b[1;31m---------------------------------------------------------------------------\u001b[0m",
            "\u001b[1;31mNameError\u001b[0m                                 Traceback (most recent call last)",
            "Cell \u001b[1;32mIn[79], line 1\u001b[0m\n\u001b[1;32m----> 1\u001b[0m conSwitchInteractionOrAdditiveEffects \u001b[38;5;241m=\u001b[39m (\u001b[38;5;28mset\u001b[39m(\u001b[43mcongruency_switchType_interaction_elecs\u001b[49m) \u001b[38;5;241m|\u001b[39m \u001b[38;5;28mset\u001b[39m(overlap_congruencyEffectAndSwitchCost_elecs))\n\u001b[0;32m      2\u001b[0m conSwitchMainEffects \u001b[38;5;241m=\u001b[39m (\u001b[38;5;28mset\u001b[39m(congruency_elecs) \u001b[38;5;241m|\u001b[39m \u001b[38;5;28mset\u001b[39m(switchType_elecs))\n\u001b[0;32m      4\u001b[0m \u001b[38;5;66;03m# Find overlapping electrodes (present in both lists)\u001b[39;00m\n",
            "\u001b[1;31mNameError\u001b[0m: name 'congruency_switchType_interaction_elecs' is not defined"
          ]
        }
      ],
      "source": [
        "conSwitchInteractionOrAdditiveEffects = (set(congruency_switchType_interaction_elecs) | set(overlap_congruencyEffectAndSwitchCost_elecs))\n",
        "conSwitchMainEffects = (set(congruency_elecs) | set(switchType_elecs))\n",
        "\n",
        "# Find overlapping electrodes (present in both lists)\n",
        "overlapMainAndInteractionEffects = conSwitchInteractionOrAdditiveEffects.intersection(conSwitchMainEffects)\n",
        "\n",
        "# Find unique electrodes in conSwitchInteractionOrAdditiveEffects\n",
        "unique_conSwitchInteractionOrAdditiveEffects_elecs = conSwitchInteractionOrAdditiveEffects - conSwitchMainEffects\n",
        "\n",
        "# Find unique electrodes in conSwitchMainEffects\n",
        "unique_conSwitchMainEffects_elecs = conSwitchMainEffects - conSwitchInteractionOrAdditiveEffects\n",
        "\n",
        "# Convert sets back to lists if necessary for plotting functions\n",
        "overlapMainAndInteractionEffects_list = list(overlapMainAndInteractionEffects)\n",
        "unique_conSwitchInteractionOrAdditiveEffects_elecs_list = list(unique_conSwitchInteractionOrAdditiveEffects_elecs)\n",
        "unique_conSwitchMainEffects_elecs_list = list(unique_conSwitchMainEffects_elecs)\n",
        "\n",
        "# Plotting\n",
        "# Plot unique electrodes for con switch interaction\n",
        "fig = plot_on_average(subjects, picks=unique_conSwitchInteractionOrAdditiveEffects_elecs_list, rm_wm=False, hemi='both', color=(0, 1, 0), size=0.45, transparency=0.2)\n",
        "\n",
        "# Plot unique electrodes for con switch overlap\n",
        "fig = plot_on_average(subjects, picks=unique_conSwitchMainEffects_elecs_list, rm_wm=False, hemi='both', color=(1, 0, 0), size=0.45, fig=fig, transparency=0.2)\n",
        "\n",
        "# Plot overlapping electrodes in black\n",
        "fig = plot_on_average(subjects, picks=overlapMainAndInteractionEffects_list, rm_wm=False, hemi='both', color=(0, 0, 0), size=0.45, fig=fig, transparency=0.2)"
      ]
    },
    {
      "cell_type": "code",
      "execution_count": null,
      "metadata": {},
      "outputs": [],
      "source": [
        "len(overlapMainAndInteractionEffects_list)"
      ]
    },
    {
      "cell_type": "markdown",
      "metadata": {},
      "source": [
        "### plot all stim electrodes for an roi\n",
        "get the subject: electrode mappings from roi_analysis first"
      ]
    },
    {
      "cell_type": "code",
      "execution_count": null,
      "metadata": {},
      "outputs": [],
      "source": [
        "def get_sig_chans(sub, task, LAB_root=None):\n",
        "    # Determine LAB_root based on the operating system\n",
        "    if LAB_root is None:\n",
        "        HOME = os.path.expanduser(\"~\")\n",
        "        LAB_root = os.path.join(HOME, \"Box\", \"CoganLab\") if os.name == 'nt' else os.path.join(HOME, \"Library\", \"CloudStorage\", \"Box-Box\", \"CoganLab\")\n",
        "\n",
        "    # Get data layout\n",
        "    layout = get_data(task, root=LAB_root)\n",
        "    save_dir = os.path.join(layout.root, 'derivatives', 'freqFilt', 'figs', sub)\n",
        "\n",
        "    stim_filename = f'{save_dir}\\\\sig_chans_{sub}_Stimulus_fixationCrossBase_1sec_mirror.json'\n",
        "    stim_sig_chans = load_sig_chans(stim_filename)\n",
        "    return stim_sig_chans\n",
        "\n",
        "# Initialize an empty dictionary to store significant channels per subject\n",
        "sig_chans_per_subject = {}\n",
        "\n",
        "# Populate the dictionary using get_sig_chans for each subject\n",
        "for sub in subjects:\n",
        "    sig_chans_per_subject[sub] = get_sig_chans(sub, 'GlobalLocal')\n",
        "\n",
        "# Now sig_chans_per_subject dictionary is populated with significant channels for each subject"
      ]
    },
    {
      "cell_type": "code",
      "execution_count": null,
      "metadata": {},
      "outputs": [],
      "source": [
        "import json\n",
        "\n",
        "# Load from a JSON file\n",
        "filename = 'subjects_electrodestoROIs_dict.json'\n",
        "\n",
        "with open(filename, 'r') as file:\n",
        "    subjects_electrodestoROIs_dict = json.load(file)\n",
        "\n",
        "print(f\"Loaded data from {filename}\")"
      ]
    },
    {
      "cell_type": "code",
      "execution_count": null,
      "metadata": {},
      "outputs": [],
      "source": [
        "def filter_electrodes_by_roi(subjects_electrodes_dict, sig_chans_per_subject, roi_list):\n",
        "    \"\"\"\n",
        "    Filters electrodes based on specified ROIs and returns significant electrodes for each subject.\n",
        "\n",
        "    Args:\n",
        "    subjects_electrodes_dict (dict): A dictionary with subjects as keys and electrode-to-ROI mappings as values.\n",
        "    sig_chans_per_subject (dict): A dictionary with subjects as keys and lists of significant channels as values.\n",
        "    roi_list (list): A list of ROIs to filter electrodes.\n",
        "\n",
        "    Returns:\n",
        "    dict: A dictionary with subjects as keys and lists of significant electrodes in specified ROIs as values.\n",
        "    \"\"\"\n",
        "    filtered_electrodes_per_subject = {}\n",
        "\n",
        "    for sub, electrodes_dict in subjects_electrodes_dict.items():\n",
        "        filtered = {key: value for key, value in electrodes_dict['filtROI_dict'].items() \n",
        "                    if any(roi in key for roi in roi_list)}\n",
        "\n",
        "        # Aggregate electrodes into a list for each subject\n",
        "        filtered_electrodes = []\n",
        "        for electrodes in filtered.values():\n",
        "            filtered_electrodes.extend(electrodes)\n",
        "\n",
        "        filtered_electrodes_per_subject[sub] = filtered_electrodes\n",
        "        print(f'For subject {sub}, {\", \".join(roi_list)} electrodes are: {filtered_electrodes}')\n",
        "\n",
        "    # Now filter for significant electrodes\n",
        "    sig_filtered_electrodes_per_subject = {}\n",
        "\n",
        "    for sub, filtered_electrodes in filtered_electrodes_per_subject.items():\n",
        "        # Retrieve the list of significant channels for the subject\n",
        "        sig_chans = sig_chans_per_subject.get(sub, [])\n",
        "\n",
        "        # Find the intersection of filtered electrodes and significant channels for the subject\n",
        "        sig_filtered_electrodes = [elec for elec in filtered_electrodes if elec in sig_chans]\n",
        "\n",
        "        # Store the significant filtered electrodes for the subject\n",
        "        sig_filtered_electrodes_per_subject[sub] = sig_filtered_electrodes\n",
        "        print(f\"Subject {sub} significant {', '.join(roi_list)} electrodes: {sig_filtered_electrodes}\")\n",
        "\n",
        "    return filtered_electrodes_per_subject, sig_filtered_electrodes_per_subject\n",
        "\n",
        "# Example usage:\n",
        "dlpfc_rois = [\"G_front_middle\", \"G_front_sup\", \"S_front_inf\", \"S_front_middle\", \"S_front_sup\"] #dorsolateral prefrontal cortex\n",
        "acc_rois = [\"G_and_S_cingul-Ant\", \"G_and_S_cingul-Mid-Ant\"] #anterior cingulate cortex\n",
        "parietal_rois = [\"G_parietal_sup\", \"S_intrapariet_and_P_trans\", \"G_pariet_inf-Angular\", \"G_pariet_inf-Supramar\"] #superior parietal lobule, intraparietal sulcus, and inferior parietal lobule (split into angular gyrus and supramarginal gyrus)\n",
        "dlpfc_electrodes_per_subject, sig_dlpfc_electrodes_per_subject = filter_electrodes_by_roi(subjects_electrodestoROIs_dict, sig_chans_per_subject, dlpfc_rois)\n",
        "acc_electrodes_per_subject, sig_acc_electrodes_per_subject = filter_electrodes_by_roi(subjects_electrodestoROIs_dict, sig_chans_per_subject, acc_rois)\n",
        "parietal_electrodes_per_subject, sig_parietal_electrodes_per_subject = filter_electrodes_by_roi(subjects_electrodestoROIs_dict, sig_chans_per_subject, parietal_rois)"
      ]
    },
    {
      "cell_type": "markdown",
      "metadata": {},
      "source": [
        "this is with zeroes removed from subject names, i think plot on average needs those instead of the normal subject names  \n",
        "also, remove the subjects with empty lists since those might be breaking the plotting too"
      ]
    },
    {
      "cell_type": "code",
      "execution_count": null,
      "metadata": {},
      "outputs": [],
      "source": [
        "def remove_leading_zeroes_and_empty_subjects(subjects_dict):\n",
        "    \"\"\"\n",
        "    Removes leading zeroes from subject names, adds a '_without_zeroes' suffix, \n",
        "    and filters out subjects with empty lists.\n",
        "\n",
        "    Args:\n",
        "    subjects_dict (dict): A dictionary with subjects as keys and lists as values.\n",
        "\n",
        "    Returns:\n",
        "    dict: A new dictionary with modified subject names and non-empty lists.\n",
        "    \"\"\"\n",
        "    new_dict = {}\n",
        "    for sub, value in subjects_dict.items():\n",
        "        if value:  # Check if the list is not empty\n",
        "            sub_without_zeroes = \"D\" + sub[1:].lstrip('0')\n",
        "            new_dict[sub_without_zeroes] = value\n",
        "    return new_dict\n",
        "\n",
        "# Example usage:\n",
        "dlpfc_electrodes_without_zeroes = remove_leading_zeroes_and_empty_subjects(dlpfc_electrodes_per_subject)\n",
        "sig_dlpfc_electrodes_without_zeroes = remove_leading_zeroes_and_empty_subjects(sig_dlpfc_electrodes_per_subject)\n",
        "\n",
        "acc_electrodes_without_zeroes = remove_leading_zeroes_and_empty_subjects(acc_electrodes_per_subject)\n",
        "sig_acc_electrodes_without_zeroes = remove_leading_zeroes_and_empty_subjects(sig_acc_electrodes_per_subject)\n",
        "\n",
        "parietal_electrodes_without_zeroes = remove_leading_zeroes_and_empty_subjects(parietal_electrodes_per_subject)\n",
        "sig_parietal_electrodes_without_zeroes = remove_leading_zeroes_and_empty_subjects(sig_parietal_electrodes_per_subject)"
      ]
    },
    {
      "cell_type": "markdown",
      "metadata": {},
      "source": [
        "### plot sig roi electrodes on individual brains"
      ]
    },
    {
      "cell_type": "markdown",
      "metadata": {},
      "source": [
        "#### dlpfc"
      ]
    },
    {
      "cell_type": "code",
      "execution_count": null,
      "metadata": {},
      "outputs": [],
      "source": [
        "for subj in sig_dlpfc_electrodes_without_zeroes:\n",
        "    print(subj)"
      ]
    },
    {
      "cell_type": "markdown",
      "metadata": {},
      "source": [
        "manually do single subjects"
      ]
    },
    {
      "cell_type": "code",
      "execution_count": null,
      "metadata": {},
      "outputs": [],
      "source": [
        "subj = 'D0103'\n",
        "base_path = r'C:\\Users\\jz421\\Box\\CoganLab\\BIDS-1.1_GlobalLocal\\BIDS\\derivatives\\freqFilt\\figs'\n",
        "\n",
        "subj_without_zeroes = \"D\" + subj[1:].lstrip('0')\n",
        "print(\"Picks for subject:\", sig_dlpfc_electrodes_without_zeroes[subj_without_zeroes])\n",
        "brain_fig = plot_subj_sig_and_nonsig(subj_without_zeroes, sig_picks=sig_dlpfc_electrodes_without_zeroes[subj_without_zeroes], nonsig_picks=dlpfc_electrodes_without_zeroes[subj_without_zeroes], sig_color=(1,1,0), nonsig_color=(1,1,1), labels_every=1, hemi='both', title=f'{subj}_dlPFC', background='black')\n",
        "# brain_fig = plot_subj(subj_without_zeroes, picks=sig_dlpfc_electrodes_without_zeroes[subj_without_zeroes], labels_every=1, hemi='both', title=f'{subj}_dlPFC', background='black', color=(1, 1, 0))\n",
        "\n",
        "# Specify the path and filename for the PNG file\n",
        "png_filepath = os.path.join(base_path, f\"{subj_without_zeroes}_dlPFC.png\")\n",
        "\n",
        "# Save the figure\n",
        "brain_fig.save_image(png_filepath, 'png')"
      ]
    },
    {
      "cell_type": "markdown",
      "metadata": {},
      "source": [
        "loop thru everyone who has sig dlpfc electrodes"
      ]
    },
    {
      "cell_type": "code",
      "execution_count": null,
      "metadata": {},
      "outputs": [],
      "source": [
        "for subj in sig_dlpfc_electrodes_without_zeroes:\n",
        "    if subj == 'D57':\n",
        "        continue #skip this one cuz its being weird\n",
        "    base_path = r'C:\\Users\\jz421\\Box\\CoganLab\\BIDS-1.1_GlobalLocal\\BIDS\\derivatives\\freqFilt\\figs'\n",
        "\n",
        "    subj_without_zeroes = \"D\" + subj[1:].lstrip('0')\n",
        "    print(\"Picks for subject:\", sig_dlpfc_electrodes_without_zeroes[subj_without_zeroes])\n",
        "\n",
        "    brain_fig = plot_subj_sig_and_nonsig(subj_without_zeroes, sig_picks=sig_dlpfc_electrodes_without_zeroes[subj_without_zeroes], nonsig_picks=dlpfc_electrodes_without_zeroes[subj_without_zeroes], sig_color=(1,1,0), nonsig_color=(1,1,1), labels_every=1, hemi='both', title=f'{subj}_dlPFC', background='black')\n",
        "\n",
        "    # Specify the path and filename for the PNG file\n",
        "    png_filepath = os.path.join(base_path, f\"{subj_without_zeroes}_dlPFC.png\")\n",
        "\n",
        "    # Save the figure\n",
        "    brain_fig.save_image(png_filepath, 'png')"
      ]
    },
    {
      "cell_type": "markdown",
      "metadata": {},
      "source": [
        "#### acc"
      ]
    },
    {
      "cell_type": "code",
      "execution_count": null,
      "metadata": {},
      "outputs": [],
      "source": [
        "for subj in sig_acc_electrodes_without_zeroes:\n",
        "    print(subj)"
      ]
    },
    {
      "cell_type": "markdown",
      "metadata": {},
      "source": [
        "manually do single subjects"
      ]
    },
    {
      "cell_type": "code",
      "execution_count": null,
      "metadata": {},
      "outputs": [],
      "source": [
        "subj = 'D0103'\n",
        "base_path = r'C:\\Users\\jz421\\Box\\CoganLab\\BIDS-1.1_GlobalLocal\\BIDS\\derivatives\\freqFilt\\figs'\n",
        "\n",
        "subj_without_zeroes = \"D\" + subj[1:].lstrip('0')\n",
        "print(\"Picks for subject:\", sig_acc_electrodes_without_zeroes[subj_without_zeroes])\n",
        "\n",
        "brain_fig = plot_subj_sig_and_nonsig(subj_without_zeroes, sig_picks=sig_acc_electrodes_without_zeroes[subj_without_zeroes], nonsig_picks=acc_electrodes_without_zeroes[subj_without_zeroes], sig_color=(1,1,0), nonsig_color=(1,1,1), labels_every=1, hemi='both', title=f'{subj}_acc', background='black')\n",
        "\n",
        "# Specify the path and filename for the PNG file\n",
        "png_filepath = os.path.join(base_path, f\"{subj_without_zeroes}_acc.png\")\n",
        "\n",
        "# Save the figure\n",
        "brain_fig.save_image(png_filepath, 'png')"
      ]
    },
    {
      "cell_type": "markdown",
      "metadata": {},
      "source": [
        "loop thru everyone who has sig acc electrodes"
      ]
    },
    {
      "cell_type": "code",
      "execution_count": null,
      "metadata": {},
      "outputs": [],
      "source": [
        "for subj in sig_acc_electrodes_without_zeroes:\n",
        "\n",
        "    base_path = r'C:\\Users\\jz421\\Box\\CoganLab\\BIDS-1.1_GlobalLocal\\BIDS\\derivatives\\freqFilt\\figs'\n",
        "\n",
        "    subj_without_zeroes = \"D\" + subj[1:].lstrip('0')\n",
        "    print(\"Picks for subject:\", sig_acc_electrodes_without_zeroes[subj_without_zeroes])\n",
        "\n",
        "    brain_fig = plot_subj_sig_and_nonsig(subj_without_zeroes, sig_picks=sig_acc_electrodes_without_zeroes[subj_without_zeroes], nonsig_picks=acc_electrodes_without_zeroes[subj_without_zeroes], sig_color=(1,1,0), nonsig_color=(1,1,1), labels_every=1, hemi='both', title=f'{subj}_acc', background='black')\n",
        "\n",
        "    # Specify the path and filename for the PNG file\n",
        "    png_filepath = os.path.join(base_path, f\"{subj_without_zeroes}_acc.png\")\n",
        "\n",
        "    # Save the figure\n",
        "    brain_fig.save_image(png_filepath, 'png')"
      ]
    },
    {
      "cell_type": "markdown",
      "metadata": {},
      "source": [
        "#### parietal"
      ]
    },
    {
      "cell_type": "code",
      "execution_count": null,
      "metadata": {},
      "outputs": [],
      "source": [
        "for subj in sig_parietal_electrodes_without_zeroes:\n",
        "    print(subj)"
      ]
    },
    {
      "cell_type": "markdown",
      "metadata": {},
      "source": [
        "manually do single subjects"
      ]
    },
    {
      "cell_type": "code",
      "execution_count": null,
      "metadata": {},
      "outputs": [],
      "source": [
        "subj = 'D103'\n",
        "base_path = r'C:\\Users\\jz421\\Box\\CoganLab\\BIDS-1.1_GlobalLocal\\BIDS\\derivatives\\freqFilt\\figs'\n",
        "\n",
        "subj_without_zeroes = \"D\" + subj[1:].lstrip('0')\n",
        "print(\"Picks for subject:\", sig_parietal_electrodes_without_zeroes[subj_without_zeroes])\n",
        "\n",
        "brain_fig = plot_subj_sig_and_nonsig(subj_without_zeroes, sig_picks=sig_parietal_electrodes_without_zeroes[subj_without_zeroes], nonsig_picks=parietal_electrodes_without_zeroes[subj_without_zeroes], sig_color=(1,1,0), nonsig_color=(1,1,1), labels_every=1, hemi='both', title=f'{subj}_parietal', background='black')\n",
        "\n",
        "# Specify the path and filename for the PNG file\n",
        "png_filepath = os.path.join(base_path, f\"{subj_without_zeroes}_parietal.png\")\n",
        "\n",
        "# Save the figure\n",
        "brain_fig.save_image(png_filepath, 'png')"
      ]
    },
    {
      "cell_type": "markdown",
      "metadata": {},
      "source": [
        "loop thru everyone who has sig parietal electrodes"
      ]
    },
    {
      "cell_type": "code",
      "execution_count": null,
      "metadata": {},
      "outputs": [],
      "source": [
        "for subj in sig_parietal_electrodes_without_zeroes:\n",
        "\n",
        "    base_path = r'C:\\Users\\jz421\\Box\\CoganLab\\BIDS-1.1_GlobalLocal\\BIDS\\derivatives\\freqFilt\\figs'\n",
        "\n",
        "    subj_without_zeroes = \"D\" + subj[1:].lstrip('0')\n",
        "    print(\"Picks for subject:\", sig_parietal_electrodes_without_zeroes[subj_without_zeroes])\n",
        "\n",
        "    brain_fig = plot_subj_sig_and_nonsig(subj_without_zeroes, sig_picks=sig_parietal_electrodes_without_zeroes[subj_without_zeroes], nonsig_picks=parietal_electrodes_without_zeroes[subj_without_zeroes], sig_color=(1,1,0), nonsig_color=(1,1,1), labels_every=1, hemi='both', title=f'{subj}_parietal', background='black')\n",
        "\n",
        "    # Specify the path and filename for the PNG file\n",
        "    png_filepath = os.path.join(base_path, f\"{subj_without_zeroes}_parietal.png\")\n",
        "\n",
        "    # Save the figure\n",
        "    brain_fig.save_image(png_filepath, 'png')"
      ]
    },
    {
      "cell_type": "markdown",
      "metadata": {},
      "source": [
        "### do dlpfc, acc, parietal coverage for each person"
      ]
    },
    {
      "cell_type": "markdown",
      "metadata": {},
      "source": [
        "get all electrodes across dlpfc, acc, and parietal and stick them into one dictionary so we can plot coverage in control regions for each subject"
      ]
    },
    {
      "cell_type": "code",
      "execution_count": null,
      "metadata": {},
      "outputs": [],
      "source": [
        "allSigControlElectrodes = {key: sig_parietal_electrodes_without_zeroes.get(key, []) + \n",
        "                      sig_dlpfc_electrodes_without_zeroes.get(key, []) + \n",
        "                      sig_acc_electrodes_without_zeroes.get(key, [])\n",
        "                 for key in set(sig_parietal_electrodes_without_zeroes) | \n",
        "                             set(sig_dlpfc_electrodes_without_zeroes) | \n",
        "                             set(sig_acc_electrodes_without_zeroes)}\n",
        "\n",
        "allControlElectrodes = {key: parietal_electrodes_without_zeroes.get(key, []) + \n",
        "                      dlpfc_electrodes_without_zeroes.get(key, []) + \n",
        "                      acc_electrodes_without_zeroes.get(key, [])\n",
        "                 for key in set(parietal_electrodes_without_zeroes) | \n",
        "                             set(dlpfc_electrodes_without_zeroes) | \n",
        "                             set(acc_electrodes_without_zeroes)}\n",
        "\n",
        "subj = 'D63'\n",
        "base_path = r'C:\\Users\\jz421\\Box\\CoganLab\\BIDS-1.1_GlobalLocal\\BIDS\\derivatives\\freqFilt\\figs'\n",
        "\n",
        "subj_without_zeroes = \"D\" + subj[1:].lstrip('0')\n",
        "brain_fig = plot_subj_sig_and_nonsig(subj_without_zeroes, sig_picks=allSigControlElectrodes[subj_without_zeroes], nonsig_picks=allControlElectrodes[subj_without_zeroes], sig_color=(1,1,0), nonsig_color=(1,1,1), labels_every=1, hemi='both', title=f'{subj}_allControlElectrodes', background='black')\n",
        "\n",
        "# Specify the path and filename for the PNG file\n",
        "png_filepath = os.path.join(base_path, f\"{subj_without_zeroes}_allControlElectrodes.png\")\n",
        "\n",
        "# Save the figure\n",
        "brain_fig.save_image(png_filepath, 'png')"
      ]
    },
    {
      "cell_type": "markdown",
      "metadata": {},
      "source": [
        "### try to plot all sig electrodes in an roi on an avg brain  \n",
        "this is plotting like all electrodes wtf why"
      ]
    },
    {
      "cell_type": "code",
      "execution_count": null,
      "metadata": {},
      "outputs": [],
      "source": [
        "plot_on_average(sig_parietal_electrodes_without_zeroes, hemi='both', color=(1,1,0))"
      ]
    },
    {
      "cell_type": "markdown",
      "metadata": {},
      "source": [
        "### plot each subject one by one on the fsaverage brain"
      ]
    },
    {
      "cell_type": "code",
      "execution_count": null,
      "metadata": {},
      "outputs": [],
      "source": [
        "# grab all of the significant electrodes, and put them into one list, and then run plot_on_average\n",
        "\n",
        "HOME = os.path.expanduser(\"~\")\n",
        "\n",
        "# get box directory depending on OS\n",
        "if os.name == 'nt': # windows\n",
        "    LAB_root = os.path.join(HOME, \"Box\", \"CoganLab\")\n",
        "else: # mac\n",
        "    LAB_root = os.path.join(HOME, \"Library\", \"CloudStorage\", \"Box-Box\", \"CoganLab\")\n",
        "\n",
        "layout = get_data(\"GlobalLocal\", root=LAB_root)\n",
        "\n",
        "\n",
        "print(layout.derivatives)\n",
        "print(layout.derivatives.keys())\n",
        "\n",
        "\n",
        "base_path = os.path.join(LAB_root, \"BIDS-1.1_GlobalLocal\", \"BIDS\", \"derivatives\", \"freqFilt\", \"figs\")\n",
        "\n",
        "subjects = layout.get(return_type=\"id\", target=\"subject\")\n",
        "subjects_without_zeroes = [\"D\" + subj[1:].lstrip('0') for subj in subjects]\n",
        "allSigElectrodes = {}  # Initialize as an empty dictionary\n",
        "allElectrodes = {}\n",
        "\n",
        "subj = 'D0071'\n",
        "    \n",
        "resp_filename = f'{base_path}\\\\{subj}\\\\sig_chans_{subj}_Response.json'\n",
        "stim_filename = f'{base_path}\\\\{subj}\\\\sig_chans_{subj}_Stimulus.json'\n",
        "\n",
        "resp_sig_chans = load_sig_chans(resp_filename)\n",
        "stim_sig_chans = load_sig_chans(stim_filename)\n",
        "\n",
        "# Combine the significant electrodes for this subject\n",
        "combined_chans = resp_sig_chans + stim_sig_chans\n",
        "\n",
        "# Add them to the dictionary, tagged with the subject without zeroes\n",
        "\n",
        "subj_without_zeroes = \"D\" + subj[1:].lstrip('0')\n",
        "allSigElectrodes[subj_without_zeroes] = combined_chans\n",
        "\n",
        "# Get all electrodes for this subject and add them to the allElectrodes dict\n",
        "info = subject_to_info(subj_without_zeroes)\n",
        "allSubjElectrodes = mne.pick_channels(info.ch_names, [])\n",
        "allElectrodes[subj_without_zeroes] = allSubjElectrodes\n",
        "\n",
        "\n",
        "plot_on_average(allSigElectrodes, hemi='both', color=(1,1,0))\n",
        "plot_on_average(allElectrodes, hemi='both', color=(1,1,0))"
      ]
    },
    {
      "cell_type": "markdown",
      "metadata": {},
      "source": [
        "just plot an empty brain for my MAP 3/21"
      ]
    },
    {
      "cell_type": "code",
      "execution_count": 28,
      "metadata": {},
      "outputs": [
        {
          "name": "stdout",
          "output_type": "stream",
          "text": [
            "Brain visualization saved to C:\\Users\\jz421\\Box\\CoganLab\\BIDS-1.1_GlobalLocal\\BIDS\\derivatives\\freqFilt\\figs\\D57_transparent_rh_lateral_brain_no_electrodes.png\n"
          ]
        }
      ],
      "source": [
        "import os\n",
        "import mne\n",
        "from mne.viz import Brain\n",
        "\n",
        "subj = 'D57'\n",
        "base_path = r'C:\\Users\\jz421\\Box\\CoganLab\\BIDS-1.1_GlobalLocal\\BIDS\\derivatives\\freqFilt\\figs'\n",
        "# subjects_dir = get_sub_dir()  # Use your default subjects directory function\n",
        "sub_dir = get_sub_dir()\n",
        "\n",
        "# Create a brain directly using the Brain class instead of plot_subj\n",
        "brain_fig = Brain(\n",
        "    subject=subj,\n",
        "    hemi='rh',\n",
        "    background='white',\n",
        "    offset=True,\n",
        "    alpha=0.9,  # Very transparent (0.6 is quite transparent)\n",
        "    subjects_dir=sub_dir\n",
        ")\n",
        "\n",
        "# Set to top view (dorsal view)\n",
        "brain_fig.show_view('lateral')\n",
        "\n",
        "# Specify the path for output\n",
        "output_path = os.path.join(base_path, f\"{subj}_transparent_rh_lateral_brain_no_electrodes.png\")\n",
        "\n",
        "# Save the image\n",
        "brain_fig.save_image(output_path)\n",
        "print(f\"Brain visualization saved to {output_path}\")"
      ]
    },
    {
      "cell_type": "code",
      "execution_count": 30,
      "metadata": {},
      "outputs": [
        {
          "name": "stdout",
          "output_type": "stream",
          "text": [
            "White outline brain visualization saved to C:\\Users\\jz421\\Box\\CoganLab\\BIDS-1.1_GlobalLocal\\BIDS\\derivatives\\freqFilt\\figs\\D57_white_outline_rh_medial.png\n"
          ]
        }
      ],
      "source": [
        "import os\n",
        "import mne\n",
        "from mne.viz import Brain\n",
        "\n",
        "subj = 'D57'\n",
        "base_path = r'C:\\Users\\jz421\\Box\\CoganLab\\BIDS-1.1_GlobalLocal\\BIDS\\derivatives\\freqFilt\\figs'\n",
        "sub_dir = get_sub_dir()\n",
        "\n",
        "# Define a custom cortex style with very subtle coloring\n",
        "# Format is (color for sulci, color for gyri)\n",
        "white_cortex = ('white', '#F8F8F8')  # Nearly white for both, with subtle difference\n",
        "\n",
        "# Create a brain with mostly white appearance\n",
        "brain_fig = Brain(\n",
        "    subject=subj,\n",
        "    hemi='rh',\n",
        "    background='white',\n",
        "    cortex=white_cortex,  # Custom coloring\n",
        "    alpha=1.0,  # Fully opaque since we're using white anyway\n",
        "    subjects_dir=sub_dir\n",
        ")\n",
        "\n",
        "# Set to lateral view\n",
        "brain_fig.show_view('medial')\n",
        "\n",
        "# Turn on silhouette to emphasize the outline\n",
        "brain_fig.silhouette = True\n",
        "\n",
        "# Specify the path for output\n",
        "output_path = os.path.join(base_path, f\"{subj}_white_outline_rh_medial.png\")\n",
        "\n",
        "# Save the image\n",
        "brain_fig.save_image(output_path)\n",
        "print(f\"White outline brain visualization saved to {output_path}\")"
      ]
    },
    {
      "cell_type": "code",
      "execution_count": null,
      "metadata": {},
      "outputs": [],
      "source": []
    }
  ],
  "metadata": {
    "kernelspec": {
      "display_name": "ieeg",
      "language": "python",
      "name": "python3"
    },
    "language_info": {
      "codemirror_mode": {
        "name": "ipython",
        "version": 3
      },
      "file_extension": ".py",
      "mimetype": "text/x-python",
      "name": "python",
      "nbconvert_exporter": "python",
      "pygments_lexer": "ipython3",
      "version": "3.11.7"
    }
  },
  "nbformat": 4,
  "nbformat_minor": 0
}
