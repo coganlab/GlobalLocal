{
 "cells": [
  {
   "cell_type": "code",
   "execution_count": 1,
   "metadata": {},
   "outputs": [],
   "source": [
    "import mne.time_frequency\n",
    "import mne\n",
    "from ieeg.io import get_data, raw_from_layout\n",
    "from ieeg.navigate import trial_ieeg, channel_outlier_marker, crop_empty_data, outliers_to_nan\n",
    "from ieeg.calc.scaling import rescale\n",
    "import os\n",
    "from ieeg.timefreq.utils import wavelet_scaleogram, crop_pad\n",
    "import numpy as np\n"
   ]
  },
  {
   "cell_type": "code",
   "execution_count": 20,
   "metadata": {},
   "outputs": [
    {
     "name": "stdout",
     "output_type": "stream",
     "text": [
      "['D0057', 'D0059', 'D0063', 'D0065', 'D0069', 'D0071', 'D0077']\n",
      "Extracting EDF parameters from C:\\Users\\jz421\\Box\\CoganLab\\BIDS-1.1_GlobalLocal\\BIDS\\derivatives\\clean\\sub-D0059\\ieeg\\sub-D0059_task-GlobalLocal_acq-01_run-01_desc-clean_ieeg.edf...\n",
      "EDF file detected\n",
      "Setting channel info structure...\n",
      "Creating raw.info structure...\n",
      "Reading events from C:\\Users\\jz421\\Box\\CoganLab\\BIDS-1.1_GlobalLocal\\BIDS\\derivatives\\clean\\sub-D0059\\ieeg\\sub-D0059_task-GlobalLocal_acq-01_run-01_desc-clean_events.tsv.\n",
      "Reading channel info from C:\\Users\\jz421\\Box\\CoganLab\\BIDS-1.1_GlobalLocal\\BIDS\\derivatives\\clean\\sub-D0059\\ieeg\\sub-D0059_task-GlobalLocal_acq-01_run-01_desc-clean_channels.tsv.\n",
      "Reading electrode coords from C:\\Users\\jz421\\Box\\CoganLab\\BIDS-1.1_GlobalLocal\\BIDS\\derivatives\\clean\\sub-D0059\\ieeg\\sub-D0059_acq-01_space-ACPC_electrodes.tsv.\n",
      "Extracting EDF parameters from C:\\Users\\jz421\\Box\\CoganLab\\BIDS-1.1_GlobalLocal\\BIDS\\derivatives\\clean\\sub-D0059\\ieeg\\sub-D0059_task-GlobalLocal_acq-01_run-02_desc-clean_ieeg.edf...\n",
      "EDF file detected\n",
      "Setting channel info structure...\n",
      "Creating raw.info structure...\n"
     ]
    },
    {
     "name": "stderr",
     "output_type": "stream",
     "text": [
      "c:\\Users\\jz421\\Desktop\\GlobalLocal\\ieeg\\io.py:100: RuntimeWarning: The number of channels in the channels.tsv sidecar file (185) does not match the number of channels in the raw data file (184). Will not try to set channel names.\n",
      "  new_raw = read_raw_bids(bids_path=BIDS_path)\n",
      "c:\\Users\\jz421\\Desktop\\GlobalLocal\\ieeg\\io.py:100: RuntimeWarning: Cannot set channel type for the following channels, as they are missing in the raw data: Trigger\n",
      "  new_raw = read_raw_bids(bids_path=BIDS_path)\n"
     ]
    },
    {
     "name": "stdout",
     "output_type": "stream",
     "text": [
      "Reading events from C:\\Users\\jz421\\Box\\CoganLab\\BIDS-1.1_GlobalLocal\\BIDS\\derivatives\\clean\\sub-D0059\\ieeg\\sub-D0059_task-GlobalLocal_acq-01_run-02_desc-clean_events.tsv.\n",
      "Reading channel info from C:\\Users\\jz421\\Box\\CoganLab\\BIDS-1.1_GlobalLocal\\BIDS\\derivatives\\clean\\sub-D0059\\ieeg\\sub-D0059_task-GlobalLocal_acq-01_run-02_desc-clean_channels.tsv.\n",
      "Reading electrode coords from C:\\Users\\jz421\\Box\\CoganLab\\BIDS-1.1_GlobalLocal\\BIDS\\derivatives\\clean\\sub-D0059\\ieeg\\sub-D0059_acq-01_space-ACPC_electrodes.tsv.\n",
      "Extracting EDF parameters from C:\\Users\\jz421\\Box\\CoganLab\\BIDS-1.1_GlobalLocal\\BIDS\\derivatives\\clean\\sub-D0059\\ieeg\\sub-D0059_task-GlobalLocal_acq-01_run-03_desc-clean_ieeg.edf...\n",
      "EDF file detected\n",
      "Setting channel info structure...\n",
      "Creating raw.info structure...\n"
     ]
    },
    {
     "name": "stderr",
     "output_type": "stream",
     "text": [
      "c:\\Users\\jz421\\Desktop\\GlobalLocal\\ieeg\\io.py:100: RuntimeWarning: Omitted 228 annotation(s) that were outside data range.\n",
      "  new_raw = read_raw_bids(bids_path=BIDS_path)\n",
      "c:\\Users\\jz421\\Desktop\\GlobalLocal\\ieeg\\io.py:100: RuntimeWarning: The number of channels in the channels.tsv sidecar file (185) does not match the number of channels in the raw data file (184). Will not try to set channel names.\n",
      "  new_raw = read_raw_bids(bids_path=BIDS_path)\n",
      "c:\\Users\\jz421\\Desktop\\GlobalLocal\\ieeg\\io.py:100: RuntimeWarning: Cannot set channel type for the following channels, as they are missing in the raw data: Trigger\n",
      "  new_raw = read_raw_bids(bids_path=BIDS_path)\n"
     ]
    },
    {
     "name": "stdout",
     "output_type": "stream",
     "text": [
      "Reading events from C:\\Users\\jz421\\Box\\CoganLab\\BIDS-1.1_GlobalLocal\\BIDS\\derivatives\\clean\\sub-D0059\\ieeg\\sub-D0059_task-GlobalLocal_acq-01_run-03_desc-clean_events.tsv.\n",
      "Reading channel info from C:\\Users\\jz421\\Box\\CoganLab\\BIDS-1.1_GlobalLocal\\BIDS\\derivatives\\clean\\sub-D0059\\ieeg\\sub-D0059_task-GlobalLocal_acq-01_run-03_desc-clean_channels.tsv.\n",
      "Reading electrode coords from C:\\Users\\jz421\\Box\\CoganLab\\BIDS-1.1_GlobalLocal\\BIDS\\derivatives\\clean\\sub-D0059\\ieeg\\sub-D0059_acq-01_space-ACPC_electrodes.tsv.\n",
      "Extracting EDF parameters from C:\\Users\\jz421\\Box\\CoganLab\\BIDS-1.1_GlobalLocal\\BIDS\\derivatives\\clean\\sub-D0059\\ieeg\\sub-D0059_task-GlobalLocal_acq-01_run-04_desc-clean_ieeg.edf...\n",
      "EDF file detected\n",
      "Setting channel info structure...\n",
      "Creating raw.info structure...\n"
     ]
    },
    {
     "name": "stderr",
     "output_type": "stream",
     "text": [
      "c:\\Users\\jz421\\Desktop\\GlobalLocal\\ieeg\\io.py:100: RuntimeWarning: Omitted 228 annotation(s) that were outside data range.\n",
      "  new_raw = read_raw_bids(bids_path=BIDS_path)\n",
      "c:\\Users\\jz421\\Desktop\\GlobalLocal\\ieeg\\io.py:100: RuntimeWarning: The number of channels in the channels.tsv sidecar file (185) does not match the number of channels in the raw data file (184). Will not try to set channel names.\n",
      "  new_raw = read_raw_bids(bids_path=BIDS_path)\n",
      "c:\\Users\\jz421\\Desktop\\GlobalLocal\\ieeg\\io.py:100: RuntimeWarning: Cannot set channel type for the following channels, as they are missing in the raw data: Trigger\n",
      "  new_raw = read_raw_bids(bids_path=BIDS_path)\n"
     ]
    },
    {
     "name": "stdout",
     "output_type": "stream",
     "text": [
      "Reading events from C:\\Users\\jz421\\Box\\CoganLab\\BIDS-1.1_GlobalLocal\\BIDS\\derivatives\\clean\\sub-D0059\\ieeg\\sub-D0059_task-GlobalLocal_acq-01_run-04_desc-clean_events.tsv.\n",
      "Reading channel info from C:\\Users\\jz421\\Box\\CoganLab\\BIDS-1.1_GlobalLocal\\BIDS\\derivatives\\clean\\sub-D0059\\ieeg\\sub-D0059_task-GlobalLocal_acq-01_run-04_desc-clean_channels.tsv.\n",
      "Reading electrode coords from C:\\Users\\jz421\\Box\\CoganLab\\BIDS-1.1_GlobalLocal\\BIDS\\derivatives\\clean\\sub-D0059\\ieeg\\sub-D0059_acq-01_space-ACPC_electrodes.tsv.\n"
     ]
    },
    {
     "name": "stderr",
     "output_type": "stream",
     "text": [
      "c:\\Users\\jz421\\Desktop\\GlobalLocal\\ieeg\\io.py:100: RuntimeWarning: Omitted 226 annotation(s) that were outside data range.\n",
      "  new_raw = read_raw_bids(bids_path=BIDS_path)\n",
      "c:\\Users\\jz421\\Desktop\\GlobalLocal\\ieeg\\io.py:100: RuntimeWarning: The number of channels in the channels.tsv sidecar file (185) does not match the number of channels in the raw data file (184). Will not try to set channel names.\n",
      "  new_raw = read_raw_bids(bids_path=BIDS_path)\n",
      "c:\\Users\\jz421\\Desktop\\GlobalLocal\\ieeg\\io.py:100: RuntimeWarning: Cannot set channel type for the following channels, as they are missing in the raw data: Trigger\n",
      "  new_raw = read_raw_bids(bids_path=BIDS_path)\n"
     ]
    },
    {
     "name": "stdout",
     "output_type": "stream",
     "text": [
      "<RawEDF | sub-D0059_task-GlobalLocal_acq-01_run-01_desc-clean_ieeg.edf, 184 x 8769536 (4282.0 s), ~208 kB, data not loaded>\n",
      "outlier round 1 channels: ['LAIP9']\n",
      "outlier round 1 channels: ['LAIP9', 'LAIP14']\n",
      "outlier round 1 channels: ['LAIP9', 'LAIP14', 'LMMT2']\n",
      "outlier round 1 channels: ['LAIP9', 'LAIP14', 'LMMT2', 'LMMT12']\n",
      "outlier round 1 channels: ['LAIP9', 'LAIP14', 'LMMT2', 'LMMT12', 'LMPT10']\n",
      "outlier round 1 channels: ['LAIP9', 'LAIP14', 'LMMT2', 'LMMT12', 'LMPT10', 'LMPT11']\n",
      "outlier round 2 channels: ['LAIP9', 'LAIP14', 'LMMT2', 'LMMT12', 'LMPT10', 'LMPT11', 'LMPF15']\n",
      "outlier round 2 channels: ['LAIP9', 'LAIP14', 'LMMT2', 'LMMT12', 'LMPT10', 'LMPT11', 'LMPF15', 'LMMT1']\n",
      "outlier round 2 channels: ['LAIP9', 'LAIP14', 'LMMT2', 'LMMT12', 'LMPT10', 'LMPT11', 'LMPF15', 'LMMT1', 'LMMT3']\n",
      "outlier round 2 channels: ['LAIP9', 'LAIP14', 'LMMT2', 'LMMT12', 'LMPT10', 'LMPT11', 'LMPF15', 'LMMT1', 'LMMT3', 'LMMT11']\n",
      "Reading 0 ... 3242460  =      0.000 ...  1583.232 secs...\n",
      "Applying average reference.\n",
      "Applying a custom ('sEEG',) reference.\n"
     ]
    }
   ],
   "source": [
    "HOME = os.path.expanduser(\"~\")\n",
    "\n",
    "# get box directory depending on OS\n",
    "if os.name == 'nt': # windows\n",
    "    LAB_root = os.path.join(HOME, \"Box\", \"CoganLab\")\n",
    "else: # mac\n",
    "    LAB_root = os.path.join(HOME, \"Library\", \"CloudStorage\", \"Box-Box\", \"CoganLab\")\n",
    "\n",
    "layout = get_data(\"GlobalLocal\", root=LAB_root)\n",
    "subjects = layout.get(return_type=\"id\", target=\"subject\")\n",
    "\n",
    "print(subjects)\n",
    "# for sub in subjects:\n",
    "\n",
    "sub='D0059' #why does this not work in the for loop???\n",
    "# Load the data\n",
    "filt = raw_from_layout(layout.derivatives['derivatives/clean'], subject=sub,\n",
    "                           extension='.edf', desc='clean', preload=False) #get line-noise filtered data\n",
    "print(filt)\n",
    "\n",
    "## Crop raw data to minimize processing time\n",
    "good = crop_empty_data(filt)\n",
    "\n",
    "# good.drop_channels(good.info['bads'])\n",
    "good.info['bads'] = channel_outlier_marker(good, 3, 2)\n",
    "good.drop_channels(good.info['bads'])\n",
    "# good.info['bads'] += channel_outlier_marker(good, 4, 2)\n",
    "# good.drop_channels(good.info['bads'])\n",
    "good.load_data()\n",
    "\n",
    "ch_type = filt.get_channel_types(only_data_chs=True)[0]\n",
    "good.set_eeg_reference(ref_channels=\"average\", ch_type=ch_type)\n",
    "\n",
    "# Remove intermediates from mem\n",
    "# good.plot()\n",
    "\n",
    "## epoching and trial outlier removal\n",
    "\n",
    "save_dir = os.path.join(layout.root, 'derivatives', 'spec', 'wavelet', sub)\n",
    "if not os.path.exists(save_dir):\n",
    "    os.makedirs(save_dir)\n",
    "\n",
    "  \n",
    "\n"
   ]
  },
  {
   "attachments": {},
   "cell_type": "markdown",
   "metadata": {},
   "source": [
    "### for a single trial type"
   ]
  },
  {
   "cell_type": "code",
   "execution_count": 21,
   "metadata": {},
   "outputs": [
    {
     "name": "stdout",
     "output_type": "stream",
     "text": [
      "Used Annotations descriptions: ['Responsec25r25', 'Responsec25r75', 'Responsec25s25', 'Responsec25s75', 'Responsec75n25', 'Responsec75r25', 'Responsec75r75', 'Responsec75s25', 'Responsec75s75', 'Responsei25n25', 'Responsei25n75', 'Responsei25r25', 'Responsei25r75', 'Responsei25s25', 'Responsei25s75', 'Responsei75n75', 'Responsei75r25', 'Responsei75r75', 'Responsei75s25', 'Responsei75s75', 'Stimulusc25r25', 'Stimulusc25r75', 'Stimulusc25s25', 'Stimulusc25s75', 'Stimulusc75n25', 'Stimulusc75r25', 'Stimulusc75r75', 'Stimulusc75s25', 'Stimulusc75s75', 'Stimulusi25n25', 'Stimulusi25n75', 'Stimulusi25r25', 'Stimulusi25r75', 'Stimulusi25s25', 'Stimulusi25s75', 'Stimulusi75n75', 'Stimulusi75r25', 'Stimulusi75r75', 'Stimulusi75s25', 'Stimulusi75s75']\n",
      "Not setting metadata\n",
      "18 matching events found\n",
      "No baseline correction applied\n",
      "0 projection items activated\n",
      "Using data from preloaded Raw for 18 events and 3073 original time points ...\n"
     ]
    },
    {
     "name": "stdout",
     "output_type": "stream",
     "text": [
      "0 bad epochs dropped\n"
     ]
    },
    {
     "name": "stderr",
     "output_type": "stream",
     "text": [
      "[Parallel(n_jobs=-2)]: Using backend ThreadingBackend with 7 concurrent workers.\n",
      "[Parallel(n_jobs=-2)]: Done   4 tasks      | elapsed:    0.3s\n",
      "[Parallel(n_jobs=-2)]: Done  11 tasks      | elapsed:    0.6s\n",
      "[Parallel(n_jobs=-2)]: Done  18 tasks      | elapsed:    1.0s\n",
      "[Parallel(n_jobs=-2)]: Done  27 tasks      | elapsed:    1.4s\n",
      "[Parallel(n_jobs=-2)]: Done  36 tasks      | elapsed:    2.0s\n",
      "[Parallel(n_jobs=-2)]: Done  47 tasks      | elapsed:    2.4s\n",
      "[Parallel(n_jobs=-2)]: Done  58 tasks      | elapsed:    3.0s\n",
      "[Parallel(n_jobs=-2)]: Done  71 tasks      | elapsed:    3.5s\n",
      "[Parallel(n_jobs=-2)]: Done  84 tasks      | elapsed:    4.1s\n",
      "[Parallel(n_jobs=-2)]: Done  99 tasks      | elapsed:    4.8s\n",
      "[Parallel(n_jobs=-2)]: Done 114 tasks      | elapsed:    5.5s\n",
      "[Parallel(n_jobs=-2)]: Done 131 tasks      | elapsed:    6.3s\n",
      "[Parallel(n_jobs=-2)]: Done 148 tasks      | elapsed:    7.0s\n"
     ]
    },
    {
     "name": "stdout",
     "output_type": "stream",
     "text": [
      "Not setting metadata\n",
      "Used Annotations descriptions: ['Responsec25r25', 'Responsec25r75', 'Responsec25s25', 'Responsec25s75', 'Responsec75n25', 'Responsec75r25', 'Responsec75r75', 'Responsec75s25', 'Responsec75s75', 'Responsei25n25', 'Responsei25n75', 'Responsei25r25', 'Responsei25r75', 'Responsei25s25', 'Responsei25s75', 'Responsei75n75', 'Responsei75r25', 'Responsei75r75', 'Responsei75s25', 'Responsei75s75', 'Stimulusc25r25', 'Stimulusc25r75', 'Stimulusc25s25', 'Stimulusc25s75', 'Stimulusc75n25', 'Stimulusc75r25', 'Stimulusc75r75', 'Stimulusc75s25', 'Stimulusc75s75', 'Stimulusi25n25', 'Stimulusi25n75', 'Stimulusi25r25', 'Stimulusi25r75', 'Stimulusi25s25', 'Stimulusi25s75', 'Stimulusi75n75', 'Stimulusi75r25', 'Stimulusi75r75', 'Stimulusi75s25', 'Stimulusi75s75']\n",
      "Not setting metadata\n",
      "18 matching events found\n",
      "No baseline correction applied\n",
      "0 projection items activated\n",
      "Using data from preloaded Raw for 18 events and 6145 original time points ...\n"
     ]
    },
    {
     "name": "stderr",
     "output_type": "stream",
     "text": [
      "[Parallel(n_jobs=-2)]: Done 174 out of 174 | elapsed:    8.1s finished\n"
     ]
    },
    {
     "name": "stdout",
     "output_type": "stream",
     "text": [
      "0 bad epochs dropped\n"
     ]
    },
    {
     "name": "stderr",
     "output_type": "stream",
     "text": [
      "[Parallel(n_jobs=-2)]: Using backend ThreadingBackend with 7 concurrent workers.\n",
      "[Parallel(n_jobs=-2)]: Done   4 tasks      | elapsed:    0.6s\n",
      "[Parallel(n_jobs=-2)]: Done  11 tasks      | elapsed:    1.3s\n",
      "[Parallel(n_jobs=-2)]: Done  18 tasks      | elapsed:    2.1s\n",
      "[Parallel(n_jobs=-2)]: Done  27 tasks      | elapsed:    2.8s\n",
      "[Parallel(n_jobs=-2)]: Done  36 tasks      | elapsed:    3.8s\n",
      "[Parallel(n_jobs=-2)]: Done  47 tasks      | elapsed:    4.8s\n",
      "[Parallel(n_jobs=-2)]: Done  58 tasks      | elapsed:    5.8s\n",
      "[Parallel(n_jobs=-2)]: Done  71 tasks      | elapsed:    7.0s\n",
      "[Parallel(n_jobs=-2)]: Done  84 tasks      | elapsed:    8.3s\n",
      "[Parallel(n_jobs=-2)]: Done  99 tasks      | elapsed:    9.6s\n",
      "[Parallel(n_jobs=-2)]: Done 114 tasks      | elapsed:   11.0s\n",
      "[Parallel(n_jobs=-2)]: Done 131 tasks      | elapsed:   12.6s\n",
      "[Parallel(n_jobs=-2)]: Done 148 tasks      | elapsed:   14.3s\n"
     ]
    },
    {
     "name": "stdout",
     "output_type": "stream",
     "text": [
      "Not setting metadata\n"
     ]
    },
    {
     "name": "stderr",
     "output_type": "stream",
     "text": [
      "[Parallel(n_jobs=-2)]: Done 174 out of 174 | elapsed:   16.5s finished\n"
     ]
    },
    {
     "name": "stdout",
     "output_type": "stream",
     "text": [
      "Applying baseline correction (mode: ratio)\n",
      "Used Annotations descriptions: ['Responsec25r25', 'Responsec25r75', 'Responsec25s25', 'Responsec25s75', 'Responsec75n25', 'Responsec75r25', 'Responsec75r75', 'Responsec75s25', 'Responsec75s75', 'Responsei25n25', 'Responsei25n75', 'Responsei25r25', 'Responsei25r75', 'Responsei25s25', 'Responsei25s75', 'Responsei75n75', 'Responsei75r25', 'Responsei75r75', 'Responsei75s25', 'Responsei75s75', 'Stimulusc25r25', 'Stimulusc25r75', 'Stimulusc25s25', 'Stimulusc25s75', 'Stimulusc75n25', 'Stimulusc75r25', 'Stimulusc75r75', 'Stimulusc75s25', 'Stimulusc75s75', 'Stimulusi25n25', 'Stimulusi25n75', 'Stimulusi25r25', 'Stimulusi25r75', 'Stimulusi25s25', 'Stimulusi25s75', 'Stimulusi75n75', 'Stimulusi75r25', 'Stimulusi75r75', 'Stimulusi75s25', 'Stimulusi75s75']\n",
      "Not setting metadata\n",
      "18 matching events found\n",
      "No baseline correction applied\n",
      "0 projection items activated\n",
      "Using data from preloaded Raw for 18 events and 6145 original time points ...\n",
      "0 bad epochs dropped\n"
     ]
    },
    {
     "name": "stderr",
     "output_type": "stream",
     "text": [
      "[Parallel(n_jobs=-2)]: Using backend ThreadingBackend with 7 concurrent workers.\n",
      "[Parallel(n_jobs=-2)]: Done   4 tasks      | elapsed:    0.7s\n",
      "[Parallel(n_jobs=-2)]: Done  11 tasks      | elapsed:    1.3s\n",
      "[Parallel(n_jobs=-2)]: Done  18 tasks      | elapsed:    2.2s\n",
      "[Parallel(n_jobs=-2)]: Done  27 tasks      | elapsed:    3.0s\n",
      "[Parallel(n_jobs=-2)]: Done  36 tasks      | elapsed:    4.0s\n",
      "[Parallel(n_jobs=-2)]: Done  47 tasks      | elapsed:    5.1s\n",
      "[Parallel(n_jobs=-2)]: Done  58 tasks      | elapsed:    6.2s\n",
      "[Parallel(n_jobs=-2)]: Done  71 tasks      | elapsed:    7.4s\n",
      "[Parallel(n_jobs=-2)]: Done  84 tasks      | elapsed:    8.5s\n",
      "[Parallel(n_jobs=-2)]: Done  99 tasks      | elapsed:    9.9s\n",
      "[Parallel(n_jobs=-2)]: Done 114 tasks      | elapsed:   11.4s\n",
      "[Parallel(n_jobs=-2)]: Done 131 tasks      | elapsed:   13.2s\n",
      "[Parallel(n_jobs=-2)]: Done 148 tasks      | elapsed:   14.8s\n"
     ]
    },
    {
     "name": "stdout",
     "output_type": "stream",
     "text": [
      "Not setting metadata\n"
     ]
    },
    {
     "name": "stderr",
     "output_type": "stream",
     "text": [
      "[Parallel(n_jobs=-2)]: Done 174 out of 174 | elapsed:   17.2s finished\n"
     ]
    },
    {
     "name": "stdout",
     "output_type": "stream",
     "text": [
      "Applying baseline correction (mode: ratio)\n",
      "Used Annotations descriptions: ['Responsec25r25', 'Responsec25r75', 'Responsec25s25', 'Responsec25s75', 'Responsec75n25', 'Responsec75r25', 'Responsec75r75', 'Responsec75s25', 'Responsec75s75', 'Responsei25n25', 'Responsei25n75', 'Responsei25r25', 'Responsei25r75', 'Responsei25s25', 'Responsei25s75', 'Responsei75n75', 'Responsei75r25', 'Responsei75r75', 'Responsei75s25', 'Responsei75s75', 'Stimulusc25r25', 'Stimulusc25r75', 'Stimulusc25s25', 'Stimulusc25s75', 'Stimulusc75n25', 'Stimulusc75r25', 'Stimulusc75r75', 'Stimulusc75s25', 'Stimulusc75s75', 'Stimulusi25n25', 'Stimulusi25n75', 'Stimulusi25r25', 'Stimulusi25r75', 'Stimulusi25s25', 'Stimulusi25s75', 'Stimulusi75n75', 'Stimulusi75r25', 'Stimulusi75r75', 'Stimulusi75s25', 'Stimulusi75s75']\n",
      "Not setting metadata\n",
      "9 matching events found\n",
      "No baseline correction applied\n",
      "0 projection items activated\n",
      "Using data from preloaded Raw for 9 events and 3073 original time points ...\n",
      "0 bad epochs dropped\n"
     ]
    },
    {
     "name": "stderr",
     "output_type": "stream",
     "text": [
      "[Parallel(n_jobs=-2)]: Using backend ThreadingBackend with 7 concurrent workers.\n",
      "[Parallel(n_jobs=-2)]: Done   4 tasks      | elapsed:    0.1s\n",
      "[Parallel(n_jobs=-2)]: Done  11 tasks      | elapsed:    0.3s\n",
      "[Parallel(n_jobs=-2)]: Done  18 tasks      | elapsed:    0.4s\n",
      "[Parallel(n_jobs=-2)]: Done  27 tasks      | elapsed:    0.6s\n",
      "[Parallel(n_jobs=-2)]: Done  36 tasks      | elapsed:    0.9s\n",
      "[Parallel(n_jobs=-2)]: Done  47 tasks      | elapsed:    1.1s\n",
      "[Parallel(n_jobs=-2)]: Done  58 tasks      | elapsed:    1.4s\n",
      "[Parallel(n_jobs=-2)]: Done  71 tasks      | elapsed:    1.7s\n",
      "[Parallel(n_jobs=-2)]: Done  84 tasks      | elapsed:    1.9s\n",
      "[Parallel(n_jobs=-2)]: Done  99 tasks      | elapsed:    2.3s\n",
      "[Parallel(n_jobs=-2)]: Done 114 tasks      | elapsed:    2.6s\n",
      "[Parallel(n_jobs=-2)]: Done 131 tasks      | elapsed:    3.0s\n",
      "[Parallel(n_jobs=-2)]: Done 148 tasks      | elapsed:    3.5s\n"
     ]
    },
    {
     "name": "stdout",
     "output_type": "stream",
     "text": [
      "Not setting metadata\n",
      "Used Annotations descriptions: ['Responsec25r25', 'Responsec25r75', 'Responsec25s25', 'Responsec25s75', 'Responsec75n25', 'Responsec75r25', 'Responsec75r75', 'Responsec75s25', 'Responsec75s75', 'Responsei25n25', 'Responsei25n75', 'Responsei25r25', 'Responsei25r75', 'Responsei25s25', 'Responsei25s75', 'Responsei75n75', 'Responsei75r25', 'Responsei75r75', 'Responsei75s25', 'Responsei75s75', 'Stimulusc25r25', 'Stimulusc25r75', 'Stimulusc25s25', 'Stimulusc25s75', 'Stimulusc75n25', 'Stimulusc75r25', 'Stimulusc75r75', 'Stimulusc75s25', 'Stimulusc75s75', 'Stimulusi25n25', 'Stimulusi25n75', 'Stimulusi25r25', 'Stimulusi25r75', 'Stimulusi25s25', 'Stimulusi25s75', 'Stimulusi75n75', 'Stimulusi75r25', 'Stimulusi75r75', 'Stimulusi75s25', 'Stimulusi75s75']\n",
      "Not setting metadata\n",
      "9 matching events found\n",
      "No baseline correction applied\n",
      "0 projection items activated\n",
      "Using data from preloaded Raw for 9 events and 6145 original time points ...\n",
      "0 bad epochs dropped\n"
     ]
    },
    {
     "name": "stderr",
     "output_type": "stream",
     "text": [
      "[Parallel(n_jobs=-2)]: Done 174 out of 174 | elapsed:    4.0s finished\n",
      "[Parallel(n_jobs=-2)]: Using backend ThreadingBackend with 7 concurrent workers.\n",
      "[Parallel(n_jobs=-2)]: Done   4 tasks      | elapsed:    0.3s\n",
      "[Parallel(n_jobs=-2)]: Done  11 tasks      | elapsed:    0.6s\n",
      "[Parallel(n_jobs=-2)]: Done  18 tasks      | elapsed:    1.0s\n",
      "[Parallel(n_jobs=-2)]: Done  27 tasks      | elapsed:    1.4s\n",
      "[Parallel(n_jobs=-2)]: Done  36 tasks      | elapsed:    2.0s\n",
      "[Parallel(n_jobs=-2)]: Done  47 tasks      | elapsed:    2.4s\n",
      "[Parallel(n_jobs=-2)]: Done  58 tasks      | elapsed:    2.9s\n",
      "[Parallel(n_jobs=-2)]: Done  71 tasks      | elapsed:    3.6s\n",
      "[Parallel(n_jobs=-2)]: Done  84 tasks      | elapsed:    4.2s\n",
      "[Parallel(n_jobs=-2)]: Done  99 tasks      | elapsed:    4.9s\n",
      "[Parallel(n_jobs=-2)]: Done 114 tasks      | elapsed:    5.7s\n",
      "[Parallel(n_jobs=-2)]: Done 131 tasks      | elapsed:    6.8s\n",
      "[Parallel(n_jobs=-2)]: Done 148 tasks      | elapsed:    7.5s\n"
     ]
    },
    {
     "name": "stdout",
     "output_type": "stream",
     "text": [
      "Not setting metadata\n",
      "Applying baseline correction (mode: ratio)\n"
     ]
    },
    {
     "name": "stderr",
     "output_type": "stream",
     "text": [
      "[Parallel(n_jobs=-2)]: Done 174 out of 174 | elapsed:    8.7s finished\n"
     ]
    },
    {
     "name": "stdout",
     "output_type": "stream",
     "text": [
      "Used Annotations descriptions: ['Responsec25r25', 'Responsec25r75', 'Responsec25s25', 'Responsec25s75', 'Responsec75n25', 'Responsec75r25', 'Responsec75r75', 'Responsec75s25', 'Responsec75s75', 'Responsei25n25', 'Responsei25n75', 'Responsei25r25', 'Responsei25r75', 'Responsei25s25', 'Responsei25s75', 'Responsei75n75', 'Responsei75r25', 'Responsei75r75', 'Responsei75s25', 'Responsei75s75', 'Stimulusc25r25', 'Stimulusc25r75', 'Stimulusc25s25', 'Stimulusc25s75', 'Stimulusc75n25', 'Stimulusc75r25', 'Stimulusc75r75', 'Stimulusc75s25', 'Stimulusc75s75', 'Stimulusi25n25', 'Stimulusi25n75', 'Stimulusi25r25', 'Stimulusi25r75', 'Stimulusi25s25', 'Stimulusi25s75', 'Stimulusi75n75', 'Stimulusi75r25', 'Stimulusi75r75', 'Stimulusi75s25', 'Stimulusi75s75']\n",
      "Not setting metadata\n",
      "9 matching events found\n",
      "No baseline correction applied\n",
      "0 projection items activated\n",
      "Using data from preloaded Raw for 9 events and 6145 original time points ...\n",
      "0 bad epochs dropped\n"
     ]
    },
    {
     "name": "stderr",
     "output_type": "stream",
     "text": [
      "[Parallel(n_jobs=-2)]: Using backend ThreadingBackend with 7 concurrent workers.\n",
      "[Parallel(n_jobs=-2)]: Done   4 tasks      | elapsed:    0.3s\n",
      "[Parallel(n_jobs=-2)]: Done  11 tasks      | elapsed:    0.6s\n",
      "[Parallel(n_jobs=-2)]: Done  18 tasks      | elapsed:    1.0s\n",
      "[Parallel(n_jobs=-2)]: Done  27 tasks      | elapsed:    1.4s\n",
      "[Parallel(n_jobs=-2)]: Done  36 tasks      | elapsed:    1.8s\n",
      "[Parallel(n_jobs=-2)]: Done  47 tasks      | elapsed:    2.4s\n",
      "[Parallel(n_jobs=-2)]: Done  58 tasks      | elapsed:    3.1s\n",
      "[Parallel(n_jobs=-2)]: Done  71 tasks      | elapsed:    3.5s\n",
      "[Parallel(n_jobs=-2)]: Done  84 tasks      | elapsed:    4.1s\n",
      "[Parallel(n_jobs=-2)]: Done  99 tasks      | elapsed:    4.9s\n",
      "[Parallel(n_jobs=-2)]: Done 114 tasks      | elapsed:    5.7s\n",
      "[Parallel(n_jobs=-2)]: Done 131 tasks      | elapsed:    6.5s\n",
      "[Parallel(n_jobs=-2)]: Done 148 tasks      | elapsed:    7.3s\n"
     ]
    },
    {
     "name": "stdout",
     "output_type": "stream",
     "text": [
      "Not setting metadata\n",
      "Applying baseline correction (mode: ratio)\n"
     ]
    },
    {
     "name": "stderr",
     "output_type": "stream",
     "text": [
      "[Parallel(n_jobs=-2)]: Done 174 out of 174 | elapsed:    8.5s finished\n"
     ]
    },
    {
     "name": "stdout",
     "output_type": "stream",
     "text": [
      "Used Annotations descriptions: ['Responsec25r25', 'Responsec25r75', 'Responsec25s25', 'Responsec25s75', 'Responsec75n25', 'Responsec75r25', 'Responsec75r75', 'Responsec75s25', 'Responsec75s75', 'Responsei25n25', 'Responsei25n75', 'Responsei25r25', 'Responsei25r75', 'Responsei25s25', 'Responsei25s75', 'Responsei75n75', 'Responsei75r25', 'Responsei75r75', 'Responsei75s25', 'Responsei75s75', 'Stimulusc25r25', 'Stimulusc25r75', 'Stimulusc25s25', 'Stimulusc25s75', 'Stimulusc75n25', 'Stimulusc75r25', 'Stimulusc75r75', 'Stimulusc75s25', 'Stimulusc75s75', 'Stimulusi25n25', 'Stimulusi25n75', 'Stimulusi25r25', 'Stimulusi25r75', 'Stimulusi25s25', 'Stimulusi25s75', 'Stimulusi75n75', 'Stimulusi75r25', 'Stimulusi75r75', 'Stimulusi75s25', 'Stimulusi75s75']\n",
      "Not setting metadata\n",
      "66 matching events found\n",
      "No baseline correction applied\n",
      "0 projection items activated\n",
      "Using data from preloaded Raw for 66 events and 3073 original time points ...\n",
      "0 bad epochs dropped\n"
     ]
    },
    {
     "name": "stderr",
     "output_type": "stream",
     "text": [
      "[Parallel(n_jobs=-2)]: Using backend ThreadingBackend with 7 concurrent workers.\n",
      "[Parallel(n_jobs=-2)]: Done   4 tasks      | elapsed:    1.2s\n",
      "[Parallel(n_jobs=-2)]: Done  11 tasks      | elapsed:    2.4s\n",
      "[Parallel(n_jobs=-2)]: Done  18 tasks      | elapsed:    3.7s\n",
      "[Parallel(n_jobs=-2)]: Done  27 tasks      | elapsed:    4.9s\n",
      "[Parallel(n_jobs=-2)]: Done  36 tasks      | elapsed:    6.7s\n",
      "[Parallel(n_jobs=-2)]: Done  47 tasks      | elapsed:    8.5s\n",
      "[Parallel(n_jobs=-2)]: Done  58 tasks      | elapsed:   10.3s\n",
      "[Parallel(n_jobs=-2)]: Done  71 tasks      | elapsed:   12.4s\n",
      "[Parallel(n_jobs=-2)]: Done  84 tasks      | elapsed:   14.6s\n",
      "[Parallel(n_jobs=-2)]: Done  99 tasks      | elapsed:   17.0s\n",
      "[Parallel(n_jobs=-2)]: Done 114 tasks      | elapsed:   19.5s\n",
      "[Parallel(n_jobs=-2)]: Done 131 tasks      | elapsed:   22.8s\n",
      "[Parallel(n_jobs=-2)]: Done 148 tasks      | elapsed:   25.4s\n"
     ]
    },
    {
     "name": "stdout",
     "output_type": "stream",
     "text": [
      "Not setting metadata\n"
     ]
    },
    {
     "name": "stderr",
     "output_type": "stream",
     "text": [
      "[Parallel(n_jobs=-2)]: Done 174 out of 174 | elapsed:   29.2s finished\n"
     ]
    },
    {
     "name": "stdout",
     "output_type": "stream",
     "text": [
      "Used Annotations descriptions: ['Responsec25r25', 'Responsec25r75', 'Responsec25s25', 'Responsec25s75', 'Responsec75n25', 'Responsec75r25', 'Responsec75r75', 'Responsec75s25', 'Responsec75s75', 'Responsei25n25', 'Responsei25n75', 'Responsei25r25', 'Responsei25r75', 'Responsei25s25', 'Responsei25s75', 'Responsei75n75', 'Responsei75r25', 'Responsei75r75', 'Responsei75s25', 'Responsei75s75', 'Stimulusc25r25', 'Stimulusc25r75', 'Stimulusc25s25', 'Stimulusc25s75', 'Stimulusc75n25', 'Stimulusc75r25', 'Stimulusc75r75', 'Stimulusc75s25', 'Stimulusc75s75', 'Stimulusi25n25', 'Stimulusi25n75', 'Stimulusi25r25', 'Stimulusi25r75', 'Stimulusi25s25', 'Stimulusi25s75', 'Stimulusi75n75', 'Stimulusi75r25', 'Stimulusi75r75', 'Stimulusi75s25', 'Stimulusi75s75']\n",
      "Not setting metadata\n",
      "66 matching events found\n",
      "No baseline correction applied\n",
      "0 projection items activated\n",
      "Using data from preloaded Raw for 66 events and 6145 original time points ...\n",
      "0 bad epochs dropped\n"
     ]
    },
    {
     "name": "stderr",
     "output_type": "stream",
     "text": [
      "[Parallel(n_jobs=-2)]: Using backend ThreadingBackend with 7 concurrent workers.\n",
      "[Parallel(n_jobs=-2)]: Done   4 tasks      | elapsed:    2.8s\n",
      "[Parallel(n_jobs=-2)]: Done  11 tasks      | elapsed:    5.4s\n",
      "[Parallel(n_jobs=-2)]: Done  18 tasks      | elapsed:    8.1s\n",
      "[Parallel(n_jobs=-2)]: Done  27 tasks      | elapsed:   10.9s\n",
      "[Parallel(n_jobs=-2)]: Done  36 tasks      | elapsed:   14.4s\n",
      "[Parallel(n_jobs=-2)]: Done  47 tasks      | elapsed:   18.4s\n",
      "[Parallel(n_jobs=-2)]: Done  58 tasks      | elapsed:   23.1s\n",
      "[Parallel(n_jobs=-2)]: Done  71 tasks      | elapsed:   26.3s\n",
      "[Parallel(n_jobs=-2)]: Done  84 tasks      | elapsed:   31.3s\n",
      "[Parallel(n_jobs=-2)]: Done  99 tasks      | elapsed:   36.3s\n",
      "[Parallel(n_jobs=-2)]: Done 114 tasks      | elapsed:   42.3s\n",
      "[Parallel(n_jobs=-2)]: Done 131 tasks      | elapsed:   48.6s\n",
      "[Parallel(n_jobs=-2)]: Done 148 tasks      | elapsed:   55.1s\n"
     ]
    },
    {
     "name": "stdout",
     "output_type": "stream",
     "text": [
      "Not setting metadata\n"
     ]
    },
    {
     "name": "stderr",
     "output_type": "stream",
     "text": [
      "[Parallel(n_jobs=-2)]: Done 174 out of 174 | elapsed:  1.1min finished\n"
     ]
    },
    {
     "name": "stdout",
     "output_type": "stream",
     "text": [
      "Applying baseline correction (mode: ratio)\n",
      "Used Annotations descriptions: ['Responsec25r25', 'Responsec25r75', 'Responsec25s25', 'Responsec25s75', 'Responsec75n25', 'Responsec75r25', 'Responsec75r75', 'Responsec75s25', 'Responsec75s75', 'Responsei25n25', 'Responsei25n75', 'Responsei25r25', 'Responsei25r75', 'Responsei25s25', 'Responsei25s75', 'Responsei75n75', 'Responsei75r25', 'Responsei75r75', 'Responsei75s25', 'Responsei75s75', 'Stimulusc25r25', 'Stimulusc25r75', 'Stimulusc25s25', 'Stimulusc25s75', 'Stimulusc75n25', 'Stimulusc75r25', 'Stimulusc75r75', 'Stimulusc75s25', 'Stimulusc75s75', 'Stimulusi25n25', 'Stimulusi25n75', 'Stimulusi25r25', 'Stimulusi25r75', 'Stimulusi25s25', 'Stimulusi25s75', 'Stimulusi75n75', 'Stimulusi75r25', 'Stimulusi75r75', 'Stimulusi75s25', 'Stimulusi75s75']\n",
      "Not setting metadata\n",
      "66 matching events found\n",
      "No baseline correction applied\n",
      "0 projection items activated\n",
      "Using data from preloaded Raw for 66 events and 6145 original time points ...\n",
      "0 bad epochs dropped\n"
     ]
    },
    {
     "name": "stderr",
     "output_type": "stream",
     "text": [
      "[Parallel(n_jobs=-2)]: Using backend ThreadingBackend with 7 concurrent workers.\n",
      "[Parallel(n_jobs=-2)]: Done   4 tasks      | elapsed:    3.0s\n",
      "[Parallel(n_jobs=-2)]: Done  11 tasks      | elapsed:    5.6s\n",
      "[Parallel(n_jobs=-2)]: Done  18 tasks      | elapsed:    8.3s\n",
      "[Parallel(n_jobs=-2)]: Done  27 tasks      | elapsed:   11.3s\n",
      "[Parallel(n_jobs=-2)]: Done  36 tasks      | elapsed:   15.3s\n",
      "[Parallel(n_jobs=-2)]: Done  47 tasks      | elapsed:   21.1s\n",
      "[Parallel(n_jobs=-2)]: Done  58 tasks      | elapsed:   26.3s\n",
      "[Parallel(n_jobs=-2)]: Done  71 tasks      | elapsed:   31.8s\n",
      "[Parallel(n_jobs=-2)]: Done  84 tasks      | elapsed:   37.6s\n",
      "[Parallel(n_jobs=-2)]: Done  99 tasks      | elapsed:   43.5s\n",
      "[Parallel(n_jobs=-2)]: Done 114 tasks      | elapsed:   49.4s\n",
      "[Parallel(n_jobs=-2)]: Done 131 tasks      | elapsed:   56.2s\n",
      "[Parallel(n_jobs=-2)]: Done 148 tasks      | elapsed:  1.1min\n"
     ]
    },
    {
     "name": "stdout",
     "output_type": "stream",
     "text": [
      "Not setting metadata\n"
     ]
    },
    {
     "name": "stderr",
     "output_type": "stream",
     "text": [
      "[Parallel(n_jobs=-2)]: Done 174 out of 174 | elapsed:  1.2min finished\n"
     ]
    },
    {
     "name": "stdout",
     "output_type": "stream",
     "text": [
      "Applying baseline correction (mode: ratio)\n",
      "Used Annotations descriptions: ['Responsec25r25', 'Responsec25r75', 'Responsec25s25', 'Responsec25s75', 'Responsec75n25', 'Responsec75r25', 'Responsec75r75', 'Responsec75s25', 'Responsec75s75', 'Responsei25n25', 'Responsei25n75', 'Responsei25r25', 'Responsei25r75', 'Responsei25s25', 'Responsei25s75', 'Responsei75n75', 'Responsei75r25', 'Responsei75r75', 'Responsei75s25', 'Responsei75s75', 'Stimulusc25r25', 'Stimulusc25r75', 'Stimulusc25s25', 'Stimulusc25s75', 'Stimulusc75n25', 'Stimulusc75r25', 'Stimulusc75r75', 'Stimulusc75s25', 'Stimulusc75s75', 'Stimulusi25n25', 'Stimulusi25n75', 'Stimulusi25r25', 'Stimulusi25r75', 'Stimulusi25s25', 'Stimulusi25s75', 'Stimulusi75n75', 'Stimulusi75r25', 'Stimulusi75r75', 'Stimulusi75s25', 'Stimulusi75s75']\n",
      "Not setting metadata\n",
      "18 matching events found\n",
      "No baseline correction applied\n",
      "0 projection items activated\n",
      "Using data from preloaded Raw for 18 events and 3073 original time points ...\n",
      "0 bad epochs dropped\n"
     ]
    },
    {
     "name": "stderr",
     "output_type": "stream",
     "text": [
      "[Parallel(n_jobs=-2)]: Using backend ThreadingBackend with 7 concurrent workers.\n",
      "[Parallel(n_jobs=-2)]: Done   4 tasks      | elapsed:    0.3s\n",
      "[Parallel(n_jobs=-2)]: Done  11 tasks      | elapsed:    0.7s\n",
      "[Parallel(n_jobs=-2)]: Done  18 tasks      | elapsed:    1.1s\n",
      "[Parallel(n_jobs=-2)]: Done  27 tasks      | elapsed:    1.5s\n",
      "[Parallel(n_jobs=-2)]: Done  36 tasks      | elapsed:    2.0s\n",
      "[Parallel(n_jobs=-2)]: Done  47 tasks      | elapsed:    2.5s\n",
      "[Parallel(n_jobs=-2)]: Done  58 tasks      | elapsed:    3.1s\n",
      "[Parallel(n_jobs=-2)]: Done  71 tasks      | elapsed:    3.7s\n",
      "[Parallel(n_jobs=-2)]: Done  84 tasks      | elapsed:    4.4s\n",
      "[Parallel(n_jobs=-2)]: Done  99 tasks      | elapsed:    5.2s\n",
      "[Parallel(n_jobs=-2)]: Done 114 tasks      | elapsed:    6.0s\n",
      "[Parallel(n_jobs=-2)]: Done 131 tasks      | elapsed:    7.0s\n",
      "[Parallel(n_jobs=-2)]: Done 148 tasks      | elapsed:    7.8s\n"
     ]
    },
    {
     "name": "stdout",
     "output_type": "stream",
     "text": [
      "Not setting metadata\n"
     ]
    },
    {
     "name": "stderr",
     "output_type": "stream",
     "text": [
      "[Parallel(n_jobs=-2)]: Done 174 out of 174 | elapsed:    9.1s finished\n"
     ]
    },
    {
     "name": "stdout",
     "output_type": "stream",
     "text": [
      "Used Annotations descriptions: ['Responsec25r25', 'Responsec25r75', 'Responsec25s25', 'Responsec25s75', 'Responsec75n25', 'Responsec75r25', 'Responsec75r75', 'Responsec75s25', 'Responsec75s75', 'Responsei25n25', 'Responsei25n75', 'Responsei25r25', 'Responsei25r75', 'Responsei25s25', 'Responsei25s75', 'Responsei75n75', 'Responsei75r25', 'Responsei75r75', 'Responsei75s25', 'Responsei75s75', 'Stimulusc25r25', 'Stimulusc25r75', 'Stimulusc25s25', 'Stimulusc25s75', 'Stimulusc75n25', 'Stimulusc75r25', 'Stimulusc75r75', 'Stimulusc75s25', 'Stimulusc75s75', 'Stimulusi25n25', 'Stimulusi25n75', 'Stimulusi25r25', 'Stimulusi25r75', 'Stimulusi25s25', 'Stimulusi25s75', 'Stimulusi75n75', 'Stimulusi75r25', 'Stimulusi75r75', 'Stimulusi75s25', 'Stimulusi75s75']\n",
      "Not setting metadata\n",
      "18 matching events found\n",
      "No baseline correction applied\n",
      "0 projection items activated\n",
      "Using data from preloaded Raw for 18 events and 6145 original time points ...\n",
      "0 bad epochs dropped\n"
     ]
    },
    {
     "name": "stderr",
     "output_type": "stream",
     "text": [
      "[Parallel(n_jobs=-2)]: Using backend ThreadingBackend with 7 concurrent workers.\n",
      "[Parallel(n_jobs=-2)]: Done   4 tasks      | elapsed:    0.7s\n",
      "[Parallel(n_jobs=-2)]: Done  11 tasks      | elapsed:    1.5s\n",
      "[Parallel(n_jobs=-2)]: Done  18 tasks      | elapsed:    2.2s\n",
      "[Parallel(n_jobs=-2)]: Done  27 tasks      | elapsed:    3.0s\n",
      "[Parallel(n_jobs=-2)]: Done  36 tasks      | elapsed:    4.0s\n",
      "[Parallel(n_jobs=-2)]: Done  47 tasks      | elapsed:    5.2s\n",
      "[Parallel(n_jobs=-2)]: Done  58 tasks      | elapsed:    6.6s\n",
      "[Parallel(n_jobs=-2)]: Done  71 tasks      | elapsed:    7.4s\n",
      "[Parallel(n_jobs=-2)]: Done  84 tasks      | elapsed:    8.9s\n",
      "[Parallel(n_jobs=-2)]: Done  99 tasks      | elapsed:   10.3s\n",
      "[Parallel(n_jobs=-2)]: Done 114 tasks      | elapsed:   11.9s\n",
      "[Parallel(n_jobs=-2)]: Done 131 tasks      | elapsed:   13.8s\n",
      "[Parallel(n_jobs=-2)]: Done 148 tasks      | elapsed:   15.3s\n"
     ]
    },
    {
     "name": "stdout",
     "output_type": "stream",
     "text": [
      "Not setting metadata\n"
     ]
    },
    {
     "name": "stderr",
     "output_type": "stream",
     "text": [
      "[Parallel(n_jobs=-2)]: Done 174 out of 174 | elapsed:   18.0s finished\n"
     ]
    },
    {
     "name": "stdout",
     "output_type": "stream",
     "text": [
      "Applying baseline correction (mode: ratio)\n",
      "Used Annotations descriptions: ['Responsec25r25', 'Responsec25r75', 'Responsec25s25', 'Responsec25s75', 'Responsec75n25', 'Responsec75r25', 'Responsec75r75', 'Responsec75s25', 'Responsec75s75', 'Responsei25n25', 'Responsei25n75', 'Responsei25r25', 'Responsei25r75', 'Responsei25s25', 'Responsei25s75', 'Responsei75n75', 'Responsei75r25', 'Responsei75r75', 'Responsei75s25', 'Responsei75s75', 'Stimulusc25r25', 'Stimulusc25r75', 'Stimulusc25s25', 'Stimulusc25s75', 'Stimulusc75n25', 'Stimulusc75r25', 'Stimulusc75r75', 'Stimulusc75s25', 'Stimulusc75s75', 'Stimulusi25n25', 'Stimulusi25n75', 'Stimulusi25r25', 'Stimulusi25r75', 'Stimulusi25s25', 'Stimulusi25s75', 'Stimulusi75n75', 'Stimulusi75r25', 'Stimulusi75r75', 'Stimulusi75s25', 'Stimulusi75s75']\n",
      "Not setting metadata\n",
      "18 matching events found\n",
      "No baseline correction applied\n",
      "0 projection items activated\n",
      "Using data from preloaded Raw for 18 events and 6145 original time points ...\n",
      "0 bad epochs dropped\n"
     ]
    },
    {
     "name": "stderr",
     "output_type": "stream",
     "text": [
      "[Parallel(n_jobs=-2)]: Using backend ThreadingBackend with 7 concurrent workers.\n",
      "[Parallel(n_jobs=-2)]: Done   4 tasks      | elapsed:    0.8s\n",
      "[Parallel(n_jobs=-2)]: Done  11 tasks      | elapsed:    1.6s\n",
      "[Parallel(n_jobs=-2)]: Done  18 tasks      | elapsed:    2.5s\n",
      "[Parallel(n_jobs=-2)]: Done  27 tasks      | elapsed:    3.4s\n",
      "[Parallel(n_jobs=-2)]: Done  36 tasks      | elapsed:    4.6s\n",
      "[Parallel(n_jobs=-2)]: Done  47 tasks      | elapsed:    5.9s\n",
      "[Parallel(n_jobs=-2)]: Done  58 tasks      | elapsed:    7.0s\n",
      "[Parallel(n_jobs=-2)]: Done  71 tasks      | elapsed:    8.7s\n",
      "[Parallel(n_jobs=-2)]: Done  84 tasks      | elapsed:   10.3s\n",
      "[Parallel(n_jobs=-2)]: Done  99 tasks      | elapsed:   11.9s\n",
      "[Parallel(n_jobs=-2)]: Done 114 tasks      | elapsed:   13.6s\n",
      "[Parallel(n_jobs=-2)]: Done 131 tasks      | elapsed:   15.4s\n",
      "[Parallel(n_jobs=-2)]: Done 148 tasks      | elapsed:   17.5s\n"
     ]
    },
    {
     "name": "stdout",
     "output_type": "stream",
     "text": [
      "Not setting metadata\n"
     ]
    },
    {
     "name": "stderr",
     "output_type": "stream",
     "text": [
      "[Parallel(n_jobs=-2)]: Done 174 out of 174 | elapsed:   20.7s finished\n"
     ]
    },
    {
     "name": "stdout",
     "output_type": "stream",
     "text": [
      "Applying baseline correction (mode: ratio)\n",
      "Used Annotations descriptions: ['Responsec25r25', 'Responsec25r75', 'Responsec25s25', 'Responsec25s75', 'Responsec75n25', 'Responsec75r25', 'Responsec75r75', 'Responsec75s25', 'Responsec75s75', 'Responsei25n25', 'Responsei25n75', 'Responsei25r25', 'Responsei25r75', 'Responsei25s25', 'Responsei25s75', 'Responsei75n75', 'Responsei75r25', 'Responsei75r75', 'Responsei75s25', 'Responsei75s75', 'Stimulusc25r25', 'Stimulusc25r75', 'Stimulusc25s25', 'Stimulusc25s75', 'Stimulusc75n25', 'Stimulusc75r25', 'Stimulusc75r75', 'Stimulusc75s25', 'Stimulusc75s75', 'Stimulusi25n25', 'Stimulusi25n75', 'Stimulusi25r25', 'Stimulusi25r75', 'Stimulusi25s25', 'Stimulusi25s75', 'Stimulusi75n75', 'Stimulusi75r25', 'Stimulusi75r75', 'Stimulusi75s25', 'Stimulusi75s75']\n",
      "Not setting metadata\n",
      "61 matching events found\n",
      "No baseline correction applied\n",
      "0 projection items activated\n",
      "Using data from preloaded Raw for 61 events and 3073 original time points ...\n",
      "0 bad epochs dropped\n"
     ]
    },
    {
     "name": "stderr",
     "output_type": "stream",
     "text": [
      "[Parallel(n_jobs=-2)]: Using backend ThreadingBackend with 7 concurrent workers.\n",
      "[Parallel(n_jobs=-2)]: Done   4 tasks      | elapsed:    1.3s\n",
      "[Parallel(n_jobs=-2)]: Done  11 tasks      | elapsed:    2.4s\n",
      "[Parallel(n_jobs=-2)]: Done  18 tasks      | elapsed:    3.8s\n",
      "[Parallel(n_jobs=-2)]: Done  27 tasks      | elapsed:    5.0s\n",
      "[Parallel(n_jobs=-2)]: Done  36 tasks      | elapsed:    7.1s\n",
      "[Parallel(n_jobs=-2)]: Done  47 tasks      | elapsed:    8.6s\n",
      "[Parallel(n_jobs=-2)]: Done  58 tasks      | elapsed:   10.5s\n",
      "[Parallel(n_jobs=-2)]: Done  71 tasks      | elapsed:   12.8s\n",
      "[Parallel(n_jobs=-2)]: Done  84 tasks      | elapsed:   14.7s\n",
      "[Parallel(n_jobs=-2)]: Done  99 tasks      | elapsed:   18.5s\n",
      "[Parallel(n_jobs=-2)]: Done 114 tasks      | elapsed:   22.6s\n",
      "[Parallel(n_jobs=-2)]: Done 131 tasks      | elapsed:   27.2s\n",
      "[Parallel(n_jobs=-2)]: Done 148 tasks      | elapsed:   32.0s\n"
     ]
    },
    {
     "name": "stdout",
     "output_type": "stream",
     "text": [
      "Not setting metadata\n"
     ]
    },
    {
     "name": "stderr",
     "output_type": "stream",
     "text": [
      "[Parallel(n_jobs=-2)]: Done 174 out of 174 | elapsed:   39.2s finished\n"
     ]
    },
    {
     "name": "stdout",
     "output_type": "stream",
     "text": [
      "Used Annotations descriptions: ['Responsec25r25', 'Responsec25r75', 'Responsec25s25', 'Responsec25s75', 'Responsec75n25', 'Responsec75r25', 'Responsec75r75', 'Responsec75s25', 'Responsec75s75', 'Responsei25n25', 'Responsei25n75', 'Responsei25r25', 'Responsei25r75', 'Responsei25s25', 'Responsei25s75', 'Responsei75n75', 'Responsei75r25', 'Responsei75r75', 'Responsei75s25', 'Responsei75s75', 'Stimulusc25r25', 'Stimulusc25r75', 'Stimulusc25s25', 'Stimulusc25s75', 'Stimulusc75n25', 'Stimulusc75r25', 'Stimulusc75r75', 'Stimulusc75s25', 'Stimulusc75s75', 'Stimulusi25n25', 'Stimulusi25n75', 'Stimulusi25r25', 'Stimulusi25r75', 'Stimulusi25s25', 'Stimulusi25s75', 'Stimulusi75n75', 'Stimulusi75r25', 'Stimulusi75r75', 'Stimulusi75s25', 'Stimulusi75s75']\n",
      "Not setting metadata\n",
      "61 matching events found\n",
      "No baseline correction applied\n",
      "0 projection items activated\n",
      "Using data from preloaded Raw for 61 events and 6145 original time points ...\n",
      "0 bad epochs dropped\n"
     ]
    },
    {
     "name": "stderr",
     "output_type": "stream",
     "text": [
      "[Parallel(n_jobs=-2)]: Using backend ThreadingBackend with 7 concurrent workers.\n",
      "[Parallel(n_jobs=-2)]: Done   4 tasks      | elapsed:    3.8s\n",
      "[Parallel(n_jobs=-2)]: Done  11 tasks      | elapsed:    7.4s\n",
      "[Parallel(n_jobs=-2)]: Done  18 tasks      | elapsed:   11.0s\n",
      "[Parallel(n_jobs=-2)]: Done  27 tasks      | elapsed:   15.0s\n",
      "[Parallel(n_jobs=-2)]: Done  36 tasks      | elapsed:   19.2s\n",
      "[Parallel(n_jobs=-2)]: Done  47 tasks      | elapsed:   24.0s\n",
      "[Parallel(n_jobs=-2)]: Done  58 tasks      | elapsed:   28.0s\n",
      "[Parallel(n_jobs=-2)]: Done  71 tasks      | elapsed:   35.2s\n",
      "[Parallel(n_jobs=-2)]: Done  84 tasks      | elapsed:   42.4s\n",
      "[Parallel(n_jobs=-2)]: Done  99 tasks      | elapsed:   49.5s\n",
      "[Parallel(n_jobs=-2)]: Done 114 tasks      | elapsed:   56.3s\n",
      "[Parallel(n_jobs=-2)]: Done 131 tasks      | elapsed:  1.1min\n",
      "[Parallel(n_jobs=-2)]: Done 148 tasks      | elapsed:  1.2min\n"
     ]
    },
    {
     "name": "stdout",
     "output_type": "stream",
     "text": [
      "Not setting metadata\n"
     ]
    },
    {
     "name": "stderr",
     "output_type": "stream",
     "text": [
      "[Parallel(n_jobs=-2)]: Done 174 out of 174 | elapsed:  1.4min finished\n"
     ]
    },
    {
     "name": "stdout",
     "output_type": "stream",
     "text": [
      "Applying baseline correction (mode: ratio)\n",
      "Used Annotations descriptions: ['Responsec25r25', 'Responsec25r75', 'Responsec25s25', 'Responsec25s75', 'Responsec75n25', 'Responsec75r25', 'Responsec75r75', 'Responsec75s25', 'Responsec75s75', 'Responsei25n25', 'Responsei25n75', 'Responsei25r25', 'Responsei25r75', 'Responsei25s25', 'Responsei25s75', 'Responsei75n75', 'Responsei75r25', 'Responsei75r75', 'Responsei75s25', 'Responsei75s75', 'Stimulusc25r25', 'Stimulusc25r75', 'Stimulusc25s25', 'Stimulusc25s75', 'Stimulusc75n25', 'Stimulusc75r25', 'Stimulusc75r75', 'Stimulusc75s25', 'Stimulusc75s75', 'Stimulusi25n25', 'Stimulusi25n75', 'Stimulusi25r25', 'Stimulusi25r75', 'Stimulusi25s25', 'Stimulusi25s75', 'Stimulusi75n75', 'Stimulusi75r25', 'Stimulusi75r75', 'Stimulusi75s25', 'Stimulusi75s75']\n",
      "Not setting metadata\n",
      "61 matching events found\n",
      "No baseline correction applied\n",
      "0 projection items activated\n",
      "Using data from preloaded Raw for 61 events and 6145 original time points ...\n",
      "0 bad epochs dropped\n"
     ]
    },
    {
     "name": "stderr",
     "output_type": "stream",
     "text": [
      "[Parallel(n_jobs=-2)]: Using backend ThreadingBackend with 7 concurrent workers.\n",
      "[Parallel(n_jobs=-2)]: Done   4 tasks      | elapsed:    4.1s\n",
      "[Parallel(n_jobs=-2)]: Done  11 tasks      | elapsed:    8.0s\n",
      "[Parallel(n_jobs=-2)]: Done  18 tasks      | elapsed:   12.1s\n",
      "[Parallel(n_jobs=-2)]: Done  27 tasks      | elapsed:   16.0s\n",
      "[Parallel(n_jobs=-2)]: Done  36 tasks      | elapsed:   21.9s\n",
      "[Parallel(n_jobs=-2)]: Done  47 tasks      | elapsed:   26.4s\n",
      "[Parallel(n_jobs=-2)]: Done  58 tasks      | elapsed:   31.7s\n",
      "[Parallel(n_jobs=-2)]: Done  71 tasks      | elapsed:   39.7s\n",
      "[Parallel(n_jobs=-2)]: Done  84 tasks      | elapsed:   45.5s\n",
      "[Parallel(n_jobs=-2)]: Done  99 tasks      | elapsed:   53.1s\n",
      "[Parallel(n_jobs=-2)]: Done 114 tasks      | elapsed:   59.3s\n",
      "[Parallel(n_jobs=-2)]: Done 131 tasks      | elapsed:  1.1min\n",
      "[Parallel(n_jobs=-2)]: Done 148 tasks      | elapsed:  1.3min\n"
     ]
    },
    {
     "name": "stdout",
     "output_type": "stream",
     "text": [
      "Not setting metadata\n"
     ]
    },
    {
     "name": "stderr",
     "output_type": "stream",
     "text": [
      "[Parallel(n_jobs=-2)]: Done 174 out of 174 | elapsed:  1.4min finished\n"
     ]
    },
    {
     "name": "stdout",
     "output_type": "stream",
     "text": [
      "Applying baseline correction (mode: ratio)\n",
      "Used Annotations descriptions: ['Responsec25r25', 'Responsec25r75', 'Responsec25s25', 'Responsec25s75', 'Responsec75n25', 'Responsec75r25', 'Responsec75r75', 'Responsec75s25', 'Responsec75s75', 'Responsei25n25', 'Responsei25n75', 'Responsei25r25', 'Responsei25r75', 'Responsei25s25', 'Responsei25s75', 'Responsei75n75', 'Responsei75r25', 'Responsei75r75', 'Responsei75s25', 'Responsei75s75', 'Stimulusc25r25', 'Stimulusc25r75', 'Stimulusc25s25', 'Stimulusc25s75', 'Stimulusc75n25', 'Stimulusc75r25', 'Stimulusc75r75', 'Stimulusc75s25', 'Stimulusc75s75', 'Stimulusi25n25', 'Stimulusi25n75', 'Stimulusi25r25', 'Stimulusi25r75', 'Stimulusi25s25', 'Stimulusi25s75', 'Stimulusi75n75', 'Stimulusi75r25', 'Stimulusi75r75', 'Stimulusi75s25', 'Stimulusi75s75']\n",
      "Not setting metadata\n",
      "22 matching events found\n",
      "No baseline correction applied\n",
      "0 projection items activated\n",
      "Using data from preloaded Raw for 22 events and 3073 original time points ...\n",
      "0 bad epochs dropped\n"
     ]
    },
    {
     "name": "stderr",
     "output_type": "stream",
     "text": [
      "[Parallel(n_jobs=-2)]: Using backend ThreadingBackend with 7 concurrent workers.\n",
      "[Parallel(n_jobs=-2)]: Done   4 tasks      | elapsed:    0.6s\n",
      "[Parallel(n_jobs=-2)]: Done  11 tasks      | elapsed:    1.1s\n",
      "[Parallel(n_jobs=-2)]: Done  18 tasks      | elapsed:    1.7s\n",
      "[Parallel(n_jobs=-2)]: Done  27 tasks      | elapsed:    2.3s\n",
      "[Parallel(n_jobs=-2)]: Done  36 tasks      | elapsed:    3.2s\n",
      "[Parallel(n_jobs=-2)]: Done  47 tasks      | elapsed:    3.9s\n",
      "[Parallel(n_jobs=-2)]: Done  58 tasks      | elapsed:    4.8s\n",
      "[Parallel(n_jobs=-2)]: Done  71 tasks      | elapsed:    5.8s\n",
      "[Parallel(n_jobs=-2)]: Done  84 tasks      | elapsed:    7.0s\n",
      "[Parallel(n_jobs=-2)]: Done  99 tasks      | elapsed:    8.1s\n",
      "[Parallel(n_jobs=-2)]: Done 114 tasks      | elapsed:    9.3s\n",
      "[Parallel(n_jobs=-2)]: Done 131 tasks      | elapsed:   10.6s\n",
      "[Parallel(n_jobs=-2)]: Done 148 tasks      | elapsed:   11.9s\n"
     ]
    },
    {
     "name": "stdout",
     "output_type": "stream",
     "text": [
      "Not setting metadata\n"
     ]
    },
    {
     "name": "stderr",
     "output_type": "stream",
     "text": [
      "[Parallel(n_jobs=-2)]: Done 174 out of 174 | elapsed:   13.8s finished\n"
     ]
    },
    {
     "name": "stdout",
     "output_type": "stream",
     "text": [
      "Used Annotations descriptions: ['Responsec25r25', 'Responsec25r75', 'Responsec25s25', 'Responsec25s75', 'Responsec75n25', 'Responsec75r25', 'Responsec75r75', 'Responsec75s25', 'Responsec75s75', 'Responsei25n25', 'Responsei25n75', 'Responsei25r25', 'Responsei25r75', 'Responsei25s25', 'Responsei25s75', 'Responsei75n75', 'Responsei75r25', 'Responsei75r75', 'Responsei75s25', 'Responsei75s75', 'Stimulusc25r25', 'Stimulusc25r75', 'Stimulusc25s25', 'Stimulusc25s75', 'Stimulusc75n25', 'Stimulusc75r25', 'Stimulusc75r75', 'Stimulusc75s25', 'Stimulusc75s75', 'Stimulusi25n25', 'Stimulusi25n75', 'Stimulusi25r25', 'Stimulusi25r75', 'Stimulusi25s25', 'Stimulusi25s75', 'Stimulusi75n75', 'Stimulusi75r25', 'Stimulusi75r75', 'Stimulusi75s25', 'Stimulusi75s75']\n",
      "Not setting metadata\n",
      "22 matching events found\n",
      "No baseline correction applied\n",
      "0 projection items activated\n",
      "Using data from preloaded Raw for 22 events and 6145 original time points ...\n",
      "0 bad epochs dropped\n"
     ]
    },
    {
     "name": "stderr",
     "output_type": "stream",
     "text": [
      "[Parallel(n_jobs=-2)]: Using backend ThreadingBackend with 7 concurrent workers.\n",
      "[Parallel(n_jobs=-2)]: Done   4 tasks      | elapsed:    1.1s\n",
      "[Parallel(n_jobs=-2)]: Done  11 tasks      | elapsed:    2.5s\n",
      "[Parallel(n_jobs=-2)]: Done  18 tasks      | elapsed:    3.8s\n",
      "[Parallel(n_jobs=-2)]: Done  27 tasks      | elapsed:    5.1s\n",
      "[Parallel(n_jobs=-2)]: Done  36 tasks      | elapsed:    6.4s\n",
      "[Parallel(n_jobs=-2)]: Done  47 tasks      | elapsed:    8.7s\n",
      "[Parallel(n_jobs=-2)]: Done  58 tasks      | elapsed:   10.2s\n",
      "[Parallel(n_jobs=-2)]: Done  71 tasks      | elapsed:   13.0s\n",
      "[Parallel(n_jobs=-2)]: Done  84 tasks      | elapsed:   14.8s\n",
      "[Parallel(n_jobs=-2)]: Done  99 tasks      | elapsed:   16.9s\n",
      "[Parallel(n_jobs=-2)]: Done 114 tasks      | elapsed:   18.9s\n",
      "[Parallel(n_jobs=-2)]: Done 131 tasks      | elapsed:   21.7s\n",
      "[Parallel(n_jobs=-2)]: Done 148 tasks      | elapsed:   24.5s\n"
     ]
    },
    {
     "name": "stdout",
     "output_type": "stream",
     "text": [
      "Not setting metadata\n"
     ]
    },
    {
     "name": "stderr",
     "output_type": "stream",
     "text": [
      "[Parallel(n_jobs=-2)]: Done 174 out of 174 | elapsed:   27.6s finished\n"
     ]
    },
    {
     "name": "stdout",
     "output_type": "stream",
     "text": [
      "Applying baseline correction (mode: ratio)\n",
      "Used Annotations descriptions: ['Responsec25r25', 'Responsec25r75', 'Responsec25s25', 'Responsec25s75', 'Responsec75n25', 'Responsec75r25', 'Responsec75r75', 'Responsec75s25', 'Responsec75s75', 'Responsei25n25', 'Responsei25n75', 'Responsei25r25', 'Responsei25r75', 'Responsei25s25', 'Responsei25s75', 'Responsei75n75', 'Responsei75r25', 'Responsei75r75', 'Responsei75s25', 'Responsei75s75', 'Stimulusc25r25', 'Stimulusc25r75', 'Stimulusc25s25', 'Stimulusc25s75', 'Stimulusc75n25', 'Stimulusc75r25', 'Stimulusc75r75', 'Stimulusc75s25', 'Stimulusc75s75', 'Stimulusi25n25', 'Stimulusi25n75', 'Stimulusi25r25', 'Stimulusi25r75', 'Stimulusi25s25', 'Stimulusi25s75', 'Stimulusi75n75', 'Stimulusi75r25', 'Stimulusi75r75', 'Stimulusi75s25', 'Stimulusi75s75']\n",
      "Not setting metadata\n",
      "22 matching events found\n",
      "No baseline correction applied\n",
      "0 projection items activated\n",
      "Using data from preloaded Raw for 22 events and 6145 original time points ...\n",
      "0 bad epochs dropped\n"
     ]
    },
    {
     "name": "stderr",
     "output_type": "stream",
     "text": [
      "[Parallel(n_jobs=-2)]: Using backend ThreadingBackend with 7 concurrent workers.\n",
      "[Parallel(n_jobs=-2)]: Done   4 tasks      | elapsed:    0.9s\n",
      "[Parallel(n_jobs=-2)]: Done  11 tasks      | elapsed:    2.0s\n",
      "[Parallel(n_jobs=-2)]: Done  18 tasks      | elapsed:    3.1s\n",
      "[Parallel(n_jobs=-2)]: Done  27 tasks      | elapsed:    4.4s\n",
      "[Parallel(n_jobs=-2)]: Done  36 tasks      | elapsed:    6.1s\n",
      "[Parallel(n_jobs=-2)]: Done  47 tasks      | elapsed:    7.6s\n",
      "[Parallel(n_jobs=-2)]: Done  58 tasks      | elapsed:    9.4s\n",
      "[Parallel(n_jobs=-2)]: Done  71 tasks      | elapsed:   10.8s\n",
      "[Parallel(n_jobs=-2)]: Done  84 tasks      | elapsed:   12.8s\n",
      "[Parallel(n_jobs=-2)]: Done  99 tasks      | elapsed:   15.5s\n",
      "[Parallel(n_jobs=-2)]: Done 114 tasks      | elapsed:   17.5s\n",
      "[Parallel(n_jobs=-2)]: Done 131 tasks      | elapsed:   19.7s\n",
      "[Parallel(n_jobs=-2)]: Done 148 tasks      | elapsed:   21.6s\n"
     ]
    },
    {
     "name": "stdout",
     "output_type": "stream",
     "text": [
      "Not setting metadata\n"
     ]
    },
    {
     "name": "stderr",
     "output_type": "stream",
     "text": [
      "[Parallel(n_jobs=-2)]: Done 174 out of 174 | elapsed:   24.5s finished\n"
     ]
    },
    {
     "name": "stdout",
     "output_type": "stream",
     "text": [
      "Applying baseline correction (mode: ratio)\n",
      "Used Annotations descriptions: ['Responsec25r25', 'Responsec25r75', 'Responsec25s25', 'Responsec25s75', 'Responsec75n25', 'Responsec75r25', 'Responsec75r75', 'Responsec75s25', 'Responsec75s75', 'Responsei25n25', 'Responsei25n75', 'Responsei25r25', 'Responsei25r75', 'Responsei25s25', 'Responsei25s75', 'Responsei75n75', 'Responsei75r25', 'Responsei75r75', 'Responsei75s25', 'Responsei75s75', 'Stimulusc25r25', 'Stimulusc25r75', 'Stimulusc25s25', 'Stimulusc25s75', 'Stimulusc75n25', 'Stimulusc75r25', 'Stimulusc75r75', 'Stimulusc75s25', 'Stimulusc75s75', 'Stimulusi25n25', 'Stimulusi25n75', 'Stimulusi25r25', 'Stimulusi25r75', 'Stimulusi25s25', 'Stimulusi25s75', 'Stimulusi75n75', 'Stimulusi75r25', 'Stimulusi75r75', 'Stimulusi75s25', 'Stimulusi75s75']\n",
      "Not setting metadata\n",
      "22 matching events found\n",
      "No baseline correction applied\n",
      "0 projection items activated\n",
      "Using data from preloaded Raw for 22 events and 3073 original time points ...\n",
      "0 bad epochs dropped\n"
     ]
    },
    {
     "name": "stderr",
     "output_type": "stream",
     "text": [
      "[Parallel(n_jobs=-2)]: Using backend ThreadingBackend with 7 concurrent workers.\n",
      "[Parallel(n_jobs=-2)]: Done   4 tasks      | elapsed:    0.4s\n",
      "[Parallel(n_jobs=-2)]: Done  11 tasks      | elapsed:    0.8s\n",
      "[Parallel(n_jobs=-2)]: Done  18 tasks      | elapsed:    1.3s\n",
      "[Parallel(n_jobs=-2)]: Done  27 tasks      | elapsed:    1.7s\n",
      "[Parallel(n_jobs=-2)]: Done  36 tasks      | elapsed:    2.4s\n",
      "[Parallel(n_jobs=-2)]: Done  47 tasks      | elapsed:    3.2s\n",
      "[Parallel(n_jobs=-2)]: Done  58 tasks      | elapsed:    3.8s\n",
      "[Parallel(n_jobs=-2)]: Done  71 tasks      | elapsed:    4.5s\n",
      "[Parallel(n_jobs=-2)]: Done  84 tasks      | elapsed:    5.4s\n",
      "[Parallel(n_jobs=-2)]: Done  99 tasks      | elapsed:    6.3s\n",
      "[Parallel(n_jobs=-2)]: Done 114 tasks      | elapsed:    7.2s\n",
      "[Parallel(n_jobs=-2)]: Done 131 tasks      | elapsed:    8.3s\n",
      "[Parallel(n_jobs=-2)]: Done 148 tasks      | elapsed:    9.3s\n"
     ]
    },
    {
     "name": "stdout",
     "output_type": "stream",
     "text": [
      "Not setting metadata\n",
      "Used Annotations descriptions: ['Responsec25r25', 'Responsec25r75', 'Responsec25s25', 'Responsec25s75', 'Responsec75n25', 'Responsec75r25', 'Responsec75r75', 'Responsec75s25', 'Responsec75s75', 'Responsei25n25', 'Responsei25n75', 'Responsei25r25', 'Responsei25r75', 'Responsei25s25', 'Responsei25s75', 'Responsei75n75', 'Responsei75r25', 'Responsei75r75', 'Responsei75s25', 'Responsei75s75', 'Stimulusc25r25', 'Stimulusc25r75', 'Stimulusc25s25', 'Stimulusc25s75', 'Stimulusc75n25', 'Stimulusc75r25', 'Stimulusc75r75', 'Stimulusc75s25', 'Stimulusc75s75', 'Stimulusi25n25', 'Stimulusi25n75', 'Stimulusi25r25', 'Stimulusi25r75', 'Stimulusi25s25', 'Stimulusi25s75', 'Stimulusi75n75', 'Stimulusi75r25', 'Stimulusi75r75', 'Stimulusi75s25', 'Stimulusi75s75']\n",
      "Not setting metadata\n",
      "22 matching events found\n",
      "No baseline correction applied\n"
     ]
    },
    {
     "name": "stderr",
     "output_type": "stream",
     "text": [
      "[Parallel(n_jobs=-2)]: Done 174 out of 174 | elapsed:   10.8s finished\n"
     ]
    },
    {
     "name": "stdout",
     "output_type": "stream",
     "text": [
      "0 projection items activated\n",
      "Using data from preloaded Raw for 22 events and 6145 original time points ...\n",
      "0 bad epochs dropped\n"
     ]
    },
    {
     "name": "stderr",
     "output_type": "stream",
     "text": [
      "[Parallel(n_jobs=-2)]: Using backend ThreadingBackend with 7 concurrent workers.\n",
      "[Parallel(n_jobs=-2)]: Done   4 tasks      | elapsed:    1.2s\n",
      "[Parallel(n_jobs=-2)]: Done  11 tasks      | elapsed:    2.3s\n",
      "[Parallel(n_jobs=-2)]: Done  18 tasks      | elapsed:    3.2s\n",
      "[Parallel(n_jobs=-2)]: Done  27 tasks      | elapsed:    4.4s\n",
      "[Parallel(n_jobs=-2)]: Done  36 tasks      | elapsed:    6.1s\n",
      "[Parallel(n_jobs=-2)]: Done  47 tasks      | elapsed:    7.2s\n",
      "[Parallel(n_jobs=-2)]: Done  58 tasks      | elapsed:    9.4s\n",
      "[Parallel(n_jobs=-2)]: Done  71 tasks      | elapsed:   11.4s\n",
      "[Parallel(n_jobs=-2)]: Done  84 tasks      | elapsed:   13.3s\n",
      "[Parallel(n_jobs=-2)]: Done  99 tasks      | elapsed:   16.4s\n",
      "[Parallel(n_jobs=-2)]: Done 114 tasks      | elapsed:   19.0s\n",
      "[Parallel(n_jobs=-2)]: Done 131 tasks      | elapsed:   22.8s\n",
      "[Parallel(n_jobs=-2)]: Done 148 tasks      | elapsed:   26.6s\n"
     ]
    },
    {
     "name": "stdout",
     "output_type": "stream",
     "text": [
      "Not setting metadata\n"
     ]
    },
    {
     "name": "stderr",
     "output_type": "stream",
     "text": [
      "[Parallel(n_jobs=-2)]: Done 174 out of 174 | elapsed:   32.2s finished\n"
     ]
    },
    {
     "name": "stdout",
     "output_type": "stream",
     "text": [
      "Applying baseline correction (mode: ratio)\n",
      "Used Annotations descriptions: ['Responsec25r25', 'Responsec25r75', 'Responsec25s25', 'Responsec25s75', 'Responsec75n25', 'Responsec75r25', 'Responsec75r75', 'Responsec75s25', 'Responsec75s75', 'Responsei25n25', 'Responsei25n75', 'Responsei25r25', 'Responsei25r75', 'Responsei25s25', 'Responsei25s75', 'Responsei75n75', 'Responsei75r25', 'Responsei75r75', 'Responsei75s25', 'Responsei75s75', 'Stimulusc25r25', 'Stimulusc25r75', 'Stimulusc25s25', 'Stimulusc25s75', 'Stimulusc75n25', 'Stimulusc75r25', 'Stimulusc75r75', 'Stimulusc75s25', 'Stimulusc75s75', 'Stimulusi25n25', 'Stimulusi25n75', 'Stimulusi25r25', 'Stimulusi25r75', 'Stimulusi25s25', 'Stimulusi25s75', 'Stimulusi75n75', 'Stimulusi75r25', 'Stimulusi75r75', 'Stimulusi75s25', 'Stimulusi75s75']\n",
      "Not setting metadata\n",
      "22 matching events found\n",
      "No baseline correction applied\n",
      "0 projection items activated\n",
      "Using data from preloaded Raw for 22 events and 6145 original time points ...\n",
      "0 bad epochs dropped\n"
     ]
    },
    {
     "name": "stderr",
     "output_type": "stream",
     "text": [
      "[Parallel(n_jobs=-2)]: Using backend ThreadingBackend with 7 concurrent workers.\n",
      "[Parallel(n_jobs=-2)]: Done   4 tasks      | elapsed:    0.9s\n",
      "[Parallel(n_jobs=-2)]: Done  11 tasks      | elapsed:    1.9s\n",
      "[Parallel(n_jobs=-2)]: Done  18 tasks      | elapsed:    2.8s\n",
      "[Parallel(n_jobs=-2)]: Done  27 tasks      | elapsed:    3.9s\n",
      "[Parallel(n_jobs=-2)]: Done  36 tasks      | elapsed:    5.4s\n",
      "[Parallel(n_jobs=-2)]: Done  47 tasks      | elapsed:    6.6s\n",
      "[Parallel(n_jobs=-2)]: Done  58 tasks      | elapsed:    8.0s\n",
      "[Parallel(n_jobs=-2)]: Done  71 tasks      | elapsed:    9.5s\n",
      "[Parallel(n_jobs=-2)]: Done  84 tasks      | elapsed:   11.4s\n",
      "[Parallel(n_jobs=-2)]: Done  99 tasks      | elapsed:   13.4s\n",
      "[Parallel(n_jobs=-2)]: Done 114 tasks      | elapsed:   15.2s\n",
      "[Parallel(n_jobs=-2)]: Done 131 tasks      | elapsed:   17.7s\n",
      "[Parallel(n_jobs=-2)]: Done 148 tasks      | elapsed:   19.7s\n"
     ]
    },
    {
     "name": "stdout",
     "output_type": "stream",
     "text": [
      "Not setting metadata\n"
     ]
    },
    {
     "name": "stderr",
     "output_type": "stream",
     "text": [
      "[Parallel(n_jobs=-2)]: Done 174 out of 174 | elapsed:   22.7s finished\n"
     ]
    },
    {
     "name": "stdout",
     "output_type": "stream",
     "text": [
      "Applying baseline correction (mode: ratio)\n",
      "Used Annotations descriptions: ['Responsec25r25', 'Responsec25r75', 'Responsec25s25', 'Responsec25s75', 'Responsec75n25', 'Responsec75r25', 'Responsec75r75', 'Responsec75s25', 'Responsec75s75', 'Responsei25n25', 'Responsei25n75', 'Responsei25r25', 'Responsei25r75', 'Responsei25s25', 'Responsei25s75', 'Responsei75n75', 'Responsei75r25', 'Responsei75r75', 'Responsei75s25', 'Responsei75s75', 'Stimulusc25r25', 'Stimulusc25r75', 'Stimulusc25s25', 'Stimulusc25s75', 'Stimulusc75n25', 'Stimulusc75r25', 'Stimulusc75r75', 'Stimulusc75s25', 'Stimulusc75s75', 'Stimulusi25n25', 'Stimulusi25n75', 'Stimulusi25r25', 'Stimulusi25r75', 'Stimulusi25s25', 'Stimulusi25s75', 'Stimulusi75n75', 'Stimulusi75r25', 'Stimulusi75r75', 'Stimulusi75s25', 'Stimulusi75s75']\n",
      "Not setting metadata\n",
      "6 matching events found\n",
      "No baseline correction applied\n",
      "0 projection items activated\n",
      "Using data from preloaded Raw for 6 events and 3073 original time points ...\n",
      "0 bad epochs dropped\n"
     ]
    },
    {
     "name": "stderr",
     "output_type": "stream",
     "text": [
      "[Parallel(n_jobs=-2)]: Using backend ThreadingBackend with 7 concurrent workers.\n",
      "[Parallel(n_jobs=-2)]: Done   4 tasks      | elapsed:    0.0s\n",
      "[Parallel(n_jobs=-2)]: Done  11 tasks      | elapsed:    0.1s\n",
      "[Parallel(n_jobs=-2)]: Done  18 tasks      | elapsed:    0.3s\n",
      "[Parallel(n_jobs=-2)]: Done  27 tasks      | elapsed:    0.4s\n",
      "[Parallel(n_jobs=-2)]: Done  36 tasks      | elapsed:    0.5s\n",
      "[Parallel(n_jobs=-2)]: Done  47 tasks      | elapsed:    0.7s\n",
      "[Parallel(n_jobs=-2)]: Done  58 tasks      | elapsed:    0.9s\n",
      "[Parallel(n_jobs=-2)]: Done  71 tasks      | elapsed:    1.1s\n",
      "[Parallel(n_jobs=-2)]: Done  84 tasks      | elapsed:    1.3s\n",
      "[Parallel(n_jobs=-2)]: Done  99 tasks      | elapsed:    1.6s\n",
      "[Parallel(n_jobs=-2)]: Done 114 tasks      | elapsed:    1.8s\n",
      "[Parallel(n_jobs=-2)]: Done 131 tasks      | elapsed:    2.1s\n",
      "[Parallel(n_jobs=-2)]: Done 148 tasks      | elapsed:    2.4s\n"
     ]
    },
    {
     "name": "stdout",
     "output_type": "stream",
     "text": [
      "Not setting metadata\n",
      "Used Annotations descriptions: ['Responsec25r25', 'Responsec25r75', 'Responsec25s25', 'Responsec25s75', 'Responsec75n25', 'Responsec75r25', 'Responsec75r75', 'Responsec75s25', 'Responsec75s75', 'Responsei25n25', 'Responsei25n75', 'Responsei25r25', 'Responsei25r75', 'Responsei25s25', 'Responsei25s75', 'Responsei75n75', 'Responsei75r25', 'Responsei75r75', 'Responsei75s25', 'Responsei75s75', 'Stimulusc25r25', 'Stimulusc25r75', 'Stimulusc25s25', 'Stimulusc25s75', 'Stimulusc75n25', 'Stimulusc75r25', 'Stimulusc75r75', 'Stimulusc75s25', 'Stimulusc75s75', 'Stimulusi25n25', 'Stimulusi25n75', 'Stimulusi25r25', 'Stimulusi25r75', 'Stimulusi25s25', 'Stimulusi25s75', 'Stimulusi75n75', 'Stimulusi75r25', 'Stimulusi75r75', 'Stimulusi75s25', 'Stimulusi75s75']\n",
      "Not setting metadata\n",
      "6 matching events found\n",
      "No baseline correction applied\n",
      "0 projection items activated\n",
      "Using data from preloaded Raw for 6 events and 6145 original time points ...\n",
      "0 bad epochs dropped\n"
     ]
    },
    {
     "name": "stderr",
     "output_type": "stream",
     "text": [
      "[Parallel(n_jobs=-2)]: Done 174 out of 174 | elapsed:    2.7s finished\n",
      "[Parallel(n_jobs=-2)]: Using backend ThreadingBackend with 7 concurrent workers.\n",
      "[Parallel(n_jobs=-2)]: Done   4 tasks      | elapsed:    0.2s\n",
      "[Parallel(n_jobs=-2)]: Done  11 tasks      | elapsed:    0.5s\n",
      "[Parallel(n_jobs=-2)]: Done  18 tasks      | elapsed:    0.7s\n",
      "[Parallel(n_jobs=-2)]: Done  27 tasks      | elapsed:    1.0s\n",
      "[Parallel(n_jobs=-2)]: Done  36 tasks      | elapsed:    1.4s\n",
      "[Parallel(n_jobs=-2)]: Done  47 tasks      | elapsed:    1.7s\n",
      "[Parallel(n_jobs=-2)]: Done  58 tasks      | elapsed:    2.1s\n",
      "[Parallel(n_jobs=-2)]: Done  71 tasks      | elapsed:    2.6s\n",
      "[Parallel(n_jobs=-2)]: Done  84 tasks      | elapsed:    3.0s\n",
      "[Parallel(n_jobs=-2)]: Done  99 tasks      | elapsed:    3.5s\n",
      "[Parallel(n_jobs=-2)]: Done 114 tasks      | elapsed:    4.0s\n",
      "[Parallel(n_jobs=-2)]: Done 131 tasks      | elapsed:    4.7s\n",
      "[Parallel(n_jobs=-2)]: Done 148 tasks      | elapsed:    5.3s\n"
     ]
    },
    {
     "name": "stdout",
     "output_type": "stream",
     "text": [
      "Not setting metadata\n"
     ]
    },
    {
     "name": "stderr",
     "output_type": "stream",
     "text": [
      "[Parallel(n_jobs=-2)]: Done 174 out of 174 | elapsed:    6.2s finished\n"
     ]
    },
    {
     "name": "stdout",
     "output_type": "stream",
     "text": [
      "Applying baseline correction (mode: ratio)\n",
      "Used Annotations descriptions: ['Responsec25r25', 'Responsec25r75', 'Responsec25s25', 'Responsec25s75', 'Responsec75n25', 'Responsec75r25', 'Responsec75r75', 'Responsec75s25', 'Responsec75s75', 'Responsei25n25', 'Responsei25n75', 'Responsei25r25', 'Responsei25r75', 'Responsei25s25', 'Responsei25s75', 'Responsei75n75', 'Responsei75r25', 'Responsei75r75', 'Responsei75s25', 'Responsei75s75', 'Stimulusc25r25', 'Stimulusc25r75', 'Stimulusc25s25', 'Stimulusc25s75', 'Stimulusc75n25', 'Stimulusc75r25', 'Stimulusc75r75', 'Stimulusc75s25', 'Stimulusc75s75', 'Stimulusi25n25', 'Stimulusi25n75', 'Stimulusi25r25', 'Stimulusi25r75', 'Stimulusi25s25', 'Stimulusi25s75', 'Stimulusi75n75', 'Stimulusi75r25', 'Stimulusi75r75', 'Stimulusi75s25', 'Stimulusi75s75']\n",
      "Not setting metadata\n",
      "6 matching events found\n",
      "No baseline correction applied\n",
      "0 projection items activated\n",
      "Using data from preloaded Raw for 6 events and 6145 original time points ...\n",
      "0 bad epochs dropped\n"
     ]
    },
    {
     "name": "stderr",
     "output_type": "stream",
     "text": [
      "[Parallel(n_jobs=-2)]: Using backend ThreadingBackend with 7 concurrent workers.\n",
      "[Parallel(n_jobs=-2)]: Done   4 tasks      | elapsed:    0.2s\n",
      "[Parallel(n_jobs=-2)]: Done  11 tasks      | elapsed:    0.5s\n",
      "[Parallel(n_jobs=-2)]: Done  18 tasks      | elapsed:    0.7s\n",
      "[Parallel(n_jobs=-2)]: Done  27 tasks      | elapsed:    1.0s\n",
      "[Parallel(n_jobs=-2)]: Done  36 tasks      | elapsed:    1.4s\n",
      "[Parallel(n_jobs=-2)]: Done  47 tasks      | elapsed:    1.7s\n",
      "[Parallel(n_jobs=-2)]: Done  58 tasks      | elapsed:    2.1s\n",
      "[Parallel(n_jobs=-2)]: Done  71 tasks      | elapsed:    2.5s\n",
      "[Parallel(n_jobs=-2)]: Done  84 tasks      | elapsed:    3.0s\n",
      "[Parallel(n_jobs=-2)]: Done  99 tasks      | elapsed:    3.7s\n",
      "[Parallel(n_jobs=-2)]: Done 114 tasks      | elapsed:    4.2s\n",
      "[Parallel(n_jobs=-2)]: Done 131 tasks      | elapsed:    4.7s\n",
      "[Parallel(n_jobs=-2)]: Done 148 tasks      | elapsed:    5.4s\n"
     ]
    },
    {
     "name": "stdout",
     "output_type": "stream",
     "text": [
      "Not setting metadata\n",
      "Applying baseline correction (mode: ratio)\n"
     ]
    },
    {
     "name": "stderr",
     "output_type": "stream",
     "text": [
      "[Parallel(n_jobs=-2)]: Done 174 out of 174 | elapsed:    6.3s finished\n"
     ]
    },
    {
     "name": "stdout",
     "output_type": "stream",
     "text": [
      "Used Annotations descriptions: ['Responsec25r25', 'Responsec25r75', 'Responsec25s25', 'Responsec25s75', 'Responsec75n25', 'Responsec75r25', 'Responsec75r75', 'Responsec75s25', 'Responsec75s75', 'Responsei25n25', 'Responsei25n75', 'Responsei25r25', 'Responsei25r75', 'Responsei25s25', 'Responsei25s75', 'Responsei75n75', 'Responsei75r25', 'Responsei75r75', 'Responsei75s25', 'Responsei75s75', 'Stimulusc25r25', 'Stimulusc25r75', 'Stimulusc25s25', 'Stimulusc25s75', 'Stimulusc75n25', 'Stimulusc75r25', 'Stimulusc75r75', 'Stimulusc75s25', 'Stimulusc75s75', 'Stimulusi25n25', 'Stimulusi25n75', 'Stimulusi25r25', 'Stimulusi25r75', 'Stimulusi25s25', 'Stimulusi25s75', 'Stimulusi75n75', 'Stimulusi75r25', 'Stimulusi75r75', 'Stimulusi75s25', 'Stimulusi75s75']\n",
      "Not setting metadata\n",
      "6 matching events found\n",
      "No baseline correction applied\n",
      "0 projection items activated\n",
      "Using data from preloaded Raw for 6 events and 3073 original time points ...\n",
      "0 bad epochs dropped\n"
     ]
    },
    {
     "name": "stderr",
     "output_type": "stream",
     "text": [
      "[Parallel(n_jobs=-2)]: Using backend ThreadingBackend with 7 concurrent workers.\n",
      "[Parallel(n_jobs=-2)]: Done   4 tasks      | elapsed:    0.0s\n",
      "[Parallel(n_jobs=-2)]: Done  11 tasks      | elapsed:    0.2s\n",
      "[Parallel(n_jobs=-2)]: Done  18 tasks      | elapsed:    0.3s\n",
      "[Parallel(n_jobs=-2)]: Done  27 tasks      | elapsed:    0.4s\n",
      "[Parallel(n_jobs=-2)]: Done  36 tasks      | elapsed:    0.6s\n",
      "[Parallel(n_jobs=-2)]: Done  47 tasks      | elapsed:    0.7s\n",
      "[Parallel(n_jobs=-2)]: Done  58 tasks      | elapsed:    0.9s\n",
      "[Parallel(n_jobs=-2)]: Done  71 tasks      | elapsed:    1.1s\n",
      "[Parallel(n_jobs=-2)]: Done  84 tasks      | elapsed:    1.3s\n",
      "[Parallel(n_jobs=-2)]: Done  99 tasks      | elapsed:    1.6s\n",
      "[Parallel(n_jobs=-2)]: Done 114 tasks      | elapsed:    1.8s\n",
      "[Parallel(n_jobs=-2)]: Done 131 tasks      | elapsed:    2.1s\n",
      "[Parallel(n_jobs=-2)]: Done 148 tasks      | elapsed:    2.4s\n"
     ]
    },
    {
     "name": "stdout",
     "output_type": "stream",
     "text": [
      "Not setting metadata\n",
      "Used Annotations descriptions: ['Responsec25r25', 'Responsec25r75', 'Responsec25s25', 'Responsec25s75', 'Responsec75n25', 'Responsec75r25', 'Responsec75r75', 'Responsec75s25', 'Responsec75s75', 'Responsei25n25', 'Responsei25n75', 'Responsei25r25', 'Responsei25r75', 'Responsei25s25', 'Responsei25s75', 'Responsei75n75', 'Responsei75r25', 'Responsei75r75', 'Responsei75s25', 'Responsei75s75', 'Stimulusc25r25', 'Stimulusc25r75', 'Stimulusc25s25', 'Stimulusc25s75', 'Stimulusc75n25', 'Stimulusc75r25', 'Stimulusc75r75', 'Stimulusc75s25', 'Stimulusc75s75', 'Stimulusi25n25', 'Stimulusi25n75', 'Stimulusi25r25', 'Stimulusi25r75', 'Stimulusi25s25', 'Stimulusi25s75', 'Stimulusi75n75', 'Stimulusi75r25', 'Stimulusi75r75', 'Stimulusi75s25', 'Stimulusi75s75']\n",
      "Not setting metadata\n",
      "6 matching events found\n",
      "No baseline correction applied\n",
      "0 projection items activated\n",
      "Using data from preloaded Raw for 6 events and 6145 original time points ...\n",
      "0 bad epochs dropped\n"
     ]
    },
    {
     "name": "stderr",
     "output_type": "stream",
     "text": [
      "[Parallel(n_jobs=-2)]: Done 174 out of 174 | elapsed:    2.8s finished\n",
      "[Parallel(n_jobs=-2)]: Using backend ThreadingBackend with 7 concurrent workers.\n",
      "[Parallel(n_jobs=-2)]: Done   4 tasks      | elapsed:    0.2s\n",
      "[Parallel(n_jobs=-2)]: Done  11 tasks      | elapsed:    0.4s\n",
      "[Parallel(n_jobs=-2)]: Done  18 tasks      | elapsed:    0.7s\n",
      "[Parallel(n_jobs=-2)]: Done  27 tasks      | elapsed:    0.9s\n",
      "[Parallel(n_jobs=-2)]: Done  36 tasks      | elapsed:    1.3s\n",
      "[Parallel(n_jobs=-2)]: Done  47 tasks      | elapsed:    1.7s\n",
      "[Parallel(n_jobs=-2)]: Done  58 tasks      | elapsed:    2.1s\n",
      "[Parallel(n_jobs=-2)]: Done  71 tasks      | elapsed:    2.6s\n",
      "[Parallel(n_jobs=-2)]: Done  84 tasks      | elapsed:    3.0s\n",
      "[Parallel(n_jobs=-2)]: Done  99 tasks      | elapsed:    3.6s\n",
      "[Parallel(n_jobs=-2)]: Done 114 tasks      | elapsed:    4.1s\n",
      "[Parallel(n_jobs=-2)]: Done 131 tasks      | elapsed:    4.7s\n",
      "[Parallel(n_jobs=-2)]: Done 148 tasks      | elapsed:    5.3s\n"
     ]
    },
    {
     "name": "stdout",
     "output_type": "stream",
     "text": [
      "Not setting metadata\n"
     ]
    },
    {
     "name": "stderr",
     "output_type": "stream",
     "text": [
      "[Parallel(n_jobs=-2)]: Done 174 out of 174 | elapsed:    6.2s finished\n"
     ]
    },
    {
     "name": "stdout",
     "output_type": "stream",
     "text": [
      "Applying baseline correction (mode: ratio)\n",
      "Used Annotations descriptions: ['Responsec25r25', 'Responsec25r75', 'Responsec25s25', 'Responsec25s75', 'Responsec75n25', 'Responsec75r25', 'Responsec75r75', 'Responsec75s25', 'Responsec75s75', 'Responsei25n25', 'Responsei25n75', 'Responsei25r25', 'Responsei25r75', 'Responsei25s25', 'Responsei25s75', 'Responsei75n75', 'Responsei75r25', 'Responsei75r75', 'Responsei75s25', 'Responsei75s75', 'Stimulusc25r25', 'Stimulusc25r75', 'Stimulusc25s25', 'Stimulusc25s75', 'Stimulusc75n25', 'Stimulusc75r25', 'Stimulusc75r75', 'Stimulusc75s25', 'Stimulusc75s75', 'Stimulusi25n25', 'Stimulusi25n75', 'Stimulusi25r25', 'Stimulusi25r75', 'Stimulusi25s25', 'Stimulusi25s75', 'Stimulusi75n75', 'Stimulusi75r25', 'Stimulusi75r75', 'Stimulusi75s25', 'Stimulusi75s75']\n",
      "Not setting metadata\n",
      "6 matching events found\n",
      "No baseline correction applied\n",
      "0 projection items activated\n",
      "Using data from preloaded Raw for 6 events and 6145 original time points ...\n",
      "0 bad epochs dropped\n"
     ]
    },
    {
     "name": "stderr",
     "output_type": "stream",
     "text": [
      "[Parallel(n_jobs=-2)]: Using backend ThreadingBackend with 7 concurrent workers.\n",
      "[Parallel(n_jobs=-2)]: Done   4 tasks      | elapsed:    0.2s\n",
      "[Parallel(n_jobs=-2)]: Done  11 tasks      | elapsed:    0.4s\n",
      "[Parallel(n_jobs=-2)]: Done  18 tasks      | elapsed:    0.7s\n",
      "[Parallel(n_jobs=-2)]: Done  27 tasks      | elapsed:    1.0s\n",
      "[Parallel(n_jobs=-2)]: Done  36 tasks      | elapsed:    1.4s\n",
      "[Parallel(n_jobs=-2)]: Done  47 tasks      | elapsed:    1.7s\n",
      "[Parallel(n_jobs=-2)]: Done  58 tasks      | elapsed:    2.2s\n",
      "[Parallel(n_jobs=-2)]: Done  71 tasks      | elapsed:    2.5s\n",
      "[Parallel(n_jobs=-2)]: Done  84 tasks      | elapsed:    3.0s\n",
      "[Parallel(n_jobs=-2)]: Done  99 tasks      | elapsed:    3.6s\n",
      "[Parallel(n_jobs=-2)]: Done 114 tasks      | elapsed:    4.3s\n",
      "[Parallel(n_jobs=-2)]: Done 131 tasks      | elapsed:    5.1s\n",
      "[Parallel(n_jobs=-2)]: Done 148 tasks      | elapsed:    5.9s\n"
     ]
    },
    {
     "name": "stdout",
     "output_type": "stream",
     "text": [
      "Not setting metadata\n",
      "Applying baseline correction (mode: ratio)\n"
     ]
    },
    {
     "name": "stderr",
     "output_type": "stream",
     "text": [
      "[Parallel(n_jobs=-2)]: Done 174 out of 174 | elapsed:    6.8s finished\n"
     ]
    },
    {
     "name": "stdout",
     "output_type": "stream",
     "text": [
      "Used Annotations descriptions: ['Responsec25r25', 'Responsec25r75', 'Responsec25s25', 'Responsec25s75', 'Responsec75n25', 'Responsec75r25', 'Responsec75r75', 'Responsec75s25', 'Responsec75s75', 'Responsei25n25', 'Responsei25n75', 'Responsei25r25', 'Responsei25r75', 'Responsei25s25', 'Responsei25s75', 'Responsei75n75', 'Responsei75r25', 'Responsei75r75', 'Responsei75s25', 'Responsei75s75', 'Stimulusc25r25', 'Stimulusc25r75', 'Stimulusc25s25', 'Stimulusc25s75', 'Stimulusc75n25', 'Stimulusc75r25', 'Stimulusc75r75', 'Stimulusc75s25', 'Stimulusc75s75', 'Stimulusi25n25', 'Stimulusi25n75', 'Stimulusi25r25', 'Stimulusi25r75', 'Stimulusi25s25', 'Stimulusi25s75', 'Stimulusi75n75', 'Stimulusi75r25', 'Stimulusi75r75', 'Stimulusi75s25', 'Stimulusi75s75']\n",
      "Not setting metadata\n",
      "21 matching events found\n",
      "No baseline correction applied\n",
      "0 projection items activated\n",
      "Using data from preloaded Raw for 21 events and 3073 original time points ...\n",
      "0 bad epochs dropped\n"
     ]
    },
    {
     "name": "stderr",
     "output_type": "stream",
     "text": [
      "[Parallel(n_jobs=-2)]: Using backend ThreadingBackend with 7 concurrent workers.\n",
      "[Parallel(n_jobs=-2)]: Done   4 tasks      | elapsed:    0.4s\n",
      "[Parallel(n_jobs=-2)]: Done  11 tasks      | elapsed:    0.8s\n",
      "[Parallel(n_jobs=-2)]: Done  18 tasks      | elapsed:    1.2s\n",
      "[Parallel(n_jobs=-2)]: Done  27 tasks      | elapsed:    1.7s\n",
      "[Parallel(n_jobs=-2)]: Done  36 tasks      | elapsed:    2.3s\n",
      "[Parallel(n_jobs=-2)]: Done  47 tasks      | elapsed:    3.0s\n",
      "[Parallel(n_jobs=-2)]: Done  58 tasks      | elapsed:    3.8s\n",
      "[Parallel(n_jobs=-2)]: Done  71 tasks      | elapsed:    4.3s\n",
      "[Parallel(n_jobs=-2)]: Done  84 tasks      | elapsed:    5.2s\n",
      "[Parallel(n_jobs=-2)]: Done  99 tasks      | elapsed:    6.0s\n",
      "[Parallel(n_jobs=-2)]: Done 114 tasks      | elapsed:    6.8s\n",
      "[Parallel(n_jobs=-2)]: Done 131 tasks      | elapsed:    7.8s\n",
      "[Parallel(n_jobs=-2)]: Done 148 tasks      | elapsed:    8.8s\n"
     ]
    },
    {
     "name": "stdout",
     "output_type": "stream",
     "text": [
      "Not setting metadata\n"
     ]
    },
    {
     "name": "stderr",
     "output_type": "stream",
     "text": [
      "[Parallel(n_jobs=-2)]: Done 174 out of 174 | elapsed:   10.1s finished\n"
     ]
    },
    {
     "name": "stdout",
     "output_type": "stream",
     "text": [
      "Used Annotations descriptions: ['Responsec25r25', 'Responsec25r75', 'Responsec25s25', 'Responsec25s75', 'Responsec75n25', 'Responsec75r25', 'Responsec75r75', 'Responsec75s25', 'Responsec75s75', 'Responsei25n25', 'Responsei25n75', 'Responsei25r25', 'Responsei25r75', 'Responsei25s25', 'Responsei25s75', 'Responsei75n75', 'Responsei75r25', 'Responsei75r75', 'Responsei75s25', 'Responsei75s75', 'Stimulusc25r25', 'Stimulusc25r75', 'Stimulusc25s25', 'Stimulusc25s75', 'Stimulusc75n25', 'Stimulusc75r25', 'Stimulusc75r75', 'Stimulusc75s25', 'Stimulusc75s75', 'Stimulusi25n25', 'Stimulusi25n75', 'Stimulusi25r25', 'Stimulusi25r75', 'Stimulusi25s25', 'Stimulusi25s75', 'Stimulusi75n75', 'Stimulusi75r25', 'Stimulusi75r75', 'Stimulusi75s25', 'Stimulusi75s75']\n",
      "Not setting metadata\n",
      "21 matching events found\n",
      "No baseline correction applied\n",
      "0 projection items activated\n",
      "Using data from preloaded Raw for 21 events and 6145 original time points ...\n",
      "0 bad epochs dropped\n"
     ]
    },
    {
     "name": "stderr",
     "output_type": "stream",
     "text": [
      "[Parallel(n_jobs=-2)]: Using backend ThreadingBackend with 7 concurrent workers.\n",
      "[Parallel(n_jobs=-2)]: Done   4 tasks      | elapsed:    0.8s\n",
      "[Parallel(n_jobs=-2)]: Done  11 tasks      | elapsed:    1.6s\n",
      "[Parallel(n_jobs=-2)]: Done  18 tasks      | elapsed:    2.5s\n",
      "[Parallel(n_jobs=-2)]: Done  27 tasks      | elapsed:    3.3s\n",
      "[Parallel(n_jobs=-2)]: Done  36 tasks      | elapsed:    4.4s\n",
      "[Parallel(n_jobs=-2)]: Done  47 tasks      | elapsed:    5.9s\n",
      "[Parallel(n_jobs=-2)]: Done  58 tasks      | elapsed:    7.2s\n",
      "[Parallel(n_jobs=-2)]: Done  71 tasks      | elapsed:    8.5s\n",
      "[Parallel(n_jobs=-2)]: Done  84 tasks      | elapsed:   10.0s\n",
      "[Parallel(n_jobs=-2)]: Done  99 tasks      | elapsed:   11.6s\n",
      "[Parallel(n_jobs=-2)]: Done 114 tasks      | elapsed:   13.4s\n",
      "[Parallel(n_jobs=-2)]: Done 131 tasks      | elapsed:   15.5s\n",
      "[Parallel(n_jobs=-2)]: Done 148 tasks      | elapsed:   17.2s\n"
     ]
    },
    {
     "name": "stdout",
     "output_type": "stream",
     "text": [
      "Not setting metadata\n"
     ]
    },
    {
     "name": "stderr",
     "output_type": "stream",
     "text": [
      "[Parallel(n_jobs=-2)]: Done 174 out of 174 | elapsed:   20.0s finished\n"
     ]
    },
    {
     "name": "stdout",
     "output_type": "stream",
     "text": [
      "Applying baseline correction (mode: ratio)\n",
      "Used Annotations descriptions: ['Responsec25r25', 'Responsec25r75', 'Responsec25s25', 'Responsec25s75', 'Responsec75n25', 'Responsec75r25', 'Responsec75r75', 'Responsec75s25', 'Responsec75s75', 'Responsei25n25', 'Responsei25n75', 'Responsei25r25', 'Responsei25r75', 'Responsei25s25', 'Responsei25s75', 'Responsei75n75', 'Responsei75r25', 'Responsei75r75', 'Responsei75s25', 'Responsei75s75', 'Stimulusc25r25', 'Stimulusc25r75', 'Stimulusc25s25', 'Stimulusc25s75', 'Stimulusc75n25', 'Stimulusc75r25', 'Stimulusc75r75', 'Stimulusc75s25', 'Stimulusc75s75', 'Stimulusi25n25', 'Stimulusi25n75', 'Stimulusi25r25', 'Stimulusi25r75', 'Stimulusi25s25', 'Stimulusi25s75', 'Stimulusi75n75', 'Stimulusi75r25', 'Stimulusi75r75', 'Stimulusi75s25', 'Stimulusi75s75']\n",
      "Not setting metadata\n",
      "21 matching events found\n",
      "No baseline correction applied\n",
      "0 projection items activated\n",
      "Using data from preloaded Raw for 21 events and 6145 original time points ...\n",
      "0 bad epochs dropped\n"
     ]
    },
    {
     "name": "stderr",
     "output_type": "stream",
     "text": [
      "[Parallel(n_jobs=-2)]: Using backend ThreadingBackend with 7 concurrent workers.\n",
      "[Parallel(n_jobs=-2)]: Done   4 tasks      | elapsed:    0.8s\n",
      "[Parallel(n_jobs=-2)]: Done  11 tasks      | elapsed:    1.6s\n",
      "[Parallel(n_jobs=-2)]: Done  18 tasks      | elapsed:    2.5s\n",
      "[Parallel(n_jobs=-2)]: Done  27 tasks      | elapsed:    3.4s\n",
      "[Parallel(n_jobs=-2)]: Done  36 tasks      | elapsed:    4.7s\n",
      "[Parallel(n_jobs=-2)]: Done  47 tasks      | elapsed:    5.9s\n",
      "[Parallel(n_jobs=-2)]: Done  58 tasks      | elapsed:    7.2s\n",
      "[Parallel(n_jobs=-2)]: Done  71 tasks      | elapsed:    8.5s\n",
      "[Parallel(n_jobs=-2)]: Done  84 tasks      | elapsed:   10.3s\n",
      "[Parallel(n_jobs=-2)]: Done  99 tasks      | elapsed:   12.0s\n",
      "[Parallel(n_jobs=-2)]: Done 114 tasks      | elapsed:   13.6s\n",
      "[Parallel(n_jobs=-2)]: Done 131 tasks      | elapsed:   15.5s\n",
      "[Parallel(n_jobs=-2)]: Done 148 tasks      | elapsed:   17.5s\n"
     ]
    },
    {
     "name": "stdout",
     "output_type": "stream",
     "text": [
      "Not setting metadata\n"
     ]
    },
    {
     "name": "stderr",
     "output_type": "stream",
     "text": [
      "[Parallel(n_jobs=-2)]: Done 174 out of 174 | elapsed:   20.1s finished\n"
     ]
    },
    {
     "name": "stdout",
     "output_type": "stream",
     "text": [
      "Applying baseline correction (mode: ratio)\n",
      "Used Annotations descriptions: ['Responsec25r25', 'Responsec25r75', 'Responsec25s25', 'Responsec25s75', 'Responsec75n25', 'Responsec75r25', 'Responsec75r75', 'Responsec75s25', 'Responsec75s75', 'Responsei25n25', 'Responsei25n75', 'Responsei25r25', 'Responsei25r75', 'Responsei25s25', 'Responsei25s75', 'Responsei75n75', 'Responsei75r25', 'Responsei75r75', 'Responsei75s25', 'Responsei75s75', 'Stimulusc25r25', 'Stimulusc25r75', 'Stimulusc25s25', 'Stimulusc25s75', 'Stimulusc75n25', 'Stimulusc75r25', 'Stimulusc75r75', 'Stimulusc75s25', 'Stimulusc75s75', 'Stimulusi25n25', 'Stimulusi25n75', 'Stimulusi25r25', 'Stimulusi25r75', 'Stimulusi25s25', 'Stimulusi25s75', 'Stimulusi75n75', 'Stimulusi75r25', 'Stimulusi75r75', 'Stimulusi75s25', 'Stimulusi75s75']\n",
      "Not setting metadata\n",
      "21 matching events found\n",
      "No baseline correction applied\n",
      "0 projection items activated\n",
      "Using data from preloaded Raw for 21 events and 3073 original time points ...\n",
      "0 bad epochs dropped\n"
     ]
    },
    {
     "name": "stderr",
     "output_type": "stream",
     "text": [
      "[Parallel(n_jobs=-2)]: Using backend ThreadingBackend with 7 concurrent workers.\n",
      "[Parallel(n_jobs=-2)]: Done   4 tasks      | elapsed:    0.3s\n",
      "[Parallel(n_jobs=-2)]: Done  11 tasks      | elapsed:    0.8s\n",
      "[Parallel(n_jobs=-2)]: Done  18 tasks      | elapsed:    1.1s\n",
      "[Parallel(n_jobs=-2)]: Done  27 tasks      | elapsed:    1.6s\n",
      "[Parallel(n_jobs=-2)]: Done  36 tasks      | elapsed:    2.3s\n",
      "[Parallel(n_jobs=-2)]: Done  47 tasks      | elapsed:    2.9s\n",
      "[Parallel(n_jobs=-2)]: Done  58 tasks      | elapsed:    3.5s\n",
      "[Parallel(n_jobs=-2)]: Done  71 tasks      | elapsed:    4.1s\n",
      "[Parallel(n_jobs=-2)]: Done  84 tasks      | elapsed:    4.8s\n",
      "[Parallel(n_jobs=-2)]: Done  99 tasks      | elapsed:    5.7s\n",
      "[Parallel(n_jobs=-2)]: Done 114 tasks      | elapsed:    6.6s\n",
      "[Parallel(n_jobs=-2)]: Done 131 tasks      | elapsed:    7.4s\n",
      "[Parallel(n_jobs=-2)]: Done 148 tasks      | elapsed:    8.3s\n"
     ]
    },
    {
     "name": "stdout",
     "output_type": "stream",
     "text": [
      "Not setting metadata\n"
     ]
    },
    {
     "name": "stderr",
     "output_type": "stream",
     "text": [
      "[Parallel(n_jobs=-2)]: Done 174 out of 174 | elapsed:    9.7s finished\n"
     ]
    },
    {
     "name": "stdout",
     "output_type": "stream",
     "text": [
      "Used Annotations descriptions: ['Responsec25r25', 'Responsec25r75', 'Responsec25s25', 'Responsec25s75', 'Responsec75n25', 'Responsec75r25', 'Responsec75r75', 'Responsec75s25', 'Responsec75s75', 'Responsei25n25', 'Responsei25n75', 'Responsei25r25', 'Responsei25r75', 'Responsei25s25', 'Responsei25s75', 'Responsei75n75', 'Responsei75r25', 'Responsei75r75', 'Responsei75s25', 'Responsei75s75', 'Stimulusc25r25', 'Stimulusc25r75', 'Stimulusc25s25', 'Stimulusc25s75', 'Stimulusc75n25', 'Stimulusc75r25', 'Stimulusc75r75', 'Stimulusc75s25', 'Stimulusc75s75', 'Stimulusi25n25', 'Stimulusi25n75', 'Stimulusi25r25', 'Stimulusi25r75', 'Stimulusi25s25', 'Stimulusi25s75', 'Stimulusi75n75', 'Stimulusi75r25', 'Stimulusi75r75', 'Stimulusi75s25', 'Stimulusi75s75']\n",
      "Not setting metadata\n",
      "21 matching events found\n",
      "No baseline correction applied\n",
      "0 projection items activated\n",
      "Using data from preloaded Raw for 21 events and 6145 original time points ...\n",
      "0 bad epochs dropped\n"
     ]
    },
    {
     "name": "stderr",
     "output_type": "stream",
     "text": [
      "[Parallel(n_jobs=-2)]: Using backend ThreadingBackend with 7 concurrent workers.\n",
      "[Parallel(n_jobs=-2)]: Done   4 tasks      | elapsed:    0.8s\n",
      "[Parallel(n_jobs=-2)]: Done  11 tasks      | elapsed:    1.7s\n",
      "[Parallel(n_jobs=-2)]: Done  18 tasks      | elapsed:    2.5s\n",
      "[Parallel(n_jobs=-2)]: Done  27 tasks      | elapsed:    3.4s\n",
      "[Parallel(n_jobs=-2)]: Done  36 tasks      | elapsed:    4.8s\n",
      "[Parallel(n_jobs=-2)]: Done  47 tasks      | elapsed:    6.0s\n",
      "[Parallel(n_jobs=-2)]: Done  58 tasks      | elapsed:    7.5s\n",
      "[Parallel(n_jobs=-2)]: Done  71 tasks      | elapsed:    8.5s\n",
      "[Parallel(n_jobs=-2)]: Done  84 tasks      | elapsed:   10.2s\n",
      "[Parallel(n_jobs=-2)]: Done  99 tasks      | elapsed:   11.9s\n",
      "[Parallel(n_jobs=-2)]: Done 114 tasks      | elapsed:   13.6s\n",
      "[Parallel(n_jobs=-2)]: Done 131 tasks      | elapsed:   15.7s\n",
      "[Parallel(n_jobs=-2)]: Done 148 tasks      | elapsed:   17.4s\n"
     ]
    },
    {
     "name": "stdout",
     "output_type": "stream",
     "text": [
      "Not setting metadata\n"
     ]
    },
    {
     "name": "stderr",
     "output_type": "stream",
     "text": [
      "[Parallel(n_jobs=-2)]: Done 174 out of 174 | elapsed:   20.1s finished\n"
     ]
    },
    {
     "name": "stdout",
     "output_type": "stream",
     "text": [
      "Applying baseline correction (mode: ratio)\n",
      "Used Annotations descriptions: ['Responsec25r25', 'Responsec25r75', 'Responsec25s25', 'Responsec25s75', 'Responsec75n25', 'Responsec75r25', 'Responsec75r75', 'Responsec75s25', 'Responsec75s75', 'Responsei25n25', 'Responsei25n75', 'Responsei25r25', 'Responsei25r75', 'Responsei25s25', 'Responsei25s75', 'Responsei75n75', 'Responsei75r25', 'Responsei75r75', 'Responsei75s25', 'Responsei75s75', 'Stimulusc25r25', 'Stimulusc25r75', 'Stimulusc25s25', 'Stimulusc25s75', 'Stimulusc75n25', 'Stimulusc75r25', 'Stimulusc75r75', 'Stimulusc75s25', 'Stimulusc75s75', 'Stimulusi25n25', 'Stimulusi25n75', 'Stimulusi25r25', 'Stimulusi25r75', 'Stimulusi25s25', 'Stimulusi25s75', 'Stimulusi75n75', 'Stimulusi75r25', 'Stimulusi75r75', 'Stimulusi75s25', 'Stimulusi75s75']\n",
      "Not setting metadata\n",
      "21 matching events found\n",
      "No baseline correction applied\n",
      "0 projection items activated\n",
      "Using data from preloaded Raw for 21 events and 6145 original time points ...\n",
      "0 bad epochs dropped\n"
     ]
    },
    {
     "name": "stderr",
     "output_type": "stream",
     "text": [
      "[Parallel(n_jobs=-2)]: Using backend ThreadingBackend with 7 concurrent workers.\n",
      "[Parallel(n_jobs=-2)]: Done   4 tasks      | elapsed:    0.8s\n",
      "[Parallel(n_jobs=-2)]: Done  11 tasks      | elapsed:    1.7s\n",
      "[Parallel(n_jobs=-2)]: Done  18 tasks      | elapsed:    2.6s\n",
      "[Parallel(n_jobs=-2)]: Done  27 tasks      | elapsed:    3.5s\n",
      "[Parallel(n_jobs=-2)]: Done  36 tasks      | elapsed:    4.9s\n",
      "[Parallel(n_jobs=-2)]: Done  47 tasks      | elapsed:    6.0s\n",
      "[Parallel(n_jobs=-2)]: Done  58 tasks      | elapsed:    7.2s\n",
      "[Parallel(n_jobs=-2)]: Done  71 tasks      | elapsed:    8.7s\n",
      "[Parallel(n_jobs=-2)]: Done  84 tasks      | elapsed:   10.3s\n",
      "[Parallel(n_jobs=-2)]: Done  99 tasks      | elapsed:   12.0s\n",
      "[Parallel(n_jobs=-2)]: Done 114 tasks      | elapsed:   13.7s\n",
      "[Parallel(n_jobs=-2)]: Done 131 tasks      | elapsed:   15.8s\n",
      "[Parallel(n_jobs=-2)]: Done 148 tasks      | elapsed:   17.6s\n"
     ]
    },
    {
     "name": "stdout",
     "output_type": "stream",
     "text": [
      "Not setting metadata\n"
     ]
    },
    {
     "name": "stderr",
     "output_type": "stream",
     "text": [
      "[Parallel(n_jobs=-2)]: Done 174 out of 174 | elapsed:   20.4s finished\n"
     ]
    },
    {
     "name": "stdout",
     "output_type": "stream",
     "text": [
      "Applying baseline correction (mode: ratio)\n",
      "Used Annotations descriptions: ['Responsec25r25', 'Responsec25r75', 'Responsec25s25', 'Responsec25s75', 'Responsec75n25', 'Responsec75r25', 'Responsec75r75', 'Responsec75s25', 'Responsec75s75', 'Responsei25n25', 'Responsei25n75', 'Responsei25r25', 'Responsei25r75', 'Responsei25s25', 'Responsei25s75', 'Responsei75n75', 'Responsei75r25', 'Responsei75r75', 'Responsei75s25', 'Responsei75s75', 'Stimulusc25r25', 'Stimulusc25r75', 'Stimulusc25s25', 'Stimulusc25s75', 'Stimulusc75n25', 'Stimulusc75r25', 'Stimulusc75r75', 'Stimulusc75s25', 'Stimulusc75s75', 'Stimulusi25n25', 'Stimulusi25n75', 'Stimulusi25r25', 'Stimulusi25r75', 'Stimulusi25s25', 'Stimulusi25s75', 'Stimulusi75n75', 'Stimulusi75r25', 'Stimulusi75r75', 'Stimulusi75s25', 'Stimulusi75s75']\n",
      "Not setting metadata\n",
      "63 matching events found\n",
      "No baseline correction applied\n",
      "0 projection items activated\n",
      "Using data from preloaded Raw for 63 events and 3073 original time points ...\n",
      "0 bad epochs dropped\n"
     ]
    },
    {
     "name": "stderr",
     "output_type": "stream",
     "text": [
      "[Parallel(n_jobs=-2)]: Using backend ThreadingBackend with 7 concurrent workers.\n",
      "[Parallel(n_jobs=-2)]: Done   4 tasks      | elapsed:    1.3s\n",
      "[Parallel(n_jobs=-2)]: Done  11 tasks      | elapsed:    2.5s\n",
      "[Parallel(n_jobs=-2)]: Done  18 tasks      | elapsed:    3.8s\n",
      "[Parallel(n_jobs=-2)]: Done  27 tasks      | elapsed:    5.0s\n",
      "[Parallel(n_jobs=-2)]: Done  36 tasks      | elapsed:    7.0s\n",
      "[Parallel(n_jobs=-2)]: Done  47 tasks      | elapsed:    8.7s\n",
      "[Parallel(n_jobs=-2)]: Done  58 tasks      | elapsed:   10.4s\n",
      "[Parallel(n_jobs=-2)]: Done  71 tasks      | elapsed:   12.4s\n",
      "[Parallel(n_jobs=-2)]: Done  84 tasks      | elapsed:   14.5s\n",
      "[Parallel(n_jobs=-2)]: Done  99 tasks      | elapsed:   16.9s\n",
      "[Parallel(n_jobs=-2)]: Done 114 tasks      | elapsed:   19.2s\n",
      "[Parallel(n_jobs=-2)]: Done 131 tasks      | elapsed:   22.2s\n",
      "[Parallel(n_jobs=-2)]: Done 148 tasks      | elapsed:   25.0s\n"
     ]
    },
    {
     "name": "stdout",
     "output_type": "stream",
     "text": [
      "Not setting metadata\n"
     ]
    },
    {
     "name": "stderr",
     "output_type": "stream",
     "text": [
      "[Parallel(n_jobs=-2)]: Done 174 out of 174 | elapsed:   29.2s finished\n"
     ]
    },
    {
     "name": "stdout",
     "output_type": "stream",
     "text": [
      "Used Annotations descriptions: ['Responsec25r25', 'Responsec25r75', 'Responsec25s25', 'Responsec25s75', 'Responsec75n25', 'Responsec75r25', 'Responsec75r75', 'Responsec75s25', 'Responsec75s75', 'Responsei25n25', 'Responsei25n75', 'Responsei25r25', 'Responsei25r75', 'Responsei25s25', 'Responsei25s75', 'Responsei75n75', 'Responsei75r25', 'Responsei75r75', 'Responsei75s25', 'Responsei75s75', 'Stimulusc25r25', 'Stimulusc25r75', 'Stimulusc25s25', 'Stimulusc25s75', 'Stimulusc75n25', 'Stimulusc75r25', 'Stimulusc75r75', 'Stimulusc75s25', 'Stimulusc75s75', 'Stimulusi25n25', 'Stimulusi25n75', 'Stimulusi25r25', 'Stimulusi25r75', 'Stimulusi25s25', 'Stimulusi25s75', 'Stimulusi75n75', 'Stimulusi75r25', 'Stimulusi75r75', 'Stimulusi75s25', 'Stimulusi75s75']\n",
      "Not setting metadata\n",
      "63 matching events found\n",
      "No baseline correction applied\n",
      "0 projection items activated\n",
      "Using data from preloaded Raw for 63 events and 6145 original time points ...\n",
      "0 bad epochs dropped\n"
     ]
    },
    {
     "name": "stderr",
     "output_type": "stream",
     "text": [
      "[Parallel(n_jobs=-2)]: Using backend ThreadingBackend with 7 concurrent workers.\n",
      "[Parallel(n_jobs=-2)]: Done   4 tasks      | elapsed:    2.5s\n",
      "[Parallel(n_jobs=-2)]: Done  11 tasks      | elapsed:    5.0s\n",
      "[Parallel(n_jobs=-2)]: Done  18 tasks      | elapsed:    7.5s\n",
      "[Parallel(n_jobs=-2)]: Done  27 tasks      | elapsed:   10.1s\n",
      "[Parallel(n_jobs=-2)]: Done  36 tasks      | elapsed:   13.3s\n",
      "[Parallel(n_jobs=-2)]: Done  47 tasks      | elapsed:   17.3s\n",
      "[Parallel(n_jobs=-2)]: Done  58 tasks      | elapsed:   21.9s\n",
      "[Parallel(n_jobs=-2)]: Done  71 tasks      | elapsed:   25.0s\n",
      "[Parallel(n_jobs=-2)]: Done  84 tasks      | elapsed:   29.8s\n",
      "[Parallel(n_jobs=-2)]: Done  99 tasks      | elapsed:   34.5s\n",
      "[Parallel(n_jobs=-2)]: Done 114 tasks      | elapsed:   39.9s\n",
      "[Parallel(n_jobs=-2)]: Done 131 tasks      | elapsed:   46.2s\n",
      "[Parallel(n_jobs=-2)]: Done 148 tasks      | elapsed:   51.7s\n"
     ]
    },
    {
     "name": "stdout",
     "output_type": "stream",
     "text": [
      "Not setting metadata\n"
     ]
    },
    {
     "name": "stderr",
     "output_type": "stream",
     "text": [
      "[Parallel(n_jobs=-2)]: Done 174 out of 174 | elapsed:  1.0min finished\n"
     ]
    },
    {
     "name": "stdout",
     "output_type": "stream",
     "text": [
      "Applying baseline correction (mode: ratio)\n",
      "Used Annotations descriptions: ['Responsec25r25', 'Responsec25r75', 'Responsec25s25', 'Responsec25s75', 'Responsec75n25', 'Responsec75r25', 'Responsec75r75', 'Responsec75s25', 'Responsec75s75', 'Responsei25n25', 'Responsei25n75', 'Responsei25r25', 'Responsei25r75', 'Responsei25s25', 'Responsei25s75', 'Responsei75n75', 'Responsei75r25', 'Responsei75r75', 'Responsei75s25', 'Responsei75s75', 'Stimulusc25r25', 'Stimulusc25r75', 'Stimulusc25s25', 'Stimulusc25s75', 'Stimulusc75n25', 'Stimulusc75r25', 'Stimulusc75r75', 'Stimulusc75s25', 'Stimulusc75s75', 'Stimulusi25n25', 'Stimulusi25n75', 'Stimulusi25r25', 'Stimulusi25r75', 'Stimulusi25s25', 'Stimulusi25s75', 'Stimulusi75n75', 'Stimulusi75r25', 'Stimulusi75r75', 'Stimulusi75s25', 'Stimulusi75s75']\n",
      "Not setting metadata\n",
      "63 matching events found\n",
      "No baseline correction applied\n",
      "0 projection items activated\n",
      "Using data from preloaded Raw for 63 events and 6145 original time points ...\n",
      "0 bad epochs dropped\n"
     ]
    },
    {
     "name": "stderr",
     "output_type": "stream",
     "text": [
      "[Parallel(n_jobs=-2)]: Using backend ThreadingBackend with 7 concurrent workers.\n",
      "[Parallel(n_jobs=-2)]: Done   4 tasks      | elapsed:    2.6s\n",
      "[Parallel(n_jobs=-2)]: Done  11 tasks      | elapsed:    5.4s\n",
      "[Parallel(n_jobs=-2)]: Done  18 tasks      | elapsed:    8.0s\n",
      "[Parallel(n_jobs=-2)]: Done  27 tasks      | elapsed:   10.6s\n",
      "[Parallel(n_jobs=-2)]: Done  36 tasks      | elapsed:   14.4s\n",
      "[Parallel(n_jobs=-2)]: Done  47 tasks      | elapsed:   17.8s\n",
      "[Parallel(n_jobs=-2)]: Done  58 tasks      | elapsed:   21.4s\n",
      "[Parallel(n_jobs=-2)]: Done  71 tasks      | elapsed:   25.9s\n",
      "[Parallel(n_jobs=-2)]: Done  84 tasks      | elapsed:   30.1s\n",
      "[Parallel(n_jobs=-2)]: Done  99 tasks      | elapsed:   35.4s\n",
      "[Parallel(n_jobs=-2)]: Done 114 tasks      | elapsed:   40.3s\n",
      "[Parallel(n_jobs=-2)]: Done 131 tasks      | elapsed:   46.3s\n",
      "[Parallel(n_jobs=-2)]: Done 148 tasks      | elapsed:   51.8s\n"
     ]
    },
    {
     "name": "stdout",
     "output_type": "stream",
     "text": [
      "Not setting metadata\n"
     ]
    },
    {
     "name": "stderr",
     "output_type": "stream",
     "text": [
      "[Parallel(n_jobs=-2)]: Done 174 out of 174 | elapsed:   59.8s finished\n"
     ]
    },
    {
     "name": "stdout",
     "output_type": "stream",
     "text": [
      "Applying baseline correction (mode: ratio)\n",
      "Used Annotations descriptions: ['Responsec25r25', 'Responsec25r75', 'Responsec25s25', 'Responsec25s75', 'Responsec75n25', 'Responsec75r25', 'Responsec75r75', 'Responsec75s25', 'Responsec75s75', 'Responsei25n25', 'Responsei25n75', 'Responsei25r25', 'Responsei25r75', 'Responsei25s25', 'Responsei25s75', 'Responsei75n75', 'Responsei75r25', 'Responsei75r75', 'Responsei75s25', 'Responsei75s75', 'Stimulusc25r25', 'Stimulusc25r75', 'Stimulusc25s25', 'Stimulusc25s75', 'Stimulusc75n25', 'Stimulusc75r25', 'Stimulusc75r75', 'Stimulusc75s25', 'Stimulusc75s75', 'Stimulusi25n25', 'Stimulusi25n75', 'Stimulusi25r25', 'Stimulusi25r75', 'Stimulusi25s25', 'Stimulusi25s75', 'Stimulusi75n75', 'Stimulusi75r25', 'Stimulusi75r75', 'Stimulusi75s25', 'Stimulusi75s75']\n",
      "Not setting metadata\n",
      "18 matching events found\n",
      "No baseline correction applied\n",
      "0 projection items activated\n",
      "Using data from preloaded Raw for 18 events and 3073 original time points ...\n",
      "0 bad epochs dropped\n"
     ]
    },
    {
     "name": "stderr",
     "output_type": "stream",
     "text": [
      "[Parallel(n_jobs=-2)]: Using backend ThreadingBackend with 7 concurrent workers.\n",
      "[Parallel(n_jobs=-2)]: Done   4 tasks      | elapsed:    0.3s\n",
      "[Parallel(n_jobs=-2)]: Done  11 tasks      | elapsed:    0.6s\n",
      "[Parallel(n_jobs=-2)]: Done  18 tasks      | elapsed:    1.0s\n",
      "[Parallel(n_jobs=-2)]: Done  27 tasks      | elapsed:    1.3s\n",
      "[Parallel(n_jobs=-2)]: Done  36 tasks      | elapsed:    1.8s\n",
      "[Parallel(n_jobs=-2)]: Done  47 tasks      | elapsed:    2.3s\n",
      "[Parallel(n_jobs=-2)]: Done  58 tasks      | elapsed:    2.9s\n",
      "[Parallel(n_jobs=-2)]: Done  71 tasks      | elapsed:    3.5s\n",
      "[Parallel(n_jobs=-2)]: Done  84 tasks      | elapsed:    4.1s\n",
      "[Parallel(n_jobs=-2)]: Done  99 tasks      | elapsed:    4.8s\n",
      "[Parallel(n_jobs=-2)]: Done 114 tasks      | elapsed:    5.5s\n",
      "[Parallel(n_jobs=-2)]: Done 131 tasks      | elapsed:    6.4s\n",
      "[Parallel(n_jobs=-2)]: Done 148 tasks      | elapsed:    7.1s\n"
     ]
    },
    {
     "name": "stdout",
     "output_type": "stream",
     "text": [
      "Not setting metadata\n",
      "Used Annotations descriptions: ['Responsec25r25', 'Responsec25r75', 'Responsec25s25', 'Responsec25s75', 'Responsec75n25', 'Responsec75r25', 'Responsec75r75', 'Responsec75s25', 'Responsec75s75', 'Responsei25n25', 'Responsei25n75', 'Responsei25r25', 'Responsei25r75', 'Responsei25s25', 'Responsei25s75', 'Responsei75n75', 'Responsei75r25', 'Responsei75r75', 'Responsei75s25', 'Responsei75s75', 'Stimulusc25r25', 'Stimulusc25r75', 'Stimulusc25s25', 'Stimulusc25s75', 'Stimulusc75n25', 'Stimulusc75r25', 'Stimulusc75r75', 'Stimulusc75s25', 'Stimulusc75s75', 'Stimulusi25n25', 'Stimulusi25n75', 'Stimulusi25r25', 'Stimulusi25r75', 'Stimulusi25s25', 'Stimulusi25s75', 'Stimulusi75n75', 'Stimulusi75r25', 'Stimulusi75r75', 'Stimulusi75s25', 'Stimulusi75s75']\n",
      "Not setting metadata\n",
      "18 matching events found\n",
      "No baseline correction applied\n",
      "0 projection items activated\n",
      "Using data from preloaded Raw for 18 events and 6145 original time points ...\n"
     ]
    },
    {
     "name": "stderr",
     "output_type": "stream",
     "text": [
      "[Parallel(n_jobs=-2)]: Done 174 out of 174 | elapsed:    8.3s finished\n"
     ]
    },
    {
     "name": "stdout",
     "output_type": "stream",
     "text": [
      "0 bad epochs dropped\n"
     ]
    },
    {
     "name": "stderr",
     "output_type": "stream",
     "text": [
      "[Parallel(n_jobs=-2)]: Using backend ThreadingBackend with 7 concurrent workers.\n",
      "[Parallel(n_jobs=-2)]: Done   4 tasks      | elapsed:    0.7s\n",
      "[Parallel(n_jobs=-2)]: Done  11 tasks      | elapsed:    1.4s\n",
      "[Parallel(n_jobs=-2)]: Done  18 tasks      | elapsed:    2.1s\n",
      "[Parallel(n_jobs=-2)]: Done  27 tasks      | elapsed:    2.9s\n",
      "[Parallel(n_jobs=-2)]: Done  36 tasks      | elapsed:    4.2s\n",
      "[Parallel(n_jobs=-2)]: Done  47 tasks      | elapsed:    5.1s\n",
      "[Parallel(n_jobs=-2)]: Done  58 tasks      | elapsed:    6.3s\n",
      "[Parallel(n_jobs=-2)]: Done  71 tasks      | elapsed:    7.4s\n",
      "[Parallel(n_jobs=-2)]: Done  84 tasks      | elapsed:    8.6s\n",
      "[Parallel(n_jobs=-2)]: Done  99 tasks      | elapsed:   10.1s\n",
      "[Parallel(n_jobs=-2)]: Done 114 tasks      | elapsed:   11.6s\n",
      "[Parallel(n_jobs=-2)]: Done 131 tasks      | elapsed:   13.4s\n",
      "[Parallel(n_jobs=-2)]: Done 148 tasks      | elapsed:   14.8s\n"
     ]
    },
    {
     "name": "stdout",
     "output_type": "stream",
     "text": [
      "Not setting metadata\n"
     ]
    },
    {
     "name": "stderr",
     "output_type": "stream",
     "text": [
      "[Parallel(n_jobs=-2)]: Done 174 out of 174 | elapsed:   17.3s finished\n"
     ]
    },
    {
     "name": "stdout",
     "output_type": "stream",
     "text": [
      "Applying baseline correction (mode: ratio)\n",
      "Used Annotations descriptions: ['Responsec25r25', 'Responsec25r75', 'Responsec25s25', 'Responsec25s75', 'Responsec75n25', 'Responsec75r25', 'Responsec75r75', 'Responsec75s25', 'Responsec75s75', 'Responsei25n25', 'Responsei25n75', 'Responsei25r25', 'Responsei25r75', 'Responsei25s25', 'Responsei25s75', 'Responsei75n75', 'Responsei75r25', 'Responsei75r75', 'Responsei75s25', 'Responsei75s75', 'Stimulusc25r25', 'Stimulusc25r75', 'Stimulusc25s25', 'Stimulusc25s75', 'Stimulusc75n25', 'Stimulusc75r25', 'Stimulusc75r75', 'Stimulusc75s25', 'Stimulusc75s75', 'Stimulusi25n25', 'Stimulusi25n75', 'Stimulusi25r25', 'Stimulusi25r75', 'Stimulusi25s25', 'Stimulusi25s75', 'Stimulusi75n75', 'Stimulusi75r25', 'Stimulusi75r75', 'Stimulusi75s25', 'Stimulusi75s75']\n",
      "Not setting metadata\n",
      "18 matching events found\n",
      "No baseline correction applied\n",
      "0 projection items activated\n",
      "Using data from preloaded Raw for 18 events and 6145 original time points ...\n",
      "0 bad epochs dropped\n"
     ]
    },
    {
     "name": "stderr",
     "output_type": "stream",
     "text": [
      "[Parallel(n_jobs=-2)]: Using backend ThreadingBackend with 7 concurrent workers.\n",
      "[Parallel(n_jobs=-2)]: Done   4 tasks      | elapsed:    0.8s\n",
      "[Parallel(n_jobs=-2)]: Done  11 tasks      | elapsed:    1.5s\n",
      "[Parallel(n_jobs=-2)]: Done  18 tasks      | elapsed:    2.3s\n",
      "[Parallel(n_jobs=-2)]: Done  27 tasks      | elapsed:    3.1s\n",
      "[Parallel(n_jobs=-2)]: Done  36 tasks      | elapsed:    4.2s\n",
      "[Parallel(n_jobs=-2)]: Done  47 tasks      | elapsed:    5.5s\n",
      "[Parallel(n_jobs=-2)]: Done  58 tasks      | elapsed:    6.5s\n",
      "[Parallel(n_jobs=-2)]: Done  71 tasks      | elapsed:    7.8s\n",
      "[Parallel(n_jobs=-2)]: Done  84 tasks      | elapsed:    9.2s\n",
      "[Parallel(n_jobs=-2)]: Done  99 tasks      | elapsed:   10.6s\n",
      "[Parallel(n_jobs=-2)]: Done 114 tasks      | elapsed:   12.0s\n",
      "[Parallel(n_jobs=-2)]: Done 131 tasks      | elapsed:   14.0s\n",
      "[Parallel(n_jobs=-2)]: Done 148 tasks      | elapsed:   15.4s\n"
     ]
    },
    {
     "name": "stdout",
     "output_type": "stream",
     "text": [
      "Not setting metadata\n"
     ]
    },
    {
     "name": "stderr",
     "output_type": "stream",
     "text": [
      "[Parallel(n_jobs=-2)]: Done 174 out of 174 | elapsed:   17.8s finished\n"
     ]
    },
    {
     "name": "stdout",
     "output_type": "stream",
     "text": [
      "Applying baseline correction (mode: ratio)\n",
      "Used Annotations descriptions: ['Responsec25r25', 'Responsec25r75', 'Responsec25s25', 'Responsec25s75', 'Responsec75n25', 'Responsec75r25', 'Responsec75r75', 'Responsec75s25', 'Responsec75s75', 'Responsei25n25', 'Responsei25n75', 'Responsei25r25', 'Responsei25r75', 'Responsei25s25', 'Responsei25s75', 'Responsei75n75', 'Responsei75r25', 'Responsei75r75', 'Responsei75s25', 'Responsei75s75', 'Stimulusc25r25', 'Stimulusc25r75', 'Stimulusc25s25', 'Stimulusc25s75', 'Stimulusc75n25', 'Stimulusc75r25', 'Stimulusc75r75', 'Stimulusc75s25', 'Stimulusc75s75', 'Stimulusi25n25', 'Stimulusi25n75', 'Stimulusi25r25', 'Stimulusi25r75', 'Stimulusi25s25', 'Stimulusi25s75', 'Stimulusi75n75', 'Stimulusi75r25', 'Stimulusi75r75', 'Stimulusi75s25', 'Stimulusi75s75']\n",
      "Not setting metadata\n",
      "61 matching events found\n",
      "No baseline correction applied\n",
      "0 projection items activated\n",
      "Using data from preloaded Raw for 61 events and 3073 original time points ...\n",
      "0 bad epochs dropped\n"
     ]
    },
    {
     "name": "stderr",
     "output_type": "stream",
     "text": [
      "[Parallel(n_jobs=-2)]: Using backend ThreadingBackend with 7 concurrent workers.\n",
      "[Parallel(n_jobs=-2)]: Done   4 tasks      | elapsed:    1.3s\n",
      "[Parallel(n_jobs=-2)]: Done  11 tasks      | elapsed:    2.4s\n",
      "[Parallel(n_jobs=-2)]: Done  18 tasks      | elapsed:    3.7s\n",
      "[Parallel(n_jobs=-2)]: Done  27 tasks      | elapsed:    4.9s\n",
      "[Parallel(n_jobs=-2)]: Done  36 tasks      | elapsed:    6.6s\n",
      "[Parallel(n_jobs=-2)]: Done  47 tasks      | elapsed:    8.2s\n",
      "[Parallel(n_jobs=-2)]: Done  58 tasks      | elapsed:    9.9s\n",
      "[Parallel(n_jobs=-2)]: Done  71 tasks      | elapsed:   11.7s\n",
      "[Parallel(n_jobs=-2)]: Done  84 tasks      | elapsed:   13.8s\n",
      "[Parallel(n_jobs=-2)]: Done  99 tasks      | elapsed:   16.1s\n",
      "[Parallel(n_jobs=-2)]: Done 114 tasks      | elapsed:   18.4s\n",
      "[Parallel(n_jobs=-2)]: Done 131 tasks      | elapsed:   21.2s\n",
      "[Parallel(n_jobs=-2)]: Done 148 tasks      | elapsed:   23.6s\n"
     ]
    },
    {
     "name": "stdout",
     "output_type": "stream",
     "text": [
      "Not setting metadata\n"
     ]
    },
    {
     "name": "stderr",
     "output_type": "stream",
     "text": [
      "[Parallel(n_jobs=-2)]: Done 174 out of 174 | elapsed:   27.2s finished\n"
     ]
    },
    {
     "name": "stdout",
     "output_type": "stream",
     "text": [
      "Used Annotations descriptions: ['Responsec25r25', 'Responsec25r75', 'Responsec25s25', 'Responsec25s75', 'Responsec75n25', 'Responsec75r25', 'Responsec75r75', 'Responsec75s25', 'Responsec75s75', 'Responsei25n25', 'Responsei25n75', 'Responsei25r25', 'Responsei25r75', 'Responsei25s25', 'Responsei25s75', 'Responsei75n75', 'Responsei75r25', 'Responsei75r75', 'Responsei75s25', 'Responsei75s75', 'Stimulusc25r25', 'Stimulusc25r75', 'Stimulusc25s25', 'Stimulusc25s75', 'Stimulusc75n25', 'Stimulusc75r25', 'Stimulusc75r75', 'Stimulusc75s25', 'Stimulusc75s75', 'Stimulusi25n25', 'Stimulusi25n75', 'Stimulusi25r25', 'Stimulusi25r75', 'Stimulusi25s25', 'Stimulusi25s75', 'Stimulusi75n75', 'Stimulusi75r25', 'Stimulusi75r75', 'Stimulusi75s25', 'Stimulusi75s75']\n",
      "Not setting metadata\n",
      "61 matching events found\n",
      "No baseline correction applied\n",
      "0 projection items activated\n",
      "Using data from preloaded Raw for 61 events and 6145 original time points ...\n",
      "0 bad epochs dropped\n"
     ]
    },
    {
     "name": "stderr",
     "output_type": "stream",
     "text": [
      "[Parallel(n_jobs=-2)]: Using backend ThreadingBackend with 7 concurrent workers.\n",
      "[Parallel(n_jobs=-2)]: Done   4 tasks      | elapsed:    2.5s\n",
      "[Parallel(n_jobs=-2)]: Done  11 tasks      | elapsed:    5.0s\n",
      "[Parallel(n_jobs=-2)]: Done  18 tasks      | elapsed:    7.4s\n",
      "[Parallel(n_jobs=-2)]: Done  27 tasks      | elapsed:    9.9s\n",
      "[Parallel(n_jobs=-2)]: Done  36 tasks      | elapsed:   13.5s\n",
      "[Parallel(n_jobs=-2)]: Done  47 tasks      | elapsed:   17.0s\n",
      "[Parallel(n_jobs=-2)]: Done  58 tasks      | elapsed:   20.3s\n",
      "[Parallel(n_jobs=-2)]: Done  71 tasks      | elapsed:   24.4s\n",
      "[Parallel(n_jobs=-2)]: Done  84 tasks      | elapsed:   28.6s\n",
      "[Parallel(n_jobs=-2)]: Done  99 tasks      | elapsed:   33.3s\n",
      "[Parallel(n_jobs=-2)]: Done 114 tasks      | elapsed:   38.0s\n",
      "[Parallel(n_jobs=-2)]: Done 131 tasks      | elapsed:   43.9s\n",
      "[Parallel(n_jobs=-2)]: Done 148 tasks      | elapsed:   49.6s\n"
     ]
    },
    {
     "name": "stdout",
     "output_type": "stream",
     "text": [
      "Not setting metadata\n"
     ]
    },
    {
     "name": "stderr",
     "output_type": "stream",
     "text": [
      "[Parallel(n_jobs=-2)]: Done 174 out of 174 | elapsed:   57.5s finished\n"
     ]
    },
    {
     "name": "stdout",
     "output_type": "stream",
     "text": [
      "Applying baseline correction (mode: ratio)\n",
      "Used Annotations descriptions: ['Responsec25r25', 'Responsec25r75', 'Responsec25s25', 'Responsec25s75', 'Responsec75n25', 'Responsec75r25', 'Responsec75r75', 'Responsec75s25', 'Responsec75s75', 'Responsei25n25', 'Responsei25n75', 'Responsei25r25', 'Responsei25r75', 'Responsei25s25', 'Responsei25s75', 'Responsei75n75', 'Responsei75r25', 'Responsei75r75', 'Responsei75s25', 'Responsei75s75', 'Stimulusc25r25', 'Stimulusc25r75', 'Stimulusc25s25', 'Stimulusc25s75', 'Stimulusc75n25', 'Stimulusc75r25', 'Stimulusc75r75', 'Stimulusc75s25', 'Stimulusc75s75', 'Stimulusi25n25', 'Stimulusi25n75', 'Stimulusi25r25', 'Stimulusi25r75', 'Stimulusi25s25', 'Stimulusi25s75', 'Stimulusi75n75', 'Stimulusi75r25', 'Stimulusi75r75', 'Stimulusi75s25', 'Stimulusi75s75']\n",
      "Not setting metadata\n",
      "61 matching events found\n",
      "No baseline correction applied\n",
      "0 projection items activated\n",
      "Using data from preloaded Raw for 61 events and 6145 original time points ...\n",
      "0 bad epochs dropped\n"
     ]
    },
    {
     "name": "stderr",
     "output_type": "stream",
     "text": [
      "[Parallel(n_jobs=-2)]: Using backend ThreadingBackend with 7 concurrent workers.\n",
      "[Parallel(n_jobs=-2)]: Done   4 tasks      | elapsed:    2.5s\n",
      "[Parallel(n_jobs=-2)]: Done  11 tasks      | elapsed:    5.1s\n",
      "[Parallel(n_jobs=-2)]: Done  18 tasks      | elapsed:    7.7s\n",
      "[Parallel(n_jobs=-2)]: Done  27 tasks      | elapsed:   10.2s\n",
      "[Parallel(n_jobs=-2)]: Done  36 tasks      | elapsed:   14.5s\n",
      "[Parallel(n_jobs=-2)]: Done  47 tasks      | elapsed:   17.5s\n",
      "[Parallel(n_jobs=-2)]: Done  58 tasks      | elapsed:   21.6s\n",
      "[Parallel(n_jobs=-2)]: Done  71 tasks      | elapsed:   25.7s\n",
      "[Parallel(n_jobs=-2)]: Done  84 tasks      | elapsed:   29.2s\n",
      "[Parallel(n_jobs=-2)]: Done  99 tasks      | elapsed:   34.7s\n",
      "[Parallel(n_jobs=-2)]: Done 114 tasks      | elapsed:   39.3s\n",
      "[Parallel(n_jobs=-2)]: Done 131 tasks      | elapsed:   44.4s\n",
      "[Parallel(n_jobs=-2)]: Done 148 tasks      | elapsed:   50.6s\n"
     ]
    },
    {
     "name": "stdout",
     "output_type": "stream",
     "text": [
      "Not setting metadata\n"
     ]
    },
    {
     "name": "stderr",
     "output_type": "stream",
     "text": [
      "[Parallel(n_jobs=-2)]: Done 174 out of 174 | elapsed:   57.7s finished\n"
     ]
    },
    {
     "name": "stdout",
     "output_type": "stream",
     "text": [
      "Applying baseline correction (mode: ratio)\n",
      "Used Annotations descriptions: ['Responsec25r25', 'Responsec25r75', 'Responsec25s25', 'Responsec25s75', 'Responsec75n25', 'Responsec75r25', 'Responsec75r75', 'Responsec75s25', 'Responsec75s75', 'Responsei25n25', 'Responsei25n75', 'Responsei25r25', 'Responsei25r75', 'Responsei25s25', 'Responsei25s75', 'Responsei75n75', 'Responsei75r25', 'Responsei75r75', 'Responsei75s25', 'Responsei75s75', 'Stimulusc25r25', 'Stimulusc25r75', 'Stimulusc25s25', 'Stimulusc25s75', 'Stimulusc75n25', 'Stimulusc75r25', 'Stimulusc75r75', 'Stimulusc75s25', 'Stimulusc75s75', 'Stimulusi25n25', 'Stimulusi25n75', 'Stimulusi25r25', 'Stimulusi25r75', 'Stimulusi25s25', 'Stimulusi25s75', 'Stimulusi75n75', 'Stimulusi75r25', 'Stimulusi75r75', 'Stimulusi75s25', 'Stimulusi75s75']\n",
      "Not setting metadata\n",
      "5 matching events found\n",
      "No baseline correction applied\n",
      "0 projection items activated\n",
      "Using data from preloaded Raw for 5 events and 3073 original time points ...\n",
      "0 bad epochs dropped\n"
     ]
    },
    {
     "name": "stderr",
     "output_type": "stream",
     "text": [
      "[Parallel(n_jobs=-2)]: Using backend ThreadingBackend with 7 concurrent workers.\n",
      "[Parallel(n_jobs=-2)]: Done   4 tasks      | elapsed:    0.0s\n",
      "[Parallel(n_jobs=-2)]: Done  11 tasks      | elapsed:    0.1s\n",
      "[Parallel(n_jobs=-2)]: Done  18 tasks      | elapsed:    0.2s\n",
      "[Parallel(n_jobs=-2)]: Done  27 tasks      | elapsed:    0.3s\n",
      "[Parallel(n_jobs=-2)]: Done  36 tasks      | elapsed:    0.4s\n",
      "[Parallel(n_jobs=-2)]: Done  47 tasks      | elapsed:    0.6s\n",
      "[Parallel(n_jobs=-2)]: Done  58 tasks      | elapsed:    0.7s\n",
      "[Parallel(n_jobs=-2)]: Done  71 tasks      | elapsed:    0.9s\n",
      "[Parallel(n_jobs=-2)]: Done  84 tasks      | elapsed:    1.0s\n",
      "[Parallel(n_jobs=-2)]: Done  99 tasks      | elapsed:    1.2s\n",
      "[Parallel(n_jobs=-2)]: Done 114 tasks      | elapsed:    1.4s\n",
      "[Parallel(n_jobs=-2)]: Done 131 tasks      | elapsed:    1.6s\n",
      "[Parallel(n_jobs=-2)]: Done 148 tasks      | elapsed:    1.8s\n"
     ]
    },
    {
     "name": "stdout",
     "output_type": "stream",
     "text": [
      "Not setting metadata\n",
      "Used Annotations descriptions: ['Responsec25r25', 'Responsec25r75', 'Responsec25s25', 'Responsec25s75', 'Responsec75n25', 'Responsec75r25', 'Responsec75r75', 'Responsec75s25', 'Responsec75s75', 'Responsei25n25', 'Responsei25n75', 'Responsei25r25', 'Responsei25r75', 'Responsei25s25', 'Responsei25s75', 'Responsei75n75', 'Responsei75r25', 'Responsei75r75', 'Responsei75s25', 'Responsei75s75', 'Stimulusc25r25', 'Stimulusc25r75', 'Stimulusc25s25', 'Stimulusc25s75', 'Stimulusc75n25', 'Stimulusc75r25', 'Stimulusc75r75', 'Stimulusc75s25', 'Stimulusc75s75', 'Stimulusi25n25', 'Stimulusi25n75', 'Stimulusi25r25', 'Stimulusi25r75', 'Stimulusi25s25', 'Stimulusi25s75', 'Stimulusi75n75', 'Stimulusi75r25', 'Stimulusi75r75', 'Stimulusi75s25', 'Stimulusi75s75']\n",
      "Not setting metadata\n",
      "5 matching events found\n",
      "No baseline correction applied\n",
      "0 projection items activated\n",
      "Using data from preloaded Raw for 5 events and 6145 original time points ...\n",
      "0 bad epochs dropped\n"
     ]
    },
    {
     "name": "stderr",
     "output_type": "stream",
     "text": [
      "[Parallel(n_jobs=-2)]: Done 174 out of 174 | elapsed:    2.1s finished\n",
      "[Parallel(n_jobs=-2)]: Using backend ThreadingBackend with 7 concurrent workers.\n",
      "[Parallel(n_jobs=-2)]: Done   4 tasks      | elapsed:    0.1s\n",
      "[Parallel(n_jobs=-2)]: Done  11 tasks      | elapsed:    0.4s\n",
      "[Parallel(n_jobs=-2)]: Done  18 tasks      | elapsed:    0.6s\n",
      "[Parallel(n_jobs=-2)]: Done  27 tasks      | elapsed:    0.8s\n",
      "[Parallel(n_jobs=-2)]: Done  36 tasks      | elapsed:    1.1s\n",
      "[Parallel(n_jobs=-2)]: Done  47 tasks      | elapsed:    1.4s\n",
      "[Parallel(n_jobs=-2)]: Done  58 tasks      | elapsed:    1.7s\n",
      "[Parallel(n_jobs=-2)]: Done  71 tasks      | elapsed:    2.1s\n",
      "[Parallel(n_jobs=-2)]: Done  84 tasks      | elapsed:    2.5s\n",
      "[Parallel(n_jobs=-2)]: Done  99 tasks      | elapsed:    3.0s\n",
      "[Parallel(n_jobs=-2)]: Done 114 tasks      | elapsed:    3.4s\n",
      "[Parallel(n_jobs=-2)]: Done 131 tasks      | elapsed:    3.9s\n",
      "[Parallel(n_jobs=-2)]: Done 148 tasks      | elapsed:    4.4s\n"
     ]
    },
    {
     "name": "stdout",
     "output_type": "stream",
     "text": [
      "Not setting metadata\n",
      "Applying baseline correction (mode: ratio)\n"
     ]
    },
    {
     "name": "stderr",
     "output_type": "stream",
     "text": [
      "[Parallel(n_jobs=-2)]: Done 174 out of 174 | elapsed:    5.0s finished\n"
     ]
    },
    {
     "name": "stdout",
     "output_type": "stream",
     "text": [
      "Used Annotations descriptions: ['Responsec25r25', 'Responsec25r75', 'Responsec25s25', 'Responsec25s75', 'Responsec75n25', 'Responsec75r25', 'Responsec75r75', 'Responsec75s25', 'Responsec75s75', 'Responsei25n25', 'Responsei25n75', 'Responsei25r25', 'Responsei25r75', 'Responsei25s25', 'Responsei25s75', 'Responsei75n75', 'Responsei75r25', 'Responsei75r75', 'Responsei75s25', 'Responsei75s75', 'Stimulusc25r25', 'Stimulusc25r75', 'Stimulusc25s25', 'Stimulusc25s75', 'Stimulusc75n25', 'Stimulusc75r25', 'Stimulusc75r75', 'Stimulusc75s25', 'Stimulusc75s75', 'Stimulusi25n25', 'Stimulusi25n75', 'Stimulusi25r25', 'Stimulusi25r75', 'Stimulusi25s25', 'Stimulusi25s75', 'Stimulusi75n75', 'Stimulusi75r25', 'Stimulusi75r75', 'Stimulusi75s25', 'Stimulusi75s75']\n",
      "Not setting metadata\n",
      "5 matching events found\n",
      "No baseline correction applied\n",
      "0 projection items activated\n",
      "Using data from preloaded Raw for 5 events and 6145 original time points ...\n",
      "0 bad epochs dropped\n"
     ]
    },
    {
     "name": "stderr",
     "output_type": "stream",
     "text": [
      "[Parallel(n_jobs=-2)]: Using backend ThreadingBackend with 7 concurrent workers.\n",
      "[Parallel(n_jobs=-2)]: Done   4 tasks      | elapsed:    0.1s\n",
      "[Parallel(n_jobs=-2)]: Done  11 tasks      | elapsed:    0.3s\n",
      "[Parallel(n_jobs=-2)]: Done  18 tasks      | elapsed:    0.5s\n",
      "[Parallel(n_jobs=-2)]: Done  27 tasks      | elapsed:    0.7s\n",
      "[Parallel(n_jobs=-2)]: Done  36 tasks      | elapsed:    1.0s\n",
      "[Parallel(n_jobs=-2)]: Done  47 tasks      | elapsed:    1.3s\n",
      "[Parallel(n_jobs=-2)]: Done  58 tasks      | elapsed:    1.7s\n",
      "[Parallel(n_jobs=-2)]: Done  71 tasks      | elapsed:    1.9s\n",
      "[Parallel(n_jobs=-2)]: Done  84 tasks      | elapsed:    2.3s\n",
      "[Parallel(n_jobs=-2)]: Done  99 tasks      | elapsed:    2.8s\n",
      "[Parallel(n_jobs=-2)]: Done 114 tasks      | elapsed:    3.2s\n",
      "[Parallel(n_jobs=-2)]: Done 131 tasks      | elapsed:    3.7s\n",
      "[Parallel(n_jobs=-2)]: Done 148 tasks      | elapsed:    4.2s\n"
     ]
    },
    {
     "name": "stdout",
     "output_type": "stream",
     "text": [
      "Not setting metadata\n",
      "Applying baseline correction (mode: ratio)\n"
     ]
    },
    {
     "name": "stderr",
     "output_type": "stream",
     "text": [
      "[Parallel(n_jobs=-2)]: Done 174 out of 174 | elapsed:    4.9s finished\n"
     ]
    },
    {
     "name": "stdout",
     "output_type": "stream",
     "text": [
      "Used Annotations descriptions: ['Responsec25r25', 'Responsec25r75', 'Responsec25s25', 'Responsec25s75', 'Responsec75n25', 'Responsec75r25', 'Responsec75r75', 'Responsec75s25', 'Responsec75s75', 'Responsei25n25', 'Responsei25n75', 'Responsei25r25', 'Responsei25r75', 'Responsei25s25', 'Responsei25s75', 'Responsei75n75', 'Responsei75r25', 'Responsei75r75', 'Responsei75s25', 'Responsei75s75', 'Stimulusc25r25', 'Stimulusc25r75', 'Stimulusc25s25', 'Stimulusc25s75', 'Stimulusc75n25', 'Stimulusc75r25', 'Stimulusc75r75', 'Stimulusc75s25', 'Stimulusc75s75', 'Stimulusi25n25', 'Stimulusi25n75', 'Stimulusi25r25', 'Stimulusi25r75', 'Stimulusi25s25', 'Stimulusi25s75', 'Stimulusi75n75', 'Stimulusi75r25', 'Stimulusi75r75', 'Stimulusi75s25', 'Stimulusi75s75']\n",
      "Not setting metadata\n",
      "23 matching events found\n",
      "No baseline correction applied\n",
      "0 projection items activated\n",
      "Using data from preloaded Raw for 23 events and 3073 original time points ...\n",
      "0 bad epochs dropped\n"
     ]
    },
    {
     "name": "stderr",
     "output_type": "stream",
     "text": [
      "[Parallel(n_jobs=-2)]: Using backend ThreadingBackend with 7 concurrent workers.\n",
      "[Parallel(n_jobs=-2)]: Done   4 tasks      | elapsed:    0.4s\n",
      "[Parallel(n_jobs=-2)]: Done  11 tasks      | elapsed:    0.9s\n",
      "[Parallel(n_jobs=-2)]: Done  18 tasks      | elapsed:    1.3s\n",
      "[Parallel(n_jobs=-2)]: Done  27 tasks      | elapsed:    1.7s\n",
      "[Parallel(n_jobs=-2)]: Done  36 tasks      | elapsed:    2.4s\n",
      "[Parallel(n_jobs=-2)]: Done  47 tasks      | elapsed:    3.1s\n",
      "[Parallel(n_jobs=-2)]: Done  58 tasks      | elapsed:    3.8s\n",
      "[Parallel(n_jobs=-2)]: Done  71 tasks      | elapsed:    4.5s\n",
      "[Parallel(n_jobs=-2)]: Done  84 tasks      | elapsed:    5.3s\n",
      "[Parallel(n_jobs=-2)]: Done  99 tasks      | elapsed:    6.2s\n",
      "[Parallel(n_jobs=-2)]: Done 114 tasks      | elapsed:    7.1s\n",
      "[Parallel(n_jobs=-2)]: Done 131 tasks      | elapsed:    8.2s\n",
      "[Parallel(n_jobs=-2)]: Done 148 tasks      | elapsed:    9.1s\n"
     ]
    },
    {
     "name": "stdout",
     "output_type": "stream",
     "text": [
      "Not setting metadata\n",
      "Used Annotations descriptions: ['Responsec25r25', 'Responsec25r75', 'Responsec25s25', 'Responsec25s75', 'Responsec75n25', 'Responsec75r25', 'Responsec75r75', 'Responsec75s25', 'Responsec75s75', 'Responsei25n25', 'Responsei25n75', 'Responsei25r25', 'Responsei25r75', 'Responsei25s25', 'Responsei25s75', 'Responsei75n75', 'Responsei75r25', 'Responsei75r75', 'Responsei75s25', 'Responsei75s75', 'Stimulusc25r25', 'Stimulusc25r75', 'Stimulusc25s25', 'Stimulusc25s75', 'Stimulusc75n25', 'Stimulusc75r25', 'Stimulusc75r75', 'Stimulusc75s25', 'Stimulusc75s75', 'Stimulusi25n25', 'Stimulusi25n75', 'Stimulusi25r25', 'Stimulusi25r75', 'Stimulusi25s25', 'Stimulusi25s75', 'Stimulusi75n75', 'Stimulusi75r25', 'Stimulusi75r75', 'Stimulusi75s25', 'Stimulusi75s75']\n",
      "Not setting metadata\n",
      "23 matching events found\n",
      "No baseline correction applied\n"
     ]
    },
    {
     "name": "stderr",
     "output_type": "stream",
     "text": [
      "[Parallel(n_jobs=-2)]: Done 174 out of 174 | elapsed:   10.8s finished\n"
     ]
    },
    {
     "name": "stdout",
     "output_type": "stream",
     "text": [
      "0 projection items activated\n",
      "Using data from preloaded Raw for 23 events and 6145 original time points ...\n",
      "0 bad epochs dropped\n"
     ]
    },
    {
     "name": "stderr",
     "output_type": "stream",
     "text": [
      "[Parallel(n_jobs=-2)]: Using backend ThreadingBackend with 7 concurrent workers.\n",
      "[Parallel(n_jobs=-2)]: Done   4 tasks      | elapsed:    0.9s\n",
      "[Parallel(n_jobs=-2)]: Done  11 tasks      | elapsed:    1.8s\n",
      "[Parallel(n_jobs=-2)]: Done  18 tasks      | elapsed:    2.8s\n",
      "[Parallel(n_jobs=-2)]: Done  27 tasks      | elapsed:    3.9s\n",
      "[Parallel(n_jobs=-2)]: Done  36 tasks      | elapsed:    5.3s\n",
      "[Parallel(n_jobs=-2)]: Done  47 tasks      | elapsed:    6.8s\n",
      "[Parallel(n_jobs=-2)]: Done  58 tasks      | elapsed:    8.0s\n",
      "[Parallel(n_jobs=-2)]: Done  71 tasks      | elapsed:    9.6s\n",
      "[Parallel(n_jobs=-2)]: Done  84 tasks      | elapsed:   11.2s\n",
      "[Parallel(n_jobs=-2)]: Done  99 tasks      | elapsed:   13.0s\n",
      "[Parallel(n_jobs=-2)]: Done 114 tasks      | elapsed:   14.9s\n",
      "[Parallel(n_jobs=-2)]: Done 131 tasks      | elapsed:   17.3s\n",
      "[Parallel(n_jobs=-2)]: Done 148 tasks      | elapsed:   19.3s\n"
     ]
    },
    {
     "name": "stdout",
     "output_type": "stream",
     "text": [
      "Not setting metadata\n"
     ]
    },
    {
     "name": "stderr",
     "output_type": "stream",
     "text": [
      "[Parallel(n_jobs=-2)]: Done 174 out of 174 | elapsed:   22.2s finished\n"
     ]
    },
    {
     "name": "stdout",
     "output_type": "stream",
     "text": [
      "Applying baseline correction (mode: ratio)\n",
      "Used Annotations descriptions: ['Responsec25r25', 'Responsec25r75', 'Responsec25s25', 'Responsec25s75', 'Responsec75n25', 'Responsec75r25', 'Responsec75r75', 'Responsec75s25', 'Responsec75s75', 'Responsei25n25', 'Responsei25n75', 'Responsei25r25', 'Responsei25r75', 'Responsei25s25', 'Responsei25s75', 'Responsei75n75', 'Responsei75r25', 'Responsei75r75', 'Responsei75s25', 'Responsei75s75', 'Stimulusc25r25', 'Stimulusc25r75', 'Stimulusc25s25', 'Stimulusc25s75', 'Stimulusc75n25', 'Stimulusc75r25', 'Stimulusc75r75', 'Stimulusc75s25', 'Stimulusc75s75', 'Stimulusi25n25', 'Stimulusi25n75', 'Stimulusi25r25', 'Stimulusi25r75', 'Stimulusi25s25', 'Stimulusi25s75', 'Stimulusi75n75', 'Stimulusi75r25', 'Stimulusi75r75', 'Stimulusi75s25', 'Stimulusi75s75']\n",
      "Not setting metadata\n",
      "23 matching events found\n",
      "No baseline correction applied\n",
      "0 projection items activated\n",
      "Using data from preloaded Raw for 23 events and 6145 original time points ...\n",
      "0 bad epochs dropped\n"
     ]
    },
    {
     "name": "stderr",
     "output_type": "stream",
     "text": [
      "[Parallel(n_jobs=-2)]: Using backend ThreadingBackend with 7 concurrent workers.\n",
      "[Parallel(n_jobs=-2)]: Done   4 tasks      | elapsed:    0.8s\n",
      "[Parallel(n_jobs=-2)]: Done  11 tasks      | elapsed:    1.8s\n",
      "[Parallel(n_jobs=-2)]: Done  18 tasks      | elapsed:    2.9s\n",
      "[Parallel(n_jobs=-2)]: Done  27 tasks      | elapsed:    4.0s\n",
      "[Parallel(n_jobs=-2)]: Done  36 tasks      | elapsed:    5.5s\n",
      "[Parallel(n_jobs=-2)]: Done  47 tasks      | elapsed:    6.7s\n",
      "[Parallel(n_jobs=-2)]: Done  58 tasks      | elapsed:    8.4s\n",
      "[Parallel(n_jobs=-2)]: Done  71 tasks      | elapsed:    9.7s\n",
      "[Parallel(n_jobs=-2)]: Done  84 tasks      | elapsed:   11.5s\n",
      "[Parallel(n_jobs=-2)]: Done  99 tasks      | elapsed:   13.3s\n",
      "[Parallel(n_jobs=-2)]: Done 114 tasks      | elapsed:   15.3s\n",
      "[Parallel(n_jobs=-2)]: Done 131 tasks      | elapsed:   17.7s\n",
      "[Parallel(n_jobs=-2)]: Done 148 tasks      | elapsed:   19.7s\n"
     ]
    },
    {
     "name": "stdout",
     "output_type": "stream",
     "text": [
      "Not setting metadata\n"
     ]
    },
    {
     "name": "stderr",
     "output_type": "stream",
     "text": [
      "[Parallel(n_jobs=-2)]: Done 174 out of 174 | elapsed:   22.6s finished\n"
     ]
    },
    {
     "name": "stdout",
     "output_type": "stream",
     "text": [
      "Applying baseline correction (mode: ratio)\n"
     ]
    }
   ],
   "source": [
    "# trialType = \"i75s25\"\n",
    "trialTypes = [\"i75s25\", \"c75s25\", \"i75r25\", \"c75r25\", \"i75s75\", \"c75s75\", \"i75r75\", \"c75r75\",\n",
    "              \"i25s25\", \"c25s25\", \"i25r25\", \"c25r25\", \"i75s25\", \"c25s75\", \"i25r75\", \"c25r75\"]\n",
    "\n",
    "for trialType in trialTypes:\n",
    "    for epoch, t, name in zip(\n",
    "        (\"Stimulus\"+trialType, \"Stimulus\"+trialType,  \"Response\"+trialType),\n",
    "        ((-0.5, 0), (-0.5, 2), (-1, 2)),\n",
    "        (\"baselineStimulus\"+trialType, \"Stimulus\"+trialType, \"Response\"+trialType)):\n",
    "        times = [None, None]\n",
    "        times[0] = t[0] - 0.5\n",
    "        times[1] = t[1] + 0.5\n",
    "        trials = trial_ieeg(good, epoch, times, preload=True)\n",
    "        outliers_to_nan(trials, outliers=10)\n",
    "        spec = wavelet_scaleogram(trials, n_jobs=-2, decim=int(\n",
    "            good.info['sfreq'] / 100))\n",
    "        crop_pad(spec, \"0.5s\")\n",
    "        if name == \"baselineStimulus\"+trialType:\n",
    "            base = spec.copy()\n",
    "            continue\n",
    "        spec_a = rescale(spec, base, copy=True, mode='ratio').average(\n",
    "            lambda x: np.nanmean(x, axis=0), copy=True)\n",
    "        spec_a._data = np.log10(spec_a._data) * 20\n",
    "        fnames = [os.path.relpath(f, layout.root) for f in good.filenames]\n",
    "        spec_a.info['subject_info']['files'] = tuple(fnames)\n",
    "        spec_a.info['bads'] = good.info['bads']\n",
    "        filename = os.path.join(save_dir, f'{name}-tfr.h5')\n",
    "        mne.time_frequency.write_tfrs(filename, spec_a, overwrite=True)\n",
    "        spec_a.save(os.path.join(save_dir, f'{name}-avg.fif'), overwrite=True)\n"
   ]
  },
  {
   "attachments": {},
   "cell_type": "markdown",
   "metadata": {},
   "source": [
    "### to average across all trial types and just look at differences between stimulus and response"
   ]
  },
  {
   "cell_type": "code",
   "execution_count": 15,
   "metadata": {},
   "outputs": [
    {
     "name": "stdout",
     "output_type": "stream",
     "text": [
      "Used Annotations descriptions: ['Responsec25n25', 'Responsec25r25', 'Responsec25r75', 'Responsec25s25', 'Responsec25s75', 'Responsec75r25', 'Responsec75r75', 'Responsec75s25', 'Responsec75s75', 'Responsei25r25', 'Responsei25r75', 'Responsei25s25', 'Responsei25s75', 'Responsei75n25', 'Responsei75n75', 'Responsei75r25', 'Responsei75r75', 'Responsei75s25', 'Responsei75s75', 'Stimulusc25n25', 'Stimulusc25r25', 'Stimulusc25r75', 'Stimulusc25s25', 'Stimulusc25s75', 'Stimulusc75r25', 'Stimulusc75r75', 'Stimulusc75s25', 'Stimulusc75s75', 'Stimulusi25n75', 'Stimulusi25r25', 'Stimulusi25r75', 'Stimulusi25s25', 'Stimulusi25s75', 'Stimulusi75n25', 'Stimulusi75n75', 'Stimulusi75r25', 'Stimulusi75r75', 'Stimulusi75s25', 'Stimulusi75s75']\n",
      "Not setting metadata\n",
      "23 matching events found\n",
      "No baseline correction applied\n",
      "0 projection items activated\n",
      "Using data from preloaded Raw for 23 events and 3073 original time points ...\n"
     ]
    },
    {
     "name": "stdout",
     "output_type": "stream",
     "text": [
      "0 bad epochs dropped\n",
      "Used Annotations descriptions: ['Responsec25n25', 'Responsec25r25', 'Responsec25r75', 'Responsec25s25', 'Responsec25s75', 'Responsec75r25', 'Responsec75r75', 'Responsec75s25', 'Responsec75s75', 'Responsei25r25', 'Responsei25r75', 'Responsei25s25', 'Responsei25s75', 'Responsei75n25', 'Responsei75n75', 'Responsei75r25', 'Responsei75r75', 'Responsei75s25', 'Responsei75s75', 'Stimulusc25n25', 'Stimulusc25r25', 'Stimulusc25r75', 'Stimulusc25s25', 'Stimulusc25s75', 'Stimulusc75r25', 'Stimulusc75r75', 'Stimulusc75s25', 'Stimulusc75s75', 'Stimulusi25n75', 'Stimulusi25r25', 'Stimulusi25r75', 'Stimulusi25s25', 'Stimulusi25s75', 'Stimulusi75n25', 'Stimulusi75n75', 'Stimulusi75r25', 'Stimulusi75r75', 'Stimulusi75s25', 'Stimulusi75s75']\n",
      "Not setting metadata\n",
      "23 matching events found\n",
      "No baseline correction applied\n",
      "0 projection items activated\n",
      "Using data from preloaded Raw for 23 events and 4097 original time points ...\n",
      "0 bad epochs dropped\n"
     ]
    },
    {
     "name": "stderr",
     "output_type": "stream",
     "text": [
      "[Parallel(n_jobs=-2)]: Using backend ThreadingBackend with 7 concurrent workers.\n",
      "[Parallel(n_jobs=-2)]: Done   4 tasks      | elapsed:    0.5s\n",
      "[Parallel(n_jobs=-2)]: Done  11 tasks      | elapsed:    1.0s\n",
      "[Parallel(n_jobs=-2)]: Done  18 tasks      | elapsed:    1.5s\n",
      "[Parallel(n_jobs=-2)]: Done  27 tasks      | elapsed:    2.1s\n",
      "[Parallel(n_jobs=-2)]: Done  36 tasks      | elapsed:    2.9s\n",
      "[Parallel(n_jobs=-2)]: Done  47 tasks      | elapsed:    3.5s\n",
      "[Parallel(n_jobs=-2)]: Done  58 tasks      | elapsed:    4.3s\n",
      "[Parallel(n_jobs=-2)]: Done  71 tasks      | elapsed:    5.0s\n",
      "[Parallel(n_jobs=-2)]: Done  84 tasks      | elapsed:    5.8s\n",
      "[Parallel(n_jobs=-2)]: Done  99 tasks      | elapsed:    6.8s\n",
      "[Parallel(n_jobs=-2)]: Done 114 tasks      | elapsed:    7.9s\n",
      "[Parallel(n_jobs=-2)]: Done 131 tasks      | elapsed:    9.0s\n",
      "[Parallel(n_jobs=-2)]: Done 148 tasks      | elapsed:   10.0s\n"
     ]
    },
    {
     "name": "stdout",
     "output_type": "stream",
     "text": [
      "Not setting metadata\n"
     ]
    },
    {
     "name": "stderr",
     "output_type": "stream",
     "text": [
      "[Parallel(n_jobs=-2)]: Done 176 out of 176 | elapsed:   11.9s finished\n",
      "[Parallel(n_jobs=-2)]: Using backend ThreadingBackend with 7 concurrent workers.\n",
      "[Parallel(n_jobs=-2)]: Done   4 tasks      | elapsed:    0.6s\n",
      "[Parallel(n_jobs=-2)]: Done  11 tasks      | elapsed:    1.3s\n",
      "[Parallel(n_jobs=-2)]: Done  18 tasks      | elapsed:    2.0s\n",
      "[Parallel(n_jobs=-2)]: Done  27 tasks      | elapsed:    2.7s\n",
      "[Parallel(n_jobs=-2)]: Done  36 tasks      | elapsed:    3.9s\n",
      "[Parallel(n_jobs=-2)]: Done  47 tasks      | elapsed:    4.6s\n",
      "[Parallel(n_jobs=-2)]: Done  58 tasks      | elapsed:    6.0s\n",
      "[Parallel(n_jobs=-2)]: Done  71 tasks      | elapsed:    6.9s\n",
      "[Parallel(n_jobs=-2)]: Done  84 tasks      | elapsed:    8.1s\n",
      "[Parallel(n_jobs=-2)]: Done  99 tasks      | elapsed:    9.3s\n",
      "[Parallel(n_jobs=-2)]: Done 114 tasks      | elapsed:   10.9s\n",
      "[Parallel(n_jobs=-2)]: Done 131 tasks      | elapsed:   12.5s\n",
      "[Parallel(n_jobs=-2)]: Done 148 tasks      | elapsed:   13.9s\n"
     ]
    },
    {
     "name": "stdout",
     "output_type": "stream",
     "text": [
      "Not setting metadata\n"
     ]
    },
    {
     "name": "stderr",
     "output_type": "stream",
     "text": [
      "[Parallel(n_jobs=-2)]: Done 176 out of 176 | elapsed:   16.2s finished\n"
     ]
    },
    {
     "ename": "AttributeError",
     "evalue": "'numpy.ndarray' object has no attribute '_data'",
     "output_type": "error",
     "traceback": [
      "\u001b[1;31m---------------------------------------------------------------------------\u001b[0m",
      "\u001b[1;31mAttributeError\u001b[0m                            Traceback (most recent call last)",
      "Cell \u001b[1;32mIn[15], line 49\u001b[0m\n\u001b[0;32m     46\u001b[0m     stimulus_spec_sum \u001b[39m=\u001b[39m stimulus_spec\u001b[39m.\u001b[39mcopy()\n\u001b[0;32m     47\u001b[0m \u001b[39melse\u001b[39;00m:\n\u001b[0;32m     48\u001b[0m     \u001b[39m# Add stimulus spectrogram to the sum\u001b[39;00m\n\u001b[1;32m---> 49\u001b[0m     stimulus_spec_sum\u001b[39m.\u001b[39;49m_data \u001b[39m+\u001b[39m\u001b[39m=\u001b[39m stimulus_spec\u001b[39m.\u001b[39m_data\n\u001b[0;32m     51\u001b[0m \u001b[39m# Initialize base spectrogram for response\u001b[39;00m\n\u001b[0;32m     52\u001b[0m \u001b[39mif\u001b[39;00m response_spec_sum \u001b[39mis\u001b[39;00m \u001b[39mNone\u001b[39;00m:\n",
      "\u001b[1;31mAttributeError\u001b[0m: 'numpy.ndarray' object has no attribute '_data'"
     ]
    }
   ],
   "source": [
    "trialTypes = [\"i75s25\", \"c75s25\", \"i75r25\", \"c75r25\", \"i75s75\", \"c75s75\", \"i75r75\", \"c75r75\",\n",
    "              \"i25s25\", \"c25s25\", \"i25r25\", \"c25r25\", \"i75s25\", \"c25s75\", \"i25r75\", \"c25r75\"]\n",
    "\n",
    "# Define the epoch, time, and name for stimulus and response\n",
    "stimulus_epoch = \"Stimulus\"\n",
    "stimulus_time = (-0.5, 0)\n",
    "stimulus_name = \"Stimulus\"\n",
    "response_epoch = \"Response\"\n",
    "response_time = (-0.5, 0.5)\n",
    "response_name = \"Response\"\n",
    "\n",
    "# Initialize empty spectrogram arrays for stimulus and response\n",
    "stimulus_spec_sum = np.zeros((23, 176, 46, 50))\n",
    "response_spec_sum = np.zeros((23, 176, 46, 50))\n",
    "\n",
    "# Loop over trialTypes\n",
    "for trialType in trialTypes:\n",
    "    # Define the epoch, time, and name based on trialType\n",
    "    stimulus_epoch_type = stimulus_epoch + trialType\n",
    "    response_epoch_type = response_epoch + trialType\n",
    "    stimulus_name_type = stimulus_name + trialType\n",
    "    response_name_type = response_name + trialType\n",
    "    \n",
    "    # Set the times for stimulus and response\n",
    "    stimulus_times = [stimulus_time[0] - 0.5, stimulus_time[1] + 0.5]\n",
    "    response_times = [response_time[0] - 0.5, response_time[1] + 0.5]\n",
    "    \n",
    "    # Load the trials for stimulus and response\n",
    "    stimulus_trials = trial_ieeg(good, stimulus_epoch_type, stimulus_times, preload=True)\n",
    "    response_trials = trial_ieeg(good, response_epoch_type, response_times, preload=True)\n",
    "    \n",
    "    # Remove outliers from trials\n",
    "    outliers_to_nan(stimulus_trials, outliers=10)\n",
    "    outliers_to_nan(response_trials, outliers=10)\n",
    "    \n",
    "    # Compute spectrograms for stimulus and response\n",
    "    stimulus_spec = wavelet_scaleogram(stimulus_trials, n_jobs=-2, decim=int(good.info['sfreq'] / 100))\n",
    "    response_spec = wavelet_scaleogram(response_trials, n_jobs=-2, decim=int(good.info['sfreq'] / 100))\n",
    "    \n",
    "    # Crop and pad spectrograms\n",
    "    crop_pad(stimulus_spec, \"0.5s\")\n",
    "    crop_pad(response_spec, \"0.5s\")\n",
    "    \n",
    "    # Initialize base spectrogram for stimulus\n",
    "    if stimulus_spec_sum is None:\n",
    "        stimulus_spec_sum = stimulus_spec.copy()\n",
    "    else:\n",
    "        # Add stimulus spectrogram to the sum\n",
    "        stimulus_spec_sum._data += stimulus_spec._data\n",
    "    \n",
    "    # Initialize base spectrogram for response\n",
    "    if response_spec_sum is None:\n",
    "        response_spec_sum = response_spec.copy()\n",
    "    else:\n",
    "        # Add response spectrogram to the sum\n",
    "        response_spec_sum._data += response_spec._data\n",
    "\n",
    "# Compute the average spectrogram for stimulus and response\n",
    "stimulus_spec_avg = stimulus_spec_sum / len(trialTypes)\n",
    "response_spec_avg = response_spec_sum / len(trialTypes)\n",
    "\n",
    "# Transform spectrogram data to decibels\n",
    "stimulus_spec_avg._data = np.log10(stimulus_spec_avg._data) * 20\n",
    "response_spec_avg._data = np.log10(response_spec_avg._data) * 20\n",
    "\n",
    "# Update file information and bad channels\n",
    "fnames = [os.path.relpath(f, layout.root) for f in good.filenames]\n",
    "stimulus_spec_avg.info['subject_info']['files'] = tuple(fnames)\n",
    "response_spec_avg.info['subject_info']['files'] = tuple(fnames)\n",
    "stimulus_spec_avg.info['bads'] = good.info['bads']\n",
    "response_spec_avg.info['bads'] = good.info['bads']\n",
    "\n",
    "# Define the save directory\n",
    "save_dir = os.path.join(layout.root, 'derivatives', 'spec', 'wavelet', sub)\n",
    "if not os.path.exists(save_dir):\n",
    "    os.makedirs(save_dir)\n",
    "\n",
    "# Save the average spectrograms with the desired filename format\n",
    "stimulus_filename = os.path.join(save_dir, f'{stimulus_name}-allTrialTypesAvgtfr.h5')\n",
    "response_filename = os.path.join(save_dir, f'{response_name}-allTrialTypesAvgtfr.h5')\n",
    "mne.time_frequency.write_tfrs(stimulus_filename, stimulus_spec_avg, overwrite=True)\n",
    "mne.time_frequency.write_tfrs(response_filename, response_spec_avg, overwrite=True)\n",
    "\n",
    "# Save the average spectrograms in the -avg.fif format\n",
    "stimulus_avg_filename = os.path.join(save_dir, f'stimulus-allTrialTypesAvg.fif')\n",
    "response_avg_filename = os.path.join(save_dir, f'response-allTrialTypesAvg.fif')\n",
    "stimulus_spec_avg.save(stimulus_avg_filename, overwrite=True)\n",
    "response_spec_avg.save(response_avg_filename, overwrite=True)"
   ]
  }
 ],
 "metadata": {
  "kernelspec": {
   "display_name": "ieeg",
   "language": "python",
   "name": "python3"
  },
  "language_info": {
   "codemirror_mode": {
    "name": "ipython",
    "version": 3
   },
   "file_extension": ".py",
   "mimetype": "text/x-python",
   "name": "python",
   "nbconvert_exporter": "python",
   "pygments_lexer": "ipython3",
   "version": "3.11.3"
  },
  "orig_nbformat": 4
 },
 "nbformat": 4,
 "nbformat_minor": 2
}
