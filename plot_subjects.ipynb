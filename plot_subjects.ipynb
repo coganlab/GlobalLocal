{
  "cells": [
    {
      "attachments": {},
      "cell_type": "markdown",
      "metadata": {},
      "source": [
        "\n",
        "# Example line noise filtering script\n",
        "\n",
        "Filters the 60Hz line noise from the data, as well as the harmonics. Includes\n",
        "environment checks for SLURM jobs for convenience\n"
      ]
    },
    {
      "cell_type": "code",
      "execution_count": 1,
      "metadata": {
        "collapsed": false
      },
      "outputs": [],
      "source": [
        "import mne\n",
        "import os\n",
        "from ieeg.viz.mri import plot_subj, subject_to_info\n",
        "from misc_functions import load_sig_chans, channel_names_to_indices"
      ]
    },
    {
      "cell_type": "code",
      "execution_count": 2,
      "metadata": {},
      "outputs": [
        {
          "name": "stdout",
          "output_type": "stream",
          "text": [
            "['LAMT12', 'LAMT11', 'LAMT10', 'LAMT9', 'LAMT8', 'LAMT7', 'LAMT6', 'LAMT5', 'LAMT4', 'LAMT3', 'LAMT2', 'LAMT1', 'LMMT12', 'LMMT11', 'LMMT10', 'LMMT9', 'LMMT8', 'LMMT7', 'LMMT6', 'LMMT5', 'LMMT4', 'LMMT3', 'LMMT2', 'LMMT1', 'RAIF14', 'RAIF13', 'RAIF12', 'RAIF11', 'RAIF10', 'RAIF9', 'RAIF8', 'RAIF7', 'RAIF6', 'RAIF5', 'RAIF4', 'RAIF3', 'RAIF2', 'RAIF1', 'RAMF14', 'RAMF13', 'RAMF12', 'RAMF11', 'RAMF10', 'RAMF9', 'RAMF8', 'RAMF7', 'RAMF6', 'RAMF5', 'RAMF4', 'RAMF3', 'RAMF2', 'RAMF1', 'RMMF16', 'RMMF15', 'RMMF14', 'RMMF13', 'RMMF12', 'RMMF11', 'RMMF10', 'RMMF9', 'RMMF8', 'RMMF7', 'RMMF6', 'RMMF5', 'RMMF4', 'RMMF3', 'RMMF2', 'RMMF1', 'RPIP14', 'RPIP13', 'RPIP12', 'RPIP11', 'RPIP10', 'RPIP9', 'RPIP8', 'RPIP7', 'RPIP6', 'RPIP5', 'RPIP4', 'RPIP3', 'RPIP2', 'RPIP1', 'RPIT12', 'RPIT11', 'RPIT10', 'RPIT9', 'RPIT8', 'RPIT7', 'RPIT6', 'RPIT5', 'RPIT4', 'RPIT3', 'RPIT2', 'RPIT1', 'RAST8', 'RAST7', 'RAST6', 'RAST5', 'RAST4', 'RAST3', 'RAST2', 'RAST1', 'RPMT10', 'RPMT9', 'RPMT8', 'RPMT7', 'RPMT6', 'RPMT5', 'RPMT4', 'RPMT3', 'RPMT2', 'RPMT1', 'RAIT10', 'RAIT9', 'RAIT8', 'RAIT7', 'RAIT6', 'RAIT5', 'RAIT4', 'RAIT3', 'RAIT2', 'RAIT1', 'RAMT12', 'RAMT11', 'RAMT10', 'RAMT9', 'RAMT8', 'RAMT7', 'RAMT6', 'RAMT5', 'RAMT4', 'RAMT3', 'RAMT2', 'RAMT1', 'RMMT12', 'RMMT11', 'RMMT10', 'RMMT9', 'RMMT8', 'RMMT7', 'RMMT6', 'RMMT5', 'RMMT4', 'RMMT3', 'RMMT2', 'RMMT1', 'RAI16', 'RAI15', 'RAI14', 'RAI13', 'RAI12', 'RAI11', 'RAI10', 'RAI9', 'RAI8', 'RAI7', 'RAI6', 'RAI5', 'RAI4', 'RAI3', 'RAI2', 'RAI1', 'RPI16', 'RPI15', 'RPI14', 'RPI13', 'RPI12', 'RPI11', 'RPI10', 'RPI9', 'RPI8', 'RPI7', 'RPI6', 'RPI5', 'RPI4', 'RPI3', 'RPI2', 'RPI1']\n",
            "178\n"
          ]
        },
        {
          "name": "stderr",
          "output_type": "stream",
          "text": [
            "c:\\Users\\jz421\\Desktop\\GlobalLocal\\ieeg\\viz\\mri.py:548: RuntimeWarning: Fiducial point lpa not found, assuming identity RAS (non-zero origin) to head transformation\n",
            "  info.set_montage(montage)\n"
          ]
        }
      ],
      "source": [
        "info = subject_to_info(\"D57\")\n",
        "\n",
        "print(info.ch_names)\n",
        "print(len(info.ch_names))"
      ]
    },
    {
      "cell_type": "code",
      "execution_count": 4,
      "metadata": {},
      "outputs": [
        {
          "name": "stdout",
          "output_type": "stream",
          "text": [
            "Loaded significant channels for subject D0059\n",
            "Loaded significant channels for subject D0059\n"
          ]
        },
        {
          "name": "stderr",
          "output_type": "stream",
          "text": [
            "c:\\Users\\jz421\\Desktop\\GlobalLocal\\ieeg\\viz\\mri.py:548: RuntimeWarning: Fiducial point lpa not found, assuming identity RAS (non-zero origin) to head transformation\n",
            "  info.set_montage(montage)\n"
          ]
        },
        {
          "name": "stdout",
          "output_type": "stream",
          "text": [
            "Could not estimate rigid Talairach alignment, using identity matrix\n"
          ]
        },
        {
          "name": "stderr",
          "output_type": "stream",
          "text": [
            "c:\\Users\\jz421\\Desktop\\GlobalLocal\\ieeg\\viz\\mri.py:548: RuntimeWarning: Fiducial point lpa not found, assuming identity RAS (non-zero origin) to head transformation\n",
            "  info.set_montage(montage)\n"
          ]
        },
        {
          "data": {
            "text/plain": [
              "<mne.viz._brain._brain.Brain at 0x1dc4cc4c1d0>"
            ]
          },
          "execution_count": 4,
          "metadata": {},
          "output_type": "execute_result"
        }
      ],
      "source": [
        "subj = \"D0059\"\n",
        "base_path = r'C:\\Users\\jz421\\Box\\CoganLab\\BIDS-1.1_GlobalLocal\\BIDS\\derivatives\\freqFilt\\figs'\n",
        "resp_filename = f'{base_path}\\\\{subj}\\\\sig_chans_{subj}_Response.json'\n",
        "stim_filename = f'{base_path}\\\\{subj}\\\\sig_chans_{subj}_Stimulus.json'\n",
        "\n",
        "resp_sig_chans = load_sig_chans(resp_filename)\n",
        "stim_sig_chans = load_sig_chans(stim_filename)\n",
        "\n",
        "subj_without_zeros = \"D\" + subj[1:].lstrip('0')\n",
        "plot_subj(subj_without_zeros, picks=stim_sig_chans, labels_every=8, hemi='both', title=f'{subj}_Stimulus')\n",
        "plot_subj(subj_without_zeros, picks=resp_sig_chans, labels_every=8, hemi='both', title=f'{subj}_Response')\n",
        "\n"
      ]
    },
    {
      "cell_type": "code",
      "execution_count": null,
      "metadata": {},
      "outputs": [],
      "source": []
    }
  ],
  "metadata": {
    "kernelspec": {
      "display_name": "Python 3",
      "language": "python",
      "name": "python3"
    },
    "language_info": {
      "codemirror_mode": {
        "name": "ipython",
        "version": 3
      },
      "file_extension": ".py",
      "mimetype": "text/x-python",
      "name": "python",
      "nbconvert_exporter": "python",
      "pygments_lexer": "ipython3",
      "version": "3.11.3"
    }
  },
  "nbformat": 4,
  "nbformat_minor": 0
}
