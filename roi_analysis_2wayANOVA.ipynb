{
 "cells": [
  {
   "cell_type": "code",
   "execution_count": 1,
   "metadata": {},
   "outputs": [
    {
     "name": "stdout",
     "output_type": "stream",
     "text": [
      "['c:\\\\Users\\\\jz421\\\\Desktop\\\\GlobalLocal', 'C:\\\\Users\\\\jz421\\\\Desktop\\\\GlobalLocal\\\\IEEG_Pipelines', 'c:\\\\Users\\\\jz421\\\\AppData\\\\Local\\\\anaconda3\\\\envs\\\\ieeg\\\\python311.zip', 'c:\\\\Users\\\\jz421\\\\AppData\\\\Local\\\\anaconda3\\\\envs\\\\ieeg\\\\DLLs', 'c:\\\\Users\\\\jz421\\\\AppData\\\\Local\\\\anaconda3\\\\envs\\\\ieeg\\\\Lib', 'c:\\\\Users\\\\jz421\\\\AppData\\\\Local\\\\anaconda3\\\\envs\\\\ieeg', '', 'C:\\\\Users\\\\jz421\\\\AppData\\\\Roaming\\\\Python\\\\Python311\\\\site-packages', 'C:\\\\Users\\\\jz421\\\\AppData\\\\Roaming\\\\Python\\\\Python311\\\\site-packages\\\\win32', 'C:\\\\Users\\\\jz421\\\\AppData\\\\Roaming\\\\Python\\\\Python311\\\\site-packages\\\\win32\\\\lib', 'C:\\\\Users\\\\jz421\\\\AppData\\\\Roaming\\\\Python\\\\Python311\\\\site-packages\\\\Pythonwin', 'c:\\\\Users\\\\jz421\\\\AppData\\\\Local\\\\anaconda3\\\\envs\\\\ieeg\\\\Lib\\\\site-packages', 'c:\\\\Users\\\\jz421\\\\AppData\\\\Local\\\\anaconda3\\\\envs\\\\ieeg\\\\Lib\\\\site-packages\\\\win32', 'c:\\\\Users\\\\jz421\\\\AppData\\\\Local\\\\anaconda3\\\\envs\\\\ieeg\\\\Lib\\\\site-packages\\\\win32\\\\lib', 'c:\\\\Users\\\\jz421\\\\AppData\\\\Local\\\\anaconda3\\\\envs\\\\ieeg\\\\Lib\\\\site-packages\\\\Pythonwin']\n"
     ]
    },
    {
     "name": "stderr",
     "output_type": "stream",
     "text": [
      "c:\\Users\\jz421\\AppData\\Local\\anaconda3\\envs\\ieeg\\Lib\\site-packages\\tqdm\\auto.py:21: TqdmWarning: IProgress not found. Please update jupyter and ipywidgets. See https://ipywidgets.readthedocs.io/en/stable/user_install.html\n",
      "  from .autonotebook import tqdm as notebook_tqdm\n"
     ]
    }
   ],
   "source": [
    "import sys\n",
    "print(sys.path)\n",
    "sys.path.append(\"C:/Users/jz421/Desktop/GlobalLocal/IEEG_Pipelines/\") #need to do this cuz otherwise ieeg isn't added to path...\n",
    "\n",
    "from ieeg.navigate import channel_outlier_marker, trial_ieeg, crop_empty_data, \\\n",
    "    outliers_to_nan\n",
    "from ieeg.io import raw_from_layout, get_data\n",
    "from ieeg.timefreq.utils import crop_pad\n",
    "from ieeg.timefreq import gamma\n",
    "from ieeg.calc.scaling import rescale\n",
    "import mne\n",
    "import os\n",
    "import numpy as np\n",
    "from ieeg.calc.reshape import make_data_same\n",
    "from ieeg.calc.stats import time_perm_cluster, window_averaged_shuffle\n",
    "from ieeg.viz.mri import gen_labels\n",
    "\n",
    "from misc_functions import calculate_RTs, save_channels_to_file, save_sig_chans, load_sig_chans, channel_names_to_indices, filter_and_average_epochs, permutation_test, perform_permutation_test_across_electrodes, perform_permutation_test_within_electrodes, add_accuracy_to_epochs\n",
    "import matplotlib.pyplot as plt\n",
    "from collections import OrderedDict, defaultdict\n",
    "import json\n",
    "# still need to test if the permutation test functions load in properly.\n",
    "import pandas as pd\n",
    "from statsmodels.stats.multitest import multipletests\n",
    "import statsmodels.api as sm\n",
    "from statsmodels.formula.api import ols\n",
    "from statsmodels.stats.anova import anova_lm"
   ]
  },
  {
   "cell_type": "markdown",
   "metadata": {},
   "source": [
    "### make subjects rois to electrodes dict. Don't need to run this more than once."
   ]
  },
  {
   "cell_type": "code",
   "execution_count": 2,
   "metadata": {},
   "outputs": [],
   "source": [
    "# Initialize the outer dictionary.\n",
    "subjects_electrodestoROIs_dict = {}"
   ]
  },
  {
   "cell_type": "code",
   "execution_count": 3,
   "metadata": {},
   "outputs": [
    {
     "name": "stdout",
     "output_type": "stream",
     "text": [
      "Extracting EDF parameters from C:\\Users\\jz421\\Box\\CoganLab\\BIDS-1.1_GlobalLocal\\BIDS\\derivatives\\clean\\sub-D0057\\ieeg\\sub-D0057_task-GlobalLocal_acq-01_run-01_desc-clean_ieeg.edf...\n",
      "EDF file detected\n",
      "Setting channel info structure...\n",
      "Creating raw.info structure...\n",
      "Reading events from C:\\Users\\jz421\\Box\\CoganLab\\BIDS-1.1_GlobalLocal\\BIDS\\derivatives\\clean\\sub-D0057\\ieeg\\sub-D0057_task-GlobalLocal_acq-01_run-01_desc-clean_events.tsv.\n",
      "Reading channel info from C:\\Users\\jz421\\Box\\CoganLab\\BIDS-1.1_GlobalLocal\\BIDS\\derivatives\\clean\\sub-D0057\\ieeg\\sub-D0057_task-GlobalLocal_acq-01_run-01_desc-clean_channels.tsv.\n",
      "Reading electrode coords from C:\\Users\\jz421\\Box\\CoganLab\\BIDS-1.1_GlobalLocal\\BIDS\\derivatives\\clean\\sub-D0057\\ieeg\\sub-D0057_acq-01_space-ACPC_electrodes.tsv.\n",
      "Extracting EDF parameters from C:\\Users\\jz421\\Box\\CoganLab\\BIDS-1.1_GlobalLocal\\BIDS\\derivatives\\clean\\sub-D0057\\ieeg\\sub-D0057_task-GlobalLocal_acq-01_run-02_desc-clean_ieeg.edf...\n",
      "EDF file detected\n",
      "Setting channel info structure...\n",
      "Creating raw.info structure...\n"
     ]
    },
    {
     "name": "stderr",
     "output_type": "stream",
     "text": [
      "C:\\Users\\jz421\\Desktop\\GlobalLocal\\IEEG_Pipelines\\ieeg\\io.py:113: RuntimeWarning: The number of channels in the channels.tsv sidecar file (179) does not match the number of channels in the raw data file (178). Will not try to set channel names.\n",
      "  new_raw = read_raw_bids(bids_path=BIDS_path, verbose=verbose)\n",
      "C:\\Users\\jz421\\Desktop\\GlobalLocal\\IEEG_Pipelines\\ieeg\\io.py:113: RuntimeWarning: Cannot set channel type for the following channels, as they are missing in the raw data: Trigger\n",
      "  new_raw = read_raw_bids(bids_path=BIDS_path, verbose=verbose)\n"
     ]
    },
    {
     "name": "stdout",
     "output_type": "stream",
     "text": [
      "Reading events from C:\\Users\\jz421\\Box\\CoganLab\\BIDS-1.1_GlobalLocal\\BIDS\\derivatives\\clean\\sub-D0057\\ieeg\\sub-D0057_task-GlobalLocal_acq-01_run-02_desc-clean_events.tsv.\n",
      "Reading channel info from C:\\Users\\jz421\\Box\\CoganLab\\BIDS-1.1_GlobalLocal\\BIDS\\derivatives\\clean\\sub-D0057\\ieeg\\sub-D0057_task-GlobalLocal_acq-01_run-02_desc-clean_channels.tsv.\n",
      "Reading electrode coords from C:\\Users\\jz421\\Box\\CoganLab\\BIDS-1.1_GlobalLocal\\BIDS\\derivatives\\clean\\sub-D0057\\ieeg\\sub-D0057_acq-01_space-ACPC_electrodes.tsv.\n",
      "Extracting EDF parameters from C:\\Users\\jz421\\Box\\CoganLab\\BIDS-1.1_GlobalLocal\\BIDS\\derivatives\\clean\\sub-D0057\\ieeg\\sub-D0057_task-GlobalLocal_acq-01_run-03_desc-clean_ieeg.edf...\n",
      "EDF file detected\n",
      "Setting channel info structure...\n",
      "Creating raw.info structure...\n"
     ]
    },
    {
     "name": "stderr",
     "output_type": "stream",
     "text": [
      "C:\\Users\\jz421\\Desktop\\GlobalLocal\\IEEG_Pipelines\\ieeg\\io.py:113: RuntimeWarning: Omitted 228 annotation(s) that were outside data range.\n",
      "  new_raw = read_raw_bids(bids_path=BIDS_path, verbose=verbose)\n",
      "C:\\Users\\jz421\\Desktop\\GlobalLocal\\IEEG_Pipelines\\ieeg\\io.py:113: RuntimeWarning: The number of channels in the channels.tsv sidecar file (179) does not match the number of channels in the raw data file (178). Will not try to set channel names.\n",
      "  new_raw = read_raw_bids(bids_path=BIDS_path, verbose=verbose)\n",
      "C:\\Users\\jz421\\Desktop\\GlobalLocal\\IEEG_Pipelines\\ieeg\\io.py:113: RuntimeWarning: Cannot set channel type for the following channels, as they are missing in the raw data: Trigger\n",
      "  new_raw = read_raw_bids(bids_path=BIDS_path, verbose=verbose)\n"
     ]
    },
    {
     "name": "stdout",
     "output_type": "stream",
     "text": [
      "Reading events from C:\\Users\\jz421\\Box\\CoganLab\\BIDS-1.1_GlobalLocal\\BIDS\\derivatives\\clean\\sub-D0057\\ieeg\\sub-D0057_task-GlobalLocal_acq-01_run-03_desc-clean_events.tsv.\n",
      "Reading channel info from C:\\Users\\jz421\\Box\\CoganLab\\BIDS-1.1_GlobalLocal\\BIDS\\derivatives\\clean\\sub-D0057\\ieeg\\sub-D0057_task-GlobalLocal_acq-01_run-03_desc-clean_channels.tsv.\n",
      "Reading electrode coords from C:\\Users\\jz421\\Box\\CoganLab\\BIDS-1.1_GlobalLocal\\BIDS\\derivatives\\clean\\sub-D0057\\ieeg\\sub-D0057_acq-01_space-ACPC_electrodes.tsv.\n",
      "Extracting EDF parameters from C:\\Users\\jz421\\Box\\CoganLab\\BIDS-1.1_GlobalLocal\\BIDS\\derivatives\\clean\\sub-D0057\\ieeg\\sub-D0057_task-GlobalLocal_acq-01_run-04_desc-clean_ieeg.edf...\n",
      "EDF file detected\n",
      "Setting channel info structure...\n",
      "Creating raw.info structure...\n"
     ]
    },
    {
     "name": "stderr",
     "output_type": "stream",
     "text": [
      "C:\\Users\\jz421\\Desktop\\GlobalLocal\\IEEG_Pipelines\\ieeg\\io.py:113: RuntimeWarning: Omitted 228 annotation(s) that were outside data range.\n",
      "  new_raw = read_raw_bids(bids_path=BIDS_path, verbose=verbose)\n",
      "C:\\Users\\jz421\\Desktop\\GlobalLocal\\IEEG_Pipelines\\ieeg\\io.py:113: RuntimeWarning: The number of channels in the channels.tsv sidecar file (179) does not match the number of channels in the raw data file (178). Will not try to set channel names.\n",
      "  new_raw = read_raw_bids(bids_path=BIDS_path, verbose=verbose)\n",
      "C:\\Users\\jz421\\Desktop\\GlobalLocal\\IEEG_Pipelines\\ieeg\\io.py:113: RuntimeWarning: Cannot set channel type for the following channels, as they are missing in the raw data: Trigger\n",
      "  new_raw = read_raw_bids(bids_path=BIDS_path, verbose=verbose)\n"
     ]
    },
    {
     "name": "stdout",
     "output_type": "stream",
     "text": [
      "Reading events from C:\\Users\\jz421\\Box\\CoganLab\\BIDS-1.1_GlobalLocal\\BIDS\\derivatives\\clean\\sub-D0057\\ieeg\\sub-D0057_task-GlobalLocal_acq-01_run-04_desc-clean_events.tsv.\n",
      "Reading channel info from C:\\Users\\jz421\\Box\\CoganLab\\BIDS-1.1_GlobalLocal\\BIDS\\derivatives\\clean\\sub-D0057\\ieeg\\sub-D0057_task-GlobalLocal_acq-01_run-04_desc-clean_channels.tsv.\n",
      "Reading electrode coords from C:\\Users\\jz421\\Box\\CoganLab\\BIDS-1.1_GlobalLocal\\BIDS\\derivatives\\clean\\sub-D0057\\ieeg\\sub-D0057_acq-01_space-ACPC_electrodes.tsv.\n"
     ]
    },
    {
     "name": "stderr",
     "output_type": "stream",
     "text": [
      "C:\\Users\\jz421\\Desktop\\GlobalLocal\\IEEG_Pipelines\\ieeg\\io.py:113: RuntimeWarning: Omitted 226 annotation(s) that were outside data range.\n",
      "  new_raw = read_raw_bids(bids_path=BIDS_path, verbose=verbose)\n",
      "C:\\Users\\jz421\\Desktop\\GlobalLocal\\IEEG_Pipelines\\ieeg\\io.py:113: RuntimeWarning: The number of channels in the channels.tsv sidecar file (179) does not match the number of channels in the raw data file (178). Will not try to set channel names.\n",
      "  new_raw = read_raw_bids(bids_path=BIDS_path, verbose=verbose)\n",
      "C:\\Users\\jz421\\Desktop\\GlobalLocal\\IEEG_Pipelines\\ieeg\\io.py:113: RuntimeWarning: Cannot set channel type for the following channels, as they are missing in the raw data: Trigger\n",
      "  new_raw = read_raw_bids(bids_path=BIDS_path, verbose=verbose)\n"
     ]
    },
    {
     "name": "stdout",
     "output_type": "stream",
     "text": [
      "good channels before dropping bads: 178\n",
      "filt channels before dropping bads: 178\n",
      "outlier round 1 channels: ['RAMT8']\n",
      "outlier round 2 channels: ['RAMT8', 'RPI16']\n",
      "Bad channels in 'good': ['RAMT8', 'RPI16']\n",
      "Bad channels in 'good' after dropping once: []\n",
      "good channels after dropping bads: 176\n",
      "filt channels after dropping bads: 176\n",
      "Reading 0 ... 3219820  =      0.000 ...  1572.178 secs...\n",
      "Applying average reference.\n",
      "Applying a custom ('sEEG',) reference.\n",
      "Extracting EDF parameters from C:\\Users\\jz421\\Box\\CoganLab\\BIDS-1.1_GlobalLocal\\BIDS\\derivatives\\clean\\sub-D0059\\ieeg\\sub-D0059_task-GlobalLocal_acq-01_run-01_desc-clean_ieeg.edf...\n",
      "EDF file detected\n",
      "Setting channel info structure...\n",
      "Creating raw.info structure...\n",
      "Reading events from C:\\Users\\jz421\\Box\\CoganLab\\BIDS-1.1_GlobalLocal\\BIDS\\derivatives\\clean\\sub-D0059\\ieeg\\sub-D0059_task-GlobalLocal_acq-01_run-01_desc-clean_events.tsv.\n",
      "Reading channel info from C:\\Users\\jz421\\Box\\CoganLab\\BIDS-1.1_GlobalLocal\\BIDS\\derivatives\\clean\\sub-D0059\\ieeg\\sub-D0059_task-GlobalLocal_acq-01_run-01_desc-clean_channels.tsv.\n",
      "Reading electrode coords from C:\\Users\\jz421\\Box\\CoganLab\\BIDS-1.1_GlobalLocal\\BIDS\\derivatives\\clean\\sub-D0059\\ieeg\\sub-D0059_acq-01_space-ACPC_electrodes.tsv.\n",
      "Not fully anonymizing info - keeping his_id, sex, and hand info\n",
      "Extracting EDF parameters from C:\\Users\\jz421\\Box\\CoganLab\\BIDS-1.1_GlobalLocal\\BIDS\\derivatives\\clean\\sub-D0059\\ieeg\\sub-D0059_task-GlobalLocal_acq-01_run-02_desc-clean_ieeg.edf...\n",
      "EDF file detected\n",
      "Setting channel info structure...\n",
      "Creating raw.info structure...\n"
     ]
    },
    {
     "name": "stderr",
     "output_type": "stream",
     "text": [
      "C:\\Users\\jz421\\Desktop\\GlobalLocal\\IEEG_Pipelines\\ieeg\\io.py:113: RuntimeWarning: The number of channels in the channels.tsv sidecar file (185) does not match the number of channels in the raw data file (184). Will not try to set channel names.\n",
      "  new_raw = read_raw_bids(bids_path=BIDS_path, verbose=verbose)\n",
      "C:\\Users\\jz421\\Desktop\\GlobalLocal\\IEEG_Pipelines\\ieeg\\io.py:113: RuntimeWarning: Cannot set channel type for the following channels, as they are missing in the raw data: Trigger\n",
      "  new_raw = read_raw_bids(bids_path=BIDS_path, verbose=verbose)\n"
     ]
    },
    {
     "name": "stdout",
     "output_type": "stream",
     "text": [
      "Reading events from C:\\Users\\jz421\\Box\\CoganLab\\BIDS-1.1_GlobalLocal\\BIDS\\derivatives\\clean\\sub-D0059\\ieeg\\sub-D0059_task-GlobalLocal_acq-01_run-02_desc-clean_events.tsv.\n",
      "Reading channel info from C:\\Users\\jz421\\Box\\CoganLab\\BIDS-1.1_GlobalLocal\\BIDS\\derivatives\\clean\\sub-D0059\\ieeg\\sub-D0059_task-GlobalLocal_acq-01_run-02_desc-clean_channels.tsv.\n",
      "Reading electrode coords from C:\\Users\\jz421\\Box\\CoganLab\\BIDS-1.1_GlobalLocal\\BIDS\\derivatives\\clean\\sub-D0059\\ieeg\\sub-D0059_acq-01_space-ACPC_electrodes.tsv.\n",
      "Not fully anonymizing info - keeping his_id, sex, and hand info\n",
      "Extracting EDF parameters from C:\\Users\\jz421\\Box\\CoganLab\\BIDS-1.1_GlobalLocal\\BIDS\\derivatives\\clean\\sub-D0059\\ieeg\\sub-D0059_task-GlobalLocal_acq-01_run-03_desc-clean_ieeg.edf...\n",
      "EDF file detected\n",
      "Setting channel info structure...\n",
      "Creating raw.info structure...\n"
     ]
    },
    {
     "name": "stderr",
     "output_type": "stream",
     "text": [
      "C:\\Users\\jz421\\Desktop\\GlobalLocal\\IEEG_Pipelines\\ieeg\\io.py:113: RuntimeWarning: Omitted 228 annotation(s) that were outside data range.\n",
      "  new_raw = read_raw_bids(bids_path=BIDS_path, verbose=verbose)\n",
      "C:\\Users\\jz421\\Desktop\\GlobalLocal\\IEEG_Pipelines\\ieeg\\io.py:113: RuntimeWarning: The number of channels in the channels.tsv sidecar file (185) does not match the number of channels in the raw data file (184). Will not try to set channel names.\n",
      "  new_raw = read_raw_bids(bids_path=BIDS_path, verbose=verbose)\n",
      "C:\\Users\\jz421\\Desktop\\GlobalLocal\\IEEG_Pipelines\\ieeg\\io.py:113: RuntimeWarning: Cannot set channel type for the following channels, as they are missing in the raw data: Trigger\n",
      "  new_raw = read_raw_bids(bids_path=BIDS_path, verbose=verbose)\n"
     ]
    },
    {
     "name": "stdout",
     "output_type": "stream",
     "text": [
      "Reading events from C:\\Users\\jz421\\Box\\CoganLab\\BIDS-1.1_GlobalLocal\\BIDS\\derivatives\\clean\\sub-D0059\\ieeg\\sub-D0059_task-GlobalLocal_acq-01_run-03_desc-clean_events.tsv.\n",
      "Reading channel info from C:\\Users\\jz421\\Box\\CoganLab\\BIDS-1.1_GlobalLocal\\BIDS\\derivatives\\clean\\sub-D0059\\ieeg\\sub-D0059_task-GlobalLocal_acq-01_run-03_desc-clean_channels.tsv.\n",
      "Reading electrode coords from C:\\Users\\jz421\\Box\\CoganLab\\BIDS-1.1_GlobalLocal\\BIDS\\derivatives\\clean\\sub-D0059\\ieeg\\sub-D0059_acq-01_space-ACPC_electrodes.tsv.\n",
      "Not fully anonymizing info - keeping his_id, sex, and hand info\n",
      "Extracting EDF parameters from C:\\Users\\jz421\\Box\\CoganLab\\BIDS-1.1_GlobalLocal\\BIDS\\derivatives\\clean\\sub-D0059\\ieeg\\sub-D0059_task-GlobalLocal_acq-01_run-04_desc-clean_ieeg.edf...\n",
      "EDF file detected\n",
      "Setting channel info structure...\n",
      "Creating raw.info structure...\n"
     ]
    },
    {
     "name": "stderr",
     "output_type": "stream",
     "text": [
      "C:\\Users\\jz421\\Desktop\\GlobalLocal\\IEEG_Pipelines\\ieeg\\io.py:113: RuntimeWarning: Omitted 228 annotation(s) that were outside data range.\n",
      "  new_raw = read_raw_bids(bids_path=BIDS_path, verbose=verbose)\n",
      "C:\\Users\\jz421\\Desktop\\GlobalLocal\\IEEG_Pipelines\\ieeg\\io.py:113: RuntimeWarning: The number of channels in the channels.tsv sidecar file (185) does not match the number of channels in the raw data file (184). Will not try to set channel names.\n",
      "  new_raw = read_raw_bids(bids_path=BIDS_path, verbose=verbose)\n",
      "C:\\Users\\jz421\\Desktop\\GlobalLocal\\IEEG_Pipelines\\ieeg\\io.py:113: RuntimeWarning: Cannot set channel type for the following channels, as they are missing in the raw data: Trigger\n",
      "  new_raw = read_raw_bids(bids_path=BIDS_path, verbose=verbose)\n"
     ]
    },
    {
     "name": "stdout",
     "output_type": "stream",
     "text": [
      "Reading events from C:\\Users\\jz421\\Box\\CoganLab\\BIDS-1.1_GlobalLocal\\BIDS\\derivatives\\clean\\sub-D0059\\ieeg\\sub-D0059_task-GlobalLocal_acq-01_run-04_desc-clean_events.tsv.\n",
      "Reading channel info from C:\\Users\\jz421\\Box\\CoganLab\\BIDS-1.1_GlobalLocal\\BIDS\\derivatives\\clean\\sub-D0059\\ieeg\\sub-D0059_task-GlobalLocal_acq-01_run-04_desc-clean_channels.tsv.\n",
      "Reading electrode coords from C:\\Users\\jz421\\Box\\CoganLab\\BIDS-1.1_GlobalLocal\\BIDS\\derivatives\\clean\\sub-D0059\\ieeg\\sub-D0059_acq-01_space-ACPC_electrodes.tsv.\n",
      "Not fully anonymizing info - keeping his_id, sex, and hand info\n"
     ]
    },
    {
     "name": "stderr",
     "output_type": "stream",
     "text": [
      "C:\\Users\\jz421\\Desktop\\GlobalLocal\\IEEG_Pipelines\\ieeg\\io.py:113: RuntimeWarning: Omitted 226 annotation(s) that were outside data range.\n",
      "  new_raw = read_raw_bids(bids_path=BIDS_path, verbose=verbose)\n",
      "C:\\Users\\jz421\\Desktop\\GlobalLocal\\IEEG_Pipelines\\ieeg\\io.py:113: RuntimeWarning: The number of channels in the channels.tsv sidecar file (185) does not match the number of channels in the raw data file (184). Will not try to set channel names.\n",
      "  new_raw = read_raw_bids(bids_path=BIDS_path, verbose=verbose)\n",
      "C:\\Users\\jz421\\Desktop\\GlobalLocal\\IEEG_Pipelines\\ieeg\\io.py:113: RuntimeWarning: Cannot set channel type for the following channels, as they are missing in the raw data: Trigger\n",
      "  new_raw = read_raw_bids(bids_path=BIDS_path, verbose=verbose)\n"
     ]
    },
    {
     "name": "stdout",
     "output_type": "stream",
     "text": [
      "good channels before dropping bads: 184\n",
      "filt channels before dropping bads: 184\n",
      "outlier round 1 channels: ['LAIP9']\n",
      "outlier round 1 channels: ['LAIP9', 'LAIP14']\n",
      "outlier round 1 channels: ['LAIP9', 'LAIP14', 'LMMT2']\n",
      "outlier round 1 channels: ['LAIP9', 'LAIP14', 'LMMT2', 'LMMT12']\n",
      "outlier round 1 channels: ['LAIP9', 'LAIP14', 'LMMT2', 'LMMT12', 'LMPT10']\n",
      "outlier round 1 channels: ['LAIP9', 'LAIP14', 'LMMT2', 'LMMT12', 'LMPT10', 'LMPT11']\n",
      "outlier round 2 channels: ['LAIP9', 'LAIP14', 'LMMT2', 'LMMT12', 'LMPT10', 'LMPT11', 'LMPF15']\n",
      "outlier round 2 channels: ['LAIP9', 'LAIP14', 'LMMT2', 'LMMT12', 'LMPT10', 'LMPT11', 'LMPF15', 'LMMT1']\n",
      "outlier round 2 channels: ['LAIP9', 'LAIP14', 'LMMT2', 'LMMT12', 'LMPT10', 'LMPT11', 'LMPF15', 'LMMT1', 'LMMT3']\n",
      "outlier round 2 channels: ['LAIP9', 'LAIP14', 'LMMT2', 'LMMT12', 'LMPT10', 'LMPT11', 'LMPF15', 'LMMT1', 'LMMT3', 'LMMT11']\n",
      "Bad channels in 'good': ['LAIP9', 'LAIP14', 'LMMT2', 'LMMT12', 'LMPT10', 'LMPT11', 'LMPF15', 'LMMT1', 'LMMT3', 'LMMT11']\n",
      "Bad channels in 'good' after dropping once: []\n",
      "good channels after dropping bads: 174\n",
      "filt channels after dropping bads: 174\n",
      "Reading 0 ... 3242460  =      0.000 ...  1583.232 secs...\n",
      "Applying average reference.\n",
      "Applying a custom ('sEEG',) reference.\n",
      "Extracting EDF parameters from C:\\Users\\jz421\\Box\\CoganLab\\BIDS-1.1_GlobalLocal\\BIDS\\derivatives\\clean\\sub-D0063\\ieeg\\sub-D0063_task-GlobalLocal_acq-01_run-01_desc-clean_ieeg.edf...\n",
      "EDF file detected\n",
      "Setting channel info structure...\n",
      "Creating raw.info structure...\n",
      "Reading events from C:\\Users\\jz421\\Box\\CoganLab\\BIDS-1.1_GlobalLocal\\BIDS\\derivatives\\clean\\sub-D0063\\ieeg\\sub-D0063_task-GlobalLocal_acq-01_run-01_desc-clean_events.tsv.\n",
      "Reading channel info from C:\\Users\\jz421\\Box\\CoganLab\\BIDS-1.1_GlobalLocal\\BIDS\\derivatives\\clean\\sub-D0063\\ieeg\\sub-D0063_task-GlobalLocal_acq-01_run-01_desc-clean_channels.tsv.\n",
      "Reading electrode coords from C:\\Users\\jz421\\Box\\CoganLab\\BIDS-1.1_GlobalLocal\\BIDS\\derivatives\\clean\\sub-D0063\\ieeg\\sub-D0063_acq-01_space-ACPC_electrodes.tsv.\n",
      "Not fully anonymizing info - keeping his_id, sex, and hand info\n",
      "Extracting EDF parameters from C:\\Users\\jz421\\Box\\CoganLab\\BIDS-1.1_GlobalLocal\\BIDS\\derivatives\\clean\\sub-D0063\\ieeg\\sub-D0063_task-GlobalLocal_acq-01_run-02_desc-clean_ieeg.edf...\n",
      "EDF file detected\n",
      "Setting channel info structure...\n",
      "Creating raw.info structure...\n"
     ]
    },
    {
     "name": "stderr",
     "output_type": "stream",
     "text": [
      "C:\\Users\\jz421\\Desktop\\GlobalLocal\\IEEG_Pipelines\\ieeg\\io.py:113: RuntimeWarning: The number of channels in the channels.tsv sidecar file (241) does not match the number of channels in the raw data file (240). Will not try to set channel names.\n",
      "  new_raw = read_raw_bids(bids_path=BIDS_path, verbose=verbose)\n",
      "C:\\Users\\jz421\\Desktop\\GlobalLocal\\IEEG_Pipelines\\ieeg\\io.py:113: RuntimeWarning: Cannot set channel type for the following channels, as they are missing in the raw data: Trigger\n",
      "  new_raw = read_raw_bids(bids_path=BIDS_path, verbose=verbose)\n"
     ]
    },
    {
     "name": "stdout",
     "output_type": "stream",
     "text": [
      "Reading events from C:\\Users\\jz421\\Box\\CoganLab\\BIDS-1.1_GlobalLocal\\BIDS\\derivatives\\clean\\sub-D0063\\ieeg\\sub-D0063_task-GlobalLocal_acq-01_run-02_desc-clean_events.tsv.\n",
      "Reading channel info from C:\\Users\\jz421\\Box\\CoganLab\\BIDS-1.1_GlobalLocal\\BIDS\\derivatives\\clean\\sub-D0063\\ieeg\\sub-D0063_task-GlobalLocal_acq-01_run-02_desc-clean_channels.tsv.\n",
      "Reading electrode coords from C:\\Users\\jz421\\Box\\CoganLab\\BIDS-1.1_GlobalLocal\\BIDS\\derivatives\\clean\\sub-D0063\\ieeg\\sub-D0063_acq-01_space-ACPC_electrodes.tsv.\n",
      "Not fully anonymizing info - keeping his_id, sex, and hand info\n",
      "Extracting EDF parameters from C:\\Users\\jz421\\Box\\CoganLab\\BIDS-1.1_GlobalLocal\\BIDS\\derivatives\\clean\\sub-D0063\\ieeg\\sub-D0063_task-GlobalLocal_acq-01_run-03_desc-clean_ieeg.edf...\n",
      "EDF file detected\n",
      "Setting channel info structure...\n",
      "Creating raw.info structure...\n"
     ]
    },
    {
     "name": "stderr",
     "output_type": "stream",
     "text": [
      "C:\\Users\\jz421\\Desktop\\GlobalLocal\\IEEG_Pipelines\\ieeg\\io.py:113: RuntimeWarning: Omitted 227 annotation(s) that were outside data range.\n",
      "  new_raw = read_raw_bids(bids_path=BIDS_path, verbose=verbose)\n",
      "C:\\Users\\jz421\\Desktop\\GlobalLocal\\IEEG_Pipelines\\ieeg\\io.py:113: RuntimeWarning: The number of channels in the channels.tsv sidecar file (241) does not match the number of channels in the raw data file (240). Will not try to set channel names.\n",
      "  new_raw = read_raw_bids(bids_path=BIDS_path, verbose=verbose)\n",
      "C:\\Users\\jz421\\Desktop\\GlobalLocal\\IEEG_Pipelines\\ieeg\\io.py:113: RuntimeWarning: Cannot set channel type for the following channels, as they are missing in the raw data: Trigger\n",
      "  new_raw = read_raw_bids(bids_path=BIDS_path, verbose=verbose)\n"
     ]
    },
    {
     "name": "stdout",
     "output_type": "stream",
     "text": [
      "Reading events from C:\\Users\\jz421\\Box\\CoganLab\\BIDS-1.1_GlobalLocal\\BIDS\\derivatives\\clean\\sub-D0063\\ieeg\\sub-D0063_task-GlobalLocal_acq-01_run-03_desc-clean_events.tsv.\n",
      "Reading channel info from C:\\Users\\jz421\\Box\\CoganLab\\BIDS-1.1_GlobalLocal\\BIDS\\derivatives\\clean\\sub-D0063\\ieeg\\sub-D0063_task-GlobalLocal_acq-01_run-03_desc-clean_channels.tsv.\n",
      "Reading electrode coords from C:\\Users\\jz421\\Box\\CoganLab\\BIDS-1.1_GlobalLocal\\BIDS\\derivatives\\clean\\sub-D0063\\ieeg\\sub-D0063_acq-01_space-ACPC_electrodes.tsv.\n",
      "Not fully anonymizing info - keeping his_id, sex, and hand info\n",
      "Extracting EDF parameters from C:\\Users\\jz421\\Box\\CoganLab\\BIDS-1.1_GlobalLocal\\BIDS\\derivatives\\clean\\sub-D0063\\ieeg\\sub-D0063_task-GlobalLocal_acq-01_run-04_desc-clean_ieeg.edf...\n",
      "EDF file detected\n",
      "Setting channel info structure...\n",
      "Creating raw.info structure...\n"
     ]
    },
    {
     "name": "stderr",
     "output_type": "stream",
     "text": [
      "C:\\Users\\jz421\\Desktop\\GlobalLocal\\IEEG_Pipelines\\ieeg\\io.py:113: RuntimeWarning: Omitted 228 annotation(s) that were outside data range.\n",
      "  new_raw = read_raw_bids(bids_path=BIDS_path, verbose=verbose)\n",
      "C:\\Users\\jz421\\Desktop\\GlobalLocal\\IEEG_Pipelines\\ieeg\\io.py:113: RuntimeWarning: The number of channels in the channels.tsv sidecar file (241) does not match the number of channels in the raw data file (240). Will not try to set channel names.\n",
      "  new_raw = read_raw_bids(bids_path=BIDS_path, verbose=verbose)\n",
      "C:\\Users\\jz421\\Desktop\\GlobalLocal\\IEEG_Pipelines\\ieeg\\io.py:113: RuntimeWarning: Cannot set channel type for the following channels, as they are missing in the raw data: Trigger\n",
      "  new_raw = read_raw_bids(bids_path=BIDS_path, verbose=verbose)\n"
     ]
    },
    {
     "name": "stdout",
     "output_type": "stream",
     "text": [
      "Reading events from C:\\Users\\jz421\\Box\\CoganLab\\BIDS-1.1_GlobalLocal\\BIDS\\derivatives\\clean\\sub-D0063\\ieeg\\sub-D0063_task-GlobalLocal_acq-01_run-04_desc-clean_events.tsv.\n",
      "Reading channel info from C:\\Users\\jz421\\Box\\CoganLab\\BIDS-1.1_GlobalLocal\\BIDS\\derivatives\\clean\\sub-D0063\\ieeg\\sub-D0063_task-GlobalLocal_acq-01_run-04_desc-clean_channels.tsv.\n",
      "Reading electrode coords from C:\\Users\\jz421\\Box\\CoganLab\\BIDS-1.1_GlobalLocal\\BIDS\\derivatives\\clean\\sub-D0063\\ieeg\\sub-D0063_acq-01_space-ACPC_electrodes.tsv.\n",
      "Not fully anonymizing info - keeping his_id, sex, and hand info\n"
     ]
    },
    {
     "name": "stderr",
     "output_type": "stream",
     "text": [
      "C:\\Users\\jz421\\Desktop\\GlobalLocal\\IEEG_Pipelines\\ieeg\\io.py:113: RuntimeWarning: Omitted 220 annotation(s) that were outside data range.\n",
      "  new_raw = read_raw_bids(bids_path=BIDS_path, verbose=verbose)\n",
      "C:\\Users\\jz421\\Desktop\\GlobalLocal\\IEEG_Pipelines\\ieeg\\io.py:113: RuntimeWarning: The number of channels in the channels.tsv sidecar file (241) does not match the number of channels in the raw data file (240). Will not try to set channel names.\n",
      "  new_raw = read_raw_bids(bids_path=BIDS_path, verbose=verbose)\n",
      "C:\\Users\\jz421\\Desktop\\GlobalLocal\\IEEG_Pipelines\\ieeg\\io.py:113: RuntimeWarning: Cannot set channel type for the following channels, as they are missing in the raw data: Trigger\n",
      "  new_raw = read_raw_bids(bids_path=BIDS_path, verbose=verbose)\n"
     ]
    },
    {
     "name": "stdout",
     "output_type": "stream",
     "text": [
      "good channels before dropping bads: 240\n",
      "filt channels before dropping bads: 240\n",
      "outlier round 1 channels: ['RMMT14']\n",
      "outlier round 2 channels: ['RMMT14', 'LOF10']\n",
      "outlier round 2 channels: ['RMMT14', 'LOF10', 'LOF14']\n",
      "outlier round 2 channels: ['RMMT14', 'LOF10', 'LOF14', 'ROF2']\n",
      "outlier round 2 channels: ['RMMT14', 'LOF10', 'LOF14', 'ROF2', 'RAMF4']\n",
      "Bad channels in 'good': ['RMMT14', 'LOF10', 'LOF14', 'ROF2', 'RAMF4']\n",
      "Bad channels in 'good' after dropping once: []\n",
      "good channels after dropping bads: 235\n",
      "filt channels after dropping bads: 235\n",
      "Reading 0 ... 3223070  =      0.000 ...  1573.765 secs...\n",
      "Applying average reference.\n",
      "Applying a custom ('sEEG',) reference.\n",
      "Extracting EDF parameters from C:\\Users\\jz421\\Box\\CoganLab\\BIDS-1.1_GlobalLocal\\BIDS\\derivatives\\clean\\sub-D0065\\ieeg\\sub-D0065_task-GlobalLocal_acq-01_run-01_desc-clean_ieeg.edf...\n",
      "EDF file detected\n",
      "Setting channel info structure...\n",
      "Creating raw.info structure...\n",
      "Reading events from C:\\Users\\jz421\\Box\\CoganLab\\BIDS-1.1_GlobalLocal\\BIDS\\derivatives\\clean\\sub-D0065\\ieeg\\sub-D0065_task-GlobalLocal_acq-01_run-01_desc-clean_events.tsv.\n",
      "Reading channel info from C:\\Users\\jz421\\Box\\CoganLab\\BIDS-1.1_GlobalLocal\\BIDS\\derivatives\\clean\\sub-D0065\\ieeg\\sub-D0065_task-GlobalLocal_acq-01_run-01_desc-clean_channels.tsv.\n",
      "Reading electrode coords from C:\\Users\\jz421\\Box\\CoganLab\\BIDS-1.1_GlobalLocal\\BIDS\\derivatives\\clean\\sub-D0065\\ieeg\\sub-D0065_acq-01_space-ACPC_electrodes.tsv.\n",
      "Not fully anonymizing info - keeping his_id, sex, and hand info\n",
      "Extracting EDF parameters from C:\\Users\\jz421\\Box\\CoganLab\\BIDS-1.1_GlobalLocal\\BIDS\\derivatives\\clean\\sub-D0065\\ieeg\\sub-D0065_task-GlobalLocal_acq-01_run-02_desc-clean_ieeg.edf...\n",
      "EDF file detected\n",
      "Setting channel info structure...\n",
      "Creating raw.info structure...\n"
     ]
    },
    {
     "name": "stderr",
     "output_type": "stream",
     "text": [
      "C:\\Users\\jz421\\Desktop\\GlobalLocal\\IEEG_Pipelines\\ieeg\\io.py:113: RuntimeWarning: The number of channels in the channels.tsv sidecar file (221) does not match the number of channels in the raw data file (220). Will not try to set channel names.\n",
      "  new_raw = read_raw_bids(bids_path=BIDS_path, verbose=verbose)\n",
      "C:\\Users\\jz421\\Desktop\\GlobalLocal\\IEEG_Pipelines\\ieeg\\io.py:113: RuntimeWarning: Cannot set channel type for the following channels, as they are missing in the raw data: Trigger\n",
      "  new_raw = read_raw_bids(bids_path=BIDS_path, verbose=verbose)\n"
     ]
    },
    {
     "name": "stdout",
     "output_type": "stream",
     "text": [
      "Reading events from C:\\Users\\jz421\\Box\\CoganLab\\BIDS-1.1_GlobalLocal\\BIDS\\derivatives\\clean\\sub-D0065\\ieeg\\sub-D0065_task-GlobalLocal_acq-01_run-02_desc-clean_events.tsv.\n",
      "Reading channel info from C:\\Users\\jz421\\Box\\CoganLab\\BIDS-1.1_GlobalLocal\\BIDS\\derivatives\\clean\\sub-D0065\\ieeg\\sub-D0065_task-GlobalLocal_acq-01_run-02_desc-clean_channels.tsv.\n",
      "Reading electrode coords from C:\\Users\\jz421\\Box\\CoganLab\\BIDS-1.1_GlobalLocal\\BIDS\\derivatives\\clean\\sub-D0065\\ieeg\\sub-D0065_acq-01_space-ACPC_electrodes.tsv.\n",
      "Not fully anonymizing info - keeping his_id, sex, and hand info\n",
      "Extracting EDF parameters from C:\\Users\\jz421\\Box\\CoganLab\\BIDS-1.1_GlobalLocal\\BIDS\\derivatives\\clean\\sub-D0065\\ieeg\\sub-D0065_task-GlobalLocal_acq-01_run-03_desc-clean_ieeg.edf...\n",
      "EDF file detected\n",
      "Setting channel info structure...\n",
      "Creating raw.info structure...\n"
     ]
    },
    {
     "name": "stderr",
     "output_type": "stream",
     "text": [
      "C:\\Users\\jz421\\Desktop\\GlobalLocal\\IEEG_Pipelines\\ieeg\\io.py:113: RuntimeWarning: Omitted 217 annotation(s) that were outside data range.\n",
      "  new_raw = read_raw_bids(bids_path=BIDS_path, verbose=verbose)\n",
      "C:\\Users\\jz421\\Desktop\\GlobalLocal\\IEEG_Pipelines\\ieeg\\io.py:113: RuntimeWarning: The number of channels in the channels.tsv sidecar file (221) does not match the number of channels in the raw data file (220). Will not try to set channel names.\n",
      "  new_raw = read_raw_bids(bids_path=BIDS_path, verbose=verbose)\n",
      "C:\\Users\\jz421\\Desktop\\GlobalLocal\\IEEG_Pipelines\\ieeg\\io.py:113: RuntimeWarning: Cannot set channel type for the following channels, as they are missing in the raw data: Trigger\n",
      "  new_raw = read_raw_bids(bids_path=BIDS_path, verbose=verbose)\n"
     ]
    },
    {
     "name": "stdout",
     "output_type": "stream",
     "text": [
      "Reading events from C:\\Users\\jz421\\Box\\CoganLab\\BIDS-1.1_GlobalLocal\\BIDS\\derivatives\\clean\\sub-D0065\\ieeg\\sub-D0065_task-GlobalLocal_acq-01_run-03_desc-clean_events.tsv.\n",
      "Reading channel info from C:\\Users\\jz421\\Box\\CoganLab\\BIDS-1.1_GlobalLocal\\BIDS\\derivatives\\clean\\sub-D0065\\ieeg\\sub-D0065_task-GlobalLocal_acq-01_run-03_desc-clean_channels.tsv.\n",
      "Reading electrode coords from C:\\Users\\jz421\\Box\\CoganLab\\BIDS-1.1_GlobalLocal\\BIDS\\derivatives\\clean\\sub-D0065\\ieeg\\sub-D0065_acq-01_space-ACPC_electrodes.tsv.\n",
      "Not fully anonymizing info - keeping his_id, sex, and hand info\n",
      "Extracting EDF parameters from C:\\Users\\jz421\\Box\\CoganLab\\BIDS-1.1_GlobalLocal\\BIDS\\derivatives\\clean\\sub-D0065\\ieeg\\sub-D0065_task-GlobalLocal_acq-01_run-04_desc-clean_ieeg.edf...\n",
      "EDF file detected\n",
      "Setting channel info structure...\n",
      "Creating raw.info structure...\n"
     ]
    },
    {
     "name": "stderr",
     "output_type": "stream",
     "text": [
      "C:\\Users\\jz421\\Desktop\\GlobalLocal\\IEEG_Pipelines\\ieeg\\io.py:113: RuntimeWarning: Omitted 225 annotation(s) that were outside data range.\n",
      "  new_raw = read_raw_bids(bids_path=BIDS_path, verbose=verbose)\n",
      "C:\\Users\\jz421\\Desktop\\GlobalLocal\\IEEG_Pipelines\\ieeg\\io.py:113: RuntimeWarning: The number of channels in the channels.tsv sidecar file (221) does not match the number of channels in the raw data file (220). Will not try to set channel names.\n",
      "  new_raw = read_raw_bids(bids_path=BIDS_path, verbose=verbose)\n",
      "C:\\Users\\jz421\\Desktop\\GlobalLocal\\IEEG_Pipelines\\ieeg\\io.py:113: RuntimeWarning: Cannot set channel type for the following channels, as they are missing in the raw data: Trigger\n",
      "  new_raw = read_raw_bids(bids_path=BIDS_path, verbose=verbose)\n"
     ]
    },
    {
     "name": "stdout",
     "output_type": "stream",
     "text": [
      "Reading events from C:\\Users\\jz421\\Box\\CoganLab\\BIDS-1.1_GlobalLocal\\BIDS\\derivatives\\clean\\sub-D0065\\ieeg\\sub-D0065_task-GlobalLocal_acq-01_run-04_desc-clean_events.tsv.\n",
      "Reading channel info from C:\\Users\\jz421\\Box\\CoganLab\\BIDS-1.1_GlobalLocal\\BIDS\\derivatives\\clean\\sub-D0065\\ieeg\\sub-D0065_task-GlobalLocal_acq-01_run-04_desc-clean_channels.tsv.\n",
      "Reading electrode coords from C:\\Users\\jz421\\Box\\CoganLab\\BIDS-1.1_GlobalLocal\\BIDS\\derivatives\\clean\\sub-D0065\\ieeg\\sub-D0065_acq-01_space-ACPC_electrodes.tsv.\n",
      "Not fully anonymizing info - keeping his_id, sex, and hand info\n"
     ]
    },
    {
     "name": "stderr",
     "output_type": "stream",
     "text": [
      "C:\\Users\\jz421\\Desktop\\GlobalLocal\\IEEG_Pipelines\\ieeg\\io.py:113: RuntimeWarning: Omitted 222 annotation(s) that were outside data range.\n",
      "  new_raw = read_raw_bids(bids_path=BIDS_path, verbose=verbose)\n",
      "C:\\Users\\jz421\\Desktop\\GlobalLocal\\IEEG_Pipelines\\ieeg\\io.py:113: RuntimeWarning: The number of channels in the channels.tsv sidecar file (221) does not match the number of channels in the raw data file (220). Will not try to set channel names.\n",
      "  new_raw = read_raw_bids(bids_path=BIDS_path, verbose=verbose)\n",
      "C:\\Users\\jz421\\Desktop\\GlobalLocal\\IEEG_Pipelines\\ieeg\\io.py:113: RuntimeWarning: Cannot set channel type for the following channels, as they are missing in the raw data: Trigger\n",
      "  new_raw = read_raw_bids(bids_path=BIDS_path, verbose=verbose)\n"
     ]
    },
    {
     "name": "stdout",
     "output_type": "stream",
     "text": [
      "good channels before dropping bads: 220\n",
      "filt channels before dropping bads: 220\n",
      "outlier round 1 channels: ['RPIF3']\n",
      "outlier round 1 channels: ['RPIF3', 'RAIO9']\n",
      "outlier round 2 channels: ['RPIF3', 'RAIO9', 'RAMT15']\n",
      "outlier round 2 channels: ['RPIF3', 'RAIO9', 'RAMT15', 'RMMT8']\n",
      "Bad channels in 'good': ['RPIF3', 'RAIO9', 'RAMT15', 'RMMT8']\n",
      "Bad channels in 'good' after dropping once: []\n",
      "good channels after dropping bads: 216\n",
      "filt channels after dropping bads: 216\n",
      "Reading 0 ... 3588355  =      0.000 ...  1752.126 secs...\n",
      "Applying average reference.\n",
      "Applying a custom ('sEEG',) reference.\n",
      "Extracting EDF parameters from C:\\Users\\jz421\\Box\\CoganLab\\BIDS-1.1_GlobalLocal\\BIDS\\derivatives\\clean\\sub-D0069\\ieeg\\sub-D0069_task-GlobalLocal_acq-01_run-01_desc-clean_ieeg.edf...\n",
      "EDF file detected\n",
      "Setting channel info structure...\n",
      "Creating raw.info structure...\n",
      "Reading events from C:\\Users\\jz421\\Box\\CoganLab\\BIDS-1.1_GlobalLocal\\BIDS\\derivatives\\clean\\sub-D0069\\ieeg\\sub-D0069_task-GlobalLocal_acq-01_run-01_desc-clean_events.tsv.\n",
      "Reading channel info from C:\\Users\\jz421\\Box\\CoganLab\\BIDS-1.1_GlobalLocal\\BIDS\\derivatives\\clean\\sub-D0069\\ieeg\\sub-D0069_task-GlobalLocal_acq-01_run-01_desc-clean_channels.tsv.\n",
      "Reading electrode coords from C:\\Users\\jz421\\Box\\CoganLab\\BIDS-1.1_GlobalLocal\\BIDS\\derivatives\\clean\\sub-D0069\\ieeg\\sub-D0069_acq-01_space-ACPC_electrodes.tsv.\n",
      "Not fully anonymizing info - keeping his_id, sex, and hand info\n",
      "Extracting EDF parameters from C:\\Users\\jz421\\Box\\CoganLab\\BIDS-1.1_GlobalLocal\\BIDS\\derivatives\\clean\\sub-D0069\\ieeg\\sub-D0069_task-GlobalLocal_acq-01_run-02_desc-clean_ieeg.edf...\n",
      "EDF file detected\n",
      "Setting channel info structure...\n",
      "Creating raw.info structure...\n"
     ]
    },
    {
     "name": "stderr",
     "output_type": "stream",
     "text": [
      "C:\\Users\\jz421\\Desktop\\GlobalLocal\\IEEG_Pipelines\\ieeg\\io.py:113: RuntimeWarning: The number of channels in the channels.tsv sidecar file (133) does not match the number of channels in the raw data file (132). Will not try to set channel names.\n",
      "  new_raw = read_raw_bids(bids_path=BIDS_path, verbose=verbose)\n",
      "C:\\Users\\jz421\\Desktop\\GlobalLocal\\IEEG_Pipelines\\ieeg\\io.py:113: RuntimeWarning: Cannot set channel type for the following channels, as they are missing in the raw data: Trigger\n",
      "  new_raw = read_raw_bids(bids_path=BIDS_path, verbose=verbose)\n"
     ]
    },
    {
     "name": "stdout",
     "output_type": "stream",
     "text": [
      "Reading events from C:\\Users\\jz421\\Box\\CoganLab\\BIDS-1.1_GlobalLocal\\BIDS\\derivatives\\clean\\sub-D0069\\ieeg\\sub-D0069_task-GlobalLocal_acq-01_run-02_desc-clean_events.tsv.\n",
      "Reading channel info from C:\\Users\\jz421\\Box\\CoganLab\\BIDS-1.1_GlobalLocal\\BIDS\\derivatives\\clean\\sub-D0069\\ieeg\\sub-D0069_task-GlobalLocal_acq-01_run-02_desc-clean_channels.tsv.\n",
      "Reading electrode coords from C:\\Users\\jz421\\Box\\CoganLab\\BIDS-1.1_GlobalLocal\\BIDS\\derivatives\\clean\\sub-D0069\\ieeg\\sub-D0069_acq-01_space-ACPC_electrodes.tsv.\n",
      "Not fully anonymizing info - keeping his_id, sex, and hand info\n",
      "Extracting EDF parameters from C:\\Users\\jz421\\Box\\CoganLab\\BIDS-1.1_GlobalLocal\\BIDS\\derivatives\\clean\\sub-D0069\\ieeg\\sub-D0069_task-GlobalLocal_acq-01_run-03_desc-clean_ieeg.edf...\n",
      "EDF file detected\n",
      "Setting channel info structure...\n",
      "Creating raw.info structure...\n"
     ]
    },
    {
     "name": "stderr",
     "output_type": "stream",
     "text": [
      "C:\\Users\\jz421\\Desktop\\GlobalLocal\\IEEG_Pipelines\\ieeg\\io.py:113: RuntimeWarning: Omitted 224 annotation(s) that were outside data range.\n",
      "  new_raw = read_raw_bids(bids_path=BIDS_path, verbose=verbose)\n",
      "C:\\Users\\jz421\\Desktop\\GlobalLocal\\IEEG_Pipelines\\ieeg\\io.py:113: RuntimeWarning: The number of channels in the channels.tsv sidecar file (133) does not match the number of channels in the raw data file (132). Will not try to set channel names.\n",
      "  new_raw = read_raw_bids(bids_path=BIDS_path, verbose=verbose)\n",
      "C:\\Users\\jz421\\Desktop\\GlobalLocal\\IEEG_Pipelines\\ieeg\\io.py:113: RuntimeWarning: Cannot set channel type for the following channels, as they are missing in the raw data: Trigger\n",
      "  new_raw = read_raw_bids(bids_path=BIDS_path, verbose=verbose)\n"
     ]
    },
    {
     "name": "stdout",
     "output_type": "stream",
     "text": [
      "Reading events from C:\\Users\\jz421\\Box\\CoganLab\\BIDS-1.1_GlobalLocal\\BIDS\\derivatives\\clean\\sub-D0069\\ieeg\\sub-D0069_task-GlobalLocal_acq-01_run-03_desc-clean_events.tsv.\n",
      "Reading channel info from C:\\Users\\jz421\\Box\\CoganLab\\BIDS-1.1_GlobalLocal\\BIDS\\derivatives\\clean\\sub-D0069\\ieeg\\sub-D0069_task-GlobalLocal_acq-01_run-03_desc-clean_channels.tsv.\n",
      "Reading electrode coords from C:\\Users\\jz421\\Box\\CoganLab\\BIDS-1.1_GlobalLocal\\BIDS\\derivatives\\clean\\sub-D0069\\ieeg\\sub-D0069_acq-01_space-ACPC_electrodes.tsv.\n",
      "Not fully anonymizing info - keeping his_id, sex, and hand info\n",
      "Extracting EDF parameters from C:\\Users\\jz421\\Box\\CoganLab\\BIDS-1.1_GlobalLocal\\BIDS\\derivatives\\clean\\sub-D0069\\ieeg\\sub-D0069_task-GlobalLocal_acq-01_run-04_desc-clean_ieeg.edf...\n",
      "EDF file detected\n",
      "Setting channel info structure...\n",
      "Creating raw.info structure...\n"
     ]
    },
    {
     "name": "stderr",
     "output_type": "stream",
     "text": [
      "C:\\Users\\jz421\\Desktop\\GlobalLocal\\IEEG_Pipelines\\ieeg\\io.py:113: RuntimeWarning: Omitted 224 annotation(s) that were outside data range.\n",
      "  new_raw = read_raw_bids(bids_path=BIDS_path, verbose=verbose)\n",
      "C:\\Users\\jz421\\Desktop\\GlobalLocal\\IEEG_Pipelines\\ieeg\\io.py:113: RuntimeWarning: The number of channels in the channels.tsv sidecar file (133) does not match the number of channels in the raw data file (132). Will not try to set channel names.\n",
      "  new_raw = read_raw_bids(bids_path=BIDS_path, verbose=verbose)\n",
      "C:\\Users\\jz421\\Desktop\\GlobalLocal\\IEEG_Pipelines\\ieeg\\io.py:113: RuntimeWarning: Cannot set channel type for the following channels, as they are missing in the raw data: Trigger\n",
      "  new_raw = read_raw_bids(bids_path=BIDS_path, verbose=verbose)\n"
     ]
    },
    {
     "name": "stdout",
     "output_type": "stream",
     "text": [
      "Reading events from C:\\Users\\jz421\\Box\\CoganLab\\BIDS-1.1_GlobalLocal\\BIDS\\derivatives\\clean\\sub-D0069\\ieeg\\sub-D0069_task-GlobalLocal_acq-01_run-04_desc-clean_events.tsv.\n",
      "Reading channel info from C:\\Users\\jz421\\Box\\CoganLab\\BIDS-1.1_GlobalLocal\\BIDS\\derivatives\\clean\\sub-D0069\\ieeg\\sub-D0069_task-GlobalLocal_acq-01_run-04_desc-clean_channels.tsv.\n",
      "Reading electrode coords from C:\\Users\\jz421\\Box\\CoganLab\\BIDS-1.1_GlobalLocal\\BIDS\\derivatives\\clean\\sub-D0069\\ieeg\\sub-D0069_acq-01_space-ACPC_electrodes.tsv.\n",
      "Not fully anonymizing info - keeping his_id, sex, and hand info\n"
     ]
    },
    {
     "name": "stderr",
     "output_type": "stream",
     "text": [
      "C:\\Users\\jz421\\Desktop\\GlobalLocal\\IEEG_Pipelines\\ieeg\\io.py:113: RuntimeWarning: Omitted 214 annotation(s) that were outside data range.\n",
      "  new_raw = read_raw_bids(bids_path=BIDS_path, verbose=verbose)\n",
      "C:\\Users\\jz421\\Desktop\\GlobalLocal\\IEEG_Pipelines\\ieeg\\io.py:113: RuntimeWarning: The number of channels in the channels.tsv sidecar file (133) does not match the number of channels in the raw data file (132). Will not try to set channel names.\n",
      "  new_raw = read_raw_bids(bids_path=BIDS_path, verbose=verbose)\n",
      "C:\\Users\\jz421\\Desktop\\GlobalLocal\\IEEG_Pipelines\\ieeg\\io.py:113: RuntimeWarning: Cannot set channel type for the following channels, as they are missing in the raw data: Trigger\n",
      "  new_raw = read_raw_bids(bids_path=BIDS_path, verbose=verbose)\n"
     ]
    },
    {
     "name": "stdout",
     "output_type": "stream",
     "text": [
      "good channels before dropping bads: 132\n",
      "filt channels before dropping bads: 132\n",
      "outlier round 1 channels: ['LTMS11']\n",
      "outlier round 2 channels: ['LTMS11', 'LTAS9']\n",
      "Bad channels in 'good': ['LTMS11', 'LTAS9']\n",
      "Bad channels in 'good' after dropping once: []\n",
      "good channels after dropping bads: 130\n",
      "filt channels after dropping bads: 130\n",
      "Reading 0 ... 3711369  =      0.000 ...  1812.192 secs...\n",
      "Applying average reference.\n",
      "Applying a custom ('sEEG',) reference.\n",
      "Extracting EDF parameters from C:\\Users\\jz421\\Box\\CoganLab\\BIDS-1.1_GlobalLocal\\BIDS\\derivatives\\clean\\sub-D0071\\ieeg\\sub-D0071_task-GlobalLocal_acq-01_run-01_desc-clean_ieeg.edf...\n",
      "EDF file detected\n",
      "Setting channel info structure...\n",
      "Creating raw.info structure...\n",
      "Reading events from C:\\Users\\jz421\\Box\\CoganLab\\BIDS-1.1_GlobalLocal\\BIDS\\derivatives\\clean\\sub-D0071\\ieeg\\sub-D0071_task-GlobalLocal_acq-01_run-01_desc-clean_events.tsv.\n",
      "Reading channel info from C:\\Users\\jz421\\Box\\CoganLab\\BIDS-1.1_GlobalLocal\\BIDS\\derivatives\\clean\\sub-D0071\\ieeg\\sub-D0071_task-GlobalLocal_acq-01_run-01_desc-clean_channels.tsv.\n",
      "Reading electrode coords from C:\\Users\\jz421\\Box\\CoganLab\\BIDS-1.1_GlobalLocal\\BIDS\\derivatives\\clean\\sub-D0071\\ieeg\\sub-D0071_acq-01_space-ACPC_electrodes.tsv.\n",
      "Not fully anonymizing info - keeping his_id, sex, and hand info\n",
      "Extracting EDF parameters from C:\\Users\\jz421\\Box\\CoganLab\\BIDS-1.1_GlobalLocal\\BIDS\\derivatives\\clean\\sub-D0071\\ieeg\\sub-D0071_task-GlobalLocal_acq-01_run-02_desc-clean_ieeg.edf...\n",
      "EDF file detected\n",
      "Setting channel info structure...\n",
      "Creating raw.info structure...\n"
     ]
    },
    {
     "name": "stderr",
     "output_type": "stream",
     "text": [
      "C:\\Users\\jz421\\Desktop\\GlobalLocal\\IEEG_Pipelines\\ieeg\\io.py:113: RuntimeWarning: The number of channels in the channels.tsv sidecar file (163) does not match the number of channels in the raw data file (162). Will not try to set channel names.\n",
      "  new_raw = read_raw_bids(bids_path=BIDS_path, verbose=verbose)\n",
      "C:\\Users\\jz421\\Desktop\\GlobalLocal\\IEEG_Pipelines\\ieeg\\io.py:113: RuntimeWarning: Cannot set channel type for the following channels, as they are missing in the raw data: Trigger\n",
      "  new_raw = read_raw_bids(bids_path=BIDS_path, verbose=verbose)\n"
     ]
    },
    {
     "name": "stdout",
     "output_type": "stream",
     "text": [
      "Reading events from C:\\Users\\jz421\\Box\\CoganLab\\BIDS-1.1_GlobalLocal\\BIDS\\derivatives\\clean\\sub-D0071\\ieeg\\sub-D0071_task-GlobalLocal_acq-01_run-02_desc-clean_events.tsv.\n",
      "Reading channel info from C:\\Users\\jz421\\Box\\CoganLab\\BIDS-1.1_GlobalLocal\\BIDS\\derivatives\\clean\\sub-D0071\\ieeg\\sub-D0071_task-GlobalLocal_acq-01_run-02_desc-clean_channels.tsv.\n",
      "Reading electrode coords from C:\\Users\\jz421\\Box\\CoganLab\\BIDS-1.1_GlobalLocal\\BIDS\\derivatives\\clean\\sub-D0071\\ieeg\\sub-D0071_acq-01_space-ACPC_electrodes.tsv.\n",
      "Not fully anonymizing info - keeping his_id, sex, and hand info\n",
      "Extracting EDF parameters from C:\\Users\\jz421\\Box\\CoganLab\\BIDS-1.1_GlobalLocal\\BIDS\\derivatives\\clean\\sub-D0071\\ieeg\\sub-D0071_task-GlobalLocal_acq-01_run-03_desc-clean_ieeg.edf...\n",
      "EDF file detected\n",
      "Setting channel info structure...\n",
      "Creating raw.info structure...\n"
     ]
    },
    {
     "name": "stderr",
     "output_type": "stream",
     "text": [
      "C:\\Users\\jz421\\Desktop\\GlobalLocal\\IEEG_Pipelines\\ieeg\\io.py:113: RuntimeWarning: Omitted 228 annotation(s) that were outside data range.\n",
      "  new_raw = read_raw_bids(bids_path=BIDS_path, verbose=verbose)\n",
      "C:\\Users\\jz421\\Desktop\\GlobalLocal\\IEEG_Pipelines\\ieeg\\io.py:113: RuntimeWarning: The number of channels in the channels.tsv sidecar file (163) does not match the number of channels in the raw data file (162). Will not try to set channel names.\n",
      "  new_raw = read_raw_bids(bids_path=BIDS_path, verbose=verbose)\n",
      "C:\\Users\\jz421\\Desktop\\GlobalLocal\\IEEG_Pipelines\\ieeg\\io.py:113: RuntimeWarning: Cannot set channel type for the following channels, as they are missing in the raw data: Trigger\n",
      "  new_raw = read_raw_bids(bids_path=BIDS_path, verbose=verbose)\n"
     ]
    },
    {
     "name": "stdout",
     "output_type": "stream",
     "text": [
      "Reading events from C:\\Users\\jz421\\Box\\CoganLab\\BIDS-1.1_GlobalLocal\\BIDS\\derivatives\\clean\\sub-D0071\\ieeg\\sub-D0071_task-GlobalLocal_acq-01_run-03_desc-clean_events.tsv.\n",
      "Reading channel info from C:\\Users\\jz421\\Box\\CoganLab\\BIDS-1.1_GlobalLocal\\BIDS\\derivatives\\clean\\sub-D0071\\ieeg\\sub-D0071_task-GlobalLocal_acq-01_run-03_desc-clean_channels.tsv.\n",
      "Reading electrode coords from C:\\Users\\jz421\\Box\\CoganLab\\BIDS-1.1_GlobalLocal\\BIDS\\derivatives\\clean\\sub-D0071\\ieeg\\sub-D0071_acq-01_space-ACPC_electrodes.tsv.\n",
      "Not fully anonymizing info - keeping his_id, sex, and hand info\n",
      "Extracting EDF parameters from C:\\Users\\jz421\\Box\\CoganLab\\BIDS-1.1_GlobalLocal\\BIDS\\derivatives\\clean\\sub-D0071\\ieeg\\sub-D0071_task-GlobalLocal_acq-01_run-04_desc-clean_ieeg.edf...\n",
      "EDF file detected\n",
      "Setting channel info structure...\n",
      "Creating raw.info structure...\n"
     ]
    },
    {
     "name": "stderr",
     "output_type": "stream",
     "text": [
      "C:\\Users\\jz421\\Desktop\\GlobalLocal\\IEEG_Pipelines\\ieeg\\io.py:113: RuntimeWarning: Omitted 228 annotation(s) that were outside data range.\n",
      "  new_raw = read_raw_bids(bids_path=BIDS_path, verbose=verbose)\n",
      "C:\\Users\\jz421\\Desktop\\GlobalLocal\\IEEG_Pipelines\\ieeg\\io.py:113: RuntimeWarning: The number of channels in the channels.tsv sidecar file (163) does not match the number of channels in the raw data file (162). Will not try to set channel names.\n",
      "  new_raw = read_raw_bids(bids_path=BIDS_path, verbose=verbose)\n",
      "C:\\Users\\jz421\\Desktop\\GlobalLocal\\IEEG_Pipelines\\ieeg\\io.py:113: RuntimeWarning: Cannot set channel type for the following channels, as they are missing in the raw data: Trigger\n",
      "  new_raw = read_raw_bids(bids_path=BIDS_path, verbose=verbose)\n"
     ]
    },
    {
     "name": "stdout",
     "output_type": "stream",
     "text": [
      "Reading events from C:\\Users\\jz421\\Box\\CoganLab\\BIDS-1.1_GlobalLocal\\BIDS\\derivatives\\clean\\sub-D0071\\ieeg\\sub-D0071_task-GlobalLocal_acq-01_run-04_desc-clean_events.tsv.\n",
      "Reading channel info from C:\\Users\\jz421\\Box\\CoganLab\\BIDS-1.1_GlobalLocal\\BIDS\\derivatives\\clean\\sub-D0071\\ieeg\\sub-D0071_task-GlobalLocal_acq-01_run-04_desc-clean_channels.tsv.\n",
      "Reading electrode coords from C:\\Users\\jz421\\Box\\CoganLab\\BIDS-1.1_GlobalLocal\\BIDS\\derivatives\\clean\\sub-D0071\\ieeg\\sub-D0071_acq-01_space-ACPC_electrodes.tsv.\n"
     ]
    },
    {
     "name": "stderr",
     "output_type": "stream",
     "text": [
      "C:\\Users\\jz421\\Desktop\\GlobalLocal\\IEEG_Pipelines\\ieeg\\io.py:113: RuntimeWarning: Omitted 225 annotation(s) that were outside data range.\n",
      "  new_raw = read_raw_bids(bids_path=BIDS_path, verbose=verbose)\n",
      "C:\\Users\\jz421\\Desktop\\GlobalLocal\\IEEG_Pipelines\\ieeg\\io.py:113: RuntimeWarning: The number of channels in the channels.tsv sidecar file (163) does not match the number of channels in the raw data file (162). Will not try to set channel names.\n",
      "  new_raw = read_raw_bids(bids_path=BIDS_path, verbose=verbose)\n",
      "C:\\Users\\jz421\\Desktop\\GlobalLocal\\IEEG_Pipelines\\ieeg\\io.py:113: RuntimeWarning: Cannot set channel type for the following channels, as they are missing in the raw data: Trigger\n",
      "  new_raw = read_raw_bids(bids_path=BIDS_path, verbose=verbose)\n"
     ]
    },
    {
     "name": "stdout",
     "output_type": "stream",
     "text": [
      "Not fully anonymizing info - keeping his_id, sex, and hand info\n",
      "good channels before dropping bads: 162\n",
      "filt channels before dropping bads: 162\n",
      "outlier round 1 channels: ['RTAS7']\n",
      "outlier round 1 channels: ['RTAS7', 'RTMM15']\n",
      "outlier round 2 channels: ['RTAS7', 'RTMM15', 'RFO15']\n",
      "outlier round 2 channels: ['RTAS7', 'RTMM15', 'RFO15', 'RTAS8']\n",
      "outlier round 2 channels: ['RTAS7', 'RTMM15', 'RFO15', 'RTAS8', 'RTMM16']\n",
      "Bad channels in 'good': ['RTAS7', 'RTMM15', 'RFO15', 'RTAS8', 'RTMM16']\n",
      "Bad channels in 'good' after dropping once: []\n",
      "good channels after dropping bads: 157\n",
      "filt channels after dropping bads: 157\n",
      "Reading 0 ... 3455063  =      0.000 ...  1687.042 secs...\n",
      "Applying average reference.\n",
      "Applying a custom ('sEEG',) reference.\n",
      "Extracting EDF parameters from C:\\Users\\jz421\\Box\\CoganLab\\BIDS-1.1_GlobalLocal\\BIDS\\derivatives\\clean\\sub-D0077\\ieeg\\sub-D0077_task-GlobalLocal_acq-01_run-01_desc-clean_ieeg.edf...\n",
      "EDF file detected\n",
      "Setting channel info structure...\n",
      "Creating raw.info structure...\n",
      "Reading events from C:\\Users\\jz421\\Box\\CoganLab\\BIDS-1.1_GlobalLocal\\BIDS\\derivatives\\clean\\sub-D0077\\ieeg\\sub-D0077_task-GlobalLocal_acq-01_run-01_desc-clean_events.tsv.\n",
      "Reading channel info from C:\\Users\\jz421\\Box\\CoganLab\\BIDS-1.1_GlobalLocal\\BIDS\\derivatives\\clean\\sub-D0077\\ieeg\\sub-D0077_task-GlobalLocal_acq-01_run-01_desc-clean_channels.tsv.\n",
      "Reading electrode coords from C:\\Users\\jz421\\Box\\CoganLab\\BIDS-1.1_GlobalLocal\\BIDS\\derivatives\\clean\\sub-D0077\\ieeg\\sub-D0077_acq-01_space-ACPC_electrodes.tsv.\n",
      "Not fully anonymizing info - keeping his_id, sex, and hand info\n",
      "Extracting EDF parameters from C:\\Users\\jz421\\Box\\CoganLab\\BIDS-1.1_GlobalLocal\\BIDS\\derivatives\\clean\\sub-D0077\\ieeg\\sub-D0077_task-GlobalLocal_acq-01_run-02_desc-clean_ieeg.edf...\n",
      "EDF file detected\n",
      "Setting channel info structure...\n",
      "Creating raw.info structure...\n"
     ]
    },
    {
     "name": "stderr",
     "output_type": "stream",
     "text": [
      "C:\\Users\\jz421\\Desktop\\GlobalLocal\\IEEG_Pipelines\\ieeg\\io.py:113: RuntimeWarning: The number of channels in the channels.tsv sidecar file (135) does not match the number of channels in the raw data file (134). Will not try to set channel names.\n",
      "  new_raw = read_raw_bids(bids_path=BIDS_path, verbose=verbose)\n",
      "C:\\Users\\jz421\\Desktop\\GlobalLocal\\IEEG_Pipelines\\ieeg\\io.py:113: RuntimeWarning: Cannot set channel type for the following channels, as they are missing in the raw data: Trigger\n",
      "  new_raw = read_raw_bids(bids_path=BIDS_path, verbose=verbose)\n"
     ]
    },
    {
     "name": "stdout",
     "output_type": "stream",
     "text": [
      "Reading events from C:\\Users\\jz421\\Box\\CoganLab\\BIDS-1.1_GlobalLocal\\BIDS\\derivatives\\clean\\sub-D0077\\ieeg\\sub-D0077_task-GlobalLocal_acq-01_run-02_desc-clean_events.tsv.\n",
      "Reading channel info from C:\\Users\\jz421\\Box\\CoganLab\\BIDS-1.1_GlobalLocal\\BIDS\\derivatives\\clean\\sub-D0077\\ieeg\\sub-D0077_task-GlobalLocal_acq-01_run-02_desc-clean_channels.tsv.\n",
      "Reading electrode coords from C:\\Users\\jz421\\Box\\CoganLab\\BIDS-1.1_GlobalLocal\\BIDS\\derivatives\\clean\\sub-D0077\\ieeg\\sub-D0077_acq-01_space-ACPC_electrodes.tsv.\n",
      "Not fully anonymizing info - keeping his_id, sex, and hand info\n",
      "Extracting EDF parameters from C:\\Users\\jz421\\Box\\CoganLab\\BIDS-1.1_GlobalLocal\\BIDS\\derivatives\\clean\\sub-D0077\\ieeg\\sub-D0077_task-GlobalLocal_acq-01_run-03_desc-clean_ieeg.edf...\n",
      "EDF file detected\n",
      "Setting channel info structure...\n",
      "Creating raw.info structure...\n"
     ]
    },
    {
     "name": "stderr",
     "output_type": "stream",
     "text": [
      "C:\\Users\\jz421\\Desktop\\GlobalLocal\\IEEG_Pipelines\\ieeg\\io.py:113: RuntimeWarning: Omitted 225 annotation(s) that were outside data range.\n",
      "  new_raw = read_raw_bids(bids_path=BIDS_path, verbose=verbose)\n",
      "C:\\Users\\jz421\\Desktop\\GlobalLocal\\IEEG_Pipelines\\ieeg\\io.py:113: RuntimeWarning: The number of channels in the channels.tsv sidecar file (135) does not match the number of channels in the raw data file (134). Will not try to set channel names.\n",
      "  new_raw = read_raw_bids(bids_path=BIDS_path, verbose=verbose)\n",
      "C:\\Users\\jz421\\Desktop\\GlobalLocal\\IEEG_Pipelines\\ieeg\\io.py:113: RuntimeWarning: Cannot set channel type for the following channels, as they are missing in the raw data: Trigger\n",
      "  new_raw = read_raw_bids(bids_path=BIDS_path, verbose=verbose)\n"
     ]
    },
    {
     "name": "stdout",
     "output_type": "stream",
     "text": [
      "Reading events from C:\\Users\\jz421\\Box\\CoganLab\\BIDS-1.1_GlobalLocal\\BIDS\\derivatives\\clean\\sub-D0077\\ieeg\\sub-D0077_task-GlobalLocal_acq-01_run-03_desc-clean_events.tsv.\n",
      "Reading channel info from C:\\Users\\jz421\\Box\\CoganLab\\BIDS-1.1_GlobalLocal\\BIDS\\derivatives\\clean\\sub-D0077\\ieeg\\sub-D0077_task-GlobalLocal_acq-01_run-03_desc-clean_channels.tsv.\n",
      "Reading electrode coords from C:\\Users\\jz421\\Box\\CoganLab\\BIDS-1.1_GlobalLocal\\BIDS\\derivatives\\clean\\sub-D0077\\ieeg\\sub-D0077_acq-01_space-ACPC_electrodes.tsv.\n",
      "Not fully anonymizing info - keeping his_id, sex, and hand info\n",
      "Extracting EDF parameters from C:\\Users\\jz421\\Box\\CoganLab\\BIDS-1.1_GlobalLocal\\BIDS\\derivatives\\clean\\sub-D0077\\ieeg\\sub-D0077_task-GlobalLocal_acq-01_run-04_desc-clean_ieeg.edf...\n",
      "EDF file detected\n",
      "Setting channel info structure...\n",
      "Creating raw.info structure...\n"
     ]
    },
    {
     "name": "stderr",
     "output_type": "stream",
     "text": [
      "C:\\Users\\jz421\\Desktop\\GlobalLocal\\IEEG_Pipelines\\ieeg\\io.py:113: RuntimeWarning: Omitted 226 annotation(s) that were outside data range.\n",
      "  new_raw = read_raw_bids(bids_path=BIDS_path, verbose=verbose)\n",
      "C:\\Users\\jz421\\Desktop\\GlobalLocal\\IEEG_Pipelines\\ieeg\\io.py:113: RuntimeWarning: The number of channels in the channels.tsv sidecar file (135) does not match the number of channels in the raw data file (134). Will not try to set channel names.\n",
      "  new_raw = read_raw_bids(bids_path=BIDS_path, verbose=verbose)\n",
      "C:\\Users\\jz421\\Desktop\\GlobalLocal\\IEEG_Pipelines\\ieeg\\io.py:113: RuntimeWarning: Cannot set channel type for the following channels, as they are missing in the raw data: Trigger\n",
      "  new_raw = read_raw_bids(bids_path=BIDS_path, verbose=verbose)\n"
     ]
    },
    {
     "name": "stdout",
     "output_type": "stream",
     "text": [
      "Reading events from C:\\Users\\jz421\\Box\\CoganLab\\BIDS-1.1_GlobalLocal\\BIDS\\derivatives\\clean\\sub-D0077\\ieeg\\sub-D0077_task-GlobalLocal_acq-01_run-04_desc-clean_events.tsv.\n",
      "Reading channel info from C:\\Users\\jz421\\Box\\CoganLab\\BIDS-1.1_GlobalLocal\\BIDS\\derivatives\\clean\\sub-D0077\\ieeg\\sub-D0077_task-GlobalLocal_acq-01_run-04_desc-clean_channels.tsv.\n",
      "Reading electrode coords from C:\\Users\\jz421\\Box\\CoganLab\\BIDS-1.1_GlobalLocal\\BIDS\\derivatives\\clean\\sub-D0077\\ieeg\\sub-D0077_acq-01_space-ACPC_electrodes.tsv.\n",
      "Not fully anonymizing info - keeping his_id, sex, and hand info\n"
     ]
    },
    {
     "name": "stderr",
     "output_type": "stream",
     "text": [
      "C:\\Users\\jz421\\Desktop\\GlobalLocal\\IEEG_Pipelines\\ieeg\\io.py:113: RuntimeWarning: Omitted 219 annotation(s) that were outside data range.\n",
      "  new_raw = read_raw_bids(bids_path=BIDS_path, verbose=verbose)\n",
      "C:\\Users\\jz421\\Desktop\\GlobalLocal\\IEEG_Pipelines\\ieeg\\io.py:113: RuntimeWarning: The number of channels in the channels.tsv sidecar file (135) does not match the number of channels in the raw data file (134). Will not try to set channel names.\n",
      "  new_raw = read_raw_bids(bids_path=BIDS_path, verbose=verbose)\n",
      "C:\\Users\\jz421\\Desktop\\GlobalLocal\\IEEG_Pipelines\\ieeg\\io.py:113: RuntimeWarning: Cannot set channel type for the following channels, as they are missing in the raw data: Trigger\n",
      "  new_raw = read_raw_bids(bids_path=BIDS_path, verbose=verbose)\n"
     ]
    },
    {
     "name": "stdout",
     "output_type": "stream",
     "text": [
      "good channels before dropping bads: 134\n",
      "filt channels before dropping bads: 134\n",
      "outlier round 1 channels: ['ROAM8']\n",
      "outlier round 2 channels: ['ROAM8', 'RTAM1']\n",
      "outlier round 2 channels: ['ROAM8', 'RTAM1', 'ROPM7']\n",
      "Bad channels in 'good': ['ROAM8', 'RTAM1', 'ROPM7']\n",
      "Bad channels in 'good' after dropping once: []\n",
      "good channels after dropping bads: 131\n",
      "filt channels after dropping bads: 131\n",
      "Reading 0 ... 3671172  =      0.000 ...  1792.564 secs...\n",
      "Applying average reference.\n",
      "Applying a custom ('sEEG',) reference.\n",
      "Extracting EDF parameters from C:\\Users\\jz421\\Box\\CoganLab\\BIDS-1.1_GlobalLocal\\BIDS\\derivatives\\clean\\sub-D0090\\ieeg\\sub-D0090_task-GlobalLocal_acq-01_run-01_desc-clean_ieeg.edf...\n",
      "EDF file detected\n",
      "Setting channel info structure...\n",
      "Creating raw.info structure...\n",
      "Reading events from C:\\Users\\jz421\\Box\\CoganLab\\BIDS-1.1_GlobalLocal\\BIDS\\derivatives\\clean\\sub-D0090\\ieeg\\sub-D0090_task-GlobalLocal_acq-01_run-01_desc-clean_events.tsv.\n",
      "Reading channel info from C:\\Users\\jz421\\Box\\CoganLab\\BIDS-1.1_GlobalLocal\\BIDS\\derivatives\\clean\\sub-D0090\\ieeg\\sub-D0090_task-GlobalLocal_acq-01_run-01_desc-clean_channels.tsv.\n",
      "Reading electrode coords from C:\\Users\\jz421\\Box\\CoganLab\\BIDS-1.1_GlobalLocal\\BIDS\\derivatives\\clean\\sub-D0090\\ieeg\\sub-D0090_acq-01_space-ACPC_electrodes.tsv.\n",
      "Not fully anonymizing info - keeping his_id, sex, and hand info\n",
      "Extracting EDF parameters from C:\\Users\\jz421\\Box\\CoganLab\\BIDS-1.1_GlobalLocal\\BIDS\\derivatives\\clean\\sub-D0090\\ieeg\\sub-D0090_task-GlobalLocal_acq-01_run-02_desc-clean_ieeg.edf...\n",
      "EDF file detected\n",
      "Setting channel info structure...\n",
      "Creating raw.info structure...\n"
     ]
    },
    {
     "name": "stderr",
     "output_type": "stream",
     "text": [
      "C:\\Users\\jz421\\Desktop\\GlobalLocal\\IEEG_Pipelines\\ieeg\\io.py:113: RuntimeWarning: The number of channels in the channels.tsv sidecar file (165) does not match the number of channels in the raw data file (164). Will not try to set channel names.\n",
      "  new_raw = read_raw_bids(bids_path=BIDS_path, verbose=verbose)\n",
      "C:\\Users\\jz421\\Desktop\\GlobalLocal\\IEEG_Pipelines\\ieeg\\io.py:113: RuntimeWarning: Cannot set channel type for the following channels, as they are missing in the raw data: Trigger\n",
      "  new_raw = read_raw_bids(bids_path=BIDS_path, verbose=verbose)\n"
     ]
    },
    {
     "name": "stdout",
     "output_type": "stream",
     "text": [
      "Reading events from C:\\Users\\jz421\\Box\\CoganLab\\BIDS-1.1_GlobalLocal\\BIDS\\derivatives\\clean\\sub-D0090\\ieeg\\sub-D0090_task-GlobalLocal_acq-01_run-02_desc-clean_events.tsv.\n",
      "Reading channel info from C:\\Users\\jz421\\Box\\CoganLab\\BIDS-1.1_GlobalLocal\\BIDS\\derivatives\\clean\\sub-D0090\\ieeg\\sub-D0090_task-GlobalLocal_acq-01_run-02_desc-clean_channels.tsv.\n",
      "Reading electrode coords from C:\\Users\\jz421\\Box\\CoganLab\\BIDS-1.1_GlobalLocal\\BIDS\\derivatives\\clean\\sub-D0090\\ieeg\\sub-D0090_acq-01_space-ACPC_electrodes.tsv.\n",
      "Not fully anonymizing info - keeping his_id, sex, and hand info\n",
      "Extracting EDF parameters from C:\\Users\\jz421\\Box\\CoganLab\\BIDS-1.1_GlobalLocal\\BIDS\\derivatives\\clean\\sub-D0090\\ieeg\\sub-D0090_task-GlobalLocal_acq-01_run-03_desc-clean_ieeg.edf...\n",
      "EDF file detected\n",
      "Setting channel info structure...\n",
      "Creating raw.info structure...\n"
     ]
    },
    {
     "name": "stderr",
     "output_type": "stream",
     "text": [
      "C:\\Users\\jz421\\Desktop\\GlobalLocal\\IEEG_Pipelines\\ieeg\\io.py:113: RuntimeWarning: Omitted 226 annotation(s) that were outside data range.\n",
      "  new_raw = read_raw_bids(bids_path=BIDS_path, verbose=verbose)\n",
      "C:\\Users\\jz421\\Desktop\\GlobalLocal\\IEEG_Pipelines\\ieeg\\io.py:113: RuntimeWarning: The number of channels in the channels.tsv sidecar file (165) does not match the number of channels in the raw data file (164). Will not try to set channel names.\n",
      "  new_raw = read_raw_bids(bids_path=BIDS_path, verbose=verbose)\n",
      "C:\\Users\\jz421\\Desktop\\GlobalLocal\\IEEG_Pipelines\\ieeg\\io.py:113: RuntimeWarning: Cannot set channel type for the following channels, as they are missing in the raw data: Trigger\n",
      "  new_raw = read_raw_bids(bids_path=BIDS_path, verbose=verbose)\n"
     ]
    },
    {
     "name": "stdout",
     "output_type": "stream",
     "text": [
      "Reading events from C:\\Users\\jz421\\Box\\CoganLab\\BIDS-1.1_GlobalLocal\\BIDS\\derivatives\\clean\\sub-D0090\\ieeg\\sub-D0090_task-GlobalLocal_acq-01_run-03_desc-clean_events.tsv.\n",
      "Reading channel info from C:\\Users\\jz421\\Box\\CoganLab\\BIDS-1.1_GlobalLocal\\BIDS\\derivatives\\clean\\sub-D0090\\ieeg\\sub-D0090_task-GlobalLocal_acq-01_run-03_desc-clean_channels.tsv.\n",
      "Reading electrode coords from C:\\Users\\jz421\\Box\\CoganLab\\BIDS-1.1_GlobalLocal\\BIDS\\derivatives\\clean\\sub-D0090\\ieeg\\sub-D0090_acq-01_space-ACPC_electrodes.tsv.\n",
      "Not fully anonymizing info - keeping his_id, sex, and hand info\n",
      "Extracting EDF parameters from C:\\Users\\jz421\\Box\\CoganLab\\BIDS-1.1_GlobalLocal\\BIDS\\derivatives\\clean\\sub-D0090\\ieeg\\sub-D0090_task-GlobalLocal_acq-01_run-04_desc-clean_ieeg.edf...\n",
      "EDF file detected\n",
      "Setting channel info structure...\n",
      "Creating raw.info structure...\n"
     ]
    },
    {
     "name": "stderr",
     "output_type": "stream",
     "text": [
      "C:\\Users\\jz421\\Desktop\\GlobalLocal\\IEEG_Pipelines\\ieeg\\io.py:113: RuntimeWarning: Omitted 227 annotation(s) that were outside data range.\n",
      "  new_raw = read_raw_bids(bids_path=BIDS_path, verbose=verbose)\n",
      "C:\\Users\\jz421\\Desktop\\GlobalLocal\\IEEG_Pipelines\\ieeg\\io.py:113: RuntimeWarning: The number of channels in the channels.tsv sidecar file (165) does not match the number of channels in the raw data file (164). Will not try to set channel names.\n",
      "  new_raw = read_raw_bids(bids_path=BIDS_path, verbose=verbose)\n",
      "C:\\Users\\jz421\\Desktop\\GlobalLocal\\IEEG_Pipelines\\ieeg\\io.py:113: RuntimeWarning: Cannot set channel type for the following channels, as they are missing in the raw data: Trigger\n",
      "  new_raw = read_raw_bids(bids_path=BIDS_path, verbose=verbose)\n"
     ]
    },
    {
     "name": "stdout",
     "output_type": "stream",
     "text": [
      "Reading events from C:\\Users\\jz421\\Box\\CoganLab\\BIDS-1.1_GlobalLocal\\BIDS\\derivatives\\clean\\sub-D0090\\ieeg\\sub-D0090_task-GlobalLocal_acq-01_run-04_desc-clean_events.tsv.\n",
      "Reading channel info from C:\\Users\\jz421\\Box\\CoganLab\\BIDS-1.1_GlobalLocal\\BIDS\\derivatives\\clean\\sub-D0090\\ieeg\\sub-D0090_task-GlobalLocal_acq-01_run-04_desc-clean_channels.tsv.\n",
      "Reading electrode coords from C:\\Users\\jz421\\Box\\CoganLab\\BIDS-1.1_GlobalLocal\\BIDS\\derivatives\\clean\\sub-D0090\\ieeg\\sub-D0090_acq-01_space-ACPC_electrodes.tsv.\n",
      "Not fully anonymizing info - keeping his_id, sex, and hand info\n"
     ]
    },
    {
     "name": "stderr",
     "output_type": "stream",
     "text": [
      "C:\\Users\\jz421\\Desktop\\GlobalLocal\\IEEG_Pipelines\\ieeg\\io.py:113: RuntimeWarning: Omitted 226 annotation(s) that were outside data range.\n",
      "  new_raw = read_raw_bids(bids_path=BIDS_path, verbose=verbose)\n",
      "C:\\Users\\jz421\\Desktop\\GlobalLocal\\IEEG_Pipelines\\ieeg\\io.py:113: RuntimeWarning: The number of channels in the channels.tsv sidecar file (165) does not match the number of channels in the raw data file (164). Will not try to set channel names.\n",
      "  new_raw = read_raw_bids(bids_path=BIDS_path, verbose=verbose)\n",
      "C:\\Users\\jz421\\Desktop\\GlobalLocal\\IEEG_Pipelines\\ieeg\\io.py:113: RuntimeWarning: Cannot set channel type for the following channels, as they are missing in the raw data: Trigger\n",
      "  new_raw = read_raw_bids(bids_path=BIDS_path, verbose=verbose)\n"
     ]
    },
    {
     "name": "stdout",
     "output_type": "stream",
     "text": [
      "good channels before dropping bads: 164\n",
      "filt channels before dropping bads: 164\n",
      "outlier round 1 channels: ['RFO16']\n",
      "outlier round 1 channels: ['RFO16', 'RTMM3']\n",
      "outlier round 1 channels: ['RFO16', 'RTMM3', 'RTMM4']\n",
      "outlier round 2 channels: ['RFO16', 'RTMM3', 'RTMM4', 'RIP13']\n",
      "outlier round 2 channels: ['RFO16', 'RTMM3', 'RTMM4', 'RIP13', 'RIP14']\n",
      "outlier round 2 channels: ['RFO16', 'RTMM3', 'RTMM4', 'RIP13', 'RIP14', 'RTMS6']\n",
      "outlier round 2 channels: ['RFO16', 'RTMM3', 'RTMM4', 'RIP13', 'RIP14', 'RTMS6', 'RTMM12']\n",
      "Bad channels in 'good': ['RFO16', 'RTMM3', 'RTMM4', 'RIP13', 'RIP14', 'RTMS6', 'RTMM12']\n",
      "Bad channels in 'good' after dropping once: []\n",
      "good channels after dropping bads: 157\n",
      "filt channels after dropping bads: 157\n",
      "Reading 0 ... 3316055  =      0.000 ...  1619.167 secs...\n",
      "Applying average reference.\n",
      "Applying a custom ('sEEG',) reference.\n",
      "Extracting EDF parameters from C:\\Users\\jz421\\Box\\CoganLab\\BIDS-1.1_GlobalLocal\\BIDS\\derivatives\\clean\\sub-D0094\\ieeg\\sub-D0094_task-GlobalLocal_acq-01_run-01_desc-clean_ieeg.edf...\n",
      "EDF file detected\n",
      "Setting channel info structure...\n",
      "Creating raw.info structure...\n",
      "Reading events from C:\\Users\\jz421\\Box\\CoganLab\\BIDS-1.1_GlobalLocal\\BIDS\\derivatives\\clean\\sub-D0094\\ieeg\\sub-D0094_task-GlobalLocal_acq-01_run-01_desc-clean_events.tsv.\n",
      "Reading channel info from C:\\Users\\jz421\\Box\\CoganLab\\BIDS-1.1_GlobalLocal\\BIDS\\derivatives\\clean\\sub-D0094\\ieeg\\sub-D0094_task-GlobalLocal_acq-01_run-01_desc-clean_channels.tsv.\n",
      "Reading electrode coords from C:\\Users\\jz421\\Box\\CoganLab\\BIDS-1.1_GlobalLocal\\BIDS\\derivatives\\clean\\sub-D0094\\ieeg\\sub-D0094_acq-01_space-ACPC_electrodes.tsv.\n",
      "Not fully anonymizing info - keeping his_id, sex, and hand info\n",
      "Extracting EDF parameters from C:\\Users\\jz421\\Box\\CoganLab\\BIDS-1.1_GlobalLocal\\BIDS\\derivatives\\clean\\sub-D0094\\ieeg\\sub-D0094_task-GlobalLocal_acq-01_run-02_desc-clean_ieeg.edf...\n",
      "EDF file detected\n",
      "Setting channel info structure...\n",
      "Creating raw.info structure...\n"
     ]
    },
    {
     "name": "stderr",
     "output_type": "stream",
     "text": [
      "C:\\Users\\jz421\\Desktop\\GlobalLocal\\IEEG_Pipelines\\ieeg\\io.py:113: RuntimeWarning: The number of channels in the channels.tsv sidecar file (241) does not match the number of channels in the raw data file (240). Will not try to set channel names.\n",
      "  new_raw = read_raw_bids(bids_path=BIDS_path, verbose=verbose)\n",
      "C:\\Users\\jz421\\Desktop\\GlobalLocal\\IEEG_Pipelines\\ieeg\\io.py:113: RuntimeWarning: Cannot set channel type for the following channels, as they are missing in the raw data: Trigger\n",
      "  new_raw = read_raw_bids(bids_path=BIDS_path, verbose=verbose)\n"
     ]
    },
    {
     "name": "stdout",
     "output_type": "stream",
     "text": [
      "Reading events from C:\\Users\\jz421\\Box\\CoganLab\\BIDS-1.1_GlobalLocal\\BIDS\\derivatives\\clean\\sub-D0094\\ieeg\\sub-D0094_task-GlobalLocal_acq-01_run-02_desc-clean_events.tsv.\n",
      "Reading channel info from C:\\Users\\jz421\\Box\\CoganLab\\BIDS-1.1_GlobalLocal\\BIDS\\derivatives\\clean\\sub-D0094\\ieeg\\sub-D0094_task-GlobalLocal_acq-01_run-02_desc-clean_channels.tsv.\n",
      "Reading electrode coords from C:\\Users\\jz421\\Box\\CoganLab\\BIDS-1.1_GlobalLocal\\BIDS\\derivatives\\clean\\sub-D0094\\ieeg\\sub-D0094_acq-01_space-ACPC_electrodes.tsv.\n",
      "Not fully anonymizing info - keeping his_id, sex, and hand info\n",
      "Extracting EDF parameters from C:\\Users\\jz421\\Box\\CoganLab\\BIDS-1.1_GlobalLocal\\BIDS\\derivatives\\clean\\sub-D0094\\ieeg\\sub-D0094_task-GlobalLocal_acq-01_run-03_desc-clean_ieeg.edf...\n",
      "EDF file detected\n",
      "Setting channel info structure...\n",
      "Creating raw.info structure...\n"
     ]
    },
    {
     "name": "stderr",
     "output_type": "stream",
     "text": [
      "C:\\Users\\jz421\\Desktop\\GlobalLocal\\IEEG_Pipelines\\ieeg\\io.py:113: RuntimeWarning: Omitted 226 annotation(s) that were outside data range.\n",
      "  new_raw = read_raw_bids(bids_path=BIDS_path, verbose=verbose)\n",
      "C:\\Users\\jz421\\Desktop\\GlobalLocal\\IEEG_Pipelines\\ieeg\\io.py:113: RuntimeWarning: The number of channels in the channels.tsv sidecar file (241) does not match the number of channels in the raw data file (240). Will not try to set channel names.\n",
      "  new_raw = read_raw_bids(bids_path=BIDS_path, verbose=verbose)\n",
      "C:\\Users\\jz421\\Desktop\\GlobalLocal\\IEEG_Pipelines\\ieeg\\io.py:113: RuntimeWarning: Cannot set channel type for the following channels, as they are missing in the raw data: Trigger\n",
      "  new_raw = read_raw_bids(bids_path=BIDS_path, verbose=verbose)\n"
     ]
    },
    {
     "name": "stdout",
     "output_type": "stream",
     "text": [
      "Reading events from C:\\Users\\jz421\\Box\\CoganLab\\BIDS-1.1_GlobalLocal\\BIDS\\derivatives\\clean\\sub-D0094\\ieeg\\sub-D0094_task-GlobalLocal_acq-01_run-03_desc-clean_events.tsv.\n",
      "Reading channel info from C:\\Users\\jz421\\Box\\CoganLab\\BIDS-1.1_GlobalLocal\\BIDS\\derivatives\\clean\\sub-D0094\\ieeg\\sub-D0094_task-GlobalLocal_acq-01_run-03_desc-clean_channels.tsv.\n",
      "Reading electrode coords from C:\\Users\\jz421\\Box\\CoganLab\\BIDS-1.1_GlobalLocal\\BIDS\\derivatives\\clean\\sub-D0094\\ieeg\\sub-D0094_acq-01_space-ACPC_electrodes.tsv.\n",
      "Not fully anonymizing info - keeping his_id, sex, and hand info\n",
      "Extracting EDF parameters from C:\\Users\\jz421\\Box\\CoganLab\\BIDS-1.1_GlobalLocal\\BIDS\\derivatives\\clean\\sub-D0094\\ieeg\\sub-D0094_task-GlobalLocal_acq-01_run-04_desc-clean_ieeg.edf...\n",
      "EDF file detected\n",
      "Setting channel info structure...\n",
      "Creating raw.info structure...\n"
     ]
    },
    {
     "name": "stderr",
     "output_type": "stream",
     "text": [
      "C:\\Users\\jz421\\Desktop\\GlobalLocal\\IEEG_Pipelines\\ieeg\\io.py:113: RuntimeWarning: Omitted 224 annotation(s) that were outside data range.\n",
      "  new_raw = read_raw_bids(bids_path=BIDS_path, verbose=verbose)\n",
      "C:\\Users\\jz421\\Desktop\\GlobalLocal\\IEEG_Pipelines\\ieeg\\io.py:113: RuntimeWarning: The number of channels in the channels.tsv sidecar file (241) does not match the number of channels in the raw data file (240). Will not try to set channel names.\n",
      "  new_raw = read_raw_bids(bids_path=BIDS_path, verbose=verbose)\n",
      "C:\\Users\\jz421\\Desktop\\GlobalLocal\\IEEG_Pipelines\\ieeg\\io.py:113: RuntimeWarning: Cannot set channel type for the following channels, as they are missing in the raw data: Trigger\n",
      "  new_raw = read_raw_bids(bids_path=BIDS_path, verbose=verbose)\n"
     ]
    },
    {
     "name": "stdout",
     "output_type": "stream",
     "text": [
      "Reading events from C:\\Users\\jz421\\Box\\CoganLab\\BIDS-1.1_GlobalLocal\\BIDS\\derivatives\\clean\\sub-D0094\\ieeg\\sub-D0094_task-GlobalLocal_acq-01_run-04_desc-clean_events.tsv.\n",
      "Reading channel info from C:\\Users\\jz421\\Box\\CoganLab\\BIDS-1.1_GlobalLocal\\BIDS\\derivatives\\clean\\sub-D0094\\ieeg\\sub-D0094_task-GlobalLocal_acq-01_run-04_desc-clean_channels.tsv.\n",
      "Reading electrode coords from C:\\Users\\jz421\\Box\\CoganLab\\BIDS-1.1_GlobalLocal\\BIDS\\derivatives\\clean\\sub-D0094\\ieeg\\sub-D0094_acq-01_space-ACPC_electrodes.tsv.\n",
      "Not fully anonymizing info - keeping his_id, sex, and hand info\n"
     ]
    },
    {
     "name": "stderr",
     "output_type": "stream",
     "text": [
      "C:\\Users\\jz421\\Desktop\\GlobalLocal\\IEEG_Pipelines\\ieeg\\io.py:113: RuntimeWarning: Omitted 225 annotation(s) that were outside data range.\n",
      "  new_raw = read_raw_bids(bids_path=BIDS_path, verbose=verbose)\n",
      "C:\\Users\\jz421\\Desktop\\GlobalLocal\\IEEG_Pipelines\\ieeg\\io.py:113: RuntimeWarning: The number of channels in the channels.tsv sidecar file (241) does not match the number of channels in the raw data file (240). Will not try to set channel names.\n",
      "  new_raw = read_raw_bids(bids_path=BIDS_path, verbose=verbose)\n",
      "C:\\Users\\jz421\\Desktop\\GlobalLocal\\IEEG_Pipelines\\ieeg\\io.py:113: RuntimeWarning: Cannot set channel type for the following channels, as they are missing in the raw data: Trigger\n",
      "  new_raw = read_raw_bids(bids_path=BIDS_path, verbose=verbose)\n"
     ]
    },
    {
     "name": "stdout",
     "output_type": "stream",
     "text": [
      "good channels before dropping bads: 240\n",
      "filt channels before dropping bads: 240\n",
      "outlier round 1 channels: ['LFAM1']\n",
      "outlier round 1 channels: ['LFAM1', 'LFPI14']\n",
      "outlier round 1 channels: ['LFAM1', 'LFPI14', 'LTAS7']\n",
      "outlier round 1 channels: ['LFAM1', 'LFPI14', 'LTAS7', 'LTMM4']\n",
      "outlier round 2 channels: ['LFAM1', 'LFPI14', 'LTAS7', 'LTMM4', 'LIA13']\n",
      "outlier round 2 channels: ['LFAM1', 'LFPI14', 'LTAS7', 'LTMM4', 'LIA13', 'LTP8']\n",
      "outlier round 2 channels: ['LFAM1', 'LFPI14', 'LTAS7', 'LTMM4', 'LIA13', 'LTP8', 'LTP9']\n",
      "outlier round 2 channels: ['LFAM1', 'LFPI14', 'LTAS7', 'LTMM4', 'LIA13', 'LTP8', 'LTP9', 'LTP10']\n",
      "outlier round 2 channels: ['LFAM1', 'LFPI14', 'LTAS7', 'LTMM4', 'LIA13', 'LTP8', 'LTP9', 'LTP10', 'LTAS6']\n",
      "outlier round 2 channels: ['LFAM1', 'LFPI14', 'LTAS7', 'LTMM4', 'LIA13', 'LTP8', 'LTP9', 'LTP10', 'LTAS6', 'LTAI10']\n",
      "Bad channels in 'good': ['LFAM1', 'LFPI14', 'LTAS7', 'LTMM4', 'LIA13', 'LTP8', 'LTP9', 'LTP10', 'LTAS6', 'LTAI10']\n",
      "Bad channels in 'good' after dropping once: []\n",
      "good channels after dropping bads: 230\n",
      "filt channels after dropping bads: 230\n",
      "Reading 0 ... 3663590  =      0.000 ...  1788.862 secs...\n",
      "Applying average reference.\n",
      "Applying a custom ('sEEG',) reference.\n",
      "Extracting EDF parameters from C:\\Users\\jz421\\Box\\CoganLab\\BIDS-1.1_GlobalLocal\\BIDS\\derivatives\\clean\\sub-D0100\\ieeg\\sub-D0100_task-GlobalLocal_acq-01_run-01_desc-clean_ieeg.edf...\n",
      "EDF file detected\n",
      "Setting channel info structure...\n",
      "Creating raw.info structure...\n",
      "Reading events from C:\\Users\\jz421\\Box\\CoganLab\\BIDS-1.1_GlobalLocal\\BIDS\\derivatives\\clean\\sub-D0100\\ieeg\\sub-D0100_task-GlobalLocal_acq-01_run-01_desc-clean_events.tsv.\n",
      "Reading channel info from C:\\Users\\jz421\\Box\\CoganLab\\BIDS-1.1_GlobalLocal\\BIDS\\derivatives\\clean\\sub-D0100\\ieeg\\sub-D0100_task-GlobalLocal_acq-01_run-01_desc-clean_channels.tsv.\n",
      "Reading electrode coords from C:\\Users\\jz421\\Box\\CoganLab\\BIDS-1.1_GlobalLocal\\BIDS\\derivatives\\clean\\sub-D0100\\ieeg\\sub-D0100_acq-01_space-ACPC_electrodes.tsv.\n",
      "Not fully anonymizing info - keeping his_id, sex, and hand info\n",
      "Extracting EDF parameters from C:\\Users\\jz421\\Box\\CoganLab\\BIDS-1.1_GlobalLocal\\BIDS\\derivatives\\clean\\sub-D0100\\ieeg\\sub-D0100_task-GlobalLocal_acq-01_run-02_desc-clean_ieeg.edf...\n",
      "EDF file detected\n",
      "Setting channel info structure...\n",
      "Creating raw.info structure...\n"
     ]
    },
    {
     "name": "stderr",
     "output_type": "stream",
     "text": [
      "C:\\Users\\jz421\\Desktop\\GlobalLocal\\IEEG_Pipelines\\ieeg\\io.py:113: RuntimeWarning: The number of channels in the channels.tsv sidecar file (231) does not match the number of channels in the raw data file (230). Will not try to set channel names.\n",
      "  new_raw = read_raw_bids(bids_path=BIDS_path, verbose=verbose)\n",
      "C:\\Users\\jz421\\Desktop\\GlobalLocal\\IEEG_Pipelines\\ieeg\\io.py:113: RuntimeWarning: Cannot set channel type for the following channels, as they are missing in the raw data: Trigger\n",
      "  new_raw = read_raw_bids(bids_path=BIDS_path, verbose=verbose)\n"
     ]
    },
    {
     "name": "stdout",
     "output_type": "stream",
     "text": [
      "Reading events from C:\\Users\\jz421\\Box\\CoganLab\\BIDS-1.1_GlobalLocal\\BIDS\\derivatives\\clean\\sub-D0100\\ieeg\\sub-D0100_task-GlobalLocal_acq-01_run-02_desc-clean_events.tsv.\n",
      "Reading channel info from C:\\Users\\jz421\\Box\\CoganLab\\BIDS-1.1_GlobalLocal\\BIDS\\derivatives\\clean\\sub-D0100\\ieeg\\sub-D0100_task-GlobalLocal_acq-01_run-02_desc-clean_channels.tsv.\n",
      "Reading electrode coords from C:\\Users\\jz421\\Box\\CoganLab\\BIDS-1.1_GlobalLocal\\BIDS\\derivatives\\clean\\sub-D0100\\ieeg\\sub-D0100_acq-01_space-ACPC_electrodes.tsv.\n",
      "Not fully anonymizing info - keeping his_id, sex, and hand info\n",
      "Extracting EDF parameters from C:\\Users\\jz421\\Box\\CoganLab\\BIDS-1.1_GlobalLocal\\BIDS\\derivatives\\clean\\sub-D0100\\ieeg\\sub-D0100_task-GlobalLocal_acq-01_run-03_desc-clean_ieeg.edf...\n",
      "EDF file detected\n",
      "Setting channel info structure...\n",
      "Creating raw.info structure...\n"
     ]
    },
    {
     "name": "stderr",
     "output_type": "stream",
     "text": [
      "C:\\Users\\jz421\\Desktop\\GlobalLocal\\IEEG_Pipelines\\ieeg\\io.py:113: RuntimeWarning: Omitted 228 annotation(s) that were outside data range.\n",
      "  new_raw = read_raw_bids(bids_path=BIDS_path, verbose=verbose)\n",
      "C:\\Users\\jz421\\Desktop\\GlobalLocal\\IEEG_Pipelines\\ieeg\\io.py:113: RuntimeWarning: The number of channels in the channels.tsv sidecar file (231) does not match the number of channels in the raw data file (230). Will not try to set channel names.\n",
      "  new_raw = read_raw_bids(bids_path=BIDS_path, verbose=verbose)\n",
      "C:\\Users\\jz421\\Desktop\\GlobalLocal\\IEEG_Pipelines\\ieeg\\io.py:113: RuntimeWarning: Cannot set channel type for the following channels, as they are missing in the raw data: Trigger\n",
      "  new_raw = read_raw_bids(bids_path=BIDS_path, verbose=verbose)\n"
     ]
    },
    {
     "name": "stdout",
     "output_type": "stream",
     "text": [
      "Reading events from C:\\Users\\jz421\\Box\\CoganLab\\BIDS-1.1_GlobalLocal\\BIDS\\derivatives\\clean\\sub-D0100\\ieeg\\sub-D0100_task-GlobalLocal_acq-01_run-03_desc-clean_events.tsv.\n",
      "Reading channel info from C:\\Users\\jz421\\Box\\CoganLab\\BIDS-1.1_GlobalLocal\\BIDS\\derivatives\\clean\\sub-D0100\\ieeg\\sub-D0100_task-GlobalLocal_acq-01_run-03_desc-clean_channels.tsv.\n",
      "Reading electrode coords from C:\\Users\\jz421\\Box\\CoganLab\\BIDS-1.1_GlobalLocal\\BIDS\\derivatives\\clean\\sub-D0100\\ieeg\\sub-D0100_acq-01_space-ACPC_electrodes.tsv.\n",
      "Not fully anonymizing info - keeping his_id, sex, and hand info\n",
      "Extracting EDF parameters from C:\\Users\\jz421\\Box\\CoganLab\\BIDS-1.1_GlobalLocal\\BIDS\\derivatives\\clean\\sub-D0100\\ieeg\\sub-D0100_task-GlobalLocal_acq-01_run-04_desc-clean_ieeg.edf...\n",
      "EDF file detected\n",
      "Setting channel info structure...\n",
      "Creating raw.info structure...\n"
     ]
    },
    {
     "name": "stderr",
     "output_type": "stream",
     "text": [
      "C:\\Users\\jz421\\Desktop\\GlobalLocal\\IEEG_Pipelines\\ieeg\\io.py:113: RuntimeWarning: Omitted 227 annotation(s) that were outside data range.\n",
      "  new_raw = read_raw_bids(bids_path=BIDS_path, verbose=verbose)\n",
      "C:\\Users\\jz421\\Desktop\\GlobalLocal\\IEEG_Pipelines\\ieeg\\io.py:113: RuntimeWarning: The number of channels in the channels.tsv sidecar file (231) does not match the number of channels in the raw data file (230). Will not try to set channel names.\n",
      "  new_raw = read_raw_bids(bids_path=BIDS_path, verbose=verbose)\n",
      "C:\\Users\\jz421\\Desktop\\GlobalLocal\\IEEG_Pipelines\\ieeg\\io.py:113: RuntimeWarning: Cannot set channel type for the following channels, as they are missing in the raw data: Trigger\n",
      "  new_raw = read_raw_bids(bids_path=BIDS_path, verbose=verbose)\n"
     ]
    },
    {
     "name": "stdout",
     "output_type": "stream",
     "text": [
      "Reading events from C:\\Users\\jz421\\Box\\CoganLab\\BIDS-1.1_GlobalLocal\\BIDS\\derivatives\\clean\\sub-D0100\\ieeg\\sub-D0100_task-GlobalLocal_acq-01_run-04_desc-clean_events.tsv.\n",
      "Reading channel info from C:\\Users\\jz421\\Box\\CoganLab\\BIDS-1.1_GlobalLocal\\BIDS\\derivatives\\clean\\sub-D0100\\ieeg\\sub-D0100_task-GlobalLocal_acq-01_run-04_desc-clean_channels.tsv.\n",
      "Reading electrode coords from C:\\Users\\jz421\\Box\\CoganLab\\BIDS-1.1_GlobalLocal\\BIDS\\derivatives\\clean\\sub-D0100\\ieeg\\sub-D0100_acq-01_space-ACPC_electrodes.tsv.\n",
      "Not fully anonymizing info - keeping his_id, sex, and hand info\n"
     ]
    },
    {
     "name": "stderr",
     "output_type": "stream",
     "text": [
      "C:\\Users\\jz421\\Desktop\\GlobalLocal\\IEEG_Pipelines\\ieeg\\io.py:113: RuntimeWarning: Omitted 225 annotation(s) that were outside data range.\n",
      "  new_raw = read_raw_bids(bids_path=BIDS_path, verbose=verbose)\n",
      "C:\\Users\\jz421\\Desktop\\GlobalLocal\\IEEG_Pipelines\\ieeg\\io.py:113: RuntimeWarning: The number of channels in the channels.tsv sidecar file (231) does not match the number of channels in the raw data file (230). Will not try to set channel names.\n",
      "  new_raw = read_raw_bids(bids_path=BIDS_path, verbose=verbose)\n",
      "C:\\Users\\jz421\\Desktop\\GlobalLocal\\IEEG_Pipelines\\ieeg\\io.py:113: RuntimeWarning: Cannot set channel type for the following channels, as they are missing in the raw data: Trigger\n",
      "  new_raw = read_raw_bids(bids_path=BIDS_path, verbose=verbose)\n"
     ]
    },
    {
     "name": "stdout",
     "output_type": "stream",
     "text": [
      "good channels before dropping bads: 230\n",
      "filt channels before dropping bads: 230\n",
      "outlier round 1 channels: ['LTPS8']\n",
      "outlier round 2 channels: ['LTPS8', 'LTMM3']\n",
      "outlier round 2 channels: ['LTPS8', 'LTMM3', 'LTMM4']\n",
      "outlier round 2 channels: ['LTPS8', 'LTMM3', 'LTMM4', 'LTPM5']\n",
      "outlier round 2 channels: ['LTPS8', 'LTMM3', 'LTMM4', 'LTPM5', 'LOAI3']\n",
      "outlier round 2 channels: ['LTPS8', 'LTMM3', 'LTMM4', 'LTPM5', 'LOAI3', 'LOMI1']\n",
      "Bad channels in 'good': ['LTPS8', 'LTMM3', 'LTMM4', 'LTPM5', 'LOAI3', 'LOMI1']\n",
      "Bad channels in 'good' after dropping once: []\n",
      "good channels after dropping bads: 224\n",
      "filt channels after dropping bads: 224\n",
      "Reading 0 ... 3321652  =      0.000 ...  1621.900 secs...\n",
      "Applying average reference.\n",
      "Applying a custom ('sEEG',) reference.\n",
      "Extracting EDF parameters from C:\\Users\\jz421\\Box\\CoganLab\\BIDS-1.1_GlobalLocal\\BIDS\\derivatives\\clean\\sub-D0102\\ieeg\\sub-D0102_task-GlobalLocal_acq-01_run-01_desc-clean_ieeg.edf...\n",
      "EDF file detected\n",
      "Setting channel info structure...\n",
      "Creating raw.info structure...\n",
      "Reading events from C:\\Users\\jz421\\Box\\CoganLab\\BIDS-1.1_GlobalLocal\\BIDS\\derivatives\\clean\\sub-D0102\\ieeg\\sub-D0102_task-GlobalLocal_acq-01_run-01_desc-clean_events.tsv.\n",
      "Reading channel info from C:\\Users\\jz421\\Box\\CoganLab\\BIDS-1.1_GlobalLocal\\BIDS\\derivatives\\clean\\sub-D0102\\ieeg\\sub-D0102_task-GlobalLocal_acq-01_run-01_desc-clean_channels.tsv.\n",
      "Reading electrode coords from C:\\Users\\jz421\\Box\\CoganLab\\BIDS-1.1_GlobalLocal\\BIDS\\derivatives\\clean\\sub-D0102\\ieeg\\sub-D0102_acq-01_space-ACPC_electrodes.tsv.\n",
      "Not fully anonymizing info - keeping his_id, sex, and hand info\n",
      "Extracting EDF parameters from C:\\Users\\jz421\\Box\\CoganLab\\BIDS-1.1_GlobalLocal\\BIDS\\derivatives\\clean\\sub-D0102\\ieeg\\sub-D0102_task-GlobalLocal_acq-01_run-02_desc-clean_ieeg.edf...\n",
      "EDF file detected\n",
      "Setting channel info structure...\n",
      "Creating raw.info structure...\n"
     ]
    },
    {
     "name": "stderr",
     "output_type": "stream",
     "text": [
      "C:\\Users\\jz421\\Desktop\\GlobalLocal\\IEEG_Pipelines\\ieeg\\io.py:113: RuntimeWarning: The number of channels in the channels.tsv sidecar file (228) does not match the number of channels in the raw data file (227). Will not try to set channel names.\n",
      "  new_raw = read_raw_bids(bids_path=BIDS_path, verbose=verbose)\n",
      "C:\\Users\\jz421\\Desktop\\GlobalLocal\\IEEG_Pipelines\\ieeg\\io.py:113: RuntimeWarning: Cannot set channel type for the following channels, as they are missing in the raw data: Trigger\n",
      "  new_raw = read_raw_bids(bids_path=BIDS_path, verbose=verbose)\n"
     ]
    },
    {
     "name": "stdout",
     "output_type": "stream",
     "text": [
      "Reading events from C:\\Users\\jz421\\Box\\CoganLab\\BIDS-1.1_GlobalLocal\\BIDS\\derivatives\\clean\\sub-D0102\\ieeg\\sub-D0102_task-GlobalLocal_acq-01_run-02_desc-clean_events.tsv.\n",
      "Reading channel info from C:\\Users\\jz421\\Box\\CoganLab\\BIDS-1.1_GlobalLocal\\BIDS\\derivatives\\clean\\sub-D0102\\ieeg\\sub-D0102_task-GlobalLocal_acq-01_run-02_desc-clean_channels.tsv.\n",
      "Reading electrode coords from C:\\Users\\jz421\\Box\\CoganLab\\BIDS-1.1_GlobalLocal\\BIDS\\derivatives\\clean\\sub-D0102\\ieeg\\sub-D0102_acq-01_space-ACPC_electrodes.tsv.\n",
      "Not fully anonymizing info - keeping his_id, sex, and hand info\n",
      "Extracting EDF parameters from C:\\Users\\jz421\\Box\\CoganLab\\BIDS-1.1_GlobalLocal\\BIDS\\derivatives\\clean\\sub-D0102\\ieeg\\sub-D0102_task-GlobalLocal_acq-01_run-03_desc-clean_ieeg.edf...\n",
      "EDF file detected\n",
      "Setting channel info structure...\n",
      "Creating raw.info structure...\n"
     ]
    },
    {
     "name": "stderr",
     "output_type": "stream",
     "text": [
      "C:\\Users\\jz421\\Desktop\\GlobalLocal\\IEEG_Pipelines\\ieeg\\io.py:113: RuntimeWarning: Omitted 228 annotation(s) that were outside data range.\n",
      "  new_raw = read_raw_bids(bids_path=BIDS_path, verbose=verbose)\n",
      "C:\\Users\\jz421\\Desktop\\GlobalLocal\\IEEG_Pipelines\\ieeg\\io.py:113: RuntimeWarning: The number of channels in the channels.tsv sidecar file (228) does not match the number of channels in the raw data file (227). Will not try to set channel names.\n",
      "  new_raw = read_raw_bids(bids_path=BIDS_path, verbose=verbose)\n",
      "C:\\Users\\jz421\\Desktop\\GlobalLocal\\IEEG_Pipelines\\ieeg\\io.py:113: RuntimeWarning: Cannot set channel type for the following channels, as they are missing in the raw data: Trigger\n",
      "  new_raw = read_raw_bids(bids_path=BIDS_path, verbose=verbose)\n"
     ]
    },
    {
     "name": "stdout",
     "output_type": "stream",
     "text": [
      "Reading events from C:\\Users\\jz421\\Box\\CoganLab\\BIDS-1.1_GlobalLocal\\BIDS\\derivatives\\clean\\sub-D0102\\ieeg\\sub-D0102_task-GlobalLocal_acq-01_run-03_desc-clean_events.tsv.\n",
      "Reading channel info from C:\\Users\\jz421\\Box\\CoganLab\\BIDS-1.1_GlobalLocal\\BIDS\\derivatives\\clean\\sub-D0102\\ieeg\\sub-D0102_task-GlobalLocal_acq-01_run-03_desc-clean_channels.tsv.\n",
      "Reading electrode coords from C:\\Users\\jz421\\Box\\CoganLab\\BIDS-1.1_GlobalLocal\\BIDS\\derivatives\\clean\\sub-D0102\\ieeg\\sub-D0102_acq-01_space-ACPC_electrodes.tsv.\n",
      "Not fully anonymizing info - keeping his_id, sex, and hand info\n",
      "Extracting EDF parameters from C:\\Users\\jz421\\Box\\CoganLab\\BIDS-1.1_GlobalLocal\\BIDS\\derivatives\\clean\\sub-D0102\\ieeg\\sub-D0102_task-GlobalLocal_acq-01_run-04_desc-clean_ieeg.edf...\n",
      "EDF file detected\n",
      "Setting channel info structure...\n",
      "Creating raw.info structure...\n"
     ]
    },
    {
     "name": "stderr",
     "output_type": "stream",
     "text": [
      "C:\\Users\\jz421\\Desktop\\GlobalLocal\\IEEG_Pipelines\\ieeg\\io.py:113: RuntimeWarning: Omitted 228 annotation(s) that were outside data range.\n",
      "  new_raw = read_raw_bids(bids_path=BIDS_path, verbose=verbose)\n",
      "C:\\Users\\jz421\\Desktop\\GlobalLocal\\IEEG_Pipelines\\ieeg\\io.py:113: RuntimeWarning: The number of channels in the channels.tsv sidecar file (228) does not match the number of channels in the raw data file (227). Will not try to set channel names.\n",
      "  new_raw = read_raw_bids(bids_path=BIDS_path, verbose=verbose)\n",
      "C:\\Users\\jz421\\Desktop\\GlobalLocal\\IEEG_Pipelines\\ieeg\\io.py:113: RuntimeWarning: Cannot set channel type for the following channels, as they are missing in the raw data: Trigger\n",
      "  new_raw = read_raw_bids(bids_path=BIDS_path, verbose=verbose)\n"
     ]
    },
    {
     "name": "stdout",
     "output_type": "stream",
     "text": [
      "Reading events from C:\\Users\\jz421\\Box\\CoganLab\\BIDS-1.1_GlobalLocal\\BIDS\\derivatives\\clean\\sub-D0102\\ieeg\\sub-D0102_task-GlobalLocal_acq-01_run-04_desc-clean_events.tsv.\n",
      "Reading channel info from C:\\Users\\jz421\\Box\\CoganLab\\BIDS-1.1_GlobalLocal\\BIDS\\derivatives\\clean\\sub-D0102\\ieeg\\sub-D0102_task-GlobalLocal_acq-01_run-04_desc-clean_channels.tsv.\n",
      "Reading electrode coords from C:\\Users\\jz421\\Box\\CoganLab\\BIDS-1.1_GlobalLocal\\BIDS\\derivatives\\clean\\sub-D0102\\ieeg\\sub-D0102_acq-01_space-ACPC_electrodes.tsv.\n",
      "Not fully anonymizing info - keeping his_id, sex, and hand info\n"
     ]
    },
    {
     "name": "stderr",
     "output_type": "stream",
     "text": [
      "C:\\Users\\jz421\\Desktop\\GlobalLocal\\IEEG_Pipelines\\ieeg\\io.py:113: RuntimeWarning: Omitted 226 annotation(s) that were outside data range.\n",
      "  new_raw = read_raw_bids(bids_path=BIDS_path, verbose=verbose)\n",
      "C:\\Users\\jz421\\Desktop\\GlobalLocal\\IEEG_Pipelines\\ieeg\\io.py:113: RuntimeWarning: The number of channels in the channels.tsv sidecar file (228) does not match the number of channels in the raw data file (227). Will not try to set channel names.\n",
      "  new_raw = read_raw_bids(bids_path=BIDS_path, verbose=verbose)\n",
      "C:\\Users\\jz421\\Desktop\\GlobalLocal\\IEEG_Pipelines\\ieeg\\io.py:113: RuntimeWarning: Cannot set channel type for the following channels, as they are missing in the raw data: Trigger\n",
      "  new_raw = read_raw_bids(bids_path=BIDS_path, verbose=verbose)\n"
     ]
    },
    {
     "name": "stdout",
     "output_type": "stream",
     "text": [
      "good channels before dropping bads: 227\n",
      "filt channels before dropping bads: 227\n",
      "outlier round 1 channels: ['LTAM15']\n",
      "outlier round 2 channels: ['LTAM15', 'LTMM2']\n",
      "outlier round 2 channels: ['LTAM15', 'LTMM2', 'LTMM3']\n",
      "outlier round 2 channels: ['LTAM15', 'LTMM2', 'LTMM3', 'RTP3']\n",
      "outlier round 2 channels: ['LTAM15', 'LTMM2', 'LTMM3', 'RTP3', 'RTP4']\n",
      "outlier round 2 channels: ['LTAM15', 'LTMM2', 'LTMM3', 'RTP3', 'RTP4', 'RTP11']\n",
      "outlier round 2 channels: ['LTAM15', 'LTMM2', 'LTMM3', 'RTP3', 'RTP4', 'RTP11', 'RTP12']\n",
      "outlier round 2 channels: ['LTAM15', 'LTMM2', 'LTMM3', 'RTP3', 'RTP4', 'RTP11', 'RTP12', 'RTAM1']\n",
      "Bad channels in 'good': ['LTAM15', 'LTMM2', 'LTMM3', 'RTP3', 'RTP4', 'RTP11', 'RTP12', 'RTAM1']\n",
      "Bad channels in 'good' after dropping once: []\n",
      "good channels after dropping bads: 219\n",
      "filt channels after dropping bads: 219\n",
      "Reading 0 ... 3251432  =      0.000 ...  1587.613 secs...\n",
      "Applying average reference.\n",
      "Applying a custom ('sEEG',) reference.\n",
      "Extracting EDF parameters from C:\\Users\\jz421\\Box\\CoganLab\\BIDS-1.1_GlobalLocal\\BIDS\\derivatives\\clean\\sub-D0103\\ieeg\\sub-D0103_task-GlobalLocal_acq-01_run-01_desc-clean_ieeg.edf...\n",
      "EDF file detected\n",
      "Setting channel info structure...\n",
      "Creating raw.info structure...\n",
      "Reading events from C:\\Users\\jz421\\Box\\CoganLab\\BIDS-1.1_GlobalLocal\\BIDS\\derivatives\\clean\\sub-D0103\\ieeg\\sub-D0103_task-GlobalLocal_acq-01_run-01_desc-clean_events.tsv.\n",
      "Reading channel info from C:\\Users\\jz421\\Box\\CoganLab\\BIDS-1.1_GlobalLocal\\BIDS\\derivatives\\clean\\sub-D0103\\ieeg\\sub-D0103_task-GlobalLocal_acq-01_run-01_desc-clean_channels.tsv.\n",
      "Reading electrode coords from C:\\Users\\jz421\\Box\\CoganLab\\BIDS-1.1_GlobalLocal\\BIDS\\derivatives\\clean\\sub-D0103\\ieeg\\sub-D0103_acq-01_space-ACPC_electrodes.tsv.\n",
      "Not fully anonymizing info - keeping his_id, sex, and hand info\n",
      "Extracting EDF parameters from C:\\Users\\jz421\\Box\\CoganLab\\BIDS-1.1_GlobalLocal\\BIDS\\derivatives\\clean\\sub-D0103\\ieeg\\sub-D0103_task-GlobalLocal_acq-01_run-02_desc-clean_ieeg.edf...\n",
      "EDF file detected\n",
      "Setting channel info structure...\n",
      "Creating raw.info structure...\n",
      "Reading events from C:\\Users\\jz421\\Box\\CoganLab\\BIDS-1.1_GlobalLocal\\BIDS\\derivatives\\clean\\sub-D0103\\ieeg\\sub-D0103_task-GlobalLocal_acq-01_run-02_desc-clean_events.tsv.\n",
      "Reading channel info from C:\\Users\\jz421\\Box\\CoganLab\\BIDS-1.1_GlobalLocal\\BIDS\\derivatives\\clean\\sub-D0103\\ieeg\\sub-D0103_task-GlobalLocal_acq-01_run-02_desc-clean_channels.tsv.\n",
      "Reading electrode coords from C:\\Users\\jz421\\Box\\CoganLab\\BIDS-1.1_GlobalLocal\\BIDS\\derivatives\\clean\\sub-D0103\\ieeg\\sub-D0103_acq-01_space-ACPC_electrodes.tsv.\n",
      "Not fully anonymizing info - keeping his_id, sex, and hand info\n",
      "Extracting EDF parameters from C:\\Users\\jz421\\Box\\CoganLab\\BIDS-1.1_GlobalLocal\\BIDS\\derivatives\\clean\\sub-D0103\\ieeg\\sub-D0103_task-GlobalLocal_acq-01_run-03_desc-clean_ieeg.edf...\n",
      "EDF file detected\n",
      "Setting channel info structure...\n",
      "Creating raw.info structure...\n"
     ]
    },
    {
     "name": "stderr",
     "output_type": "stream",
     "text": [
      "C:\\Users\\jz421\\Desktop\\GlobalLocal\\IEEG_Pipelines\\ieeg\\io.py:113: RuntimeWarning: Omitted 226 annotation(s) that were outside data range.\n",
      "  new_raw = read_raw_bids(bids_path=BIDS_path, verbose=verbose)\n"
     ]
    },
    {
     "name": "stdout",
     "output_type": "stream",
     "text": [
      "Reading events from C:\\Users\\jz421\\Box\\CoganLab\\BIDS-1.1_GlobalLocal\\BIDS\\derivatives\\clean\\sub-D0103\\ieeg\\sub-D0103_task-GlobalLocal_acq-01_run-03_desc-clean_events.tsv.\n",
      "Reading channel info from C:\\Users\\jz421\\Box\\CoganLab\\BIDS-1.1_GlobalLocal\\BIDS\\derivatives\\clean\\sub-D0103\\ieeg\\sub-D0103_task-GlobalLocal_acq-01_run-03_desc-clean_channels.tsv.\n",
      "Reading electrode coords from C:\\Users\\jz421\\Box\\CoganLab\\BIDS-1.1_GlobalLocal\\BIDS\\derivatives\\clean\\sub-D0103\\ieeg\\sub-D0103_acq-01_space-ACPC_electrodes.tsv.\n",
      "Not fully anonymizing info - keeping his_id, sex, and hand info\n",
      "Extracting EDF parameters from C:\\Users\\jz421\\Box\\CoganLab\\BIDS-1.1_GlobalLocal\\BIDS\\derivatives\\clean\\sub-D0103\\ieeg\\sub-D0103_task-GlobalLocal_acq-01_run-04_desc-clean_ieeg.edf...\n",
      "EDF file detected\n",
      "Setting channel info structure...\n",
      "Creating raw.info structure...\n"
     ]
    },
    {
     "name": "stderr",
     "output_type": "stream",
     "text": [
      "C:\\Users\\jz421\\Desktop\\GlobalLocal\\IEEG_Pipelines\\ieeg\\io.py:113: RuntimeWarning: Omitted 228 annotation(s) that were outside data range.\n",
      "  new_raw = read_raw_bids(bids_path=BIDS_path, verbose=verbose)\n"
     ]
    },
    {
     "name": "stdout",
     "output_type": "stream",
     "text": [
      "Reading events from C:\\Users\\jz421\\Box\\CoganLab\\BIDS-1.1_GlobalLocal\\BIDS\\derivatives\\clean\\sub-D0103\\ieeg\\sub-D0103_task-GlobalLocal_acq-01_run-04_desc-clean_events.tsv.\n",
      "Reading channel info from C:\\Users\\jz421\\Box\\CoganLab\\BIDS-1.1_GlobalLocal\\BIDS\\derivatives\\clean\\sub-D0103\\ieeg\\sub-D0103_task-GlobalLocal_acq-01_run-04_desc-clean_channels.tsv.\n",
      "Reading electrode coords from C:\\Users\\jz421\\Box\\CoganLab\\BIDS-1.1_GlobalLocal\\BIDS\\derivatives\\clean\\sub-D0103\\ieeg\\sub-D0103_acq-01_space-ACPC_electrodes.tsv.\n",
      "Not fully anonymizing info - keeping his_id, sex, and hand info\n"
     ]
    },
    {
     "name": "stderr",
     "output_type": "stream",
     "text": [
      "C:\\Users\\jz421\\Desktop\\GlobalLocal\\IEEG_Pipelines\\ieeg\\io.py:113: RuntimeWarning: Omitted 226 annotation(s) that were outside data range.\n",
      "  new_raw = read_raw_bids(bids_path=BIDS_path, verbose=verbose)\n"
     ]
    },
    {
     "name": "stdout",
     "output_type": "stream",
     "text": [
      "good channels before dropping bads: 225\n",
      "filt channels before dropping bads: 225\n",
      "outlier round 1 channels: ['LTMI8']\n",
      "outlier round 2 channels: ['LTMI8', 'LAI18']\n",
      "outlier round 2 channels: ['LTMI8', 'LAI18', 'LTPI1']\n",
      "Bad channels in 'good': ['LTMI8', 'LAI18', 'LTPI1']\n",
      "Bad channels in 'good' after dropping once: []\n",
      "good channels after dropping bads: 222\n",
      "filt channels after dropping bads: 222\n",
      "Reading 0 ... 3198489  =      0.000 ...  1561.762 secs...\n",
      "Applying average reference.\n",
      "Applying a custom ('sEEG',) reference.\n",
      "Saved subjects_dict to subjects_electrodestoROIs_dict.json\n"
     ]
    }
   ],
   "source": [
    "subjects = ['D0057','D0059', 'D0063', 'D0065', 'D0069', 'D0071', 'D0077', 'D0090', 'D0094', 'D0100', 'D0102', 'D0103']\n",
    "\n",
    "# subjects = ['D0103'] #testing cuz d0065 being weird\n",
    "\n",
    "for sub in subjects:\n",
    "    # sub = 'D0059'\n",
    "    task = 'GlobalLocal'\n",
    "    output_name = \"Response_fixationCrossBase_1sec_mirror\"\n",
    "    events = [\"Response\"]\n",
    "    times = (-1,1.5)\n",
    "    base_times = [-1,0]\n",
    "    LAB_root = None\n",
    "    channels = None\n",
    "    full_trial_base = False\n",
    "\n",
    "\n",
    "    if LAB_root is None:\n",
    "        HOME = os.path.expanduser(\"~\")\n",
    "        if os.name == 'nt':  # windows\n",
    "            LAB_root = os.path.join(HOME, \"Box\", \"CoganLab\")\n",
    "        else:  # mac\n",
    "            LAB_root = os.path.join(HOME, \"Library\", \"CloudStorage\", \"Box-Box\",\n",
    "                                    \"CoganLab\")\n",
    "\n",
    "    layout = get_data(task, root=LAB_root)\n",
    "    filt = raw_from_layout(layout.derivatives['derivatives/clean'], subject=sub,\n",
    "                        extension='.edf', desc='clean', preload=False)\n",
    "    save_dir = os.path.join(layout.root, 'derivatives', 'freqFilt', 'figs', sub)\n",
    "    if not os.path.exists(save_dir):\n",
    "        os.makedirs(save_dir)\n",
    "\n",
    "    good = crop_empty_data(filt)\n",
    "    # %%\n",
    "\n",
    "    print(f\"good channels before dropping bads: {len(good.ch_names)}\")\n",
    "    print(f\"filt channels before dropping bads: {len(filt.ch_names)}\")\n",
    "\n",
    "    good.info['bads'] = channel_outlier_marker(good, 3, 2)\n",
    "    print(\"Bad channels in 'good':\", good.info['bads'])\n",
    "\n",
    "    filt.drop_channels(good.info['bads'])  # this has to come first cuz if you drop from good first, then good.info['bads'] is just empty\n",
    "    good.drop_channels(good.info['bads'])\n",
    "\n",
    "    print(\"Bad channels in 'good' after dropping once:\", good.info['bads'])\n",
    "\n",
    "    print(f\"good channels after dropping bads: {len(good.ch_names)}\")\n",
    "    print(f\"filt channels after dropping bads: {len(filt.ch_names)}\")\n",
    "\n",
    "    good.load_data()\n",
    "\n",
    "    # If channels is None, use all channels\n",
    "    if channels is None:\n",
    "        channels = good.ch_names\n",
    "    else:\n",
    "        # Validate the provided channels\n",
    "        invalid_channels = [ch for ch in channels if ch not in good.ch_names]\n",
    "        if invalid_channels:\n",
    "            raise ValueError(\n",
    "                f\"The following channels are not valid: {invalid_channels}\")\n",
    "\n",
    "        # Use only the specified channels\n",
    "        good.pick_channels(channels)\n",
    "\n",
    "    ch_type = filt.get_channel_types(only_data_chs=True)[0]\n",
    "    good.set_eeg_reference(ref_channels=\"average\", ch_type=ch_type)\n",
    "\n",
    "    default_dict = gen_labels(good.info)\n",
    "    \n",
    "    # Create rawROI_dict for the subject\n",
    "    rawROI_dict = defaultdict(list)\n",
    "    for key, value in default_dict.items():\n",
    "        rawROI_dict[value].append(key)\n",
    "    rawROI_dict = dict(rawROI_dict)\n",
    "\n",
    "    # Filter out keys containing \"White-Matter\"\n",
    "    filtROI_dict = {key: value for key, value in rawROI_dict.items() if \"White-Matter\" not in key}\n",
    "\n",
    "    # Store the dictionaries in the subjects dictionary\n",
    "    subjects_electrodestoROIs_dict[sub] = {\n",
    "        'default_dict': dict(default_dict),\n",
    "        'rawROI_dict': dict(rawROI_dict),\n",
    "        'filtROI_dict': dict(filtROI_dict)\n",
    "    }\n",
    "\n",
    "\n",
    "# # Save to a JSON file. Uncomment when actually running.\n",
    "filename = 'subjects_electrodestoROIs_dict.json'\n",
    "with open(filename, 'w') as file:\n",
    "    json.dump(subjects_electrodestoROIs_dict, file, indent=4)\n",
    "\n",
    "print(f\"Saved subjects_dict to {filename}\")"
   ]
  },
  {
   "cell_type": "code",
   "execution_count": null,
   "metadata": {},
   "outputs": [],
   "source": [
    "# Load from a JSON file\n",
    "filename = 'subjects_electrodestoROIs_dict.json'\n",
    "\n",
    "with open(filename, 'r') as file:\n",
    "    subjects_electrodestoROIs_dict = json.load(file)\n",
    "\n",
    "print(f\"Loaded data from {filename}\")"
   ]
  },
  {
   "cell_type": "markdown",
   "metadata": {},
   "source": [
    "### load high gamma data so we can do roi analysis on it\n",
    "once we have more subjects, turn this into a function and loop over all subjects.  \n",
    "this code is a crime against humanity"
   ]
  },
  {
   "cell_type": "code",
   "execution_count": 4,
   "metadata": {},
   "outputs": [
    {
     "name": "stdout",
     "output_type": "stream",
     "text": [
      "Reading C:\\Users\\jz421\\Box\\CoganLab\\BIDS-1.1_GlobalLocal\\BIDS\\derivatives\\freqFilt\\figs\\D0057\\D0057_Stimulus_c25_fixationCrossBase_1sec_mirror_HG_ev1-epo.fif ...\n",
      "    Found the data of interest:\n",
      "        t =   -1000.00 ...    1500.00 ms\n",
      "        0 CTF compensation matrices available\n",
      "Not setting metadata\n",
      "168 matching events found\n",
      "No baseline correction applied\n",
      "0 projection items activated\n",
      "Reading C:\\Users\\jz421\\Box\\CoganLab\\BIDS-1.1_GlobalLocal\\BIDS\\derivatives\\freqFilt\\figs\\D0057\\D0057_Stimulus_c25_fixationCrossBase_1sec_mirror_HG_base-epo.fif ...\n",
      "    Found the data of interest:\n",
      "        t =   -1000.00 ...       0.00 ms\n",
      "        0 CTF compensation matrices available\n",
      "Not setting metadata\n",
      "448 matching events found\n",
      "No baseline correction applied\n",
      "0 projection items activated\n",
      "Reading C:\\Users\\jz421\\Box\\CoganLab\\BIDS-1.1_GlobalLocal\\BIDS\\derivatives\\freqFilt\\figs\\D0057\\D0057_Stimulus_c25_fixationCrossBase_1sec_mirror_HG_ev1_rescaled-epo.fif ...\n",
      "    Found the data of interest:\n",
      "        t =   -1000.00 ...    1500.00 ms\n",
      "        0 CTF compensation matrices available\n",
      "Not setting metadata\n",
      "168 matching events found\n",
      "No baseline correction applied\n",
      "0 projection items activated\n",
      "Reading C:\\Users\\jz421\\Box\\CoganLab\\BIDS-1.1_GlobalLocal\\BIDS\\derivatives\\freqFilt\\figs\\D0057\\D0057_Stimulus_c75_fixationCrossBase_1sec_mirror_HG_ev1-epo.fif ...\n",
      "    Found the data of interest:\n",
      "        t =   -1000.00 ...    1500.00 ms\n",
      "        0 CTF compensation matrices available\n",
      "Not setting metadata\n",
      "56 matching events found\n",
      "No baseline correction applied\n",
      "0 projection items activated\n",
      "Reading C:\\Users\\jz421\\Box\\CoganLab\\BIDS-1.1_GlobalLocal\\BIDS\\derivatives\\freqFilt\\figs\\D0057\\D0057_Stimulus_c75_fixationCrossBase_1sec_mirror_HG_base-epo.fif ...\n",
      "    Found the data of interest:\n",
      "        t =   -1000.00 ...       0.00 ms\n",
      "        0 CTF compensation matrices available\n",
      "Not setting metadata\n",
      "448 matching events found\n",
      "No baseline correction applied\n",
      "0 projection items activated\n",
      "Reading C:\\Users\\jz421\\Box\\CoganLab\\BIDS-1.1_GlobalLocal\\BIDS\\derivatives\\freqFilt\\figs\\D0057\\D0057_Stimulus_c75_fixationCrossBase_1sec_mirror_HG_ev1_rescaled-epo.fif ...\n",
      "    Found the data of interest:\n",
      "        t =   -1000.00 ...    1500.00 ms\n",
      "        0 CTF compensation matrices available\n",
      "Not setting metadata\n",
      "56 matching events found\n",
      "No baseline correction applied\n",
      "0 projection items activated\n"
     ]
    }
   ],
   "source": [
    "import os\n",
    "import mne\n",
    "import numpy as np\n",
    "\n",
    "\n",
    "def load_mne_objects(sub, output_name, task, LAB_root=None):\n",
    "    \"\"\"\n",
    "    Load MNE objects for a given subject and output name.\n",
    "\n",
    "    Parameters:\n",
    "    - sub (str): Subject identifier.\n",
    "    - output_name (str): Output name used in the file naming.\n",
    "    - task (str): Task identifier.\n",
    "    - LAB_root (str, optional): Root directory for the lab. If None, it will be determined based on the OS.\n",
    "\n",
    "    Returns:\n",
    "    A dictionary containing loaded MNE objects.\n",
    "    \"\"\"\n",
    "\n",
    "    # Determine LAB_root based on the operating system\n",
    "    if LAB_root is None:\n",
    "        HOME = os.path.expanduser(\"~\")\n",
    "        LAB_root = os.path.join(HOME, \"Box\", \"CoganLab\") if os.name == 'nt' else os.path.join(HOME, \"Library\", \"CloudStorage\", \"Box-Box\", \"CoganLab\")\n",
    "\n",
    "    # Get data layout\n",
    "    layout = get_data(task, root=LAB_root)\n",
    "    save_dir = os.path.join(layout.root, 'derivatives', 'freqFilt', 'figs', sub)\n",
    "    \n",
    "    # Ensure save directory exists\n",
    "    if not os.path.exists(save_dir):\n",
    "        os.makedirs(save_dir)\n",
    "\n",
    "    # Define file paths\n",
    "    HG_ev1_file = f'{save_dir}/{sub}_{output_name}_HG_ev1-epo.fif'\n",
    "    HG_base_file = f'{save_dir}/{sub}_{output_name}_HG_base-epo.fif'\n",
    "    HG_ev1_rescaled_file = f'{save_dir}/{sub}_{output_name}_HG_ev1_rescaled-epo.fif'\n",
    "\n",
    "    # Load the objects\n",
    "    HG_ev1 = mne.read_epochs(HG_ev1_file)\n",
    "    HG_base = mne.read_epochs(HG_base_file)\n",
    "    HG_ev1_rescaled = mne.read_epochs(HG_ev1_rescaled_file)\n",
    "    HG_ev1_evoke = HG_ev1.average(method=lambda x: np.nanmean(x, axis=0))\n",
    "    HG_ev1_evoke_rescaled = HG_ev1_rescaled.average(method=lambda x: np.nanmean(x, axis=0))\n",
    "\n",
    "    return {\n",
    "        'HG_ev1': HG_ev1,\n",
    "        'HG_base': HG_base,\n",
    "        'HG_ev1_rescaled': HG_ev1_rescaled,\n",
    "        'HG_ev1_evoke': HG_ev1_evoke,\n",
    "        'HG_ev1_evoke_rescaled': HG_ev1_evoke_rescaled\n",
    "    }\n",
    "\n",
    "# Example usage\n",
    "# sub = 'D0057'\n",
    "# output_name = \"Stimulus_i25and75_fixationCrossBase_1sec_mirror\"\n",
    "# task = 'GlobalLocal'\n",
    "loaded_objects_D0057_i = load_mne_objects('D0057', \"Stimulus_c25_fixationCrossBase_1sec_mirror\", 'GlobalLocal')\n",
    "loaded_objects_D0057_c = load_mne_objects('D0057', \"Stimulus_c75_fixationCrossBase_1sec_mirror\", 'GlobalLocal')\n",
    "\n",
    "# Access the objects\n",
    "HG_ev1_D0057_i = loaded_objects_D0057_i['HG_ev1']\n",
    "HG_base_D0057_i = loaded_objects_D0057_i['HG_base']\n",
    "HG_ev1_rescaled_D0057_i = loaded_objects_D0057_i['HG_ev1_rescaled']\n",
    "HG_ev1_evoke_D0057_i = loaded_objects_D0057_i['HG_ev1_evoke']\n",
    "HG_ev1_evoke_rescaled_D0057_i = loaded_objects_D0057_i['HG_ev1_evoke_rescaled']\n",
    "\n",
    "HG_ev1_D0057_c = loaded_objects_D0057_c['HG_ev1']\n",
    "HG_base_D0057_c = loaded_objects_D0057_c['HG_base']\n",
    "HG_ev1_rescaled_D0057_c = loaded_objects_D0057_c['HG_ev1_rescaled']\n",
    "HG_ev1_evoke_D0057_c = loaded_objects_D0057_c['HG_ev1_evoke']\n",
    "HG_ev1_evoke_rescaled_D0057_c = loaded_objects_D0057_c['HG_ev1_evoke_rescaled']"
   ]
  },
  {
   "cell_type": "markdown",
   "metadata": {},
   "source": [
    "keep working on this later. Split this apart from the other code, that notebook is way too big."
   ]
  }
 ],
 "metadata": {
  "kernelspec": {
   "display_name": "ieeg",
   "language": "python",
   "name": "python3"
  },
  "language_info": {
   "codemirror_mode": {
    "name": "ipython",
    "version": 3
   },
   "file_extension": ".py",
   "mimetype": "text/x-python",
   "name": "python",
   "nbconvert_exporter": "python",
   "pygments_lexer": "ipython3",
   "version": "3.11.7"
  }
 },
 "nbformat": 4,
 "nbformat_minor": 2
}
