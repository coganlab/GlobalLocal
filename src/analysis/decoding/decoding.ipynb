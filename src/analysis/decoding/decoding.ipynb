{
 "cells": [
  {
   "cell_type": "code",
   "execution_count": 1,
   "metadata": {},
   "outputs": [
    {
     "name": "stdout",
     "output_type": "stream",
     "text": [
      "['C:\\\\Users\\\\jz421\\\\Desktop\\\\GlobalLocal\\\\IEEG_Pipelines', 'c:\\\\Users\\\\jz421\\\\AppData\\\\Local\\\\anaconda3\\\\envs\\\\ieeg\\\\python311.zip', 'c:\\\\Users\\\\jz421\\\\AppData\\\\Local\\\\anaconda3\\\\envs\\\\ieeg\\\\DLLs', 'c:\\\\Users\\\\jz421\\\\AppData\\\\Local\\\\anaconda3\\\\envs\\\\ieeg\\\\Lib', 'c:\\\\Users\\\\jz421\\\\AppData\\\\Local\\\\anaconda3\\\\envs\\\\ieeg', '', 'C:\\\\Users\\\\jz421\\\\AppData\\\\Roaming\\\\Python\\\\Python311\\\\site-packages', 'C:\\\\Users\\\\jz421\\\\AppData\\\\Roaming\\\\Python\\\\Python311\\\\site-packages\\\\win32', 'C:\\\\Users\\\\jz421\\\\AppData\\\\Roaming\\\\Python\\\\Python311\\\\site-packages\\\\win32\\\\lib', 'C:\\\\Users\\\\jz421\\\\AppData\\\\Roaming\\\\Python\\\\Python311\\\\site-packages\\\\Pythonwin', 'c:\\\\Users\\\\jz421\\\\AppData\\\\Local\\\\anaconda3\\\\envs\\\\ieeg\\\\Lib\\\\site-packages', 'c:\\\\Users\\\\jz421\\\\AppData\\\\Local\\\\anaconda3\\\\envs\\\\ieeg\\\\Lib\\\\site-packages\\\\win32', 'c:\\\\Users\\\\jz421\\\\AppData\\\\Local\\\\anaconda3\\\\envs\\\\ieeg\\\\Lib\\\\site-packages\\\\win32\\\\lib', 'c:\\\\Users\\\\jz421\\\\AppData\\\\Local\\\\anaconda3\\\\envs\\\\ieeg\\\\Lib\\\\site-packages\\\\Pythonwin']\n",
      "\n",
      "WARNING: Keras package is not installed. You will be unable to useall neural net decoders\n",
      "['c:\\\\Users\\\\jz421\\\\Desktop\\\\GlobalLocal', 'C:\\\\Users\\\\jz421\\\\Desktop\\\\GlobalLocal\\\\IEEG_Pipelines', 'c:\\\\Users\\\\jz421\\\\AppData\\\\Local\\\\anaconda3\\\\envs\\\\ieeg\\\\python311.zip', 'c:\\\\Users\\\\jz421\\\\AppData\\\\Local\\\\anaconda3\\\\envs\\\\ieeg\\\\DLLs', 'c:\\\\Users\\\\jz421\\\\AppData\\\\Local\\\\anaconda3\\\\envs\\\\ieeg\\\\Lib', 'c:\\\\Users\\\\jz421\\\\AppData\\\\Local\\\\anaconda3\\\\envs\\\\ieeg', '', 'C:\\\\Users\\\\jz421\\\\AppData\\\\Roaming\\\\Python\\\\Python311\\\\site-packages', 'C:\\\\Users\\\\jz421\\\\AppData\\\\Roaming\\\\Python\\\\Python311\\\\site-packages\\\\win32', 'C:\\\\Users\\\\jz421\\\\AppData\\\\Roaming\\\\Python\\\\Python311\\\\site-packages\\\\win32\\\\lib', 'C:\\\\Users\\\\jz421\\\\AppData\\\\Roaming\\\\Python\\\\Python311\\\\site-packages\\\\Pythonwin', 'c:\\\\Users\\\\jz421\\\\AppData\\\\Local\\\\anaconda3\\\\envs\\\\ieeg\\\\Lib\\\\site-packages', 'c:\\\\Users\\\\jz421\\\\AppData\\\\Local\\\\anaconda3\\\\envs\\\\ieeg\\\\Lib\\\\site-packages\\\\win32', 'c:\\\\Users\\\\jz421\\\\AppData\\\\Local\\\\anaconda3\\\\envs\\\\ieeg\\\\Lib\\\\site-packages\\\\win32\\\\lib', 'c:\\\\Users\\\\jz421\\\\AppData\\\\Local\\\\anaconda3\\\\envs\\\\ieeg\\\\Lib\\\\site-packages\\\\Pythonwin', 'C:/Users/jz421/Desktop/GlobalLocal/IEEG_Pipelines/']\n"
     ]
    },
    {
     "name": "stderr",
     "output_type": "stream",
     "text": [
      "Intel(R) Extension for Scikit-learn* enabled (https://github.com/intel/scikit-learn-intelex)\n"
     ]
    }
   ],
   "source": [
    "import sys\n",
    "import os\n",
    "\n",
    "print(sys.path)\n",
    "sys.path.append(\"C:/Users/jz421/Desktop/GlobalLocal/IEEG_Pipelines/\") #need to do this cuz otherwise ieeg isn't added to path...\n",
    "\n",
    "# Get the absolute path to the directory containing the current script\n",
    "# For GlobalLocal/src/analysis/preproc/make_epoched_data.py, this is GlobalLocal/src/analysis/preproc\n",
    "try:\n",
    "    # This will work if running as a .py script\n",
    "    current_file_path = os.path.abspath(__file__)\n",
    "    current_script_dir = os.path.dirname(current_file_path)\n",
    "except NameError:\n",
    "    # This will be executed if __file__ is not defined (e.g., in a Jupyter Notebook)\n",
    "    # os.getcwd() often gives the directory of the notebook,\n",
    "    # or the directory from which the Jupyter server was started.\n",
    "    current_script_dir = os.getcwd()\n",
    "\n",
    "# Navigate up three levels to get to the 'GlobalLocal' directory\n",
    "project_root = os.path.abspath(os.path.join(current_script_dir, '..', '..', '..'))\n",
    "\n",
    "# Add the 'GlobalLocal' directory to sys.path if it's not already there\n",
    "if project_root not in sys.path:\n",
    "    sys.path.insert(0, project_root) # insert at the beginning to prioritize it\n",
    "\n",
    "from ieeg.navigate import channel_outlier_marker, trial_ieeg, crop_empty_data, \\\n",
    "    outliers_to_nan\n",
    "from ieeg.io import raw_from_layout, get_data\n",
    "from ieeg.timefreq.utils import crop_pad\n",
    "from ieeg.timefreq import gamma\n",
    "from ieeg.calc.scaling import rescale\n",
    "import mne\n",
    "\n",
    "import numpy as np\n",
    "import pandas as pd\n",
    "from ieeg.calc.reshape import make_data_same\n",
    "from ieeg.calc.stats import time_perm_cluster\n",
    "from ieeg.calc.mat import LabeledArray, combine\n",
    "\n",
    "# TODO: hmm fix these utils imports, import the funcs individually. 6/1/25.\n",
    "from src.analysis.utils.general_utils import *\n",
    "from src.analysis.utils.general_utils import make_or_load_subjects_electrodes_to_ROIs_dict\n",
    "import matplotlib.pyplot as plt\n",
    "\n",
    "from pandas import read_csv\n",
    "import scipy.stats as stats\n",
    "import joblib\n",
    "\n",
    "from scipy.ndimage import label\n",
    "from scipy.stats import norm\n",
    "\n",
    "import json\n",
    "import pickle\n",
    "\n",
    "# rsa toolbox imports\n",
    "from rsatoolbox.io.mne import read_epochs\n",
    "from rsatoolbox.data.ops import merge_datasets\n",
    "from rsatoolbox.rdm import calc_rdm_movie\n",
    "from rsatoolbox.rdm.calc import _parse_input\n",
    "from rsatoolbox.util.build_rdm import _build_rdms\n",
    "from rsatoolbox.rdm import compare\n",
    "from rsatoolbox.vis import show_rdm\n",
    "from rsatoolbox.vis.timecourse import plot_timecourse\n",
    "\n",
    "from os.path import join, expanduser, basename\n",
    "import glob, json\n",
    "import numpy, tqdm, mne, pandas\n",
    "import rsatoolbox\n",
    "from sklearn.preprocessing import MinMaxScaler\n",
    "from matplotlib import pyplot\n",
    "\n",
    "from sklearn.model_selection import cross_val_score, StratifiedKFold\n",
    "from sklearn.linear_model import LogisticRegression\n",
    "from sklearn.svm import SVC\n",
    "from sklearn.preprocessing import StandardScaler\n",
    "from sklearn.pipeline import make_pipeline\n",
    "\n",
    "from sklearn.metrics import confusion_matrix, ConfusionMatrixDisplay\n",
    "from ieeg.decoding.decoders import PcaLdaClassification\n",
    "from ieeg.calc.oversample import MinimumNaNSplit\n",
    "from ieeg.calc.fast import mixup\n",
    "\n",
    "from src.analysis.config import experiment_conditions\n",
    "\n",
    "from src.analysis.utils.labeled_array_utils import (\n",
    "    put_data_in_labeled_array_per_roi_subject,\n",
    "    remove_nans_from_labeled_array,\n",
    "    remove_nans_from_all_roi_labeled_arrays,\n",
    "    concatenate_conditions_by_string,\n",
    "    get_data_in_time_range\n",
    ")\n",
    "\n",
    "from src.analysis.decoding.decoding import (\n",
    "    process_and_balance_data_for_decoding, \n",
    "    get_and_plot_confusion_matrix_for_rois_jim,\n",
    "    Decoder, \n",
    "    windower,\n",
    "    get_confusion_matrices_for_rois_time_window_decoding_jim,\n",
    "    compute_accuracies,\n",
    "    perform_time_perm_cluster_test_for_accuracies,\n",
    "    plot_accuracies\n",
    ")"
   ]
  },
  {
   "cell_type": "code",
   "execution_count": 2,
   "metadata": {},
   "outputs": [
    {
     "name": "stdout",
     "output_type": "stream",
     "text": [
      "Attempting to load the subjects' electrodes-to-ROIs dictionary...\n",
      "Loaded data from C:\\Users\\jz421\\Desktop\\GlobalLocal\\src\\analysis\\config\\subjects_electrodestoROIs_dict.json\n",
      "Dictionary loaded successfully. Ready to proceed!\n"
     ]
    }
   ],
   "source": [
    "subjects = ['D0057','D0059', 'D0063', 'D0065', 'D0069', 'D0071', 'D0077', 'D0090', 'D0094', 'D0100', 'D0102', 'D0103', 'D0107A', 'D0110', 'D0116', 'D0117', 'D0121']\n",
    "# subjects = ['D0057','D0059', 'D0063', 'D0065', 'D0069', 'D0071', 'D0077', 'D0090', 'D0094', 'D0100', 'D0102', 'D0103']\n",
    "# load in subjects electrodes to rois dict. If it doesn't already exist, make it and then load it.\n",
    "config_dir = r'C:\\Users\\jz421\\Desktop\\GlobalLocal\\src\\analysis\\config'\n",
    "subjects_electrodestoROIs_dict = make_or_load_subjects_electrodes_to_ROIs_dict(subjects, task='GlobalLocal', LAB_root=None, save_dir=config_dir, \n",
    "                                                filename='subjects_electrodestoROIs_dict.json')"
   ]
  },
  {
   "cell_type": "code",
   "execution_count": 3,
   "metadata": {},
   "outputs": [
    {
     "name": "stdout",
     "output_type": "stream",
     "text": [
      "Loading data for subject: D0057\n",
      "Reading C:\\Users\\jz421\\Box\\CoganLab\\BIDS-1.1_GlobalLocal\\BIDS\\derivatives\\freqFilt\\figs\\D0057\\D0057_Stimulus_0.5sec_within1sec_randoffset_preStimulusBase_decFactor_8_outliers_10_passband_70.0-150.0_padLength_0.5s_stat_func_ttest_ind_equal_var_False_HG_ev1_rescaled-epo.fif ...\n",
      "    Found the data of interest:\n",
      "        t =   -1000.00 ...    1500.00 ms\n",
      "        0 CTF compensation matrices available\n",
      "Not setting metadata\n",
      "449 matching events found\n",
      "No baseline correction applied\n",
      "0 projection items activated\n",
      "Reading C:\\Users\\jz421\\Box\\CoganLab\\BIDS-1.1_GlobalLocal\\BIDS\\derivatives\\freqFilt\\figs\\D0057\\D0057_Stimulus_0.5sec_within1sec_randoffset_preStimulusBase_decFactor_8_outliers_10_passband_70.0-150.0_padLength_0.5s_stat_func_ttest_ind_equal_var_False_HG_ev1_power_rescaled-epo.fif ...\n",
      "    Found the data of interest:\n",
      "        t =   -1000.00 ...    1500.00 ms\n",
      "        0 CTF compensation matrices available\n",
      "Not setting metadata\n",
      "449 matching events found\n",
      "No baseline correction applied\n",
      "0 projection items activated\n",
      "  Loading condition: Stimulus_bigSsmallHtaskG with parameters: {'BIDS_events': ['Stimulus/BigLetters/SmallLetterh/Taskg'], 'bigLetter': 's', 'smallLetter': 'h', 'task': 'g'}\n",
      "Not setting metadata\n",
      "59 matching events found\n",
      "No baseline correction applied\n"
     ]
    },
    {
     "name": "stderr",
     "output_type": "stream",
     "text": [
      "c:\\Users\\jz421\\Desktop\\GlobalLocal\\src\\analysis\\utils\\general_utils.py:424: RuntimeWarning: Concatenation of Annotations within Epochs is not supported yet. All annotations will be dropped.\n",
      "  event_epochs = mne.concatenate_epochs(combined_epochs)\n"
     ]
    },
    {
     "name": "stdout",
     "output_type": "stream",
     "text": [
      "    Original shape: (59, 175, 641)\n",
      "    Trials with all NaN values: 0\n",
      "    Average NaN count per trial: 119.5\n",
      "    Max NaN count in a trial: 1282\n",
      "    Stimulus_bigSsmallHtaskG: 59 valid trials out of 59\n",
      "  Loading condition: Stimulus_bigSsmallHtaskL with parameters: {'BIDS_events': ['Stimulus/BigLetters/SmallLetterh/Taskl'], 'bigLetter': 's', 'smallLetter': 'h', 'task': 'l'}\n",
      "Not setting metadata\n",
      "54 matching events found\n",
      "No baseline correction applied\n"
     ]
    },
    {
     "name": "stderr",
     "output_type": "stream",
     "text": [
      "c:\\Users\\jz421\\Desktop\\GlobalLocal\\src\\analysis\\utils\\general_utils.py:424: RuntimeWarning: Concatenation of Annotations within Epochs is not supported yet. All annotations will be dropped.\n",
      "  event_epochs = mne.concatenate_epochs(combined_epochs)\n"
     ]
    },
    {
     "name": "stdout",
     "output_type": "stream",
     "text": [
      "    Original shape: (54, 175, 641)\n",
      "    Trials with all NaN values: 0\n",
      "    Average NaN count per trial: 130.6\n",
      "    Max NaN count in a trial: 1923\n",
      "    Stimulus_bigSsmallHtaskL: 54 valid trials out of 54\n",
      "  Loading condition: Stimulus_bigSsmallStaskG with parameters: {'BIDS_events': ['Stimulus/BigLetters/SmallLetters/Taskg'], 'bigLetter': 's', 'smallLetter': 's', 'task': 'g'}\n",
      "Not setting metadata\n",
      "53 matching events found\n",
      "No baseline correction applied\n"
     ]
    },
    {
     "name": "stderr",
     "output_type": "stream",
     "text": [
      "c:\\Users\\jz421\\Desktop\\GlobalLocal\\src\\analysis\\utils\\general_utils.py:424: RuntimeWarning: Concatenation of Annotations within Epochs is not supported yet. All annotations will be dropped.\n",
      "  event_epochs = mne.concatenate_epochs(combined_epochs)\n"
     ]
    },
    {
     "name": "stdout",
     "output_type": "stream",
     "text": [
      "    Original shape: (53, 175, 641)\n",
      "    Trials with all NaN values: 0\n",
      "    Average NaN count per trial: 157.2\n",
      "    Max NaN count in a trial: 1282\n",
      "    Stimulus_bigSsmallStaskG: 53 valid trials out of 53\n",
      "  Loading condition: Stimulus_bigSsmallStaskL with parameters: {'BIDS_events': ['Stimulus/BigLetters/SmallLetters/Taskl'], 'bigLetter': 's', 'smallLetter': 's', 'task': 'l'}\n",
      "Not setting metadata\n",
      "34 matching events found\n",
      "No baseline correction applied\n"
     ]
    },
    {
     "name": "stderr",
     "output_type": "stream",
     "text": [
      "c:\\Users\\jz421\\Desktop\\GlobalLocal\\src\\analysis\\utils\\general_utils.py:424: RuntimeWarning: Concatenation of Annotations within Epochs is not supported yet. All annotations will be dropped.\n",
      "  event_epochs = mne.concatenate_epochs(combined_epochs)\n"
     ]
    },
    {
     "name": "stdout",
     "output_type": "stream",
     "text": [
      "    Original shape: (34, 175, 641)\n",
      "    Trials with all NaN values: 0\n",
      "    Average NaN count per trial: 113.1\n",
      "    Max NaN count in a trial: 641\n",
      "    Stimulus_bigSsmallStaskL: 34 valid trials out of 34\n",
      "  Loading condition: Stimulus_bigHsmallHtaskG with parameters: {'BIDS_events': ['Stimulus/BigLetterh/SmallLetterh/Taskg'], 'bigLetter': 'h', 'smallLetter': 'h', 'task': 'g'}\n",
      "Not setting metadata\n",
      "51 matching events found\n",
      "No baseline correction applied\n"
     ]
    },
    {
     "name": "stderr",
     "output_type": "stream",
     "text": [
      "c:\\Users\\jz421\\Desktop\\GlobalLocal\\src\\analysis\\utils\\general_utils.py:424: RuntimeWarning: Concatenation of Annotations within Epochs is not supported yet. All annotations will be dropped.\n",
      "  event_epochs = mne.concatenate_epochs(combined_epochs)\n"
     ]
    },
    {
     "name": "stdout",
     "output_type": "stream",
     "text": [
      "    Original shape: (51, 175, 641)\n",
      "    Trials with all NaN values: 0\n",
      "    Average NaN count per trial: 113.1\n",
      "    Max NaN count in a trial: 1282\n",
      "    Stimulus_bigHsmallHtaskG: 51 valid trials out of 51\n",
      "  Loading condition: Stimulus_bigHsmallHtaskL with parameters: {'BIDS_events': ['Stimulus/BigLetterh/SmallLetterh/Taskl'], 'bigLetter': 'h', 'smallLetter': 'h', 'task': 'l'}\n",
      "Not setting metadata\n",
      "60 matching events found\n",
      "No baseline correction applied\n"
     ]
    },
    {
     "name": "stderr",
     "output_type": "stream",
     "text": [
      "c:\\Users\\jz421\\Desktop\\GlobalLocal\\src\\analysis\\utils\\general_utils.py:424: RuntimeWarning: Concatenation of Annotations within Epochs is not supported yet. All annotations will be dropped.\n",
      "  event_epochs = mne.concatenate_epochs(combined_epochs)\n"
     ]
    },
    {
     "name": "stdout",
     "output_type": "stream",
     "text": [
      "    Original shape: (60, 175, 641)\n",
      "    Trials with all NaN values: 0\n",
      "    Average NaN count per trial: 96.2\n",
      "    Max NaN count in a trial: 1282\n",
      "    Stimulus_bigHsmallHtaskL: 60 valid trials out of 60\n",
      "  Loading condition: Stimulus_bigHsmallStaskG with parameters: {'BIDS_events': ['Stimulus/BigLetterh/SmallLetters/Taskg'], 'bigLetter': 'h', 'smallLetter': 's', 'task': 'g'}\n",
      "Not setting metadata\n",
      "42 matching events found\n",
      "No baseline correction applied\n"
     ]
    },
    {
     "name": "stderr",
     "output_type": "stream",
     "text": [
      "c:\\Users\\jz421\\Desktop\\GlobalLocal\\src\\analysis\\utils\\general_utils.py:424: RuntimeWarning: Concatenation of Annotations within Epochs is not supported yet. All annotations will be dropped.\n",
      "  event_epochs = mne.concatenate_epochs(combined_epochs)\n"
     ]
    },
    {
     "name": "stdout",
     "output_type": "stream",
     "text": [
      "    Original shape: (42, 175, 641)\n",
      "    Trials with all NaN values: 0\n",
      "    Average NaN count per trial: 122.1\n",
      "    Max NaN count in a trial: 1282\n",
      "    Stimulus_bigHsmallStaskG: 42 valid trials out of 42\n",
      "  Loading condition: Stimulus_bigHsmallStaskL with parameters: {'BIDS_events': ['Stimulus/BigLetterh/SmallLetters/Taskl'], 'bigLetter': 'h', 'smallLetter': 's', 'task': 'l'}\n",
      "Not setting metadata\n",
      "52 matching events found\n",
      "No baseline correction applied\n"
     ]
    },
    {
     "name": "stderr",
     "output_type": "stream",
     "text": [
      "c:\\Users\\jz421\\Desktop\\GlobalLocal\\src\\analysis\\utils\\general_utils.py:424: RuntimeWarning: Concatenation of Annotations within Epochs is not supported yet. All annotations will be dropped.\n",
      "  event_epochs = mne.concatenate_epochs(combined_epochs)\n"
     ]
    },
    {
     "name": "stdout",
     "output_type": "stream",
     "text": [
      "    Original shape: (52, 175, 641)\n",
      "    Trials with all NaN values: 0\n",
      "    Average NaN count per trial: 123.3\n",
      "    Max NaN count in a trial: 1282\n",
      "    Stimulus_bigHsmallStaskL: 52 valid trials out of 52\n",
      "  Loading condition: Stimulus_bigSsmallHtaskG with parameters: {'BIDS_events': ['Stimulus/BigLetters/SmallLetterh/Taskg'], 'bigLetter': 's', 'smallLetter': 'h', 'task': 'g'}\n",
      "Not setting metadata\n",
      "59 matching events found\n",
      "No baseline correction applied\n"
     ]
    },
    {
     "name": "stderr",
     "output_type": "stream",
     "text": [
      "c:\\Users\\jz421\\Desktop\\GlobalLocal\\src\\analysis\\utils\\general_utils.py:424: RuntimeWarning: Concatenation of Annotations within Epochs is not supported yet. All annotations will be dropped.\n",
      "  event_epochs = mne.concatenate_epochs(combined_epochs)\n"
     ]
    },
    {
     "name": "stdout",
     "output_type": "stream",
     "text": [
      "    Original shape: (59, 175, 641)\n",
      "    Trials with all NaN values: 0\n",
      "    Average NaN count per trial: 119.5\n",
      "    Max NaN count in a trial: 1282\n",
      "    Stimulus_bigSsmallHtaskG: 59 valid trials out of 59\n",
      "  Loading condition: Stimulus_bigSsmallHtaskL with parameters: {'BIDS_events': ['Stimulus/BigLetters/SmallLetterh/Taskl'], 'bigLetter': 's', 'smallLetter': 'h', 'task': 'l'}\n",
      "Not setting metadata\n",
      "54 matching events found\n",
      "No baseline correction applied\n"
     ]
    },
    {
     "name": "stderr",
     "output_type": "stream",
     "text": [
      "c:\\Users\\jz421\\Desktop\\GlobalLocal\\src\\analysis\\utils\\general_utils.py:424: RuntimeWarning: Concatenation of Annotations within Epochs is not supported yet. All annotations will be dropped.\n",
      "  event_epochs = mne.concatenate_epochs(combined_epochs)\n"
     ]
    },
    {
     "name": "stdout",
     "output_type": "stream",
     "text": [
      "    Original shape: (54, 175, 641)\n",
      "    Trials with all NaN values: 0\n",
      "    Average NaN count per trial: 130.6\n",
      "    Max NaN count in a trial: 1923\n",
      "    Stimulus_bigSsmallHtaskL: 54 valid trials out of 54\n",
      "  Loading condition: Stimulus_bigSsmallStaskG with parameters: {'BIDS_events': ['Stimulus/BigLetters/SmallLetters/Taskg'], 'bigLetter': 's', 'smallLetter': 's', 'task': 'g'}\n",
      "Not setting metadata\n",
      "53 matching events found\n",
      "No baseline correction applied\n"
     ]
    },
    {
     "name": "stderr",
     "output_type": "stream",
     "text": [
      "c:\\Users\\jz421\\Desktop\\GlobalLocal\\src\\analysis\\utils\\general_utils.py:424: RuntimeWarning: Concatenation of Annotations within Epochs is not supported yet. All annotations will be dropped.\n",
      "  event_epochs = mne.concatenate_epochs(combined_epochs)\n"
     ]
    },
    {
     "name": "stdout",
     "output_type": "stream",
     "text": [
      "    Original shape: (53, 175, 641)\n",
      "    Trials with all NaN values: 0\n",
      "    Average NaN count per trial: 157.2\n",
      "    Max NaN count in a trial: 1282\n",
      "    Stimulus_bigSsmallStaskG: 53 valid trials out of 53\n",
      "  Loading condition: Stimulus_bigSsmallStaskL with parameters: {'BIDS_events': ['Stimulus/BigLetters/SmallLetters/Taskl'], 'bigLetter': 's', 'smallLetter': 's', 'task': 'l'}\n",
      "Not setting metadata\n",
      "34 matching events found\n",
      "No baseline correction applied\n"
     ]
    },
    {
     "name": "stderr",
     "output_type": "stream",
     "text": [
      "c:\\Users\\jz421\\Desktop\\GlobalLocal\\src\\analysis\\utils\\general_utils.py:424: RuntimeWarning: Concatenation of Annotations within Epochs is not supported yet. All annotations will be dropped.\n",
      "  event_epochs = mne.concatenate_epochs(combined_epochs)\n"
     ]
    },
    {
     "name": "stdout",
     "output_type": "stream",
     "text": [
      "    Original shape: (34, 175, 641)\n",
      "    Trials with all NaN values: 0\n",
      "    Average NaN count per trial: 113.1\n",
      "    Max NaN count in a trial: 641\n",
      "    Stimulus_bigSsmallStaskL: 34 valid trials out of 34\n",
      "  Loading condition: Stimulus_bigHsmallHtaskG with parameters: {'BIDS_events': ['Stimulus/BigLetterh/SmallLetterh/Taskg'], 'bigLetter': 'h', 'smallLetter': 'h', 'task': 'g'}\n",
      "Not setting metadata\n",
      "51 matching events found\n",
      "No baseline correction applied\n"
     ]
    },
    {
     "name": "stderr",
     "output_type": "stream",
     "text": [
      "c:\\Users\\jz421\\Desktop\\GlobalLocal\\src\\analysis\\utils\\general_utils.py:424: RuntimeWarning: Concatenation of Annotations within Epochs is not supported yet. All annotations will be dropped.\n",
      "  event_epochs = mne.concatenate_epochs(combined_epochs)\n"
     ]
    },
    {
     "name": "stdout",
     "output_type": "stream",
     "text": [
      "    Original shape: (51, 175, 641)\n",
      "    Trials with all NaN values: 0\n",
      "    Average NaN count per trial: 113.1\n",
      "    Max NaN count in a trial: 1282\n",
      "    Stimulus_bigHsmallHtaskG: 51 valid trials out of 51\n",
      "  Loading condition: Stimulus_bigHsmallHtaskL with parameters: {'BIDS_events': ['Stimulus/BigLetterh/SmallLetterh/Taskl'], 'bigLetter': 'h', 'smallLetter': 'h', 'task': 'l'}\n",
      "Not setting metadata\n",
      "60 matching events found\n",
      "No baseline correction applied\n"
     ]
    },
    {
     "name": "stderr",
     "output_type": "stream",
     "text": [
      "c:\\Users\\jz421\\Desktop\\GlobalLocal\\src\\analysis\\utils\\general_utils.py:424: RuntimeWarning: Concatenation of Annotations within Epochs is not supported yet. All annotations will be dropped.\n",
      "  event_epochs = mne.concatenate_epochs(combined_epochs)\n"
     ]
    },
    {
     "name": "stdout",
     "output_type": "stream",
     "text": [
      "    Original shape: (60, 175, 641)\n",
      "    Trials with all NaN values: 0\n",
      "    Average NaN count per trial: 96.2\n",
      "    Max NaN count in a trial: 1282\n",
      "    Stimulus_bigHsmallHtaskL: 60 valid trials out of 60\n",
      "  Loading condition: Stimulus_bigHsmallStaskG with parameters: {'BIDS_events': ['Stimulus/BigLetterh/SmallLetters/Taskg'], 'bigLetter': 'h', 'smallLetter': 's', 'task': 'g'}\n",
      "Not setting metadata\n",
      "42 matching events found\n",
      "No baseline correction applied\n"
     ]
    },
    {
     "name": "stderr",
     "output_type": "stream",
     "text": [
      "c:\\Users\\jz421\\Desktop\\GlobalLocal\\src\\analysis\\utils\\general_utils.py:424: RuntimeWarning: Concatenation of Annotations within Epochs is not supported yet. All annotations will be dropped.\n",
      "  event_epochs = mne.concatenate_epochs(combined_epochs)\n"
     ]
    },
    {
     "name": "stdout",
     "output_type": "stream",
     "text": [
      "    Original shape: (42, 175, 641)\n",
      "    Trials with all NaN values: 0\n",
      "    Average NaN count per trial: 122.1\n",
      "    Max NaN count in a trial: 1282\n",
      "    Stimulus_bigHsmallStaskG: 42 valid trials out of 42\n",
      "  Loading condition: Stimulus_bigHsmallStaskL with parameters: {'BIDS_events': ['Stimulus/BigLetterh/SmallLetters/Taskl'], 'bigLetter': 'h', 'smallLetter': 's', 'task': 'l'}\n",
      "Not setting metadata\n",
      "52 matching events found\n",
      "No baseline correction applied\n"
     ]
    },
    {
     "name": "stderr",
     "output_type": "stream",
     "text": [
      "c:\\Users\\jz421\\Desktop\\GlobalLocal\\src\\analysis\\utils\\general_utils.py:424: RuntimeWarning: Concatenation of Annotations within Epochs is not supported yet. All annotations will be dropped.\n",
      "  event_epochs = mne.concatenate_epochs(combined_epochs)\n"
     ]
    },
    {
     "name": "stdout",
     "output_type": "stream",
     "text": [
      "    Original shape: (52, 175, 641)\n",
      "    Trials with all NaN values: 0\n",
      "    Average NaN count per trial: 123.3\n",
      "    Max NaN count in a trial: 1282\n",
      "    Stimulus_bigHsmallStaskL: 52 valid trials out of 52\n",
      "Loading data for subject: D0059\n",
      "Reading C:\\Users\\jz421\\Box\\CoganLab\\BIDS-1.1_GlobalLocal\\BIDS\\derivatives\\freqFilt\\figs\\D0059\\D0059_Stimulus_0.5sec_within1sec_randoffset_preStimulusBase_decFactor_8_outliers_10_passband_70.0-150.0_padLength_0.5s_stat_func_ttest_ind_equal_var_False_HG_ev1_rescaled-epo.fif ...\n",
      "    Found the data of interest:\n",
      "        t =   -1000.00 ...    1500.00 ms\n",
      "        0 CTF compensation matrices available\n",
      "Not setting metadata\n",
      "448 matching events found\n",
      "No baseline correction applied\n",
      "0 projection items activated\n",
      "Reading C:\\Users\\jz421\\Box\\CoganLab\\BIDS-1.1_GlobalLocal\\BIDS\\derivatives\\freqFilt\\figs\\D0059\\D0059_Stimulus_0.5sec_within1sec_randoffset_preStimulusBase_decFactor_8_outliers_10_passband_70.0-150.0_padLength_0.5s_stat_func_ttest_ind_equal_var_False_HG_ev1_power_rescaled-epo.fif ...\n",
      "    Found the data of interest:\n",
      "        t =   -1000.00 ...    1500.00 ms\n",
      "        0 CTF compensation matrices available\n",
      "Not setting metadata\n",
      "448 matching events found\n",
      "No baseline correction applied\n",
      "0 projection items activated\n",
      "  Loading condition: Stimulus_bigSsmallHtaskG with parameters: {'BIDS_events': ['Stimulus/BigLetters/SmallLetterh/Taskg'], 'bigLetter': 's', 'smallLetter': 'h', 'task': 'g'}\n",
      "Not setting metadata\n",
      "48 matching events found\n",
      "No baseline correction applied\n"
     ]
    },
    {
     "name": "stderr",
     "output_type": "stream",
     "text": [
      "c:\\Users\\jz421\\Desktop\\GlobalLocal\\src\\analysis\\utils\\general_utils.py:424: RuntimeWarning: Concatenation of Annotations within Epochs is not supported yet. All annotations will be dropped.\n",
      "  event_epochs = mne.concatenate_epochs(combined_epochs)\n"
     ]
    },
    {
     "name": "stdout",
     "output_type": "stream",
     "text": [
      "    Original shape: (48, 174, 641)\n",
      "    Trials with all NaN values: 0\n",
      "    Average NaN count per trial: 307.1\n",
      "    Max NaN count in a trial: 3205\n",
      "    Stimulus_bigSsmallHtaskG: 48 valid trials out of 48\n",
      "  Loading condition: Stimulus_bigSsmallHtaskL with parameters: {'BIDS_events': ['Stimulus/BigLetters/SmallLetterh/Taskl'], 'bigLetter': 's', 'smallLetter': 'h', 'task': 'l'}\n",
      "Not setting metadata\n",
      "57 matching events found\n",
      "No baseline correction applied\n"
     ]
    },
    {
     "name": "stderr",
     "output_type": "stream",
     "text": [
      "c:\\Users\\jz421\\Desktop\\GlobalLocal\\src\\analysis\\utils\\general_utils.py:424: RuntimeWarning: Concatenation of Annotations within Epochs is not supported yet. All annotations will be dropped.\n",
      "  event_epochs = mne.concatenate_epochs(combined_epochs)\n"
     ]
    },
    {
     "name": "stdout",
     "output_type": "stream",
     "text": [
      "    Original shape: (57, 174, 641)\n",
      "    Trials with all NaN values: 0\n",
      "    Average NaN count per trial: 506.1\n",
      "    Max NaN count in a trial: 8333\n",
      "    Stimulus_bigSsmallHtaskL: 57 valid trials out of 57\n",
      "  Loading condition: Stimulus_bigSsmallStaskG with parameters: {'BIDS_events': ['Stimulus/BigLetters/SmallLetters/Taskg'], 'bigLetter': 's', 'smallLetter': 's', 'task': 'g'}\n",
      "Not setting metadata\n",
      "62 matching events found\n",
      "No baseline correction applied\n"
     ]
    },
    {
     "name": "stderr",
     "output_type": "stream",
     "text": [
      "c:\\Users\\jz421\\Desktop\\GlobalLocal\\src\\analysis\\utils\\general_utils.py:424: RuntimeWarning: Concatenation of Annotations within Epochs is not supported yet. All annotations will be dropped.\n",
      "  event_epochs = mne.concatenate_epochs(combined_epochs)\n"
     ]
    },
    {
     "name": "stdout",
     "output_type": "stream",
     "text": [
      "    Original shape: (62, 174, 641)\n",
      "    Trials with all NaN values: 0\n",
      "    Average NaN count per trial: 310.2\n",
      "    Max NaN count in a trial: 6410\n",
      "    Stimulus_bigSsmallStaskG: 62 valid trials out of 62\n",
      "  Loading condition: Stimulus_bigSsmallStaskL with parameters: {'BIDS_events': ['Stimulus/BigLetters/SmallLetters/Taskl'], 'bigLetter': 's', 'smallLetter': 's', 'task': 'l'}\n",
      "Not setting metadata\n",
      "47 matching events found\n",
      "No baseline correction applied\n"
     ]
    },
    {
     "name": "stderr",
     "output_type": "stream",
     "text": [
      "c:\\Users\\jz421\\Desktop\\GlobalLocal\\src\\analysis\\utils\\general_utils.py:424: RuntimeWarning: Concatenation of Annotations within Epochs is not supported yet. All annotations will be dropped.\n",
      "  event_epochs = mne.concatenate_epochs(combined_epochs)\n"
     ]
    },
    {
     "name": "stdout",
     "output_type": "stream",
     "text": [
      "    Original shape: (47, 174, 641)\n",
      "    Trials with all NaN values: 0\n",
      "    Average NaN count per trial: 327.3\n",
      "    Max NaN count in a trial: 3846\n",
      "    Stimulus_bigSsmallStaskL: 47 valid trials out of 47\n",
      "  Loading condition: Stimulus_bigHsmallHtaskG with parameters: {'BIDS_events': ['Stimulus/BigLetterh/SmallLetterh/Taskg'], 'bigLetter': 'h', 'smallLetter': 'h', 'task': 'g'}\n",
      "Not setting metadata\n",
      "52 matching events found\n",
      "No baseline correction applied\n"
     ]
    },
    {
     "name": "stderr",
     "output_type": "stream",
     "text": [
      "c:\\Users\\jz421\\Desktop\\GlobalLocal\\src\\analysis\\utils\\general_utils.py:424: RuntimeWarning: Concatenation of Annotations within Epochs is not supported yet. All annotations will be dropped.\n",
      "  event_epochs = mne.concatenate_epochs(combined_epochs)\n"
     ]
    },
    {
     "name": "stdout",
     "output_type": "stream",
     "text": [
      "    Original shape: (52, 174, 641)\n",
      "    Trials with all NaN values: 0\n",
      "    Average NaN count per trial: 283.5\n",
      "    Max NaN count in a trial: 3846\n",
      "    Stimulus_bigHsmallHtaskG: 52 valid trials out of 52\n",
      "  Loading condition: Stimulus_bigHsmallHtaskL with parameters: {'BIDS_events': ['Stimulus/BigLetterh/SmallLetterh/Taskl'], 'bigLetter': 'h', 'smallLetter': 'h', 'task': 'l'}\n",
      "Not setting metadata\n",
      "55 matching events found\n",
      "No baseline correction applied\n"
     ]
    },
    {
     "name": "stderr",
     "output_type": "stream",
     "text": [
      "c:\\Users\\jz421\\Desktop\\GlobalLocal\\src\\analysis\\utils\\general_utils.py:424: RuntimeWarning: Concatenation of Annotations within Epochs is not supported yet. All annotations will be dropped.\n",
      "  event_epochs = mne.concatenate_epochs(combined_epochs)\n"
     ]
    },
    {
     "name": "stdout",
     "output_type": "stream",
     "text": [
      "    Original shape: (55, 174, 641)\n",
      "    Trials with all NaN values: 0\n",
      "    Average NaN count per trial: 419.6\n",
      "    Max NaN count in a trial: 3205\n",
      "    Stimulus_bigHsmallHtaskL: 55 valid trials out of 55\n",
      "  Loading condition: Stimulus_bigHsmallStaskG with parameters: {'BIDS_events': ['Stimulus/BigLetterh/SmallLetters/Taskg'], 'bigLetter': 'h', 'smallLetter': 's', 'task': 'g'}\n",
      "Not setting metadata\n",
      "50 matching events found\n",
      "No baseline correction applied\n"
     ]
    },
    {
     "name": "stderr",
     "output_type": "stream",
     "text": [
      "c:\\Users\\jz421\\Desktop\\GlobalLocal\\src\\analysis\\utils\\general_utils.py:424: RuntimeWarning: Concatenation of Annotations within Epochs is not supported yet. All annotations will be dropped.\n",
      "  event_epochs = mne.concatenate_epochs(combined_epochs)\n"
     ]
    },
    {
     "name": "stdout",
     "output_type": "stream",
     "text": [
      "    Original shape: (50, 174, 641)\n",
      "    Trials with all NaN values: 0\n",
      "    Average NaN count per trial: 807.7\n",
      "    Max NaN count in a trial: 12820\n",
      "    Stimulus_bigHsmallStaskG: 50 valid trials out of 50\n",
      "  Loading condition: Stimulus_bigHsmallStaskL with parameters: {'BIDS_events': ['Stimulus/BigLetterh/SmallLetters/Taskl'], 'bigLetter': 'h', 'smallLetter': 's', 'task': 'l'}\n",
      "Not setting metadata\n",
      "56 matching events found\n",
      "No baseline correction applied\n"
     ]
    },
    {
     "name": "stderr",
     "output_type": "stream",
     "text": [
      "c:\\Users\\jz421\\Desktop\\GlobalLocal\\src\\analysis\\utils\\general_utils.py:424: RuntimeWarning: Concatenation of Annotations within Epochs is not supported yet. All annotations will be dropped.\n",
      "  event_epochs = mne.concatenate_epochs(combined_epochs)\n"
     ]
    },
    {
     "name": "stdout",
     "output_type": "stream",
     "text": [
      "    Original shape: (56, 174, 641)\n",
      "    Trials with all NaN values: 0\n",
      "    Average NaN count per trial: 915.7\n",
      "    Max NaN count in a trial: 8333\n",
      "    Stimulus_bigHsmallStaskL: 56 valid trials out of 56\n",
      "  Loading condition: Stimulus_bigSsmallHtaskG with parameters: {'BIDS_events': ['Stimulus/BigLetters/SmallLetterh/Taskg'], 'bigLetter': 's', 'smallLetter': 'h', 'task': 'g'}\n",
      "Not setting metadata\n",
      "48 matching events found\n",
      "No baseline correction applied\n"
     ]
    },
    {
     "name": "stderr",
     "output_type": "stream",
     "text": [
      "c:\\Users\\jz421\\Desktop\\GlobalLocal\\src\\analysis\\utils\\general_utils.py:424: RuntimeWarning: Concatenation of Annotations within Epochs is not supported yet. All annotations will be dropped.\n",
      "  event_epochs = mne.concatenate_epochs(combined_epochs)\n"
     ]
    },
    {
     "name": "stdout",
     "output_type": "stream",
     "text": [
      "    Original shape: (48, 174, 641)\n",
      "    Trials with all NaN values: 0\n",
      "    Average NaN count per trial: 307.1\n",
      "    Max NaN count in a trial: 3205\n",
      "    Stimulus_bigSsmallHtaskG: 48 valid trials out of 48\n",
      "  Loading condition: Stimulus_bigSsmallHtaskL with parameters: {'BIDS_events': ['Stimulus/BigLetters/SmallLetterh/Taskl'], 'bigLetter': 's', 'smallLetter': 'h', 'task': 'l'}\n",
      "Not setting metadata\n",
      "57 matching events found\n",
      "No baseline correction applied\n"
     ]
    },
    {
     "name": "stderr",
     "output_type": "stream",
     "text": [
      "c:\\Users\\jz421\\Desktop\\GlobalLocal\\src\\analysis\\utils\\general_utils.py:424: RuntimeWarning: Concatenation of Annotations within Epochs is not supported yet. All annotations will be dropped.\n",
      "  event_epochs = mne.concatenate_epochs(combined_epochs)\n"
     ]
    },
    {
     "name": "stdout",
     "output_type": "stream",
     "text": [
      "    Original shape: (57, 174, 641)\n",
      "    Trials with all NaN values: 0\n",
      "    Average NaN count per trial: 506.1\n",
      "    Max NaN count in a trial: 8333\n",
      "    Stimulus_bigSsmallHtaskL: 57 valid trials out of 57\n",
      "  Loading condition: Stimulus_bigSsmallStaskG with parameters: {'BIDS_events': ['Stimulus/BigLetters/SmallLetters/Taskg'], 'bigLetter': 's', 'smallLetter': 's', 'task': 'g'}\n",
      "Not setting metadata\n",
      "62 matching events found\n",
      "No baseline correction applied\n"
     ]
    },
    {
     "name": "stderr",
     "output_type": "stream",
     "text": [
      "c:\\Users\\jz421\\Desktop\\GlobalLocal\\src\\analysis\\utils\\general_utils.py:424: RuntimeWarning: Concatenation of Annotations within Epochs is not supported yet. All annotations will be dropped.\n",
      "  event_epochs = mne.concatenate_epochs(combined_epochs)\n"
     ]
    },
    {
     "name": "stdout",
     "output_type": "stream",
     "text": [
      "    Original shape: (62, 174, 641)\n",
      "    Trials with all NaN values: 0\n",
      "    Average NaN count per trial: 310.2\n",
      "    Max NaN count in a trial: 6410\n",
      "    Stimulus_bigSsmallStaskG: 62 valid trials out of 62\n",
      "  Loading condition: Stimulus_bigSsmallStaskL with parameters: {'BIDS_events': ['Stimulus/BigLetters/SmallLetters/Taskl'], 'bigLetter': 's', 'smallLetter': 's', 'task': 'l'}\n",
      "Not setting metadata\n",
      "47 matching events found\n",
      "No baseline correction applied\n"
     ]
    },
    {
     "name": "stderr",
     "output_type": "stream",
     "text": [
      "c:\\Users\\jz421\\Desktop\\GlobalLocal\\src\\analysis\\utils\\general_utils.py:424: RuntimeWarning: Concatenation of Annotations within Epochs is not supported yet. All annotations will be dropped.\n",
      "  event_epochs = mne.concatenate_epochs(combined_epochs)\n"
     ]
    },
    {
     "name": "stdout",
     "output_type": "stream",
     "text": [
      "    Original shape: (47, 174, 641)\n",
      "    Trials with all NaN values: 0\n",
      "    Average NaN count per trial: 327.3\n",
      "    Max NaN count in a trial: 3846\n",
      "    Stimulus_bigSsmallStaskL: 47 valid trials out of 47\n",
      "  Loading condition: Stimulus_bigHsmallHtaskG with parameters: {'BIDS_events': ['Stimulus/BigLetterh/SmallLetterh/Taskg'], 'bigLetter': 'h', 'smallLetter': 'h', 'task': 'g'}\n",
      "Not setting metadata\n",
      "52 matching events found\n",
      "No baseline correction applied\n"
     ]
    },
    {
     "name": "stderr",
     "output_type": "stream",
     "text": [
      "c:\\Users\\jz421\\Desktop\\GlobalLocal\\src\\analysis\\utils\\general_utils.py:424: RuntimeWarning: Concatenation of Annotations within Epochs is not supported yet. All annotations will be dropped.\n",
      "  event_epochs = mne.concatenate_epochs(combined_epochs)\n"
     ]
    },
    {
     "name": "stdout",
     "output_type": "stream",
     "text": [
      "    Original shape: (52, 174, 641)\n",
      "    Trials with all NaN values: 0\n",
      "    Average NaN count per trial: 283.5\n",
      "    Max NaN count in a trial: 3846\n",
      "    Stimulus_bigHsmallHtaskG: 52 valid trials out of 52\n",
      "  Loading condition: Stimulus_bigHsmallHtaskL with parameters: {'BIDS_events': ['Stimulus/BigLetterh/SmallLetterh/Taskl'], 'bigLetter': 'h', 'smallLetter': 'h', 'task': 'l'}\n",
      "Not setting metadata\n",
      "55 matching events found\n",
      "No baseline correction applied\n"
     ]
    },
    {
     "name": "stderr",
     "output_type": "stream",
     "text": [
      "c:\\Users\\jz421\\Desktop\\GlobalLocal\\src\\analysis\\utils\\general_utils.py:424: RuntimeWarning: Concatenation of Annotations within Epochs is not supported yet. All annotations will be dropped.\n",
      "  event_epochs = mne.concatenate_epochs(combined_epochs)\n"
     ]
    },
    {
     "name": "stdout",
     "output_type": "stream",
     "text": [
      "    Original shape: (55, 174, 641)\n",
      "    Trials with all NaN values: 0\n",
      "    Average NaN count per trial: 419.6\n",
      "    Max NaN count in a trial: 3205\n",
      "    Stimulus_bigHsmallHtaskL: 55 valid trials out of 55\n",
      "  Loading condition: Stimulus_bigHsmallStaskG with parameters: {'BIDS_events': ['Stimulus/BigLetterh/SmallLetters/Taskg'], 'bigLetter': 'h', 'smallLetter': 's', 'task': 'g'}\n",
      "Not setting metadata\n",
      "50 matching events found\n",
      "No baseline correction applied\n"
     ]
    },
    {
     "name": "stderr",
     "output_type": "stream",
     "text": [
      "c:\\Users\\jz421\\Desktop\\GlobalLocal\\src\\analysis\\utils\\general_utils.py:424: RuntimeWarning: Concatenation of Annotations within Epochs is not supported yet. All annotations will be dropped.\n",
      "  event_epochs = mne.concatenate_epochs(combined_epochs)\n"
     ]
    },
    {
     "name": "stdout",
     "output_type": "stream",
     "text": [
      "    Original shape: (50, 174, 641)\n",
      "    Trials with all NaN values: 0\n",
      "    Average NaN count per trial: 807.7\n",
      "    Max NaN count in a trial: 12820\n",
      "    Stimulus_bigHsmallStaskG: 50 valid trials out of 50\n",
      "  Loading condition: Stimulus_bigHsmallStaskL with parameters: {'BIDS_events': ['Stimulus/BigLetterh/SmallLetters/Taskl'], 'bigLetter': 'h', 'smallLetter': 's', 'task': 'l'}\n",
      "Not setting metadata\n",
      "56 matching events found\n",
      "No baseline correction applied\n"
     ]
    },
    {
     "name": "stderr",
     "output_type": "stream",
     "text": [
      "c:\\Users\\jz421\\Desktop\\GlobalLocal\\src\\analysis\\utils\\general_utils.py:424: RuntimeWarning: Concatenation of Annotations within Epochs is not supported yet. All annotations will be dropped.\n",
      "  event_epochs = mne.concatenate_epochs(combined_epochs)\n"
     ]
    },
    {
     "name": "stdout",
     "output_type": "stream",
     "text": [
      "    Original shape: (56, 174, 641)\n",
      "    Trials with all NaN values: 0\n",
      "    Average NaN count per trial: 915.7\n",
      "    Max NaN count in a trial: 8333\n",
      "    Stimulus_bigHsmallStaskL: 56 valid trials out of 56\n",
      "Loading data for subject: D0063\n",
      "Reading C:\\Users\\jz421\\Box\\CoganLab\\BIDS-1.1_GlobalLocal\\BIDS\\derivatives\\freqFilt\\figs\\D0063\\D0063_Stimulus_0.5sec_within1sec_randoffset_preStimulusBase_decFactor_8_outliers_10_passband_70.0-150.0_padLength_0.5s_stat_func_ttest_ind_equal_var_False_HG_ev1_rescaled-epo.fif ...\n",
      "    Found the data of interest:\n",
      "        t =   -1000.00 ...    1500.00 ms\n",
      "        0 CTF compensation matrices available\n",
      "Not setting metadata\n",
      "452 matching events found\n",
      "No baseline correction applied\n",
      "0 projection items activated\n",
      "Reading C:\\Users\\jz421\\Box\\CoganLab\\BIDS-1.1_GlobalLocal\\BIDS\\derivatives\\freqFilt\\figs\\D0063\\D0063_Stimulus_0.5sec_within1sec_randoffset_preStimulusBase_decFactor_8_outliers_10_passband_70.0-150.0_padLength_0.5s_stat_func_ttest_ind_equal_var_False_HG_ev1_power_rescaled-epo.fif ...\n",
      "    Found the data of interest:\n",
      "        t =   -1000.00 ...    1500.00 ms\n",
      "        0 CTF compensation matrices available\n",
      "Not setting metadata\n",
      "452 matching events found\n",
      "No baseline correction applied\n",
      "0 projection items activated\n",
      "  Loading condition: Stimulus_bigSsmallHtaskG with parameters: {'BIDS_events': ['Stimulus/BigLetters/SmallLetterh/Taskg'], 'bigLetter': 's', 'smallLetter': 'h', 'task': 'g'}\n",
      "Not setting metadata\n",
      "29 matching events found\n",
      "No baseline correction applied\n"
     ]
    },
    {
     "name": "stderr",
     "output_type": "stream",
     "text": [
      "c:\\Users\\jz421\\Desktop\\GlobalLocal\\src\\analysis\\utils\\general_utils.py:424: RuntimeWarning: Concatenation of Annotations within Epochs is not supported yet. All annotations will be dropped.\n",
      "  event_epochs = mne.concatenate_epochs(combined_epochs)\n"
     ]
    },
    {
     "name": "stdout",
     "output_type": "stream",
     "text": [
      "    Original shape: (29, 235, 641)\n",
      "    Trials with all NaN values: 0\n",
      "    Average NaN count per trial: 906.2\n",
      "    Max NaN count in a trial: 14743\n",
      "    Stimulus_bigSsmallHtaskG: 29 valid trials out of 29\n",
      "  Loading condition: Stimulus_bigSsmallHtaskL with parameters: {'BIDS_events': ['Stimulus/BigLetters/SmallLetterh/Taskl'], 'bigLetter': 's', 'smallLetter': 'h', 'task': 'l'}\n",
      "Not setting metadata\n",
      "42 matching events found\n",
      "No baseline correction applied\n"
     ]
    },
    {
     "name": "stderr",
     "output_type": "stream",
     "text": [
      "c:\\Users\\jz421\\Desktop\\GlobalLocal\\src\\analysis\\utils\\general_utils.py:424: RuntimeWarning: Concatenation of Annotations within Epochs is not supported yet. All annotations will be dropped.\n",
      "  event_epochs = mne.concatenate_epochs(combined_epochs)\n"
     ]
    },
    {
     "name": "stdout",
     "output_type": "stream",
     "text": [
      "    Original shape: (42, 235, 641)\n",
      "    Trials with all NaN values: 0\n",
      "    Average NaN count per trial: 534.2\n",
      "    Max NaN count in a trial: 6410\n",
      "    Stimulus_bigSsmallHtaskL: 42 valid trials out of 42\n",
      "  Loading condition: Stimulus_bigSsmallStaskG with parameters: {'BIDS_events': ['Stimulus/BigLetters/SmallLetters/Taskg'], 'bigLetter': 's', 'smallLetter': 's', 'task': 'g'}\n",
      "Not setting metadata\n",
      "54 matching events found\n",
      "No baseline correction applied\n"
     ]
    },
    {
     "name": "stderr",
     "output_type": "stream",
     "text": [
      "c:\\Users\\jz421\\Desktop\\GlobalLocal\\src\\analysis\\utils\\general_utils.py:424: RuntimeWarning: Concatenation of Annotations within Epochs is not supported yet. All annotations will be dropped.\n",
      "  event_epochs = mne.concatenate_epochs(combined_epochs)\n"
     ]
    },
    {
     "name": "stdout",
     "output_type": "stream",
     "text": [
      "    Original shape: (54, 235, 641)\n",
      "    Trials with all NaN values: 0\n",
      "    Average NaN count per trial: 368.0\n",
      "    Max NaN count in a trial: 7692\n",
      "    Stimulus_bigSsmallStaskG: 54 valid trials out of 54\n",
      "  Loading condition: Stimulus_bigSsmallStaskL with parameters: {'BIDS_events': ['Stimulus/BigLetters/SmallLetters/Taskl'], 'bigLetter': 's', 'smallLetter': 's', 'task': 'l'}\n",
      "Not setting metadata\n",
      "60 matching events found\n",
      "No baseline correction applied\n"
     ]
    },
    {
     "name": "stderr",
     "output_type": "stream",
     "text": [
      "c:\\Users\\jz421\\Desktop\\GlobalLocal\\src\\analysis\\utils\\general_utils.py:424: RuntimeWarning: Concatenation of Annotations within Epochs is not supported yet. All annotations will be dropped.\n",
      "  event_epochs = mne.concatenate_epochs(combined_epochs)\n"
     ]
    },
    {
     "name": "stdout",
     "output_type": "stream",
     "text": [
      "    Original shape: (60, 235, 641)\n",
      "    Trials with all NaN values: 0\n",
      "    Average NaN count per trial: 438.0\n",
      "    Max NaN count in a trial: 3846\n",
      "    Stimulus_bigSsmallStaskL: 60 valid trials out of 60\n",
      "  Loading condition: Stimulus_bigHsmallHtaskG with parameters: {'BIDS_events': ['Stimulus/BigLetterh/SmallLetterh/Taskg'], 'bigLetter': 'h', 'smallLetter': 'h', 'task': 'g'}\n",
      "Not setting metadata\n",
      "49 matching events found\n",
      "No baseline correction applied\n"
     ]
    },
    {
     "name": "stderr",
     "output_type": "stream",
     "text": [
      "c:\\Users\\jz421\\Desktop\\GlobalLocal\\src\\analysis\\utils\\general_utils.py:424: RuntimeWarning: Concatenation of Annotations within Epochs is not supported yet. All annotations will be dropped.\n",
      "  event_epochs = mne.concatenate_epochs(combined_epochs)\n"
     ]
    },
    {
     "name": "stdout",
     "output_type": "stream",
     "text": [
      "    Original shape: (49, 235, 641)\n",
      "    Trials with all NaN values: 0\n",
      "    Average NaN count per trial: 366.3\n",
      "    Max NaN count in a trial: 3205\n",
      "    Stimulus_bigHsmallHtaskG: 49 valid trials out of 49\n",
      "  Loading condition: Stimulus_bigHsmallHtaskL with parameters: {'BIDS_events': ['Stimulus/BigLetterh/SmallLetterh/Taskl'], 'bigLetter': 'h', 'smallLetter': 'h', 'task': 'l'}\n",
      "Not setting metadata\n",
      "58 matching events found\n",
      "No baseline correction applied\n"
     ]
    },
    {
     "name": "stderr",
     "output_type": "stream",
     "text": [
      "c:\\Users\\jz421\\Desktop\\GlobalLocal\\src\\analysis\\utils\\general_utils.py:424: RuntimeWarning: Concatenation of Annotations within Epochs is not supported yet. All annotations will be dropped.\n",
      "  event_epochs = mne.concatenate_epochs(combined_epochs)\n"
     ]
    },
    {
     "name": "stdout",
     "output_type": "stream",
     "text": [
      "    Original shape: (58, 235, 641)\n",
      "    Trials with all NaN values: 0\n",
      "    Average NaN count per trial: 729.4\n",
      "    Max NaN count in a trial: 7051\n",
      "    Stimulus_bigHsmallHtaskL: 58 valid trials out of 58\n",
      "  Loading condition: Stimulus_bigHsmallStaskG with parameters: {'BIDS_events': ['Stimulus/BigLetterh/SmallLetters/Taskg'], 'bigLetter': 'h', 'smallLetter': 's', 'task': 'g'}\n",
      "Not setting metadata\n",
      "52 matching events found\n",
      "No baseline correction applied\n"
     ]
    },
    {
     "name": "stderr",
     "output_type": "stream",
     "text": [
      "c:\\Users\\jz421\\Desktop\\GlobalLocal\\src\\analysis\\utils\\general_utils.py:424: RuntimeWarning: Concatenation of Annotations within Epochs is not supported yet. All annotations will be dropped.\n",
      "  event_epochs = mne.concatenate_epochs(combined_epochs)\n"
     ]
    },
    {
     "name": "stdout",
     "output_type": "stream",
     "text": [
      "    Original shape: (52, 235, 641)\n",
      "    Trials with all NaN values: 0\n",
      "    Average NaN count per trial: 604.0\n",
      "    Max NaN count in a trial: 12179\n",
      "    Stimulus_bigHsmallStaskG: 52 valid trials out of 52\n",
      "  Loading condition: Stimulus_bigHsmallStaskL with parameters: {'BIDS_events': ['Stimulus/BigLetterh/SmallLetters/Taskl'], 'bigLetter': 'h', 'smallLetter': 's', 'task': 'l'}\n",
      "Not setting metadata\n",
      "45 matching events found\n",
      "No baseline correction applied\n"
     ]
    },
    {
     "name": "stderr",
     "output_type": "stream",
     "text": [
      "c:\\Users\\jz421\\Desktop\\GlobalLocal\\src\\analysis\\utils\\general_utils.py:424: RuntimeWarning: Concatenation of Annotations within Epochs is not supported yet. All annotations will be dropped.\n",
      "  event_epochs = mne.concatenate_epochs(combined_epochs)\n"
     ]
    },
    {
     "name": "stdout",
     "output_type": "stream",
     "text": [
      "    Original shape: (45, 235, 641)\n",
      "    Trials with all NaN values: 0\n",
      "    Average NaN count per trial: 356.1\n",
      "    Max NaN count in a trial: 4487\n",
      "    Stimulus_bigHsmallStaskL: 45 valid trials out of 45\n",
      "  Loading condition: Stimulus_bigSsmallHtaskG with parameters: {'BIDS_events': ['Stimulus/BigLetters/SmallLetterh/Taskg'], 'bigLetter': 's', 'smallLetter': 'h', 'task': 'g'}\n",
      "Not setting metadata\n",
      "29 matching events found\n",
      "No baseline correction applied\n"
     ]
    },
    {
     "name": "stderr",
     "output_type": "stream",
     "text": [
      "c:\\Users\\jz421\\Desktop\\GlobalLocal\\src\\analysis\\utils\\general_utils.py:424: RuntimeWarning: Concatenation of Annotations within Epochs is not supported yet. All annotations will be dropped.\n",
      "  event_epochs = mne.concatenate_epochs(combined_epochs)\n"
     ]
    },
    {
     "name": "stdout",
     "output_type": "stream",
     "text": [
      "    Original shape: (29, 235, 641)\n",
      "    Trials with all NaN values: 0\n",
      "    Average NaN count per trial: 906.2\n",
      "    Max NaN count in a trial: 14743\n",
      "    Stimulus_bigSsmallHtaskG: 29 valid trials out of 29\n",
      "  Loading condition: Stimulus_bigSsmallHtaskL with parameters: {'BIDS_events': ['Stimulus/BigLetters/SmallLetterh/Taskl'], 'bigLetter': 's', 'smallLetter': 'h', 'task': 'l'}\n",
      "Not setting metadata\n",
      "42 matching events found\n",
      "No baseline correction applied\n"
     ]
    },
    {
     "name": "stderr",
     "output_type": "stream",
     "text": [
      "c:\\Users\\jz421\\Desktop\\GlobalLocal\\src\\analysis\\utils\\general_utils.py:424: RuntimeWarning: Concatenation of Annotations within Epochs is not supported yet. All annotations will be dropped.\n",
      "  event_epochs = mne.concatenate_epochs(combined_epochs)\n"
     ]
    },
    {
     "name": "stdout",
     "output_type": "stream",
     "text": [
      "    Original shape: (42, 235, 641)\n",
      "    Trials with all NaN values: 0\n",
      "    Average NaN count per trial: 534.2\n",
      "    Max NaN count in a trial: 6410\n",
      "    Stimulus_bigSsmallHtaskL: 42 valid trials out of 42\n",
      "  Loading condition: Stimulus_bigSsmallStaskG with parameters: {'BIDS_events': ['Stimulus/BigLetters/SmallLetters/Taskg'], 'bigLetter': 's', 'smallLetter': 's', 'task': 'g'}\n",
      "Not setting metadata\n",
      "54 matching events found\n",
      "No baseline correction applied\n"
     ]
    },
    {
     "name": "stderr",
     "output_type": "stream",
     "text": [
      "c:\\Users\\jz421\\Desktop\\GlobalLocal\\src\\analysis\\utils\\general_utils.py:424: RuntimeWarning: Concatenation of Annotations within Epochs is not supported yet. All annotations will be dropped.\n",
      "  event_epochs = mne.concatenate_epochs(combined_epochs)\n"
     ]
    },
    {
     "name": "stdout",
     "output_type": "stream",
     "text": [
      "    Original shape: (54, 235, 641)\n",
      "    Trials with all NaN values: 0\n",
      "    Average NaN count per trial: 368.0\n",
      "    Max NaN count in a trial: 7692\n",
      "    Stimulus_bigSsmallStaskG: 54 valid trials out of 54\n",
      "  Loading condition: Stimulus_bigSsmallStaskL with parameters: {'BIDS_events': ['Stimulus/BigLetters/SmallLetters/Taskl'], 'bigLetter': 's', 'smallLetter': 's', 'task': 'l'}\n",
      "Not setting metadata\n",
      "60 matching events found\n",
      "No baseline correction applied\n"
     ]
    },
    {
     "name": "stderr",
     "output_type": "stream",
     "text": [
      "c:\\Users\\jz421\\Desktop\\GlobalLocal\\src\\analysis\\utils\\general_utils.py:424: RuntimeWarning: Concatenation of Annotations within Epochs is not supported yet. All annotations will be dropped.\n",
      "  event_epochs = mne.concatenate_epochs(combined_epochs)\n"
     ]
    },
    {
     "name": "stdout",
     "output_type": "stream",
     "text": [
      "    Original shape: (60, 235, 641)\n",
      "    Trials with all NaN values: 0\n",
      "    Average NaN count per trial: 438.0\n",
      "    Max NaN count in a trial: 3846\n",
      "    Stimulus_bigSsmallStaskL: 60 valid trials out of 60\n",
      "  Loading condition: Stimulus_bigHsmallHtaskG with parameters: {'BIDS_events': ['Stimulus/BigLetterh/SmallLetterh/Taskg'], 'bigLetter': 'h', 'smallLetter': 'h', 'task': 'g'}\n",
      "Not setting metadata\n",
      "49 matching events found\n",
      "No baseline correction applied\n"
     ]
    },
    {
     "name": "stderr",
     "output_type": "stream",
     "text": [
      "c:\\Users\\jz421\\Desktop\\GlobalLocal\\src\\analysis\\utils\\general_utils.py:424: RuntimeWarning: Concatenation of Annotations within Epochs is not supported yet. All annotations will be dropped.\n",
      "  event_epochs = mne.concatenate_epochs(combined_epochs)\n"
     ]
    },
    {
     "name": "stdout",
     "output_type": "stream",
     "text": [
      "    Original shape: (49, 235, 641)\n",
      "    Trials with all NaN values: 0\n",
      "    Average NaN count per trial: 366.3\n",
      "    Max NaN count in a trial: 3205\n",
      "    Stimulus_bigHsmallHtaskG: 49 valid trials out of 49\n",
      "  Loading condition: Stimulus_bigHsmallHtaskL with parameters: {'BIDS_events': ['Stimulus/BigLetterh/SmallLetterh/Taskl'], 'bigLetter': 'h', 'smallLetter': 'h', 'task': 'l'}\n",
      "Not setting metadata\n",
      "58 matching events found\n",
      "No baseline correction applied\n"
     ]
    },
    {
     "name": "stderr",
     "output_type": "stream",
     "text": [
      "c:\\Users\\jz421\\Desktop\\GlobalLocal\\src\\analysis\\utils\\general_utils.py:424: RuntimeWarning: Concatenation of Annotations within Epochs is not supported yet. All annotations will be dropped.\n",
      "  event_epochs = mne.concatenate_epochs(combined_epochs)\n"
     ]
    },
    {
     "name": "stdout",
     "output_type": "stream",
     "text": [
      "    Original shape: (58, 235, 641)\n",
      "    Trials with all NaN values: 0\n",
      "    Average NaN count per trial: 729.4\n",
      "    Max NaN count in a trial: 7051\n",
      "    Stimulus_bigHsmallHtaskL: 58 valid trials out of 58\n",
      "  Loading condition: Stimulus_bigHsmallStaskG with parameters: {'BIDS_events': ['Stimulus/BigLetterh/SmallLetters/Taskg'], 'bigLetter': 'h', 'smallLetter': 's', 'task': 'g'}\n",
      "Not setting metadata\n",
      "52 matching events found\n",
      "No baseline correction applied\n"
     ]
    },
    {
     "name": "stderr",
     "output_type": "stream",
     "text": [
      "c:\\Users\\jz421\\Desktop\\GlobalLocal\\src\\analysis\\utils\\general_utils.py:424: RuntimeWarning: Concatenation of Annotations within Epochs is not supported yet. All annotations will be dropped.\n",
      "  event_epochs = mne.concatenate_epochs(combined_epochs)\n"
     ]
    },
    {
     "name": "stdout",
     "output_type": "stream",
     "text": [
      "    Original shape: (52, 235, 641)\n",
      "    Trials with all NaN values: 0\n",
      "    Average NaN count per trial: 604.0\n",
      "    Max NaN count in a trial: 12179\n",
      "    Stimulus_bigHsmallStaskG: 52 valid trials out of 52\n",
      "  Loading condition: Stimulus_bigHsmallStaskL with parameters: {'BIDS_events': ['Stimulus/BigLetterh/SmallLetters/Taskl'], 'bigLetter': 'h', 'smallLetter': 's', 'task': 'l'}\n",
      "Not setting metadata\n",
      "45 matching events found\n",
      "No baseline correction applied\n"
     ]
    },
    {
     "name": "stderr",
     "output_type": "stream",
     "text": [
      "c:\\Users\\jz421\\Desktop\\GlobalLocal\\src\\analysis\\utils\\general_utils.py:424: RuntimeWarning: Concatenation of Annotations within Epochs is not supported yet. All annotations will be dropped.\n",
      "  event_epochs = mne.concatenate_epochs(combined_epochs)\n"
     ]
    },
    {
     "name": "stdout",
     "output_type": "stream",
     "text": [
      "    Original shape: (45, 235, 641)\n",
      "    Trials with all NaN values: 0\n",
      "    Average NaN count per trial: 356.1\n",
      "    Max NaN count in a trial: 4487\n",
      "    Stimulus_bigHsmallStaskL: 45 valid trials out of 45\n",
      "Loading data for subject: D0065\n",
      "Reading C:\\Users\\jz421\\Box\\CoganLab\\BIDS-1.1_GlobalLocal\\BIDS\\derivatives\\freqFilt\\figs\\D0065\\D0065_Stimulus_0.5sec_within1sec_randoffset_preStimulusBase_decFactor_8_outliers_10_passband_70.0-150.0_padLength_0.5s_stat_func_ttest_ind_equal_var_False_HG_ev1_rescaled-epo.fif ...\n",
      "    Found the data of interest:\n",
      "        t =   -1000.00 ...    1500.00 ms\n",
      "        0 CTF compensation matrices available\n",
      "Not setting metadata\n",
      "448 matching events found\n",
      "No baseline correction applied\n",
      "0 projection items activated\n",
      "Reading C:\\Users\\jz421\\Box\\CoganLab\\BIDS-1.1_GlobalLocal\\BIDS\\derivatives\\freqFilt\\figs\\D0065\\D0065_Stimulus_0.5sec_within1sec_randoffset_preStimulusBase_decFactor_8_outliers_10_passband_70.0-150.0_padLength_0.5s_stat_func_ttest_ind_equal_var_False_HG_ev1_power_rescaled-epo.fif ...\n",
      "    Found the data of interest:\n",
      "        t =   -1000.00 ...    1500.00 ms\n",
      "        0 CTF compensation matrices available\n",
      "Not setting metadata\n",
      "448 matching events found\n",
      "No baseline correction applied\n",
      "0 projection items activated\n",
      "  Loading condition: Stimulus_bigSsmallHtaskG with parameters: {'BIDS_events': ['Stimulus/BigLetters/SmallLetterh/Taskg'], 'bigLetter': 's', 'smallLetter': 'h', 'task': 'g'}\n",
      "Not setting metadata\n",
      "26 matching events found\n",
      "No baseline correction applied\n"
     ]
    },
    {
     "name": "stderr",
     "output_type": "stream",
     "text": [
      "c:\\Users\\jz421\\Desktop\\GlobalLocal\\src\\analysis\\utils\\general_utils.py:424: RuntimeWarning: Concatenation of Annotations within Epochs is not supported yet. All annotations will be dropped.\n",
      "  event_epochs = mne.concatenate_epochs(combined_epochs)\n"
     ]
    },
    {
     "name": "stdout",
     "output_type": "stream",
     "text": [
      "    Original shape: (26, 216, 641)\n",
      "    Trials with all NaN values: 0\n",
      "    Average NaN count per trial: 2194.2\n",
      "    Max NaN count in a trial: 35255\n",
      "    Stimulus_bigSsmallHtaskG: 26 valid trials out of 26\n",
      "  Loading condition: Stimulus_bigSsmallHtaskL with parameters: {'BIDS_events': ['Stimulus/BigLetters/SmallLetterh/Taskl'], 'bigLetter': 's', 'smallLetter': 'h', 'task': 'l'}\n",
      "Not setting metadata\n",
      "27 matching events found\n",
      "No baseline correction applied\n"
     ]
    },
    {
     "name": "stderr",
     "output_type": "stream",
     "text": [
      "c:\\Users\\jz421\\Desktop\\GlobalLocal\\src\\analysis\\utils\\general_utils.py:424: RuntimeWarning: Concatenation of Annotations within Epochs is not supported yet. All annotations will be dropped.\n",
      "  event_epochs = mne.concatenate_epochs(combined_epochs)\n"
     ]
    },
    {
     "name": "stdout",
     "output_type": "stream",
     "text": [
      "    Original shape: (27, 216, 641)\n",
      "    Trials with all NaN values: 0\n",
      "    Average NaN count per trial: 166.2\n",
      "    Max NaN count in a trial: 1282\n",
      "    Stimulus_bigSsmallHtaskL: 27 valid trials out of 27\n",
      "  Loading condition: Stimulus_bigSsmallStaskG with parameters: {'BIDS_events': ['Stimulus/BigLetters/SmallLetters/Taskg'], 'bigLetter': 's', 'smallLetter': 's', 'task': 'g'}\n",
      "Not setting metadata\n",
      "41 matching events found\n",
      "No baseline correction applied\n"
     ]
    },
    {
     "name": "stderr",
     "output_type": "stream",
     "text": [
      "c:\\Users\\jz421\\Desktop\\GlobalLocal\\src\\analysis\\utils\\general_utils.py:424: RuntimeWarning: Concatenation of Annotations within Epochs is not supported yet. All annotations will be dropped.\n",
      "  event_epochs = mne.concatenate_epochs(combined_epochs)\n"
     ]
    },
    {
     "name": "stdout",
     "output_type": "stream",
     "text": [
      "    Original shape: (41, 216, 641)\n",
      "    Trials with all NaN values: 0\n",
      "    Average NaN count per trial: 3892.9\n",
      "    Max NaN count in a trial: 80766\n",
      "    Stimulus_bigSsmallStaskG: 41 valid trials out of 41\n",
      "  Loading condition: Stimulus_bigSsmallStaskL with parameters: {'BIDS_events': ['Stimulus/BigLetters/SmallLetters/Taskl'], 'bigLetter': 's', 'smallLetter': 's', 'task': 'l'}\n",
      "Not setting metadata\n",
      "50 matching events found\n",
      "No baseline correction applied\n"
     ]
    },
    {
     "name": "stderr",
     "output_type": "stream",
     "text": [
      "c:\\Users\\jz421\\Desktop\\GlobalLocal\\src\\analysis\\utils\\general_utils.py:424: RuntimeWarning: Concatenation of Annotations within Epochs is not supported yet. All annotations will be dropped.\n",
      "  event_epochs = mne.concatenate_epochs(combined_epochs)\n"
     ]
    },
    {
     "name": "stdout",
     "output_type": "stream",
     "text": [
      "    Original shape: (50, 216, 641)\n",
      "    Trials with all NaN values: 0\n",
      "    Average NaN count per trial: 1076.9\n",
      "    Max NaN count in a trial: 20512\n",
      "    Stimulus_bigSsmallStaskL: 50 valid trials out of 50\n",
      "  Loading condition: Stimulus_bigHsmallHtaskG with parameters: {'BIDS_events': ['Stimulus/BigLetterh/SmallLetterh/Taskg'], 'bigLetter': 'h', 'smallLetter': 'h', 'task': 'g'}\n",
      "Not setting metadata\n",
      "43 matching events found\n",
      "No baseline correction applied\n"
     ]
    },
    {
     "name": "stderr",
     "output_type": "stream",
     "text": [
      "c:\\Users\\jz421\\Desktop\\GlobalLocal\\src\\analysis\\utils\\general_utils.py:424: RuntimeWarning: Concatenation of Annotations within Epochs is not supported yet. All annotations will be dropped.\n",
      "  event_epochs = mne.concatenate_epochs(combined_epochs)\n"
     ]
    },
    {
     "name": "stdout",
     "output_type": "stream",
     "text": [
      "    Original shape: (43, 216, 641)\n",
      "    Trials with all NaN values: 0\n",
      "    Average NaN count per trial: 5232.3\n",
      "    Max NaN count in a trial: 119226\n",
      "    Stimulus_bigHsmallHtaskG: 43 valid trials out of 43\n",
      "  Loading condition: Stimulus_bigHsmallHtaskL with parameters: {'BIDS_events': ['Stimulus/BigLetterh/SmallLetterh/Taskl'], 'bigLetter': 'h', 'smallLetter': 'h', 'task': 'l'}\n",
      "Not setting metadata\n",
      "43 matching events found\n",
      "No baseline correction applied\n"
     ]
    },
    {
     "name": "stderr",
     "output_type": "stream",
     "text": [
      "c:\\Users\\jz421\\Desktop\\GlobalLocal\\src\\analysis\\utils\\general_utils.py:424: RuntimeWarning: Concatenation of Annotations within Epochs is not supported yet. All annotations will be dropped.\n",
      "  event_epochs = mne.concatenate_epochs(combined_epochs)\n"
     ]
    },
    {
     "name": "stdout",
     "output_type": "stream",
     "text": [
      "    Original shape: (43, 216, 641)\n",
      "    Trials with all NaN values: 0\n",
      "    Average NaN count per trial: 5992.6\n",
      "    Max NaN count in a trial: 106406\n",
      "    Stimulus_bigHsmallHtaskL: 43 valid trials out of 43\n",
      "  Loading condition: Stimulus_bigHsmallStaskG with parameters: {'BIDS_events': ['Stimulus/BigLetterh/SmallLetters/Taskg'], 'bigLetter': 'h', 'smallLetter': 's', 'task': 'g'}\n",
      "Not setting metadata\n",
      "45 matching events found\n",
      "No baseline correction applied\n"
     ]
    },
    {
     "name": "stderr",
     "output_type": "stream",
     "text": [
      "c:\\Users\\jz421\\Desktop\\GlobalLocal\\src\\analysis\\utils\\general_utils.py:424: RuntimeWarning: Concatenation of Annotations within Epochs is not supported yet. All annotations will be dropped.\n",
      "  event_epochs = mne.concatenate_epochs(combined_epochs)\n"
     ]
    },
    {
     "name": "stdout",
     "output_type": "stream",
     "text": [
      "    Original shape: (45, 216, 641)\n",
      "    Trials with all NaN values: 0\n",
      "    Average NaN count per trial: 2777.7\n",
      "    Max NaN count in a trial: 82689\n",
      "    Stimulus_bigHsmallStaskG: 45 valid trials out of 45\n",
      "  Loading condition: Stimulus_bigHsmallStaskL with parameters: {'BIDS_events': ['Stimulus/BigLetterh/SmallLetters/Taskl'], 'bigLetter': 'h', 'smallLetter': 's', 'task': 'l'}\n",
      "Not setting metadata\n",
      "41 matching events found\n",
      "No baseline correction applied\n"
     ]
    },
    {
     "name": "stderr",
     "output_type": "stream",
     "text": [
      "c:\\Users\\jz421\\Desktop\\GlobalLocal\\src\\analysis\\utils\\general_utils.py:424: RuntimeWarning: Concatenation of Annotations within Epochs is not supported yet. All annotations will be dropped.\n",
      "  event_epochs = mne.concatenate_epochs(combined_epochs)\n"
     ]
    },
    {
     "name": "stdout",
     "output_type": "stream",
     "text": [
      "    Original shape: (41, 216, 641)\n",
      "    Trials with all NaN values: 0\n",
      "    Average NaN count per trial: 3470.8\n",
      "    Max NaN count in a trial: 101278\n",
      "    Stimulus_bigHsmallStaskL: 41 valid trials out of 41\n",
      "  Loading condition: Stimulus_bigSsmallHtaskG with parameters: {'BIDS_events': ['Stimulus/BigLetters/SmallLetterh/Taskg'], 'bigLetter': 's', 'smallLetter': 'h', 'task': 'g'}\n",
      "Not setting metadata\n",
      "26 matching events found\n",
      "No baseline correction applied\n"
     ]
    },
    {
     "name": "stderr",
     "output_type": "stream",
     "text": [
      "c:\\Users\\jz421\\Desktop\\GlobalLocal\\src\\analysis\\utils\\general_utils.py:424: RuntimeWarning: Concatenation of Annotations within Epochs is not supported yet. All annotations will be dropped.\n",
      "  event_epochs = mne.concatenate_epochs(combined_epochs)\n"
     ]
    },
    {
     "name": "stdout",
     "output_type": "stream",
     "text": [
      "    Original shape: (26, 216, 641)\n",
      "    Trials with all NaN values: 0\n",
      "    Average NaN count per trial: 2194.2\n",
      "    Max NaN count in a trial: 35255\n",
      "    Stimulus_bigSsmallHtaskG: 26 valid trials out of 26\n",
      "  Loading condition: Stimulus_bigSsmallHtaskL with parameters: {'BIDS_events': ['Stimulus/BigLetters/SmallLetterh/Taskl'], 'bigLetter': 's', 'smallLetter': 'h', 'task': 'l'}\n",
      "Not setting metadata\n",
      "27 matching events found\n",
      "No baseline correction applied\n"
     ]
    },
    {
     "name": "stderr",
     "output_type": "stream",
     "text": [
      "c:\\Users\\jz421\\Desktop\\GlobalLocal\\src\\analysis\\utils\\general_utils.py:424: RuntimeWarning: Concatenation of Annotations within Epochs is not supported yet. All annotations will be dropped.\n",
      "  event_epochs = mne.concatenate_epochs(combined_epochs)\n"
     ]
    },
    {
     "name": "stdout",
     "output_type": "stream",
     "text": [
      "    Original shape: (27, 216, 641)\n",
      "    Trials with all NaN values: 0\n",
      "    Average NaN count per trial: 166.2\n",
      "    Max NaN count in a trial: 1282\n",
      "    Stimulus_bigSsmallHtaskL: 27 valid trials out of 27\n",
      "  Loading condition: Stimulus_bigSsmallStaskG with parameters: {'BIDS_events': ['Stimulus/BigLetters/SmallLetters/Taskg'], 'bigLetter': 's', 'smallLetter': 's', 'task': 'g'}\n",
      "Not setting metadata\n",
      "41 matching events found\n",
      "No baseline correction applied\n"
     ]
    },
    {
     "name": "stderr",
     "output_type": "stream",
     "text": [
      "c:\\Users\\jz421\\Desktop\\GlobalLocal\\src\\analysis\\utils\\general_utils.py:424: RuntimeWarning: Concatenation of Annotations within Epochs is not supported yet. All annotations will be dropped.\n",
      "  event_epochs = mne.concatenate_epochs(combined_epochs)\n"
     ]
    },
    {
     "name": "stdout",
     "output_type": "stream",
     "text": [
      "    Original shape: (41, 216, 641)\n",
      "    Trials with all NaN values: 0\n",
      "    Average NaN count per trial: 3892.9\n",
      "    Max NaN count in a trial: 80766\n",
      "    Stimulus_bigSsmallStaskG: 41 valid trials out of 41\n",
      "  Loading condition: Stimulus_bigSsmallStaskL with parameters: {'BIDS_events': ['Stimulus/BigLetters/SmallLetters/Taskl'], 'bigLetter': 's', 'smallLetter': 's', 'task': 'l'}\n",
      "Not setting metadata\n",
      "50 matching events found\n",
      "No baseline correction applied\n"
     ]
    },
    {
     "name": "stderr",
     "output_type": "stream",
     "text": [
      "c:\\Users\\jz421\\Desktop\\GlobalLocal\\src\\analysis\\utils\\general_utils.py:424: RuntimeWarning: Concatenation of Annotations within Epochs is not supported yet. All annotations will be dropped.\n",
      "  event_epochs = mne.concatenate_epochs(combined_epochs)\n"
     ]
    },
    {
     "name": "stdout",
     "output_type": "stream",
     "text": [
      "    Original shape: (50, 216, 641)\n",
      "    Trials with all NaN values: 0\n",
      "    Average NaN count per trial: 1076.9\n",
      "    Max NaN count in a trial: 20512\n",
      "    Stimulus_bigSsmallStaskL: 50 valid trials out of 50\n",
      "  Loading condition: Stimulus_bigHsmallHtaskG with parameters: {'BIDS_events': ['Stimulus/BigLetterh/SmallLetterh/Taskg'], 'bigLetter': 'h', 'smallLetter': 'h', 'task': 'g'}\n",
      "Not setting metadata\n",
      "43 matching events found\n",
      "No baseline correction applied\n"
     ]
    },
    {
     "name": "stderr",
     "output_type": "stream",
     "text": [
      "c:\\Users\\jz421\\Desktop\\GlobalLocal\\src\\analysis\\utils\\general_utils.py:424: RuntimeWarning: Concatenation of Annotations within Epochs is not supported yet. All annotations will be dropped.\n",
      "  event_epochs = mne.concatenate_epochs(combined_epochs)\n"
     ]
    },
    {
     "name": "stdout",
     "output_type": "stream",
     "text": [
      "    Original shape: (43, 216, 641)\n",
      "    Trials with all NaN values: 0\n",
      "    Average NaN count per trial: 5232.3\n",
      "    Max NaN count in a trial: 119226\n",
      "    Stimulus_bigHsmallHtaskG: 43 valid trials out of 43\n",
      "  Loading condition: Stimulus_bigHsmallHtaskL with parameters: {'BIDS_events': ['Stimulus/BigLetterh/SmallLetterh/Taskl'], 'bigLetter': 'h', 'smallLetter': 'h', 'task': 'l'}\n",
      "Not setting metadata\n",
      "43 matching events found\n",
      "No baseline correction applied\n"
     ]
    },
    {
     "name": "stderr",
     "output_type": "stream",
     "text": [
      "c:\\Users\\jz421\\Desktop\\GlobalLocal\\src\\analysis\\utils\\general_utils.py:424: RuntimeWarning: Concatenation of Annotations within Epochs is not supported yet. All annotations will be dropped.\n",
      "  event_epochs = mne.concatenate_epochs(combined_epochs)\n"
     ]
    },
    {
     "name": "stdout",
     "output_type": "stream",
     "text": [
      "    Original shape: (43, 216, 641)\n",
      "    Trials with all NaN values: 0\n",
      "    Average NaN count per trial: 5992.6\n",
      "    Max NaN count in a trial: 106406\n",
      "    Stimulus_bigHsmallHtaskL: 43 valid trials out of 43\n",
      "  Loading condition: Stimulus_bigHsmallStaskG with parameters: {'BIDS_events': ['Stimulus/BigLetterh/SmallLetters/Taskg'], 'bigLetter': 'h', 'smallLetter': 's', 'task': 'g'}\n",
      "Not setting metadata\n",
      "45 matching events found\n",
      "No baseline correction applied\n"
     ]
    },
    {
     "name": "stderr",
     "output_type": "stream",
     "text": [
      "c:\\Users\\jz421\\Desktop\\GlobalLocal\\src\\analysis\\utils\\general_utils.py:424: RuntimeWarning: Concatenation of Annotations within Epochs is not supported yet. All annotations will be dropped.\n",
      "  event_epochs = mne.concatenate_epochs(combined_epochs)\n"
     ]
    },
    {
     "name": "stdout",
     "output_type": "stream",
     "text": [
      "    Original shape: (45, 216, 641)\n",
      "    Trials with all NaN values: 0\n",
      "    Average NaN count per trial: 2777.7\n",
      "    Max NaN count in a trial: 82689\n",
      "    Stimulus_bigHsmallStaskG: 45 valid trials out of 45\n",
      "  Loading condition: Stimulus_bigHsmallStaskL with parameters: {'BIDS_events': ['Stimulus/BigLetterh/SmallLetters/Taskl'], 'bigLetter': 'h', 'smallLetter': 's', 'task': 'l'}\n",
      "Not setting metadata\n",
      "41 matching events found\n",
      "No baseline correction applied\n"
     ]
    },
    {
     "name": "stderr",
     "output_type": "stream",
     "text": [
      "c:\\Users\\jz421\\Desktop\\GlobalLocal\\src\\analysis\\utils\\general_utils.py:424: RuntimeWarning: Concatenation of Annotations within Epochs is not supported yet. All annotations will be dropped.\n",
      "  event_epochs = mne.concatenate_epochs(combined_epochs)\n"
     ]
    },
    {
     "name": "stdout",
     "output_type": "stream",
     "text": [
      "    Original shape: (41, 216, 641)\n",
      "    Trials with all NaN values: 0\n",
      "    Average NaN count per trial: 3470.8\n",
      "    Max NaN count in a trial: 101278\n",
      "    Stimulus_bigHsmallStaskL: 41 valid trials out of 41\n",
      "Loading data for subject: D0069\n",
      "Reading C:\\Users\\jz421\\Box\\CoganLab\\BIDS-1.1_GlobalLocal\\BIDS\\derivatives\\freqFilt\\figs\\D0069\\D0069_Stimulus_0.5sec_within1sec_randoffset_preStimulusBase_decFactor_8_outliers_10_passband_70.0-150.0_padLength_0.5s_stat_func_ttest_ind_equal_var_False_HG_ev1_rescaled-epo.fif ...\n",
      "    Found the data of interest:\n",
      "        t =   -1000.00 ...    1500.00 ms\n",
      "        0 CTF compensation matrices available\n",
      "Not setting metadata\n",
      "448 matching events found\n",
      "No baseline correction applied\n",
      "0 projection items activated\n",
      "Reading C:\\Users\\jz421\\Box\\CoganLab\\BIDS-1.1_GlobalLocal\\BIDS\\derivatives\\freqFilt\\figs\\D0069\\D0069_Stimulus_0.5sec_within1sec_randoffset_preStimulusBase_decFactor_8_outliers_10_passband_70.0-150.0_padLength_0.5s_stat_func_ttest_ind_equal_var_False_HG_ev1_power_rescaled-epo.fif ...\n",
      "    Found the data of interest:\n",
      "        t =   -1000.00 ...    1500.00 ms\n",
      "        0 CTF compensation matrices available\n",
      "Not setting metadata\n",
      "448 matching events found\n",
      "No baseline correction applied\n",
      "0 projection items activated\n",
      "  Loading condition: Stimulus_bigSsmallHtaskG with parameters: {'BIDS_events': ['Stimulus/BigLetters/SmallLetterh/Taskg'], 'bigLetter': 's', 'smallLetter': 'h', 'task': 'g'}\n",
      "Not setting metadata\n",
      "27 matching events found\n",
      "No baseline correction applied\n"
     ]
    },
    {
     "name": "stderr",
     "output_type": "stream",
     "text": [
      "c:\\Users\\jz421\\Desktop\\GlobalLocal\\src\\analysis\\utils\\general_utils.py:424: RuntimeWarning: Concatenation of Annotations within Epochs is not supported yet. All annotations will be dropped.\n",
      "  event_epochs = mne.concatenate_epochs(combined_epochs)\n"
     ]
    },
    {
     "name": "stdout",
     "output_type": "stream",
     "text": [
      "    Original shape: (27, 128, 641)\n",
      "    Trials with all NaN values: 0\n",
      "    Average NaN count per trial: 474.8\n",
      "    Max NaN count in a trial: 5128\n",
      "    Stimulus_bigSsmallHtaskG: 27 valid trials out of 27\n",
      "  Loading condition: Stimulus_bigSsmallHtaskL with parameters: {'BIDS_events': ['Stimulus/BigLetters/SmallLetterh/Taskl'], 'bigLetter': 's', 'smallLetter': 'h', 'task': 'l'}\n",
      "Not setting metadata\n",
      "34 matching events found\n",
      "No baseline correction applied\n"
     ]
    },
    {
     "name": "stderr",
     "output_type": "stream",
     "text": [
      "c:\\Users\\jz421\\Desktop\\GlobalLocal\\src\\analysis\\utils\\general_utils.py:424: RuntimeWarning: Concatenation of Annotations within Epochs is not supported yet. All annotations will be dropped.\n",
      "  event_epochs = mne.concatenate_epochs(combined_epochs)\n"
     ]
    },
    {
     "name": "stdout",
     "output_type": "stream",
     "text": [
      "    Original shape: (34, 128, 641)\n",
      "    Trials with all NaN values: 0\n",
      "    Average NaN count per trial: 678.7\n",
      "    Max NaN count in a trial: 8333\n",
      "    Stimulus_bigSsmallHtaskL: 34 valid trials out of 34\n",
      "  Loading condition: Stimulus_bigSsmallStaskG with parameters: {'BIDS_events': ['Stimulus/BigLetters/SmallLetters/Taskg'], 'bigLetter': 's', 'smallLetter': 's', 'task': 'g'}\n",
      "Not setting metadata\n",
      "41 matching events found\n",
      "No baseline correction applied\n"
     ]
    },
    {
     "name": "stderr",
     "output_type": "stream",
     "text": [
      "c:\\Users\\jz421\\Desktop\\GlobalLocal\\src\\analysis\\utils\\general_utils.py:424: RuntimeWarning: Concatenation of Annotations within Epochs is not supported yet. All annotations will be dropped.\n",
      "  event_epochs = mne.concatenate_epochs(combined_epochs)\n"
     ]
    },
    {
     "name": "stdout",
     "output_type": "stream",
     "text": [
      "    Original shape: (41, 128, 641)\n",
      "    Trials with all NaN values: 0\n",
      "    Average NaN count per trial: 359.6\n",
      "    Max NaN count in a trial: 3846\n",
      "    Stimulus_bigSsmallStaskG: 41 valid trials out of 41\n",
      "  Loading condition: Stimulus_bigSsmallStaskL with parameters: {'BIDS_events': ['Stimulus/BigLetters/SmallLetters/Taskl'], 'bigLetter': 's', 'smallLetter': 's', 'task': 'l'}\n",
      "Not setting metadata\n",
      "50 matching events found\n",
      "No baseline correction applied\n"
     ]
    },
    {
     "name": "stderr",
     "output_type": "stream",
     "text": [
      "c:\\Users\\jz421\\Desktop\\GlobalLocal\\src\\analysis\\utils\\general_utils.py:424: RuntimeWarning: Concatenation of Annotations within Epochs is not supported yet. All annotations will be dropped.\n",
      "  event_epochs = mne.concatenate_epochs(combined_epochs)\n"
     ]
    },
    {
     "name": "stdout",
     "output_type": "stream",
     "text": [
      "    Original shape: (50, 128, 641)\n",
      "    Trials with all NaN values: 0\n",
      "    Average NaN count per trial: 641.0\n",
      "    Max NaN count in a trial: 15384\n",
      "    Stimulus_bigSsmallStaskL: 50 valid trials out of 50\n",
      "  Loading condition: Stimulus_bigHsmallHtaskG with parameters: {'BIDS_events': ['Stimulus/BigLetterh/SmallLetterh/Taskg'], 'bigLetter': 'h', 'smallLetter': 'h', 'task': 'g'}\n",
      "Not setting metadata\n",
      "42 matching events found\n",
      "No baseline correction applied\n"
     ]
    },
    {
     "name": "stderr",
     "output_type": "stream",
     "text": [
      "c:\\Users\\jz421\\Desktop\\GlobalLocal\\src\\analysis\\utils\\general_utils.py:424: RuntimeWarning: Concatenation of Annotations within Epochs is not supported yet. All annotations will be dropped.\n",
      "  event_epochs = mne.concatenate_epochs(combined_epochs)\n"
     ]
    },
    {
     "name": "stdout",
     "output_type": "stream",
     "text": [
      "    Original shape: (42, 128, 641)\n",
      "    Trials with all NaN values: 0\n",
      "    Average NaN count per trial: 518.9\n",
      "    Max NaN count in a trial: 5769\n",
      "    Stimulus_bigHsmallHtaskG: 42 valid trials out of 42\n",
      "  Loading condition: Stimulus_bigHsmallHtaskL with parameters: {'BIDS_events': ['Stimulus/BigLetterh/SmallLetterh/Taskl'], 'bigLetter': 'h', 'smallLetter': 'h', 'task': 'l'}\n",
      "Not setting metadata\n",
      "44 matching events found\n",
      "No baseline correction applied\n"
     ]
    },
    {
     "name": "stderr",
     "output_type": "stream",
     "text": [
      "c:\\Users\\jz421\\Desktop\\GlobalLocal\\src\\analysis\\utils\\general_utils.py:424: RuntimeWarning: Concatenation of Annotations within Epochs is not supported yet. All annotations will be dropped.\n",
      "  event_epochs = mne.concatenate_epochs(combined_epochs)\n"
     ]
    },
    {
     "name": "stdout",
     "output_type": "stream",
     "text": [
      "    Original shape: (44, 128, 641)\n",
      "    Trials with all NaN values: 0\n",
      "    Average NaN count per trial: 815.8\n",
      "    Max NaN count in a trial: 22435\n",
      "    Stimulus_bigHsmallHtaskL: 44 valid trials out of 44\n",
      "  Loading condition: Stimulus_bigHsmallStaskG with parameters: {'BIDS_events': ['Stimulus/BigLetterh/SmallLetters/Taskg'], 'bigLetter': 'h', 'smallLetter': 's', 'task': 'g'}\n",
      "Not setting metadata\n",
      "47 matching events found\n",
      "No baseline correction applied\n",
      "    Original shape: (47, 128, 641)"
     ]
    },
    {
     "name": "stderr",
     "output_type": "stream",
     "text": [
      "c:\\Users\\jz421\\Desktop\\GlobalLocal\\src\\analysis\\utils\\general_utils.py:424: RuntimeWarning: Concatenation of Annotations within Epochs is not supported yet. All annotations will be dropped.\n",
      "  event_epochs = mne.concatenate_epochs(combined_epochs)\n"
     ]
    },
    {
     "name": "stdout",
     "output_type": "stream",
     "text": [
      "\n",
      "    Trials with all NaN values: 0\n",
      "    Average NaN count per trial: 354.6\n",
      "    Max NaN count in a trial: 5769\n",
      "    Stimulus_bigHsmallStaskG: 47 valid trials out of 47\n",
      "  Loading condition: Stimulus_bigHsmallStaskL with parameters: {'BIDS_events': ['Stimulus/BigLetterh/SmallLetters/Taskl'], 'bigLetter': 'h', 'smallLetter': 's', 'task': 'l'}\n",
      "Not setting metadata\n",
      "45 matching events found\n",
      "No baseline correction applied\n",
      "    Original shape: (45, 128, 641)\n",
      "    Trials with all NaN values: 0\n",
      "    Average NaN count per trial: 726.5\n",
      "    Max NaN count in a trial: 13461\n",
      "    Stimulus_bigHsmallStaskL: 45 valid trials out of 45\n"
     ]
    },
    {
     "name": "stderr",
     "output_type": "stream",
     "text": [
      "c:\\Users\\jz421\\Desktop\\GlobalLocal\\src\\analysis\\utils\\general_utils.py:424: RuntimeWarning: Concatenation of Annotations within Epochs is not supported yet. All annotations will be dropped.\n",
      "  event_epochs = mne.concatenate_epochs(combined_epochs)\n"
     ]
    },
    {
     "name": "stdout",
     "output_type": "stream",
     "text": [
      "  Loading condition: Stimulus_bigSsmallHtaskG with parameters: {'BIDS_events': ['Stimulus/BigLetters/SmallLetterh/Taskg'], 'bigLetter': 's', 'smallLetter': 'h', 'task': 'g'}\n",
      "Not setting metadata\n",
      "27 matching events found\n",
      "No baseline correction applied\n",
      "    Original shape: (27, 128, 641)\n",
      "    Trials with all NaN values: 0\n",
      "    Average NaN count per trial: 474.8\n",
      "    Max NaN count in a trial: 5128\n",
      "    Stimulus_bigSsmallHtaskG: 27 valid trials out of 27\n"
     ]
    },
    {
     "name": "stderr",
     "output_type": "stream",
     "text": [
      "c:\\Users\\jz421\\Desktop\\GlobalLocal\\src\\analysis\\utils\\general_utils.py:424: RuntimeWarning: Concatenation of Annotations within Epochs is not supported yet. All annotations will be dropped.\n",
      "  event_epochs = mne.concatenate_epochs(combined_epochs)\n"
     ]
    },
    {
     "name": "stdout",
     "output_type": "stream",
     "text": [
      "  Loading condition: Stimulus_bigSsmallHtaskL with parameters: {'BIDS_events': ['Stimulus/BigLetters/SmallLetterh/Taskl'], 'bigLetter': 's', 'smallLetter': 'h', 'task': 'l'}\n",
      "Not setting metadata\n",
      "34 matching events found\n",
      "No baseline correction applied\n"
     ]
    },
    {
     "name": "stderr",
     "output_type": "stream",
     "text": [
      "c:\\Users\\jz421\\Desktop\\GlobalLocal\\src\\analysis\\utils\\general_utils.py:424: RuntimeWarning: Concatenation of Annotations within Epochs is not supported yet. All annotations will be dropped.\n",
      "  event_epochs = mne.concatenate_epochs(combined_epochs)\n"
     ]
    },
    {
     "name": "stdout",
     "output_type": "stream",
     "text": [
      "    Original shape: (34, 128, 641)\n",
      "    Trials with all NaN values: 0\n",
      "    Average NaN count per trial: 678.7\n",
      "    Max NaN count in a trial: 8333\n",
      "    Stimulus_bigSsmallHtaskL: 34 valid trials out of 34\n",
      "  Loading condition: Stimulus_bigSsmallStaskG with parameters: {'BIDS_events': ['Stimulus/BigLetters/SmallLetters/Taskg'], 'bigLetter': 's', 'smallLetter': 's', 'task': 'g'}\n",
      "Not setting metadata\n",
      "41 matching events found\n",
      "No baseline correction applied\n",
      "    Original shape: (41, 128, 641)"
     ]
    },
    {
     "name": "stderr",
     "output_type": "stream",
     "text": [
      "c:\\Users\\jz421\\Desktop\\GlobalLocal\\src\\analysis\\utils\\general_utils.py:424: RuntimeWarning: Concatenation of Annotations within Epochs is not supported yet. All annotations will be dropped.\n",
      "  event_epochs = mne.concatenate_epochs(combined_epochs)\n"
     ]
    },
    {
     "name": "stdout",
     "output_type": "stream",
     "text": [
      "\n",
      "    Trials with all NaN values: 0\n",
      "    Average NaN count per trial: 359.6\n",
      "    Max NaN count in a trial: 3846\n",
      "    Stimulus_bigSsmallStaskG: 41 valid trials out of 41\n",
      "  Loading condition: Stimulus_bigSsmallStaskL with parameters: {'BIDS_events': ['Stimulus/BigLetters/SmallLetters/Taskl'], 'bigLetter': 's', 'smallLetter': 's', 'task': 'l'}\n",
      "Not setting metadata\n",
      "50 matching events found\n",
      "No baseline correction applied\n"
     ]
    },
    {
     "name": "stderr",
     "output_type": "stream",
     "text": [
      "c:\\Users\\jz421\\Desktop\\GlobalLocal\\src\\analysis\\utils\\general_utils.py:424: RuntimeWarning: Concatenation of Annotations within Epochs is not supported yet. All annotations will be dropped.\n",
      "  event_epochs = mne.concatenate_epochs(combined_epochs)\n"
     ]
    },
    {
     "name": "stdout",
     "output_type": "stream",
     "text": [
      "    Original shape: (50, 128, 641)\n",
      "    Trials with all NaN values: 0\n",
      "    Average NaN count per trial: 641.0\n",
      "    Max NaN count in a trial: 15384\n",
      "    Stimulus_bigSsmallStaskL: 50 valid trials out of 50\n",
      "  Loading condition: Stimulus_bigHsmallHtaskG with parameters: {'BIDS_events': ['Stimulus/BigLetterh/SmallLetterh/Taskg'], 'bigLetter': 'h', 'smallLetter': 'h', 'task': 'g'}\n",
      "Not setting metadata\n",
      "42 matching events found\n",
      "No baseline correction applied\n"
     ]
    },
    {
     "name": "stderr",
     "output_type": "stream",
     "text": [
      "c:\\Users\\jz421\\Desktop\\GlobalLocal\\src\\analysis\\utils\\general_utils.py:424: RuntimeWarning: Concatenation of Annotations within Epochs is not supported yet. All annotations will be dropped.\n",
      "  event_epochs = mne.concatenate_epochs(combined_epochs)\n"
     ]
    },
    {
     "name": "stdout",
     "output_type": "stream",
     "text": [
      "    Original shape: (42, 128, 641)\n",
      "    Trials with all NaN values: 0\n",
      "    Average NaN count per trial: 518.9\n",
      "    Max NaN count in a trial: 5769\n",
      "    Stimulus_bigHsmallHtaskG: 42 valid trials out of 42\n",
      "  Loading condition: Stimulus_bigHsmallHtaskL with parameters: {'BIDS_events': ['Stimulus/BigLetterh/SmallLetterh/Taskl'], 'bigLetter': 'h', 'smallLetter': 'h', 'task': 'l'}\n",
      "Not setting metadata\n",
      "44 matching events found\n",
      "No baseline correction applied\n"
     ]
    },
    {
     "name": "stderr",
     "output_type": "stream",
     "text": [
      "c:\\Users\\jz421\\Desktop\\GlobalLocal\\src\\analysis\\utils\\general_utils.py:424: RuntimeWarning: Concatenation of Annotations within Epochs is not supported yet. All annotations will be dropped.\n",
      "  event_epochs = mne.concatenate_epochs(combined_epochs)\n"
     ]
    },
    {
     "name": "stdout",
     "output_type": "stream",
     "text": [
      "    Original shape: (44, 128, 641)\n",
      "    Trials with all NaN values: 0\n",
      "    Average NaN count per trial: 815.8\n",
      "    Max NaN count in a trial: 22435\n",
      "    Stimulus_bigHsmallHtaskL: 44 valid trials out of 44\n",
      "  Loading condition: Stimulus_bigHsmallStaskG with parameters: {'BIDS_events': ['Stimulus/BigLetterh/SmallLetters/Taskg'], 'bigLetter': 'h', 'smallLetter': 's', 'task': 'g'}\n",
      "Not setting metadata\n",
      "47 matching events found\n",
      "No baseline correction applied\n"
     ]
    },
    {
     "name": "stderr",
     "output_type": "stream",
     "text": [
      "c:\\Users\\jz421\\Desktop\\GlobalLocal\\src\\analysis\\utils\\general_utils.py:424: RuntimeWarning: Concatenation of Annotations within Epochs is not supported yet. All annotations will be dropped.\n",
      "  event_epochs = mne.concatenate_epochs(combined_epochs)\n"
     ]
    },
    {
     "name": "stdout",
     "output_type": "stream",
     "text": [
      "    Original shape: (47, 128, 641)\n",
      "    Trials with all NaN values: 0\n",
      "    Average NaN count per trial: 354.6\n",
      "    Max NaN count in a trial: 5769\n",
      "    Stimulus_bigHsmallStaskG: 47 valid trials out of 47\n",
      "  Loading condition: Stimulus_bigHsmallStaskL with parameters: {'BIDS_events': ['Stimulus/BigLetterh/SmallLetters/Taskl'], 'bigLetter': 'h', 'smallLetter': 's', 'task': 'l'}\n",
      "Not setting metadata\n",
      "45 matching events found\n",
      "No baseline correction applied\n"
     ]
    },
    {
     "name": "stderr",
     "output_type": "stream",
     "text": [
      "c:\\Users\\jz421\\Desktop\\GlobalLocal\\src\\analysis\\utils\\general_utils.py:424: RuntimeWarning: Concatenation of Annotations within Epochs is not supported yet. All annotations will be dropped.\n",
      "  event_epochs = mne.concatenate_epochs(combined_epochs)\n"
     ]
    },
    {
     "name": "stdout",
     "output_type": "stream",
     "text": [
      "    Original shape: (45, 128, 641)\n",
      "    Trials with all NaN values: 0\n",
      "    Average NaN count per trial: 726.5\n",
      "    Max NaN count in a trial: 13461\n",
      "    Stimulus_bigHsmallStaskL: 45 valid trials out of 45\n",
      "Loading data for subject: D0071\n",
      "Reading C:\\Users\\jz421\\Box\\CoganLab\\BIDS-1.1_GlobalLocal\\BIDS\\derivatives\\freqFilt\\figs\\D0071\\D0071_Stimulus_0.5sec_within1sec_randoffset_preStimulusBase_decFactor_8_outliers_10_passband_70.0-150.0_padLength_0.5s_stat_func_ttest_ind_equal_var_False_HG_ev1_rescaled-epo.fif ...\n",
      "    Found the data of interest:\n",
      "        t =   -1000.00 ...    1500.00 ms\n",
      "        0 CTF compensation matrices available\n",
      "Not setting metadata\n",
      "448 matching events found\n",
      "No baseline correction applied\n",
      "0 projection items activated\n",
      "Reading C:\\Users\\jz421\\Box\\CoganLab\\BIDS-1.1_GlobalLocal\\BIDS\\derivatives\\freqFilt\\figs\\D0071\\D0071_Stimulus_0.5sec_within1sec_randoffset_preStimulusBase_decFactor_8_outliers_10_passband_70.0-150.0_padLength_0.5s_stat_func_ttest_ind_equal_var_False_HG_ev1_power_rescaled-epo.fif ...\n",
      "    Found the data of interest:\n",
      "        t =   -1000.00 ...    1500.00 ms\n",
      "        0 CTF compensation matrices available\n",
      "Not setting metadata\n",
      "448 matching events found\n",
      "No baseline correction applied\n",
      "0 projection items activated\n",
      "  Loading condition: Stimulus_bigSsmallHtaskG with parameters: {'BIDS_events': ['Stimulus/BigLetters/SmallLetterh/Taskg'], 'bigLetter': 's', 'smallLetter': 'h', 'task': 'g'}\n",
      "Not setting metadata\n",
      "50 matching events found\n",
      "No baseline correction applied\n"
     ]
    },
    {
     "name": "stderr",
     "output_type": "stream",
     "text": [
      "c:\\Users\\jz421\\Desktop\\GlobalLocal\\src\\analysis\\utils\\general_utils.py:424: RuntimeWarning: Concatenation of Annotations within Epochs is not supported yet. All annotations will be dropped.\n",
      "  event_epochs = mne.concatenate_epochs(combined_epochs)\n"
     ]
    },
    {
     "name": "stdout",
     "output_type": "stream",
     "text": [
      "    Original shape: (50, 156, 641)\n",
      "    Trials with all NaN values: 0\n",
      "    Average NaN count per trial: 1782.0\n",
      "    Max NaN count in a trial: 10897\n",
      "    Stimulus_bigSsmallHtaskG: 50 valid trials out of 50\n",
      "  Loading condition: Stimulus_bigSsmallHtaskL with parameters: {'BIDS_events': ['Stimulus/BigLetters/SmallLetterh/Taskl'], 'bigLetter': 's', 'smallLetter': 'h', 'task': 'l'}\n",
      "Not setting metadata\n",
      "49 matching events found\n",
      "No baseline correction applied\n"
     ]
    },
    {
     "name": "stderr",
     "output_type": "stream",
     "text": [
      "c:\\Users\\jz421\\Desktop\\GlobalLocal\\src\\analysis\\utils\\general_utils.py:424: RuntimeWarning: Concatenation of Annotations within Epochs is not supported yet. All annotations will be dropped.\n",
      "  event_epochs = mne.concatenate_epochs(combined_epochs)\n"
     ]
    },
    {
     "name": "stdout",
     "output_type": "stream",
     "text": [
      "    Original shape: (49, 156, 641)\n",
      "    Trials with all NaN values: 0\n",
      "    Average NaN count per trial: 2080.0\n",
      "    Max NaN count in a trial: 12820\n",
      "    Stimulus_bigSsmallHtaskL: 49 valid trials out of 49\n",
      "  Loading condition: Stimulus_bigSsmallStaskG with parameters: {'BIDS_events': ['Stimulus/BigLetters/SmallLetters/Taskg'], 'bigLetter': 's', 'smallLetter': 's', 'task': 'g'}\n",
      "Not setting metadata\n",
      "58 matching events found\n",
      "No baseline correction applied\n"
     ]
    },
    {
     "name": "stderr",
     "output_type": "stream",
     "text": [
      "c:\\Users\\jz421\\Desktop\\GlobalLocal\\src\\analysis\\utils\\general_utils.py:424: RuntimeWarning: Concatenation of Annotations within Epochs is not supported yet. All annotations will be dropped.\n",
      "  event_epochs = mne.concatenate_epochs(combined_epochs)\n"
     ]
    },
    {
     "name": "stdout",
     "output_type": "stream",
     "text": [
      "    Original shape: (58, 156, 641)\n",
      "    Trials with all NaN values: 0\n",
      "    Average NaN count per trial: 2895.6\n",
      "    Max NaN count in a trial: 22435\n",
      "    Stimulus_bigSsmallStaskG: 58 valid trials out of 58\n",
      "  Loading condition: Stimulus_bigSsmallStaskL with parameters: {'BIDS_events': ['Stimulus/BigLetters/SmallLetters/Taskl'], 'bigLetter': 's', 'smallLetter': 's', 'task': 'l'}\n",
      "Not setting metadata\n",
      "49 matching events found\n",
      "No baseline correction applied\n"
     ]
    },
    {
     "name": "stderr",
     "output_type": "stream",
     "text": [
      "c:\\Users\\jz421\\Desktop\\GlobalLocal\\src\\analysis\\utils\\general_utils.py:424: RuntimeWarning: Concatenation of Annotations within Epochs is not supported yet. All annotations will be dropped.\n",
      "  event_epochs = mne.concatenate_epochs(combined_epochs)\n"
     ]
    },
    {
     "name": "stdout",
     "output_type": "stream",
     "text": [
      "    Original shape: (49, 156, 641)\n",
      "    Trials with all NaN values: 0\n",
      "    Average NaN count per trial: 1229.7\n",
      "    Max NaN count in a trial: 11538\n",
      "    Stimulus_bigSsmallStaskL: 49 valid trials out of 49\n",
      "  Loading condition: Stimulus_bigHsmallHtaskG with parameters: {'BIDS_events': ['Stimulus/BigLetterh/SmallLetterh/Taskg'], 'bigLetter': 'h', 'smallLetter': 'h', 'task': 'g'}\n",
      "Not setting metadata\n",
      "47 matching events found\n",
      "No baseline correction applied\n"
     ]
    },
    {
     "name": "stderr",
     "output_type": "stream",
     "text": [
      "c:\\Users\\jz421\\Desktop\\GlobalLocal\\src\\analysis\\utils\\general_utils.py:424: RuntimeWarning: Concatenation of Annotations within Epochs is not supported yet. All annotations will be dropped.\n",
      "  event_epochs = mne.concatenate_epochs(combined_epochs)\n"
     ]
    },
    {
     "name": "stdout",
     "output_type": "stream",
     "text": [
      "    Original shape: (47, 156, 641)\n",
      "    Trials with all NaN values: 0\n",
      "    Average NaN count per trial: 2291.2\n",
      "    Max NaN count in a trial: 10256\n",
      "    Stimulus_bigHsmallHtaskG: 47 valid trials out of 47\n",
      "  Loading condition: Stimulus_bigHsmallHtaskL with parameters: {'BIDS_events': ['Stimulus/BigLetterh/SmallLetterh/Taskl'], 'bigLetter': 'h', 'smallLetter': 'h', 'task': 'l'}\n",
      "Not setting metadata\n",
      "59 matching events found\n",
      "No baseline correction applied\n"
     ]
    },
    {
     "name": "stderr",
     "output_type": "stream",
     "text": [
      "c:\\Users\\jz421\\Desktop\\GlobalLocal\\src\\analysis\\utils\\general_utils.py:424: RuntimeWarning: Concatenation of Annotations within Epochs is not supported yet. All annotations will be dropped.\n",
      "  event_epochs = mne.concatenate_epochs(combined_epochs)\n"
     ]
    },
    {
     "name": "stdout",
     "output_type": "stream",
     "text": [
      "    Original shape: (59, 156, 641)\n",
      "    Trials with all NaN values: 0\n",
      "    Average NaN count per trial: 2879.1\n",
      "    Max NaN count in a trial: 22435\n",
      "    Stimulus_bigHsmallHtaskL: 59 valid trials out of 59\n",
      "  Loading condition: Stimulus_bigHsmallStaskG with parameters: {'BIDS_events': ['Stimulus/BigLetterh/SmallLetters/Taskg'], 'bigLetter': 'h', 'smallLetter': 's', 'task': 'g'}\n",
      "Not setting metadata\n",
      "59 matching events found\n",
      "No baseline correction applied\n"
     ]
    },
    {
     "name": "stderr",
     "output_type": "stream",
     "text": [
      "c:\\Users\\jz421\\Desktop\\GlobalLocal\\src\\analysis\\utils\\general_utils.py:424: RuntimeWarning: Concatenation of Annotations within Epochs is not supported yet. All annotations will be dropped.\n",
      "  event_epochs = mne.concatenate_epochs(combined_epochs)\n"
     ]
    },
    {
     "name": "stdout",
     "output_type": "stream",
     "text": [
      "    Original shape: (59, 156, 641)\n",
      "    Trials with all NaN values: 0\n",
      "    Average NaN count per trial: 2477.1\n",
      "    Max NaN count in a trial: 23076\n",
      "    Stimulus_bigHsmallStaskG: 59 valid trials out of 59\n",
      "  Loading condition: Stimulus_bigHsmallStaskL with parameters: {'BIDS_events': ['Stimulus/BigLetterh/SmallLetters/Taskl'], 'bigLetter': 'h', 'smallLetter': 's', 'task': 'l'}\n",
      "Not setting metadata\n",
      "58 matching events found\n",
      "No baseline correction applied\n"
     ]
    },
    {
     "name": "stderr",
     "output_type": "stream",
     "text": [
      "c:\\Users\\jz421\\Desktop\\GlobalLocal\\src\\analysis\\utils\\general_utils.py:424: RuntimeWarning: Concatenation of Annotations within Epochs is not supported yet. All annotations will be dropped.\n",
      "  event_epochs = mne.concatenate_epochs(combined_epochs)\n"
     ]
    },
    {
     "name": "stdout",
     "output_type": "stream",
     "text": [
      "    Original shape: (58, 156, 641)\n",
      "    Trials with all NaN values: 0\n",
      "    Average NaN count per trial: 2044.6\n",
      "    Max NaN count in a trial: 16666\n",
      "    Stimulus_bigHsmallStaskL: 58 valid trials out of 58\n",
      "  Loading condition: Stimulus_bigSsmallHtaskG with parameters: {'BIDS_events': ['Stimulus/BigLetters/SmallLetterh/Taskg'], 'bigLetter': 's', 'smallLetter': 'h', 'task': 'g'}\n",
      "Not setting metadata\n",
      "50 matching events found\n",
      "No baseline correction applied\n"
     ]
    },
    {
     "name": "stderr",
     "output_type": "stream",
     "text": [
      "c:\\Users\\jz421\\Desktop\\GlobalLocal\\src\\analysis\\utils\\general_utils.py:424: RuntimeWarning: Concatenation of Annotations within Epochs is not supported yet. All annotations will be dropped.\n",
      "  event_epochs = mne.concatenate_epochs(combined_epochs)\n"
     ]
    },
    {
     "name": "stdout",
     "output_type": "stream",
     "text": [
      "    Original shape: (50, 156, 641)\n",
      "    Trials with all NaN values: 0\n",
      "    Average NaN count per trial: 1782.0\n",
      "    Max NaN count in a trial: 10897\n",
      "    Stimulus_bigSsmallHtaskG: 50 valid trials out of 50\n",
      "  Loading condition: Stimulus_bigSsmallHtaskL with parameters: {'BIDS_events': ['Stimulus/BigLetters/SmallLetterh/Taskl'], 'bigLetter': 's', 'smallLetter': 'h', 'task': 'l'}\n",
      "Not setting metadata\n",
      "49 matching events found\n",
      "No baseline correction applied\n"
     ]
    },
    {
     "name": "stderr",
     "output_type": "stream",
     "text": [
      "c:\\Users\\jz421\\Desktop\\GlobalLocal\\src\\analysis\\utils\\general_utils.py:424: RuntimeWarning: Concatenation of Annotations within Epochs is not supported yet. All annotations will be dropped.\n",
      "  event_epochs = mne.concatenate_epochs(combined_epochs)\n"
     ]
    },
    {
     "name": "stdout",
     "output_type": "stream",
     "text": [
      "    Original shape: (49, 156, 641)\n",
      "    Trials with all NaN values: 0\n",
      "    Average NaN count per trial: 2080.0\n",
      "    Max NaN count in a trial: 12820\n",
      "    Stimulus_bigSsmallHtaskL: 49 valid trials out of 49\n",
      "  Loading condition: Stimulus_bigSsmallStaskG with parameters: {'BIDS_events': ['Stimulus/BigLetters/SmallLetters/Taskg'], 'bigLetter': 's', 'smallLetter': 's', 'task': 'g'}\n",
      "Not setting metadata\n",
      "58 matching events found\n",
      "No baseline correction applied\n"
     ]
    },
    {
     "name": "stderr",
     "output_type": "stream",
     "text": [
      "c:\\Users\\jz421\\Desktop\\GlobalLocal\\src\\analysis\\utils\\general_utils.py:424: RuntimeWarning: Concatenation of Annotations within Epochs is not supported yet. All annotations will be dropped.\n",
      "  event_epochs = mne.concatenate_epochs(combined_epochs)\n"
     ]
    },
    {
     "name": "stdout",
     "output_type": "stream",
     "text": [
      "    Original shape: (58, 156, 641)\n",
      "    Trials with all NaN values: 0\n",
      "    Average NaN count per trial: 2895.6\n",
      "    Max NaN count in a trial: 22435\n",
      "    Stimulus_bigSsmallStaskG: 58 valid trials out of 58\n",
      "  Loading condition: Stimulus_bigSsmallStaskL with parameters: {'BIDS_events': ['Stimulus/BigLetters/SmallLetters/Taskl'], 'bigLetter': 's', 'smallLetter': 's', 'task': 'l'}\n",
      "Not setting metadata\n",
      "49 matching events found\n",
      "No baseline correction applied\n"
     ]
    },
    {
     "name": "stderr",
     "output_type": "stream",
     "text": [
      "c:\\Users\\jz421\\Desktop\\GlobalLocal\\src\\analysis\\utils\\general_utils.py:424: RuntimeWarning: Concatenation of Annotations within Epochs is not supported yet. All annotations will be dropped.\n",
      "  event_epochs = mne.concatenate_epochs(combined_epochs)\n"
     ]
    },
    {
     "name": "stdout",
     "output_type": "stream",
     "text": [
      "    Original shape: (49, 156, 641)\n",
      "    Trials with all NaN values: 0\n",
      "    Average NaN count per trial: 1229.7\n",
      "    Max NaN count in a trial: 11538\n",
      "    Stimulus_bigSsmallStaskL: 49 valid trials out of 49\n",
      "  Loading condition: Stimulus_bigHsmallHtaskG with parameters: {'BIDS_events': ['Stimulus/BigLetterh/SmallLetterh/Taskg'], 'bigLetter': 'h', 'smallLetter': 'h', 'task': 'g'}\n",
      "Not setting metadata\n",
      "47 matching events found\n",
      "No baseline correction applied\n"
     ]
    },
    {
     "name": "stderr",
     "output_type": "stream",
     "text": [
      "c:\\Users\\jz421\\Desktop\\GlobalLocal\\src\\analysis\\utils\\general_utils.py:424: RuntimeWarning: Concatenation of Annotations within Epochs is not supported yet. All annotations will be dropped.\n",
      "  event_epochs = mne.concatenate_epochs(combined_epochs)\n"
     ]
    },
    {
     "name": "stdout",
     "output_type": "stream",
     "text": [
      "    Original shape: (47, 156, 641)\n",
      "    Trials with all NaN values: 0\n",
      "    Average NaN count per trial: 2291.2\n",
      "    Max NaN count in a trial: 10256\n",
      "    Stimulus_bigHsmallHtaskG: 47 valid trials out of 47\n",
      "  Loading condition: Stimulus_bigHsmallHtaskL with parameters: {'BIDS_events': ['Stimulus/BigLetterh/SmallLetterh/Taskl'], 'bigLetter': 'h', 'smallLetter': 'h', 'task': 'l'}\n",
      "Not setting metadata\n",
      "59 matching events found\n",
      "No baseline correction applied\n"
     ]
    },
    {
     "name": "stderr",
     "output_type": "stream",
     "text": [
      "c:\\Users\\jz421\\Desktop\\GlobalLocal\\src\\analysis\\utils\\general_utils.py:424: RuntimeWarning: Concatenation of Annotations within Epochs is not supported yet. All annotations will be dropped.\n",
      "  event_epochs = mne.concatenate_epochs(combined_epochs)\n"
     ]
    },
    {
     "name": "stdout",
     "output_type": "stream",
     "text": [
      "    Original shape: (59, 156, 641)\n",
      "    Trials with all NaN values: 0\n",
      "    Average NaN count per trial: 2879.1\n",
      "    Max NaN count in a trial: 22435\n",
      "    Stimulus_bigHsmallHtaskL: 59 valid trials out of 59\n",
      "  Loading condition: Stimulus_bigHsmallStaskG with parameters: {'BIDS_events': ['Stimulus/BigLetterh/SmallLetters/Taskg'], 'bigLetter': 'h', 'smallLetter': 's', 'task': 'g'}\n",
      "Not setting metadata\n",
      "59 matching events found\n",
      "No baseline correction applied\n"
     ]
    },
    {
     "name": "stderr",
     "output_type": "stream",
     "text": [
      "c:\\Users\\jz421\\Desktop\\GlobalLocal\\src\\analysis\\utils\\general_utils.py:424: RuntimeWarning: Concatenation of Annotations within Epochs is not supported yet. All annotations will be dropped.\n",
      "  event_epochs = mne.concatenate_epochs(combined_epochs)\n"
     ]
    },
    {
     "name": "stdout",
     "output_type": "stream",
     "text": [
      "    Original shape: (59, 156, 641)\n",
      "    Trials with all NaN values: 0\n",
      "    Average NaN count per trial: 2477.1\n",
      "    Max NaN count in a trial: 23076\n",
      "    Stimulus_bigHsmallStaskG: 59 valid trials out of 59\n",
      "  Loading condition: Stimulus_bigHsmallStaskL with parameters: {'BIDS_events': ['Stimulus/BigLetterh/SmallLetters/Taskl'], 'bigLetter': 'h', 'smallLetter': 's', 'task': 'l'}\n",
      "Not setting metadata\n",
      "58 matching events found\n",
      "No baseline correction applied\n"
     ]
    },
    {
     "name": "stderr",
     "output_type": "stream",
     "text": [
      "c:\\Users\\jz421\\Desktop\\GlobalLocal\\src\\analysis\\utils\\general_utils.py:424: RuntimeWarning: Concatenation of Annotations within Epochs is not supported yet. All annotations will be dropped.\n",
      "  event_epochs = mne.concatenate_epochs(combined_epochs)\n"
     ]
    },
    {
     "name": "stdout",
     "output_type": "stream",
     "text": [
      "    Original shape: (58, 156, 641)\n",
      "    Trials with all NaN values: 0\n",
      "    Average NaN count per trial: 2044.6\n",
      "    Max NaN count in a trial: 16666\n",
      "    Stimulus_bigHsmallStaskL: 58 valid trials out of 58\n",
      "Loading data for subject: D0077\n",
      "Reading C:\\Users\\jz421\\Box\\CoganLab\\BIDS-1.1_GlobalLocal\\BIDS\\derivatives\\freqFilt\\figs\\D0077\\D0077_Stimulus_0.5sec_within1sec_randoffset_preStimulusBase_decFactor_8_outliers_10_passband_70.0-150.0_padLength_0.5s_stat_func_ttest_ind_equal_var_False_HG_ev1_rescaled-epo.fif ...\n",
      "    Found the data of interest:\n",
      "        t =   -1000.00 ...    1500.00 ms\n",
      "        0 CTF compensation matrices available\n",
      "Not setting metadata\n",
      "448 matching events found\n",
      "No baseline correction applied\n",
      "0 projection items activated\n",
      "Reading C:\\Users\\jz421\\Box\\CoganLab\\BIDS-1.1_GlobalLocal\\BIDS\\derivatives\\freqFilt\\figs\\D0077\\D0077_Stimulus_0.5sec_within1sec_randoffset_preStimulusBase_decFactor_8_outliers_10_passband_70.0-150.0_padLength_0.5s_stat_func_ttest_ind_equal_var_False_HG_ev1_power_rescaled-epo.fif ...\n",
      "    Found the data of interest:\n",
      "        t =   -1000.00 ...    1500.00 ms\n",
      "        0 CTF compensation matrices available\n",
      "Not setting metadata\n",
      "448 matching events found\n",
      "No baseline correction applied\n",
      "0 projection items activated\n",
      "  Loading condition: Stimulus_bigSsmallHtaskG with parameters: {'BIDS_events': ['Stimulus/BigLetters/SmallLetterh/Taskg'], 'bigLetter': 's', 'smallLetter': 'h', 'task': 'g'}\n",
      "Not setting metadata\n",
      "44 matching events found\n",
      "No baseline correction applied\n",
      "    Original shape: (44, 131, 641)\n",
      "    Trials with all NaN values: 0\n",
      "    Average NaN count per trial: 349.6\n",
      "    Max NaN count in a trial: 3205\n",
      "    Stimulus_bigSsmallHtaskG: 44 valid trials out of 44\n"
     ]
    },
    {
     "name": "stderr",
     "output_type": "stream",
     "text": [
      "c:\\Users\\jz421\\Desktop\\GlobalLocal\\src\\analysis\\utils\\general_utils.py:424: RuntimeWarning: Concatenation of Annotations within Epochs is not supported yet. All annotations will be dropped.\n",
      "  event_epochs = mne.concatenate_epochs(combined_epochs)\n"
     ]
    },
    {
     "name": "stdout",
     "output_type": "stream",
     "text": [
      "  Loading condition: Stimulus_bigSsmallHtaskL with parameters: {'BIDS_events': ['Stimulus/BigLetters/SmallLetterh/Taskl'], 'bigLetter': 's', 'smallLetter': 'h', 'task': 'l'}\n",
      "Not setting metadata\n",
      "40 matching events found\n",
      "No baseline correction applied\n",
      "    Original shape: (40, 131, 641)\n",
      "    Trials with all NaN values: 0\n",
      "    Average NaN count per trial: 448.7\n",
      "    Max NaN count in a trial: 4487\n",
      "    Stimulus_bigSsmallHtaskL: 40 valid trials out of 40\n"
     ]
    },
    {
     "name": "stderr",
     "output_type": "stream",
     "text": [
      "c:\\Users\\jz421\\Desktop\\GlobalLocal\\src\\analysis\\utils\\general_utils.py:424: RuntimeWarning: Concatenation of Annotations within Epochs is not supported yet. All annotations will be dropped.\n",
      "  event_epochs = mne.concatenate_epochs(combined_epochs)\n"
     ]
    },
    {
     "name": "stdout",
     "output_type": "stream",
     "text": [
      "  Loading condition: Stimulus_bigSsmallStaskG with parameters: {'BIDS_events': ['Stimulus/BigLetters/SmallLetters/Taskg'], 'bigLetter': 's', 'smallLetter': 's', 'task': 'g'}\n",
      "Not setting metadata\n",
      "46 matching events found\n",
      "No baseline correction applied\n"
     ]
    },
    {
     "name": "stderr",
     "output_type": "stream",
     "text": [
      "c:\\Users\\jz421\\Desktop\\GlobalLocal\\src\\analysis\\utils\\general_utils.py:424: RuntimeWarning: Concatenation of Annotations within Epochs is not supported yet. All annotations will be dropped.\n",
      "  event_epochs = mne.concatenate_epochs(combined_epochs)\n"
     ]
    },
    {
     "name": "stdout",
     "output_type": "stream",
     "text": [
      "    Original shape: (46, 131, 641)\n",
      "    Trials with all NaN values: 0\n",
      "    Average NaN count per trial: 432.0\n",
      "    Max NaN count in a trial: 4487\n",
      "    Stimulus_bigSsmallStaskG: 46 valid trials out of 46\n",
      "  Loading condition: Stimulus_bigSsmallStaskL with parameters: {'BIDS_events': ['Stimulus/BigLetters/SmallLetters/Taskl'], 'bigLetter': 's', 'smallLetter': 's', 'task': 'l'}\n",
      "Not setting metadata\n",
      "44 matching events found\n",
      "No baseline correction applied\n"
     ]
    },
    {
     "name": "stderr",
     "output_type": "stream",
     "text": [
      "c:\\Users\\jz421\\Desktop\\GlobalLocal\\src\\analysis\\utils\\general_utils.py:424: RuntimeWarning: Concatenation of Annotations within Epochs is not supported yet. All annotations will be dropped.\n",
      "  event_epochs = mne.concatenate_epochs(combined_epochs)\n"
     ]
    },
    {
     "name": "stdout",
     "output_type": "stream",
     "text": [
      "    Original shape: (44, 131, 641)\n",
      "    Trials with all NaN values: 0\n",
      "    Average NaN count per trial: 874.1\n",
      "    Max NaN count in a trial: 7051\n",
      "    Stimulus_bigSsmallStaskL: 44 valid trials out of 44\n",
      "  Loading condition: Stimulus_bigHsmallHtaskG with parameters: {'BIDS_events': ['Stimulus/BigLetterh/SmallLetterh/Taskg'], 'bigLetter': 'h', 'smallLetter': 'h', 'task': 'g'}\n",
      "Not setting metadata\n",
      "50 matching events found\n",
      "No baseline correction applied\n"
     ]
    },
    {
     "name": "stderr",
     "output_type": "stream",
     "text": [
      "c:\\Users\\jz421\\Desktop\\GlobalLocal\\src\\analysis\\utils\\general_utils.py:424: RuntimeWarning: Concatenation of Annotations within Epochs is not supported yet. All annotations will be dropped.\n",
      "  event_epochs = mne.concatenate_epochs(combined_epochs)\n"
     ]
    },
    {
     "name": "stdout",
     "output_type": "stream",
     "text": [
      "    Original shape: (50, 131, 641)\n",
      "    Trials with all NaN values: 0\n",
      "    Average NaN count per trial: 858.9\n",
      "    Max NaN count in a trial: 8974\n",
      "    Stimulus_bigHsmallHtaskG: 50 valid trials out of 50\n",
      "  Loading condition: Stimulus_bigHsmallHtaskL with parameters: {'BIDS_events': ['Stimulus/BigLetterh/SmallLetterh/Taskl'], 'bigLetter': 'h', 'smallLetter': 'h', 'task': 'l'}\n",
      "Not setting metadata\n",
      "46 matching events found\n",
      "No baseline correction applied\n"
     ]
    },
    {
     "name": "stderr",
     "output_type": "stream",
     "text": [
      "c:\\Users\\jz421\\Desktop\\GlobalLocal\\src\\analysis\\utils\\general_utils.py:424: RuntimeWarning: Concatenation of Annotations within Epochs is not supported yet. All annotations will be dropped.\n",
      "  event_epochs = mne.concatenate_epochs(combined_epochs)\n"
     ]
    },
    {
     "name": "stdout",
     "output_type": "stream",
     "text": [
      "    Original shape: (46, 131, 641)\n",
      "    Trials with all NaN values: 0\n",
      "    Average NaN count per trial: 362.3\n",
      "    Max NaN count in a trial: 2564\n",
      "    Stimulus_bigHsmallHtaskL: 46 valid trials out of 46\n",
      "  Loading condition: Stimulus_bigHsmallStaskG with parameters: {'BIDS_events': ['Stimulus/BigLetterh/SmallLetters/Taskg'], 'bigLetter': 'h', 'smallLetter': 's', 'task': 'g'}\n",
      "Not setting metadata\n",
      "42 matching events found\n",
      "No baseline correction applied\n",
      "    Original shape: (42, 131, 641)"
     ]
    },
    {
     "name": "stderr",
     "output_type": "stream",
     "text": [
      "c:\\Users\\jz421\\Desktop\\GlobalLocal\\src\\analysis\\utils\\general_utils.py:424: RuntimeWarning: Concatenation of Annotations within Epochs is not supported yet. All annotations will be dropped.\n",
      "  event_epochs = mne.concatenate_epochs(combined_epochs)\n"
     ]
    },
    {
     "name": "stdout",
     "output_type": "stream",
     "text": [
      "\n",
      "    Trials with all NaN values: 0\n",
      "    Average NaN count per trial: 839.4\n",
      "    Max NaN count in a trial: 7051\n",
      "    Stimulus_bigHsmallStaskG: 42 valid trials out of 42\n",
      "  Loading condition: Stimulus_bigHsmallStaskL with parameters: {'BIDS_events': ['Stimulus/BigLetterh/SmallLetters/Taskl'], 'bigLetter': 'h', 'smallLetter': 's', 'task': 'l'}\n",
      "Not setting metadata\n",
      "43 matching events found\n",
      "No baseline correction applied\n"
     ]
    },
    {
     "name": "stderr",
     "output_type": "stream",
     "text": [
      "c:\\Users\\jz421\\Desktop\\GlobalLocal\\src\\analysis\\utils\\general_utils.py:424: RuntimeWarning: Concatenation of Annotations within Epochs is not supported yet. All annotations will be dropped.\n",
      "  event_epochs = mne.concatenate_epochs(combined_epochs)\n"
     ]
    },
    {
     "name": "stdout",
     "output_type": "stream",
     "text": [
      "    Original shape: (43, 131, 641)\n",
      "    Trials with all NaN values: 0\n",
      "    Average NaN count per trial: 447.2\n",
      "    Max NaN count in a trial: 6410\n",
      "    Stimulus_bigHsmallStaskL: 43 valid trials out of 43\n",
      "  Loading condition: Stimulus_bigSsmallHtaskG with parameters: {'BIDS_events': ['Stimulus/BigLetters/SmallLetterh/Taskg'], 'bigLetter': 's', 'smallLetter': 'h', 'task': 'g'}\n",
      "Not setting metadata\n",
      "44 matching events found\n",
      "No baseline correction applied\n",
      "    Original shape: (44, 131, 641)\n",
      "    Trials with all NaN values: 0\n",
      "    Average NaN count per trial: 349.6\n",
      "    Max NaN count in a trial: 3205\n",
      "    Stimulus_bigSsmallHtaskG: 44 valid trials out of 44\n"
     ]
    },
    {
     "name": "stderr",
     "output_type": "stream",
     "text": [
      "c:\\Users\\jz421\\Desktop\\GlobalLocal\\src\\analysis\\utils\\general_utils.py:424: RuntimeWarning: Concatenation of Annotations within Epochs is not supported yet. All annotations will be dropped.\n",
      "  event_epochs = mne.concatenate_epochs(combined_epochs)\n"
     ]
    },
    {
     "name": "stdout",
     "output_type": "stream",
     "text": [
      "  Loading condition: Stimulus_bigSsmallHtaskL with parameters: {'BIDS_events': ['Stimulus/BigLetters/SmallLetterh/Taskl'], 'bigLetter': 's', 'smallLetter': 'h', 'task': 'l'}\n",
      "Not setting metadata\n",
      "40 matching events found\n",
      "No baseline correction applied\n",
      "    Original shape: (40, 131, 641)\n"
     ]
    },
    {
     "name": "stderr",
     "output_type": "stream",
     "text": [
      "c:\\Users\\jz421\\Desktop\\GlobalLocal\\src\\analysis\\utils\\general_utils.py:424: RuntimeWarning: Concatenation of Annotations within Epochs is not supported yet. All annotations will be dropped.\n",
      "  event_epochs = mne.concatenate_epochs(combined_epochs)\n"
     ]
    },
    {
     "name": "stdout",
     "output_type": "stream",
     "text": [
      "    Trials with all NaN values: 0\n",
      "    Average NaN count per trial: 448.7\n",
      "    Max NaN count in a trial: 4487\n",
      "    Stimulus_bigSsmallHtaskL: 40 valid trials out of 40\n",
      "  Loading condition: Stimulus_bigSsmallStaskG with parameters: {'BIDS_events': ['Stimulus/BigLetters/SmallLetters/Taskg'], 'bigLetter': 's', 'smallLetter': 's', 'task': 'g'}\n",
      "Not setting metadata\n",
      "46 matching events found\n",
      "No baseline correction applied\n"
     ]
    },
    {
     "name": "stderr",
     "output_type": "stream",
     "text": [
      "c:\\Users\\jz421\\Desktop\\GlobalLocal\\src\\analysis\\utils\\general_utils.py:424: RuntimeWarning: Concatenation of Annotations within Epochs is not supported yet. All annotations will be dropped.\n",
      "  event_epochs = mne.concatenate_epochs(combined_epochs)\n"
     ]
    },
    {
     "name": "stdout",
     "output_type": "stream",
     "text": [
      "    Original shape: (46, 131, 641)\n",
      "    Trials with all NaN values: 0\n",
      "    Average NaN count per trial: 432.0\n",
      "    Max NaN count in a trial: 4487\n",
      "    Stimulus_bigSsmallStaskG: 46 valid trials out of 46\n",
      "  Loading condition: Stimulus_bigSsmallStaskL with parameters: {'BIDS_events': ['Stimulus/BigLetters/SmallLetters/Taskl'], 'bigLetter': 's', 'smallLetter': 's', 'task': 'l'}\n",
      "Not setting metadata\n",
      "44 matching events found\n",
      "No baseline correction applied\n",
      "    Original shape: (44, 131, 641)\n",
      "    Trials with all NaN values: 0\n",
      "    Average NaN count per trial: 874.1\n",
      "    Max NaN count in a trial: 7051\n",
      "    Stimulus_bigSsmallStaskL: 44 valid trials out of 44\n"
     ]
    },
    {
     "name": "stderr",
     "output_type": "stream",
     "text": [
      "c:\\Users\\jz421\\Desktop\\GlobalLocal\\src\\analysis\\utils\\general_utils.py:424: RuntimeWarning: Concatenation of Annotations within Epochs is not supported yet. All annotations will be dropped.\n",
      "  event_epochs = mne.concatenate_epochs(combined_epochs)\n"
     ]
    },
    {
     "name": "stdout",
     "output_type": "stream",
     "text": [
      "  Loading condition: Stimulus_bigHsmallHtaskG with parameters: {'BIDS_events': ['Stimulus/BigLetterh/SmallLetterh/Taskg'], 'bigLetter': 'h', 'smallLetter': 'h', 'task': 'g'}\n",
      "Not setting metadata\n",
      "50 matching events found\n",
      "No baseline correction applied\n"
     ]
    },
    {
     "name": "stderr",
     "output_type": "stream",
     "text": [
      "c:\\Users\\jz421\\Desktop\\GlobalLocal\\src\\analysis\\utils\\general_utils.py:424: RuntimeWarning: Concatenation of Annotations within Epochs is not supported yet. All annotations will be dropped.\n",
      "  event_epochs = mne.concatenate_epochs(combined_epochs)\n"
     ]
    },
    {
     "name": "stdout",
     "output_type": "stream",
     "text": [
      "    Original shape: (50, 131, 641)\n",
      "    Trials with all NaN values: 0\n",
      "    Average NaN count per trial: 858.9\n",
      "    Max NaN count in a trial: 8974\n",
      "    Stimulus_bigHsmallHtaskG: 50 valid trials out of 50\n",
      "  Loading condition: Stimulus_bigHsmallHtaskL with parameters: {'BIDS_events': ['Stimulus/BigLetterh/SmallLetterh/Taskl'], 'bigLetter': 'h', 'smallLetter': 'h', 'task': 'l'}\n",
      "Not setting metadata\n",
      "46 matching events found\n",
      "No baseline correction applied\n"
     ]
    },
    {
     "name": "stderr",
     "output_type": "stream",
     "text": [
      "c:\\Users\\jz421\\Desktop\\GlobalLocal\\src\\analysis\\utils\\general_utils.py:424: RuntimeWarning: Concatenation of Annotations within Epochs is not supported yet. All annotations will be dropped.\n",
      "  event_epochs = mne.concatenate_epochs(combined_epochs)\n"
     ]
    },
    {
     "name": "stdout",
     "output_type": "stream",
     "text": [
      "    Original shape: (46, 131, 641)\n",
      "    Trials with all NaN values: 0\n",
      "    Average NaN count per trial: 362.3\n",
      "    Max NaN count in a trial: 2564\n",
      "    Stimulus_bigHsmallHtaskL: 46 valid trials out of 46\n",
      "  Loading condition: Stimulus_bigHsmallStaskG with parameters: {'BIDS_events': ['Stimulus/BigLetterh/SmallLetters/Taskg'], 'bigLetter': 'h', 'smallLetter': 's', 'task': 'g'}\n",
      "Not setting metadata\n",
      "42 matching events found\n",
      "No baseline correction applied\n"
     ]
    },
    {
     "name": "stderr",
     "output_type": "stream",
     "text": [
      "c:\\Users\\jz421\\Desktop\\GlobalLocal\\src\\analysis\\utils\\general_utils.py:424: RuntimeWarning: Concatenation of Annotations within Epochs is not supported yet. All annotations will be dropped.\n",
      "  event_epochs = mne.concatenate_epochs(combined_epochs)\n"
     ]
    },
    {
     "name": "stdout",
     "output_type": "stream",
     "text": [
      "    Original shape: (42, 131, 641)\n",
      "    Trials with all NaN values: 0\n",
      "    Average NaN count per trial: 839.4\n",
      "    Max NaN count in a trial: 7051\n",
      "    Stimulus_bigHsmallStaskG: 42 valid trials out of 42\n",
      "  Loading condition: Stimulus_bigHsmallStaskL with parameters: {'BIDS_events': ['Stimulus/BigLetterh/SmallLetters/Taskl'], 'bigLetter': 'h', 'smallLetter': 's', 'task': 'l'}\n",
      "Not setting metadata\n",
      "43 matching events found\n",
      "No baseline correction applied\n"
     ]
    },
    {
     "name": "stderr",
     "output_type": "stream",
     "text": [
      "c:\\Users\\jz421\\Desktop\\GlobalLocal\\src\\analysis\\utils\\general_utils.py:424: RuntimeWarning: Concatenation of Annotations within Epochs is not supported yet. All annotations will be dropped.\n",
      "  event_epochs = mne.concatenate_epochs(combined_epochs)\n"
     ]
    },
    {
     "name": "stdout",
     "output_type": "stream",
     "text": [
      "    Original shape: (43, 131, 641)\n",
      "    Trials with all NaN values: 0\n",
      "    Average NaN count per trial: 447.2\n",
      "    Max NaN count in a trial: 6410\n",
      "    Stimulus_bigHsmallStaskL: 43 valid trials out of 43\n",
      "Loading data for subject: D0090\n",
      "Reading C:\\Users\\jz421\\Box\\CoganLab\\BIDS-1.1_GlobalLocal\\BIDS\\derivatives\\freqFilt\\figs\\D0090\\D0090_Stimulus_0.5sec_within1sec_randoffset_preStimulusBase_decFactor_8_outliers_10_passband_70.0-150.0_padLength_0.5s_stat_func_ttest_ind_equal_var_False_HG_ev1_rescaled-epo.fif ...\n",
      "    Found the data of interest:\n",
      "        t =   -1000.00 ...    1500.00 ms\n",
      "        0 CTF compensation matrices available\n",
      "Not setting metadata\n",
      "450 matching events found\n",
      "No baseline correction applied\n",
      "0 projection items activated\n",
      "Reading C:\\Users\\jz421\\Box\\CoganLab\\BIDS-1.1_GlobalLocal\\BIDS\\derivatives\\freqFilt\\figs\\D0090\\D0090_Stimulus_0.5sec_within1sec_randoffset_preStimulusBase_decFactor_8_outliers_10_passband_70.0-150.0_padLength_0.5s_stat_func_ttest_ind_equal_var_False_HG_ev1_power_rescaled-epo.fif ...\n",
      "    Found the data of interest:\n",
      "        t =   -1000.00 ...    1500.00 ms\n",
      "        0 CTF compensation matrices available\n",
      "Not setting metadata\n",
      "450 matching events found\n",
      "No baseline correction applied\n",
      "0 projection items activated\n",
      "  Loading condition: Stimulus_bigSsmallHtaskG with parameters: {'BIDS_events': ['Stimulus/BigLetters/SmallLetterh/Taskg'], 'bigLetter': 's', 'smallLetter': 'h', 'task': 'g'}\n",
      "Not setting metadata\n",
      "52 matching events found\n",
      "No baseline correction applied\n"
     ]
    },
    {
     "name": "stderr",
     "output_type": "stream",
     "text": [
      "c:\\Users\\jz421\\Desktop\\GlobalLocal\\src\\analysis\\utils\\general_utils.py:424: RuntimeWarning: Concatenation of Annotations within Epochs is not supported yet. All annotations will be dropped.\n",
      "  event_epochs = mne.concatenate_epochs(combined_epochs)\n"
     ]
    },
    {
     "name": "stdout",
     "output_type": "stream",
     "text": [
      "    Original shape: (52, 157, 641)\n",
      "    Trials with all NaN values: 0\n",
      "    Average NaN count per trial: 431.4\n",
      "    Max NaN count in a trial: 7051\n",
      "    Stimulus_bigSsmallHtaskG: 52 valid trials out of 52\n",
      "  Loading condition: Stimulus_bigSsmallHtaskL with parameters: {'BIDS_events': ['Stimulus/BigLetters/SmallLetterh/Taskl'], 'bigLetter': 's', 'smallLetter': 'h', 'task': 'l'}\n",
      "Not setting metadata\n",
      "45 matching events found\n",
      "No baseline correction applied\n"
     ]
    },
    {
     "name": "stderr",
     "output_type": "stream",
     "text": [
      "c:\\Users\\jz421\\Desktop\\GlobalLocal\\src\\analysis\\utils\\general_utils.py:424: RuntimeWarning: Concatenation of Annotations within Epochs is not supported yet. All annotations will be dropped.\n",
      "  event_epochs = mne.concatenate_epochs(combined_epochs)\n"
     ]
    },
    {
     "name": "stdout",
     "output_type": "stream",
     "text": [
      "    Original shape: (45, 157, 641)\n",
      "    Trials with all NaN values: 0\n",
      "    Average NaN count per trial: 227.9\n",
      "    Max NaN count in a trial: 5128\n",
      "    Stimulus_bigSsmallHtaskL: 45 valid trials out of 45\n",
      "  Loading condition: Stimulus_bigSsmallStaskG with parameters: {'BIDS_events': ['Stimulus/BigLetters/SmallLetters/Taskg'], 'bigLetter': 's', 'smallLetter': 's', 'task': 'g'}\n",
      "Not setting metadata\n",
      "54 matching events found\n",
      "No baseline correction applied\n"
     ]
    },
    {
     "name": "stderr",
     "output_type": "stream",
     "text": [
      "c:\\Users\\jz421\\Desktop\\GlobalLocal\\src\\analysis\\utils\\general_utils.py:424: RuntimeWarning: Concatenation of Annotations within Epochs is not supported yet. All annotations will be dropped.\n",
      "  event_epochs = mne.concatenate_epochs(combined_epochs)\n"
     ]
    },
    {
     "name": "stdout",
     "output_type": "stream",
     "text": [
      "    Original shape: (54, 157, 641)\n",
      "    Trials with all NaN values: 0\n",
      "    Average NaN count per trial: 914.0\n",
      "    Max NaN count in a trial: 9615\n",
      "    Stimulus_bigSsmallStaskG: 54 valid trials out of 54\n",
      "  Loading condition: Stimulus_bigSsmallStaskL with parameters: {'BIDS_events': ['Stimulus/BigLetters/SmallLetters/Taskl'], 'bigLetter': 's', 'smallLetter': 's', 'task': 'l'}\n",
      "Not setting metadata\n",
      "42 matching events found\n",
      "No baseline correction applied\n"
     ]
    },
    {
     "name": "stderr",
     "output_type": "stream",
     "text": [
      "c:\\Users\\jz421\\Desktop\\GlobalLocal\\src\\analysis\\utils\\general_utils.py:424: RuntimeWarning: Concatenation of Annotations within Epochs is not supported yet. All annotations will be dropped.\n",
      "  event_epochs = mne.concatenate_epochs(combined_epochs)\n"
     ]
    },
    {
     "name": "stdout",
     "output_type": "stream",
     "text": [
      "    Original shape: (42, 157, 641)\n",
      "    Trials with all NaN values: 0\n",
      "    Average NaN count per trial: 1022.5\n",
      "    Max NaN count in a trial: 14743\n",
      "    Stimulus_bigSsmallStaskL: 42 valid trials out of 42\n",
      "  Loading condition: Stimulus_bigHsmallHtaskG with parameters: {'BIDS_events': ['Stimulus/BigLetterh/SmallLetterh/Taskg'], 'bigLetter': 'h', 'smallLetter': 'h', 'task': 'g'}\n",
      "Not setting metadata\n",
      "61 matching events found\n",
      "No baseline correction applied\n"
     ]
    },
    {
     "name": "stderr",
     "output_type": "stream",
     "text": [
      "c:\\Users\\jz421\\Desktop\\GlobalLocal\\src\\analysis\\utils\\general_utils.py:424: RuntimeWarning: Concatenation of Annotations within Epochs is not supported yet. All annotations will be dropped.\n",
      "  event_epochs = mne.concatenate_epochs(combined_epochs)\n"
     ]
    },
    {
     "name": "stdout",
     "output_type": "stream",
     "text": [
      "    Original shape: (61, 157, 641)\n",
      "    Trials with all NaN values: 0\n",
      "    Average NaN count per trial: 683.0\n",
      "    Max NaN count in a trial: 7692\n",
      "    Stimulus_bigHsmallHtaskG: 61 valid trials out of 61\n",
      "  Loading condition: Stimulus_bigHsmallHtaskL with parameters: {'BIDS_events': ['Stimulus/BigLetterh/SmallLetterh/Taskl'], 'bigLetter': 'h', 'smallLetter': 'h', 'task': 'l'}\n",
      "Not setting metadata\n",
      "57 matching events found\n",
      "No baseline correction applied\n"
     ]
    },
    {
     "name": "stderr",
     "output_type": "stream",
     "text": [
      "c:\\Users\\jz421\\Desktop\\GlobalLocal\\src\\analysis\\utils\\general_utils.py:424: RuntimeWarning: Concatenation of Annotations within Epochs is not supported yet. All annotations will be dropped.\n",
      "  event_epochs = mne.concatenate_epochs(combined_epochs)\n"
     ]
    },
    {
     "name": "stdout",
     "output_type": "stream",
     "text": [
      "    Original shape: (57, 157, 641)\n",
      "    Trials with all NaN values: 0\n",
      "    Average NaN count per trial: 449.8\n",
      "    Max NaN count in a trial: 6410\n",
      "    Stimulus_bigHsmallHtaskL: 57 valid trials out of 57\n",
      "  Loading condition: Stimulus_bigHsmallStaskG with parameters: {'BIDS_events': ['Stimulus/BigLetterh/SmallLetters/Taskg'], 'bigLetter': 'h', 'smallLetter': 's', 'task': 'g'}\n",
      "Not setting metadata\n",
      "52 matching events found\n",
      "No baseline correction applied\n"
     ]
    },
    {
     "name": "stderr",
     "output_type": "stream",
     "text": [
      "c:\\Users\\jz421\\Desktop\\GlobalLocal\\src\\analysis\\utils\\general_utils.py:424: RuntimeWarning: Concatenation of Annotations within Epochs is not supported yet. All annotations will be dropped.\n",
      "  event_epochs = mne.concatenate_epochs(combined_epochs)\n"
     ]
    },
    {
     "name": "stdout",
     "output_type": "stream",
     "text": [
      "    Original shape: (52, 157, 641)\n",
      "    Trials with all NaN values: 0\n",
      "    Average NaN count per trial: 493.1\n",
      "    Max NaN count in a trial: 5128\n",
      "    Stimulus_bigHsmallStaskG: 52 valid trials out of 52\n",
      "  Loading condition: Stimulus_bigHsmallStaskL with parameters: {'BIDS_events': ['Stimulus/BigLetterh/SmallLetters/Taskl'], 'bigLetter': 'h', 'smallLetter': 's', 'task': 'l'}\n",
      "Not setting metadata\n",
      "64 matching events found\n",
      "No baseline correction applied\n"
     ]
    },
    {
     "name": "stderr",
     "output_type": "stream",
     "text": [
      "c:\\Users\\jz421\\Desktop\\GlobalLocal\\src\\analysis\\utils\\general_utils.py:424: RuntimeWarning: Concatenation of Annotations within Epochs is not supported yet. All annotations will be dropped.\n",
      "  event_epochs = mne.concatenate_epochs(combined_epochs)\n"
     ]
    },
    {
     "name": "stdout",
     "output_type": "stream",
     "text": [
      "    Original shape: (64, 157, 641)\n",
      "    Trials with all NaN values: 0\n",
      "    Average NaN count per trial: 671.0\n",
      "    Max NaN count in a trial: 7692\n",
      "    Stimulus_bigHsmallStaskL: 64 valid trials out of 64\n",
      "  Loading condition: Stimulus_bigSsmallHtaskG with parameters: {'BIDS_events': ['Stimulus/BigLetters/SmallLetterh/Taskg'], 'bigLetter': 's', 'smallLetter': 'h', 'task': 'g'}\n",
      "Not setting metadata\n",
      "52 matching events found\n",
      "No baseline correction applied\n"
     ]
    },
    {
     "name": "stderr",
     "output_type": "stream",
     "text": [
      "c:\\Users\\jz421\\Desktop\\GlobalLocal\\src\\analysis\\utils\\general_utils.py:424: RuntimeWarning: Concatenation of Annotations within Epochs is not supported yet. All annotations will be dropped.\n",
      "  event_epochs = mne.concatenate_epochs(combined_epochs)\n"
     ]
    },
    {
     "name": "stdout",
     "output_type": "stream",
     "text": [
      "    Original shape: (52, 157, 641)\n",
      "    Trials with all NaN values: 0\n",
      "    Average NaN count per trial: 431.4\n",
      "    Max NaN count in a trial: 7051\n",
      "    Stimulus_bigSsmallHtaskG: 52 valid trials out of 52\n",
      "  Loading condition: Stimulus_bigSsmallHtaskL with parameters: {'BIDS_events': ['Stimulus/BigLetters/SmallLetterh/Taskl'], 'bigLetter': 's', 'smallLetter': 'h', 'task': 'l'}\n",
      "Not setting metadata\n",
      "45 matching events found\n",
      "No baseline correction applied\n"
     ]
    },
    {
     "name": "stderr",
     "output_type": "stream",
     "text": [
      "c:\\Users\\jz421\\Desktop\\GlobalLocal\\src\\analysis\\utils\\general_utils.py:424: RuntimeWarning: Concatenation of Annotations within Epochs is not supported yet. All annotations will be dropped.\n",
      "  event_epochs = mne.concatenate_epochs(combined_epochs)\n"
     ]
    },
    {
     "name": "stdout",
     "output_type": "stream",
     "text": [
      "    Original shape: (45, 157, 641)\n",
      "    Trials with all NaN values: 0\n",
      "    Average NaN count per trial: 227.9\n",
      "    Max NaN count in a trial: 5128\n",
      "    Stimulus_bigSsmallHtaskL: 45 valid trials out of 45\n",
      "  Loading condition: Stimulus_bigSsmallStaskG with parameters: {'BIDS_events': ['Stimulus/BigLetters/SmallLetters/Taskg'], 'bigLetter': 's', 'smallLetter': 's', 'task': 'g'}\n",
      "Not setting metadata\n",
      "54 matching events found\n",
      "No baseline correction applied\n"
     ]
    },
    {
     "name": "stderr",
     "output_type": "stream",
     "text": [
      "c:\\Users\\jz421\\Desktop\\GlobalLocal\\src\\analysis\\utils\\general_utils.py:424: RuntimeWarning: Concatenation of Annotations within Epochs is not supported yet. All annotations will be dropped.\n",
      "  event_epochs = mne.concatenate_epochs(combined_epochs)\n"
     ]
    },
    {
     "name": "stdout",
     "output_type": "stream",
     "text": [
      "    Original shape: (54, 157, 641)\n",
      "    Trials with all NaN values: 0\n",
      "    Average NaN count per trial: 914.0\n",
      "    Max NaN count in a trial: 9615\n",
      "    Stimulus_bigSsmallStaskG: 54 valid trials out of 54\n",
      "  Loading condition: Stimulus_bigSsmallStaskL with parameters: {'BIDS_events': ['Stimulus/BigLetters/SmallLetters/Taskl'], 'bigLetter': 's', 'smallLetter': 's', 'task': 'l'}\n",
      "Not setting metadata\n",
      "42 matching events found\n",
      "No baseline correction applied\n"
     ]
    },
    {
     "name": "stderr",
     "output_type": "stream",
     "text": [
      "c:\\Users\\jz421\\Desktop\\GlobalLocal\\src\\analysis\\utils\\general_utils.py:424: RuntimeWarning: Concatenation of Annotations within Epochs is not supported yet. All annotations will be dropped.\n",
      "  event_epochs = mne.concatenate_epochs(combined_epochs)\n"
     ]
    },
    {
     "name": "stdout",
     "output_type": "stream",
     "text": [
      "    Original shape: (42, 157, 641)\n",
      "    Trials with all NaN values: 0\n",
      "    Average NaN count per trial: 1022.5\n",
      "    Max NaN count in a trial: 14743\n",
      "    Stimulus_bigSsmallStaskL: 42 valid trials out of 42\n",
      "  Loading condition: Stimulus_bigHsmallHtaskG with parameters: {'BIDS_events': ['Stimulus/BigLetterh/SmallLetterh/Taskg'], 'bigLetter': 'h', 'smallLetter': 'h', 'task': 'g'}\n",
      "Not setting metadata\n",
      "61 matching events found\n",
      "No baseline correction applied\n"
     ]
    },
    {
     "name": "stderr",
     "output_type": "stream",
     "text": [
      "c:\\Users\\jz421\\Desktop\\GlobalLocal\\src\\analysis\\utils\\general_utils.py:424: RuntimeWarning: Concatenation of Annotations within Epochs is not supported yet. All annotations will be dropped.\n",
      "  event_epochs = mne.concatenate_epochs(combined_epochs)\n"
     ]
    },
    {
     "name": "stdout",
     "output_type": "stream",
     "text": [
      "    Original shape: (61, 157, 641)\n",
      "    Trials with all NaN values: 0\n",
      "    Average NaN count per trial: 683.0\n",
      "    Max NaN count in a trial: 7692\n",
      "    Stimulus_bigHsmallHtaskG: 61 valid trials out of 61\n",
      "  Loading condition: Stimulus_bigHsmallHtaskL with parameters: {'BIDS_events': ['Stimulus/BigLetterh/SmallLetterh/Taskl'], 'bigLetter': 'h', 'smallLetter': 'h', 'task': 'l'}\n",
      "Not setting metadata\n",
      "57 matching events found\n",
      "No baseline correction applied\n"
     ]
    },
    {
     "name": "stderr",
     "output_type": "stream",
     "text": [
      "c:\\Users\\jz421\\Desktop\\GlobalLocal\\src\\analysis\\utils\\general_utils.py:424: RuntimeWarning: Concatenation of Annotations within Epochs is not supported yet. All annotations will be dropped.\n",
      "  event_epochs = mne.concatenate_epochs(combined_epochs)\n"
     ]
    },
    {
     "name": "stdout",
     "output_type": "stream",
     "text": [
      "    Original shape: (57, 157, 641)\n",
      "    Trials with all NaN values: 0\n",
      "    Average NaN count per trial: 449.8\n",
      "    Max NaN count in a trial: 6410\n",
      "    Stimulus_bigHsmallHtaskL: 57 valid trials out of 57\n",
      "  Loading condition: Stimulus_bigHsmallStaskG with parameters: {'BIDS_events': ['Stimulus/BigLetterh/SmallLetters/Taskg'], 'bigLetter': 'h', 'smallLetter': 's', 'task': 'g'}\n",
      "Not setting metadata\n",
      "52 matching events found\n",
      "No baseline correction applied\n"
     ]
    },
    {
     "name": "stderr",
     "output_type": "stream",
     "text": [
      "c:\\Users\\jz421\\Desktop\\GlobalLocal\\src\\analysis\\utils\\general_utils.py:424: RuntimeWarning: Concatenation of Annotations within Epochs is not supported yet. All annotations will be dropped.\n",
      "  event_epochs = mne.concatenate_epochs(combined_epochs)\n"
     ]
    },
    {
     "name": "stdout",
     "output_type": "stream",
     "text": [
      "    Original shape: (52, 157, 641)\n",
      "    Trials with all NaN values: 0\n",
      "    Average NaN count per trial: 493.1\n",
      "    Max NaN count in a trial: 5128\n",
      "    Stimulus_bigHsmallStaskG: 52 valid trials out of 52\n",
      "  Loading condition: Stimulus_bigHsmallStaskL with parameters: {'BIDS_events': ['Stimulus/BigLetterh/SmallLetters/Taskl'], 'bigLetter': 'h', 'smallLetter': 's', 'task': 'l'}\n",
      "Not setting metadata\n",
      "64 matching events found\n",
      "No baseline correction applied\n"
     ]
    },
    {
     "name": "stderr",
     "output_type": "stream",
     "text": [
      "c:\\Users\\jz421\\Desktop\\GlobalLocal\\src\\analysis\\utils\\general_utils.py:424: RuntimeWarning: Concatenation of Annotations within Epochs is not supported yet. All annotations will be dropped.\n",
      "  event_epochs = mne.concatenate_epochs(combined_epochs)\n"
     ]
    },
    {
     "name": "stdout",
     "output_type": "stream",
     "text": [
      "    Original shape: (64, 157, 641)\n",
      "    Trials with all NaN values: 0\n",
      "    Average NaN count per trial: 671.0\n",
      "    Max NaN count in a trial: 7692\n",
      "    Stimulus_bigHsmallStaskL: 64 valid trials out of 64\n",
      "Loading data for subject: D0094\n",
      "Reading C:\\Users\\jz421\\Box\\CoganLab\\BIDS-1.1_GlobalLocal\\BIDS\\derivatives\\freqFilt\\figs\\D0094\\D0094_Stimulus_0.5sec_within1sec_randoffset_preStimulusBase_decFactor_8_outliers_10_passband_70.0-150.0_padLength_0.5s_stat_func_ttest_ind_equal_var_False_HG_ev1_rescaled-epo.fif ...\n",
      "    Found the data of interest:\n",
      "        t =   -1000.00 ...    1500.00 ms\n",
      "        0 CTF compensation matrices available\n",
      "Not setting metadata\n",
      "448 matching events found\n",
      "No baseline correction applied\n",
      "0 projection items activated\n",
      "Reading C:\\Users\\jz421\\Box\\CoganLab\\BIDS-1.1_GlobalLocal\\BIDS\\derivatives\\freqFilt\\figs\\D0094\\D0094_Stimulus_0.5sec_within1sec_randoffset_preStimulusBase_decFactor_8_outliers_10_passband_70.0-150.0_padLength_0.5s_stat_func_ttest_ind_equal_var_False_HG_ev1_power_rescaled-epo.fif ...\n",
      "    Found the data of interest:\n",
      "        t =   -1000.00 ...    1500.00 ms\n",
      "        0 CTF compensation matrices available\n",
      "Not setting metadata\n",
      "448 matching events found\n",
      "No baseline correction applied\n",
      "0 projection items activated\n",
      "  Loading condition: Stimulus_bigSsmallHtaskG with parameters: {'BIDS_events': ['Stimulus/BigLetters/SmallLetterh/Taskg'], 'bigLetter': 's', 'smallLetter': 'h', 'task': 'g'}\n",
      "Not setting metadata\n",
      "42 matching events found\n",
      "No baseline correction applied\n"
     ]
    },
    {
     "name": "stderr",
     "output_type": "stream",
     "text": [
      "c:\\Users\\jz421\\Desktop\\GlobalLocal\\src\\analysis\\utils\\general_utils.py:424: RuntimeWarning: Concatenation of Annotations within Epochs is not supported yet. All annotations will be dropped.\n",
      "  event_epochs = mne.concatenate_epochs(combined_epochs)\n"
     ]
    },
    {
     "name": "stdout",
     "output_type": "stream",
     "text": [
      "    Original shape: (42, 231, 641)\n",
      "    Trials with all NaN values: 0\n",
      "    Average NaN count per trial: 183.1\n",
      "    Max NaN count in a trial: 3205\n",
      "    Stimulus_bigSsmallHtaskG: 42 valid trials out of 42\n",
      "  Loading condition: Stimulus_bigSsmallHtaskL with parameters: {'BIDS_events': ['Stimulus/BigLetters/SmallLetterh/Taskl'], 'bigLetter': 's', 'smallLetter': 'h', 'task': 'l'}\n",
      "Not setting metadata\n",
      "44 matching events found\n",
      "No baseline correction applied\n"
     ]
    },
    {
     "name": "stderr",
     "output_type": "stream",
     "text": [
      "c:\\Users\\jz421\\Desktop\\GlobalLocal\\src\\analysis\\utils\\general_utils.py:424: RuntimeWarning: Concatenation of Annotations within Epochs is not supported yet. All annotations will be dropped.\n",
      "  event_epochs = mne.concatenate_epochs(combined_epochs)\n"
     ]
    },
    {
     "name": "stdout",
     "output_type": "stream",
     "text": [
      "    Original shape: (44, 231, 641)\n",
      "    Trials with all NaN values: 0\n",
      "    Average NaN count per trial: 728.4\n",
      "    Max NaN count in a trial: 12820\n",
      "    Stimulus_bigSsmallHtaskL: 44 valid trials out of 44\n",
      "  Loading condition: Stimulus_bigSsmallStaskG with parameters: {'BIDS_events': ['Stimulus/BigLetters/SmallLetters/Taskg'], 'bigLetter': 's', 'smallLetter': 's', 'task': 'g'}\n",
      "Not setting metadata\n",
      "53 matching events found\n",
      "No baseline correction applied\n"
     ]
    },
    {
     "name": "stderr",
     "output_type": "stream",
     "text": [
      "c:\\Users\\jz421\\Desktop\\GlobalLocal\\src\\analysis\\utils\\general_utils.py:424: RuntimeWarning: Concatenation of Annotations within Epochs is not supported yet. All annotations will be dropped.\n",
      "  event_epochs = mne.concatenate_epochs(combined_epochs)\n"
     ]
    },
    {
     "name": "stdout",
     "output_type": "stream",
     "text": [
      "    Original shape: (53, 231, 641)\n",
      "    Trials with all NaN values: 0\n",
      "    Average NaN count per trial: 955.5\n",
      "    Max NaN count in a trial: 16666\n",
      "    Stimulus_bigSsmallStaskG: 53 valid trials out of 53\n",
      "  Loading condition: Stimulus_bigSsmallStaskL with parameters: {'BIDS_events': ['Stimulus/BigLetters/SmallLetters/Taskl'], 'bigLetter': 's', 'smallLetter': 's', 'task': 'l'}\n",
      "Not setting metadata\n",
      "52 matching events found\n",
      "No baseline correction applied\n"
     ]
    },
    {
     "name": "stderr",
     "output_type": "stream",
     "text": [
      "c:\\Users\\jz421\\Desktop\\GlobalLocal\\src\\analysis\\utils\\general_utils.py:424: RuntimeWarning: Concatenation of Annotations within Epochs is not supported yet. All annotations will be dropped.\n",
      "  event_epochs = mne.concatenate_epochs(combined_epochs)\n"
     ]
    },
    {
     "name": "stdout",
     "output_type": "stream",
     "text": [
      "    Original shape: (52, 231, 641)\n",
      "    Trials with all NaN values: 0\n",
      "    Average NaN count per trial: 776.6\n",
      "    Max NaN count in a trial: 10256\n",
      "    Stimulus_bigSsmallStaskL: 52 valid trials out of 52\n",
      "  Loading condition: Stimulus_bigHsmallHtaskG with parameters: {'BIDS_events': ['Stimulus/BigLetterh/SmallLetterh/Taskg'], 'bigLetter': 'h', 'smallLetter': 'h', 'task': 'g'}\n",
      "Not setting metadata\n",
      "51 matching events found\n",
      "No baseline correction applied\n"
     ]
    },
    {
     "name": "stderr",
     "output_type": "stream",
     "text": [
      "c:\\Users\\jz421\\Desktop\\GlobalLocal\\src\\analysis\\utils\\general_utils.py:424: RuntimeWarning: Concatenation of Annotations within Epochs is not supported yet. All annotations will be dropped.\n",
      "  event_epochs = mne.concatenate_epochs(combined_epochs)\n"
     ]
    },
    {
     "name": "stdout",
     "output_type": "stream",
     "text": [
      "    Original shape: (51, 231, 641)\n",
      "    Trials with all NaN values: 0\n",
      "    Average NaN count per trial: 842.1\n",
      "    Max NaN count in a trial: 12179\n",
      "    Stimulus_bigHsmallHtaskG: 51 valid trials out of 51\n",
      "  Loading condition: Stimulus_bigHsmallHtaskL with parameters: {'BIDS_events': ['Stimulus/BigLetterh/SmallLetterh/Taskl'], 'bigLetter': 'h', 'smallLetter': 'h', 'task': 'l'}\n",
      "Not setting metadata\n",
      "53 matching events found\n",
      "No baseline correction applied\n"
     ]
    },
    {
     "name": "stderr",
     "output_type": "stream",
     "text": [
      "c:\\Users\\jz421\\Desktop\\GlobalLocal\\src\\analysis\\utils\\general_utils.py:424: RuntimeWarning: Concatenation of Annotations within Epochs is not supported yet. All annotations will be dropped.\n",
      "  event_epochs = mne.concatenate_epochs(combined_epochs)\n"
     ]
    },
    {
     "name": "stdout",
     "output_type": "stream",
     "text": [
      "    Original shape: (53, 231, 641)\n",
      "    Trials with all NaN values: 0\n",
      "    Average NaN count per trial: 483.8\n",
      "    Max NaN count in a trial: 5128\n",
      "    Stimulus_bigHsmallHtaskL: 53 valid trials out of 53\n",
      "  Loading condition: Stimulus_bigHsmallStaskG with parameters: {'BIDS_events': ['Stimulus/BigLetterh/SmallLetters/Taskg'], 'bigLetter': 'h', 'smallLetter': 's', 'task': 'g'}\n",
      "Not setting metadata\n",
      "45 matching events found\n",
      "No baseline correction applied\n"
     ]
    },
    {
     "name": "stderr",
     "output_type": "stream",
     "text": [
      "c:\\Users\\jz421\\Desktop\\GlobalLocal\\src\\analysis\\utils\\general_utils.py:424: RuntimeWarning: Concatenation of Annotations within Epochs is not supported yet. All annotations will be dropped.\n",
      "  event_epochs = mne.concatenate_epochs(combined_epochs)\n"
     ]
    },
    {
     "name": "stdout",
     "output_type": "stream",
     "text": [
      "    Original shape: (45, 231, 641)\n",
      "    Trials with all NaN values: 0\n",
      "    Average NaN count per trial: 840.4\n",
      "    Max NaN count in a trial: 10897\n",
      "    Stimulus_bigHsmallStaskG: 45 valid trials out of 45\n",
      "  Loading condition: Stimulus_bigHsmallStaskL with parameters: {'BIDS_events': ['Stimulus/BigLetterh/SmallLetters/Taskl'], 'bigLetter': 'h', 'smallLetter': 's', 'task': 'l'}\n",
      "Not setting metadata\n",
      "38 matching events found\n",
      "No baseline correction applied\n"
     ]
    },
    {
     "name": "stderr",
     "output_type": "stream",
     "text": [
      "c:\\Users\\jz421\\Desktop\\GlobalLocal\\src\\analysis\\utils\\general_utils.py:424: RuntimeWarning: Concatenation of Annotations within Epochs is not supported yet. All annotations will be dropped.\n",
      "  event_epochs = mne.concatenate_epochs(combined_epochs)\n"
     ]
    },
    {
     "name": "stdout",
     "output_type": "stream",
     "text": [
      "    Original shape: (38, 231, 641)\n",
      "    Trials with all NaN values: 0\n",
      "    Average NaN count per trial: 522.9\n",
      "    Max NaN count in a trial: 10897\n",
      "    Stimulus_bigHsmallStaskL: 38 valid trials out of 38\n",
      "  Loading condition: Stimulus_bigSsmallHtaskG with parameters: {'BIDS_events': ['Stimulus/BigLetters/SmallLetterh/Taskg'], 'bigLetter': 's', 'smallLetter': 'h', 'task': 'g'}\n",
      "Not setting metadata\n",
      "42 matching events found\n",
      "No baseline correction applied\n"
     ]
    },
    {
     "name": "stderr",
     "output_type": "stream",
     "text": [
      "c:\\Users\\jz421\\Desktop\\GlobalLocal\\src\\analysis\\utils\\general_utils.py:424: RuntimeWarning: Concatenation of Annotations within Epochs is not supported yet. All annotations will be dropped.\n",
      "  event_epochs = mne.concatenate_epochs(combined_epochs)\n"
     ]
    },
    {
     "name": "stdout",
     "output_type": "stream",
     "text": [
      "    Original shape: (42, 231, 641)\n",
      "    Trials with all NaN values: 0\n",
      "    Average NaN count per trial: 183.1\n",
      "    Max NaN count in a trial: 3205\n",
      "    Stimulus_bigSsmallHtaskG: 42 valid trials out of 42\n",
      "  Loading condition: Stimulus_bigSsmallHtaskL with parameters: {'BIDS_events': ['Stimulus/BigLetters/SmallLetterh/Taskl'], 'bigLetter': 's', 'smallLetter': 'h', 'task': 'l'}\n",
      "Not setting metadata\n",
      "44 matching events found\n",
      "No baseline correction applied\n"
     ]
    },
    {
     "name": "stderr",
     "output_type": "stream",
     "text": [
      "c:\\Users\\jz421\\Desktop\\GlobalLocal\\src\\analysis\\utils\\general_utils.py:424: RuntimeWarning: Concatenation of Annotations within Epochs is not supported yet. All annotations will be dropped.\n",
      "  event_epochs = mne.concatenate_epochs(combined_epochs)\n"
     ]
    },
    {
     "name": "stdout",
     "output_type": "stream",
     "text": [
      "    Original shape: (44, 231, 641)\n",
      "    Trials with all NaN values: 0\n",
      "    Average NaN count per trial: 728.4\n",
      "    Max NaN count in a trial: 12820\n",
      "    Stimulus_bigSsmallHtaskL: 44 valid trials out of 44\n",
      "  Loading condition: Stimulus_bigSsmallStaskG with parameters: {'BIDS_events': ['Stimulus/BigLetters/SmallLetters/Taskg'], 'bigLetter': 's', 'smallLetter': 's', 'task': 'g'}\n",
      "Not setting metadata\n",
      "53 matching events found\n",
      "No baseline correction applied\n"
     ]
    },
    {
     "name": "stderr",
     "output_type": "stream",
     "text": [
      "c:\\Users\\jz421\\Desktop\\GlobalLocal\\src\\analysis\\utils\\general_utils.py:424: RuntimeWarning: Concatenation of Annotations within Epochs is not supported yet. All annotations will be dropped.\n",
      "  event_epochs = mne.concatenate_epochs(combined_epochs)\n"
     ]
    },
    {
     "name": "stdout",
     "output_type": "stream",
     "text": [
      "    Original shape: (53, 231, 641)\n",
      "    Trials with all NaN values: 0\n",
      "    Average NaN count per trial: 955.5\n",
      "    Max NaN count in a trial: 16666\n",
      "    Stimulus_bigSsmallStaskG: 53 valid trials out of 53\n",
      "  Loading condition: Stimulus_bigSsmallStaskL with parameters: {'BIDS_events': ['Stimulus/BigLetters/SmallLetters/Taskl'], 'bigLetter': 's', 'smallLetter': 's', 'task': 'l'}\n",
      "Not setting metadata\n",
      "52 matching events found\n",
      "No baseline correction applied\n"
     ]
    },
    {
     "name": "stderr",
     "output_type": "stream",
     "text": [
      "c:\\Users\\jz421\\Desktop\\GlobalLocal\\src\\analysis\\utils\\general_utils.py:424: RuntimeWarning: Concatenation of Annotations within Epochs is not supported yet. All annotations will be dropped.\n",
      "  event_epochs = mne.concatenate_epochs(combined_epochs)\n"
     ]
    },
    {
     "name": "stdout",
     "output_type": "stream",
     "text": [
      "    Original shape: (52, 231, 641)\n",
      "    Trials with all NaN values: 0\n",
      "    Average NaN count per trial: 776.6\n",
      "    Max NaN count in a trial: 10256\n",
      "    Stimulus_bigSsmallStaskL: 52 valid trials out of 52\n",
      "  Loading condition: Stimulus_bigHsmallHtaskG with parameters: {'BIDS_events': ['Stimulus/BigLetterh/SmallLetterh/Taskg'], 'bigLetter': 'h', 'smallLetter': 'h', 'task': 'g'}\n",
      "Not setting metadata\n",
      "51 matching events found\n",
      "No baseline correction applied\n"
     ]
    },
    {
     "name": "stderr",
     "output_type": "stream",
     "text": [
      "c:\\Users\\jz421\\Desktop\\GlobalLocal\\src\\analysis\\utils\\general_utils.py:424: RuntimeWarning: Concatenation of Annotations within Epochs is not supported yet. All annotations will be dropped.\n",
      "  event_epochs = mne.concatenate_epochs(combined_epochs)\n"
     ]
    },
    {
     "name": "stdout",
     "output_type": "stream",
     "text": [
      "    Original shape: (51, 231, 641)\n",
      "    Trials with all NaN values: 0\n",
      "    Average NaN count per trial: 842.1\n",
      "    Max NaN count in a trial: 12179\n",
      "    Stimulus_bigHsmallHtaskG: 51 valid trials out of 51\n",
      "  Loading condition: Stimulus_bigHsmallHtaskL with parameters: {'BIDS_events': ['Stimulus/BigLetterh/SmallLetterh/Taskl'], 'bigLetter': 'h', 'smallLetter': 'h', 'task': 'l'}\n",
      "Not setting metadata\n",
      "53 matching events found\n",
      "No baseline correction applied\n"
     ]
    },
    {
     "name": "stderr",
     "output_type": "stream",
     "text": [
      "c:\\Users\\jz421\\Desktop\\GlobalLocal\\src\\analysis\\utils\\general_utils.py:424: RuntimeWarning: Concatenation of Annotations within Epochs is not supported yet. All annotations will be dropped.\n",
      "  event_epochs = mne.concatenate_epochs(combined_epochs)\n"
     ]
    },
    {
     "name": "stdout",
     "output_type": "stream",
     "text": [
      "    Original shape: (53, 231, 641)\n",
      "    Trials with all NaN values: 0\n",
      "    Average NaN count per trial: 483.8\n",
      "    Max NaN count in a trial: 5128\n",
      "    Stimulus_bigHsmallHtaskL: 53 valid trials out of 53\n",
      "  Loading condition: Stimulus_bigHsmallStaskG with parameters: {'BIDS_events': ['Stimulus/BigLetterh/SmallLetters/Taskg'], 'bigLetter': 'h', 'smallLetter': 's', 'task': 'g'}\n",
      "Not setting metadata\n",
      "45 matching events found\n",
      "No baseline correction applied\n"
     ]
    },
    {
     "name": "stderr",
     "output_type": "stream",
     "text": [
      "c:\\Users\\jz421\\Desktop\\GlobalLocal\\src\\analysis\\utils\\general_utils.py:424: RuntimeWarning: Concatenation of Annotations within Epochs is not supported yet. All annotations will be dropped.\n",
      "  event_epochs = mne.concatenate_epochs(combined_epochs)\n"
     ]
    },
    {
     "name": "stdout",
     "output_type": "stream",
     "text": [
      "    Original shape: (45, 231, 641)\n",
      "    Trials with all NaN values: 0\n",
      "    Average NaN count per trial: 840.4\n",
      "    Max NaN count in a trial: 10897\n",
      "    Stimulus_bigHsmallStaskG: 45 valid trials out of 45\n",
      "  Loading condition: Stimulus_bigHsmallStaskL with parameters: {'BIDS_events': ['Stimulus/BigLetterh/SmallLetters/Taskl'], 'bigLetter': 'h', 'smallLetter': 's', 'task': 'l'}\n",
      "Not setting metadata\n",
      "38 matching events found\n",
      "No baseline correction applied\n"
     ]
    },
    {
     "name": "stderr",
     "output_type": "stream",
     "text": [
      "c:\\Users\\jz421\\Desktop\\GlobalLocal\\src\\analysis\\utils\\general_utils.py:424: RuntimeWarning: Concatenation of Annotations within Epochs is not supported yet. All annotations will be dropped.\n",
      "  event_epochs = mne.concatenate_epochs(combined_epochs)\n"
     ]
    },
    {
     "name": "stdout",
     "output_type": "stream",
     "text": [
      "    Original shape: (38, 231, 641)\n",
      "    Trials with all NaN values: 0\n",
      "    Average NaN count per trial: 522.9\n",
      "    Max NaN count in a trial: 10897\n",
      "    Stimulus_bigHsmallStaskL: 38 valid trials out of 38\n",
      "Loading data for subject: D0100\n",
      "Reading C:\\Users\\jz421\\Box\\CoganLab\\BIDS-1.1_GlobalLocal\\BIDS\\derivatives\\freqFilt\\figs\\D0100\\D0100_Stimulus_0.5sec_within1sec_randoffset_preStimulusBase_decFactor_8_outliers_10_passband_70.0-150.0_padLength_0.5s_stat_func_ttest_ind_equal_var_False_HG_ev1_rescaled-epo.fif ...\n",
      "    Found the data of interest:\n",
      "        t =   -1000.00 ...    1500.00 ms\n",
      "        0 CTF compensation matrices available\n",
      "Not setting metadata\n",
      "451 matching events found\n",
      "No baseline correction applied\n",
      "0 projection items activated\n",
      "Reading C:\\Users\\jz421\\Box\\CoganLab\\BIDS-1.1_GlobalLocal\\BIDS\\derivatives\\freqFilt\\figs\\D0100\\D0100_Stimulus_0.5sec_within1sec_randoffset_preStimulusBase_decFactor_8_outliers_10_passband_70.0-150.0_padLength_0.5s_stat_func_ttest_ind_equal_var_False_HG_ev1_power_rescaled-epo.fif ...\n",
      "    Found the data of interest:\n",
      "        t =   -1000.00 ...    1500.00 ms\n",
      "        0 CTF compensation matrices available\n",
      "Not setting metadata\n",
      "451 matching events found\n",
      "No baseline correction applied\n",
      "0 projection items activated\n",
      "  Loading condition: Stimulus_bigSsmallHtaskG with parameters: {'BIDS_events': ['Stimulus/BigLetters/SmallLetterh/Taskg'], 'bigLetter': 's', 'smallLetter': 'h', 'task': 'g'}\n",
      "Not setting metadata\n",
      "54 matching events found\n",
      "No baseline correction applied\n"
     ]
    },
    {
     "name": "stderr",
     "output_type": "stream",
     "text": [
      "c:\\Users\\jz421\\Desktop\\GlobalLocal\\src\\analysis\\utils\\general_utils.py:424: RuntimeWarning: Concatenation of Annotations within Epochs is not supported yet. All annotations will be dropped.\n",
      "  event_epochs = mne.concatenate_epochs(combined_epochs)\n"
     ]
    },
    {
     "name": "stdout",
     "output_type": "stream",
     "text": [
      "    Original shape: (54, 224, 641)\n",
      "    Trials with all NaN values: 0\n",
      "    Average NaN count per trial: 1258.3\n",
      "    Max NaN count in a trial: 26922\n",
      "    Stimulus_bigSsmallHtaskG: 54 valid trials out of 54\n",
      "  Loading condition: Stimulus_bigSsmallHtaskL with parameters: {'BIDS_events': ['Stimulus/BigLetters/SmallLetterh/Taskl'], 'bigLetter': 's', 'smallLetter': 'h', 'task': 'l'}\n",
      "Not setting metadata\n",
      "48 matching events found\n",
      "No baseline correction applied\n"
     ]
    },
    {
     "name": "stderr",
     "output_type": "stream",
     "text": [
      "c:\\Users\\jz421\\Desktop\\GlobalLocal\\src\\analysis\\utils\\general_utils.py:424: RuntimeWarning: Concatenation of Annotations within Epochs is not supported yet. All annotations will be dropped.\n",
      "  event_epochs = mne.concatenate_epochs(combined_epochs)\n"
     ]
    },
    {
     "name": "stdout",
     "output_type": "stream",
     "text": [
      "    Original shape: (48, 224, 641)\n",
      "    Trials with all NaN values: 0\n",
      "    Average NaN count per trial: 868.0\n",
      "    Max NaN count in a trial: 12179\n",
      "    Stimulus_bigSsmallHtaskL: 48 valid trials out of 48\n",
      "  Loading condition: Stimulus_bigSsmallStaskG with parameters: {'BIDS_events': ['Stimulus/BigLetters/SmallLetters/Taskg'], 'bigLetter': 's', 'smallLetter': 's', 'task': 'g'}\n",
      "Not setting metadata\n",
      "54 matching events found\n",
      "No baseline correction applied\n"
     ]
    },
    {
     "name": "stderr",
     "output_type": "stream",
     "text": [
      "c:\\Users\\jz421\\Desktop\\GlobalLocal\\src\\analysis\\utils\\general_utils.py:424: RuntimeWarning: Concatenation of Annotations within Epochs is not supported yet. All annotations will be dropped.\n",
      "  event_epochs = mne.concatenate_epochs(combined_epochs)\n"
     ]
    },
    {
     "name": "stdout",
     "output_type": "stream",
     "text": [
      "    Original shape: (54, 224, 641)\n",
      "    Trials with all NaN values: 0\n",
      "    Average NaN count per trial: 961.5\n",
      "    Max NaN count in a trial: 9615\n",
      "    Stimulus_bigSsmallStaskG: 54 valid trials out of 54\n",
      "  Loading condition: Stimulus_bigSsmallStaskL with parameters: {'BIDS_events': ['Stimulus/BigLetters/SmallLetters/Taskl'], 'bigLetter': 's', 'smallLetter': 's', 'task': 'l'}\n",
      "Not setting metadata\n",
      "52 matching events found\n",
      "No baseline correction applied\n"
     ]
    },
    {
     "name": "stderr",
     "output_type": "stream",
     "text": [
      "c:\\Users\\jz421\\Desktop\\GlobalLocal\\src\\analysis\\utils\\general_utils.py:424: RuntimeWarning: Concatenation of Annotations within Epochs is not supported yet. All annotations will be dropped.\n",
      "  event_epochs = mne.concatenate_epochs(combined_epochs)\n"
     ]
    },
    {
     "name": "stdout",
     "output_type": "stream",
     "text": [
      "    Original shape: (52, 224, 641)\n",
      "    Trials with all NaN values: 0\n",
      "    Average NaN count per trial: 961.5\n",
      "    Max NaN count in a trial: 12820\n",
      "    Stimulus_bigSsmallStaskL: 52 valid trials out of 52\n",
      "  Loading condition: Stimulus_bigHsmallHtaskG with parameters: {'BIDS_events': ['Stimulus/BigLetterh/SmallLetterh/Taskg'], 'bigLetter': 'h', 'smallLetter': 'h', 'task': 'g'}\n",
      "Not setting metadata\n",
      "52 matching events found\n",
      "No baseline correction applied\n"
     ]
    },
    {
     "name": "stderr",
     "output_type": "stream",
     "text": [
      "c:\\Users\\jz421\\Desktop\\GlobalLocal\\src\\analysis\\utils\\general_utils.py:424: RuntimeWarning: Concatenation of Annotations within Epochs is not supported yet. All annotations will be dropped.\n",
      "  event_epochs = mne.concatenate_epochs(combined_epochs)\n"
     ]
    },
    {
     "name": "stdout",
     "output_type": "stream",
     "text": [
      "    Original shape: (52, 224, 641)\n",
      "    Trials with all NaN values: 0\n",
      "    Average NaN count per trial: 1466.9\n",
      "    Max NaN count in a trial: 46152\n",
      "    Stimulus_bigHsmallHtaskG: 52 valid trials out of 52\n",
      "  Loading condition: Stimulus_bigHsmallHtaskL with parameters: {'BIDS_events': ['Stimulus/BigLetterh/SmallLetterh/Taskl'], 'bigLetter': 'h', 'smallLetter': 'h', 'task': 'l'}\n",
      "Not setting metadata\n",
      "59 matching events found\n",
      "No baseline correction applied\n"
     ]
    },
    {
     "name": "stderr",
     "output_type": "stream",
     "text": [
      "c:\\Users\\jz421\\Desktop\\GlobalLocal\\src\\analysis\\utils\\general_utils.py:424: RuntimeWarning: Concatenation of Annotations within Epochs is not supported yet. All annotations will be dropped.\n",
      "  event_epochs = mne.concatenate_epochs(combined_epochs)\n"
     ]
    },
    {
     "name": "stdout",
     "output_type": "stream",
     "text": [
      "    Original shape: (59, 224, 641)\n",
      "    Trials with all NaN values: 0\n",
      "    Average NaN count per trial: 3096.4\n",
      "    Max NaN count in a trial: 56408\n",
      "    Stimulus_bigHsmallHtaskL: 59 valid trials out of 59\n",
      "  Loading condition: Stimulus_bigHsmallStaskG with parameters: {'BIDS_events': ['Stimulus/BigLetterh/SmallLetters/Taskg'], 'bigLetter': 'h', 'smallLetter': 's', 'task': 'g'}\n",
      "Not setting metadata\n",
      "50 matching events found\n",
      "No baseline correction applied\n"
     ]
    },
    {
     "name": "stderr",
     "output_type": "stream",
     "text": [
      "c:\\Users\\jz421\\Desktop\\GlobalLocal\\src\\analysis\\utils\\general_utils.py:424: RuntimeWarning: Concatenation of Annotations within Epochs is not supported yet. All annotations will be dropped.\n",
      "  event_epochs = mne.concatenate_epochs(combined_epochs)\n"
     ]
    },
    {
     "name": "stdout",
     "output_type": "stream",
     "text": [
      "    Original shape: (50, 224, 641)\n",
      "    Trials with all NaN values: 0\n",
      "    Average NaN count per trial: 1141.0\n",
      "    Max NaN count in a trial: 14102\n",
      "    Stimulus_bigHsmallStaskG: 50 valid trials out of 50\n",
      "  Loading condition: Stimulus_bigHsmallStaskL with parameters: {'BIDS_events': ['Stimulus/BigLetterh/SmallLetters/Taskl'], 'bigLetter': 'h', 'smallLetter': 's', 'task': 'l'}\n",
      "Not setting metadata\n",
      "52 matching events found\n",
      "No baseline correction applied\n"
     ]
    },
    {
     "name": "stderr",
     "output_type": "stream",
     "text": [
      "c:\\Users\\jz421\\Desktop\\GlobalLocal\\src\\analysis\\utils\\general_utils.py:424: RuntimeWarning: Concatenation of Annotations within Epochs is not supported yet. All annotations will be dropped.\n",
      "  event_epochs = mne.concatenate_epochs(combined_epochs)\n"
     ]
    },
    {
     "name": "stdout",
     "output_type": "stream",
     "text": [
      "    Original shape: (52, 224, 641)\n",
      "    Trials with all NaN values: 0\n",
      "    Average NaN count per trial: 591.7\n",
      "    Max NaN count in a trial: 14743\n",
      "    Stimulus_bigHsmallStaskL: 52 valid trials out of 52\n",
      "  Loading condition: Stimulus_bigSsmallHtaskG with parameters: {'BIDS_events': ['Stimulus/BigLetters/SmallLetterh/Taskg'], 'bigLetter': 's', 'smallLetter': 'h', 'task': 'g'}\n",
      "Not setting metadata\n",
      "54 matching events found\n",
      "No baseline correction applied\n"
     ]
    },
    {
     "name": "stderr",
     "output_type": "stream",
     "text": [
      "c:\\Users\\jz421\\Desktop\\GlobalLocal\\src\\analysis\\utils\\general_utils.py:424: RuntimeWarning: Concatenation of Annotations within Epochs is not supported yet. All annotations will be dropped.\n",
      "  event_epochs = mne.concatenate_epochs(combined_epochs)\n"
     ]
    },
    {
     "name": "stdout",
     "output_type": "stream",
     "text": [
      "    Original shape: (54, 224, 641)\n",
      "    Trials with all NaN values: 0\n",
      "    Average NaN count per trial: 1258.3\n",
      "    Max NaN count in a trial: 26922\n",
      "    Stimulus_bigSsmallHtaskG: 54 valid trials out of 54\n",
      "  Loading condition: Stimulus_bigSsmallHtaskL with parameters: {'BIDS_events': ['Stimulus/BigLetters/SmallLetterh/Taskl'], 'bigLetter': 's', 'smallLetter': 'h', 'task': 'l'}\n",
      "Not setting metadata\n",
      "48 matching events found\n",
      "No baseline correction applied\n"
     ]
    },
    {
     "name": "stderr",
     "output_type": "stream",
     "text": [
      "c:\\Users\\jz421\\Desktop\\GlobalLocal\\src\\analysis\\utils\\general_utils.py:424: RuntimeWarning: Concatenation of Annotations within Epochs is not supported yet. All annotations will be dropped.\n",
      "  event_epochs = mne.concatenate_epochs(combined_epochs)\n"
     ]
    },
    {
     "name": "stdout",
     "output_type": "stream",
     "text": [
      "    Original shape: (48, 224, 641)\n",
      "    Trials with all NaN values: 0\n",
      "    Average NaN count per trial: 868.0\n",
      "    Max NaN count in a trial: 12179\n",
      "    Stimulus_bigSsmallHtaskL: 48 valid trials out of 48\n",
      "  Loading condition: Stimulus_bigSsmallStaskG with parameters: {'BIDS_events': ['Stimulus/BigLetters/SmallLetters/Taskg'], 'bigLetter': 's', 'smallLetter': 's', 'task': 'g'}\n",
      "Not setting metadata\n",
      "54 matching events found\n",
      "No baseline correction applied\n"
     ]
    },
    {
     "name": "stderr",
     "output_type": "stream",
     "text": [
      "c:\\Users\\jz421\\Desktop\\GlobalLocal\\src\\analysis\\utils\\general_utils.py:424: RuntimeWarning: Concatenation of Annotations within Epochs is not supported yet. All annotations will be dropped.\n",
      "  event_epochs = mne.concatenate_epochs(combined_epochs)\n"
     ]
    },
    {
     "name": "stdout",
     "output_type": "stream",
     "text": [
      "    Original shape: (54, 224, 641)\n",
      "    Trials with all NaN values: 0\n",
      "    Average NaN count per trial: 961.5\n",
      "    Max NaN count in a trial: 9615\n",
      "    Stimulus_bigSsmallStaskG: 54 valid trials out of 54\n",
      "  Loading condition: Stimulus_bigSsmallStaskL with parameters: {'BIDS_events': ['Stimulus/BigLetters/SmallLetters/Taskl'], 'bigLetter': 's', 'smallLetter': 's', 'task': 'l'}\n",
      "Not setting metadata\n",
      "52 matching events found\n",
      "No baseline correction applied\n"
     ]
    },
    {
     "name": "stderr",
     "output_type": "stream",
     "text": [
      "c:\\Users\\jz421\\Desktop\\GlobalLocal\\src\\analysis\\utils\\general_utils.py:424: RuntimeWarning: Concatenation of Annotations within Epochs is not supported yet. All annotations will be dropped.\n",
      "  event_epochs = mne.concatenate_epochs(combined_epochs)\n"
     ]
    },
    {
     "name": "stdout",
     "output_type": "stream",
     "text": [
      "    Original shape: (52, 224, 641)\n",
      "    Trials with all NaN values: 0\n",
      "    Average NaN count per trial: 961.5\n",
      "    Max NaN count in a trial: 12820\n",
      "    Stimulus_bigSsmallStaskL: 52 valid trials out of 52\n",
      "  Loading condition: Stimulus_bigHsmallHtaskG with parameters: {'BIDS_events': ['Stimulus/BigLetterh/SmallLetterh/Taskg'], 'bigLetter': 'h', 'smallLetter': 'h', 'task': 'g'}\n",
      "Not setting metadata\n",
      "52 matching events found\n",
      "No baseline correction applied\n"
     ]
    },
    {
     "name": "stderr",
     "output_type": "stream",
     "text": [
      "c:\\Users\\jz421\\Desktop\\GlobalLocal\\src\\analysis\\utils\\general_utils.py:424: RuntimeWarning: Concatenation of Annotations within Epochs is not supported yet. All annotations will be dropped.\n",
      "  event_epochs = mne.concatenate_epochs(combined_epochs)\n"
     ]
    },
    {
     "name": "stdout",
     "output_type": "stream",
     "text": [
      "    Original shape: (52, 224, 641)\n",
      "    Trials with all NaN values: 0\n",
      "    Average NaN count per trial: 1466.9\n",
      "    Max NaN count in a trial: 46152\n",
      "    Stimulus_bigHsmallHtaskG: 52 valid trials out of 52\n",
      "  Loading condition: Stimulus_bigHsmallHtaskL with parameters: {'BIDS_events': ['Stimulus/BigLetterh/SmallLetterh/Taskl'], 'bigLetter': 'h', 'smallLetter': 'h', 'task': 'l'}\n",
      "Not setting metadata\n",
      "59 matching events found\n",
      "No baseline correction applied\n"
     ]
    },
    {
     "name": "stderr",
     "output_type": "stream",
     "text": [
      "c:\\Users\\jz421\\Desktop\\GlobalLocal\\src\\analysis\\utils\\general_utils.py:424: RuntimeWarning: Concatenation of Annotations within Epochs is not supported yet. All annotations will be dropped.\n",
      "  event_epochs = mne.concatenate_epochs(combined_epochs)\n"
     ]
    },
    {
     "name": "stdout",
     "output_type": "stream",
     "text": [
      "    Original shape: (59, 224, 641)\n",
      "    Trials with all NaN values: 0\n",
      "    Average NaN count per trial: 3096.4\n",
      "    Max NaN count in a trial: 56408\n",
      "    Stimulus_bigHsmallHtaskL: 59 valid trials out of 59\n",
      "  Loading condition: Stimulus_bigHsmallStaskG with parameters: {'BIDS_events': ['Stimulus/BigLetterh/SmallLetters/Taskg'], 'bigLetter': 'h', 'smallLetter': 's', 'task': 'g'}\n",
      "Not setting metadata\n",
      "50 matching events found\n",
      "No baseline correction applied\n"
     ]
    },
    {
     "name": "stderr",
     "output_type": "stream",
     "text": [
      "c:\\Users\\jz421\\Desktop\\GlobalLocal\\src\\analysis\\utils\\general_utils.py:424: RuntimeWarning: Concatenation of Annotations within Epochs is not supported yet. All annotations will be dropped.\n",
      "  event_epochs = mne.concatenate_epochs(combined_epochs)\n"
     ]
    },
    {
     "name": "stdout",
     "output_type": "stream",
     "text": [
      "    Original shape: (50, 224, 641)\n",
      "    Trials with all NaN values: 0\n",
      "    Average NaN count per trial: 1141.0\n",
      "    Max NaN count in a trial: 14102\n",
      "    Stimulus_bigHsmallStaskG: 50 valid trials out of 50\n",
      "  Loading condition: Stimulus_bigHsmallStaskL with parameters: {'BIDS_events': ['Stimulus/BigLetterh/SmallLetters/Taskl'], 'bigLetter': 'h', 'smallLetter': 's', 'task': 'l'}\n",
      "Not setting metadata\n",
      "52 matching events found\n",
      "No baseline correction applied\n"
     ]
    },
    {
     "name": "stderr",
     "output_type": "stream",
     "text": [
      "c:\\Users\\jz421\\Desktop\\GlobalLocal\\src\\analysis\\utils\\general_utils.py:424: RuntimeWarning: Concatenation of Annotations within Epochs is not supported yet. All annotations will be dropped.\n",
      "  event_epochs = mne.concatenate_epochs(combined_epochs)\n"
     ]
    },
    {
     "name": "stdout",
     "output_type": "stream",
     "text": [
      "    Original shape: (52, 224, 641)\n",
      "    Trials with all NaN values: 0\n",
      "    Average NaN count per trial: 591.7\n",
      "    Max NaN count in a trial: 14743\n",
      "    Stimulus_bigHsmallStaskL: 52 valid trials out of 52\n",
      "Loading data for subject: D0102\n",
      "Reading C:\\Users\\jz421\\Box\\CoganLab\\BIDS-1.1_GlobalLocal\\BIDS\\derivatives\\freqFilt\\figs\\D0102\\D0102_Stimulus_0.5sec_within1sec_randoffset_preStimulusBase_decFactor_8_outliers_10_passband_70.0-150.0_padLength_0.5s_stat_func_ttest_ind_equal_var_False_HG_ev1_rescaled-epo.fif ...\n",
      "    Found the data of interest:\n",
      "        t =   -1000.00 ...    1500.00 ms\n",
      "        0 CTF compensation matrices available\n",
      "Not setting metadata\n",
      "448 matching events found\n",
      "No baseline correction applied\n",
      "0 projection items activated\n",
      "Reading C:\\Users\\jz421\\Box\\CoganLab\\BIDS-1.1_GlobalLocal\\BIDS\\derivatives\\freqFilt\\figs\\D0102\\D0102_Stimulus_0.5sec_within1sec_randoffset_preStimulusBase_decFactor_8_outliers_10_passband_70.0-150.0_padLength_0.5s_stat_func_ttest_ind_equal_var_False_HG_ev1_power_rescaled-epo.fif ...\n",
      "    Found the data of interest:\n",
      "        t =   -1000.00 ...    1500.00 ms\n",
      "        0 CTF compensation matrices available\n",
      "Not setting metadata\n",
      "448 matching events found\n",
      "No baseline correction applied\n",
      "0 projection items activated\n",
      "  Loading condition: Stimulus_bigSsmallHtaskG with parameters: {'BIDS_events': ['Stimulus/BigLetters/SmallLetterh/Taskg'], 'bigLetter': 's', 'smallLetter': 'h', 'task': 'g'}\n",
      "Not setting metadata\n",
      "39 matching events found\n",
      "No baseline correction applied\n"
     ]
    },
    {
     "name": "stderr",
     "output_type": "stream",
     "text": [
      "c:\\Users\\jz421\\Desktop\\GlobalLocal\\src\\analysis\\utils\\general_utils.py:424: RuntimeWarning: Concatenation of Annotations within Epochs is not supported yet. All annotations will be dropped.\n",
      "  event_epochs = mne.concatenate_epochs(combined_epochs)\n"
     ]
    },
    {
     "name": "stdout",
     "output_type": "stream",
     "text": [
      "    Original shape: (39, 219, 641)\n",
      "    Trials with all NaN values: 0\n",
      "    Average NaN count per trial: 673.9\n",
      "    Max NaN count in a trial: 5769\n",
      "    Stimulus_bigSsmallHtaskG: 39 valid trials out of 39\n",
      "  Loading condition: Stimulus_bigSsmallHtaskL with parameters: {'BIDS_events': ['Stimulus/BigLetters/SmallLetterh/Taskl'], 'bigLetter': 's', 'smallLetter': 'h', 'task': 'l'}\n",
      "Not setting metadata\n",
      "13 matching events found\n",
      "No baseline correction applied\n"
     ]
    },
    {
     "name": "stderr",
     "output_type": "stream",
     "text": [
      "c:\\Users\\jz421\\Desktop\\GlobalLocal\\src\\analysis\\utils\\general_utils.py:424: RuntimeWarning: Concatenation of Annotations within Epochs is not supported yet. All annotations will be dropped.\n",
      "  event_epochs = mne.concatenate_epochs(combined_epochs)\n"
     ]
    },
    {
     "name": "stdout",
     "output_type": "stream",
     "text": [
      "    Original shape: (13, 219, 641)\n",
      "    Trials with all NaN values: 0\n",
      "    Average NaN count per trial: 295.8\n",
      "    Max NaN count in a trial: 1923\n",
      "    Stimulus_bigSsmallHtaskL: 13 valid trials out of 13\n",
      "  Loading condition: Stimulus_bigSsmallStaskG with parameters: {'BIDS_events': ['Stimulus/BigLetters/SmallLetters/Taskg'], 'bigLetter': 's', 'smallLetter': 's', 'task': 'g'}\n",
      "Not setting metadata\n",
      "47 matching events found\n",
      "No baseline correction applied\n"
     ]
    },
    {
     "name": "stderr",
     "output_type": "stream",
     "text": [
      "c:\\Users\\jz421\\Desktop\\GlobalLocal\\src\\analysis\\utils\\general_utils.py:424: RuntimeWarning: Concatenation of Annotations within Epochs is not supported yet. All annotations will be dropped.\n",
      "  event_epochs = mne.concatenate_epochs(combined_epochs)\n"
     ]
    },
    {
     "name": "stdout",
     "output_type": "stream",
     "text": [
      "    Original shape: (47, 219, 641)\n",
      "    Trials with all NaN values: 0\n",
      "    Average NaN count per trial: 1104.7\n",
      "    Max NaN count in a trial: 8333\n",
      "    Stimulus_bigSsmallStaskG: 47 valid trials out of 47\n",
      "  Loading condition: Stimulus_bigSsmallStaskL with parameters: {'BIDS_events': ['Stimulus/BigLetters/SmallLetters/Taskl'], 'bigLetter': 's', 'smallLetter': 's', 'task': 'l'}\n",
      "Not setting metadata\n",
      "50 matching events found\n",
      "No baseline correction applied\n"
     ]
    },
    {
     "name": "stderr",
     "output_type": "stream",
     "text": [
      "c:\\Users\\jz421\\Desktop\\GlobalLocal\\src\\analysis\\utils\\general_utils.py:424: RuntimeWarning: Concatenation of Annotations within Epochs is not supported yet. All annotations will be dropped.\n",
      "  event_epochs = mne.concatenate_epochs(combined_epochs)\n"
     ]
    },
    {
     "name": "stdout",
     "output_type": "stream",
     "text": [
      "    Original shape: (50, 219, 641)\n",
      "    Trials with all NaN values: 0\n",
      "    Average NaN count per trial: 602.5\n",
      "    Max NaN count in a trial: 5128\n",
      "    Stimulus_bigSsmallStaskL: 50 valid trials out of 50\n",
      "  Loading condition: Stimulus_bigHsmallHtaskG with parameters: {'BIDS_events': ['Stimulus/BigLetterh/SmallLetterh/Taskg'], 'bigLetter': 'h', 'smallLetter': 'h', 'task': 'g'}\n",
      "Not setting metadata\n",
      "49 matching events found\n",
      "No baseline correction applied\n"
     ]
    },
    {
     "name": "stderr",
     "output_type": "stream",
     "text": [
      "c:\\Users\\jz421\\Desktop\\GlobalLocal\\src\\analysis\\utils\\general_utils.py:424: RuntimeWarning: Concatenation of Annotations within Epochs is not supported yet. All annotations will be dropped.\n",
      "  event_epochs = mne.concatenate_epochs(combined_epochs)\n"
     ]
    },
    {
     "name": "stdout",
     "output_type": "stream",
     "text": [
      "    Original shape: (49, 219, 641)\n",
      "    Trials with all NaN values: 0\n",
      "    Average NaN count per trial: 366.3\n",
      "    Max NaN count in a trial: 3846\n",
      "    Stimulus_bigHsmallHtaskG: 49 valid trials out of 49\n",
      "  Loading condition: Stimulus_bigHsmallHtaskL with parameters: {'BIDS_events': ['Stimulus/BigLetterh/SmallLetterh/Taskl'], 'bigLetter': 'h', 'smallLetter': 'h', 'task': 'l'}\n",
      "Not setting metadata\n",
      "47 matching events found\n",
      "No baseline correction applied\n"
     ]
    },
    {
     "name": "stderr",
     "output_type": "stream",
     "text": [
      "c:\\Users\\jz421\\Desktop\\GlobalLocal\\src\\analysis\\utils\\general_utils.py:424: RuntimeWarning: Concatenation of Annotations within Epochs is not supported yet. All annotations will be dropped.\n",
      "  event_epochs = mne.concatenate_epochs(combined_epochs)\n"
     ]
    },
    {
     "name": "stdout",
     "output_type": "stream",
     "text": [
      "    Original shape: (47, 219, 641)\n",
      "    Trials with all NaN values: 0\n",
      "    Average NaN count per trial: 1868.4\n",
      "    Max NaN count in a trial: 25640\n",
      "    Stimulus_bigHsmallHtaskL: 47 valid trials out of 47\n",
      "  Loading condition: Stimulus_bigHsmallStaskG with parameters: {'BIDS_events': ['Stimulus/BigLetterh/SmallLetters/Taskg'], 'bigLetter': 'h', 'smallLetter': 's', 'task': 'g'}\n",
      "Not setting metadata\n",
      "42 matching events found\n",
      "No baseline correction applied\n"
     ]
    },
    {
     "name": "stderr",
     "output_type": "stream",
     "text": [
      "c:\\Users\\jz421\\Desktop\\GlobalLocal\\src\\analysis\\utils\\general_utils.py:424: RuntimeWarning: Concatenation of Annotations within Epochs is not supported yet. All annotations will be dropped.\n",
      "  event_epochs = mne.concatenate_epochs(combined_epochs)\n"
     ]
    },
    {
     "name": "stdout",
     "output_type": "stream",
     "text": [
      "    Original shape: (42, 219, 641)\n",
      "    Trials with all NaN values: 0\n",
      "    Average NaN count per trial: 656.3\n",
      "    Max NaN count in a trial: 8333\n",
      "    Stimulus_bigHsmallStaskG: 42 valid trials out of 42\n",
      "  Loading condition: Stimulus_bigHsmallStaskL with parameters: {'BIDS_events': ['Stimulus/BigLetterh/SmallLetters/Taskl'], 'bigLetter': 'h', 'smallLetter': 's', 'task': 'l'}\n",
      "Not setting metadata\n",
      "12 matching events found\n",
      "No baseline correction applied\n"
     ]
    },
    {
     "name": "stderr",
     "output_type": "stream",
     "text": [
      "c:\\Users\\jz421\\Desktop\\GlobalLocal\\src\\analysis\\utils\\general_utils.py:424: RuntimeWarning: Concatenation of Annotations within Epochs is not supported yet. All annotations will be dropped.\n",
      "  event_epochs = mne.concatenate_epochs(combined_epochs)\n"
     ]
    },
    {
     "name": "stdout",
     "output_type": "stream",
     "text": [
      "    Original shape: (12, 219, 641)\n",
      "    Trials with all NaN values: 0\n",
      "    Average NaN count per trial: 213.7\n",
      "    Max NaN count in a trial: 1923\n",
      "    Stimulus_bigHsmallStaskL: 12 valid trials out of 12\n",
      "  Loading condition: Stimulus_bigSsmallHtaskG with parameters: {'BIDS_events': ['Stimulus/BigLetters/SmallLetterh/Taskg'], 'bigLetter': 's', 'smallLetter': 'h', 'task': 'g'}\n",
      "Not setting metadata\n",
      "39 matching events found\n",
      "No baseline correction applied\n"
     ]
    },
    {
     "name": "stderr",
     "output_type": "stream",
     "text": [
      "c:\\Users\\jz421\\Desktop\\GlobalLocal\\src\\analysis\\utils\\general_utils.py:424: RuntimeWarning: Concatenation of Annotations within Epochs is not supported yet. All annotations will be dropped.\n",
      "  event_epochs = mne.concatenate_epochs(combined_epochs)\n"
     ]
    },
    {
     "name": "stdout",
     "output_type": "stream",
     "text": [
      "    Original shape: (39, 219, 641)\n",
      "    Trials with all NaN values: 0\n",
      "    Average NaN count per trial: 673.9\n",
      "    Max NaN count in a trial: 5769\n",
      "    Stimulus_bigSsmallHtaskG: 39 valid trials out of 39\n",
      "  Loading condition: Stimulus_bigSsmallHtaskL with parameters: {'BIDS_events': ['Stimulus/BigLetters/SmallLetterh/Taskl'], 'bigLetter': 's', 'smallLetter': 'h', 'task': 'l'}\n",
      "Not setting metadata\n",
      "13 matching events found\n",
      "No baseline correction applied\n"
     ]
    },
    {
     "name": "stderr",
     "output_type": "stream",
     "text": [
      "c:\\Users\\jz421\\Desktop\\GlobalLocal\\src\\analysis\\utils\\general_utils.py:424: RuntimeWarning: Concatenation of Annotations within Epochs is not supported yet. All annotations will be dropped.\n",
      "  event_epochs = mne.concatenate_epochs(combined_epochs)\n"
     ]
    },
    {
     "name": "stdout",
     "output_type": "stream",
     "text": [
      "    Original shape: (13, 219, 641)\n",
      "    Trials with all NaN values: 0\n",
      "    Average NaN count per trial: 295.8\n",
      "    Max NaN count in a trial: 1923\n",
      "    Stimulus_bigSsmallHtaskL: 13 valid trials out of 13\n",
      "  Loading condition: Stimulus_bigSsmallStaskG with parameters: {'BIDS_events': ['Stimulus/BigLetters/SmallLetters/Taskg'], 'bigLetter': 's', 'smallLetter': 's', 'task': 'g'}\n",
      "Not setting metadata\n",
      "47 matching events found\n",
      "No baseline correction applied\n"
     ]
    },
    {
     "name": "stderr",
     "output_type": "stream",
     "text": [
      "c:\\Users\\jz421\\Desktop\\GlobalLocal\\src\\analysis\\utils\\general_utils.py:424: RuntimeWarning: Concatenation of Annotations within Epochs is not supported yet. All annotations will be dropped.\n",
      "  event_epochs = mne.concatenate_epochs(combined_epochs)\n"
     ]
    },
    {
     "name": "stdout",
     "output_type": "stream",
     "text": [
      "    Original shape: (47, 219, 641)\n",
      "    Trials with all NaN values: 0\n",
      "    Average NaN count per trial: 1104.7\n",
      "    Max NaN count in a trial: 8333\n",
      "    Stimulus_bigSsmallStaskG: 47 valid trials out of 47\n",
      "  Loading condition: Stimulus_bigSsmallStaskL with parameters: {'BIDS_events': ['Stimulus/BigLetters/SmallLetters/Taskl'], 'bigLetter': 's', 'smallLetter': 's', 'task': 'l'}\n",
      "Not setting metadata\n",
      "50 matching events found\n",
      "No baseline correction applied\n"
     ]
    },
    {
     "name": "stderr",
     "output_type": "stream",
     "text": [
      "c:\\Users\\jz421\\Desktop\\GlobalLocal\\src\\analysis\\utils\\general_utils.py:424: RuntimeWarning: Concatenation of Annotations within Epochs is not supported yet. All annotations will be dropped.\n",
      "  event_epochs = mne.concatenate_epochs(combined_epochs)\n"
     ]
    },
    {
     "name": "stdout",
     "output_type": "stream",
     "text": [
      "    Original shape: (50, 219, 641)\n",
      "    Trials with all NaN values: 0\n",
      "    Average NaN count per trial: 602.5\n",
      "    Max NaN count in a trial: 5128\n",
      "    Stimulus_bigSsmallStaskL: 50 valid trials out of 50\n",
      "  Loading condition: Stimulus_bigHsmallHtaskG with parameters: {'BIDS_events': ['Stimulus/BigLetterh/SmallLetterh/Taskg'], 'bigLetter': 'h', 'smallLetter': 'h', 'task': 'g'}\n",
      "Not setting metadata\n",
      "49 matching events found\n",
      "No baseline correction applied\n"
     ]
    },
    {
     "name": "stderr",
     "output_type": "stream",
     "text": [
      "c:\\Users\\jz421\\Desktop\\GlobalLocal\\src\\analysis\\utils\\general_utils.py:424: RuntimeWarning: Concatenation of Annotations within Epochs is not supported yet. All annotations will be dropped.\n",
      "  event_epochs = mne.concatenate_epochs(combined_epochs)\n"
     ]
    },
    {
     "name": "stdout",
     "output_type": "stream",
     "text": [
      "    Original shape: (49, 219, 641)\n",
      "    Trials with all NaN values: 0\n",
      "    Average NaN count per trial: 366.3\n",
      "    Max NaN count in a trial: 3846\n",
      "    Stimulus_bigHsmallHtaskG: 49 valid trials out of 49\n",
      "  Loading condition: Stimulus_bigHsmallHtaskL with parameters: {'BIDS_events': ['Stimulus/BigLetterh/SmallLetterh/Taskl'], 'bigLetter': 'h', 'smallLetter': 'h', 'task': 'l'}\n",
      "Not setting metadata\n",
      "47 matching events found\n",
      "No baseline correction applied\n"
     ]
    },
    {
     "name": "stderr",
     "output_type": "stream",
     "text": [
      "c:\\Users\\jz421\\Desktop\\GlobalLocal\\src\\analysis\\utils\\general_utils.py:424: RuntimeWarning: Concatenation of Annotations within Epochs is not supported yet. All annotations will be dropped.\n",
      "  event_epochs = mne.concatenate_epochs(combined_epochs)\n"
     ]
    },
    {
     "name": "stdout",
     "output_type": "stream",
     "text": [
      "    Original shape: (47, 219, 641)\n",
      "    Trials with all NaN values: 0\n",
      "    Average NaN count per trial: 1868.4\n",
      "    Max NaN count in a trial: 25640\n",
      "    Stimulus_bigHsmallHtaskL: 47 valid trials out of 47\n",
      "  Loading condition: Stimulus_bigHsmallStaskG with parameters: {'BIDS_events': ['Stimulus/BigLetterh/SmallLetters/Taskg'], 'bigLetter': 'h', 'smallLetter': 's', 'task': 'g'}\n",
      "Not setting metadata\n",
      "42 matching events found\n",
      "No baseline correction applied\n"
     ]
    },
    {
     "name": "stderr",
     "output_type": "stream",
     "text": [
      "c:\\Users\\jz421\\Desktop\\GlobalLocal\\src\\analysis\\utils\\general_utils.py:424: RuntimeWarning: Concatenation of Annotations within Epochs is not supported yet. All annotations will be dropped.\n",
      "  event_epochs = mne.concatenate_epochs(combined_epochs)\n"
     ]
    },
    {
     "name": "stdout",
     "output_type": "stream",
     "text": [
      "    Original shape: (42, 219, 641)\n",
      "    Trials with all NaN values: 0\n",
      "    Average NaN count per trial: 656.3\n",
      "    Max NaN count in a trial: 8333\n",
      "    Stimulus_bigHsmallStaskG: 42 valid trials out of 42\n",
      "  Loading condition: Stimulus_bigHsmallStaskL with parameters: {'BIDS_events': ['Stimulus/BigLetterh/SmallLetters/Taskl'], 'bigLetter': 'h', 'smallLetter': 's', 'task': 'l'}\n",
      "Not setting metadata\n",
      "12 matching events found\n",
      "No baseline correction applied\n"
     ]
    },
    {
     "name": "stderr",
     "output_type": "stream",
     "text": [
      "c:\\Users\\jz421\\Desktop\\GlobalLocal\\src\\analysis\\utils\\general_utils.py:424: RuntimeWarning: Concatenation of Annotations within Epochs is not supported yet. All annotations will be dropped.\n",
      "  event_epochs = mne.concatenate_epochs(combined_epochs)\n"
     ]
    },
    {
     "name": "stdout",
     "output_type": "stream",
     "text": [
      "    Original shape: (12, 219, 641)\n",
      "    Trials with all NaN values: 0\n",
      "    Average NaN count per trial: 213.7\n",
      "    Max NaN count in a trial: 1923\n",
      "    Stimulus_bigHsmallStaskL: 12 valid trials out of 12\n",
      "Loading data for subject: D0103\n",
      "Reading C:\\Users\\jz421\\Box\\CoganLab\\BIDS-1.1_GlobalLocal\\BIDS\\derivatives\\freqFilt\\figs\\D0103\\D0103_Stimulus_0.5sec_within1sec_randoffset_preStimulusBase_decFactor_8_outliers_10_passband_70.0-150.0_padLength_0.5s_stat_func_ttest_ind_equal_var_False_HG_ev1_rescaled-epo.fif ...\n",
      "    Found the data of interest:\n",
      "        t =   -1000.00 ...    1500.00 ms\n",
      "        0 CTF compensation matrices available\n",
      "Not setting metadata\n",
      "448 matching events found\n",
      "No baseline correction applied\n",
      "0 projection items activated\n",
      "Reading C:\\Users\\jz421\\Box\\CoganLab\\BIDS-1.1_GlobalLocal\\BIDS\\derivatives\\freqFilt\\figs\\D0103\\D0103_Stimulus_0.5sec_within1sec_randoffset_preStimulusBase_decFactor_8_outliers_10_passband_70.0-150.0_padLength_0.5s_stat_func_ttest_ind_equal_var_False_HG_ev1_power_rescaled-epo.fif ...\n",
      "    Found the data of interest:\n",
      "        t =   -1000.00 ...    1500.00 ms\n",
      "        0 CTF compensation matrices available\n",
      "Not setting metadata\n",
      "448 matching events found\n",
      "No baseline correction applied\n",
      "0 projection items activated\n",
      "  Loading condition: Stimulus_bigSsmallHtaskG with parameters: {'BIDS_events': ['Stimulus/BigLetters/SmallLetterh/Taskg'], 'bigLetter': 's', 'smallLetter': 'h', 'task': 'g'}\n",
      "Not setting metadata\n",
      "32 matching events found\n",
      "No baseline correction applied\n"
     ]
    },
    {
     "name": "stderr",
     "output_type": "stream",
     "text": [
      "c:\\Users\\jz421\\Desktop\\GlobalLocal\\src\\analysis\\utils\\general_utils.py:424: RuntimeWarning: Concatenation of Annotations within Epochs is not supported yet. All annotations will be dropped.\n",
      "  event_epochs = mne.concatenate_epochs(combined_epochs)\n"
     ]
    },
    {
     "name": "stdout",
     "output_type": "stream",
     "text": [
      "    Original shape: (32, 222, 641)\n",
      "    Trials with all NaN values: 0\n",
      "    Average NaN count per trial: 440.7\n",
      "    Max NaN count in a trial: 6410\n",
      "    Stimulus_bigSsmallHtaskG: 32 valid trials out of 32\n",
      "  Loading condition: Stimulus_bigSsmallHtaskL with parameters: {'BIDS_events': ['Stimulus/BigLetters/SmallLetterh/Taskl'], 'bigLetter': 's', 'smallLetter': 'h', 'task': 'l'}\n",
      "Not setting metadata\n",
      "41 matching events found\n",
      "No baseline correction applied\n"
     ]
    },
    {
     "name": "stderr",
     "output_type": "stream",
     "text": [
      "c:\\Users\\jz421\\Desktop\\GlobalLocal\\src\\analysis\\utils\\general_utils.py:424: RuntimeWarning: Concatenation of Annotations within Epochs is not supported yet. All annotations will be dropped.\n",
      "  event_epochs = mne.concatenate_epochs(combined_epochs)\n"
     ]
    },
    {
     "name": "stdout",
     "output_type": "stream",
     "text": [
      "    Original shape: (41, 222, 641)\n",
      "    Trials with all NaN values: 0\n",
      "    Average NaN count per trial: 422.1\n",
      "    Max NaN count in a trial: 6410\n",
      "    Stimulus_bigSsmallHtaskL: 41 valid trials out of 41\n",
      "  Loading condition: Stimulus_bigSsmallStaskG with parameters: {'BIDS_events': ['Stimulus/BigLetters/SmallLetters/Taskg'], 'bigLetter': 's', 'smallLetter': 's', 'task': 'g'}\n",
      "Not setting metadata\n",
      "47 matching events found\n",
      "No baseline correction applied\n"
     ]
    },
    {
     "name": "stderr",
     "output_type": "stream",
     "text": [
      "c:\\Users\\jz421\\Desktop\\GlobalLocal\\src\\analysis\\utils\\general_utils.py:424: RuntimeWarning: Concatenation of Annotations within Epochs is not supported yet. All annotations will be dropped.\n",
      "  event_epochs = mne.concatenate_epochs(combined_epochs)\n"
     ]
    },
    {
     "name": "stdout",
     "output_type": "stream",
     "text": [
      "    Original shape: (47, 222, 641)\n",
      "    Trials with all NaN values: 0\n",
      "    Average NaN count per trial: 368.2\n",
      "    Max NaN count in a trial: 5769\n",
      "    Stimulus_bigSsmallStaskG: 47 valid trials out of 47\n",
      "  Loading condition: Stimulus_bigSsmallStaskL with parameters: {'BIDS_events': ['Stimulus/BigLetters/SmallLetters/Taskl'], 'bigLetter': 's', 'smallLetter': 's', 'task': 'l'}\n",
      "Not setting metadata\n",
      "56 matching events found\n",
      "No baseline correction applied\n"
     ]
    },
    {
     "name": "stderr",
     "output_type": "stream",
     "text": [
      "c:\\Users\\jz421\\Desktop\\GlobalLocal\\src\\analysis\\utils\\general_utils.py:424: RuntimeWarning: Concatenation of Annotations within Epochs is not supported yet. All annotations will be dropped.\n",
      "  event_epochs = mne.concatenate_epochs(combined_epochs)\n"
     ]
    },
    {
     "name": "stdout",
     "output_type": "stream",
     "text": [
      "    Original shape: (56, 222, 641)\n",
      "    Trials with all NaN values: 0\n",
      "    Average NaN count per trial: 618.1\n",
      "    Max NaN count in a trial: 6410\n",
      "    Stimulus_bigSsmallStaskL: 56 valid trials out of 56\n",
      "  Loading condition: Stimulus_bigHsmallHtaskG with parameters: {'BIDS_events': ['Stimulus/BigLetterh/SmallLetterh/Taskg'], 'bigLetter': 'h', 'smallLetter': 'h', 'task': 'g'}\n",
      "Not setting metadata\n",
      "53 matching events found\n",
      "No baseline correction applied\n"
     ]
    },
    {
     "name": "stderr",
     "output_type": "stream",
     "text": [
      "c:\\Users\\jz421\\Desktop\\GlobalLocal\\src\\analysis\\utils\\general_utils.py:424: RuntimeWarning: Concatenation of Annotations within Epochs is not supported yet. All annotations will be dropped.\n",
      "  event_epochs = mne.concatenate_epochs(combined_epochs)\n"
     ]
    },
    {
     "name": "stdout",
     "output_type": "stream",
     "text": [
      "    Original shape: (53, 222, 641)\n",
      "    Trials with all NaN values: 0\n",
      "    Average NaN count per trial: 1076.4\n",
      "    Max NaN count in a trial: 14102\n",
      "    Stimulus_bigHsmallHtaskG: 53 valid trials out of 53\n",
      "  Loading condition: Stimulus_bigHsmallHtaskL with parameters: {'BIDS_events': ['Stimulus/BigLetterh/SmallLetterh/Taskl'], 'bigLetter': 'h', 'smallLetter': 'h', 'task': 'l'}\n",
      "Not setting metadata\n",
      "44 matching events found\n",
      "No baseline correction applied\n"
     ]
    },
    {
     "name": "stderr",
     "output_type": "stream",
     "text": [
      "c:\\Users\\jz421\\Desktop\\GlobalLocal\\src\\analysis\\utils\\general_utils.py:424: RuntimeWarning: Concatenation of Annotations within Epochs is not supported yet. All annotations will be dropped.\n",
      "  event_epochs = mne.concatenate_epochs(combined_epochs)\n"
     ]
    },
    {
     "name": "stdout",
     "output_type": "stream",
     "text": [
      "    Original shape: (44, 222, 641)\n",
      "    Trials with all NaN values: 0\n",
      "    Average NaN count per trial: 553.6\n",
      "    Max NaN count in a trial: 8974\n",
      "    Stimulus_bigHsmallHtaskL: 44 valid trials out of 44\n",
      "  Loading condition: Stimulus_bigHsmallStaskG with parameters: {'BIDS_events': ['Stimulus/BigLetterh/SmallLetters/Taskg'], 'bigLetter': 'h', 'smallLetter': 's', 'task': 'g'}\n",
      "Not setting metadata\n",
      "36 matching events found\n",
      "No baseline correction applied\n"
     ]
    },
    {
     "name": "stderr",
     "output_type": "stream",
     "text": [
      "c:\\Users\\jz421\\Desktop\\GlobalLocal\\src\\analysis\\utils\\general_utils.py:424: RuntimeWarning: Concatenation of Annotations within Epochs is not supported yet. All annotations will be dropped.\n",
      "  event_epochs = mne.concatenate_epochs(combined_epochs)\n"
     ]
    },
    {
     "name": "stdout",
     "output_type": "stream",
     "text": [
      "    Original shape: (36, 222, 641)\n",
      "    Trials with all NaN values: 0\n",
      "    Average NaN count per trial: 373.9\n",
      "    Max NaN count in a trial: 3846\n",
      "    Stimulus_bigHsmallStaskG: 36 valid trials out of 36\n",
      "  Loading condition: Stimulus_bigHsmallStaskL with parameters: {'BIDS_events': ['Stimulus/BigLetterh/SmallLetters/Taskl'], 'bigLetter': 'h', 'smallLetter': 's', 'task': 'l'}\n",
      "Not setting metadata\n",
      "50 matching events found\n",
      "No baseline correction applied\n"
     ]
    },
    {
     "name": "stderr",
     "output_type": "stream",
     "text": [
      "c:\\Users\\jz421\\Desktop\\GlobalLocal\\src\\analysis\\utils\\general_utils.py:424: RuntimeWarning: Concatenation of Annotations within Epochs is not supported yet. All annotations will be dropped.\n",
      "  event_epochs = mne.concatenate_epochs(combined_epochs)\n"
     ]
    },
    {
     "name": "stdout",
     "output_type": "stream",
     "text": [
      "    Original shape: (50, 222, 641)\n",
      "    Trials with all NaN values: 0\n",
      "    Average NaN count per trial: 589.7\n",
      "    Max NaN count in a trial: 5128\n",
      "    Stimulus_bigHsmallStaskL: 50 valid trials out of 50\n",
      "  Loading condition: Stimulus_bigSsmallHtaskG with parameters: {'BIDS_events': ['Stimulus/BigLetters/SmallLetterh/Taskg'], 'bigLetter': 's', 'smallLetter': 'h', 'task': 'g'}\n",
      "Not setting metadata\n",
      "32 matching events found\n",
      "No baseline correction applied\n"
     ]
    },
    {
     "name": "stderr",
     "output_type": "stream",
     "text": [
      "c:\\Users\\jz421\\Desktop\\GlobalLocal\\src\\analysis\\utils\\general_utils.py:424: RuntimeWarning: Concatenation of Annotations within Epochs is not supported yet. All annotations will be dropped.\n",
      "  event_epochs = mne.concatenate_epochs(combined_epochs)\n"
     ]
    },
    {
     "name": "stdout",
     "output_type": "stream",
     "text": [
      "    Original shape: (32, 222, 641)\n",
      "    Trials with all NaN values: 0\n",
      "    Average NaN count per trial: 440.7\n",
      "    Max NaN count in a trial: 6410\n",
      "    Stimulus_bigSsmallHtaskG: 32 valid trials out of 32\n",
      "  Loading condition: Stimulus_bigSsmallHtaskL with parameters: {'BIDS_events': ['Stimulus/BigLetters/SmallLetterh/Taskl'], 'bigLetter': 's', 'smallLetter': 'h', 'task': 'l'}\n",
      "Not setting metadata\n",
      "41 matching events found\n",
      "No baseline correction applied\n"
     ]
    },
    {
     "name": "stderr",
     "output_type": "stream",
     "text": [
      "c:\\Users\\jz421\\Desktop\\GlobalLocal\\src\\analysis\\utils\\general_utils.py:424: RuntimeWarning: Concatenation of Annotations within Epochs is not supported yet. All annotations will be dropped.\n",
      "  event_epochs = mne.concatenate_epochs(combined_epochs)\n"
     ]
    },
    {
     "name": "stdout",
     "output_type": "stream",
     "text": [
      "    Original shape: (41, 222, 641)\n",
      "    Trials with all NaN values: 0\n",
      "    Average NaN count per trial: 422.1\n",
      "    Max NaN count in a trial: 6410\n",
      "    Stimulus_bigSsmallHtaskL: 41 valid trials out of 41\n",
      "  Loading condition: Stimulus_bigSsmallStaskG with parameters: {'BIDS_events': ['Stimulus/BigLetters/SmallLetters/Taskg'], 'bigLetter': 's', 'smallLetter': 's', 'task': 'g'}\n",
      "Not setting metadata\n",
      "47 matching events found\n",
      "No baseline correction applied\n"
     ]
    },
    {
     "name": "stderr",
     "output_type": "stream",
     "text": [
      "c:\\Users\\jz421\\Desktop\\GlobalLocal\\src\\analysis\\utils\\general_utils.py:424: RuntimeWarning: Concatenation of Annotations within Epochs is not supported yet. All annotations will be dropped.\n",
      "  event_epochs = mne.concatenate_epochs(combined_epochs)\n"
     ]
    },
    {
     "name": "stdout",
     "output_type": "stream",
     "text": [
      "    Original shape: (47, 222, 641)\n",
      "    Trials with all NaN values: 0\n",
      "    Average NaN count per trial: 368.2\n",
      "    Max NaN count in a trial: 5769\n",
      "    Stimulus_bigSsmallStaskG: 47 valid trials out of 47\n",
      "  Loading condition: Stimulus_bigSsmallStaskL with parameters: {'BIDS_events': ['Stimulus/BigLetters/SmallLetters/Taskl'], 'bigLetter': 's', 'smallLetter': 's', 'task': 'l'}\n",
      "Not setting metadata\n",
      "56 matching events found\n",
      "No baseline correction applied\n"
     ]
    },
    {
     "name": "stderr",
     "output_type": "stream",
     "text": [
      "c:\\Users\\jz421\\Desktop\\GlobalLocal\\src\\analysis\\utils\\general_utils.py:424: RuntimeWarning: Concatenation of Annotations within Epochs is not supported yet. All annotations will be dropped.\n",
      "  event_epochs = mne.concatenate_epochs(combined_epochs)\n"
     ]
    },
    {
     "name": "stdout",
     "output_type": "stream",
     "text": [
      "    Original shape: (56, 222, 641)\n",
      "    Trials with all NaN values: 0\n",
      "    Average NaN count per trial: 618.1\n",
      "    Max NaN count in a trial: 6410\n",
      "    Stimulus_bigSsmallStaskL: 56 valid trials out of 56\n",
      "  Loading condition: Stimulus_bigHsmallHtaskG with parameters: {'BIDS_events': ['Stimulus/BigLetterh/SmallLetterh/Taskg'], 'bigLetter': 'h', 'smallLetter': 'h', 'task': 'g'}\n",
      "Not setting metadata\n",
      "53 matching events found\n",
      "No baseline correction applied\n"
     ]
    },
    {
     "name": "stderr",
     "output_type": "stream",
     "text": [
      "c:\\Users\\jz421\\Desktop\\GlobalLocal\\src\\analysis\\utils\\general_utils.py:424: RuntimeWarning: Concatenation of Annotations within Epochs is not supported yet. All annotations will be dropped.\n",
      "  event_epochs = mne.concatenate_epochs(combined_epochs)\n"
     ]
    },
    {
     "name": "stdout",
     "output_type": "stream",
     "text": [
      "    Original shape: (53, 222, 641)\n",
      "    Trials with all NaN values: 0\n",
      "    Average NaN count per trial: 1076.4\n",
      "    Max NaN count in a trial: 14102\n",
      "    Stimulus_bigHsmallHtaskG: 53 valid trials out of 53\n",
      "  Loading condition: Stimulus_bigHsmallHtaskL with parameters: {'BIDS_events': ['Stimulus/BigLetterh/SmallLetterh/Taskl'], 'bigLetter': 'h', 'smallLetter': 'h', 'task': 'l'}\n",
      "Not setting metadata\n",
      "44 matching events found\n",
      "No baseline correction applied\n"
     ]
    },
    {
     "name": "stderr",
     "output_type": "stream",
     "text": [
      "c:\\Users\\jz421\\Desktop\\GlobalLocal\\src\\analysis\\utils\\general_utils.py:424: RuntimeWarning: Concatenation of Annotations within Epochs is not supported yet. All annotations will be dropped.\n",
      "  event_epochs = mne.concatenate_epochs(combined_epochs)\n"
     ]
    },
    {
     "name": "stdout",
     "output_type": "stream",
     "text": [
      "    Original shape: (44, 222, 641)\n",
      "    Trials with all NaN values: 0\n",
      "    Average NaN count per trial: 553.6\n",
      "    Max NaN count in a trial: 8974\n",
      "    Stimulus_bigHsmallHtaskL: 44 valid trials out of 44\n",
      "  Loading condition: Stimulus_bigHsmallStaskG with parameters: {'BIDS_events': ['Stimulus/BigLetterh/SmallLetters/Taskg'], 'bigLetter': 'h', 'smallLetter': 's', 'task': 'g'}\n",
      "Not setting metadata\n",
      "36 matching events found\n",
      "No baseline correction applied\n"
     ]
    },
    {
     "name": "stderr",
     "output_type": "stream",
     "text": [
      "c:\\Users\\jz421\\Desktop\\GlobalLocal\\src\\analysis\\utils\\general_utils.py:424: RuntimeWarning: Concatenation of Annotations within Epochs is not supported yet. All annotations will be dropped.\n",
      "  event_epochs = mne.concatenate_epochs(combined_epochs)\n"
     ]
    },
    {
     "name": "stdout",
     "output_type": "stream",
     "text": [
      "    Original shape: (36, 222, 641)\n",
      "    Trials with all NaN values: 0\n",
      "    Average NaN count per trial: 373.9\n",
      "    Max NaN count in a trial: 3846\n",
      "    Stimulus_bigHsmallStaskG: 36 valid trials out of 36\n",
      "  Loading condition: Stimulus_bigHsmallStaskL with parameters: {'BIDS_events': ['Stimulus/BigLetterh/SmallLetters/Taskl'], 'bigLetter': 'h', 'smallLetter': 's', 'task': 'l'}\n",
      "Not setting metadata\n",
      "50 matching events found\n",
      "No baseline correction applied\n"
     ]
    },
    {
     "name": "stderr",
     "output_type": "stream",
     "text": [
      "c:\\Users\\jz421\\Desktop\\GlobalLocal\\src\\analysis\\utils\\general_utils.py:424: RuntimeWarning: Concatenation of Annotations within Epochs is not supported yet. All annotations will be dropped.\n",
      "  event_epochs = mne.concatenate_epochs(combined_epochs)\n"
     ]
    },
    {
     "name": "stdout",
     "output_type": "stream",
     "text": [
      "    Original shape: (50, 222, 641)\n",
      "    Trials with all NaN values: 0\n",
      "    Average NaN count per trial: 589.7\n",
      "    Max NaN count in a trial: 5128\n",
      "    Stimulus_bigHsmallStaskL: 50 valid trials out of 50\n",
      "Loading data for subject: D0107A\n",
      "Reading C:\\Users\\jz421\\Box\\CoganLab\\BIDS-1.1_GlobalLocal\\BIDS\\derivatives\\freqFilt\\figs\\D0107A\\D0107A_Stimulus_0.5sec_within1sec_randoffset_preStimulusBase_decFactor_8_outliers_10_passband_70.0-150.0_padLength_0.5s_stat_func_ttest_ind_equal_var_False_HG_ev1_rescaled-epo.fif ...\n",
      "    Found the data of interest:\n",
      "        t =   -1000.00 ...    1500.00 ms\n",
      "        0 CTF compensation matrices available\n",
      "Not setting metadata\n",
      "452 matching events found\n",
      "No baseline correction applied\n",
      "0 projection items activated\n",
      "Reading C:\\Users\\jz421\\Box\\CoganLab\\BIDS-1.1_GlobalLocal\\BIDS\\derivatives\\freqFilt\\figs\\D0107A\\D0107A_Stimulus_0.5sec_within1sec_randoffset_preStimulusBase_decFactor_8_outliers_10_passband_70.0-150.0_padLength_0.5s_stat_func_ttest_ind_equal_var_False_HG_ev1_power_rescaled-epo.fif ...\n",
      "    Found the data of interest:\n",
      "        t =   -1000.00 ...    1500.00 ms\n",
      "        0 CTF compensation matrices available\n",
      "Not setting metadata\n",
      "452 matching events found\n",
      "No baseline correction applied\n",
      "0 projection items activated\n",
      "  Loading condition: Stimulus_bigSsmallHtaskG with parameters: {'BIDS_events': ['Stimulus/BigLetters/SmallLetterh/Taskg'], 'bigLetter': 's', 'smallLetter': 'h', 'task': 'g'}\n",
      "Not setting metadata\n",
      "48 matching events found\n",
      "No baseline correction applied\n"
     ]
    },
    {
     "name": "stderr",
     "output_type": "stream",
     "text": [
      "c:\\Users\\jz421\\Desktop\\GlobalLocal\\src\\analysis\\utils\\general_utils.py:424: RuntimeWarning: Concatenation of Annotations within Epochs is not supported yet. All annotations will be dropped.\n",
      "  event_epochs = mne.concatenate_epochs(combined_epochs)\n"
     ]
    },
    {
     "name": "stdout",
     "output_type": "stream",
     "text": [
      "    Original shape: (48, 164, 641)\n",
      "    Trials with all NaN values: 0\n",
      "    Average NaN count per trial: 1629.2\n",
      "    Max NaN count in a trial: 9615\n",
      "    Stimulus_bigSsmallHtaskG: 48 valid trials out of 48\n",
      "  Loading condition: Stimulus_bigSsmallHtaskL with parameters: {'BIDS_events': ['Stimulus/BigLetters/SmallLetterh/Taskl'], 'bigLetter': 's', 'smallLetter': 'h', 'task': 'l'}\n",
      "Not setting metadata\n",
      "38 matching events found\n",
      "No baseline correction applied\n"
     ]
    },
    {
     "name": "stderr",
     "output_type": "stream",
     "text": [
      "c:\\Users\\jz421\\Desktop\\GlobalLocal\\src\\analysis\\utils\\general_utils.py:424: RuntimeWarning: Concatenation of Annotations within Epochs is not supported yet. All annotations will be dropped.\n",
      "  event_epochs = mne.concatenate_epochs(combined_epochs)\n"
     ]
    },
    {
     "name": "stdout",
     "output_type": "stream",
     "text": [
      "    Original shape: (38, 164, 641)\n",
      "    Trials with all NaN values: 0\n",
      "    Average NaN count per trial: 1872.4\n",
      "    Max NaN count in a trial: 10256\n",
      "    Stimulus_bigSsmallHtaskL: 38 valid trials out of 38\n",
      "  Loading condition: Stimulus_bigSsmallStaskG with parameters: {'BIDS_events': ['Stimulus/BigLetters/SmallLetters/Taskg'], 'bigLetter': 's', 'smallLetter': 's', 'task': 'g'}\n",
      "Not setting metadata\n",
      "51 matching events found\n",
      "No baseline correction applied\n"
     ]
    },
    {
     "name": "stderr",
     "output_type": "stream",
     "text": [
      "c:\\Users\\jz421\\Desktop\\GlobalLocal\\src\\analysis\\utils\\general_utils.py:424: RuntimeWarning: Concatenation of Annotations within Epochs is not supported yet. All annotations will be dropped.\n",
      "  event_epochs = mne.concatenate_epochs(combined_epochs)\n"
     ]
    },
    {
     "name": "stdout",
     "output_type": "stream",
     "text": [
      "    Original shape: (51, 164, 641)\n",
      "    Trials with all NaN values: 0\n",
      "    Average NaN count per trial: 2262.4\n",
      "    Max NaN count in a trial: 45511\n",
      "    Stimulus_bigSsmallStaskG: 51 valid trials out of 51\n",
      "  Loading condition: Stimulus_bigSsmallStaskL with parameters: {'BIDS_events': ['Stimulus/BigLetters/SmallLetters/Taskl'], 'bigLetter': 's', 'smallLetter': 's', 'task': 'l'}\n",
      "Not setting metadata\n",
      "46 matching events found\n",
      "No baseline correction applied\n"
     ]
    },
    {
     "name": "stderr",
     "output_type": "stream",
     "text": [
      "c:\\Users\\jz421\\Desktop\\GlobalLocal\\src\\analysis\\utils\\general_utils.py:424: RuntimeWarning: Concatenation of Annotations within Epochs is not supported yet. All annotations will be dropped.\n",
      "  event_epochs = mne.concatenate_epochs(combined_epochs)\n"
     ]
    },
    {
     "name": "stdout",
     "output_type": "stream",
     "text": [
      "    Original shape: (46, 164, 641)\n",
      "    Trials with all NaN values: 0\n",
      "    Average NaN count per trial: 2647.6\n",
      "    Max NaN count in a trial: 10256\n",
      "    Stimulus_bigSsmallStaskL: 46 valid trials out of 46\n",
      "  Loading condition: Stimulus_bigHsmallHtaskG with parameters: {'BIDS_events': ['Stimulus/BigLetterh/SmallLetterh/Taskg'], 'bigLetter': 'h', 'smallLetter': 'h', 'task': 'g'}\n",
      "Not setting metadata\n",
      "48 matching events found\n",
      "No baseline correction applied\n"
     ]
    },
    {
     "name": "stderr",
     "output_type": "stream",
     "text": [
      "c:\\Users\\jz421\\Desktop\\GlobalLocal\\src\\analysis\\utils\\general_utils.py:424: RuntimeWarning: Concatenation of Annotations within Epochs is not supported yet. All annotations will be dropped.\n",
      "  event_epochs = mne.concatenate_epochs(combined_epochs)\n"
     ]
    },
    {
     "name": "stdout",
     "output_type": "stream",
     "text": [
      "    Original shape: (48, 164, 641)\n",
      "    Trials with all NaN values: 0\n",
      "    Average NaN count per trial: 2029.8\n",
      "    Max NaN count in a trial: 12179\n",
      "    Stimulus_bigHsmallHtaskG: 48 valid trials out of 48\n",
      "  Loading condition: Stimulus_bigHsmallHtaskL with parameters: {'BIDS_events': ['Stimulus/BigLetterh/SmallLetterh/Taskl'], 'bigLetter': 'h', 'smallLetter': 'h', 'task': 'l'}\n",
      "Not setting metadata\n",
      "68 matching events found\n",
      "No baseline correction applied\n"
     ]
    },
    {
     "name": "stderr",
     "output_type": "stream",
     "text": [
      "c:\\Users\\jz421\\Desktop\\GlobalLocal\\src\\analysis\\utils\\general_utils.py:424: RuntimeWarning: Concatenation of Annotations within Epochs is not supported yet. All annotations will be dropped.\n",
      "  event_epochs = mne.concatenate_epochs(combined_epochs)\n"
     ]
    },
    {
     "name": "stdout",
     "output_type": "stream",
     "text": [
      "    Original shape: (68, 164, 641)\n",
      "    Trials with all NaN values: 0\n",
      "    Average NaN count per trial: 1753.3\n",
      "    Max NaN count in a trial: 8974\n",
      "    Stimulus_bigHsmallHtaskL: 68 valid trials out of 68\n",
      "  Loading condition: Stimulus_bigHsmallStaskG with parameters: {'BIDS_events': ['Stimulus/BigLetterh/SmallLetters/Taskg'], 'bigLetter': 'h', 'smallLetter': 's', 'task': 'g'}\n",
      "Not setting metadata\n",
      "53 matching events found\n",
      "No baseline correction applied\n"
     ]
    },
    {
     "name": "stderr",
     "output_type": "stream",
     "text": [
      "c:\\Users\\jz421\\Desktop\\GlobalLocal\\src\\analysis\\utils\\general_utils.py:424: RuntimeWarning: Concatenation of Annotations within Epochs is not supported yet. All annotations will be dropped.\n",
      "  event_epochs = mne.concatenate_epochs(combined_epochs)\n"
     ]
    },
    {
     "name": "stdout",
     "output_type": "stream",
     "text": [
      "    Original shape: (53, 164, 641)\n",
      "    Trials with all NaN values: 0\n",
      "    Average NaN count per trial: 2237.5\n",
      "    Max NaN count in a trial: 12820\n",
      "    Stimulus_bigHsmallStaskG: 53 valid trials out of 53\n",
      "  Loading condition: Stimulus_bigHsmallStaskL with parameters: {'BIDS_events': ['Stimulus/BigLetterh/SmallLetters/Taskl'], 'bigLetter': 'h', 'smallLetter': 's', 'task': 'l'}\n",
      "Not setting metadata\n",
      "42 matching events found\n",
      "No baseline correction applied\n"
     ]
    },
    {
     "name": "stderr",
     "output_type": "stream",
     "text": [
      "c:\\Users\\jz421\\Desktop\\GlobalLocal\\src\\analysis\\utils\\general_utils.py:424: RuntimeWarning: Concatenation of Annotations within Epochs is not supported yet. All annotations will be dropped.\n",
      "  event_epochs = mne.concatenate_epochs(combined_epochs)\n"
     ]
    },
    {
     "name": "stdout",
     "output_type": "stream",
     "text": [
      "    Original shape: (42, 164, 641)\n",
      "    Trials with all NaN values: 0\n",
      "    Average NaN count per trial: 2060.4\n",
      "    Max NaN count in a trial: 9615\n",
      "    Stimulus_bigHsmallStaskL: 42 valid trials out of 42\n",
      "  Loading condition: Stimulus_bigSsmallHtaskG with parameters: {'BIDS_events': ['Stimulus/BigLetters/SmallLetterh/Taskg'], 'bigLetter': 's', 'smallLetter': 'h', 'task': 'g'}\n",
      "Not setting metadata\n",
      "48 matching events found\n",
      "No baseline correction applied\n"
     ]
    },
    {
     "name": "stderr",
     "output_type": "stream",
     "text": [
      "c:\\Users\\jz421\\Desktop\\GlobalLocal\\src\\analysis\\utils\\general_utils.py:424: RuntimeWarning: Concatenation of Annotations within Epochs is not supported yet. All annotations will be dropped.\n",
      "  event_epochs = mne.concatenate_epochs(combined_epochs)\n"
     ]
    },
    {
     "name": "stdout",
     "output_type": "stream",
     "text": [
      "    Original shape: (48, 164, 641)\n",
      "    Trials with all NaN values: 0\n",
      "    Average NaN count per trial: 1629.2\n",
      "    Max NaN count in a trial: 9615\n",
      "    Stimulus_bigSsmallHtaskG: 48 valid trials out of 48\n",
      "  Loading condition: Stimulus_bigSsmallHtaskL with parameters: {'BIDS_events': ['Stimulus/BigLetters/SmallLetterh/Taskl'], 'bigLetter': 's', 'smallLetter': 'h', 'task': 'l'}\n",
      "Not setting metadata\n",
      "38 matching events found\n",
      "No baseline correction applied\n"
     ]
    },
    {
     "name": "stderr",
     "output_type": "stream",
     "text": [
      "c:\\Users\\jz421\\Desktop\\GlobalLocal\\src\\analysis\\utils\\general_utils.py:424: RuntimeWarning: Concatenation of Annotations within Epochs is not supported yet. All annotations will be dropped.\n",
      "  event_epochs = mne.concatenate_epochs(combined_epochs)\n"
     ]
    },
    {
     "name": "stdout",
     "output_type": "stream",
     "text": [
      "    Original shape: (38, 164, 641)\n",
      "    Trials with all NaN values: 0\n",
      "    Average NaN count per trial: 1872.4\n",
      "    Max NaN count in a trial: 10256\n",
      "    Stimulus_bigSsmallHtaskL: 38 valid trials out of 38\n",
      "  Loading condition: Stimulus_bigSsmallStaskG with parameters: {'BIDS_events': ['Stimulus/BigLetters/SmallLetters/Taskg'], 'bigLetter': 's', 'smallLetter': 's', 'task': 'g'}\n",
      "Not setting metadata\n",
      "51 matching events found\n",
      "No baseline correction applied\n"
     ]
    },
    {
     "name": "stderr",
     "output_type": "stream",
     "text": [
      "c:\\Users\\jz421\\Desktop\\GlobalLocal\\src\\analysis\\utils\\general_utils.py:424: RuntimeWarning: Concatenation of Annotations within Epochs is not supported yet. All annotations will be dropped.\n",
      "  event_epochs = mne.concatenate_epochs(combined_epochs)\n"
     ]
    },
    {
     "name": "stdout",
     "output_type": "stream",
     "text": [
      "    Original shape: (51, 164, 641)\n",
      "    Trials with all NaN values: 0\n",
      "    Average NaN count per trial: 2262.4\n",
      "    Max NaN count in a trial: 45511\n",
      "    Stimulus_bigSsmallStaskG: 51 valid trials out of 51\n",
      "  Loading condition: Stimulus_bigSsmallStaskL with parameters: {'BIDS_events': ['Stimulus/BigLetters/SmallLetters/Taskl'], 'bigLetter': 's', 'smallLetter': 's', 'task': 'l'}\n",
      "Not setting metadata\n",
      "46 matching events found\n",
      "No baseline correction applied\n"
     ]
    },
    {
     "name": "stderr",
     "output_type": "stream",
     "text": [
      "c:\\Users\\jz421\\Desktop\\GlobalLocal\\src\\analysis\\utils\\general_utils.py:424: RuntimeWarning: Concatenation of Annotations within Epochs is not supported yet. All annotations will be dropped.\n",
      "  event_epochs = mne.concatenate_epochs(combined_epochs)\n"
     ]
    },
    {
     "name": "stdout",
     "output_type": "stream",
     "text": [
      "    Original shape: (46, 164, 641)\n",
      "    Trials with all NaN values: 0\n",
      "    Average NaN count per trial: 2647.6\n",
      "    Max NaN count in a trial: 10256\n",
      "    Stimulus_bigSsmallStaskL: 46 valid trials out of 46\n",
      "  Loading condition: Stimulus_bigHsmallHtaskG with parameters: {'BIDS_events': ['Stimulus/BigLetterh/SmallLetterh/Taskg'], 'bigLetter': 'h', 'smallLetter': 'h', 'task': 'g'}\n",
      "Not setting metadata\n",
      "48 matching events found\n",
      "No baseline correction applied\n"
     ]
    },
    {
     "name": "stderr",
     "output_type": "stream",
     "text": [
      "c:\\Users\\jz421\\Desktop\\GlobalLocal\\src\\analysis\\utils\\general_utils.py:424: RuntimeWarning: Concatenation of Annotations within Epochs is not supported yet. All annotations will be dropped.\n",
      "  event_epochs = mne.concatenate_epochs(combined_epochs)\n"
     ]
    },
    {
     "name": "stdout",
     "output_type": "stream",
     "text": [
      "    Original shape: (48, 164, 641)\n",
      "    Trials with all NaN values: 0\n",
      "    Average NaN count per trial: 2029.8\n",
      "    Max NaN count in a trial: 12179\n",
      "    Stimulus_bigHsmallHtaskG: 48 valid trials out of 48\n",
      "  Loading condition: Stimulus_bigHsmallHtaskL with parameters: {'BIDS_events': ['Stimulus/BigLetterh/SmallLetterh/Taskl'], 'bigLetter': 'h', 'smallLetter': 'h', 'task': 'l'}\n",
      "Not setting metadata\n",
      "68 matching events found\n",
      "No baseline correction applied\n"
     ]
    },
    {
     "name": "stderr",
     "output_type": "stream",
     "text": [
      "c:\\Users\\jz421\\Desktop\\GlobalLocal\\src\\analysis\\utils\\general_utils.py:424: RuntimeWarning: Concatenation of Annotations within Epochs is not supported yet. All annotations will be dropped.\n",
      "  event_epochs = mne.concatenate_epochs(combined_epochs)\n"
     ]
    },
    {
     "name": "stdout",
     "output_type": "stream",
     "text": [
      "    Original shape: (68, 164, 641)\n",
      "    Trials with all NaN values: 0\n",
      "    Average NaN count per trial: 1753.3\n",
      "    Max NaN count in a trial: 8974\n",
      "    Stimulus_bigHsmallHtaskL: 68 valid trials out of 68\n",
      "  Loading condition: Stimulus_bigHsmallStaskG with parameters: {'BIDS_events': ['Stimulus/BigLetterh/SmallLetters/Taskg'], 'bigLetter': 'h', 'smallLetter': 's', 'task': 'g'}\n",
      "Not setting metadata\n",
      "53 matching events found\n",
      "No baseline correction applied\n"
     ]
    },
    {
     "name": "stderr",
     "output_type": "stream",
     "text": [
      "c:\\Users\\jz421\\Desktop\\GlobalLocal\\src\\analysis\\utils\\general_utils.py:424: RuntimeWarning: Concatenation of Annotations within Epochs is not supported yet. All annotations will be dropped.\n",
      "  event_epochs = mne.concatenate_epochs(combined_epochs)\n"
     ]
    },
    {
     "name": "stdout",
     "output_type": "stream",
     "text": [
      "    Original shape: (53, 164, 641)\n",
      "    Trials with all NaN values: 0\n",
      "    Average NaN count per trial: 2237.5\n",
      "    Max NaN count in a trial: 12820\n",
      "    Stimulus_bigHsmallStaskG: 53 valid trials out of 53\n",
      "  Loading condition: Stimulus_bigHsmallStaskL with parameters: {'BIDS_events': ['Stimulus/BigLetterh/SmallLetters/Taskl'], 'bigLetter': 'h', 'smallLetter': 's', 'task': 'l'}\n",
      "Not setting metadata\n",
      "42 matching events found\n",
      "No baseline correction applied\n"
     ]
    },
    {
     "name": "stderr",
     "output_type": "stream",
     "text": [
      "c:\\Users\\jz421\\Desktop\\GlobalLocal\\src\\analysis\\utils\\general_utils.py:424: RuntimeWarning: Concatenation of Annotations within Epochs is not supported yet. All annotations will be dropped.\n",
      "  event_epochs = mne.concatenate_epochs(combined_epochs)\n"
     ]
    },
    {
     "name": "stdout",
     "output_type": "stream",
     "text": [
      "    Original shape: (42, 164, 641)\n",
      "    Trials with all NaN values: 0\n",
      "    Average NaN count per trial: 2060.4\n",
      "    Max NaN count in a trial: 9615\n",
      "    Stimulus_bigHsmallStaskL: 42 valid trials out of 42\n",
      "Loading data for subject: D0110\n",
      "Reading C:\\Users\\jz421\\Box\\CoganLab\\BIDS-1.1_GlobalLocal\\BIDS\\derivatives\\freqFilt\\figs\\D0110\\D0110_Stimulus_0.5sec_within1sec_randoffset_preStimulusBase_decFactor_8_outliers_10_passband_70.0-150.0_padLength_0.5s_stat_func_ttest_ind_equal_var_False_HG_ev1_rescaled-epo.fif ...\n",
      "    Found the data of interest:\n",
      "        t =   -1000.00 ...    1500.00 ms\n",
      "        0 CTF compensation matrices available\n",
      "Not setting metadata\n",
      "448 matching events found\n",
      "No baseline correction applied\n",
      "0 projection items activated\n",
      "Reading C:\\Users\\jz421\\Box\\CoganLab\\BIDS-1.1_GlobalLocal\\BIDS\\derivatives\\freqFilt\\figs\\D0110\\D0110_Stimulus_0.5sec_within1sec_randoffset_preStimulusBase_decFactor_8_outliers_10_passband_70.0-150.0_padLength_0.5s_stat_func_ttest_ind_equal_var_False_HG_ev1_power_rescaled-epo.fif ...\n",
      "    Found the data of interest:\n",
      "        t =   -1000.00 ...    1500.00 ms\n",
      "        0 CTF compensation matrices available\n",
      "Not setting metadata\n",
      "448 matching events found\n",
      "No baseline correction applied\n",
      "0 projection items activated\n",
      "  Loading condition: Stimulus_bigSsmallHtaskG with parameters: {'BIDS_events': ['Stimulus/BigLetters/SmallLetterh/Taskg'], 'bigLetter': 's', 'smallLetter': 'h', 'task': 'g'}\n",
      "Not setting metadata\n",
      "53 matching events found\n",
      "No baseline correction applied\n"
     ]
    },
    {
     "name": "stderr",
     "output_type": "stream",
     "text": [
      "c:\\Users\\jz421\\Desktop\\GlobalLocal\\src\\analysis\\utils\\general_utils.py:424: RuntimeWarning: Concatenation of Annotations within Epochs is not supported yet. All annotations will be dropped.\n",
      "  event_epochs = mne.concatenate_epochs(combined_epochs)\n"
     ]
    },
    {
     "name": "stdout",
     "output_type": "stream",
     "text": [
      "    Original shape: (53, 226, 641)\n",
      "    Trials with all NaN values: 0\n",
      "    Average NaN count per trial: 1366.7\n",
      "    Max NaN count in a trial: 17948\n",
      "    Stimulus_bigSsmallHtaskG: 53 valid trials out of 53\n",
      "  Loading condition: Stimulus_bigSsmallHtaskL with parameters: {'BIDS_events': ['Stimulus/BigLetters/SmallLetterh/Taskl'], 'bigLetter': 's', 'smallLetter': 'h', 'task': 'l'}\n",
      "Not setting metadata\n",
      "60 matching events found\n",
      "No baseline correction applied\n"
     ]
    },
    {
     "name": "stderr",
     "output_type": "stream",
     "text": [
      "c:\\Users\\jz421\\Desktop\\GlobalLocal\\src\\analysis\\utils\\general_utils.py:424: RuntimeWarning: Concatenation of Annotations within Epochs is not supported yet. All annotations will be dropped.\n",
      "  event_epochs = mne.concatenate_epochs(combined_epochs)\n"
     ]
    },
    {
     "name": "stdout",
     "output_type": "stream",
     "text": [
      "    Original shape: (60, 226, 641)\n",
      "    Trials with all NaN values: 0\n",
      "    Average NaN count per trial: 1292.7\n",
      "    Max NaN count in a trial: 20512\n",
      "    Stimulus_bigSsmallHtaskL: 60 valid trials out of 60\n",
      "  Loading condition: Stimulus_bigSsmallStaskG with parameters: {'BIDS_events': ['Stimulus/BigLetters/SmallLetters/Taskg'], 'bigLetter': 's', 'smallLetter': 's', 'task': 'g'}\n",
      "Not setting metadata\n",
      "55 matching events found\n",
      "No baseline correction applied\n"
     ]
    },
    {
     "name": "stderr",
     "output_type": "stream",
     "text": [
      "c:\\Users\\jz421\\Desktop\\GlobalLocal\\src\\analysis\\utils\\general_utils.py:424: RuntimeWarning: Concatenation of Annotations within Epochs is not supported yet. All annotations will be dropped.\n",
      "  event_epochs = mne.concatenate_epochs(combined_epochs)\n"
     ]
    },
    {
     "name": "stdout",
     "output_type": "stream",
     "text": [
      "    Original shape: (55, 226, 641)\n",
      "    Trials with all NaN values: 0\n",
      "    Average NaN count per trial: 955.7\n",
      "    Max NaN count in a trial: 16025\n",
      "    Stimulus_bigSsmallStaskG: 55 valid trials out of 55\n",
      "  Loading condition: Stimulus_bigSsmallStaskL with parameters: {'BIDS_events': ['Stimulus/BigLetters/SmallLetters/Taskl'], 'bigLetter': 's', 'smallLetter': 's', 'task': 'l'}\n",
      "Not setting metadata\n",
      "58 matching events found\n",
      "No baseline correction applied\n"
     ]
    },
    {
     "name": "stderr",
     "output_type": "stream",
     "text": [
      "c:\\Users\\jz421\\Desktop\\GlobalLocal\\src\\analysis\\utils\\general_utils.py:424: RuntimeWarning: Concatenation of Annotations within Epochs is not supported yet. All annotations will be dropped.\n",
      "  event_epochs = mne.concatenate_epochs(combined_epochs)\n"
     ]
    },
    {
     "name": "stdout",
     "output_type": "stream",
     "text": [
      "    Original shape: (58, 226, 641)\n",
      "    Trials with all NaN values: 0\n",
      "    Average NaN count per trial: 541.5\n",
      "    Max NaN count in a trial: 15384\n",
      "    Stimulus_bigSsmallStaskL: 58 valid trials out of 58\n",
      "  Loading condition: Stimulus_bigHsmallHtaskG with parameters: {'BIDS_events': ['Stimulus/BigLetterh/SmallLetterh/Taskg'], 'bigLetter': 'h', 'smallLetter': 'h', 'task': 'g'}\n",
      "Not setting metadata\n",
      "56 matching events found\n",
      "No baseline correction applied\n"
     ]
    },
    {
     "name": "stderr",
     "output_type": "stream",
     "text": [
      "c:\\Users\\jz421\\Desktop\\GlobalLocal\\src\\analysis\\utils\\general_utils.py:424: RuntimeWarning: Concatenation of Annotations within Epochs is not supported yet. All annotations will be dropped.\n",
      "  event_epochs = mne.concatenate_epochs(combined_epochs)\n"
     ]
    },
    {
     "name": "stdout",
     "output_type": "stream",
     "text": [
      "    Original shape: (56, 226, 641)\n",
      "    Trials with all NaN values: 0\n",
      "    Average NaN count per trial: 1362.1\n",
      "    Max NaN count in a trial: 18589\n",
      "    Stimulus_bigHsmallHtaskG: 56 valid trials out of 56\n",
      "  Loading condition: Stimulus_bigHsmallHtaskL with parameters: {'BIDS_events': ['Stimulus/BigLetterh/SmallLetterh/Taskl'], 'bigLetter': 'h', 'smallLetter': 'h', 'task': 'l'}\n",
      "Not setting metadata\n",
      "51 matching events found\n",
      "No baseline correction applied\n"
     ]
    },
    {
     "name": "stderr",
     "output_type": "stream",
     "text": [
      "c:\\Users\\jz421\\Desktop\\GlobalLocal\\src\\analysis\\utils\\general_utils.py:424: RuntimeWarning: Concatenation of Annotations within Epochs is not supported yet. All annotations will be dropped.\n",
      "  event_epochs = mne.concatenate_epochs(combined_epochs)\n"
     ]
    },
    {
     "name": "stdout",
     "output_type": "stream",
     "text": [
      "    Original shape: (51, 226, 641)\n",
      "    Trials with all NaN values: 0\n",
      "    Average NaN count per trial: 1960.7\n",
      "    Max NaN count in a trial: 23717\n",
      "    Stimulus_bigHsmallHtaskL: 51 valid trials out of 51\n",
      "  Loading condition: Stimulus_bigHsmallStaskG with parameters: {'BIDS_events': ['Stimulus/BigLetterh/SmallLetters/Taskg'], 'bigLetter': 'h', 'smallLetter': 's', 'task': 'g'}\n",
      "Not setting metadata\n",
      "55 matching events found\n",
      "No baseline correction applied\n"
     ]
    },
    {
     "name": "stderr",
     "output_type": "stream",
     "text": [
      "c:\\Users\\jz421\\Desktop\\GlobalLocal\\src\\analysis\\utils\\general_utils.py:424: RuntimeWarning: Concatenation of Annotations within Epochs is not supported yet. All annotations will be dropped.\n",
      "  event_epochs = mne.concatenate_epochs(combined_epochs)\n"
     ]
    },
    {
     "name": "stdout",
     "output_type": "stream",
     "text": [
      "    Original shape: (55, 226, 641)\n",
      "    Trials with all NaN values: 0\n",
      "    Average NaN count per trial: 454.5\n",
      "    Max NaN count in a trial: 8974\n",
      "    Stimulus_bigHsmallStaskG: 55 valid trials out of 55\n",
      "  Loading condition: Stimulus_bigHsmallStaskL with parameters: {'BIDS_events': ['Stimulus/BigLetterh/SmallLetters/Taskl'], 'bigLetter': 'h', 'smallLetter': 's', 'task': 'l'}\n",
      "Not setting metadata\n",
      "51 matching events found\n",
      "No baseline correction applied\n"
     ]
    },
    {
     "name": "stderr",
     "output_type": "stream",
     "text": [
      "c:\\Users\\jz421\\Desktop\\GlobalLocal\\src\\analysis\\utils\\general_utils.py:424: RuntimeWarning: Concatenation of Annotations within Epochs is not supported yet. All annotations will be dropped.\n",
      "  event_epochs = mne.concatenate_epochs(combined_epochs)\n"
     ]
    },
    {
     "name": "stdout",
     "output_type": "stream",
     "text": [
      "    Original shape: (51, 226, 641)\n",
      "    Trials with all NaN values: 0\n",
      "    Average NaN count per trial: 1508.2\n",
      "    Max NaN count in a trial: 18589\n",
      "    Stimulus_bigHsmallStaskL: 51 valid trials out of 51\n",
      "  Loading condition: Stimulus_bigSsmallHtaskG with parameters: {'BIDS_events': ['Stimulus/BigLetters/SmallLetterh/Taskg'], 'bigLetter': 's', 'smallLetter': 'h', 'task': 'g'}\n",
      "Not setting metadata\n",
      "53 matching events found\n",
      "No baseline correction applied\n"
     ]
    },
    {
     "name": "stderr",
     "output_type": "stream",
     "text": [
      "c:\\Users\\jz421\\Desktop\\GlobalLocal\\src\\analysis\\utils\\general_utils.py:424: RuntimeWarning: Concatenation of Annotations within Epochs is not supported yet. All annotations will be dropped.\n",
      "  event_epochs = mne.concatenate_epochs(combined_epochs)\n"
     ]
    },
    {
     "name": "stdout",
     "output_type": "stream",
     "text": [
      "    Original shape: (53, 226, 641)\n",
      "    Trials with all NaN values: 0\n",
      "    Average NaN count per trial: 1366.7\n",
      "    Max NaN count in a trial: 17948\n",
      "    Stimulus_bigSsmallHtaskG: 53 valid trials out of 53\n",
      "  Loading condition: Stimulus_bigSsmallHtaskL with parameters: {'BIDS_events': ['Stimulus/BigLetters/SmallLetterh/Taskl'], 'bigLetter': 's', 'smallLetter': 'h', 'task': 'l'}\n",
      "Not setting metadata\n",
      "60 matching events found\n",
      "No baseline correction applied\n"
     ]
    },
    {
     "name": "stderr",
     "output_type": "stream",
     "text": [
      "c:\\Users\\jz421\\Desktop\\GlobalLocal\\src\\analysis\\utils\\general_utils.py:424: RuntimeWarning: Concatenation of Annotations within Epochs is not supported yet. All annotations will be dropped.\n",
      "  event_epochs = mne.concatenate_epochs(combined_epochs)\n"
     ]
    },
    {
     "name": "stdout",
     "output_type": "stream",
     "text": [
      "    Original shape: (60, 226, 641)\n",
      "    Trials with all NaN values: 0\n",
      "    Average NaN count per trial: 1292.7\n",
      "    Max NaN count in a trial: 20512\n",
      "    Stimulus_bigSsmallHtaskL: 60 valid trials out of 60\n",
      "  Loading condition: Stimulus_bigSsmallStaskG with parameters: {'BIDS_events': ['Stimulus/BigLetters/SmallLetters/Taskg'], 'bigLetter': 's', 'smallLetter': 's', 'task': 'g'}\n",
      "Not setting metadata\n",
      "55 matching events found\n",
      "No baseline correction applied\n"
     ]
    },
    {
     "name": "stderr",
     "output_type": "stream",
     "text": [
      "c:\\Users\\jz421\\Desktop\\GlobalLocal\\src\\analysis\\utils\\general_utils.py:424: RuntimeWarning: Concatenation of Annotations within Epochs is not supported yet. All annotations will be dropped.\n",
      "  event_epochs = mne.concatenate_epochs(combined_epochs)\n"
     ]
    },
    {
     "name": "stdout",
     "output_type": "stream",
     "text": [
      "    Original shape: (55, 226, 641)\n",
      "    Trials with all NaN values: 0\n",
      "    Average NaN count per trial: 955.7\n",
      "    Max NaN count in a trial: 16025\n",
      "    Stimulus_bigSsmallStaskG: 55 valid trials out of 55\n",
      "  Loading condition: Stimulus_bigSsmallStaskL with parameters: {'BIDS_events': ['Stimulus/BigLetters/SmallLetters/Taskl'], 'bigLetter': 's', 'smallLetter': 's', 'task': 'l'}\n",
      "Not setting metadata\n",
      "58 matching events found\n",
      "No baseline correction applied\n"
     ]
    },
    {
     "name": "stderr",
     "output_type": "stream",
     "text": [
      "c:\\Users\\jz421\\Desktop\\GlobalLocal\\src\\analysis\\utils\\general_utils.py:424: RuntimeWarning: Concatenation of Annotations within Epochs is not supported yet. All annotations will be dropped.\n",
      "  event_epochs = mne.concatenate_epochs(combined_epochs)\n"
     ]
    },
    {
     "name": "stdout",
     "output_type": "stream",
     "text": [
      "    Original shape: (58, 226, 641)\n",
      "    Trials with all NaN values: 0\n",
      "    Average NaN count per trial: 541.5\n",
      "    Max NaN count in a trial: 15384\n",
      "    Stimulus_bigSsmallStaskL: 58 valid trials out of 58\n",
      "  Loading condition: Stimulus_bigHsmallHtaskG with parameters: {'BIDS_events': ['Stimulus/BigLetterh/SmallLetterh/Taskg'], 'bigLetter': 'h', 'smallLetter': 'h', 'task': 'g'}\n",
      "Not setting metadata\n",
      "56 matching events found\n",
      "No baseline correction applied\n"
     ]
    },
    {
     "name": "stderr",
     "output_type": "stream",
     "text": [
      "c:\\Users\\jz421\\Desktop\\GlobalLocal\\src\\analysis\\utils\\general_utils.py:424: RuntimeWarning: Concatenation of Annotations within Epochs is not supported yet. All annotations will be dropped.\n",
      "  event_epochs = mne.concatenate_epochs(combined_epochs)\n"
     ]
    },
    {
     "name": "stdout",
     "output_type": "stream",
     "text": [
      "    Original shape: (56, 226, 641)\n",
      "    Trials with all NaN values: 0\n",
      "    Average NaN count per trial: 1362.1\n",
      "    Max NaN count in a trial: 18589\n",
      "    Stimulus_bigHsmallHtaskG: 56 valid trials out of 56\n",
      "  Loading condition: Stimulus_bigHsmallHtaskL with parameters: {'BIDS_events': ['Stimulus/BigLetterh/SmallLetterh/Taskl'], 'bigLetter': 'h', 'smallLetter': 'h', 'task': 'l'}\n",
      "Not setting metadata\n",
      "51 matching events found\n",
      "No baseline correction applied\n"
     ]
    },
    {
     "name": "stderr",
     "output_type": "stream",
     "text": [
      "c:\\Users\\jz421\\Desktop\\GlobalLocal\\src\\analysis\\utils\\general_utils.py:424: RuntimeWarning: Concatenation of Annotations within Epochs is not supported yet. All annotations will be dropped.\n",
      "  event_epochs = mne.concatenate_epochs(combined_epochs)\n"
     ]
    },
    {
     "name": "stdout",
     "output_type": "stream",
     "text": [
      "    Original shape: (51, 226, 641)\n",
      "    Trials with all NaN values: 0\n",
      "    Average NaN count per trial: 1960.7\n",
      "    Max NaN count in a trial: 23717\n",
      "    Stimulus_bigHsmallHtaskL: 51 valid trials out of 51\n",
      "  Loading condition: Stimulus_bigHsmallStaskG with parameters: {'BIDS_events': ['Stimulus/BigLetterh/SmallLetters/Taskg'], 'bigLetter': 'h', 'smallLetter': 's', 'task': 'g'}\n",
      "Not setting metadata\n",
      "55 matching events found\n",
      "No baseline correction applied\n"
     ]
    },
    {
     "name": "stderr",
     "output_type": "stream",
     "text": [
      "c:\\Users\\jz421\\Desktop\\GlobalLocal\\src\\analysis\\utils\\general_utils.py:424: RuntimeWarning: Concatenation of Annotations within Epochs is not supported yet. All annotations will be dropped.\n",
      "  event_epochs = mne.concatenate_epochs(combined_epochs)\n"
     ]
    },
    {
     "name": "stdout",
     "output_type": "stream",
     "text": [
      "    Original shape: (55, 226, 641)\n",
      "    Trials with all NaN values: 0\n",
      "    Average NaN count per trial: 454.5\n",
      "    Max NaN count in a trial: 8974\n",
      "    Stimulus_bigHsmallStaskG: 55 valid trials out of 55\n",
      "  Loading condition: Stimulus_bigHsmallStaskL with parameters: {'BIDS_events': ['Stimulus/BigLetterh/SmallLetters/Taskl'], 'bigLetter': 'h', 'smallLetter': 's', 'task': 'l'}\n",
      "Not setting metadata\n",
      "51 matching events found\n",
      "No baseline correction applied\n"
     ]
    },
    {
     "name": "stderr",
     "output_type": "stream",
     "text": [
      "c:\\Users\\jz421\\Desktop\\GlobalLocal\\src\\analysis\\utils\\general_utils.py:424: RuntimeWarning: Concatenation of Annotations within Epochs is not supported yet. All annotations will be dropped.\n",
      "  event_epochs = mne.concatenate_epochs(combined_epochs)\n"
     ]
    },
    {
     "name": "stdout",
     "output_type": "stream",
     "text": [
      "    Original shape: (51, 226, 641)\n",
      "    Trials with all NaN values: 0\n",
      "    Average NaN count per trial: 1508.2\n",
      "    Max NaN count in a trial: 18589\n",
      "    Stimulus_bigHsmallStaskL: 51 valid trials out of 51\n",
      "Loading data for subject: D0116\n",
      "Reading C:\\Users\\jz421\\Box\\CoganLab\\BIDS-1.1_GlobalLocal\\BIDS\\derivatives\\freqFilt\\figs\\D0116\\D0116_Stimulus_0.5sec_within1sec_randoffset_preStimulusBase_decFactor_8_outliers_10_passband_70.0-150.0_padLength_0.5s_stat_func_ttest_ind_equal_var_False_HG_ev1_rescaled-epo.fif ...\n",
      "    Found the data of interest:\n",
      "        t =   -1000.00 ...    1500.00 ms\n",
      "        0 CTF compensation matrices available\n",
      "Not setting metadata\n",
      "448 matching events found\n",
      "No baseline correction applied\n",
      "0 projection items activated\n",
      "Reading C:\\Users\\jz421\\Box\\CoganLab\\BIDS-1.1_GlobalLocal\\BIDS\\derivatives\\freqFilt\\figs\\D0116\\D0116_Stimulus_0.5sec_within1sec_randoffset_preStimulusBase_decFactor_8_outliers_10_passband_70.0-150.0_padLength_0.5s_stat_func_ttest_ind_equal_var_False_HG_ev1_power_rescaled-epo.fif ...\n",
      "    Found the data of interest:\n",
      "        t =   -1000.00 ...    1500.00 ms\n",
      "        0 CTF compensation matrices available\n",
      "Not setting metadata\n",
      "448 matching events found\n",
      "No baseline correction applied\n",
      "0 projection items activated\n",
      "  Loading condition: Stimulus_bigSsmallHtaskG with parameters: {'BIDS_events': ['Stimulus/BigLetters/SmallLetterh/Taskg'], 'bigLetter': 's', 'smallLetter': 'h', 'task': 'g'}\n",
      "Not setting metadata\n",
      "46 matching events found\n",
      "No baseline correction applied\n"
     ]
    },
    {
     "name": "stderr",
     "output_type": "stream",
     "text": [
      "c:\\Users\\jz421\\Desktop\\GlobalLocal\\src\\analysis\\utils\\general_utils.py:424: RuntimeWarning: Concatenation of Annotations within Epochs is not supported yet. All annotations will be dropped.\n",
      "  event_epochs = mne.concatenate_epochs(combined_epochs)\n"
     ]
    },
    {
     "name": "stdout",
     "output_type": "stream",
     "text": [
      "    Original shape: (46, 219, 641)\n",
      "    Trials with all NaN values: 0\n",
      "    Average NaN count per trial: 850.0\n",
      "    Max NaN count in a trial: 7051\n",
      "    Stimulus_bigSsmallHtaskG: 46 valid trials out of 46\n",
      "  Loading condition: Stimulus_bigSsmallHtaskL with parameters: {'BIDS_events': ['Stimulus/BigLetters/SmallLetterh/Taskl'], 'bigLetter': 's', 'smallLetter': 'h', 'task': 'l'}\n",
      "Not setting metadata\n",
      "39 matching events found\n",
      "No baseline correction applied\n"
     ]
    },
    {
     "name": "stderr",
     "output_type": "stream",
     "text": [
      "c:\\Users\\jz421\\Desktop\\GlobalLocal\\src\\analysis\\utils\\general_utils.py:424: RuntimeWarning: Concatenation of Annotations within Epochs is not supported yet. All annotations will be dropped.\n",
      "  event_epochs = mne.concatenate_epochs(combined_epochs)\n"
     ]
    },
    {
     "name": "stdout",
     "output_type": "stream",
     "text": [
      "    Original shape: (39, 219, 641)\n",
      "    Trials with all NaN values: 0\n",
      "    Average NaN count per trial: 542.4\n",
      "    Max NaN count in a trial: 5128\n",
      "    Stimulus_bigSsmallHtaskL: 39 valid trials out of 39\n",
      "  Loading condition: Stimulus_bigSsmallStaskG with parameters: {'BIDS_events': ['Stimulus/BigLetters/SmallLetters/Taskg'], 'bigLetter': 's', 'smallLetter': 's', 'task': 'g'}\n",
      "Not setting metadata\n",
      "51 matching events found\n",
      "No baseline correction applied\n"
     ]
    },
    {
     "name": "stderr",
     "output_type": "stream",
     "text": [
      "c:\\Users\\jz421\\Desktop\\GlobalLocal\\src\\analysis\\utils\\general_utils.py:424: RuntimeWarning: Concatenation of Annotations within Epochs is not supported yet. All annotations will be dropped.\n",
      "  event_epochs = mne.concatenate_epochs(combined_epochs)\n"
     ]
    },
    {
     "name": "stdout",
     "output_type": "stream",
     "text": [
      "    Original shape: (51, 219, 641)\n",
      "    Trials with all NaN values: 0\n",
      "    Average NaN count per trial: 553.0\n",
      "    Max NaN count in a trial: 2564\n",
      "    Stimulus_bigSsmallStaskG: 51 valid trials out of 51\n",
      "  Loading condition: Stimulus_bigSsmallStaskL with parameters: {'BIDS_events': ['Stimulus/BigLetters/SmallLetters/Taskl'], 'bigLetter': 's', 'smallLetter': 's', 'task': 'l'}\n",
      "Not setting metadata\n",
      "59 matching events found\n",
      "No baseline correction applied\n"
     ]
    },
    {
     "name": "stderr",
     "output_type": "stream",
     "text": [
      "c:\\Users\\jz421\\Desktop\\GlobalLocal\\src\\analysis\\utils\\general_utils.py:424: RuntimeWarning: Concatenation of Annotations within Epochs is not supported yet. All annotations will be dropped.\n",
      "  event_epochs = mne.concatenate_epochs(combined_epochs)\n"
     ]
    },
    {
     "name": "stdout",
     "output_type": "stream",
     "text": [
      "    Original shape: (59, 219, 641)\n",
      "    Trials with all NaN values: 0\n",
      "    Average NaN count per trial: 706.2\n",
      "    Max NaN count in a trial: 6410\n",
      "    Stimulus_bigSsmallStaskL: 59 valid trials out of 59\n",
      "  Loading condition: Stimulus_bigHsmallHtaskG with parameters: {'BIDS_events': ['Stimulus/BigLetterh/SmallLetterh/Taskg'], 'bigLetter': 'h', 'smallLetter': 'h', 'task': 'g'}\n",
      "Not setting metadata\n",
      "54 matching events found\n",
      "No baseline correction applied\n"
     ]
    },
    {
     "name": "stderr",
     "output_type": "stream",
     "text": [
      "c:\\Users\\jz421\\Desktop\\GlobalLocal\\src\\analysis\\utils\\general_utils.py:424: RuntimeWarning: Concatenation of Annotations within Epochs is not supported yet. All annotations will be dropped.\n",
      "  event_epochs = mne.concatenate_epochs(combined_epochs)\n"
     ]
    },
    {
     "name": "stdout",
     "output_type": "stream",
     "text": [
      "    Original shape: (54, 219, 641)\n",
      "    Trials with all NaN values: 0\n",
      "    Average NaN count per trial: 1080.2\n",
      "    Max NaN count in a trial: 5128\n",
      "    Stimulus_bigHsmallHtaskG: 54 valid trials out of 54\n",
      "  Loading condition: Stimulus_bigHsmallHtaskL with parameters: {'BIDS_events': ['Stimulus/BigLetterh/SmallLetterh/Taskl'], 'bigLetter': 'h', 'smallLetter': 'h', 'task': 'l'}\n",
      "Not setting metadata\n",
      "58 matching events found\n",
      "No baseline correction applied\n"
     ]
    },
    {
     "name": "stderr",
     "output_type": "stream",
     "text": [
      "c:\\Users\\jz421\\Desktop\\GlobalLocal\\src\\analysis\\utils\\general_utils.py:424: RuntimeWarning: Concatenation of Annotations within Epochs is not supported yet. All annotations will be dropped.\n",
      "  event_epochs = mne.concatenate_epochs(combined_epochs)\n"
     ]
    },
    {
     "name": "stdout",
     "output_type": "stream",
     "text": [
      "    Original shape: (58, 219, 641)\n",
      "    Trials with all NaN values: 0\n",
      "    Average NaN count per trial: 475.2\n",
      "    Max NaN count in a trial: 1923\n",
      "    Stimulus_bigHsmallHtaskL: 58 valid trials out of 58\n",
      "  Loading condition: Stimulus_bigHsmallStaskG with parameters: {'BIDS_events': ['Stimulus/BigLetterh/SmallLetters/Taskg'], 'bigLetter': 'h', 'smallLetter': 's', 'task': 'g'}\n",
      "Not setting metadata\n",
      "51 matching events found\n",
      "No baseline correction applied\n"
     ]
    },
    {
     "name": "stderr",
     "output_type": "stream",
     "text": [
      "c:\\Users\\jz421\\Desktop\\GlobalLocal\\src\\analysis\\utils\\general_utils.py:424: RuntimeWarning: Concatenation of Annotations within Epochs is not supported yet. All annotations will be dropped.\n",
      "  event_epochs = mne.concatenate_epochs(combined_epochs)\n"
     ]
    },
    {
     "name": "stdout",
     "output_type": "stream",
     "text": [
      "    Original shape: (51, 219, 641)\n",
      "    Trials with all NaN values: 0\n",
      "    Average NaN count per trial: 703.8\n",
      "    Max NaN count in a trial: 10256\n",
      "    Stimulus_bigHsmallStaskG: 51 valid trials out of 51\n",
      "  Loading condition: Stimulus_bigHsmallStaskL with parameters: {'BIDS_events': ['Stimulus/BigLetterh/SmallLetters/Taskl'], 'bigLetter': 'h', 'smallLetter': 's', 'task': 'l'}\n",
      "Not setting metadata\n",
      "52 matching events found\n",
      "No baseline correction applied\n"
     ]
    },
    {
     "name": "stderr",
     "output_type": "stream",
     "text": [
      "c:\\Users\\jz421\\Desktop\\GlobalLocal\\src\\analysis\\utils\\general_utils.py:424: RuntimeWarning: Concatenation of Annotations within Epochs is not supported yet. All annotations will be dropped.\n",
      "  event_epochs = mne.concatenate_epochs(combined_epochs)\n"
     ]
    },
    {
     "name": "stdout",
     "output_type": "stream",
     "text": [
      "    Original shape: (52, 219, 641)\n",
      "    Trials with all NaN values: 0\n",
      "    Average NaN count per trial: 369.8\n",
      "    Max NaN count in a trial: 3205\n",
      "    Stimulus_bigHsmallStaskL: 52 valid trials out of 52\n",
      "  Loading condition: Stimulus_bigSsmallHtaskG with parameters: {'BIDS_events': ['Stimulus/BigLetters/SmallLetterh/Taskg'], 'bigLetter': 's', 'smallLetter': 'h', 'task': 'g'}\n",
      "Not setting metadata\n",
      "46 matching events found\n",
      "No baseline correction applied\n"
     ]
    },
    {
     "name": "stderr",
     "output_type": "stream",
     "text": [
      "c:\\Users\\jz421\\Desktop\\GlobalLocal\\src\\analysis\\utils\\general_utils.py:424: RuntimeWarning: Concatenation of Annotations within Epochs is not supported yet. All annotations will be dropped.\n",
      "  event_epochs = mne.concatenate_epochs(combined_epochs)\n"
     ]
    },
    {
     "name": "stdout",
     "output_type": "stream",
     "text": [
      "    Original shape: (46, 219, 641)\n",
      "    Trials with all NaN values: 0\n",
      "    Average NaN count per trial: 850.0\n",
      "    Max NaN count in a trial: 7051\n",
      "    Stimulus_bigSsmallHtaskG: 46 valid trials out of 46\n",
      "  Loading condition: Stimulus_bigSsmallHtaskL with parameters: {'BIDS_events': ['Stimulus/BigLetters/SmallLetterh/Taskl'], 'bigLetter': 's', 'smallLetter': 'h', 'task': 'l'}\n",
      "Not setting metadata\n",
      "39 matching events found\n",
      "No baseline correction applied\n"
     ]
    },
    {
     "name": "stderr",
     "output_type": "stream",
     "text": [
      "c:\\Users\\jz421\\Desktop\\GlobalLocal\\src\\analysis\\utils\\general_utils.py:424: RuntimeWarning: Concatenation of Annotations within Epochs is not supported yet. All annotations will be dropped.\n",
      "  event_epochs = mne.concatenate_epochs(combined_epochs)\n"
     ]
    },
    {
     "name": "stdout",
     "output_type": "stream",
     "text": [
      "    Original shape: (39, 219, 641)\n",
      "    Trials with all NaN values: 0\n",
      "    Average NaN count per trial: 542.4\n",
      "    Max NaN count in a trial: 5128\n",
      "    Stimulus_bigSsmallHtaskL: 39 valid trials out of 39\n",
      "  Loading condition: Stimulus_bigSsmallStaskG with parameters: {'BIDS_events': ['Stimulus/BigLetters/SmallLetters/Taskg'], 'bigLetter': 's', 'smallLetter': 's', 'task': 'g'}\n",
      "Not setting metadata\n",
      "51 matching events found\n",
      "No baseline correction applied\n"
     ]
    },
    {
     "name": "stderr",
     "output_type": "stream",
     "text": [
      "c:\\Users\\jz421\\Desktop\\GlobalLocal\\src\\analysis\\utils\\general_utils.py:424: RuntimeWarning: Concatenation of Annotations within Epochs is not supported yet. All annotations will be dropped.\n",
      "  event_epochs = mne.concatenate_epochs(combined_epochs)\n"
     ]
    },
    {
     "name": "stdout",
     "output_type": "stream",
     "text": [
      "    Original shape: (51, 219, 641)\n",
      "    Trials with all NaN values: 0\n",
      "    Average NaN count per trial: 553.0\n",
      "    Max NaN count in a trial: 2564\n",
      "    Stimulus_bigSsmallStaskG: 51 valid trials out of 51\n",
      "  Loading condition: Stimulus_bigSsmallStaskL with parameters: {'BIDS_events': ['Stimulus/BigLetters/SmallLetters/Taskl'], 'bigLetter': 's', 'smallLetter': 's', 'task': 'l'}\n",
      "Not setting metadata\n",
      "59 matching events found\n",
      "No baseline correction applied\n"
     ]
    },
    {
     "name": "stderr",
     "output_type": "stream",
     "text": [
      "c:\\Users\\jz421\\Desktop\\GlobalLocal\\src\\analysis\\utils\\general_utils.py:424: RuntimeWarning: Concatenation of Annotations within Epochs is not supported yet. All annotations will be dropped.\n",
      "  event_epochs = mne.concatenate_epochs(combined_epochs)\n"
     ]
    },
    {
     "name": "stdout",
     "output_type": "stream",
     "text": [
      "    Original shape: (59, 219, 641)\n",
      "    Trials with all NaN values: 0\n",
      "    Average NaN count per trial: 706.2\n",
      "    Max NaN count in a trial: 6410\n",
      "    Stimulus_bigSsmallStaskL: 59 valid trials out of 59\n",
      "  Loading condition: Stimulus_bigHsmallHtaskG with parameters: {'BIDS_events': ['Stimulus/BigLetterh/SmallLetterh/Taskg'], 'bigLetter': 'h', 'smallLetter': 'h', 'task': 'g'}\n",
      "Not setting metadata\n",
      "54 matching events found\n",
      "No baseline correction applied\n"
     ]
    },
    {
     "name": "stderr",
     "output_type": "stream",
     "text": [
      "c:\\Users\\jz421\\Desktop\\GlobalLocal\\src\\analysis\\utils\\general_utils.py:424: RuntimeWarning: Concatenation of Annotations within Epochs is not supported yet. All annotations will be dropped.\n",
      "  event_epochs = mne.concatenate_epochs(combined_epochs)\n"
     ]
    },
    {
     "name": "stdout",
     "output_type": "stream",
     "text": [
      "    Original shape: (54, 219, 641)\n",
      "    Trials with all NaN values: 0\n",
      "    Average NaN count per trial: 1080.2\n",
      "    Max NaN count in a trial: 5128\n",
      "    Stimulus_bigHsmallHtaskG: 54 valid trials out of 54\n",
      "  Loading condition: Stimulus_bigHsmallHtaskL with parameters: {'BIDS_events': ['Stimulus/BigLetterh/SmallLetterh/Taskl'], 'bigLetter': 'h', 'smallLetter': 'h', 'task': 'l'}\n",
      "Not setting metadata\n",
      "58 matching events found\n",
      "No baseline correction applied\n"
     ]
    },
    {
     "name": "stderr",
     "output_type": "stream",
     "text": [
      "c:\\Users\\jz421\\Desktop\\GlobalLocal\\src\\analysis\\utils\\general_utils.py:424: RuntimeWarning: Concatenation of Annotations within Epochs is not supported yet. All annotations will be dropped.\n",
      "  event_epochs = mne.concatenate_epochs(combined_epochs)\n"
     ]
    },
    {
     "name": "stdout",
     "output_type": "stream",
     "text": [
      "    Original shape: (58, 219, 641)\n",
      "    Trials with all NaN values: 0\n",
      "    Average NaN count per trial: 475.2\n",
      "    Max NaN count in a trial: 1923\n",
      "    Stimulus_bigHsmallHtaskL: 58 valid trials out of 58\n",
      "  Loading condition: Stimulus_bigHsmallStaskG with parameters: {'BIDS_events': ['Stimulus/BigLetterh/SmallLetters/Taskg'], 'bigLetter': 'h', 'smallLetter': 's', 'task': 'g'}\n",
      "Not setting metadata\n",
      "51 matching events found\n",
      "No baseline correction applied\n"
     ]
    },
    {
     "name": "stderr",
     "output_type": "stream",
     "text": [
      "c:\\Users\\jz421\\Desktop\\GlobalLocal\\src\\analysis\\utils\\general_utils.py:424: RuntimeWarning: Concatenation of Annotations within Epochs is not supported yet. All annotations will be dropped.\n",
      "  event_epochs = mne.concatenate_epochs(combined_epochs)\n"
     ]
    },
    {
     "name": "stdout",
     "output_type": "stream",
     "text": [
      "    Original shape: (51, 219, 641)\n",
      "    Trials with all NaN values: 0\n",
      "    Average NaN count per trial: 703.8\n",
      "    Max NaN count in a trial: 10256\n",
      "    Stimulus_bigHsmallStaskG: 51 valid trials out of 51\n",
      "  Loading condition: Stimulus_bigHsmallStaskL with parameters: {'BIDS_events': ['Stimulus/BigLetterh/SmallLetters/Taskl'], 'bigLetter': 'h', 'smallLetter': 's', 'task': 'l'}\n",
      "Not setting metadata\n",
      "52 matching events found\n",
      "No baseline correction applied\n"
     ]
    },
    {
     "name": "stderr",
     "output_type": "stream",
     "text": [
      "c:\\Users\\jz421\\Desktop\\GlobalLocal\\src\\analysis\\utils\\general_utils.py:424: RuntimeWarning: Concatenation of Annotations within Epochs is not supported yet. All annotations will be dropped.\n",
      "  event_epochs = mne.concatenate_epochs(combined_epochs)\n"
     ]
    },
    {
     "name": "stdout",
     "output_type": "stream",
     "text": [
      "    Original shape: (52, 219, 641)\n",
      "    Trials with all NaN values: 0\n",
      "    Average NaN count per trial: 369.8\n",
      "    Max NaN count in a trial: 3205\n",
      "    Stimulus_bigHsmallStaskL: 52 valid trials out of 52\n",
      "Loading data for subject: D0117\n",
      "Reading C:\\Users\\jz421\\Box\\CoganLab\\BIDS-1.1_GlobalLocal\\BIDS\\derivatives\\freqFilt\\figs\\D0117\\D0117_Stimulus_0.5sec_within1sec_randoffset_preStimulusBase_decFactor_8_outliers_10_passband_70.0-150.0_padLength_0.5s_stat_func_ttest_ind_equal_var_False_HG_ev1_rescaled-epo.fif ...\n",
      "    Found the data of interest:\n",
      "        t =   -1000.00 ...    1500.00 ms\n",
      "        0 CTF compensation matrices available\n",
      "Not setting metadata\n",
      "448 matching events found\n",
      "No baseline correction applied\n",
      "0 projection items activated\n",
      "Reading C:\\Users\\jz421\\Box\\CoganLab\\BIDS-1.1_GlobalLocal\\BIDS\\derivatives\\freqFilt\\figs\\D0117\\D0117_Stimulus_0.5sec_within1sec_randoffset_preStimulusBase_decFactor_8_outliers_10_passband_70.0-150.0_padLength_0.5s_stat_func_ttest_ind_equal_var_False_HG_ev1_power_rescaled-epo.fif ...\n",
      "    Found the data of interest:\n",
      "        t =   -1000.00 ...    1500.00 ms\n",
      "        0 CTF compensation matrices available\n",
      "Not setting metadata\n",
      "448 matching events found\n",
      "No baseline correction applied\n",
      "0 projection items activated\n",
      "  Loading condition: Stimulus_bigSsmallHtaskG with parameters: {'BIDS_events': ['Stimulus/BigLetters/SmallLetterh/Taskg'], 'bigLetter': 's', 'smallLetter': 'h', 'task': 'g'}\n",
      "Not setting metadata\n",
      "29 matching events found\n",
      "No baseline correction applied\n"
     ]
    },
    {
     "name": "stderr",
     "output_type": "stream",
     "text": [
      "c:\\Users\\jz421\\Desktop\\GlobalLocal\\src\\analysis\\utils\\general_utils.py:424: RuntimeWarning: Concatenation of Annotations within Epochs is not supported yet. All annotations will be dropped.\n",
      "  event_epochs = mne.concatenate_epochs(combined_epochs)\n"
     ]
    },
    {
     "name": "stdout",
     "output_type": "stream",
     "text": [
      "    Original shape: (29, 196, 641)\n",
      "    Trials with all NaN values: 0\n",
      "    Average NaN count per trial: 1348.3\n",
      "    Max NaN count in a trial: 9615\n",
      "    Stimulus_bigSsmallHtaskG: 29 valid trials out of 29\n",
      "  Loading condition: Stimulus_bigSsmallHtaskL with parameters: {'BIDS_events': ['Stimulus/BigLetters/SmallLetterh/Taskl'], 'bigLetter': 's', 'smallLetter': 'h', 'task': 'l'}\n",
      "Not setting metadata\n",
      "25 matching events found\n",
      "No baseline correction applied\n"
     ]
    },
    {
     "name": "stderr",
     "output_type": "stream",
     "text": [
      "c:\\Users\\jz421\\Desktop\\GlobalLocal\\src\\analysis\\utils\\general_utils.py:424: RuntimeWarning: Concatenation of Annotations within Epochs is not supported yet. All annotations will be dropped.\n",
      "  event_epochs = mne.concatenate_epochs(combined_epochs)\n"
     ]
    },
    {
     "name": "stdout",
     "output_type": "stream",
     "text": [
      "    Original shape: (25, 196, 641)\n",
      "    Trials with all NaN values: 0\n",
      "    Average NaN count per trial: 1487.1\n",
      "    Max NaN count in a trial: 12179\n",
      "    Stimulus_bigSsmallHtaskL: 25 valid trials out of 25\n",
      "  Loading condition: Stimulus_bigSsmallStaskG with parameters: {'BIDS_events': ['Stimulus/BigLetters/SmallLetters/Taskg'], 'bigLetter': 's', 'smallLetter': 's', 'task': 'g'}\n",
      "Not setting metadata\n",
      "36 matching events found\n",
      "No baseline correction applied\n"
     ]
    },
    {
     "name": "stderr",
     "output_type": "stream",
     "text": [
      "c:\\Users\\jz421\\Desktop\\GlobalLocal\\src\\analysis\\utils\\general_utils.py:424: RuntimeWarning: Concatenation of Annotations within Epochs is not supported yet. All annotations will be dropped.\n",
      "  event_epochs = mne.concatenate_epochs(combined_epochs)\n"
     ]
    },
    {
     "name": "stdout",
     "output_type": "stream",
     "text": [
      "    Original shape: (36, 196, 641)\n",
      "    Trials with all NaN values: 0\n",
      "    Average NaN count per trial: 1228.6\n",
      "    Max NaN count in a trial: 16025\n",
      "    Stimulus_bigSsmallStaskG: 36 valid trials out of 36\n",
      "  Loading condition: Stimulus_bigSsmallStaskL with parameters: {'BIDS_events': ['Stimulus/BigLetters/SmallLetters/Taskl'], 'bigLetter': 's', 'smallLetter': 's', 'task': 'l'}\n",
      "Not setting metadata\n",
      "39 matching events found\n"
     ]
    },
    {
     "name": "stderr",
     "output_type": "stream",
     "text": [
      "c:\\Users\\jz421\\Desktop\\GlobalLocal\\src\\analysis\\utils\\general_utils.py:424: RuntimeWarning: Concatenation of Annotations within Epochs is not supported yet. All annotations will be dropped.\n",
      "  event_epochs = mne.concatenate_epochs(combined_epochs)\n"
     ]
    },
    {
     "name": "stdout",
     "output_type": "stream",
     "text": [
      "No baseline correction applied\n",
      "    Original shape: (39, 196, 641)\n",
      "    Trials with all NaN values: 0\n",
      "    Average NaN count per trial: 904.0\n",
      "    Max NaN count in a trial: 3846\n",
      "    Stimulus_bigSsmallStaskL: 39 valid trials out of 39\n",
      "  Loading condition: Stimulus_bigHsmallHtaskG with parameters: {'BIDS_events': ['Stimulus/BigLetterh/SmallLetterh/Taskg'], 'bigLetter': 'h', 'smallLetter': 'h', 'task': 'g'}\n",
      "Not setting metadata\n",
      "44 matching events found\n",
      "No baseline correction applied\n"
     ]
    },
    {
     "name": "stderr",
     "output_type": "stream",
     "text": [
      "c:\\Users\\jz421\\Desktop\\GlobalLocal\\src\\analysis\\utils\\general_utils.py:424: RuntimeWarning: Concatenation of Annotations within Epochs is not supported yet. All annotations will be dropped.\n",
      "  event_epochs = mne.concatenate_epochs(combined_epochs)\n"
     ]
    },
    {
     "name": "stdout",
     "output_type": "stream",
     "text": [
      "    Original shape: (44, 196, 641)\n",
      "    Trials with all NaN values: 0\n",
      "    Average NaN count per trial: 1704.5\n",
      "    Max NaN count in a trial: 17948\n",
      "    Stimulus_bigHsmallHtaskG: 44 valid trials out of 44\n",
      "  Loading condition: Stimulus_bigHsmallHtaskL with parameters: {'BIDS_events': ['Stimulus/BigLetterh/SmallLetterh/Taskl'], 'bigLetter': 'h', 'smallLetter': 'h', 'task': 'l'}\n",
      "Not setting metadata\n",
      "43 matching events found\n",
      "No baseline correction applied\n"
     ]
    },
    {
     "name": "stderr",
     "output_type": "stream",
     "text": [
      "c:\\Users\\jz421\\Desktop\\GlobalLocal\\src\\analysis\\utils\\general_utils.py:424: RuntimeWarning: Concatenation of Annotations within Epochs is not supported yet. All annotations will be dropped.\n",
      "  event_epochs = mne.concatenate_epochs(combined_epochs)\n"
     ]
    },
    {
     "name": "stdout",
     "output_type": "stream",
     "text": [
      "    Original shape: (43, 196, 641)\n",
      "    Trials with all NaN values: 0\n",
      "    Average NaN count per trial: 2921.8\n",
      "    Max NaN count in a trial: 54485\n",
      "    Stimulus_bigHsmallHtaskL: 43 valid trials out of 43\n",
      "  Loading condition: Stimulus_bigHsmallStaskG with parameters: {'BIDS_events': ['Stimulus/BigLetterh/SmallLetters/Taskg'], 'bigLetter': 'h', 'smallLetter': 's', 'task': 'g'}\n",
      "Not setting metadata\n",
      "34 matching events found\n",
      "No baseline correction applied\n"
     ]
    },
    {
     "name": "stderr",
     "output_type": "stream",
     "text": [
      "c:\\Users\\jz421\\Desktop\\GlobalLocal\\src\\analysis\\utils\\general_utils.py:424: RuntimeWarning: Concatenation of Annotations within Epochs is not supported yet. All annotations will be dropped.\n",
      "  event_epochs = mne.concatenate_epochs(combined_epochs)\n"
     ]
    },
    {
     "name": "stdout",
     "output_type": "stream",
     "text": [
      "    Original shape: (34, 196, 641)\n",
      "    Trials with all NaN values: 0\n",
      "    Average NaN count per trial: 1621.4\n",
      "    Max NaN count in a trial: 15384\n",
      "    Stimulus_bigHsmallStaskG: 34 valid trials out of 34\n",
      "  Loading condition: Stimulus_bigHsmallStaskL with parameters: {'BIDS_events': ['Stimulus/BigLetterh/SmallLetters/Taskl'], 'bigLetter': 'h', 'smallLetter': 's', 'task': 'l'}\n",
      "Not setting metadata\n",
      "33 matching events found\n",
      "No baseline correction applied\n"
     ]
    },
    {
     "name": "stderr",
     "output_type": "stream",
     "text": [
      "c:\\Users\\jz421\\Desktop\\GlobalLocal\\src\\analysis\\utils\\general_utils.py:424: RuntimeWarning: Concatenation of Annotations within Epochs is not supported yet. All annotations will be dropped.\n",
      "  event_epochs = mne.concatenate_epochs(combined_epochs)\n"
     ]
    },
    {
     "name": "stdout",
     "output_type": "stream",
     "text": [
      "    Original shape: (33, 196, 641)\n",
      "    Trials with all NaN values: 0\n",
      "    Average NaN count per trial: 1787.0\n",
      "    Max NaN count in a trial: 26922\n",
      "    Stimulus_bigHsmallStaskL: 33 valid trials out of 33\n",
      "  Loading condition: Stimulus_bigSsmallHtaskG with parameters: {'BIDS_events': ['Stimulus/BigLetters/SmallLetterh/Taskg'], 'bigLetter': 's', 'smallLetter': 'h', 'task': 'g'}\n",
      "Not setting metadata\n",
      "29 matching events found\n",
      "No baseline correction applied\n"
     ]
    },
    {
     "name": "stderr",
     "output_type": "stream",
     "text": [
      "c:\\Users\\jz421\\Desktop\\GlobalLocal\\src\\analysis\\utils\\general_utils.py:424: RuntimeWarning: Concatenation of Annotations within Epochs is not supported yet. All annotations will be dropped.\n",
      "  event_epochs = mne.concatenate_epochs(combined_epochs)\n"
     ]
    },
    {
     "name": "stdout",
     "output_type": "stream",
     "text": [
      "    Original shape: (29, 196, 641)\n",
      "    Trials with all NaN values: 0\n",
      "    Average NaN count per trial: 1348.3\n",
      "    Max NaN count in a trial: 9615\n",
      "    Stimulus_bigSsmallHtaskG: 29 valid trials out of 29\n",
      "  Loading condition: Stimulus_bigSsmallHtaskL with parameters: {'BIDS_events': ['Stimulus/BigLetters/SmallLetterh/Taskl'], 'bigLetter': 's', 'smallLetter': 'h', 'task': 'l'}\n",
      "Not setting metadata\n",
      "25 matching events found\n",
      "No baseline correction applied\n",
      "    Original shape: (25, 196, 641)"
     ]
    },
    {
     "name": "stderr",
     "output_type": "stream",
     "text": [
      "c:\\Users\\jz421\\Desktop\\GlobalLocal\\src\\analysis\\utils\\general_utils.py:424: RuntimeWarning: Concatenation of Annotations within Epochs is not supported yet. All annotations will be dropped.\n",
      "  event_epochs = mne.concatenate_epochs(combined_epochs)\n"
     ]
    },
    {
     "name": "stdout",
     "output_type": "stream",
     "text": [
      "\n",
      "    Trials with all NaN values: 0\n",
      "    Average NaN count per trial: 1487.1\n",
      "    Max NaN count in a trial: 12179\n",
      "    Stimulus_bigSsmallHtaskL: 25 valid trials out of 25\n",
      "  Loading condition: Stimulus_bigSsmallStaskG with parameters: {'BIDS_events': ['Stimulus/BigLetters/SmallLetters/Taskg'], 'bigLetter': 's', 'smallLetter': 's', 'task': 'g'}\n",
      "Not setting metadata\n",
      "36 matching events found\n",
      "No baseline correction applied\n"
     ]
    },
    {
     "name": "stderr",
     "output_type": "stream",
     "text": [
      "c:\\Users\\jz421\\Desktop\\GlobalLocal\\src\\analysis\\utils\\general_utils.py:424: RuntimeWarning: Concatenation of Annotations within Epochs is not supported yet. All annotations will be dropped.\n",
      "  event_epochs = mne.concatenate_epochs(combined_epochs)\n"
     ]
    },
    {
     "name": "stdout",
     "output_type": "stream",
     "text": [
      "    Original shape: (36, 196, 641)\n",
      "    Trials with all NaN values: 0\n",
      "    Average NaN count per trial: 1228.6\n",
      "    Max NaN count in a trial: 16025\n",
      "    Stimulus_bigSsmallStaskG: 36 valid trials out of 36\n",
      "  Loading condition: Stimulus_bigSsmallStaskL with parameters: {'BIDS_events': ['Stimulus/BigLetters/SmallLetters/Taskl'], 'bigLetter': 's', 'smallLetter': 's', 'task': 'l'}\n",
      "Not setting metadata\n",
      "39 matching events found\n",
      "No baseline correction applied\n"
     ]
    },
    {
     "name": "stderr",
     "output_type": "stream",
     "text": [
      "c:\\Users\\jz421\\Desktop\\GlobalLocal\\src\\analysis\\utils\\general_utils.py:424: RuntimeWarning: Concatenation of Annotations within Epochs is not supported yet. All annotations will be dropped.\n",
      "  event_epochs = mne.concatenate_epochs(combined_epochs)\n"
     ]
    },
    {
     "name": "stdout",
     "output_type": "stream",
     "text": [
      "    Original shape: (39, 196, 641)\n",
      "    Trials with all NaN values: 0\n",
      "    Average NaN count per trial: 904.0\n",
      "    Max NaN count in a trial: 3846\n",
      "    Stimulus_bigSsmallStaskL: 39 valid trials out of 39\n",
      "  Loading condition: Stimulus_bigHsmallHtaskG with parameters: {'BIDS_events': ['Stimulus/BigLetterh/SmallLetterh/Taskg'], 'bigLetter': 'h', 'smallLetter': 'h', 'task': 'g'}\n",
      "Not setting metadata\n",
      "44 matching events found\n",
      "No baseline correction applied\n"
     ]
    },
    {
     "name": "stderr",
     "output_type": "stream",
     "text": [
      "c:\\Users\\jz421\\Desktop\\GlobalLocal\\src\\analysis\\utils\\general_utils.py:424: RuntimeWarning: Concatenation of Annotations within Epochs is not supported yet. All annotations will be dropped.\n",
      "  event_epochs = mne.concatenate_epochs(combined_epochs)\n"
     ]
    },
    {
     "name": "stdout",
     "output_type": "stream",
     "text": [
      "    Original shape: (44, 196, 641)\n",
      "    Trials with all NaN values: 0\n",
      "    Average NaN count per trial: 1704.5\n",
      "    Max NaN count in a trial: 17948\n",
      "    Stimulus_bigHsmallHtaskG: 44 valid trials out of 44\n",
      "  Loading condition: Stimulus_bigHsmallHtaskL with parameters: {'BIDS_events': ['Stimulus/BigLetterh/SmallLetterh/Taskl'], 'bigLetter': 'h', 'smallLetter': 'h', 'task': 'l'}\n",
      "Not setting metadata\n",
      "43 matching events found\n",
      "No baseline correction applied\n"
     ]
    },
    {
     "name": "stderr",
     "output_type": "stream",
     "text": [
      "c:\\Users\\jz421\\Desktop\\GlobalLocal\\src\\analysis\\utils\\general_utils.py:424: RuntimeWarning: Concatenation of Annotations within Epochs is not supported yet. All annotations will be dropped.\n",
      "  event_epochs = mne.concatenate_epochs(combined_epochs)\n"
     ]
    },
    {
     "name": "stdout",
     "output_type": "stream",
     "text": [
      "    Original shape: (43, 196, 641)\n",
      "    Trials with all NaN values: 0\n",
      "    Average NaN count per trial: 2921.8\n",
      "    Max NaN count in a trial: 54485\n",
      "    Stimulus_bigHsmallHtaskL: 43 valid trials out of 43\n",
      "  Loading condition: Stimulus_bigHsmallStaskG with parameters: {'BIDS_events': ['Stimulus/BigLetterh/SmallLetters/Taskg'], 'bigLetter': 'h', 'smallLetter': 's', 'task': 'g'}\n",
      "Not setting metadata\n",
      "34 matching events found\n",
      "No baseline correction applied\n"
     ]
    },
    {
     "name": "stderr",
     "output_type": "stream",
     "text": [
      "c:\\Users\\jz421\\Desktop\\GlobalLocal\\src\\analysis\\utils\\general_utils.py:424: RuntimeWarning: Concatenation of Annotations within Epochs is not supported yet. All annotations will be dropped.\n",
      "  event_epochs = mne.concatenate_epochs(combined_epochs)\n"
     ]
    },
    {
     "name": "stdout",
     "output_type": "stream",
     "text": [
      "    Original shape: (34, 196, 641)\n",
      "    Trials with all NaN values: 0\n",
      "    Average NaN count per trial: 1621.4\n",
      "    Max NaN count in a trial: 15384\n",
      "    Stimulus_bigHsmallStaskG: 34 valid trials out of 34\n",
      "  Loading condition: Stimulus_bigHsmallStaskL with parameters: {'BIDS_events': ['Stimulus/BigLetterh/SmallLetters/Taskl'], 'bigLetter': 'h', 'smallLetter': 's', 'task': 'l'}\n",
      "Not setting metadata\n",
      "33 matching events found\n",
      "No baseline correction applied\n",
      "    Original shape: (33, 196, 641)\n"
     ]
    },
    {
     "name": "stderr",
     "output_type": "stream",
     "text": [
      "c:\\Users\\jz421\\Desktop\\GlobalLocal\\src\\analysis\\utils\\general_utils.py:424: RuntimeWarning: Concatenation of Annotations within Epochs is not supported yet. All annotations will be dropped.\n",
      "  event_epochs = mne.concatenate_epochs(combined_epochs)\n"
     ]
    },
    {
     "name": "stdout",
     "output_type": "stream",
     "text": [
      "    Trials with all NaN values: 0\n",
      "    Average NaN count per trial: 1787.0\n",
      "    Max NaN count in a trial: 26922\n",
      "    Stimulus_bigHsmallStaskL: 33 valid trials out of 33\n",
      "Loading data for subject: D0121\n",
      "Reading C:\\Users\\jz421\\Box\\CoganLab\\BIDS-1.1_GlobalLocal\\BIDS\\derivatives\\freqFilt\\figs\\D0121\\D0121_Stimulus_0.5sec_within1sec_randoffset_preStimulusBase_decFactor_8_outliers_10_passband_70.0-150.0_padLength_0.5s_stat_func_ttest_ind_equal_var_False_HG_ev1_rescaled-epo.fif ...\n",
      "    Found the data of interest:\n",
      "        t =   -1000.00 ...    1500.00 ms\n",
      "        0 CTF compensation matrices available\n",
      "Not setting metadata\n",
      "448 matching events found\n",
      "No baseline correction applied\n",
      "0 projection items activated\n",
      "Reading C:\\Users\\jz421\\Box\\CoganLab\\BIDS-1.1_GlobalLocal\\BIDS\\derivatives\\freqFilt\\figs\\D0121\\D0121_Stimulus_0.5sec_within1sec_randoffset_preStimulusBase_decFactor_8_outliers_10_passband_70.0-150.0_padLength_0.5s_stat_func_ttest_ind_equal_var_False_HG_ev1_power_rescaled-epo.fif ...\n",
      "    Found the data of interest:\n",
      "        t =   -1000.00 ...    1500.00 ms\n",
      "        0 CTF compensation matrices available\n",
      "Not setting metadata\n",
      "448 matching events found\n",
      "No baseline correction applied\n",
      "0 projection items activated\n",
      "  Loading condition: Stimulus_bigSsmallHtaskG with parameters: {'BIDS_events': ['Stimulus/BigLetters/SmallLetterh/Taskg'], 'bigLetter': 's', 'smallLetter': 'h', 'task': 'g'}\n",
      "Not setting metadata\n",
      "51 matching events found\n",
      "No baseline correction applied\n"
     ]
    },
    {
     "name": "stderr",
     "output_type": "stream",
     "text": [
      "c:\\Users\\jz421\\Desktop\\GlobalLocal\\src\\analysis\\utils\\general_utils.py:424: RuntimeWarning: Concatenation of Annotations within Epochs is not supported yet. All annotations will be dropped.\n",
      "  event_epochs = mne.concatenate_epochs(combined_epochs)\n"
     ]
    },
    {
     "name": "stdout",
     "output_type": "stream",
     "text": [
      "    Original shape: (51, 204, 641)\n",
      "    Trials with all NaN values: 0\n",
      "    Average NaN count per trial: 502.7\n",
      "    Max NaN count in a trial: 4487\n",
      "    Stimulus_bigSsmallHtaskG: 51 valid trials out of 51\n",
      "  Loading condition: Stimulus_bigSsmallHtaskL with parameters: {'BIDS_events': ['Stimulus/BigLetters/SmallLetterh/Taskl'], 'bigLetter': 's', 'smallLetter': 'h', 'task': 'l'}\n",
      "Not setting metadata\n",
      "53 matching events found\n",
      "No baseline correction applied\n"
     ]
    },
    {
     "name": "stderr",
     "output_type": "stream",
     "text": [
      "c:\\Users\\jz421\\Desktop\\GlobalLocal\\src\\analysis\\utils\\general_utils.py:424: RuntimeWarning: Concatenation of Annotations within Epochs is not supported yet. All annotations will be dropped.\n",
      "  event_epochs = mne.concatenate_epochs(combined_epochs)\n"
     ]
    },
    {
     "name": "stdout",
     "output_type": "stream",
     "text": [
      "    Original shape: (53, 204, 641)\n",
      "    Trials with all NaN values: 0\n",
      "    Average NaN count per trial: 1390.8\n",
      "    Max NaN count in a trial: 19230\n",
      "    Stimulus_bigSsmallHtaskL: 53 valid trials out of 53\n",
      "  Loading condition: Stimulus_bigSsmallStaskG with parameters: {'BIDS_events': ['Stimulus/BigLetters/SmallLetters/Taskg'], 'bigLetter': 's', 'smallLetter': 's', 'task': 'g'}\n",
      "Not setting metadata\n",
      "55 matching events found\n",
      "No baseline correction applied\n"
     ]
    },
    {
     "name": "stderr",
     "output_type": "stream",
     "text": [
      "c:\\Users\\jz421\\Desktop\\GlobalLocal\\src\\analysis\\utils\\general_utils.py:424: RuntimeWarning: Concatenation of Annotations within Epochs is not supported yet. All annotations will be dropped.\n",
      "  event_epochs = mne.concatenate_epochs(combined_epochs)\n"
     ]
    },
    {
     "name": "stdout",
     "output_type": "stream",
     "text": [
      "    Original shape: (55, 204, 641)\n",
      "    Trials with all NaN values: 0\n",
      "    Average NaN count per trial: 1247.0\n",
      "    Max NaN count in a trial: 42947\n",
      "    Stimulus_bigSsmallStaskG: 55 valid trials out of 55\n",
      "  Loading condition: Stimulus_bigSsmallStaskL with parameters: {'BIDS_events': ['Stimulus/BigLetters/SmallLetters/Taskl'], 'bigLetter': 's', 'smallLetter': 's', 'task': 'l'}\n",
      "Not setting metadata\n",
      "48 matching events found\n",
      "No baseline correction applied\n"
     ]
    },
    {
     "name": "stderr",
     "output_type": "stream",
     "text": [
      "c:\\Users\\jz421\\Desktop\\GlobalLocal\\src\\analysis\\utils\\general_utils.py:424: RuntimeWarning: Concatenation of Annotations within Epochs is not supported yet. All annotations will be dropped.\n",
      "  event_epochs = mne.concatenate_epochs(combined_epochs)\n"
     ]
    },
    {
     "name": "stdout",
     "output_type": "stream",
     "text": [
      "    Original shape: (48, 204, 641)\n",
      "    Trials with all NaN values: 0\n",
      "    Average NaN count per trial: 373.9\n",
      "    Max NaN count in a trial: 4487\n",
      "    Stimulus_bigSsmallStaskL: 48 valid trials out of 48\n",
      "  Loading condition: Stimulus_bigHsmallHtaskG with parameters: {'BIDS_events': ['Stimulus/BigLetterh/SmallLetterh/Taskg'], 'bigLetter': 'h', 'smallLetter': 'h', 'task': 'g'}\n",
      "Not setting metadata\n",
      "51 matching events found\n",
      "No baseline correction applied\n"
     ]
    },
    {
     "name": "stderr",
     "output_type": "stream",
     "text": [
      "c:\\Users\\jz421\\Desktop\\GlobalLocal\\src\\analysis\\utils\\general_utils.py:424: RuntimeWarning: Concatenation of Annotations within Epochs is not supported yet. All annotations will be dropped.\n",
      "  event_epochs = mne.concatenate_epochs(combined_epochs)\n"
     ]
    },
    {
     "name": "stdout",
     "output_type": "stream",
     "text": [
      "    Original shape: (51, 204, 641)\n",
      "    Trials with all NaN values: 0\n",
      "    Average NaN count per trial: 1206.6\n",
      "    Max NaN count in a trial: 11538\n",
      "    Stimulus_bigHsmallHtaskG: 51 valid trials out of 51\n",
      "  Loading condition: Stimulus_bigHsmallHtaskL with parameters: {'BIDS_events': ['Stimulus/BigLetterh/SmallLetterh/Taskl'], 'bigLetter': 'h', 'smallLetter': 'h', 'task': 'l'}\n",
      "Not setting metadata\n",
      "52 matching events found\n",
      "No baseline correction applied\n"
     ]
    },
    {
     "name": "stderr",
     "output_type": "stream",
     "text": [
      "c:\\Users\\jz421\\Desktop\\GlobalLocal\\src\\analysis\\utils\\general_utils.py:424: RuntimeWarning: Concatenation of Annotations within Epochs is not supported yet. All annotations will be dropped.\n",
      "  event_epochs = mne.concatenate_epochs(combined_epochs)\n"
     ]
    },
    {
     "name": "stdout",
     "output_type": "stream",
     "text": [
      "    Original shape: (52, 204, 641)\n",
      "    Trials with all NaN values: 0\n",
      "    Average NaN count per trial: 2255.8\n",
      "    Max NaN count in a trial: 27563\n",
      "    Stimulus_bigHsmallHtaskL: 52 valid trials out of 52\n",
      "  Loading condition: Stimulus_bigHsmallStaskG with parameters: {'BIDS_events': ['Stimulus/BigLetterh/SmallLetters/Taskg'], 'bigLetter': 'h', 'smallLetter': 's', 'task': 'g'}\n",
      "Not setting metadata\n",
      "46 matching events found\n",
      "No baseline correction applied\n"
     ]
    },
    {
     "name": "stderr",
     "output_type": "stream",
     "text": [
      "c:\\Users\\jz421\\Desktop\\GlobalLocal\\src\\analysis\\utils\\general_utils.py:424: RuntimeWarning: Concatenation of Annotations within Epochs is not supported yet. All annotations will be dropped.\n",
      "  event_epochs = mne.concatenate_epochs(combined_epochs)\n"
     ]
    },
    {
     "name": "stdout",
     "output_type": "stream",
     "text": [
      "    Original shape: (46, 204, 641)\n",
      "    Trials with all NaN values: 0\n",
      "    Average NaN count per trial: 1282.0\n",
      "    Max NaN count in a trial: 16666\n",
      "    Stimulus_bigHsmallStaskG: 46 valid trials out of 46\n",
      "  Loading condition: Stimulus_bigHsmallStaskL with parameters: {'BIDS_events': ['Stimulus/BigLetterh/SmallLetters/Taskl'], 'bigLetter': 'h', 'smallLetter': 's', 'task': 'l'}\n",
      "Not setting metadata\n",
      "44 matching events found\n",
      "No baseline correction applied\n"
     ]
    },
    {
     "name": "stderr",
     "output_type": "stream",
     "text": [
      "c:\\Users\\jz421\\Desktop\\GlobalLocal\\src\\analysis\\utils\\general_utils.py:424: RuntimeWarning: Concatenation of Annotations within Epochs is not supported yet. All annotations will be dropped.\n",
      "  event_epochs = mne.concatenate_epochs(combined_epochs)\n"
     ]
    },
    {
     "name": "stdout",
     "output_type": "stream",
     "text": [
      "    Original shape: (44, 204, 641)\n",
      "    Trials with all NaN values: 0\n",
      "    Average NaN count per trial: 582.7\n",
      "    Max NaN count in a trial: 8333\n",
      "    Stimulus_bigHsmallStaskL: 44 valid trials out of 44\n",
      "  Loading condition: Stimulus_bigSsmallHtaskG with parameters: {'BIDS_events': ['Stimulus/BigLetters/SmallLetterh/Taskg'], 'bigLetter': 's', 'smallLetter': 'h', 'task': 'g'}\n",
      "Not setting metadata\n",
      "51 matching events found\n",
      "No baseline correction applied\n"
     ]
    },
    {
     "name": "stderr",
     "output_type": "stream",
     "text": [
      "c:\\Users\\jz421\\Desktop\\GlobalLocal\\src\\analysis\\utils\\general_utils.py:424: RuntimeWarning: Concatenation of Annotations within Epochs is not supported yet. All annotations will be dropped.\n",
      "  event_epochs = mne.concatenate_epochs(combined_epochs)\n"
     ]
    },
    {
     "name": "stdout",
     "output_type": "stream",
     "text": [
      "    Original shape: (51, 204, 641)\n",
      "    Trials with all NaN values: 0\n",
      "    Average NaN count per trial: 502.7\n",
      "    Max NaN count in a trial: 4487\n",
      "    Stimulus_bigSsmallHtaskG: 51 valid trials out of 51\n",
      "  Loading condition: Stimulus_bigSsmallHtaskL with parameters: {'BIDS_events': ['Stimulus/BigLetters/SmallLetterh/Taskl'], 'bigLetter': 's', 'smallLetter': 'h', 'task': 'l'}\n",
      "Not setting metadata\n",
      "53 matching events found\n",
      "No baseline correction applied\n"
     ]
    },
    {
     "name": "stderr",
     "output_type": "stream",
     "text": [
      "c:\\Users\\jz421\\Desktop\\GlobalLocal\\src\\analysis\\utils\\general_utils.py:424: RuntimeWarning: Concatenation of Annotations within Epochs is not supported yet. All annotations will be dropped.\n",
      "  event_epochs = mne.concatenate_epochs(combined_epochs)\n"
     ]
    },
    {
     "name": "stdout",
     "output_type": "stream",
     "text": [
      "    Original shape: (53, 204, 641)\n",
      "    Trials with all NaN values: 0\n",
      "    Average NaN count per trial: 1390.8\n",
      "    Max NaN count in a trial: 19230\n",
      "    Stimulus_bigSsmallHtaskL: 53 valid trials out of 53\n",
      "  Loading condition: Stimulus_bigSsmallStaskG with parameters: {'BIDS_events': ['Stimulus/BigLetters/SmallLetters/Taskg'], 'bigLetter': 's', 'smallLetter': 's', 'task': 'g'}\n",
      "Not setting metadata\n",
      "55 matching events found\n",
      "No baseline correction applied\n"
     ]
    },
    {
     "name": "stderr",
     "output_type": "stream",
     "text": [
      "c:\\Users\\jz421\\Desktop\\GlobalLocal\\src\\analysis\\utils\\general_utils.py:424: RuntimeWarning: Concatenation of Annotations within Epochs is not supported yet. All annotations will be dropped.\n",
      "  event_epochs = mne.concatenate_epochs(combined_epochs)\n"
     ]
    },
    {
     "name": "stdout",
     "output_type": "stream",
     "text": [
      "    Original shape: (55, 204, 641)\n",
      "    Trials with all NaN values: 0\n",
      "    Average NaN count per trial: 1247.0\n",
      "    Max NaN count in a trial: 42947\n",
      "    Stimulus_bigSsmallStaskG: 55 valid trials out of 55\n",
      "  Loading condition: Stimulus_bigSsmallStaskL with parameters: {'BIDS_events': ['Stimulus/BigLetters/SmallLetters/Taskl'], 'bigLetter': 's', 'smallLetter': 's', 'task': 'l'}\n",
      "Not setting metadata\n",
      "48 matching events found\n",
      "No baseline correction applied\n"
     ]
    },
    {
     "name": "stderr",
     "output_type": "stream",
     "text": [
      "c:\\Users\\jz421\\Desktop\\GlobalLocal\\src\\analysis\\utils\\general_utils.py:424: RuntimeWarning: Concatenation of Annotations within Epochs is not supported yet. All annotations will be dropped.\n",
      "  event_epochs = mne.concatenate_epochs(combined_epochs)\n"
     ]
    },
    {
     "name": "stdout",
     "output_type": "stream",
     "text": [
      "    Original shape: (48, 204, 641)\n",
      "    Trials with all NaN values: 0\n",
      "    Average NaN count per trial: 373.9\n",
      "    Max NaN count in a trial: 4487\n",
      "    Stimulus_bigSsmallStaskL: 48 valid trials out of 48\n",
      "  Loading condition: Stimulus_bigHsmallHtaskG with parameters: {'BIDS_events': ['Stimulus/BigLetterh/SmallLetterh/Taskg'], 'bigLetter': 'h', 'smallLetter': 'h', 'task': 'g'}\n",
      "Not setting metadata\n",
      "51 matching events found\n",
      "No baseline correction applied\n"
     ]
    },
    {
     "name": "stderr",
     "output_type": "stream",
     "text": [
      "c:\\Users\\jz421\\Desktop\\GlobalLocal\\src\\analysis\\utils\\general_utils.py:424: RuntimeWarning: Concatenation of Annotations within Epochs is not supported yet. All annotations will be dropped.\n",
      "  event_epochs = mne.concatenate_epochs(combined_epochs)\n"
     ]
    },
    {
     "name": "stdout",
     "output_type": "stream",
     "text": [
      "    Original shape: (51, 204, 641)\n",
      "    Trials with all NaN values: 0\n",
      "    Average NaN count per trial: 1206.6\n",
      "    Max NaN count in a trial: 11538\n",
      "    Stimulus_bigHsmallHtaskG: 51 valid trials out of 51\n",
      "  Loading condition: Stimulus_bigHsmallHtaskL with parameters: {'BIDS_events': ['Stimulus/BigLetterh/SmallLetterh/Taskl'], 'bigLetter': 'h', 'smallLetter': 'h', 'task': 'l'}\n",
      "Not setting metadata\n",
      "52 matching events found\n",
      "No baseline correction applied\n"
     ]
    },
    {
     "name": "stderr",
     "output_type": "stream",
     "text": [
      "c:\\Users\\jz421\\Desktop\\GlobalLocal\\src\\analysis\\utils\\general_utils.py:424: RuntimeWarning: Concatenation of Annotations within Epochs is not supported yet. All annotations will be dropped.\n",
      "  event_epochs = mne.concatenate_epochs(combined_epochs)\n"
     ]
    },
    {
     "name": "stdout",
     "output_type": "stream",
     "text": [
      "    Original shape: (52, 204, 641)\n",
      "    Trials with all NaN values: 0\n",
      "    Average NaN count per trial: 2255.8\n",
      "    Max NaN count in a trial: 27563\n",
      "    Stimulus_bigHsmallHtaskL: 52 valid trials out of 52\n",
      "  Loading condition: Stimulus_bigHsmallStaskG with parameters: {'BIDS_events': ['Stimulus/BigLetterh/SmallLetters/Taskg'], 'bigLetter': 'h', 'smallLetter': 's', 'task': 'g'}\n",
      "Not setting metadata\n",
      "46 matching events found\n",
      "No baseline correction applied\n"
     ]
    },
    {
     "name": "stderr",
     "output_type": "stream",
     "text": [
      "c:\\Users\\jz421\\Desktop\\GlobalLocal\\src\\analysis\\utils\\general_utils.py:424: RuntimeWarning: Concatenation of Annotations within Epochs is not supported yet. All annotations will be dropped.\n",
      "  event_epochs = mne.concatenate_epochs(combined_epochs)\n"
     ]
    },
    {
     "name": "stdout",
     "output_type": "stream",
     "text": [
      "    Original shape: (46, 204, 641)\n",
      "    Trials with all NaN values: 0\n",
      "    Average NaN count per trial: 1282.0\n",
      "    Max NaN count in a trial: 16666\n",
      "    Stimulus_bigHsmallStaskG: 46 valid trials out of 46\n",
      "  Loading condition: Stimulus_bigHsmallStaskL with parameters: {'BIDS_events': ['Stimulus/BigLetterh/SmallLetters/Taskl'], 'bigLetter': 'h', 'smallLetter': 's', 'task': 'l'}\n",
      "Not setting metadata\n",
      "44 matching events found\n",
      "No baseline correction applied\n"
     ]
    },
    {
     "name": "stderr",
     "output_type": "stream",
     "text": [
      "c:\\Users\\jz421\\Desktop\\GlobalLocal\\src\\analysis\\utils\\general_utils.py:424: RuntimeWarning: Concatenation of Annotations within Epochs is not supported yet. All annotations will be dropped.\n",
      "  event_epochs = mne.concatenate_epochs(combined_epochs)\n"
     ]
    },
    {
     "name": "stdout",
     "output_type": "stream",
     "text": [
      "    Original shape: (44, 204, 641)\n",
      "    Trials with all NaN values: 0\n",
      "    Average NaN count per trial: 582.7\n",
      "    Max NaN count in a trial: 8333\n",
      "    Stimulus_bigHsmallStaskL: 44 valid trials out of 44\n"
     ]
    }
   ],
   "source": [
    "task='GlobalLocal'\n",
    "conditions = experiment_conditions.stimulus_conditions # set this to whichever conditions you're running\n",
    "stimulus_locked = True  #toggle\n",
    "response_locked = not stimulus_locked\n",
    "\n",
    "if stimulus_locked:\n",
    "    # epochs_root_file = \"Stimulus_0.5sec_within1sec_randoffset_preStimulusBase_decFactor_8_outliers_10_passband_4.0-8.0_padLength_0.5s_stat_func_ttest_ind_equal_var_False\"\n",
    "    epochs_root_file = \"Stimulus_0.5sec_within1sec_randoffset_preStimulusBase_decFactor_8_outliers_10_passband_70.0-150.0_padLength_0.5s_stat_func_ttest_ind_equal_var_False\"\n",
    "    # epochs_root_file = \"Stimulus_0.5sec_within1sec_randoffset_preStimulusBase_decFactor_8_outliers_10_passband_0.0-30.0_padLength_0.5s_stat_func_ttest_ind_equal_var_False\"\n",
    "\n",
    "elif response_locked:\n",
    "    # epochs_root_file = \"Response_0.5sec_within1sec_randoffset_preStimulusBase_decFactor_8_outliers_10_passband_4.0-8.0_padLength_0.5s_stat_func_ttest_ind\"\n",
    "    epochs_root_file = \"Response_0.5sec_within1sec_randoffset_preStimulusBase_decFactor_8_outliers_10_passband_70.0-150.0_padLength_0.5s_stat_func_ttest_ind\"\n",
    "\n",
    "condition_names = list(conditions.keys()) # get the condition names as a list\n",
    "\n",
    "# This breaks if just_HG_ev1_rescaled is set to False currently. Fix this! 8/11\n",
    "subjects_mne_objects = create_subjects_mne_objects_dict(subjects=subjects, epochs_root_file=epochs_root_file, conditions=conditions, task=\"GlobalLocal\", just_HG_ev1_rescaled=True, acc_trials_only=True)"
   ]
  },
  {
   "cell_type": "code",
   "execution_count": null,
   "metadata": {},
   "outputs": [],
   "source": [
    "condition_names_bids = [condition['BIDS_events'] for condition in conditions.values()] # get the condition names in bids format\n",
    "condition_names"
   ]
  },
  {
   "cell_type": "markdown",
   "metadata": {},
   "source": [
    "get significant channels"
   ]
  },
  {
   "cell_type": "code",
   "execution_count": null,
   "metadata": {},
   "outputs": [],
   "source": [
    "sig_chans_per_subject = get_sig_chans_per_subject(subjects, epochs_root_file, task='GlobalLocal', LAB_root=None)"
   ]
  },
  {
   "cell_type": "code",
   "execution_count": null,
   "metadata": {},
   "outputs": [],
   "source": [
    "# Define your ROIs dictionary and other parameters\n",
    "rois_dict = {\n",
    "    'lpfc': [\"G_front_inf-Opercular\", \"G_front_inf-Orbital\", \"G_front_inf-Triangul\", \"G_front_middle\", \"G_front_sup\", \"Lat_Fis-ant-Horizont\", \"Lat_Fis-ant-Vertical\", \"S_circular_insula_ant\", \"S_circular_insula_sup\", \"S_front_inf\", \"S_front_middle\", \"S_front_sup\"],\n",
    "    'v1': [\"G_oc-temp_med-Lingual\", \"S_calcarine\", \"G_cuneus\"],\n",
    "    'occ': [\"G_cuneus\", \"G_and_S_occipital_inf\", \"G_occipital_middle\", \"G_occipital_sup\", \"G_oc-temp_lat-fusifor\", \"G_oc-temp_med-Lingual\", \"Pole_occipital\", \"S_calcarine\", \"S_oc_middle_and_Lunatus\", \"S_oc_sup_and_transversal\", \"S_occipital_ant\"],\n",
    "    'occ_filtered': [],\n",
    "    'occ_best_filtered': []\n",
    "}\n",
    "\n",
    "rois = list(rois_dict.keys())\n",
    "# Assuming you have subjects_electrodestoROIs_dict and sig_chans_per_subject dictionaries\n",
    "electrodes_per_subject_roi, sig_electrodes_per_subject_roi, = make_sig_electrodes_per_subject_and_roi_dict(\n",
    "    rois_dict, subjects_electrodestoROIs_dict, sig_chans_per_subject\n",
    ")"
   ]
  },
  {
   "cell_type": "markdown",
   "metadata": {},
   "source": [
    "let's manually make the occ filtered sig electrodes"
   ]
  },
  {
   "cell_type": "code",
   "execution_count": null,
   "metadata": {},
   "outputs": [],
   "source": [
    "sig_electrodes_per_subject_roi['occ_filtered'] = {\n",
    "    'D0057': [],\n",
    "    'D0059': [],\n",
    "    'D0071': ['RO1', 'RO10'], #RO10 is iffy, big drop from fix onset\n",
    "    'D0077': ['ROPM1', 'ROPM8'],\n",
    "    'D0090': ['RTPO1', 'RTPI1'],\n",
    "    'D0100': ['LOAI12', 'LOAI13', 'LOAI14', 'LOAI15', 'LOMI9', 'LOMI11', 'LOPI8', 'LOPI9', 'LOPM8', 'LOPM9', 'LPPI7', 'LPPI8', 'LPPI9'],\n",
    "    'D0102': ['RTPI1'],\n",
    "    'D0103': ['LTPI2', 'LTPI3', 'LTPI4']\n",
    "}\n",
    "\n",
    "electrodes_per_subject_roi['occ_filtered'] = {\n",
    "    'D0057': [],\n",
    "    'D0059': [],\n",
    "    'D0071': ['RO1', 'RO10'], #RO10 is iffy, big drop from fix onset\n",
    "    'D0077': ['ROPM1', 'ROPM8'],\n",
    "    'D0090': ['RTPO1', 'RTPI1'],\n",
    "    'D0100': ['LOAI12', 'LOAI13', 'LOAI14', 'LOAI15', 'LOMI9', 'LOMI11', 'LOPI8', 'LOPI9', 'LOPM8', 'LOPM9', 'LPPI7', 'LPPI8', 'LPPI9'],\n",
    "    'D0102': ['RTPI1'],\n",
    "    'D0103': ['LTPI2', 'LTPI3', 'LTPI4']\n",
    "}"
   ]
  },
  {
   "cell_type": "markdown",
   "metadata": {},
   "source": [
    "and now make the best of the best"
   ]
  },
  {
   "cell_type": "code",
   "execution_count": null,
   "metadata": {},
   "outputs": [],
   "source": [
    "sig_electrodes_per_subject_roi['occ_best_filtered'] = {\n",
    "    'D0057': [],\n",
    "    'D0059': [],\n",
    "    'D0071': [],\n",
    "    'D0077': [],\n",
    "    'D0090': [],\n",
    "    'D0100': ['LOAI12', 'LOMI9', 'LOPI8', 'LOPI9', 'LOPM8', 'LOPM9'],\n",
    "    'D0102': ['RTPI1'],\n",
    "    'D0103': ['LTPI2', 'LTPI3', 'LTPI4']\n",
    "}\n",
    "\n",
    "electrodes_per_subject_roi['occ_best_filtered'] = {\n",
    "    'D0057': [],\n",
    "    'D0059': [],\n",
    "    'D0071': [],\n",
    "    'D0077': [],\n",
    "    'D0090': [],\n",
    "    'D0100': ['LOAI12', 'LOMI9', 'LOPI8', 'LOPI9', 'LOPM8', 'LOPM9'],\n",
    "    'D0102': ['RTPI1'],\n",
    "    'D0103': ['LTPI2', 'LTPI3', 'LTPI4']\n",
    "}"
   ]
  },
  {
   "cell_type": "code",
   "execution_count": null,
   "metadata": {},
   "outputs": [],
   "source": [
    "# Specify the file path where you want to save the dictionary\n",
    "save_path = 'sig_electrodes_per_subject_roi.json'\n",
    "\n",
    "# Use json to save the dictionary\n",
    "with open(save_path, 'w') as file:\n",
    "    json.dump(sig_electrodes_per_subject_roi, file, indent=4)\n",
    "\n",
    "print(f\"Dictionary saved to {save_path}\")"
   ]
  },
  {
   "cell_type": "markdown",
   "metadata": {},
   "source": [
    "get electrode counts for each roi"
   ]
  },
  {
   "cell_type": "code",
   "execution_count": null,
   "metadata": {},
   "outputs": [],
   "source": [
    "total_electrodes_info = calculate_total_electrodes(sig_electrodes_per_subject_roi, electrodes_per_subject_roi)\n",
    "for roi, counts in total_electrodes_info.items():\n",
    "    print(f\"Total number of {roi} electrodes across all subjects:\", counts['total_electrodes'])\n",
    "    print(f\"Total number of significant {roi} electrodes across all subjects:\", counts['total_significant_electrodes'])\n"
   ]
  },
  {
   "cell_type": "markdown",
   "metadata": {},
   "source": [
    "check if any subjects have a weird sampling rate"
   ]
  },
  {
   "cell_type": "code",
   "execution_count": null,
   "metadata": {},
   "outputs": [],
   "source": [
    "# Assuming 'subjects_mne_objects' is your dictionary containing MNE objects for each subject\n",
    "sampling_rate = 256\n",
    "subject_rates = check_sampling_rates(subjects_mne_objects, expected_sampling_rate=sampling_rate)\n"
   ]
  },
  {
   "cell_type": "markdown",
   "metadata": {},
   "source": [
    "make roi_labeled_arrays, a dict where the keys are rois and the values are LabeledArrays. Index the same way as a nested dict. Use .labels to get labels from current level.\n",
    "\n",
    "\n",
    "#### roi_labeled_arrays structure\n",
    "- **roi1**: ROI name, string\n",
    "  - **conditions**: condition name\n",
    "    - **trials**: This is the maximal number of trials across subjects for any condition, filled with nans for subjects who don't have this many trials\n",
    "      - **channels**: This is the number of channels in the roi, each channel is labeled as subject-channel name. Concatenated across subjects.\n",
    "        - **samples**: 1 sample as a float. This is the time for this sample.\n",
    "\n",
    "- **roi2**: ROI name, string\n",
    "  - **conditions**: condition name\n",
    "    - **trials**: This is the maximal number of trials across subjects for any condition, filled with nans for subjects who don't have this many trials\n",
    "      - **channels**: This is the number of channels in the roi, each channel is labeled as subject-channel name. Concatenated across subjects.\n",
    "        - **samples**: 1 sample as a float. This is the time for this sample.\n",
    "\n",
    "- **roiX**: ROI name, string\n",
    "  - **conditions**: condition name\n",
    "    - **trials**: This is the maximal number of trials across subjects for any condition, filled with nans for subjects who don't have this many trials\n",
    "      - **channels**: This is the number of channels in the roi, each channel is labeled as subject-channel name. Concatenated across subjects.\n",
    "        - **samples**: 1 sample as a float. This is the time for this sample.\n"
   ]
  },
  {
   "cell_type": "code",
   "execution_count": null,
   "metadata": {},
   "outputs": [],
   "source": [
    "# Example usage:\n",
    "\n",
    "# choose whether to use sig elecs or all elecs\n",
    "electrodes = electrodes_per_subject_roi # toggle this to sig_electrodes_per_subject_roi if just using sig elecs, or electrodes_per_subject_roi if using all elecs\n",
    "\n",
    "if electrodes == electrodes_per_subject_roi:\n",
    "    elec_string_to_add_to_filename = 'all_elecs'\n",
    "elif electrodes == sig_electrodes_per_subject_roi:\n",
    "    elec_string_to_add_to_filename = 'sig_elecs'\n",
    "else:\n",
    "    elec_string_to_add_to_filename = None\n",
    "\n",
    "roi_labeled_arrays = put_data_in_labeled_array_per_roi_subject(\n",
    "    subjects_mne_objects,\n",
    "    condition_names,\n",
    "    rois,\n",
    "    subjects,\n",
    "    electrodes, \n",
    "    obs_axs=0,  # Trials dimension (ignoring the conditions dimension for now cuz we iterate over it)\n",
    "    chans_axs=1,  # Channels dimension\n",
    "    time_axs=2,   # Time dimension\n",
    "    random_state=42  # For reproducibility\n",
    ")"
   ]
  },
  {
   "cell_type": "markdown",
   "metadata": {},
   "source": [
    "remove trials with nans from roi labeled arrays if just getting the minimum number of trials for all subjects"
   ]
  },
  {
   "cell_type": "code",
   "execution_count": null,
   "metadata": {},
   "outputs": [],
   "source": [
    "roi_labeled_arrays_no_nans, conditions_with_no_valid_trials_per_roi = remove_nans_from_all_roi_labeled_arrays(roi_labeled_arrays, obs_axs=0, chans_axs=1, time_axs=2)"
   ]
  },
  {
   "cell_type": "markdown",
   "metadata": {},
   "source": [
    "set up decoding output directory and conditions to compare 9/12"
   ]
  },
  {
   "cell_type": "code",
   "execution_count": null,
   "metadata": {},
   "outputs": [],
   "source": [
    "# Determine LAB_root based on the operating system\n",
    "HOME = os.path.expanduser(\"~\")\n",
    "LAB_root = os.path.join(HOME, \"Box\", \"CoganLab\") if os.name == 'nt' else os.path.join(HOME, \"Library\", \"CloudStorage\", \"Box-Box\", \"CoganLab\")\n",
    "save_dir = os.path.join(LAB_root, 'BIDS-1.1_GlobalLocal', 'BIDS', 'derivatives', 'decoding', 'figs', f\"{epochs_root_file}\")\n",
    "os.makedirs(save_dir, exist_ok=True)\n",
    "print(f\"Save directory created or already exists at: {save_dir}\")\n",
    "\n",
    "if conditions == experiment_conditions.stimulus_experiment_conditions:\n",
    "    condition_comparisons = {}\n",
    "    condition_comparisons['congruency'] = [['c25', 'c75'], ['i25', 'i75']]\n",
    "    condition_comparisons['switchType'] = [['r25', 'r75'], ['s25', 's75']]\n",
    "    \n",
    "elif conditions == experiment_conditions.stimulus_conditions:\n",
    "    condition_comparisons = {}\n",
    "    condition_comparisons['BigLetter'] = ['bigS', 'bigH']\n",
    "    condition_comparisons['SmallLetter'] = ['smallS', 'smallH']\n",
    "    condition_comparisons['Task'] = ['taskG', 'taskL']\n",
    "\n",
    "    # condition_comparisons['BigLetter'] = ['BigLetters', 'BigLetterh']\n",
    "    # condition_comparisons['SmallLetter'] = ['SmallLetters', 'SmallLetterh']\n",
    "    # condition_comparisons['Task'] = ['Taskg', 'Taskl']\n",
    "    # condition_comparisons['TaskBigLetterInteraction'] = [['BigLetters/SmallLetters/Taskg', 'BigLetters/SmallLetterh/Taskg'], ['BigLetters/SmallLetters/Taskl', 'BigLetters/SmallLetterh/Taskl'], ['BigLetterh/SmallLetters/Taskg', 'BigLetterh/SmallLetterh/Taskg'], ['BigLetterh/SmallLetters/Taskl', 'BigLetterh/SmallLetterh/Taskl']]\n",
    "    # condition_comparisons['TaskSmallLetterInteraction'] = [['BigLetters/SmallLetters/Taskg', 'BigLetterh/SmallLetters/Taskg'], ['BigLetters/SmallLetters/Taskl', 'BigLetterh/SmallLetters/Taskl'], ['BigLetters/SmallLetterh/Taskg', 'BigLetterh/SmallLetterh/Taskg'], ['BigLetters/SmallLetterh/Taskl', 'BigLetters/SmallLetterh/Taskl']]"
   ]
  },
  {
   "cell_type": "code",
   "execution_count": null,
   "metadata": {},
   "outputs": [],
   "source": [
    "# get the confusion matrix using the downsampled version\n",
    "\n",
    "# add elec and subject info to filename 6/11/25\n",
    "other_string_to_add = elec_string_to_add_to_filename + '_' + str(len(subjects)) + '_subjects'\n",
    "\n",
    "for condition_comparison, strings_to_find in condition_comparisons.items():\n",
    "    confusion_matrices = get_and_plot_confusion_matrix_for_rois_jim(\n",
    "        roi_labeled_arrays=roi_labeled_arrays_no_nans,\n",
    "        rois=rois,\n",
    "        condition_comparison=condition_comparison,\n",
    "        strings_to_find=strings_to_find,\n",
    "        save_dir=save_dir,\n",
    "        time_interval_name=None,\n",
    "        other_string_to_add=elec_string_to_add_to_filename,\n",
    "        n_splits=5,\n",
    "        n_repeats=10,\n",
    "        obs_axs=0,\n",
    "        balance_method='subsample',  # Use 'subsample' to balance by subsampling\n",
    "        random_state=42  # For reproducibility\n",
    "    )"
   ]
  },
  {
   "cell_type": "code",
   "execution_count": null,
   "metadata": {},
   "outputs": [],
   "source": [
    "# get the confusion matrix using the version with nan trials and doing nan trial mixup\n",
    "for condition_comparison, strings_to_find in condition_comparisons.items():\n",
    "    confusion_matrices = get_and_plot_confusion_matrix_for_rois_jim(\n",
    "        roi_labeled_arrays=roi_labeled_arrays,\n",
    "        rois=rois,\n",
    "        condition_comparison=condition_comparison,\n",
    "        strings_to_find=strings_to_find,\n",
    "        save_dir=save_dir,\n",
    "        time_interval_name=None,\n",
    "        n_splits=5,\n",
    "        n_repeats=10,\n",
    "        obs_axs=0,\n",
    "        balance_method='pad_with_nans',  # Use 'pad_with_nans' to balance by padding with nans\n",
    "        random_state=42  # For reproducibility\n",
    "    )\n"
   ]
  },
  {
   "cell_type": "markdown",
   "metadata": {},
   "source": [
    "prestimulus vs poststimulus confusion matrices 9/21"
   ]
  },
  {
   "cell_type": "code",
   "execution_count": null,
   "metadata": {},
   "outputs": [],
   "source": [
    "# # Define the time intervals of interest\n",
    "# pre_stimulus_interval = (-1.0, 0.0)  # Pre-stimulus: time -1 to 0 seconds\n",
    "# post_stimulus_interval = (0.0, 1.5)  # Post-stimulus: time 0 to 1.5 seconds\n",
    "# pre_stimulus_roi_labeled_arrays = {}\n",
    "# post_stimulus_roi_labeled_arrays = {}\n",
    "\n",
    "# for roi, labeled_array in roi_labeled_arrays.items():\n",
    "#     pre_stimulus_roi_labeled_arrays[roi] = get_data_in_time_range(labeled_array, pre_stimulus_interval)\n",
    "#     post_stimulus_roi_labeled_arrays[roi] = get_data_in_time_range(labeled_array, post_stimulus_interval)\n",
    "\n",
    "\n",
    "# pre_stimulus_confusion_matrices = get_and_plot_confusion_matrix_for_rois_jim(\n",
    "#     roi_labeled_arrays=pre_stimulus_roi_labeled_arrays,\n",
    "#     rois=rois,\n",
    "#     condition_comparison=condition_comparison,\n",
    "#     strings_to_find=strings_to_find,\n",
    "#     save_dir=save_dir,\n",
    "#     time_interval_name='pre_stimulus',  # If not dealing with specific time intervals\n",
    "#     n_splits=5,\n",
    "#     n_repeats=10,\n",
    "#     obs_axs=0,\n",
    "#     balance_method='subsample',  # Use 'subsample' to balance by subsampling\n",
    "#     random_state=42  # For reproducibility\n",
    "# )\n",
    "\n",
    "# post_stimulus_confusion_matrices = get_and_plot_confusion_matrix_for_rois_jim(\n",
    "#     roi_labeled_arrays=post_stimulus_roi_labeled_arrays,\n",
    "#     rois=rois,\n",
    "#     condition_comparison=condition_comparison,\n",
    "#     strings_to_find=strings_to_find,\n",
    "#     save_dir=save_dir,\n",
    "#     time_interval_name='post_stimulus',  # If not dealing with specific time intervals\n",
    "#     n_splits=5,\n",
    "#     n_repeats=10,\n",
    "#     obs_axs=0,\n",
    "#     balance_method='subsample',  # Use 'subsample' to balance by subsampling\n",
    "#     random_state=42  # For reproducibility\n",
    "# )"
   ]
  },
  {
   "cell_type": "markdown",
   "metadata": {},
   "source": [
    "define colors for plotting (not used yet as of 8/21)"
   ]
  },
  {
   "cell_type": "code",
   "execution_count": null,
   "metadata": {},
   "outputs": [],
   "source": [
    "# Define colors for the model names\n",
    "colors = {\n",
    "    'congruency': 'red',\n",
    "    'switchType': 'blue',\n",
    "    'congruencyProportion': 'pink',\n",
    "    'switchProportion': 'skyblue',\n",
    "    'congruency_congruencyProportion': 'hotpink',\n",
    "    'congruency_congruency_proportion': 'hotpink',\n",
    "    'switchType_switchProportion': 'gray',\n",
    "    'switch_type_switch_proportion': 'gray',\n",
    "    'bigLetter': 'green',\n",
    "    'big_letter': 'green',\n",
    "    'smallLetter': 'orange',\n",
    "    'small_letter': 'orange',\n",
    "    'task': 'gray',\n",
    "    'c75.0': 'pink',\n",
    "    'i75.0': 'pink',\n",
    "    'c25.0': 'gold',\n",
    "    'i25.0': 'gold',\n",
    "    'r25.0': 'lightblue',\n",
    "    's25.0': 'lightblue',\n",
    "    'r75.0': 'purple',\n",
    "    's75.0': 'purple'\n",
    "}\n",
    "\n",
    "# Define linestyles for the model names\n",
    "linestyles = {\n",
    "    'big letter S': '-',\n",
    "    'BigLetters': '-',\n",
    "\n",
    "    'big letter H': '--',\n",
    "    'BigLetterh': '--',\n",
    "\n",
    "    'small letter S': '-',\n",
    "    'SmallLetters': '-',\n",
    "\n",
    "    'small letter H': '--',\n",
    "    'SmallLetterh': '--',\n",
    "\n",
    "    'task G': '-',\n",
    "    'Taskg': '-',\n",
    "\n",
    "    'task L': '--',\n",
    "    'Taskl': '--',\n",
    "\n",
    "    'congruent': '-',\n",
    "    'c': '-',\n",
    "\n",
    "    'incongruent': '--',\n",
    "    'i': '--',\n",
    "\n",
    "    'repeat': '-',\n",
    "    'r': '-',\n",
    "\n",
    "    'switch': '--',\n",
    "    's': '--',\n",
    "\n",
    "    'c25.0': '-',\n",
    "    'c75.0': '-',\n",
    "    'i25.0': '--',\n",
    "    'i75.0': '--'\n",
    "}"
   ]
  },
  {
   "cell_type": "markdown",
   "metadata": {},
   "source": [
    "new attempt at time window sliding decoding with significance 11/23  "
   ]
  },
  {
   "cell_type": "markdown",
   "metadata": {},
   "source": [
    "actually do the time window decoding, run stats, and plot accuracies"
   ]
  },
  {
   "cell_type": "code",
   "execution_count": null,
   "metadata": {},
   "outputs": [],
   "source": [
    "# Main code\n",
    "\n",
    "# Directory to save confusion matrices\n",
    "cm_save_dir = os.path.join(save_dir, \"confusion_matrices\")\n",
    "os.makedirs(cm_save_dir, exist_ok=True)\n",
    "\n",
    "condition_comparison_confusion_matrices = {}\n",
    "n_splits=5\n",
    "n_repeats=10\n",
    "balance_method='subsample'\n",
    "random_state=42\n",
    "window_size=64\n",
    "step_size=32\n",
    "n_permutations=100\n",
    "\n",
    "for condition_comparison, strings_to_find in condition_comparisons.items():\n",
    "    # Get confusion matrices for each ROI\n",
    "    cm_true_per_roi, cm_shuffle_per_roi = get_confusion_matrices_for_rois_time_window_decoding_jim(\n",
    "        roi_labeled_arrays=roi_labeled_arrays,\n",
    "        rois=rois,\n",
    "        condition_comparison=condition_comparison,\n",
    "        strings_to_find=strings_to_find,\n",
    "        n_splits=n_splits,\n",
    "        n_repeats=n_repeats,\n",
    "        obs_axs=0,\n",
    "        time_axs=-1,\n",
    "        balance_method=balance_method,\n",
    "        random_state=random_state,\n",
    "        window_size=window_size,\n",
    "        step_size=step_size,\n",
    "        n_permutations=n_permutations,\n",
    "        sampling_rate=sampling_rate,\n",
    "        first_time_point=-1\n",
    "    )\n",
    "\n",
    "    np.save(os.path.join(cm_save_dir, f'{condition_comparison}_{n_splits}_splits_{n_repeats}_repeats_{balance_method}_balance_method_{random_state}_random_state_{window_size}_window_size_{step_size}_step_size_{n_permutations}_permutations_{sampling_rate}_sampling_rate_cm_true_per_roi.npy'), cm_true_per_roi)\n",
    "    np.save(os.path.join(cm_save_dir, f'{condition_comparison}_{n_splits}_splits_{n_repeats}_repeats_{balance_method}_balance_method_{random_state}_random_state_{window_size}_window_size_{step_size}_step_size_{n_permutations}_permutations_{sampling_rate}_sampling_rate_cm_shuffle_per_roi.npy'), cm_shuffle_per_roi)\n",
    "\n",
    "    # Store the results in a dictionary\n",
    "    condition_comparison_confusion_matrices[condition_comparison] = {\n",
    "        'strings_to_find': strings_to_find,\n",
    "        'cm_true_per_roi': cm_true_per_roi,\n",
    "        'cm_shuffle_per_roi': cm_shuffle_per_roi\n",
    "    }\n",
    "\n",
    "    # Now compute accuracies and perform time permutation cluster test\n",
    "    for roi in rois:\n",
    "        cm_true = cm_true_per_roi[roi]['cm_true']\n",
    "        cm_shuffle = cm_shuffle_per_roi[roi]['cm_shuffle']\n",
    "        time_window_centers = cm_true_per_roi[roi]['time_window_centers']\n",
    "        window_size = cm_true_per_roi[roi]['window_size']\n",
    "        step_size = cm_true_per_roi[roi]['step_size']\n",
    "\n",
    "        # Compute accuracies\n",
    "        accuracies_true, accuracies_shuffle = compute_accuracies(cm_true, cm_shuffle)\n",
    "\n",
    "        # Perform time permutation cluster test\n",
    "        significant_clusters, p_values = perform_time_perm_cluster_test_for_accuracies(\n",
    "            accuracies_true, accuracies_shuffle, p_thresh=0.05, n_perm=100, seed=42\n",
    "        )\n",
    "\n",
    "        # Store significant clusters and p-values\n",
    "        cm_true_per_roi[roi]['significant_clusters'] = significant_clusters\n",
    "        cm_true_per_roi[roi]['p_values'] = p_values\n",
    "\n",
    "        # Optionally, store accuracies\n",
    "        cm_true_per_roi[roi]['accuracies_true'] = accuracies_true\n",
    "        cm_shuffle_per_roi[roi]['accuracies_shuffle'] = accuracies_shuffle\n",
    "        print(significant_clusters)\n",
    "\n",
    "        # Plot accuracies\n",
    "        plot_accuracies(\n",
    "            time_points=time_window_centers,\n",
    "            accuracies_true=accuracies_true,\n",
    "            accuracies_shuffle=accuracies_shuffle,\n",
    "            significant_clusters=significant_clusters,\n",
    "            window_size=window_size,\n",
    "            step_size=step_size,\n",
    "            sampling_rate=sampling_rate,\n",
    "            condition_comparison=condition_comparison,\n",
    "            roi=roi,\n",
    "            save_dir=save_dir\n",
    "        )"
   ]
  },
  {
   "cell_type": "code",
   "execution_count": null,
   "metadata": {},
   "outputs": [],
   "source": [
    "for condition_comparison in condition_comparison_confusion_matrices:\n",
    "    cm_true_per_roi = condition_comparison_confusion_matrices[condition_comparison]['cm_true_per_roi']\n",
    "    for roi in cm_true_per_roi:\n",
    "        significant_clusters = cm_true_per_roi[roi]['significant_clusters']\n",
    "        print(f'significant clusters for {condition_comparison} and {roi} are: {significant_clusters}')\n",
    "\n",
    "        p_values = cm_true_per_roi[roi]['p_values']\n",
    "        print(f'p values for {condition_comparison} and {roi} are: {p_values}')\n",
    "\n",
    "        accuracies_true = cm_true_per_roi[roi]['accuracies_true']\n",
    "        print(f'accuracies for {condition_comparison} and {roi} are: {accuracies_true}')\n",
    "\n",
    "        # Now you can use significant_clusters, p_values, and accuracies_true as needed"
   ]
  },
  {
   "cell_type": "markdown",
   "metadata": {},
   "source": [
    "testing code"
   ]
  }
 ],
 "metadata": {
  "kernelspec": {
   "display_name": "ieeg",
   "language": "python",
   "name": "python3"
  },
  "language_info": {
   "codemirror_mode": {
    "name": "ipython",
    "version": 3
   },
   "file_extension": ".py",
   "mimetype": "text/x-python",
   "name": "python",
   "nbconvert_exporter": "python",
   "pygments_lexer": "ipython3",
   "version": "3.11.7"
  }
 },
 "nbformat": 4,
 "nbformat_minor": 2
}
