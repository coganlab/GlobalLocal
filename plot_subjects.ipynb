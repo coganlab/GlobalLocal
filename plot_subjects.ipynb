{
  "cells": [
    {
      "cell_type": "code",
      "execution_count": 1,
      "metadata": {
        "collapsed": false
      },
      "outputs": [
        {
          "name": "stderr",
          "output_type": "stream",
          "text": [
            "c:\\Users\\jz421\\AppData\\Local\\anaconda3\\envs\\ieeg\\Lib\\site-packages\\pandas\\core\\arrays\\masked.py:60: UserWarning: Pandas requires version '1.3.6' or newer of 'bottleneck' (version '1.3.5' currently installed).\n",
            "  from pandas.core import (\n"
          ]
        }
      ],
      "source": [
        "import mne\n",
        "import os\n",
        "from ieeg.viz.mri import plot_subj, subject_to_info, plot_on_average\n",
        "from ieeg.io import raw_from_layout, get_data\n",
        "from misc_functions import load_sig_chans, channel_names_to_indices"
      ]
    },
    {
      "cell_type": "markdown",
      "metadata": {},
      "source": [
        "### plot single subject's significant electrodes"
      ]
    },
    {
      "cell_type": "code",
      "execution_count": 2,
      "metadata": {},
      "outputs": [
        {
          "name": "stdout",
          "output_type": "stream",
          "text": [
            "Loaded significant channels for subject D0071\n"
          ]
        },
        {
          "name": "stderr",
          "output_type": "stream",
          "text": [
            "C:\\Users\\jz421\\Desktop\\GlobalLocal\\IEEG_Pipelines\\ieeg\\viz\\mri.py:678: RuntimeWarning: Fiducial point lpa not found, assuming identity RAS (non-zero origin) to head transformation\n",
            "  info.set_montage(montage)\n"
          ]
        },
        {
          "name": "stdout",
          "output_type": "stream",
          "text": [
            "Using pyvistaqt 3d backend.\n",
            "\n",
            "Could not estimate rigid Talairach alignment, using identity matrix\n"
          ]
        },
        {
          "data": {
            "text/plain": [
              "<mne.viz._brain._brain.Brain at 0x1f5da028b90>"
            ]
          },
          "execution_count": 2,
          "metadata": {},
          "output_type": "execute_result"
        }
      ],
      "source": [
        "subj = \"D0071\"\n",
        "base_path = r'C:\\Users\\jz421\\Box\\CoganLab\\BIDS-1.1_GlobalLocal\\BIDS\\derivatives\\freqFilt\\figs'\n",
        "stim_filename = f'{base_path}\\\\{subj}\\\\sig_chans_{subj}_Stimulus_fixationCrossBase_1sec_mirror.json'\n",
        "stim_sig_chans = load_sig_chans(stim_filename)\n",
        "# resp_filename = f'{base_path}\\\\{subj}\\\\sig_chans_{subj}_Response_fixationCrossBase_1sec_mirror.json'\n",
        "# resp_sig_chans = load_sig_chans(stim_filename)\n",
        "\n",
        "\n",
        "subj_without_zeros = \"D\" + subj[1:].lstrip('0')\n",
        "plot_subj(subj_without_zeros, picks=stim_sig_chans, labels_every=1, hemi='both', title=f'{subj}_Stimulus', background='gray', color=(1, 1, 0)) \n",
        "# plot_subj(subj_without_zeros, picks=resp_sig_chans, labels_every=8, hemi='both', title=f'{subj}_Response', color=(1, 1, 0))\n",
        "\n"
      ]
    },
    {
      "cell_type": "code",
      "execution_count": null,
      "metadata": {},
      "outputs": [],
      "source": [
        "subj = \"D0063\"\n",
        "base_path = r'C:\\Users\\jz421\\Box\\CoganLab\\BIDS-1.1_GlobalLocal\\BIDS\\derivatives\\freqFilt\\figs'\n",
        "resp_filename = f'{base_path}\\\\{subj}\\\\sig_chans_{subj}_Response.json'\n",
        "stim_filename = f'{base_path}\\\\{subj}\\\\sig_chans_{subj}_Stimulus.json'\n",
        "congruent_filename = f'{base_path}\\\\{subj}\\\\sig_chans_{subj}_congruent.json'\n",
        "incongruent_filename = f'{base_path}\\\\{subj}\\\\sig_chans_{subj}_incongruent.json'\n",
        "repeat_filename = f'{base_path}\\\\{subj}\\\\sig_chans_{subj}_repeat.json'\n",
        "switch_filename = f'{base_path}\\\\{subj}\\\\sig_chans_{subj}_switch.json'\n",
        "\n",
        "resp_sig_chans = load_sig_chans(resp_filename)\n",
        "stim_sig_chans = load_sig_chans(stim_filename)\n",
        "congruent_sig_chans = load_sig_chans(congruent_filename)\n",
        "incongruent_sig_chans = load_sig_chans(incongruent_filename)\n",
        "repeat_sig_chans = load_sig_chans(repeat_filename)\n",
        "switch_sig_chans = load_sig_chans(switch_filename)\n",
        "\n",
        "\n",
        "subj_without_zeros = \"D\" + subj[1:].lstrip('0')\n",
        "plot_subj(subj_without_zeros, picks=stim_sig_chans, labels_every=8, hemi='both', title=f'{subj}_Stimulus', color=(1, 1, 0)) \n",
        "plot_subj(subj_without_zeros, picks=resp_sig_chans, labels_every=8, hemi='both', title=f'{subj}_Response', color=(1, 1, 0))\n",
        "plot_subj(subj_without_zeros, picks=congruent_sig_chans, labels_every=8, hemi='both', title=f'{subj}_Congruent', color=(1, 1, 0)) \n",
        "plot_subj(subj_without_zeros, picks=incongruent_sig_chans, labels_every=8, hemi='both', title=f'{subj}_Incongruent', color=(1, 1, 0))\n",
        "plot_subj(subj_without_zeros, picks=repeat_sig_chans, labels_every=8, hemi='both', title=f'{subj}_Repeat', color=(1, 1, 0)) \n",
        "plot_subj(subj_without_zeros, picks=switch_sig_chans, labels_every=8, hemi='both', title=f'{subj}_Switch', color=(1, 1, 0))\n"
      ]
    },
    {
      "cell_type": "markdown",
      "metadata": {},
      "source": [
        "### plot all significant electrodes on average brain"
      ]
    },
    {
      "cell_type": "code",
      "execution_count": 15,
      "metadata": {},
      "outputs": [
        {
          "name": "stdout",
          "output_type": "stream",
          "text": [
            "{'derivatives/clean': BIDS Layout: ...alLocal\\BIDS\\derivatives\\clean | Subjects: 8 | Sessions: 0 | Runs: 32}\n",
            "KeysView({'derivatives/clean': BIDS Layout: ...alLocal\\BIDS\\derivatives\\clean | Subjects: 8 | Sessions: 0 | Runs: 32})\n",
            "Loaded significant channels for subject D0057\n",
            "Loaded significant channels for subject D0057\n",
            "Loaded significant channels for subject D0059\n",
            "Loaded significant channels for subject D0059\n",
            "Loaded significant channels for subject D0063\n",
            "Loaded significant channels for subject D0063\n",
            "Loaded significant channels for subject D0065\n",
            "Loaded significant channels for subject D0065\n",
            "Loaded significant channels for subject D0069\n",
            "Loaded significant channels for subject D0069\n",
            "Loaded significant channels for subject D0071\n",
            "Loaded significant channels for subject D0071\n"
          ]
        },
        {
          "name": "stderr",
          "output_type": "stream",
          "text": [
            "C:\\Users\\jz421\\Desktop\\GlobalLocal\\IEEG_Pipelines\\ieeg\\viz\\mri.py:678: RuntimeWarning: Fiducial point lpa not found, assuming identity RAS (non-zero origin) to head transformation\n",
            "  info.set_montage(montage)\n",
            "C:\\Users\\jz421\\Desktop\\GlobalLocal\\IEEG_Pipelines\\ieeg\\viz\\mri.py:678: RuntimeWarning: Fiducial point lpa not found, assuming identity RAS (non-zero origin) to head transformation\n",
            "  info.set_montage(montage)\n",
            "C:\\Users\\jz421\\Desktop\\GlobalLocal\\IEEG_Pipelines\\ieeg\\viz\\mri.py:678: RuntimeWarning: Fiducial point lpa not found, assuming identity RAS (non-zero origin) to head transformation\n",
            "  info.set_montage(montage)\n",
            "C:\\Users\\jz421\\Desktop\\GlobalLocal\\IEEG_Pipelines\\ieeg\\viz\\mri.py:678: RuntimeWarning: Fiducial point lpa not found, assuming identity RAS (non-zero origin) to head transformation\n",
            "  info.set_montage(montage)\n",
            "C:\\Users\\jz421\\Desktop\\GlobalLocal\\IEEG_Pipelines\\ieeg\\viz\\mri.py:678: RuntimeWarning: Fiducial point lpa not found, assuming identity RAS (non-zero origin) to head transformation\n",
            "  info.set_montage(montage)\n",
            "C:\\Users\\jz421\\Desktop\\GlobalLocal\\IEEG_Pipelines\\ieeg\\viz\\mri.py:678: RuntimeWarning: Fiducial point lpa not found, assuming identity RAS (non-zero origin) to head transformation\n",
            "  info.set_montage(montage)\n"
          ]
        },
        {
          "ename": "FileNotFoundError",
          "evalue": "[Errno 2] No such file or directory: 'C:\\\\Users\\\\jz421\\\\Box\\\\CoganLab\\\\BIDS-1.1_GlobalLocal\\\\BIDS\\\\derivatives\\\\freqFilt\\\\figs\\\\D0090\\\\sig_chans_D0090_response_experimentStartBase1secTo101Sec.json'",
          "output_type": "error",
          "traceback": [
            "\u001b[1;31m---------------------------------------------------------------------------\u001b[0m",
            "\u001b[1;31mFileNotFoundError\u001b[0m                         Traceback (most recent call last)",
            "Cell \u001b[1;32mIn[15], line 33\u001b[0m\n\u001b[0;32m     30\u001b[0m resp_filename \u001b[38;5;241m=\u001b[39m \u001b[38;5;124mf\u001b[39m\u001b[38;5;124m'\u001b[39m\u001b[38;5;132;01m{\u001b[39;00mbase_path\u001b[38;5;132;01m}\u001b[39;00m\u001b[38;5;130;01m\\\\\u001b[39;00m\u001b[38;5;132;01m{\u001b[39;00msubj\u001b[38;5;132;01m}\u001b[39;00m\u001b[38;5;130;01m\\\\\u001b[39;00m\u001b[38;5;124msig_chans_\u001b[39m\u001b[38;5;132;01m{\u001b[39;00msubj\u001b[38;5;132;01m}\u001b[39;00m\u001b[38;5;124m_response_experimentStartBase1secTo101Sec.json\u001b[39m\u001b[38;5;124m'\u001b[39m\n\u001b[0;32m     31\u001b[0m stim_filename \u001b[38;5;241m=\u001b[39m \u001b[38;5;124mf\u001b[39m\u001b[38;5;124m'\u001b[39m\u001b[38;5;132;01m{\u001b[39;00mbase_path\u001b[38;5;132;01m}\u001b[39;00m\u001b[38;5;130;01m\\\\\u001b[39;00m\u001b[38;5;132;01m{\u001b[39;00msubj\u001b[38;5;132;01m}\u001b[39;00m\u001b[38;5;130;01m\\\\\u001b[39;00m\u001b[38;5;124msig_chans_\u001b[39m\u001b[38;5;132;01m{\u001b[39;00msubj\u001b[38;5;132;01m}\u001b[39;00m\u001b[38;5;124m_stimulus_experimentStartBase1secTo101Sec.json\u001b[39m\u001b[38;5;124m'\u001b[39m\n\u001b[1;32m---> 33\u001b[0m resp_sig_chans \u001b[38;5;241m=\u001b[39m \u001b[43mload_sig_chans\u001b[49m\u001b[43m(\u001b[49m\u001b[43mresp_filename\u001b[49m\u001b[43m)\u001b[49m\n\u001b[0;32m     34\u001b[0m stim_sig_chans \u001b[38;5;241m=\u001b[39m load_sig_chans(stim_filename)\n\u001b[0;32m     36\u001b[0m \u001b[38;5;66;03m# Combine the significant electrodes for this subject\u001b[39;00m\n",
            "File \u001b[1;32mc:\\Users\\jz421\\Desktop\\GlobalLocal\\misc_functions.py:48\u001b[0m, in \u001b[0;36mload_sig_chans\u001b[1;34m(filename)\u001b[0m\n\u001b[0;32m     47\u001b[0m \u001b[38;5;28;01mdef\u001b[39;00m \u001b[38;5;21mload_sig_chans\u001b[39m(filename):\n\u001b[1;32m---> 48\u001b[0m     \u001b[38;5;28;01mwith\u001b[39;00m \u001b[38;5;28mopen\u001b[39m(filename, \u001b[38;5;124m'\u001b[39m\u001b[38;5;124mr\u001b[39m\u001b[38;5;124m'\u001b[39m) \u001b[38;5;28;01mas\u001b[39;00m file:\n\u001b[0;32m     49\u001b[0m         data \u001b[38;5;241m=\u001b[39m json\u001b[38;5;241m.\u001b[39mload(file)\n\u001b[0;32m     51\u001b[0m     \u001b[38;5;66;03m# You can access the subject and significant channels directly from the dictionary\u001b[39;00m\n",
            "\u001b[1;31mFileNotFoundError\u001b[0m: [Errno 2] No such file or directory: 'C:\\\\Users\\\\jz421\\\\Box\\\\CoganLab\\\\BIDS-1.1_GlobalLocal\\\\BIDS\\\\derivatives\\\\freqFilt\\\\figs\\\\D0090\\\\sig_chans_D0090_response_experimentStartBase1secTo101Sec.json'"
          ]
        }
      ],
      "source": [
        "# grab all of the significant electrodes, and put them into one list, and then run plot_on_average\n",
        "\n",
        "HOME = os.path.expanduser(\"~\")\n",
        "\n",
        "# get box directory depending on OS\n",
        "if os.name == 'nt': # windows\n",
        "    LAB_root = os.path.join(HOME, \"Box\", \"CoganLab\")\n",
        "else: # mac\n",
        "    LAB_root = os.path.join(HOME, \"Library\", \"CloudStorage\", \"Box-Box\", \"CoganLab\")\n",
        "\n",
        "layout = get_data(\"GlobalLocal\", root=LAB_root)\n",
        "\n",
        "\n",
        "print(layout.derivatives)\n",
        "print(layout.derivatives.keys())\n",
        "\n",
        "\n",
        "base_path = os.path.join(LAB_root, \"BIDS-1.1_GlobalLocal\", \"BIDS\", \"derivatives\", \"freqFilt\", \"figs\")\n",
        "\n",
        "subjects = layout.get(return_type=\"id\", target=\"subject\")\n",
        "subjects_without_zeroes = [\"D\" + subj[1:].lstrip('0') for subj in subjects]\n",
        "\n",
        "allSigElectrodes = {}  # Initialize as an empty dictionary\n",
        "allElectrodes = {}\n",
        "\n",
        "for subj in subjects:\n",
        "    if subj == \"D0077\":\n",
        "        continue\n",
        "    \n",
        "    resp_filename = f'{base_path}\\\\{subj}\\\\sig_chans_{subj}_response_experimentStartBase1secTo101Sec.json'\n",
        "    stim_filename = f'{base_path}\\\\{subj}\\\\sig_chans_{subj}_stimulus_experimentStartBase1secTo101Sec.json'\n",
        "\n",
        "    resp_sig_chans = load_sig_chans(resp_filename)\n",
        "    stim_sig_chans = load_sig_chans(stim_filename)\n",
        "\n",
        "    # Combine the significant electrodes for this subject\n",
        "    combined_chans = resp_sig_chans + stim_sig_chans\n",
        "\n",
        "    # Add them to the dictionary, tagged with the subject without zeroes\n",
        "\n",
        "    subj_without_zeroes = \"D\" + subj[1:].lstrip('0')\n",
        "    allSigElectrodes[subj_without_zeroes] = combined_chans\n",
        "\n",
        "    # Get all electrodes for this subject and add them to the allElectrodes dict\n",
        "    info = subject_to_info(subj_without_zeroes)\n",
        "    allSubjElectrodes = mne.pick_channels(info.ch_names, [])\n",
        "    allElectrodes[subj_without_zeroes] = allSubjElectrodes\n",
        "\n",
        "picks = [f'D{k[1:].zfill(4)}-{v}' for k in allSigElectrodes.keys() for v in allSigElectrodes[k]]\n",
        "# sinfos = [subject_to_info(f'D{int(subj[1:])}') for subj in subjects]\n",
        "\n",
        "plot_on_average(allSigElectrodes, hemi='both', color=(1,1,0))\n",
        "# plot_on_average(allElectrodes, hemi='both', color=(1,1,0))"
      ]
    },
    {
      "cell_type": "markdown",
      "metadata": {},
      "source": [
        "### plot all significant electrodes, then plot all electrodes"
      ]
    },
    {
      "cell_type": "code",
      "execution_count": 18,
      "metadata": {},
      "outputs": [
        {
          "name": "stdout",
          "output_type": "stream",
          "text": [
            "1.6.1\n"
          ]
        }
      ],
      "source": [
        "import mne\n",
        "print(mne.__version__)"
      ]
    },
    {
      "cell_type": "code",
      "execution_count": 20,
      "metadata": {},
      "outputs": [
        {
          "name": "stdout",
          "output_type": "stream",
          "text": [
            "{'derivatives/clean': BIDS Layout: ...alLocal\\BIDS\\derivatives\\clean | Subjects: 8 | Sessions: 0 | Runs: 32}\n",
            "KeysView({'derivatives/clean': BIDS Layout: ...alLocal\\BIDS\\derivatives\\clean | Subjects: 8 | Sessions: 0 | Runs: 32})\n",
            "Loaded significant channels for subject D0057\n",
            "Loaded significant channels for subject D0059\n",
            "Loaded significant channels for subject D0063\n"
          ]
        },
        {
          "name": "stderr",
          "output_type": "stream",
          "text": [
            "C:\\Users\\jz421\\Desktop\\GlobalLocal\\IEEG_Pipelines\\ieeg\\viz\\mri.py:678: RuntimeWarning: Fiducial point lpa not found, assuming identity RAS (non-zero origin) to head transformation\n",
            "  info.set_montage(montage)\n",
            "C:\\Users\\jz421\\Desktop\\GlobalLocal\\IEEG_Pipelines\\ieeg\\viz\\mri.py:678: RuntimeWarning: Fiducial point lpa not found, assuming identity RAS (non-zero origin) to head transformation\n",
            "  info.set_montage(montage)\n",
            "C:\\Users\\jz421\\Desktop\\GlobalLocal\\IEEG_Pipelines\\ieeg\\viz\\mri.py:678: RuntimeWarning: Fiducial point lpa not found, assuming identity RAS (non-zero origin) to head transformation\n",
            "  info.set_montage(montage)\n",
            "C:\\Users\\jz421\\Desktop\\GlobalLocal\\IEEG_Pipelines\\ieeg\\viz\\mri.py:678: RuntimeWarning: Fiducial point lpa not found, assuming identity RAS (non-zero origin) to head transformation\n",
            "  info.set_montage(montage)\n",
            "C:\\Users\\jz421\\Desktop\\GlobalLocal\\IEEG_Pipelines\\ieeg\\viz\\mri.py:678: RuntimeWarning: Fiducial point lpa not found, assuming identity RAS (non-zero origin) to head transformation\n",
            "  info.set_montage(montage)\n",
            "C:\\Users\\jz421\\Desktop\\GlobalLocal\\IEEG_Pipelines\\ieeg\\viz\\mri.py:678: RuntimeWarning: Fiducial point lpa not found, assuming identity RAS (non-zero origin) to head transformation\n",
            "  info.set_montage(montage)\n",
            "C:\\Users\\jz421\\Desktop\\GlobalLocal\\IEEG_Pipelines\\ieeg\\viz\\mri.py:678: RuntimeWarning: Fiducial point lpa not found, assuming identity RAS (non-zero origin) to head transformation\n",
            "  info.set_montage(montage)\n"
          ]
        },
        {
          "name": "stdout",
          "output_type": "stream",
          "text": [
            "Loaded significant channels for subject D0065\n",
            "Loaded significant channels for subject D0069\n",
            "Loaded significant channels for subject D0071\n",
            "Loaded significant channels for subject D0090\n"
          ]
        },
        {
          "name": "stderr",
          "output_type": "stream",
          "text": [
            "C:\\Users\\jz421\\Desktop\\GlobalLocal\\IEEG_Pipelines\\ieeg\\viz\\mri.py:678: RuntimeWarning: Fiducial point lpa not found, assuming identity RAS (non-zero origin) to head transformation\n",
            "  info.set_montage(montage)\n",
            "C:\\Users\\jz421\\Desktop\\GlobalLocal\\IEEG_Pipelines\\ieeg\\viz\\mri.py:678: RuntimeWarning: Fiducial point lpa not found, assuming identity RAS (non-zero origin) to head transformation\n",
            "  info.set_montage(montage)\n",
            "C:\\Users\\jz421\\Desktop\\GlobalLocal\\IEEG_Pipelines\\ieeg\\viz\\mri.py:678: RuntimeWarning: Fiducial point lpa not found, assuming identity RAS (non-zero origin) to head transformation\n",
            "  info.set_montage(montage)\n",
            "C:\\Users\\jz421\\Desktop\\GlobalLocal\\IEEG_Pipelines\\ieeg\\viz\\mri.py:678: RuntimeWarning: Fiducial point lpa not found, assuming identity RAS (non-zero origin) to head transformation\n",
            "  info.set_montage(montage)\n",
            "C:\\Users\\jz421\\Desktop\\GlobalLocal\\IEEG_Pipelines\\ieeg\\viz\\mri.py:678: RuntimeWarning: Fiducial point lpa not found, assuming identity RAS (non-zero origin) to head transformation\n",
            "  info.set_montage(montage)\n"
          ]
        },
        {
          "ename": "OSError",
          "evalue": "[WinError 1006] The volume for a file has been externally altered so that the opened file is no longer valid: 'C:\\\\Users\\\\jz421\\\\Box\\\\ECoG_Recon\\\\D69\\\\mri\\\\transforms\\\\talairach.xfm'",
          "output_type": "error",
          "traceback": [
            "\u001b[1;31m---------------------------------------------------------------------------\u001b[0m",
            "\u001b[1;31mOSError\u001b[0m                                   Traceback (most recent call last)",
            "Cell \u001b[1;32mIn[20], line 50\u001b[0m\n\u001b[0;32m     46\u001b[0m     allSubjElectrodes \u001b[38;5;241m=\u001b[39m mne\u001b[38;5;241m.\u001b[39mpick_channels(info\u001b[38;5;241m.\u001b[39mch_names, [])\n\u001b[0;32m     47\u001b[0m     allElectrodes[subj_without_zeroes] \u001b[38;5;241m=\u001b[39m allSubjElectrodes\n\u001b[1;32m---> 50\u001b[0m \u001b[43mplot_on_average\u001b[49m\u001b[43m(\u001b[49m\u001b[43mallSigElectrodes\u001b[49m\u001b[43m,\u001b[49m\u001b[43m \u001b[49m\u001b[43mhemi\u001b[49m\u001b[38;5;241;43m=\u001b[39;49m\u001b[38;5;124;43m'\u001b[39;49m\u001b[38;5;124;43mboth\u001b[39;49m\u001b[38;5;124;43m'\u001b[39;49m\u001b[43m,\u001b[49m\u001b[43m \u001b[49m\u001b[43mcolor\u001b[49m\u001b[38;5;241;43m=\u001b[39;49m\u001b[43m(\u001b[49m\u001b[38;5;241;43m1\u001b[39;49m\u001b[43m,\u001b[49m\u001b[38;5;241;43m1\u001b[39;49m\u001b[43m,\u001b[49m\u001b[38;5;241;43m0\u001b[39;49m\u001b[43m)\u001b[49m\u001b[43m)\u001b[49m\n\u001b[0;32m     51\u001b[0m \u001b[38;5;66;03m# plot_on_average(allElectrodes, hemi='both', color=(1,1,0))\u001b[39;00m\n",
            "File \u001b[1;32m~\\Desktop\\GlobalLocal\\IEEG_Pipelines\\ieeg\\viz\\mri.py:350\u001b[0m, in \u001b[0;36mplot_on_average\u001b[1;34m(sigs, subj_dir, rm_wm, picks, surface, hemi, color, size, fig, label_every, background, units, transparency, average, show)\u001b[0m\n\u001b[0;32m    347\u001b[0m \u001b[38;5;28;01melse\u001b[39;00m:\n\u001b[0;32m    348\u001b[0m     \u001b[38;5;28;01mraise\u001b[39;00m \u001b[38;5;167;01mTypeError\u001b[39;00m(\u001b[38;5;28mtype\u001b[39m(inst))\n\u001b[1;32m--> 350\u001b[0m to_fsaverage \u001b[38;5;241m=\u001b[39m \u001b[43mmne\u001b[49m\u001b[38;5;241;43m.\u001b[39;49m\u001b[43mread_talxfm\u001b[49m\u001b[43m(\u001b[49m\u001b[43msubj\u001b[49m\u001b[43m,\u001b[49m\u001b[43m \u001b[49m\u001b[43msubj_dir\u001b[49m\u001b[43m)\u001b[49m\n\u001b[0;32m    351\u001b[0m \u001b[38;5;28;01mif\u001b[39;00m average \u001b[38;5;241m==\u001b[39m \u001b[38;5;124m'\u001b[39m\u001b[38;5;124mfsaverage\u001b[39m\u001b[38;5;124m'\u001b[39m:\n\u001b[0;32m    352\u001b[0m     trans \u001b[38;5;241m=\u001b[39m mne\u001b[38;5;241m.\u001b[39mtransforms\u001b[38;5;241m.\u001b[39mTransform(fro\u001b[38;5;241m=\u001b[39m\u001b[38;5;124m'\u001b[39m\u001b[38;5;124mhead\u001b[39m\u001b[38;5;124m'\u001b[39m, to\u001b[38;5;241m=\u001b[39m\u001b[38;5;124m'\u001b[39m\u001b[38;5;124mmri\u001b[39m\u001b[38;5;124m'\u001b[39m,\n\u001b[0;32m    353\u001b[0m                                      trans\u001b[38;5;241m=\u001b[39mto_fsaverage[\u001b[38;5;124m'\u001b[39m\u001b[38;5;124mtrans\u001b[39m\u001b[38;5;124m'\u001b[39m])\n",
            "File \u001b[1;32m<decorator-gen-69>:12\u001b[0m, in \u001b[0;36mread_talxfm\u001b[1;34m(subject, subjects_dir, verbose)\u001b[0m\n",
            "File \u001b[1;32mc:\\Users\\jz421\\AppData\\Local\\anaconda3\\envs\\ieeg\\Lib\\site-packages\\mne\\_freesurfer.py:597\u001b[0m, in \u001b[0;36mread_talxfm\u001b[1;34m(subject, subjects_dir, verbose)\u001b[0m\n\u001b[0;32m    595\u001b[0m subjects_dir \u001b[38;5;241m=\u001b[39m get_subjects_dir(subjects_dir)\n\u001b[0;32m    596\u001b[0m \u001b[38;5;66;03m# Setup the RAS to MNI transform\u001b[39;00m\n\u001b[1;32m--> 597\u001b[0m ras_mni_t \u001b[38;5;241m=\u001b[39m \u001b[43mread_ras_mni_t\u001b[49m\u001b[43m(\u001b[49m\u001b[43msubject\u001b[49m\u001b[43m,\u001b[49m\u001b[43m \u001b[49m\u001b[43msubjects_dir\u001b[49m\u001b[43m)\u001b[49m\n\u001b[0;32m    598\u001b[0m ras_mni_t[\u001b[38;5;124m\"\u001b[39m\u001b[38;5;124mtrans\u001b[39m\u001b[38;5;124m\"\u001b[39m][:\u001b[38;5;241m3\u001b[39m, \u001b[38;5;241m3\u001b[39m] \u001b[38;5;241m/\u001b[39m\u001b[38;5;241m=\u001b[39m \u001b[38;5;241m1000.0\u001b[39m  \u001b[38;5;66;03m# mm->m\u001b[39;00m\n\u001b[0;32m    600\u001b[0m \u001b[38;5;66;03m# We want to get from Freesurfer surface RAS ('mri') to MNI ('mni_tal').\u001b[39;00m\n\u001b[0;32m    601\u001b[0m \u001b[38;5;66;03m# This file only gives us RAS (non-zero origin) ('ras') to MNI ('mni_tal').\u001b[39;00m\n\u001b[0;32m    602\u001b[0m \u001b[38;5;66;03m# Se we need to get the ras->mri transform from the MRI headers.\u001b[39;00m\n\u001b[0;32m    603\u001b[0m \n\u001b[0;32m    604\u001b[0m \u001b[38;5;66;03m# To do this, we get Norig and Torig\u001b[39;00m\n\u001b[0;32m    605\u001b[0m \u001b[38;5;66;03m# (i.e. vox_ras_t and vox_mri_t, respectively)\u001b[39;00m\n",
            "File \u001b[1;32mc:\\Users\\jz421\\AppData\\Local\\anaconda3\\envs\\ieeg\\Lib\\site-packages\\mne\\transforms.py:1544\u001b[0m, in \u001b[0;36mread_ras_mni_t\u001b[1;34m(subject, subjects_dir)\u001b[0m\n\u001b[0;32m   1541\u001b[0m _validate_type(subject, \u001b[38;5;124m\"\u001b[39m\u001b[38;5;124mstr\u001b[39m\u001b[38;5;124m\"\u001b[39m, \u001b[38;5;124m\"\u001b[39m\u001b[38;5;124msubject\u001b[39m\u001b[38;5;124m\"\u001b[39m)\n\u001b[0;32m   1542\u001b[0m fname \u001b[38;5;241m=\u001b[39m subjects_dir \u001b[38;5;241m/\u001b[39m subject \u001b[38;5;241m/\u001b[39m \u001b[38;5;124m\"\u001b[39m\u001b[38;5;124mmri\u001b[39m\u001b[38;5;124m\"\u001b[39m \u001b[38;5;241m/\u001b[39m \u001b[38;5;124m\"\u001b[39m\u001b[38;5;124mtransforms\u001b[39m\u001b[38;5;124m\"\u001b[39m \u001b[38;5;241m/\u001b[39m \u001b[38;5;124m\"\u001b[39m\u001b[38;5;124mtalairach.xfm\u001b[39m\u001b[38;5;124m\"\u001b[39m\n\u001b[0;32m   1543\u001b[0m fname \u001b[38;5;241m=\u001b[39m \u001b[38;5;28mstr\u001b[39m(\n\u001b[1;32m-> 1544\u001b[0m     \u001b[43m_check_fname\u001b[49m\u001b[43m(\u001b[49m\n\u001b[0;32m   1545\u001b[0m \u001b[43m        \u001b[49m\u001b[43mfname\u001b[49m\u001b[43m,\u001b[49m\n\u001b[0;32m   1546\u001b[0m \u001b[43m        \u001b[49m\u001b[38;5;124;43m\"\u001b[39;49m\u001b[38;5;124;43mread\u001b[39;49m\u001b[38;5;124;43m\"\u001b[39;49m\u001b[43m,\u001b[49m\n\u001b[0;32m   1547\u001b[0m \u001b[43m        \u001b[49m\u001b[38;5;28;43;01mTrue\u001b[39;49;00m\u001b[43m,\u001b[49m\n\u001b[0;32m   1548\u001b[0m \u001b[43m        \u001b[49m\u001b[38;5;124;43m\"\u001b[39;49m\u001b[38;5;124;43mFreeSurfer Talairach transformation file\u001b[39;49m\u001b[38;5;124;43m\"\u001b[39;49m\u001b[43m,\u001b[49m\n\u001b[0;32m   1549\u001b[0m \u001b[43m    \u001b[49m\u001b[43m)\u001b[49m\n\u001b[0;32m   1550\u001b[0m )\n\u001b[0;32m   1551\u001b[0m \u001b[38;5;28;01mreturn\u001b[39;00m Transform(\u001b[38;5;124m\"\u001b[39m\u001b[38;5;124mras\u001b[39m\u001b[38;5;124m\"\u001b[39m, \u001b[38;5;124m\"\u001b[39m\u001b[38;5;124mmni_tal\u001b[39m\u001b[38;5;124m\"\u001b[39m, _read_fs_xfm(fname)[\u001b[38;5;241m0\u001b[39m])\n",
            "File \u001b[1;32m<decorator-gen-0>:12\u001b[0m, in \u001b[0;36m_check_fname\u001b[1;34m(fname, overwrite, must_exist, name, need_dir, verbose)\u001b[0m\n",
            "File \u001b[1;32mc:\\Users\\jz421\\AppData\\Local\\anaconda3\\envs\\ieeg\\Lib\\site-packages\\mne\\utils\\check.py:241\u001b[0m, in \u001b[0;36m_check_fname\u001b[1;34m(fname, overwrite, must_exist, name, need_dir, verbose)\u001b[0m\n\u001b[0;32m    238\u001b[0m _validate_type(fname, \u001b[38;5;124m\"\u001b[39m\u001b[38;5;124mpath-like\u001b[39m\u001b[38;5;124m\"\u001b[39m, name)\n\u001b[0;32m    239\u001b[0m fname \u001b[38;5;241m=\u001b[39m Path(fname)\u001b[38;5;241m.\u001b[39mexpanduser()\u001b[38;5;241m.\u001b[39mabsolute()\n\u001b[1;32m--> 241\u001b[0m \u001b[38;5;28;01mif\u001b[39;00m \u001b[43mfname\u001b[49m\u001b[38;5;241;43m.\u001b[39;49m\u001b[43mexists\u001b[49m\u001b[43m(\u001b[49m\u001b[43m)\u001b[49m:\n\u001b[0;32m    242\u001b[0m     \u001b[38;5;28;01mif\u001b[39;00m \u001b[38;5;129;01mnot\u001b[39;00m overwrite:\n\u001b[0;32m    243\u001b[0m         \u001b[38;5;28;01mraise\u001b[39;00m \u001b[38;5;167;01mFileExistsError\u001b[39;00m(\n\u001b[0;32m    244\u001b[0m             \u001b[38;5;124m\"\u001b[39m\u001b[38;5;124mDestination file exists. Please use option \u001b[39m\u001b[38;5;124m\"\u001b[39m\n\u001b[0;32m    245\u001b[0m             \u001b[38;5;124m'\u001b[39m\u001b[38;5;124m\"\u001b[39m\u001b[38;5;124moverwrite=True\u001b[39m\u001b[38;5;124m\"\u001b[39m\u001b[38;5;124m to force overwriting.\u001b[39m\u001b[38;5;124m'\u001b[39m\n\u001b[0;32m    246\u001b[0m         )\n",
            "File \u001b[1;32mc:\\Users\\jz421\\AppData\\Local\\anaconda3\\envs\\ieeg\\Lib\\pathlib.py:1235\u001b[0m, in \u001b[0;36mPath.exists\u001b[1;34m(self)\u001b[0m\n\u001b[0;32m   1231\u001b[0m \u001b[38;5;250m\u001b[39m\u001b[38;5;124;03m\"\"\"\u001b[39;00m\n\u001b[0;32m   1232\u001b[0m \u001b[38;5;124;03mWhether this path exists.\u001b[39;00m\n\u001b[0;32m   1233\u001b[0m \u001b[38;5;124;03m\"\"\"\u001b[39;00m\n\u001b[0;32m   1234\u001b[0m \u001b[38;5;28;01mtry\u001b[39;00m:\n\u001b[1;32m-> 1235\u001b[0m     \u001b[38;5;28;43mself\u001b[39;49m\u001b[38;5;241;43m.\u001b[39;49m\u001b[43mstat\u001b[49m\u001b[43m(\u001b[49m\u001b[43m)\u001b[49m\n\u001b[0;32m   1236\u001b[0m \u001b[38;5;28;01mexcept\u001b[39;00m \u001b[38;5;167;01mOSError\u001b[39;00m \u001b[38;5;28;01mas\u001b[39;00m e:\n\u001b[0;32m   1237\u001b[0m     \u001b[38;5;28;01mif\u001b[39;00m \u001b[38;5;129;01mnot\u001b[39;00m _ignore_error(e):\n",
            "File \u001b[1;32mc:\\Users\\jz421\\AppData\\Local\\anaconda3\\envs\\ieeg\\Lib\\pathlib.py:1013\u001b[0m, in \u001b[0;36mPath.stat\u001b[1;34m(self, follow_symlinks)\u001b[0m\n\u001b[0;32m   1008\u001b[0m \u001b[38;5;28;01mdef\u001b[39;00m \u001b[38;5;21mstat\u001b[39m(\u001b[38;5;28mself\u001b[39m, \u001b[38;5;241m*\u001b[39m, follow_symlinks\u001b[38;5;241m=\u001b[39m\u001b[38;5;28;01mTrue\u001b[39;00m):\n\u001b[0;32m   1009\u001b[0m \u001b[38;5;250m    \u001b[39m\u001b[38;5;124;03m\"\"\"\u001b[39;00m\n\u001b[0;32m   1010\u001b[0m \u001b[38;5;124;03m    Return the result of the stat() system call on this path, like\u001b[39;00m\n\u001b[0;32m   1011\u001b[0m \u001b[38;5;124;03m    os.stat() does.\u001b[39;00m\n\u001b[0;32m   1012\u001b[0m \u001b[38;5;124;03m    \"\"\"\u001b[39;00m\n\u001b[1;32m-> 1013\u001b[0m     \u001b[38;5;28;01mreturn\u001b[39;00m os\u001b[38;5;241m.\u001b[39mstat(\u001b[38;5;28mself\u001b[39m, follow_symlinks\u001b[38;5;241m=\u001b[39mfollow_symlinks)\n",
            "\u001b[1;31mOSError\u001b[0m: [WinError 1006] The volume for a file has been externally altered so that the opened file is no longer valid: 'C:\\\\Users\\\\jz421\\\\Box\\\\ECoG_Recon\\\\D69\\\\mri\\\\transforms\\\\talairach.xfm'"
          ]
        }
      ],
      "source": [
        "# grab all of the significant electrodes, and put them into one list, and then run plot_on_average\n",
        "\n",
        "HOME = os.path.expanduser(\"~\")\n",
        "\n",
        "# get box directory depending on OS\n",
        "if os.name == 'nt': # windows\n",
        "    LAB_root = os.path.join(HOME, \"Box\", \"CoganLab\")\n",
        "else: # mac\n",
        "    LAB_root = os.path.join(HOME, \"Library\", \"CloudStorage\", \"Box-Box\", \"CoganLab\")\n",
        "\n",
        "layout = get_data(\"GlobalLocal\", root=LAB_root)\n",
        "\n",
        "\n",
        "print(layout.derivatives)\n",
        "print(layout.derivatives.keys())\n",
        "\n",
        "\n",
        "base_path = os.path.join(LAB_root, \"BIDS-1.1_GlobalLocal\", \"BIDS\", \"derivatives\", \"freqFilt\", \"figs\")\n",
        "\n",
        "subjects = layout.get(return_type=\"id\", target=\"subject\")\n",
        "subjects_without_zeroes = [\"D\" + subj[1:].lstrip('0') for subj in subjects]\n",
        "\n",
        "allSigElectrodes = {}  # Initialize as an empty dictionary\n",
        "allElectrodes = {}\n",
        "\n",
        "for subj in subjects:\n",
        "    if subj == \"D0077\":\n",
        "        continue\n",
        "    \n",
        "    # resp_filename = f'{base_path}\\\\{subj}\\\\sig_chans_{subj}_Response.json'\n",
        "    stim_filename = f'{base_path}\\\\{subj}\\\\sig_chans_{subj}_Stimulus_fixationCrossBase_1sec_mirror.json'\n",
        "\n",
        "    # resp_sig_chans = load_sig_chans(resp_filename)\n",
        "    stim_sig_chans = load_sig_chans(stim_filename)\n",
        "\n",
        "    # Combine the significant electrodes for this subject\n",
        "    combined_chans = resp_sig_chans + stim_sig_chans\n",
        "    combined_chans = stim_sig_chans # delete this line once we have responses for everyone\n",
        "    # Add them to the dictionary, tagged with the subject without zeroes\n",
        "\n",
        "    subj_without_zeroes = \"D\" + subj[1:].lstrip('0')\n",
        "    allSigElectrodes[subj_without_zeroes] = combined_chans\n",
        "\n",
        "    # Get all electrodes for this subject and add them to the allElectrodes dict\n",
        "    info = subject_to_info(subj_without_zeroes)\n",
        "    allSubjElectrodes = mne.pick_channels(info.ch_names, [])\n",
        "    allElectrodes[subj_without_zeroes] = allSubjElectrodes\n",
        "\n",
        "\n",
        "plot_on_average(allSigElectrodes, hemi='both', color=(1,1,0))\n",
        "# plot_on_average(allElectrodes, hemi='both', color=(1,1,0))"
      ]
    },
    {
      "cell_type": "markdown",
      "metadata": {},
      "source": [
        "### plot all stim electrodes for an roi\n",
        "get the subject: electrode mappings from roi_analysis first"
      ]
    },
    {
      "cell_type": "code",
      "execution_count": 3,
      "metadata": {},
      "outputs": [
        {
          "name": "stdout",
          "output_type": "stream",
          "text": [
            "Loaded significant channels for subject D0057\n",
            "Loaded significant channels for subject D0059\n",
            "Loaded significant channels for subject D0063\n",
            "Loaded significant channels for subject D0065\n",
            "Loaded significant channels for subject D0069\n",
            "Loaded significant channels for subject D0071\n",
            "Loaded significant channels for subject D0077\n",
            "Loaded significant channels for subject D0090\n"
          ]
        }
      ],
      "source": [
        "def get_sig_chans(sub, task, LAB_root=None):\n",
        "    # Determine LAB_root based on the operating system\n",
        "    if LAB_root is None:\n",
        "        HOME = os.path.expanduser(\"~\")\n",
        "        LAB_root = os.path.join(HOME, \"Box\", \"CoganLab\") if os.name == 'nt' else os.path.join(HOME, \"Library\", \"CloudStorage\", \"Box-Box\", \"CoganLab\")\n",
        "\n",
        "    # Get data layout\n",
        "    layout = get_data(task, root=LAB_root)\n",
        "    save_dir = os.path.join(layout.root, 'derivatives', 'freqFilt', 'figs', sub)\n",
        "\n",
        "    stim_filename = f'{save_dir}\\\\sig_chans_{sub}_Stimulus_fixationCrossBase_1sec_mirror.json'\n",
        "    stim_sig_chans = load_sig_chans(stim_filename)\n",
        "    return stim_sig_chans\n",
        "\n",
        "\n",
        "# List of subjects\n",
        "subjects = ['D0057', 'D0059', 'D0063', 'D0065', 'D0069', 'D0071', 'D0077', 'D0090']\n",
        "\n",
        "# Initialize an empty dictionary to store significant channels per subject\n",
        "sig_chans_per_subject = {}\n",
        "\n",
        "# Populate the dictionary using get_sig_chans for each subject\n",
        "for sub in subjects:\n",
        "    sig_chans_per_subject[sub] = get_sig_chans(sub, 'GlobalLocal')\n",
        "\n",
        "# Now sig_chans_per_subject dictionary is populated with significant channels for each subject"
      ]
    },
    {
      "cell_type": "code",
      "execution_count": 6,
      "metadata": {},
      "outputs": [
        {
          "name": "stdout",
          "output_type": "stream",
          "text": [
            "Loaded data from subjects_electrodestoROIs_dict.json\n"
          ]
        }
      ],
      "source": [
        "import json\n",
        "\n",
        "# Load from a JSON file\n",
        "filename = 'subjects_electrodestoROIs_dict.json'\n",
        "\n",
        "with open(filename, 'r') as file:\n",
        "    subjects_electrodestoROIs_dict = json.load(file)\n",
        "\n",
        "print(f\"Loaded data from {filename}\")"
      ]
    },
    {
      "cell_type": "code",
      "execution_count": 7,
      "metadata": {},
      "outputs": [
        {
          "name": "stdout",
          "output_type": "stream",
          "text": [
            "For subject D0057, G_front_middle, G_front_sup, S_front_inf, S_front_middle, S_front_sup electrodes are: ['RAI12', 'RAI13', 'RAI15', 'RAI16', 'RPI14', 'RAMF10', 'RAMF11', 'RAMF12']\n",
            "For subject D0059, G_front_middle, G_front_sup, S_front_inf, S_front_middle, S_front_sup electrodes are: ['LMMF9', 'LMMF11', 'LMMF12', 'LPSF16']\n",
            "For subject D0063, G_front_middle, G_front_sup, S_front_inf, S_front_middle, S_front_sup electrodes are: ['LASF10', 'LASF14', 'LASF15', 'LASF16', 'LMSF5', 'LMSF6', 'LMSF12', 'LPSF10', 'LPSF12', 'RAI10', 'RAI11', 'RAI16', 'RAMF11', 'RAMF12', 'RAMF13', 'RMMF13', 'RMMF14', 'RASF15', 'RMSF8', 'RMSF9', 'RMSF10', 'RMSF7', 'RAMF8', 'RAMF9', 'RAMF10', 'RMMF9', 'RMMF10']\n",
            "For subject D0065, G_front_middle, G_front_sup, S_front_inf, S_front_middle, S_front_sup electrodes are: ['RASF13', 'RASF14', 'RASF15', 'RMSF11', 'RMSF12', 'RMSF13', 'RMSF14']\n",
            "For subject D0069, G_front_middle, G_front_sup, S_front_inf, S_front_middle, S_front_sup electrodes are: []\n",
            "For subject D0071, G_front_middle, G_front_sup, S_front_inf, S_front_middle, S_front_sup electrodes are: ['RIA11', 'RIA12', 'RIA14', 'RIA16', 'RIP14', 'RIP15']\n",
            "For subject D0077, G_front_middle, G_front_sup, S_front_inf, S_front_middle, S_front_sup electrodes are: []\n",
            "For subject D0090, G_front_middle, G_front_sup, S_front_inf, S_front_middle, S_front_sup electrodes are: ['RIA12', 'RIA14', 'RIA15']\n",
            "Subject D0057 significant G_front_middle, G_front_sup, S_front_inf, S_front_middle, S_front_sup electrodes: ['RPI14']\n",
            "Subject D0059 significant G_front_middle, G_front_sup, S_front_inf, S_front_middle, S_front_sup electrodes: ['LMMF9', 'LMMF11', 'LMMF12', 'LPSF16']\n",
            "Subject D0063 significant G_front_middle, G_front_sup, S_front_inf, S_front_middle, S_front_sup electrodes: ['LMSF5', 'LPSF12', 'RAMF12', 'RMMF13', 'RMMF14', 'RMMF10']\n",
            "Subject D0065 significant G_front_middle, G_front_sup, S_front_inf, S_front_middle, S_front_sup electrodes: ['RASF14']\n",
            "Subject D0069 significant G_front_middle, G_front_sup, S_front_inf, S_front_middle, S_front_sup electrodes: []\n",
            "Subject D0071 significant G_front_middle, G_front_sup, S_front_inf, S_front_middle, S_front_sup electrodes: ['RIA11', 'RIA12', 'RIA14', 'RIA16']\n",
            "Subject D0077 significant G_front_middle, G_front_sup, S_front_inf, S_front_middle, S_front_sup electrodes: []\n",
            "Subject D0090 significant G_front_middle, G_front_sup, S_front_inf, S_front_middle, S_front_sup electrodes: ['RIA12']\n",
            "For subject D0057, G_and_S_cingul-Ant, G_and_S_cingul-Mid-Ant electrodes are: ['RAMF1']\n",
            "For subject D0059, G_and_S_cingul-Ant, G_and_S_cingul-Mid-Ant electrodes are: []\n",
            "For subject D0063, G_and_S_cingul-Ant, G_and_S_cingul-Mid-Ant electrodes are: ['LASF1', 'LASF3', 'LASF7', 'LASF9', 'LMSF1', 'LMSF2', 'LMSF4', 'RMSF3', 'RMSF4', 'RMSF5', 'RMMF1', 'RAMF1', 'RAMF2', 'RMMF2', 'RMMF3', 'RMMF4']\n",
            "For subject D0065, G_and_S_cingul-Ant, G_and_S_cingul-Mid-Ant electrodes are: ['RASF1', 'RASF2', 'RASF7', 'RASF8', 'RASF9', 'RMSF4', 'RMSF5']\n",
            "For subject D0069, G_and_S_cingul-Ant, G_and_S_cingul-Mid-Ant electrodes are: []\n",
            "For subject D0071, G_and_S_cingul-Ant, G_and_S_cingul-Mid-Ant electrodes are: []\n",
            "For subject D0077, G_and_S_cingul-Ant, G_and_S_cingul-Mid-Ant electrodes are: []\n",
            "For subject D0090, G_and_S_cingul-Ant, G_and_S_cingul-Mid-Ant electrodes are: []\n",
            "Subject D0057 significant G_and_S_cingul-Ant, G_and_S_cingul-Mid-Ant electrodes: []\n",
            "Subject D0059 significant G_and_S_cingul-Ant, G_and_S_cingul-Mid-Ant electrodes: []\n",
            "Subject D0063 significant G_and_S_cingul-Ant, G_and_S_cingul-Mid-Ant electrodes: ['LMSF2', 'LMSF4', 'RMSF3', 'RMSF4']\n",
            "Subject D0065 significant G_and_S_cingul-Ant, G_and_S_cingul-Mid-Ant electrodes: []\n",
            "Subject D0069 significant G_and_S_cingul-Ant, G_and_S_cingul-Mid-Ant electrodes: []\n",
            "Subject D0071 significant G_and_S_cingul-Ant, G_and_S_cingul-Mid-Ant electrodes: []\n",
            "Subject D0077 significant G_and_S_cingul-Ant, G_and_S_cingul-Mid-Ant electrodes: []\n",
            "Subject D0090 significant G_and_S_cingul-Ant, G_and_S_cingul-Mid-Ant electrodes: []\n",
            "For subject D0057, G_parietal_sup, S_intrapariet_and_P_trans, G_pariet_inf-Angular, G_pariet_inf-Supramar electrodes are: ['RPIP11', 'RPIP12', 'RPIP14']\n",
            "For subject D0059, G_parietal_sup, S_intrapariet_and_P_trans, G_pariet_inf-Angular, G_pariet_inf-Supramar electrodes are: ['LMPF11', 'LMPF12', 'LMPF14', 'LMPF16']\n",
            "For subject D0063, G_parietal_sup, S_intrapariet_and_P_trans, G_pariet_inf-Angular, G_pariet_inf-Supramar electrodes are: []\n",
            "For subject D0065, G_parietal_sup, S_intrapariet_and_P_trans, G_pariet_inf-Angular, G_pariet_inf-Supramar electrodes are: ['RMMP14', 'RPMP14', 'RPMP16', 'RPIP16']\n",
            "For subject D0069, G_parietal_sup, S_intrapariet_and_P_trans, G_pariet_inf-Angular, G_pariet_inf-Supramar electrodes are: []\n",
            "For subject D0071, G_parietal_sup, S_intrapariet_and_P_trans, G_pariet_inf-Angular, G_pariet_inf-Supramar electrodes are: ['RTPS9']\n",
            "For subject D0077, G_parietal_sup, S_intrapariet_and_P_trans, G_pariet_inf-Angular, G_pariet_inf-Supramar electrodes are: ['ROAM5', 'ROAM6', 'ROAS12', 'ROAS13', 'ROAS14', 'ROAS15', 'ROPS10', 'ROPS12', 'RPAS6', 'RPAS7', 'RPAS10', 'ROAS7', 'ROAS11']\n",
            "For subject D0090, G_parietal_sup, S_intrapariet_and_P_trans, G_pariet_inf-Angular, G_pariet_inf-Supramar electrodes are: []\n",
            "Subject D0057 significant G_parietal_sup, S_intrapariet_and_P_trans, G_pariet_inf-Angular, G_pariet_inf-Supramar electrodes: ['RPIP11', 'RPIP12', 'RPIP14']\n",
            "Subject D0059 significant G_parietal_sup, S_intrapariet_and_P_trans, G_pariet_inf-Angular, G_pariet_inf-Supramar electrodes: ['LMPF11', 'LMPF12', 'LMPF14']\n",
            "Subject D0063 significant G_parietal_sup, S_intrapariet_and_P_trans, G_pariet_inf-Angular, G_pariet_inf-Supramar electrodes: []\n",
            "Subject D0065 significant G_parietal_sup, S_intrapariet_and_P_trans, G_pariet_inf-Angular, G_pariet_inf-Supramar electrodes: []\n",
            "Subject D0069 significant G_parietal_sup, S_intrapariet_and_P_trans, G_pariet_inf-Angular, G_pariet_inf-Supramar electrodes: []\n",
            "Subject D0071 significant G_parietal_sup, S_intrapariet_and_P_trans, G_pariet_inf-Angular, G_pariet_inf-Supramar electrodes: ['RTPS9']\n",
            "Subject D0077 significant G_parietal_sup, S_intrapariet_and_P_trans, G_pariet_inf-Angular, G_pariet_inf-Supramar electrodes: ['ROAS14', 'RPAS7', 'ROAS11']\n",
            "Subject D0090 significant G_parietal_sup, S_intrapariet_and_P_trans, G_pariet_inf-Angular, G_pariet_inf-Supramar electrodes: []\n"
          ]
        }
      ],
      "source": [
        "def filter_electrodes_by_roi(subjects_electrodes_dict, sig_chans_per_subject, roi_list):\n",
        "    \"\"\"\n",
        "    Filters electrodes based on specified ROIs and returns significant electrodes for each subject.\n",
        "\n",
        "    Args:\n",
        "    subjects_electrodes_dict (dict): A dictionary with subjects as keys and electrode-to-ROI mappings as values.\n",
        "    sig_chans_per_subject (dict): A dictionary with subjects as keys and lists of significant channels as values.\n",
        "    roi_list (list): A list of ROIs to filter electrodes.\n",
        "\n",
        "    Returns:\n",
        "    dict: A dictionary with subjects as keys and lists of significant electrodes in specified ROIs as values.\n",
        "    \"\"\"\n",
        "    filtered_electrodes_per_subject = {}\n",
        "\n",
        "    for sub, electrodes_dict in subjects_electrodes_dict.items():\n",
        "        filtered = {key: value for key, value in electrodes_dict['filtROI_dict'].items() \n",
        "                    if any(roi in key for roi in roi_list)}\n",
        "\n",
        "        # Aggregate electrodes into a list for each subject\n",
        "        filtered_electrodes = []\n",
        "        for electrodes in filtered.values():\n",
        "            filtered_electrodes.extend(electrodes)\n",
        "\n",
        "        filtered_electrodes_per_subject[sub] = filtered_electrodes\n",
        "        print(f'For subject {sub}, {\", \".join(roi_list)} electrodes are: {filtered_electrodes}')\n",
        "\n",
        "    # Now filter for significant electrodes\n",
        "    sig_filtered_electrodes_per_subject = {}\n",
        "\n",
        "    for sub, filtered_electrodes in filtered_electrodes_per_subject.items():\n",
        "        # Retrieve the list of significant channels for the subject\n",
        "        sig_chans = sig_chans_per_subject.get(sub, [])\n",
        "\n",
        "        # Find the intersection of filtered electrodes and significant channels for the subject\n",
        "        sig_filtered_electrodes = [elec for elec in filtered_electrodes if elec in sig_chans]\n",
        "\n",
        "        # Store the significant filtered electrodes for the subject\n",
        "        sig_filtered_electrodes_per_subject[sub] = sig_filtered_electrodes\n",
        "        print(f\"Subject {sub} significant {', '.join(roi_list)} electrodes: {sig_filtered_electrodes}\")\n",
        "\n",
        "    return filtered_electrodes_per_subject, sig_filtered_electrodes_per_subject\n",
        "\n",
        "# Example usage:\n",
        "dlpfc_rois = [\"G_front_middle\", \"G_front_sup\", \"S_front_inf\", \"S_front_middle\", \"S_front_sup\"] #dorsolateral prefrontal cortex\n",
        "acc_rois = [\"G_and_S_cingul-Ant\", \"G_and_S_cingul-Mid-Ant\"] #anterior cingulate cortex\n",
        "parietal_rois = [\"G_parietal_sup\", \"S_intrapariet_and_P_trans\", \"G_pariet_inf-Angular\", \"G_pariet_inf-Supramar\"] #superior parietal lobule, intraparietal sulcus, and inferior parietal lobule (split into angular gyrus and supramarginal gyrus)\n",
        "dlpfc_electrodes_per_subject, sig_dlpfc_electrodes_per_subject = filter_electrodes_by_roi(subjects_electrodestoROIs_dict, sig_chans_per_subject, dlpfc_rois)\n",
        "acc_electrodes_per_subject, sig_acc_electrodes_per_subject = filter_electrodes_by_roi(subjects_electrodestoROIs_dict, sig_chans_per_subject, acc_rois)\n",
        "parietal_electrodes_per_subject, sig_parietal_electrodes_per_subject = filter_electrodes_by_roi(subjects_electrodestoROIs_dict, sig_chans_per_subject, parietal_rois)"
      ]
    },
    {
      "cell_type": "code",
      "execution_count": null,
      "metadata": {},
      "outputs": [],
      "source": [
        "# grab all of the significant electrodes in a roi, and put them into one list, and then run plot_on_average\n",
        "\n",
        "HOME = os.path.expanduser(\"~\")\n",
        "\n",
        "# get box directory depending on OS\n",
        "if os.name == 'nt': # windows\n",
        "    LAB_root = os.path.join(HOME, \"Box\", \"CoganLab\")\n",
        "else: # mac\n",
        "    LAB_root = os.path.join(HOME, \"Library\", \"CloudStorage\", \"Box-Box\", \"CoganLab\")\n",
        "\n",
        "layout = get_data(\"GlobalLocal\", root=LAB_root)\n",
        "\n",
        "\n",
        "print(layout.derivatives)\n",
        "print(layout.derivatives.keys())\n",
        "\n",
        "\n",
        "base_path = os.path.join(LAB_root, \"BIDS-1.1_GlobalLocal\", \"BIDS\", \"derivatives\", \"freqFilt\", \"figs\")\n",
        "\n",
        "subjects = layout.get(return_type=\"id\", target=\"subject\")\n",
        "subjects_without_zeroes = [\"D\" + subj[1:].lstrip('0') for subj in subjects]\n",
        "\n",
        "allSigElectrodes = {}  # Initialize as an empty dictionary\n",
        "allElectrodes = {}\n",
        "\n",
        "for subj in subjects:\n",
        "\n",
        "    stim_filename = f'{base_path}\\\\{subj}\\\\sig_chans_{subj}_Stimulus.json'\n",
        "\n",
        "    stim_sig_chans = load_sig_chans(stim_filename)\n",
        "\n",
        "\n",
        "    # Add them to the dictionary, tagged with the subject without zeroes\n",
        "\n",
        "    subj_without_zeroes = \"D\" + subj[1:].lstrip('0')\n",
        "    allSigElectrodes[subj_without_zeroes] = combined_chans\n",
        "\n",
        "    # Get all electrodes for this subject and add them to the allElectrodes dict\n",
        "    info = subject_to_info(subj_without_zeroes)\n",
        "    allSubjElectrodes = mne.pick_channels(info.ch_names, [])\n",
        "    allElectrodes[subj_without_zeroes] = allSubjElectrodes\n",
        "\n",
        "\n",
        "plot_on_average(allSigElectrodes, hemi='both', color=(1,1,0))\n",
        "# plot_on_average(allElectrodes, hemi='both', color=(1,1,0))"
      ]
    },
    {
      "cell_type": "markdown",
      "metadata": {},
      "source": [
        "### plot each subject one by one on the fsaverage brain"
      ]
    },
    {
      "cell_type": "code",
      "execution_count": 3,
      "metadata": {},
      "outputs": [
        {
          "name": "stdout",
          "output_type": "stream",
          "text": [
            "{'derivatives/clean': BIDS Layout: ...alLocal\\BIDS\\derivatives\\clean | Subjects: 6 | Sessions: 0 | Runs: 24}\n",
            "KeysView({'derivatives/clean': BIDS Layout: ...alLocal\\BIDS\\derivatives\\clean | Subjects: 6 | Sessions: 0 | Runs: 24})\n",
            "Loaded significant channels for subject D0071\n",
            "Loaded significant channels for subject D0071\n"
          ]
        },
        {
          "name": "stderr",
          "output_type": "stream",
          "text": [
            "c:\\Users\\jz421\\Desktop\\GlobalLocal\\ieeg\\viz\\mri.py:580: RuntimeWarning: Fiducial point lpa not found, assuming identity RAS (non-zero origin) to head transformation\n",
            "  info.set_montage(montage)\n",
            "c:\\Users\\jz421\\Desktop\\GlobalLocal\\ieeg\\viz\\mri.py:580: RuntimeWarning: Fiducial point lpa not found, assuming identity RAS (non-zero origin) to head transformation\n",
            "  info.set_montage(montage)\n"
          ]
        },
        {
          "name": "stdout",
          "output_type": "stream",
          "text": [
            "fig: <mne.viz._brain._brain.Brain object at 0x0000012F0545D4D0>\n",
            "info: <Info | 8 non-empty values\n",
            " bads: []\n",
            " ch_names: RFO16, RFO14, RFO13, RFO12, RFO4, RFO3, RFO2, RIA16, RIA15, ...\n",
            " chs: 127 sEEG\n",
            " custom_ref_applied: False\n",
            " dig: 165 items (3 Cardinal, 162 EEG)\n",
            " highpass: 0.0 Hz\n",
            " lowpass: 1000.0 Hz\n",
            " meas_date: unspecified\n",
            " nchan: 127\n",
            " projs: []\n",
            " sfreq: 2000.0 Hz\n",
            ">\n",
            "sub: D71\n",
            "pos: OrderedDict([('RFO16', array([ 0.06118873,  0.0406194 , -0.00212834])), ('RFO14', array([ 0.05369581,  0.03893661, -0.00509436])), ('RFO13', array([ 0.05002104,  0.03836162, -0.00650167])), ('RFO12', array([ 0.04634628,  0.03778664, -0.00790898])), ('RFO4', array([ 0.01623097,  0.0305224 , -0.0199245 ])), ('RFO3', array([ 0.01248445,  0.02968095, -0.02140752])), ('RFO2', array([ 0.00873805,  0.0288396 , -0.02289051])), ('RIA16', array([0.02596348, 0.03897971, 0.05320638])), ('RIA15', array([0.02672262, 0.03660197, 0.04913819])), ('RIA14', array([0.02748176, 0.03422424, 0.04507001])), ('RIA13', array([0.02810575, 0.03192405, 0.0409939 ])), ('RIA12', array([0.02872986, 0.02962397, 0.03691781])), ('RIA11', array([0.02957381, 0.02731882, 0.0327714 ])), ('RIA10', array([0.03041764, 0.02501356, 0.02862496])), ('RIA9', array([0.03126159, 0.02270841, 0.02447855])), ('RIA8', array([0.03210553, 0.02040314, 0.02033212])), ('RIA7', array([0.03294937, 0.01809801, 0.01618558])), ('RIA6', array([0.03379332, 0.01579275, 0.01203915])), ('RIA5', array([0.03463726, 0.0134876 , 0.00789274])), ('RIA4', array([0.0354811 , 0.01118233, 0.0037463 ])), ('RIA3', array([ 0.03632504,  0.00887718, -0.00040011])), ('RIA2', array([ 0.03712212,  0.00656167, -0.00452374])), ('RIA1', array([ 0.03791909,  0.00424602, -0.00864728])), ('RIP16', array([0.03239656, 0.00394453, 0.06851188])), ('RIP15', array([0.03297041, 0.00291124, 0.06313977])), ('RIP14', array([0.03354415, 0.00187794, 0.05776766])), ('RIP12', array([3.47571427e-02, 1.09349893e-05, 4.70245523e-02])), ('RIP11', array([ 0.03539641, -0.00082276,  0.04165344])), ('RIP10', array([ 0.03603555, -0.00165647,  0.03628244])), ('RIP9', array([ 0.0366747 , -0.00249029,  0.03091143])), ('RIP8', array([ 0.03731384, -0.00332401,  0.02554044])), ('RIP7', array([ 0.0379531 , -0.0041577 ,  0.02016932])), ('RIP6', array([ 0.03859225, -0.00499141,  0.01479833])), ('RIP5', array([ 0.03923951, -0.00576946,  0.00949973])), ('RIP4', array([ 0.03988677, -0.00654751,  0.00420113])), ('RIP3', array([ 0.04038289, -0.00726439, -0.00114687])), ('RIP2', array([ 0.04099723, -0.00812658, -0.0065052 ])), ('RIP1', array([ 0.04161157, -0.00898888, -0.01186355])), ('RO16', array([ 0.06697171, -0.06206534,  0.00838672])), ('RO15', array([ 0.06305791, -0.06265256,  0.00739187])), ('RO14', array([ 0.05898124, -0.06313527,  0.00662323])), ('RO13', array([ 0.05490456, -0.06361798,  0.00585458])), ('RO12', array([ 0.05095772, -0.06422077,  0.00479664])), ('RO11', array([ 0.047011  , -0.06482344,  0.00373871])), ('RO10', array([ 0.04306416, -0.06542622,  0.00268076])), ('RO9', array([ 0.03911744, -0.06602891,  0.00162296])), ('RO8', array([ 0.0351706 , -0.0666317 ,  0.00056501])), ('RO7', array([ 0.03122388, -0.06723437, -0.00049291])), ('RO6', array([ 0.02727704, -0.06783715, -0.00155086])), ('RO5', array([ 0.02364139, -0.06847438, -0.00255136])), ('RO4', array([ 0.02000573, -0.0691116 , -0.00355187])), ('RO3', array([ 0.01609194, -0.06969882, -0.00454672])), ('RO2', array([ 0.01217803, -0.07028601, -0.00554169])), ('RO1', array([ 0.00826424, -0.07087311, -0.00653651])), ('RTPS10', array([ 0.07666999, -0.03654556,  0.01400466])), ('RTPS9', array([ 0.0737763 , -0.03599296,  0.01313106])), ('RTPS8', array([ 0.07088261, -0.03544036,  0.01225745])), ('RTPS7', array([ 0.06798892, -0.03488776,  0.01138385])), ('RTPS6', array([ 0.06451983, -0.03414961,  0.01022426])), ('RTPS5', array([ 0.06181798, -0.0336589 ,  0.00944593])), ('RTPS4', array([ 0.059116  , -0.03316808,  0.00866775])), ('RTPS3', array([ 0.05641415, -0.03267737,  0.00788943])), ('RTPS2', array([ 0.05352046, -0.03212477,  0.00701582])), ('RTPS1', array([ 0.05062677, -0.03157217,  0.00614222])), ('RTPI16', array([ 0.07935309, -0.03062554, -0.01211168])), ('RTPI15', array([ 0.07533144, -0.03122538, -0.01211828])), ('RTPI14', array([ 0.07130978, -0.03182522, -0.01212488])), ('RTPI13', array([ 0.06728813, -0.03242506, -0.01213149])), ('RTPI11', array([ 0.05931779, -0.0336245 , -0.01214371])), ('RTPI9', array([ 0.05113809, -0.0344965 , -0.01241078])), ('RTPI8', array([ 0.04690707, -0.03476892, -0.01267222])), ('RTPI7', array([ 0.04310074, -0.03539148, -0.01252368])), ('RTPI6', array([ 0.0392944 , -0.03601404, -0.01237513])), ('RTPI1', array([ 0.01902827, -0.03962318, -0.01221072])), ('RTPM16', array([ 0.08121293, -0.0231046 , -0.00828233])), ('RTPM15', array([ 0.07722525, -0.02364174, -0.00869459])), ('RTPM14', array([ 0.07323745, -0.0241789 , -0.00910673])), ('RTPM11', array([ 0.06157208, -0.02628139, -0.01090104])), ('RTPM10', array([ 0.05748822, -0.02681106, -0.01136526])), ('RTPM9', array([ 0.05340437, -0.02734072, -0.01182948])), ('RTPM8', array([ 0.04932051, -0.02787039, -0.0122937 ])), ('RTPM7', array([ 0.04523665, -0.02840005, -0.01275792])), ('RTMS12', array([ 0.09618281, -0.01444274, -0.0069969 ])), ('RTMS11', array([ 0.09199836, -0.01455116, -0.0070705 ])), ('RTMS10', array([ 0.08781402, -0.01465958, -0.0071441 ])), ('RTMS9', array([ 0.08362956, -0.014768  , -0.00721769])), ('RTMS8', array([ 0.07944522, -0.01487643, -0.00729129])), ('RTMS7', array([ 0.07526076, -0.01498485, -0.00736489])), ('RTMS6', array([ 0.07107642, -0.01509327, -0.00743848])), ('RTMS5', array([ 0.06689196, -0.0152017 , -0.00751208])), ('RTMS4', array([ 0.06280567, -0.01521585, -0.00756683])), ('RTMS3', array([ 0.05852316, -0.01541854, -0.00765927])), ('RTMS2', array([ 0.05433871, -0.01552696, -0.00773287])), ('RTMS1', array([ 0.05015436, -0.01563539, -0.00780646])), ('RTAS12', array([ 0.08722532,  0.00882899, -0.00239159])), ('RTAS11', array([ 0.08344011,  0.00765365, -0.00353642])), ('RTAS10', array([ 0.07965489,  0.0064783 , -0.00468126])), ('RTAS9', array([ 0.07586967,  0.00530296, -0.00582609])), ('RTAS6', array([ 0.06451402,  0.00177693, -0.00926059])), ('RTAS5', array([ 0.0607288 ,  0.00060158, -0.01040542])), ('RTAS4', array([ 0.05723657, -0.00054743, -0.01158295])), ('RTAS3', array([ 0.05315836, -0.00174911, -0.01269509])), ('RTAS2', array([ 0.04937315, -0.00292445, -0.01383992])), ('RTAS1', array([ 0.04558793, -0.00409979, -0.01498475])), ('RTMM14', array([ 0.06725885, -0.00697367, -0.01971433])), ('RTMM13', array([ 0.06316893, -0.00752525, -0.01991117])), ('RTMM12', array([ 0.05907789, -0.00810187, -0.02007096])), ('RTMM11', array([ 0.05498686, -0.00867849, -0.02023075])), ('RTMM10', array([ 0.05101895, -0.00914211, -0.02061851])), ('RTMM9', array([ 0.04705104, -0.00960584, -0.02100629])), ('RTMM8', array([ 0.04308313, -0.01006946, -0.02139405])), ('RTMM1', array([ 0.01408988, -0.0141442 , -0.02227318])), ('RTAM16', array([ 0.07793   ,  0.00431036, -0.01679781])), ('RTAM15', array([ 0.07393542,  0.00389494, -0.01746325])), ('RTAM14', array([ 0.06994073,  0.00347943, -0.01812884])), ('RTAM13', array([ 0.06594604,  0.00306392, -0.01879442])), ('RTAM12', array([ 0.06195135,  0.0026484 , -0.01946001])), ('RTAM11', array([ 0.05795677,  0.00223298, -0.02012545])), ('RTAM10', array([ 0.05396208,  0.00181747, -0.02079103])), ('RTAM8', array([ 0.04603838,  0.00104027, -0.02203964])), ('RTAM7', array([ 0.04207653,  0.00065168, -0.02266394])), ('RTAM6', array([ 0.03811468,  0.00026308, -0.02328825])), ('RTAM5', array([ 0.03415283, -0.00012552, -0.02391255])), ('RTAM4', array([ 0.03007616, -0.00060823, -0.0246812 ])), ('RTAM3', array([ 0.02599948, -0.00109094, -0.02544984])), ('RTAM2', array([ 0.02200479, -0.00150646, -0.02611543])), ('RTAM1', array([ 0.01801021, -0.00192188, -0.02678087]))])\n",
            "labels_every: 1\n",
            "hemi: split\n",
            "fig attributes: ['__class__', '__delattr__', '__dict__', '__dir__', '__doc__', '__eq__', '__format__', '__ge__', '__getattribute__', '__getstate__', '__gt__', '__hash__', '__init__', '__init_subclass__', '__le__', '__lt__', '__module__', '__ne__', '__new__', '__reduce__', '__reduce_ex__', '__repr__', '__setattr__', '__sizeof__', '__str__', '__subclasshook__', '__weakref__', '_actors', '_add_actor', '_add_label_glyph', '_add_vertex_glyph', '_add_volume_data', '_advance', '_alpha', '_annotation_labels', '_annots', '_bg_color', '_block', '_brain_color', '_check_hemi', '_check_hemis', '_check_stc', '_clean', '_cleaned', '_clear_callbacks', '_clear_widgets', '_closed', '_cmap_range', '_configure_dock', '_configure_dock_colormap_widget', '_configure_dock_orientation_widget', '_configure_dock_playback_widget', '_configure_dock_time_widget', '_configure_dock_trace_widget', '_configure_help', '_configure_label_time_course', '_configure_menu', '_configure_mplcanvas', '_configure_picking', '_configure_playback', '_configure_scalar_bar', '_configure_shortcuts', '_configure_status_bar', '_configure_time_label', '_configure_tool_bar', '_configure_vertex_time_course', '_cortex_colormap', '_data', '_elevation_rng', '_fg_color', '_hash', '_hemi', '_hemis', '_interaction', '_iter_time', '_iter_views', '_labels', '_layered_meshes', '_lut_locked', '_make_movie_frames', '_n_times', '_no_lut_update', '_on_button_press', '_on_button_release', '_on_mouse_move', '_on_pick', '_play', '_remove', '_remove_label_glyph', '_remove_vertex_glyph', '_renderer', '_rigid', '_rotate_azimuth', '_rotate_elevation', '_save_movie', '_save_movie_tv', '_scalar_bar', '_setup_canonical_rotation', '_shift_time', '_silhouette', '_subject', '_subjects_dir', '_subplot_shape', '_surf', '_time_interp_funcs', '_time_interp_inv', '_time_interpolation', '_time_label_added', '_times', '_title', '_to_borders', '_to_time_index', '_units', '_unnamed_label_id', '_update_auto_scaling', '_update_fscale', '_update_glyphs', '_vertex_to_label_id', '_view_layout', '_views', 'add_annotation', 'add_data', 'add_dipole', 'add_foci', 'add_forward', 'add_head', 'add_label', 'add_sensors', 'add_skull', 'add_text', 'add_volume_labels', 'apply_auto_scaling', 'clear_glyphs', 'close', 'data', 'geo', 'get_picked_points', 'get_view', 'help', 'hemis', 'interaction', 'labels', 'plot_time_course', 'plot_time_line', 'plotter', 'remove_annotations', 'remove_data', 'remove_dipole', 'remove_forward', 'remove_head', 'remove_labels', 'remove_sensors', 'remove_skull', 'remove_text', 'remove_volume_labels', 'reset', 'reset_view', 'restore_user_scaling', 'save_image', 'save_movie', 'screenshot', 'set_data_smoothing', 'set_playback_speed', 'set_time', 'set_time_interpolation', 'set_time_point', 'setup_time_viewer', 'show', 'show_view', 'silhouette', 'time_interpolation', 'time_viewer', 'toggle_interface', 'toggle_playback', 'update_lut', 'views']\n",
            "fig shape: Attribute not found\n",
            "picks shape: 127, picks: ['RFO16', 'RFO14', 'RFO13', 'RFO12', 'RFO4', 'RFO3', 'RFO2', 'RIA16', 'RIA15', 'RIA14', 'RIA13', 'RIA12', 'RIA11', 'RIA10', 'RIA9', 'RIA8', 'RIA7', 'RIA6', 'RIA5', 'RIA4', 'RIA3', 'RIA2', 'RIA1', 'RIP16', 'RIP15', 'RIP14', 'RIP12', 'RIP11', 'RIP10', 'RIP9', 'RIP8', 'RIP7', 'RIP6', 'RIP5', 'RIP4', 'RIP3', 'RIP2', 'RIP1', 'RO16', 'RO15', 'RO14', 'RO13', 'RO12', 'RO11', 'RO10', 'RO9', 'RO8', 'RO7', 'RO6', 'RO5', 'RO4', 'RO3', 'RO2', 'RO1', 'RTPS10', 'RTPS9', 'RTPS8', 'RTPS7', 'RTPS6', 'RTPS5', 'RTPS4', 'RTPS3', 'RTPS2', 'RTPS1', 'RTPI16', 'RTPI15', 'RTPI14', 'RTPI13', 'RTPI11', 'RTPI9', 'RTPI8', 'RTPI7', 'RTPI6', 'RTPI1', 'RTPM16', 'RTPM15', 'RTPM14', 'RTPM11', 'RTPM10', 'RTPM9', 'RTPM8', 'RTPM7', 'RTMS12', 'RTMS11', 'RTMS10', 'RTMS9', 'RTMS8', 'RTMS7', 'RTMS6', 'RTMS5', 'RTMS4', 'RTMS3', 'RTMS2', 'RTMS1', 'RTAS12', 'RTAS11', 'RTAS10', 'RTAS9', 'RTAS6', 'RTAS5', 'RTAS4', 'RTAS3', 'RTAS2', 'RTAS1', 'RTMM14', 'RTMM13', 'RTMM12', 'RTMM11', 'RTMM10', 'RTMM9', 'RTMM8', 'RTMM1', 'RTAM16', 'RTAM15', 'RTAM14', 'RTAM13', 'RTAM12', 'RTAM11', 'RTAM10', 'RTAM8', 'RTAM7', 'RTAM6', 'RTAM5', 'RTAM4', 'RTAM3', 'RTAM2', 'RTAM1']\n",
            "names shape: 127, names: ['RFO16', 'RFO14', 'RFO13', 'RFO12', 'RFO4', 'RFO3', 'RFO2', 'RIA16', 'RIA15', 'RIA14', 'RIA13', 'RIA12', 'RIA11', 'RIA10', 'RIA9', 'RIA8', 'RIA7', 'RIA6', 'RIA5', 'RIA4', 'RIA3', 'RIA2', 'RIA1', 'RIP16', 'RIP15', 'RIP14', 'RIP12', 'RIP11', 'RIP10', 'RIP9', 'RIP8', 'RIP7', 'RIP6', 'RIP5', 'RIP4', 'RIP3', 'RIP2', 'RIP1', 'RO16', 'RO15', 'RO14', 'RO13', 'RO12', 'RO11', 'RO10', 'RO9', 'RO8', 'RO7', 'RO6', 'RO5', 'RO4', 'RO3', 'RO2', 'RO1', 'RTPS10', 'RTPS9', 'RTPS8', 'RTPS7', 'RTPS6', 'RTPS5', 'RTPS4', 'RTPS3', 'RTPS2', 'RTPS1', 'RTPI16', 'RTPI15', 'RTPI14', 'RTPI13', 'RTPI11', 'RTPI9', 'RTPI8', 'RTPI7', 'RTPI6', 'RTPI1', 'RTPM16', 'RTPM15', 'RTPM14', 'RTPM11', 'RTPM10', 'RTPM9', 'RTPM8', 'RTPM7', 'RTMS12', 'RTMS11', 'RTMS10', 'RTMS9', 'RTMS8', 'RTMS7', 'RTMS6', 'RTMS5', 'RTMS4', 'RTMS3', 'RTMS2', 'RTMS1', 'RTAS12', 'RTAS11', 'RTAS10', 'RTAS9', 'RTAS6', 'RTAS5', 'RTAS4', 'RTAS3', 'RTAS2', 'RTAS1', 'RTMM14', 'RTMM13', 'RTMM12', 'RTMM11', 'RTMM10', 'RTMM9', 'RTMM8', 'RTMM1', 'RTAM16', 'RTAM15', 'RTAM14', 'RTAM13', 'RTAM12', 'RTAM11', 'RTAM10', 'RTAM8', 'RTAM7', 'RTAM6', 'RTAM5', 'RTAM4', 'RTAM3', 'RTAM2', 'RTAM1']\n"
          ]
        },
        {
          "ename": "IndexError",
          "evalue": "Column index is out of range (1)",
          "output_type": "error",
          "traceback": [
            "\u001b[1;31m---------------------------------------------------------------------------\u001b[0m",
            "\u001b[1;31mIndexError\u001b[0m                                Traceback (most recent call last)",
            "Cell \u001b[1;32mIn[3], line 47\u001b[0m\n\u001b[0;32m     43\u001b[0m allSubjElectrodes \u001b[39m=\u001b[39m mne\u001b[39m.\u001b[39mpick_channels(info\u001b[39m.\u001b[39mch_names, [])\n\u001b[0;32m     44\u001b[0m allElectrodes[subj_without_zeroes] \u001b[39m=\u001b[39m allSubjElectrodes\n\u001b[1;32m---> 47\u001b[0m plot_on_average(allSigElectrodes, hemi\u001b[39m=\u001b[39;49m\u001b[39m'\u001b[39;49m\u001b[39mboth\u001b[39;49m\u001b[39m'\u001b[39;49m, color\u001b[39m=\u001b[39;49m(\u001b[39m1\u001b[39;49m,\u001b[39m1\u001b[39;49m,\u001b[39m0\u001b[39;49m))\n\u001b[0;32m     48\u001b[0m plot_on_average(allElectrodes, hemi\u001b[39m=\u001b[39m\u001b[39m'\u001b[39m\u001b[39mboth\u001b[39m\u001b[39m'\u001b[39m, color\u001b[39m=\u001b[39m(\u001b[39m1\u001b[39m,\u001b[39m1\u001b[39m,\u001b[39m0\u001b[39m))\n",
            "File \u001b[1;32mc:\\Users\\jz421\\Desktop\\GlobalLocal\\ieeg\\viz\\mri.py:306\u001b[0m, in \u001b[0;36mplot_on_average\u001b[1;34m(sigs, subj_dir, rm_wm, picks, surface, hemi, color, size, fig)\u001b[0m\n\u001b[0;32m    302\u001b[0m         to_fsaverage \u001b[39m=\u001b[39m mne\u001b[39m.\u001b[39mread_talxfm(subj, subj_dir)\n\u001b[0;32m    303\u001b[0m         to_fsaverage \u001b[39m=\u001b[39m mne\u001b[39m.\u001b[39mtransforms\u001b[39m.\u001b[39mTransform(fro\u001b[39m=\u001b[39m\u001b[39m'\u001b[39m\u001b[39mhead\u001b[39m\u001b[39m'\u001b[39m, to\u001b[39m=\u001b[39m\u001b[39m'\u001b[39m\u001b[39mmri\u001b[39m\u001b[39m'\u001b[39m,\n\u001b[0;32m    304\u001b[0m                                             trans\u001b[39m=\u001b[39mto_fsaverage[\u001b[39m'\u001b[39m\u001b[39mtrans\u001b[39m\u001b[39m'\u001b[39m])\n\u001b[1;32m--> 306\u001b[0m         plot_subj(subj, subj_dir, picks\u001b[39m=\u001b[39;49melectrodes, no_wm\u001b[39m=\u001b[39;49m\u001b[39mFalse\u001b[39;49;00m, fig\u001b[39m=\u001b[39;49mfig,\n\u001b[0;32m    307\u001b[0m               trans\u001b[39m=\u001b[39;49mto_fsaverage, color\u001b[39m=\u001b[39;49mcolor, size\u001b[39m=\u001b[39;49msize,\n\u001b[0;32m    308\u001b[0m               labels_every\u001b[39m=\u001b[39;49m\u001b[39m1\u001b[39;49m)\n\u001b[0;32m    310\u001b[0m     \u001b[39mreturn\u001b[39;00m fig  \u001b[39m# Return the figure after plotting all electrodes in the dictionary\u001b[39;00m\n\u001b[0;32m    312\u001b[0m \u001b[39melif\u001b[39;00m \u001b[39misinstance\u001b[39m(sigs, \u001b[39mlist\u001b[39m):\n",
            "File \u001b[1;32mc:\\Users\\jz421\\Desktop\\GlobalLocal\\ieeg\\viz\\mri.py:519\u001b[0m, in \u001b[0;36mplot_subj\u001b[1;34m(inst, subj_dir, picks, no_wm, labels_every, surface, hemi, fig, trans, color, size, title)\u001b[0m\n\u001b[0;32m    516\u001b[0m \u001b[39mif\u001b[39;00m labels_every \u001b[39mis\u001b[39;00m \u001b[39mnot\u001b[39;00m \u001b[39mNone\u001b[39;00m:\n\u001b[0;32m    517\u001b[0m     settings \u001b[39m=\u001b[39m \u001b[39mdict\u001b[39m(shape\u001b[39m=\u001b[39m\u001b[39mNone\u001b[39;00m, always_visible\u001b[39m=\u001b[39m\u001b[39mTrue\u001b[39;00m, text_color\u001b[39m=\u001b[39m(\u001b[39m0\u001b[39m, \u001b[39m0\u001b[39m, \u001b[39m0\u001b[39m),\n\u001b[0;32m    518\u001b[0m                     bold\u001b[39m=\u001b[39m\u001b[39mFalse\u001b[39;00m)\n\u001b[1;32m--> 519\u001b[0m     _add_labels(fig, info, sub, pos, labels_every, hemi,\n\u001b[0;32m    520\u001b[0m                 (left, right), \u001b[39m*\u001b[39;49m\u001b[39m*\u001b[39;49msettings)\n\u001b[0;32m    521\u001b[0m \u001b[39mreturn\u001b[39;00m fig\n",
            "File \u001b[1;32mc:\\Users\\jz421\\Desktop\\GlobalLocal\\ieeg\\viz\\mri.py:539\u001b[0m, in \u001b[0;36m_add_labels\u001b[1;34m(fig, info, sub, pos, every, hemi, lr, **kwargs)\u001b[0m\n\u001b[0;32m    536\u001b[0m         pos \u001b[39m=\u001b[39m positions[\u001b[39mslice\u001b[39m(every \u001b[39m-\u001b[39m \u001b[39m1\u001b[39m, info[\u001b[39m'\u001b[39m\u001b[39mnchan\u001b[39m\u001b[39m'\u001b[39m], every)]\n\u001b[0;32m    537\u001b[0m         plt_names \u001b[39m=\u001b[39m [\u001b[39mf\u001b[39m\u001b[39m'\u001b[39m\u001b[39m{\u001b[39;00msub\u001b[39m}\u001b[39;00m\u001b[39m-\u001b[39m\u001b[39m{\u001b[39;00mn\u001b[39m}\u001b[39;00m\u001b[39m'\u001b[39m \u001b[39mfor\u001b[39;00m n \u001b[39min\u001b[39;00m names \u001b[39mif\u001b[39;00m\n\u001b[0;32m    538\u001b[0m                      n\u001b[39m.\u001b[39mstartswith([\u001b[39m'\u001b[39m\u001b[39mL\u001b[39m\u001b[39m'\u001b[39m, \u001b[39m'\u001b[39m\u001b[39mR\u001b[39m\u001b[39m'\u001b[39m][hems])]\n\u001b[1;32m--> 539\u001b[0m         fig\u001b[39m.\u001b[39;49mplotter\u001b[39m.\u001b[39;49msubplot(\u001b[39m0\u001b[39;49m, hems)\n\u001b[0;32m    540\u001b[0m         fig\u001b[39m.\u001b[39mplotter\u001b[39m.\u001b[39madd_point_labels(pos, plt_names, \u001b[39m*\u001b[39m\u001b[39m*\u001b[39mkwargs)\n\u001b[0;32m    541\u001b[0m \u001b[39melse\u001b[39;00m:\n",
            "File \u001b[1;32mc:\\Users\\jz421\\AppData\\Local\\anaconda3\\envs\\ieeg\\Lib\\site-packages\\pyvista\\plotting\\plotting.py:931\u001b[0m, in \u001b[0;36mBasePlotter.subplot\u001b[1;34m(self, index_row, index_column)\u001b[0m\n\u001b[0;32m    905\u001b[0m \u001b[39mdef\u001b[39;00m \u001b[39msubplot\u001b[39m(\u001b[39mself\u001b[39m, index_row, index_column\u001b[39m=\u001b[39m\u001b[39mNone\u001b[39;00m):\n\u001b[0;32m    906\u001b[0m \u001b[39m    \u001b[39m\u001b[39m\"\"\"Set the active subplot.\u001b[39;00m\n\u001b[0;32m    907\u001b[0m \n\u001b[0;32m    908\u001b[0m \u001b[39m    Parameters\u001b[39;00m\n\u001b[1;32m   (...)\u001b[0m\n\u001b[0;32m    929\u001b[0m \n\u001b[0;32m    930\u001b[0m \u001b[39m    \"\"\"\u001b[39;00m\n\u001b[1;32m--> 931\u001b[0m     \u001b[39mself\u001b[39;49m\u001b[39m.\u001b[39;49mrenderers\u001b[39m.\u001b[39;49mset_active_renderer(index_row, index_column)\n",
            "File \u001b[1;32mc:\\Users\\jz421\\AppData\\Local\\anaconda3\\envs\\ieeg\\Lib\\site-packages\\pyvista\\plotting\\renderers.py:296\u001b[0m, in \u001b[0;36mRenderers.set_active_renderer\u001b[1;34m(self, index_row, index_column)\u001b[0m\n\u001b[0;32m    294\u001b[0m     \u001b[39mraise\u001b[39;00m \u001b[39mIndexError\u001b[39;00m(\u001b[39mf\u001b[39m\u001b[39m'\u001b[39m\u001b[39mRow index is out of range (\u001b[39m\u001b[39m{\u001b[39;00m\u001b[39mself\u001b[39m\u001b[39m.\u001b[39mshape[\u001b[39m0\u001b[39m]\u001b[39m}\u001b[39;00m\u001b[39m)\u001b[39m\u001b[39m'\u001b[39m)\n\u001b[0;32m    295\u001b[0m \u001b[39mif\u001b[39;00m index_column \u001b[39m<\u001b[39m \u001b[39m0\u001b[39m \u001b[39mor\u001b[39;00m index_column \u001b[39m>\u001b[39m\u001b[39m=\u001b[39m \u001b[39mself\u001b[39m\u001b[39m.\u001b[39mshape[\u001b[39m1\u001b[39m]:\n\u001b[1;32m--> 296\u001b[0m     \u001b[39mraise\u001b[39;00m \u001b[39mIndexError\u001b[39;00m(\u001b[39mf\u001b[39m\u001b[39m'\u001b[39m\u001b[39mColumn index is out of range (\u001b[39m\u001b[39m{\u001b[39;00m\u001b[39mself\u001b[39m\u001b[39m.\u001b[39mshape[\u001b[39m1\u001b[39m]\u001b[39m}\u001b[39;00m\u001b[39m)\u001b[39m\u001b[39m'\u001b[39m)\n\u001b[0;32m    297\u001b[0m \u001b[39mself\u001b[39m\u001b[39m.\u001b[39m_active_index \u001b[39m=\u001b[39m \u001b[39mself\u001b[39m\u001b[39m.\u001b[39mloc_to_index((index_row, index_column))\n",
            "\u001b[1;31mIndexError\u001b[0m: Column index is out of range (1)"
          ]
        }
      ],
      "source": [
        "# grab all of the significant electrodes, and put them into one list, and then run plot_on_average\n",
        "\n",
        "HOME = os.path.expanduser(\"~\")\n",
        "\n",
        "# get box directory depending on OS\n",
        "if os.name == 'nt': # windows\n",
        "    LAB_root = os.path.join(HOME, \"Box\", \"CoganLab\")\n",
        "else: # mac\n",
        "    LAB_root = os.path.join(HOME, \"Library\", \"CloudStorage\", \"Box-Box\", \"CoganLab\")\n",
        "\n",
        "layout = get_data(\"GlobalLocal\", root=LAB_root)\n",
        "\n",
        "\n",
        "print(layout.derivatives)\n",
        "print(layout.derivatives.keys())\n",
        "\n",
        "\n",
        "base_path = os.path.join(LAB_root, \"BIDS-1.1_GlobalLocal\", \"BIDS\", \"derivatives\", \"freqFilt\", \"figs\")\n",
        "\n",
        "subjects = layout.get(return_type=\"id\", target=\"subject\")\n",
        "subjects_without_zeroes = [\"D\" + subj[1:].lstrip('0') for subj in subjects]\n",
        "allSigElectrodes = {}  # Initialize as an empty dictionary\n",
        "allElectrodes = {}\n",
        "\n",
        "subj = 'D0071'\n",
        "    \n",
        "resp_filename = f'{base_path}\\\\{subj}\\\\sig_chans_{subj}_Response.json'\n",
        "stim_filename = f'{base_path}\\\\{subj}\\\\sig_chans_{subj}_Stimulus.json'\n",
        "\n",
        "resp_sig_chans = load_sig_chans(resp_filename)\n",
        "stim_sig_chans = load_sig_chans(stim_filename)\n",
        "\n",
        "# Combine the significant electrodes for this subject\n",
        "combined_chans = resp_sig_chans + stim_sig_chans\n",
        "\n",
        "# Add them to the dictionary, tagged with the subject without zeroes\n",
        "\n",
        "subj_without_zeroes = \"D\" + subj[1:].lstrip('0')\n",
        "allSigElectrodes[subj_without_zeroes] = combined_chans\n",
        "\n",
        "# Get all electrodes for this subject and add them to the allElectrodes dict\n",
        "info = subject_to_info(subj_without_zeroes)\n",
        "allSubjElectrodes = mne.pick_channels(info.ch_names, [])\n",
        "allElectrodes[subj_without_zeroes] = allSubjElectrodes\n",
        "\n",
        "\n",
        "plot_on_average(allSigElectrodes, hemi='both', color=(1,1,0))\n",
        "plot_on_average(allElectrodes, hemi='both', color=(1,1,0))"
      ]
    }
  ],
  "metadata": {
    "kernelspec": {
      "display_name": "Python 3",
      "language": "python",
      "name": "python3"
    },
    "language_info": {
      "codemirror_mode": {
        "name": "ipython",
        "version": 3
      },
      "file_extension": ".py",
      "mimetype": "text/x-python",
      "name": "python",
      "nbconvert_exporter": "python",
      "pygments_lexer": "ipython3",
      "version": "3.11.7"
    }
  },
  "nbformat": 4,
  "nbformat_minor": 0
}
