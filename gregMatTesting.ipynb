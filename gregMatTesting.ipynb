{
 "cells": [
  {
   "cell_type": "markdown",
   "metadata": {},
   "source": [
    "this looks at the clusters from time perm cluster stats and gets their average length across electrodes, and also bins them in a histogram to see the distribution  \n",
    "also should get the average cluster length"
   ]
  },
  {
   "cell_type": "code",
   "execution_count": null,
   "metadata": {},
   "outputs": [],
   "source": [
    "###\n",
    "import sys\n",
    "print(sys.path)\n",
    "sys.path.append(\"C:/Users/jz421/Desktop/GlobalLocal/IEEG_Pipelines/\") #need to do this cuz otherwise ieeg isn't added to path...\n",
    "\n",
    "from ieeg.navigate import channel_outlier_marker, trial_ieeg, crop_empty_data, \\\n",
    "    outliers_to_nan\n",
    "from ieeg.io import raw_from_layout, get_data\n",
    "from ieeg.timefreq.utils import crop_pad\n",
    "from ieeg.timefreq import gamma\n",
    "from ieeg.calc.scaling import rescale\n",
    "import mne\n",
    "import os\n",
    "import numpy as np\n",
    "from ieeg.calc.reshape import make_data_same\n",
    "from ieeg.calc.stats import time_perm_cluster\n",
    "from ieeg.viz.mri import gen_labels\n",
    "\n",
    "from misc_functions import calculate_RTs, save_channels_to_file, save_sig_chans, load_sig_chans\n",
    "import matplotlib.pyplot as plt\n"
   ]
  },
  {
   "cell_type": "code",
   "execution_count": null,
   "metadata": {},
   "outputs": [],
   "source": [
    "subjects = ['D0057', 'D0059', 'D0063', 'D0065', 'D0069', 'D0071', 'D0077', 'D0090', 'D0094', 'D0100', 'D0102', 'D0103']\n",
    "\n",
    "group_mat = []\n",
    "\n",
    "adjusted_sampling_freq = 1024\n",
    "\n",
    "for sub in subjects:\n",
    "    task = 'GlobalLocal'\n",
    "    output_name = \"Stimulus_fixationCrossBase_1sec_mirror_0to1Test\"\n",
    "    LAB_root = None\n",
    "    channels = None\n",
    "    full_trial_base = False\n",
    "\n",
    "    if LAB_root is None:\n",
    "        HOME = os.path.expanduser(\"~\")\n",
    "        if os.name == 'nt':  # windows\n",
    "            LAB_root = os.path.join(HOME, \"Box\", \"CoganLab\")\n",
    "        else:  # mac\n",
    "            LAB_root = os.path.join(HOME, \"Library\", \"CloudStorage\", \"Box-Box\",\n",
    "                                    \"CoganLab\")\n",
    "\n",
    "    layout = get_data(task, root=LAB_root)\n",
    "    save_dir = os.path.join(layout.root, 'derivatives', 'freqFilt', 'figs', sub)\n",
    "    if not os.path.exists(save_dir):\n",
    "        os.makedirs(save_dir)\n",
    "\n",
    "    # Assuming `mat` is your array and `save_dir` is the directory where you want to save it\n",
    "    mat_save_path = os.path.join(save_dir, f'{output_name}_mat.npy')\n",
    "\n",
    "    # load the mat array\n",
    "    mat = np.load(mat_save_path)\n",
    "\n",
    "    group_mat.append(mat)\n",
    "\n",
    "# Convert group_mat to a numpy array for calculation\n",
    "group_mat_np = np.vstack(group_mat)  # Vertically stack the matrices\n",
    "\n",
    "# Calculate the sum of each row for histogram\n",
    "row_sums = group_mat_np.sum(axis=1)\n",
    "\n",
    "row_sums_sig_electrodes = row_sums[row_sums > 0]\n",
    "\n",
    "# Convert the sums to milliseconds\n",
    "ms_per_sample = 1000 / adjusted_sampling_freq\n",
    "row_sums_ms = row_sums * ms_per_sample\n",
    "row_sums_sig_electrodes_ms = row_sums_sig_electrodes * ms_per_sample\n",
    "\n",
    "# Assuming `row_sums_ms` contains your data\n",
    "data = row_sums_ms\n",
    "\n",
    "# Use numpy.histogram to get the bin edges\n",
    "counts, bin_edges = np.histogram(data, bins='auto')\n",
    "\n",
    "# Calculate bin widths as the difference between consecutive bin edges\n",
    "bin_widths = np.diff(bin_edges)\n",
    "\n",
    "# Print or analyze the bin widths\n",
    "print(\"Bin widths:\", bin_widths)\n",
    "\n",
    "# Plotting the histogram\n",
    "plt.hist(row_sums_ms, bins='auto')  # 'auto' lets matplotlib decide the number of bins\n",
    "plt.title('Histogram of Significant Timepoints per Electrode')\n",
    "plt.xlabel('Total Duration of Significance (ms)')\n",
    "plt.ylabel('# of Electrodes in bin')\n",
    "plt.show()"
   ]
  },
  {
   "cell_type": "markdown",
   "metadata": {},
   "source": [
    "get onset times"
   ]
  },
  {
   "cell_type": "code",
   "execution_count": null,
   "metadata": {},
   "outputs": [],
   "source": [
    "def find_clusters_and_onsets(data):\n",
    "    onsets = []\n",
    "    for row in data:\n",
    "        in_cluster = False\n",
    "        for idx, val in enumerate(row):\n",
    "            if val > 0 and not in_cluster:\n",
    "                onsets.append(idx)  # Save the onset time\n",
    "                in_cluster = True  # Now we're inside a cluster\n",
    "            elif val == 0:\n",
    "                in_cluster = False  # Exiting the cluster\n",
    "    return onsets\n",
    "\n",
    "# Convert onsets to milliseconds\n",
    "onsets = find_clusters_and_onsets(group_mat_np)\n",
    "onsets_ms = [onset * ms_per_sample for onset in onsets]\n",
    "onsets_s = [onset_ms / 1000 for onset_ms in onsets_ms]\n",
    "\n",
    "fig, ax = plt.subplots()\n",
    "ax.hist(onsets_s, bins='auto')\n",
    "ax.set_title('Histogram of Cluster Onset Times')\n",
    "ax.set_xlabel('Time from Stimulus Onset (s)')\n",
    "ax.set_ylabel('Frequency (Hz)')\n",
    "\n",
    "# Overlay a vertical line, adjust the time according to your context\n",
    "# Here, you need to convert 0.5 seconds to milliseconds or the equivalent unit used in your `onsets_ms`\n",
    "# Assuming 0.5 seconds should be directly comparable to the values in `onsets_ms`\n",
    "ax.axvline(x=0.5, color='k', linestyle='--', linewidth=1)  # 0.5 sec = 500 ms\n",
    "\n",
    "# Remove top and right borders\n",
    "ax.spines['top'].set_visible(False)\n",
    "ax.spines['right'].set_visible(False)\n",
    "\n",
    "plt.show()\n",
    "\n"
   ]
  },
  {
   "cell_type": "code",
   "execution_count": null,
   "metadata": {},
   "outputs": [],
   "source": [
    "# Assuming `row_sums_ms` contains your data\n",
    "data = onsets_ms\n",
    "\n",
    "# Use numpy.histogram to get the bin edges\n",
    "counts, bin_edges = np.histogram(data, bins='auto')\n",
    "\n",
    "# Calculate bin widths as the difference between consecutive bin edges\n",
    "bin_widths = np.diff(bin_edges)\n",
    "\n",
    "# Print or analyze the bin widths\n",
    "print(\"Bin widths:\", bin_widths)"
   ]
  },
  {
   "cell_type": "markdown",
   "metadata": {},
   "source": [
    "plot only sig electrodes"
   ]
  },
  {
   "cell_type": "code",
   "execution_count": null,
   "metadata": {},
   "outputs": [],
   "source": [
    "# Assuming `row_sums_ms` contains your data\n",
    "data = row_sums_sig_electrodes_ms\n",
    "\n",
    "# Use numpy.histogram to get the bin edges\n",
    "counts, bin_edges = np.histogram(data, bins='auto')\n",
    "\n",
    "# Calculate bin widths as the difference between consecutive bin edges\n",
    "bin_widths = np.diff(bin_edges)\n",
    "\n",
    "# Print or analyze the bin widths\n",
    "print(\"Bin widths:\", bin_widths)\n",
    "# Plotting the histogram\n",
    "plt.hist(row_sums_sig_electrodes_ms, bins='auto')  # 'auto' lets matplotlib decide the number of bins\n",
    "plt.title('Histogram of Significant Timepoints per Electrode')\n",
    "plt.xlabel('Total Duration of Significance (ms)')\n",
    "plt.ylabel('# of Sig Electrodes in bin')\n",
    "plt.show()"
   ]
  },
  {
   "cell_type": "markdown",
   "metadata": {},
   "source": [
    "get avg and std of row values, to see the avg and std of total sig time across electrodes"
   ]
  },
  {
   "cell_type": "code",
   "execution_count": null,
   "metadata": {},
   "outputs": [],
   "source": [
    "avg_total_sig_time = row_sums_sig_electrodes_ms.mean()\n",
    "std_total_sig_time = row_sums_sig_electrodes_ms.std()\n",
    "\n",
    "print('avg total sig time: ', avg_total_sig_time)\n",
    "print('stdev total sig time: ', std_total_sig_time)"
   ]
  },
  {
   "cell_type": "markdown",
   "metadata": {},
   "source": [
    "now get the avg length and std of each cluster, to get the avg and std of cluster size across electrodes"
   ]
  },
  {
   "cell_type": "code",
   "execution_count": null,
   "metadata": {},
   "outputs": [],
   "source": [
    "def find_clusters(row):\n",
    "    \"\"\"Find contiguous series of 1's and return their lengths.\"\"\"\n",
    "    return [len(cluster) for cluster in ''.join(map(str, row)).split('0') if cluster]\n",
    "\n",
    "def compute_stats(group_mat_np):\n",
    "    \"\"\"Compute average and standard deviation of cluster lengths.\"\"\"\n",
    "    cluster_lengths = [find_clusters(row) for row in group_mat_np]\n",
    "    avg_lengths = [np.mean(clusters) if clusters else 0 for clusters in cluster_lengths]\n",
    "    std_lengths = [np.std(clusters) if clusters else 0 for clusters in cluster_lengths]\n",
    "    \n",
    "    # For significant electrodes only (excluding rows with all zeroes)\n",
    "    sig_rows = group_mat_np[np.any(group_mat_np == 1, axis=1)]\n",
    "    sig_cluster_lengths = [find_clusters(row) for row in sig_rows]\n",
    "    sig_avg_lengths = [np.mean(clusters) if clusters else 0 for clusters in sig_cluster_lengths]\n",
    "    sig_std_lengths = [np.std(clusters) if clusters else 0 for clusters in sig_cluster_lengths]\n",
    "    \n",
    "    return cluster_lengths, avg_lengths, std_lengths, sig_avg_lengths, sig_std_lengths\n",
    "\n",
    "# Compute the statistics\n",
    "cluster_lengths, avg_lengths, std_lengths, sig_avg_lengths, sig_std_lengths = compute_stats(group_mat_np) # honestly i only need sig_avg_lengths\n",
    "\n",
    "# Convert sig_avg_lengths to a numpy array to perform element-wise multiplication\n",
    "sig_avg_lengths_np = np.array(sig_avg_lengths)\n",
    "sig_avg_lengths_ms = sig_avg_lengths_np * ms_per_sample\n",
    "\n",
    "# Create histograms of average cluster lengths\n",
    "# For all electrodes\n",
    "# plt.hist(avg_lengths, bins=np.arange(min(avg_lengths), max(avg_lengths) + 1, 1), alpha=0.5, label='All Electrodes')\n",
    "# For significant electrodes\n",
    "plt.hist(sig_avg_lengths_ms, bins=np.arange(min(sig_avg_lengths_ms), max(sig_avg_lengths_ms) + 1, 1), alpha=0.5)\n",
    "plt.title('Histogram of Average Cluster Lengths (ms)')\n",
    "plt.xlabel('Average Cluster Length (ms)')\n",
    "plt.ylabel('Number of Electrodes with this Avg Cluster Length')\n",
    "plt.legend()\n",
    "plt.show()"
   ]
  },
  {
   "cell_type": "code",
   "execution_count": null,
   "metadata": {},
   "outputs": [],
   "source": [
    "min(sig_avg_lengths_ms)"
   ]
  },
  {
   "cell_type": "code",
   "execution_count": null,
   "metadata": {},
   "outputs": [],
   "source": [
    "non_empty_clusters = [cluster for cluster in cluster_lengths if cluster]"
   ]
  },
  {
   "cell_type": "code",
   "execution_count": null,
   "metadata": {},
   "outputs": [],
   "source": [
    "non_empty_clusters_sorted = sorted(non_empty_clusters, key=lambda x: min(x))"
   ]
  },
  {
   "cell_type": "code",
   "execution_count": null,
   "metadata": {},
   "outputs": [],
   "source": [
    "non_empty_clusters_sorted_ms = [[length * ms_per_sample for length in cluster] for cluster in non_empty_clusters_sorted]\n",
    "non_empty_clusters_sorted_ms"
   ]
  },
  {
   "cell_type": "code",
   "execution_count": null,
   "metadata": {},
   "outputs": [],
   "source": []
  }
 ],
 "metadata": {
  "kernelspec": {
   "display_name": "ieeg",
   "language": "python",
   "name": "python3"
  },
  "language_info": {
   "codemirror_mode": {
    "name": "ipython",
    "version": 3
   },
   "file_extension": ".py",
   "mimetype": "text/x-python",
   "name": "python",
   "nbconvert_exporter": "python",
   "pygments_lexer": "ipython3",
   "version": "3.11.7"
  }
 },
 "nbformat": 4,
 "nbformat_minor": 2
}
